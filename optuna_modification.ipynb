{
 "cells": [
  {
   "cell_type": "code",
   "execution_count": 2,
   "id": "0fdd19d9",
   "metadata": {},
   "outputs": [
    {
     "name": "stderr",
     "output_type": "stream",
     "text": [
      "c:\\Users\\ayush\\OneDrive - iiit-b\\CollegeAcads\\Sem6\\MOML\\Project\\env\\Lib\\site-packages\\tqdm\\auto.py:21: TqdmWarning: IProgress not found. Please update jupyter and ipywidgets. See https://ipywidgets.readthedocs.io/en/stable/user_install.html\n",
      "  from .autonotebook import tqdm as notebook_tqdm\n"
     ]
    }
   ],
   "source": [
    "import numpy as np\n",
    "import pandas as pd\n",
    "import xgboost as xgb\n",
    "from sklearn.model_selection import KFold\n",
    "from sklearn.metrics import accuracy_score\n",
    "import optuna\n",
    "import plotly.express as px\n",
    "\n",
    "# Load and prepare data\n",
    "DATA_PATH = 'german_credit_data_cleaned.csv'\n",
    "df = pd.read_csv(DATA_PATH)\n",
    "y = df['Risk_good'].values\n",
    "X_full = df.drop(columns=['Risk_good'])\n",
    "sensitive = df['Sex_male'].values\n",
    "\n"
   ]
  },
  {
   "cell_type": "code",
   "execution_count": 3,
   "id": "fe121556",
   "metadata": {},
   "outputs": [],
   "source": [
    "# Define the custom objective function factory\n",
    "def make_custom_obj(sens_array, alpha=0.5):\n",
    "    def custom_obj(preds, dmatrix):\n",
    "        labels = dmatrix.get_label()\n",
    "        preds_prob = 1.0 / (1.0 + np.exp(-preds))\n",
    "        grad_log = preds_prob - labels\n",
    "        hess_log = preds_prob * (1.0 - preds_prob)\n",
    "        mask_p = (sens_array == 1)\n",
    "        mask_u = (sens_array == 0)\n",
    "        n_p, n_u = mask_p.sum(), mask_u.sum()\n",
    "        mean_p = preds_prob[mask_p].mean() if n_p > 0 else 0\n",
    "        mean_u = preds_prob[mask_u].mean() if n_u > 0 else 0\n",
    "        diff = mean_p - mean_u\n",
    "        sign = np.sign(diff)\n",
    "        sigmoid_deriv = preds_prob * (1.0 - preds_prob)\n",
    "        grad_fair = np.zeros_like(preds)\n",
    "        grad_fair[mask_p] = sign * (1.0 / n_p) * sigmoid_deriv[mask_p] if n_p > 0 else 0\n",
    "        grad_fair[mask_u] = -sign * (1.0 / n_u) * sigmoid_deriv[mask_u] if n_u > 0 else 0\n",
    "        hess_fair = np.zeros_like(preds)\n",
    "        grad = alpha * grad_log + (1 - alpha) * grad_fair\n",
    "        hess = alpha * hess_log + (1 - alpha) * hess_fair\n",
    "        return grad, hess\n",
    "    return custom_obj\n",
    "\n",
    "# Define the objective function for Optuna\n",
    "\n",
    "def create_objective_function(alpha):\n",
    "    def objective(trial):\n",
    "        # Suggest hyperparameters\n",
    "        # alpha = trial.suggest_float('alpha', 0.0, 1.0)\n",
    "        max_depth = trial.suggest_int('max_depth', 3, 7)\n",
    "        eta = trial.suggest_float('eta', 0.01, 0.3)\n",
    "        subsample = trial.suggest_float('subsample', 0.6, 1.0)\n",
    "        colsample_bytree = trial.suggest_float('colsample_bytree', 0.6, 1.0)\n",
    "\n",
    "        # Initialize cross-validation\n",
    "        kf = KFold(n_splits=3, shuffle=True, random_state=42)\n",
    "        acc_scores = []\n",
    "        dpd_scores = []\n",
    "\n",
    "        # Perform 3-fold cross-validation\n",
    "        for train_idx, val_idx in kf.split(X_full):\n",
    "            # Split data\n",
    "            X_train = X_full.iloc[train_idx].drop(columns=['Sex_male']).values\n",
    "            y_train = y[train_idx]\n",
    "            sens_train = sensitive[train_idx]\n",
    "            X_val = X_full.iloc[val_idx].drop(columns=['Sex_male']).values\n",
    "            y_val = y[val_idx]\n",
    "            sens_val = sensitive[val_idx]\n",
    "\n",
    "            # Create custom objective\n",
    "            train_obj = make_custom_obj(sens_train, alpha=alpha)\n",
    "\n",
    "            # Set up DMatrix\n",
    "            dtrain = xgb.DMatrix(X_train, label=y_train)\n",
    "            dval = xgb.DMatrix(X_val, label=y_val)\n",
    "\n",
    "            # Train the model\n",
    "            params = {\n",
    "                'max_depth': max_depth,\n",
    "                'eta': eta,\n",
    "                'subsample': subsample,\n",
    "                'colsample_bytree': colsample_bytree,\n",
    "                'verbosity': 0\n",
    "            }\n",
    "            bst = xgb.train(\n",
    "                params,\n",
    "                dtrain,\n",
    "                num_boost_round=100,\n",
    "                obj=train_obj,\n",
    "                evals=[(dtrain, 'train'), (dval, 'val')],\n",
    "                early_stopping_rounds=10,\n",
    "                verbose_eval=False\n",
    "            )\n",
    "\n",
    "            # Predict on validation set\n",
    "            pred_prob = bst.predict(dval)\n",
    "            pred = (pred_prob > 0.5).astype(int)\n",
    "\n",
    "            # Compute accuracy and DPD\n",
    "            acc = accuracy_score(y_val, pred)\n",
    "            dpd_val = abs(pred[sens_val == 1].mean() - pred[sens_val == 0].mean())\n",
    "            acc_scores.append(acc)\n",
    "            dpd_scores.append(dpd_val)\n",
    "\n",
    "        # Compute mean metrics across folds\n",
    "        mean_acc = np.mean(acc_scores)\n",
    "        mean_dpd = np.mean(dpd_scores)\n",
    "\n",
    "        # Store metrics for analysis\n",
    "        trial.set_user_attr('accuracy', mean_acc)\n",
    "        trial.set_user_attr('dpd', mean_dpd)\n",
    "        trial.set_user_attr('params', {\n",
    "            'alpha': alpha,\n",
    "            'max_depth': max_depth,\n",
    "            'eta': eta,\n",
    "            'subsample': subsample,\n",
    "            'colsample_bytree': colsample_bytree\n",
    "        })\n",
    "\n",
    "        return mean_acc, mean_dpd\n",
    "    return objective\n"
   ]
  },
  {
   "cell_type": "code",
   "execution_count": 4,
   "id": "b26f54e6",
   "metadata": {},
   "outputs": [
    {
     "name": "stderr",
     "output_type": "stream",
     "text": [
      "[I 2025-05-16 15:59:11,824] A new study created in memory with name: no-name-605ac882-4ab1-43d3-94ac-ddaf72033d9e\n",
      "[I 2025-05-16 15:59:12,000] Trial 0 finished with values: [0.5000061268315397, 0.0] and parameters: {'max_depth': 5, 'eta': 0.2217447019493943, 'subsample': 0.959513046438351, 'colsample_bytree': 0.8483196240565537}.\n",
      "[I 2025-05-16 15:59:12,115] Trial 1 finished with values: [0.5000061268315397, 0.0] and parameters: {'max_depth': 6, 'eta': 0.09004907057621439, 'subsample': 0.9871871145990009, 'colsample_bytree': 0.7175239561291465}.\n",
      "[I 2025-05-16 15:59:12,239] Trial 2 finished with values: [0.5000061268315397, 0.0] and parameters: {'max_depth': 7, 'eta': 0.06771060077837074, 'subsample': 0.7297874019858482, 'colsample_bytree': 0.8231832606368076}.\n",
      "[I 2025-05-16 15:59:12,346] Trial 3 finished with values: [0.5000061268315397, 0.0] and parameters: {'max_depth': 7, 'eta': 0.03336961083270768, 'subsample': 0.8337027453520892, 'colsample_bytree': 0.9300676836761609}.\n",
      "[I 2025-05-16 15:59:12,480] Trial 4 finished with values: [0.5000061268315397, 0.0] and parameters: {'max_depth': 7, 'eta': 0.06524500084743076, 'subsample': 0.7168169283704153, 'colsample_bytree': 0.8813542693133354}.\n",
      "[I 2025-05-16 15:59:12,593] Trial 5 finished with values: [0.5000061268315397, 0.0] and parameters: {'max_depth': 3, 'eta': 0.13348644698833498, 'subsample': 0.8627381749029053, 'colsample_bytree': 0.8921443342437201}.\n",
      "[I 2025-05-16 15:59:12,729] Trial 6 finished with values: [0.5000061268315397, 0.0] and parameters: {'max_depth': 3, 'eta': 0.11909185695149423, 'subsample': 0.929400489238963, 'colsample_bytree': 0.7398723580005591}.\n",
      "[I 2025-05-16 15:59:12,844] Trial 7 finished with values: [0.5000061268315397, 0.0] and parameters: {'max_depth': 7, 'eta': 0.11279062123631355, 'subsample': 0.9171273821441792, 'colsample_bytree': 0.6930736689281893}.\n",
      "[I 2025-05-16 15:59:12,965] Trial 8 finished with values: [0.5000061268315397, 0.0] and parameters: {'max_depth': 4, 'eta': 0.07714766506857065, 'subsample': 0.9518661326541564, 'colsample_bytree': 0.6483637880060765}.\n",
      "[I 2025-05-16 15:59:13,069] Trial 9 finished with values: [0.5000061268315397, 0.0] and parameters: {'max_depth': 4, 'eta': 0.261295720021155, 'subsample': 0.7110742052874589, 'colsample_bytree': 0.7965130023391627}.\n",
      "[I 2025-05-16 15:59:13,074] A new study created in memory with name: no-name-fba31af4-331c-4abc-98fd-698561a616d8\n",
      "[I 2025-05-16 15:59:13,207] Trial 0 finished with values: [0.5000061268315397, 0.0] and parameters: {'max_depth': 3, 'eta': 0.2756005520004207, 'subsample': 0.7708311507322702, 'colsample_bytree': 0.8032286404427678}.\n",
      "[I 2025-05-16 15:59:13,331] Trial 1 finished with values: [0.5000061268315397, 0.0] and parameters: {'max_depth': 3, 'eta': 0.23450798045938306, 'subsample': 0.7995459970774528, 'colsample_bytree': 0.8786538198007181}.\n",
      "[I 2025-05-16 15:59:13,447] Trial 2 finished with values: [0.5000061268315397, 0.0] and parameters: {'max_depth': 6, 'eta': 0.227683842352391, 'subsample': 0.6752422249550897, 'colsample_bytree': 0.8878986498127701}.\n",
      "[I 2025-05-16 15:59:13,580] Trial 3 finished with values: [0.5000061268315397, 0.0] and parameters: {'max_depth': 3, 'eta': 0.2456754073891876, 'subsample': 0.721583711550983, 'colsample_bytree': 0.9768126322302062}.\n",
      "[I 2025-05-16 15:59:13,695] Trial 4 finished with values: [0.5000061268315397, 0.0] and parameters: {'max_depth': 5, 'eta': 0.06406785074625078, 'subsample': 0.9594844208951274, 'colsample_bytree': 0.7669700870631879}.\n",
      "[I 2025-05-16 15:59:13,802] Trial 5 finished with values: [0.5000061268315397, 0.0] and parameters: {'max_depth': 7, 'eta': 0.27614855272588007, 'subsample': 0.6145014365525775, 'colsample_bytree': 0.6310581757550174}.\n",
      "[I 2025-05-16 15:59:13,924] Trial 6 finished with values: [0.5000061268315397, 0.0] and parameters: {'max_depth': 3, 'eta': 0.0969361364106565, 'subsample': 0.6586261369661315, 'colsample_bytree': 0.6806950914169436}.\n",
      "[I 2025-05-16 15:59:14,039] Trial 7 finished with values: [0.5000061268315397, 0.0] and parameters: {'max_depth': 5, 'eta': 0.13069794313797392, 'subsample': 0.6093873803470825, 'colsample_bytree': 0.7712388764614844}.\n",
      "[I 2025-05-16 15:59:14,164] Trial 8 finished with values: [0.5000061268315397, 0.0] and parameters: {'max_depth': 7, 'eta': 0.09838277409729895, 'subsample': 0.9377830541819342, 'colsample_bytree': 0.8526607694062327}.\n",
      "[I 2025-05-16 15:59:14,295] Trial 9 finished with values: [0.5000061268315397, 0.0] and parameters: {'max_depth': 4, 'eta': 0.23884926597182413, 'subsample': 0.8838454793528565, 'colsample_bytree': 0.7050779263905936}.\n",
      "[I 2025-05-16 15:59:14,299] A new study created in memory with name: no-name-6ccd4653-a647-4d0d-b1ac-33ce019a7ea9\n",
      "[I 2025-05-16 15:59:14,410] Trial 0 finished with values: [0.605742985543741, 0.028417817376561964] and parameters: {'max_depth': 3, 'eta': 0.2747650746872483, 'subsample': 0.6673130690814727, 'colsample_bytree': 0.6149864739268213}.\n",
      "[I 2025-05-16 15:59:14,550] Trial 1 finished with values: [0.6707226291459504, 0.012983203043084202] and parameters: {'max_depth': 3, 'eta': 0.24346511931932233, 'subsample': 0.9468232292287463, 'colsample_bytree': 0.6248703113398836}.\n",
      "[I 2025-05-16 15:59:14,674] Trial 2 finished with values: [0.5850526754341625, 0.0091600785824164] and parameters: {'max_depth': 7, 'eta': 0.2586679145447616, 'subsample': 0.6710308660457721, 'colsample_bytree': 0.6771260686846352}.\n",
      "[I 2025-05-16 15:59:14,821] Trial 3 finished with values: [0.6600159910303186, 0.017612263712454567] and parameters: {'max_depth': 6, 'eta': 0.09334525013738348, 'subsample': 0.7157169656151819, 'colsample_bytree': 0.7229185849243748}.\n",
      "[I 2025-05-16 15:59:14,942] Trial 4 finished with values: [0.6707226291459504, 0.012983203043084202] and parameters: {'max_depth': 7, 'eta': 0.14158169683486835, 'subsample': 0.7271956520934868, 'colsample_bytree': 0.7343671354869951}.\n",
      "[I 2025-05-16 15:59:15,079] Trial 5 finished with values: [0.6707226291459504, 0.012983203043084202] and parameters: {'max_depth': 3, 'eta': 0.11040318680611916, 'subsample': 0.9996636049149505, 'colsample_bytree': 0.661327991357245}.\n",
      "[I 2025-05-16 15:59:15,234] Trial 6 finished with values: [0.6707226291459504, 0.012983203043084202] and parameters: {'max_depth': 3, 'eta': 0.18221271418612797, 'subsample': 0.7887556332522332, 'colsample_bytree': 0.6627216161632878}.\n",
      "[I 2025-05-16 15:59:15,374] Trial 7 finished with values: [0.6707226291459504, 0.012983203043084202] and parameters: {'max_depth': 5, 'eta': 0.2340833942951009, 'subsample': 0.975785519026189, 'colsample_bytree': 0.9609189616199799}.\n",
      "[I 2025-05-16 15:59:15,512] Trial 8 finished with values: [0.6707226291459504, 0.012983203043084202] and parameters: {'max_depth': 3, 'eta': 0.28795987729306494, 'subsample': 0.9680094132432027, 'colsample_bytree': 0.8487652435476647}.\n",
      "[I 2025-05-16 15:59:15,698] Trial 9 finished with values: [0.6707226291459504, 0.012983203043084202] and parameters: {'max_depth': 6, 'eta': 0.06899658373025802, 'subsample': 0.7245018708890302, 'colsample_bytree': 0.9063827578200655}.\n",
      "[I 2025-05-16 15:59:15,703] A new study created in memory with name: no-name-79fb6903-0487-4b1c-9043-75aae48be7ea\n",
      "[I 2025-05-16 15:59:15,864] Trial 0 finished with values: [0.6707226291459504, 0.012983203043084202] and parameters: {'max_depth': 4, 'eta': 0.2567741461382859, 'subsample': 0.7919743922385635, 'colsample_bytree': 0.9840329633812349}.\n",
      "[I 2025-05-16 15:59:15,990] Trial 1 finished with values: [0.6707226291459504, 0.02737169225171728] and parameters: {'max_depth': 3, 'eta': 0.20701718590681623, 'subsample': 0.9053119682587482, 'colsample_bytree': 0.6934615580950348}.\n",
      "[I 2025-05-16 15:59:16,140] Trial 2 finished with values: [0.6664445690233525, 0.022032811386428274] and parameters: {'max_depth': 5, 'eta': 0.25906248481738686, 'subsample': 0.8120440536548748, 'colsample_bytree': 0.9060513892548863}.\n",
      "[I 2025-05-16 15:59:16,261] Trial 3 finished with values: [0.6707226291459504, 0.012983203043084202] and parameters: {'max_depth': 5, 'eta': 0.20009294309003925, 'subsample': 0.7200541337586223, 'colsample_bytree': 0.9051779215573108}.\n",
      "[I 2025-05-16 15:59:16,427] Trial 4 finished with values: [0.6707226291459504, 0.012983203043084202] and parameters: {'max_depth': 5, 'eta': 0.028050479565334026, 'subsample': 0.6843964222974197, 'colsample_bytree': 0.7793054244450156}.\n",
      "[I 2025-05-16 15:59:16,580] Trial 5 finished with values: [0.6642986462765713, 0.02041871804571623] and parameters: {'max_depth': 5, 'eta': 0.2504560043196018, 'subsample': 0.975040386751444, 'colsample_bytree': 0.8986758790986408}.\n",
      "[I 2025-05-16 15:59:16,714] Trial 6 finished with values: [0.6707226291459504, 0.012983203043084202] and parameters: {'max_depth': 7, 'eta': 0.06209863054772714, 'subsample': 0.6612358208865913, 'colsample_bytree': 0.8034023415594906}.\n",
      "[I 2025-05-16 15:59:16,858] Trial 7 finished with values: [0.6642986462765713, 0.015622554976171868] and parameters: {'max_depth': 4, 'eta': 0.047352377162390095, 'subsample': 0.9734235447618795, 'colsample_bytree': 0.8912299797685512}.\n",
      "[I 2025-05-16 15:59:16,987] Trial 8 finished with values: [0.6707226291459504, 0.012983203043084202] and parameters: {'max_depth': 4, 'eta': 0.1669238858291106, 'subsample': 0.8449313875510689, 'colsample_bytree': 0.8833802463490366}.\n",
      "[I 2025-05-16 15:59:17,147] Trial 9 finished with values: [0.6707226291459504, 0.012983203043084202] and parameters: {'max_depth': 5, 'eta': 0.04146704492811503, 'subsample': 0.8919132932713523, 'colsample_bytree': 0.65709253423117}.\n",
      "[I 2025-05-16 15:59:17,150] A new study created in memory with name: no-name-8f6a774e-72fc-4ed1-a1d1-48925813e25c\n",
      "[I 2025-05-16 15:59:17,286] Trial 0 finished with values: [0.6700088532715748, 0.025704733136082958] and parameters: {'max_depth': 7, 'eta': 0.24569197924073496, 'subsample': 0.689646407692653, 'colsample_bytree': 0.689123581354392}.\n",
      "[I 2025-05-16 15:59:17,429] Trial 1 finished with values: [0.6678721207721035, 0.03517351816109207] and parameters: {'max_depth': 3, 'eta': 0.27059968020546615, 'subsample': 0.8981942477406601, 'colsample_bytree': 0.8167834501667921}.\n",
      "[I 2025-05-16 15:59:17,639] Trial 2 finished with values: [0.6707226291459504, 0.012983203043084202] and parameters: {'max_depth': 4, 'eta': 0.0193619175497355, 'subsample': 0.830812917502185, 'colsample_bytree': 0.9377906756293155}.\n",
      "[I 2025-05-16 15:59:17,817] Trial 3 finished with values: [0.6650124221509467, 0.019322034417009453] and parameters: {'max_depth': 3, 'eta': 0.029669747284630073, 'subsample': 0.808356039353094, 'colsample_bytree': 0.6737578067065022}.\n",
      "[I 2025-05-16 15:59:17,942] Trial 4 finished with values: [0.6635848704021959, 0.020133580302252468] and parameters: {'max_depth': 5, 'eta': 0.20497056235899444, 'subsample': 0.8812851711136316, 'colsample_bytree': 0.6413127926324409}.\n",
      "[I 2025-05-16 15:59:18,060] Trial 5 finished with values: [0.6707226291459504, 0.012983203043084202] and parameters: {'max_depth': 4, 'eta': 0.18438150399443304, 'subsample': 0.6578153550198821, 'colsample_bytree': 0.859283785280226}.\n",
      "[I 2025-05-16 15:59:18,183] Trial 6 finished with values: [0.6621557869455601, 0.04074613082082812] and parameters: {'max_depth': 7, 'eta': 0.2747997116705212, 'subsample': 0.9812436197506273, 'colsample_bytree': 0.8104061721299318}.\n",
      "[I 2025-05-16 15:59:18,295] Trial 7 finished with values: [0.6707226291459504, 0.012983203043084202] and parameters: {'max_depth': 7, 'eta': 0.14254732696300607, 'subsample': 0.7793571220196844, 'colsample_bytree': 0.8111353787666337}.\n",
      "[I 2025-05-16 15:59:18,420] Trial 8 finished with values: [0.6707226291459504, 0.012983203043084202] and parameters: {'max_depth': 5, 'eta': 0.0927490191624564, 'subsample': 0.6096011587313426, 'colsample_bytree': 0.8606121745926671}.\n",
      "[I 2025-05-16 15:59:18,531] Trial 9 finished with values: [0.6707226291459504, 0.012983203043084202] and parameters: {'max_depth': 5, 'eta': 0.14406156445281496, 'subsample': 0.638861558116181, 'colsample_bytree': 0.9631137988118044}.\n",
      "[I 2025-05-16 15:59:18,534] A new study created in memory with name: no-name-c26778e9-aff2-4982-899c-4d3aa8cd6fb5\n",
      "[I 2025-05-16 15:59:18,654] Trial 0 finished with values: [0.6635848704021959, 0.020133580302252468] and parameters: {'max_depth': 7, 'eta': 0.22603328342653284, 'subsample': 0.6511224965243104, 'colsample_bytree': 0.6178299668883896}.\n",
      "[I 2025-05-16 15:59:18,772] Trial 1 finished with values: [0.6635848704021959, 0.016719238604878655] and parameters: {'max_depth': 4, 'eta': 0.14619323943767637, 'subsample': 0.8266896131753598, 'colsample_bytree': 0.9769307619738752}.\n",
      "[I 2025-05-16 15:59:18,892] Trial 2 finished with values: [0.667876715895758, 0.03460340007676632] and parameters: {'max_depth': 7, 'eta': 0.26875168686724354, 'subsample': 0.6611674928504225, 'colsample_bytree': 0.907501503518932}.\n",
      "[I 2025-05-16 15:59:19,011] Trial 3 finished with values: [0.667156813189843, 0.01634846682810402] and parameters: {'max_depth': 7, 'eta': 0.1247874083906834, 'subsample': 0.8589807191603622, 'colsample_bytree': 0.8052954702168996}.\n",
      "[I 2025-05-16 15:59:19,126] Trial 4 finished with values: [0.668581301522824, 0.022290391438709145] and parameters: {'max_depth': 4, 'eta': 0.1835841280067033, 'subsample': 0.6621466251158472, 'colsample_bytree': 0.7025305558325416}.\n",
      "[I 2025-05-16 15:59:19,319] Trial 5 finished with values: [0.6678675256484485, 0.02607029434565189] and parameters: {'max_depth': 5, 'eta': 0.026239056619091067, 'subsample': 0.6391925877965621, 'colsample_bytree': 0.7372533721357053}.\n",
      "[I 2025-05-16 15:59:19,532] Trial 6 finished with values: [0.6642986462765713, 0.015622554976171868] and parameters: {'max_depth': 4, 'eta': 0.03470085507196421, 'subsample': 0.7104977233931604, 'colsample_bytree': 0.8991153268324695}.\n",
      "[I 2025-05-16 15:59:19,722] Trial 7 finished with values: [0.6635848704021959, 0.018020636510944054] and parameters: {'max_depth': 7, 'eta': 0.10155494864489087, 'subsample': 0.6924170707258097, 'colsample_bytree': 0.9131879140356725}.\n",
      "[I 2025-05-16 15:59:19,913] Trial 8 finished with values: [0.6707226291459504, 0.012983203043084202] and parameters: {'max_depth': 4, 'eta': 0.08048340542678936, 'subsample': 0.6145973873347782, 'colsample_bytree': 0.7835679663971241}.\n",
      "[I 2025-05-16 15:59:20,062] Trial 9 finished with values: [0.6585915026973376, 0.017555877554314887] and parameters: {'max_depth': 7, 'eta': 0.09851431342172136, 'subsample': 0.9325925096016301, 'colsample_bytree': 0.8047784831594857}.\n",
      "[I 2025-05-16 15:59:20,068] A new study created in memory with name: no-name-8569a6f6-7889-4f0c-9c27-964037235645\n",
      "[I 2025-05-16 15:59:20,249] Trial 0 finished with values: [0.6664461007312373, 0.01638430031230359] and parameters: {'max_depth': 5, 'eta': 0.057404670925391976, 'subsample': 0.818329035587983, 'colsample_bytree': 0.6461272508014826}.\n",
      "[I 2025-05-16 15:59:20,394] Trial 1 finished with values: [0.6664399738996977, 0.01710109616428292] and parameters: {'max_depth': 6, 'eta': 0.13680637929067976, 'subsample': 0.6322245224931331, 'colsample_bytree': 0.6385899137614169}.\n",
      "[I 2025-05-16 15:59:20,609] Trial 2 finished with values: [0.6657277297332072, 0.014264004361636487] and parameters: {'max_depth': 5, 'eta': 0.0278011631363754, 'subsample': 0.7975155229155354, 'colsample_bytree': 0.6193244349885466}.\n",
      "[I 2025-05-16 15:59:20,784] Trial 3 finished with values: [0.6621542552376751, 0.02286977140392485] and parameters: {'max_depth': 6, 'eta': 0.2085850102468127, 'subsample': 0.8211469385686068, 'colsample_bytree': 0.9272046546634782}.\n",
      "[I 2025-05-16 15:59:20,949] Trial 4 finished with values: [0.6693012042287391, 0.027931918282597484] and parameters: {'max_depth': 7, 'eta': 0.1996566689535185, 'subsample': 0.6448024512727678, 'colsample_bytree': 0.7859748206522073}.\n",
      "[I 2025-05-16 15:59:21,204] Trial 5 finished with values: [0.6578654731598828, 0.02049586127880118] and parameters: {'max_depth': 4, 'eta': 0.01144522600282974, 'subsample': 0.8309283800481317, 'colsample_bytree': 0.892701286969438}.\n",
      "[I 2025-05-16 15:59:21,431] Trial 6 finished with values: [0.6564379214111319, 0.027451449155148383] and parameters: {'max_depth': 5, 'eta': 0.03119343581379689, 'subsample': 0.9159265279092834, 'colsample_bytree': 0.8482715584454851}.\n",
      "[I 2025-05-16 15:59:21,629] Trial 7 finished with values: [0.6650108904430617, 0.016161314228479346] and parameters: {'max_depth': 5, 'eta': 0.14929873447472955, 'subsample': 0.8737989790917757, 'colsample_bytree': 0.6702525852563775}.\n",
      "[I 2025-05-16 15:59:21,823] Trial 8 finished with values: [0.6671598766056128, 0.02253453778781488] and parameters: {'max_depth': 7, 'eta': 0.21647819824442507, 'subsample': 0.8711276522502813, 'colsample_bytree': 0.8547276631047944}.\n",
      "[I 2025-05-16 15:59:22,004] Trial 9 finished with values: [0.6635848704021959, 0.010250077554127185] and parameters: {'max_depth': 7, 'eta': 0.1287267905875401, 'subsample': 0.6807029331684058, 'colsample_bytree': 0.8330268053985445}.\n",
      "[I 2025-05-16 15:59:22,009] A new study created in memory with name: no-name-277a55b8-fcd9-4986-bb61-0ca271c551d4\n",
      "[I 2025-05-16 15:59:22,257] Trial 0 finished with values: [0.6564379214111319, 0.02100023779475659] and parameters: {'max_depth': 3, 'eta': 0.024815344524273968, 'subsample': 0.9195161757115836, 'colsample_bytree': 0.7417770015371579}.\n",
      "[I 2025-05-16 15:59:22,460] Trial 1 finished with values: [0.6628664994041656, 0.017307541825669848] and parameters: {'max_depth': 6, 'eta': 0.12760566884792224, 'subsample': 0.7273508244424698, 'colsample_bytree': 0.9039220184511215}.\n",
      "[I 2025-05-16 15:59:22,633] Trial 2 finished with values: [0.6592991517401733, 0.028624164903063697] and parameters: {'max_depth': 6, 'eta': 0.1557425950417209, 'subsample': 0.9403537445529822, 'colsample_bytree': 0.867695774274754}.\n",
      "[I 2025-05-16 15:59:22,803] Trial 3 finished with values: [0.665009358735177, 0.0180931484730134] and parameters: {'max_depth': 5, 'eta': 0.1971577970051483, 'subsample': 0.7517560023672545, 'colsample_bytree': 0.646181293054359}.\n",
      "[I 2025-05-16 15:59:23,029] Trial 4 finished with values: [0.6635848704021959, 0.016719238604878655] and parameters: {'max_depth': 6, 'eta': 0.03003581245073722, 'subsample': 0.6120716481698903, 'colsample_bytree': 0.9336049659527421}.\n",
      "[I 2025-05-16 15:59:23,240] Trial 5 finished with values: [0.6607267034889243, 0.01831775264907966] and parameters: {'max_depth': 5, 'eta': 0.0494488541837091, 'subsample': 0.765223098988211, 'colsample_bytree': 0.7450119278134073}.\n",
      "[I 2025-05-16 15:59:23,403] Trial 6 finished with values: [0.6614435427790696, 0.025523132997525233] and parameters: {'max_depth': 4, 'eta': 0.22091324446645658, 'subsample': 0.7713431803767546, 'colsample_bytree': 0.7071120478556665}.\n",
      "[I 2025-05-16 15:59:23,577] Trial 7 finished with values: [0.6592914932007488, 0.0193315771466324] and parameters: {'max_depth': 4, 'eta': 0.16924093040344804, 'subsample': 0.7816854984437551, 'colsample_bytree': 0.9713523545037577}.\n",
      "[I 2025-05-16 15:59:23,778] Trial 8 finished with values: [0.6592945566165186, 0.02286638653147749] and parameters: {'max_depth': 4, 'eta': 0.28699606920177523, 'subsample': 0.8480889652335792, 'colsample_bytree': 0.8267656647843095}.\n",
      "[I 2025-05-16 15:59:23,944] Trial 9 finished with values: [0.6614374159475299, 0.01813839786484135] and parameters: {'max_depth': 5, 'eta': 0.20814180729900877, 'subsample': 0.9706095983890778, 'colsample_bytree': 0.6615379260674603}.\n",
      "[I 2025-05-16 15:59:23,948] A new study created in memory with name: no-name-868dacc1-ca13-406c-a17e-4ebc6419e251\n",
      "[I 2025-05-16 15:59:24,137] Trial 0 finished with values: [0.6600113959066639, 0.03407340933715864] and parameters: {'max_depth': 7, 'eta': 0.26348402207156857, 'subsample': 0.8999526535389881, 'colsample_bytree': 0.6877787593657212}.\n",
      "[I 2025-05-16 15:59:24,325] Trial 1 finished with values: [0.6650200806903714, 0.0342982251322338] and parameters: {'max_depth': 5, 'eta': 0.1853635660655309, 'subsample': 0.8043846685648074, 'colsample_bytree': 0.7702399816063612}.\n",
      "[I 2025-05-16 15:59:24,515] Trial 2 finished with values: [0.667155281481958, 0.020007222951012815] and parameters: {'max_depth': 3, 'eta': 0.27915758131412177, 'subsample': 0.6461387627856192, 'colsample_bytree': 0.869651633782691}.\n",
      "[I 2025-05-16 15:59:24,646] Trial 3 finished with values: [0.6650139538588317, 0.027773913822428914] and parameters: {'max_depth': 4, 'eta': 0.1820053522534971, 'subsample': 0.6352835777158075, 'colsample_bytree': 0.6619004628721563}.\n",
      "[I 2025-05-16 15:59:24,784] Trial 4 finished with values: [0.6664445690233525, 0.029120416158115836] and parameters: {'max_depth': 7, 'eta': 0.22806293957378287, 'subsample': 0.6083659167022588, 'colsample_bytree': 0.9960129692768575}.\n",
      "[I 2025-05-16 15:59:24,922] Trial 5 finished with values: [0.6700149801031147, 0.018551043973474356] and parameters: {'max_depth': 3, 'eta': 0.298172311514981, 'subsample': 0.6761110903022832, 'colsample_bytree': 0.6033430551908866}.\n",
      "[I 2025-05-16 15:59:25,053] Trial 6 finished with values: [0.6614435427790696, 0.024440032299661064] and parameters: {'max_depth': 5, 'eta': 0.21123427325292943, 'subsample': 0.9027301243619856, 'colsample_bytree': 0.9762022435528681}.\n",
      "[I 2025-05-16 15:59:25,186] Trial 7 finished with values: [0.6764481532198031, 0.04427675040340778] and parameters: {'max_depth': 6, 'eta': 0.2958306104383024, 'subsample': 0.9763507942324512, 'colsample_bytree': 0.7657656194944472}.\n",
      "[I 2025-05-16 15:59:25,354] Trial 8 finished with values: [0.6607282351968092, 0.013037770376359318] and parameters: {'max_depth': 6, 'eta': 0.09724727751981681, 'subsample': 0.6339662697834427, 'colsample_bytree': 0.8636001633856427}.\n",
      "[I 2025-05-16 15:59:25,512] Trial 9 finished with values: [0.6621557869455601, 0.03210051267255109] and parameters: {'max_depth': 7, 'eta': 0.2669017440140651, 'subsample': 0.662909412486643, 'colsample_bytree': 0.9703903108165548}.\n",
      "[I 2025-05-16 15:59:25,517] A new study created in memory with name: no-name-d4514070-421f-4f38-add4-84bb14a8a47b\n",
      "[I 2025-05-16 15:59:25,740] Trial 0 finished with values: [0.6671660034371526, 0.04099156077300747] and parameters: {'max_depth': 6, 'eta': 0.28481776619973376, 'subsample': 0.8177527807028427, 'colsample_bytree': 0.6422171906705517}.\n",
      "[I 2025-05-16 15:59:25,931] Trial 1 finished with values: [0.6642971145686865, 0.01947340563179248] and parameters: {'max_depth': 7, 'eta': 0.16313299132321726, 'subsample': 0.644507260741415, 'colsample_bytree': 0.7840893830065462}.\n",
      "[I 2025-05-16 15:59:26,153] Trial 2 finished with values: [0.6564394531190167, 0.01603333920772383] and parameters: {'max_depth': 5, 'eta': 0.06188415504545054, 'subsample': 0.9478141437012727, 'colsample_bytree': 0.8552464636852501}.\n",
      "[I 2025-05-16 15:59:26,325] Trial 3 finished with values: [0.6592945566165186, 0.023919315494434285] and parameters: {'max_depth': 4, 'eta': 0.03458299922965494, 'subsample': 0.8753125413350846, 'colsample_bytree': 0.6113483817274409}.\n",
      "[I 2025-05-16 15:59:26,477] Trial 4 finished with values: [0.669305799352394, 0.03457485488981225] and parameters: {'max_depth': 6, 'eta': 0.089354547592815, 'subsample': 0.6255832231774134, 'colsample_bytree': 0.9743729830986907}.\n",
      "[I 2025-05-16 15:59:26,635] Trial 5 finished with values: [0.6607221083652695, 0.026707023790166234] and parameters: {'max_depth': 7, 'eta': 0.05680831424277101, 'subsample': 0.6111888280555915, 'colsample_bytree': 0.7866597128298367}.\n",
      "[I 2025-05-16 15:59:26,778] Trial 6 finished with values: [0.662860372572626, 0.013073417363728598] and parameters: {'max_depth': 7, 'eta': 0.2696904283076209, 'subsample': 0.9656188875624926, 'colsample_bytree': 0.767429355097154}.\n",
      "[I 2025-05-16 15:59:26,908] Trial 7 finished with values: [0.6628680311120506, 0.0178460587202105] and parameters: {'max_depth': 4, 'eta': 0.22098960322686934, 'subsample': 0.7690706091677814, 'colsample_bytree': 0.9291985958704213}.\n",
      "[I 2025-05-16 15:59:27,192] Trial 8 finished with values: [0.6614404793632996, 0.014601943392589772] and parameters: {'max_depth': 7, 'eta': 0.013622167806111852, 'subsample': 0.6539664348422904, 'colsample_bytree': 0.8295623402896606}.\n",
      "[I 2025-05-16 15:59:27,332] Trial 9 finished with values: [0.6578670048677676, 0.02125431282584146] and parameters: {'max_depth': 4, 'eta': 0.109966614700122, 'subsample': 0.9546773486438024, 'colsample_bytree': 0.8461536807756782}.\n",
      "[I 2025-05-16 15:59:27,335] A new study created in memory with name: no-name-4efbbf37-ce8b-44dd-adbc-56c51e0da074\n",
      "[I 2025-05-16 15:59:27,535] Trial 0 finished with values: [0.6700103849794597, 0.015335900985203951] and parameters: {'max_depth': 7, 'eta': 0.2926524048903629, 'subsample': 0.9221720459914069, 'colsample_bytree': 0.981169189113366}.\n",
      "[I 2025-05-16 15:59:27,701] Trial 1 finished with values: [0.667876715895758, 0.03354171722350905] and parameters: {'max_depth': 7, 'eta': 0.2591733113088191, 'subsample': 0.7505916959728967, 'colsample_bytree': 0.9849766152676914}.\n",
      "[I 2025-05-16 15:59:27,878] Trial 2 finished with values: [0.6664415056075825, 0.02191974585860958] and parameters: {'max_depth': 4, 'eta': 0.23650972496898928, 'subsample': 0.7830633504713207, 'colsample_bytree': 0.9442075115448386}.\n",
      "[I 2025-05-16 15:59:28,057] Trial 3 finished with values: [0.6557256772446413, 0.013354669542720974] and parameters: {'max_depth': 5, 'eta': 0.09134821564786547, 'subsample': 0.8928561799772807, 'colsample_bytree': 0.7650258819038878}.\n",
      "[I 2025-05-16 15:59:28,220] Trial 4 finished with values: [0.6671568131898429, 0.023504264330195368] and parameters: {'max_depth': 7, 'eta': 0.18220159685648754, 'subsample': 0.6572883523607035, 'colsample_bytree': 0.6422394582892433}.\n",
      "[I 2025-05-16 15:59:28,400] Trial 5 finished with values: [0.6600175227382036, 0.020123049158127616] and parameters: {'max_depth': 7, 'eta': 0.08864082326185173, 'subsample': 0.8165791393065782, 'colsample_bytree': 0.9311609347722725}.\n",
      "[I 2025-05-16 15:59:28,562] Trial 6 finished with values: [0.6600190544460885, 0.020401186284772787] and parameters: {'max_depth': 6, 'eta': 0.08599152146731345, 'subsample': 0.6201082477856231, 'colsample_bytree': 0.9273238910548175}.\n",
      "[I 2025-05-16 15:59:28,693] Trial 7 finished with values: [0.6650200806903714, 0.033284403465192076] and parameters: {'max_depth': 6, 'eta': 0.20061560787507604, 'subsample': 0.618505255848936, 'colsample_bytree': 0.9778771868180952}.\n",
      "[I 2025-05-16 15:59:28,833] Trial 8 finished with values: [0.6650047636115222, 0.02162543812724226] and parameters: {'max_depth': 7, 'eta': 0.18690976274180227, 'subsample': 0.7129494429617198, 'colsample_bytree': 0.8338508317989666}.\n",
      "[I 2025-05-16 15:59:28,994] Trial 9 finished with values: [0.6571547607012772, 0.02246553392939372] and parameters: {'max_depth': 7, 'eta': 0.05546386681432455, 'subsample': 0.6540406482097982, 'colsample_bytree': 0.9814610220861283}.\n",
      "[I 2025-05-16 15:59:28,999] A new study created in memory with name: no-name-a3d6ea5b-5030-45a2-991d-c7074c0ebf75\n",
      "[I 2025-05-16 15:59:29,157] Trial 0 finished with values: [0.6578700682835376, 0.030128899079190825] and parameters: {'max_depth': 3, 'eta': 0.0538604653051907, 'subsample': 0.9636464073060688, 'colsample_bytree': 0.6479777478550078}.\n",
      "[I 2025-05-16 15:59:29,300] Trial 1 finished with values: [0.6692981408129692, 0.027455757035934187] and parameters: {'max_depth': 6, 'eta': 0.2915123874605598, 'subsample': 0.7442906118970891, 'colsample_bytree': 0.6721830422851846}.\n",
      "[I 2025-05-16 15:59:29,453] Trial 2 finished with values: [0.6607267034889243, 0.011395089092266025] and parameters: {'max_depth': 4, 'eta': 0.06429450450234406, 'subsample': 0.8196106853854139, 'colsample_bytree': 0.6825558809123508}.\n",
      "[I 2025-05-16 15:59:29,622] Trial 3 finished with values: [0.6650170172746016, 0.014180263341027732] and parameters: {'max_depth': 7, 'eta': 0.27508544898779635, 'subsample': 0.7022491849343462, 'colsample_bytree': 0.7211834485602441}.\n",
      "[I 2025-05-16 15:59:29,879] Trial 4 finished with values: [0.6600144593224337, 0.017159104031321298] and parameters: {'max_depth': 7, 'eta': 0.06416865160200698, 'subsample': 0.7529137761185141, 'colsample_bytree': 0.9210587503966102}.\n",
      "[I 2025-05-16 15:59:30,097] Trial 5 finished with values: [0.6642940511529166, 0.024434024043531233] and parameters: {'max_depth': 7, 'eta': 0.21594562535405776, 'subsample': 0.7295781624659554, 'colsample_bytree': 0.809707593579116}.\n",
      "[I 2025-05-16 15:59:30,323] Trial 6 finished with values: [0.6614450744869544, 0.014038829380913156] and parameters: {'max_depth': 6, 'eta': 0.12627634802965726, 'subsample': 0.7679487066294668, 'colsample_bytree': 0.7402839368955006}.\n",
      "[I 2025-05-16 15:59:30,543] Trial 7 finished with values: [0.666432315360273, 0.0286610979271545] and parameters: {'max_depth': 5, 'eta': 0.24104866736343628, 'subsample': 0.9902670139660283, 'colsample_bytree': 0.8680116426802282}.\n",
      "[I 2025-05-16 15:59:30,702] Trial 8 finished with values: [0.6600129276145488, 0.024268238886005506] and parameters: {'max_depth': 3, 'eta': 0.24827619990276104, 'subsample': 0.9324952998562314, 'colsample_bytree': 0.9117633531064728}.\n",
      "[I 2025-05-16 15:59:30,950] Trial 9 finished with values: [0.6650139538588317, 0.009401581101065287] and parameters: {'max_depth': 6, 'eta': 0.03478676124369973, 'subsample': 0.7376112210277284, 'colsample_bytree': 0.6990943025018173}.\n",
      "[I 2025-05-16 15:59:30,954] A new study created in memory with name: no-name-2e4af2b8-7208-489c-a705-b697861f9a8f\n",
      "[I 2025-05-16 15:59:31,155] Trial 0 finished with values: [0.6607343620283489, 0.025530830903438866] and parameters: {'max_depth': 4, 'eta': 0.11248567232960362, 'subsample': 0.6937320579625237, 'colsample_bytree': 0.9665045306649309}.\n",
      "[I 2025-05-16 15:59:31,379] Trial 1 finished with values: [0.6628772213593601, 0.016381768925059475] and parameters: {'max_depth': 4, 'eta': 0.0593864527557433, 'subsample': 0.7381699487590392, 'colsample_bytree': 0.7481032991713861}.\n",
      "[I 2025-05-16 15:59:31,589] Trial 2 finished with values: [0.6535797544978602, 0.011639111449888153] and parameters: {'max_depth': 6, 'eta': 0.08168075323740528, 'subsample': 0.8824798878911628, 'colsample_bytree': 0.74078332980818}.\n",
      "[I 2025-05-16 15:59:31,773] Trial 3 finished with values: [0.6685767063991692, 0.023886275081439163] and parameters: {'max_depth': 5, 'eta': 0.29637524045995123, 'subsample': 0.9379317794767706, 'colsample_bytree': 0.6237047330514577}.\n",
      "[I 2025-05-16 15:59:31,960] Trial 4 finished with values: [0.6707302876853749, 0.02969651563837013] and parameters: {'max_depth': 4, 'eta': 0.26192523399822776, 'subsample': 0.8346717030016917, 'colsample_bytree': 0.7515266226815742}.\n",
      "[I 2025-05-16 15:59:32,173] Trial 5 finished with values: [0.6692996725208542, 0.027768225090309195] and parameters: {'max_depth': 7, 'eta': 0.2671678358881248, 'subsample': 0.6015774837334684, 'colsample_bytree': 0.9995877451729827}.\n",
      "[I 2025-05-16 15:59:32,399] Trial 6 finished with values: [0.6614466061948394, 0.02111908482375301] and parameters: {'max_depth': 6, 'eta': 0.10317102565572409, 'subsample': 0.7111480725000392, 'colsample_bytree': 0.9625939834727774}.\n",
      "[I 2025-05-16 15:59:32,589] Trial 7 finished with values: [0.6535858813293999, 0.020941217257447835] and parameters: {'max_depth': 5, 'eta': 0.12441044351737257, 'subsample': 0.6506458859785388, 'colsample_bytree': 0.9234912135680398}.\n",
      "[I 2025-05-16 15:59:32,792] Trial 8 finished with values: [0.6750114112237426, 0.028833562768401693] and parameters: {'max_depth': 6, 'eta': 0.2683707971370087, 'subsample': 0.6573570593907957, 'colsample_bytree': 0.8233317951826499}.\n",
      "[I 2025-05-16 15:59:33,059] Trial 9 finished with values: [0.6564425165347866, 0.023890888808726696] and parameters: {'max_depth': 4, 'eta': 0.03396015265526098, 'subsample': 0.6966646660263254, 'colsample_bytree': 0.6807831207592244}.\n",
      "[I 2025-05-16 15:59:33,064] A new study created in memory with name: no-name-622210f0-ad72-4617-a5a4-2f29e78bd1c7\n",
      "[I 2025-05-16 15:59:33,218] Trial 0 finished with values: [0.6607267034889243, 0.02965850513997753] and parameters: {'max_depth': 3, 'eta': 0.13557196790617956, 'subsample': 0.9097033295669865, 'colsample_bytree': 0.8234085207021675}.\n",
      "[I 2025-05-16 15:59:33,389] Trial 1 finished with values: [0.6678690573563335, 0.0289666522607893] and parameters: {'max_depth': 4, 'eta': 0.1687892126234973, 'subsample': 0.700387844523881, 'colsample_bytree': 0.6076965507930483}.\n",
      "[I 2025-05-16 15:59:33,608] Trial 2 finished with values: [0.6685904917701335, 0.014491329426045816] and parameters: {'max_depth': 6, 'eta': 0.04330107546013628, 'subsample': 0.6081816310165086, 'colsample_bytree': 0.624101940242489}.\n",
      "[I 2025-05-16 15:59:33,757] Trial 3 finished with values: [0.6678629305247937, 0.015149089231394927] and parameters: {'max_depth': 7, 'eta': 0.29836606990778597, 'subsample': 0.7148800026449138, 'colsample_bytree': 0.7274043691378549}.\n",
      "[I 2025-05-16 15:59:33,884] Trial 4 finished with values: [0.6714394684360956, 0.03616048020981346] and parameters: {'max_depth': 6, 'eta': 0.17996412805075554, 'subsample': 0.819268675074996, 'colsample_bytree': 0.8355236579499628}.\n",
      "[I 2025-05-16 15:59:34,024] Trial 5 finished with values: [0.6614420110711846, 0.034743409153509604] and parameters: {'max_depth': 7, 'eta': 0.10957209255375214, 'subsample': 0.9917526891259897, 'colsample_bytree': 0.7994685987492232}.\n",
      "[I 2025-05-16 15:59:34,146] Trial 6 finished with values: [0.6685935551859035, 0.028494959379965813] and parameters: {'max_depth': 3, 'eta': 0.21513969431393484, 'subsample': 0.7110332872645075, 'colsample_bytree': 0.9880891189048187}.\n",
      "[I 2025-05-16 15:59:34,284] Trial 7 finished with values: [0.6757267188060031, 0.024672628166773902] and parameters: {'max_depth': 6, 'eta': 0.24593449420915398, 'subsample': 0.6117646257884226, 'colsample_bytree': 0.8652616121474388}.\n",
      "[I 2025-05-16 15:59:34,418] Trial 8 finished with values: [0.6678613988169088, 0.020311487768610803] and parameters: {'max_depth': 7, 'eta': 0.27310589451193823, 'subsample': 0.637849935286678, 'colsample_bytree': 0.6008838462952321}.\n",
      "[I 2025-05-16 15:59:34,561] Trial 9 finished with values: [0.6692981408129692, 0.025817413084923812] and parameters: {'max_depth': 7, 'eta': 0.15923555120069022, 'subsample': 0.6741841233267687, 'colsample_bytree': 0.9150465394973555}.\n",
      "[I 2025-05-16 15:59:34,564] A new study created in memory with name: no-name-d6183577-05ea-4300-b750-03943386049b\n",
      "[I 2025-05-16 15:59:34,714] Trial 0 finished with values: [0.6757190602665784, 0.03022312029903686] and parameters: {'max_depth': 7, 'eta': 0.2211077029855171, 'subsample': 0.7669851010697171, 'colsample_bytree': 0.9866506091988672}.\n",
      "[I 2025-05-16 15:59:34,848] Trial 1 finished with values: [0.6757267188060031, 0.03177817798998176] and parameters: {'max_depth': 5, 'eta': 0.2999175387071964, 'subsample': 0.8504625588836254, 'colsample_bytree': 0.9854276881260173}.\n",
      "[I 2025-05-16 15:59:34,994] Trial 2 finished with values: [0.6614420110711846, 0.03141375771996475] and parameters: {'max_depth': 5, 'eta': 0.07943428625611137, 'subsample': 0.8284413124487738, 'colsample_bytree': 0.6165203283274615}.\n",
      "[I 2025-05-16 15:59:35,110] Trial 3 finished with values: [0.662157318653445, 0.026474442010950987] and parameters: {'max_depth': 3, 'eta': 0.1472854659412968, 'subsample': 0.8548713524228514, 'colsample_bytree': 0.8218357852125807}.\n",
      "[I 2025-05-16 15:59:35,297] Trial 4 finished with values: [0.6685828332307088, 0.03140089019494426] and parameters: {'max_depth': 5, 'eta': 0.17668412230057148, 'subsample': 0.8128845420176543, 'colsample_bytree': 0.6776862423149543}.\n",
      "[I 2025-05-16 15:59:35,454] Trial 5 finished with values: [0.6628741579435903, 0.014680638331040588] and parameters: {'max_depth': 7, 'eta': 0.07040518830691217, 'subsample': 0.6470536100712793, 'colsample_bytree': 0.776339328896665}.\n",
      "[I 2025-05-16 15:59:35,584] Trial 6 finished with values: [0.6600129276145488, 0.042322928472485886] and parameters: {'max_depth': 4, 'eta': 0.1245496344678019, 'subsample': 0.8130246002954468, 'colsample_bytree': 0.9045417324539922}.\n",
      "[I 2025-05-16 15:59:35,734] Trial 7 finished with values: [0.651435363458964, 0.029815386855504816] and parameters: {'max_depth': 3, 'eta': 0.06653136824406145, 'subsample': 0.8742793709121806, 'colsample_bytree': 0.990768826208717}.\n",
      "[I 2025-05-16 15:59:35,868] Trial 8 finished with values: [0.6564425165347866, 0.03507489447192603] and parameters: {'max_depth': 3, 'eta': 0.18946062557842158, 'subsample': 0.8310901990272567, 'colsample_bytree': 0.9215079231729747}.\n",
      "[I 2025-05-16 15:59:35,999] Trial 9 finished with values: [0.6635772118627713, 0.015033793233258754] and parameters: {'max_depth': 4, 'eta': 0.16219366522666512, 'subsample': 0.9252728014491286, 'colsample_bytree': 0.7878438692348811}.\n",
      "[I 2025-05-16 15:59:36,002] A new study created in memory with name: no-name-933ea71b-c1c4-4bfa-beb3-e8ff4d1860e6\n",
      "[I 2025-05-16 15:59:36,125] Trial 0 finished with values: [0.6607297669046941, 0.018711703052087896] and parameters: {'max_depth': 3, 'eta': 0.2753488473189586, 'subsample': 0.8402132407294188, 'colsample_bytree': 0.6268303351625092}.\n",
      "[I 2025-05-16 15:59:36,267] Trial 1 finished with values: [0.6707241608538353, 0.045811451939300064] and parameters: {'max_depth': 7, 'eta': 0.19856234450226745, 'subsample': 0.6099744679261218, 'colsample_bytree': 0.8178192178164452}.\n",
      "[I 2025-05-16 15:59:36,414] Trial 2 finished with values: [0.6657246663174372, 0.018114566115026876] and parameters: {'max_depth': 6, 'eta': 0.12085670699723404, 'subsample': 0.782503067949377, 'colsample_bytree': 0.6145825829232352}.\n",
      "[I 2025-05-16 15:59:36,536] Trial 3 finished with values: [0.6721593711420107, 0.042842088865877155] and parameters: {'max_depth': 3, 'eta': 0.27774170772656165, 'subsample': 0.7930051447390472, 'colsample_bytree': 0.744244359181046}.\n",
      "[I 2025-05-16 15:59:36,694] Trial 4 finished with values: [0.6535812862057452, 0.012245980127314768] and parameters: {'max_depth': 5, 'eta': 0.06391917016972677, 'subsample': 0.7835711828396864, 'colsample_bytree': 0.7146985090586983}.\n",
      "[I 2025-05-16 15:59:36,837] Trial 5 finished with values: [0.662157318653445, 0.027154425773733865] and parameters: {'max_depth': 4, 'eta': 0.11165910629072996, 'subsample': 0.8095345420704767, 'colsample_bytree': 0.9790495225581074}.\n",
      "[I 2025-05-16 15:59:36,971] Trial 6 finished with values: [0.6735807960592219, 0.03349853802474029] and parameters: {'max_depth': 5, 'eta': 0.21583145848558197, 'subsample': 0.6503769341984482, 'colsample_bytree': 0.9546615516624863}.\n",
      "[I 2025-05-16 15:59:37,118] Trial 7 finished with values: [0.667876715895758, 0.013232461805930656] and parameters: {'max_depth': 5, 'eta': 0.08676495643565621, 'subsample': 0.8836870911698984, 'colsample_bytree': 0.8052017098650355}.\n",
      "[I 2025-05-16 15:59:37,260] Trial 8 finished with values: [0.6664261885287333, 0.02886159801151601] and parameters: {'max_depth': 5, 'eta': 0.246500637147494, 'subsample': 0.9847726718848996, 'colsample_bytree': 0.7560864313498695}.\n",
      "[I 2025-05-16 15:59:37,444] Trial 9 finished with values: [0.6607267034889243, 0.02502911214516032] and parameters: {'max_depth': 6, 'eta': 0.04139222220954524, 'subsample': 0.7351312221911506, 'colsample_bytree': 0.6287012882509871}.\n",
      "[I 2025-05-16 15:59:37,448] A new study created in memory with name: no-name-1f4b2772-1fd8-4bb8-b895-6c42f3bac87e\n",
      "[I 2025-05-16 15:59:37,580] Trial 0 finished with values: [0.6650108904430619, 0.02338420865917711] and parameters: {'max_depth': 4, 'eta': 0.261201233354703, 'subsample': 0.9096885492800112, 'colsample_bytree': 0.8891897323763804}.\n",
      "[I 2025-05-16 15:59:37,753] Trial 1 finished with values: [0.6621619137770998, 0.010642804625381327] and parameters: {'max_depth': 6, 'eta': 0.0763834919061275, 'subsample': 0.8888722066415913, 'colsample_bytree': 0.6997046098709232}.\n",
      "[I 2025-05-16 15:59:37,890] Trial 2 finished with values: [0.6550103696623809, 0.014410439929673918] and parameters: {'max_depth': 3, 'eta': 0.11489244544142523, 'subsample': 0.9215548974946314, 'colsample_bytree': 0.7036721994508576}.\n",
      "[I 2025-05-16 15:59:38,028] Trial 3 finished with values: [0.6614404793632996, 0.01309610938583572] and parameters: {'max_depth': 3, 'eta': 0.09246593533575329, 'subsample': 0.6082865769019405, 'colsample_bytree': 0.9173804663369828}.\n",
      "[I 2025-05-16 15:59:38,179] Trial 4 finished with values: [0.6714348733124408, 0.019571905954794466] and parameters: {'max_depth': 7, 'eta': 0.24644592560202025, 'subsample': 0.7446460993705475, 'colsample_bytree': 0.6580655646542447}.\n",
      "[I 2025-05-16 15:59:38,342] Trial 5 finished with values: [0.6850042734649989, 0.05158356567829867] and parameters: {'max_depth': 7, 'eta': 0.2552605287050642, 'subsample': 0.6480714690149866, 'colsample_bytree': 0.832519068346719}.\n",
      "[I 2025-05-16 15:59:38,490] Trial 6 finished with values: [0.667876715895758, 0.021565182736514688] and parameters: {'max_depth': 5, 'eta': 0.11558082397504528, 'subsample': 0.8879350785533038, 'colsample_bytree': 0.7800515090191629}.\n",
      "[I 2025-05-16 15:59:38,612] Trial 7 finished with values: [0.6685782381070542, 0.023057475147429285] and parameters: {'max_depth': 3, 'eta': 0.2539474911374431, 'subsample': 0.8581731447219105, 'colsample_bytree': 0.6378516758145546}.\n",
      "[I 2025-05-16 15:59:38,785] Trial 8 finished with values: [0.6785818223035048, 0.02747478838787315] and parameters: {'max_depth': 7, 'eta': 0.29164962315382065, 'subsample': 0.8748796462327735, 'colsample_bytree': 0.6459428250972762}.\n",
      "[I 2025-05-16 15:59:38,989] Trial 9 finished with values: [0.6642955828608015, 0.027391017144725794] and parameters: {'max_depth': 6, 'eta': 0.13930209663195192, 'subsample': 0.9945455647963896, 'colsample_bytree': 0.6980843724983764}.\n",
      "[I 2025-05-16 15:59:38,993] A new study created in memory with name: no-name-3991fd4b-4d69-42c6-bccc-d49d685295b1\n",
      "[I 2025-05-16 15:59:39,240] Trial 0 finished with values: [0.6635695533233466, 0.01457284547370887] and parameters: {'max_depth': 7, 'eta': 0.04425784510198947, 'subsample': 0.9167696348375267, 'colsample_bytree': 0.9920168550610499}.\n",
      "[I 2025-05-16 15:59:39,394] Trial 1 finished with values: [0.663581806986426, 0.017389413834431027] and parameters: {'max_depth': 3, 'eta': 0.23762324122436693, 'subsample': 0.7015011023227147, 'colsample_bytree': 0.6902628308408459}.\n",
      "[I 2025-05-16 15:59:39,593] Trial 2 finished with values: [0.6764358995567238, 0.04250332216187632] and parameters: {'max_depth': 6, 'eta': 0.24536409949027763, 'subsample': 0.9231097744795643, 'colsample_bytree': 0.7551350613444453}.\n",
      "[I 2025-05-16 15:59:39,777] Trial 3 finished with values: [0.667156813189843, 0.018995067306278684] and parameters: {'max_depth': 3, 'eta': 0.29585181581245307, 'subsample': 0.6807718819249565, 'colsample_bytree': 0.6038183712135013}.\n",
      "[I 2025-05-16 15:59:40,003] Trial 4 finished with values: [0.6585792490342582, 0.02375295924448857] and parameters: {'max_depth': 7, 'eta': 0.07077348164786523, 'subsample': 0.7727495513389067, 'colsample_bytree': 0.7050274395064834}.\n",
      "[I 2025-05-16 15:59:40,164] Trial 5 finished with values: [0.6678705890642185, 0.025982952545830152] and parameters: {'max_depth': 3, 'eta': 0.18127976665550918, 'subsample': 0.7542251727495569, 'colsample_bytree': 0.9115950932220915}.\n",
      "[I 2025-05-16 15:59:40,340] Trial 6 finished with values: [0.6743006987651371, 0.025793681758423226] and parameters: {'max_depth': 4, 'eta': 0.2616194077090895, 'subsample': 0.8877093309606592, 'colsample_bytree': 0.7429364439806092}.\n",
      "[I 2025-05-16 15:59:40,539] Trial 7 finished with values: [0.6728608933533068, 0.044339581353879644] and parameters: {'max_depth': 6, 'eta': 0.26839814980019006, 'subsample': 0.7060861374758788, 'colsample_bytree': 0.8155238737308088}.\n",
      "[I 2025-05-16 15:59:40,810] Trial 8 finished with values: [0.6578731316993074, 0.023419798628464012] and parameters: {'max_depth': 3, 'eta': 0.01986920464224292, 'subsample': 0.7549341026965943, 'colsample_bytree': 0.7185849520956021}.\n",
      "[I 2025-05-16 15:59:40,992] Trial 9 finished with values: [0.67072875597749, 0.02798094807061613] and parameters: {'max_depth': 5, 'eta': 0.27330433196578147, 'subsample': 0.7714069046295007, 'colsample_bytree': 0.6206431511417887}.\n",
      "[I 2025-05-16 15:59:40,997] A new study created in memory with name: no-name-e73c5040-eaac-4838-b503-6ba53cbac7d9\n",
      "[I 2025-05-16 15:59:41,155] Trial 0 finished with values: [0.6657246663174372, 0.02781082330718578] and parameters: {'max_depth': 3, 'eta': 0.21507316064704, 'subsample': 0.7368898935967948, 'colsample_bytree': 0.6742189699393346}.\n",
      "[I 2025-05-16 15:59:41,355] Trial 1 finished with values: [0.6771466120153292, 0.020980667977748335] and parameters: {'max_depth': 6, 'eta': 0.16924391404240124, 'subsample': 0.929207973244078, 'colsample_bytree': 0.6923895697815667}.\n",
      "[I 2025-05-16 15:59:41,541] Trial 2 finished with values: [0.6721639662656655, 0.04337711466867139] and parameters: {'max_depth': 5, 'eta': 0.23518398981776673, 'subsample': 0.8773762975724386, 'colsample_bytree': 0.7524890050332513}.\n",
      "[I 2025-05-16 15:59:41,735] Trial 3 finished with values: [0.6585869075736829, 0.013276025787572856] and parameters: {'max_depth': 3, 'eta': 0.07228966055882456, 'subsample': 0.825243122390734, 'colsample_bytree': 0.8015782204169721}.\n",
      "[I 2025-05-16 15:59:41,914] Trial 4 finished with values: [0.6707318193932599, 0.045289399942658785] and parameters: {'max_depth': 4, 'eta': 0.19619103340348873, 'subsample': 0.8331756280173207, 'colsample_bytree': 0.8761627783921915}.\n",
      "[I 2025-05-16 15:59:42,089] Trial 5 finished with values: [0.6642879243213768, 0.027964949220671453] and parameters: {'max_depth': 6, 'eta': 0.1226894871041768, 'subsample': 0.9994309770737811, 'colsample_bytree': 0.6574167918391207}.\n",
      "[I 2025-05-16 15:59:42,220] Trial 6 finished with values: [0.6614404793632996, 0.032112502324609445] and parameters: {'max_depth': 4, 'eta': 0.09045690140839734, 'subsample': 0.6145776208598265, 'colsample_bytree': 0.7790959985864321}.\n",
      "[I 2025-05-16 15:59:42,347] Trial 7 finished with values: [0.6692996725208542, 0.032040219366829124] and parameters: {'max_depth': 4, 'eta': 0.16429804171835372, 'subsample': 0.8051729096153353, 'colsample_bytree': 0.9628154230932211}.\n",
      "[I 2025-05-16 15:59:42,486] Trial 8 finished with values: [0.6764404946803785, 0.03035567195167475] and parameters: {'max_depth': 7, 'eta': 0.21990432956980113, 'subsample': 0.6343027814983208, 'colsample_bytree': 0.724544280629779}.\n",
      "[I 2025-05-16 15:59:42,614] Trial 9 finished with values: [0.6685843649385937, 0.03520192871215866] and parameters: {'max_depth': 4, 'eta': 0.1452750752419443, 'subsample': 0.6203699042833649, 'colsample_bytree': 0.9589558462917538}.\n",
      "[I 2025-05-16 15:59:42,618] A new study created in memory with name: no-name-621afee5-03e5-402b-8de5-053866e0863c\n",
      "[I 2025-05-16 15:59:42,759] Trial 0 finished with values: [0.6657124126543578, 0.036216890931847906] and parameters: {'max_depth': 4, 'eta': 0.13832058518518206, 'subsample': 0.9766377730396889, 'colsample_bytree': 0.8086277782889199}.\n",
      "[I 2025-05-16 15:59:42,915] Trial 1 finished with values: [0.6721471174789313, 0.014906005018054372] and parameters: {'max_depth': 6, 'eta': 0.18379308641756611, 'subsample': 0.8437639132929337, 'colsample_bytree': 0.8637840663608769}.\n",
      "[I 2025-05-16 15:59:43,061] Trial 2 finished with values: [0.6742853816862878, 0.03189856441891187] and parameters: {'max_depth': 7, 'eta': 0.19807836775566182, 'subsample': 0.9092999703109506, 'colsample_bytree': 0.8916532794697238}.\n",
      "[I 2025-05-16 15:59:43,213] Trial 3 finished with values: [0.6642925194450315, 0.04580960876547113] and parameters: {'max_depth': 4, 'eta': 0.06282073192519831, 'subsample': 0.9265168139079563, 'colsample_bytree': 0.7873307020260639}.\n",
      "[I 2025-05-16 15:59:43,365] Trial 4 finished with values: [0.6614389476554148, 0.023714035586057048] and parameters: {'max_depth': 3, 'eta': 0.10427442668842912, 'subsample': 0.8745976796410628, 'colsample_bytree': 0.9630063617242725}.\n",
      "[I 2025-05-16 15:59:43,542] Trial 5 finished with values: [0.6500078117102132, 0.015902122966781784] and parameters: {'max_depth': 3, 'eta': 0.10662753687098363, 'subsample': 0.9758436002072423, 'colsample_bytree': 0.6547763812241868}.\n",
      "[I 2025-05-16 15:59:43,754] Trial 6 finished with values: [0.6657292614410921, 0.037838854068214245] and parameters: {'max_depth': 7, 'eta': 0.05398784844092001, 'subsample': 0.8707578388230479, 'colsample_bytree': 0.7539307432943878}.\n",
      "[I 2025-05-16 15:59:43,947] Trial 7 finished with values: [0.6785772271798501, 0.03954436733328578] and parameters: {'max_depth': 7, 'eta': 0.2924017605920189, 'subsample': 0.9218519350478009, 'colsample_bytree': 0.6175395897260885}.\n",
      "[I 2025-05-16 15:59:44,077] Trial 8 finished with values: [0.6750114112237426, 0.03804149673108969] and parameters: {'max_depth': 3, 'eta': 0.28300140556429965, 'subsample': 0.8301056860468221, 'colsample_bytree': 0.8162549612298788}.\n",
      "[I 2025-05-16 15:59:44,224] Trial 9 finished with values: [0.6735731375197972, 0.03427009213251769] and parameters: {'max_depth': 6, 'eta': 0.29758904805845016, 'subsample': 0.7683750430609009, 'colsample_bytree': 0.943195347754192}.\n",
      "[I 2025-05-16 15:59:44,230] A new study created in memory with name: no-name-5fb278f6-66dd-4f57-873f-19c91ede9df5\n",
      "[I 2025-05-16 15:59:44,482] Trial 0 finished with values: [0.660008332490894, 0.05041144242160328] and parameters: {'max_depth': 7, 'eta': 0.03982127611377212, 'subsample': 0.9278515498981426, 'colsample_bytree': 0.8055653159950309}.\n",
      "[I 2025-05-16 15:59:44,702] Trial 1 finished with values: [0.6721609028498957, 0.061871789365849715] and parameters: {'max_depth': 5, 'eta': 0.029898719804716284, 'subsample': 0.7991226920004909, 'colsample_bytree': 0.7349465724381257}.\n",
      "[I 2025-05-16 15:59:44,864] Trial 2 finished with values: [0.6778649830133595, 0.06064282256017562] and parameters: {'max_depth': 4, 'eta': 0.2809770002546597, 'subsample': 0.982661022473999, 'colsample_bytree': 0.9325877862107774}.\n",
      "[I 2025-05-16 15:59:45,052] Trial 3 finished with values: [0.6800078423443708, 0.0519922588756808] and parameters: {'max_depth': 5, 'eta': 0.16747239863258342, 'subsample': 0.6230299464953309, 'colsample_bytree': 0.9279595517421884}.\n",
      "[I 2025-05-16 15:59:45,194] Trial 4 finished with values: [0.6692950773971994, 0.02064149129170099] and parameters: {'max_depth': 3, 'eta': 0.24216063580150415, 'subsample': 0.6021280957191167, 'colsample_bytree': 0.6970115432138881}.\n",
      "[I 2025-05-16 15:59:45,557] Trial 5 finished with values: [0.6692874188577748, 0.027058977851918558] and parameters: {'max_depth': 5, 'eta': 0.013118660528247974, 'subsample': 0.8158111787926955, 'colsample_bytree': 0.9860574958398365}.\n",
      "[I 2025-05-16 15:59:45,752] Trial 6 finished with values: [0.6621450649903656, 0.010426866289364048] and parameters: {'max_depth': 4, 'eta': 0.21232021538583226, 'subsample': 0.7596817483180995, 'colsample_bytree': 0.642448687215134}.\n",
      "[I 2025-05-16 15:59:45,919] Trial 7 finished with values: [0.6657261980253223, 0.019103588098118796] and parameters: {'max_depth': 4, 'eta': 0.08308515342838335, 'subsample': 0.6357304982674737, 'colsample_bytree': 0.6347881595441521}.\n",
      "[I 2025-05-16 15:59:46,186] Trial 8 finished with values: [0.6714272147730161, 0.03937899013989874] and parameters: {'max_depth': 5, 'eta': 0.10431823947446035, 'subsample': 0.965445824445134, 'colsample_bytree': 0.9896156583384779}.\n",
      "[I 2025-05-16 15:59:46,349] Trial 9 finished with values: [0.6757190602665784, 0.019564550964924748] and parameters: {'max_depth': 7, 'eta': 0.19309791686918737, 'subsample': 0.8576559716155393, 'colsample_bytree': 0.8920561626894689}.\n",
      "[I 2025-05-16 15:59:46,353] A new study created in memory with name: no-name-ea61fee2-12de-42e8-8f98-88413f0709d0\n",
      "[I 2025-05-16 15:59:46,562] Trial 0 finished with values: [0.6592976200322884, 0.033079367470968825] and parameters: {'max_depth': 5, 'eta': 0.038330552393415374, 'subsample': 0.8261503709503119, 'colsample_bytree': 0.7780665919107503}.\n",
      "[I 2025-05-16 15:59:46,756] Trial 1 finished with values: [0.6564440482426716, 0.0244809227623637] and parameters: {'max_depth': 3, 'eta': 0.04763856989825138, 'subsample': 0.9079239439028136, 'colsample_bytree': 0.7678356827204089}.\n",
      "[I 2025-05-16 15:59:46,949] Trial 2 finished with values: [0.6657261980253222, 0.03090410793183625] and parameters: {'max_depth': 7, 'eta': 0.08696796893681555, 'subsample': 0.6734269610035747, 'colsample_bytree': 0.6424587060174666}.\n",
      "[I 2025-05-16 15:59:47,203] Trial 3 finished with values: [0.6835736583004782, 0.06860893909824063] and parameters: {'max_depth': 7, 'eta': 0.23291053220305605, 'subsample': 0.6126159267807427, 'colsample_bytree': 0.9181322964179084}.\n",
      "[I 2025-05-16 15:59:47,433] Trial 4 finished with values: [0.6628664994041656, 0.020105536432641957] and parameters: {'max_depth': 3, 'eta': 0.12059220332924084, 'subsample': 0.8074979044333994, 'colsample_bytree': 0.6211224410010496}.\n",
      "[I 2025-05-16 15:59:47,678] Trial 5 finished with values: [0.668579769814939, 0.020173713040741642] and parameters: {'max_depth': 5, 'eta': 0.0861197384047012, 'subsample': 0.826587505820787, 'colsample_bytree': 0.6198966038022979}.\n",
      "[I 2025-05-16 15:59:47,913] Trial 6 finished with values: [0.6650216123982563, 0.024200641213054503] and parameters: {'max_depth': 3, 'eta': 0.04606554866490257, 'subsample': 0.7973535223685684, 'colsample_bytree': 0.7417319236476235}.\n",
      "[I 2025-05-16 15:59:48,106] Trial 7 finished with values: [0.6757190602665784, 0.046808453369691076] and parameters: {'max_depth': 6, 'eta': 0.18247011674952854, 'subsample': 0.6925159225472395, 'colsample_bytree': 0.9729786480444745}.\n",
      "[I 2025-05-16 15:59:48,321] Trial 8 finished with values: [0.6850058051728839, 0.030476215648243498] and parameters: {'max_depth': 6, 'eta': 0.23503692477136864, 'subsample': 0.850022612486812, 'colsample_bytree': 0.8184790900009578}.\n",
      "[I 2025-05-16 15:59:48,497] Trial 9 finished with values: [0.6592976200322884, 0.02622747421522507] and parameters: {'max_depth': 3, 'eta': 0.19671463786815668, 'subsample': 0.96178549535538, 'colsample_bytree': 0.726224227516464}.\n",
      "[I 2025-05-16 15:59:48,502] A new study created in memory with name: no-name-6a81dd76-de4a-4099-b0c0-5694a25ba5e8\n",
      "[I 2025-05-16 15:59:48,683] Trial 0 finished with values: [0.6664323153602729, 0.024267687742125715] and parameters: {'max_depth': 4, 'eta': 0.12659756893048102, 'subsample': 0.7775166147498278, 'colsample_bytree': 0.6591737469613747}.\n",
      "[I 2025-05-16 15:59:48,836] Trial 1 finished with values: [0.6664445690233525, 0.03684090481602698] and parameters: {'max_depth': 3, 'eta': 0.230811339090742, 'subsample': 0.880457029327538, 'colsample_bytree': 0.715125386793954}.\n",
      "[I 2025-05-16 15:59:49,039] Trial 2 finished with values: [0.6721486491868163, 0.04087049075835364] and parameters: {'max_depth': 5, 'eta': 0.08434813657747178, 'subsample': 0.8946156552012396, 'colsample_bytree': 0.828158474326991}.\n",
      "[I 2025-05-16 15:59:49,239] Trial 3 finished with values: [0.6800124374680255, 0.05180568781861037] and parameters: {'max_depth': 5, 'eta': 0.2971518683114971, 'subsample': 0.8450448243341204, 'colsample_bytree': 0.866863522855434}.\n",
      "[I 2025-05-16 15:59:49,419] Trial 4 finished with values: [0.6535874130372848, 0.03258661678258429] and parameters: {'max_depth': 3, 'eta': 0.060294467347755024, 'subsample': 0.9936550269154762, 'colsample_bytree': 0.9662575116777318}.\n",
      "[I 2025-05-16 15:59:49,618] Trial 5 finished with values: [0.6642986462765713, 0.03763615900320553] and parameters: {'max_depth': 4, 'eta': 0.09364225092627022, 'subsample': 0.7007074285654515, 'colsample_bytree': 0.7904009763794901}.\n",
      "[I 2025-05-16 15:59:49,824] Trial 6 finished with values: [0.6814277355536972, 0.04624684814850521] and parameters: {'max_depth': 6, 'eta': 0.2624526024793964, 'subsample': 0.8458430554852991, 'colsample_bytree': 0.83459720224928}.\n",
      "[I 2025-05-16 15:59:49,990] Trial 7 finished with values: [0.6793017250094201, 0.022129345157100355] and parameters: {'max_depth': 3, 'eta': 0.22364444271479486, 'subsample': 0.6543726140742018, 'colsample_bytree': 0.9571510693092077}.\n",
      "[I 2025-05-16 15:59:50,199] Trial 8 finished with values: [0.6850104002965387, 0.006064859786642396] and parameters: {'max_depth': 6, 'eta': 0.2879250450156225, 'subsample': 0.8158830467969738, 'colsample_bytree': 0.6234818745924056}.\n",
      "[I 2025-05-16 15:59:50,381] Trial 9 finished with values: [0.6892884604191365, 0.04572161037271202] and parameters: {'max_depth': 6, 'eta': 0.26219274682488986, 'subsample': 0.9469616449592756, 'colsample_bytree': 0.9496110424953279}.\n",
      "[I 2025-05-16 15:59:50,387] A new study created in memory with name: no-name-90604513-eba6-4026-ac63-432feb9d00b7\n",
      "[I 2025-05-16 15:59:50,648] Trial 0 finished with values: [0.6621542552376751, 0.05339425458608573] and parameters: {'max_depth': 7, 'eta': 0.03712887659758163, 'subsample': 0.9895100883259731, 'colsample_bytree': 0.7894889561608666}.\n",
      "[I 2025-05-16 15:59:50,868] Trial 1 finished with values: [0.6685751746912842, 0.029771512414384516] and parameters: {'max_depth': 4, 'eta': 0.08661350615923098, 'subsample': 0.8401886480239936, 'colsample_bytree': 0.8310802771087669}.\n",
      "[I 2025-05-16 15:59:51,013] Trial 2 finished with values: [0.6657231346095523, 0.023636705124694835] and parameters: {'max_depth': 3, 'eta': 0.27363638710494176, 'subsample': 0.8815859013440475, 'colsample_bytree': 0.9674455316217371}.\n",
      "[I 2025-05-16 15:59:51,132] Trial 3 finished with values: [0.6621420015745957, 0.017140255894139755] and parameters: {'max_depth': 3, 'eta': 0.15971246160667255, 'subsample': 0.9239549367470448, 'colsample_bytree': 0.6894659278892998}.\n",
      "[I 2025-05-16 15:59:51,283] Trial 4 finished with values: [0.6757129334350388, 0.024589928484965124] and parameters: {'max_depth': 6, 'eta': 0.1338090957952259, 'subsample': 0.8401532095728911, 'colsample_bytree': 0.8432587094454347}.\n",
      "[I 2025-05-16 15:59:51,436] Trial 5 finished with values: [0.668581301522824, 0.02687220302971577] and parameters: {'max_depth': 7, 'eta': 0.08611442226659753, 'subsample': 0.830045214348851, 'colsample_bytree': 0.9930041876477557}.\n",
      "[I 2025-05-16 15:59:51,573] Trial 6 finished with values: [0.6892884604191366, 0.048182743793438156] and parameters: {'max_depth': 7, 'eta': 0.2588050693612437, 'subsample': 0.81708048027741, 'colsample_bytree': 0.9700381903559693}.\n",
      "[I 2025-05-16 15:59:51,765] Trial 7 finished with values: [0.6607205766573846, 0.019132880348383608] and parameters: {'max_depth': 6, 'eta': 0.04157537844300314, 'subsample': 0.8209695218896148, 'colsample_bytree': 0.7739754591622579}.\n",
      "[I 2025-05-16 15:59:51,891] Trial 8 finished with values: [0.672857829937537, 0.0369270387575944] and parameters: {'max_depth': 5, 'eta': 0.10971788704575867, 'subsample': 0.8647064368085446, 'colsample_bytree': 0.8179719357125774}.\n",
      "[I 2025-05-16 15:59:52,054] Trial 9 finished with values: [0.6607221083652695, 0.04377019263366135] and parameters: {'max_depth': 6, 'eta': 0.06670316080990395, 'subsample': 0.9792382451794305, 'colsample_bytree': 0.6170649931512333}.\n",
      "[I 2025-05-16 15:59:52,058] A new study created in memory with name: no-name-29f976a8-4b5a-4239-ba63-11ca60a3c3fb\n",
      "[I 2025-05-16 15:59:52,200] Trial 0 finished with values: [0.6721471174789313, 0.045781022378477004] and parameters: {'max_depth': 6, 'eta': 0.26427758926601297, 'subsample': 0.9520766199554891, 'colsample_bytree': 0.6855822177821811}.\n",
      "[I 2025-05-16 15:59:52,341] Trial 1 finished with values: [0.6707119071907558, 0.02260019848217021] and parameters: {'max_depth': 6, 'eta': 0.18311477437318208, 'subsample': 0.9171818388360269, 'colsample_bytree': 0.6525410242009942}.\n",
      "[I 2025-05-16 15:59:52,498] Trial 2 finished with values: [0.6657170077780127, 0.038995523576269266] and parameters: {'max_depth': 4, 'eta': 0.039586015205226865, 'subsample': 0.9385817008160044, 'colsample_bytree': 0.8726627463948218}.\n",
      "[I 2025-05-16 15:59:52,637] Trial 3 finished with values: [0.6871532596275499, 0.039451420241592185] and parameters: {'max_depth': 6, 'eta': 0.21563509540955228, 'subsample': 0.7200023314872661, 'colsample_bytree': 0.6380840523835375}.\n",
      "[I 2025-05-16 15:59:52,891] Trial 4 finished with values: [0.6707272242696051, 0.03270322061310499] and parameters: {'max_depth': 4, 'eta': 0.014829146078023788, 'subsample': 0.7920526205778986, 'colsample_bytree': 0.6173067163831547}.\n",
      "[I 2025-05-16 15:59:53,022] Trial 5 finished with values: [0.6750083478079728, 0.047357157825523154] and parameters: {'max_depth': 5, 'eta': 0.18782919566864845, 'subsample': 0.8234540233964461, 'colsample_bytree': 0.8334986096876082}.\n",
      "[I 2025-05-16 15:59:53,274] Trial 6 finished with values: [0.6642986462765713, 0.04339294940100114] and parameters: {'max_depth': 6, 'eta': 0.01621014491799249, 'subsample': 0.934356217586826, 'colsample_bytree': 0.6113670775239688}.\n",
      "[I 2025-05-16 15:59:53,467] Trial 7 finished with values: [0.6850058051728839, 0.0645399067701911] and parameters: {'max_depth': 7, 'eta': 0.03358019239961675, 'subsample': 0.7886867958129895, 'colsample_bytree': 0.8979212150926725}.\n",
      "[I 2025-05-16 15:59:53,611] Trial 8 finished with values: [0.6614420110711846, 0.03504448564341071] and parameters: {'max_depth': 3, 'eta': 0.0339488742197224, 'subsample': 0.8045981591699354, 'colsample_bytree': 0.7139806207358395}.\n",
      "[I 2025-05-16 15:59:53,732] Trial 9 finished with values: [0.6664292519445031, 0.04367468571465039] and parameters: {'max_depth': 4, 'eta': 0.15930017470752117, 'subsample': 0.9859099239023785, 'colsample_bytree': 0.9699305860315356}.\n",
      "[I 2025-05-16 15:59:53,736] A new study created in memory with name: no-name-625218b0-72cb-4dcd-aadb-0c800996e0e9\n",
      "[I 2025-05-16 15:59:53,879] Trial 0 finished with values: [0.6721517126025862, 0.021082692300624446] and parameters: {'max_depth': 7, 'eta': 0.1403941094727406, 'subsample': 0.8911339948187054, 'colsample_bytree': 0.6668007026842595}.\n",
      "[I 2025-05-16 15:59:54,019] Trial 1 finished with values: [0.6642772023661823, 0.04289031148707778] and parameters: {'max_depth': 7, 'eta': 0.13275907500413325, 'subsample': 0.8339306800686646, 'colsample_bytree': 0.9013241383693871}.\n",
      "[I 2025-05-16 15:59:54,169] Trial 2 finished with values: [0.6614435427790696, 0.03697839353683447] and parameters: {'max_depth': 3, 'eta': 0.03904782766515032, 'subsample': 0.7145863621039416, 'colsample_bytree': 0.8090172273549516}.\n",
      "[I 2025-05-16 15:59:54,297] Trial 3 finished with values: [0.6585823124500281, 0.013939986738351015] and parameters: {'max_depth': 3, 'eta': 0.06831564986899719, 'subsample': 0.948965838544475, 'colsample_bytree': 0.9501566926699897}.\n",
      "[I 2025-05-16 15:59:54,444] Trial 4 finished with values: [0.6778695781370142, 0.03251758502825317] and parameters: {'max_depth': 7, 'eta': 0.1328112273677541, 'subsample': 0.8922604425992465, 'colsample_bytree': 0.8639344925257897}.\n",
      "[I 2025-05-16 15:59:54,596] Trial 5 finished with values: [0.6707180340222955, 0.01903769897544616] and parameters: {'max_depth': 7, 'eta': 0.11621548039141252, 'subsample': 0.7730432355055243, 'colsample_bytree': 0.61960877928486}.\n",
      "[I 2025-05-16 15:59:54,735] Trial 6 finished with values: [0.6685767063991692, 0.03263914931897727] and parameters: {'max_depth': 4, 'eta': 0.08923048199032149, 'subsample': 0.8265081003142126, 'colsample_bytree': 0.9415178332974629}.\n",
      "[I 2025-05-16 15:59:54,856] Trial 7 finished with values: [0.6714364050203256, 0.02092432236846618] and parameters: {'max_depth': 4, 'eta': 0.17435986972222625, 'subsample': 0.9102717805793886, 'colsample_bytree': 0.6487596702094766}.\n",
      "[I 2025-05-16 15:59:55,031] Trial 8 finished with values: [0.6750037526843181, 0.039574373993647584] and parameters: {'max_depth': 7, 'eta': 0.19860519949962388, 'subsample': 0.933584306059316, 'colsample_bytree': 0.972940789776849}.\n",
      "[I 2025-05-16 15:59:55,190] Trial 9 finished with values: [0.6692935456893144, 0.03105582095932426] and parameters: {'max_depth': 5, 'eta': 0.053691377691212794, 'subsample': 0.7677349663630487, 'colsample_bytree': 0.7883200112052817}.\n",
      "[I 2025-05-16 15:59:55,196] A new study created in memory with name: no-name-0fc4ddc7-9d15-4ba7-82f7-2e6e77b5cb89\n",
      "[I 2025-05-16 15:59:55,347] Trial 0 finished with values: [0.6799955886812915, 0.06087545654487627] and parameters: {'max_depth': 6, 'eta': 0.1749945271140642, 'subsample': 0.918734388633089, 'colsample_bytree': 0.8406289612713679}.\n",
      "[I 2025-05-16 15:59:55,486] Trial 1 finished with values: [0.6871486645038951, 0.052410500813601414] and parameters: {'max_depth': 5, 'eta': 0.2724009572022791, 'subsample': 0.923134515471833, 'colsample_bytree': 0.9944724352345851}.\n",
      "[I 2025-05-16 15:59:55,628] Trial 2 finished with values: [0.6714348733124408, 0.02528396041275292] and parameters: {'max_depth': 7, 'eta': 0.1343366232309564, 'subsample': 0.7071848917598642, 'colsample_bytree': 0.6266897995160339}.\n",
      "[I 2025-05-16 15:59:55,770] Trial 3 finished with values: [0.6735777326434521, 0.04524853625483927] and parameters: {'max_depth': 5, 'eta': 0.24253382533320392, 'subsample': 0.9525823562370235, 'colsample_bytree': 0.6357978278931574}.\n",
      "[I 2025-05-16 15:59:55,907] Trial 4 finished with values: [0.6735838594749918, 0.018888754202732044] and parameters: {'max_depth': 4, 'eta': 0.11430903872026235, 'subsample': 0.6061764549908257, 'colsample_bytree': 0.6448522382850653}.\n",
      "[I 2025-05-16 15:59:56,057] Trial 5 finished with values: [0.6678675256484485, 0.04379345470014285] and parameters: {'max_depth': 5, 'eta': 0.17998973352735143, 'subsample': 0.9075336461483409, 'colsample_bytree': 0.7617189703252532}.\n",
      "[I 2025-05-16 15:59:56,188] Trial 6 finished with values: [0.6692920139814295, 0.048894615163457056] and parameters: {'max_depth': 3, 'eta': 0.22765944432407362, 'subsample': 0.8509023526591445, 'colsample_bytree': 0.9890930233658332}.\n",
      "[I 2025-05-16 15:59:56,422] Trial 7 finished with values: [0.6700103849794597, 0.04881921338877813] and parameters: {'max_depth': 4, 'eta': 0.025362505520563978, 'subsample': 0.6037009032683632, 'colsample_bytree': 0.865981770509059}.\n",
      "[I 2025-05-16 15:59:56,577] Trial 8 finished with values: [0.6785787588877351, 0.047022285429467896] and parameters: {'max_depth': 5, 'eta': 0.16474502055433587, 'subsample': 0.732401365019498, 'colsample_bytree': 0.7459663247049126}.\n",
      "[I 2025-05-16 15:59:56,731] Trial 9 finished with values: [0.680006310636486, 0.033116390818132814] and parameters: {'max_depth': 7, 'eta': 0.12653412138146763, 'subsample': 0.9176112977627776, 'colsample_bytree': 0.9567180399546249}.\n",
      "[I 2025-05-16 15:59:56,734] A new study created in memory with name: no-name-a1eb6439-1d50-4efa-a340-598bce990a7b\n",
      "[I 2025-05-16 15:59:56,873] Trial 0 finished with values: [0.6671445595267634, 0.03918348271739249] and parameters: {'max_depth': 5, 'eta': 0.15065232495921688, 'subsample': 0.7128167173530521, 'colsample_bytree': 0.9255614098519873}.\n",
      "[I 2025-05-16 15:59:57,046] Trial 1 finished with values: [0.6643017096923413, 0.026555718336939833] and parameters: {'max_depth': 4, 'eta': 0.05309273455892313, 'subsample': 0.6295901401006044, 'colsample_bytree': 0.8875611814018358}.\n",
      "[I 2025-05-16 15:59:57,171] Trial 2 finished with values: [0.667858335401139, 0.04164011735011963] and parameters: {'max_depth': 4, 'eta': 0.1825503257675294, 'subsample': 0.962951734322204, 'colsample_bytree': 0.9138853751173592}.\n",
      "[I 2025-05-16 15:59:57,330] Trial 3 finished with values: [0.6735700741040275, 0.037346194439700796] and parameters: {'max_depth': 7, 'eta': 0.09699022226176693, 'subsample': 0.9861339344554861, 'colsample_bytree': 0.9790766770939372}.\n",
      "[I 2025-05-16 15:59:57,498] Trial 4 finished with values: [0.6650047636115222, 0.03660895335785655] and parameters: {'max_depth': 5, 'eta': 0.04887844410757978, 'subsample': 0.7196546860669889, 'colsample_bytree': 0.8402776153764596}.\n",
      "[I 2025-05-16 15:59:57,635] Trial 5 finished with values: [0.6721455857710463, 0.015099162446814085] and parameters: {'max_depth': 5, 'eta': 0.1757716447388922, 'subsample': 0.6894405565105733, 'colsample_bytree': 0.6495402671533387}.\n",
      "[I 2025-05-16 15:59:57,756] Trial 6 finished with values: [0.6692996725208543, 0.056005844017785245] and parameters: {'max_depth': 3, 'eta': 0.2514983415925709, 'subsample': 0.6974864755863134, 'colsample_bytree': 0.7453697198463398}.\n",
      "[I 2025-05-16 15:59:57,883] Trial 7 finished with values: [0.6678705890642185, 0.042894235620698856] and parameters: {'max_depth': 3, 'eta': 0.2580316160008401, 'subsample': 0.8302826357825395, 'colsample_bytree': 0.7100364873076563}.\n",
      "[I 2025-05-16 15:59:58,061] Trial 8 finished with values: [0.6664307836523881, 0.040285251967269] and parameters: {'max_depth': 4, 'eta': 0.06366045243102024, 'subsample': 0.9360673943148087, 'colsample_bytree': 0.9343693395338513}.\n",
      "[I 2025-05-16 15:59:58,215] Trial 9 finished with values: [0.6792910030542255, 0.03894715277544688] and parameters: {'max_depth': 7, 'eta': 0.17116856043677942, 'subsample': 0.6311607644807004, 'colsample_bytree': 0.7954297123945746}.\n",
      "[I 2025-05-16 15:59:58,218] A new study created in memory with name: no-name-0aa2c1e8-6fb7-4c14-90a5-f4893b5f1844\n",
      "[I 2025-05-16 15:59:58,338] Trial 0 finished with values: [0.6650124221509468, 0.024541599019145932] and parameters: {'max_depth': 3, 'eta': 0.15065966173250345, 'subsample': 0.6981716701260401, 'colsample_bytree': 0.9413895458254321}.\n",
      "[I 2025-05-16 15:59:58,461] Trial 1 finished with values: [0.6614420110711846, 0.018414491817076578] and parameters: {'max_depth': 3, 'eta': 0.15681261353967288, 'subsample': 0.9370319390361799, 'colsample_bytree': 0.7138760057187443}.\n",
      "[I 2025-05-16 15:59:58,578] Trial 2 finished with values: [0.6778603878897048, 0.04395026947110466] and parameters: {'max_depth': 3, 'eta': 0.2257649366326033, 'subsample': 0.7866737962293651, 'colsample_bytree': 0.8657329761614523}.\n",
      "[I 2025-05-16 15:59:58,814] Trial 3 finished with values: [0.665007827027292, 0.057823344402333325] and parameters: {'max_depth': 5, 'eta': 0.027553696662507544, 'subsample': 0.7923037121911501, 'colsample_bytree': 0.7584675948345614}.\n",
      "[I 2025-05-16 15:59:59,032] Trial 4 finished with values: [0.6778511976423953, 0.050609976298177484] and parameters: {'max_depth': 7, 'eta': 0.2476992046092399, 'subsample': 0.7694414572926624, 'colsample_bytree': 0.8362878784238734}.\n",
      "[I 2025-05-16 15:59:59,191] Trial 5 finished with values: [0.6635802752785411, 0.023530183793312315] and parameters: {'max_depth': 3, 'eta': 0.13643375162996596, 'subsample': 0.6741399213378865, 'colsample_bytree': 0.6209528173794397}.\n",
      "[I 2025-05-16 15:59:59,394] Trial 6 finished with values: [0.6700073215636899, 0.02359056880770971] and parameters: {'max_depth': 7, 'eta': 0.12230322303597282, 'subsample': 0.9388900361071767, 'colsample_bytree': 0.7011628751389513}.\n",
      "[I 2025-05-16 15:59:59,597] Trial 7 finished with values: [0.6735823277671069, 0.06392790394801816] and parameters: {'max_depth': 5, 'eta': 0.16193860942273813, 'subsample': 0.6071511092580036, 'colsample_bytree': 0.8029204824565942}.\n",
      "[I 2025-05-16 15:59:59,769] Trial 8 finished with values: [0.6657353882726317, 0.028584426637299477] and parameters: {'max_depth': 3, 'eta': 0.07203896255452348, 'subsample': 0.6600942210382039, 'colsample_bytree': 0.7618771085802317}.\n",
      "[I 2025-05-16 15:59:59,965] Trial 9 finished with values: [0.6778588561818198, 0.035797025253000186] and parameters: {'max_depth': 7, 'eta': 0.16079097768254927, 'subsample': 0.8806171402238272, 'colsample_bytree': 0.7081969383272133}.\n",
      "[I 2025-05-16 15:59:59,969] A new study created in memory with name: no-name-211c1e12-9618-41d9-b732-ccccf3982c9b\n",
      "[I 2025-05-16 16:00:00,157] Trial 0 finished with values: [0.6807047694320122, 0.07229363786255891] and parameters: {'max_depth': 6, 'eta': 0.2836752633965272, 'subsample': 0.9428267902729279, 'colsample_bytree': 0.9112448597438396}.\n",
      "[I 2025-05-16 16:00:00,330] Trial 1 finished with values: [0.6678659939405636, 0.04938183296593648] and parameters: {'max_depth': 4, 'eta': 0.12956036162364565, 'subsample': 0.8207386438231907, 'colsample_bytree': 0.8149640451992152}.\n",
      "[I 2025-05-16 16:00:00,479] Trial 2 finished with values: [0.6635802752785411, 0.034086990221257746] and parameters: {'max_depth': 3, 'eta': 0.14062265485980155, 'subsample': 0.8351791923549502, 'colsample_bytree': 0.9440531417758566}.\n",
      "[I 2025-05-16 16:00:00,797] Trial 3 finished with values: [0.6771404851837897, 0.04822881355276226] and parameters: {'max_depth': 7, 'eta': 0.023603745821784775, 'subsample': 0.8995789626769677, 'colsample_bytree': 0.9799635332076606}.\n",
      "[I 2025-05-16 16:00:01,007] Trial 4 finished with values: [0.6792833445148009, 0.048462646343522174] and parameters: {'max_depth': 7, 'eta': 0.2018108766272247, 'subsample': 0.6347840823633087, 'colsample_bytree': 0.7482950682721854}.\n",
      "[I 2025-05-16 16:00:01,167] Trial 5 finished with values: [0.667155281481958, 0.040083216869871964] and parameters: {'max_depth': 3, 'eta': 0.21239598329984521, 'subsample': 0.7931804346134114, 'colsample_bytree': 0.7305091483474065}.\n",
      "[I 2025-05-16 16:00:01,338] Trial 6 finished with values: [0.6742961036414824, 0.05727005847318611] and parameters: {'max_depth': 4, 'eta': 0.1482268100305848, 'subsample': 0.6290828843742121, 'colsample_bytree': 0.8957613382159426}.\n",
      "[I 2025-05-16 16:00:01,548] Trial 7 finished with values: [0.6785756954719652, 0.03612221468718046] and parameters: {'max_depth': 7, 'eta': 0.17609726199442352, 'subsample': 0.8580852367782047, 'colsample_bytree': 0.6537759380378462}.\n",
      "[I 2025-05-16 16:00:01,717] Trial 8 finished with values: [0.66928282373412, 0.03261992665761095] and parameters: {'max_depth': 4, 'eta': 0.17326075813664998, 'subsample': 0.8025587087081297, 'colsample_bytree': 0.686587564139395}.\n",
      "[I 2025-05-16 16:00:02,013] Trial 9 finished with values: [0.6685705795676294, 0.034084635938565366] and parameters: {'max_depth': 4, 'eta': 0.012830984788087503, 'subsample': 0.8832124681684412, 'colsample_bytree': 0.9751516344477864}.\n",
      "[I 2025-05-16 16:00:02,016] A new study created in memory with name: no-name-21f929e0-a90c-4ece-a513-1911cf2f1d58\n",
      "[I 2025-05-16 16:00:02,157] Trial 0 finished with values: [0.6692904822735445, 0.049011722143134456] and parameters: {'max_depth': 4, 'eta': 0.11540683114445907, 'subsample': 0.6502835370085598, 'colsample_bytree': 0.8407995476295722}.\n",
      "[I 2025-05-16 16:00:02,310] Trial 1 finished with values: [0.6757144651429238, 0.055944156979325456] and parameters: {'max_depth': 4, 'eta': 0.2538993987477124, 'subsample': 0.9862057719661002, 'colsample_bytree': 0.7358386687353129}.\n",
      "[I 2025-05-16 16:00:02,456] Trial 2 finished with values: [0.6628619042805108, 0.030058473647415134] and parameters: {'max_depth': 4, 'eta': 0.15925267487302427, 'subsample': 0.8286371069495881, 'colsample_bytree': 0.9852499241999911}.\n",
      "[I 2025-05-16 16:00:02,624] Trial 3 finished with values: [0.6692843554420049, 0.05390143783544422] and parameters: {'max_depth': 5, 'eta': 0.07080753878973524, 'subsample': 0.8603336948874412, 'colsample_bytree': 0.9133600428202693}.\n",
      "[I 2025-05-16 16:00:02,763] Trial 4 finished with values: [0.6750068161000878, 0.03073146726699848] and parameters: {'max_depth': 5, 'eta': 0.2069826535120273, 'subsample': 0.6765517955714416, 'colsample_bytree': 0.7224980324649863}.\n",
      "[I 2025-05-16 16:00:03,038] Trial 5 finished with values: [0.6635879338179658, 0.022981283817290653] and parameters: {'max_depth': 3, 'eta': 0.05181311705787573, 'subsample': 0.6784237869654137, 'colsample_bytree': 0.6983993853496935}.\n",
      "[I 2025-05-16 16:00:03,222] Trial 6 finished with values: [0.6835828485477878, 0.03268330349315466] and parameters: {'max_depth': 5, 'eta': 0.20344562713113049, 'subsample': 0.7364332593410932, 'colsample_bytree': 0.6046641284725179}.\n",
      "[I 2025-05-16 16:00:03,341] Trial 7 finished with values: [0.6678705890642185, 0.018959871635959098] and parameters: {'max_depth': 4, 'eta': 0.11054807091264691, 'subsample': 0.6119751237320511, 'colsample_bytree': 0.6341508214628865}.\n",
      "[I 2025-05-16 16:00:03,486] Trial 8 finished with values: [0.6792894713463405, 0.04759238534474603] and parameters: {'max_depth': 6, 'eta': 0.1684323885922444, 'subsample': 0.9019245683580112, 'colsample_bytree': 0.9169034644354394}.\n",
      "[I 2025-05-16 16:00:03,653] Trial 9 finished with values: [0.6714394684360956, 0.040847326049232614] and parameters: {'max_depth': 6, 'eta': 0.10343106593645379, 'subsample': 0.6452534881338383, 'colsample_bytree': 0.8711462690315239}.\n",
      "[I 2025-05-16 16:00:03,656] A new study created in memory with name: no-name-ef6e2566-3211-48e0-a835-6972346c9045\n",
      "[I 2025-05-16 16:00:03,794] Trial 0 finished with values: [0.6821491699674972, 0.0374320081258111] and parameters: {'max_depth': 5, 'eta': 0.22046507991195405, 'subsample': 0.7942744699732847, 'colsample_bytree': 0.6727543302502111}.\n",
      "[I 2025-05-16 16:00:03,941] Trial 1 finished with values: [0.6692950773971994, 0.04166973921527107] and parameters: {'max_depth': 3, 'eta': 0.2152077416032049, 'subsample': 0.907432063940798, 'colsample_bytree': 0.7781694215305268}.\n",
      "[I 2025-05-16 16:00:04,062] Trial 2 finished with values: [0.660008332490894, 0.020804837193384152] and parameters: {'max_depth': 3, 'eta': 0.1101839245805906, 'subsample': 0.8317281677617621, 'colsample_bytree': 0.7060718768971066}.\n",
      "[I 2025-05-16 16:00:04,275] Trial 3 finished with values: [0.6649879148247879, 0.05941676612863389] and parameters: {'max_depth': 7, 'eta': 0.03121133678071606, 'subsample': 0.9716768342922367, 'colsample_bytree': 0.9749762400265927}.\n",
      "[I 2025-05-16 16:00:04,407] Trial 4 finished with values: [0.6771496754310992, 0.04333426063144993] and parameters: {'max_depth': 5, 'eta': 0.26992005483829973, 'subsample': 0.9846965778405711, 'colsample_bytree': 0.9171829407067078}.\n",
      "[I 2025-05-16 16:00:04,528] Trial 5 finished with values: [0.6678690573563335, 0.06782704312135915] and parameters: {'max_depth': 3, 'eta': 0.29945431639507725, 'subsample': 0.6234068545337177, 'colsample_bytree': 0.771518269286067}.\n",
      "[I 2025-05-16 16:00:04,667] Trial 6 finished with values: [0.6728624250611918, 0.04852297980123851] and parameters: {'max_depth': 5, 'eta': 0.19243412255604178, 'subsample': 0.8777202071190462, 'colsample_bytree': 0.9860923392272269}.\n",
      "[I 2025-05-16 16:00:05,059] Trial 7 finished with values: [0.6607175132416147, 0.06316232203786322] and parameters: {'max_depth': 6, 'eta': 0.010784418572522497, 'subsample': 0.897139287232552, 'colsample_bytree': 0.6002020681195809}.\n",
      "[I 2025-05-16 16:00:05,280] Trial 8 finished with values: [0.6735762009355671, 0.03738920246486616] and parameters: {'max_depth': 6, 'eta': 0.12222618522891396, 'subsample': 0.6860129896982822, 'colsample_bytree': 0.9598440531580852}.\n",
      "[I 2025-05-16 16:00:05,475] Trial 9 finished with values: [0.6650124221509468, 0.031693136582854026] and parameters: {'max_depth': 7, 'eta': 0.05114330785695162, 'subsample': 0.6170473084154063, 'colsample_bytree': 0.6351258110734894}.\n",
      "[I 2025-05-16 16:00:05,479] A new study created in memory with name: no-name-d7864240-eb17-48aa-a2a2-c54dc7adef71\n",
      "[I 2025-05-16 16:00:05,637] Trial 0 finished with values: [0.6935649888338494, 0.04543294763067627] and parameters: {'max_depth': 7, 'eta': 0.25383063022022256, 'subsample': 0.9531125614047744, 'colsample_bytree': 0.9212622856369936}.\n",
      "[I 2025-05-16 16:00:05,785] Trial 1 finished with values: [0.6735716058119124, 0.059233885749339854] and parameters: {'max_depth': 5, 'eta': 0.16079077618305188, 'subsample': 0.7390952057864733, 'colsample_bytree': 0.9289523519353894}.\n",
      "[I 2025-05-16 16:00:05,952] Trial 2 finished with values: [0.6614389476554148, 0.04542877477268239] and parameters: {'max_depth': 6, 'eta': 0.048667519691213246, 'subsample': 0.9133382374458899, 'colsample_bytree': 0.6817799207792152}.\n",
      "[I 2025-05-16 16:00:06,093] Trial 3 finished with values: [0.6864318252137499, 0.08148416817840708] and parameters: {'max_depth': 5, 'eta': 0.28940845507797675, 'subsample': 0.6437653447887594, 'colsample_bytree': 0.7455116975684651}.\n",
      "[I 2025-05-16 16:00:06,270] Trial 4 finished with values: [0.6800109057601406, 0.042191043382522074] and parameters: {'max_depth': 7, 'eta': 0.11939767747223438, 'subsample': 0.6448370966003361, 'colsample_bytree': 0.8363367048493034}.\n",
      "[I 2025-05-16 16:00:06,430] Trial 5 finished with values: [0.6628649676962808, 0.031154380786377084] and parameters: {'max_depth': 4, 'eta': 0.11065585562094815, 'subsample': 0.8659979836996237, 'colsample_bytree': 0.8356519497720347}.\n",
      "[I 2025-05-16 16:00:06,641] Trial 6 finished with values: [0.6642863926134918, 0.03282639971102547] and parameters: {'max_depth': 4, 'eta': 0.06786039659846411, 'subsample': 0.8521831295221685, 'colsample_bytree': 0.6977865599216294}.\n",
      "[I 2025-05-16 16:00:06,876] Trial 7 finished with values: [0.6557241455367564, 0.02962278456065991] and parameters: {'max_depth': 3, 'eta': 0.02742645824410867, 'subsample': 0.8484362307647791, 'colsample_bytree': 0.6744473314207251}.\n",
      "[I 2025-05-16 16:00:07,088] Trial 8 finished with values: [0.6857149859236046, 0.05629489155503134] and parameters: {'max_depth': 6, 'eta': 0.16118638188885948, 'subsample': 0.9263757508170528, 'colsample_bytree': 0.9404654193579725}.\n",
      "[I 2025-05-16 16:00:07,266] Trial 9 finished with values: [0.6707195657301804, 0.05722437975959218] and parameters: {'max_depth': 4, 'eta': 0.16649339299328053, 'subsample': 0.8084735241133341, 'colsample_bytree': 0.8712725027680395}.\n",
      "[I 2025-05-16 16:00:07,271] A new study created in memory with name: no-name-c0b3c2f9-9639-4754-98d6-f3b1a82a99d0\n",
      "[I 2025-05-16 16:00:07,448] Trial 0 finished with values: [0.6735777326434521, 0.062126397745145105] and parameters: {'max_depth': 4, 'eta': 0.24828939601410155, 'subsample': 0.9062540770086316, 'colsample_bytree': 0.9566880963239714}.\n",
      "[I 2025-05-16 16:00:07,661] Trial 1 finished with values: [0.6935711156653892, 0.0661573386773023] and parameters: {'max_depth': 7, 'eta': 0.2397166931520286, 'subsample': 0.9234804515551366, 'colsample_bytree': 0.9938686567104049}.\n",
      "[I 2025-05-16 16:00:07,833] Trial 2 finished with values: [0.6600175227382036, 0.03916848234369319] and parameters: {'max_depth': 3, 'eta': 0.1986874610035437, 'subsample': 0.9594492883357458, 'colsample_bytree': 0.8919471294949928}.\n",
      "[I 2025-05-16 16:00:08,044] Trial 3 finished with values: [0.6878655037940405, 0.07623970714794286] and parameters: {'max_depth': 6, 'eta': 0.20974255090941704, 'subsample': 0.9251720554269985, 'colsample_bytree': 0.8411320880818478}.\n",
      "[I 2025-05-16 16:00:08,319] Trial 4 finished with values: [0.6664338470681579, 0.030404295742331028] and parameters: {'max_depth': 7, 'eta': 0.07102937070170938, 'subsample': 0.6498339580217862, 'colsample_bytree': 0.7171232419122625}.\n",
      "[I 2025-05-16 16:00:08,544] Trial 5 finished with values: [0.6821415114280726, 0.04822437341206534] and parameters: {'max_depth': 6, 'eta': 0.19444614126612178, 'subsample': 0.6886003022022181, 'colsample_bytree': 0.8661269613557846}.\n",
      "[I 2025-05-16 16:00:08,729] Trial 6 finished with values: [0.6692981408129692, 0.06357502982690279] and parameters: {'max_depth': 4, 'eta': 0.23036849328768236, 'subsample': 0.7487821533010516, 'colsample_bytree': 0.8297900930167607}.\n",
      "[I 2025-05-16 16:00:08,918] Trial 7 finished with values: [0.6771573339705238, 0.031173034783620306] and parameters: {'max_depth': 6, 'eta': 0.07026377415606533, 'subsample': 0.6705694811906163, 'colsample_bytree': 0.6454258185448762}.\n",
      "[I 2025-05-16 16:00:09,035] Trial 8 finished with values: [0.6821461065517274, 0.0524565530650192] and parameters: {'max_depth': 3, 'eta': 0.29180162685624533, 'subsample': 0.6694821204991536, 'colsample_bytree': 0.7756754380575355}.\n",
      "[I 2025-05-16 16:00:09,195] Trial 9 finished with values: [0.6650047636115222, 0.04943534560693383] and parameters: {'max_depth': 6, 'eta': 0.07146358786938525, 'subsample': 0.8632827493067863, 'colsample_bytree': 0.7689534610470665}.\n",
      "[I 2025-05-16 16:00:09,200] A new study created in memory with name: no-name-1e8db1af-732e-4894-a9a7-b53bc131ae6f\n",
      "[I 2025-05-16 16:00:09,329] Trial 0 finished with values: [0.6714455952676354, 0.04718539205583639] and parameters: {'max_depth': 3, 'eta': 0.2419247748461944, 'subsample': 0.7686755642298558, 'colsample_bytree': 0.7349962409975487}.\n",
      "[I 2025-05-16 16:00:09,505] Trial 1 finished with values: [0.6785695686404255, 0.06669192405939199] and parameters: {'max_depth': 7, 'eta': 0.13470914460612263, 'subsample': 0.951504122283789, 'colsample_bytree': 0.979719846286248}.\n",
      "[I 2025-05-16 16:00:09,654] Trial 2 finished with values: [0.6764221141857595, 0.08375741888046939] and parameters: {'max_depth': 6, 'eta': 0.21406125316685046, 'subsample': 0.7951263280915126, 'colsample_bytree': 0.8575384813470782}.\n",
      "[I 2025-05-16 16:00:09,839] Trial 3 finished with values: [0.6721425223552765, 0.04055419132707864] and parameters: {'max_depth': 7, 'eta': 0.11564610756117778, 'subsample': 0.897875812740724, 'colsample_bytree': 0.9017718774838818}.\n",
      "[I 2025-05-16 16:00:09,990] Trial 4 finished with values: [0.6735700741040275, 0.0711314503456148] and parameters: {'max_depth': 5, 'eta': 0.24890179290009556, 'subsample': 0.7621364609509205, 'colsample_bytree': 0.8271977853572805}.\n",
      "[I 2025-05-16 16:00:10,185] Trial 5 finished with values: [0.6735746692276822, 0.04406317273140401] and parameters: {'max_depth': 5, 'eta': 0.034306822341234354, 'subsample': 0.7305832117712353, 'colsample_bytree': 0.9220053484110567}.\n",
      "[I 2025-05-16 16:00:10,419] Trial 6 finished with values: [0.6557180187052167, 0.04774029199607557] and parameters: {'max_depth': 4, 'eta': 0.015925320759342262, 'subsample': 0.9512284648188104, 'colsample_bytree': 0.8089632654331874}.\n",
      "[I 2025-05-16 16:00:10,553] Trial 7 finished with values: [0.6685767063991692, 0.03927340553137391] and parameters: {'max_depth': 4, 'eta': 0.13629657253643163, 'subsample': 0.6555570044597058, 'colsample_bytree': 0.8310188029497381}.\n",
      "[I 2025-05-16 16:00:10,698] Trial 8 finished with values: [0.676432836140954, 0.0634471728846676] and parameters: {'max_depth': 6, 'eta': 0.19118589687929186, 'subsample': 0.7451484634064759, 'colsample_bytree': 0.8582266247463397}.\n",
      "[I 2025-05-16 16:00:10,895] Trial 9 finished with values: [0.6585746539106033, 0.03768814630868189] and parameters: {'max_depth': 4, 'eta': 0.029991552465681824, 'subsample': 0.7441946359713996, 'colsample_bytree': 0.6733570647738919}.\n",
      "[I 2025-05-16 16:00:10,899] A new study created in memory with name: no-name-093149dc-b738-4b43-9b18-449748b08210\n",
      "[I 2025-05-16 16:00:11,031] Trial 0 finished with values: [0.6700165118109996, 0.022926370003040885] and parameters: {'max_depth': 3, 'eta': 0.14035616855654484, 'subsample': 0.7690223666298863, 'colsample_bytree': 0.7892426194191347}.\n",
      "[I 2025-05-16 16:00:11,165] Trial 1 finished with values: [0.6807154913872067, 0.059076416671788375] and parameters: {'max_depth': 4, 'eta': 0.2727755168688062, 'subsample': 0.8259367222834756, 'colsample_bytree': 0.958286226629074}.\n",
      "[I 2025-05-16 16:00:11,312] Trial 2 finished with values: [0.6692858871498899, 0.05529613641014988] and parameters: {'max_depth': 4, 'eta': 0.1879547591417978, 'subsample': 0.9317831184469794, 'colsample_bytree': 0.7082555326383504}.\n",
      "[I 2025-05-16 16:00:11,447] Trial 3 finished with values: [0.6671506863583033, 0.036301285859804994] and parameters: {'max_depth': 3, 'eta': 0.13376559957163567, 'subsample': 0.6954149637738534, 'colsample_bytree': 0.822463157324792}.\n",
      "[I 2025-05-16 16:00:11,605] Trial 4 finished with values: [0.6842904975906235, 0.06705787005183432] and parameters: {'max_depth': 6, 'eta': 0.20015296652792275, 'subsample': 0.6107288264284373, 'colsample_bytree': 0.9738446076684238}.\n",
      "[I 2025-05-16 16:00:11,745] Trial 5 finished with values: [0.6743006987651371, 0.0411883681851696] and parameters: {'max_depth': 4, 'eta': 0.10079717352843537, 'subsample': 0.8266443463296241, 'colsample_bytree': 0.7506391966588979}.\n",
      "[I 2025-05-16 16:00:11,873] Trial 6 finished with values: [0.6671660034371526, 0.04294680527598176] and parameters: {'max_depth': 3, 'eta': 0.23981271877558652, 'subsample': 0.6281906300794654, 'colsample_bytree': 0.7299364801544668}.\n",
      "[I 2025-05-16 16:00:12,047] Trial 7 finished with values: [0.663581806986426, 0.02725258060212213] and parameters: {'max_depth': 5, 'eta': 0.05252934061447388, 'subsample': 0.950693191414962, 'colsample_bytree': 0.6397631318167017}.\n",
      "[I 2025-05-16 16:00:12,200] Trial 8 finished with values: [0.6764374312646085, 0.057370172677667815] and parameters: {'max_depth': 5, 'eta': 0.11758607034911005, 'subsample': 0.8968457288478171, 'colsample_bytree': 0.9505312400060976}.\n",
      "[I 2025-05-16 16:00:12,349] Trial 9 finished with values: [0.6864302935058649, 0.0753950942537815] and parameters: {'max_depth': 6, 'eta': 0.279328029829959, 'subsample': 0.8725993471971024, 'colsample_bytree': 0.7980211703538385}.\n",
      "[I 2025-05-16 16:00:12,353] A new study created in memory with name: no-name-d7a28722-93cf-4485-8e7f-fbd9769eaade\n",
      "[I 2025-05-16 16:00:12,532] Trial 0 finished with values: [0.6707134388986408, 0.05680715014858842] and parameters: {'max_depth': 6, 'eta': 0.0527620696739664, 'subsample': 0.965883491330546, 'colsample_bytree': 0.9316912821043382}.\n",
      "[I 2025-05-16 16:00:12,684] Trial 1 finished with values: [0.6635772118627713, 0.035184505977540505] and parameters: {'max_depth': 5, 'eta': 0.07686088129949231, 'subsample': 0.6646323670809818, 'colsample_bytree': 0.7732969521285384}.\n",
      "[I 2025-05-16 16:00:12,822] Trial 2 finished with values: [0.6857073273841799, 0.07206146726489775] and parameters: {'max_depth': 6, 'eta': 0.28776890037156483, 'subsample': 0.7209976801510968, 'colsample_bytree': 0.7892240733354974}.\n",
      "[I 2025-05-16 16:00:12,947] Trial 3 finished with values: [0.6692935456893144, 0.06687833125673416] and parameters: {'max_depth': 3, 'eta': 0.23360628069144634, 'subsample': 0.6266092301357921, 'colsample_bytree': 0.7481625601042448}.\n",
      "[I 2025-05-16 16:00:13,089] Trial 4 finished with values: [0.6671506863583033, 0.026917159892698078] and parameters: {'max_depth': 6, 'eta': 0.13387822367217334, 'subsample': 0.7347449713735899, 'colsample_bytree': 0.697993255803077}.\n",
      "[I 2025-05-16 16:00:13,224] Trial 5 finished with values: [0.6835874436714425, 0.05997450751635396] and parameters: {'max_depth': 4, 'eta': 0.24517722802355948, 'subsample': 0.9673705827040779, 'colsample_bytree': 0.7483919259836728}.\n",
      "[I 2025-05-16 16:00:13,378] Trial 6 finished with values: [0.6807216182187462, 0.05850726033870842] and parameters: {'max_depth': 6, 'eta': 0.14652211566067413, 'subsample': 0.8402116209600672, 'colsample_bytree': 0.9660506793075391}.\n",
      "[I 2025-05-16 16:00:13,540] Trial 7 finished with values: [0.6771450803074445, 0.04698905272068451] and parameters: {'max_depth': 5, 'eta': 0.2351720283474383, 'subsample': 0.9318840781945599, 'colsample_bytree': 0.9682397971436303}.\n",
      "[I 2025-05-16 16:00:13,725] Trial 8 finished with values: [0.6900007045856271, 0.0574439021202128] and parameters: {'max_depth': 5, 'eta': 0.27017759110191586, 'subsample': 0.9203797716958247, 'colsample_bytree': 0.893385014440409}.\n",
      "[I 2025-05-16 16:00:13,932] Trial 9 finished with values: [0.680004778928601, 0.030176359298544092] and parameters: {'max_depth': 7, 'eta': 0.1834345931106757, 'subsample': 0.815548095919701, 'colsample_bytree': 0.7084560554106286}.\n",
      "[I 2025-05-16 16:00:13,936] A new study created in memory with name: no-name-9414e00d-5452-48ff-91ff-2e5acaed6b83\n",
      "[I 2025-05-16 16:00:14,147] Trial 0 finished with values: [0.6628741579435903, 0.03242310798806228] and parameters: {'max_depth': 3, 'eta': 0.05752641669084311, 'subsample': 0.7622964958248295, 'colsample_bytree': 0.6018835184684571}.\n",
      "[I 2025-05-16 16:00:14,322] Trial 1 finished with values: [0.6678552719853691, 0.047169692358635475] and parameters: {'max_depth': 4, 'eta': 0.2986332663597591, 'subsample': 0.7170542090197951, 'colsample_bytree': 0.8575041611210646}.\n",
      "[I 2025-05-16 16:00:14,516] Trial 2 finished with values: [0.6692981408129692, 0.036213479824518786] and parameters: {'max_depth': 5, 'eta': 0.16230882519814505, 'subsample': 0.6761918590982359, 'colsample_bytree': 0.679450522279445}.\n",
      "[I 2025-05-16 16:00:14,762] Trial 3 finished with values: [0.6771358900601349, 0.0650484618310254] and parameters: {'max_depth': 7, 'eta': 0.08317402087289363, 'subsample': 0.9424176711378978, 'colsample_bytree': 0.8948516988647284}.\n",
      "[I 2025-05-16 16:00:14,923] Trial 4 finished with values: [0.6571562924091621, 0.017882207476485223] and parameters: {'max_depth': 3, 'eta': 0.15339967703185536, 'subsample': 0.9685045418601214, 'colsample_bytree': 0.9341752892971468}.\n",
      "[I 2025-05-16 16:00:15,108] Trial 5 finished with values: [0.6664277202366181, 0.057147359108903735] and parameters: {'max_depth': 5, 'eta': 0.12380108006626231, 'subsample': 0.7255273537893434, 'colsample_bytree': 0.9119431972778692}.\n",
      "[I 2025-05-16 16:00:15,295] Trial 6 finished with values: [0.6871379425487006, 0.08117086800879302] and parameters: {'max_depth': 6, 'eta': 0.29320891245469055, 'subsample': 0.8351209562361699, 'colsample_bytree': 0.8423812832496236}.\n",
      "[I 2025-05-16 16:00:15,549] Trial 7 finished with values: [0.6600144593224337, 0.018858759847802414] and parameters: {'max_depth': 3, 'eta': 0.029217589984902294, 'subsample': 0.6883806833310065, 'colsample_bytree': 0.9539332779854546}.\n",
      "[I 2025-05-16 16:00:15,744] Trial 8 finished with values: [0.6600037373672393, 0.02290371267152677] and parameters: {'max_depth': 4, 'eta': 0.09311966935686304, 'subsample': 0.8714666124860417, 'colsample_bytree': 0.6938712075508412}.\n",
      "[I 2025-05-16 16:00:15,902] Trial 9 finished with values: [0.6750022209764331, 0.07321031923213164] and parameters: {'max_depth': 5, 'eta': 0.2714241555318681, 'subsample': 0.964470329186263, 'colsample_bytree': 0.7413563425468269}.\n",
      "[I 2025-05-16 16:00:15,907] A new study created in memory with name: no-name-1ae31663-abef-4868-93f0-d7fb28c23682\n",
      "[I 2025-05-16 16:00:16,039] Trial 0 finished with values: [0.665007827027292, 0.027437648521548747] and parameters: {'max_depth': 3, 'eta': 0.09607280703942706, 'subsample': 0.8192708211074271, 'colsample_bytree': 0.9255446043004545}.\n",
      "[I 2025-05-16 16:00:16,184] Trial 1 finished with values: [0.6700088532715748, 0.04187935385229846] and parameters: {'max_depth': 4, 'eta': 0.12024462468765874, 'subsample': 0.8242431153826149, 'colsample_bytree': 0.7417143378044985}.\n",
      "[I 2025-05-16 16:00:16,376] Trial 2 finished with values: [0.6735700741040275, 0.05373398317629557] and parameters: {'max_depth': 7, 'eta': 0.058059157674638026, 'subsample': 0.7839078264185781, 'colsample_bytree': 0.8239881079095992}.\n",
      "[I 2025-05-16 16:00:16,524] Trial 3 finished with values: [0.6728624250611918, 0.02525861883673904] and parameters: {'max_depth': 6, 'eta': 0.2079386999478206, 'subsample': 0.6048137196370186, 'colsample_bytree': 0.694754670318836}.\n",
      "[I 2025-05-16 16:00:16,653] Trial 4 finished with values: [0.6757175285586935, 0.03605924503200796] and parameters: {'max_depth': 4, 'eta': 0.2300762851299234, 'subsample': 0.9990503766039861, 'colsample_bytree': 0.7491656860525288}.\n",
      "[I 2025-05-16 16:00:16,786] Trial 5 finished with values: [0.6707318193932599, 0.04561594576743288] and parameters: {'max_depth': 3, 'eta': 0.1732781444054577, 'subsample': 0.8794458783082861, 'colsample_bytree': 0.6773045546628509}.\n",
      "[I 2025-05-16 16:00:16,938] Trial 6 finished with values: [0.672134863815852, 0.05431267775860707] and parameters: {'max_depth': 6, 'eta': 0.17427890873260676, 'subsample': 0.6031353082572252, 'colsample_bytree': 0.8570209107202524}.\n",
      "[I 2025-05-16 16:00:17,111] Trial 7 finished with values: [0.6692920139814295, 0.038754404587327936] and parameters: {'max_depth': 5, 'eta': 0.057330946034929914, 'subsample': 0.8717811002652243, 'colsample_bytree': 0.6452921394348261}.\n",
      "[I 2025-05-16 16:00:17,480] Trial 8 finished with values: [0.6642909877371467, 0.043198498655831474] and parameters: {'max_depth': 6, 'eta': 0.011340027364362296, 'subsample': 0.6539960363248777, 'colsample_bytree': 0.8025087379020304}.\n",
      "[I 2025-05-16 16:00:17,635] Trial 9 finished with values: [0.679280281099031, 0.05610976333544946] and parameters: {'max_depth': 7, 'eta': 0.2012889915507347, 'subsample': 0.6985783431588136, 'colsample_bytree': 0.9223990956455873}.\n",
      "[I 2025-05-16 16:00:17,638] A new study created in memory with name: no-name-95f3cd6c-8f4b-4ccf-862d-21acb0b85e73\n",
      "[I 2025-05-16 16:00:17,786] Trial 0 finished with values: [0.6935711156653892, 0.05950085264385637] and parameters: {'max_depth': 7, 'eta': 0.2026313785763065, 'subsample': 0.8658960949723593, 'colsample_bytree': 0.9863308316350577}.\n",
      "[I 2025-05-16 16:00:17,925] Trial 1 finished with values: [0.7007165329485683, 0.08892113249096378] and parameters: {'max_depth': 7, 'eta': 0.29845015687269466, 'subsample': 0.7486867093374607, 'colsample_bytree': 0.8534552571770573}.\n",
      "[I 2025-05-16 16:00:18,075] Trial 2 finished with values: [0.6800017155128311, 0.039615802044158765] and parameters: {'max_depth': 6, 'eta': 0.16293559581994863, 'subsample': 0.8050970372987039, 'colsample_bytree': 0.8847815654386819}.\n",
      "[I 2025-05-16 16:00:18,210] Trial 3 finished with values: [0.6857211127551442, 0.07623760367337766] and parameters: {'max_depth': 5, 'eta': 0.2885568610006595, 'subsample': 0.6543412070862147, 'colsample_bytree': 0.7436912836617318}.\n",
      "[I 2025-05-16 16:00:18,342] Trial 4 finished with values: [0.6650108904430619, 0.04668176461173525] and parameters: {'max_depth': 3, 'eta': 0.26835979799638315, 'subsample': 0.7688067439198618, 'colsample_bytree': 0.6632918606620191}.\n",
      "[I 2025-05-16 16:00:18,504] Trial 5 finished with values: [0.6757098700192689, 0.06084318880475406] and parameters: {'max_depth': 7, 'eta': 0.09651229149992264, 'subsample': 0.9958414765327765, 'colsample_bytree': 0.9087025154931162}.\n",
      "[I 2025-05-16 16:00:18,629] Trial 6 finished with values: [0.6692874188577748, 0.04205396206519126] and parameters: {'max_depth': 5, 'eta': 0.1867577854576266, 'subsample': 0.9743964438892782, 'colsample_bytree': 0.6441049925186233}.\n",
      "[I 2025-05-16 16:00:18,767] Trial 7 finished with values: [0.6650108904430617, 0.04444117170916443] and parameters: {'max_depth': 6, 'eta': 0.14345136257419372, 'subsample': 0.7222856546234014, 'colsample_bytree': 0.6803879656577536}.\n",
      "[I 2025-05-16 16:00:18,917] Trial 8 finished with values: [0.6671476229425334, 0.05321883519285503] and parameters: {'max_depth': 6, 'eta': 0.10431191863300637, 'subsample': 0.7797360607037052, 'colsample_bytree': 0.8149296976093159}.\n",
      "[I 2025-05-16 16:00:19,063] Trial 9 finished with values: [0.6714440635597505, 0.05017220472407871] and parameters: {'max_depth': 4, 'eta': 0.06883890925287396, 'subsample': 0.6732211114045508, 'colsample_bytree': 0.8305812965092518}.\n",
      "[I 2025-05-16 16:00:19,066] A new study created in memory with name: no-name-aaa86e29-d2d8-4307-919f-128075b9c93a\n",
      "[I 2025-05-16 16:00:19,213] Trial 0 finished with values: [0.6857088590920649, 0.052007098232499806] and parameters: {'max_depth': 6, 'eta': 0.17050547883145237, 'subsample': 0.8827283706682542, 'colsample_bytree': 0.9462470227778568}.\n",
      "[I 2025-05-16 16:00:19,346] Trial 1 finished with values: [0.6785772271798501, 0.06050542597076969] and parameters: {'max_depth': 6, 'eta': 0.1797825981283539, 'subsample': 0.7815495492955684, 'colsample_bytree': 0.8780170664161748}.\n",
      "[I 2025-05-16 16:00:19,499] Trial 2 finished with values: [0.7007195963643381, 0.049045854468222495] and parameters: {'max_depth': 7, 'eta': 0.2693932411458273, 'subsample': 0.8510983225095662, 'colsample_bytree': 0.6889401401191939}.\n",
      "[I 2025-05-16 16:00:19,612] Trial 3 finished with values: [0.6614450744869544, 0.027869555206542457] and parameters: {'max_depth': 3, 'eta': 0.16778757091261373, 'subsample': 0.9807408027332875, 'colsample_bytree': 0.6275279043736747}.\n",
      "[I 2025-05-16 16:00:19,779] Trial 4 finished with values: [0.6657216029016674, 0.07286747487046459] and parameters: {'max_depth': 6, 'eta': 0.08108235294906194, 'subsample': 0.9851830518407774, 'colsample_bytree': 0.7739494897723711}.\n",
      "[I 2025-05-16 16:00:19,957] Trial 5 finished with values: [0.6635542362444974, 0.05050194858408912] and parameters: {'max_depth': 6, 'eta': 0.03530282127606252, 'subsample': 0.9912468966953994, 'colsample_bytree': 0.9904579138699778}.\n",
      "[I 2025-05-16 16:00:20,103] Trial 6 finished with values: [0.662860372572626, 0.03688560892759061] and parameters: {'max_depth': 4, 'eta': 0.07245429503346991, 'subsample': 0.7637458400586769, 'colsample_bytree': 0.9375665138267757}.\n",
      "[I 2025-05-16 16:00:20,250] Trial 7 finished with values: [0.6707333511011448, 0.021910109840439257] and parameters: {'max_depth': 3, 'eta': 0.060698214691196566, 'subsample': 0.7635787112221603, 'colsample_bytree': 0.8490017973592859}.\n",
      "[I 2025-05-16 16:00:20,375] Trial 8 finished with values: [0.6607267034889243, 0.025635783916795052] and parameters: {'max_depth': 3, 'eta': 0.22049209788446741, 'subsample': 0.9464627329160251, 'colsample_bytree': 0.7965242486905605}.\n",
      "[I 2025-05-16 16:00:20,611] Trial 9 finished with values: [0.6678552719853691, 0.06355266578451703] and parameters: {'max_depth': 6, 'eta': 0.020186524030414175, 'subsample': 0.8527494175740475, 'colsample_bytree': 0.8523473960582637}.\n",
      "[I 2025-05-16 16:00:20,614] A new study created in memory with name: no-name-73540a74-5f1d-40ae-8bff-37667d3ccd7a\n",
      "[I 2025-05-16 16:00:20,771] Trial 0 finished with values: [0.6849889563861496, 0.07801861989375194] and parameters: {'max_depth': 7, 'eta': 0.24491528487155073, 'subsample': 0.6510020964569327, 'colsample_bytree': 0.8202028956420183}.\n",
      "[I 2025-05-16 16:00:20,913] Trial 1 finished with values: [0.6828614141339878, 0.0456894631682428] and parameters: {'max_depth': 5, 'eta': 0.23936894271363843, 'subsample': 0.8708716389274065, 'colsample_bytree': 0.9895484578487312}.\n",
      "[I 2025-05-16 16:00:21,058] Trial 2 finished with values: [0.6757221236823483, 0.04620628466682611] and parameters: {'max_depth': 5, 'eta': 0.14971519347133752, 'subsample': 0.9598823806643761, 'colsample_bytree': 0.643804036930155}.\n",
      "[I 2025-05-16 16:00:21,174] Trial 3 finished with values: [0.6750144746395125, 0.035950810137548396] and parameters: {'max_depth': 3, 'eta': 0.11904840896065244, 'subsample': 0.6599858175002707, 'colsample_bytree': 0.6059703165389916}.\n",
      "[I 2025-05-16 16:00:21,308] Trial 4 finished with values: [0.6778634513054747, 0.058917372026992876] and parameters: {'max_depth': 5, 'eta': 0.21916888476983087, 'subsample': 0.8398105850903971, 'colsample_bytree': 0.881796072538283}.\n",
      "[I 2025-05-16 16:00:21,485] Trial 5 finished with values: [0.6857149859236046, 0.08090443850246438] and parameters: {'max_depth': 6, 'eta': 0.29441505514960975, 'subsample': 0.6516813328060979, 'colsample_bytree': 0.7346241357634093}.\n",
      "[I 2025-05-16 16:00:21,671] Trial 6 finished with values: [0.6700073215636899, 0.025947033216570575] and parameters: {'max_depth': 5, 'eta': 0.10697311533350935, 'subsample': 0.6686996512713832, 'colsample_bytree': 0.7002201626736426}.\n",
      "[I 2025-05-16 16:00:21,883] Trial 7 finished with values: [0.6814307989694669, 0.0531337532344916] and parameters: {'max_depth': 6, 'eta': 0.13445488301281208, 'subsample': 0.8484069499921987, 'colsample_bytree': 0.8691797650365242}.\n",
      "[I 2025-05-16 16:00:22,050] Trial 8 finished with values: [0.6700165118109994, 0.05665528511226974] and parameters: {'max_depth': 3, 'eta': 0.2260893891328662, 'subsample': 0.6632886449461209, 'colsample_bytree': 0.8505048537897525}.\n",
      "[I 2025-05-16 16:00:22,241] Trial 9 finished with values: [0.652881295702334, 0.035080971455086644] and parameters: {'max_depth': 3, 'eta': 0.06068157449091227, 'subsample': 0.9799201894213068, 'colsample_bytree': 0.7507800036479122}.\n",
      "[I 2025-05-16 16:00:22,246] A new study created in memory with name: no-name-cbc6688a-45fa-4887-8c41-967581af7730\n",
      "[I 2025-05-16 16:00:22,468] Trial 0 finished with values: [0.6685858966464787, 0.06009205879529258] and parameters: {'max_depth': 6, 'eta': 0.055968635630795696, 'subsample': 0.776253158103057, 'colsample_bytree': 0.8335880305989094}.\n",
      "[I 2025-05-16 16:00:22,745] Trial 1 finished with values: [0.6721563077262408, 0.03551493560498128] and parameters: {'max_depth': 7, 'eta': 0.1158508051343556, 'subsample': 0.7460202424628893, 'colsample_bytree': 0.6626782724797994}.\n",
      "[I 2025-05-16 16:00:22,911] Trial 2 finished with values: [0.6628726262357053, 0.026583039172929906] and parameters: {'max_depth': 4, 'eta': 0.20764255482024, 'subsample': 0.7583000699777525, 'colsample_bytree': 0.6936539979635733}.\n",
      "[I 2025-05-16 16:00:23,102] Trial 3 finished with values: [0.6671414961109937, 0.03882062971735617] and parameters: {'max_depth': 7, 'eta': 0.11970754041999161, 'subsample': 0.710789976572674, 'colsample_bytree': 0.7112089882358248}.\n",
      "[I 2025-05-16 16:00:23,275] Trial 4 finished with values: [0.6871517279196651, 0.08005137990465899] and parameters: {'max_depth': 5, 'eta': 0.28109422896938197, 'subsample': 0.9897398594315564, 'colsample_bytree': 0.903145634032493}.\n",
      "[I 2025-05-16 16:00:23,560] Trial 5 finished with values: [0.659283834661324, 0.031253809994858966] and parameters: {'max_depth': 4, 'eta': 0.014518585868065901, 'subsample': 0.9636061155058023, 'colsample_bytree': 0.9694862200771359}.\n",
      "[I 2025-05-16 16:00:23,703] Trial 6 finished with values: [0.6714501903912901, 0.041959296948298135] and parameters: {'max_depth': 3, 'eta': 0.26441312936232275, 'subsample': 0.6661099175574396, 'colsample_bytree': 0.9668051066925618}.\n",
      "[I 2025-05-16 16:00:23,881] Trial 7 finished with values: [0.6921435639166383, 0.04888670804631936] and parameters: {'max_depth': 5, 'eta': 0.29509265114735017, 'subsample': 0.8673681874486124, 'colsample_bytree': 0.9107106540724734}.\n",
      "[I 2025-05-16 16:00:24,036] Trial 8 finished with values: [0.6700103849794597, 0.04620054190855574] and parameters: {'max_depth': 4, 'eta': 0.17893533109326984, 'subsample': 0.6013114452420797, 'colsample_bytree': 0.8355684491757789}.\n",
      "[I 2025-05-16 16:00:24,201] Trial 9 finished with values: [0.6735746692276822, 0.05154653345269731] and parameters: {'max_depth': 6, 'eta': 0.14318199980219315, 'subsample': 0.8848310272269448, 'colsample_bytree': 0.8678016950424812}.\n",
      "[I 2025-05-16 16:00:24,203] A new study created in memory with name: no-name-82152b75-80d1-4f67-9409-5a8c691f3a94\n",
      "[I 2025-05-16 16:00:24,323] Trial 0 finished with values: [0.6643001779844563, 0.04666860781110626] and parameters: {'max_depth': 3, 'eta': 0.1624823444838051, 'subsample': 0.6155652228652647, 'colsample_bytree': 0.9016272364230509}.\n",
      "[I 2025-05-16 16:00:24,461] Trial 1 finished with values: [0.6857180493393744, 0.062841783200892] and parameters: {'max_depth': 6, 'eta': 0.19646919503493335, 'subsample': 0.9807598330380384, 'colsample_bytree': 0.8189026757131532}.\n",
      "[I 2025-05-16 16:00:24,580] Trial 2 finished with values: [0.676429772725184, 0.04702082882097775] and parameters: {'max_depth': 4, 'eta': 0.20086018478494527, 'subsample': 0.9538610110922692, 'colsample_bytree': 0.6067846945014341}.\n",
      "[I 2025-05-16 16:00:24,694] Trial 3 finished with values: [0.6707318193932599, 0.0210326121534192] and parameters: {'max_depth': 3, 'eta': 0.12168963429872741, 'subsample': 0.7790027741758419, 'colsample_bytree': 0.7730221181190081}.\n",
      "[I 2025-05-16 16:00:24,829] Trial 4 finished with values: [0.6614282257002203, 0.03552233470804466] and parameters: {'max_depth': 5, 'eta': 0.10022206087881023, 'subsample': 0.7122210446546178, 'colsample_bytree': 0.8640163358131727}.\n",
      "[I 2025-05-16 16:00:24,957] Trial 5 finished with values: [0.6671506863583033, 0.041976130286485475] and parameters: {'max_depth': 5, 'eta': 0.17292227512256095, 'subsample': 0.7425991301082573, 'colsample_bytree': 0.8587144794494483}.\n",
      "[I 2025-05-16 16:00:25,084] Trial 6 finished with values: [0.6578761951150772, 0.04019914709109435] and parameters: {'max_depth': 3, 'eta': 0.06339659177672234, 'subsample': 0.9390966457639459, 'colsample_bytree': 0.7845299197750646}.\n",
      "[I 2025-05-16 16:00:25,223] Trial 7 finished with values: [0.6828522238866782, 0.06625521456873788] and parameters: {'max_depth': 7, 'eta': 0.1223963489806886, 'subsample': 0.8549788815246663, 'colsample_bytree': 0.7898789808232689}.\n",
      "[I 2025-05-16 16:00:25,421] Trial 8 finished with values: [0.6628710945278204, 0.04573534266618524] and parameters: {'max_depth': 4, 'eta': 0.0163579305541437, 'subsample': 0.8648180726735901, 'colsample_bytree': 0.7831938343546447}.\n",
      "[I 2025-05-16 16:00:25,542] Trial 9 finished with values: [0.6678598671090238, 0.03553468637626218] and parameters: {'max_depth': 4, 'eta': 0.10668023263640587, 'subsample': 0.6482937792898551, 'colsample_bytree': 0.7739021603922946}.\n",
      "[I 2025-05-16 16:00:25,546] A new study created in memory with name: no-name-4782ae4f-35ea-4167-942f-c074e51b5d7b\n",
      "[I 2025-05-16 16:00:25,671] Trial 0 finished with values: [0.6785726320561953, 0.04893543302057224] and parameters: {'max_depth': 5, 'eta': 0.2255537103509228, 'subsample': 0.8256831182456649, 'colsample_bytree': 0.6289091023202219}.\n",
      "[I 2025-05-16 16:00:25,795] Trial 1 finished with values: [0.6593006834480583, 0.018418973487046398] and parameters: {'max_depth': 3, 'eta': 0.1965597671917088, 'subsample': 0.9452435018633328, 'colsample_bytree': 0.7207964593294436}.\n",
      "[I 2025-05-16 16:00:25,932] Trial 2 finished with values: [0.6714348733124408, 0.06152224570412663] and parameters: {'max_depth': 6, 'eta': 0.10411502759455431, 'subsample': 0.6195969069074261, 'colsample_bytree': 0.7700916479591208}.\n",
      "[I 2025-05-16 16:00:26,048] Trial 3 finished with values: [0.6814445843404312, 0.022917284080704703] and parameters: {'max_depth': 4, 'eta': 0.1872340823574991, 'subsample': 0.7774544927642886, 'colsample_bytree': 0.6499968220749708}.\n",
      "[I 2025-05-16 16:00:26,160] Trial 4 finished with values: [0.6714333416045558, 0.04038904434447427] and parameters: {'max_depth': 4, 'eta': 0.15760422122665682, 'subsample': 0.6678724196528852, 'colsample_bytree': 0.9931080741571051}.\n",
      "[I 2025-05-16 16:00:26,283] Trial 5 finished with values: [0.6835889753793274, 0.04361359255063459] and parameters: {'max_depth': 5, 'eta': 0.21537423103538925, 'subsample': 0.6396335491005465, 'colsample_bytree': 0.9606172965906252}.\n",
      "[I 2025-05-16 16:00:26,390] Trial 6 finished with values: [0.6635848704021959, 0.02252641479973332] and parameters: {'max_depth': 3, 'eta': 0.1027193150752376, 'subsample': 0.8619035534103345, 'colsample_bytree': 0.6208250421445788}.\n",
      "[I 2025-05-16 16:00:26,530] Trial 7 finished with values: [0.6964400045338554, 0.06356834791212684] and parameters: {'max_depth': 7, 'eta': 0.26383348215743435, 'subsample': 0.6559532741889157, 'colsample_bytree': 0.6496444492546304}.\n",
      "[I 2025-05-16 16:00:26,668] Trial 8 finished with values: [0.7028532654480398, 0.07451899004458538] and parameters: {'max_depth': 7, 'eta': 0.29640896289803675, 'subsample': 0.8953980954608038, 'colsample_bytree': 0.8619511036658106}.\n",
      "[I 2025-05-16 16:00:26,831] Trial 9 finished with values: [0.6728716153085013, 0.049700875893820905] and parameters: {'max_depth': 4, 'eta': 0.07244945441401923, 'subsample': 0.8188784167705472, 'colsample_bytree': 0.7405530924050232}.\n",
      "[I 2025-05-16 16:00:26,834] A new study created in memory with name: no-name-084940b8-e170-4f16-89b4-64f53c3c598a\n",
      "[I 2025-05-16 16:00:26,987] Trial 0 finished with values: [0.6750068161000878, 0.06088192035765381] and parameters: {'max_depth': 5, 'eta': 0.19749269231348676, 'subsample': 0.9827814632856217, 'colsample_bytree': 0.8942215588886521}.\n",
      "[I 2025-05-16 16:00:27,132] Trial 1 finished with values: [0.6550134330781509, 0.036264415117955466] and parameters: {'max_depth': 3, 'eta': 0.06526284473933651, 'subsample': 0.8359545848762843, 'colsample_bytree': 0.9705410903277061}.\n",
      "[I 2025-05-16 16:00:27,427] Trial 2 finished with values: [0.6606960693312257, 0.052182667587817665] and parameters: {'max_depth': 6, 'eta': 0.013613627009815006, 'subsample': 0.9672702240736543, 'colsample_bytree': 0.9894775440524667}.\n",
      "[I 2025-05-16 16:00:27,565] Trial 3 finished with values: [0.6749945624370085, 0.03500604335378255] and parameters: {'max_depth': 6, 'eta': 0.14164368682624487, 'subsample': 0.7830778526230346, 'colsample_bytree': 0.7132180154405332}.\n",
      "[I 2025-05-16 16:00:27,709] Trial 4 finished with values: [0.6935649888338494, 0.06548766643845866] and parameters: {'max_depth': 7, 'eta': 0.20271923310502454, 'subsample': 0.9266945956449274, 'colsample_bytree': 0.9333127408320308}.\n",
      "[I 2025-05-16 16:00:27,859] Trial 5 finished with values: [0.6885792796684159, 0.06746553158793105] and parameters: {'max_depth': 6, 'eta': 0.11548264602378207, 'subsample': 0.6339802528730074, 'colsample_bytree': 0.8854383041392824}.\n",
      "[I 2025-05-16 16:00:27,982] Trial 6 finished with values: [0.663581806986426, 0.02502267880686253] and parameters: {'max_depth': 3, 'eta': 0.15223125869996754, 'subsample': 0.9022478816928685, 'colsample_bytree': 0.7477829153119822}.\n",
      "[I 2025-05-16 16:00:28,157] Trial 7 finished with values: [0.672154776018356, 0.06185805324316763] and parameters: {'max_depth': 5, 'eta': 0.044567883960260984, 'subsample': 0.657616408769506, 'colsample_bytree': 0.9036223711384118}.\n",
      "[I 2025-05-16 16:00:28,275] Trial 8 finished with values: [0.6742899768099426, 0.026808489951374043] and parameters: {'max_depth': 4, 'eta': 0.2761222711989642, 'subsample': 0.6472652873595299, 'colsample_bytree': 0.7273298834163174}.\n",
      "[I 2025-05-16 16:00:28,413] Trial 9 finished with values: [0.680006310636486, 0.06727459050279673] and parameters: {'max_depth': 5, 'eta': 0.1978260246701656, 'subsample': 0.690199547905234, 'colsample_bytree': 0.7782149678752097}.\n",
      "[I 2025-05-16 16:00:28,418] A new study created in memory with name: no-name-cfda6411-d725-48a6-ad53-7269a095d0e9\n",
      "[I 2025-05-16 16:00:28,556] Trial 0 finished with values: [0.6621527235297903, 0.0448569632923039] and parameters: {'max_depth': 3, 'eta': 0.20339191150604893, 'subsample': 0.7257130915299598, 'colsample_bytree': 0.8706539872246633}.\n",
      "[I 2025-05-16 16:00:28,689] Trial 1 finished with values: [0.6857226444630292, 0.06005257411881876] and parameters: {'max_depth': 5, 'eta': 0.2877960773243235, 'subsample': 0.8155350494481328, 'colsample_bytree': 0.9716467202153808}.\n",
      "[I 2025-05-16 16:00:28,822] Trial 2 finished with values: [0.6593037468638281, 0.020954545151713088] and parameters: {'max_depth': 3, 'eta': 0.042997042100649134, 'subsample': 0.8539694342343811, 'colsample_bytree': 0.9326161764435079}.\n",
      "[I 2025-05-16 16:00:28,970] Trial 3 finished with values: [0.6878670355019253, 0.06260399381994523] and parameters: {'max_depth': 6, 'eta': 0.2801723191980608, 'subsample': 0.938746851609014, 'colsample_bytree': 0.8738581834870702}.\n",
      "[I 2025-05-16 16:00:29,104] Trial 4 finished with values: [0.680724681634516, 0.053772789713731915] and parameters: {'max_depth': 6, 'eta': 0.18121274100295615, 'subsample': 0.7280087061757898, 'colsample_bytree': 0.9758918008258304}.\n",
      "[I 2025-05-16 16:00:29,300] Trial 5 finished with values: [0.663581806986426, 0.04963200384077628] and parameters: {'max_depth': 5, 'eta': 0.023669174237762436, 'subsample': 0.7725186370774713, 'colsample_bytree': 0.8266315410153455}.\n",
      "[I 2025-05-16 16:00:29,472] Trial 6 finished with values: [0.6664292519445031, 0.051537739820791635] and parameters: {'max_depth': 6, 'eta': 0.042556592381014044, 'subsample': 0.7048698782460038, 'colsample_bytree': 0.8577629782330302}.\n",
      "[I 2025-05-16 16:00:29,592] Trial 7 finished with values: [0.6764374312646085, 0.07375489881934193] and parameters: {'max_depth': 3, 'eta': 0.2422336583214232, 'subsample': 0.6751739881090513, 'colsample_bytree': 0.7540410930132622}.\n",
      "[I 2025-05-16 16:00:29,774] Trial 8 finished with values: [0.6600052690751241, 0.05375127332176972] and parameters: {'max_depth': 6, 'eta': 0.029268773806457073, 'subsample': 0.7313518806465764, 'colsample_bytree': 0.8172105391625825}.\n",
      "[I 2025-05-16 16:00:29,894] Trial 9 finished with values: [0.6749991575606633, 0.03417323867938752] and parameters: {'max_depth': 4, 'eta': 0.257233218168096, 'subsample': 0.831417717869031, 'colsample_bytree': 0.9785911911080862}.\n",
      "[I 2025-05-16 16:00:29,897] A new study created in memory with name: no-name-34290fc2-3aea-48d5-9981-8cdd36ac18a7\n",
      "[I 2025-05-16 16:00:30,088] Trial 0 finished with values: [0.66143435253176, 0.048444997264341094] and parameters: {'max_depth': 6, 'eta': 0.035267303281449836, 'subsample': 0.7875817949820094, 'colsample_bytree': 0.8007787529388755}.\n",
      "[I 2025-05-16 16:00:30,229] Trial 1 finished with values: [0.7064282716514568, 0.07676269813446662] and parameters: {'max_depth': 6, 'eta': 0.23720622661627092, 'subsample': 0.9577626149889729, 'colsample_bytree': 0.8139671621556452}.\n",
      "[I 2025-05-16 16:00:30,366] Trial 2 finished with values: [0.693574179081159, 0.06688856794105878] and parameters: {'max_depth': 6, 'eta': 0.29124047046518486, 'subsample': 0.8933305135685223, 'colsample_bytree': 0.850029269084589}.\n",
      "[I 2025-05-16 16:00:30,487] Trial 3 finished with values: [0.6778649830133595, 0.05007243180344842] and parameters: {'max_depth': 4, 'eta': 0.19012750594785383, 'subsample': 0.77618362041399, 'colsample_bytree': 0.9220792699144191}.\n",
      "[I 2025-05-16 16:00:30,621] Trial 4 finished with values: [0.6657170077780127, 0.03555868603113324] and parameters: {'max_depth': 4, 'eta': 0.0882669105272593, 'subsample': 0.9152524720824873, 'colsample_bytree': 0.8642170785147012}.\n",
      "[I 2025-05-16 16:00:30,757] Trial 5 finished with values: [0.6714241513572463, 0.07254797920410651] and parameters: {'max_depth': 5, 'eta': 0.11059750463169588, 'subsample': 0.9517826916800944, 'colsample_bytree': 0.7551774802301011}.\n",
      "[I 2025-05-16 16:00:30,994] Trial 6 finished with values: [0.6628481189095465, 0.05834881055709603] and parameters: {'max_depth': 4, 'eta': 0.018585272247680917, 'subsample': 0.9859445458364989, 'colsample_bytree': 0.9107889138737607}.\n",
      "[I 2025-05-16 16:00:31,206] Trial 7 finished with values: [0.6942925500791892, 0.11435859790166487] and parameters: {'max_depth': 7, 'eta': 0.2934216733381704, 'subsample': 0.6247019291130032, 'colsample_bytree': 0.9809282751818604}.\n",
      "[I 2025-05-16 16:00:31,374] Trial 8 finished with values: [0.6757175285586935, 0.043248868465549616] and parameters: {'max_depth': 4, 'eta': 0.2816972172340308, 'subsample': 0.9253961086370601, 'colsample_bytree': 0.6450827944873149}.\n",
      "[I 2025-05-16 16:00:31,581] Trial 9 finished with values: [0.7071405158179473, 0.0639010674586426] and parameters: {'max_depth': 7, 'eta': 0.26875520822481247, 'subsample': 0.9867852736194613, 'colsample_bytree': 0.6340534541875915}.\n",
      "[I 2025-05-16 16:00:31,585] A new study created in memory with name: no-name-63712ae4-eade-4c8a-b8f6-c9c98fb2036c\n",
      "[I 2025-05-16 16:00:31,786] Trial 0 finished with values: [0.6692874188577748, 0.04935235263599667] and parameters: {'max_depth': 5, 'eta': 0.07503465523842595, 'subsample': 0.8847766275433675, 'colsample_bytree': 0.894322702941309}.\n",
      "[I 2025-05-16 16:00:31,945] Trial 1 finished with values: [0.6807384670054805, 0.033176720223534815] and parameters: {'max_depth': 4, 'eta': 0.16856210405439156, 'subsample': 0.601608722419519, 'colsample_bytree': 0.6868911260447694}.\n",
      "[I 2025-05-16 16:00:32,222] Trial 2 finished with values: [0.6685659844439747, 0.051240397553023447] and parameters: {'max_depth': 7, 'eta': 0.03596842661940944, 'subsample': 0.8791125779451159, 'colsample_bytree': 0.9103726062809037}.\n",
      "[I 2025-05-16 16:00:32,393] Trial 3 finished with values: [0.6742945719335974, 0.028384685872333133] and parameters: {'max_depth': 4, 'eta': 0.08983661277431128, 'subsample': 0.8704517496525302, 'colsample_bytree': 0.6450901121993727}.\n",
      "[I 2025-05-16 16:00:32,609] Trial 4 finished with values: [0.6564363897032469, 0.04841756010881123] and parameters: {'max_depth': 4, 'eta': 0.025478645446349094, 'subsample': 0.9627968398089111, 'colsample_bytree': 0.8435832122195379}.\n",
      "[I 2025-05-16 16:00:32,768] Trial 5 finished with values: [0.6585838441579129, 0.016924149653065917] and parameters: {'max_depth': 3, 'eta': 0.17845211295350022, 'subsample': 0.7319204520250648, 'colsample_bytree': 0.6192546128579673}.\n",
      "[I 2025-05-16 16:00:32,917] Trial 6 finished with values: [0.6692981408129692, 0.05779285110900925] and parameters: {'max_depth': 3, 'eta': 0.27906945307370723, 'subsample': 0.7225287038510244, 'colsample_bytree': 0.7408670778187596}.\n",
      "[I 2025-05-16 16:00:33,205] Trial 7 finished with values: [0.6657261980253222, 0.055083845423671944] and parameters: {'max_depth': 6, 'eta': 0.029441556346888186, 'subsample': 0.8782239947960169, 'colsample_bytree': 0.6828825943218113}.\n",
      "[I 2025-05-16 16:00:33,407] Trial 8 finished with values: [0.6921359053772136, 0.08883343453859834] and parameters: {'max_depth': 7, 'eta': 0.2065322045314067, 'subsample': 0.973808137751892, 'colsample_bytree': 0.9043885381730383}.\n",
      "[I 2025-05-16 16:00:33,778] Trial 9 finished with values: [0.6642879243213768, 0.06449135683576132] and parameters: {'max_depth': 7, 'eta': 0.01754509194965841, 'subsample': 0.6908440816746829, 'colsample_bytree': 0.8275375413546912}.\n",
      "[I 2025-05-16 16:00:33,785] A new study created in memory with name: no-name-065b86b8-6945-4981-a4e0-33aa607ea83a\n",
      "[I 2025-05-16 16:00:33,963] Trial 0 finished with values: [0.6821369163044179, 0.06084759430717849] and parameters: {'max_depth': 6, 'eta': 0.15424017114405256, 'subsample': 0.8815747163400989, 'colsample_bytree': 0.7399846357139099}.\n",
      "[I 2025-05-16 16:00:34,102] Trial 1 finished with values: [0.663578743570656, 0.03055187949378707] and parameters: {'max_depth': 4, 'eta': 0.09950478596623523, 'subsample': 0.7511636313975314, 'colsample_bytree': 0.9783765448245247}.\n",
      "[I 2025-05-16 16:00:34,273] Trial 2 finished with values: [0.6657154760701277, 0.05935909498479113] and parameters: {'max_depth': 7, 'eta': 0.064872160291284, 'subsample': 0.8205924933492107, 'colsample_bytree': 0.8047902920250005}.\n",
      "[I 2025-05-16 16:00:34,451] Trial 3 finished with values: [0.6700088532715749, 0.055018787429877425] and parameters: {'max_depth': 5, 'eta': 0.03807631577865373, 'subsample': 0.6951051048995593, 'colsample_bytree': 0.7272765377822781}.\n",
      "[I 2025-05-16 16:00:34,587] Trial 4 finished with values: [0.684279775635429, 0.04953325290688956] and parameters: {'max_depth': 6, 'eta': 0.23114135168324348, 'subsample': 0.801291089447344, 'colsample_bytree': 0.7606429520293916}.\n",
      "[I 2025-05-16 16:00:34,724] Trial 5 finished with values: [0.681449179464086, 0.019946088042793724] and parameters: {'max_depth': 5, 'eta': 0.1586479654231121, 'subsample': 0.8096627679728695, 'colsample_bytree': 0.6461845842048776}.\n",
      "[I 2025-05-16 16:00:34,870] Trial 6 finished with values: [0.6778573244739349, 0.05456038110831596] and parameters: {'max_depth': 5, 'eta': 0.17583819831696149, 'subsample': 0.7218865411866875, 'colsample_bytree': 0.9455239132240001}.\n",
      "[I 2025-05-16 16:00:35,072] Trial 7 finished with values: [0.6735777326434521, 0.04567606450020328] and parameters: {'max_depth': 6, 'eta': 0.04310913236227418, 'subsample': 0.6677912480452052, 'colsample_bytree': 0.9116594910249339}.\n",
      "[I 2025-05-16 16:00:35,251] Trial 8 finished with values: [0.680726213342401, 0.05851268419828822] and parameters: {'max_depth': 6, 'eta': 0.06739893152738603, 'subsample': 0.8112568178921331, 'colsample_bytree': 0.6591662234747736}.\n",
      "[I 2025-05-16 16:00:35,416] Trial 9 finished with values: [0.6742961036414824, 0.03561405336762416] and parameters: {'max_depth': 7, 'eta': 0.10977388808424397, 'subsample': 0.6905895446022736, 'colsample_bytree': 0.6145845679909668}.\n",
      "[I 2025-05-16 16:00:35,420] A new study created in memory with name: no-name-cb8bacdc-7820-43c6-bb77-e854ffc4e132\n",
      "[I 2025-05-16 16:00:35,572] Trial 0 finished with values: [0.6564440482426716, 0.03182408936034315] and parameters: {'max_depth': 3, 'eta': 0.034688961975858586, 'subsample': 0.9571884215610775, 'colsample_bytree': 0.8488910666828252}.\n",
      "[I 2025-05-16 16:00:35,737] Trial 1 finished with values: [0.6685751746912842, 0.04544388607215035] and parameters: {'max_depth': 5, 'eta': 0.04634442504541829, 'subsample': 0.995600058367089, 'colsample_bytree': 0.6075777081536761}.\n",
      "[I 2025-05-16 16:00:35,873] Trial 2 finished with values: [0.6693012042287392, 0.03644074662317947] and parameters: {'max_depth': 3, 'eta': 0.2111476184173122, 'subsample': 0.8095007299248395, 'colsample_bytree': 0.8706772150645294}.\n",
      "[I 2025-05-16 16:00:36,000] Trial 3 finished with values: [0.6685858966464787, 0.029914237924942466] and parameters: {'max_depth': 3, 'eta': 0.12721692681695967, 'subsample': 0.6317069684648832, 'colsample_bytree': 0.7591678950453331}.\n",
      "[I 2025-05-16 16:00:36,134] Trial 4 finished with values: [0.6771435485995595, 0.054938761267008224] and parameters: {'max_depth': 4, 'eta': 0.2683625726321236, 'subsample': 0.9521815518834037, 'colsample_bytree': 0.8074300771888094}.\n",
      "[I 2025-05-16 16:00:36,287] Trial 5 finished with values: [0.6707226291459504, 0.0644339803612982] and parameters: {'max_depth': 5, 'eta': 0.12864627012458751, 'subsample': 0.7866143987466468, 'colsample_bytree': 0.9109359202937983}.\n",
      "[I 2025-05-16 16:00:36,435] Trial 6 finished with values: [0.6964308142865457, 0.06886820070801364] and parameters: {'max_depth': 6, 'eta': 0.27394323525201536, 'subsample': 0.7474682547902187, 'colsample_bytree': 0.7165237455885907}.\n",
      "[I 2025-05-16 16:00:36,596] Trial 7 finished with values: [0.6842751805117743, 0.05897938699285354] and parameters: {'max_depth': 7, 'eta': 0.18252759518955258, 'subsample': 0.7666797808025734, 'colsample_bytree': 0.9030517793633556}.\n",
      "[I 2025-05-16 16:00:36,732] Trial 8 finished with values: [0.6692935456893144, 0.05299129887047813] and parameters: {'max_depth': 4, 'eta': 0.28013267125365116, 'subsample': 0.767964492912713, 'colsample_bytree': 0.76647107383758}.\n",
      "[I 2025-05-16 16:00:36,927] Trial 9 finished with values: [0.6842828390511989, 0.04363474106817316] and parameters: {'max_depth': 6, 'eta': 0.17262195839589958, 'subsample': 0.9676398896327009, 'colsample_bytree': 0.6773173613415635}.\n",
      "[I 2025-05-16 16:00:36,932] A new study created in memory with name: no-name-e64a155b-8ca9-4f3e-ab4c-d75f1ced9e1e\n",
      "[I 2025-05-16 16:00:37,146] Trial 0 finished with values: [0.6892884604191366, 0.06807758122181824] and parameters: {'max_depth': 6, 'eta': 0.28891399871584633, 'subsample': 0.7067558856691782, 'colsample_bytree': 0.9958739691179064}.\n",
      "[I 2025-05-16 16:00:37,457] Trial 1 finished with values: [0.667858335401139, 0.06146523367947057] and parameters: {'max_depth': 5, 'eta': 0.022195337664028727, 'subsample': 0.8278271897427716, 'colsample_bytree': 0.8281252989115736}.\n",
      "[I 2025-05-16 16:00:37,642] Trial 2 finished with values: [0.6914313197501478, 0.06860572878759698] and parameters: {'max_depth': 5, 'eta': 0.2604573224027139, 'subsample': 0.8071592847619741, 'colsample_bytree': 0.8762123379139055}.\n",
      "[I 2025-05-16 16:00:37,862] Trial 3 finished with values: [0.6828706043812972, 0.05781289055941493] and parameters: {'max_depth': 6, 'eta': 0.13689938581794664, 'subsample': 0.6246920214779187, 'colsample_bytree': 0.7235956836498751}.\n",
      "[I 2025-05-16 16:00:38,346] Trial 4 finished with values: [0.6700057898558051, 0.07633490668992789] and parameters: {'max_depth': 7, 'eta': 0.014258179815278877, 'subsample': 0.7230289628002954, 'colsample_bytree': 0.6002288578979568}.\n",
      "[I 2025-05-16 16:00:38,709] Trial 5 finished with values: [0.665009358735177, 0.06118563711382422] and parameters: {'max_depth': 6, 'eta': 0.02163826171152182, 'subsample': 0.7046416804471816, 'colsample_bytree': 0.8172291062745981}.\n",
      "[I 2025-05-16 16:00:39,009] Trial 6 finished with values: [0.6721440540631615, 0.05335514666485114] and parameters: {'max_depth': 6, 'eta': 0.025931199155363238, 'subsample': 0.7969769725004353, 'colsample_bytree': 0.8220007559102027}.\n",
      "[I 2025-05-16 16:00:39,209] Trial 7 finished with values: [0.6785833540113897, 0.04261285446684093] and parameters: {'max_depth': 3, 'eta': 0.23477991259339417, 'subsample': 0.7050628969528698, 'colsample_bytree': 0.7322108547846607}.\n",
      "[I 2025-05-16 16:00:39,408] Trial 8 finished with values: [0.6814338623852368, 0.05406160281709613] and parameters: {'max_depth': 5, 'eta': 0.20797449334201834, 'subsample': 0.8884851303420771, 'colsample_bytree': 0.6585379720427844}.\n",
      "[I 2025-05-16 16:00:39,586] Trial 9 finished with values: [0.6728670201848465, 0.03417224631869876] and parameters: {'max_depth': 4, 'eta': 0.05787756170537021, 'subsample': 0.7733989478281639, 'colsample_bytree': 0.6298224791544756}.\n",
      "[I 2025-05-16 16:00:39,589] A new study created in memory with name: no-name-f898b3c8-5cfb-4ec6-84da-849f7865c36f\n",
      "[I 2025-05-16 16:00:39,730] Trial 0 finished with values: [0.6971461218688062, 0.08646968328275173] and parameters: {'max_depth': 6, 'eta': 0.2581367160711512, 'subsample': 0.73368784728467, 'colsample_bytree': 0.7996559565916067}.\n",
      "[I 2025-05-16 16:00:39,868] Trial 1 finished with values: [0.6785726320561953, 0.06611827070546865] and parameters: {'max_depth': 5, 'eta': 0.2231384630349661, 'subsample': 0.7100782061182268, 'colsample_bytree': 0.7831660478122877}.\n",
      "[I 2025-05-16 16:00:40,039] Trial 2 finished with values: [0.6842904975906235, 0.058035704128178996] and parameters: {'max_depth': 7, 'eta': 0.07300825685270652, 'subsample': 0.7582726373593822, 'colsample_bytree': 0.949466496735631}.\n",
      "[I 2025-05-16 16:00:40,172] Trial 3 finished with values: [0.6842966244221632, 0.054120650373054115] and parameters: {'max_depth': 5, 'eta': 0.27019962206010795, 'subsample': 0.6295282823499422, 'colsample_bytree': 0.6608055149179461}.\n",
      "[I 2025-05-16 16:00:40,301] Trial 4 finished with values: [0.6692996725208542, 0.028342086859352095] and parameters: {'max_depth': 3, 'eta': 0.220418096372517, 'subsample': 0.960020220854978, 'colsample_bytree': 0.6468818466161571}.\n",
      "[I 2025-05-16 16:00:40,432] Trial 5 finished with values: [0.6735746692276822, 0.08089883767864699] and parameters: {'max_depth': 5, 'eta': 0.16946011060904648, 'subsample': 0.6408158292200441, 'colsample_bytree': 0.7489602132420436}.\n",
      "[I 2025-05-16 16:00:40,558] Trial 6 finished with values: [0.6628710945278204, 0.026603530976093952] and parameters: {'max_depth': 3, 'eta': 0.17276946753121228, 'subsample': 0.8508774081930034, 'colsample_bytree': 0.952964988883608}.\n",
      "[I 2025-05-16 16:00:40,731] Trial 7 finished with values: [0.6850088685886537, 0.09343344957008122] and parameters: {'max_depth': 6, 'eta': 0.20348623092670484, 'subsample': 0.7470248244545893, 'colsample_bytree': 0.8912671426570493}.\n",
      "[I 2025-05-16 16:00:40,902] Trial 8 finished with values: [0.6785665052246556, 0.05829818631962125] and parameters: {'max_depth': 7, 'eta': 0.0986025586517611, 'subsample': 0.8296825294680279, 'colsample_bytree': 0.9774397022395831}.\n",
      "[I 2025-05-16 16:00:41,028] Trial 9 finished with values: [0.6635848704021959, 0.03087356526353785] and parameters: {'max_depth': 3, 'eta': 0.16549865851867665, 'subsample': 0.758669912614135, 'colsample_bytree': 0.8827554478969973}.\n",
      "[I 2025-05-16 16:00:41,031] A new study created in memory with name: no-name-71718d05-4597-4169-b46c-da794fc6b7a3\n",
      "[I 2025-05-16 16:00:41,146] Trial 0 finished with values: [0.668581301522824, 0.02877614639388539] and parameters: {'max_depth': 3, 'eta': 0.18228185343194434, 'subsample': 0.9633937625637523, 'colsample_bytree': 0.8362706003031055}.\n",
      "[I 2025-05-16 16:00:41,325] Trial 1 finished with values: [0.7178624710124284, 0.09199348788902845] and parameters: {'max_depth': 7, 'eta': 0.29034187051259325, 'subsample': 0.8056200966336825, 'colsample_bytree': 0.8853944732756671}.\n",
      "[I 2025-05-16 16:00:41,516] Trial 2 finished with values: [0.6700073215636899, 0.06265892480454475] and parameters: {'max_depth': 7, 'eta': 0.07325322574513847, 'subsample': 0.7868183775411264, 'colsample_bytree': 0.716635601898398}.\n",
      "[I 2025-05-16 16:00:41,676] Trial 3 finished with values: [0.6750083478079728, 0.03888924575979944] and parameters: {'max_depth': 7, 'eta': 0.11158429050523455, 'subsample': 0.8710536320437301, 'colsample_bytree': 0.642646599519092}.\n",
      "[I 2025-05-16 16:00:41,817] Trial 4 finished with values: [0.6749930307291235, 0.06989324402890189] and parameters: {'max_depth': 5, 'eta': 0.22522135569201385, 'subsample': 0.644756546357017, 'colsample_bytree': 0.740509728795374}.\n",
      "[I 2025-05-16 16:00:41,957] Trial 5 finished with values: [0.6800093740522558, 0.07099391708591477] and parameters: {'max_depth': 6, 'eta': 0.17935699539362882, 'subsample': 0.6696909920144178, 'colsample_bytree': 0.8161994634119538}.\n",
      "[I 2025-05-16 16:00:42,100] Trial 6 finished with values: [0.6628726262357053, 0.03702672503706022] and parameters: {'max_depth': 3, 'eta': 0.0645757759945423, 'subsample': 0.6279301490065967, 'colsample_bytree': 0.7847113411408935}.\n",
      "[I 2025-05-16 16:00:42,230] Trial 7 finished with values: [0.6793017250094201, 0.059411405387383424] and parameters: {'max_depth': 4, 'eta': 0.2675808826614599, 'subsample': 0.8696982309058244, 'colsample_bytree': 0.6714596395880146}.\n",
      "[I 2025-05-16 16:00:42,411] Trial 8 finished with values: [0.6842859024669687, 0.0585513776459371] and parameters: {'max_depth': 7, 'eta': 0.1282048066700858, 'subsample': 0.7807127648146562, 'colsample_bytree': 0.7324122220569163}.\n",
      "[I 2025-05-16 16:00:42,574] Trial 9 finished with values: [0.7128645081839152, 0.06978587240386858] and parameters: {'max_depth': 7, 'eta': 0.24324409534127306, 'subsample': 0.82483946494578, 'colsample_bytree': 0.6131506102728749}.\n",
      "[I 2025-05-16 16:00:42,579] A new study created in memory with name: no-name-618a338b-62c7-4018-84fc-60c04bba2125\n",
      "[I 2025-05-16 16:00:42,900] Trial 0 finished with values: [0.6714379367282106, 0.05645846947582548] and parameters: {'max_depth': 6, 'eta': 0.01543780852621304, 'subsample': 0.68087013446629, 'colsample_bytree': 0.6897615116002387}.\n",
      "[I 2025-05-16 16:00:43,045] Trial 1 finished with values: [0.6828537555945631, 0.04986760746405584] and parameters: {'max_depth': 5, 'eta': 0.19037792035606016, 'subsample': 0.8686281875390274, 'colsample_bytree': 0.8469479043194803}.\n",
      "[I 2025-05-16 16:00:43,188] Trial 2 finished with values: [0.6878670355019253, 0.06566293586023798] and parameters: {'max_depth': 4, 'eta': 0.27301285614295895, 'subsample': 0.8845554179142096, 'colsample_bytree': 0.6573038540421867}.\n",
      "[I 2025-05-16 16:00:43,327] Trial 3 finished with values: [0.6828537555945631, 0.0422604235969411] and parameters: {'max_depth': 4, 'eta': 0.2249022181131554, 'subsample': 0.9104554817328282, 'colsample_bytree': 0.635498457330875}.\n",
      "[I 2025-05-16 16:00:43,463] Trial 4 finished with values: [0.6821537650911519, 0.0497215664210639] and parameters: {'max_depth': 4, 'eta': 0.2157772348691508, 'subsample': 0.6351172736622986, 'colsample_bytree': 0.7804937755166435}.\n",
      "[I 2025-05-16 16:00:43,647] Trial 5 finished with values: [0.6678629305247936, 0.05616217741994375] and parameters: {'max_depth': 5, 'eta': 0.05271462587815709, 'subsample': 0.6444738502166025, 'colsample_bytree': 0.8785560007922906}.\n",
      "[I 2025-05-16 16:00:43,787] Trial 6 finished with values: [0.6785741637640802, 0.06736249713753269] and parameters: {'max_depth': 4, 'eta': 0.23683486703810197, 'subsample': 0.962022731292101, 'colsample_bytree': 0.6152289045337724}.\n",
      "[I 2025-05-16 16:00:43,953] Trial 7 finished with values: [0.6957078481648608, 0.06022328242740144] and parameters: {'max_depth': 7, 'eta': 0.2383339090034892, 'subsample': 0.6052365948464884, 'colsample_bytree': 0.9080402550702572}.\n",
      "[I 2025-05-16 16:00:44,126] Trial 8 finished with values: [0.6921328419614438, 0.07976001903281939] and parameters: {'max_depth': 6, 'eta': 0.1922426989498348, 'subsample': 0.831474053315932, 'colsample_bytree': 0.9075962373596825}.\n",
      "[I 2025-05-16 16:00:44,269] Trial 9 finished with values: [0.6857180493393744, 0.05934684324953113] and parameters: {'max_depth': 5, 'eta': 0.18884547284271924, 'subsample': 0.8008258761848926, 'colsample_bytree': 0.9600219402005866}.\n",
      "[I 2025-05-16 16:00:44,272] A new study created in memory with name: no-name-274a422c-761e-435e-b3ae-fdd31cdb12d2\n",
      "[I 2025-05-16 16:00:44,411] Trial 0 finished with values: [0.6785833540113897, 0.07155240370513243] and parameters: {'max_depth': 3, 'eta': 0.2963732785982203, 'subsample': 0.6253915998254129, 'colsample_bytree': 0.7475582741806038}.\n",
      "[I 2025-05-16 16:00:44,628] Trial 1 finished with values: [0.6628726262357053, 0.03245901987680722] and parameters: {'max_depth': 3, 'eta': 0.05707219500093856, 'subsample': 0.6320856499903259, 'colsample_bytree': 0.8388358134293756}.\n",
      "[I 2025-05-16 16:00:44,844] Trial 2 finished with values: [0.6771558022626388, 0.05881572709321911] and parameters: {'max_depth': 5, 'eta': 0.1256263243012106, 'subsample': 0.8325726723235336, 'colsample_bytree': 0.7652526344403616}.\n",
      "[I 2025-05-16 16:00:45,034] Trial 3 finished with values: [0.6771496754310992, 0.0385372807728662] and parameters: {'max_depth': 5, 'eta': 0.16790602072686936, 'subsample': 0.7276853009023675, 'colsample_bytree': 0.9854343763235366}.\n",
      "[I 2025-05-16 16:00:45,218] Trial 4 finished with values: [0.6685904917701335, 0.03847630636203809] and parameters: {'max_depth': 3, 'eta': 0.2486670121865114, 'subsample': 0.9028879320357719, 'colsample_bytree': 0.6690146290801171}.\n",
      "[I 2025-05-16 16:00:45,414] Trial 5 finished with values: [0.6857180493393744, 0.06288798258388592] and parameters: {'max_depth': 5, 'eta': 0.15932867883137058, 'subsample': 0.8911355128871329, 'colsample_bytree': 0.7816641291260985}.\n",
      "[I 2025-05-16 16:00:45,594] Trial 6 finished with values: [0.6921558175797178, 0.052507772956430554] and parameters: {'max_depth': 4, 'eta': 0.29212625423811367, 'subsample': 0.8042858888690922, 'colsample_bytree': 0.7738189894964754}.\n",
      "[I 2025-05-16 16:00:45,817] Trial 7 finished with values: [0.6771466120153292, 0.056163095392579715] and parameters: {'max_depth': 7, 'eta': 0.12079684691619719, 'subsample': 0.9212638212341863, 'colsample_bytree': 0.6505958633173439}.\n",
      "[I 2025-05-16 16:00:46,061] Trial 8 finished with values: [0.6721517126025861, 0.044140521361813824] and parameters: {'max_depth': 7, 'eta': 0.08681205316908325, 'subsample': 0.7198571017665958, 'colsample_bytree': 0.6606301468213899}.\n",
      "[I 2025-05-16 16:00:46,233] Trial 9 finished with values: [0.6635802752785411, 0.03046923523487906] and parameters: {'max_depth': 3, 'eta': 0.21373991660625996, 'subsample': 0.7715499956899832, 'colsample_bytree': 0.637340971389002}.\n",
      "[I 2025-05-16 16:00:46,237] A new study created in memory with name: no-name-8d68bf09-7d62-413a-9c0b-40b13519547a\n",
      "[I 2025-05-16 16:00:46,409] Trial 0 finished with values: [0.6764404946803785, 0.03193688254627159] and parameters: {'max_depth': 4, 'eta': 0.11043109949261151, 'subsample': 0.633063937113196, 'colsample_bytree': 0.6369503249199897}.\n",
      "[I 2025-05-16 16:00:46,763] Trial 1 finished with values: [0.6785665052246556, 0.0595139143088152] and parameters: {'max_depth': 7, 'eta': 0.023079105342263935, 'subsample': 0.7604202211879658, 'colsample_bytree': 0.8615868349736729}.\n",
      "[I 2025-05-16 16:00:46,892] Trial 2 finished with values: [0.6650108904430617, 0.032560308658037274] and parameters: {'max_depth': 3, 'eta': 0.20036012874256, 'subsample': 0.9384191649220954, 'colsample_bytree': 0.9771439549801955}.\n",
      "[I 2025-05-16 16:00:47,111] Trial 3 finished with values: [0.6685736429833993, 0.05469937018040166] and parameters: {'max_depth': 5, 'eta': 0.0314790456540094, 'subsample': 0.6857473210699349, 'colsample_bytree': 0.9377844493336306}.\n",
      "[I 2025-05-16 16:00:47,261] Trial 4 finished with values: [0.6514399585826188, 0.02290094059988094] and parameters: {'max_depth': 3, 'eta': 0.04853417454868882, 'subsample': 0.9383364767643458, 'colsample_bytree': 0.9192959476385756}.\n",
      "[I 2025-05-16 16:00:47,418] Trial 5 finished with values: [0.7021410212815494, 0.0727210636613503] and parameters: {'max_depth': 7, 'eta': 0.18947530552406464, 'subsample': 0.8526169540715725, 'colsample_bytree': 0.8646396186369314}.\n",
      "[I 2025-05-16 16:00:47,569] Trial 6 finished with values: [0.676428241017299, 0.06704841085595246] and parameters: {'max_depth': 5, 'eta': 0.09924714953381117, 'subsample': 0.6522309619670696, 'colsample_bytree': 0.9213405887325347}.\n",
      "[I 2025-05-16 16:00:47,814] Trial 7 finished with values: [0.6771343583522499, 0.05399678247459886] and parameters: {'max_depth': 6, 'eta': 0.02151432978021297, 'subsample': 0.8928730117615422, 'colsample_bytree': 0.9427075277530581}.\n",
      "[I 2025-05-16 16:00:47,944] Trial 8 finished with values: [0.6828629458418726, 0.04699416612078619] and parameters: {'max_depth': 4, 'eta': 0.24302130956996934, 'subsample': 0.9367974837914516, 'colsample_bytree': 0.8053196854771478}.\n",
      "[I 2025-05-16 16:00:48,082] Trial 9 finished with values: [0.6671399644031087, 0.035311526925980004] and parameters: {'max_depth': 4, 'eta': 0.11881913031232232, 'subsample': 0.6646316315955088, 'colsample_bytree': 0.8233525537788984}.\n",
      "[I 2025-05-16 16:00:48,085] A new study created in memory with name: no-name-21fd33fa-eef7-4c5d-868c-4835a31eb34b\n",
      "[I 2025-05-16 16:00:48,229] Trial 0 finished with values: [0.6857119225078346, 0.06913112824973547] and parameters: {'max_depth': 6, 'eta': 0.13566130411912097, 'subsample': 0.9418534747909012, 'colsample_bytree': 0.7863486095636754}.\n",
      "[I 2025-05-16 16:00:48,350] Trial 1 finished with values: [0.6628664994041656, 0.02478254651758796] and parameters: {'max_depth': 3, 'eta': 0.1651543437665349, 'subsample': 0.9248534287209861, 'colsample_bytree': 0.6185340597691665}.\n",
      "[I 2025-05-16 16:00:48,485] Trial 2 finished with values: [0.6907144804600026, 0.07241100770920546] and parameters: {'max_depth': 5, 'eta': 0.265708890235796, 'subsample': 0.9956399420521456, 'colsample_bytree': 0.9806145252093159}.\n",
      "[I 2025-05-16 16:00:48,636] Trial 3 finished with values: [0.6921343736693287, 0.07603083108566593] and parameters: {'max_depth': 7, 'eta': 0.13132478592620156, 'subsample': 0.9630025144702353, 'colsample_bytree': 0.8652601476925219}.\n",
      "[I 2025-05-16 16:00:48,815] Trial 4 finished with values: [0.6750037526843181, 0.0634320715299651] and parameters: {'max_depth': 7, 'eta': 0.08751079573559277, 'subsample': 0.6488137831611591, 'colsample_bytree': 0.795368042019781}.\n",
      "[I 2025-05-16 16:00:48,968] Trial 5 finished with values: [0.6692904822735445, 0.03765908684479679] and parameters: {'max_depth': 5, 'eta': 0.05832352886409507, 'subsample': 0.6426012321790798, 'colsample_bytree': 0.8199956251361875}.\n",
      "[I 2025-05-16 16:00:49,087] Trial 6 finished with values: [0.6857226444630292, 0.035807573635104985] and parameters: {'max_depth': 4, 'eta': 0.27496164961308023, 'subsample': 0.8090403100440355, 'colsample_bytree': 0.6342261856314848}.\n",
      "[I 2025-05-16 16:00:49,202] Trial 7 finished with values: [0.6707210974380654, 0.03462430489508126] and parameters: {'max_depth': 3, 'eta': 0.28761644554499755, 'subsample': 0.7279550761807372, 'colsample_bytree': 0.8327872783520812}.\n",
      "[I 2025-05-16 16:00:49,423] Trial 8 finished with values: [0.6778588561818198, 0.051480649594183574] and parameters: {'max_depth': 7, 'eta': 0.0270125097296604, 'subsample': 0.8867931990579776, 'colsample_bytree': 0.8003652339599724}.\n",
      "[I 2025-05-16 16:00:49,572] Trial 9 finished with values: [0.6892838652954817, 0.07249080629218235] and parameters: {'max_depth': 6, 'eta': 0.192778555762221, 'subsample': 0.7705928932247516, 'colsample_bytree': 0.9636253568166279}.\n",
      "[I 2025-05-16 16:00:49,577] A new study created in memory with name: no-name-901983d5-7452-47b4-adaf-07f14513cf63\n",
      "[I 2025-05-16 16:00:49,685] Trial 0 finished with values: [0.6785787588877351, 0.04770076741954856] and parameters: {'max_depth': 3, 'eta': 0.19314376022466986, 'subsample': 0.6697938088834321, 'colsample_bytree': 0.7496813619397009}.\n",
      "[I 2025-05-16 16:00:49,822] Trial 1 finished with values: [0.6828629458418726, 0.05755701544313393] and parameters: {'max_depth': 7, 'eta': 0.14796304201692817, 'subsample': 0.7478137749898153, 'colsample_bytree': 0.6725572616613378}.\n",
      "[I 2025-05-16 16:00:49,959] Trial 2 finished with values: [0.6871410059644706, 0.06699955119349155] and parameters: {'max_depth': 5, 'eta': 0.2547571310213698, 'subsample': 0.650570724483925, 'colsample_bytree': 0.8070156664557329}.\n",
      "[I 2025-05-16 16:00:50,119] Trial 3 finished with values: [0.6657154760701277, 0.05076074033735924] and parameters: {'max_depth': 4, 'eta': 0.03477522244032841, 'subsample': 0.9405783269964162, 'colsample_bytree': 0.6560768708153465}.\n",
      "[I 2025-05-16 16:00:50,231] Trial 4 finished with values: [0.6564302628717072, 0.03356975246662338] and parameters: {'max_depth': 3, 'eta': 0.1262117739257531, 'subsample': 0.9336017806618337, 'colsample_bytree': 0.8165233213207508}.\n",
      "[I 2025-05-16 16:00:50,356] Trial 5 finished with values: [0.6892869287112516, 0.08663080558460579] and parameters: {'max_depth': 5, 'eta': 0.2920961857705621, 'subsample': 0.6441237150846838, 'colsample_bytree': 0.9542675176235191}.\n",
      "[I 2025-05-16 16:00:50,481] Trial 6 finished with values: [0.683578253424133, 0.06312325401668183] and parameters: {'max_depth': 5, 'eta': 0.24801809590603582, 'subsample': 0.6466119228808652, 'colsample_bytree': 0.6629036110620318}.\n",
      "[I 2025-05-16 16:00:50,622] Trial 7 finished with values: [0.6721517126025862, 0.03477333478140845] and parameters: {'max_depth': 4, 'eta': 0.07446307213022174, 'subsample': 0.8200741096854971, 'colsample_bytree': 0.6050046872001189}.\n",
      "[I 2025-05-16 16:00:50,753] Trial 8 finished with values: [0.6999996936584231, 0.08390417571916053] and parameters: {'max_depth': 6, 'eta': 0.2734506384582645, 'subsample': 0.9688546597474854, 'colsample_bytree': 0.6001868660210167}.\n",
      "[I 2025-05-16 16:00:50,893] Trial 9 finished with values: [0.6742915085178275, 0.05096430643129921] and parameters: {'max_depth': 6, 'eta': 0.09098621137052319, 'subsample': 0.8767906412758928, 'colsample_bytree': 0.7938800903227154}.\n",
      "[I 2025-05-16 16:00:50,896] A new study created in memory with name: no-name-c70ff479-82cd-4013-a284-be0fa10b1d70\n",
      "[I 2025-05-16 16:00:51,031] Trial 0 finished with values: [0.6607282351968092, 0.02947675399128702] and parameters: {'max_depth': 3, 'eta': 0.04952639983352439, 'subsample': 0.6342925715688287, 'colsample_bytree': 0.7010793998510101}.\n",
      "[I 2025-05-16 16:00:51,163] Trial 1 finished with values: [0.6971476535766911, 0.04969079091406525] and parameters: {'max_depth': 7, 'eta': 0.2132547121351143, 'subsample': 0.6323678143497045, 'colsample_bytree': 0.6012296255226779}.\n",
      "[I 2025-05-16 16:00:51,288] Trial 2 finished with values: [0.680003247220716, 0.046896454543613464] and parameters: {'max_depth': 5, 'eta': 0.2747787251898253, 'subsample': 0.7028750236316024, 'colsample_bytree': 0.6448758079517367}.\n",
      "[I 2025-05-16 16:00:51,408] Trial 3 finished with values: [0.6707256925617201, 0.03170269418414203] and parameters: {'max_depth': 3, 'eta': 0.15549184373366393, 'subsample': 0.6413475513727143, 'colsample_bytree': 0.7437203790850696}.\n",
      "[I 2025-05-16 16:00:51,549] Trial 4 finished with values: [0.6821445748438424, 0.07748917943428936] and parameters: {'max_depth': 5, 'eta': 0.2358947839739093, 'subsample': 0.9806809558710972, 'colsample_bytree': 0.6186887735895761}.\n",
      "[I 2025-05-16 16:00:51,689] Trial 5 finished with values: [0.6892808018797117, 0.06317693235219328] and parameters: {'max_depth': 7, 'eta': 0.14159513657622436, 'subsample': 0.7302914797805423, 'colsample_bytree': 0.9514775361544243}.\n",
      "[I 2025-05-16 16:00:51,833] Trial 6 finished with values: [0.6849981466334593, 0.05781231084049873] and parameters: {'max_depth': 6, 'eta': 0.13304593740019485, 'subsample': 0.9506595392397744, 'colsample_bytree': 0.9482672827560645}.\n",
      "[I 2025-05-16 16:00:51,954] Trial 7 finished with values: [0.6821430431359575, 0.0385710702342309] and parameters: {'max_depth': 5, 'eta': 0.21647991496669267, 'subsample': 0.737719666717563, 'colsample_bytree': 0.6409266834154418}.\n",
      "[I 2025-05-16 16:00:52,069] Trial 8 finished with values: [0.6757205919744633, 0.03228155244424904] and parameters: {'max_depth': 4, 'eta': 0.16983263199275062, 'subsample': 0.8209327402061093, 'colsample_bytree': 0.6360109490895155}.\n",
      "[I 2025-05-16 16:00:52,198] Trial 9 finished with values: [0.6907282658309669, 0.046859083864671656] and parameters: {'max_depth': 4, 'eta': 0.2873887820409059, 'subsample': 0.7868317559792625, 'colsample_bytree': 0.7587315610495977}.\n",
      "[I 2025-05-16 16:00:52,202] A new study created in memory with name: no-name-742e84bb-120b-4254-924b-76609b80a7ef\n",
      "[I 2025-05-16 16:00:52,389] Trial 0 finished with values: [0.6721455857710463, 0.06117900963558814] and parameters: {'max_depth': 5, 'eta': 0.13960642499332682, 'subsample': 0.7020217745789741, 'colsample_bytree': 0.7731917138475315}.\n",
      "[I 2025-05-16 16:00:52,584] Trial 1 finished with values: [0.7021440846973191, 0.07266344670507892] and parameters: {'max_depth': 6, 'eta': 0.2595910616733872, 'subsample': 0.6373013292696378, 'colsample_bytree': 0.9097982044943007}.\n",
      "[I 2025-05-16 16:00:52,747] Trial 2 finished with values: [0.6657200711937824, 0.02327597351335735] and parameters: {'max_depth': 3, 'eta': 0.2560977919757301, 'subsample': 0.8793392780242686, 'colsample_bytree': 0.8973519780994206}.\n",
      "[I 2025-05-16 16:00:52,918] Trial 3 finished with values: [0.6664353787760429, 0.04966089859115719] and parameters: {'max_depth': 4, 'eta': 0.11149711184626424, 'subsample': 0.7257553272637707, 'colsample_bytree': 0.9239217401970901}.\n",
      "[I 2025-05-16 16:00:53,094] Trial 4 finished with values: [0.6828598824261028, 0.050966736435326114] and parameters: {'max_depth': 5, 'eta': 0.10701449390003784, 'subsample': 0.8562197235773228, 'colsample_bytree': 0.9483091461535929}.\n",
      "[I 2025-05-16 16:00:53,265] Trial 5 finished with values: [0.6764251776015292, 0.05010124531877297] and parameters: {'max_depth': 4, 'eta': 0.23410646561593704, 'subsample': 0.7268648323134993, 'colsample_bytree': 0.9360536486573373}.\n",
      "[I 2025-05-16 16:00:53,440] Trial 6 finished with values: [0.6907252024151971, 0.06847342807804942] and parameters: {'max_depth': 5, 'eta': 0.19493040938941872, 'subsample': 0.7862617500278568, 'colsample_bytree': 0.9080451113091358}.\n",
      "[I 2025-05-16 16:00:53,635] Trial 7 finished with values: [0.6871456010881253, 0.06601687890882887] and parameters: {'max_depth': 6, 'eta': 0.22525216089017425, 'subsample': 0.6162338827798464, 'colsample_bytree': 0.6778535563199557}.\n",
      "[I 2025-05-16 16:00:53,832] Trial 8 finished with values: [0.6728639567690765, 0.03371929914379388] and parameters: {'max_depth': 6, 'eta': 0.1301548732864451, 'subsample': 0.7534812619151325, 'colsample_bytree': 0.650908009448953}.\n",
      "[I 2025-05-16 16:00:54,025] Trial 9 finished with values: [0.6950109210772196, 0.06009256795536483] and parameters: {'max_depth': 6, 'eta': 0.23334675999549168, 'subsample': 0.9899040882761395, 'colsample_bytree': 0.9221867641264911}.\n",
      "[I 2025-05-16 16:00:54,031] A new study created in memory with name: no-name-4d3b48f4-ee33-445a-8f5e-4460e3efb688\n",
      "[I 2025-05-16 16:00:54,204] Trial 0 finished with values: [0.6821507016753822, 0.05681127361927102] and parameters: {'max_depth': 5, 'eta': 0.21771339009652663, 'subsample': 0.684442887316198, 'colsample_bytree': 0.6932333919851901}.\n",
      "[I 2025-05-16 16:00:54,415] Trial 1 finished with values: [0.6807185548029765, 0.04634215552146977] and parameters: {'max_depth': 6, 'eta': 0.0694480467787136, 'subsample': 0.7450454150820458, 'colsample_bytree': 0.9238361251753281}.\n",
      "[I 2025-05-16 16:00:54,686] Trial 2 finished with values: [0.6692904822735447, 0.04557530204939525] and parameters: {'max_depth': 7, 'eta': 0.046809404794261655, 'subsample': 0.6616706099881019, 'colsample_bytree': 0.7246514680346515}.\n",
      "[I 2025-05-16 16:00:54,868] Trial 3 finished with values: [0.6921405005008685, 0.06811908386000287] and parameters: {'max_depth': 5, 'eta': 0.29898516064349895, 'subsample': 0.8138695057661585, 'colsample_bytree': 0.9500261151763763}.\n",
      "[I 2025-05-16 16:00:55,081] Trial 4 finished with values: [0.6700027264400351, 0.06606334563383233] and parameters: {'max_depth': 5, 'eta': 0.06079352409674674, 'subsample': 0.8250439901986739, 'colsample_bytree': 0.8688720276626452}.\n",
      "[I 2025-05-16 16:00:55,280] Trial 5 finished with values: [0.6885716211289913, 0.07207790936308522] and parameters: {'max_depth': 6, 'eta': 0.24363269150677042, 'subsample': 0.7611883709800435, 'colsample_bytree': 0.6630496269308356}.\n",
      "[I 2025-05-16 16:00:55,463] Trial 6 finished with values: [0.6885823430841858, 0.07273756784215839] and parameters: {'max_depth': 5, 'eta': 0.25036320643689197, 'subsample': 0.6132724569919269, 'colsample_bytree': 0.9955656916411071}.\n",
      "[I 2025-05-16 16:00:55,597] Trial 7 finished with values: [0.6757098700192689, 0.04905093909069433] and parameters: {'max_depth': 4, 'eta': 0.18033011727618709, 'subsample': 0.8306715274340261, 'colsample_bytree': 0.9633371503854811}.\n",
      "[I 2025-05-16 16:00:55,716] Trial 8 finished with values: [0.6728486396902275, 0.05689572319869827] and parameters: {'max_depth': 4, 'eta': 0.1845215441618462, 'subsample': 0.6827225403416138, 'colsample_bytree': 0.7625664282683055}.\n",
      "[I 2025-05-16 16:00:55,866] Trial 9 finished with values: [0.6664307836523881, 0.06352496884744302] and parameters: {'max_depth': 4, 'eta': 0.06890381324754094, 'subsample': 0.9477575662517583, 'colsample_bytree': 0.8416067062423802}.\n",
      "[I 2025-05-16 16:00:55,869] A new study created in memory with name: no-name-a036a7b1-9f9c-4b44-8f51-5f82675eac54\n",
      "[I 2025-05-16 16:00:56,036] Trial 0 finished with values: [0.6864256983822102, 0.06536484171358929] and parameters: {'max_depth': 6, 'eta': 0.07028617631484656, 'subsample': 0.9451734765716489, 'colsample_bytree': 0.8999133030854256}.\n",
      "[I 2025-05-16 16:00:56,169] Trial 1 finished with values: [0.6850104002965387, 0.04751458963688456] and parameters: {'max_depth': 4, 'eta': 0.21528226911702733, 'subsample': 0.6889220694884324, 'colsample_bytree': 0.8792721823116791}.\n",
      "[I 2025-05-16 16:00:56,306] Trial 2 finished with values: [0.6621420015745957, 0.03298936019217869] and parameters: {'max_depth': 3, 'eta': 0.1823111113321465, 'subsample': 0.9388649536489857, 'colsample_bytree': 0.8223389695383733}.\n",
      "[I 2025-05-16 16:00:56,484] Trial 3 finished with values: [0.704277753781021, 0.07762450941607886] and parameters: {'max_depth': 7, 'eta': 0.23441277480069755, 'subsample': 0.790706617275346, 'colsample_bytree': 0.9615926161443134}.\n",
      "[I 2025-05-16 16:00:56,652] Trial 4 finished with values: [0.6857073273841799, 0.06368927218080675] and parameters: {'max_depth': 7, 'eta': 0.0919009408393701, 'subsample': 0.6787146735024605, 'colsample_bytree': 0.8326458522743857}.\n",
      "[I 2025-05-16 16:00:56,830] Trial 5 finished with values: [0.6742899768099426, 0.05096208563849641] and parameters: {'max_depth': 6, 'eta': 0.05246437717290568, 'subsample': 0.9114695322917918, 'colsample_bytree': 0.6641879599075997}.\n",
      "[I 2025-05-16 16:00:56,941] Trial 6 finished with values: [0.6714348733124408, 0.056527833168699075] and parameters: {'max_depth': 3, 'eta': 0.2596031585909255, 'subsample': 0.8427931739140694, 'colsample_bytree': 0.8864377065648312}.\n",
      "[I 2025-05-16 16:00:57,125] Trial 7 finished with values: [0.6714302781887861, 0.06285417416970618] and parameters: {'max_depth': 5, 'eta': 0.02918495392526429, 'subsample': 0.9057960915951839, 'colsample_bytree': 0.6438921656108095}.\n",
      "[I 2025-05-16 16:00:57,295] Trial 8 finished with values: [0.6771328266443651, 0.05711267387278029] and parameters: {'max_depth': 5, 'eta': 0.08039870798302444, 'subsample': 0.9666571962588444, 'colsample_bytree': 0.8005825679884334}.\n",
      "[I 2025-05-16 16:00:57,444] Trial 9 finished with values: [0.680724681634516, 0.04245784502873532] and parameters: {'max_depth': 3, 'eta': 0.26229091957844564, 'subsample': 0.9442923027556265, 'colsample_bytree': 0.7606581098095441}.\n",
      "[I 2025-05-16 16:00:57,449] A new study created in memory with name: no-name-a62427d7-366f-476c-9039-0a33befd9839\n",
      "[I 2025-05-16 16:00:57,670] Trial 0 finished with values: [0.6628619042805108, 0.03162094716556226] and parameters: {'max_depth': 3, 'eta': 0.24238150182058982, 'subsample': 0.8592138560486906, 'colsample_bytree': 0.7243470541134869}.\n",
      "[I 2025-05-16 16:00:57,846] Trial 1 finished with values: [0.6821430431359575, 0.06303004227555375] and parameters: {'max_depth': 6, 'eta': 0.1641353565336182, 'subsample': 0.8611023557831432, 'colsample_bytree': 0.6866695789573988}.\n",
      "[I 2025-05-16 16:00:57,975] Trial 2 finished with values: [0.708571130982468, 0.08342261034652733] and parameters: {'max_depth': 5, 'eta': 0.2920401689124782, 'subsample': 0.9386178978602286, 'colsample_bytree': 0.7326957164586954}.\n",
      "[I 2025-05-16 16:00:58,129] Trial 3 finished with values: [0.6785833540113897, 0.052666533787018854] and parameters: {'max_depth': 4, 'eta': 0.04185026907042404, 'subsample': 0.786905906977146, 'colsample_bytree': 0.7491371803145962}.\n",
      "[I 2025-05-16 16:00:58,253] Trial 4 finished with values: [0.6664506958548921, 0.04357726925841917] and parameters: {'max_depth': 3, 'eta': 0.07020572612134103, 'subsample': 0.6335722398812692, 'colsample_bytree': 0.9321227228767488}.\n",
      "[I 2025-05-16 16:00:58,393] Trial 5 finished with values: [0.7057114323613115, 0.05887803772418452] and parameters: {'max_depth': 7, 'eta': 0.262919401904006, 'subsample': 0.7321925450514479, 'colsample_bytree': 0.9524637266642955}.\n",
      "[I 2025-05-16 16:00:58,527] Trial 6 finished with values: [0.6921374370850986, 0.08633568206289695] and parameters: {'max_depth': 6, 'eta': 0.2992244399121683, 'subsample': 0.6142837808998857, 'colsample_bytree': 0.9581863877589846}.\n",
      "[I 2025-05-16 16:00:58,652] Trial 7 finished with values: [0.6700027264400351, 0.03942140593812237] and parameters: {'max_depth': 3, 'eta': 0.24602746463023467, 'subsample': 0.9742704189614964, 'colsample_bytree': 0.8168051454761307}.\n",
      "[I 2025-05-16 16:00:58,788] Trial 8 finished with values: [0.6771435485995595, 0.05636541613599707] and parameters: {'max_depth': 5, 'eta': 0.2136055178955515, 'subsample': 0.7295850850492689, 'colsample_bytree': 0.9016975989522127}.\n",
      "[I 2025-05-16 16:00:58,970] Trial 9 finished with values: [0.6692904822735447, 0.06198660782439139] and parameters: {'max_depth': 5, 'eta': 0.05612694963622852, 'subsample': 0.6993329401129446, 'colsample_bytree': 0.8302454442004312}.\n",
      "[I 2025-05-16 16:00:58,973] A new study created in memory with name: no-name-076605a1-3166-4ce5-ab7d-c5c900f5af6f\n",
      "[I 2025-05-16 16:00:59,213] Trial 0 finished with values: [0.6750083478079728, 0.04232576848739499] and parameters: {'max_depth': 5, 'eta': 0.0174571873606607, 'subsample': 0.7592859471547795, 'colsample_bytree': 0.6522617404883891}.\n",
      "[I 2025-05-16 16:00:59,339] Trial 1 finished with values: [0.6693027359366241, 0.029929750541166245] and parameters: {'max_depth': 3, 'eta': 0.08515511119747331, 'subsample': 0.8068960301369178, 'colsample_bytree': 0.6594546444238977}.\n",
      "[I 2025-05-16 16:00:59,488] Trial 2 finished with values: [0.6742991670572521, 0.06437020418811194] and parameters: {'max_depth': 5, 'eta': 0.06581698412056756, 'subsample': 0.8174585665004388, 'colsample_bytree': 0.8747250720078187}.\n",
      "[I 2025-05-16 16:00:59,646] Trial 3 finished with values: [0.6828598824261028, 0.03142686126706279] and parameters: {'max_depth': 5, 'eta': 0.1490331467389673, 'subsample': 0.820050310380523, 'colsample_bytree': 0.7489389660627228}.\n",
      "[I 2025-05-16 16:00:59,811] Trial 4 finished with values: [0.686427230090095, 0.05299172882990058] and parameters: {'max_depth': 7, 'eta': 0.19840216110364303, 'subsample': 0.7867279175880564, 'colsample_bytree': 0.6314078853628763}.\n",
      "[I 2025-05-16 16:00:59,933] Trial 5 finished with values: [0.6735945814301864, 0.04092920612382797] and parameters: {'max_depth': 3, 'eta': 0.22002561716901442, 'subsample': 0.6299151604056162, 'colsample_bytree': 0.7142775365239539}.\n",
      "[I 2025-05-16 16:01:00,085] Trial 6 finished with values: [0.6778680464291295, 0.03650851079210001] and parameters: {'max_depth': 5, 'eta': 0.17624537784757352, 'subsample': 0.6836904199237445, 'colsample_bytree': 0.6987652434309091}.\n",
      "[I 2025-05-16 16:01:00,231] Trial 7 finished with values: [0.6892976506664462, 0.07620469610146773] and parameters: {'max_depth': 5, 'eta': 0.17091029691567047, 'subsample': 0.6273863616854447, 'colsample_bytree': 0.6592269966067205}.\n",
      "[I 2025-05-16 16:01:00,391] Trial 8 finished with values: [0.6678598671090238, 0.04796406948545517] and parameters: {'max_depth': 4, 'eta': 0.08063152591152851, 'subsample': 0.9063757679325046, 'colsample_bytree': 0.8463872028040155}.\n",
      "[I 2025-05-16 16:01:00,559] Trial 9 finished with values: [0.7071359206942925, 0.07356521251030367] and parameters: {'max_depth': 7, 'eta': 0.24300074670975083, 'subsample': 0.7637880737045882, 'colsample_bytree': 0.9974738366848936}.\n",
      "[I 2025-05-16 16:01:00,565] A new study created in memory with name: no-name-6b28be28-231e-4d00-a10d-89cc9044356d\n",
      "[I 2025-05-16 16:01:00,745] Trial 0 finished with values: [0.7078588868159775, 0.07572477017052863] and parameters: {'max_depth': 7, 'eta': 0.269670477572963, 'subsample': 0.8095838362218819, 'colsample_bytree': 0.7602726473147996}.\n",
      "[I 2025-05-16 16:01:00,917] Trial 1 finished with values: [0.7092757166095339, 0.06102007705022237] and parameters: {'max_depth': 7, 'eta': 0.2560417063796337, 'subsample': 0.951382441431496, 'colsample_bytree': 0.8123675786160075}.\n",
      "[I 2025-05-16 16:01:01,053] Trial 2 finished with values: [0.6828736677970672, 0.0604761667582448] and parameters: {'max_depth': 4, 'eta': 0.18852386735634274, 'subsample': 0.6115612444938197, 'colsample_bytree': 0.8211973759587466}.\n",
      "[I 2025-05-16 16:01:01,206] Trial 3 finished with values: [0.6992920446155871, 0.05009665476977799] and parameters: {'max_depth': 6, 'eta': 0.24275088331705694, 'subsample': 0.8410048074754132, 'colsample_bytree': 0.6549024962702001}.\n",
      "[I 2025-05-16 16:01:01,387] Trial 4 finished with values: [0.6985706102017871, 0.07983850050811121] and parameters: {'max_depth': 6, 'eta': 0.18850627435283354, 'subsample': 0.8816009018610551, 'colsample_bytree': 0.7392562816794651}.\n",
      "[I 2025-05-16 16:01:01,568] Trial 5 finished with values: [0.6992859177840476, 0.05631479025399285] and parameters: {'max_depth': 6, 'eta': 0.29033443796983055, 'subsample': 0.838868033177976, 'colsample_bytree': 0.8512295742915468}.\n",
      "[I 2025-05-16 16:01:02,026] Trial 6 finished with values: [0.6699981313163804, 0.04147169975671635] and parameters: {'max_depth': 5, 'eta': 0.011631074762635777, 'subsample': 0.7913673798471663, 'colsample_bytree': 0.8800435230321658}.\n",
      "[I 2025-05-16 16:01:02,315] Trial 7 finished with values: [0.6778496659345103, 0.08144005613533727] and parameters: {'max_depth': 6, 'eta': 0.0267358577983777, 'subsample': 0.6879004756241802, 'colsample_bytree': 0.8453897415380025}.\n",
      "[I 2025-05-16 16:01:02,561] Trial 8 finished with values: [0.6742746597310934, 0.06711823050471512] and parameters: {'max_depth': 6, 'eta': 0.06757757323268601, 'subsample': 0.6849882580596809, 'colsample_bytree': 0.844363598571467}.\n",
      "[I 2025-05-16 16:01:02,745] Trial 9 finished with values: [0.6585823124500281, 0.016021343894643447] and parameters: {'max_depth': 3, 'eta': 0.12167870260701921, 'subsample': 0.9190978361154518, 'colsample_bytree': 0.703669424876266}.\n",
      "[I 2025-05-16 16:01:02,750] A new study created in memory with name: no-name-28f0602d-13ab-43bd-90ee-21144629c9c0\n",
      "[I 2025-05-16 16:01:02,958] Trial 0 finished with values: [0.683578253424133, 0.04853720855011049] and parameters: {'max_depth': 5, 'eta': 0.27784244912528416, 'subsample': 0.6446359427349306, 'colsample_bytree': 0.648941041707671}.\n",
      "[I 2025-05-16 16:01:03,144] Trial 1 finished with values: [0.6678613988169088, 0.03507787457178707] and parameters: {'max_depth': 4, 'eta': 0.11320189253617438, 'subsample': 0.741584632282287, 'colsample_bytree': 0.7112202412959102}.\n",
      "[I 2025-05-16 16:01:03,343] Trial 2 finished with values: [0.6835690631768235, 0.045798932342541177] and parameters: {'max_depth': 5, 'eta': 0.20340332750215312, 'subsample': 0.6508700709517425, 'colsample_bytree': 0.6113419237728659}.\n",
      "[I 2025-05-16 16:01:03,549] Trial 3 finished with values: [0.6714348733124408, 0.06051578522515388] and parameters: {'max_depth': 5, 'eta': 0.23262912483987547, 'subsample': 0.7244139122946442, 'colsample_bytree': 0.7249187781716896}.\n",
      "[I 2025-05-16 16:01:03,762] Trial 4 finished with values: [0.6664277202366181, 0.05205180275445259] and parameters: {'max_depth': 4, 'eta': 0.05549571925119056, 'subsample': 0.8915094022693721, 'colsample_bytree': 0.9711529097750897}.\n",
      "[I 2025-05-16 16:01:04,332] Trial 5 finished with values: [0.6664353787760429, 0.06215669972904186] and parameters: {'max_depth': 6, 'eta': 0.011257804088524606, 'subsample': 0.6283844106285953, 'colsample_bytree': 0.7971288124182103}.\n",
      "[I 2025-05-16 16:01:04,529] Trial 6 finished with values: [0.6564379214111319, 0.03261111512390854] and parameters: {'max_depth': 3, 'eta': 0.07948749858722018, 'subsample': 0.9280132623098812, 'colsample_bytree': 0.814134799588265}.\n",
      "[I 2025-05-16 16:01:04,696] Trial 7 finished with values: [0.6607251717810393, 0.031351646585697945] and parameters: {'max_depth': 3, 'eta': 0.19813618276102757, 'subsample': 0.8565100048074037, 'colsample_bytree': 0.6880533616234608}.\n",
      "[I 2025-05-16 16:01:04,881] Trial 8 finished with values: [0.6707272242696051, 0.038003704138047566] and parameters: {'max_depth': 3, 'eta': 0.1464296749842078, 'subsample': 0.7927665193130857, 'colsample_bytree': 0.9507479974841688}.\n",
      "[I 2025-05-16 16:01:05,078] Trial 9 finished with values: [0.6750037526843181, 0.06661983983921665] and parameters: {'max_depth': 4, 'eta': 0.2980020537309002, 'subsample': 0.9793330898806509, 'colsample_bytree': 0.63036205433086}.\n",
      "[I 2025-05-16 16:01:05,084] A new study created in memory with name: no-name-7a1f04fa-0bc6-47a9-891e-d160ddd14c06\n",
      "[I 2025-05-16 16:01:05,257] Trial 0 finished with values: [0.6735700741040275, 0.05826711632517575] and parameters: {'max_depth': 4, 'eta': 0.2922813381801465, 'subsample': 0.7153985460729312, 'colsample_bytree': 0.8531730219841789}.\n",
      "[I 2025-05-16 16:01:05,395] Trial 1 finished with values: [0.6728731470163862, 0.04164225972604016] and parameters: {'max_depth': 3, 'eta': 0.24005071595071087, 'subsample': 0.6212025240959177, 'colsample_bytree': 0.6566057455086933}.\n",
      "[I 2025-05-16 16:01:05,545] Trial 2 finished with values: [0.6835797851320179, 0.0637189599548149] and parameters: {'max_depth': 6, 'eta': 0.17187726442545012, 'subsample': 0.605121807391396, 'colsample_bytree': 0.784885311590643}.\n",
      "[I 2025-05-16 16:01:05,689] Trial 3 finished with values: [0.6821507016753822, 0.0478495576201719] and parameters: {'max_depth': 4, 'eta': 0.24514052312827442, 'subsample': 0.9616477510483351, 'colsample_bytree': 0.8948302844171012}.\n",
      "[I 2025-05-16 16:01:05,845] Trial 4 finished with values: [0.6678522085695993, 0.04578227358964232] and parameters: {'max_depth': 5, 'eta': 0.11588325710244383, 'subsample': 0.6570933785821326, 'colsample_bytree': 0.8750501312180202}.\n",
      "[I 2025-05-16 16:01:06,014] Trial 5 finished with values: [0.6792772176832612, 0.05809954238101311] and parameters: {'max_depth': 5, 'eta': 0.07587503049949386, 'subsample': 0.9971153649329029, 'colsample_bytree': 0.9180423905871988}.\n",
      "[I 2025-05-16 16:01:06,150] Trial 6 finished with values: [0.6792971298857652, 0.042816661644423944] and parameters: {'max_depth': 4, 'eta': 0.1679821875998006, 'subsample': 0.9665394242116775, 'colsample_bytree': 0.7956158265860256}.\n",
      "[I 2025-05-16 16:01:06,277] Trial 7 finished with values: [0.6700011947321501, 0.028183308114630167] and parameters: {'max_depth': 3, 'eta': 0.2153869578273244, 'subsample': 0.9608755691263282, 'colsample_bytree': 0.8729049926096792}.\n",
      "[I 2025-05-16 16:01:06,448] Trial 8 finished with values: [0.6785818223035048, 0.04420404980397416] and parameters: {'max_depth': 4, 'eta': 0.07852262639392227, 'subsample': 0.8070713594989762, 'colsample_bytree': 0.9575486361755747}.\n",
      "[I 2025-05-16 16:01:06,596] Trial 9 finished with values: [0.6807170230950915, 0.0670697836713105] and parameters: {'max_depth': 5, 'eta': 0.26954860082250104, 'subsample': 0.7351233709862278, 'colsample_bytree': 0.6642291858584731}.\n",
      "[I 2025-05-16 16:01:06,600] A new study created in memory with name: no-name-f7aaf2d8-04d7-4810-a1b4-cfbfdb982702\n",
      "[I 2025-05-16 16:01:06,752] Trial 0 finished with values: [0.6971353999136117, 0.06710137656383229] and parameters: {'max_depth': 5, 'eta': 0.2811310697153652, 'subsample': 0.9576169096600713, 'colsample_bytree': 0.9072358116376986}.\n",
      "[I 2025-05-16 16:01:06,895] Trial 1 finished with values: [0.7007150012406833, 0.06655820704064878] and parameters: {'max_depth': 5, 'eta': 0.23781015625339386, 'subsample': 0.7932682082824141, 'colsample_bytree': 0.9469361826848197}.\n",
      "[I 2025-05-16 16:01:07,064] Trial 2 finished with values: [0.7007119378249135, 0.07451599703745744] and parameters: {'max_depth': 7, 'eta': 0.23046011552453688, 'subsample': 0.6169105670506264, 'colsample_bytree': 0.9425468558293634}.\n",
      "[I 2025-05-16 16:01:07,214] Trial 3 finished with values: [0.6828660092576424, 0.04174808580273418] and parameters: {'max_depth': 5, 'eta': 0.18862455386788496, 'subsample': 0.6739535552828558, 'colsample_bytree': 0.7210706890060562}.\n",
      "[I 2025-05-16 16:01:07,352] Trial 4 finished with values: [0.6921420322087535, 0.06234219734361277] and parameters: {'max_depth': 6, 'eta': 0.2516527593843162, 'subsample': 0.6383126991084048, 'colsample_bytree': 0.6050692361273746}.\n",
      "[I 2025-05-16 16:01:07,520] Trial 5 finished with values: [0.6928634666225535, 0.05163679933002276] and parameters: {'max_depth': 7, 'eta': 0.12993244697345163, 'subsample': 0.915565889433965, 'colsample_bytree': 0.676756191996035}.\n",
      "[I 2025-05-16 16:01:07,670] Trial 6 finished with values: [0.6878578452546158, 0.06194725883185071] and parameters: {'max_depth': 6, 'eta': 0.1970755879094234, 'subsample': 0.6346635224820317, 'colsample_bytree': 0.7976618174647879}.\n",
      "[I 2025-05-16 16:01:07,817] Trial 7 finished with values: [0.6985721419096721, 0.09431714274150836] and parameters: {'max_depth': 5, 'eta': 0.2734480744066527, 'subsample': 0.9967176670085093, 'colsample_bytree': 0.9027957440883049}.\n",
      "[I 2025-05-16 16:01:07,984] Trial 8 finished with values: [0.6985767370333269, 0.06820131264662734] and parameters: {'max_depth': 7, 'eta': 0.1552985553019684, 'subsample': 0.7074032076646587, 'colsample_bytree': 0.9610367479784109}.\n",
      "[I 2025-05-16 16:01:08,130] Trial 9 finished with values: [0.6664461007312373, 0.03211315966430353] and parameters: {'max_depth': 3, 'eta': 0.06802971000611995, 'subsample': 0.83125059379801, 'colsample_bytree': 0.7098964823572682}.\n",
      "[I 2025-05-16 16:01:08,134] A new study created in memory with name: no-name-46af4b91-52a2-4ca1-8a49-e01bc8e63f73\n",
      "[I 2025-05-16 16:01:08,329] Trial 0 finished with values: [0.6942910183713044, 0.08070399305723613] and parameters: {'max_depth': 6, 'eta': 0.09431079495486797, 'subsample': 0.9621226458708451, 'colsample_bytree': 0.7575109432668723}.\n",
      "[I 2025-05-16 16:01:08,513] Trial 1 finished with values: [0.6942971452028441, 0.06289803525734865] and parameters: {'max_depth': 6, 'eta': 0.1655858190187815, 'subsample': 0.7455576300315938, 'colsample_bytree': 0.7210000992305653}.\n",
      "[I 2025-05-16 16:01:08,647] Trial 2 finished with values: [0.7007119378249135, 0.0645507768814975] and parameters: {'max_depth': 5, 'eta': 0.21276937638690993, 'subsample': 0.817021284595334, 'colsample_bytree': 0.8966801575392012}.\n",
      "[I 2025-05-16 16:01:08,806] Trial 3 finished with values: [0.6964384728259704, 0.07652095058346103] and parameters: {'max_depth': 7, 'eta': 0.17877850253289912, 'subsample': 0.748461234540694, 'colsample_bytree': 0.6959087921511973}.\n",
      "[I 2025-05-16 16:01:09,058] Trial 4 finished with values: [0.6707149706065256, 0.06917201949620559] and parameters: {'max_depth': 7, 'eta': 0.029575460864608792, 'subsample': 0.6333378705323215, 'colsample_bytree': 0.8007191332602714}.\n",
      "[I 2025-05-16 16:01:09,221] Trial 5 finished with values: [0.6749991575606633, 0.043863519910561664] and parameters: {'max_depth': 5, 'eta': 0.06315427318646293, 'subsample': 0.8366944175035589, 'colsample_bytree': 0.9644349489149922}.\n",
      "[I 2025-05-16 16:01:09,388] Trial 6 finished with values: [0.6750037526843181, 0.05075515985894515] and parameters: {'max_depth': 5, 'eta': 0.08353009698047631, 'subsample': 0.9006626203720209, 'colsample_bytree': 0.655485826528459}.\n",
      "[I 2025-05-16 16:01:09,526] Trial 7 finished with values: [0.6742915085178275, 0.045777135363745884] and parameters: {'max_depth': 4, 'eta': 0.12522330115952862, 'subsample': 0.6814855385032296, 'colsample_bytree': 0.630687388451719}.\n",
      "[I 2025-05-16 16:01:09,652] Trial 8 finished with values: [0.6592960883244036, 0.02049518880316391] and parameters: {'max_depth': 3, 'eta': 0.09493908214476927, 'subsample': 0.727883124193045, 'colsample_bytree': 0.707631033103522}.\n",
      "[I 2025-05-16 16:01:09,799] Trial 9 finished with values: [0.676432836140954, 0.04893276233214367] and parameters: {'max_depth': 3, 'eta': 0.20745915630350198, 'subsample': 0.8758561858757856, 'colsample_bytree': 0.7411268911294295}.\n",
      "[I 2025-05-16 16:01:09,803] A new study created in memory with name: no-name-53f27264-ac92-4e1e-b9a4-1b4c53310168\n",
      "[I 2025-05-16 16:01:10,010] Trial 0 finished with values: [0.6714364050203256, 0.04502338543876943] and parameters: {'max_depth': 4, 'eta': 0.020145506767290506, 'subsample': 0.8451626168561003, 'colsample_bytree': 0.9302544501600765}.\n",
      "[I 2025-05-16 16:01:10,175] Trial 1 finished with values: [0.6907098853363477, 0.08503867432071936] and parameters: {'max_depth': 6, 'eta': 0.26883866359851943, 'subsample': 0.6475788967323123, 'colsample_bytree': 0.855776622060433}.\n",
      "[I 2025-05-16 16:01:10,328] Trial 2 finished with values: [0.6607205766573845, 0.022363950823326623] and parameters: {'max_depth': 3, 'eta': 0.16949672661598425, 'subsample': 0.7597469328596321, 'colsample_bytree': 0.6460995512023268}.\n",
      "[I 2025-05-16 16:01:10,532] Trial 3 finished with values: [0.7007134695327984, 0.0529368121851398] and parameters: {'max_depth': 6, 'eta': 0.20543731839742735, 'subsample': 0.9944407720536577, 'colsample_bytree': 0.8799126029494413}.\n",
      "[I 2025-05-16 16:01:10,743] Trial 4 finished with values: [0.691426724626493, 0.04997969492167672] and parameters: {'max_depth': 5, 'eta': 0.19401682472978346, 'subsample': 0.8639360443173847, 'colsample_bytree': 0.9473928832933816}.\n",
      "[I 2025-05-16 16:01:10,973] Trial 5 finished with values: [0.7107201171450189, 0.10370272711190776] and parameters: {'max_depth': 7, 'eta': 0.27174368564883056, 'subsample': 0.9082112291811401, 'colsample_bytree': 0.8581416968989917}.\n",
      "[I 2025-05-16 16:01:11,170] Trial 6 finished with values: [0.7035746998618398, 0.07572704638623225] and parameters: {'max_depth': 6, 'eta': 0.2563276256268154, 'subsample': 0.8775826632076247, 'colsample_bytree': 0.7130600142952653}.\n",
      "[I 2025-05-16 16:01:11,420] Trial 7 finished with values: [0.6692904822735445, 0.04352746806050356] and parameters: {'max_depth': 5, 'eta': 0.05387954058022054, 'subsample': 0.633812675549733, 'colsample_bytree': 0.8414331969430147}.\n",
      "[I 2025-05-16 16:01:11,623] Trial 8 finished with values: [0.6971384633293815, 0.07577072886912091] and parameters: {'max_depth': 5, 'eta': 0.2811016250093517, 'subsample': 0.9209300387962901, 'colsample_bytree': 0.84828227886031}.\n",
      "[I 2025-05-16 16:01:11,881] Trial 9 finished with values: [0.6892915238349064, 0.07748234734249593] and parameters: {'max_depth': 4, 'eta': 0.26592271585974003, 'subsample': 0.697137261098778, 'colsample_bytree': 0.8122637982836508}.\n",
      "[I 2025-05-16 16:01:11,886] A new study created in memory with name: no-name-8a48c010-9043-4e07-9f04-343c57bb03d8\n",
      "[I 2025-05-16 16:01:12,070] Trial 0 finished with values: [0.6628695628199356, 0.02240953520032755] and parameters: {'max_depth': 3, 'eta': 0.10383631248497306, 'subsample': 0.6144163682354269, 'colsample_bytree': 0.7763083375706633}.\n",
      "[I 2025-05-16 16:01:12,316] Trial 1 finished with values: [0.6714302781887861, 0.06165932037407449] and parameters: {'max_depth': 5, 'eta': 0.051618932298003434, 'subsample': 0.7789750529034706, 'colsample_bytree': 0.8342331723870056}.\n",
      "[I 2025-05-16 16:01:12,519] Trial 2 finished with values: [0.6849966149255744, 0.06298350201092245] and parameters: {'max_depth': 6, 'eta': 0.12478126282506516, 'subsample': 0.9081926983826433, 'colsample_bytree': 0.7298028022064708}.\n",
      "[I 2025-05-16 16:01:12,729] Trial 3 finished with values: [0.6849996783413442, 0.05736691818917303] and parameters: {'max_depth': 6, 'eta': 0.0891160454703433, 'subsample': 0.6866365184839276, 'colsample_bytree': 0.9453472970445495}.\n",
      "[I 2025-05-16 16:01:12,914] Trial 4 finished with values: [0.6721517126025862, 0.03857550252922634] and parameters: {'max_depth': 3, 'eta': 0.1632121570627004, 'subsample': 0.7544907150733647, 'colsample_bytree': 0.8389315215023943}.\n",
      "[I 2025-05-16 16:01:13,139] Trial 5 finished with values: [0.7035746998618398, 0.07741380142502259] and parameters: {'max_depth': 6, 'eta': 0.23879242889820418, 'subsample': 0.7434882036581875, 'colsample_bytree': 0.6945366868270756}.\n",
      "[I 2025-05-16 16:01:13,329] Trial 6 finished with values: [0.6864333569216349, 0.06355428769363096] and parameters: {'max_depth': 5, 'eta': 0.16245302960261787, 'subsample': 0.8846085001711252, 'colsample_bytree': 0.9276843743390859}.\n",
      "[I 2025-05-16 16:01:13,582] Trial 7 finished with values: [0.6757190602665784, 0.03837552674088029] and parameters: {'max_depth': 5, 'eta': 0.058235147862100226, 'subsample': 0.7177946278880472, 'colsample_bytree': 0.9678281140748415}.\n",
      "[I 2025-05-16 16:01:13,756] Trial 8 finished with values: [0.6721517126025862, 0.022989324522270205] and parameters: {'max_depth': 3, 'eta': 0.12409582283169251, 'subsample': 0.6665491204728037, 'colsample_bytree': 0.8293120049067425}.\n",
      "[I 2025-05-16 16:01:13,890] Trial 9 finished with values: [0.6892915238349064, 0.05078098636274762] and parameters: {'max_depth': 5, 'eta': 0.22388685237320644, 'subsample': 0.7113150311755119, 'colsample_bytree': 0.9016555877844112}.\n",
      "[I 2025-05-16 16:01:13,894] A new study created in memory with name: no-name-2f3f5760-86bb-469e-8012-edc49acab4ed\n",
      "[I 2025-05-16 16:01:14,063] Trial 0 finished with values: [0.6614466061948394, 0.026851353053127497] and parameters: {'max_depth': 3, 'eta': 0.032519422909634034, 'subsample': 0.8056245755131499, 'colsample_bytree': 0.9442635117401731}.\n",
      "[I 2025-05-16 16:01:14,363] Trial 1 finished with values: [0.6721486491868163, 0.0788415452899779] and parameters: {'max_depth': 6, 'eta': 0.015595729213669664, 'subsample': 0.65347705433482, 'colsample_bytree': 0.831513552129838}.\n",
      "[I 2025-05-16 16:01:14,493] Trial 2 finished with values: [0.6685858966464787, 0.03979340614701107] and parameters: {'max_depth': 3, 'eta': 0.29799465792048374, 'subsample': 0.9454257998505632, 'colsample_bytree': 0.9370567569394098}.\n",
      "[I 2025-05-16 16:01:14,671] Trial 3 finished with values: [0.6892976506664462, 0.07400489590499769] and parameters: {'max_depth': 7, 'eta': 0.10313363797177606, 'subsample': 0.8577305055191153, 'colsample_bytree': 0.6047401998706293}.\n",
      "[I 2025-05-16 16:01:14,902] Trial 4 finished with values: [0.6821353845965329, 0.07179964201093547] and parameters: {'max_depth': 7, 'eta': 0.0318595519817856, 'subsample': 0.8679542821850281, 'colsample_bytree': 0.9347066333943355}.\n",
      "[I 2025-05-16 16:01:15,056] Trial 5 finished with values: [0.7085634724430435, 0.07127605854552871] and parameters: {'max_depth': 6, 'eta': 0.27677798528400094, 'subsample': 0.9610980079214257, 'colsample_bytree': 0.7035217174641799}.\n",
      "[I 2025-05-16 16:01:15,215] Trial 6 finished with values: [0.6864425471689444, 0.04206643045516265] and parameters: {'max_depth': 5, 'eta': 0.16997314363895255, 'subsample': 0.6213011396178453, 'colsample_bytree': 0.6364289987769661}.\n",
      "[I 2025-05-16 16:01:15,461] Trial 7 finished with values: [0.6907114170442327, 0.07681349229490571] and parameters: {'max_depth': 7, 'eta': 0.1358392616613906, 'subsample': 0.7475288315087635, 'colsample_bytree': 0.7604303217171913}.\n",
      "[I 2025-05-16 16:01:15,606] Trial 8 finished with values: [0.6664399738996977, 0.030552863362942828] and parameters: {'max_depth': 3, 'eta': 0.28022679452242993, 'subsample': 0.6936104295294845, 'colsample_bytree': 0.8284304249318547}.\n",
      "[I 2025-05-16 16:01:15,762] Trial 9 finished with values: [0.6700073215636899, 0.056744303460338645] and parameters: {'max_depth': 3, 'eta': 0.2964935160774967, 'subsample': 0.8566267787356728, 'colsample_bytree': 0.9441219546839178}.\n",
      "[I 2025-05-16 16:01:15,765] A new study created in memory with name: no-name-694497cf-d023-4989-908b-16696575ec25\n",
      "[I 2025-05-16 16:01:15,979] Trial 0 finished with values: [0.6742930402257125, 0.0581705838051427] and parameters: {'max_depth': 7, 'eta': 0.06262983159095753, 'subsample': 0.6742041789032199, 'colsample_bytree': 0.675233810912553}.\n",
      "[I 2025-05-16 16:01:16,143] Trial 1 finished with values: [0.6957170384121704, 0.07248448276397738] and parameters: {'max_depth': 7, 'eta': 0.20376397237456578, 'subsample': 0.7103242018386527, 'colsample_bytree': 0.9367870928297977}.\n",
      "[I 2025-05-16 16:01:16,342] Trial 2 finished with values: [0.676429772725184, 0.06581073909394368] and parameters: {'max_depth': 6, 'eta': 0.047976100705918796, 'subsample': 0.6242414750437114, 'colsample_bytree': 0.9694398237721984}.\n",
      "[I 2025-05-16 16:01:16,522] Trial 3 finished with values: [0.7128537862287208, 0.090563018164685] and parameters: {'max_depth': 7, 'eta': 0.24740588491771606, 'subsample': 0.993881446276127, 'colsample_bytree': 0.6642528342640607}.\n",
      "[I 2025-05-16 16:01:16,872] Trial 4 finished with values: [0.676431304433069, 0.05457407509989043] and parameters: {'max_depth': 7, 'eta': 0.017029720379374724, 'subsample': 0.6497085565324568, 'colsample_bytree': 0.8903932694332404}.\n",
      "[I 2025-05-16 16:01:17,028] Trial 5 finished with values: [0.6592884297849789, 0.017285740184550452] and parameters: {'max_depth': 3, 'eta': 0.1777339745165458, 'subsample': 0.9896022535301415, 'colsample_bytree': 0.9471368899829093}.\n",
      "[I 2025-05-16 16:01:17,265] Trial 6 finished with values: [0.6750022209764331, 0.05784963898314604] and parameters: {'max_depth': 6, 'eta': 0.052019537136141575, 'subsample': 0.761602296727853, 'colsample_bytree': 0.8998893914436774}.\n",
      "[I 2025-05-16 16:01:17,439] Trial 7 finished with values: [0.6942741695845701, 0.06255227905895257] and parameters: {'max_depth': 7, 'eta': 0.12449653821890676, 'subsample': 0.8354079082647089, 'colsample_bytree': 0.7221657462062983}.\n",
      "[I 2025-05-16 16:01:17,620] Trial 8 finished with values: [0.6835705948847085, 0.06725231052597838] and parameters: {'max_depth': 6, 'eta': 0.17993517698276565, 'subsample': 0.6879790335297171, 'colsample_bytree': 0.634757988237978}.\n",
      "[I 2025-05-16 16:01:17,843] Trial 9 finished with values: [0.6835675314689386, 0.06175157787210162] and parameters: {'max_depth': 7, 'eta': 0.05617379080501714, 'subsample': 0.8639948952095695, 'colsample_bytree': 0.8148583742588638}.\n",
      "[I 2025-05-16 16:01:17,846] A new study created in memory with name: no-name-67300e57-70a3-4c9e-bf10-bf7d2f2f21db\n",
      "[I 2025-05-16 16:01:18,010] Trial 0 finished with values: [0.6900052997092819, 0.07883709845255028] and parameters: {'max_depth': 5, 'eta': 0.21958763690407562, 'subsample': 0.7581665465199897, 'colsample_bytree': 0.8700548427744985}.\n",
      "[I 2025-05-16 16:01:18,329] Trial 1 finished with values: [0.6785802905956199, 0.06493586838139982] and parameters: {'max_depth': 7, 'eta': 0.024047651523322666, 'subsample': 0.7316044247872588, 'colsample_bytree': 0.6474633835841256}.\n",
      "[I 2025-05-16 16:01:18,503] Trial 2 finished with values: [0.6771420168916746, 0.07457301636067896] and parameters: {'max_depth': 5, 'eta': 0.10805717374801288, 'subsample': 0.8569756722213155, 'colsample_bytree': 0.7936754792281346}.\n",
      "[I 2025-05-16 16:01:18,650] Trial 3 finished with values: [0.6778680464291295, 0.0594543295495748] and parameters: {'max_depth': 4, 'eta': 0.16507217899382767, 'subsample': 0.8117129708839992, 'colsample_bytree': 0.6131206853419867}.\n",
      "[I 2025-05-16 16:01:18,834] Trial 4 finished with values: [0.6635726167391165, 0.03569629347926534] and parameters: {'max_depth': 3, 'eta': 0.22247859676836348, 'subsample': 0.8615602171798056, 'colsample_bytree': 0.7097643849193773}.\n",
      "[I 2025-05-16 16:01:19,042] Trial 5 finished with values: [0.7121369469385755, 0.12181857537201934] and parameters: {'max_depth': 7, 'eta': 0.25835703545485933, 'subsample': 0.8026866453243352, 'colsample_bytree': 0.8341426503668435}.\n",
      "[I 2025-05-16 16:01:19,222] Trial 6 finished with values: [0.6764435580961483, 0.049830764501138325] and parameters: {'max_depth': 3, 'eta': 0.16949922760644007, 'subsample': 0.7608115935720208, 'colsample_bytree': 0.7355331268830378}.\n",
      "[I 2025-05-16 16:01:19,430] Trial 7 finished with values: [0.6735746692276822, 0.07989222300913686] and parameters: {'max_depth': 5, 'eta': 0.13000384940119467, 'subsample': 0.7369755645492495, 'colsample_bytree': 0.7905418348715787}.\n",
      "[I 2025-05-16 16:01:19,600] Trial 8 finished with values: [0.6707318193932599, 0.051861876594127894] and parameters: {'max_depth': 3, 'eta': 0.1926821858230114, 'subsample': 0.6299640612236626, 'colsample_bytree': 0.9540228248846713}.\n",
      "[I 2025-05-16 16:01:19,820] Trial 9 finished with values: [0.7192777690980997, 0.10468037929036705] and parameters: {'max_depth': 7, 'eta': 0.27131084672037087, 'subsample': 0.8883749722242102, 'colsample_bytree': 0.7743620677380656}.\n",
      "[I 2025-05-16 16:01:19,826] A new study created in memory with name: no-name-aa291b2f-5c6f-451d-9a3d-e1eb298bc140\n",
      "[I 2025-05-16 16:01:20,062] Trial 0 finished with values: [0.7014272454071739, 0.08188644272722372] and parameters: {'max_depth': 6, 'eta': 0.2481584547667292, 'subsample': 0.8559060463905221, 'colsample_bytree': 0.9286419175147128}.\n",
      "[I 2025-05-16 16:01:20,273] Trial 1 finished with values: [0.7000027570741928, 0.04415743390065102] and parameters: {'max_depth': 6, 'eta': 0.24759935373086697, 'subsample': 0.9224891709970515, 'colsample_bytree': 0.6724613879215243}.\n",
      "[I 2025-05-16 16:01:20,450] Trial 2 finished with values: [0.6757098700192689, 0.06511768885895591] and parameters: {'max_depth': 4, 'eta': 0.18636782025859946, 'subsample': 0.9705230176066996, 'colsample_bytree': 0.6306577910396867}.\n",
      "[I 2025-05-16 16:01:20,632] Trial 3 finished with values: [0.6693012042287392, 0.03889470773696705] and parameters: {'max_depth': 3, 'eta': 0.15261268298016198, 'subsample': 0.8324988252226486, 'colsample_bytree': 0.6437208918594688}.\n",
      "[I 2025-05-16 16:01:20,869] Trial 4 finished with values: [0.7207053208468506, 0.08454092769078496] and parameters: {'max_depth': 7, 'eta': 0.2648868642298249, 'subsample': 0.8496988034063736, 'colsample_bytree': 0.8826828418773263}.\n",
      "[I 2025-05-16 16:01:21,062] Trial 5 finished with values: [0.6721486491868163, 0.05136965158736104] and parameters: {'max_depth': 3, 'eta': 0.17235529261942958, 'subsample': 0.7079750666379081, 'colsample_bytree': 0.832844686565229}.\n",
      "[I 2025-05-16 16:01:21,458] Trial 6 finished with values: [0.6621619137770998, 0.021174143109852873] and parameters: {'max_depth': 3, 'eta': 0.011576501750547497, 'subsample': 0.6664261344230209, 'colsample_bytree': 0.8909026586164518}.\n",
      "[I 2025-05-16 16:01:21,665] Trial 7 finished with values: [0.6871394742565856, 0.03865497919571794] and parameters: {'max_depth': 5, 'eta': 0.14973492027184995, 'subsample': 0.6908264862729029, 'colsample_bytree': 0.7210804767060546}.\n",
      "[I 2025-05-16 16:01:21,892] Trial 8 finished with values: [0.7199838864330506, 0.09459304355250314] and parameters: {'max_depth': 7, 'eta': 0.2843150074199242, 'subsample': 0.9261146061994325, 'colsample_bytree': 0.9516858317669051}.\n",
      "[I 2025-05-16 16:01:22,114] Trial 9 finished with values: [0.7057053055297718, 0.09078529492940801] and parameters: {'max_depth': 7, 'eta': 0.20372767386852222, 'subsample': 0.8959635067330343, 'colsample_bytree': 0.8509790809978068}.\n",
      "[I 2025-05-16 16:01:22,119] A new study created in memory with name: no-name-d6ee08d8-6606-4162-bb1d-74cedc9ee3a0\n",
      "[I 2025-05-16 16:01:22,378] Trial 0 finished with values: [0.6928573397910137, 0.06279444326525055] and parameters: {'max_depth': 6, 'eta': 0.09169022083719598, 'subsample': 0.8489599595394822, 'colsample_bytree': 0.8161159756713997}.\n",
      "[I 2025-05-16 16:01:22,542] Trial 1 finished with values: [0.6828537555945631, 0.045118619219785605] and parameters: {'max_depth': 4, 'eta': 0.22530334875670974, 'subsample': 0.9714553080357249, 'colsample_bytree': 0.9538640334198427}.\n",
      "[I 2025-05-16 16:01:22,796] Trial 2 finished with values: [0.6764175190621047, 0.04469624716677222] and parameters: {'max_depth': 5, 'eta': 0.019018477732057604, 'subsample': 0.9401000185405671, 'colsample_bytree': 0.9215943394817011}.\n",
      "[I 2025-05-16 16:01:22,939] Trial 3 finished with values: [0.6749991575606633, 0.05062363986759267] and parameters: {'max_depth': 5, 'eta': 0.07814517712166105, 'subsample': 0.8910915367234444, 'colsample_bytree': 0.6170570962461153}.\n",
      "[I 2025-05-16 16:01:23,071] Trial 4 finished with values: [0.6785649735167706, 0.06714581480415809] and parameters: {'max_depth': 5, 'eta': 0.14776124948709832, 'subsample': 0.9442069545359438, 'colsample_bytree': 0.924745769050719}.\n",
      "[I 2025-05-16 16:01:23,196] Trial 5 finished with values: [0.6657292614410921, 0.03669087233380716] and parameters: {'max_depth': 3, 'eta': 0.11919109326834672, 'subsample': 0.695314459893771, 'colsample_bytree': 0.7675197825414258}.\n",
      "[I 2025-05-16 16:01:23,432] Trial 6 finished with values: [0.6871440693802405, 0.044567120709360954] and parameters: {'max_depth': 7, 'eta': 0.025338504601434324, 'subsample': 0.6341186889817269, 'colsample_bytree': 0.9239271286607224}.\n",
      "[I 2025-05-16 16:01:23,613] Trial 7 finished with values: [0.6800078423443708, 0.04313330215992975] and parameters: {'max_depth': 7, 'eta': 0.10225354950556123, 'subsample': 0.7563930166868365, 'colsample_bytree': 0.653152924952406}.\n",
      "[I 2025-05-16 16:01:23,748] Trial 8 finished with values: [0.69572316524371, 0.07279592119147354] and parameters: {'max_depth': 5, 'eta': 0.1773782118151555, 'subsample': 0.7638461428913246, 'colsample_bytree': 0.7983228297344277}.\n",
      "[I 2025-05-16 16:01:23,872] Trial 9 finished with values: [0.6821522333832669, 0.06280012111336207] and parameters: {'max_depth': 4, 'eta': 0.2650652750943231, 'subsample': 0.9318579846123678, 'colsample_bytree': 0.8382674886821124}.\n",
      "[I 2025-05-16 16:01:23,876] A new study created in memory with name: no-name-c97e3af0-e363-4011-b599-6a28994468d4\n",
      "[I 2025-05-16 16:01:24,037] Trial 0 finished with values: [0.6892746750481722, 0.06939057951905539] and parameters: {'max_depth': 7, 'eta': 0.1544100175551502, 'subsample': 0.686007963805757, 'colsample_bytree': 0.7968028303775535}.\n",
      "[I 2025-05-16 16:01:24,184] Trial 1 finished with values: [0.6742792548547482, 0.0564449502721329] and parameters: {'max_depth': 5, 'eta': 0.06390690162088969, 'subsample': 0.9622075436620936, 'colsample_bytree': 0.9090618340944723}.\n",
      "[I 2025-05-16 16:01:24,332] Trial 2 finished with values: [0.6899961094619723, 0.0698395969516377] and parameters: {'max_depth': 6, 'eta': 0.1508914938734431, 'subsample': 0.9874506644222161, 'colsample_bytree': 0.689413029595137}.\n",
      "[I 2025-05-16 16:01:24,451] Trial 3 finished with values: [0.6700134483952297, 0.03948473681334958] and parameters: {'max_depth': 3, 'eta': 0.16340939336814864, 'subsample': 0.6058705130489038, 'colsample_bytree': 0.9087453373836288}.\n",
      "[I 2025-05-16 16:01:24,598] Trial 4 finished with values: [0.6757129334350388, 0.060059724110604916] and parameters: {'max_depth': 5, 'eta': 0.11272350053285343, 'subsample': 0.7318784452720375, 'colsample_bytree': 0.9322993275087141}.\n",
      "[I 2025-05-16 16:01:24,768] Trial 5 finished with values: [0.6771496754310992, 0.06764141280066621] and parameters: {'max_depth': 5, 'eta': 0.06660575870196689, 'subsample': 0.9109496298379532, 'colsample_bytree': 0.680574005218896}.\n",
      "[I 2025-05-16 16:01:24,899] Trial 6 finished with values: [0.6707241608538351, 0.06471023296677429] and parameters: {'max_depth': 3, 'eta': 0.21792063058424302, 'subsample': 0.6076795561058093, 'colsample_bytree': 0.7557979209807276}.\n",
      "[I 2025-05-16 16:01:25,082] Trial 7 finished with values: [0.6807154913872067, 0.06572008072597928] and parameters: {'max_depth': 6, 'eta': 0.13829198501270992, 'subsample': 0.6546426555810897, 'colsample_bytree': 0.7697414817451038}.\n",
      "[I 2025-05-16 16:01:25,202] Trial 8 finished with values: [0.6685782381070541, 0.06399403172068592] and parameters: {'max_depth': 3, 'eta': 0.2822296316575754, 'subsample': 0.6629697464034867, 'colsample_bytree': 0.8115130188405144}.\n",
      "[I 2025-05-16 16:01:25,342] Trial 9 finished with values: [0.687854781838846, 0.06722026813172126] and parameters: {'max_depth': 6, 'eta': 0.1550923195027385, 'subsample': 0.6856054882355815, 'colsample_bytree': 0.7292709777683124}.\n",
      "[I 2025-05-16 16:01:25,346] A new study created in memory with name: no-name-e83e57af-b02a-409e-98d6-ce907f7f71d8\n",
      "[I 2025-05-16 16:01:25,486] Trial 0 finished with values: [0.6792894713463405, 0.06355467452324788] and parameters: {'max_depth': 4, 'eta': 0.14838290800001225, 'subsample': 0.6917125570809891, 'colsample_bytree': 0.8683799145319282}.\n",
      "[I 2025-05-16 16:01:25,631] Trial 1 finished with values: [0.6957001896254361, 0.09592924368072402] and parameters: {'max_depth': 6, 'eta': 0.260839600444802, 'subsample': 0.6916194336107612, 'colsample_bytree': 0.8175682393772459}.\n",
      "[I 2025-05-16 16:01:25,762] Trial 2 finished with values: [0.6657246663174373, 0.04444615935880195] and parameters: {'max_depth': 3, 'eta': 0.08869340475161333, 'subsample': 0.7047098381737957, 'colsample_bytree': 0.6798460985337571}.\n",
      "[I 2025-05-16 16:01:25,915] Trial 3 finished with values: [0.6821445748438424, 0.08028735284266315] and parameters: {'max_depth': 6, 'eta': 0.1406284524276706, 'subsample': 0.8832555947983749, 'colsample_bytree': 0.720024667326574}.\n",
      "[I 2025-05-16 16:01:26,055] Trial 4 finished with values: [0.6857180493393744, 0.07406237500796617] and parameters: {'max_depth': 5, 'eta': 0.09900344773800386, 'subsample': 0.9845423320268535, 'colsample_bytree': 0.6765674842766659}.\n",
      "[I 2025-05-16 16:01:26,221] Trial 5 finished with values: [0.6835736583004782, 0.05495736970614903] and parameters: {'max_depth': 5, 'eta': 0.08412604222714308, 'subsample': 0.9651219327736298, 'colsample_bytree': 0.7122984900212572}.\n",
      "[I 2025-05-16 16:01:26,385] Trial 6 finished with values: [0.6885854064999556, 0.05176603927943557] and parameters: {'max_depth': 7, 'eta': 0.171163290445853, 'subsample': 0.6662465069508368, 'colsample_bytree': 0.6155888666769364}.\n",
      "[I 2025-05-16 16:01:26,520] Trial 7 finished with values: [0.6742915085178275, 0.05414668477545958] and parameters: {'max_depth': 4, 'eta': 0.148266023140353, 'subsample': 0.9193329892510673, 'colsample_bytree': 0.937904121740142}.\n",
      "[I 2025-05-16 16:01:26,682] Trial 8 finished with values: [0.6864348886295196, 0.10972279921251867] and parameters: {'max_depth': 6, 'eta': 0.2111616467092401, 'subsample': 0.6601001293321019, 'colsample_bytree': 0.8270940868924201}.\n",
      "[I 2025-05-16 16:01:26,840] Trial 9 finished with values: [0.7014379673623684, 0.0719416416020687] and parameters: {'max_depth': 6, 'eta': 0.26470999473506873, 'subsample': 0.7759201308146135, 'colsample_bytree': 0.7998510913954566}.\n",
      "[I 2025-05-16 16:01:26,845] A new study created in memory with name: no-name-078e46f0-3a3d-4fca-8751-632cb689dc2b\n",
      "[I 2025-05-16 16:01:27,011] Trial 0 finished with values: [0.7100048095627587, 0.10505834540934755] and parameters: {'max_depth': 7, 'eta': 0.24261662223534342, 'subsample': 0.7145857453552034, 'colsample_bytree': 0.7793704695330818}.\n",
      "[I 2025-05-16 16:01:27,190] Trial 1 finished with values: [0.682855287302448, 0.06686256361626997] and parameters: {'max_depth': 6, 'eta': 0.04375008382275333, 'subsample': 0.8582597478305406, 'colsample_bytree': 0.9234936793834614}.\n",
      "[I 2025-05-16 16:01:27,352] Trial 2 finished with values: [0.6878731623334651, 0.061815402421564386] and parameters: {'max_depth': 7, 'eta': 0.10853731264332785, 'subsample': 0.6233338461805731, 'colsample_bytree': 0.780431983254303}.\n",
      "[I 2025-05-16 16:01:27,503] Trial 3 finished with values: [0.6814231404300424, 0.04883332081822959] and parameters: {'max_depth': 5, 'eta': 0.1146123891969877, 'subsample': 0.6652811934093746, 'colsample_bytree': 0.9972151427775064}.\n",
      "[I 2025-05-16 16:01:27,673] Trial 4 finished with values: [0.6878655037940405, 0.06284676276121061] and parameters: {'max_depth': 6, 'eta': 0.15528475926007185, 'subsample': 0.9221493478835513, 'colsample_bytree': 0.602624747913359}.\n",
      "[I 2025-05-16 16:01:27,847] Trial 5 finished with values: [0.6814246721379273, 0.04328846136986606] and parameters: {'max_depth': 4, 'eta': 0.21157188507511018, 'subsample': 0.8565269080589781, 'colsample_bytree': 0.968157596871297}.\n",
      "[I 2025-05-16 16:01:28,074] Trial 6 finished with values: [0.6949925405826004, 0.04331055913062484] and parameters: {'max_depth': 6, 'eta': 0.15812641224561225, 'subsample': 0.953410959271797, 'colsample_bytree': 0.9214517694613299}.\n",
      "[I 2025-05-16 16:01:28,312] Trial 7 finished with values: [0.7085650041509285, 0.059383632958917666] and parameters: {'max_depth': 7, 'eta': 0.2465562085558069, 'subsample': 0.8997542608767599, 'colsample_bytree': 0.6199814073606634}.\n",
      "[I 2025-05-16 16:01:28,520] Trial 8 finished with values: [0.6557363991998358, 0.04625558178451736] and parameters: {'max_depth': 3, 'eta': 0.06498060308966135, 'subsample': 0.9927326126379941, 'colsample_bytree': 0.8061572667585247}.\n",
      "[I 2025-05-16 16:01:28,715] Trial 9 finished with values: [0.6899945777540873, 0.08980677475512183] and parameters: {'max_depth': 5, 'eta': 0.21485303989370083, 'subsample': 0.9039570734917944, 'colsample_bytree': 0.7753199448327383}.\n",
      "[I 2025-05-16 16:01:28,720] A new study created in memory with name: no-name-5cc240e0-7f45-47cc-a60f-c8cbc1a6556b\n",
      "[I 2025-05-16 16:01:28,896] Trial 0 finished with values: [0.6714394684360956, 0.03886507216844426] and parameters: {'max_depth': 3, 'eta': 0.23565727260873226, 'subsample': 0.6962588939259455, 'colsample_bytree': 0.9456318428601235}.\n",
      "[I 2025-05-16 16:01:29,110] Trial 1 finished with values: [0.6835675314689386, 0.04446157843453716] and parameters: {'max_depth': 5, 'eta': 0.08336977543181938, 'subsample': 0.7957422059134531, 'colsample_bytree': 0.9440195284722769}.\n",
      "[I 2025-05-16 16:01:29,282] Trial 2 finished with values: [0.6835751900083631, 0.06545108007965346] and parameters: {'max_depth': 4, 'eta': 0.1868088572585423, 'subsample': 0.6740769960805296, 'colsample_bytree': 0.9699090500530864}.\n",
      "[I 2025-05-16 16:01:29,474] Trial 3 finished with values: [0.6785726320561953, 0.03343120303147468] and parameters: {'max_depth': 3, 'eta': 0.2401974942744472, 'subsample': 0.8979467132051233, 'colsample_bytree': 0.8235570531094586}.\n",
      "[I 2025-05-16 16:01:29,684] Trial 4 finished with values: [0.6678644622326786, 0.036541462529524164] and parameters: {'max_depth': 4, 'eta': 0.045866885284217805, 'subsample': 0.906489976576737, 'colsample_bytree': 0.6253207380242959}.\n",
      "[I 2025-05-16 16:01:29,880] Trial 5 finished with values: [0.7049945930711662, 0.08846911803074775] and parameters: {'max_depth': 7, 'eta': 0.22770626407827807, 'subsample': 0.6633230789465284, 'colsample_bytree': 0.8946978901206291}.\n",
      "[I 2025-05-16 16:01:30,054] Trial 6 finished with values: [0.6828614141339878, 0.04693205702092595] and parameters: {'max_depth': 4, 'eta': 0.19188286053007877, 'subsample': 0.7722154544354265, 'colsample_bytree': 0.94260989569632}.\n",
      "[I 2025-05-16 16:01:30,234] Trial 7 finished with values: [0.6685828332307088, 0.04928749720901605] and parameters: {'max_depth': 4, 'eta': 0.15836652359821257, 'subsample': 0.8522535630167669, 'colsample_bytree': 0.6758415393858903}.\n",
      "[I 2025-05-16 16:01:30,441] Trial 8 finished with values: [0.6614282257002203, 0.048169073222733255] and parameters: {'max_depth': 4, 'eta': 0.044706738912740435, 'subsample': 0.9742502574264734, 'colsample_bytree': 0.9715870787165745}.\n",
      "[I 2025-05-16 16:01:30,598] Trial 9 finished with values: [0.6792879396384558, 0.05901507616365098] and parameters: {'max_depth': 4, 'eta': 0.2151536772507847, 'subsample': 0.7783775906136845, 'colsample_bytree': 0.7470453000258456}.\n",
      "[I 2025-05-16 16:01:30,602] A new study created in memory with name: no-name-5bba5884-7007-475f-82c8-ec7a9a3318fc\n",
      "[I 2025-05-16 16:01:30,807] Trial 0 finished with values: [0.6707195657301804, 0.03595775368396407] and parameters: {'max_depth': 4, 'eta': 0.021319966358816077, 'subsample': 0.9635020319804177, 'colsample_bytree': 0.6179976674939549}.\n",
      "[I 2025-05-16 16:01:30,908] Trial 1 finished with values: [0.6564348579953619, 0.047560641092197896] and parameters: {'max_depth': 3, 'eta': 0.138307505570759, 'subsample': 0.8590311162162931, 'colsample_bytree': 0.9837374148520879}.\n",
      "[I 2025-05-16 16:01:31,039] Trial 2 finished with values: [0.6928665300383233, 0.046280948853115476] and parameters: {'max_depth': 4, 'eta': 0.16922169986234237, 'subsample': 0.9525640817044382, 'colsample_bytree': 0.7797700928106556}.\n",
      "[I 2025-05-16 16:01:31,164] Trial 3 finished with values: [0.690000704585627, 0.08380612187177548] and parameters: {'max_depth': 5, 'eta': 0.22939089926399076, 'subsample': 0.9816986643315438, 'colsample_bytree': 0.6549341935385526}.\n",
      "[I 2025-05-16 16:01:31,300] Trial 4 finished with values: [0.6850165271280783, 0.06489809856740893] and parameters: {'max_depth': 5, 'eta': 0.16090612735853377, 'subsample': 0.7489075204736519, 'colsample_bytree': 0.7169781425344471}.\n",
      "[I 2025-05-16 16:01:31,441] Trial 5 finished with values: [0.7057114323613115, 0.0690959974513748] and parameters: {'max_depth': 7, 'eta': 0.2100270056345178, 'subsample': 0.7870437357063185, 'colsample_bytree': 0.7565695321938614}.\n",
      "[I 2025-05-16 16:01:31,592] Trial 6 finished with values: [0.6985690784939022, 0.07455442622554898] and parameters: {'max_depth': 7, 'eta': 0.13359904887855226, 'subsample': 0.9374664153354324, 'colsample_bytree': 0.7650376867500449}.\n",
      "[I 2025-05-16 16:01:31,735] Trial 7 finished with values: [0.6871471327960103, 0.047178645427549515] and parameters: {'max_depth': 4, 'eta': 0.22044150093125747, 'subsample': 0.7843439050668417, 'colsample_bytree': 0.8168981013217362}.\n",
      "[I 2025-05-16 16:01:31,883] Trial 8 finished with values: [0.6907175438757723, 0.08211452328181935] and parameters: {'max_depth': 5, 'eta': 0.23222395555395364, 'subsample': 0.7159099100794672, 'colsample_bytree': 0.8702506622827882}.\n",
      "[I 2025-05-16 16:01:32,005] Trial 9 finished with values: [0.662857309156856, 0.025333716064903034] and parameters: {'max_depth': 3, 'eta': 0.13549432793049704, 'subsample': 0.8530077472427712, 'colsample_bytree': 0.6096293061093792}.\n",
      "[I 2025-05-16 16:01:32,011] A new study created in memory with name: no-name-c9c7b674-0925-49f0-8946-29be392b0d18\n",
      "[I 2025-05-16 16:01:32,348] Trial 0 finished with values: [0.6807108962635517, 0.05665649156143703] and parameters: {'max_depth': 6, 'eta': 0.010167953797051075, 'subsample': 0.8498604747796916, 'colsample_bytree': 0.8863962962463453}.\n",
      "[I 2025-05-16 16:01:32,479] Trial 1 finished with values: [0.6742945719335974, 0.043733993319403426] and parameters: {'max_depth': 3, 'eta': 0.2675324258715894, 'subsample': 0.8088877376705069, 'colsample_bytree': 0.62450322891404}.\n",
      "[I 2025-05-16 16:01:32,666] Trial 2 finished with values: [0.6850042734649989, 0.07025778949689608] and parameters: {'max_depth': 5, 'eta': 0.08124430054445879, 'subsample': 0.7503986331505709, 'colsample_bytree': 0.9118666840391648}.\n",
      "[I 2025-05-16 16:01:32,843] Trial 3 finished with values: [0.6642925194450315, 0.025884128072315642] and parameters: {'max_depth': 3, 'eta': 0.06957047918014535, 'subsample': 0.6613239101391971, 'colsample_bytree': 0.6045159511372264}.\n",
      "[I 2025-05-16 16:01:32,974] Trial 4 finished with values: [0.672856298229652, 0.03994538848923046] and parameters: {'max_depth': 4, 'eta': 0.18282414380263007, 'subsample': 0.843764882984382, 'colsample_bytree': 0.9916712909702452}.\n",
      "[I 2025-05-16 16:01:33,115] Trial 5 finished with values: [0.712146137185885, 0.09335496526427839] and parameters: {'max_depth': 6, 'eta': 0.22016826212998225, 'subsample': 0.9810661626813353, 'colsample_bytree': 0.795093048354863}.\n",
      "[I 2025-05-16 16:01:33,268] Trial 6 finished with values: [0.7085604090272736, 0.08071776843116711] and parameters: {'max_depth': 7, 'eta': 0.1966575760660853, 'subsample': 0.9429062609515828, 'colsample_bytree': 0.8756395453975909}.\n",
      "[I 2025-05-16 16:01:33,423] Trial 7 finished with values: [0.6957124432885156, 0.05644478878838105] and parameters: {'max_depth': 7, 'eta': 0.11025224959594791, 'subsample': 0.8259780564555912, 'colsample_bytree': 0.9030927872178616}.\n",
      "[I 2025-05-16 16:01:33,571] Trial 8 finished with values: [0.6871425376723553, 0.07671795534762592] and parameters: {'max_depth': 5, 'eta': 0.1526401398362015, 'subsample': 0.845016795197683, 'colsample_bytree': 0.807193441154336}.\n",
      "[I 2025-05-16 16:01:33,736] Trial 9 finished with values: [0.692852744667359, 0.062442089414293835] and parameters: {'max_depth': 7, 'eta': 0.11960620375267009, 'subsample': 0.6332628752800076, 'colsample_bytree': 0.9354128714057063}.\n",
      "[I 2025-05-16 16:01:33,741] A new study created in memory with name: no-name-fc32c953-4dee-4eef-bde7-c1f0cc064ee7\n",
      "[I 2025-05-16 16:01:33,911] Trial 0 finished with values: [0.6964216240392362, 0.08078902255817304] and parameters: {'max_depth': 6, 'eta': 0.1810954081649481, 'subsample': 0.8019951741236884, 'colsample_bytree': 0.8543668800618734}.\n",
      "[I 2025-05-16 16:01:34,114] Trial 1 finished with values: [0.6985644833702475, 0.062282891583009814] and parameters: {'max_depth': 6, 'eta': 0.1604039700748711, 'subsample': 0.9715414651029588, 'colsample_bytree': 0.8611081169288735}.\n",
      "[I 2025-05-16 16:01:34,263] Trial 2 finished with values: [0.6800001838049462, 0.0466928481627159] and parameters: {'max_depth': 4, 'eta': 0.16253843094586548, 'subsample': 0.8237087123534661, 'colsample_bytree': 0.9835156061902923}.\n",
      "[I 2025-05-16 16:01:34,403] Trial 3 finished with values: [0.6678613988169088, 0.029550901724289647] and parameters: {'max_depth': 3, 'eta': 0.0919202260633669, 'subsample': 0.619461375625273, 'colsample_bytree': 0.8233765663344217}.\n",
      "[I 2025-05-16 16:01:34,571] Trial 4 finished with values: [0.7107139903134794, 0.07437434834006003] and parameters: {'max_depth': 7, 'eta': 0.2979620769117273, 'subsample': 0.7980833091324631, 'colsample_bytree': 0.6101270168840875}.\n",
      "[I 2025-05-16 16:01:34,726] Trial 5 finished with values: [0.6807185548029765, 0.057834746440426264] and parameters: {'max_depth': 5, 'eta': 0.14204214752933603, 'subsample': 0.9045890385217897, 'colsample_bytree': 0.9607452561490878}.\n",
      "[I 2025-05-16 16:01:34,941] Trial 6 finished with values: [0.686427230090095, 0.06211941246686315] and parameters: {'max_depth': 5, 'eta': 0.08305889035341549, 'subsample': 0.9273401705961257, 'colsample_bytree': 0.7436487916907863}.\n",
      "[I 2025-05-16 16:01:35,127] Trial 7 finished with values: [0.6921435639166383, 0.06930744928134043] and parameters: {'max_depth': 6, 'eta': 0.13412052271202632, 'subsample': 0.9046950640318508, 'colsample_bytree': 0.7173810671310414}.\n",
      "[I 2025-05-16 16:01:35,303] Trial 8 finished with values: [0.6692981408129692, 0.04757375977523911] and parameters: {'max_depth': 4, 'eta': 0.04191179088600152, 'subsample': 0.8466320439867714, 'colsample_bytree': 0.8889931279159684}.\n",
      "[I 2025-05-16 16:01:35,447] Trial 9 finished with values: [0.6942925500791892, 0.07413893279645543] and parameters: {'max_depth': 5, 'eta': 0.24756086414763787, 'subsample': 0.8688119213530272, 'colsample_bytree': 0.6884568157087753}.\n",
      "[I 2025-05-16 16:01:35,450] A new study created in memory with name: no-name-515562c3-834c-429d-883f-613c8b8b2023\n",
      "[I 2025-05-16 16:01:35,607] Trial 0 finished with values: [0.7121354152306906, 0.0804212766389825] and parameters: {'max_depth': 6, 'eta': 0.24511507829095808, 'subsample': 0.9197337709164191, 'colsample_bytree': 0.8467609747545829}.\n",
      "[I 2025-05-16 16:01:35,792] Trial 1 finished with values: [0.7078696087711721, 0.10235325470257883] and parameters: {'max_depth': 7, 'eta': 0.29797526825448, 'subsample': 0.6230278156111345, 'colsample_bytree': 0.8296666920997194}.\n",
      "[I 2025-05-16 16:01:35,968] Trial 2 finished with values: [0.6907252024151971, 0.056311783349223855] and parameters: {'max_depth': 7, 'eta': 0.21165451791250817, 'subsample': 0.7703884453182521, 'colsample_bytree': 0.6403214731681451}.\n",
      "[I 2025-05-16 16:01:36,145] Trial 3 finished with values: [0.7228543070094017, 0.08688777281260036] and parameters: {'max_depth': 7, 'eta': 0.28769676934658717, 'subsample': 0.8205151565036138, 'colsample_bytree': 0.8946694290298618}.\n",
      "[I 2025-05-16 16:01:36,300] Trial 4 finished with values: [0.7157165482656472, 0.09869444783143035] and parameters: {'max_depth': 7, 'eta': 0.27194167406166564, 'subsample': 0.6932917400569157, 'colsample_bytree': 0.7076984378982675}.\n",
      "[I 2025-05-16 16:01:36,463] Trial 5 finished with values: [0.6878685672098103, 0.07306753064322795] and parameters: {'max_depth': 7, 'eta': 0.1326775197878614, 'subsample': 0.7362742898931512, 'colsample_bytree': 0.6741756709784551}.\n",
      "[I 2025-05-16 16:01:36,615] Trial 6 finished with values: [0.6914190660870685, 0.09139716659500878] and parameters: {'max_depth': 6, 'eta': 0.16415632035203764, 'subsample': 0.72444113969719, 'colsample_bytree': 0.8974533586969247}.\n",
      "[I 2025-05-16 16:01:36,820] Trial 7 finished with values: [0.6878639720861556, 0.061748013572933046] and parameters: {'max_depth': 7, 'eta': 0.1026715487832507, 'subsample': 0.62404266341487, 'colsample_bytree': 0.932628160569967}.\n",
      "[I 2025-05-16 16:01:36,978] Trial 8 finished with values: [0.684999678341344, 0.050474491480019035] and parameters: {'max_depth': 4, 'eta': 0.21012845250261245, 'subsample': 0.9897011327184659, 'colsample_bytree': 0.7901139315328016}.\n",
      "[I 2025-05-16 16:01:37,157] Trial 9 finished with values: [0.6942879549555346, 0.07406508960996774] and parameters: {'max_depth': 5, 'eta': 0.2288811348473271, 'subsample': 0.6034511515002722, 'colsample_bytree': 0.6345587170799734}.\n",
      "[I 2025-05-16 16:01:37,165] A new study created in memory with name: no-name-acc5596c-95a4-4120-b2e9-ba97bc4af6d5\n",
      "[I 2025-05-16 16:01:37,323] Trial 0 finished with values: [0.6757190602665784, 0.05575257389303365] and parameters: {'max_depth': 5, 'eta': 0.10307293058438227, 'subsample': 0.8725067960160192, 'colsample_bytree': 0.6583492381105683}.\n",
      "[I 2025-05-16 16:01:37,481] Trial 1 finished with values: [0.7078435697371285, 0.07782530482397527] and parameters: {'max_depth': 7, 'eta': 0.23384176839936516, 'subsample': 0.8423792539215309, 'colsample_bytree': 0.8001794843897629}.\n",
      "[I 2025-05-16 16:01:37,653] Trial 2 finished with values: [0.6871364108408158, 0.06990192395684842] and parameters: {'max_depth': 7, 'eta': 0.13854949731547592, 'subsample': 0.6939363935052321, 'colsample_bytree': 0.6784689109653835}.\n",
      "[I 2025-05-16 16:01:37,817] Trial 3 finished with values: [0.6907190755836572, 0.050861360257230516] and parameters: {'max_depth': 5, 'eta': 0.2029374728939623, 'subsample': 0.7520843270276155, 'colsample_bytree': 0.9719255986289018}.\n",
      "[I 2025-05-16 16:01:38,047] Trial 4 finished with values: [0.6792772176832612, 0.07611471686588765] and parameters: {'max_depth': 6, 'eta': 0.02362724356797151, 'subsample': 0.9722375976452875, 'colsample_bytree': 0.7037716469054194}.\n",
      "[I 2025-05-16 16:01:38,216] Trial 5 finished with values: [0.6628680311120506, 0.03249703037519982] and parameters: {'max_depth': 3, 'eta': 0.03349583576199128, 'subsample': 0.6177502144569759, 'colsample_bytree': 0.9265656434816698}.\n",
      "[I 2025-05-16 16:01:38,390] Trial 6 finished with values: [0.698573673617557, 0.07041841004753265] and parameters: {'max_depth': 7, 'eta': 0.13029913295359152, 'subsample': 0.8656502619555777, 'colsample_bytree': 0.7972311178443505}.\n",
      "[I 2025-05-16 16:01:38,549] Trial 7 finished with values: [0.7007119378249135, 0.11812517291434238] and parameters: {'max_depth': 6, 'eta': 0.2466058460537601, 'subsample': 0.6863764808476924, 'colsample_bytree': 0.8349362478850264}.\n",
      "[I 2025-05-16 16:01:38,739] Trial 8 finished with values: [0.6828506921787931, 0.07218580125530445] and parameters: {'max_depth': 6, 'eta': 0.04599208992381183, 'subsample': 0.8483824760142804, 'colsample_bytree': 0.8182284865622423}.\n",
      "[I 2025-05-16 16:01:38,864] Trial 9 finished with values: [0.6635726167391165, 0.029871139189799518] and parameters: {'max_depth': 3, 'eta': 0.2665976263067322, 'subsample': 0.8984047831033344, 'colsample_bytree': 0.927894187131203}.\n",
      "[I 2025-05-16 16:01:38,868] A new study created in memory with name: no-name-2d1df729-da26-41dd-b0ed-cf23b5c5829e\n",
      "[I 2025-05-16 16:01:39,050] Trial 0 finished with values: [0.6735762009355671, 0.06146777335862702] and parameters: {'max_depth': 5, 'eta': 0.06056508765821059, 'subsample': 0.7202050111172479, 'colsample_bytree': 0.820098840380273}.\n",
      "[I 2025-05-16 16:01:39,169] Trial 1 finished with values: [0.6657261980253223, 0.023302760375817373] and parameters: {'max_depth': 3, 'eta': 0.11470394036748409, 'subsample': 0.9574351621078225, 'colsample_bytree': 0.9535468320460541}.\n",
      "[I 2025-05-16 16:01:39,324] Trial 2 finished with values: [0.6571593558249319, 0.020717306130878566] and parameters: {'max_depth': 3, 'eta': 0.04182484153846969, 'subsample': 0.9397825447614472, 'colsample_bytree': 0.9786680835023951}.\n",
      "[I 2025-05-16 16:01:39,461] Trial 3 finished with values: [0.6614328208238751, 0.03414755042277832] and parameters: {'max_depth': 3, 'eta': 0.17298800919030977, 'subsample': 0.9190564531111121, 'colsample_bytree': 0.7222330466691677}.\n",
      "[I 2025-05-16 16:01:39,680] Trial 4 finished with values: [0.700704279285489, 0.0716491831724239] and parameters: {'max_depth': 7, 'eta': 0.1466379712691788, 'subsample': 0.9388686055219996, 'colsample_bytree': 0.8211872730372418}.\n",
      "[I 2025-05-16 16:01:39,912] Trial 5 finished with values: [0.7050175686894401, 0.1004749321126812] and parameters: {'max_depth': 6, 'eta': 0.21979639496536454, 'subsample': 0.7701562071414502, 'colsample_bytree': 0.9252416636536281}.\n",
      "[I 2025-05-16 16:01:40,135] Trial 6 finished with values: [0.7121446054780001, 0.06895614987072031] and parameters: {'max_depth': 7, 'eta': 0.2194268004857034, 'subsample': 0.864001649594893, 'colsample_bytree': 0.8064365239088198}.\n",
      "[I 2025-05-16 16:01:40,304] Trial 7 finished with values: [0.660008332490894, 0.027783466400351387] and parameters: {'max_depth': 3, 'eta': 0.0829669583719623, 'subsample': 0.8109183364399883, 'colsample_bytree': 0.7005529857577515}.\n",
      "[I 2025-05-16 16:01:40,468] Trial 8 finished with values: [0.6949956039983703, 0.07081470701431992] and parameters: {'max_depth': 5, 'eta': 0.2259330628755356, 'subsample': 0.9879782771107009, 'colsample_bytree': 0.6148528632445572}.\n",
      "[I 2025-05-16 16:01:40,716] Trial 9 finished with values: [0.687853250130961, 0.09725509579961027] and parameters: {'max_depth': 7, 'eta': 0.06545023866586161, 'subsample': 0.74227890135318, 'colsample_bytree': 0.9135631578578819}.\n",
      "[I 2025-05-16 16:01:40,721] A new study created in memory with name: no-name-ce261c35-213e-4a69-8ac9-e47049536a52\n",
      "[I 2025-05-16 16:01:40,905] Trial 0 finished with values: [0.6935757107890441, 0.10852649507125361] and parameters: {'max_depth': 5, 'eta': 0.24270610393299846, 'subsample': 0.6872938402970933, 'colsample_bytree': 0.8182659180112504}.\n",
      "[I 2025-05-16 16:01:41,065] Trial 1 finished with values: [0.6700042581479201, 0.04274910004231727] and parameters: {'max_depth': 3, 'eta': 0.19285190338515526, 'subsample': 0.7349300386357098, 'colsample_bytree': 0.7317249571411716}.\n",
      "[I 2025-05-16 16:01:41,323] Trial 2 finished with values: [0.715699699478913, 0.07544300541680618] and parameters: {'max_depth': 7, 'eta': 0.20704727090692157, 'subsample': 0.9581343311580778, 'colsample_bytree': 0.991887708455977}.\n",
      "[I 2025-05-16 16:01:41,583] Trial 3 finished with values: [0.6771389534759047, 0.05645941384179116] and parameters: {'max_depth': 5, 'eta': 0.08883377587512047, 'subsample': 0.681631027030061, 'colsample_bytree': 0.8397202769985671}.\n",
      "[I 2025-05-16 16:01:41,787] Trial 4 finished with values: [0.6942864232476497, 0.06511547715416986] and parameters: {'max_depth': 7, 'eta': 0.07383649684508256, 'subsample': 0.757908470467242, 'colsample_bytree': 0.9803034211044324}.\n",
      "[I 2025-05-16 16:01:41,962] Trial 5 finished with values: [0.6764343678488388, 0.07238879263020903] and parameters: {'max_depth': 4, 'eta': 0.23377538200637454, 'subsample': 0.9239171205962635, 'colsample_bytree': 0.6728063093382392}.\n",
      "[I 2025-05-16 16:01:42,091] Trial 6 finished with values: [0.6664430373154676, 0.03370913277870898] and parameters: {'max_depth': 3, 'eta': 0.18437238143737816, 'subsample': 0.928335429249779, 'colsample_bytree': 0.6994329867641276}.\n",
      "[I 2025-05-16 16:01:42,306] Trial 7 finished with values: [0.6799955886812915, 0.06252640937005127] and parameters: {'max_depth': 6, 'eta': 0.029326208885117666, 'subsample': 0.9379083155864115, 'colsample_bytree': 0.8976317175480433}.\n",
      "[I 2025-05-16 16:01:42,451] Trial 8 finished with values: [0.6828660092576424, 0.07444059933159165] and parameters: {'max_depth': 5, 'eta': 0.13809251209112278, 'subsample': 0.6531276078562857, 'colsample_bytree': 0.9598128364570389}.\n",
      "[I 2025-05-16 16:01:42,628] Trial 9 finished with values: [0.6600159910303186, 0.027892667310936776] and parameters: {'max_depth': 3, 'eta': 0.025352500362325184, 'subsample': 0.7569975553545213, 'colsample_bytree': 0.7368854384796368}.\n",
      "[I 2025-05-16 16:01:42,632] A new study created in memory with name: no-name-1f8aa0ac-1c64-496b-8914-2d723f8e36a3\n",
      "[I 2025-05-16 16:01:42,757] Trial 0 finished with values: [0.6664369104839278, 0.019209730040398987] and parameters: {'max_depth': 3, 'eta': 0.28978685796036224, 'subsample': 0.9256650512334592, 'colsample_bytree': 0.7223649354076495}.\n",
      "[I 2025-05-16 16:01:43,117] Trial 1 finished with values: [0.6792894713463405, 0.06483345722890681] and parameters: {'max_depth': 6, 'eta': 0.011190416641959175, 'subsample': 0.8035555529503737, 'colsample_bytree': 0.6737373787805281}.\n",
      "[I 2025-05-16 16:01:43,241] Trial 2 finished with values: [0.6778619195975897, 0.029739528476132555] and parameters: {'max_depth': 3, 'eta': 0.22437874271882227, 'subsample': 0.8864478585908292, 'colsample_bytree': 0.8263515953149859}.\n",
      "[I 2025-05-16 16:01:43,405] Trial 3 finished with values: [0.7092803117331887, 0.08468532871090863] and parameters: {'max_depth': 7, 'eta': 0.2558415665374518, 'subsample': 0.8117403567534874, 'colsample_bytree': 0.6923395532681488}.\n",
      "[I 2025-05-16 16:01:43,567] Trial 4 finished with values: [0.6964308142865457, 0.07896796532032192] and parameters: {'max_depth': 5, 'eta': 0.2515697889783035, 'subsample': 0.7282159402591732, 'colsample_bytree': 0.9865580688180247}.\n",
      "[I 2025-05-16 16:01:43,728] Trial 5 finished with values: [0.7106971415267451, 0.08238298390668873] and parameters: {'max_depth': 7, 'eta': 0.2454432254770768, 'subsample': 0.6636650385667748, 'colsample_bytree': 0.7942516065864791}.\n",
      "[I 2025-05-16 16:01:43,887] Trial 6 finished with values: [0.6985798004490968, 0.0857789667277608] and parameters: {'max_depth': 7, 'eta': 0.17263792498184255, 'subsample': 0.8160458717907144, 'colsample_bytree': 0.8789064266091117}.\n",
      "[I 2025-05-16 16:01:44,019] Trial 7 finished with values: [0.6657170077780127, 0.02902279247274661] and parameters: {'max_depth': 3, 'eta': 0.08726157605435618, 'subsample': 0.766711970564385, 'colsample_bytree': 0.6436943056009108}.\n",
      "[I 2025-05-16 16:01:44,137] Trial 8 finished with values: [0.6757159968508085, 0.04078308484447751] and parameters: {'max_depth': 3, 'eta': 0.29428604504035843, 'subsample': 0.813446746372921, 'colsample_bytree': 0.8433464348080704}.\n",
      "[I 2025-05-16 16:01:44,269] Trial 9 finished with values: [0.6650124221509468, 0.0407873958077155] and parameters: {'max_depth': 3, 'eta': 0.08318021351382358, 'subsample': 0.7921308259294186, 'colsample_bytree': 0.8501581069969677}.\n",
      "[I 2025-05-16 16:01:44,273] A new study created in memory with name: no-name-29d4fcb6-782a-47ef-8279-a29d91b6b93e\n",
      "[I 2025-05-16 16:01:44,424] Trial 0 finished with values: [0.6785864174271596, 0.03461245920653147] and parameters: {'max_depth': 4, 'eta': 0.12163646553904733, 'subsample': 0.7780762803023666, 'colsample_bytree': 0.9014419798668054}.\n",
      "[I 2025-05-16 16:01:44,573] Trial 1 finished with values: [0.6757190602665784, 0.04799823609892213] and parameters: {'max_depth': 4, 'eta': 0.09033329130221286, 'subsample': 0.8485084664280673, 'colsample_bytree': 0.800664631512585}.\n",
      "[I 2025-05-16 16:01:44,709] Trial 2 finished with values: [0.6857149859236046, 0.05837141607998791] and parameters: {'max_depth': 4, 'eta': 0.2575943979636155, 'subsample': 0.7707905182606968, 'colsample_bytree': 0.7450433410807046}.\n",
      "[I 2025-05-16 16:01:44,855] Trial 3 finished with values: [0.6814307989694669, 0.04785623447338234] and parameters: {'max_depth': 4, 'eta': 0.1562608796061827, 'subsample': 0.93185582142135, 'colsample_bytree': 0.8984521157153522}.\n",
      "[I 2025-05-16 16:01:45,047] Trial 4 finished with values: [0.6971445901609212, 0.07630327870757173] and parameters: {'max_depth': 6, 'eta': 0.13184161828781543, 'subsample': 0.8219818426444011, 'colsample_bytree': 0.7336662894881547}.\n",
      "[I 2025-05-16 16:01:45,263] Trial 5 finished with values: [0.7092849068568435, 0.07818766901469366] and parameters: {'max_depth': 6, 'eta': 0.21859549305014359, 'subsample': 0.9219799995673823, 'colsample_bytree': 0.9738387861486891}.\n",
      "[I 2025-05-16 16:01:45,472] Trial 6 finished with values: [0.7092849068568435, 0.08987531054886966] and parameters: {'max_depth': 7, 'eta': 0.2243563784414932, 'subsample': 0.7854026160635366, 'colsample_bytree': 0.9074730350919112}.\n",
      "[I 2025-05-16 16:01:45,636] Trial 7 finished with values: [0.6857241761709142, 0.06295840979812699] and parameters: {'max_depth': 4, 'eta': 0.24219407938428686, 'subsample': 0.6056855907771972, 'colsample_bytree': 0.6083842369196745}.\n",
      "[I 2025-05-16 16:01:45,926] Trial 8 finished with values: [0.6593052785717131, 0.03086622284635121] and parameters: {'max_depth': 3, 'eta': 0.015799039600750346, 'subsample': 0.9384567663916249, 'colsample_bytree': 0.8927867385873759}.\n",
      "[I 2025-05-16 16:01:46,158] Trial 9 finished with values: [0.6842767122196592, 0.06672448408994469] and parameters: {'max_depth': 5, 'eta': 0.05222148714157962, 'subsample': 0.9931046439084069, 'colsample_bytree': 0.9444359537492829}.\n",
      "[I 2025-05-16 16:01:46,163] A new study created in memory with name: no-name-a0d95957-5875-49f5-8a5e-a585e4c66efb\n",
      "[I 2025-05-16 16:01:46,343] Trial 0 finished with values: [0.6771466120153292, 0.04203611721387938] and parameters: {'max_depth': 4, 'eta': 0.13425027318432606, 'subsample': 0.6970186051230826, 'colsample_bytree': 0.7121299242354985}.\n",
      "[I 2025-05-16 16:01:46,567] Trial 1 finished with values: [0.714273679438047, 0.12186719811462998] and parameters: {'max_depth': 7, 'eta': 0.26051032044851563, 'subsample': 0.6329461144866094, 'colsample_bytree': 0.8764932994992078}.\n",
      "[I 2025-05-16 16:01:46,776] Trial 2 finished with values: [0.7278538015457996, 0.08256158781074435] and parameters: {'max_depth': 7, 'eta': 0.2929586706429912, 'subsample': 0.8661220374754997, 'colsample_bytree': 0.9400245096225421}.\n",
      "[I 2025-05-16 16:01:46,992] Trial 3 finished with values: [0.7314226809176768, 0.08223494742909597] and parameters: {'max_depth': 7, 'eta': 0.28347176420972936, 'subsample': 0.995361314553982, 'colsample_bytree': 0.875356877677558}.\n",
      "[I 2025-05-16 16:01:47,209] Trial 4 finished with values: [0.7064313350672267, 0.07139671613334031] and parameters: {'max_depth': 7, 'eta': 0.24632108162080874, 'subsample': 0.6001426898972868, 'colsample_bytree': 0.6792024764311289}.\n",
      "[I 2025-05-16 16:01:47,382] Trial 5 finished with values: [0.6835797851320179, 0.0723485994566014] and parameters: {'max_depth': 4, 'eta': 0.1586559111544452, 'subsample': 0.6461559114737508, 'colsample_bytree': 0.7329246982348617}.\n",
      "[I 2025-05-16 16:01:47,580] Trial 6 finished with values: [0.6850104002965387, 0.09651214238165491] and parameters: {'max_depth': 5, 'eta': 0.21298596087693214, 'subsample': 0.6635828207261457, 'colsample_bytree': 0.755973940578212}.\n",
      "[I 2025-05-16 16:01:47,826] Trial 7 finished with values: [0.6949879454589456, 0.07216587386432853] and parameters: {'max_depth': 7, 'eta': 0.11143766640407604, 'subsample': 0.9395270441264258, 'colsample_bytree': 0.8386786690649282}.\n",
      "[I 2025-05-16 16:01:48,055] Trial 8 finished with values: [0.6650017001957523, 0.040322513619885515] and parameters: {'max_depth': 4, 'eta': 0.020143077507750705, 'subsample': 0.8730587276302106, 'colsample_bytree': 0.8829697560828026}.\n",
      "[I 2025-05-16 16:01:48,186] Trial 9 finished with values: [0.6692996725208542, 0.038813604152116626] and parameters: {'max_depth': 3, 'eta': 0.10336843652285573, 'subsample': 0.7852308603671447, 'colsample_bytree': 0.9885750744851441}.\n",
      "[I 2025-05-16 16:01:48,190] A new study created in memory with name: no-name-12242b49-8659-4481-8b27-1e3a00a19388\n",
      "[I 2025-05-16 16:01:48,334] Trial 0 finished with values: [0.6707134388986408, 0.05369241384548668] and parameters: {'max_depth': 4, 'eta': 0.0975090282574407, 'subsample': 0.6799683501164006, 'colsample_bytree': 0.782930267713693}.\n",
      "[I 2025-05-16 16:01:48,482] Trial 1 finished with values: [0.6585838441579129, 0.018360485501843743] and parameters: {'max_depth': 3, 'eta': 0.04479774082874469, 'subsample': 0.6313489759008429, 'colsample_bytree': 0.8821761612741698}.\n",
      "[I 2025-05-16 16:01:48,627] Trial 2 finished with values: [0.7042731586573662, 0.07378759448448004] and parameters: {'max_depth': 7, 'eta': 0.17364389032371952, 'subsample': 0.9369588698566753, 'colsample_bytree': 0.7878110253984572}.\n",
      "[I 2025-05-16 16:01:48,770] Trial 3 finished with values: [0.6835690631768235, 0.05656378232363413] and parameters: {'max_depth': 4, 'eta': 0.12469083161739734, 'subsample': 0.7811790632211915, 'colsample_bytree': 0.9853929697597105}.\n",
      "[I 2025-05-16 16:01:49,036] Trial 4 finished with values: [0.6871348791329307, 0.0875475359446267] and parameters: {'max_depth': 6, 'eta': 0.03830401960273949, 'subsample': 0.9629620532178523, 'colsample_bytree': 0.8734177558672591}.\n",
      "[I 2025-05-16 16:01:49,193] Trial 5 finished with values: [0.7035777632776098, 0.04546724064341171] and parameters: {'max_depth': 7, 'eta': 0.1814592266122897, 'subsample': 0.7968206269632657, 'colsample_bytree': 0.8076194784472025}.\n",
      "[I 2025-05-16 16:01:49,333] Trial 6 finished with values: [0.6978598977431817, 0.07711050033778367] and parameters: {'max_depth': 5, 'eta': 0.1924026729587795, 'subsample': 0.9954870346693432, 'colsample_bytree': 0.6056989602128536}.\n",
      "[I 2025-05-16 16:01:49,487] Trial 7 finished with values: [0.6857103907999499, 0.06303205220963037] and parameters: {'max_depth': 6, 'eta': 0.06625037801338082, 'subsample': 0.9707406980922219, 'colsample_bytree': 0.9845009636660305}.\n",
      "[I 2025-05-16 16:01:49,626] Trial 8 finished with values: [0.6564363897032469, 0.027102308844587652] and parameters: {'max_depth': 3, 'eta': 0.06147239476260912, 'subsample': 0.6945424567981473, 'colsample_bytree': 0.7292815981379798}.\n",
      "[I 2025-05-16 16:01:49,853] Trial 9 finished with values: [0.6657231346095523, 0.04876314033631663] and parameters: {'max_depth': 4, 'eta': 0.017722431370995096, 'subsample': 0.8432591102843946, 'colsample_bytree': 0.7813958813085496}.\n",
      "[I 2025-05-16 16:01:49,857] A new study created in memory with name: no-name-843570a6-e2e8-4835-ae39-abff84a8af8c\n",
      "[I 2025-05-16 16:01:50,009] Trial 0 finished with values: [0.6757175285586935, 0.061874736225377445] and parameters: {'max_depth': 5, 'eta': 0.07183340884963756, 'subsample': 0.8941656547459131, 'colsample_bytree': 0.6109772976515099}.\n",
      "[I 2025-05-16 16:01:50,272] Trial 1 finished with values: [0.6771466120153292, 0.053761556206015054] and parameters: {'max_depth': 5, 'eta': 0.013662204079263216, 'subsample': 0.7581006235787008, 'colsample_bytree': 0.7831743842524936}.\n",
      "[I 2025-05-16 16:01:50,409] Trial 2 finished with values: [0.686427230090095, 0.08926413194391375] and parameters: {'max_depth': 5, 'eta': 0.19560111336800798, 'subsample': 0.7401431404112817, 'colsample_bytree': 0.8630542529277434}.\n",
      "[I 2025-05-16 16:01:50,553] Trial 3 finished with values: [0.6999996936584231, 0.08401367616404316] and parameters: {'max_depth': 6, 'eta': 0.2428602984827366, 'subsample': 0.7232754176945326, 'colsample_bytree': 0.7604762935904207}.\n",
      "[I 2025-05-16 16:01:50,703] Trial 4 finished with values: [0.6771389534759047, 0.05096582610579815] and parameters: {'max_depth': 4, 'eta': 0.07315701661263208, 'subsample': 0.8052574480191494, 'colsample_bytree': 0.9538385047628515}.\n",
      "[I 2025-05-16 16:01:50,871] Trial 5 finished with values: [0.6821507016753822, 0.07914984852633015] and parameters: {'max_depth': 6, 'eta': 0.06087371596410465, 'subsample': 0.9094606630614339, 'colsample_bytree': 0.6112560584547793}.\n",
      "[I 2025-05-16 16:01:50,990] Trial 6 finished with values: [0.6771466120153292, 0.047683143900581926] and parameters: {'max_depth': 3, 'eta': 0.2980706073566021, 'subsample': 0.7475616374270432, 'colsample_bytree': 0.8785122829873604}.\n",
      "[I 2025-05-16 16:01:51,163] Trial 7 finished with values: [0.6864348886295196, 0.061581605117501916] and parameters: {'max_depth': 6, 'eta': 0.046919299058166365, 'subsample': 0.8302567955260576, 'colsample_bytree': 0.7253536816825159}.\n",
      "[I 2025-05-16 16:01:51,314] Trial 8 finished with values: [0.6971369316214965, 0.10265782820952651] and parameters: {'max_depth': 7, 'eta': 0.14227873536613653, 'subsample': 0.7307323966546736, 'colsample_bytree': 0.8183822029587783}.\n",
      "[I 2025-05-16 16:01:51,443] Trial 9 finished with values: [0.6942925500791892, 0.07481984019289632] and parameters: {'max_depth': 5, 'eta': 0.2472437667116125, 'subsample': 0.6503324809318441, 'colsample_bytree': 0.7544732798145845}.\n",
      "[I 2025-05-16 16:01:51,447] A new study created in memory with name: no-name-dbf00e44-8f8d-4ba5-9859-1f96b72d4262\n",
      "[I 2025-05-16 16:01:51,636] Trial 0 finished with values: [0.6757221236823483, 0.03633101879802524] and parameters: {'max_depth': 4, 'eta': 0.025360637622144144, 'subsample': 0.6305686239113129, 'colsample_bytree': 0.9308259116784239}.\n",
      "[I 2025-05-16 16:01:51,779] Trial 1 finished with values: [0.6985675467860174, 0.06337957824482102] and parameters: {'max_depth': 6, 'eta': 0.15067320861465927, 'subsample': 0.8755680793408542, 'colsample_bytree': 0.9194339343562392}.\n",
      "[I 2025-05-16 16:01:51,947] Trial 2 finished with values: [0.6942864232476497, 0.0593980498491494] and parameters: {'max_depth': 7, 'eta': 0.10011936367317771, 'subsample': 0.9447550850592077, 'colsample_bytree': 0.9382645521031656}.\n",
      "[I 2025-05-16 16:01:52,072] Trial 3 finished with values: [0.6828583507182179, 0.06336220467024689] and parameters: {'max_depth': 4, 'eta': 0.19765199794349028, 'subsample': 0.6017640028871356, 'colsample_bytree': 0.9428643012850293}.\n",
      "[I 2025-05-16 16:01:52,384] Trial 4 finished with values: [0.6842874341748537, 0.061405580989303855] and parameters: {'max_depth': 7, 'eta': 0.016481521688864083, 'subsample': 0.645085122753578, 'colsample_bytree': 0.9027131810350528}.\n",
      "[I 2025-05-16 16:01:52,522] Trial 5 finished with values: [0.6964323459944307, 0.08766117434733077] and parameters: {'max_depth': 6, 'eta': 0.2738053904484853, 'subsample': 0.6550121978368556, 'colsample_bytree': 0.6728244987040037}.\n",
      "[I 2025-05-16 16:01:52,648] Trial 6 finished with values: [0.6842920292985085, 0.06727798910210023] and parameters: {'max_depth': 4, 'eta': 0.19644259142220993, 'subsample': 0.8220983028911788, 'colsample_bytree': 0.7709884639893092}.\n",
      "[I 2025-05-16 16:01:52,778] Trial 7 finished with values: [0.7064175496962622, 0.06054412784529412] and parameters: {'max_depth': 5, 'eta': 0.2890189019342987, 'subsample': 0.9867224185514344, 'colsample_bytree': 0.9963696936091583}.\n",
      "[I 2025-05-16 16:01:52,913] Trial 8 finished with values: [0.6885700894211063, 0.08196750397837312] and parameters: {'max_depth': 5, 'eta': 0.2780829858280406, 'subsample': 0.7295101863698871, 'colsample_bytree': 0.8326995925709044}.\n",
      "[I 2025-05-16 16:01:53,046] Trial 9 finished with values: [0.6985675467860174, 0.057013179889102684] and parameters: {'max_depth': 6, 'eta': 0.22897611754582786, 'subsample': 0.7727062993065789, 'colsample_bytree': 0.6413267356609701}.\n",
      "[I 2025-05-16 16:01:53,050] A new study created in memory with name: no-name-b849fac4-06f6-4825-9b4e-b13afe7da4af\n",
      "[I 2025-05-16 16:01:53,192] Trial 0 finished with values: [0.685002741757114, 0.06549730186014519] and parameters: {'max_depth': 6, 'eta': 0.1564189567163497, 'subsample': 0.9075478084677535, 'colsample_bytree': 0.6530603782807075}.\n",
      "[I 2025-05-16 16:01:53,303] Trial 1 finished with values: [0.6700165118109996, 0.028070106700284887] and parameters: {'max_depth': 3, 'eta': 0.13670292230145276, 'subsample': 0.6129593754424006, 'colsample_bytree': 0.6203591283615738}.\n",
      "[I 2025-05-16 16:01:53,421] Trial 2 finished with values: [0.6742838499784028, 0.03747495506705373] and parameters: {'max_depth': 3, 'eta': 0.2766584074567016, 'subsample': 0.8760692198026809, 'colsample_bytree': 0.9931657886879269}.\n",
      "[I 2025-05-16 16:01:53,538] Trial 3 finished with values: [0.6692981408129692, 0.050287063915788834] and parameters: {'max_depth': 3, 'eta': 0.14663015290212475, 'subsample': 0.6852527932264821, 'colsample_bytree': 0.6702799768137554}.\n",
      "[I 2025-05-16 16:01:53,686] Trial 4 finished with values: [0.6907206072915423, 0.10300824086577431] and parameters: {'max_depth': 6, 'eta': 0.21284664069319664, 'subsample': 0.618420199256826, 'colsample_bytree': 0.7967929943182666}.\n",
      "[I 2025-05-16 16:01:53,935] Trial 5 finished with values: [0.6650185489824865, 0.0263603211913979] and parameters: {'max_depth': 3, 'eta': 0.011962335185675785, 'subsample': 0.764561938880099, 'colsample_bytree': 0.6350316129940596}.\n",
      "[I 2025-05-16 16:01:54,069] Trial 6 finished with values: [0.693575710789044, 0.05662328465247235] and parameters: {'max_depth': 5, 'eta': 0.16648453027412988, 'subsample': 0.8628553080436319, 'colsample_bytree': 0.8891279977009615}.\n",
      "[I 2025-05-16 16:01:54,189] Trial 7 finished with values: [0.6678629305247936, 0.03197305908147826] and parameters: {'max_depth': 3, 'eta': 0.11224525600592812, 'subsample': 0.6899496316617897, 'colsample_bytree': 0.9052138846085769}.\n",
      "[I 2025-05-16 16:01:54,352] Trial 8 finished with values: [0.6764389629724935, 0.07569104685762497] and parameters: {'max_depth': 6, 'eta': 0.06716066083572654, 'subsample': 0.623708678601408, 'colsample_bytree': 0.661795736730708}.\n",
      "[I 2025-05-16 16:01:54,531] Trial 9 finished with values: [0.6785756954719652, 0.07010183667918572] and parameters: {'max_depth': 7, 'eta': 0.055378799058725885, 'subsample': 0.893632248132813, 'colsample_bytree': 0.7260670722911189}.\n",
      "[I 2025-05-16 16:01:54,536] A new study created in memory with name: no-name-ee328e76-1c17-4677-80d6-1fe684abbd0a\n",
      "[I 2025-05-16 16:01:54,661] Trial 0 finished with values: [0.6807185548029765, 0.08171959806185038] and parameters: {'max_depth': 5, 'eta': 0.20648470732622726, 'subsample': 0.6255829941805364, 'colsample_bytree': 0.8783483313503193}.\n",
      "[I 2025-05-16 16:01:54,795] Trial 1 finished with values: [0.6807170230950915, 0.0378680872719356] and parameters: {'max_depth': 5, 'eta': 0.14330381035176157, 'subsample': 0.7385327536189183, 'colsample_bytree': 0.6456296357398573}.\n",
      "[I 2025-05-16 16:01:54,958] Trial 2 finished with values: [0.6935665205417344, 0.0856669959272363] and parameters: {'max_depth': 7, 'eta': 0.15256035563938722, 'subsample': 0.7137939719675082, 'colsample_bytree': 0.7889170986367618}.\n",
      "[I 2025-05-16 16:01:55,115] Trial 3 finished with values: [0.6600098641987789, 0.030425612001127256] and parameters: {'max_depth': 3, 'eta': 0.060455948940783155, 'subsample': 0.7623499596755932, 'colsample_bytree': 0.6466926222623951}.\n",
      "[I 2025-05-16 16:01:55,264] Trial 4 finished with values: [0.6671476229425334, 0.02955335069346852] and parameters: {'max_depth': 3, 'eta': 0.2566223495637582, 'subsample': 0.8176638476177563, 'colsample_bytree': 0.9510782624502023}.\n",
      "[I 2025-05-16 16:01:55,496] Trial 5 finished with values: [0.7007165329485683, 0.049188106253085125] and parameters: {'max_depth': 7, 'eta': 0.07215198655545504, 'subsample': 0.8819392697720101, 'colsample_bytree': 0.9577358559339727}.\n",
      "[I 2025-05-16 16:01:55,758] Trial 6 finished with values: [0.6799909935576366, 0.05861540094534179] and parameters: {'max_depth': 5, 'eta': 0.03507971228448629, 'subsample': 0.9336956440930311, 'colsample_bytree': 0.7841389348563459}.\n",
      "[I 2025-05-16 16:01:55,941] Trial 7 finished with values: [0.6578777268229622, 0.015994162559458448] and parameters: {'max_depth': 3, 'eta': 0.05133352922632265, 'subsample': 0.7690138322605956, 'colsample_bytree': 0.9985796424378015}.\n",
      "[I 2025-05-16 16:01:56,124] Trial 8 finished with values: [0.6635772118627713, 0.0337934458904356] and parameters: {'max_depth': 3, 'eta': 0.26370136978996767, 'subsample': 0.8066279470125031, 'colsample_bytree': 0.6261671794132251}.\n",
      "[I 2025-05-16 16:01:56,426] Trial 9 finished with values: [0.6785741637640802, 0.0706380104628051] and parameters: {'max_depth': 7, 'eta': 0.029942479764872847, 'subsample': 0.718873264428551, 'colsample_bytree': 0.7352745466048225}.\n",
      "[I 2025-05-16 16:01:56,431] A new study created in memory with name: no-name-63ed2625-a0d0-4c06-9c86-d857e3dc80bb\n",
      "[I 2025-05-16 16:01:56,626] Trial 0 finished with values: [0.6999966302426531, 0.09331166961100668] and parameters: {'max_depth': 5, 'eta': 0.23736291751949962, 'subsample': 0.9904533124761562, 'colsample_bytree': 0.8359033859393029}.\n",
      "[I 2025-05-16 16:01:56,816] Trial 1 finished with values: [0.6964338777023157, 0.07400818442993028] and parameters: {'max_depth': 5, 'eta': 0.22062031584295294, 'subsample': 0.8665399280987891, 'colsample_bytree': 0.6714797323905507}.\n",
      "[I 2025-05-16 16:01:56,992] Trial 2 finished with values: [0.6778511976423953, 0.040276097317902014] and parameters: {'max_depth': 4, 'eta': 0.10455677244466761, 'subsample': 0.9236770776069445, 'colsample_bytree': 0.894398721030423}.\n",
      "[I 2025-05-16 16:01:57,201] Trial 3 finished with values: [0.6678644622326787, 0.05887865501652526] and parameters: {'max_depth': 4, 'eta': 0.0839303079869628, 'subsample': 0.6918148887989328, 'colsample_bytree': 0.8950202888108683}.\n",
      "[I 2025-05-16 16:01:57,374] Trial 4 finished with values: [0.689299182374331, 0.06111122065320984] and parameters: {'max_depth': 4, 'eta': 0.25106111721683433, 'subsample': 0.7793880607945252, 'colsample_bytree': 0.8378441333767865}.\n",
      "[I 2025-05-16 16:01:57,576] Trial 5 finished with values: [0.6757144651429238, 0.054914383863551054] and parameters: {'max_depth': 5, 'eta': 0.07169050489711512, 'subsample': 0.8723852441271602, 'colsample_bytree': 0.6183943223821289}.\n",
      "[I 2025-05-16 16:01:57,767] Trial 6 finished with values: [0.7114247027720849, 0.065981812439453] and parameters: {'max_depth': 6, 'eta': 0.2783202511741934, 'subsample': 0.822804124604617, 'colsample_bytree': 0.6925807682988453}.\n",
      "[I 2025-05-16 16:01:57,996] Trial 7 finished with values: [0.688576216252646, 0.057549927595653104] and parameters: {'max_depth': 7, 'eta': 0.044364159038927854, 'subsample': 0.6670641973641187, 'colsample_bytree': 0.9460098947407799}.\n",
      "[I 2025-05-16 16:01:58,119] Trial 8 finished with values: [0.6928496812515892, 0.0780864870780822] and parameters: {'max_depth': 5, 'eta': 0.2270587491463344, 'subsample': 0.7110458999662674, 'colsample_bytree': 0.8928031636270035}.\n",
      "[I 2025-05-16 16:01:58,298] Trial 9 finished with values: [0.693577242496929, 0.08313241482845606] and parameters: {'max_depth': 5, 'eta': 0.1583804648790512, 'subsample': 0.9183328883154185, 'colsample_bytree': 0.9463295156659213}.\n",
      "[I 2025-05-16 16:01:58,302] A new study created in memory with name: no-name-5809757b-836e-4725-9269-06e12b2421d1\n",
      "[I 2025-05-16 16:01:58,418] Trial 0 finished with values: [0.6800155008837954, 0.05580837926592903] and parameters: {'max_depth': 3, 'eta': 0.2564532387968049, 'subsample': 0.6242748718443328, 'colsample_bytree': 0.6700534770200252}.\n",
      "[I 2025-05-16 16:01:58,549] Trial 1 finished with values: [0.6828629458418726, 0.0670325065451942] and parameters: {'max_depth': 4, 'eta': 0.18895460547384477, 'subsample': 0.727592934488801, 'colsample_bytree': 0.8795503682271388}.\n",
      "[I 2025-05-16 16:01:58,760] Trial 2 finished with values: [0.6678675256484485, 0.05238127267739106] and parameters: {'max_depth': 4, 'eta': 0.03865440984195746, 'subsample': 0.626609620448906, 'colsample_bytree': 0.8647106009940586}.\n",
      "[I 2025-05-16 16:01:58,901] Trial 3 finished with values: [0.6714425318518655, 0.0307441066156429] and parameters: {'max_depth': 3, 'eta': 0.15199182030702107, 'subsample': 0.79012924643509, 'colsample_bytree': 0.7850124250047461}.\n",
      "[I 2025-05-16 16:01:59,081] Trial 4 finished with values: [0.6785711003483104, 0.04809086508802957] and parameters: {'max_depth': 4, 'eta': 0.1606019030707808, 'subsample': 0.995835937031671, 'colsample_bytree': 0.7637715137494667}.\n",
      "[I 2025-05-16 16:01:59,206] Trial 5 finished with values: [0.6814323306773519, 0.06742333975532123] and parameters: {'max_depth': 5, 'eta': 0.14115224968461035, 'subsample': 0.9463258887545072, 'colsample_bytree': 0.9145358409396211}.\n",
      "[I 2025-05-16 16:01:59,311] Trial 6 finished with values: [0.6735823277671069, 0.048483043833578016] and parameters: {'max_depth': 3, 'eta': 0.15509899240090308, 'subsample': 0.6265102444025913, 'colsample_bytree': 0.801850579179359}.\n",
      "[I 2025-05-16 16:01:59,455] Trial 7 finished with values: [0.7107201171450189, 0.09579726285622796] and parameters: {'max_depth': 7, 'eta': 0.28218701007314123, 'subsample': 0.7388483472878316, 'colsample_bytree': 0.7951386351787627}.\n",
      "[I 2025-05-16 16:01:59,587] Trial 8 finished with values: [0.6914282563343779, 0.07405441145689295] and parameters: {'max_depth': 5, 'eta': 0.14630533000098875, 'subsample': 0.8093321082594066, 'colsample_bytree': 0.794723625150579}.\n",
      "[I 2025-05-16 16:01:59,697] Trial 9 finished with values: [0.6678705890642185, 0.03164941598237755] and parameters: {'max_depth': 3, 'eta': 0.15410133201214055, 'subsample': 0.8481000991237791, 'colsample_bytree': 0.6642424804767959}.\n",
      "[I 2025-05-16 16:01:59,701] A new study created in memory with name: no-name-a0390f00-0a10-40fa-ad4c-ed748b62d65e\n",
      "[I 2025-05-16 16:01:59,834] Trial 0 finished with values: [0.692854276375244, 0.09154405205867193] and parameters: {'max_depth': 5, 'eta': 0.16094789918003108, 'subsample': 0.8186540964104152, 'colsample_bytree': 0.8153879481098409}.\n",
      "[I 2025-05-16 16:01:59,973] Trial 1 finished with values: [0.6700134483952297, 0.04648306984789304] and parameters: {'max_depth': 3, 'eta': 0.141177003431302, 'subsample': 0.6499746050949483, 'colsample_bytree': 0.9446755407388036}.\n",
      "[I 2025-05-16 16:02:00,122] Trial 2 finished with values: [0.6999950985347683, 0.07904664231580338] and parameters: {'max_depth': 5, 'eta': 0.2777395711023195, 'subsample': 0.9386575421038579, 'colsample_bytree': 0.9435243725326872}.\n",
      "[I 2025-05-16 16:02:00,245] Trial 3 finished with values: [0.6721471174789313, 0.04367687122037644] and parameters: {'max_depth': 3, 'eta': 0.23164502704564707, 'subsample': 0.8006682426117124, 'colsample_bytree': 0.9034772603663249}.\n",
      "[I 2025-05-16 16:02:00,377] Trial 4 finished with values: [0.6771282315207102, 0.056026266216657815] and parameters: {'max_depth': 4, 'eta': 0.2716416095944616, 'subsample': 0.6576083476333754, 'colsample_bytree': 0.9272064915941362}.\n",
      "[I 2025-05-16 16:02:00,502] Trial 5 finished with values: [0.670005789855805, 0.04139179979052218] and parameters: {'max_depth': 3, 'eta': 0.24022163484158812, 'subsample': 0.7333375411772866, 'colsample_bytree': 0.8351629194667716}.\n",
      "[I 2025-05-16 16:02:00,613] Trial 6 finished with values: [0.6685721112755143, 0.04036848845311881] and parameters: {'max_depth': 3, 'eta': 0.22931088430289834, 'subsample': 0.771998007673763, 'colsample_bytree': 0.8719378381692618}.\n",
      "[I 2025-05-16 16:02:00,766] Trial 7 finished with values: [0.6628710945278204, 0.023658402751706664] and parameters: {'max_depth': 3, 'eta': 0.029662956597914125, 'subsample': 0.7008875060270816, 'colsample_bytree': 0.8589296412599632}.\n",
      "[I 2025-05-16 16:02:00,880] Trial 8 finished with values: [0.6778649830133595, 0.05960593736760946] and parameters: {'max_depth': 3, 'eta': 0.24063821114445472, 'subsample': 0.6940780395219488, 'colsample_bytree': 0.7813676289606933}.\n",
      "[I 2025-05-16 16:02:01,037] Trial 9 finished with values: [0.7299890023373862, 0.08361308858179946] and parameters: {'max_depth': 7, 'eta': 0.2603125412667588, 'subsample': 0.9770021796044449, 'colsample_bytree': 0.8957453244674893}.\n",
      "[I 2025-05-16 16:02:01,040] A new study created in memory with name: no-name-b790e63c-20a3-4919-90b7-53e8eb44b00c\n",
      "[I 2025-05-16 16:02:01,189] Trial 0 finished with values: [0.6978553026195268, 0.07054814123991131] and parameters: {'max_depth': 6, 'eta': 0.22358480340656156, 'subsample': 0.9707258797496143, 'colsample_bytree': 0.6583265057655502}.\n",
      "[I 2025-05-16 16:02:01,320] Trial 1 finished with values: [0.6821476382596122, 0.05460121613578094] and parameters: {'max_depth': 4, 'eta': 0.13466675873927414, 'subsample': 0.7771258797933301, 'colsample_bytree': 0.8023627961519223}.\n",
      "[I 2025-05-16 16:02:01,472] Trial 2 finished with values: [0.6964338777023157, 0.10351704825530121] and parameters: {'max_depth': 7, 'eta': 0.13824161580214628, 'subsample': 0.6356151567841593, 'colsample_bytree': 0.7850970695540974}.\n",
      "[I 2025-05-16 16:02:01,659] Trial 3 finished with values: [0.6842935610063933, 0.052967188756710006] and parameters: {'max_depth': 7, 'eta': 0.08643981491386264, 'subsample': 0.8113097252080697, 'colsample_bytree': 0.6534202011325647}.\n",
      "[I 2025-05-16 16:02:01,810] Trial 4 finished with values: [0.6957170384121704, 0.06343791422119303] and parameters: {'max_depth': 5, 'eta': 0.18847546733227824, 'subsample': 0.8567712799872205, 'colsample_bytree': 0.8310941400915194}.\n",
      "[I 2025-05-16 16:02:01,956] Trial 5 finished with values: [0.6999981619505381, 0.0663658938064821] and parameters: {'max_depth': 5, 'eta': 0.28893873825362987, 'subsample': 0.9245267626690358, 'colsample_bytree': 0.8224901570207798}.\n",
      "[I 2025-05-16 16:02:02,085] Trial 6 finished with values: [0.6821476382596122, 0.07503039819719151] and parameters: {'max_depth': 4, 'eta': 0.2223316769578673, 'subsample': 0.6451147103881137, 'colsample_bytree': 0.8581024618901674}.\n",
      "[I 2025-05-16 16:02:02,252] Trial 7 finished with values: [0.6957170384121704, 0.08201249960774755] and parameters: {'max_depth': 6, 'eta': 0.08515529339991017, 'subsample': 0.6462557651125683, 'colsample_bytree': 0.886411783739975}.\n",
      "[I 2025-05-16 16:02:02,378] Trial 8 finished with values: [0.6850042734649989, 0.055256828752612425] and parameters: {'max_depth': 4, 'eta': 0.15126284492215003, 'subsample': 0.8719674811185424, 'colsample_bytree': 0.7991441158020908}.\n",
      "[I 2025-05-16 16:02:02,517] Trial 9 finished with values: [0.6792848762226859, 0.04234868645185098] and parameters: {'max_depth': 4, 'eta': 0.16352536554751856, 'subsample': 0.9485445981200324, 'colsample_bytree': 0.9795437004078719}.\n",
      "[I 2025-05-16 16:02:02,520] A new study created in memory with name: no-name-dc86912f-3b2a-4ad2-a504-2e8fd3b0b1f0\n",
      "[I 2025-05-16 16:02:02,663] Trial 0 finished with values: [0.6921405005008685, 0.08281394056469474] and parameters: {'max_depth': 5, 'eta': 0.23467584402222533, 'subsample': 0.92218203056321, 'colsample_bytree': 0.9269725888943439}.\n",
      "[I 2025-05-16 16:02:02,851] Trial 1 finished with values: [0.6678568036932541, 0.05126989039098884] and parameters: {'max_depth': 4, 'eta': 0.022354706501187684, 'subsample': 0.9708376762264939, 'colsample_bytree': 0.9550358698940893}.\n",
      "[I 2025-05-16 16:02:02,978] Trial 2 finished with values: [0.6928588714988987, 0.08578334358751859] and parameters: {'max_depth': 5, 'eta': 0.2370024504730824, 'subsample': 0.8908304562770959, 'colsample_bytree': 0.6441476488427408}.\n",
      "[I 2025-05-16 16:02:03,278] Trial 3 finished with values: [0.6785634418088858, 0.050018389417371245] and parameters: {'max_depth': 5, 'eta': 0.010918843773944203, 'subsample': 0.9691638197364046, 'colsample_bytree': 0.8665589526218647}.\n",
      "[I 2025-05-16 16:02:03,406] Trial 4 finished with values: [0.6664369104839278, 0.021804459537988024] and parameters: {'max_depth': 3, 'eta': 0.11658419771775133, 'subsample': 0.6550842396824756, 'colsample_bytree': 0.7309983669934979}.\n",
      "[I 2025-05-16 16:02:03,547] Trial 5 finished with values: [0.6835721265925933, 0.0851891240835511] and parameters: {'max_depth': 5, 'eta': 0.25372865297640246, 'subsample': 0.9125508073859369, 'colsample_bytree': 0.6554820294887918}.\n",
      "[I 2025-05-16 16:02:03,741] Trial 6 finished with values: [0.6778649830133595, 0.0689215718661198] and parameters: {'max_depth': 6, 'eta': 0.044136479598823976, 'subsample': 0.8710535865860254, 'colsample_bytree': 0.6536027811910102}.\n",
      "[I 2025-05-16 16:02:03,921] Trial 7 finished with values: [0.7242742002187278, 0.06598969955572992] and parameters: {'max_depth': 7, 'eta': 0.2683630022028501, 'subsample': 0.9613193933407964, 'colsample_bytree': 0.8761668373809091}.\n",
      "[I 2025-05-16 16:02:04,144] Trial 8 finished with values: [0.6907160121678874, 0.07993955063934612] and parameters: {'max_depth': 7, 'eta': 0.08656777793105604, 'subsample': 0.6416473085205155, 'colsample_bytree': 0.7704534877383548}.\n",
      "[I 2025-05-16 16:02:04,302] Trial 9 finished with values: [0.6950063259535648, 0.06140283972969441] and parameters: {'max_depth': 5, 'eta': 0.15825516486368404, 'subsample': 0.828663846385171, 'colsample_bytree': 0.657386398543368}.\n"
     ]
    },
    {
     "name": "stdout",
     "output_type": "stream",
     "text": [
      "Pareto-optimal solutions:\n",
      "Params: {'alpha': 0.0, 'max_depth': 5, 'eta': 0.2217447019493943, 'subsample': 0.959513046438351, 'colsample_bytree': 0.8483196240565537}, Accuracy: 0.5000, DPD: 0.0000\n",
      "Params: {'alpha': 0.01, 'max_depth': 3, 'eta': 0.2756005520004207, 'subsample': 0.7708311507322702, 'colsample_bytree': 0.8032286404427678}, Accuracy: 0.5000, DPD: 0.0000\n",
      "Params: {'alpha': 0.22, 'max_depth': 6, 'eta': 0.2879250450156225, 'subsample': 0.8158830467969738, 'colsample_bytree': 0.6234818745924056}, Accuracy: 0.6850, DPD: 0.0061\n",
      "Params: {'alpha': 0.32, 'max_depth': 7, 'eta': 0.25383063022022256, 'subsample': 0.9531125614047744, 'colsample_bytree': 0.9212622856369936}, Accuracy: 0.6936, DPD: 0.0454\n",
      "Params: {'alpha': 0.57, 'max_depth': 4, 'eta': 0.27496164961308023, 'subsample': 0.8090403100440355, 'colsample_bytree': 0.6342261856314848}, Accuracy: 0.6857, DPD: 0.0358\n",
      "Params: {'alpha': 0.63, 'max_depth': 7, 'eta': 0.262919401904006, 'subsample': 0.7321925450514479, 'colsample_bytree': 0.9524637266642955}, Accuracy: 0.7057, DPD: 0.0589\n",
      "Params: {'alpha': 0.65, 'max_depth': 7, 'eta': 0.2560417063796337, 'subsample': 0.951382441431496, 'colsample_bytree': 0.8123675786160075}, Accuracy: 0.7093, DPD: 0.0610\n",
      "Params: {'alpha': 0.76, 'max_depth': 7, 'eta': 0.025338504601434324, 'subsample': 0.6341186889817269, 'colsample_bytree': 0.9239271286607224}, Accuracy: 0.6871, DPD: 0.0446\n",
      "Params: {'alpha': 0.79, 'max_depth': 7, 'eta': 0.2465562085558069, 'subsample': 0.8997542608767599, 'colsample_bytree': 0.6199814073606634}, Accuracy: 0.7086, DPD: 0.0594\n",
      "Params: {'alpha': 0.9, 'max_depth': 7, 'eta': 0.28347176420972936, 'subsample': 0.995361314553982, 'colsample_bytree': 0.875356877677558}, Accuracy: 0.7314, DPD: 0.0822\n",
      "Params: {'alpha': 0.91, 'max_depth': 7, 'eta': 0.1814592266122897, 'subsample': 0.7968206269632657, 'colsample_bytree': 0.8076194784472025}, Accuracy: 0.7036, DPD: 0.0455\n",
      "Params: {'alpha': 0.96, 'max_depth': 6, 'eta': 0.2783202511741934, 'subsample': 0.822804124604617, 'colsample_bytree': 0.6925807682988453}, Accuracy: 0.7114, DPD: 0.0660\n",
      "Params: {'alpha': 1.0, 'max_depth': 7, 'eta': 0.2683630022028501, 'subsample': 0.9613193933407964, 'colsample_bytree': 0.8761668373809091}, Accuracy: 0.7243, DPD: 0.0660\n"
     ]
    }
   ],
   "source": [
    "\n",
    "# Create and run Optuna study for multi-objective optimization\n",
    "\n",
    "def test_loss(a,dpd,accuracy):\n",
    "    return (1-a)*(1-dpd) + a*accuracy\n",
    "\n",
    "def is_pareto_efficient(acc, dpd):\n",
    "    n_points = len(acc)\n",
    "    is_efficient = [True] * n_points\n",
    "    for i in range(n_points):\n",
    "        for j in range(n_points):\n",
    "            if (acc[j] >= acc[i] and dpd[j] <= dpd[i]) and (acc[j] > acc[i] or dpd[j] < dpd[i]):\n",
    "                is_efficient[i] = False\n",
    "                break\n",
    "    return is_efficient\n",
    "#adaptive weights based on distance\n",
    "\n",
    "results = []\n",
    "count_alpha = 100\n",
    "trials_per_alpha = 10\n",
    "for i in range(count_alpha+1):\n",
    "    alpha = i/count_alpha\n",
    "    study = optuna.create_study(directions=['maximize', 'minimize'])\n",
    "    objective = create_objective_function(alpha=alpha)  # Example alpha value\n",
    "    study.optimize(objective, n_trials=trials_per_alpha)\n",
    "    # print(f\"Completed study for alpha={alpha}\")\n",
    "    max_val = 0\n",
    "    for trial in study.best_trials:\n",
    "        val = test_loss(alpha,trial.values[1],trial.values[0])\n",
    "        if val > max_val:\n",
    "            max_val = val\n",
    "            best_trial = trial\n",
    "    results.append({\n",
    "        'accuracy': best_trial.values[0],\n",
    "        'dpd': best_trial.values[1],\n",
    "        'alpha': alpha,\n",
    "        'params': best_trial.user_attrs['params']\n",
    "    })\n",
    "\n",
    "acc = [res['accuracy'] for res in results]\n",
    "dpd = [res['dpd'] for res in results]\n",
    "is_efficient = is_pareto_efficient(acc, dpd)\n",
    "# Filter results to only include Pareto-optimal solutions\n",
    "results = [res for res, efficient in zip(results, is_efficient) if efficient]\n",
    "    \n",
    "\n",
    "# Print summary of Pareto-optimal results\n",
    "print(\"Pareto-optimal solutions:\")\n",
    "for res in results:\n",
    "    print(f\"Params: {res['params']}, Accuracy: {res['accuracy']:.4f}, DPD: {res['dpd']:.4f}\")\n",
    "\n",
    "# Prepare data for plotting\n",
    "plot_df = pd.DataFrame({\n",
    "    'DPD': [res['dpd'] for res in results],\n",
    "    'Accuracy': [res['accuracy'] for res in results],\n",
    "    'alpha': [res['alpha'] for res in results]\n",
    "})\n",
    "\n"
   ]
  },
  {
   "cell_type": "code",
   "execution_count": 5,
   "id": "61fd02a8",
   "metadata": {},
   "outputs": [
    {
     "data": {
      "application/vnd.plotly.v1+json": {
       "config": {
        "plotlyServerURL": "https://plot.ly"
       },
       "data": [
        {
         "customdata": {
          "bdata": "AAAAAAAAAAB7FK5H4XqEPylcj8L1KMw/exSuR+F61D89CtejcD3iPylcj8L1KOQ/zczMzMzM5D9SuB6F61HoP0jhehSuR+k/zczMzMzM7D8fhetRuB7tP7gehetRuO4/AAAAAAAA8D8=",
          "dtype": "f8",
          "shape": "13, 1"
         },
         "hovertemplate": "DPD=%{x}<br>Accuracy=%{y}<br>alpha=%{marker.color}<extra></extra>",
         "legendgroup": "",
         "marker": {
          "color": {
           "bdata": "AAAAAAAAAAB7FK5H4XqEPylcj8L1KMw/exSuR+F61D89CtejcD3iPylcj8L1KOQ/zczMzMzM5D9SuB6F61HoP0jhehSuR+k/zczMzMzM7D8fhetRuB7tP7gehetRuO4/AAAAAAAA8D8=",
           "dtype": "f8"
          },
          "coloraxis": "coloraxis",
          "line": {
           "width": 0
          },
          "symbol": "circle"
         },
         "mode": "markers",
         "name": "",
         "orientation": "v",
         "showlegend": false,
         "type": "scatter",
         "x": {
          "bdata": "AAAAAAAAAAAAAAAAAAAAAADpA2d313g/HSJ4wPxCpz+NfGzLXlWiP+2/9BxDJa4/jQOpBgY+rz+94NhrgNGmP/3S8xKIZ64/z9bLeVkNtT81pDRve0enP+jpjh4v5LA/RPh2cbPksD8=",
          "dtype": "f8"
         },
         "xaxis": "x",
         "y": {
          "bdata": "nlBR2QwA4D+eUFHZDADgPywxVu6a6+U/xSQWNK8x5j8TDYOdcPHlP/v2TCQwleY/zerV/GKy5j+THDSPFf3lPw9j/YOQrOY/lQLDidBn5z+VC2+DtYPmP78f/7z9w+Y/7dRoFkEt5z8=",
          "dtype": "f8"
         },
         "yaxis": "y"
        }
       ],
       "layout": {
        "coloraxis": {
         "colorbar": {
          "title": {
           "text": "alpha"
          }
         },
         "colorscale": [
          [
           0,
           "#440154"
          ],
          [
           0.1111111111111111,
           "#482878"
          ],
          [
           0.2222222222222222,
           "#3e4989"
          ],
          [
           0.3333333333333333,
           "#31688e"
          ],
          [
           0.4444444444444444,
           "#26828e"
          ],
          [
           0.5555555555555556,
           "#1f9e89"
          ],
          [
           0.6666666666666666,
           "#35b779"
          ],
          [
           0.7777777777777778,
           "#6ece58"
          ],
          [
           0.8888888888888888,
           "#b5de2b"
          ],
          [
           1,
           "#fde725"
          ]
         ]
        },
        "legend": {
         "tracegroupgap": 0
        },
        "template": {
         "data": {
          "bar": [
           {
            "error_x": {
             "color": "#2a3f5f"
            },
            "error_y": {
             "color": "#2a3f5f"
            },
            "marker": {
             "line": {
              "color": "#E5ECF6",
              "width": 0.5
             },
             "pattern": {
              "fillmode": "overlay",
              "size": 10,
              "solidity": 0.2
             }
            },
            "type": "bar"
           }
          ],
          "barpolar": [
           {
            "marker": {
             "line": {
              "color": "#E5ECF6",
              "width": 0.5
             },
             "pattern": {
              "fillmode": "overlay",
              "size": 10,
              "solidity": 0.2
             }
            },
            "type": "barpolar"
           }
          ],
          "carpet": [
           {
            "aaxis": {
             "endlinecolor": "#2a3f5f",
             "gridcolor": "white",
             "linecolor": "white",
             "minorgridcolor": "white",
             "startlinecolor": "#2a3f5f"
            },
            "baxis": {
             "endlinecolor": "#2a3f5f",
             "gridcolor": "white",
             "linecolor": "white",
             "minorgridcolor": "white",
             "startlinecolor": "#2a3f5f"
            },
            "type": "carpet"
           }
          ],
          "choropleth": [
           {
            "colorbar": {
             "outlinewidth": 0,
             "ticks": ""
            },
            "type": "choropleth"
           }
          ],
          "contour": [
           {
            "colorbar": {
             "outlinewidth": 0,
             "ticks": ""
            },
            "colorscale": [
             [
              0,
              "#0d0887"
             ],
             [
              0.1111111111111111,
              "#46039f"
             ],
             [
              0.2222222222222222,
              "#7201a8"
             ],
             [
              0.3333333333333333,
              "#9c179e"
             ],
             [
              0.4444444444444444,
              "#bd3786"
             ],
             [
              0.5555555555555556,
              "#d8576b"
             ],
             [
              0.6666666666666666,
              "#ed7953"
             ],
             [
              0.7777777777777778,
              "#fb9f3a"
             ],
             [
              0.8888888888888888,
              "#fdca26"
             ],
             [
              1,
              "#f0f921"
             ]
            ],
            "type": "contour"
           }
          ],
          "contourcarpet": [
           {
            "colorbar": {
             "outlinewidth": 0,
             "ticks": ""
            },
            "type": "contourcarpet"
           }
          ],
          "heatmap": [
           {
            "colorbar": {
             "outlinewidth": 0,
             "ticks": ""
            },
            "colorscale": [
             [
              0,
              "#0d0887"
             ],
             [
              0.1111111111111111,
              "#46039f"
             ],
             [
              0.2222222222222222,
              "#7201a8"
             ],
             [
              0.3333333333333333,
              "#9c179e"
             ],
             [
              0.4444444444444444,
              "#bd3786"
             ],
             [
              0.5555555555555556,
              "#d8576b"
             ],
             [
              0.6666666666666666,
              "#ed7953"
             ],
             [
              0.7777777777777778,
              "#fb9f3a"
             ],
             [
              0.8888888888888888,
              "#fdca26"
             ],
             [
              1,
              "#f0f921"
             ]
            ],
            "type": "heatmap"
           }
          ],
          "histogram": [
           {
            "marker": {
             "pattern": {
              "fillmode": "overlay",
              "size": 10,
              "solidity": 0.2
             }
            },
            "type": "histogram"
           }
          ],
          "histogram2d": [
           {
            "colorbar": {
             "outlinewidth": 0,
             "ticks": ""
            },
            "colorscale": [
             [
              0,
              "#0d0887"
             ],
             [
              0.1111111111111111,
              "#46039f"
             ],
             [
              0.2222222222222222,
              "#7201a8"
             ],
             [
              0.3333333333333333,
              "#9c179e"
             ],
             [
              0.4444444444444444,
              "#bd3786"
             ],
             [
              0.5555555555555556,
              "#d8576b"
             ],
             [
              0.6666666666666666,
              "#ed7953"
             ],
             [
              0.7777777777777778,
              "#fb9f3a"
             ],
             [
              0.8888888888888888,
              "#fdca26"
             ],
             [
              1,
              "#f0f921"
             ]
            ],
            "type": "histogram2d"
           }
          ],
          "histogram2dcontour": [
           {
            "colorbar": {
             "outlinewidth": 0,
             "ticks": ""
            },
            "colorscale": [
             [
              0,
              "#0d0887"
             ],
             [
              0.1111111111111111,
              "#46039f"
             ],
             [
              0.2222222222222222,
              "#7201a8"
             ],
             [
              0.3333333333333333,
              "#9c179e"
             ],
             [
              0.4444444444444444,
              "#bd3786"
             ],
             [
              0.5555555555555556,
              "#d8576b"
             ],
             [
              0.6666666666666666,
              "#ed7953"
             ],
             [
              0.7777777777777778,
              "#fb9f3a"
             ],
             [
              0.8888888888888888,
              "#fdca26"
             ],
             [
              1,
              "#f0f921"
             ]
            ],
            "type": "histogram2dcontour"
           }
          ],
          "mesh3d": [
           {
            "colorbar": {
             "outlinewidth": 0,
             "ticks": ""
            },
            "type": "mesh3d"
           }
          ],
          "parcoords": [
           {
            "line": {
             "colorbar": {
              "outlinewidth": 0,
              "ticks": ""
             }
            },
            "type": "parcoords"
           }
          ],
          "pie": [
           {
            "automargin": true,
            "type": "pie"
           }
          ],
          "scatter": [
           {
            "fillpattern": {
             "fillmode": "overlay",
             "size": 10,
             "solidity": 0.2
            },
            "type": "scatter"
           }
          ],
          "scatter3d": [
           {
            "line": {
             "colorbar": {
              "outlinewidth": 0,
              "ticks": ""
             }
            },
            "marker": {
             "colorbar": {
              "outlinewidth": 0,
              "ticks": ""
             }
            },
            "type": "scatter3d"
           }
          ],
          "scattercarpet": [
           {
            "marker": {
             "colorbar": {
              "outlinewidth": 0,
              "ticks": ""
             }
            },
            "type": "scattercarpet"
           }
          ],
          "scattergeo": [
           {
            "marker": {
             "colorbar": {
              "outlinewidth": 0,
              "ticks": ""
             }
            },
            "type": "scattergeo"
           }
          ],
          "scattergl": [
           {
            "marker": {
             "colorbar": {
              "outlinewidth": 0,
              "ticks": ""
             }
            },
            "type": "scattergl"
           }
          ],
          "scattermap": [
           {
            "marker": {
             "colorbar": {
              "outlinewidth": 0,
              "ticks": ""
             }
            },
            "type": "scattermap"
           }
          ],
          "scattermapbox": [
           {
            "marker": {
             "colorbar": {
              "outlinewidth": 0,
              "ticks": ""
             }
            },
            "type": "scattermapbox"
           }
          ],
          "scatterpolar": [
           {
            "marker": {
             "colorbar": {
              "outlinewidth": 0,
              "ticks": ""
             }
            },
            "type": "scatterpolar"
           }
          ],
          "scatterpolargl": [
           {
            "marker": {
             "colorbar": {
              "outlinewidth": 0,
              "ticks": ""
             }
            },
            "type": "scatterpolargl"
           }
          ],
          "scatterternary": [
           {
            "marker": {
             "colorbar": {
              "outlinewidth": 0,
              "ticks": ""
             }
            },
            "type": "scatterternary"
           }
          ],
          "surface": [
           {
            "colorbar": {
             "outlinewidth": 0,
             "ticks": ""
            },
            "colorscale": [
             [
              0,
              "#0d0887"
             ],
             [
              0.1111111111111111,
              "#46039f"
             ],
             [
              0.2222222222222222,
              "#7201a8"
             ],
             [
              0.3333333333333333,
              "#9c179e"
             ],
             [
              0.4444444444444444,
              "#bd3786"
             ],
             [
              0.5555555555555556,
              "#d8576b"
             ],
             [
              0.6666666666666666,
              "#ed7953"
             ],
             [
              0.7777777777777778,
              "#fb9f3a"
             ],
             [
              0.8888888888888888,
              "#fdca26"
             ],
             [
              1,
              "#f0f921"
             ]
            ],
            "type": "surface"
           }
          ],
          "table": [
           {
            "cells": {
             "fill": {
              "color": "#EBF0F8"
             },
             "line": {
              "color": "white"
             }
            },
            "header": {
             "fill": {
              "color": "#C8D4E3"
             },
             "line": {
              "color": "white"
             }
            },
            "type": "table"
           }
          ]
         },
         "layout": {
          "annotationdefaults": {
           "arrowcolor": "#2a3f5f",
           "arrowhead": 0,
           "arrowwidth": 1
          },
          "autotypenumbers": "strict",
          "coloraxis": {
           "colorbar": {
            "outlinewidth": 0,
            "ticks": ""
           }
          },
          "colorscale": {
           "diverging": [
            [
             0,
             "#8e0152"
            ],
            [
             0.1,
             "#c51b7d"
            ],
            [
             0.2,
             "#de77ae"
            ],
            [
             0.3,
             "#f1b6da"
            ],
            [
             0.4,
             "#fde0ef"
            ],
            [
             0.5,
             "#f7f7f7"
            ],
            [
             0.6,
             "#e6f5d0"
            ],
            [
             0.7,
             "#b8e186"
            ],
            [
             0.8,
             "#7fbc41"
            ],
            [
             0.9,
             "#4d9221"
            ],
            [
             1,
             "#276419"
            ]
           ],
           "sequential": [
            [
             0,
             "#0d0887"
            ],
            [
             0.1111111111111111,
             "#46039f"
            ],
            [
             0.2222222222222222,
             "#7201a8"
            ],
            [
             0.3333333333333333,
             "#9c179e"
            ],
            [
             0.4444444444444444,
             "#bd3786"
            ],
            [
             0.5555555555555556,
             "#d8576b"
            ],
            [
             0.6666666666666666,
             "#ed7953"
            ],
            [
             0.7777777777777778,
             "#fb9f3a"
            ],
            [
             0.8888888888888888,
             "#fdca26"
            ],
            [
             1,
             "#f0f921"
            ]
           ],
           "sequentialminus": [
            [
             0,
             "#0d0887"
            ],
            [
             0.1111111111111111,
             "#46039f"
            ],
            [
             0.2222222222222222,
             "#7201a8"
            ],
            [
             0.3333333333333333,
             "#9c179e"
            ],
            [
             0.4444444444444444,
             "#bd3786"
            ],
            [
             0.5555555555555556,
             "#d8576b"
            ],
            [
             0.6666666666666666,
             "#ed7953"
            ],
            [
             0.7777777777777778,
             "#fb9f3a"
            ],
            [
             0.8888888888888888,
             "#fdca26"
            ],
            [
             1,
             "#f0f921"
            ]
           ]
          },
          "colorway": [
           "#636efa",
           "#EF553B",
           "#00cc96",
           "#ab63fa",
           "#FFA15A",
           "#19d3f3",
           "#FF6692",
           "#B6E880",
           "#FF97FF",
           "#FECB52"
          ],
          "font": {
           "color": "#2a3f5f"
          },
          "geo": {
           "bgcolor": "white",
           "lakecolor": "white",
           "landcolor": "#E5ECF6",
           "showlakes": true,
           "showland": true,
           "subunitcolor": "white"
          },
          "hoverlabel": {
           "align": "left"
          },
          "hovermode": "closest",
          "mapbox": {
           "style": "light"
          },
          "paper_bgcolor": "white",
          "plot_bgcolor": "#E5ECF6",
          "polar": {
           "angularaxis": {
            "gridcolor": "white",
            "linecolor": "white",
            "ticks": ""
           },
           "bgcolor": "#E5ECF6",
           "radialaxis": {
            "gridcolor": "white",
            "linecolor": "white",
            "ticks": ""
           }
          },
          "scene": {
           "xaxis": {
            "backgroundcolor": "#E5ECF6",
            "gridcolor": "white",
            "gridwidth": 2,
            "linecolor": "white",
            "showbackground": true,
            "ticks": "",
            "zerolinecolor": "white"
           },
           "yaxis": {
            "backgroundcolor": "#E5ECF6",
            "gridcolor": "white",
            "gridwidth": 2,
            "linecolor": "white",
            "showbackground": true,
            "ticks": "",
            "zerolinecolor": "white"
           },
           "zaxis": {
            "backgroundcolor": "#E5ECF6",
            "gridcolor": "white",
            "gridwidth": 2,
            "linecolor": "white",
            "showbackground": true,
            "ticks": "",
            "zerolinecolor": "white"
           }
          },
          "shapedefaults": {
           "line": {
            "color": "#2a3f5f"
           }
          },
          "ternary": {
           "aaxis": {
            "gridcolor": "white",
            "linecolor": "white",
            "ticks": ""
           },
           "baxis": {
            "gridcolor": "white",
            "linecolor": "white",
            "ticks": ""
           },
           "bgcolor": "#E5ECF6",
           "caxis": {
            "gridcolor": "white",
            "linecolor": "white",
            "ticks": ""
           }
          },
          "title": {
           "x": 0.05
          },
          "xaxis": {
           "automargin": true,
           "gridcolor": "white",
           "linecolor": "white",
           "ticks": "",
           "title": {
            "standoff": 15
           },
           "zerolinecolor": "white",
           "zerolinewidth": 2
          },
          "yaxis": {
           "automargin": true,
           "gridcolor": "white",
           "linecolor": "white",
           "ticks": "",
           "title": {
            "standoff": 15
           },
           "zerolinecolor": "white",
           "zerolinewidth": 2
          }
         }
        },
        "title": {
         "text": "Pareto Front: DPD vs. Accuracy"
        },
        "xaxis": {
         "anchor": "y",
         "domain": [
          0,
          1
         ],
         "title": {
          "text": "DPD"
         }
        },
        "yaxis": {
         "anchor": "x",
         "domain": [
          0,
          1
         ],
         "title": {
          "text": "Accuracy"
         }
        }
       }
      }
     },
     "metadata": {},
     "output_type": "display_data"
    }
   ],
   "source": [
    "# Create interactive Plotly plot\n",
    "fig = px.scatter(\n",
    "    plot_df,\n",
    "    x='DPD',\n",
    "    y='Accuracy',\n",
    "    color='alpha',\n",
    "    color_continuous_scale='Viridis',\n",
    "    size_max=15,\n",
    "    hover_data={'alpha': True, 'DPD': True, 'Accuracy': True},\n",
    "    title='Pareto Front: DPD vs. Accuracy'\n",
    ")\n",
    "fig.update_traces(marker=dict(line_width=0))\n",
    "fig.show()"
   ]
  },
  {
   "cell_type": "code",
   "execution_count": null,
   "id": "e568ef11",
   "metadata": {},
   "outputs": [
    {
     "name": "stderr",
     "output_type": "stream",
     "text": [
      "[I 2025-05-16 11:13:19,261] A new study created in memory with name: no-name-9f3b9129-059c-4f8e-a533-5ccb0b9fddc4\n",
      "[I 2025-05-16 11:13:19,357] Trial 0 finished with values: [0.5000061268315397, 0.0] and parameters: {'max_depth': 6, 'eta': 0.13110633265877236, 'subsample': 0.8125360197138709, 'colsample_bytree': 0.7772282448273781}.\n",
      "[I 2025-05-16 11:13:19,460] Trial 1 finished with values: [0.5000061268315397, 0.0] and parameters: {'max_depth': 7, 'eta': 0.04040577032334644, 'subsample': 0.7488904515273311, 'colsample_bytree': 0.9586222733019236}.\n",
      "[I 2025-05-16 11:13:19,567] Trial 2 finished with values: [0.5000061268315397, 0.0] and parameters: {'max_depth': 3, 'eta': 0.14583696499170543, 'subsample': 0.795810321715773, 'colsample_bytree': 0.952224552097848}.\n",
      "[I 2025-05-16 11:13:19,666] Trial 3 finished with values: [0.5000061268315397, 0.0] and parameters: {'max_depth': 7, 'eta': 0.13623371217287475, 'subsample': 0.6081598975377428, 'colsample_bytree': 0.7401898808501025}.\n",
      "[I 2025-05-16 11:13:19,758] Trial 4 finished with values: [0.5000061268315397, 0.0] and parameters: {'max_depth': 3, 'eta': 0.0959917411264889, 'subsample': 0.9128251190698545, 'colsample_bytree': 0.8369454153046018}.\n",
      "[I 2025-05-16 11:13:19,843] Trial 5 finished with values: [0.5000061268315397, 0.0] and parameters: {'max_depth': 6, 'eta': 0.22424167404620912, 'subsample': 0.9198106951123175, 'colsample_bytree': 0.7872566729066481}.\n",
      "[I 2025-05-16 11:13:19,928] Trial 6 finished with values: [0.5000061268315397, 0.0] and parameters: {'max_depth': 7, 'eta': 0.18933701188500826, 'subsample': 0.7090350146483897, 'colsample_bytree': 0.7909966821983918}.\n",
      "[I 2025-05-16 11:13:20,127] Trial 7 finished with values: [0.5000061268315397, 0.0] and parameters: {'max_depth': 7, 'eta': 0.10839008696211871, 'subsample': 0.6062492672036225, 'colsample_bytree': 0.67499906056014}.\n",
      "[I 2025-05-16 11:13:20,209] Trial 8 finished with values: [0.5000061268315397, 0.0] and parameters: {'max_depth': 3, 'eta': 0.19546745497188867, 'subsample': 0.6133203840679782, 'colsample_bytree': 0.9271056575912864}.\n",
      "[I 2025-05-16 11:13:20,303] Trial 9 finished with values: [0.5000061268315397, 0.0] and parameters: {'max_depth': 7, 'eta': 0.2132539032056197, 'subsample': 0.906981176417938, 'colsample_bytree': 0.9454018690421602}.\n",
      "[I 2025-05-16 11:13:20,386] Trial 10 finished with values: [0.5000061268315397, 0.0] and parameters: {'max_depth': 3, 'eta': 0.12906396473097506, 'subsample': 0.9874416576877498, 'colsample_bytree': 0.7575433329940349}.\n",
      "[I 2025-05-16 11:13:20,476] Trial 11 finished with values: [0.5000061268315397, 0.0] and parameters: {'max_depth': 3, 'eta': 0.22660423086741363, 'subsample': 0.8806054628511524, 'colsample_bytree': 0.9580218656133528}.\n",
      "[I 2025-05-16 11:13:20,576] Trial 12 finished with values: [0.5000061268315397, 0.0] and parameters: {'max_depth': 3, 'eta': 0.036426707649779094, 'subsample': 0.9960821328500439, 'colsample_bytree': 0.8409385676565624}.\n",
      "[I 2025-05-16 11:13:20,673] Trial 13 finished with values: [0.5000061268315397, 0.0] and parameters: {'max_depth': 4, 'eta': 0.26082482525621464, 'subsample': 0.7268946824132374, 'colsample_bytree': 0.7332640915655357}.\n",
      "[I 2025-05-16 11:13:20,777] Trial 14 finished with values: [0.5000061268315397, 0.0] and parameters: {'max_depth': 5, 'eta': 0.1057741538775326, 'subsample': 0.8223984455016314, 'colsample_bytree': 0.9270840822581651}.\n",
      "[I 2025-05-16 11:13:20,897] Trial 15 finished with values: [0.5000061268315397, 0.0] and parameters: {'max_depth': 7, 'eta': 0.23148176707002235, 'subsample': 0.6233528295822953, 'colsample_bytree': 0.808260211837282}.\n",
      "[I 2025-05-16 11:13:21,029] Trial 16 finished with values: [0.5000061268315397, 0.0] and parameters: {'max_depth': 3, 'eta': 0.06142350605190171, 'subsample': 0.604058523366745, 'colsample_bytree': 0.7703672459342897}.\n",
      "[I 2025-05-16 11:13:21,142] Trial 17 finished with values: [0.5000061268315397, 0.0] and parameters: {'max_depth': 3, 'eta': 0.12666072123493963, 'subsample': 0.9204843412807029, 'colsample_bytree': 0.7148576024950245}.\n",
      "[I 2025-05-16 11:13:21,259] Trial 18 finished with values: [0.5000061268315397, 0.0] and parameters: {'max_depth': 7, 'eta': 0.17613381694021335, 'subsample': 0.9599547938843999, 'colsample_bytree': 0.6439742175164138}.\n",
      "[I 2025-05-16 11:13:21,365] Trial 19 finished with values: [0.5000061268315397, 0.0] and parameters: {'max_depth': 6, 'eta': 0.2938727264956961, 'subsample': 0.6220664599844689, 'colsample_bytree': 0.6633276395491615}.\n",
      "[I 2025-05-16 11:13:21,468] Trial 20 finished with values: [0.5000061268315397, 0.0] and parameters: {'max_depth': 7, 'eta': 0.0376461507814805, 'subsample': 0.6667030158339952, 'colsample_bytree': 0.8220264702715794}.\n",
      "[I 2025-05-16 11:13:21,565] Trial 21 finished with values: [0.5000061268315397, 0.0] and parameters: {'max_depth': 3, 'eta': 0.06245468766264297, 'subsample': 0.9290297945352692, 'colsample_bytree': 0.9020953941753552}.\n",
      "[I 2025-05-16 11:13:21,660] Trial 22 finished with values: [0.5000061268315397, 0.0] and parameters: {'max_depth': 6, 'eta': 0.21491138970051382, 'subsample': 0.858432487262999, 'colsample_bytree': 0.8282084304306881}.\n",
      "[I 2025-05-16 11:13:21,783] Trial 23 finished with values: [0.5000061268315397, 0.0] and parameters: {'max_depth': 5, 'eta': 0.19005053493429705, 'subsample': 0.8173918130086976, 'colsample_bytree': 0.9210630193561649}.\n",
      "[I 2025-05-16 11:13:21,919] Trial 24 finished with values: [0.5000061268315397, 0.0] and parameters: {'max_depth': 7, 'eta': 0.01119600999576872, 'subsample': 0.7617120988414159, 'colsample_bytree': 0.7042497221349366}.\n",
      "[I 2025-05-16 11:13:22,036] Trial 25 finished with values: [0.5000061268315397, 0.0] and parameters: {'max_depth': 7, 'eta': 0.2888007984636503, 'subsample': 0.850473348825781, 'colsample_bytree': 0.6717056657039365}.\n",
      "[I 2025-05-16 11:13:22,163] Trial 26 finished with values: [0.5000061268315397, 0.0] and parameters: {'max_depth': 7, 'eta': 0.28947961800148964, 'subsample': 0.6050741833101141, 'colsample_bytree': 0.6617966454117855}.\n",
      "[I 2025-05-16 11:13:22,292] Trial 27 finished with values: [0.5000061268315397, 0.0] and parameters: {'max_depth': 7, 'eta': 0.017120063290159956, 'subsample': 0.6719825074309814, 'colsample_bytree': 0.6321937037167611}.\n",
      "[I 2025-05-16 11:13:22,443] Trial 28 finished with values: [0.5000061268315397, 0.0] and parameters: {'max_depth': 7, 'eta': 0.05184949213820416, 'subsample': 0.9955187442595385, 'colsample_bytree': 0.6147433305235683}.\n",
      "[I 2025-05-16 11:13:22,624] Trial 29 finished with values: [0.5000061268315397, 0.0] and parameters: {'max_depth': 4, 'eta': 0.21971204803696398, 'subsample': 0.656871315277808, 'colsample_bytree': 0.8350955443684283}.\n",
      "[I 2025-05-16 11:13:22,756] Trial 30 finished with values: [0.5000061268315397, 0.0] and parameters: {'max_depth': 7, 'eta': 0.04013490226766575, 'subsample': 0.8130250807118006, 'colsample_bytree': 0.6278451479680982}.\n",
      "[I 2025-05-16 11:13:22,883] Trial 31 finished with values: [0.5000061268315397, 0.0] and parameters: {'max_depth': 3, 'eta': 0.1784411108110106, 'subsample': 0.920251047167232, 'colsample_bytree': 0.9690806164872758}.\n",
      "[I 2025-05-16 11:13:23,034] Trial 32 finished with values: [0.5000061268315397, 0.0] and parameters: {'max_depth': 3, 'eta': 0.16333097017483525, 'subsample': 0.858098691277928, 'colsample_bytree': 0.9526519539345447}.\n",
      "[I 2025-05-16 11:13:23,151] Trial 33 finished with values: [0.5000061268315397, 0.0] and parameters: {'max_depth': 7, 'eta': 0.04225675618921111, 'subsample': 0.6253215141070552, 'colsample_bytree': 0.8283085410069858}.\n",
      "[I 2025-05-16 11:13:23,254] Trial 34 finished with values: [0.5000061268315397, 0.0] and parameters: {'max_depth': 4, 'eta': 0.19765523415896555, 'subsample': 0.794755381221268, 'colsample_bytree': 0.7884141001046348}.\n",
      "[I 2025-05-16 11:13:23,356] Trial 35 finished with values: [0.5000061268315397, 0.0] and parameters: {'max_depth': 7, 'eta': 0.06088323709505073, 'subsample': 0.9999841855269452, 'colsample_bytree': 0.6548020832249793}.\n",
      "[I 2025-05-16 11:13:23,462] Trial 36 finished with values: [0.5000061268315397, 0.0] and parameters: {'max_depth': 3, 'eta': 0.2777506863928288, 'subsample': 0.729310465224261, 'colsample_bytree': 0.7334063531554675}.\n",
      "[I 2025-05-16 11:13:23,572] Trial 37 finished with values: [0.5000061268315397, 0.0] and parameters: {'max_depth': 5, 'eta': 0.07637072552036157, 'subsample': 0.755750846038204, 'colsample_bytree': 0.7090166522239916}.\n",
      "[I 2025-05-16 11:13:23,686] Trial 38 finished with values: [0.5000061268315397, 0.0] and parameters: {'max_depth': 4, 'eta': 0.19208101686264786, 'subsample': 0.6605718721645283, 'colsample_bytree': 0.9328349104506752}.\n",
      "[I 2025-05-16 11:13:23,801] Trial 39 finished with values: [0.5000061268315397, 0.0] and parameters: {'max_depth': 6, 'eta': 0.13881976841098756, 'subsample': 0.826660764741007, 'colsample_bytree': 0.9755956936463092}.\n",
      "[I 2025-05-16 11:13:23,923] Trial 40 finished with values: [0.5000061268315397, 0.0] and parameters: {'max_depth': 5, 'eta': 0.11974132837542187, 'subsample': 0.8791609717728617, 'colsample_bytree': 0.7641251279409593}.\n",
      "[I 2025-05-16 11:13:24,017] Trial 41 finished with values: [0.5000061268315397, 0.0] and parameters: {'max_depth': 3, 'eta': 0.02175777699664938, 'subsample': 0.8244752853303078, 'colsample_bytree': 0.7099310542258169}.\n",
      "[I 2025-05-16 11:13:24,097] Trial 42 finished with values: [0.5000061268315397, 0.0] and parameters: {'max_depth': 4, 'eta': 0.07354243550289875, 'subsample': 0.8803865842052261, 'colsample_bytree': 0.9886066640705948}.\n",
      "[I 2025-05-16 11:13:24,184] Trial 43 finished with values: [0.5000061268315397, 0.0] and parameters: {'max_depth': 7, 'eta': 0.048399634394429215, 'subsample': 0.7532964491410955, 'colsample_bytree': 0.8595030110543818}.\n",
      "[I 2025-05-16 11:13:24,284] Trial 44 finished with values: [0.5000061268315397, 0.0] and parameters: {'max_depth': 6, 'eta': 0.23315589381419954, 'subsample': 0.9203066493008725, 'colsample_bytree': 0.6956935138368935}.\n",
      "[I 2025-05-16 11:13:24,387] Trial 45 finished with values: [0.5000061268315397, 0.0] and parameters: {'max_depth': 4, 'eta': 0.2802381561777241, 'subsample': 0.676230623765613, 'colsample_bytree': 0.6641618652596558}.\n",
      "[I 2025-05-16 11:13:24,496] Trial 46 finished with values: [0.5000061268315397, 0.0] and parameters: {'max_depth': 3, 'eta': 0.024865799025914827, 'subsample': 0.7387708437151338, 'colsample_bytree': 0.9025635036291877}.\n",
      "[I 2025-05-16 11:13:24,590] Trial 47 finished with values: [0.5000061268315397, 0.0] and parameters: {'max_depth': 7, 'eta': 0.18571005190126746, 'subsample': 0.8575240574782451, 'colsample_bytree': 0.8805452459682279}.\n",
      "[I 2025-05-16 11:13:24,670] Trial 48 finished with values: [0.5000061268315397, 0.0] and parameters: {'max_depth': 5, 'eta': 0.029217916995887196, 'subsample': 0.9694989284951925, 'colsample_bytree': 0.9278692040243095}.\n",
      "[I 2025-05-16 11:13:24,752] Trial 49 finished with values: [0.5000061268315397, 0.0] and parameters: {'max_depth': 7, 'eta': 0.19113623127629328, 'subsample': 0.6365199025493765, 'colsample_bytree': 0.7635811371627721}.\n",
      "[I 2025-05-16 11:13:24,767] A new study created in memory with name: no-name-f938fea0-33d3-4a3e-8901-9db13b1726f3\n",
      "[I 2025-05-16 11:13:24,903] Trial 0 finished with values: [0.6942894866634194, 0.05745854534267054] and parameters: {'max_depth': 5, 'eta': 0.12845431493957682, 'subsample': 0.8568310898050686, 'colsample_bytree': 0.8856383152240106}.\n"
     ]
    },
    {
     "name": "stdout",
     "output_type": "stream",
     "text": [
      "Completed study for alpha=0\n"
     ]
    },
    {
     "name": "stderr",
     "output_type": "stream",
     "text": [
      "[I 2025-05-16 11:13:25,117] Trial 1 finished with values: [0.7021379578657795, 0.06314616230362322] and parameters: {'max_depth': 6, 'eta': 0.26589168923854556, 'subsample': 0.7897562282613623, 'colsample_bytree': 0.9600111848863682}.\n",
      "[I 2025-05-16 11:13:25,260] Trial 2 finished with values: [0.6764374312646085, 0.045053618695635365] and parameters: {'max_depth': 4, 'eta': 0.06306784136966327, 'subsample': 0.74798241185463, 'colsample_bytree': 0.6551612112285078}.\n",
      "[I 2025-05-16 11:13:25,425] Trial 3 finished with values: [0.6978491757879871, 0.08431029941171075] and parameters: {'max_depth': 6, 'eta': 0.18242492595888532, 'subsample': 0.968494180092288, 'colsample_bytree': 0.9277864888887004}.\n",
      "[I 2025-05-16 11:13:25,594] Trial 4 finished with values: [0.692148159040293, 0.04711257309011945] and parameters: {'max_depth': 6, 'eta': 0.15633414111361582, 'subsample': 0.7677602996238255, 'colsample_bytree': 0.6515532718065272}.\n",
      "[I 2025-05-16 11:13:25,738] Trial 5 finished with values: [0.6942787647082249, 0.07894177068480368] and parameters: {'max_depth': 6, 'eta': 0.2393890965147139, 'subsample': 0.7193507331517323, 'colsample_bytree': 0.6361057705809968}.\n",
      "[I 2025-05-16 11:13:25,881] Trial 6 finished with values: [0.6985629516623626, 0.07841107118378407] and parameters: {'max_depth': 5, 'eta': 0.21107384611314364, 'subsample': 0.9568448309229832, 'colsample_bytree': 0.9476084082464159}.\n",
      "[I 2025-05-16 11:13:26,026] Trial 7 finished with values: [0.6628726262357053, 0.025176296558973837] and parameters: {'max_depth': 3, 'eta': 0.040178530383640956, 'subsample': 0.9207272050019933, 'colsample_bytree': 0.6329785997088513}.\n",
      "[I 2025-05-16 11:13:26,168] Trial 8 finished with values: [0.7092787800253039, 0.09885470636590778] and parameters: {'max_depth': 7, 'eta': 0.269857578745562, 'subsample': 0.907593470339484, 'colsample_bytree': 0.7181592585402926}.\n",
      "[I 2025-05-16 11:13:26,374] Trial 9 finished with values: [0.7107139903134794, 0.08383793688576098] and parameters: {'max_depth': 6, 'eta': 0.25101076697373814, 'subsample': 0.9114710344951983, 'colsample_bytree': 0.9881236581927464}.\n",
      "[I 2025-05-16 11:13:27,026] Trial 10 finished with values: [0.7007150012406833, 0.05682362325308201] and parameters: {'max_depth': 7, 'eta': 0.17594619470815662, 'subsample': 0.9375017422394593, 'colsample_bytree': 0.6281704721433908}.\n",
      "[I 2025-05-16 11:13:27,164] Trial 11 finished with values: [0.6707272242696051, 0.03565739200340126] and parameters: {'max_depth': 3, 'eta': 0.1605105969711438, 'subsample': 0.7933168439263767, 'colsample_bytree': 0.7683510901896534}.\n",
      "[I 2025-05-16 11:13:27,369] Trial 12 finished with values: [0.7107201171450189, 0.08243913299708339] and parameters: {'max_depth': 6, 'eta': 0.20913870400048118, 'subsample': 0.768300747214851, 'colsample_bytree': 0.7370323029552239}.\n",
      "[I 2025-05-16 11:13:27,571] Trial 13 finished with values: [0.6707180340222955, 0.0510966873772053] and parameters: {'max_depth': 4, 'eta': 0.028963607934721428, 'subsample': 0.9453936434470207, 'colsample_bytree': 0.8061121923122505}.\n",
      "[I 2025-05-16 11:13:27,699] Trial 14 finished with values: [0.712146137185885, 0.06583621366131566] and parameters: {'max_depth': 7, 'eta': 0.19884920787749213, 'subsample': 0.9893812716333122, 'colsample_bytree': 0.6111340420715392}.\n",
      "[I 2025-05-16 11:13:27,817] Trial 15 finished with values: [0.6814262038458122, 0.05569390973434685] and parameters: {'max_depth': 5, 'eta': 0.10004518804153367, 'subsample': 0.8008714793230529, 'colsample_bytree': 0.9194345969431432}.\n",
      "[I 2025-05-16 11:13:27,949] Trial 16 finished with values: [0.6864425471689444, 0.06541152146668872] and parameters: {'max_depth': 6, 'eta': 0.07103592211102588, 'subsample': 0.6585740705085262, 'colsample_bytree': 0.6823418739932197}.\n",
      "[I 2025-05-16 11:13:28,096] Trial 17 finished with values: [0.6864302935058649, 0.06818644611271109] and parameters: {'max_depth': 7, 'eta': 0.0331284187514572, 'subsample': 0.9545337122437658, 'colsample_bytree': 0.7147131717612304}.\n",
      "[I 2025-05-16 11:13:28,222] Trial 18 finished with values: [0.7164257290163678, 0.07388394399234902] and parameters: {'max_depth': 7, 'eta': 0.2161758570833563, 'subsample': 0.7921770952951196, 'colsample_bytree': 0.9267444189247861}.\n",
      "[I 2025-05-16 11:13:28,359] Trial 19 finished with values: [0.7214129698896864, 0.10581076448863501] and parameters: {'max_depth': 7, 'eta': 0.27926006398945585, 'subsample': 0.8218636333494963, 'colsample_bytree': 0.8238601358476214}.\n",
      "[I 2025-05-16 11:13:28,448] Trial 20 finished with values: [0.6621557869455601, 0.028901662210258094] and parameters: {'max_depth': 3, 'eta': 0.09119416795782977, 'subsample': 0.8233465686702504, 'colsample_bytree': 0.6982719396746665}.\n",
      "[I 2025-05-16 11:13:28,561] Trial 21 finished with values: [0.6842904975906235, 0.06375838393189213] and parameters: {'max_depth': 4, 'eta': 0.15719482817345362, 'subsample': 0.6723031795719808, 'colsample_bytree': 0.9768905179692478}.\n",
      "[I 2025-05-16 11:13:28,689] Trial 22 finished with values: [0.6707134388986408, 0.0445981707429293] and parameters: {'max_depth': 3, 'eta': 0.25052584362691444, 'subsample': 0.8431397644736113, 'colsample_bytree': 0.6805344156931399}.\n",
      "[I 2025-05-16 11:13:28,841] Trial 23 finished with values: [0.6907114170442327, 0.04768449083394247] and parameters: {'max_depth': 5, 'eta': 0.13495645255057218, 'subsample': 0.7653360540068992, 'colsample_bytree': 0.9072033083506752}.\n",
      "[I 2025-05-16 11:13:28,955] Trial 24 finished with values: [0.6742869133941728, 0.026073320657770627] and parameters: {'max_depth': 4, 'eta': 0.12024344839543714, 'subsample': 0.7064106482830574, 'colsample_bytree': 0.7157418163115328}.\n",
      "[I 2025-05-16 11:13:29,090] Trial 25 finished with values: [0.6942848915397647, 0.06541592290030003] and parameters: {'max_depth': 5, 'eta': 0.18916758285524654, 'subsample': 0.8300516737443726, 'colsample_bytree': 0.7087187679151117}.\n",
      "[I 2025-05-16 11:13:29,209] Trial 26 finished with values: [0.712124693275496, 0.07841003545368552] and parameters: {'max_depth': 7, 'eta': 0.1997192102757189, 'subsample': 0.9786180885846647, 'colsample_bytree': 0.7862553359946711}.\n",
      "[I 2025-05-16 11:13:29,366] Trial 27 finished with values: [0.6814353940931217, 0.06279423865169317] and parameters: {'max_depth': 4, 'eta': 0.16535197234902207, 'subsample': 0.708583089334617, 'colsample_bytree': 0.9121055375929885}.\n",
      "[I 2025-05-16 11:13:29,529] Trial 28 finished with values: [0.6892808018797117, 0.07985648064946586] and parameters: {'max_depth': 6, 'eta': 0.18630651569818396, 'subsample': 0.9974448651168362, 'colsample_bytree': 0.6610223137793338}.\n",
      "[I 2025-05-16 11:13:29,665] Trial 29 finished with values: [0.7099894924839094, 0.0883412117135382] and parameters: {'max_depth': 7, 'eta': 0.2720984598548654, 'subsample': 0.9287437080683139, 'colsample_bytree': 0.7100152278611682}.\n",
      "[I 2025-05-16 11:13:29,809] Trial 30 finished with values: [0.6850012100492292, 0.04488732913831384] and parameters: {'max_depth': 6, 'eta': 0.11295887423081533, 'subsample': 0.7657645645788081, 'colsample_bytree': 0.961895800886484}.\n",
      "[I 2025-05-16 11:13:29,983] Trial 31 finished with values: [0.6735746692276822, 0.0656960996393972] and parameters: {'max_depth': 6, 'eta': 0.04987941728598826, 'subsample': 0.6256307287195112, 'colsample_bytree': 0.7844034020998735}.\n",
      "[I 2025-05-16 11:13:30,102] Trial 32 finished with values: [0.6707134388986408, 0.04744506992166045] and parameters: {'max_depth': 4, 'eta': 0.09923002793425138, 'subsample': 0.8112923829414528, 'colsample_bytree': 0.97043489882118}.\n",
      "[I 2025-05-16 11:13:30,227] Trial 33 finished with values: [0.7078558234002078, 0.09218952064325885] and parameters: {'max_depth': 7, 'eta': 0.23176782096986473, 'subsample': 0.9197346838465017, 'colsample_bytree': 0.6630012324158785}.\n",
      "[I 2025-05-16 11:13:30,356] Trial 34 finished with values: [0.6757114017271538, 0.07264673778110121] and parameters: {'max_depth': 5, 'eta': 0.08693442266850908, 'subsample': 0.6356386620983261, 'colsample_bytree': 0.7891820883674971}.\n",
      "[I 2025-05-16 11:13:30,521] Trial 35 finished with values: [0.6828506921787931, 0.05841604984050333] and parameters: {'max_depth': 7, 'eta': 0.053285916291668366, 'subsample': 0.6831241319877859, 'colsample_bytree': 0.91872505363883}.\n",
      "[I 2025-05-16 11:13:30,636] Trial 36 finished with values: [0.6892976506664462, 0.08080787629171912] and parameters: {'max_depth': 5, 'eta': 0.25594614978708463, 'subsample': 0.6602508202211563, 'colsample_bytree': 0.753137727721134}.\n",
      "[I 2025-05-16 11:13:30,757] Trial 37 finished with values: [0.7142721477301621, 0.08011988805443805] and parameters: {'max_depth': 7, 'eta': 0.2909880088994966, 'subsample': 0.9279828713541697, 'colsample_bytree': 0.7159871847279979}.\n",
      "[I 2025-05-16 11:13:30,867] Trial 38 finished with values: [0.6671476229425334, 0.030192163009852613] and parameters: {'max_depth': 3, 'eta': 0.08062711718185499, 'subsample': 0.630582959310126, 'colsample_bytree': 0.6041178448059796}.\n",
      "[I 2025-05-16 11:13:31,004] Trial 39 finished with values: [0.7192869593454093, 0.08315807162422457] and parameters: {'max_depth': 6, 'eta': 0.2645038131487926, 'subsample': 0.8603098541882614, 'colsample_bytree': 0.9101949566354809}.\n",
      "[I 2025-05-16 11:13:31,149] Trial 40 finished with values: [0.6899930460462024, 0.08301868366903092] and parameters: {'max_depth': 7, 'eta': 0.10208934680750699, 'subsample': 0.8016587386760088, 'colsample_bytree': 0.8789749478299507}.\n",
      "[I 2025-05-16 11:13:31,305] Trial 41 finished with values: [0.7035716364460701, 0.08354057506334295] and parameters: {'max_depth': 6, 'eta': 0.27429676352033444, 'subsample': 0.9074693643220286, 'colsample_bytree': 0.9756992614263945}.\n",
      "[I 2025-05-16 11:13:31,421] Trial 42 finished with values: [0.6885823430841858, 0.10517304436794488] and parameters: {'max_depth': 5, 'eta': 0.21595101173821757, 'subsample': 0.6664194448823061, 'colsample_bytree': 0.7415379966077291}.\n",
      "[I 2025-05-16 11:13:31,520] Trial 43 finished with values: [0.6664353787760429, 0.03134314624292061] and parameters: {'max_depth': 3, 'eta': 0.12572707027201124, 'subsample': 0.9154545470455212, 'colsample_bytree': 0.8570612628418521}.\n",
      "[I 2025-05-16 11:13:31,655] Trial 44 finished with values: [0.7185655249316092, 0.07673646538136054] and parameters: {'max_depth': 7, 'eta': 0.23425540277082313, 'subsample': 0.8607481480644072, 'colsample_bytree': 0.6832440642738218}.\n",
      "[I 2025-05-16 11:13:31,781] Trial 45 finished with values: [0.7199884815567054, 0.07295249324362715] and parameters: {'max_depth': 7, 'eta': 0.23969472876850603, 'subsample': 0.9972230923469507, 'colsample_bytree': 0.991684407102642}.\n",
      "[I 2025-05-16 11:13:31,895] Trial 46 finished with values: [0.6864333569216349, 0.046171221027961194] and parameters: {'max_depth': 4, 'eta': 0.19808325258758072, 'subsample': 0.7956828648893547, 'colsample_bytree': 0.8076957849270188}.\n",
      "[I 2025-05-16 11:13:32,040] Trial 47 finished with values: [0.7085695992745832, 0.08285702417623142] and parameters: {'max_depth': 7, 'eta': 0.20915539440502195, 'subsample': 0.9337435995059299, 'colsample_bytree': 0.987386529599074}.\n",
      "[I 2025-05-16 11:13:32,182] Trial 48 finished with values: [0.6757052748956142, 0.06202315749818057] and parameters: {'max_depth': 5, 'eta': 0.08641640518935356, 'subsample': 0.67161077189868, 'colsample_bytree': 0.8849916529130661}.\n",
      "[I 2025-05-16 11:13:32,306] Trial 49 finished with values: [0.7085634724430435, 0.07805409695815686] and parameters: {'max_depth': 7, 'eta': 0.2014543743633554, 'subsample': 0.8670092406410239, 'colsample_bytree': 0.7860441599083027}.\n",
      "[I 2025-05-16 11:13:32,319] A new study created in memory with name: no-name-74840e64-e8e6-4b0f-8cab-9467dd15fedc\n",
      "[I 2025-05-16 11:13:32,421] Trial 0 finished with values: [0.6807108962635517, 0.04462073736446589] and parameters: {'max_depth': 4, 'eta': 0.2617570242888084, 'subsample': 0.8652683426601295, 'colsample_bytree': 0.8501994061684006}.\n"
     ]
    },
    {
     "name": "stdout",
     "output_type": "stream",
     "text": [
      "Completed study for alpha=1\n",
      "[{'accuracy': 0.5000061268315397, 'dpd': 0.0, 'alpha': 0, 'params': {'alpha': 0, 'max_depth': 6, 'eta': 0.13110633265877236, 'subsample': 0.8125360197138709, 'colsample_bytree': 0.7772282448273781}}, {'accuracy': 0.7214129698896864, 'dpd': 0.10581076448863501, 'alpha': 1, 'params': {'alpha': 1, 'max_depth': 7, 'eta': 0.27926006398945585, 'subsample': 0.8218636333494963, 'colsample_bytree': 0.8238601358476214}}]\n",
      "0\n"
     ]
    },
    {
     "name": "stderr",
     "output_type": "stream",
     "text": [
      "[I 2025-05-16 11:13:32,507] Trial 1 finished with values: [0.6742945719335974, 0.029715368588148706] and parameters: {'max_depth': 3, 'eta': 0.2624127443857211, 'subsample': 0.6398351480254919, 'colsample_bytree': 0.9273198177738456}.\n",
      "[I 2025-05-16 11:13:32,593] Trial 2 finished with values: [0.6742976353493672, 0.057803156772305846] and parameters: {'max_depth': 3, 'eta': 0.28080783237841106, 'subsample': 0.6181718122808142, 'colsample_bytree': 0.837916413058396}.\n",
      "[I 2025-05-16 11:13:32,701] Trial 3 finished with values: [0.666432315360273, 0.04994182214162388] and parameters: {'max_depth': 4, 'eta': 0.1705686695540982, 'subsample': 0.9161626847024184, 'colsample_bytree': 0.8485905178665168}.\n",
      "[I 2025-05-16 11:13:32,839] Trial 4 finished with values: [0.6828660092576424, 0.045312916176632] and parameters: {'max_depth': 7, 'eta': 0.1203245017352115, 'subsample': 0.794519582525799, 'colsample_bytree': 0.6548483030696385}.\n",
      "[I 2025-05-16 11:13:32,944] Trial 5 finished with values: [0.6750052843922031, 0.04025381713849025] and parameters: {'max_depth': 3, 'eta': 0.2577971784192043, 'subsample': 0.7581536391197677, 'colsample_bytree': 0.8896479715941112}.\n",
      "[I 2025-05-16 11:13:33,138] Trial 6 finished with values: [0.6635894655258506, 0.01826131349930891] and parameters: {'max_depth': 3, 'eta': 0.016070339395122226, 'subsample': 0.7416619736226164, 'colsample_bytree': 0.7415960703658465}.\n",
      "[I 2025-05-16 11:13:33,290] Trial 7 finished with values: [0.6635833386943109, 0.04427843643891307] and parameters: {'max_depth': 4, 'eta': 0.027963872159457066, 'subsample': 0.7896945093955036, 'colsample_bytree': 0.9790917408679256}.\n",
      "[I 2025-05-16 11:13:33,446] Trial 8 finished with values: [0.6614404793632996, 0.032737091106932625] and parameters: {'max_depth': 3, 'eta': 0.06417888427314397, 'subsample': 0.7486742650329323, 'colsample_bytree': 0.737845074896373}.\n",
      "[I 2025-05-16 11:13:33,568] Trial 9 finished with values: [0.6828583507182179, 0.040922998333988714] and parameters: {'max_depth': 4, 'eta': 0.27144807868417126, 'subsample': 0.8298779396678286, 'colsample_bytree': 0.6171589621207623}.\n",
      "[I 2025-05-16 11:13:33,684] Trial 10 finished with values: [0.6757175285586935, 0.05379459840147557] and parameters: {'max_depth': 7, 'eta': 0.15954312463612613, 'subsample': 0.889469427932044, 'colsample_bytree': 0.6083356046172028}.\n",
      "[I 2025-05-16 11:13:33,802] Trial 11 finished with values: [0.6707287559774899, 0.04527122749317893] and parameters: {'max_depth': 5, 'eta': 0.08010725741915506, 'subsample': 0.8058194165438722, 'colsample_bytree': 0.6248395251597677}.\n",
      "[I 2025-05-16 11:13:33,902] Trial 12 finished with values: [0.6814277355536972, 0.04442219256271083] and parameters: {'max_depth': 4, 'eta': 0.28457918115091785, 'subsample': 0.7518088463205593, 'colsample_bytree': 0.6225034040732155}.\n",
      "[I 2025-05-16 11:13:34,017] Trial 13 finished with values: [0.6821430431359575, 0.03926447544410452] and parameters: {'max_depth': 7, 'eta': 0.1508958942671058, 'subsample': 0.8135931314533141, 'colsample_bytree': 0.9955921347188751}.\n",
      "[I 2025-05-16 11:13:34,133] Trial 14 finished with values: [0.6807216182187462, 0.05830270551069513] and parameters: {'max_depth': 5, 'eta': 0.19461856595382737, 'subsample': 0.9139318362330289, 'colsample_bytree': 0.9087938645068987}.\n",
      "[I 2025-05-16 11:13:34,272] Trial 15 finished with values: [0.6907190755836572, 0.056101511372502376] and parameters: {'max_depth': 5, 'eta': 0.29877416424784353, 'subsample': 0.7916993284886165, 'colsample_bytree': 0.6086469586152145}.\n",
      "[I 2025-05-16 11:13:34,472] Trial 16 finished with values: [0.6785818223035048, 0.027001688672775165] and parameters: {'max_depth': 4, 'eta': 0.19722167976447025, 'subsample': 0.6602519639028233, 'colsample_bytree': 0.6271460252604734}.\n",
      "[I 2025-05-16 11:13:34,658] Trial 17 finished with values: [0.6771450803074445, 0.07269482168526428] and parameters: {'max_depth': 5, 'eta': 0.1832489709723434, 'subsample': 0.6919670369755988, 'colsample_bytree': 0.768835250893734}.\n",
      "[I 2025-05-16 11:13:34,805] Trial 18 finished with values: [0.6735807960592219, 0.04421250919865264] and parameters: {'max_depth': 4, 'eta': 0.12268437430341417, 'subsample': 0.6308035506501493, 'colsample_bytree': 0.98758241626148}.\n",
      "[I 2025-05-16 11:13:34,942] Trial 19 finished with values: [0.6857134542157196, 0.03810040618418176] and parameters: {'max_depth': 7, 'eta': 0.15723591356808686, 'subsample': 0.7834189896064891, 'colsample_bytree': 0.6307919489772779}.\n",
      "[I 2025-05-16 11:13:35,183] Trial 20 finished with values: [0.6628710945278204, 0.03467944510324177] and parameters: {'max_depth': 4, 'eta': 0.04244275049480834, 'subsample': 0.8969096777815606, 'colsample_bytree': 0.6348693344348165}.\n",
      "[I 2025-05-16 11:13:35,580] Trial 21 finished with values: [0.676428241017299, 0.06110248265913526] and parameters: {'max_depth': 5, 'eta': 0.16245867925877097, 'subsample': 0.8783434343055901, 'colsample_bytree': 0.8269318362208928}.\n",
      "[I 2025-05-16 11:13:35,788] Trial 22 finished with values: [0.6728532348138822, 0.04586414497308395] and parameters: {'max_depth': 4, 'eta': 0.19319041673645465, 'subsample': 0.9238885420256803, 'colsample_bytree': 0.8376882117054969}.\n",
      "[I 2025-05-16 11:13:35,899] Trial 23 finished with values: [0.6692950773971994, 0.03231596177652426] and parameters: {'max_depth': 3, 'eta': 0.19572036997280673, 'subsample': 0.9835422462439998, 'colsample_bytree': 0.9371734391314264}.\n",
      "[I 2025-05-16 11:13:36,037] Trial 24 finished with values: [0.6907221389994271, 0.09839645025837467] and parameters: {'max_depth': 6, 'eta': 0.25971725723779676, 'subsample': 0.6186815444223049, 'colsample_bytree': 0.8395733719369729}.\n",
      "[I 2025-05-16 11:13:36,255] Trial 25 finished with values: [0.6778603878897048, 0.053505219672443656] and parameters: {'max_depth': 5, 'eta': 0.21497890788898485, 'subsample': 0.7197251036514407, 'colsample_bytree': 0.6886779322347161}.\n",
      "[I 2025-05-16 11:13:36,481] Trial 26 finished with values: [0.6621496601140203, 0.037651931655887406] and parameters: {'max_depth': 5, 'eta': 0.07999511588400669, 'subsample': 0.7655898310475762, 'colsample_bytree': 0.7058282906597951}.\n",
      "[I 2025-05-16 11:13:36,630] Trial 27 finished with values: [0.662860372572626, 0.036459364549578384] and parameters: {'max_depth': 5, 'eta': 0.06150189717580181, 'subsample': 0.9149104318744297, 'colsample_bytree': 0.6438480685014516}.\n",
      "[I 2025-05-16 11:13:36,771] Trial 28 finished with values: [0.675706806603499, 0.07289263014926883] and parameters: {'max_depth': 7, 'eta': 0.10178229618103238, 'subsample': 0.9219900754617043, 'colsample_bytree': 0.8139088500562421}.\n",
      "[I 2025-05-16 11:13:36,997] Trial 29 finished with values: [0.6700011947321501, 0.06051586547384933] and parameters: {'max_depth': 6, 'eta': 0.013860333158256098, 'subsample': 0.7213490256916266, 'colsample_bytree': 0.9355599221576825}.\n",
      "[I 2025-05-16 11:13:37,100] Trial 30 finished with values: [0.668579769814939, 0.04188727928578386] and parameters: {'max_depth': 4, 'eta': 0.11057614510225085, 'subsample': 0.9423424883215696, 'colsample_bytree': 0.7547213140052121}.\n",
      "[I 2025-05-16 11:13:37,229] Trial 31 finished with values: [0.6835751900083631, 0.047958109617938775] and parameters: {'max_depth': 5, 'eta': 0.24209235872689733, 'subsample': 0.8147663328311772, 'colsample_bytree': 0.700705838429321}.\n",
      "[I 2025-05-16 11:13:37,363] Trial 32 finished with values: [0.6821430431359575, 0.06601614540158939] and parameters: {'max_depth': 6, 'eta': 0.19875459096613377, 'subsample': 0.9944759180028855, 'colsample_bytree': 0.8181514251585984}.\n",
      "[I 2025-05-16 11:13:37,499] Trial 33 finished with values: [0.6800078423443708, 0.0484175415405223] and parameters: {'max_depth': 3, 'eta': 0.24118621107965257, 'subsample': 0.6822188170355569, 'colsample_bytree': 0.9704269316496548}.\n",
      "[I 2025-05-16 11:13:37,654] Trial 34 finished with values: [0.6664307836523881, 0.06589728470742155] and parameters: {'max_depth': 6, 'eta': 0.09233240604405898, 'subsample': 0.6780004590689749, 'colsample_bytree': 0.7870483072388389}.\n",
      "[I 2025-05-16 11:13:37,774] Trial 35 finished with values: [0.6792879396384558, 0.035006021370835756] and parameters: {'max_depth': 4, 'eta': 0.2464257852506626, 'subsample': 0.9997337535727684, 'colsample_bytree': 0.6632869260293123}.\n",
      "[I 2025-05-16 11:13:37,906] Trial 36 finished with values: [0.6764358995567238, 0.04384550468472359] and parameters: {'max_depth': 7, 'eta': 0.18572418883231245, 'subsample': 0.6439975528668335, 'colsample_bytree': 0.6234254824013227}.\n",
      "[I 2025-05-16 11:13:38,030] Trial 37 finished with values: [0.6742853816862878, 0.05599324963075949] and parameters: {'max_depth': 6, 'eta': 0.1366700812019599, 'subsample': 0.9268458885319354, 'colsample_bytree': 0.8218504963176975}.\n",
      "[I 2025-05-16 11:13:38,149] Trial 38 finished with values: [0.6800001838049462, 0.05776957956760659] and parameters: {'max_depth': 4, 'eta': 0.29822388204508626, 'subsample': 0.9971421356247618, 'colsample_bytree': 0.8182053758669223}.\n",
      "[I 2025-05-16 11:13:38,295] Trial 39 finished with values: [0.6728608933533068, 0.05135977713412596] and parameters: {'max_depth': 6, 'eta': 0.11258441781247847, 'subsample': 0.9828175206098121, 'colsample_bytree': 0.7245320048402493}.\n",
      "[I 2025-05-16 11:13:38,465] Trial 40 finished with values: [0.6614251622844504, 0.07109982664105662] and parameters: {'max_depth': 5, 'eta': 0.042751708769870396, 'subsample': 0.842175449842344, 'colsample_bytree': 0.83982492807158}.\n",
      "[I 2025-05-16 11:13:38,581] Trial 41 finished with values: [0.6921466273324083, 0.05185441194443824] and parameters: {'max_depth': 6, 'eta': 0.2695522105551316, 'subsample': 0.6911100095698088, 'colsample_bytree': 0.6097974264094832}.\n",
      "[I 2025-05-16 11:13:38,699] Trial 42 finished with values: [0.6828706043812972, 0.04936955002474975] and parameters: {'max_depth': 4, 'eta': 0.21299951537161807, 'subsample': 0.7721187266340279, 'colsample_bytree': 0.7327911972906229}.\n",
      "[I 2025-05-16 11:13:38,824] Trial 43 finished with values: [0.6885654942974515, 0.06238615684602558] and parameters: {'max_depth': 7, 'eta': 0.15152222182820915, 'subsample': 0.8777626183130176, 'colsample_bytree': 0.8966392003507497}.\n",
      "[I 2025-05-16 11:13:38,933] Trial 44 finished with values: [0.6535812862057452, 0.021339202825973264] and parameters: {'max_depth': 3, 'eta': 0.08282180717580392, 'subsample': 0.9863495592547323, 'colsample_bytree': 0.914144238503618}.\n",
      "[I 2025-05-16 11:13:39,058] Trial 45 finished with values: [0.6842859024669687, 0.08708822132794387] and parameters: {'max_depth': 5, 'eta': 0.24640160926156204, 'subsample': 0.6557341028261686, 'colsample_bytree': 0.8015610033097175}.\n",
      "[I 2025-05-16 11:13:39,182] Trial 46 finished with values: [0.6821491699674972, 0.04595864399622165] and parameters: {'max_depth': 4, 'eta': 0.29576432369173156, 'subsample': 0.6650623201127813, 'colsample_bytree': 0.9724365323190864}.\n",
      "[I 2025-05-16 11:13:39,369] Trial 47 finished with values: [0.6628664994041656, 0.044966495597268535] and parameters: {'max_depth': 4, 'eta': 0.09083639314960877, 'subsample': 0.8902051785108263, 'colsample_bytree': 0.888917961054102}.\n",
      "[I 2025-05-16 11:13:39,533] Trial 48 finished with values: [0.6792955981778803, 0.054929752762856526] and parameters: {'max_depth': 7, 'eta': 0.09277832402666733, 'subsample': 0.8101574497503097, 'colsample_bytree': 0.6595838075677877}.\n",
      "[I 2025-05-16 11:13:39,663] Trial 49 finished with values: [0.673579264351337, 0.03660153891625655] and parameters: {'max_depth': 5, 'eta': 0.13296398151991887, 'subsample': 0.6697182176442983, 'colsample_bytree': 0.6933736556603293}.\n",
      "[I 2025-05-16 11:13:39,675] A new study created in memory with name: no-name-33eb1ff1-9825-46f0-9dab-4de01b946154\n"
     ]
    },
    {
     "name": "stdout",
     "output_type": "stream",
     "text": [
      "Completed study for alpha=0.5\n",
      "1\n"
     ]
    },
    {
     "name": "stderr",
     "output_type": "stream",
     "text": [
      "[I 2025-05-16 11:13:39,945] Trial 0 finished with values: [0.6664307836523881, 0.048071030251181264] and parameters: {'max_depth': 3, 'eta': 0.2572176345979193, 'subsample': 0.8184838404658128, 'colsample_bytree': 0.7710160735293519}.\n",
      "[I 2025-05-16 11:13:40,250] Trial 1 finished with values: [0.6771435485995595, 0.06454085060730323] and parameters: {'max_depth': 4, 'eta': 0.23012418591650474, 'subsample': 0.7854085054609474, 'colsample_bytree': 0.9238984968338867}.\n",
      "[I 2025-05-16 11:13:40,534] Trial 2 finished with values: [0.680004778928601, 0.05610800883719152] and parameters: {'max_depth': 5, 'eta': 0.2526045958089027, 'subsample': 0.9809783519617277, 'colsample_bytree': 0.8487107381438541}.\n",
      "[I 2025-05-16 11:13:40,814] Trial 3 finished with values: [0.6657292614410921, 0.02756271983606688] and parameters: {'max_depth': 3, 'eta': 0.12954980388649553, 'subsample': 0.6245480652115841, 'colsample_bytree': 0.9584086379881643}.\n",
      "[I 2025-05-16 11:13:40,956] Trial 4 finished with values: [0.6685782381070542, 0.03892547292061956] and parameters: {'max_depth': 4, 'eta': 0.11285235788817308, 'subsample': 0.9405073418319024, 'colsample_bytree': 0.9517427525074305}.\n",
      "[I 2025-05-16 11:13:41,063] Trial 5 finished with values: [0.6707241608538351, 0.043768227863796756] and parameters: {'max_depth': 3, 'eta': 0.2346659999425015, 'subsample': 0.9843454382143635, 'colsample_bytree': 0.7941679620978912}.\n",
      "[I 2025-05-16 11:13:41,169] Trial 6 finished with values: [0.6742976353493674, 0.01823233990931955] and parameters: {'max_depth': 3, 'eta': 0.22885599586720193, 'subsample': 0.726927920301955, 'colsample_bytree': 0.7047701832166079}.\n",
      "[I 2025-05-16 11:13:41,303] Trial 7 finished with values: [0.6721409906473917, 0.05398608998168536] and parameters: {'max_depth': 7, 'eta': 0.11127516732825413, 'subsample': 0.979290085245775, 'colsample_bytree': 0.8580285903019411}.\n",
      "[I 2025-05-16 11:13:41,412] Trial 8 finished with values: [0.6757236553902333, 0.042501647648035705] and parameters: {'max_depth': 4, 'eta': 0.15590610321822676, 'subsample': 0.6313711563566308, 'colsample_bytree': 0.9047429785960869}.\n",
      "[I 2025-05-16 11:13:41,524] Trial 9 finished with values: [0.6707103754828708, 0.03686070862070621] and parameters: {'max_depth': 6, 'eta': 0.16283096456892568, 'subsample': 0.751209923207021, 'colsample_bytree': 0.6592028902885004}.\n",
      "[I 2025-05-16 11:13:41,645] Trial 10 finished with values: [0.6835751900083631, 0.08378572220001297] and parameters: {'max_depth': 6, 'eta': 0.2920522092116489, 'subsample': 0.6830748825812546, 'colsample_bytree': 0.975618676530518}.\n",
      "[I 2025-05-16 11:13:41,756] Trial 11 finished with values: [0.6650047636115222, 0.04699310864734515] and parameters: {'max_depth': 6, 'eta': 0.1426917879331096, 'subsample': 0.6569162099467841, 'colsample_bytree': 0.7810626542466232}.\n",
      "[I 2025-05-16 11:13:41,880] Trial 12 finished with values: [0.663578743570656, 0.024137601580212182] and parameters: {'max_depth': 7, 'eta': 0.06585592539953047, 'subsample': 0.678749081603585, 'colsample_bytree': 0.7149320127018564}.\n",
      "[I 2025-05-16 11:13:41,976] Trial 13 finished with values: [0.661432820823875, 0.02610142462791573] and parameters: {'max_depth': 4, 'eta': 0.06178076021101582, 'subsample': 0.7173940086398298, 'colsample_bytree': 0.60677301820821}.\n",
      "[I 2025-05-16 11:13:42,069] Trial 14 finished with values: [0.6735884545986467, 0.04754328300346047] and parameters: {'max_depth': 3, 'eta': 0.2598309719255373, 'subsample': 0.6180594155409526, 'colsample_bytree': 0.824562032734954}.\n",
      "[I 2025-05-16 11:13:42,157] Trial 15 finished with values: [0.6792940664699954, 0.03564432349143885] and parameters: {'max_depth': 4, 'eta': 0.2466901502122978, 'subsample': 0.9535645055463683, 'colsample_bytree': 0.9832464058816153}.\n",
      "[I 2025-05-16 11:13:42,284] Trial 16 finished with values: [0.6714287464809011, 0.03620713997438909] and parameters: {'max_depth': 5, 'eta': 0.03313365252234423, 'subsample': 0.9381589574036392, 'colsample_bytree': 0.9789933415822727}.\n",
      "[I 2025-05-16 11:13:42,420] Trial 17 finished with values: [0.6700042581479201, 0.042835621438821136] and parameters: {'max_depth': 6, 'eta': 0.16332280166363985, 'subsample': 0.9162390449777948, 'colsample_bytree': 0.8302003144046703}.\n",
      "[I 2025-05-16 11:13:42,507] Trial 18 finished with values: [0.6728608933533068, 0.023532993982545953] and parameters: {'max_depth': 4, 'eta': 0.20256624168194545, 'subsample': 0.8015681003309421, 'colsample_bytree': 0.6219974404563731}.\n",
      "[I 2025-05-16 11:13:42,630] Trial 19 finished with values: [0.6607190449494996, 0.028393066862466232] and parameters: {'max_depth': 4, 'eta': 0.07894482051431963, 'subsample': 0.940051399022341, 'colsample_bytree': 0.9022129941001409}.\n",
      "[I 2025-05-16 11:13:42,723] Trial 20 finished with values: [0.6685858966464787, 0.04085459131251298] and parameters: {'max_depth': 3, 'eta': 0.2664194611208681, 'subsample': 0.621766403220334, 'colsample_bytree': 0.8253824649716084}.\n",
      "[I 2025-05-16 11:13:42,846] Trial 21 finished with values: [0.6664292519445031, 0.04515771666740117] and parameters: {'max_depth': 4, 'eta': 0.0694033166583923, 'subsample': 0.9258138115421617, 'colsample_bytree': 0.7831023373472121}.\n",
      "[I 2025-05-16 11:13:43,036] Trial 22 finished with values: [0.6657216029016674, 0.054023363155966536] and parameters: {'max_depth': 7, 'eta': 0.03257865177308145, 'subsample': 0.9535185454839791, 'colsample_bytree': 0.7895765790181202}.\n",
      "[I 2025-05-16 11:13:43,145] Trial 23 finished with values: [0.668581301522824, 0.03403126384641878] and parameters: {'max_depth': 5, 'eta': 0.1348317884285957, 'subsample': 0.9476928064693436, 'colsample_bytree': 0.6626206212131174}.\n",
      "[I 2025-05-16 11:13:43,313] Trial 24 finished with values: [0.6678705890642184, 0.047812039148512696] and parameters: {'max_depth': 6, 'eta': 0.01633890880599192, 'subsample': 0.6823377056028218, 'colsample_bytree': 0.8431214718477147}.\n",
      "[I 2025-05-16 11:13:43,480] Trial 25 finished with values: [0.6764404946803785, 0.04265007235318455] and parameters: {'max_depth': 7, 'eta': 0.10759968087961427, 'subsample': 0.9574074547466062, 'colsample_bytree': 0.6471600754965053}.\n",
      "[I 2025-05-16 11:13:43,622] Trial 26 finished with values: [0.6814277355536972, 0.041819107035746594] and parameters: {'max_depth': 5, 'eta': 0.03915004263047274, 'subsample': 0.8800004493830238, 'colsample_bytree': 0.9306094184394156}.\n",
      "[I 2025-05-16 11:13:43,733] Trial 27 finished with values: [0.6664307836523881, 0.048276733060019755] and parameters: {'max_depth': 4, 'eta': 0.1966100804294147, 'subsample': 0.8110881851364173, 'colsample_bytree': 0.8285235754531624}.\n",
      "[I 2025-05-16 11:13:43,877] Trial 28 finished with values: [0.6714379367282106, 0.030332753787598088] and parameters: {'max_depth': 6, 'eta': 0.16592772360362942, 'subsample': 0.6300744865495902, 'colsample_bytree': 0.651114031024291}.\n",
      "[I 2025-05-16 11:13:44,054] Trial 29 finished with values: [0.6721425223552765, 0.05196292489354965] and parameters: {'max_depth': 5, 'eta': 0.20490196350614454, 'subsample': 0.7151625038517218, 'colsample_bytree': 0.992206974032438}.\n",
      "[I 2025-05-16 11:13:44,345] Trial 30 finished with values: [0.6585715904948336, 0.026224434801569718] and parameters: {'max_depth': 4, 'eta': 0.11364238856638649, 'subsample': 0.7177177880243911, 'colsample_bytree': 0.939970017702472}.\n",
      "[I 2025-05-16 11:13:44,514] Trial 31 finished with values: [0.6735746692276822, 0.04725261377203082] and parameters: {'max_depth': 7, 'eta': 0.10974678790408628, 'subsample': 0.9567607290174083, 'colsample_bytree': 0.6134107353472745}.\n",
      "[I 2025-05-16 11:13:44,696] Trial 32 finished with values: [0.6707226291459504, 0.04243147763974176] and parameters: {'max_depth': 6, 'eta': 0.04763567028312024, 'subsample': 0.7091981231231906, 'colsample_bytree': 0.845973616546675}.\n",
      "[I 2025-05-16 11:13:44,838] Trial 33 finished with values: [0.6728716153085013, 0.040799009103775964] and parameters: {'max_depth': 3, 'eta': 0.28923195010189856, 'subsample': 0.9425724274556471, 'colsample_bytree': 0.9957794016040248}.\n",
      "[I 2025-05-16 11:13:44,999] Trial 34 finished with values: [0.680004778928601, 0.02817230759053546] and parameters: {'max_depth': 6, 'eta': 0.21400661914158567, 'subsample': 0.8098767746327925, 'colsample_bytree': 0.6268039268454052}.\n",
      "[I 2025-05-16 11:13:45,142] Trial 35 finished with values: [0.6807170230950915, 0.029762820964773302] and parameters: {'max_depth': 6, 'eta': 0.2630701659722478, 'subsample': 0.860526191981151, 'colsample_bytree': 0.6681336004116245}.\n",
      "[I 2025-05-16 11:13:45,245] Trial 36 finished with values: [0.6621481284061354, 0.0362525877457534] and parameters: {'max_depth': 4, 'eta': 0.28317568678473715, 'subsample': 0.8256102106192219, 'colsample_bytree': 0.8620200315270019}.\n",
      "[I 2025-05-16 11:13:45,340] Trial 37 finished with values: [0.6657216029016674, 0.0285150349012158] and parameters: {'max_depth': 5, 'eta': 0.1505347999328185, 'subsample': 0.6554964578655285, 'colsample_bytree': 0.6830708074014402}.\n",
      "[I 2025-05-16 11:13:45,444] Trial 38 finished with values: [0.6721394589395068, 0.04003228137681464] and parameters: {'max_depth': 6, 'eta': 0.16946847587115024, 'subsample': 0.7528065646981348, 'colsample_bytree': 0.8190166344949854}.\n",
      "[I 2025-05-16 11:13:45,672] Trial 39 finished with values: [0.6557256772446413, 0.03848807284993807] and parameters: {'max_depth': 5, 'eta': 0.010815724311908536, 'subsample': 0.6472088775238788, 'colsample_bytree': 0.6045828240151986}.\n",
      "[I 2025-05-16 11:13:45,788] Trial 40 finished with values: [0.6764343678488388, 0.03631340936398338] and parameters: {'max_depth': 6, 'eta': 0.1520782545978867, 'subsample': 0.8761233192687923, 'colsample_bytree': 0.7479047160337543}.\n",
      "[I 2025-05-16 11:13:45,893] Trial 41 finished with values: [0.6578654731598828, 0.04144513467816344] and parameters: {'max_depth': 4, 'eta': 0.059999031243823435, 'subsample': 0.8353233669468414, 'colsample_bytree': 0.755762417750455}.\n",
      "[I 2025-05-16 11:13:45,976] Trial 42 finished with values: [0.665006295319407, 0.022355008215694694] and parameters: {'max_depth': 3, 'eta': 0.26027722100000317, 'subsample': 0.9370365399903926, 'colsample_bytree': 0.7711274690973398}.\n",
      "[I 2025-05-16 11:13:46,092] Trial 43 finished with values: [0.6728654884769615, 0.04502780121221942] and parameters: {'max_depth': 5, 'eta': 0.18313497133296056, 'subsample': 0.9579773894341733, 'colsample_bytree': 0.8586867202157265}.\n",
      "[I 2025-05-16 11:13:46,214] Trial 44 finished with values: [0.6828614141339878, 0.040573642948588506] and parameters: {'max_depth': 6, 'eta': 0.17359787753619418, 'subsample': 0.6188130003199758, 'colsample_bytree': 0.9234312305277673}.\n",
      "[I 2025-05-16 11:13:46,345] Trial 45 finished with values: [0.6757190602665784, 0.04543824950969427] and parameters: {'max_depth': 5, 'eta': 0.03982099086532637, 'subsample': 0.7958933912460342, 'colsample_bytree': 0.9604370977357464}.\n",
      "[I 2025-05-16 11:13:46,460] Trial 46 finished with values: [0.6735777326434521, 0.05585828587589142] and parameters: {'max_depth': 5, 'eta': 0.14616247791534356, 'subsample': 0.8036484229905856, 'colsample_bytree': 0.8252260069565861}.\n",
      "[I 2025-05-16 11:13:46,602] Trial 47 finished with values: [0.6600098641987789, 0.024805203849102054] and parameters: {'max_depth': 3, 'eta': 0.1307372944072267, 'subsample': 0.8694935407003577, 'colsample_bytree': 0.6621654196007747}.\n",
      "[I 2025-05-16 11:13:46,810] Trial 48 finished with values: [0.6585792490342582, 0.021053154752981567] and parameters: {'max_depth': 4, 'eta': 0.01938242977624505, 'subsample': 0.6819684812114375, 'colsample_bytree': 0.71391601472462}.\n",
      "[I 2025-05-16 11:13:46,947] Trial 49 finished with values: [0.6714302781887861, 0.0517152997581297] and parameters: {'max_depth': 5, 'eta': 0.09687291866225067, 'subsample': 0.7529008238994821, 'colsample_bytree': 0.9485117855168117}.\n",
      "[I 2025-05-16 11:13:46,958] A new study created in memory with name: no-name-9ee03a32-4606-4ae0-b3f9-1d3b472e37e6\n",
      "[I 2025-05-16 11:13:47,114] Trial 0 finished with values: [0.665009358735177, 0.021921328663774765] and parameters: {'max_depth': 6, 'eta': 0.1653212494455189, 'subsample': 0.9199743501610416, 'colsample_bytree': 0.7502243785512304}.\n"
     ]
    },
    {
     "name": "stdout",
     "output_type": "stream",
     "text": [
      "Completed study for alpha=0.25\n",
      "2\n"
     ]
    },
    {
     "name": "stderr",
     "output_type": "stream",
     "text": [
      "[I 2025-05-16 11:13:47,321] Trial 1 finished with values: [0.6735853911828767, 0.026546298189713418] and parameters: {'max_depth': 4, 'eta': 0.23840996199748823, 'subsample': 0.7415108146764784, 'colsample_bytree': 0.9378795974204188}.\n",
      "[I 2025-05-16 11:13:47,413] Trial 2 finished with values: [0.6678659939405636, 0.025748875256769416] and parameters: {'max_depth': 4, 'eta': 0.2109746719744898, 'subsample': 0.6988117679591752, 'colsample_bytree': 0.8691682995864208}.\n",
      "[I 2025-05-16 11:13:47,548] Trial 3 finished with values: [0.667878247603643, 0.022826703927029197] and parameters: {'max_depth': 7, 'eta': 0.2524697758562607, 'subsample': 0.6465345415759733, 'colsample_bytree': 0.6574239731791408}.\n",
      "[I 2025-05-16 11:13:47,742] Trial 4 finished with values: [0.6635879338179658, 0.023171520595541423] and parameters: {'max_depth': 3, 'eta': 0.011890619930138149, 'subsample': 0.6352685040396775, 'colsample_bytree': 0.7371773154205863}.\n",
      "[I 2025-05-16 11:13:47,843] Trial 5 finished with values: [0.6642879243213768, 0.027521383291637697] and parameters: {'max_depth': 6, 'eta': 0.23461355091379993, 'subsample': 0.7455146148872238, 'colsample_bytree': 0.846873660065251}.\n",
      "[I 2025-05-16 11:13:47,946] Trial 6 finished with values: [0.6528659786234847, 0.018286942503808513] and parameters: {'max_depth': 4, 'eta': 0.13395572397154656, 'subsample': 0.9760410780707323, 'colsample_bytree': 0.9977858734821942}.\n",
      "[I 2025-05-16 11:13:48,064] Trial 7 finished with values: [0.6750160063473974, 0.0320777825328561] and parameters: {'max_depth': 5, 'eta': 0.2874676957480849, 'subsample': 0.6580548753954673, 'colsample_bytree': 0.8769885762831462}.\n",
      "[I 2025-05-16 11:13:48,172] Trial 8 finished with values: [0.6593068102795979, 0.03529643161385296] and parameters: {'max_depth': 5, 'eta': 0.15458546682494162, 'subsample': 0.8209114313209318, 'colsample_bytree': 0.7546137588461389}.\n",
      "[I 2025-05-16 11:13:48,449] Trial 9 finished with values: [0.6628741579435903, 0.015601325052791984] and parameters: {'max_depth': 4, 'eta': 0.023322231569484868, 'subsample': 0.6340493625721892, 'colsample_bytree': 0.713456686141458}.\n",
      "[I 2025-05-16 11:13:48,592] Trial 10 finished with values: [0.665730793148977, 0.015159159871311806] and parameters: {'max_depth': 4, 'eta': 0.20128537469749572, 'subsample': 0.6016292283910759, 'colsample_bytree': 0.7618945055390534}.\n",
      "[I 2025-05-16 11:13:48,803] Trial 11 finished with values: [0.6614404793632996, 0.019296525813199683] and parameters: {'max_depth': 7, 'eta': 0.024729463495489816, 'subsample': 0.692145001657988, 'colsample_bytree': 0.798980162936486}.\n",
      "[I 2025-05-16 11:13:48,910] Trial 12 finished with values: [0.6621557869455601, 0.030962901511599455] and parameters: {'max_depth': 5, 'eta': 0.17691216320389544, 'subsample': 0.755321496880723, 'colsample_bytree': 0.8802541903443326}.\n",
      "[I 2025-05-16 11:13:49,014] Trial 13 finished with values: [0.6585807807421431, 0.023541923286047844] and parameters: {'max_depth': 4, 'eta': 0.14147941528456953, 'subsample': 0.9982057145402603, 'colsample_bytree': 0.8918152355081121}.\n",
      "[I 2025-05-16 11:13:49,137] Trial 14 finished with values: [0.6657292614410921, 0.012695241022489256] and parameters: {'max_depth': 4, 'eta': 0.18685287840676704, 'subsample': 0.6726069729380003, 'colsample_bytree': 0.7192504922614937}.\n",
      "[I 2025-05-16 11:13:49,282] Trial 15 finished with values: [0.651433831751079, 0.02058712220002626] and parameters: {'max_depth': 4, 'eta': 0.09322417969583326, 'subsample': 0.9001857480718033, 'colsample_bytree': 0.988755460182553}.\n",
      "[I 2025-05-16 11:13:49,395] Trial 16 finished with values: [0.6621557869455601, 0.017148664528241663] and parameters: {'max_depth': 4, 'eta': 0.12573878341841085, 'subsample': 0.7431953279496756, 'colsample_bytree': 0.9209922928183577}.\n",
      "[I 2025-05-16 11:13:49,521] Trial 17 finished with values: [0.655731804076181, 0.014505276407454156] and parameters: {'max_depth': 5, 'eta': 0.0667221447727633, 'subsample': 0.6914493626037861, 'colsample_bytree': 0.7039455766083946}.\n",
      "[I 2025-05-16 11:13:49,638] Trial 18 finished with values: [0.6564394531190167, 0.011395143106079725] and parameters: {'max_depth': 3, 'eta': 0.032748909982704036, 'subsample': 0.6366397568347398, 'colsample_bytree': 0.721063338041739}.\n",
      "[I 2025-05-16 11:13:49,756] Trial 19 finished with values: [0.6593022151559432, 0.02023098614990147] and parameters: {'max_depth': 4, 'eta': 0.08307436364304785, 'subsample': 0.8154689332638853, 'colsample_bytree': 0.7328659890250233}.\n",
      "[I 2025-05-16 11:13:49,896] Trial 20 finished with values: [0.6578700682835376, 0.016583715144292105] and parameters: {'max_depth': 5, 'eta': 0.03978215884701812, 'subsample': 0.8864438317126306, 'colsample_bytree': 0.8060511633264227}.\n",
      "[I 2025-05-16 11:13:49,993] Trial 21 finished with values: [0.6614374159475299, 0.016974410636079445] and parameters: {'max_depth': 4, 'eta': 0.18950034631072193, 'subsample': 0.7691502685918497, 'colsample_bytree': 0.9596616948022223}.\n",
      "[I 2025-05-16 11:13:50,093] Trial 22 finished with values: [0.6692950773971994, 0.024079503255137413] and parameters: {'max_depth': 4, 'eta': 0.22792909210778178, 'subsample': 0.7600926059047439, 'colsample_bytree': 0.9634746683504275}.\n",
      "[I 2025-05-16 11:13:50,203] Trial 23 finished with values: [0.6685782381070542, 0.028966008225225288] and parameters: {'max_depth': 7, 'eta': 0.2502017667075567, 'subsample': 0.9435054303620929, 'colsample_bytree': 0.6091079061573259}.\n",
      "[I 2025-05-16 11:13:50,296] Trial 24 finished with values: [0.659283834661324, 0.028147057975138206] and parameters: {'max_depth': 6, 'eta': 0.1878824134343745, 'subsample': 0.7133757641896816, 'colsample_bytree': 0.799032678672083}.\n",
      "[I 2025-05-16 11:13:50,382] Trial 25 finished with values: [0.6692904822735445, 0.045882924383234706] and parameters: {'max_depth': 6, 'eta': 0.253739913927205, 'subsample': 0.9862472892390202, 'colsample_bytree': 0.8199358596562931}.\n",
      "[I 2025-05-16 11:13:50,529] Trial 26 finished with values: [0.6628726262357053, 0.015579632064619495] and parameters: {'max_depth': 7, 'eta': 0.016570336738137948, 'subsample': 0.81406263876404, 'colsample_bytree': 0.6105044047413531}.\n",
      "[I 2025-05-16 11:13:50,633] Trial 27 finished with values: [0.6621420015745957, 0.024055382268508934] and parameters: {'max_depth': 7, 'eta': 0.1609600890184727, 'subsample': 0.955914887391786, 'colsample_bytree': 0.8458502592215832}.\n",
      "[I 2025-05-16 11:13:50,748] Trial 28 finished with values: [0.6671552814819579, 0.029618391167019743] and parameters: {'max_depth': 4, 'eta': 0.2776141148656774, 'subsample': 0.9126644532429941, 'colsample_bytree': 0.9920195910649954}.\n",
      "[I 2025-05-16 11:13:50,867] Trial 29 finished with values: [0.668584364938594, 0.02244401122522699] and parameters: {'max_depth': 7, 'eta': 0.2670169639386602, 'subsample': 0.8253608163152761, 'colsample_bytree': 0.6922013137513813}.\n",
      "[I 2025-05-16 11:13:51,045] Trial 30 finished with values: [0.6635848704021959, 0.02403810929338453] and parameters: {'max_depth': 5, 'eta': 0.21043127586854582, 'subsample': 0.8328954267543497, 'colsample_bytree': 0.9727686283600923}.\n",
      "[I 2025-05-16 11:13:51,191] Trial 31 finished with values: [0.6557256772446413, 0.02619106186053428] and parameters: {'max_depth': 5, 'eta': 0.1188553800375097, 'subsample': 0.8076205663073519, 'colsample_bytree': 0.9949222913923902}.\n",
      "[I 2025-05-16 11:13:51,323] Trial 32 finished with values: [0.6614435427790696, 0.023465304600919546] and parameters: {'max_depth': 4, 'eta': 0.03550982742261468, 'subsample': 0.7061334646429132, 'colsample_bytree': 0.6590169487335797}.\n",
      "[I 2025-05-16 11:13:51,439] Trial 33 finished with values: [0.6600144593224337, 0.02772346538505993] and parameters: {'max_depth': 5, 'eta': 0.03563775557886024, 'subsample': 0.9817889181687136, 'colsample_bytree': 0.9999452740927968}.\n",
      "[I 2025-05-16 11:13:51,699] Trial 34 finished with values: [0.6621649771928696, 0.019079218000213043] and parameters: {'max_depth': 4, 'eta': 0.03440643550097137, 'subsample': 0.6468221804007748, 'colsample_bytree': 0.9641165701023333}.\n",
      "[I 2025-05-16 11:13:51,902] Trial 35 finished with values: [0.6571624192407017, 0.02009966872536284] and parameters: {'max_depth': 3, 'eta': 0.018564277582896194, 'subsample': 0.8848829757796712, 'colsample_bytree': 0.6217819532156349}.\n",
      "[I 2025-05-16 11:13:52,101] Trial 36 finished with values: [0.6600144593224337, 0.015637209720294264] and parameters: {'max_depth': 4, 'eta': 0.028379848769336226, 'subsample': 0.6594267943402996, 'colsample_bytree': 0.7012017323789647}.\n",
      "[I 2025-05-16 11:13:52,262] Trial 37 finished with values: [0.6600098641987789, 0.019121243090263102] and parameters: {'max_depth': 6, 'eta': 0.1387395333846565, 'subsample': 0.9031451668243344, 'colsample_bytree': 0.6160902381602107}.\n",
      "[I 2025-05-16 11:13:52,398] Trial 38 finished with values: [0.6778695781370142, 0.016805066191602786] and parameters: {'max_depth': 7, 'eta': 0.2830981789333591, 'subsample': 0.9500252783328357, 'colsample_bytree': 0.6870654346231624}.\n",
      "[I 2025-05-16 11:13:52,521] Trial 39 finished with values: [0.6628664994041656, 0.021774909230378375] and parameters: {'max_depth': 6, 'eta': 0.26330236750835234, 'subsample': 0.7697176978165433, 'colsample_bytree': 0.947684091614986}.\n",
      "[I 2025-05-16 11:13:52,642] Trial 40 finished with values: [0.6792971298857652, 0.02808464104371744] and parameters: {'max_depth': 7, 'eta': 0.17535814046046966, 'subsample': 0.6146817292131994, 'colsample_bytree': 0.9003653941725015}.\n",
      "[I 2025-05-16 11:13:52,877] Trial 41 finished with values: [0.6600175227382036, 0.014338809096776567] and parameters: {'max_depth': 4, 'eta': 0.05997683060105577, 'subsample': 0.73614696738066, 'colsample_bytree': 0.7138215081013752}.\n",
      "[I 2025-05-16 11:13:53,039] Trial 42 finished with values: [0.6650124221509467, 0.01925758984933602] and parameters: {'max_depth': 5, 'eta': 0.15690796831930565, 'subsample': 0.6090721629852598, 'colsample_bytree': 0.8052399471884645}.\n",
      "[I 2025-05-16 11:13:53,316] Trial 43 finished with values: [0.6593006834480583, 0.02927121141556131] and parameters: {'max_depth': 6, 'eta': 0.21345258722978774, 'subsample': 0.7407598340085406, 'colsample_bytree': 0.7682512696033004}.\n",
      "[I 2025-05-16 11:13:53,520] Trial 44 finished with values: [0.6785879491350446, 0.037858462511151825] and parameters: {'max_depth': 7, 'eta': 0.2940824275458479, 'subsample': 0.6897110799550954, 'colsample_bytree': 0.9271669222357053}.\n",
      "[I 2025-05-16 11:13:53,774] Trial 45 finished with values: [0.6707195657301804, 0.01724781171731869] and parameters: {'max_depth': 6, 'eta': 0.2675907129657186, 'subsample': 0.9892384041136555, 'colsample_bytree': 0.7174085941035591}.\n",
      "[I 2025-05-16 11:13:53,922] Trial 46 finished with values: [0.672880805555811, 0.037912250921034195] and parameters: {'max_depth': 5, 'eta': 0.2865578366116421, 'subsample': 0.6815846238432056, 'colsample_bytree': 0.919663204955951}.\n",
      "[I 2025-05-16 11:13:54,048] Trial 47 finished with values: [0.6621481284061354, 0.026466988667995645] and parameters: {'max_depth': 4, 'eta': 0.18416034862221212, 'subsample': 0.6998442157577541, 'colsample_bytree': 0.6488469486943449}.\n",
      "[I 2025-05-16 11:13:54,151] Trial 48 finished with values: [0.6664445690233525, 0.02490807338875381] and parameters: {'max_depth': 4, 'eta': 0.1835912175177285, 'subsample': 0.600261601442031, 'colsample_bytree': 0.8037263333286248}.\n",
      "[I 2025-05-16 11:13:54,268] Trial 49 finished with values: [0.6678598671090238, 0.029280584566762507] and parameters: {'max_depth': 7, 'eta': 0.2749197714360395, 'subsample': 0.7250615591128479, 'colsample_bytree': 0.729175264261483}.\n",
      "[I 2025-05-16 11:13:54,279] A new study created in memory with name: no-name-9056fc6c-8a9c-4a19-b68d-7b2ea98793ae\n",
      "[I 2025-05-16 11:13:54,401] Trial 0 finished with values: [0.6971353999136117, 0.0733549313106022] and parameters: {'max_depth': 6, 'eta': 0.16575860304850545, 'subsample': 0.9230276962435402, 'colsample_bytree': 0.8990512478408781}.\n"
     ]
    },
    {
     "name": "stdout",
     "output_type": "stream",
     "text": [
      "Completed study for alpha=0.125\n",
      "3\n"
     ]
    },
    {
     "name": "stderr",
     "output_type": "stream",
     "text": [
      "[I 2025-05-16 11:13:54,539] Trial 1 finished with values: [0.6592945566165186, 0.021544866733456448] and parameters: {'max_depth': 3, 'eta': 0.11314826037995525, 'subsample': 0.9245710353120444, 'colsample_bytree': 0.671979559620599}.\n",
      "[I 2025-05-16 11:13:54,691] Trial 2 finished with values: [0.6849981466334594, 0.05766853068701072] and parameters: {'max_depth': 7, 'eta': 0.06726077612052764, 'subsample': 0.8720942248884747, 'colsample_bytree': 0.9721969421502582}.\n",
      "[I 2025-05-16 11:13:54,841] Trial 3 finished with values: [0.6621603820692149, 0.038657856329516994] and parameters: {'max_depth': 3, 'eta': 0.03851108821854725, 'subsample': 0.8199139264612976, 'colsample_bytree': 0.8574964067492821}.\n",
      "[I 2025-05-16 11:13:54,965] Trial 4 finished with values: [0.6921450956245233, 0.07877544951934136] and parameters: {'max_depth': 7, 'eta': 0.15318806393974344, 'subsample': 0.7456808876517407, 'colsample_bytree': 0.8472940461475401}.\n",
      "[I 2025-05-16 11:13:55,073] Trial 5 finished with values: [0.6692889505656597, 0.0374791045465399] and parameters: {'max_depth': 4, 'eta': 0.10426485904028873, 'subsample': 0.7315198051248673, 'colsample_bytree': 0.6738862374917743}.\n",
      "[I 2025-05-16 11:13:55,184] Trial 6 finished with values: [0.6571455704539676, 0.02846563566886029] and parameters: {'max_depth': 3, 'eta': 0.11113141520013506, 'subsample': 0.958872551238503, 'colsample_bytree': 0.8340567392278313}.\n",
      "[I 2025-05-16 11:13:55,277] Trial 7 finished with values: [0.6614297574081052, 0.026339189195404733] and parameters: {'max_depth': 3, 'eta': 0.19928877716150567, 'subsample': 0.9910620203684166, 'colsample_bytree': 0.8212484649471413}.\n",
      "[I 2025-05-16 11:13:55,385] Trial 8 finished with values: [0.6657200711937824, 0.045970638912438876] and parameters: {'max_depth': 4, 'eta': 0.04953864219430094, 'subsample': 0.7676471623852799, 'colsample_bytree': 0.7082908058949569}.\n",
      "[I 2025-05-16 11:13:55,515] Trial 9 finished with values: [0.6792879396384558, 0.0709715982077411] and parameters: {'max_depth': 7, 'eta': 0.05521384980977383, 'subsample': 0.8850165123589058, 'colsample_bytree': 0.7476468427241764}.\n",
      "[I 2025-05-16 11:13:55,610] Trial 10 finished with values: [0.6600052690751242, 0.01809929277411776] and parameters: {'max_depth': 3, 'eta': 0.0895234008299617, 'subsample': 0.7103145763644982, 'colsample_bytree': 0.6343431338816473}.\n",
      "[I 2025-05-16 11:13:55,856] Trial 11 finished with values: [0.6892869287112516, 0.09134752667825158] and parameters: {'max_depth': 7, 'eta': 0.01238371977769273, 'subsample': 0.9572840974921255, 'colsample_bytree': 0.7065131814045497}.\n",
      "[I 2025-05-16 11:13:56,001] Trial 12 finished with values: [0.6835859119635576, 0.0616400902721936] and parameters: {'max_depth': 6, 'eta': 0.030951301201048415, 'subsample': 0.6379920191438108, 'colsample_bytree': 0.8720500070739093}.\n",
      "[I 2025-05-16 11:13:56,111] Trial 13 finished with values: [0.712849191105066, 0.07275408229399209] and parameters: {'max_depth': 7, 'eta': 0.27504226088657985, 'subsample': 0.7887141264334052, 'colsample_bytree': 0.6200452124025014}.\n",
      "[I 2025-05-16 11:13:56,210] Trial 14 finished with values: [0.6557226138288715, 0.03899175170342009] and parameters: {'max_depth': 3, 'eta': 0.09885550381884127, 'subsample': 0.9690608519204827, 'colsample_bytree': 0.7316041949451171}.\n",
      "[I 2025-05-16 11:13:56,362] Trial 15 finished with values: [0.6807185548029765, 0.08828925308773931] and parameters: {'max_depth': 6, 'eta': 0.053685737232863164, 'subsample': 0.7117352837033395, 'colsample_bytree': 0.8711020827230318}.\n",
      "[I 2025-05-16 11:13:56,726] Trial 16 finished with values: [0.6735716058119124, 0.07866967064126597] and parameters: {'max_depth': 6, 'eta': 0.012319503294435836, 'subsample': 0.9419271117085564, 'colsample_bytree': 0.6853691405581851}.\n",
      "[I 2025-05-16 11:13:56,887] Trial 17 finished with values: [0.6707180340222955, 0.06952365853782398] and parameters: {'max_depth': 5, 'eta': 0.035591715776454674, 'subsample': 0.6714010625345379, 'colsample_bytree': 0.8361095989086474}.\n",
      "[I 2025-05-16 11:13:57,000] Trial 18 finished with values: [0.6535889447451697, 0.040267298089631816] and parameters: {'max_depth': 3, 'eta': 0.08576445268696022, 'subsample': 0.9890831460313929, 'colsample_bytree': 0.8060924333099837}.\n",
      "[I 2025-05-16 11:13:57,195] Trial 19 finished with values: [0.6978491757879871, 0.07829532805587573] and parameters: {'max_depth': 5, 'eta': 0.29367297881108884, 'subsample': 0.7860465436065752, 'colsample_bytree': 0.6320837139846693}.\n",
      "[I 2025-05-16 11:13:57,531] Trial 20 finished with values: [0.6635710850312315, 0.04308472253478768] and parameters: {'max_depth': 4, 'eta': 0.03264287381899345, 'subsample': 0.9148273510459746, 'colsample_bytree': 0.8620606046566739}.\n",
      "[I 2025-05-16 11:13:57,680] Trial 21 finished with values: [0.6878593769625008, 0.0866444862720502] and parameters: {'max_depth': 5, 'eta': 0.13842702639661947, 'subsample': 0.6460287027154018, 'colsample_bytree': 0.8251000670049204}.\n",
      "[I 2025-05-16 11:13:57,814] Trial 22 finished with values: [0.6993012348628969, 0.09935336752914643] and parameters: {'max_depth': 6, 'eta': 0.20340481065328156, 'subsample': 0.737937671047981, 'colsample_bytree': 0.7994810881444299}.\n",
      "[I 2025-05-16 11:13:57,956] Trial 23 finished with values: [0.6850119320044236, 0.07294441645546636] and parameters: {'max_depth': 6, 'eta': 0.049003590323621615, 'subsample': 0.9300153538492653, 'colsample_bytree': 0.6048789069695112}.\n",
      "[I 2025-05-16 11:13:58,063] Trial 24 finished with values: [0.6950017308299099, 0.06546833593674865] and parameters: {'max_depth': 5, 'eta': 0.21360247423354847, 'subsample': 0.815442221343168, 'colsample_bytree': 0.6356343267999441}.\n",
      "[I 2025-05-16 11:13:58,167] Trial 25 finished with values: [0.6892838652954819, 0.06173788486688808] and parameters: {'max_depth': 5, 'eta': 0.2454770094652492, 'subsample': 0.6517489717264866, 'colsample_bytree': 0.614927472762822}.\n",
      "[I 2025-05-16 11:13:58,284] Trial 26 finished with values: [0.6914236612107233, 0.07046618737077422] and parameters: {'max_depth': 5, 'eta': 0.25246384881896256, 'subsample': 0.710584265014314, 'colsample_bytree': 0.9033848208487228}.\n",
      "[I 2025-05-16 11:13:58,398] Trial 27 finished with values: [0.6807139596793217, 0.08997481782434036] and parameters: {'max_depth': 6, 'eta': 0.11949514730455131, 'subsample': 0.7484569265204213, 'colsample_bytree': 0.8092715950884615}.\n",
      "[I 2025-05-16 11:13:58,505] Trial 28 finished with values: [0.6957185701200553, 0.04048748160146748] and parameters: {'max_depth': 6, 'eta': 0.19264478031626467, 'subsample': 0.6335681899370651, 'colsample_bytree': 0.9369442195524097}.\n",
      "[I 2025-05-16 11:13:58,611] Trial 29 finished with values: [0.6935665205417344, 0.07197209072987855] and parameters: {'max_depth': 7, 'eta': 0.19988731769755852, 'subsample': 0.9860572997810142, 'colsample_bytree': 0.8199733424749844}.\n",
      "[I 2025-05-16 11:13:58,704] Trial 30 finished with values: [0.6828598824261028, 0.05674278839584331] and parameters: {'max_depth': 5, 'eta': 0.12201709060528572, 'subsample': 0.8744736679692016, 'colsample_bytree': 0.6492477234473657}.\n",
      "[I 2025-05-16 11:13:58,819] Trial 31 finished with values: [0.6864256983822102, 0.07867597192224603] and parameters: {'max_depth': 6, 'eta': 0.15106882703476612, 'subsample': 0.6939461627574258, 'colsample_bytree': 0.7720602065357747}.\n",
      "[I 2025-05-16 11:13:58,964] Trial 32 finished with values: [0.6628664994041656, 0.03009085146190829] and parameters: {'max_depth': 3, 'eta': 0.06078006116918214, 'subsample': 0.7980917915210624, 'colsample_bytree': 0.606121867819671}.\n",
      "[I 2025-05-16 11:13:59,076] Trial 33 finished with values: [0.6807093645556669, 0.05295008952142186] and parameters: {'max_depth': 7, 'eta': 0.1141569560888215, 'subsample': 0.6761230232348745, 'colsample_bytree': 0.6327700598234817}.\n",
      "[I 2025-05-16 11:13:59,202] Trial 34 finished with values: [0.683578253424133, 0.05466019919315829] and parameters: {'max_depth': 4, 'eta': 0.23271336208714302, 'subsample': 0.9208574726773356, 'colsample_bytree': 0.9917067118540632}.\n",
      "[I 2025-05-16 11:13:59,371] Trial 35 finished with values: [0.6628726262357053, 0.02740544950845732] and parameters: {'max_depth': 3, 'eta': 0.024780602130106265, 'subsample': 0.780647209345796, 'colsample_bytree': 0.7439018258083563}.\n",
      "[I 2025-05-16 11:13:59,500] Trial 36 finished with values: [0.6814323306773519, 0.07858214878940342] and parameters: {'max_depth': 6, 'eta': 0.046352437463744255, 'subsample': 0.6837878295896335, 'colsample_bytree': 0.8108600176956511}.\n",
      "[I 2025-05-16 11:13:59,633] Trial 37 finished with values: [0.6771496754310992, 0.06182608583879803] and parameters: {'max_depth': 6, 'eta': 0.04939755514373935, 'subsample': 0.879402603931374, 'colsample_bytree': 0.6849661967811597}.\n",
      "[I 2025-05-16 11:13:59,745] Trial 38 finished with values: [0.6864318252137499, 0.07213184917996354] and parameters: {'max_depth': 5, 'eta': 0.17381875537541655, 'subsample': 0.7650548280670587, 'colsample_bytree': 0.7667197132536866}.\n",
      "[I 2025-05-16 11:13:59,854] Trial 39 finished with values: [0.6678659939405636, 0.017347930519467064] and parameters: {'max_depth': 3, 'eta': 0.11489592111973883, 'subsample': 0.7910834210656791, 'colsample_bytree': 0.8418137568663913}.\n",
      "[I 2025-05-16 11:13:59,997] Trial 40 finished with values: [0.6728639567690767, 0.046284762128598105] and parameters: {'max_depth': 4, 'eta': 0.060149813684501015, 'subsample': 0.8573033062456392, 'colsample_bytree': 0.9768112067744346}.\n",
      "[I 2025-05-16 11:14:00,132] Trial 41 finished with values: [0.6792894713463405, 0.06967743652304806] and parameters: {'max_depth': 5, 'eta': 0.1590419471240881, 'subsample': 0.6011556686987163, 'colsample_bytree': 0.8361290844285744}.\n",
      "[I 2025-05-16 11:14:00,222] Trial 42 finished with values: [0.6692935456893144, 0.048280961740155746] and parameters: {'max_depth': 3, 'eta': 0.2936897669663166, 'subsample': 0.6914723502439146, 'colsample_bytree': 0.9297547458147053}.\n",
      "[I 2025-05-16 11:14:00,353] Trial 43 finished with values: [0.7064160179883775, 0.0840786805667501] and parameters: {'max_depth': 6, 'eta': 0.18221623912120863, 'subsample': 0.812906801781691, 'colsample_bytree': 0.9086750443881186}.\n",
      "[I 2025-05-16 11:14:00,456] Trial 44 finished with values: [0.6800078423443708, 0.03611610991275092] and parameters: {'max_depth': 3, 'eta': 0.29832685015568067, 'subsample': 0.6737707837445414, 'colsample_bytree': 0.9112377904314756}.\n",
      "[I 2025-05-16 11:14:00,606] Trial 45 finished with values: [0.688559367465912, 0.06456516612776046] and parameters: {'max_depth': 7, 'eta': 0.07273594403304075, 'subsample': 0.8727543084663578, 'colsample_bytree': 0.9281378690781742}.\n",
      "[I 2025-05-16 11:14:00,735] Trial 46 finished with values: [0.6849966149255743, 0.051379797813649264] and parameters: {'max_depth': 6, 'eta': 0.08225186174893301, 'subsample': 0.7830783936943375, 'colsample_bytree': 0.8127693884939402}.\n",
      "[I 2025-05-16 11:14:00,841] Trial 47 finished with values: [0.6885670260053365, 0.048449545829528574] and parameters: {'max_depth': 4, 'eta': 0.29356824957241445, 'subsample': 0.9226284682188499, 'colsample_bytree': 0.606061630220735}.\n",
      "[I 2025-05-16 11:14:00,938] Trial 48 finished with values: [0.6621527235297903, 0.027562127609125065] and parameters: {'max_depth': 3, 'eta': 0.1339941975133255, 'subsample': 0.9126539044180272, 'colsample_bytree': 0.6105540585764826}.\n",
      "[I 2025-05-16 11:14:01,051] Trial 49 finished with values: [0.688576216252646, 0.061446684492439375] and parameters: {'max_depth': 6, 'eta': 0.1559264052404293, 'subsample': 0.9992536513326076, 'colsample_bytree': 0.6699433012746162}.\n",
      "[I 2025-05-16 11:14:01,063] A new study created in memory with name: no-name-412c58de-0305-46a0-891c-652e447e874c\n"
     ]
    },
    {
     "name": "stdout",
     "output_type": "stream",
     "text": [
      "Completed study for alpha=0.75\n",
      "4\n"
     ]
    },
    {
     "name": "stderr",
     "output_type": "stream",
     "text": [
      "[I 2025-05-16 11:14:01,262] Trial 0 finished with values: [0.6607221083652695, 0.01626638701720584] and parameters: {'max_depth': 5, 'eta': 0.06864267733518287, 'subsample': 0.929248583752071, 'colsample_bytree': 0.6149266479067287}.\n",
      "[I 2025-05-16 11:14:01,417] Trial 1 finished with values: [0.6642971145686865, 0.02291408423134314] and parameters: {'max_depth': 3, 'eta': 0.24912782646517545, 'subsample': 0.8045471095306472, 'colsample_bytree': 0.680454244473342}.\n",
      "[I 2025-05-16 11:14:01,544] Trial 2 finished with values: [0.6650139538588317, 0.0211610689657042] and parameters: {'max_depth': 4, 'eta': 0.25499506464220084, 'subsample': 0.7768555750307267, 'colsample_bytree': 0.6698622693777796}.\n",
      "[I 2025-05-16 11:14:01,755] Trial 3 finished with values: [0.664304773108111, 0.015319964672414485] and parameters: {'max_depth': 6, 'eta': 0.2892059352920822, 'subsample': 0.8578143915133993, 'colsample_bytree': 0.7156371247938105}.\n",
      "[I 2025-05-16 11:14:01,949] Trial 4 finished with values: [0.6664415056075826, 0.028202028008393176] and parameters: {'max_depth': 4, 'eta': 0.22040915704890002, 'subsample': 0.6559265978923552, 'colsample_bytree': 0.8598473954271852}.\n",
      "[I 2025-05-16 11:14:02,182] Trial 5 finished with values: [0.6571547607012772, 0.02304841829048589] and parameters: {'max_depth': 5, 'eta': 0.014420901095309465, 'subsample': 0.9671778797981543, 'colsample_bytree': 0.7942132077628905}.\n",
      "[I 2025-05-16 11:14:02,291] Trial 6 finished with values: [0.6607282351968092, 0.019208140842764815] and parameters: {'max_depth': 3, 'eta': 0.20588983769245353, 'subsample': 0.9663795326703374, 'colsample_bytree': 0.988427837012961}.\n",
      "[I 2025-05-16 11:14:02,409] Trial 7 finished with values: [0.6614404793632996, 0.027660393295651776] and parameters: {'max_depth': 7, 'eta': 0.2485914760009541, 'subsample': 0.6385297909310207, 'colsample_bytree': 0.9297159021837069}.\n",
      "[I 2025-05-16 11:14:02,518] Trial 8 finished with values: [0.6578715999914224, 0.019135212850722588] and parameters: {'max_depth': 6, 'eta': 0.18251304669068996, 'subsample': 0.9536908593861502, 'colsample_bytree': 0.8486591374651052}.\n",
      "[I 2025-05-16 11:14:02,665] Trial 9 finished with values: [0.6564379214111319, 0.020362788956763272] and parameters: {'max_depth': 3, 'eta': 0.1288304696263337, 'subsample': 0.8925543686601427, 'colsample_bytree': 0.6969530288344968}.\n",
      "[I 2025-05-16 11:14:02,794] Trial 10 finished with values: [0.6607282351968092, 0.020472156947465053] and parameters: {'max_depth': 6, 'eta': 0.08749611129740512, 'subsample': 0.7661749998404539, 'colsample_bytree': 0.7680920392863947}.\n",
      "[I 2025-05-16 11:14:02,929] Trial 11 finished with values: [0.6621542552376751, 0.010023463082942894] and parameters: {'max_depth': 7, 'eta': 0.1577811951048122, 'subsample': 0.8302865200327152, 'colsample_bytree': 0.6813275435736288}.\n",
      "[I 2025-05-16 11:14:03,035] Trial 12 finished with values: [0.6635848704021959, 0.016719238604878655] and parameters: {'max_depth': 4, 'eta': 0.10785997942470753, 'subsample': 0.6438917331312407, 'colsample_bytree': 0.7182950310096381}.\n",
      "[I 2025-05-16 11:14:03,132] Trial 13 finished with values: [0.6657292614410921, 0.013808869050115255] and parameters: {'max_depth': 4, 'eta': 0.2152229933503031, 'subsample': 0.7962747411580448, 'colsample_bytree': 0.6471563251234308}.\n",
      "[I 2025-05-16 11:14:03,255] Trial 14 finished with values: [0.6578700682835376, 0.01826131349930891] and parameters: {'max_depth': 4, 'eta': 0.0311972445387984, 'subsample': 0.8502430876566933, 'colsample_bytree': 0.6575812804737857}.\n",
      "[I 2025-05-16 11:14:03,399] Trial 15 finished with values: [0.6671583448977279, 0.026853012228431495] and parameters: {'max_depth': 6, 'eta': 0.28463797709279604, 'subsample': 0.9545657345859698, 'colsample_bytree': 0.6415567200213467}.\n",
      "[I 2025-05-16 11:14:03,498] Trial 16 finished with values: [0.6657246663174373, 0.019443380802383076] and parameters: {'max_depth': 5, 'eta': 0.13730991302852688, 'subsample': 0.7781249662312236, 'colsample_bytree': 0.6151990906615709}.\n",
      "[I 2025-05-16 11:14:03,603] Trial 17 finished with values: [0.6657231346095523, 0.013269399069619492] and parameters: {'max_depth': 5, 'eta': 0.15224211013984498, 'subsample': 0.7035191961952738, 'colsample_bytree': 0.8697879718946475}.\n",
      "[I 2025-05-16 11:14:03,705] Trial 18 finished with values: [0.6557272089525262, 0.017164136845170912] and parameters: {'max_depth': 5, 'eta': 0.07293481245762969, 'subsample': 0.9176393101645257, 'colsample_bytree': 0.8128522073920458}.\n",
      "[I 2025-05-16 11:14:03,819] Trial 19 finished with values: [0.6664461007312373, 0.02174391099309529] and parameters: {'max_depth': 7, 'eta': 0.0745482071320494, 'subsample': 0.6046265865061645, 'colsample_bytree': 0.772262230728959}.\n",
      "[I 2025-05-16 11:14:03,949] Trial 20 finished with values: [0.6678675256484485, 0.02268279131936035] and parameters: {'max_depth': 5, 'eta': 0.024666019221923616, 'subsample': 0.7491504648282271, 'colsample_bytree': 0.9373679483964608}.\n",
      "[I 2025-05-16 11:14:04,036] Trial 21 finished with values: [0.6557272089525262, 0.03083824750117803] and parameters: {'max_depth': 6, 'eta': 0.13674569546121595, 'subsample': 0.9256395626029325, 'colsample_bytree': 0.9951604262448239}.\n",
      "[I 2025-05-16 11:14:04,119] Trial 22 finished with values: [0.67145325380706, 0.03005312173228153] and parameters: {'max_depth': 3, 'eta': 0.2689603299988896, 'subsample': 0.6074186917404555, 'colsample_bytree': 0.7322543348482331}.\n",
      "[I 2025-05-16 11:14:04,225] Trial 23 finished with values: [0.6621542552376751, 0.01555749415186635] and parameters: {'max_depth': 6, 'eta': 0.19540897243581068, 'subsample': 0.7159509479091377, 'colsample_bytree': 0.8365975237265213}.\n",
      "[I 2025-05-16 11:14:04,321] Trial 24 finished with values: [0.6650139538588317, 0.029490765618576043] and parameters: {'max_depth': 4, 'eta': 0.13514335893458002, 'subsample': 0.6149488875906529, 'colsample_bytree': 0.783966796888275}.\n",
      "[I 2025-05-16 11:14:04,414] Trial 25 finished with values: [0.6621542552376751, 0.017286796659293613] and parameters: {'max_depth': 6, 'eta': 0.08924857077856518, 'subsample': 0.7818451414805099, 'colsample_bytree': 0.9053060524528976}.\n",
      "[I 2025-05-16 11:14:04,494] Trial 26 finished with values: [0.66143435253176, 0.019349067824513826] and parameters: {'max_depth': 4, 'eta': 0.2954956390160982, 'subsample': 0.8345606002328008, 'colsample_bytree': 0.9690732209392904}.\n",
      "[I 2025-05-16 11:14:04,599] Trial 27 finished with values: [0.6592976200322884, 0.017352871827234672] and parameters: {'max_depth': 6, 'eta': 0.038512372557178494, 'subsample': 0.8475766141287815, 'colsample_bytree': 0.618547105772686}.\n",
      "[I 2025-05-16 11:14:04,695] Trial 28 finished with values: [0.6557256772446413, 0.013480434893097026] and parameters: {'max_depth': 4, 'eta': 0.08486017533708418, 'subsample': 0.908631708507325, 'colsample_bytree': 0.8808688683611852}.\n",
      "[I 2025-05-16 11:14:04,806] Trial 29 finished with values: [0.6557272089525262, 0.025558401898751786] and parameters: {'max_depth': 3, 'eta': 0.06060453062141549, 'subsample': 0.9145468615341363, 'colsample_bytree': 0.9468211061801486}.\n",
      "[I 2025-05-16 11:14:04,892] Trial 30 finished with values: [0.6592976200322884, 0.013532364728929167] and parameters: {'max_depth': 4, 'eta': 0.18874244189669134, 'subsample': 0.8859553100242044, 'colsample_bytree': 0.8517393623817126}.\n",
      "[I 2025-05-16 11:14:04,999] Trial 31 finished with values: [0.6635772118627713, 0.030954495708008577] and parameters: {'max_depth': 5, 'eta': 0.2663128047372819, 'subsample': 0.8702743065269603, 'colsample_bytree': 0.9379521829945131}.\n",
      "[I 2025-05-16 11:14:05,144] Trial 32 finished with values: [0.6592960883244036, 0.020057907459807123] and parameters: {'max_depth': 4, 'eta': 0.028150796552138993, 'subsample': 0.9413605147793821, 'colsample_bytree': 0.8236212928239526}.\n",
      "[I 2025-05-16 11:14:05,234] Trial 33 finished with values: [0.6635787435706563, 0.018478395966430482] and parameters: {'max_depth': 6, 'eta': 0.1268822328104047, 'subsample': 0.8441976865627525, 'colsample_bytree': 0.632953320150521}.\n",
      "[I 2025-05-16 11:14:05,344] Trial 34 finished with values: [0.6685843649385937, 0.02353107071846952] and parameters: {'max_depth': 4, 'eta': 0.2963267727273045, 'subsample': 0.7180728212990826, 'colsample_bytree': 0.8108033651076114}.\n",
      "[I 2025-05-16 11:14:05,461] Trial 35 finished with values: [0.6600159910303186, 0.029019932509297287] and parameters: {'max_depth': 5, 'eta': 0.2644267404564869, 'subsample': 0.8931134311190865, 'colsample_bytree': 0.7566088313460126}.\n",
      "[I 2025-05-16 11:14:05,572] Trial 36 finished with values: [0.6721517126025861, 0.02004176487243207] and parameters: {'max_depth': 4, 'eta': 0.07831320229979007, 'subsample': 0.6085680208136824, 'colsample_bytree': 0.8477924019674304}.\n",
      "[I 2025-05-16 11:14:05,689] Trial 37 finished with values: [0.6564425165347866, 0.022370189290239068] and parameters: {'max_depth': 5, 'eta': 0.1063618603578049, 'subsample': 0.8927021321242424, 'colsample_bytree': 0.9484574466673992}.\n",
      "[I 2025-05-16 11:14:05,833] Trial 38 finished with values: [0.6578654731598828, 0.017543617392179384] and parameters: {'max_depth': 6, 'eta': 0.19103461877932618, 'subsample': 0.9835265543915378, 'colsample_bytree': 0.7138361286447785}.\n",
      "[I 2025-05-16 11:14:05,948] Trial 39 finished with values: [0.6650185489824865, 0.03754793544889228] and parameters: {'max_depth': 4, 'eta': 0.17330076870221955, 'subsample': 0.6311266195948915, 'colsample_bytree': 0.9488721294485113}.\n",
      "[I 2025-05-16 11:14:06,048] Trial 40 finished with values: [0.6550134330781509, 0.02177849899180905] and parameters: {'max_depth': 3, 'eta': 0.13533366048591597, 'subsample': 0.9730761493829997, 'colsample_bytree': 0.7818163432164729}.\n",
      "[I 2025-05-16 11:14:06,171] Trial 41 finished with values: [0.6614404793632996, 0.023667049239699218] and parameters: {'max_depth': 3, 'eta': 0.18239625538071855, 'subsample': 0.8495968809284754, 'colsample_bytree': 0.9254818940105737}.\n",
      "[I 2025-05-16 11:14:06,333] Trial 42 finished with values: [0.6557272089525262, 0.025558401898751786] and parameters: {'max_depth': 5, 'eta': 0.05289555118153071, 'subsample': 0.8436543615859902, 'colsample_bytree': 0.9951080068052935}.\n",
      "[I 2025-05-16 11:14:06,473] Trial 43 finished with values: [0.662157318653445, 0.020092571963622897] and parameters: {'max_depth': 4, 'eta': 0.06080132951000425, 'subsample': 0.6787403823796394, 'colsample_bytree': 0.808499675546693}.\n",
      "[I 2025-05-16 11:14:06,588] Trial 44 finished with values: [0.6621542552376751, 0.010670070026133691] and parameters: {'max_depth': 7, 'eta': 0.17304472340973953, 'subsample': 0.8578906933997682, 'colsample_bytree': 0.8982000622349307}.\n",
      "[I 2025-05-16 11:14:06,738] Trial 45 finished with values: [0.6643001779844563, 0.01234923584777912] and parameters: {'max_depth': 7, 'eta': 0.05447762925520076, 'subsample': 0.6496316754971888, 'colsample_bytree': 0.8974154885667345}.\n",
      "[I 2025-05-16 11:14:06,951] Trial 46 finished with values: [0.6650154855667166, 0.020821404237607588] and parameters: {'max_depth': 4, 'eta': 0.2925476253988054, 'subsample': 0.6928709415356294, 'colsample_bytree': 0.6405021167458731}.\n",
      "[I 2025-05-16 11:14:07,113] Trial 47 finished with values: [0.655008837954496, 0.021523337434227307] and parameters: {'max_depth': 6, 'eta': 0.049800921056000876, 'subsample': 0.8001092553685012, 'colsample_bytree': 0.9176569211461755}.\n",
      "[I 2025-05-16 11:14:07,286] Trial 48 finished with values: [0.6585823124500281, 0.02213451526656357] and parameters: {'max_depth': 6, 'eta': 0.018713152061127017, 'subsample': 0.9074359919323796, 'colsample_bytree': 0.845876781616294}.\n",
      "[I 2025-05-16 11:14:07,383] Trial 49 finished with values: [0.6578746634071923, 0.025166084436165793] and parameters: {'max_depth': 6, 'eta': 0.2610281956270933, 'subsample': 0.8898972490095871, 'colsample_bytree': 0.7318113659779804}.\n",
      "[I 2025-05-16 11:14:07,394] A new study created in memory with name: no-name-b16c1bd8-29b3-41e0-933b-9c8fbebaa875\n",
      "[I 2025-05-16 11:14:07,501] Trial 0 finished with values: [0.6657261980253222, 0.018305774254407825] and parameters: {'max_depth': 6, 'eta': 0.26146173657480376, 'subsample': 0.7663471230974214, 'colsample_bytree': 0.7412939031194951}.\n"
     ]
    },
    {
     "name": "stdout",
     "output_type": "stream",
     "text": [
      "Completed study for alpha=0.0625\n",
      "5\n"
     ]
    },
    {
     "name": "stderr",
     "output_type": "stream",
     "text": [
      "[I 2025-05-16 11:14:07,605] Trial 1 finished with values: [0.6707226291459504, 0.012983203043084202] and parameters: {'max_depth': 5, 'eta': 0.08347524377979988, 'subsample': 0.8714882670409142, 'colsample_bytree': 0.6997347174055625}.\n",
      "[I 2025-05-16 11:14:07,746] Trial 2 finished with values: [0.6707226291459504, 0.012983203043084202] and parameters: {'max_depth': 5, 'eta': 0.06066634407666788, 'subsample': 0.6164942511988197, 'colsample_bytree': 0.794704612045686}.\n",
      "[I 2025-05-16 11:14:07,844] Trial 3 finished with values: [0.6707226291459504, 0.012983203043084202] and parameters: {'max_depth': 5, 'eta': 0.17463707575646373, 'subsample': 0.9474724416522708, 'colsample_bytree': 0.667993365180039}.\n",
      "[I 2025-05-16 11:14:07,944] Trial 4 finished with values: [0.6707226291459504, 0.012983203043084202] and parameters: {'max_depth': 6, 'eta': 0.06759622438491181, 'subsample': 0.6834007833493334, 'colsample_bytree': 0.7946100369537081}.\n",
      "[I 2025-05-16 11:14:08,040] Trial 5 finished with values: [0.6642986462765713, 0.015622554976171868] and parameters: {'max_depth': 4, 'eta': 0.26566340510794567, 'subsample': 0.8678696713304268, 'colsample_bytree': 0.7443968858994859}.\n",
      "[I 2025-05-16 11:14:08,136] Trial 6 finished with values: [0.6707226291459504, 0.012983203043084202] and parameters: {'max_depth': 4, 'eta': 0.1022715431932978, 'subsample': 0.6575867467629121, 'colsample_bytree': 0.7877669383934433}.\n",
      "[I 2025-05-16 11:14:08,234] Trial 7 finished with values: [0.6728685518927314, 0.008640771281297588] and parameters: {'max_depth': 5, 'eta': 0.23760095866089273, 'subsample': 0.6079501323526242, 'colsample_bytree': 0.6128764443498148}.\n",
      "[I 2025-05-16 11:14:08,326] Trial 8 finished with values: [0.6707226291459504, 0.012983203043084202] and parameters: {'max_depth': 4, 'eta': 0.09011399560841749, 'subsample': 0.9490762262522748, 'colsample_bytree': 0.96734831623569}.\n",
      "[I 2025-05-16 11:14:08,430] Trial 9 finished with values: [0.6707226291459504, 0.012983203043084202] and parameters: {'max_depth': 5, 'eta': 0.19607943326822716, 'subsample': 0.6676701369577291, 'colsample_bytree': 0.7739981561974678}.\n",
      "[I 2025-05-16 11:14:08,519] Trial 10 finished with values: [0.6678751841878733, 0.02630631565993255] and parameters: {'max_depth': 4, 'eta': 0.2954647347670967, 'subsample': 0.7872679722014564, 'colsample_bytree': 0.803586811436422}.\n",
      "[I 2025-05-16 11:14:08,645] Trial 11 finished with values: [0.6707226291459504, 0.012983203043084202] and parameters: {'max_depth': 4, 'eta': 0.035437840221098554, 'subsample': 0.8052311641613247, 'colsample_bytree': 0.8985105483710933}.\n",
      "[I 2025-05-16 11:14:08,739] Trial 12 finished with values: [0.6707226291459504, 0.012983203043084202] and parameters: {'max_depth': 4, 'eta': 0.1599131363036772, 'subsample': 0.6770835607337249, 'colsample_bytree': 0.8113295813656487}.\n",
      "[I 2025-05-16 11:14:08,819] Trial 13 finished with values: [0.6707226291459504, 0.012983203043084202] and parameters: {'max_depth': 5, 'eta': 0.2196189753741957, 'subsample': 0.67054310517296, 'colsample_bytree': 0.9469740742180744}.\n",
      "[I 2025-05-16 11:14:08,902] Trial 14 finished with values: [0.6707226291459504, 0.012983203043084202] and parameters: {'max_depth': 4, 'eta': 0.13683407322124003, 'subsample': 0.6890646730323554, 'colsample_bytree': 0.8545903023163568}.\n",
      "[I 2025-05-16 11:14:09,035] Trial 15 finished with values: [0.6707226291459504, 0.012983203043084202] and parameters: {'max_depth': 4, 'eta': 0.02206773318655357, 'subsample': 0.776845856578821, 'colsample_bytree': 0.6497876566489633}.\n",
      "[I 2025-05-16 11:14:09,150] Trial 16 finished with values: [0.6707226291459504, 0.012983203043084202] and parameters: {'max_depth': 6, 'eta': 0.08999274980193478, 'subsample': 0.8795639136557627, 'colsample_bytree': 0.7553007472232812}.\n",
      "[I 2025-05-16 11:14:09,252] Trial 17 finished with values: [0.6707226291459504, 0.012983203043084202] and parameters: {'max_depth': 6, 'eta': 0.09623297769841899, 'subsample': 0.8093687901851496, 'colsample_bytree': 0.7730653108327954}.\n",
      "[I 2025-05-16 11:14:09,363] Trial 18 finished with values: [0.6707226291459504, 0.012983203043084202] and parameters: {'max_depth': 3, 'eta': 0.16434218125597452, 'subsample': 0.9361189708005265, 'colsample_bytree': 0.6252687841722294}.\n",
      "[I 2025-05-16 11:14:09,466] Trial 19 finished with values: [0.668581301522824, 0.022290391438709145] and parameters: {'max_depth': 6, 'eta': 0.10980152196858495, 'subsample': 0.9981225783066744, 'colsample_bytree': 0.7310081699581553}.\n",
      "[I 2025-05-16 11:14:09,574] Trial 20 finished with values: [0.6707226291459504, 0.012983203043084202] and parameters: {'max_depth': 5, 'eta': 0.06249595365936566, 'subsample': 0.7014575057126581, 'colsample_bytree': 0.6069616324496843}.\n",
      "[I 2025-05-16 11:14:09,670] Trial 21 finished with values: [0.668581301522824, 0.019607172160473196] and parameters: {'max_depth': 6, 'eta': 0.26046423314632833, 'subsample': 0.7570140018937536, 'colsample_bytree': 0.7320487664625216}.\n",
      "[I 2025-05-16 11:14:09,764] Trial 22 finished with values: [0.6642986462765713, 0.015622554976171868] and parameters: {'max_depth': 5, 'eta': 0.27387589151681657, 'subsample': 0.783089431494031, 'colsample_bytree': 0.918335203608625}.\n",
      "[I 2025-05-16 11:14:09,858] Trial 23 finished with values: [0.6707226291459504, 0.012983203043084202] and parameters: {'max_depth': 3, 'eta': 0.1639881684784345, 'subsample': 0.9570587035940159, 'colsample_bytree': 0.7994013665726281}.\n",
      "[I 2025-05-16 11:14:09,953] Trial 24 finished with values: [0.6707226291459504, 0.012983203043084202] and parameters: {'max_depth': 7, 'eta': 0.09417607045559985, 'subsample': 0.7517149798811367, 'colsample_bytree': 0.8322637721576739}.\n",
      "[I 2025-05-16 11:14:10,068] Trial 25 finished with values: [0.6707226291459504, 0.012983203043084202] and parameters: {'max_depth': 4, 'eta': 0.1440605098041636, 'subsample': 0.7055432607585737, 'colsample_bytree': 0.6795320760867606}.\n",
      "[I 2025-05-16 11:14:10,272] Trial 26 finished with values: [0.6707226291459504, 0.012983203043084202] and parameters: {'max_depth': 4, 'eta': 0.019854697413381875, 'subsample': 0.6976205877610883, 'colsample_bytree': 0.9728112190742867}.\n",
      "[I 2025-05-16 11:14:10,386] Trial 27 finished with values: [0.6707226291459504, 0.012983203043084202] and parameters: {'max_depth': 7, 'eta': 0.09173265559786908, 'subsample': 0.8389737598042832, 'colsample_bytree': 0.8778498278689109}.\n",
      "[I 2025-05-16 11:14:10,513] Trial 28 finished with values: [0.6707226291459504, 0.012983203043084202] and parameters: {'max_depth': 3, 'eta': 0.1990753242498653, 'subsample': 0.7184397635442241, 'colsample_bytree': 0.8183895477995318}.\n",
      "[I 2025-05-16 11:14:10,668] Trial 29 finished with values: [0.6707226291459504, 0.012983203043084202] and parameters: {'max_depth': 3, 'eta': 0.1874662352688333, 'subsample': 0.9117002283624993, 'colsample_bytree': 0.7430395354703104}.\n",
      "[I 2025-05-16 11:14:10,784] Trial 30 finished with values: [0.6714379367282106, 0.0346917915073004] and parameters: {'max_depth': 6, 'eta': 0.26457584321837063, 'subsample': 0.851058255073379, 'colsample_bytree': 0.7129064754320819}.\n",
      "[I 2025-05-16 11:14:10,919] Trial 31 finished with values: [0.6642986462765713, 0.02041871804571623] and parameters: {'max_depth': 3, 'eta': 0.2334666335492779, 'subsample': 0.9377052087459019, 'colsample_bytree': 0.8542006768996662}.\n",
      "[I 2025-05-16 11:14:11,031] Trial 32 finished with values: [0.6707226291459504, 0.012983203043084202] and parameters: {'max_depth': 7, 'eta': 0.08247138338530734, 'subsample': 0.85411330192609, 'colsample_bytree': 0.8129251908215556}.\n",
      "[I 2025-05-16 11:14:11,209] Trial 33 finished with values: [0.6707226291459504, 0.012983203043084202] and parameters: {'max_depth': 4, 'eta': 0.15720758620232328, 'subsample': 0.9668510701936179, 'colsample_bytree': 0.9001342132489916}.\n",
      "[I 2025-05-16 11:14:11,402] Trial 34 finished with values: [0.6707226291459504, 0.012983203043084202] and parameters: {'max_depth': 3, 'eta': 0.02829865763683931, 'subsample': 0.8099792991969761, 'colsample_bytree': 0.9357957447219443}.\n",
      "[I 2025-05-16 11:14:11,504] Trial 35 finished with values: [0.6728685518927314, 0.023029260489930665] and parameters: {'max_depth': 4, 'eta': 0.24528746022425343, 'subsample': 0.8170142345527717, 'colsample_bytree': 0.7150615439061139}.\n",
      "[I 2025-05-16 11:14:11,614] Trial 36 finished with values: [0.668581301522824, 0.019607172160473196] and parameters: {'max_depth': 4, 'eta': 0.25629108464337136, 'subsample': 0.7586342023427487, 'colsample_bytree': 0.7339511088348205}.\n",
      "[I 2025-05-16 11:14:11,718] Trial 37 finished with values: [0.6707226291459504, 0.012983203043084202] and parameters: {'max_depth': 6, 'eta': 0.08387835072967967, 'subsample': 0.9184593691630636, 'colsample_bytree': 0.9633543424090415}.\n",
      "[I 2025-05-16 11:14:11,818] Trial 38 finished with values: [0.6707226291459504, 0.012983203043084202] and parameters: {'max_depth': 4, 'eta': 0.27612404925963946, 'subsample': 0.8461544542227051, 'colsample_bytree': 0.6149751912872095}.\n",
      "[I 2025-05-16 11:14:11,927] Trial 39 finished with values: [0.6707226291459504, 0.012983203043084202] and parameters: {'max_depth': 4, 'eta': 0.04641225918366891, 'subsample': 0.8738461026041044, 'colsample_bytree': 0.6550987418171127}.\n",
      "[I 2025-05-16 11:14:12,061] Trial 40 finished with values: [0.6707226291459504, 0.012983203043084202] and parameters: {'max_depth': 6, 'eta': 0.020857827036444607, 'subsample': 0.7404308125573079, 'colsample_bytree': 0.8191525722005004}.\n",
      "[I 2025-05-16 11:14:12,171] Trial 41 finished with values: [0.6707226291459504, 0.012983203043084202] and parameters: {'max_depth': 3, 'eta': 0.1287626870632438, 'subsample': 0.8420528556298166, 'colsample_bytree': 0.9761939053832219}.\n",
      "[I 2025-05-16 11:14:12,274] Trial 42 finished with values: [0.6707226291459504, 0.012983203043084202] and parameters: {'max_depth': 7, 'eta': 0.21932604741991685, 'subsample': 0.8105938536338874, 'colsample_bytree': 0.9939610539198576}.\n",
      "[I 2025-05-16 11:14:12,430] Trial 43 finished with values: [0.6707226291459504, 0.012983203043084202] and parameters: {'max_depth': 3, 'eta': 0.2602862743745953, 'subsample': 0.6519064739870073, 'colsample_bytree': 0.9224396696208755}.\n",
      "[I 2025-05-16 11:14:12,568] Trial 44 finished with values: [0.6707226291459504, 0.012983203043084202] and parameters: {'max_depth': 3, 'eta': 0.08875486408763834, 'subsample': 0.6087344112961371, 'colsample_bytree': 0.8220867625100594}.\n",
      "[I 2025-05-16 11:14:12,672] Trial 45 finished with values: [0.6707226291459504, 0.012983203043084202] and parameters: {'max_depth': 7, 'eta': 0.13863422938013417, 'subsample': 0.9647696346324336, 'colsample_bytree': 0.8619017671554319}.\n",
      "[I 2025-05-16 11:14:12,782] Trial 46 finished with values: [0.6707226291459504, 0.02737169225171728] and parameters: {'max_depth': 4, 'eta': 0.20688367294822185, 'subsample': 0.8964275100179406, 'colsample_bytree': 0.8945342092986603}.\n",
      "[I 2025-05-16 11:14:12,880] Trial 47 finished with values: [0.6707226291459504, 0.012983203043084202] and parameters: {'max_depth': 6, 'eta': 0.23192362183024703, 'subsample': 0.6759145446786381, 'colsample_bytree': 0.8022021543360551}.\n",
      "[I 2025-05-16 11:14:13,002] Trial 48 finished with values: [0.6707226291459504, 0.012983203043084202] and parameters: {'max_depth': 4, 'eta': 0.08141747352025386, 'subsample': 0.9816345661105019, 'colsample_bytree': 0.971137734046255}.\n",
      "[I 2025-05-16 11:14:13,150] Trial 49 finished with values: [0.6707226291459504, 0.012983203043084202] and parameters: {'max_depth': 4, 'eta': 0.12411041383118375, 'subsample': 0.9170552126199716, 'colsample_bytree': 0.818130090706261}.\n",
      "[I 2025-05-16 11:14:13,165] A new study created in memory with name: no-name-8cdd84ba-b45b-42cf-a38b-82e3bb905240\n",
      "[I 2025-05-16 11:14:13,301] Trial 0 finished with values: [0.6707226291459504, 0.012983203043084202] and parameters: {'max_depth': 6, 'eta': 0.11070467937456387, 'subsample': 0.9469941269766866, 'colsample_bytree': 0.8446057246645187}.\n"
     ]
    },
    {
     "name": "stdout",
     "output_type": "stream",
     "text": [
      "Completed study for alpha=0.03125\n",
      "6\n"
     ]
    },
    {
     "name": "stderr",
     "output_type": "stream",
     "text": [
      "[I 2025-05-16 11:14:13,460] Trial 1 finished with values: [0.5000061268315397, 0.0] and parameters: {'max_depth': 5, 'eta': 0.05282487573863137, 'subsample': 0.8688659694886003, 'colsample_bytree': 0.6687411708124102}.\n",
      "[I 2025-05-16 11:14:13,557] Trial 2 finished with values: [0.5000061268315397, 0.0] and parameters: {'max_depth': 7, 'eta': 0.08372690858062241, 'subsample': 0.8563846795134045, 'colsample_bytree': 0.7309155604898364}.\n",
      "[I 2025-05-16 11:14:13,683] Trial 3 finished with values: [0.5000061268315397, 0.0] and parameters: {'max_depth': 3, 'eta': 0.28822284053179853, 'subsample': 0.783220194767384, 'colsample_bytree': 0.6015478535729558}.\n",
      "[I 2025-05-16 11:14:13,801] Trial 4 finished with values: [0.5000061268315397, 0.0] and parameters: {'max_depth': 3, 'eta': 0.09547624326518088, 'subsample': 0.6556799773469568, 'colsample_bytree': 0.6688066062507025}.\n",
      "[I 2025-05-16 11:14:13,911] Trial 5 finished with values: [0.5000061268315397, 0.0] and parameters: {'max_depth': 4, 'eta': 0.10788967612493529, 'subsample': 0.8192776139396813, 'colsample_bytree': 0.6062918389308377}.\n",
      "[I 2025-05-16 11:14:14,040] Trial 6 finished with values: [0.6200322884022142, 0.03279546821303892] and parameters: {'max_depth': 4, 'eta': 0.23298235665603034, 'subsample': 0.8873576240580987, 'colsample_bytree': 0.6665752322748953}.\n",
      "[I 2025-05-16 11:14:14,146] Trial 7 finished with values: [0.6707226291459504, 0.012983203043084202] and parameters: {'max_depth': 4, 'eta': 0.12922019023211662, 'subsample': 0.9707130895954086, 'colsample_bytree': 0.8742806992888643}.\n",
      "[I 2025-05-16 11:14:14,253] Trial 8 finished with values: [0.5000061268315397, 0.0] and parameters: {'max_depth': 5, 'eta': 0.14412841925547973, 'subsample': 0.7441449554671535, 'colsample_bytree': 0.9978570961546182}.\n",
      "[I 2025-05-16 11:14:14,357] Trial 9 finished with values: [0.6014741156684527, 0.031239727699774456] and parameters: {'max_depth': 6, 'eta': 0.18527278073522405, 'subsample': 0.8811210485422891, 'colsample_bytree': 0.6656450403539825}.\n",
      "[I 2025-05-16 11:14:14,546] Trial 10 finished with values: [0.5857496025218039, 0.005923475224541064] and parameters: {'max_depth': 7, 'eta': 0.23532670181147988, 'subsample': 0.8548404244297101, 'colsample_bytree': 0.9550437244219515}.\n",
      "[I 2025-05-16 11:14:14,664] Trial 11 finished with values: [0.5000061268315397, 0.0] and parameters: {'max_depth': 6, 'eta': 0.24116526270219274, 'subsample': 0.6059801784119339, 'colsample_bytree': 0.9474141954748924}.\n",
      "[I 2025-05-16 11:14:14,799] Trial 12 finished with values: [0.5000061268315397, 0.0] and parameters: {'max_depth': 5, 'eta': 0.16773066395065583, 'subsample': 0.7664666706942118, 'colsample_bytree': 0.7799102833888101}.\n",
      "[I 2025-05-16 11:14:14,955] Trial 13 finished with values: [0.668581301522824, 0.013870781047535752] and parameters: {'max_depth': 4, 'eta': 0.2939386161058166, 'subsample': 0.9677852135628724, 'colsample_bytree': 0.8989067325078374}.\n",
      "[I 2025-05-16 11:14:15,095] Trial 14 finished with values: [0.5000061268315397, 0.0] and parameters: {'max_depth': 6, 'eta': 0.17172476786199078, 'subsample': 0.7544024334376713, 'colsample_bytree': 0.8389494062771977}.\n",
      "[I 2025-05-16 11:14:15,238] Trial 15 finished with values: [0.6628710945278204, 0.013679610400423111] and parameters: {'max_depth': 3, 'eta': 0.2593629958933308, 'subsample': 0.9471467873834171, 'colsample_bytree': 0.9706764916027718}.\n",
      "[I 2025-05-16 11:14:15,349] Trial 16 finished with values: [0.5000061268315397, 0.0] and parameters: {'max_depth': 4, 'eta': 0.159188773628048, 'subsample': 0.6584109071301673, 'colsample_bytree': 0.9070237952399165}.\n",
      "[I 2025-05-16 11:14:15,478] Trial 17 finished with values: [0.5000061268315397, 0.0] and parameters: {'max_depth': 3, 'eta': 0.14465094587734828, 'subsample': 0.673314755430849, 'colsample_bytree': 0.9156512803949187}.\n",
      "[I 2025-05-16 11:14:15,574] Trial 18 finished with values: [0.5000061268315397, 0.0] and parameters: {'max_depth': 7, 'eta': 0.07810133178769622, 'subsample': 0.6668885608652129, 'colsample_bytree': 0.9814105925387485}.\n",
      "[I 2025-05-16 11:14:15,691] Trial 19 finished with values: [0.6707226291459504, 0.012983203043084202] and parameters: {'max_depth': 4, 'eta': 0.12676843706095883, 'subsample': 0.9340231103943422, 'colsample_bytree': 0.7181461232368335}.\n",
      "[I 2025-05-16 11:14:15,803] Trial 20 finished with values: [0.6014741156684527, 0.031239727699774456] and parameters: {'max_depth': 3, 'eta': 0.09761228128904126, 'subsample': 0.8854345572048216, 'colsample_bytree': 0.8461391831887889}.\n",
      "[I 2025-05-16 11:14:15,918] Trial 21 finished with values: [0.5000061268315397, 0.0] and parameters: {'max_depth': 6, 'eta': 0.239809321518833, 'subsample': 0.7372409555580071, 'colsample_bytree': 0.7506323253469216}.\n",
      "[I 2025-05-16 11:14:16,026] Trial 22 finished with values: [0.6707226291459504, 0.012983203043084202] and parameters: {'max_depth': 6, 'eta': 0.1481824752054422, 'subsample': 0.9770873188946665, 'colsample_bytree': 0.9320500529951875}.\n",
      "[I 2025-05-16 11:14:16,135] Trial 23 finished with values: [0.5000061268315397, 0.0] and parameters: {'max_depth': 6, 'eta': 0.2533122158376075, 'subsample': 0.6186612120641177, 'colsample_bytree': 0.678586002018507}.\n",
      "[I 2025-05-16 11:14:16,243] Trial 24 finished with values: [0.5000061268315397, 0.0] and parameters: {'max_depth': 3, 'eta': 0.19956517594749332, 'subsample': 0.6445735627167003, 'colsample_bytree': 0.6734099589000748}.\n",
      "[I 2025-05-16 11:14:16,366] Trial 25 finished with values: [0.5000061268315397, 0.0] and parameters: {'max_depth': 6, 'eta': 0.015005242279499079, 'subsample': 0.8478537393400378, 'colsample_bytree': 0.6688937419879207}.\n",
      "[I 2025-05-16 11:14:16,483] Trial 26 finished with values: [0.6707226291459504, 0.012983203043084202] and parameters: {'max_depth': 7, 'eta': 0.0319211440793219, 'subsample': 0.9475947091680386, 'colsample_bytree': 0.6604303773526985}.\n",
      "[I 2025-05-16 11:14:16,573] Trial 27 finished with values: [0.5000061268315397, 0.0] and parameters: {'max_depth': 7, 'eta': 0.2623430398695148, 'subsample': 0.6267906169452108, 'colsample_bytree': 0.8817893416813183}.\n",
      "[I 2025-05-16 11:14:16,655] Trial 28 finished with values: [0.5000061268315397, 0.0] and parameters: {'max_depth': 4, 'eta': 0.10080246813454916, 'subsample': 0.8582652364621817, 'colsample_bytree': 0.9113463085482474}.\n",
      "[I 2025-05-16 11:14:16,744] Trial 29 finished with values: [0.6014741156684527, 0.031239727699774456] and parameters: {'max_depth': 3, 'eta': 0.1288014911528456, 'subsample': 0.8850458802965302, 'colsample_bytree': 0.8238585366860255}.\n",
      "[I 2025-05-16 11:14:16,824] Trial 30 finished with values: [0.5000061268315397, 0.0] and parameters: {'max_depth': 5, 'eta': 0.1985210481431259, 'subsample': 0.6598146778239323, 'colsample_bytree': 0.8559365670271386}.\n",
      "[I 2025-05-16 11:14:16,907] Trial 31 finished with values: [0.5000061268315397, 0.0] and parameters: {'max_depth': 6, 'eta': 0.1867342897156249, 'subsample': 0.7363590765116471, 'colsample_bytree': 0.7736606486245381}.\n",
      "[I 2025-05-16 11:14:16,995] Trial 32 finished with values: [0.5000061268315397, 0.0] and parameters: {'max_depth': 7, 'eta': 0.1344493958942249, 'subsample': 0.7029365269038469, 'colsample_bytree': 0.7078215988512673}.\n",
      "[I 2025-05-16 11:14:17,093] Trial 33 finished with values: [0.5000061268315397, 0.0] and parameters: {'max_depth': 6, 'eta': 0.2153267672334731, 'subsample': 0.6384622802673569, 'colsample_bytree': 0.7946829316528887}.\n",
      "[I 2025-05-16 11:14:17,202] Trial 34 finished with values: [0.5771842920292984, 0.01153118417932845] and parameters: {'max_depth': 4, 'eta': 0.033599849983653444, 'subsample': 0.8802036407299887, 'colsample_bytree': 0.8816877867432069}.\n",
      "[I 2025-05-16 11:14:17,296] Trial 35 finished with values: [0.5000061268315397, 0.0] and parameters: {'max_depth': 6, 'eta': 0.02564431010418422, 'subsample': 0.7739859453202573, 'colsample_bytree': 0.6514663372615046}.\n",
      "[I 2025-05-16 11:14:17,379] Trial 36 finished with values: [0.5000061268315397, 0.0] and parameters: {'max_depth': 7, 'eta': 0.2143242696050911, 'subsample': 0.6226133559502905, 'colsample_bytree': 0.970442451418382}.\n",
      "[I 2025-05-16 11:14:17,464] Trial 37 finished with values: [0.6707226291459504, 0.012983203043084202] and parameters: {'max_depth': 4, 'eta': 0.1553939889328053, 'subsample': 0.9952272352019265, 'colsample_bytree': 0.6632751741093783}.\n",
      "[I 2025-05-16 11:14:17,547] Trial 38 finished with values: [0.5000061268315397, 0.0] and parameters: {'max_depth': 7, 'eta': 0.1921514676321913, 'subsample': 0.7666950768764461, 'colsample_bytree': 0.7646391817968418}.\n",
      "[I 2025-05-16 11:14:17,629] Trial 39 finished with values: [0.6707226291459504, 0.012983203043084202] and parameters: {'max_depth': 7, 'eta': 0.15278148585178775, 'subsample': 0.9917257424130392, 'colsample_bytree': 0.8248147924419234}.\n",
      "[I 2025-05-16 11:14:17,715] Trial 40 finished with values: [0.5000061268315397, 0.0] and parameters: {'max_depth': 3, 'eta': 0.20201505438051665, 'subsample': 0.6375008130110201, 'colsample_bytree': 0.9064031481534256}.\n",
      "[I 2025-05-16 11:14:17,802] Trial 41 finished with values: [0.5000061268315397, 0.0] and parameters: {'max_depth': 4, 'eta': 0.1714604853604534, 'subsample': 0.6102328176005107, 'colsample_bytree': 0.7623950674722261}.\n",
      "[I 2025-05-16 11:14:17,884] Trial 42 finished with values: [0.5000061268315397, 0.0] and parameters: {'max_depth': 7, 'eta': 0.1887695811133497, 'subsample': 0.6067653833783324, 'colsample_bytree': 0.7191107933100409}.\n",
      "[I 2025-05-16 11:14:17,977] Trial 43 finished with values: [0.6200322884022142, 0.03279546821303892] and parameters: {'max_depth': 6, 'eta': 0.2742330437737439, 'subsample': 0.8815242910507928, 'colsample_bytree': 0.6864444277182481}.\n",
      "[I 2025-05-16 11:14:18,078] Trial 44 finished with values: [0.5000061268315397, 0.0] and parameters: {'max_depth': 7, 'eta': 0.1361094730164366, 'subsample': 0.7257804208279028, 'colsample_bytree': 0.7656372773008584}.\n",
      "[I 2025-05-16 11:14:18,165] Trial 45 finished with values: [0.5000061268315397, 0.0] and parameters: {'max_depth': 6, 'eta': 0.29064789941426245, 'subsample': 0.6452273185986401, 'colsample_bytree': 0.7987377675701421}.\n",
      "[I 2025-05-16 11:14:18,244] Trial 46 finished with values: [0.5000061268315397, 0.0] and parameters: {'max_depth': 5, 'eta': 0.014813939451964058, 'subsample': 0.6383648488773548, 'colsample_bytree': 0.7352413292458683}.\n",
      "[I 2025-05-16 11:14:18,336] Trial 47 finished with values: [0.5000061268315397, 0.0] and parameters: {'max_depth': 7, 'eta': 0.20778702389034737, 'subsample': 0.752191985905323, 'colsample_bytree': 0.6153083872609281}.\n",
      "[I 2025-05-16 11:14:18,427] Trial 48 finished with values: [0.5000061268315397, 0.0] and parameters: {'max_depth': 3, 'eta': 0.06110177884395826, 'subsample': 0.7943434046757596, 'colsample_bytree': 0.8955475822328798}.\n",
      "[I 2025-05-16 11:14:18,523] Trial 49 finished with values: [0.5000061268315397, 0.0] and parameters: {'max_depth': 6, 'eta': 0.01736381357188141, 'subsample': 0.7306859218995903, 'colsample_bytree': 0.8304699197664588}.\n",
      "[I 2025-05-16 11:14:18,535] A new study created in memory with name: no-name-cb81dbb6-69ce-42de-bed5-00d206e9f57c\n",
      "[I 2025-05-16 11:14:18,642] Trial 0 finished with values: [0.6707226291459504, 0.012983203043084202] and parameters: {'max_depth': 6, 'eta': 0.09428408982443498, 'subsample': 0.9126128515786456, 'colsample_bytree': 0.9734441246881029}.\n"
     ]
    },
    {
     "name": "stdout",
     "output_type": "stream",
     "text": [
      "Completed study for alpha=0.015625\n",
      "7\n"
     ]
    },
    {
     "name": "stderr",
     "output_type": "stream",
     "text": [
      "[I 2025-05-16 11:14:18,742] Trial 1 finished with values: [0.6707226291459504, 0.012983203043084202] and parameters: {'max_depth': 4, 'eta': 0.19089578479423744, 'subsample': 0.8995277025088886, 'colsample_bytree': 0.8960482734464708}.\n",
      "[I 2025-05-16 11:14:18,853] Trial 2 finished with values: [0.6707226291459504, 0.012983203043084202] and parameters: {'max_depth': 4, 'eta': 0.17487208523010944, 'subsample': 0.9793696210966348, 'colsample_bytree': 0.8843175381156422}.\n",
      "[I 2025-05-16 11:14:18,951] Trial 3 finished with values: [0.6707226291459504, 0.012983203043084202] and parameters: {'max_depth': 5, 'eta': 0.13954437566538086, 'subsample': 0.9034410236362823, 'colsample_bytree': 0.9522784355925448}.\n",
      "[I 2025-05-16 11:14:19,070] Trial 4 finished with values: [0.6707226291459504, 0.012983203043084202] and parameters: {'max_depth': 5, 'eta': 0.05925205040353617, 'subsample': 0.8273706269477274, 'colsample_bytree': 0.8063113375383473}.\n",
      "[I 2025-05-16 11:14:19,204] Trial 5 finished with values: [0.6707226291459504, 0.012983203043084202] and parameters: {'max_depth': 7, 'eta': 0.02919955189909268, 'subsample': 0.7888304118646211, 'colsample_bytree': 0.9460579858316865}.\n",
      "[I 2025-05-16 11:14:19,301] Trial 6 finished with values: [0.6707226291459504, 0.012983203043084202] and parameters: {'max_depth': 5, 'eta': 0.22337377589103682, 'subsample': 0.7000563034707756, 'colsample_bytree': 0.9890113676677746}.\n",
      "[I 2025-05-16 11:14:19,447] Trial 7 finished with values: [0.6678690573563335, 0.011644356256125052] and parameters: {'max_depth': 6, 'eta': 0.17452168487437716, 'subsample': 0.635595343351068, 'colsample_bytree': 0.9112175129765345}.\n",
      "[I 2025-05-16 11:14:19,572] Trial 8 finished with values: [0.6664445690233525, 0.011280123214385254] and parameters: {'max_depth': 6, 'eta': 0.293275448471973, 'subsample': 0.9218917637863363, 'colsample_bytree': 0.7853952555337184}.\n",
      "[I 2025-05-16 11:14:19,709] Trial 9 finished with values: [0.6707226291459504, 0.012983203043084202] and parameters: {'max_depth': 4, 'eta': 0.05836149952049436, 'subsample': 0.6322049945357334, 'colsample_bytree': 0.6736249820517326}.\n",
      "[I 2025-05-16 11:14:19,820] Trial 10 finished with values: [0.6707226291459504, 0.012983203043084202] and parameters: {'max_depth': 7, 'eta': 0.08680328494664963, 'subsample': 0.6811491359053735, 'colsample_bytree': 0.6618781951904539}.\n",
      "[I 2025-05-16 11:14:19,928] Trial 11 finished with values: [0.6707226291459504, 0.012983203043084202] and parameters: {'max_depth': 3, 'eta': 0.15925434768496044, 'subsample': 0.7344588557716386, 'colsample_bytree': 0.7560209831955929}.\n",
      "[I 2025-05-16 11:14:20,065] Trial 12 finished with values: [0.6707226291459504, 0.012983203043084202] and parameters: {'max_depth': 3, 'eta': 0.20508143106192167, 'subsample': 0.6677438665394436, 'colsample_bytree': 0.7176861358557427}.\n",
      "[I 2025-05-16 11:14:20,182] Trial 13 finished with values: [0.6707226291459504, 0.012983203043084202] and parameters: {'max_depth': 7, 'eta': 0.2682552614490254, 'subsample': 0.9864794213163702, 'colsample_bytree': 0.6414970447201983}.\n",
      "[I 2025-05-16 11:14:20,319] Trial 14 finished with values: [0.6707226291459504, 0.012983203043084202] and parameters: {'max_depth': 3, 'eta': 0.05333895548314541, 'subsample': 0.8969799662799339, 'colsample_bytree': 0.9108115768489513}.\n",
      "[I 2025-05-16 11:14:20,420] Trial 15 finished with values: [0.6707226291459504, 0.012983203043084202] and parameters: {'max_depth': 4, 'eta': 0.18214838631039387, 'subsample': 0.7324111439879905, 'colsample_bytree': 0.7166487956264601}.\n",
      "[I 2025-05-16 11:14:20,553] Trial 16 finished with values: [0.6671552814819579, 0.026001366857369552] and parameters: {'max_depth': 4, 'eta': 0.29578312145498836, 'subsample': 0.6268003424169755, 'colsample_bytree': 0.8666801546636189}.\n",
      "[I 2025-05-16 11:14:20,663] Trial 17 finished with values: [0.6578746634071923, 0.024935954194740522] and parameters: {'max_depth': 4, 'eta': 0.2740153172138004, 'subsample': 0.6024978866106785, 'colsample_bytree': 0.7525271683854216}.\n",
      "[I 2025-05-16 11:14:20,768] Trial 18 finished with values: [0.6707226291459504, 0.012983203043084202] and parameters: {'max_depth': 6, 'eta': 0.25742678239935135, 'subsample': 0.9924807047044854, 'colsample_bytree': 0.6766287996768439}.\n",
      "[I 2025-05-16 11:14:20,872] Trial 19 finished with values: [0.6707226291459504, 0.012983203043084202] and parameters: {'max_depth': 3, 'eta': 0.15283570578153585, 'subsample': 0.9734849669478977, 'colsample_bytree': 0.9953212192709142}.\n",
      "[I 2025-05-16 11:14:20,981] Trial 20 finished with values: [0.6642986462765713, 0.015622554976171868] and parameters: {'max_depth': 7, 'eta': 0.2715434449174954, 'subsample': 0.9307983729464645, 'colsample_bytree': 0.724370257435343}.\n",
      "[I 2025-05-16 11:14:21,063] Trial 21 finished with values: [0.6707226291459504, 0.012983203043084202] and parameters: {'max_depth': 7, 'eta': 0.16553088637233793, 'subsample': 0.6430964562211553, 'colsample_bytree': 0.8574516100408864}.\n",
      "[I 2025-05-16 11:14:21,167] Trial 22 finished with values: [0.6642986462765713, 0.015622554976171868] and parameters: {'max_depth': 3, 'eta': 0.2579130145786796, 'subsample': 0.9267369611837122, 'colsample_bytree': 0.7008698729327121}.\n",
      "[I 2025-05-16 11:14:21,283] Trial 23 finished with values: [0.6707226291459504, 0.012983203043084202] and parameters: {'max_depth': 6, 'eta': 0.05939161552189178, 'subsample': 0.7297569204182809, 'colsample_bytree': 0.9141819765255406}.\n",
      "[I 2025-05-16 11:14:21,401] Trial 24 finished with values: [0.6642986462765713, 0.015622554976171868] and parameters: {'max_depth': 7, 'eta': 0.253885456991521, 'subsample': 0.8733847740431439, 'colsample_bytree': 0.6649461452933224}.\n",
      "[I 2025-05-16 11:14:21,507] Trial 25 finished with values: [0.6707226291459504, 0.012983203043084202] and parameters: {'max_depth': 5, 'eta': 0.13358495219086464, 'subsample': 0.7052253943159257, 'colsample_bytree': 0.9061640828436419}.\n",
      "[I 2025-05-16 11:14:21,619] Trial 26 finished with values: [0.667153749774073, 0.011713283744407388] and parameters: {'max_depth': 7, 'eta': 0.06276523908746723, 'subsample': 0.6111918085227149, 'colsample_bytree': 0.8875547323862234}.\n",
      "[I 2025-05-16 11:14:21,720] Trial 27 finished with values: [0.6707226291459504, 0.012983203043084202] and parameters: {'max_depth': 5, 'eta': 0.21701020960512582, 'subsample': 0.75826993392829, 'colsample_bytree': 0.6166033242745684}.\n",
      "[I 2025-05-16 11:14:21,835] Trial 28 finished with values: [0.6707226291459504, 0.012983203043084202] and parameters: {'max_depth': 4, 'eta': 0.14545767302061682, 'subsample': 0.6461146272387613, 'colsample_bytree': 0.6758215019058742}.\n",
      "[I 2025-05-16 11:14:21,941] Trial 29 finished with values: [0.6707226291459504, 0.012983203043084202] and parameters: {'max_depth': 3, 'eta': 0.2518967160767262, 'subsample': 0.6876037686343439, 'colsample_bytree': 0.9671182279501601}.\n",
      "[I 2025-05-16 11:14:22,036] Trial 30 finished with values: [0.6707226291459504, 0.012983203043084202] and parameters: {'max_depth': 4, 'eta': 0.24496649961742017, 'subsample': 0.9321411703007365, 'colsample_bytree': 0.8777307265268183}.\n",
      "[I 2025-05-16 11:14:22,145] Trial 31 finished with values: [0.6614435427790696, 0.0204991415118214] and parameters: {'max_depth': 3, 'eta': 0.20123112329925685, 'subsample': 0.6140903512085462, 'colsample_bytree': 0.8931361395818465}.\n",
      "[I 2025-05-16 11:14:22,239] Trial 32 finished with values: [0.6678675256484485, 0.021274131276107517] and parameters: {'max_depth': 3, 'eta': 0.22256671552144983, 'subsample': 0.621241360628796, 'colsample_bytree': 0.6565167463429648}.\n",
      "[I 2025-05-16 11:14:22,340] Trial 33 finished with values: [0.6707226291459504, 0.012983203043084202] and parameters: {'max_depth': 4, 'eta': 0.21598756459636934, 'subsample': 0.9144848149571293, 'colsample_bytree': 0.6914798987584067}.\n",
      "[I 2025-05-16 11:14:22,481] Trial 34 finished with values: [0.6642986462765713, 0.01773549876748028] and parameters: {'max_depth': 7, 'eta': 0.2521171220237676, 'subsample': 0.7155874458063538, 'colsample_bytree': 0.9162244989070605}.\n",
      "[I 2025-05-16 11:14:22,604] Trial 35 finished with values: [0.6707226291459504, 0.012983203043084202] and parameters: {'max_depth': 5, 'eta': 0.1193770642435841, 'subsample': 0.9643696195303364, 'colsample_bytree': 0.8086163965443964}.\n",
      "[I 2025-05-16 11:14:22,719] Trial 36 finished with values: [0.6707226291459504, 0.012983203043084202] and parameters: {'max_depth': 3, 'eta': 0.18687896350506772, 'subsample': 0.9290000925725113, 'colsample_bytree': 0.6679392198927169}.\n",
      "[I 2025-05-16 11:14:22,828] Trial 37 finished with values: [0.6707226291459504, 0.012983203043084202] and parameters: {'max_depth': 6, 'eta': 0.12752984320227426, 'subsample': 0.9380062174790902, 'colsample_bytree': 0.8711962506193652}.\n",
      "[I 2025-05-16 11:14:23,023] Trial 38 finished with values: [0.6707226291459504, 0.012983203043084202] and parameters: {'max_depth': 7, 'eta': 0.029639951271378813, 'subsample': 0.7842709000061276, 'colsample_bytree': 0.9658499704973066}.\n",
      "[I 2025-05-16 11:14:23,153] Trial 39 finished with values: [0.6728685518927314, 0.008640771281297588] and parameters: {'max_depth': 6, 'eta': 0.281781090593341, 'subsample': 0.7118015058573265, 'colsample_bytree': 0.7085926525760763}.\n",
      "[I 2025-05-16 11:14:23,301] Trial 40 finished with values: [0.6707226291459504, 0.012983203043084202] and parameters: {'max_depth': 6, 'eta': 0.03634795902405302, 'subsample': 0.6179059759561522, 'colsample_bytree': 0.7184254205120348}.\n",
      "[I 2025-05-16 11:14:23,408] Trial 41 finished with values: [0.6707226291459504, 0.012983203043084202] and parameters: {'max_depth': 5, 'eta': 0.21879622425106668, 'subsample': 0.7422754415181592, 'colsample_bytree': 0.9674123008428539}.\n",
      "[I 2025-05-16 11:14:23,516] Trial 42 finished with values: [0.6707226291459504, 0.012983203043084202] and parameters: {'max_depth': 4, 'eta': 0.19641951327082208, 'subsample': 0.8436431101276197, 'colsample_bytree': 0.7037672853214709}.\n",
      "[I 2025-05-16 11:14:23,641] Trial 43 finished with values: [0.6707226291459504, 0.012983203043084202] and parameters: {'max_depth': 7, 'eta': 0.10165793529263956, 'subsample': 0.9357375552524788, 'colsample_bytree': 0.966912745121799}.\n",
      "[I 2025-05-16 11:14:23,746] Trial 44 finished with values: [0.6707226291459504, 0.012983203043084202] and parameters: {'max_depth': 6, 'eta': 0.11816474151461044, 'subsample': 0.8055829597494244, 'colsample_bytree': 0.7706765681978602}.\n",
      "[I 2025-05-16 11:14:23,871] Trial 45 finished with values: [0.6707226291459504, 0.012983203043084202] and parameters: {'max_depth': 5, 'eta': 0.2514672326171712, 'subsample': 0.902886009248652, 'colsample_bytree': 0.8334140000392011}.\n",
      "[I 2025-05-16 11:14:23,968] Trial 46 finished with values: [0.6707226291459504, 0.012983203043084202] and parameters: {'max_depth': 6, 'eta': 0.1616153762679216, 'subsample': 0.9415558549764075, 'colsample_bytree': 0.7850386926948814}.\n",
      "[I 2025-05-16 11:14:24,094] Trial 47 finished with values: [0.6707226291459504, 0.012983203043084202] and parameters: {'max_depth': 7, 'eta': 0.03223181142423789, 'subsample': 0.6636180554356764, 'colsample_bytree': 0.6264952500599397}.\n",
      "[I 2025-05-16 11:14:24,187] Trial 48 finished with values: [0.6707226291459504, 0.012983203043084202] and parameters: {'max_depth': 5, 'eta': 0.2399187023440184, 'subsample': 0.7830010048967477, 'colsample_bytree': 0.8269215374854214}.\n",
      "[I 2025-05-16 11:14:24,282] Trial 49 finished with values: [0.6707226291459504, 0.012983203043084202] and parameters: {'max_depth': 6, 'eta': 0.1860202288493077, 'subsample': 0.869654571770243, 'colsample_bytree': 0.907825543003746}.\n",
      "[I 2025-05-16 11:14:24,293] A new study created in memory with name: no-name-eafd3f1f-3fb1-4213-9912-3c0e16519b1f\n",
      "[I 2025-05-16 11:14:24,392] Trial 0 finished with values: [0.6707226291459504, 0.012983203043084202] and parameters: {'max_depth': 7, 'eta': 0.09661292156046324, 'subsample': 0.7661964568863022, 'colsample_bytree': 0.9600501492490134}.\n"
     ]
    },
    {
     "name": "stdout",
     "output_type": "stream",
     "text": [
      "Completed study for alpha=0.0234375\n",
      "8\n"
     ]
    },
    {
     "name": "stderr",
     "output_type": "stream",
     "text": [
      "[I 2025-05-16 11:14:24,493] Trial 1 finished with values: [0.6657261980253223, 0.025445747897029785] and parameters: {'max_depth': 4, 'eta': 0.2945986535698568, 'subsample': 0.7729987336825482, 'colsample_bytree': 0.8334937179808003}.\n",
      "[I 2025-05-16 11:14:24,587] Trial 2 finished with values: [0.6707226291459504, 0.012983203043084202] and parameters: {'max_depth': 4, 'eta': 0.11988836307020584, 'subsample': 0.924643013895621, 'colsample_bytree': 0.7862917066165132}.\n",
      "[I 2025-05-16 11:14:24,687] Trial 3 finished with values: [0.6707226291459504, 0.012983203043084202] and parameters: {'max_depth': 3, 'eta': 0.2886238222608369, 'subsample': 0.942954321633328, 'colsample_bytree': 0.6027852655133298}.\n",
      "[I 2025-05-16 11:14:24,769] Trial 4 finished with values: [0.506443895071883, 0.0031430934656741113] and parameters: {'max_depth': 7, 'eta': 0.29508162051441367, 'subsample': 0.60844178549833, 'colsample_bytree': 0.7583924293887808}.\n",
      "[I 2025-05-16 11:14:24,854] Trial 5 finished with values: [0.6707226291459504, 0.012983203043084202] and parameters: {'max_depth': 3, 'eta': 0.24745455252176582, 'subsample': 0.9882861279628458, 'colsample_bytree': 0.6917160822316689}.\n",
      "[I 2025-05-16 11:14:24,933] Trial 6 finished with values: [0.5000061268315397, 0.0] and parameters: {'max_depth': 5, 'eta': 0.0504980502577411, 'subsample': 0.6485748884994879, 'colsample_bytree': 0.6209503294456052}.\n",
      "[I 2025-05-16 11:14:25,010] Trial 7 finished with values: [0.6707226291459504, 0.012983203043084202] and parameters: {'max_depth': 6, 'eta': 0.21785346324335944, 'subsample': 0.8270416186976279, 'colsample_bytree': 0.7987254870221566}.\n",
      "[I 2025-05-16 11:14:25,092] Trial 8 finished with values: [0.6707226291459504, 0.012983203043084202] and parameters: {'max_depth': 4, 'eta': 0.11863101092598691, 'subsample': 0.9892826127945609, 'colsample_bytree': 0.8870575750579364}.\n",
      "[I 2025-05-16 11:14:25,171] Trial 9 finished with values: [0.6692950773971994, 0.023306651601310773] and parameters: {'max_depth': 5, 'eta': 0.272419563438541, 'subsample': 0.9286387347188187, 'colsample_bytree': 0.6243128952122807}.\n",
      "[I 2025-05-16 11:14:25,247] Trial 10 finished with values: [0.6707226291459504, 0.012983203043084202] and parameters: {'max_depth': 7, 'eta': 0.15651778888761111, 'subsample': 0.9209604621926777, 'colsample_bytree': 0.832549437568812}.\n",
      "[I 2025-05-16 11:14:25,351] Trial 11 finished with values: [0.6728685518927314, 0.008640771281297588] and parameters: {'max_depth': 7, 'eta': 0.2737592486000729, 'subsample': 0.807639579650747, 'colsample_bytree': 0.9415175117121766}.\n",
      "[I 2025-05-16 11:14:25,452] Trial 12 finished with values: [0.6707226291459504, 0.012983203043084202] and parameters: {'max_depth': 5, 'eta': 0.1287998700861472, 'subsample': 0.9192389513762607, 'colsample_bytree': 0.9190770818271798}.\n",
      "[I 2025-05-16 11:14:25,578] Trial 13 finished with values: [0.6707226291459504, 0.012983203043084202] and parameters: {'max_depth': 3, 'eta': 0.25258522651306803, 'subsample': 0.9857037797522509, 'colsample_bytree': 0.8804692948122665}.\n",
      "[I 2025-05-16 11:14:25,680] Trial 14 finished with values: [0.6707226291459504, 0.012983203043084202] and parameters: {'max_depth': 6, 'eta': 0.24209587325864795, 'subsample': 0.803354346154879, 'colsample_bytree': 0.9277100144138007}.\n",
      "[I 2025-05-16 11:14:25,774] Trial 15 finished with values: [0.6707226291459504, 0.012983203043084202] and parameters: {'max_depth': 4, 'eta': 0.26481879659334084, 'subsample': 0.9399110101686325, 'colsample_bytree': 0.9196692126320269}.\n",
      "[I 2025-05-16 11:14:25,961] Trial 16 finished with values: [0.6707226291459504, 0.012983203043084202] and parameters: {'max_depth': 3, 'eta': 0.011439260847012508, 'subsample': 0.9882799094473127, 'colsample_bytree': 0.6018231229216912}.\n",
      "[I 2025-05-16 11:14:26,067] Trial 17 finished with values: [0.6707226291459504, 0.012983203043084202] and parameters: {'max_depth': 4, 'eta': 0.08199132547785788, 'subsample': 0.9164883202501947, 'colsample_bytree': 0.7674477861639223}.\n",
      "[I 2025-05-16 11:14:26,161] Trial 18 finished with values: [0.6707226291459504, 0.012983203043084202] and parameters: {'max_depth': 7, 'eta': 0.2253996858751448, 'subsample': 0.8216341851550172, 'colsample_bytree': 0.7840197286852301}.\n",
      "[I 2025-05-16 11:14:26,253] Trial 19 finished with values: [0.6707226291459504, 0.012983203043084202] and parameters: {'max_depth': 4, 'eta': 0.2655600517086941, 'subsample': 0.9527781327082963, 'colsample_bytree': 0.7826691938522914}.\n",
      "[I 2025-05-16 11:14:26,332] Trial 20 finished with values: [0.6393042370103513, 0.040359097511747925] and parameters: {'max_depth': 7, 'eta': 0.17016493035992158, 'subsample': 0.7196816410974926, 'colsample_bytree': 0.8315489036004233}.\n",
      "[I 2025-05-16 11:14:26,413] Trial 21 finished with values: [0.6707226291459504, 0.012983203043084202] and parameters: {'max_depth': 5, 'eta': 0.2897133912899329, 'subsample': 0.7732515753417718, 'colsample_bytree': 0.9793530336491402}.\n",
      "[I 2025-05-16 11:14:26,522] Trial 22 finished with values: [0.6707226291459504, 0.012983203043084202] and parameters: {'max_depth': 4, 'eta': 0.033634102986174745, 'subsample': 0.986483691709763, 'colsample_bytree': 0.9548708745953798}.\n",
      "[I 2025-05-16 11:14:26,611] Trial 23 finished with values: [0.6707226291459504, 0.012983203043084202] and parameters: {'max_depth': 4, 'eta': 0.0825436718845426, 'subsample': 0.9043797595979711, 'colsample_bytree': 0.8321473464597887}.\n",
      "[I 2025-05-16 11:14:26,696] Trial 24 finished with values: [0.5000061268315397, 0.0] and parameters: {'max_depth': 5, 'eta': 0.056032283392946636, 'subsample': 0.6692863797115519, 'colsample_bytree': 0.6662425369189185}.\n",
      "[I 2025-05-16 11:14:26,788] Trial 25 finished with values: [0.5000061268315397, 0.0] and parameters: {'max_depth': 7, 'eta': 0.0652905605741016, 'subsample': 0.6135536902550739, 'colsample_bytree': 0.6530644310331641}.\n",
      "[I 2025-05-16 11:14:26,872] Trial 26 finished with values: [0.506443895071883, 0.0031430934656741113] and parameters: {'max_depth': 4, 'eta': 0.2965461707233124, 'subsample': 0.6132511038480319, 'colsample_bytree': 0.8373729831587419}.\n",
      "[I 2025-05-16 11:14:26,988] Trial 27 finished with values: [0.6707226291459504, 0.012983203043084202] and parameters: {'max_depth': 5, 'eta': 0.0204037219232976, 'subsample': 0.7453647395468302, 'colsample_bytree': 0.7818226197487375}.\n",
      "[I 2025-05-16 11:14:27,088] Trial 28 finished with values: [0.6600159910303186, 0.017612263712454567] and parameters: {'max_depth': 3, 'eta': 0.0663937399561844, 'subsample': 0.7308524539795009, 'colsample_bytree': 0.9665017994324956}.\n",
      "[I 2025-05-16 11:14:27,167] Trial 29 finished with values: [0.6293159698927497, 0.016411369585383404] and parameters: {'max_depth': 5, 'eta': 0.261572876803237, 'subsample': 0.6898731748384208, 'colsample_bytree': 0.7275382436548726}.\n",
      "[I 2025-05-16 11:14:27,252] Trial 30 finished with values: [0.6707226291459504, 0.012983203043084202] and parameters: {'max_depth': 5, 'eta': 0.10573764195162606, 'subsample': 0.9010355449045173, 'colsample_bytree': 0.8526661589588671}.\n",
      "[I 2025-05-16 11:14:27,336] Trial 31 finished with values: [0.5843373678519022, 0.018933996420850373] and parameters: {'max_depth': 7, 'eta': 0.23439157594744353, 'subsample': 0.6804662637673782, 'colsample_bytree': 0.8684014983747079}.\n",
      "[I 2025-05-16 11:14:27,434] Trial 32 finished with values: [0.6707226291459504, 0.012983203043084202] and parameters: {'max_depth': 6, 'eta': 0.0843692325787958, 'subsample': 0.8306500033434512, 'colsample_bytree': 0.6975312778202925}.\n",
      "[I 2025-05-16 11:14:27,537] Trial 33 finished with values: [0.5465011196784638, 0.014571271022883933] and parameters: {'max_depth': 4, 'eta': 0.2713434627189316, 'subsample': 0.663992988561379, 'colsample_bytree': 0.8525352395217225}.\n",
      "[I 2025-05-16 11:14:27,630] Trial 34 finished with values: [0.5000061268315397, 0.0] and parameters: {'max_depth': 6, 'eta': 0.10403991152557616, 'subsample': 0.6705008953217879, 'colsample_bytree': 0.9720633045941368}.\n",
      "[I 2025-05-16 11:14:27,791] Trial 35 finished with values: [0.6707226291459504, 0.012983203043084202] and parameters: {'max_depth': 4, 'eta': 0.037109366728601954, 'subsample': 0.8807471246007894, 'colsample_bytree': 0.84013979475412}.\n",
      "[I 2025-05-16 11:14:27,910] Trial 36 finished with values: [0.6707226291459504, 0.012983203043084202] and parameters: {'max_depth': 3, 'eta': 0.25656300249682096, 'subsample': 0.9432624102556402, 'colsample_bytree': 0.9925156651376112}.\n",
      "[I 2025-05-16 11:14:28,018] Trial 37 finished with values: [0.655731804076181, 0.01839157846262422] and parameters: {'max_depth': 6, 'eta': 0.2976429129253446, 'subsample': 0.7237653399243403, 'colsample_bytree': 0.6670542051243361}.\n",
      "[I 2025-05-16 11:14:28,121] Trial 38 finished with values: [0.6707226291459504, 0.012983203043084202] and parameters: {'max_depth': 6, 'eta': 0.29685168040491866, 'subsample': 0.8614877126032889, 'colsample_bytree': 0.99978379548999}.\n",
      "[I 2025-05-16 11:14:28,233] Trial 39 finished with values: [0.6707226291459504, 0.012983203043084202] and parameters: {'max_depth': 3, 'eta': 0.08592682275408667, 'subsample': 0.7892813824231567, 'colsample_bytree': 0.8766386062421414}.\n",
      "[I 2025-05-16 11:14:28,380] Trial 40 finished with values: [0.6707226291459504, 0.012983203043084202] and parameters: {'max_depth': 3, 'eta': 0.023099778016319517, 'subsample': 0.8836743013112571, 'colsample_bytree': 0.826491637518351}.\n",
      "[I 2025-05-16 11:14:28,540] Trial 41 finished with values: [0.6707226291459504, 0.012983203043084202] and parameters: {'max_depth': 7, 'eta': 0.06397351985940415, 'subsample': 0.8901192263059021, 'colsample_bytree': 0.7669020820566788}.\n",
      "[I 2025-05-16 11:14:28,671] Trial 42 finished with values: [0.6707226291459504, 0.012983203043084202] and parameters: {'max_depth': 5, 'eta': 0.06486363962458745, 'subsample': 0.9336322272186744, 'colsample_bytree': 0.8150346203017853}.\n",
      "[I 2025-05-16 11:14:28,762] Trial 43 finished with values: [0.6707226291459504, 0.012983203043084202] and parameters: {'max_depth': 7, 'eta': 0.25200434717576525, 'subsample': 0.806542811153509, 'colsample_bytree': 0.7143012360150807}.\n",
      "[I 2025-05-16 11:14:28,863] Trial 44 finished with values: [0.6707226291459504, 0.012983203043084202] and parameters: {'max_depth': 4, 'eta': 0.14064753568344643, 'subsample': 0.7780891270518129, 'colsample_bytree': 0.6645762487564723}.\n",
      "[I 2025-05-16 11:14:28,958] Trial 45 finished with values: [0.5228959694638716, 0.004052936311000829] and parameters: {'max_depth': 3, 'eta': 0.24515342954059363, 'subsample': 0.6491226533733863, 'colsample_bytree': 0.9888523387052046}.\n",
      "[I 2025-05-16 11:14:29,051] Trial 46 finished with values: [0.6707226291459504, 0.012983203043084202] and parameters: {'max_depth': 5, 'eta': 0.0898697166899629, 'subsample': 0.8372870664185144, 'colsample_bytree': 0.970040320886982}.\n",
      "[I 2025-05-16 11:14:29,139] Trial 47 finished with values: [0.6721532443104711, 0.010777523418049736] and parameters: {'max_depth': 6, 'eta': 0.28091855075954564, 'subsample': 0.8038487202969364, 'colsample_bytree': 0.796964091647697}.\n",
      "[I 2025-05-16 11:14:29,224] Trial 48 finished with values: [0.6707226291459504, 0.012983203043084202] and parameters: {'max_depth': 5, 'eta': 0.14268515914897764, 'subsample': 0.8763639912234937, 'colsample_bytree': 0.9149159726048334}.\n",
      "[I 2025-05-16 11:14:29,317] Trial 49 finished with values: [0.5000061268315397, 0.0] and parameters: {'max_depth': 4, 'eta': 0.24711854433459687, 'subsample': 0.6015367000064538, 'colsample_bytree': 0.8152855122267417}.\n",
      "[I 2025-05-16 11:14:29,329] A new study created in memory with name: no-name-8b355528-e61a-427d-ba37-fdeec77190ea\n",
      "[I 2025-05-16 11:14:29,496] Trial 0 finished with values: [0.6707226291459504, 0.012983203043084202] and parameters: {'max_depth': 4, 'eta': 0.07044454780099176, 'subsample': 0.9025898668610198, 'colsample_bytree': 0.917820800488145}.\n"
     ]
    },
    {
     "name": "stdout",
     "output_type": "stream",
     "text": [
      "Completed study for alpha=0.01953125\n",
      "9\n"
     ]
    },
    {
     "name": "stderr",
     "output_type": "stream",
     "text": [
      "[I 2025-05-16 11:14:29,589] Trial 1 finished with values: [0.6271807691011632, 0.03143399405520433] and parameters: {'max_depth': 6, 'eta': 0.2771153951983825, 'subsample': 0.6229388644117619, 'colsample_bytree': 0.7304056297078669}.\n",
      "[I 2025-05-16 11:14:29,721] Trial 2 finished with values: [0.6707226291459504, 0.012983203043084202] and parameters: {'max_depth': 5, 'eta': 0.03967092924973047, 'subsample': 0.9957549406566285, 'colsample_bytree': 0.7903203207548029}.\n",
      "[I 2025-05-16 11:14:29,816] Trial 3 finished with values: [0.6707226291459504, 0.012983203043084202] and parameters: {'max_depth': 7, 'eta': 0.27571959226150544, 'subsample': 0.8218156081836409, 'colsample_bytree': 0.7341920051982124}.\n",
      "[I 2025-05-16 11:14:29,918] Trial 4 finished with values: [0.6707226291459504, 0.012983203043084202] and parameters: {'max_depth': 6, 'eta': 0.09675310544935294, 'subsample': 0.7624401254673736, 'colsample_bytree': 0.9289080231697819}.\n",
      "[I 2025-05-16 11:14:30,019] Trial 5 finished with values: [0.6707226291459504, 0.012983203043084202] and parameters: {'max_depth': 4, 'eta': 0.19022204054944084, 'subsample': 0.9713218728655642, 'colsample_bytree': 0.7585641093734988}.\n",
      "[I 2025-05-16 11:14:30,127] Trial 6 finished with values: [0.6707226291459504, 0.012983203043084202] and parameters: {'max_depth': 4, 'eta': 0.2058890434625448, 'subsample': 0.737867009542775, 'colsample_bytree': 0.669738404355588}.\n",
      "[I 2025-05-16 11:14:30,221] Trial 7 finished with values: [0.6642986462765713, 0.015622554976171868] and parameters: {'max_depth': 6, 'eta': 0.26967152732151717, 'subsample': 0.8717494231369449, 'colsample_bytree': 0.7101531920117223}.\n",
      "[I 2025-05-16 11:14:30,323] Trial 8 finished with values: [0.6707226291459504, 0.012983203043084202] and parameters: {'max_depth': 4, 'eta': 0.11487825320221749, 'subsample': 0.8320749923167808, 'colsample_bytree': 0.8520764860934936}.\n",
      "[I 2025-05-16 11:14:30,432] Trial 9 finished with values: [0.6707226291459504, 0.012983203043084202] and parameters: {'max_depth': 6, 'eta': 0.06347907178510198, 'subsample': 0.9276065233417963, 'colsample_bytree': 0.9077813462851589}.\n",
      "[I 2025-05-16 11:14:30,537] Trial 10 finished with values: [0.6707226291459504, 0.012983203043084202] and parameters: {'max_depth': 6, 'eta': 0.07344237668611237, 'subsample': 0.9114909807184317, 'colsample_bytree': 0.7728199380328084}.\n",
      "[I 2025-05-16 11:14:30,642] Trial 11 finished with values: [0.6650124221509467, 0.01590769271963564] and parameters: {'max_depth': 7, 'eta': 0.2955304713839571, 'subsample': 0.9003393746881719, 'colsample_bytree': 0.6302063279133405}.\n",
      "[I 2025-05-16 11:14:30,751] Trial 12 finished with values: [0.6707226291459504, 0.012983203043084202] and parameters: {'max_depth': 3, 'eta': 0.27211953241246817, 'subsample': 0.8505717038017024, 'colsample_bytree': 0.7542609228983862}.\n",
      "[I 2025-05-16 11:14:30,861] Trial 13 finished with values: [0.6707226291459504, 0.012983203043084202] and parameters: {'max_depth': 4, 'eta': 0.15279496063362014, 'subsample': 0.7348020825331434, 'colsample_bytree': 0.7238925419732264}.\n",
      "[I 2025-05-16 11:14:30,976] Trial 14 finished with values: [0.6707226291459504, 0.012983203043084202] and parameters: {'max_depth': 5, 'eta': 0.16779380966100574, 'subsample': 0.8730883850205493, 'colsample_bytree': 0.7126205682326062}.\n",
      "[I 2025-05-16 11:14:31,116] Trial 15 finished with values: [0.6050414633324449, 0.016644437794967507] and parameters: {'max_depth': 4, 'eta': 0.24904618527558905, 'subsample': 0.6325300634692917, 'colsample_bytree': 0.8088236538882486}.\n",
      "[I 2025-05-16 11:14:31,325] Trial 16 finished with values: [0.5922057512567663, 0.011420900198076733] and parameters: {'max_depth': 7, 'eta': 0.17471128377975154, 'subsample': 0.6391330136467467, 'colsample_bytree': 0.930811703183205}.\n",
      "[I 2025-05-16 11:14:31,459] Trial 17 finished with values: [0.6707226291459504, 0.012983203043084202] and parameters: {'max_depth': 5, 'eta': 0.13391916992302325, 'subsample': 0.9319074130470824, 'colsample_bytree': 0.9472722225717836}.\n",
      "[I 2025-05-16 11:14:31,768] Trial 18 finished with values: [0.6707226291459504, 0.012983203043084202] and parameters: {'max_depth': 4, 'eta': 0.12221961982584419, 'subsample': 0.8459247135686632, 'colsample_bytree': 0.9469147069723921}.\n",
      "[I 2025-05-16 11:14:32,034] Trial 19 finished with values: [0.6707226291459504, 0.012983203043084202] and parameters: {'max_depth': 3, 'eta': 0.17052447334445037, 'subsample': 0.8975093831592369, 'colsample_bytree': 0.7267208471980249}.\n",
      "[I 2025-05-16 11:14:32,173] Trial 20 finished with values: [0.5000061268315397, 0.0] and parameters: {'max_depth': 3, 'eta': 0.056966858952711155, 'subsample': 0.6032123055973961, 'colsample_bytree': 0.7679043893131532}.\n",
      "[I 2025-05-16 11:14:32,812] Trial 21 finished with values: [0.6707226291459504, 0.012983203043084202] and parameters: {'max_depth': 5, 'eta': 0.19591847375987045, 'subsample': 0.6919107287494681, 'colsample_bytree': 0.8031093517765789}.\n",
      "[I 2025-05-16 11:14:33,005] Trial 22 finished with values: [0.6707226291459504, 0.012983203043084202] and parameters: {'max_depth': 4, 'eta': 0.2549566621337643, 'subsample': 0.9022379010780269, 'colsample_bytree': 0.9886316707126038}.\n",
      "[I 2025-05-16 11:14:33,194] Trial 23 finished with values: [0.6721532443104711, 0.010777523418049736] and parameters: {'max_depth': 7, 'eta': 0.27608557561239283, 'subsample': 0.7493137043243953, 'colsample_bytree': 0.790795806366459}.\n",
      "[I 2025-05-16 11:14:33,458] Trial 24 finished with values: [0.6050537169955242, 0.009147109474557982] and parameters: {'max_depth': 4, 'eta': 0.21806322094946382, 'subsample': 0.6345700544938272, 'colsample_bytree': 0.9119449039380907}.\n",
      "[I 2025-05-16 11:14:33,609] Trial 25 finished with values: [0.6707226291459504, 0.012983203043084202] and parameters: {'max_depth': 3, 'eta': 0.051906090806732884, 'subsample': 0.9818869249730426, 'colsample_bytree': 0.9685129843665272}.\n",
      "[I 2025-05-16 11:14:33,757] Trial 26 finished with values: [0.6457389418349249, 0.03793288436286185] and parameters: {'max_depth': 4, 'eta': 0.22344157704315126, 'subsample': 0.6488855143916425, 'colsample_bytree': 0.7327556522920692}.\n",
      "[I 2025-05-16 11:14:33,858] Trial 27 finished with values: [0.6714379367282106, 0.012914275554801865] and parameters: {'max_depth': 3, 'eta': 0.19077504116847882, 'subsample': 0.6779344194918702, 'colsample_bytree': 0.6451689037901992}.\n",
      "[I 2025-05-16 11:14:33,972] Trial 28 finished with values: [0.6707226291459504, 0.012983203043084202] and parameters: {'max_depth': 6, 'eta': 0.15082016469392326, 'subsample': 0.7519573814125579, 'colsample_bytree': 0.6330277715146199}.\n",
      "[I 2025-05-16 11:14:34,109] Trial 29 finished with values: [0.6707226291459504, 0.012983203043084202] and parameters: {'max_depth': 6, 'eta': 0.031704359948872045, 'subsample': 0.830698598014172, 'colsample_bytree': 0.8501961248552952}.\n",
      "[I 2025-05-16 11:14:34,207] Trial 30 finished with values: [0.6657216029016674, 0.020116149472964417] and parameters: {'max_depth': 3, 'eta': 0.28947903412496573, 'subsample': 0.7020174519055811, 'colsample_bytree': 0.9580905234241219}.\n",
      "[I 2025-05-16 11:14:34,332] Trial 31 finished with values: [0.6707226291459504, 0.012983203043084202] and parameters: {'max_depth': 6, 'eta': 0.1960481856341227, 'subsample': 0.7648780875833803, 'colsample_bytree': 0.8536543292912518}.\n",
      "[I 2025-05-16 11:14:34,445] Trial 32 finished with values: [0.5829144112268061, 0.010801638904333772] and parameters: {'max_depth': 3, 'eta': 0.22448767998807112, 'subsample': 0.6260661971397748, 'colsample_bytree': 0.6870632013435513}.\n",
      "[I 2025-05-16 11:14:34,546] Trial 33 finished with values: [0.5807853372667592, 0.006866007526847864] and parameters: {'max_depth': 7, 'eta': 0.09181091846437141, 'subsample': 0.6394228016263941, 'colsample_bytree': 0.7910074500417386}.\n",
      "[I 2025-05-16 11:14:34,737] Trial 34 finished with values: [0.6707226291459504, 0.012983203043084202] and parameters: {'max_depth': 5, 'eta': 0.24191596748382815, 'subsample': 0.8721084656297063, 'colsample_bytree': 0.7653683995924987}.\n",
      "[I 2025-05-16 11:14:34,839] Trial 35 finished with values: [0.6707226291459504, 0.012983203043084202] and parameters: {'max_depth': 6, 'eta': 0.057134037743281935, 'subsample': 0.7381343641259943, 'colsample_bytree': 0.9469737452767903}.\n",
      "[I 2025-05-16 11:14:34,929] Trial 36 finished with values: [0.5422092741849016, 0.004990350151640473] and parameters: {'max_depth': 6, 'eta': 0.14070569853027198, 'subsample': 0.6150378055052308, 'colsample_bytree': 0.766701482197458}.\n",
      "[I 2025-05-16 11:14:35,021] Trial 37 finished with values: [0.6707226291459504, 0.012983203043084202] and parameters: {'max_depth': 4, 'eta': 0.09018253036157794, 'subsample': 0.898387344968191, 'colsample_bytree': 0.85473354207135}.\n",
      "[I 2025-05-16 11:14:35,124] Trial 38 finished with values: [0.6707226291459504, 0.012983203043084202] and parameters: {'max_depth': 5, 'eta': 0.076539806582635, 'subsample': 0.8263004014667096, 'colsample_bytree': 0.7596505817199127}.\n",
      "[I 2025-05-16 11:14:35,236] Trial 39 finished with values: [0.6707226291459504, 0.012983203043084202] and parameters: {'max_depth': 6, 'eta': 0.0529452409554995, 'subsample': 0.8277906102746067, 'colsample_bytree': 0.6040825384905006}.\n",
      "[I 2025-05-16 11:14:35,331] Trial 40 finished with values: [0.5414939666026413, 0.003942652329749098] and parameters: {'max_depth': 7, 'eta': 0.07133147806276716, 'subsample': 0.6199379172644924, 'colsample_bytree': 0.9180904529555052}.\n",
      "[I 2025-05-16 11:14:35,428] Trial 41 finished with values: [0.6707226291459504, 0.012983203043084202] and parameters: {'max_depth': 3, 'eta': 0.16905906505701776, 'subsample': 0.8966611013892465, 'colsample_bytree': 0.881120511471787}.\n",
      "[I 2025-05-16 11:14:35,551] Trial 42 finished with values: [0.6707226291459504, 0.012983203043084202] and parameters: {'max_depth': 4, 'eta': 0.034558631854401646, 'subsample': 0.6881922845377281, 'colsample_bytree': 0.7849165075194062}.\n",
      "[I 2025-05-16 11:14:35,637] Trial 43 finished with values: [0.6707226291459504, 0.012983203043084202] and parameters: {'max_depth': 5, 'eta': 0.14692796760482693, 'subsample': 0.8873713239523202, 'colsample_bytree': 0.7035536525552428}.\n",
      "[I 2025-05-16 11:14:35,723] Trial 44 finished with values: [0.6485940453324265, 0.022617466045241053] and parameters: {'max_depth': 7, 'eta': 0.2304634789500965, 'subsample': 0.650673916091239, 'colsample_bytree': 0.7967378427110915}.\n",
      "[I 2025-05-16 11:14:35,835] Trial 45 finished with values: [0.6707226291459504, 0.012983203043084202] and parameters: {'max_depth': 5, 'eta': 0.05401981189053671, 'subsample': 0.6827609849919356, 'colsample_bytree': 0.6672070498098631}.\n",
      "[I 2025-05-16 11:14:35,924] Trial 46 finished with values: [0.6707226291459504, 0.012983203043084202] and parameters: {'max_depth': 5, 'eta': 0.1909614326555036, 'subsample': 0.9997388540937839, 'colsample_bytree': 0.9888093342981306}.\n",
      "[I 2025-05-16 11:14:36,011] Trial 47 finished with values: [0.6707226291459504, 0.012983203043084202] and parameters: {'max_depth': 3, 'eta': 0.15548777125494484, 'subsample': 0.833585237153815, 'colsample_bytree': 0.8604740736553025}.\n",
      "[I 2025-05-16 11:14:36,218] Trial 48 finished with values: [0.6707226291459504, 0.012983203043084202] and parameters: {'max_depth': 3, 'eta': 0.01730234954379156, 'subsample': 0.6839547626259218, 'colsample_bytree': 0.7085598553447086}.\n",
      "[I 2025-05-16 11:14:36,416] Trial 49 finished with values: [0.6714379367282106, 0.012914275554801865] and parameters: {'max_depth': 4, 'eta': 0.2115113294924675, 'subsample': 0.6810261686161688, 'colsample_bytree': 0.7809274659966478}.\n",
      "[I 2025-05-16 11:14:36,430] A new study created in memory with name: no-name-978f7d58-0d43-46bd-b6d9-b96b7f6ffd98\n",
      "[I 2025-05-16 11:14:36,545] Trial 0 finished with values: [0.6707226291459504, 0.012983203043084202] and parameters: {'max_depth': 7, 'eta': 0.13022031268894899, 'subsample': 0.8504364429554119, 'colsample_bytree': 0.756177007122353}.\n"
     ]
    },
    {
     "name": "stdout",
     "output_type": "stream",
     "text": [
      "Completed study for alpha=0.021484375\n",
      "10\n"
     ]
    },
    {
     "name": "stderr",
     "output_type": "stream",
     "text": [
      "[I 2025-05-16 11:14:36,815] Trial 1 finished with values: [0.6707226291459504, 0.012983203043084202] and parameters: {'max_depth': 5, 'eta': 0.25868289464769134, 'subsample': 0.8998253390102837, 'colsample_bytree': 0.7994647772102474}.\n",
      "[I 2025-05-16 11:14:37,174] Trial 2 finished with values: [0.6707226291459504, 0.012983203043084202] and parameters: {'max_depth': 5, 'eta': 0.018620106590440576, 'subsample': 0.9903022879324853, 'colsample_bytree': 0.6382476637554029}.\n",
      "[I 2025-05-16 11:14:37,286] Trial 3 finished with values: [0.6707226291459504, 0.012983203043084202] and parameters: {'max_depth': 4, 'eta': 0.12533003687830607, 'subsample': 0.7832412325661223, 'colsample_bytree': 0.6859584725418185}.\n",
      "[I 2025-05-16 11:14:37,434] Trial 4 finished with values: [0.6707226291459504, 0.012983203043084202] and parameters: {'max_depth': 6, 'eta': 0.17221056285644643, 'subsample': 0.7279389267522296, 'colsample_bytree': 0.9448948023637911}.\n",
      "[I 2025-05-16 11:14:37,550] Trial 5 finished with values: [0.6692966091050844, 0.022221463950426807] and parameters: {'max_depth': 7, 'eta': 0.2836149127182215, 'subsample': 0.6526367255807483, 'colsample_bytree': 0.8201161034074906}.\n",
      "[I 2025-05-16 11:14:37,745] Trial 6 finished with values: [0.6707226291459504, 0.012983203043084202] and parameters: {'max_depth': 4, 'eta': 0.23760005332582948, 'subsample': 0.8463680518206929, 'colsample_bytree': 0.7202203416259803}.\n",
      "[I 2025-05-16 11:14:37,892] Trial 7 finished with values: [0.6707226291459504, 0.012983203043084202] and parameters: {'max_depth': 7, 'eta': 0.05984466643679969, 'subsample': 0.8594536293972457, 'colsample_bytree': 0.923999533251297}.\n",
      "[I 2025-05-16 11:14:38,021] Trial 8 finished with values: [0.6707226291459504, 0.012983203043084202] and parameters: {'max_depth': 7, 'eta': 0.08549407877909851, 'subsample': 0.7366341212657632, 'colsample_bytree': 0.9353474106903354}.\n",
      "[I 2025-05-16 11:14:38,270] Trial 9 finished with values: [0.6707226291459504, 0.012983203043084202] and parameters: {'max_depth': 7, 'eta': 0.010157082317004403, 'subsample': 0.67249353942897, 'colsample_bytree': 0.8469463304561651}.\n",
      "[I 2025-05-16 11:14:38,379] Trial 10 finished with values: [0.6707272242696051, 0.01794795967692253] and parameters: {'max_depth': 5, 'eta': 0.2991254372780151, 'subsample': 0.7529850792881492, 'colsample_bytree': 0.9830147687259801}.\n",
      "[I 2025-05-16 11:14:38,528] Trial 11 finished with values: [0.6707226291459504, 0.012983203043084202] and parameters: {'max_depth': 6, 'eta': 0.019666292374891998, 'subsample': 0.7963641243150699, 'colsample_bytree': 0.8969756476510258}.\n",
      "[I 2025-05-16 11:14:38,641] Trial 12 finished with values: [0.6707226291459504, 0.012983203043084202] and parameters: {'max_depth': 6, 'eta': 0.058960073990145995, 'subsample': 0.8860475463261595, 'colsample_bytree': 0.817799657916761}.\n",
      "[I 2025-05-16 11:14:38,742] Trial 13 finished with values: [0.6707272242696051, 0.01794795967692253] and parameters: {'max_depth': 4, 'eta': 0.2952834179072869, 'subsample': 0.7324362600989278, 'colsample_bytree': 0.9425087089651298}.\n",
      "[I 2025-05-16 11:14:38,859] Trial 14 finished with values: [0.6707226291459504, 0.012983203043084202] and parameters: {'max_depth': 3, 'eta': 0.26070198328184796, 'subsample': 0.8354053386360115, 'colsample_bytree': 0.8888502946922403}.\n",
      "[I 2025-05-16 11:14:38,970] Trial 15 finished with values: [0.6707226291459504, 0.012983203043084202] and parameters: {'max_depth': 4, 'eta': 0.1414732618493887, 'subsample': 0.7135201666193427, 'colsample_bytree': 0.7296356834574628}.\n",
      "[I 2025-05-16 11:14:39,076] Trial 16 finished with values: [0.6728685518927314, 0.008640771281297588] and parameters: {'max_depth': 7, 'eta': 0.29599035993065603, 'subsample': 0.8067606537853294, 'colsample_bytree': 0.6615302964291577}.\n",
      "[I 2025-05-16 11:14:39,177] Trial 17 finished with values: [0.6707226291459504, 0.012983203043084202] and parameters: {'max_depth': 7, 'eta': 0.2721230463417128, 'subsample': 0.7777264846719256, 'colsample_bytree': 0.8026479972370517}.\n",
      "[I 2025-05-16 11:14:39,288] Trial 18 finished with values: [0.6707226291459504, 0.012983203043084202] and parameters: {'max_depth': 4, 'eta': 0.09048347044643643, 'subsample': 0.9561567830066259, 'colsample_bytree': 0.7235328635812346}.\n",
      "[I 2025-05-16 11:14:39,401] Trial 19 finished with values: [0.6578731316993074, 0.026806797506900997] and parameters: {'max_depth': 7, 'eta': 0.17001155271746551, 'subsample': 0.6259471258297739, 'colsample_bytree': 0.6775807951912942}.\n",
      "[I 2025-05-16 11:14:39,642] Trial 20 finished with values: [0.6707226291459504, 0.012983203043084202] and parameters: {'max_depth': 5, 'eta': 0.010090504901904428, 'subsample': 0.9263744157375973, 'colsample_bytree': 0.8315894080740576}.\n",
      "[I 2025-05-16 11:14:39,740] Trial 21 finished with values: [0.6707226291459504, 0.012983203043084202] and parameters: {'max_depth': 7, 'eta': 0.20802031670969312, 'subsample': 0.8724219612992381, 'colsample_bytree': 0.9299951441992508}.\n",
      "[I 2025-05-16 11:14:39,867] Trial 22 finished with values: [0.6707226291459504, 0.012983203043084202] and parameters: {'max_depth': 6, 'eta': 0.1972765186624396, 'subsample': 0.812968405227536, 'colsample_bytree': 0.6645397403294118}.\n",
      "[I 2025-05-16 11:14:39,980] Trial 23 finished with values: [0.667153749774073, 0.011713283744407388] and parameters: {'max_depth': 4, 'eta': 0.09824335165988302, 'subsample': 0.6410018123658519, 'colsample_bytree': 0.9881503433934812}.\n",
      "[I 2025-05-16 11:14:40,159] Trial 24 finished with values: [0.6707226291459504, 0.012983203043084202] and parameters: {'max_depth': 4, 'eta': 0.015052022860433435, 'subsample': 0.9197138969406125, 'colsample_bytree': 0.8372219318632594}.\n",
      "[I 2025-05-16 11:14:40,275] Trial 25 finished with values: [0.6707226291459504, 0.012983203043084202] and parameters: {'max_depth': 7, 'eta': 0.09674383820211221, 'subsample': 0.6971107375782063, 'colsample_bytree': 0.6676872445380757}.\n",
      "[I 2025-05-16 11:14:40,379] Trial 26 finished with values: [0.6707226291459504, 0.012983203043084202] and parameters: {'max_depth': 7, 'eta': 0.26366510592944997, 'subsample': 0.7296573864086575, 'colsample_bytree': 0.6808961460347851}.\n",
      "[I 2025-05-16 11:14:40,544] Trial 27 finished with values: [0.6614435427790696, 0.022767854721771823] and parameters: {'max_depth': 7, 'eta': 0.2336864882133588, 'subsample': 0.6369575415698044, 'colsample_bytree': 0.6731930905670669}.\n",
      "[I 2025-05-16 11:14:40,665] Trial 28 finished with values: [0.642883838337423, 0.027772245994171173] and parameters: {'max_depth': 5, 'eta': 0.29606106858628606, 'subsample': 0.6283483225273029, 'colsample_bytree': 0.9235562641027577}.\n",
      "[I 2025-05-16 11:14:40,772] Trial 29 finished with values: [0.6707226291459504, 0.012983203043084202] and parameters: {'max_depth': 5, 'eta': 0.2978484448253036, 'subsample': 0.6770381915718037, 'colsample_bytree': 0.8307246375480931}.\n",
      "[I 2025-05-16 11:14:40,948] Trial 30 finished with values: [0.5986190121709508, 0.006665658522330327] and parameters: {'max_depth': 3, 'eta': 0.09475664739659065, 'subsample': 0.6070433885611801, 'colsample_bytree': 0.8029434118668995}.\n",
      "[I 2025-05-16 11:14:41,057] Trial 31 finished with values: [0.6707226291459504, 0.012983203043084202] and parameters: {'max_depth': 6, 'eta': 0.14024699746100078, 'subsample': 0.7074065392924902, 'colsample_bytree': 0.6735432542445016}.\n",
      "[I 2025-05-16 11:14:41,204] Trial 32 finished with values: [0.6714410001439806, 0.01896421983952416] and parameters: {'max_depth': 4, 'eta': 0.28548691353637634, 'subsample': 0.8053957238685792, 'colsample_bytree': 0.6177886051439446}.\n",
      "[I 2025-05-16 11:14:41,343] Trial 33 finished with values: [0.6707226291459504, 0.012983203043084202] and parameters: {'max_depth': 6, 'eta': 0.12404129217587538, 'subsample': 0.9059988095115878, 'colsample_bytree': 0.8403718451292757}.\n",
      "[I 2025-05-16 11:14:41,468] Trial 34 finished with values: [0.6543073157431999, 0.029322896350878508] and parameters: {'max_depth': 5, 'eta': 0.20168752738762036, 'subsample': 0.6296304172615408, 'colsample_bytree': 0.9985513361375689}.\n",
      "[I 2025-05-16 11:14:41,597] Trial 35 finished with values: [0.6707226291459504, 0.012983203043084202] and parameters: {'max_depth': 5, 'eta': 0.07164280342428576, 'subsample': 0.7291873420725715, 'colsample_bytree': 0.875193137029284}.\n",
      "[I 2025-05-16 11:14:41,723] Trial 36 finished with values: [0.6707226291459504, 0.012983203043084202] and parameters: {'max_depth': 5, 'eta': 0.06723012265000047, 'subsample': 0.8513483600820586, 'colsample_bytree': 0.6557875842821179}.\n",
      "[I 2025-05-16 11:14:41,821] Trial 37 finished with values: [0.6707226291459504, 0.012983203043084202] and parameters: {'max_depth': 4, 'eta': 0.1854868308599228, 'subsample': 0.8505488033681046, 'colsample_bytree': 0.8831272863528521}.\n",
      "[I 2025-05-16 11:14:41,919] Trial 38 finished with values: [0.6707226291459504, 0.012983203043084202] and parameters: {'max_depth': 5, 'eta': 0.21509424594610993, 'subsample': 0.8356053264522659, 'colsample_bytree': 0.8655866731433561}.\n",
      "[I 2025-05-16 11:14:42,036] Trial 39 finished with values: [0.6707226291459504, 0.012983203043084202] and parameters: {'max_depth': 5, 'eta': 0.05783887156525863, 'subsample': 0.9706228190703281, 'colsample_bytree': 0.7204734512093038}.\n",
      "[I 2025-05-16 11:14:42,136] Trial 40 finished with values: [0.6642986462765713, 0.015622554976171868] and parameters: {'max_depth': 4, 'eta': 0.2563011966747979, 'subsample': 0.8693657431272949, 'colsample_bytree': 0.7110074324162081}.\n",
      "[I 2025-05-16 11:14:42,230] Trial 41 finished with values: [0.6707226291459504, 0.012983203043084202] and parameters: {'max_depth': 5, 'eta': 0.14307193424882558, 'subsample': 0.7081892776964769, 'colsample_bytree': 0.73006358254406}.\n",
      "[I 2025-05-16 11:14:42,330] Trial 42 finished with values: [0.6707226291459504, 0.012983203043084202] and parameters: {'max_depth': 3, 'eta': 0.24000265317584407, 'subsample': 0.9732943759576913, 'colsample_bytree': 0.8902749634245366}.\n",
      "[I 2025-05-16 11:14:42,433] Trial 43 finished with values: [0.6707226291459504, 0.012983203043084202] and parameters: {'max_depth': 7, 'eta': 0.2793117972777798, 'subsample': 0.9274040633427678, 'colsample_bytree': 0.9296742255143209}.\n",
      "[I 2025-05-16 11:14:42,540] Trial 44 finished with values: [0.6642986462765713, 0.026435855555220822] and parameters: {'max_depth': 5, 'eta': 0.25090569815770036, 'subsample': 0.6360542955717629, 'colsample_bytree': 0.975205250382253}.\n",
      "[I 2025-05-16 11:14:42,641] Trial 45 finished with values: [0.6707226291459504, 0.012983203043084202] and parameters: {'max_depth': 7, 'eta': 0.21718820487865662, 'subsample': 0.9687544222906616, 'colsample_bytree': 0.6153552908363534}.\n",
      "[I 2025-05-16 11:14:42,755] Trial 46 finished with values: [0.6707226291459504, 0.012983203043084202] and parameters: {'max_depth': 3, 'eta': 0.08441434099691927, 'subsample': 0.9002526532667895, 'colsample_bytree': 0.9890037365645449}.\n",
      "[I 2025-05-16 11:14:42,859] Trial 47 finished with values: [0.6664445690233525, 0.011280123214385254] and parameters: {'max_depth': 4, 'eta': 0.2994101046678777, 'subsample': 0.9947677536048192, 'colsample_bytree': 0.8775514701322427}.\n",
      "[I 2025-05-16 11:14:42,967] Trial 48 finished with values: [0.6707226291459504, 0.012983203043084202] and parameters: {'max_depth': 3, 'eta': 0.22112501027323211, 'subsample': 0.8243161134197597, 'colsample_bytree': 0.7868832015394294}.\n",
      "[I 2025-05-16 11:14:43,061] Trial 49 finished with values: [0.62218586968842, 0.026939044794659434] and parameters: {'max_depth': 6, 'eta': 0.26580082633756424, 'subsample': 0.6017278946693796, 'colsample_bytree': 0.7963431101898746}.\n",
      "[I 2025-05-16 11:14:43,072] A new study created in memory with name: no-name-b8ee9e8c-a9ee-4cd9-bf59-d162540b8893\n",
      "[I 2025-05-16 11:14:43,192] Trial 0 finished with values: [0.6728716153085013, 0.04153436303356081] and parameters: {'max_depth': 4, 'eta': 0.10522912824075567, 'subsample': 0.6311589875645649, 'colsample_bytree': 0.8873017145014134}.\n"
     ]
    },
    {
     "name": "stdout",
     "output_type": "stream",
     "text": [
      "Completed study for alpha=0.0224609375\n",
      "11\n"
     ]
    },
    {
     "name": "stderr",
     "output_type": "stream",
     "text": [
      "[I 2025-05-16 11:14:43,314] Trial 1 finished with values: [0.6750098795158577, 0.05325838353479417] and parameters: {'max_depth': 4, 'eta': 0.08779645215834396, 'subsample': 0.8244827107732091, 'colsample_bytree': 0.922417975647867}.\n",
      "[I 2025-05-16 11:14:43,470] Trial 2 finished with values: [0.6699950679006106, 0.06832485987626354] and parameters: {'max_depth': 5, 'eta': 0.053438939784628964, 'subsample': 0.679920100161001, 'colsample_bytree': 0.9005486829692819}.\n",
      "[I 2025-05-16 11:14:43,600] Trial 3 finished with values: [0.6600175227382036, 0.028423621836196834] and parameters: {'max_depth': 3, 'eta': 0.06056587186523386, 'subsample': 0.8750862091735944, 'colsample_bytree': 0.8929776874941198}.\n",
      "[I 2025-05-16 11:14:43,705] Trial 4 finished with values: [0.6885808113763008, 0.07049733174093557] and parameters: {'max_depth': 5, 'eta': 0.26001136244412965, 'subsample': 0.8164263499321927, 'colsample_bytree': 0.8421238976588047}.\n",
      "[I 2025-05-16 11:14:43,857] Trial 5 finished with values: [0.6749930307291235, 0.05231707037399122] and parameters: {'max_depth': 5, 'eta': 0.09357380338504552, 'subsample': 0.9474061327194292, 'colsample_bytree': 0.7676215262272623}.\n",
      "[I 2025-05-16 11:14:43,977] Trial 6 finished with values: [0.6757251870981181, 0.03755660774904048] and parameters: {'max_depth': 3, 'eta': 0.17315229755849182, 'subsample': 0.6717411925931515, 'colsample_bytree': 0.7379655195673935}.\n",
      "[I 2025-05-16 11:14:44,107] Trial 7 finished with values: [0.676429772725184, 0.04784675507404632] and parameters: {'max_depth': 5, 'eta': 0.05575838528085436, 'subsample': 0.7579180500376441, 'colsample_bytree': 0.9076695248049311}.\n",
      "[I 2025-05-16 11:14:44,238] Trial 8 finished with values: [0.6828644775497575, 0.04550130909107681] and parameters: {'max_depth': 6, 'eta': 0.16045533167660506, 'subsample': 0.776433857760149, 'colsample_bytree': 0.6292994151978099}.\n",
      "[I 2025-05-16 11:14:44,341] Trial 9 finished with values: [0.6735777326434521, 0.040379180946032316] and parameters: {'max_depth': 3, 'eta': 0.2136950746072224, 'subsample': 0.735689340191387, 'colsample_bytree': 0.9683143433485861}.\n",
      "[I 2025-05-16 11:14:44,438] Trial 10 finished with values: [0.6621557869455601, 0.02313347057047399] and parameters: {'max_depth': 3, 'eta': 0.11448485434683343, 'subsample': 0.9677971189557587, 'colsample_bytree': 0.640346274244523}.\n",
      "[I 2025-05-16 11:14:44,615] Trial 11 finished with values: [0.6928573397910137, 0.056643855043303624] and parameters: {'max_depth': 6, 'eta': 0.16210719775969198, 'subsample': 0.846991175787441, 'colsample_bytree': 0.888387225331795}.\n",
      "[I 2025-05-16 11:14:44,753] Trial 12 finished with values: [0.6971415267451513, 0.07522563447315328] and parameters: {'max_depth': 7, 'eta': 0.2528675941609909, 'subsample': 0.9930523058833314, 'colsample_bytree': 0.6671349611923797}.\n",
      "[I 2025-05-16 11:14:44,871] Trial 13 finished with values: [0.6778603878897048, 0.04252350775749724] and parameters: {'max_depth': 5, 'eta': 0.1518747110741306, 'subsample': 0.8887655995627346, 'colsample_bytree': 0.6643172613204478}.\n",
      "[I 2025-05-16 11:14:45,017] Trial 14 finished with values: [0.6964323459944307, 0.07979728068543589] and parameters: {'max_depth': 6, 'eta': 0.21180560303681584, 'subsample': 0.7194354885974183, 'colsample_bytree': 0.7648620343004122}.\n",
      "[I 2025-05-16 11:14:45,143] Trial 15 finished with values: [0.6785711003483104, 0.0635249535089064] and parameters: {'max_depth': 6, 'eta': 0.12202820009028026, 'subsample': 0.6845437429355742, 'colsample_bytree': 0.7919311798638491}.\n",
      "[I 2025-05-16 11:14:45,248] Trial 16 finished with values: [0.6764481532198031, 0.03903046871388769] and parameters: {'max_depth': 3, 'eta': 0.17810389155534986, 'subsample': 0.6255073477035803, 'colsample_bytree': 0.624097899457587}.\n",
      "[I 2025-05-16 11:14:45,378] Trial 17 finished with values: [0.665007827027292, 0.04242502073862527] and parameters: {'max_depth': 4, 'eta': 0.0667959850362868, 'subsample': 0.9159071296961498, 'colsample_bytree': 0.6793282777733365}.\n",
      "[I 2025-05-16 11:14:45,520] Trial 18 finished with values: [0.7071374524021775, 0.06346308641840584] and parameters: {'max_depth': 7, 'eta': 0.2597743415436609, 'subsample': 0.8538105484579193, 'colsample_bytree': 0.6544454101347776}.\n",
      "[I 2025-05-16 11:14:45,635] Trial 19 finished with values: [0.6750006892685482, 0.06066416680049722] and parameters: {'max_depth': 4, 'eta': 0.26048508179762203, 'subsample': 0.9658701993797051, 'colsample_bytree': 0.6623393697103132}.\n",
      "[I 2025-05-16 11:14:45,858] Trial 20 finished with values: [0.6814338623852368, 0.0675828175716036] and parameters: {'max_depth': 7, 'eta': 0.09053877646710722, 'subsample': 0.6247632939404258, 'colsample_bytree': 0.658717593404974}.\n",
      "[I 2025-05-16 11:14:46,013] Trial 21 finished with values: [0.676428241017299, 0.07550728756966013] and parameters: {'max_depth': 4, 'eta': 0.27728488713634475, 'subsample': 0.6165799128549364, 'colsample_bytree': 0.8920661006917938}.\n",
      "[I 2025-05-16 11:14:46,149] Trial 22 finished with values: [0.6671506863583033, 0.03606303532584596] and parameters: {'max_depth': 3, 'eta': 0.20985971706730192, 'subsample': 0.9345477490666843, 'colsample_bytree': 0.7714711452504674}.\n",
      "[I 2025-05-16 11:14:46,288] Trial 23 finished with values: [0.6871501962117801, 0.04045498785433891] and parameters: {'max_depth': 6, 'eta': 0.2004758001820123, 'subsample': 0.7300255620988223, 'colsample_bytree': 0.634894792789089}.\n",
      "[I 2025-05-16 11:14:46,398] Trial 24 finished with values: [0.6707333511011448, 0.03087314860824546] and parameters: {'max_depth': 3, 'eta': 0.16671598671658602, 'subsample': 0.616051540536922, 'colsample_bytree': 0.6517251269587602}.\n",
      "[I 2025-05-16 11:14:46,666] Trial 25 finished with values: [0.6842950927142782, 0.04707128454041335] and parameters: {'max_depth': 6, 'eta': 0.09676847771924427, 'subsample': 0.8240115079417325, 'colsample_bytree': 0.7294358636769338}.\n",
      "[I 2025-05-16 11:14:46,793] Trial 26 finished with values: [0.6814415209246615, 0.0560617576332384] and parameters: {'max_depth': 4, 'eta': 0.21308100515910033, 'subsample': 0.6468032710834114, 'colsample_bytree': 0.8983278943650794}.\n",
      "[I 2025-05-16 11:14:46,973] Trial 27 finished with values: [0.7064343984829965, 0.088289424793169] and parameters: {'max_depth': 7, 'eta': 0.2727264655817366, 'subsample': 0.6150348294159639, 'colsample_bytree': 0.8247682828178714}.\n",
      "[I 2025-05-16 11:14:47,087] Trial 28 finished with values: [0.6692889505656597, 0.041835743922676714] and parameters: {'max_depth': 4, 'eta': 0.16824827715353138, 'subsample': 0.8534746351420266, 'colsample_bytree': 0.9865867357835961}.\n",
      "[I 2025-05-16 11:14:47,206] Trial 29 finished with values: [0.6778588561818198, 0.04270560117342734] and parameters: {'max_depth': 4, 'eta': 0.18121194270404856, 'subsample': 0.9632444884558684, 'colsample_bytree': 0.9406413609543466}.\n",
      "[I 2025-05-16 11:14:47,362] Trial 30 finished with values: [0.6735823277671068, 0.06492611103147204] and parameters: {'max_depth': 4, 'eta': 0.02468217564766622, 'subsample': 0.6943539713132776, 'colsample_bytree': 0.7735836719106708}.\n",
      "[I 2025-05-16 11:14:47,550] Trial 31 finished with values: [0.6742915085178275, 0.0709409237340662] and parameters: {'max_depth': 7, 'eta': 0.020998947392316235, 'subsample': 0.7184806447745706, 'colsample_bytree': 0.844817834410086}.\n",
      "[I 2025-05-16 11:14:47,653] Trial 32 finished with values: [0.6799925252655216, 0.04254183720736479] and parameters: {'max_depth': 5, 'eta': 0.1712085885310898, 'subsample': 0.8074781934936373, 'colsample_bytree': 0.946942457507679}.\n",
      "[I 2025-05-16 11:14:47,751] Trial 33 finished with values: [0.6871501962117801, 0.07109511436106283] and parameters: {'max_depth': 5, 'eta': 0.24337127941892797, 'subsample': 0.7593726165318273, 'colsample_bytree': 0.6551775950714694}.\n",
      "[I 2025-05-16 11:14:47,863] Trial 34 finished with values: [0.7057114323613115, 0.08110528329068614] and parameters: {'max_depth': 6, 'eta': 0.18495307663928787, 'subsample': 0.896286268846662, 'colsample_bytree': 0.9275992073494476}.\n",
      "[I 2025-05-16 11:14:47,980] Trial 35 finished with values: [0.6885731528368763, 0.06812223353828563] and parameters: {'max_depth': 4, 'eta': 0.21856159272883033, 'subsample': 0.9060452709627029, 'colsample_bytree': 0.9552213602298156}.\n",
      "[I 2025-05-16 11:14:48,099] Trial 36 finished with values: [0.6900052997092819, 0.07351303915955885] and parameters: {'max_depth': 6, 'eta': 0.259281238739196, 'subsample': 0.6630776208724921, 'colsample_bytree': 0.6324440153990535}.\n",
      "[I 2025-05-16 11:14:48,205] Trial 37 finished with values: [0.6950078576614497, 0.08121176893277776] and parameters: {'max_depth': 7, 'eta': 0.23502894979682173, 'subsample': 0.7269539371642108, 'colsample_bytree': 0.7027191875812727}.\n",
      "[I 2025-05-16 11:14:48,295] Trial 38 finished with values: [0.6664307836523881, 0.03828447028591245] and parameters: {'max_depth': 3, 'eta': 0.22939420533435403, 'subsample': 0.9155218298830856, 'colsample_bytree': 0.8193986502396029}.\n",
      "[I 2025-05-16 11:14:48,422] Trial 39 finished with values: [0.6735853911828767, 0.05226553158388928] and parameters: {'max_depth': 4, 'eta': 0.03044239361273994, 'subsample': 0.7775205112254677, 'colsample_bytree': 0.8479957209835591}.\n",
      "[I 2025-05-16 11:14:48,518] Trial 40 finished with values: [0.6750114112237426, 0.036364207138700984] and parameters: {'max_depth': 4, 'eta': 0.21113909001788275, 'subsample': 0.6147838141548444, 'colsample_bytree': 0.7086204480371406}.\n",
      "[I 2025-05-16 11:14:48,653] Trial 41 finished with values: [0.6971369316214965, 0.06392479298915797] and parameters: {'max_depth': 7, 'eta': 0.14596294726982845, 'subsample': 0.9004910075620578, 'colsample_bytree': 0.9249026378106218}.\n",
      "[I 2025-05-16 11:14:48,753] Trial 42 finished with values: [0.6792879396384558, 0.03625226115163426] and parameters: {'max_depth': 4, 'eta': 0.166254030133562, 'subsample': 0.677324099986248, 'colsample_bytree': 0.6180570401399972}.\n",
      "[I 2025-05-16 11:14:48,866] Trial 43 finished with values: [0.6921466273324083, 0.05613419478155607] and parameters: {'max_depth': 6, 'eta': 0.20503076909818801, 'subsample': 0.8875928041562052, 'colsample_bytree': 0.656979524059078}.\n",
      "[I 2025-05-16 11:14:49,008] Trial 44 finished with values: [0.6821415114280726, 0.06592458315825075] and parameters: {'max_depth': 7, 'eta': 0.08044899581485312, 'subsample': 0.7794163328805622, 'colsample_bytree': 0.7984115510158385}.\n",
      "[I 2025-05-16 11:14:49,142] Trial 45 finished with values: [0.6792955981778803, 0.053030112853780065] and parameters: {'max_depth': 5, 'eta': 0.15567587532147503, 'subsample': 0.6147096400774473, 'colsample_bytree': 0.6975984761092188}.\n",
      "[I 2025-05-16 11:14:49,259] Trial 46 finished with values: [0.6899961094619723, 0.06719899946543399] and parameters: {'max_depth': 5, 'eta': 0.19307861891978453, 'subsample': 0.8170211667488263, 'colsample_bytree': 0.9889360920594288}.\n",
      "[I 2025-05-16 11:14:49,382] Trial 47 finished with values: [0.7028425434928455, 0.08000549131869981] and parameters: {'max_depth': 6, 'eta': 0.28082175178451846, 'subsample': 0.9608802305428485, 'colsample_bytree': 0.8621919773450436}.\n",
      "[I 2025-05-16 11:14:49,525] Trial 48 finished with values: [0.6778665147212445, 0.033260014150193105] and parameters: {'max_depth': 3, 'eta': 0.19302918955540882, 'subsample': 0.6716670267609297, 'colsample_bytree': 0.6744851767316461}.\n",
      "[I 2025-05-16 11:14:49,710] Trial 49 finished with values: [0.6714318098966711, 0.0635413611161215] and parameters: {'max_depth': 7, 'eta': 0.039117054436502305, 'subsample': 0.6995482833612897, 'colsample_bytree': 0.6128954523521141}.\n",
      "[I 2025-05-16 11:14:49,721] A new study created in memory with name: no-name-1012625a-692c-4c68-b07f-356a7b91c837\n"
     ]
    },
    {
     "name": "stdout",
     "output_type": "stream",
     "text": [
      "Completed study for alpha=0.625\n",
      "12\n"
     ]
    },
    {
     "name": "stderr",
     "output_type": "stream",
     "text": [
      "[I 2025-05-16 11:14:49,922] Trial 0 finished with values: [0.6707226291459504, 0.012983203043084202] and parameters: {'max_depth': 7, 'eta': 0.12358830540616357, 'subsample': 0.9363240646887343, 'colsample_bytree': 0.7434570894404046}.\n",
      "[I 2025-05-16 11:14:50,046] Trial 1 finished with values: [0.6707226291459504, 0.012983203043084202] and parameters: {'max_depth': 6, 'eta': 0.07950231528305803, 'subsample': 0.8431122420800425, 'colsample_bytree': 0.9191016376489881}.\n",
      "[I 2025-05-16 11:14:50,165] Trial 2 finished with values: [0.6707226291459504, 0.012983203043084202] and parameters: {'max_depth': 6, 'eta': 0.14509782708781224, 'subsample': 0.8838669824285017, 'colsample_bytree': 0.7041637697902654}.\n",
      "[I 2025-05-16 11:14:50,306] Trial 3 finished with values: [0.6707226291459504, 0.012983203043084202] and parameters: {'max_depth': 3, 'eta': 0.04777087414721203, 'subsample': 0.8829241442504138, 'colsample_bytree': 0.8433763678757584}.\n",
      "[I 2025-05-16 11:14:50,425] Trial 4 finished with values: [0.6707226291459504, 0.012983203043084202] and parameters: {'max_depth': 7, 'eta': 0.06807963321417149, 'subsample': 0.7662303345277998, 'colsample_bytree': 0.8098280068144053}.\n",
      "[I 2025-05-16 11:14:50,532] Trial 5 finished with values: [0.6707226291459504, 0.012983203043084202] and parameters: {'max_depth': 6, 'eta': 0.11179298692775072, 'subsample': 0.9466527989452127, 'colsample_bytree': 0.9796373842460382}.\n",
      "[I 2025-05-16 11:14:50,627] Trial 6 finished with values: [0.6707226291459504, 0.012983203043084202] and parameters: {'max_depth': 4, 'eta': 0.13370964329758825, 'subsample': 0.9038256036087504, 'colsample_bytree': 0.7159517892848715}.\n",
      "[I 2025-05-16 11:14:50,719] Trial 7 finished with values: [0.6707226291459504, 0.012983203043084202] and parameters: {'max_depth': 7, 'eta': 0.16878960306071078, 'subsample': 0.9539611471206794, 'colsample_bytree': 0.6473292078879418}.\n",
      "[I 2025-05-16 11:14:50,815] Trial 8 finished with values: [0.6707226291459504, 0.012983203043084202] and parameters: {'max_depth': 4, 'eta': 0.21741312030690293, 'subsample': 0.811559604025639, 'colsample_bytree': 0.7976832804843728}.\n",
      "[I 2025-05-16 11:14:50,910] Trial 9 finished with values: [0.6692950773971994, 0.023306651601310773] and parameters: {'max_depth': 7, 'eta': 0.27650285998075574, 'subsample': 0.8360218935055044, 'colsample_bytree': 0.6156775632243859}.\n",
      "[I 2025-05-16 11:14:51,009] Trial 10 finished with values: [0.6707226291459504, 0.012983203043084202] and parameters: {'max_depth': 7, 'eta': 0.1219749561025999, 'subsample': 0.7215926724576744, 'colsample_bytree': 0.9477246498556626}.\n",
      "[I 2025-05-16 11:14:51,135] Trial 11 finished with values: [0.6707226291459504, 0.012983203043084202] and parameters: {'max_depth': 4, 'eta': 0.045429836608377135, 'subsample': 0.7687287805352877, 'colsample_bytree': 0.876548827291016}.\n",
      "[I 2025-05-16 11:14:51,254] Trial 12 finished with values: [0.6707226291459504, 0.012983203043084202] and parameters: {'max_depth': 4, 'eta': 0.08713462201940943, 'subsample': 0.8335372489777947, 'colsample_bytree': 0.6530269035787576}.\n",
      "[I 2025-05-16 11:14:51,347] Trial 13 finished with values: [0.6707226291459504, 0.012983203043084202] and parameters: {'max_depth': 7, 'eta': 0.19548961547295635, 'subsample': 0.7617581829192052, 'colsample_bytree': 0.7064146020823263}.\n",
      "[I 2025-05-16 11:14:51,433] Trial 14 finished with values: [0.6707272242696051, 0.01794795967692253] and parameters: {'max_depth': 3, 'eta': 0.2606078612145732, 'subsample': 0.7309747835076486, 'colsample_bytree': 0.9545190292612389}.\n",
      "[I 2025-05-16 11:14:51,529] Trial 15 finished with values: [0.6707226291459504, 0.012983203043084202] and parameters: {'max_depth': 6, 'eta': 0.12853338585712476, 'subsample': 0.7731871009198407, 'colsample_bytree': 0.9837677033840356}.\n",
      "[I 2025-05-16 11:14:51,685] Trial 16 finished with values: [0.5522235803365468, 0.003722084367245656] and parameters: {'max_depth': 5, 'eta': 0.19607347343993498, 'subsample': 0.6032555369919693, 'colsample_bytree': 0.734748734600021}.\n",
      "[I 2025-05-16 11:14:51,799] Trial 17 finished with values: [0.6593006834480583, 0.01539279858976364] and parameters: {'max_depth': 3, 'eta': 0.11899529473762765, 'subsample': 0.6382027362441683, 'colsample_bytree': 0.6819323035410181}.\n",
      "[I 2025-05-16 11:14:51,902] Trial 18 finished with values: [0.6707226291459504, 0.012983203043084202] and parameters: {'max_depth': 5, 'eta': 0.2669109950720509, 'subsample': 0.7628573821822964, 'colsample_bytree': 0.6038475374657288}.\n",
      "[I 2025-05-16 11:14:52,028] Trial 19 finished with values: [0.5972037140852794, 0.01632016902168777] and parameters: {'max_depth': 3, 'eta': 0.09491644466795301, 'subsample': 0.6372858417215418, 'colsample_bytree': 0.6055729151158055}.\n",
      "[I 2025-05-16 11:14:52,149] Trial 20 finished with values: [0.6728685518927314, 0.008640771281297588] and parameters: {'max_depth': 3, 'eta': 0.2545244244082212, 'subsample': 0.8403078358389299, 'colsample_bytree': 0.6730491104691548}.\n",
      "[I 2025-05-16 11:14:52,330] Trial 21 finished with values: [0.6707226291459504, 0.012983203043084202] and parameters: {'max_depth': 6, 'eta': 0.018757127301067288, 'subsample': 0.8456667265263632, 'colsample_bytree': 0.8623044730517286}.\n",
      "[I 2025-05-16 11:14:52,460] Trial 22 finished with values: [0.6707226291459504, 0.012983203043084202] and parameters: {'max_depth': 6, 'eta': 0.06560128445518354, 'subsample': 0.9480872588433271, 'colsample_bytree': 0.7534025567754059}.\n",
      "[I 2025-05-16 11:14:52,595] Trial 23 finished with values: [0.6707226291459504, 0.012983203043084202] and parameters: {'max_depth': 7, 'eta': 0.2015689048952151, 'subsample': 0.9575081087031128, 'colsample_bytree': 0.609975592563195}.\n",
      "[I 2025-05-16 11:14:52,783] Trial 24 finished with values: [0.6707226291459504, 0.012983203043084202] and parameters: {'max_depth': 5, 'eta': 0.03586229505735912, 'subsample': 0.6499571411547371, 'colsample_bytree': 0.6752240050375753}.\n",
      "[I 2025-05-16 11:14:52,880] Trial 25 finished with values: [0.6707226291459504, 0.012983203043084202] and parameters: {'max_depth': 6, 'eta': 0.1444985327942761, 'subsample': 0.9148997332990298, 'colsample_bytree': 0.6762454048812596}.\n",
      "[I 2025-05-16 11:14:52,966] Trial 26 finished with values: [0.5493623500075053, 0.010270195754066727] and parameters: {'max_depth': 4, 'eta': 0.1785970482976223, 'subsample': 0.603175385757842, 'colsample_bytree': 0.8035923800913302}.\n",
      "[I 2025-05-16 11:14:53,111] Trial 27 finished with values: [0.6707226291459504, 0.02737169225171728] and parameters: {'max_depth': 3, 'eta': 0.290648719730991, 'subsample': 0.9642286770753516, 'colsample_bytree': 0.6444410505319117}.\n",
      "[I 2025-05-16 11:14:53,218] Trial 28 finished with values: [0.6707226291459504, 0.012983203043084202] and parameters: {'max_depth': 7, 'eta': 0.12239253086101619, 'subsample': 0.9363744942650218, 'colsample_bytree': 0.7011125106960889}.\n",
      "[I 2025-05-16 11:14:53,346] Trial 29 finished with values: [0.6707226291459504, 0.012983203043084202] and parameters: {'max_depth': 6, 'eta': 0.09051197238198015, 'subsample': 0.864252926398051, 'colsample_bytree': 0.7881382604258351}.\n",
      "[I 2025-05-16 11:14:53,455] Trial 30 finished with values: [0.6707226291459504, 0.02737169225171728] and parameters: {'max_depth': 6, 'eta': 0.2791235604009164, 'subsample': 0.9922442288876447, 'colsample_bytree': 0.7928056753584751}.\n",
      "[I 2025-05-16 11:14:53,557] Trial 31 finished with values: [0.6707226291459504, 0.012983203043084202] and parameters: {'max_depth': 7, 'eta': 0.2540544647703036, 'subsample': 0.7680615051521775, 'colsample_bytree': 0.6625975355999867}.\n",
      "[I 2025-05-16 11:14:53,659] Trial 32 finished with values: [0.6707226291459504, 0.012983203043084202] and parameters: {'max_depth': 6, 'eta': 0.12578744980481646, 'subsample': 0.9094582040598943, 'colsample_bytree': 0.8797572046946593}.\n",
      "[I 2025-05-16 11:14:53,769] Trial 33 finished with values: [0.6707226291459504, 0.012983203043084202] and parameters: {'max_depth': 3, 'eta': 0.14610256477893352, 'subsample': 0.9738087657428973, 'colsample_bytree': 0.8347536742635527}.\n",
      "[I 2025-05-16 11:14:53,881] Trial 34 finished with values: [0.6707226291459504, 0.012983203043084202] and parameters: {'max_depth': 4, 'eta': 0.16970514077182416, 'subsample': 0.8583732871239802, 'colsample_bytree': 0.689707316226318}.\n",
      "[I 2025-05-16 11:14:53,998] Trial 35 finished with values: [0.6707226291459504, 0.012983203043084202] and parameters: {'max_depth': 3, 'eta': 0.1796276950344923, 'subsample': 0.8944027535341585, 'colsample_bytree': 0.7060543465792414}.\n",
      "[I 2025-05-16 11:14:54,107] Trial 36 finished with values: [0.6707226291459504, 0.012983203043084202] and parameters: {'max_depth': 6, 'eta': 0.17171948219647135, 'subsample': 0.775484614451616, 'colsample_bytree': 0.8199262400132605}.\n",
      "[I 2025-05-16 11:14:54,221] Trial 37 finished with values: [0.6707226291459504, 0.012983203043084202] and parameters: {'max_depth': 5, 'eta': 0.10750749169877928, 'subsample': 0.6911445191001688, 'colsample_bytree': 0.700937660769747}.\n",
      "[I 2025-05-16 11:14:54,339] Trial 38 finished with values: [0.6578761951150772, 0.025834264457195544] and parameters: {'max_depth': 4, 'eta': 0.13751995017713717, 'subsample': 0.643601383347941, 'colsample_bytree': 0.8731631702017083}.\n",
      "[I 2025-05-16 11:14:54,441] Trial 39 finished with values: [0.6707226291459504, 0.012983203043084202] and parameters: {'max_depth': 7, 'eta': 0.1690758619057438, 'subsample': 0.9938381083327361, 'colsample_bytree': 0.9821174297868892}.\n",
      "[I 2025-05-16 11:14:54,604] Trial 40 finished with values: [0.6707226291459504, 0.012983203043084202] and parameters: {'max_depth': 4, 'eta': 0.06565526630947469, 'subsample': 0.6702631666255495, 'colsample_bytree': 0.7168674220679971}.\n",
      "[I 2025-05-16 11:14:54,707] Trial 41 finished with values: [0.6707226291459504, 0.012983203043084202] and parameters: {'max_depth': 6, 'eta': 0.1926901761636914, 'subsample': 0.8606443282835037, 'colsample_bytree': 0.6894523504279766}.\n",
      "[I 2025-05-16 11:14:54,831] Trial 42 finished with values: [0.6707226291459504, 0.012983203043084202] and parameters: {'max_depth': 3, 'eta': 0.05136119839786947, 'subsample': 0.9745881129286859, 'colsample_bytree': 0.8610191942922424}.\n",
      "[I 2025-05-16 11:14:54,938] Trial 43 finished with values: [0.6707226291459504, 0.012983203043084202] and parameters: {'max_depth': 7, 'eta': 0.08253217289919577, 'subsample': 0.8795721543446122, 'colsample_bytree': 0.8067761204179671}.\n",
      "[I 2025-05-16 11:14:55,039] Trial 44 finished with values: [0.6707226291459504, 0.012983203043084202] and parameters: {'max_depth': 7, 'eta': 0.09485969981558788, 'subsample': 0.8305055195821008, 'colsample_bytree': 0.9541601793030802}.\n",
      "[I 2025-05-16 11:14:55,152] Trial 45 finished with values: [0.6707226291459504, 0.012983203043084202] and parameters: {'max_depth': 3, 'eta': 0.06651641885273672, 'subsample': 0.9204198806024644, 'colsample_bytree': 0.9327541140324611}.\n",
      "[I 2025-05-16 11:14:55,250] Trial 46 finished with values: [0.6707226291459504, 0.012983203043084202] and parameters: {'max_depth': 4, 'eta': 0.24952607076781233, 'subsample': 0.92742513362304, 'colsample_bytree': 0.9122040435047425}.\n",
      "[I 2025-05-16 11:14:55,354] Trial 47 finished with values: [0.6314634243474159, 0.026619896008517347] and parameters: {'max_depth': 4, 'eta': 0.2033761448395252, 'subsample': 0.6232211059368462, 'colsample_bytree': 0.784871873835418}.\n",
      "[I 2025-05-16 11:14:55,476] Trial 48 finished with values: [0.6707226291459504, 0.012983203043084202] and parameters: {'max_depth': 4, 'eta': 0.04989102832383022, 'subsample': 0.9832200776490334, 'colsample_bytree': 0.7978680932884953}.\n",
      "[I 2025-05-16 11:14:55,616] Trial 49 finished with values: [0.6707226291459504, 0.012983203043084202] and parameters: {'max_depth': 5, 'eta': 0.16806936490602903, 'subsample': 0.8456223478747068, 'colsample_bytree': 0.9182354189470088}.\n",
      "[I 2025-05-16 11:14:55,627] A new study created in memory with name: no-name-47be4718-851d-477f-bf55-8d08e4cb990e\n",
      "[I 2025-05-16 11:14:55,733] Trial 0 finished with values: [0.6842920292985085, 0.06733066843251274] and parameters: {'max_depth': 5, 'eta': 0.18974340787134342, 'subsample': 0.6136728516348707, 'colsample_bytree': 0.8939514623208114}.\n"
     ]
    },
    {
     "name": "stdout",
     "output_type": "stream",
     "text": [
      "Completed study for alpha=0.02197265625\n",
      "13\n"
     ]
    },
    {
     "name": "stderr",
     "output_type": "stream",
     "text": [
      "[I 2025-05-16 11:14:55,858] Trial 1 finished with values: [0.687131815717161, 0.06654050813493148] and parameters: {'max_depth': 6, 'eta': 0.14740138524703386, 'subsample': 0.9440678135807653, 'colsample_bytree': 0.885287027368245}.\n",
      "[I 2025-05-16 11:14:55,972] Trial 2 finished with values: [0.6578670048677676, 0.02140064431511382] and parameters: {'max_depth': 3, 'eta': 0.10967643496326807, 'subsample': 0.8886786381384932, 'colsample_bytree': 0.6935410963102039}.\n",
      "[I 2025-05-16 11:14:56,083] Trial 3 finished with values: [0.6857134542157196, 0.06509313870900939] and parameters: {'max_depth': 6, 'eta': 0.1359558053353755, 'subsample': 0.7121369728170108, 'colsample_bytree': 0.7041965826362223}.\n",
      "[I 2025-05-16 11:14:56,185] Trial 4 finished with values: [0.6828598824261028, 0.03533554652939127] and parameters: {'max_depth': 4, 'eta': 0.25151830840182565, 'subsample': 0.6687917312064581, 'colsample_bytree': 0.7139884275870959}.\n",
      "[I 2025-05-16 11:14:56,287] Trial 5 finished with values: [0.6821461065517274, 0.07278126427798143] and parameters: {'max_depth': 6, 'eta': 0.24519025162329935, 'subsample': 0.6072519419121607, 'colsample_bytree': 0.8744184141924646}.\n",
      "[I 2025-05-16 11:14:56,463] Trial 6 finished with values: [0.6685736429833994, 0.04752729126777026] and parameters: {'max_depth': 5, 'eta': 0.015348532467061788, 'subsample': 0.8063302474354164, 'colsample_bytree': 0.6783055096150444}.\n",
      "[I 2025-05-16 11:14:56,561] Trial 7 finished with values: [0.6842843707590838, 0.09260639429836676] and parameters: {'max_depth': 5, 'eta': 0.23834568568522815, 'subsample': 0.7055433880248312, 'colsample_bytree': 0.8831995001632317}.\n",
      "[I 2025-05-16 11:14:56,659] Trial 8 finished with values: [0.6892884604191365, 0.07612488968809906] and parameters: {'max_depth': 6, 'eta': 0.17307542737690923, 'subsample': 0.6862655123776152, 'colsample_bytree': 0.9908197457933033}.\n",
      "[I 2025-05-16 11:14:56,765] Trial 9 finished with values: [0.6999966302426531, 0.07758658819509205] and parameters: {'max_depth': 7, 'eta': 0.24392000920195156, 'subsample': 0.9148140188353057, 'colsample_bytree': 0.8526213885252532}.\n",
      "[I 2025-05-16 11:14:56,865] Trial 10 finished with values: [0.677877236676439, 0.07046934612473683] and parameters: {'max_depth': 5, 'eta': 0.1374781191698154, 'subsample': 0.6266408395130655, 'colsample_bytree': 0.8220752663086653}.\n",
      "[I 2025-05-16 11:14:56,964] Trial 11 finished with values: [0.6614312891159901, 0.02987574422593341] and parameters: {'max_depth': 4, 'eta': 0.09024227538954571, 'subsample': 0.7059646048511996, 'colsample_bytree': 0.6365107834704744}.\n",
      "[I 2025-05-16 11:14:57,069] Trial 12 finished with values: [0.6907175438757723, 0.061697709213523744] and parameters: {'max_depth': 7, 'eta': 0.2260095413948222, 'subsample': 0.6846607071717699, 'colsample_bytree': 0.6080554987944309}.\n",
      "[I 2025-05-16 11:14:57,169] Trial 13 finished with values: [0.6821369163044176, 0.08472515505576006] and parameters: {'max_depth': 5, 'eta': 0.26633593765994934, 'subsample': 0.822007195202718, 'colsample_bytree': 0.7545172210241624}.\n",
      "[I 2025-05-16 11:14:57,274] Trial 14 finished with values: [0.6650154855667166, 0.020161871568305068] and parameters: {'max_depth': 3, 'eta': 0.05437074968549138, 'subsample': 0.760762229868258, 'colsample_bytree': 0.8005891001239231}.\n",
      "[I 2025-05-16 11:14:57,412] Trial 15 finished with values: [0.6585853758657979, 0.036042570144468065] and parameters: {'max_depth': 3, 'eta': 0.03597261318043656, 'subsample': 0.7484191776087495, 'colsample_bytree': 0.7163924677039221}.\n",
      "[I 2025-05-16 11:14:57,515] Trial 16 finished with values: [0.6964338777023157, 0.07326255222887644] and parameters: {'max_depth': 6, 'eta': 0.2935892644943252, 'subsample': 0.6083195519413694, 'colsample_bytree': 0.999903899803829}.\n",
      "[I 2025-05-16 11:14:57,618] Trial 17 finished with values: [0.6742792548547482, 0.04830593683730699] and parameters: {'max_depth': 4, 'eta': 0.1487013892074152, 'subsample': 0.9710434022716651, 'colsample_bytree': 0.9573217098743655}.\n",
      "[I 2025-05-16 11:14:57,755] Trial 18 finished with values: [0.6899976411698572, 0.05033576429151427] and parameters: {'max_depth': 7, 'eta': 0.1368975903759907, 'subsample': 0.8748900594078204, 'colsample_bytree': 0.9939045714389783}.\n",
      "[I 2025-05-16 11:14:57,858] Trial 19 finished with values: [0.6700134483952297, 0.019540734976372997] and parameters: {'max_depth': 3, 'eta': 0.18075439389145934, 'subsample': 0.7463569437844003, 'colsample_bytree': 0.7181373770923252}.\n",
      "[I 2025-05-16 11:14:57,982] Trial 20 finished with values: [0.6871425376723556, 0.07411086029651523] and parameters: {'max_depth': 6, 'eta': 0.16839819861671088, 'subsample': 0.9013574399473679, 'colsample_bytree': 0.8989276793421817}.\n",
      "[I 2025-05-16 11:14:58,092] Trial 21 finished with values: [0.6828675409655274, 0.05923681930473753] and parameters: {'max_depth': 4, 'eta': 0.20836893197817344, 'subsample': 0.7648678877732437, 'colsample_bytree': 0.8890380567992213}.\n",
      "[I 2025-05-16 11:14:58,201] Trial 22 finished with values: [0.6871563230433199, 0.05710156267783086] and parameters: {'max_depth': 4, 'eta': 0.29877566992270926, 'subsample': 0.9471635826174603, 'colsample_bytree': 0.6489561314271061}.\n",
      "[I 2025-05-16 11:14:58,309] Trial 23 finished with values: [0.6700134483952297, 0.04469189793864627] and parameters: {'max_depth': 3, 'eta': 0.28860601748965936, 'subsample': 0.94939568712081, 'colsample_bytree': 0.7133833512217271}.\n",
      "[I 2025-05-16 11:14:58,442] Trial 24 finished with values: [0.7007195963643381, 0.058967558824547024] and parameters: {'max_depth': 6, 'eta': 0.23015507399068327, 'subsample': 0.825709821436292, 'colsample_bytree': 0.6694980833341926}.\n",
      "[I 2025-05-16 11:14:58,636] Trial 25 finished with values: [0.6914282563343779, 0.06925502050711387] and parameters: {'max_depth': 6, 'eta': 0.29389951490726607, 'subsample': 0.7654416882567573, 'colsample_bytree': 0.9685176254832641}.\n",
      "[I 2025-05-16 11:14:58,794] Trial 26 finished with values: [0.6564379214111319, 0.02299106598067623] and parameters: {'max_depth': 3, 'eta': 0.04505313874996207, 'subsample': 0.7524517634853956, 'colsample_bytree': 0.8394438140486217}.\n",
      "[I 2025-05-16 11:14:58,965] Trial 27 finished with values: [0.6721578394341258, 0.03422374699121288] and parameters: {'max_depth': 3, 'eta': 0.19335808020774364, 'subsample': 0.710996484844668, 'colsample_bytree': 0.7063519673256213}.\n",
      "[I 2025-05-16 11:14:59,160] Trial 28 finished with values: [0.6721394589395068, 0.06802456027534864] and parameters: {'max_depth': 5, 'eta': 0.02945956193811755, 'subsample': 0.9681575793450405, 'colsample_bytree': 0.764952859469816}.\n",
      "[I 2025-05-16 11:14:59,271] Trial 29 finished with values: [0.6628664994041656, 0.051484514211416914] and parameters: {'max_depth': 3, 'eta': 0.19250327717179946, 'subsample': 0.605741337993122, 'colsample_bytree': 0.92245565114095}.\n",
      "[I 2025-05-16 11:14:59,435] Trial 30 finished with values: [0.6814231404300424, 0.06822132430576407] and parameters: {'max_depth': 7, 'eta': 0.12692291018860888, 'subsample': 0.6494407331239441, 'colsample_bytree': 0.8853561342993077}.\n",
      "[I 2025-05-16 11:14:59,678] Trial 31 finished with values: [0.6714425318518655, 0.08313437320585165] and parameters: {'max_depth': 6, 'eta': 0.03683992580913155, 'subsample': 0.6148021530203593, 'colsample_bytree': 0.7454278326533514}.\n",
      "[I 2025-05-16 11:14:59,819] Trial 32 finished with values: [0.6907129487521176, 0.07153967001989503] and parameters: {'max_depth': 7, 'eta': 0.25458653545686094, 'subsample': 0.816700114951965, 'colsample_bytree': 0.6692562907346212}.\n",
      "[I 2025-05-16 11:14:59,994] Trial 33 finished with values: [0.6721425223552765, 0.06239998447478969] and parameters: {'max_depth': 6, 'eta': 0.022662422240912458, 'subsample': 0.820396034385065, 'colsample_bytree': 0.7109850182940352}.\n",
      "[I 2025-05-16 11:15:00,123] Trial 34 finished with values: [0.697129273082072, 0.057906621783961394] and parameters: {'max_depth': 7, 'eta': 0.17882805594747295, 'subsample': 0.93009483414419, 'colsample_bytree': 0.887008730366048}.\n",
      "[I 2025-05-16 11:15:00,231] Trial 35 finished with values: [0.6907175438757723, 0.04335891136315834] and parameters: {'max_depth': 4, 'eta': 0.23664952565400163, 'subsample': 0.6585376909561049, 'colsample_bytree': 0.9292241271920356}.\n",
      "[I 2025-05-16 11:15:00,390] Trial 36 finished with values: [0.6700103849794597, 0.04415960735288604] and parameters: {'max_depth': 6, 'eta': 0.05802167945526492, 'subsample': 0.8222614211478344, 'colsample_bytree': 0.6064707654070676}.\n",
      "[I 2025-05-16 11:15:00,505] Trial 37 finished with values: [0.6899945777540873, 0.08356574021928247] and parameters: {'max_depth': 6, 'eta': 0.2924773952945511, 'subsample': 0.6888136196838434, 'colsample_bytree': 0.6976933022948821}.\n",
      "[I 2025-05-16 11:15:00,643] Trial 38 finished with values: [0.6785634418088858, 0.04851305149263768] and parameters: {'max_depth': 5, 'eta': 0.21818500145962005, 'subsample': 0.8002593147243723, 'colsample_bytree': 0.7317572853787689}.\n",
      "[I 2025-05-16 11:15:00,774] Trial 39 finished with values: [0.6750068161000878, 0.02990497156603934] and parameters: {'max_depth': 3, 'eta': 0.2915367440264417, 'subsample': 0.7478492407454064, 'colsample_bytree': 0.6143737562399064}.\n",
      "[I 2025-05-16 11:15:00,912] Trial 40 finished with values: [0.6900022362935121, 0.0681754230121586] and parameters: {'max_depth': 7, 'eta': 0.19710547548543672, 'subsample': 0.7852289961759282, 'colsample_bytree': 0.9824087932296275}.\n",
      "[I 2025-05-16 11:15:01,064] Trial 41 finished with values: [0.6778619195975897, 0.04959802327257771] and parameters: {'max_depth': 7, 'eta': 0.055243451865734546, 'subsample': 0.7624708288731532, 'colsample_bytree': 0.7626031159645914}.\n",
      "[I 2025-05-16 11:15:01,218] Trial 42 finished with values: [0.6792910030542255, 0.04784631643580715] and parameters: {'max_depth': 6, 'eta': 0.1592461265628396, 'subsample': 0.6471836771313785, 'colsample_bytree': 0.8874089109817354}.\n",
      "[I 2025-05-16 11:15:01,351] Trial 43 finished with values: [0.6999996936584231, 0.06956122553305984] and parameters: {'max_depth': 6, 'eta': 0.2607483833212311, 'subsample': 0.872557331145204, 'colsample_bytree': 0.7633687046332165}.\n",
      "[I 2025-05-16 11:15:01,503] Trial 44 finished with values: [0.6721517126025861, 0.05189706664459815] and parameters: {'max_depth': 5, 'eta': 0.08093928769810547, 'subsample': 0.8606440449386488, 'colsample_bytree': 0.6880031579107012}.\n",
      "[I 2025-05-16 11:15:01,629] Trial 45 finished with values: [0.6771588656784088, 0.05726501723246097] and parameters: {'max_depth': 3, 'eta': 0.23827430113265255, 'subsample': 0.8852089006722301, 'colsample_bytree': 0.6645756024035331}.\n",
      "[I 2025-05-16 11:15:01,825] Trial 46 finished with values: [0.6778634513054747, 0.06391509468874636] and parameters: {'max_depth': 5, 'eta': 0.07301965657092885, 'subsample': 0.7328503596291124, 'colsample_bytree': 0.9502691581166804}.\n",
      "[I 2025-05-16 11:15:02,086] Trial 47 finished with values: [0.6942848915397647, 0.052843603477116176] and parameters: {'max_depth': 5, 'eta': 0.2146539623164751, 'subsample': 0.8523333759711016, 'colsample_bytree': 0.9472018599541813}.\n",
      "[I 2025-05-16 11:15:02,353] Trial 48 finished with values: [0.6535812862057452, 0.03637824687683037] and parameters: {'max_depth': 3, 'eta': 0.012842659647776433, 'subsample': 0.9790731372571795, 'colsample_bytree': 0.9071329040873183}.\n",
      "[I 2025-05-16 11:15:02,474] Trial 49 finished with values: [0.6678659939405636, 0.080955344771681] and parameters: {'max_depth': 5, 'eta': 0.1285914362242757, 'subsample': 0.6097259810204162, 'colsample_bytree': 0.7581675230341707}.\n",
      "[I 2025-05-16 11:15:02,488] A new study created in memory with name: no-name-c8034631-2bb6-44da-968c-c34be3e2e71d\n",
      "[I 2025-05-16 11:15:02,612] Trial 0 finished with values: [0.6707226291459504, 0.012983203043084202] and parameters: {'max_depth': 5, 'eta': 0.12625446953686573, 'subsample': 0.7014788922862436, 'colsample_bytree': 0.6363628295661289}.\n"
     ]
    },
    {
     "name": "stdout",
     "output_type": "stream",
     "text": [
      "Completed study for alpha=0.5625\n",
      "14\n"
     ]
    },
    {
     "name": "stderr",
     "output_type": "stream",
     "text": [
      "[I 2025-05-16 11:15:02,731] Trial 1 finished with values: [0.6714379367282106, 0.012914275554801865] and parameters: {'max_depth': 7, 'eta': 0.19876283163950773, 'subsample': 0.6416954995726246, 'colsample_bytree': 0.7647631469145624}.\n",
      "[I 2025-05-16 11:15:02,845] Trial 2 finished with values: [0.6642986462765713, 0.015622554976171868] and parameters: {'max_depth': 4, 'eta': 0.28830669162604367, 'subsample': 0.9946810849736871, 'colsample_bytree': 0.8571000098240413}.\n",
      "[I 2025-05-16 11:15:02,963] Trial 3 finished with values: [0.6707226291459504, 0.012983203043084202] and parameters: {'max_depth': 7, 'eta': 0.2234062757034719, 'subsample': 0.6941170074520268, 'colsample_bytree': 0.89811582148573}.\n",
      "[I 2025-05-16 11:15:03,075] Trial 4 finished with values: [0.6707226291459504, 0.012983203043084202] and parameters: {'max_depth': 3, 'eta': 0.14801668167403936, 'subsample': 0.7928730251568241, 'colsample_bytree': 0.8563664270742839}.\n",
      "[I 2025-05-16 11:15:03,188] Trial 5 finished with values: [0.6707226291459504, 0.012983203043084202] and parameters: {'max_depth': 6, 'eta': 0.130861199504232, 'subsample': 0.8841509156144418, 'colsample_bytree': 0.6446724682370175}.\n",
      "[I 2025-05-16 11:15:03,443] Trial 6 finished with values: [0.5771842920292984, 0.01153118417932845] and parameters: {'max_depth': 7, 'eta': 0.012954780314091426, 'subsample': 0.6016565822405252, 'colsample_bytree': 0.8720487653860598}.\n",
      "[I 2025-05-16 11:15:03,619] Trial 7 finished with values: [0.6707226291459504, 0.012983203043084202] and parameters: {'max_depth': 3, 'eta': 0.01597364699906885, 'subsample': 0.7261423584763627, 'colsample_bytree': 0.9207180676022108}.\n",
      "[I 2025-05-16 11:15:03,732] Trial 8 finished with values: [0.6728685518927314, 0.008640771281297588] and parameters: {'max_depth': 7, 'eta': 0.26838342131607035, 'subsample': 0.7429028257945743, 'colsample_bytree': 0.7601679652720598}.\n",
      "[I 2025-05-16 11:15:03,837] Trial 9 finished with values: [0.6707226291459504, 0.012983203043084202] and parameters: {'max_depth': 7, 'eta': 0.17626749121314841, 'subsample': 0.8917397395132676, 'colsample_bytree': 0.9239686656319244}.\n",
      "[I 2025-05-16 11:15:03,937] Trial 10 finished with values: [0.6707226291459504, 0.012983203043084202] and parameters: {'max_depth': 7, 'eta': 0.28498168504202637, 'subsample': 0.899796720810835, 'colsample_bytree': 0.7705017407110091}.\n",
      "[I 2025-05-16 11:15:04,047] Trial 11 finished with values: [0.6707226291459504, 0.012983203043084202] and parameters: {'max_depth': 3, 'eta': 0.20227630868678456, 'subsample': 0.9302997124253455, 'colsample_bytree': 0.8330531710532206}.\n",
      "[I 2025-05-16 11:15:04,147] Trial 12 finished with values: [0.6343185278449176, 0.027998275798879018] and parameters: {'max_depth': 3, 'eta': 0.2422716250840182, 'subsample': 0.6031752688016541, 'colsample_bytree': 0.8116606329684102}.\n",
      "[I 2025-05-16 11:15:04,250] Trial 13 finished with values: [0.6707226291459504, 0.012983203043084202] and parameters: {'max_depth': 6, 'eta': 0.16559824823015007, 'subsample': 0.6625908816001559, 'colsample_bytree': 0.7744562823094285}.\n",
      "[I 2025-05-16 11:15:04,355] Trial 14 finished with values: [0.6707226291459504, 0.012983203043084202] and parameters: {'max_depth': 4, 'eta': 0.17089569157104986, 'subsample': 0.8036043808555693, 'colsample_bytree': 0.981104920018937}.\n",
      "[I 2025-05-16 11:15:04,454] Trial 15 finished with values: [0.6692950773971994, 0.023306651601310773] and parameters: {'max_depth': 3, 'eta': 0.22809881199904053, 'subsample': 0.9744413728776289, 'colsample_bytree': 0.6961258816637637}.\n",
      "[I 2025-05-16 11:15:04,566] Trial 16 finished with values: [0.6707226291459504, 0.012983203043084202] and parameters: {'max_depth': 6, 'eta': 0.12544600639713385, 'subsample': 0.6970479894404441, 'colsample_bytree': 0.9664910421102226}.\n",
      "[I 2025-05-16 11:15:04,677] Trial 17 finished with values: [0.6707226291459504, 0.012983203043084202] and parameters: {'max_depth': 6, 'eta': 0.14446677699355442, 'subsample': 0.8658715228052334, 'colsample_bytree': 0.8592744950535103}.\n",
      "[I 2025-05-16 11:15:04,803] Trial 18 finished with values: [0.6707226291459504, 0.012983203043084202] and parameters: {'max_depth': 6, 'eta': 0.19870813455070074, 'subsample': 0.9230925954765017, 'colsample_bytree': 0.9912015962004448}.\n",
      "[I 2025-05-16 11:15:04,900] Trial 19 finished with values: [0.6707226291459504, 0.012983203043084202] and parameters: {'max_depth': 6, 'eta': 0.14232515211315871, 'subsample': 0.9911601205290294, 'colsample_bytree': 0.9526773418013335}.\n",
      "[I 2025-05-16 11:15:05,063] Trial 20 finished with values: [0.6707226291459504, 0.012983203043084202] and parameters: {'max_depth': 5, 'eta': 0.17582137236433515, 'subsample': 0.6842769569053293, 'colsample_bytree': 0.9592650144852659}.\n",
      "[I 2025-05-16 11:15:05,213] Trial 21 finished with values: [0.6707226291459504, 0.012983203043084202] and parameters: {'max_depth': 3, 'eta': 0.0720607170760333, 'subsample': 0.8608163767934023, 'colsample_bytree': 0.8637098291246484}.\n",
      "[I 2025-05-16 11:15:05,321] Trial 22 finished with values: [0.6707226291459504, 0.012983203043084202] and parameters: {'max_depth': 4, 'eta': 0.12633480812715506, 'subsample': 0.8573155389662591, 'colsample_bytree': 0.8053442388312698}.\n",
      "[I 2025-05-16 11:15:05,438] Trial 23 finished with values: [0.6714379367282106, 0.012914275554801865] and parameters: {'max_depth': 7, 'eta': 0.2059754727769891, 'subsample': 0.6443823023051192, 'colsample_bytree': 0.6984540343292343}.\n",
      "[I 2025-05-16 11:15:05,659] Trial 24 finished with values: [0.6707226291459504, 0.012983203043084202] and parameters: {'max_depth': 4, 'eta': 0.12665577477960457, 'subsample': 0.9148192644916, 'colsample_bytree': 0.9718460598083312}.\n",
      "[I 2025-05-16 11:15:05,783] Trial 25 finished with values: [0.6707226291459504, 0.012983203043084202] and parameters: {'max_depth': 4, 'eta': 0.113817795662449, 'subsample': 0.7649252127687899, 'colsample_bytree': 0.7114143044319082}.\n",
      "[I 2025-05-16 11:15:05,917] Trial 26 finished with values: [0.6642986462765713, 0.015622554976171868] and parameters: {'max_depth': 6, 'eta': 0.27525489762496097, 'subsample': 0.7269118461837882, 'colsample_bytree': 0.7841350815314432}.\n",
      "[I 2025-05-16 11:15:06,020] Trial 27 finished with values: [0.6707226291459504, 0.012983203043084202] and parameters: {'max_depth': 4, 'eta': 0.15625608111570427, 'subsample': 0.6528814875447877, 'colsample_bytree': 0.6950293723745306}.\n",
      "[I 2025-05-16 11:15:06,156] Trial 28 finished with values: [0.6707226291459504, 0.012983203043084202] and parameters: {'max_depth': 6, 'eta': 0.048731385158141856, 'subsample': 0.926173922808045, 'colsample_bytree': 0.6674668786872984}.\n",
      "[I 2025-05-16 11:15:06,309] Trial 29 finished with values: [0.6707226291459504, 0.012983203043084202] and parameters: {'max_depth': 4, 'eta': 0.031782399055271075, 'subsample': 0.835225965058472, 'colsample_bytree': 0.9969234735580697}.\n",
      "[I 2025-05-16 11:15:06,421] Trial 30 finished with values: [0.6707226291459504, 0.012983203043084202] and parameters: {'max_depth': 6, 'eta': 0.2002070179056556, 'subsample': 0.9831777735867816, 'colsample_bytree': 0.9707262900895277}.\n",
      "[I 2025-05-16 11:15:06,541] Trial 31 finished with values: [0.667153749774073, 0.011713283744407388] and parameters: {'max_depth': 4, 'eta': 0.11332736775362631, 'subsample': 0.6260887447877037, 'colsample_bytree': 0.6012858475662566}.\n",
      "[I 2025-05-16 11:15:06,652] Trial 32 finished with values: [0.6707226291459504, 0.012983203043084202] and parameters: {'max_depth': 7, 'eta': 0.10460763420752044, 'subsample': 0.9227071081130792, 'colsample_bytree': 0.765115196587392}.\n",
      "[I 2025-05-16 11:15:06,782] Trial 33 finished with values: [0.6707226291459504, 0.012983203043084202] and parameters: {'max_depth': 4, 'eta': 0.27528511405219874, 'subsample': 0.6660023426678088, 'colsample_bytree': 0.7427145976462161}.\n",
      "[I 2025-05-16 11:15:06,897] Trial 34 finished with values: [0.6707226291459504, 0.012983203043084202] and parameters: {'max_depth': 4, 'eta': 0.14298776463727636, 'subsample': 0.8339338222773438, 'colsample_bytree': 0.6127874529650897}.\n",
      "[I 2025-05-16 11:15:07,011] Trial 35 finished with values: [0.6707226291459504, 0.012983203043084202] and parameters: {'max_depth': 7, 'eta': 0.10855223118626325, 'subsample': 0.7619942150973132, 'colsample_bytree': 0.6526328643346332}.\n",
      "[I 2025-05-16 11:15:07,220] Trial 36 finished with values: [0.6707226291459504, 0.012983203043084202] and parameters: {'max_depth': 5, 'eta': 0.13215551372597303, 'subsample': 0.649371961768543, 'colsample_bytree': 0.6276562383762634}.\n",
      "[I 2025-05-16 11:15:07,427] Trial 37 finished with values: [0.6707226291459504, 0.012983203043084202] and parameters: {'max_depth': 6, 'eta': 0.10257636347218321, 'subsample': 0.7103387479856774, 'colsample_bytree': 0.7861006810954304}.\n",
      "[I 2025-05-16 11:15:08,095] Trial 38 finished with values: [0.6707226291459504, 0.012983203043084202] and parameters: {'max_depth': 6, 'eta': 0.15762043071492485, 'subsample': 0.8642840214078779, 'colsample_bytree': 0.7066637856110811}.\n",
      "[I 2025-05-16 11:15:08,234] Trial 39 finished with values: [0.6707226291459504, 0.012983203043084202] and parameters: {'max_depth': 4, 'eta': 0.2739230987182962, 'subsample': 0.8838123539930651, 'colsample_bytree': 0.8670594043722242}.\n",
      "[I 2025-05-16 11:15:08,367] Trial 40 finished with values: [0.6707226291459504, 0.012983203043084202] and parameters: {'max_depth': 4, 'eta': 0.16154277685024557, 'subsample': 0.6445573995594115, 'colsample_bytree': 0.9057397024407398}.\n",
      "[I 2025-05-16 11:15:08,506] Trial 41 finished with values: [0.6707226291459504, 0.012983203043084202] and parameters: {'max_depth': 6, 'eta': 0.28360312317193026, 'subsample': 0.7838478741992695, 'colsample_bytree': 0.8565915229402112}.\n",
      "[I 2025-05-16 11:15:08,628] Trial 42 finished with values: [0.6707226291459504, 0.012983203043084202] and parameters: {'max_depth': 3, 'eta': 0.23726884638509646, 'subsample': 0.7374533422471586, 'colsample_bytree': 0.9685377673745366}.\n",
      "[I 2025-05-16 11:15:08,798] Trial 43 finished with values: [0.6707226291459504, 0.012983203043084202] and parameters: {'max_depth': 3, 'eta': 0.051012622306323786, 'subsample': 0.6351291089696286, 'colsample_bytree': 0.9087390219111864}.\n",
      "[I 2025-05-16 11:15:08,938] Trial 44 finished with values: [0.668581301522824, 0.022290391438709145] and parameters: {'max_depth': 4, 'eta': 0.2817414630015398, 'subsample': 0.6587751346066951, 'colsample_bytree': 0.9521834996165073}.\n",
      "[I 2025-05-16 11:15:09,100] Trial 45 finished with values: [0.6707226291459504, 0.012983203043084202] and parameters: {'max_depth': 4, 'eta': 0.0328790356538671, 'subsample': 0.7611455248795469, 'colsample_bytree': 0.6000237409482675}.\n",
      "[I 2025-05-16 11:15:09,225] Trial 46 finished with values: [0.6721532443104711, 0.010777523418049736] and parameters: {'max_depth': 3, 'eta': 0.2743292420879261, 'subsample': 0.6712158322660872, 'colsample_bytree': 0.90704585107961}.\n",
      "[I 2025-05-16 11:15:09,376] Trial 47 finished with values: [0.6707226291459504, 0.012983203043084202] and parameters: {'max_depth': 5, 'eta': 0.015517236370217378, 'subsample': 0.7791739213207692, 'colsample_bytree': 0.9020255729653014}.\n",
      "[I 2025-05-16 11:15:09,485] Trial 48 finished with values: [0.6707226291459504, 0.012983203043084202] and parameters: {'max_depth': 7, 'eta': 0.08383040140267231, 'subsample': 0.6757584523613744, 'colsample_bytree': 0.6910459014444688}.\n",
      "[I 2025-05-16 11:15:09,608] Trial 49 finished with values: [0.6707226291459504, 0.012983203043084202] and parameters: {'max_depth': 5, 'eta': 0.07827398128892525, 'subsample': 0.9775540776031413, 'colsample_bytree': 0.7562088657920073}.\n",
      "[I 2025-05-16 11:15:09,624] A new study created in memory with name: no-name-78eb2143-dc9e-4c2f-bba3-3ec5552be77d\n",
      "[I 2025-05-16 11:15:09,790] Trial 0 finished with values: [0.6692950773971994, 0.023306651601310773] and parameters: {'max_depth': 5, 'eta': 0.03387249427371626, 'subsample': 0.7545213854491127, 'colsample_bytree': 0.8141302708609461}.\n"
     ]
    },
    {
     "name": "stdout",
     "output_type": "stream",
     "text": [
      "Completed study for alpha=0.02294921875\n",
      "15\n"
     ]
    },
    {
     "name": "stderr",
     "output_type": "stream",
     "text": [
      "[I 2025-05-16 11:15:09,930] Trial 1 finished with values: [0.6707226291459504, 0.012983203043084202] and parameters: {'max_depth': 4, 'eta': 0.07838658543656261, 'subsample': 0.8482804365408092, 'colsample_bytree': 0.8420905969651042}.\n",
      "[I 2025-05-16 11:15:10,053] Trial 2 finished with values: [0.6707226291459504, 0.012983203043084202] and parameters: {'max_depth': 4, 'eta': 0.2689789834472531, 'subsample': 0.9803824647593569, 'colsample_bytree': 0.8562833083620074}.\n",
      "[I 2025-05-16 11:15:10,279] Trial 3 finished with values: [0.6707226291459504, 0.012983203043084202] and parameters: {'max_depth': 7, 'eta': 0.11134864710167346, 'subsample': 0.935721673209935, 'colsample_bytree': 0.6318611975543293}.\n",
      "[I 2025-05-16 11:15:10,443] Trial 4 finished with values: [0.6707226291459504, 0.012983203043084202] and parameters: {'max_depth': 3, 'eta': 0.052262678429692004, 'subsample': 0.8688651148161866, 'colsample_bytree': 0.98699590890497}.\n",
      "[I 2025-05-16 11:15:10,614] Trial 5 finished with values: [0.6707226291459504, 0.012983203043084202] and parameters: {'max_depth': 3, 'eta': 0.168773520812819, 'subsample': 0.983364627518265, 'colsample_bytree': 0.8380738516334743}.\n",
      "[I 2025-05-16 11:15:10,721] Trial 6 finished with values: [0.6707226291459504, 0.012983203043084202] and parameters: {'max_depth': 3, 'eta': 0.21739694343318577, 'subsample': 0.8826001578198928, 'colsample_bytree': 0.7755534371648702}.\n",
      "[I 2025-05-16 11:15:10,902] Trial 7 finished with values: [0.662157318653445, 0.022667489574199746] and parameters: {'max_depth': 6, 'eta': 0.23967865075550052, 'subsample': 0.619920364039061, 'colsample_bytree': 0.7507452654026289}.\n",
      "[I 2025-05-16 11:15:11,194] Trial 8 finished with values: [0.6707226291459504, 0.012983203043084202] and parameters: {'max_depth': 3, 'eta': 0.09383916083806974, 'subsample': 0.6588328805689303, 'colsample_bytree': 0.6052983630372447}.\n",
      "[I 2025-05-16 11:15:11,471] Trial 9 finished with values: [0.6707226291459504, 0.012983203043084202] and parameters: {'max_depth': 6, 'eta': 0.23493735275506872, 'subsample': 0.9029358861240777, 'colsample_bytree': 0.9098364240795879}.\n",
      "[I 2025-05-16 11:15:11,639] Trial 10 finished with values: [0.6707226291459504, 0.012983203043084202] and parameters: {'max_depth': 4, 'eta': 0.1377867320697198, 'subsample': 0.6718597967322129, 'colsample_bytree': 0.8955105326311346}.\n",
      "[I 2025-05-16 11:15:11,811] Trial 11 finished with values: [0.6707226291459504, 0.012983203043084202] and parameters: {'max_depth': 4, 'eta': 0.055425161103372526, 'subsample': 0.8158424358694526, 'colsample_bytree': 0.9048477325830028}.\n",
      "[I 2025-05-16 11:15:11,930] Trial 12 finished with values: [0.6707226291459504, 0.012983203043084202] and parameters: {'max_depth': 3, 'eta': 0.2694668961797863, 'subsample': 0.9145761119206812, 'colsample_bytree': 0.848024803296879}.\n",
      "[I 2025-05-16 11:15:12,130] Trial 13 finished with values: [0.6707226291459504, 0.012983203043084202] and parameters: {'max_depth': 3, 'eta': 0.013554775307171616, 'subsample': 0.9292545508893656, 'colsample_bytree': 0.9805780091119047}.\n",
      "[I 2025-05-16 11:15:12,244] Trial 14 finished with values: [0.6707226291459504, 0.012983203043084202] and parameters: {'max_depth': 5, 'eta': 0.12131814438738818, 'subsample': 0.7032191180971551, 'colsample_bytree': 0.9810701197574135}.\n",
      "[I 2025-05-16 11:15:12,365] Trial 15 finished with values: [0.667153749774073, 0.011713283744407388] and parameters: {'max_depth': 4, 'eta': 0.08746910841777668, 'subsample': 0.6268051512815103, 'colsample_bytree': 0.9659535959981711}.\n",
      "[I 2025-05-16 11:15:12,480] Trial 16 finished with values: [0.6507353729555528, 0.020657272659021342] and parameters: {'max_depth': 4, 'eta': 0.2885419809564586, 'subsample': 0.6100311484236642, 'colsample_bytree': 0.7902888502313545}.\n",
      "[I 2025-05-16 11:15:12,595] Trial 17 finished with values: [0.642883838337423, 0.030322878197729202] and parameters: {'max_depth': 4, 'eta': 0.24766505272829878, 'subsample': 0.6084413993394063, 'colsample_bytree': 0.6186718921934186}.\n",
      "[I 2025-05-16 11:15:12,759] Trial 18 finished with values: [0.6707226291459504, 0.012983203043084202] and parameters: {'max_depth': 5, 'eta': 0.08141180223696105, 'subsample': 0.6910929431377107, 'colsample_bytree': 0.8217874040856261}.\n",
      "[I 2025-05-16 11:15:12,892] Trial 19 finished with values: [0.6707226291459504, 0.012983203043084202] and parameters: {'max_depth': 4, 'eta': 0.17049664558133368, 'subsample': 0.8141572256039502, 'colsample_bytree': 0.8586688879983836}.\n",
      "[I 2025-05-16 11:15:13,076] Trial 20 finished with values: [0.6707226291459504, 0.012983203043084202] and parameters: {'max_depth': 7, 'eta': 0.2485974361520814, 'subsample': 0.9390963460737004, 'colsample_bytree': 0.761105184276934}.\n",
      "[I 2025-05-16 11:15:13,194] Trial 21 finished with values: [0.6707226291459504, 0.012983203043084202] and parameters: {'max_depth': 5, 'eta': 0.15633120415782925, 'subsample': 0.8035741714197442, 'colsample_bytree': 0.8579697126060227}.\n",
      "[I 2025-05-16 11:15:13,341] Trial 22 finished with values: [0.6600159910303186, 0.020764337573818254] and parameters: {'max_depth': 4, 'eta': 0.29759924323372017, 'subsample': 0.6326091923157806, 'colsample_bytree': 0.8992776072954985}.\n",
      "[I 2025-05-16 11:15:13,447] Trial 23 finished with values: [0.6707226291459504, 0.012983203043084202] and parameters: {'max_depth': 7, 'eta': 0.26305693237425243, 'subsample': 0.8591423171283326, 'colsample_bytree': 0.8509196221363033}.\n",
      "[I 2025-05-16 11:15:13,571] Trial 24 finished with values: [0.6707226291459504, 0.012983203043084202] and parameters: {'max_depth': 4, 'eta': 0.24204421137172472, 'subsample': 0.8094994371312594, 'colsample_bytree': 0.8578304819980277}.\n",
      "[I 2025-05-16 11:15:13,721] Trial 25 finished with values: [0.668581301522824, 0.019844797227157113] and parameters: {'max_depth': 4, 'eta': 0.2894357843879325, 'subsample': 0.6546542846620936, 'colsample_bytree': 0.9158109619084353}.\n",
      "[I 2025-05-16 11:15:13,873] Trial 26 finished with values: [0.6728685518927314, 0.008640771281297588] and parameters: {'max_depth': 4, 'eta': 0.2957252306362285, 'subsample': 0.9436943585700321, 'colsample_bytree': 0.7603200372661836}.\n",
      "[I 2025-05-16 11:15:13,980] Trial 27 finished with values: [0.6707226291459504, 0.012983203043084202] and parameters: {'max_depth': 7, 'eta': 0.10210839158841568, 'subsample': 0.6648181422359261, 'colsample_bytree': 0.908072472100447}.\n",
      "[I 2025-05-16 11:15:14,084] Trial 28 finished with values: [0.6707226291459504, 0.012983203043084202] and parameters: {'max_depth': 5, 'eta': 0.21835784810002132, 'subsample': 0.955660939586378, 'colsample_bytree': 0.6137656751607378}.\n",
      "[I 2025-05-16 11:15:14,192] Trial 29 finished with values: [0.6721532443104711, 0.010777523418049736] and parameters: {'max_depth': 6, 'eta': 0.24295203209148353, 'subsample': 0.6686396376193904, 'colsample_bytree': 0.667333595828424}.\n",
      "[I 2025-05-16 11:15:14,296] Trial 30 finished with values: [0.6707226291459504, 0.012983203043084202] and parameters: {'max_depth': 4, 'eta': 0.22851551777850848, 'subsample': 0.6693158554022524, 'colsample_bytree': 0.8323793253087957}.\n",
      "[I 2025-05-16 11:15:14,434] Trial 31 finished with values: [0.6707226291459504, 0.012983203043084202] and parameters: {'max_depth': 7, 'eta': 0.033604106700415, 'subsample': 0.7257886406924906, 'colsample_bytree': 0.6532278382574963}.\n",
      "[I 2025-05-16 11:15:14,576] Trial 32 finished with values: [0.6707226291459504, 0.012983203043084202] and parameters: {'max_depth': 5, 'eta': 0.02434657133068223, 'subsample': 0.7625382137226042, 'colsample_bytree': 0.6169665156988164}.\n",
      "[I 2025-05-16 11:15:14,680] Trial 33 finished with values: [0.6707226291459504, 0.012983203043084202] and parameters: {'max_depth': 6, 'eta': 0.24849891073861424, 'subsample': 0.7333799368062502, 'colsample_bytree': 0.7138495524330949}.\n",
      "[I 2025-05-16 11:15:14,775] Trial 34 finished with values: [0.6707226291459504, 0.012983203043084202] and parameters: {'max_depth': 5, 'eta': 0.14394955405658685, 'subsample': 0.8579700735585023, 'colsample_bytree': 0.8394553394128857}.\n",
      "[I 2025-05-16 11:15:14,877] Trial 35 finished with values: [0.6707226291459504, 0.012983203043084202] and parameters: {'max_depth': 6, 'eta': 0.2510650325937595, 'subsample': 0.7209343959520298, 'colsample_bytree': 0.6604691264026651}.\n",
      "[I 2025-05-16 11:15:14,999] Trial 36 finished with values: [0.6707226291459504, 0.012983203043084202] and parameters: {'max_depth': 4, 'eta': 0.11115603903135986, 'subsample': 0.8154246466254651, 'colsample_bytree': 0.7942248962733186}.\n",
      "[I 2025-05-16 11:15:15,100] Trial 37 finished with values: [0.6707226291459504, 0.012983203043084202] and parameters: {'max_depth': 3, 'eta': 0.15946148252310857, 'subsample': 0.6790186182560928, 'colsample_bytree': 0.8896448975210618}.\n",
      "[I 2025-05-16 11:15:15,206] Trial 38 finished with values: [0.6642986462765713, 0.015622554976171868] and parameters: {'max_depth': 4, 'eta': 0.24883556595668493, 'subsample': 0.7435185662828562, 'colsample_bytree': 0.9174495538205846}.\n",
      "[I 2025-05-16 11:15:15,328] Trial 39 finished with values: [0.6707226291459504, 0.012983203043084202] and parameters: {'max_depth': 7, 'eta': 0.08730782106669281, 'subsample': 0.7422516299465693, 'colsample_bytree': 0.8234028405558249}.\n",
      "[I 2025-05-16 11:15:15,443] Trial 40 finished with values: [0.6707226291459504, 0.012983203043084202] and parameters: {'max_depth': 6, 'eta': 0.07341319308608021, 'subsample': 0.9579998286870741, 'colsample_bytree': 0.6271855061912746}.\n",
      "[I 2025-05-16 11:15:15,559] Trial 41 finished with values: [0.6707226291459504, 0.012983203043084202] and parameters: {'max_depth': 5, 'eta': 0.11895409036222077, 'subsample': 0.9050777342036744, 'colsample_bytree': 0.6692443774154748}.\n",
      "[I 2025-05-16 11:15:15,740] Trial 42 finished with values: [0.6707226291459504, 0.012983203043084202] and parameters: {'max_depth': 4, 'eta': 0.20601510703739026, 'subsample': 0.7277753425900619, 'colsample_bytree': 0.648197091797219}.\n",
      "[I 2025-05-16 11:15:15,928] Trial 43 finished with values: [0.6664384421918127, 0.009493818621716462] and parameters: {'max_depth': 5, 'eta': 0.06567924581134936, 'subsample': 0.6250248612348015, 'colsample_bytree': 0.6787280078423974}.\n",
      "[I 2025-05-16 11:15:16,074] Trial 44 finished with values: [0.6707226291459504, 0.012983203043084202] and parameters: {'max_depth': 6, 'eta': 0.07935484206912857, 'subsample': 0.8784701259017469, 'colsample_bytree': 0.9611435853362843}.\n",
      "[I 2025-05-16 11:15:16,195] Trial 45 finished with values: [0.6707226291459504, 0.012983203043084202] and parameters: {'max_depth': 7, 'eta': 0.07078771607769005, 'subsample': 0.9649778871208718, 'colsample_bytree': 0.7311285969320861}.\n",
      "[I 2025-05-16 11:15:16,293] Trial 46 finished with values: [0.6707226291459504, 0.012983203043084202] and parameters: {'max_depth': 5, 'eta': 0.08723522732706887, 'subsample': 0.9188293591593704, 'colsample_bytree': 0.6040658778136951}.\n",
      "[I 2025-05-16 11:15:16,383] Trial 47 finished with values: [0.6707226291459504, 0.012983203043084202] and parameters: {'max_depth': 7, 'eta': 0.2029750265069495, 'subsample': 0.6674000166922213, 'colsample_bytree': 0.8982131326698269}.\n",
      "[I 2025-05-16 11:15:16,503] Trial 48 finished with values: [0.6664399738996977, 0.023177969443160695] and parameters: {'max_depth': 4, 'eta': 0.2561425517684743, 'subsample': 0.646940317438701, 'colsample_bytree': 0.9624129981162867}.\n",
      "[I 2025-05-16 11:15:16,609] Trial 49 finished with values: [0.6707226291459504, 0.012983203043084202] and parameters: {'max_depth': 6, 'eta': 0.2702261638650086, 'subsample': 0.7299827305742267, 'colsample_bytree': 0.7423970057768328}.\n",
      "[I 2025-05-16 11:15:16,624] A new study created in memory with name: no-name-db2389e1-b420-4ef4-a5fa-bc668bb69542\n",
      "[I 2025-05-16 11:15:16,768] Trial 0 finished with values: [0.6707226291459504, 0.012983203043084202] and parameters: {'max_depth': 5, 'eta': 0.03538316814356158, 'subsample': 0.707717962975739, 'colsample_bytree': 0.8646765784304965}.\n"
     ]
    },
    {
     "name": "stdout",
     "output_type": "stream",
     "text": [
      "Completed study for alpha=0.022705078125\n",
      "16\n"
     ]
    },
    {
     "name": "stderr",
     "output_type": "stream",
     "text": [
      "[I 2025-05-16 11:15:16,911] Trial 1 finished with values: [0.6464557811250701, 0.02310104456401531] and parameters: {'max_depth': 7, 'eta': 0.21806665821328136, 'subsample': 0.6204547302767405, 'colsample_bytree': 0.8362929309967387}.\n",
      "[I 2025-05-16 11:15:17,023] Trial 2 finished with values: [0.6471664935836756, 0.022258038105468142] and parameters: {'max_depth': 5, 'eta': 0.28869476828105706, 'subsample': 0.6052204171184942, 'colsample_bytree': 0.6631642205484641}.\n",
      "[I 2025-05-16 11:15:17,152] Trial 3 finished with values: [0.6707226291459504, 0.012983203043084202] and parameters: {'max_depth': 7, 'eta': 0.10589536881212151, 'subsample': 0.6485590515705673, 'colsample_bytree': 0.6137088513297118}.\n",
      "[I 2025-05-16 11:15:17,275] Trial 4 finished with values: [0.6664445690233525, 0.011280123214385254] and parameters: {'max_depth': 3, 'eta': 0.26703197464104195, 'subsample': 0.9640286768920947, 'colsample_bytree': 0.9230458331582391}.\n",
      "[I 2025-05-16 11:15:17,407] Trial 5 finished with values: [0.6707226291459504, 0.012983203043084202] and parameters: {'max_depth': 6, 'eta': 0.03782889924577343, 'subsample': 0.8272398781511204, 'colsample_bytree': 0.9450755847313564}.\n",
      "[I 2025-05-16 11:15:17,517] Trial 6 finished with values: [0.6707226291459504, 0.012983203043084202] and parameters: {'max_depth': 4, 'eta': 0.22489336046261704, 'subsample': 0.7117673730919829, 'colsample_bytree': 0.6914027975547641}.\n",
      "[I 2025-05-16 11:15:17,637] Trial 7 finished with values: [0.6707226291459504, 0.012983203043084202] and parameters: {'max_depth': 7, 'eta': 0.04908511251905958, 'subsample': 0.870274435625175, 'colsample_bytree': 0.6593679853259127}.\n",
      "[I 2025-05-16 11:15:17,748] Trial 8 finished with values: [0.6707226291459504, 0.012983203043084202] and parameters: {'max_depth': 6, 'eta': 0.08507267613682046, 'subsample': 0.7560426240912825, 'colsample_bytree': 0.6793767396763657}.\n",
      "[I 2025-05-16 11:15:17,857] Trial 9 finished with values: [0.6707272242696051, 0.01794795967692253] and parameters: {'max_depth': 3, 'eta': 0.25767692792034713, 'subsample': 0.7165959000547459, 'colsample_bytree': 0.9249036142729795}.\n",
      "[I 2025-05-16 11:15:18,024] Trial 10 finished with values: [0.6707226291459504, 0.012983203043084202] and parameters: {'max_depth': 4, 'eta': 0.1782913540089097, 'subsample': 0.9298909522732742, 'colsample_bytree': 0.9170846862239902}.\n",
      "[I 2025-05-16 11:15:18,138] Trial 11 finished with values: [0.6500215970811775, 0.028059001964840135] and parameters: {'max_depth': 4, 'eta': 0.251864859217702, 'subsample': 0.6220867743907682, 'colsample_bytree': 0.8780306275087991}.\n",
      "[I 2025-05-16 11:15:18,255] Trial 12 finished with values: [0.6707226291459504, 0.012983203043084202] and parameters: {'max_depth': 4, 'eta': 0.1253850948701421, 'subsample': 0.9472922077900474, 'colsample_bytree': 0.9219478888553385}.\n",
      "[I 2025-05-16 11:15:18,377] Trial 13 finished with values: [0.6707226291459504, 0.012983203043084202] and parameters: {'max_depth': 4, 'eta': 0.14822652071826567, 'subsample': 0.7672654837448507, 'colsample_bytree': 0.7926963753878562}.\n",
      "[I 2025-05-16 11:15:18,519] Trial 14 finished with values: [0.6707226291459504, 0.012983203043084202] and parameters: {'max_depth': 5, 'eta': 0.259443723727052, 'subsample': 0.7937272967880167, 'colsample_bytree': 0.6084478287527824}.\n",
      "[I 2025-05-16 11:15:18,781] Trial 15 finished with values: [0.6728685518927314, 0.008640771281297588] and parameters: {'max_depth': 7, 'eta': 0.29923436770457956, 'subsample': 0.7406725528507369, 'colsample_bytree': 0.6233885987504183}.\n",
      "[I 2025-05-16 11:15:18,903] Trial 16 finished with values: [0.6578700682835376, 0.01865996153434593] and parameters: {'max_depth': 3, 'eta': 0.045203019785518946, 'subsample': 0.6275639282976788, 'colsample_bytree': 0.6940628241210534}.\n",
      "[I 2025-05-16 11:15:19,053] Trial 17 finished with values: [0.6707226291459504, 0.012983203043084202] and parameters: {'max_depth': 5, 'eta': 0.025912123875800906, 'subsample': 0.7420734111069007, 'colsample_bytree': 0.864904223835564}.\n",
      "[I 2025-05-16 11:15:19,172] Trial 18 finished with values: [0.6707226291459504, 0.012983203043084202] and parameters: {'max_depth': 3, 'eta': 0.24419795059947147, 'subsample': 0.9536480310374555, 'colsample_bytree': 0.9337966820628721}.\n",
      "[I 2025-05-16 11:15:19,313] Trial 19 finished with values: [0.6707226291459504, 0.012983203043084202] and parameters: {'max_depth': 6, 'eta': 0.06053278916143509, 'subsample': 0.8381748300329874, 'colsample_bytree': 0.704392922623146}.\n",
      "[I 2025-05-16 11:15:19,432] Trial 20 finished with values: [0.6707226291459504, 0.012983203043084202] and parameters: {'max_depth': 5, 'eta': 0.182438253244059, 'subsample': 0.8710451154341092, 'colsample_bytree': 0.7991598387456511}.\n",
      "[I 2025-05-16 11:15:19,532] Trial 21 finished with values: [0.6707226291459504, 0.012983203043084202] and parameters: {'max_depth': 4, 'eta': 0.09042805772413072, 'subsample': 0.6647712586088027, 'colsample_bytree': 0.9182696573045714}.\n",
      "[I 2025-05-16 11:15:19,638] Trial 22 finished with values: [0.6707226291459504, 0.012983203043084202] and parameters: {'max_depth': 7, 'eta': 0.05032202404438022, 'subsample': 0.8994963799403287, 'colsample_bytree': 0.6162857017683742}.\n",
      "[I 2025-05-16 11:15:19,726] Trial 23 finished with values: [0.6707226291459504, 0.012983203043084202] and parameters: {'max_depth': 6, 'eta': 0.22529324214169077, 'subsample': 0.9167328465859159, 'colsample_bytree': 0.96678306395852}.\n",
      "[I 2025-05-16 11:15:19,823] Trial 24 finished with values: [0.6707226291459504, 0.012983203043084202] and parameters: {'max_depth': 3, 'eta': 0.07784395959905344, 'subsample': 0.9249874062954918, 'colsample_bytree': 0.8269369650236322}.\n",
      "[I 2025-05-16 11:15:19,915] Trial 25 finished with values: [0.6707226291459504, 0.012983203043084202] and parameters: {'max_depth': 5, 'eta': 0.24454125606102164, 'subsample': 0.7590561572339545, 'colsample_bytree': 0.8835852064215767}.\n",
      "[I 2025-05-16 11:15:20,161] Trial 26 finished with values: [0.6707226291459504, 0.012983203043084202] and parameters: {'max_depth': 3, 'eta': 0.011463207471175376, 'subsample': 0.8010231420748575, 'colsample_bytree': 0.9426987594744785}.\n",
      "[I 2025-05-16 11:15:20,262] Trial 27 finished with values: [0.6707226291459504, 0.012983203043084202] and parameters: {'max_depth': 3, 'eta': 0.11316610729002712, 'subsample': 0.9269288151366208, 'colsample_bytree': 0.637769749589489}.\n",
      "[I 2025-05-16 11:15:20,354] Trial 28 finished with values: [0.6707226291459504, 0.012983203043084202] and parameters: {'max_depth': 6, 'eta': 0.2998614542891707, 'subsample': 0.7307762659969311, 'colsample_bytree': 0.835740527123879}.\n",
      "[I 2025-05-16 11:15:20,443] Trial 29 finished with values: [0.6707226291459504, 0.012983203043084202] and parameters: {'max_depth': 3, 'eta': 0.16313247860069818, 'subsample': 0.9425789963987606, 'colsample_bytree': 0.6248723703506455}.\n",
      "[I 2025-05-16 11:15:20,537] Trial 30 finished with values: [0.6707226291459504, 0.012983203043084202] and parameters: {'max_depth': 6, 'eta': 0.2143695521730991, 'subsample': 0.7222551364959039, 'colsample_bytree': 0.6575439075390284}.\n",
      "[I 2025-05-16 11:15:20,629] Trial 31 finished with values: [0.6578731316993074, 0.024876945540137845] and parameters: {'max_depth': 6, 'eta': 0.292647721942074, 'subsample': 0.6166231991556019, 'colsample_bytree': 0.7962204941693432}.\n",
      "[I 2025-05-16 11:15:20,722] Trial 32 finished with values: [0.6707226291459504, 0.012983203043084202] and parameters: {'max_depth': 6, 'eta': 0.08591681367097267, 'subsample': 0.9230455983673682, 'colsample_bytree': 0.9026077478655633}.\n",
      "[I 2025-05-16 11:15:20,821] Trial 33 finished with values: [0.5700572552407386, 0.018621170363836034] and parameters: {'max_depth': 4, 'eta': 0.0830772247664195, 'subsample': 0.6057039792513121, 'colsample_bytree': 0.822523655261193}.\n",
      "[I 2025-05-16 11:15:20,945] Trial 34 finished with values: [0.6707226291459504, 0.012983203043084202] and parameters: {'max_depth': 4, 'eta': 0.038864023138342675, 'subsample': 0.652379086978342, 'colsample_bytree': 0.7970966659803795}.\n",
      "[I 2025-05-16 11:15:21,038] Trial 35 finished with values: [0.6707226291459504, 0.012983203043084202] and parameters: {'max_depth': 4, 'eta': 0.06708271329611298, 'subsample': 0.7090511231905834, 'colsample_bytree': 0.9534104291227306}.\n",
      "[I 2025-05-16 11:15:21,142] Trial 36 finished with values: [0.6707226291459504, 0.012983203043084202] and parameters: {'max_depth': 6, 'eta': 0.11910787220182784, 'subsample': 0.6904188737873329, 'colsample_bytree': 0.6638420101580417}.\n",
      "[I 2025-05-16 11:15:21,230] Trial 37 finished with values: [0.6728685518927314, 0.008640771281297588] and parameters: {'max_depth': 3, 'eta': 0.2704232876616868, 'subsample': 0.7407798435091115, 'colsample_bytree': 0.988711734282992}.\n",
      "[I 2025-05-16 11:15:21,345] Trial 38 finished with values: [0.6707226291459504, 0.012983203043084202] and parameters: {'max_depth': 4, 'eta': 0.092932749690146, 'subsample': 0.9218938458419327, 'colsample_bytree': 0.7730242480264439}.\n",
      "[I 2025-05-16 11:15:21,518] Trial 39 finished with values: [0.6707226291459504, 0.012983203043084202] and parameters: {'max_depth': 3, 'eta': 0.031627474467863015, 'subsample': 0.9639622481269529, 'colsample_bytree': 0.7845300046394658}.\n",
      "[I 2025-05-16 11:15:21,662] Trial 40 finished with values: [0.6707226291459504, 0.012983203043084202] and parameters: {'max_depth': 4, 'eta': 0.09705173454687793, 'subsample': 0.9566580016273296, 'colsample_bytree': 0.6590435486913893}.\n",
      "[I 2025-05-16 11:15:21,926] Trial 41 finished with values: [0.6642986462765713, 0.015622554976171868] and parameters: {'max_depth': 7, 'eta': 0.2690351400933285, 'subsample': 0.9145528094811988, 'colsample_bytree': 0.764099910956902}.\n",
      "[I 2025-05-16 11:15:22,062] Trial 42 finished with values: [0.6721532443104711, 0.010777523418049736] and parameters: {'max_depth': 5, 'eta': 0.26472562659558185, 'subsample': 0.6767187797229757, 'colsample_bytree': 0.6817193020890995}.\n",
      "[I 2025-05-16 11:15:22,187] Trial 43 finished with values: [0.6707226291459504, 0.012983203043084202] and parameters: {'max_depth': 4, 'eta': 0.17387585964288052, 'subsample': 0.7175698300133265, 'colsample_bytree': 0.777563833951584}.\n",
      "[I 2025-05-16 11:15:22,324] Trial 44 finished with values: [0.6600159910303186, 0.017612263712454567] and parameters: {'max_depth': 3, 'eta': 0.11814393815773043, 'subsample': 0.6298805764236567, 'colsample_bytree': 0.7183555504312789}.\n",
      "[I 2025-05-16 11:15:22,444] Trial 45 finished with values: [0.6464557811250701, 0.02310104456401531] and parameters: {'max_depth': 3, 'eta': 0.20880410620488218, 'subsample': 0.6202918452377507, 'colsample_bytree': 0.7806511595954733}.\n",
      "[I 2025-05-16 11:15:22,590] Trial 46 finished with values: [0.6707226291459504, 0.012983203043084202] and parameters: {'max_depth': 3, 'eta': 0.21340776097798606, 'subsample': 0.867865320928384, 'colsample_bytree': 0.8208089670277678}.\n",
      "[I 2025-05-16 11:15:22,732] Trial 47 finished with values: [0.6707226291459504, 0.012983203043084202] and parameters: {'max_depth': 4, 'eta': 0.14788936496061553, 'subsample': 0.9749936909993338, 'colsample_bytree': 0.6452819389910519}.\n",
      "[I 2025-05-16 11:15:22,884] Trial 48 finished with values: [0.6707226291459504, 0.012983203043084202] and parameters: {'max_depth': 4, 'eta': 0.027654964345935534, 'subsample': 0.9495326839065883, 'colsample_bytree': 0.6877790153717703}.\n",
      "[I 2025-05-16 11:15:22,991] Trial 49 finished with values: [0.6707226291459504, 0.012983203043084202] and parameters: {'max_depth': 3, 'eta': 0.27337382728883947, 'subsample': 0.8032989449836275, 'colsample_bytree': 0.9792300896609042}.\n",
      "[I 2025-05-16 11:15:23,004] A new study created in memory with name: no-name-6ffb9b83-2ac9-48f6-a767-395c46aa3573\n",
      "[I 2025-05-16 11:15:23,122] Trial 0 finished with values: [0.6614450744869544, 0.02291787130776572] and parameters: {'max_depth': 7, 'eta': 0.2947604598818945, 'subsample': 0.6574722475413626, 'colsample_bytree': 0.7695300024034816}.\n"
     ]
    },
    {
     "name": "stdout",
     "output_type": "stream",
     "text": [
      "Completed study for alpha=0.0225830078125\n",
      "17\n"
     ]
    },
    {
     "name": "stderr",
     "output_type": "stream",
     "text": [
      "[I 2025-05-16 11:15:23,241] Trial 1 finished with values: [0.6707226291459504, 0.012983203043084202] and parameters: {'max_depth': 7, 'eta': 0.26493210621786506, 'subsample': 0.8220845479509138, 'colsample_bytree': 0.9059791247031806}.\n",
      "[I 2025-05-16 11:15:23,351] Trial 2 finished with values: [0.6692950773971994, 0.023306651601310773] and parameters: {'max_depth': 3, 'eta': 0.2839036161217448, 'subsample': 0.8557522281165948, 'colsample_bytree': 0.6930116995660955}.\n",
      "[I 2025-05-16 11:15:23,478] Trial 3 finished with values: [0.6728685518927314, 0.008640771281297588] and parameters: {'max_depth': 4, 'eta': 0.2841261038463769, 'subsample': 0.8416726076955714, 'colsample_bytree': 0.949932878197986}.\n",
      "[I 2025-05-16 11:15:23,608] Trial 4 finished with values: [0.6707226291459504, 0.012983203043084202] and parameters: {'max_depth': 7, 'eta': 0.11422532923241686, 'subsample': 0.8253333269928612, 'colsample_bytree': 0.9428262896039241}.\n",
      "[I 2025-05-16 11:15:23,726] Trial 5 finished with values: [0.6707226291459504, 0.012983203043084202] and parameters: {'max_depth': 4, 'eta': 0.13025542399354842, 'subsample': 0.708239357006148, 'colsample_bytree': 0.9336606754262343}.\n",
      "[I 2025-05-16 11:15:23,850] Trial 6 finished with values: [0.6707226291459504, 0.012983203043084202] and parameters: {'max_depth': 3, 'eta': 0.15011367107181317, 'subsample': 0.8396277701853634, 'colsample_bytree': 0.9489221517330926}.\n",
      "[I 2025-05-16 11:15:23,985] Trial 7 finished with values: [0.6707226291459504, 0.012983203043084202] and parameters: {'max_depth': 3, 'eta': 0.05874981288053282, 'subsample': 0.781521767531947, 'colsample_bytree': 0.7175692575521702}.\n",
      "[I 2025-05-16 11:15:24,128] Trial 8 finished with values: [0.6642986462765713, 0.015622554976171868] and parameters: {'max_depth': 5, 'eta': 0.2722330644394484, 'subsample': 0.9255849234956925, 'colsample_bytree': 0.8830204080006256}.\n",
      "[I 2025-05-16 11:15:24,276] Trial 9 finished with values: [0.6700088532715748, 0.02497361071694511] and parameters: {'max_depth': 3, 'eta': 0.2727602866748775, 'subsample': 0.9835473710316394, 'colsample_bytree': 0.746466079942816}.\n",
      "[I 2025-05-16 11:15:24,388] Trial 10 finished with values: [0.5779103215667534, 0.0173850546144214] and parameters: {'max_depth': 3, 'eta': 0.1966705164423708, 'subsample': 0.6010145134855093, 'colsample_bytree': 0.886941846036359}.\n",
      "[I 2025-05-16 11:15:24,519] Trial 11 finished with values: [0.6707226291459504, 0.012983203043084202] and parameters: {'max_depth': 7, 'eta': 0.11484956656794736, 'subsample': 0.9115410056116133, 'colsample_bytree': 0.8678950509577867}.\n",
      "[I 2025-05-16 11:15:24,682] Trial 12 finished with values: [0.6707226291459504, 0.012983203043084202] and parameters: {'max_depth': 5, 'eta': 0.25286273945093946, 'subsample': 0.9645614258294927, 'colsample_bytree': 0.6095487103339677}.\n",
      "[I 2025-05-16 11:15:24,869] Trial 13 finished with values: [0.6700119166873447, 0.020084711813674678] and parameters: {'max_depth': 4, 'eta': 0.2528016373316343, 'subsample': 0.6652678864197726, 'colsample_bytree': 0.9424079762856907}.\n",
      "[I 2025-05-16 11:15:25,007] Trial 14 finished with values: [0.6721532443104711, 0.010777523418049736] and parameters: {'max_depth': 5, 'eta': 0.2593708703998598, 'subsample': 0.6804490980769183, 'colsample_bytree': 0.9821318679224366}.\n",
      "[I 2025-05-16 11:15:25,134] Trial 15 finished with values: [0.6707226291459504, 0.012983203043084202] and parameters: {'max_depth': 4, 'eta': 0.05214311603709558, 'subsample': 0.8268388640728928, 'colsample_bytree': 0.9825278300548248}.\n",
      "[I 2025-05-16 11:15:25,306] Trial 16 finished with values: [0.6707226291459504, 0.012983203043084202] and parameters: {'max_depth': 6, 'eta': 0.19808876902791794, 'subsample': 0.9995896786391258, 'colsample_bytree': 0.60293693205825}.\n",
      "[I 2025-05-16 11:15:25,427] Trial 17 finished with values: [0.6714379367282106, 0.012914275554801865] and parameters: {'max_depth': 5, 'eta': 0.18409070320507792, 'subsample': 0.6485235984644343, 'colsample_bytree': 0.9045713150496278}.\n",
      "[I 2025-05-16 11:15:25,566] Trial 18 finished with values: [0.6707226291459504, 0.012983203043084202] and parameters: {'max_depth': 6, 'eta': 0.11696312876147537, 'subsample': 0.7905555304000906, 'colsample_bytree': 0.6904173958509477}.\n",
      "[I 2025-05-16 11:15:25,670] Trial 19 finished with values: [0.6707226291459504, 0.012983203043084202] and parameters: {'max_depth': 7, 'eta': 0.23265009742566323, 'subsample': 0.7865908864447784, 'colsample_bytree': 0.7299582864658654}.\n",
      "[I 2025-05-16 11:15:25,769] Trial 20 finished with values: [0.6707226291459504, 0.012983203043084202] and parameters: {'max_depth': 6, 'eta': 0.19274190460274349, 'subsample': 0.7358151196179071, 'colsample_bytree': 0.8242898473352085}.\n",
      "[I 2025-05-16 11:15:25,890] Trial 21 finished with values: [0.6707226291459504, 0.012983203043084202] and parameters: {'max_depth': 4, 'eta': 0.09363711746139915, 'subsample': 0.9465222876570508, 'colsample_bytree': 0.8413909930111189}.\n",
      "[I 2025-05-16 11:15:26,114] Trial 22 finished with values: [0.6707226291459504, 0.012983203043084202] and parameters: {'max_depth': 7, 'eta': 0.2058437991136135, 'subsample': 0.9727226663638054, 'colsample_bytree': 0.736097402641714}.\n",
      "[I 2025-05-16 11:15:26,227] Trial 23 finished with values: [0.6707226291459504, 0.012983203043084202] and parameters: {'max_depth': 6, 'eta': 0.150455095575801, 'subsample': 0.8568486304919641, 'colsample_bytree': 0.8017478862237725}.\n",
      "[I 2025-05-16 11:15:26,332] Trial 24 finished with values: [0.6707226291459504, 0.012983203043084202] and parameters: {'max_depth': 7, 'eta': 0.11436295395179957, 'subsample': 0.933278889042002, 'colsample_bytree': 0.9684202444340652}.\n",
      "[I 2025-05-16 11:15:26,445] Trial 25 finished with values: [0.6657261980253222, 0.016923952882237265] and parameters: {'max_depth': 3, 'eta': 0.2985117633428955, 'subsample': 0.8772793616901644, 'colsample_bytree': 0.8975079670449925}.\n",
      "[I 2025-05-16 11:15:26,558] Trial 26 finished with values: [0.6707226291459504, 0.012983203043084202] and parameters: {'max_depth': 3, 'eta': 0.13161085576029305, 'subsample': 0.9947400849534344, 'colsample_bytree': 0.794237535933698}.\n",
      "[I 2025-05-16 11:15:26,741] Trial 27 finished with values: [0.6707226291459504, 0.012983203043084202] and parameters: {'max_depth': 7, 'eta': 0.13600841100835284, 'subsample': 0.9140375164978203, 'colsample_bytree': 0.6674260404699888}.\n",
      "[I 2025-05-16 11:15:26,840] Trial 28 finished with values: [0.6707226291459504, 0.012983203043084202] and parameters: {'max_depth': 5, 'eta': 0.15194172382587276, 'subsample': 0.6571129545635934, 'colsample_bytree': 0.7503349819538383}.\n",
      "[I 2025-05-16 11:15:26,934] Trial 29 finished with values: [0.6707226291459504, 0.012983203043084202] and parameters: {'max_depth': 5, 'eta': 0.14718910170464797, 'subsample': 0.8766305944036692, 'colsample_bytree': 0.9993873476003915}.\n",
      "[I 2025-05-16 11:15:27,034] Trial 30 finished with values: [0.6707226291459504, 0.012983203043084202] and parameters: {'max_depth': 5, 'eta': 0.10000554127004041, 'subsample': 0.7531312710032426, 'colsample_bytree': 0.9665368189576605}.\n",
      "[I 2025-05-16 11:15:27,133] Trial 31 finished with values: [0.6707226291459504, 0.012983203043084202] and parameters: {'max_depth': 6, 'eta': 0.21502897710338365, 'subsample': 0.9366058053487221, 'colsample_bytree': 0.7121666310067152}.\n",
      "[I 2025-05-16 11:15:27,251] Trial 32 finished with values: [0.6707226291459504, 0.012983203043084202] and parameters: {'max_depth': 3, 'eta': 0.21254127785306148, 'subsample': 0.8849142990871364, 'colsample_bytree': 0.9612437960888549}.\n",
      "[I 2025-05-16 11:15:27,403] Trial 33 finished with values: [0.6707226291459504, 0.012983203043084202] and parameters: {'max_depth': 5, 'eta': 0.028534382393622312, 'subsample': 0.7947567722982087, 'colsample_bytree': 0.8640609260558245}.\n",
      "[I 2025-05-16 11:15:27,507] Trial 34 finished with values: [0.6714379367282106, 0.012914275554801865] and parameters: {'max_depth': 6, 'eta': 0.20055280563071579, 'subsample': 0.6503645355421301, 'colsample_bytree': 0.8587717994098314}.\n",
      "[I 2025-05-16 11:15:27,653] Trial 35 finished with values: [0.6707226291459504, 0.012983203043084202] and parameters: {'max_depth': 5, 'eta': 0.021549856436534662, 'subsample': 0.6759103887582234, 'colsample_bytree': 0.6241415417438713}.\n",
      "[I 2025-05-16 11:15:27,794] Trial 36 finished with values: [0.6707226291459504, 0.012983203043084202] and parameters: {'max_depth': 4, 'eta': 0.08973550061161958, 'subsample': 0.6591373303745464, 'colsample_bytree': 0.6889740747420616}.\n",
      "[I 2025-05-16 11:15:27,888] Trial 37 finished with values: [0.6343185278449176, 0.027946170526360697] and parameters: {'max_depth': 3, 'eta': 0.2921428774264834, 'subsample': 0.6055417967575784, 'colsample_bytree': 0.7891318380568366}.\n",
      "[I 2025-05-16 11:15:27,989] Trial 38 finished with values: [0.6707226291459504, 0.012983203043084202] and parameters: {'max_depth': 3, 'eta': 0.0767601825250639, 'subsample': 0.7447061243403862, 'colsample_bytree': 0.9745395366860422}.\n",
      "[I 2025-05-16 11:15:28,113] Trial 39 finished with values: [0.6707226291459504, 0.012983203043084202] and parameters: {'max_depth': 3, 'eta': 0.044866383692425356, 'subsample': 0.9790363364072979, 'colsample_bytree': 0.6633531549677857}.\n",
      "[I 2025-05-16 11:15:28,235] Trial 40 finished with values: [0.6707226291459504, 0.012983203043084202] and parameters: {'max_depth': 7, 'eta': 0.24461557973125672, 'subsample': 0.7183704135799965, 'colsample_bytree': 0.7101086006089458}.\n",
      "[I 2025-05-16 11:15:28,347] Trial 41 finished with values: [0.6707226291459504, 0.012983203043084202] and parameters: {'max_depth': 7, 'eta': 0.17806427412426343, 'subsample': 0.6951167473028363, 'colsample_bytree': 0.9283269953313311}.\n",
      "[I 2025-05-16 11:15:28,442] Trial 42 finished with values: [0.6707226291459504, 0.012983203043084202] and parameters: {'max_depth': 6, 'eta': 0.20585532105801818, 'subsample': 0.8100397840399489, 'colsample_bytree': 0.6489288135611829}.\n",
      "[I 2025-05-16 11:15:28,542] Trial 43 finished with values: [0.668581301522824, 0.022290391438709145] and parameters: {'max_depth': 7, 'eta': 0.20553308399532483, 'subsample': 0.648311956239393, 'colsample_bytree': 0.9675896205125414}.\n",
      "[I 2025-05-16 11:15:28,636] Trial 44 finished with values: [0.6692950773971994, 0.023306651601310773] and parameters: {'max_depth': 6, 'eta': 0.2857362354322726, 'subsample': 0.8905898599781072, 'colsample_bytree': 0.6690751500485427}.\n",
      "[I 2025-05-16 11:15:28,725] Trial 45 finished with values: [0.6707226291459504, 0.012983203043084202] and parameters: {'max_depth': 6, 'eta': 0.1879516903000921, 'subsample': 0.9985602487113279, 'colsample_bytree': 0.893925858277914}.\n",
      "[I 2025-05-16 11:15:28,831] Trial 46 finished with values: [0.6692966091050844, 0.022221463950426807] and parameters: {'max_depth': 4, 'eta': 0.2979916935219372, 'subsample': 0.6520396541513435, 'colsample_bytree': 0.7693609838775831}.\n",
      "[I 2025-05-16 11:15:28,920] Trial 47 finished with values: [0.6707226291459504, 0.012983203043084202] and parameters: {'max_depth': 3, 'eta': 0.19527496793189797, 'subsample': 0.8965005992137807, 'colsample_bytree': 0.746798818796802}.\n",
      "[I 2025-05-16 11:15:29,008] Trial 48 finished with values: [0.6707226291459504, 0.012983203043084202] and parameters: {'max_depth': 4, 'eta': 0.07015844871306258, 'subsample': 0.8206939312897518, 'colsample_bytree': 0.9560164095560886}.\n",
      "[I 2025-05-16 11:15:29,097] Trial 49 finished with values: [0.6707226291459504, 0.012983203043084202] and parameters: {'max_depth': 6, 'eta': 0.14657349184600613, 'subsample': 0.9886910148754842, 'colsample_bytree': 0.658702052472695}.\n",
      "[I 2025-05-16 11:15:29,108] A new study created in memory with name: no-name-4d3dd28e-8e03-42e3-a1aa-398f15c20377\n",
      "[I 2025-05-16 11:15:29,207] Trial 0 finished with values: [0.6707226291459504, 0.012983203043084202] and parameters: {'max_depth': 5, 'eta': 0.19553515955525552, 'subsample': 0.9848442576838499, 'colsample_bytree': 0.830179231129866}.\n"
     ]
    },
    {
     "name": "stdout",
     "output_type": "stream",
     "text": [
      "Completed study for alpha=0.02252197265625\n",
      "18\n"
     ]
    },
    {
     "name": "stderr",
     "output_type": "stream",
     "text": [
      "[I 2025-05-16 11:15:29,313] Trial 1 finished with values: [0.6657261980253222, 0.016923952882237265] and parameters: {'max_depth': 7, 'eta': 0.2962557453904555, 'subsample': 0.8505436791396601, 'colsample_bytree': 0.9185126430559836}.\n",
      "[I 2025-05-16 11:15:29,423] Trial 2 finished with values: [0.6707226291459504, 0.012983203043084202] and parameters: {'max_depth': 4, 'eta': 0.05675002143412593, 'subsample': 0.8794169283264468, 'colsample_bytree': 0.851588780909592}.\n",
      "[I 2025-05-16 11:15:29,543] Trial 3 finished with values: [0.6707226291459504, 0.012983203043084202] and parameters: {'max_depth': 7, 'eta': 0.05391397292806195, 'subsample': 0.9397143497197321, 'colsample_bytree': 0.660788860795329}.\n",
      "[I 2025-05-16 11:15:29,653] Trial 4 finished with values: [0.6692966091050844, 0.022221463950426807] and parameters: {'max_depth': 6, 'eta': 0.28499925848496943, 'subsample': 0.6676799485288464, 'colsample_bytree': 0.6757276737239967}.\n",
      "[I 2025-05-16 11:15:29,754] Trial 5 finished with values: [0.6707226291459504, 0.012983203043084202] and parameters: {'max_depth': 4, 'eta': 0.13083179180802068, 'subsample': 0.9408156650527055, 'colsample_bytree': 0.9706797886791734}.\n",
      "[I 2025-05-16 11:15:29,864] Trial 6 finished with values: [0.6707226291459504, 0.012983203043084202] and parameters: {'max_depth': 5, 'eta': 0.2606230182266406, 'subsample': 0.8182356888637293, 'colsample_bytree': 0.85156839988647}.\n",
      "[I 2025-05-16 11:15:29,977] Trial 7 finished with values: [0.6707226291459504, 0.012983203043084202] and parameters: {'max_depth': 4, 'eta': 0.1551510503179511, 'subsample': 0.9054359586801071, 'colsample_bytree': 0.9580789783750097}.\n",
      "[I 2025-05-16 11:15:30,082] Trial 8 finished with values: [0.6707226291459504, 0.012983203043084202] and parameters: {'max_depth': 6, 'eta': 0.19350168179706348, 'subsample': 0.8375335223679954, 'colsample_bytree': 0.976563806732491}.\n",
      "[I 2025-05-16 11:15:30,191] Trial 9 finished with values: [0.6700088532715748, 0.02497361071694511] and parameters: {'max_depth': 7, 'eta': 0.2869524366668342, 'subsample': 0.9809741354650907, 'colsample_bytree': 0.7385958618943422}.\n",
      "[I 2025-05-16 11:15:30,328] Trial 10 finished with values: [0.6707226291459504, 0.012983203043084202] and parameters: {'max_depth': 4, 'eta': 0.21944618076251557, 'subsample': 0.7246716642462032, 'colsample_bytree': 0.6699476652112796}.\n",
      "[I 2025-05-16 11:15:30,476] Trial 11 finished with values: [0.6707226291459504, 0.012983203043084202] and parameters: {'max_depth': 7, 'eta': 0.024800762305718087, 'subsample': 0.6888426617549918, 'colsample_bytree': 0.6566564072717042}.\n",
      "[I 2025-05-16 11:15:30,592] Trial 12 finished with values: [0.6707226291459504, 0.012983203043084202] and parameters: {'max_depth': 3, 'eta': 0.15789063312892973, 'subsample': 0.9735297696066313, 'colsample_bytree': 0.7241289032658553}.\n",
      "[I 2025-05-16 11:15:30,726] Trial 13 finished with values: [0.6707226291459504, 0.012983203043084202] and parameters: {'max_depth': 6, 'eta': 0.04450137608914269, 'subsample': 0.6808880785800996, 'colsample_bytree': 0.7222450368534589}.\n",
      "[I 2025-05-16 11:15:30,832] Trial 14 finished with values: [0.6707226291459504, 0.012983203043084202] and parameters: {'max_depth': 6, 'eta': 0.21079908150259305, 'subsample': 0.7119796960113207, 'colsample_bytree': 0.6587937839229537}.\n",
      "[I 2025-05-16 11:15:31,003] Trial 15 finished with values: [0.6707226291459504, 0.012983203043084202] and parameters: {'max_depth': 7, 'eta': 0.02756323583044608, 'subsample': 0.8560995911897478, 'colsample_bytree': 0.7459578607706419}.\n",
      "[I 2025-05-16 11:15:31,248] Trial 16 finished with values: [0.6707226291459504, 0.012983203043084202] and parameters: {'max_depth': 5, 'eta': 0.08502381277942979, 'subsample': 0.9651363694296629, 'colsample_bytree': 0.8258913491756401}.\n",
      "[I 2025-05-16 11:15:31,373] Trial 17 finished with values: [0.6642986462765713, 0.015622554976171868] and parameters: {'max_depth': 3, 'eta': 0.2900180028094803, 'subsample': 0.9691553531656596, 'colsample_bytree': 0.6463489079336866}.\n",
      "[I 2025-05-16 11:15:31,478] Trial 18 finished with values: [0.6707226291459504, 0.012983203043084202] and parameters: {'max_depth': 3, 'eta': 0.2839361786676, 'subsample': 0.8647755258482113, 'colsample_bytree': 0.9981754871751889}.\n",
      "[I 2025-05-16 11:15:31,575] Trial 19 finished with values: [0.6707226291459504, 0.012983203043084202] and parameters: {'max_depth': 6, 'eta': 0.2077055067281329, 'subsample': 0.9832774272577269, 'colsample_bytree': 0.6568100580052216}.\n",
      "[I 2025-05-16 11:15:31,696] Trial 20 finished with values: [0.6707226291459504, 0.012983203043084202] and parameters: {'max_depth': 4, 'eta': 0.11604891468677639, 'subsample': 0.8598833725379779, 'colsample_bytree': 0.9955384324866268}.\n",
      "[I 2025-05-16 11:15:31,805] Trial 21 finished with values: [0.6707226291459504, 0.012983203043084202] and parameters: {'max_depth': 4, 'eta': 0.1511770455041557, 'subsample': 0.7223896968227262, 'colsample_bytree': 0.6917010828053634}.\n",
      "[I 2025-05-16 11:15:31,940] Trial 22 finished with values: [0.6707226291459504, 0.012983203043084202] and parameters: {'max_depth': 7, 'eta': 0.21205686544341415, 'subsample': 0.7809697075633094, 'colsample_bytree': 0.8888598054926309}.\n",
      "[I 2025-05-16 11:15:32,139] Trial 23 finished with values: [0.6707226291459504, 0.012983203043084202] and parameters: {'max_depth': 4, 'eta': 0.04159137255654888, 'subsample': 0.9066221825698156, 'colsample_bytree': 0.8643678229523742}.\n",
      "[I 2025-05-16 11:15:32,254] Trial 24 finished with values: [0.6707226291459504, 0.012983203043084202] and parameters: {'max_depth': 7, 'eta': 0.11751135085227182, 'subsample': 0.7579371460280272, 'colsample_bytree': 0.9243438491619677}.\n",
      "[I 2025-05-16 11:15:32,383] Trial 25 finished with values: [0.6707226291459504, 0.012983203043084202] and parameters: {'max_depth': 5, 'eta': 0.17207395303785916, 'subsample': 0.8275916616483847, 'colsample_bytree': 0.9340315483615561}.\n",
      "[I 2025-05-16 11:15:32,541] Trial 26 finished with values: [0.6707226291459504, 0.012983203043084202] and parameters: {'max_depth': 6, 'eta': 0.047505598803750125, 'subsample': 0.7048159786025622, 'colsample_bytree': 0.6447080286899292}.\n",
      "[I 2025-05-16 11:15:32,687] Trial 27 finished with values: [0.6707226291459504, 0.012983203043084202] and parameters: {'max_depth': 5, 'eta': 0.05517124337883358, 'subsample': 0.8722404617598394, 'colsample_bytree': 0.71414507831542}.\n",
      "[I 2025-05-16 11:15:32,787] Trial 28 finished with values: [0.6707226291459504, 0.012983203043084202] and parameters: {'max_depth': 6, 'eta': 0.1947807226268497, 'subsample': 0.7389654603261884, 'colsample_bytree': 0.9120535626743831}.\n",
      "[I 2025-05-16 11:15:32,884] Trial 29 finished with values: [0.6707226291459504, 0.012983203043084202] and parameters: {'max_depth': 7, 'eta': 0.2166377494285768, 'subsample': 0.7154194092939848, 'colsample_bytree': 0.8168191250423118}.\n",
      "[I 2025-05-16 11:15:32,984] Trial 30 finished with values: [0.6707226291459504, 0.012983203043084202] and parameters: {'max_depth': 5, 'eta': 0.19068983355234073, 'subsample': 0.8822467549189321, 'colsample_bytree': 0.7737379230823206}.\n",
      "[I 2025-05-16 11:15:33,082] Trial 31 finished with values: [0.6707226291459504, 0.012983203043084202] and parameters: {'max_depth': 6, 'eta': 0.2514068584137959, 'subsample': 0.7709001028917377, 'colsample_bytree': 0.9761191257764574}.\n",
      "[I 2025-05-16 11:15:33,198] Trial 32 finished with values: [0.6557333357840659, 0.026262619885250804] and parameters: {'max_depth': 3, 'eta': 0.21468749494634431, 'subsample': 0.634942409782221, 'colsample_bytree': 0.6062318531999483}.\n",
      "[I 2025-05-16 11:15:33,321] Trial 33 finished with values: [0.5522235803365468, 0.013385718224427903] and parameters: {'max_depth': 4, 'eta': 0.041944408789732796, 'subsample': 0.611598086435661, 'colsample_bytree': 0.7472988239355381}.\n",
      "[I 2025-05-16 11:15:33,424] Trial 34 finished with values: [0.6714379367282106, 0.012914275554801865] and parameters: {'max_depth': 5, 'eta': 0.20300129549240584, 'subsample': 0.6567344604285907, 'colsample_bytree': 0.6997485573761497}.\n",
      "[I 2025-05-16 11:15:33,526] Trial 35 finished with values: [0.6707226291459504, 0.012983203043084202] and parameters: {'max_depth': 7, 'eta': 0.059680303686439035, 'subsample': 0.9027754470276856, 'colsample_bytree': 0.8470098685173947}.\n",
      "[I 2025-05-16 11:15:33,616] Trial 36 finished with values: [0.6628726262357053, 0.023715187396091113] and parameters: {'max_depth': 5, 'eta': 0.25410113826927794, 'subsample': 0.6306063729390675, 'colsample_bytree': 0.6108320888832975}.\n",
      "[I 2025-05-16 11:15:33,730] Trial 37 finished with values: [0.6707226291459504, 0.012983203043084202] and parameters: {'max_depth': 5, 'eta': 0.05574647921887361, 'subsample': 0.7818516249503349, 'colsample_bytree': 0.6319552292030477}.\n",
      "[I 2025-05-16 11:15:33,834] Trial 38 finished with values: [0.6707226291459504, 0.012983203043084202] and parameters: {'max_depth': 4, 'eta': 0.14309483399395093, 'subsample': 0.8879455012207051, 'colsample_bytree': 0.9190427112575983}.\n",
      "[I 2025-05-16 11:15:33,942] Trial 39 finished with values: [0.6707226291459504, 0.012983203043084202] and parameters: {'max_depth': 5, 'eta': 0.13348225548641715, 'subsample': 0.9351174780802942, 'colsample_bytree': 0.8210030538332852}.\n",
      "[I 2025-05-16 11:15:34,031] Trial 40 finished with values: [0.6707226291459504, 0.012983203043084202] and parameters: {'max_depth': 5, 'eta': 0.24053346757751376, 'subsample': 0.7001885033934855, 'colsample_bytree': 0.6500495346098362}.\n",
      "[I 2025-05-16 11:15:34,121] Trial 41 finished with values: [0.6707226291459504, 0.012983203043084202] and parameters: {'max_depth': 7, 'eta': 0.1594837397666525, 'subsample': 0.738604182475986, 'colsample_bytree': 0.6923552456491869}.\n",
      "[I 2025-05-16 11:15:34,238] Trial 42 finished with values: [0.6707226291459504, 0.012983203043084202] and parameters: {'max_depth': 5, 'eta': 0.04327516570528441, 'subsample': 0.8836736147516941, 'colsample_bytree': 0.7587342191816485}.\n",
      "[I 2025-05-16 11:15:34,412] Trial 43 finished with values: [0.6542935303722356, 0.026021417282898456] and parameters: {'max_depth': 6, 'eta': 0.019575144190455945, 'subsample': 0.6257070165636335, 'colsample_bytree': 0.88094946157494}.\n",
      "[I 2025-05-16 11:15:34,517] Trial 44 finished with values: [0.6721532443104711, 0.010777523418049736] and parameters: {'max_depth': 5, 'eta': 0.24257963338457292, 'subsample': 0.6743270666938336, 'colsample_bytree': 0.7020818619620082}.\n",
      "[I 2025-05-16 11:15:34,612] Trial 45 finished with values: [0.6707226291459504, 0.012983203043084202] and parameters: {'max_depth': 4, 'eta': 0.20342735512362184, 'subsample': 0.7679613322986734, 'colsample_bytree': 0.7750758735178843}.\n",
      "[I 2025-05-16 11:15:34,707] Trial 46 finished with values: [0.6707226291459504, 0.012983203043084202] and parameters: {'max_depth': 6, 'eta': 0.15260509815372683, 'subsample': 0.6614175690095132, 'colsample_bytree': 0.9357044935211741}.\n",
      "[I 2025-05-16 11:15:34,877] Trial 47 finished with values: [0.6707226291459504, 0.012983203043084202] and parameters: {'max_depth': 3, 'eta': 0.015401171158015474, 'subsample': 0.8016808098649059, 'colsample_bytree': 0.8033795454992169}.\n",
      "[I 2025-05-16 11:15:34,974] Trial 48 finished with values: [0.6707226291459504, 0.012983203043084202] and parameters: {'max_depth': 5, 'eta': 0.13325826294780907, 'subsample': 0.7546639606722426, 'colsample_bytree': 0.6598919598770668}.\n",
      "[I 2025-05-16 11:15:35,064] Trial 49 finished with values: [0.6692950773971994, 0.023306651601310773] and parameters: {'max_depth': 5, 'eta': 0.2782667156838753, 'subsample': 0.8962667258685795, 'colsample_bytree': 0.8442729853771471}.\n",
      "[I 2025-05-16 11:15:35,075] A new study created in memory with name: no-name-1ea86044-7c9e-4ff1-b78c-c49009dead51\n",
      "[I 2025-05-16 11:15:35,189] Trial 0 finished with values: [0.6707226291459504, 0.012983203043084202] and parameters: {'max_depth': 7, 'eta': 0.05543715187081163, 'subsample': 0.6809525536380102, 'colsample_bytree': 0.7798620954562018}.\n"
     ]
    },
    {
     "name": "stdout",
     "output_type": "stream",
     "text": [
      "Completed study for alpha=0.022491455078125\n",
      "19\n"
     ]
    },
    {
     "name": "stderr",
     "output_type": "stream",
     "text": [
      "[I 2025-05-16 11:15:35,284] Trial 1 finished with values: [0.6707226291459504, 0.012983203043084202] and parameters: {'max_depth': 4, 'eta': 0.23403115822266618, 'subsample': 0.7981434372239434, 'colsample_bytree': 0.8778856782504978}.\n",
      "[I 2025-05-16 11:15:35,405] Trial 2 finished with values: [0.6707226291459504, 0.012983203043084202] and parameters: {'max_depth': 3, 'eta': 0.15653418706676264, 'subsample': 0.7115916132762418, 'colsample_bytree': 0.8443908848876551}.\n",
      "[I 2025-05-16 11:15:35,544] Trial 3 finished with values: [0.6707226291459504, 0.012983203043084202] and parameters: {'max_depth': 5, 'eta': 0.03432410931468004, 'subsample': 0.9225001339521833, 'colsample_bytree': 0.923817762955518}.\n",
      "[I 2025-05-16 11:15:35,646] Trial 4 finished with values: [0.6707226291459504, 0.012983203043084202] and parameters: {'max_depth': 5, 'eta': 0.16109160570667802, 'subsample': 0.7853296256998328, 'colsample_bytree': 0.7854917304418363}.\n",
      "[I 2025-05-16 11:15:35,754] Trial 5 finished with values: [0.6707226291459504, 0.012983203043084202] and parameters: {'max_depth': 3, 'eta': 0.11316009229812472, 'subsample': 0.8993129823871973, 'colsample_bytree': 0.8281728901625844}.\n",
      "[I 2025-05-16 11:15:35,850] Trial 6 finished with values: [0.6707226291459504, 0.012983203043084202] and parameters: {'max_depth': 6, 'eta': 0.12431414778431611, 'subsample': 0.7863352475098195, 'colsample_bytree': 0.6708274530257613}.\n",
      "[I 2025-05-16 11:15:36,045] Trial 7 finished with values: [0.6707226291459504, 0.012983203043084202] and parameters: {'max_depth': 6, 'eta': 0.017034721398577868, 'subsample': 0.9060575054926847, 'colsample_bytree': 0.649170339873167}.\n",
      "[I 2025-05-16 11:15:36,134] Trial 8 finished with values: [0.6707226291459504, 0.012983203043084202] and parameters: {'max_depth': 4, 'eta': 0.1582200814436778, 'subsample': 0.888238680052851, 'colsample_bytree': 0.881890727691134}.\n",
      "[I 2025-05-16 11:15:36,252] Trial 9 finished with values: [0.6707226291459504, 0.012983203043084202] and parameters: {'max_depth': 4, 'eta': 0.12313571413193532, 'subsample': 0.9250131358930567, 'colsample_bytree': 0.8662052269851284}.\n",
      "[I 2025-05-16 11:15:36,370] Trial 10 finished with values: [0.6707226291459504, 0.012983203043084202] and parameters: {'max_depth': 4, 'eta': 0.1540532165659646, 'subsample': 0.8964360479754355, 'colsample_bytree': 0.8443348020900169}.\n",
      "[I 2025-05-16 11:15:36,516] Trial 11 finished with values: [0.6707226291459504, 0.012983203043084202] and parameters: {'max_depth': 6, 'eta': 0.053425419326047094, 'subsample': 0.6356493933207861, 'colsample_bytree': 0.9060816997591612}.\n",
      "[I 2025-05-16 11:15:36,631] Trial 12 finished with values: [0.6657292614410921, 0.015529819142445814] and parameters: {'max_depth': 5, 'eta': 0.25109044111012624, 'subsample': 0.7226355637550985, 'colsample_bytree': 0.9067297331179114}.\n",
      "[I 2025-05-16 11:15:36,765] Trial 13 finished with values: [0.6707226291459504, 0.012983203043084202] and parameters: {'max_depth': 5, 'eta': 0.08168143179899547, 'subsample': 0.9179498377544293, 'colsample_bytree': 0.9319663913030168}.\n",
      "[I 2025-05-16 11:15:36,908] Trial 14 finished with values: [0.6728685518927314, 0.008640771281297588] and parameters: {'max_depth': 4, 'eta': 0.2682236581164927, 'subsample': 0.7536044594235819, 'colsample_bytree': 0.8824986558307533}.\n",
      "[I 2025-05-16 11:15:37,032] Trial 15 finished with values: [0.6521644564121887, 0.020083827078696565] and parameters: {'max_depth': 6, 'eta': 0.09273603161969271, 'subsample': 0.6312268556691939, 'colsample_bytree': 0.8759084751914745}.\n",
      "[I 2025-05-16 11:15:37,145] Trial 16 finished with values: [0.6707226291459504, 0.012983203043084202] and parameters: {'max_depth': 3, 'eta': 0.12538933831629562, 'subsample': 0.8079058805356285, 'colsample_bytree': 0.6088202351685766}.\n",
      "[I 2025-05-16 11:15:37,289] Trial 17 finished with values: [0.6707226291459504, 0.012983203043084202] and parameters: {'max_depth': 3, 'eta': 0.09217882279056139, 'subsample': 0.8242749978427705, 'colsample_bytree': 0.6935360742693176}.\n",
      "[I 2025-05-16 11:15:37,451] Trial 18 finished with values: [0.6707226291459504, 0.012983203043084202] and parameters: {'max_depth': 6, 'eta': 0.04648216631124974, 'subsample': 0.6453031969014063, 'colsample_bytree': 0.9172895370170319}.\n",
      "[I 2025-05-16 11:15:37,601] Trial 19 finished with values: [0.6707226291459504, 0.012983203043084202] and parameters: {'max_depth': 7, 'eta': 0.04435680448465021, 'subsample': 0.7916700168031743, 'colsample_bytree': 0.9971343901911544}.\n",
      "[I 2025-05-16 11:15:37,717] Trial 20 finished with values: [0.6707226291459504, 0.012983203043084202] and parameters: {'max_depth': 3, 'eta': 0.17602271876077136, 'subsample': 0.7746619503301405, 'colsample_bytree': 0.8264472697440582}.\n",
      "[I 2025-05-16 11:15:37,855] Trial 21 finished with values: [0.6707226291459504, 0.012983203043084202] and parameters: {'max_depth': 5, 'eta': 0.0379578248455559, 'subsample': 0.8820343581359928, 'colsample_bytree': 0.6932104081129287}.\n",
      "[I 2025-05-16 11:15:37,985] Trial 22 finished with values: [0.6692950773971994, 0.023306651601310773] and parameters: {'max_depth': 3, 'eta': 0.2735788404844871, 'subsample': 0.9070148623576118, 'colsample_bytree': 0.6835211377903254}.\n",
      "[I 2025-05-16 11:15:38,118] Trial 23 finished with values: [0.6707226291459504, 0.012983203043084202] and parameters: {'max_depth': 6, 'eta': 0.048331291319841645, 'subsample': 0.8634220396638033, 'colsample_bytree': 0.7977613591108554}.\n",
      "[I 2025-05-16 11:15:38,211] Trial 24 finished with values: [0.668581301522824, 0.022290391438709145] and parameters: {'max_depth': 5, 'eta': 0.1935178409701813, 'subsample': 0.6456789918640868, 'colsample_bytree': 0.8785130605443148}.\n",
      "[I 2025-05-16 11:15:38,328] Trial 25 finished with values: [0.6642986462765713, 0.015622554976171868] and parameters: {'max_depth': 4, 'eta': 0.267845853681838, 'subsample': 0.9379708580841231, 'colsample_bytree': 0.9364342630662787}.\n",
      "[I 2025-05-16 11:15:38,449] Trial 26 finished with values: [0.6307511801809254, 0.03160300387554938] and parameters: {'max_depth': 7, 'eta': 0.19537665253951772, 'subsample': 0.6112489750935856, 'colsample_bytree': 0.9823134846016262}.\n",
      "[I 2025-05-16 11:15:38,562] Trial 27 finished with values: [0.6707226291459504, 0.012983203043084202] and parameters: {'max_depth': 5, 'eta': 0.12622037190195853, 'subsample': 0.8698161183450273, 'colsample_bytree': 0.8549707720165449}.\n",
      "[I 2025-05-16 11:15:38,667] Trial 28 finished with values: [0.6707226291459504, 0.012983203043084202] and parameters: {'max_depth': 5, 'eta': 0.182085667559014, 'subsample': 0.6589319745491841, 'colsample_bytree': 0.6363370896101755}.\n",
      "[I 2025-05-16 11:15:38,766] Trial 29 finished with values: [0.6707226291459504, 0.012983203043084202] and parameters: {'max_depth': 5, 'eta': 0.19933137030718365, 'subsample': 0.9407770857634318, 'colsample_bytree': 0.7071716945047912}.\n",
      "[I 2025-05-16 11:15:38,865] Trial 30 finished with values: [0.6707226291459504, 0.012983203043084202] and parameters: {'max_depth': 6, 'eta': 0.09158197985944523, 'subsample': 0.727161650798994, 'colsample_bytree': 0.7357807435683572}.\n",
      "[I 2025-05-16 11:15:38,953] Trial 31 finished with values: [0.6707226291459504, 0.012983203043084202] and parameters: {'max_depth': 3, 'eta': 0.15504206902894566, 'subsample': 0.9949311228991309, 'colsample_bytree': 0.6203605131544423}.\n",
      "[I 2025-05-16 11:15:39,090] Trial 32 finished with values: [0.6707226291459504, 0.012983203043084202] and parameters: {'max_depth': 3, 'eta': 0.020249305553217287, 'subsample': 0.679300188098012, 'colsample_bytree': 0.9261381590397955}.\n",
      "[I 2025-05-16 11:15:39,180] Trial 33 finished with values: [0.6707226291459504, 0.012983203043084202] and parameters: {'max_depth': 5, 'eta': 0.23117330294860652, 'subsample': 0.8781711709447735, 'colsample_bytree': 0.6835829920909395}.\n",
      "[I 2025-05-16 11:15:39,301] Trial 34 finished with values: [0.6707226291459504, 0.012983203043084202] and parameters: {'max_depth': 6, 'eta': 0.03201493175733962, 'subsample': 0.9959548949903865, 'colsample_bytree': 0.9391969534001213}.\n",
      "[I 2025-05-16 11:15:39,476] Trial 35 finished with values: [0.6707226291459504, 0.012983203043084202] and parameters: {'max_depth': 5, 'eta': 0.012153886702795517, 'subsample': 0.6420748329152032, 'colsample_bytree': 0.8296199155096542}.\n",
      "[I 2025-05-16 11:15:39,562] Trial 36 finished with values: [0.6728685518927314, 0.008640771281297588] and parameters: {'max_depth': 3, 'eta': 0.26569420505765756, 'subsample': 0.7478247312315905, 'colsample_bytree': 0.9806442800738443}.\n",
      "[I 2025-05-16 11:15:39,687] Trial 37 finished with values: [0.6707226291459504, 0.012983203043084202] and parameters: {'max_depth': 3, 'eta': 0.05192323321384226, 'subsample': 0.6829765079546726, 'colsample_bytree': 0.7633241740020479}.\n",
      "[I 2025-05-16 11:15:39,911] Trial 38 finished with values: [0.6707226291459504, 0.012983203043084202] and parameters: {'max_depth': 4, 'eta': 0.011282162177794538, 'subsample': 0.9872150555195267, 'colsample_bytree': 0.9787697148646766}.\n",
      "[I 2025-05-16 11:15:40,028] Trial 39 finished with values: [0.6707226291459504, 0.012983203043084202] and parameters: {'max_depth': 3, 'eta': 0.058596844346883566, 'subsample': 0.6830739802027498, 'colsample_bytree': 0.7337241879373134}.\n",
      "[I 2025-05-16 11:15:40,129] Trial 40 finished with values: [0.6707226291459504, 0.012983203043084202] and parameters: {'max_depth': 6, 'eta': 0.15094662483447566, 'subsample': 0.885271003964083, 'colsample_bytree': 0.6825089461158919}.\n",
      "[I 2025-05-16 11:15:40,308] Trial 41 finished with values: [0.6707226291459504, 0.012983203043084202] and parameters: {'max_depth': 7, 'eta': 0.047428666133668515, 'subsample': 0.7210727322633312, 'colsample_bytree': 0.8427058801989841}.\n",
      "[I 2025-05-16 11:15:40,436] Trial 42 finished with values: [0.6707226291459504, 0.012983203043084202] and parameters: {'max_depth': 5, 'eta': 0.06429912376073109, 'subsample': 0.845233747826973, 'colsample_bytree': 0.966702823031649}.\n",
      "[I 2025-05-16 11:15:40,536] Trial 43 finished with values: [0.6707226291459504, 0.012983203043084202] and parameters: {'max_depth': 7, 'eta': 0.26739440771622464, 'subsample': 0.8378728775603959, 'colsample_bytree': 0.7745966929729861}.\n",
      "[I 2025-05-16 11:15:40,671] Trial 44 finished with values: [0.5000061268315397, 0.0] and parameters: {'max_depth': 3, 'eta': 0.01816942933671025, 'subsample': 0.601280741476672, 'colsample_bytree': 0.8175877855209698}.\n",
      "[I 2025-05-16 11:15:40,771] Trial 45 finished with values: [0.6707226291459504, 0.012983203043084202] and parameters: {'max_depth': 5, 'eta': 0.17927993599487446, 'subsample': 0.7286937198186998, 'colsample_bytree': 0.7296899905113867}.\n",
      "[I 2025-05-16 11:15:40,875] Trial 46 finished with values: [0.6728685518927314, 0.008640771281297588] and parameters: {'max_depth': 5, 'eta': 0.2984498084731558, 'subsample': 0.8236326725119791, 'colsample_bytree': 0.7095068279322941}.\n",
      "[I 2025-05-16 11:15:40,985] Trial 47 finished with values: [0.6707226291459504, 0.012983203043084202] and parameters: {'max_depth': 4, 'eta': 0.18506533480110432, 'subsample': 0.6700881619342169, 'colsample_bytree': 0.9987544488617573}.\n",
      "[I 2025-05-16 11:15:41,078] Trial 48 finished with values: [0.6707226291459504, 0.012983203043084202] and parameters: {'max_depth': 7, 'eta': 0.2856897342601197, 'subsample': 0.7309974716191795, 'colsample_bytree': 0.8573831883727598}.\n",
      "[I 2025-05-16 11:15:41,224] Trial 49 finished with values: [0.6707226291459504, 0.012983203043084202] and parameters: {'max_depth': 7, 'eta': 0.03398053706363991, 'subsample': 0.8785437765346482, 'colsample_bytree': 0.6051010955589226}.\n"
     ]
    },
    {
     "name": "stdout",
     "output_type": "stream",
     "text": [
      "Completed study for alpha=0.0224761962890625\n",
      "Pareto-optimal solutions:\n",
      "Params: {'alpha': 0, 'max_depth': 6, 'eta': 0.13110633265877236, 'subsample': 0.8125360197138709, 'colsample_bytree': 0.7772282448273781}, Accuracy: 0.5000, DPD: 0.0000\n",
      "Params: {'alpha': 0.015625, 'max_depth': 5, 'eta': 0.05282487573863137, 'subsample': 0.8688659694886003, 'colsample_bytree': 0.6687411708124102}, Accuracy: 0.5000, DPD: 0.0000\n",
      "Params: {'alpha': 0.01953125, 'max_depth': 5, 'eta': 0.0504980502577411, 'subsample': 0.6485748884994879, 'colsample_bytree': 0.6209503294456052}, Accuracy: 0.5000, DPD: 0.0000\n",
      "Params: {'alpha': 0.021484375, 'max_depth': 3, 'eta': 0.056966858952711155, 'subsample': 0.6032123055973961, 'colsample_bytree': 0.7679043893131532}, Accuracy: 0.5000, DPD: 0.0000\n",
      "Params: {'alpha': 0.02197265625, 'max_depth': 5, 'eta': 0.19607347343993498, 'subsample': 0.6032555369919693, 'colsample_bytree': 0.734748734600021}, Accuracy: 0.5522, DPD: 0.0037\n",
      "Params: {'alpha': 0.0224609375, 'max_depth': 3, 'eta': 0.09475664739659065, 'subsample': 0.6070433885611801, 'colsample_bytree': 0.8029434118668995}, Accuracy: 0.5986, DPD: 0.0067\n",
      "Params: {'alpha': 0.02252197265625, 'max_depth': 4, 'eta': 0.2841261038463769, 'subsample': 0.8416726076955714, 'colsample_bytree': 0.949932878197986}, Accuracy: 0.6729, DPD: 0.0086\n",
      "Params: {'alpha': 0.0225830078125, 'max_depth': 7, 'eta': 0.29923436770457956, 'subsample': 0.7406725528507369, 'colsample_bytree': 0.6233885987504183}, Accuracy: 0.6729, DPD: 0.0086\n",
      "Params: {'alpha': 0.022705078125, 'max_depth': 4, 'eta': 0.2957252306362285, 'subsample': 0.9436943585700321, 'colsample_bytree': 0.7603200372661836}, Accuracy: 0.6729, DPD: 0.0086\n",
      "Params: {'alpha': 0.02294921875, 'max_depth': 7, 'eta': 0.26838342131607035, 'subsample': 0.7429028257945743, 'colsample_bytree': 0.7601679652720598}, Accuracy: 0.6729, DPD: 0.0086\n",
      "Params: {'alpha': 0.0234375, 'max_depth': 6, 'eta': 0.281781090593341, 'subsample': 0.7118015058573265, 'colsample_bytree': 0.7085926525760763}, Accuracy: 0.6729, DPD: 0.0086\n",
      "Params: {'alpha': 0.03125, 'max_depth': 5, 'eta': 0.23760095866089273, 'subsample': 0.6079501323526242, 'colsample_bytree': 0.6128764443498148}, Accuracy: 0.6729, DPD: 0.0086\n",
      "Params: {'alpha': 0.25, 'max_depth': 3, 'eta': 0.22885599586720193, 'subsample': 0.726927920301955, 'colsample_bytree': 0.7047701832166079}, Accuracy: 0.6743, DPD: 0.0182\n",
      "Params: {'alpha': 0.5, 'max_depth': 4, 'eta': 0.19722167976447025, 'subsample': 0.6602519639028233, 'colsample_bytree': 0.6271460252604734}, Accuracy: 0.6786, DPD: 0.0270\n",
      "Params: {'alpha': 0.5625, 'max_depth': 4, 'eta': 0.23664952565400163, 'subsample': 0.6585376909561049, 'colsample_bytree': 0.9292241271920356}, Accuracy: 0.6907, DPD: 0.0434\n",
      "Params: {'alpha': 0.625, 'max_depth': 7, 'eta': 0.2597743415436609, 'subsample': 0.8538105484579193, 'colsample_bytree': 0.6544454101347776}, Accuracy: 0.7071, DPD: 0.0635\n",
      "Params: {'alpha': 0.75, 'max_depth': 7, 'eta': 0.27504226088657985, 'subsample': 0.7887141264334052, 'colsample_bytree': 0.6200452124025014}, Accuracy: 0.7128, DPD: 0.0728\n",
      "Params: {'alpha': 1, 'max_depth': 7, 'eta': 0.27926006398945585, 'subsample': 0.8218636333494963, 'colsample_bytree': 0.8238601358476214}, Accuracy: 0.7214, DPD: 0.1058\n",
      "Params: {'alpha': 0.0224761962890625, 'max_depth': 3, 'eta': 0.01816942933671025, 'subsample': 0.601280741476672, 'colsample_bytree': 0.8175877855209698}, Accuracy: 0.5000, DPD: 0.0000\n"
     ]
    }
   ],
   "source": [
    "\n",
    "# Create and run Optuna study for multi-objective optimization\n",
    "\n",
    "def test_loss(a,dpd,accuracy):\n",
    "    return (1-a)*(1-dpd) + a*accuracy\n",
    "\n",
    "def is_pareto_efficient(acc, dpd):\n",
    "    n_points = len(acc)\n",
    "    is_efficient = [True] * n_points\n",
    "    for i in range(n_points):\n",
    "        for j in range(n_points):\n",
    "            if (acc[j] >= acc[i] and dpd[j] <= dpd[i]) and (acc[j] > acc[i] or dpd[j] < dpd[i]):\n",
    "                is_efficient[i] = False\n",
    "                break\n",
    "    return is_efficient\n",
    "\n",
    "def normalise(value, min_val, max_val):\n",
    "    return (value - min_val) / (max_val - min_val)\n",
    "#adaptive weights based on distance\n",
    "\n",
    "results = []\n",
    "trials_per_alpha = 50\n",
    "study = optuna.create_study(directions=['maximize', 'minimize'])\n",
    "objective = create_objective_function(alpha=0)  # Example alpha value\n",
    "study.optimize(objective, n_trials=trials_per_alpha)\n",
    "print(f\"Completed study for alpha=0\")\n",
    "max_val = 0\n",
    "for trial in study.best_trials:\n",
    "    val = test_loss(0,trial.values[1],trial.values[0])\n",
    "    if val > max_val:\n",
    "        max_val = val\n",
    "        best_trial = trial\n",
    "results.append({\n",
    "    'accuracy': best_trial.values[0],\n",
    "    'dpd': best_trial.values[1],\n",
    "    'alpha': 0,\n",
    "    'params': best_trial.user_attrs['params']\n",
    "    })\n",
    "study = optuna.create_study(directions=['maximize', 'minimize'])\n",
    "objective = create_objective_function(alpha=1)  # Example alpha value\n",
    "study.optimize(objective, n_trials=trials_per_alpha)\n",
    "print(f\"Completed study for alpha=1\")\n",
    "max_val = 0\n",
    "for trial in study.best_trials:\n",
    "    val = test_loss(1,trial.values[1],trial.values[0])\n",
    "    if val > max_val:\n",
    "        max_val = val\n",
    "        best_trial = trial\n",
    "results.append({\n",
    "    'accuracy': best_trial.values[0],\n",
    "    'dpd': best_trial.values[1],\n",
    "    'alpha': 1,\n",
    "    'params': best_trial.user_attrs['params']\n",
    "})\n",
    "print(results)\n",
    "\n",
    "max_acc = max([res['accuracy'] for res in results])\n",
    "max_dpd = max([res['dpd'] for res in results])\n",
    "min_acc = min([res['accuracy'] for res in results])\n",
    "min_dpd = min([res['dpd'] for res in results])\n",
    "count_alpha = 20\n",
    "\n",
    "\n",
    "\n",
    "for i in range(count_alpha):\n",
    "    print(i)\n",
    "    \n",
    "    results.sort(key=lambda x: x['alpha'])\n",
    "    max_dist = 0\n",
    "    for i in range(len(results)-1):\n",
    "        acc_dist = (normalise(results[i]['accuracy'],min_acc,max_acc)-normalise(results[i+1]['accuracy'],min_acc,max_acc))**2\n",
    "        dpd_dist = (normalise(results[i]['dpd'],min_dpd,max_dpd)-normalise(results[i+1]['dpd'],min_dpd,max_dpd))**2\n",
    "\n",
    "        dist = np.sqrt(acc_dist + dpd_dist)\n",
    "        if dist > max_dist:\n",
    "            max_dist = dist\n",
    "            alpha = (results[i]['alpha']+results[i+1]['alpha'])/2\n",
    "    study = optuna.create_study(directions=['maximize', 'minimize'])\n",
    "    objective = create_objective_function(alpha=alpha)  # Example alpha value\n",
    "    study.optimize(objective, n_trials=trials_per_alpha)\n",
    "    print(f\"Completed study for alpha={alpha}\")\n",
    "    max_val = 0\n",
    "    for trial in study.best_trials:\n",
    "        val = test_loss(alpha,trial.values[1],trial.values[0])\n",
    "        if val > max_val:\n",
    "            max_val = val\n",
    "            best_trial = trial\n",
    "        \n",
    "    results.append({\n",
    "        'accuracy': best_trial.values[0],\n",
    "        'dpd': best_trial.values[1],\n",
    "        'alpha': alpha,\n",
    "        'params': best_trial.user_attrs['params']\n",
    "    })\n",
    "    max_acc = max(max_acc, best_trial.values[0])\n",
    "    max_dpd = max(max_dpd, best_trial.values[1])\n",
    "    min_acc = min(min_acc, best_trial.values[0])\n",
    "    min_dpd = min(min_dpd, best_trial.values[1])\n",
    "acc = [res['accuracy'] for res in results]\n",
    "dpd = [res['dpd'] for res in results]\n",
    "is_efficient = is_pareto_efficient(acc, dpd)\n",
    "# Filter results to only include Pareto-optimal solutions\n",
    "results = [res for res, efficient in zip(results, is_efficient) if efficient]\n",
    "    \n",
    "\n",
    "# Print summary of Pareto-optimal results\n",
    "print(\"Pareto-optimal solutions:\")\n",
    "for res in results:\n",
    "    print(f\"Params: {res['params']}, Accuracy: {res['accuracy']:.4f}, DPD: {res['dpd']:.4f}\")\n",
    "\n",
    "# Prepare data for plotting\n",
    "plot_df = pd.DataFrame({\n",
    "    'DPD': [res['dpd'] for res in results],\n",
    "    'Accuracy': [res['accuracy'] for res in results],\n",
    "    'alpha': [res['alpha'] for res in results]\n",
    "})\n",
    "\n"
   ]
  },
  {
   "cell_type": "code",
   "execution_count": 8,
   "id": "644a8c00",
   "metadata": {},
   "outputs": [
    {
     "data": {
      "application/vnd.plotly.v1+json": {
       "config": {
        "plotlyServerURL": "https://plot.ly"
       },
       "data": [
        {
         "customdata": {
          "bdata": "AAAAAAAAAAAAAAAAAACQPwAAAAAAAJQ/AAAAAAAAlj8AAAAAAICWPwAAAAAAAJc/AAAAAAAQlz8AAAAAACCXPwAAAAAAQJc/AAAAAACAlz8AAAAAAACYPwAAAAAAAKA/AAAAAAAA0D8AAAAAAADgPwAAAAAAAOI/AAAAAAAA5D8AAAAAAADoPwAAAAAAAPA/AAAAAAAElz8=",
          "dtype": "f8",
          "shape": "19, 1"
         },
         "hovertemplate": "DPD=%{x}<br>Accuracy=%{y}<br>alpha=%{marker.color}<extra></extra>",
         "legendgroup": "",
         "marker": {
          "color": {
           "bdata": "AAAAAAAAAAAAAAAAAACQPwAAAAAAAJQ/AAAAAAAAlj8AAAAAAICWPwAAAAAAAJc/AAAAAAAQlz8AAAAAACCXPwAAAAAAQJc/AAAAAACAlz8AAAAAAACYPwAAAAAAAKA/AAAAAAAA0D8AAAAAAADgPwAAAAAAAOI/AAAAAAAA5D8AAAAAAADoPwAAAAAAAPA/AAAAAAAElz8=",
           "dtype": "f8"
          },
          "coloraxis": "coloraxis",
          "line": {
           "width": 0
          },
          "symbol": "circle"
         },
         "mode": "markers",
         "name": "",
         "orientation": "v",
         "showlegend": false,
         "type": "scatter",
         "x": {
          "bdata": "AAAAAAAAAAAAAAAAAAAAAAAAAAAAAAAAAAAAAAAAAAArMivUxn1uP9VhwRVzTXs/wOqFsECygT/A6oWwQLKBP8DqhbBAsoE/wOqFsECygT/A6oWwQLKBP8DqhbBAsoE/8HGPnn+rkj8YNyWnVKabP8gAl6QjM6Y/Iper6B0/sD+Tahr0AqCyPz8fCw1qFrs/AAAAAAAAAAA=",
          "dtype": "f8"
         },
         "xaxis": "x",
         "y": {
          "bdata": "nlBR2QwA4D+eUFHZDADgP55QUdkMAOA/nlBR2QwA4D8TBDTJ0KvhP8k3AQ/jJ+M/bVscoSOI5T9tWxyhI4jlP21bHKEjiOU/bVscoSOI5T9tWxyhI4jlP21bHKEjiOU/sw9zotiT5T8xhM458bblP1EJt61bGuY/8QL7uN6g5j+N11gbqc/mPxXEEqfQFec/nlBR2QwA4D8=",
          "dtype": "f8"
         },
         "yaxis": "y"
        }
       ],
       "layout": {
        "coloraxis": {
         "colorbar": {
          "title": {
           "text": "alpha"
          }
         },
         "colorscale": [
          [
           0,
           "#440154"
          ],
          [
           0.1111111111111111,
           "#482878"
          ],
          [
           0.2222222222222222,
           "#3e4989"
          ],
          [
           0.3333333333333333,
           "#31688e"
          ],
          [
           0.4444444444444444,
           "#26828e"
          ],
          [
           0.5555555555555556,
           "#1f9e89"
          ],
          [
           0.6666666666666666,
           "#35b779"
          ],
          [
           0.7777777777777778,
           "#6ece58"
          ],
          [
           0.8888888888888888,
           "#b5de2b"
          ],
          [
           1,
           "#fde725"
          ]
         ]
        },
        "legend": {
         "tracegroupgap": 0
        },
        "template": {
         "data": {
          "bar": [
           {
            "error_x": {
             "color": "#2a3f5f"
            },
            "error_y": {
             "color": "#2a3f5f"
            },
            "marker": {
             "line": {
              "color": "#E5ECF6",
              "width": 0.5
             },
             "pattern": {
              "fillmode": "overlay",
              "size": 10,
              "solidity": 0.2
             }
            },
            "type": "bar"
           }
          ],
          "barpolar": [
           {
            "marker": {
             "line": {
              "color": "#E5ECF6",
              "width": 0.5
             },
             "pattern": {
              "fillmode": "overlay",
              "size": 10,
              "solidity": 0.2
             }
            },
            "type": "barpolar"
           }
          ],
          "carpet": [
           {
            "aaxis": {
             "endlinecolor": "#2a3f5f",
             "gridcolor": "white",
             "linecolor": "white",
             "minorgridcolor": "white",
             "startlinecolor": "#2a3f5f"
            },
            "baxis": {
             "endlinecolor": "#2a3f5f",
             "gridcolor": "white",
             "linecolor": "white",
             "minorgridcolor": "white",
             "startlinecolor": "#2a3f5f"
            },
            "type": "carpet"
           }
          ],
          "choropleth": [
           {
            "colorbar": {
             "outlinewidth": 0,
             "ticks": ""
            },
            "type": "choropleth"
           }
          ],
          "contour": [
           {
            "colorbar": {
             "outlinewidth": 0,
             "ticks": ""
            },
            "colorscale": [
             [
              0,
              "#0d0887"
             ],
             [
              0.1111111111111111,
              "#46039f"
             ],
             [
              0.2222222222222222,
              "#7201a8"
             ],
             [
              0.3333333333333333,
              "#9c179e"
             ],
             [
              0.4444444444444444,
              "#bd3786"
             ],
             [
              0.5555555555555556,
              "#d8576b"
             ],
             [
              0.6666666666666666,
              "#ed7953"
             ],
             [
              0.7777777777777778,
              "#fb9f3a"
             ],
             [
              0.8888888888888888,
              "#fdca26"
             ],
             [
              1,
              "#f0f921"
             ]
            ],
            "type": "contour"
           }
          ],
          "contourcarpet": [
           {
            "colorbar": {
             "outlinewidth": 0,
             "ticks": ""
            },
            "type": "contourcarpet"
           }
          ],
          "heatmap": [
           {
            "colorbar": {
             "outlinewidth": 0,
             "ticks": ""
            },
            "colorscale": [
             [
              0,
              "#0d0887"
             ],
             [
              0.1111111111111111,
              "#46039f"
             ],
             [
              0.2222222222222222,
              "#7201a8"
             ],
             [
              0.3333333333333333,
              "#9c179e"
             ],
             [
              0.4444444444444444,
              "#bd3786"
             ],
             [
              0.5555555555555556,
              "#d8576b"
             ],
             [
              0.6666666666666666,
              "#ed7953"
             ],
             [
              0.7777777777777778,
              "#fb9f3a"
             ],
             [
              0.8888888888888888,
              "#fdca26"
             ],
             [
              1,
              "#f0f921"
             ]
            ],
            "type": "heatmap"
           }
          ],
          "histogram": [
           {
            "marker": {
             "pattern": {
              "fillmode": "overlay",
              "size": 10,
              "solidity": 0.2
             }
            },
            "type": "histogram"
           }
          ],
          "histogram2d": [
           {
            "colorbar": {
             "outlinewidth": 0,
             "ticks": ""
            },
            "colorscale": [
             [
              0,
              "#0d0887"
             ],
             [
              0.1111111111111111,
              "#46039f"
             ],
             [
              0.2222222222222222,
              "#7201a8"
             ],
             [
              0.3333333333333333,
              "#9c179e"
             ],
             [
              0.4444444444444444,
              "#bd3786"
             ],
             [
              0.5555555555555556,
              "#d8576b"
             ],
             [
              0.6666666666666666,
              "#ed7953"
             ],
             [
              0.7777777777777778,
              "#fb9f3a"
             ],
             [
              0.8888888888888888,
              "#fdca26"
             ],
             [
              1,
              "#f0f921"
             ]
            ],
            "type": "histogram2d"
           }
          ],
          "histogram2dcontour": [
           {
            "colorbar": {
             "outlinewidth": 0,
             "ticks": ""
            },
            "colorscale": [
             [
              0,
              "#0d0887"
             ],
             [
              0.1111111111111111,
              "#46039f"
             ],
             [
              0.2222222222222222,
              "#7201a8"
             ],
             [
              0.3333333333333333,
              "#9c179e"
             ],
             [
              0.4444444444444444,
              "#bd3786"
             ],
             [
              0.5555555555555556,
              "#d8576b"
             ],
             [
              0.6666666666666666,
              "#ed7953"
             ],
             [
              0.7777777777777778,
              "#fb9f3a"
             ],
             [
              0.8888888888888888,
              "#fdca26"
             ],
             [
              1,
              "#f0f921"
             ]
            ],
            "type": "histogram2dcontour"
           }
          ],
          "mesh3d": [
           {
            "colorbar": {
             "outlinewidth": 0,
             "ticks": ""
            },
            "type": "mesh3d"
           }
          ],
          "parcoords": [
           {
            "line": {
             "colorbar": {
              "outlinewidth": 0,
              "ticks": ""
             }
            },
            "type": "parcoords"
           }
          ],
          "pie": [
           {
            "automargin": true,
            "type": "pie"
           }
          ],
          "scatter": [
           {
            "fillpattern": {
             "fillmode": "overlay",
             "size": 10,
             "solidity": 0.2
            },
            "type": "scatter"
           }
          ],
          "scatter3d": [
           {
            "line": {
             "colorbar": {
              "outlinewidth": 0,
              "ticks": ""
             }
            },
            "marker": {
             "colorbar": {
              "outlinewidth": 0,
              "ticks": ""
             }
            },
            "type": "scatter3d"
           }
          ],
          "scattercarpet": [
           {
            "marker": {
             "colorbar": {
              "outlinewidth": 0,
              "ticks": ""
             }
            },
            "type": "scattercarpet"
           }
          ],
          "scattergeo": [
           {
            "marker": {
             "colorbar": {
              "outlinewidth": 0,
              "ticks": ""
             }
            },
            "type": "scattergeo"
           }
          ],
          "scattergl": [
           {
            "marker": {
             "colorbar": {
              "outlinewidth": 0,
              "ticks": ""
             }
            },
            "type": "scattergl"
           }
          ],
          "scattermap": [
           {
            "marker": {
             "colorbar": {
              "outlinewidth": 0,
              "ticks": ""
             }
            },
            "type": "scattermap"
           }
          ],
          "scattermapbox": [
           {
            "marker": {
             "colorbar": {
              "outlinewidth": 0,
              "ticks": ""
             }
            },
            "type": "scattermapbox"
           }
          ],
          "scatterpolar": [
           {
            "marker": {
             "colorbar": {
              "outlinewidth": 0,
              "ticks": ""
             }
            },
            "type": "scatterpolar"
           }
          ],
          "scatterpolargl": [
           {
            "marker": {
             "colorbar": {
              "outlinewidth": 0,
              "ticks": ""
             }
            },
            "type": "scatterpolargl"
           }
          ],
          "scatterternary": [
           {
            "marker": {
             "colorbar": {
              "outlinewidth": 0,
              "ticks": ""
             }
            },
            "type": "scatterternary"
           }
          ],
          "surface": [
           {
            "colorbar": {
             "outlinewidth": 0,
             "ticks": ""
            },
            "colorscale": [
             [
              0,
              "#0d0887"
             ],
             [
              0.1111111111111111,
              "#46039f"
             ],
             [
              0.2222222222222222,
              "#7201a8"
             ],
             [
              0.3333333333333333,
              "#9c179e"
             ],
             [
              0.4444444444444444,
              "#bd3786"
             ],
             [
              0.5555555555555556,
              "#d8576b"
             ],
             [
              0.6666666666666666,
              "#ed7953"
             ],
             [
              0.7777777777777778,
              "#fb9f3a"
             ],
             [
              0.8888888888888888,
              "#fdca26"
             ],
             [
              1,
              "#f0f921"
             ]
            ],
            "type": "surface"
           }
          ],
          "table": [
           {
            "cells": {
             "fill": {
              "color": "#EBF0F8"
             },
             "line": {
              "color": "white"
             }
            },
            "header": {
             "fill": {
              "color": "#C8D4E3"
             },
             "line": {
              "color": "white"
             }
            },
            "type": "table"
           }
          ]
         },
         "layout": {
          "annotationdefaults": {
           "arrowcolor": "#2a3f5f",
           "arrowhead": 0,
           "arrowwidth": 1
          },
          "autotypenumbers": "strict",
          "coloraxis": {
           "colorbar": {
            "outlinewidth": 0,
            "ticks": ""
           }
          },
          "colorscale": {
           "diverging": [
            [
             0,
             "#8e0152"
            ],
            [
             0.1,
             "#c51b7d"
            ],
            [
             0.2,
             "#de77ae"
            ],
            [
             0.3,
             "#f1b6da"
            ],
            [
             0.4,
             "#fde0ef"
            ],
            [
             0.5,
             "#f7f7f7"
            ],
            [
             0.6,
             "#e6f5d0"
            ],
            [
             0.7,
             "#b8e186"
            ],
            [
             0.8,
             "#7fbc41"
            ],
            [
             0.9,
             "#4d9221"
            ],
            [
             1,
             "#276419"
            ]
           ],
           "sequential": [
            [
             0,
             "#0d0887"
            ],
            [
             0.1111111111111111,
             "#46039f"
            ],
            [
             0.2222222222222222,
             "#7201a8"
            ],
            [
             0.3333333333333333,
             "#9c179e"
            ],
            [
             0.4444444444444444,
             "#bd3786"
            ],
            [
             0.5555555555555556,
             "#d8576b"
            ],
            [
             0.6666666666666666,
             "#ed7953"
            ],
            [
             0.7777777777777778,
             "#fb9f3a"
            ],
            [
             0.8888888888888888,
             "#fdca26"
            ],
            [
             1,
             "#f0f921"
            ]
           ],
           "sequentialminus": [
            [
             0,
             "#0d0887"
            ],
            [
             0.1111111111111111,
             "#46039f"
            ],
            [
             0.2222222222222222,
             "#7201a8"
            ],
            [
             0.3333333333333333,
             "#9c179e"
            ],
            [
             0.4444444444444444,
             "#bd3786"
            ],
            [
             0.5555555555555556,
             "#d8576b"
            ],
            [
             0.6666666666666666,
             "#ed7953"
            ],
            [
             0.7777777777777778,
             "#fb9f3a"
            ],
            [
             0.8888888888888888,
             "#fdca26"
            ],
            [
             1,
             "#f0f921"
            ]
           ]
          },
          "colorway": [
           "#636efa",
           "#EF553B",
           "#00cc96",
           "#ab63fa",
           "#FFA15A",
           "#19d3f3",
           "#FF6692",
           "#B6E880",
           "#FF97FF",
           "#FECB52"
          ],
          "font": {
           "color": "#2a3f5f"
          },
          "geo": {
           "bgcolor": "white",
           "lakecolor": "white",
           "landcolor": "#E5ECF6",
           "showlakes": true,
           "showland": true,
           "subunitcolor": "white"
          },
          "hoverlabel": {
           "align": "left"
          },
          "hovermode": "closest",
          "mapbox": {
           "style": "light"
          },
          "paper_bgcolor": "white",
          "plot_bgcolor": "#E5ECF6",
          "polar": {
           "angularaxis": {
            "gridcolor": "white",
            "linecolor": "white",
            "ticks": ""
           },
           "bgcolor": "#E5ECF6",
           "radialaxis": {
            "gridcolor": "white",
            "linecolor": "white",
            "ticks": ""
           }
          },
          "scene": {
           "xaxis": {
            "backgroundcolor": "#E5ECF6",
            "gridcolor": "white",
            "gridwidth": 2,
            "linecolor": "white",
            "showbackground": true,
            "ticks": "",
            "zerolinecolor": "white"
           },
           "yaxis": {
            "backgroundcolor": "#E5ECF6",
            "gridcolor": "white",
            "gridwidth": 2,
            "linecolor": "white",
            "showbackground": true,
            "ticks": "",
            "zerolinecolor": "white"
           },
           "zaxis": {
            "backgroundcolor": "#E5ECF6",
            "gridcolor": "white",
            "gridwidth": 2,
            "linecolor": "white",
            "showbackground": true,
            "ticks": "",
            "zerolinecolor": "white"
           }
          },
          "shapedefaults": {
           "line": {
            "color": "#2a3f5f"
           }
          },
          "ternary": {
           "aaxis": {
            "gridcolor": "white",
            "linecolor": "white",
            "ticks": ""
           },
           "baxis": {
            "gridcolor": "white",
            "linecolor": "white",
            "ticks": ""
           },
           "bgcolor": "#E5ECF6",
           "caxis": {
            "gridcolor": "white",
            "linecolor": "white",
            "ticks": ""
           }
          },
          "title": {
           "x": 0.05
          },
          "xaxis": {
           "automargin": true,
           "gridcolor": "white",
           "linecolor": "white",
           "ticks": "",
           "title": {
            "standoff": 15
           },
           "zerolinecolor": "white",
           "zerolinewidth": 2
          },
          "yaxis": {
           "automargin": true,
           "gridcolor": "white",
           "linecolor": "white",
           "ticks": "",
           "title": {
            "standoff": 15
           },
           "zerolinecolor": "white",
           "zerolinewidth": 2
          }
         }
        },
        "title": {
         "text": "Pareto Front: DPD vs. Accuracy"
        },
        "xaxis": {
         "anchor": "y",
         "domain": [
          0,
          1
         ],
         "title": {
          "text": "DPD"
         }
        },
        "yaxis": {
         "anchor": "x",
         "domain": [
          0,
          1
         ],
         "title": {
          "text": "Accuracy"
         }
        }
       }
      }
     },
     "metadata": {},
     "output_type": "display_data"
    }
   ],
   "source": [
    "# Create interactive Plotly plot\n",
    "fig = px.scatter(\n",
    "    plot_df,\n",
    "    x='DPD',\n",
    "    y='Accuracy',\n",
    "    color='alpha',\n",
    "    color_continuous_scale='Viridis',\n",
    "    size_max=15,\n",
    "    hover_data={'alpha': True, 'DPD': True, 'Accuracy': True},\n",
    "    title='Pareto Front: DPD vs. Accuracy'\n",
    ")\n",
    "fig.update_traces(marker=dict(line_width=0))\n",
    "fig.show()"
   ]
  },
  {
   "cell_type": "code",
   "execution_count": null,
   "id": "fd246608",
   "metadata": {},
   "outputs": [
    {
     "name": "stderr",
     "output_type": "stream",
     "text": [
      "[I 2025-05-16 16:29:02,867] A new study created in memory with name: no-name-0b5c242b-4fa4-4a68-bbc0-3d1392a5a2de\n",
      "[I 2025-05-16 16:29:02,991] Trial 0 finished with values: [0.5000061268315397, 0.0] and parameters: {'max_depth': 7, 'eta': 0.27116171617649165, 'subsample': 0.7269463254606328, 'colsample_bytree': 0.9728224999470233}.\n",
      "[I 2025-05-16 16:29:03,113] Trial 1 finished with values: [0.5000061268315397, 0.0] and parameters: {'max_depth': 4, 'eta': 0.23294846830639912, 'subsample': 0.8121129252839423, 'colsample_bytree': 0.9862355887827093}.\n",
      "[I 2025-05-16 16:29:03,202] Trial 2 finished with values: [0.5000061268315397, 0.0] and parameters: {'max_depth': 4, 'eta': 0.26031430769402997, 'subsample': 0.6271539098071383, 'colsample_bytree': 0.6450638768079656}.\n",
      "[I 2025-05-16 16:29:03,310] Trial 3 finished with values: [0.5000061268315397, 0.0] and parameters: {'max_depth': 6, 'eta': 0.24993025012366507, 'subsample': 0.7081928200314112, 'colsample_bytree': 0.6796003471219101}.\n",
      "[I 2025-05-16 16:29:03,418] Trial 4 finished with values: [0.5000061268315397, 0.0] and parameters: {'max_depth': 4, 'eta': 0.11771446995846292, 'subsample': 0.9112395125734132, 'colsample_bytree': 0.9273203470086384}.\n",
      "[I 2025-05-16 16:29:03,606] Trial 5 finished with values: [0.5000061268315397, 0.0] and parameters: {'max_depth': 5, 'eta': 0.1830066629049067, 'subsample': 0.9142549079254761, 'colsample_bytree': 0.8936073649096536}.\n",
      "[I 2025-05-16 16:29:03,734] Trial 6 finished with values: [0.5000061268315397, 0.0] and parameters: {'max_depth': 3, 'eta': 0.06671764038048271, 'subsample': 0.6629348605338211, 'colsample_bytree': 0.7224153505613888}.\n",
      "[I 2025-05-16 16:29:03,849] Trial 7 finished with values: [0.5000061268315397, 0.0] and parameters: {'max_depth': 5, 'eta': 0.025027069220564455, 'subsample': 0.610270681002443, 'colsample_bytree': 0.9920323883189239}.\n",
      "[I 2025-05-16 16:29:03,943] Trial 8 finished with values: [0.5000061268315397, 0.0] and parameters: {'max_depth': 3, 'eta': 0.023996446409015493, 'subsample': 0.8225228043828193, 'colsample_bytree': 0.7487087139161492}.\n",
      "[I 2025-05-16 16:29:04,102] Trial 9 finished with values: [0.5000061268315397, 0.0] and parameters: {'max_depth': 4, 'eta': 0.04181723953744289, 'subsample': 0.9649613186621248, 'colsample_bytree': 0.6986616779036301}.\n",
      "[I 2025-05-16 16:29:04,206] Trial 10 finished with values: [0.5000061268315397, 0.0] and parameters: {'max_depth': 7, 'eta': 0.11582245885776667, 'subsample': 0.6983074303495461, 'colsample_bytree': 0.8427162015008773}.\n",
      "[I 2025-05-16 16:29:04,312] Trial 11 finished with values: [0.5000061268315397, 0.0] and parameters: {'max_depth': 4, 'eta': 0.07274762524558864, 'subsample': 0.8273577811173033, 'colsample_bytree': 0.6845440562720837}.\n",
      "[I 2025-05-16 16:29:04,412] Trial 12 finished with values: [0.5000061268315397, 0.0] and parameters: {'max_depth': 5, 'eta': 0.13037475188883485, 'subsample': 0.7436694472825547, 'colsample_bytree': 0.8658321868033245}.\n",
      "[I 2025-05-16 16:29:04,510] Trial 13 finished with values: [0.5000061268315397, 0.0] and parameters: {'max_depth': 3, 'eta': 0.269780358440574, 'subsample': 0.9327316978193476, 'colsample_bytree': 0.8803687634657031}.\n",
      "[I 2025-05-16 16:29:04,624] Trial 14 finished with values: [0.5000061268315397, 0.0] and parameters: {'max_depth': 4, 'eta': 0.1062105754799269, 'subsample': 0.9799903450423768, 'colsample_bytree': 0.6063138462208248}.\n",
      "[I 2025-05-16 16:29:04,745] Trial 15 finished with values: [0.5000061268315397, 0.0] and parameters: {'max_depth': 7, 'eta': 0.14746060989154766, 'subsample': 0.823020367639119, 'colsample_bytree': 0.6480247882081809}.\n",
      "[I 2025-05-16 16:29:04,873] Trial 16 finished with values: [0.5000061268315397, 0.0] and parameters: {'max_depth': 5, 'eta': 0.2107965321878387, 'subsample': 0.8327450981691102, 'colsample_bytree': 0.7084005801668503}.\n",
      "[I 2025-05-16 16:29:04,990] Trial 17 finished with values: [0.5000061268315397, 0.0] and parameters: {'max_depth': 7, 'eta': 0.08879041204393306, 'subsample': 0.6245015188128075, 'colsample_bytree': 0.8204074402921492}.\n",
      "[I 2025-05-16 16:29:05,095] Trial 18 finished with values: [0.5000061268315397, 0.0] and parameters: {'max_depth': 5, 'eta': 0.22573967451519814, 'subsample': 0.6088289810203161, 'colsample_bytree': 0.8862328505559496}.\n",
      "[I 2025-05-16 16:29:05,239] Trial 19 finished with values: [0.5000061268315397, 0.0] and parameters: {'max_depth': 7, 'eta': 0.21934958338587646, 'subsample': 0.6301966080812581, 'colsample_bytree': 0.8730055699007957}.\n",
      "[I 2025-05-16 16:29:05,380] Trial 20 finished with values: [0.5000061268315397, 0.0] and parameters: {'max_depth': 7, 'eta': 0.10699786165548268, 'subsample': 0.7431683079149848, 'colsample_bytree': 0.8869233559255509}.\n",
      "[I 2025-05-16 16:29:05,484] Trial 21 finished with values: [0.5000061268315397, 0.0] and parameters: {'max_depth': 6, 'eta': 0.13300609608517672, 'subsample': 0.8589258330686951, 'colsample_bytree': 0.6357676867036612}.\n",
      "[I 2025-05-16 16:29:05,587] Trial 22 finished with values: [0.5000061268315397, 0.0] and parameters: {'max_depth': 6, 'eta': 0.28396847617320004, 'subsample': 0.8774911716701799, 'colsample_bytree': 0.8628877061728708}.\n",
      "[I 2025-05-16 16:29:05,692] Trial 23 finished with values: [0.5000061268315397, 0.0] and parameters: {'max_depth': 5, 'eta': 0.03251814861761057, 'subsample': 0.9526452725043411, 'colsample_bytree': 0.8152024492358063}.\n",
      "[I 2025-05-16 16:29:05,803] Trial 24 finished with values: [0.5000061268315397, 0.0] and parameters: {'max_depth': 3, 'eta': 0.23581572921123503, 'subsample': 0.8518677793105137, 'colsample_bytree': 0.7845777919127823}.\n",
      "[I 2025-05-16 16:29:05,913] Trial 25 finished with values: [0.5000061268315397, 0.0] and parameters: {'max_depth': 6, 'eta': 0.14983348065823632, 'subsample': 0.7490940708310873, 'colsample_bytree': 0.842854195486307}.\n",
      "[I 2025-05-16 16:29:06,028] Trial 26 finished with values: [0.5000061268315397, 0.0] and parameters: {'max_depth': 7, 'eta': 0.15899460191851825, 'subsample': 0.8484768020809059, 'colsample_bytree': 0.8048246281295574}.\n",
      "[I 2025-05-16 16:29:06,145] Trial 27 finished with values: [0.5000061268315397, 0.0] and parameters: {'max_depth': 3, 'eta': 0.2990456304330087, 'subsample': 0.8732624159584548, 'colsample_bytree': 0.9098413908530538}.\n",
      "[I 2025-05-16 16:29:06,245] Trial 28 finished with values: [0.5000061268315397, 0.0] and parameters: {'max_depth': 5, 'eta': 0.18582831731863542, 'subsample': 0.8617769831141868, 'colsample_bytree': 0.9310264104306953}.\n",
      "[I 2025-05-16 16:29:06,360] Trial 29 finished with values: [0.5000061268315397, 0.0] and parameters: {'max_depth': 5, 'eta': 0.24122388982902881, 'subsample': 0.6255315123564898, 'colsample_bytree': 0.750716912049175}.\n",
      "[I 2025-05-16 16:29:06,464] Trial 30 finished with values: [0.5000061268315397, 0.0] and parameters: {'max_depth': 5, 'eta': 0.0998499877290406, 'subsample': 0.68807169796021, 'colsample_bytree': 0.7828451149729856}.\n",
      "[I 2025-05-16 16:29:06,594] Trial 31 finished with values: [0.5000061268315397, 0.0] and parameters: {'max_depth': 4, 'eta': 0.1785579341971601, 'subsample': 0.8863432974340959, 'colsample_bytree': 0.8288734450891985}.\n",
      "[I 2025-05-16 16:29:06,710] Trial 32 finished with values: [0.5000061268315397, 0.0] and parameters: {'max_depth': 6, 'eta': 0.02156917261264836, 'subsample': 0.7209029718290603, 'colsample_bytree': 0.6749465307776209}.\n",
      "[I 2025-05-16 16:29:06,832] Trial 33 finished with values: [0.5000061268315397, 0.0] and parameters: {'max_depth': 4, 'eta': 0.12932942760186114, 'subsample': 0.6946114733670213, 'colsample_bytree': 0.7459271355079329}.\n",
      "[I 2025-05-16 16:29:06,928] Trial 34 finished with values: [0.5000061268315397, 0.0] and parameters: {'max_depth': 7, 'eta': 0.2800027301709244, 'subsample': 0.9228873962828394, 'colsample_bytree': 0.9707692352176386}.\n",
      "[I 2025-05-16 16:29:07,031] Trial 35 finished with values: [0.5000061268315397, 0.0] and parameters: {'max_depth': 4, 'eta': 0.015292669076239591, 'subsample': 0.6406521727686146, 'colsample_bytree': 0.9646708065842314}.\n",
      "[I 2025-05-16 16:29:07,138] Trial 36 finished with values: [0.5000061268315397, 0.0] and parameters: {'max_depth': 6, 'eta': 0.07354578711661798, 'subsample': 0.8636225838049847, 'colsample_bytree': 0.8494971838509939}.\n",
      "[I 2025-05-16 16:29:07,239] Trial 37 finished with values: [0.5000061268315397, 0.0] and parameters: {'max_depth': 6, 'eta': 0.24303651516512167, 'subsample': 0.7610488004472495, 'colsample_bytree': 0.6867423120705627}.\n",
      "[I 2025-05-16 16:29:07,339] Trial 38 finished with values: [0.5000061268315397, 0.0] and parameters: {'max_depth': 5, 'eta': 0.13417896785618477, 'subsample': 0.6003064001077064, 'colsample_bytree': 0.8504683297290632}.\n",
      "[I 2025-05-16 16:29:07,452] Trial 39 finished with values: [0.5000061268315397, 0.0] and parameters: {'max_depth': 3, 'eta': 0.11782730145415542, 'subsample': 0.8425697712747043, 'colsample_bytree': 0.6787263508154504}.\n",
      "[I 2025-05-16 16:29:07,554] Trial 40 finished with values: [0.5000061268315397, 0.0] and parameters: {'max_depth': 6, 'eta': 0.2888841589305546, 'subsample': 0.7772772258346868, 'colsample_bytree': 0.8990838298438628}.\n",
      "[I 2025-05-16 16:29:07,666] Trial 41 finished with values: [0.5000061268315397, 0.0] and parameters: {'max_depth': 3, 'eta': 0.12881550841610231, 'subsample': 0.7086017814375434, 'colsample_bytree': 0.6158262895815042}.\n",
      "[I 2025-05-16 16:29:07,772] Trial 42 finished with values: [0.5000061268315397, 0.0] and parameters: {'max_depth': 4, 'eta': 0.1572011880553015, 'subsample': 0.9690847725582347, 'colsample_bytree': 0.9349018139629797}.\n",
      "[I 2025-05-16 16:29:07,891] Trial 43 finished with values: [0.5000061268315397, 0.0] and parameters: {'max_depth': 7, 'eta': 0.2983341803006243, 'subsample': 0.8478752339802376, 'colsample_bytree': 0.7663804382399884}.\n",
      "[I 2025-05-16 16:29:08,009] Trial 44 finished with values: [0.5000061268315397, 0.0] and parameters: {'max_depth': 6, 'eta': 0.12079681539621694, 'subsample': 0.7860644321776135, 'colsample_bytree': 0.9287525524223748}.\n",
      "[I 2025-05-16 16:29:08,109] Trial 45 finished with values: [0.5000061268315397, 0.0] and parameters: {'max_depth': 4, 'eta': 0.295745426843233, 'subsample': 0.7191130794436151, 'colsample_bytree': 0.7558413197579912}.\n",
      "[I 2025-05-16 16:29:08,201] Trial 46 finished with values: [0.5000061268315397, 0.0] and parameters: {'max_depth': 6, 'eta': 0.09413975357787327, 'subsample': 0.9344898769030481, 'colsample_bytree': 0.755950768083331}.\n",
      "[I 2025-05-16 16:29:08,298] Trial 47 finished with values: [0.5000061268315397, 0.0] and parameters: {'max_depth': 6, 'eta': 0.13328093483764858, 'subsample': 0.8352774610629643, 'colsample_bytree': 0.8470000701787104}.\n",
      "[I 2025-05-16 16:29:08,408] Trial 48 finished with values: [0.5000061268315397, 0.0] and parameters: {'max_depth': 6, 'eta': 0.2813510754687979, 'subsample': 0.8635563466620229, 'colsample_bytree': 0.8191979082051728}.\n",
      "[I 2025-05-16 16:29:08,501] Trial 49 finished with values: [0.5000061268315397, 0.0] and parameters: {'max_depth': 7, 'eta': 0.22638020869174502, 'subsample': 0.7258118955986708, 'colsample_bytree': 0.7142044668068978}.\n",
      "[I 2025-05-16 16:29:08,510] A new study created in memory with name: no-name-35d0f08c-1274-42ea-a557-3e0a9ccfee70\n",
      "[I 2025-05-16 16:29:08,610] Trial 0 finished with values: [0.6664338470681579, 0.02953351585662023] and parameters: {'max_depth': 3, 'eta': 0.2129424334648162, 'subsample': 0.8304253844226626, 'colsample_bytree': 0.9438579238249283}.\n"
     ]
    },
    {
     "name": "stdout",
     "output_type": "stream",
     "text": [
      "Completed study for alpha=0\n"
     ]
    },
    {
     "name": "stderr",
     "output_type": "stream",
     "text": [
      "[I 2025-05-16 16:29:08,743] Trial 1 finished with values: [0.7000119473215024, 0.07898193303403796] and parameters: {'max_depth': 5, 'eta': 0.2341255213352826, 'subsample': 0.7362992436220663, 'colsample_bytree': 0.7523469733667653}.\n",
      "[I 2025-05-16 16:29:08,883] Trial 2 finished with values: [0.6828537555945631, 0.06764696523587017] and parameters: {'max_depth': 4, 'eta': 0.2506698200547449, 'subsample': 0.8086727472974691, 'colsample_bytree': 0.7178467064594145}.\n",
      "[I 2025-05-16 16:29:08,988] Trial 3 finished with values: [0.6692996725208542, 0.04817756105748499] and parameters: {'max_depth': 3, 'eta': 0.2085092550244008, 'subsample': 0.7781783754627386, 'colsample_bytree': 0.8088941231565413}.\n",
      "[I 2025-05-16 16:29:09,145] Trial 4 finished with values: [0.7121323518149207, 0.11310194278244023] and parameters: {'max_depth': 7, 'eta': 0.2591082674043036, 'subsample': 0.6213487678809081, 'colsample_bytree': 0.7922651751069175}.\n",
      "[I 2025-05-16 16:29:09,322] Trial 5 finished with values: [0.7049930613632812, 0.08509168827526348] and parameters: {'max_depth': 7, 'eta': 0.11820538468856814, 'subsample': 0.8017544374669654, 'colsample_bytree': 0.7512215092793931}.\n",
      "[I 2025-05-16 16:29:09,475] Trial 6 finished with values: [0.692852744667359, 0.07283498613020277] and parameters: {'max_depth': 7, 'eta': 0.09899478045443384, 'subsample': 0.7394899387898258, 'colsample_bytree': 0.9514907349757413}.\n",
      "[I 2025-05-16 16:29:09,641] Trial 7 finished with values: [0.6871456010881253, 0.05887232787404182] and parameters: {'max_depth': 6, 'eta': 0.09232275418579713, 'subsample': 0.9264205204939759, 'colsample_bytree': 0.6794351782728222}.\n",
      "[I 2025-05-16 16:29:09,811] Trial 8 finished with values: [0.7099986827312189, 0.06638075006937266] and parameters: {'max_depth': 7, 'eta': 0.2925270657794941, 'subsample': 0.7072836747071004, 'colsample_bytree': 0.6290702833179516}.\n",
      "[I 2025-05-16 16:29:09,981] Trial 9 finished with values: [0.6935649888338494, 0.04780862903988143] and parameters: {'max_depth': 7, 'eta': 0.0774381967570299, 'subsample': 0.9309270133022016, 'colsample_bytree': 0.9481359511405981}.\n",
      "[I 2025-05-16 16:29:10,108] Trial 10 finished with values: [0.6814231404300424, 0.03907090257189697] and parameters: {'max_depth': 4, 'eta': 0.2029458771826754, 'subsample': 0.7258016579597331, 'colsample_bytree': 0.6680563694595681}.\n",
      "[I 2025-05-16 16:29:10,248] Trial 11 finished with values: [0.6871517279196651, 0.07452478361575289] and parameters: {'max_depth': 6, 'eta': 0.17204152419160723, 'subsample': 0.8892862171989208, 'colsample_bytree': 0.6848647050930655}.\n",
      "[I 2025-05-16 16:29:10,387] Trial 12 finished with values: [0.6971445901609212, 0.11225281739393578] and parameters: {'max_depth': 6, 'eta': 0.19119021551425228, 'subsample': 0.6660235141041797, 'colsample_bytree': 0.8155784964121905}.\n",
      "[I 2025-05-16 16:29:10,524] Trial 13 finished with values: [0.6585792490342582, 0.02530618720069777] and parameters: {'max_depth': 3, 'eta': 0.19118661388646357, 'subsample': 0.9594660151147242, 'colsample_bytree': 0.6753273682412294}.\n",
      "[I 2025-05-16 16:29:10,679] Trial 14 finished with values: [0.6814323306773519, 0.04558636623598247] and parameters: {'max_depth': 4, 'eta': 0.1419626933644687, 'subsample': 0.7422249401931983, 'colsample_bytree': 0.6454713008999925}.\n",
      "[I 2025-05-16 16:29:10,872] Trial 15 finished with values: [0.7157104214341076, 0.11689912635993592] and parameters: {'max_depth': 7, 'eta': 0.25392261370389957, 'subsample': 0.8456156342958443, 'colsample_bytree': 0.875414947263063}.\n",
      "[I 2025-05-16 16:29:11,089] Trial 16 finished with values: [0.6971384633293815, 0.07171865897407499] and parameters: {'max_depth': 7, 'eta': 0.08004740080822971, 'subsample': 0.8289151931313794, 'colsample_bytree': 0.9652752615231956}.\n",
      "[I 2025-05-16 16:29:11,268] Trial 17 finished with values: [0.687853250130961, 0.0610920431560556] and parameters: {'max_depth': 6, 'eta': 0.10289011871394564, 'subsample': 0.9610135417021608, 'colsample_bytree': 0.9624985486231118}.\n",
      "[I 2025-05-16 16:29:11,429] Trial 18 finished with values: [0.693575710789044, 0.05878893273495117] and parameters: {'max_depth': 6, 'eta': 0.19485517726314336, 'subsample': 0.8976682621059167, 'colsample_bytree': 0.6490471954245522}.\n",
      "[I 2025-05-16 16:29:11,548] Trial 19 finished with values: [0.6750052843922031, 0.056080082270508945] and parameters: {'max_depth': 3, 'eta': 0.2917540487413438, 'subsample': 0.784805980516667, 'colsample_bytree': 0.6152597653644937}.\n",
      "[I 2025-05-16 16:29:11,683] Trial 20 finished with values: [0.6978568343274117, 0.07635712070854171] and parameters: {'max_depth': 5, 'eta': 0.2232650635445978, 'subsample': 0.8638407885179162, 'colsample_bytree': 0.9632533197197298}.\n",
      "[I 2025-05-16 16:29:11,825] Trial 21 finished with values: [0.6992797909525078, 0.07177568851897435] and parameters: {'max_depth': 6, 'eta': 0.2903487331833133, 'subsample': 0.6321130880742255, 'colsample_bytree': 0.6717439860207464}.\n",
      "[I 2025-05-16 16:29:11,974] Trial 22 finished with values: [0.6700042581479201, 0.04321047600245764] and parameters: {'max_depth': 4, 'eta': 0.05405766421757719, 'subsample': 0.7164578797797321, 'colsample_bytree': 0.6611711533252389}.\n",
      "[I 2025-05-16 16:29:12,128] Trial 23 finished with values: [0.7071435792337172, 0.08269057437346018] and parameters: {'max_depth': 7, 'eta': 0.2608904802918022, 'subsample': 0.8093327108366231, 'colsample_bytree': 0.6831111626723402}.\n",
      "[I 2025-05-16 16:29:12,273] Trial 24 finished with values: [0.6600205861539734, 0.05166424621538775] and parameters: {'max_depth': 3, 'eta': 0.0682814184578002, 'subsample': 0.9950886951971452, 'colsample_bytree': 0.7677652852176279}.\n",
      "[I 2025-05-16 16:29:12,394] Trial 25 finished with values: [0.6992782592446231, 0.06403589454321658] and parameters: {'max_depth': 5, 'eta': 0.24346947271702873, 'subsample': 0.8745738219047348, 'colsample_bytree': 0.815556887502124}.\n",
      "[I 2025-05-16 16:29:12,541] Trial 26 finished with values: [0.7050068467342455, 0.09870824662087994] and parameters: {'max_depth': 7, 'eta': 0.27054416931961295, 'subsample': 0.6084194535399974, 'colsample_bytree': 0.8112106641246366}.\n",
      "[I 2025-05-16 16:29:12,707] Trial 27 finished with values: [0.6771450803074445, 0.058866665364466886] and parameters: {'max_depth': 5, 'eta': 0.0509567986026083, 'subsample': 0.6832135164878204, 'colsample_bytree': 0.6475271428302599}.\n",
      "[I 2025-05-16 16:29:12,854] Trial 28 finished with values: [0.6799955886812915, 0.06426052995404531] and parameters: {'max_depth': 6, 'eta': 0.12441549422144378, 'subsample': 0.8983265169308949, 'colsample_bytree': 0.6379507360345474}.\n",
      "[I 2025-05-16 16:29:12,999] Trial 29 finished with values: [0.7121384786464605, 0.08652569043869342] and parameters: {'max_depth': 6, 'eta': 0.239411646723322, 'subsample': 0.9717777648412835, 'colsample_bytree': 0.8441205959200284}.\n",
      "[I 2025-05-16 16:29:13,119] Trial 30 finished with values: [0.6671399644031087, 0.0326712707112908] and parameters: {'max_depth': 3, 'eta': 0.2807951205438208, 'subsample': 0.6533417544303177, 'colsample_bytree': 0.8350899180056017}.\n",
      "[I 2025-05-16 16:29:13,264] Trial 31 finished with values: [0.6614404793632996, 0.02108973425244622] and parameters: {'max_depth': 3, 'eta': 0.12405963726342151, 'subsample': 0.988569064147095, 'colsample_bytree': 0.9609661355808808}.\n",
      "[I 2025-05-16 16:29:13,394] Trial 32 finished with values: [0.6628680311120506, 0.02946153466419162] and parameters: {'max_depth': 3, 'eta': 0.09134891502884779, 'subsample': 0.9256077729067953, 'colsample_bytree': 0.8245036069293759}.\n",
      "[I 2025-05-16 16:29:13,529] Trial 33 finished with values: [0.6878639720861556, 0.061728478275732905] and parameters: {'max_depth': 5, 'eta': 0.1366008291012706, 'subsample': 0.9230131573845362, 'colsample_bytree': 0.9670172532377337}.\n",
      "[I 2025-05-16 16:29:13,721] Trial 34 finished with values: [0.7000058204899627, 0.06742541136980444] and parameters: {'max_depth': 7, 'eta': 0.03589666416900295, 'subsample': 0.714727450168489, 'colsample_bytree': 0.9602607344623554}.\n",
      "[I 2025-05-16 16:29:13,870] Trial 35 finished with values: [0.705000719902706, 0.074189201422577] and parameters: {'max_depth': 6, 'eta': 0.2955125247447075, 'subsample': 0.8089133344705479, 'colsample_bytree': 0.706166769389127}.\n",
      "[I 2025-05-16 16:29:14,016] Trial 36 finished with values: [0.7028593922795796, 0.07611308646821348] and parameters: {'max_depth': 5, 'eta': 0.2591615053831123, 'subsample': 0.9280242732927106, 'colsample_bytree': 0.6125460113935911}.\n",
      "[I 2025-05-16 16:29:14,155] Trial 37 finished with values: [0.6992721324130833, 0.08896038957818113] and parameters: {'max_depth': 6, 'eta': 0.20638955572480683, 'subsample': 0.6944896501721741, 'colsample_bytree': 0.8528948348493692}.\n",
      "[I 2025-05-16 16:29:14,358] Trial 38 finished with values: [0.7242711368029581, 0.0928805125678935] and parameters: {'max_depth': 7, 'eta': 0.29667787944648544, 'subsample': 0.992899140584202, 'colsample_bytree': 0.9269054759494944}.\n",
      "[I 2025-05-16 16:29:14,512] Trial 39 finished with values: [0.6742884451020577, 0.04643424692276863] and parameters: {'max_depth': 4, 'eta': 0.042905358257678945, 'subsample': 0.8405276459664961, 'colsample_bytree': 0.9582929515158338}.\n",
      "[I 2025-05-16 16:29:14,638] Trial 40 finished with values: [0.6907252024151971, 0.08299045533402392] and parameters: {'max_depth': 5, 'eta': 0.12611442914889834, 'subsample': 0.6217874558798429, 'colsample_bytree': 0.8497358210618225}.\n",
      "[I 2025-05-16 16:29:14,787] Trial 41 finished with values: [0.6635879338179658, 0.023606219926040672] and parameters: {'max_depth': 3, 'eta': 0.030003401792269478, 'subsample': 0.7784477421010509, 'colsample_bytree': 0.9306102123988497}.\n",
      "[I 2025-05-16 16:29:14,901] Trial 42 finished with values: [0.6564379214111319, 0.021108820243518418] and parameters: {'max_depth': 3, 'eta': 0.07586430864572759, 'subsample': 0.952922488015423, 'colsample_bytree': 0.9536512004522116}.\n",
      "[I 2025-05-16 16:29:15,053] Trial 43 finished with values: [0.6614435427790696, 0.04046722950987027] and parameters: {'max_depth': 3, 'eta': 0.05286742429029208, 'subsample': 0.9489447102438757, 'colsample_bytree': 0.6023075772954783}.\n",
      "[I 2025-05-16 16:29:15,200] Trial 44 finished with values: [0.6771404851837897, 0.0752851866285277] and parameters: {'max_depth': 5, 'eta': 0.07178505627869837, 'subsample': 0.7227644444439636, 'colsample_bytree': 0.9021551300966975}.\n",
      "[I 2025-05-16 16:29:15,365] Trial 45 finished with values: [0.6835690631768235, 0.07797323628876256] and parameters: {'max_depth': 6, 'eta': 0.10948569543085687, 'subsample': 0.7693247468809573, 'colsample_bytree': 0.8608580970215867}.\n",
      "[I 2025-05-16 16:29:15,510] Trial 46 finished with values: [0.6900114265408216, 0.06268055265648012] and parameters: {'max_depth': 5, 'eta': 0.16265289079720643, 'subsample': 0.9514733590504676, 'colsample_bytree': 0.6054836069410625}.\n",
      "[I 2025-05-16 16:29:15,655] Trial 47 finished with values: [0.709274184901649, 0.0975088361830788] and parameters: {'max_depth': 7, 'eta': 0.2035100266237558, 'subsample': 0.988121184278624, 'colsample_bytree': 0.8190495791723346}.\n",
      "[I 2025-05-16 16:29:15,853] Trial 48 finished with values: [0.6785772271798501, 0.0728230787612464] and parameters: {'max_depth': 6, 'eta': 0.05947722145891794, 'subsample': 0.6350299503577703, 'colsample_bytree': 0.7183160858015619}.\n",
      "[I 2025-05-16 16:29:16,000] Trial 49 finished with values: [0.6842813073433139, 0.07772566256272351] and parameters: {'max_depth': 5, 'eta': 0.1159189978831835, 'subsample': 0.8025072138830857, 'colsample_bytree': 0.8409869886648911}.\n",
      "[I 2025-05-16 16:29:16,018] A new study created in memory with name: no-name-b52ad9fd-9492-45e2-a79b-a16773aea9db\n",
      "[I 2025-05-16 16:29:16,173] Trial 0 finished with values: [0.6871547913354349, 0.07509918158700211] and parameters: {'max_depth': 5, 'eta': 0.22184609809160852, 'subsample': 0.6422854958395616, 'colsample_bytree': 0.9785962528936369}.\n"
     ]
    },
    {
     "name": "stdout",
     "output_type": "stream",
     "text": [
      "Completed study for alpha=1\n",
      "[{'accuracy': 0.5000061268315397, 'dpd': 0.0, 'alpha': 0, 'params': {'alpha': 0, 'max_depth': 7, 'eta': 0.27116171617649165, 'subsample': 0.7269463254606328, 'colsample_bytree': 0.9728224999470233}}, {'accuracy': 0.6614404793632996, 'dpd': 0.02108973425244622, 'alpha': 1, 'params': {'alpha': 1, 'max_depth': 3, 'eta': 0.12405963726342151, 'subsample': 0.988569064147095, 'colsample_bytree': 0.9609661355808808}}]\n",
      "0\n"
     ]
    },
    {
     "name": "stderr",
     "output_type": "stream",
     "text": [
      "[I 2025-05-16 16:29:16,307] Trial 1 finished with values: [0.6700149801031147, 0.03769900950832727] and parameters: {'max_depth': 3, 'eta': 0.21993662765015007, 'subsample': 0.7073724097825345, 'colsample_bytree': 0.7230577635579022}.\n",
      "[I 2025-05-16 16:29:16,516] Trial 2 finished with values: [0.6693012042287392, 0.03854497802997558] and parameters: {'max_depth': 4, 'eta': 0.03253760214907243, 'subsample': 0.658715987919677, 'colsample_bytree': 0.9058659661805266}.\n",
      "[I 2025-05-16 16:29:16,667] Trial 3 finished with values: [0.6849935515098045, 0.044985769413101784] and parameters: {'max_depth': 7, 'eta': 0.17212068410182302, 'subsample': 0.9734395485604017, 'colsample_bytree': 0.6864049830524811}.\n",
      "[I 2025-05-16 16:29:16,801] Trial 4 finished with values: [0.6828706043812972, 0.05656055547910809] and parameters: {'max_depth': 4, 'eta': 0.24491174936806678, 'subsample': 0.8110930651722075, 'colsample_bytree': 0.7921512131361431}.\n",
      "[I 2025-05-16 16:29:16,920] Trial 5 finished with values: [0.6628649676962808, 0.05443024154557128] and parameters: {'max_depth': 3, 'eta': 0.20801061626975428, 'subsample': 0.6534936097896767, 'colsample_bytree': 0.8379978905038682}.\n",
      "[I 2025-05-16 16:29:17,040] Trial 6 finished with values: [0.672877742140041, 0.03099364391620073] and parameters: {'max_depth': 3, 'eta': 0.15856562035355812, 'subsample': 0.6680886012273417, 'colsample_bytree': 0.983821393698325}.\n",
      "[I 2025-05-16 16:29:17,195] Trial 7 finished with values: [0.6685782381070542, 0.03865246149950822] and parameters: {'max_depth': 5, 'eta': 0.11008350782431253, 'subsample': 0.7930896335715388, 'colsample_bytree': 0.7010221109749165}.\n",
      "[I 2025-05-16 16:29:17,362] Trial 8 finished with values: [0.6835721265925933, 0.05169233058153522] and parameters: {'max_depth': 5, 'eta': 0.2349287773432275, 'subsample': 0.7946116884360647, 'colsample_bytree': 0.9687152285616449}.\n",
      "[I 2025-05-16 16:29:17,568] Trial 9 finished with values: [0.6642894560292617, 0.0504507307270843] and parameters: {'max_depth': 7, 'eta': 0.05786761509519363, 'subsample': 0.9062288081967111, 'colsample_bytree': 0.7107357935986027}.\n",
      "[I 2025-05-16 16:29:17,736] Trial 10 finished with values: [0.6735762009355671, 0.05649062898572683] and parameters: {'max_depth': 7, 'eta': 0.1260791553474242, 'subsample': 0.751065158502409, 'colsample_bytree': 0.7319858776260812}.\n",
      "[I 2025-05-16 16:29:17,885] Trial 11 finished with values: [0.6721471174789313, 0.03890381742471538] and parameters: {'max_depth': 4, 'eta': 0.10827431865079351, 'subsample': 0.6569917163884708, 'colsample_bytree': 0.646019070922255}.\n",
      "[I 2025-05-16 16:29:18,012] Trial 12 finished with values: [0.6700165118109996, 0.05355185913858554] and parameters: {'max_depth': 3, 'eta': 0.1876662887191999, 'subsample': 0.8778100912527563, 'colsample_bytree': 0.7210896006884545}.\n",
      "[I 2025-05-16 16:29:18,187] Trial 13 finished with values: [0.6821522333832669, 0.050781748967188366] and parameters: {'max_depth': 7, 'eta': 0.07862722559651958, 'subsample': 0.805689773639246, 'colsample_bytree': 0.6165651500618244}.\n",
      "[I 2025-05-16 16:29:18,372] Trial 14 finished with values: [0.6921466273324081, 0.06881206332656734] and parameters: {'max_depth': 5, 'eta': 0.2259676894177174, 'subsample': 0.90960954049895, 'colsample_bytree': 0.9263107369668803}.\n",
      "[W 2025-05-16 16:29:18,422] Trial 15 failed with parameters: {'max_depth': 3, 'eta': 0.11342478854362144, 'subsample': 0.6212091422806993, 'colsample_bytree': 0.908693267569705} because of the following error: KeyboardInterrupt().\n",
      "Traceback (most recent call last):\n",
      "  File \"c:\\Users\\ayush\\OneDrive - iiit-b\\CollegeAcads\\Sem6\\MOML\\Project\\env\\Lib\\site-packages\\optuna\\study\\_optimize.py\", line 197, in _run_trial\n",
      "    value_or_values = func(trial)\n",
      "  File \"C:\\Users\\ayush\\AppData\\Local\\Temp\\ipykernel_12120\\2963255722.py\", line 66, in objective\n",
      "    bst = xgb.train(\n",
      "        params,\n",
      "    ...<5 lines>...\n",
      "        verbose_eval=False\n",
      "    )\n",
      "  File \"c:\\Users\\ayush\\OneDrive - iiit-b\\CollegeAcads\\Sem6\\MOML\\Project\\env\\Lib\\site-packages\\xgboost\\core.py\", line 729, in inner_f\n",
      "    return func(**kwargs)\n",
      "  File \"c:\\Users\\ayush\\OneDrive - iiit-b\\CollegeAcads\\Sem6\\MOML\\Project\\env\\Lib\\site-packages\\xgboost\\training.py\", line 183, in train\n",
      "    bst.update(dtrain, iteration=i, fobj=obj)\n",
      "    ~~~~~~~~~~^^^^^^^^^^^^^^^^^^^^^^^^^^^^^^^\n",
      "  File \"c:\\Users\\ayush\\OneDrive - iiit-b\\CollegeAcads\\Sem6\\MOML\\Project\\env\\Lib\\site-packages\\xgboost\\core.py\", line 2254, in update\n",
      "    self.boost(dtrain, iteration=iteration, grad=grad, hess=hess)\n",
      "    ~~~~~~~~~~^^^^^^^^^^^^^^^^^^^^^^^^^^^^^^^^^^^^^^^^^^^^^^^^^^^\n",
      "  File \"c:\\Users\\ayush\\OneDrive - iiit-b\\CollegeAcads\\Sem6\\MOML\\Project\\env\\Lib\\site-packages\\xgboost\\core.py\", line 2309, in boost\n",
      "    _LIB.XGBoosterTrainOneIter(\n",
      "    ~~~~~~~~~~~~~~~~~~~~~~~~~~^\n",
      "        self.handle,\n",
      "        ^^^^^^^^^^^^\n",
      "    ...<3 lines>...\n",
      "        grad_arrinf(hess),\n",
      "        ^^^^^^^^^^^^^^^^^^\n",
      "    )\n",
      "    ^\n",
      "KeyboardInterrupt\n",
      "[W 2025-05-16 16:29:18,513] Trial 15 failed with value None.\n"
     ]
    },
    {
     "ename": "KeyboardInterrupt",
     "evalue": "",
     "output_type": "error",
     "traceback": [
      "\u001b[31m---------------------------------------------------------------------------\u001b[39m",
      "\u001b[31mKeyboardInterrupt\u001b[39m                         Traceback (most recent call last)",
      "\u001b[36mCell\u001b[39m\u001b[36m \u001b[39m\u001b[32mIn[9]\u001b[39m\u001b[32m, line 79\u001b[39m\n\u001b[32m     77\u001b[39m study = optuna.create_study(directions=[\u001b[33m'\u001b[39m\u001b[33mmaximize\u001b[39m\u001b[33m'\u001b[39m, \u001b[33m'\u001b[39m\u001b[33mminimize\u001b[39m\u001b[33m'\u001b[39m])\n\u001b[32m     78\u001b[39m objective = create_objective_function(alpha=alpha)  \u001b[38;5;66;03m# Example alpha value\u001b[39;00m\n\u001b[32m---> \u001b[39m\u001b[32m79\u001b[39m \u001b[43mstudy\u001b[49m\u001b[43m.\u001b[49m\u001b[43moptimize\u001b[49m\u001b[43m(\u001b[49m\u001b[43mobjective\u001b[49m\u001b[43m,\u001b[49m\u001b[43m \u001b[49m\u001b[43mn_trials\u001b[49m\u001b[43m=\u001b[49m\u001b[43mtrials_per_alpha\u001b[49m\u001b[43m)\u001b[49m\n\u001b[32m     80\u001b[39m \u001b[38;5;28mprint\u001b[39m(\u001b[33mf\u001b[39m\u001b[33m\"\u001b[39m\u001b[33mCompleted study for alpha=\u001b[39m\u001b[38;5;132;01m{\u001b[39;00malpha\u001b[38;5;132;01m}\u001b[39;00m\u001b[33m\"\u001b[39m)\n\u001b[32m     81\u001b[39m max_val = \u001b[32m0\u001b[39m\n",
      "\u001b[36mFile \u001b[39m\u001b[32mc:\\Users\\ayush\\OneDrive - iiit-b\\CollegeAcads\\Sem6\\MOML\\Project\\env\\Lib\\site-packages\\optuna\\study\\study.py:475\u001b[39m, in \u001b[36mStudy.optimize\u001b[39m\u001b[34m(self, func, n_trials, timeout, n_jobs, catch, callbacks, gc_after_trial, show_progress_bar)\u001b[39m\n\u001b[32m    373\u001b[39m \u001b[38;5;28;01mdef\u001b[39;00m\u001b[38;5;250m \u001b[39m\u001b[34moptimize\u001b[39m(\n\u001b[32m    374\u001b[39m     \u001b[38;5;28mself\u001b[39m,\n\u001b[32m    375\u001b[39m     func: ObjectiveFuncType,\n\u001b[32m   (...)\u001b[39m\u001b[32m    382\u001b[39m     show_progress_bar: \u001b[38;5;28mbool\u001b[39m = \u001b[38;5;28;01mFalse\u001b[39;00m,\n\u001b[32m    383\u001b[39m ) -> \u001b[38;5;28;01mNone\u001b[39;00m:\n\u001b[32m    384\u001b[39m \u001b[38;5;250m    \u001b[39m\u001b[33;03m\"\"\"Optimize an objective function.\u001b[39;00m\n\u001b[32m    385\u001b[39m \n\u001b[32m    386\u001b[39m \u001b[33;03m    Optimization is done by choosing a suitable set of hyperparameter values from a given\u001b[39;00m\n\u001b[32m   (...)\u001b[39m\u001b[32m    473\u001b[39m \u001b[33;03m            If nested invocation of this method occurs.\u001b[39;00m\n\u001b[32m    474\u001b[39m \u001b[33;03m    \"\"\"\u001b[39;00m\n\u001b[32m--> \u001b[39m\u001b[32m475\u001b[39m     \u001b[43m_optimize\u001b[49m\u001b[43m(\u001b[49m\n\u001b[32m    476\u001b[39m \u001b[43m        \u001b[49m\u001b[43mstudy\u001b[49m\u001b[43m=\u001b[49m\u001b[38;5;28;43mself\u001b[39;49m\u001b[43m,\u001b[49m\n\u001b[32m    477\u001b[39m \u001b[43m        \u001b[49m\u001b[43mfunc\u001b[49m\u001b[43m=\u001b[49m\u001b[43mfunc\u001b[49m\u001b[43m,\u001b[49m\n\u001b[32m    478\u001b[39m \u001b[43m        \u001b[49m\u001b[43mn_trials\u001b[49m\u001b[43m=\u001b[49m\u001b[43mn_trials\u001b[49m\u001b[43m,\u001b[49m\n\u001b[32m    479\u001b[39m \u001b[43m        \u001b[49m\u001b[43mtimeout\u001b[49m\u001b[43m=\u001b[49m\u001b[43mtimeout\u001b[49m\u001b[43m,\u001b[49m\n\u001b[32m    480\u001b[39m \u001b[43m        \u001b[49m\u001b[43mn_jobs\u001b[49m\u001b[43m=\u001b[49m\u001b[43mn_jobs\u001b[49m\u001b[43m,\u001b[49m\n\u001b[32m    481\u001b[39m \u001b[43m        \u001b[49m\u001b[43mcatch\u001b[49m\u001b[43m=\u001b[49m\u001b[38;5;28;43mtuple\u001b[39;49m\u001b[43m(\u001b[49m\u001b[43mcatch\u001b[49m\u001b[43m)\u001b[49m\u001b[43m \u001b[49m\u001b[38;5;28;43;01mif\u001b[39;49;00m\u001b[43m \u001b[49m\u001b[38;5;28;43misinstance\u001b[39;49m\u001b[43m(\u001b[49m\u001b[43mcatch\u001b[49m\u001b[43m,\u001b[49m\u001b[43m \u001b[49m\u001b[43mIterable\u001b[49m\u001b[43m)\u001b[49m\u001b[43m \u001b[49m\u001b[38;5;28;43;01melse\u001b[39;49;00m\u001b[43m \u001b[49m\u001b[43m(\u001b[49m\u001b[43mcatch\u001b[49m\u001b[43m,\u001b[49m\u001b[43m)\u001b[49m\u001b[43m,\u001b[49m\n\u001b[32m    482\u001b[39m \u001b[43m        \u001b[49m\u001b[43mcallbacks\u001b[49m\u001b[43m=\u001b[49m\u001b[43mcallbacks\u001b[49m\u001b[43m,\u001b[49m\n\u001b[32m    483\u001b[39m \u001b[43m        \u001b[49m\u001b[43mgc_after_trial\u001b[49m\u001b[43m=\u001b[49m\u001b[43mgc_after_trial\u001b[49m\u001b[43m,\u001b[49m\n\u001b[32m    484\u001b[39m \u001b[43m        \u001b[49m\u001b[43mshow_progress_bar\u001b[49m\u001b[43m=\u001b[49m\u001b[43mshow_progress_bar\u001b[49m\u001b[43m,\u001b[49m\n\u001b[32m    485\u001b[39m \u001b[43m    \u001b[49m\u001b[43m)\u001b[49m\n",
      "\u001b[36mFile \u001b[39m\u001b[32mc:\\Users\\ayush\\OneDrive - iiit-b\\CollegeAcads\\Sem6\\MOML\\Project\\env\\Lib\\site-packages\\optuna\\study\\_optimize.py:63\u001b[39m, in \u001b[36m_optimize\u001b[39m\u001b[34m(study, func, n_trials, timeout, n_jobs, catch, callbacks, gc_after_trial, show_progress_bar)\u001b[39m\n\u001b[32m     61\u001b[39m \u001b[38;5;28;01mtry\u001b[39;00m:\n\u001b[32m     62\u001b[39m     \u001b[38;5;28;01mif\u001b[39;00m n_jobs == \u001b[32m1\u001b[39m:\n\u001b[32m---> \u001b[39m\u001b[32m63\u001b[39m         \u001b[43m_optimize_sequential\u001b[49m\u001b[43m(\u001b[49m\n\u001b[32m     64\u001b[39m \u001b[43m            \u001b[49m\u001b[43mstudy\u001b[49m\u001b[43m,\u001b[49m\n\u001b[32m     65\u001b[39m \u001b[43m            \u001b[49m\u001b[43mfunc\u001b[49m\u001b[43m,\u001b[49m\n\u001b[32m     66\u001b[39m \u001b[43m            \u001b[49m\u001b[43mn_trials\u001b[49m\u001b[43m,\u001b[49m\n\u001b[32m     67\u001b[39m \u001b[43m            \u001b[49m\u001b[43mtimeout\u001b[49m\u001b[43m,\u001b[49m\n\u001b[32m     68\u001b[39m \u001b[43m            \u001b[49m\u001b[43mcatch\u001b[49m\u001b[43m,\u001b[49m\n\u001b[32m     69\u001b[39m \u001b[43m            \u001b[49m\u001b[43mcallbacks\u001b[49m\u001b[43m,\u001b[49m\n\u001b[32m     70\u001b[39m \u001b[43m            \u001b[49m\u001b[43mgc_after_trial\u001b[49m\u001b[43m,\u001b[49m\n\u001b[32m     71\u001b[39m \u001b[43m            \u001b[49m\u001b[43mreseed_sampler_rng\u001b[49m\u001b[43m=\u001b[49m\u001b[38;5;28;43;01mFalse\u001b[39;49;00m\u001b[43m,\u001b[49m\n\u001b[32m     72\u001b[39m \u001b[43m            \u001b[49m\u001b[43mtime_start\u001b[49m\u001b[43m=\u001b[49m\u001b[38;5;28;43;01mNone\u001b[39;49;00m\u001b[43m,\u001b[49m\n\u001b[32m     73\u001b[39m \u001b[43m            \u001b[49m\u001b[43mprogress_bar\u001b[49m\u001b[43m=\u001b[49m\u001b[43mprogress_bar\u001b[49m\u001b[43m,\u001b[49m\n\u001b[32m     74\u001b[39m \u001b[43m        \u001b[49m\u001b[43m)\u001b[49m\n\u001b[32m     75\u001b[39m     \u001b[38;5;28;01melse\u001b[39;00m:\n\u001b[32m     76\u001b[39m         \u001b[38;5;28;01mif\u001b[39;00m n_jobs == -\u001b[32m1\u001b[39m:\n",
      "\u001b[36mFile \u001b[39m\u001b[32mc:\\Users\\ayush\\OneDrive - iiit-b\\CollegeAcads\\Sem6\\MOML\\Project\\env\\Lib\\site-packages\\optuna\\study\\_optimize.py:160\u001b[39m, in \u001b[36m_optimize_sequential\u001b[39m\u001b[34m(study, func, n_trials, timeout, catch, callbacks, gc_after_trial, reseed_sampler_rng, time_start, progress_bar)\u001b[39m\n\u001b[32m    157\u001b[39m         \u001b[38;5;28;01mbreak\u001b[39;00m\n\u001b[32m    159\u001b[39m \u001b[38;5;28;01mtry\u001b[39;00m:\n\u001b[32m--> \u001b[39m\u001b[32m160\u001b[39m     frozen_trial = \u001b[43m_run_trial\u001b[49m\u001b[43m(\u001b[49m\u001b[43mstudy\u001b[49m\u001b[43m,\u001b[49m\u001b[43m \u001b[49m\u001b[43mfunc\u001b[49m\u001b[43m,\u001b[49m\u001b[43m \u001b[49m\u001b[43mcatch\u001b[49m\u001b[43m)\u001b[49m\n\u001b[32m    161\u001b[39m \u001b[38;5;28;01mfinally\u001b[39;00m:\n\u001b[32m    162\u001b[39m     \u001b[38;5;66;03m# The following line mitigates memory problems that can be occurred in some\u001b[39;00m\n\u001b[32m    163\u001b[39m     \u001b[38;5;66;03m# environments (e.g., services that use computing containers such as GitHub Actions).\u001b[39;00m\n\u001b[32m    164\u001b[39m     \u001b[38;5;66;03m# Please refer to the following PR for further details:\u001b[39;00m\n\u001b[32m    165\u001b[39m     \u001b[38;5;66;03m# https://github.com/optuna/optuna/pull/325.\u001b[39;00m\n\u001b[32m    166\u001b[39m     \u001b[38;5;28;01mif\u001b[39;00m gc_after_trial:\n",
      "\u001b[36mFile \u001b[39m\u001b[32mc:\\Users\\ayush\\OneDrive - iiit-b\\CollegeAcads\\Sem6\\MOML\\Project\\env\\Lib\\site-packages\\optuna\\study\\_optimize.py:248\u001b[39m, in \u001b[36m_run_trial\u001b[39m\u001b[34m(study, func, catch)\u001b[39m\n\u001b[32m    241\u001b[39m         \u001b[38;5;28;01massert\u001b[39;00m \u001b[38;5;28;01mFalse\u001b[39;00m, \u001b[33m\"\u001b[39m\u001b[33mShould not reach.\u001b[39m\u001b[33m\"\u001b[39m\n\u001b[32m    243\u001b[39m \u001b[38;5;28;01mif\u001b[39;00m (\n\u001b[32m    244\u001b[39m     frozen_trial.state == TrialState.FAIL\n\u001b[32m    245\u001b[39m     \u001b[38;5;129;01mand\u001b[39;00m func_err \u001b[38;5;129;01mis\u001b[39;00m \u001b[38;5;129;01mnot\u001b[39;00m \u001b[38;5;28;01mNone\u001b[39;00m\n\u001b[32m    246\u001b[39m     \u001b[38;5;129;01mand\u001b[39;00m \u001b[38;5;129;01mnot\u001b[39;00m \u001b[38;5;28misinstance\u001b[39m(func_err, catch)\n\u001b[32m    247\u001b[39m ):\n\u001b[32m--> \u001b[39m\u001b[32m248\u001b[39m     \u001b[38;5;28;01mraise\u001b[39;00m func_err\n\u001b[32m    249\u001b[39m \u001b[38;5;28;01mreturn\u001b[39;00m frozen_trial\n",
      "\u001b[36mFile \u001b[39m\u001b[32mc:\\Users\\ayush\\OneDrive - iiit-b\\CollegeAcads\\Sem6\\MOML\\Project\\env\\Lib\\site-packages\\optuna\\study\\_optimize.py:197\u001b[39m, in \u001b[36m_run_trial\u001b[39m\u001b[34m(study, func, catch)\u001b[39m\n\u001b[32m    195\u001b[39m \u001b[38;5;28;01mwith\u001b[39;00m get_heartbeat_thread(trial._trial_id, study._storage):\n\u001b[32m    196\u001b[39m     \u001b[38;5;28;01mtry\u001b[39;00m:\n\u001b[32m--> \u001b[39m\u001b[32m197\u001b[39m         value_or_values = \u001b[43mfunc\u001b[49m\u001b[43m(\u001b[49m\u001b[43mtrial\u001b[49m\u001b[43m)\u001b[49m\n\u001b[32m    198\u001b[39m     \u001b[38;5;28;01mexcept\u001b[39;00m exceptions.TrialPruned \u001b[38;5;28;01mas\u001b[39;00m e:\n\u001b[32m    199\u001b[39m         \u001b[38;5;66;03m# TODO(mamu): Handle multi-objective cases.\u001b[39;00m\n\u001b[32m    200\u001b[39m         state = TrialState.PRUNED\n",
      "\u001b[36mCell\u001b[39m\u001b[36m \u001b[39m\u001b[32mIn[3]\u001b[39m\u001b[32m, line 66\u001b[39m, in \u001b[36mcreate_objective_function.<locals>.objective\u001b[39m\u001b[34m(trial)\u001b[39m\n\u001b[32m     58\u001b[39m \u001b[38;5;66;03m# Train the model\u001b[39;00m\n\u001b[32m     59\u001b[39m params = {\n\u001b[32m     60\u001b[39m     \u001b[33m'\u001b[39m\u001b[33mmax_depth\u001b[39m\u001b[33m'\u001b[39m: max_depth,\n\u001b[32m     61\u001b[39m     \u001b[33m'\u001b[39m\u001b[33meta\u001b[39m\u001b[33m'\u001b[39m: eta,\n\u001b[32m   (...)\u001b[39m\u001b[32m     64\u001b[39m     \u001b[33m'\u001b[39m\u001b[33mverbosity\u001b[39m\u001b[33m'\u001b[39m: \u001b[32m0\u001b[39m\n\u001b[32m     65\u001b[39m }\n\u001b[32m---> \u001b[39m\u001b[32m66\u001b[39m bst = \u001b[43mxgb\u001b[49m\u001b[43m.\u001b[49m\u001b[43mtrain\u001b[49m\u001b[43m(\u001b[49m\n\u001b[32m     67\u001b[39m \u001b[43m    \u001b[49m\u001b[43mparams\u001b[49m\u001b[43m,\u001b[49m\n\u001b[32m     68\u001b[39m \u001b[43m    \u001b[49m\u001b[43mdtrain\u001b[49m\u001b[43m,\u001b[49m\n\u001b[32m     69\u001b[39m \u001b[43m    \u001b[49m\u001b[43mnum_boost_round\u001b[49m\u001b[43m=\u001b[49m\u001b[32;43m100\u001b[39;49m\u001b[43m,\u001b[49m\n\u001b[32m     70\u001b[39m \u001b[43m    \u001b[49m\u001b[43mobj\u001b[49m\u001b[43m=\u001b[49m\u001b[43mtrain_obj\u001b[49m\u001b[43m,\u001b[49m\n\u001b[32m     71\u001b[39m \u001b[43m    \u001b[49m\u001b[43mevals\u001b[49m\u001b[43m=\u001b[49m\u001b[43m[\u001b[49m\u001b[43m(\u001b[49m\u001b[43mdtrain\u001b[49m\u001b[43m,\u001b[49m\u001b[43m \u001b[49m\u001b[33;43m'\u001b[39;49m\u001b[33;43mtrain\u001b[39;49m\u001b[33;43m'\u001b[39;49m\u001b[43m)\u001b[49m\u001b[43m,\u001b[49m\u001b[43m \u001b[49m\u001b[43m(\u001b[49m\u001b[43mdval\u001b[49m\u001b[43m,\u001b[49m\u001b[43m \u001b[49m\u001b[33;43m'\u001b[39;49m\u001b[33;43mval\u001b[39;49m\u001b[33;43m'\u001b[39;49m\u001b[43m)\u001b[49m\u001b[43m]\u001b[49m\u001b[43m,\u001b[49m\n\u001b[32m     72\u001b[39m \u001b[43m    \u001b[49m\u001b[43mearly_stopping_rounds\u001b[49m\u001b[43m=\u001b[49m\u001b[32;43m10\u001b[39;49m\u001b[43m,\u001b[49m\n\u001b[32m     73\u001b[39m \u001b[43m    \u001b[49m\u001b[43mverbose_eval\u001b[49m\u001b[43m=\u001b[49m\u001b[38;5;28;43;01mFalse\u001b[39;49;00m\n\u001b[32m     74\u001b[39m \u001b[43m\u001b[49m\u001b[43m)\u001b[49m\n\u001b[32m     76\u001b[39m \u001b[38;5;66;03m# Predict on validation set\u001b[39;00m\n\u001b[32m     77\u001b[39m pred_prob = bst.predict(dval)\n",
      "\u001b[36mFile \u001b[39m\u001b[32mc:\\Users\\ayush\\OneDrive - iiit-b\\CollegeAcads\\Sem6\\MOML\\Project\\env\\Lib\\site-packages\\xgboost\\core.py:729\u001b[39m, in \u001b[36mrequire_keyword_args.<locals>.throw_if.<locals>.inner_f\u001b[39m\u001b[34m(*args, **kwargs)\u001b[39m\n\u001b[32m    727\u001b[39m \u001b[38;5;28;01mfor\u001b[39;00m k, arg \u001b[38;5;129;01min\u001b[39;00m \u001b[38;5;28mzip\u001b[39m(sig.parameters, args):\n\u001b[32m    728\u001b[39m     kwargs[k] = arg\n\u001b[32m--> \u001b[39m\u001b[32m729\u001b[39m \u001b[38;5;28;01mreturn\u001b[39;00m \u001b[43mfunc\u001b[49m\u001b[43m(\u001b[49m\u001b[43m*\u001b[49m\u001b[43m*\u001b[49m\u001b[43mkwargs\u001b[49m\u001b[43m)\u001b[49m\n",
      "\u001b[36mFile \u001b[39m\u001b[32mc:\\Users\\ayush\\OneDrive - iiit-b\\CollegeAcads\\Sem6\\MOML\\Project\\env\\Lib\\site-packages\\xgboost\\training.py:183\u001b[39m, in \u001b[36mtrain\u001b[39m\u001b[34m(params, dtrain, num_boost_round, evals, obj, maximize, early_stopping_rounds, evals_result, verbose_eval, xgb_model, callbacks, custom_metric)\u001b[39m\n\u001b[32m    181\u001b[39m \u001b[38;5;28;01mif\u001b[39;00m cb_container.before_iteration(bst, i, dtrain, evals):\n\u001b[32m    182\u001b[39m     \u001b[38;5;28;01mbreak\u001b[39;00m\n\u001b[32m--> \u001b[39m\u001b[32m183\u001b[39m \u001b[43mbst\u001b[49m\u001b[43m.\u001b[49m\u001b[43mupdate\u001b[49m\u001b[43m(\u001b[49m\u001b[43mdtrain\u001b[49m\u001b[43m,\u001b[49m\u001b[43m \u001b[49m\u001b[43miteration\u001b[49m\u001b[43m=\u001b[49m\u001b[43mi\u001b[49m\u001b[43m,\u001b[49m\u001b[43m \u001b[49m\u001b[43mfobj\u001b[49m\u001b[43m=\u001b[49m\u001b[43mobj\u001b[49m\u001b[43m)\u001b[49m\n\u001b[32m    184\u001b[39m \u001b[38;5;28;01mif\u001b[39;00m cb_container.after_iteration(bst, i, dtrain, evals):\n\u001b[32m    185\u001b[39m     \u001b[38;5;28;01mbreak\u001b[39;00m\n",
      "\u001b[36mFile \u001b[39m\u001b[32mc:\\Users\\ayush\\OneDrive - iiit-b\\CollegeAcads\\Sem6\\MOML\\Project\\env\\Lib\\site-packages\\xgboost\\core.py:2254\u001b[39m, in \u001b[36mBooster.update\u001b[39m\u001b[34m(self, dtrain, iteration, fobj)\u001b[39m\n\u001b[32m   2252\u001b[39m pred = \u001b[38;5;28mself\u001b[39m.predict(dtrain, output_margin=\u001b[38;5;28;01mTrue\u001b[39;00m, training=\u001b[38;5;28;01mTrue\u001b[39;00m)\n\u001b[32m   2253\u001b[39m grad, hess = fobj(pred, dtrain)\n\u001b[32m-> \u001b[39m\u001b[32m2254\u001b[39m \u001b[38;5;28;43mself\u001b[39;49m\u001b[43m.\u001b[49m\u001b[43mboost\u001b[49m\u001b[43m(\u001b[49m\u001b[43mdtrain\u001b[49m\u001b[43m,\u001b[49m\u001b[43m \u001b[49m\u001b[43miteration\u001b[49m\u001b[43m=\u001b[49m\u001b[43miteration\u001b[49m\u001b[43m,\u001b[49m\u001b[43m \u001b[49m\u001b[43mgrad\u001b[49m\u001b[43m=\u001b[49m\u001b[43mgrad\u001b[49m\u001b[43m,\u001b[49m\u001b[43m \u001b[49m\u001b[43mhess\u001b[49m\u001b[43m=\u001b[49m\u001b[43mhess\u001b[49m\u001b[43m)\u001b[49m\n",
      "\u001b[36mFile \u001b[39m\u001b[32mc:\\Users\\ayush\\OneDrive - iiit-b\\CollegeAcads\\Sem6\\MOML\\Project\\env\\Lib\\site-packages\\xgboost\\core.py:2309\u001b[39m, in \u001b[36mBooster.boost\u001b[39m\u001b[34m(self, dtrain, iteration, grad, hess)\u001b[39m\n\u001b[32m   2304\u001b[39m         \u001b[38;5;28;01mraise\u001b[39;00m \u001b[38;5;167;01mTypeError\u001b[39;00m(msg)\n\u001b[32m   2306\u001b[39m     \u001b[38;5;28;01mreturn\u001b[39;00m interface\n\u001b[32m   2308\u001b[39m _check_call(\n\u001b[32m-> \u001b[39m\u001b[32m2309\u001b[39m     \u001b[43m_LIB\u001b[49m\u001b[43m.\u001b[49m\u001b[43mXGBoosterTrainOneIter\u001b[49m\u001b[43m(\u001b[49m\n\u001b[32m   2310\u001b[39m \u001b[43m        \u001b[49m\u001b[38;5;28;43mself\u001b[39;49m\u001b[43m.\u001b[49m\u001b[43mhandle\u001b[49m\u001b[43m,\u001b[49m\n\u001b[32m   2311\u001b[39m \u001b[43m        \u001b[49m\u001b[43mdtrain\u001b[49m\u001b[43m.\u001b[49m\u001b[43mhandle\u001b[49m\u001b[43m,\u001b[49m\n\u001b[32m   2312\u001b[39m \u001b[43m        \u001b[49m\u001b[43miteration\u001b[49m\u001b[43m,\u001b[49m\n\u001b[32m   2313\u001b[39m \u001b[43m        \u001b[49m\u001b[43mgrad_arrinf\u001b[49m\u001b[43m(\u001b[49m\u001b[43mgrad\u001b[49m\u001b[43m)\u001b[49m\u001b[43m,\u001b[49m\n\u001b[32m   2314\u001b[39m \u001b[43m        \u001b[49m\u001b[43mgrad_arrinf\u001b[49m\u001b[43m(\u001b[49m\u001b[43mhess\u001b[49m\u001b[43m)\u001b[49m\u001b[43m,\u001b[49m\n\u001b[32m   2315\u001b[39m \u001b[43m    \u001b[49m\u001b[43m)\u001b[49m\n\u001b[32m   2316\u001b[39m )\n",
      "\u001b[31mKeyboardInterrupt\u001b[39m: "
     ]
    }
   ],
   "source": [
    "\n",
    "# Create and run Optuna study for multi-objective optimization\n",
    "\n",
    "def test_loss(a,dpd,accuracy):\n",
    "    return (1-a)*(1-dpd) + a*accuracy\n",
    "\n",
    "def is_pareto_efficient(acc, dpd):\n",
    "    n_points = len(acc)\n",
    "    is_efficient = [True] * n_points\n",
    "    for i in range(n_points):\n",
    "        for j in range(n_points):\n",
    "            if (acc[j] >= acc[i] and dpd[j] <= dpd[i]) and (acc[j] > acc[i] or dpd[j] < dpd[i]):\n",
    "                is_efficient[i] = False\n",
    "                break\n",
    "    return is_efficient\n",
    "\n",
    "def normalise(value, min_val, max_val):\n",
    "    return (value - min_val) / (max_val - min_val)\n",
    "#adaptive weights based on distance\n",
    "\n",
    "results = []\n",
    "trials_per_alpha = 50\n",
    "study = optuna.create_study(directions=['maximize', 'minimize'])\n",
    "objective = create_objective_function(alpha=0)  # Example alpha value\n",
    "study.optimize(objective, n_trials=trials_per_alpha)\n",
    "print(f\"Completed study for alpha=0\")\n",
    "max_val = 0\n",
    "for trial in study.best_trials:\n",
    "    val = test_loss(0,trial.values[1],trial.values[0])\n",
    "    if val > max_val:\n",
    "        max_val = val\n",
    "        best_trial = trial\n",
    "results.append({\n",
    "    'accuracy': best_trial.values[0],\n",
    "    'dpd': best_trial.values[1],\n",
    "    'alpha': 0,\n",
    "    'params': best_trial.user_attrs['params']\n",
    "    })\n",
    "study = optuna.create_study(directions=['maximize', 'minimize'])\n",
    "objective = create_objective_function(alpha=1)  # Example alpha value\n",
    "study.optimize(objective, n_trials=trials_per_alpha)\n",
    "print(f\"Completed study for alpha=1\")\n",
    "max_val = 0\n",
    "for trial in study.best_trials:\n",
    "    val = test_loss(1,trial.values[1],trial.values[0])\n",
    "    if val > max_val:\n",
    "        max_val = val\n",
    "        best_trial = trial\n",
    "results.append({\n",
    "    'accuracy': best_trial.values[0],\n",
    "    'dpd': best_trial.values[1],\n",
    "    'alpha': 1,\n",
    "    'params': best_trial.user_attrs['params']\n",
    "})\n",
    "print(results)\n",
    "\n",
    "max_acc = max([res['accuracy'] for res in results])\n",
    "max_dpd = max([res['dpd'] for res in results])\n",
    "min_acc = min([res['accuracy'] for res in results])\n",
    "min_dpd = min([res['dpd'] for res in results])\n",
    "count_alpha = 20\n",
    "\n",
    "\n",
    "\n",
    "for j in range(count_alpha):\n",
    "    print(j)\n",
    "    \n",
    "    results.sort(key=lambda x: x['alpha'])\n",
    "    max_dist = 0\n",
    "    for i in range(len(results)-1):\n",
    "        acc_dist = (normalise(results[i]['accuracy'],min_acc,max_acc)-normalise(results[i+1]['accuracy'],min_acc,max_acc))**2\n",
    "        dpd_dist = (normalise(results[i]['dpd'],min_dpd,max_dpd)-normalise(results[i+1]['dpd'],min_dpd,max_dpd))**2\n",
    "\n",
    "        dist = np.sqrt(acc_dist + dpd_dist)\n",
    "        if dist > max_dist:\n",
    "            max_dist = dist\n",
    "            alpha = (results[i]['alpha']+results[i+1]['alpha'])/2\n",
    "    study = optuna.create_study(directions=['maximize', 'minimize'])\n",
    "    objective = create_objective_function(alpha=alpha)  # Example alpha value\n",
    "    study.optimize(objective, n_trials=trials_per_alpha)\n",
    "    print(f\"Completed study for alpha={alpha}\")\n",
    "    max_val = 0\n",
    "    for trial in study.best_trials:\n",
    "        val = test_loss(alpha,trial.values[1],trial.values[0])\n",
    "        if val > max_val:\n",
    "            max_val = val\n",
    "            best_trial = trial\n",
    "        \n",
    "    results.append({\n",
    "        'accuracy': best_trial.values[0],\n",
    "        'dpd': best_trial.values[1],\n",
    "        'alpha': alpha,\n",
    "        'params': best_trial.user_attrs['params']\n",
    "    })\n",
    "    max_acc = max(max_acc, best_trial.values[0])\n",
    "    max_dpd = max(max_dpd, best_trial.values[1])\n",
    "    min_acc = min(min_acc, best_trial.values[0])\n",
    "    min_dpd = min(min_dpd, best_trial.values[1])\n",
    "acc = [res['accuracy'] for res in results]\n",
    "dpd = [res['dpd'] for res in results]\n",
    "is_efficient = is_pareto_efficient(acc, dpd)\n",
    "# Filter results to only include Pareto-optimal solutions\n",
    "results = [res for res, efficient in zip(results, is_efficient) if efficient]\n",
    "    \n",
    "\n",
    "# Print summary of Pareto-optimal results\n",
    "print(\"Pareto-optimal solutions:\")\n",
    "for res in results:\n",
    "    print(f\"Params: {res['params']}, Accuracy: {res['accuracy']:.4f}, DPD: {res['dpd']:.4f}\")\n",
    "\n",
    "# Prepare data for plotting\n",
    "plot_df = pd.DataFrame({\n",
    "    'DPD': [res['dpd'] for res in results],\n",
    "    'Accuracy': [res['accuracy'] for res in results],\n",
    "    'alpha': [res['alpha'] for res in results]\n",
    "})\n",
    "\n"
   ]
  },
  {
   "cell_type": "code",
   "execution_count": 7,
   "id": "8b2fdaf6",
   "metadata": {},
   "outputs": [
    {
     "data": {
      "application/vnd.plotly.v1+json": {
       "config": {
        "plotlyServerURL": "https://plot.ly"
       },
       "data": [
        {
         "customdata": {
          "bdata": "AAAAAAAAAAAAAAAAAACQPwAAAAAAAJQ/AAAAAAAAlj8AAAAAAICWPwAAAAAAoJY/AAAAAACylj8AAAAAALSWPwAAAAAAwJY/AAAAAAAAlz8AAAAAAACgPwAAAAAAANw/AAAAAAAA4D8AAAAAAADwPwAAAAAAs5Y/",
          "dtype": "f8",
          "shape": "15, 1"
         },
         "hovertemplate": "DPD=%{x}<br>Accuracy=%{y}<br>alpha=%{marker.color}<extra></extra>",
         "legendgroup": "",
         "marker": {
          "color": {
           "bdata": "AAAAAAAAAAAAAAAAAACQPwAAAAAAAJQ/AAAAAAAAlj8AAAAAAICWPwAAAAAAoJY/AAAAAACylj8AAAAAALSWPwAAAAAAwJY/AAAAAAAAlz8AAAAAAACgPwAAAAAAANw/AAAAAAAA4D8AAAAAAADwPwAAAAAAs5Y/",
           "dtype": "f8"
          },
          "coloraxis": "coloraxis",
          "line": {
           "width": 0
          },
          "symbol": "circle"
         },
         "mode": "markers",
         "name": "",
         "orientation": "v",
         "showlegend": false,
         "type": "scatter",
         "x": {
          "bdata": "AAAAAAAAAAAAAAAAAAAAAFUpO0fGrgU/1fUyig6WZj/V9TKKDpZmPwAAAAAAAAAAdS8xxBlzbz/A6oWwQLKBP8DqhbBAsoE/wOqFsECygT/A6oWwQLKBPxXlxduuNZ0/BeUilKOFqT/5Q4XiT8iyP8DqhbBAsoE/",
          "dtype": "f8"
         },
         "xaxis": "x",
         "y": {
          "bdata": "nlBR2QwA4D+eUFHZDADgPxnuJ5wRKeA/j6EKjNXU4T+PoQqM1dThP55QUdkMAOA/MPbf9CmE4j9tWxyhI4jlP21bHKEjiOU/bVscoSOI5T9tWxyhI4jlP1+QRWG+meU/4+nCpNRU5j/BkkY6W3nnP21bHKEjiOU/",
          "dtype": "f8"
         },
         "yaxis": "y"
        }
       ],
       "layout": {
        "coloraxis": {
         "colorbar": {
          "title": {
           "text": "alpha"
          }
         },
         "colorscale": [
          [
           0,
           "#440154"
          ],
          [
           0.1111111111111111,
           "#482878"
          ],
          [
           0.2222222222222222,
           "#3e4989"
          ],
          [
           0.3333333333333333,
           "#31688e"
          ],
          [
           0.4444444444444444,
           "#26828e"
          ],
          [
           0.5555555555555556,
           "#1f9e89"
          ],
          [
           0.6666666666666666,
           "#35b779"
          ],
          [
           0.7777777777777778,
           "#6ece58"
          ],
          [
           0.8888888888888888,
           "#b5de2b"
          ],
          [
           1,
           "#fde725"
          ]
         ]
        },
        "legend": {
         "tracegroupgap": 0
        },
        "template": {
         "data": {
          "bar": [
           {
            "error_x": {
             "color": "#2a3f5f"
            },
            "error_y": {
             "color": "#2a3f5f"
            },
            "marker": {
             "line": {
              "color": "#E5ECF6",
              "width": 0.5
             },
             "pattern": {
              "fillmode": "overlay",
              "size": 10,
              "solidity": 0.2
             }
            },
            "type": "bar"
           }
          ],
          "barpolar": [
           {
            "marker": {
             "line": {
              "color": "#E5ECF6",
              "width": 0.5
             },
             "pattern": {
              "fillmode": "overlay",
              "size": 10,
              "solidity": 0.2
             }
            },
            "type": "barpolar"
           }
          ],
          "carpet": [
           {
            "aaxis": {
             "endlinecolor": "#2a3f5f",
             "gridcolor": "white",
             "linecolor": "white",
             "minorgridcolor": "white",
             "startlinecolor": "#2a3f5f"
            },
            "baxis": {
             "endlinecolor": "#2a3f5f",
             "gridcolor": "white",
             "linecolor": "white",
             "minorgridcolor": "white",
             "startlinecolor": "#2a3f5f"
            },
            "type": "carpet"
           }
          ],
          "choropleth": [
           {
            "colorbar": {
             "outlinewidth": 0,
             "ticks": ""
            },
            "type": "choropleth"
           }
          ],
          "contour": [
           {
            "colorbar": {
             "outlinewidth": 0,
             "ticks": ""
            },
            "colorscale": [
             [
              0,
              "#0d0887"
             ],
             [
              0.1111111111111111,
              "#46039f"
             ],
             [
              0.2222222222222222,
              "#7201a8"
             ],
             [
              0.3333333333333333,
              "#9c179e"
             ],
             [
              0.4444444444444444,
              "#bd3786"
             ],
             [
              0.5555555555555556,
              "#d8576b"
             ],
             [
              0.6666666666666666,
              "#ed7953"
             ],
             [
              0.7777777777777778,
              "#fb9f3a"
             ],
             [
              0.8888888888888888,
              "#fdca26"
             ],
             [
              1,
              "#f0f921"
             ]
            ],
            "type": "contour"
           }
          ],
          "contourcarpet": [
           {
            "colorbar": {
             "outlinewidth": 0,
             "ticks": ""
            },
            "type": "contourcarpet"
           }
          ],
          "heatmap": [
           {
            "colorbar": {
             "outlinewidth": 0,
             "ticks": ""
            },
            "colorscale": [
             [
              0,
              "#0d0887"
             ],
             [
              0.1111111111111111,
              "#46039f"
             ],
             [
              0.2222222222222222,
              "#7201a8"
             ],
             [
              0.3333333333333333,
              "#9c179e"
             ],
             [
              0.4444444444444444,
              "#bd3786"
             ],
             [
              0.5555555555555556,
              "#d8576b"
             ],
             [
              0.6666666666666666,
              "#ed7953"
             ],
             [
              0.7777777777777778,
              "#fb9f3a"
             ],
             [
              0.8888888888888888,
              "#fdca26"
             ],
             [
              1,
              "#f0f921"
             ]
            ],
            "type": "heatmap"
           }
          ],
          "histogram": [
           {
            "marker": {
             "pattern": {
              "fillmode": "overlay",
              "size": 10,
              "solidity": 0.2
             }
            },
            "type": "histogram"
           }
          ],
          "histogram2d": [
           {
            "colorbar": {
             "outlinewidth": 0,
             "ticks": ""
            },
            "colorscale": [
             [
              0,
              "#0d0887"
             ],
             [
              0.1111111111111111,
              "#46039f"
             ],
             [
              0.2222222222222222,
              "#7201a8"
             ],
             [
              0.3333333333333333,
              "#9c179e"
             ],
             [
              0.4444444444444444,
              "#bd3786"
             ],
             [
              0.5555555555555556,
              "#d8576b"
             ],
             [
              0.6666666666666666,
              "#ed7953"
             ],
             [
              0.7777777777777778,
              "#fb9f3a"
             ],
             [
              0.8888888888888888,
              "#fdca26"
             ],
             [
              1,
              "#f0f921"
             ]
            ],
            "type": "histogram2d"
           }
          ],
          "histogram2dcontour": [
           {
            "colorbar": {
             "outlinewidth": 0,
             "ticks": ""
            },
            "colorscale": [
             [
              0,
              "#0d0887"
             ],
             [
              0.1111111111111111,
              "#46039f"
             ],
             [
              0.2222222222222222,
              "#7201a8"
             ],
             [
              0.3333333333333333,
              "#9c179e"
             ],
             [
              0.4444444444444444,
              "#bd3786"
             ],
             [
              0.5555555555555556,
              "#d8576b"
             ],
             [
              0.6666666666666666,
              "#ed7953"
             ],
             [
              0.7777777777777778,
              "#fb9f3a"
             ],
             [
              0.8888888888888888,
              "#fdca26"
             ],
             [
              1,
              "#f0f921"
             ]
            ],
            "type": "histogram2dcontour"
           }
          ],
          "mesh3d": [
           {
            "colorbar": {
             "outlinewidth": 0,
             "ticks": ""
            },
            "type": "mesh3d"
           }
          ],
          "parcoords": [
           {
            "line": {
             "colorbar": {
              "outlinewidth": 0,
              "ticks": ""
             }
            },
            "type": "parcoords"
           }
          ],
          "pie": [
           {
            "automargin": true,
            "type": "pie"
           }
          ],
          "scatter": [
           {
            "fillpattern": {
             "fillmode": "overlay",
             "size": 10,
             "solidity": 0.2
            },
            "type": "scatter"
           }
          ],
          "scatter3d": [
           {
            "line": {
             "colorbar": {
              "outlinewidth": 0,
              "ticks": ""
             }
            },
            "marker": {
             "colorbar": {
              "outlinewidth": 0,
              "ticks": ""
             }
            },
            "type": "scatter3d"
           }
          ],
          "scattercarpet": [
           {
            "marker": {
             "colorbar": {
              "outlinewidth": 0,
              "ticks": ""
             }
            },
            "type": "scattercarpet"
           }
          ],
          "scattergeo": [
           {
            "marker": {
             "colorbar": {
              "outlinewidth": 0,
              "ticks": ""
             }
            },
            "type": "scattergeo"
           }
          ],
          "scattergl": [
           {
            "marker": {
             "colorbar": {
              "outlinewidth": 0,
              "ticks": ""
             }
            },
            "type": "scattergl"
           }
          ],
          "scattermap": [
           {
            "marker": {
             "colorbar": {
              "outlinewidth": 0,
              "ticks": ""
             }
            },
            "type": "scattermap"
           }
          ],
          "scattermapbox": [
           {
            "marker": {
             "colorbar": {
              "outlinewidth": 0,
              "ticks": ""
             }
            },
            "type": "scattermapbox"
           }
          ],
          "scatterpolar": [
           {
            "marker": {
             "colorbar": {
              "outlinewidth": 0,
              "ticks": ""
             }
            },
            "type": "scatterpolar"
           }
          ],
          "scatterpolargl": [
           {
            "marker": {
             "colorbar": {
              "outlinewidth": 0,
              "ticks": ""
             }
            },
            "type": "scatterpolargl"
           }
          ],
          "scatterternary": [
           {
            "marker": {
             "colorbar": {
              "outlinewidth": 0,
              "ticks": ""
             }
            },
            "type": "scatterternary"
           }
          ],
          "surface": [
           {
            "colorbar": {
             "outlinewidth": 0,
             "ticks": ""
            },
            "colorscale": [
             [
              0,
              "#0d0887"
             ],
             [
              0.1111111111111111,
              "#46039f"
             ],
             [
              0.2222222222222222,
              "#7201a8"
             ],
             [
              0.3333333333333333,
              "#9c179e"
             ],
             [
              0.4444444444444444,
              "#bd3786"
             ],
             [
              0.5555555555555556,
              "#d8576b"
             ],
             [
              0.6666666666666666,
              "#ed7953"
             ],
             [
              0.7777777777777778,
              "#fb9f3a"
             ],
             [
              0.8888888888888888,
              "#fdca26"
             ],
             [
              1,
              "#f0f921"
             ]
            ],
            "type": "surface"
           }
          ],
          "table": [
           {
            "cells": {
             "fill": {
              "color": "#EBF0F8"
             },
             "line": {
              "color": "white"
             }
            },
            "header": {
             "fill": {
              "color": "#C8D4E3"
             },
             "line": {
              "color": "white"
             }
            },
            "type": "table"
           }
          ]
         },
         "layout": {
          "annotationdefaults": {
           "arrowcolor": "#2a3f5f",
           "arrowhead": 0,
           "arrowwidth": 1
          },
          "autotypenumbers": "strict",
          "coloraxis": {
           "colorbar": {
            "outlinewidth": 0,
            "ticks": ""
           }
          },
          "colorscale": {
           "diverging": [
            [
             0,
             "#8e0152"
            ],
            [
             0.1,
             "#c51b7d"
            ],
            [
             0.2,
             "#de77ae"
            ],
            [
             0.3,
             "#f1b6da"
            ],
            [
             0.4,
             "#fde0ef"
            ],
            [
             0.5,
             "#f7f7f7"
            ],
            [
             0.6,
             "#e6f5d0"
            ],
            [
             0.7,
             "#b8e186"
            ],
            [
             0.8,
             "#7fbc41"
            ],
            [
             0.9,
             "#4d9221"
            ],
            [
             1,
             "#276419"
            ]
           ],
           "sequential": [
            [
             0,
             "#0d0887"
            ],
            [
             0.1111111111111111,
             "#46039f"
            ],
            [
             0.2222222222222222,
             "#7201a8"
            ],
            [
             0.3333333333333333,
             "#9c179e"
            ],
            [
             0.4444444444444444,
             "#bd3786"
            ],
            [
             0.5555555555555556,
             "#d8576b"
            ],
            [
             0.6666666666666666,
             "#ed7953"
            ],
            [
             0.7777777777777778,
             "#fb9f3a"
            ],
            [
             0.8888888888888888,
             "#fdca26"
            ],
            [
             1,
             "#f0f921"
            ]
           ],
           "sequentialminus": [
            [
             0,
             "#0d0887"
            ],
            [
             0.1111111111111111,
             "#46039f"
            ],
            [
             0.2222222222222222,
             "#7201a8"
            ],
            [
             0.3333333333333333,
             "#9c179e"
            ],
            [
             0.4444444444444444,
             "#bd3786"
            ],
            [
             0.5555555555555556,
             "#d8576b"
            ],
            [
             0.6666666666666666,
             "#ed7953"
            ],
            [
             0.7777777777777778,
             "#fb9f3a"
            ],
            [
             0.8888888888888888,
             "#fdca26"
            ],
            [
             1,
             "#f0f921"
            ]
           ]
          },
          "colorway": [
           "#636efa",
           "#EF553B",
           "#00cc96",
           "#ab63fa",
           "#FFA15A",
           "#19d3f3",
           "#FF6692",
           "#B6E880",
           "#FF97FF",
           "#FECB52"
          ],
          "font": {
           "color": "#2a3f5f"
          },
          "geo": {
           "bgcolor": "white",
           "lakecolor": "white",
           "landcolor": "#E5ECF6",
           "showlakes": true,
           "showland": true,
           "subunitcolor": "white"
          },
          "hoverlabel": {
           "align": "left"
          },
          "hovermode": "closest",
          "mapbox": {
           "style": "light"
          },
          "paper_bgcolor": "white",
          "plot_bgcolor": "#E5ECF6",
          "polar": {
           "angularaxis": {
            "gridcolor": "white",
            "linecolor": "white",
            "ticks": ""
           },
           "bgcolor": "#E5ECF6",
           "radialaxis": {
            "gridcolor": "white",
            "linecolor": "white",
            "ticks": ""
           }
          },
          "scene": {
           "xaxis": {
            "backgroundcolor": "#E5ECF6",
            "gridcolor": "white",
            "gridwidth": 2,
            "linecolor": "white",
            "showbackground": true,
            "ticks": "",
            "zerolinecolor": "white"
           },
           "yaxis": {
            "backgroundcolor": "#E5ECF6",
            "gridcolor": "white",
            "gridwidth": 2,
            "linecolor": "white",
            "showbackground": true,
            "ticks": "",
            "zerolinecolor": "white"
           },
           "zaxis": {
            "backgroundcolor": "#E5ECF6",
            "gridcolor": "white",
            "gridwidth": 2,
            "linecolor": "white",
            "showbackground": true,
            "ticks": "",
            "zerolinecolor": "white"
           }
          },
          "shapedefaults": {
           "line": {
            "color": "#2a3f5f"
           }
          },
          "ternary": {
           "aaxis": {
            "gridcolor": "white",
            "linecolor": "white",
            "ticks": ""
           },
           "baxis": {
            "gridcolor": "white",
            "linecolor": "white",
            "ticks": ""
           },
           "bgcolor": "#E5ECF6",
           "caxis": {
            "gridcolor": "white",
            "linecolor": "white",
            "ticks": ""
           }
          },
          "title": {
           "x": 0.05
          },
          "xaxis": {
           "automargin": true,
           "gridcolor": "white",
           "linecolor": "white",
           "ticks": "",
           "title": {
            "standoff": 15
           },
           "zerolinecolor": "white",
           "zerolinewidth": 2
          },
          "yaxis": {
           "automargin": true,
           "gridcolor": "white",
           "linecolor": "white",
           "ticks": "",
           "title": {
            "standoff": 15
           },
           "zerolinecolor": "white",
           "zerolinewidth": 2
          }
         }
        },
        "title": {
         "text": "Pareto Front: DPD vs. Accuracy"
        },
        "xaxis": {
         "anchor": "y",
         "domain": [
          0,
          1
         ],
         "title": {
          "text": "DPD"
         }
        },
        "yaxis": {
         "anchor": "x",
         "domain": [
          0,
          1
         ],
         "title": {
          "text": "Accuracy"
         }
        }
       }
      }
     },
     "metadata": {},
     "output_type": "display_data"
    }
   ],
   "source": [
    "# Create interactive Plotly plot\n",
    "fig = px.scatter(\n",
    "    plot_df,\n",
    "    x='DPD',\n",
    "    y='Accuracy',\n",
    "    color='alpha',\n",
    "    color_continuous_scale='Viridis',\n",
    "    size_max=15,\n",
    "    hover_data={'alpha': True, 'DPD': True, 'Accuracy': True},\n",
    "    title='Pareto Front: DPD vs. Accuracy'\n",
    ")\n",
    "fig.update_traces(marker=dict(line_width=0))\n",
    "fig.show()"
   ]
  },
  {
   "cell_type": "code",
   "execution_count": 8,
   "id": "02b8a2fa",
   "metadata": {},
   "outputs": [
    {
     "data": {
      "text/html": [
       "<div>\n",
       "<style scoped>\n",
       "    .dataframe tbody tr th:only-of-type {\n",
       "        vertical-align: middle;\n",
       "    }\n",
       "\n",
       "    .dataframe tbody tr th {\n",
       "        vertical-align: top;\n",
       "    }\n",
       "\n",
       "    .dataframe thead th {\n",
       "        text-align: right;\n",
       "    }\n",
       "</style>\n",
       "<table border=\"1\" class=\"dataframe\">\n",
       "  <thead>\n",
       "    <tr style=\"text-align: right;\">\n",
       "      <th></th>\n",
       "      <th>DPD</th>\n",
       "      <th>Accuracy</th>\n",
       "      <th>alpha</th>\n",
       "    </tr>\n",
       "  </thead>\n",
       "  <tbody>\n",
       "    <tr>\n",
       "      <th>0</th>\n",
       "      <td>0.000000</td>\n",
       "      <td>0.500006</td>\n",
       "      <td>0.000000</td>\n",
       "    </tr>\n",
       "    <tr>\n",
       "      <th>1</th>\n",
       "      <td>0.000000</td>\n",
       "      <td>0.500006</td>\n",
       "      <td>0.015625</td>\n",
       "    </tr>\n",
       "    <tr>\n",
       "      <th>2</th>\n",
       "      <td>0.000041</td>\n",
       "      <td>0.505013</td>\n",
       "      <td>0.019531</td>\n",
       "    </tr>\n",
       "    <tr>\n",
       "      <th>3</th>\n",
       "      <td>0.002757</td>\n",
       "      <td>0.557231</td>\n",
       "      <td>0.021484</td>\n",
       "    </tr>\n",
       "    <tr>\n",
       "      <th>4</th>\n",
       "      <td>0.002757</td>\n",
       "      <td>0.557231</td>\n",
       "      <td>0.021973</td>\n",
       "    </tr>\n",
       "    <tr>\n",
       "      <th>5</th>\n",
       "      <td>0.000000</td>\n",
       "      <td>0.500006</td>\n",
       "      <td>0.022095</td>\n",
       "    </tr>\n",
       "    <tr>\n",
       "      <th>6</th>\n",
       "      <td>0.003839</td>\n",
       "      <td>0.578633</td>\n",
       "      <td>0.022163</td>\n",
       "    </tr>\n",
       "    <tr>\n",
       "      <th>7</th>\n",
       "      <td>0.008641</td>\n",
       "      <td>0.672869</td>\n",
       "      <td>0.022171</td>\n",
       "    </tr>\n",
       "    <tr>\n",
       "      <th>8</th>\n",
       "      <td>0.008641</td>\n",
       "      <td>0.672869</td>\n",
       "      <td>0.022217</td>\n",
       "    </tr>\n",
       "    <tr>\n",
       "      <th>9</th>\n",
       "      <td>0.008641</td>\n",
       "      <td>0.672869</td>\n",
       "      <td>0.022461</td>\n",
       "    </tr>\n",
       "    <tr>\n",
       "      <th>10</th>\n",
       "      <td>0.008641</td>\n",
       "      <td>0.672869</td>\n",
       "      <td>0.031250</td>\n",
       "    </tr>\n",
       "    <tr>\n",
       "      <th>11</th>\n",
       "      <td>0.028525</td>\n",
       "      <td>0.675018</td>\n",
       "      <td>0.437500</td>\n",
       "    </tr>\n",
       "    <tr>\n",
       "      <th>12</th>\n",
       "      <td>0.049848</td>\n",
       "      <td>0.697855</td>\n",
       "      <td>0.500000</td>\n",
       "    </tr>\n",
       "    <tr>\n",
       "      <th>13</th>\n",
       "      <td>0.073369</td>\n",
       "      <td>0.733564</td>\n",
       "      <td>1.000000</td>\n",
       "    </tr>\n",
       "    <tr>\n",
       "      <th>14</th>\n",
       "      <td>0.008641</td>\n",
       "      <td>0.672869</td>\n",
       "      <td>0.022167</td>\n",
       "    </tr>\n",
       "  </tbody>\n",
       "</table>\n",
       "</div>"
      ],
      "text/plain": [
       "         DPD  Accuracy     alpha\n",
       "0   0.000000  0.500006  0.000000\n",
       "1   0.000000  0.500006  0.015625\n",
       "2   0.000041  0.505013  0.019531\n",
       "3   0.002757  0.557231  0.021484\n",
       "4   0.002757  0.557231  0.021973\n",
       "5   0.000000  0.500006  0.022095\n",
       "6   0.003839  0.578633  0.022163\n",
       "7   0.008641  0.672869  0.022171\n",
       "8   0.008641  0.672869  0.022217\n",
       "9   0.008641  0.672869  0.022461\n",
       "10  0.008641  0.672869  0.031250\n",
       "11  0.028525  0.675018  0.437500\n",
       "12  0.049848  0.697855  0.500000\n",
       "13  0.073369  0.733564  1.000000\n",
       "14  0.008641  0.672869  0.022167"
      ]
     },
     "execution_count": 8,
     "metadata": {},
     "output_type": "execute_result"
    }
   ],
   "source": [
    "plot_df"
   ]
  },
  {
   "cell_type": "code",
   "execution_count": null,
   "id": "7eb5babe",
   "metadata": {},
   "outputs": [],
   "source": []
  }
 ],
 "metadata": {
  "kernelspec": {
   "display_name": "env",
   "language": "python",
   "name": "python3"
  },
  "language_info": {
   "codemirror_mode": {
    "name": "ipython",
    "version": 3
   },
   "file_extension": ".py",
   "mimetype": "text/x-python",
   "name": "python",
   "nbconvert_exporter": "python",
   "pygments_lexer": "ipython3",
   "version": "3.13.2"
  }
 },
 "nbformat": 4,
 "nbformat_minor": 5
}
