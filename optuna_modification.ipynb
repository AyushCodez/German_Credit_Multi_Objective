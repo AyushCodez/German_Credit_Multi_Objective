{
 "cells": [
  {
   "cell_type": "code",
   "execution_count": 1,
   "id": "0fdd19d9",
   "metadata": {},
   "outputs": [
    {
     "name": "stderr",
     "output_type": "stream",
     "text": [
      "c:\\Users\\ayush\\OneDrive - iiit-b\\CollegeAcads\\Sem6\\MOML\\Project\\env\\Lib\\site-packages\\tqdm\\auto.py:21: TqdmWarning: IProgress not found. Please update jupyter and ipywidgets. See https://ipywidgets.readthedocs.io/en/stable/user_install.html\n",
      "  from .autonotebook import tqdm as notebook_tqdm\n"
     ]
    }
   ],
   "source": [
    "import numpy as np\n",
    "import pandas as pd\n",
    "import xgboost as xgb\n",
    "from sklearn.model_selection import KFold\n",
    "from sklearn.metrics import accuracy_score\n",
    "import optuna\n",
    "import plotly.express as px\n",
    "\n",
    "# Load and prepare data\n",
    "DATA_PATH = 'german_credit_data_cleaned.csv'\n",
    "df = pd.read_csv(DATA_PATH)\n",
    "y = df['Risk_good'].values\n",
    "X_full = df.drop(columns=['Risk_good'])\n",
    "sensitive = df['Sex_male'].values\n",
    "\n"
   ]
  },
  {
   "cell_type": "code",
   "execution_count": 13,
   "id": "fe121556",
   "metadata": {},
   "outputs": [],
   "source": [
    "# Define the custom objective function factory\n",
    "def make_custom_obj(sens_array, alpha=0.5):\n",
    "    def custom_obj(preds, dmatrix):\n",
    "        labels = dmatrix.get_label()\n",
    "        preds_prob = 1.0 / (1.0 + np.exp(-preds))\n",
    "        grad_log = preds_prob - labels\n",
    "        hess_log = preds_prob * (1.0 - preds_prob)\n",
    "        mask_p = (sens_array == 1)\n",
    "        mask_u = (sens_array == 0)\n",
    "        n_p, n_u = mask_p.sum(), mask_u.sum()\n",
    "        mean_p = preds_prob[mask_p].mean() if n_p > 0 else 0\n",
    "        mean_u = preds_prob[mask_u].mean() if n_u > 0 else 0\n",
    "        diff = mean_p - mean_u\n",
    "        sign = np.sign(diff)\n",
    "        sigmoid_deriv = preds_prob * (1.0 - preds_prob)\n",
    "        grad_fair = np.zeros_like(preds)\n",
    "        grad_fair[mask_p] = sign * (1.0 / n_p) * sigmoid_deriv[mask_p] if n_p > 0 else 0\n",
    "        grad_fair[mask_u] = -sign * (1.0 / n_u) * sigmoid_deriv[mask_u] if n_u > 0 else 0\n",
    "        hess_fair = np.zeros_like(preds)\n",
    "        grad = alpha * grad_log + (1 - alpha) * grad_fair\n",
    "        hess = alpha * hess_log + (1 - alpha) * hess_fair\n",
    "        return grad, hess\n",
    "    return custom_obj\n",
    "\n",
    "# Define the objective function for Optuna\n",
    "\n",
    "def create_objective_function(alpha):\n",
    "    def objective(trial):\n",
    "        # Suggest hyperparameters\n",
    "        # alpha = trial.suggest_float('alpha', 0.0, 1.0)\n",
    "        max_depth = trial.suggest_int('max_depth', 3, 7)\n",
    "        eta = trial.suggest_float('eta', 0.01, 0.3)\n",
    "        subsample = trial.suggest_float('subsample', 0.6, 1.0)\n",
    "        colsample_bytree = trial.suggest_float('colsample_bytree', 0.6, 1.0)\n",
    "\n",
    "        # Initialize cross-validation\n",
    "        kf = KFold(n_splits=3, shuffle=True, random_state=42)\n",
    "        acc_scores = []\n",
    "        dpd_scores = []\n",
    "\n",
    "        # Perform 3-fold cross-validation\n",
    "        for train_idx, val_idx in kf.split(X_full):\n",
    "            # Split data\n",
    "            X_train = X_full.iloc[train_idx].drop(columns=['Sex_male']).values\n",
    "            y_train = y[train_idx]\n",
    "            sens_train = sensitive[train_idx]\n",
    "            X_val = X_full.iloc[val_idx].drop(columns=['Sex_male']).values\n",
    "            y_val = y[val_idx]\n",
    "            sens_val = sensitive[val_idx]\n",
    "\n",
    "            # Create custom objective\n",
    "            train_obj = make_custom_obj(sens_train, alpha=alpha)\n",
    "\n",
    "            # Set up DMatrix\n",
    "            dtrain = xgb.DMatrix(X_train, label=y_train)\n",
    "            dval = xgb.DMatrix(X_val, label=y_val)\n",
    "\n",
    "            # Train the model\n",
    "            params = {\n",
    "                'max_depth': max_depth,\n",
    "                'eta': eta,\n",
    "                'subsample': subsample,\n",
    "                'colsample_bytree': colsample_bytree,\n",
    "                'verbosity': 0\n",
    "            }\n",
    "            bst = xgb.train(\n",
    "                params,\n",
    "                dtrain,\n",
    "                num_boost_round=100,\n",
    "                obj=train_obj,\n",
    "                evals=[(dtrain, 'train'), (dval, 'val')],\n",
    "                early_stopping_rounds=10,\n",
    "                verbose_eval=False\n",
    "            )\n",
    "\n",
    "            # Predict on validation set\n",
    "            pred_prob = bst.predict(dval)\n",
    "            pred = (pred_prob > 0.5).astype(int)\n",
    "\n",
    "            # Compute accuracy and DPD\n",
    "            acc = accuracy_score(y_val, pred)\n",
    "            dpd_val = abs(pred[sens_val == 1].mean() - pred[sens_val == 0].mean())\n",
    "            acc_scores.append(acc)\n",
    "            dpd_scores.append(dpd_val)\n",
    "\n",
    "        # Compute mean metrics across folds\n",
    "        mean_acc = np.mean(acc_scores)\n",
    "        mean_dpd = np.mean(dpd_scores)\n",
    "\n",
    "        # Store metrics for analysis\n",
    "        trial.set_user_attr('accuracy', mean_acc)\n",
    "        trial.set_user_attr('dpd', mean_dpd)\n",
    "        trial.set_user_attr('params', {\n",
    "            'alpha': alpha,\n",
    "            'max_depth': max_depth,\n",
    "            'eta': eta,\n",
    "            'subsample': subsample,\n",
    "            'colsample_bytree': colsample_bytree\n",
    "        })\n",
    "\n",
    "        return mean_acc, mean_dpd\n",
    "    return objective\n"
   ]
  },
  {
   "cell_type": "code",
   "execution_count": 39,
   "id": "b26f54e6",
   "metadata": {},
   "outputs": [
    {
     "name": "stderr",
     "output_type": "stream",
     "text": [
      "[I 2025-05-15 15:59:28,928] A new study created in memory with name: no-name-29dc98ff-ffe0-47f8-8e54-12bc9b492069\n",
      "[I 2025-05-15 15:59:29,030] Trial 0 finished with values: [0.5000061268315397, 0.0] and parameters: {'max_depth': 6, 'eta': 0.16395389636146293, 'subsample': 0.8000194327801043, 'colsample_bytree': 0.6748470800330576}.\n",
      "[I 2025-05-15 15:59:29,123] Trial 1 finished with values: [0.5000061268315397, 0.0] and parameters: {'max_depth': 4, 'eta': 0.01191635966343524, 'subsample': 0.9575531224176509, 'colsample_bytree': 0.9133666824219422}.\n",
      "[I 2025-05-15 15:59:29,215] Trial 2 finished with values: [0.5000061268315397, 0.0] and parameters: {'max_depth': 4, 'eta': 0.21810271410930646, 'subsample': 0.6048986751774701, 'colsample_bytree': 0.9335176744047675}.\n",
      "[I 2025-05-15 15:59:29,299] Trial 3 finished with values: [0.5000061268315397, 0.0] and parameters: {'max_depth': 7, 'eta': 0.25238092029771686, 'subsample': 0.8649728036602894, 'colsample_bytree': 0.9277386344843667}.\n",
      "[I 2025-05-15 15:59:29,383] Trial 4 finished with values: [0.5000061268315397, 0.0] and parameters: {'max_depth': 7, 'eta': 0.0886022297745157, 'subsample': 0.6115390713455601, 'colsample_bytree': 0.6413296845459769}.\n",
      "[I 2025-05-15 15:59:29,469] Trial 5 finished with values: [0.5000061268315397, 0.0] and parameters: {'max_depth': 6, 'eta': 0.25829859218873574, 'subsample': 0.9249070719515337, 'colsample_bytree': 0.9032006877263672}.\n",
      "[I 2025-05-15 15:59:29,551] Trial 6 finished with values: [0.5000061268315397, 0.0] and parameters: {'max_depth': 5, 'eta': 0.27652386278997915, 'subsample': 0.8659865189829354, 'colsample_bytree': 0.6795509125675427}.\n",
      "[I 2025-05-15 15:59:29,640] Trial 7 finished with values: [0.5000061268315397, 0.0] and parameters: {'max_depth': 5, 'eta': 0.08189684351654315, 'subsample': 0.9388810641210912, 'colsample_bytree': 0.8221738287377187}.\n",
      "[I 2025-05-15 15:59:29,725] Trial 8 finished with values: [0.5000061268315397, 0.0] and parameters: {'max_depth': 3, 'eta': 0.29829281363377347, 'subsample': 0.9219547863867043, 'colsample_bytree': 0.7215915160647282}.\n",
      "[I 2025-05-15 15:59:29,812] Trial 9 finished with values: [0.5000061268315397, 0.0] and parameters: {'max_depth': 3, 'eta': 0.14055883384573623, 'subsample': 0.96682254479509, 'colsample_bytree': 0.960803201280183}.\n",
      "[I 2025-05-15 15:59:29,816] A new study created in memory with name: no-name-86769b5e-5935-4638-9e2c-d603728b03af\n",
      "[I 2025-05-15 15:59:29,915] Trial 0 finished with values: [0.5000061268315397, 0.0] and parameters: {'max_depth': 4, 'eta': 0.24688563768301078, 'subsample': 0.6086094519850038, 'colsample_bytree': 0.8988827726356343}.\n"
     ]
    },
    {
     "name": "stdout",
     "output_type": "stream",
     "text": [
      "Completed study for alpha=0.0\n"
     ]
    },
    {
     "name": "stderr",
     "output_type": "stream",
     "text": [
      "[I 2025-05-15 15:59:30,025] Trial 1 finished with values: [0.5000061268315397, 0.0] and parameters: {'max_depth': 4, 'eta': 0.05437000691947621, 'subsample': 0.7651516278034398, 'colsample_bytree': 0.9504073956911484}.\n",
      "[I 2025-05-15 15:59:30,245] Trial 2 finished with values: [0.5000061268315397, 0.0] and parameters: {'max_depth': 3, 'eta': 0.15980571778136424, 'subsample': 0.8406247341941625, 'colsample_bytree': 0.9995251148363173}.\n",
      "[I 2025-05-15 15:59:30,364] Trial 3 finished with values: [0.5000061268315397, 0.0] and parameters: {'max_depth': 5, 'eta': 0.2928385377644047, 'subsample': 0.7282232095404597, 'colsample_bytree': 0.790471506597261}.\n",
      "[I 2025-05-15 15:59:30,469] Trial 4 finished with values: [0.5000061268315397, 0.0] and parameters: {'max_depth': 7, 'eta': 0.17379860191004665, 'subsample': 0.7775145221316209, 'colsample_bytree': 0.692514616496732}.\n",
      "[I 2025-05-15 15:59:30,578] Trial 5 finished with values: [0.5000061268315397, 0.0] and parameters: {'max_depth': 4, 'eta': 0.030745912309616125, 'subsample': 0.7661082029033597, 'colsample_bytree': 0.8429827857483233}.\n",
      "[I 2025-05-15 15:59:30,686] Trial 6 finished with values: [0.5000061268315397, 0.0] and parameters: {'max_depth': 7, 'eta': 0.02878363507984342, 'subsample': 0.6873093994869189, 'colsample_bytree': 0.8096604803065907}.\n",
      "[I 2025-05-15 15:59:30,784] Trial 7 finished with values: [0.5000061268315397, 0.0] and parameters: {'max_depth': 3, 'eta': 0.07988114385505361, 'subsample': 0.6075609198920128, 'colsample_bytree': 0.6379910815940919}.\n",
      "[I 2025-05-15 15:59:30,880] Trial 8 finished with values: [0.5000061268315397, 0.0] and parameters: {'max_depth': 5, 'eta': 0.15613771838989554, 'subsample': 0.8915941464661257, 'colsample_bytree': 0.8269078251786168}.\n",
      "[I 2025-05-15 15:59:30,984] Trial 9 finished with values: [0.5000061268315397, 0.0] and parameters: {'max_depth': 5, 'eta': 0.09638709731501055, 'subsample': 0.7112578823484057, 'colsample_bytree': 0.9422220160903562}.\n",
      "[I 2025-05-15 15:59:30,987] A new study created in memory with name: no-name-2166ba37-db57-409e-bc48-1a3ecf8b3e3f\n",
      "[I 2025-05-15 15:59:31,108] Trial 0 finished with values: [0.6707226291459504, 0.012983203043084202] and parameters: {'max_depth': 5, 'eta': 0.1720280566016369, 'subsample': 0.7685947107044564, 'colsample_bytree': 0.9999751009012469}.\n"
     ]
    },
    {
     "name": "stdout",
     "output_type": "stream",
     "text": [
      "Completed study for alpha=0.01\n"
     ]
    },
    {
     "name": "stderr",
     "output_type": "stream",
     "text": [
      "[I 2025-05-15 15:59:31,205] Trial 1 finished with values: [0.5000061268315397, 0.0] and parameters: {'max_depth': 4, 'eta': 0.09531837603665186, 'subsample': 0.642385317398397, 'colsample_bytree': 0.6949188032100334}.\n",
      "[I 2025-05-15 15:59:31,314] Trial 2 finished with values: [0.6707226291459504, 0.012983203043084202] and parameters: {'max_depth': 6, 'eta': 0.17856409320804587, 'subsample': 0.8068202785048436, 'colsample_bytree': 0.820388693296456}.\n",
      "[I 2025-05-15 15:59:31,464] Trial 3 finished with values: [0.6707226291459504, 0.012983203043084202] and parameters: {'max_depth': 3, 'eta': 0.043746391631996125, 'subsample': 0.9178406630545798, 'colsample_bytree': 0.6799722431440286}.\n",
      "[I 2025-05-15 15:59:31,598] Trial 4 finished with values: [0.6707226291459504, 0.012983203043084202] and parameters: {'max_depth': 4, 'eta': 0.09274541631596356, 'subsample': 0.9991503525088102, 'colsample_bytree': 0.816586728094092}.\n",
      "[I 2025-05-15 15:59:31,897] Trial 5 finished with values: [0.6600159910303186, 0.017612263712454567] and parameters: {'max_depth': 3, 'eta': 0.01172857843273449, 'subsample': 0.7159665388158912, 'colsample_bytree': 0.7943981891733112}.\n",
      "[I 2025-05-15 15:59:32,023] Trial 6 finished with values: [0.6071705372924918, 0.029353188042791672] and parameters: {'max_depth': 3, 'eta': 0.27865685843728644, 'subsample': 0.6702864661776087, 'colsample_bytree': 0.6548515756442171}.\n",
      "[I 2025-05-15 15:59:32,121] Trial 7 finished with values: [0.5829067526873813, 0.02108453405525897] and parameters: {'max_depth': 4, 'eta': 0.2234666256892765, 'subsample': 0.67265606177527, 'colsample_bytree': 0.9797144707451999}.\n",
      "[I 2025-05-15 15:59:32,225] Trial 8 finished with values: [0.6707226291459504, 0.012983203043084202] and parameters: {'max_depth': 7, 'eta': 0.11030402247920669, 'subsample': 0.7882012294738079, 'colsample_bytree': 0.660930326150849}.\n",
      "[I 2025-05-15 15:59:32,320] Trial 9 finished with values: [0.6707226291459504, 0.012983203043084202] and parameters: {'max_depth': 3, 'eta': 0.2518707377364511, 'subsample': 0.7977108931348444, 'colsample_bytree': 0.6646462980588176}.\n",
      "[I 2025-05-15 15:59:32,323] A new study created in memory with name: no-name-229d4082-fc0c-4cbf-a8cc-e128733adc93\n",
      "[I 2025-05-15 15:59:32,428] Trial 0 finished with values: [0.6707226291459504, 0.012983203043084202] and parameters: {'max_depth': 4, 'eta': 0.09727112470519857, 'subsample': 0.6788574650935559, 'colsample_bytree': 0.9608639352269196}.\n"
     ]
    },
    {
     "name": "stdout",
     "output_type": "stream",
     "text": [
      "Completed study for alpha=0.02\n"
     ]
    },
    {
     "name": "stderr",
     "output_type": "stream",
     "text": [
      "[I 2025-05-15 15:59:32,540] Trial 1 finished with values: [0.6707226291459504, 0.012983203043084202] and parameters: {'max_depth': 7, 'eta': 0.10595928172233215, 'subsample': 0.6907090390620924, 'colsample_bytree': 0.810598422709989}.\n",
      "[I 2025-05-15 15:59:32,660] Trial 2 finished with values: [0.6707226291459504, 0.012983203043084202] and parameters: {'max_depth': 6, 'eta': 0.04740238131383041, 'subsample': 0.7080646710597935, 'colsample_bytree': 0.8722256354494622}.\n",
      "[I 2025-05-15 15:59:32,763] Trial 3 finished with values: [0.6707226291459504, 0.012983203043084202] and parameters: {'max_depth': 3, 'eta': 0.2376625370471401, 'subsample': 0.6563742093595747, 'colsample_bytree': 0.7333781538952541}.\n",
      "[I 2025-05-15 15:59:32,863] Trial 4 finished with values: [0.6714410001439806, 0.01896421983952416] and parameters: {'max_depth': 3, 'eta': 0.292235552592544, 'subsample': 0.6146710796318637, 'colsample_bytree': 0.9718922878041432}.\n",
      "[I 2025-05-15 15:59:32,966] Trial 5 finished with values: [0.6707226291459504, 0.012983203043084202] and parameters: {'max_depth': 5, 'eta': 0.08003508895754259, 'subsample': 0.7618635280161737, 'colsample_bytree': 0.6478585051738519}.\n",
      "[I 2025-05-15 15:59:33,067] Trial 6 finished with values: [0.6707226291459504, 0.012983203043084202] and parameters: {'max_depth': 5, 'eta': 0.15781737578435268, 'subsample': 0.7348071854318696, 'colsample_bytree': 0.8472570452233354}.\n",
      "[I 2025-05-15 15:59:33,169] Trial 7 finished with values: [0.6700088532715748, 0.025704733136082958] and parameters: {'max_depth': 7, 'eta': 0.21661804851920316, 'subsample': 0.9170416746886184, 'colsample_bytree': 0.7012300048265365}.\n",
      "[I 2025-05-15 15:59:33,277] Trial 8 finished with values: [0.6707226291459504, 0.012983203043084202] and parameters: {'max_depth': 5, 'eta': 0.1282291179250696, 'subsample': 0.7122739993518166, 'colsample_bytree': 0.8268565291818772}.\n",
      "[I 2025-05-15 15:59:33,389] Trial 9 finished with values: [0.6707226291459504, 0.012983203043084202] and parameters: {'max_depth': 4, 'eta': 0.1126965927356076, 'subsample': 0.8437284986770409, 'colsample_bytree': 0.6756725888360243}.\n",
      "[I 2025-05-15 15:59:33,392] A new study created in memory with name: no-name-fbe153fb-d4f1-4569-b5c8-191eb6669077\n",
      "[I 2025-05-15 15:59:33,538] Trial 0 finished with values: [0.6707226291459504, 0.012983203043084202] and parameters: {'max_depth': 4, 'eta': 0.033693738058008856, 'subsample': 0.6035248461068744, 'colsample_bytree': 0.6947171582505717}.\n"
     ]
    },
    {
     "name": "stdout",
     "output_type": "stream",
     "text": [
      "Completed study for alpha=0.03\n"
     ]
    },
    {
     "name": "stderr",
     "output_type": "stream",
     "text": [
      "[I 2025-05-15 15:59:33,673] Trial 1 finished with values: [0.6628710945278204, 0.017004376348342426] and parameters: {'max_depth': 6, 'eta': 0.05959502343670531, 'subsample': 0.8978309688763721, 'colsample_bytree': 0.8166879301084996}.\n",
      "[I 2025-05-15 15:59:33,793] Trial 2 finished with values: [0.6707226291459504, 0.012983203043084202] and parameters: {'max_depth': 7, 'eta': 0.14651171033861113, 'subsample': 0.6788487820726002, 'colsample_bytree': 0.6061795102479272}.\n",
      "[I 2025-05-15 15:59:33,929] Trial 3 finished with values: [0.6707226291459504, 0.02737169225171728] and parameters: {'max_depth': 7, 'eta': 0.17441981679379004, 'subsample': 0.7282158914479795, 'colsample_bytree': 0.9417016265377194}.\n",
      "[I 2025-05-15 15:59:34,051] Trial 4 finished with values: [0.668581301522824, 0.025704733136082958] and parameters: {'max_depth': 7, 'eta': 0.07119140864364269, 'subsample': 0.8267947552739281, 'colsample_bytree': 0.6581041054850267}.\n",
      "[I 2025-05-15 15:59:34,155] Trial 5 finished with values: [0.6664399738996977, 0.032432039074029556] and parameters: {'max_depth': 4, 'eta': 0.21199733443663324, 'subsample': 0.9357080141875902, 'colsample_bytree': 0.8699861041477617}.\n",
      "[I 2025-05-15 15:59:34,260] Trial 6 finished with values: [0.6643001779844563, 0.015681563630774543] and parameters: {'max_depth': 4, 'eta': 0.22648618658410688, 'subsample': 0.8023048072600152, 'colsample_bytree': 0.7452278013771652}.\n",
      "[I 2025-05-15 15:59:34,361] Trial 7 finished with values: [0.6721578394341258, 0.03971238920332504] and parameters: {'max_depth': 3, 'eta': 0.2897324179226881, 'subsample': 0.6226865271916283, 'colsample_bytree': 0.7618347568843296}.\n",
      "[I 2025-05-15 15:59:34,456] Trial 8 finished with values: [0.668581301522824, 0.022290391438709145] and parameters: {'max_depth': 4, 'eta': 0.18995558938001994, 'subsample': 0.7316166983362563, 'colsample_bytree': 0.6383845190640408}.\n",
      "[I 2025-05-15 15:59:34,567] Trial 9 finished with values: [0.6678751841878733, 0.02418334902083688] and parameters: {'max_depth': 7, 'eta': 0.2907322786550833, 'subsample': 0.6211682436738105, 'colsample_bytree': 0.8621599107110234}.\n",
      "[I 2025-05-15 15:59:34,570] A new study created in memory with name: no-name-10a5b9aa-f23e-4f11-aa1a-9fb23ff0af7a\n",
      "[I 2025-05-15 15:59:34,678] Trial 0 finished with values: [0.6628710945278204, 0.010549445094508605] and parameters: {'max_depth': 7, 'eta': 0.24234058901712516, 'subsample': 0.8815038454945118, 'colsample_bytree': 0.7182797232635705}.\n"
     ]
    },
    {
     "name": "stdout",
     "output_type": "stream",
     "text": [
      "Completed study for alpha=0.04\n"
     ]
    },
    {
     "name": "stderr",
     "output_type": "stream",
     "text": [
      "[I 2025-05-15 15:59:34,779] Trial 1 finished with values: [0.6692950773971994, 0.023306651601310773] and parameters: {'max_depth': 3, 'eta': 0.16149104975136847, 'subsample': 0.6078211118746025, 'colsample_bytree': 0.9594367440046497}.\n",
      "[I 2025-05-15 15:59:34,884] Trial 2 finished with values: [0.6664445690233525, 0.016076286283929615] and parameters: {'max_depth': 3, 'eta': 0.22862159511144414, 'subsample': 0.7203190649029757, 'colsample_bytree': 0.6542036890336682}.\n",
      "[I 2025-05-15 15:59:34,998] Trial 3 finished with values: [0.6643017096923413, 0.027201269988396264] and parameters: {'max_depth': 5, 'eta': 0.06558468579252595, 'subsample': 0.8188135293011368, 'colsample_bytree': 0.8573288190455413}.\n",
      "[I 2025-05-15 15:59:35,101] Trial 4 finished with values: [0.6657292614410921, 0.024719793314533427] and parameters: {'max_depth': 7, 'eta': 0.23459539266910434, 'subsample': 0.6489816500936109, 'colsample_bytree': 0.7348078207854121}.\n",
      "[I 2025-05-15 15:59:35,232] Trial 5 finished with values: [0.6671568131898429, 0.029523689712031415] and parameters: {'max_depth': 5, 'eta': 0.27865045702266883, 'subsample': 0.7138285804754319, 'colsample_bytree': 0.6873701909570168}.\n",
      "[I 2025-05-15 15:59:35,347] Trial 6 finished with values: [0.668581301522824, 0.022290391438709145] and parameters: {'max_depth': 7, 'eta': 0.1358494166470462, 'subsample': 0.7051160282079532, 'colsample_bytree': 0.6806614534587844}.\n",
      "[I 2025-05-15 15:59:35,465] Trial 7 finished with values: [0.669307331060279, 0.03514222460027406] and parameters: {'max_depth': 3, 'eta': 0.2557028257008209, 'subsample': 0.6119333895823396, 'colsample_bytree': 0.882271131312514}.\n",
      "[I 2025-05-15 15:59:35,654] Trial 8 finished with values: [0.6607297669046941, 0.015171283363153256] and parameters: {'max_depth': 5, 'eta': 0.026046711641967285, 'subsample': 0.987549410720177, 'colsample_bytree': 0.6249234138387492}.\n",
      "[I 2025-05-15 15:59:35,798] Trial 9 finished with values: [0.665730793148977, 0.02668844596046842] and parameters: {'max_depth': 7, 'eta': 0.25185535528612035, 'subsample': 0.7264389400781135, 'colsample_bytree': 0.7521173159998363}.\n",
      "[I 2025-05-15 15:59:35,801] A new study created in memory with name: no-name-4ef1116a-e317-4b22-9fbe-7e6411bfca57\n",
      "[I 2025-05-15 15:59:35,929] Trial 0 finished with values: [0.6607236400731544, 0.013803381328422237] and parameters: {'max_depth': 5, 'eta': 0.26020671643761234, 'subsample': 0.8688625823185496, 'colsample_bytree': 0.9645332618674834}.\n"
     ]
    },
    {
     "name": "stdout",
     "output_type": "stream",
     "text": [
      "Completed study for alpha=0.05\n"
     ]
    },
    {
     "name": "stderr",
     "output_type": "stream",
     "text": [
      "[I 2025-05-15 15:59:36,040] Trial 1 finished with values: [0.665727729733207, 0.02369788252506297] and parameters: {'max_depth': 3, 'eta': 0.21023663811113089, 'subsample': 0.6684496718303525, 'colsample_bytree': 0.6878959090417149}.\n",
      "[I 2025-05-15 15:59:36,155] Trial 2 finished with values: [0.6600098641987789, 0.020396929960668043] and parameters: {'max_depth': 6, 'eta': 0.14664563972065936, 'subsample': 0.8324720269154703, 'colsample_bytree': 0.7807107788053089}.\n",
      "[I 2025-05-15 15:59:36,298] Trial 3 finished with values: [0.6564409848269017, 0.022608911914728202] and parameters: {'max_depth': 5, 'eta': 0.034421974316897974, 'subsample': 0.9525562088799902, 'colsample_bytree': 0.7798202062872396}.\n",
      "[I 2025-05-15 15:59:36,419] Trial 4 finished with values: [0.6642971145686865, 0.018468479963261824] and parameters: {'max_depth': 4, 'eta': 0.16796689594959396, 'subsample': 0.8132807522913533, 'colsample_bytree': 0.8929018688234823}.\n",
      "[I 2025-05-15 15:59:36,558] Trial 5 finished with values: [0.6635848704021959, 0.020821404237607588] and parameters: {'max_depth': 7, 'eta': 0.19915308744424787, 'subsample': 0.7646847545412178, 'colsample_bytree': 0.7492109400741024}.\n",
      "[I 2025-05-15 15:59:36,678] Trial 6 finished with values: [0.6642986462765713, 0.020874829583285192] and parameters: {'max_depth': 4, 'eta': 0.2347428196152451, 'subsample': 0.6329915208536138, 'colsample_bytree': 0.8396009308509338}.\n",
      "[I 2025-05-15 15:59:36,882] Trial 7 finished with values: [0.6592991517401733, 0.024687806410807273] and parameters: {'max_depth': 5, 'eta': 0.19510219179722285, 'subsample': 0.9180013353876797, 'colsample_bytree': 0.7884387677931488}.\n",
      "[I 2025-05-15 15:59:36,997] Trial 8 finished with values: [0.6628680311120506, 0.02190015288917176] and parameters: {'max_depth': 7, 'eta': 0.1128819498188733, 'subsample': 0.782728543250629, 'colsample_bytree': 0.811423387552394}.\n",
      "[I 2025-05-15 15:59:37,147] Trial 9 finished with values: [0.6578685365756526, 0.026828321197428628] and parameters: {'max_depth': 7, 'eta': 0.03869518576915236, 'subsample': 0.914721835876764, 'colsample_bytree': 0.8343107619116374}.\n",
      "[I 2025-05-15 15:59:37,150] A new study created in memory with name: no-name-53808b44-6844-4b18-a1b3-0942a3229161\n",
      "[I 2025-05-15 15:59:37,333] Trial 0 finished with values: [0.6628756896514753, 0.016185390676215328] and parameters: {'max_depth': 5, 'eta': 0.01870332508502844, 'subsample': 0.7058027307490122, 'colsample_bytree': 0.7845919969207953}.\n"
     ]
    },
    {
     "name": "stdout",
     "output_type": "stream",
     "text": [
      "Completed study for alpha=0.06\n"
     ]
    },
    {
     "name": "stderr",
     "output_type": "stream",
     "text": [
      "[I 2025-05-15 15:59:37,459] Trial 1 finished with values: [0.6621542552376751, 0.029970114673446846] and parameters: {'max_depth': 5, 'eta': 0.16998664429353433, 'subsample': 0.7576442606181018, 'colsample_bytree': 0.703080797147299}.\n",
      "[I 2025-05-15 15:59:37,624] Trial 2 finished with values: [0.6592991517401733, 0.020510167445857652] and parameters: {'max_depth': 7, 'eta': 0.06089430538666903, 'subsample': 0.6740543204419586, 'colsample_bytree': 0.7283710736981559}.\n",
      "[I 2025-05-15 15:59:37,746] Trial 3 finished with values: [0.6657261980253222, 0.018500024467170167] and parameters: {'max_depth': 4, 'eta': 0.20180283210186803, 'subsample': 0.8383649106417003, 'colsample_bytree': 0.8484200894813424}.\n",
      "[I 2025-05-15 15:59:37,887] Trial 4 finished with values: [0.6614389476554148, 0.016056264218804062] and parameters: {'max_depth': 4, 'eta': 0.19435558375810352, 'subsample': 0.8841486940690498, 'colsample_bytree': 0.946195146400411}.\n",
      "[I 2025-05-15 15:59:38,023] Trial 5 finished with values: [0.6685843649385937, 0.018293194409814213] and parameters: {'max_depth': 6, 'eta': 0.2441132138374734, 'subsample': 0.7065218278569098, 'colsample_bytree': 0.769857608911611}.\n",
      "[I 2025-05-15 15:59:38,217] Trial 6 finished with values: [0.6592976200322884, 0.02674174154751301] and parameters: {'max_depth': 3, 'eta': 0.027291602263179775, 'subsample': 0.8434968719010675, 'colsample_bytree': 0.7437119277344255}.\n",
      "[I 2025-05-15 15:59:38,416] Trial 7 finished with values: [0.6571547607012772, 0.025810627205388032] and parameters: {'max_depth': 4, 'eta': 0.024873644742087815, 'subsample': 0.766230372848345, 'colsample_bytree': 0.7772821078308952}.\n",
      "[I 2025-05-15 15:59:38,536] Trial 8 finished with values: [0.6650124221509467, 0.018201529138728884] and parameters: {'max_depth': 7, 'eta': 0.12971950741309737, 'subsample': 0.6007960204182331, 'colsample_bytree': 0.6600851046510559}.\n",
      "[I 2025-05-15 15:59:38,663] Trial 9 finished with values: [0.6614420110711846, 0.019668966442792913] and parameters: {'max_depth': 3, 'eta': 0.2250674087331155, 'subsample': 0.7313869363937334, 'colsample_bytree': 0.6660290158765085}.\n",
      "[I 2025-05-15 15:59:38,667] A new study created in memory with name: no-name-20a1c924-2d18-4772-acbf-d5bf27325f07\n",
      "[I 2025-05-15 15:59:38,806] Trial 0 finished with values: [0.6642986462765713, 0.029148614667447365] and parameters: {'max_depth': 6, 'eta': 0.17379503259889645, 'subsample': 0.716542950292719, 'colsample_bytree': 0.9437032710480943}.\n"
     ]
    },
    {
     "name": "stdout",
     "output_type": "stream",
     "text": [
      "Completed study for alpha=0.07\n"
     ]
    },
    {
     "name": "stderr",
     "output_type": "stream",
     "text": [
      "[I 2025-05-15 15:59:38,962] Trial 1 finished with values: [0.6621496601140203, 0.02158476661793569] and parameters: {'max_depth': 7, 'eta': 0.13143410523394755, 'subsample': 0.8146504159992333, 'colsample_bytree': 0.8726536757245573}.\n",
      "[I 2025-05-15 15:59:39,080] Trial 2 finished with values: [0.6585884392815677, 0.02016940799046683] and parameters: {'max_depth': 3, 'eta': 0.17817606059701357, 'subsample': 0.9344535616967009, 'colsample_bytree': 0.7657535896612824}.\n",
      "[I 2025-05-15 15:59:39,191] Trial 3 finished with values: [0.6664384421918127, 0.019346218334683557] and parameters: {'max_depth': 6, 'eta': 0.16714070552957883, 'subsample': 0.6641779663333961, 'colsample_bytree': 0.8404602478732677}.\n",
      "[I 2025-05-15 15:59:39,315] Trial 4 finished with values: [0.6621542552376751, 0.017310512873335793] and parameters: {'max_depth': 6, 'eta': 0.2310456263502961, 'subsample': 0.7564409334409906, 'colsample_bytree': 0.6002264583717295}.\n",
      "[I 2025-05-15 15:59:39,441] Trial 5 finished with values: [0.665730793148977, 0.029637640823550526] and parameters: {'max_depth': 5, 'eta': 0.27743599554587955, 'subsample': 0.8628408322492542, 'colsample_bytree': 0.6721297689117255}.\n",
      "[I 2025-05-15 15:59:39,555] Trial 6 finished with values: [0.6585838441579129, 0.014373339760809262] and parameters: {'max_depth': 7, 'eta': 0.10090425618785766, 'subsample': 0.943992006613114, 'colsample_bytree': 0.6585751729253303}.\n",
      "[I 2025-05-15 15:59:39,673] Trial 7 finished with values: [0.6643093682317658, 0.02217708830894095] and parameters: {'max_depth': 4, 'eta': 0.11320498202881121, 'subsample': 0.8232892446864248, 'colsample_bytree': 0.98668610772323}.\n",
      "[I 2025-05-15 15:59:39,786] Trial 8 finished with values: [0.6685843649385937, 0.013140035383637089] and parameters: {'max_depth': 5, 'eta': 0.23313810938559607, 'subsample': 0.6460725910320564, 'colsample_bytree': 0.6652603975919603}.\n",
      "[I 2025-05-15 15:59:39,912] Trial 9 finished with values: [0.6628664994041656, 0.022651537922873683] and parameters: {'max_depth': 4, 'eta': 0.20142507079557675, 'subsample': 0.6562248206971727, 'colsample_bytree': 0.9773540931336392}.\n",
      "[I 2025-05-15 15:59:39,916] A new study created in memory with name: no-name-fd036ed7-fa94-48d1-84d1-4e2d6fd47104\n"
     ]
    },
    {
     "name": "stdout",
     "output_type": "stream",
     "text": [
      "Completed study for alpha=0.08\n"
     ]
    },
    {
     "name": "stderr",
     "output_type": "stream",
     "text": [
      "[I 2025-05-15 15:59:40,145] Trial 0 finished with values: [0.6564409848269017, 0.019970246148312203] and parameters: {'max_depth': 4, 'eta': 0.014372541472313764, 'subsample': 0.7811472751226238, 'colsample_bytree': 0.7694179414464106}.\n",
      "[I 2025-05-15 15:59:40,283] Trial 1 finished with values: [0.6685782381070541, 0.021420843998632283] and parameters: {'max_depth': 5, 'eta': 0.2883969848226346, 'subsample': 0.6122764530717788, 'colsample_bytree': 0.8800700030269212}.\n",
      "[I 2025-05-15 15:59:40,432] Trial 2 finished with values: [0.6657246663174373, 0.028743879640124075] and parameters: {'max_depth': 6, 'eta': 0.26204025743839676, 'subsample': 0.8536670793575568, 'colsample_bytree': 0.8348520930851961}.\n",
      "[I 2025-05-15 15:59:40,604] Trial 3 finished with values: [0.6592976200322884, 0.01271447598928771] and parameters: {'max_depth': 6, 'eta': 0.07082253453193141, 'subsample': 0.6055822017874235, 'colsample_bytree': 0.8132201518731983}.\n",
      "[I 2025-05-15 15:59:40,740] Trial 4 finished with values: [0.662857309156856, 0.03541002750092322] and parameters: {'max_depth': 6, 'eta': 0.23303883456470376, 'subsample': 0.9786670498936926, 'colsample_bytree': 0.6107848309964277}.\n",
      "[I 2025-05-15 15:59:40,854] Trial 5 finished with values: [0.6571562924091621, 0.028785061210248375] and parameters: {'max_depth': 3, 'eta': 0.1265530906533213, 'subsample': 0.9151987275456646, 'colsample_bytree': 0.8801767054147263}.\n",
      "[I 2025-05-15 15:59:41,013] Trial 6 finished with values: [0.6535766910820904, 0.03152263268523531] and parameters: {'max_depth': 5, 'eta': 0.0383972604977019, 'subsample': 0.9581772075719066, 'colsample_bytree': 0.8933200855327998}.\n",
      "[I 2025-05-15 15:59:41,130] Trial 7 finished with values: [0.6642955828608015, 0.016264566358150018] and parameters: {'max_depth': 5, 'eta': 0.169214379944421, 'subsample': 0.7109622052706306, 'colsample_bytree': 0.6687223017589288}.\n",
      "[I 2025-05-15 15:59:41,252] Trial 8 finished with values: [0.6585899709894526, 0.018112796504310524] and parameters: {'max_depth': 6, 'eta': 0.10934489146972741, 'subsample': 0.7736922436670675, 'colsample_bytree': 0.7444062550055467}.\n",
      "[I 2025-05-15 15:59:41,376] Trial 9 finished with values: [0.6635848704021959, 0.013754824482331377] and parameters: {'max_depth': 3, 'eta': 0.06005739481736752, 'subsample': 0.6161190008363154, 'colsample_bytree': 0.6522426144069857}.\n",
      "[I 2025-05-15 15:59:41,380] A new study created in memory with name: no-name-f44bd2cf-be11-40a0-a3e6-ab42b4ac18b6\n",
      "[I 2025-05-15 15:59:41,495] Trial 0 finished with values: [0.6793017250094201, 0.026800251263721247] and parameters: {'max_depth': 6, 'eta': 0.269582570105018, 'subsample': 0.887424567941643, 'colsample_bytree': 0.946664955716835}.\n"
     ]
    },
    {
     "name": "stdout",
     "output_type": "stream",
     "text": [
      "Completed study for alpha=0.09\n"
     ]
    },
    {
     "name": "stderr",
     "output_type": "stream",
     "text": [
      "[I 2025-05-15 15:59:41,613] Trial 1 finished with values: [0.6571593558249319, 0.011954485415692079] and parameters: {'max_depth': 7, 'eta': 0.14084936677440815, 'subsample': 0.7741570466963312, 'colsample_bytree': 0.788918538921132}.\n",
      "[I 2025-05-15 15:59:41,725] Trial 2 finished with values: [0.6714394684360956, 0.028426634592244333] and parameters: {'max_depth': 7, 'eta': 0.263516160966826, 'subsample': 0.6438885114604629, 'colsample_bytree': 0.8016939151270774}.\n",
      "[I 2025-05-15 15:59:41,828] Trial 3 finished with values: [0.6693012042287391, 0.01939788049094951] and parameters: {'max_depth': 4, 'eta': 0.18069294535340946, 'subsample': 0.6248774964681304, 'colsample_bytree': 0.908857639106506}.\n",
      "[I 2025-05-15 15:59:41,938] Trial 4 finished with values: [0.6592991517401733, 0.023831079499725693] and parameters: {'max_depth': 3, 'eta': 0.21894271948478178, 'subsample': 0.8462589451344174, 'colsample_bytree': 0.9403408997751295}.\n",
      "[I 2025-05-15 15:59:42,051] Trial 5 finished with values: [0.6643032414002261, 0.025488845848405217] and parameters: {'max_depth': 5, 'eta': 0.23541195750400437, 'subsample': 0.8854485466545507, 'colsample_bytree': 0.651556781032223}.\n",
      "[I 2025-05-15 15:59:42,165] Trial 6 finished with values: [0.663581806986426, 0.023042607601289178] and parameters: {'max_depth': 7, 'eta': 0.24623983879292197, 'subsample': 0.9610152380106074, 'colsample_bytree': 0.7636349395758649}.\n",
      "[I 2025-05-15 15:59:42,271] Trial 7 finished with values: [0.6678721207721035, 0.0366470448887121] and parameters: {'max_depth': 5, 'eta': 0.23521861744790046, 'subsample': 0.6221373408000824, 'colsample_bytree': 0.9321170269184216}.\n",
      "[I 2025-05-15 15:59:42,388] Trial 8 finished with values: [0.6657170077780126, 0.023610724577655118] and parameters: {'max_depth': 7, 'eta': 0.2991835743615, 'subsample': 0.8674955576998091, 'colsample_bytree': 0.7575397379275262}.\n",
      "[I 2025-05-15 15:59:42,609] Trial 9 finished with values: [0.6557226138288715, 0.03536154424678071] and parameters: {'max_depth': 7, 'eta': 0.01795300142728487, 'subsample': 0.9236061907742512, 'colsample_bytree': 0.762584802653348}.\n",
      "[I 2025-05-15 15:59:42,614] A new study created in memory with name: no-name-5e812766-10c0-48f3-b5a0-02d9bb28f70b\n",
      "[I 2025-05-15 15:59:42,755] Trial 0 finished with values: [0.6671598766056128, 0.0344375262436696] and parameters: {'max_depth': 5, 'eta': 0.14608078419567594, 'subsample': 0.6306616294987851, 'colsample_bytree': 0.963548801925808}.\n"
     ]
    },
    {
     "name": "stdout",
     "output_type": "stream",
     "text": [
      "Completed study for alpha=0.1\n"
     ]
    },
    {
     "name": "stderr",
     "output_type": "stream",
     "text": [
      "[I 2025-05-15 15:59:42,902] Trial 1 finished with values: [0.6542965937880055, 0.01822150998582925] and parameters: {'max_depth': 5, 'eta': 0.09481087480673957, 'subsample': 0.8067580181237072, 'colsample_bytree': 0.7141701376217281}.\n",
      "[I 2025-05-15 15:59:43,032] Trial 2 finished with values: [0.6578731316993074, 0.014323827623571836] and parameters: {'max_depth': 5, 'eta': 0.21707484083757297, 'subsample': 0.8957083307878229, 'colsample_bytree': 0.7196834867584276}.\n",
      "[I 2025-05-15 15:59:43,166] Trial 3 finished with values: [0.6628726262357053, 0.017335353505384482] and parameters: {'max_depth': 6, 'eta': 0.1019428902298766, 'subsample': 0.6629870217303531, 'colsample_bytree': 0.8373608794233599}.\n",
      "[I 2025-05-15 15:59:43,295] Trial 4 finished with values: [0.6721624345577806, 0.022723516284791318] and parameters: {'max_depth': 6, 'eta': 0.2854757709313182, 'subsample': 0.6483582650982112, 'colsample_bytree': 0.7003557234609179}.\n",
      "[I 2025-05-15 15:59:43,419] Trial 5 finished with values: [0.6735899863065314, 0.025709044099320965] and parameters: {'max_depth': 5, 'eta': 0.2481952198126348, 'subsample': 0.779276165949611, 'colsample_bytree': 0.9079417418245614}.\n",
      "[I 2025-05-15 15:59:43,534] Trial 6 finished with values: [0.6693012042287391, 0.025698192157062167] and parameters: {'max_depth': 5, 'eta': 0.22435886275537728, 'subsample': 0.6070582209907519, 'colsample_bytree': 0.7661312402627908}.\n",
      "[I 2025-05-15 15:59:43,675] Trial 7 finished with values: [0.6535766910820904, 0.03032391986873484] and parameters: {'max_depth': 6, 'eta': 0.23568333104942954, 'subsample': 0.7701999238393931, 'colsample_bytree': 0.6949410823968082}.\n",
      "[I 2025-05-15 15:59:43,855] Trial 8 finished with values: [0.6614420110711846, 0.019320750813935805] and parameters: {'max_depth': 3, 'eta': 0.03066839622687769, 'subsample': 0.6847112659717975, 'colsample_bytree': 0.7238090249032002}.\n",
      "[I 2025-05-15 15:59:44,030] Trial 9 finished with values: [0.6721532443104711, 0.03115984151290564] and parameters: {'max_depth': 6, 'eta': 0.2751761807636726, 'subsample': 0.6041949795626075, 'colsample_bytree': 0.9231962788672177}.\n",
      "[I 2025-05-15 15:59:44,034] A new study created in memory with name: no-name-2663c260-5564-4577-b4b7-b58b27b140e4\n",
      "[I 2025-05-15 15:59:44,187] Trial 0 finished with values: [0.6607251717810393, 0.019725749304711993] and parameters: {'max_depth': 7, 'eta': 0.14865956077912348, 'subsample': 0.7292302842177113, 'colsample_bytree': 0.7658958738054732}.\n"
     ]
    },
    {
     "name": "stdout",
     "output_type": "stream",
     "text": [
      "Completed study for alpha=0.11\n"
     ]
    },
    {
     "name": "stderr",
     "output_type": "stream",
     "text": [
      "[I 2025-05-15 15:59:44,312] Trial 1 finished with values: [0.6643017096923413, 0.031941525699993256] and parameters: {'max_depth': 3, 'eta': 0.2912030290180874, 'subsample': 0.8865268800412953, 'colsample_bytree': 0.9025485082756828}.\n",
      "[I 2025-05-15 15:59:44,463] Trial 2 finished with values: [0.6564363897032469, 0.01814122035950715] and parameters: {'max_depth': 7, 'eta': 0.16256946601730213, 'subsample': 0.8728491779806051, 'colsample_bytree': 0.7121700025381096}.\n",
      "[I 2025-05-15 15:59:44,596] Trial 3 finished with values: [0.668581301522824, 0.030866871888781965] and parameters: {'max_depth': 5, 'eta': 0.26868234603943975, 'subsample': 0.9647896249235149, 'colsample_bytree': 0.7600198412780346}.\n",
      "[I 2025-05-15 15:59:44,753] Trial 4 finished with values: [0.6550103696623809, 0.03004625482028281] and parameters: {'max_depth': 7, 'eta': 0.059254284460736016, 'subsample': 0.7694144108976277, 'colsample_bytree': 0.8002766178742718}.\n",
      "[I 2025-05-15 15:59:44,917] Trial 5 finished with values: [0.6628695628199356, 0.024658776772597656] and parameters: {'max_depth': 7, 'eta': 0.17792042720247725, 'subsample': 0.8500811350079382, 'colsample_bytree': 0.8005289640138274}.\n",
      "[I 2025-05-15 15:59:45,061] Trial 6 finished with values: [0.6592930249086336, 0.0183026671617673] and parameters: {'max_depth': 4, 'eta': 0.12815603030725886, 'subsample': 0.7937409506014107, 'colsample_bytree': 0.9865410968227045}.\n",
      "[I 2025-05-15 15:59:45,222] Trial 7 finished with values: [0.6628726262357053, 0.021432608304825563] and parameters: {'max_depth': 4, 'eta': 0.05482034570392434, 'subsample': 0.695923876202925, 'colsample_bytree': 0.8702190143719384}.\n",
      "[I 2025-05-15 15:59:45,361] Trial 8 finished with values: [0.6550042428308412, 0.023249102637650454] and parameters: {'max_depth': 4, 'eta': 0.11448900694262115, 'subsample': 0.8582360626474406, 'colsample_bytree': 0.766034288980978}.\n",
      "[I 2025-05-15 15:59:45,507] Trial 9 finished with values: [0.6507261827082433, 0.012369177394282857] and parameters: {'max_depth': 3, 'eta': 0.09725778455739689, 'subsample': 0.9251884851897664, 'colsample_bytree': 0.8345944723442059}.\n",
      "[I 2025-05-15 15:59:45,517] A new study created in memory with name: no-name-c66b402a-3e5a-4563-9787-e501c9a4aa88\n",
      "[I 2025-05-15 15:59:45,640] Trial 0 finished with values: [0.6671568131898429, 0.024612870666395132] and parameters: {'max_depth': 3, 'eta': 0.2011944244717125, 'subsample': 0.7164304690162753, 'colsample_bytree': 0.9300418346352815}.\n"
     ]
    },
    {
     "name": "stdout",
     "output_type": "stream",
     "text": [
      "Completed study for alpha=0.12\n"
     ]
    },
    {
     "name": "stderr",
     "output_type": "stream",
     "text": [
      "[I 2025-05-15 15:59:45,946] Trial 1 finished with values: [0.6564379214111319, 0.010323354123235309] and parameters: {'max_depth': 6, 'eta': 0.03907405492263431, 'subsample': 0.6244281014417418, 'colsample_bytree': 0.8034331061159471}.\n",
      "[I 2025-05-15 15:59:46,096] Trial 2 finished with values: [0.6742976353493672, 0.02685809659896214] and parameters: {'max_depth': 6, 'eta': 0.29474089330491765, 'subsample': 0.6681657021388874, 'colsample_bytree': 0.7148390247753101}.\n",
      "[I 2025-05-15 15:59:46,233] Trial 3 finished with values: [0.6692920139814297, 0.02433561622530911] and parameters: {'max_depth': 5, 'eta': 0.14754119292311949, 'subsample': 0.753961450227616, 'colsample_bytree': 0.9093433029409906}.\n",
      "[I 2025-05-15 15:59:46,361] Trial 4 finished with values: [0.6607251717810393, 0.025003885308814245] and parameters: {'max_depth': 6, 'eta': 0.11888849523914188, 'subsample': 0.7244324592202853, 'colsample_bytree': 0.6492854025872877}.\n",
      "[I 2025-05-15 15:59:46,505] Trial 5 finished with values: [0.6785879491350446, 0.035215980503779] and parameters: {'max_depth': 7, 'eta': 0.25948592341940185, 'subsample': 0.8777851921049582, 'colsample_bytree': 0.7627814404335399}.\n",
      "[I 2025-05-15 15:59:46,625] Trial 6 finished with values: [0.6671476229425334, 0.018919373038575844] and parameters: {'max_depth': 5, 'eta': 0.19031068060541162, 'subsample': 0.806018887963677, 'colsample_bytree': 0.9964563681919517}.\n",
      "[I 2025-05-15 15:59:46,756] Trial 7 finished with values: [0.6607297669046941, 0.01603256271797897] and parameters: {'max_depth': 4, 'eta': 0.0680372947942191, 'subsample': 0.7066070325549908, 'colsample_bytree': 0.890957436991436}.\n",
      "[I 2025-05-15 15:59:46,883] Trial 8 finished with values: [0.6557256772446413, 0.013296935268211954] and parameters: {'max_depth': 3, 'eta': 0.06197907604989634, 'subsample': 0.8115571313342831, 'colsample_bytree': 0.7865496635014668}.\n",
      "[I 2025-05-15 15:59:46,999] Trial 9 finished with values: [0.6614466061948394, 0.021775070714130245] and parameters: {'max_depth': 3, 'eta': 0.27291752324645085, 'subsample': 0.8014685201815621, 'colsample_bytree': 0.6087513866019333}.\n",
      "[I 2025-05-15 15:59:47,002] A new study created in memory with name: no-name-9b7588be-a010-45c0-88c1-495cb0d3234e\n",
      "[I 2025-05-15 15:59:47,121] Trial 0 finished with values: [0.6664506958548921, 0.015168716688832304] and parameters: {'max_depth': 3, 'eta': 0.12630728094669638, 'subsample': 0.7785297222872071, 'colsample_bytree': 0.9453871207194692}.\n"
     ]
    },
    {
     "name": "stdout",
     "output_type": "stream",
     "text": [
      "Completed study for alpha=0.13\n"
     ]
    },
    {
     "name": "stderr",
     "output_type": "stream",
     "text": [
      "[I 2025-05-15 15:59:47,262] Trial 1 finished with values: [0.665006295319407, 0.010382334171141705] and parameters: {'max_depth': 6, 'eta': 0.2783374509191828, 'subsample': 0.9847216891956407, 'colsample_bytree': 0.645730684540094}.\n",
      "[I 2025-05-15 15:59:47,397] Trial 2 finished with values: [0.6742930402257125, 0.04037767713892351] and parameters: {'max_depth': 7, 'eta': 0.24712790347762864, 'subsample': 0.6386432475191866, 'colsample_bytree': 0.8867686098083778}.\n",
      "[I 2025-05-15 15:59:47,533] Trial 3 finished with values: [0.663583338694311, 0.023347073203235646] and parameters: {'max_depth': 7, 'eta': 0.11369272780485049, 'subsample': 0.787183071417825, 'colsample_bytree': 0.9799467660690879}.\n",
      "[I 2025-05-15 15:59:47,682] Trial 4 finished with values: [0.6585807807421431, 0.028105625112029974] and parameters: {'max_depth': 4, 'eta': 0.12620226544369303, 'subsample': 0.7748862163131979, 'colsample_bytree': 0.6496551941689247}.\n",
      "[I 2025-05-15 15:59:47,794] Trial 5 finished with values: [0.6578654731598828, 0.021196991750794297] and parameters: {'max_depth': 3, 'eta': 0.26805599674760344, 'subsample': 0.9248913800027128, 'colsample_bytree': 0.8638443112707164}.\n",
      "[I 2025-05-15 15:59:47,905] Trial 6 finished with values: [0.6685828332307088, 0.021712270766991698] and parameters: {'max_depth': 3, 'eta': 0.20159231499960287, 'subsample': 0.6103471047387878, 'colsample_bytree': 0.8927602103897607}.\n",
      "[I 2025-05-15 15:59:48,041] Trial 7 finished with values: [0.6635756801548863, 0.02541075120273034] and parameters: {'max_depth': 6, 'eta': 0.11761303974646059, 'subsample': 0.9113623908513384, 'colsample_bytree': 0.9277683339570995}.\n",
      "[I 2025-05-15 15:59:48,171] Trial 8 finished with values: [0.6685705795676294, 0.03627114254148606] and parameters: {'max_depth': 6, 'eta': 0.27760223329537403, 'subsample': 0.9217500842906267, 'colsample_bytree': 0.8037304724977168}.\n",
      "[I 2025-05-15 15:59:48,301] Trial 9 finished with values: [0.6664399738996977, 0.02649625695620042] and parameters: {'max_depth': 6, 'eta': 0.13121004750342605, 'subsample': 0.6807887531936632, 'colsample_bytree': 0.9076559167553536}.\n",
      "[I 2025-05-15 15:59:48,305] A new study created in memory with name: no-name-55f26cac-d03e-4491-8444-552d8b866a98\n",
      "[I 2025-05-15 15:59:48,409] Trial 0 finished with values: [0.6678736524799883, 0.01913716326841149] and parameters: {'max_depth': 3, 'eta': 0.23798666133661872, 'subsample': 0.6952617540615512, 'colsample_bytree': 0.8077213030834948}.\n"
     ]
    },
    {
     "name": "stdout",
     "output_type": "stream",
     "text": [
      "Completed study for alpha=0.14\n"
     ]
    },
    {
     "name": "stderr",
     "output_type": "stream",
     "text": [
      "[I 2025-05-15 15:59:48,523] Trial 1 finished with values: [0.6693012042287392, 0.030927835042223583] and parameters: {'max_depth': 4, 'eta': 0.2053984337198786, 'subsample': 0.6858390414523045, 'colsample_bytree': 0.9059319440965284}.\n",
      "[I 2025-05-15 15:59:48,686] Trial 2 finished with values: [0.6607236400731544, 0.021435177809657525] and parameters: {'max_depth': 6, 'eta': 0.07729112250123533, 'subsample': 0.7618505354615042, 'colsample_bytree': 0.9020746706934796}.\n",
      "[I 2025-05-15 15:59:48,847] Trial 3 finished with values: [0.6550134330781509, 0.031207622917297246] and parameters: {'max_depth': 6, 'eta': 0.035143018076894565, 'subsample': 0.9215003387482621, 'colsample_bytree': 0.62595434477077}.\n",
      "[I 2025-05-15 15:59:48,976] Trial 4 finished with values: [0.6678613988169088, 0.02210941961027448] and parameters: {'max_depth': 5, 'eta': 0.25253563273365015, 'subsample': 0.6505422343601251, 'colsample_bytree': 0.6030532093573273}.\n",
      "[I 2025-05-15 15:59:49,092] Trial 5 finished with values: [0.6607113864100749, 0.024617420279628256] and parameters: {'max_depth': 3, 'eta': 0.29530026324343434, 'subsample': 0.9208772184215077, 'colsample_bytree': 0.880533278554699}.\n",
      "[I 2025-05-15 15:59:49,205] Trial 6 finished with values: [0.6571547607012772, 0.014917983412726201] and parameters: {'max_depth': 3, 'eta': 0.205339684212935, 'subsample': 0.9137244143594766, 'colsample_bytree': 0.7729533210558472}.\n",
      "[I 2025-05-15 15:59:49,333] Trial 7 finished with values: [0.6692950773971994, 0.018988618629444343] and parameters: {'max_depth': 5, 'eta': 0.1457723643903497, 'subsample': 0.7552673590500301, 'colsample_bytree': 0.9600468371896551}.\n",
      "[I 2025-05-15 15:59:49,491] Trial 8 finished with values: [0.6557363991998358, 0.01828481526383117] and parameters: {'max_depth': 4, 'eta': 0.06376954076456506, 'subsample': 0.8459043006680999, 'colsample_bytree': 0.7793019602687845}.\n",
      "[I 2025-05-15 15:59:49,617] Trial 9 finished with values: [0.6757190602665784, 0.027751483258203858] and parameters: {'max_depth': 5, 'eta': 0.20835487300914782, 'subsample': 0.924428102479904, 'colsample_bytree': 0.6766033165772009}.\n",
      "[I 2025-05-15 15:59:49,620] A new study created in memory with name: no-name-1642522c-1335-478f-ac4a-07371ecc762c\n",
      "[I 2025-05-15 15:59:49,749] Trial 0 finished with values: [0.6664277202366181, 0.02332259580914947] and parameters: {'max_depth': 7, 'eta': 0.2999832440709409, 'subsample': 0.6063946643259497, 'colsample_bytree': 0.9770569997337749}.\n"
     ]
    },
    {
     "name": "stdout",
     "output_type": "stream",
     "text": [
      "Completed study for alpha=0.15\n"
     ]
    },
    {
     "name": "stderr",
     "output_type": "stream",
     "text": [
      "[I 2025-05-15 15:59:49,882] Trial 1 finished with values: [0.6607282351968092, 0.01819165125314807] and parameters: {'max_depth': 6, 'eta': 0.10510332090253634, 'subsample': 0.8593967682398005, 'colsample_bytree': 0.6794681185854009}.\n",
      "[I 2025-05-15 15:59:50,032] Trial 2 finished with values: [0.6578670048677676, 0.015630907391268555] and parameters: {'max_depth': 3, 'eta': 0.03304365343973033, 'subsample': 0.8424738949078807, 'colsample_bytree': 0.9244871705664756}.\n",
      "[I 2025-05-15 15:59:50,216] Trial 3 finished with values: [0.6721471174789313, 0.038245701995676125] and parameters: {'max_depth': 6, 'eta': 0.03307735686332793, 'subsample': 0.9950568901785861, 'colsample_bytree': 0.8601575973342783}.\n",
      "[I 2025-05-15 15:59:50,356] Trial 4 finished with values: [0.6614312891159901, 0.02116349274804702] and parameters: {'max_depth': 6, 'eta': 0.19818467369432757, 'subsample': 0.7103591291483247, 'colsample_bytree': 0.6828586404764971}.\n",
      "[I 2025-05-15 15:59:50,495] Trial 5 finished with values: [0.6735823277671068, 0.026110205751795807] and parameters: {'max_depth': 6, 'eta': 0.16827119291707568, 'subsample': 0.9465297304412901, 'colsample_bytree': 0.8955699419471043}.\n",
      "[I 2025-05-15 15:59:50,662] Trial 6 finished with values: [0.6635864021100808, 0.017480284470208673] and parameters: {'max_depth': 4, 'eta': 0.03811227222504695, 'subsample': 0.6647929963766935, 'colsample_bytree': 0.8961570692912804}.\n",
      "[I 2025-05-15 15:59:50,807] Trial 7 finished with values: [0.6764481532198031, 0.03218367555411556] and parameters: {'max_depth': 5, 'eta': 0.13140527490515408, 'subsample': 0.8080566822398348, 'colsample_bytree': 0.8840224482183971}.\n",
      "[I 2025-05-15 15:59:50,959] Trial 8 finished with values: [0.6628726262357053, 0.04355415920076835] and parameters: {'max_depth': 6, 'eta': 0.0656203545129023, 'subsample': 0.9351159005722296, 'colsample_bytree': 0.7935257718269523}.\n",
      "[I 2025-05-15 15:59:51,092] Trial 9 finished with values: [0.6742930402257125, 0.0292796798982566] and parameters: {'max_depth': 7, 'eta': 0.23486095067510088, 'subsample': 0.8830275897847958, 'colsample_bytree': 0.6368394969566477}.\n",
      "[I 2025-05-15 15:59:51,095] A new study created in memory with name: no-name-430ac828-b702-497b-8b28-45a5760cf5fc\n",
      "[I 2025-05-15 15:59:51,227] Trial 0 finished with values: [0.672154776018356, 0.01962564597606342] and parameters: {'max_depth': 7, 'eta': 0.24776353488189573, 'subsample': 0.7818373663241385, 'colsample_bytree': 0.6345911603110812}.\n"
     ]
    },
    {
     "name": "stdout",
     "output_type": "stream",
     "text": [
      "Completed study for alpha=0.16\n"
     ]
    },
    {
     "name": "stderr",
     "output_type": "stream",
     "text": [
      "[I 2025-05-15 15:59:51,352] Trial 1 finished with values: [0.6692904822735445, 0.04782167596278745] and parameters: {'max_depth': 5, 'eta': 0.2500318959436425, 'subsample': 0.9172800204634208, 'colsample_bytree': 0.865633187823446}.\n",
      "[I 2025-05-15 15:59:51,483] Trial 2 finished with values: [0.6600144593224337, 0.01620881219204211] and parameters: {'max_depth': 3, 'eta': 0.04570101450207777, 'subsample': 0.7066504438243222, 'colsample_bytree': 0.9256941643699196}.\n",
      "[I 2025-05-15 15:59:51,698] Trial 3 finished with values: [0.6699981313163804, 0.03791301227483588] and parameters: {'max_depth': 6, 'eta': 0.016817092545619965, 'subsample': 0.9169109470785074, 'colsample_bytree': 0.869919039482066}.\n",
      "[I 2025-05-15 15:59:51,813] Trial 4 finished with values: [0.6535843496215149, 0.02554507960085109] and parameters: {'max_depth': 3, 'eta': 0.060893216891642746, 'subsample': 0.9340313139551325, 'colsample_bytree': 0.9281241924078849}.\n",
      "[I 2025-05-15 15:59:51,946] Trial 5 finished with values: [0.672154776018356, 0.01491236481672431] and parameters: {'max_depth': 6, 'eta': 0.19336828090304617, 'subsample': 0.8552942512448161, 'colsample_bytree': 0.7670333195878525}.\n",
      "[I 2025-05-15 15:59:52,082] Trial 6 finished with values: [0.6657261980253223, 0.039994386601478034] and parameters: {'max_depth': 5, 'eta': 0.08121192194596631, 'subsample': 0.60984678162715, 'colsample_bytree': 0.8806784306174965}.\n",
      "[I 2025-05-15 15:59:52,287] Trial 7 finished with values: [0.6585807807421431, 0.02486206248467619] and parameters: {'max_depth': 5, 'eta': 0.01851100502495067, 'subsample': 0.8528719014312516, 'colsample_bytree': 0.7275785696187389}.\n",
      "[I 2025-05-15 15:59:52,423] Trial 8 finished with values: [0.6742899768099426, 0.038894956645650854] and parameters: {'max_depth': 7, 'eta': 0.17757478187071837, 'subsample': 0.7551429818661516, 'colsample_bytree': 0.8955647297987333}.\n",
      "[I 2025-05-15 15:59:52,545] Trial 9 finished with values: [0.6571455704539676, 0.02574440306172075] and parameters: {'max_depth': 3, 'eta': 0.08169034929616954, 'subsample': 0.7824638749058768, 'colsample_bytree': 0.6799254325067554}.\n",
      "[I 2025-05-15 15:59:52,548] A new study created in memory with name: no-name-44e66e1c-4135-47df-90b9-85b7e87bf1ad\n",
      "[I 2025-05-15 15:59:52,673] Trial 0 finished with values: [0.6785711003483104, 0.014731414719295214] and parameters: {'max_depth': 7, 'eta': 0.1985942254147221, 'subsample': 0.7748356266634056, 'colsample_bytree': 0.8479416133867963}.\n"
     ]
    },
    {
     "name": "stdout",
     "output_type": "stream",
     "text": [
      "Completed study for alpha=0.17\n"
     ]
    },
    {
     "name": "stderr",
     "output_type": "stream",
     "text": [
      "[I 2025-05-15 15:59:52,815] Trial 1 finished with values: [0.6650124221509467, 0.034506500276415275] and parameters: {'max_depth': 6, 'eta': 0.11090188267222365, 'subsample': 0.8323559736638779, 'colsample_bytree': 0.8389995689105326}.\n",
      "[I 2025-05-15 15:59:52,963] Trial 2 finished with values: [0.6642909877371467, 0.020393526496447] and parameters: {'max_depth': 4, 'eta': 0.046596495439626864, 'subsample': 0.6592412509648039, 'colsample_bytree': 0.6138143902988138}.\n",
      "[I 2025-05-15 15:59:53,116] Trial 3 finished with values: [0.6757129334350388, 0.025415309242838968] and parameters: {'max_depth': 6, 'eta': 0.28044860692114887, 'subsample': 0.790824040826935, 'colsample_bytree': 0.841861988658557}.\n",
      "[I 2025-05-15 15:59:53,317] Trial 4 finished with values: [0.663581806986426, 0.024487718116820618] and parameters: {'max_depth': 6, 'eta': 0.01957429065766233, 'subsample': 0.7844278116909486, 'colsample_bytree': 0.6650462847693956}.\n",
      "[I 2025-05-15 15:59:53,426] Trial 5 finished with values: [0.6628634359883958, 0.022324227896099003] and parameters: {'max_depth': 3, 'eta': 0.16948494901499117, 'subsample': 0.7498180614898369, 'colsample_bytree': 0.9973556393390645}.\n",
      "[I 2025-05-15 15:59:53,531] Trial 6 finished with values: [0.6642894560292617, 0.01869227740118164] and parameters: {'max_depth': 3, 'eta': 0.22212705398610533, 'subsample': 0.7864076974882511, 'colsample_bytree': 0.6347778449620322}.\n",
      "[I 2025-05-15 15:59:53,667] Trial 7 finished with values: [0.6714302781887861, 0.014798293372145591] and parameters: {'max_depth': 7, 'eta': 0.1833067521420063, 'subsample': 0.7738393444075109, 'colsample_bytree': 0.7032206581862226}.\n",
      "[I 2025-05-15 15:59:53,797] Trial 8 finished with values: [0.6664384421918127, 0.030626770073987147] and parameters: {'max_depth': 4, 'eta': 0.09413882110627, 'subsample': 0.9124772340403432, 'colsample_bytree': 0.7341503850782655}.\n",
      "[I 2025-05-15 15:59:53,949] Trial 9 finished with values: [0.6585899709894526, 0.02350085243909879] and parameters: {'max_depth': 5, 'eta': 0.0433316326636499, 'subsample': 0.6656210081311146, 'colsample_bytree': 0.9949637125943551}.\n",
      "[I 2025-05-15 15:59:53,952] A new study created in memory with name: no-name-f1c02f8a-5dbe-4a98-bce7-bc24e55aae88\n",
      "[I 2025-05-15 15:59:54,071] Trial 0 finished with values: [0.6585807807421431, 0.026551623496586924] and parameters: {'max_depth': 3, 'eta': 0.09236965598426584, 'subsample': 0.719662242507694, 'colsample_bytree': 0.6739259238210386}.\n"
     ]
    },
    {
     "name": "stdout",
     "output_type": "stream",
     "text": [
      "Completed study for alpha=0.18\n"
     ]
    },
    {
     "name": "stderr",
     "output_type": "stream",
     "text": [
      "[I 2025-05-15 15:59:54,202] Trial 1 finished with values: [0.6757221236823483, 0.027663636075198172] and parameters: {'max_depth': 6, 'eta': 0.2766602741120737, 'subsample': 0.6224694769159882, 'colsample_bytree': 0.6090820219619717}.\n",
      "[I 2025-05-15 15:59:54,407] Trial 2 finished with values: [0.6721501808947012, 0.02710489165354966] and parameters: {'max_depth': 7, 'eta': 0.1367571231777869, 'subsample': 0.7660418325701247, 'colsample_bytree': 0.9461543545643707}.\n",
      "[I 2025-05-15 15:59:54,537] Trial 3 finished with values: [0.6714318098966711, 0.035809027612704825] and parameters: {'max_depth': 7, 'eta': 0.16876056070202436, 'subsample': 0.635235809421259, 'colsample_bytree': 0.645441760051371}.\n",
      "[I 2025-05-15 15:59:54,781] Trial 4 finished with values: [0.6764236458936445, 0.043233058693977776] and parameters: {'max_depth': 6, 'eta': 0.013829086032417795, 'subsample': 0.9905210312791054, 'colsample_bytree': 0.9088035042956131}.\n",
      "[I 2025-05-15 15:59:54,918] Trial 5 finished with values: [0.6635879338179658, 0.02938444671904421] and parameters: {'max_depth': 4, 'eta': 0.07023504139880071, 'subsample': 0.636652080488461, 'colsample_bytree': 0.7599651451078484}.\n",
      "[I 2025-05-15 15:59:55,034] Trial 6 finished with values: [0.6721624345577806, 0.02424913011588209] and parameters: {'max_depth': 3, 'eta': 0.18700591459214094, 'subsample': 0.6693051395150043, 'colsample_bytree': 0.6874602848110993}.\n",
      "[I 2025-05-15 15:59:55,259] Trial 7 finished with values: [0.6628649676962808, 0.01976730553398427] and parameters: {'max_depth': 6, 'eta': 0.02259888878913691, 'subsample': 0.6648614315991629, 'colsample_bytree': 0.6421874841249374}.\n",
      "[I 2025-05-15 15:59:55,423] Trial 8 finished with values: [0.6785772271798501, 0.021788691897523842] and parameters: {'max_depth': 5, 'eta': 0.1539594662568843, 'subsample': 0.9240031607248933, 'colsample_bytree': 0.7211123883478682}.\n",
      "[I 2025-05-15 15:59:55,602] Trial 9 finished with values: [0.6671552814819579, 0.03307790178144785] and parameters: {'max_depth': 5, 'eta': 0.07054400704760351, 'subsample': 0.8542429354946577, 'colsample_bytree': 0.8337083418085433}.\n",
      "[I 2025-05-15 15:59:55,605] A new study created in memory with name: no-name-e0006f77-7d78-45e5-8ef4-805814ad0a6f\n",
      "[I 2025-05-15 15:59:55,743] Trial 0 finished with values: [0.6628710945278204, 0.021132977300991274] and parameters: {'max_depth': 3, 'eta': 0.19714362270503188, 'subsample': 0.6120758920248496, 'colsample_bytree': 0.728327950936003}.\n"
     ]
    },
    {
     "name": "stdout",
     "output_type": "stream",
     "text": [
      "Completed study for alpha=0.19\n"
     ]
    },
    {
     "name": "stderr",
     "output_type": "stream",
     "text": [
      "[I 2025-05-15 15:59:55,922] Trial 1 finished with values: [0.6621557869455601, 0.025812137404965806] and parameters: {'max_depth': 4, 'eta': 0.07035146027485358, 'subsample': 0.6796487474318693, 'colsample_bytree': 0.8231623617394863}.\n",
      "[I 2025-05-15 15:59:56,086] Trial 2 finished with values: [0.6785787588877351, 0.07251780902558631] and parameters: {'max_depth': 7, 'eta': 0.2737356382255701, 'subsample': 0.9842955025457891, 'colsample_bytree': 0.9322668834775972}.\n",
      "[I 2025-05-15 15:59:56,250] Trial 3 finished with values: [0.6807216182187462, 0.03322326369205544] and parameters: {'max_depth': 6, 'eta': 0.11984409346710338, 'subsample': 0.8817203281982955, 'colsample_bytree': 0.9514519939270953}.\n",
      "[I 2025-05-15 15:59:56,415] Trial 4 finished with values: [0.665009358735177, 0.026435801168028756] and parameters: {'max_depth': 4, 'eta': 0.04329742079202331, 'subsample': 0.6601546834409658, 'colsample_bytree': 0.8173004076773601}.\n",
      "[I 2025-05-15 15:59:56,552] Trial 5 finished with values: [0.665006295319407, 0.03326847559161512] and parameters: {'max_depth': 4, 'eta': 0.1627738970673869, 'subsample': 0.9879099639967386, 'colsample_bytree': 0.8842847347425642}.\n",
      "[I 2025-05-15 15:59:56,688] Trial 6 finished with values: [0.6685751746912842, 0.02574780547789618] and parameters: {'max_depth': 5, 'eta': 0.15744039760167072, 'subsample': 0.9781996086491697, 'colsample_bytree': 0.679192050585705}.\n",
      "[I 2025-05-15 15:59:56,847] Trial 7 finished with values: [0.6749991575606633, 0.02880985560655454] and parameters: {'max_depth': 5, 'eta': 0.08298931714204635, 'subsample': 0.9264577599897433, 'colsample_bytree': 0.9899528330079304}.\n",
      "[I 2025-05-15 15:59:56,994] Trial 8 finished with values: [0.6800124374680255, 0.0471195821338136] and parameters: {'max_depth': 7, 'eta': 0.21284704274838423, 'subsample': 0.6736573570869517, 'colsample_bytree': 0.9244771849209678}.\n",
      "[I 2025-05-15 15:59:57,138] Trial 9 finished with values: [0.6814292672615819, 0.027801924625463808] and parameters: {'max_depth': 7, 'eta': 0.25594631450576255, 'subsample': 0.6416734741766097, 'colsample_bytree': 0.6057877465291381}.\n",
      "[I 2025-05-15 15:59:57,142] A new study created in memory with name: no-name-dcecd803-e33d-4c64-99ba-9a269af0f8b7\n",
      "[I 2025-05-15 15:59:57,318] Trial 0 finished with values: [0.6771558022626388, 0.0420571361023972] and parameters: {'max_depth': 6, 'eta': 0.038638267853985726, 'subsample': 0.7801109050274291, 'colsample_bytree': 0.8817246239039433}.\n"
     ]
    },
    {
     "name": "stdout",
     "output_type": "stream",
     "text": [
      "Completed study for alpha=0.2\n"
     ]
    },
    {
     "name": "stderr",
     "output_type": "stream",
     "text": [
      "[I 2025-05-15 15:59:57,464] Trial 1 finished with values: [0.6671522180661883, 0.030730093737714792] and parameters: {'max_depth': 5, 'eta': 0.0805833347564256, 'subsample': 0.7289285403578571, 'colsample_bytree': 0.61219022513761}.\n",
      "[I 2025-05-15 15:59:57,605] Trial 2 finished with values: [0.6607297669046941, 0.021789684510153784] and parameters: {'max_depth': 3, 'eta': 0.05973058994196343, 'subsample': 0.8529613770505428, 'colsample_bytree': 0.744444149793786}.\n",
      "[I 2025-05-15 15:59:57,756] Trial 3 finished with values: [0.6671491546504184, 0.021173927612287313] and parameters: {'max_depth': 7, 'eta': 0.08868378185869752, 'subsample': 0.7283992370435693, 'colsample_bytree': 0.8102660689004217}.\n",
      "[I 2025-05-15 15:59:57,875] Trial 4 finished with values: [0.6728608933533068, 0.03801483403089811] and parameters: {'max_depth': 4, 'eta': 0.16573459762227755, 'subsample': 0.9011987152256502, 'colsample_bytree': 0.8845283441344152}.\n",
      "[I 2025-05-15 15:59:58,002] Trial 5 finished with values: [0.6707149706065256, 0.02989815139812464] and parameters: {'max_depth': 5, 'eta': 0.19010350654650807, 'subsample': 0.8614909865498069, 'colsample_bytree': 0.6443843396865533}.\n",
      "[I 2025-05-15 15:59:58,137] Trial 6 finished with values: [0.6750068161000878, 0.02308342262789337] and parameters: {'max_depth': 7, 'eta': 0.1440812323044981, 'subsample': 0.749247025075692, 'colsample_bytree': 0.6720300641009356}.\n",
      "[I 2025-05-15 15:59:58,242] Trial 7 finished with values: [0.6678690573563335, 0.026809311576495253] and parameters: {'max_depth': 3, 'eta': 0.15841415359577274, 'subsample': 0.6877033988678882, 'colsample_bytree': 0.859442859983815}.\n",
      "[I 2025-05-15 15:59:58,355] Trial 8 finished with values: [0.6614389476554148, 0.02389840742288224] and parameters: {'max_depth': 3, 'eta': 0.12310162493983344, 'subsample': 0.6576579763689449, 'colsample_bytree': 0.8979908389123217}.\n",
      "[I 2025-05-15 15:59:58,466] Trial 9 finished with values: [0.6700165118109994, 0.0347905321701615] and parameters: {'max_depth': 4, 'eta': 0.27690019551242806, 'subsample': 0.782269924290214, 'colsample_bytree': 0.7413718994609559}.\n",
      "[I 2025-05-15 15:59:58,470] A new study created in memory with name: no-name-511f51bf-1626-48f3-aba0-2bfc3f0b29c8\n",
      "[I 2025-05-15 15:59:58,597] Trial 0 finished with values: [0.6800155008837954, 0.04410677561440154] and parameters: {'max_depth': 5, 'eta': 0.1854842480300204, 'subsample': 0.7138777610871052, 'colsample_bytree': 0.8939884970962448}.\n"
     ]
    },
    {
     "name": "stdout",
     "output_type": "stream",
     "text": [
      "Completed study for alpha=0.21\n"
     ]
    },
    {
     "name": "stderr",
     "output_type": "stream",
     "text": [
      "[I 2025-05-15 15:59:58,748] Trial 1 finished with values: [0.6757267188060031, 0.03253828706482389] and parameters: {'max_depth': 6, 'eta': 0.12059040791924973, 'subsample': 0.7208328046493904, 'colsample_bytree': 0.8990511391237053}.\n",
      "[I 2025-05-15 15:59:58,872] Trial 2 finished with values: [0.6678705890642184, 0.02451507502365502] and parameters: {'max_depth': 3, 'eta': 0.17272540933519862, 'subsample': 0.6851798203055601, 'colsample_bytree': 0.8616707506088924}.\n",
      "[I 2025-05-15 15:59:59,010] Trial 3 finished with values: [0.6814384575088915, 0.04336654067700435] and parameters: {'max_depth': 7, 'eta': 0.1182454121001879, 'subsample': 0.7659973373788814, 'colsample_bytree': 0.8336830784397706}.\n",
      "[I 2025-05-15 15:59:59,176] Trial 4 finished with values: [0.6771450803074445, 0.032391543084051864] and parameters: {'max_depth': 6, 'eta': 0.03519248128007436, 'subsample': 0.8560129073343922, 'colsample_bytree': 0.9975280969024283}.\n",
      "[I 2025-05-15 15:59:59,296] Trial 5 finished with values: [0.6735762009355671, 0.019531213445929303] and parameters: {'max_depth': 5, 'eta': 0.19907945830378368, 'subsample': 0.791618715177925, 'colsample_bytree': 0.7079484101379159}.\n",
      "[I 2025-05-15 15:59:59,430] Trial 6 finished with values: [0.6635864021100808, 0.01727930118523066] and parameters: {'max_depth': 3, 'eta': 0.0495045786243294, 'subsample': 0.6640632787547021, 'colsample_bytree': 0.9016872822830473}.\n",
      "[I 2025-05-15 15:59:59,592] Trial 7 finished with values: [0.6735838594749918, 0.0323541258606467] and parameters: {'max_depth': 7, 'eta': 0.08467729398960384, 'subsample': 0.7984164956749702, 'colsample_bytree': 0.6542792428661987}.\n",
      "[I 2025-05-15 15:59:59,710] Trial 8 finished with values: [0.6628680311120506, 0.029946492373271582] and parameters: {'max_depth': 3, 'eta': 0.12414201650854532, 'subsample': 0.8191951164073188, 'colsample_bytree': 0.858002081982696}.\n",
      "[I 2025-05-15 15:59:59,829] Trial 9 finished with values: [0.6757236553902333, 0.03864017026105817] and parameters: {'max_depth': 5, 'eta': 0.1584507205742131, 'subsample': 0.6674639685651204, 'colsample_bytree': 0.9379358795853849}.\n",
      "[I 2025-05-15 15:59:59,832] A new study created in memory with name: no-name-6309a1ae-af5b-4336-bd83-a949cfd2e892\n",
      "[I 2025-05-15 15:59:59,954] Trial 0 finished with values: [0.6643017096923413, 0.03186274810506207] and parameters: {'max_depth': 4, 'eta': 0.12437431613285052, 'subsample': 0.6849886188131451, 'colsample_bytree': 0.8019881716553845}.\n"
     ]
    },
    {
     "name": "stdout",
     "output_type": "stream",
     "text": [
      "Completed study for alpha=0.22\n"
     ]
    },
    {
     "name": "stderr",
     "output_type": "stream",
     "text": [
      "[I 2025-05-15 16:00:00,106] Trial 1 finished with values: [0.6692904822735447, 0.008544566896461159] and parameters: {'max_depth': 6, 'eta': 0.20559647312341475, 'subsample': 0.7389183735487441, 'colsample_bytree': 0.696308036262023}.\n",
      "[I 2025-05-15 16:00:00,240] Trial 2 finished with values: [0.6785726320561953, 0.05864366173691457] and parameters: {'max_depth': 5, 'eta': 0.26381745122352096, 'subsample': 0.9688862608128824, 'colsample_bytree': 0.6835877921120717}.\n",
      "[I 2025-05-15 16:00:00,364] Trial 3 finished with values: [0.6564363897032469, 0.019458709804608076] and parameters: {'max_depth': 3, 'eta': 0.18582504178095718, 'subsample': 0.930332848535034, 'colsample_bytree': 0.7313868022598241}.\n",
      "[I 2025-05-15 16:00:00,619] Trial 4 finished with values: [0.6628741579435903, 0.01965546376064578] and parameters: {'max_depth': 7, 'eta': 0.018011886281843283, 'subsample': 0.6376313915398977, 'colsample_bytree': 0.696273349612806}.\n",
      "[I 2025-05-15 16:00:00,774] Trial 5 finished with values: [0.668581301522824, 0.02856707619167011] and parameters: {'max_depth': 4, 'eta': 0.04314323089624967, 'subsample': 0.8820707939377487, 'colsample_bytree': 0.9904789517768697}.\n",
      "[I 2025-05-15 16:00:00,971] Trial 6 finished with values: [0.6750022209764331, 0.05301976203860836] and parameters: {'max_depth': 6, 'eta': 0.22524675719882478, 'subsample': 0.849978774409141, 'colsample_bytree': 0.8300556425258903}.\n",
      "[I 2025-05-15 16:00:01,152] Trial 7 finished with values: [0.6800001838049462, 0.035966583386714046] and parameters: {'max_depth': 7, 'eta': 0.20341151984712988, 'subsample': 0.7094637123447138, 'colsample_bytree': 0.6233354829832904}.\n",
      "[I 2025-05-15 16:00:01,297] Trial 8 finished with values: [0.668582833230709, 0.023741078245377172] and parameters: {'max_depth': 3, 'eta': 0.25552764550773943, 'subsample': 0.7613774405755983, 'colsample_bytree': 0.6671446754432796}.\n",
      "[I 2025-05-15 16:00:01,464] Trial 9 finished with values: [0.6792864079305708, 0.01947435764086621] and parameters: {'max_depth': 7, 'eta': 0.22432845607699192, 'subsample': 0.8313640142803552, 'colsample_bytree': 0.836992849923112}.\n",
      "[I 2025-05-15 16:00:01,468] A new study created in memory with name: no-name-cd3c48ce-7849-44ac-aeee-591931a8f0a3\n",
      "[I 2025-05-15 16:00:01,603] Trial 0 finished with values: [0.6642925194450315, 0.03243970367495238] and parameters: {'max_depth': 4, 'eta': 0.10680486823356139, 'subsample': 0.9386774637152265, 'colsample_bytree': 0.6316750220718608}.\n"
     ]
    },
    {
     "name": "stdout",
     "output_type": "stream",
     "text": [
      "Completed study for alpha=0.23\n"
     ]
    },
    {
     "name": "stderr",
     "output_type": "stream",
     "text": [
      "[I 2025-05-15 16:00:01,774] Trial 1 finished with values: [0.6621527235297903, 0.022711536107654112] and parameters: {'max_depth': 6, 'eta': 0.1367224069770996, 'subsample': 0.6911603965476419, 'colsample_bytree': 0.6986600889280996}.\n",
      "[I 2025-05-15 16:00:02,079] Trial 2 finished with values: [0.6685767063991692, 0.0369988310742436] and parameters: {'max_depth': 7, 'eta': 0.018829197815858574, 'subsample': 0.8018828192571184, 'colsample_bytree': 0.8422291816874181}.\n",
      "[I 2025-05-15 16:00:02,370] Trial 3 finished with values: [0.6850058051728839, 0.05916064729781953] and parameters: {'max_depth': 6, 'eta': 0.27623057714432975, 'subsample': 0.736634424831337, 'colsample_bytree': 0.739133284560119}.\n",
      "[I 2025-05-15 16:00:02,562] Trial 4 finished with values: [0.6742746597310934, 0.04808824094406439] and parameters: {'max_depth': 5, 'eta': 0.2647310123504516, 'subsample': 0.8818243375808428, 'colsample_bytree': 0.677790783867835}.\n",
      "[I 2025-05-15 16:00:02,722] Trial 5 finished with values: [0.6635802752785411, 0.020880694524710752] and parameters: {'max_depth': 3, 'eta': 0.12683797454007045, 'subsample': 0.8922234151853343, 'colsample_bytree': 0.6483949642466461}.\n",
      "[I 2025-05-15 16:00:02,886] Trial 6 finished with values: [0.6650124221509468, 0.029946332923926306] and parameters: {'max_depth': 3, 'eta': 0.10255778957939875, 'subsample': 0.634716673595102, 'colsample_bytree': 0.8844123678271246}.\n",
      "[I 2025-05-15 16:00:03,068] Trial 7 finished with values: [0.6671445595267635, 0.03779206061412841] and parameters: {'max_depth': 7, 'eta': 0.13724704111058403, 'subsample': 0.8010147269368492, 'colsample_bytree': 0.6933528371519402}.\n",
      "[I 2025-05-15 16:00:03,221] Trial 8 finished with values: [0.6664369104839278, 0.006984268613014451] and parameters: {'max_depth': 6, 'eta': 0.16770989954978946, 'subsample': 0.7291253724008341, 'colsample_bytree': 0.716277258449924}.\n",
      "[I 2025-05-15 16:00:03,428] Trial 9 finished with values: [0.6678705890642184, 0.03261788348320103] and parameters: {'max_depth': 6, 'eta': 0.08742143333344468, 'subsample': 0.8447903299853016, 'colsample_bytree': 0.7037410053296812}.\n",
      "[I 2025-05-15 16:00:03,432] A new study created in memory with name: no-name-0249f138-10d6-4bdf-874e-0f4bd4b08348\n",
      "[I 2025-05-15 16:00:03,637] Trial 0 finished with values: [0.6635894655258506, 0.017456716809166616] and parameters: {'max_depth': 3, 'eta': 0.0200622970961093, 'subsample': 0.6174772998887812, 'colsample_bytree': 0.8543044429045976}.\n"
     ]
    },
    {
     "name": "stdout",
     "output_type": "stream",
     "text": [
      "Completed study for alpha=0.24\n"
     ]
    },
    {
     "name": "stderr",
     "output_type": "stream",
     "text": [
      "[I 2025-05-15 16:00:03,788] Trial 1 finished with values: [0.6692874188577748, 0.03797457634637299] and parameters: {'max_depth': 5, 'eta': 0.23781918623327597, 'subsample': 0.9976170698100186, 'colsample_bytree': 0.6657000272858146}.\n",
      "[I 2025-05-15 16:00:03,936] Trial 2 finished with values: [0.6835889753793274, 0.033711710710416454] and parameters: {'max_depth': 4, 'eta': 0.2920421640886861, 'subsample': 0.6180279183561793, 'colsample_bytree': 0.6483073885432732}.\n",
      "[I 2025-05-15 16:00:04,142] Trial 3 finished with values: [0.6721501808947012, 0.03803670156853733] and parameters: {'max_depth': 6, 'eta': 0.026930152118433776, 'subsample': 0.6986575309245597, 'colsample_bytree': 0.8517672289187597}.\n",
      "[I 2025-05-15 16:00:04,332] Trial 4 finished with values: [0.6750098795158577, 0.03635711079968715] and parameters: {'max_depth': 6, 'eta': 0.06738190171673307, 'subsample': 0.7994180446316318, 'colsample_bytree': 0.8895789727883809}.\n",
      "[I 2025-05-15 16:00:04,451] Trial 5 finished with values: [0.6600068007830091, 0.03573845345714408] and parameters: {'max_depth': 3, 'eta': 0.16519836891985812, 'subsample': 0.7973766967825087, 'colsample_bytree': 0.9674765217602436}.\n",
      "[I 2025-05-15 16:00:04,598] Trial 6 finished with values: [0.6714394684360956, 0.025038681016171793] and parameters: {'max_depth': 7, 'eta': 0.22367673444782316, 'subsample': 0.6992757956234571, 'colsample_bytree': 0.6932038455744035}.\n",
      "[I 2025-05-15 16:00:04,758] Trial 7 finished with values: [0.6714287464809011, 0.02782203726560371] and parameters: {'max_depth': 6, 'eta': 0.14318692277354814, 'subsample': 0.8754398960220664, 'colsample_bytree': 0.8282998832373181}.\n",
      "[I 2025-05-15 16:00:04,884] Trial 8 finished with values: [0.6814338623852368, 0.04777935370505242] and parameters: {'max_depth': 4, 'eta': 0.20725128974419846, 'subsample': 0.6616990927987559, 'colsample_bytree': 0.8160980490058568}.\n",
      "[I 2025-05-15 16:00:05,023] Trial 9 finished with values: [0.6664277202366183, 0.02069801628653171] and parameters: {'max_depth': 4, 'eta': 0.19657033152610323, 'subsample': 0.7911746236604722, 'colsample_bytree': 0.6570466794654023}.\n",
      "[I 2025-05-15 16:00:05,027] A new study created in memory with name: no-name-2165784a-dcaf-4c4b-917a-2f707e8b56dc\n",
      "[I 2025-05-15 16:00:05,183] Trial 0 finished with values: [0.655008837954496, 0.042515960726753226] and parameters: {'max_depth': 3, 'eta': 0.17563238970811113, 'subsample': 0.891839784060877, 'colsample_bytree': 0.9036678052196638}.\n"
     ]
    },
    {
     "name": "stdout",
     "output_type": "stream",
     "text": [
      "Completed study for alpha=0.25\n"
     ]
    },
    {
     "name": "stderr",
     "output_type": "stream",
     "text": [
      "[I 2025-05-15 16:00:05,340] Trial 1 finished with values: [0.6907236707073121, 0.06845090255191183] and parameters: {'max_depth': 7, 'eta': 0.23824918699966488, 'subsample': 0.7689565175500797, 'colsample_bytree': 0.8649398041510601}.\n",
      "[I 2025-05-15 16:00:05,478] Trial 2 finished with values: [0.6778726415527841, 0.06328325433417732] and parameters: {'max_depth': 3, 'eta': 0.28275175765036376, 'subsample': 0.6002177474216035, 'colsample_bytree': 0.7799554915478019}.\n",
      "[I 2025-05-15 16:00:05,634] Trial 3 finished with values: [0.6607267034889243, 0.036493292513050245] and parameters: {'max_depth': 3, 'eta': 0.06297581606557663, 'subsample': 0.7569327974279453, 'colsample_bytree': 0.8036983086647109}.\n",
      "[I 2025-05-15 16:00:05,788] Trial 4 finished with values: [0.6692920139814297, 0.020859782213560663] and parameters: {'max_depth': 5, 'eta': 0.14378466500420695, 'subsample': 0.8949104804943241, 'colsample_bytree': 0.7001981831322833}.\n",
      "[I 2025-05-15 16:00:05,983] Trial 5 finished with values: [0.6607205766573846, 0.045244697634072566] and parameters: {'max_depth': 5, 'eta': 0.038861297111520844, 'subsample': 0.9705436559804925, 'colsample_bytree': 0.6784932513157904}.\n",
      "[I 2025-05-15 16:00:06,163] Trial 6 finished with values: [0.6842859024669687, 0.05938518976464352] and parameters: {'max_depth': 7, 'eta': 0.2741981871168877, 'subsample': 0.9020465676593793, 'colsample_bytree': 0.8099821881534028}.\n",
      "[I 2025-05-15 16:00:06,345] Trial 7 finished with values: [0.6864333569216349, 0.04993797720865265] and parameters: {'max_depth': 6, 'eta': 0.29436768170939726, 'subsample': 0.9847998073857871, 'colsample_bytree': 0.9834789765154477}.\n",
      "[I 2025-05-15 16:00:06,504] Trial 8 finished with values: [0.6792971298857652, 0.06747348988019633] and parameters: {'max_depth': 7, 'eta': 0.25558705133282505, 'subsample': 0.8485229760989765, 'colsample_bytree': 0.7780869499010863}.\n",
      "[I 2025-05-15 16:00:06,665] Trial 9 finished with values: [0.6592884297849788, 0.030574518656253564] and parameters: {'max_depth': 4, 'eta': 0.07809181260909961, 'subsample': 0.9801218928436555, 'colsample_bytree': 0.8206165263978568}.\n",
      "[I 2025-05-15 16:00:06,669] A new study created in memory with name: no-name-d60574a1-f43f-4e0f-a89f-18eb19f545b6\n",
      "[I 2025-05-15 16:00:06,816] Trial 0 finished with values: [0.673579264351337, 0.019989882009140352] and parameters: {'max_depth': 4, 'eta': 0.16159202488924462, 'subsample': 0.6744382556361663, 'colsample_bytree': 0.6005570952857511}.\n"
     ]
    },
    {
     "name": "stdout",
     "output_type": "stream",
     "text": [
      "Completed study for alpha=0.26\n"
     ]
    },
    {
     "name": "stderr",
     "output_type": "stream",
     "text": [
      "[I 2025-05-15 16:00:06,961] Trial 1 finished with values: [0.6778665147212445, 0.050119473585043935] and parameters: {'max_depth': 5, 'eta': 0.23916768591318915, 'subsample': 0.9056665885336773, 'colsample_bytree': 0.9109978573246009}.\n",
      "[I 2025-05-15 16:00:07,215] Trial 2 finished with values: [0.6721425223552765, 0.03510612568584528] and parameters: {'max_depth': 7, 'eta': 0.15410420346264894, 'subsample': 0.7454501621537594, 'colsample_bytree': 0.6532294220370234}.\n",
      "[I 2025-05-15 16:00:07,405] Trial 3 finished with values: [0.6721425223552765, 0.05824237408738536] and parameters: {'max_depth': 7, 'eta': 0.15508776361353466, 'subsample': 0.9606317640386594, 'colsample_bytree': 0.757447161021026}.\n",
      "[I 2025-05-15 16:00:07,616] Trial 4 finished with values: [0.66928282373412, 0.055732344531139864] and parameters: {'max_depth': 6, 'eta': 0.03336971118193219, 'subsample': 0.9832840662037418, 'colsample_bytree': 0.8922736243210905}.\n",
      "[I 2025-05-15 16:00:07,776] Trial 5 finished with values: [0.68642876179798, 0.05518310993098663] and parameters: {'max_depth': 7, 'eta': 0.27681890803162484, 'subsample': 0.8281390946462197, 'colsample_bytree': 0.8736226161773842}.\n",
      "[I 2025-05-15 16:00:07,905] Trial 6 finished with values: [0.6664338470681579, 0.0344616155728095] and parameters: {'max_depth': 3, 'eta': 0.23118500066465525, 'subsample': 0.7995458242488488, 'colsample_bytree': 0.6431361353893559}.\n",
      "[I 2025-05-15 16:00:08,079] Trial 7 finished with values: [0.6871456010881253, 0.054678545561434415] and parameters: {'max_depth': 7, 'eta': 0.21027440957393934, 'subsample': 0.9494644794642436, 'colsample_bytree': 0.9376671561105981}.\n",
      "[I 2025-05-15 16:00:08,266] Trial 8 finished with values: [0.6671491546504184, 0.03456667647882992] and parameters: {'max_depth': 4, 'eta': 0.0475818152162627, 'subsample': 0.6088703005437999, 'colsample_bytree': 0.6343588550846737}.\n",
      "[I 2025-05-15 16:00:08,420] Trial 9 finished with values: [0.6714379367282106, 0.05736226173132127] and parameters: {'max_depth': 5, 'eta': 0.18480020615292442, 'subsample': 0.9565515325334153, 'colsample_bytree': 0.6103916736033118}.\n",
      "[I 2025-05-15 16:00:08,424] A new study created in memory with name: no-name-e9e2fe51-7cd8-4171-8293-aa0188bc5b74\n"
     ]
    },
    {
     "name": "stdout",
     "output_type": "stream",
     "text": [
      "Completed study for alpha=0.27\n"
     ]
    },
    {
     "name": "stderr",
     "output_type": "stream",
     "text": [
      "[I 2025-05-15 16:00:08,663] Trial 0 finished with values: [0.6628772213593601, 0.0422474426322396] and parameters: {'max_depth': 4, 'eta': 0.028848553013995124, 'subsample': 0.7240070447510477, 'colsample_bytree': 0.6643295642232094}.\n",
      "[I 2025-05-15 16:00:08,837] Trial 1 finished with values: [0.6742961036414824, 0.02653955823467241] and parameters: {'max_depth': 5, 'eta': 0.2522169705876571, 'subsample': 0.689192769304874, 'colsample_bytree': 0.6868834882478798}.\n",
      "[I 2025-05-15 16:00:09,019] Trial 2 finished with values: [0.6664292519445032, 0.03412634100860071] and parameters: {'max_depth': 5, 'eta': 0.07457257496295124, 'subsample': 0.6720810970657679, 'colsample_bytree': 0.9743772208714363}.\n",
      "[I 2025-05-15 16:00:09,169] Trial 3 finished with values: [0.6692920139814297, 0.04365957824439129] and parameters: {'max_depth': 5, 'eta': 0.26332093376481763, 'subsample': 0.9693236780652085, 'colsample_bytree': 0.6421640996153238}.\n",
      "[I 2025-05-15 16:00:09,354] Trial 4 finished with values: [0.6935726473732742, 0.06164033373478573] and parameters: {'max_depth': 7, 'eta': 0.26856673625313543, 'subsample': 0.9023367701592968, 'colsample_bytree': 0.9267610316412169}.\n",
      "[I 2025-05-15 16:00:09,525] Trial 5 finished with values: [0.6585700587869486, 0.05045883376662565] and parameters: {'max_depth': 4, 'eta': 0.07589609940722265, 'subsample': 0.9898965660069976, 'colsample_bytree': 0.9001386188369624}.\n",
      "[I 2025-05-15 16:00:09,714] Trial 6 finished with values: [0.6678506768617143, 0.04284005551628195] and parameters: {'max_depth': 7, 'eta': 0.05807115015072364, 'subsample': 0.8313661361035499, 'colsample_bytree': 0.9880641213287886}.\n",
      "[I 2025-05-15 16:00:09,887] Trial 7 finished with values: [0.6750006892685482, 0.048336100116503106] and parameters: {'max_depth': 6, 'eta': 0.11624458031050056, 'subsample': 0.9443621693867226, 'colsample_bytree': 0.9154735014599268}.\n",
      "[I 2025-05-15 16:00:10,047] Trial 8 finished with values: [0.6764389629724935, 0.06963752919805419] and parameters: {'max_depth': 4, 'eta': 0.23371761448247078, 'subsample': 0.8126638313255247, 'colsample_bytree': 0.7394451443633665}.\n",
      "[I 2025-05-15 16:00:10,205] Trial 9 finished with values: [0.6800109057601406, 0.07145008505741927] and parameters: {'max_depth': 6, 'eta': 0.274049622388779, 'subsample': 0.9623713723306164, 'colsample_bytree': 0.9780942086862179}.\n",
      "[I 2025-05-15 16:00:10,211] A new study created in memory with name: no-name-c044e7e4-41ae-490c-9f11-8783708302bf\n",
      "[I 2025-05-15 16:00:10,365] Trial 0 finished with values: [0.6821568285069217, 0.059332066187290346] and parameters: {'max_depth': 5, 'eta': 0.2942913853619255, 'subsample': 0.9972685690073133, 'colsample_bytree': 0.8975942023708496}.\n"
     ]
    },
    {
     "name": "stdout",
     "output_type": "stream",
     "text": [
      "Completed study for alpha=0.28\n"
     ]
    },
    {
     "name": "stderr",
     "output_type": "stream",
     "text": [
      "[I 2025-05-15 16:00:10,514] Trial 1 finished with values: [0.663580275278541, 0.03373858749908656] and parameters: {'max_depth': 3, 'eta': 0.16624351102976484, 'subsample': 0.6874766378924166, 'colsample_bytree': 0.8721133733999995}.\n",
      "[I 2025-05-15 16:00:10,690] Trial 2 finished with values: [0.6771420168916746, 0.03801315004213632] and parameters: {'max_depth': 7, 'eta': 0.17302700736174637, 'subsample': 0.7830364661905492, 'colsample_bytree': 0.9035764019829232}.\n",
      "[I 2025-05-15 16:00:10,832] Trial 3 finished with values: [0.6742884451020577, 0.059725347570491895] and parameters: {'max_depth': 5, 'eta': 0.25171127307783375, 'subsample': 0.6753127406022796, 'colsample_bytree': 0.7961965485736162}.\n",
      "[I 2025-05-15 16:00:11,004] Trial 4 finished with values: [0.6700011947321501, 0.0292671639157762] and parameters: {'max_depth': 6, 'eta': 0.07708333909399052, 'subsample': 0.7913923449604077, 'colsample_bytree': 0.8621948780071547}.\n",
      "[I 2025-05-15 16:00:11,162] Trial 5 finished with values: [0.6835690631768235, 0.05267109262323194] and parameters: {'max_depth': 6, 'eta': 0.28963794138853055, 'subsample': 0.9064361839508044, 'colsample_bytree': 0.9547084712633089}.\n",
      "[I 2025-05-15 16:00:11,336] Trial 6 finished with values: [0.6735762009355671, 0.05483881638900706] and parameters: {'max_depth': 5, 'eta': 0.2555762764000908, 'subsample': 0.9076383604252416, 'colsample_bytree': 0.7362225476622606}.\n",
      "[I 2025-05-15 16:00:11,466] Trial 7 finished with values: [0.6642848609056069, 0.0375593492112433] and parameters: {'max_depth': 4, 'eta': 0.10654133571232756, 'subsample': 0.7437899508270792, 'colsample_bytree': 0.9830656437071312}.\n",
      "[I 2025-05-15 16:00:11,623] Trial 8 finished with values: [0.6771374217680197, 0.032390253620335575] and parameters: {'max_depth': 7, 'eta': 0.071697926590931, 'subsample': 0.8828642354938581, 'colsample_bytree': 0.9351254678224071}.\n",
      "[I 2025-05-15 16:00:11,774] Trial 9 finished with values: [0.6678552719853691, 0.05068726403194823] and parameters: {'max_depth': 6, 'eta': 0.1132921559090123, 'subsample': 0.9456556526562174, 'colsample_bytree': 0.7703258967456114}.\n",
      "[I 2025-05-15 16:00:11,778] A new study created in memory with name: no-name-87eb420b-198a-41bc-9c52-427b556a7ac3\n",
      "[I 2025-05-15 16:00:11,923] Trial 0 finished with values: [0.6642909877371467, 0.008525913921400638] and parameters: {'max_depth': 5, 'eta': 0.11225399036868824, 'subsample': 0.8410605532419052, 'colsample_bytree': 0.658858123174497}.\n"
     ]
    },
    {
     "name": "stdout",
     "output_type": "stream",
     "text": [
      "Completed study for alpha=0.29\n"
     ]
    },
    {
     "name": "stderr",
     "output_type": "stream",
     "text": [
      "[I 2025-05-15 16:00:12,073] Trial 1 finished with values: [0.6700088532715749, 0.04518014457190015] and parameters: {'max_depth': 4, 'eta': 0.10520457241290304, 'subsample': 0.625148515660834, 'colsample_bytree': 0.8975990728458949}.\n",
      "[I 2025-05-15 16:00:12,197] Trial 2 finished with values: [0.6692966091050844, 0.02656100935543441] and parameters: {'max_depth': 3, 'eta': 0.288210105639315, 'subsample': 0.8716639359132764, 'colsample_bytree': 0.644685316192726}.\n",
      "[I 2025-05-15 16:00:12,402] Trial 3 finished with values: [0.6685751746912842, 0.028654236811140987] and parameters: {'max_depth': 5, 'eta': 0.020289262197071153, 'subsample': 0.6534570666073461, 'colsample_bytree': 0.8498749368858014}.\n",
      "[I 2025-05-15 16:00:12,585] Trial 4 finished with values: [0.6785741637640802, 0.048626725581659896] and parameters: {'max_depth': 5, 'eta': 0.03234461285392263, 'subsample': 0.8244434807833801, 'colsample_bytree': 0.9369208224608457}.\n",
      "[I 2025-05-15 16:00:12,744] Trial 5 finished with values: [0.6892899921270215, 0.08168999436574653] and parameters: {'max_depth': 7, 'eta': 0.23193819753462835, 'subsample': 0.8988713561647874, 'colsample_bytree': 0.8682759125996293}.\n",
      "[I 2025-05-15 16:00:12,891] Trial 6 finished with values: [0.6621465966982505, 0.041354845766872796] and parameters: {'max_depth': 4, 'eta': 0.15517047229119713, 'subsample': 0.7606648327484231, 'colsample_bytree': 0.8654117692863219}.\n",
      "[I 2025-05-15 16:00:13,057] Trial 7 finished with values: [0.6800017155128311, 0.03263264317249864] and parameters: {'max_depth': 4, 'eta': 0.23642843702604993, 'subsample': 0.7060418983211534, 'colsample_bytree': 0.7023624355147079}.\n",
      "[I 2025-05-15 16:00:13,299] Trial 8 finished with values: [0.6635848704021959, 0.05617727456388392] and parameters: {'max_depth': 7, 'eta': 0.02059634148084561, 'subsample': 0.8851745424191868, 'colsample_bytree': 0.7404070091335555}.\n",
      "[I 2025-05-15 16:00:13,453] Trial 9 finished with values: [0.6821614236305765, 0.05013272610786823] and parameters: {'max_depth': 6, 'eta': 0.20991885437867186, 'subsample': 0.6308251262432786, 'colsample_bytree': 0.9906884132681426}.\n",
      "[I 2025-05-15 16:00:13,458] A new study created in memory with name: no-name-6bc1dda3-80bb-4d49-8c59-7dc5cf6ae73f\n",
      "[I 2025-05-15 16:00:13,592] Trial 0 finished with values: [0.6657338565647469, 0.03467587033045411] and parameters: {'max_depth': 3, 'eta': 0.09437846169092465, 'subsample': 0.8667904277321665, 'colsample_bytree': 0.6990834406399427}.\n"
     ]
    },
    {
     "name": "stdout",
     "output_type": "stream",
     "text": [
      "Completed study for alpha=0.3\n"
     ]
    },
    {
     "name": "stderr",
     "output_type": "stream",
     "text": [
      "[I 2025-05-15 16:00:13,782] Trial 1 finished with values: [0.684278243927544, 0.06281898150365527] and parameters: {'max_depth': 7, 'eta': 0.1790088421749449, 'subsample': 0.9917098665428968, 'colsample_bytree': 0.918598909117659}.\n",
      "[I 2025-05-15 16:00:13,952] Trial 2 finished with values: [0.6671522180661881, 0.04285983879644923] and parameters: {'max_depth': 6, 'eta': 0.08888850387476413, 'subsample': 0.9788624301018892, 'colsample_bytree': 0.6608615533294796}.\n",
      "[I 2025-05-15 16:00:14,094] Trial 3 finished with values: [0.6814307989694669, 0.048183906516316155] and parameters: {'max_depth': 5, 'eta': 0.24739213622441075, 'subsample': 0.8096677604183667, 'colsample_bytree': 0.7347375066737785}.\n",
      "[I 2025-05-15 16:00:14,237] Trial 4 finished with values: [0.6621496601140203, 0.019353178003403314] and parameters: {'max_depth': 4, 'eta': 0.09611575021271515, 'subsample': 0.7170505218631407, 'colsample_bytree': 0.7172654836243505}.\n",
      "[I 2025-05-15 16:00:14,396] Trial 5 finished with values: [0.6650124221509468, 0.03341836999445381] and parameters: {'max_depth': 5, 'eta': 0.04902659956256186, 'subsample': 0.8990793787184885, 'colsample_bytree': 0.6531009594608732}.\n",
      "[I 2025-05-15 16:00:14,531] Trial 6 finished with values: [0.652156797872764, 0.017672337667917277] and parameters: {'max_depth': 3, 'eta': 0.054731381442433016, 'subsample': 0.9797590919144887, 'colsample_bytree': 0.8846998240704707}.\n",
      "[I 2025-05-15 16:00:14,650] Trial 7 finished with values: [0.6635680216154617, 0.044349840675306305] and parameters: {'max_depth': 4, 'eta': 0.26948748761088215, 'subsample': 0.8728499297381724, 'colsample_bytree': 0.6988573615768296}.\n",
      "[I 2025-05-15 16:00:14,796] Trial 8 finished with values: [0.6871425376723556, 0.0468480639938715] and parameters: {'max_depth': 7, 'eta': 0.2998574730153209, 'subsample': 0.8148784694632278, 'colsample_bytree': 0.7197438154890372}.\n",
      "[I 2025-05-15 16:00:14,960] Trial 9 finished with values: [0.6700042581479201, 0.03357354935552376] and parameters: {'max_depth': 7, 'eta': 0.1945043545108306, 'subsample': 0.7707567296405091, 'colsample_bytree': 0.6528190763688717}.\n",
      "[I 2025-05-15 16:00:14,964] A new study created in memory with name: no-name-30907ef6-f7e8-4c03-9f4a-75f976e09b58\n",
      "[I 2025-05-15 16:00:15,143] Trial 0 finished with values: [0.6742838499784028, 0.06472079439809521] and parameters: {'max_depth': 7, 'eta': 0.18534806064245787, 'subsample': 0.8120373604482093, 'colsample_bytree': 0.7775162624211869}.\n"
     ]
    },
    {
     "name": "stdout",
     "output_type": "stream",
     "text": [
      "Completed study for alpha=0.31\n"
     ]
    },
    {
     "name": "stderr",
     "output_type": "stream",
     "text": [
      "[I 2025-05-15 16:00:15,294] Trial 1 finished with values: [0.6857134542157196, 0.0812762764314968] and parameters: {'max_depth': 5, 'eta': 0.28062302360087105, 'subsample': 0.6787157695706618, 'colsample_bytree': 0.9587412936885592}.\n",
      "[I 2025-05-15 16:00:15,437] Trial 2 finished with values: [0.6792894713463405, 0.061366191503199] and parameters: {'max_depth': 5, 'eta': 0.20472325046078757, 'subsample': 0.8637626784505186, 'colsample_bytree': 0.9114339315608794}.\n",
      "[I 2025-05-15 16:00:15,579] Trial 3 finished with values: [0.6607267034889243, 0.023680165092229432] and parameters: {'max_depth': 3, 'eta': 0.20713320446278763, 'subsample': 0.999926754660491, 'colsample_bytree': 0.6961084505837919}.\n",
      "[I 2025-05-15 16:00:15,740] Trial 4 finished with values: [0.6742945719335974, 0.036705451841451804] and parameters: {'max_depth': 6, 'eta': 0.11519257945255816, 'subsample': 0.6386155252565832, 'colsample_bytree': 0.7298260216722371}.\n",
      "[I 2025-05-15 16:00:15,880] Trial 5 finished with values: [0.6600129276145488, 0.022583761448520978] and parameters: {'max_depth': 3, 'eta': 0.08588113185573547, 'subsample': 0.6753630733707916, 'colsample_bytree': 0.9052391519183076}.\n",
      "[I 2025-05-15 16:00:16,088] Trial 6 finished with values: [0.6692904822735447, 0.048326535655874546] and parameters: {'max_depth': 7, 'eta': 0.06276640132585391, 'subsample': 0.8506002292494167, 'colsample_bytree': 0.8425376910126495}.\n",
      "[I 2025-05-15 16:00:16,254] Trial 7 finished with values: [0.6828537555945631, 0.0717647101774471] and parameters: {'max_depth': 7, 'eta': 0.2429264547613016, 'subsample': 0.6085112061247098, 'colsample_bytree': 0.8730851309269354}.\n",
      "[I 2025-05-15 16:00:16,404] Trial 8 finished with values: [0.6692843554420049, 0.0672073776250561] and parameters: {'max_depth': 6, 'eta': 0.1379449546780372, 'subsample': 0.7619686665661675, 'colsample_bytree': 0.8964841918926516}.\n",
      "[I 2025-05-15 16:00:16,570] Trial 9 finished with values: [0.680004778928601, 0.04281360550662975] and parameters: {'max_depth': 7, 'eta': 0.116923344289239, 'subsample': 0.6768168732419969, 'colsample_bytree': 0.9474644470426563}.\n",
      "[I 2025-05-15 16:00:16,575] A new study created in memory with name: no-name-704e1b18-3ca1-4061-8013-b7beabe21a5a\n",
      "[I 2025-05-15 16:00:16,733] Trial 0 finished with values: [0.6678629305247936, 0.058426235355051266] and parameters: {'max_depth': 4, 'eta': 0.17631063832435465, 'subsample': 0.7319852761378376, 'colsample_bytree': 0.7397181869825045}.\n"
     ]
    },
    {
     "name": "stdout",
     "output_type": "stream",
     "text": [
      "Completed study for alpha=0.32\n"
     ]
    },
    {
     "name": "stderr",
     "output_type": "stream",
     "text": [
      "[I 2025-05-15 16:00:16,866] Trial 1 finished with values: [0.6685782381070542, 0.04565780759126566] and parameters: {'max_depth': 3, 'eta': 0.14757761971158984, 'subsample': 0.6093072602005223, 'colsample_bytree': 0.9478388423612658}.\n",
      "[I 2025-05-15 16:00:17,152] Trial 2 finished with values: [0.6835751900083631, 0.07062873040053062] and parameters: {'max_depth': 6, 'eta': 0.19356407469204892, 'subsample': 0.6759273546078249, 'colsample_bytree': 0.9821305410325409}.\n",
      "[I 2025-05-15 16:00:17,278] Trial 3 finished with values: [0.6671445595267634, 0.061501851296523004] and parameters: {'max_depth': 4, 'eta': 0.2276576390054151, 'subsample': 0.8637418794809666, 'colsample_bytree': 0.9203216058866417}.\n",
      "[I 2025-05-15 16:00:17,404] Trial 4 finished with values: [0.6514368951668489, 0.021819691170515604] and parameters: {'max_depth': 3, 'eta': 0.07278347051917076, 'subsample': 0.9074402896662392, 'colsample_bytree': 0.7959388811951367}.\n",
      "[I 2025-05-15 16:00:17,526] Trial 5 finished with values: [0.6799925252655216, 0.0612273257972773] and parameters: {'max_depth': 4, 'eta': 0.23449244627022606, 'subsample': 0.6909597821213853, 'colsample_bytree': 0.7642602163267207}.\n",
      "[I 2025-05-15 16:00:17,651] Trial 6 finished with values: [0.6792910030542255, 0.036067504690383584] and parameters: {'max_depth': 5, 'eta': 0.1464749283842876, 'subsample': 0.9374778494401101, 'colsample_bytree': 0.8586144852071851}.\n",
      "[I 2025-05-15 16:00:17,764] Trial 7 finished with values: [0.6721440540631615, 0.042740751708370654] and parameters: {'max_depth': 4, 'eta': 0.17150488352212076, 'subsample': 0.8001363734436251, 'colsample_bytree': 0.7486110859658308}.\n",
      "[I 2025-05-15 16:00:17,888] Trial 8 finished with values: [0.6571578241170469, 0.025220624724928697] and parameters: {'max_depth': 3, 'eta': 0.19841282501604812, 'subsample': 0.9181436996451917, 'colsample_bytree': 0.6724465783180599}.\n",
      "[I 2025-05-15 16:00:18,020] Trial 9 finished with values: [0.6707210974380654, 0.03985837263472356] and parameters: {'max_depth': 4, 'eta': 0.10530463161083155, 'subsample': 0.8752727239134515, 'colsample_bytree': 0.731995960045142}.\n",
      "[I 2025-05-15 16:00:18,024] A new study created in memory with name: no-name-8a0c86e7-608c-4df5-b44f-0ac0cf749e23\n",
      "[I 2025-05-15 16:00:18,136] Trial 0 finished with values: [0.6700165118109994, 0.02641563592316215] and parameters: {'max_depth': 3, 'eta': 0.13825067269755562, 'subsample': 0.6253372615380722, 'colsample_bytree': 0.6384832482712577}.\n"
     ]
    },
    {
     "name": "stdout",
     "output_type": "stream",
     "text": [
      "Completed study for alpha=0.33\n"
     ]
    },
    {
     "name": "stderr",
     "output_type": "stream",
     "text": [
      "[I 2025-05-15 16:00:18,279] Trial 1 finished with values: [0.6721517126025861, 0.06150956184542544] and parameters: {'max_depth': 5, 'eta': 0.14540004839519727, 'subsample': 0.9840889755387994, 'colsample_bytree': 0.8675573931693343}.\n",
      "[I 2025-05-15 16:00:18,436] Trial 2 finished with values: [0.688576216252646, 0.05734534031404673] and parameters: {'max_depth': 7, 'eta': 0.17735800842037067, 'subsample': 0.8795769979250446, 'colsample_bytree': 0.9692000429995727}.\n",
      "[I 2025-05-15 16:00:18,644] Trial 3 finished with values: [0.6700027264400351, 0.04838734963099651] and parameters: {'max_depth': 7, 'eta': 0.02485601650724646, 'subsample': 0.7321820186714235, 'colsample_bytree': 0.8264411143355496}.\n",
      "[I 2025-05-15 16:00:18,778] Trial 4 finished with values: [0.6778588561818198, 0.050199468090424526] and parameters: {'max_depth': 5, 'eta': 0.23372733680877067, 'subsample': 0.8788076160024145, 'colsample_bytree': 0.9540708201332626}.\n",
      "[I 2025-05-15 16:00:18,947] Trial 5 finished with values: [0.665009358735177, 0.04232698441148348] and parameters: {'max_depth': 5, 'eta': 0.040692593692147165, 'subsample': 0.9204660714159634, 'colsample_bytree': 0.6577154992612276}.\n",
      "[I 2025-05-15 16:00:19,185] Trial 6 finished with values: [0.6714394684360956, 0.04182529612768471] and parameters: {'max_depth': 6, 'eta': 0.014752364887828207, 'subsample': 0.8176714289697494, 'colsample_bytree': 0.7072232291369663}.\n",
      "[I 2025-05-15 16:00:19,317] Trial 7 finished with values: [0.6650047636115222, 0.027256920765716064] and parameters: {'max_depth': 5, 'eta': 0.18658296350460069, 'subsample': 0.7717634373696086, 'colsample_bytree': 0.6510550145910684}.\n",
      "[I 2025-05-15 16:00:19,459] Trial 8 finished with values: [0.680003247220716, 0.058480695395118694] and parameters: {'max_depth': 7, 'eta': 0.18625704419511419, 'subsample': 0.9593862745842012, 'colsample_bytree': 0.7393842396163368}.\n",
      "[I 2025-05-15 16:00:19,584] Trial 9 finished with values: [0.6749976258527783, 0.05235544288854297] and parameters: {'max_depth': 5, 'eta': 0.26719483873537053, 'subsample': 0.8624203921674194, 'colsample_bytree': 0.6701064586319875}.\n",
      "[I 2025-05-15 16:00:19,588] A new study created in memory with name: no-name-29576953-3e2e-4eae-8950-35e86d40aa7a\n",
      "[I 2025-05-15 16:00:19,753] Trial 0 finished with values: [0.6671460912346484, 0.043864482832479366] and parameters: {'max_depth': 7, 'eta': 0.07279436660116748, 'subsample': 0.6842029883636492, 'colsample_bytree': 0.6946014839317718}.\n"
     ]
    },
    {
     "name": "stdout",
     "output_type": "stream",
     "text": [
      "Completed study for alpha=0.34\n"
     ]
    },
    {
     "name": "stderr",
     "output_type": "stream",
     "text": [
      "[I 2025-05-15 16:00:19,902] Trial 1 finished with values: [0.6842935610063933, 0.05628041060009295] and parameters: {'max_depth': 5, 'eta': 0.2678668665429577, 'subsample': 0.8321525570866019, 'colsample_bytree': 0.6732724357181773}.\n",
      "[I 2025-05-15 16:00:20,066] Trial 2 finished with values: [0.6749991575606633, 0.05757257465614157] and parameters: {'max_depth': 5, 'eta': 0.12323168718660688, 'subsample': 0.9364324089315714, 'colsample_bytree': 0.9394034203426451}.\n",
      "[I 2025-05-15 16:00:20,225] Trial 3 finished with values: [0.6621481284061354, 0.03918053585786479] and parameters: {'max_depth': 4, 'eta': 0.1243548530269058, 'subsample': 0.6870947941681326, 'colsample_bytree': 0.8039196773195156}.\n",
      "[I 2025-05-15 16:00:20,391] Trial 4 finished with values: [0.6707210974380654, 0.04476178553067223] and parameters: {'max_depth': 4, 'eta': 0.1328655922629031, 'subsample': 0.7545499631111163, 'colsample_bytree': 0.9218840219867488}.\n",
      "[I 2025-05-15 16:00:20,571] Trial 5 finished with values: [0.6614328208238751, 0.02954323047598385] and parameters: {'max_depth': 4, 'eta': 0.07076336103694479, 'subsample': 0.9696385909335402, 'colsample_bytree': 0.6166310079105176}.\n",
      "[I 2025-05-15 16:00:20,744] Trial 6 finished with values: [0.6757098700192689, 0.06772516877290718] and parameters: {'max_depth': 6, 'eta': 0.09978461900475052, 'subsample': 0.939830271320884, 'colsample_bytree': 0.982869340760373}.\n",
      "[I 2025-05-15 16:00:20,877] Trial 7 finished with values: [0.6692935456893144, 0.03281490373320262] and parameters: {'max_depth': 3, 'eta': 0.29253564047333697, 'subsample': 0.7786942851434807, 'colsample_bytree': 0.655874961055482}.\n",
      "[I 2025-05-15 16:00:21,084] Trial 8 finished with values: [0.6807200865108612, 0.03284292542024572] and parameters: {'max_depth': 7, 'eta': 0.05528555572113734, 'subsample': 0.6984365620218912, 'colsample_bytree': 0.9971945179559483}.\n",
      "[I 2025-05-15 16:00:21,248] Trial 9 finished with values: [0.6671522180661881, 0.04636349113232244] and parameters: {'max_depth': 5, 'eta': 0.07628433402057505, 'subsample': 0.8587702823123154, 'colsample_bytree': 0.756423028084855}.\n",
      "[I 2025-05-15 16:00:21,252] A new study created in memory with name: no-name-9bb0d4d7-b9f6-45d8-a1d2-17278934045c\n",
      "[I 2025-05-15 16:00:21,439] Trial 0 finished with values: [0.6821384480123026, 0.04699095258039021] and parameters: {'max_depth': 6, 'eta': 0.2692330321319587, 'subsample': 0.9350706367141625, 'colsample_bytree': 0.7058283335111435}.\n"
     ]
    },
    {
     "name": "stdout",
     "output_type": "stream",
     "text": [
      "Completed study for alpha=0.35\n"
     ]
    },
    {
     "name": "stderr",
     "output_type": "stream",
     "text": [
      "[I 2025-05-15 16:00:21,617] Trial 1 finished with values: [0.6742807865626331, 0.04052575878072836] and parameters: {'max_depth': 7, 'eta': 0.11667616979750137, 'subsample': 0.8012290843555878, 'colsample_bytree': 0.8999143154510575}.\n",
      "[I 2025-05-15 16:00:21,752] Trial 2 finished with values: [0.6635726167391165, 0.0358367572612586] and parameters: {'max_depth': 4, 'eta': 0.15129853925756573, 'subsample': 0.9775804022880229, 'colsample_bytree': 0.6975260145787765}.\n",
      "[I 2025-05-15 16:00:21,903] Trial 3 finished with values: [0.6707073120671011, 0.05707487436807709] and parameters: {'max_depth': 7, 'eta': 0.1577625878695446, 'subsample': 0.6982461386166083, 'colsample_bytree': 0.843428253783893}.\n",
      "[I 2025-05-15 16:00:22,042] Trial 4 finished with values: [0.6657200711937824, 0.03198997570146551] and parameters: {'max_depth': 4, 'eta': 0.09578336025367618, 'subsample': 0.8662920302170716, 'colsample_bytree': 0.8793134491552483}.\n",
      "[I 2025-05-15 16:00:22,179] Trial 5 finished with values: [0.6742823182705179, 0.058235050368099874] and parameters: {'max_depth': 5, 'eta': 0.21765193358584087, 'subsample': 0.750388343508693, 'colsample_bytree': 0.8682645100698521}.\n",
      "[I 2025-05-15 16:00:22,316] Trial 6 finished with values: [0.6742884451020577, 0.06811010418282877] and parameters: {'max_depth': 5, 'eta': 0.22625518761933558, 'subsample': 0.8265750920555469, 'colsample_bytree': 0.796995223189466}.\n",
      "[I 2025-05-15 16:00:22,449] Trial 7 finished with values: [0.6664384421918127, 0.029531961878432645] and parameters: {'max_depth': 3, 'eta': 0.10378163711175081, 'subsample': 0.7344213021911706, 'colsample_bytree': 0.7390522823312564}.\n",
      "[I 2025-05-15 16:00:22,636] Trial 8 finished with values: [0.6735762009355671, 0.03645124156149681] and parameters: {'max_depth': 6, 'eta': 0.08687933540324437, 'subsample': 0.8062720868852847, 'colsample_bytree': 0.8131589305896206}.\n",
      "[I 2025-05-15 16:00:22,812] Trial 9 finished with values: [0.6607144498258448, 0.0657353186213636] and parameters: {'max_depth': 7, 'eta': 0.07253894383115263, 'subsample': 0.9882010406967052, 'colsample_bytree': 0.7491696676674582}.\n",
      "[I 2025-05-15 16:00:22,816] A new study created in memory with name: no-name-dd3e086a-7c6f-4cee-a099-3e3c5d36e082\n",
      "[I 2025-05-15 16:00:22,995] Trial 0 finished with values: [0.662858840864741, 0.054468170808907486] and parameters: {'max_depth': 5, 'eta': 0.04038545635613312, 'subsample': 0.9405740068209256, 'colsample_bytree': 0.7753701132816289}.\n"
     ]
    },
    {
     "name": "stdout",
     "output_type": "stream",
     "text": [
      "Completed study for alpha=0.36\n"
     ]
    },
    {
     "name": "stderr",
     "output_type": "stream",
     "text": [
      "[I 2025-05-15 16:00:23,137] Trial 1 finished with values: [0.6771649925099484, 0.0488891808302582] and parameters: {'max_depth': 4, 'eta': 0.1436672316420162, 'subsample': 0.8190696141518765, 'colsample_bytree': 0.8596767942837507}.\n",
      "[I 2025-05-15 16:00:23,296] Trial 2 finished with values: [0.6721486491868163, 0.04116327598471103] and parameters: {'max_depth': 6, 'eta': 0.14044180430978245, 'subsample': 0.9306139387152504, 'colsample_bytree': 0.7245598042981687}.\n",
      "[I 2025-05-15 16:00:23,478] Trial 3 finished with values: [0.6650017001957523, 0.06770043679380548] and parameters: {'max_depth': 7, 'eta': 0.08155545325886923, 'subsample': 0.9558094871210172, 'colsample_bytree': 0.7362012398500767}.\n",
      "[I 2025-05-15 16:00:23,703] Trial 4 finished with values: [0.6793017250094199, 0.05612411649853114] and parameters: {'max_depth': 4, 'eta': 0.2689306161799599, 'subsample': 0.7906840254019897, 'colsample_bytree': 0.6227095109667677}.\n",
      "[I 2025-05-15 16:00:23,848] Trial 5 finished with values: [0.6671476229425334, 0.029702282162052618] and parameters: {'max_depth': 3, 'eta': 0.29631517744561264, 'subsample': 0.8759114448996264, 'colsample_bytree': 0.8778108086047027}.\n",
      "[I 2025-05-15 16:00:24,147] Trial 6 finished with values: [0.662134343035171, 0.06553230802936583] and parameters: {'max_depth': 6, 'eta': 0.015045838570570323, 'subsample': 0.9454602615157314, 'colsample_bytree': 0.9838082514979876}.\n",
      "[I 2025-05-15 16:00:24,286] Trial 7 finished with values: [0.6685721112755143, 0.07404569907238061] and parameters: {'max_depth': 5, 'eta': 0.21498139050543041, 'subsample': 0.7875565296212083, 'colsample_bytree': 0.8929412771060187}.\n",
      "[I 2025-05-15 16:00:24,421] Trial 8 finished with values: [0.6635848704021959, 0.017130619875969432] and parameters: {'max_depth': 3, 'eta': 0.1437002371345752, 'subsample': 0.9242133409593474, 'colsample_bytree': 0.6455914583347476}.\n",
      "[I 2025-05-15 16:00:24,588] Trial 9 finished with values: [0.6678629305247937, 0.025408219950449396] and parameters: {'max_depth': 7, 'eta': 0.14850205420540072, 'subsample': 0.605120792331361, 'colsample_bytree': 0.7262562730880369}.\n",
      "[I 2025-05-15 16:00:24,593] A new study created in memory with name: no-name-da8cda1e-8632-4df8-980e-1a328ddd8dc3\n",
      "[I 2025-05-15 16:00:24,748] Trial 0 finished with values: [0.684299687837933, 0.05455545717349153] and parameters: {'max_depth': 4, 'eta': 0.2916391925107974, 'subsample': 0.6638028973474746, 'colsample_bytree': 0.9752934049412303}.\n"
     ]
    },
    {
     "name": "stdout",
     "output_type": "stream",
     "text": [
      "Completed study for alpha=0.37\n"
     ]
    },
    {
     "name": "stderr",
     "output_type": "stream",
     "text": [
      "[I 2025-05-15 16:00:24,913] Trial 1 finished with values: [0.6671583448977279, 0.02573782074769677] and parameters: {'max_depth': 3, 'eta': 0.0738135911876156, 'subsample': 0.6543004395156281, 'colsample_bytree': 0.9278667143575317}.\n",
      "[I 2025-05-15 16:00:25,066] Trial 2 finished with values: [0.6678675256484485, 0.02753182562522835] and parameters: {'max_depth': 3, 'eta': 0.08756604575757423, 'subsample': 0.736800629058449, 'colsample_bytree': 0.6849132825669696}.\n",
      "[I 2025-05-15 16:00:25,363] Trial 3 finished with values: [0.6664307836523881, 0.06517930210287394] and parameters: {'max_depth': 7, 'eta': 0.022637560046509134, 'subsample': 0.8364473952733138, 'colsample_bytree': 0.8447243556793679}.\n",
      "[I 2025-05-15 16:00:25,530] Trial 4 finished with values: [0.677154270554754, 0.057666804352210894] and parameters: {'max_depth': 5, 'eta': 0.08095710839402698, 'subsample': 0.6149260695705556, 'colsample_bytree': 0.8781896015944994}.\n",
      "[I 2025-05-15 16:00:25,671] Trial 5 finished with values: [0.6821507016753822, 0.047361186769356266] and parameters: {'max_depth': 6, 'eta': 0.14923714288743373, 'subsample': 0.8508711384018348, 'colsample_bytree': 0.8428755439275724}.\n",
      "[I 2025-05-15 16:00:25,806] Trial 6 finished with values: [0.6585869075736829, 0.020154245084970046] and parameters: {'max_depth': 3, 'eta': 0.0679616265460984, 'subsample': 0.9278710106971038, 'colsample_bytree': 0.9606638708113204}.\n",
      "[I 2025-05-15 16:00:25,970] Trial 7 finished with values: [0.6607267034889243, 0.03529968545354345] and parameters: {'max_depth': 4, 'eta': 0.050235845062303545, 'subsample': 0.9720897301582645, 'colsample_bytree': 0.6857489689598313}.\n",
      "[I 2025-05-15 16:00:26,111] Trial 8 finished with values: [0.6864348886295196, 0.06095570404009074] and parameters: {'max_depth': 5, 'eta': 0.26249582579532793, 'subsample': 0.9471070450972854, 'colsample_bytree': 0.7036420515103127}.\n",
      "[I 2025-05-15 16:00:26,259] Trial 9 finished with values: [0.6928588714988987, 0.05004408511449509] and parameters: {'max_depth': 7, 'eta': 0.27965370593903704, 'subsample': 0.8666433333817567, 'colsample_bytree': 0.6540222415759444}.\n",
      "[I 2025-05-15 16:00:26,262] A new study created in memory with name: no-name-72d12ce5-38bb-416d-990e-b2605b2f78ce\n",
      "[I 2025-05-15 16:00:26,400] Trial 0 finished with values: [0.6707119071907558, 0.05294927596213484] and parameters: {'max_depth': 4, 'eta': 0.2192990720632794, 'subsample': 0.7154690307348313, 'colsample_bytree': 0.7501731404647745}.\n"
     ]
    },
    {
     "name": "stdout",
     "output_type": "stream",
     "text": [
      "Completed study for alpha=0.38\n"
     ]
    },
    {
     "name": "stderr",
     "output_type": "stream",
     "text": [
      "[I 2025-05-15 16:00:26,538] Trial 1 finished with values: [0.6743006987651371, 0.06439987681384] and parameters: {'max_depth': 4, 'eta': 0.17514421215512413, 'subsample': 0.8903517981084321, 'colsample_bytree': 0.7459488672274989}.\n",
      "[I 2025-05-15 16:00:26,683] Trial 2 finished with values: [0.6814307989694669, 0.05542768419277128] and parameters: {'max_depth': 5, 'eta': 0.2518462315315733, 'subsample': 0.8785146593874604, 'colsample_bytree': 0.6185701532565956}.\n",
      "[I 2025-05-15 16:00:26,815] Trial 3 finished with values: [0.6678522085695993, 0.048563396139004476] and parameters: {'max_depth': 4, 'eta': 0.2846719373338169, 'subsample': 0.8905059028116831, 'colsample_bytree': 0.8884470228579701}.\n",
      "[I 2025-05-15 16:00:26,959] Trial 4 finished with values: [0.6728762104321562, 0.03088918472438021] and parameters: {'max_depth': 5, 'eta': 0.1056058956940683, 'subsample': 0.833133059967894, 'colsample_bytree': 0.6276455206506717}.\n",
      "[I 2025-05-15 16:00:27,102] Trial 5 finished with values: [0.6500124068338679, 0.020684515877206294] and parameters: {'max_depth': 3, 'eta': 0.05514697662425518, 'subsample': 0.8886728399323982, 'colsample_bytree': 0.9648042826599608}.\n",
      "[I 2025-05-15 16:00:27,249] Trial 6 finished with values: [0.6692889505656597, 0.04885931084019049] and parameters: {'max_depth': 5, 'eta': 0.08440482124618745, 'subsample': 0.9977840831375131, 'colsample_bytree': 0.602132705416514}.\n",
      "[I 2025-05-15 16:00:27,400] Trial 7 finished with values: [0.6657261980253223, 0.025820397063341466] and parameters: {'max_depth': 3, 'eta': 0.03697581971481822, 'subsample': 0.7971229990479114, 'colsample_bytree': 0.8667235823910919}.\n",
      "[I 2025-05-15 16:00:27,547] Trial 8 finished with values: [0.6971461218688062, 0.07848550495669736] and parameters: {'max_depth': 6, 'eta': 0.27863367086564883, 'subsample': 0.6802232724163473, 'colsample_bytree': 0.8540991127229469}.\n",
      "[I 2025-05-15 16:00:27,692] Trial 9 finished with values: [0.6964185606234663, 0.06547860066428335] and parameters: {'max_depth': 7, 'eta': 0.2508422871607019, 'subsample': 0.9995559839714889, 'colsample_bytree': 0.9065342970911263}.\n",
      "[I 2025-05-15 16:00:27,696] A new study created in memory with name: no-name-98ff80cc-a8fa-4086-b1bd-5d5b0acd801b\n",
      "[I 2025-05-15 16:00:27,820] Trial 0 finished with values: [0.6642986462765713, 0.051000503698813614] and parameters: {'max_depth': 3, 'eta': 0.1543767230457518, 'subsample': 0.6036294658794458, 'colsample_bytree': 0.8205437503818097}.\n"
     ]
    },
    {
     "name": "stdout",
     "output_type": "stream",
     "text": [
      "Completed study for alpha=0.39\n"
     ]
    },
    {
     "name": "stderr",
     "output_type": "stream",
     "text": [
      "[I 2025-05-15 16:00:27,940] Trial 1 finished with values: [0.6528644469155999, 0.03661441816553513] and parameters: {'max_depth': 3, 'eta': 0.0924572036890252, 'subsample': 0.8414405522815728, 'colsample_bytree': 0.8741827428331954}.\n",
      "[I 2025-05-15 16:00:28,138] Trial 2 finished with values: [0.6835767217162481, 0.03277312492391882] and parameters: {'max_depth': 7, 'eta': 0.19576142403313845, 'subsample': 0.8125899071242108, 'colsample_bytree': 0.6955264064155537}.\n",
      "[I 2025-05-15 16:00:28,283] Trial 3 finished with values: [0.6785741637640802, 0.058755744394275396] and parameters: {'max_depth': 6, 'eta': 0.18137921356672684, 'subsample': 0.9871700653083938, 'colsample_bytree': 0.6804974385295735}.\n",
      "[I 2025-05-15 16:00:28,423] Trial 4 finished with values: [0.6728716153085013, 0.030965334548730777] and parameters: {'max_depth': 5, 'eta': 0.15412987489110297, 'subsample': 0.7971151837502268, 'colsample_bytree': 0.6577809892936719}.\n",
      "[I 2025-05-15 16:00:28,584] Trial 5 finished with values: [0.6557348674919509, 0.03736356423738662] and parameters: {'max_depth': 3, 'eta': 0.03374307524930943, 'subsample': 0.8175920524024143, 'colsample_bytree': 0.8104039535220486}.\n",
      "[I 2025-05-15 16:00:28,720] Trial 6 finished with values: [0.6892915238349064, 0.05268559069619951] and parameters: {'max_depth': 7, 'eta': 0.2757763745823275, 'subsample': 0.6240105462762124, 'colsample_bytree': 0.7146796633821738}.\n",
      "[I 2025-05-15 16:00:28,858] Trial 7 finished with values: [0.6928435544200494, 0.05916318619320852] and parameters: {'max_depth': 7, 'eta': 0.19028149730631347, 'subsample': 0.8853144636040111, 'colsample_bytree': 0.8298433576844719}.\n",
      "[I 2025-05-15 16:00:28,991] Trial 8 finished with values: [0.6828491604709083, 0.07292156578011837] and parameters: {'max_depth': 5, 'eta': 0.29093751772398385, 'subsample': 0.9150058394553597, 'colsample_bytree': 0.6910131761703957}.\n",
      "[I 2025-05-15 16:00:29,150] Trial 9 finished with values: [0.6807185548029765, 0.05522718207400324] and parameters: {'max_depth': 7, 'eta': 0.2353073257153255, 'subsample': 0.7952324700807266, 'colsample_bytree': 0.7778086025192176}.\n",
      "[I 2025-05-15 16:00:29,153] A new study created in memory with name: no-name-9e71f47d-e671-499a-a70e-a6410d53cc45\n",
      "[I 2025-05-15 16:00:29,328] Trial 0 finished with values: [0.676429772725184, 0.08220545484307175] and parameters: {'max_depth': 6, 'eta': 0.14563196281104393, 'subsample': 0.9551864103350459, 'colsample_bytree': 0.8316637875918435}.\n"
     ]
    },
    {
     "name": "stdout",
     "output_type": "stream",
     "text": [
      "Completed study for alpha=0.4\n"
     ]
    },
    {
     "name": "stderr",
     "output_type": "stream",
     "text": [
      "[I 2025-05-15 16:00:29,464] Trial 1 finished with values: [0.6735807960592219, 0.035306013594724774] and parameters: {'max_depth': 3, 'eta': 0.2589219695416339, 'subsample': 0.8051920974184141, 'colsample_bytree': 0.9629441143383028}.\n",
      "[I 2025-05-15 16:00:29,617] Trial 2 finished with values: [0.6721486491868163, 0.04536388209184855] and parameters: {'max_depth': 5, 'eta': 0.16543462243834126, 'subsample': 0.759499426973906, 'colsample_bytree': 0.7770543637092158}.\n",
      "[I 2025-05-15 16:00:29,763] Trial 3 finished with values: [0.6857272395866839, 0.07274892998019818] and parameters: {'max_depth': 7, 'eta': 0.20086056380913378, 'subsample': 0.6031328187261741, 'colsample_bytree': 0.8770844209754383}.\n",
      "[I 2025-05-15 16:00:29,889] Trial 4 finished with values: [0.6657261980253223, 0.02429093855122068] and parameters: {'max_depth': 4, 'eta': 0.17652787648397883, 'subsample': 0.7406989266720378, 'colsample_bytree': 0.6243560382472731}.\n",
      "[I 2025-05-15 16:00:30,067] Trial 5 finished with values: [0.6714410001439806, 0.03630938608117226] and parameters: {'max_depth': 4, 'eta': 0.037305562288786814, 'subsample': 0.7969180903836087, 'colsample_bytree': 0.9143557074279168}.\n",
      "[I 2025-05-15 16:00:30,201] Trial 6 finished with values: [0.6678629305247937, 0.041702100508218765] and parameters: {'max_depth': 4, 'eta': 0.15595501432729766, 'subsample': 0.8357208374438422, 'colsample_bytree': 0.9937270474934823}.\n",
      "[I 2025-05-15 16:00:30,322] Trial 7 finished with values: [0.6628664994041656, 0.034336453958702974] and parameters: {'max_depth': 3, 'eta': 0.22464250072880843, 'subsample': 0.9026420389901214, 'colsample_bytree': 0.9352356444688414}.\n",
      "[I 2025-05-15 16:00:30,460] Trial 8 finished with values: [0.6792940664699954, 0.051690879237203974] and parameters: {'max_depth': 6, 'eta': 0.14060536318339753, 'subsample': 0.8732743136295764, 'colsample_bytree': 0.6862573344041294}.\n",
      "[I 2025-05-15 16:00:30,642] Trial 9 finished with values: [0.6685843649385937, 0.053391657437285] and parameters: {'max_depth': 6, 'eta': 0.03920788663635908, 'subsample': 0.901614838650645, 'colsample_bytree': 0.6321679823378331}.\n",
      "[I 2025-05-15 16:00:30,646] A new study created in memory with name: no-name-8896eb09-506d-4e5a-831d-98401f0822b5\n",
      "[I 2025-05-15 16:00:30,776] Trial 0 finished with values: [0.6742930402257125, 0.043178356190016066] and parameters: {'max_depth': 5, 'eta': 0.1808631205283362, 'subsample': 0.8766744028706079, 'colsample_bytree': 0.62806648447142}.\n"
     ]
    },
    {
     "name": "stdout",
     "output_type": "stream",
     "text": [
      "Completed study for alpha=0.41\n"
     ]
    },
    {
     "name": "stderr",
     "output_type": "stream",
     "text": [
      "[I 2025-05-15 16:00:30,973] Trial 1 finished with values: [0.6785726320561953, 0.04915864870219657] and parameters: {'max_depth': 6, 'eta': 0.11930206722546037, 'subsample': 0.6215048478021107, 'colsample_bytree': 0.8727847597705845}.\n",
      "[I 2025-05-15 16:00:31,151] Trial 2 finished with values: [0.6771496754310992, 0.05848725071397823] and parameters: {'max_depth': 7, 'eta': 0.09433865016318946, 'subsample': 0.6485803092238313, 'colsample_bytree': 0.8243437403413043}.\n",
      "[I 2025-05-15 16:00:31,299] Trial 3 finished with values: [0.6642925194450316, 0.04901403023125703] and parameters: {'max_depth': 6, 'eta': 0.09276469313384968, 'subsample': 0.8224984130373639, 'colsample_bytree': 0.7779061908059085}.\n",
      "[I 2025-05-15 16:00:31,618] Trial 4 finished with values: [0.6707226291459504, 0.0569862221173174] and parameters: {'max_depth': 5, 'eta': 0.010036892946666778, 'subsample': 0.7617459101836759, 'colsample_bytree': 0.8702632012898591}.\n",
      "[I 2025-05-15 16:00:31,755] Trial 5 finished with values: [0.6907129487521176, 0.059329799649101345] and parameters: {'max_depth': 5, 'eta': 0.2910234987638898, 'subsample': 0.945528190271517, 'colsample_bytree': 0.7824608256667791}.\n",
      "[I 2025-05-15 16:00:31,902] Trial 6 finished with values: [0.6771481437232142, 0.06123726741000818] and parameters: {'max_depth': 5, 'eta': 0.18960688600028525, 'subsample': 0.9614968144132119, 'colsample_bytree': 0.9274108338039388}.\n",
      "[I 2025-05-15 16:00:32,054] Trial 7 finished with values: [0.6800078423443708, 0.05908932910610697] and parameters: {'max_depth': 6, 'eta': 0.20076326356741234, 'subsample': 0.7900461147356675, 'colsample_bytree': 0.8716635189834074}.\n",
      "[I 2025-05-15 16:00:32,175] Trial 8 finished with values: [0.6692950773971994, 0.04471566738273466] and parameters: {'max_depth': 3, 'eta': 0.18479405117409906, 'subsample': 0.8492537059545008, 'colsample_bytree': 0.9644556702859947}.\n",
      "[I 2025-05-15 16:00:32,339] Trial 9 finished with values: [0.6950047942456798, 0.07926515657795731] and parameters: {'max_depth': 7, 'eta': 0.2901498229724482, 'subsample': 0.6862964915319587, 'colsample_bytree': 0.9417911003292208}.\n",
      "[I 2025-05-15 16:00:32,343] A new study created in memory with name: no-name-0ec52f0f-a573-4777-8c64-7ec85466bd93\n",
      "[I 2025-05-15 16:00:32,487] Trial 0 finished with values: [0.6742976353493672, 0.04737510814120236] and parameters: {'max_depth': 6, 'eta': 0.10563820672563912, 'subsample': 0.8780621191320793, 'colsample_bytree': 0.6128524551938501}.\n"
     ]
    },
    {
     "name": "stdout",
     "output_type": "stream",
     "text": [
      "Completed study for alpha=0.42\n"
     ]
    },
    {
     "name": "stderr",
     "output_type": "stream",
     "text": [
      "[I 2025-05-15 16:00:32,734] Trial 1 finished with values: [0.6728685518927314, 0.06643137153802117] and parameters: {'max_depth': 6, 'eta': 0.025619299591073875, 'subsample': 0.8652812180791877, 'colsample_bytree': 0.7591746244257679}.\n",
      "[I 2025-05-15 16:00:32,859] Trial 2 finished with values: [0.6807154913872067, 0.07176206147196534] and parameters: {'max_depth': 4, 'eta': 0.2828477541397859, 'subsample': 0.6997290246401614, 'colsample_bytree': 0.9166446816268026}.\n",
      "[I 2025-05-15 16:00:33,040] Trial 3 finished with values: [0.660008332490894, 0.04074618545996136] and parameters: {'max_depth': 4, 'eta': 0.05764013453887537, 'subsample': 0.7648218161363901, 'colsample_bytree': 0.6505371441903386}.\n",
      "[I 2025-05-15 16:00:33,186] Trial 4 finished with values: [0.6614404793632996, 0.025192368745952893] and parameters: {'max_depth': 3, 'eta': 0.23217090655435665, 'subsample': 0.7450919393046601, 'colsample_bytree': 0.7036232426713118}.\n",
      "[I 2025-05-15 16:00:33,362] Trial 5 finished with values: [0.6828614141339878, 0.06181205642698757] and parameters: {'max_depth': 5, 'eta': 0.18036145855003674, 'subsample': 0.816847201509366, 'colsample_bytree': 0.8319997070946462}.\n",
      "[I 2025-05-15 16:00:33,511] Trial 6 finished with values: [0.6749991575606633, 0.046207155695757396] and parameters: {'max_depth': 4, 'eta': 0.28840817068786523, 'subsample': 0.7285172202728001, 'colsample_bytree': 0.8027696563307906}.\n",
      "[I 2025-05-15 16:00:33,636] Trial 7 finished with values: [0.6750037526843181, 0.04616553290882411] and parameters: {'max_depth': 4, 'eta': 0.190615033361894, 'subsample': 0.9722713758228743, 'colsample_bytree': 0.6242084590857657}.\n",
      "[I 2025-05-15 16:00:33,882] Trial 8 finished with values: [0.6642955828608015, 0.039017099871523624] and parameters: {'max_depth': 6, 'eta': 0.03469512976892528, 'subsample': 0.8085975140535515, 'colsample_bytree': 0.813297244994034}.\n",
      "[I 2025-05-15 16:00:34,047] Trial 9 finished with values: [0.6942910183713044, 0.09300942393812835] and parameters: {'max_depth': 6, 'eta': 0.2751563962935365, 'subsample': 0.7128302612291101, 'colsample_bytree': 0.7349599633963447}.\n",
      "[I 2025-05-15 16:00:34,056] A new study created in memory with name: no-name-abff9531-4ee4-4945-a340-69cf75baea09\n",
      "[I 2025-05-15 16:00:34,203] Trial 0 finished with values: [0.6785802905956199, 0.04843426059357644] and parameters: {'max_depth': 4, 'eta': 0.2754973090212211, 'subsample': 0.7402839289105063, 'colsample_bytree': 0.6060158462392856}.\n"
     ]
    },
    {
     "name": "stdout",
     "output_type": "stream",
     "text": [
      "Completed study for alpha=0.43\n"
     ]
    },
    {
     "name": "stderr",
     "output_type": "stream",
     "text": [
      "[I 2025-05-15 16:00:34,368] Trial 1 finished with values: [0.6835675314689386, 0.0661556795019983] and parameters: {'max_depth': 7, 'eta': 0.18436141513893678, 'subsample': 0.6429104578407673, 'colsample_bytree': 0.79686534821292}.\n",
      "[I 2025-05-15 16:00:34,546] Trial 2 finished with values: [0.7064313350672267, 0.06968984179469016] and parameters: {'max_depth': 7, 'eta': 0.2625203918350107, 'subsample': 0.8508298344964005, 'colsample_bytree': 0.6785794926683869}.\n",
      "[I 2025-05-15 16:00:34,673] Trial 3 finished with values: [0.666432315360273, 0.015930963477270816] and parameters: {'max_depth': 3, 'eta': 0.1731826792105668, 'subsample': 0.7233205930536846, 'colsample_bytree': 0.7092063610460199}.\n",
      "[I 2025-05-15 16:00:34,817] Trial 4 finished with values: [0.6792848762226859, 0.06618779707743991] and parameters: {'max_depth': 6, 'eta': 0.21745613122940619, 'subsample': 0.9107573912358056, 'colsample_bytree': 0.879961005715119}.\n",
      "[I 2025-05-15 16:00:34,936] Trial 5 finished with values: [0.667155281481958, 0.032090207009254516] and parameters: {'max_depth': 3, 'eta': 0.15330860302957075, 'subsample': 0.8861804689922639, 'colsample_bytree': 0.6622017564787983}.\n",
      "[I 2025-05-15 16:00:35,066] Trial 6 finished with values: [0.6714410001439806, 0.03313403533665806] and parameters: {'max_depth': 3, 'eta': 0.15047533732805657, 'subsample': 0.6610347284949557, 'colsample_bytree': 0.6465637232917755}.\n",
      "[I 2025-05-15 16:00:35,244] Trial 7 finished with values: [0.6635572996602672, 0.054199085900366394] and parameters: {'max_depth': 6, 'eta': 0.04713719557218891, 'subsample': 0.9894145252244246, 'colsample_bytree': 0.9810951697765846}.\n",
      "[I 2025-05-15 16:00:35,365] Trial 8 finished with values: [0.6807399987133653, 0.045980837331875524] and parameters: {'max_depth': 3, 'eta': 0.29587442429539973, 'subsample': 0.8295919415752648, 'colsample_bytree': 0.6832452002982548}.\n",
      "[I 2025-05-15 16:00:35,477] Trial 9 finished with values: [0.6728685518927314, 0.033010033801013146] and parameters: {'max_depth': 3, 'eta': 0.28180542384416385, 'subsample': 0.8094252548374523, 'colsample_bytree': 0.6353859035336047}.\n",
      "[I 2025-05-15 16:00:35,481] A new study created in memory with name: no-name-07b82ada-a0eb-43d1-81e1-81c4672eeac9\n",
      "[I 2025-05-15 16:00:35,621] Trial 0 finished with values: [0.6557226138288715, 0.029978748856007254] and parameters: {'max_depth': 3, 'eta': 0.07165826523671641, 'subsample': 0.7864342186681259, 'colsample_bytree': 0.8549005617582166}.\n"
     ]
    },
    {
     "name": "stdout",
     "output_type": "stream",
     "text": [
      "Completed study for alpha=0.44\n"
     ]
    },
    {
     "name": "stderr",
     "output_type": "stream",
     "text": [
      "[I 2025-05-15 16:00:35,784] Trial 1 finished with values: [0.6800078423443708, 0.050103535237847906] and parameters: {'max_depth': 6, 'eta': 0.16096538831165863, 'subsample': 0.7227205783947158, 'colsample_bytree': 0.8313319085163877}.\n",
      "[I 2025-05-15 16:00:35,922] Trial 2 finished with values: [0.6792894713463405, 0.0389029107218029] and parameters: {'max_depth': 5, 'eta': 0.23196400283313487, 'subsample': 0.7785742794350158, 'colsample_bytree': 0.9383417509280336}.\n",
      "[I 2025-05-15 16:00:36,044] Trial 3 finished with values: [0.6735746692276822, 0.049451954585617] and parameters: {'max_depth': 4, 'eta': 0.27258250162898956, 'subsample': 0.8355106898846808, 'colsample_bytree': 0.739679741465019}.\n",
      "[I 2025-05-15 16:00:36,194] Trial 4 finished with values: [0.6700119166873447, 0.052084398271702775] and parameters: {'max_depth': 5, 'eta': 0.09965450861422814, 'subsample': 0.9192722423148835, 'colsample_bytree': 0.6749695805747763}.\n",
      "[I 2025-05-15 16:00:36,335] Trial 5 finished with values: [0.664283329197722, 0.04265625618096378] and parameters: {'max_depth': 5, 'eta': 0.11177062223760184, 'subsample': 0.8432874205291736, 'colsample_bytree': 0.9962234213924263}.\n",
      "[I 2025-05-15 16:00:36,575] Trial 6 finished with values: [0.6700011947321501, 0.06281601956050491] and parameters: {'max_depth': 7, 'eta': 0.01721736815419291, 'subsample': 0.6931541192756538, 'colsample_bytree': 0.7534510733341354}.\n",
      "[I 2025-05-15 16:00:36,718] Trial 7 finished with values: [0.6700073215636899, 0.03952526625859092] and parameters: {'max_depth': 5, 'eta': 0.09796556214860465, 'subsample': 0.8016468974712698, 'colsample_bytree': 0.6857460411050429}.\n",
      "[I 2025-05-15 16:00:36,906] Trial 8 finished with values: [0.6742930402257125, 0.04030622531002131] and parameters: {'max_depth': 6, 'eta': 0.03761325202701729, 'subsample': 0.6328531290069039, 'colsample_bytree': 0.9441567074818386}.\n",
      "[I 2025-05-15 16:00:37,108] Trial 9 finished with values: [0.6542889352485809, 0.05624394320940584] and parameters: {'max_depth': 4, 'eta': 0.014597225999225534, 'subsample': 0.937965249201384, 'colsample_bytree': 0.7321705031913233}.\n",
      "[I 2025-05-15 16:00:37,111] A new study created in memory with name: no-name-67e4faf0-1c51-4689-aefe-94b5b608c336\n",
      "[I 2025-05-15 16:00:37,316] Trial 0 finished with values: [0.6571532289933922, 0.03452387568280255] and parameters: {'max_depth': 3, 'eta': 0.014069334039599774, 'subsample': 0.8878310057500713, 'colsample_bytree': 0.6099872915477925}.\n"
     ]
    },
    {
     "name": "stdout",
     "output_type": "stream",
     "text": [
      "Completed study for alpha=0.45\n"
     ]
    },
    {
     "name": "stderr",
     "output_type": "stream",
     "text": [
      "[I 2025-05-15 16:00:37,461] Trial 1 finished with values: [0.6792833445148009, 0.05032054857869737] and parameters: {'max_depth': 5, 'eta': 0.28229401939587395, 'subsample': 0.6898187331351493, 'colsample_bytree': 0.8638073193960065}.\n",
      "[I 2025-05-15 16:00:37,674] Trial 2 finished with values: [0.6571547607012772, 0.031981473176981495] and parameters: {'max_depth': 3, 'eta': 0.01927583217342812, 'subsample': 0.7667540675912348, 'colsample_bytree': 0.9876433771747658}.\n",
      "[I 2025-05-15 16:00:37,802] Trial 3 finished with values: [0.6728593616454219, 0.04670806544306779] and parameters: {'max_depth': 4, 'eta': 0.25795999868779385, 'subsample': 0.842917777459097, 'colsample_bytree': 0.6127452656559137}.\n",
      "[I 2025-05-15 16:00:37,968] Trial 4 finished with values: [0.693578774204814, 0.08427756459327612] and parameters: {'max_depth': 7, 'eta': 0.28231115432482656, 'subsample': 0.7710517982002514, 'colsample_bytree': 0.8851573914590825}.\n",
      "[I 2025-05-15 16:00:38,121] Trial 5 finished with values: [0.691425192918608, 0.06555384094287348] and parameters: {'max_depth': 6, 'eta': 0.2802830115562229, 'subsample': 0.6829091717964827, 'colsample_bytree': 0.6071135919990157}.\n",
      "[I 2025-05-15 16:00:38,249] Trial 6 finished with values: [0.6707134388986408, 0.029893305677589105] and parameters: {'max_depth': 3, 'eta': 0.28041528585251335, 'subsample': 0.7804353289397524, 'colsample_bytree': 0.8280372918364336}.\n",
      "[I 2025-05-15 16:00:38,377] Trial 7 finished with values: [0.6707210974380654, 0.029501685504098152] and parameters: {'max_depth': 4, 'eta': 0.1089588766754019, 'subsample': 0.640978506795625, 'colsample_bytree': 0.7085741044047933}.\n",
      "[I 2025-05-15 16:00:38,515] Trial 8 finished with values: [0.7078542916923228, 0.07490925077669021] and parameters: {'max_depth': 7, 'eta': 0.2848253947243768, 'subsample': 0.9351362273988189, 'colsample_bytree': 0.9253293403197177}.\n",
      "[I 2025-05-15 16:00:38,649] Trial 9 finished with values: [0.6885808113763008, 0.09391904426810099] and parameters: {'max_depth': 6, 'eta': 0.20373666268331922, 'subsample': 0.6307851839544493, 'colsample_bytree': 0.7317267478007564}.\n",
      "[I 2025-05-15 16:00:38,652] A new study created in memory with name: no-name-bfb1661f-afa3-4e74-9be3-0a9b926c95fb\n",
      "[I 2025-05-15 16:00:38,787] Trial 0 finished with values: [0.6685828332307088, 0.049259628059657175] and parameters: {'max_depth': 5, 'eta': 0.15678059532495112, 'subsample': 0.7091962013695379, 'colsample_bytree': 0.8909725990061945}.\n"
     ]
    },
    {
     "name": "stdout",
     "output_type": "stream",
     "text": [
      "Completed study for alpha=0.46\n"
     ]
    },
    {
     "name": "stderr",
     "output_type": "stream",
     "text": [
      "[I 2025-05-15 16:00:38,950] Trial 1 finished with values: [0.6978522392037569, 0.08758217141887142] and parameters: {'max_depth': 6, 'eta': 0.2705314026512621, 'subsample': 0.9648063776334073, 'colsample_bytree': 0.9412387932917359}.\n",
      "[I 2025-05-15 16:00:39,064] Trial 2 finished with values: [0.6585746539106034, 0.020079650222195256] and parameters: {'max_depth': 3, 'eta': 0.259028618609617, 'subsample': 0.9344889470953868, 'colsample_bytree': 0.8752825052023685}.\n",
      "[I 2025-05-15 16:00:39,236] Trial 3 finished with values: [0.668579769814939, 0.03731814029609192] and parameters: {'max_depth': 5, 'eta': 0.1239552160528713, 'subsample': 0.8786175239414515, 'colsample_bytree': 0.7207229368664515}.\n",
      "[I 2025-05-15 16:00:39,377] Trial 4 finished with values: [0.66928282373412, 0.03552044532195801] and parameters: {'max_depth': 4, 'eta': 0.10386353105300455, 'subsample': 0.9581559544581072, 'colsample_bytree': 0.6480759268170231}.\n",
      "[I 2025-05-15 16:00:39,503] Trial 5 finished with values: [0.6635710850312315, 0.026454804875998956] and parameters: {'max_depth': 3, 'eta': 0.2084074837851049, 'subsample': 0.7911646222328828, 'colsample_bytree': 0.8288237962739848}.\n",
      "[I 2025-05-15 16:00:39,637] Trial 6 finished with values: [0.6871471327960103, 0.08477378588768962] and parameters: {'max_depth': 6, 'eta': 0.2094784831546626, 'subsample': 0.6218284778556649, 'colsample_bytree': 0.797694830974862}.\n",
      "[I 2025-05-15 16:00:39,813] Trial 7 finished with values: [0.6664384421918128, 0.03827180512511238] and parameters: {'max_depth': 6, 'eta': 0.042005142119050404, 'subsample': 0.8564380725288134, 'colsample_bytree': 0.6502969900921474}.\n",
      "[I 2025-05-15 16:00:39,946] Trial 8 finished with values: [0.6835721265925933, 0.07308333515064087] and parameters: {'max_depth': 4, 'eta': 0.2764907473409241, 'subsample': 0.6252995429450453, 'colsample_bytree': 0.8862443126381346}.\n",
      "[I 2025-05-15 16:00:40,101] Trial 9 finished with values: [0.6728608933533068, 0.04678836679364801] and parameters: {'max_depth': 7, 'eta': 0.10208686233770038, 'subsample': 0.6846277716053938, 'colsample_bytree': 0.7851275305476916}.\n",
      "[I 2025-05-15 16:00:40,107] A new study created in memory with name: no-name-a8e66f31-63fa-46e9-b72b-db1db5da1cd2\n",
      "[I 2025-05-15 16:00:40,247] Trial 0 finished with values: [0.662135874743056, 0.030727625416479453] and parameters: {'max_depth': 5, 'eta': 0.10527865245004435, 'subsample': 0.7693052579857638, 'colsample_bytree': 0.9160263549006332}.\n"
     ]
    },
    {
     "name": "stdout",
     "output_type": "stream",
     "text": [
      "Completed study for alpha=0.47\n"
     ]
    },
    {
     "name": "stderr",
     "output_type": "stream",
     "text": [
      "[I 2025-05-15 16:00:40,372] Trial 1 finished with values: [0.6800109057601406, 0.06460059058743871] and parameters: {'max_depth': 4, 'eta': 0.29975708319869754, 'subsample': 0.6070473502007332, 'colsample_bytree': 0.9368939263451668}.\n",
      "[I 2025-05-15 16:00:40,587] Trial 2 finished with values: [0.6685736429833994, 0.04984728098737857] and parameters: {'max_depth': 5, 'eta': 0.0669470096090504, 'subsample': 0.9813391229739827, 'colsample_bytree': 0.7259171914374224}.\n",
      "[I 2025-05-15 16:00:40,716] Trial 3 finished with values: [0.6742915085178275, 0.056240140407542244] and parameters: {'max_depth': 4, 'eta': 0.26060473712304477, 'subsample': 0.9574759708498716, 'colsample_bytree': 0.6466837595039582}.\n",
      "[I 2025-05-15 16:00:40,837] Trial 4 finished with values: [0.6664277202366181, 0.043309258344864564] and parameters: {'max_depth': 4, 'eta': 0.23273731161025663, 'subsample': 0.8173792994330997, 'colsample_bytree': 0.660517719543334}.\n",
      "[I 2025-05-15 16:00:40,979] Trial 5 finished with values: [0.6928649983304385, 0.06166028712520105] and parameters: {'max_depth': 5, 'eta': 0.2957224446979803, 'subsample': 0.872338118890134, 'colsample_bytree': 0.799895350959266}.\n",
      "[I 2025-05-15 16:00:41,109] Trial 6 finished with values: [0.6664369104839278, 0.035276072830882764] and parameters: {'max_depth': 4, 'eta': 0.2088348203459528, 'subsample': 0.6993998334976412, 'colsample_bytree': 0.6331240350363513}.\n",
      "[I 2025-05-15 16:00:41,298] Trial 7 finished with values: [0.6692889505656597, 0.04163152833177133] and parameters: {'max_depth': 6, 'eta': 0.044635820722024634, 'subsample': 0.6140276904336782, 'colsample_bytree': 0.7761770293005293}.\n",
      "[I 2025-05-15 16:00:41,434] Trial 8 finished with values: [0.6642955828608015, 0.024825125582028745] and parameters: {'max_depth': 5, 'eta': 0.1552405114783323, 'subsample': 0.7801801267729981, 'colsample_bytree': 0.7008164381978967}.\n",
      "[I 2025-05-15 16:00:41,565] Trial 9 finished with values: [0.6714302781887861, 0.04333912833493229] and parameters: {'max_depth': 4, 'eta': 0.13081762926040497, 'subsample': 0.9373172445511622, 'colsample_bytree': 0.749402674922047}.\n",
      "[I 2025-05-15 16:00:41,569] A new study created in memory with name: no-name-6b23915d-0b66-4af2-9e18-17a7ab904d6a\n",
      "[I 2025-05-15 16:00:41,753] Trial 0 finished with values: [0.6792910030542255, 0.05469815886631683] and parameters: {'max_depth': 7, 'eta': 0.19810529915510447, 'subsample': 0.8677835288067897, 'colsample_bytree': 0.7209843796791484}.\n"
     ]
    },
    {
     "name": "stdout",
     "output_type": "stream",
     "text": [
      "Completed study for alpha=0.48\n"
     ]
    },
    {
     "name": "stderr",
     "output_type": "stream",
     "text": [
      "[I 2025-05-15 16:00:41,925] Trial 1 finished with values: [0.6792864079305708, 0.048555705144751916] and parameters: {'max_depth': 4, 'eta': 0.1799940977261567, 'subsample': 0.7808160623233409, 'colsample_bytree': 0.9435230478034823}.\n",
      "[I 2025-05-15 16:00:42,074] Trial 2 finished with values: [0.6778619195975897, 0.04346780384867216] and parameters: {'max_depth': 4, 'eta': 0.26445726933880337, 'subsample': 0.9743984501862664, 'colsample_bytree': 0.9345218613822754}.\n",
      "[I 2025-05-15 16:00:42,263] Trial 3 finished with values: [0.6778619195975897, 0.04060540154097538] and parameters: {'max_depth': 7, 'eta': 0.06159994133717192, 'subsample': 0.6772175446023504, 'colsample_bytree': 0.9651872275974483}.\n",
      "[I 2025-05-15 16:00:42,439] Trial 4 finished with values: [0.6778557927660499, 0.06407399015522215] and parameters: {'max_depth': 6, 'eta': 0.0872485864291386, 'subsample': 0.9612415158968031, 'colsample_bytree': 0.8817094895361006}.\n",
      "[I 2025-05-15 16:00:42,616] Trial 5 finished with values: [0.6814338623852368, 0.0642130582253643] and parameters: {'max_depth': 7, 'eta': 0.09760161562573894, 'subsample': 0.8970325840139266, 'colsample_bytree': 0.836781825372751}.\n",
      "[I 2025-05-15 16:00:42,746] Trial 6 finished with values: [0.663581806986426, 0.03605409554872504] and parameters: {'max_depth': 3, 'eta': 0.233599689111886, 'subsample': 0.980398603349395, 'colsample_bytree': 0.6267265476571565}.\n",
      "[I 2025-05-15 16:00:42,893] Trial 7 finished with values: [0.6535874130372848, 0.02656525159164159] and parameters: {'max_depth': 3, 'eta': 0.06237143950152082, 'subsample': 0.8370443530250375, 'colsample_bytree': 0.8494894012137364}.\n",
      "[I 2025-05-15 16:00:43,030] Trial 8 finished with values: [0.6657353882726317, 0.027564153665505835] and parameters: {'max_depth': 3, 'eta': 0.09066341354921865, 'subsample': 0.8803566392313724, 'colsample_bytree': 0.936852081829182}.\n",
      "[I 2025-05-15 16:00:43,317] Trial 9 finished with values: [0.664284860905607, 0.05416835054238933] and parameters: {'max_depth': 5, 'eta': 0.012624494384633063, 'subsample': 0.8691524158369042, 'colsample_bytree': 0.8865996363920816}.\n",
      "[I 2025-05-15 16:00:43,323] A new study created in memory with name: no-name-e60d693b-2729-42ee-9fa8-c613f58c8bb4\n",
      "[I 2025-05-15 16:00:43,464] Trial 0 finished with values: [0.6649986367799824, 0.04859430122270336] and parameters: {'max_depth': 5, 'eta': 0.11931138367155993, 'subsample': 0.716942925457338, 'colsample_bytree': 0.9131076619902274}.\n"
     ]
    },
    {
     "name": "stdout",
     "output_type": "stream",
     "text": [
      "Completed study for alpha=0.49\n"
     ]
    },
    {
     "name": "stderr",
     "output_type": "stream",
     "text": [
      "[I 2025-05-15 16:00:43,595] Trial 1 finished with values: [0.667878247603643, 0.027518725895002243] and parameters: {'max_depth': 3, 'eta': 0.09692657317472507, 'subsample': 0.602659400874796, 'colsample_bytree': 0.6098201829529656}.\n",
      "[I 2025-05-15 16:00:43,762] Trial 2 finished with values: [0.6800109057601406, 0.06076308422500254] and parameters: {'max_depth': 6, 'eta': 0.1758114320469165, 'subsample': 0.678380503738089, 'colsample_bytree': 0.9325541437564622}.\n",
      "[I 2025-05-15 16:00:43,969] Trial 3 finished with values: [0.6764374312646085, 0.05966236322558708] and parameters: {'max_depth': 7, 'eta': 0.03807215345517722, 'subsample': 0.6613782136396724, 'colsample_bytree': 0.9350577939956333}.\n",
      "[I 2025-05-15 16:00:44,125] Trial 4 finished with values: [0.6785802905956199, 0.03630847575164434] and parameters: {'max_depth': 5, 'eta': 0.11375111983572236, 'subsample': 0.8359821165794418, 'colsample_bytree': 0.6669296210782371}.\n",
      "[I 2025-05-15 16:00:44,249] Trial 5 finished with values: [0.664304773108111, 0.034221430476214815] and parameters: {'max_depth': 3, 'eta': 0.16102885821171029, 'subsample': 0.8214529925252292, 'colsample_bytree': 0.8269335239833923}.\n",
      "[I 2025-05-15 16:00:44,400] Trial 6 finished with values: [0.6714471269755201, 0.02853230970815331] and parameters: {'max_depth': 3, 'eta': 0.039023639391224954, 'subsample': 0.8231793861480923, 'colsample_bytree': 0.8241150462981734}.\n",
      "[I 2025-05-15 16:00:44,587] Trial 7 finished with values: [0.6671568131898429, 0.04578276383688307] and parameters: {'max_depth': 4, 'eta': 0.04087554748798203, 'subsample': 0.9289020527918388, 'colsample_bytree': 0.6963058966748563}.\n",
      "[I 2025-05-15 16:00:44,701] Trial 8 finished with values: [0.6692950773971994, 0.046756955527687945] and parameters: {'max_depth': 3, 'eta': 0.24268335671682578, 'subsample': 0.7437866261686374, 'colsample_bytree': 0.7126047755147619}.\n",
      "[I 2025-05-15 16:00:44,815] Trial 9 finished with values: [0.6678644622326787, 0.036164480713573345] and parameters: {'max_depth': 3, 'eta': 0.14190980275817186, 'subsample': 0.6267984734711637, 'colsample_bytree': 0.8232250097431417}.\n",
      "[I 2025-05-15 16:00:44,818] A new study created in memory with name: no-name-23b2a785-0d2c-4487-b870-1f2eb0601559\n",
      "[I 2025-05-15 16:00:44,935] Trial 0 finished with values: [0.6678675256484485, 0.042979072232336456] and parameters: {'max_depth': 3, 'eta': 0.22377372178546182, 'subsample': 0.7869181232137046, 'colsample_bytree': 0.8989377300890242}.\n"
     ]
    },
    {
     "name": "stdout",
     "output_type": "stream",
     "text": [
      "Completed study for alpha=0.5\n"
     ]
    },
    {
     "name": "stderr",
     "output_type": "stream",
     "text": [
      "[I 2025-05-15 16:00:45,088] Trial 1 finished with values: [0.6721532443104711, 0.05349765526875652] and parameters: {'max_depth': 7, 'eta': 0.12055697705382791, 'subsample': 0.9388168177715781, 'colsample_bytree': 0.6991298457385241}.\n",
      "[I 2025-05-15 16:00:45,229] Trial 2 finished with values: [0.6671522180661881, 0.04549653979300065] and parameters: {'max_depth': 5, 'eta': 0.10316623680751714, 'subsample': 0.7962938010387055, 'colsample_bytree': 0.6183361950752038}.\n",
      "[I 2025-05-15 16:00:45,358] Trial 3 finished with values: [0.6828583507182179, 0.04660376773499913] and parameters: {'max_depth': 7, 'eta': 0.1649641256318888, 'subsample': 0.8590613387851116, 'colsample_bytree': 0.6357478073277751}.\n",
      "[I 2025-05-15 16:00:45,492] Trial 4 finished with values: [0.6928634666225535, 0.04752298110063671] and parameters: {'max_depth': 6, 'eta': 0.1845291117289626, 'subsample': 0.7877568532497576, 'colsample_bytree': 0.8327583265407974}.\n",
      "[I 2025-05-15 16:00:45,631] Trial 5 finished with values: [0.6878609086703856, 0.06627768262523122] and parameters: {'max_depth': 5, 'eta': 0.23606158619013423, 'subsample': 0.8496650122648873, 'colsample_bytree': 0.8202487998566317}.\n",
      "[I 2025-05-15 16:00:45,766] Trial 6 finished with values: [0.6828583507182179, 0.060993057198789224] and parameters: {'max_depth': 5, 'eta': 0.21794838586885368, 'subsample': 0.6435207669841674, 'colsample_bytree': 0.8092552640729839}.\n",
      "[I 2025-05-15 16:00:45,922] Trial 7 finished with values: [0.6921343736693287, 0.05066323838061062] and parameters: {'max_depth': 6, 'eta': 0.2516150754710411, 'subsample': 0.8448478034239119, 'colsample_bytree': 0.9750581049611635}.\n",
      "[I 2025-05-15 16:00:46,064] Trial 8 finished with values: [0.6750006892685482, 0.068338033198438] and parameters: {'max_depth': 5, 'eta': 0.1371067186087324, 'subsample': 0.9976167097636539, 'colsample_bytree': 0.8114337649098333}.\n",
      "[I 2025-05-15 16:00:46,208] Trial 9 finished with values: [0.6814246721379273, 0.0665347042897656] and parameters: {'max_depth': 6, 'eta': 0.1805122514408776, 'subsample': 0.7740895524050557, 'colsample_bytree': 0.8151085524215318}.\n",
      "[I 2025-05-15 16:00:46,212] A new study created in memory with name: no-name-47b24f58-9210-467b-8c3f-a6e4f2f0cdee\n",
      "[I 2025-05-15 16:00:46,354] Trial 0 finished with values: [0.6764343678488388, 0.06074138238722843] and parameters: {'max_depth': 6, 'eta': 0.15071885651775999, 'subsample': 0.6159944191517254, 'colsample_bytree': 0.7538290465501848}.\n"
     ]
    },
    {
     "name": "stdout",
     "output_type": "stream",
     "text": [
      "Completed study for alpha=0.51\n"
     ]
    },
    {
     "name": "stderr",
     "output_type": "stream",
     "text": [
      "[I 2025-05-15 16:00:46,520] Trial 1 finished with values: [0.6921405005008685, 0.08303072975502485] and parameters: {'max_depth': 7, 'eta': 0.23568297976913793, 'subsample': 0.6479091918944431, 'colsample_bytree': 0.8199073503562597}.\n",
      "[I 2025-05-15 16:00:46,662] Trial 2 finished with values: [0.6835721265925933, 0.049404844873095134] and parameters: {'max_depth': 5, 'eta': 0.22380266100849985, 'subsample': 0.7858231660352618, 'colsample_bytree': 0.7064812279173118}.\n",
      "[I 2025-05-15 16:00:46,823] Trial 3 finished with values: [0.6664415056075826, 0.031605385970468615] and parameters: {'max_depth': 4, 'eta': 0.0444480649227625, 'subsample': 0.8847008099914355, 'colsample_bytree': 0.7987992792780692}.\n",
      "[I 2025-05-15 16:00:46,970] Trial 4 finished with values: [0.6928588714988987, 0.07754952633109892] and parameters: {'max_depth': 6, 'eta': 0.26648592110067126, 'subsample': 0.8681387871019006, 'colsample_bytree': 0.654970092499981}.\n",
      "[I 2025-05-15 16:00:47,130] Trial 5 finished with values: [0.6750068161000878, 0.07229350967146093] and parameters: {'max_depth': 7, 'eta': 0.1370811642174925, 'subsample': 0.6619096291684269, 'colsample_bytree': 0.8870640968332214}.\n",
      "[I 2025-05-15 16:00:47,302] Trial 6 finished with values: [0.6814277355536972, 0.059212307874213575] and parameters: {'max_depth': 7, 'eta': 0.06132798267455645, 'subsample': 0.8283383319891541, 'colsample_bytree': 0.9882160690086919}.\n",
      "[I 2025-05-15 16:00:47,435] Trial 7 finished with values: [0.6821507016753822, 0.043446605956159234] and parameters: {'max_depth': 5, 'eta': 0.22988458252639976, 'subsample': 0.7718443957291452, 'colsample_bytree': 0.7032972882973834}.\n",
      "[I 2025-05-15 16:00:47,554] Trial 8 finished with values: [0.673579264351337, 0.05834460827028978] and parameters: {'max_depth': 3, 'eta': 0.23965403147006448, 'subsample': 0.6672048640589237, 'colsample_bytree': 0.6505278895622191}.\n",
      "[I 2025-05-15 16:00:47,897] Trial 9 finished with values: [0.6764343678488388, 0.06403021030263609] and parameters: {'max_depth': 6, 'eta': 0.010754465753152783, 'subsample': 0.6101110698995246, 'colsample_bytree': 0.6474499716955174}.\n",
      "[I 2025-05-15 16:00:47,901] A new study created in memory with name: no-name-4fb4894a-031a-42da-bd54-a1a034dc4261\n",
      "[I 2025-05-15 16:00:48,057] Trial 0 finished with values: [0.6985782687412118, 0.0744380134525144] and parameters: {'max_depth': 7, 'eta': 0.27047788628586866, 'subsample': 0.7652836901817528, 'colsample_bytree': 0.9542012805379214}.\n"
     ]
    },
    {
     "name": "stdout",
     "output_type": "stream",
     "text": [
      "Completed study for alpha=0.52\n"
     ]
    },
    {
     "name": "stderr",
     "output_type": "stream",
     "text": [
      "[I 2025-05-15 16:00:48,223] Trial 1 finished with values: [0.6707256925617201, 0.03728260779644927] and parameters: {'max_depth': 4, 'eta': 0.05818962079418854, 'subsample': 0.6205651820346476, 'colsample_bytree': 0.6374229634697123}.\n",
      "[I 2025-05-15 16:00:48,378] Trial 2 finished with values: [0.6657216029016674, 0.04277436078548886] and parameters: {'max_depth': 4, 'eta': 0.05029639377379664, 'subsample': 0.7679523168044349, 'colsample_bytree': 0.7629100028493085}.\n",
      "[I 2025-05-15 16:00:48,570] Trial 3 finished with values: [0.696427750870776, 0.07896013343966203] and parameters: {'max_depth': 7, 'eta': 0.20803119465629785, 'subsample': 0.8869092643383485, 'colsample_bytree': 0.7703837166337896}.\n",
      "[I 2025-05-15 16:00:48,726] Trial 4 finished with values: [0.6564425165347866, 0.02755006158692787] and parameters: {'max_depth': 3, 'eta': 0.03643226085210539, 'subsample': 0.9789363091571577, 'colsample_bytree': 0.7049081119275802}.\n",
      "[I 2025-05-15 16:00:48,855] Trial 5 finished with values: [0.669304267644509, 0.041305222175013166] and parameters: {'max_depth': 3, 'eta': 0.10533037218915822, 'subsample': 0.7955974909577591, 'colsample_bytree': 0.8725492467952067}.\n",
      "[I 2025-05-15 16:00:49,001] Trial 6 finished with values: [0.6671460912346484, 0.021217210586748508] and parameters: {'max_depth': 4, 'eta': 0.11986558489874906, 'subsample': 0.7392734700821424, 'colsample_bytree': 0.6792030201110649}.\n",
      "[I 2025-05-15 16:00:49,143] Trial 7 finished with values: [0.6892899921270215, 0.04587697801010484] and parameters: {'max_depth': 4, 'eta': 0.2867729604315726, 'subsample': 0.6512198037353972, 'colsample_bytree': 0.972501946778826}.\n",
      "[I 2025-05-15 16:00:49,313] Trial 8 finished with values: [0.66928282373412, 0.047164059674736074] and parameters: {'max_depth': 6, 'eta': 0.05613756650415684, 'subsample': 0.9615918380758179, 'colsample_bytree': 0.644682069556785}.\n",
      "[I 2025-05-15 16:00:49,462] Trial 9 finished with values: [0.6550134330781509, 0.019883439118124957] and parameters: {'max_depth': 3, 'eta': 0.05664328878480283, 'subsample': 0.9423840737858278, 'colsample_bytree': 0.6521364097981507}.\n",
      "[I 2025-05-15 16:00:49,469] A new study created in memory with name: no-name-359745c2-0160-46f5-a57b-0ee87e241a36\n"
     ]
    },
    {
     "name": "stdout",
     "output_type": "stream",
     "text": [
      "Completed study for alpha=0.53\n"
     ]
    },
    {
     "name": "stderr",
     "output_type": "stream",
     "text": [
      "[I 2025-05-15 16:00:49,706] Trial 0 finished with values: [0.6721394589395068, 0.07012138566742022] and parameters: {'max_depth': 7, 'eta': 0.022561528889430284, 'subsample': 0.8296069293164718, 'colsample_bytree': 0.8544243062873338}.\n",
      "[I 2025-05-15 16:00:49,979] Trial 1 finished with values: [0.6692981408129692, 0.03652699408261139] and parameters: {'max_depth': 3, 'eta': 0.08868286933963929, 'subsample': 0.8062985316005113, 'colsample_bytree': 0.8153588108316145}.\n",
      "[I 2025-05-15 16:00:50,135] Trial 2 finished with values: [0.6707241608538353, 0.055647031618209886] and parameters: {'max_depth': 5, 'eta': 0.11205113230378169, 'subsample': 0.8984927404062459, 'colsample_bytree': 0.6001501033475823}.\n",
      "[I 2025-05-15 16:00:50,311] Trial 3 finished with values: [0.6928695934540933, 0.062281862752235434] and parameters: {'max_depth': 6, 'eta': 0.0883391992484479, 'subsample': 0.6229216026534171, 'colsample_bytree': 0.966917637413869}.\n",
      "[I 2025-05-15 16:00:50,448] Trial 4 finished with values: [0.6678705890642184, 0.02981000611339359] and parameters: {'max_depth': 3, 'eta': 0.09822684245949477, 'subsample': 0.6470261742338649, 'colsample_bytree': 0.9723755947925362}.\n",
      "[I 2025-05-15 16:00:50,605] Trial 5 finished with values: [0.687851718423076, 0.07326994493947084] and parameters: {'max_depth': 7, 'eta': 0.12522166894800213, 'subsample': 0.911475539053946, 'colsample_bytree': 0.7591263941905284}.\n",
      "[I 2025-05-15 16:00:50,788] Trial 6 finished with values: [0.7078466331528982, 0.08417131798273307] and parameters: {'max_depth': 7, 'eta': 0.26001184158499135, 'subsample': 0.9770986699337475, 'colsample_bytree': 0.697680954518747}.\n",
      "[I 2025-05-15 16:00:51,039] Trial 7 finished with values: [0.667858335401139, 0.04336073242145552] and parameters: {'max_depth': 6, 'eta': 0.024855398790561756, 'subsample': 0.8528648971532142, 'colsample_bytree': 0.8380865926631219}.\n",
      "[I 2025-05-15 16:00:51,192] Trial 8 finished with values: [0.6828583507182179, 0.07866958835816393] and parameters: {'max_depth': 5, 'eta': 0.2427453091057878, 'subsample': 0.7225709799368891, 'colsample_bytree': 0.8057936935768371}.\n",
      "[I 2025-05-15 16:00:51,318] Trial 9 finished with values: [0.6571547607012772, 0.026302473025645996] and parameters: {'max_depth': 3, 'eta': 0.14890345685120426, 'subsample': 0.9655829716490668, 'colsample_bytree': 0.7075761835639242}.\n",
      "[I 2025-05-15 16:00:51,323] A new study created in memory with name: no-name-3bde42da-b402-4120-8ecb-5dd4f3cde3c6\n",
      "[I 2025-05-15 16:00:51,441] Trial 0 finished with values: [0.6671506863583033, 0.043027037432659614] and parameters: {'max_depth': 3, 'eta': 0.16452414544623298, 'subsample': 0.6714854767720365, 'colsample_bytree': 0.6143292760165905}.\n"
     ]
    },
    {
     "name": "stdout",
     "output_type": "stream",
     "text": [
      "Completed study for alpha=0.54\n"
     ]
    },
    {
     "name": "stderr",
     "output_type": "stream",
     "text": [
      "[I 2025-05-15 16:00:51,589] Trial 1 finished with values: [0.6814307989694669, 0.05356801270792113] and parameters: {'max_depth': 5, 'eta': 0.29293486121264156, 'subsample': 0.6218967692300861, 'colsample_bytree': 0.7121393292815199}.\n",
      "[I 2025-05-15 16:00:51,738] Trial 2 finished with values: [0.6850058051728839, 0.0859796675964708] and parameters: {'max_depth': 5, 'eta': 0.24625306198494504, 'subsample': 0.7319958716594925, 'colsample_bytree': 0.773328664678162}.\n",
      "[I 2025-05-15 16:00:51,896] Trial 3 finished with values: [0.6771450803074445, 0.04863667488981931] and parameters: {'max_depth': 4, 'eta': 0.10930872678308273, 'subsample': 0.8384632807697447, 'colsample_bytree': 0.8950303853486238}.\n",
      "[I 2025-05-15 16:00:52,104] Trial 4 finished with values: [0.6835690631768235, 0.05953455809197416] and parameters: {'max_depth': 7, 'eta': 0.12553046623012665, 'subsample': 0.7874652886232256, 'colsample_bytree': 0.6936602563337586}.\n",
      "[I 2025-05-15 16:00:52,270] Trial 5 finished with values: [0.6857103907999499, 0.055125455905173065] and parameters: {'max_depth': 7, 'eta': 0.11459549815346712, 'subsample': 0.8784172475651761, 'colsample_bytree': 0.8918086297795178}.\n",
      "[I 2025-05-15 16:00:52,446] Trial 6 finished with values: [0.7057114323613115, 0.07618508760918234] and parameters: {'max_depth': 7, 'eta': 0.28690775982205363, 'subsample': 0.836511339981661, 'colsample_bytree': 0.7250865433547121}.\n",
      "[I 2025-05-15 16:00:52,582] Trial 7 finished with values: [0.6778573244739349, 0.060271908252464264] and parameters: {'max_depth': 4, 'eta': 0.21985592052536748, 'subsample': 0.9450327005936238, 'colsample_bytree': 0.8814601832806253}.\n",
      "[I 2025-05-15 16:00:52,738] Trial 8 finished with values: [0.6842874341748537, 0.043505986101842226] and parameters: {'max_depth': 6, 'eta': 0.1488856371922097, 'subsample': 0.835004684660824, 'colsample_bytree': 0.6290058955884875}.\n",
      "[I 2025-05-15 16:00:52,865] Trial 9 finished with values: [0.6592930249086336, 0.02585085566607247] and parameters: {'max_depth': 3, 'eta': 0.12634241633994084, 'subsample': 0.9036217465956116, 'colsample_bytree': 0.6968391004351613}.\n",
      "[I 2025-05-15 16:00:52,869] A new study created in memory with name: no-name-ffe70811-ed77-4bf2-9f0f-f76c2ad15567\n",
      "[I 2025-05-15 16:00:53,003] Trial 0 finished with values: [0.6771512071389841, 0.050989426423026674] and parameters: {'max_depth': 4, 'eta': 0.20678531167700284, 'subsample': 0.6546061542190026, 'colsample_bytree': 0.6327312490285307}.\n"
     ]
    },
    {
     "name": "stdout",
     "output_type": "stream",
     "text": [
      "Completed study for alpha=0.55\n"
     ]
    },
    {
     "name": "stderr",
     "output_type": "stream",
     "text": [
      "[I 2025-05-15 16:00:53,177] Trial 1 finished with values: [0.6857241761709142, 0.05363486541365268] and parameters: {'max_depth': 6, 'eta': 0.1596581400705786, 'subsample': 0.8596627132548285, 'colsample_bytree': 0.7107195201028593}.\n",
      "[I 2025-05-15 16:00:53,319] Trial 2 finished with values: [0.6771481437232142, 0.040161505001329895] and parameters: {'max_depth': 4, 'eta': 0.23027465959759827, 'subsample': 0.8560348606700801, 'colsample_bytree': 0.962733587903423}.\n",
      "[I 2025-05-15 16:00:53,459] Trial 3 finished with values: [0.6707287559774899, 0.038378255682720595] and parameters: {'max_depth': 3, 'eta': 0.21840156366378616, 'subsample': 0.7091190759250772, 'colsample_bytree': 0.8833647310384561}.\n",
      "[I 2025-05-15 16:00:53,619] Trial 4 finished with values: [0.7100017461469887, 0.07621910707873623] and parameters: {'max_depth': 7, 'eta': 0.25939950940082274, 'subsample': 0.9596124874014169, 'colsample_bytree': 0.9936070754625688}.\n",
      "[I 2025-05-15 16:00:53,748] Trial 5 finished with values: [0.6614389476554148, 0.03155654630886842] and parameters: {'max_depth': 3, 'eta': 0.14346224162581836, 'subsample': 0.9712717155393055, 'colsample_bytree': 0.831108843793205}.\n",
      "[I 2025-05-15 16:00:53,880] Trial 6 finished with values: [0.6792848762226859, 0.06040127539427718] and parameters: {'max_depth': 4, 'eta': 0.23026526534209565, 'subsample': 0.9446051958383842, 'colsample_bytree': 0.9556151922165598}.\n",
      "[I 2025-05-15 16:00:54,144] Trial 7 finished with values: [0.6778634513054747, 0.06286804090241904] and parameters: {'max_depth': 6, 'eta': 0.015985920679871556, 'subsample': 0.617298632468265, 'colsample_bytree': 0.9485135948162313}.\n",
      "[I 2025-05-15 16:00:54,334] Trial 8 finished with values: [0.6864195715506703, 0.06416754659188677] and parameters: {'max_depth': 6, 'eta': 0.12046399471750084, 'subsample': 0.9244253344037346, 'colsample_bytree': 0.9390186925340474}.\n",
      "[I 2025-05-15 16:00:54,468] Trial 9 finished with values: [0.6800078423443708, 0.06437685826227119] and parameters: {'max_depth': 4, 'eta': 0.16340079841066338, 'subsample': 0.7076047437674116, 'colsample_bytree': 0.7920027613528533}.\n",
      "[I 2025-05-15 16:00:54,473] A new study created in memory with name: no-name-4f8474aa-d85e-46eb-89cb-d086a66a3041\n",
      "[I 2025-05-15 16:00:54,617] Trial 0 finished with values: [0.6850073368807688, 0.06016547941352468] and parameters: {'max_depth': 5, 'eta': 0.2856248464709323, 'subsample': 0.7423613755814228, 'colsample_bytree': 0.6382273989234127}.\n"
     ]
    },
    {
     "name": "stdout",
     "output_type": "stream",
     "text": [
      "Completed study for alpha=0.56\n"
     ]
    },
    {
     "name": "stderr",
     "output_type": "stream",
     "text": [
      "[I 2025-05-15 16:00:54,802] Trial 1 finished with values: [0.6857226444630292, 0.07276006677237283] and parameters: {'max_depth': 6, 'eta': 0.09497529559273532, 'subsample': 0.8210236808906068, 'colsample_bytree': 0.8127519900659186}.\n",
      "[I 2025-05-15 16:00:54,992] Trial 2 finished with values: [0.6850088685886537, 0.05139063382386044] and parameters: {'max_depth': 7, 'eta': 0.12180497015669058, 'subsample': 0.627367192134335, 'colsample_bytree': 0.6125929720817417}.\n",
      "[I 2025-05-15 16:00:55,155] Trial 3 finished with values: [0.6764389629724935, 0.06785685143102035] and parameters: {'max_depth': 5, 'eta': 0.1070193502583583, 'subsample': 0.6458073428308859, 'colsample_bytree': 0.7558573717890711}.\n",
      "[I 2025-05-15 16:00:55,327] Trial 4 finished with values: [0.6678675256484485, 0.03379995361678615] and parameters: {'max_depth': 4, 'eta': 0.12166677683057983, 'subsample': 0.8362620416994785, 'colsample_bytree': 0.7258450992565526}.\n",
      "[I 2025-05-15 16:00:55,479] Trial 5 finished with values: [0.7007165329485683, 0.06747652238219061] and parameters: {'max_depth': 7, 'eta': 0.22008061206972027, 'subsample': 0.9695712083374196, 'colsample_bytree': 0.6447256781712127}.\n",
      "[I 2025-05-15 16:00:55,631] Trial 6 finished with values: [0.688577747960531, 0.04777887819986449] and parameters: {'max_depth': 6, 'eta': 0.15238341240032793, 'subsample': 0.8326667750998329, 'colsample_bytree': 0.631503543368165}.\n",
      "[I 2025-05-15 16:00:55,798] Trial 7 finished with values: [0.6621588503613299, 0.03680871690187412] and parameters: {'max_depth': 3, 'eta': 0.02810338978782151, 'subsample': 0.6842454471543693, 'colsample_bytree': 0.7399549160458854}.\n",
      "[I 2025-05-15 16:00:55,981] Trial 8 finished with values: [0.6707057803592161, 0.053966082403698656] and parameters: {'max_depth': 5, 'eta': 0.027814847549011784, 'subsample': 0.9254801566270624, 'colsample_bytree': 0.846926312790341}.\n",
      "[I 2025-05-15 16:00:56,114] Trial 9 finished with values: [0.6778665147212445, 0.047219533059741164] and parameters: {'max_depth': 4, 'eta': 0.15739490402812345, 'subsample': 0.7401517415490698, 'colsample_bytree': 0.7528453281859587}.\n",
      "[I 2025-05-15 16:00:56,119] A new study created in memory with name: no-name-069d903e-3e9f-4fd9-9278-509ba36e136d\n",
      "[I 2025-05-15 16:00:56,261] Trial 0 finished with values: [0.6864226349664403, 0.054146751468083794] and parameters: {'max_depth': 5, 'eta': 0.2813569845438893, 'subsample': 0.7947178549293453, 'colsample_bytree': 0.9413871849735049}.\n"
     ]
    },
    {
     "name": "stdout",
     "output_type": "stream",
     "text": [
      "Completed study for alpha=0.57\n"
     ]
    },
    {
     "name": "stderr",
     "output_type": "stream",
     "text": [
      "[I 2025-05-15 16:00:56,412] Trial 1 finished with values: [0.6750022209764331, 0.022439534165260778] and parameters: {'max_depth': 4, 'eta': 0.13838971045525392, 'subsample': 0.6718277279243948, 'colsample_bytree': 0.6939521278587495}.\n",
      "[I 2025-05-15 16:00:56,559] Trial 2 finished with values: [0.6778557927660499, 0.05112255298495647] and parameters: {'max_depth': 5, 'eta': 0.17999904976571762, 'subsample': 0.7173493399581866, 'colsample_bytree': 0.6510297412230986}.\n",
      "[I 2025-05-15 16:00:56,687] Trial 3 finished with values: [0.6935726473732742, 0.06987771146413792] and parameters: {'max_depth': 4, 'eta': 0.27353927533152855, 'subsample': 0.9418011243874725, 'colsample_bytree': 0.9115320543920645}.\n",
      "[I 2025-05-15 16:00:56,842] Trial 4 finished with values: [0.6778680464291295, 0.07041711492279433] and parameters: {'max_depth': 7, 'eta': 0.11702303468365956, 'subsample': 0.6138086890171145, 'colsample_bytree': 0.800309426135844}.\n",
      "[I 2025-05-15 16:00:56,981] Trial 5 finished with values: [0.6921420322087535, 0.04854622654152035] and parameters: {'max_depth': 6, 'eta': 0.19507806256099552, 'subsample': 0.8497608529847638, 'colsample_bytree': 0.9111788110179193}.\n",
      "[I 2025-05-15 16:00:57,124] Trial 6 finished with values: [0.6814307989694669, 0.04346489227622128] and parameters: {'max_depth': 4, 'eta': 0.18571351478984133, 'subsample': 0.7776070895827365, 'colsample_bytree': 0.62466916135683}.\n",
      "[I 2025-05-15 16:00:57,271] Trial 7 finished with values: [0.7014364356544833, 0.07568875630208267] and parameters: {'max_depth': 6, 'eta': 0.1948865796456784, 'subsample': 0.8956827717371093, 'colsample_bytree': 0.7969436240403991}.\n",
      "[I 2025-05-15 16:00:57,435] Trial 8 finished with values: [0.7128522545208358, 0.09414495119150156] and parameters: {'max_depth': 6, 'eta': 0.29667295563107215, 'subsample': 0.6688365191017022, 'colsample_bytree': 0.9825268028056218}.\n",
      "[I 2025-05-15 16:00:57,634] Trial 9 finished with values: [0.6692889505656597, 0.03879893532009666] and parameters: {'max_depth': 6, 'eta': 0.08189177721648125, 'subsample': 0.674902100687812, 'colsample_bytree': 0.629484672222924}.\n",
      "[I 2025-05-15 16:00:57,638] A new study created in memory with name: no-name-f309133a-32ae-49e6-9443-22b0bde2a03e\n",
      "[I 2025-05-15 16:00:57,782] Trial 0 finished with values: [0.6935588620023099, 0.07039636772201158] and parameters: {'max_depth': 7, 'eta': 0.25319209687667055, 'subsample': 0.7757604917176142, 'colsample_bytree': 0.7500476138629552}.\n"
     ]
    },
    {
     "name": "stdout",
     "output_type": "stream",
     "text": [
      "Completed study for alpha=0.58\n"
     ]
    },
    {
     "name": "stderr",
     "output_type": "stream",
     "text": [
      "[I 2025-05-15 16:00:57,944] Trial 1 finished with values: [0.685705795676295, 0.07104841642657884] and parameters: {'max_depth': 5, 'eta': 0.20290192987620878, 'subsample': 0.9253684840531753, 'colsample_bytree': 0.9094219678172929}.\n",
      "[I 2025-05-15 16:00:58,133] Trial 2 finished with values: [0.6685767063991692, 0.043400045740015] and parameters: {'max_depth': 7, 'eta': 0.06027058524028012, 'subsample': 0.7480810305951602, 'colsample_bytree': 0.7189809974629144}.\n",
      "[I 2025-05-15 16:00:58,292] Trial 3 finished with values: [0.6992797909525078, 0.09340335964025648] and parameters: {'max_depth': 7, 'eta': 0.232606616680799, 'subsample': 0.7552452022465989, 'colsample_bytree': 0.8292977155422636}.\n",
      "[I 2025-05-15 16:00:58,494] Trial 4 finished with values: [0.6878501867151913, 0.07603443007007658] and parameters: {'max_depth': 7, 'eta': 0.09134596798893826, 'subsample': 0.9483004065598215, 'colsample_bytree': 0.8216939016550986}.\n",
      "[I 2025-05-15 16:00:58,617] Trial 5 finished with values: [0.6728593616454219, 0.03416717400165908] and parameters: {'max_depth': 4, 'eta': 0.23054973526197717, 'subsample': 0.8730668712038623, 'colsample_bytree': 0.8507743026614143}.\n",
      "[I 2025-05-15 16:00:58,831] Trial 6 finished with values: [0.6621527235297903, 0.05743839062077071] and parameters: {'max_depth': 5, 'eta': 0.02255235873827239, 'subsample': 0.7686905375666272, 'colsample_bytree': 0.8245605587716833}.\n",
      "[I 2025-05-15 16:00:59,012] Trial 7 finished with values: [0.6664445690233525, 0.04412605291490108] and parameters: {'max_depth': 5, 'eta': 0.04110864304876902, 'subsample': 0.6162540048798845, 'colsample_bytree': 0.9502325755380961}.\n",
      "[I 2025-05-15 16:00:59,159] Trial 8 finished with values: [0.6814307989694669, 0.06103856317124475] and parameters: {'max_depth': 5, 'eta': 0.2673201259115982, 'subsample': 0.6359273354436072, 'colsample_bytree': 0.8504538633245071}.\n",
      "[I 2025-05-15 16:00:59,310] Trial 9 finished with values: [0.6885716211289913, 0.05779274809359952] and parameters: {'max_depth': 7, 'eta': 0.21938244042755456, 'subsample': 0.6206365309584696, 'colsample_bytree': 0.641578246945043}.\n",
      "[I 2025-05-15 16:00:59,314] A new study created in memory with name: no-name-b7456ca0-881a-4ae7-967b-5d0df9d3f3e7\n",
      "[I 2025-05-15 16:00:59,447] Trial 0 finished with values: [0.6714364050203258, 0.04544162314823986] and parameters: {'max_depth': 3, 'eta': 0.21732252919339365, 'subsample': 0.8487184315976066, 'colsample_bytree': 0.9243866715782685}.\n"
     ]
    },
    {
     "name": "stdout",
     "output_type": "stream",
     "text": [
      "Completed study for alpha=0.59\n"
     ]
    },
    {
     "name": "stderr",
     "output_type": "stream",
     "text": [
      "[I 2025-05-15 16:00:59,607] Trial 1 finished with values: [0.6764343678488388, 0.026636744503605814] and parameters: {'max_depth': 4, 'eta': 0.1761536198330045, 'subsample': 0.7045862682363457, 'colsample_bytree': 0.6965082219276701}.\n",
      "[I 2025-05-15 16:00:59,836] Trial 2 finished with values: [0.6585823124500281, 0.021681059704206074] and parameters: {'max_depth': 3, 'eta': 0.14832221302478596, 'subsample': 0.901154047722537, 'colsample_bytree': 0.7158336245535554}.\n",
      "[I 2025-05-15 16:01:00,028] Trial 3 finished with values: [0.6621649771928696, 0.04911207603331999] and parameters: {'max_depth': 3, 'eta': 0.03379195168086346, 'subsample': 0.6010680475434885, 'colsample_bytree': 0.7916010667004758}.\n",
      "[I 2025-05-15 16:01:00,209] Trial 4 finished with values: [0.6764251776015292, 0.06563719782941312] and parameters: {'max_depth': 5, 'eta': 0.09256042455991781, 'subsample': 0.6632855890896947, 'colsample_bytree': 0.7987740250910833}.\n",
      "[I 2025-05-15 16:01:00,390] Trial 5 finished with values: [0.6749960941448935, 0.04184102243314567] and parameters: {'max_depth': 6, 'eta': 0.09036824707861613, 'subsample': 0.8116303766190912, 'colsample_bytree': 0.9869388787351626}.\n",
      "[I 2025-05-15 16:01:00,554] Trial 6 finished with values: [0.6807170230950915, 0.05799447581397065] and parameters: {'max_depth': 5, 'eta': 0.1974842170409861, 'subsample': 0.9959390295601349, 'colsample_bytree': 0.6202260211229894}.\n",
      "[I 2025-05-15 16:01:00,697] Trial 7 finished with values: [0.6578639414519979, 0.021662497213044873] and parameters: {'max_depth': 3, 'eta': 0.09733477627352526, 'subsample': 0.8668612398491714, 'colsample_bytree': 0.6511370624422167}.\n",
      "[I 2025-05-15 16:01:00,892] Trial 8 finished with values: [0.6921435639166383, 0.06712488254446777] and parameters: {'max_depth': 6, 'eta': 0.18051557839029989, 'subsample': 0.9358940871349335, 'colsample_bytree': 0.8577988326817595}.\n",
      "[I 2025-05-15 16:01:01,046] Trial 9 finished with values: [0.6785680369325405, 0.07884117715826212] and parameters: {'max_depth': 7, 'eta': 0.14741196460413347, 'subsample': 0.7164474402815653, 'colsample_bytree': 0.8581388698898096}.\n",
      "[I 2025-05-15 16:01:01,049] A new study created in memory with name: no-name-bfd25914-1b07-429c-9c8f-5252a42cb76c\n",
      "[I 2025-05-15 16:01:01,196] Trial 0 finished with values: [0.6914313197501478, 0.05611200348030873] and parameters: {'max_depth': 6, 'eta': 0.24482420307589317, 'subsample': 0.925630106412003, 'colsample_bytree': 0.6314369530107534}.\n"
     ]
    },
    {
     "name": "stdout",
     "output_type": "stream",
     "text": [
      "Completed study for alpha=0.6\n"
     ]
    },
    {
     "name": "stderr",
     "output_type": "stream",
     "text": [
      "[I 2025-05-15 16:01:01,350] Trial 1 finished with values: [0.693577242496929, 0.057247191281643656] and parameters: {'max_depth': 5, 'eta': 0.215578349501387, 'subsample': 0.8454670280290973, 'colsample_bytree': 0.8512312859648896}.\n",
      "[I 2025-05-15 16:01:01,521] Trial 2 finished with values: [0.6978476440801021, 0.05291308304034589] and parameters: {'max_depth': 7, 'eta': 0.2759869490369801, 'subsample': 0.9140868002259303, 'colsample_bytree': 0.6898343719987855}.\n",
      "[I 2025-05-15 16:01:01,722] Trial 3 finished with values: [0.6807185548029765, 0.06401775883107325] and parameters: {'max_depth': 7, 'eta': 0.049960605079602684, 'subsample': 0.7117734068848445, 'colsample_bytree': 0.9570852984687082}.\n",
      "[I 2025-05-15 16:01:01,868] Trial 4 finished with values: [0.6742884451020577, 0.050487914961516354] and parameters: {'max_depth': 4, 'eta': 0.13916182720755116, 'subsample': 0.9766007600998964, 'colsample_bytree': 0.8118747486364022}.\n",
      "[I 2025-05-15 16:01:02,063] Trial 5 finished with values: [0.6899976411698572, 0.07805050185230288] and parameters: {'max_depth': 6, 'eta': 0.10417542427117267, 'subsample': 0.9492765812275096, 'colsample_bytree': 0.8783339719351717}.\n",
      "[I 2025-05-15 16:01:02,351] Trial 6 finished with values: [0.6728608933533068, 0.055100739264607956] and parameters: {'max_depth': 5, 'eta': 0.030205511950878033, 'subsample': 0.7905810054728624, 'colsample_bytree': 0.6166957670853687}.\n",
      "[I 2025-05-15 16:01:02,501] Trial 7 finished with values: [0.6842859024669687, 0.04816033885527413] and parameters: {'max_depth': 5, 'eta': 0.1929337930079053, 'subsample': 0.9595174777115695, 'colsample_bytree': 0.9675065404792315}.\n",
      "[I 2025-05-15 16:01:02,706] Trial 8 finished with values: [0.6671506863583033, 0.06032689948489852] and parameters: {'max_depth': 5, 'eta': 0.055142609784808, 'subsample': 0.7612821585220344, 'colsample_bytree': 0.6926350855790278}.\n",
      "[I 2025-05-15 16:01:02,891] Trial 9 finished with values: [0.6849981466334593, 0.0578297392361389] and parameters: {'max_depth': 7, 'eta': 0.09488645415005835, 'subsample': 0.6609901521066536, 'colsample_bytree': 0.8176172433448368}.\n",
      "[I 2025-05-15 16:01:02,894] A new study created in memory with name: no-name-f1a8e0e4-b6ea-42c2-83fd-0c304cc34ab9\n",
      "[I 2025-05-15 16:01:03,062] Trial 0 finished with values: [0.6678598671090238, 0.040883504631182836] and parameters: {'max_depth': 4, 'eta': 0.049102459553776664, 'subsample': 0.9498943937732559, 'colsample_bytree': 0.7151873224768682}.\n"
     ]
    },
    {
     "name": "stdout",
     "output_type": "stream",
     "text": [
      "Completed study for alpha=0.61\n"
     ]
    },
    {
     "name": "stderr",
     "output_type": "stream",
     "text": [
      "[I 2025-05-15 16:01:03,220] Trial 1 finished with values: [0.7014440941939081, 0.06906530765150024] and parameters: {'max_depth': 5, 'eta': 0.27454727610959956, 'subsample': 0.7559076267708555, 'colsample_bytree': 0.8745016835575755}.\n",
      "[I 2025-05-15 16:01:03,369] Trial 2 finished with values: [0.6892930555427914, 0.0640544598648888] and parameters: {'max_depth': 5, 'eta': 0.2511007409743501, 'subsample': 0.6398490699814686, 'colsample_bytree': 0.9787008759177692}.\n",
      "[I 2025-05-15 16:01:03,490] Trial 3 finished with values: [0.6621511918219053, 0.02915445860931436] and parameters: {'max_depth': 3, 'eta': 0.11513379762000975, 'subsample': 0.7991246301606162, 'colsample_bytree': 0.7024700421489658}.\n",
      "[I 2025-05-15 16:01:03,650] Trial 4 finished with values: [0.6821598919226917, 0.056161829491682115] and parameters: {'max_depth': 4, 'eta': 0.2517773261807136, 'subsample': 0.7754513272699504, 'colsample_bytree': 0.8069876836387354}.\n",
      "[I 2025-05-15 16:01:03,848] Trial 5 finished with values: [0.6892930555427914, 0.07599387179785762] and parameters: {'max_depth': 7, 'eta': 0.25002765318562215, 'subsample': 0.6755777264223823, 'colsample_bytree': 0.699907324130025}.\n",
      "[I 2025-05-15 16:01:04,045] Trial 6 finished with values: [0.6835675314689386, 0.062402595711487964] and parameters: {'max_depth': 7, 'eta': 0.13436585474934917, 'subsample': 0.7902512093020096, 'colsample_bytree': 0.8192780673862714}.\n",
      "[I 2025-05-15 16:01:04,193] Trial 7 finished with values: [0.6821476382596122, 0.06561915600765188] and parameters: {'max_depth': 4, 'eta': 0.1725680653002579, 'subsample': 0.9757992475574049, 'colsample_bytree': 0.8745290847906879}.\n",
      "[I 2025-05-15 16:01:04,363] Trial 8 finished with values: [0.6849981466334594, 0.059047786168627846] and parameters: {'max_depth': 7, 'eta': 0.12652877080477393, 'subsample': 0.7770613589481928, 'colsample_bytree': 0.9147890021243829}.\n",
      "[I 2025-05-15 16:01:04,508] Trial 9 finished with values: [0.6907282658309669, 0.07481454917440174] and parameters: {'max_depth': 5, 'eta': 0.22734203287561927, 'subsample': 0.9512690179025614, 'colsample_bytree': 0.8412640331698555}.\n",
      "[I 2025-05-15 16:01:04,513] A new study created in memory with name: no-name-69bc58a9-f197-4233-9385-0ce731af2982\n",
      "[I 2025-05-15 16:01:04,684] Trial 0 finished with values: [0.6900022362935121, 0.05523533488776026] and parameters: {'max_depth': 7, 'eta': 0.17945969959695246, 'subsample': 0.9410735294940717, 'colsample_bytree': 0.6543412461682901}.\n"
     ]
    },
    {
     "name": "stdout",
     "output_type": "stream",
     "text": [
      "Completed study for alpha=0.62\n"
     ]
    },
    {
     "name": "stderr",
     "output_type": "stream",
     "text": [
      "[I 2025-05-15 16:01:04,819] Trial 1 finished with values: [0.676431304433069, 0.04499189517475296] and parameters: {'max_depth': 4, 'eta': 0.1619638107209681, 'subsample': 0.8930864791153401, 'colsample_bytree': 0.7085318876470776}.\n",
      "[I 2025-05-15 16:01:04,981] Trial 2 finished with values: [0.6849950832176894, 0.0768739256855796] and parameters: {'max_depth': 6, 'eta': 0.1711987844448592, 'subsample': 0.6971248270248191, 'colsample_bytree': 0.9225353706926106}.\n",
      "[I 2025-05-15 16:01:05,183] Trial 3 finished with values: [0.6828522238866781, 0.06662296792844298] and parameters: {'max_depth': 7, 'eta': 0.0479022970401029, 'subsample': 0.9657192842134426, 'colsample_bytree': 0.6550382912012842}.\n",
      "[I 2025-05-15 16:01:05,317] Trial 4 finished with values: [0.6650108904430619, 0.03396858608243545] and parameters: {'max_depth': 3, 'eta': 0.11149965829500469, 'subsample': 0.6881187369880508, 'colsample_bytree': 0.7193000035688439}.\n",
      "[I 2025-05-15 16:01:05,451] Trial 5 finished with values: [0.6835659997610536, 0.05355677558057482] and parameters: {'max_depth': 4, 'eta': 0.2508409815048239, 'subsample': 0.6795097612019667, 'colsample_bytree': 0.8607927034913321}.\n",
      "[I 2025-05-15 16:01:05,621] Trial 6 finished with values: [0.6942787647082249, 0.07439388910401246] and parameters: {'max_depth': 7, 'eta': 0.18788057109317838, 'subsample': 0.7036433581136898, 'colsample_bytree': 0.7619981523526915}.\n",
      "[I 2025-05-15 16:01:05,783] Trial 7 finished with values: [0.6792925347621104, 0.06216233241294128] and parameters: {'max_depth': 5, 'eta': 0.07197507854088148, 'subsample': 0.8486720387413759, 'colsample_bytree': 0.7902459104130638}.\n",
      "[I 2025-05-15 16:01:05,953] Trial 8 finished with values: [0.6564440482426716, 0.035931606044471015] and parameters: {'max_depth': 3, 'eta': 0.029795943400593446, 'subsample': 0.73451227664125, 'colsample_bytree': 0.7500798755881998}.\n",
      "[I 2025-05-15 16:01:06,080] Trial 9 finished with values: [0.6700042581479201, 0.04142792576774568] and parameters: {'max_depth': 3, 'eta': 0.2368538580759519, 'subsample': 0.6619368953311916, 'colsample_bytree': 0.8590096676606487}.\n",
      "[I 2025-05-15 16:01:06,083] A new study created in memory with name: no-name-694c6a2c-f94c-4874-9f22-e19e11aace0d\n",
      "[I 2025-05-15 16:01:06,206] Trial 0 finished with values: [0.6642909877371467, 0.030728818561516713] and parameters: {'max_depth': 3, 'eta': 0.1826482124088514, 'subsample': 0.9517491348357466, 'colsample_bytree': 0.7282369577777424}.\n"
     ]
    },
    {
     "name": "stdout",
     "output_type": "stream",
     "text": [
      "Completed study for alpha=0.63\n"
     ]
    },
    {
     "name": "stderr",
     "output_type": "stream",
     "text": [
      "[I 2025-05-15 16:01:06,401] Trial 1 finished with values: [0.6871440693802403, 0.0751009848731148] and parameters: {'max_depth': 6, 'eta': 0.2216541719669269, 'subsample': 0.7065181567149807, 'colsample_bytree': 0.9274672833908999}.\n",
      "[I 2025-05-15 16:01:06,573] Trial 2 finished with values: [0.6914343831659178, 0.10716564421132435] and parameters: {'max_depth': 6, 'eta': 0.2768541312407286, 'subsample': 0.7190501444427617, 'colsample_bytree': 0.8049295527587277}.\n",
      "[I 2025-05-15 16:01:06,752] Trial 3 finished with values: [0.6814399892167765, 0.0388510635066294] and parameters: {'max_depth': 5, 'eta': 0.17356571423269793, 'subsample': 0.642763922077625, 'colsample_bytree': 0.6473980409974844}.\n",
      "[I 2025-05-15 16:01:06,893] Trial 4 finished with values: [0.657860878036228, 0.037932555073194874] and parameters: {'max_depth': 3, 'eta': 0.14372317345479904, 'subsample': 0.864629998417179, 'colsample_bytree': 0.8485735193447953}.\n",
      "[I 2025-05-15 16:01:07,043] Trial 5 finished with values: [0.6635772118627713, 0.02640828659431445] and parameters: {'max_depth': 3, 'eta': 0.18256343816799772, 'subsample': 0.8730336516875954, 'colsample_bytree': 0.8472350866465074}.\n",
      "[I 2025-05-15 16:01:07,197] Trial 6 finished with values: [0.6635772118627713, 0.034815973094986095] and parameters: {'max_depth': 3, 'eta': 0.20183516048021335, 'subsample': 0.8865017706001341, 'colsample_bytree': 0.9665187769209235}.\n",
      "[I 2025-05-15 16:01:07,487] Trial 7 finished with values: [0.6778374122714309, 0.07609632350158636] and parameters: {'max_depth': 7, 'eta': 0.025494819201552707, 'subsample': 0.8734894125968772, 'colsample_bytree': 0.9808391840070464}.\n",
      "[I 2025-05-15 16:01:07,720] Trial 8 finished with values: [0.6614435427790696, 0.021921325833263755] and parameters: {'max_depth': 3, 'eta': 0.0195879362341561, 'subsample': 0.8548047341531941, 'colsample_bytree': 0.9044092663831367}.\n",
      "[I 2025-05-15 16:01:07,885] Trial 9 finished with values: [0.6892823335875967, 0.07031025613676929] and parameters: {'max_depth': 7, 'eta': 0.1740087841164048, 'subsample': 0.7417954003354712, 'colsample_bytree': 0.7425951439505619}.\n",
      "[I 2025-05-15 16:01:07,891] A new study created in memory with name: no-name-ee5c3608-9dc2-4ed3-9b08-5202ead6e903\n",
      "[I 2025-05-15 16:01:08,064] Trial 0 finished with values: [0.6935711156653892, 0.06884896375912915] and parameters: {'max_depth': 6, 'eta': 0.20040258002735575, 'subsample': 0.8245717268158642, 'colsample_bytree': 0.7164054333226205}.\n"
     ]
    },
    {
     "name": "stdout",
     "output_type": "stream",
     "text": [
      "Completed study for alpha=0.64\n"
     ]
    },
    {
     "name": "stderr",
     "output_type": "stream",
     "text": [
      "[I 2025-05-15 16:01:08,279] Trial 1 finished with values: [0.6864241666743252, 0.07897773622632098] and parameters: {'max_depth': 7, 'eta': 0.07044057393524232, 'subsample': 0.9973488071700733, 'colsample_bytree': 0.7792620974715417}.\n",
      "[I 2025-05-15 16:01:08,449] Trial 2 finished with values: [0.6714287464809011, 0.050757004080819734] and parameters: {'max_depth': 4, 'eta': 0.15435502119846903, 'subsample': 0.6411970069137737, 'colsample_bytree': 0.9270445476658798}.\n",
      "[I 2025-05-15 16:01:08,624] Trial 3 finished with values: [0.6957170384121704, 0.08995185286385914] and parameters: {'max_depth': 6, 'eta': 0.28067882774589226, 'subsample': 0.7505468705750502, 'colsample_bytree': 0.8351839683033371}.\n",
      "[I 2025-05-15 16:01:08,806] Trial 4 finished with values: [0.6928558080831287, 0.058482461415041286] and parameters: {'max_depth': 5, 'eta': 0.2507448352297085, 'subsample': 0.8206123260392015, 'colsample_bytree': 0.9591054087034573}.\n",
      "[I 2025-05-15 16:01:08,957] Trial 5 finished with values: [0.6700134483952297, 0.05828059444580629] and parameters: {'max_depth': 3, 'eta': 0.21619183113411206, 'subsample': 0.7265841765864305, 'colsample_bytree': 0.7418601771209361}.\n",
      "[I 2025-05-15 16:01:09,136] Trial 6 finished with values: [0.6899976411698572, 0.08370644453837728] and parameters: {'max_depth': 7, 'eta': 0.13975978229072944, 'subsample': 0.8385376694540466, 'colsample_bytree': 0.8103637667320902}.\n",
      "[I 2025-05-15 16:01:09,292] Trial 7 finished with values: [0.6899976411698572, 0.07167765422623913] and parameters: {'max_depth': 5, 'eta': 0.21591438892262738, 'subsample': 0.9605458700625213, 'colsample_bytree': 0.8083084477726648}.\n",
      "[I 2025-05-15 16:01:09,471] Trial 8 finished with values: [0.6671353692794538, 0.059400150493203574] and parameters: {'max_depth': 5, 'eta': 0.06879246709098616, 'subsample': 0.6994990279088595, 'colsample_bytree': 0.8916527060231111}.\n",
      "[I 2025-05-15 16:01:09,661] Trial 9 finished with values: [0.6664506958548921, 0.06830621613770903] and parameters: {'max_depth': 5, 'eta': 0.08739107331366965, 'subsample': 0.6266561176421427, 'colsample_bytree': 0.9012900406051967}.\n",
      "[I 2025-05-15 16:01:09,664] A new study created in memory with name: no-name-69872435-043d-410d-8f89-1ed6249f2c35\n",
      "[I 2025-05-15 16:01:09,803] Trial 0 finished with values: [0.6742976353493672, 0.0356025668647225] and parameters: {'max_depth': 3, 'eta': 0.13822268209431676, 'subsample': 0.6418882161710853, 'colsample_bytree': 0.8551660502693152}.\n"
     ]
    },
    {
     "name": "stdout",
     "output_type": "stream",
     "text": [
      "Completed study for alpha=0.65\n"
     ]
    },
    {
     "name": "stderr",
     "output_type": "stream",
     "text": [
      "[I 2025-05-15 16:01:09,995] Trial 1 finished with values: [0.6821445748438424, 0.08991641291834414] and parameters: {'max_depth': 6, 'eta': 0.08604428480577632, 'subsample': 0.7463362893339025, 'colsample_bytree': 0.7995873231392774}.\n",
      "[I 2025-05-15 16:01:10,254] Trial 2 finished with values: [0.679281812806916, 0.08012723783782039] and parameters: {'max_depth': 5, 'eta': 0.23696543183625945, 'subsample': 0.6534625674979367, 'colsample_bytree': 0.7463661243661925}.\n",
      "[I 2025-05-15 16:01:10,495] Trial 3 finished with values: [0.6671445595267634, 0.042724270509207164] and parameters: {'max_depth': 4, 'eta': 0.019156806233154255, 'subsample': 0.9230212347531447, 'colsample_bytree': 0.9939950696438593}.\n",
      "[I 2025-05-15 16:01:10,648] Trial 4 finished with values: [0.662157318653445, 0.023492173294919733] and parameters: {'max_depth': 3, 'eta': 0.12914060750061018, 'subsample': 0.8877672913443608, 'colsample_bytree': 0.6313154183448477}.\n",
      "[I 2025-05-15 16:01:10,847] Trial 5 finished with values: [0.6807108962635517, 0.06025903104992918] and parameters: {'max_depth': 7, 'eta': 0.14089200213250888, 'subsample': 0.6478349172012572, 'colsample_bytree': 0.9701980183655112}.\n",
      "[I 2025-05-15 16:01:11,004] Trial 6 finished with values: [0.6592976200322884, 0.020281062670491245] and parameters: {'max_depth': 3, 'eta': 0.10161952479484393, 'subsample': 0.8988539370828452, 'colsample_bytree': 0.7259412768129907}.\n",
      "[I 2025-05-15 16:01:11,164] Trial 7 finished with values: [0.6850042734649989, 0.05358706044644234] and parameters: {'max_depth': 4, 'eta': 0.252605541081254, 'subsample': 0.7931161615099447, 'colsample_bytree': 0.9186029558891021}.\n",
      "[I 2025-05-15 16:01:11,375] Trial 8 finished with values: [0.7199930766803601, 0.07641098831907396] and parameters: {'max_depth': 7, 'eta': 0.26490739201960084, 'subsample': 0.9651557380775593, 'colsample_bytree': 0.9308078663433392}.\n",
      "[I 2025-05-15 16:01:11,541] Trial 9 finished with values: [0.6857119225078346, 0.07295730492772491] and parameters: {'max_depth': 6, 'eta': 0.19275413286854431, 'subsample': 0.9287607749837234, 'colsample_bytree': 0.6619365501906569}.\n",
      "[I 2025-05-15 16:01:11,546] A new study created in memory with name: no-name-5ae52de9-6534-48df-ace9-e20efbc81b77\n",
      "[I 2025-05-15 16:01:11,760] Trial 0 finished with values: [0.6642955828608015, 0.02681847873388779] and parameters: {'max_depth': 3, 'eta': 0.018811618443137685, 'subsample': 0.6546347935483726, 'colsample_bytree': 0.6450310563097065}.\n"
     ]
    },
    {
     "name": "stdout",
     "output_type": "stream",
     "text": [
      "Completed study for alpha=0.66\n"
     ]
    },
    {
     "name": "stderr",
     "output_type": "stream",
     "text": [
      "[I 2025-05-15 16:01:11,917] Trial 1 finished with values: [0.6907221389994271, 0.06851396595016633] and parameters: {'max_depth': 4, 'eta': 0.2879740245174377, 'subsample': 0.6377837979571065, 'colsample_bytree': 0.8172809542375247}.\n",
      "[I 2025-05-15 16:01:12,051] Trial 2 finished with values: [0.6614282257002203, 0.040014527235480324] and parameters: {'max_depth': 3, 'eta': 0.20576639354825282, 'subsample': 0.8680787236583932, 'colsample_bytree': 0.8959773456658795}.\n",
      "[I 2025-05-15 16:01:12,210] Trial 3 finished with values: [0.6871532596275499, 0.06396034767136803] and parameters: {'max_depth': 6, 'eta': 0.08391569805770553, 'subsample': 0.6042230749471015, 'colsample_bytree': 0.8188491144564308}.\n",
      "[I 2025-05-15 16:01:12,417] Trial 4 finished with values: [0.6742991670572521, 0.0597963479115595] and parameters: {'max_depth': 4, 'eta': 0.06450793337763804, 'subsample': 0.6799975207709026, 'colsample_bytree': 0.7704777943671391}.\n",
      "[I 2025-05-15 16:01:12,581] Trial 5 finished with values: [0.719994608388245, 0.091354553242189] and parameters: {'max_depth': 7, 'eta': 0.22813227291383018, 'subsample': 0.9932066291084223, 'colsample_bytree': 0.8936489332703261}.\n",
      "[I 2025-05-15 16:01:12,735] Trial 6 finished with values: [0.6785741637640802, 0.0367389707927393] and parameters: {'max_depth': 6, 'eta': 0.11608400661349436, 'subsample': 0.8082889613642823, 'colsample_bytree': 0.6375297452178028}.\n",
      "[I 2025-05-15 16:01:12,874] Trial 7 finished with values: [0.6778695781370142, 0.03135626209545082] and parameters: {'max_depth': 5, 'eta': 0.16280342337748993, 'subsample': 0.7875315737129525, 'colsample_bytree': 0.6956153674545044}.\n",
      "[I 2025-05-15 16:01:13,179] Trial 8 finished with values: [0.6849950832176894, 0.0605891115684777] and parameters: {'max_depth': 7, 'eta': 0.02622775895570622, 'subsample': 0.9585809419158139, 'colsample_bytree': 0.7869500595012577}.\n",
      "[I 2025-05-15 16:01:13,313] Trial 9 finished with values: [0.6764358995567238, 0.038314631518365026] and parameters: {'max_depth': 3, 'eta': 0.16683204075036942, 'subsample': 0.6770573052561886, 'colsample_bytree': 0.969874242762469}.\n",
      "[I 2025-05-15 16:01:13,316] A new study created in memory with name: no-name-9a0aa705-f341-4102-a520-007e1969da22\n",
      "[I 2025-05-15 16:01:13,455] Trial 0 finished with values: [0.6971399950372664, 0.07996402659550955] and parameters: {'max_depth': 5, 'eta': 0.27816944333376753, 'subsample': 0.680584031123221, 'colsample_bytree': 0.852929514532714}.\n"
     ]
    },
    {
     "name": "stdout",
     "output_type": "stream",
     "text": [
      "Completed study for alpha=0.67\n"
     ]
    },
    {
     "name": "stderr",
     "output_type": "stream",
     "text": [
      "[I 2025-05-15 16:01:13,616] Trial 1 finished with values: [0.7007134695327984, 0.057895159246092565] and parameters: {'max_depth': 7, 'eta': 0.23720491557636242, 'subsample': 0.7984370842687036, 'colsample_bytree': 0.6937264813018352}.\n",
      "[I 2025-05-15 16:01:13,787] Trial 2 finished with values: [0.6850012100492292, 0.06032568435691447] and parameters: {'max_depth': 6, 'eta': 0.13881342562139715, 'subsample': 0.7011077633884034, 'colsample_bytree': 0.990459753062674}.\n",
      "[I 2025-05-15 16:01:13,934] Trial 3 finished with values: [0.6650154855667166, 0.03285830826549955] and parameters: {'max_depth': 3, 'eta': 0.08058795762862102, 'subsample': 0.6072235126122514, 'colsample_bytree': 0.9378107331703928}.\n",
      "[I 2025-05-15 16:01:14,139] Trial 4 finished with values: [0.6707195657301804, 0.03180422687952611] and parameters: {'max_depth': 4, 'eta': 0.019250102063012167, 'subsample': 0.6690778314092668, 'colsample_bytree': 0.618017335043871}.\n",
      "[I 2025-05-15 16:01:14,258] Trial 5 finished with values: [0.6607251717810393, 0.024860938066669714] and parameters: {'max_depth': 3, 'eta': 0.1136614316817072, 'subsample': 0.7162159450300586, 'colsample_bytree': 0.6364445854227905}.\n",
      "[I 2025-05-15 16:01:14,384] Trial 6 finished with values: [0.6664261885287333, 0.029568956850180867] and parameters: {'max_depth': 3, 'eta': 0.2369953185122181, 'subsample': 0.7942117700320428, 'colsample_bytree': 0.9317826907138111}.\n",
      "[I 2025-05-15 16:01:14,547] Trial 7 finished with values: [0.712146137185885, 0.0654596618047873] and parameters: {'max_depth': 7, 'eta': 0.2667934980749765, 'subsample': 0.8618090865166033, 'colsample_bytree': 0.6044763956169293}.\n",
      "[I 2025-05-15 16:01:14,673] Trial 8 finished with values: [0.6800001838049462, 0.06866819166699734] and parameters: {'max_depth': 5, 'eta': 0.277669630742145, 'subsample': 0.9409581834993981, 'colsample_bytree': 0.6294987427057565}.\n",
      "[I 2025-05-15 16:01:14,828] Trial 9 finished with values: [0.6942802964161099, 0.07141673726739822] and parameters: {'max_depth': 7, 'eta': 0.14442619852164695, 'subsample': 0.836629331575861, 'colsample_bytree': 0.7277614676814099}.\n",
      "[I 2025-05-15 16:01:14,831] A new study created in memory with name: no-name-5876b8b7-96ef-42b7-842b-019f18de29dd\n",
      "[I 2025-05-15 16:01:14,971] Trial 0 finished with values: [0.7042930708598701, 0.08590803571552781] and parameters: {'max_depth': 6, 'eta': 0.29502176006917086, 'subsample': 0.6694643736803352, 'colsample_bytree': 0.7832589711115405}.\n"
     ]
    },
    {
     "name": "stdout",
     "output_type": "stream",
     "text": [
      "Completed study for alpha=0.68\n"
     ]
    },
    {
     "name": "stderr",
     "output_type": "stream",
     "text": [
      "[I 2025-05-15 16:01:15,135] Trial 1 finished with values: [0.6735823277671068, 0.04905389745954978] and parameters: {'max_depth': 4, 'eta': 0.060923660564014284, 'subsample': 0.668631854256971, 'colsample_bytree': 0.7955573266909863}.\n",
      "[I 2025-05-15 16:01:15,342] Trial 2 finished with values: [0.6807078328477819, 0.07060496721929896] and parameters: {'max_depth': 7, 'eta': 0.04619979511285265, 'subsample': 0.895774410269609, 'colsample_bytree': 0.9232419797733968}.\n",
      "[I 2025-05-15 16:01:15,504] Trial 3 finished with values: [0.7000058204899626, 0.06190269096785509] and parameters: {'max_depth': 7, 'eta': 0.2755153727373603, 'subsample': 0.7580480718804258, 'colsample_bytree': 0.9450678369997018}.\n",
      "[I 2025-05-15 16:01:15,637] Trial 4 finished with values: [0.680004778928601, 0.056508804647271114] and parameters: {'max_depth': 5, 'eta': 0.151224013668384, 'subsample': 0.9457095262701207, 'colsample_bytree': 0.7065717800487752}.\n",
      "[I 2025-05-15 16:01:15,789] Trial 5 finished with values: [0.6757129334350388, 0.05151173649470072] and parameters: {'max_depth': 5, 'eta': 0.0441954027094176, 'subsample': 0.7155410080997286, 'colsample_bytree': 0.8565471685152263}.\n",
      "[I 2025-05-15 16:01:15,931] Trial 6 finished with values: [0.6749976258527783, 0.06017712641381726] and parameters: {'max_depth': 6, 'eta': 0.09438733267803977, 'subsample': 0.7004947664295655, 'colsample_bytree': 0.7582319300976534}.\n",
      "[I 2025-05-15 16:01:16,088] Trial 7 finished with values: [0.6792741542674913, 0.05829513847909035] and parameters: {'max_depth': 7, 'eta': 0.06412022462689937, 'subsample': 0.9381673122777674, 'colsample_bytree': 0.9474886285115044}.\n",
      "[I 2025-05-15 16:01:16,205] Trial 8 finished with values: [0.6778542610581652, 0.050526927295518866] and parameters: {'max_depth': 4, 'eta': 0.17582706314343635, 'subsample': 0.9275429673726681, 'colsample_bytree': 0.8688551116799932}.\n",
      "[I 2025-05-15 16:01:16,341] Trial 9 finished with values: [0.6850149954201935, 0.032965117224988384] and parameters: {'max_depth': 6, 'eta': 0.11719249745630814, 'subsample': 0.8221632670812438, 'colsample_bytree': 0.628487029255407}.\n",
      "[I 2025-05-15 16:01:16,344] A new study created in memory with name: no-name-64d6b87f-86b6-4f12-95c8-4ea6e115ef1c\n",
      "[I 2025-05-15 16:01:16,478] Trial 0 finished with values: [0.6921343736693287, 0.09743752423653512] and parameters: {'max_depth': 6, 'eta': 0.15026820090680326, 'subsample': 0.6900546048374964, 'colsample_bytree': 0.8388553056073074}.\n"
     ]
    },
    {
     "name": "stdout",
     "output_type": "stream",
     "text": [
      "Completed study for alpha=0.69\n"
     ]
    },
    {
     "name": "stderr",
     "output_type": "stream",
     "text": [
      "[I 2025-05-15 16:01:16,612] Trial 1 finished with values: [0.6742869133941728, 0.03426601381371022] and parameters: {'max_depth': 4, 'eta': 0.09600152570525887, 'subsample': 0.9465342218477675, 'colsample_bytree': 0.6450098081157419}.\n",
      "[I 2025-05-15 16:01:16,809] Trial 2 finished with values: [0.6735762009355671, 0.060767369578678315] and parameters: {'max_depth': 5, 'eta': 0.028328917058380428, 'subsample': 0.8795306690110636, 'colsample_bytree': 0.7414544131192741}.\n",
      "[I 2025-05-15 16:01:16,935] Trial 3 finished with values: [0.6850104002965387, 0.0522273936381826] and parameters: {'max_depth': 4, 'eta': 0.2675429798450413, 'subsample': 0.64322440578366, 'colsample_bytree': 0.9799498712565171}.\n",
      "[I 2025-05-15 16:01:17,084] Trial 4 finished with values: [0.7078527599844379, 0.08191929466130254] and parameters: {'max_depth': 7, 'eta': 0.2161441939262707, 'subsample': 0.7746726147667713, 'colsample_bytree': 0.8697196303087906}.\n",
      "[I 2025-05-15 16:01:17,285] Trial 5 finished with values: [0.6728670201848465, 0.07632819816689188] and parameters: {'max_depth': 6, 'eta': 0.030604811757228227, 'subsample': 0.6726649050745483, 'colsample_bytree': 0.8075720158724862}.\n",
      "[I 2025-05-15 16:01:17,444] Trial 6 finished with values: [0.6842920292985085, 0.042105077158727494] and parameters: {'max_depth': 6, 'eta': 0.1359447610402275, 'subsample': 0.7767178020994312, 'colsample_bytree': 0.6780830205336925}.\n",
      "[I 2025-05-15 16:01:17,554] Trial 7 finished with values: [0.6678644622326787, 0.04538906579838914] and parameters: {'max_depth': 3, 'eta': 0.17750704237429232, 'subsample': 0.8993423206670209, 'colsample_bytree': 0.8420181199376279}.\n",
      "[I 2025-05-15 16:01:17,764] Trial 8 finished with values: [0.6692950773971994, 0.06021371538820311] and parameters: {'max_depth': 6, 'eta': 0.028710464710482594, 'subsample': 0.6894332782868207, 'colsample_bytree': 0.6914228598629014}.\n",
      "[I 2025-05-15 16:01:17,907] Trial 9 finished with values: [0.6671522180661881, 0.05418520125351988] and parameters: {'max_depth': 5, 'eta': 0.05425157893954391, 'subsample': 0.8394461665838931, 'colsample_bytree': 0.73578717230649}.\n",
      "[I 2025-05-15 16:01:17,911] A new study created in memory with name: no-name-ff03971b-618a-44e5-80a7-1dbe9b51a107\n",
      "[I 2025-05-15 16:01:18,042] Trial 0 finished with values: [0.6921558175797178, 0.06919717517187297] and parameters: {'max_depth': 6, 'eta': 0.19835482374795127, 'subsample': 0.6686498187835217, 'colsample_bytree': 0.9781294512065095}.\n"
     ]
    },
    {
     "name": "stdout",
     "output_type": "stream",
     "text": [
      "Completed study for alpha=0.7\n"
     ]
    },
    {
     "name": "stderr",
     "output_type": "stream",
     "text": [
      "[I 2025-05-15 16:01:18,197] Trial 1 finished with values: [0.6950017308299099, 0.07165767021107117] and parameters: {'max_depth': 5, 'eta': 0.2639260888136393, 'subsample': 0.7784561946434128, 'colsample_bytree': 0.7502086398035909}.\n",
      "[I 2025-05-15 16:01:18,408] Trial 2 finished with values: [0.6792910030542255, 0.04371389983169929] and parameters: {'max_depth': 6, 'eta': 0.07213177192038912, 'subsample': 0.7181442078013591, 'colsample_bytree': 0.6147639960163617}.\n",
      "[I 2025-05-15 16:01:18,577] Trial 3 finished with values: [0.6792879396384558, 0.04854800828688396] and parameters: {'max_depth': 5, 'eta': 0.13617386159944794, 'subsample': 0.912164304906589, 'colsample_bytree': 0.6288203525032715}.\n",
      "[I 2025-05-15 16:01:18,718] Trial 4 finished with values: [0.6707165023144106, 0.04776404570238601] and parameters: {'max_depth': 5, 'eta': 0.061331362234179426, 'subsample': 0.792796349146666, 'colsample_bytree': 0.9138377054269204}.\n",
      "[I 2025-05-15 16:01:18,871] Trial 5 finished with values: [0.6771404851837897, 0.06000815549482749] and parameters: {'max_depth': 5, 'eta': 0.08902425515964611, 'subsample': 0.8867686994146193, 'colsample_bytree': 0.754036094300324}.\n",
      "[I 2025-05-15 16:01:19,035] Trial 6 finished with values: [0.7192793008059848, 0.07592854547569268] and parameters: {'max_depth': 6, 'eta': 0.2854228353198601, 'subsample': 0.8230214801236968, 'colsample_bytree': 0.7563931702036777}.\n",
      "[I 2025-05-15 16:01:19,197] Trial 7 finished with values: [0.6635879338179658, 0.02658977066527361] and parameters: {'max_depth': 3, 'eta': 0.08476750305693422, 'subsample': 0.7486782647175843, 'colsample_bytree': 0.9119321749626992}.\n",
      "[I 2025-05-15 16:01:19,408] Trial 8 finished with values: [0.6621527235297903, 0.044713127703578215] and parameters: {'max_depth': 3, 'eta': 0.20127830945603647, 'subsample': 0.7509424132448417, 'colsample_bytree': 0.84528349182534}.\n",
      "[I 2025-05-15 16:01:19,547] Trial 9 finished with values: [0.6585807807421431, 0.02331540736756983] and parameters: {'max_depth': 3, 'eta': 0.052736812655258425, 'subsample': 0.7056724863290955, 'colsample_bytree': 0.7487746095953327}.\n",
      "[I 2025-05-15 16:01:19,550] A new study created in memory with name: no-name-42af088c-2f2e-4728-9b0d-0c064bd91d18\n",
      "[I 2025-05-15 16:01:19,693] Trial 0 finished with values: [0.6964231557471212, 0.07083284698954607] and parameters: {'max_depth': 5, 'eta': 0.25711649416570664, 'subsample': 0.8586087863006566, 'colsample_bytree': 0.728764638048611}.\n"
     ]
    },
    {
     "name": "stdout",
     "output_type": "stream",
     "text": [
      "Completed study for alpha=0.71\n"
     ]
    },
    {
     "name": "stderr",
     "output_type": "stream",
     "text": [
      "[I 2025-05-15 16:01:19,832] Trial 1 finished with values: [0.6928573397910137, 0.06835311177408927] and parameters: {'max_depth': 6, 'eta': 0.18339615455704752, 'subsample': 0.7664241246924153, 'colsample_bytree': 0.7546052740567036}.\n",
      "[I 2025-05-15 16:01:19,981] Trial 2 finished with values: [0.6871333474250458, 0.06689092157494682] and parameters: {'max_depth': 5, 'eta': 0.14264104593082186, 'subsample': 0.8885497818594279, 'colsample_bytree': 0.843694811114269}.\n",
      "[I 2025-05-15 16:01:20,182] Trial 3 finished with values: [0.6785833540113897, 0.07034508112563904] and parameters: {'max_depth': 5, 'eta': 0.024202750544802802, 'subsample': 0.6791015217655652, 'colsample_bytree': 0.8288528776270653}.\n",
      "[I 2025-05-15 16:01:20,335] Trial 4 finished with values: [0.6757159968508085, 0.03353272202348737] and parameters: {'max_depth': 4, 'eta': 0.10336155667411132, 'subsample': 0.8981666829457928, 'colsample_bytree': 0.9823052692637558}.\n",
      "[I 2025-05-15 16:01:20,483] Trial 5 finished with values: [0.6921435639166383, 0.06746564061425636] and parameters: {'max_depth': 6, 'eta': 0.19880801030161027, 'subsample': 0.6196923411002663, 'colsample_bytree': 0.7185349699628663}.\n",
      "[I 2025-05-15 16:01:20,602] Trial 6 finished with values: [0.6664353787760429, 0.029961643757103713] and parameters: {'max_depth': 3, 'eta': 0.1351812781893243, 'subsample': 0.6819105009530271, 'colsample_bytree': 0.9770298656294598}.\n",
      "[I 2025-05-15 16:01:20,796] Trial 7 finished with values: [0.6864256983822101, 0.05307658057748138] and parameters: {'max_depth': 6, 'eta': 0.053382554153427894, 'subsample': 0.8703703339630671, 'colsample_bytree': 0.8866481495083005}.\n",
      "[I 2025-05-15 16:01:21,010] Trial 8 finished with values: [0.6800001838049462, 0.06008591591561218] and parameters: {'max_depth': 5, 'eta': 0.03762518876367257, 'subsample': 0.9780373331687888, 'colsample_bytree': 0.8370365779668251}.\n",
      "[I 2025-05-15 16:01:21,197] Trial 9 finished with values: [0.6871440693802405, 0.06893436678555288] and parameters: {'max_depth': 5, 'eta': 0.22341743461934013, 'subsample': 0.952204721504429, 'colsample_bytree': 0.6697589568446551}.\n",
      "[I 2025-05-15 16:01:21,203] A new study created in memory with name: no-name-5eed16ee-4d01-45bf-b9a3-4e824452eae8\n"
     ]
    },
    {
     "name": "stdout",
     "output_type": "stream",
     "text": [
      "Completed study for alpha=0.72\n"
     ]
    },
    {
     "name": "stderr",
     "output_type": "stream",
     "text": [
      "[I 2025-05-15 16:01:21,438] Trial 0 finished with values: [0.6842751805117743, 0.07806474007609605] and parameters: {'max_depth': 7, 'eta': 0.11132026653659056, 'subsample': 0.6847566439506507, 'colsample_bytree': 0.8140729773314739}.\n",
      "[I 2025-05-15 16:01:21,631] Trial 1 finished with values: [0.6742899768099426, 0.052376361844103235] and parameters: {'max_depth': 3, 'eta': 0.2333898544204314, 'subsample': 0.8270185416040698, 'colsample_bytree': 0.6731013543550246}.\n",
      "[I 2025-05-15 16:01:21,775] Trial 2 finished with values: [0.6821445748438424, 0.06467314708840059] and parameters: {'max_depth': 4, 'eta': 0.2780712258362611, 'subsample': 0.8724576601430596, 'colsample_bytree': 0.9356017699173014}.\n",
      "[I 2025-05-15 16:01:21,921] Trial 3 finished with values: [0.6785756954719652, 0.05887867536727956] and parameters: {'max_depth': 5, 'eta': 0.14569688366052508, 'subsample': 0.7475939918308749, 'colsample_bytree': 0.6879159922396589}.\n",
      "[I 2025-05-15 16:01:22,092] Trial 4 finished with values: [0.6635940606495053, 0.03546959434602991] and parameters: {'max_depth': 3, 'eta': 0.03171605521864836, 'subsample': 0.9021771211952333, 'colsample_bytree': 0.7347981554397536}.\n",
      "[I 2025-05-15 16:01:22,239] Trial 5 finished with values: [0.6628695628199356, 0.030443856389702317] and parameters: {'max_depth': 3, 'eta': 0.03885970116988096, 'subsample': 0.6969617824292917, 'colsample_bytree': 0.6909620241426546}.\n",
      "[I 2025-05-15 16:01:22,370] Trial 6 finished with values: [0.6907206072915422, 0.09315419750035075] and parameters: {'max_depth': 5, 'eta': 0.21548154913426937, 'subsample': 0.6307575174423498, 'colsample_bytree': 0.8175780901529361}.\n",
      "[I 2025-05-15 16:01:22,511] Trial 7 finished with values: [0.6799955886812915, 0.05898880029307637] and parameters: {'max_depth': 5, 'eta': 0.0929653788918718, 'subsample': 0.9862891066919296, 'colsample_bytree': 0.8143240711223335}.\n",
      "[I 2025-05-15 16:01:22,690] Trial 8 finished with values: [0.6835705948847085, 0.04880414403610683] and parameters: {'max_depth': 4, 'eta': 0.282853306621585, 'subsample': 0.7783239283766661, 'colsample_bytree': 0.99933741502354}.\n",
      "[I 2025-05-15 16:01:22,811] Trial 9 finished with values: [0.668579769814939, 0.04697116955216415] and parameters: {'max_depth': 3, 'eta': 0.2192489311609937, 'subsample': 0.8733589015076737, 'colsample_bytree': 0.74744891110005}.\n",
      "[I 2025-05-15 16:01:22,816] A new study created in memory with name: no-name-964b5945-307b-4af0-aed1-ae6507211ea9\n",
      "[I 2025-05-15 16:01:22,966] Trial 0 finished with values: [0.6828598824261028, 0.05871671672173628] and parameters: {'max_depth': 6, 'eta': 0.10657979046386244, 'subsample': 0.8634465126364121, 'colsample_bytree': 0.6388471416506466}.\n"
     ]
    },
    {
     "name": "stdout",
     "output_type": "stream",
     "text": [
      "Completed study for alpha=0.73\n"
     ]
    },
    {
     "name": "stderr",
     "output_type": "stream",
     "text": [
      "[I 2025-05-15 16:01:23,151] Trial 1 finished with values: [0.672154776018356, 0.0597109365932234] and parameters: {'max_depth': 6, 'eta': 0.080882161322128, 'subsample': 0.854695381030182, 'colsample_bytree': 0.672411857861275}.\n",
      "[I 2025-05-15 16:01:23,308] Trial 2 finished with values: [0.6921359053772137, 0.07325567280885213] and parameters: {'max_depth': 6, 'eta': 0.218822415037365, 'subsample': 0.6492831801257699, 'colsample_bytree': 0.8999850178876068}.\n",
      "[I 2025-05-15 16:01:23,443] Trial 3 finished with values: [0.6807185548029765, 0.06667209665072134] and parameters: {'max_depth': 5, 'eta': 0.15179886550504446, 'subsample': 0.6989558359435681, 'colsample_bytree': 0.9333681792418443}.\n",
      "[I 2025-05-15 16:01:23,591] Trial 4 finished with values: [0.6978430489564474, 0.06789139514426915] and parameters: {'max_depth': 5, 'eta': 0.29691330514178377, 'subsample': 0.9816189806012801, 'colsample_bytree': 0.856040219546017}.\n",
      "[I 2025-05-15 16:01:23,808] Trial 5 finished with values: [0.6707241608538351, 0.05287946578829336] and parameters: {'max_depth': 5, 'eta': 0.0195231208757623, 'subsample': 0.7221490936817961, 'colsample_bytree': 0.7775197811811967}.\n",
      "[I 2025-05-15 16:01:23,973] Trial 6 finished with values: [0.7035655096145303, 0.07006504105683596] and parameters: {'max_depth': 7, 'eta': 0.160177417244511, 'subsample': 0.8315228818843443, 'colsample_bytree': 0.824421285525832}.\n",
      "[I 2025-05-15 16:01:24,105] Trial 7 finished with values: [0.6735807960592219, 0.042308790181650256] and parameters: {'max_depth': 4, 'eta': 0.11951284929909103, 'subsample': 0.8198753465108626, 'colsample_bytree': 0.8783088155451917}.\n",
      "[I 2025-05-15 16:01:24,229] Trial 8 finished with values: [0.663580275278541, 0.028024688023149048] and parameters: {'max_depth': 3, 'eta': 0.14392804948351026, 'subsample': 0.8573896539159171, 'colsample_bytree': 0.9502772436043533}.\n",
      "[I 2025-05-15 16:01:24,380] Trial 9 finished with values: [0.6864318252137499, 0.06957911679922286] and parameters: {'max_depth': 5, 'eta': 0.25946968753306565, 'subsample': 0.8627354998281611, 'colsample_bytree': 0.6549308156862649}.\n",
      "[I 2025-05-15 16:01:24,383] A new study created in memory with name: no-name-32364a76-fabb-4f89-a905-215cafddce03\n",
      "[I 2025-05-15 16:01:24,536] Trial 0 finished with values: [0.7028410117849605, 0.10264558556763427] and parameters: {'max_depth': 7, 'eta': 0.2899499283281316, 'subsample': 0.8032680360921038, 'colsample_bytree': 0.7273657991304878}.\n"
     ]
    },
    {
     "name": "stdout",
     "output_type": "stream",
     "text": [
      "Completed study for alpha=0.74\n"
     ]
    },
    {
     "name": "stderr",
     "output_type": "stream",
     "text": [
      "[I 2025-05-15 16:01:24,675] Trial 1 finished with values: [0.6735685423961426, 0.06577215953753764] and parameters: {'max_depth': 4, 'eta': 0.2679990794471858, 'subsample': 0.7094428418989158, 'colsample_bytree': 0.8374454168690753}.\n",
      "[I 2025-05-15 16:01:24,817] Trial 2 finished with values: [0.6978583660352967, 0.10416411819565437] and parameters: {'max_depth': 5, 'eta': 0.2601392910583751, 'subsample': 0.7492246646664386, 'colsample_bytree': 0.8637960396091799}.\n",
      "[I 2025-05-15 16:01:24,962] Trial 3 finished with values: [0.708572662690353, 0.08634645902061917] and parameters: {'max_depth': 6, 'eta': 0.2647795239668355, 'subsample': 0.9473045389323178, 'colsample_bytree': 0.9975728708710111}.\n",
      "[I 2025-05-15 16:01:25,102] Trial 4 finished with values: [0.6864364203374046, 0.05244372725952807] and parameters: {'max_depth': 4, 'eta': 0.19792919333156722, 'subsample': 0.7240037106162873, 'colsample_bytree': 0.9491760746302915}.\n",
      "[I 2025-05-15 16:01:25,304] Trial 5 finished with values: [0.6778527293502802, 0.062057847611558546] and parameters: {'max_depth': 6, 'eta': 0.02683202040431578, 'subsample': 0.6664063080721079, 'colsample_bytree': 0.9737648373860022}.\n",
      "[I 2025-05-15 16:01:25,439] Trial 6 finished with values: [0.668579769814939, 0.03203938723925317] and parameters: {'max_depth': 3, 'eta': 0.11563674931863718, 'subsample': 0.6149162560349207, 'colsample_bytree': 0.9746186037635974}.\n",
      "[I 2025-05-15 16:01:25,670] Trial 7 finished with values: [0.6664277202366181, 0.05633177302244108] and parameters: {'max_depth': 4, 'eta': 0.014734974155418346, 'subsample': 0.9603712548679472, 'colsample_bytree': 0.8575704288027253}.\n",
      "[I 2025-05-15 16:01:25,835] Trial 8 finished with values: [0.7107124586055944, 0.06821716166944801] and parameters: {'max_depth': 7, 'eta': 0.2674270935116323, 'subsample': 0.9660203000152429, 'colsample_bytree': 0.6055653193235827}.\n",
      "[I 2025-05-15 16:01:26,009] Trial 9 finished with values: [0.6528721054550245, 0.037924745375102424] and parameters: {'max_depth': 3, 'eta': 0.024216443861991725, 'subsample': 0.9524629419563654, 'colsample_bytree': 0.8693241153310225}.\n",
      "[I 2025-05-15 16:01:26,015] A new study created in memory with name: no-name-3cc5c32f-391e-4fec-9052-55a4021d837b\n",
      "[I 2025-05-15 16:01:26,181] Trial 0 finished with values: [0.6792925347621104, 0.06376583102967857] and parameters: {'max_depth': 6, 'eta': 0.04885522155765874, 'subsample': 0.8190928547793248, 'colsample_bytree': 0.6275768404457646}.\n"
     ]
    },
    {
     "name": "stdout",
     "output_type": "stream",
     "text": [
      "Completed study for alpha=0.75\n"
     ]
    },
    {
     "name": "stderr",
     "output_type": "stream",
     "text": [
      "[I 2025-05-15 16:01:26,309] Trial 1 finished with values: [0.6657216029016674, 0.04179171469453524] and parameters: {'max_depth': 3, 'eta': 0.13317886687857022, 'subsample': 0.6982474690338013, 'colsample_bytree': 0.6205056909458307}.\n",
      "[I 2025-05-15 16:01:26,463] Trial 2 finished with values: [0.6871486645038951, 0.07680555638780129] and parameters: {'max_depth': 5, 'eta': 0.2554204084831642, 'subsample': 0.8194828812461827, 'colsample_bytree': 0.7914196402596189}.\n",
      "[I 2025-05-15 16:01:26,626] Trial 3 finished with values: [0.7014272454071739, 0.07515147666339476] and parameters: {'max_depth': 7, 'eta': 0.1869408647526663, 'subsample': 0.6741589924626743, 'colsample_bytree': 0.9327415547735134}.\n",
      "[I 2025-05-15 16:01:26,749] Trial 4 finished with values: [0.6678751841878733, 0.048391517279530255] and parameters: {'max_depth': 3, 'eta': 0.2435901926521217, 'subsample': 0.9564593826829546, 'colsample_bytree': 0.6010809924522764}.\n",
      "[I 2025-05-15 16:01:26,883] Trial 5 finished with values: [0.6857165176314896, 0.07234264162349156] and parameters: {'max_depth': 4, 'eta': 0.2215538257246933, 'subsample': 0.7226552114736479, 'colsample_bytree': 0.9618014036798663}.\n",
      "[I 2025-05-15 16:01:27,036] Trial 6 finished with values: [0.7114262344799699, 0.09775406252039866] and parameters: {'max_depth': 7, 'eta': 0.24468218388897536, 'subsample': 0.6343872200916467, 'colsample_bytree': 0.9846963687083109}.\n",
      "[I 2025-05-15 16:01:27,206] Trial 7 finished with values: [0.6821415114280726, 0.06784172361000694] and parameters: {'max_depth': 6, 'eta': 0.04330586069226108, 'subsample': 0.687970276289863, 'colsample_bytree': 0.7452712053285588}.\n",
      "[I 2025-05-15 16:01:27,332] Trial 8 finished with values: [0.6900129582487065, 0.06114157622819416] and parameters: {'max_depth': 4, 'eta': 0.22356307259053426, 'subsample': 0.8481661969843759, 'colsample_bytree': 0.6156427570244405}.\n",
      "[I 2025-05-15 16:01:27,456] Trial 9 finished with values: [0.6799986520970612, 0.039502103341299465] and parameters: {'max_depth': 4, 'eta': 0.20436844685534877, 'subsample': 0.8249001714544549, 'colsample_bytree': 0.7764794640550456}.\n",
      "[I 2025-05-15 16:01:27,463] A new study created in memory with name: no-name-263d76c5-5d68-4b94-8d20-06e6aa0fbc4d\n",
      "[I 2025-05-15 16:01:27,658] Trial 0 finished with values: [0.6564425165347866, 0.02912898444415643] and parameters: {'max_depth': 3, 'eta': 0.048753854319641604, 'subsample': 0.837094875493829, 'colsample_bytree': 0.8811306118824713}.\n"
     ]
    },
    {
     "name": "stdout",
     "output_type": "stream",
     "text": [
      "Completed study for alpha=0.76\n"
     ]
    },
    {
     "name": "stderr",
     "output_type": "stream",
     "text": [
      "[I 2025-05-15 16:01:27,995] Trial 1 finished with values: [0.6728700836006164, 0.047095137051371284] and parameters: {'max_depth': 4, 'eta': 0.01652620219188181, 'subsample': 0.6323576675749074, 'colsample_bytree': 0.6208034189059244}.\n",
      "[I 2025-05-15 16:01:28,135] Trial 2 finished with values: [0.6764267093094142, 0.04192114774520491] and parameters: {'max_depth': 4, 'eta': 0.15067145672791984, 'subsample': 0.6988633189241232, 'colsample_bytree': 0.7069210121520635}.\n",
      "[I 2025-05-15 16:01:28,284] Trial 3 finished with values: [0.6807185548029765, 0.07047161003500824] and parameters: {'max_depth': 4, 'eta': 0.2625137149368184, 'subsample': 0.6981585808107307, 'colsample_bytree': 0.6910529459176853}.\n",
      "[I 2025-05-15 16:01:28,493] Trial 4 finished with values: [0.6792894713463405, 0.048742864030718126] and parameters: {'max_depth': 7, 'eta': 0.06648801899646063, 'subsample': 0.894861342063936, 'colsample_bytree': 0.6603989882527274}.\n",
      "[I 2025-05-15 16:01:28,643] Trial 5 finished with values: [0.6750037526843181, 0.040040950047374645] and parameters: {'max_depth': 4, 'eta': 0.05208297813692315, 'subsample': 0.8907131383800657, 'colsample_bytree': 0.6194894185352073}.\n",
      "[I 2025-05-15 16:01:28,777] Trial 6 finished with values: [0.663583338694311, 0.02413207857144234] and parameters: {'max_depth': 3, 'eta': 0.08360222174810417, 'subsample': 0.8959745720188412, 'colsample_bytree': 0.6908383155043435}.\n",
      "[I 2025-05-15 16:01:28,953] Trial 7 finished with values: [0.6992859177840476, 0.07272426271460745] and parameters: {'max_depth': 7, 'eta': 0.1761226991888449, 'subsample': 0.6852025378855756, 'colsample_bytree': 0.7126212218013614}.\n",
      "[I 2025-05-15 16:01:29,118] Trial 8 finished with values: [0.690002236293512, 0.07065665215461615] and parameters: {'max_depth': 6, 'eta': 0.1331240664889903, 'subsample': 0.7040377140611108, 'colsample_bytree': 0.8050830622434129}.\n",
      "[I 2025-05-15 16:01:29,272] Trial 9 finished with values: [0.6850042734649989, 0.06420389791497533] and parameters: {'max_depth': 4, 'eta': 0.2968263378420183, 'subsample': 0.8988951715253821, 'colsample_bytree': 0.6760919750863683}.\n",
      "[I 2025-05-15 16:01:29,276] A new study created in memory with name: no-name-1e20d578-2419-40fe-8874-7db3a21d49be\n",
      "[I 2025-05-15 16:01:29,422] Trial 0 finished with values: [0.6735807960592219, 0.046614148769736685] and parameters: {'max_depth': 3, 'eta': 0.16785067296416006, 'subsample': 0.6267029528423378, 'colsample_bytree': 0.8698720056468288}.\n"
     ]
    },
    {
     "name": "stdout",
     "output_type": "stream",
     "text": [
      "Completed study for alpha=0.77\n"
     ]
    },
    {
     "name": "stderr",
     "output_type": "stream",
     "text": [
      "[I 2025-05-15 16:01:29,576] Trial 1 finished with values: [0.6807108962635517, 0.07322881661054059] and parameters: {'max_depth': 4, 'eta': 0.28679601352953304, 'subsample': 0.7204711297069596, 'colsample_bytree': 0.9611834471062094}.\n",
      "[I 2025-05-15 16:01:29,826] Trial 2 finished with values: [0.6828644775497575, 0.050919149170872806] and parameters: {'max_depth': 7, 'eta': 0.0557002629956497, 'subsample': 0.6064357077771663, 'colsample_bytree': 0.7428155424666482}.\n",
      "[I 2025-05-15 16:01:30,024] Trial 3 finished with values: [0.6742838499784028, 0.045265963070607464] and parameters: {'max_depth': 5, 'eta': 0.05713795221153808, 'subsample': 0.8460317040135273, 'colsample_bytree': 0.8699668024488443}.\n",
      "[I 2025-05-15 16:01:30,148] Trial 4 finished with values: [0.6585869075736829, 0.01714622603268176] and parameters: {'max_depth': 3, 'eta': 0.1295414411972678, 'subsample': 0.8979199452716543, 'colsample_bytree': 0.7181807265172575}.\n",
      "[I 2025-05-15 16:01:30,360] Trial 5 finished with values: [0.6721532443104711, 0.05771805611604123] and parameters: {'max_depth': 7, 'eta': 0.043363929841393166, 'subsample': 0.6202039147441795, 'colsample_bytree': 0.741604038399881}.\n",
      "[I 2025-05-15 16:01:30,502] Trial 6 finished with values: [0.6842859024669687, 0.059775711771508526] and parameters: {'max_depth': 4, 'eta': 0.186868436464622, 'subsample': 0.9074140989387702, 'colsample_bytree': 0.736568393933822}.\n",
      "[I 2025-05-15 16:01:30,633] Trial 7 finished with values: [0.6714364050203256, 0.045774497915650685] and parameters: {'max_depth': 3, 'eta': 0.16122922136932824, 'subsample': 0.6735217270518622, 'colsample_bytree': 0.8008501066414199}.\n",
      "[I 2025-05-15 16:01:30,776] Trial 8 finished with values: [0.6671522180661883, 0.03665086863781375] and parameters: {'max_depth': 3, 'eta': 0.22618179850930992, 'subsample': 0.870647699035082, 'colsample_bytree': 0.6468067473771422}.\n",
      "[I 2025-05-15 16:01:30,906] Trial 9 finished with values: [0.680006310636486, 0.06211026064800717] and parameters: {'max_depth': 4, 'eta': 0.152638575819134, 'subsample': 0.903038277307039, 'colsample_bytree': 0.6784186994515813}.\n",
      "[I 2025-05-15 16:01:30,911] A new study created in memory with name: no-name-b5e93822-4c6d-471e-b99b-c66eba12018f\n"
     ]
    },
    {
     "name": "stdout",
     "output_type": "stream",
     "text": [
      "Completed study for alpha=0.78\n"
     ]
    },
    {
     "name": "stderr",
     "output_type": "stream",
     "text": [
      "[I 2025-05-15 16:01:31,158] Trial 0 finished with values: [0.6857134542157196, 0.08081175730787159] and parameters: {'max_depth': 6, 'eta': 0.025518321562899834, 'subsample': 0.6668571529349143, 'colsample_bytree': 0.8849607687160732}.\n",
      "[I 2025-05-15 16:01:31,450] Trial 1 finished with values: [0.6849966149255743, 0.09003567696367436] and parameters: {'max_depth': 7, 'eta': 0.02171023274147412, 'subsample': 0.9114251544632118, 'colsample_bytree': 0.6570119218232692}.\n",
      "[I 2025-05-15 16:01:31,619] Trial 2 finished with values: [0.6635726167391165, 0.04665158237972406] and parameters: {'max_depth': 4, 'eta': 0.05925478454361177, 'subsample': 0.974264234732776, 'colsample_bytree': 0.9965076443682298}.\n",
      "[I 2025-05-15 16:01:31,751] Trial 3 finished with values: [0.6700011947321501, 0.059837315540505386] and parameters: {'max_depth': 3, 'eta': 0.2937653808626506, 'subsample': 0.8569636325529768, 'colsample_bytree': 0.8703667148645016}.\n",
      "[I 2025-05-15 16:01:31,898] Trial 4 finished with values: [0.6728670201848465, 0.031346662148124815] and parameters: {'max_depth': 3, 'eta': 0.18514689842967336, 'subsample': 0.6493747800983043, 'colsample_bytree': 0.724501254379961}.\n",
      "[I 2025-05-15 16:01:32,058] Trial 5 finished with values: [0.690000704585627, 0.06151969371953798] and parameters: {'max_depth': 6, 'eta': 0.21816506811030265, 'subsample': 0.9644716707443484, 'colsample_bytree': 0.66723790960669}.\n",
      "[I 2025-05-15 16:01:32,203] Trial 6 finished with values: [0.7014333722387135, 0.09074653558523937] and parameters: {'max_depth': 6, 'eta': 0.17753405105244136, 'subsample': 0.9048651360320407, 'colsample_bytree': 0.7395166710716431}.\n",
      "[I 2025-05-15 16:01:32,324] Trial 7 finished with values: [0.6792864079305708, 0.04358544301941428] and parameters: {'max_depth': 4, 'eta': 0.1466967704998759, 'subsample': 0.7925377421233708, 'colsample_bytree': 0.9331159983600805}.\n",
      "[I 2025-05-15 16:01:32,489] Trial 8 finished with values: [0.7007134695327984, 0.06937304789307515] and parameters: {'max_depth': 7, 'eta': 0.196946493087304, 'subsample': 0.989281725387108, 'colsample_bytree': 0.6636110672547021}.\n",
      "[I 2025-05-15 16:01:32,617] Trial 9 finished with values: [0.6778665147212445, 0.03414756451067586] and parameters: {'max_depth': 3, 'eta': 0.2804305516425676, 'subsample': 0.9789423201388681, 'colsample_bytree': 0.9039642862487018}.\n",
      "[I 2025-05-15 16:01:32,623] A new study created in memory with name: no-name-b9fb51cf-d286-4380-9a1c-1b979aaad019\n",
      "[I 2025-05-15 16:01:32,748] Trial 0 finished with values: [0.6678629305247937, 0.046091694587253956] and parameters: {'max_depth': 3, 'eta': 0.17629067325166198, 'subsample': 0.7911578895353919, 'colsample_bytree': 0.903807058429464}.\n"
     ]
    },
    {
     "name": "stdout",
     "output_type": "stream",
     "text": [
      "Completed study for alpha=0.79\n"
     ]
    },
    {
     "name": "stderr",
     "output_type": "stream",
     "text": [
      "[I 2025-05-15 16:01:32,933] Trial 1 finished with values: [0.6814384575088915, 0.07537631384493292] and parameters: {'max_depth': 5, 'eta': 0.14583331945801364, 'subsample': 0.6236619234137013, 'colsample_bytree': 0.8331244262513047}.\n",
      "[I 2025-05-15 16:01:33,088] Trial 2 finished with values: [0.6628695628199356, 0.018670520721680878] and parameters: {'max_depth': 3, 'eta': 0.1672244481425059, 'subsample': 0.9428635726983339, 'colsample_bytree': 0.8628179574120096}.\n",
      "[I 2025-05-15 16:01:33,235] Trial 3 finished with values: [0.6535874130372848, 0.02921035635737736] and parameters: {'max_depth': 3, 'eta': 0.06060124012231524, 'subsample': 0.9702227084939985, 'colsample_bytree': 0.7613453203085785}.\n",
      "[I 2025-05-15 16:01:33,525] Trial 4 finished with values: [0.6928512129594742, 0.07671015750875472] and parameters: {'max_depth': 7, 'eta': 0.028752965019665656, 'subsample': 0.9348282735868512, 'colsample_bytree': 0.7509614341717447}.\n",
      "[I 2025-05-15 16:01:33,679] Trial 5 finished with values: [0.6871486645038951, 0.0988283541128574] and parameters: {'max_depth': 5, 'eta': 0.28000185982947434, 'subsample': 0.6827412608324854, 'colsample_bytree': 0.8352415805581153}.\n",
      "[I 2025-05-15 16:01:33,829] Trial 6 finished with values: [0.6928588714988987, 0.06780854449231118] and parameters: {'max_depth': 6, 'eta': 0.20835179250579403, 'subsample': 0.83316475014687, 'colsample_bytree': 0.6625982372694869}.\n",
      "[I 2025-05-15 16:01:34,138] Trial 7 finished with values: [0.6807170230950915, 0.0694647865535154] and parameters: {'max_depth': 7, 'eta': 0.02017200191342062, 'subsample': 0.6776254225001059, 'colsample_bytree': 0.8340375433227032}.\n",
      "[I 2025-05-15 16:01:34,318] Trial 8 finished with values: [0.7071405158179473, 0.08678503972831232] and parameters: {'max_depth': 7, 'eta': 0.23298535723348968, 'subsample': 0.936800440669662, 'colsample_bytree': 0.9041601734211624}.\n",
      "[I 2025-05-15 16:01:34,472] Trial 9 finished with values: [0.6707272242696051, 0.029418803593892873] and parameters: {'max_depth': 3, 'eta': 0.25505028241600886, 'subsample': 0.7189155477789746, 'colsample_bytree': 0.9280985578928862}.\n",
      "[I 2025-05-15 16:01:34,477] A new study created in memory with name: no-name-5e1ef828-d775-4182-a89c-071ee06be468\n"
     ]
    },
    {
     "name": "stdout",
     "output_type": "stream",
     "text": [
      "Completed study for alpha=0.8\n"
     ]
    },
    {
     "name": "stderr",
     "output_type": "stream",
     "text": [
      "[I 2025-05-15 16:01:34,710] Trial 0 finished with values: [0.6885670260053365, 0.0690982470834922] and parameters: {'max_depth': 6, 'eta': 0.09840896749412197, 'subsample': 0.7568656475178139, 'colsample_bytree': 0.7865418325908926}.\n",
      "[I 2025-05-15 16:01:35,001] Trial 1 finished with values: [0.7107078634819396, 0.12150716662289852] and parameters: {'max_depth': 7, 'eta': 0.21861197999061985, 'subsample': 0.7126908971937201, 'colsample_bytree': 0.86260407797769}.\n",
      "[I 2025-05-15 16:01:35,193] Trial 2 finished with values: [0.6657216029016674, 0.05400429045668744] and parameters: {'max_depth': 4, 'eta': 0.060508323009475756, 'subsample': 0.6994421162154968, 'colsample_bytree': 0.8200437409639045}.\n",
      "[I 2025-05-15 16:01:35,368] Trial 3 finished with values: [0.6628634359883958, 0.030921200522714205] and parameters: {'max_depth': 4, 'eta': 0.03365031163859007, 'subsample': 0.7182547978343833, 'colsample_bytree': 0.637925849631756}.\n",
      "[I 2025-05-15 16:01:35,485] Trial 4 finished with values: [0.6628695628199356, 0.02521957489459568] and parameters: {'max_depth': 3, 'eta': 0.1384570169357047, 'subsample': 0.8969795897356934, 'colsample_bytree': 0.6266509075543495}.\n",
      "[I 2025-05-15 16:01:35,619] Trial 5 finished with values: [0.6892976506664462, 0.06724413394680918] and parameters: {'max_depth': 4, 'eta': 0.22018843206415428, 'subsample': 0.7651522647516679, 'colsample_bytree': 0.7002040693453122}.\n",
      "[I 2025-05-15 16:01:35,751] Trial 6 finished with values: [0.698573673617557, 0.06868921641913055] and parameters: {'max_depth': 5, 'eta': 0.28127376898604134, 'subsample': 0.849876527401722, 'colsample_bytree': 0.7240469631708817}.\n",
      "[I 2025-05-15 16:01:35,878] Trial 7 finished with values: [0.6871456010881252, 0.07502594213678392] and parameters: {'max_depth': 4, 'eta': 0.20604806469325077, 'subsample': 0.690865303083115, 'colsample_bytree': 0.9224490240262149}.\n",
      "[I 2025-05-15 16:01:36,034] Trial 8 finished with values: [0.6714348733124408, 0.04788214346288026] and parameters: {'max_depth': 4, 'eta': 0.0738848466386044, 'subsample': 0.7414797938197509, 'colsample_bytree': 0.9621284639093022}.\n",
      "[I 2025-05-15 16:01:36,171] Trial 9 finished with values: [0.6949971357062551, 0.08074692749045317] and parameters: {'max_depth': 5, 'eta': 0.15161063130150434, 'subsample': 0.8082340054643513, 'colsample_bytree': 0.8625550963133841}.\n",
      "[I 2025-05-15 16:01:36,176] A new study created in memory with name: no-name-0e7d7770-7a8d-490c-9509-823c40aa4b3a\n",
      "[I 2025-05-15 16:01:36,301] Trial 0 finished with values: [0.6685767063991692, 0.0320573778542269] and parameters: {'max_depth': 3, 'eta': 0.12157933795266354, 'subsample': 0.8521794057163565, 'colsample_bytree': 0.8984964258022914}.\n"
     ]
    },
    {
     "name": "stdout",
     "output_type": "stream",
     "text": [
      "Completed study for alpha=0.81\n"
     ]
    },
    {
     "name": "stderr",
     "output_type": "stream",
     "text": [
      "[I 2025-05-15 16:01:36,462] Trial 1 finished with values: [0.6814292672615819, 0.04240925408452199] and parameters: {'max_depth': 6, 'eta': 0.1765384127745214, 'subsample': 0.6376490152471961, 'colsample_bytree': 0.7106634950565441}.\n",
      "[I 2025-05-15 16:01:36,619] Trial 2 finished with values: [0.7207114476783903, 0.11133257251431289] and parameters: {'max_depth': 7, 'eta': 0.2771255505029713, 'subsample': 0.9964656458565716, 'colsample_bytree': 0.6936375156491866}.\n",
      "[I 2025-05-15 16:01:36,785] Trial 3 finished with values: [0.6957124432885156, 0.07159277166662194] and parameters: {'max_depth': 7, 'eta': 0.10437447044103458, 'subsample': 0.834922390847737, 'colsample_bytree': 0.7261852502639939}.\n",
      "[I 2025-05-15 16:01:36,949] Trial 4 finished with values: [0.6928604032067837, 0.06428762524454966] and parameters: {'max_depth': 7, 'eta': 0.12181645839875889, 'subsample': 0.8043014688540502, 'colsample_bytree': 0.6113179855153268}.\n",
      "[I 2025-05-15 16:01:37,101] Trial 5 finished with values: [0.6864165081349006, 0.05405261709199561] and parameters: {'max_depth': 6, 'eta': 0.09020570800752005, 'subsample': 0.9911345967196119, 'colsample_bytree': 0.9681823892631448}.\n",
      "[I 2025-05-15 16:01:37,247] Trial 6 finished with values: [0.6892915238349064, 0.06090460751484338] and parameters: {'max_depth': 6, 'eta': 0.11963257180576012, 'subsample': 0.8876484645745489, 'colsample_bytree': 0.649764327028797}.\n",
      "[I 2025-05-15 16:01:37,371] Trial 7 finished with values: [0.6871471327960103, 0.06775643164431501] and parameters: {'max_depth': 4, 'eta': 0.25153295291327055, 'subsample': 0.9735603421443083, 'colsample_bytree': 0.8622342661272396}.\n",
      "[I 2025-05-15 16:01:37,558] Trial 8 finished with values: [0.6614466061948394, 0.031564714461162054] and parameters: {'max_depth': 3, 'eta': 0.018844736180324506, 'subsample': 0.808319957045779, 'colsample_bytree': 0.7400458571833725}.\n",
      "[I 2025-05-15 16:01:37,724] Trial 9 finished with values: [0.6935649888338494, 0.062306087752971535] and parameters: {'max_depth': 7, 'eta': 0.07291934887068655, 'subsample': 0.9506593214913288, 'colsample_bytree': 0.9564057347190913}.\n",
      "[I 2025-05-15 16:01:37,727] A new study created in memory with name: no-name-c31822c3-e186-48cb-8c8f-2bda1f3dd0dc\n",
      "[I 2025-05-15 16:01:37,875] Trial 0 finished with values: [0.6864241666743252, 0.073859414445098] and parameters: {'max_depth': 6, 'eta': 0.11346564142150481, 'subsample': 0.8986208825803673, 'colsample_bytree': 0.8809005390823818}.\n"
     ]
    },
    {
     "name": "stdout",
     "output_type": "stream",
     "text": [
      "Completed study for alpha=0.82\n"
     ]
    },
    {
     "name": "stderr",
     "output_type": "stream",
     "text": [
      "[I 2025-05-15 16:01:38,047] Trial 1 finished with values: [0.6799955886812915, 0.0627577597516783] and parameters: {'max_depth': 5, 'eta': 0.05839168768245216, 'subsample': 0.8938846476811639, 'colsample_bytree': 0.8521706294291376}.\n",
      "[I 2025-05-15 16:01:38,183] Trial 2 finished with values: [0.6714302781887861, 0.04515368851967252] and parameters: {'max_depth': 3, 'eta': 0.25267889502430374, 'subsample': 0.8926258334505255, 'colsample_bytree': 0.7411361850209633}.\n",
      "[I 2025-05-15 16:01:38,321] Trial 3 finished with values: [0.6621542552376751, 0.035628910678560416] and parameters: {'max_depth': 3, 'eta': 0.07798487837047201, 'subsample': 0.6302824284355336, 'colsample_bytree': 0.8481711322586559}.\n",
      "[I 2025-05-15 16:01:38,460] Trial 4 finished with values: [0.6957170384121704, 0.10308656085731428] and parameters: {'max_depth': 6, 'eta': 0.2202114397436278, 'subsample': 0.718633241536925, 'colsample_bytree': 0.8218566776550743}.\n",
      "[I 2025-05-15 16:01:38,576] Trial 5 finished with values: [0.6635741484470014, 0.03827916979249669] and parameters: {'max_depth': 3, 'eta': 0.19753515189722298, 'subsample': 0.857770205300753, 'colsample_bytree': 0.6647227870125424}.\n",
      "[I 2025-05-15 16:01:38,699] Trial 6 finished with values: [0.6621496601140203, 0.033943424358841706] and parameters: {'max_depth': 3, 'eta': 0.140489600441557, 'subsample': 0.9238571646163733, 'colsample_bytree': 0.991858649284781}.\n",
      "[I 2025-05-15 16:01:38,879] Trial 7 finished with values: [0.6778588561818198, 0.058254978745436725] and parameters: {'max_depth': 6, 'eta': 0.04899021880930478, 'subsample': 0.9463980658362112, 'colsample_bytree': 0.6209239593880714}.\n",
      "[I 2025-05-15 16:01:39,021] Trial 8 finished with values: [0.701425713699289, 0.07655082057352876] and parameters: {'max_depth': 6, 'eta': 0.21075887524558107, 'subsample': 0.6712591033337305, 'colsample_bytree': 0.83413952544076}.\n",
      "[I 2025-05-15 16:01:39,163] Trial 9 finished with values: [0.6957063164569758, 0.0819741828659901] and parameters: {'max_depth': 6, 'eta': 0.15939561169415642, 'subsample': 0.9960698560881558, 'colsample_bytree': 0.7607123406387645}.\n",
      "[I 2025-05-15 16:01:39,168] A new study created in memory with name: no-name-f37797f2-0430-4822-add9-f1262747772b\n"
     ]
    },
    {
     "name": "stdout",
     "output_type": "stream",
     "text": [
      "Completed study for alpha=0.83\n"
     ]
    },
    {
     "name": "stderr",
     "output_type": "stream",
     "text": [
      "[I 2025-05-15 16:01:39,373] Trial 0 finished with values: [0.6892884604191366, 0.06686978957895365] and parameters: {'max_depth': 7, 'eta': 0.03194501145035473, 'subsample': 0.716770442149627, 'colsample_bytree': 0.9243030870946595}.\n",
      "[I 2025-05-15 16:01:39,507] Trial 1 finished with values: [0.6600068007830091, 0.03587349824447509] and parameters: {'max_depth': 3, 'eta': 0.09738006906992057, 'subsample': 0.9325161502426254, 'colsample_bytree': 0.8629094680819842}.\n",
      "[I 2025-05-15 16:01:39,634] Trial 2 finished with values: [0.6635848704021959, 0.023082715913224954] and parameters: {'max_depth': 3, 'eta': 0.08755333438539574, 'subsample': 0.9287763453954722, 'colsample_bytree': 0.9329720580350814}.\n",
      "[I 2025-05-15 16:01:39,773] Trial 3 finished with values: [0.6921420322087535, 0.08283096099619615] and parameters: {'max_depth': 5, 'eta': 0.2299297535487407, 'subsample': 0.8463676976267156, 'colsample_bytree': 0.8082095449250302}.\n",
      "[I 2025-05-15 16:01:39,928] Trial 4 finished with values: [0.6878670355019253, 0.061267036419072725] and parameters: {'max_depth': 6, 'eta': 0.10535700977536508, 'subsample': 0.6280070758685443, 'colsample_bytree': 0.9907587530782765}.\n",
      "[I 2025-05-15 16:01:40,097] Trial 5 finished with values: [0.6878532501309612, 0.05851898449290735] and parameters: {'max_depth': 7, 'eta': 0.11065430721296245, 'subsample': 0.7733859295218947, 'colsample_bytree': 0.9555203448448922}.\n",
      "[I 2025-05-15 16:01:40,234] Trial 6 finished with values: [0.6885900016236103, 0.053703491917378075] and parameters: {'max_depth': 4, 'eta': 0.17801260282555642, 'subsample': 0.7551249674799434, 'colsample_bytree': 0.8266266946774281}.\n",
      "[I 2025-05-15 16:01:40,351] Trial 7 finished with values: [0.6764358995567238, 0.04754104568911221] and parameters: {'max_depth': 3, 'eta': 0.19286651591115042, 'subsample': 0.7111862982526077, 'colsample_bytree': 0.8561245364846038}.\n",
      "[I 2025-05-15 16:01:40,487] Trial 8 finished with values: [0.6685721112755143, 0.04937998952782941] and parameters: {'max_depth': 4, 'eta': 0.20472245610176168, 'subsample': 0.8968484256697946, 'colsample_bytree': 0.7187371717783031}.\n",
      "[I 2025-05-15 16:01:40,623] Trial 9 finished with values: [0.7128645081839152, 0.06944465534508654] and parameters: {'max_depth': 6, 'eta': 0.29212858205504233, 'subsample': 0.745522849237577, 'colsample_bytree': 0.6497575082193608}.\n",
      "[I 2025-05-15 16:01:40,627] A new study created in memory with name: no-name-6a7c8bcb-8085-4df5-8d54-665ce8e6afcb\n",
      "[I 2025-05-15 16:01:40,796] Trial 0 finished with values: [0.684278243927544, 0.05345110512698995] and parameters: {'max_depth': 7, 'eta': 0.11494876903732777, 'subsample': 0.6730651562789496, 'colsample_bytree': 0.9559833319514149}.\n"
     ]
    },
    {
     "name": "stdout",
     "output_type": "stream",
     "text": [
      "Completed study for alpha=0.84\n"
     ]
    },
    {
     "name": "stderr",
     "output_type": "stream",
     "text": [
      "[I 2025-05-15 16:01:40,952] Trial 1 finished with values: [0.7071405158179473, 0.07379812752804825] and parameters: {'max_depth': 6, 'eta': 0.20059681903195167, 'subsample': 0.8203387992364786, 'colsample_bytree': 0.8230897816212663}.\n",
      "[I 2025-05-15 16:01:41,087] Trial 2 finished with values: [0.6571562924091621, 0.04226974381120996] and parameters: {'max_depth': 3, 'eta': 0.06859807978601191, 'subsample': 0.8405544154259189, 'colsample_bytree': 0.8412814289365851}.\n",
      "[I 2025-05-15 16:01:41,198] Trial 3 finished with values: [0.6764435580961484, 0.03588702087516244] and parameters: {'max_depth': 3, 'eta': 0.2408248215294831, 'subsample': 0.777556038766735, 'colsample_bytree': 0.7180248251878819}.\n",
      "[I 2025-05-15 16:01:41,356] Trial 4 finished with values: [0.6778619195975897, 0.054817898481492426] and parameters: {'max_depth': 6, 'eta': 0.05398434643814885, 'subsample': 0.8575151779140097, 'colsample_bytree': 0.6656052387494319}.\n",
      "[I 2025-05-15 16:01:41,500] Trial 5 finished with values: [0.6907175438757723, 0.09289341656299961] and parameters: {'max_depth': 6, 'eta': 0.2343962808616162, 'subsample': 0.7417828022609602, 'colsample_bytree': 0.8841633267779729}.\n",
      "[I 2025-05-15 16:01:41,658] Trial 6 finished with values: [0.6857149859236046, 0.07218974915433767] and parameters: {'max_depth': 6, 'eta': 0.07127343233644483, 'subsample': 0.8412667079728912, 'colsample_bytree': 0.7455768101109336}.\n",
      "[I 2025-05-15 16:01:41,780] Trial 7 finished with values: [0.6992797909525078, 0.052854954889595705] and parameters: {'max_depth': 4, 'eta': 0.2945885147171837, 'subsample': 0.795580631931215, 'colsample_bytree': 0.9823947975573629}.\n",
      "[I 2025-05-15 16:01:41,917] Trial 8 finished with values: [0.6807154913872067, 0.0947867896174109] and parameters: {'max_depth': 5, 'eta': 0.2351554342147955, 'subsample': 0.6557738817677202, 'colsample_bytree': 0.732759414048309}.\n",
      "[I 2025-05-15 16:01:42,051] Trial 9 finished with values: [0.7121338835228056, 0.07985506919983683] and parameters: {'max_depth': 6, 'eta': 0.2896977366933171, 'subsample': 0.8055183874677666, 'colsample_bytree': 0.7587118548040729}.\n",
      "[I 2025-05-15 16:01:42,055] A new study created in memory with name: no-name-a70d7346-c969-49e8-84c8-2b40cba40942\n",
      "[I 2025-05-15 16:01:42,208] Trial 0 finished with values: [0.7157119531419923, 0.06797783226324801] and parameters: {'max_depth': 7, 'eta': 0.2620498405044256, 'subsample': 0.8398999519313983, 'colsample_bytree': 0.6626399442314244}.\n"
     ]
    },
    {
     "name": "stdout",
     "output_type": "stream",
     "text": [
      "Completed study for alpha=0.85\n"
     ]
    },
    {
     "name": "stderr",
     "output_type": "stream",
     "text": [
      "[I 2025-05-15 16:01:42,342] Trial 1 finished with values: [0.6707149706065256, 0.0389703120784598] and parameters: {'max_depth': 4, 'eta': 0.12619269893349996, 'subsample': 0.8823221352012771, 'colsample_bytree': 0.9207000785849685}.\n",
      "[I 2025-05-15 16:01:42,475] Trial 2 finished with values: [0.6864379520452896, 0.06730328690247704] and parameters: {'max_depth': 4, 'eta': 0.2590741765599514, 'subsample': 0.9607971941868017, 'colsample_bytree': 0.7983975226790105}.\n",
      "[I 2025-05-15 16:01:42,725] Trial 3 finished with values: [0.676431304433069, 0.04357125818411526] and parameters: {'max_depth': 5, 'eta': 0.016354554880477382, 'subsample': 0.9419528610459376, 'colsample_bytree': 0.7215894758135806}.\n",
      "[I 2025-05-15 16:01:42,884] Trial 4 finished with values: [0.7050083784421305, 0.09746275107288117] and parameters: {'max_depth': 7, 'eta': 0.1590517447658028, 'subsample': 0.7282035160571879, 'colsample_bytree': 0.781496147668777}.\n",
      "[I 2025-05-15 16:01:43,004] Trial 5 finished with values: [0.676429772725184, 0.03404762852642182] and parameters: {'max_depth': 3, 'eta': 0.19893935315531527, 'subsample': 0.7321920049629441, 'colsample_bytree': 0.9068718006888894}.\n",
      "[I 2025-05-15 16:01:43,147] Trial 6 finished with values: [0.6707287559774899, 0.043453632569444435] and parameters: {'max_depth': 3, 'eta': 0.18633190364626462, 'subsample': 0.8807323714892191, 'colsample_bytree': 0.8030241567625146}.\n",
      "[I 2025-05-15 16:01:43,265] Trial 7 finished with values: [0.6664353787760429, 0.02857247588659645] and parameters: {'max_depth': 3, 'eta': 0.20780020312196973, 'subsample': 0.6429975196043575, 'colsample_bytree': 0.6724396894098442}.\n",
      "[I 2025-05-15 16:01:43,408] Trial 8 finished with values: [0.6935695839575043, 0.07213398063605413] and parameters: {'max_depth': 5, 'eta': 0.17402830940400457, 'subsample': 0.8990143119149814, 'colsample_bytree': 0.8317115471586264}.\n",
      "[I 2025-05-15 16:01:43,531] Trial 9 finished with values: [0.6785772271798501, 0.04530572629712958] and parameters: {'max_depth': 3, 'eta': 0.2801268876166858, 'subsample': 0.7942981036914327, 'colsample_bytree': 0.8685182272841686}.\n",
      "[I 2025-05-15 16:01:43,534] A new study created in memory with name: no-name-b5b7df70-7d0c-422c-a217-b25e95dfc038\n",
      "[I 2025-05-15 16:01:43,693] Trial 0 finished with values: [0.7049961247790512, 0.07682395740754759] and parameters: {'max_depth': 7, 'eta': 0.14049590053038555, 'subsample': 0.9970323155621925, 'colsample_bytree': 0.9361089075006217}.\n"
     ]
    },
    {
     "name": "stdout",
     "output_type": "stream",
     "text": [
      "Completed study for alpha=0.86\n"
     ]
    },
    {
     "name": "stderr",
     "output_type": "stream",
     "text": [
      "[I 2025-05-15 16:01:43,836] Trial 1 finished with values: [0.6921328419614438, 0.053883145854360166] and parameters: {'max_depth': 5, 'eta': 0.21232077363307136, 'subsample': 0.7327075208954319, 'colsample_bytree': 0.6451410922849089}.\n",
      "[I 2025-05-15 16:01:44,083] Trial 2 finished with values: [0.6978553026195268, 0.07779097876116303] and parameters: {'max_depth': 7, 'eta': 0.23299640624833565, 'subsample': 0.6843205999038492, 'colsample_bytree': 0.6647579091065708}.\n",
      "[I 2025-05-15 16:01:44,229] Trial 3 finished with values: [0.7000134790293874, 0.09879658103333162] and parameters: {'max_depth': 6, 'eta': 0.19948482208056073, 'subsample': 0.6239657878229808, 'colsample_bytree': 0.831817398474335}.\n",
      "[I 2025-05-15 16:01:44,393] Trial 4 finished with values: [0.6971415267451513, 0.0669170587408208] and parameters: {'max_depth': 5, 'eta': 0.17851512513849327, 'subsample': 0.8886555561888523, 'colsample_bytree': 0.7643967200356317}.\n",
      "[I 2025-05-15 16:01:44,570] Trial 5 finished with values: [0.6835828485477878, 0.07510920561779816] and parameters: {'max_depth': 7, 'eta': 0.08856384972322033, 'subsample': 0.609712187355998, 'colsample_bytree': 0.7366676658371498}.\n",
      "[I 2025-05-15 16:01:44,696] Trial 6 finished with values: [0.687853250130961, 0.06566498186515894] and parameters: {'max_depth': 4, 'eta': 0.262038930139426, 'subsample': 0.9021776696547912, 'colsample_bytree': 0.8705139430573183}.\n",
      "[I 2025-05-15 16:01:44,835] Trial 7 finished with values: [0.6750098795158577, 0.05402007218504915] and parameters: {'max_depth': 5, 'eta': 0.09605228054687451, 'subsample': 0.6413393571184222, 'colsample_bytree': 0.9910702992706293}.\n",
      "[I 2025-05-15 16:01:44,997] Trial 8 finished with values: [0.7128507228129509, 0.12034000535693068] and parameters: {'max_depth': 7, 'eta': 0.2949764173387328, 'subsample': 0.7206605987025675, 'colsample_bytree': 0.8103024358992421}.\n",
      "[I 2025-05-15 16:01:45,125] Trial 9 finished with values: [0.6892869287112516, 0.07839506489332475] and parameters: {'max_depth': 4, 'eta': 0.2536522176855505, 'subsample': 0.7439549170334333, 'colsample_bytree': 0.7361667715522938}.\n",
      "[I 2025-05-15 16:01:45,129] A new study created in memory with name: no-name-5dde0add-c808-4022-9b74-ad06673b899b\n",
      "[I 2025-05-15 16:01:45,262] Trial 0 finished with values: [0.7050022516105908, 0.09723390633397289] and parameters: {'max_depth': 5, 'eta': 0.2689281228746245, 'subsample': 0.7709472818928067, 'colsample_bytree': 0.6105679658325541}.\n"
     ]
    },
    {
     "name": "stdout",
     "output_type": "stream",
     "text": [
      "Completed study for alpha=0.87\n"
     ]
    },
    {
     "name": "stderr",
     "output_type": "stream",
     "text": [
      "[I 2025-05-15 16:01:45,425] Trial 1 finished with values: [0.6850042734649989, 0.044943173230631774] and parameters: {'max_depth': 6, 'eta': 0.08232438962835437, 'subsample': 0.8494018608629331, 'colsample_bytree': 0.6144081549667454}.\n",
      "[I 2025-05-15 16:01:45,663] Trial 2 finished with values: [0.6807108962635517, 0.06166857159703446] and parameters: {'max_depth': 5, 'eta': 0.018955273861964397, 'subsample': 0.9726268321153696, 'colsample_bytree': 0.8345298004569098}.\n",
      "[I 2025-05-15 16:01:45,854] Trial 3 finished with values: [0.7171425683065132, 0.0827350168245483] and parameters: {'max_depth': 7, 'eta': 0.21593166485749515, 'subsample': 0.8442538233092324, 'colsample_bytree': 0.7518482923294164}.\n",
      "[I 2025-05-15 16:01:46,079] Trial 4 finished with values: [0.6892838652954817, 0.06505047176510205] and parameters: {'max_depth': 7, 'eta': 0.0747485969146255, 'subsample': 0.9712002566535675, 'colsample_bytree': 0.7040846345878208}.\n",
      "[I 2025-05-15 16:01:46,320] Trial 5 finished with values: [0.6900052997092819, 0.05082480636732809] and parameters: {'max_depth': 7, 'eta': 0.07434440562580273, 'subsample': 0.652313032449491, 'colsample_bytree': 0.9598311763706336}.\n",
      "[I 2025-05-15 16:01:46,547] Trial 6 finished with values: [0.6971445901609212, 0.0535455424697211] and parameters: {'max_depth': 7, 'eta': 0.11980538446809799, 'subsample': 0.8291743473430094, 'colsample_bytree': 0.6871167206161607}.\n",
      "[I 2025-05-15 16:01:46,745] Trial 7 finished with values: [0.6957109115806306, 0.06498268962972732] and parameters: {'max_depth': 7, 'eta': 0.11103698464703117, 'subsample': 0.743775322702512, 'colsample_bytree': 0.9950302767517254}.\n",
      "[I 2025-05-15 16:01:46,902] Trial 8 finished with values: [0.6964354094102005, 0.06808325925424069] and parameters: {'max_depth': 5, 'eta': 0.20523543464848873, 'subsample': 0.7312068647866128, 'colsample_bytree': 0.9337272697566215}.\n",
      "[I 2025-05-15 16:01:47,036] Trial 9 finished with values: [0.680006310636486, 0.07203939714810775] and parameters: {'max_depth': 3, 'eta': 0.23497880072923502, 'subsample': 0.7034012248350023, 'colsample_bytree': 0.7341404487279346}.\n",
      "[I 2025-05-15 16:01:47,040] A new study created in memory with name: no-name-4a9c02fc-0724-4dbb-8584-92bb726f2715\n"
     ]
    },
    {
     "name": "stdout",
     "output_type": "stream",
     "text": [
      "Completed study for alpha=0.88\n"
     ]
    },
    {
     "name": "stderr",
     "output_type": "stream",
     "text": [
      "[I 2025-05-15 16:01:47,315] Trial 0 finished with values: [0.6714379367282106, 0.07807945024311919] and parameters: {'max_depth': 5, 'eta': 0.022135652223150584, 'subsample': 0.6027022839346512, 'colsample_bytree': 0.8378842907525784}.\n",
      "[I 2025-05-15 16:01:47,499] Trial 1 finished with values: [0.7149935821439621, 0.08458911745320567] and parameters: {'max_depth': 7, 'eta': 0.2967686139719819, 'subsample': 0.720839307546782, 'colsample_bytree': 0.7590082331131593}.\n",
      "[I 2025-05-15 16:01:47,701] Trial 2 finished with values: [0.6842874341748537, 0.04356257442993261] and parameters: {'max_depth': 4, 'eta': 0.1728226797641185, 'subsample': 0.787595233108339, 'colsample_bytree': 0.825961594630465}.\n",
      "[I 2025-05-15 16:01:47,898] Trial 3 finished with values: [0.722142062842911, 0.08312046125957893] and parameters: {'max_depth': 7, 'eta': 0.22796919571311014, 'subsample': 0.8709941552967375, 'colsample_bytree': 0.9608129442936656}.\n",
      "[I 2025-05-15 16:01:48,086] Trial 4 finished with values: [0.6942910183713044, 0.06257073753600616] and parameters: {'max_depth': 6, 'eta': 0.15892122339954887, 'subsample': 0.7127831738691242, 'colsample_bytree': 0.6940526602326418}.\n",
      "[I 2025-05-15 16:01:48,292] Trial 5 finished with values: [0.6721455857710463, 0.061021875978272654] and parameters: {'max_depth': 5, 'eta': 0.04844465294609584, 'subsample': 0.8942565995354528, 'colsample_bytree': 0.6328678091088166}.\n",
      "[I 2025-05-15 16:01:48,419] Trial 6 finished with values: [0.6821522333832669, 0.0579180028748163] and parameters: {'max_depth': 3, 'eta': 0.2482096095329188, 'subsample': 0.6898629418835482, 'colsample_bytree': 0.8891811138738054}.\n",
      "[I 2025-05-15 16:01:48,590] Trial 7 finished with values: [0.6642925194450315, 0.037155930695121325] and parameters: {'max_depth': 3, 'eta': 0.03301583231168959, 'subsample': 0.6048195653506276, 'colsample_bytree': 0.882393508631431}.\n",
      "[I 2025-05-15 16:01:48,809] Trial 8 finished with values: [0.724995634632528, 0.11649156462183353] and parameters: {'max_depth': 7, 'eta': 0.2813608789126694, 'subsample': 0.8716208658948488, 'colsample_bytree': 0.8920975172830352}.\n",
      "[I 2025-05-15 16:01:48,963] Trial 9 finished with values: [0.6814323306773519, 0.052308959691341854] and parameters: {'max_depth': 5, 'eta': 0.11597134256044087, 'subsample': 0.7876748091843595, 'colsample_bytree': 0.7910965329373671}.\n",
      "[I 2025-05-15 16:01:48,968] A new study created in memory with name: no-name-c5ec844c-0f5a-46ef-bb46-a81a788ef706\n",
      "[I 2025-05-15 16:01:49,129] Trial 0 finished with values: [0.6964246874550061, 0.06687553714982104] and parameters: {'max_depth': 6, 'eta': 0.17081670175212577, 'subsample': 0.7612107049435223, 'colsample_bytree': 0.7698967182815447}.\n"
     ]
    },
    {
     "name": "stdout",
     "output_type": "stream",
     "text": [
      "Completed study for alpha=0.89\n"
     ]
    },
    {
     "name": "stderr",
     "output_type": "stream",
     "text": [
      "[I 2025-05-15 16:01:49,254] Trial 1 finished with values: [0.6857287712945689, 0.035331751422956255] and parameters: {'max_depth': 3, 'eta': 0.2593208085924682, 'subsample': 0.7589550234405835, 'colsample_bytree': 0.8575264299111816}.\n",
      "[I 2025-05-15 16:01:49,410] Trial 2 finished with values: [0.7007150012406833, 0.07967005308903245] and parameters: {'max_depth': 5, 'eta': 0.22590346255114832, 'subsample': 0.9388774327956565, 'colsample_bytree': 0.8079785460769286}.\n",
      "[I 2025-05-15 16:01:49,574] Trial 3 finished with values: [0.6707226291459504, 0.046530800045497166] and parameters: {'max_depth': 4, 'eta': 0.04199103195633615, 'subsample': 0.7450856991228099, 'colsample_bytree': 0.7137789509740305}.\n",
      "[I 2025-05-15 16:01:49,704] Trial 4 finished with values: [0.6814338623852368, 0.04727574482924022] and parameters: {'max_depth': 4, 'eta': 0.15167917615510346, 'subsample': 0.7678907501612111, 'colsample_bytree': 0.9721058947966669}.\n",
      "[I 2025-05-15 16:01:50,007] Trial 5 finished with values: [0.6828537555945631, 0.08243452696225165] and parameters: {'max_depth': 6, 'eta': 0.013078850793490766, 'subsample': 0.9440009496259933, 'colsample_bytree': 0.7220149901918205}.\n",
      "[I 2025-05-15 16:01:50,203] Trial 6 finished with values: [0.6807216182187462, 0.07009502315568118] and parameters: {'max_depth': 6, 'eta': 0.03152902519772931, 'subsample': 0.8542725750036362, 'colsample_bytree': 0.665511917985527}.\n",
      "[I 2025-05-15 16:01:50,388] Trial 7 finished with values: [0.6764389629724935, 0.05682792012842244] and parameters: {'max_depth': 5, 'eta': 0.028496992783019183, 'subsample': 0.6345941748916142, 'colsample_bytree': 0.7192411277543918}.\n",
      "[I 2025-05-15 16:01:50,501] Trial 8 finished with values: [0.6778573244739349, 0.03505459052235877] and parameters: {'max_depth': 3, 'eta': 0.2985042177164391, 'subsample': 0.8062213756852157, 'colsample_bytree': 0.6026935284135216}.\n",
      "[I 2025-05-15 16:01:50,627] Trial 9 finished with values: [0.6757251870981181, 0.056585986132907086] and parameters: {'max_depth': 4, 'eta': 0.14387176014713243, 'subsample': 0.9758121238621129, 'colsample_bytree': 0.8326712150894974}.\n",
      "[I 2025-05-15 16:01:50,631] A new study created in memory with name: no-name-0c1b2698-0c45-4eaa-a4c9-905135bd8771\n",
      "[I 2025-05-15 16:01:50,780] Trial 0 finished with values: [0.6907129487521176, 0.07464155637054005] and parameters: {'max_depth': 6, 'eta': 0.18312418450592444, 'subsample': 0.9640736639359154, 'colsample_bytree': 0.6297812467406454}.\n"
     ]
    },
    {
     "name": "stdout",
     "output_type": "stream",
     "text": [
      "Completed study for alpha=0.9\n"
     ]
    },
    {
     "name": "stderr",
     "output_type": "stream",
     "text": [
      "[I 2025-05-15 16:01:50,919] Trial 1 finished with values: [0.6892930555427914, 0.033988418884877185] and parameters: {'max_depth': 5, 'eta': 0.19186188340250376, 'subsample': 0.6929222196022058, 'colsample_bytree': 0.9095779278187449}.\n",
      "[I 2025-05-15 16:01:51,087] Trial 2 finished with values: [0.6721471174789313, 0.04178857331351579] and parameters: {'max_depth': 4, 'eta': 0.06289405789356073, 'subsample': 0.9748507085495537, 'colsample_bytree': 0.6372619488579606}.\n",
      "[I 2025-05-15 16:01:51,231] Trial 3 finished with values: [0.6707272242696051, 0.04068718727897772] and parameters: {'max_depth': 3, 'eta': 0.227592211366816, 'subsample': 0.8540690857789908, 'colsample_bytree': 0.6505944660774594}.\n",
      "[I 2025-05-15 16:01:51,461] Trial 4 finished with values: [0.6721471174789313, 0.03706557588731091] and parameters: {'max_depth': 5, 'eta': 0.03744009853398989, 'subsample': 0.924398705978394, 'colsample_bytree': 0.6496568243559737}.\n",
      "[I 2025-05-15 16:01:51,649] Trial 5 finished with values: [0.6871425376723556, 0.05605358204043015] and parameters: {'max_depth': 7, 'eta': 0.09522731427589526, 'subsample': 0.6702971510083467, 'colsample_bytree': 0.9346626842969564}.\n",
      "[I 2025-05-15 16:01:51,905] Trial 6 finished with values: [0.6692920139814295, 0.04795717492948767] and parameters: {'max_depth': 4, 'eta': 0.014878356795942163, 'subsample': 0.8575115986182742, 'colsample_bytree': 0.7294318308335965}.\n",
      "[I 2025-05-15 16:01:52,074] Trial 7 finished with values: [0.7071374524021775, 0.10712952330161185] and parameters: {'max_depth': 7, 'eta': 0.2307284289782537, 'subsample': 0.8836384999842608, 'colsample_bytree': 0.9219560990278081}.\n",
      "[I 2025-05-15 16:01:52,220] Trial 8 finished with values: [0.6878624403782706, 0.07987923152146856] and parameters: {'max_depth': 5, 'eta': 0.166423176541779, 'subsample': 0.9386591945496177, 'colsample_bytree': 0.6115632536677928}.\n",
      "[I 2025-05-15 16:01:52,403] Trial 9 finished with values: [0.6992813226603928, 0.07070795447642966] and parameters: {'max_depth': 7, 'eta': 0.09892526022748924, 'subsample': 0.9761554287756098, 'colsample_bytree': 0.9392586359450213}.\n",
      "[I 2025-05-15 16:01:52,407] A new study created in memory with name: no-name-2e2c1c33-d3b6-4fc0-b298-b0009b382d33\n",
      "[I 2025-05-15 16:01:52,564] Trial 0 finished with values: [0.6985690784939022, 0.07143363933261637] and parameters: {'max_depth': 6, 'eta': 0.25046854690701126, 'subsample': 0.7870239867078154, 'colsample_bytree': 0.7252273502933378}.\n"
     ]
    },
    {
     "name": "stdout",
     "output_type": "stream",
     "text": [
      "Completed study for alpha=0.91\n"
     ]
    },
    {
     "name": "stderr",
     "output_type": "stream",
     "text": [
      "[I 2025-05-15 16:01:52,723] Trial 1 finished with values: [0.6564517067820962, 0.039168191101308335] and parameters: {'max_depth': 3, 'eta': 0.05255717596470245, 'subsample': 0.9271671381078048, 'colsample_bytree': 0.800357106794783}.\n",
      "[I 2025-05-15 16:01:52,916] Trial 2 finished with values: [0.701424181991404, 0.07155200457008332] and parameters: {'max_depth': 6, 'eta': 0.15456710397022744, 'subsample': 0.8798905141315458, 'colsample_bytree': 0.8306964467326783}.\n",
      "[I 2025-05-15 16:01:53,067] Trial 3 finished with values: [0.7135553084400167, 0.09953443087600006] and parameters: {'max_depth': 7, 'eta': 0.2651914991598983, 'subsample': 0.6886587497176011, 'colsample_bytree': 0.8071142662983177}.\n",
      "[I 2025-05-15 16:01:53,228] Trial 4 finished with values: [0.7128553179366057, 0.09012926565728412] and parameters: {'max_depth': 6, 'eta': 0.22062952774749403, 'subsample': 0.8985399839710564, 'colsample_bytree': 0.9633222006265179}.\n",
      "[I 2025-05-15 16:01:53,422] Trial 5 finished with values: [0.6800185642995653, 0.05865175226843034] and parameters: {'max_depth': 5, 'eta': 0.039112250109538484, 'subsample': 0.7101601343308717, 'colsample_bytree': 0.7243840353985294}.\n",
      "[I 2025-05-15 16:01:53,571] Trial 6 finished with values: [0.7099848973602546, 0.08299221590785488] and parameters: {'max_depth': 7, 'eta': 0.2501233594721433, 'subsample': 0.8129212802039084, 'colsample_bytree': 0.8702485713445591}.\n",
      "[I 2025-05-15 16:01:53,714] Trial 7 finished with values: [0.7050068467342455, 0.07092660743793328] and parameters: {'max_depth': 6, 'eta': 0.211430299742173, 'subsample': 0.6311301149758078, 'colsample_bytree': 0.9101169059783789}.\n",
      "[I 2025-05-15 16:01:53,887] Trial 8 finished with values: [0.6692981408129692, 0.046358099132824654] and parameters: {'max_depth': 4, 'eta': 0.0326749486111364, 'subsample': 0.9184934881450062, 'colsample_bytree': 0.7260551371488386}.\n",
      "[I 2025-05-15 16:01:54,035] Trial 9 finished with values: [0.6971369316214965, 0.0568603088010608] and parameters: {'max_depth': 5, 'eta': 0.1692888930417627, 'subsample': 0.8184676141902393, 'colsample_bytree': 0.8882188950612004}.\n",
      "[I 2025-05-15 16:01:54,038] A new study created in memory with name: no-name-d706d615-029d-4487-9ca6-89dcf1e56b18\n",
      "[I 2025-05-15 16:01:54,175] Trial 0 finished with values: [0.6950032625377949, 0.062176695001596394] and parameters: {'max_depth': 5, 'eta': 0.22336042570871847, 'subsample': 0.9323455475803979, 'colsample_bytree': 0.9896286247736372}.\n"
     ]
    },
    {
     "name": "stdout",
     "output_type": "stream",
     "text": [
      "Completed study for alpha=0.92\n"
     ]
    },
    {
     "name": "stderr",
     "output_type": "stream",
     "text": [
      "[I 2025-05-15 16:01:54,319] Trial 1 finished with values: [0.6821461065517274, 0.03580526496283561] and parameters: {'max_depth': 4, 'eta': 0.1906061925870244, 'subsample': 0.6449375434131689, 'colsample_bytree': 0.9654970929118536}.\n",
      "[I 2025-05-15 16:01:54,478] Trial 2 finished with values: [0.6785772271798501, 0.05180925573205747] and parameters: {'max_depth': 3, 'eta': 0.28037916369410365, 'subsample': 0.8449094582819323, 'colsample_bytree': 0.7389992005901733}.\n",
      "[I 2025-05-15 16:01:54,740] Trial 3 finished with values: [0.6849950832176894, 0.07249749380629557] and parameters: {'max_depth': 4, 'eta': 0.2985274611047559, 'subsample': 0.6598787512291963, 'colsample_bytree': 0.6114244871028457}.\n",
      "[I 2025-05-15 16:01:54,936] Trial 4 finished with values: [0.6864394837531744, 0.07327287223201175] and parameters: {'max_depth': 6, 'eta': 0.14185278449280198, 'subsample': 0.6041987210929807, 'colsample_bytree': 0.9400280663560705}.\n",
      "[I 2025-05-15 16:01:55,094] Trial 5 finished with values: [0.6999935668268833, 0.05997915666865424] and parameters: {'max_depth': 6, 'eta': 0.2640527891016477, 'subsample': 0.8177651279263913, 'colsample_bytree': 0.6040944034583574}.\n",
      "[I 2025-05-15 16:01:55,253] Trial 6 finished with values: [0.7114185759405453, 0.09052388429633158] and parameters: {'max_depth': 7, 'eta': 0.1851516595922533, 'subsample': 0.9869952745105905, 'colsample_bytree': 0.8167358863749535}.\n",
      "[I 2025-05-15 16:01:55,405] Trial 7 finished with values: [0.6842828390511988, 0.06250961493321927] and parameters: {'max_depth': 5, 'eta': 0.18344969839734526, 'subsample': 0.6603640775542281, 'colsample_bytree': 0.6055907317679269}.\n",
      "[I 2025-05-15 16:01:55,565] Trial 8 finished with values: [0.6842889658827387, 0.061125678829096954] and parameters: {'max_depth': 5, 'eta': 0.11448856774812613, 'subsample': 0.8860348240332261, 'colsample_bytree': 0.9324274828691228}.\n",
      "[I 2025-05-15 16:01:55,724] Trial 9 finished with values: [0.6692981408129692, 0.05728235050774059] and parameters: {'max_depth': 4, 'eta': 0.0751724229324554, 'subsample': 0.8264345035657934, 'colsample_bytree': 0.7222076274245992}.\n",
      "[I 2025-05-15 16:01:55,731] A new study created in memory with name: no-name-5dd315ea-780b-4e8c-b1b6-7ae1f1206c0b\n",
      "[I 2025-05-15 16:01:55,903] Trial 0 finished with values: [0.7171410365986283, 0.07882437041599794] and parameters: {'max_depth': 7, 'eta': 0.24124456520600424, 'subsample': 0.8853379037472271, 'colsample_bytree': 0.681614167249985}.\n"
     ]
    },
    {
     "name": "stdout",
     "output_type": "stream",
     "text": [
      "Completed study for alpha=0.93\n"
     ]
    },
    {
     "name": "stderr",
     "output_type": "stream",
     "text": [
      "[I 2025-05-15 16:01:56,079] Trial 1 finished with values: [0.6978553026195268, 0.04971194851962065] and parameters: {'max_depth': 7, 'eta': 0.1258171007330632, 'subsample': 0.7661974818560683, 'colsample_bytree': 0.9798947484659037}.\n",
      "[I 2025-05-15 16:01:56,214] Trial 2 finished with values: [0.6842889658827387, 0.0459442330189531] and parameters: {'max_depth': 4, 'eta': 0.1713031512397918, 'subsample': 0.7840118558138027, 'colsample_bytree': 0.7741742584336306}.\n",
      "[I 2025-05-15 16:01:56,342] Trial 3 finished with values: [0.6814369258010067, 0.05552434132960738] and parameters: {'max_depth': 4, 'eta': 0.19994968470342026, 'subsample': 0.9962043443800851, 'colsample_bytree': 0.9516987533849433}.\n",
      "[I 2025-05-15 16:01:56,468] Trial 4 finished with values: [0.6685843649385937, 0.04392623577979588] and parameters: {'max_depth': 3, 'eta': 0.18285492711040377, 'subsample': 0.79453973981137, 'colsample_bytree': 0.7741914446597611}.\n",
      "[I 2025-05-15 16:01:56,615] Trial 5 finished with values: [0.7100032778548737, 0.07509698575495716] and parameters: {'max_depth': 6, 'eta': 0.22483200218754934, 'subsample': 0.8527967917960613, 'colsample_bytree': 0.8485459324377469}.\n",
      "[I 2025-05-15 16:01:56,747] Trial 6 finished with values: [0.6721455857710463, 0.037106717508034244] and parameters: {'max_depth': 3, 'eta': 0.26979340258190765, 'subsample': 0.9828074411856704, 'colsample_bytree': 0.8834371532120414}.\n",
      "[I 2025-05-15 16:01:56,940] Trial 7 finished with values: [0.6871364108408158, 0.07500413141998465] and parameters: {'max_depth': 7, 'eta': 0.07487157195818646, 'subsample': 0.9238346142574606, 'colsample_bytree': 0.871948039528639}.\n",
      "[I 2025-05-15 16:01:57,080] Trial 8 finished with values: [0.667155281481958, 0.03370965344810898] and parameters: {'max_depth': 3, 'eta': 0.09214720498349054, 'subsample': 0.932826677913217, 'colsample_bytree': 0.8387866875207302}.\n",
      "[I 2025-05-15 16:01:57,216] Trial 9 finished with values: [0.6949971357062551, 0.06659510259595608] and parameters: {'max_depth': 4, 'eta': 0.2873727042479989, 'subsample': 0.6632582912578736, 'colsample_bytree': 0.6452277735466729}.\n",
      "[I 2025-05-15 16:01:57,220] A new study created in memory with name: no-name-a4046717-ee10-4748-b4f4-a0f548f687b8\n",
      "[I 2025-05-15 16:01:57,360] Trial 0 finished with values: [0.6764389629724935, 0.028200837693866904] and parameters: {'max_depth': 3, 'eta': 0.2820471972130018, 'subsample': 0.7009082207914723, 'colsample_bytree': 0.6662088702483187}.\n"
     ]
    },
    {
     "name": "stdout",
     "output_type": "stream",
     "text": [
      "Completed study for alpha=0.94\n"
     ]
    },
    {
     "name": "stderr",
     "output_type": "stream",
     "text": [
      "[I 2025-05-15 16:01:57,605] Trial 1 finished with values: [0.6749945624370085, 0.05764195388419969] and parameters: {'max_depth': 5, 'eta': 0.03782662133244334, 'subsample': 0.8287519661655315, 'colsample_bytree': 0.8301584541503748}.\n",
      "[I 2025-05-15 16:01:57,746] Trial 2 finished with values: [0.6757129334350388, 0.03507534536624962] and parameters: {'max_depth': 3, 'eta': 0.28843159508525923, 'subsample': 0.8244708844296244, 'colsample_bytree': 0.6388801795143965}.\n",
      "[I 2025-05-15 16:01:57,875] Trial 3 finished with values: [0.667858335401139, 0.057027926126970135] and parameters: {'max_depth': 3, 'eta': 0.2663064676692369, 'subsample': 0.612267941323311, 'colsample_bytree': 0.8455817747291122}.\n",
      "[I 2025-05-15 16:01:58,018] Trial 4 finished with values: [0.6907144804600026, 0.05291575016681647] and parameters: {'max_depth': 4, 'eta': 0.22930016434447137, 'subsample': 0.7947180005741209, 'colsample_bytree': 0.6372666779870687}.\n",
      "[I 2025-05-15 16:01:58,174] Trial 5 finished with values: [0.6885792796684159, 0.04974488109227208] and parameters: {'max_depth': 6, 'eta': 0.08359683124797503, 'subsample': 0.6775681671174849, 'colsample_bytree': 0.610065471127586}.\n",
      "[I 2025-05-15 16:01:58,322] Trial 6 finished with values: [0.7000027570741928, 0.10764688060553834] and parameters: {'max_depth': 5, 'eta': 0.22104537308637792, 'subsample': 0.9083443414684081, 'colsample_bytree': 0.740349206178972}.\n",
      "[I 2025-05-15 16:01:58,483] Trial 7 finished with values: [0.6885685577132215, 0.05458179895292289] and parameters: {'max_depth': 5, 'eta': 0.09597277749956336, 'subsample': 0.922025396064908, 'colsample_bytree': 0.9754411479992728}.\n",
      "[I 2025-05-15 16:01:58,624] Trial 8 finished with values: [0.6742930402257125, 0.05830520910667033] and parameters: {'max_depth': 3, 'eta': 0.2193855413783264, 'subsample': 0.6719483792407936, 'colsample_bytree': 0.8605435293931152}.\n",
      "[I 2025-05-15 16:01:58,749] Trial 9 finished with values: [0.6714364050203256, 0.02717247523860311] and parameters: {'max_depth': 3, 'eta': 0.15134844573466605, 'subsample': 0.9590702900382249, 'colsample_bytree': 0.7919986405644327}.\n",
      "[I 2025-05-15 16:01:58,754] A new study created in memory with name: no-name-0fd83b41-cd91-48fe-a6c6-e798051ca693\n",
      "[I 2025-05-15 16:01:58,895] Trial 0 finished with values: [0.6664384421918128, 0.026744913752905802] and parameters: {'max_depth': 3, 'eta': 0.12308724013477411, 'subsample': 0.8692819447677508, 'colsample_bytree': 0.6282935227753077}.\n"
     ]
    },
    {
     "name": "stdout",
     "output_type": "stream",
     "text": [
      "Completed study for alpha=0.95\n"
     ]
    },
    {
     "name": "stderr",
     "output_type": "stream",
     "text": [
      "[I 2025-05-15 16:01:59,070] Trial 1 finished with values: [0.7078481648607831, 0.0656812279886222] and parameters: {'max_depth': 7, 'eta': 0.20607018123062584, 'subsample': 0.9223079555893391, 'colsample_bytree': 0.6147802871965631}.\n",
      "[I 2025-05-15 16:01:59,326] Trial 2 finished with values: [0.6821430431359575, 0.06702878602643263] and parameters: {'max_depth': 6, 'eta': 0.02223919254660923, 'subsample': 0.7315962636480281, 'colsample_bytree': 0.8699187870233513}.\n",
      "[I 2025-05-15 16:01:59,479] Trial 3 finished with values: [0.6900052997092819, 0.0819029140492519] and parameters: {'max_depth': 5, 'eta': 0.23716031707640145, 'subsample': 0.7476121929438398, 'colsample_bytree': 0.7924888805259438}.\n",
      "[I 2025-05-15 16:01:59,621] Trial 4 finished with values: [0.6978644928668364, 0.07873846041120859] and parameters: {'max_depth': 5, 'eta': 0.22463030180705365, 'subsample': 0.8549644798619322, 'colsample_bytree': 0.6409634540830496}.\n",
      "[I 2025-05-15 16:01:59,749] Trial 5 finished with values: [0.6928665300383234, 0.06750315947281996] and parameters: {'max_depth': 4, 'eta': 0.2699168811725193, 'subsample': 0.7552519363540926, 'colsample_bytree': 0.6382589140389685}.\n",
      "[I 2025-05-15 16:01:59,996] Trial 6 finished with values: [0.691425192918608, 0.05832867092179164] and parameters: {'max_depth': 7, 'eta': 0.027962843461310075, 'subsample': 0.8371194342863928, 'colsample_bytree': 0.9838366150151711}.\n",
      "[I 2025-05-15 16:02:00,163] Trial 7 finished with values: [0.6942833598318797, 0.07596412517395396] and parameters: {'max_depth': 7, 'eta': 0.1731571984603618, 'subsample': 0.6886596073210557, 'colsample_bytree': 0.6441056425007488}.\n",
      "[I 2025-05-15 16:02:00,316] Trial 8 finished with values: [0.6821522333832669, 0.06017807564470052] and parameters: {'max_depth': 5, 'eta': 0.13910109640201632, 'subsample': 0.6497502551903386, 'colsample_bytree': 0.9573608453755544}.\n",
      "[I 2025-05-15 16:02:00,471] Trial 9 finished with values: [0.7235558292206976, 0.08915541946109291] and parameters: {'max_depth': 6, 'eta': 0.27879066696843724, 'subsample': 0.9111198651037867, 'colsample_bytree': 0.858007660158868}.\n",
      "[I 2025-05-15 16:02:00,476] A new study created in memory with name: no-name-043d9b43-3180-4fae-afd7-69af2ef73ed6\n",
      "[I 2025-05-15 16:02:00,609] Trial 0 finished with values: [0.6750083478079728, 0.034656908704243795] and parameters: {'max_depth': 4, 'eta': 0.11594264555002541, 'subsample': 0.8950772007938734, 'colsample_bytree': 0.7223991134662422}.\n"
     ]
    },
    {
     "name": "stdout",
     "output_type": "stream",
     "text": [
      "Completed study for alpha=0.96\n"
     ]
    },
    {
     "name": "stderr",
     "output_type": "stream",
     "text": [
      "[I 2025-05-15 16:02:00,745] Trial 1 finished with values: [0.6693012042287392, 0.03917855920529415] and parameters: {'max_depth': 3, 'eta': 0.1443368944419235, 'subsample': 0.6152305083700397, 'colsample_bytree': 0.6948814105445958}.\n",
      "[I 2025-05-15 16:02:00,915] Trial 2 finished with values: [0.6807154913872067, 0.06166070159878676] and parameters: {'max_depth': 5, 'eta': 0.07129248247313927, 'subsample': 0.8476269269406751, 'colsample_bytree': 0.8494006614753967}.\n",
      "[I 2025-05-15 16:02:01,067] Trial 3 finished with values: [0.6593006834480583, 0.04022252765882231] and parameters: {'max_depth': 3, 'eta': 0.07072518908768227, 'subsample': 0.6182473341962058, 'colsample_bytree': 0.7742330975837172}.\n",
      "[I 2025-05-15 16:02:01,215] Trial 4 finished with values: [0.6957170384121704, 0.06682861669998301] and parameters: {'max_depth': 5, 'eta': 0.2689239665832004, 'subsample': 0.9506123501444524, 'colsample_bytree': 0.8635191433274512}.\n",
      "[I 2025-05-15 16:02:01,350] Trial 5 finished with values: [0.6607297669046941, 0.033761610927909864] and parameters: {'max_depth': 3, 'eta': 0.08363643172724808, 'subsample': 0.8670770852241778, 'colsample_bytree': 0.6849466641209434}.\n",
      "[I 2025-05-15 16:02:01,546] Trial 6 finished with values: [0.6928619349146686, 0.0640947560539061] and parameters: {'max_depth': 5, 'eta': 0.18793945908830145, 'subsample': 0.7438674019062745, 'colsample_bytree': 0.9837340620566586}.\n",
      "[I 2025-05-15 16:02:01,693] Trial 7 finished with values: [0.7071359206942925, 0.09463178116566622] and parameters: {'max_depth': 7, 'eta': 0.2310532323372982, 'subsample': 0.7999221157406871, 'colsample_bytree': 0.6688874140082576}.\n",
      "[I 2025-05-15 16:02:01,848] Trial 8 finished with values: [0.6957124432885156, 0.07011200363778165] and parameters: {'max_depth': 6, 'eta': 0.08802760735854212, 'subsample': 0.8478079250002869, 'colsample_bytree': 0.8982893605705042}.\n",
      "[I 2025-05-15 16:02:02,008] Trial 9 finished with values: [0.7207068525547355, 0.09251630395270712] and parameters: {'max_depth': 7, 'eta': 0.22021274110693698, 'subsample': 0.9049576517005241, 'colsample_bytree': 0.8795894643339623}.\n",
      "[I 2025-05-15 16:02:02,012] A new study created in memory with name: no-name-13557452-2836-4738-9e1a-68ebc96db106\n",
      "[I 2025-05-15 16:02:02,181] Trial 0 finished with values: [0.7035624461987605, 0.08307006300978756] and parameters: {'max_depth': 7, 'eta': 0.1877250390829189, 'subsample': 0.931205517997417, 'colsample_bytree': 0.7586580023908405}.\n"
     ]
    },
    {
     "name": "stdout",
     "output_type": "stream",
     "text": [
      "Completed study for alpha=0.97\n"
     ]
    },
    {
     "name": "stderr",
     "output_type": "stream",
     "text": [
      "[I 2025-05-15 16:02:02,313] Trial 1 finished with values: [0.6635894655258506, 0.040130647515490954] and parameters: {'max_depth': 3, 'eta': 0.09772634185056497, 'subsample': 0.8526910035499203, 'colsample_bytree': 0.799091059314207}.\n",
      "[I 2025-05-15 16:02:02,473] Trial 2 finished with values: [0.7028731776505439, 0.08761654263355888] and parameters: {'max_depth': 7, 'eta': 0.15203647392692843, 'subsample': 0.6104409560261979, 'colsample_bytree': 0.7652869368142077}.\n",
      "[I 2025-05-15 16:02:02,632] Trial 3 finished with values: [0.660008332490894, 0.0295628788683224] and parameters: {'max_depth': 3, 'eta': 0.05091741605098322, 'subsample': 0.7013827198519259, 'colsample_bytree': 0.7216115749033178}.\n",
      "[I 2025-05-15 16:02:02,787] Trial 4 finished with values: [0.6550149647860357, 0.014388192206827946] and parameters: {'max_depth': 3, 'eta': 0.03038324629540766, 'subsample': 0.9047381804188915, 'colsample_bytree': 0.9974700460775172}.\n",
      "[I 2025-05-15 16:02:02,914] Trial 5 finished with values: [0.6693012042287391, 0.04761040517122356] and parameters: {'max_depth': 3, 'eta': 0.29096268288117816, 'subsample': 0.7034287504047811, 'colsample_bytree': 0.6534371913371549}.\n",
      "[I 2025-05-15 16:02:03,054] Trial 6 finished with values: [0.6857149859236046, 0.06300024384302781] and parameters: {'max_depth': 4, 'eta': 0.24597244014111233, 'subsample': 0.9832692759955188, 'colsample_bytree': 0.8306708252539661}.\n",
      "[I 2025-05-15 16:02:03,216] Trial 7 finished with values: [0.6821461065517274, 0.06715607733764915] and parameters: {'max_depth': 5, 'eta': 0.09084140486941644, 'subsample': 0.8326021027471926, 'colsample_bytree': 0.7423333616134882}.\n",
      "[I 2025-05-15 16:02:03,339] Trial 8 finished with values: [0.6835767217162481, 0.054908234721013915] and parameters: {'max_depth': 4, 'eta': 0.1680726215787699, 'subsample': 0.6906447376726997, 'colsample_bytree': 0.9371072015394426}.\n",
      "[I 2025-05-15 16:02:03,518] Trial 9 finished with values: [0.6792955981778803, 0.05160384120012965] and parameters: {'max_depth': 5, 'eta': 0.07412390733176945, 'subsample': 0.6235163031496849, 'colsample_bytree': 0.6215095631585555}.\n",
      "[I 2025-05-15 16:02:03,522] A new study created in memory with name: no-name-4e6a3bb9-b9d2-437f-86fa-8501b244654d\n",
      "[I 2025-05-15 16:02:03,679] Trial 0 finished with values: [0.7092711214858792, 0.0826070383479622] and parameters: {'max_depth': 7, 'eta': 0.19321863984460214, 'subsample': 0.6918824899741468, 'colsample_bytree': 0.8785827745903472}.\n"
     ]
    },
    {
     "name": "stdout",
     "output_type": "stream",
     "text": [
      "Completed study for alpha=0.98\n"
     ]
    },
    {
     "name": "stderr",
     "output_type": "stream",
     "text": [
      "[I 2025-05-15 16:02:03,813] Trial 1 finished with values: [0.6678675256484485, 0.03833130745395059] and parameters: {'max_depth': 3, 'eta': 0.2440000162855522, 'subsample': 0.9746964700168641, 'colsample_bytree': 0.8824161200413989}.\n",
      "[I 2025-05-15 16:02:03,943] Trial 2 finished with values: [0.6857134542157196, 0.08274115871786776] and parameters: {'max_depth': 4, 'eta': 0.2637817934950271, 'subsample': 0.6834888074468948, 'colsample_bytree': 0.7942067934719065}.\n",
      "[I 2025-05-15 16:02:04,088] Trial 3 finished with values: [0.6864272300900951, 0.07442476296409668] and parameters: {'max_depth': 5, 'eta': 0.1270819680730535, 'subsample': 0.7230649833765055, 'colsample_bytree': 0.9026664272694651}.\n",
      "[I 2025-05-15 16:02:04,246] Trial 4 finished with values: [0.6971353999136117, 0.06243665285241878] and parameters: {'max_depth': 7, 'eta': 0.14917082073696242, 'subsample': 0.9435805293025702, 'colsample_bytree': 0.6115318426105149}.\n",
      "[I 2025-05-15 16:02:04,387] Trial 5 finished with values: [0.7207068525547357, 0.09816955798389877] and parameters: {'max_depth': 6, 'eta': 0.257384031805245, 'subsample': 0.8859318468600801, 'colsample_bytree': 0.7438696454662903}.\n",
      "[I 2025-05-15 16:02:04,509] Trial 6 finished with values: [0.6650017001957523, 0.042871119902025995] and parameters: {'max_depth': 3, 'eta': 0.19125602729132182, 'subsample': 0.8795948650542451, 'colsample_bytree': 0.8412483075825316}.\n",
      "[I 2025-05-15 16:02:04,685] Trial 7 finished with values: [0.7042838806125605, 0.0849583629633917] and parameters: {'max_depth': 7, 'eta': 0.084120225478987, 'subsample': 0.7147152820000127, 'colsample_bytree': 0.9979907278629021}.\n",
      "[I 2025-05-15 16:02:04,818] Trial 8 finished with values: [0.6721455857710463, 0.04627866216379282] and parameters: {'max_depth': 4, 'eta': 0.13993036988017737, 'subsample': 0.7782356781471289, 'colsample_bytree': 0.8139874122830489}.\n",
      "[I 2025-05-15 16:02:04,971] Trial 9 finished with values: [0.704274690365251, 0.08664248056642376] and parameters: {'max_depth': 7, 'eta': 0.13646140638375004, 'subsample': 0.8896066331854797, 'colsample_bytree': 0.8457606371899203}.\n",
      "[I 2025-05-15 16:02:04,976] A new study created in memory with name: no-name-67179f80-df00-4a91-8cf6-30f8b6c202cb\n",
      "[I 2025-05-15 16:02:05,167] Trial 0 finished with values: [0.6764343678488388, 0.056455991477075536] and parameters: {'max_depth': 5, 'eta': 0.044887866262821166, 'subsample': 0.8094512330979677, 'colsample_bytree': 0.8954475923314805}.\n"
     ]
    },
    {
     "name": "stdout",
     "output_type": "stream",
     "text": [
      "Completed study for alpha=0.99\n"
     ]
    },
    {
     "name": "stderr",
     "output_type": "stream",
     "text": [
      "[I 2025-05-15 16:02:05,582] Trial 1 finished with values: [0.6935634571259645, 0.08166426055103489] and parameters: {'max_depth': 7, 'eta': 0.011681836562825723, 'subsample': 0.947756995249263, 'colsample_bytree': 0.8498739788871004}.\n",
      "[I 2025-05-15 16:02:05,736] Trial 2 finished with values: [0.7035746998618398, 0.08811416806669899] and parameters: {'max_depth': 5, 'eta': 0.29992722957016227, 'subsample': 0.6743553630299758, 'colsample_bytree': 0.7342161105820793}.\n",
      "[I 2025-05-15 16:02:05,848] Trial 3 finished with values: [0.6664384421918127, 0.03461200648039473] and parameters: {'max_depth': 3, 'eta': 0.2172056569741549, 'subsample': 0.8923841631840115, 'colsample_bytree': 0.6601596667791629}.\n",
      "[I 2025-05-15 16:02:05,992] Trial 4 finished with values: [0.6921359053772136, 0.06616182238167867] and parameters: {'max_depth': 5, 'eta': 0.14235611798036324, 'subsample': 0.9262807154160297, 'colsample_bytree': 0.8947199568112114}.\n",
      "[I 2025-05-15 16:02:06,122] Trial 5 finished with values: [0.6692966091050844, 0.033395377242703694] and parameters: {'max_depth': 3, 'eta': 0.22464637169073612, 'subsample': 0.8906807575534699, 'colsample_bytree': 0.9565573477763436}.\n",
      "[I 2025-05-15 16:02:06,267] Trial 6 finished with values: [0.6978583660352967, 0.053419465887247275] and parameters: {'max_depth': 5, 'eta': 0.20266587813160905, 'subsample': 0.8493414283966754, 'colsample_bytree': 0.9824719917886175}.\n",
      "[I 2025-05-15 16:02:06,419] Trial 7 finished with values: [0.6899945777540873, 0.06786904642808304] and parameters: {'max_depth': 5, 'eta': 0.23799487278054285, 'subsample': 0.7207139004291931, 'colsample_bytree': 0.6056840373575103}.\n",
      "[I 2025-05-15 16:02:06,577] Trial 8 finished with values: [0.6685736429833993, 0.0527035527208271] and parameters: {'max_depth': 5, 'eta': 0.07304656975672769, 'subsample': 0.9213633578189552, 'colsample_bytree': 0.6960727286137074}.\n",
      "[I 2025-05-15 16:02:06,738] Trial 9 finished with values: [0.7135706255188662, 0.07752260845936684] and parameters: {'max_depth': 5, 'eta': 0.2823921278324154, 'subsample': 0.9951542464852441, 'colsample_bytree': 0.975560369590547}.\n"
     ]
    },
    {
     "name": "stdout",
     "output_type": "stream",
     "text": [
      "Completed study for alpha=1.0\n",
      "Pareto-optimal solutions:\n",
      "Params: {'alpha': 0.0, 'max_depth': 6, 'eta': 0.16395389636146293, 'subsample': 0.8000194327801043, 'colsample_bytree': 0.6748470800330576}, Accuracy: 0.5000, DPD: 0.0000\n",
      "Params: {'alpha': 0.01, 'max_depth': 4, 'eta': 0.24688563768301078, 'subsample': 0.6086094519850038, 'colsample_bytree': 0.8988827726356343}, Accuracy: 0.5000, DPD: 0.0000\n",
      "Params: {'alpha': 0.02, 'max_depth': 4, 'eta': 0.09531837603665186, 'subsample': 0.642385317398397, 'colsample_bytree': 0.6949188032100334}, Accuracy: 0.5000, DPD: 0.0000\n",
      "Params: {'alpha': 0.03, 'max_depth': 4, 'eta': 0.09727112470519857, 'subsample': 0.6788574650935559, 'colsample_bytree': 0.9608639352269196}, Accuracy: 0.6707, DPD: 0.0130\n",
      "Params: {'alpha': 0.04, 'max_depth': 4, 'eta': 0.033693738058008856, 'subsample': 0.6035248461068744, 'colsample_bytree': 0.6947171582505717}, Accuracy: 0.6707, DPD: 0.0130\n",
      "Params: {'alpha': 0.18, 'max_depth': 7, 'eta': 0.1985942254147221, 'subsample': 0.7748356266634056, 'colsample_bytree': 0.8479416133867963}, Accuracy: 0.6786, DPD: 0.0147\n",
      "Params: {'alpha': 0.19, 'max_depth': 5, 'eta': 0.1539594662568843, 'subsample': 0.9240031607248933, 'colsample_bytree': 0.7211123883478682}, Accuracy: 0.6786, DPD: 0.0218\n",
      "Params: {'alpha': 0.23, 'max_depth': 6, 'eta': 0.20559647312341475, 'subsample': 0.7389183735487441, 'colsample_bytree': 0.696308036262023}, Accuracy: 0.6693, DPD: 0.0085\n",
      "Params: {'alpha': 0.24, 'max_depth': 6, 'eta': 0.16770989954978946, 'subsample': 0.7291253724008341, 'colsample_bytree': 0.716277258449924}, Accuracy: 0.6664, DPD: 0.0070\n",
      "Params: {'alpha': 0.4, 'max_depth': 7, 'eta': 0.19576142403313845, 'subsample': 0.8125899071242108, 'colsample_bytree': 0.6955264064155537}, Accuracy: 0.6836, DPD: 0.0328\n",
      "Params: {'alpha': 0.51, 'max_depth': 6, 'eta': 0.1845291117289626, 'subsample': 0.7877568532497576, 'colsample_bytree': 0.8327583265407974}, Accuracy: 0.6929, DPD: 0.0475\n",
      "Params: {'alpha': 0.53, 'max_depth': 4, 'eta': 0.2867729604315726, 'subsample': 0.6512198037353972, 'colsample_bytree': 0.972501946778826}, Accuracy: 0.6893, DPD: 0.0459\n",
      "Params: {'alpha': 0.55, 'max_depth': 6, 'eta': 0.1488856371922097, 'subsample': 0.835004684660824, 'colsample_bytree': 0.6290058955884875}, Accuracy: 0.6843, DPD: 0.0435\n",
      "Params: {'alpha': 0.61, 'max_depth': 7, 'eta': 0.2759869490369801, 'subsample': 0.9140868002259303, 'colsample_bytree': 0.6898343719987855}, Accuracy: 0.6978, DPD: 0.0529\n",
      "Params: {'alpha': 0.66, 'max_depth': 7, 'eta': 0.26490739201960084, 'subsample': 0.9651557380775593, 'colsample_bytree': 0.9308078663433392}, Accuracy: 0.7200, DPD: 0.0764\n",
      "Params: {'alpha': 0.68, 'max_depth': 7, 'eta': 0.2667934980749765, 'subsample': 0.8618090865166033, 'colsample_bytree': 0.6044763956169293}, Accuracy: 0.7121, DPD: 0.0655\n",
      "Params: {'alpha': 0.69, 'max_depth': 7, 'eta': 0.2755153727373603, 'subsample': 0.7580480718804258, 'colsample_bytree': 0.9450678369997018}, Accuracy: 0.7000, DPD: 0.0619\n",
      "Params: {'alpha': 0.71, 'max_depth': 6, 'eta': 0.2854228353198601, 'subsample': 0.8230214801236968, 'colsample_bytree': 0.7563931702036777}, Accuracy: 0.7193, DPD: 0.0759\n",
      "Params: {'alpha': 0.86, 'max_depth': 7, 'eta': 0.2620498405044256, 'subsample': 0.8398999519313983, 'colsample_bytree': 0.6626399442314244}, Accuracy: 0.7157, DPD: 0.0680\n",
      "Params: {'alpha': 0.89, 'max_depth': 7, 'eta': 0.22796919571311014, 'subsample': 0.8709941552967375, 'colsample_bytree': 0.9608129442936656}, Accuracy: 0.7221, DPD: 0.0831\n",
      "Params: {'alpha': 0.96, 'max_depth': 6, 'eta': 0.27879066696843724, 'subsample': 0.9111198651037867, 'colsample_bytree': 0.858007660158868}, Accuracy: 0.7236, DPD: 0.0892\n"
     ]
    }
   ],
   "source": [
    "\n",
    "# Create and run Optuna study for multi-objective optimization\n",
    "\n",
    "def test_loss(a,dpd,accuracy):\n",
    "    return (1-a)*(1-dpd) + a*accuracy\n",
    "\n",
    "def is_pareto_efficient(acc, dpd):\n",
    "    n_points = len(acc)\n",
    "    is_efficient = [True] * n_points\n",
    "    for i in range(n_points):\n",
    "        for j in range(n_points):\n",
    "            if (acc[j] >= acc[i] and dpd[j] <= dpd[i]) and (acc[j] > acc[i] or dpd[j] < dpd[i]):\n",
    "                is_efficient[i] = False\n",
    "                break\n",
    "    return is_efficient\n",
    "#adaptive weights based on distance\n",
    "\n",
    "results = []\n",
    "count_alpha = 100\n",
    "trials_per_alpha = 10\n",
    "for i in range(count_alpha+1):\n",
    "    alpha = i/count_alpha\n",
    "    study = optuna.create_study(directions=['maximize', 'minimize'])\n",
    "    objective = create_objective_function(alpha=alpha)  # Example alpha value\n",
    "    study.optimize(objective, n_trials=trials_per_alpha)\n",
    "    print(f\"Completed study for alpha={alpha}\")\n",
    "    max_val = 0\n",
    "    for trial in study.best_trials:\n",
    "        val = test_loss(alpha,trial.values[1],trial.values[0])\n",
    "        if val > max_val:\n",
    "            max_val = val\n",
    "            best_trial = trial\n",
    "    results.append({\n",
    "        'accuracy': best_trial.values[0],\n",
    "        'dpd': best_trial.values[1],\n",
    "        'alpha': alpha,\n",
    "        'params': best_trial.user_attrs['params']\n",
    "    })\n",
    "\n",
    "acc = [res['accuracy'] for res in results]\n",
    "dpd = [res['dpd'] for res in results]\n",
    "is_efficient = is_pareto_efficient(acc, dpd)\n",
    "# Filter results to only include Pareto-optimal solutions\n",
    "results = [res for res, efficient in zip(results, is_efficient) if efficient]\n",
    "    \n",
    "\n",
    "# Print summary of Pareto-optimal results\n",
    "print(\"Pareto-optimal solutions:\")\n",
    "for res in results:\n",
    "    print(f\"Params: {res['params']}, Accuracy: {res['accuracy']:.4f}, DPD: {res['dpd']:.4f}\")\n",
    "\n",
    "# Prepare data for plotting\n",
    "plot_df = pd.DataFrame({\n",
    "    'DPD': [res['dpd'] for res in results],\n",
    "    'Accuracy': [res['accuracy'] for res in results],\n",
    "    'alpha': [res['alpha'] for res in results]\n",
    "})\n",
    "\n"
   ]
  },
  {
   "cell_type": "code",
   "execution_count": 40,
   "id": "61fd02a8",
   "metadata": {},
   "outputs": [
    {
     "data": {
      "application/vnd.plotly.v1+json": {
       "config": {
        "plotlyServerURL": "https://plot.ly"
       },
       "data": [
        {
         "customdata": {
          "bdata": "AAAAAAAAAAB7FK5H4XqEP3sUrkfhepQ/uB6F61G4nj97FK5H4XqkPwrXo3A9Csc/UrgehetRyD9xPQrXo3DNP7gehetRuM4/mpmZmZmZ2T9SuB6F61HgP/YoXI/C9eA/mpmZmZmZ4T+F61G4HoXjPx+F61G4HuU/w/UoXI/C5T8UrkfhehTmP7gehetRuOY/hetRuB6F6z97FK5H4XrsP7gehetRuO4/",
          "dtype": "f8",
          "shape": "21, 1"
         },
         "hovertemplate": "DPD=%{x}<br>Accuracy=%{y}<br>alpha=%{marker.color}<extra></extra>",
         "legendgroup": "",
         "marker": {
          "color": {
           "bdata": "AAAAAAAAAAB7FK5H4XqEP3sUrkfhepQ/uB6F61G4nj97FK5H4XqkPwrXo3A9Csc/UrgehetRyD9xPQrXo3DNP7gehetRuM4/mpmZmZmZ2T9SuB6F61HgP/YoXI/C9eA/mpmZmZmZ4T+F61G4HoXjPx+F61G4HuU/w/UoXI/C5T8UrkfhehTmP7gehetRuOY/hetRuB6F6z97FK5H4XrsP7gehetRuO4/",
           "dtype": "f8"
          },
          "coloraxis": "coloraxis",
          "line": {
           "width": 0
          },
          "symbol": "circle"
         },
         "mode": "markers",
         "name": "",
         "orientation": "v",
         "showlegend": false,
         "type": "scatter",
         "x": {
          "bdata": "AAAAAAAAAAAAAAAAAAAAAAAAAAAAAAAAwC69A/CWij/ALr0D8JaKPxWliwOBK44/u2x9XMZPlj9gwAdb0H+BP1VTeFSJm3w/8M54l6PHoD9UdUWj7lSoPxOrYvAvfac/VKz5pmpGpj+8rGBybBerP42t4qerj7M/7KWo4vbBsD/lj3uitbGvP5WkppsNcLM/nXJsxv5msT/3Ar3uYUe1P+W32Lrj0rY/",
          "dtype": "f8"
         },
         "xaxis": "x",
         "y": {
          "bdata": "nlBR2QwA4D+eUFHZDADgP55QUdkMAOA/y86bTY925T/LzptNj3blPxw3gL3atuU/u4fRlue25T83cpzf02rlPyQG7H9zU+U/cIACStzf5T/0lTcB8CvmPzSptOKpDuY/MAjbwq7l5T8dRR2VxFTmP70ItusuCuc/lPQlsubJ5j/8ckCbcmbmP7DYNAZWBOc/jTwDwRzn5j+vPd+ryRvnP2io6o1eJ+c/",
          "dtype": "f8"
         },
         "yaxis": "y"
        }
       ],
       "layout": {
        "coloraxis": {
         "colorbar": {
          "title": {
           "text": "alpha"
          }
         },
         "colorscale": [
          [
           0,
           "#440154"
          ],
          [
           0.1111111111111111,
           "#482878"
          ],
          [
           0.2222222222222222,
           "#3e4989"
          ],
          [
           0.3333333333333333,
           "#31688e"
          ],
          [
           0.4444444444444444,
           "#26828e"
          ],
          [
           0.5555555555555556,
           "#1f9e89"
          ],
          [
           0.6666666666666666,
           "#35b779"
          ],
          [
           0.7777777777777778,
           "#6ece58"
          ],
          [
           0.8888888888888888,
           "#b5de2b"
          ],
          [
           1,
           "#fde725"
          ]
         ]
        },
        "legend": {
         "tracegroupgap": 0
        },
        "template": {
         "data": {
          "bar": [
           {
            "error_x": {
             "color": "#2a3f5f"
            },
            "error_y": {
             "color": "#2a3f5f"
            },
            "marker": {
             "line": {
              "color": "#E5ECF6",
              "width": 0.5
             },
             "pattern": {
              "fillmode": "overlay",
              "size": 10,
              "solidity": 0.2
             }
            },
            "type": "bar"
           }
          ],
          "barpolar": [
           {
            "marker": {
             "line": {
              "color": "#E5ECF6",
              "width": 0.5
             },
             "pattern": {
              "fillmode": "overlay",
              "size": 10,
              "solidity": 0.2
             }
            },
            "type": "barpolar"
           }
          ],
          "carpet": [
           {
            "aaxis": {
             "endlinecolor": "#2a3f5f",
             "gridcolor": "white",
             "linecolor": "white",
             "minorgridcolor": "white",
             "startlinecolor": "#2a3f5f"
            },
            "baxis": {
             "endlinecolor": "#2a3f5f",
             "gridcolor": "white",
             "linecolor": "white",
             "minorgridcolor": "white",
             "startlinecolor": "#2a3f5f"
            },
            "type": "carpet"
           }
          ],
          "choropleth": [
           {
            "colorbar": {
             "outlinewidth": 0,
             "ticks": ""
            },
            "type": "choropleth"
           }
          ],
          "contour": [
           {
            "colorbar": {
             "outlinewidth": 0,
             "ticks": ""
            },
            "colorscale": [
             [
              0,
              "#0d0887"
             ],
             [
              0.1111111111111111,
              "#46039f"
             ],
             [
              0.2222222222222222,
              "#7201a8"
             ],
             [
              0.3333333333333333,
              "#9c179e"
             ],
             [
              0.4444444444444444,
              "#bd3786"
             ],
             [
              0.5555555555555556,
              "#d8576b"
             ],
             [
              0.6666666666666666,
              "#ed7953"
             ],
             [
              0.7777777777777778,
              "#fb9f3a"
             ],
             [
              0.8888888888888888,
              "#fdca26"
             ],
             [
              1,
              "#f0f921"
             ]
            ],
            "type": "contour"
           }
          ],
          "contourcarpet": [
           {
            "colorbar": {
             "outlinewidth": 0,
             "ticks": ""
            },
            "type": "contourcarpet"
           }
          ],
          "heatmap": [
           {
            "colorbar": {
             "outlinewidth": 0,
             "ticks": ""
            },
            "colorscale": [
             [
              0,
              "#0d0887"
             ],
             [
              0.1111111111111111,
              "#46039f"
             ],
             [
              0.2222222222222222,
              "#7201a8"
             ],
             [
              0.3333333333333333,
              "#9c179e"
             ],
             [
              0.4444444444444444,
              "#bd3786"
             ],
             [
              0.5555555555555556,
              "#d8576b"
             ],
             [
              0.6666666666666666,
              "#ed7953"
             ],
             [
              0.7777777777777778,
              "#fb9f3a"
             ],
             [
              0.8888888888888888,
              "#fdca26"
             ],
             [
              1,
              "#f0f921"
             ]
            ],
            "type": "heatmap"
           }
          ],
          "histogram": [
           {
            "marker": {
             "pattern": {
              "fillmode": "overlay",
              "size": 10,
              "solidity": 0.2
             }
            },
            "type": "histogram"
           }
          ],
          "histogram2d": [
           {
            "colorbar": {
             "outlinewidth": 0,
             "ticks": ""
            },
            "colorscale": [
             [
              0,
              "#0d0887"
             ],
             [
              0.1111111111111111,
              "#46039f"
             ],
             [
              0.2222222222222222,
              "#7201a8"
             ],
             [
              0.3333333333333333,
              "#9c179e"
             ],
             [
              0.4444444444444444,
              "#bd3786"
             ],
             [
              0.5555555555555556,
              "#d8576b"
             ],
             [
              0.6666666666666666,
              "#ed7953"
             ],
             [
              0.7777777777777778,
              "#fb9f3a"
             ],
             [
              0.8888888888888888,
              "#fdca26"
             ],
             [
              1,
              "#f0f921"
             ]
            ],
            "type": "histogram2d"
           }
          ],
          "histogram2dcontour": [
           {
            "colorbar": {
             "outlinewidth": 0,
             "ticks": ""
            },
            "colorscale": [
             [
              0,
              "#0d0887"
             ],
             [
              0.1111111111111111,
              "#46039f"
             ],
             [
              0.2222222222222222,
              "#7201a8"
             ],
             [
              0.3333333333333333,
              "#9c179e"
             ],
             [
              0.4444444444444444,
              "#bd3786"
             ],
             [
              0.5555555555555556,
              "#d8576b"
             ],
             [
              0.6666666666666666,
              "#ed7953"
             ],
             [
              0.7777777777777778,
              "#fb9f3a"
             ],
             [
              0.8888888888888888,
              "#fdca26"
             ],
             [
              1,
              "#f0f921"
             ]
            ],
            "type": "histogram2dcontour"
           }
          ],
          "mesh3d": [
           {
            "colorbar": {
             "outlinewidth": 0,
             "ticks": ""
            },
            "type": "mesh3d"
           }
          ],
          "parcoords": [
           {
            "line": {
             "colorbar": {
              "outlinewidth": 0,
              "ticks": ""
             }
            },
            "type": "parcoords"
           }
          ],
          "pie": [
           {
            "automargin": true,
            "type": "pie"
           }
          ],
          "scatter": [
           {
            "fillpattern": {
             "fillmode": "overlay",
             "size": 10,
             "solidity": 0.2
            },
            "type": "scatter"
           }
          ],
          "scatter3d": [
           {
            "line": {
             "colorbar": {
              "outlinewidth": 0,
              "ticks": ""
             }
            },
            "marker": {
             "colorbar": {
              "outlinewidth": 0,
              "ticks": ""
             }
            },
            "type": "scatter3d"
           }
          ],
          "scattercarpet": [
           {
            "marker": {
             "colorbar": {
              "outlinewidth": 0,
              "ticks": ""
             }
            },
            "type": "scattercarpet"
           }
          ],
          "scattergeo": [
           {
            "marker": {
             "colorbar": {
              "outlinewidth": 0,
              "ticks": ""
             }
            },
            "type": "scattergeo"
           }
          ],
          "scattergl": [
           {
            "marker": {
             "colorbar": {
              "outlinewidth": 0,
              "ticks": ""
             }
            },
            "type": "scattergl"
           }
          ],
          "scattermap": [
           {
            "marker": {
             "colorbar": {
              "outlinewidth": 0,
              "ticks": ""
             }
            },
            "type": "scattermap"
           }
          ],
          "scattermapbox": [
           {
            "marker": {
             "colorbar": {
              "outlinewidth": 0,
              "ticks": ""
             }
            },
            "type": "scattermapbox"
           }
          ],
          "scatterpolar": [
           {
            "marker": {
             "colorbar": {
              "outlinewidth": 0,
              "ticks": ""
             }
            },
            "type": "scatterpolar"
           }
          ],
          "scatterpolargl": [
           {
            "marker": {
             "colorbar": {
              "outlinewidth": 0,
              "ticks": ""
             }
            },
            "type": "scatterpolargl"
           }
          ],
          "scatterternary": [
           {
            "marker": {
             "colorbar": {
              "outlinewidth": 0,
              "ticks": ""
             }
            },
            "type": "scatterternary"
           }
          ],
          "surface": [
           {
            "colorbar": {
             "outlinewidth": 0,
             "ticks": ""
            },
            "colorscale": [
             [
              0,
              "#0d0887"
             ],
             [
              0.1111111111111111,
              "#46039f"
             ],
             [
              0.2222222222222222,
              "#7201a8"
             ],
             [
              0.3333333333333333,
              "#9c179e"
             ],
             [
              0.4444444444444444,
              "#bd3786"
             ],
             [
              0.5555555555555556,
              "#d8576b"
             ],
             [
              0.6666666666666666,
              "#ed7953"
             ],
             [
              0.7777777777777778,
              "#fb9f3a"
             ],
             [
              0.8888888888888888,
              "#fdca26"
             ],
             [
              1,
              "#f0f921"
             ]
            ],
            "type": "surface"
           }
          ],
          "table": [
           {
            "cells": {
             "fill": {
              "color": "#EBF0F8"
             },
             "line": {
              "color": "white"
             }
            },
            "header": {
             "fill": {
              "color": "#C8D4E3"
             },
             "line": {
              "color": "white"
             }
            },
            "type": "table"
           }
          ]
         },
         "layout": {
          "annotationdefaults": {
           "arrowcolor": "#2a3f5f",
           "arrowhead": 0,
           "arrowwidth": 1
          },
          "autotypenumbers": "strict",
          "coloraxis": {
           "colorbar": {
            "outlinewidth": 0,
            "ticks": ""
           }
          },
          "colorscale": {
           "diverging": [
            [
             0,
             "#8e0152"
            ],
            [
             0.1,
             "#c51b7d"
            ],
            [
             0.2,
             "#de77ae"
            ],
            [
             0.3,
             "#f1b6da"
            ],
            [
             0.4,
             "#fde0ef"
            ],
            [
             0.5,
             "#f7f7f7"
            ],
            [
             0.6,
             "#e6f5d0"
            ],
            [
             0.7,
             "#b8e186"
            ],
            [
             0.8,
             "#7fbc41"
            ],
            [
             0.9,
             "#4d9221"
            ],
            [
             1,
             "#276419"
            ]
           ],
           "sequential": [
            [
             0,
             "#0d0887"
            ],
            [
             0.1111111111111111,
             "#46039f"
            ],
            [
             0.2222222222222222,
             "#7201a8"
            ],
            [
             0.3333333333333333,
             "#9c179e"
            ],
            [
             0.4444444444444444,
             "#bd3786"
            ],
            [
             0.5555555555555556,
             "#d8576b"
            ],
            [
             0.6666666666666666,
             "#ed7953"
            ],
            [
             0.7777777777777778,
             "#fb9f3a"
            ],
            [
             0.8888888888888888,
             "#fdca26"
            ],
            [
             1,
             "#f0f921"
            ]
           ],
           "sequentialminus": [
            [
             0,
             "#0d0887"
            ],
            [
             0.1111111111111111,
             "#46039f"
            ],
            [
             0.2222222222222222,
             "#7201a8"
            ],
            [
             0.3333333333333333,
             "#9c179e"
            ],
            [
             0.4444444444444444,
             "#bd3786"
            ],
            [
             0.5555555555555556,
             "#d8576b"
            ],
            [
             0.6666666666666666,
             "#ed7953"
            ],
            [
             0.7777777777777778,
             "#fb9f3a"
            ],
            [
             0.8888888888888888,
             "#fdca26"
            ],
            [
             1,
             "#f0f921"
            ]
           ]
          },
          "colorway": [
           "#636efa",
           "#EF553B",
           "#00cc96",
           "#ab63fa",
           "#FFA15A",
           "#19d3f3",
           "#FF6692",
           "#B6E880",
           "#FF97FF",
           "#FECB52"
          ],
          "font": {
           "color": "#2a3f5f"
          },
          "geo": {
           "bgcolor": "white",
           "lakecolor": "white",
           "landcolor": "#E5ECF6",
           "showlakes": true,
           "showland": true,
           "subunitcolor": "white"
          },
          "hoverlabel": {
           "align": "left"
          },
          "hovermode": "closest",
          "mapbox": {
           "style": "light"
          },
          "paper_bgcolor": "white",
          "plot_bgcolor": "#E5ECF6",
          "polar": {
           "angularaxis": {
            "gridcolor": "white",
            "linecolor": "white",
            "ticks": ""
           },
           "bgcolor": "#E5ECF6",
           "radialaxis": {
            "gridcolor": "white",
            "linecolor": "white",
            "ticks": ""
           }
          },
          "scene": {
           "xaxis": {
            "backgroundcolor": "#E5ECF6",
            "gridcolor": "white",
            "gridwidth": 2,
            "linecolor": "white",
            "showbackground": true,
            "ticks": "",
            "zerolinecolor": "white"
           },
           "yaxis": {
            "backgroundcolor": "#E5ECF6",
            "gridcolor": "white",
            "gridwidth": 2,
            "linecolor": "white",
            "showbackground": true,
            "ticks": "",
            "zerolinecolor": "white"
           },
           "zaxis": {
            "backgroundcolor": "#E5ECF6",
            "gridcolor": "white",
            "gridwidth": 2,
            "linecolor": "white",
            "showbackground": true,
            "ticks": "",
            "zerolinecolor": "white"
           }
          },
          "shapedefaults": {
           "line": {
            "color": "#2a3f5f"
           }
          },
          "ternary": {
           "aaxis": {
            "gridcolor": "white",
            "linecolor": "white",
            "ticks": ""
           },
           "baxis": {
            "gridcolor": "white",
            "linecolor": "white",
            "ticks": ""
           },
           "bgcolor": "#E5ECF6",
           "caxis": {
            "gridcolor": "white",
            "linecolor": "white",
            "ticks": ""
           }
          },
          "title": {
           "x": 0.05
          },
          "xaxis": {
           "automargin": true,
           "gridcolor": "white",
           "linecolor": "white",
           "ticks": "",
           "title": {
            "standoff": 15
           },
           "zerolinecolor": "white",
           "zerolinewidth": 2
          },
          "yaxis": {
           "automargin": true,
           "gridcolor": "white",
           "linecolor": "white",
           "ticks": "",
           "title": {
            "standoff": 15
           },
           "zerolinecolor": "white",
           "zerolinewidth": 2
          }
         }
        },
        "title": {
         "text": "Pareto Front: DPD vs. Accuracy"
        },
        "xaxis": {
         "anchor": "y",
         "domain": [
          0,
          1
         ],
         "title": {
          "text": "DPD"
         }
        },
        "yaxis": {
         "anchor": "x",
         "domain": [
          0,
          1
         ],
         "title": {
          "text": "Accuracy"
         }
        }
       }
      }
     },
     "metadata": {},
     "output_type": "display_data"
    }
   ],
   "source": [
    "# Create interactive Plotly plot\n",
    "fig = px.scatter(\n",
    "    plot_df,\n",
    "    x='DPD',\n",
    "    y='Accuracy',\n",
    "    color='alpha',\n",
    "    color_continuous_scale='Viridis',\n",
    "    size_max=15,\n",
    "    hover_data={'alpha': True, 'DPD': True, 'Accuracy': True},\n",
    "    title='Pareto Front: DPD vs. Accuracy'\n",
    ")\n",
    "fig.update_traces(marker=dict(line_width=0))\n",
    "fig.show()"
   ]
  },
  {
   "cell_type": "code",
   "execution_count": 30,
   "id": "80c815c5",
   "metadata": {},
   "outputs": [
    {
     "name": "stderr",
     "output_type": "stream",
     "text": [
      "[I 2025-05-15 04:47:08,768] A new study created in memory with name: no-name-81c9934b-2059-41fa-9a1d-ffa5aeeee5de\n",
      "[I 2025-05-15 04:47:08,897] Trial 0 finished with values: [0.6792971298857652, 0.08215217241285708] and parameters: {'max_depth': 5, 'eta': 0.14045260605383383, 'subsample': 0.6059859634768344, 'colsample_bytree': 0.9142953795430282}.\n",
      "[I 2025-05-15 04:47:08,995] Trial 1 finished with values: [0.6600175227382036, 0.015081357718660824] and parameters: {'max_depth': 3, 'eta': 0.05033127668007191, 'subsample': 0.7887078508400488, 'colsample_bytree': 0.8895195187557907}.\n",
      "[I 2025-05-15 04:47:09,066] Trial 2 finished with values: [0.6764435580961484, 0.04444123543631445] and parameters: {'max_depth': 3, 'eta': 0.2939283612519244, 'subsample': 0.8063484386283546, 'colsample_bytree': 0.951394948420871}.\n",
      "[I 2025-05-15 04:47:09,139] Trial 3 finished with values: [0.667858335401139, 0.05062834891783413] and parameters: {'max_depth': 4, 'eta': 0.11946224856843993, 'subsample': 0.8938040597589907, 'colsample_bytree': 0.84199181195118}.\n",
      "[I 2025-05-15 04:47:09,221] Trial 4 finished with values: [0.676429772725184, 0.07440415650242109] and parameters: {'max_depth': 6, 'eta': 0.13736230736609845, 'subsample': 0.9291745891569055, 'colsample_bytree': 0.7570304477869704}.\n",
      "[I 2025-05-15 04:47:09,298] Trial 5 finished with values: [0.6792910030542255, 0.08055369365573291] and parameters: {'max_depth': 5, 'eta': 0.23847044918359891, 'subsample': 0.7928627009208727, 'colsample_bytree': 0.8755925894979026}.\n",
      "[I 2025-05-15 04:47:09,377] Trial 6 finished with values: [0.6607267034889243, 0.019809572356481592] and parameters: {'max_depth': 3, 'eta': 0.04134842079936573, 'subsample': 0.6828208177420324, 'colsample_bytree': 0.9463891490229178}.\n",
      "[I 2025-05-15 04:47:09,446] Trial 7 finished with values: [0.6785848857192747, 0.041386456167300946] and parameters: {'max_depth': 4, 'eta': 0.1604362029471749, 'subsample': 0.8441938099050315, 'colsample_bytree': 0.6441993310896048}.\n",
      "[I 2025-05-15 04:47:09,563] Trial 8 finished with values: [0.6564409848269017, 0.02531715967860958] and parameters: {'max_depth': 3, 'eta': 0.013463787079253976, 'subsample': 0.7171019072545166, 'colsample_bytree': 0.7602164946322192}.\n",
      "[I 2025-05-15 04:47:09,659] Trial 9 finished with values: [0.6535874130372848, 0.023451625947881694] and parameters: {'max_depth': 3, 'eta': 0.023616051714016602, 'subsample': 0.9352133975888623, 'colsample_bytree': 0.7031781052885846}.\n",
      "[I 2025-05-15 04:47:09,739] Trial 10 finished with values: [0.6742853816862878, 0.0811093493534092] and parameters: {'max_depth': 6, 'eta': 0.110445341086033, 'subsample': 0.944133011032847, 'colsample_bytree': 0.8143058510228095}.\n",
      "[I 2025-05-15 04:47:09,807] Trial 11 finished with values: [0.663581806986426, 0.030440367080421287] and parameters: {'max_depth': 4, 'eta': 0.20849443049298186, 'subsample': 0.774436328324725, 'colsample_bytree': 0.7149367762471657}.\n",
      "[I 2025-05-15 04:47:09,925] Trial 12 finished with values: [0.6642925194450316, 0.05473041053645545] and parameters: {'max_depth': 6, 'eta': 0.0310989429045032, 'subsample': 0.881945806045443, 'colsample_bytree': 0.7880337693950031}.\n",
      "[I 2025-05-15 04:47:10,035] Trial 13 finished with values: [0.6807124279714367, 0.0640273990653568] and parameters: {'max_depth': 7, 'eta': 0.12184022529148268, 'subsample': 0.6132601302263808, 'colsample_bytree': 0.8166419389657287}.\n",
      "[I 2025-05-15 04:47:10,124] Trial 14 finished with values: [0.6671445595267634, 0.029393736206892118] and parameters: {'max_depth': 4, 'eta': 0.12361546140158018, 'subsample': 0.874635402780434, 'colsample_bytree': 0.9694436154006851}.\n",
      "[I 2025-05-15 04:47:10,217] Trial 15 finished with values: [0.6614435427790696, 0.03256077368960617] and parameters: {'max_depth': 3, 'eta': 0.07201006078350679, 'subsample': 0.6896184209315641, 'colsample_bytree': 0.7485869813824706}.\n",
      "[I 2025-05-15 04:47:10,320] Trial 16 finished with values: [0.6835813168399029, 0.07500545214194822] and parameters: {'max_depth': 5, 'eta': 0.2696553753652396, 'subsample': 0.8027756901814438, 'colsample_bytree': 0.8392617389177845}.\n",
      "[I 2025-05-15 04:47:10,430] Trial 17 finished with values: [0.7021394895736645, 0.06889120293765769] and parameters: {'max_depth': 7, 'eta': 0.2804130195047165, 'subsample': 0.8838936125401613, 'colsample_bytree': 0.7188154735379857}.\n",
      "[I 2025-05-15 04:47:10,513] Trial 18 finished with values: [0.6607267034889243, 0.013802175675359388] and parameters: {'max_depth': 3, 'eta': 0.1389252788142855, 'subsample': 0.7548312843089791, 'colsample_bytree': 0.8991412456822363}.\n",
      "[I 2025-05-15 04:47:10,614] Trial 19 finished with values: [0.6914236612107233, 0.053557117648193764] and parameters: {'max_depth': 5, 'eta': 0.2789019660094398, 'subsample': 0.8824040017757933, 'colsample_bytree': 0.6075094742604826}.\n",
      "[I 2025-05-15 04:47:10,704] Trial 20 finished with values: [0.6657185394858977, 0.025349919058560783] and parameters: {'max_depth': 3, 'eta': 0.2440573343812866, 'subsample': 0.8928369039040596, 'colsample_bytree': 0.8506835316959874}.\n",
      "[I 2025-05-15 04:47:10,816] Trial 21 finished with values: [0.6550149647860357, 0.034148291625446366] and parameters: {'max_depth': 3, 'eta': 0.028497190874173454, 'subsample': 0.905296188462051, 'colsample_bytree': 0.6509989945060869}.\n",
      "[I 2025-05-15 04:47:10,893] Trial 22 finished with values: [0.6642894560292617, 0.034996787520818966] and parameters: {'max_depth': 3, 'eta': 0.2707207711571431, 'subsample': 0.8746504000295612, 'colsample_bytree': 0.8913537905214264}.\n",
      "[I 2025-05-15 04:47:10,970] Trial 23 finished with values: [0.6714333416045558, 0.036549118439293315] and parameters: {'max_depth': 4, 'eta': 0.2100466164528633, 'subsample': 0.7720291228609981, 'colsample_bytree': 0.9964001749193679}.\n",
      "[I 2025-05-15 04:47:11,059] Trial 24 finished with values: [0.6578654731598828, 0.02911760900198661] and parameters: {'max_depth': 3, 'eta': 0.14976076073435085, 'subsample': 0.8557970471819547, 'colsample_bytree': 0.9986700672067291}.\n",
      "[I 2025-05-15 04:47:11,132] Trial 25 finished with values: [0.6650170172746016, 0.021271254394249667] and parameters: {'max_depth': 3, 'eta': 0.1032883706592161, 'subsample': 0.6376133826739548, 'colsample_bytree': 0.7997449474550162}.\n",
      "[I 2025-05-15 04:47:11,266] Trial 26 finished with values: [0.6714364050203258, 0.05933996382950685] and parameters: {'max_depth': 7, 'eta': 0.023600767670399196, 'subsample': 0.7253439608479386, 'colsample_bytree': 0.8626835093184344}.\n",
      "[I 2025-05-15 04:47:11,368] Trial 27 finished with values: [0.6771450803074445, 0.06083956485958549] and parameters: {'max_depth': 7, 'eta': 0.09562199767264444, 'subsample': 0.882757161017445, 'colsample_bytree': 0.7807568164517901}.\n",
      "[I 2025-05-15 04:47:11,447] Trial 28 finished with values: [0.6885639625895665, 0.04390875149438341] and parameters: {'max_depth': 4, 'eta': 0.2714574989051898, 'subsample': 0.9284415700920252, 'colsample_bytree': 0.8076193158434031}.\n",
      "[I 2025-05-15 04:47:11,549] Trial 29 finished with values: [0.670730287685375, 0.05199410652990114] and parameters: {'max_depth': 5, 'eta': 0.056021711971267346, 'subsample': 0.6109406440262554, 'colsample_bytree': 0.817535274795804}.\n",
      "[I 2025-05-15 04:47:11,638] Trial 30 finished with values: [0.6771496754310992, 0.030154663705938833] and parameters: {'max_depth': 5, 'eta': 0.13876136456637336, 'subsample': 0.8528202057299943, 'colsample_bytree': 0.9360151670723735}.\n",
      "[I 2025-05-15 04:47:11,734] Trial 31 finished with values: [0.6735823277671069, 0.0747810223803855] and parameters: {'max_depth': 5, 'eta': 0.1053994088946726, 'subsample': 0.8828178077946793, 'colsample_bytree': 0.9180770038919779}.\n",
      "[I 2025-05-15 04:47:11,819] Trial 32 finished with values: [0.665006295319407, 0.032320232587767866] and parameters: {'max_depth': 3, 'eta': 0.24688808587959246, 'subsample': 0.7057782567993811, 'colsample_bytree': 0.9869764436030006}.\n",
      "[I 2025-05-15 04:47:11,934] Trial 33 finished with values: [0.6714287464809011, 0.048204004020512926] and parameters: {'max_depth': 4, 'eta': 0.10659619965999723, 'subsample': 0.7869988336101803, 'colsample_bytree': 0.9552756560540941}.\n",
      "[I 2025-05-15 04:47:12,016] Trial 34 finished with values: [0.6714364050203258, 0.03976349099273125] and parameters: {'max_depth': 4, 'eta': 0.16468306714208492, 'subsample': 0.9036454408956829, 'colsample_bytree': 0.8689327462500707}.\n",
      "[I 2025-05-15 04:47:12,104] Trial 35 finished with values: [0.6814307989694669, 0.07330426895553964] and parameters: {'max_depth': 6, 'eta': 0.2436075380795166, 'subsample': 0.6840991076070875, 'colsample_bytree': 0.8828690432389185}.\n",
      "[I 2025-05-15 04:47:12,286] Trial 36 finished with values: [0.6699889410690708, 0.05242276097573695] and parameters: {'max_depth': 6, 'eta': 0.01350968490711867, 'subsample': 0.926999039909613, 'colsample_bytree': 0.9560560033314096}.\n",
      "[I 2025-05-15 04:47:12,395] Trial 37 finished with values: [0.6628481189095465, 0.04156654670811563] and parameters: {'max_depth': 6, 'eta': 0.04023058365902091, 'subsample': 0.9535184583149112, 'colsample_bytree': 0.9616275144636544}.\n",
      "[I 2025-05-15 04:47:12,484] Trial 38 finished with values: [0.6814292672615819, 0.08396612318796885] and parameters: {'max_depth': 7, 'eta': 0.1968051046028985, 'subsample': 0.6656836636409358, 'colsample_bytree': 0.7351583042296467}.\n",
      "[I 2025-05-15 04:47:12,573] Trial 39 finished with values: [0.6778496659345103, 0.059821484037927974] and parameters: {'max_depth': 7, 'eta': 0.11238599607624826, 'subsample': 0.8905685100826091, 'colsample_bytree': 0.8109107359676053}.\n",
      "[I 2025-05-15 04:47:12,651] Trial 40 finished with values: [0.6771496754310992, 0.04595550161650431] and parameters: {'max_depth': 4, 'eta': 0.2214734506393815, 'subsample': 0.9618582142698655, 'colsample_bytree': 0.7875245511639857}.\n",
      "[I 2025-05-15 04:47:12,733] Trial 41 finished with values: [0.6800017155128311, 0.04925368556508395] and parameters: {'max_depth': 5, 'eta': 0.18350251208444984, 'subsample': 0.8751610940744383, 'colsample_bytree': 0.8960318323088898}.\n",
      "[I 2025-05-15 04:47:12,811] Trial 42 finished with values: [0.6592930249086336, 0.03032585158852258] and parameters: {'max_depth': 4, 'eta': 0.14483951252697258, 'subsample': 0.7615057084025819, 'colsample_bytree': 0.7300101136168589}.\n",
      "[I 2025-05-15 04:47:12,910] Trial 43 finished with values: [0.6657231346095523, 0.03872707710692767] and parameters: {'max_depth': 5, 'eta': 0.043270450105139135, 'subsample': 0.8117960570290779, 'colsample_bytree': 0.94376663283755}.\n",
      "[I 2025-05-15 04:47:12,992] Trial 44 finished with values: [0.6842874341748537, 0.0384406915792934] and parameters: {'max_depth': 6, 'eta': 0.20020253145881808, 'subsample': 0.8267274788350784, 'colsample_bytree': 0.6612102025456387}.\n",
      "[I 2025-05-15 04:47:13,116] Trial 45 finished with values: [0.6742869133941728, 0.05675501590179236] and parameters: {'max_depth': 5, 'eta': 0.02267166981215426, 'subsample': 0.7757946157249633, 'colsample_bytree': 0.9383644075935141}.\n",
      "[I 2025-05-15 04:47:13,197] Trial 46 finished with values: [0.6721486491868163, 0.030365600260275582] and parameters: {'max_depth': 5, 'eta': 0.1589784128539931, 'subsample': 0.668293752819404, 'colsample_bytree': 0.724784641856099}.\n",
      "[I 2025-05-15 04:47:13,272] Trial 47 finished with values: [0.6685705795676294, 0.03957372087006677] and parameters: {'max_depth': 5, 'eta': 0.20050164998038844, 'subsample': 0.6818951506364179, 'colsample_bytree': 0.6106220485364899}.\n",
      "[I 2025-05-15 04:47:13,346] Trial 48 finished with values: [0.6807338718818258, 0.0580356333544047] and parameters: {'max_depth': 4, 'eta': 0.24939447314243995, 'subsample': 0.6365321637868088, 'colsample_bytree': 0.9283991190523991}.\n",
      "[I 2025-05-15 04:47:13,423] Trial 49 finished with values: [0.6814216087221574, 0.051955351014941344] and parameters: {'max_depth': 5, 'eta': 0.2707305488168811, 'subsample': 0.8547684372609258, 'colsample_bytree': 0.8445617692965017}.\n",
      "[I 2025-05-15 04:47:13,505] Trial 50 finished with values: [0.6921588809954876, 0.0571313135178478] and parameters: {'max_depth': 5, 'eta': 0.2939283612519244, 'subsample': 0.6818951506364179, 'colsample_bytree': 0.6589253591052271}.\n",
      "[I 2025-05-15 04:47:13,582] Trial 51 finished with values: [0.6700180435188844, 0.028461177561709194] and parameters: {'max_depth': 3, 'eta': 0.14976076073435085, 'subsample': 0.8557970471819547, 'colsample_bytree': 0.7031781052885846}.\n",
      "[I 2025-05-15 04:47:13,677] Trial 52 finished with values: [0.6764251776015292, 0.05995324168057773] and parameters: {'max_depth': 5, 'eta': 0.23640347393102348, 'subsample': 0.9679456160848078, 'colsample_bytree': 0.9120372564050997}.\n",
      "[I 2025-05-15 04:47:13,786] Trial 53 finished with values: [0.6857241761709142, 0.049283264650323434] and parameters: {'max_depth': 7, 'eta': 0.20020253145881808, 'subsample': 0.7128522758611269, 'colsample_bytree': 0.6612102025456387}.\n",
      "[I 2025-05-15 04:47:13,882] Trial 54 finished with values: [0.676429772725184, 0.04823216724276765] and parameters: {'max_depth': 4, 'eta': 0.20864185228941037, 'subsample': 0.6828208177420324, 'colsample_bytree': 0.9463891490229178}.\n",
      "[I 2025-05-15 04:47:13,992] Trial 55 finished with values: [0.6692782286104652, 0.05153930545560709] and parameters: {'max_depth': 7, 'eta': 0.11238599607624826, 'subsample': 0.7196140401106501, 'colsample_bytree': 0.8828690432389185}.\n",
      "[I 2025-05-15 04:47:14,077] Trial 56 finished with values: [0.6728654884769615, 0.02313666475881354] and parameters: {'max_depth': 3, 'eta': 0.10773079749960958, 'subsample': 0.7548312843089791, 'colsample_bytree': 0.6441993310896048}.\n",
      "[I 2025-05-15 04:47:14,164] Trial 57 finished with values: [0.6764374312646085, 0.06256237168181622] and parameters: {'max_depth': 4, 'eta': 0.20849443049298186, 'subsample': 0.774436328324725, 'colsample_bytree': 0.9137853897489617}.\n",
      "[I 2025-05-15 04:47:14,257] Trial 58 finished with values: [0.6642971145686865, 0.01650372926838047] and parameters: {'max_depth': 4, 'eta': 0.15203506191543273, 'subsample': 0.7615057084025819, 'colsample_bytree': 0.6202691769265432}.\n",
      "[I 2025-05-15 04:47:14,380] Trial 59 finished with values: [0.6707210974380654, 0.038007919526390405] and parameters: {'max_depth': 7, 'eta': 0.04134842079936573, 'subsample': 0.7057782567993811, 'colsample_bytree': 0.9869764436030006}.\n",
      "[I 2025-05-15 04:47:14,472] Trial 60 finished with values: [0.6742884451020577, 0.07542056077583138] and parameters: {'max_depth': 5, 'eta': 0.16468306714208492, 'subsample': 0.8938040597589907, 'colsample_bytree': 0.8689327462500707}.\n",
      "[I 2025-05-15 04:47:14,572] Trial 61 finished with values: [0.6564440482426716, 0.025714506076488564] and parameters: {'max_depth': 3, 'eta': 0.078889785857294, 'subsample': 0.8557970471819547, 'colsample_bytree': 0.8909627209565265}.\n",
      "[I 2025-05-15 04:47:14,672] Trial 62 finished with values: [0.6814277355536972, 0.04826801864110089] and parameters: {'max_depth': 6, 'eta': 0.1897422926593951, 'subsample': 0.6840991076070875, 'colsample_bytree': 0.9730373957409217}.\n",
      "[I 2025-05-15 04:47:14,762] Trial 63 finished with values: [0.6814323306773519, 0.04890057379267131] and parameters: {'max_depth': 6, 'eta': 0.1604362029471749, 'subsample': 0.8441938099050315, 'colsample_bytree': 0.6441993310896048}.\n",
      "[I 2025-05-15 04:47:14,869] Trial 64 finished with values: [0.6564394531190167, 0.04695483390173216] and parameters: {'max_depth': 4, 'eta': 0.023616051714016602, 'subsample': 0.9352133975888623, 'colsample_bytree': 0.7031781052885846}.\n",
      "[I 2025-05-15 04:47:14,978] Trial 65 finished with values: [0.6650139538588317, 0.05046373209188789] and parameters: {'max_depth': 4, 'eta': 0.02070971473904671, 'subsample': 0.8117960570290779, 'colsample_bytree': 0.6015691637129632}.\n",
      "[I 2025-05-15 04:47:15,051] Trial 66 finished with values: [0.6692920139814295, 0.02983575644965066] and parameters: {'max_depth': 3, 'eta': 0.2714574989051898, 'subsample': 0.9284415700920252, 'colsample_bytree': 0.8076193158434031}.\n",
      "[I 2025-05-15 04:47:15,131] Trial 67 finished with values: [0.6914236612107233, 0.053557117648193764] and parameters: {'max_depth': 5, 'eta': 0.2789019660094398, 'subsample': 0.8824040017757933, 'colsample_bytree': 0.6075094742604826}.\n",
      "[I 2025-05-15 04:47:15,214] Trial 68 finished with values: [0.6728654884769615, 0.03315236761703661] and parameters: {'max_depth': 6, 'eta': 0.11128728390837406, 'subsample': 0.8267274788350784, 'colsample_bytree': 0.6612102025456387}.\n",
      "[I 2025-05-15 04:47:15,293] Trial 69 finished with values: [0.6800078423443708, 0.06826040154992545] and parameters: {'max_depth': 5, 'eta': 0.2707207711571431, 'subsample': 0.8746504000295612, 'colsample_bytree': 0.8913537905214264}.\n",
      "[I 2025-05-15 04:47:15,370] Trial 70 finished with values: [0.6807200865108612, 0.0751198322141919] and parameters: {'max_depth': 5, 'eta': 0.20050164998038844, 'subsample': 0.9284415700920252, 'colsample_bytree': 0.8076193158434031}.\n",
      "[I 2025-05-15 04:47:15,542] Trial 71 finished with values: [0.6757190602665784, 0.050470247461346464] and parameters: {'max_depth': 6, 'eta': 0.01350968490711867, 'subsample': 0.6816624365138131, 'colsample_bytree': 0.9560560033314096}.\n",
      "[I 2025-05-15 04:47:15,621] Trial 72 finished with values: [0.6878563135467309, 0.06083136906332307] and parameters: {'max_depth': 5, 'eta': 0.2834888991218034, 'subsample': 0.8824040017757933, 'colsample_bytree': 0.6075094742604826}.\n",
      "[I 2025-05-15 04:47:15,697] Trial 73 finished with values: [0.6692858871498899, 0.05367865474115996] and parameters: {'max_depth': 5, 'eta': 0.1389252788142855, 'subsample': 0.7757946157249633, 'colsample_bytree': 0.8463869328875916}.\n",
      "[I 2025-05-15 04:47:15,836] Trial 74 finished with values: [0.6671338375715691, 0.05073710269864732] and parameters: {'max_depth': 5, 'eta': 0.01350968490711867, 'subsample': 0.926999039909613, 'colsample_bytree': 0.9560560033314096}.\n",
      "[I 2025-05-15 04:47:15,944] Trial 75 finished with values: [0.6700103849794597, 0.05498230530011022] and parameters: {'max_depth': 6, 'eta': 0.04134842079936573, 'subsample': 0.6840991076070875, 'colsample_bytree': 0.9463891490229178}.\n",
      "[I 2025-05-15 04:47:16,031] Trial 76 finished with values: [0.6750129429316276, 0.059231409784996476] and parameters: {'max_depth': 4, 'eta': 0.1604362029471749, 'subsample': 0.8441938099050315, 'colsample_bytree': 0.757405553667182}.\n",
      "[I 2025-05-15 04:47:16,121] Trial 77 finished with values: [0.6764267093094142, 0.061748111329534845] and parameters: {'max_depth': 7, 'eta': 0.10659619965999723, 'subsample': 0.7869988336101803, 'colsample_bytree': 0.8626835093184344}.\n",
      "[I 2025-05-15 04:47:16,195] Trial 78 finished with values: [0.6571547607012772, 0.015015389395338391] and parameters: {'max_depth': 3, 'eta': 0.11946224856843993, 'subsample': 0.9618050341808126, 'colsample_bytree': 0.8913537905214264}.\n",
      "[I 2025-05-15 04:47:16,278] Trial 79 finished with values: [0.6885624308816817, 0.07920113432659825] and parameters: {'max_depth': 7, 'eta': 0.22127558124606775, 'subsample': 0.8905685100826091, 'colsample_bytree': 0.8109107359676053}.\n",
      "[I 2025-05-15 04:47:16,355] Trial 80 finished with values: [0.6657246663174373, 0.013444256287662049] and parameters: {'max_depth': 3, 'eta': 0.07460206152306817, 'subsample': 0.6828208177420324, 'colsample_bytree': 0.6043606659912624}.\n",
      "[I 2025-05-15 04:47:16,431] Trial 81 finished with values: [0.6728624250611918, 0.04783024140598011] and parameters: {'max_depth': 4, 'eta': 0.12361546140158018, 'subsample': 0.6295505954213035, 'colsample_bytree': 0.9694436154006851}.\n",
      "[I 2025-05-15 04:47:16,533] Trial 82 finished with values: [0.6692797603183501, 0.057773796990356036] and parameters: {'max_depth': 6, 'eta': 0.04023058365902091, 'subsample': 0.9289476105717013, 'colsample_bytree': 0.9142953795430282}.\n",
      "[I 2025-05-15 04:47:16,607] Trial 83 finished with values: [0.6714394684360956, 0.06084631991474787] and parameters: {'max_depth': 3, 'eta': 0.24688808587959246, 'subsample': 0.7057782567993811, 'colsample_bytree': 0.8991412456822363}.\n",
      "[I 2025-05-15 04:47:16,704] Trial 84 finished with values: [0.6671506863583033, 0.039226487128279384] and parameters: {'max_depth': 4, 'eta': 0.0310989429045032, 'subsample': 0.881945806045443, 'colsample_bytree': 0.9283991190523991}.\n",
      "[I 2025-05-15 04:47:16,783] Trial 85 finished with values: [0.6593006834480583, 0.022291907551250118] and parameters: {'max_depth': 3, 'eta': 0.14976076073435085, 'subsample': 0.8928369039040596, 'colsample_bytree': 0.9986700672067291}.\n",
      "[I 2025-05-15 04:47:16,862] Trial 86 finished with values: [0.6642971145686865, 0.020441468133951413] and parameters: {'max_depth': 3, 'eta': 0.1032883706592161, 'subsample': 0.6376133826739548, 'colsample_bytree': 0.9986700672067291}.\n",
      "[I 2025-05-15 04:47:16,946] Trial 87 finished with values: [0.6664369104839278, 0.03966199016976619] and parameters: {'max_depth': 4, 'eta': 0.07370918121699094, 'subsample': 0.8938040597589907, 'colsample_bytree': 0.84199181195118}.\n",
      "[I 2025-05-15 04:47:17,050] Trial 88 finished with values: [0.6771496754310992, 0.04877591570109984] and parameters: {'max_depth': 7, 'eta': 0.05678651792094724, 'subsample': 0.6365321637868088, 'colsample_bytree': 0.9283991190523991}.\n",
      "[I 2025-05-15 04:47:17,126] Trial 89 finished with values: [0.6692996725208543, 0.026930005235151155] and parameters: {'max_depth': 3, 'eta': 0.20050164998038844, 'subsample': 0.6818951506364179, 'colsample_bytree': 0.6106220485364899}.\n",
      "[I 2025-05-15 04:47:17,211] Trial 90 finished with values: [0.6785848857192747, 0.026528837933991207] and parameters: {'max_depth': 5, 'eta': 0.1604362029471749, 'subsample': 0.6365321637868088, 'colsample_bytree': 0.6697792710585816}.\n",
      "[I 2025-05-15 04:47:17,293] Trial 91 finished with values: [0.6721486491868163, 0.030365600260275582] and parameters: {'max_depth': 5, 'eta': 0.1589784128539931, 'subsample': 0.668293752819404, 'colsample_bytree': 0.724784641856099}.\n",
      "[I 2025-05-15 04:47:17,449] Trial 92 finished with values: [0.661432820823875, 0.04848082508751866] and parameters: {'max_depth': 5, 'eta': 0.013463787079253976, 'subsample': 0.6109406440262554, 'colsample_bytree': 0.7602164946322192}.\n",
      "[I 2025-05-15 04:47:17,530] Trial 93 finished with values: [0.6678690573563335, 0.028876767564395705] and parameters: {'max_depth': 5, 'eta': 0.1032883706592161, 'subsample': 0.6376133826739548, 'colsample_bytree': 0.6591095863689854}.\n",
      "[I 2025-05-15 04:47:17,614] Trial 94 finished with values: [0.6692920139814297, 0.03724443581430482] and parameters: {'max_depth': 5, 'eta': 0.1589784128539931, 'subsample': 0.8824040017757933, 'colsample_bytree': 0.724784641856099}.\n",
      "[I 2025-05-15 04:47:17,694] Trial 95 finished with values: [0.6864348886295196, 0.07493002258833735] and parameters: {'max_depth': 5, 'eta': 0.18350251208444984, 'subsample': 0.8928369039040596, 'colsample_bytree': 0.8506835316959874}.\n",
      "[I 2025-05-15 04:47:17,768] Trial 96 finished with values: [0.6657292614410921, 0.04859489126793848] and parameters: {'max_depth': 3, 'eta': 0.2804130195047165, 'subsample': 0.7696983562227155, 'colsample_bytree': 0.7188154735379857}.\n",
      "[I 2025-05-15 04:47:17,852] Trial 97 finished with values: [0.689280801879712, 0.05958045550702301] and parameters: {'max_depth': 6, 'eta': 0.20020253145881808, 'subsample': 0.8840265705440891, 'colsample_bytree': 0.9895654425865072}.\n",
      "[I 2025-05-15 04:47:17,958] Trial 98 finished with values: [0.6621527235297903, 0.02200160315415368] and parameters: {'max_depth': 3, 'eta': 0.05033127668007191, 'subsample': 0.7887078508400488, 'colsample_bytree': 0.9463891490229178}.\n",
      "[I 2025-05-15 04:47:18,050] Trial 99 finished with values: [0.6707256925617201, 0.048225824614447466] and parameters: {'max_depth': 4, 'eta': 0.14483951252697258, 'subsample': 0.7615057084025819, 'colsample_bytree': 0.9787928890456238}.\n"
     ]
    },
    {
     "name": "stdout",
     "output_type": "stream",
     "text": [
      "Pareto-optimal solutions:\n",
      "Params: {'alpha': 0.41383153948093454, 'max_depth': 7, 'eta': 0.2804130195047165, 'subsample': 0.8838936125401613, 'colsample_bytree': 0.7188154735379857}, Accuracy: 0.7021, DPD: 0.0689\n",
      "Params: {'alpha': 0.41383153948093454, 'max_depth': 5, 'eta': 0.2789019660094398, 'subsample': 0.8824040017757933, 'colsample_bytree': 0.6075094742604826}, Accuracy: 0.6914, DPD: 0.0536\n",
      "Params: {'alpha': 0.41383153948093454, 'max_depth': 4, 'eta': 0.2714574989051898, 'subsample': 0.9284415700920252, 'colsample_bytree': 0.8076193158434031}, Accuracy: 0.6886, DPD: 0.0439\n",
      "Params: {'alpha': 0.41383153948093454, 'max_depth': 6, 'eta': 0.20020253145881808, 'subsample': 0.8267274788350784, 'colsample_bytree': 0.6612102025456387}, Accuracy: 0.6843, DPD: 0.0384\n",
      "Params: {'alpha': 0.41383153948093454, 'max_depth': 5, 'eta': 0.2939283612519244, 'subsample': 0.6818951506364179, 'colsample_bytree': 0.6589253591052271}, Accuracy: 0.6922, DPD: 0.0571\n",
      "Params: {'alpha': 0.41383153948093454, 'max_depth': 3, 'eta': 0.10773079749960958, 'subsample': 0.7548312843089791, 'colsample_bytree': 0.6441993310896048}, Accuracy: 0.6729, DPD: 0.0231\n",
      "Params: {'alpha': 0.41383153948093454, 'max_depth': 5, 'eta': 0.2789019660094398, 'subsample': 0.8824040017757933, 'colsample_bytree': 0.6075094742604826}, Accuracy: 0.6914, DPD: 0.0536\n",
      "Params: {'alpha': 0.41383153948093454, 'max_depth': 3, 'eta': 0.07460206152306817, 'subsample': 0.6828208177420324, 'colsample_bytree': 0.6043606659912624}, Accuracy: 0.6657, DPD: 0.0134\n",
      "Params: {'alpha': 0.41383153948093454, 'max_depth': 5, 'eta': 0.1604362029471749, 'subsample': 0.6365321637868088, 'colsample_bytree': 0.6697792710585816}, Accuracy: 0.6786, DPD: 0.0265\n"
     ]
    }
   ],
   "source": [
    "\n",
    "# Create and run Optuna study for multi-objective optimization\n",
    "study = optuna.create_study(directions=['maximize', 'minimize'])\n",
    "objective = create_objective_function(alpha=np.random.uniform(0,1))  # Example alpha value\n",
    "study.optimize(objective, n_trials=100)\n",
    "\n",
    "# Collect Pareto front results\n",
    "results = []\n",
    "for trial in study.best_trials:  # Best trials are the Pareto-optimal ones\n",
    "    results.append({\n",
    "        'accuracy': trial.values[0],\n",
    "        'dpd': trial.values[1],\n",
    "        'alpha': trial.user_attrs['params']['alpha'],\n",
    "        'params': trial.user_attrs['params']\n",
    "    })\n",
    "\n",
    "# Print summary of Pareto-optimal results\n",
    "print(\"Pareto-optimal solutions:\")\n",
    "for res in results:\n",
    "    print(f\"Params: {res['params']}, Accuracy: {res['accuracy']:.4f}, DPD: {res['dpd']:.4f}\")\n",
    "\n",
    "# Prepare data for plotting\n",
    "plot_df = pd.DataFrame({\n",
    "    'DPD': [res['dpd'] for res in results],\n",
    "    'Accuracy': [res['accuracy'] for res in results],\n",
    "    'alpha': [res['alpha'] for res in results]\n",
    "})\n",
    "\n"
   ]
  },
  {
   "cell_type": "code",
   "execution_count": 61,
   "id": "151609dd",
   "metadata": {},
   "outputs": [
    {
     "data": {
      "application/vnd.plotly.v1+json": {
       "config": {
        "plotlyServerURL": "https://plot.ly"
       },
       "data": [
        {
         "customdata": {
          "bdata": "AAAAAAAAAAAAAAAAAACQPwAAAAAAAJQ/AAAAAAAAlj8AAAAAAECWPwAAAAAAYJY/AAAAAABwlj8AAAAAAHqWPwAAAAAAe5Y/AAAAAIB7lj8AAAAAAHyWPwAAAAAAAJg/AAAAAAAAoD8AAAAAAADAPwAAAAAAAOA/AAAAAMB7lj8=",
          "dtype": "f8",
          "shape": "16, 1"
         },
         "hovertemplate": "DPD=%{x}<br>Accuracy=%{y}<br>alpha=%{marker.color}<extra></extra>",
         "legendgroup": "",
         "marker": {
          "color": {
           "bdata": "AAAAAAAAAAAAAAAAAACQPwAAAAAAAJQ/AAAAAAAAlj8AAAAAAECWPwAAAAAAYJY/AAAAAABwlj8AAAAAAHqWPwAAAAAAe5Y/AAAAAIB7lj8AAAAAAHyWPwAAAAAAAJg/AAAAAAAAoD8AAAAAAADAPwAAAAAAAOA/AAAAAMB7lj8=",
           "dtype": "f8"
          },
          "coloraxis": "coloraxis",
          "line": {
           "width": 0
          },
          "symbol": "circle"
         },
         "mode": "markers",
         "name": "",
         "orientation": "v",
         "showlegend": false,
         "type": "scatter",
         "x": {
          "bdata": "AAAAAAAAAABVqb8AXqoePwAAAAAAAAAAAAAAAAAAAAAAAAAAAAAAAADCKs1WfUc/AAAAAAAAAAArMivUxn1uPwAAAAAAAAAAa2Pk+5SqZD/A6oWwQLKBP8DqhbBAsoE/wOqFsECygT97JWeBRkSAP//T4qjxWKM/AAAAAAAAAAA=",
          "dtype": "f8"
         },
         "xaxis": "x",
         "y": {
          "bdata": "nlBR2QwA4D+7Qv0EZtjgP55QUdkMAOA/nlBR2QwA4D+eUFHZDADgP4nRMXt/ZeE/nlBR2QwA4D8TBDTJ0KvhP55QUdkMAOA/9dncsjdx4T9tWxyhI4jlP21bHKEjiOU/bVscoSOI5T9N1jMtuSTlP8Rk2jBq8eU/nlBR2QwA4D8=",
          "dtype": "f8"
         },
         "yaxis": "y"
        }
       ],
       "layout": {
        "coloraxis": {
         "colorbar": {
          "title": {
           "text": "alpha"
          }
         },
         "colorscale": [
          [
           0,
           "#440154"
          ],
          [
           0.1111111111111111,
           "#482878"
          ],
          [
           0.2222222222222222,
           "#3e4989"
          ],
          [
           0.3333333333333333,
           "#31688e"
          ],
          [
           0.4444444444444444,
           "#26828e"
          ],
          [
           0.5555555555555556,
           "#1f9e89"
          ],
          [
           0.6666666666666666,
           "#35b779"
          ],
          [
           0.7777777777777778,
           "#6ece58"
          ],
          [
           0.8888888888888888,
           "#b5de2b"
          ],
          [
           1,
           "#fde725"
          ]
         ]
        },
        "legend": {
         "tracegroupgap": 0
        },
        "template": {
         "data": {
          "bar": [
           {
            "error_x": {
             "color": "#2a3f5f"
            },
            "error_y": {
             "color": "#2a3f5f"
            },
            "marker": {
             "line": {
              "color": "#E5ECF6",
              "width": 0.5
             },
             "pattern": {
              "fillmode": "overlay",
              "size": 10,
              "solidity": 0.2
             }
            },
            "type": "bar"
           }
          ],
          "barpolar": [
           {
            "marker": {
             "line": {
              "color": "#E5ECF6",
              "width": 0.5
             },
             "pattern": {
              "fillmode": "overlay",
              "size": 10,
              "solidity": 0.2
             }
            },
            "type": "barpolar"
           }
          ],
          "carpet": [
           {
            "aaxis": {
             "endlinecolor": "#2a3f5f",
             "gridcolor": "white",
             "linecolor": "white",
             "minorgridcolor": "white",
             "startlinecolor": "#2a3f5f"
            },
            "baxis": {
             "endlinecolor": "#2a3f5f",
             "gridcolor": "white",
             "linecolor": "white",
             "minorgridcolor": "white",
             "startlinecolor": "#2a3f5f"
            },
            "type": "carpet"
           }
          ],
          "choropleth": [
           {
            "colorbar": {
             "outlinewidth": 0,
             "ticks": ""
            },
            "type": "choropleth"
           }
          ],
          "contour": [
           {
            "colorbar": {
             "outlinewidth": 0,
             "ticks": ""
            },
            "colorscale": [
             [
              0,
              "#0d0887"
             ],
             [
              0.1111111111111111,
              "#46039f"
             ],
             [
              0.2222222222222222,
              "#7201a8"
             ],
             [
              0.3333333333333333,
              "#9c179e"
             ],
             [
              0.4444444444444444,
              "#bd3786"
             ],
             [
              0.5555555555555556,
              "#d8576b"
             ],
             [
              0.6666666666666666,
              "#ed7953"
             ],
             [
              0.7777777777777778,
              "#fb9f3a"
             ],
             [
              0.8888888888888888,
              "#fdca26"
             ],
             [
              1,
              "#f0f921"
             ]
            ],
            "type": "contour"
           }
          ],
          "contourcarpet": [
           {
            "colorbar": {
             "outlinewidth": 0,
             "ticks": ""
            },
            "type": "contourcarpet"
           }
          ],
          "heatmap": [
           {
            "colorbar": {
             "outlinewidth": 0,
             "ticks": ""
            },
            "colorscale": [
             [
              0,
              "#0d0887"
             ],
             [
              0.1111111111111111,
              "#46039f"
             ],
             [
              0.2222222222222222,
              "#7201a8"
             ],
             [
              0.3333333333333333,
              "#9c179e"
             ],
             [
              0.4444444444444444,
              "#bd3786"
             ],
             [
              0.5555555555555556,
              "#d8576b"
             ],
             [
              0.6666666666666666,
              "#ed7953"
             ],
             [
              0.7777777777777778,
              "#fb9f3a"
             ],
             [
              0.8888888888888888,
              "#fdca26"
             ],
             [
              1,
              "#f0f921"
             ]
            ],
            "type": "heatmap"
           }
          ],
          "histogram": [
           {
            "marker": {
             "pattern": {
              "fillmode": "overlay",
              "size": 10,
              "solidity": 0.2
             }
            },
            "type": "histogram"
           }
          ],
          "histogram2d": [
           {
            "colorbar": {
             "outlinewidth": 0,
             "ticks": ""
            },
            "colorscale": [
             [
              0,
              "#0d0887"
             ],
             [
              0.1111111111111111,
              "#46039f"
             ],
             [
              0.2222222222222222,
              "#7201a8"
             ],
             [
              0.3333333333333333,
              "#9c179e"
             ],
             [
              0.4444444444444444,
              "#bd3786"
             ],
             [
              0.5555555555555556,
              "#d8576b"
             ],
             [
              0.6666666666666666,
              "#ed7953"
             ],
             [
              0.7777777777777778,
              "#fb9f3a"
             ],
             [
              0.8888888888888888,
              "#fdca26"
             ],
             [
              1,
              "#f0f921"
             ]
            ],
            "type": "histogram2d"
           }
          ],
          "histogram2dcontour": [
           {
            "colorbar": {
             "outlinewidth": 0,
             "ticks": ""
            },
            "colorscale": [
             [
              0,
              "#0d0887"
             ],
             [
              0.1111111111111111,
              "#46039f"
             ],
             [
              0.2222222222222222,
              "#7201a8"
             ],
             [
              0.3333333333333333,
              "#9c179e"
             ],
             [
              0.4444444444444444,
              "#bd3786"
             ],
             [
              0.5555555555555556,
              "#d8576b"
             ],
             [
              0.6666666666666666,
              "#ed7953"
             ],
             [
              0.7777777777777778,
              "#fb9f3a"
             ],
             [
              0.8888888888888888,
              "#fdca26"
             ],
             [
              1,
              "#f0f921"
             ]
            ],
            "type": "histogram2dcontour"
           }
          ],
          "mesh3d": [
           {
            "colorbar": {
             "outlinewidth": 0,
             "ticks": ""
            },
            "type": "mesh3d"
           }
          ],
          "parcoords": [
           {
            "line": {
             "colorbar": {
              "outlinewidth": 0,
              "ticks": ""
             }
            },
            "type": "parcoords"
           }
          ],
          "pie": [
           {
            "automargin": true,
            "type": "pie"
           }
          ],
          "scatter": [
           {
            "fillpattern": {
             "fillmode": "overlay",
             "size": 10,
             "solidity": 0.2
            },
            "type": "scatter"
           }
          ],
          "scatter3d": [
           {
            "line": {
             "colorbar": {
              "outlinewidth": 0,
              "ticks": ""
             }
            },
            "marker": {
             "colorbar": {
              "outlinewidth": 0,
              "ticks": ""
             }
            },
            "type": "scatter3d"
           }
          ],
          "scattercarpet": [
           {
            "marker": {
             "colorbar": {
              "outlinewidth": 0,
              "ticks": ""
             }
            },
            "type": "scattercarpet"
           }
          ],
          "scattergeo": [
           {
            "marker": {
             "colorbar": {
              "outlinewidth": 0,
              "ticks": ""
             }
            },
            "type": "scattergeo"
           }
          ],
          "scattergl": [
           {
            "marker": {
             "colorbar": {
              "outlinewidth": 0,
              "ticks": ""
             }
            },
            "type": "scattergl"
           }
          ],
          "scattermap": [
           {
            "marker": {
             "colorbar": {
              "outlinewidth": 0,
              "ticks": ""
             }
            },
            "type": "scattermap"
           }
          ],
          "scattermapbox": [
           {
            "marker": {
             "colorbar": {
              "outlinewidth": 0,
              "ticks": ""
             }
            },
            "type": "scattermapbox"
           }
          ],
          "scatterpolar": [
           {
            "marker": {
             "colorbar": {
              "outlinewidth": 0,
              "ticks": ""
             }
            },
            "type": "scatterpolar"
           }
          ],
          "scatterpolargl": [
           {
            "marker": {
             "colorbar": {
              "outlinewidth": 0,
              "ticks": ""
             }
            },
            "type": "scatterpolargl"
           }
          ],
          "scatterternary": [
           {
            "marker": {
             "colorbar": {
              "outlinewidth": 0,
              "ticks": ""
             }
            },
            "type": "scatterternary"
           }
          ],
          "surface": [
           {
            "colorbar": {
             "outlinewidth": 0,
             "ticks": ""
            },
            "colorscale": [
             [
              0,
              "#0d0887"
             ],
             [
              0.1111111111111111,
              "#46039f"
             ],
             [
              0.2222222222222222,
              "#7201a8"
             ],
             [
              0.3333333333333333,
              "#9c179e"
             ],
             [
              0.4444444444444444,
              "#bd3786"
             ],
             [
              0.5555555555555556,
              "#d8576b"
             ],
             [
              0.6666666666666666,
              "#ed7953"
             ],
             [
              0.7777777777777778,
              "#fb9f3a"
             ],
             [
              0.8888888888888888,
              "#fdca26"
             ],
             [
              1,
              "#f0f921"
             ]
            ],
            "type": "surface"
           }
          ],
          "table": [
           {
            "cells": {
             "fill": {
              "color": "#EBF0F8"
             },
             "line": {
              "color": "white"
             }
            },
            "header": {
             "fill": {
              "color": "#C8D4E3"
             },
             "line": {
              "color": "white"
             }
            },
            "type": "table"
           }
          ]
         },
         "layout": {
          "annotationdefaults": {
           "arrowcolor": "#2a3f5f",
           "arrowhead": 0,
           "arrowwidth": 1
          },
          "autotypenumbers": "strict",
          "coloraxis": {
           "colorbar": {
            "outlinewidth": 0,
            "ticks": ""
           }
          },
          "colorscale": {
           "diverging": [
            [
             0,
             "#8e0152"
            ],
            [
             0.1,
             "#c51b7d"
            ],
            [
             0.2,
             "#de77ae"
            ],
            [
             0.3,
             "#f1b6da"
            ],
            [
             0.4,
             "#fde0ef"
            ],
            [
             0.5,
             "#f7f7f7"
            ],
            [
             0.6,
             "#e6f5d0"
            ],
            [
             0.7,
             "#b8e186"
            ],
            [
             0.8,
             "#7fbc41"
            ],
            [
             0.9,
             "#4d9221"
            ],
            [
             1,
             "#276419"
            ]
           ],
           "sequential": [
            [
             0,
             "#0d0887"
            ],
            [
             0.1111111111111111,
             "#46039f"
            ],
            [
             0.2222222222222222,
             "#7201a8"
            ],
            [
             0.3333333333333333,
             "#9c179e"
            ],
            [
             0.4444444444444444,
             "#bd3786"
            ],
            [
             0.5555555555555556,
             "#d8576b"
            ],
            [
             0.6666666666666666,
             "#ed7953"
            ],
            [
             0.7777777777777778,
             "#fb9f3a"
            ],
            [
             0.8888888888888888,
             "#fdca26"
            ],
            [
             1,
             "#f0f921"
            ]
           ],
           "sequentialminus": [
            [
             0,
             "#0d0887"
            ],
            [
             0.1111111111111111,
             "#46039f"
            ],
            [
             0.2222222222222222,
             "#7201a8"
            ],
            [
             0.3333333333333333,
             "#9c179e"
            ],
            [
             0.4444444444444444,
             "#bd3786"
            ],
            [
             0.5555555555555556,
             "#d8576b"
            ],
            [
             0.6666666666666666,
             "#ed7953"
            ],
            [
             0.7777777777777778,
             "#fb9f3a"
            ],
            [
             0.8888888888888888,
             "#fdca26"
            ],
            [
             1,
             "#f0f921"
            ]
           ]
          },
          "colorway": [
           "#636efa",
           "#EF553B",
           "#00cc96",
           "#ab63fa",
           "#FFA15A",
           "#19d3f3",
           "#FF6692",
           "#B6E880",
           "#FF97FF",
           "#FECB52"
          ],
          "font": {
           "color": "#2a3f5f"
          },
          "geo": {
           "bgcolor": "white",
           "lakecolor": "white",
           "landcolor": "#E5ECF6",
           "showlakes": true,
           "showland": true,
           "subunitcolor": "white"
          },
          "hoverlabel": {
           "align": "left"
          },
          "hovermode": "closest",
          "mapbox": {
           "style": "light"
          },
          "paper_bgcolor": "white",
          "plot_bgcolor": "#E5ECF6",
          "polar": {
           "angularaxis": {
            "gridcolor": "white",
            "linecolor": "white",
            "ticks": ""
           },
           "bgcolor": "#E5ECF6",
           "radialaxis": {
            "gridcolor": "white",
            "linecolor": "white",
            "ticks": ""
           }
          },
          "scene": {
           "xaxis": {
            "backgroundcolor": "#E5ECF6",
            "gridcolor": "white",
            "gridwidth": 2,
            "linecolor": "white",
            "showbackground": true,
            "ticks": "",
            "zerolinecolor": "white"
           },
           "yaxis": {
            "backgroundcolor": "#E5ECF6",
            "gridcolor": "white",
            "gridwidth": 2,
            "linecolor": "white",
            "showbackground": true,
            "ticks": "",
            "zerolinecolor": "white"
           },
           "zaxis": {
            "backgroundcolor": "#E5ECF6",
            "gridcolor": "white",
            "gridwidth": 2,
            "linecolor": "white",
            "showbackground": true,
            "ticks": "",
            "zerolinecolor": "white"
           }
          },
          "shapedefaults": {
           "line": {
            "color": "#2a3f5f"
           }
          },
          "ternary": {
           "aaxis": {
            "gridcolor": "white",
            "linecolor": "white",
            "ticks": ""
           },
           "baxis": {
            "gridcolor": "white",
            "linecolor": "white",
            "ticks": ""
           },
           "bgcolor": "#E5ECF6",
           "caxis": {
            "gridcolor": "white",
            "linecolor": "white",
            "ticks": ""
           }
          },
          "title": {
           "x": 0.05
          },
          "xaxis": {
           "automargin": true,
           "gridcolor": "white",
           "linecolor": "white",
           "ticks": "",
           "title": {
            "standoff": 15
           },
           "zerolinecolor": "white",
           "zerolinewidth": 2
          },
          "yaxis": {
           "automargin": true,
           "gridcolor": "white",
           "linecolor": "white",
           "ticks": "",
           "title": {
            "standoff": 15
           },
           "zerolinecolor": "white",
           "zerolinewidth": 2
          }
         }
        },
        "title": {
         "text": "Pareto Front: DPD vs. Accuracy"
        },
        "xaxis": {
         "anchor": "y",
         "domain": [
          0,
          1
         ],
         "title": {
          "text": "DPD"
         }
        },
        "yaxis": {
         "anchor": "x",
         "domain": [
          0,
          1
         ],
         "title": {
          "text": "Accuracy"
         }
        }
       }
      }
     },
     "metadata": {},
     "output_type": "display_data"
    }
   ],
   "source": [
    "# Create interactive Plotly plot\n",
    "fig = px.scatter(\n",
    "    plot_df,\n",
    "    x='DPD',\n",
    "    y='Accuracy',\n",
    "    color='alpha',\n",
    "    color_continuous_scale='Viridis',\n",
    "    size_max=15,\n",
    "    hover_data={'alpha': True, 'DPD': True, 'Accuracy': True},\n",
    "    title='Pareto Front: DPD vs. Accuracy'\n",
    ")\n",
    "fig.update_traces(marker=dict(line_width=0))\n",
    "fig.show()"
   ]
  },
  {
   "cell_type": "code",
   "execution_count": 60,
   "id": "e568ef11",
   "metadata": {},
   "outputs": [
    {
     "name": "stderr",
     "output_type": "stream",
     "text": [
      "[I 2025-05-15 16:49:25,765] A new study created in memory with name: no-name-1cc00296-c997-4db7-a120-3a57cb82af32\n",
      "[I 2025-05-15 16:49:25,854] Trial 0 finished with values: [0.5000061268315397, 0.0] and parameters: {'max_depth': 7, 'eta': 0.22571785870579533, 'subsample': 0.7549245617609082, 'colsample_bytree': 0.8564068669101881}.\n",
      "[I 2025-05-15 16:49:25,973] Trial 1 finished with values: [0.5000061268315397, 0.0] and parameters: {'max_depth': 3, 'eta': 0.012426119273396987, 'subsample': 0.7144774828630672, 'colsample_bytree': 0.6998200934807096}.\n",
      "[I 2025-05-15 16:49:26,049] Trial 2 finished with values: [0.5000061268315397, 0.0] and parameters: {'max_depth': 3, 'eta': 0.029721369826485183, 'subsample': 0.9803276534509726, 'colsample_bytree': 0.6863272337167018}.\n",
      "[I 2025-05-15 16:49:26,135] Trial 3 finished with values: [0.5000061268315397, 0.0] and parameters: {'max_depth': 5, 'eta': 0.0633415980403137, 'subsample': 0.8564704235543256, 'colsample_bytree': 0.8407084973375782}.\n",
      "[I 2025-05-15 16:49:26,214] Trial 4 finished with values: [0.5000061268315397, 0.0] and parameters: {'max_depth': 6, 'eta': 0.2138509193255605, 'subsample': 0.6386102451292217, 'colsample_bytree': 0.6104453164783209}.\n",
      "[I 2025-05-15 16:49:26,293] Trial 5 finished with values: [0.5000061268315397, 0.0] and parameters: {'max_depth': 5, 'eta': 0.20417724875289936, 'subsample': 0.9610113403223514, 'colsample_bytree': 0.973153739270281}.\n",
      "[I 2025-05-15 16:49:26,369] Trial 6 finished with values: [0.5000061268315397, 0.0] and parameters: {'max_depth': 5, 'eta': 0.128450481091172, 'subsample': 0.7161731259488531, 'colsample_bytree': 0.8310059975230332}.\n",
      "[I 2025-05-15 16:49:26,451] Trial 7 finished with values: [0.5000061268315397, 0.0] and parameters: {'max_depth': 5, 'eta': 0.15021208338634431, 'subsample': 0.6111205788349577, 'colsample_bytree': 0.7143469144483774}.\n",
      "[I 2025-05-15 16:49:26,558] Trial 8 finished with values: [0.5000061268315397, 0.0] and parameters: {'max_depth': 7, 'eta': 0.2962716315612365, 'subsample': 0.9749516412793504, 'colsample_bytree': 0.7697498363008377}.\n",
      "[I 2025-05-15 16:49:26,672] Trial 9 finished with values: [0.5000061268315397, 0.0] and parameters: {'max_depth': 5, 'eta': 0.11465727015291478, 'subsample': 0.8373525833384172, 'colsample_bytree': 0.9192803213337049}.\n",
      "[I 2025-05-15 16:49:26,776] Trial 10 finished with values: [0.5000061268315397, 0.0] and parameters: {'max_depth': 7, 'eta': 0.07159820996130231, 'subsample': 0.8326648742942432, 'colsample_bytree': 0.9160789360781427}.\n",
      "[I 2025-05-15 16:49:26,873] Trial 11 finished with values: [0.5000061268315397, 0.0] and parameters: {'max_depth': 6, 'eta': 0.19825510563752294, 'subsample': 0.7940006678222036, 'colsample_bytree': 0.8133146008832057}.\n",
      "[I 2025-05-15 16:49:26,976] Trial 12 finished with values: [0.5000061268315397, 0.0] and parameters: {'max_depth': 7, 'eta': 0.07114003552620732, 'subsample': 0.986175779378422, 'colsample_bytree': 0.6631276221973039}.\n",
      "[I 2025-05-15 16:49:27,071] Trial 13 finished with values: [0.5000061268315397, 0.0] and parameters: {'max_depth': 4, 'eta': 0.2090164212052167, 'subsample': 0.6852213117422282, 'colsample_bytree': 0.7377450416721212}.\n",
      "[I 2025-05-15 16:49:27,170] Trial 14 finished with values: [0.5000061268315397, 0.0] and parameters: {'max_depth': 5, 'eta': 0.1645230822141808, 'subsample': 0.7353017713675746, 'colsample_bytree': 0.7301301233839383}.\n",
      "[I 2025-05-15 16:49:27,263] Trial 15 finished with values: [0.5000061268315397, 0.0] and parameters: {'max_depth': 7, 'eta': 0.0861271573907539, 'subsample': 0.8677079093970261, 'colsample_bytree': 0.8598604099193918}.\n",
      "[I 2025-05-15 16:49:27,358] Trial 16 finished with values: [0.5000061268315397, 0.0] and parameters: {'max_depth': 3, 'eta': 0.21767339825818538, 'subsample': 0.7932986739673318, 'colsample_bytree': 0.8432490725785762}.\n",
      "[I 2025-05-15 16:49:27,449] Trial 17 finished with values: [0.5000061268315397, 0.0] and parameters: {'max_depth': 6, 'eta': 0.14741282062573555, 'subsample': 0.6624326609881579, 'colsample_bytree': 0.6419154539913264}.\n",
      "[I 2025-05-15 16:49:27,548] Trial 18 finished with values: [0.5000061268315397, 0.0] and parameters: {'max_depth': 4, 'eta': 0.01471399775048465, 'subsample': 0.7602756976155396, 'colsample_bytree': 0.889353594613445}.\n",
      "[I 2025-05-15 16:49:27,645] Trial 19 finished with values: [0.5000061268315397, 0.0] and parameters: {'max_depth': 5, 'eta': 0.06113691264830027, 'subsample': 0.7755774837180862, 'colsample_bytree': 0.7820649543549798}.\n",
      "[I 2025-05-15 16:49:27,736] Trial 20 finished with values: [0.5000061268315397, 0.0] and parameters: {'max_depth': 7, 'eta': 0.13993851047350972, 'subsample': 0.8742074077110612, 'colsample_bytree': 0.8517150769648065}.\n",
      "[I 2025-05-15 16:49:27,826] Trial 21 finished with values: [0.5000061268315397, 0.0] and parameters: {'max_depth': 7, 'eta': 0.07493261428068632, 'subsample': 0.832081736841589, 'colsample_bytree': 0.6985546442642536}.\n",
      "[I 2025-05-15 16:49:27,921] Trial 22 finished with values: [0.5000061268315397, 0.0] and parameters: {'max_depth': 6, 'eta': 0.2349864950888263, 'subsample': 0.8367537594572245, 'colsample_bytree': 0.6601253622251566}.\n",
      "[I 2025-05-15 16:49:28,021] Trial 23 finished with values: [0.5000061268315397, 0.0] and parameters: {'max_depth': 5, 'eta': 0.1291131730262638, 'subsample': 0.9901824171427955, 'colsample_bytree': 0.8294728962003255}.\n",
      "[I 2025-05-15 16:49:28,117] Trial 24 finished with values: [0.5000061268315397, 0.0] and parameters: {'max_depth': 7, 'eta': 0.14319174379732322, 'subsample': 0.862895122501028, 'colsample_bytree': 0.8056560376803883}.\n",
      "[I 2025-05-15 16:49:28,212] Trial 25 finished with values: [0.5000061268315397, 0.0] and parameters: {'max_depth': 7, 'eta': 0.20179304585052402, 'subsample': 0.8205022770771021, 'colsample_bytree': 0.8134002256570054}.\n",
      "[I 2025-05-15 16:49:28,320] Trial 26 finished with values: [0.5000061268315397, 0.0] and parameters: {'max_depth': 5, 'eta': 0.1827281834931002, 'subsample': 0.7690724846864303, 'colsample_bytree': 0.9889660848906119}.\n",
      "[I 2025-05-15 16:49:28,420] Trial 27 finished with values: [0.5000061268315397, 0.0] and parameters: {'max_depth': 5, 'eta': 0.23022265633822891, 'subsample': 0.8744624137918628, 'colsample_bytree': 0.9266566768212566}.\n",
      "[I 2025-05-15 16:49:28,515] Trial 28 finished with values: [0.5000061268315397, 0.0] and parameters: {'max_depth': 3, 'eta': 0.13720666122481726, 'subsample': 0.9670679219467891, 'colsample_bytree': 0.8914383876116556}.\n",
      "[I 2025-05-15 16:49:28,607] Trial 29 finished with values: [0.5000061268315397, 0.0] and parameters: {'max_depth': 5, 'eta': 0.25736687496097177, 'subsample': 0.7234084789946827, 'colsample_bytree': 0.8358307133128055}.\n",
      "[I 2025-05-15 16:49:28,704] Trial 30 finished with values: [0.5000061268315397, 0.0] and parameters: {'max_depth': 5, 'eta': 0.04567766706769888, 'subsample': 0.7725841038939377, 'colsample_bytree': 0.9847663571439309}.\n",
      "[I 2025-05-15 16:49:28,792] Trial 31 finished with values: [0.5000061268315397, 0.0] and parameters: {'max_depth': 5, 'eta': 0.20033997878453125, 'subsample': 0.9430326430337004, 'colsample_bytree': 0.7431152471201264}.\n",
      "[I 2025-05-15 16:49:28,887] Trial 32 finished with values: [0.5000061268315397, 0.0] and parameters: {'max_depth': 3, 'eta': 0.018238717454522435, 'subsample': 0.7813266222878017, 'colsample_bytree': 0.8628613941280237}.\n",
      "[I 2025-05-15 16:49:28,981] Trial 33 finished with values: [0.5000061268315397, 0.0] and parameters: {'max_depth': 6, 'eta': 0.1744906939382493, 'subsample': 0.7398974608753668, 'colsample_bytree': 0.6484332176034985}.\n",
      "[I 2025-05-15 16:49:29,075] Trial 34 finished with values: [0.5000061268315397, 0.0] and parameters: {'max_depth': 7, 'eta': 0.11076723757613387, 'subsample': 0.7579094749284777, 'colsample_bytree': 0.8467914107690881}.\n",
      "[I 2025-05-15 16:49:29,172] Trial 35 finished with values: [0.5000061268315397, 0.0] and parameters: {'max_depth': 6, 'eta': 0.15652128148593691, 'subsample': 0.7484449940593473, 'colsample_bytree': 0.6682221277687048}.\n",
      "[I 2025-05-15 16:49:29,295] Trial 36 finished with values: [0.5000061268315397, 0.0] and parameters: {'max_depth': 5, 'eta': 0.187438084416625, 'subsample': 0.6374998080744952, 'colsample_bytree': 0.9284057764128923}.\n",
      "[I 2025-05-15 16:49:29,387] Trial 37 finished with values: [0.5000061268315397, 0.0] and parameters: {'max_depth': 7, 'eta': 0.1195120392575757, 'subsample': 0.7398933907116542, 'colsample_bytree': 0.9886238547368672}.\n",
      "[I 2025-05-15 16:49:29,480] Trial 38 finished with values: [0.5000061268315397, 0.0] and parameters: {'max_depth': 3, 'eta': 0.13200909275975897, 'subsample': 0.7692839580626517, 'colsample_bytree': 0.8047131825111411}.\n",
      "[I 2025-05-15 16:49:29,599] Trial 39 finished with values: [0.5000061268315397, 0.0] and parameters: {'max_depth': 6, 'eta': 0.16694275131478717, 'subsample': 0.6367907944990524, 'colsample_bytree': 0.9202001377225174}.\n",
      "[I 2025-05-15 16:49:29,711] Trial 40 finished with values: [0.5000061268315397, 0.0] and parameters: {'max_depth': 5, 'eta': 0.05176390985807665, 'subsample': 0.9867840073784124, 'colsample_bytree': 0.6088564004588066}.\n",
      "[I 2025-05-15 16:49:29,802] Trial 41 finished with values: [0.5000061268315397, 0.0] and parameters: {'max_depth': 7, 'eta': 0.21254592839068212, 'subsample': 0.7588379621068335, 'colsample_bytree': 0.6439981037907913}.\n",
      "[I 2025-05-15 16:49:29,892] Trial 42 finished with values: [0.5000061268315397, 0.0] and parameters: {'max_depth': 5, 'eta': 0.10581752763018634, 'subsample': 0.6299274193362406, 'colsample_bytree': 0.769734972737601}.\n",
      "[I 2025-05-15 16:49:29,989] Trial 43 finished with values: [0.5000061268315397, 0.0] and parameters: {'max_depth': 6, 'eta': 0.1511834252171229, 'subsample': 0.8982642509954669, 'colsample_bytree': 0.7017033543667939}.\n",
      "[I 2025-05-15 16:49:30,086] Trial 44 finished with values: [0.5000061268315397, 0.0] and parameters: {'max_depth': 6, 'eta': 0.12340234700489924, 'subsample': 0.8671193148952011, 'colsample_bytree': 0.9478637259597685}.\n",
      "[I 2025-05-15 16:49:30,180] Trial 45 finished with values: [0.5000061268315397, 0.0] and parameters: {'max_depth': 7, 'eta': 0.13311524681655262, 'subsample': 0.6885807989227969, 'colsample_bytree': 0.9175598754206666}.\n",
      "[I 2025-05-15 16:49:30,274] Trial 46 finished with values: [0.5000061268315397, 0.0] and parameters: {'max_depth': 6, 'eta': 0.18225238672938068, 'subsample': 0.9038855685400096, 'colsample_bytree': 0.6306448952631153}.\n",
      "[I 2025-05-15 16:49:30,367] Trial 47 finished with values: [0.5000061268315397, 0.0] and parameters: {'max_depth': 3, 'eta': 0.2626916380996817, 'subsample': 0.7817640329595931, 'colsample_bytree': 0.6280687672948925}.\n",
      "[I 2025-05-15 16:49:30,457] Trial 48 finished with values: [0.5000061268315397, 0.0] and parameters: {'max_depth': 7, 'eta': 0.1003291204407323, 'subsample': 0.9836273841706383, 'colsample_bytree': 0.6960952405389095}.\n",
      "[I 2025-05-15 16:49:30,565] Trial 49 finished with values: [0.5000061268315397, 0.0] and parameters: {'max_depth': 6, 'eta': 0.12225559919609501, 'subsample': 0.9673199111819538, 'colsample_bytree': 0.6102972943769001}.\n",
      "[I 2025-05-15 16:49:30,576] A new study created in memory with name: no-name-2fdb58f8-7167-4941-80a9-e65007e91e9a\n",
      "[I 2025-05-15 16:49:30,715] Trial 0 finished with values: [0.7071481743573719, 0.08264433930117533] and parameters: {'max_depth': 5, 'eta': 0.2586116949027469, 'subsample': 0.9301208067559112, 'colsample_bytree': 0.7359156100730889}.\n"
     ]
    },
    {
     "name": "stdout",
     "output_type": "stream",
     "text": [
      "Completed study for alpha=0\n"
     ]
    },
    {
     "name": "stderr",
     "output_type": "stream",
     "text": [
      "[I 2025-05-15 16:49:30,842] Trial 1 finished with values: [0.6871486645038951, 0.057546422151730975] and parameters: {'max_depth': 4, 'eta': 0.1632886394996874, 'subsample': 0.8066345957273467, 'colsample_bytree': 0.6526140059169697}.\n",
      "[I 2025-05-15 16:49:31,083] Trial 2 finished with values: [0.6792910030542255, 0.055470606173256] and parameters: {'max_depth': 4, 'eta': 0.19975771044103077, 'subsample': 0.913869761323053, 'colsample_bytree': 0.9706239837737644}.\n",
      "[I 2025-05-15 16:49:31,320] Trial 3 finished with values: [0.6707210974380654, 0.05923291155769873] and parameters: {'max_depth': 4, 'eta': 0.010270547453499273, 'subsample': 0.8663655280495077, 'colsample_bytree': 0.6502023763678864}.\n",
      "[I 2025-05-15 16:49:31,406] Trial 4 finished with values: [0.6778634513054747, 0.07524724202665488] and parameters: {'max_depth': 4, 'eta': 0.19026604105780212, 'subsample': 0.6331450465982246, 'colsample_bytree': 0.7737646145843996}.\n",
      "[I 2025-05-15 16:49:31,505] Trial 5 finished with values: [0.6878501867151913, 0.07575710485521629] and parameters: {'max_depth': 5, 'eta': 0.20669845949403953, 'subsample': 0.9588377605723399, 'colsample_bytree': 0.9801615738763485}.\n",
      "[I 2025-05-15 16:49:31,637] Trial 6 finished with values: [0.6750022209764331, 0.05517105258760616] and parameters: {'max_depth': 5, 'eta': 0.06402434694679335, 'subsample': 0.8486180538232679, 'colsample_bytree': 0.7265678660252348}.\n",
      "[I 2025-05-15 16:49:31,787] Trial 7 finished with values: [0.7235588926364676, 0.05028783872102068] and parameters: {'max_depth': 6, 'eta': 0.291144670280617, 'subsample': 0.9908152375295347, 'colsample_bytree': 0.8518263802734886}.\n",
      "[I 2025-05-15 16:49:31,964] Trial 8 finished with values: [0.675706806603499, 0.07805704386703236] and parameters: {'max_depth': 6, 'eta': 0.04721757034000485, 'subsample': 0.6928047024654003, 'colsample_bytree': 0.8059893136134899}.\n",
      "[I 2025-05-15 16:49:32,083] Trial 9 finished with values: [0.6771496754310992, 0.05278448316529785] and parameters: {'max_depth': 4, 'eta': 0.08199345678927189, 'subsample': 0.9063322420702049, 'colsample_bytree': 0.6030803525446576}.\n",
      "[I 2025-05-15 16:49:32,280] Trial 10 finished with values: [0.6907144804600026, 0.06765992065269417] and parameters: {'max_depth': 7, 'eta': 0.06786477580278735, 'subsample': 0.7535591783228646, 'colsample_bytree': 0.702584487795864}.\n",
      "[I 2025-05-15 16:49:32,387] Trial 11 finished with values: [0.6607282351968092, 0.028597825305339036] and parameters: {'max_depth': 3, 'eta': 0.084159521762521, 'subsample': 0.6783665953566499, 'colsample_bytree': 0.7717386200277154}.\n",
      "[I 2025-05-15 16:49:32,505] Trial 12 finished with values: [0.6828583507182179, 0.044613439844240405] and parameters: {'max_depth': 6, 'eta': 0.11142135259035885, 'subsample': 0.8024492269043774, 'colsample_bytree': 0.6424647607063462}.\n",
      "[I 2025-05-15 16:49:32,657] Trial 13 finished with values: [0.7071343889864076, 0.09650896709380992] and parameters: {'max_depth': 7, 'eta': 0.21065678688801148, 'subsample': 0.7485020682360983, 'colsample_bytree': 0.8899565426989857}.\n",
      "[I 2025-05-15 16:49:32,766] Trial 14 finished with values: [0.680004778928601, 0.051875194229704436] and parameters: {'max_depth': 4, 'eta': 0.13863673437645227, 'subsample': 0.6922359651878439, 'colsample_bytree': 0.9599711943805783}.\n",
      "[I 2025-05-15 16:49:32,882] Trial 15 finished with values: [0.7071451109416022, 0.09255263993725908] and parameters: {'max_depth': 6, 'eta': 0.2904643687936049, 'subsample': 0.6168645721010538, 'colsample_bytree': 0.7861335523200941}.\n",
      "[I 2025-05-15 16:49:33,032] Trial 16 finished with values: [0.6957185701200553, 0.07159020216178998] and parameters: {'max_depth': 7, 'eta': 0.09138874040697649, 'subsample': 0.7518783692323622, 'colsample_bytree': 0.6862440015699052}.\n",
      "[I 2025-05-15 16:49:33,188] Trial 17 finished with values: [0.6757159968508085, 0.04300897487859065] and parameters: {'max_depth': 4, 'eta': 0.036792190739596296, 'subsample': 0.8891578836848015, 'colsample_bytree': 0.63775801530926}.\n",
      "[I 2025-05-15 16:49:33,340] Trial 18 finished with values: [0.6771512071389841, 0.0417856828755867] and parameters: {'max_depth': 4, 'eta': 0.17767852355567387, 'subsample': 0.730378231217629, 'colsample_bytree': 0.6133657698844975}.\n",
      "[I 2025-05-15 16:49:33,506] Trial 19 finished with values: [0.6800017155128311, 0.057747607219755324] and parameters: {'max_depth': 6, 'eta': 0.06582289663806855, 'subsample': 0.9442601110133081, 'colsample_bytree': 0.6213212134867337}.\n",
      "[I 2025-05-15 16:49:33,620] Trial 20 finished with values: [0.6721425223552765, 0.04872257622931799] and parameters: {'max_depth': 3, 'eta': 0.28475653816640956, 'subsample': 0.7792376162615787, 'colsample_bytree': 0.9525798698861869}.\n",
      "[I 2025-05-15 16:49:33,738] Trial 21 finished with values: [0.6807108962635517, 0.06304817317510004] and parameters: {'max_depth': 4, 'eta': 0.29538860781461884, 'subsample': 0.7748709245835008, 'colsample_bytree': 0.7660262783151428}.\n",
      "[I 2025-05-15 16:49:33,845] Trial 22 finished with values: [0.6614420110711846, 0.022685717044366272] and parameters: {'max_depth': 3, 'eta': 0.07181610823749664, 'subsample': 0.9993702966207471, 'colsample_bytree': 0.9283806506077897}.\n",
      "[I 2025-05-15 16:49:33,971] Trial 23 finished with values: [0.6907236707073121, 0.03854890111555095] and parameters: {'max_depth': 5, 'eta': 0.16796848535696327, 'subsample': 0.8482022640197424, 'colsample_bytree': 0.6780121209533416}.\n",
      "[I 2025-05-15 16:49:34,156] Trial 24 finished with values: [0.6942818281239947, 0.06558915014339453] and parameters: {'max_depth': 7, 'eta': 0.09669038133525426, 'subsample': 0.7118354976171414, 'colsample_bytree': 0.9905203757584178}.\n",
      "[I 2025-05-15 16:49:34,278] Trial 25 finished with values: [0.6857195810472594, 0.07381762878881061] and parameters: {'max_depth': 5, 'eta': 0.19067211310135185, 'subsample': 0.6452036791556541, 'colsample_bytree': 0.904510433720369}.\n",
      "[I 2025-05-15 16:49:34,399] Trial 26 finished with values: [0.6850058051728839, 0.05846618666124834] and parameters: {'max_depth': 5, 'eta': 0.10801795993152481, 'subsample': 0.7672813397745436, 'colsample_bytree': 0.6892596639510024}.\n",
      "[I 2025-05-15 16:49:34,505] Trial 27 finished with values: [0.6821476382596122, 0.064807558700691] and parameters: {'max_depth': 4, 'eta': 0.18942010123507075, 'subsample': 0.8684585498911089, 'colsample_bytree': 0.7281274840258323}.\n",
      "[I 2025-05-15 16:49:34,671] Trial 28 finished with values: [0.7050068467342455, 0.09622691813897584] and parameters: {'max_depth': 6, 'eta': 0.2987927844333431, 'subsample': 0.7151148610996831, 'colsample_bytree': 0.7569137083748921}.\n",
      "[I 2025-05-15 16:49:34,874] Trial 29 finished with values: [0.6935680522496194, 0.05748236599354642] and parameters: {'max_depth': 7, 'eta': 0.052461010264036864, 'subsample': 0.787065822984649, 'colsample_bytree': 0.8837797659023772}.\n",
      "[I 2025-05-15 16:49:34,984] Trial 30 finished with values: [0.6821415114280726, 0.08476830033536638] and parameters: {'max_depth': 4, 'eta': 0.27637672006340913, 'subsample': 0.8319690704196909, 'colsample_bytree': 0.7397018490065461}.\n",
      "[I 2025-05-15 16:49:35,097] Trial 31 finished with values: [0.6735746692276822, 0.043858352460824555] and parameters: {'max_depth': 4, 'eta': 0.1008302073792048, 'subsample': 0.7271565564689686, 'colsample_bytree': 0.701493178481947}.\n",
      "[I 2025-05-15 16:49:35,198] Trial 32 finished with values: [0.7014364356544834, 0.09828583283600022] and parameters: {'max_depth': 5, 'eta': 0.28083171466543855, 'subsample': 0.6697605232893605, 'colsample_bytree': 0.9705141896508437}.\n",
      "[I 2025-05-15 16:49:35,377] Trial 33 finished with values: [0.6857103907999499, 0.06870579781552967] and parameters: {'max_depth': 6, 'eta': 0.017758567404345893, 'subsample': 0.9846344574062578, 'colsample_bytree': 0.8687289866039587}.\n",
      "[I 2025-05-15 16:49:35,505] Trial 34 finished with values: [0.6892945872506763, 0.0792064120409628] and parameters: {'max_depth': 7, 'eta': 0.12140444296757538, 'subsample': 0.6328174980439987, 'colsample_bytree': 0.7281657252617408}.\n",
      "[I 2025-05-15 16:49:35,615] Trial 35 finished with values: [0.6914359148738026, 0.056224358279939185] and parameters: {'max_depth': 5, 'eta': 0.17484493630662887, 'subsample': 0.7157594043719039, 'colsample_bytree': 0.7102434651112802}.\n",
      "[I 2025-05-15 16:49:35,705] Trial 36 finished with values: [0.6693012042287392, 0.036376130894239585] and parameters: {'max_depth': 3, 'eta': 0.14244334247275423, 'subsample': 0.7692138964313532, 'colsample_bytree': 0.8641218264197994}.\n",
      "[I 2025-05-15 16:49:35,849] Trial 37 finished with values: [0.7157058263104527, 0.1076566565184041] and parameters: {'max_depth': 6, 'eta': 0.2861739700147756, 'subsample': 0.975852476991504, 'colsample_bytree': 0.768102883015484}.\n",
      "[I 2025-05-15 16:49:35,987] Trial 38 finished with values: [0.689280801879712, 0.0732287910133153] and parameters: {'max_depth': 6, 'eta': 0.09878161960144954, 'subsample': 0.9415056545998962, 'colsample_bytree': 0.9298164623912488}.\n",
      "[I 2025-05-15 16:49:36,104] Trial 39 finished with values: [0.665007827027292, 0.033137381331234866] and parameters: {'max_depth': 3, 'eta': 0.09059591567564397, 'subsample': 0.6791058454679643, 'colsample_bytree': 0.6165004256960744}.\n",
      "[I 2025-05-15 16:49:36,223] Trial 40 finished with values: [0.6921435639166383, 0.1177324983005148] and parameters: {'max_depth': 5, 'eta': 0.21681584470978268, 'subsample': 0.6358127773434815, 'colsample_bytree': 0.8194741355895887}.\n",
      "[I 2025-05-15 16:49:36,439] Trial 41 finished with values: [0.6735807960592219, 0.053899969969567536] and parameters: {'max_depth': 4, 'eta': 0.025902938137057463, 'subsample': 0.8484673321558971, 'colsample_bytree': 0.6553599877260009}.\n",
      "[I 2025-05-15 16:49:36,541] Trial 42 finished with values: [0.6857211127551442, 0.06355660420862905] and parameters: {'max_depth': 4, 'eta': 0.23607186106280517, 'subsample': 0.895148396510578, 'colsample_bytree': 0.7719778988682776}.\n",
      "[I 2025-05-15 16:49:36,698] Trial 43 finished with values: [0.6871379425487006, 0.07158087272454113] and parameters: {'max_depth': 7, 'eta': 0.07244472344212145, 'subsample': 0.6677536758069763, 'colsample_bytree': 0.8768042162511648}.\n",
      "[I 2025-05-15 16:49:36,808] Trial 44 finished with values: [0.687851718423076, 0.06404316467141445] and parameters: {'max_depth': 6, 'eta': 0.11882131932552817, 'subsample': 0.7757811392796486, 'colsample_bytree': 0.7448716110558081}.\n",
      "[I 2025-05-15 16:49:36,912] Trial 45 finished with values: [0.6664384421918127, 0.027290977930131632] and parameters: {'max_depth': 3, 'eta': 0.06430959876014217, 'subsample': 0.6780200083615282, 'colsample_bytree': 0.8681071061520467}.\n",
      "[I 2025-05-15 16:49:37,010] Trial 46 finished with values: [0.6650139538588317, 0.03733904694622] and parameters: {'max_depth': 3, 'eta': 0.16911942852306702, 'subsample': 0.9752397413848042, 'colsample_bytree': 0.6820232226292487}.\n",
      "[I 2025-05-15 16:49:37,243] Trial 47 finished with values: [0.6885670260053365, 0.079451568652554] and parameters: {'max_depth': 6, 'eta': 0.020804079330039884, 'subsample': 0.9691309672004427, 'colsample_bytree': 0.8624711867575799}.\n",
      "[I 2025-05-15 16:49:37,373] Trial 48 finished with values: [0.680726213342401, 0.05545699664649024] and parameters: {'max_depth': 5, 'eta': 0.06575674319783403, 'subsample': 0.8372969898416637, 'colsample_bytree': 0.6122276579326127}.\n",
      "[I 2025-05-15 16:49:37,502] Trial 49 finished with values: [0.6700165118109994, 0.042205741244113026] and parameters: {'max_depth': 3, 'eta': 0.18206898858798687, 'subsample': 0.7246598418332493, 'colsample_bytree': 0.9370366482483699}.\n",
      "[I 2025-05-15 16:49:37,515] A new study created in memory with name: no-name-ffe9b07c-4933-4061-b68c-18be792fb701\n",
      "[I 2025-05-15 16:49:37,640] Trial 0 finished with values: [0.6814262038458122, 0.052847597133872465] and parameters: {'max_depth': 5, 'eta': 0.199829857366441, 'subsample': 0.8113634377133215, 'colsample_bytree': 0.9706821717584042}.\n"
     ]
    },
    {
     "name": "stdout",
     "output_type": "stream",
     "text": [
      "Completed study for alpha=1\n",
      "[{'accuracy': 0.5000061268315397, 'dpd': 0.0, 'alpha': 0, 'params': {'alpha': 0, 'max_depth': 7, 'eta': 0.22571785870579533, 'subsample': 0.7549245617609082, 'colsample_bytree': 0.8564068669101881}}, {'accuracy': 0.6614420110711846, 'dpd': 0.022685717044366272, 'alpha': 1, 'params': {'alpha': 1, 'max_depth': 3, 'eta': 0.07181610823749664, 'subsample': 0.9993702966207471, 'colsample_bytree': 0.9283806506077897}}]\n",
      "0\n"
     ]
    },
    {
     "name": "stderr",
     "output_type": "stream",
     "text": [
      "[I 2025-05-15 16:49:37,785] Trial 1 finished with values: [0.6607251717810393, 0.04979021432358924] and parameters: {'max_depth': 6, 'eta': 0.036893774999760355, 'subsample': 0.869207702278322, 'colsample_bytree': 0.6461593280240302}.\n",
      "[I 2025-05-15 16:49:37,902] Trial 2 finished with values: [0.6635879338179658, 0.028020161188967174] and parameters: {'max_depth': 3, 'eta': 0.1474832758512428, 'subsample': 0.7294422138604334, 'colsample_bytree': 0.9639241388690059}.\n",
      "[I 2025-05-15 16:49:38,146] Trial 3 finished with values: [0.6728593616454219, 0.0661348397964356] and parameters: {'max_depth': 7, 'eta': 0.013842942804147745, 'subsample': 0.6576352065259878, 'colsample_bytree': 0.86483581713232}.\n",
      "[I 2025-05-15 16:49:38,383] Trial 4 finished with values: [0.6735731375197972, 0.04312784221716868] and parameters: {'max_depth': 6, 'eta': 0.02469295552313607, 'subsample': 0.796429281164034, 'colsample_bytree': 0.9401413783999186}.\n",
      "[I 2025-05-15 16:49:38,502] Trial 5 finished with values: [0.6728608933533068, 0.03558587019682923] and parameters: {'max_depth': 4, 'eta': 0.10823857048666491, 'subsample': 0.8507871165061767, 'colsample_bytree': 0.6378470491980873}.\n",
      "[I 2025-05-15 16:49:38,624] Trial 6 finished with values: [0.6750160063473974, 0.04693693782594489] and parameters: {'max_depth': 3, 'eta': 0.10551830706801874, 'subsample': 0.757162841077696, 'colsample_bytree': 0.655705961851186}.\n",
      "[I 2025-05-15 16:49:38,775] Trial 7 finished with values: [0.6550149647860357, 0.03322664056035335] and parameters: {'max_depth': 3, 'eta': 0.023111110640858874, 'subsample': 0.9059262919432574, 'colsample_bytree': 0.6200355560429597}.\n",
      "[I 2025-05-15 16:49:38,870] Trial 8 finished with values: [0.6785772271798501, 0.057028153519578705] and parameters: {'max_depth': 4, 'eta': 0.21193809164081506, 'subsample': 0.6477690359596884, 'colsample_bytree': 0.7470778633578741}.\n",
      "[I 2025-05-15 16:49:39,090] Trial 9 finished with values: [0.6721471174789313, 0.064238512441982] and parameters: {'max_depth': 7, 'eta': 0.030968251373628956, 'subsample': 0.7204028647342855, 'colsample_bytree': 0.8835389637497253}.\n",
      "[I 2025-05-15 16:49:39,214] Trial 10 finished with values: [0.6585777173263733, 0.04330451182583959] and parameters: {'max_depth': 3, 'eta': 0.222867125634133, 'subsample': 0.8295610829230661, 'colsample_bytree': 0.8751029248170769}.\n",
      "[I 2025-05-15 16:49:39,374] Trial 11 finished with values: [0.6621496601140203, 0.03132692508021529] and parameters: {'max_depth': 4, 'eta': 0.07058820990109899, 'subsample': 0.8897186810745645, 'colsample_bytree': 0.7274535766166552}.\n",
      "[I 2025-05-15 16:49:39,566] Trial 12 finished with values: [0.7014303088229438, 0.07274929199635734] and parameters: {'max_depth': 7, 'eta': 0.28631056850912096, 'subsample': 0.8711984773815775, 'colsample_bytree': 0.7049041719739981}.\n",
      "[I 2025-05-15 16:49:39,760] Trial 13 finished with values: [0.6678659939405636, 0.040154118805533455] and parameters: {'max_depth': 7, 'eta': 0.045074156309464, 'subsample': 0.6541027287974871, 'colsample_bytree': 0.6975499671284086}.\n",
      "[I 2025-05-15 16:49:39,896] Trial 14 finished with values: [0.6835690631768235, 0.08425311141616393] and parameters: {'max_depth': 6, 'eta': 0.21792228415193618, 'subsample': 0.7108637183222266, 'colsample_bytree': 0.7786341098003766}.\n",
      "[I 2025-05-15 16:49:40,002] Trial 15 finished with values: [0.6778603878897048, 0.05628577337575002] and parameters: {'max_depth': 4, 'eta': 0.18345719556659013, 'subsample': 0.9550975583082159, 'colsample_bytree': 0.6917832427135091}.\n",
      "[I 2025-05-15 16:49:40,106] Trial 16 finished with values: [0.6757328456375427, 0.028109496388983135] and parameters: {'max_depth': 4, 'eta': 0.2734597713253343, 'subsample': 0.632000284283828, 'colsample_bytree': 0.9290138815225034}.\n",
      "[I 2025-05-15 16:49:40,260] Trial 17 finished with values: [0.6800017155128311, 0.046956372541383136] and parameters: {'max_depth': 7, 'eta': 0.09152228348960018, 'subsample': 0.8527983808260939, 'colsample_bytree': 0.8417636051660612}.\n",
      "[I 2025-05-15 16:49:40,399] Trial 18 finished with values: [0.6857195810472594, 0.037787963739368984] and parameters: {'max_depth': 7, 'eta': 0.1681939775420626, 'subsample': 0.8617106495597613, 'colsample_bytree': 0.6415466840405483}.\n",
      "[I 2025-05-15 16:49:40,552] Trial 19 finished with values: [0.6664323153602729, 0.05905347349166049] and parameters: {'max_depth': 5, 'eta': 0.061412024425357266, 'subsample': 0.7040274179303007, 'colsample_bytree': 0.8496568832804635}.\n",
      "[I 2025-05-15 16:49:40,759] Trial 20 finished with values: [0.6771496754310992, 0.06574433456602995] and parameters: {'max_depth': 7, 'eta': 0.03118473768058786, 'subsample': 0.9621953394940945, 'colsample_bytree': 0.6957773737997778}.\n",
      "[I 2025-05-15 16:49:40,882] Trial 21 finished with values: [0.6614312891159901, 0.036951964080529996] and parameters: {'max_depth': 3, 'eta': 0.23504433533983934, 'subsample': 0.8346447829959954, 'colsample_bytree': 0.8576747715805106}.\n",
      "[I 2025-05-15 16:49:41,004] Trial 22 finished with values: [0.6814307989694669, 0.034698141831049155] and parameters: {'max_depth': 5, 'eta': 0.18752335664616065, 'subsample': 0.7940010634166305, 'colsample_bytree': 0.9254075432186978}.\n",
      "[I 2025-05-15 16:49:41,123] Trial 23 finished with values: [0.6842813073433139, 0.05873981730446593] and parameters: {'max_depth': 4, 'eta': 0.292488507467922, 'subsample': 0.9180187302626983, 'colsample_bytree': 0.6047808359571872}.\n",
      "[I 2025-05-15 16:49:41,252] Trial 24 finished with values: [0.6907114170442327, 0.05136095250697875] and parameters: {'max_depth': 6, 'eta': 0.1577761744352821, 'subsample': 0.8075679549397486, 'colsample_bytree': 0.9141392242570181}.\n",
      "[I 2025-05-15 16:49:41,412] Trial 25 finished with values: [0.6957109115806306, 0.08383337398073476] and parameters: {'max_depth': 7, 'eta': 0.1734129536765444, 'subsample': 0.9164471766141788, 'colsample_bytree': 0.8581335858236108}.\n",
      "[I 2025-05-15 16:49:41,537] Trial 26 finished with values: [0.6821476382596122, 0.046615524345763874] and parameters: {'max_depth': 4, 'eta': 0.226403272647091, 'subsample': 0.6623722740488805, 'colsample_bytree': 0.7292896521142256}.\n",
      "[I 2025-05-15 16:49:41,654] Trial 27 finished with values: [0.6671583448977279, 0.05026301305413027] and parameters: {'max_depth': 4, 'eta': 0.1397613405054233, 'subsample': 0.7347356185922984, 'colsample_bytree': 0.8210127943520038}.\n",
      "[I 2025-05-15 16:49:41,760] Trial 28 finished with values: [0.6664430373154676, 0.023684917272276406] and parameters: {'max_depth': 3, 'eta': 0.12314099382430206, 'subsample': 0.7410845186521147, 'colsample_bytree': 0.6531743602935575}.\n",
      "[I 2025-05-15 16:49:41,888] Trial 29 finished with values: [0.6921420322087534, 0.10105269820875411] and parameters: {'max_depth': 6, 'eta': 0.24392720358512487, 'subsample': 0.6557994827230205, 'colsample_bytree': 0.9990656892561358}.\n",
      "[I 2025-05-15 16:49:42,006] Trial 30 finished with values: [0.6714364050203258, 0.04969260676052407] and parameters: {'max_depth': 3, 'eta': 0.2474968079202608, 'subsample': 0.8573524402125492, 'colsample_bytree': 0.7530437053182797}.\n",
      "[I 2025-05-15 16:49:42,139] Trial 31 finished with values: [0.6685736429833993, 0.038635823681510494] and parameters: {'max_depth': 6, 'eta': 0.11411825215086269, 'subsample': 0.7341192185794524, 'colsample_bytree': 0.6164393040348245}.\n",
      "[I 2025-05-15 16:49:42,345] Trial 32 finished with values: [0.6757098700192689, 0.0557621383536622] and parameters: {'max_depth': 7, 'eta': 0.025886498581997888, 'subsample': 0.7307970253284957, 'colsample_bytree': 0.9493845352884842}.\n",
      "[I 2025-05-15 16:49:42,535] Trial 33 finished with values: [0.6878655037940405, 0.06095964364721156] and parameters: {'max_depth': 7, 'eta': 0.24432513804390013, 'subsample': 0.7322727291095509, 'colsample_bytree': 0.7040709578621209}.\n",
      "[I 2025-05-15 16:49:42,694] Trial 34 finished with values: [0.6842950927142782, 0.04647426490925305] and parameters: {'max_depth': 5, 'eta': 0.26703211519885983, 'subsample': 0.6288722070223542, 'colsample_bytree': 0.6452070861760962}.\n",
      "[I 2025-05-15 16:49:42,898] Trial 35 finished with values: [0.6685690478597445, 0.054844502928272254] and parameters: {'max_depth': 5, 'eta': 0.06414201306384526, 'subsample': 0.972784447451858, 'colsample_bytree': 0.8903049035695516}.\n",
      "[I 2025-05-15 16:49:43,148] Trial 36 finished with values: [0.6628756896514753, 0.02250338011352344] and parameters: {'max_depth': 3, 'eta': 0.0179822031065711, 'subsample': 0.7296346801227964, 'colsample_bytree': 0.7643481869881555}.\n",
      "[I 2025-05-15 16:49:43,346] Trial 37 finished with values: [0.6928649983304385, 0.08887547113797611] and parameters: {'max_depth': 5, 'eta': 0.2695535438422503, 'subsample': 0.9613123440184014, 'colsample_bytree': 0.7369288717208113}.\n",
      "[I 2025-05-15 16:49:43,540] Trial 38 finished with values: [0.6864333569216349, 0.06299101078911545] and parameters: {'max_depth': 7, 'eta': 0.06896341844371907, 'subsample': 0.6343286280272449, 'colsample_bytree': 0.9984175202018515}.\n",
      "[I 2025-05-15 16:49:43,708] Trial 39 finished with values: [0.6664369104839278, 0.02395422351316277] and parameters: {'max_depth': 3, 'eta': 0.22686770266133785, 'subsample': 0.9564424221422189, 'colsample_bytree': 0.675241076843663}.\n",
      "[I 2025-05-15 16:49:43,897] Trial 40 finished with values: [0.6878486550073063, 0.08594542278105184] and parameters: {'max_depth': 6, 'eta': 0.14449930903103733, 'subsample': 0.9625087449415547, 'colsample_bytree': 0.8812306201703584}.\n",
      "[I 2025-05-15 16:49:44,021] Trial 41 finished with values: [0.6671414961109936, 0.05745060865179858] and parameters: {'max_depth': 4, 'eta': 0.09296387563970034, 'subsample': 0.7710486755165221, 'colsample_bytree': 0.793739196394527}.\n",
      "[I 2025-05-15 16:49:44,200] Trial 42 finished with values: [0.6735746692276822, 0.0422167824613926] and parameters: {'max_depth': 6, 'eta': 0.07773001859842649, 'subsample': 0.8929280399225024, 'colsample_bytree': 0.6722893006623014}.\n",
      "[I 2025-05-15 16:49:44,374] Trial 43 finished with values: [0.7135583718557866, 0.08968269376688592] and parameters: {'max_depth': 7, 'eta': 0.29904447997783545, 'subsample': 0.9525499429192176, 'colsample_bytree': 0.7556507408415508}.\n",
      "[I 2025-05-15 16:49:44,669] Trial 44 finished with values: [0.6642940511529166, 0.05788924682913599] and parameters: {'max_depth': 4, 'eta': 0.0120339252920948, 'subsample': 0.8359884045648314, 'colsample_bytree': 0.7845605227339828}.\n",
      "[I 2025-05-15 16:49:44,807] Trial 45 finished with values: [0.6857211127551442, 0.05670767959276637] and parameters: {'max_depth': 6, 'eta': 0.141579430570485, 'subsample': 0.6411762686227064, 'colsample_bytree': 0.9443451663121921}.\n",
      "[I 2025-05-15 16:49:44,951] Trial 46 finished with values: [0.6585869075736829, 0.022647322546867753] and parameters: {'max_depth': 3, 'eta': 0.07271542440264182, 'subsample': 0.9998537439171906, 'colsample_bytree': 0.6048127044187757}.\n",
      "[I 2025-05-15 16:49:45,142] Trial 47 finished with values: [0.6571516972855073, 0.019544747785565048] and parameters: {'max_depth': 3, 'eta': 0.03580422974484461, 'subsample': 0.7686903923315366, 'colsample_bytree': 0.8530055619148439}.\n",
      "[I 2025-05-15 16:49:45,275] Trial 48 finished with values: [0.6835843802556726, 0.04961012195096141] and parameters: {'max_depth': 4, 'eta': 0.24896880022025364, 'subsample': 0.6334441540713664, 'colsample_bytree': 0.7921616726116996}.\n",
      "[I 2025-05-15 16:49:45,435] Trial 49 finished with values: [0.6585823124500281, 0.0260431009569759] and parameters: {'max_depth': 3, 'eta': 0.050264794489381266, 'subsample': 0.8939249895711119, 'colsample_bytree': 0.792634493071795}.\n",
      "[I 2025-05-15 16:49:45,448] A new study created in memory with name: no-name-722cf217-8791-4fdb-8320-670a2d834cf0\n",
      "[I 2025-05-15 16:49:45,623] Trial 0 finished with values: [0.6757098700192689, 0.05345806479570973] and parameters: {'max_depth': 7, 'eta': 0.15124016142520424, 'subsample': 0.8301887756307946, 'colsample_bytree': 0.819729736033175}.\n"
     ]
    },
    {
     "name": "stdout",
     "output_type": "stream",
     "text": [
      "Completed study for alpha=0.5\n",
      "1\n"
     ]
    },
    {
     "name": "stderr",
     "output_type": "stream",
     "text": [
      "[I 2025-05-15 16:49:45,770] Trial 1 finished with values: [0.6892915238349063, 0.05521766620458154] and parameters: {'max_depth': 7, 'eta': 0.2900048688814539, 'subsample': 0.6263583839989615, 'colsample_bytree': 0.7602446179244481}.\n",
      "[I 2025-05-15 16:49:45,878] Trial 2 finished with values: [0.6693012042287392, 0.028069965193908992] and parameters: {'max_depth': 3, 'eta': 0.1554225580002184, 'subsample': 0.6331804071481446, 'colsample_bytree': 0.6005475040977464}.\n",
      "[I 2025-05-15 16:49:45,990] Trial 3 finished with values: [0.6700088532715749, 0.052823118144604636] and parameters: {'max_depth': 4, 'eta': 0.20723377130168677, 'subsample': 0.9185259501315941, 'colsample_bytree': 0.7318949014459037}.\n",
      "[I 2025-05-15 16:49:46,136] Trial 4 finished with values: [0.6578639414519979, 0.024361808030316345] and parameters: {'max_depth': 4, 'eta': 0.04494651185529068, 'subsample': 0.6129485986976041, 'colsample_bytree': 0.7124398931377947}.\n",
      "[I 2025-05-15 16:49:46,238] Trial 5 finished with values: [0.6750129429316276, 0.039234113212373044] and parameters: {'max_depth': 3, 'eta': 0.20269588161052923, 'subsample': 0.7338761296289067, 'colsample_bytree': 0.9428059139744006}.\n",
      "[I 2025-05-15 16:49:46,395] Trial 6 finished with values: [0.6750052843922031, 0.046119490928431955] and parameters: {'max_depth': 5, 'eta': 0.10542351816829694, 'subsample': 0.6371750525846236, 'colsample_bytree': 0.9644075622759135}.\n",
      "[I 2025-05-15 16:49:46,559] Trial 7 finished with values: [0.676428241017299, 0.029574077690797174] and parameters: {'max_depth': 4, 'eta': 0.10011937979789982, 'subsample': 0.7449325577113194, 'colsample_bytree': 0.9831920467444416}.\n",
      "[I 2025-05-15 16:49:46,722] Trial 8 finished with values: [0.6692920139814297, 0.03175760596398527] and parameters: {'max_depth': 6, 'eta': 0.07667688386168586, 'subsample': 0.7081662138833481, 'colsample_bytree': 0.8986372716133046}.\n",
      "[I 2025-05-15 16:49:46,857] Trial 9 finished with values: [0.6742961036414824, 0.022329086920764574] and parameters: {'max_depth': 6, 'eta': 0.18391202452520058, 'subsample': 0.8504336341957413, 'colsample_bytree': 0.6130531560706248}.\n",
      "[I 2025-05-15 16:49:46,999] Trial 10 finished with values: [0.6807231499266312, 0.03882816608719739] and parameters: {'max_depth': 6, 'eta': 0.28199626388670834, 'subsample': 0.6118445428091709, 'colsample_bytree': 0.8167477199901645}.\n",
      "[I 2025-05-15 16:49:47,157] Trial 11 finished with values: [0.682855287302448, 0.0646662400244075] and parameters: {'max_depth': 6, 'eta': 0.21580979970169192, 'subsample': 0.7542909537071207, 'colsample_bytree': 0.9617468007341252}.\n",
      "[I 2025-05-15 16:49:47,280] Trial 12 finished with values: [0.6750083478079728, 0.029872626407732628] and parameters: {'max_depth': 4, 'eta': 0.14072013522129256, 'subsample': 0.7778534588697074, 'colsample_bytree': 0.9049616109176872}.\n",
      "[I 2025-05-15 16:49:47,437] Trial 13 finished with values: [0.6592914932007486, 0.033700674769632726] and parameters: {'max_depth': 4, 'eta': 0.03725344107833017, 'subsample': 0.9933250132917001, 'colsample_bytree': 0.63080043703509}.\n",
      "[I 2025-05-15 16:49:47,598] Trial 14 finished with values: [0.6657170077780127, 0.04014117852465263] and parameters: {'max_depth': 6, 'eta': 0.07757628693336752, 'subsample': 0.6788599006687481, 'colsample_bytree': 0.7798288922708877}.\n",
      "[I 2025-05-15 16:49:47,746] Trial 15 finished with values: [0.6835843802556726, 0.06301188556682458] and parameters: {'max_depth': 5, 'eta': 0.14024115618337646, 'subsample': 0.6504122261871016, 'colsample_bytree': 0.8566263145330317}.\n",
      "[I 2025-05-15 16:49:47,875] Trial 16 finished with values: [0.6700180435188844, 0.02743613424082092] and parameters: {'max_depth': 3, 'eta': 0.14764955887890469, 'subsample': 0.6595637200447473, 'colsample_bytree': 0.8610877415767679}.\n",
      "[I 2025-05-15 16:49:48,011] Trial 17 finished with values: [0.680006310636486, 0.0364436122476508] and parameters: {'max_depth': 4, 'eta': 0.29832580674309744, 'subsample': 0.7687265991477927, 'colsample_bytree': 0.9843424378677538}.\n",
      "[I 2025-05-15 16:49:48,156] Trial 18 finished with values: [0.6714318098966711, 0.05502168912519306] and parameters: {'max_depth': 5, 'eta': 0.0972716945643037, 'subsample': 0.9612249773063042, 'colsample_bytree': 0.8503756229994127}.\n",
      "[I 2025-05-15 16:49:48,311] Trial 19 finished with values: [0.6628557774489712, 0.0458988371208685] and parameters: {'max_depth': 6, 'eta': 0.10585614227383544, 'subsample': 0.8422214067032286, 'colsample_bytree': 0.7638864097601734}.\n",
      "[I 2025-05-15 16:49:48,465] Trial 20 finished with values: [0.6785741637640802, 0.05400264175500246] and parameters: {'max_depth': 7, 'eta': 0.16251397983671773, 'subsample': 0.869556881245013, 'colsample_bytree': 0.7387728547642121}.\n",
      "[I 2025-05-15 16:49:48,608] Trial 21 finished with values: [0.6985782687412118, 0.0721383943750976] and parameters: {'max_depth': 7, 'eta': 0.2752576249117028, 'subsample': 0.9877241740641363, 'colsample_bytree': 0.7729395295946703}.\n",
      "[I 2025-05-15 16:49:48,872] Trial 22 finished with values: [0.6707256925617201, 0.04716187699952104] and parameters: {'max_depth': 6, 'eta': 0.014254937132700929, 'subsample': 0.9137225470463191, 'colsample_bytree': 0.6709787406861645}.\n",
      "[I 2025-05-15 16:49:49,034] Trial 23 finished with values: [0.6750006892685482, 0.04753065800699172] and parameters: {'max_depth': 7, 'eta': 0.0960806031758045, 'subsample': 0.951365073243907, 'colsample_bytree': 0.8074041387490005}.\n",
      "[I 2025-05-15 16:49:49,161] Trial 24 finished with values: [0.6657292614410921, 0.03048585833965972] and parameters: {'max_depth': 3, 'eta': 0.14701470787456858, 'subsample': 0.6418044561426794, 'colsample_bytree': 0.6629013124980836}.\n",
      "[I 2025-05-15 16:49:49,285] Trial 25 finished with values: [0.6842966244221632, 0.03931872988425367] and parameters: {'max_depth': 6, 'eta': 0.2514678672033424, 'subsample': 0.8638349643978203, 'colsample_bytree': 0.8240484273373875}.\n",
      "[I 2025-05-15 16:49:49,430] Trial 26 finished with values: [0.6700042581479201, 0.02991552357475961] and parameters: {'max_depth': 7, 'eta': 0.1188534976925942, 'subsample': 0.873531696457948, 'colsample_bytree': 0.9082821411014882}.\n",
      "[I 2025-05-15 16:49:49,668] Trial 27 finished with values: [0.6750022209764331, 0.0384151256408026] and parameters: {'max_depth': 4, 'eta': 0.013403676802248975, 'subsample': 0.8444952651688926, 'colsample_bytree': 0.8956395872969241}.\n",
      "[I 2025-05-15 16:49:49,794] Trial 28 finished with values: [0.6942940817870742, 0.0677110018394049] and parameters: {'max_depth': 5, 'eta': 0.2762549416640772, 'subsample': 0.6475322090625724, 'colsample_bytree': 0.8565672896596308}.\n",
      "[I 2025-05-15 16:49:49,913] Trial 29 finished with values: [0.6771558022626388, 0.05601598819732997] and parameters: {'max_depth': 5, 'eta': 0.2567200118620551, 'subsample': 0.7310313295867934, 'colsample_bytree': 0.8242354819376427}.\n",
      "[I 2025-05-15 16:49:50,060] Trial 30 finished with values: [0.6742976353493672, 0.048530781856222914] and parameters: {'max_depth': 6, 'eta': 0.09750584932347903, 'subsample': 0.6108598980682041, 'colsample_bytree': 0.8407907019056263}.\n",
      "[I 2025-05-15 16:49:50,206] Trial 31 finished with values: [0.6678690573563335, 0.04301468576444208] and parameters: {'max_depth': 5, 'eta': 0.08433094673816878, 'subsample': 0.6298569446515263, 'colsample_bytree': 0.7988950110382711}.\n",
      "[I 2025-05-15 16:49:50,328] Trial 32 finished with values: [0.6685889600622485, 0.042935816663428876] and parameters: {'max_depth': 3, 'eta': 0.06840440134705095, 'subsample': 0.802971061397554, 'colsample_bytree': 0.8987036596574254}.\n",
      "[I 2025-05-15 16:49:50,467] Trial 33 finished with values: [0.6721455857710463, 0.054346553117352286] and parameters: {'max_depth': 5, 'eta': 0.09594002161176633, 'subsample': 0.604001739571553, 'colsample_bytree': 0.8003083913469446}.\n",
      "[I 2025-05-15 16:49:50,697] Trial 34 finished with values: [0.6642955828608015, 0.040854701386883886] and parameters: {'max_depth': 7, 'eta': 0.02325055305282613, 'subsample': 0.8246620855605119, 'colsample_bytree': 0.7751677549365413}.\n",
      "[I 2025-05-15 16:49:50,854] Trial 35 finished with values: [0.6757175285586935, 0.03234478977898766] and parameters: {'max_depth': 6, 'eta': 0.11686350622383376, 'subsample': 0.6499850112893135, 'colsample_bytree': 0.8795355931040245}.\n",
      "[I 2025-05-15 16:49:51,062] Trial 36 finished with values: [0.6678598671090238, 0.015742825534745836] and parameters: {'max_depth': 5, 'eta': 0.1964127741472478, 'subsample': 0.8067328533300164, 'colsample_bytree': 0.6953495936385535}.\n",
      "[I 2025-05-15 16:49:51,228] Trial 37 finished with values: [0.6707241608538353, 0.046525297769035044] and parameters: {'max_depth': 7, 'eta': 0.057100333513309794, 'subsample': 0.6760230111436731, 'colsample_bytree': 0.7599931252297552}.\n",
      "[I 2025-05-15 16:49:51,348] Trial 38 finished with values: [0.6721486491868163, 0.034695748297107955] and parameters: {'max_depth': 4, 'eta': 0.20345932703503558, 'subsample': 0.609585701313115, 'colsample_bytree': 0.6462101225385376}.\n",
      "[I 2025-05-15 16:49:51,495] Trial 39 finished with values: [0.6550164964939206, 0.022776449004279015] and parameters: {'max_depth': 3, 'eta': 0.0371783199739719, 'subsample': 0.9279397486354446, 'colsample_bytree': 0.7057982331275107}.\n",
      "[I 2025-05-15 16:49:51,650] Trial 40 finished with values: [0.6700103849794597, 0.025869259503992853] and parameters: {'max_depth': 4, 'eta': 0.07469551537274763, 'subsample': 0.6764544535517607, 'colsample_bytree': 0.6427190037624723}.\n",
      "[I 2025-05-15 16:49:51,788] Trial 41 finished with values: [0.6800124374680255, 0.044022468565911] and parameters: {'max_depth': 7, 'eta': 0.1902349497454091, 'subsample': 0.7924693825573346, 'colsample_bytree': 0.7131053729941341}.\n",
      "[I 2025-05-15 16:49:51,898] Trial 42 finished with values: [0.6721471174789313, 0.03147404919387351] and parameters: {'max_depth': 4, 'eta': 0.1952510798588176, 'subsample': 0.991555245237438, 'colsample_bytree': 0.7241987692266038}.\n",
      "[I 2025-05-15 16:49:52,015] Trial 43 finished with values: [0.6607251717810393, 0.03663703033283718] and parameters: {'max_depth': 3, 'eta': 0.0967500800610213, 'subsample': 0.8584954345468616, 'colsample_bytree': 0.7437429357165356}.\n",
      "[I 2025-05-15 16:49:52,140] Trial 44 finished with values: [0.673579264351337, 0.03541946878267141] and parameters: {'max_depth': 3, 'eta': 0.2876223969389928, 'subsample': 0.9076301087787131, 'colsample_bytree': 0.8676413500170119}.\n",
      "[I 2025-05-15 16:49:52,267] Trial 45 finished with values: [0.6821568285069217, 0.05410211269535068] and parameters: {'max_depth': 4, 'eta': 0.26106938511994254, 'subsample': 0.7290036794236922, 'colsample_bytree': 0.7363083257341108}.\n",
      "[I 2025-05-15 16:49:52,399] Trial 46 finished with values: [0.6728624250611918, 0.0318718358098636] and parameters: {'max_depth': 6, 'eta': 0.19679873875056217, 'subsample': 0.8816222951842475, 'colsample_bytree': 0.6074672721363983}.\n",
      "[I 2025-05-15 16:49:52,533] Trial 47 finished with values: [0.6778603878897048, 0.042163245006937494] and parameters: {'max_depth': 7, 'eta': 0.20063314763187615, 'subsample': 0.8097004635256435, 'colsample_bytree': 0.901765953188689}.\n",
      "[I 2025-05-15 16:49:52,649] Trial 48 finished with values: [0.6771481437232142, 0.0444840727024275] and parameters: {'max_depth': 5, 'eta': 0.2071276546467105, 'subsample': 0.9998603015745621, 'colsample_bytree': 0.8988909461482394}.\n",
      "[I 2025-05-15 16:49:52,765] Trial 49 finished with values: [0.6678613988169088, 0.03134923086918926] and parameters: {'max_depth': 4, 'eta': 0.15136594057308392, 'subsample': 0.810896301630185, 'colsample_bytree': 0.995715268070256}.\n",
      "[I 2025-05-15 16:49:52,776] A new study created in memory with name: no-name-feef403c-e406-4283-ba76-156457bf156a\n",
      "[I 2025-05-15 16:49:52,884] Trial 0 finished with values: [0.6728593616454219, 0.010549653918828228] and parameters: {'max_depth': 4, 'eta': 0.29523113560177283, 'subsample': 0.9644138107213001, 'colsample_bytree': 0.8794970177552963}.\n"
     ]
    },
    {
     "name": "stdout",
     "output_type": "stream",
     "text": [
      "Completed study for alpha=0.25\n",
      "2\n"
     ]
    },
    {
     "name": "stderr",
     "output_type": "stream",
     "text": [
      "[I 2025-05-15 16:49:53,033] Trial 1 finished with values: [0.6643032414002261, 0.019301902676754256] and parameters: {'max_depth': 6, 'eta': 0.053210005330974676, 'subsample': 0.6147581920833953, 'colsample_bytree': 0.6033051465012714}.\n",
      "[I 2025-05-15 16:49:53,168] Trial 2 finished with values: [0.6557272089525262, 0.015645935408936645] and parameters: {'max_depth': 3, 'eta': 0.20543312061276608, 'subsample': 0.7159258594797323, 'colsample_bytree': 0.7821053743773069}.\n",
      "[I 2025-05-15 16:49:53,349] Trial 3 finished with values: [0.6557256772446413, 0.03203628297712365] and parameters: {'max_depth': 3, 'eta': 0.053731459128236424, 'subsample': 0.9818663347476183, 'colsample_bytree': 0.7931580625266264}.\n",
      "[I 2025-05-15 16:49:53,467] Trial 4 finished with values: [0.6614404793632996, 0.012835846936177906] and parameters: {'max_depth': 5, 'eta': 0.19429003903052086, 'subsample': 0.7838226846027847, 'colsample_bytree': 0.9057289975691535}.\n",
      "[I 2025-05-15 16:49:53,589] Trial 5 finished with values: [0.6614466061948394, 0.01597513403803047] and parameters: {'max_depth': 7, 'eta': 0.09716337519827595, 'subsample': 0.651956376374219, 'colsample_bytree': 0.7058825060389917}.\n",
      "[I 2025-05-15 16:49:53,708] Trial 6 finished with values: [0.673600708261726, 0.026893952066108506] and parameters: {'max_depth': 3, 'eta': 0.2955400482524518, 'subsample': 0.845502630391483, 'colsample_bytree': 0.6681602217988324}.\n",
      "[I 2025-05-15 16:49:53,869] Trial 7 finished with values: [0.6678598671090238, 0.023118037154900056] and parameters: {'max_depth': 6, 'eta': 0.28551229223922175, 'subsample': 0.7093986697515577, 'colsample_bytree': 0.7090535681398554}.\n",
      "[I 2025-05-15 16:49:54,007] Trial 8 finished with values: [0.6571532289933922, 0.01932308792627847] and parameters: {'max_depth': 6, 'eta': 0.13969658771459809, 'subsample': 0.8899362581778052, 'colsample_bytree': 0.7663565160499637}.\n",
      "[I 2025-05-15 16:49:54,138] Trial 9 finished with values: [0.6614435427790696, 0.026714184640097633] and parameters: {'max_depth': 7, 'eta': 0.2065201392077828, 'subsample': 0.7878882011633108, 'colsample_bytree': 0.7271457169160259}.\n",
      "[I 2025-05-15 16:49:54,273] Trial 10 finished with values: [0.6564302628717072, 0.02310317826409186] and parameters: {'max_depth': 6, 'eta': 0.15404404841277294, 'subsample': 0.7355170177369478, 'colsample_bytree': 0.9873594578749234}.\n",
      "[I 2025-05-15 16:49:54,400] Trial 11 finished with values: [0.6571486338697374, 0.02689764315843593] and parameters: {'max_depth': 5, 'eta': 0.18407057966506638, 'subsample': 0.9919109696724795, 'colsample_bytree': 0.798039326370928}.\n",
      "[I 2025-05-15 16:49:54,530] Trial 12 finished with values: [0.6771603973862937, 0.026219270978448044] and parameters: {'max_depth': 7, 'eta': 0.26461580999404666, 'subsample': 0.60002222391828, 'colsample_bytree': 0.8061369157525008}.\n",
      "[I 2025-05-15 16:49:54,673] Trial 13 finished with values: [0.6578746634071923, 0.031544727615483055] and parameters: {'max_depth': 4, 'eta': 0.043924765574261636, 'subsample': 0.9387678875376254, 'colsample_bytree': 0.7096111717224052}.\n",
      "[I 2025-05-15 16:49:54,978] Trial 14 finished with values: [0.6593022151559432, 0.01352888489456928] and parameters: {'max_depth': 5, 'eta': 0.010499796537810075, 'subsample': 0.8156342141874988, 'colsample_bytree': 0.7423923927227427}.\n",
      "[I 2025-05-15 16:49:55,133] Trial 15 finished with values: [0.6585869075736829, 0.026024161111118937] and parameters: {'max_depth': 4, 'eta': 0.058464504229398535, 'subsample': 0.9753954637641264, 'colsample_bytree': 0.6994145762716821}.\n",
      "[I 2025-05-15 16:49:55,257] Trial 16 finished with values: [0.6678659939405636, 0.020825914550244073] and parameters: {'max_depth': 5, 'eta': 0.21747493703011986, 'subsample': 0.7202494297629822, 'colsample_bytree': 0.8440540816972132}.\n",
      "[I 2025-05-15 16:49:55,386] Trial 17 finished with values: [0.6757282505138881, 0.016025215171596625] and parameters: {'max_depth': 5, 'eta': 0.29678602647914276, 'subsample': 0.8952383440144854, 'colsample_bytree': 0.6865660115764721}.\n",
      "[I 2025-05-15 16:49:55,536] Trial 18 finished with values: [0.6593006834480583, 0.01755740005932485] and parameters: {'max_depth': 4, 'eta': 0.062446931027723813, 'subsample': 0.7822234391825964, 'colsample_bytree': 0.6605790245332709}.\n",
      "[I 2025-05-15 16:49:55,682] Trial 19 finished with values: [0.6635756801548863, 0.024926408499643383] and parameters: {'max_depth': 6, 'eta': 0.23869137689877964, 'subsample': 0.8320768687894465, 'colsample_bytree': 0.897447535564613}.\n",
      "[I 2025-05-15 16:49:55,830] Trial 20 finished with values: [0.6707134388986408, 0.03220929890993011] and parameters: {'max_depth': 7, 'eta': 0.28801686615465155, 'subsample': 0.9144470345877124, 'colsample_bytree': 0.7902998273880253}.\n",
      "[I 2025-05-15 16:49:55,960] Trial 21 finished with values: [0.677152738846869, 0.0279947410087872] and parameters: {'max_depth': 6, 'eta': 0.25919006189040805, 'subsample': 0.9809769657644467, 'colsample_bytree': 0.8354466083807199}.\n",
      "[I 2025-05-15 16:49:56,107] Trial 22 finished with values: [0.6700088532715749, 0.023218695591600464] and parameters: {'max_depth': 6, 'eta': 0.2818390124996196, 'subsample': 0.824037630469388, 'colsample_bytree': 0.9225304877024323}.\n",
      "[I 2025-05-15 16:49:56,239] Trial 23 finished with values: [0.6742915085178275, 0.029913957291139864] and parameters: {'max_depth': 5, 'eta': 0.24088212361382588, 'subsample': 0.6532382131150849, 'colsample_bytree': 0.8414470193173056}.\n",
      "[I 2025-05-15 16:49:56,384] Trial 24 finished with values: [0.6535874130372848, 0.027811707040790556] and parameters: {'max_depth': 3, 'eta': 0.04050371969679207, 'subsample': 0.9831271493933538, 'colsample_bytree': 0.66866873874929}.\n",
      "[I 2025-05-15 16:49:56,503] Trial 25 finished with values: [0.662157318653445, 0.023877920883877097] and parameters: {'max_depth': 4, 'eta': 0.1874513696745625, 'subsample': 0.652442612822457, 'colsample_bytree': 0.9729644229027905}.\n",
      "[I 2025-05-15 16:49:56,619] Trial 26 finished with values: [0.6607267034889243, 0.019994871282795295] and parameters: {'max_depth': 3, 'eta': 0.17197702244702268, 'subsample': 0.962582113867807, 'colsample_bytree': 0.8839820091154693}.\n",
      "[I 2025-05-15 16:49:56,766] Trial 27 finished with values: [0.6542935303722356, 0.023791154005684222] and parameters: {'max_depth': 6, 'eta': 0.08374544773714167, 'subsample': 0.9320262362158561, 'colsample_bytree': 0.9178912660254892}.\n",
      "[I 2025-05-15 16:49:56,899] Trial 28 finished with values: [0.6521537344569942, 0.018358906575235184] and parameters: {'max_depth': 3, 'eta': 0.0682995744067957, 'subsample': 0.8721003018906632, 'colsample_bytree': 0.66927323305393}.\n",
      "[I 2025-05-15 16:49:57,035] Trial 29 finished with values: [0.6600129276145488, 0.02373022067791808] and parameters: {'max_depth': 5, 'eta': 0.10527216560727314, 'subsample': 0.9368594672654196, 'colsample_bytree': 0.8858016061639189}.\n",
      "[I 2025-05-15 16:49:57,161] Trial 30 finished with values: [0.6550042428308412, 0.030686504795314706] and parameters: {'max_depth': 6, 'eta': 0.15925812284550428, 'subsample': 0.9235801155413171, 'colsample_bytree': 0.8267308957475532}.\n",
      "[I 2025-05-15 16:49:57,293] Trial 31 finished with values: [0.674300698765137, 0.027069707865936127] and parameters: {'max_depth': 6, 'eta': 0.16100843338944248, 'subsample': 0.6011047485920694, 'colsample_bytree': 0.8902765123235736}.\n",
      "[I 2025-05-15 16:49:57,438] Trial 32 finished with values: [0.6607328303204639, 0.007942725013793553] and parameters: {'max_depth': 4, 'eta': 0.07393683942047642, 'subsample': 0.755031624608786, 'colsample_bytree': 0.8951071748065353}.\n",
      "[I 2025-05-15 16:49:57,573] Trial 33 finished with values: [0.6635848704021959, 0.030806984764733387] and parameters: {'max_depth': 5, 'eta': 0.15682638013894942, 'subsample': 0.6772374561414437, 'colsample_bytree': 0.7496050767946889}.\n",
      "[I 2025-05-15 16:49:57,684] Trial 34 finished with values: [0.6678751841878733, 0.009589500715513677] and parameters: {'max_depth': 3, 'eta': 0.22774846984366032, 'subsample': 0.619673646377782, 'colsample_bytree': 0.7980609948203969}.\n",
      "[I 2025-05-15 16:49:57,812] Trial 35 finished with values: [0.6650017001957523, 0.01444386895475136] and parameters: {'max_depth': 4, 'eta': 0.22590378504874872, 'subsample': 0.8372681521408093, 'colsample_bytree': 0.9970024589492232}.\n",
      "[I 2025-05-15 16:49:57,944] Trial 36 finished with values: [0.6535797544978602, 0.026380891434929044] and parameters: {'max_depth': 4, 'eta': 0.14235677288291596, 'subsample': 0.8360338869170307, 'colsample_bytree': 0.9749211921783644}.\n",
      "[I 2025-05-15 16:49:58,061] Trial 37 finished with values: [0.665007827027292, 0.014141986548671251] and parameters: {'max_depth': 3, 'eta': 0.129944286649227, 'subsample': 0.6244635579799717, 'colsample_bytree': 0.866960573219703}.\n",
      "[I 2025-05-15 16:49:58,199] Trial 38 finished with values: [0.6528659786234847, 0.010908997912984506] and parameters: {'max_depth': 6, 'eta': 0.13323768455579663, 'subsample': 0.8262217794317586, 'colsample_bytree': 0.7324598590849327}.\n",
      "[I 2025-05-15 16:49:58,323] Trial 39 finished with values: [0.6742945719335974, 0.03091048946151174] and parameters: {'max_depth': 6, 'eta': 0.2915555916151449, 'subsample': 0.6172233320986242, 'colsample_bytree': 0.8532800167049319}.\n",
      "[I 2025-05-15 16:49:58,462] Trial 40 finished with values: [0.6578715999914224, 0.009324546385964102] and parameters: {'max_depth': 5, 'eta': 0.06455841267576594, 'subsample': 0.8074335304186258, 'colsample_bytree': 0.7442037266242636}.\n",
      "[I 2025-05-15 16:49:58,575] Trial 41 finished with values: [0.6728700836006164, 0.033941510943064725] and parameters: {'max_depth': 5, 'eta': 0.2436159019628262, 'subsample': 0.6365525860035117, 'colsample_bytree': 0.7132294187026985}.\n",
      "[I 2025-05-15 16:49:58,702] Trial 42 finished with values: [0.6742976353493674, 0.024541601849656924] and parameters: {'max_depth': 7, 'eta': 0.20077499394269668, 'subsample': 0.8386820864849683, 'colsample_bytree': 0.908589686227566}.\n",
      "[I 2025-05-15 16:49:58,833] Trial 43 finished with values: [0.6585777173263733, 0.024630070101891676] and parameters: {'max_depth': 6, 'eta': 0.13984308926815617, 'subsample': 0.8179823874063761, 'colsample_bytree': 0.9043491005331379}.\n",
      "[I 2025-05-15 16:49:58,955] Trial 44 finished with values: [0.6707333511011448, 0.018467423488518642] and parameters: {'max_depth': 4, 'eta': 0.1549512909164008, 'subsample': 0.6232665361555777, 'colsample_bytree': 0.6071321520560536}.\n",
      "[I 2025-05-15 16:49:59,106] Trial 45 finished with values: [0.6564409848269017, 0.017830494559642623] and parameters: {'max_depth': 5, 'eta': 0.05984376375813212, 'subsample': 0.8764480002215624, 'colsample_bytree': 0.8092560365986832}.\n",
      "[I 2025-05-15 16:49:59,225] Trial 46 finished with values: [0.6607282351968092, 0.015191118200001538] and parameters: {'max_depth': 4, 'eta': 0.11501086692132528, 'subsample': 0.6673412678974388, 'colsample_bytree': 0.7897803249864984}.\n",
      "[I 2025-05-15 16:49:59,364] Trial 47 finished with values: [0.6585807807421431, 0.01392791788564283] and parameters: {'max_depth': 6, 'eta': 0.06468258464019994, 'subsample': 0.6245866972986207, 'colsample_bytree': 0.9465285529983483}.\n",
      "[I 2025-05-15 16:49:59,482] Trial 48 finished with values: [0.6714486586834053, 0.015442997625119729] and parameters: {'max_depth': 3, 'eta': 0.2733745750949829, 'subsample': 0.7799481350300566, 'colsample_bytree': 0.9808342650704556}.\n",
      "[I 2025-05-15 16:49:59,613] Trial 49 finished with values: [0.6585869075736829, 0.017133740524681168] and parameters: {'max_depth': 5, 'eta': 0.1044727251770527, 'subsample': 0.8102113035366184, 'colsample_bytree': 0.6721270421424618}.\n",
      "[I 2025-05-15 16:49:59,621] A new study created in memory with name: no-name-e7756e2f-b84d-4276-a5a5-873d9a5d80c7\n",
      "[I 2025-05-15 16:49:59,735] Trial 0 finished with values: [0.6585853758657979, 0.020151473013324216] and parameters: {'max_depth': 4, 'eta': 0.15004282293459897, 'subsample': 0.9718166326638651, 'colsample_bytree': 0.8242727285041936}.\n"
     ]
    },
    {
     "name": "stdout",
     "output_type": "stream",
     "text": [
      "Completed study for alpha=0.125\n",
      "3\n"
     ]
    },
    {
     "name": "stderr",
     "output_type": "stream",
     "text": [
      "[I 2025-05-15 16:49:59,858] Trial 1 finished with values: [0.6678721207721033, 0.018551817632708235] and parameters: {'max_depth': 5, 'eta': 0.16255411106589787, 'subsample': 0.8185694607496479, 'colsample_bytree': 0.8004247519563106}.\n",
      "[I 2025-05-15 16:49:59,992] Trial 2 finished with values: [0.663580275278541, 0.020017728350612274] and parameters: {'max_depth': 6, 'eta': 0.25597219852873004, 'subsample': 0.7281753188717224, 'colsample_bytree': 0.842368649248692}.\n",
      "[I 2025-05-15 16:50:00,111] Trial 3 finished with values: [0.6614404793632996, 0.01519794402893825] and parameters: {'max_depth': 3, 'eta': 0.16006936092889998, 'subsample': 0.827397159861059, 'colsample_bytree': 0.8456580157577647}.\n",
      "[I 2025-05-15 16:50:00,229] Trial 4 finished with values: [0.6650124221509467, 0.01877180462565642] and parameters: {'max_depth': 6, 'eta': 0.15580645188753364, 'subsample': 0.654147716163683, 'colsample_bytree': 0.6408239819870293}.\n",
      "[I 2025-05-15 16:50:00,341] Trial 5 finished with values: [0.6614420110711846, 0.00955545260329313] and parameters: {'max_depth': 3, 'eta': 0.2643804162503804, 'subsample': 0.6793073142699451, 'colsample_bytree': 0.6754978814269947}.\n",
      "[I 2025-05-15 16:50:00,513] Trial 6 finished with values: [0.6635848704021959, 0.016719238604878655] and parameters: {'max_depth': 4, 'eta': 0.020196346365473135, 'subsample': 0.6917377068534994, 'colsample_bytree': 0.9764691472842152}.\n",
      "[I 2025-05-15 16:50:00,622] Trial 7 finished with values: [0.6650108904430619, 0.023831169560898924] and parameters: {'max_depth': 3, 'eta': 0.11975208930379842, 'subsample': 0.7463907504939687, 'colsample_bytree': 0.7452571624335043}.\n",
      "[I 2025-05-15 16:50:00,733] Trial 8 finished with values: [0.6614389476554148, 0.015533685806422615] and parameters: {'max_depth': 5, 'eta': 0.17370681728814488, 'subsample': 0.7351515558305667, 'colsample_bytree': 0.6808648321241136}.\n",
      "[I 2025-05-15 16:50:00,842] Trial 9 finished with values: [0.6650170172746016, 0.025217261345071768] and parameters: {'max_depth': 6, 'eta': 0.24279948860814562, 'subsample': 0.6409939106344682, 'colsample_bytree': 0.6114659842059359}.\n",
      "[I 2025-05-15 16:50:00,984] Trial 10 finished with values: [0.6564394531190167, 0.018208771487994786] and parameters: {'max_depth': 5, 'eta': 0.0753016266566071, 'subsample': 0.9995668899904641, 'colsample_bytree': 0.7141067678556652}.\n",
      "[I 2025-05-15 16:50:01,151] Trial 11 finished with values: [0.6643032414002261, 0.019624026101356034] and parameters: {'max_depth': 7, 'eta': 0.03305454554556859, 'subsample': 0.6858858343969649, 'colsample_bytree': 0.6960739947483336}.\n",
      "[I 2025-05-15 16:50:01,300] Trial 12 finished with values: [0.667153749774073, 0.01895647320744052] and parameters: {'max_depth': 5, 'eta': 0.047192058301762436, 'subsample': 0.6150792176559461, 'colsample_bytree': 0.9093443927995917}.\n",
      "[I 2025-05-15 16:50:01,502] Trial 13 finished with values: [0.6571578241170469, 0.026509601237047885] and parameters: {'max_depth': 6, 'eta': 0.018061531369710875, 'subsample': 0.7988537509980264, 'colsample_bytree': 0.9794605243108068}.\n",
      "[I 2025-05-15 16:50:01,628] Trial 14 finished with values: [0.6550119013702659, 0.02233259544713888] and parameters: {'max_depth': 4, 'eta': 0.12461814547287002, 'subsample': 0.8861835220359338, 'colsample_bytree': 0.7160221303187152}.\n",
      "[I 2025-05-15 16:50:01,768] Trial 15 finished with values: [0.6578639414519979, 0.022508534461723972] and parameters: {'max_depth': 7, 'eta': 0.21716346852063498, 'subsample': 0.9449922639100687, 'colsample_bytree': 0.8669802973502958}.\n",
      "[I 2025-05-15 16:50:01,906] Trial 16 finished with values: [0.6600113959066639, 0.017627986722911188] and parameters: {'max_depth': 7, 'eta': 0.17855974574280883, 'subsample': 0.8773799983391994, 'colsample_bytree': 0.9012637300356859}.\n",
      "[I 2025-05-15 16:50:02,079] Trial 17 finished with values: [0.6571562924091621, 0.015770751528429466] and parameters: {'max_depth': 3, 'eta': 0.035173211683783796, 'subsample': 0.6593338785970599, 'colsample_bytree': 0.8145103256476962}.\n",
      "[I 2025-05-15 16:50:02,268] Trial 18 finished with values: [0.6664415056075826, 0.029908297612075956] and parameters: {'max_depth': 3, 'eta': 0.020335686035587025, 'subsample': 0.6057837831768759, 'colsample_bytree': 0.8442551172454531}.\n",
      "[I 2025-05-15 16:50:02,377] Trial 19 finished with values: [0.6664415056075826, 0.02233521508722792] and parameters: {'max_depth': 5, 'eta': 0.2136091042726766, 'subsample': 0.8030496138940689, 'colsample_bytree': 0.7364190205621488}.\n",
      "[I 2025-05-15 16:50:02,504] Trial 20 finished with values: [0.6643032414002261, 0.027998957793880185] and parameters: {'max_depth': 6, 'eta': 0.18584980688293015, 'subsample': 0.629657188915352, 'colsample_bytree': 0.6122795865409483}.\n",
      "[I 2025-05-15 16:50:02,661] Trial 21 finished with values: [0.6564409848269017, 0.018685631022450983] and parameters: {'max_depth': 7, 'eta': 0.10850835600864706, 'subsample': 0.9658442860335598, 'colsample_bytree': 0.7756243557264368}.\n",
      "[I 2025-05-15 16:50:02,830] Trial 22 finished with values: [0.6685843649385937, 0.025352944120040466] and parameters: {'max_depth': 3, 'eta': 0.044899327572874445, 'subsample': 0.6107399712585274, 'colsample_bytree': 0.8486869250253168}.\n",
      "[I 2025-05-15 16:50:02,954] Trial 23 finished with values: [0.6657292614410921, 0.03430071418577688] and parameters: {'max_depth': 3, 'eta': 0.11521845920093968, 'subsample': 0.6394436584614774, 'colsample_bytree': 0.9140047018380819}.\n",
      "[I 2025-05-15 16:50:03,071] Trial 24 finished with values: [0.6585838441579129, 0.023574943750502786] and parameters: {'max_depth': 3, 'eta': 0.16622136143817326, 'subsample': 0.8655655304964964, 'colsample_bytree': 0.7031768579845957}.\n",
      "[I 2025-05-15 16:50:03,253] Trial 25 finished with values: [0.6621557869455601, 0.020248317378437592] and parameters: {'max_depth': 4, 'eta': 0.023194820316668016, 'subsample': 0.7494790016869762, 'colsample_bytree': 0.8087963392756297}.\n",
      "[I 2025-05-15 16:50:03,364] Trial 26 finished with values: [0.6642971145686865, 0.02496854286795987] and parameters: {'max_depth': 3, 'eta': 0.1950092754216565, 'subsample': 0.7757359834338925, 'colsample_bytree': 0.614371140533109}.\n",
      "[I 2025-05-15 16:50:03,497] Trial 27 finished with values: [0.6635848704021959, 0.016719238604878655] and parameters: {'max_depth': 5, 'eta': 0.0664982161219499, 'subsample': 0.6875253031770456, 'colsample_bytree': 0.9862374883799181}.\n",
      "[I 2025-05-15 16:50:03,618] Trial 28 finished with values: [0.6621557869455601, 0.017208717352155335] and parameters: {'max_depth': 4, 'eta': 0.22139897775081768, 'subsample': 0.8802907023648562, 'colsample_bytree': 0.965259350330121}.\n",
      "[I 2025-05-15 16:50:03,802] Trial 29 finished with values: [0.6650124221509467, 0.017289514091806197] and parameters: {'max_depth': 7, 'eta': 0.01756448612874837, 'subsample': 0.6357068736941488, 'colsample_bytree': 0.8832955196108373}.\n",
      "[I 2025-05-15 16:50:03,944] Trial 30 finished with values: [0.6578715999914224, 0.01701224621162693] and parameters: {'max_depth': 5, 'eta': 0.12683546615795985, 'subsample': 0.9783675593663214, 'colsample_bytree': 0.822404047029388}.\n",
      "[I 2025-05-15 16:50:04,092] Trial 31 finished with values: [0.6621527235297903, 0.016533831650937515] and parameters: {'max_depth': 3, 'eta': 0.16764318067101233, 'subsample': 0.7218087486978484, 'colsample_bytree': 0.8989044323799835}.\n",
      "[I 2025-05-15 16:50:04,223] Trial 32 finished with values: [0.6642986462765713, 0.015622554976171868] and parameters: {'max_depth': 5, 'eta': 0.13130807061088032, 'subsample': 0.669980276258574, 'colsample_bytree': 0.9561664413587276}.\n",
      "[I 2025-05-15 16:50:04,403] Trial 33 finished with values: [0.6557272089525262, 0.025558401898751786] and parameters: {'max_depth': 3, 'eta': 0.04112443417668128, 'subsample': 0.8093660453110126, 'colsample_bytree': 0.9822551712437075}.\n",
      "[I 2025-05-15 16:50:04,536] Trial 34 finished with values: [0.663583338694311, 0.015396354329768972] and parameters: {'max_depth': 6, 'eta': 0.08139980688335557, 'subsample': 0.6611582950809516, 'colsample_bytree': 0.7516511022129558}.\n",
      "[I 2025-05-15 16:50:04,656] Trial 35 finished with values: [0.6542981254958904, 0.020328498977132237] and parameters: {'max_depth': 3, 'eta': 0.16828795331433638, 'subsample': 0.9294617865061626, 'colsample_bytree': 0.8095957645532535}.\n",
      "[I 2025-05-15 16:50:04,890] Trial 36 finished with values: [0.6578685365756526, 0.026828321197428628] and parameters: {'max_depth': 5, 'eta': 0.012791832509814707, 'subsample': 0.9384363532176234, 'colsample_bytree': 0.9026169876639194}.\n",
      "[I 2025-05-15 16:50:05,014] Trial 37 finished with values: [0.6592976200322884, 0.01902067537587714] and parameters: {'max_depth': 4, 'eta': 0.2239341994691554, 'subsample': 0.9892665152892371, 'colsample_bytree': 0.8254757586415633}.\n",
      "[I 2025-05-15 16:50:05,153] Trial 38 finished with values: [0.6571562924091621, 0.02359555507709594] and parameters: {'max_depth': 7, 'eta': 0.07726128815808185, 'subsample': 0.8885245198306138, 'colsample_bytree': 0.8006875329411007}.\n",
      "[I 2025-05-15 16:50:05,279] Trial 39 finished with values: [0.6650139538588317, 0.020893005244829465] and parameters: {'max_depth': 5, 'eta': 0.19200685480767063, 'subsample': 0.7003891602433355, 'colsample_bytree': 0.8245840721973245}.\n",
      "[I 2025-05-15 16:50:05,401] Trial 40 finished with values: [0.6585838441579129, 0.01927386848168559] and parameters: {'max_depth': 4, 'eta': 0.11866780983970063, 'subsample': 0.8810266079265363, 'colsample_bytree': 0.6380236131416123}.\n",
      "[I 2025-05-15 16:50:05,519] Trial 41 finished with values: [0.6621527235297903, 0.017200644922056935] and parameters: {'max_depth': 4, 'eta': 0.17388556183219256, 'subsample': 0.732909669406239, 'colsample_bytree': 0.9610143715058809}.\n",
      "[I 2025-05-15 16:50:05,652] Trial 42 finished with values: [0.6642986462765713, 0.01866619362380183] and parameters: {'max_depth': 6, 'eta': 0.20356877934021853, 'subsample': 0.7182341331470798, 'colsample_bytree': 0.8348890562242709}.\n",
      "[I 2025-05-15 16:50:05,797] Trial 43 finished with values: [0.665730793148977, 0.012404377838404979] and parameters: {'max_depth': 5, 'eta': 0.14929272473181476, 'subsample': 0.7346761060727693, 'colsample_bytree': 0.9963302971121138}.\n",
      "[I 2025-05-15 16:50:05,958] Trial 44 finished with values: [0.6564409848269017, 0.024670823894300243] and parameters: {'max_depth': 3, 'eta': 0.040468026435909396, 'subsample': 0.8745115023726006, 'colsample_bytree': 0.7813269998315302}.\n",
      "[I 2025-05-15 16:50:06,073] Trial 45 finished with values: [0.6621557869455601, 0.037819287694699576] and parameters: {'max_depth': 3, 'eta': 0.2535424525791894, 'subsample': 0.6017743147139413, 'colsample_bytree': 0.9408496083569202}.\n",
      "[I 2025-05-15 16:50:06,193] Trial 46 finished with values: [0.6628756896514753, 0.022553383094485402] and parameters: {'max_depth': 6, 'eta': 0.2553469974661801, 'subsample': 0.881094503780872, 'colsample_bytree': 0.7700075914140636}.\n",
      "[I 2025-05-15 16:50:06,307] Trial 47 finished with values: [0.6678675256484485, 0.017448473047016893] and parameters: {'max_depth': 4, 'eta': 0.12879659629689674, 'subsample': 0.6540488090428489, 'colsample_bytree': 0.6490894561728897}.\n",
      "[I 2025-05-15 16:50:06,427] Trial 48 finished with values: [0.6593006834480583, 0.01920118117404505] and parameters: {'max_depth': 7, 'eta': 0.17954777866713276, 'subsample': 0.984260470244003, 'colsample_bytree': 0.850718373482633}.\n",
      "[I 2025-05-15 16:50:06,548] Trial 49 finished with values: [0.6621557869455601, 0.02426536293521527] and parameters: {'max_depth': 7, 'eta': 0.24546476226715083, 'subsample': 0.6003956143895788, 'colsample_bytree': 0.653753839937958}.\n",
      "[I 2025-05-15 16:50:06,558] A new study created in memory with name: no-name-03e7f8dd-e424-4c57-976f-56c726eb46eb\n",
      "[I 2025-05-15 16:50:06,670] Trial 0 finished with values: [0.6750083478079728, 0.01889370190296863] and parameters: {'max_depth': 4, 'eta': 0.2607859984522424, 'subsample': 0.9996124418603973, 'colsample_bytree': 0.9628561841877082}.\n"
     ]
    },
    {
     "name": "stdout",
     "output_type": "stream",
     "text": [
      "Completed study for alpha=0.0625\n",
      "4\n"
     ]
    },
    {
     "name": "stderr",
     "output_type": "stream",
     "text": [
      "[I 2025-05-15 16:50:06,775] Trial 1 finished with values: [0.6728685518927314, 0.019393459453340606] and parameters: {'max_depth': 4, 'eta': 0.29035620437623016, 'subsample': 0.6498094824450991, 'colsample_bytree': 0.6512290758890569}.\n",
      "[I 2025-05-15 16:50:06,984] Trial 2 finished with values: [0.6707226291459504, 0.012983203043084202] and parameters: {'max_depth': 5, 'eta': 0.03868039721708929, 'subsample': 0.8711197004870452, 'colsample_bytree': 0.7566853282582117}.\n",
      "[I 2025-05-15 16:50:07,091] Trial 3 finished with values: [0.6707226291459504, 0.012983203043084202] and parameters: {'max_depth': 7, 'eta': 0.20914665001283989, 'subsample': 0.6325852637157227, 'colsample_bytree': 0.6800632154331195}.\n",
      "[I 2025-05-15 16:50:07,248] Trial 4 finished with values: [0.6707226291459504, 0.012983203043084202] and parameters: {'max_depth': 7, 'eta': 0.02518652212769451, 'subsample': 0.6719084508828941, 'colsample_bytree': 0.6645050143078607}.\n",
      "[I 2025-05-15 16:50:07,365] Trial 5 finished with values: [0.6642986462765713, 0.015622554976171868] and parameters: {'max_depth': 4, 'eta': 0.10464845845532753, 'subsample': 0.9738308728273324, 'colsample_bytree': 0.8980521461301241}.\n",
      "[I 2025-05-15 16:50:07,478] Trial 6 finished with values: [0.6664399738996977, 0.019322034417009453] and parameters: {'max_depth': 6, 'eta': 0.25863000982854567, 'subsample': 0.7849349265561382, 'colsample_bytree': 0.8010317594828128}.\n",
      "[I 2025-05-15 16:50:07,588] Trial 7 finished with values: [0.6728685518927314, 0.008640771281297588] and parameters: {'max_depth': 3, 'eta': 0.28590708320208996, 'subsample': 0.6156565415701652, 'colsample_bytree': 0.6458828220321465}.\n",
      "[I 2025-05-15 16:50:07,768] Trial 8 finished with values: [0.6707226291459504, 0.012983203043084202] and parameters: {'max_depth': 6, 'eta': 0.016699240709953753, 'subsample': 0.7334862081512156, 'colsample_bytree': 0.9085030145577699}.\n",
      "[I 2025-05-15 16:50:07,871] Trial 9 finished with values: [0.6707226291459504, 0.012983203043084202] and parameters: {'max_depth': 6, 'eta': 0.1395869450337781, 'subsample': 0.7365353165219515, 'colsample_bytree': 0.8299105332741233}.\n",
      "[I 2025-05-15 16:50:07,994] Trial 10 finished with values: [0.6707226291459504, 0.012983203043084202] and parameters: {'max_depth': 6, 'eta': 0.15329951423869592, 'subsample': 0.6268634857395854, 'colsample_bytree': 0.9292591995302573}.\n",
      "[I 2025-05-15 16:50:08,127] Trial 11 finished with values: [0.6707226291459504, 0.012983203043084202] and parameters: {'max_depth': 4, 'eta': 0.21797208064463117, 'subsample': 0.6390753477615615, 'colsample_bytree': 0.6861389837327795}.\n",
      "[I 2025-05-15 16:50:08,259] Trial 12 finished with values: [0.6707226291459504, 0.012983203043084202] and parameters: {'max_depth': 4, 'eta': 0.0706437120466291, 'subsample': 0.8161625124262463, 'colsample_bytree': 0.9249417460013185}.\n",
      "[I 2025-05-15 16:50:08,363] Trial 13 finished with values: [0.6707226291459504, 0.02737169225171728] and parameters: {'max_depth': 5, 'eta': 0.2478380585927219, 'subsample': 0.7288120283086494, 'colsample_bytree': 0.6944565212018903}.\n",
      "[I 2025-05-15 16:50:08,474] Trial 14 finished with values: [0.6707226291459504, 0.02737169225171728] and parameters: {'max_depth': 5, 'eta': 0.23703313975911844, 'subsample': 0.7897965552545709, 'colsample_bytree': 0.7395793010098535}.\n",
      "[I 2025-05-15 16:50:08,594] Trial 15 finished with values: [0.6707226291459504, 0.012983203043084202] and parameters: {'max_depth': 7, 'eta': 0.15178914724319498, 'subsample': 0.914492416238224, 'colsample_bytree': 0.7046720259607492}.\n",
      "[I 2025-05-15 16:50:08,764] Trial 16 finished with values: [0.6707226291459504, 0.012983203043084202] and parameters: {'max_depth': 3, 'eta': 0.02311768732158933, 'subsample': 0.7555611287792305, 'colsample_bytree': 0.7922592269612464}.\n",
      "[I 2025-05-15 16:50:08,865] Trial 17 finished with values: [0.6707226291459504, 0.012983203043084202] and parameters: {'max_depth': 7, 'eta': 0.14896647586715808, 'subsample': 0.6336620447859622, 'colsample_bytree': 0.7191445145624502}.\n",
      "[I 2025-05-15 16:50:09,001] Trial 18 finished with values: [0.6707226291459504, 0.012983203043084202] and parameters: {'max_depth': 6, 'eta': 0.05646313908919975, 'subsample': 0.6056883777451748, 'colsample_bytree': 0.8804270360359507}.\n",
      "[I 2025-05-15 16:50:09,132] Trial 19 finished with values: [0.6707226291459504, 0.012983203043084202] and parameters: {'max_depth': 3, 'eta': 0.07000133463240304, 'subsample': 0.7254658488671046, 'colsample_bytree': 0.6378120083797749}.\n",
      "[I 2025-05-15 16:50:09,243] Trial 20 finished with values: [0.6707226291459504, 0.02737169225171728] and parameters: {'max_depth': 5, 'eta': 0.27710121366822205, 'subsample': 0.7978934396198858, 'colsample_bytree': 0.8177462285079408}.\n",
      "[I 2025-05-15 16:50:09,388] Trial 21 finished with values: [0.6707226291459504, 0.012983203043084202] and parameters: {'max_depth': 6, 'eta': 0.04150786809593488, 'subsample': 0.6156175559969265, 'colsample_bytree': 0.7005870565668499}.\n",
      "[I 2025-05-15 16:50:09,504] Trial 22 finished with values: [0.667153749774073, 0.022370814904814334] and parameters: {'max_depth': 3, 'eta': 0.2352006968774604, 'subsample': 0.952192845401159, 'colsample_bytree': 0.9592741401673933}.\n",
      "[I 2025-05-15 16:50:09,609] Trial 23 finished with values: [0.6707226291459504, 0.012983203043084202] and parameters: {'max_depth': 3, 'eta': 0.18248807742670525, 'subsample': 0.6990739656578137, 'colsample_bytree': 0.8315890835738375}.\n",
      "[I 2025-05-15 16:50:09,743] Trial 24 finished with values: [0.6707226291459504, 0.012983203043084202] and parameters: {'max_depth': 4, 'eta': 0.05053200407535316, 'subsample': 0.6859607170966161, 'colsample_bytree': 0.6761685147698425}.\n",
      "[I 2025-05-15 16:50:09,890] Trial 25 finished with values: [0.6707226291459504, 0.012983203043084202] and parameters: {'max_depth': 3, 'eta': 0.052902920825056335, 'subsample': 0.7489348760660972, 'colsample_bytree': 0.7258552793234678}.\n",
      "[I 2025-05-15 16:50:10,051] Trial 26 finished with values: [0.6707226291459504, 0.012983203043084202] and parameters: {'max_depth': 4, 'eta': 0.029486555354304486, 'subsample': 0.9520305216167768, 'colsample_bytree': 0.9815436746547785}.\n",
      "[I 2025-05-15 16:50:10,218] Trial 27 finished with values: [0.6707226291459504, 0.012983203043084202] and parameters: {'max_depth': 4, 'eta': 0.01862485429416116, 'subsample': 0.9641812933588694, 'colsample_bytree': 0.866611908140338}.\n",
      "[I 2025-05-15 16:50:10,326] Trial 28 finished with values: [0.6707226291459504, 0.012983203043084202] and parameters: {'max_depth': 7, 'eta': 0.18265153791135433, 'subsample': 0.8961457931580399, 'colsample_bytree': 0.9075739270105849}.\n",
      "[I 2025-05-15 16:50:10,442] Trial 29 finished with values: [0.6707226291459504, 0.012983203043084202] and parameters: {'max_depth': 4, 'eta': 0.11853675503053313, 'subsample': 0.6268630439115839, 'colsample_bytree': 0.9510865766781067}.\n",
      "[I 2025-05-15 16:50:10,550] Trial 30 finished with values: [0.6707226291459504, 0.012983203043084202] and parameters: {'max_depth': 4, 'eta': 0.25428734735589387, 'subsample': 0.637497227855489, 'colsample_bytree': 0.874674677646925}.\n",
      "[I 2025-05-15 16:50:10,676] Trial 31 finished with values: [0.6707226291459504, 0.012983203043084202] and parameters: {'max_depth': 5, 'eta': 0.0937600839752445, 'subsample': 0.7471907759876742, 'colsample_bytree': 0.7988115295728536}.\n",
      "[I 2025-05-15 16:50:10,786] Trial 32 finished with values: [0.6707226291459504, 0.012983203043084202] and parameters: {'max_depth': 7, 'eta': 0.12359564195478925, 'subsample': 0.744419008292334, 'colsample_bytree': 0.9821969753131343}.\n",
      "[I 2025-05-15 16:50:10,904] Trial 33 finished with values: [0.6707226291459504, 0.012983203043084202] and parameters: {'max_depth': 7, 'eta': 0.12296398049751289, 'subsample': 0.995768667571312, 'colsample_bytree': 0.9885920552986348}.\n",
      "[I 2025-05-15 16:50:11,006] Trial 34 finished with values: [0.6657261980253222, 0.016923952882237265] and parameters: {'max_depth': 4, 'eta': 0.1831163358212744, 'subsample': 0.7354378371702845, 'colsample_bytree': 0.9189584851282041}.\n",
      "[I 2025-05-15 16:50:11,118] Trial 35 finished with values: [0.6707226291459504, 0.012983203043084202] and parameters: {'max_depth': 5, 'eta': 0.16177910249733504, 'subsample': 0.6917185625752147, 'colsample_bytree': 0.957865869003294}.\n",
      "[I 2025-05-15 16:50:11,237] Trial 36 finished with values: [0.6735807960592219, 0.02360944150640783] and parameters: {'max_depth': 3, 'eta': 0.2740252566698591, 'subsample': 0.9172946266844249, 'colsample_bytree': 0.9939492389763032}.\n",
      "[I 2025-05-15 16:50:11,352] Trial 37 finished with values: [0.6707226291459504, 0.012983203043084202] and parameters: {'max_depth': 7, 'eta': 0.09125010517098875, 'subsample': 0.7401015399137524, 'colsample_bytree': 0.6070485355058636}.\n",
      "[I 2025-05-15 16:50:11,542] Trial 38 finished with values: [0.6664399738996977, 0.019322034417009453] and parameters: {'max_depth': 5, 'eta': 0.013806296512649346, 'subsample': 0.9322425021852762, 'colsample_bytree': 0.7281089399613252}.\n",
      "[I 2025-05-15 16:50:11,655] Trial 39 finished with values: [0.6707226291459504, 0.012983203043084202] and parameters: {'max_depth': 4, 'eta': 0.10215444503445986, 'subsample': 0.8440118704185143, 'colsample_bytree': 0.9175459005005662}.\n",
      "[I 2025-05-15 16:50:11,775] Trial 40 finished with values: [0.6707226291459504, 0.012983203043084202] and parameters: {'max_depth': 7, 'eta': 0.05638504570945567, 'subsample': 0.808275346018074, 'colsample_bytree': 0.9878335707543002}.\n",
      "[I 2025-05-15 16:50:11,894] Trial 41 finished with values: [0.6707226291459504, 0.012983203043084202] and parameters: {'max_depth': 4, 'eta': 0.08502818091021241, 'subsample': 0.8676558479332364, 'colsample_bytree': 0.7004202757355543}.\n",
      "[I 2025-05-15 16:50:12,004] Trial 42 finished with values: [0.6707226291459504, 0.012983203043084202] and parameters: {'max_depth': 5, 'eta': 0.1622826710397196, 'subsample': 0.9364637923921262, 'colsample_bytree': 0.7003605394811674}.\n",
      "[I 2025-05-15 16:50:12,139] Trial 43 finished with values: [0.6707226291459504, 0.012983203043084202] and parameters: {'max_depth': 4, 'eta': 0.04686360915337306, 'subsample': 0.7969078387299531, 'colsample_bytree': 0.7001990592431659}.\n",
      "[I 2025-05-15 16:50:12,260] Trial 44 finished with values: [0.6642986462765713, 0.015622554976171868] and parameters: {'max_depth': 7, 'eta': 0.22278002849526538, 'subsample': 0.9528364761707317, 'colsample_bytree': 0.9341988156906993}.\n",
      "[I 2025-05-15 16:50:12,368] Trial 45 finished with values: [0.6707226291459504, 0.012983203043084202] and parameters: {'max_depth': 5, 'eta': 0.1452928479491785, 'subsample': 0.8293815560557847, 'colsample_bytree': 0.6850420284336141}.\n",
      "[I 2025-05-15 16:50:12,489] Trial 46 finished with values: [0.6707226291459504, 0.012983203043084202] and parameters: {'max_depth': 6, 'eta': 0.20242538928699028, 'subsample': 0.7625686404751278, 'colsample_bytree': 0.6477061398762618}.\n",
      "[I 2025-05-15 16:50:12,599] Trial 47 finished with values: [0.6707226291459504, 0.012983203043084202] and parameters: {'max_depth': 3, 'eta': 0.08612385249862547, 'subsample': 0.6746531596427422, 'colsample_bytree': 0.7046089248219953}.\n",
      "[I 2025-05-15 16:50:12,729] Trial 48 finished with values: [0.6707226291459504, 0.012983203043084202] and parameters: {'max_depth': 3, 'eta': 0.04119874616975336, 'subsample': 0.8713896698308075, 'colsample_bytree': 0.6454098322686792}.\n",
      "[I 2025-05-15 16:50:12,900] Trial 49 finished with values: [0.6707226291459504, 0.012983203043084202] and parameters: {'max_depth': 7, 'eta': 0.018115713513817293, 'subsample': 0.7454104446624704, 'colsample_bytree': 0.7792442519537361}.\n",
      "[I 2025-05-15 16:50:12,913] A new study created in memory with name: no-name-fb70ae28-01e0-489c-ae8f-94b1717ccdb1\n",
      "[I 2025-05-15 16:50:13,016] Trial 0 finished with values: [0.5000061268315397, 0.0] and parameters: {'max_depth': 5, 'eta': 0.059180576993749776, 'subsample': 0.7863672882486501, 'colsample_bytree': 0.64739536418448}.\n"
     ]
    },
    {
     "name": "stdout",
     "output_type": "stream",
     "text": [
      "Completed study for alpha=0.03125\n",
      "5\n"
     ]
    },
    {
     "name": "stderr",
     "output_type": "stream",
     "text": [
      "[I 2025-05-15 16:50:13,119] Trial 1 finished with values: [0.5000061268315397, 0.0] and parameters: {'max_depth': 3, 'eta': 0.17247680130171475, 'subsample': 0.6422696831051606, 'colsample_bytree': 0.9243913210093281}.\n",
      "[I 2025-05-15 16:50:13,233] Trial 2 finished with values: [0.6542935303722356, 0.026021417282898456] and parameters: {'max_depth': 7, 'eta': 0.12830717688150384, 'subsample': 0.9044090878598231, 'colsample_bytree': 0.6518288487854064}.\n",
      "[I 2025-05-15 16:50:13,344] Trial 3 finished with values: [0.6186047366534634, 0.036981311935331] and parameters: {'max_depth': 6, 'eta': 0.2096236845681423, 'subsample': 0.8755664630154762, 'colsample_bytree': 0.983291157397927}.\n",
      "[I 2025-05-15 16:50:13,443] Trial 4 finished with values: [0.5000061268315397, 0.0] and parameters: {'max_depth': 5, 'eta': 0.12759534272361156, 'subsample': 0.6972573199723355, 'colsample_bytree': 0.7670738475354516}.\n",
      "[I 2025-05-15 16:50:13,549] Trial 5 finished with values: [0.6707226291459504, 0.012983203043084202] and parameters: {'max_depth': 5, 'eta': 0.17490584282029764, 'subsample': 0.9718761623669526, 'colsample_bytree': 0.9997455253283156}.\n",
      "[I 2025-05-15 16:50:13,658] Trial 6 finished with values: [0.5000061268315397, 0.0] and parameters: {'max_depth': 6, 'eta': 0.2958612913836992, 'subsample': 0.7029231892610932, 'colsample_bytree': 0.8414604104868847}.\n",
      "[I 2025-05-15 16:50:13,769] Trial 7 finished with values: [0.5000061268315397, 0.0] and parameters: {'max_depth': 6, 'eta': 0.0904936765661488, 'subsample': 0.6917202480684131, 'colsample_bytree': 0.9179122793736129}.\n",
      "[I 2025-05-15 16:50:13,870] Trial 8 finished with values: [0.5000061268315397, 0.0] and parameters: {'max_depth': 5, 'eta': 0.05803248160722809, 'subsample': 0.7802494066909411, 'colsample_bytree': 0.9893654881554969}.\n",
      "[I 2025-05-15 16:50:13,978] Trial 9 finished with values: [0.5000061268315397, 0.0] and parameters: {'max_depth': 5, 'eta': 0.05941598020693164, 'subsample': 0.620097316430425, 'colsample_bytree': 0.8141504849614878}.\n",
      "[I 2025-05-15 16:50:14,091] Trial 10 finished with values: [0.6714379367282106, 0.012914275554801865] and parameters: {'max_depth': 7, 'eta': 0.18923983114349527, 'subsample': 0.9302599773571505, 'colsample_bytree': 0.7202434141275424}.\n",
      "[I 2025-05-15 16:50:14,204] Trial 11 finished with values: [0.5000061268315397, 0.0] and parameters: {'max_depth': 5, 'eta': 0.24856670561296623, 'subsample': 0.6120096092197188, 'colsample_bytree': 0.6314869318897058}.\n",
      "[I 2025-05-15 16:50:14,346] Trial 12 finished with values: [0.5000061268315397, 0.0] and parameters: {'max_depth': 7, 'eta': 0.02915823105006557, 'subsample': 0.8718930958709811, 'colsample_bytree': 0.7000120198887347}.\n",
      "[I 2025-05-15 16:50:14,457] Trial 13 finished with values: [0.5000061268315397, 0.0] and parameters: {'max_depth': 4, 'eta': 0.10745681338237018, 'subsample': 0.8102198724250139, 'colsample_bytree': 0.7020744929930978}.\n",
      "[I 2025-05-15 16:50:14,569] Trial 14 finished with values: [0.6550149647860357, 0.024745210142334783] and parameters: {'max_depth': 7, 'eta': 0.26827696553790303, 'subsample': 0.91267979673792, 'colsample_bytree': 0.932176177443429}.\n",
      "[I 2025-05-15 16:50:14,682] Trial 15 finished with values: [0.668581301522824, 0.013870781047535752] and parameters: {'max_depth': 3, 'eta': 0.2914351774249821, 'subsample': 0.9536172598607765, 'colsample_bytree': 0.645559160835508}.\n",
      "[I 2025-05-15 16:50:14,786] Trial 16 finished with values: [0.5000061268315397, 0.0] and parameters: {'max_depth': 4, 'eta': 0.23740151057806683, 'subsample': 0.7877624403648595, 'colsample_bytree': 0.6886132793149318}.\n",
      "[I 2025-05-15 16:50:14,899] Trial 17 finished with values: [0.5000061268315397, 0.0] and parameters: {'max_depth': 7, 'eta': 0.18628396499966932, 'subsample': 0.7647782944719687, 'colsample_bytree': 0.9535560622342454}.\n",
      "[I 2025-05-15 16:50:15,002] Trial 18 finished with values: [0.5000061268315397, 0.0] and parameters: {'max_depth': 7, 'eta': 0.11266941579028948, 'subsample': 0.7737846715717056, 'colsample_bytree': 0.8064114501594939}.\n",
      "[I 2025-05-15 16:50:15,101] Trial 19 finished with values: [0.5000061268315397, 0.0] and parameters: {'max_depth': 5, 'eta': 0.10611120647640088, 'subsample': 0.620662769942859, 'colsample_bytree': 0.8647363716431915}.\n",
      "[I 2025-05-15 16:50:15,263] Trial 20 finished with values: [0.5914598095168074, 0.020721392987891357] and parameters: {'max_depth': 3, 'eta': 0.04123459309514489, 'subsample': 0.8899963662789324, 'colsample_bytree': 0.6807183457770208}.\n",
      "[I 2025-05-15 16:50:15,377] Trial 21 finished with values: [0.6378766852616004, 0.04182828398465899] and parameters: {'max_depth': 3, 'eta': 0.29356228347680186, 'subsample': 0.8949833165516901, 'colsample_bytree': 0.726470479457957}.\n",
      "[I 2025-05-15 16:50:15,476] Trial 22 finished with values: [0.5000061268315397, 0.0] and parameters: {'max_depth': 6, 'eta': 0.14729225739312826, 'subsample': 0.6341721946718316, 'colsample_bytree': 0.8067824278104562}.\n",
      "[I 2025-05-15 16:50:15,576] Trial 23 finished with values: [0.6414562865886722, 0.03444621842205231] and parameters: {'max_depth': 7, 'eta': 0.19870036950167366, 'subsample': 0.895927591077393, 'colsample_bytree': 0.6552521967926126}.\n",
      "[I 2025-05-15 16:50:15,679] Trial 24 finished with values: [0.5000061268315397, 0.0] and parameters: {'max_depth': 4, 'eta': 0.05420161933914762, 'subsample': 0.72942843451249, 'colsample_bytree': 0.9264971178631872}.\n",
      "[I 2025-05-15 16:50:15,791] Trial 25 finished with values: [0.5000061268315397, 0.0] and parameters: {'max_depth': 5, 'eta': 0.02405674093958379, 'subsample': 0.791469409106541, 'colsample_bytree': 0.7624767979901809}.\n",
      "[I 2025-05-15 16:50:15,914] Trial 26 finished with values: [0.5000061268315397, 0.0] and parameters: {'max_depth': 4, 'eta': 0.20624907983202084, 'subsample': 0.7022412197179962, 'colsample_bytree': 0.864964392551468}.\n",
      "[I 2025-05-15 16:50:16,025] Trial 27 finished with values: [0.6328802541409723, 0.04617152074389391] and parameters: {'max_depth': 5, 'eta': 0.18278738909057426, 'subsample': 0.8904053505151979, 'colsample_bytree': 0.801809770709428}.\n",
      "[I 2025-05-15 16:50:16,132] Trial 28 finished with values: [0.5264158341834312, 0.00011697958706205953] and parameters: {'max_depth': 7, 'eta': 0.14688225355269602, 'subsample': 0.8561928535368462, 'colsample_bytree': 0.7885165329373263}.\n",
      "[I 2025-05-15 16:50:16,235] Trial 29 finished with values: [0.5000061268315397, 0.0] and parameters: {'max_depth': 4, 'eta': 0.29522897504763546, 'subsample': 0.603595448443202, 'colsample_bytree': 0.6123774869796759}.\n",
      "[I 2025-05-15 16:50:16,349] Trial 30 finished with values: [0.667153749774073, 0.011713283744407388] and parameters: {'max_depth': 7, 'eta': 0.10737213027484033, 'subsample': 0.9249027646039089, 'colsample_bytree': 0.6987882251806283}.\n",
      "[I 2025-05-15 16:50:16,462] Trial 31 finished with values: [0.667153749774073, 0.011713283744407388] and parameters: {'max_depth': 4, 'eta': 0.2860034790801714, 'subsample': 0.9417876856765027, 'colsample_bytree': 0.8743610581451849}.\n",
      "[I 2025-05-15 16:50:16,567] Trial 32 finished with values: [0.5000061268315397, 0.0] and parameters: {'max_depth': 3, 'eta': 0.2962598800913237, 'subsample': 0.7966774591971082, 'colsample_bytree': 0.9795166863138987}.\n",
      "[I 2025-05-15 16:50:16,666] Trial 33 finished with values: [0.5000061268315397, 0.0] and parameters: {'max_depth': 6, 'eta': 0.04405517232086174, 'subsample': 0.8408228492804143, 'colsample_bytree': 0.6810364615747597}.\n",
      "[I 2025-05-15 16:50:16,773] Trial 34 finished with values: [0.5000061268315397, 0.0] and parameters: {'max_depth': 6, 'eta': 0.26320474416776674, 'subsample': 0.7933669166934761, 'colsample_bytree': 0.9945304659830563}.\n",
      "[I 2025-05-15 16:50:16,889] Trial 35 finished with values: [0.6564455799505565, 0.023683726822786955] and parameters: {'max_depth': 7, 'eta': 0.2820716109999218, 'subsample': 0.9112711513498156, 'colsample_bytree': 0.7369337761210724}.\n",
      "[I 2025-05-15 16:50:17,014] Trial 36 finished with values: [0.5000061268315397, 0.0] and parameters: {'max_depth': 4, 'eta': 0.07105179562354258, 'subsample': 0.7800044554259665, 'colsample_bytree': 0.7781945194933659}.\n",
      "[I 2025-05-15 16:50:17,131] Trial 37 finished with values: [0.5550097569792269, 0.015253268546574111] and parameters: {'max_depth': 7, 'eta': 0.18541621574975567, 'subsample': 0.8465281147523948, 'colsample_bytree': 0.7604837498815366}.\n",
      "[I 2025-05-15 16:50:17,253] Trial 38 finished with values: [0.5000061268315397, 0.0] and parameters: {'max_depth': 3, 'eta': 0.049718301897332506, 'subsample': 0.8486264501336203, 'colsample_bytree': 0.8772203773001217}.\n",
      "[I 2025-05-15 16:50:17,370] Trial 39 finished with values: [0.5000061268315397, 0.0] and parameters: {'max_depth': 5, 'eta': 0.11056125744277857, 'subsample': 0.6727162630338449, 'colsample_bytree': 0.8054913164840778}.\n",
      "[I 2025-05-15 16:50:17,484] Trial 40 finished with values: [0.5000061268315397, 0.0] and parameters: {'max_depth': 6, 'eta': 0.22311133704152242, 'subsample': 0.6393464926053007, 'colsample_bytree': 0.9878398834183557}.\n",
      "[I 2025-05-15 16:50:17,603] Trial 41 finished with values: [0.5000061268315397, 0.0] and parameters: {'max_depth': 7, 'eta': 0.2509015649107162, 'subsample': 0.6635373531762025, 'colsample_bytree': 0.8950721884429604}.\n",
      "[I 2025-05-15 16:50:17,708] Trial 42 finished with values: [0.5000061268315397, 0.0] and parameters: {'max_depth': 7, 'eta': 0.1893471543336986, 'subsample': 0.619658821800076, 'colsample_bytree': 0.7063153134939282}.\n",
      "[I 2025-05-15 16:50:17,820] Trial 43 finished with values: [0.6542935303722356, 0.026021417282898456] and parameters: {'max_depth': 7, 'eta': 0.0702980832329052, 'subsample': 0.9029108004255059, 'colsample_bytree': 0.7405735506383005}.\n",
      "[I 2025-05-15 16:50:17,935] Trial 44 finished with values: [0.6707226291459504, 0.012983203043084202] and parameters: {'max_depth': 4, 'eta': 0.14471788041286837, 'subsample': 0.9528821677341842, 'colsample_bytree': 0.6970515939559757}.\n",
      "[I 2025-05-15 16:50:18,031] Trial 45 finished with values: [0.5000061268315397, 0.0] and parameters: {'max_depth': 7, 'eta': 0.13945992237944255, 'subsample': 0.7710256569822974, 'colsample_bytree': 0.6713560123440621}.\n",
      "[I 2025-05-15 16:50:18,135] Trial 46 finished with values: [0.667153749774073, 0.011713283744407388] and parameters: {'max_depth': 3, 'eta': 0.25543487519906605, 'subsample': 0.9518101437782769, 'colsample_bytree': 0.8879656187119347}.\n",
      "[I 2025-05-15 16:50:18,240] Trial 47 finished with values: [0.5000061268315397, 0.0] and parameters: {'max_depth': 6, 'eta': 0.07338966337041362, 'subsample': 0.8388164018901804, 'colsample_bytree': 0.7614393851659708}.\n",
      "[I 2025-05-15 16:50:18,354] Trial 48 finished with values: [0.5000061268315397, 0.0] and parameters: {'max_depth': 3, 'eta': 0.2380704991440398, 'subsample': 0.7082318244293411, 'colsample_bytree': 0.6848463617571532}.\n",
      "[I 2025-05-15 16:50:18,454] Trial 49 finished with values: [0.5000061268315397, 0.0] and parameters: {'max_depth': 3, 'eta': 0.26990085569195504, 'subsample': 0.7038938554075886, 'colsample_bytree': 0.6142121031071839}.\n",
      "[I 2025-05-15 16:50:18,463] A new study created in memory with name: no-name-9e753a2d-5260-4cb1-b60a-30b8bc4d143d\n",
      "[I 2025-05-15 16:50:18,579] Trial 0 finished with values: [0.6707226291459504, 0.012983203043084202] and parameters: {'max_depth': 7, 'eta': 0.22515972510412643, 'subsample': 0.8390816343532914, 'colsample_bytree': 0.930741449459731}.\n"
     ]
    },
    {
     "name": "stdout",
     "output_type": "stream",
     "text": [
      "Completed study for alpha=0.015625\n",
      "6\n"
     ]
    },
    {
     "name": "stderr",
     "output_type": "stream",
     "text": [
      "[I 2025-05-15 16:50:18,741] Trial 1 finished with values: [0.6707226291459504, 0.012983203043084202] and parameters: {'max_depth': 7, 'eta': 0.02447539454252868, 'subsample': 0.7918074090081383, 'colsample_bytree': 0.6662063888696194}.\n",
      "[I 2025-05-15 16:50:18,863] Trial 2 finished with values: [0.6707226291459504, 0.012983203043084202] and parameters: {'max_depth': 4, 'eta': 0.19552244744176725, 'subsample': 0.7306370930859498, 'colsample_bytree': 0.9399403123733493}.\n",
      "[I 2025-05-15 16:50:18,977] Trial 3 finished with values: [0.6707226291459504, 0.012983203043084202] and parameters: {'max_depth': 7, 'eta': 0.17037157541811246, 'subsample': 0.8652340816480166, 'colsample_bytree': 0.9342125066233917}.\n",
      "[I 2025-05-15 16:50:19,082] Trial 4 finished with values: [0.6707226291459504, 0.012983203043084202] and parameters: {'max_depth': 3, 'eta': 0.16907165227170448, 'subsample': 0.9046186956321887, 'colsample_bytree': 0.96431317210316}.\n",
      "[I 2025-05-15 16:50:19,192] Trial 5 finished with values: [0.6707226291459504, 0.012983203043084202] and parameters: {'max_depth': 6, 'eta': 0.2646216885516975, 'subsample': 0.7263006641247085, 'colsample_bytree': 0.8230919290686104}.\n",
      "[I 2025-05-15 16:50:19,303] Trial 6 finished with values: [0.6721532443104711, 0.030556142210360775] and parameters: {'max_depth': 6, 'eta': 0.29639983452805546, 'subsample': 0.9418730725104736, 'colsample_bytree': 0.9161277792673754}.\n",
      "[I 2025-05-15 16:50:19,434] Trial 7 finished with values: [0.6707226291459504, 0.012983203043084202] and parameters: {'max_depth': 5, 'eta': 0.05763791267564735, 'subsample': 0.7760122554342923, 'colsample_bytree': 0.6656467677245573}.\n",
      "[I 2025-05-15 16:50:19,536] Trial 8 finished with values: [0.6707226291459504, 0.012983203043084202] and parameters: {'max_depth': 3, 'eta': 0.19719565835962485, 'subsample': 0.8470384127355859, 'colsample_bytree': 0.9278991488966051}.\n",
      "[I 2025-05-15 16:50:19,664] Trial 9 finished with values: [0.6707226291459504, 0.012983203043084202] and parameters: {'max_depth': 4, 'eta': 0.20881714963369416, 'subsample': 0.9616879380547454, 'colsample_bytree': 0.9386690864385069}.\n",
      "[I 2025-05-15 16:50:19,794] Trial 10 finished with values: [0.6707226291459504, 0.012983203043084202] and parameters: {'max_depth': 4, 'eta': 0.2323257843948451, 'subsample': 0.8964838568543259, 'colsample_bytree': 0.7563421471144028}.\n",
      "[I 2025-05-15 16:50:19,939] Trial 11 finished with values: [0.6707226291459504, 0.012983203043084202] and parameters: {'max_depth': 6, 'eta': 0.06144362715499898, 'subsample': 0.7398594372405072, 'colsample_bytree': 0.9374097937759963}.\n",
      "[I 2025-05-15 16:50:20,094] Trial 12 finished with values: [0.6707226291459504, 0.012983203043084202] and parameters: {'max_depth': 7, 'eta': 0.0472531654638305, 'subsample': 0.8861091040696322, 'colsample_bytree': 0.9106705542833413}.\n",
      "[I 2025-05-15 16:50:20,253] Trial 13 finished with values: [0.6707226291459504, 0.012983203043084202] and parameters: {'max_depth': 5, 'eta': 0.050256051506541354, 'subsample': 0.9921423371303714, 'colsample_bytree': 0.7629427279526766}.\n",
      "[I 2025-05-15 16:50:20,403] Trial 14 finished with values: [0.6707226291459504, 0.012983203043084202] and parameters: {'max_depth': 6, 'eta': 0.07241089234040994, 'subsample': 0.8418955802467776, 'colsample_bytree': 0.8611587901126736}.\n",
      "[I 2025-05-15 16:50:20,534] Trial 15 finished with values: [0.6707226291459504, 0.012983203043084202] and parameters: {'max_depth': 6, 'eta': 0.1253223202173959, 'subsample': 0.9833623141276073, 'colsample_bytree': 0.8768396843460806}.\n",
      "[I 2025-05-15 16:50:20,658] Trial 16 finished with values: [0.6707226291459504, 0.012983203043084202] and parameters: {'max_depth': 4, 'eta': 0.08318651644493658, 'subsample': 0.8820545211557862, 'colsample_bytree': 0.9506343114712925}.\n",
      "[I 2025-05-15 16:50:20,794] Trial 17 finished with values: [0.6707226291459504, 0.012983203043084202] and parameters: {'max_depth': 4, 'eta': 0.20409882144736008, 'subsample': 0.9901525391033925, 'colsample_bytree': 0.6433348658779713}.\n",
      "[I 2025-05-15 16:50:20,907] Trial 18 finished with values: [0.6707226291459504, 0.012983203043084202] and parameters: {'max_depth': 7, 'eta': 0.16683007354403817, 'subsample': 0.8515868054125186, 'colsample_bytree': 0.6288573311098103}.\n",
      "[I 2025-05-15 16:50:21,046] Trial 19 finished with values: [0.6707226291459504, 0.012983203043084202] and parameters: {'max_depth': 6, 'eta': 0.11402555590427846, 'subsample': 0.9116576210266749, 'colsample_bytree': 0.7538121756523275}.\n",
      "[I 2025-05-15 16:50:21,202] Trial 20 finished with values: [0.6707226291459504, 0.012983203043084202] and parameters: {'max_depth': 4, 'eta': 0.05185139778783879, 'subsample': 0.6889464969235697, 'colsample_bytree': 0.7109307538753048}.\n",
      "[I 2025-05-15 16:50:21,339] Trial 21 finished with values: [0.6707226291459504, 0.012983203043084202] and parameters: {'max_depth': 5, 'eta': 0.1284969361093782, 'subsample': 0.6332359282468681, 'colsample_bytree': 0.6540988067631296}.\n",
      "[I 2025-05-15 16:50:21,516] Trial 22 finished with values: [0.6707226291459504, 0.012983203043084202] and parameters: {'max_depth': 4, 'eta': 0.02722751239256275, 'subsample': 0.7926040216285705, 'colsample_bytree': 0.6124680703094891}.\n",
      "[I 2025-05-15 16:50:21,629] Trial 23 finished with values: [0.6728685518927314, 0.008640771281297588] and parameters: {'max_depth': 5, 'eta': 0.2711518160119915, 'subsample': 0.6883770496703494, 'colsample_bytree': 0.7542800745475702}.\n",
      "[I 2025-05-15 16:50:21,803] Trial 24 finished with values: [0.6707226291459504, 0.012983203043084202] and parameters: {'max_depth': 5, 'eta': 0.04165273655090979, 'subsample': 0.9352468325758188, 'colsample_bytree': 0.6501257288251319}.\n",
      "[I 2025-05-15 16:50:21,935] Trial 25 finished with values: [0.6707226291459504, 0.012983203043084202] and parameters: {'max_depth': 4, 'eta': 0.10946324831089009, 'subsample': 0.6169744400645402, 'colsample_bytree': 0.9155537783874647}.\n",
      "[I 2025-05-15 16:50:22,061] Trial 26 finished with values: [0.6707226291459504, 0.012983203043084202] and parameters: {'max_depth': 6, 'eta': 0.2767268837602721, 'subsample': 0.6615028588400714, 'colsample_bytree': 0.7841978149637061}.\n",
      "[I 2025-05-15 16:50:22,187] Trial 27 finished with values: [0.6728685518927314, 0.008640771281297588] and parameters: {'max_depth': 7, 'eta': 0.29961254585415253, 'subsample': 0.949658829050672, 'colsample_bytree': 0.7271539486946209}.\n",
      "[I 2025-05-15 16:50:22,318] Trial 28 finished with values: [0.6707226291459504, 0.012983203043084202] and parameters: {'max_depth': 4, 'eta': 0.1295075976256853, 'subsample': 0.7062309587207034, 'colsample_bytree': 0.7276273832630767}.\n",
      "[I 2025-05-15 16:50:22,462] Trial 29 finished with values: [0.6707226291459504, 0.012983203043084202] and parameters: {'max_depth': 4, 'eta': 0.08040208486622376, 'subsample': 0.8600573848328412, 'colsample_bytree': 0.970385978031974}.\n",
      "[I 2025-05-15 16:50:22,642] Trial 30 finished with values: [0.6707226291459504, 0.012983203043084202] and parameters: {'max_depth': 5, 'eta': 0.03010863119835888, 'subsample': 0.8476452771452915, 'colsample_bytree': 0.7940414194634159}.\n",
      "[I 2025-05-15 16:50:22,772] Trial 31 finished with values: [0.6707226291459504, 0.012983203043084202] and parameters: {'max_depth': 3, 'eta': 0.20829163130778797, 'subsample': 0.9903753092659221, 'colsample_bytree': 0.9010867052652972}.\n",
      "[I 2025-05-15 16:50:22,912] Trial 32 finished with values: [0.6707226291459504, 0.012983203043084202] and parameters: {'max_depth': 4, 'eta': 0.05192066637310142, 'subsample': 0.8099878924138568, 'colsample_bytree': 0.9160893321253352}.\n",
      "[I 2025-05-15 16:50:23,038] Trial 33 finished with values: [0.6707226291459504, 0.012983203043084202] and parameters: {'max_depth': 3, 'eta': 0.24216675582025957, 'subsample': 0.8141271995108008, 'colsample_bytree': 0.7170548227028706}.\n",
      "[I 2025-05-15 16:50:23,184] Trial 34 finished with values: [0.6707226291459504, 0.012983203043084202] and parameters: {'max_depth': 6, 'eta': 0.0566611394419572, 'subsample': 0.9886476283453526, 'colsample_bytree': 0.8580544658021247}.\n",
      "[I 2025-05-15 16:50:23,310] Trial 35 finished with values: [0.6707226291459504, 0.012983203043084202] and parameters: {'max_depth': 4, 'eta': 0.251375200437397, 'subsample': 0.6960807429385265, 'colsample_bytree': 0.794666124769839}.\n",
      "[I 2025-05-15 16:50:23,422] Trial 36 finished with values: [0.6707226291459504, 0.012983203043084202] and parameters: {'max_depth': 6, 'eta': 0.16754091323503123, 'subsample': 0.8843676474952328, 'colsample_bytree': 0.62558386584231}.\n",
      "[I 2025-05-15 16:50:23,642] Trial 37 finished with values: [0.6707226291459504, 0.012983203043084202] and parameters: {'max_depth': 7, 'eta': 0.015122595788158937, 'subsample': 0.8669497877501977, 'colsample_bytree': 0.8559777144527958}.\n",
      "[I 2025-05-15 16:50:23,761] Trial 38 finished with values: [0.668581301522824, 0.018225350788302636] and parameters: {'max_depth': 6, 'eta': 0.27038228201607356, 'subsample': 0.7561104171366079, 'colsample_bytree': 0.7758573500724767}.\n",
      "[I 2025-05-15 16:50:23,892] Trial 39 finished with values: [0.6707226291459504, 0.012983203043084202] and parameters: {'max_depth': 4, 'eta': 0.10852909185440532, 'subsample': 0.9999749967201144, 'colsample_bytree': 0.6945157586351439}.\n",
      "[I 2025-05-15 16:50:24,016] Trial 40 finished with values: [0.6728685518927314, 0.008640771281297588] and parameters: {'max_depth': 3, 'eta': 0.2937553521931803, 'subsample': 0.6669204023083047, 'colsample_bytree': 0.6143689280189636}.\n",
      "[I 2025-05-15 16:50:24,144] Trial 41 finished with values: [0.6721532443104711, 0.010777523418049736] and parameters: {'max_depth': 6, 'eta': 0.27475777094150505, 'subsample': 0.6690738128409869, 'colsample_bytree': 0.838225046349205}.\n",
      "[I 2025-05-15 16:50:24,285] Trial 42 finished with values: [0.6707226291459504, 0.012983203043084202] and parameters: {'max_depth': 3, 'eta': 0.039060119173953474, 'subsample': 0.9338821756202721, 'colsample_bytree': 0.6191089505805384}.\n",
      "[I 2025-05-15 16:50:24,478] Trial 43 finished with values: [0.6707226291459504, 0.012983203043084202] and parameters: {'max_depth': 6, 'eta': 0.02412664787055805, 'subsample': 0.6959976603851181, 'colsample_bytree': 0.7231569405829544}.\n",
      "[I 2025-05-15 16:50:24,700] Trial 44 finished with values: [0.6707226291459504, 0.012983203043084202] and parameters: {'max_depth': 4, 'eta': 0.012386733396998773, 'subsample': 0.7550459364372123, 'colsample_bytree': 0.8173810323975249}.\n",
      "[I 2025-05-15 16:50:24,805] Trial 45 finished with values: [0.6707226291459504, 0.012983203043084202] and parameters: {'max_depth': 5, 'eta': 0.206438503847442, 'subsample': 0.6668067982816233, 'colsample_bytree': 0.8011915698413185}.\n",
      "[I 2025-05-15 16:50:24,908] Trial 46 finished with values: [0.6707226291459504, 0.012983203043084202] and parameters: {'max_depth': 7, 'eta': 0.19097307057435553, 'subsample': 0.6431945375398255, 'colsample_bytree': 0.735050740765575}.\n",
      "[I 2025-05-15 16:50:25,043] Trial 47 finished with values: [0.6707226291459504, 0.012983203043084202] and parameters: {'max_depth': 4, 'eta': 0.2013977090619275, 'subsample': 0.8913517905716168, 'colsample_bytree': 0.7336377443601372}.\n",
      "[I 2025-05-15 16:50:25,242] Trial 48 finished with values: [0.6707226291459504, 0.012983203043084202] and parameters: {'max_depth': 6, 'eta': 0.013498904742421443, 'subsample': 0.7701650280930095, 'colsample_bytree': 0.671088055121104}.\n",
      "[I 2025-05-15 16:50:25,359] Trial 49 finished with values: [0.6642986462765713, 0.015622554976171868] and parameters: {'max_depth': 3, 'eta': 0.2814723381752737, 'subsample': 0.8923558567909302, 'colsample_bytree': 0.9460046082630269}.\n",
      "[I 2025-05-15 16:50:25,369] A new study created in memory with name: no-name-e8612128-654c-4e8f-9e71-5ff8f6aa7599\n",
      "[I 2025-05-15 16:50:25,465] Trial 0 finished with values: [0.5000061268315397, 0.0] and parameters: {'max_depth': 7, 'eta': 0.2488700352293079, 'subsample': 0.6385395752585328, 'colsample_bytree': 0.8340665174347298}.\n",
      "[I 2025-05-15 16:50:25,565] Trial 1 finished with values: [0.6692950773971994, 0.023306651601310773] and parameters: {'max_depth': 6, 'eta': 0.29647293087048004, 'subsample': 0.9783243339728805, 'colsample_bytree': 0.7557102595053592}.\n"
     ]
    },
    {
     "name": "stdout",
     "output_type": "stream",
     "text": [
      "Completed study for alpha=0.0234375\n",
      "7\n"
     ]
    },
    {
     "name": "stderr",
     "output_type": "stream",
     "text": [
      "[I 2025-05-15 16:50:25,706] Trial 2 finished with values: [0.6435976142117984, 0.031565226501093106] and parameters: {'max_depth': 5, 'eta': 0.26780001951883114, 'subsample': 0.7275473364410626, 'colsample_bytree': 0.7745455698662564}.\n",
      "[I 2025-05-15 16:50:25,821] Trial 3 finished with values: [0.6707226291459504, 0.012983203043084202] and parameters: {'max_depth': 7, 'eta': 0.16604972202714846, 'subsample': 0.8832465845581454, 'colsample_bytree': 0.9129583610033063}.\n",
      "[I 2025-05-15 16:50:25,936] Trial 4 finished with values: [0.6707226291459504, 0.012983203043084202] and parameters: {'max_depth': 7, 'eta': 0.12742753027596437, 'subsample': 0.9238074122228457, 'colsample_bytree': 0.7487955311132982}.\n",
      "[I 2025-05-15 16:50:26,049] Trial 5 finished with values: [0.6707226291459504, 0.012983203043084202] and parameters: {'max_depth': 5, 'eta': 0.27361202929849177, 'subsample': 0.9092515757048325, 'colsample_bytree': 0.9373597232323372}.\n",
      "[I 2025-05-15 16:50:26,191] Trial 6 finished with values: [0.6707226291459504, 0.012983203043084202] and parameters: {'max_depth': 4, 'eta': 0.030628771770488394, 'subsample': 0.8906851901554953, 'colsample_bytree': 0.8309597951014442}.\n",
      "[I 2025-05-15 16:50:26,290] Trial 7 finished with values: [0.6393149589655458, 0.026111422843880693] and parameters: {'max_depth': 6, 'eta': 0.27954904633319655, 'subsample': 0.7082979835581793, 'colsample_bytree': 0.7085403726387679}.\n",
      "[I 2025-05-15 16:50:26,386] Trial 8 finished with values: [0.5000061268315397, 0.0] and parameters: {'max_depth': 6, 'eta': 0.12653337171962623, 'subsample': 0.6041648373023235, 'colsample_bytree': 0.8586453301340172}.\n",
      "[I 2025-05-15 16:50:26,490] Trial 9 finished with values: [0.5786332876884384, 0.013502697811489961] and parameters: {'max_depth': 5, 'eta': 0.11415665517096386, 'subsample': 0.6868382185417887, 'colsample_bytree': 0.9819769123844563}.\n",
      "[I 2025-05-15 16:50:26,600] Trial 10 finished with values: [0.6714410001439806, 0.01896421983952416] and parameters: {'max_depth': 6, 'eta': 0.2847970474962881, 'subsample': 0.880033490093439, 'colsample_bytree': 0.7859562025482676}.\n",
      "[I 2025-05-15 16:50:26,702] Trial 11 finished with values: [0.5000061268315397, 0.0] and parameters: {'max_depth': 5, 'eta': 0.11205373576858364, 'subsample': 0.6294839197245274, 'colsample_bytree': 0.6707242861893837}.\n",
      "[I 2025-05-15 16:50:26,818] Trial 12 finished with values: [0.6707226291459504, 0.012983203043084202] and parameters: {'max_depth': 5, 'eta': 0.05136835907962994, 'subsample': 0.9267874282203075, 'colsample_bytree': 0.9495529935433197}.\n",
      "[I 2025-05-15 16:50:26,931] Trial 13 finished with values: [0.5472164272607243, 0.013496002205679628] and parameters: {'max_depth': 3, 'eta': 0.2801846924243511, 'subsample': 0.6646553589417117, 'colsample_bytree': 0.8866505131708938}.\n",
      "[I 2025-05-15 16:50:27,050] Trial 14 finished with values: [0.6707226291459504, 0.012983203043084202] and parameters: {'max_depth': 6, 'eta': 0.058659282087078435, 'subsample': 0.7484570741909048, 'colsample_bytree': 0.952873555785977}.\n",
      "[I 2025-05-15 16:50:27,163] Trial 15 finished with values: [0.6707226291459504, 0.012983203043084202] and parameters: {'max_depth': 4, 'eta': 0.13437471819616698, 'subsample': 0.7553273046412006, 'colsample_bytree': 0.7577396057885167}.\n",
      "[I 2025-05-15 16:50:27,268] Trial 16 finished with values: [0.5000061268315397, 0.0] and parameters: {'max_depth': 7, 'eta': 0.1736498760721962, 'subsample': 0.6402636162758737, 'colsample_bytree': 0.8548147134647324}.\n",
      "[I 2025-05-15 16:50:27,375] Trial 17 finished with values: [0.6607297669046941, 0.021842602490561414] and parameters: {'max_depth': 6, 'eta': 0.298332568275374, 'subsample': 0.7467774020877816, 'colsample_bytree': 0.6912618789210576}.\n",
      "[I 2025-05-15 16:50:27,495] Trial 18 finished with values: [0.5000061268315397, 0.0] and parameters: {'max_depth': 7, 'eta': 0.07078037354910702, 'subsample': 0.683484525951562, 'colsample_bytree': 0.7846795062017444}.\n",
      "[I 2025-05-15 16:50:27,597] Trial 19 finished with values: [0.6714379367282106, 0.012914275554801865] and parameters: {'max_depth': 4, 'eta': 0.18015400063012957, 'subsample': 0.754958173422365, 'colsample_bytree': 0.6984665232805505}.\n",
      "[I 2025-05-15 16:50:27,710] Trial 20 finished with values: [0.6707226291459504, 0.012983203043084202] and parameters: {'max_depth': 6, 'eta': 0.12366035772550611, 'subsample': 0.924849496169484, 'colsample_bytree': 0.997407695307239}.\n",
      "[I 2025-05-15 16:50:27,820] Trial 21 finished with values: [0.6707226291459504, 0.012983203043084202] and parameters: {'max_depth': 4, 'eta': 0.12903608355332818, 'subsample': 0.8597675158624158, 'colsample_bytree': 0.9203160099476789}.\n",
      "[I 2025-05-15 16:50:27,923] Trial 22 finished with values: [0.6707226291459504, 0.012983203043084202] and parameters: {'max_depth': 3, 'eta': 0.19902758673751597, 'subsample': 0.7815561484459642, 'colsample_bytree': 0.7533137960374043}.\n",
      "[I 2025-05-15 16:50:28,037] Trial 23 finished with values: [0.6707226291459504, 0.012983203043084202] and parameters: {'max_depth': 3, 'eta': 0.1325834270858965, 'subsample': 0.8626854353316464, 'colsample_bytree': 0.6420286553944279}.\n",
      "[I 2025-05-15 16:50:28,135] Trial 24 finished with values: [0.5000061268315397, 0.0] and parameters: {'max_depth': 6, 'eta': 0.1386743026803921, 'subsample': 0.6386762969844313, 'colsample_bytree': 0.711142556444495}.\n",
      "[I 2025-05-15 16:50:28,241] Trial 25 finished with values: [0.6707226291459504, 0.012983203043084202] and parameters: {'max_depth': 4, 'eta': 0.15643386944910043, 'subsample': 0.9538627354227188, 'colsample_bytree': 0.6069026054979113}.\n",
      "[I 2025-05-15 16:50:28,342] Trial 26 finished with values: [0.6707226291459504, 0.012983203043084202] and parameters: {'max_depth': 3, 'eta': 0.18215905383490968, 'subsample': 0.987783589030592, 'colsample_bytree': 0.6117029880861761}.\n",
      "[I 2025-05-15 16:50:28,452] Trial 27 finished with values: [0.6707226291459504, 0.012983203043084202] and parameters: {'max_depth': 5, 'eta': 0.22564770608271006, 'subsample': 0.8391513069909623, 'colsample_bytree': 0.859274519911216}.\n",
      "[I 2025-05-15 16:50:28,563] Trial 28 finished with values: [0.5000061268315397, 0.0] and parameters: {'max_depth': 7, 'eta': 0.17450175974585375, 'subsample': 0.6154059817183549, 'colsample_bytree': 0.9911929219242845}.\n",
      "[I 2025-05-15 16:50:28,676] Trial 29 finished with values: [0.6707226291459504, 0.012983203043084202] and parameters: {'max_depth': 7, 'eta': 0.19271752791252802, 'subsample': 0.8374377346712312, 'colsample_bytree': 0.7702473070012604}.\n",
      "[I 2025-05-15 16:50:28,794] Trial 30 finished with values: [0.6650139538588317, 0.01993528448914837] and parameters: {'max_depth': 3, 'eta': 0.15360665464030293, 'subsample': 0.7349194821102047, 'colsample_bytree': 0.6873166009816982}.\n",
      "[I 2025-05-15 16:50:28,919] Trial 31 finished with values: [0.6707226291459504, 0.012983203043084202] and parameters: {'max_depth': 7, 'eta': 0.07113440190173069, 'subsample': 0.9730015448140574, 'colsample_bytree': 0.8284564280756774}.\n",
      "[I 2025-05-15 16:50:29,033] Trial 32 finished with values: [0.6692950773971994, 0.023306651601310773] and parameters: {'max_depth': 7, 'eta': 0.2746359820604441, 'subsample': 0.9047955133949375, 'colsample_bytree': 0.9289085037319307}.\n",
      "[I 2025-05-15 16:50:29,140] Trial 33 finished with values: [0.6707226291459504, 0.012983203043084202] and parameters: {'max_depth': 6, 'eta': 0.2901312316332907, 'subsample': 0.9616138583038485, 'colsample_bytree': 0.8283897768447809}.\n",
      "[I 2025-05-15 16:50:29,270] Trial 34 finished with values: [0.6707226291459504, 0.012983203043084202] and parameters: {'max_depth': 5, 'eta': 0.0523031302399467, 'subsample': 0.9631007690668497, 'colsample_bytree': 0.8931572302666577}.\n",
      "[I 2025-05-15 16:50:29,377] Trial 35 finished with values: [0.6728685518927314, 0.008640771281297588] and parameters: {'max_depth': 7, 'eta': 0.26366316440995596, 'subsample': 0.856591717557049, 'colsample_bytree': 0.7363499889451466}.\n",
      "[I 2025-05-15 16:50:29,483] Trial 36 finished with values: [0.5000061268315397, 0.0] and parameters: {'max_depth': 6, 'eta': 0.17505267480580597, 'subsample': 0.6405066849186978, 'colsample_bytree': 0.9034800647879209}.\n",
      "[I 2025-05-15 16:50:29,628] Trial 37 finished with values: [0.6707226291459504, 0.012983203043084202] and parameters: {'max_depth': 7, 'eta': 0.01883799987000742, 'subsample': 0.8766562389329269, 'colsample_bytree': 0.7016518076098467}.\n",
      "[I 2025-05-15 16:50:29,736] Trial 38 finished with values: [0.6707226291459504, 0.012983203043084202] and parameters: {'max_depth': 5, 'eta': 0.25868411926229845, 'subsample': 0.9424963568715319, 'colsample_bytree': 0.6723417204868747}.\n",
      "[I 2025-05-15 16:50:29,869] Trial 39 finished with values: [0.6707226291459504, 0.012983203043084202] and parameters: {'max_depth': 4, 'eta': 0.060276584049995835, 'subsample': 0.9956260220834285, 'colsample_bytree': 0.915508612925376}.\n",
      "[I 2025-05-15 16:50:29,971] Trial 40 finished with values: [0.5000061268315397, 0.0] and parameters: {'max_depth': 5, 'eta': 0.19266213984991015, 'subsample': 0.6426534919969451, 'colsample_bytree': 0.7307698124571286}.\n",
      "[I 2025-05-15 16:50:30,088] Trial 41 finished with values: [0.6707226291459504, 0.012983203043084202] and parameters: {'max_depth': 3, 'eta': 0.11585301323349044, 'subsample': 0.8483303347499799, 'colsample_bytree': 0.9510117568807103}.\n",
      "[I 2025-05-15 16:50:30,205] Trial 42 finished with values: [0.6707226291459504, 0.012983203043084202] and parameters: {'max_depth': 4, 'eta': 0.07766747977974138, 'subsample': 0.8910750468778119, 'colsample_bytree': 0.7290658420670965}.\n",
      "[I 2025-05-15 16:50:30,328] Trial 43 finished with values: [0.6707226291459504, 0.012983203043084202] and parameters: {'max_depth': 3, 'eta': 0.05285405896296947, 'subsample': 0.813549508814938, 'colsample_bytree': 0.6310653537537777}.\n",
      "[I 2025-05-15 16:50:30,432] Trial 44 finished with values: [0.6707226291459504, 0.012983203043084202] and parameters: {'max_depth': 3, 'eta': 0.14363092836936903, 'subsample': 0.8322724117897162, 'colsample_bytree': 0.923817138661181}.\n",
      "[I 2025-05-15 16:50:30,556] Trial 45 finished with values: [0.6707226291459504, 0.012983203043084202] and parameters: {'max_depth': 7, 'eta': 0.07046959431766284, 'subsample': 0.8124584061989766, 'colsample_bytree': 0.8330020021554033}.\n",
      "[I 2025-05-15 16:50:30,662] Trial 46 finished with values: [0.6707226291459504, 0.012983203043084202] and parameters: {'max_depth': 5, 'eta': 0.18501878209018044, 'subsample': 0.857594528997452, 'colsample_bytree': 0.8698912007738959}.\n",
      "[I 2025-05-15 16:50:30,777] Trial 47 finished with values: [0.6721532443104711, 0.010777523418049736] and parameters: {'max_depth': 7, 'eta': 0.23262098367251918, 'subsample': 0.7722243573153603, 'colsample_bytree': 0.7084751354256769}.\n",
      "[I 2025-05-15 16:50:30,890] Trial 48 finished with values: [0.6707226291459504, 0.012983203043084202] and parameters: {'max_depth': 5, 'eta': 0.09747612144632975, 'subsample': 0.8665636931324396, 'colsample_bytree': 0.6344373375115291}.\n",
      "[I 2025-05-15 16:50:31,004] Trial 49 finished with values: [0.6707226291459504, 0.012983203043084202] and parameters: {'max_depth': 6, 'eta': 0.1247031978899913, 'subsample': 0.7659905036045587, 'colsample_bytree': 0.8487700969111319}.\n",
      "[I 2025-05-15 16:50:31,015] A new study created in memory with name: no-name-d53d8e98-1310-4025-8305-f0b3b06d3bbd\n",
      "[I 2025-05-15 16:50:31,141] Trial 0 finished with values: [0.6707226291459504, 0.012983203043084202] and parameters: {'max_depth': 6, 'eta': 0.08489173821831009, 'subsample': 0.7671787943623436, 'colsample_bytree': 0.6313075236582067}.\n"
     ]
    },
    {
     "name": "stdout",
     "output_type": "stream",
     "text": [
      "Completed study for alpha=0.01953125\n",
      "8\n"
     ]
    },
    {
     "name": "stderr",
     "output_type": "stream",
     "text": [
      "[I 2025-05-15 16:50:31,248] Trial 1 finished with values: [0.5971975872537397, 0.013577698030403365] and parameters: {'max_depth': 4, 'eta': 0.16447618841973086, 'subsample': 0.6360297740762121, 'colsample_bytree': 0.8916287014873603}.\n",
      "[I 2025-05-15 16:50:31,355] Trial 2 finished with values: [0.6707226291459504, 0.012983203043084202] and parameters: {'max_depth': 7, 'eta': 0.19962965655006737, 'subsample': 0.9214578494981516, 'colsample_bytree': 0.6311309214795032}.\n",
      "[I 2025-05-15 16:50:31,455] Trial 3 finished with values: [0.6707226291459504, 0.012983203043084202] and parameters: {'max_depth': 3, 'eta': 0.22741356889304573, 'subsample': 0.6787395443135712, 'colsample_bytree': 0.8054335579842821}.\n",
      "[I 2025-05-15 16:50:31,575] Trial 4 finished with values: [0.6707226291459504, 0.012983203043084202] and parameters: {'max_depth': 6, 'eta': 0.06864594947257396, 'subsample': 0.9037699953673891, 'colsample_bytree': 0.8652876286057907}.\n",
      "[I 2025-05-15 16:50:31,729] Trial 5 finished with values: [0.6707226291459504, 0.012983203043084202] and parameters: {'max_depth': 6, 'eta': 0.021813226663673864, 'subsample': 0.9516984442035172, 'colsample_bytree': 0.626464869372683}.\n",
      "[I 2025-05-15 16:50:31,951] Trial 6 finished with values: [0.6707226291459504, 0.012983203043084202] and parameters: {'max_depth': 6, 'eta': 0.012182926362494496, 'subsample': 0.8199751362069959, 'colsample_bytree': 0.912393744523369}.\n",
      "[I 2025-05-15 16:50:32,063] Trial 7 finished with values: [0.6564455799505565, 0.023683726822786955] and parameters: {'max_depth': 7, 'eta': 0.0959298002967032, 'subsample': 0.6521062465713388, 'colsample_bytree': 0.6841071701312139}.\n",
      "[I 2025-05-15 16:50:32,183] Trial 8 finished with values: [0.5472164272607243, 0.01435070306038048] and parameters: {'max_depth': 6, 'eta': 0.05500461921952451, 'subsample': 0.6278313964245842, 'colsample_bytree': 0.8824567957490033}.\n",
      "[I 2025-05-15 16:50:32,297] Trial 9 finished with values: [0.6707226291459504, 0.012983203043084202] and parameters: {'max_depth': 6, 'eta': 0.10867728908546616, 'subsample': 0.7263800313358422, 'colsample_bytree': 0.9522670979264206}.\n",
      "[I 2025-05-15 16:50:32,411] Trial 10 finished with values: [0.6707226291459504, 0.012983203043084202] and parameters: {'max_depth': 7, 'eta': 0.22103834953103785, 'subsample': 0.6873242428953423, 'colsample_bytree': 0.955397763702436}.\n",
      "[I 2025-05-15 16:50:32,533] Trial 11 finished with values: [0.6307511801809254, 0.014330149099385061] and parameters: {'max_depth': 3, 'eta': 0.07934934940241889, 'subsample': 0.6500253323345103, 'colsample_bytree': 0.7953954037137301}.\n",
      "[I 2025-05-15 16:50:32,644] Trial 12 finished with values: [0.6707226291459504, 0.012983203043084202] and parameters: {'max_depth': 6, 'eta': 0.1153808801258605, 'subsample': 0.9059074220057768, 'colsample_bytree': 0.8027734748947052}.\n",
      "[I 2025-05-15 16:50:32,756] Trial 13 finished with values: [0.6707226291459504, 0.012983203043084202] and parameters: {'max_depth': 5, 'eta': 0.14673260962506662, 'subsample': 0.7424174629376692, 'colsample_bytree': 0.9138928625428444}.\n",
      "[I 2025-05-15 16:50:32,897] Trial 14 finished with values: [0.6707226291459504, 0.012983203043084202] and parameters: {'max_depth': 7, 'eta': 0.18503125982411658, 'subsample': 0.8813426835835285, 'colsample_bytree': 0.8869021352381279}.\n",
      "[I 2025-05-15 16:50:33,012] Trial 15 finished with values: [0.623611889729286, 0.02635269324219619] and parameters: {'max_depth': 4, 'eta': 0.2880628125866372, 'subsample': 0.6231521535742743, 'colsample_bytree': 0.9766753289253607}.\n",
      "[I 2025-05-15 16:50:33,120] Trial 16 finished with values: [0.5479317348429845, 0.012420733388475325] and parameters: {'max_depth': 5, 'eta': 0.14842381670364008, 'subsample': 0.627438260752721, 'colsample_bytree': 0.6452432544463726}.\n",
      "[I 2025-05-15 16:50:33,229] Trial 17 finished with values: [0.6707226291459504, 0.012983203043084202] and parameters: {'max_depth': 6, 'eta': 0.15852679442517242, 'subsample': 0.9557512465174101, 'colsample_bytree': 0.7132624220633956}.\n",
      "[I 2025-05-15 16:50:33,337] Trial 18 finished with values: [0.6707226291459504, 0.012983203043084202] and parameters: {'max_depth': 6, 'eta': 0.22250072432957496, 'subsample': 0.8006297936668958, 'colsample_bytree': 0.9167522192706636}.\n",
      "[I 2025-05-15 16:50:33,445] Trial 19 finished with values: [0.6707226291459504, 0.012983203043084202] and parameters: {'max_depth': 7, 'eta': 0.2602603851509175, 'subsample': 0.9582057143565225, 'colsample_bytree': 0.943633349773555}.\n",
      "[I 2025-05-15 16:50:33,601] Trial 20 finished with values: [0.6707226291459504, 0.012983203043084202] and parameters: {'max_depth': 5, 'eta': 0.02678720483081759, 'subsample': 0.7486754206060099, 'colsample_bytree': 0.9899083154111767}.\n",
      "[I 2025-05-15 16:50:33,726] Trial 21 finished with values: [0.6707226291459504, 0.012983203043084202] and parameters: {'max_depth': 4, 'eta': 0.08942870158818966, 'subsample': 0.7218199137224462, 'colsample_bytree': 0.8308419841289056}.\n",
      "[I 2025-05-15 16:50:33,827] Trial 22 finished with values: [0.6707226291459504, 0.012983203043084202] and parameters: {'max_depth': 3, 'eta': 0.2259290704695125, 'subsample': 0.793731080402943, 'colsample_bytree': 0.8003061372774112}.\n",
      "[I 2025-05-15 16:50:33,941] Trial 23 finished with values: [0.6707226291459504, 0.012983203043084202] and parameters: {'max_depth': 4, 'eta': 0.23189283591286153, 'subsample': 0.7239362891840583, 'colsample_bytree': 0.9836010221721024}.\n",
      "[I 2025-05-15 16:50:34,049] Trial 24 finished with values: [0.6707226291459504, 0.012983203043084202] and parameters: {'max_depth': 5, 'eta': 0.14905462682184925, 'subsample': 0.7466923620089296, 'colsample_bytree': 0.6912399228021424}.\n",
      "[I 2025-05-15 16:50:34,170] Trial 25 finished with values: [0.5000061268315397, 0.0] and parameters: {'max_depth': 3, 'eta': 0.0472164139827578, 'subsample': 0.6138702636232714, 'colsample_bytree': 0.7448819581306698}.\n",
      "[I 2025-05-15 16:50:34,289] Trial 26 finished with values: [0.6707226291459504, 0.012983203043084202] and parameters: {'max_depth': 4, 'eta': 0.07821813021323264, 'subsample': 0.6981691330442905, 'colsample_bytree': 0.8366523833093682}.\n",
      "[I 2025-05-15 16:50:34,398] Trial 27 finished with values: [0.6707226291459504, 0.012983203043084202] and parameters: {'max_depth': 7, 'eta': 0.27809089019544775, 'subsample': 0.8787778690380663, 'colsample_bytree': 0.8573453648941695}.\n",
      "[I 2025-05-15 16:50:34,508] Trial 28 finished with values: [0.6707226291459504, 0.012983203043084202] and parameters: {'max_depth': 7, 'eta': 0.11666287114987783, 'subsample': 0.8103467105914414, 'colsample_bytree': 0.95678769317117}.\n",
      "[I 2025-05-15 16:50:34,623] Trial 29 finished with values: [0.6707226291459504, 0.012983203043084202] and parameters: {'max_depth': 5, 'eta': 0.1196213623122775, 'subsample': 0.9251025926362751, 'colsample_bytree': 0.8455649528723281}.\n",
      "[I 2025-05-15 16:50:34,749] Trial 30 finished with values: [0.6707226291459504, 0.012983203043084202] and parameters: {'max_depth': 4, 'eta': 0.18198038285942808, 'subsample': 0.9876861632304208, 'colsample_bytree': 0.6050071392623212}.\n",
      "[I 2025-05-15 16:50:34,865] Trial 31 finished with values: [0.6707226291459504, 0.012983203043084202] and parameters: {'max_depth': 5, 'eta': 0.17927330242681286, 'subsample': 0.9363371002592207, 'colsample_bytree': 0.7540627887910204}.\n",
      "[I 2025-05-15 16:50:34,989] Trial 32 finished with values: [0.6707226291459504, 0.012983203043084202] and parameters: {'max_depth': 6, 'eta': 0.28728616985720024, 'subsample': 0.8427340732563837, 'colsample_bytree': 0.7010406686385751}.\n",
      "[I 2025-05-15 16:50:35,102] Trial 33 finished with values: [0.6707226291459504, 0.012983203043084202] and parameters: {'max_depth': 6, 'eta': 0.17036574742337374, 'subsample': 0.9945462505837045, 'colsample_bytree': 0.9117790365077529}.\n",
      "[I 2025-05-15 16:50:35,213] Trial 34 finished with values: [0.6707226291459504, 0.012983203043084202] and parameters: {'max_depth': 7, 'eta': 0.13346081391054707, 'subsample': 0.8758390215984653, 'colsample_bytree': 0.8095852872470994}.\n",
      "[I 2025-05-15 16:50:35,311] Trial 35 finished with values: [0.5493623500075053, 0.010270195754066727] and parameters: {'max_depth': 5, 'eta': 0.2969191605643129, 'subsample': 0.6041008246769415, 'colsample_bytree': 0.7667231899068114}.\n",
      "[I 2025-05-15 16:50:35,411] Trial 36 finished with values: [0.6707226291459504, 0.012983203043084202] and parameters: {'max_depth': 4, 'eta': 0.17763040348924675, 'subsample': 0.95068130128015, 'colsample_bytree': 0.9549434806065469}.\n",
      "[I 2025-05-15 16:50:35,561] Trial 37 finished with values: [0.6707226291459504, 0.012983203043084202] and parameters: {'max_depth': 7, 'eta': 0.02648519669428486, 'subsample': 0.6967235831837327, 'colsample_bytree': 0.6699741390643387}.\n",
      "[I 2025-05-15 16:50:35,666] Trial 38 finished with values: [0.6707226291459504, 0.012983203043084202] and parameters: {'max_depth': 4, 'eta': 0.26081980745123284, 'subsample': 0.7540686629742435, 'colsample_bytree': 0.6605863350452541}.\n",
      "[I 2025-05-15 16:50:35,793] Trial 39 finished with values: [0.6707226291459504, 0.012983203043084202] and parameters: {'max_depth': 4, 'eta': 0.059842921240938964, 'subsample': 0.7741214315069269, 'colsample_bytree': 0.9931405230011171}.\n",
      "[I 2025-05-15 16:50:35,899] Trial 40 finished with values: [0.6707226291459504, 0.012983203043084202] and parameters: {'max_depth': 3, 'eta': 0.26417231866453383, 'subsample': 0.7606952680000794, 'colsample_bytree': 0.7412552521412508}.\n",
      "[I 2025-05-15 16:50:36,004] Trial 41 finished with values: [0.6707226291459504, 0.012983203043084202] and parameters: {'max_depth': 3, 'eta': 0.1501949727234558, 'subsample': 0.8150469798683979, 'colsample_bytree': 0.810189136009919}.\n",
      "[I 2025-05-15 16:50:36,112] Trial 42 finished with values: [0.6707226291459504, 0.012983203043084202] and parameters: {'max_depth': 4, 'eta': 0.0965193682884068, 'subsample': 0.797735999181789, 'colsample_bytree': 0.8759999394169871}.\n",
      "[I 2025-05-15 16:50:36,236] Trial 43 finished with values: [0.6707226291459504, 0.012983203043084202] and parameters: {'max_depth': 6, 'eta': 0.08944463018425479, 'subsample': 0.73923928001255, 'colsample_bytree': 0.8103183012092681}.\n",
      "[I 2025-05-15 16:50:36,362] Trial 44 finished with values: [0.6707226291459504, 0.012983203043084202] and parameters: {'max_depth': 5, 'eta': 0.07888924115535259, 'subsample': 0.8230398668263709, 'colsample_bytree': 0.9157194740048893}.\n",
      "[I 2025-05-15 16:50:36,469] Trial 45 finished with values: [0.6707226291459504, 0.012983203043084202] and parameters: {'max_depth': 7, 'eta': 0.11326382696981782, 'subsample': 0.742991379917032, 'colsample_bytree': 0.9375674316288578}.\n",
      "[I 2025-05-15 16:50:36,651] Trial 46 finished with values: [0.6707226291459504, 0.012983203043084202] and parameters: {'max_depth': 7, 'eta': 0.015304965849683164, 'subsample': 0.9617831085028832, 'colsample_bytree': 0.8780096249925919}.\n",
      "[I 2025-05-15 16:50:36,764] Trial 47 finished with values: [0.6707226291459504, 0.012983203043084202] and parameters: {'max_depth': 4, 'eta': 0.10573656349071535, 'subsample': 0.835369952143772, 'colsample_bytree': 0.6522333119830398}.\n",
      "[I 2025-05-15 16:50:36,878] Trial 48 finished with values: [0.6707226291459504, 0.012983203043084202] and parameters: {'max_depth': 3, 'eta': 0.1667461031969142, 'subsample': 0.7924249180827929, 'colsample_bytree': 0.7589124886306012}.\n",
      "[I 2025-05-15 16:50:36,987] Trial 49 finished with values: [0.6671522180661881, 0.019054666153416593] and parameters: {'max_depth': 5, 'eta': 0.299257274078599, 'subsample': 0.6685010262216855, 'colsample_bytree': 0.7962967018533276}.\n",
      "[I 2025-05-15 16:50:36,997] A new study created in memory with name: no-name-07915fa1-0b56-41e5-847a-d6e6edb409a6\n",
      "[I 2025-05-15 16:50:37,105] Trial 0 finished with values: [0.6721532443104711, 0.010777523418049736] and parameters: {'max_depth': 7, 'eta': 0.22249544993138903, 'subsample': 0.6831184327458314, 'colsample_bytree': 0.6173916197629394}.\n"
     ]
    },
    {
     "name": "stdout",
     "output_type": "stream",
     "text": [
      "Completed study for alpha=0.021484375\n",
      "9\n"
     ]
    },
    {
     "name": "stderr",
     "output_type": "stream",
     "text": [
      "[I 2025-05-15 16:50:37,214] Trial 1 finished with values: [0.6671522180661881, 0.02338331241754671] and parameters: {'max_depth': 3, 'eta': 0.2763138347237525, 'subsample': 0.6345589899719846, 'colsample_bytree': 0.649077752184389}.\n",
      "[I 2025-05-15 16:50:37,324] Trial 2 finished with values: [0.6707226291459504, 0.012983203043084202] and parameters: {'max_depth': 5, 'eta': 0.11814056104843208, 'subsample': 0.8420478133270538, 'colsample_bytree': 0.8245232470845332}.\n",
      "[I 2025-05-15 16:50:37,436] Trial 3 finished with values: [0.6707226291459504, 0.012983203043084202] and parameters: {'max_depth': 6, 'eta': 0.17475109776247297, 'subsample': 0.9496007596453755, 'colsample_bytree': 0.6852187647086537}.\n",
      "[I 2025-05-15 16:50:37,537] Trial 4 finished with values: [0.6707226291459504, 0.012983203043084202] and parameters: {'max_depth': 7, 'eta': 0.20217523210774266, 'subsample': 0.942488336610781, 'colsample_bytree': 0.9185448272051818}.\n",
      "[I 2025-05-15 16:50:37,650] Trial 5 finished with values: [0.6657292614410921, 0.015529819142445814] and parameters: {'max_depth': 4, 'eta': 0.28757341572738876, 'subsample': 0.7343372793289416, 'colsample_bytree': 0.9018501629275932}.\n",
      "[I 2025-05-15 16:50:37,773] Trial 6 finished with values: [0.6707226291459504, 0.012983203043084202] and parameters: {'max_depth': 3, 'eta': 0.07633950324700527, 'subsample': 0.7984302624560093, 'colsample_bytree': 0.8834803267000251}.\n",
      "[I 2025-05-15 16:50:37,940] Trial 7 finished with values: [0.6707226291459504, 0.012983203043084202] and parameters: {'max_depth': 5, 'eta': 0.019250398091564078, 'subsample': 0.7203274356543832, 'colsample_bytree': 0.781741289054556}.\n",
      "[I 2025-05-15 16:50:38,052] Trial 8 finished with values: [0.6642986462765713, 0.015622554976171868] and parameters: {'max_depth': 5, 'eta': 0.2925816448460539, 'subsample': 0.7586832892226658, 'colsample_bytree': 0.9091657038771264}.\n",
      "[I 2025-05-15 16:50:38,152] Trial 9 finished with values: [0.6707226291459504, 0.012983203043084202] and parameters: {'max_depth': 4, 'eta': 0.1816576870663964, 'subsample': 0.7940179890484553, 'colsample_bytree': 0.7542777301421127}.\n",
      "[I 2025-05-15 16:50:38,257] Trial 10 finished with values: [0.6642986462765713, 0.018887586667257] and parameters: {'max_depth': 6, 'eta': 0.2743964089528017, 'subsample': 0.6330878085219019, 'colsample_bytree': 0.7257635360702975}.\n",
      "[I 2025-05-15 16:50:38,363] Trial 11 finished with values: [0.6707226291459504, 0.012983203043084202] and parameters: {'max_depth': 6, 'eta': 0.13429630926862562, 'subsample': 0.8141805885583675, 'colsample_bytree': 0.9262345125971363}.\n",
      "[I 2025-05-15 16:50:38,463] Trial 12 finished with values: [0.6707226291459504, 0.012983203043084202] and parameters: {'max_depth': 7, 'eta': 0.2422074793868904, 'subsample': 0.8141818103211669, 'colsample_bytree': 0.6117331690025128}.\n",
      "[I 2025-05-15 16:50:38,569] Trial 13 finished with values: [0.636459855468044, 0.02705535606749877] and parameters: {'max_depth': 5, 'eta': 0.23400740831595845, 'subsample': 0.6211444282486321, 'colsample_bytree': 0.7102462516343939}.\n",
      "[I 2025-05-15 16:50:38,673] Trial 14 finished with values: [0.6692950773971994, 0.023306651601310773] and parameters: {'max_depth': 4, 'eta': 0.2728949058505102, 'subsample': 0.8847605522357944, 'colsample_bytree': 0.7564710948218956}.\n",
      "[I 2025-05-15 16:50:38,782] Trial 15 finished with values: [0.6707226291459504, 0.012983203043084202] and parameters: {'max_depth': 6, 'eta': 0.25425620475977606, 'subsample': 0.8744284372287645, 'colsample_bytree': 0.6942970606755882}.\n",
      "[I 2025-05-15 16:50:38,890] Trial 16 finished with values: [0.6707226291459504, 0.012983203043084202] and parameters: {'max_depth': 7, 'eta': 0.21142842504532317, 'subsample': 0.8682821701798327, 'colsample_bytree': 0.9709618525026208}.\n",
      "[I 2025-05-15 16:50:39,002] Trial 17 finished with values: [0.6707226291459504, 0.012983203043084202] and parameters: {'max_depth': 4, 'eta': 0.18876594474076605, 'subsample': 0.9179688472840801, 'colsample_bytree': 0.7420698235759378}.\n",
      "[I 2025-05-15 16:50:39,123] Trial 18 finished with values: [0.668581301522824, 0.022290391438709145] and parameters: {'max_depth': 3, 'eta': 0.214462762678902, 'subsample': 0.6612491251777575, 'colsample_bytree': 0.9981364498967294}.\n",
      "[I 2025-05-15 16:50:39,237] Trial 19 finished with values: [0.6707226291459504, 0.012983203043084202] and parameters: {'max_depth': 6, 'eta': 0.206305697994024, 'subsample': 0.9141511159914664, 'colsample_bytree': 0.9235751533358543}.\n",
      "[I 2025-05-15 16:50:39,350] Trial 20 finished with values: [0.6707226291459504, 0.012983203043084202] and parameters: {'max_depth': 3, 'eta': 0.09652337894494065, 'subsample': 0.932561281835938, 'colsample_bytree': 0.7054864907551549}.\n",
      "[I 2025-05-15 16:50:39,486] Trial 21 finished with values: [0.6593006834480583, 0.01539279858976364] and parameters: {'max_depth': 4, 'eta': 0.039305953796659986, 'subsample': 0.6300600771652402, 'colsample_bytree': 0.800705991032196}.\n",
      "[I 2025-05-15 16:50:39,595] Trial 22 finished with values: [0.6707226291459504, 0.012983203043084202] and parameters: {'max_depth': 6, 'eta': 0.11198951137272484, 'subsample': 0.995550129878642, 'colsample_bytree': 0.8133746409168598}.\n",
      "[I 2025-05-15 16:50:39,725] Trial 23 finished with values: [0.6707226291459504, 0.012983203043084202] and parameters: {'max_depth': 5, 'eta': 0.03804340044393694, 'subsample': 0.8105433015911407, 'colsample_bytree': 0.7584280424281211}.\n",
      "[I 2025-05-15 16:50:39,826] Trial 24 finished with values: [0.6707226291459504, 0.012983203043084202] and parameters: {'max_depth': 7, 'eta': 0.14843491820586505, 'subsample': 0.9458139599904949, 'colsample_bytree': 0.830190575641992}.\n",
      "[I 2025-05-15 16:50:40,063] Trial 25 finished with values: [0.6707226291459504, 0.012983203043084202] and parameters: {'max_depth': 5, 'eta': 0.010441924600937399, 'subsample': 0.655108144700162, 'colsample_bytree': 0.9870415377272947}.\n",
      "[I 2025-05-15 16:50:40,175] Trial 26 finished with values: [0.6707226291459504, 0.012983203043084202] and parameters: {'max_depth': 6, 'eta': 0.11001382742427283, 'subsample': 0.9395309072207749, 'colsample_bytree': 0.8692936158167203}.\n",
      "[I 2025-05-15 16:50:40,285] Trial 27 finished with values: [0.6707226291459504, 0.012983203043084202] and parameters: {'max_depth': 4, 'eta': 0.11362569470585532, 'subsample': 0.7943249903837881, 'colsample_bytree': 0.9443115619849118}.\n",
      "[I 2025-05-15 16:50:40,395] Trial 28 finished with values: [0.6707226291459504, 0.012983203043084202] and parameters: {'max_depth': 3, 'eta': 0.18873028484124138, 'subsample': 0.9953718407037349, 'colsample_bytree': 0.6499135792626985}.\n",
      "[I 2025-05-15 16:50:40,497] Trial 29 finished with values: [0.6707226291459504, 0.012983203043084202] and parameters: {'max_depth': 7, 'eta': 0.15202657420228677, 'subsample': 0.6509482852237802, 'colsample_bytree': 0.6507286797373136}.\n",
      "[I 2025-05-15 16:50:40,607] Trial 30 finished with values: [0.663583338694311, 0.01778474685473978] and parameters: {'max_depth': 6, 'eta': 0.1415009082152202, 'subsample': 0.6236382396622099, 'colsample_bytree': 0.8685020217357347}.\n",
      "[I 2025-05-15 16:50:40,713] Trial 31 finished with values: [0.6707226291459504, 0.012983203043084202] and parameters: {'max_depth': 6, 'eta': 0.2876864084445461, 'subsample': 0.7858470151761248, 'colsample_bytree': 0.7349447076170246}.\n",
      "[I 2025-05-15 16:50:40,830] Trial 32 finished with values: [0.6707226291459504, 0.012983203043084202] and parameters: {'max_depth': 6, 'eta': 0.06256525176009765, 'subsample': 0.7979672144113378, 'colsample_bytree': 0.9343060524736212}.\n",
      "[I 2025-05-15 16:50:40,935] Trial 33 finished with values: [0.6707226291459504, 0.012983203043084202] and parameters: {'max_depth': 6, 'eta': 0.2281636975220111, 'subsample': 0.7297777083658238, 'colsample_bytree': 0.8483362458776267}.\n",
      "[I 2025-05-15 16:50:41,030] Trial 34 finished with values: [0.6707226291459504, 0.012983203043084202] and parameters: {'max_depth': 7, 'eta': 0.16031708957558613, 'subsample': 0.7375468624043344, 'colsample_bytree': 0.8333950561596636}.\n",
      "[I 2025-05-15 16:50:41,152] Trial 35 finished with values: [0.6707226291459504, 0.012983203043084202] and parameters: {'max_depth': 7, 'eta': 0.0695362471699163, 'subsample': 0.8039372334013265, 'colsample_bytree': 0.6052971798299289}.\n",
      "[I 2025-05-15 16:50:41,253] Trial 36 finished with values: [0.6707226291459504, 0.012983203043084202] and parameters: {'max_depth': 4, 'eta': 0.1647888006883457, 'subsample': 0.685616256587815, 'colsample_bytree': 0.9348897119284351}.\n",
      "[I 2025-05-15 16:50:41,367] Trial 37 finished with values: [0.6707226291459504, 0.012983203043084202] and parameters: {'max_depth': 3, 'eta': 0.12321303052800671, 'subsample': 0.6449720655095411, 'colsample_bytree': 0.7969873354190592}.\n",
      "[I 2025-05-15 16:50:41,468] Trial 38 finished with values: [0.6707226291459504, 0.012983203043084202] and parameters: {'max_depth': 4, 'eta': 0.28558817803466663, 'subsample': 0.6866080287244163, 'colsample_bytree': 0.8845018735228743}.\n",
      "[I 2025-05-15 16:50:41,589] Trial 39 finished with values: [0.6707226291459504, 0.012983203043084202] and parameters: {'max_depth': 5, 'eta': 0.04673282713256683, 'subsample': 0.737507831170539, 'colsample_bytree': 0.9399138035621921}.\n",
      "[I 2025-05-15 16:50:41,715] Trial 40 finished with values: [0.6707226291459504, 0.012983203043084202] and parameters: {'max_depth': 6, 'eta': 0.04697905132326696, 'subsample': 0.7804868694932354, 'colsample_bytree': 0.8111677339972012}.\n",
      "[I 2025-05-15 16:50:41,824] Trial 41 finished with values: [0.642883838337423, 0.02128566568811684] and parameters: {'max_depth': 5, 'eta': 0.26435414005040175, 'subsample': 0.6137162470253247, 'colsample_bytree': 0.7356277727934367}.\n",
      "[I 2025-05-15 16:50:41,928] Trial 42 finished with values: [0.6707226291459504, 0.012983203043084202] and parameters: {'max_depth': 7, 'eta': 0.1429796480002759, 'subsample': 0.6915612012488992, 'colsample_bytree': 0.7985425210176132}.\n",
      "[I 2025-05-15 16:50:42,036] Trial 43 finished with values: [0.6707226291459504, 0.012983203043084202] and parameters: {'max_depth': 7, 'eta': 0.23295115921573192, 'subsample': 0.7504555670531474, 'colsample_bytree': 0.6210274868920889}.\n",
      "[I 2025-05-15 16:50:42,143] Trial 44 finished with values: [0.6321772002217912, 0.022611210577277368] and parameters: {'max_depth': 4, 'eta': 0.15144125103646455, 'subsample': 0.6157058187561785, 'colsample_bytree': 0.669966432824484}.\n",
      "[I 2025-05-15 16:50:42,250] Trial 45 finished with values: [0.6707226291459504, 0.012983203043084202] and parameters: {'max_depth': 4, 'eta': 0.16576057137642763, 'subsample': 0.6792798561681888, 'colsample_bytree': 0.7139361202112469}.\n",
      "[I 2025-05-15 16:50:42,369] Trial 46 finished with values: [0.6707226291459504, 0.012983203043084202] and parameters: {'max_depth': 5, 'eta': 0.09330844003235074, 'subsample': 0.686836767614618, 'colsample_bytree': 0.707891863030087}.\n",
      "[I 2025-05-15 16:50:42,517] Trial 47 finished with values: [0.6707226291459504, 0.012983203043084202] and parameters: {'max_depth': 3, 'eta': 0.13525670652719882, 'subsample': 0.925684880520222, 'colsample_bytree': 0.724293576507074}.\n",
      "[I 2025-05-15 16:50:42,677] Trial 48 finished with values: [0.6707226291459504, 0.012983203043084202] and parameters: {'max_depth': 3, 'eta': 0.025266422954862852, 'subsample': 0.6431892516966244, 'colsample_bytree': 0.7229750563785002}.\n",
      "[I 2025-05-15 16:50:42,903] Trial 49 finished with values: [0.662157318653445, 0.022166221627602106] and parameters: {'max_depth': 6, 'eta': 0.011847887917442693, 'subsample': 0.6362065322713917, 'colsample_bytree': 0.7839763975507915}.\n",
      "[I 2025-05-15 16:50:42,913] A new study created in memory with name: no-name-d744d1e7-ac84-4ab4-ae90-cf39c607932a\n",
      "[I 2025-05-15 16:50:43,029] Trial 0 finished with values: [0.6707226291459504, 0.012983203043084202] and parameters: {'max_depth': 7, 'eta': 0.1599769147176519, 'subsample': 0.9890749487331948, 'colsample_bytree': 0.6970390243416422}.\n"
     ]
    },
    {
     "name": "stdout",
     "output_type": "stream",
     "text": [
      "Completed study for alpha=0.0224609375\n",
      "10\n"
     ]
    },
    {
     "name": "stderr",
     "output_type": "stream",
     "text": [
      "[I 2025-05-15 16:50:43,251] Trial 1 finished with values: [0.6707226291459504, 0.012983203043084202] and parameters: {'max_depth': 6, 'eta': 0.018401502845860413, 'subsample': 0.6648652122068939, 'colsample_bytree': 0.7899829921999726}.\n",
      "[I 2025-05-15 16:50:43,377] Trial 2 finished with values: [0.6707226291459504, 0.012983203043084202] and parameters: {'max_depth': 3, 'eta': 0.08298704495078808, 'subsample': 0.7705186956417818, 'colsample_bytree': 0.866500488113526}.\n",
      "[I 2025-05-15 16:50:43,485] Trial 3 finished with values: [0.6707226291459504, 0.012983203043084202] and parameters: {'max_depth': 3, 'eta': 0.15226506356247377, 'subsample': 0.7364585601204191, 'colsample_bytree': 0.8259996369225516}.\n",
      "[I 2025-05-15 16:50:43,590] Trial 4 finished with values: [0.6707226291459504, 0.012983203043084202] and parameters: {'max_depth': 5, 'eta': 0.1776325640947956, 'subsample': 0.7192554977959414, 'colsample_bytree': 0.6617662564216961}.\n",
      "[I 2025-05-15 16:50:43,699] Trial 5 finished with values: [0.6707226291459504, 0.012983203043084202] and parameters: {'max_depth': 4, 'eta': 0.16610066405746626, 'subsample': 0.9084573128372145, 'colsample_bytree': 0.7716821173533689}.\n",
      "[I 2025-05-15 16:50:43,846] Trial 6 finished with values: [0.6707226291459504, 0.012983203043084202] and parameters: {'max_depth': 7, 'eta': 0.03129926121377818, 'subsample': 0.6532882447402174, 'colsample_bytree': 0.8779542052488944}.\n",
      "[I 2025-05-15 16:50:43,947] Trial 7 finished with values: [0.6357476113015534, 0.031970929327588576] and parameters: {'max_depth': 4, 'eta': 0.24712347003278487, 'subsample': 0.6159895622175933, 'colsample_bytree': 0.7349092579720327}.\n",
      "[I 2025-05-15 16:50:44,052] Trial 8 finished with values: [0.6707226291459504, 0.012983203043084202] and parameters: {'max_depth': 5, 'eta': 0.20951849040254505, 'subsample': 0.7761907994145056, 'colsample_bytree': 0.90053657201408}.\n",
      "[I 2025-05-15 16:50:44,159] Trial 9 finished with values: [0.6707226291459504, 0.012983203043084202] and parameters: {'max_depth': 3, 'eta': 0.2834273373986006, 'subsample': 0.9364107386487419, 'colsample_bytree': 0.9521318773367438}.\n",
      "[I 2025-05-15 16:50:44,259] Trial 10 finished with values: [0.6707226291459504, 0.012983203043084202] and parameters: {'max_depth': 6, 'eta': 0.22398521360284646, 'subsample': 0.6958589805553244, 'colsample_bytree': 0.873853738691214}.\n",
      "[I 2025-05-15 16:50:44,365] Trial 11 finished with values: [0.623611889729286, 0.02635269324219619] and parameters: {'max_depth': 7, 'eta': 0.21753137157387592, 'subsample': 0.6130309082329856, 'colsample_bytree': 0.9599808282201451}.\n",
      "[I 2025-05-15 16:50:44,480] Trial 12 finished with values: [0.6707226291459504, 0.012983203043084202] and parameters: {'max_depth': 6, 'eta': 0.1259619831248311, 'subsample': 0.766478232100478, 'colsample_bytree': 0.7937763795861409}.\n",
      "[I 2025-05-15 16:50:44,588] Trial 13 finished with values: [0.6707226291459504, 0.012983203043084202] and parameters: {'max_depth': 6, 'eta': 0.17436129181937476, 'subsample': 0.830876070627445, 'colsample_bytree': 0.6681843669048663}.\n",
      "[I 2025-05-15 16:50:44,795] Trial 14 finished with values: [0.6707226291459504, 0.012983203043084202] and parameters: {'max_depth': 5, 'eta': 0.014498739508473083, 'subsample': 0.7880013230820482, 'colsample_bytree': 0.9775837682972852}.\n",
      "[I 2025-05-15 16:50:45,021] Trial 15 finished with values: [0.6707226291459504, 0.012983203043084202] and parameters: {'max_depth': 6, 'eta': 0.013102788965414261, 'subsample': 0.9159044656514174, 'colsample_bytree': 0.987558327763679}.\n",
      "[I 2025-05-15 16:50:45,181] Trial 16 finished with values: [0.6707226291459504, 0.012983203043084202] and parameters: {'max_depth': 4, 'eta': 0.023377069222790994, 'subsample': 0.6902188553059265, 'colsample_bytree': 0.9464589578679838}.\n",
      "[I 2025-05-15 16:50:45,291] Trial 17 finished with values: [0.5450705045139431, 0.013509787703336088] and parameters: {'max_depth': 6, 'eta': 0.07593872495342105, 'subsample': 0.6031382631311447, 'colsample_bytree': 0.8292643490330742}.\n",
      "[I 2025-05-15 16:50:45,402] Trial 18 finished with values: [0.6707226291459504, 0.012983203043084202] and parameters: {'max_depth': 5, 'eta': 0.13252797867756191, 'subsample': 0.9325661605898234, 'colsample_bytree': 0.6785779705163413}.\n",
      "[I 2025-05-15 16:50:45,514] Trial 19 finished with values: [0.6707226291459504, 0.012983203043084202] and parameters: {'max_depth': 6, 'eta': 0.17907896480911228, 'subsample': 0.9159971666092853, 'colsample_bytree': 0.7515493434632237}.\n",
      "[I 2025-05-15 16:50:45,616] Trial 20 finished with values: [0.6707226291459504, 0.012983203043084202] and parameters: {'max_depth': 6, 'eta': 0.1729847277355724, 'subsample': 0.9710753058522944, 'colsample_bytree': 0.7510244464102792}.\n",
      "[I 2025-05-15 16:50:45,732] Trial 21 finished with values: [0.6457389418349248, 0.021353680016360243] and parameters: {'max_depth': 6, 'eta': 0.2459852444464195, 'subsample': 0.623303965333225, 'colsample_bytree': 0.7980769681055845}.\n",
      "[I 2025-05-15 16:50:45,894] Trial 22 finished with values: [0.6707226291459504, 0.012983203043084202] and parameters: {'max_depth': 3, 'eta': 0.017166938474023914, 'subsample': 0.9201063188650538, 'colsample_bytree': 0.6692799248707337}.\n",
      "[I 2025-05-15 16:50:46,022] Trial 23 finished with values: [0.6707226291459504, 0.012983203043084202] and parameters: {'max_depth': 3, 'eta': 0.07066638394994428, 'subsample': 0.6887336442666266, 'colsample_bytree': 0.8851175092242947}.\n",
      "[I 2025-05-15 16:50:46,135] Trial 24 finished with values: [0.6707226291459504, 0.012983203043084202] and parameters: {'max_depth': 6, 'eta': 0.21810374982208228, 'subsample': 0.730028990655136, 'colsample_bytree': 0.9517631326444749}.\n",
      "[I 2025-05-15 16:50:46,338] Trial 25 finished with values: [0.6707226291459504, 0.012983203043084202] and parameters: {'max_depth': 3, 'eta': 0.013314833134279792, 'subsample': 0.8355146283396481, 'colsample_bytree': 0.7795721441525781}.\n",
      "[I 2025-05-15 16:50:46,464] Trial 26 finished with values: [0.6707226291459504, 0.012983203043084202] and parameters: {'max_depth': 3, 'eta': 0.059257901735516705, 'subsample': 0.7152417630593885, 'colsample_bytree': 0.9727040713309902}.\n",
      "[I 2025-05-15 16:50:46,573] Trial 27 finished with values: [0.6707226291459504, 0.012983203043084202] and parameters: {'max_depth': 6, 'eta': 0.26163744037904385, 'subsample': 0.7784866470537439, 'colsample_bytree': 0.9404264818913652}.\n",
      "[I 2025-05-15 16:50:46,676] Trial 28 finished with values: [0.6685828332307088, 0.021205203787825182] and parameters: {'max_depth': 3, 'eta': 0.1723245659852735, 'subsample': 0.6529923914485612, 'colsample_bytree': 0.765228482420481}.\n",
      "[I 2025-05-15 16:50:46,793] Trial 29 finished with values: [0.6707226291459504, 0.012983203043084202] and parameters: {'max_depth': 5, 'eta': 0.07426394696288793, 'subsample': 0.8505175698693543, 'colsample_bytree': 0.7327147750371057}.\n",
      "[I 2025-05-15 16:50:46,898] Trial 30 finished with values: [0.6707226291459504, 0.012983203043084202] and parameters: {'max_depth': 4, 'eta': 0.20407644800478864, 'subsample': 0.9253188548992037, 'colsample_bytree': 0.6105655053013238}.\n",
      "[I 2025-05-15 16:50:47,014] Trial 31 finished with values: [0.6707226291459504, 0.012983203043084202] and parameters: {'max_depth': 3, 'eta': 0.08871957368986749, 'subsample': 0.8503836181693037, 'colsample_bytree': 0.7046187176040798}.\n",
      "[I 2025-05-15 16:50:47,132] Trial 32 finished with values: [0.6707226291459504, 0.012983203043084202] and parameters: {'max_depth': 6, 'eta': 0.08412298551468837, 'subsample': 0.6524861986461, 'colsample_bytree': 0.970806433003917}.\n",
      "[I 2025-05-15 16:50:47,263] Trial 33 finished with values: [0.6707226291459504, 0.012983203043084202] and parameters: {'max_depth': 6, 'eta': 0.15568994065866265, 'subsample': 0.6659370785498228, 'colsample_bytree': 0.9934680334246324}.\n",
      "[I 2025-05-15 16:50:47,388] Trial 34 finished with values: [0.6707226291459504, 0.012983203043084202] and parameters: {'max_depth': 5, 'eta': 0.2476557840257772, 'subsample': 0.9380758988653726, 'colsample_bytree': 0.8162812469066859}.\n",
      "[I 2025-05-15 16:50:47,524] Trial 35 finished with values: [0.667153749774073, 0.011713283744407388] and parameters: {'max_depth': 4, 'eta': 0.05829929921048233, 'subsample': 0.6477044897577093, 'colsample_bytree': 0.762263755947007}.\n",
      "[I 2025-05-15 16:50:47,646] Trial 36 finished with values: [0.6307496484730404, 0.026922968729123725] and parameters: {'max_depth': 5, 'eta': 0.22639548065436596, 'subsample': 0.6246562814131549, 'colsample_bytree': 0.6460703821918357}.\n",
      "[I 2025-05-15 16:50:47,779] Trial 37 finished with values: [0.6707226291459504, 0.012983203043084202] and parameters: {'max_depth': 5, 'eta': 0.1676344374858949, 'subsample': 0.8731994771988248, 'colsample_bytree': 0.8365710720400479}.\n",
      "[I 2025-05-15 16:50:47,919] Trial 38 finished with values: [0.6707226291459504, 0.012983203043084202] and parameters: {'max_depth': 3, 'eta': 0.20333256697494545, 'subsample': 0.9548135987690676, 'colsample_bytree': 0.8161613708427408}.\n",
      "[I 2025-05-15 16:50:48,051] Trial 39 finished with values: [0.6714379367282106, 0.012914275554801865] and parameters: {'max_depth': 3, 'eta': 0.17843426469243226, 'subsample': 0.6529984415273962, 'colsample_bytree': 0.7054765366188763}.\n",
      "[I 2025-05-15 16:50:48,184] Trial 40 finished with values: [0.6707226291459504, 0.012983203043084202] and parameters: {'max_depth': 3, 'eta': 0.16846091359170337, 'subsample': 0.96961211215413, 'colsample_bytree': 0.7129127906657398}.\n",
      "[I 2025-05-15 16:50:48,320] Trial 41 finished with values: [0.6707226291459504, 0.012983203043084202] and parameters: {'max_depth': 7, 'eta': 0.2358841663861767, 'subsample': 0.820879728415037, 'colsample_bytree': 0.7900423217980495}.\n",
      "[I 2025-05-15 16:50:48,440] Trial 42 finished with values: [0.6707226291459504, 0.012983203043084202] and parameters: {'max_depth': 5, 'eta': 0.15346609742843284, 'subsample': 0.7824505437051721, 'colsample_bytree': 0.9770278373768962}.\n",
      "[I 2025-05-15 16:50:48,555] Trial 43 finished with values: [0.6721532443104711, 0.010777523418049736] and parameters: {'max_depth': 4, 'eta': 0.27308416611386405, 'subsample': 0.7350929935943553, 'colsample_bytree': 0.6573373560220016}.\n",
      "[I 2025-05-15 16:50:48,672] Trial 44 finished with values: [0.6707226291459504, 0.012983203043084202] and parameters: {'max_depth': 7, 'eta': 0.2033681492801474, 'subsample': 0.7733984789436796, 'colsample_bytree': 0.9765246214165217}.\n",
      "[I 2025-05-15 16:50:48,785] Trial 45 finished with values: [0.6657261980253222, 0.016923952882237265] and parameters: {'max_depth': 6, 'eta': 0.25611851999213775, 'subsample': 0.8625000325717322, 'colsample_bytree': 0.8449974829136567}.\n",
      "[I 2025-05-15 16:50:48,911] Trial 46 finished with values: [0.6707226291459504, 0.012983203043084202] and parameters: {'max_depth': 3, 'eta': 0.0577289568520523, 'subsample': 0.936053579220884, 'colsample_bytree': 0.8708274767530741}.\n",
      "[I 2025-05-15 16:50:49,023] Trial 47 finished with values: [0.6707226291459504, 0.012983203043084202] and parameters: {'max_depth': 7, 'eta': 0.16921679971866502, 'subsample': 0.938832233832028, 'colsample_bytree': 0.9830387192893102}.\n",
      "[I 2025-05-15 16:50:49,137] Trial 48 finished with values: [0.6707226291459504, 0.012983203043084202] and parameters: {'max_depth': 7, 'eta': 0.24736209177688842, 'subsample': 0.8508333241695283, 'colsample_bytree': 0.6425148511605338}.\n",
      "[I 2025-05-15 16:50:49,248] Trial 49 finished with values: [0.6707226291459504, 0.012983203043084202] and parameters: {'max_depth': 4, 'eta': 0.2784330089878895, 'subsample': 0.8589360591760331, 'colsample_bytree': 0.9771188995024335}.\n",
      "[I 2025-05-15 16:50:49,258] A new study created in memory with name: no-name-48a93c49-bfec-4ee4-995d-c680c97d97c8\n",
      "[I 2025-05-15 16:50:49,394] Trial 0 finished with values: [0.5000061268315397, 0.0] and parameters: {'max_depth': 5, 'eta': 0.018658643342671855, 'subsample': 0.6072812903877419, 'colsample_bytree': 0.9270656391411835}.\n"
     ]
    },
    {
     "name": "stdout",
     "output_type": "stream",
     "text": [
      "Completed study for alpha=0.02197265625\n",
      "11\n"
     ]
    },
    {
     "name": "stderr",
     "output_type": "stream",
     "text": [
      "[I 2025-05-15 16:50:49,508] Trial 1 finished with values: [0.6707226291459504, 0.012983203043084202] and parameters: {'max_depth': 4, 'eta': 0.19518990776398304, 'subsample': 0.7437404771170835, 'colsample_bytree': 0.6960348767083508}.\n",
      "[I 2025-05-15 16:50:49,660] Trial 2 finished with values: [0.6707226291459504, 0.012983203043084202] and parameters: {'max_depth': 6, 'eta': 0.03631163000674094, 'subsample': 0.9972049335515271, 'colsample_bytree': 0.7398044799418104}.\n",
      "[I 2025-05-15 16:50:49,775] Trial 3 finished with values: [0.6642986462765713, 0.018702814071365332] and parameters: {'max_depth': 6, 'eta': 0.2454553177490705, 'subsample': 0.6599591947022667, 'colsample_bytree': 0.8961223515098318}.\n",
      "[I 2025-05-15 16:50:49,909] Trial 4 finished with values: [0.6707226291459504, 0.012983203043084202] and parameters: {'max_depth': 6, 'eta': 0.04069797292582412, 'subsample': 0.6996279898120932, 'colsample_bytree': 0.7553099918254317}.\n",
      "[I 2025-05-15 16:50:50,026] Trial 5 finished with values: [0.6721532443104711, 0.010777523418049736] and parameters: {'max_depth': 5, 'eta': 0.2358982850991242, 'subsample': 0.6868051439122722, 'colsample_bytree': 0.9366011933280702}.\n",
      "[I 2025-05-15 16:50:50,142] Trial 6 finished with values: [0.6707226291459504, 0.012983203043084202] and parameters: {'max_depth': 6, 'eta': 0.1321212927084422, 'subsample': 0.9712305582494739, 'colsample_bytree': 0.7507667529232402}.\n",
      "[I 2025-05-15 16:50:50,318] Trial 7 finished with values: [0.6707226291459504, 0.012983203043084202] and parameters: {'max_depth': 4, 'eta': 0.016279503441739056, 'subsample': 0.8294019929416034, 'colsample_bytree': 0.6077773921341482}.\n",
      "[I 2025-05-15 16:50:50,437] Trial 8 finished with values: [0.6707226291459504, 0.012983203043084202] and parameters: {'max_depth': 3, 'eta': 0.08136609250687164, 'subsample': 0.6856088059332399, 'colsample_bytree': 0.7073266843727071}.\n",
      "[I 2025-05-15 16:50:50,548] Trial 9 finished with values: [0.6707226291459504, 0.012983203043084202] and parameters: {'max_depth': 4, 'eta': 0.108491366501778, 'subsample': 0.8120817016036423, 'colsample_bytree': 0.8382778688974374}.\n",
      "[I 2025-05-15 16:50:50,673] Trial 10 finished with values: [0.6129052516136543, 0.006668604473680635] and parameters: {'max_depth': 5, 'eta': 0.06287030062883735, 'subsample': 0.6394388301589954, 'colsample_bytree': 0.7907773397477692}.\n",
      "[I 2025-05-15 16:50:50,809] Trial 11 finished with values: [0.6707226291459504, 0.012983203043084202] and parameters: {'max_depth': 6, 'eta': 0.05565764499846405, 'subsample': 0.7561886526640489, 'colsample_bytree': 0.893950804020107}.\n",
      "[I 2025-05-15 16:50:50,925] Trial 12 finished with values: [0.6707226291459504, 0.012983203043084202] and parameters: {'max_depth': 6, 'eta': 0.15180973677379314, 'subsample': 0.9641221664386638, 'colsample_bytree': 0.6540982641896332}.\n",
      "[I 2025-05-15 16:50:51,046] Trial 13 finished with values: [0.6728685518927314, 0.008640771281297588] and parameters: {'max_depth': 4, 'eta': 0.26202222288778304, 'subsample': 0.8388252160239007, 'colsample_bytree': 0.8369706364418367}.\n",
      "[I 2025-05-15 16:50:51,174] Trial 14 finished with values: [0.6707226291459504, 0.012983203043084202] and parameters: {'max_depth': 6, 'eta': 0.08942235001489532, 'subsample': 0.7171675778532215, 'colsample_bytree': 0.9462307496485312}.\n",
      "[I 2025-05-15 16:50:51,300] Trial 15 finished with values: [0.6707226291459504, 0.012983203043084202] and parameters: {'max_depth': 6, 'eta': 0.14951925529761662, 'subsample': 0.965197093839217, 'colsample_bytree': 0.8281425260861488}.\n",
      "[I 2025-05-15 16:50:51,424] Trial 16 finished with values: [0.6707226291459504, 0.012983203043084202] and parameters: {'max_depth': 4, 'eta': 0.18429738745043828, 'subsample': 0.8907917316660023, 'colsample_bytree': 0.6946044543532355}.\n",
      "[I 2025-05-15 16:50:51,696] Trial 17 finished with values: [0.6707226291459504, 0.012983203043084202] and parameters: {'max_depth': 6, 'eta': 0.010074845520996526, 'subsample': 0.9161922000051987, 'colsample_bytree': 0.698617586062732}.\n",
      "[I 2025-05-15 16:50:51,820] Trial 18 finished with values: [0.6129052516136543, 0.006668604473680635] and parameters: {'max_depth': 6, 'eta': 0.0659402627632405, 'subsample': 0.6395960712932675, 'colsample_bytree': 0.9061295704624168}.\n",
      "[I 2025-05-15 16:50:51,947] Trial 19 finished with values: [0.6707226291459504, 0.02737169225171728] and parameters: {'max_depth': 4, 'eta': 0.2869781613833387, 'subsample': 0.9645020029461345, 'colsample_bytree': 0.7396412783198024}.\n",
      "[I 2025-05-15 16:50:52,066] Trial 20 finished with values: [0.6692950773971994, 0.023306651601310773] and parameters: {'max_depth': 6, 'eta': 0.2757750087809162, 'subsample': 0.9016834792547336, 'colsample_bytree': 0.6249158931925002}.\n",
      "[I 2025-05-15 16:50:52,170] Trial 21 finished with values: [0.5107357405654452, 0.009484422387648196] and parameters: {'max_depth': 7, 'eta': 0.10906047023661224, 'subsample': 0.6042721342041727, 'colsample_bytree': 0.6677899847395019}.\n",
      "[I 2025-05-15 16:50:52,277] Trial 22 finished with values: [0.6707226291459504, 0.012983203043084202] and parameters: {'max_depth': 7, 'eta': 0.2261601183831269, 'subsample': 0.877290685409698, 'colsample_bytree': 0.8895957666434866}.\n",
      "[I 2025-05-15 16:50:52,388] Trial 23 finished with values: [0.6707226291459504, 0.012983203043084202] and parameters: {'max_depth': 4, 'eta': 0.20118857149709105, 'subsample': 0.7354701108803494, 'colsample_bytree': 0.6205945637178952}.\n",
      "[I 2025-05-15 16:50:52,497] Trial 24 finished with values: [0.6707226291459504, 0.012983203043084202] and parameters: {'max_depth': 5, 'eta': 0.18415450725430085, 'subsample': 0.8776574488497584, 'colsample_bytree': 0.7931170840830002}.\n",
      "[I 2025-05-15 16:50:52,612] Trial 25 finished with values: [0.6707226291459504, 0.012983203043084202] and parameters: {'max_depth': 5, 'eta': 0.09919236011277702, 'subsample': 0.6906878745252736, 'colsample_bytree': 0.9258348323239664}.\n",
      "[I 2025-05-15 16:50:52,728] Trial 26 finished with values: [0.6707226291459504, 0.012983203043084202] and parameters: {'max_depth': 6, 'eta': 0.2291173650330664, 'subsample': 0.9856825629354125, 'colsample_bytree': 0.7815795636600099}.\n",
      "[I 2025-05-15 16:50:52,836] Trial 27 finished with values: [0.6728685518927314, 0.008640771281297588] and parameters: {'max_depth': 3, 'eta': 0.2893736955953036, 'subsample': 0.8081208953884984, 'colsample_bytree': 0.7895557657633889}.\n",
      "[I 2025-05-15 16:50:52,982] Trial 28 finished with values: [0.6707226291459504, 0.012983203043084202] and parameters: {'max_depth': 6, 'eta': 0.037887999735268026, 'subsample': 0.958083789193954, 'colsample_bytree': 0.7272582622457383}.\n",
      "[I 2025-05-15 16:50:53,165] Trial 29 finished with values: [0.6707226291459504, 0.012983203043084202] and parameters: {'max_depth': 5, 'eta': 0.022109322973757554, 'subsample': 0.9131719444135548, 'colsample_bytree': 0.9218993358976411}.\n",
      "[I 2025-05-15 16:50:53,312] Trial 30 finished with values: [0.6707226291459504, 0.012983203043084202] and parameters: {'max_depth': 6, 'eta': 0.08055625922080488, 'subsample': 0.934252254460588, 'colsample_bytree': 0.8456793905098807}.\n",
      "[I 2025-05-15 16:50:53,447] Trial 31 finished with values: [0.6064812687442752, 0.007765288102387431] and parameters: {'max_depth': 3, 'eta': 0.13690203182099472, 'subsample': 0.6391489651854657, 'colsample_bytree': 0.7879001666703865}.\n",
      "[I 2025-05-15 16:50:53,614] Trial 32 finished with values: [0.6207583179396691, 0.005152034034577109] and parameters: {'max_depth': 3, 'eta': 0.03821647501119591, 'subsample': 0.6430019898419534, 'colsample_bytree': 0.8975066919023114}.\n",
      "[I 2025-05-15 16:50:53,743] Trial 33 finished with values: [0.6707226291459504, 0.012983203043084202] and parameters: {'max_depth': 7, 'eta': 0.07696260197634401, 'subsample': 0.8812980100055361, 'colsample_bytree': 0.8763067105281968}.\n",
      "[I 2025-05-15 16:50:53,903] Trial 34 finished with values: [0.6707226291459504, 0.012983203043084202] and parameters: {'max_depth': 7, 'eta': 0.037172859660733505, 'subsample': 0.9919319069088278, 'colsample_bytree': 0.6545822800370515}.\n",
      "[I 2025-05-15 16:50:54,054] Trial 35 finished with values: [0.6707226291459504, 0.012983203043084202] and parameters: {'max_depth': 7, 'eta': 0.059688749203004425, 'subsample': 0.8811996426182009, 'colsample_bytree': 0.8880609624318514}.\n",
      "[I 2025-05-15 16:50:54,223] Trial 36 finished with values: [0.6707226291459504, 0.012983203043084202] and parameters: {'max_depth': 6, 'eta': 0.04432094565075094, 'subsample': 0.7534048591474466, 'colsample_bytree': 0.6238888729196164}.\n",
      "[I 2025-05-15 16:50:54,356] Trial 37 finished with values: [0.6707226291459504, 0.012983203043084202] and parameters: {'max_depth': 3, 'eta': 0.14325665977360433, 'subsample': 0.9998453540104568, 'colsample_bytree': 0.9420383430279787}.\n",
      "[I 2025-05-15 16:50:54,477] Trial 38 finished with values: [0.6707226291459504, 0.012983203043084202] and parameters: {'max_depth': 3, 'eta': 0.14857285583072796, 'subsample': 0.9682536275006546, 'colsample_bytree': 0.8522653332266339}.\n",
      "[I 2025-05-15 16:50:54,605] Trial 39 finished with values: [0.6535920081609395, 0.029391823839160846] and parameters: {'max_depth': 4, 'eta': 0.1674242354324246, 'subsample': 0.6572141506710415, 'colsample_bytree': 0.600825941972848}.\n",
      "[I 2025-05-15 16:50:54,752] Trial 40 finished with values: [0.6707226291459504, 0.012983203043084202] and parameters: {'max_depth': 6, 'eta': 0.1106742607699863, 'subsample': 0.6808037608540495, 'colsample_bytree': 0.8714275801226279}.\n",
      "[I 2025-05-15 16:50:54,878] Trial 41 finished with values: [0.6707226291459504, 0.012983203043084202] and parameters: {'max_depth': 5, 'eta': 0.2118449628060599, 'subsample': 0.9244459072031722, 'colsample_bytree': 0.9980279515984918}.\n",
      "[I 2025-05-15 16:50:55,014] Trial 42 finished with values: [0.6707226291459504, 0.012983203043084202] and parameters: {'max_depth': 4, 'eta': 0.12618292672205123, 'subsample': 0.8395588471889396, 'colsample_bytree': 0.6152108618605437}.\n",
      "[I 2025-05-15 16:50:55,163] Trial 43 finished with values: [0.6707226291459504, 0.012983203043084202] and parameters: {'max_depth': 5, 'eta': 0.1005313574800478, 'subsample': 0.7629277695058025, 'colsample_bytree': 0.7611475041778961}.\n",
      "[I 2025-05-15 16:50:55,337] Trial 44 finished with values: [0.6707226291459504, 0.012983203043084202] and parameters: {'max_depth': 7, 'eta': 0.0237731622452226, 'subsample': 0.6702893053432561, 'colsample_bytree': 0.8261223732562661}.\n",
      "[I 2025-05-15 16:50:55,469] Trial 45 finished with values: [0.6707226291459504, 0.012983203043084202] and parameters: {'max_depth': 5, 'eta': 0.09827189897326634, 'subsample': 0.941861357744568, 'colsample_bytree': 0.680755727876648}.\n",
      "[I 2025-05-15 16:50:55,591] Trial 46 finished with values: [0.6707226291459504, 0.012983203043084202] and parameters: {'max_depth': 5, 'eta': 0.12861031859159736, 'subsample': 0.7335227956978854, 'colsample_bytree': 0.8907201664515153}.\n",
      "[I 2025-05-15 16:50:55,712] Trial 47 finished with values: [0.6707226291459504, 0.012983203043084202] and parameters: {'max_depth': 4, 'eta': 0.23680995210990496, 'subsample': 0.941681171091318, 'colsample_bytree': 0.9232935654923189}.\n",
      "[I 2025-05-15 16:50:55,849] Trial 48 finished with values: [0.6707226291459504, 0.012983203043084202] and parameters: {'max_depth': 6, 'eta': 0.1105698571806231, 'subsample': 0.919608101755879, 'colsample_bytree': 0.8650994389025792}.\n",
      "[I 2025-05-15 16:50:55,993] Trial 49 finished with values: [0.6707226291459504, 0.012983203043084202] and parameters: {'max_depth': 5, 'eta': 0.2024667406881708, 'subsample': 0.862463097545628, 'colsample_bytree': 0.6119688195068046}.\n",
      "[I 2025-05-15 16:50:56,005] A new study created in memory with name: no-name-ef0cac12-1bf3-4690-b316-90ce2d8aaa90\n",
      "[I 2025-05-15 16:50:56,138] Trial 0 finished with values: [0.6707226291459504, 0.012983203043084202] and parameters: {'max_depth': 7, 'eta': 0.1931450295198121, 'subsample': 0.7472112459782287, 'colsample_bytree': 0.7292625665637016}.\n"
     ]
    },
    {
     "name": "stdout",
     "output_type": "stream",
     "text": [
      "Completed study for alpha=0.021728515625\n",
      "12\n"
     ]
    },
    {
     "name": "stderr",
     "output_type": "stream",
     "text": [
      "[I 2025-05-15 16:50:56,290] Trial 1 finished with values: [0.6707226291459504, 0.012983203043084202] and parameters: {'max_depth': 4, 'eta': 0.06946343323532364, 'subsample': 0.9080667189118656, 'colsample_bytree': 0.7941486030717653}.\n",
      "[I 2025-05-15 16:50:56,422] Trial 2 finished with values: [0.6678675256484485, 0.021274131276107517] and parameters: {'max_depth': 3, 'eta': 0.21892462982085184, 'subsample': 0.6674863155827376, 'colsample_bytree': 0.7241236705727264}.\n",
      "[I 2025-05-15 16:50:56,539] Trial 3 finished with values: [0.6692950773971994, 0.023306651601310773] and parameters: {'max_depth': 5, 'eta': 0.29447215051792397, 'subsample': 0.8705914126070455, 'colsample_bytree': 0.9376648321258272}.\n",
      "[I 2025-05-15 16:50:56,686] Trial 4 finished with values: [0.6707226291459504, 0.012983203043084202] and parameters: {'max_depth': 7, 'eta': 0.03684900356331734, 'subsample': 0.7722987946581683, 'colsample_bytree': 0.9580642157169568}.\n",
      "[I 2025-05-15 16:50:56,812] Trial 5 finished with values: [0.6685828332307088, 0.021205203787825182] and parameters: {'max_depth': 7, 'eta': 0.29468526407116097, 'subsample': 0.6707833188503635, 'colsample_bytree': 0.7885875886641798}.\n",
      "[I 2025-05-15 16:50:56,968] Trial 6 finished with values: [0.6707226291459504, 0.012983203043084202] and parameters: {'max_depth': 5, 'eta': 0.0657689840553848, 'subsample': 0.935115272392711, 'colsample_bytree': 0.8610371206550266}.\n",
      "[I 2025-05-15 16:50:57,096] Trial 7 finished with values: [0.6707226291459504, 0.012983203043084202] and parameters: {'max_depth': 6, 'eta': 0.21803363639412923, 'subsample': 0.8895692347348095, 'colsample_bytree': 0.7823785139496259}.\n",
      "[I 2025-05-15 16:50:57,224] Trial 8 finished with values: [0.6707226291459504, 0.012983203043084202] and parameters: {'max_depth': 5, 'eta': 0.11607260059333752, 'subsample': 0.7432996306228474, 'colsample_bytree': 0.6054081943275333}.\n",
      "[I 2025-05-15 16:50:57,394] Trial 9 finished with values: [0.6707226291459504, 0.012983203043084202] and parameters: {'max_depth': 4, 'eta': 0.11814572977904923, 'subsample': 0.8157865022526883, 'colsample_bytree': 0.7646459684985454}.\n",
      "[I 2025-05-15 16:50:57,547] Trial 10 finished with values: [0.6707226291459504, 0.012983203043084202] and parameters: {'max_depth': 7, 'eta': 0.15847334115646738, 'subsample': 0.8633304434499203, 'colsample_bytree': 0.6856818514329568}.\n",
      "[I 2025-05-15 16:50:57,828] Trial 11 finished with values: [0.6707226291459504, 0.012983203043084202] and parameters: {'max_depth': 7, 'eta': 0.012254029903983396, 'subsample': 0.9759944416216136, 'colsample_bytree': 0.7831177540995535}.\n",
      "[I 2025-05-15 16:50:57,965] Trial 12 finished with values: [0.6707226291459504, 0.012983203043084202] and parameters: {'max_depth': 4, 'eta': 0.09359679211876848, 'subsample': 0.899811438359772, 'colsample_bytree': 0.916218852420104}.\n",
      "[I 2025-05-15 16:50:58,087] Trial 13 finished with values: [0.6707226291459504, 0.012983203043084202] and parameters: {'max_depth': 7, 'eta': 0.22130556478595576, 'subsample': 0.7421421299266057, 'colsample_bytree': 0.795016073015296}.\n",
      "[I 2025-05-15 16:50:58,209] Trial 14 finished with values: [0.6707226291459504, 0.012983203043084202] and parameters: {'max_depth': 4, 'eta': 0.18156419013944325, 'subsample': 0.7818247134462983, 'colsample_bytree': 0.9063756491067292}.\n",
      "[I 2025-05-15 16:50:58,341] Trial 15 finished with values: [0.6728685518927314, 0.008640771281297588] and parameters: {'max_depth': 6, 'eta': 0.2742004276641877, 'subsample': 0.7810029508250493, 'colsample_bytree': 0.690882450050613}.\n",
      "[I 2025-05-15 16:50:58,452] Trial 16 finished with values: [0.6064797370363904, 0.029915487937491953] and parameters: {'max_depth': 4, 'eta': 0.2330756953078472, 'subsample': 0.6178375666196462, 'colsample_bytree': 0.9925016384049878}.\n",
      "[I 2025-05-15 16:50:58,570] Trial 17 finished with values: [0.6707226291459504, 0.012983203043084202] and parameters: {'max_depth': 3, 'eta': 0.191774805280811, 'subsample': 0.7397169009879223, 'colsample_bytree': 0.8243321350769903}.\n",
      "[I 2025-05-15 16:50:58,742] Trial 18 finished with values: [0.6707226291459504, 0.012983203043084202] and parameters: {'max_depth': 5, 'eta': 0.028410127060180458, 'subsample': 0.6542227636811732, 'colsample_bytree': 0.8164691830677504}.\n",
      "[I 2025-05-15 16:50:58,852] Trial 19 finished with values: [0.6707226291459504, 0.012983203043084202] and parameters: {'max_depth': 5, 'eta': 0.20106619675597073, 'subsample': 0.7485827635410047, 'colsample_bytree': 0.7125818832637412}.\n",
      "[I 2025-05-15 16:50:58,969] Trial 20 finished with values: [0.6728685518927314, 0.008640771281297588] and parameters: {'max_depth': 5, 'eta': 0.2835599959548166, 'subsample': 0.8077325852296161, 'colsample_bytree': 0.6813987732016373}.\n",
      "[I 2025-05-15 16:50:59,089] Trial 21 finished with values: [0.6707226291459504, 0.012983203043084202] and parameters: {'max_depth': 6, 'eta': 0.2419336080130794, 'subsample': 0.7011028138779314, 'colsample_bytree': 0.7731140999291076}.\n",
      "[I 2025-05-15 16:50:59,216] Trial 22 finished with values: [0.6707226291459504, 0.012983203043084202] and parameters: {'max_depth': 4, 'eta': 0.10105581717492713, 'subsample': 0.7625160377385751, 'colsample_bytree': 0.8458885187332543}.\n",
      "[I 2025-05-15 16:50:59,332] Trial 23 finished with values: [0.6707226291459504, 0.012983203043084202] and parameters: {'max_depth': 5, 'eta': 0.1953426737847335, 'subsample': 0.8571835835108195, 'colsample_bytree': 0.9024145112364116}.\n",
      "[I 2025-05-15 16:50:59,453] Trial 24 finished with values: [0.6707226291459504, 0.012983203043084202] and parameters: {'max_depth': 3, 'eta': 0.23371869556866096, 'subsample': 0.9819016258750414, 'colsample_bytree': 0.9251179034494355}.\n",
      "[I 2025-05-15 16:50:59,566] Trial 25 finished with values: [0.6707226291459504, 0.012983203043084202] and parameters: {'max_depth': 5, 'eta': 0.21245967332485072, 'subsample': 0.7333161078371551, 'colsample_bytree': 0.7440002657460637}.\n",
      "[I 2025-05-15 16:50:59,708] Trial 26 finished with values: [0.5436398893494224, 0.0007168458781361964] and parameters: {'max_depth': 6, 'eta': 0.11693864089772092, 'subsample': 0.6190402863801178, 'colsample_bytree': 0.6691909039872869}.\n",
      "[I 2025-05-15 16:50:59,959] Trial 27 finished with values: [0.5479317348429845, 0.012420733388475325] and parameters: {'max_depth': 7, 'eta': 0.16419088086411457, 'subsample': 0.6165142594878849, 'colsample_bytree': 0.6494926119394906}.\n",
      "[I 2025-05-15 16:51:00,122] Trial 28 finished with values: [0.6707226291459504, 0.012983203043084202] and parameters: {'max_depth': 5, 'eta': 0.16334500654428127, 'subsample': 0.7169491229583534, 'colsample_bytree': 0.8493596269030393}.\n",
      "[I 2025-05-15 16:51:00,284] Trial 29 finished with values: [0.6707226291459504, 0.012983203043084202] and parameters: {'max_depth': 6, 'eta': 0.13562864909392702, 'subsample': 0.7405240993354831, 'colsample_bytree': 0.6704429629116689}.\n",
      "[I 2025-05-15 16:51:00,436] Trial 30 finished with values: [0.6707226291459504, 0.012983203043084202] and parameters: {'max_depth': 4, 'eta': 0.20958193956110371, 'subsample': 0.7406354723772144, 'colsample_bytree': 0.961834035682066}.\n",
      "[I 2025-05-15 16:51:00,581] Trial 31 finished with values: [0.6707226291459504, 0.012983203043084202] and parameters: {'max_depth': 7, 'eta': 0.24794599303344664, 'subsample': 0.7826216396469327, 'colsample_bytree': 0.871852303788363}.\n",
      "[I 2025-05-15 16:51:00,719] Trial 32 finished with values: [0.6707226291459504, 0.012983203043084202] and parameters: {'max_depth': 7, 'eta': 0.21555621772008798, 'subsample': 0.6838496292358662, 'colsample_bytree': 0.8497223821040648}.\n",
      "[I 2025-05-15 16:51:00,878] Trial 33 finished with values: [0.6707226291459504, 0.012983203043084202] and parameters: {'max_depth': 5, 'eta': 0.04905999653079111, 'subsample': 0.7262330495826381, 'colsample_bytree': 0.6774682970115988}.\n",
      "[I 2025-05-15 16:51:01,020] Trial 34 finished with values: [0.6707226291459504, 0.012983203043084202] and parameters: {'max_depth': 4, 'eta': 0.17888915074058093, 'subsample': 0.9002263995672696, 'colsample_bytree': 0.7860429675605554}.\n",
      "[I 2025-05-15 16:51:01,157] Trial 35 finished with values: [0.6707226291459504, 0.012983203043084202] and parameters: {'max_depth': 7, 'eta': 0.2415426404414872, 'subsample': 0.7749665160153836, 'colsample_bytree': 0.8077118678261246}.\n",
      "[I 2025-05-15 16:51:01,415] Trial 36 finished with values: [0.6707226291459504, 0.012983203043084202] and parameters: {'max_depth': 7, 'eta': 0.013350689871652301, 'subsample': 0.9984744839205678, 'colsample_bytree': 0.686580429171826}.\n",
      "[I 2025-05-15 16:51:01,558] Trial 37 finished with values: [0.6707226291459504, 0.012983203043084202] and parameters: {'max_depth': 4, 'eta': 0.288378659753297, 'subsample': 0.9308828394270164, 'colsample_bytree': 0.7960587062489233}.\n",
      "[I 2025-05-15 16:51:01,706] Trial 38 finished with values: [0.6707226291459504, 0.012983203043084202] and parameters: {'max_depth': 5, 'eta': 0.15262856049453274, 'subsample': 0.6858901389617917, 'colsample_bytree': 0.7955863710869915}.\n",
      "[I 2025-05-15 16:51:01,834] Trial 39 finished with values: [0.6707226291459504, 0.012983203043084202] and parameters: {'max_depth': 4, 'eta': 0.11095702653998678, 'subsample': 0.7265810521757201, 'colsample_bytree': 0.7678985058503882}.\n",
      "[I 2025-05-15 16:51:01,972] Trial 40 finished with values: [0.6707226291459504, 0.012983203043084202] and parameters: {'max_depth': 4, 'eta': 0.16748227454151288, 'subsample': 0.8585680318216018, 'colsample_bytree': 0.7995112118614718}.\n",
      "[I 2025-05-15 16:51:02,104] Trial 41 finished with values: [0.6707226291459504, 0.012983203043084202] and parameters: {'max_depth': 6, 'eta': 0.18994394069124237, 'subsample': 0.7786318611300549, 'colsample_bytree': 0.7273247061691295}.\n",
      "[I 2025-05-15 16:51:02,235] Trial 42 finished with values: [0.6728685518927314, 0.023029260489930665] and parameters: {'max_depth': 7, 'eta': 0.28445262120966386, 'subsample': 0.9661316256691102, 'colsample_bytree': 0.6253625713463132}.\n",
      "[I 2025-05-15 16:51:02,355] Trial 43 finished with values: [0.6707226291459504, 0.012983203043084202] and parameters: {'max_depth': 3, 'eta': 0.24248358895653044, 'subsample': 0.9136347219776317, 'colsample_bytree': 0.8789721048176304}.\n",
      "[I 2025-05-15 16:51:02,475] Trial 44 finished with values: [0.6707226291459504, 0.012983203043084202] and parameters: {'max_depth': 7, 'eta': 0.2491161953068471, 'subsample': 0.8750248509131087, 'colsample_bytree': 0.7773026442301356}.\n",
      "[I 2025-05-15 16:51:02,598] Trial 45 finished with values: [0.6707226291459504, 0.012983203043084202] and parameters: {'max_depth': 3, 'eta': 0.17611960369004143, 'subsample': 0.6726006760173847, 'colsample_bytree': 0.8727037032410471}.\n",
      "[I 2025-05-15 16:51:02,719] Trial 46 finished with values: [0.6707226291459504, 0.012983203043084202] and parameters: {'max_depth': 6, 'eta': 0.2637707462375589, 'subsample': 0.8870154091131386, 'colsample_bytree': 0.7712009064116094}.\n",
      "[I 2025-05-15 16:51:02,837] Trial 47 finished with values: [0.6707226291459504, 0.012983203043084202] and parameters: {'max_depth': 5, 'eta': 0.23836885518723153, 'subsample': 0.9214147515423505, 'colsample_bytree': 0.7490241353653045}.\n",
      "[I 2025-05-15 16:51:02,956] Trial 48 finished with values: [0.6707226291459504, 0.012983203043084202] and parameters: {'max_depth': 3, 'eta': 0.1995115867102539, 'subsample': 0.9432482567601247, 'colsample_bytree': 0.9602204370248482}.\n",
      "[I 2025-05-15 16:51:03,092] Trial 49 finished with values: [0.6707226291459504, 0.012983203043084202] and parameters: {'max_depth': 3, 'eta': 0.06674433094132412, 'subsample': 0.6660496320153922, 'colsample_bytree': 0.6059286579376298}.\n",
      "[I 2025-05-15 16:51:03,103] A new study created in memory with name: no-name-5fce230c-5e29-4a05-8a8a-c696e548280c\n",
      "[I 2025-05-15 16:51:03,232] Trial 0 finished with values: [0.6707226291459504, 0.012983203043084202] and parameters: {'max_depth': 6, 'eta': 0.11686497387027744, 'subsample': 0.7511587088279646, 'colsample_bytree': 0.7821046439638977}.\n"
     ]
    },
    {
     "name": "stdout",
     "output_type": "stream",
     "text": [
      "Completed study for alpha=0.0218505859375\n",
      "13\n"
     ]
    },
    {
     "name": "stderr",
     "output_type": "stream",
     "text": [
      "[I 2025-05-15 16:51:03,370] Trial 1 finished with values: [0.6707226291459504, 0.012983203043084202] and parameters: {'max_depth': 5, 'eta': 0.07883169786742614, 'subsample': 0.9602628793838951, 'colsample_bytree': 0.8317087095766069}.\n",
      "[I 2025-05-15 16:51:03,516] Trial 2 finished with values: [0.6707226291459504, 0.012983203043084202] and parameters: {'max_depth': 5, 'eta': 0.10296530218700453, 'subsample': 0.9872427872041695, 'colsample_bytree': 0.8957511760910863}.\n",
      "[I 2025-05-15 16:51:03,736] Trial 3 finished with values: [0.6707226291459504, 0.012983203043084202] and parameters: {'max_depth': 3, 'eta': 0.013894280223538336, 'subsample': 0.946346998659787, 'colsample_bytree': 0.852733992274231}.\n",
      "[I 2025-05-15 16:51:03,867] Trial 4 finished with values: [0.6707226291459504, 0.012983203043084202] and parameters: {'max_depth': 6, 'eta': 0.09344843157558404, 'subsample': 0.9139447672545261, 'colsample_bytree': 0.6791205397796778}.\n",
      "[I 2025-05-15 16:51:04,000] Trial 5 finished with values: [0.6707226291459504, 0.012983203043084202] and parameters: {'max_depth': 3, 'eta': 0.11350970103494643, 'subsample': 0.9795297134211626, 'colsample_bytree': 0.629565473660168}.\n",
      "[I 2025-05-15 16:51:04,127] Trial 6 finished with values: [0.6707226291459504, 0.012983203043084202] and parameters: {'max_depth': 4, 'eta': 0.24068499262308754, 'subsample': 0.8120670861622437, 'colsample_bytree': 0.7167163057080829}.\n",
      "[I 2025-05-15 16:51:04,247] Trial 7 finished with values: [0.6407425107142967, 0.026762121796913396] and parameters: {'max_depth': 5, 'eta': 0.14258922833402418, 'subsample': 0.6336646021757816, 'colsample_bytree': 0.7512296958118908}.\n",
      "[I 2025-05-15 16:51:04,359] Trial 8 finished with values: [0.6707226291459504, 0.012983203043084202] and parameters: {'max_depth': 3, 'eta': 0.20618209086173772, 'subsample': 0.7973017812541312, 'colsample_bytree': 0.7909124886567104}.\n",
      "[I 2025-05-15 16:51:04,495] Trial 9 finished with values: [0.6707226291459504, 0.02737169225171728] and parameters: {'max_depth': 5, 'eta': 0.2729223600121769, 'subsample': 0.9753407201165419, 'colsample_bytree': 0.6818156299915699}.\n",
      "[I 2025-05-15 16:51:04,664] Trial 10 finished with values: [0.5000061268315397, 0.0] and parameters: {'max_depth': 4, 'eta': 0.03531393804188504, 'subsample': 0.6104072006248322, 'colsample_bytree': 0.9189365249754959}.\n",
      "[I 2025-05-15 16:51:04,797] Trial 11 finished with values: [0.6707226291459504, 0.012983203043084202] and parameters: {'max_depth': 5, 'eta': 0.13921274924162375, 'subsample': 0.999835962495212, 'colsample_bytree': 0.6668270912861082}.\n",
      "[I 2025-05-15 16:51:04,906] Trial 12 finished with values: [0.6707226291459504, 0.012983203043084202] and parameters: {'max_depth': 6, 'eta': 0.2390384677322594, 'subsample': 0.7394482500378903, 'colsample_bytree': 0.6845729103348828}.\n",
      "[I 2025-05-15 16:51:05,024] Trial 13 finished with values: [0.6707226291459504, 0.012983203043084202] and parameters: {'max_depth': 4, 'eta': 0.20240783497673867, 'subsample': 0.8099742254842519, 'colsample_bytree': 0.8499350622833362}.\n",
      "[I 2025-05-15 16:51:05,150] Trial 14 finished with values: [0.6707226291459504, 0.012983203043084202] and parameters: {'max_depth': 4, 'eta': 0.27683570544807007, 'subsample': 0.9421384891935672, 'colsample_bytree': 0.6753792949163664}.\n",
      "[I 2025-05-15 16:51:05,286] Trial 15 finished with values: [0.6707226291459504, 0.012983203043084202] and parameters: {'max_depth': 4, 'eta': 0.23801997066703898, 'subsample': 0.8173880489555934, 'colsample_bytree': 0.633248314932396}.\n",
      "[I 2025-05-15 16:51:05,424] Trial 16 finished with values: [0.6721532443104711, 0.010777523418049736] and parameters: {'max_depth': 6, 'eta': 0.24883805713609555, 'subsample': 0.6887003450563097, 'colsample_bytree': 0.9237200941922308}.\n",
      "[I 2025-05-15 16:51:05,548] Trial 17 finished with values: [0.6707226291459504, 0.012983203043084202] and parameters: {'max_depth': 4, 'eta': 0.2591676799959758, 'subsample': 0.928509568934684, 'colsample_bytree': 0.7342799632305207}.\n",
      "[I 2025-05-15 16:51:05,718] Trial 18 finished with values: [0.6707226291459504, 0.012983203043084202] and parameters: {'max_depth': 5, 'eta': 0.019543458349159503, 'subsample': 0.7614416428679336, 'colsample_bytree': 0.6834014630773395}.\n",
      "[I 2025-05-15 16:51:05,883] Trial 19 finished with values: [0.6707226291459504, 0.012983203043084202] and parameters: {'max_depth': 5, 'eta': 0.048946193521686165, 'subsample': 0.8301043540484944, 'colsample_bytree': 0.6960080198519181}.\n",
      "[I 2025-05-15 16:51:06,051] Trial 20 finished with values: [0.6707226291459504, 0.012983203043084202] and parameters: {'max_depth': 5, 'eta': 0.02309425841204543, 'subsample': 0.9212610700934661, 'colsample_bytree': 0.8685309668349397}.\n",
      "[I 2025-05-15 16:51:06,159] Trial 21 finished with values: [0.5914904436745059, 0.01037320237618535] and parameters: {'max_depth': 4, 'eta': 0.1919034636668826, 'subsample': 0.6200229824221994, 'colsample_bytree': 0.9977052905673469}.\n",
      "[I 2025-05-15 16:51:06,271] Trial 22 finished with values: [0.6707226291459504, 0.012983203043084202] and parameters: {'max_depth': 6, 'eta': 0.19117492201607486, 'subsample': 0.9895047910122028, 'colsample_bytree': 0.7654217488316923}.\n",
      "[I 2025-05-15 16:51:06,381] Trial 23 finished with values: [0.6707226291459504, 0.012983203043084202] and parameters: {'max_depth': 3, 'eta': 0.17068193709013532, 'subsample': 0.6760602551293429, 'colsample_bytree': 0.6531718908630967}.\n",
      "[I 2025-05-15 16:51:06,517] Trial 24 finished with values: [0.6707226291459504, 0.012983203043084202] and parameters: {'max_depth': 5, 'eta': 0.051625353679289394, 'subsample': 0.9060597837402734, 'colsample_bytree': 0.6614370153042399}.\n",
      "[I 2025-05-15 16:51:06,621] Trial 25 finished with values: [0.6707226291459504, 0.012983203043084202] and parameters: {'max_depth': 7, 'eta': 0.2521573914738072, 'subsample': 0.704472821138992, 'colsample_bytree': 0.6262761433577956}.\n",
      "[I 2025-05-15 16:51:06,738] Trial 26 finished with values: [0.6707226291459504, 0.012983203043084202] and parameters: {'max_depth': 3, 'eta': 0.17750240792521638, 'subsample': 0.7243756604091708, 'colsample_bytree': 0.9487908900818356}.\n",
      "[I 2025-05-15 16:51:06,879] Trial 27 finished with values: [0.6707226291459504, 0.012983203043084202] and parameters: {'max_depth': 6, 'eta': 0.0740669453900467, 'subsample': 0.9534833608619421, 'colsample_bytree': 0.7162007479267956}.\n",
      "[I 2025-05-15 16:51:07,007] Trial 28 finished with values: [0.6707226291459504, 0.012983203043084202] and parameters: {'max_depth': 4, 'eta': 0.10333214277532088, 'subsample': 0.8467246545984163, 'colsample_bytree': 0.7874176729058657}.\n",
      "[I 2025-05-15 16:51:07,135] Trial 29 finished with values: [0.6642986462765713, 0.015622554976171868] and parameters: {'max_depth': 7, 'eta': 0.2933427339547973, 'subsample': 0.9417778529032125, 'colsample_bytree': 0.8847401005909259}.\n",
      "[I 2025-05-15 16:51:07,249] Trial 30 finished with values: [0.6707226291459504, 0.012983203043084202] and parameters: {'max_depth': 3, 'eta': 0.13692246978847936, 'subsample': 0.9948220269697299, 'colsample_bytree': 0.8304840299729151}.\n",
      "[I 2025-05-15 16:51:07,371] Trial 31 finished with values: [0.6707226291459504, 0.012983203043084202] and parameters: {'max_depth': 5, 'eta': 0.28378598942429606, 'subsample': 0.9218926711950876, 'colsample_bytree': 0.870735654326541}.\n",
      "[I 2025-05-15 16:51:07,480] Trial 32 finished with values: [0.6707226291459504, 0.012983203043084202] and parameters: {'max_depth': 3, 'eta': 0.21850245421173067, 'subsample': 0.990407682787153, 'colsample_bytree': 0.6959883455021866}.\n",
      "[I 2025-05-15 16:51:07,646] Trial 33 finished with values: [0.6707226291459504, 0.012983203043084202] and parameters: {'max_depth': 6, 'eta': 0.02168802866948702, 'subsample': 0.9106356568052516, 'colsample_bytree': 0.8988805951537984}.\n",
      "[I 2025-05-15 16:51:07,803] Trial 34 finished with values: [0.6707226291459504, 0.012983203043084202] and parameters: {'max_depth': 5, 'eta': 0.030382905896584364, 'subsample': 0.6929565913234808, 'colsample_bytree': 0.9265063132650021}.\n",
      "[I 2025-05-15 16:51:07,936] Trial 35 finished with values: [0.6707226291459504, 0.012983203043084202] and parameters: {'max_depth': 7, 'eta': 0.06677700752854146, 'subsample': 0.6792427678215889, 'colsample_bytree': 0.6418129694839705}.\n",
      "[I 2025-05-15 16:51:08,060] Trial 36 finished with values: [0.6707226291459504, 0.012983203043084202] and parameters: {'max_depth': 3, 'eta': 0.0765373180005477, 'subsample': 0.8663917460220087, 'colsample_bytree': 0.7778552560825095}.\n",
      "[I 2025-05-15 16:51:08,163] Trial 37 finished with values: [0.6707226291459504, 0.012983203043084202] and parameters: {'max_depth': 6, 'eta': 0.11324441996108571, 'subsample': 0.8965146816664754, 'colsample_bytree': 0.7618102979292222}.\n",
      "[I 2025-05-15 16:51:08,283] Trial 38 finished with values: [0.6707226291459504, 0.012983203043084202] and parameters: {'max_depth': 6, 'eta': 0.10683126041577211, 'subsample': 0.6597629559339776, 'colsample_bytree': 0.6995369087473711}.\n",
      "[I 2025-05-15 16:51:08,392] Trial 39 finished with values: [0.6728685518927314, 0.008640771281297588] and parameters: {'max_depth': 6, 'eta': 0.2783459756381307, 'subsample': 0.8003101295239136, 'colsample_bytree': 0.7904665633019841}.\n",
      "[I 2025-05-15 16:51:08,503] Trial 40 finished with values: [0.6707226291459504, 0.012983203043084202] and parameters: {'max_depth': 5, 'eta': 0.1953580608046107, 'subsample': 0.8536948182266547, 'colsample_bytree': 0.8349454581245479}.\n",
      "[I 2025-05-15 16:51:08,626] Trial 41 finished with values: [0.6707226291459504, 0.012983203043084202] and parameters: {'max_depth': 4, 'eta': 0.08611801136976763, 'subsample': 0.895598763173288, 'colsample_bytree': 0.6129898888490367}.\n",
      "[I 2025-05-15 16:51:08,736] Trial 42 finished with values: [0.6700134483952297, 0.016931699514320903] and parameters: {'max_depth': 5, 'eta': 0.2880568558852488, 'subsample': 0.7035321687602331, 'colsample_bytree': 0.9635274647123943}.\n",
      "[I 2025-05-15 16:51:08,867] Trial 43 finished with values: [0.6707226291459504, 0.012983203043084202] and parameters: {'max_depth': 3, 'eta': 0.05182615794200491, 'subsample': 0.9425092454316946, 'colsample_bytree': 0.6481670438979357}.\n",
      "[I 2025-05-15 16:51:08,994] Trial 44 finished with values: [0.6707226291459504, 0.012983203043084202] and parameters: {'max_depth': 3, 'eta': 0.058713554288185615, 'subsample': 0.8315987507132616, 'colsample_bytree': 0.698444791746812}.\n",
      "[I 2025-05-15 16:51:09,106] Trial 45 finished with values: [0.6707226291459504, 0.012983203043084202] and parameters: {'max_depth': 4, 'eta': 0.13800205638776786, 'subsample': 0.6910815322031035, 'colsample_bytree': 0.9459999408739532}.\n",
      "[I 2025-05-15 16:51:09,220] Trial 46 finished with values: [0.6707226291459504, 0.012983203043084202] and parameters: {'max_depth': 7, 'eta': 0.2803910067728361, 'subsample': 0.9363339706837602, 'colsample_bytree': 0.9379483364927774}.\n",
      "[I 2025-05-15 16:51:09,344] Trial 47 finished with values: [0.6707226291459504, 0.012983203043084202] and parameters: {'max_depth': 3, 'eta': 0.05909447612552749, 'subsample': 0.8451030268930693, 'colsample_bytree': 0.9501917927067324}.\n",
      "[I 2025-05-15 16:51:09,451] Trial 48 finished with values: [0.6707226291459504, 0.012983203043084202] and parameters: {'max_depth': 4, 'eta': 0.21742472899449036, 'subsample': 0.7032460252373431, 'colsample_bytree': 0.6364811120334624}.\n",
      "[I 2025-05-15 16:51:09,601] Trial 49 finished with values: [0.6707226291459504, 0.012983203043084202] and parameters: {'max_depth': 6, 'eta': 0.027493961302801163, 'subsample': 0.9336399688323501, 'colsample_bytree': 0.6395766656067495}.\n",
      "[I 2025-05-15 16:51:09,611] A new study created in memory with name: no-name-e2e9dcd3-ff2f-48f7-a5fd-7f90a3ce7824\n",
      "[I 2025-05-15 16:51:09,717] Trial 0 finished with values: [0.6692966091050844, 0.022221463950426807] and parameters: {'max_depth': 4, 'eta': 0.2879629324139443, 'subsample': 0.6721416744361453, 'colsample_bytree': 0.7160456455240017}.\n"
     ]
    },
    {
     "name": "stdout",
     "output_type": "stream",
     "text": [
      "Completed study for alpha=0.02191162109375\n",
      "14\n"
     ]
    },
    {
     "name": "stderr",
     "output_type": "stream",
     "text": [
      "[I 2025-05-15 16:51:09,825] Trial 1 finished with values: [0.6607297669046941, 0.025165936256544008] and parameters: {'max_depth': 7, 'eta': 0.22226611263449034, 'subsample': 0.6496488287654764, 'colsample_bytree': 0.7104653791150222}.\n",
      "[I 2025-05-15 16:51:09,945] Trial 2 finished with values: [0.6707226291459504, 0.012983203043084202] and parameters: {'max_depth': 4, 'eta': 0.24345358469143388, 'subsample': 0.8501085503720704, 'colsample_bytree': 0.9029338456552352}.\n",
      "[I 2025-05-15 16:51:10,057] Trial 3 finished with values: [0.6707226291459504, 0.012983203043084202] and parameters: {'max_depth': 5, 'eta': 0.24243125523963815, 'subsample': 0.9224459102043001, 'colsample_bytree': 0.9071327229454954}.\n",
      "[I 2025-05-15 16:51:10,157] Trial 4 finished with values: [0.6628726262357053, 0.02091844781715622] and parameters: {'max_depth': 6, 'eta': 0.21240660270191042, 'subsample': 0.6656779939057273, 'colsample_bytree': 0.871414929271785}.\n",
      "[I 2025-05-15 16:51:10,262] Trial 5 finished with values: [0.6707226291459504, 0.012983203043084202] and parameters: {'max_depth': 3, 'eta': 0.28740579599845256, 'subsample': 0.9341880434217117, 'colsample_bytree': 0.7863589962857102}.\n",
      "[I 2025-05-15 16:51:10,374] Trial 6 finished with values: [0.6414562865886722, 0.019163085878638103] and parameters: {'max_depth': 3, 'eta': 0.25762323304756474, 'subsample': 0.6400287307356426, 'colsample_bytree': 0.9042563149627687}.\n",
      "[I 2025-05-15 16:51:10,485] Trial 7 finished with values: [0.6707226291459504, 0.012983203043084202] and parameters: {'max_depth': 3, 'eta': 0.12543042136063476, 'subsample': 0.6527465290725954, 'colsample_bytree': 0.6798773486049132}.\n",
      "[I 2025-05-15 16:51:10,604] Trial 8 finished with values: [0.5243265846283923, 0.00022056796250344754] and parameters: {'max_depth': 5, 'eta': 0.04051865907598241, 'subsample': 0.6105973534191297, 'colsample_bytree': 0.9425536405941367}.\n",
      "[I 2025-05-15 16:51:10,704] Trial 9 finished with values: [0.6293220967242895, 0.028304790101294275] and parameters: {'max_depth': 5, 'eta': 0.20128974819999756, 'subsample': 0.623989572627358, 'colsample_bytree': 0.7643022000148575}.\n",
      "[I 2025-05-15 16:51:10,808] Trial 10 finished with values: [0.6707226291459504, 0.012983203043084202] and parameters: {'max_depth': 3, 'eta': 0.26630806147698827, 'subsample': 0.9348238317221454, 'colsample_bytree': 0.7688420972906238}.\n",
      "[I 2025-05-15 16:51:10,931] Trial 11 finished with values: [0.6707226291459504, 0.012983203043084202] and parameters: {'max_depth': 7, 'eta': 0.05451906181089971, 'subsample': 0.9193090220145972, 'colsample_bytree': 0.9993340614496102}.\n",
      "[I 2025-05-15 16:51:11,036] Trial 12 finished with values: [0.6707226291459504, 0.012983203043084202] and parameters: {'max_depth': 5, 'eta': 0.1769219930489707, 'subsample': 0.7739225047463592, 'colsample_bytree': 0.9911671938644399}.\n",
      "[I 2025-05-15 16:51:11,150] Trial 13 finished with values: [0.6707226291459504, 0.012983203043084202] and parameters: {'max_depth': 3, 'eta': 0.08793898451652761, 'subsample': 0.982149194515014, 'colsample_bytree': 0.8913315738692955}.\n",
      "[I 2025-05-15 16:51:11,290] Trial 14 finished with values: [0.6050506535797545, 0.02387827195122193] and parameters: {'max_depth': 4, 'eta': 0.03857428679747379, 'subsample': 0.639414761666648, 'colsample_bytree': 0.727599263505354}.\n",
      "[I 2025-05-15 16:51:11,412] Trial 15 finished with values: [0.6707226291459504, 0.012983203043084202] and parameters: {'max_depth': 5, 'eta': 0.08327614647663475, 'subsample': 0.736481751322879, 'colsample_bytree': 0.7400303617103643}.\n",
      "[I 2025-05-15 16:51:11,514] Trial 16 finished with values: [0.6707226291459504, 0.012983203043084202] and parameters: {'max_depth': 5, 'eta': 0.15112156897371667, 'subsample': 0.8202608189826622, 'colsample_bytree': 0.7435615345863243}.\n",
      "[I 2025-05-15 16:51:11,620] Trial 17 finished with values: [0.6707226291459504, 0.012983203043084202] and parameters: {'max_depth': 4, 'eta': 0.13493698343816327, 'subsample': 0.7328890432078436, 'colsample_bytree': 0.6260398021925276}.\n",
      "[I 2025-05-15 16:51:11,739] Trial 18 finished with values: [0.6707226291459504, 0.012983203043084202] and parameters: {'max_depth': 6, 'eta': 0.08229797714040037, 'subsample': 0.9736228747751698, 'colsample_bytree': 0.6200940697581631}.\n",
      "[I 2025-05-15 16:51:11,862] Trial 19 finished with values: [0.6707226291459504, 0.012983203043084202] and parameters: {'max_depth': 5, 'eta': 0.05733349983083821, 'subsample': 0.7851944184992043, 'colsample_bytree': 0.657871392309496}.\n",
      "[I 2025-05-15 16:51:11,971] Trial 20 finished with values: [0.5843542166386365, 0.006573558559192723] and parameters: {'max_depth': 4, 'eta': 0.09473859035272794, 'subsample': 0.6328514951774481, 'colsample_bytree': 0.7264879598576558}.\n",
      "[I 2025-05-15 16:51:12,098] Trial 21 finished with values: [0.6707226291459504, 0.012983203043084202] and parameters: {'max_depth': 5, 'eta': 0.06852635003108358, 'subsample': 0.8075153264483537, 'colsample_bytree': 0.6692869718623081}.\n",
      "[I 2025-05-15 16:51:12,203] Trial 22 finished with values: [0.6707226291459504, 0.012983203043084202] and parameters: {'max_depth': 5, 'eta': 0.20240932884051724, 'subsample': 0.7356766680899095, 'colsample_bytree': 0.8813671594263717}.\n",
      "[I 2025-05-15 16:51:12,327] Trial 23 finished with values: [0.6707226291459504, 0.012983203043084202] and parameters: {'max_depth': 5, 'eta': 0.05917242962294978, 'subsample': 0.9341564485265855, 'colsample_bytree': 0.6247812843528243}.\n",
      "[I 2025-05-15 16:51:12,476] Trial 24 finished with values: [0.6707226291459504, 0.012983203043084202] and parameters: {'max_depth': 4, 'eta': 0.03675935400410308, 'subsample': 0.7372394790929547, 'colsample_bytree': 0.677255014370751}.\n",
      "[I 2025-05-15 16:51:12,594] Trial 25 finished with values: [0.6707226291459504, 0.012983203043084202] and parameters: {'max_depth': 5, 'eta': 0.10753344019087818, 'subsample': 0.9669009324872694, 'colsample_bytree': 0.8891805699048715}.\n",
      "[I 2025-05-15 16:51:12,703] Trial 26 finished with values: [0.6707226291459504, 0.012983203043084202] and parameters: {'max_depth': 6, 'eta': 0.1894611988356325, 'subsample': 0.9250720155723606, 'colsample_bytree': 0.9381409406141208}.\n",
      "[I 2025-05-15 16:51:12,814] Trial 27 finished with values: [0.6707226291459504, 0.012983203043084202] and parameters: {'max_depth': 4, 'eta': 0.10533831209537638, 'subsample': 0.7566775502761247, 'colsample_bytree': 0.8037660576233714}.\n",
      "[I 2025-05-15 16:51:12,923] Trial 28 finished with values: [0.6707226291459504, 0.012983203043084202] and parameters: {'max_depth': 3, 'eta': 0.19061210917159424, 'subsample': 0.7651883720709113, 'colsample_bytree': 0.7583691030865954}.\n",
      "[I 2025-05-15 16:51:13,117] Trial 29 finished with values: [0.6707226291459504, 0.012983203043084202] and parameters: {'max_depth': 7, 'eta': 0.015502494782014018, 'subsample': 0.9869930417040229, 'colsample_bytree': 0.6989520340771888}.\n",
      "[I 2025-05-15 16:51:13,279] Trial 30 finished with values: [0.6707226291459504, 0.012983203043084202] and parameters: {'max_depth': 7, 'eta': 0.028975972725977482, 'subsample': 0.78841763529016, 'colsample_bytree': 0.7618134851196368}.\n",
      "[I 2025-05-15 16:51:13,389] Trial 31 finished with values: [0.6728685518927314, 0.008640771281297588] and parameters: {'max_depth': 4, 'eta': 0.23546646251641604, 'subsample': 0.742666790917439, 'colsample_bytree': 0.9399761908578976}.\n",
      "[I 2025-05-15 16:51:13,500] Trial 32 finished with values: [0.6707226291459504, 0.012983203043084202] and parameters: {'max_depth': 4, 'eta': 0.13240796289268617, 'subsample': 0.9284882568473047, 'colsample_bytree': 0.8334665186584792}.\n",
      "[I 2025-05-15 16:51:13,605] Trial 33 finished with values: [0.6707226291459504, 0.012983203043084202] and parameters: {'max_depth': 4, 'eta': 0.11137936179419207, 'subsample': 0.9805404249653722, 'colsample_bytree': 0.8763695707453178}.\n",
      "[I 2025-05-15 16:51:13,719] Trial 34 finished with values: [0.6707226291459504, 0.012983203043084202] and parameters: {'max_depth': 3, 'eta': 0.09264525461625178, 'subsample': 0.7181322045619133, 'colsample_bytree': 0.6472347871392387}.\n",
      "[I 2025-05-15 16:51:13,839] Trial 35 finished with values: [0.6707226291459504, 0.012983203043084202] and parameters: {'max_depth': 3, 'eta': 0.05930862718781889, 'subsample': 0.9519920994380802, 'colsample_bytree': 0.7787167207899865}.\n",
      "[I 2025-05-15 16:51:13,962] Trial 36 finished with values: [0.6707226291459504, 0.012983203043084202] and parameters: {'max_depth': 3, 'eta': 0.13543020744370998, 'subsample': 0.8180980625729666, 'colsample_bytree': 0.9348375858122568}.\n",
      "[I 2025-05-15 16:51:14,067] Trial 37 finished with values: [0.6707226291459504, 0.012983203043084202] and parameters: {'max_depth': 4, 'eta': 0.2345012954874799, 'subsample': 0.6846380236835816, 'colsample_bytree': 0.7771573957523449}.\n",
      "[I 2025-05-15 16:51:14,236] Trial 38 finished with values: [0.6707226291459504, 0.012983203043084202] and parameters: {'max_depth': 3, 'eta': 0.01768461712041094, 'subsample': 0.8262583211240778, 'colsample_bytree': 0.9834220308674863}.\n",
      "[I 2025-05-15 16:51:14,338] Trial 39 finished with values: [0.6707226291459504, 0.012983203043084202] and parameters: {'max_depth': 3, 'eta': 0.23988832056925977, 'subsample': 0.7327878860263252, 'colsample_bytree': 0.783227842170595}.\n",
      "[I 2025-05-15 16:51:14,450] Trial 40 finished with values: [0.6707226291459504, 0.012983203043084202] and parameters: {'max_depth': 5, 'eta': 0.18799252780409315, 'subsample': 0.942371078932599, 'colsample_bytree': 0.8701162605977295}.\n",
      "[I 2025-05-15 16:51:14,553] Trial 41 finished with values: [0.6628726262357053, 0.020855959328193657] and parameters: {'max_depth': 7, 'eta': 0.21525123733809562, 'subsample': 0.6617809047055168, 'colsample_bytree': 0.8777425115496682}.\n",
      "[I 2025-05-15 16:51:14,683] Trial 42 finished with values: [0.6707226291459504, 0.012983203043084202] and parameters: {'max_depth': 3, 'eta': 0.052547201759717534, 'subsample': 0.9487515512303158, 'colsample_bytree': 0.7274939145196653}.\n",
      "[I 2025-05-15 16:51:14,790] Trial 43 finished with values: [0.6707226291459504, 0.012983203043084202] and parameters: {'max_depth': 3, 'eta': 0.1115423855782139, 'subsample': 0.8487957402721187, 'colsample_bytree': 0.7744410824546778}.\n",
      "[I 2025-05-15 16:51:14,889] Trial 44 finished with values: [0.6107470752037937, 0.02931183154982228] and parameters: {'max_depth': 5, 'eta': 0.29880903189821933, 'subsample': 0.6008640323379798, 'colsample_bytree': 0.6934407876996089}.\n",
      "[I 2025-05-15 16:51:14,998] Trial 45 finished with values: [0.6707226291459504, 0.012983203043084202] and parameters: {'max_depth': 5, 'eta': 0.171987179254635, 'subsample': 0.6793778628521325, 'colsample_bytree': 0.9827800429365885}.\n",
      "[I 2025-05-15 16:51:15,123] Trial 46 finished with values: [0.6707226291459504, 0.012983203043084202] and parameters: {'max_depth': 5, 'eta': 0.07052586088824747, 'subsample': 0.8803467786662584, 'colsample_bytree': 0.8031325193231987}.\n",
      "[I 2025-05-15 16:51:15,228] Trial 47 finished with values: [0.6707226291459504, 0.012983203043084202] and parameters: {'max_depth': 5, 'eta': 0.13373748376427583, 'subsample': 0.8955893601287295, 'colsample_bytree': 0.6000304182984216}.\n",
      "[I 2025-05-15 16:51:15,348] Trial 48 finished with values: [0.6707226291459504, 0.012983203043084202] and parameters: {'max_depth': 4, 'eta': 0.05613470689992379, 'subsample': 0.7505477045732909, 'colsample_bytree': 0.9627834176466097}.\n",
      "[I 2025-05-15 16:51:15,467] Trial 49 finished with values: [0.6707226291459504, 0.012983203043084202] and parameters: {'max_depth': 6, 'eta': 0.16878526692828308, 'subsample': 0.7194614568091633, 'colsample_bytree': 0.6763606103324624}.\n",
      "[I 2025-05-15 16:51:15,480] A new study created in memory with name: no-name-7bf919ba-1c16-46a8-a925-edb9744da5b7\n",
      "[I 2025-05-15 16:51:15,608] Trial 0 finished with values: [0.6707226291459504, 0.012983203043084202] and parameters: {'max_depth': 3, 'eta': 0.16349790726889776, 'subsample': 0.6846096172256404, 'colsample_bytree': 0.6535846422720449}.\n"
     ]
    },
    {
     "name": "stdout",
     "output_type": "stream",
     "text": [
      "Completed study for alpha=0.021942138671875\n",
      "15\n"
     ]
    },
    {
     "name": "stderr",
     "output_type": "stream",
     "text": [
      "[I 2025-05-15 16:51:15,715] Trial 1 finished with values: [0.6707226291459504, 0.012983203043084202] and parameters: {'max_depth': 7, 'eta': 0.19154043981351165, 'subsample': 0.9863809093797811, 'colsample_bytree': 0.8890872952174259}.\n",
      "[I 2025-05-15 16:51:15,869] Trial 2 finished with values: [0.6707226291459504, 0.012983203043084202] and parameters: {'max_depth': 7, 'eta': 0.22555195545964116, 'subsample': 0.925521858359281, 'colsample_bytree': 0.862704320450745}.\n",
      "[I 2025-05-15 16:51:15,978] Trial 3 finished with values: [0.6386011830911703, 0.023713341309108515] and parameters: {'max_depth': 4, 'eta': 0.16740104747898027, 'subsample': 0.6316820137889978, 'colsample_bytree': 0.8332240975657416}.\n",
      "[I 2025-05-15 16:51:16,098] Trial 4 finished with values: [0.6707226291459504, 0.012983203043084202] and parameters: {'max_depth': 6, 'eta': 0.16930011900719627, 'subsample': 0.7959394666377746, 'colsample_bytree': 0.8094421219441756}.\n",
      "[I 2025-05-15 16:51:16,208] Trial 5 finished with values: [0.6707226291459504, 0.012983203043084202] and parameters: {'max_depth': 5, 'eta': 0.11934451398770854, 'subsample': 0.959014595014319, 'colsample_bytree': 0.8557763551231337}.\n",
      "[I 2025-05-15 16:51:16,320] Trial 6 finished with values: [0.6707226291459504, 0.012983203043084202] and parameters: {'max_depth': 7, 'eta': 0.15865135613370188, 'subsample': 0.9785133290605643, 'colsample_bytree': 0.6503373223123875}.\n",
      "[I 2025-05-15 16:51:16,455] Trial 7 finished with values: [0.6707226291459504, 0.012983203043084202] and parameters: {'max_depth': 5, 'eta': 0.04141374448992184, 'subsample': 0.9078090199261116, 'colsample_bytree': 0.6837476121566473}.\n",
      "[I 2025-05-15 16:51:16,575] Trial 8 finished with values: [0.6707226291459504, 0.012983203043084202] and parameters: {'max_depth': 4, 'eta': 0.09550612248724882, 'subsample': 0.9489420183072134, 'colsample_bytree': 0.9051503938731534}.\n",
      "[I 2025-05-15 16:51:16,680] Trial 9 finished with values: [0.660731298612579, 0.030436015034121244] and parameters: {'max_depth': 7, 'eta': 0.14962444636957442, 'subsample': 0.6436533010262466, 'colsample_bytree': 0.6862231523137847}.\n",
      "[I 2025-05-15 16:51:16,827] Trial 10 finished with values: [0.6707226291459504, 0.012983203043084202] and parameters: {'max_depth': 6, 'eta': 0.024543317773721752, 'subsample': 0.6943270171297944, 'colsample_bytree': 0.65865500271545}.\n",
      "[I 2025-05-15 16:51:16,938] Trial 11 finished with values: [0.6707226291459504, 0.012983203043084202] and parameters: {'max_depth': 6, 'eta': 0.2624912697699776, 'subsample': 0.9402479865521716, 'colsample_bytree': 0.7166173696043636}.\n",
      "[I 2025-05-15 16:51:17,042] Trial 12 finished with values: [0.6707226291459504, 0.012983203043084202] and parameters: {'max_depth': 7, 'eta': 0.27304193202570437, 'subsample': 0.9427686475752536, 'colsample_bytree': 0.8189123751987106}.\n",
      "[I 2025-05-15 16:51:17,150] Trial 13 finished with values: [0.6685828332307088, 0.021205203787825182] and parameters: {'max_depth': 4, 'eta': 0.19920122012243335, 'subsample': 0.6636465242049585, 'colsample_bytree': 0.7518472733950251}.\n",
      "[I 2025-05-15 16:51:17,289] Trial 14 finished with values: [0.6707226291459504, 0.012983203043084202] and parameters: {'max_depth': 7, 'eta': 0.0360975746113405, 'subsample': 0.8110359687192896, 'colsample_bytree': 0.7879167656308632}.\n",
      "[I 2025-05-15 16:51:17,394] Trial 15 finished with values: [0.6707226291459504, 0.012983203043084202] and parameters: {'max_depth': 7, 'eta': 0.2625997141559591, 'subsample': 0.9158049388587499, 'colsample_bytree': 0.865850388252959}.\n",
      "[I 2025-05-15 16:51:17,505] Trial 16 finished with values: [0.6692950773971994, 0.023306651601310773] and parameters: {'max_depth': 3, 'eta': 0.2868574926017305, 'subsample': 0.8880310687295576, 'colsample_bytree': 0.8997374797339384}.\n",
      "[I 2025-05-15 16:51:17,612] Trial 17 finished with values: [0.6707226291459504, 0.012983203043084202] and parameters: {'max_depth': 3, 'eta': 0.14410072320168293, 'subsample': 0.9077826719504944, 'colsample_bytree': 0.6061151288165344}.\n",
      "[I 2025-05-15 16:51:17,732] Trial 18 finished with values: [0.6707226291459504, 0.012983203043084202] and parameters: {'max_depth': 3, 'eta': 0.13367070266972136, 'subsample': 0.9733748200582675, 'colsample_bytree': 0.7657211050051337}.\n",
      "[I 2025-05-15 16:51:17,839] Trial 19 finished with values: [0.6707226291459504, 0.012983203043084202] and parameters: {'max_depth': 5, 'eta': 0.21784420316106098, 'subsample': 0.7852712578778567, 'colsample_bytree': 0.641485051719362}.\n",
      "[I 2025-05-15 16:51:17,962] Trial 20 finished with values: [0.6707226291459504, 0.012983203043084202] and parameters: {'max_depth': 4, 'eta': 0.09518058847612441, 'subsample': 0.9573312924277833, 'colsample_bytree': 0.9457044489734174}.\n",
      "[I 2025-05-15 16:51:18,069] Trial 21 finished with values: [0.6728685518927314, 0.008640771281297588] and parameters: {'max_depth': 3, 'eta': 0.24653218499669183, 'subsample': 0.7487530658721625, 'colsample_bytree': 0.9980390134722956}.\n",
      "[I 2025-05-15 16:51:18,175] Trial 22 finished with values: [0.6707226291459504, 0.012983203043084202] and parameters: {'max_depth': 7, 'eta': 0.14513146571888336, 'subsample': 0.8617741912062173, 'colsample_bytree': 0.6979718914182711}.\n",
      "[I 2025-05-15 16:51:18,277] Trial 23 finished with values: [0.6707226291459504, 0.012983203043084202] and parameters: {'max_depth': 3, 'eta': 0.1989051918823364, 'subsample': 0.7830061689262973, 'colsample_bytree': 0.8039077019292431}.\n",
      "[I 2025-05-15 16:51:18,403] Trial 24 finished with values: [0.6707226291459504, 0.012983203043084202] and parameters: {'max_depth': 4, 'eta': 0.1628484641705522, 'subsample': 0.8983780999354247, 'colsample_bytree': 0.9568602680056486}.\n",
      "[I 2025-05-15 16:51:18,537] Trial 25 finished with values: [0.6664399738996977, 0.021511756342791438] and parameters: {'max_depth': 6, 'eta': 0.23900638892058332, 'subsample': 0.6438371741826127, 'colsample_bytree': 0.6054338414530088}.\n",
      "[I 2025-05-15 16:51:18,668] Trial 26 finished with values: [0.6707226291459504, 0.012983203043084202] and parameters: {'max_depth': 6, 'eta': 0.27557094182924907, 'subsample': 0.9471388553329335, 'colsample_bytree': 0.6220564906001456}.\n",
      "[I 2025-05-15 16:51:18,799] Trial 27 finished with values: [0.6707226291459504, 0.012983203043084202] and parameters: {'max_depth': 4, 'eta': 0.21775384546798263, 'subsample': 0.9458571944449407, 'colsample_bytree': 0.8841619682235399}.\n",
      "[I 2025-05-15 16:51:18,931] Trial 28 finished with values: [0.6707226291459504, 0.012983203043084202] and parameters: {'max_depth': 7, 'eta': 0.08902422353111324, 'subsample': 0.778847463326315, 'colsample_bytree': 0.6408720095615609}.\n",
      "[I 2025-05-15 16:51:19,054] Trial 29 finished with values: [0.6685828332307088, 0.021205203787825182] and parameters: {'max_depth': 4, 'eta': 0.18333419548557373, 'subsample': 0.6640785321319881, 'colsample_bytree': 0.8292137700111801}.\n",
      "[I 2025-05-15 16:51:19,166] Trial 30 finished with values: [0.6707226291459504, 0.012983203043084202] and parameters: {'max_depth': 3, 'eta': 0.2054585713662158, 'subsample': 0.8060345589528901, 'colsample_bytree': 0.6245819799522303}.\n",
      "[I 2025-05-15 16:51:19,270] Trial 31 finished with values: [0.6707226291459504, 0.012983203043084202] and parameters: {'max_depth': 6, 'eta': 0.2267304952114278, 'subsample': 0.8665571633857414, 'colsample_bytree': 0.7483014432893162}.\n",
      "[I 2025-05-15 16:51:19,378] Trial 32 finished with values: [0.662157318653445, 0.023784114884373448] and parameters: {'max_depth': 7, 'eta': 0.13352014809442664, 'subsample': 0.6472715472632581, 'colsample_bytree': 0.9599000516847849}.\n",
      "[I 2025-05-15 16:51:19,487] Trial 33 finished with values: [0.6728685518927314, 0.008640771281297588] and parameters: {'max_depth': 3, 'eta': 0.27885876090611916, 'subsample': 0.7695260300071098, 'colsample_bytree': 0.8396386912268716}.\n",
      "[I 2025-05-15 16:51:19,597] Trial 34 finished with values: [0.6707226291459504, 0.012983203043084202] and parameters: {'max_depth': 3, 'eta': 0.15406691222628877, 'subsample': 0.7752826645475599, 'colsample_bytree': 0.8331577323511187}.\n",
      "[I 2025-05-15 16:51:19,708] Trial 35 finished with values: [0.6707226291459504, 0.012983203043084202] and parameters: {'max_depth': 4, 'eta': 0.08405022892879688, 'subsample': 0.7291963388169286, 'colsample_bytree': 0.6079529534892522}.\n",
      "[I 2025-05-15 16:51:19,823] Trial 36 finished with values: [0.6707226291459504, 0.012983203043084202] and parameters: {'max_depth': 7, 'eta': 0.07585344301646112, 'subsample': 0.6878687732793948, 'colsample_bytree': 0.6215073453460251}.\n",
      "[I 2025-05-15 16:51:19,940] Trial 37 finished with values: [0.6707226291459504, 0.012983203043084202] and parameters: {'max_depth': 4, 'eta': 0.09200371250541246, 'subsample': 0.7987650674458561, 'colsample_bytree': 0.6382023773957317}.\n",
      "[I 2025-05-15 16:51:20,044] Trial 38 finished with values: [0.6707226291459504, 0.012983203043084202] and parameters: {'max_depth': 7, 'eta': 0.16030602887403494, 'subsample': 0.8773998574352193, 'colsample_bytree': 0.9149916538267054}.\n",
      "[I 2025-05-15 16:51:20,163] Trial 39 finished with values: [0.6707226291459504, 0.012983203043084202] and parameters: {'max_depth': 5, 'eta': 0.06894937694270584, 'subsample': 0.8499209356735301, 'colsample_bytree': 0.9778629082119982}.\n",
      "[I 2025-05-15 16:51:20,272] Trial 40 finished with values: [0.6707226291459504, 0.02737169225171728] and parameters: {'max_depth': 4, 'eta': 0.2932047752399641, 'subsample': 0.9893019278472128, 'colsample_bytree': 0.622591310946103}.\n",
      "[I 2025-05-15 16:51:20,373] Trial 41 finished with values: [0.6707226291459504, 0.012983203043084202] and parameters: {'max_depth': 7, 'eta': 0.1939634012934778, 'subsample': 0.6953530138078919, 'colsample_bytree': 0.9970107019580804}.\n",
      "[I 2025-05-15 16:51:20,506] Trial 42 finished with values: [0.6707226291459504, 0.012983203043084202] and parameters: {'max_depth': 5, 'eta': 0.049706332859714236, 'subsample': 0.6893585865284907, 'colsample_bytree': 0.7947831262057086}.\n",
      "[I 2025-05-15 16:51:20,619] Trial 43 finished with values: [0.6707226291459504, 0.012983203043084202] and parameters: {'max_depth': 4, 'eta': 0.20200486221374653, 'subsample': 0.7521196011311989, 'colsample_bytree': 0.7586951646841698}.\n",
      "[I 2025-05-15 16:51:20,729] Trial 44 finished with values: [0.6707226291459504, 0.012983203043084202] and parameters: {'max_depth': 5, 'eta': 0.14227783788937368, 'subsample': 0.7688261429461752, 'colsample_bytree': 0.7757615818662653}.\n",
      "[I 2025-05-15 16:51:20,843] Trial 45 finished with values: [0.6707226291459504, 0.012983203043084202] and parameters: {'max_depth': 3, 'eta': 0.25461330563261025, 'subsample': 0.7680713871103119, 'colsample_bytree': 0.7412689081376431}.\n",
      "[I 2025-05-15 16:51:20,955] Trial 46 finished with values: [0.6692950773971994, 0.023306651601310773] and parameters: {'max_depth': 5, 'eta': 0.27483208018549615, 'subsample': 0.9169435670698953, 'colsample_bytree': 0.6104631009588162}.\n",
      "[I 2025-05-15 16:51:21,065] Trial 47 finished with values: [0.6707226291459504, 0.012983203043084202] and parameters: {'max_depth': 4, 'eta': 0.09780727220681376, 'subsample': 0.7200003602140342, 'colsample_bytree': 0.7678078150808672}.\n",
      "[I 2025-05-15 16:51:21,168] Trial 48 finished with values: [0.6707226291459504, 0.012983203043084202] and parameters: {'max_depth': 4, 'eta': 0.21337379762185166, 'subsample': 0.9934054779903574, 'colsample_bytree': 0.6855135103668906}.\n",
      "[I 2025-05-15 16:51:21,274] Trial 49 finished with values: [0.5479317348429845, 0.012420733388475325] and parameters: {'max_depth': 4, 'eta': 0.1511360458154859, 'subsample': 0.6110690524102428, 'colsample_bytree': 0.7564621042105714}.\n",
      "[I 2025-05-15 16:51:21,284] A new study created in memory with name: no-name-004d24c0-9192-4f17-adfe-acdb7b640544\n",
      "[I 2025-05-15 16:51:21,386] Trial 0 finished with values: [0.6721532443104711, 0.010777523418049736] and parameters: {'max_depth': 5, 'eta': 0.29908008523349905, 'subsample': 0.7259897802439977, 'colsample_bytree': 0.640995900314988}.\n"
     ]
    },
    {
     "name": "stdout",
     "output_type": "stream",
     "text": [
      "Completed study for alpha=0.0219573974609375\n",
      "16\n"
     ]
    },
    {
     "name": "stderr",
     "output_type": "stream",
     "text": [
      "[I 2025-05-15 16:51:21,488] Trial 1 finished with values: [0.6264669932267877, 0.014006224367783848] and parameters: {'max_depth': 6, 'eta': 0.15441546526835342, 'subsample': 0.6308997038012685, 'colsample_bytree': 0.7840725088890669}.\n",
      "[I 2025-05-15 16:51:21,604] Trial 2 finished with values: [0.6707226291459504, 0.012983203043084202] and parameters: {'max_depth': 6, 'eta': 0.1950129102248326, 'subsample': 0.7563961419820627, 'colsample_bytree': 0.8868885594897018}.\n",
      "[I 2025-05-15 16:51:21,722] Trial 3 finished with values: [0.6707226291459504, 0.012983203043084202] and parameters: {'max_depth': 6, 'eta': 0.09291582045011688, 'subsample': 0.9919949959749672, 'colsample_bytree': 0.8954015496141703}.\n",
      "[I 2025-05-15 16:51:21,835] Trial 4 finished with values: [0.6707226291459504, 0.012983203043084202] and parameters: {'max_depth': 3, 'eta': 0.2529103455739667, 'subsample': 0.7191539643598714, 'colsample_bytree': 0.684660730235538}.\n",
      "[I 2025-05-15 16:51:21,999] Trial 5 finished with values: [0.6707226291459504, 0.012983203043084202] and parameters: {'max_depth': 4, 'eta': 0.024363522804891718, 'subsample': 0.7954200582284046, 'colsample_bytree': 0.7731949316351736}.\n",
      "[I 2025-05-15 16:51:22,117] Trial 6 finished with values: [0.6707226291459504, 0.012983203043084202] and parameters: {'max_depth': 6, 'eta': 0.12561508862423867, 'subsample': 0.9460736354275351, 'colsample_bytree': 0.9088286762477298}.\n",
      "[I 2025-05-15 16:51:22,231] Trial 7 finished with values: [0.5786332876884384, 0.005718048571492014] and parameters: {'max_depth': 4, 'eta': 0.17351290233410435, 'subsample': 0.6192615171144087, 'colsample_bytree': 0.8267966043687033}.\n",
      "[I 2025-05-15 16:51:22,336] Trial 8 finished with values: [0.6707226291459504, 0.012983203043084202] and parameters: {'max_depth': 3, 'eta': 0.15086341664763242, 'subsample': 0.9626008810087295, 'colsample_bytree': 0.662325959278519}.\n",
      "[I 2025-05-15 16:51:22,448] Trial 9 finished with values: [0.6707226291459504, 0.012983203043084202] and parameters: {'max_depth': 3, 'eta': 0.14371137049694033, 'subsample': 0.9592480264831007, 'colsample_bytree': 0.7528289876930299}.\n",
      "[I 2025-05-15 16:51:22,553] Trial 10 finished with values: [0.6707226291459504, 0.012983203043084202] and parameters: {'max_depth': 7, 'eta': 0.2552441655134586, 'subsample': 0.9956581248024712, 'colsample_bytree': 0.7997772862135858}.\n",
      "[I 2025-05-15 16:51:22,669] Trial 11 finished with values: [0.6707226291459504, 0.012983203043084202] and parameters: {'max_depth': 6, 'eta': 0.18219143838553103, 'subsample': 0.7411785897348943, 'colsample_bytree': 0.613867470860487}.\n",
      "[I 2025-05-15 16:51:22,771] Trial 12 finished with values: [0.6728685518927314, 0.008640771281297588] and parameters: {'max_depth': 7, 'eta': 0.2732420537315457, 'subsample': 0.7661902075639991, 'colsample_bytree': 0.7340076530480031}.\n",
      "[I 2025-05-15 16:51:22,873] Trial 13 finished with values: [0.6707226291459504, 0.012983203043084202] and parameters: {'max_depth': 6, 'eta': 0.23564012144628727, 'subsample': 0.7551735432700787, 'colsample_bytree': 0.9000118311704719}.\n",
      "[I 2025-05-15 16:51:22,999] Trial 14 finished with values: [0.6707226291459504, 0.012983203043084202] and parameters: {'max_depth': 3, 'eta': 0.052698062345002766, 'subsample': 0.896630753562893, 'colsample_bytree': 0.6481832236486101}.\n",
      "[I 2025-05-15 16:51:23,107] Trial 15 finished with values: [0.6600159910303186, 0.017612263712454567] and parameters: {'max_depth': 5, 'eta': 0.09518523801319917, 'subsample': 0.648275954590421, 'colsample_bytree': 0.7075206179762257}.\n",
      "[I 2025-05-15 16:51:23,214] Trial 16 finished with values: [0.6707226291459504, 0.012983203043084202] and parameters: {'max_depth': 6, 'eta': 0.10410443254067672, 'subsample': 0.9241618230886627, 'colsample_bytree': 0.6743172329439066}.\n",
      "[I 2025-05-15 16:51:23,321] Trial 17 finished with values: [0.6707226291459504, 0.012983203043084202] and parameters: {'max_depth': 7, 'eta': 0.14240621340961282, 'subsample': 0.8893531062805602, 'colsample_bytree': 0.9536912394678942}.\n",
      "[I 2025-05-15 16:51:23,431] Trial 18 finished with values: [0.6707226291459504, 0.012983203043084202] and parameters: {'max_depth': 7, 'eta': 0.1037335350426417, 'subsample': 0.7480586876817937, 'colsample_bytree': 0.8164658875895527}.\n",
      "[I 2025-05-15 16:51:23,541] Trial 19 finished with values: [0.6707226291459504, 0.012983203043084202] and parameters: {'max_depth': 4, 'eta': 0.12803004205925092, 'subsample': 0.9200052856608085, 'colsample_bytree': 0.664223176620472}.\n",
      "[I 2025-05-15 16:51:23,648] Trial 20 finished with values: [0.6707226291459504, 0.012983203043084202] and parameters: {'max_depth': 5, 'eta': 0.21478052668395212, 'subsample': 0.76581582450791, 'colsample_bytree': 0.9965063911956912}.\n",
      "[I 2025-05-15 16:51:23,790] Trial 21 finished with values: [0.6707226291459504, 0.012983203043084202] and parameters: {'max_depth': 4, 'eta': 0.2244321723374018, 'subsample': 0.8845501891307078, 'colsample_bytree': 0.7742187279496188}.\n",
      "[I 2025-05-15 16:51:23,900] Trial 22 finished with values: [0.6707226291459504, 0.012983203043084202] and parameters: {'max_depth': 3, 'eta': 0.10937176687232068, 'subsample': 0.7517469093884144, 'colsample_bytree': 0.6337827489826922}.\n",
      "[I 2025-05-15 16:51:24,011] Trial 23 finished with values: [0.5522235803365468, 0.003722084367245656] and parameters: {'max_depth': 5, 'eta': 0.15231712888515223, 'subsample': 0.6149596402050547, 'colsample_bytree': 0.8575003568989616}.\n",
      "[I 2025-05-15 16:51:24,121] Trial 24 finished with values: [0.6707226291459504, 0.012983203043084202] and parameters: {'max_depth': 5, 'eta': 0.20469242109010766, 'subsample': 0.7572500701540973, 'colsample_bytree': 0.9974661031022247}.\n",
      "[I 2025-05-15 16:51:24,230] Trial 25 finished with values: [0.6607297669046941, 0.02402173995105737] and parameters: {'max_depth': 3, 'eta': 0.2202887357063601, 'subsample': 0.639708943047962, 'colsample_bytree': 0.9621237849801425}.\n",
      "[I 2025-05-15 16:51:24,338] Trial 26 finished with values: [0.6707226291459504, 0.012983203043084202] and parameters: {'max_depth': 7, 'eta': 0.11913716112200043, 'subsample': 0.9158947266847539, 'colsample_bytree': 0.6028145521574257}.\n",
      "[I 2025-05-15 16:51:24,441] Trial 27 finished with values: [0.6707226291459504, 0.012983203043084202] and parameters: {'max_depth': 7, 'eta': 0.17038929500589864, 'subsample': 0.9876056021410671, 'colsample_bytree': 0.6018616876744086}.\n",
      "[I 2025-05-15 16:51:24,544] Trial 28 finished with values: [0.6707226291459504, 0.012983203043084202] and parameters: {'max_depth': 6, 'eta': 0.19721811094589986, 'subsample': 0.9016194333722072, 'colsample_bytree': 0.7657167128951516}.\n",
      "[I 2025-05-15 16:51:24,650] Trial 29 finished with values: [0.6428807749216532, 0.02099573008655292] and parameters: {'max_depth': 6, 'eta': 0.2699473174950488, 'subsample': 0.6324270519714094, 'colsample_bytree': 0.9358759847454957}.\n",
      "[I 2025-05-15 16:51:24,753] Trial 30 finished with values: [0.6721532443104711, 0.010777523418049736] and parameters: {'max_depth': 4, 'eta': 0.29604529413121816, 'subsample': 0.7058158768803292, 'colsample_bytree': 0.7500981466022808}.\n",
      "[I 2025-05-15 16:51:24,858] Trial 31 finished with values: [0.642883838337423, 0.027531664458075162] and parameters: {'max_depth': 7, 'eta': 0.24986946337585506, 'subsample': 0.6234734239642904, 'colsample_bytree': 0.609756828927809}.\n",
      "[I 2025-05-15 16:51:24,973] Trial 32 finished with values: [0.642883838337423, 0.030295307202416282] and parameters: {'max_depth': 3, 'eta': 0.2553525437497359, 'subsample': 0.6272650795203015, 'colsample_bytree': 0.6438185356620841}.\n",
      "[I 2025-05-15 16:51:25,083] Trial 33 finished with values: [0.6707226291459504, 0.012983203043084202] and parameters: {'max_depth': 7, 'eta': 0.12864521311671165, 'subsample': 0.7907896230022563, 'colsample_bytree': 0.9998489106268321}.\n",
      "[I 2025-05-15 16:51:25,198] Trial 34 finished with values: [0.6707226291459504, 0.012983203043084202] and parameters: {'max_depth': 7, 'eta': 0.12938542209908507, 'subsample': 0.9503946124472584, 'colsample_bytree': 0.9383099139982206}.\n",
      "[I 2025-05-15 16:51:25,382] Trial 35 finished with values: [0.5871985981809437, 0.02204951889121155] and parameters: {'max_depth': 3, 'eta': 0.023504063799441983, 'subsample': 0.6298122333547603, 'colsample_bytree': 0.9293751039243551}.\n",
      "[I 2025-05-15 16:51:25,492] Trial 36 finished with values: [0.6707226291459504, 0.012983203043084202] and parameters: {'max_depth': 6, 'eta': 0.10567207001873259, 'subsample': 0.7662542352348005, 'colsample_bytree': 0.6984303035596415}.\n",
      "[I 2025-05-15 16:51:25,748] Trial 37 finished with values: [0.6707226291459504, 0.012983203043084202] and parameters: {'max_depth': 4, 'eta': 0.011036120028744273, 'subsample': 0.8577482454573404, 'colsample_bytree': 0.9828932706493296}.\n",
      "[I 2025-05-15 16:51:25,862] Trial 38 finished with values: [0.655731804076181, 0.01839157846262422] and parameters: {'max_depth': 7, 'eta': 0.177655366274879, 'subsample': 0.6389196360517727, 'colsample_bytree': 0.8502243876151676}.\n",
      "[I 2025-05-15 16:51:25,967] Trial 39 finished with values: [0.6707226291459504, 0.012983203043084202] and parameters: {'max_depth': 4, 'eta': 0.17543414203289853, 'subsample': 0.7003184107298296, 'colsample_bytree': 0.6334856551431343}.\n",
      "[I 2025-05-15 16:51:26,080] Trial 40 finished with values: [0.6707226291459504, 0.012983203043084202] and parameters: {'max_depth': 7, 'eta': 0.1637308104970196, 'subsample': 0.8528500655720341, 'colsample_bytree': 0.9587417826781235}.\n",
      "[I 2025-05-15 16:51:26,189] Trial 41 finished with values: [0.6407425107142967, 0.026762121796913396] and parameters: {'max_depth': 4, 'eta': 0.1421683491444634, 'subsample': 0.6333544225454615, 'colsample_bytree': 0.8882866047222794}.\n",
      "[I 2025-05-15 16:51:26,296] Trial 42 finished with values: [0.668581301522824, 0.022290391438709145] and parameters: {'max_depth': 6, 'eta': 0.14505915118791446, 'subsample': 0.6584849838839072, 'colsample_bytree': 0.6464941214648641}.\n",
      "[I 2025-05-15 16:51:26,400] Trial 43 finished with values: [0.6707226291459504, 0.012983203043084202] and parameters: {'max_depth': 5, 'eta': 0.1982312644571898, 'subsample': 0.701161893998799, 'colsample_bytree': 0.6507849823007774}.\n",
      "[I 2025-05-15 16:51:26,509] Trial 44 finished with values: [0.6707226291459504, 0.012983203043084202] and parameters: {'max_depth': 3, 'eta': 0.09755379926873384, 'subsample': 0.8014715822563503, 'colsample_bytree': 0.6460328556849255}.\n",
      "[I 2025-05-15 16:51:26,615] Trial 45 finished with values: [0.6707226291459504, 0.012983203043084202] and parameters: {'max_depth': 3, 'eta': 0.10984668831684943, 'subsample': 0.8428935134946302, 'colsample_bytree': 0.6695713147369465}.\n",
      "[I 2025-05-15 16:51:26,740] Trial 46 finished with values: [0.6707226291459504, 0.012983203043084202] and parameters: {'max_depth': 3, 'eta': 0.051496028692308064, 'subsample': 0.917277336703358, 'colsample_bytree': 0.6616845993692252}.\n",
      "[I 2025-05-15 16:51:26,849] Trial 47 finished with values: [0.6685828332307088, 0.021205203787825182] and parameters: {'max_depth': 3, 'eta': 0.2278567286931135, 'subsample': 0.6720183480237313, 'colsample_bytree': 0.7722183323859282}.\n",
      "[I 2025-05-15 16:51:26,971] Trial 48 finished with values: [0.6707226291459504, 0.012983203043084202] and parameters: {'max_depth': 7, 'eta': 0.06388104643101646, 'subsample': 0.9970251122101352, 'colsample_bytree': 0.7987658810844264}.\n",
      "[I 2025-05-15 16:51:27,158] Trial 49 finished with values: [0.6593006834480583, 0.01539279858976364] and parameters: {'max_depth': 7, 'eta': 0.019094272935347944, 'subsample': 0.6446603401620679, 'colsample_bytree': 0.8380260626519513}.\n",
      "[I 2025-05-15 16:51:27,168] A new study created in memory with name: no-name-33b4ec7e-3ea4-4ca6-89bf-78cc3b4e1984\n",
      "[I 2025-05-15 16:51:27,268] Trial 0 finished with values: [0.6707226291459504, 0.012983203043084202] and parameters: {'max_depth': 6, 'eta': 0.2618835062120757, 'subsample': 0.6804645550031159, 'colsample_bytree': 0.8527977817552492}.\n"
     ]
    },
    {
     "name": "stdout",
     "output_type": "stream",
     "text": [
      "Completed study for alpha=0.02194976806640625\n",
      "17\n"
     ]
    },
    {
     "name": "stderr",
     "output_type": "stream",
     "text": [
      "[I 2025-05-15 16:51:27,382] Trial 1 finished with values: [0.6707226291459504, 0.012983203043084202] and parameters: {'max_depth': 4, 'eta': 0.11662555128287522, 'subsample': 0.6566114017687203, 'colsample_bytree': 0.635710924208661}.\n",
      "[I 2025-05-15 16:51:27,496] Trial 2 finished with values: [0.6707226291459504, 0.012983203043084202] and parameters: {'max_depth': 4, 'eta': 0.14341515735233804, 'subsample': 0.837255052288866, 'colsample_bytree': 0.9482026901141943}.\n",
      "[I 2025-05-15 16:51:27,655] Trial 3 finished with values: [0.6707226291459504, 0.012983203043084202] and parameters: {'max_depth': 6, 'eta': 0.020404336550543523, 'subsample': 0.7809375349300691, 'colsample_bytree': 0.9221189345300789}.\n",
      "[I 2025-05-15 16:51:27,760] Trial 4 finished with values: [0.6707226291459504, 0.012983203043084202] and parameters: {'max_depth': 4, 'eta': 0.2435639426009981, 'subsample': 0.7460216506566542, 'colsample_bytree': 0.6679173172886588}.\n",
      "[I 2025-05-15 16:51:27,871] Trial 5 finished with values: [0.6707226291459504, 0.012983203043084202] and parameters: {'max_depth': 4, 'eta': 0.25169764594470584, 'subsample': 0.760054782160697, 'colsample_bytree': 0.8056621651757438}.\n",
      "[I 2025-05-15 16:51:27,983] Trial 6 finished with values: [0.6707226291459504, 0.012983203043084202] and parameters: {'max_depth': 4, 'eta': 0.22460131446898013, 'subsample': 0.9589028675003801, 'colsample_bytree': 0.8638000935519614}.\n",
      "[I 2025-05-15 16:51:28,156] Trial 7 finished with values: [0.6707226291459504, 0.012983203043084202] and parameters: {'max_depth': 7, 'eta': 0.020920474882403048, 'subsample': 0.6638171241110532, 'colsample_bytree': 0.9170143223667434}.\n",
      "[I 2025-05-15 16:51:28,261] Trial 8 finished with values: [0.6707226291459504, 0.012983203043084202] and parameters: {'max_depth': 6, 'eta': 0.17693569346386329, 'subsample': 0.697858805538956, 'colsample_bytree': 0.8614646248380702}.\n",
      "[I 2025-05-15 16:51:28,371] Trial 9 finished with values: [0.6707226291459504, 0.012983203043084202] and parameters: {'max_depth': 5, 'eta': 0.11025440122202987, 'subsample': 0.8533219344135285, 'colsample_bytree': 0.8652170035858957}.\n",
      "[I 2025-05-15 16:51:28,472] Trial 10 finished with values: [0.6707226291459504, 0.012983203043084202] and parameters: {'max_depth': 7, 'eta': 0.1772027298323593, 'subsample': 0.8552769699875253, 'colsample_bytree': 0.9903274823369301}.\n",
      "[I 2025-05-15 16:51:28,587] Trial 11 finished with values: [0.6707226291459504, 0.012983203043084202] and parameters: {'max_depth': 3, 'eta': 0.23087247262737334, 'subsample': 0.7654938757325517, 'colsample_bytree': 0.8735391029922296}.\n",
      "[I 2025-05-15 16:51:28,700] Trial 12 finished with values: [0.6707226291459504, 0.012983203043084202] and parameters: {'max_depth': 3, 'eta': 0.20479570608973108, 'subsample': 0.8511138389689736, 'colsample_bytree': 0.8153689954708759}.\n",
      "[I 2025-05-15 16:51:28,803] Trial 13 finished with values: [0.6707226291459504, 0.012983203043084202] and parameters: {'max_depth': 7, 'eta': 0.2567412647293792, 'subsample': 0.8999833188508009, 'colsample_bytree': 0.7227827467473381}.\n",
      "[I 2025-05-15 16:51:28,954] Trial 14 finished with values: [0.6707226291459504, 0.012983203043084202] and parameters: {'max_depth': 3, 'eta': 0.03817852717814753, 'subsample': 0.673737533671496, 'colsample_bytree': 0.8982033986404421}.\n",
      "[I 2025-05-15 16:51:29,083] Trial 15 finished with values: [0.6707226291459504, 0.012983203043084202] and parameters: {'max_depth': 4, 'eta': 0.20806242769490801, 'subsample': 0.8550127819089839, 'colsample_bytree': 0.66493414544109}.\n",
      "[I 2025-05-15 16:51:29,186] Trial 16 finished with values: [0.6664445690233525, 0.011280123214385254] and parameters: {'max_depth': 5, 'eta': 0.27987810062382923, 'subsample': 0.7996348695400857, 'colsample_bytree': 0.9135500518163432}.\n",
      "[I 2025-05-15 16:51:29,301] Trial 17 finished with values: [0.6707226291459504, 0.012983203043084202] and parameters: {'max_depth': 7, 'eta': 0.09730874937658995, 'subsample': 0.8237023490985349, 'colsample_bytree': 0.7924257004245816}.\n",
      "[I 2025-05-15 16:51:29,407] Trial 18 finished with values: [0.6707226291459504, 0.012983203043084202] and parameters: {'max_depth': 6, 'eta': 0.189206323001466, 'subsample': 0.7305298528336754, 'colsample_bytree': 0.8581299861744887}.\n",
      "[I 2025-05-15 16:51:29,515] Trial 19 finished with values: [0.6685828332307088, 0.021205203787825182] and parameters: {'max_depth': 6, 'eta': 0.23862514581933936, 'subsample': 0.6714088312269514, 'colsample_bytree': 0.7707970559759351}.\n",
      "[I 2025-05-15 16:51:29,626] Trial 20 finished with values: [0.6707226291459504, 0.012983203043084202] and parameters: {'max_depth': 5, 'eta': 0.14127239696417287, 'subsample': 0.9156953687063016, 'colsample_bytree': 0.9745472025496942}.\n",
      "[I 2025-05-15 16:51:29,749] Trial 21 finished with values: [0.6707226291459504, 0.012983203043084202] and parameters: {'max_depth': 3, 'eta': 0.04177887488791766, 'subsample': 0.8724091778898669, 'colsample_bytree': 0.7087064756313122}.\n",
      "[I 2025-05-15 16:51:29,887] Trial 22 finished with values: [0.6707226291459504, 0.012983203043084202] and parameters: {'max_depth': 5, 'eta': 0.04932838080330896, 'subsample': 0.7029030665760969, 'colsample_bytree': 0.6100099476706705}.\n",
      "[I 2025-05-15 16:51:29,996] Trial 23 finished with values: [0.6707226291459504, 0.012983203043084202] and parameters: {'max_depth': 5, 'eta': 0.12271443606625736, 'subsample': 0.8347051145024386, 'colsample_bytree': 0.9403203524368959}.\n",
      "[I 2025-05-15 16:51:30,093] Trial 24 finished with values: [0.6657292614410921, 0.01779853235239624] and parameters: {'max_depth': 5, 'eta': 0.2876751736790496, 'subsample': 0.6621887009785465, 'colsample_bytree': 0.8409856086748738}.\n",
      "[I 2025-05-15 16:51:30,215] Trial 25 finished with values: [0.6707226291459504, 0.012983203043084202] and parameters: {'max_depth': 5, 'eta': 0.06786771612162494, 'subsample': 0.8918009738306292, 'colsample_bytree': 0.8470823495584759}.\n",
      "[I 2025-05-15 16:51:30,327] Trial 26 finished with values: [0.6707226291459504, 0.012983203043084202] and parameters: {'max_depth': 3, 'eta': 0.21753594781869812, 'subsample': 0.8402608467603028, 'colsample_bytree': 0.621351268924236}.\n",
      "[I 2025-05-15 16:51:30,448] Trial 27 finished with values: [0.6707226291459504, 0.012983203043084202] and parameters: {'max_depth': 3, 'eta': 0.05356736479171343, 'subsample': 0.891794889469629, 'colsample_bytree': 0.6588883312983079}.\n",
      "[I 2025-05-15 16:51:30,597] Trial 28 finished with values: [0.6707226291459504, 0.012983203043084202] and parameters: {'max_depth': 5, 'eta': 0.02698898354294072, 'subsample': 0.8279840754091101, 'colsample_bytree': 0.7386498422168798}.\n",
      "[I 2025-05-15 16:51:30,704] Trial 29 finished with values: [0.6707226291459504, 0.012983203043084202] and parameters: {'max_depth': 5, 'eta': 0.1641752272457678, 'subsample': 0.9333604324274478, 'colsample_bytree': 0.9395242496546056}.\n",
      "[I 2025-05-15 16:51:30,805] Trial 30 finished with values: [0.6707226291459504, 0.012983203043084202] and parameters: {'max_depth': 4, 'eta': 0.10676720209849308, 'subsample': 0.7551606058849758, 'colsample_bytree': 0.7688995806255565}.\n",
      "[I 2025-05-15 16:51:30,918] Trial 31 finished with values: [0.6707226291459504, 0.012983203043084202] and parameters: {'max_depth': 7, 'eta': 0.2297079028533186, 'subsample': 0.6984402997512777, 'colsample_bytree': 0.6936853033709076}.\n",
      "[I 2025-05-15 16:51:31,026] Trial 32 finished with values: [0.6607297669046941, 0.025165936256544008] and parameters: {'max_depth': 3, 'eta': 0.24485042377447916, 'subsample': 0.6534789241825013, 'colsample_bytree': 0.8773887763092705}.\n",
      "[I 2025-05-15 16:51:31,133] Trial 33 finished with values: [0.6707226291459504, 0.012983203043084202] and parameters: {'max_depth': 6, 'eta': 0.19997211714814112, 'subsample': 0.9171495045930254, 'colsample_bytree': 0.9488173128323961}.\n",
      "[I 2025-05-15 16:51:31,241] Trial 34 finished with values: [0.6707226291459504, 0.012983203043084202] and parameters: {'max_depth': 7, 'eta': 0.18258985125301094, 'subsample': 0.8671775408788447, 'colsample_bytree': 0.9072614220257486}.\n",
      "[I 2025-05-15 16:51:31,362] Trial 35 finished with values: [0.662157318653445, 0.012600861748858919] and parameters: {'max_depth': 4, 'eta': 0.10372115495080791, 'subsample': 0.6550138063524175, 'colsample_bytree': 0.6678251370205666}.\n",
      "[I 2025-05-15 16:51:31,467] Trial 36 finished with values: [0.6707226291459504, 0.012983203043084202] and parameters: {'max_depth': 5, 'eta': 0.09017520782075676, 'subsample': 0.8322660558367783, 'colsample_bytree': 0.7755693067790179}.\n",
      "[I 2025-05-15 16:51:31,614] Trial 37 finished with values: [0.667153749774073, 0.011713283744407388] and parameters: {'max_depth': 7, 'eta': 0.04288892707812486, 'subsample': 0.6443281398030164, 'colsample_bytree': 0.8584989415913773}.\n",
      "[I 2025-05-15 16:51:31,738] Trial 38 finished with values: [0.6707226291459504, 0.012983203043084202] and parameters: {'max_depth': 4, 'eta': 0.0582100868040457, 'subsample': 0.6630225063164933, 'colsample_bytree': 0.6888090370942879}.\n",
      "[I 2025-05-15 16:51:31,889] Trial 39 finished with values: [0.6707226291459504, 0.012983203043084202] and parameters: {'max_depth': 6, 'eta': 0.028131169746141556, 'subsample': 0.9958152838308709, 'colsample_bytree': 0.66060830349085}.\n",
      "[I 2025-05-15 16:51:32,054] Trial 40 finished with values: [0.6707226291459504, 0.012983203043084202] and parameters: {'max_depth': 6, 'eta': 0.12702916805066838, 'subsample': 0.8904308699560375, 'colsample_bytree': 0.6599467745184685}.\n",
      "[I 2025-05-15 16:51:32,175] Trial 41 finished with values: [0.5786332876884384, 0.003839063954307715] and parameters: {'max_depth': 5, 'eta': 0.22199542162512415, 'subsample': 0.6066545297167351, 'colsample_bytree': 0.8381482946905217}.\n",
      "[I 2025-05-15 16:51:32,284] Trial 42 finished with values: [0.6464527177093001, 0.025498941701021238] and parameters: {'max_depth': 6, 'eta': 0.2825513579978582, 'subsample': 0.6397241231764633, 'colsample_bytree': 0.8298258269347896}.\n",
      "[I 2025-05-15 16:51:32,423] Trial 43 finished with values: [0.5422092741849016, 0.002867383512544804] and parameters: {'max_depth': 7, 'eta': 0.029935199497068514, 'subsample': 0.6182631939889529, 'colsample_bytree': 0.9341039995427729}.\n",
      "[I 2025-05-15 16:51:32,581] Trial 44 finished with values: [0.5000061268315397, 0.0] and parameters: {'max_depth': 5, 'eta': 0.015696841796946838, 'subsample': 0.6178238703591031, 'colsample_bytree': 0.7610431825696458}.\n",
      "[I 2025-05-15 16:51:32,717] Trial 45 finished with values: [0.6707226291459504, 0.012983203043084202] and parameters: {'max_depth': 5, 'eta': 0.05169600309657188, 'subsample': 0.6661296611477465, 'colsample_bytree': 0.9555705975058066}.\n",
      "[I 2025-05-15 16:51:32,827] Trial 46 finished with values: [0.6707226291459504, 0.012983203043084202] and parameters: {'max_depth': 6, 'eta': 0.25567512428490846, 'subsample': 0.8176386372848752, 'colsample_bytree': 0.6891424341640129}.\n",
      "[I 2025-05-15 16:51:32,985] Trial 47 finished with values: [0.6707226291459504, 0.012983203043084202] and parameters: {'max_depth': 5, 'eta': 0.08872708773625078, 'subsample': 0.9446202175542043, 'colsample_bytree': 0.879483265074196}.\n",
      "[I 2025-05-15 16:51:33,142] Trial 48 finished with values: [0.6707226291459504, 0.012983203043084202] and parameters: {'max_depth': 5, 'eta': 0.03182358755901413, 'subsample': 0.817751416262492, 'colsample_bytree': 0.9781075192166933}.\n",
      "[I 2025-05-15 16:51:33,276] Trial 49 finished with values: [0.6707226291459504, 0.012983203043084202] and parameters: {'max_depth': 3, 'eta': 0.09610811304492543, 'subsample': 0.7366686464545622, 'colsample_bytree': 0.8028845485485036}.\n",
      "[I 2025-05-15 16:51:33,286] A new study created in memory with name: no-name-d2759ade-adc0-4646-9d4a-30d2ad52eba7\n",
      "[I 2025-05-15 16:51:33,393] Trial 0 finished with values: [0.6707226291459504, 0.012983203043084202] and parameters: {'max_depth': 6, 'eta': 0.14680051037107986, 'subsample': 0.7295514059263633, 'colsample_bytree': 0.9260587430627202}.\n"
     ]
    },
    {
     "name": "stdout",
     "output_type": "stream",
     "text": [
      "Completed study for alpha=0.021953582763671875\n",
      "18\n"
     ]
    },
    {
     "name": "stderr",
     "output_type": "stream",
     "text": [
      "[I 2025-05-15 16:51:33,502] Trial 1 finished with values: [0.6707226291459504, 0.012983203043084202] and parameters: {'max_depth': 3, 'eta': 0.25526308788862845, 'subsample': 0.8995033041503491, 'colsample_bytree': 0.9628472658496581}.\n",
      "[I 2025-05-15 16:51:33,614] Trial 2 finished with values: [0.6707226291459504, 0.012983203043084202] and parameters: {'max_depth': 7, 'eta': 0.18747919735018814, 'subsample': 0.9218334233481711, 'colsample_bytree': 0.972625596300286}.\n",
      "[I 2025-05-15 16:51:33,790] Trial 3 finished with values: [0.6707226291459504, 0.012983203043084202] and parameters: {'max_depth': 7, 'eta': 0.017567406703553137, 'subsample': 0.6699198615188144, 'colsample_bytree': 0.7963994365330949}.\n",
      "[I 2025-05-15 16:51:33,919] Trial 4 finished with values: [0.6707226291459504, 0.012983203043084202] and parameters: {'max_depth': 6, 'eta': 0.05031460650431966, 'subsample': 0.9655953780013955, 'colsample_bytree': 0.9172729319726947}.\n",
      "[I 2025-05-15 16:51:34,034] Trial 5 finished with values: [0.6707226291459504, 0.012983203043084202] and parameters: {'max_depth': 6, 'eta': 0.05734828065903773, 'subsample': 0.8980606797925919, 'colsample_bytree': 0.9811433950141399}.\n",
      "[I 2025-05-15 16:51:34,143] Trial 6 finished with values: [0.6707226291459504, 0.012983203043084202] and parameters: {'max_depth': 5, 'eta': 0.2571026117611706, 'subsample': 0.8226752346987056, 'colsample_bytree': 0.6660165590068245}.\n",
      "[I 2025-05-15 16:51:34,264] Trial 7 finished with values: [0.6707226291459504, 0.012983203043084202] and parameters: {'max_depth': 3, 'eta': 0.0685766819938116, 'subsample': 0.872029658407297, 'colsample_bytree': 0.793349424907422}.\n",
      "[I 2025-05-15 16:51:34,385] Trial 8 finished with values: [0.6707226291459504, 0.012983203043084202] and parameters: {'max_depth': 7, 'eta': 0.12109024028166121, 'subsample': 0.9386700631795412, 'colsample_bytree': 0.9644884954953838}.\n",
      "[I 2025-05-15 16:51:34,493] Trial 9 finished with values: [0.6707226291459504, 0.02737169225171728] and parameters: {'max_depth': 3, 'eta': 0.28781266053592774, 'subsample': 0.97011053927048, 'colsample_bytree': 0.8204299054842589}.\n",
      "[I 2025-05-15 16:51:34,615] Trial 10 finished with values: [0.6707226291459504, 0.012983203043084202] and parameters: {'max_depth': 5, 'eta': 0.08347411861527226, 'subsample': 0.8439122671651322, 'colsample_bytree': 0.8589362103275275}.\n",
      "[I 2025-05-15 16:51:34,746] Trial 11 finished with values: [0.6707226291459504, 0.012983203043084202] and parameters: {'max_depth': 6, 'eta': 0.1404818350345135, 'subsample': 0.9753854193641571, 'colsample_bytree': 0.9856461491189172}.\n",
      "[I 2025-05-15 16:51:34,878] Trial 12 finished with values: [0.6707226291459504, 0.012983203043084202] and parameters: {'max_depth': 6, 'eta': 0.05342908990516763, 'subsample': 0.7004481439356169, 'colsample_bytree': 0.8733603738201008}.\n",
      "[I 2025-05-15 16:51:35,004] Trial 13 finished with values: [0.6707226291459504, 0.012983203043084202] and parameters: {'max_depth': 6, 'eta': 0.06939727751260599, 'subsample': 0.7755123610163799, 'colsample_bytree': 0.7436288296007161}.\n",
      "[I 2025-05-15 16:51:35,174] Trial 14 finished with values: [0.6707226291459504, 0.012983203043084202] and parameters: {'max_depth': 7, 'eta': 0.030628691995025596, 'subsample': 0.9928808651157786, 'colsample_bytree': 0.958890182327559}.\n",
      "[I 2025-05-15 16:51:35,281] Trial 15 finished with values: [0.6707226291459504, 0.012983203043084202] and parameters: {'max_depth': 3, 'eta': 0.2556937332656116, 'subsample': 0.7602104600569224, 'colsample_bytree': 0.846418449139375}.\n",
      "[I 2025-05-15 16:51:35,414] Trial 16 finished with values: [0.6707226291459504, 0.012983203043084202] and parameters: {'max_depth': 4, 'eta': 0.07524410896133837, 'subsample': 0.8186324315678625, 'colsample_bytree': 0.6964430243075853}.\n",
      "[I 2025-05-15 16:51:35,530] Trial 17 finished with values: [0.6707226291459504, 0.012983203043084202] and parameters: {'max_depth': 7, 'eta': 0.19250796248825125, 'subsample': 0.8804384435728725, 'colsample_bytree': 0.8562889031591879}.\n",
      "[I 2025-05-15 16:51:35,639] Trial 18 finished with values: [0.668581301522824, 0.022290391438709145] and parameters: {'max_depth': 5, 'eta': 0.23647602506678497, 'subsample': 0.6680722983407944, 'colsample_bytree': 0.8436003007790316}.\n",
      "[I 2025-05-15 16:51:35,756] Trial 19 finished with values: [0.5579460409946299, 0.004976564653984013] and parameters: {'max_depth': 6, 'eta': 0.05324620867812532, 'subsample': 0.6299594376362794, 'colsample_bytree': 0.979995871166659}.\n",
      "[I 2025-05-15 16:51:36,005] Trial 20 finished with values: [0.6707226291459504, 0.012983203043084202] and parameters: {'max_depth': 3, 'eta': 0.01351631013438474, 'subsample': 0.7872285206518681, 'colsample_bytree': 0.7957304995331994}.\n",
      "[I 2025-05-15 16:51:36,124] Trial 21 finished with values: [0.6707226291459504, 0.012983203043084202] and parameters: {'max_depth': 6, 'eta': 0.11476427603803688, 'subsample': 0.7692826048881887, 'colsample_bytree': 0.8087669399693121}.\n",
      "[I 2025-05-15 16:51:36,248] Trial 22 finished with values: [0.6707226291459504, 0.012983203043084202] and parameters: {'max_depth': 5, 'eta': 0.26122583651417935, 'subsample': 0.9180404608751888, 'colsample_bytree': 0.8425120320546261}.\n",
      "[I 2025-05-15 16:51:36,353] Trial 23 finished with values: [0.6707226291459504, 0.012983203043084202] and parameters: {'max_depth': 7, 'eta': 0.2212034288511476, 'subsample': 0.7995139759429757, 'colsample_bytree': 0.9867278319668539}.\n",
      "[I 2025-05-15 16:51:36,456] Trial 24 finished with values: [0.6614420110711846, 0.021564649761682524] and parameters: {'max_depth': 5, 'eta': 0.2236911225205122, 'subsample': 0.6342348306522309, 'colsample_bytree': 0.9823644080017152}.\n",
      "[I 2025-05-15 16:51:36,573] Trial 25 finished with values: [0.6707226291459504, 0.012983203043084202] and parameters: {'max_depth': 3, 'eta': 0.11969312911021829, 'subsample': 0.6524996149776474, 'colsample_bytree': 0.9211645626711585}.\n",
      "[I 2025-05-15 16:51:36,684] Trial 26 finished with values: [0.6707226291459504, 0.012983203043084202] and parameters: {'max_depth': 5, 'eta': 0.2800896087362728, 'subsample': 0.9467919361560031, 'colsample_bytree': 0.7120749803610155}.\n",
      "[I 2025-05-15 16:51:36,803] Trial 27 finished with values: [0.6707226291459504, 0.012983203043084202] and parameters: {'max_depth': 6, 'eta': 0.25651520114664994, 'subsample': 0.8338473839045727, 'colsample_bytree': 0.7654266384743994}.\n",
      "[I 2025-05-15 16:51:36,915] Trial 28 finished with values: [0.6707226291459504, 0.012983203043084202] and parameters: {'max_depth': 3, 'eta': 0.16790640491641382, 'subsample': 0.9025034056881875, 'colsample_bytree': 0.9524132113701713}.\n",
      "[I 2025-05-15 16:51:37,032] Trial 29 finished with values: [0.6707226291459504, 0.012983203043084202] and parameters: {'max_depth': 4, 'eta': 0.09060440623098837, 'subsample': 0.6816957241971539, 'colsample_bytree': 0.8025911197978157}.\n",
      "[I 2025-05-15 16:51:37,143] Trial 30 finished with values: [0.6193292344830333, 0.023731962452922802] and parameters: {'max_depth': 7, 'eta': 0.19462086190319064, 'subsample': 0.6211371472807165, 'colsample_bytree': 0.8795959664449045}.\n",
      "[I 2025-05-15 16:51:37,255] Trial 31 finished with values: [0.6707226291459504, 0.012983203043084202] and parameters: {'max_depth': 4, 'eta': 0.08079060660439, 'subsample': 0.6963711508499357, 'colsample_bytree': 0.7499407093458597}.\n",
      "[I 2025-05-15 16:51:37,466] Trial 32 finished with values: [0.6707226291459504, 0.012983203043084202] and parameters: {'max_depth': 7, 'eta': 0.013757796423080577, 'subsample': 0.9369890877292265, 'colsample_bytree': 0.6394490024343064}.\n",
      "[I 2025-05-15 16:51:37,573] Trial 33 finished with values: [0.6707226291459504, 0.012983203043084202] and parameters: {'max_depth': 7, 'eta': 0.16518577436908724, 'subsample': 0.6927429213067263, 'colsample_bytree': 0.6477546915880426}.\n",
      "[I 2025-05-15 16:51:37,690] Trial 34 finished with values: [0.6707226291459504, 0.012983203043084202] and parameters: {'max_depth': 6, 'eta': 0.10733467859070273, 'subsample': 0.7285148564748514, 'colsample_bytree': 0.6733449450885963}.\n",
      "[I 2025-05-15 16:51:37,803] Trial 35 finished with values: [0.6707226291459504, 0.012983203043084202] and parameters: {'max_depth': 6, 'eta': 0.11050232450767195, 'subsample': 0.8048637052398271, 'colsample_bytree': 0.8177943661156124}.\n",
      "[I 2025-05-15 16:51:37,911] Trial 36 finished with values: [0.6707226291459504, 0.012983203043084202] and parameters: {'max_depth': 7, 'eta': 0.1489667385591582, 'subsample': 0.7498363400003699, 'colsample_bytree': 0.8504482168194656}.\n",
      "[I 2025-05-15 16:51:38,024] Trial 37 finished with values: [0.6707226291459504, 0.012983203043084202] and parameters: {'max_depth': 6, 'eta': 0.22018704355636592, 'subsample': 0.9187711374866825, 'colsample_bytree': 0.6939098551773364}.\n",
      "[I 2025-05-15 16:51:38,139] Trial 38 finished with values: [0.6707226291459504, 0.012983203043084202] and parameters: {'max_depth': 4, 'eta': 0.24315907059201441, 'subsample': 0.9643283774810799, 'colsample_bytree': 0.6422276124648124}.\n",
      "[I 2025-05-15 16:51:38,257] Trial 39 finished with values: [0.6678675256484485, 0.021274131276107517] and parameters: {'max_depth': 5, 'eta': 0.18934845086370347, 'subsample': 0.6627574212611916, 'colsample_bytree': 0.9946212714340343}.\n",
      "[I 2025-05-15 16:51:38,379] Trial 40 finished with values: [0.6707226291459504, 0.012983203043084202] and parameters: {'max_depth': 3, 'eta': 0.0831729668832929, 'subsample': 0.95734041897822, 'colsample_bytree': 0.6287652182599025}.\n",
      "[I 2025-05-15 16:51:38,485] Trial 41 finished with values: [0.6707226291459504, 0.012983203043084202] and parameters: {'max_depth': 4, 'eta': 0.2987651798250486, 'subsample': 0.939506097247597, 'colsample_bytree': 0.7987171050680364}.\n",
      "[I 2025-05-15 16:51:38,634] Trial 42 finished with values: [0.6707226291459504, 0.012983203043084202] and parameters: {'max_depth': 7, 'eta': 0.02863244759621636, 'subsample': 0.8303020969086019, 'colsample_bytree': 0.93106920447797}.\n",
      "[I 2025-05-15 16:51:38,737] Trial 43 finished with values: [0.6707226291459504, 0.012983203043084202] and parameters: {'max_depth': 4, 'eta': 0.27010273268730783, 'subsample': 0.7817122675046086, 'colsample_bytree': 0.8439360588709461}.\n",
      "[I 2025-05-15 16:51:38,841] Trial 44 finished with values: [0.6707226291459504, 0.012983203043084202] and parameters: {'max_depth': 7, 'eta': 0.1536317732235806, 'subsample': 0.7877655799326678, 'colsample_bytree': 0.7028752368516857}.\n",
      "[I 2025-05-15 16:51:38,951] Trial 45 finished with values: [0.6721532443104711, 0.010777523418049736] and parameters: {'max_depth': 5, 'eta': 0.2683675393092329, 'subsample': 0.7119320488481045, 'colsample_bytree': 0.8376311770838913}.\n",
      "[I 2025-05-15 16:51:39,074] Trial 46 finished with values: [0.6707226291459504, 0.012983203043084202] and parameters: {'max_depth': 6, 'eta': 0.05759124461052536, 'subsample': 0.9639913020032664, 'colsample_bytree': 0.7151338176111073}.\n",
      "[I 2025-05-15 16:51:39,184] Trial 47 finished with values: [0.6721532443104711, 0.010777523418049736] and parameters: {'max_depth': 6, 'eta': 0.2890405043409616, 'subsample': 0.7002398330368974, 'colsample_bytree': 0.851241500949602}.\n",
      "[I 2025-05-15 16:51:39,290] Trial 48 finished with values: [0.6714379367282106, 0.012914275554801865] and parameters: {'max_depth': 4, 'eta': 0.13198813789624844, 'subsample': 0.6517282270297597, 'colsample_bytree': 0.6988915134313847}.\n",
      "[I 2025-05-15 16:51:39,390] Trial 49 finished with values: [0.5450705045139431, 0.002522746071133166] and parameters: {'max_depth': 6, 'eta': 0.09616364424935556, 'subsample': 0.6045239477104827, 'colsample_bytree': 0.6154240778529764}.\n",
      "[I 2025-05-15 16:51:39,400] A new study created in memory with name: no-name-c3eeca3a-a433-4792-9461-58e765b03144\n",
      "[I 2025-05-15 16:51:39,513] Trial 0 finished with values: [0.6707226291459504, 0.012983203043084202] and parameters: {'max_depth': 6, 'eta': 0.17343102795765752, 'subsample': 0.837965539920174, 'colsample_bytree': 0.9319914663987161}.\n"
     ]
    },
    {
     "name": "stdout",
     "output_type": "stream",
     "text": [
      "Completed study for alpha=0.021955490112304688\n",
      "19\n"
     ]
    },
    {
     "name": "stderr",
     "output_type": "stream",
     "text": [
      "[I 2025-05-15 16:51:39,618] Trial 1 finished with values: [0.6707226291459504, 0.012983203043084202] and parameters: {'max_depth': 5, 'eta': 0.1615306409529793, 'subsample': 0.9861369070972635, 'colsample_bytree': 0.8428728967737957}.\n",
      "[I 2025-05-15 16:51:39,728] Trial 2 finished with values: [0.6607297669046941, 0.025165936256544008] and parameters: {'max_depth': 6, 'eta': 0.21185315801615404, 'subsample': 0.6580581699186204, 'colsample_bytree': 0.7598215670205795}.\n",
      "[I 2025-05-15 16:51:39,835] Trial 3 finished with values: [0.5922057512567663, 0.011420900198076733] and parameters: {'max_depth': 7, 'eta': 0.17862026002616652, 'subsample': 0.6087143319361482, 'colsample_bytree': 0.9232843240126506}.\n",
      "[I 2025-05-15 16:51:39,954] Trial 4 finished with values: [0.6707226291459504, 0.012983203043084202] and parameters: {'max_depth': 3, 'eta': 0.059185425361644714, 'subsample': 0.8852612468458297, 'colsample_bytree': 0.9238479930822426}.\n",
      "[I 2025-05-15 16:51:40,057] Trial 5 finished with values: [0.6707226291459504, 0.012983203043084202] and parameters: {'max_depth': 4, 'eta': 0.13577630897574813, 'subsample': 0.9927713817620879, 'colsample_bytree': 0.8159530026575346}.\n",
      "[I 2025-05-15 16:51:40,168] Trial 6 finished with values: [0.6707226291459504, 0.012983203043084202] and parameters: {'max_depth': 4, 'eta': 0.260277032162359, 'subsample': 0.9157676513958636, 'colsample_bytree': 0.7126711512293992}.\n",
      "[I 2025-05-15 16:51:40,273] Trial 7 finished with values: [0.6707226291459504, 0.012983203043084202] and parameters: {'max_depth': 4, 'eta': 0.17947618012998567, 'subsample': 0.9862714871690657, 'colsample_bytree': 0.7597826786175844}.\n",
      "[I 2025-05-15 16:51:40,415] Trial 8 finished with values: [0.5000061268315397, 0.0] and parameters: {'max_depth': 3, 'eta': 0.02654027016405145, 'subsample': 0.6068750104934804, 'colsample_bytree': 0.6441018243848848}.\n",
      "[I 2025-05-15 16:51:40,544] Trial 9 finished with values: [0.6707226291459504, 0.012983203043084202] and parameters: {'max_depth': 7, 'eta': 0.05541544242380968, 'subsample': 0.9799080538192573, 'colsample_bytree': 0.6225252666494638}.\n",
      "[I 2025-05-15 16:51:40,799] Trial 10 finished with values: [0.6707226291459504, 0.012983203043084202] and parameters: {'max_depth': 6, 'eta': 0.010022700530670623, 'subsample': 0.8740914931868373, 'colsample_bytree': 0.6222333608001628}.\n",
      "[I 2025-05-15 16:51:40,915] Trial 11 finished with values: [0.5422092741849016, 0.004990350151640473] and parameters: {'max_depth': 4, 'eta': 0.1031787569479616, 'subsample': 0.6171917038400913, 'colsample_bytree': 0.714977442020626}.\n",
      "[I 2025-05-15 16:51:41,019] Trial 12 finished with values: [0.6707226291459504, 0.012983203043084202] and parameters: {'max_depth': 5, 'eta': 0.1758567530506534, 'subsample': 0.7926120458705587, 'colsample_bytree': 0.8759626881787376}.\n",
      "[I 2025-05-15 16:51:41,173] Trial 13 finished with values: [0.6707226291459504, 0.012983203043084202] and parameters: {'max_depth': 7, 'eta': 0.021010382055249778, 'subsample': 0.6748792311392362, 'colsample_bytree': 0.7632993874519747}.\n",
      "[I 2025-05-15 16:51:41,350] Trial 14 finished with values: [0.6707226291459504, 0.012983203043084202] and parameters: {'max_depth': 6, 'eta': 0.02761676196611665, 'subsample': 0.8170719949185726, 'colsample_bytree': 0.6737743996297157}.\n",
      "[I 2025-05-15 16:51:41,455] Trial 15 finished with values: [0.6707226291459504, 0.012983203043084202] and parameters: {'max_depth': 3, 'eta': 0.26228368791886103, 'subsample': 0.8294706196651574, 'colsample_bytree': 0.6893767687175799}.\n",
      "[I 2025-05-15 16:51:41,621] Trial 16 finished with values: [0.6386027147990553, 0.03776236717345002] and parameters: {'max_depth': 7, 'eta': 0.025146589300653673, 'subsample': 0.641359204891091, 'colsample_bytree': 0.6261477340099257}.\n",
      "[I 2025-05-15 16:51:41,724] Trial 17 finished with values: [0.6707226291459504, 0.012983203043084202] and parameters: {'max_depth': 3, 'eta': 0.26260280218437054, 'subsample': 0.9562904820893675, 'colsample_bytree': 0.8666124888144839}.\n",
      "[I 2025-05-15 16:51:41,838] Trial 18 finished with values: [0.6707226291459504, 0.012983203043084202] and parameters: {'max_depth': 4, 'eta': 0.2681737011352546, 'subsample': 0.9268883059312065, 'colsample_bytree': 0.7302582921894961}.\n",
      "[I 2025-05-15 16:51:41,955] Trial 19 finished with values: [0.6707226291459504, 0.012983203043084202] and parameters: {'max_depth': 5, 'eta': 0.16837101669022994, 'subsample': 0.7922300387655041, 'colsample_bytree': 0.7265398914241004}.\n",
      "[I 2025-05-15 16:51:42,071] Trial 20 finished with values: [0.6707226291459504, 0.012983203043084202] and parameters: {'max_depth': 4, 'eta': 0.12490083129592104, 'subsample': 0.9464082577099918, 'colsample_bytree': 0.7912977539313741}.\n",
      "[I 2025-05-15 16:51:42,203] Trial 21 finished with values: [0.6707226291459504, 0.012983203043084202] and parameters: {'max_depth': 4, 'eta': 0.047687476315695726, 'subsample': 0.9583996998630686, 'colsample_bytree': 0.7023046697941876}.\n",
      "[I 2025-05-15 16:51:42,315] Trial 22 finished with values: [0.6714379367282106, 0.012914275554801865] and parameters: {'max_depth': 4, 'eta': 0.19319743570077225, 'subsample': 0.6691686696884148, 'colsample_bytree': 0.7020543588191605}.\n",
      "[I 2025-05-15 16:51:42,416] Trial 23 finished with values: [0.6707226291459504, 0.012983203043084202] and parameters: {'max_depth': 7, 'eta': 0.24963538371140756, 'subsample': 0.7077611447760032, 'colsample_bytree': 0.9951530068492973}.\n",
      "[I 2025-05-15 16:51:42,516] Trial 24 finished with values: [0.667153749774073, 0.011713283744407388] and parameters: {'max_depth': 4, 'eta': 0.2099201838251012, 'subsample': 0.6472674255566807, 'colsample_bytree': 0.7686456348146617}.\n",
      "[I 2025-05-15 16:51:42,620] Trial 25 finished with values: [0.6707226291459504, 0.012983203043084202] and parameters: {'max_depth': 7, 'eta': 0.14546419585451953, 'subsample': 0.7377915956797442, 'colsample_bytree': 0.9637949667725881}.\n",
      "[I 2025-05-15 16:51:42,772] Trial 26 finished with values: [0.6707226291459504, 0.012983203043084202] and parameters: {'max_depth': 4, 'eta': 0.023764855271658177, 'subsample': 0.7999694674974691, 'colsample_bytree': 0.9316860544194238}.\n",
      "[I 2025-05-15 16:51:42,872] Trial 27 finished with values: [0.6721532443104711, 0.010777523418049736] and parameters: {'max_depth': 6, 'eta': 0.28161114307311047, 'subsample': 0.7482968146871207, 'colsample_bytree': 0.727076256015629}.\n",
      "[I 2025-05-15 16:51:42,978] Trial 28 finished with values: [0.6728685518927314, 0.008640771281297588] and parameters: {'max_depth': 5, 'eta': 0.26759415471745795, 'subsample': 0.7541433227382053, 'colsample_bytree': 0.9628295262473414}.\n",
      "[I 2025-05-15 16:51:43,138] Trial 29 finished with values: [0.6707226291459504, 0.012983203043084202] and parameters: {'max_depth': 3, 'eta': 0.02456525135791905, 'subsample': 0.7525297480357276, 'colsample_bytree': 0.9915673080681014}.\n",
      "[I 2025-05-15 16:51:43,259] Trial 30 finished with values: [0.6707226291459504, 0.012983203043084202] and parameters: {'max_depth': 3, 'eta': 0.07533514899364344, 'subsample': 0.8670395962518815, 'colsample_bytree': 0.6640182666812288}.\n",
      "[I 2025-05-15 16:51:43,371] Trial 31 finished with values: [0.6707226291459504, 0.012983203043084202] and parameters: {'max_depth': 7, 'eta': 0.14859561597094895, 'subsample': 0.8705155579931443, 'colsample_bytree': 0.8615612126825294}.\n",
      "[I 2025-05-15 16:51:43,479] Trial 32 finished with values: [0.6707226291459504, 0.012983203043084202] and parameters: {'max_depth': 4, 'eta': 0.25352957302129603, 'subsample': 0.7224258073988855, 'colsample_bytree': 0.784560741773361}.\n",
      "[I 2025-05-15 16:51:43,628] Trial 33 finished with values: [0.6707226291459504, 0.012983203043084202] and parameters: {'max_depth': 5, 'eta': 0.031846815126083394, 'subsample': 0.9724183046690683, 'colsample_bytree': 0.8840011046566512}.\n",
      "[I 2025-05-15 16:51:43,731] Trial 34 finished with values: [0.6707226291459504, 0.012983203043084202] and parameters: {'max_depth': 5, 'eta': 0.23201147089084215, 'subsample': 0.7193567645414924, 'colsample_bytree': 0.8072410804232463}.\n",
      "[I 2025-05-15 16:51:43,856] Trial 35 finished with values: [0.6707226291459504, 0.012983203043084202] and parameters: {'max_depth': 4, 'eta': 0.0646192313978785, 'subsample': 0.8589599606108327, 'colsample_bytree': 0.6376680876531772}.\n",
      "[I 2025-05-15 16:51:43,965] Trial 36 finished with values: [0.6707226291459504, 0.012983203043084202] and parameters: {'max_depth': 4, 'eta': 0.28109546929430207, 'subsample': 0.8725551151828393, 'colsample_bytree': 0.9654261482697359}.\n",
      "[I 2025-05-15 16:51:44,074] Trial 37 finished with values: [0.655731804076181, 0.01839157846262422] and parameters: {'max_depth': 7, 'eta': 0.2892898646065538, 'subsample': 0.635839096457903, 'colsample_bytree': 0.9360049554666419}.\n",
      "[I 2025-05-15 16:51:44,197] Trial 38 finished with values: [0.6707226291459504, 0.012983203043084202] and parameters: {'max_depth': 3, 'eta': 0.09366777441650026, 'subsample': 0.8052638607204031, 'colsample_bytree': 0.8480515600893579}.\n",
      "[I 2025-05-15 16:51:44,303] Trial 39 finished with values: [0.6707226291459504, 0.012983203043084202] and parameters: {'max_depth': 3, 'eta': 0.15746307938608173, 'subsample': 0.7969922032348363, 'colsample_bytree': 0.7756379561138619}.\n",
      "[I 2025-05-15 16:51:44,420] Trial 40 finished with values: [0.660731298612579, 0.01754333622417223] and parameters: {'max_depth': 3, 'eta': 0.11847532017732047, 'subsample': 0.6473351462820176, 'colsample_bytree': 0.6498585122975576}.\n",
      "[I 2025-05-15 16:51:44,532] Trial 41 finished with values: [0.6714379367282106, 0.012914275554801865] and parameters: {'max_depth': 7, 'eta': 0.27178778841169354, 'subsample': 0.676399685678042, 'colsample_bytree': 0.7873873337146061}.\n",
      "[I 2025-05-15 16:51:44,657] Trial 42 finished with values: [0.6707226291459504, 0.012983203043084202] and parameters: {'max_depth': 4, 'eta': 0.09674506346471384, 'subsample': 0.8233614648310541, 'colsample_bytree': 0.663284469207088}.\n",
      "[I 2025-05-15 16:51:44,760] Trial 43 finished with values: [0.6707226291459504, 0.012983203043084202] and parameters: {'max_depth': 5, 'eta': 0.12023549816939166, 'subsample': 0.7130285997118275, 'colsample_bytree': 0.9647546135462953}.\n",
      "[I 2025-05-15 16:51:44,878] Trial 44 finished with values: [0.6707226291459504, 0.012983203043084202] and parameters: {'max_depth': 7, 'eta': 0.06077285767969345, 'subsample': 0.8367112167662164, 'colsample_bytree': 0.7340968143589197}.\n",
      "[I 2025-05-15 16:51:44,993] Trial 45 finished with values: [0.6707226291459504, 0.012983203043084202] and parameters: {'max_depth': 6, 'eta': 0.10636560271623584, 'subsample': 0.930345330523372, 'colsample_bytree': 0.8970233169240156}.\n",
      "[I 2025-05-15 16:51:45,114] Trial 46 finished with values: [0.6707226291459504, 0.012983203043084202] and parameters: {'max_depth': 4, 'eta': 0.06602364342155852, 'subsample': 0.6721122857826582, 'colsample_bytree': 0.929917404209133}.\n",
      "[I 2025-05-15 16:51:45,223] Trial 47 finished with values: [0.6692966091050844, 0.022221463950426807] and parameters: {'max_depth': 3, 'eta': 0.27342451415783176, 'subsample': 0.6705784884308735, 'colsample_bytree': 0.685557444531586}.\n",
      "[I 2025-05-15 16:51:45,322] Trial 48 finished with values: [0.5572307334123695, 0.002757099531293087] and parameters: {'max_depth': 4, 'eta': 0.11576852924770092, 'subsample': 0.6119626473305996, 'colsample_bytree': 0.997673794715702}.\n",
      "[I 2025-05-15 16:51:45,453] Trial 49 finished with values: [0.6707226291459504, 0.012983203043084202] and parameters: {'max_depth': 3, 'eta': 0.0665100304608394, 'subsample': 0.777916416812735, 'colsample_bytree': 0.9202136718712945}.\n"
     ]
    },
    {
     "name": "stdout",
     "output_type": "stream",
     "text": [
      "Completed study for alpha=0.021956443786621094\n",
      "Pareto-optimal solutions:\n",
      "Params: {'alpha': 0, 'max_depth': 7, 'eta': 0.22571785870579533, 'subsample': 0.7549245617609082, 'colsample_bytree': 0.8564068669101881}, Accuracy: 0.5000, DPD: 0.0000\n",
      "Params: {'alpha': 0.015625, 'max_depth': 7, 'eta': 0.14688225355269602, 'subsample': 0.8561928535368462, 'colsample_bytree': 0.7885165329373263}, Accuracy: 0.5264, DPD: 0.0001\n",
      "Params: {'alpha': 0.01953125, 'max_depth': 7, 'eta': 0.2488700352293079, 'subsample': 0.6385395752585328, 'colsample_bytree': 0.8340665174347298}, Accuracy: 0.5000, DPD: 0.0000\n",
      "Params: {'alpha': 0.021484375, 'max_depth': 3, 'eta': 0.0472164139827578, 'subsample': 0.6138702636232714, 'colsample_bytree': 0.7448819581306698}, Accuracy: 0.5000, DPD: 0.0000\n",
      "Params: {'alpha': 0.021728515625, 'max_depth': 5, 'eta': 0.018658643342671855, 'subsample': 0.6072812903877419, 'colsample_bytree': 0.9270656391411835}, Accuracy: 0.5000, DPD: 0.0000\n",
      "Params: {'alpha': 0.0218505859375, 'max_depth': 6, 'eta': 0.11693864089772092, 'subsample': 0.6190402863801178, 'colsample_bytree': 0.6691909039872869}, Accuracy: 0.5436, DPD: 0.0007\n",
      "Params: {'alpha': 0.02191162109375, 'max_depth': 4, 'eta': 0.03531393804188504, 'subsample': 0.6104072006248322, 'colsample_bytree': 0.9189365249754959}, Accuracy: 0.5000, DPD: 0.0000\n",
      "Params: {'alpha': 0.02194976806640625, 'max_depth': 5, 'eta': 0.15231712888515223, 'subsample': 0.6149596402050547, 'colsample_bytree': 0.8575003568989616}, Accuracy: 0.5522, DPD: 0.0037\n",
      "Params: {'alpha': 0.021953582763671875, 'max_depth': 5, 'eta': 0.015696841796946838, 'subsample': 0.6178238703591031, 'colsample_bytree': 0.7610431825696458}, Accuracy: 0.5000, DPD: 0.0000\n",
      "Params: {'alpha': 0.021955490112304688, 'max_depth': 6, 'eta': 0.09616364424935556, 'subsample': 0.6045239477104827, 'colsample_bytree': 0.6154240778529764}, Accuracy: 0.5451, DPD: 0.0025\n",
      "Params: {'alpha': 0.0219573974609375, 'max_depth': 3, 'eta': 0.24653218499669183, 'subsample': 0.7487530658721625, 'colsample_bytree': 0.9980390134722956}, Accuracy: 0.6729, DPD: 0.0086\n",
      "Params: {'alpha': 0.0234375, 'max_depth': 5, 'eta': 0.2711518160119915, 'subsample': 0.6883770496703494, 'colsample_bytree': 0.7542800745475702}, Accuracy: 0.6729, DPD: 0.0086\n",
      "Params: {'alpha': 0.03125, 'max_depth': 3, 'eta': 0.28590708320208996, 'subsample': 0.6156565415701652, 'colsample_bytree': 0.6458828220321465}, Accuracy: 0.6729, DPD: 0.0086\n",
      "Params: {'alpha': 0.125, 'max_depth': 4, 'eta': 0.07393683942047642, 'subsample': 0.755031624608786, 'colsample_bytree': 0.8951071748065353}, Accuracy: 0.6607, DPD: 0.0079\n",
      "Params: {'alpha': 0.5, 'max_depth': 7, 'eta': 0.1681939775420626, 'subsample': 0.8617106495597613, 'colsample_bytree': 0.6415466840405483}, Accuracy: 0.6857, DPD: 0.0378\n",
      "Params: {'alpha': 0.021956443786621094, 'max_depth': 3, 'eta': 0.02654027016405145, 'subsample': 0.6068750104934804, 'colsample_bytree': 0.6441018243848848}, Accuracy: 0.5000, DPD: 0.0000\n"
     ]
    }
   ],
   "source": [
    "\n",
    "# Create and run Optuna study for multi-objective optimization\n",
    "\n",
    "def test_loss(a,dpd,accuracy):\n",
    "    return (1-a)*(1-dpd) + a*accuracy\n",
    "\n",
    "def is_pareto_efficient(acc, dpd):\n",
    "    n_points = len(acc)\n",
    "    is_efficient = [True] * n_points\n",
    "    for i in range(n_points):\n",
    "        for j in range(n_points):\n",
    "            if (acc[j] >= acc[i] and dpd[j] <= dpd[i]) and (acc[j] > acc[i] or dpd[j] < dpd[i]):\n",
    "                is_efficient[i] = False\n",
    "                break\n",
    "    return is_efficient\n",
    "\n",
    "def normalise(value, min_val, max_val):\n",
    "    return (value - min_val) / (max_val - min_val)\n",
    "#adaptive weights based on distance\n",
    "\n",
    "results = []\n",
    "trials_per_alpha = 50\n",
    "study = optuna.create_study(directions=['maximize', 'minimize'])\n",
    "objective = create_objective_function(alpha=0)  # Example alpha value\n",
    "study.optimize(objective, n_trials=trials_per_alpha)\n",
    "print(f\"Completed study for alpha=0\")\n",
    "max_val = 0\n",
    "for trial in study.best_trials:\n",
    "    val = test_loss(alpha,trial.values[1],trial.values[0])\n",
    "    if val > max_val:\n",
    "        max_val = val\n",
    "        best_trial = trial\n",
    "results.append({\n",
    "    'accuracy': best_trial.values[0],\n",
    "    'dpd': best_trial.values[1],\n",
    "    'alpha': 0,\n",
    "    'params': best_trial.user_attrs['params']\n",
    "    })\n",
    "study = optuna.create_study(directions=['maximize', 'minimize'])\n",
    "objective = create_objective_function(alpha=1)  # Example alpha value\n",
    "study.optimize(objective, n_trials=trials_per_alpha)\n",
    "print(f\"Completed study for alpha=1\")\n",
    "max_val = 0\n",
    "for trial in study.best_trials:\n",
    "    val = test_loss(alpha,trial.values[1],trial.values[0])\n",
    "    if val > max_val:\n",
    "        max_val = val\n",
    "        best_trial = trial\n",
    "results.append({\n",
    "    'accuracy': best_trial.values[0],\n",
    "    'dpd': best_trial.values[1],\n",
    "    'alpha': 1,\n",
    "    'params': best_trial.user_attrs['params']\n",
    "})\n",
    "print(results)\n",
    "\n",
    "max_acc = max([res['accuracy'] for res in results])\n",
    "max_dpd = max([res['dpd'] for res in results])\n",
    "min_acc = min([res['accuracy'] for res in results])\n",
    "min_dpd = min([res['dpd'] for res in results])\n",
    "count_alpha = 20\n",
    "\n",
    "\n",
    "\n",
    "for i in range(count_alpha):\n",
    "    print(i)\n",
    "    \n",
    "    results.sort(key=lambda x: x['alpha'])\n",
    "    max_dist = 0\n",
    "    for i in range(len(results)-1):\n",
    "        acc_dist = (normalise(results[i]['accuracy'],min_acc,max_acc)-normalise(results[i+1]['accuracy'],min_acc,max_acc))**2\n",
    "        dpd_dist = (normalise(results[i]['dpd'],min_dpd,max_dpd)-normalise(results[i+1]['dpd'],min_dpd,max_dpd))**2\n",
    "\n",
    "        dist = np.sqrt(acc_dist + dpd_dist)\n",
    "        if dist > max_dist:\n",
    "            max_dist = dist\n",
    "            alpha = (results[i]['alpha']+results[i+1]['alpha'])/2\n",
    "    study = optuna.create_study(directions=['maximize', 'minimize'])\n",
    "    objective = create_objective_function(alpha=alpha)  # Example alpha value\n",
    "    study.optimize(objective, n_trials=trials_per_alpha)\n",
    "    print(f\"Completed study for alpha={alpha}\")\n",
    "    max_val = 0\n",
    "    for trial in study.best_trials:\n",
    "        val = test_loss(alpha,trial.values[1],trial.values[0])\n",
    "        if val > max_val:\n",
    "            max_val = val\n",
    "            best_trial = trial\n",
    "        \n",
    "    results.append({\n",
    "        'accuracy': best_trial.values[0],\n",
    "        'dpd': best_trial.values[1],\n",
    "        'alpha': alpha,\n",
    "        'params': best_trial.user_attrs['params']\n",
    "    })\n",
    "    max_acc = max(max_acc, best_trial.values[0])\n",
    "    max_dpd = max(max_dpd, best_trial.values[1])\n",
    "    min_acc = min(min_acc, best_trial.values[0])\n",
    "    min_dpd = min(min_dpd, best_trial.values[1])\n",
    "acc = [res['accuracy'] for res in results]\n",
    "dpd = [res['dpd'] for res in results]\n",
    "is_efficient = is_pareto_efficient(acc, dpd)\n",
    "# Filter results to only include Pareto-optimal solutions\n",
    "results = [res for res, efficient in zip(results, is_efficient) if efficient]\n",
    "    \n",
    "\n",
    "# Print summary of Pareto-optimal results\n",
    "print(\"Pareto-optimal solutions:\")\n",
    "for res in results:\n",
    "    print(f\"Params: {res['params']}, Accuracy: {res['accuracy']:.4f}, DPD: {res['dpd']:.4f}\")\n",
    "\n",
    "# Prepare data for plotting\n",
    "plot_df = pd.DataFrame({\n",
    "    'DPD': [res['dpd'] for res in results],\n",
    "    'Accuracy': [res['accuracy'] for res in results],\n",
    "    'alpha': [res['alpha'] for res in results]\n",
    "})\n",
    "\n"
   ]
  },
  {
   "cell_type": "code",
   "execution_count": null,
   "id": "644a8c00",
   "metadata": {},
   "outputs": [],
   "source": []
  }
 ],
 "metadata": {
  "kernelspec": {
   "display_name": "env",
   "language": "python",
   "name": "python3"
  },
  "language_info": {
   "codemirror_mode": {
    "name": "ipython",
    "version": 3
   },
   "file_extension": ".py",
   "mimetype": "text/x-python",
   "name": "python",
   "nbconvert_exporter": "python",
   "pygments_lexer": "ipython3",
   "version": "3.13.2"
  }
 },
 "nbformat": 4,
 "nbformat_minor": 5
}
