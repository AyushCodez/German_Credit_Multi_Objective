{
 "cells": [
  {
   "cell_type": "code",
   "execution_count": 1,
   "id": "0fdd19d9",
   "metadata": {},
   "outputs": [
    {
     "name": "stderr",
     "output_type": "stream",
     "text": [
      "c:\\Users\\priya\\OneDrive\\Desktop\\German_Credit_Multi_Objective\\env\\Lib\\site-packages\\tqdm\\auto.py:21: TqdmWarning: IProgress not found. Please update jupyter and ipywidgets. See https://ipywidgets.readthedocs.io/en/stable/user_install.html\n",
      "  from .autonotebook import tqdm as notebook_tqdm\n"
     ]
    }
   ],
   "source": [
    "import numpy as np\n",
    "import pandas as pd\n",
    "import xgboost as xgb\n",
    "from sklearn.model_selection import KFold\n",
    "from sklearn.metrics import accuracy_score\n",
    "import optuna\n",
    "import plotly.express as px\n",
    "\n",
    "# Load and prepare data\n",
    "DATA_PATH = 'german_credit_data_cleaned.csv'\n",
    "df = pd.read_csv(DATA_PATH)\n",
    "y = df['Risk_good'].values\n",
    "X_full = df.drop(columns=['Risk_good'])\n",
    "sensitive = df['Sex_male'].values\n",
    "\n"
   ]
  },
  {
   "cell_type": "code",
   "execution_count": 2,
   "id": "fe121556",
   "metadata": {},
   "outputs": [],
   "source": [
    "# Define the custom objective function factory\n",
    "def make_custom_obj(sens_array, alpha=0.5):\n",
    "    def custom_obj(preds, dmatrix):\n",
    "        labels = dmatrix.get_label()\n",
    "        preds_prob = 1.0 / (1.0 + np.exp(-preds))\n",
    "        grad_log = preds_prob - labels\n",
    "        hess_log = preds_prob * (1.0 - preds_prob)\n",
    "        mask_p = (sens_array == 1)\n",
    "        mask_u = (sens_array == 0)\n",
    "        n_p, n_u = mask_p.sum(), mask_u.sum()\n",
    "        mean_p = preds_prob[mask_p].mean() if n_p > 0 else 0\n",
    "        mean_u = preds_prob[mask_u].mean() if n_u > 0 else 0\n",
    "        diff = mean_p - mean_u\n",
    "        sign = np.sign(diff)\n",
    "        sigmoid_deriv = preds_prob * (1.0 - preds_prob)\n",
    "        grad_fair = np.zeros_like(preds)\n",
    "        grad_fair[mask_p] = sign * (1.0 / n_p) * sigmoid_deriv[mask_p] if n_p > 0 else 0\n",
    "        grad_fair[mask_u] = -sign * (1.0 / n_u) * sigmoid_deriv[mask_u] if n_u > 0 else 0\n",
    "        hess_fair = np.zeros_like(preds)\n",
    "        grad = alpha * grad_log + (1 - alpha) * grad_fair\n",
    "        hess = alpha * hess_log + (1 - alpha) * hess_fair\n",
    "        return grad, hess\n",
    "    return custom_obj\n",
    "\n",
    "# Define the objective function for Optuna\n",
    "\n",
    "def create_objective_function(alpha):\n",
    "    def objective(trial):\n",
    "        # Suggest hyperparameters\n",
    "        # alpha = trial.suggest_float('alpha', 0.0, 1.0)\n",
    "        max_depth = trial.suggest_int('max_depth', 3, 7)\n",
    "        eta = trial.suggest_float('eta', 0.01, 0.3)\n",
    "        subsample = trial.suggest_float('subsample', 0.6, 1.0)\n",
    "        colsample_bytree = trial.suggest_float('colsample_bytree', 0.6, 1.0)\n",
    "\n",
    "        # Initialize cross-validation\n",
    "        kf = KFold(n_splits=3, shuffle=True, random_state=42)\n",
    "        acc_scores = []\n",
    "        dpd_scores = []\n",
    "\n",
    "        # Perform 3-fold cross-validation\n",
    "        for train_idx, val_idx in kf.split(X_full):\n",
    "            # Split data\n",
    "            X_train = X_full.iloc[train_idx].drop(columns=['Sex_male']).values\n",
    "            y_train = y[train_idx]\n",
    "            sens_train = sensitive[train_idx]\n",
    "            X_val = X_full.iloc[val_idx].drop(columns=['Sex_male']).values\n",
    "            y_val = y[val_idx]\n",
    "            sens_val = sensitive[val_idx]\n",
    "\n",
    "            # Create custom objective\n",
    "            train_obj = make_custom_obj(sens_train, alpha=alpha)\n",
    "\n",
    "            # Set up DMatrix\n",
    "            dtrain = xgb.DMatrix(X_train, label=y_train)\n",
    "            dval = xgb.DMatrix(X_val, label=y_val)\n",
    "\n",
    "            # Train the model\n",
    "            params = {\n",
    "                'max_depth': max_depth,\n",
    "                'eta': eta,\n",
    "                'subsample': subsample,\n",
    "                'colsample_bytree': colsample_bytree,\n",
    "                'verbosity': 0\n",
    "            }\n",
    "            bst = xgb.train(\n",
    "                params,\n",
    "                dtrain,\n",
    "                num_boost_round=100,\n",
    "                obj=train_obj,\n",
    "                evals=[(dtrain, 'train'), (dval, 'val')],\n",
    "                early_stopping_rounds=10,\n",
    "                verbose_eval=False\n",
    "            )\n",
    "\n",
    "            # Predict on validation set\n",
    "            pred_prob = bst.predict(dval)\n",
    "            pred = (pred_prob > 0.5).astype(int)\n",
    "\n",
    "            # Compute accuracy and DPD\n",
    "            acc = accuracy_score(y_val, pred)\n",
    "            dpd_val = abs(pred[sens_val == 1].mean() - pred[sens_val == 0].mean())\n",
    "            acc_scores.append(acc)\n",
    "            dpd_scores.append(dpd_val)\n",
    "\n",
    "        # Compute mean metrics across folds\n",
    "        mean_acc = np.mean(acc_scores)\n",
    "        mean_dpd = np.mean(dpd_scores)\n",
    "\n",
    "        # Store metrics for analysis\n",
    "        trial.set_user_attr('accuracy', mean_acc)\n",
    "        trial.set_user_attr('dpd', mean_dpd)\n",
    "        trial.set_user_attr('params', {\n",
    "            'alpha': alpha,\n",
    "            'max_depth': max_depth,\n",
    "            'eta': eta,\n",
    "            'subsample': subsample,\n",
    "            'colsample_bytree': colsample_bytree\n",
    "        })\n",
    "\n",
    "        return mean_acc, mean_dpd\n",
    "    return objective\n"
   ]
  },
  {
   "cell_type": "code",
   "execution_count": 3,
   "id": "b26f54e6",
   "metadata": {},
   "outputs": [
    {
     "name": "stderr",
     "output_type": "stream",
     "text": [
      "[I 2025-05-16 11:10:21,667] A new study created in memory with name: no-name-86e875c0-a5c6-4471-9d0a-526118ea8f01\n",
      "[I 2025-05-16 11:10:22,046] Trial 0 finished with values: [0.5000061268315397, 0.0] and parameters: {'max_depth': 7, 'eta': 0.026254334030813502, 'subsample': 0.7195394620484923, 'colsample_bytree': 0.6581935173790406}.\n",
      "[I 2025-05-16 11:10:22,116] Trial 1 finished with values: [0.5000061268315397, 0.0] and parameters: {'max_depth': 6, 'eta': 0.07066179061078347, 'subsample': 0.7521668970821306, 'colsample_bytree': 0.993680904362854}.\n",
      "[I 2025-05-16 11:10:22,193] Trial 2 finished with values: [0.5000061268315397, 0.0] and parameters: {'max_depth': 5, 'eta': 0.01179558371066809, 'subsample': 0.7513472931895306, 'colsample_bytree': 0.9469945747362926}.\n",
      "[I 2025-05-16 11:10:22,269] Trial 3 finished with values: [0.5000061268315397, 0.0] and parameters: {'max_depth': 3, 'eta': 0.2611482024532094, 'subsample': 0.7471789470029445, 'colsample_bytree': 0.8731524996570348}.\n",
      "[I 2025-05-16 11:10:22,352] Trial 4 finished with values: [0.5000061268315397, 0.0] and parameters: {'max_depth': 6, 'eta': 0.0178941755913141, 'subsample': 0.8178680514263761, 'colsample_bytree': 0.7112204587981665}.\n",
      "[I 2025-05-16 11:10:22,430] Trial 5 finished with values: [0.5000061268315397, 0.0] and parameters: {'max_depth': 3, 'eta': 0.05836831284999556, 'subsample': 0.680456480236245, 'colsample_bytree': 0.9735544883065292}.\n",
      "[I 2025-05-16 11:10:22,515] Trial 6 finished with values: [0.5000061268315397, 0.0] and parameters: {'max_depth': 4, 'eta': 0.16620848609437525, 'subsample': 0.7228902856103085, 'colsample_bytree': 0.9225466618180009}.\n",
      "[I 2025-05-16 11:10:22,598] Trial 7 finished with values: [0.5000061268315397, 0.0] and parameters: {'max_depth': 6, 'eta': 0.2597970759537188, 'subsample': 0.895456415651096, 'colsample_bytree': 0.7504687521199864}.\n",
      "[I 2025-05-16 11:10:22,680] Trial 8 finished with values: [0.5000061268315397, 0.0] and parameters: {'max_depth': 6, 'eta': 0.1957707654042045, 'subsample': 0.6341985486337554, 'colsample_bytree': 0.8715904817265612}.\n",
      "[I 2025-05-16 11:10:22,762] Trial 9 finished with values: [0.5000061268315397, 0.0] and parameters: {'max_depth': 3, 'eta': 0.1524774896670213, 'subsample': 0.8601972241580096, 'colsample_bytree': 0.9076481684702714}.\n",
      "[I 2025-05-16 11:10:22,767] A new study created in memory with name: no-name-b1d74d48-b7e6-4f65-8167-4e029d43cc5f\n",
      "[I 2025-05-16 11:10:22,857] Trial 0 finished with values: [0.5000061268315397, 0.0] and parameters: {'max_depth': 5, 'eta': 0.1307778537955426, 'subsample': 0.8981798914612369, 'colsample_bytree': 0.8371454048093636}.\n",
      "[I 2025-05-16 11:10:22,939] Trial 1 finished with values: [0.5000061268315397, 0.0] and parameters: {'max_depth': 5, 'eta': 0.2997185339391712, 'subsample': 0.9850578463960447, 'colsample_bytree': 0.7213585730125349}.\n"
     ]
    },
    {
     "name": "stdout",
     "output_type": "stream",
     "text": [
      "Completed study for alpha=0.0\n"
     ]
    },
    {
     "name": "stderr",
     "output_type": "stream",
     "text": [
      "[I 2025-05-16 11:10:23,019] Trial 2 finished with values: [0.5000061268315397, 0.0] and parameters: {'max_depth': 3, 'eta': 0.13539512907416912, 'subsample': 0.6467310986130091, 'colsample_bytree': 0.6111933413459553}.\n",
      "[I 2025-05-16 11:10:23,103] Trial 3 finished with values: [0.5000061268315397, 0.0] and parameters: {'max_depth': 6, 'eta': 0.21426387012325546, 'subsample': 0.7121491077544685, 'colsample_bytree': 0.7973895174774241}.\n",
      "[I 2025-05-16 11:10:23,183] Trial 4 finished with values: [0.5000061268315397, 0.0] and parameters: {'max_depth': 6, 'eta': 0.2643898739844831, 'subsample': 0.8961953694818072, 'colsample_bytree': 0.7093394341047086}.\n",
      "[I 2025-05-16 11:10:23,262] Trial 5 finished with values: [0.5000061268315397, 0.0] and parameters: {'max_depth': 5, 'eta': 0.20856349487726047, 'subsample': 0.9798664015766994, 'colsample_bytree': 0.9094572635087834}.\n",
      "[I 2025-05-16 11:10:23,334] Trial 6 finished with values: [0.5000061268315397, 0.0] and parameters: {'max_depth': 4, 'eta': 0.01360259125894234, 'subsample': 0.6029688850781217, 'colsample_bytree': 0.9963179996105089}.\n",
      "[I 2025-05-16 11:10:23,414] Trial 7 finished with values: [0.5000061268315397, 0.0] and parameters: {'max_depth': 7, 'eta': 0.038502574137334725, 'subsample': 0.9104156508542681, 'colsample_bytree': 0.8797209012933183}.\n",
      "[I 2025-05-16 11:10:23,491] Trial 8 finished with values: [0.5000061268315397, 0.0] and parameters: {'max_depth': 3, 'eta': 0.1748487932751563, 'subsample': 0.9588439429416995, 'colsample_bytree': 0.8602366045641046}.\n",
      "[I 2025-05-16 11:10:23,575] Trial 9 finished with values: [0.5000061268315397, 0.0] and parameters: {'max_depth': 7, 'eta': 0.1524170468126912, 'subsample': 0.6100818556444719, 'colsample_bytree': 0.9016405138383341}.\n",
      "[I 2025-05-16 11:10:23,580] A new study created in memory with name: no-name-f20db74b-306d-448c-9ee5-d2736601ee12\n",
      "[I 2025-05-16 11:10:23,745] Trial 0 finished with values: [0.6707226291459504, 0.012983203043084202] and parameters: {'max_depth': 3, 'eta': 0.011548908094899746, 'subsample': 0.9932252068370225, 'colsample_bytree': 0.8344136891937701}.\n"
     ]
    },
    {
     "name": "stdout",
     "output_type": "stream",
     "text": [
      "Completed study for alpha=0.01\n"
     ]
    },
    {
     "name": "stderr",
     "output_type": "stream",
     "text": [
      "[I 2025-05-16 11:10:23,828] Trial 1 finished with values: [0.5000061268315397, 0.0] and parameters: {'max_depth': 7, 'eta': 0.049834050525281816, 'subsample': 0.6539819227641096, 'colsample_bytree': 0.7317492424216627}.\n",
      "[I 2025-05-16 11:10:23,914] Trial 2 finished with values: [0.6707226291459504, 0.012983203043084202] and parameters: {'max_depth': 5, 'eta': 0.21214919334663507, 'subsample': 0.7954798766229876, 'colsample_bytree': 0.7080082586106248}.\n",
      "[I 2025-05-16 11:10:23,993] Trial 3 finished with values: [0.6650139538588317, 0.01993528448914837] and parameters: {'max_depth': 7, 'eta': 0.2747902259216701, 'subsample': 0.7565936386487201, 'colsample_bytree': 0.6869956121496366}.\n",
      "[I 2025-05-16 11:10:24,076] Trial 4 finished with values: [0.5764812381101175, 0.032371566798053246] and parameters: {'max_depth': 6, 'eta': 0.27735882689991403, 'subsample': 0.6612966288669655, 'colsample_bytree': 0.7486740381921451}.\n",
      "[I 2025-05-16 11:10:24,165] Trial 5 finished with values: [0.5429245817671621, 0.0017921146953405003] and parameters: {'max_depth': 3, 'eta': 0.14539419146302995, 'subsample': 0.6696706679982803, 'colsample_bytree': 0.8774430333424075}.\n",
      "[I 2025-05-16 11:10:24,250] Trial 6 finished with values: [0.6707226291459504, 0.012983203043084202] and parameters: {'max_depth': 4, 'eta': 0.1197074067853804, 'subsample': 0.8667564303951477, 'colsample_bytree': 0.9466795421545213}.\n",
      "[I 2025-05-16 11:10:24,335] Trial 7 finished with values: [0.6707226291459504, 0.012983203043084202] and parameters: {'max_depth': 4, 'eta': 0.15004905979185307, 'subsample': 0.9866726615208201, 'colsample_bytree': 0.7792861204174285}.\n",
      "[I 2025-05-16 11:10:24,451] Trial 8 finished with values: [0.6707226291459504, 0.012983203043084202] and parameters: {'max_depth': 5, 'eta': 0.02715446552807476, 'subsample': 0.8202806231490195, 'colsample_bytree': 0.9770411107887516}.\n",
      "[I 2025-05-16 11:10:24,540] Trial 9 finished with values: [0.6707226291459504, 0.012983203043084202] and parameters: {'max_depth': 3, 'eta': 0.23305441187292725, 'subsample': 0.9421555454554557, 'colsample_bytree': 0.6633340025977782}.\n",
      "[I 2025-05-16 11:10:24,544] A new study created in memory with name: no-name-5254ca01-a6b2-4d97-85b7-99d5ae108fce\n",
      "[I 2025-05-16 11:10:24,665] Trial 0 finished with values: [0.6707226291459504, 0.012983203043084202] and parameters: {'max_depth': 4, 'eta': 0.04010750833703164, 'subsample': 0.6617107909660455, 'colsample_bytree': 0.6540154847760081}.\n"
     ]
    },
    {
     "name": "stdout",
     "output_type": "stream",
     "text": [
      "Completed study for alpha=0.02\n"
     ]
    },
    {
     "name": "stderr",
     "output_type": "stream",
     "text": [
      "[I 2025-05-16 11:10:24,761] Trial 1 finished with values: [0.6707226291459504, 0.012983203043084202] and parameters: {'max_depth': 6, 'eta': 0.16069381050344528, 'subsample': 0.7341928163751013, 'colsample_bytree': 0.755703993523875}.\n",
      "[I 2025-05-16 11:10:24,869] Trial 2 finished with values: [0.6707226291459504, 0.02737169225171728] and parameters: {'max_depth': 6, 'eta': 0.23712627176294468, 'subsample': 0.791848005105454, 'colsample_bytree': 0.7067501991277604}.\n",
      "[I 2025-05-16 11:10:24,974] Trial 3 finished with values: [0.6728685518927314, 0.008640771281297588] and parameters: {'max_depth': 5, 'eta': 0.2447939514013812, 'subsample': 0.6115316516230084, 'colsample_bytree': 0.7217525130841902}.\n",
      "[I 2025-05-16 11:10:25,083] Trial 4 finished with values: [0.6707226291459504, 0.012983203043084202] and parameters: {'max_depth': 5, 'eta': 0.07427047627923385, 'subsample': 0.8684671105153463, 'colsample_bytree': 0.7696687362781184}.\n",
      "[I 2025-05-16 11:10:25,183] Trial 5 finished with values: [0.6678613988169088, 0.02276791778778058] and parameters: {'max_depth': 7, 'eta': 0.26187775333891855, 'subsample': 0.8669493512033117, 'colsample_bytree': 0.9247984023656912}.\n",
      "[I 2025-05-16 11:10:25,294] Trial 6 finished with values: [0.6657261980253222, 0.016923952882237265] and parameters: {'max_depth': 5, 'eta': 0.04413385300032339, 'subsample': 0.9770453744886878, 'colsample_bytree': 0.8824748963462927}.\n",
      "[I 2025-05-16 11:10:25,397] Trial 7 finished with values: [0.6657292614410921, 0.016656467300406774] and parameters: {'max_depth': 4, 'eta': 0.2759517117968098, 'subsample': 0.886615989081339, 'colsample_bytree': 0.874221775929076}.\n",
      "[I 2025-05-16 11:10:25,514] Trial 8 finished with values: [0.6707226291459504, 0.012983203043084202] and parameters: {'max_depth': 7, 'eta': 0.05945046543410351, 'subsample': 0.9336443475136937, 'colsample_bytree': 0.7831008740510298}.\n",
      "[I 2025-05-16 11:10:25,614] Trial 9 finished with values: [0.6707226291459504, 0.02737169225171728] and parameters: {'max_depth': 4, 'eta': 0.2388702211358809, 'subsample': 0.89030550461371, 'colsample_bytree': 0.6405889518559063}.\n",
      "[I 2025-05-16 11:10:25,619] A new study created in memory with name: no-name-5fd938f7-e99d-4436-a4e2-295d16533996\n",
      "[I 2025-05-16 11:10:25,762] Trial 0 finished with values: [0.668581301522824, 0.025704733136082958] and parameters: {'max_depth': 5, 'eta': 0.04166492368900873, 'subsample': 0.8281506079491288, 'colsample_bytree': 0.6895428501741854}.\n"
     ]
    },
    {
     "name": "stdout",
     "output_type": "stream",
     "text": [
      "Completed study for alpha=0.03\n"
     ]
    },
    {
     "name": "stderr",
     "output_type": "stream",
     "text": [
      "[I 2025-05-16 11:10:25,975] Trial 1 finished with values: [0.6614435427790696, 0.021149840464854092] and parameters: {'max_depth': 6, 'eta': 0.010189062230183715, 'subsample': 0.9314750819636888, 'colsample_bytree': 0.9801830806871361}.\n",
      "[I 2025-05-16 11:10:26,084] Trial 2 finished with values: [0.668581301522824, 0.022290391438709145] and parameters: {'max_depth': 7, 'eta': 0.10409655043205249, 'subsample': 0.919733636146426, 'colsample_bytree': 0.6201005592941503}.\n",
      "[I 2025-05-16 11:10:26,198] Trial 3 finished with values: [0.6621603820692149, 0.018403849882146255] and parameters: {'max_depth': 7, 'eta': 0.12410867823840997, 'subsample': 0.9721393397097885, 'colsample_bytree': 0.8482640302154303}.\n",
      "[I 2025-05-16 11:10:26,306] Trial 4 finished with values: [0.6685858966464787, 0.032128442853512136] and parameters: {'max_depth': 6, 'eta': 0.29688182977430944, 'subsample': 0.880822660198967, 'colsample_bytree': 0.8191310209267175}.\n",
      "[I 2025-05-16 11:10:26,407] Trial 5 finished with values: [0.6635848704021959, 0.020133580302252468] and parameters: {'max_depth': 5, 'eta': 0.2639164380553628, 'subsample': 0.7753712368194741, 'colsample_bytree': 0.9281070150042245}.\n",
      "[I 2025-05-16 11:10:26,503] Trial 6 finished with values: [0.6664445690233525, 0.024145755177736688] and parameters: {'max_depth': 6, 'eta': 0.2631750913638558, 'subsample': 0.6425852530591635, 'colsample_bytree': 0.6310848364756559}.\n",
      "[I 2025-05-16 11:10:26,603] Trial 7 finished with values: [0.6707226291459504, 0.012983203043084202] and parameters: {'max_depth': 7, 'eta': 0.1010038792118231, 'subsample': 0.7048594676486918, 'colsample_bytree': 0.6404158077642477}.\n",
      "[I 2025-05-16 11:10:26,709] Trial 8 finished with values: [0.6707226291459504, 0.012983203043084202] and parameters: {'max_depth': 3, 'eta': 0.10198832272310483, 'subsample': 0.6174883822374017, 'colsample_bytree': 0.7753359857423407}.\n",
      "[I 2025-05-16 11:10:26,852] Trial 9 finished with values: [0.6707226291459504, 0.012983203043084202] and parameters: {'max_depth': 7, 'eta': 0.01845776952527635, 'subsample': 0.6562511818335396, 'colsample_bytree': 0.664550341850686}.\n",
      "[I 2025-05-16 11:10:26,857] A new study created in memory with name: no-name-3d7541a7-7911-4fb7-acdb-f9ff59da63fc\n",
      "[I 2025-05-16 11:10:26,958] Trial 0 finished with values: [0.6685843649385937, 0.019108200777360695] and parameters: {'max_depth': 6, 'eta': 0.22039825455281156, 'subsample': 0.8810369357435736, 'colsample_bytree': 0.8245105744660113}.\n",
      "[I 2025-05-16 11:10:27,044] Trial 1 finished with values: [0.6707226291459504, 0.012983203043084202] and parameters: {'max_depth': 4, 'eta': 0.13775204337642594, 'subsample': 0.7083073013881331, 'colsample_bytree': 0.8303197826062636}.\n"
     ]
    },
    {
     "name": "stdout",
     "output_type": "stream",
     "text": [
      "Completed study for alpha=0.04\n"
     ]
    },
    {
     "name": "stderr",
     "output_type": "stream",
     "text": [
      "[I 2025-05-16 11:10:27,148] Trial 2 finished with values: [0.6614435427790696, 0.014971856023139172] and parameters: {'max_depth': 4, 'eta': 0.06693332694847139, 'subsample': 0.742815100802811, 'colsample_bytree': 0.7381157698529842}.\n",
      "[I 2025-05-16 11:10:27,246] Trial 3 finished with values: [0.6614404793632996, 0.021560824432708892] and parameters: {'max_depth': 7, 'eta': 0.14913458110053945, 'subsample': 0.9161037568439787, 'colsample_bytree': 0.705375727322346}.\n",
      "[I 2025-05-16 11:10:27,397] Trial 4 finished with values: [0.6678675256484485, 0.024037774020448637] and parameters: {'max_depth': 6, 'eta': 0.015124474928358547, 'subsample': 0.7056779538050917, 'colsample_bytree': 0.6518676788169017}.\n",
      "[I 2025-05-16 11:10:27,490] Trial 5 finished with values: [0.6642971145686865, 0.014678271393022515] and parameters: {'max_depth': 6, 'eta': 0.18882042103198954, 'subsample': 0.9482343178203738, 'colsample_bytree': 0.6768490051459449}.\n",
      "[I 2025-05-16 11:10:27,602] Trial 6 finished with values: [0.6614435427790696, 0.02259453715560415] and parameters: {'max_depth': 3, 'eta': 0.03253843682937795, 'subsample': 0.7338718131502326, 'colsample_bytree': 0.7719504171677269}.\n",
      "[I 2025-05-16 11:10:27,691] Trial 7 finished with values: [0.6621527235297903, 0.012991877574286844] and parameters: {'max_depth': 5, 'eta': 0.2298378411950014, 'subsample': 0.9330800332892095, 'colsample_bytree': 0.860211566992737}.\n",
      "[I 2025-05-16 11:10:27,784] Trial 8 finished with values: [0.6650154855667166, 0.018521867191351588] and parameters: {'max_depth': 6, 'eta': 0.073062335141327, 'subsample': 0.7811501279764121, 'colsample_bytree': 0.6853848848884563}.\n",
      "[I 2025-05-16 11:10:27,870] Trial 9 finished with values: [0.6600113959066639, 0.01614302826648592] and parameters: {'max_depth': 7, 'eta': 0.27780186163389997, 'subsample': 0.6795114366566547, 'colsample_bytree': 0.9732355220802401}.\n",
      "[I 2025-05-16 11:10:27,874] A new study created in memory with name: no-name-8027702f-8052-4ee9-9186-23a82b780688\n",
      "[I 2025-05-16 11:10:27,971] Trial 0 finished with values: [0.6628695628199356, 0.019855172868123567] and parameters: {'max_depth': 5, 'eta': 0.2887426355471535, 'subsample': 0.9717287366524031, 'colsample_bytree': 0.6248858518219648}.\n",
      "[I 2025-05-16 11:10:28,068] Trial 1 finished with values: [0.663581806986426, 0.01724118384221947] and parameters: {'max_depth': 7, 'eta': 0.18794297648687885, 'subsample': 0.8206651118250399, 'colsample_bytree': 0.7384803712528578}.\n"
     ]
    },
    {
     "name": "stdout",
     "output_type": "stream",
     "text": [
      "Completed study for alpha=0.05\n"
     ]
    },
    {
     "name": "stderr",
     "output_type": "stream",
     "text": [
      "[I 2025-05-16 11:10:28,156] Trial 2 finished with values: [0.6607267034889243, 0.020126633141558298] and parameters: {'max_depth': 3, 'eta': 0.2520699116653708, 'subsample': 0.6764299941021398, 'colsample_bytree': 0.795363032465854}.\n",
      "[I 2025-05-16 11:10:28,251] Trial 3 finished with values: [0.6664461007312373, 0.014513558979844188] and parameters: {'max_depth': 4, 'eta': 0.08140845234081232, 'subsample': 0.7118352679603624, 'colsample_bytree': 0.6794761453536237}.\n",
      "[I 2025-05-16 11:10:28,343] Trial 4 finished with values: [0.6635848704021959, 0.020133580302252468] and parameters: {'max_depth': 4, 'eta': 0.0944000509112127, 'subsample': 0.6498649510198827, 'colsample_bytree': 0.6958992482999219}.\n",
      "[I 2025-05-16 11:10:28,457] Trial 5 finished with values: [0.6614404793632996, 0.016384404326411195] and parameters: {'max_depth': 6, 'eta': 0.036805636906354675, 'subsample': 0.8228934374400868, 'colsample_bytree': 0.6478379070420481}.\n",
      "[I 2025-05-16 11:10:28,545] Trial 6 finished with values: [0.6635864021100808, 0.02987063582571245] and parameters: {'max_depth': 7, 'eta': 0.2663614351606506, 'subsample': 0.6182224955825241, 'colsample_bytree': 0.9396410697978579}.\n",
      "[I 2025-05-16 11:10:28,632] Trial 7 finished with values: [0.6671522180661881, 0.032783918800049605] and parameters: {'max_depth': 6, 'eta': 0.2719651705021029, 'subsample': 0.7347580426670244, 'colsample_bytree': 0.9024346020401559}.\n",
      "[I 2025-05-16 11:10:28,737] Trial 8 finished with values: [0.6578700682835376, 0.018283745484957935] and parameters: {'max_depth': 7, 'eta': 0.0541495144799162, 'subsample': 0.8559373253596099, 'colsample_bytree': 0.8376093834926505}.\n",
      "[I 2025-05-16 11:10:28,826] Trial 9 finished with values: [0.6642986462765713, 0.015622554976171868] and parameters: {'max_depth': 3, 'eta': 0.1075540865911863, 'subsample': 0.603587174591602, 'colsample_bytree': 0.7738974444199818}.\n",
      "[I 2025-05-16 11:10:28,830] A new study created in memory with name: no-name-1cda975a-434e-48be-8751-3da4ff313e75\n",
      "[I 2025-05-16 11:10:28,956] Trial 0 finished with values: [0.6643001779844563, 0.016318956672488755] and parameters: {'max_depth': 4, 'eta': 0.02627046100548805, 'subsample': 0.7413525558725402, 'colsample_bytree': 0.6674019047796443}.\n"
     ]
    },
    {
     "name": "stdout",
     "output_type": "stream",
     "text": [
      "Completed study for alpha=0.06\n"
     ]
    },
    {
     "name": "stderr",
     "output_type": "stream",
     "text": [
      "[I 2025-05-16 11:10:29,063] Trial 1 finished with values: [0.6571516972855073, 0.028694710618551205] and parameters: {'max_depth': 3, 'eta': 0.25099882999608575, 'subsample': 0.782630865771816, 'colsample_bytree': 0.898559574384802}.\n",
      "[I 2025-05-16 11:10:29,270] Trial 2 finished with values: [0.663583338694311, 0.03184009360405896] and parameters: {'max_depth': 7, 'eta': 0.24271586926014924, 'subsample': 0.8532523842038624, 'colsample_bytree': 0.8710524246271584}.\n",
      "[I 2025-05-16 11:10:29,416] Trial 3 finished with values: [0.65358281791363, 0.019627961357400442] and parameters: {'max_depth': 6, 'eta': 0.06081693545636078, 'subsample': 0.8548984144547489, 'colsample_bytree': 0.9393756972298337}.\n",
      "[I 2025-05-16 11:10:29,521] Trial 4 finished with values: [0.6721532443104711, 0.03315357688437798] and parameters: {'max_depth': 5, 'eta': 0.26060084409820394, 'subsample': 0.8852211302383134, 'colsample_bytree': 0.6023733269496588}.\n",
      "[I 2025-05-16 11:10:29,677] Trial 5 finished with values: [0.6650170172746016, 0.03633422812230797] and parameters: {'max_depth': 4, 'eta': 0.269503313431839, 'subsample': 0.9948368710992277, 'colsample_bytree': 0.713375448368388}.\n",
      "[I 2025-05-16 11:10:29,776] Trial 6 finished with values: [0.663583338694311, 0.01853029880709814] and parameters: {'max_depth': 6, 'eta': 0.15434301675879647, 'subsample': 0.7457007039034419, 'colsample_bytree': 0.9476746861938339}.\n",
      "[I 2025-05-16 11:10:29,890] Trial 7 finished with values: [0.6585823124500281, 0.015178525847382357] and parameters: {'max_depth': 3, 'eta': 0.056125830598221654, 'subsample': 0.7037028483914414, 'colsample_bytree': 0.8097555185567245}.\n",
      "[I 2025-05-16 11:10:30,134] Trial 8 finished with values: [0.6571532289933922, 0.027902156185193965] and parameters: {'max_depth': 7, 'eta': 0.010102219663026317, 'subsample': 0.7885145765738375, 'colsample_bytree': 0.783828563333087}.\n",
      "[I 2025-05-16 11:10:30,235] Trial 9 finished with values: [0.6621557869455601, 0.020202745509462272] and parameters: {'max_depth': 7, 'eta': 0.1861124624760595, 'subsample': 0.9770306355921213, 'colsample_bytree': 0.8838863525730085}.\n",
      "[I 2025-05-16 11:10:30,240] A new study created in memory with name: no-name-0c3c158c-02b3-4d1a-ae6c-76692df59278\n",
      "[I 2025-05-16 11:10:30,335] Trial 0 finished with values: [0.6614420110711846, 0.017216453510619956] and parameters: {'max_depth': 7, 'eta': 0.14693516353430042, 'subsample': 0.8293106004830351, 'colsample_bytree': 0.7704724906243989}.\n"
     ]
    },
    {
     "name": "stdout",
     "output_type": "stream",
     "text": [
      "Completed study for alpha=0.07\n"
     ]
    },
    {
     "name": "stderr",
     "output_type": "stream",
     "text": [
      "[I 2025-05-16 11:10:30,454] Trial 1 finished with values: [0.6614420110711846, 0.02167416876251709] and parameters: {'max_depth': 6, 'eta': 0.04116366319378182, 'subsample': 0.7508108014725172, 'colsample_bytree': 0.6181023275393676}.\n",
      "[I 2025-05-16 11:10:30,550] Trial 2 finished with values: [0.665730793148977, 0.021695047768676395] and parameters: {'max_depth': 6, 'eta': 0.2179090764156794, 'subsample': 0.806809110078526, 'colsample_bytree': 0.7975915780896992}.\n",
      "[I 2025-05-16 11:10:30,641] Trial 3 finished with values: [0.6600113959066639, 0.020421261806022783] and parameters: {'max_depth': 6, 'eta': 0.09263840991805283, 'subsample': 0.7394285179163965, 'colsample_bytree': 0.92146162553039}.\n",
      "[I 2025-05-16 11:10:30,748] Trial 4 finished with values: [0.6578685365756526, 0.018414771802074913] and parameters: {'max_depth': 4, 'eta': 0.04346913128389751, 'subsample': 0.6401561145072113, 'colsample_bytree': 0.7772618853931826}.\n",
      "[I 2025-05-16 11:10:30,833] Trial 5 finished with values: [0.6592960883244036, 0.02035609696760965] and parameters: {'max_depth': 6, 'eta': 0.11417299507770039, 'subsample': 0.7169468027773412, 'colsample_bytree': 0.6242289647863445}.\n",
      "[I 2025-05-16 11:10:30,926] Trial 6 finished with values: [0.6614420110711846, 0.009305472277597962] and parameters: {'max_depth': 6, 'eta': 0.08877248243853543, 'subsample': 0.7576173624426816, 'colsample_bytree': 0.8730504709231622}.\n",
      "[I 2025-05-16 11:10:31,009] Trial 7 finished with values: [0.6671522180661881, 0.021551228314591758] and parameters: {'max_depth': 5, 'eta': 0.23774854511907462, 'subsample': 0.729060069501571, 'colsample_bytree': 0.8189721984224003}.\n",
      "[I 2025-05-16 11:10:31,119] Trial 8 finished with values: [0.6550149647860357, 0.008979596502988324] and parameters: {'max_depth': 7, 'eta': 0.1364320706758057, 'subsample': 0.9812730787479929, 'colsample_bytree': 0.7079547323714448}.\n",
      "[I 2025-05-16 11:10:31,215] Trial 9 finished with values: [0.6571593558249319, 0.020410432642815196] and parameters: {'max_depth': 7, 'eta': 0.21269546097293132, 'subsample': 0.7510182177716737, 'colsample_bytree': 0.6694085562763181}.\n",
      "[I 2025-05-16 11:10:31,219] A new study created in memory with name: no-name-1d08fbf0-26fc-4104-bf58-2fc4e22ba377\n",
      "[I 2025-05-16 11:10:31,320] Trial 0 finished with values: [0.6571562924091621, 0.018407104235677863] and parameters: {'max_depth': 4, 'eta': 0.06375630295769438, 'subsample': 0.9932715247375765, 'colsample_bytree': 0.9570563434800863}.\n",
      "[I 2025-05-16 11:10:31,409] Trial 1 finished with values: [0.6721593711420107, 0.03933983145808757] and parameters: {'max_depth': 4, 'eta': 0.2795651478603411, 'subsample': 0.7854451512740888, 'colsample_bytree': 0.7785853251502377}.\n"
     ]
    },
    {
     "name": "stdout",
     "output_type": "stream",
     "text": [
      "Completed study for alpha=0.08\n"
     ]
    },
    {
     "name": "stderr",
     "output_type": "stream",
     "text": [
      "[I 2025-05-16 11:10:31,507] Trial 2 finished with values: [0.6642955828608015, 0.02263594710469795] and parameters: {'max_depth': 6, 'eta': 0.14721924818055207, 'subsample': 0.788825370244779, 'colsample_bytree': 0.9225826466249263}.\n",
      "[I 2025-05-16 11:10:31,596] Trial 3 finished with values: [0.6621527235297903, 0.019558685292052208] and parameters: {'max_depth': 4, 'eta': 0.1453163444703229, 'subsample': 0.6079272239738488, 'colsample_bytree': 0.6783391970982395}.\n",
      "[I 2025-05-16 11:10:31,677] Trial 4 finished with values: [0.6657292614410921, 0.022328415493172965] and parameters: {'max_depth': 3, 'eta': 0.28751284030186025, 'subsample': 0.6715450784223959, 'colsample_bytree': 0.6967101171339429}.\n",
      "[I 2025-05-16 11:10:31,783] Trial 5 finished with values: [0.6557210821209866, 0.0343996197593846] and parameters: {'max_depth': 5, 'eta': 0.0428805936960864, 'subsample': 0.9365402622546021, 'colsample_bytree': 0.6335081358865748}.\n",
      "[I 2025-05-16 11:10:31,866] Trial 6 finished with values: [0.6564455799505565, 0.022655579374732403] and parameters: {'max_depth': 3, 'eta': 0.21846735684310253, 'subsample': 0.9413782801968503, 'colsample_bytree': 0.6417753295472756}.\n",
      "[I 2025-05-16 11:10:31,958] Trial 7 finished with values: [0.665730793148977, 0.030952583542870716] and parameters: {'max_depth': 5, 'eta': 0.2789468184274306, 'subsample': 0.7744297393711326, 'colsample_bytree': 0.8044939952426191}.\n",
      "[I 2025-05-16 11:10:32,063] Trial 8 finished with values: [0.6571471021618526, 0.024385800638563132] and parameters: {'max_depth': 7, 'eta': 0.195889396144261, 'subsample': 0.9834744612171551, 'colsample_bytree': 0.9492688597643796}.\n",
      "[I 2025-05-16 11:10:32,175] Trial 9 finished with values: [0.6664353787760429, 0.015619656707851018] and parameters: {'max_depth': 6, 'eta': 0.2560124654495871, 'subsample': 0.9531787425853249, 'colsample_bytree': 0.8679989459663865}.\n",
      "[I 2025-05-16 11:10:32,180] A new study created in memory with name: no-name-489c40e2-3551-4ce6-bd89-3faa8d60723a\n",
      "[I 2025-05-16 11:10:32,281] Trial 0 finished with values: [0.6557287406604112, 0.016586365884180432] and parameters: {'max_depth': 3, 'eta': 0.08457117950509159, 'subsample': 0.7425489547490464, 'colsample_bytree': 0.7348262097862006}.\n"
     ]
    },
    {
     "name": "stdout",
     "output_type": "stream",
     "text": [
      "Completed study for alpha=0.09\n"
     ]
    },
    {
     "name": "stderr",
     "output_type": "stream",
     "text": [
      "[I 2025-05-16 11:10:32,378] Trial 1 finished with values: [0.6571593558249319, 0.011251187607020532] and parameters: {'max_depth': 4, 'eta': 0.13675485443187288, 'subsample': 0.8051287022488403, 'colsample_bytree': 0.745512718720668}.\n",
      "[I 2025-05-16 11:10:32,469] Trial 2 finished with values: [0.6657277297332072, 0.023033025174206467] and parameters: {'max_depth': 6, 'eta': 0.20691115963580486, 'subsample': 0.7053863774152721, 'colsample_bytree': 0.9449779508335215}.\n",
      "[I 2025-05-16 11:10:32,561] Trial 3 finished with values: [0.6628710945278204, 0.01610330803480615] and parameters: {'max_depth': 4, 'eta': 0.12456086732727752, 'subsample': 0.8032577905780194, 'colsample_bytree': 0.7926258934068882}.\n",
      "[I 2025-05-16 11:10:32,667] Trial 4 finished with values: [0.6614435427790696, 0.016836880832209956] and parameters: {'max_depth': 7, 'eta': 0.1082549026044934, 'subsample': 0.612676087393894, 'colsample_bytree': 0.9553887192248232}.\n",
      "[I 2025-05-16 11:10:32,767] Trial 5 finished with values: [0.6549996477071865, 0.022267315669437265] and parameters: {'max_depth': 5, 'eta': 0.19996156974435855, 'subsample': 0.9230138186238876, 'colsample_bytree': 0.8660071748623994}.\n",
      "[I 2025-05-16 11:10:32,858] Trial 6 finished with values: [0.6592914932007488, 0.024478498354701377] and parameters: {'max_depth': 4, 'eta': 0.23763693345167364, 'subsample': 0.8319777450745109, 'colsample_bytree': 0.8919363487078278}.\n",
      "[I 2025-05-16 11:10:32,957] Trial 7 finished with values: [0.6678613988169088, 0.03651593049250792] and parameters: {'max_depth': 7, 'eta': 0.22394501663615052, 'subsample': 0.9373634029881102, 'colsample_bytree': 0.9307619924607688}.\n",
      "[I 2025-05-16 11:10:33,061] Trial 8 finished with values: [0.665006295319407, 0.018880360704573346] and parameters: {'max_depth': 5, 'eta': 0.20160079779814583, 'subsample': 0.6646577684481602, 'colsample_bytree': 0.8958969030832753}.\n",
      "[I 2025-05-16 11:10:33,173] Trial 9 finished with values: [0.6550057745387262, 0.03072293353658771] and parameters: {'max_depth': 5, 'eta': 0.16289990235628438, 'subsample': 0.9594415459626281, 'colsample_bytree': 0.7604591017641125}.\n",
      "[I 2025-05-16 11:10:33,177] A new study created in memory with name: no-name-3d4e20ca-00fa-48c9-a6c3-419ac28ef019\n",
      "[I 2025-05-16 11:10:33,282] Trial 0 finished with values: [0.6614466061948394, 0.02594810582595483] and parameters: {'max_depth': 5, 'eta': 0.25424986122659027, 'subsample': 0.8247609410170671, 'colsample_bytree': 0.7086544976822375}.\n"
     ]
    },
    {
     "name": "stdout",
     "output_type": "stream",
     "text": [
      "Completed study for alpha=0.1\n"
     ]
    },
    {
     "name": "stderr",
     "output_type": "stream",
     "text": [
      "[I 2025-05-16 11:10:33,383] Trial 1 finished with values: [0.6685721112755143, 0.01723638749665829] and parameters: {'max_depth': 7, 'eta': 0.2611809087553412, 'subsample': 0.9538999777259025, 'colsample_bytree': 0.6638252280373405}.\n",
      "[I 2025-05-16 11:10:33,499] Trial 2 finished with values: [0.650713929045164, 0.013334162230235444] and parameters: {'max_depth': 6, 'eta': 0.15199905679295178, 'subsample': 0.9727074761131702, 'colsample_bytree': 0.8330576762561844}.\n",
      "[I 2025-05-16 11:10:33,640] Trial 3 finished with values: [0.6564471116584414, 0.025670592384119378] and parameters: {'max_depth': 4, 'eta': 0.09932675636145855, 'subsample': 0.935758467685687, 'colsample_bytree': 0.6693419704259033}.\n",
      "[I 2025-05-16 11:10:33,806] Trial 4 finished with values: [0.6571455704539676, 0.03637854094972625] and parameters: {'max_depth': 5, 'eta': 0.19926589793452892, 'subsample': 0.9843755871685003, 'colsample_bytree': 0.6431950516003656}.\n",
      "[I 2025-05-16 11:10:33,936] Trial 5 finished with values: [0.6664338470681579, 0.023568329576396745] and parameters: {'max_depth': 6, 'eta': 0.25693329469069, 'subsample': 0.8955221728321314, 'colsample_bytree': 0.8210381532688746}.\n",
      "[I 2025-05-16 11:10:34,048] Trial 6 finished with values: [0.6600129276145488, 0.016191172335841008] and parameters: {'max_depth': 4, 'eta': 0.06270756890828393, 'subsample': 0.6486315503045693, 'colsample_bytree': 0.9360874270956023}.\n",
      "[I 2025-05-16 11:10:34,158] Trial 7 finished with values: [0.6657261980253223, 0.031050245345827742] and parameters: {'max_depth': 4, 'eta': 0.2576189636203464, 'subsample': 0.8406776999963629, 'colsample_bytree': 0.6772599728979287}.\n",
      "[I 2025-05-16 11:10:34,295] Trial 8 finished with values: [0.662157318653445, 0.017772462131087675] and parameters: {'max_depth': 5, 'eta': 0.06322801213669216, 'subsample': 0.7443340936501465, 'colsample_bytree': 0.7412206644085064}.\n",
      "[I 2025-05-16 11:10:34,407] Trial 9 finished with values: [0.6700149801031147, 0.03144731011120621] and parameters: {'max_depth': 6, 'eta': 0.1876239610993999, 'subsample': 0.6147348912213607, 'colsample_bytree': 0.933139227915811}.\n",
      "[I 2025-05-16 11:10:34,411] A new study created in memory with name: no-name-d939ce4e-d7d1-4d66-be6c-ce51cf5566a5\n",
      "[I 2025-05-16 11:10:34,544] Trial 0 finished with values: [0.6678736524799883, 0.019292965730144346] and parameters: {'max_depth': 7, 'eta': 0.15168302728567826, 'subsample': 0.6300709688007746, 'colsample_bytree': 0.6878340353776732}.\n"
     ]
    },
    {
     "name": "stdout",
     "output_type": "stream",
     "text": [
      "Completed study for alpha=0.11\n"
     ]
    },
    {
     "name": "stderr",
     "output_type": "stream",
     "text": [
      "[I 2025-05-16 11:10:34,642] Trial 1 finished with values: [0.6671629400213827, 0.019014787655400333] and parameters: {'max_depth': 3, 'eta': 0.10871922960645707, 'subsample': 0.6326972261309473, 'colsample_bytree': 0.6270459685784904}.\n",
      "[I 2025-05-16 11:10:34,745] Trial 2 finished with values: [0.6571471021618526, 0.01239242129171673] and parameters: {'max_depth': 7, 'eta': 0.134616239405814, 'subsample': 0.7158496595451094, 'colsample_bytree': 0.6678811084055217}.\n",
      "[I 2025-05-16 11:10:34,840] Trial 3 finished with values: [0.6578624097441129, 0.02488560315055376] and parameters: {'max_depth': 5, 'eta': 0.1611985298051235, 'subsample': 0.8768700360477586, 'colsample_bytree': 0.9124564772442268}.\n",
      "[I 2025-05-16 11:10:34,934] Trial 4 finished with values: [0.667153749774073, 0.024376449218367513] and parameters: {'max_depth': 6, 'eta': 0.18628533944829526, 'subsample': 0.7486354723212045, 'colsample_bytree': 0.8462329849875208}.\n",
      "[I 2025-05-16 11:10:35,027] Trial 5 finished with values: [0.6635864021100808, 0.019854729616908023] and parameters: {'max_depth': 4, 'eta': 0.1392273346847883, 'subsample': 0.6793722451114821, 'colsample_bytree': 0.7132256506227215}.\n",
      "[I 2025-05-16 11:10:35,138] Trial 6 finished with values: [0.6692950773971994, 0.02798316016929257] and parameters: {'max_depth': 7, 'eta': 0.26957196528428845, 'subsample': 0.8432851504024997, 'colsample_bytree': 0.7270882107560966}.\n",
      "[I 2025-05-16 11:10:35,232] Trial 7 finished with values: [0.6671614083134978, 0.029806915939161627] and parameters: {'max_depth': 5, 'eta': 0.193095023900851, 'subsample': 0.8923351202729911, 'colsample_bytree': 0.8506991915039188}.\n",
      "[I 2025-05-16 11:10:35,327] Trial 8 finished with values: [0.6650124221509467, 0.014184253371168585] and parameters: {'max_depth': 3, 'eta': 0.1918821067450947, 'subsample': 0.6055260444248335, 'colsample_bytree': 0.8891502087803729}.\n",
      "[I 2025-05-16 11:10:35,419] Trial 9 finished with values: [0.669307331060279, 0.035431848094857714] and parameters: {'max_depth': 3, 'eta': 0.28263404648687346, 'subsample': 0.6992441021216249, 'colsample_bytree': 0.6544060827695605}.\n",
      "[I 2025-05-16 11:10:35,424] A new study created in memory with name: no-name-f7a6ad0e-bc81-4c25-a3a3-8bfab621359e\n",
      "[I 2025-05-16 11:10:35,539] Trial 0 finished with values: [0.6643001779844563, 0.013575695043958188] and parameters: {'max_depth': 7, 'eta': 0.134559042308857, 'subsample': 0.9794703807353413, 'colsample_bytree': 0.6998412728811034}.\n"
     ]
    },
    {
     "name": "stdout",
     "output_type": "stream",
     "text": [
      "Completed study for alpha=0.12\n"
     ]
    },
    {
     "name": "stderr",
     "output_type": "stream",
     "text": [
      "[I 2025-05-16 11:10:35,636] Trial 1 finished with values: [0.6721517126025861, 0.04005022865938943] and parameters: {'max_depth': 7, 'eta': 0.2510750543491645, 'subsample': 0.9643055047768765, 'colsample_bytree': 0.8056136981881495}.\n",
      "[I 2025-05-16 11:10:35,743] Trial 2 finished with values: [0.6642879243213768, 0.021862714481897028] and parameters: {'max_depth': 4, 'eta': 0.23404077468503606, 'subsample': 0.7035104008158334, 'colsample_bytree': 0.678337632646394}.\n",
      "[I 2025-05-16 11:10:35,874] Trial 3 finished with values: [0.6643017096923413, 0.015556289749442556] and parameters: {'max_depth': 6, 'eta': 0.06134803265182087, 'subsample': 0.6126030565696203, 'colsample_bytree': 0.6461590654386138}.\n",
      "[I 2025-05-16 11:10:35,967] Trial 4 finished with values: [0.6607297669046941, 0.022398119471200156] and parameters: {'max_depth': 5, 'eta': 0.10452510467027802, 'subsample': 0.7946935776205867, 'colsample_bytree': 0.8271741017462043}.\n",
      "[I 2025-05-16 11:10:36,054] Trial 5 finished with values: [0.6628787530672451, 0.022089746257178022] and parameters: {'max_depth': 4, 'eta': 0.11582713445728092, 'subsample': 0.7801091690418204, 'colsample_bytree': 0.9253338508007012}.\n",
      "[I 2025-05-16 11:10:36,251] Trial 6 finished with values: [0.6571501655776224, 0.0209106989798811] and parameters: {'max_depth': 6, 'eta': 0.012186016100977444, 'subsample': 0.7532793560315487, 'colsample_bytree': 0.706370895312159}.\n",
      "[I 2025-05-16 11:10:36,353] Trial 7 finished with values: [0.6621435332824807, 0.028708602960826318] and parameters: {'max_depth': 5, 'eta': 0.13580464432934702, 'subsample': 0.8426593310027851, 'colsample_bytree': 0.9408658076023622}.\n",
      "[I 2025-05-16 11:10:36,450] Trial 8 finished with values: [0.6614420110711846, 0.026864843227249035] and parameters: {'max_depth': 6, 'eta': 0.2096948554086811, 'subsample': 0.6640098701134948, 'colsample_bytree': 0.7005322535489784}.\n",
      "[I 2025-05-16 11:10:36,549] Trial 9 finished with values: [0.6607297669046941, 0.020254015175089318] and parameters: {'max_depth': 7, 'eta': 0.17232387157019496, 'subsample': 0.8811708535191408, 'colsample_bytree': 0.7217507363429734}.\n",
      "[I 2025-05-16 11:10:36,553] A new study created in memory with name: no-name-8145e021-65b8-4244-a461-344cb67f7af8\n",
      "[I 2025-05-16 11:10:36,735] Trial 0 finished with values: [0.6571593558249319, 0.01569434370202737] and parameters: {'max_depth': 7, 'eta': 0.016346590980560356, 'subsample': 0.640476685503136, 'colsample_bytree': 0.8775279516734869}.\n"
     ]
    },
    {
     "name": "stdout",
     "output_type": "stream",
     "text": [
      "Completed study for alpha=0.13\n"
     ]
    },
    {
     "name": "stderr",
     "output_type": "stream",
     "text": [
      "[I 2025-05-16 11:10:36,851] Trial 1 finished with values: [0.6664399738996977, 0.02117398508193156] and parameters: {'max_depth': 5, 'eta': 0.12796066352687033, 'subsample': 0.9260273105614383, 'colsample_bytree': 0.6548647161289194}.\n",
      "[I 2025-05-16 11:10:36,980] Trial 2 finished with values: [0.6607328303204639, 0.025289802372533882] and parameters: {'max_depth': 7, 'eta': 0.0734163377767708, 'subsample': 0.7727657010860061, 'colsample_bytree': 0.8977554524253704}.\n",
      "[I 2025-05-16 11:10:37,081] Trial 3 finished with values: [0.6778649830133595, 0.03500795631502485] and parameters: {'max_depth': 4, 'eta': 0.25806176509930123, 'subsample': 0.9730778842177484, 'colsample_bytree': 0.9184858701513958}.\n",
      "[I 2025-05-16 11:10:37,201] Trial 4 finished with values: [0.674300698765137, 0.014429326915890236] and parameters: {'max_depth': 7, 'eta': 0.2182752308817038, 'subsample': 0.9802033726552732, 'colsample_bytree': 0.8723362608110063}.\n",
      "[I 2025-05-16 11:10:37,304] Trial 5 finished with values: [0.6735792643513371, 0.019310722701989674] and parameters: {'max_depth': 6, 'eta': 0.2925288906597491, 'subsample': 0.9516521395916164, 'colsample_bytree': 0.806410321594079}.\n",
      "[I 2025-05-16 11:10:37,455] Trial 6 finished with values: [0.6571547607012772, 0.026110353931417623] and parameters: {'max_depth': 5, 'eta': 0.03336200900691505, 'subsample': 0.8591407157847313, 'colsample_bytree': 0.7164144542596733}.\n",
      "[I 2025-05-16 11:10:37,566] Trial 7 finished with values: [0.6757236553902333, 0.032608590912900914] and parameters: {'max_depth': 6, 'eta': 0.2665826022918248, 'subsample': 0.6478407934042804, 'colsample_bytree': 0.8593115209537261}.\n",
      "[I 2025-05-16 11:10:37,666] Trial 8 finished with values: [0.663580275278541, 0.01795666363455937] and parameters: {'max_depth': 5, 'eta': 0.17167091993944134, 'subsample': 0.901891342900005, 'colsample_bytree': 0.6362904009326493}.\n",
      "[I 2025-05-16 11:10:37,788] Trial 9 finished with values: [0.6642940511529166, 0.02525608645079706] and parameters: {'max_depth': 3, 'eta': 0.22620269392091066, 'subsample': 0.6084140185630439, 'colsample_bytree': 0.8922171595534392}.\n",
      "[I 2025-05-16 11:10:37,792] A new study created in memory with name: no-name-2d074a80-b188-4f2f-8da0-60737d51d977\n",
      "[I 2025-05-16 11:10:37,909] Trial 0 finished with values: [0.6593083419874829, 0.02152780679876497] and parameters: {'max_depth': 7, 'eta': 0.10194022775017009, 'subsample': 0.7749740471168665, 'colsample_bytree': 0.7363435330780758}.\n"
     ]
    },
    {
     "name": "stdout",
     "output_type": "stream",
     "text": [
      "Completed study for alpha=0.14\n"
     ]
    },
    {
     "name": "stderr",
     "output_type": "stream",
     "text": [
      "[I 2025-05-16 11:10:38,034] Trial 1 finished with values: [0.6707210974380654, 0.039588913985765195] and parameters: {'max_depth': 5, 'eta': 0.1817672573353251, 'subsample': 0.6402598756588783, 'colsample_bytree': 0.798449131899748}.\n",
      "[I 2025-05-16 11:10:38,136] Trial 2 finished with values: [0.6678644622326787, 0.01554593227752373] and parameters: {'max_depth': 5, 'eta': 0.2015460684773759, 'subsample': 0.887097943952551, 'colsample_bytree': 0.6744353773502719}.\n",
      "[I 2025-05-16 11:10:38,258] Trial 3 finished with values: [0.6650047636115222, 0.024501220798967743] and parameters: {'max_depth': 5, 'eta': 0.14290329551574027, 'subsample': 0.6607310766609596, 'colsample_bytree': 0.8692898081603372}.\n",
      "[I 2025-05-16 11:10:38,426] Trial 4 finished with values: [0.6600129276145488, 0.013839881627237066] and parameters: {'max_depth': 4, 'eta': 0.024412543211535714, 'subsample': 0.6305566368212842, 'colsample_bytree': 0.802415343984686}.\n",
      "[I 2025-05-16 11:10:38,545] Trial 5 finished with values: [0.6685904917701335, 0.026361404262064236] and parameters: {'max_depth': 7, 'eta': 0.11973383879713569, 'subsample': 0.6845727674290399, 'colsample_bytree': 0.6625342694041453}.\n",
      "[I 2025-05-16 11:10:38,705] Trial 6 finished with values: [0.6621542552376751, 0.028375859000094122] and parameters: {'max_depth': 7, 'eta': 0.02771053894191089, 'subsample': 0.9595383355322611, 'colsample_bytree': 0.6693734722884934}.\n",
      "[I 2025-05-16 11:10:38,836] Trial 7 finished with values: [0.6550103696623809, 0.01684730562207254] and parameters: {'max_depth': 7, 'eta': 0.05672210976027209, 'subsample': 0.658144623808295, 'colsample_bytree': 0.7846714122158877}.\n",
      "[I 2025-05-16 11:10:38,921] Trial 8 finished with values: [0.6571501655776224, 0.01874965249004255] and parameters: {'max_depth': 3, 'eta': 0.1194182251916336, 'subsample': 0.7565819861507918, 'colsample_bytree': 0.8505440519376999}.\n",
      "[I 2025-05-16 11:10:39,067] Trial 9 finished with values: [0.6600205861539734, 0.017072914041533632] and parameters: {'max_depth': 6, 'eta': 0.06975188168899431, 'subsample': 0.696226691954471, 'colsample_bytree': 0.7225397295132111}.\n",
      "[I 2025-05-16 11:10:39,075] A new study created in memory with name: no-name-b491fa20-c4dc-4721-96d7-ccc182bb88d6\n",
      "[I 2025-05-16 11:10:39,206] Trial 0 finished with values: [0.6714318098966711, 0.017349104312447888] and parameters: {'max_depth': 4, 'eta': 0.27383716386847046, 'subsample': 0.8870398961733109, 'colsample_bytree': 0.8374387356952938}.\n"
     ]
    },
    {
     "name": "stdout",
     "output_type": "stream",
     "text": [
      "Completed study for alpha=0.15\n"
     ]
    },
    {
     "name": "stderr",
     "output_type": "stream",
     "text": [
      "[I 2025-05-16 11:10:39,385] Trial 1 finished with values: [0.6728685518927314, 0.03965375329044174] and parameters: {'max_depth': 6, 'eta': 0.15815371490159763, 'subsample': 0.9982970167326417, 'colsample_bytree': 0.7701179847652344}.\n",
      "[I 2025-05-16 11:10:39,494] Trial 2 finished with values: [0.6657231346095523, 0.006890786764023345] and parameters: {'max_depth': 5, 'eta': 0.25925623794180147, 'subsample': 0.7915798160051994, 'colsample_bytree': 0.7209469598391924}.\n",
      "[I 2025-05-16 11:10:39,612] Trial 3 finished with values: [0.6542843401249261, 0.025224577233965522] and parameters: {'max_depth': 5, 'eta': 0.0708163532175412, 'subsample': 0.930224740022767, 'colsample_bytree': 0.9872674931253829}.\n",
      "[I 2025-05-16 11:10:39,786] Trial 4 finished with values: [0.6600205861539734, 0.038803765567132414] and parameters: {'max_depth': 4, 'eta': 0.06481401710473947, 'subsample': 0.9963826477148, 'colsample_bytree': 0.7344186067956949}.\n",
      "[I 2025-05-16 11:10:40,023] Trial 5 finished with values: [0.6700119166873447, 0.029309644814415125] and parameters: {'max_depth': 3, 'eta': 0.20299157778319096, 'subsample': 0.6122142372835259, 'colsample_bytree': 0.9225102798673548}.\n",
      "[I 2025-05-16 11:10:40,150] Trial 6 finished with values: [0.6650124221509468, 0.02840757341462986] and parameters: {'max_depth': 3, 'eta': 0.17306007057667624, 'subsample': 0.7112263402139487, 'colsample_bytree': 0.8568135943773609}.\n",
      "[I 2025-05-16 11:10:40,260] Trial 7 finished with values: [0.668581301522824, 0.048521627206855954] and parameters: {'max_depth': 4, 'eta': 0.2723995671268785, 'subsample': 0.7332084911577941, 'colsample_bytree': 0.8287568127390343}.\n",
      "[I 2025-05-16 11:10:40,349] Trial 8 finished with values: [0.6628695628199356, 0.01420767488699537] and parameters: {'max_depth': 4, 'eta': 0.17973392486961462, 'subsample': 0.864039532210137, 'colsample_bytree': 0.7034103541356511}.\n",
      "[I 2025-05-16 11:10:40,502] Trial 9 finished with values: [0.6678675256484485, 0.014261334269691709] and parameters: {'max_depth': 7, 'eta': 0.11394231361739456, 'subsample': 0.9825117089435981, 'colsample_bytree': 0.977315610751105}.\n",
      "[I 2025-05-16 11:10:40,509] A new study created in memory with name: no-name-c575e72b-d473-4661-9e77-327aba7bc30a\n",
      "[I 2025-05-16 11:10:40,651] Trial 0 finished with values: [0.662861904280511, 0.0256412571513492] and parameters: {'max_depth': 5, 'eta': 0.1375558836016055, 'subsample': 0.859305098685269, 'colsample_bytree': 0.6223098611760189}.\n"
     ]
    },
    {
     "name": "stdout",
     "output_type": "stream",
     "text": [
      "Completed study for alpha=0.16\n"
     ]
    },
    {
     "name": "stderr",
     "output_type": "stream",
     "text": [
      "[I 2025-05-16 11:10:40,785] Trial 1 finished with values: [0.6564394531190167, 0.03036874572244509] and parameters: {'max_depth': 4, 'eta': 0.09476065510943504, 'subsample': 0.7429322899514186, 'colsample_bytree': 0.7058057369723014}.\n",
      "[I 2025-05-16 11:10:40,946] Trial 2 finished with values: [0.6657216029016674, 0.025169711414438817] and parameters: {'max_depth': 3, 'eta': 0.29198927282219705, 'subsample': 0.8856098502672827, 'colsample_bytree': 0.9962305521981225}.\n",
      "[I 2025-05-16 11:10:41,082] Trial 3 finished with values: [0.677154270554754, 0.05342354742347014] and parameters: {'max_depth': 5, 'eta': 0.23685817808459533, 'subsample': 0.7149247223867354, 'colsample_bytree': 0.9523257364159876}.\n",
      "[I 2025-05-16 11:10:41,188] Trial 4 finished with values: [0.6778634513054747, 0.034954568454629575] and parameters: {'max_depth': 6, 'eta': 0.2728020433669643, 'subsample': 0.7782023121940096, 'colsample_bytree': 0.940618508105432}.\n",
      "[I 2025-05-16 11:10:41,345] Trial 5 finished with values: [0.662157318653445, 0.04343869322734734] and parameters: {'max_depth': 5, 'eta': 0.04638861770606223, 'subsample': 0.9764965490609545, 'colsample_bytree': 0.6557109720487059}.\n",
      "[I 2025-05-16 11:10:41,545] Trial 6 finished with values: [0.6578700682835376, 0.024346226687061767] and parameters: {'max_depth': 6, 'eta': 0.019338624270007095, 'subsample': 0.634842458238186, 'colsample_bytree': 0.7205139421223355}.\n",
      "[I 2025-05-16 11:10:41,739] Trial 7 finished with values: [0.6564333262874771, 0.023573120260935925] and parameters: {'max_depth': 7, 'eta': 0.014759111619372427, 'subsample': 0.744827042813182, 'colsample_bytree': 0.9887446557874959}.\n",
      "[I 2025-05-16 11:10:41,850] Trial 8 finished with values: [0.6750114112237426, 0.0318387248873723] and parameters: {'max_depth': 5, 'eta': 0.11086824726870535, 'subsample': 0.905470148396244, 'colsample_bytree': 0.6800571540917646}.\n",
      "[I 2025-05-16 11:10:41,946] Trial 9 finished with values: [0.6678705890642184, 0.024139399460216805] and parameters: {'max_depth': 3, 'eta': 0.16726872758437433, 'subsample': 0.883753207989586, 'colsample_bytree': 0.7835443165910287}.\n",
      "[I 2025-05-16 11:10:41,950] A new study created in memory with name: no-name-e861e014-05f6-4456-a80b-120839f2aba5\n"
     ]
    },
    {
     "name": "stdout",
     "output_type": "stream",
     "text": [
      "Completed study for alpha=0.17\n"
     ]
    },
    {
     "name": "stderr",
     "output_type": "stream",
     "text": [
      "[I 2025-05-16 11:10:42,156] Trial 0 finished with values: [0.6643001779844563, 0.031482214313062744] and parameters: {'max_depth': 5, 'eta': 0.05523625078337539, 'subsample': 0.825960501323191, 'colsample_bytree': 0.6680659937480131}.\n",
      "[I 2025-05-16 11:10:42,342] Trial 1 finished with values: [0.667858335401139, 0.02757058779990802] and parameters: {'max_depth': 5, 'eta': 0.1677044267395572, 'subsample': 0.9899863568577066, 'colsample_bytree': 0.6631133607364127}.\n",
      "[I 2025-05-16 11:10:42,477] Trial 2 finished with values: [0.6800124374680255, 0.03709682145340582] and parameters: {'max_depth': 7, 'eta': 0.15747837746148566, 'subsample': 0.9375661270257787, 'colsample_bytree': 0.7753859095539031}.\n",
      "[I 2025-05-16 11:10:42,674] Trial 3 finished with values: [0.6657154760701277, 0.035611627973600894] and parameters: {'max_depth': 6, 'eta': 0.03737937154080934, 'subsample': 0.9185344949267663, 'colsample_bytree': 0.8725428892482816}.\n",
      "[I 2025-05-16 11:10:42,809] Trial 4 finished with values: [0.6778711098448992, 0.024954149405583687] and parameters: {'max_depth': 4, 'eta': 0.2610491266567077, 'subsample': 0.8480591237271555, 'colsample_bytree': 0.8346949224264371}.\n",
      "[I 2025-05-16 11:10:42,985] Trial 5 finished with values: [0.6578777268229622, 0.03939012672948005] and parameters: {'max_depth': 7, 'eta': 0.038662075576015066, 'subsample': 0.8427352578784159, 'colsample_bytree': 0.7946131141588936}.\n",
      "[I 2025-05-16 11:10:43,116] Trial 6 finished with values: [0.6642986462765713, 0.02278810824831907] and parameters: {'max_depth': 6, 'eta': 0.12736962935085266, 'subsample': 0.6032488689900825, 'colsample_bytree': 0.7028419602773938}.\n",
      "[I 2025-05-16 11:10:43,273] Trial 7 finished with values: [0.680727745050286, 0.03352589697831818] and parameters: {'max_depth': 5, 'eta': 0.298586586519087, 'subsample': 0.6416807190408741, 'colsample_bytree': 0.6916261285217842}.\n",
      "[I 2025-05-16 11:10:43,420] Trial 8 finished with values: [0.6585884392815677, 0.02317907772652611] and parameters: {'max_depth': 3, 'eta': 0.0584438307377701, 'subsample': 0.7563741174838361, 'colsample_bytree': 0.6744367075053447}.\n",
      "[I 2025-05-16 11:10:43,559] Trial 9 finished with values: [0.6685721112755143, 0.04226454246698425] and parameters: {'max_depth': 6, 'eta': 0.22568131220829635, 'subsample': 0.9832969475069152, 'colsample_bytree': 0.8701972907497896}.\n",
      "[I 2025-05-16 11:10:43,564] A new study created in memory with name: no-name-8e8e0b0f-a28a-497e-855a-7e8b914c8c07\n",
      "[I 2025-05-16 11:10:43,691] Trial 0 finished with values: [0.6842843707590838, 0.029858340391809807] and parameters: {'max_depth': 7, 'eta': 0.25094294187978833, 'subsample': 0.9215721675114725, 'colsample_bytree': 0.6242920396760757}.\n"
     ]
    },
    {
     "name": "stdout",
     "output_type": "stream",
     "text": [
      "Completed study for alpha=0.18\n"
     ]
    },
    {
     "name": "stderr",
     "output_type": "stream",
     "text": [
      "[I 2025-05-16 11:10:43,810] Trial 1 finished with values: [0.6757251870981181, 0.04250266482218223] and parameters: {'max_depth': 4, 'eta': 0.17305682727522642, 'subsample': 0.6326578880156447, 'colsample_bytree': 0.8387696707456375}.\n",
      "[I 2025-05-16 11:10:44,051] Trial 2 finished with values: [0.6642909877371467, 0.02655009895717043] and parameters: {'max_depth': 7, 'eta': 0.09546506045437232, 'subsample': 0.7426758463017276, 'colsample_bytree': 0.7800315989350052}.\n",
      "[I 2025-05-16 11:10:44,170] Trial 3 finished with values: [0.6671522180661881, 0.03549560609899637] and parameters: {'max_depth': 3, 'eta': 0.2038293870766228, 'subsample': 0.6042602930198057, 'colsample_bytree': 0.8356261210920161}.\n",
      "[I 2025-05-16 11:10:44,298] Trial 4 finished with values: [0.6692966091050844, 0.03898940551004665] and parameters: {'max_depth': 5, 'eta': 0.08699919710037995, 'subsample': 0.9782230636753725, 'colsample_bytree': 0.6566267480016449}.\n",
      "[I 2025-05-16 11:10:44,416] Trial 5 finished with values: [0.6835828485477878, 0.0425149052683958] and parameters: {'max_depth': 5, 'eta': 0.23642452438329065, 'subsample': 0.8549774712270302, 'colsample_bytree': 0.8408645313489512}.\n",
      "[I 2025-05-16 11:10:44,519] Trial 6 finished with values: [0.6714410001439806, 0.05183861756075081] and parameters: {'max_depth': 3, 'eta': 0.2950240318759686, 'subsample': 0.9223585116793798, 'colsample_bytree': 0.8877768369503041}.\n",
      "[I 2025-05-16 11:10:44,656] Trial 7 finished with values: [0.6678705890642185, 0.03480735425096232] and parameters: {'max_depth': 7, 'eta': 0.07690231705973327, 'subsample': 0.8251109560415305, 'colsample_bytree': 0.75530627519858}.\n",
      "[I 2025-05-16 11:10:44,745] Trial 8 finished with values: [0.6700088532715749, 0.04013491226647125] and parameters: {'max_depth': 3, 'eta': 0.25035830085600924, 'subsample': 0.7155564136682551, 'colsample_bytree': 0.8388801065097415}.\n",
      "[I 2025-05-16 11:10:44,848] Trial 9 finished with values: [0.6692996725208542, 0.036328885295191134] and parameters: {'max_depth': 7, 'eta': 0.16147129950032688, 'subsample': 0.7950954552754317, 'colsample_bytree': 0.7929559363416231}.\n",
      "[I 2025-05-16 11:10:44,852] A new study created in memory with name: no-name-b533a938-85f6-4094-ab7b-2167cd8f239b\n",
      "[I 2025-05-16 11:10:44,983] Trial 0 finished with values: [0.6692966091050844, 0.03232792358202044] and parameters: {'max_depth': 6, 'eta': 0.13111302666582478, 'subsample': 0.8331938679540002, 'colsample_bytree': 0.7888873088288579}.\n"
     ]
    },
    {
     "name": "stdout",
     "output_type": "stream",
     "text": [
      "Completed study for alpha=0.19\n"
     ]
    },
    {
     "name": "stderr",
     "output_type": "stream",
     "text": [
      "[I 2025-05-16 11:10:45,101] Trial 1 finished with values: [0.665732324856862, 0.03750815774756822] and parameters: {'max_depth': 4, 'eta': 0.11372414619517805, 'subsample': 0.773066746243381, 'colsample_bytree': 0.746690647295593}.\n",
      "[I 2025-05-16 11:10:45,333] Trial 2 finished with values: [0.6685751746912842, 0.040504568316393076] and parameters: {'max_depth': 7, 'eta': 0.1518297355192302, 'subsample': 0.6615289514170392, 'colsample_bytree': 0.7955929672909797}.\n",
      "[I 2025-05-16 11:10:45,567] Trial 3 finished with values: [0.677152738846869, 0.041552562257923815] and parameters: {'max_depth': 7, 'eta': 0.22344012891620557, 'subsample': 0.728482077743698, 'colsample_bytree': 0.9001209077001394}.\n",
      "[I 2025-05-16 11:10:45,699] Trial 4 finished with values: [0.6771512071389841, 0.03877272396043957] and parameters: {'max_depth': 7, 'eta': 0.17001611616917112, 'subsample': 0.7645544931708326, 'colsample_bytree': 0.7965724877257304}.\n",
      "[I 2025-05-16 11:10:45,813] Trial 5 finished with values: [0.6835721265925933, 0.044944410885725844] and parameters: {'max_depth': 7, 'eta': 0.2610567519315485, 'subsample': 0.7754143944156533, 'colsample_bytree': 0.872049488137806}.\n",
      "[I 2025-05-16 11:10:46,060] Trial 6 finished with values: [0.663581806986426, 0.04716727103342535] and parameters: {'max_depth': 6, 'eta': 0.01005739708242367, 'subsample': 0.7627596464369816, 'colsample_bytree': 0.7504948253210204}.\n",
      "[I 2025-05-16 11:10:46,158] Trial 7 finished with values: [0.6785848857192747, 0.035198807279679396] and parameters: {'max_depth': 6, 'eta': 0.2348187571271038, 'subsample': 0.8681102529996202, 'colsample_bytree': 0.7994969337348541}.\n",
      "[I 2025-05-16 11:10:46,249] Trial 8 finished with values: [0.6685828332307088, 0.038282217633027554] and parameters: {'max_depth': 3, 'eta': 0.24659310890080519, 'subsample': 0.9523727575911877, 'colsample_bytree': 0.6044676933227638}.\n",
      "[I 2025-05-16 11:10:46,549] Trial 9 finished with values: [0.6585853758657979, 0.0261705135999499] and parameters: {'max_depth': 3, 'eta': 0.01635970283660694, 'subsample': 0.7211468181247768, 'colsample_bytree': 0.851702918635953}.\n",
      "[I 2025-05-16 11:10:46,555] A new study created in memory with name: no-name-8b7f8cb3-643b-470f-85f7-402c2a52f704\n",
      "[I 2025-05-16 11:10:46,681] Trial 0 finished with values: [0.6857195810472594, 0.04941134332414521] and parameters: {'max_depth': 7, 'eta': 0.2159487901615925, 'subsample': 0.9833441560786991, 'colsample_bytree': 0.8377892151433226}.\n"
     ]
    },
    {
     "name": "stdout",
     "output_type": "stream",
     "text": [
      "Completed study for alpha=0.2\n"
     ]
    },
    {
     "name": "stderr",
     "output_type": "stream",
     "text": [
      "[I 2025-05-16 11:10:46,814] Trial 1 finished with values: [0.6771435485995595, 0.0453960331102169] and parameters: {'max_depth': 7, 'eta': 0.17966012088090497, 'subsample': 0.8458984854309952, 'colsample_bytree': 0.8075345705061836}.\n",
      "[I 2025-05-16 11:10:47,228] Trial 2 finished with values: [0.6643017096923413, 0.012689030199545584] and parameters: {'max_depth': 4, 'eta': 0.04577292766512013, 'subsample': 0.7370862973273735, 'colsample_bytree': 0.9507886610261804}.\n",
      "[I 2025-05-16 11:10:47,505] Trial 3 finished with values: [0.6807139596793217, 0.03286473673887971] and parameters: {'max_depth': 7, 'eta': 0.21266368675624, 'subsample': 0.7018747425397933, 'colsample_bytree': 0.6262942731975109}.\n",
      "[I 2025-05-16 11:10:47,712] Trial 4 finished with values: [0.6671430278188786, 0.02961667387326718] and parameters: {'max_depth': 4, 'eta': 0.04105707909216581, 'subsample': 0.8602289105978795, 'colsample_bytree': 0.9767930519943967}.\n",
      "[I 2025-05-16 11:10:47,892] Trial 5 finished with values: [0.6685767063991692, 0.03069173044614303] and parameters: {'max_depth': 6, 'eta': 0.18449602275105673, 'subsample': 0.6807316063075237, 'colsample_bytree': 0.9920936566589038}.\n",
      "[I 2025-05-16 11:10:48,054] Trial 6 finished with values: [0.6735685423961426, 0.027644465022833464] and parameters: {'max_depth': 5, 'eta': 0.24412239628733168, 'subsample': 0.9460954634429595, 'colsample_bytree': 0.7234895801433172}.\n",
      "[I 2025-05-16 11:10:48,169] Trial 7 finished with values: [0.6728685518927314, 0.03532549747020705] and parameters: {'max_depth': 5, 'eta': 0.1236148949548226, 'subsample': 0.7630327542421265, 'colsample_bytree': 0.7783949288474615}.\n",
      "[I 2025-05-16 11:10:48,307] Trial 8 finished with values: [0.6621603820692149, 0.0507890847893126] and parameters: {'max_depth': 6, 'eta': 0.0349840087903301, 'subsample': 0.7068820531685029, 'colsample_bytree': 0.8151865582464387}.\n",
      "[I 2025-05-16 11:10:48,397] Trial 9 finished with values: [0.6628634359883958, 0.016951841980136346] and parameters: {'max_depth': 3, 'eta': 0.2109875837452384, 'subsample': 0.8679776477180723, 'colsample_bytree': 0.8593776022682228}.\n",
      "[I 2025-05-16 11:10:48,401] A new study created in memory with name: no-name-b29e2a0a-b8b6-493e-8e8b-df3e41530044\n",
      "[I 2025-05-16 11:10:48,565] Trial 0 finished with values: [0.6585777173263733, 0.026051719800999695] and parameters: {'max_depth': 3, 'eta': 0.039264631926808354, 'subsample': 0.694712525045054, 'colsample_bytree': 0.6540345250708811}.\n"
     ]
    },
    {
     "name": "stdout",
     "output_type": "stream",
     "text": [
      "Completed study for alpha=0.21\n"
     ]
    },
    {
     "name": "stderr",
     "output_type": "stream",
     "text": [
      "[I 2025-05-16 11:10:48,693] Trial 1 finished with values: [0.6678568036932541, 0.024938516855541642] and parameters: {'max_depth': 7, 'eta': 0.13939701178880978, 'subsample': 0.6967442287509492, 'colsample_bytree': 0.6569605731215881}.\n",
      "[I 2025-05-16 11:10:48,927] Trial 2 finished with values: [0.6628649676962808, 0.03831423343136154] and parameters: {'max_depth': 5, 'eta': 0.010030510547903508, 'subsample': 0.7172627251604099, 'colsample_bytree': 0.7743398900291708}.\n",
      "[I 2025-05-16 11:10:49,019] Trial 3 finished with values: [0.6750068161000878, 0.02997999318434726] and parameters: {'max_depth': 4, 'eta': 0.29264793628200414, 'subsample': 0.7292367805435409, 'colsample_bytree': 0.618628916844695}.\n",
      "[I 2025-05-16 11:10:49,115] Trial 4 finished with values: [0.6707256925617201, 0.053998762583000036] and parameters: {'max_depth': 4, 'eta': 0.2317273308098959, 'subsample': 0.9561030819796023, 'colsample_bytree': 0.8584233132490848}.\n",
      "[I 2025-05-16 11:10:49,208] Trial 5 finished with values: [0.662860372572626, 0.022013079779920102] and parameters: {'max_depth': 3, 'eta': 0.158656647472415, 'subsample': 0.8271787479723378, 'colsample_bytree': 0.6245459809915298}.\n",
      "[I 2025-05-16 11:10:49,300] Trial 6 finished with values: [0.6714394684360956, 0.03227324018114671] and parameters: {'max_depth': 3, 'eta': 0.2758057434609365, 'subsample': 0.7200593736922376, 'colsample_bytree': 0.9945108933722064}.\n",
      "[I 2025-05-16 11:10:49,455] Trial 7 finished with values: [0.6614450744869544, 0.035550079492541624] and parameters: {'max_depth': 4, 'eta': 0.02807916252039582, 'subsample': 0.6105417405117413, 'colsample_bytree': 0.78500942799563}.\n",
      "[I 2025-05-16 11:10:49,586] Trial 8 finished with values: [0.6692966091050844, 0.018586559951571584] and parameters: {'max_depth': 6, 'eta': 0.045117348715280205, 'subsample': 0.7808611485191299, 'colsample_bytree': 0.9560742846829464}.\n",
      "[I 2025-05-16 11:10:49,679] Trial 9 finished with values: [0.6757236553902333, 0.035467456964639155] and parameters: {'max_depth': 4, 'eta': 0.1902993028808502, 'subsample': 0.6529337033848566, 'colsample_bytree': 0.7770355845670671}.\n",
      "[I 2025-05-16 11:10:49,683] A new study created in memory with name: no-name-2ab1084c-e149-4c9f-92d8-63ee68c083c7\n",
      "[I 2025-05-16 11:10:49,867] Trial 0 finished with values: [0.6685828332307088, 0.05288212679920731] and parameters: {'max_depth': 7, 'eta': 0.01498024543125468, 'subsample': 0.9370101482527976, 'colsample_bytree': 0.6604157878509106}.\n"
     ]
    },
    {
     "name": "stdout",
     "output_type": "stream",
     "text": [
      "Completed study for alpha=0.22\n"
     ]
    },
    {
     "name": "stderr",
     "output_type": "stream",
     "text": [
      "[I 2025-05-16 11:10:49,978] Trial 1 finished with values: [0.6692889505656597, 0.047422868146794084] and parameters: {'max_depth': 4, 'eta': 0.11416867668550432, 'subsample': 0.9856058483806397, 'colsample_bytree': 0.9919292503811558}.\n",
      "[I 2025-05-16 11:10:50,122] Trial 2 finished with values: [0.6542981254958904, 0.03219094772905695] and parameters: {'max_depth': 3, 'eta': 0.018662894029514702, 'subsample': 0.9615028799049589, 'colsample_bytree': 0.79870610811581}.\n",
      "[I 2025-05-16 11:10:50,214] Trial 3 finished with values: [0.6792940664699954, 0.03793814760509993] and parameters: {'max_depth': 3, 'eta': 0.29642766868623177, 'subsample': 0.7309225697568834, 'colsample_bytree': 0.8147545135299598}.\n",
      "[I 2025-05-16 11:10:50,333] Trial 4 finished with values: [0.6614404793632996, 0.037976104512404886] and parameters: {'max_depth': 6, 'eta': 0.07253026254657957, 'subsample': 0.9650811481095927, 'colsample_bytree': 0.7173222142385535}.\n",
      "[I 2025-05-16 11:10:50,439] Trial 5 finished with values: [0.6735838594749918, 0.0376817441763109] and parameters: {'max_depth': 6, 'eta': 0.11091074013179182, 'subsample': 0.7581256560731671, 'colsample_bytree': 0.8921934754435257}.\n",
      "[I 2025-05-16 11:10:50,563] Trial 6 finished with values: [0.6650047636115222, 0.05610323387809332] and parameters: {'max_depth': 6, 'eta': 0.14303388178484513, 'subsample': 0.9738541516032815, 'colsample_bytree': 0.7168356414261784}.\n",
      "[I 2025-05-16 11:10:50,654] Trial 7 finished with values: [0.6593022151559432, 0.029155215150518988] and parameters: {'max_depth': 3, 'eta': 0.10305054697527827, 'subsample': 0.9309765854402299, 'colsample_bytree': 0.7737358797535497}.\n",
      "[I 2025-05-16 11:10:50,780] Trial 8 finished with values: [0.6635710850312315, 0.06613660785076479] and parameters: {'max_depth': 7, 'eta': 0.0712660936359105, 'subsample': 0.9782281691564017, 'colsample_bytree': 0.8416175539729115}.\n",
      "[I 2025-05-16 11:10:50,903] Trial 9 finished with values: [0.6878593769625008, 0.0628397558938722] and parameters: {'max_depth': 5, 'eta': 0.2787969600011912, 'subsample': 0.6560494885073425, 'colsample_bytree': 0.9107926559934443}.\n",
      "[I 2025-05-16 11:10:50,907] A new study created in memory with name: no-name-5ab55b7f-daa1-476a-b188-e410afd47cf0\n",
      "[I 2025-05-16 11:10:51,022] Trial 0 finished with values: [0.671433341604556, 0.055341223692906456] and parameters: {'max_depth': 5, 'eta': 0.19672785151871863, 'subsample': 0.8353534543307684, 'colsample_bytree': 0.8728534759776254}.\n"
     ]
    },
    {
     "name": "stdout",
     "output_type": "stream",
     "text": [
      "Completed study for alpha=0.23\n"
     ]
    },
    {
     "name": "stderr",
     "output_type": "stream",
     "text": [
      "[I 2025-05-16 11:10:51,291] Trial 1 finished with values: [0.6685751746912842, 0.04355740474319553] and parameters: {'max_depth': 7, 'eta': 0.030614990139006995, 'subsample': 0.8615960118186805, 'colsample_bytree': 0.8838525383941009}.\n",
      "[I 2025-05-16 11:10:51,409] Trial 2 finished with values: [0.6707210974380654, 0.04471933444537183] and parameters: {'max_depth': 5, 'eta': 0.22966527838350373, 'subsample': 0.9536746479852788, 'colsample_bytree': 0.6379770859633439}.\n",
      "[I 2025-05-16 11:10:51,536] Trial 3 finished with values: [0.6585823124500281, 0.025355517706022474] and parameters: {'max_depth': 3, 'eta': 0.17266311921216962, 'subsample': 0.9660164005508067, 'colsample_bytree': 0.9952719756984036}.\n",
      "[I 2025-05-16 11:10:51,711] Trial 4 finished with values: [0.6621511918219053, 0.034779009596415535] and parameters: {'max_depth': 7, 'eta': 0.07205868023340174, 'subsample': 0.6140026532388966, 'colsample_bytree': 0.7591724714820685}.\n",
      "[I 2025-05-16 11:10:51,850] Trial 5 finished with values: [0.6792833445148009, 0.027444791405025926] and parameters: {'max_depth': 5, 'eta': 0.26233296867482825, 'subsample': 0.860958381547591, 'colsample_bytree': 0.6677212499319942}.\n",
      "[I 2025-05-16 11:10:52,057] Trial 6 finished with values: [0.6600098641987789, 0.04498844134919666] and parameters: {'max_depth': 6, 'eta': 0.03179292807801052, 'subsample': 0.9714779313851618, 'colsample_bytree': 0.618424780852166}.\n",
      "[I 2025-05-16 11:10:52,213] Trial 7 finished with values: [0.6785772271798501, 0.033923631401159844] and parameters: {'max_depth': 7, 'eta': 0.1698972758025817, 'subsample': 0.8367722886128046, 'colsample_bytree': 0.608169075676188}.\n",
      "[I 2025-05-16 11:10:52,344] Trial 8 finished with values: [0.6807124279714367, 0.07938684081483662] and parameters: {'max_depth': 6, 'eta': 0.2548490746675823, 'subsample': 0.6590230045838158, 'colsample_bytree': 0.9683960690188009}.\n",
      "[I 2025-05-16 11:10:52,531] Trial 9 finished with values: [0.6628619042805108, 0.04802351757440144] and parameters: {'max_depth': 4, 'eta': 0.017291347583966638, 'subsample': 0.8457203921793071, 'colsample_bytree': 0.8163445631276318}.\n",
      "[I 2025-05-16 11:10:52,535] A new study created in memory with name: no-name-8ca97083-1c54-43da-846a-516e6ec86551\n",
      "[I 2025-05-16 11:10:52,704] Trial 0 finished with values: [0.6735670106882576, 0.056538214999541064] and parameters: {'max_depth': 7, 'eta': 0.18774630961251204, 'subsample': 0.7048051562488671, 'colsample_bytree': 0.7371265278394529}.\n"
     ]
    },
    {
     "name": "stdout",
     "output_type": "stream",
     "text": [
      "Completed study for alpha=0.24\n"
     ]
    },
    {
     "name": "stderr",
     "output_type": "stream",
     "text": [
      "[I 2025-05-16 11:10:52,896] Trial 1 finished with values: [0.6628680311120506, 0.03141417437525714] and parameters: {'max_depth': 4, 'eta': 0.02226603462599156, 'subsample': 0.7100891089813715, 'colsample_bytree': 0.6054596918107435}.\n",
      "[I 2025-05-16 11:10:53,010] Trial 2 finished with values: [0.6892884604191366, 0.057272664663034066] and parameters: {'max_depth': 7, 'eta': 0.21407158132232465, 'subsample': 0.9122861954922247, 'colsample_bytree': 0.681798621406053}.\n",
      "[I 2025-05-16 11:10:53,126] Trial 3 finished with values: [0.6921604127033726, 0.051605380623548136] and parameters: {'max_depth': 7, 'eta': 0.2229711231901915, 'subsample': 0.6365958884729485, 'colsample_bytree': 0.8196552777108196}.\n",
      "[I 2025-05-16 11:10:53,244] Trial 4 finished with values: [0.6785818223035048, 0.049955565508172706] and parameters: {'max_depth': 3, 'eta': 0.2784842083986224, 'subsample': 0.7184319663308143, 'colsample_bytree': 0.9293186492396983}.\n",
      "[I 2025-05-16 11:10:53,392] Trial 5 finished with values: [0.6721578394341258, 0.042320875555903886] and parameters: {'max_depth': 5, 'eta': 0.03948177376225339, 'subsample': 0.6133338153997377, 'colsample_bytree': 0.8990397914708672}.\n",
      "[I 2025-05-16 11:10:53,562] Trial 6 finished with values: [0.6714256830651313, 0.046703293262160085] and parameters: {'max_depth': 4, 'eta': 0.017072036781116177, 'subsample': 0.964722651414302, 'colsample_bytree': 0.9645507541803936}.\n",
      "[I 2025-05-16 11:10:53,666] Trial 7 finished with values: [0.6592930249086336, 0.021787477021480994] and parameters: {'max_depth': 3, 'eta': 0.1674446853636929, 'subsample': 0.9861366341390614, 'colsample_bytree': 0.7491501763496382}.\n",
      "[I 2025-05-16 11:10:53,761] Trial 8 finished with values: [0.6728654884769615, 0.04376619694249847] and parameters: {'max_depth': 6, 'eta': 0.21101221629456746, 'subsample': 0.9089415520948666, 'colsample_bytree': 0.7452894829540629}.\n",
      "[I 2025-05-16 11:10:53,855] Trial 9 finished with values: [0.6707256925617201, 0.042937248458461245] and parameters: {'max_depth': 4, 'eta': 0.2539119687479046, 'subsample': 0.9460492384378644, 'colsample_bytree': 0.769440870854186}.\n",
      "[I 2025-05-16 11:10:53,859] A new study created in memory with name: no-name-e63fa0a4-b9a6-4b45-9ff2-d05debcaa76a\n",
      "[I 2025-05-16 11:10:53,955] Trial 0 finished with values: [0.6550119013702659, 0.014319470115870508] and parameters: {'max_depth': 3, 'eta': 0.0908513616077274, 'subsample': 0.9525472600035804, 'colsample_bytree': 0.7140643783910755}.\n"
     ]
    },
    {
     "name": "stdout",
     "output_type": "stream",
     "text": [
      "Completed study for alpha=0.25\n"
     ]
    },
    {
     "name": "stderr",
     "output_type": "stream",
     "text": [
      "[I 2025-05-16 11:10:54,061] Trial 1 finished with values: [0.6835751900083631, 0.05049021956497265] and parameters: {'max_depth': 6, 'eta': 0.29894417198330686, 'subsample': 0.6628436511123043, 'colsample_bytree': 0.7203103623776138}.\n",
      "[I 2025-05-16 11:10:54,191] Trial 2 finished with values: [0.6742930402257125, 0.04878165845937019] and parameters: {'max_depth': 5, 'eta': 0.20922656630868514, 'subsample': 0.830183895199152, 'colsample_bytree': 0.9139727081932337}.\n",
      "[I 2025-05-16 11:10:54,288] Trial 3 finished with values: [0.6864318252137499, 0.06710748337266835] and parameters: {'max_depth': 5, 'eta': 0.24827091487320532, 'subsample': 0.644847756004648, 'colsample_bytree': 0.8416270004122816}.\n",
      "[I 2025-05-16 11:10:54,394] Trial 4 finished with values: [0.667858335401139, 0.03229561792690382] and parameters: {'max_depth': 4, 'eta': 0.11492425737742881, 'subsample': 0.7671475550306196, 'colsample_bytree': 0.7633070339926811}.\n",
      "[I 2025-05-16 11:10:54,556] Trial 5 finished with values: [0.6642879243213768, 0.02807914219960107] and parameters: {'max_depth': 4, 'eta': 0.017591476804063894, 'subsample': 0.626610672495695, 'colsample_bytree': 0.9598371101395319}.\n",
      "[I 2025-05-16 11:10:54,675] Trial 6 finished with values: [0.6714318098966711, 0.04281295442979242] and parameters: {'max_depth': 6, 'eta': 0.1274718067115554, 'subsample': 0.9527927026013766, 'colsample_bytree': 0.8752507580833707}.\n",
      "[I 2025-05-16 11:10:54,791] Trial 7 finished with values: [0.6692904822735445, 0.02486016500391965] and parameters: {'max_depth': 6, 'eta': 0.06415620062851372, 'subsample': 0.8492466136210994, 'colsample_bytree': 0.9906083637669502}.\n",
      "[I 2025-05-16 11:10:54,893] Trial 8 finished with values: [0.667155281481958, 0.038585713254095155] and parameters: {'max_depth': 4, 'eta': 0.15543043375448792, 'subsample': 0.873767729022054, 'colsample_bytree': 0.9782077405761295}.\n",
      "[I 2025-05-16 11:10:55,002] Trial 9 finished with values: [0.667153749774073, 0.03617211002741936] and parameters: {'max_depth': 4, 'eta': 0.07200374597121299, 'subsample': 0.6206914778750937, 'colsample_bytree': 0.8123198896609708}.\n",
      "[I 2025-05-16 11:10:55,007] A new study created in memory with name: no-name-ea4fefca-9fff-4d2b-acf2-bd217b8003e0\n",
      "[I 2025-05-16 11:10:55,132] Trial 0 finished with values: [0.6792726225596065, 0.04880765429262599] and parameters: {'max_depth': 7, 'eta': 0.25390723866750975, 'subsample': 0.7050009716967933, 'colsample_bytree': 0.8109165581175231}.\n"
     ]
    },
    {
     "name": "stdout",
     "output_type": "stream",
     "text": [
      "Completed study for alpha=0.26\n"
     ]
    },
    {
     "name": "stderr",
     "output_type": "stream",
     "text": [
      "[I 2025-05-16 11:10:55,268] Trial 1 finished with values: [0.6650032319036372, 0.030350731691952782] and parameters: {'max_depth': 5, 'eta': 0.1187358699819588, 'subsample': 0.9668887361938647, 'colsample_bytree': 0.6615350916882712}.\n",
      "[I 2025-05-16 11:10:55,587] Trial 2 finished with values: [0.6492955675437225, 0.03626717876272575] and parameters: {'max_depth': 3, 'eta': 0.011226608136824424, 'subsample': 0.8582528524494898, 'colsample_bytree': 0.7546682015059907}.\n",
      "[I 2025-05-16 11:10:55,863] Trial 3 finished with values: [0.6571486338697374, 0.016587473915604656] and parameters: {'max_depth': 3, 'eta': 0.19564061061451432, 'subsample': 0.8854684141929442, 'colsample_bytree': 0.8812657830438118}.\n",
      "[I 2025-05-16 11:10:55,998] Trial 4 finished with values: [0.6785787588877351, 0.03537279949085409] and parameters: {'max_depth': 4, 'eta': 0.20096988093961501, 'subsample': 0.8350561807607267, 'colsample_bytree': 0.6097962563889209}.\n",
      "[I 2025-05-16 11:10:56,146] Trial 5 finished with values: [0.6714210879414765, 0.05410373579981038] and parameters: {'max_depth': 6, 'eta': 0.23435106946567483, 'subsample': 0.7471012578265808, 'colsample_bytree': 0.9231700637570448}.\n",
      "[I 2025-05-16 11:10:56,257] Trial 6 finished with values: [0.6828736677970672, 0.049046025426895505] and parameters: {'max_depth': 4, 'eta': 0.21076901668640816, 'subsample': 0.7418150940255218, 'colsample_bytree': 0.8399943788440063}.\n",
      "[I 2025-05-16 11:10:56,405] Trial 7 finished with values: [0.6842935610063933, 0.0325819856823536] and parameters: {'max_depth': 7, 'eta': 0.2938586722513332, 'subsample': 0.9477618849152363, 'colsample_bytree': 0.6931308449726536}.\n",
      "[I 2025-05-16 11:10:56,522] Trial 8 finished with values: [0.6757221236823483, 0.050302177396963486] and parameters: {'max_depth': 5, 'eta': 0.2870027105321556, 'subsample': 0.6904717389179815, 'colsample_bytree': 0.6510045702144456}.\n",
      "[I 2025-05-16 11:10:56,703] Trial 9 finished with values: [0.6600113959066639, 0.02657744177610728] and parameters: {'max_depth': 3, 'eta': 0.017059111422279734, 'subsample': 0.806878177820152, 'colsample_bytree': 0.8644154891753641}.\n",
      "[I 2025-05-16 11:10:56,707] A new study created in memory with name: no-name-84217801-169d-4d50-9081-35686f0f6579\n",
      "[I 2025-05-16 11:10:56,830] Trial 0 finished with values: [0.6857134542157196, 0.04844083021526389] and parameters: {'max_depth': 6, 'eta': 0.23286331941499983, 'subsample': 0.8550162447288272, 'colsample_bytree': 0.9288179276716697}.\n"
     ]
    },
    {
     "name": "stdout",
     "output_type": "stream",
     "text": [
      "Completed study for alpha=0.27\n"
     ]
    },
    {
     "name": "stderr",
     "output_type": "stream",
     "text": [
      "[I 2025-05-16 11:10:56,941] Trial 1 finished with values: [0.683578253424133, 0.04648804942054858] and parameters: {'max_depth': 5, 'eta': 0.21357745250395252, 'subsample': 0.8958793908986518, 'colsample_bytree': 0.8102991043301875}.\n",
      "[I 2025-05-16 11:10:57,047] Trial 2 finished with values: [0.6814307989694669, 0.04804476405812127] and parameters: {'max_depth': 5, 'eta': 0.29303403326282973, 'subsample': 0.7735109884308831, 'colsample_bytree': 0.7396107745808423}.\n",
      "[I 2025-05-16 11:10:57,196] Trial 3 finished with values: [0.6671445595267635, 0.03539307441085032] and parameters: {'max_depth': 4, 'eta': 0.17585104283221176, 'subsample': 0.8525391303444516, 'colsample_bytree': 0.9972179345374494}.\n",
      "[I 2025-05-16 11:10:57,357] Trial 4 finished with values: [0.6742869133941728, 0.03895554830801214] and parameters: {'max_depth': 4, 'eta': 0.20645338087583573, 'subsample': 0.8643384700911114, 'colsample_bytree': 0.9291885982163365}.\n",
      "[I 2025-05-16 11:10:57,497] Trial 5 finished with values: [0.6771266998128253, 0.04596628661419766] and parameters: {'max_depth': 6, 'eta': 0.29241069935117714, 'subsample': 0.9417048766404038, 'colsample_bytree': 0.9092012098848534}.\n",
      "[I 2025-05-16 11:10:57,668] Trial 6 finished with values: [0.6557302723682961, 0.02745004515138491] and parameters: {'max_depth': 3, 'eta': 0.03286541297291083, 'subsample': 0.9426077683595584, 'colsample_bytree': 0.6451947246008328}.\n",
      "[I 2025-05-16 11:10:57,782] Trial 7 finished with values: [0.6592960883244036, 0.020881604854238695] and parameters: {'max_depth': 3, 'eta': 0.24871476364118986, 'subsample': 0.9385989624964858, 'colsample_bytree': 0.8638365477750847}.\n",
      "[I 2025-05-16 11:10:57,885] Trial 8 finished with values: [0.6657124126543579, 0.034857180612229276] and parameters: {'max_depth': 4, 'eta': 0.09599191623254011, 'subsample': 0.8936811756231464, 'colsample_bytree': 0.9561301278817842}.\n",
      "[I 2025-05-16 11:10:57,985] Trial 9 finished with values: [0.6671491546504184, 0.039764401322259196] and parameters: {'max_depth': 4, 'eta': 0.1740286592484676, 'subsample': 0.9274189759497523, 'colsample_bytree': 0.8771174811169746}.\n",
      "[I 2025-05-16 11:10:57,989] A new study created in memory with name: no-name-92d0f81f-58d3-44d2-bfc1-dbb2b3e3011c\n",
      "[I 2025-05-16 11:10:58,088] Trial 0 finished with values: [0.6714455952676354, 0.03124953615051095] and parameters: {'max_depth': 4, 'eta': 0.10652380004884375, 'subsample': 0.6726912552933628, 'colsample_bytree': 0.8742072796577813}.\n"
     ]
    },
    {
     "name": "stdout",
     "output_type": "stream",
     "text": [
      "Completed study for alpha=0.28\n"
     ]
    },
    {
     "name": "stderr",
     "output_type": "stream",
     "text": [
      "[I 2025-05-16 11:10:58,329] Trial 1 finished with values: [0.6707180340222955, 0.046889010675579344] and parameters: {'max_depth': 7, 'eta': 0.011250125462885363, 'subsample': 0.6417891894238253, 'colsample_bytree': 0.9425533584412875}.\n",
      "[I 2025-05-16 11:10:58,461] Trial 2 finished with values: [0.6657277297332072, 0.044065918855931] and parameters: {'max_depth': 7, 'eta': 0.07557389626372336, 'subsample': 0.9084698905549631, 'colsample_bytree': 0.6141392864547109}.\n",
      "[I 2025-05-16 11:10:58,574] Trial 3 finished with values: [0.6635726167391165, 0.034115901505521046] and parameters: {'max_depth': 4, 'eta': 0.20010953465865675, 'subsample': 0.8837606949339122, 'colsample_bytree': 0.9762496047048249}.\n",
      "[I 2025-05-16 11:10:58,801] Trial 4 finished with values: [0.6714440635597504, 0.03373380972181431] and parameters: {'max_depth': 4, 'eta': 0.014804045953243472, 'subsample': 0.785204084505673, 'colsample_bytree': 0.6505085333741488}.\n",
      "[I 2025-05-16 11:10:58,921] Trial 5 finished with values: [0.6621435332824807, 0.06976287971380314] and parameters: {'max_depth': 5, 'eta': 0.0794132803219914, 'subsample': 0.9634859200775555, 'colsample_bytree': 0.7918992723209622}.\n",
      "[I 2025-05-16 11:10:59,028] Trial 6 finished with values: [0.6771496754310992, 0.04599166163016555] and parameters: {'max_depth': 5, 'eta': 0.15880402129116974, 'subsample': 0.8859376045419212, 'colsample_bytree': 0.8916650278451757}.\n",
      "[I 2025-05-16 11:10:59,156] Trial 7 finished with values: [0.6692950773971994, 0.047637826204449306] and parameters: {'max_depth': 5, 'eta': 0.21823257202027627, 'subsample': 0.6752015453291887, 'colsample_bytree': 0.8047505951498344}.\n",
      "[I 2025-05-16 11:10:59,294] Trial 8 finished with values: [0.6535751593742054, 0.04281815011299613] and parameters: {'max_depth': 4, 'eta': 0.04394808094337658, 'subsample': 0.7254495702288626, 'colsample_bytree': 0.8229718070122298}.\n",
      "[I 2025-05-16 11:10:59,397] Trial 9 finished with values: [0.6664261885287333, 0.05118769122744648] and parameters: {'max_depth': 6, 'eta': 0.12615730264908545, 'subsample': 0.9122043143554732, 'colsample_bytree': 0.8070957455485457}.\n",
      "[I 2025-05-16 11:10:59,402] A new study created in memory with name: no-name-409da811-a092-4f3e-a631-9aa502e38300\n",
      "[I 2025-05-16 11:10:59,514] Trial 0 finished with values: [0.6685644527360898, 0.054938202480020404] and parameters: {'max_depth': 7, 'eta': 0.12745067776816288, 'subsample': 0.8268970451025346, 'colsample_bytree': 0.8787339314740192}.\n"
     ]
    },
    {
     "name": "stdout",
     "output_type": "stream",
     "text": [
      "Completed study for alpha=0.29\n"
     ]
    },
    {
     "name": "stderr",
     "output_type": "stream",
     "text": [
      "[I 2025-05-16 11:10:59,719] Trial 1 finished with values: [0.6564425165347866, 0.0286308687514386] and parameters: {'max_depth': 3, 'eta': 0.01160154438567634, 'subsample': 0.9641887880315247, 'colsample_bytree': 0.9108271466069334}.\n",
      "[I 2025-05-16 11:10:59,913] Trial 2 finished with values: [0.6550134330781509, 0.03655025516273198] and parameters: {'max_depth': 3, 'eta': 0.012443488096540745, 'subsample': 0.8940019450763408, 'colsample_bytree': 0.7247677103510258}.\n",
      "[I 2025-05-16 11:11:00,094] Trial 3 finished with values: [0.661432820823875, 0.06392754312720479] and parameters: {'max_depth': 6, 'eta': 0.0264558912447065, 'subsample': 0.9142569225628048, 'colsample_bytree': 0.7662430699299903}.\n",
      "[I 2025-05-16 11:11:00,256] Trial 4 finished with values: [0.6592976200322884, 0.030281194062595024] and parameters: {'max_depth': 3, 'eta': 0.03717388959437593, 'subsample': 0.7833512597515251, 'colsample_bytree': 0.8117341328158936}.\n",
      "[I 2025-05-16 11:11:00,418] Trial 5 finished with values: [0.6721440540631615, 0.05545482727540526] and parameters: {'max_depth': 6, 'eta': 0.10920841536396164, 'subsample': 0.9699212681759447, 'colsample_bytree': 0.7607028657211365}.\n",
      "[I 2025-05-16 11:11:00,586] Trial 6 finished with values: [0.6657261980253223, 0.03326475507285356] and parameters: {'max_depth': 4, 'eta': 0.0221324521931587, 'subsample': 0.7978839764292934, 'colsample_bytree': 0.716164915929419}.\n",
      "[I 2025-05-16 11:11:00,737] Trial 7 finished with values: [0.6778680464291295, 0.0410186838547807] and parameters: {'max_depth': 7, 'eta': 0.09124682179302866, 'subsample': 0.8516906888622826, 'colsample_bytree': 0.8998504991411331}.\n",
      "[I 2025-05-16 11:11:00,852] Trial 8 finished with values: [0.6692935456893144, 0.02581995276408028] and parameters: {'max_depth': 3, 'eta': 0.1782313809818113, 'subsample': 0.7447490294464558, 'colsample_bytree': 0.6240923919897302}.\n",
      "[I 2025-05-16 11:11:00,959] Trial 9 finished with values: [0.6721517126025861, 0.0442081057306348] and parameters: {'max_depth': 3, 'eta': 0.18322678997943234, 'subsample': 0.6160755928842532, 'colsample_bytree': 0.9517960664504546}.\n",
      "[I 2025-05-16 11:11:00,963] A new study created in memory with name: no-name-fc96e146-4748-48c1-8c2b-a68087b4cf69\n",
      "[I 2025-05-16 11:11:01,103] Trial 0 finished with values: [0.6892869287112516, 0.044917486756487934] and parameters: {'max_depth': 7, 'eta': 0.23826860011491222, 'subsample': 0.6836144462900504, 'colsample_bytree': 0.6344068196676288}.\n"
     ]
    },
    {
     "name": "stdout",
     "output_type": "stream",
     "text": [
      "Completed study for alpha=0.3\n"
     ]
    },
    {
     "name": "stderr",
     "output_type": "stream",
     "text": [
      "[I 2025-05-16 11:11:01,234] Trial 1 finished with values: [0.6735853911828767, 0.033954080516632755] and parameters: {'max_depth': 4, 'eta': 0.22646835455367142, 'subsample': 0.7161113313974323, 'colsample_bytree': 0.6911649255271994}.\n",
      "[I 2025-05-16 11:11:01,365] Trial 2 finished with values: [0.6564409848269017, 0.038594164221898104] and parameters: {'max_depth': 3, 'eta': 0.0918947210841272, 'subsample': 0.9246562442866317, 'colsample_bytree': 0.8779328848586285}.\n",
      "[I 2025-05-16 11:11:01,501] Trial 3 finished with values: [0.6607328303204639, 0.021877923335373407] and parameters: {'max_depth': 3, 'eta': 0.05142730428566503, 'subsample': 0.6142661213721381, 'colsample_bytree': 0.7007433615528312}.\n",
      "[I 2025-05-16 11:11:01,773] Trial 4 finished with values: [0.667153749774073, 0.05344417448784123] and parameters: {'max_depth': 4, 'eta': 0.029396410972215313, 'subsample': 0.8965140454612903, 'colsample_bytree': 0.881744407176025}.\n",
      "[I 2025-05-16 11:11:01,915] Trial 5 finished with values: [0.6621435332824807, 0.04153359884924814] and parameters: {'max_depth': 7, 'eta': 0.05806724762023561, 'subsample': 0.9464112403438466, 'colsample_bytree': 0.6946760185295117}.\n",
      "[I 2025-05-16 11:11:02,027] Trial 6 finished with values: [0.663581806986426, 0.025099086633264645] and parameters: {'max_depth': 3, 'eta': 0.11682004320269056, 'subsample': 0.8255485393099162, 'colsample_bytree': 0.7866238676586583}.\n",
      "[I 2025-05-16 11:11:02,159] Trial 7 finished with values: [0.6650017001957523, 0.032158045765848485] and parameters: {'max_depth': 4, 'eta': 0.0789339911025877, 'subsample': 0.7580048528387452, 'colsample_bytree': 0.751622106700736}.\n",
      "[I 2025-05-16 11:11:02,309] Trial 8 finished with values: [0.6614404793632996, 0.05014572285969543] and parameters: {'max_depth': 6, 'eta': 0.05242248688249977, 'subsample': 0.896229225650447, 'colsample_bytree': 0.7033368327782795}.\n",
      "[I 2025-05-16 11:11:02,494] Trial 9 finished with values: [0.6714394684360956, 0.0523884679630015] and parameters: {'max_depth': 5, 'eta': 0.04126139552169092, 'subsample': 0.7681270849206425, 'colsample_bytree': 0.8957313833481485}.\n",
      "[I 2025-05-16 11:11:02,499] A new study created in memory with name: no-name-9533f02c-aebd-43ae-9187-78312a4cb7c8\n",
      "[I 2025-05-16 11:11:02,612] Trial 0 finished with values: [0.6635802752785411, 0.03512083883067955] and parameters: {'max_depth': 3, 'eta': 0.19090517798535966, 'subsample': 0.6830407636775478, 'colsample_bytree': 0.8657009702788958}.\n"
     ]
    },
    {
     "name": "stdout",
     "output_type": "stream",
     "text": [
      "Completed study for alpha=0.31\n"
     ]
    },
    {
     "name": "stderr",
     "output_type": "stream",
     "text": [
      "[I 2025-05-16 11:11:02,739] Trial 1 finished with values: [0.6764374312646085, 0.03828300254964793] and parameters: {'max_depth': 5, 'eta': 0.19147911265394582, 'subsample': 0.6043793699653263, 'colsample_bytree': 0.618648303686809}.\n",
      "[I 2025-05-16 11:11:02,947] Trial 2 finished with values: [0.6735731375197972, 0.03066171634526658] and parameters: {'max_depth': 7, 'eta': 0.07200498778236028, 'subsample': 0.763584976675135, 'colsample_bytree': 0.9950187303470144}.\n",
      "[I 2025-05-16 11:11:03,046] Trial 3 finished with values: [0.6685751746912842, 0.04929400132108807] and parameters: {'max_depth': 5, 'eta': 0.15516093883991824, 'subsample': 0.9729039945842026, 'colsample_bytree': 0.8903656248075509}.\n",
      "[I 2025-05-16 11:11:03,146] Trial 4 finished with values: [0.676432836140954, 0.038019426761599806] and parameters: {'max_depth': 5, 'eta': 0.18199094913203023, 'subsample': 0.844907697675419, 'colsample_bytree': 0.693898925658535}.\n",
      "[I 2025-05-16 11:11:03,277] Trial 5 finished with values: [0.6792925347621104, 0.039636921734719756] and parameters: {'max_depth': 6, 'eta': 0.051013008202098954, 'subsample': 0.837296880646526, 'colsample_bytree': 0.9822083021797573}.\n",
      "[I 2025-05-16 11:11:03,387] Trial 6 finished with values: [0.672857829937537, 0.05719499515184765] and parameters: {'max_depth': 4, 'eta': 0.27220489098331224, 'subsample': 0.7109945054235711, 'colsample_bytree': 0.8055497054529377}.\n",
      "[I 2025-05-16 11:11:03,485] Trial 7 finished with values: [0.6714501903912901, 0.028712603464586206] and parameters: {'max_depth': 3, 'eta': 0.18059225745544719, 'subsample': 0.8318426575233822, 'colsample_bytree': 0.6648840266808006}.\n",
      "[I 2025-05-16 11:11:03,588] Trial 8 finished with values: [0.6692920139814297, 0.03475174518202406] and parameters: {'max_depth': 5, 'eta': 0.15721354850436656, 'subsample': 0.9258647323141529, 'colsample_bytree': 0.7225512528434457}.\n",
      "[I 2025-05-16 11:11:03,780] Trial 9 finished with values: [0.660708322994305, 0.024995414392471087] and parameters: {'max_depth': 4, 'eta': 0.18220782610754424, 'subsample': 0.8482278064428688, 'colsample_bytree': 0.7027455938154602}.\n",
      "[I 2025-05-16 11:11:03,785] A new study created in memory with name: no-name-d2cce0cb-26d7-4f18-8525-1bcf762d3726\n"
     ]
    },
    {
     "name": "stdout",
     "output_type": "stream",
     "text": [
      "Completed study for alpha=0.32\n"
     ]
    },
    {
     "name": "stderr",
     "output_type": "stream",
     "text": [
      "[I 2025-05-16 11:11:04,225] Trial 0 finished with values: [0.6778557927660499, 0.04438300545316332] and parameters: {'max_depth': 6, 'eta': 0.18401199001053625, 'subsample': 0.8713265742356251, 'colsample_bytree': 0.915328807582318}.\n",
      "[I 2025-05-16 11:11:05,626] Trial 1 finished with values: [0.6800017155128311, 0.05000051086182725] and parameters: {'max_depth': 6, 'eta': 0.2977544304566552, 'subsample': 0.7381130835989641, 'colsample_bytree': 0.6289040788776371}.\n",
      "[I 2025-05-16 11:11:06,024] Trial 2 finished with values: [0.6707318193932599, 0.016495541167546608] and parameters: {'max_depth': 6, 'eta': 0.105429182038609, 'subsample': 0.660041726783852, 'colsample_bytree': 0.6967862921510991}.\n",
      "[I 2025-05-16 11:11:06,814] Trial 3 finished with values: [0.6757297822217728, 0.05868602367977241] and parameters: {'max_depth': 5, 'eta': 0.1707696841893324, 'subsample': 0.6165337043896847, 'colsample_bytree': 0.9167852531945397}.\n",
      "[I 2025-05-16 11:11:07,608] Trial 4 finished with values: [0.6871425376723556, 0.06285369056984835] and parameters: {'max_depth': 5, 'eta': 0.25812825909249193, 'subsample': 0.6919619520321887, 'colsample_bytree': 0.9906098853175727}.\n",
      "[I 2025-05-16 11:11:07,920] Trial 5 finished with values: [0.6799971203891765, 0.04977053788804058] and parameters: {'max_depth': 7, 'eta': 0.1946491968430336, 'subsample': 0.6063418310993852, 'colsample_bytree': 0.7910896369229082}.\n",
      "[I 2025-05-16 11:11:08,254] Trial 6 finished with values: [0.6771466120153292, 0.04588968247150154] and parameters: {'max_depth': 4, 'eta': 0.18123967346592598, 'subsample': 0.9853311411369954, 'colsample_bytree': 0.943382677213174}.\n",
      "[I 2025-05-16 11:11:08,567] Trial 7 finished with values: [0.6685767063991692, 0.04759380383564835] and parameters: {'max_depth': 7, 'eta': 0.05505897913572363, 'subsample': 0.806068556900525, 'colsample_bytree': 0.6007800859230055}.\n",
      "[I 2025-05-16 11:11:08,770] Trial 8 finished with values: [0.6728731470163862, 0.07000422608301615] and parameters: {'max_depth': 4, 'eta': 0.269774304663567, 'subsample': 0.6102196034400645, 'colsample_bytree': 0.9170710071442867}.\n",
      "[I 2025-05-16 11:11:09,014] Trial 9 finished with values: [0.6814307989694669, 0.02906702584757385] and parameters: {'max_depth': 6, 'eta': 0.25511471447067163, 'subsample': 0.9059038655521781, 'colsample_bytree': 0.6594377349215931}.\n",
      "[I 2025-05-16 11:11:09,021] A new study created in memory with name: no-name-b410aa38-f96e-4963-af67-0bcc379516cc\n"
     ]
    },
    {
     "name": "stdout",
     "output_type": "stream",
     "text": [
      "Completed study for alpha=0.33\n"
     ]
    },
    {
     "name": "stderr",
     "output_type": "stream",
     "text": [
      "[I 2025-05-16 11:11:09,456] Trial 0 finished with values: [0.6749960941448935, 0.05622807781233982] and parameters: {'max_depth': 7, 'eta': 0.08116059471495946, 'subsample': 0.8171940551532926, 'colsample_bytree': 0.777234777360226}.\n",
      "[I 2025-05-16 11:11:09,606] Trial 1 finished with values: [0.6750098795158577, 0.04832081850716641] and parameters: {'max_depth': 5, 'eta': 0.19821661694545106, 'subsample': 0.6242518463619702, 'colsample_bytree': 0.9513821382675429}.\n",
      "[I 2025-05-16 11:11:09,756] Trial 2 finished with values: [0.6799955886812915, 0.06766055317893045] and parameters: {'max_depth': 6, 'eta': 0.21566680016231315, 'subsample': 0.6324439399182202, 'colsample_bytree': 0.9249706884671809}.\n",
      "[I 2025-05-16 11:11:09,899] Trial 3 finished with values: [0.692152754163948, 0.06521759015261695] and parameters: {'max_depth': 6, 'eta': 0.2992437604994128, 'subsample': 0.6238960757466594, 'colsample_bytree': 0.6845634817478689}.\n",
      "[I 2025-05-16 11:11:10,039] Trial 4 finished with values: [0.6714364050203258, 0.029438150217906984] and parameters: {'max_depth': 5, 'eta': 0.20457236502643217, 'subsample': 0.8155898090664211, 'colsample_bytree': 0.6383848168894756}.\n",
      "[I 2025-05-16 11:11:10,455] Trial 5 finished with values: [0.6771450803074445, 0.06241608305509849] and parameters: {'max_depth': 6, 'eta': 0.14888425901419583, 'subsample': 0.7036007791798179, 'colsample_bytree': 0.9603022723874506}.\n",
      "[I 2025-05-16 11:11:10,815] Trial 6 finished with values: [0.6714318098966711, 0.04228376229783954] and parameters: {'max_depth': 6, 'eta': 0.1530466206691019, 'subsample': 0.8007222480241838, 'colsample_bytree': 0.7585138046042676}.\n",
      "[I 2025-05-16 11:11:11,219] Trial 7 finished with values: [0.672856298229652, 0.034366773434007236] and parameters: {'max_depth': 5, 'eta': 0.12285614089804418, 'subsample': 0.8237950899708161, 'colsample_bytree': 0.9666888275882473}.\n",
      "[I 2025-05-16 11:11:11,526] Trial 8 finished with values: [0.6592930249086336, 0.023150976586892042] and parameters: {'max_depth': 3, 'eta': 0.22613983071439514, 'subsample': 0.8935730781814276, 'colsample_bytree': 0.7204781501642441}.\n",
      "[I 2025-05-16 11:11:11,722] Trial 9 finished with values: [0.6550134330781509, 0.022870256651284847] and parameters: {'max_depth': 3, 'eta': 0.06546551842078592, 'subsample': 0.9305880481918508, 'colsample_bytree': 0.7673308951606219}.\n",
      "[I 2025-05-16 11:11:11,728] A new study created in memory with name: no-name-ffe4912f-78c0-4666-b1c4-dcacae7b757c\n"
     ]
    },
    {
     "name": "stdout",
     "output_type": "stream",
     "text": [
      "Completed study for alpha=0.34\n"
     ]
    },
    {
     "name": "stderr",
     "output_type": "stream",
     "text": [
      "[I 2025-05-16 11:11:12,011] Trial 0 finished with values: [0.650713929045164, 0.07474719323389807] and parameters: {'max_depth': 5, 'eta': 0.042462398990103324, 'subsample': 0.979490199666568, 'colsample_bytree': 0.7853034275922893}.\n",
      "[I 2025-05-16 11:11:12,185] Trial 1 finished with values: [0.6757114017271538, 0.07256031553378742] and parameters: {'max_depth': 4, 'eta': 0.22317702260962266, 'subsample': 0.6890256779764597, 'colsample_bytree': 0.7712668370913607}.\n",
      "[I 2025-05-16 11:11:12,399] Trial 2 finished with values: [0.6700211069346543, 0.02971582697530743] and parameters: {'max_depth': 3, 'eta': 0.2185237722117077, 'subsample': 0.6132153186317485, 'colsample_bytree': 0.609115304754903}.\n",
      "[I 2025-05-16 11:11:12,630] Trial 3 finished with values: [0.6800139691759105, 0.04123811614189115] and parameters: {'max_depth': 6, 'eta': 0.10698309429720525, 'subsample': 0.8724691655222011, 'colsample_bytree': 0.6674501668235234}.\n",
      "[I 2025-05-16 11:11:12,915] Trial 4 finished with values: [0.6700149801031147, 0.03806715556126474] and parameters: {'max_depth': 3, 'eta': 0.2922120074126418, 'subsample': 0.7263142301589156, 'colsample_bytree': 0.7064854193115491}.\n",
      "[I 2025-05-16 11:11:13,576] Trial 5 finished with values: [0.6657200711937824, 0.055935622600110396] and parameters: {'max_depth': 6, 'eta': 0.017022365561940637, 'subsample': 0.840588450953342, 'colsample_bytree': 0.6917698249064492}.\n",
      "[I 2025-05-16 11:11:13,783] Trial 6 finished with values: [0.677874173260669, 0.07508311887494416] and parameters: {'max_depth': 4, 'eta': 0.2200599213990289, 'subsample': 0.9652469580328205, 'colsample_bytree': 0.8346956461404486}.\n",
      "[I 2025-05-16 11:11:14,559] Trial 7 finished with values: [0.6678705890642184, 0.04761219923435625] and parameters: {'max_depth': 4, 'eta': 0.015028737686667043, 'subsample': 0.8943693748193189, 'colsample_bytree': 0.609355781218519}.\n",
      "[I 2025-05-16 11:11:14,882] Trial 8 finished with values: [0.6899915143383176, 0.07054140066653679] and parameters: {'max_depth': 6, 'eta': 0.2483825052504026, 'subsample': 0.6677751882750437, 'colsample_bytree': 0.9118162024278155}.\n",
      "[I 2025-05-16 11:11:15,394] Trial 9 finished with values: [0.6642955828608015, 0.04741412995012606] and parameters: {'max_depth': 5, 'eta': 0.032977796285915094, 'subsample': 0.6362579453553602, 'colsample_bytree': 0.771113278721393}.\n",
      "[I 2025-05-16 11:11:15,401] A new study created in memory with name: no-name-2264a99b-5370-457d-ba41-6a231f3a0a20\n"
     ]
    },
    {
     "name": "stdout",
     "output_type": "stream",
     "text": [
      "Completed study for alpha=0.35\n"
     ]
    },
    {
     "name": "stderr",
     "output_type": "stream",
     "text": [
      "[I 2025-05-16 11:11:15,972] Trial 0 finished with values: [0.6642909877371467, 0.06512813645135447] and parameters: {'max_depth': 5, 'eta': 0.10837021717153074, 'subsample': 0.9175826598842567, 'colsample_bytree': 0.8145971693281255}.\n",
      "[I 2025-05-16 11:11:16,849] Trial 1 finished with values: [0.6642802657819521, 0.07512661914177327] and parameters: {'max_depth': 7, 'eta': 0.06951167948069652, 'subsample': 0.9672334035948559, 'colsample_bytree': 0.8009759435691686}.\n",
      "[I 2025-05-16 11:11:17,175] Trial 2 finished with values: [0.6714226196493615, 0.0396068892622023] and parameters: {'max_depth': 7, 'eta': 0.08363733945831804, 'subsample': 0.7129099386562201, 'colsample_bytree': 0.9248171112009587}.\n",
      "[I 2025-05-16 11:11:17,348] Trial 3 finished with values: [0.6721578394341258, 0.05050717066062255] and parameters: {'max_depth': 4, 'eta': 0.09284799181526482, 'subsample': 0.7500036096132493, 'colsample_bytree': 0.8194585598719273}.\n",
      "[I 2025-05-16 11:11:17,515] Trial 4 finished with values: [0.6721486491868163, 0.05805101634695862] and parameters: {'max_depth': 6, 'eta': 0.19481713794449598, 'subsample': 0.9504753837112928, 'colsample_bytree': 0.6779104121380297}.\n",
      "[I 2025-05-16 11:11:17,819] Trial 5 finished with values: [0.662137406450941, 0.055560370733237906] and parameters: {'max_depth': 7, 'eta': 0.027141678820325366, 'subsample': 0.8503135940087552, 'colsample_bytree': 0.7641441976298382}.\n",
      "[I 2025-05-16 11:11:18,012] Trial 6 finished with values: [0.6778542610581652, 0.04803649958714857] and parameters: {'max_depth': 5, 'eta': 0.1366181781952135, 'subsample': 0.9946661760242348, 'colsample_bytree': 0.651681846667899}.\n",
      "[I 2025-05-16 11:11:18,266] Trial 7 finished with values: [0.6642879243213768, 0.03340991441664722] and parameters: {'max_depth': 4, 'eta': 0.11313869550512375, 'subsample': 0.6326378932395679, 'colsample_bytree': 0.9487071630318433}.\n",
      "[I 2025-05-16 11:11:18,498] Trial 8 finished with values: [0.6814323306773519, 0.07079249436659317] and parameters: {'max_depth': 6, 'eta': 0.15517005095278358, 'subsample': 0.6195629061448649, 'colsample_bytree': 0.9025995938744111}.\n",
      "[I 2025-05-16 11:11:18,695] Trial 9 finished with values: [0.6628542457410863, 0.041060166544425125] and parameters: {'max_depth': 4, 'eta': 0.1243292705886228, 'subsample': 0.9342922197301686, 'colsample_bytree': 0.8343059628703166}.\n",
      "[I 2025-05-16 11:11:18,700] A new study created in memory with name: no-name-c938239a-98e4-4c93-8393-a5abe6fa7f82\n",
      "[I 2025-05-16 11:11:18,878] Trial 0 finished with values: [0.6692889505656597, 0.04450745893117746] and parameters: {'max_depth': 5, 'eta': 0.1959837665466275, 'subsample': 0.6242505384955725, 'colsample_bytree': 0.7509914736950585}.\n"
     ]
    },
    {
     "name": "stdout",
     "output_type": "stream",
     "text": [
      "Completed study for alpha=0.36\n"
     ]
    },
    {
     "name": "stderr",
     "output_type": "stream",
     "text": [
      "[I 2025-05-16 11:11:19,102] Trial 1 finished with values: [0.665007827027292, 0.04793908030040634] and parameters: {'max_depth': 5, 'eta': 0.07798002545257934, 'subsample': 0.7812914790210181, 'colsample_bytree': 0.6911482827191355}.\n",
      "[I 2025-05-16 11:11:19,240] Trial 2 finished with values: [0.6642955828608015, 0.022951543450892748] and parameters: {'max_depth': 4, 'eta': 0.14706896314491202, 'subsample': 0.7950732872103076, 'colsample_bytree': 0.9781184225508959}.\n",
      "[I 2025-05-16 11:11:19,431] Trial 3 finished with values: [0.6914282563343779, 0.06318026604133788] and parameters: {'max_depth': 7, 'eta': 0.26087153305673694, 'subsample': 0.8142294282789827, 'colsample_bytree': 0.9619764792509283}.\n",
      "[I 2025-05-16 11:11:19,956] Trial 4 finished with values: [0.6685767063991692, 0.061487906349521254] and parameters: {'max_depth': 7, 'eta': 0.013367227050229248, 'subsample': 0.7879954566809046, 'colsample_bytree': 0.7150988751714189}.\n",
      "[I 2025-05-16 11:11:20,225] Trial 5 finished with values: [0.7092757166095339, 0.09302161920244195] and parameters: {'max_depth': 7, 'eta': 0.29384218332559225, 'subsample': 0.6791149820347891, 'colsample_bytree': 0.8621961028328495}.\n",
      "[I 2025-05-16 11:11:20,629] Trial 6 finished with values: [0.6871532596275499, 0.03499724789006372] and parameters: {'max_depth': 6, 'eta': 0.2305996732417848, 'subsample': 0.7802009059714077, 'colsample_bytree': 0.613172855433675}.\n",
      "[I 2025-05-16 11:11:21,104] Trial 7 finished with values: [0.6750083478079728, 0.06088083524024399] and parameters: {'max_depth': 7, 'eta': 0.01291708792240672, 'subsample': 0.7107491158195471, 'colsample_bytree': 0.8715741495994107}.\n",
      "[I 2025-05-16 11:11:21,285] Trial 8 finished with values: [0.6771496754310992, 0.03987609773414991] and parameters: {'max_depth': 6, 'eta': 0.17241783576714204, 'subsample': 0.6591191272283251, 'colsample_bytree': 0.6231554284923299}.\n",
      "[I 2025-05-16 11:11:21,447] Trial 9 finished with values: [0.6949956039983703, 0.04667399719502335] and parameters: {'max_depth': 6, 'eta': 0.28027473165962463, 'subsample': 0.9445425304322994, 'colsample_bytree': 0.8846840154239193}.\n",
      "[I 2025-05-16 11:11:21,453] A new study created in memory with name: no-name-7e4c0ac5-2d0a-4400-8311-c27057d8d23f\n",
      "[I 2025-05-16 11:11:21,579] Trial 0 finished with values: [0.6671445595267634, 0.04027495860940459] and parameters: {'max_depth': 4, 'eta': 0.06994672237871627, 'subsample': 0.7844471922987097, 'colsample_bytree': 0.6455585586851035}.\n"
     ]
    },
    {
     "name": "stdout",
     "output_type": "stream",
     "text": [
      "Completed study for alpha=0.37\n"
     ]
    },
    {
     "name": "stderr",
     "output_type": "stream",
     "text": [
      "[I 2025-05-16 11:11:21,756] Trial 1 finished with values: [0.6728517031059972, 0.04962403562737892] and parameters: {'max_depth': 7, 'eta': 0.21259432070790454, 'subsample': 0.6990453244998593, 'colsample_bytree': 0.7217613926744916}.\n",
      "[I 2025-05-16 11:11:21,961] Trial 2 finished with values: [0.6671460912346485, 0.03861572617731373] and parameters: {'max_depth': 7, 'eta': 0.07282611682036745, 'subsample': 0.8868707369940678, 'colsample_bytree': 0.7945968906150834}.\n",
      "[I 2025-05-16 11:11:22,114] Trial 3 finished with values: [0.6750083478079728, 0.04878164818834457] and parameters: {'max_depth': 4, 'eta': 0.14189833613150768, 'subsample': 0.9456971302186935, 'colsample_bytree': 0.6753528256425256}.\n",
      "[I 2025-05-16 11:11:22,287] Trial 4 finished with values: [0.6792772176832612, 0.04877566271126598] and parameters: {'max_depth': 6, 'eta': 0.23068171848775879, 'subsample': 0.6837899223969934, 'colsample_bytree': 0.7392292761471829}.\n",
      "[I 2025-05-16 11:11:22,490] Trial 5 finished with values: [0.6678644622326787, 0.052360044107804905] and parameters: {'max_depth': 7, 'eta': 0.03493664786327111, 'subsample': 0.9809955171522245, 'colsample_bytree': 0.6339217532823355}.\n",
      "[I 2025-05-16 11:11:22,724] Trial 6 finished with values: [0.6749991575606633, 0.05420305394756045] and parameters: {'max_depth': 7, 'eta': 0.10732538926028215, 'subsample': 0.632908257036515, 'colsample_bytree': 0.7698104645197037}.\n",
      "[I 2025-05-16 11:11:23,010] Trial 7 finished with values: [0.7035762315697248, 0.06157867051405863] and parameters: {'max_depth': 7, 'eta': 0.2980702069255435, 'subsample': 0.9850656918370623, 'colsample_bytree': 0.7554176620702554}.\n",
      "[I 2025-05-16 11:11:23,238] Trial 8 finished with values: [0.6864440788768292, 0.07495250613066742] and parameters: {'max_depth': 7, 'eta': 0.2173901788014272, 'subsample': 0.6109227467728998, 'colsample_bytree': 0.9942225757048706}.\n",
      "[I 2025-05-16 11:11:23,706] Trial 9 finished with values: [0.6699965996084954, 0.06619466524007764] and parameters: {'max_depth': 6, 'eta': 0.010721552895698958, 'subsample': 0.9249501488566859, 'colsample_bytree': 0.8924704131381602}.\n",
      "[I 2025-05-16 11:11:23,710] A new study created in memory with name: no-name-1ef0e24c-0bc2-4983-b9b0-c8aa82bbf490\n",
      "[I 2025-05-16 11:11:23,856] Trial 0 finished with values: [0.6792848762226859, 0.07763688168699187] and parameters: {'max_depth': 6, 'eta': 0.16048776225722255, 'subsample': 0.9876625555976156, 'colsample_bytree': 0.8318584024060185}.\n"
     ]
    },
    {
     "name": "stdout",
     "output_type": "stream",
     "text": [
      "Completed study for alpha=0.38\n"
     ]
    },
    {
     "name": "stderr",
     "output_type": "stream",
     "text": [
      "[I 2025-05-16 11:11:23,986] Trial 1 finished with values: [0.6771343583522499, 0.07463132772618662] and parameters: {'max_depth': 5, 'eta': 0.2974622126185276, 'subsample': 0.9438165080887291, 'colsample_bytree': 0.7676564991589997}.\n",
      "[I 2025-05-16 11:11:24,127] Trial 2 finished with values: [0.6593037468638281, 0.014205388197672744] and parameters: {'max_depth': 3, 'eta': 0.114990580160748, 'subsample': 0.9397777534798136, 'colsample_bytree': 0.6870853494753953}.\n",
      "[I 2025-05-16 11:11:24,260] Trial 3 finished with values: [0.6750022209764331, 0.060915260707160246] and parameters: {'max_depth': 6, 'eta': 0.16670272264714728, 'subsample': 0.6084350852491122, 'colsample_bytree': 0.9275745719408075}.\n",
      "[I 2025-05-16 11:11:24,398] Trial 4 finished with values: [0.6585853758657979, 0.02634755286788798] and parameters: {'max_depth': 4, 'eta': 0.07310118811834102, 'subsample': 0.7557554511375738, 'colsample_bytree': 0.9385378136168268}.\n",
      "[I 2025-05-16 11:11:24,565] Trial 5 finished with values: [0.6921542858718328, 0.049377112394030344] and parameters: {'max_depth': 4, 'eta': 0.2823609377129284, 'subsample': 0.6905851597668741, 'colsample_bytree': 0.7148605241051036}.\n",
      "[I 2025-05-16 11:11:24,711] Trial 6 finished with values: [0.660008332490894, 0.022079771339456395] and parameters: {'max_depth': 6, 'eta': 0.13063932062796332, 'subsample': 0.721688601554537, 'colsample_bytree': 0.6335353207400126}.\n",
      "[I 2025-05-16 11:11:24,894] Trial 7 finished with values: [0.6757221236823483, 0.04774821419980862] and parameters: {'max_depth': 6, 'eta': 0.08572746016987354, 'subsample': 0.6531697807713467, 'colsample_bytree': 0.9609815010962813}.\n",
      "[I 2025-05-16 11:11:25,048] Trial 8 finished with values: [0.6807124279714367, 0.040851488832848816] and parameters: {'max_depth': 5, 'eta': 0.27168328308797846, 'subsample': 0.8194564618724276, 'colsample_bytree': 0.7284941110949078}.\n",
      "[I 2025-05-16 11:11:25,249] Trial 9 finished with values: [0.6671460912346485, 0.05960731695715651] and parameters: {'max_depth': 6, 'eta': 0.06756979531689725, 'subsample': 0.7348865773235199, 'colsample_bytree': 0.9095725078210484}.\n",
      "[I 2025-05-16 11:11:25,253] A new study created in memory with name: no-name-e9b45bed-778b-435a-b3dc-354974e5c2a0\n",
      "[I 2025-05-16 11:11:25,382] Trial 0 finished with values: [0.6635695533233466, 0.03655375672809743] and parameters: {'max_depth': 4, 'eta': 0.1282348108162501, 'subsample': 0.7081121836417451, 'colsample_bytree': 0.8788573969970621}.\n"
     ]
    },
    {
     "name": "stdout",
     "output_type": "stream",
     "text": [
      "Completed study for alpha=0.39\n"
     ]
    },
    {
     "name": "stderr",
     "output_type": "stream",
     "text": [
      "[I 2025-05-16 11:11:25,562] Trial 1 finished with values: [0.6821476382596122, 0.062223158644147646] and parameters: {'max_depth': 6, 'eta': 0.28356708930907204, 'subsample': 0.8014107813069501, 'colsample_bytree': 0.9971883779419242}.\n",
      "[I 2025-05-16 11:11:25,796] Trial 2 finished with values: [0.6778649830133595, 0.05390030216005121] and parameters: {'max_depth': 6, 'eta': 0.09772798730447703, 'subsample': 0.6698181622903828, 'colsample_bytree': 0.9838300090516853}.\n",
      "[I 2025-05-16 11:11:25,996] Trial 3 finished with values: [0.6742915085178275, 0.05086443614097152] and parameters: {'max_depth': 6, 'eta': 0.0308103590155367, 'subsample': 0.7925212656434886, 'colsample_bytree': 0.6444866207141303}.\n",
      "[I 2025-05-16 11:11:26,178] Trial 4 finished with values: [0.6664277202366183, 0.03515059796260885] and parameters: {'max_depth': 7, 'eta': 0.051916404385110256, 'subsample': 0.7270649919414615, 'colsample_bytree': 0.9918410187112269}.\n",
      "[I 2025-05-16 11:11:26,342] Trial 5 finished with values: [0.6657108809464729, 0.057851474980738504] and parameters: {'max_depth': 5, 'eta': 0.09551347164933098, 'subsample': 0.9782494000547246, 'colsample_bytree': 0.8950057482985275}.\n",
      "[I 2025-05-16 11:11:26,521] Trial 6 finished with values: [0.6699996630242652, 0.0739198664040608] and parameters: {'max_depth': 7, 'eta': 0.046559472617221216, 'subsample': 0.9571547900356392, 'colsample_bytree': 0.8459905332035719}.\n",
      "[I 2025-05-16 11:11:26,679] Trial 7 finished with values: [0.665009358735177, 0.03694157435166601] and parameters: {'max_depth': 6, 'eta': 0.10088046938531108, 'subsample': 0.9300636418073397, 'colsample_bytree': 0.6408793067040751}.\n",
      "[I 2025-05-16 11:11:26,838] Trial 8 finished with values: [0.6757190602665784, 0.04429752539545951] and parameters: {'max_depth': 7, 'eta': 0.14782176479982942, 'subsample': 0.6965980390391132, 'colsample_bytree': 0.7031801415261533}.\n",
      "[I 2025-05-16 11:11:26,988] Trial 9 finished with values: [0.6728731470163862, 0.06099190821926619] and parameters: {'max_depth': 3, 'eta': 0.28441056444953533, 'subsample': 0.8690534267839425, 'colsample_bytree': 0.6913105120096887}.\n",
      "[I 2025-05-16 11:11:26,992] A new study created in memory with name: no-name-1409d2f9-427d-45cd-970c-7cbbbd21e0d1\n",
      "[I 2025-05-16 11:11:27,105] Trial 0 finished with values: [0.6707272242696051, 0.054066781776161] and parameters: {'max_depth': 4, 'eta': 0.1222428219318272, 'subsample': 0.89264107483755, 'colsample_bytree': 0.6142371174858522}.\n"
     ]
    },
    {
     "name": "stdout",
     "output_type": "stream",
     "text": [
      "Completed study for alpha=0.4\n"
     ]
    },
    {
     "name": "stderr",
     "output_type": "stream",
     "text": [
      "[I 2025-05-16 11:11:27,233] Trial 1 finished with values: [0.6685782381070541, 0.03389477475602978] and parameters: {'max_depth': 5, 'eta': 0.0661447139586687, 'subsample': 0.6397506325721465, 'colsample_bytree': 0.8101987228858505}.\n",
      "[I 2025-05-16 11:11:27,359] Trial 2 finished with values: [0.6785741637640802, 0.04350286748753707] and parameters: {'max_depth': 4, 'eta': 0.2892506115388452, 'subsample': 0.9639919299287831, 'colsample_bytree': 0.9306227122116048}.\n",
      "[I 2025-05-16 11:11:27,461] Trial 3 finished with values: [0.6814399892167765, 0.05957999690493393] and parameters: {'max_depth': 3, 'eta': 0.17925837706807768, 'subsample': 0.6124271349245395, 'colsample_bytree': 0.9546057851043237}.\n",
      "[I 2025-05-16 11:11:27,611] Trial 4 finished with values: [0.6621527235297903, 0.03659903735468792] and parameters: {'max_depth': 5, 'eta': 0.11967011305300361, 'subsample': 0.7168610180660206, 'colsample_bytree': 0.6701215524098476}.\n",
      "[I 2025-05-16 11:11:27,763] Trial 5 finished with values: [0.6864287617979801, 0.06941845228269278] and parameters: {'max_depth': 7, 'eta': 0.19508214199505722, 'subsample': 0.6288035364309544, 'colsample_bytree': 0.8821306804888709}.\n",
      "[I 2025-05-16 11:11:27,924] Trial 6 finished with values: [0.6600144593224337, 0.04392962107496933] and parameters: {'max_depth': 4, 'eta': 0.032329307954996805, 'subsample': 0.8934573775085364, 'colsample_bytree': 0.7934112376882936}.\n",
      "[I 2025-05-16 11:11:28,074] Trial 7 finished with values: [0.690003768001397, 0.07148668391191311] and parameters: {'max_depth': 7, 'eta': 0.26449106238178033, 'subsample': 0.8042964597401331, 'colsample_bytree': 0.9293941191765581}.\n",
      "[I 2025-05-16 11:11:28,200] Trial 8 finished with values: [0.688576216252646, 0.06369193523846417] and parameters: {'max_depth': 5, 'eta': 0.15171718918164204, 'subsample': 0.9141942715489783, 'colsample_bytree': 0.9286813886103378}.\n",
      "[I 2025-05-16 11:11:28,350] Trial 9 finished with values: [0.6664338470681579, 0.06082723392367568] and parameters: {'max_depth': 5, 'eta': 0.19380356284389313, 'subsample': 0.8309122925916845, 'colsample_bytree': 0.7805284927381477}.\n",
      "[I 2025-05-16 11:11:28,354] A new study created in memory with name: no-name-f7cbf15e-0032-477a-8412-4cb32cec1bd9\n",
      "[I 2025-05-16 11:11:28,486] Trial 0 finished with values: [0.6742899768099426, 0.0504526964833098] and parameters: {'max_depth': 4, 'eta': 0.24264402508080696, 'subsample': 0.7387319944223018, 'colsample_bytree': 0.8146551907716302}.\n"
     ]
    },
    {
     "name": "stdout",
     "output_type": "stream",
     "text": [
      "Completed study for alpha=0.41\n"
     ]
    },
    {
     "name": "stderr",
     "output_type": "stream",
     "text": [
      "[I 2025-05-16 11:11:28,600] Trial 1 finished with values: [0.6692981408129692, 0.05576472094769384] and parameters: {'max_depth': 4, 'eta': 0.12913180901781227, 'subsample': 0.6108807943824609, 'colsample_bytree': 0.8533569067491842}.\n",
      "[I 2025-05-16 11:11:28,785] Trial 2 finished with values: [0.6921420322087535, 0.07921197191668136] and parameters: {'max_depth': 7, 'eta': 0.2834991975719688, 'subsample': 0.8101332892048967, 'colsample_bytree': 0.8619530502316205}.\n",
      "[I 2025-05-16 11:11:28,963] Trial 3 finished with values: [0.6757159968508085, 0.04365922748561866] and parameters: {'max_depth': 4, 'eta': 0.274954863968377, 'subsample': 0.7111490163107093, 'colsample_bytree': 0.6399368872933756}.\n",
      "[I 2025-05-16 11:11:29,165] Trial 4 finished with values: [0.6764343678488388, 0.05833262066497491] and parameters: {'max_depth': 6, 'eta': 0.11971120723971346, 'subsample': 0.8603199738963365, 'colsample_bytree': 0.8778180118014638}.\n",
      "[I 2025-05-16 11:11:29,345] Trial 5 finished with values: [0.6771466120153292, 0.07392943447896784] and parameters: {'max_depth': 5, 'eta': 0.2417123663942913, 'subsample': 0.8081183507413957, 'colsample_bytree': 0.8527323200558252}.\n",
      "[I 2025-05-16 11:11:29,507] Trial 6 finished with values: [0.6793109152567296, 0.02920800067674582] and parameters: {'max_depth': 4, 'eta': 0.21298516794634226, 'subsample': 0.6033498708767782, 'colsample_bytree': 0.6776796375145263}.\n",
      "[I 2025-05-16 11:11:29,638] Trial 7 finished with values: [0.6685736429833994, 0.05267608857013279] and parameters: {'max_depth': 5, 'eta': 0.1118319551006558, 'subsample': 0.767905267035849, 'colsample_bytree': 0.810723429320663}.\n",
      "[I 2025-05-16 11:11:29,739] Trial 8 finished with values: [0.6578731316993074, 0.03156147248069285] and parameters: {'max_depth': 3, 'eta': 0.1255680787165048, 'subsample': 0.9870374431784392, 'colsample_bytree': 0.8597913605119091}.\n",
      "[I 2025-05-16 11:11:29,858] Trial 9 finished with values: [0.6942864232476497, 0.06872492956729774] and parameters: {'max_depth': 7, 'eta': 0.18766266897999684, 'subsample': 0.9186793189893967, 'colsample_bytree': 0.9788183515723496}.\n",
      "[I 2025-05-16 11:11:29,862] A new study created in memory with name: no-name-f5804b30-9698-4e4d-b17a-29248a9e9317\n",
      "[I 2025-05-16 11:11:30,030] Trial 0 finished with values: [0.6800001838049462, 0.03325914214084641] and parameters: {'max_depth': 6, 'eta': 0.15277396349967856, 'subsample': 0.8444195675662312, 'colsample_bytree': 0.9946676121928448}.\n"
     ]
    },
    {
     "name": "stdout",
     "output_type": "stream",
     "text": [
      "Completed study for alpha=0.42\n"
     ]
    },
    {
     "name": "stderr",
     "output_type": "stream",
     "text": [
      "[I 2025-05-16 11:11:30,181] Trial 1 finished with values: [0.6764358995567238, 0.02506144782854582] and parameters: {'max_depth': 4, 'eta': 0.16971781855890133, 'subsample': 0.817911613911541, 'colsample_bytree': 0.7665834403368647}.\n",
      "[I 2025-05-16 11:11:30,363] Trial 2 finished with values: [0.6750022209764331, 0.06255657389988643] and parameters: {'max_depth': 6, 'eta': 0.11259327072487048, 'subsample': 0.9876928638269046, 'colsample_bytree': 0.6666919254429865}.\n",
      "[I 2025-05-16 11:11:30,607] Trial 3 finished with values: [0.6714302781887861, 0.08228855182811645] and parameters: {'max_depth': 6, 'eta': 0.017621883491419434, 'subsample': 0.9105101952275583, 'colsample_bytree': 0.8776429733411217}.\n",
      "[I 2025-05-16 11:11:30,780] Trial 4 finished with values: [0.6907236707073121, 0.0610311468978316] and parameters: {'max_depth': 7, 'eta': 0.24243538840029655, 'subsample': 0.8070342692326028, 'colsample_bytree': 0.9438407392728687}.\n",
      "[I 2025-05-16 11:11:30,933] Trial 5 finished with values: [0.6871394742565856, 0.08326721288345902] and parameters: {'max_depth': 6, 'eta': 0.26253981810944066, 'subsample': 0.6336309600456095, 'colsample_bytree': 0.8613166168304169}.\n",
      "[I 2025-05-16 11:11:31,047] Trial 6 finished with values: [0.6728608933533068, 0.062108023333658925] and parameters: {'max_depth': 4, 'eta': 0.273360492614597, 'subsample': 0.7300323976434657, 'colsample_bytree': 0.989374828129534}.\n",
      "[I 2025-05-16 11:11:31,179] Trial 7 finished with values: [0.66928282373412, 0.0501689274565327] and parameters: {'max_depth': 6, 'eta': 0.09739679632538092, 'subsample': 0.7008672866906565, 'colsample_bytree': 0.8867725421097041}.\n",
      "[I 2025-05-16 11:11:31,301] Trial 8 finished with values: [0.6707241608538351, 0.04230291984645357] and parameters: {'max_depth': 6, 'eta': 0.09402821352993518, 'subsample': 0.6462764308932072, 'colsample_bytree': 0.7254720850507083}.\n",
      "[I 2025-05-16 11:11:31,429] Trial 9 finished with values: [0.6842981561300481, 0.06813861210359279] and parameters: {'max_depth': 5, 'eta': 0.27464959057328603, 'subsample': 0.6602917856287349, 'colsample_bytree': 0.658469458734852}.\n",
      "[I 2025-05-16 11:11:31,434] A new study created in memory with name: no-name-51bf0e80-5122-427c-9da1-b156c23014ac\n",
      "[I 2025-05-16 11:11:31,535] Trial 0 finished with values: [0.6807170230950915, 0.03852298929554202] and parameters: {'max_depth': 4, 'eta': 0.20508282934075983, 'subsample': 0.7096373400970057, 'colsample_bytree': 0.6122453189596893}.\n"
     ]
    },
    {
     "name": "stdout",
     "output_type": "stream",
     "text": [
      "Completed study for alpha=0.43\n"
     ]
    },
    {
     "name": "stderr",
     "output_type": "stream",
     "text": [
      "[I 2025-05-16 11:11:31,638] Trial 1 finished with values: [0.6721471174789313, 0.052275269981001966] and parameters: {'max_depth': 4, 'eta': 0.2420332787939629, 'subsample': 0.7378336665044521, 'colsample_bytree': 0.8324460723817414}.\n",
      "[I 2025-05-16 11:11:31,834] Trial 2 finished with values: [0.6628664994041656, 0.02115313307093671] and parameters: {'max_depth': 4, 'eta': 0.02920571902836542, 'subsample': 0.7373029727381881, 'colsample_bytree': 0.634952956731439}.\n",
      "[I 2025-05-16 11:11:31,955] Trial 3 finished with values: [0.6707256925617201, 0.025471324696044035] and parameters: {'max_depth': 3, 'eta': 0.09958965476345219, 'subsample': 0.665341927246599, 'colsample_bytree': 0.9216768159376374}.\n",
      "[I 2025-05-16 11:11:32,067] Trial 4 finished with values: [0.6721532443104711, 0.05199481712312622] and parameters: {'max_depth': 3, 'eta': 0.28178765134164974, 'subsample': 0.7582687800652286, 'colsample_bytree': 0.717632549176205}.\n",
      "[I 2025-05-16 11:11:32,174] Trial 5 finished with values: [0.6721486491868163, 0.0403521541829381] and parameters: {'max_depth': 3, 'eta': 0.20896537926236478, 'subsample': 0.682812750170183, 'colsample_bytree': 0.8884446284873286}.\n",
      "[I 2025-05-16 11:11:32,299] Trial 6 finished with values: [0.6828568190103329, 0.06625073929123701] and parameters: {'max_depth': 7, 'eta': 0.2699549170078725, 'subsample': 0.643954959522472, 'colsample_bytree': 0.6361201204020365}.\n",
      "[I 2025-05-16 11:11:32,405] Trial 7 finished with values: [0.6807093645556669, 0.05219590963702294] and parameters: {'max_depth': 4, 'eta': 0.2558935482029237, 'subsample': 0.955633299347762, 'colsample_bytree': 0.6818510120544039}.\n",
      "[I 2025-05-16 11:11:32,519] Trial 8 finished with values: [0.6871364108408158, 0.07785312880912207] and parameters: {'max_depth': 6, 'eta': 0.29745875978720554, 'subsample': 0.7879155878888923, 'colsample_bytree': 0.8581750443292189}.\n",
      "[I 2025-05-16 11:11:32,614] Trial 9 finished with values: [0.6721471174789313, 0.058292734072288764] and parameters: {'max_depth': 4, 'eta': 0.2316197071013833, 'subsample': 0.925023359809282, 'colsample_bytree': 0.7633185662694869}.\n",
      "[I 2025-05-16 11:11:32,618] A new study created in memory with name: no-name-4f9d3cf3-1b24-4d4a-9b91-1ff85c199327\n",
      "[I 2025-05-16 11:11:32,739] Trial 0 finished with values: [0.6728685518927314, 0.05407521134516404] and parameters: {'max_depth': 3, 'eta': 0.22409909392711191, 'subsample': 0.6967538193869893, 'colsample_bytree': 0.922712744466482}.\n"
     ]
    },
    {
     "name": "stdout",
     "output_type": "stream",
     "text": [
      "Completed study for alpha=0.44\n"
     ]
    },
    {
     "name": "stderr",
     "output_type": "stream",
     "text": [
      "[I 2025-05-16 11:11:32,916] Trial 1 finished with values: [0.676429772725184, 0.038179496021056435] and parameters: {'max_depth': 4, 'eta': 0.25170179951311633, 'subsample': 0.6726009908315568, 'colsample_bytree': 0.939440084743765}.\n",
      "[I 2025-05-16 11:11:33,070] Trial 2 finished with values: [0.6778588561818198, 0.06293685628192386] and parameters: {'max_depth': 6, 'eta': 0.28289629313396986, 'subsample': 0.6574395421607967, 'colsample_bytree': 0.6238032836574542}.\n",
      "[I 2025-05-16 11:11:33,213] Trial 3 finished with values: [0.6828660092576424, 0.06978441262731079] and parameters: {'max_depth': 5, 'eta': 0.2244746311240088, 'subsample': 0.8050974019856428, 'colsample_bytree': 0.7748431706564787}.\n",
      "[I 2025-05-16 11:11:33,447] Trial 4 finished with values: [0.6678598671090238, 0.06482945389463592] and parameters: {'max_depth': 5, 'eta': 0.09373133102706474, 'subsample': 0.8877900132818966, 'colsample_bytree': 0.7538462908720696}.\n",
      "[I 2025-05-16 11:11:33,587] Trial 5 finished with values: [0.6607205766573846, 0.030418295328466027] and parameters: {'max_depth': 4, 'eta': 0.05265189302541286, 'subsample': 0.7538779968130177, 'colsample_bytree': 0.8316440898562518}.\n",
      "[I 2025-05-16 11:11:33,692] Trial 6 finished with values: [0.6585823124500281, 0.019272285676520406] and parameters: {'max_depth': 3, 'eta': 0.1373932699920524, 'subsample': 0.9963027143046186, 'colsample_bytree': 0.675309397544417}.\n",
      "[I 2025-05-16 11:11:33,815] Trial 7 finished with values: [0.6900022362935121, 0.06673362643387948] and parameters: {'max_depth': 5, 'eta': 0.2920214247305303, 'subsample': 0.6869146469202274, 'colsample_bytree': 0.7794932666520781}.\n",
      "[I 2025-05-16 11:11:33,944] Trial 8 finished with values: [0.6571471021618526, 0.04362012469357978] and parameters: {'max_depth': 5, 'eta': 0.06354761473471597, 'subsample': 0.719803214420125, 'colsample_bytree': 0.6947627836742761}.\n",
      "[I 2025-05-16 11:11:34,041] Trial 9 finished with values: [0.6628680311120506, 0.02076643986537462] and parameters: {'max_depth': 3, 'eta': 0.16916648362341127, 'subsample': 0.9669274112961501, 'colsample_bytree': 0.6989448159250029}.\n",
      "[I 2025-05-16 11:11:34,044] A new study created in memory with name: no-name-a8d371d2-f58d-4b5b-ad5d-b17e9c5cb310\n",
      "[I 2025-05-16 11:11:34,151] Trial 0 finished with values: [0.6792879396384558, 0.0669809657206857] and parameters: {'max_depth': 5, 'eta': 0.2133146394307332, 'subsample': 0.9007896829468154, 'colsample_bytree': 0.8097512362118678}.\n"
     ]
    },
    {
     "name": "stdout",
     "output_type": "stream",
     "text": [
      "Completed study for alpha=0.45\n"
     ]
    },
    {
     "name": "stderr",
     "output_type": "stream",
     "text": [
      "[I 2025-05-16 11:11:34,308] Trial 1 finished with values: [0.6635710850312314, 0.029475801530651418] and parameters: {'max_depth': 4, 'eta': 0.1542313367171953, 'subsample': 0.840510108344033, 'colsample_bytree': 0.9776359859844557}.\n",
      "[I 2025-05-16 11:11:34,449] Trial 2 finished with values: [0.692852744667359, 0.07321503112522106] and parameters: {'max_depth': 6, 'eta': 0.2629514986254048, 'subsample': 0.8442686294908465, 'colsample_bytree': 0.8713765970640589}.\n",
      "[I 2025-05-16 11:11:34,562] Trial 3 finished with values: [0.6592976200322884, 0.026767206237749763] and parameters: {'max_depth': 3, 'eta': 0.10167869144438263, 'subsample': 0.9923559040309209, 'colsample_bytree': 0.9268703961973066}.\n",
      "[I 2025-05-16 11:11:34,725] Trial 4 finished with values: [0.6671460912346484, 0.06374153808567917] and parameters: {'max_depth': 7, 'eta': 0.051517939652729904, 'subsample': 0.9051215328865695, 'colsample_bytree': 0.6766075175980202}.\n",
      "[I 2025-05-16 11:11:34,855] Trial 5 finished with values: [0.6750022209764331, 0.047343094377274936] and parameters: {'max_depth': 6, 'eta': 0.12345153728521217, 'subsample': 0.7506377874523789, 'colsample_bytree': 0.744170838514312}.\n",
      "[I 2025-05-16 11:11:35,025] Trial 6 finished with values: [0.6664399738996977, 0.047304895799207373] and parameters: {'max_depth': 6, 'eta': 0.040035932087461305, 'subsample': 0.6764178596458829, 'colsample_bytree': 0.6120943602936283}.\n",
      "[I 2025-05-16 11:11:35,207] Trial 7 finished with values: [0.6692889505656597, 0.050777710345840645] and parameters: {'max_depth': 6, 'eta': 0.024545413799697657, 'subsample': 0.6939124336140472, 'colsample_bytree': 0.8600809838802828}.\n",
      "[I 2025-05-16 11:11:35,353] Trial 8 finished with values: [0.6792940664699954, 0.0710667924732303] and parameters: {'max_depth': 5, 'eta': 0.17485399074777117, 'subsample': 0.6137063369013326, 'colsample_bytree': 0.8544541082135181}.\n",
      "[I 2025-05-16 11:11:35,524] Trial 9 finished with values: [0.6714394684360956, 0.036029002552162036] and parameters: {'max_depth': 5, 'eta': 0.025742148896274616, 'subsample': 0.7249586160113087, 'colsample_bytree': 0.6644377730775799}.\n",
      "[I 2025-05-16 11:11:35,528] A new study created in memory with name: no-name-c621c153-3a19-4b2f-80e8-eb69ee628a82\n",
      "[I 2025-05-16 11:11:35,659] Trial 0 finished with values: [0.6814338623852368, 0.05610276396926995] and parameters: {'max_depth': 5, 'eta': 0.26021609480340613, 'subsample': 0.9799239971785386, 'colsample_bytree': 0.6434143193933518}.\n"
     ]
    },
    {
     "name": "stdout",
     "output_type": "stream",
     "text": [
      "Completed study for alpha=0.46\n"
     ]
    },
    {
     "name": "stderr",
     "output_type": "stream",
     "text": [
      "[I 2025-05-16 11:11:35,824] Trial 1 finished with values: [0.6971384633293815, 0.08729371532479964] and parameters: {'max_depth': 7, 'eta': 0.16314139439046899, 'subsample': 0.9066749878863474, 'colsample_bytree': 0.8408000801939448}.\n",
      "[I 2025-05-16 11:11:35,984] Trial 2 finished with values: [0.6550073062466111, 0.06334268372522243] and parameters: {'max_depth': 4, 'eta': 0.03431763778849924, 'subsample': 0.9394803658939582, 'colsample_bytree': 0.734781790747091}.\n",
      "[I 2025-05-16 11:11:36,106] Trial 3 finished with values: [0.6692966091050844, 0.07287491286254634] and parameters: {'max_depth': 5, 'eta': 0.12272765957894193, 'subsample': 0.647413542195157, 'colsample_bytree': 0.7553373074586213}.\n",
      "[I 2025-05-16 11:11:36,237] Trial 4 finished with values: [0.6814384575088915, 0.052457598869495435] and parameters: {'max_depth': 5, 'eta': 0.12343065955296369, 'subsample': 0.6496627800886915, 'colsample_bytree': 0.9694926190779571}.\n",
      "[I 2025-05-16 11:11:36,364] Trial 5 finished with values: [0.6907129487521176, 0.07840543646547808] and parameters: {'max_depth': 6, 'eta': 0.2788295702650502, 'subsample': 0.9815362479055334, 'colsample_bytree': 0.6545179600710613}.\n",
      "[I 2025-05-16 11:11:36,493] Trial 6 finished with values: [0.6643078365238808, 0.02687492071416951] and parameters: {'max_depth': 3, 'eta': 0.06251078059966654, 'subsample': 0.8449006375222088, 'colsample_bytree': 0.6824737019923602}.\n",
      "[I 2025-05-16 11:11:36,633] Trial 7 finished with values: [0.6814338623852368, 0.053929683288480475] and parameters: {'max_depth': 6, 'eta': 0.2899172818245813, 'subsample': 0.7946340733212163, 'colsample_bytree': 0.7242063735698308}.\n",
      "[I 2025-05-16 11:11:36,839] Trial 8 finished with values: [0.6807124279714367, 0.04318699037257643] and parameters: {'max_depth': 6, 'eta': 0.10562734410698878, 'subsample': 0.6468995443235075, 'colsample_bytree': 0.8390778837910781}.\n",
      "[I 2025-05-16 11:11:36,971] Trial 9 finished with values: [0.6757267188060031, 0.043557422116138694] and parameters: {'max_depth': 4, 'eta': 0.11323245387946944, 'subsample': 0.8075618597768892, 'colsample_bytree': 0.7355519674710717}.\n",
      "[I 2025-05-16 11:11:36,976] A new study created in memory with name: no-name-62bd2e8b-db0a-48d9-9c3a-bbdc6c1463ef\n",
      "[I 2025-05-16 11:11:37,099] Trial 0 finished with values: [0.6628695628199356, 0.02375166208534373] and parameters: {'max_depth': 3, 'eta': 0.13577051635986612, 'subsample': 0.9722930931535256, 'colsample_bytree': 0.71972180071915}.\n"
     ]
    },
    {
     "name": "stdout",
     "output_type": "stream",
     "text": [
      "Completed study for alpha=0.47\n"
     ]
    },
    {
     "name": "stderr",
     "output_type": "stream",
     "text": [
      "[I 2025-05-16 11:11:37,491] Trial 1 finished with values: [0.6749976258527783, 0.0468214061585975] and parameters: {'max_depth': 7, 'eta': 0.010377333387226649, 'subsample': 0.7874083605211893, 'colsample_bytree': 0.975254442583203}.\n",
      "[I 2025-05-16 11:11:37,650] Trial 2 finished with values: [0.6700073215636899, 0.045442887067051414] and parameters: {'max_depth': 6, 'eta': 0.07734689089820736, 'subsample': 0.7722354324126249, 'colsample_bytree': 0.7083832108688966}.\n",
      "[I 2025-05-16 11:11:37,792] Trial 3 finished with values: [0.6821476382596122, 0.06599562354667167] and parameters: {'max_depth': 7, 'eta': 0.2174160091115341, 'subsample': 0.6183206544207429, 'colsample_bytree': 0.8546252393957692}.\n",
      "[I 2025-05-16 11:11:37,912] Trial 4 finished with values: [0.6628695628199356, 0.018545381463899446] and parameters: {'max_depth': 3, 'eta': 0.053770989694648295, 'subsample': 0.7099380262119436, 'colsample_bytree': 0.9929072669307413}.\n",
      "[I 2025-05-16 11:11:38,066] Trial 5 finished with values: [0.6692904822735445, 0.022598593945999473] and parameters: {'max_depth': 4, 'eta': 0.022658683767056337, 'subsample': 0.7090220080522998, 'colsample_bytree': 0.7291036852106889}.\n",
      "[I 2025-05-16 11:11:38,177] Trial 6 finished with values: [0.6650200806903714, 0.030138214164264016] and parameters: {'max_depth': 3, 'eta': 0.06959200906373393, 'subsample': 0.677491756779645, 'colsample_bytree': 0.6703909576957136}.\n",
      "[I 2025-05-16 11:11:38,289] Trial 7 finished with values: [0.6949971357062551, 0.05839074072105527] and parameters: {'max_depth': 6, 'eta': 0.22382109529485747, 'subsample': 0.7486375632700523, 'colsample_bytree': 0.9694539834973859}.\n",
      "[I 2025-05-16 11:11:38,411] Trial 8 finished with values: [0.692149690748178, 0.06794662606537993] and parameters: {'max_depth': 6, 'eta': 0.20106012870490816, 'subsample': 0.8673603811245612, 'colsample_bytree': 0.7568261073141209}.\n",
      "[I 2025-05-16 11:11:38,554] Trial 9 finished with values: [0.6814292672615819, 0.04861926341258771] and parameters: {'max_depth': 5, 'eta': 0.19778064424903766, 'subsample': 0.8596106315182548, 'colsample_bytree': 0.9323311451916876}.\n",
      "[I 2025-05-16 11:11:38,560] A new study created in memory with name: no-name-63d7c140-ec97-4245-8428-870a55cec949\n",
      "[I 2025-05-16 11:11:38,684] Trial 0 finished with values: [0.6757129334350388, 0.06336814294870687] and parameters: {'max_depth': 4, 'eta': 0.276320421161055, 'subsample': 0.8776606373600884, 'colsample_bytree': 0.901867953453355}.\n"
     ]
    },
    {
     "name": "stdout",
     "output_type": "stream",
     "text": [
      "Completed study for alpha=0.48\n"
     ]
    },
    {
     "name": "stderr",
     "output_type": "stream",
     "text": [
      "[I 2025-05-16 11:11:38,828] Trial 1 finished with values: [0.6921466273324081, 0.07130333829845677] and parameters: {'max_depth': 7, 'eta': 0.18886084703730985, 'subsample': 0.7432785301331879, 'colsample_bytree': 0.9274814988628377}.\n",
      "[I 2025-05-16 11:11:38,986] Trial 2 finished with values: [0.6800001838049462, 0.05669773436575698] and parameters: {'max_depth': 6, 'eta': 0.07729954688166038, 'subsample': 0.8482237860860401, 'colsample_bytree': 0.9342762763512833}.\n",
      "[I 2025-05-16 11:11:39,132] Trial 3 finished with values: [0.6864410154610594, 0.060478938046123094] and parameters: {'max_depth': 5, 'eta': 0.1474853616032491, 'subsample': 0.6302297509930647, 'colsample_bytree': 0.8247483285062631}.\n",
      "[I 2025-05-16 11:11:39,260] Trial 4 finished with values: [0.6721471174789313, 0.05030456085652699] and parameters: {'max_depth': 5, 'eta': 0.1471512646696861, 'subsample': 0.90555630391414, 'colsample_bytree': 0.6126826254046379}.\n",
      "[I 2025-05-16 11:11:39,367] Trial 5 finished with values: [0.6814369258010067, 0.061529690755169585] and parameters: {'max_depth': 6, 'eta': 0.27513371497735806, 'subsample': 0.7819063384872137, 'colsample_bytree': 0.7165350979575312}.\n",
      "[I 2025-05-16 11:11:39,470] Trial 6 finished with values: [0.6742976353493672, 0.056525999205513176] and parameters: {'max_depth': 3, 'eta': 0.21576411570257284, 'subsample': 0.6106313753401268, 'colsample_bytree': 0.8484645996205}.\n",
      "[I 2025-05-16 11:11:39,678] Trial 7 finished with values: [0.6749991575606633, 0.05956568047918876] and parameters: {'max_depth': 6, 'eta': 0.015687420919171843, 'subsample': 0.9243187633273471, 'colsample_bytree': 0.8475275935122173}.\n",
      "[I 2025-05-16 11:11:39,806] Trial 8 finished with values: [0.6757159968508085, 0.03597602671520578] and parameters: {'max_depth': 5, 'eta': 0.07764815946578295, 'subsample': 0.6724918224319115, 'colsample_bytree': 0.9802870496250995}.\n",
      "[I 2025-05-16 11:11:39,938] Trial 9 finished with values: [0.6757205919744633, 0.04543662080887004] and parameters: {'max_depth': 6, 'eta': 0.08871911013473947, 'subsample': 0.8009829062546457, 'colsample_bytree': 0.7119085096155212}.\n",
      "[I 2025-05-16 11:11:39,942] A new study created in memory with name: no-name-37f7cde4-da5f-4d17-ba41-c2b8f1e306fa\n",
      "[I 2025-05-16 11:11:40,093] Trial 0 finished with values: [0.693575710789044, 0.08601714715443777] and parameters: {'max_depth': 7, 'eta': 0.16955607939037695, 'subsample': 0.9301609793976705, 'colsample_bytree': 0.7379895726076988}.\n"
     ]
    },
    {
     "name": "stdout",
     "output_type": "stream",
     "text": [
      "Completed study for alpha=0.49\n"
     ]
    },
    {
     "name": "stderr",
     "output_type": "stream",
     "text": [
      "[I 2025-05-16 11:11:40,257] Trial 1 finished with values: [0.6692935456893144, 0.02563267860661993] and parameters: {'max_depth': 4, 'eta': 0.020134536733010168, 'subsample': 0.7313536551761292, 'colsample_bytree': 0.6856608531598718}.\n",
      "[I 2025-05-16 11:11:40,381] Trial 2 finished with values: [0.6849920198019195, 0.09350487580175815] and parameters: {'max_depth': 7, 'eta': 0.24952128737963092, 'subsample': 0.9418078756168013, 'colsample_bytree': 0.8593218747649904}.\n",
      "[I 2025-05-16 11:11:40,522] Trial 3 finished with values: [0.6657124126543578, 0.06010445562772215] and parameters: {'max_depth': 6, 'eta': 0.05702613933258304, 'subsample': 0.8637934570698653, 'colsample_bytree': 0.8103201078896837}.\n",
      "[I 2025-05-16 11:11:40,654] Trial 4 finished with values: [0.6757205919744633, 0.04255910820040316] and parameters: {'max_depth': 7, 'eta': 0.07781513244361439, 'subsample': 0.9135547159201731, 'colsample_bytree': 0.6236601803603841}.\n",
      "[I 2025-05-16 11:11:40,757] Trial 5 finished with values: [0.6635772118627713, 0.02434364487679765] and parameters: {'max_depth': 3, 'eta': 0.14525426468816666, 'subsample': 0.8526552537758769, 'colsample_bytree': 0.7880807707264069}.\n",
      "[I 2025-05-16 11:11:40,958] Trial 6 finished with values: [0.6700073215636899, 0.05672232604497641] and parameters: {'max_depth': 5, 'eta': 0.1351837278402305, 'subsample': 0.8182566658375243, 'colsample_bytree': 0.8225312190052491}.\n",
      "[I 2025-05-16 11:11:41,104] Trial 7 finished with values: [0.6521537344569942, 0.021404038304413713] and parameters: {'max_depth': 3, 'eta': 0.08024620082731908, 'subsample': 0.9066041019599038, 'colsample_bytree': 0.8004797730867229}.\n",
      "[I 2025-05-16 11:11:41,264] Trial 8 finished with values: [0.6821399797201876, 0.07324022109461835] and parameters: {'max_depth': 6, 'eta': 0.1065976806762236, 'subsample': 0.8989159156124493, 'colsample_bytree': 0.8566022285340626}.\n",
      "[I 2025-05-16 11:11:41,409] Trial 9 finished with values: [0.6900052997092819, 0.06972845484634344] and parameters: {'max_depth': 6, 'eta': 0.25234412640800014, 'subsample': 0.6792637508400137, 'colsample_bytree': 0.8130102983039472}.\n",
      "[I 2025-05-16 11:11:41,414] A new study created in memory with name: no-name-d6ff776c-b076-4ecf-a191-249c2a4669db\n",
      "[I 2025-05-16 11:11:41,547] Trial 0 finished with values: [0.6807231499266312, 0.05987113342960632] and parameters: {'max_depth': 4, 'eta': 0.20099144163539928, 'subsample': 0.6633266897174609, 'colsample_bytree': 0.9347924252767708}.\n"
     ]
    },
    {
     "name": "stdout",
     "output_type": "stream",
     "text": [
      "Completed study for alpha=0.5\n"
     ]
    },
    {
     "name": "stderr",
     "output_type": "stream",
     "text": [
      "[I 2025-05-16 11:11:41,748] Trial 1 finished with values: [0.6571578241170469, 0.02110588385760977] and parameters: {'max_depth': 3, 'eta': 0.014013424495320732, 'subsample': 0.9240577726906241, 'colsample_bytree': 0.6454092016611214}.\n",
      "[I 2025-05-16 11:11:41,913] Trial 2 finished with values: [0.672854766521767, 0.05393611464469219] and parameters: {'max_depth': 6, 'eta': 0.02436925561841065, 'subsample': 0.9378507741074973, 'colsample_bytree': 0.7277891738588276}.\n",
      "[I 2025-05-16 11:11:42,047] Trial 3 finished with values: [0.6778603878897048, 0.052974111752750706] and parameters: {'max_depth': 6, 'eta': 0.15268316338222707, 'subsample': 0.7785879212243906, 'colsample_bytree': 0.8757436659936936}.\n",
      "[I 2025-05-16 11:11:42,151] Trial 4 finished with values: [0.6842904975906235, 0.06041089607391093] and parameters: {'max_depth': 5, 'eta': 0.2749888409712719, 'subsample': 0.758608249407677, 'colsample_bytree': 0.7883946985264317}.\n",
      "[I 2025-05-16 11:11:42,256] Trial 5 finished with values: [0.6621511918219052, 0.02493740678971083] and parameters: {'max_depth': 3, 'eta': 0.2330927641571773, 'subsample': 0.9464371314896319, 'colsample_bytree': 0.8664049278676562}.\n",
      "[I 2025-05-16 11:11:42,395] Trial 6 finished with values: [0.6585807807421431, 0.04319030694071913] and parameters: {'max_depth': 4, 'eta': 0.031100624923236377, 'subsample': 0.9949439463501716, 'colsample_bytree': 0.6502157252554956}.\n",
      "[I 2025-05-16 11:11:42,512] Trial 7 finished with values: [0.6514522122456982, 0.03668518909192456] and parameters: {'max_depth': 3, 'eta': 0.050386670356519093, 'subsample': 0.9886958370228701, 'colsample_bytree': 0.8376027028696975}.\n",
      "[I 2025-05-16 11:11:42,632] Trial 8 finished with values: [0.6807093645556669, 0.06721278134881196] and parameters: {'max_depth': 7, 'eta': 0.13384963666571265, 'subsample': 0.7682124020370125, 'colsample_bytree': 0.9673553416891945}.\n",
      "[I 2025-05-16 11:11:42,778] Trial 9 finished with values: [0.6964246874550061, 0.07880413545773957] and parameters: {'max_depth': 7, 'eta': 0.20328473486901633, 'subsample': 0.9169949909998487, 'colsample_bytree': 0.9557274759458189}.\n",
      "[I 2025-05-16 11:11:42,783] A new study created in memory with name: no-name-bf6e7e54-d1b4-4b64-9824-f068389b0eef\n"
     ]
    },
    {
     "name": "stdout",
     "output_type": "stream",
     "text": [
      "Completed study for alpha=0.51\n"
     ]
    },
    {
     "name": "stderr",
     "output_type": "stream",
     "text": [
      "[I 2025-05-16 11:11:42,989] Trial 0 finished with values: [0.6757282505138881, 0.031135433500005482] and parameters: {'max_depth': 4, 'eta': 0.019601006070390125, 'subsample': 0.6974746422790284, 'colsample_bytree': 0.6157928479158159}.\n",
      "[I 2025-05-16 11:11:43,137] Trial 1 finished with values: [0.6750144746395126, 0.046833554663517386] and parameters: {'max_depth': 5, 'eta': 0.04004155138388473, 'subsample': 0.7951058068042614, 'colsample_bytree': 0.61094991904388}.\n",
      "[I 2025-05-16 11:11:43,253] Trial 2 finished with values: [0.6878609086703857, 0.06546953955540498] and parameters: {'max_depth': 6, 'eta': 0.23410791318373222, 'subsample': 0.8179806439710882, 'colsample_bytree': 0.7379425528294796}.\n",
      "[I 2025-05-16 11:11:43,389] Trial 3 finished with values: [0.6785711003483104, 0.053552514443873024] and parameters: {'max_depth': 7, 'eta': 0.07613208931484719, 'subsample': 0.7121529127596001, 'colsample_bytree': 0.9669937725890512}.\n",
      "[I 2025-05-16 11:11:43,492] Trial 4 finished with values: [0.677877236676439, 0.0580099251492553] and parameters: {'max_depth': 3, 'eta': 0.24873181767187333, 'subsample': 0.6013444332053222, 'colsample_bytree': 0.7757325214036771}.\n",
      "[I 2025-05-16 11:11:43,615] Trial 5 finished with values: [0.6685736429833993, 0.06308947324647084] and parameters: {'max_depth': 5, 'eta': 0.07231508091062916, 'subsample': 0.9565399865742155, 'colsample_bytree': 0.6069728154302406}.\n",
      "[I 2025-05-16 11:11:43,750] Trial 6 finished with values: [0.6842920292985085, 0.0716213549588269] and parameters: {'max_depth': 5, 'eta': 0.23309374494990626, 'subsample': 0.7058615685877904, 'colsample_bytree': 0.9196913255006709}.\n",
      "[I 2025-05-16 11:11:43,855] Trial 7 finished with values: [0.6600144593224337, 0.0405823717196831] and parameters: {'max_depth': 3, 'eta': 0.12402435482613464, 'subsample': 0.9493141427529063, 'colsample_bytree': 0.7322594125322582}.\n",
      "[I 2025-05-16 11:11:44,020] Trial 8 finished with values: [0.6721486491868163, 0.06692407587918482] and parameters: {'max_depth': 6, 'eta': 0.07515814256717432, 'subsample': 0.9826046630392277, 'colsample_bytree': 0.6923148862815096}.\n",
      "[I 2025-05-16 11:11:44,121] Trial 9 finished with values: [0.6692858871498899, 0.023000471788063914] and parameters: {'max_depth': 3, 'eta': 0.24587040572918906, 'subsample': 0.9632818246769843, 'colsample_bytree': 0.8233390559654605}.\n",
      "[I 2025-05-16 11:11:44,125] A new study created in memory with name: no-name-6cc4b3f0-4198-42b7-8a20-c2f8e89bda5a\n",
      "[I 2025-05-16 11:11:44,214] Trial 0 finished with values: [0.6600113959066639, 0.018197247866203164] and parameters: {'max_depth': 3, 'eta': 0.10990414018654371, 'subsample': 0.8975404776318398, 'colsample_bytree': 0.6815229981754136}.\n"
     ]
    },
    {
     "name": "stdout",
     "output_type": "stream",
     "text": [
      "Completed study for alpha=0.52\n"
     ]
    },
    {
     "name": "stderr",
     "output_type": "stream",
     "text": [
      "[I 2025-05-16 11:11:44,449] Trial 1 finished with values: [0.6721455857710463, 0.06353644948672926] and parameters: {'max_depth': 6, 'eta': 0.013694441915479095, 'subsample': 0.787350933109644, 'colsample_bytree': 0.772021394299115}.\n",
      "[I 2025-05-16 11:11:44,662] Trial 2 finished with values: [0.6671506863583033, 0.05424810639777483] and parameters: {'max_depth': 4, 'eta': 0.011422455543524333, 'subsample': 0.8574298998704375, 'colsample_bytree': 0.7397383674720619}.\n",
      "[I 2025-05-16 11:11:44,794] Trial 3 finished with values: [0.6821491699674972, 0.04316868087124911] and parameters: {'max_depth': 7, 'eta': 0.11374706407580149, 'subsample': 0.8343244687728911, 'colsample_bytree': 0.6571074934813693}.\n",
      "[I 2025-05-16 11:11:44,921] Trial 4 finished with values: [0.6714425318518655, 0.06386691518501435] and parameters: {'max_depth': 5, 'eta': 0.1363100935791598, 'subsample': 0.6108445443297348, 'colsample_bytree': 0.9288612552620947}.\n",
      "[I 2025-05-16 11:11:45,058] Trial 5 finished with values: [0.6992828543682776, 0.09890849476345324] and parameters: {'max_depth': 7, 'eta': 0.21669356868310308, 'subsample': 0.7753148244153046, 'colsample_bytree': 0.80849871036134}.\n",
      "[I 2025-05-16 11:11:45,207] Trial 6 finished with values: [0.6771481437232142, 0.07341615975930986] and parameters: {'max_depth': 5, 'eta': 0.08859757429014739, 'subsample': 0.6665757266663949, 'colsample_bytree': 0.7965453041423558}.\n",
      "[I 2025-05-16 11:11:45,316] Trial 7 finished with values: [0.6721517126025861, 0.039806476835329195] and parameters: {'max_depth': 3, 'eta': 0.27361384094384184, 'subsample': 0.7027444277226369, 'colsample_bytree': 0.773633082211452}.\n",
      "[I 2025-05-16 11:11:45,428] Trial 8 finished with values: [0.6821476382596122, 0.061170532274455465] and parameters: {'max_depth': 5, 'eta': 0.2469776682758718, 'subsample': 0.7398195635255218, 'colsample_bytree': 0.7186683582594796}.\n",
      "[I 2025-05-16 11:11:45,559] Trial 9 finished with values: [0.6685874283543637, 0.02830960503075136] and parameters: {'max_depth': 4, 'eta': 0.07353981032506383, 'subsample': 0.7508616244743086, 'colsample_bytree': 0.6432382731250781}.\n",
      "[I 2025-05-16 11:11:45,563] A new study created in memory with name: no-name-e93ac8fb-7438-463c-8615-28e10572718a\n",
      "[I 2025-05-16 11:11:45,663] Trial 0 finished with values: [0.6721563077262408, 0.027193708617813533] and parameters: {'max_depth': 4, 'eta': 0.10932926023570079, 'subsample': 0.890928076966699, 'colsample_bytree': 0.6877744369080561}.\n"
     ]
    },
    {
     "name": "stdout",
     "output_type": "stream",
     "text": [
      "Completed study for alpha=0.53\n"
     ]
    },
    {
     "name": "stderr",
     "output_type": "stream",
     "text": [
      "[I 2025-05-16 11:11:45,890] Trial 1 finished with values: [0.6721517126025862, 0.07174601409844401] and parameters: {'max_depth': 6, 'eta': 0.038438250730557635, 'subsample': 0.7370694650530466, 'colsample_bytree': 0.7910341049420728}.\n",
      "[I 2025-05-16 11:11:45,992] Trial 2 finished with values: [0.6771665242178333, 0.04887541488725159] and parameters: {'max_depth': 3, 'eta': 0.17959028276878267, 'subsample': 0.6053181612406497, 'colsample_bytree': 0.9647866571878798}.\n",
      "[I 2025-05-16 11:11:46,176] Trial 3 finished with values: [0.6742792548547482, 0.05822552119454818] and parameters: {'max_depth': 6, 'eta': 0.04883602189716839, 'subsample': 0.9930620450393826, 'colsample_bytree': 0.9185194298035064}.\n",
      "[I 2025-05-16 11:11:46,285] Trial 4 finished with values: [0.6757221236823483, 0.05815019782441464] and parameters: {'max_depth': 4, 'eta': 0.182025034250129, 'subsample': 0.7071930485245168, 'colsample_bytree': 0.7530180919831502}.\n",
      "[I 2025-05-16 11:11:46,415] Trial 5 finished with values: [0.6821537650911519, 0.052454383681597265] and parameters: {'max_depth': 6, 'eta': 0.058699430818627336, 'subsample': 0.6224001880480837, 'colsample_bytree': 0.8499052265135162}.\n",
      "[I 2025-05-16 11:11:46,516] Trial 6 finished with values: [0.687853250130961, 0.05701322926407704] and parameters: {'max_depth': 7, 'eta': 0.2503138660674801, 'subsample': 0.6453510749954817, 'colsample_bytree': 0.6060687850342179}.\n",
      "[I 2025-05-16 11:11:46,734] Trial 7 finished with values: [0.6800093740522558, 0.07411235237936592] and parameters: {'max_depth': 7, 'eta': 0.013585590337618088, 'subsample': 0.7126396219098039, 'colsample_bytree': 0.7037724710190938}.\n",
      "[I 2025-05-16 11:11:46,838] Trial 8 finished with values: [0.6742945719335974, 0.0875974411566499] and parameters: {'max_depth': 5, 'eta': 0.20528452647668272, 'subsample': 0.6145166762101559, 'colsample_bytree': 0.7986055054854247}.\n",
      "[I 2025-05-16 11:11:46,946] Trial 9 finished with values: [0.7085757261061228, 0.08478588456607332] and parameters: {'max_depth': 6, 'eta': 0.27048222704852054, 'subsample': 0.9997463949321057, 'colsample_bytree': 0.7941777555010376}.\n",
      "[I 2025-05-16 11:11:46,950] A new study created in memory with name: no-name-d7440bc3-dc3c-48d5-bbbf-7c4f721039f6\n",
      "[I 2025-05-16 11:11:47,062] Trial 0 finished with values: [0.6728593616454219, 0.05279592653839402] and parameters: {'max_depth': 6, 'eta': 0.08925779021883708, 'subsample': 0.7217984050315, 'colsample_bytree': 0.7629615080830985}.\n"
     ]
    },
    {
     "name": "stdout",
     "output_type": "stream",
     "text": [
      "Completed study for alpha=0.54\n"
     ]
    },
    {
     "name": "stderr",
     "output_type": "stream",
     "text": [
      "[I 2025-05-16 11:11:47,191] Trial 1 finished with values: [0.6814246721379273, 0.0403837992862962] and parameters: {'max_depth': 4, 'eta': 0.219966218931808, 'subsample': 0.8717620622153747, 'colsample_bytree': 0.7503724020387169}.\n",
      "[I 2025-05-16 11:11:47,317] Trial 2 finished with values: [0.6928604032067837, 0.06657536131193328] and parameters: {'max_depth': 5, 'eta': 0.24108389311681463, 'subsample': 0.6855966415496237, 'colsample_bytree': 0.9850703474207999}.\n",
      "[I 2025-05-16 11:11:47,437] Trial 3 finished with values: [0.6828767312128369, 0.07419200639699954] and parameters: {'max_depth': 4, 'eta': 0.2712221956108439, 'subsample': 0.6854247421175292, 'colsample_bytree': 0.6299340961278491}.\n",
      "[I 2025-05-16 11:11:47,605] Trial 4 finished with values: [0.6678751841878733, 0.03752803491811762] and parameters: {'max_depth': 3, 'eta': 0.09598375999989692, 'subsample': 0.606242055526713, 'colsample_bytree': 0.8319630376017054}.\n",
      "[I 2025-05-16 11:11:47,709] Trial 5 finished with values: [0.6614389476554148, 0.042534361734162585] and parameters: {'max_depth': 3, 'eta': 0.2018897750083265, 'subsample': 0.8519141748893266, 'colsample_bytree': 0.9231608963590153}.\n",
      "[I 2025-05-16 11:11:47,838] Trial 6 finished with values: [0.6792925347621104, 0.06410253032995858] and parameters: {'max_depth': 4, 'eta': 0.13935229856030731, 'subsample': 0.6605429027850497, 'colsample_bytree': 0.9257900754286676}.\n",
      "[I 2025-05-16 11:11:47,992] Trial 7 finished with values: [0.6821461065517274, 0.06215634693586267] and parameters: {'max_depth': 7, 'eta': 0.13066575117520607, 'subsample': 0.6506442870765444, 'colsample_bytree': 0.8563089684576493}.\n",
      "[I 2025-05-16 11:11:48,119] Trial 8 finished with values: [0.6792894713463405, 0.04788317894103759] and parameters: {'max_depth': 6, 'eta': 0.23898148065918068, 'subsample': 0.7202141119745517, 'colsample_bytree': 0.728344280181674}.\n",
      "[I 2025-05-16 11:11:48,253] Trial 9 finished with values: [0.6707318193932599, 0.0489275164778612] and parameters: {'max_depth': 3, 'eta': 0.29093654992474927, 'subsample': 0.9962816602509107, 'colsample_bytree': 0.6275418729429878}.\n",
      "[I 2025-05-16 11:11:48,259] A new study created in memory with name: no-name-80c97c8b-bfd0-4d1c-b500-67367ff5f3db\n",
      "[I 2025-05-16 11:11:48,382] Trial 0 finished with values: [0.668581301522824, 0.03426930233864278] and parameters: {'max_depth': 3, 'eta': 0.2685439863010209, 'subsample': 0.6203638654264351, 'colsample_bytree': 0.8732576049567049}.\n"
     ]
    },
    {
     "name": "stdout",
     "output_type": "stream",
     "text": [
      "Completed study for alpha=0.55\n"
     ]
    },
    {
     "name": "stderr",
     "output_type": "stream",
     "text": [
      "[I 2025-05-16 11:11:48,547] Trial 1 finished with values: [0.6964308142865457, 0.060749503340903434] and parameters: {'max_depth': 7, 'eta': 0.17658382829197194, 'subsample': 0.8902803834664343, 'colsample_bytree': 0.7795879507557196}.\n",
      "[I 2025-05-16 11:11:48,671] Trial 2 finished with values: [0.6857165176314896, 0.04166992908677563] and parameters: {'max_depth': 6, 'eta': 0.17896019280892528, 'subsample': 0.7673853607175805, 'colsample_bytree': 0.9363465907457725}.\n",
      "[I 2025-05-16 11:11:48,843] Trial 3 finished with values: [0.6907098853363477, 0.06374363768168771] and parameters: {'max_depth': 5, 'eta': 0.22883494707402555, 'subsample': 0.8880148420063556, 'colsample_bytree': 0.9456776076457253}.\n",
      "[I 2025-05-16 11:11:48,957] Trial 4 finished with values: [0.6657216029016674, 0.028637482300225114] and parameters: {'max_depth': 3, 'eta': 0.23433490647734906, 'subsample': 0.7905706093686931, 'colsample_bytree': 0.9671084788738276}.\n",
      "[I 2025-05-16 11:11:49,066] Trial 5 finished with values: [0.6650108904430619, 0.035651603297151335] and parameters: {'max_depth': 5, 'eta': 0.12237308849222324, 'subsample': 0.7606412312845156, 'colsample_bytree': 0.7078175552785517}.\n",
      "[I 2025-05-16 11:11:49,191] Trial 6 finished with values: [0.693574179081159, 0.06333483625408477] and parameters: {'max_depth': 7, 'eta': 0.19772110311539726, 'subsample': 0.7727932958745083, 'colsample_bytree': 0.9584419653576974}.\n",
      "[I 2025-05-16 11:11:49,408] Trial 7 finished with values: [0.664284860905607, 0.0536775460609314] and parameters: {'max_depth': 7, 'eta': 0.01865991200330578, 'subsample': 0.6727217850710596, 'colsample_bytree': 0.8290644590534524}.\n",
      "[I 2025-05-16 11:11:49,647] Trial 8 finished with values: [0.6657261980253223, 0.07120437938570265] and parameters: {'max_depth': 5, 'eta': 0.012314014521253054, 'subsample': 0.6568776415200721, 'colsample_bytree': 0.604037243546842}.\n",
      "[I 2025-05-16 11:11:49,739] Trial 9 finished with values: [0.6814231404300424, 0.05617852011699997] and parameters: {'max_depth': 4, 'eta': 0.26287482850450083, 'subsample': 0.9848787843653061, 'colsample_bytree': 0.9930519024719762}.\n",
      "[I 2025-05-16 11:11:49,743] A new study created in memory with name: no-name-90f5fc60-5e5e-4703-95e0-334cc27b22ae\n",
      "[I 2025-05-16 11:11:49,833] Trial 0 finished with values: [0.6678675256484485, 0.026068302979864188] and parameters: {'max_depth': 3, 'eta': 0.1307526902762088, 'subsample': 0.6499991618202898, 'colsample_bytree': 0.6128741871756479}.\n",
      "[I 2025-05-16 11:11:49,949] Trial 1 finished with values: [0.6700042581479201, 0.05082395067693341] and parameters: {'max_depth': 4, 'eta': 0.08448972641032997, 'subsample': 0.8984159603647717, 'colsample_bytree': 0.8690336236147768}.\n"
     ]
    },
    {
     "name": "stdout",
     "output_type": "stream",
     "text": [
      "Completed study for alpha=0.56\n"
     ]
    },
    {
     "name": "stderr",
     "output_type": "stream",
     "text": [
      "[I 2025-05-16 11:11:50,075] Trial 2 finished with values: [0.6842904975906235, 0.061310302246668995] and parameters: {'max_depth': 6, 'eta': 0.10381511626066312, 'subsample': 0.7125105223071996, 'colsample_bytree': 0.9868494383843389}.\n",
      "[I 2025-05-16 11:11:50,188] Trial 3 finished with values: [0.6885654942974515, 0.060270192403620436] and parameters: {'max_depth': 5, 'eta': 0.2614230537384087, 'subsample': 0.6442899403465617, 'colsample_bytree': 0.9477826008008768}.\n",
      "[I 2025-05-16 11:11:50,323] Trial 4 finished with values: [0.6964354094102005, 0.048168386407257256] and parameters: {'max_depth': 7, 'eta': 0.22664015967005688, 'subsample': 0.642359287966076, 'colsample_bytree': 0.6205671594994913}.\n",
      "[I 2025-05-16 11:11:50,429] Trial 5 finished with values: [0.6821491699674972, 0.04662853335367546] and parameters: {'max_depth': 4, 'eta': 0.23846743793427258, 'subsample': 0.7463040853127987, 'colsample_bytree': 0.9488249111422932}.\n",
      "[I 2025-05-16 11:11:50,545] Trial 6 finished with values: [0.6692966091050844, 0.04975731300918509] and parameters: {'max_depth': 5, 'eta': 0.06581387963097801, 'subsample': 0.7815903638172043, 'colsample_bytree': 0.8753214606025042}.\n",
      "[I 2025-05-16 11:11:50,649] Trial 7 finished with values: [0.6807139596793217, 0.05632071647896186] and parameters: {'max_depth': 5, 'eta': 0.17788986868664422, 'subsample': 0.7568084745613075, 'colsample_bytree': 0.7684024964749645}.\n",
      "[I 2025-05-16 11:11:50,766] Trial 8 finished with values: [0.68570732738418, 0.06383243147702324] and parameters: {'max_depth': 7, 'eta': 0.12125070773560584, 'subsample': 0.9089067911691642, 'colsample_bytree': 0.9152988280019783}.\n",
      "[I 2025-05-16 11:11:50,868] Trial 9 finished with values: [0.6842889658827387, 0.06621422212633417] and parameters: {'max_depth': 5, 'eta': 0.1789181372617548, 'subsample': 0.9313856177435691, 'colsample_bytree': 0.6543598008592342}.\n",
      "[I 2025-05-16 11:11:50,872] A new study created in memory with name: no-name-b6637cf4-b461-47d6-aeb4-5ce1a8fe17bd\n",
      "[I 2025-05-16 11:11:50,983] Trial 0 finished with values: [0.6964246874550061, 0.07732520520598438] and parameters: {'max_depth': 6, 'eta': 0.23053309123255114, 'subsample': 0.9731152108876161, 'colsample_bytree': 0.6930925185899138}.\n"
     ]
    },
    {
     "name": "stdout",
     "output_type": "stream",
     "text": [
      "Completed study for alpha=0.57\n"
     ]
    },
    {
     "name": "stderr",
     "output_type": "stream",
     "text": [
      "[I 2025-05-16 11:11:51,096] Trial 1 finished with values: [0.6771450803074445, 0.053715744638998954] and parameters: {'max_depth': 5, 'eta': 0.20201105833413793, 'subsample': 0.9129125488848969, 'colsample_bytree': 0.6908259538505992}.\n",
      "[I 2025-05-16 11:11:51,234] Trial 2 finished with values: [0.6650047636115222, 0.04905127654533689] and parameters: {'max_depth': 4, 'eta': 0.039715315300252275, 'subsample': 0.829585767314254, 'colsample_bytree': 0.7993251832054349}.\n",
      "[I 2025-05-16 11:11:51,351] Trial 3 finished with values: [0.6578654731598828, 0.033931355506133486] and parameters: {'max_depth': 3, 'eta': 0.11031293676995096, 'subsample': 0.9526374367749258, 'colsample_bytree': 0.8754090361095157}.\n",
      "[I 2025-05-16 11:11:51,466] Trial 4 finished with values: [0.6842828390511989, 0.04986372486803139] and parameters: {'max_depth': 5, 'eta': 0.243344697131106, 'subsample': 0.8653886974406597, 'colsample_bytree': 0.9843466581645406}.\n",
      "[I 2025-05-16 11:11:51,597] Trial 5 finished with values: [0.6750068161000878, 0.05705109005232364] and parameters: {'max_depth': 5, 'eta': 0.17324520046362954, 'subsample': 0.7740983216759618, 'colsample_bytree': 0.7644509013655683}.\n",
      "[I 2025-05-16 11:11:51,791] Trial 6 finished with values: [0.6671506863583033, 0.05221211954234172] and parameters: {'max_depth': 4, 'eta': 0.03634432500611184, 'subsample': 0.8648990239739927, 'colsample_bytree': 0.9495386733003273}.\n",
      "[I 2025-05-16 11:11:51,921] Trial 7 finished with values: [0.6821399797201876, 0.07378586941265625] and parameters: {'max_depth': 5, 'eta': 0.18259590744564141, 'subsample': 0.754355320763612, 'colsample_bytree': 0.9015899409995135}.\n",
      "[I 2025-05-16 11:11:52,034] Trial 8 finished with values: [0.6643017096923413, 0.023703318279685758] and parameters: {'max_depth': 3, 'eta': 0.2594102518419354, 'subsample': 0.621033792979937, 'colsample_bytree': 0.6017333471905214}.\n",
      "[I 2025-05-16 11:11:52,150] Trial 9 finished with values: [0.6607267034889243, 0.031682364889290694] and parameters: {'max_depth': 3, 'eta': 0.1578908921311818, 'subsample': 0.9229222921970816, 'colsample_bytree': 0.9622715460863231}.\n",
      "[I 2025-05-16 11:11:52,154] A new study created in memory with name: no-name-0c9ec759-70f4-4cdd-950d-8eb7e00f4d65\n",
      "[I 2025-05-16 11:11:52,271] Trial 0 finished with values: [0.6664445690233525, 0.025800400742741304] and parameters: {'max_depth': 3, 'eta': 0.11547261690140298, 'subsample': 0.7588056051824498, 'colsample_bytree': 0.8401694318366586}.\n"
     ]
    },
    {
     "name": "stdout",
     "output_type": "stream",
     "text": [
      "Completed study for alpha=0.58\n"
     ]
    },
    {
     "name": "stderr",
     "output_type": "stream",
     "text": [
      "[I 2025-05-16 11:11:52,431] Trial 1 finished with values: [0.6835721265925933, 0.0551447126029771] and parameters: {'max_depth': 5, 'eta': 0.2611142210369619, 'subsample': 0.7087495671469644, 'colsample_bytree': 0.9631311862447208}.\n",
      "[I 2025-05-16 11:11:52,621] Trial 2 finished with values: [0.6842889658827387, 0.05789380769975563] and parameters: {'max_depth': 5, 'eta': 0.1791922198812063, 'subsample': 0.9708313680173101, 'colsample_bytree': 0.9844025510601853}.\n",
      "[I 2025-05-16 11:11:52,875] Trial 3 finished with values: [0.7071374524021775, 0.06902452824952944] and parameters: {'max_depth': 7, 'eta': 0.2319831095472408, 'subsample': 0.9505126249096186, 'colsample_bytree': 0.8322356475836019}.\n",
      "[I 2025-05-16 11:11:53,017] Trial 4 finished with values: [0.6942925500791893, 0.06173241163233392] and parameters: {'max_depth': 5, 'eta': 0.2718820884439336, 'subsample': 0.7642881048712409, 'colsample_bytree': 0.7962655132282623}.\n",
      "[I 2025-05-16 11:11:53,179] Trial 5 finished with values: [0.6721455857710463, 0.0534778101608826] and parameters: {'max_depth': 5, 'eta': 0.10024653628646628, 'subsample': 0.9769249612142809, 'colsample_bytree': 0.717859124853566}.\n",
      "[I 2025-05-16 11:11:53,377] Trial 6 finished with values: [0.6778649830133595, 0.05781002573104804] and parameters: {'max_depth': 4, 'eta': 0.2978036224028544, 'subsample': 0.6915031676469281, 'colsample_bytree': 0.7690824226045632}.\n",
      "[I 2025-05-16 11:11:53,561] Trial 7 finished with values: [0.665006295319407, 0.04410442223245469] and parameters: {'max_depth': 4, 'eta': 0.072076379178968, 'subsample': 0.7666092834504374, 'colsample_bytree': 0.6373939956326089}.\n",
      "[I 2025-05-16 11:11:53,724] Trial 8 finished with values: [0.6642971145686865, 0.029335624577687337] and parameters: {'max_depth': 3, 'eta': 0.05599058940380034, 'subsample': 0.7140962650295521, 'colsample_bytree': 0.8336756513702707}.\n",
      "[I 2025-05-16 11:11:53,873] Trial 9 finished with values: [0.6707180340222955, 0.0602171149738675] and parameters: {'max_depth': 5, 'eta': 0.13254061752999405, 'subsample': 0.6499949890254192, 'colsample_bytree': 0.8086570876611725}.\n",
      "[I 2025-05-16 11:11:53,878] A new study created in memory with name: no-name-3f93fc27-c86b-4dac-b37c-a0216734f2ab\n",
      "[I 2025-05-16 11:11:54,011] Trial 0 finished with values: [0.7107124586055944, 0.08557446549083508] and parameters: {'max_depth': 7, 'eta': 0.25449729154969214, 'subsample': 0.9993516160583616, 'colsample_bytree': 0.6101283382433522}.\n"
     ]
    },
    {
     "name": "stdout",
     "output_type": "stream",
     "text": [
      "Completed study for alpha=0.59\n"
     ]
    },
    {
     "name": "stderr",
     "output_type": "stream",
     "text": [
      "[I 2025-05-16 11:11:54,138] Trial 1 finished with values: [0.6585823124500281, 0.031260159916393665] and parameters: {'max_depth': 3, 'eta': 0.10092615922035053, 'subsample': 0.8062911918769442, 'colsample_bytree': 0.7223234805391001}.\n",
      "[I 2025-05-16 11:11:54,304] Trial 2 finished with values: [0.7035670413224153, 0.08600057319855325] and parameters: {'max_depth': 6, 'eta': 0.2729816841402914, 'subsample': 0.9053150241508877, 'colsample_bytree': 0.7650262658667983}.\n",
      "[I 2025-05-16 11:11:54,462] Trial 3 finished with values: [0.6678659939405636, 0.023292435360464363] and parameters: {'max_depth': 4, 'eta': 0.062461360229800214, 'subsample': 0.8138790150799183, 'colsample_bytree': 0.9642800821291968}.\n",
      "[I 2025-05-16 11:11:54,583] Trial 4 finished with values: [0.6807154913872067, 0.04974868185972911] and parameters: {'max_depth': 5, 'eta': 0.09321195462175484, 'subsample': 0.9496657655100398, 'colsample_bytree': 0.6189907270562357}.\n",
      "[I 2025-05-16 11:11:54,792] Trial 5 finished with values: [0.6692996725208543, 0.04426292883490701] and parameters: {'max_depth': 3, 'eta': 0.298893515541346, 'subsample': 0.9173313755183214, 'colsample_bytree': 0.6446007346866642}.\n",
      "[I 2025-05-16 11:11:54,909] Trial 6 finished with values: [0.6564333262874771, 0.03737580787797671] and parameters: {'max_depth': 3, 'eta': 0.1339334139035406, 'subsample': 0.9148457997442013, 'colsample_bytree': 0.7570836580438778}.\n",
      "[I 2025-05-16 11:11:55,113] Trial 7 finished with values: [0.6721471174789313, 0.06998100918074673] and parameters: {'max_depth': 7, 'eta': 0.021605691686948633, 'subsample': 0.7687820509317815, 'colsample_bytree': 0.7499529195718958}.\n",
      "[I 2025-05-16 11:11:55,232] Trial 8 finished with values: [0.6707226291459504, 0.031717043481003994] and parameters: {'max_depth': 4, 'eta': 0.1577703469526505, 'subsample': 0.7886226502375739, 'colsample_bytree': 0.8639253765618823}.\n",
      "[I 2025-05-16 11:11:55,360] Trial 9 finished with values: [0.6671414961109936, 0.05877702253548381] and parameters: {'max_depth': 5, 'eta': 0.07030158907427077, 'subsample': 0.7363563218438409, 'colsample_bytree': 0.9145236232295895}.\n",
      "[I 2025-05-16 11:11:55,366] A new study created in memory with name: no-name-84f10183-0369-4807-a27c-4a21975b412d\n"
     ]
    },
    {
     "name": "stdout",
     "output_type": "stream",
     "text": [
      "Completed study for alpha=0.6\n"
     ]
    },
    {
     "name": "stderr",
     "output_type": "stream",
     "text": [
      "[I 2025-05-16 11:11:55,602] Trial 0 finished with values: [0.6621603820692149, 0.0185995443979666] and parameters: {'max_depth': 3, 'eta': 0.010026262002925685, 'subsample': 0.7681878464416739, 'colsample_bytree': 0.7154551956173376}.\n",
      "[I 2025-05-16 11:11:55,768] Trial 1 finished with values: [0.6771343583522499, 0.052553448055745966] and parameters: {'max_depth': 5, 'eta': 0.030699719057522362, 'subsample': 0.9758088352988332, 'colsample_bytree': 0.9561022217247617}.\n",
      "[I 2025-05-16 11:11:55,969] Trial 2 finished with values: [0.688574684544761, 0.04488538714750051] and parameters: {'max_depth': 5, 'eta': 0.1730230860566305, 'subsample': 0.8214046229293736, 'colsample_bytree': 0.7588551658711383}.\n",
      "[I 2025-05-16 11:11:56,110] Trial 3 finished with values: [0.6764404946803785, 0.04342357330435594] and parameters: {'max_depth': 4, 'eta': 0.10057787587446884, 'subsample': 0.7901511138847289, 'colsample_bytree': 0.7777689349839618}.\n",
      "[I 2025-05-16 11:11:56,271] Trial 4 finished with values: [0.6750006892685482, 0.05136644430982181] and parameters: {'max_depth': 5, 'eta': 0.10105919232572318, 'subsample': 0.9045354975693498, 'colsample_bytree': 0.6482734725089073}.\n",
      "[I 2025-05-16 11:11:56,421] Trial 5 finished with values: [0.6864425471689444, 0.06817109294583258] and parameters: {'max_depth': 5, 'eta': 0.1153868432386432, 'subsample': 0.6016780671489735, 'colsample_bytree': 0.8995344727138159}.\n",
      "[I 2025-05-16 11:11:56,604] Trial 6 finished with values: [0.6757144651429238, 0.04890590957316388] and parameters: {'max_depth': 6, 'eta': 0.036517946227812466, 'subsample': 0.7399514862575483, 'colsample_bytree': 0.9893896036445433}.\n",
      "[I 2025-05-16 11:11:56,743] Trial 7 finished with values: [0.7007150012406833, 0.07973532898817742] and parameters: {'max_depth': 7, 'eta': 0.2305115641320018, 'subsample': 0.7191332680717345, 'colsample_bytree': 0.7203660733920519}.\n",
      "[I 2025-05-16 11:11:56,885] Trial 8 finished with values: [0.7007134695327984, 0.07623291818595493] and parameters: {'max_depth': 7, 'eta': 0.224706703999559, 'subsample': 0.7850204996620226, 'colsample_bytree': 0.926892076613915}.\n",
      "[I 2025-05-16 11:11:57,087] Trial 9 finished with values: [0.6721455857710463, 0.08644705259650853] and parameters: {'max_depth': 6, 'eta': 0.039195357264455284, 'subsample': 0.8402023840617686, 'colsample_bytree': 0.7645327027602593}.\n",
      "[I 2025-05-16 11:11:57,092] A new study created in memory with name: no-name-b5f9661a-6205-4be7-8d18-a8623d6bc1cc\n"
     ]
    },
    {
     "name": "stdout",
     "output_type": "stream",
     "text": [
      "Completed study for alpha=0.61\n"
     ]
    },
    {
     "name": "stderr",
     "output_type": "stream",
     "text": [
      "[I 2025-05-16 11:11:57,400] Trial 0 finished with values: [0.6735700741040275, 0.05207984379355209] and parameters: {'max_depth': 5, 'eta': 0.014333341498149264, 'subsample': 0.8682475225433939, 'colsample_bytree': 0.8649237186953076}.\n",
      "[I 2025-05-16 11:11:57,554] Trial 1 finished with values: [0.6964354094102005, 0.07927945431813825] and parameters: {'max_depth': 5, 'eta': 0.2412685566130437, 'subsample': 0.9263729405587255, 'colsample_bytree': 0.9252160966123992}.\n",
      "[I 2025-05-16 11:11:57,726] Trial 2 finished with values: [0.6849920198019195, 0.05625574334683919] and parameters: {'max_depth': 7, 'eta': 0.10745842121350446, 'subsample': 0.6504145292939078, 'colsample_bytree': 0.9815031817007186}.\n",
      "[I 2025-05-16 11:11:57,972] Trial 3 finished with values: [0.6714440635597504, 0.05395481584055403] and parameters: {'max_depth': 4, 'eta': 0.01205783338961993, 'subsample': 0.7756427860405051, 'colsample_bytree': 0.8033914533262033}.\n",
      "[I 2025-05-16 11:11:58,094] Trial 4 finished with values: [0.6664399738996977, 0.042856586342360954] and parameters: {'max_depth': 3, 'eta': 0.2258354687134169, 'subsample': 0.9988640838907559, 'colsample_bytree': 0.9215833628307866}.\n",
      "[I 2025-05-16 11:11:58,233] Trial 5 finished with values: [0.6664415056075826, 0.02946908655985317] and parameters: {'max_depth': 3, 'eta': 0.07343067635223889, 'subsample': 0.7440731334206643, 'colsample_bytree': 0.883321464051252}.\n",
      "[I 2025-05-16 11:11:58,345] Trial 6 finished with values: [0.7064267399435719, 0.06886712408213681] and parameters: {'max_depth': 6, 'eta': 0.2215731859564844, 'subsample': 0.890270154671168, 'colsample_bytree': 0.9762649653973138}.\n",
      "[I 2025-05-16 11:11:58,474] Trial 7 finished with values: [0.6885792796684159, 0.07596484742380687] and parameters: {'max_depth': 5, 'eta': 0.23970378673637813, 'subsample': 0.6458404451097484, 'colsample_bytree': 0.6843496599599429}.\n",
      "[I 2025-05-16 11:11:58,634] Trial 8 finished with values: [0.6699981313163804, 0.05458892958031567] and parameters: {'max_depth': 4, 'eta': 0.0786955714768623, 'subsample': 0.7636098259114183, 'colsample_bytree': 0.7692575972441108}.\n",
      "[I 2025-05-16 11:11:58,748] Trial 9 finished with values: [0.6842966244221632, 0.03538686780401989] and parameters: {'max_depth': 4, 'eta': 0.28211657411771546, 'subsample': 0.6463973143228033, 'colsample_bytree': 0.6963678238004807}.\n",
      "[I 2025-05-16 11:11:58,751] A new study created in memory with name: no-name-4497df2f-c4cb-4e33-b087-21609274cff4\n",
      "[I 2025-05-16 11:11:58,850] Trial 0 finished with values: [0.6771435485995595, 0.027738245025870523] and parameters: {'max_depth': 5, 'eta': 0.2220237811213979, 'subsample': 0.7956340695600805, 'colsample_bytree': 0.6442165275184237}.\n"
     ]
    },
    {
     "name": "stdout",
     "output_type": "stream",
     "text": [
      "Completed study for alpha=0.62\n"
     ]
    },
    {
     "name": "stderr",
     "output_type": "stream",
     "text": [
      "[I 2025-05-16 11:11:58,978] Trial 1 finished with values: [0.6885654942974515, 0.080945584339301] and parameters: {'max_depth': 6, 'eta': 0.2876455940151207, 'subsample': 0.7060318743964078, 'colsample_bytree': 0.8786545053027477}.\n",
      "[I 2025-05-16 11:11:59,136] Trial 2 finished with values: [0.6778711098448992, 0.0696789382957503] and parameters: {'max_depth': 5, 'eta': 0.17750181032544923, 'subsample': 0.6049074284884611, 'colsample_bytree': 0.7935646660473574}.\n",
      "[I 2025-05-16 11:11:59,309] Trial 3 finished with values: [0.6899961094619723, 0.06086939490025226] and parameters: {'max_depth': 7, 'eta': 0.1823066406464643, 'subsample': 0.8299623222933372, 'colsample_bytree': 0.7470083133003198}.\n",
      "[I 2025-05-16 11:11:59,457] Trial 4 finished with values: [0.6907160121678874, 0.04927404390184328] and parameters: {'max_depth': 5, 'eta': 0.17774330356740273, 'subsample': 0.6833708842027724, 'colsample_bytree': 0.9042376672810162}.\n",
      "[I 2025-05-16 11:11:59,607] Trial 5 finished with values: [0.6821399797201876, 0.05635622903006429] and parameters: {'max_depth': 6, 'eta': 0.11786399595643551, 'subsample': 0.7147736016428999, 'colsample_bytree': 0.9499247393769206}.\n",
      "[I 2025-05-16 11:11:59,742] Trial 6 finished with values: [0.6828522238866782, 0.057223408545762154] and parameters: {'max_depth': 6, 'eta': 0.21320939830271293, 'subsample': 0.7674324394391215, 'colsample_bytree': 0.8546801092697696}.\n",
      "[I 2025-05-16 11:11:59,867] Trial 7 finished with values: [0.6849996783413442, 0.06640792199132123] and parameters: {'max_depth': 7, 'eta': 0.13186667095903284, 'subsample': 0.7351396572005091, 'colsample_bytree': 0.9568326188850038}.\n",
      "[I 2025-05-16 11:11:59,990] Trial 8 finished with values: [0.6721532443104711, 0.02581484358009185] and parameters: {'max_depth': 3, 'eta': 0.22476545418932417, 'subsample': 0.6513026884992528, 'colsample_bytree': 0.6570397262244598}.\n",
      "[I 2025-05-16 11:12:00,170] Trial 9 finished with values: [0.6757236553902333, 0.04569999621181103] and parameters: {'max_depth': 6, 'eta': 0.1097469280256807, 'subsample': 0.6823693689137846, 'colsample_bytree': 0.6781013067491782}.\n",
      "[I 2025-05-16 11:12:00,176] A new study created in memory with name: no-name-b23dce26-db22-4822-8b3e-0ff1cca2ca3b\n",
      "[I 2025-05-16 11:12:00,332] Trial 0 finished with values: [0.6828583507182179, 0.06240998737403672] and parameters: {'max_depth': 5, 'eta': 0.15775935561365206, 'subsample': 0.9345348023415161, 'colsample_bytree': 0.7052856730846222}.\n"
     ]
    },
    {
     "name": "stdout",
     "output_type": "stream",
     "text": [
      "Completed study for alpha=0.63\n"
     ]
    },
    {
     "name": "stderr",
     "output_type": "stream",
     "text": [
      "[I 2025-05-16 11:12:00,507] Trial 1 finished with values: [0.6828522238866782, 0.07809647588943171] and parameters: {'max_depth': 7, 'eta': 0.07208802556241597, 'subsample': 0.9182929881462396, 'colsample_bytree': 0.8592291886359014}.\n",
      "[I 2025-05-16 11:12:00,661] Trial 2 finished with values: [0.6971430584530364, 0.05996762343400553] and parameters: {'max_depth': 6, 'eta': 0.2150189018189025, 'subsample': 0.773273016229225, 'colsample_bytree': 0.9901623170159923}.\n",
      "[I 2025-05-16 11:12:00,824] Trial 3 finished with values: [0.687853250130961, 0.04965705688793829] and parameters: {'max_depth': 7, 'eta': 0.07498506745810746, 'subsample': 0.8726130463406852, 'colsample_bytree': 0.9492718406240005}.\n",
      "[I 2025-05-16 11:12:01,241] Trial 4 finished with values: [0.6735685423961426, 0.06177557186595064] and parameters: {'max_depth': 7, 'eta': 0.015317438243460536, 'subsample': 0.7456722777864353, 'colsample_bytree': 0.7845835438288076}.\n",
      "[I 2025-05-16 11:12:01,451] Trial 5 finished with values: [0.7035762315697248, 0.08279512508369966] and parameters: {'max_depth': 7, 'eta': 0.2872359914020734, 'subsample': 0.8064587902000756, 'colsample_bytree': 0.7275228528983773}.\n",
      "[I 2025-05-16 11:12:01,665] Trial 6 finished with values: [0.6707226291459504, 0.06140428586456554] and parameters: {'max_depth': 5, 'eta': 0.09660466684136616, 'subsample': 0.6327096390085216, 'colsample_bytree': 0.8372203192639105}.\n",
      "[I 2025-05-16 11:12:01,804] Trial 7 finished with values: [0.6700088532715749, 0.04253595296620333] and parameters: {'max_depth': 3, 'eta': 0.1783671283724625, 'subsample': 0.7796404715823982, 'colsample_bytree': 0.6351199641953403}.\n",
      "[I 2025-05-16 11:12:02,089] Trial 8 finished with values: [0.6721440540631615, 0.06003276732518054] and parameters: {'max_depth': 4, 'eta': 0.11632861197134135, 'subsample': 0.768113550965438, 'colsample_bytree': 0.9093355645732252}.\n",
      "[I 2025-05-16 11:12:02,379] Trial 9 finished with values: [0.6871440693802405, 0.05615766672040289] and parameters: {'max_depth': 7, 'eta': 0.06767776295892523, 'subsample': 0.7988733251559621, 'colsample_bytree': 0.9638118460051134}.\n",
      "[I 2025-05-16 11:12:02,386] A new study created in memory with name: no-name-f6cdac38-9dec-4097-a360-8551f1dac61c\n"
     ]
    },
    {
     "name": "stdout",
     "output_type": "stream",
     "text": [
      "Completed study for alpha=0.64\n"
     ]
    },
    {
     "name": "stderr",
     "output_type": "stream",
     "text": [
      "[I 2025-05-16 11:12:02,674] Trial 0 finished with values: [0.6849935515098045, 0.0632924902309376] and parameters: {'max_depth': 7, 'eta': 0.06209624925807015, 'subsample': 0.9401223588154214, 'colsample_bytree': 0.9334219981336278}.\n",
      "[I 2025-05-16 11:12:02,823] Trial 1 finished with values: [0.6957109115806306, 0.08056563770970525] and parameters: {'max_depth': 7, 'eta': 0.27087442314841514, 'subsample': 0.6303561265045887, 'colsample_bytree': 0.7832572954806868}.\n",
      "[I 2025-05-16 11:12:02,996] Trial 2 finished with values: [0.6671506863583033, 0.03840416954947302] and parameters: {'max_depth': 4, 'eta': 0.06649019576622894, 'subsample': 0.75222173676818, 'colsample_bytree': 0.6844309863294468}.\n",
      "[I 2025-05-16 11:12:03,134] Trial 3 finished with values: [0.6899991728777423, 0.08240468153370052] and parameters: {'max_depth': 6, 'eta': 0.289631061768694, 'subsample': 0.7297796508073116, 'colsample_bytree': 0.8266314504781291}.\n",
      "[I 2025-05-16 11:12:03,263] Trial 4 finished with values: [0.6614435427790696, 0.026547129318591507] and parameters: {'max_depth': 3, 'eta': 0.05443441781512348, 'subsample': 0.6891392867201735, 'colsample_bytree': 0.723011615895339}.\n",
      "[I 2025-05-16 11:12:03,456] Trial 5 finished with values: [0.6921450956245233, 0.061921028113151234] and parameters: {'max_depth': 7, 'eta': 0.20169657179773304, 'subsample': 0.7000001093722183, 'colsample_bytree': 0.6630075227284581}.\n",
      "[I 2025-05-16 11:12:03,601] Trial 6 finished with values: [0.7092649946543395, 0.0930210319753809] and parameters: {'max_depth': 7, 'eta': 0.28785157732486005, 'subsample': 0.78922289320835, 'colsample_bytree': 0.9187675201267638}.\n",
      "[I 2025-05-16 11:12:03,735] Trial 7 finished with values: [0.6878624403782706, 0.06737734293914117] and parameters: {'max_depth': 5, 'eta': 0.20391652713561728, 'subsample': 0.6221727355402605, 'colsample_bytree': 0.6632323370326533}.\n",
      "[I 2025-05-16 11:12:03,840] Trial 8 finished with values: [0.6821507016753822, 0.04664054195854894] and parameters: {'max_depth': 4, 'eta': 0.19751260487956598, 'subsample': 0.7240205555850967, 'colsample_bytree': 0.954743387978845}.\n",
      "[I 2025-05-16 11:12:03,957] Trial 9 finished with values: [0.6800093740522558, 0.050317793028597006] and parameters: {'max_depth': 4, 'eta': 0.12640042847935246, 'subsample': 0.8788666920384787, 'colsample_bytree': 0.910306011945879}.\n",
      "[I 2025-05-16 11:12:03,963] A new study created in memory with name: no-name-2550a40a-c830-4e48-9831-e85d3b43ac39\n",
      "[I 2025-05-16 11:12:04,066] Trial 0 finished with values: [0.667153749774073, 0.049831324071893605] and parameters: {'max_depth': 3, 'eta': 0.28585865275873457, 'subsample': 0.7177648302948346, 'colsample_bytree': 0.7851043246350669}.\n"
     ]
    },
    {
     "name": "stdout",
     "output_type": "stream",
     "text": [
      "Completed study for alpha=0.65\n"
     ]
    },
    {
     "name": "stderr",
     "output_type": "stream",
     "text": [
      "[I 2025-05-16 11:12:04,185] Trial 1 finished with values: [0.6971445901609212, 0.05040773415892613] and parameters: {'max_depth': 7, 'eta': 0.18655912010633616, 'subsample': 0.8796750517123387, 'colsample_bytree': 0.6251809244372376}.\n",
      "[I 2025-05-16 11:12:04,349] Trial 2 finished with values: [0.6850073368807688, 0.0547934470868456] and parameters: {'max_depth': 5, 'eta': 0.2676337605476142, 'subsample': 0.7451005197273238, 'colsample_bytree': 0.7227576462824012}.\n",
      "[I 2025-05-16 11:12:04,550] Trial 3 finished with values: [0.6971399950372664, 0.062029569839892475] and parameters: {'max_depth': 7, 'eta': 0.26409525858408806, 'subsample': 0.7064073180436078, 'colsample_bytree': 0.6513024281644169}.\n",
      "[I 2025-05-16 11:12:04,774] Trial 4 finished with values: [0.6721486491868163, 0.07107311337054494] and parameters: {'max_depth': 6, 'eta': 0.025814340308608477, 'subsample': 0.68793690466138, 'colsample_bytree': 0.7227960605129866}.\n",
      "[I 2025-05-16 11:12:04,943] Trial 5 finished with values: [0.704997656486936, 0.07659087990735326] and parameters: {'max_depth': 7, 'eta': 0.20395327565865734, 'subsample': 0.6016935748922155, 'colsample_bytree': 0.822432392899104}.\n",
      "[I 2025-05-16 11:12:05,079] Trial 6 finished with values: [0.6964323459944306, 0.052266961344515105] and parameters: {'max_depth': 7, 'eta': 0.16049266534341397, 'subsample': 0.8404476346966887, 'colsample_bytree': 0.869096227240913}.\n",
      "[I 2025-05-16 11:12:05,350] Trial 7 finished with values: [0.6550073062466111, 0.021842092681684844] and parameters: {'max_depth': 3, 'eta': 0.04573258772811098, 'subsample': 0.7203084846795194, 'colsample_bytree': 0.6676863227766867}.\n",
      "[I 2025-05-16 11:12:05,616] Trial 8 finished with values: [0.6692858871498899, 0.06868419695875878] and parameters: {'max_depth': 6, 'eta': 0.02426963598825168, 'subsample': 0.6373454626830295, 'colsample_bytree': 0.8398107248791835}.\n",
      "[I 2025-05-16 11:12:05,790] Trial 9 finished with values: [0.6928634666225535, 0.08649311913841723] and parameters: {'max_depth': 6, 'eta': 0.15218682026907449, 'subsample': 0.6577904600427482, 'colsample_bytree': 0.7475267226059217}.\n",
      "[I 2025-05-16 11:12:05,795] A new study created in memory with name: no-name-4f563e11-1054-4be1-917e-9a2d14a14d9c\n",
      "[I 2025-05-16 11:12:05,939] Trial 0 finished with values: [0.6864364203374046, 0.04195568808675221] and parameters: {'max_depth': 4, 'eta': 0.29894462506093883, 'subsample': 0.7734154525055752, 'colsample_bytree': 0.6450212014956636}.\n"
     ]
    },
    {
     "name": "stdout",
     "output_type": "stream",
     "text": [
      "Completed study for alpha=0.66\n"
     ]
    },
    {
     "name": "stderr",
     "output_type": "stream",
     "text": [
      "[I 2025-05-16 11:12:06,096] Trial 1 finished with values: [0.6778573244739349, 0.04573294690118953] and parameters: {'max_depth': 5, 'eta': 0.15517843600963155, 'subsample': 0.6812088403022971, 'colsample_bytree': 0.7295935534292579}.\n",
      "[I 2025-05-16 11:12:06,378] Trial 2 finished with values: [0.6664461007312373, 0.03282367075684822] and parameters: {'max_depth': 3, 'eta': 0.03359209621368877, 'subsample': 0.7008486451359109, 'colsample_bytree': 0.7294555573586532}.\n",
      "[I 2025-05-16 11:12:06,625] Trial 3 finished with values: [0.7042869440283305, 0.1117745895273191] and parameters: {'max_depth': 7, 'eta': 0.2722865522475174, 'subsample': 0.6251412019114964, 'colsample_bytree': 0.901415148734517}.\n",
      "[I 2025-05-16 11:12:06,927] Trial 4 finished with values: [0.6878547818388459, 0.07354478932507019] and parameters: {'max_depth': 7, 'eta': 0.09878179729793944, 'subsample': 0.8214949452507075, 'colsample_bytree': 0.7899974643365788}.\n",
      "[I 2025-05-16 11:12:07,029] Trial 5 finished with values: [0.6714486586834051, 0.05574479743527455] and parameters: {'max_depth': 3, 'eta': 0.20407769287630523, 'subsample': 0.8173120940910009, 'colsample_bytree': 0.7870618123829679}.\n",
      "[I 2025-05-16 11:12:07,149] Trial 6 finished with values: [0.6707165023144106, 0.04200507889223218] and parameters: {'max_depth': 4, 'eta': 0.08910656518003453, 'subsample': 0.9582077842692719, 'colsample_bytree': 0.6767103828688812}.\n",
      "[I 2025-05-16 11:12:07,352] Trial 7 finished with values: [0.680006310636486, 0.05024181516161732] and parameters: {'max_depth': 6, 'eta': 0.02943059759996037, 'subsample': 0.6716167147235504, 'colsample_bytree': 0.9389769702531411}.\n",
      "[I 2025-05-16 11:12:07,457] Trial 8 finished with values: [0.6821461065517274, 0.052739821760813634] and parameters: {'max_depth': 4, 'eta': 0.28523048198520623, 'subsample': 0.6628337138477339, 'colsample_bytree': 0.6076918810335714}.\n",
      "[I 2025-05-16 11:12:07,649] Trial 9 finished with values: [0.6700165118109994, 0.055657468939582844] and parameters: {'max_depth': 4, 'eta': 0.017317525904183815, 'subsample': 0.6756224299239906, 'colsample_bytree': 0.7451146596042122}.\n",
      "[I 2025-05-16 11:12:07,655] A new study created in memory with name: no-name-1d47f567-27f5-4da8-a059-8c18cfc4dbd1\n",
      "[I 2025-05-16 11:12:07,805] Trial 0 finished with values: [0.6764267093094142, 0.06379912824937953] and parameters: {'max_depth': 5, 'eta': 0.13329249114656447, 'subsample': 0.8349630379894256, 'colsample_bytree': 0.7344963706458626}.\n"
     ]
    },
    {
     "name": "stdout",
     "output_type": "stream",
     "text": [
      "Completed study for alpha=0.67\n"
     ]
    },
    {
     "name": "stderr",
     "output_type": "stream",
     "text": [
      "[I 2025-05-16 11:12:07,964] Trial 1 finished with values: [0.6885624308816816, 0.06837522968598171] and parameters: {'max_depth': 7, 'eta': 0.16508173688799835, 'subsample': 0.6679709302188274, 'colsample_bytree': 0.749229933093091}.\n",
      "[I 2025-05-16 11:12:08,073] Trial 2 finished with values: [0.7035746998618398, 0.07346916859699519] and parameters: {'max_depth': 5, 'eta': 0.29090168620405416, 'subsample': 0.9932793917574414, 'colsample_bytree': 0.9549869218276372}.\n",
      "[I 2025-05-16 11:12:08,248] Trial 3 finished with values: [0.672877742140041, 0.051457778174190956] and parameters: {'max_depth': 6, 'eta': 0.10481736680601346, 'subsample': 0.614791111870603, 'colsample_bytree': 0.7267487744485449}.\n",
      "[I 2025-05-16 11:12:08,448] Trial 4 finished with values: [0.6864241666743253, 0.05713834112983088] and parameters: {'max_depth': 6, 'eta': 0.10350737539745714, 'subsample': 0.8789354374181969, 'colsample_bytree': 0.9321083586318506}.\n",
      "[I 2025-05-16 11:12:08,602] Trial 5 finished with values: [0.6899930460462024, 0.052401881969577645] and parameters: {'max_depth': 7, 'eta': 0.10558354074423507, 'subsample': 0.7897387153238906, 'colsample_bytree': 0.7992414124158642}.\n",
      "[I 2025-05-16 11:12:08,726] Trial 6 finished with values: [0.6657216029016674, 0.026895903734436438] and parameters: {'max_depth': 4, 'eta': 0.09565725602610228, 'subsample': 0.7279878748635118, 'colsample_bytree': 0.6278133214702624}.\n",
      "[I 2025-05-16 11:12:08,882] Trial 7 finished with values: [0.6678736524799883, 0.060071902241579635] and parameters: {'max_depth': 4, 'eta': 0.09345534312996835, 'subsample': 0.6335838957714115, 'colsample_bytree': 0.7009759663629104}.\n",
      "[I 2025-05-16 11:12:09,031] Trial 8 finished with values: [0.6814399892167765, 0.06014812441957639] and parameters: {'max_depth': 5, 'eta': 0.14274321529341363, 'subsample': 0.9397253395921621, 'colsample_bytree': 0.6753038583464841}.\n",
      "[I 2025-05-16 11:12:09,169] Trial 9 finished with values: [0.6942818281239947, 0.06044633706747155] and parameters: {'max_depth': 5, 'eta': 0.1632884398892927, 'subsample': 0.7879129132345424, 'colsample_bytree': 0.9319847888998707}.\n",
      "[I 2025-05-16 11:12:09,174] A new study created in memory with name: no-name-954304f3-88d0-4aeb-9eeb-8f1c80904069\n"
     ]
    },
    {
     "name": "stdout",
     "output_type": "stream",
     "text": [
      "Completed study for alpha=0.68\n"
     ]
    },
    {
     "name": "stderr",
     "output_type": "stream",
     "text": [
      "[I 2025-05-16 11:12:09,474] Trial 0 finished with values: [0.6735716058119124, 0.03371646697161348] and parameters: {'max_depth': 4, 'eta': 0.08477958602049515, 'subsample': 0.980998508550266, 'colsample_bytree': 0.6795061441964511}.\n",
      "[I 2025-05-16 11:12:09,687] Trial 1 finished with values: [0.6814338623852368, 0.05207618054778687] and parameters: {'max_depth': 4, 'eta': 0.2780757919453345, 'subsample': 0.927942911548093, 'colsample_bytree': 0.8689421554200698}.\n",
      "[I 2025-05-16 11:12:09,829] Trial 2 finished with values: [0.6807170230950915, 0.05119733146173005] and parameters: {'max_depth': 7, 'eta': 0.16603751143173998, 'subsample': 0.7403821540251256, 'colsample_bytree': 0.6795868094167165}.\n",
      "[I 2025-05-16 11:12:09,989] Trial 3 finished with values: [0.665007827027292, 0.05626402900168145] and parameters: {'max_depth': 5, 'eta': 0.04670232961825795, 'subsample': 0.7378380102700155, 'colsample_bytree': 0.8641397791370033}.\n",
      "[I 2025-05-16 11:12:10,125] Trial 4 finished with values: [0.707849696568668, 0.08143369713277182] and parameters: {'max_depth': 6, 'eta': 0.2934279152866028, 'subsample': 0.8611289462896261, 'colsample_bytree': 0.8903967585599557}.\n",
      "[I 2025-05-16 11:12:10,277] Trial 5 finished with values: [0.6764420263882633, 0.03827539180409085] and parameters: {'max_depth': 5, 'eta': 0.11706608093259932, 'subsample': 0.841774527465043, 'colsample_bytree': 0.6919362753530406}.\n",
      "[I 2025-05-16 11:12:10,408] Trial 6 finished with values: [0.6864379520452896, 0.0613678542927815] and parameters: {'max_depth': 5, 'eta': 0.23429631153366656, 'subsample': 0.7588687003589963, 'colsample_bytree': 0.6154000533384696}.\n",
      "[I 2025-05-16 11:12:10,536] Trial 7 finished with values: [0.6850012100492292, 0.05433160431267096] and parameters: {'max_depth': 6, 'eta': 0.1279972102218999, 'subsample': 0.8674524841718216, 'colsample_bytree': 0.8892874212915974}.\n",
      "[I 2025-05-16 11:12:10,650] Trial 8 finished with values: [0.6671414961109937, 0.02201265081919551] and parameters: {'max_depth': 3, 'eta': 0.29710966135977346, 'subsample': 0.8589175055687055, 'colsample_bytree': 0.7119007881245931}.\n",
      "[I 2025-05-16 11:12:10,808] Trial 9 finished with values: [0.700704279285489, 0.06717052941031662] and parameters: {'max_depth': 7, 'eta': 0.1997976694661245, 'subsample': 0.8093146848304875, 'colsample_bytree': 0.8741282980476579}.\n",
      "[I 2025-05-16 11:12:10,813] A new study created in memory with name: no-name-5d812bac-bbd6-4146-8f54-34a8b2b09ce8\n",
      "[I 2025-05-16 11:12:10,940] Trial 0 finished with values: [0.6671522180661881, 0.018877925039524457] and parameters: {'max_depth': 4, 'eta': 0.10319170617355371, 'subsample': 0.7146279953428653, 'colsample_bytree': 0.642838223516451}.\n"
     ]
    },
    {
     "name": "stdout",
     "output_type": "stream",
     "text": [
      "Completed study for alpha=0.69\n"
     ]
    },
    {
     "name": "stderr",
     "output_type": "stream",
     "text": [
      "[I 2025-05-16 11:12:11,110] Trial 1 finished with values: [0.665732324856862, 0.03289350857465848] and parameters: {'max_depth': 3, 'eta': 0.057953735844544545, 'subsample': 0.614289872434706, 'colsample_bytree': 0.9337028211571804}.\n",
      "[I 2025-05-16 11:12:11,267] Trial 2 finished with values: [0.6750083478079728, 0.04041553226912087] and parameters: {'max_depth': 4, 'eta': 0.043216901367698714, 'subsample': 0.6106332529739088, 'colsample_bytree': 0.6421662246677491}.\n",
      "[I 2025-05-16 11:12:11,438] Trial 3 finished with values: [0.6778619195975897, 0.06651819187233847] and parameters: {'max_depth': 6, 'eta': 0.02925831601077948, 'subsample': 0.7356418924180882, 'colsample_bytree': 0.6806104686835224}.\n",
      "[I 2025-05-16 11:12:11,535] Trial 4 finished with values: [0.661432820823875, 0.044260076514565705] and parameters: {'max_depth': 3, 'eta': 0.2871130014271638, 'subsample': 0.8788870821772685, 'colsample_bytree': 0.9872726578068918}.\n",
      "[I 2025-05-16 11:12:11,632] Trial 5 finished with values: [0.6750098795158577, 0.024494635654432717] and parameters: {'max_depth': 4, 'eta': 0.14876561446502853, 'subsample': 0.7832405276333579, 'colsample_bytree': 0.6692489399103213}.\n",
      "[I 2025-05-16 11:12:11,822] Trial 6 finished with values: [0.6842904975906235, 0.08249425463695495] and parameters: {'max_depth': 7, 'eta': 0.03925127197341508, 'subsample': 0.6864615399589631, 'colsample_bytree': 0.8536374049253903}.\n",
      "[I 2025-05-16 11:12:11,941] Trial 7 finished with values: [0.6942802964161099, 0.07411350135888899] and parameters: {'max_depth': 6, 'eta': 0.14728912809330902, 'subsample': 0.9171220547375731, 'colsample_bytree': 0.9339954674314681}.\n",
      "[I 2025-05-16 11:12:12,051] Trial 8 finished with values: [0.6792741542674913, 0.06719965680512809] and parameters: {'max_depth': 6, 'eta': 0.15704913725186367, 'subsample': 0.6975735982469415, 'colsample_bytree': 0.7739312855730488}.\n",
      "[I 2025-05-16 11:12:12,180] Trial 9 finished with values: [0.6971399950372664, 0.06593640383372211] and parameters: {'max_depth': 7, 'eta': 0.24184909826992745, 'subsample': 0.621478379608638, 'colsample_bytree': 0.6517433428541899}.\n",
      "[I 2025-05-16 11:12:12,184] A new study created in memory with name: no-name-1418a889-0ba9-4a91-aad4-f3a9df319f91\n",
      "[I 2025-05-16 11:12:12,302] Trial 0 finished with values: [0.6785726320561953, 0.04624104067672386] and parameters: {'max_depth': 5, 'eta': 0.11647192082507021, 'subsample': 0.7154967478892491, 'colsample_bytree': 0.8993700814420703}.\n"
     ]
    },
    {
     "name": "stdout",
     "output_type": "stream",
     "text": [
      "Completed study for alpha=0.7\n"
     ]
    },
    {
     "name": "stderr",
     "output_type": "stream",
     "text": [
      "[I 2025-05-16 11:12:12,408] Trial 1 finished with values: [0.6850058051728839, 0.062095951650439685] and parameters: {'max_depth': 5, 'eta': 0.16744613473273537, 'subsample': 0.9524592415612094, 'colsample_bytree': 0.9260587024801732}.\n",
      "[I 2025-05-16 11:12:12,603] Trial 2 finished with values: [0.6799971203891765, 0.06316266548573342] and parameters: {'max_depth': 6, 'eta': 0.01899570239656323, 'subsample': 0.8058503571873177, 'colsample_bytree': 0.9118902585731808}.\n",
      "[I 2025-05-16 11:12:12,756] Trial 3 finished with values: [0.6849904880940346, 0.05639023619418599] and parameters: {'max_depth': 6, 'eta': 0.108075029759839, 'subsample': 0.980122596075937, 'colsample_bytree': 0.6370672964632288}.\n",
      "[I 2025-05-16 11:12:12,916] Trial 4 finished with values: [0.6928512129594742, 0.06563246113520287] and parameters: {'max_depth': 6, 'eta': 0.2052250640052948, 'subsample': 0.8859075813066459, 'colsample_bytree': 0.8810801336314558}.\n",
      "[I 2025-05-16 11:12:13,033] Trial 5 finished with values: [0.6828506921787932, 0.05493214083539639] and parameters: {'max_depth': 4, 'eta': 0.2626719280063264, 'subsample': 0.901027268707679, 'colsample_bytree': 0.7528483163387618}.\n",
      "[I 2025-05-16 11:12:13,162] Trial 6 finished with values: [0.6907160121678874, 0.06259239303191032] and parameters: {'max_depth': 6, 'eta': 0.1431942516228912, 'subsample': 0.7852700551667062, 'colsample_bytree': 0.9806405837883729}.\n",
      "[I 2025-05-16 11:12:13,272] Trial 7 finished with values: [0.6799971203891765, 0.06048821422984096] and parameters: {'max_depth': 5, 'eta': 0.17071895501815296, 'subsample': 0.9687482735563505, 'colsample_bytree': 0.6530745916542419}.\n",
      "[I 2025-05-16 11:12:13,390] Trial 8 finished with values: [0.6864241666743252, 0.06785964628171738] and parameters: {'max_depth': 5, 'eta': 0.10574467583982423, 'subsample': 0.9634022937957925, 'colsample_bytree': 0.812505720286865}.\n",
      "[I 2025-05-16 11:12:13,519] Trial 9 finished with values: [0.7142813379774716, 0.10364404459287635] and parameters: {'max_depth': 7, 'eta': 0.2840777852594874, 'subsample': 0.7074974991315505, 'colsample_bytree': 0.957740692378673}.\n",
      "[I 2025-05-16 11:12:13,524] A new study created in memory with name: no-name-c1a7b996-b2bb-446e-8723-6f2f03eceefd\n",
      "[I 2025-05-16 11:12:13,643] Trial 0 finished with values: [0.6742945719335974, 0.06564687314818006] and parameters: {'max_depth': 4, 'eta': 0.0854358573385286, 'subsample': 0.7126961835494899, 'colsample_bytree': 0.8692361424245458}.\n"
     ]
    },
    {
     "name": "stdout",
     "output_type": "stream",
     "text": [
      "Completed study for alpha=0.71\n"
     ]
    },
    {
     "name": "stderr",
     "output_type": "stream",
     "text": [
      "[I 2025-05-16 11:12:13,764] Trial 1 finished with values: [0.6692904822735445, 0.04501629193026658] and parameters: {'max_depth': 3, 'eta': 0.2508695710471433, 'subsample': 0.7016848936439675, 'colsample_bytree': 0.7979714171762788}.\n",
      "[I 2025-05-16 11:12:13,884] Trial 2 finished with values: [0.6728670201848465, 0.028736861717992557] and parameters: {'max_depth': 4, 'eta': 0.04178848607171749, 'subsample': 0.7992435710915999, 'colsample_bytree': 0.9678879214832511}.\n",
      "[I 2025-05-16 11:12:14,079] Trial 3 finished with values: [0.6914282563343779, 0.07847441536314131] and parameters: {'max_depth': 7, 'eta': 0.1850035372843643, 'subsample': 0.6062641451059491, 'colsample_bytree': 0.7540112411555024}.\n",
      "[I 2025-05-16 11:12:14,181] Trial 4 finished with values: [0.6771573339705238, 0.05111808362041886] and parameters: {'max_depth': 3, 'eta': 0.21552537895605883, 'subsample': 0.6718924313269027, 'colsample_bytree': 0.8061570524928988}.\n",
      "[I 2025-05-16 11:12:14,281] Trial 5 finished with values: [0.6764358995567238, 0.07463270308728344] and parameters: {'max_depth': 4, 'eta': 0.15081294045924457, 'subsample': 0.726123202158177, 'colsample_bytree': 0.8263234540500342}.\n",
      "[I 2025-05-16 11:12:14,397] Trial 6 finished with values: [0.6614450744869544, 0.022032448586501607] and parameters: {'max_depth': 3, 'eta': 0.09662872626103106, 'subsample': 0.9632743987081375, 'colsample_bytree': 0.6452241756933202}.\n",
      "[I 2025-05-16 11:12:14,519] Trial 7 finished with values: [0.6643001779844563, 0.026947848706211735] and parameters: {'max_depth': 3, 'eta': 0.07203803121111864, 'subsample': 0.6242322126566848, 'colsample_bytree': 0.7157547117344988}.\n",
      "[I 2025-05-16 11:12:14,622] Trial 8 finished with values: [0.6714302781887861, 0.03188250190944738] and parameters: {'max_depth': 3, 'eta': 0.262964487422162, 'subsample': 0.7697085731329323, 'colsample_bytree': 0.8318880671988391}.\n",
      "[I 2025-05-16 11:12:14,961] Trial 9 finished with values: [0.6842904975906235, 0.07019669876652816] and parameters: {'max_depth': 7, 'eta': 0.059803227298086264, 'subsample': 0.9060186037122862, 'colsample_bytree': 0.7518253143549898}.\n",
      "[I 2025-05-16 11:12:14,967] A new study created in memory with name: no-name-f6b1c32f-d6e4-46de-82f9-18529a3d7bc1\n"
     ]
    },
    {
     "name": "stdout",
     "output_type": "stream",
     "text": [
      "Completed study for alpha=0.72\n"
     ]
    },
    {
     "name": "stderr",
     "output_type": "stream",
     "text": [
      "[I 2025-05-16 11:12:15,240] Trial 0 finished with values: [0.7057099006534266, 0.10106399543663501] and parameters: {'max_depth': 6, 'eta': 0.2974939497996392, 'subsample': 0.641626568184699, 'colsample_bytree': 0.7328663091551189}.\n",
      "[I 2025-05-16 11:12:15,375] Trial 1 finished with values: [0.6750083478079728, 0.05362154798066951] and parameters: {'max_depth': 4, 'eta': 0.12668350533074946, 'subsample': 0.8486025222342026, 'colsample_bytree': 0.8071571275495226}.\n",
      "[I 2025-05-16 11:12:15,742] Trial 2 finished with values: [0.6792833445148009, 0.06436011643016583] and parameters: {'max_depth': 4, 'eta': 0.17847607563241777, 'subsample': 0.7644493941570398, 'colsample_bytree': 0.8097631347136546}.\n",
      "[I 2025-05-16 11:12:16,069] Trial 3 finished with values: [0.6928573397910137, 0.06540772071156865] and parameters: {'max_depth': 6, 'eta': 0.09967163168427604, 'subsample': 0.9955617086475373, 'colsample_bytree': 0.792562891155411}.\n",
      "[I 2025-05-16 11:12:16,277] Trial 4 finished with values: [0.668579769814939, 0.04090609606617716] and parameters: {'max_depth': 4, 'eta': 0.0522837279540956, 'subsample': 0.9067349527597429, 'colsample_bytree': 0.60096827907504}.\n",
      "[I 2025-05-16 11:12:16,429] Trial 5 finished with values: [0.6914236612107233, 0.07736050853352582] and parameters: {'max_depth': 6, 'eta': 0.27897957631264414, 'subsample': 0.7766526572636325, 'colsample_bytree': 0.8926447974551779}.\n",
      "[I 2025-05-16 11:12:16,575] Trial 6 finished with values: [0.6971369316214965, 0.07272370314385211] and parameters: {'max_depth': 7, 'eta': 0.07746010112619763, 'subsample': 0.8446396877064966, 'colsample_bytree': 0.8694769132605673}.\n",
      "[I 2025-05-16 11:12:16,739] Trial 7 finished with values: [0.6907114170442327, 0.08355694440567012] and parameters: {'max_depth': 7, 'eta': 0.07580766446046178, 'subsample': 0.7298272828284166, 'colsample_bytree': 0.950784797040817}.\n",
      "[I 2025-05-16 11:12:16,884] Trial 8 finished with values: [0.6543011889116602, 0.030754831629779673] and parameters: {'max_depth': 3, 'eta': 0.029383481619238053, 'subsample': 0.9286928229013218, 'colsample_bytree': 0.8358986530849246}.\n",
      "[I 2025-05-16 11:12:17,000] Trial 9 finished with values: [0.6942802964161099, 0.061260130341440566] and parameters: {'max_depth': 5, 'eta': 0.29994097619643784, 'subsample': 0.9245342341782066, 'colsample_bytree': 0.7091105151914063}.\n",
      "[I 2025-05-16 11:12:17,005] A new study created in memory with name: no-name-89256b22-5980-48c7-8d9f-f778add94c86\n",
      "[I 2025-05-16 11:12:17,115] Trial 0 finished with values: [0.6907206072915422, 0.07077959438500686] and parameters: {'max_depth': 5, 'eta': 0.2928319297283499, 'subsample': 0.6994610735077084, 'colsample_bytree': 0.947118947654259}.\n"
     ]
    },
    {
     "name": "stdout",
     "output_type": "stream",
     "text": [
      "Completed study for alpha=0.73\n"
     ]
    },
    {
     "name": "stderr",
     "output_type": "stream",
     "text": [
      "[I 2025-05-16 11:12:17,248] Trial 1 finished with values: [0.6714364050203256, 0.04425239782574535] and parameters: {'max_depth': 4, 'eta': 0.07062603524893024, 'subsample': 0.8625307811404099, 'colsample_bytree': 0.7332244806530611}.\n",
      "[I 2025-05-16 11:12:17,365] Trial 2 finished with values: [0.6800155008837954, 0.03675750563993174] and parameters: {'max_depth': 4, 'eta': 0.2266997211475374, 'subsample': 0.7374013159194681, 'colsample_bytree': 0.6967425018063221}.\n",
      "[I 2025-05-16 11:12:17,530] Trial 3 finished with values: [0.6721578394341258, 0.059388029035768695] and parameters: {'max_depth': 5, 'eta': 0.028317122691732914, 'subsample': 0.6219788239565355, 'colsample_bytree': 0.717360528873772}.\n",
      "[I 2025-05-16 11:12:17,632] Trial 4 finished with values: [0.666432315360273, 0.042452826757317874] and parameters: {'max_depth': 3, 'eta': 0.21914595008499546, 'subsample': 0.8186608261817903, 'colsample_bytree': 0.7499915309466957}.\n",
      "[I 2025-05-16 11:12:17,762] Trial 5 finished with values: [0.7085665358588132, 0.09216817172827611] and parameters: {'max_depth': 7, 'eta': 0.28709387254085567, 'subsample': 0.959038785638195, 'colsample_bytree': 0.6449422202080467}.\n",
      "[I 2025-05-16 11:12:17,865] Trial 6 finished with values: [0.6721532443104711, 0.044516183621121995] and parameters: {'max_depth': 3, 'eta': 0.19166590722629442, 'subsample': 0.6771779441910095, 'colsample_bytree': 0.7020771929836919}.\n",
      "[I 2025-05-16 11:12:17,998] Trial 7 finished with values: [0.686447142292599, 0.058702446625524124] and parameters: {'max_depth': 4, 'eta': 0.24017277766529352, 'subsample': 0.6001390926069622, 'colsample_bytree': 0.6903531029821374}.\n",
      "[I 2025-05-16 11:12:18,170] Trial 8 finished with values: [0.7057083689455417, 0.0771224230452766] and parameters: {'max_depth': 6, 'eta': 0.2733781865034346, 'subsample': 0.9205159555994705, 'colsample_bytree': 0.9244136464851033}.\n",
      "[I 2025-05-16 11:12:18,333] Trial 9 finished with values: [0.6907129487521176, 0.07853347662247069] and parameters: {'max_depth': 7, 'eta': 0.15107045763010482, 'subsample': 0.8902727966578343, 'colsample_bytree': 0.7194843666119829}.\n",
      "[I 2025-05-16 11:12:18,338] A new study created in memory with name: no-name-32ffda2d-7b9b-4a4c-9213-2a8f9807308e\n",
      "[I 2025-05-16 11:12:18,454] Trial 0 finished with values: [0.6864165081349004, 0.08097323353656591] and parameters: {'max_depth': 5, 'eta': 0.2811268370239219, 'subsample': 0.8548571661821363, 'colsample_bytree': 0.8184799958622835}.\n"
     ]
    },
    {
     "name": "stdout",
     "output_type": "stream",
     "text": [
      "Completed study for alpha=0.74\n"
     ]
    },
    {
     "name": "stderr",
     "output_type": "stream",
     "text": [
      "[I 2025-05-16 11:12:18,594] Trial 1 finished with values: [0.6971338682057268, 0.05231524768052881] and parameters: {'max_depth': 7, 'eta': 0.11922245721765715, 'subsample': 0.6937921782151331, 'colsample_bytree': 0.9347328623550739}.\n",
      "[I 2025-05-16 11:12:18,705] Trial 2 finished with values: [0.6857149859236046, 0.07675635768785309] and parameters: {'max_depth': 5, 'eta': 0.2637788993235117, 'subsample': 0.6006628118745795, 'colsample_bytree': 0.8573044803981615}.\n",
      "[I 2025-05-16 11:12:18,862] Trial 3 finished with values: [0.7014303088229438, 0.08220766128369893] and parameters: {'max_depth': 7, 'eta': 0.24736670475785677, 'subsample': 0.6978844659269163, 'colsample_bytree': 0.6911346903029413}.\n",
      "[I 2025-05-16 11:12:19,080] Trial 4 finished with values: [0.6678690573563335, 0.03680112992172919] and parameters: {'max_depth': 4, 'eta': 0.034967661728284014, 'subsample': 0.6314494889577218, 'colsample_bytree': 0.7106517628680243}.\n",
      "[I 2025-05-16 11:12:19,197] Trial 5 finished with values: [0.6728608933533068, 0.039474727269692374] and parameters: {'max_depth': 3, 'eta': 0.24007718456036362, 'subsample': 0.7729545748680133, 'colsample_bytree': 0.8058233320967454}.\n",
      "[I 2025-05-16 11:12:19,424] Trial 6 finished with values: [0.6614435427790696, 0.04185547961033497] and parameters: {'max_depth': 3, 'eta': 0.01954817688932095, 'subsample': 0.9439267328431903, 'colsample_bytree': 0.8859476242790092}.\n",
      "[I 2025-05-16 11:12:19,809] Trial 7 finished with values: [0.6857088590920649, 0.05868848733868367] and parameters: {'max_depth': 5, 'eta': 0.25404465487813244, 'subsample': 0.7042430014188271, 'colsample_bytree': 0.7064170800467233}.\n",
      "[I 2025-05-16 11:12:20,111] Trial 8 finished with values: [0.69572316524371, 0.06476367583269517] and parameters: {'max_depth': 7, 'eta': 0.15677949236783326, 'subsample': 0.7293801544742128, 'colsample_bytree': 0.7284475066655824}.\n",
      "[I 2025-05-16 11:12:20,274] Trial 9 finished with values: [0.690000704585627, 0.06972841672875561] and parameters: {'max_depth': 6, 'eta': 0.2344615826306492, 'subsample': 0.8541407533374884, 'colsample_bytree': 0.6184486810896194}.\n",
      "[I 2025-05-16 11:12:20,278] A new study created in memory with name: no-name-74671211-4c01-4e69-b69d-fb23179f79b9\n",
      "[I 2025-05-16 11:12:20,401] Trial 0 finished with values: [0.683578253424133, 0.08464201290650329] and parameters: {'max_depth': 5, 'eta': 0.21021929392942043, 'subsample': 0.6177075611248081, 'colsample_bytree': 0.7812820927846078}.\n"
     ]
    },
    {
     "name": "stdout",
     "output_type": "stream",
     "text": [
      "Completed study for alpha=0.75\n"
     ]
    },
    {
     "name": "stderr",
     "output_type": "stream",
     "text": [
      "[I 2025-05-16 11:12:20,501] Trial 1 finished with values: [0.6664338470681579, 0.030096243461406057] and parameters: {'max_depth': 3, 'eta': 0.207474572253741, 'subsample': 0.9402326925834039, 'colsample_bytree': 0.8955637894011512}.\n",
      "[I 2025-05-16 11:12:20,678] Trial 2 finished with values: [0.7121384786464603, 0.10584425419542114] and parameters: {'max_depth': 7, 'eta': 0.27905938054890767, 'subsample': 0.6823367036602086, 'colsample_bytree': 0.904338060794518}.\n",
      "[I 2025-05-16 11:12:20,818] Trial 3 finished with values: [0.6771573339705238, 0.051677200584166104] and parameters: {'max_depth': 4, 'eta': 0.13806202290231362, 'subsample': 0.6446472142850876, 'colsample_bytree': 0.975287857753731}.\n",
      "[I 2025-05-16 11:12:20,955] Trial 4 finished with values: [0.6735823277671068, 0.03380747207249372] and parameters: {'max_depth': 4, 'eta': 0.09693261082740869, 'subsample': 0.762733325865668, 'colsample_bytree': 0.6819923785437848}.\n",
      "[I 2025-05-16 11:12:21,115] Trial 5 finished with values: [0.6971461218688062, 0.09850195441561065] and parameters: {'max_depth': 7, 'eta': 0.21076409715924982, 'subsample': 0.7170154583199876, 'colsample_bytree': 0.9122816738923936}.\n",
      "[I 2025-05-16 11:12:21,246] Trial 6 finished with values: [0.704999188194821, 0.06491851049525584] and parameters: {'max_depth': 6, 'eta': 0.18060906317137473, 'subsample': 0.8962500904179965, 'colsample_bytree': 0.9304358691160856}.\n",
      "[I 2025-05-16 11:12:21,350] Trial 7 finished with values: [0.663581806986426, 0.03671389371588699] and parameters: {'max_depth': 3, 'eta': 0.12184210318529005, 'subsample': 0.6922961590079341, 'colsample_bytree': 0.9913024591386888}.\n",
      "[I 2025-05-16 11:12:21,650] Trial 8 finished with values: [0.6921359053772136, 0.09358198091725528] and parameters: {'max_depth': 7, 'eta': 0.05584617524793381, 'subsample': 0.9918452779552774, 'colsample_bytree': 0.8300667203739398}.\n",
      "[I 2025-05-16 11:12:21,781] Trial 9 finished with values: [0.6614404793632996, 0.0370604522161836] and parameters: {'max_depth': 3, 'eta': 0.0858160823440976, 'subsample': 0.6263925089995648, 'colsample_bytree': 0.8055919457651878}.\n",
      "[I 2025-05-16 11:12:21,786] A new study created in memory with name: no-name-02da74cb-18c3-4a57-a31b-3fc592028a3f\n",
      "[I 2025-05-16 11:12:21,937] Trial 0 finished with values: [0.6850058051728839, 0.04203271658016933] and parameters: {'max_depth': 5, 'eta': 0.14544423868572656, 'subsample': 0.7736567633558004, 'colsample_bytree': 0.6351425073561413}.\n"
     ]
    },
    {
     "name": "stdout",
     "output_type": "stream",
     "text": [
      "Completed study for alpha=0.76\n"
     ]
    },
    {
     "name": "stderr",
     "output_type": "stream",
     "text": [
      "[I 2025-05-16 11:12:22,118] Trial 1 finished with values: [0.6757190602665784, 0.05976126893415801] and parameters: {'max_depth': 5, 'eta': 0.045593699384160295, 'subsample': 0.9311931538261944, 'colsample_bytree': 0.687348559983785}.\n",
      "[I 2025-05-16 11:12:22,250] Trial 2 finished with values: [0.6635848704021959, 0.04548007794589363] and parameters: {'max_depth': 3, 'eta': 0.12141783981211157, 'subsample': 0.8194904705564615, 'colsample_bytree': 0.789611611852318}.\n",
      "[I 2025-05-16 11:12:22,374] Trial 3 finished with values: [0.7064267399435719, 0.0650385994189444] and parameters: {'max_depth': 6, 'eta': 0.20217685102380126, 'subsample': 0.7848366007648779, 'colsample_bytree': 0.9882162694206909}.\n",
      "[I 2025-05-16 11:12:22,520] Trial 4 finished with values: [0.6600159910303186, 0.022226150485895213] and parameters: {'max_depth': 3, 'eta': 0.0512737881561023, 'subsample': 0.9486128004769993, 'colsample_bytree': 0.9272960231823596}.\n",
      "[I 2025-05-16 11:12:22,675] Trial 5 finished with values: [0.6821491699674972, 0.045737162277195466] and parameters: {'max_depth': 4, 'eta': 0.1953767492850893, 'subsample': 0.749098250077663, 'colsample_bytree': 0.9789142929713339}.\n",
      "[I 2025-05-16 11:12:22,884] Trial 6 finished with values: [0.6792787493911462, 0.057460525451071665] and parameters: {'max_depth': 6, 'eta': 0.024953095362727558, 'subsample': 0.6574283286499795, 'colsample_bytree': 0.9626013931183434}.\n",
      "[I 2025-05-16 11:12:23,004] Trial 7 finished with values: [0.7021364261578946, 0.08577982380375775] and parameters: {'max_depth': 7, 'eta': 0.29732403636963795, 'subsample': 0.7151166120826014, 'colsample_bytree': 0.6944648107067333}.\n",
      "[I 2025-05-16 11:12:23,130] Trial 8 finished with values: [0.7000073521978477, 0.08819269267179634] and parameters: {'max_depth': 7, 'eta': 0.29112137749592826, 'subsample': 0.608169783648544, 'colsample_bytree': 0.729246293569713}.\n",
      "[I 2025-05-16 11:12:23,267] Trial 9 finished with values: [0.6778619195975897, 0.06292903249593386] and parameters: {'max_depth': 6, 'eta': 0.05975649291571507, 'subsample': 0.7700652475518407, 'colsample_bytree': 0.6494384622773172}.\n",
      "[I 2025-05-16 11:12:23,271] A new study created in memory with name: no-name-314f35e0-0baf-4bef-bfd9-ae79c23375c8\n",
      "[I 2025-05-16 11:12:23,399] Trial 0 finished with values: [0.6942848915397647, 0.07156255091778162] and parameters: {'max_depth': 5, 'eta': 0.19052476936145207, 'subsample': 0.7865264415983232, 'colsample_bytree': 0.9358104661504227}.\n"
     ]
    },
    {
     "name": "stdout",
     "output_type": "stream",
     "text": [
      "Completed study for alpha=0.77\n"
     ]
    },
    {
     "name": "stderr",
     "output_type": "stream",
     "text": [
      "[I 2025-05-16 11:12:23,514] Trial 1 finished with values: [0.6721471174789313, 0.0445125340787281] and parameters: {'max_depth': 4, 'eta': 0.12158484650805469, 'subsample': 0.9809133454523662, 'colsample_bytree': 0.8168162538487913}.\n",
      "[I 2025-05-16 11:12:23,646] Trial 2 finished with values: [0.6985614199544776, 0.06534536040136714] and parameters: {'max_depth': 6, 'eta': 0.19383992347995904, 'subsample': 0.8798279756889886, 'colsample_bytree': 0.9317983887189657}.\n",
      "[I 2025-05-16 11:12:23,789] Trial 3 finished with values: [0.6992859177840476, 0.0860051165489296] and parameters: {'max_depth': 6, 'eta': 0.253608199048156, 'subsample': 0.610737694646163, 'colsample_bytree': 0.8210271425294876}.\n",
      "[I 2025-05-16 11:12:23,948] Trial 4 finished with values: [0.6950032625377949, 0.06075268988613495] and parameters: {'max_depth': 7, 'eta': 0.09709399344123934, 'subsample': 0.9423987799944392, 'colsample_bytree': 0.7835971481766353}.\n",
      "[I 2025-05-16 11:12:24,086] Trial 5 finished with values: [0.6964246874550061, 0.06524368097662099] and parameters: {'max_depth': 7, 'eta': 0.18805341191494637, 'subsample': 0.9872526877959861, 'colsample_bytree': 0.6074373512603671}.\n",
      "[I 2025-05-16 11:12:24,237] Trial 6 finished with values: [0.7078542916923228, 0.07705032716847343] and parameters: {'max_depth': 6, 'eta': 0.260141792034857, 'subsample': 0.9318484907087742, 'colsample_bytree': 0.8198061342300427}.\n",
      "[I 2025-05-16 11:12:24,366] Trial 7 finished with values: [0.67072875597749, 0.03252305931085294] and parameters: {'max_depth': 3, 'eta': 0.22150010848445223, 'subsample': 0.9362048708066479, 'colsample_bytree': 0.7426986149632738}.\n",
      "[I 2025-05-16 11:12:24,506] Trial 8 finished with values: [0.6885654942974515, 0.060993810260678544] and parameters: {'max_depth': 5, 'eta': 0.26431241473249384, 'subsample': 0.7282214854440948, 'colsample_bytree': 0.6153117765316459}.\n",
      "[I 2025-05-16 11:12:24,674] Trial 9 finished with values: [0.6800017155128311, 0.06446742795466458] and parameters: {'max_depth': 6, 'eta': 0.04335608616583024, 'subsample': 0.9295119377872966, 'colsample_bytree': 0.8014393396640994}.\n",
      "[I 2025-05-16 11:12:24,678] A new study created in memory with name: no-name-5838009f-2091-428c-b816-be70c52fa063\n",
      "[I 2025-05-16 11:12:24,802] Trial 0 finished with values: [0.6942879549555346, 0.07356355233630177] and parameters: {'max_depth': 4, 'eta': 0.2896683029305575, 'subsample': 0.6791734614003925, 'colsample_bytree': 0.6400827084962818}.\n"
     ]
    },
    {
     "name": "stdout",
     "output_type": "stream",
     "text": [
      "Completed study for alpha=0.78\n"
     ]
    },
    {
     "name": "stderr",
     "output_type": "stream",
     "text": [
      "[I 2025-05-16 11:12:24,913] Trial 1 finished with values: [0.7028517337401549, 0.08700125484841133] and parameters: {'max_depth': 5, 'eta': 0.2576481157888753, 'subsample': 0.8056534887645765, 'colsample_bytree': 0.731693774344111}.\n",
      "[I 2025-05-16 11:12:25,114] Trial 2 finished with values: [0.6800017155128311, 0.07475457659918351] and parameters: {'max_depth': 6, 'eta': 0.029687602845566236, 'subsample': 0.9976403109291083, 'colsample_bytree': 0.6645177280031879}.\n",
      "[I 2025-05-16 11:12:25,259] Trial 3 finished with values: [0.6857149859236046, 0.04990675850275899] and parameters: {'max_depth': 6, 'eta': 0.14113592572672554, 'subsample': 0.7702594494220013, 'colsample_bytree': 0.719525986222911}.\n",
      "[I 2025-05-16 11:12:25,434] Trial 4 finished with values: [0.6742930402257125, 0.06842497103530391] and parameters: {'max_depth': 6, 'eta': 0.03610460481043911, 'subsample': 0.6675476946193643, 'colsample_bytree': 0.7120558861771902}.\n",
      "[I 2025-05-16 11:12:25,535] Trial 5 finished with values: [0.6693027359366241, 0.03276288034454502] and parameters: {'max_depth': 3, 'eta': 0.1439260104227618, 'subsample': 0.6347182309236068, 'colsample_bytree': 0.627937163824659}.\n",
      "[I 2025-05-16 11:12:25,641] Trial 6 finished with values: [0.6856981371368702, 0.05693890799383158] and parameters: {'max_depth': 6, 'eta': 0.11581904008788849, 'subsample': 0.9677291601985257, 'colsample_bytree': 0.9756230936479855}.\n",
      "[I 2025-05-16 11:12:25,743] Trial 7 finished with values: [0.6657261980253223, 0.047395931509530566] and parameters: {'max_depth': 3, 'eta': 0.26708421159636453, 'subsample': 0.9602452273410593, 'colsample_bytree': 0.6838087189365383}.\n",
      "[I 2025-05-16 11:12:25,842] Trial 8 finished with values: [0.6899991728777423, 0.056841658630053686] and parameters: {'max_depth': 5, 'eta': 0.2318387280494957, 'subsample': 0.6588980058113495, 'colsample_bytree': 0.8589237029836185}.\n",
      "[I 2025-05-16 11:12:25,941] Trial 9 finished with values: [0.6821614236305765, 0.04422760311284052] and parameters: {'max_depth': 4, 'eta': 0.2779981560515011, 'subsample': 0.6897243580733267, 'colsample_bytree': 0.6789036797865013}.\n",
      "[I 2025-05-16 11:12:25,945] A new study created in memory with name: no-name-2de89a3d-2024-48fa-a8f0-600316557d2d\n",
      "[I 2025-05-16 11:12:26,094] Trial 0 finished with values: [0.6900007045856271, 0.06801726315198628] and parameters: {'max_depth': 5, 'eta': 0.11013631864104753, 'subsample': 0.9956989922282097, 'colsample_bytree': 0.9239840318971286}.\n"
     ]
    },
    {
     "name": "stdout",
     "output_type": "stream",
     "text": [
      "Completed study for alpha=0.79\n"
     ]
    },
    {
     "name": "stderr",
     "output_type": "stream",
     "text": [
      "[I 2025-05-16 11:12:26,361] Trial 1 finished with values: [0.668579769814939, 0.046102226847054666] and parameters: {'max_depth': 4, 'eta': 0.0489197011033057, 'subsample': 0.8178421747933116, 'colsample_bytree': 0.6866407351676412}.\n",
      "[I 2025-05-16 11:12:26,485] Trial 2 finished with values: [0.7000058204899627, 0.07441515150744293] and parameters: {'max_depth': 6, 'eta': 0.27605328310807764, 'subsample': 0.6144909706152961, 'colsample_bytree': 0.7656861585621642}.\n",
      "[I 2025-05-16 11:12:26,595] Trial 3 finished with values: [0.6735807960592219, 0.05828042756828331] and parameters: {'max_depth': 4, 'eta': 0.07610590503237712, 'subsample': 0.9933520466698288, 'colsample_bytree': 0.7985470117403366}.\n",
      "[I 2025-05-16 11:12:26,728] Trial 4 finished with values: [0.6878639720861556, 0.06010710433320393] and parameters: {'max_depth': 6, 'eta': 0.12829338090167272, 'subsample': 0.9392018864990845, 'colsample_bytree': 0.6480849263884394}.\n",
      "[I 2025-05-16 11:12:26,870] Trial 5 finished with values: [0.684278243927544, 0.06457754543994675] and parameters: {'max_depth': 6, 'eta': 0.0703801441478221, 'subsample': 0.9423692602274925, 'colsample_bytree': 0.8016276140469872}.\n",
      "[I 2025-05-16 11:12:26,998] Trial 6 finished with values: [0.6735838594749918, 0.053600936654076364] and parameters: {'max_depth': 4, 'eta': 0.1399299873906539, 'subsample': 0.6256907251867415, 'colsample_bytree': 0.69840254261264}.\n",
      "[I 2025-05-16 11:12:27,095] Trial 7 finished with values: [0.6700134483952297, 0.03558577242789048] and parameters: {'max_depth': 3, 'eta': 0.15396329628913127, 'subsample': 0.7185660152522522, 'colsample_bytree': 0.6517102340456322}.\n",
      "[I 2025-05-16 11:12:27,209] Trial 8 finished with values: [0.6671506863583033, 0.027179718506599698] and parameters: {'max_depth': 3, 'eta': 0.12712588088627363, 'subsample': 0.6571951294104222, 'colsample_bytree': 0.9174727195681696}.\n",
      "[I 2025-05-16 11:12:27,321] Trial 9 finished with values: [0.6721501808947012, 0.03302169587556417] and parameters: {'max_depth': 3, 'eta': 0.25983732928909453, 'subsample': 0.8763023433172179, 'colsample_bytree': 0.9225829516442078}.\n",
      "[I 2025-05-16 11:12:27,328] A new study created in memory with name: no-name-fd828307-2d46-4fed-b0cd-4cc5b59fcfa3\n",
      "[I 2025-05-16 11:12:27,518] Trial 0 finished with values: [0.680003247220716, 0.07123717062573587] and parameters: {'max_depth': 6, 'eta': 0.026724122676399717, 'subsample': 0.6352262647056166, 'colsample_bytree': 0.6849876937892079}.\n"
     ]
    },
    {
     "name": "stdout",
     "output_type": "stream",
     "text": [
      "Completed study for alpha=0.8\n"
     ]
    },
    {
     "name": "stderr",
     "output_type": "stream",
     "text": [
      "[I 2025-05-16 11:12:27,645] Trial 1 finished with values: [0.6964216240392362, 0.07549272558225882] and parameters: {'max_depth': 7, 'eta': 0.1593904354386721, 'subsample': 0.8666833192354371, 'colsample_bytree': 0.8363352225026776}.\n",
      "[I 2025-05-16 11:12:27,776] Trial 2 finished with values: [0.6757144651429238, 0.06608342115508231] and parameters: {'max_depth': 6, 'eta': 0.12461691937418135, 'subsample': 0.6291717976912403, 'colsample_bytree': 0.8820181736580422}.\n",
      "[I 2025-05-16 11:12:28,055] Trial 3 finished with values: [0.6857103907999497, 0.07777032614891442] and parameters: {'max_depth': 6, 'eta': 0.011053330684825564, 'subsample': 0.9166794097403811, 'colsample_bytree': 0.7561420922174907}.\n",
      "[I 2025-05-16 11:12:28,173] Trial 4 finished with values: [0.6899961094619722, 0.08023566369123274] and parameters: {'max_depth': 5, 'eta': 0.19136923087330315, 'subsample': 0.896849786270159, 'colsample_bytree': 0.9872922791412313}.\n",
      "[I 2025-05-16 11:12:28,364] Trial 5 finished with values: [0.6907175438757723, 0.08011238617556919] and parameters: {'max_depth': 5, 'eta': 0.27787592876900996, 'subsample': 0.9307233143051914, 'colsample_bytree': 0.7132205712889262}.\n",
      "[I 2025-05-16 11:12:28,499] Trial 6 finished with values: [0.6678705890642184, 0.028531228046573986] and parameters: {'max_depth': 3, 'eta': 0.11965698334447561, 'subsample': 0.6283992599974418, 'colsample_bytree': 0.6553826956681987}.\n",
      "[I 2025-05-16 11:12:28,613] Trial 7 finished with values: [0.6921435639166383, 0.06024149942394893] and parameters: {'max_depth': 5, 'eta': 0.20440923324590515, 'subsample': 0.9627444480275931, 'colsample_bytree': 0.9845776269185699}.\n",
      "[I 2025-05-16 11:12:28,766] Trial 8 finished with values: [0.6742838499784028, 0.04327882535169575] and parameters: {'max_depth': 5, 'eta': 0.04982846798317195, 'subsample': 0.952842834399463, 'colsample_bytree': 0.6217829921005743}.\n",
      "[I 2025-05-16 11:12:28,892] Trial 9 finished with values: [0.6842904975906235, 0.07302363025498883] and parameters: {'max_depth': 6, 'eta': 0.12472585719690085, 'subsample': 0.6993643438471607, 'colsample_bytree': 0.7470456646519242}.\n",
      "[I 2025-05-16 11:12:28,896] A new study created in memory with name: no-name-11c11e61-c83e-402c-b81d-f9b183fd62e1\n",
      "[I 2025-05-16 11:12:29,058] Trial 0 finished with values: [0.6778603878897048, 0.07079427895480472] and parameters: {'max_depth': 7, 'eta': 0.04774093623356937, 'subsample': 0.6483413639220339, 'colsample_bytree': 0.7622560838962363}.\n"
     ]
    },
    {
     "name": "stdout",
     "output_type": "stream",
     "text": [
      "Completed study for alpha=0.81\n"
     ]
    },
    {
     "name": "stderr",
     "output_type": "stream",
     "text": [
      "[I 2025-05-16 11:12:29,235] Trial 1 finished with values: [0.6850012100492292, 0.08468663336288862] and parameters: {'max_depth': 6, 'eta': 0.027978463401244213, 'subsample': 0.9678829960049457, 'colsample_bytree': 0.6519669065018023}.\n",
      "[I 2025-05-16 11:12:29,323] Trial 2 finished with values: [0.667156813189843, 0.04019238512427089] and parameters: {'max_depth': 3, 'eta': 0.16194237067696038, 'subsample': 0.9897080838794652, 'colsample_bytree': 0.6529811168243592}.\n",
      "[I 2025-05-16 11:12:29,463] Trial 3 finished with values: [0.6642955828608015, 0.032793234933168415] and parameters: {'max_depth': 3, 'eta': 0.06475154600880469, 'subsample': 0.6735788925744739, 'colsample_bytree': 0.6482665424015591}.\n",
      "[I 2025-05-16 11:12:29,565] Trial 4 finished with values: [0.6742930402257125, 0.04539269277666211] and parameters: {'max_depth': 4, 'eta': 0.10101195391111036, 'subsample': 0.838865487618686, 'colsample_bytree': 0.8720689319430868}.\n",
      "[I 2025-05-16 11:12:29,686] Trial 5 finished with values: [0.6628756896514753, 0.03902576169805278] and parameters: {'max_depth': 3, 'eta': 0.03935124675901627, 'subsample': 0.8283972500339873, 'colsample_bytree': 0.768920153109137}.\n",
      "[I 2025-05-16 11:12:29,843] Trial 6 finished with values: [0.666432315360273, 0.05170487599282798] and parameters: {'max_depth': 5, 'eta': 0.03881480151549485, 'subsample': 0.7233020700885654, 'colsample_bytree': 0.6653464631342222}.\n",
      "[I 2025-05-16 11:12:29,926] Trial 7 finished with values: [0.6592945566165186, 0.03894070455314711] and parameters: {'max_depth': 3, 'eta': 0.11511307606802704, 'subsample': 0.9834677227506137, 'colsample_bytree': 0.6394276247610586}.\n",
      "[I 2025-05-16 11:12:30,030] Trial 8 finished with values: [0.6550119013702659, 0.04103510402234192] and parameters: {'max_depth': 3, 'eta': 0.07487238352054493, 'subsample': 0.9282688929733813, 'colsample_bytree': 0.8511738984982399}.\n",
      "[I 2025-05-16 11:12:30,152] Trial 9 finished with values: [0.6921450956245233, 0.07057470413675755] and parameters: {'max_depth': 7, 'eta': 0.16220545627456973, 'subsample': 0.8644582103680313, 'colsample_bytree': 0.6583346418035587}.\n",
      "[I 2025-05-16 11:12:30,157] A new study created in memory with name: no-name-f2f68581-2742-497a-b885-ce5b662244d1\n"
     ]
    },
    {
     "name": "stdout",
     "output_type": "stream",
     "text": [
      "Completed study for alpha=0.82\n"
     ]
    },
    {
     "name": "stderr",
     "output_type": "stream",
     "text": [
      "[I 2025-05-16 11:12:30,469] Trial 0 finished with values: [0.6878578452546158, 0.08471768419256147] and parameters: {'max_depth': 7, 'eta': 0.01481309316615407, 'subsample': 0.9157307765798802, 'colsample_bytree': 0.6671535253623692}.\n",
      "[I 2025-05-16 11:12:30,580] Trial 1 finished with values: [0.6750114112237426, 0.04600391131868204] and parameters: {'max_depth': 3, 'eta': 0.20235395458898972, 'subsample': 0.6573598321111859, 'colsample_bytree': 0.8737861192014562}.\n",
      "[I 2025-05-16 11:12:30,692] Trial 2 finished with values: [0.663581806986426, 0.027613766986339845] and parameters: {'max_depth': 3, 'eta': 0.07480285806523071, 'subsample': 0.6240500561479404, 'colsample_bytree': 0.7272059679586073}.\n",
      "[I 2025-05-16 11:12:30,793] Trial 3 finished with values: [0.6714501903912901, 0.0443585418024321] and parameters: {'max_depth': 3, 'eta': 0.1505598738027952, 'subsample': 0.8258630737297619, 'colsample_bytree': 0.6913853811212832}.\n",
      "[I 2025-05-16 11:12:30,922] Trial 4 finished with values: [0.6664277202366181, 0.056431672139746425] and parameters: {'max_depth': 4, 'eta': 0.08061117358749519, 'subsample': 0.7592389524447606, 'colsample_bytree': 0.7686492615098333}.\n",
      "[I 2025-05-16 11:12:31,045] Trial 5 finished with values: [0.6721593711420107, 0.058093560972747614] and parameters: {'max_depth': 4, 'eta': 0.04552975372761985, 'subsample': 0.7988423181209626, 'colsample_bytree': 0.7319749769301709}.\n",
      "[I 2025-05-16 11:12:31,201] Trial 6 finished with values: [0.6835705948847085, 0.0503038716567509] and parameters: {'max_depth': 7, 'eta': 0.0701007431145171, 'subsample': 0.8032642946793918, 'colsample_bytree': 0.9165721076825802}.\n",
      "[I 2025-05-16 11:12:31,337] Trial 7 finished with values: [0.6771496754310992, 0.06565847393621496] and parameters: {'max_depth': 4, 'eta': 0.14173356067515863, 'subsample': 0.6866512756104819, 'colsample_bytree': 0.8671548230233297}.\n",
      "[I 2025-05-16 11:12:31,496] Trial 8 finished with values: [0.6835675314689386, 0.05909240762371109] and parameters: {'max_depth': 6, 'eta': 0.0565422589511425, 'subsample': 0.8057590713895637, 'colsample_bytree': 0.985813010379822}.\n",
      "[I 2025-05-16 11:12:31,596] Trial 9 finished with values: [0.6635909972337356, 0.04018669983564475] and parameters: {'max_depth': 3, 'eta': 0.1319329245103878, 'subsample': 0.8866059043255368, 'colsample_bytree': 0.8017924415912656}.\n",
      "[I 2025-05-16 11:12:31,601] A new study created in memory with name: no-name-6233e515-5fef-44e3-b9a0-4b311f100424\n",
      "[I 2025-05-16 11:12:31,712] Trial 0 finished with values: [0.692151222456063, 0.06503478739410078] and parameters: {'max_depth': 5, 'eta': 0.16982524334301227, 'subsample': 0.8703787478487865, 'colsample_bytree': 0.6433412574156999}.\n"
     ]
    },
    {
     "name": "stdout",
     "output_type": "stream",
     "text": [
      "Completed study for alpha=0.83\n"
     ]
    },
    {
     "name": "stderr",
     "output_type": "stream",
     "text": [
      "[I 2025-05-16 11:12:31,815] Trial 1 finished with values: [0.6821522333832669, 0.03907681807130572] and parameters: {'max_depth': 4, 'eta': 0.21486655512593475, 'subsample': 0.6430795157588445, 'colsample_bytree': 0.6031479701589292}.\n",
      "[I 2025-05-16 11:12:31,939] Trial 2 finished with values: [0.7107124586055944, 0.09776646882774943] and parameters: {'max_depth': 7, 'eta': 0.24130924015376728, 'subsample': 0.85574485142044, 'colsample_bytree': 0.8124990613738309}.\n",
      "[I 2025-05-16 11:12:32,040] Trial 3 finished with values: [0.6728670201848465, 0.03465942199007055] and parameters: {'max_depth': 3, 'eta': 0.2411716043383781, 'subsample': 0.8085239474322963, 'colsample_bytree': 0.8624800399833223}.\n",
      "[I 2025-05-16 11:12:32,145] Trial 4 finished with values: [0.6671537497740733, 0.04938696150198137] and parameters: {'max_depth': 3, 'eta': 0.14366973607323974, 'subsample': 0.7085905348921409, 'colsample_bytree': 0.744351183792712}.\n",
      "[I 2025-05-16 11:12:32,311] Trial 5 finished with values: [0.7042915391519852, 0.11201413302199763] and parameters: {'max_depth': 7, 'eta': 0.25389404618911704, 'subsample': 0.7374592115202463, 'colsample_bytree': 0.7761802122684818}.\n",
      "[I 2025-05-16 11:12:32,471] Trial 6 finished with values: [0.6942818281239947, 0.09504086422576967] and parameters: {'max_depth': 6, 'eta': 0.2226627126960431, 'subsample': 0.7026591784185965, 'colsample_bytree': 0.7883230367549204}.\n",
      "[I 2025-05-16 11:12:32,611] Trial 7 finished with values: [0.6864348886295196, 0.0706110165584908] and parameters: {'max_depth': 6, 'eta': 0.11790273956881114, 'subsample': 0.7181080907635693, 'colsample_bytree': 0.7303930455192839}.\n",
      "[I 2025-05-16 11:12:32,725] Trial 8 finished with values: [0.6778665147212445, 0.03021024513090831] and parameters: {'max_depth': 4, 'eta': 0.14913042489519876, 'subsample': 0.8427074915055012, 'colsample_bytree': 0.8870219691150645}.\n",
      "[I 2025-05-16 11:12:32,854] Trial 9 finished with values: [0.6949986674141401, 0.08582418988470704] and parameters: {'max_depth': 5, 'eta': 0.2500002674713044, 'subsample': 0.6519711716112658, 'colsample_bytree': 0.9736534686683738}.\n",
      "[I 2025-05-16 11:12:32,859] A new study created in memory with name: no-name-068e4d54-d277-4978-b316-48d67b13c018\n",
      "[I 2025-05-16 11:12:32,998] Trial 0 finished with values: [0.7099910241917944, 0.09056529016427535] and parameters: {'max_depth': 7, 'eta': 0.22300878089291049, 'subsample': 0.7357342192158258, 'colsample_bytree': 0.745032035421022}.\n"
     ]
    },
    {
     "name": "stdout",
     "output_type": "stream",
     "text": [
      "Completed study for alpha=0.84\n"
     ]
    },
    {
     "name": "stderr",
     "output_type": "stream",
     "text": [
      "[I 2025-05-16 11:12:33,188] Trial 1 finished with values: [0.7028517337401549, 0.06613648666630745] and parameters: {'max_depth': 7, 'eta': 0.17071563091951852, 'subsample': 0.9397350274203243, 'colsample_bytree': 0.9339331620757352}.\n",
      "[I 2025-05-16 11:12:33,310] Trial 2 finished with values: [0.7000180741530423, 0.09991565569958864] and parameters: {'max_depth': 6, 'eta': 0.22998264920171704, 'subsample': 0.7184718273729597, 'colsample_bytree': 0.9405186329051773}.\n",
      "[I 2025-05-16 11:12:33,400] Trial 3 finished with values: [0.6642986462765713, 0.0365531340789964] and parameters: {'max_depth': 3, 'eta': 0.15143757632178928, 'subsample': 0.8742255097146658, 'colsample_bytree': 0.7258306342243392}.\n",
      "[I 2025-05-16 11:12:33,515] Trial 4 finished with values: [0.6678613988169088, 0.0537575002670175] and parameters: {'max_depth': 3, 'eta': 0.2017113951706696, 'subsample': 0.6486302249356517, 'colsample_bytree': 0.8167217518532018}.\n",
      "[I 2025-05-16 11:12:33,626] Trial 5 finished with values: [0.7007226597801081, 0.09705389421004051] and parameters: {'max_depth': 6, 'eta': 0.2351370852261638, 'subsample': 0.6616971024658362, 'colsample_bytree': 0.9005063573993785}.\n",
      "[I 2025-05-16 11:12:33,737] Trial 6 finished with values: [0.6792940664699954, 0.05594349219911676] and parameters: {'max_depth': 4, 'eta': 0.20217338331677062, 'subsample': 0.8561216353039178, 'colsample_bytree': 0.6676354991632479}.\n",
      "[I 2025-05-16 11:12:33,869] Trial 7 finished with values: [0.6557272089525262, 0.018587605168928212] and parameters: {'max_depth': 3, 'eta': 0.08371893194056128, 'subsample': 0.993087653184819, 'colsample_bytree': 0.7180633584143985}.\n",
      "[I 2025-05-16 11:12:33,970] Trial 8 finished with values: [0.6671491546504184, 0.026332922937223373] and parameters: {'max_depth': 3, 'eta': 0.11581909900247526, 'subsample': 0.6419205561905786, 'colsample_bytree': 0.7871103049923178}.\n",
      "[I 2025-05-16 11:12:34,110] Trial 9 finished with values: [0.6778726415527841, 0.047285526992625816] and parameters: {'max_depth': 4, 'eta': 0.05385415024475629, 'subsample': 0.799780269746881, 'colsample_bytree': 0.900687821356121}.\n",
      "[I 2025-05-16 11:12:34,114] A new study created in memory with name: no-name-58dd236b-cb47-4d91-a125-4cd566559df8\n",
      "[I 2025-05-16 11:12:34,259] Trial 0 finished with values: [0.6971384633293815, 0.06801782490444831] and parameters: {'max_depth': 5, 'eta': 0.2377573210893696, 'subsample': 0.8728843875260466, 'colsample_bytree': 0.7085225578294526}.\n"
     ]
    },
    {
     "name": "stdout",
     "output_type": "stream",
     "text": [
      "Completed study for alpha=0.85\n"
     ]
    },
    {
     "name": "stderr",
     "output_type": "stream",
     "text": [
      "[I 2025-05-16 11:12:34,434] Trial 1 finished with values: [0.688577747960531, 0.06927322802874018] and parameters: {'max_depth': 6, 'eta': 0.15221259759241082, 'subsample': 0.6073376977328382, 'colsample_bytree': 0.6919546391185368}.\n",
      "[I 2025-05-16 11:12:34,595] Trial 2 finished with values: [0.6707302876853749, 0.04164307854948607] and parameters: {'max_depth': 3, 'eta': 0.26788411396702855, 'subsample': 0.9945728176551462, 'colsample_bytree': 0.6392785930772397}.\n",
      "[I 2025-05-16 11:12:34,754] Trial 3 finished with values: [0.6700011947321501, 0.03440327656333309] and parameters: {'max_depth': 4, 'eta': 0.1021128082871891, 'subsample': 0.9600464339625947, 'colsample_bytree': 0.6291000790586968}.\n",
      "[I 2025-05-16 11:12:34,918] Trial 4 finished with values: [0.6828522238866782, 0.0699031495584515] and parameters: {'max_depth': 5, 'eta': 0.13228586293629052, 'subsample': 0.9527863209475539, 'colsample_bytree': 0.9438576397021605}.\n",
      "[I 2025-05-16 11:12:35,059] Trial 5 finished with values: [0.6600113959066639, 0.03876208814106588] and parameters: {'max_depth': 3, 'eta': 0.1548126088096216, 'subsample': 0.9740462327712764, 'colsample_bytree': 0.8918475614239694}.\n",
      "[I 2025-05-16 11:12:35,197] Trial 6 finished with values: [0.6614389476554148, 0.019158486573831946] and parameters: {'max_depth': 3, 'eta': 0.060385986187838796, 'subsample': 0.7410304137002492, 'colsample_bytree': 0.9629137227730049}.\n",
      "[I 2025-05-16 11:12:35,338] Trial 7 finished with values: [0.6914297880422628, 0.08094977898299922] and parameters: {'max_depth': 5, 'eta': 0.28654266066803297, 'subsample': 0.8990008744749244, 'colsample_bytree': 0.6358205113452238}.\n",
      "[I 2025-05-16 11:12:35,487] Trial 8 finished with values: [0.7121338835228056, 0.09998186471964969] and parameters: {'max_depth': 6, 'eta': 0.26902853055387466, 'subsample': 0.6702034629860317, 'colsample_bytree': 0.874511189338451}.\n",
      "[I 2025-05-16 11:12:35,738] Trial 9 finished with values: [0.6649986367799824, 0.051576202261553426] and parameters: {'max_depth': 4, 'eta': 0.012346951447795714, 'subsample': 0.8145586161373498, 'colsample_bytree': 0.9890852117421497}.\n",
      "[I 2025-05-16 11:12:35,742] A new study created in memory with name: no-name-e4709d6a-8872-4d28-8ab9-f33f01681bae\n",
      "[I 2025-05-16 11:12:35,857] Trial 0 finished with values: [0.6607221083652695, 0.026142325564237418] and parameters: {'max_depth': 3, 'eta': 0.10979496906945656, 'subsample': 0.9878321893583408, 'colsample_bytree': 0.6965766465708313}.\n"
     ]
    },
    {
     "name": "stdout",
     "output_type": "stream",
     "text": [
      "Completed study for alpha=0.86\n"
     ]
    },
    {
     "name": "stderr",
     "output_type": "stream",
     "text": [
      "[I 2025-05-16 11:12:35,987] Trial 1 finished with values: [0.6878716306255801, 0.06676511833306113] and parameters: {'max_depth': 6, 'eta': 0.11578905407530367, 'subsample': 0.6271260568473503, 'colsample_bytree': 0.973333315667181}.\n",
      "[I 2025-05-16 11:12:36,114] Trial 2 finished with values: [0.6778711098448992, 0.07566925772453113] and parameters: {'max_depth': 4, 'eta': 0.09452976494789528, 'subsample': 0.6053293703715334, 'colsample_bytree': 0.7529088716945442}.\n",
      "[I 2025-05-16 11:12:36,327] Trial 3 finished with values: [0.6850088685886537, 0.06020062613159601] and parameters: {'max_depth': 7, 'eta': 0.04538799671208024, 'subsample': 0.6866082444067569, 'colsample_bytree': 0.7212471186387848}.\n",
      "[I 2025-05-16 11:12:36,492] Trial 4 finished with values: [0.7107048000661699, 0.08695328839744913] and parameters: {'max_depth': 6, 'eta': 0.24124831814018935, 'subsample': 0.6635112802972777, 'colsample_bytree': 0.8930909759041699}.\n",
      "[I 2025-05-16 11:12:36,649] Trial 5 finished with values: [0.6871348791329308, 0.09805282736021925] and parameters: {'max_depth': 5, 'eta': 0.23244856836862068, 'subsample': 0.6872281266631957, 'colsample_bytree': 0.8701319396384173}.\n",
      "[I 2025-05-16 11:12:36,829] Trial 6 finished with values: [0.6742884451020577, 0.03261684353000326] and parameters: {'max_depth': 4, 'eta': 0.1330057974630283, 'subsample': 0.7268626044951612, 'colsample_bytree': 0.9473261557982315}.\n",
      "[I 2025-05-16 11:12:36,995] Trial 7 finished with values: [0.6628695628199356, 0.026311618200091796] and parameters: {'max_depth': 3, 'eta': 0.08674718811280718, 'subsample': 0.9818191005541939, 'colsample_bytree': 0.6596957564930329}.\n",
      "[I 2025-05-16 11:12:37,163] Trial 8 finished with values: [0.6750160063473974, 0.05392202841739274] and parameters: {'max_depth': 4, 'eta': 0.16629764317234777, 'subsample': 0.9002291034328296, 'colsample_bytree': 0.6679659024290935}.\n",
      "[I 2025-05-16 11:12:37,300] Trial 9 finished with values: [0.6928619349146685, 0.05754360992809077] and parameters: {'max_depth': 6, 'eta': 0.15399275652628822, 'subsample': 0.8480008742871012, 'colsample_bytree': 0.6918200964672203}.\n",
      "[I 2025-05-16 11:12:37,303] A new study created in memory with name: no-name-9cbb0695-347f-492d-bba5-ef92007629e4\n",
      "[I 2025-05-16 11:12:37,429] Trial 0 finished with values: [0.7221405311350262, 0.04330889687286863] and parameters: {'max_depth': 7, 'eta': 0.29986155936747905, 'subsample': 0.785227612660254, 'colsample_bytree': 0.9308757679927823}.\n"
     ]
    },
    {
     "name": "stdout",
     "output_type": "stream",
     "text": [
      "Completed study for alpha=0.87\n"
     ]
    },
    {
     "name": "stderr",
     "output_type": "stream",
     "text": [
      "[I 2025-05-16 11:12:37,597] Trial 1 finished with values: [0.6964308142865457, 0.052850611924326496] and parameters: {'max_depth': 6, 'eta': 0.15999710040417486, 'subsample': 0.8582907039231902, 'colsample_bytree': 0.6683422642256213}.\n",
      "[I 2025-05-16 11:12:37,779] Trial 2 finished with values: [0.7014287771150588, 0.07471691581151792] and parameters: {'max_depth': 7, 'eta': 0.14763637624748405, 'subsample': 0.7665202568102046, 'colsample_bytree': 0.7380434051709188}.\n",
      "[I 2025-05-16 11:12:37,912] Trial 3 finished with values: [0.7135736889346359, 0.1145869951292476] and parameters: {'max_depth': 7, 'eta': 0.27492595880751797, 'subsample': 0.7289229184904884, 'colsample_bytree': 0.8668984213129691}.\n",
      "[I 2025-05-16 11:12:38,038] Trial 4 finished with values: [0.6885700894211063, 0.06531165500556987] and parameters: {'max_depth': 6, 'eta': 0.15078711042492451, 'subsample': 0.9618642937099207, 'colsample_bytree': 0.711830324984175}.\n",
      "[I 2025-05-16 11:12:38,152] Trial 5 finished with values: [0.6992767275367381, 0.07771120960164753] and parameters: {'max_depth': 5, 'eta': 0.2740333880393907, 'subsample': 0.8506294677781061, 'colsample_bytree': 0.7880477816500046}.\n",
      "[I 2025-05-16 11:12:38,274] Trial 6 finished with values: [0.6942864232476497, 0.07153939991203194] and parameters: {'max_depth': 5, 'eta': 0.23881526382551477, 'subsample': 0.6892770935461097, 'colsample_bytree': 0.6629593455503701}.\n",
      "[I 2025-05-16 11:12:38,385] Trial 7 finished with values: [0.6714348733124408, 0.03010631608340895] and parameters: {'max_depth': 3, 'eta': 0.28045434767426564, 'subsample': 0.7919584667050834, 'colsample_bytree': 0.9177706252886182}.\n",
      "[I 2025-05-16 11:12:38,516] Trial 8 finished with values: [0.667859867109024, 0.04241208527034151] and parameters: {'max_depth': 3, 'eta': 0.2547409258038644, 'subsample': 0.8570205619335947, 'colsample_bytree': 0.9158181670031125}.\n",
      "[I 2025-05-16 11:12:38,643] Trial 9 finished with values: [0.6878655037940405, 0.07419101686682174] and parameters: {'max_depth': 5, 'eta': 0.16050526512985874, 'subsample': 0.7802783170562868, 'colsample_bytree': 0.9876013620928975}.\n",
      "[I 2025-05-16 11:12:38,646] A new study created in memory with name: no-name-b1e6c0eb-9f70-4d33-b3fb-a9453a5c5372\n",
      "[I 2025-05-16 11:12:38,756] Trial 0 finished with values: [0.663583338694311, 0.02883506354240604] and parameters: {'max_depth': 3, 'eta': 0.053201492105116176, 'subsample': 0.6903818591007971, 'colsample_bytree': 0.9102485025051206}.\n"
     ]
    },
    {
     "name": "stdout",
     "output_type": "stream",
     "text": [
      "Completed study for alpha=0.88\n"
     ]
    },
    {
     "name": "stderr",
     "output_type": "stream",
     "text": [
      "[I 2025-05-16 11:12:38,886] Trial 1 finished with values: [0.6992828543682776, 0.0729918535058913] and parameters: {'max_depth': 5, 'eta': 0.22358111958736673, 'subsample': 0.9017404670743162, 'colsample_bytree': 0.7626015148685277}.\n",
      "[I 2025-05-16 11:12:39,207] Trial 2 finished with values: [0.6542950620801206, 0.034060588808163345] and parameters: {'max_depth': 3, 'eta': 0.011269303611401476, 'subsample': 0.8937138407897055, 'colsample_bytree': 0.9222032863715874}.\n",
      "[I 2025-05-16 11:12:39,426] Trial 3 finished with values: [0.6714364050203256, 0.054418465981991467] and parameters: {'max_depth': 4, 'eta': 0.01444828251021036, 'subsample': 0.8079793781431637, 'colsample_bytree': 0.7541426246242535}.\n",
      "[I 2025-05-16 11:12:39,547] Trial 4 finished with values: [0.6942741695845701, 0.06566689403029681] and parameters: {'max_depth': 4, 'eta': 0.2094787137525202, 'subsample': 0.7890671082755193, 'colsample_bytree': 0.9676693332796275}.\n",
      "[I 2025-05-16 11:12:39,709] Trial 5 finished with values: [0.6985752053254419, 0.06878409081190519] and parameters: {'max_depth': 7, 'eta': 0.08577473252218237, 'subsample': 0.6973415898589413, 'colsample_bytree': 0.9512009189421358}.\n",
      "[I 2025-05-16 11:12:39,871] Trial 6 finished with values: [0.6557302723682961, 0.033976378926776844] and parameters: {'max_depth': 3, 'eta': 0.026759687244059208, 'subsample': 0.923686085507018, 'colsample_bytree': 0.8268230450459118}.\n",
      "[I 2025-05-16 11:12:40,005] Trial 7 finished with values: [0.6757221236823483, 0.06186522034361882] and parameters: {'max_depth': 3, 'eta': 0.22242842995722328, 'subsample': 0.6753237010186006, 'colsample_bytree': 0.7433654464041015}.\n",
      "[I 2025-05-16 11:12:40,231] Trial 8 finished with values: [0.663578743570656, 0.04699324939878929] and parameters: {'max_depth': 4, 'eta': 0.01326471698546612, 'subsample': 0.6887843628371468, 'colsample_bytree': 0.7986129382364578}.\n",
      "[I 2025-05-16 11:12:40,417] Trial 9 finished with values: [0.6878578452546158, 0.07872591848160933] and parameters: {'max_depth': 5, 'eta': 0.06900499983896945, 'subsample': 0.9849794377747925, 'colsample_bytree': 0.8577932173445197}.\n",
      "[I 2025-05-16 11:12:40,423] A new study created in memory with name: no-name-2e7ff614-5c73-48aa-b030-98bdd198fdda\n",
      "[I 2025-05-16 11:12:40,567] Trial 0 finished with values: [0.6928573397910137, 0.0795410923314863] and parameters: {'max_depth': 5, 'eta': 0.2436259921391625, 'subsample': 0.9627257739175465, 'colsample_bytree': 0.9252238173380705}.\n"
     ]
    },
    {
     "name": "stdout",
     "output_type": "stream",
     "text": [
      "Completed study for alpha=0.89\n"
     ]
    },
    {
     "name": "stderr",
     "output_type": "stream",
     "text": [
      "[I 2025-05-16 11:12:40,759] Trial 1 finished with values: [0.689277738463942, 0.050969026738927226] and parameters: {'max_depth': 5, 'eta': 0.17860346319099368, 'subsample': 0.8131864607343477, 'colsample_bytree': 0.9329209245071692}.\n",
      "[I 2025-05-16 11:12:40,906] Trial 2 finished with values: [0.6757159968508085, 0.05602816712440911] and parameters: {'max_depth': 4, 'eta': 0.1429840748064369, 'subsample': 0.6826719322840804, 'colsample_bytree': 0.8463966519639244}.\n",
      "[I 2025-05-16 11:12:41,074] Trial 3 finished with values: [0.6878593769625008, 0.06027284840766766] and parameters: {'max_depth': 7, 'eta': 0.09333939614105087, 'subsample': 0.8694261782649095, 'colsample_bytree': 0.6719333182543538}.\n",
      "[I 2025-05-16 11:12:41,223] Trial 4 finished with values: [0.6628741579435903, 0.024185558556253168] and parameters: {'max_depth': 3, 'eta': 0.07437544754616839, 'subsample': 0.9411905060423532, 'colsample_bytree': 0.6914133789883904}.\n",
      "[I 2025-05-16 11:12:41,317] Trial 5 finished with values: [0.6614404793632996, 0.02318051155596505] and parameters: {'max_depth': 3, 'eta': 0.09820122102489039, 'subsample': 0.9234019011241541, 'colsample_bytree': 0.7867146706400354}.\n",
      "[I 2025-05-16 11:12:41,464] Trial 6 finished with values: [0.6771481437232142, 0.0751135298851662] and parameters: {'max_depth': 6, 'eta': 0.10648361725795827, 'subsample': 0.6292911780750907, 'colsample_bytree': 0.6566732752672666}.\n",
      "[I 2025-05-16 11:12:41,575] Trial 7 finished with values: [0.6721440540631615, 0.0612685456199526] and parameters: {'max_depth': 5, 'eta': 0.11055227687996362, 'subsample': 0.6558686775520252, 'colsample_bytree': 0.739781238669243}.\n",
      "[I 2025-05-16 11:12:41,692] Trial 8 finished with values: [0.6621557869455601, 0.0261614802823404] and parameters: {'max_depth': 3, 'eta': 0.13934701943558878, 'subsample': 0.7206084970813253, 'colsample_bytree': 0.7543961889681712}.\n",
      "[I 2025-05-16 11:12:41,805] Trial 9 finished with values: [0.7021241724948153, 0.07840302536194577] and parameters: {'max_depth': 6, 'eta': 0.2806277987334153, 'subsample': 0.6242415398128743, 'colsample_bytree': 0.891475063196123}.\n",
      "[I 2025-05-16 11:12:41,809] A new study created in memory with name: no-name-f7fb4211-75df-41b0-9351-04a7b81d467b\n",
      "[I 2025-05-16 11:12:41,938] Trial 0 finished with values: [0.6749960941448935, 0.04168973350146466] and parameters: {'max_depth': 5, 'eta': 0.04314310795752951, 'subsample': 0.9536332280095455, 'colsample_bytree': 0.9117810428359715}.\n"
     ]
    },
    {
     "name": "stdout",
     "output_type": "stream",
     "text": [
      "Completed study for alpha=0.9\n"
     ]
    },
    {
     "name": "stderr",
     "output_type": "stream",
     "text": [
      "[I 2025-05-16 11:12:42,049] Trial 1 finished with values: [0.6871532596275499, 0.060999821347319357] and parameters: {'max_depth': 6, 'eta': 0.14268938557065058, 'subsample': 0.9369147596540328, 'colsample_bytree': 0.6468889026776586}.\n",
      "[I 2025-05-16 11:12:42,171] Trial 2 finished with values: [0.7014195868677492, 0.1196414478332631] and parameters: {'max_depth': 5, 'eta': 0.2978048648656525, 'subsample': 0.6372798855102915, 'colsample_bytree': 0.8337625295589178}.\n",
      "[I 2025-05-16 11:12:42,271] Trial 3 finished with values: [0.6878471232994213, 0.0742877809955766] and parameters: {'max_depth': 5, 'eta': 0.23983522342202296, 'subsample': 0.7994585636191562, 'colsample_bytree': 0.9185322677654488}.\n",
      "[I 2025-05-16 11:12:42,375] Trial 4 finished with values: [0.688577747960531, 0.049193919975386254] and parameters: {'max_depth': 4, 'eta': 0.18754501814955601, 'subsample': 0.9464832694818117, 'colsample_bytree': 0.7427796552957567}.\n",
      "[I 2025-05-16 11:12:42,499] Trial 5 finished with values: [0.6964231557471212, 0.06732043071247945] and parameters: {'max_depth': 6, 'eta': 0.07932911877898674, 'subsample': 0.8078635414457321, 'colsample_bytree': 0.9628634587525127}.\n",
      "[I 2025-05-16 11:12:42,609] Trial 6 finished with values: [0.7028655191111192, 0.07532807688389358] and parameters: {'max_depth': 5, 'eta': 0.2343958138536746, 'subsample': 0.9070631798059638, 'colsample_bytree': 0.9139056730132277}.\n",
      "[I 2025-05-16 11:12:42,758] Trial 7 finished with values: [0.6921450956245233, 0.07093117560711835] and parameters: {'max_depth': 6, 'eta': 0.05639752646971776, 'subsample': 0.7536492863516903, 'colsample_bytree': 0.853514766303771}.\n",
      "[I 2025-05-16 11:12:42,881] Trial 8 finished with values: [0.7028624556953494, 0.06392143165604454] and parameters: {'max_depth': 5, 'eta': 0.2978272388805634, 'subsample': 0.9391043914192846, 'colsample_bytree': 0.6652244612139275}.\n",
      "[I 2025-05-16 11:12:42,982] Trial 9 finished with values: [0.6871517279196651, 0.06653035223112864] and parameters: {'max_depth': 4, 'eta': 0.18860116414576045, 'subsample': 0.8304815802762917, 'colsample_bytree': 0.7311846908276797}.\n",
      "[I 2025-05-16 11:12:42,987] A new study created in memory with name: no-name-aeeda03a-1192-4e0c-9d91-0274c0f64748\n",
      "[I 2025-05-16 11:12:43,125] Trial 0 finished with values: [0.6650139538588317, 0.03562286133936857] and parameters: {'max_depth': 3, 'eta': 0.03237499983970418, 'subsample': 0.6062606295785872, 'colsample_bytree': 0.7192718786190474}.\n"
     ]
    },
    {
     "name": "stdout",
     "output_type": "stream",
     "text": [
      "Completed study for alpha=0.91\n"
     ]
    },
    {
     "name": "stderr",
     "output_type": "stream",
     "text": [
      "[I 2025-05-16 11:12:43,275] Trial 1 finished with values: [0.6828537555945631, 0.06402087883098065] and parameters: {'max_depth': 6, 'eta': 0.1596427365871665, 'subsample': 0.7029847885685362, 'colsample_bytree': 0.881261382486074}.\n",
      "[I 2025-05-16 11:12:43,427] Trial 2 finished with values: [0.6921481590402933, 0.06247836153673258] and parameters: {'max_depth': 6, 'eta': 0.09085293862063802, 'subsample': 0.9688447456973721, 'colsample_bytree': 0.7484595961220605}.\n",
      "[I 2025-05-16 11:12:43,631] Trial 3 finished with values: [0.6749976258527783, 0.04571922631369193] and parameters: {'max_depth': 5, 'eta': 0.018748011804902202, 'subsample': 0.9084169907117399, 'colsample_bytree': 0.9040118752396539}.\n",
      "[I 2025-05-16 11:12:43,881] Trial 4 finished with values: [0.673579264351337, 0.05042805344702999] and parameters: {'max_depth': 4, 'eta': 0.012181992023642606, 'subsample': 0.970961470324342, 'colsample_bytree': 0.7122610184577636}.\n",
      "[I 2025-05-16 11:12:44,039] Trial 5 finished with values: [0.6949956039983703, 0.07715547958057588] and parameters: {'max_depth': 7, 'eta': 0.14923414010522473, 'subsample': 0.6198449024023885, 'colsample_bytree': 0.8486347538363788}.\n",
      "[I 2025-05-16 11:12:44,166] Trial 6 finished with values: [0.6678659939405636, 0.03753800635652397] and parameters: {'max_depth': 3, 'eta': 0.1589425505629606, 'subsample': 0.7262474612989396, 'colsample_bytree': 0.745553019145534}.\n",
      "[I 2025-05-16 11:12:44,444] Trial 7 finished with values: [0.6957109115806306, 0.059653458086738664] and parameters: {'max_depth': 7, 'eta': 0.040137185954767306, 'subsample': 0.774260214740638, 'colsample_bytree': 0.9962335047425926}.\n",
      "[I 2025-05-16 11:12:44,595] Trial 8 finished with values: [0.6678736524799883, 0.05655880479772208] and parameters: {'max_depth': 3, 'eta': 0.15814850568398237, 'subsample': 0.8116504098968716, 'colsample_bytree': 0.8842564507636188}.\n",
      "[I 2025-05-16 11:12:44,769] Trial 9 finished with values: [0.6978507074958721, 0.0844041576290367] and parameters: {'max_depth': 6, 'eta': 0.26717291592794173, 'subsample': 0.9758747013392526, 'colsample_bytree': 0.7043591415145222}.\n",
      "[I 2025-05-16 11:12:44,774] A new study created in memory with name: no-name-b168c53a-892d-44ef-99c7-a51621218f96\n",
      "[I 2025-05-16 11:12:44,945] Trial 0 finished with values: [0.6671491546504184, 0.05317731925054036] and parameters: {'max_depth': 4, 'eta': 0.06122897618916638, 'subsample': 0.7708774714522395, 'colsample_bytree': 0.8173501656472378}.\n"
     ]
    },
    {
     "name": "stdout",
     "output_type": "stream",
     "text": [
      "Completed study for alpha=0.92\n"
     ]
    },
    {
     "name": "stderr",
     "output_type": "stream",
     "text": [
      "[I 2025-05-16 11:12:45,252] Trial 1 finished with values: [0.7007165329485683, 0.08641570539525513] and parameters: {'max_depth': 6, 'eta': 0.29318282870292345, 'subsample': 0.768052241502997, 'colsample_bytree': 0.9052438669362551}.\n",
      "[I 2025-05-16 11:12:45,403] Trial 2 finished with values: [0.6949864137510607, 0.059845256247869925] and parameters: {'max_depth': 5, 'eta': 0.29998547032378137, 'subsample': 0.7268444982750225, 'colsample_bytree': 0.6277433312571369}.\n",
      "[I 2025-05-16 11:12:45,525] Trial 3 finished with values: [0.6721578394341258, 0.04980092215503936] and parameters: {'max_depth': 4, 'eta': 0.055810617987991265, 'subsample': 0.7934201770231779, 'colsample_bytree': 0.6781437439159838}.\n",
      "[I 2025-05-16 11:12:45,670] Trial 4 finished with values: [0.7128660398918001, 0.09674657543635501] and parameters: {'max_depth': 7, 'eta': 0.22235269568432248, 'subsample': 0.6054882627516457, 'colsample_bytree': 0.9984172499886551}.\n",
      "[I 2025-05-16 11:12:45,844] Trial 5 finished with values: [0.6714348733124408, 0.06798376618364557] and parameters: {'max_depth': 6, 'eta': 0.054192959812015926, 'subsample': 0.7275245751510879, 'colsample_bytree': 0.7035475926239121}.\n",
      "[I 2025-05-16 11:12:45,987] Trial 6 finished with values: [0.6714425318518655, 0.031378006266925995] and parameters: {'max_depth': 3, 'eta': 0.20791406128954865, 'subsample': 0.6198428030852189, 'colsample_bytree': 0.912767063445816}.\n",
      "[I 2025-05-16 11:12:46,164] Trial 7 finished with values: [0.6999981619505381, 0.06113421643806438] and parameters: {'max_depth': 7, 'eta': 0.07083343442982336, 'subsample': 0.8912731759705408, 'colsample_bytree': 0.9891495662135242}.\n",
      "[I 2025-05-16 11:12:46,280] Trial 8 finished with values: [0.6857165176314896, 0.05702623932003428] and parameters: {'max_depth': 5, 'eta': 0.15017758733934342, 'subsample': 0.6695534342506642, 'colsample_bytree': 0.6557036081080457}.\n",
      "[I 2025-05-16 11:12:46,426] Trial 9 finished with values: [0.6842904975906235, 0.04992763750891829] and parameters: {'max_depth': 6, 'eta': 0.12220461171039576, 'subsample': 0.6881728917395878, 'colsample_bytree': 0.651648745163645}.\n",
      "[I 2025-05-16 11:12:46,429] A new study created in memory with name: no-name-d0f7a42b-baca-4fda-a714-6839f594f597\n",
      "[I 2025-05-16 11:12:46,575] Trial 0 finished with values: [0.7107185854371342, 0.07834141637813784] and parameters: {'max_depth': 5, 'eta': 0.28974630390229766, 'subsample': 0.8496936871537719, 'colsample_bytree': 0.979848692768306}.\n"
     ]
    },
    {
     "name": "stdout",
     "output_type": "stream",
     "text": [
      "Completed study for alpha=0.93\n"
     ]
    },
    {
     "name": "stderr",
     "output_type": "stream",
     "text": [
      "[I 2025-05-16 11:12:46,727] Trial 1 finished with values: [0.6764389629724935, 0.03466331504737711] and parameters: {'max_depth': 3, 'eta': 0.25783568289837655, 'subsample': 0.6316441679462116, 'colsample_bytree': 0.9226240341167212}.\n",
      "[I 2025-05-16 11:12:46,866] Trial 2 finished with values: [0.6814353940931217, 0.07541227833840454] and parameters: {'max_depth': 7, 'eta': 0.08366882542643274, 'subsample': 0.6001995800624038, 'colsample_bytree': 0.7059263115627791}.\n",
      "[I 2025-05-16 11:12:47,044] Trial 3 finished with values: [0.6828506921787931, 0.07549583292684049] and parameters: {'max_depth': 6, 'eta': 0.030471567891490747, 'subsample': 0.9606096569082015, 'colsample_bytree': 0.9285534054963758}.\n",
      "[I 2025-05-16 11:12:47,183] Trial 4 finished with values: [0.6835751900083631, 0.08300584740225772] and parameters: {'max_depth': 6, 'eta': 0.14430447915673064, 'subsample': 0.6127096520264325, 'colsample_bytree': 0.9581829785376487}.\n",
      "[I 2025-05-16 11:12:47,349] Trial 5 finished with values: [0.6971338682057268, 0.08789342071864699] and parameters: {'max_depth': 7, 'eta': 0.17653522486953876, 'subsample': 0.7217449084585021, 'colsample_bytree': 0.7934352448116377}.\n",
      "[I 2025-05-16 11:12:47,575] Trial 6 finished with values: [0.6628680311120506, 0.05277134170320542] and parameters: {'max_depth': 4, 'eta': 0.02775984411923252, 'subsample': 0.6135374353869726, 'colsample_bytree': 0.8406033138409537}.\n",
      "[I 2025-05-16 11:12:47,782] Trial 7 finished with values: [0.6964231557471212, 0.08576115228627124] and parameters: {'max_depth': 7, 'eta': 0.10975995481448789, 'subsample': 0.7191739228970353, 'colsample_bytree': 0.8867032287888101}.\n",
      "[I 2025-05-16 11:12:47,997] Trial 8 finished with values: [0.6885731528368763, 0.06974730015301396] and parameters: {'max_depth': 7, 'eta': 0.06260026804981894, 'subsample': 0.6856423146502835, 'colsample_bytree': 0.9967117436602495}.\n",
      "[I 2025-05-16 11:12:48,189] Trial 9 finished with values: [0.6778680464291295, 0.062122666955357946] and parameters: {'max_depth': 4, 'eta': 0.030093849170454802, 'subsample': 0.7497674882353319, 'colsample_bytree': 0.8558354226446236}.\n",
      "[I 2025-05-16 11:12:48,195] A new study created in memory with name: no-name-4eb3509f-90d3-4b6b-84e8-eeb32ce30924\n",
      "[I 2025-05-16 11:12:48,367] Trial 0 finished with values: [0.6749991575606633, 0.05517888025215279] and parameters: {'max_depth': 5, 'eta': 0.04692180917522557, 'subsample': 0.7113306590328979, 'colsample_bytree': 0.8095583725039306}.\n"
     ]
    },
    {
     "name": "stdout",
     "output_type": "stream",
     "text": [
      "Completed study for alpha=0.94\n"
     ]
    },
    {
     "name": "stderr",
     "output_type": "stream",
     "text": [
      "[I 2025-05-16 11:12:48,509] Trial 1 finished with values: [0.7007150012406833, 0.0826656261365102] and parameters: {'max_depth': 5, 'eta': 0.23680875920680594, 'subsample': 0.6897641966552407, 'colsample_bytree': 0.621220394903373}.\n",
      "[I 2025-05-16 11:12:48,691] Trial 2 finished with values: [0.6857195810472594, 0.06303411513295988] and parameters: {'max_depth': 5, 'eta': 0.21333213308084922, 'subsample': 0.6488263234804169, 'colsample_bytree': 0.8223673171257838}.\n",
      "[I 2025-05-16 11:12:48,980] Trial 3 finished with values: [0.7278553332536845, 0.09010113990381287] and parameters: {'max_depth': 7, 'eta': 0.2711503232981854, 'subsample': 0.9589010525240325, 'colsample_bytree': 0.8658265457256695}.\n",
      "[I 2025-05-16 11:12:49,220] Trial 4 finished with values: [0.6978476440801021, 0.05354956858304321] and parameters: {'max_depth': 5, 'eta': 0.2188095759619042, 'subsample': 0.968915525617654, 'colsample_bytree': 0.9667363096959561}.\n",
      "[I 2025-05-16 11:12:49,416] Trial 5 finished with values: [0.6942894866634194, 0.06669615272719102] and parameters: {'max_depth': 5, 'eta': 0.24299953457886858, 'subsample': 0.8155371516599101, 'colsample_bytree': 0.6708057270680081}.\n",
      "[I 2025-05-16 11:12:49,611] Trial 6 finished with values: [0.6678613988169088, 0.023895985687282944] and parameters: {'max_depth': 3, 'eta': 0.1661458177963137, 'subsample': 0.8004725866791369, 'colsample_bytree': 0.6840375917380701}.\n",
      "[I 2025-05-16 11:12:49,905] Trial 7 finished with values: [0.689280801879712, 0.06483173854955199] and parameters: {'max_depth': 7, 'eta': 0.02816621308086839, 'subsample': 0.6229523148808447, 'colsample_bytree': 0.9177249899893355}.\n",
      "[I 2025-05-16 11:12:50,029] Trial 8 finished with values: [0.669307331060279, 0.033943359246089426] and parameters: {'max_depth': 3, 'eta': 0.14301708051260562, 'subsample': 0.6070130933639301, 'colsample_bytree': 0.7000514330220573}.\n",
      "[I 2025-05-16 11:12:50,208] Trial 9 finished with values: [0.6871578547512046, 0.059238754248926585] and parameters: {'max_depth': 4, 'eta': 0.17422536939447889, 'subsample': 0.754590492261272, 'colsample_bytree': 0.8804006196092463}.\n",
      "[I 2025-05-16 11:12:50,214] A new study created in memory with name: no-name-31f72f99-84a5-4e86-98e9-73692a3dfd82\n"
     ]
    },
    {
     "name": "stdout",
     "output_type": "stream",
     "text": [
      "Completed study for alpha=0.95\n"
     ]
    },
    {
     "name": "stderr",
     "output_type": "stream",
     "text": [
      "[I 2025-05-16 11:12:50,474] Trial 0 finished with values: [0.6871486645038951, 0.08529272619937468] and parameters: {'max_depth': 7, 'eta': 0.031070919487894914, 'subsample': 0.6195211378556649, 'colsample_bytree': 0.6523770525752456}.\n",
      "[I 2025-05-16 11:12:50,648] Trial 1 finished with values: [0.7157180799735321, 0.10437661314688536] and parameters: {'max_depth': 6, 'eta': 0.2542126010309875, 'subsample': 0.7614505040721523, 'colsample_bytree': 0.9086741269296722}.\n",
      "[I 2025-05-16 11:12:50,851] Trial 2 finished with values: [0.685002741757114, 0.06551592603171295] and parameters: {'max_depth': 6, 'eta': 0.046342328130006556, 'subsample': 0.6218121913395095, 'colsample_bytree': 0.9006283563533901}.\n",
      "[I 2025-05-16 11:12:51,012] Trial 3 finished with values: [0.6771481437232142, 0.04626971008123972] and parameters: {'max_depth': 3, 'eta': 0.24689978509589228, 'subsample': 0.711780763161772, 'colsample_bytree': 0.846638636862978}.\n",
      "[I 2025-05-16 11:12:51,278] Trial 4 finished with values: [0.7021410212815494, 0.06145993418475266] and parameters: {'max_depth': 7, 'eta': 0.13533733282455343, 'subsample': 0.7226687945070904, 'colsample_bytree': 0.72249508482065}.\n",
      "[I 2025-05-16 11:12:51,619] Trial 5 finished with values: [0.6857088590920649, 0.050089901749022135] and parameters: {'max_depth': 6, 'eta': 0.07176226592901487, 'subsample': 0.957903348287453, 'colsample_bytree': 0.9699351647627326}.\n",
      "[I 2025-05-16 11:12:52,424] Trial 6 finished with values: [0.7200037986355546, 0.09319296731813846] and parameters: {'max_depth': 6, 'eta': 0.28475929506934566, 'subsample': 0.8590271342447783, 'colsample_bytree': 0.7453024261611509}.\n",
      "[I 2025-05-16 11:12:52,881] Trial 7 finished with values: [0.6899945777540873, 0.0705725740662692] and parameters: {'max_depth': 6, 'eta': 0.16556165108055973, 'subsample': 0.6783720273758683, 'colsample_bytree': 0.9125858320012352}.\n",
      "[I 2025-05-16 11:12:53,353] Trial 8 finished with values: [0.6735762009355671, 0.04516515545558738] and parameters: {'max_depth': 3, 'eta': 0.22148825800054037, 'subsample': 0.6385412846639296, 'colsample_bytree': 0.6946188954545973}.\n",
      "[I 2025-05-16 11:12:53,604] Trial 9 finished with values: [0.6714348733124408, 0.02517803696933424] and parameters: {'max_depth': 3, 'eta': 0.10730758748405378, 'subsample': 0.7471941419879603, 'colsample_bytree': 0.6018026161401502}.\n",
      "[I 2025-05-16 11:12:53,612] A new study created in memory with name: no-name-f5f62b1d-d95f-4abe-8e08-ee814d8843b6\n"
     ]
    },
    {
     "name": "stdout",
     "output_type": "stream",
     "text": [
      "Completed study for alpha=0.96\n"
     ]
    },
    {
     "name": "stderr",
     "output_type": "stream",
     "text": [
      "[I 2025-05-16 11:12:53,963] Trial 0 finished with values: [0.701424181991404, 0.10742716168901939] and parameters: {'max_depth': 6, 'eta': 0.28099321427569934, 'subsample': 0.6762026855931826, 'colsample_bytree': 0.8312441888709723}.\n",
      "[I 2025-05-16 11:12:54,213] Trial 1 finished with values: [0.7121308201070358, 0.08015933441667616] and parameters: {'max_depth': 7, 'eta': 0.2416789845717877, 'subsample': 0.6836995482728482, 'colsample_bytree': 0.8580976566369738}.\n",
      "[I 2025-05-16 11:12:54,433] Trial 2 finished with values: [0.7035746998618398, 0.07507593400765948] and parameters: {'max_depth': 7, 'eta': 0.08424633159473162, 'subsample': 0.8495103656686522, 'colsample_bytree': 0.8840698910569428}.\n",
      "[I 2025-05-16 11:12:54,577] Trial 3 finished with values: [0.6700119166873447, 0.055440960530355486] and parameters: {'max_depth': 3, 'eta': 0.15588768212256035, 'subsample': 0.8126478481580043, 'colsample_bytree': 0.9917620550816357}.\n",
      "[I 2025-05-16 11:12:54,756] Trial 4 finished with values: [0.7114231710642, 0.09032157685704424] and parameters: {'max_depth': 7, 'eta': 0.20766598321110966, 'subsample': 0.9226249436706357, 'colsample_bytree': 0.7482968425890597}.\n",
      "[I 2025-05-16 11:12:55,030] Trial 5 finished with values: [0.6835721265925933, 0.0590925384303897] and parameters: {'max_depth': 6, 'eta': 0.015625102694804688, 'subsample': 0.8146860226881967, 'colsample_bytree': 0.8897884020837056}.\n",
      "[I 2025-05-16 11:12:55,311] Trial 6 finished with values: [0.6842843707590838, 0.07819594018239702] and parameters: {'max_depth': 6, 'eta': 0.011301638808028182, 'subsample': 0.7361768283785235, 'colsample_bytree': 0.8422148497285489}.\n",
      "[I 2025-05-16 11:12:55,432] Trial 7 finished with values: [0.7128384691498715, 0.08037131882223263] and parameters: {'max_depth': 7, 'eta': 0.17348402065003618, 'subsample': 0.9212739152279634, 'colsample_bytree': 0.8256965760171027}.\n",
      "[I 2025-05-16 11:12:55,546] Trial 8 finished with values: [0.6585899709894526, 0.028887353212690637] and parameters: {'max_depth': 3, 'eta': 0.05372813679533076, 'subsample': 0.6402889902846158, 'colsample_bytree': 0.8893823255674309}.\n",
      "[I 2025-05-16 11:12:55,650] Trial 9 finished with values: [0.6942833598318797, 0.0791903966694727] and parameters: {'max_depth': 5, 'eta': 0.2424518587098041, 'subsample': 0.7958226424750099, 'colsample_bytree': 0.8856516984978959}.\n",
      "[I 2025-05-16 11:12:55,655] A new study created in memory with name: no-name-5a9644a6-a26d-40d0-be1e-070f20549bad\n",
      "[I 2025-05-16 11:12:55,795] Trial 0 finished with values: [0.6842859024669687, 0.04827291900076963] and parameters: {'max_depth': 5, 'eta': 0.08258481879636534, 'subsample': 0.8650524280608426, 'colsample_bytree': 0.8534603988153797}.\n"
     ]
    },
    {
     "name": "stdout",
     "output_type": "stream",
     "text": [
      "Completed study for alpha=0.97\n"
     ]
    },
    {
     "name": "stderr",
     "output_type": "stream",
     "text": [
      "[I 2025-05-16 11:12:55,957] Trial 1 finished with values: [0.6842859024669687, 0.08795011390629719] and parameters: {'max_depth': 5, 'eta': 0.09088490648161186, 'subsample': 0.9911646688528415, 'colsample_bytree': 0.8674262107675672}.\n",
      "[I 2025-05-16 11:12:56,125] Trial 2 finished with values: [0.6757129334350388, 0.0693714066842253] and parameters: {'max_depth': 5, 'eta': 0.05139211461453351, 'subsample': 0.6939277097085288, 'colsample_bytree': 0.9038300326333758}.\n",
      "[I 2025-05-16 11:12:56,429] Trial 3 finished with values: [0.6928496812515892, 0.07785732345282027] and parameters: {'max_depth': 7, 'eta': 0.020228559161325828, 'subsample': 0.9890559474433918, 'colsample_bytree': 0.9715467867223905}.\n",
      "[I 2025-05-16 11:12:56,597] Trial 4 finished with values: [0.6978415172485626, 0.0936020830344284] and parameters: {'max_depth': 6, 'eta': 0.2737211862726995, 'subsample': 0.6582075977830705, 'colsample_bytree': 0.634499305339974}.\n",
      "[I 2025-05-16 11:12:56,774] Trial 5 finished with values: [0.7128537862287208, 0.10100979360121252] and parameters: {'max_depth': 6, 'eta': 0.2410104888415011, 'subsample': 0.6992354030772119, 'colsample_bytree': 0.8487489273810569}.\n",
      "[I 2025-05-16 11:12:56,895] Trial 6 finished with values: [0.690003768001397, 0.08551701185012868] and parameters: {'max_depth': 4, 'eta': 0.2635805986208266, 'subsample': 0.7587754827392291, 'colsample_bytree': 0.6676401408322825}.\n",
      "[I 2025-05-16 11:12:57,018] Trial 7 finished with values: [0.6821461065517274, 0.06846498823802079] and parameters: {'max_depth': 5, 'eta': 0.1238468896192204, 'subsample': 0.6050019606365695, 'colsample_bytree': 0.794692871486058}.\n",
      "[I 2025-05-16 11:12:57,160] Trial 8 finished with values: [0.6928588714988987, 0.07492365231604836] and parameters: {'max_depth': 5, 'eta': 0.21412280406707163, 'subsample': 0.7803500998041912, 'colsample_bytree': 0.9353383416636201}.\n",
      "[I 2025-05-16 11:12:57,315] Trial 9 finished with values: [0.7107170537292492, 0.09722159496504985] and parameters: {'max_depth': 6, 'eta': 0.25702693175680613, 'subsample': 0.6967864588428168, 'colsample_bytree': 0.6573161508889948}.\n",
      "[I 2025-05-16 11:12:57,320] A new study created in memory with name: no-name-c3150bf0-e835-41fc-8a5e-5fec728e1383\n",
      "[I 2025-05-16 11:12:57,479] Trial 0 finished with values: [0.6878655037940405, 0.06033554472225202] and parameters: {'max_depth': 4, 'eta': 0.19283371362859103, 'subsample': 0.8078175300427828, 'colsample_bytree': 0.8127892556284881}.\n"
     ]
    },
    {
     "name": "stdout",
     "output_type": "stream",
     "text": [
      "Completed study for alpha=0.98\n"
     ]
    },
    {
     "name": "stderr",
     "output_type": "stream",
     "text": [
      "[I 2025-05-16 11:12:57,752] Trial 1 finished with values: [0.6864211032585553, 0.0665891335054597] and parameters: {'max_depth': 5, 'eta': 0.16369325871214072, 'subsample': 0.7844342194216521, 'colsample_bytree': 0.770737615816639}.\n",
      "[I 2025-05-16 11:12:57,916] Trial 2 finished with values: [0.6757190602665784, 0.04034895716408752] and parameters: {'max_depth': 3, 'eta': 0.196395786868484, 'subsample': 0.7416444122277482, 'colsample_bytree': 0.9009127725743217}.\n",
      "[I 2025-05-16 11:12:58,084] Trial 3 finished with values: [0.6728593616454219, 0.05749723659627575] and parameters: {'max_depth': 3, 'eta': 0.2550349788311222, 'subsample': 0.6372088518505069, 'colsample_bytree': 0.9214831303292089}.\n",
      "[I 2025-05-16 11:12:58,272] Trial 4 finished with values: [0.6728532348138822, 0.0609571771701263] and parameters: {'max_depth': 5, 'eta': 0.03375874102048622, 'subsample': 0.9509709832300431, 'colsample_bytree': 0.6567636622056527}.\n",
      "[I 2025-05-16 11:12:58,397] Trial 5 finished with values: [0.6664399738996977, 0.0422691926673302] and parameters: {'max_depth': 3, 'eta': 0.09872107648457515, 'subsample': 0.6113168539338315, 'colsample_bytree': 0.8145945433094014}.\n",
      "[I 2025-05-16 11:12:58,588] Trial 6 finished with values: [0.6757236553902333, 0.05633342455463707] and parameters: {'max_depth': 5, 'eta': 0.08823177242472403, 'subsample': 0.624305172860495, 'colsample_bytree': 0.6799684553353822}.\n",
      "[I 2025-05-16 11:12:58,770] Trial 7 finished with values: [0.6835767217162481, 0.05199604372342714] and parameters: {'max_depth': 5, 'eta': 0.18834387980772094, 'subsample': 0.6566706926135321, 'colsample_bytree': 0.9477065082807992}.\n",
      "[I 2025-05-16 11:12:59,030] Trial 8 finished with values: [0.6907175438757723, 0.07768656998002554] and parameters: {'max_depth': 6, 'eta': 0.13398843906734975, 'subsample': 0.652857297094628, 'colsample_bytree': 0.8546051114971103}.\n",
      "[I 2025-05-16 11:12:59,174] Trial 9 finished with values: [0.6942940817870742, 0.0747032085158134] and parameters: {'max_depth': 5, 'eta': 0.1499001185776114, 'subsample': 0.6262441771051261, 'colsample_bytree': 0.8739282003322113}.\n",
      "[I 2025-05-16 11:12:59,180] A new study created in memory with name: no-name-1ee9b983-42ee-4b58-931a-60fd7050a6bf\n",
      "[I 2025-05-16 11:12:59,297] Trial 0 finished with values: [0.6892899921270215, 0.06043437222887094] and parameters: {'max_depth': 5, 'eta': 0.16188923660682433, 'subsample': 0.8666613916313086, 'colsample_bytree': 0.7048414215969194}.\n"
     ]
    },
    {
     "name": "stdout",
     "output_type": "stream",
     "text": [
      "Completed study for alpha=0.99\n"
     ]
    },
    {
     "name": "stderr",
     "output_type": "stream",
     "text": [
      "[I 2025-05-16 11:12:59,423] Trial 1 finished with values: [0.6799986520970612, 0.054576348485083] and parameters: {'max_depth': 4, 'eta': 0.14307058672453127, 'subsample': 0.8264001170554022, 'colsample_bytree': 0.9221897283277382}.\n",
      "[I 2025-05-16 11:12:59,656] Trial 2 finished with values: [0.7192838959296394, 0.08402873400738671] and parameters: {'max_depth': 7, 'eta': 0.27807649487520747, 'subsample': 0.8001316217463867, 'colsample_bytree': 0.7949910763955618}.\n",
      "[I 2025-05-16 11:12:59,828] Trial 3 finished with values: [0.685002741757114, 0.07168388762564062] and parameters: {'max_depth': 7, 'eta': 0.04036332538497878, 'subsample': 0.8664035899912863, 'colsample_bytree': 0.7214047967526018}.\n",
      "[I 2025-05-16 11:12:59,965] Trial 4 finished with values: [0.6978614294510667, 0.11725985414206454] and parameters: {'max_depth': 6, 'eta': 0.16730750135215847, 'subsample': 0.7380220611794988, 'colsample_bytree': 0.8269697360278406}.\n",
      "[I 2025-05-16 11:13:00,165] Trial 5 finished with values: [0.680003247220716, 0.04548707448156214] and parameters: {'max_depth': 5, 'eta': 0.1275758737796283, 'subsample': 0.7332042961174907, 'colsample_bytree': 0.6261075497344625}.\n",
      "[I 2025-05-16 11:13:00,367] Trial 6 finished with values: [0.6778527293502802, 0.06720348113540382] and parameters: {'max_depth': 5, 'eta': 0.1526277851002302, 'subsample': 0.7033843593913911, 'colsample_bytree': 0.8238389932185652}.\n",
      "[I 2025-05-16 11:13:00,511] Trial 7 finished with values: [0.6771466120153292, 0.04563077339999377] and parameters: {'max_depth': 4, 'eta': 0.18899566210269475, 'subsample': 0.6379841763168304, 'colsample_bytree': 0.874359850502294}.\n",
      "[I 2025-05-16 11:13:00,731] Trial 8 finished with values: [0.691425192918608, 0.0865778658238448] and parameters: {'max_depth': 5, 'eta': 0.2395652539968191, 'subsample': 0.6562260576947626, 'colsample_bytree': 0.8759186799525598}.\n",
      "[I 2025-05-16 11:13:00,900] Trial 9 finished with values: [0.7071389841100624, 0.08305915361022145] and parameters: {'max_depth': 7, 'eta': 0.21604652698634166, 'subsample': 0.6904761704740479, 'colsample_bytree': 0.8476340300863412}.\n"
     ]
    },
    {
     "name": "stdout",
     "output_type": "stream",
     "text": [
      "Completed study for alpha=1.0\n",
      "Pareto-optimal solutions:\n",
      "Params: {'alpha': 0.0, 'max_depth': 7, 'eta': 0.026254334030813502, 'subsample': 0.7195394620484923, 'colsample_bytree': 0.6581935173790406}, Accuracy: 0.5000, DPD: 0.0000\n",
      "Params: {'alpha': 0.01, 'max_depth': 5, 'eta': 0.1307778537955426, 'subsample': 0.8981798914612369, 'colsample_bytree': 0.8371454048093636}, Accuracy: 0.5000, DPD: 0.0000\n",
      "Params: {'alpha': 0.02, 'max_depth': 7, 'eta': 0.049834050525281816, 'subsample': 0.6539819227641096, 'colsample_bytree': 0.7317492424216627}, Accuracy: 0.5000, DPD: 0.0000\n",
      "Params: {'alpha': 0.03, 'max_depth': 5, 'eta': 0.2447939514013812, 'subsample': 0.6115316516230084, 'colsample_bytree': 0.7217525130841902}, Accuracy: 0.6729, DPD: 0.0086\n",
      "Params: {'alpha': 0.14, 'max_depth': 7, 'eta': 0.2182752308817038, 'subsample': 0.9802033726552732, 'colsample_bytree': 0.8723362608110063}, Accuracy: 0.6743, DPD: 0.0144\n",
      "Params: {'alpha': 0.16, 'max_depth': 5, 'eta': 0.25925623794180147, 'subsample': 0.7915798160051994, 'colsample_bytree': 0.7209469598391924}, Accuracy: 0.6657, DPD: 0.0069\n",
      "Params: {'alpha': 0.18, 'max_depth': 4, 'eta': 0.2610491266567077, 'subsample': 0.8480591237271555, 'colsample_bytree': 0.8346949224264371}, Accuracy: 0.6779, DPD: 0.0250\n",
      "Params: {'alpha': 0.19, 'max_depth': 7, 'eta': 0.25094294187978833, 'subsample': 0.9215721675114725, 'colsample_bytree': 0.6242920396760757}, Accuracy: 0.6843, DPD: 0.0299\n",
      "Params: {'alpha': 0.24, 'max_depth': 5, 'eta': 0.26233296867482825, 'subsample': 0.860958381547591, 'colsample_bytree': 0.6677212499319942}, Accuracy: 0.6793, DPD: 0.0274\n",
      "Params: {'alpha': 0.37, 'max_depth': 6, 'eta': 0.2305996732417848, 'subsample': 0.7802009059714077, 'colsample_bytree': 0.613172855433675}, Accuracy: 0.6872, DPD: 0.0350\n",
      "Params: {'alpha': 0.42, 'max_depth': 4, 'eta': 0.21298516794634226, 'subsample': 0.6033498708767782, 'colsample_bytree': 0.6776796375145263}, Accuracy: 0.6793, DPD: 0.0292\n",
      "Params: {'alpha': 0.88, 'max_depth': 7, 'eta': 0.29986155936747905, 'subsample': 0.785227612660254, 'colsample_bytree': 0.9308757679927823}, Accuracy: 0.7221, DPD: 0.0433\n",
      "Params: {'alpha': 0.95, 'max_depth': 7, 'eta': 0.2711503232981854, 'subsample': 0.9589010525240325, 'colsample_bytree': 0.8658265457256695}, Accuracy: 0.7279, DPD: 0.0901\n"
     ]
    }
   ],
   "source": [
    "\n",
    "# Create and run Optuna study for multi-objective optimization\n",
    "\n",
    "def test_loss(a,dpd,accuracy):\n",
    "    return (1-a)*(1-dpd) + a*accuracy\n",
    "\n",
    "def is_pareto_efficient(acc, dpd):\n",
    "    n_points = len(acc)\n",
    "    is_efficient = [True] * n_points\n",
    "    for i in range(n_points):\n",
    "        for j in range(n_points):\n",
    "            if (acc[j] >= acc[i] and dpd[j] <= dpd[i]) and (acc[j] > acc[i] or dpd[j] < dpd[i]):\n",
    "                is_efficient[i] = False\n",
    "                break\n",
    "    return is_efficient\n",
    "#adaptive weights based on distance\n",
    "\n",
    "results = []\n",
    "count_alpha = 100\n",
    "trials_per_alpha = 10\n",
    "for i in range(count_alpha+1):\n",
    "    alpha = i/count_alpha\n",
    "    study = optuna.create_study(directions=['maximize', 'minimize'])\n",
    "    objective = create_objective_function(alpha=alpha)  # Example alpha value\n",
    "    study.optimize(objective, n_trials=trials_per_alpha)\n",
    "    print(f\"Completed study for alpha={alpha}\")\n",
    "    max_val = 0\n",
    "    for trial in study.best_trials:\n",
    "        val = test_loss(alpha,trial.values[1],trial.values[0])\n",
    "        if val > max_val:\n",
    "            max_val = val\n",
    "            best_trial = trial\n",
    "    results.append({\n",
    "        'accuracy': best_trial.values[0],\n",
    "        'dpd': best_trial.values[1],\n",
    "        'alpha': alpha,\n",
    "        'params': best_trial.user_attrs['params']\n",
    "    })\n",
    "\n",
    "acc = [res['accuracy'] for res in results]\n",
    "dpd = [res['dpd'] for res in results]\n",
    "is_efficient = is_pareto_efficient(acc, dpd)\n",
    "# Filter results to only include Pareto-optimal solutions\n",
    "results = [res for res, efficient in zip(results, is_efficient) if efficient]\n",
    "    \n",
    "\n",
    "# Print summary of Pareto-optimal results\n",
    "print(\"Pareto-optimal solutions:\")\n",
    "for res in results:\n",
    "    print(f\"Params: {res['params']}, Accuracy: {res['accuracy']:.4f}, DPD: {res['dpd']:.4f}\")\n",
    "\n",
    "# Prepare data for plotting\n",
    "plot_df = pd.DataFrame({\n",
    "    'DPD': [res['dpd'] for res in results],\n",
    "    'Accuracy': [res['accuracy'] for res in results],\n",
    "    'alpha': [res['alpha'] for res in results]\n",
    "})\n",
    "\n"
   ]
  },
  {
   "cell_type": "code",
   "execution_count": 4,
   "id": "61fd02a8",
   "metadata": {},
   "outputs": [
    {
     "data": {
      "application/vnd.plotly.v1+json": {
       "config": {
        "plotlyServerURL": "https://plot.ly"
       },
       "data": [
        {
         "customdata": {
          "bdata": "AAAAAAAAAAB7FK5H4XqEP3sUrkfhepQ/uB6F61G4nj/sUbgehevBP3sUrkfhesQ/CtejcD0Kxz9SuB6F61HIP7gehetRuM4/rkfhehSu1z/hehSuR+HaPylcj8L1KOw/ZmZmZmZm7j8=",
          "dtype": "f8",
          "shape": "13, 1"
         },
         "hovertemplate": "DPD=%{x}<br>Accuracy=%{y}<br>alpha=%{marker.color}<extra></extra>",
         "legendgroup": "",
         "marker": {
          "color": {
           "bdata": "AAAAAAAAAAB7FK5H4XqEP3sUrkfhepQ/uB6F61G4nj/sUbgehevBP3sUrkfhesQ/CtejcD0Kxz9SuB6F61HIP7gehetRuM4/rkfhehSu1z/hehSuR+HaPylcj8L1KOw/ZmZmZmZm7j8=",
           "dtype": "f8"
          },
          "coloraxis": "coloraxis",
          "line": {
           "width": 0
          },
          "symbol": "circle"
         },
         "mode": "markers",
         "name": "",
         "orientation": "v",
         "showlegend": false,
         "type": "scatter",
         "x": {
          "bdata": "AAAAAAAAAAAAAAAAAAAAAAAAAAAAAAAAwOqFsECygT8rBah5H42NPxUZuXyDOXw/mMtinpSNmT8FjvtNL5OeP/DZHsZ8Gpw/e5FGxijroT9rr8C+s+idP829Y2+VLKY/SR04Sd4Qtz8=",
          "dtype": "f8"
         },
         "xaxis": "x",
         "y": {
          "bdata": "nlBR2QwA4D+eUFHZDADgP55QUdkMAOA/bVscoSOI5T8AuBsP35PlPxXWapqaTeU/cfz1wB6x5T/gXzJWqOXlPwMTrWywvOU/fxUu1Sj95T/M/Zo+6rzlP4jpinXGG+c/c2aRRJdK5z8=",
          "dtype": "f8"
         },
         "yaxis": "y"
        }
       ],
       "layout": {
        "coloraxis": {
         "colorbar": {
          "title": {
           "text": "alpha"
          }
         },
         "colorscale": [
          [
           0,
           "#440154"
          ],
          [
           0.1111111111111111,
           "#482878"
          ],
          [
           0.2222222222222222,
           "#3e4989"
          ],
          [
           0.3333333333333333,
           "#31688e"
          ],
          [
           0.4444444444444444,
           "#26828e"
          ],
          [
           0.5555555555555556,
           "#1f9e89"
          ],
          [
           0.6666666666666666,
           "#35b779"
          ],
          [
           0.7777777777777778,
           "#6ece58"
          ],
          [
           0.8888888888888888,
           "#b5de2b"
          ],
          [
           1,
           "#fde725"
          ]
         ]
        },
        "legend": {
         "tracegroupgap": 0
        },
        "template": {
         "data": {
          "bar": [
           {
            "error_x": {
             "color": "#2a3f5f"
            },
            "error_y": {
             "color": "#2a3f5f"
            },
            "marker": {
             "line": {
              "color": "#E5ECF6",
              "width": 0.5
             },
             "pattern": {
              "fillmode": "overlay",
              "size": 10,
              "solidity": 0.2
             }
            },
            "type": "bar"
           }
          ],
          "barpolar": [
           {
            "marker": {
             "line": {
              "color": "#E5ECF6",
              "width": 0.5
             },
             "pattern": {
              "fillmode": "overlay",
              "size": 10,
              "solidity": 0.2
             }
            },
            "type": "barpolar"
           }
          ],
          "carpet": [
           {
            "aaxis": {
             "endlinecolor": "#2a3f5f",
             "gridcolor": "white",
             "linecolor": "white",
             "minorgridcolor": "white",
             "startlinecolor": "#2a3f5f"
            },
            "baxis": {
             "endlinecolor": "#2a3f5f",
             "gridcolor": "white",
             "linecolor": "white",
             "minorgridcolor": "white",
             "startlinecolor": "#2a3f5f"
            },
            "type": "carpet"
           }
          ],
          "choropleth": [
           {
            "colorbar": {
             "outlinewidth": 0,
             "ticks": ""
            },
            "type": "choropleth"
           }
          ],
          "contour": [
           {
            "colorbar": {
             "outlinewidth": 0,
             "ticks": ""
            },
            "colorscale": [
             [
              0,
              "#0d0887"
             ],
             [
              0.1111111111111111,
              "#46039f"
             ],
             [
              0.2222222222222222,
              "#7201a8"
             ],
             [
              0.3333333333333333,
              "#9c179e"
             ],
             [
              0.4444444444444444,
              "#bd3786"
             ],
             [
              0.5555555555555556,
              "#d8576b"
             ],
             [
              0.6666666666666666,
              "#ed7953"
             ],
             [
              0.7777777777777778,
              "#fb9f3a"
             ],
             [
              0.8888888888888888,
              "#fdca26"
             ],
             [
              1,
              "#f0f921"
             ]
            ],
            "type": "contour"
           }
          ],
          "contourcarpet": [
           {
            "colorbar": {
             "outlinewidth": 0,
             "ticks": ""
            },
            "type": "contourcarpet"
           }
          ],
          "heatmap": [
           {
            "colorbar": {
             "outlinewidth": 0,
             "ticks": ""
            },
            "colorscale": [
             [
              0,
              "#0d0887"
             ],
             [
              0.1111111111111111,
              "#46039f"
             ],
             [
              0.2222222222222222,
              "#7201a8"
             ],
             [
              0.3333333333333333,
              "#9c179e"
             ],
             [
              0.4444444444444444,
              "#bd3786"
             ],
             [
              0.5555555555555556,
              "#d8576b"
             ],
             [
              0.6666666666666666,
              "#ed7953"
             ],
             [
              0.7777777777777778,
              "#fb9f3a"
             ],
             [
              0.8888888888888888,
              "#fdca26"
             ],
             [
              1,
              "#f0f921"
             ]
            ],
            "type": "heatmap"
           }
          ],
          "histogram": [
           {
            "marker": {
             "pattern": {
              "fillmode": "overlay",
              "size": 10,
              "solidity": 0.2
             }
            },
            "type": "histogram"
           }
          ],
          "histogram2d": [
           {
            "colorbar": {
             "outlinewidth": 0,
             "ticks": ""
            },
            "colorscale": [
             [
              0,
              "#0d0887"
             ],
             [
              0.1111111111111111,
              "#46039f"
             ],
             [
              0.2222222222222222,
              "#7201a8"
             ],
             [
              0.3333333333333333,
              "#9c179e"
             ],
             [
              0.4444444444444444,
              "#bd3786"
             ],
             [
              0.5555555555555556,
              "#d8576b"
             ],
             [
              0.6666666666666666,
              "#ed7953"
             ],
             [
              0.7777777777777778,
              "#fb9f3a"
             ],
             [
              0.8888888888888888,
              "#fdca26"
             ],
             [
              1,
              "#f0f921"
             ]
            ],
            "type": "histogram2d"
           }
          ],
          "histogram2dcontour": [
           {
            "colorbar": {
             "outlinewidth": 0,
             "ticks": ""
            },
            "colorscale": [
             [
              0,
              "#0d0887"
             ],
             [
              0.1111111111111111,
              "#46039f"
             ],
             [
              0.2222222222222222,
              "#7201a8"
             ],
             [
              0.3333333333333333,
              "#9c179e"
             ],
             [
              0.4444444444444444,
              "#bd3786"
             ],
             [
              0.5555555555555556,
              "#d8576b"
             ],
             [
              0.6666666666666666,
              "#ed7953"
             ],
             [
              0.7777777777777778,
              "#fb9f3a"
             ],
             [
              0.8888888888888888,
              "#fdca26"
             ],
             [
              1,
              "#f0f921"
             ]
            ],
            "type": "histogram2dcontour"
           }
          ],
          "mesh3d": [
           {
            "colorbar": {
             "outlinewidth": 0,
             "ticks": ""
            },
            "type": "mesh3d"
           }
          ],
          "parcoords": [
           {
            "line": {
             "colorbar": {
              "outlinewidth": 0,
              "ticks": ""
             }
            },
            "type": "parcoords"
           }
          ],
          "pie": [
           {
            "automargin": true,
            "type": "pie"
           }
          ],
          "scatter": [
           {
            "fillpattern": {
             "fillmode": "overlay",
             "size": 10,
             "solidity": 0.2
            },
            "type": "scatter"
           }
          ],
          "scatter3d": [
           {
            "line": {
             "colorbar": {
              "outlinewidth": 0,
              "ticks": ""
             }
            },
            "marker": {
             "colorbar": {
              "outlinewidth": 0,
              "ticks": ""
             }
            },
            "type": "scatter3d"
           }
          ],
          "scattercarpet": [
           {
            "marker": {
             "colorbar": {
              "outlinewidth": 0,
              "ticks": ""
             }
            },
            "type": "scattercarpet"
           }
          ],
          "scattergeo": [
           {
            "marker": {
             "colorbar": {
              "outlinewidth": 0,
              "ticks": ""
             }
            },
            "type": "scattergeo"
           }
          ],
          "scattergl": [
           {
            "marker": {
             "colorbar": {
              "outlinewidth": 0,
              "ticks": ""
             }
            },
            "type": "scattergl"
           }
          ],
          "scattermap": [
           {
            "marker": {
             "colorbar": {
              "outlinewidth": 0,
              "ticks": ""
             }
            },
            "type": "scattermap"
           }
          ],
          "scattermapbox": [
           {
            "marker": {
             "colorbar": {
              "outlinewidth": 0,
              "ticks": ""
             }
            },
            "type": "scattermapbox"
           }
          ],
          "scatterpolar": [
           {
            "marker": {
             "colorbar": {
              "outlinewidth": 0,
              "ticks": ""
             }
            },
            "type": "scatterpolar"
           }
          ],
          "scatterpolargl": [
           {
            "marker": {
             "colorbar": {
              "outlinewidth": 0,
              "ticks": ""
             }
            },
            "type": "scatterpolargl"
           }
          ],
          "scatterternary": [
           {
            "marker": {
             "colorbar": {
              "outlinewidth": 0,
              "ticks": ""
             }
            },
            "type": "scatterternary"
           }
          ],
          "surface": [
           {
            "colorbar": {
             "outlinewidth": 0,
             "ticks": ""
            },
            "colorscale": [
             [
              0,
              "#0d0887"
             ],
             [
              0.1111111111111111,
              "#46039f"
             ],
             [
              0.2222222222222222,
              "#7201a8"
             ],
             [
              0.3333333333333333,
              "#9c179e"
             ],
             [
              0.4444444444444444,
              "#bd3786"
             ],
             [
              0.5555555555555556,
              "#d8576b"
             ],
             [
              0.6666666666666666,
              "#ed7953"
             ],
             [
              0.7777777777777778,
              "#fb9f3a"
             ],
             [
              0.8888888888888888,
              "#fdca26"
             ],
             [
              1,
              "#f0f921"
             ]
            ],
            "type": "surface"
           }
          ],
          "table": [
           {
            "cells": {
             "fill": {
              "color": "#EBF0F8"
             },
             "line": {
              "color": "white"
             }
            },
            "header": {
             "fill": {
              "color": "#C8D4E3"
             },
             "line": {
              "color": "white"
             }
            },
            "type": "table"
           }
          ]
         },
         "layout": {
          "annotationdefaults": {
           "arrowcolor": "#2a3f5f",
           "arrowhead": 0,
           "arrowwidth": 1
          },
          "autotypenumbers": "strict",
          "coloraxis": {
           "colorbar": {
            "outlinewidth": 0,
            "ticks": ""
           }
          },
          "colorscale": {
           "diverging": [
            [
             0,
             "#8e0152"
            ],
            [
             0.1,
             "#c51b7d"
            ],
            [
             0.2,
             "#de77ae"
            ],
            [
             0.3,
             "#f1b6da"
            ],
            [
             0.4,
             "#fde0ef"
            ],
            [
             0.5,
             "#f7f7f7"
            ],
            [
             0.6,
             "#e6f5d0"
            ],
            [
             0.7,
             "#b8e186"
            ],
            [
             0.8,
             "#7fbc41"
            ],
            [
             0.9,
             "#4d9221"
            ],
            [
             1,
             "#276419"
            ]
           ],
           "sequential": [
            [
             0,
             "#0d0887"
            ],
            [
             0.1111111111111111,
             "#46039f"
            ],
            [
             0.2222222222222222,
             "#7201a8"
            ],
            [
             0.3333333333333333,
             "#9c179e"
            ],
            [
             0.4444444444444444,
             "#bd3786"
            ],
            [
             0.5555555555555556,
             "#d8576b"
            ],
            [
             0.6666666666666666,
             "#ed7953"
            ],
            [
             0.7777777777777778,
             "#fb9f3a"
            ],
            [
             0.8888888888888888,
             "#fdca26"
            ],
            [
             1,
             "#f0f921"
            ]
           ],
           "sequentialminus": [
            [
             0,
             "#0d0887"
            ],
            [
             0.1111111111111111,
             "#46039f"
            ],
            [
             0.2222222222222222,
             "#7201a8"
            ],
            [
             0.3333333333333333,
             "#9c179e"
            ],
            [
             0.4444444444444444,
             "#bd3786"
            ],
            [
             0.5555555555555556,
             "#d8576b"
            ],
            [
             0.6666666666666666,
             "#ed7953"
            ],
            [
             0.7777777777777778,
             "#fb9f3a"
            ],
            [
             0.8888888888888888,
             "#fdca26"
            ],
            [
             1,
             "#f0f921"
            ]
           ]
          },
          "colorway": [
           "#636efa",
           "#EF553B",
           "#00cc96",
           "#ab63fa",
           "#FFA15A",
           "#19d3f3",
           "#FF6692",
           "#B6E880",
           "#FF97FF",
           "#FECB52"
          ],
          "font": {
           "color": "#2a3f5f"
          },
          "geo": {
           "bgcolor": "white",
           "lakecolor": "white",
           "landcolor": "#E5ECF6",
           "showlakes": true,
           "showland": true,
           "subunitcolor": "white"
          },
          "hoverlabel": {
           "align": "left"
          },
          "hovermode": "closest",
          "mapbox": {
           "style": "light"
          },
          "paper_bgcolor": "white",
          "plot_bgcolor": "#E5ECF6",
          "polar": {
           "angularaxis": {
            "gridcolor": "white",
            "linecolor": "white",
            "ticks": ""
           },
           "bgcolor": "#E5ECF6",
           "radialaxis": {
            "gridcolor": "white",
            "linecolor": "white",
            "ticks": ""
           }
          },
          "scene": {
           "xaxis": {
            "backgroundcolor": "#E5ECF6",
            "gridcolor": "white",
            "gridwidth": 2,
            "linecolor": "white",
            "showbackground": true,
            "ticks": "",
            "zerolinecolor": "white"
           },
           "yaxis": {
            "backgroundcolor": "#E5ECF6",
            "gridcolor": "white",
            "gridwidth": 2,
            "linecolor": "white",
            "showbackground": true,
            "ticks": "",
            "zerolinecolor": "white"
           },
           "zaxis": {
            "backgroundcolor": "#E5ECF6",
            "gridcolor": "white",
            "gridwidth": 2,
            "linecolor": "white",
            "showbackground": true,
            "ticks": "",
            "zerolinecolor": "white"
           }
          },
          "shapedefaults": {
           "line": {
            "color": "#2a3f5f"
           }
          },
          "ternary": {
           "aaxis": {
            "gridcolor": "white",
            "linecolor": "white",
            "ticks": ""
           },
           "baxis": {
            "gridcolor": "white",
            "linecolor": "white",
            "ticks": ""
           },
           "bgcolor": "#E5ECF6",
           "caxis": {
            "gridcolor": "white",
            "linecolor": "white",
            "ticks": ""
           }
          },
          "title": {
           "x": 0.05
          },
          "xaxis": {
           "automargin": true,
           "gridcolor": "white",
           "linecolor": "white",
           "ticks": "",
           "title": {
            "standoff": 15
           },
           "zerolinecolor": "white",
           "zerolinewidth": 2
          },
          "yaxis": {
           "automargin": true,
           "gridcolor": "white",
           "linecolor": "white",
           "ticks": "",
           "title": {
            "standoff": 15
           },
           "zerolinecolor": "white",
           "zerolinewidth": 2
          }
         }
        },
        "title": {
         "text": "Pareto Front: DPD vs. Accuracy"
        },
        "xaxis": {
         "anchor": "y",
         "domain": [
          0,
          1
         ],
         "title": {
          "text": "DPD"
         }
        },
        "yaxis": {
         "anchor": "x",
         "domain": [
          0,
          1
         ],
         "title": {
          "text": "Accuracy"
         }
        }
       }
      }
     },
     "metadata": {},
     "output_type": "display_data"
    }
   ],
   "source": [
    "# Create interactive Plotly plot\n",
    "fig = px.scatter(\n",
    "    plot_df,\n",
    "    x='DPD',\n",
    "    y='Accuracy',\n",
    "    color='alpha',\n",
    "    color_continuous_scale='Viridis',\n",
    "    size_max=15,\n",
    "    hover_data={'alpha': True, 'DPD': True, 'Accuracy': True},\n",
    "    title='Pareto Front: DPD vs. Accuracy'\n",
    ")\n",
    "fig.update_traces(marker=dict(line_width=0))\n",
    "fig.show()"
   ]
  },
  {
   "cell_type": "code",
   "execution_count": 7,
   "id": "e568ef11",
   "metadata": {},
   "outputs": [
    {
     "name": "stderr",
     "output_type": "stream",
     "text": [
      "[I 2025-05-16 11:13:19,261] A new study created in memory with name: no-name-9f3b9129-059c-4f8e-a533-5ccb0b9fddc4\n",
      "[I 2025-05-16 11:13:19,357] Trial 0 finished with values: [0.5000061268315397, 0.0] and parameters: {'max_depth': 6, 'eta': 0.13110633265877236, 'subsample': 0.8125360197138709, 'colsample_bytree': 0.7772282448273781}.\n",
      "[I 2025-05-16 11:13:19,460] Trial 1 finished with values: [0.5000061268315397, 0.0] and parameters: {'max_depth': 7, 'eta': 0.04040577032334644, 'subsample': 0.7488904515273311, 'colsample_bytree': 0.9586222733019236}.\n",
      "[I 2025-05-16 11:13:19,567] Trial 2 finished with values: [0.5000061268315397, 0.0] and parameters: {'max_depth': 3, 'eta': 0.14583696499170543, 'subsample': 0.795810321715773, 'colsample_bytree': 0.952224552097848}.\n",
      "[I 2025-05-16 11:13:19,666] Trial 3 finished with values: [0.5000061268315397, 0.0] and parameters: {'max_depth': 7, 'eta': 0.13623371217287475, 'subsample': 0.6081598975377428, 'colsample_bytree': 0.7401898808501025}.\n",
      "[I 2025-05-16 11:13:19,758] Trial 4 finished with values: [0.5000061268315397, 0.0] and parameters: {'max_depth': 3, 'eta': 0.0959917411264889, 'subsample': 0.9128251190698545, 'colsample_bytree': 0.8369454153046018}.\n",
      "[I 2025-05-16 11:13:19,843] Trial 5 finished with values: [0.5000061268315397, 0.0] and parameters: {'max_depth': 6, 'eta': 0.22424167404620912, 'subsample': 0.9198106951123175, 'colsample_bytree': 0.7872566729066481}.\n",
      "[I 2025-05-16 11:13:19,928] Trial 6 finished with values: [0.5000061268315397, 0.0] and parameters: {'max_depth': 7, 'eta': 0.18933701188500826, 'subsample': 0.7090350146483897, 'colsample_bytree': 0.7909966821983918}.\n",
      "[I 2025-05-16 11:13:20,127] Trial 7 finished with values: [0.5000061268315397, 0.0] and parameters: {'max_depth': 7, 'eta': 0.10839008696211871, 'subsample': 0.6062492672036225, 'colsample_bytree': 0.67499906056014}.\n",
      "[I 2025-05-16 11:13:20,209] Trial 8 finished with values: [0.5000061268315397, 0.0] and parameters: {'max_depth': 3, 'eta': 0.19546745497188867, 'subsample': 0.6133203840679782, 'colsample_bytree': 0.9271056575912864}.\n",
      "[I 2025-05-16 11:13:20,303] Trial 9 finished with values: [0.5000061268315397, 0.0] and parameters: {'max_depth': 7, 'eta': 0.2132539032056197, 'subsample': 0.906981176417938, 'colsample_bytree': 0.9454018690421602}.\n",
      "[I 2025-05-16 11:13:20,386] Trial 10 finished with values: [0.5000061268315397, 0.0] and parameters: {'max_depth': 3, 'eta': 0.12906396473097506, 'subsample': 0.9874416576877498, 'colsample_bytree': 0.7575433329940349}.\n",
      "[I 2025-05-16 11:13:20,476] Trial 11 finished with values: [0.5000061268315397, 0.0] and parameters: {'max_depth': 3, 'eta': 0.22660423086741363, 'subsample': 0.8806054628511524, 'colsample_bytree': 0.9580218656133528}.\n",
      "[I 2025-05-16 11:13:20,576] Trial 12 finished with values: [0.5000061268315397, 0.0] and parameters: {'max_depth': 3, 'eta': 0.036426707649779094, 'subsample': 0.9960821328500439, 'colsample_bytree': 0.8409385676565624}.\n",
      "[I 2025-05-16 11:13:20,673] Trial 13 finished with values: [0.5000061268315397, 0.0] and parameters: {'max_depth': 4, 'eta': 0.26082482525621464, 'subsample': 0.7268946824132374, 'colsample_bytree': 0.7332640915655357}.\n",
      "[I 2025-05-16 11:13:20,777] Trial 14 finished with values: [0.5000061268315397, 0.0] and parameters: {'max_depth': 5, 'eta': 0.1057741538775326, 'subsample': 0.8223984455016314, 'colsample_bytree': 0.9270840822581651}.\n",
      "[I 2025-05-16 11:13:20,897] Trial 15 finished with values: [0.5000061268315397, 0.0] and parameters: {'max_depth': 7, 'eta': 0.23148176707002235, 'subsample': 0.6233528295822953, 'colsample_bytree': 0.808260211837282}.\n",
      "[I 2025-05-16 11:13:21,029] Trial 16 finished with values: [0.5000061268315397, 0.0] and parameters: {'max_depth': 3, 'eta': 0.06142350605190171, 'subsample': 0.604058523366745, 'colsample_bytree': 0.7703672459342897}.\n",
      "[I 2025-05-16 11:13:21,142] Trial 17 finished with values: [0.5000061268315397, 0.0] and parameters: {'max_depth': 3, 'eta': 0.12666072123493963, 'subsample': 0.9204843412807029, 'colsample_bytree': 0.7148576024950245}.\n",
      "[I 2025-05-16 11:13:21,259] Trial 18 finished with values: [0.5000061268315397, 0.0] and parameters: {'max_depth': 7, 'eta': 0.17613381694021335, 'subsample': 0.9599547938843999, 'colsample_bytree': 0.6439742175164138}.\n",
      "[I 2025-05-16 11:13:21,365] Trial 19 finished with values: [0.5000061268315397, 0.0] and parameters: {'max_depth': 6, 'eta': 0.2938727264956961, 'subsample': 0.6220664599844689, 'colsample_bytree': 0.6633276395491615}.\n",
      "[I 2025-05-16 11:13:21,468] Trial 20 finished with values: [0.5000061268315397, 0.0] and parameters: {'max_depth': 7, 'eta': 0.0376461507814805, 'subsample': 0.6667030158339952, 'colsample_bytree': 0.8220264702715794}.\n",
      "[I 2025-05-16 11:13:21,565] Trial 21 finished with values: [0.5000061268315397, 0.0] and parameters: {'max_depth': 3, 'eta': 0.06245468766264297, 'subsample': 0.9290297945352692, 'colsample_bytree': 0.9020953941753552}.\n",
      "[I 2025-05-16 11:13:21,660] Trial 22 finished with values: [0.5000061268315397, 0.0] and parameters: {'max_depth': 6, 'eta': 0.21491138970051382, 'subsample': 0.858432487262999, 'colsample_bytree': 0.8282084304306881}.\n",
      "[I 2025-05-16 11:13:21,783] Trial 23 finished with values: [0.5000061268315397, 0.0] and parameters: {'max_depth': 5, 'eta': 0.19005053493429705, 'subsample': 0.8173918130086976, 'colsample_bytree': 0.9210630193561649}.\n",
      "[I 2025-05-16 11:13:21,919] Trial 24 finished with values: [0.5000061268315397, 0.0] and parameters: {'max_depth': 7, 'eta': 0.01119600999576872, 'subsample': 0.7617120988414159, 'colsample_bytree': 0.7042497221349366}.\n",
      "[I 2025-05-16 11:13:22,036] Trial 25 finished with values: [0.5000061268315397, 0.0] and parameters: {'max_depth': 7, 'eta': 0.2888007984636503, 'subsample': 0.850473348825781, 'colsample_bytree': 0.6717056657039365}.\n",
      "[I 2025-05-16 11:13:22,163] Trial 26 finished with values: [0.5000061268315397, 0.0] and parameters: {'max_depth': 7, 'eta': 0.28947961800148964, 'subsample': 0.6050741833101141, 'colsample_bytree': 0.6617966454117855}.\n",
      "[I 2025-05-16 11:13:22,292] Trial 27 finished with values: [0.5000061268315397, 0.0] and parameters: {'max_depth': 7, 'eta': 0.017120063290159956, 'subsample': 0.6719825074309814, 'colsample_bytree': 0.6321937037167611}.\n",
      "[I 2025-05-16 11:13:22,443] Trial 28 finished with values: [0.5000061268315397, 0.0] and parameters: {'max_depth': 7, 'eta': 0.05184949213820416, 'subsample': 0.9955187442595385, 'colsample_bytree': 0.6147433305235683}.\n",
      "[I 2025-05-16 11:13:22,624] Trial 29 finished with values: [0.5000061268315397, 0.0] and parameters: {'max_depth': 4, 'eta': 0.21971204803696398, 'subsample': 0.656871315277808, 'colsample_bytree': 0.8350955443684283}.\n",
      "[I 2025-05-16 11:13:22,756] Trial 30 finished with values: [0.5000061268315397, 0.0] and parameters: {'max_depth': 7, 'eta': 0.04013490226766575, 'subsample': 0.8130250807118006, 'colsample_bytree': 0.6278451479680982}.\n",
      "[I 2025-05-16 11:13:22,883] Trial 31 finished with values: [0.5000061268315397, 0.0] and parameters: {'max_depth': 3, 'eta': 0.1784411108110106, 'subsample': 0.920251047167232, 'colsample_bytree': 0.9690806164872758}.\n",
      "[I 2025-05-16 11:13:23,034] Trial 32 finished with values: [0.5000061268315397, 0.0] and parameters: {'max_depth': 3, 'eta': 0.16333097017483525, 'subsample': 0.858098691277928, 'colsample_bytree': 0.9526519539345447}.\n",
      "[I 2025-05-16 11:13:23,151] Trial 33 finished with values: [0.5000061268315397, 0.0] and parameters: {'max_depth': 7, 'eta': 0.04225675618921111, 'subsample': 0.6253215141070552, 'colsample_bytree': 0.8283085410069858}.\n",
      "[I 2025-05-16 11:13:23,254] Trial 34 finished with values: [0.5000061268315397, 0.0] and parameters: {'max_depth': 4, 'eta': 0.19765523415896555, 'subsample': 0.794755381221268, 'colsample_bytree': 0.7884141001046348}.\n",
      "[I 2025-05-16 11:13:23,356] Trial 35 finished with values: [0.5000061268315397, 0.0] and parameters: {'max_depth': 7, 'eta': 0.06088323709505073, 'subsample': 0.9999841855269452, 'colsample_bytree': 0.6548020832249793}.\n",
      "[I 2025-05-16 11:13:23,462] Trial 36 finished with values: [0.5000061268315397, 0.0] and parameters: {'max_depth': 3, 'eta': 0.2777506863928288, 'subsample': 0.729310465224261, 'colsample_bytree': 0.7334063531554675}.\n",
      "[I 2025-05-16 11:13:23,572] Trial 37 finished with values: [0.5000061268315397, 0.0] and parameters: {'max_depth': 5, 'eta': 0.07637072552036157, 'subsample': 0.755750846038204, 'colsample_bytree': 0.7090166522239916}.\n",
      "[I 2025-05-16 11:13:23,686] Trial 38 finished with values: [0.5000061268315397, 0.0] and parameters: {'max_depth': 4, 'eta': 0.19208101686264786, 'subsample': 0.6605718721645283, 'colsample_bytree': 0.9328349104506752}.\n",
      "[I 2025-05-16 11:13:23,801] Trial 39 finished with values: [0.5000061268315397, 0.0] and parameters: {'max_depth': 6, 'eta': 0.13881976841098756, 'subsample': 0.826660764741007, 'colsample_bytree': 0.9755956936463092}.\n",
      "[I 2025-05-16 11:13:23,923] Trial 40 finished with values: [0.5000061268315397, 0.0] and parameters: {'max_depth': 5, 'eta': 0.11974132837542187, 'subsample': 0.8791609717728617, 'colsample_bytree': 0.7641251279409593}.\n",
      "[I 2025-05-16 11:13:24,017] Trial 41 finished with values: [0.5000061268315397, 0.0] and parameters: {'max_depth': 3, 'eta': 0.02175777699664938, 'subsample': 0.8244752853303078, 'colsample_bytree': 0.7099310542258169}.\n",
      "[I 2025-05-16 11:13:24,097] Trial 42 finished with values: [0.5000061268315397, 0.0] and parameters: {'max_depth': 4, 'eta': 0.07354243550289875, 'subsample': 0.8803865842052261, 'colsample_bytree': 0.9886066640705948}.\n",
      "[I 2025-05-16 11:13:24,184] Trial 43 finished with values: [0.5000061268315397, 0.0] and parameters: {'max_depth': 7, 'eta': 0.048399634394429215, 'subsample': 0.7532964491410955, 'colsample_bytree': 0.8595030110543818}.\n",
      "[I 2025-05-16 11:13:24,284] Trial 44 finished with values: [0.5000061268315397, 0.0] and parameters: {'max_depth': 6, 'eta': 0.23315589381419954, 'subsample': 0.9203066493008725, 'colsample_bytree': 0.6956935138368935}.\n",
      "[I 2025-05-16 11:13:24,387] Trial 45 finished with values: [0.5000061268315397, 0.0] and parameters: {'max_depth': 4, 'eta': 0.2802381561777241, 'subsample': 0.676230623765613, 'colsample_bytree': 0.6641618652596558}.\n",
      "[I 2025-05-16 11:13:24,496] Trial 46 finished with values: [0.5000061268315397, 0.0] and parameters: {'max_depth': 3, 'eta': 0.024865799025914827, 'subsample': 0.7387708437151338, 'colsample_bytree': 0.9025635036291877}.\n",
      "[I 2025-05-16 11:13:24,590] Trial 47 finished with values: [0.5000061268315397, 0.0] and parameters: {'max_depth': 7, 'eta': 0.18571005190126746, 'subsample': 0.8575240574782451, 'colsample_bytree': 0.8805452459682279}.\n",
      "[I 2025-05-16 11:13:24,670] Trial 48 finished with values: [0.5000061268315397, 0.0] and parameters: {'max_depth': 5, 'eta': 0.029217916995887196, 'subsample': 0.9694989284951925, 'colsample_bytree': 0.9278692040243095}.\n",
      "[I 2025-05-16 11:13:24,752] Trial 49 finished with values: [0.5000061268315397, 0.0] and parameters: {'max_depth': 7, 'eta': 0.19113623127629328, 'subsample': 0.6365199025493765, 'colsample_bytree': 0.7635811371627721}.\n",
      "[I 2025-05-16 11:13:24,767] A new study created in memory with name: no-name-f938fea0-33d3-4a3e-8901-9db13b1726f3\n",
      "[I 2025-05-16 11:13:24,903] Trial 0 finished with values: [0.6942894866634194, 0.05745854534267054] and parameters: {'max_depth': 5, 'eta': 0.12845431493957682, 'subsample': 0.8568310898050686, 'colsample_bytree': 0.8856383152240106}.\n"
     ]
    },
    {
     "name": "stdout",
     "output_type": "stream",
     "text": [
      "Completed study for alpha=0\n"
     ]
    },
    {
     "name": "stderr",
     "output_type": "stream",
     "text": [
      "[I 2025-05-16 11:13:25,117] Trial 1 finished with values: [0.7021379578657795, 0.06314616230362322] and parameters: {'max_depth': 6, 'eta': 0.26589168923854556, 'subsample': 0.7897562282613623, 'colsample_bytree': 0.9600111848863682}.\n",
      "[I 2025-05-16 11:13:25,260] Trial 2 finished with values: [0.6764374312646085, 0.045053618695635365] and parameters: {'max_depth': 4, 'eta': 0.06306784136966327, 'subsample': 0.74798241185463, 'colsample_bytree': 0.6551612112285078}.\n",
      "[I 2025-05-16 11:13:25,425] Trial 3 finished with values: [0.6978491757879871, 0.08431029941171075] and parameters: {'max_depth': 6, 'eta': 0.18242492595888532, 'subsample': 0.968494180092288, 'colsample_bytree': 0.9277864888887004}.\n",
      "[I 2025-05-16 11:13:25,594] Trial 4 finished with values: [0.692148159040293, 0.04711257309011945] and parameters: {'max_depth': 6, 'eta': 0.15633414111361582, 'subsample': 0.7677602996238255, 'colsample_bytree': 0.6515532718065272}.\n",
      "[I 2025-05-16 11:13:25,738] Trial 5 finished with values: [0.6942787647082249, 0.07894177068480368] and parameters: {'max_depth': 6, 'eta': 0.2393890965147139, 'subsample': 0.7193507331517323, 'colsample_bytree': 0.6361057705809968}.\n",
      "[I 2025-05-16 11:13:25,881] Trial 6 finished with values: [0.6985629516623626, 0.07841107118378407] and parameters: {'max_depth': 5, 'eta': 0.21107384611314364, 'subsample': 0.9568448309229832, 'colsample_bytree': 0.9476084082464159}.\n",
      "[I 2025-05-16 11:13:26,026] Trial 7 finished with values: [0.6628726262357053, 0.025176296558973837] and parameters: {'max_depth': 3, 'eta': 0.040178530383640956, 'subsample': 0.9207272050019933, 'colsample_bytree': 0.6329785997088513}.\n",
      "[I 2025-05-16 11:13:26,168] Trial 8 finished with values: [0.7092787800253039, 0.09885470636590778] and parameters: {'max_depth': 7, 'eta': 0.269857578745562, 'subsample': 0.907593470339484, 'colsample_bytree': 0.7181592585402926}.\n",
      "[I 2025-05-16 11:13:26,374] Trial 9 finished with values: [0.7107139903134794, 0.08383793688576098] and parameters: {'max_depth': 6, 'eta': 0.25101076697373814, 'subsample': 0.9114710344951983, 'colsample_bytree': 0.9881236581927464}.\n",
      "[I 2025-05-16 11:13:27,026] Trial 10 finished with values: [0.7007150012406833, 0.05682362325308201] and parameters: {'max_depth': 7, 'eta': 0.17594619470815662, 'subsample': 0.9375017422394593, 'colsample_bytree': 0.6281704721433908}.\n",
      "[I 2025-05-16 11:13:27,164] Trial 11 finished with values: [0.6707272242696051, 0.03565739200340126] and parameters: {'max_depth': 3, 'eta': 0.1605105969711438, 'subsample': 0.7933168439263767, 'colsample_bytree': 0.7683510901896534}.\n",
      "[I 2025-05-16 11:13:27,369] Trial 12 finished with values: [0.7107201171450189, 0.08243913299708339] and parameters: {'max_depth': 6, 'eta': 0.20913870400048118, 'subsample': 0.768300747214851, 'colsample_bytree': 0.7370323029552239}.\n",
      "[I 2025-05-16 11:13:27,571] Trial 13 finished with values: [0.6707180340222955, 0.0510966873772053] and parameters: {'max_depth': 4, 'eta': 0.028963607934721428, 'subsample': 0.9453936434470207, 'colsample_bytree': 0.8061121923122505}.\n",
      "[I 2025-05-16 11:13:27,699] Trial 14 finished with values: [0.712146137185885, 0.06583621366131566] and parameters: {'max_depth': 7, 'eta': 0.19884920787749213, 'subsample': 0.9893812716333122, 'colsample_bytree': 0.6111340420715392}.\n",
      "[I 2025-05-16 11:13:27,817] Trial 15 finished with values: [0.6814262038458122, 0.05569390973434685] and parameters: {'max_depth': 5, 'eta': 0.10004518804153367, 'subsample': 0.8008714793230529, 'colsample_bytree': 0.9194345969431432}.\n",
      "[I 2025-05-16 11:13:27,949] Trial 16 finished with values: [0.6864425471689444, 0.06541152146668872] and parameters: {'max_depth': 6, 'eta': 0.07103592211102588, 'subsample': 0.6585740705085262, 'colsample_bytree': 0.6823418739932197}.\n",
      "[I 2025-05-16 11:13:28,096] Trial 17 finished with values: [0.6864302935058649, 0.06818644611271109] and parameters: {'max_depth': 7, 'eta': 0.0331284187514572, 'subsample': 0.9545337122437658, 'colsample_bytree': 0.7147131717612304}.\n",
      "[I 2025-05-16 11:13:28,222] Trial 18 finished with values: [0.7164257290163678, 0.07388394399234902] and parameters: {'max_depth': 7, 'eta': 0.2161758570833563, 'subsample': 0.7921770952951196, 'colsample_bytree': 0.9267444189247861}.\n",
      "[I 2025-05-16 11:13:28,359] Trial 19 finished with values: [0.7214129698896864, 0.10581076448863501] and parameters: {'max_depth': 7, 'eta': 0.27926006398945585, 'subsample': 0.8218636333494963, 'colsample_bytree': 0.8238601358476214}.\n",
      "[I 2025-05-16 11:13:28,448] Trial 20 finished with values: [0.6621557869455601, 0.028901662210258094] and parameters: {'max_depth': 3, 'eta': 0.09119416795782977, 'subsample': 0.8233465686702504, 'colsample_bytree': 0.6982719396746665}.\n",
      "[I 2025-05-16 11:13:28,561] Trial 21 finished with values: [0.6842904975906235, 0.06375838393189213] and parameters: {'max_depth': 4, 'eta': 0.15719482817345362, 'subsample': 0.6723031795719808, 'colsample_bytree': 0.9768905179692478}.\n",
      "[I 2025-05-16 11:13:28,689] Trial 22 finished with values: [0.6707134388986408, 0.0445981707429293] and parameters: {'max_depth': 3, 'eta': 0.25052584362691444, 'subsample': 0.8431397644736113, 'colsample_bytree': 0.6805344156931399}.\n",
      "[I 2025-05-16 11:13:28,841] Trial 23 finished with values: [0.6907114170442327, 0.04768449083394247] and parameters: {'max_depth': 5, 'eta': 0.13495645255057218, 'subsample': 0.7653360540068992, 'colsample_bytree': 0.9072033083506752}.\n",
      "[I 2025-05-16 11:13:28,955] Trial 24 finished with values: [0.6742869133941728, 0.026073320657770627] and parameters: {'max_depth': 4, 'eta': 0.12024344839543714, 'subsample': 0.7064106482830574, 'colsample_bytree': 0.7157418163115328}.\n",
      "[I 2025-05-16 11:13:29,090] Trial 25 finished with values: [0.6942848915397647, 0.06541592290030003] and parameters: {'max_depth': 5, 'eta': 0.18916758285524654, 'subsample': 0.8300516737443726, 'colsample_bytree': 0.7087187679151117}.\n",
      "[I 2025-05-16 11:13:29,209] Trial 26 finished with values: [0.712124693275496, 0.07841003545368552] and parameters: {'max_depth': 7, 'eta': 0.1997192102757189, 'subsample': 0.9786180885846647, 'colsample_bytree': 0.7862553359946711}.\n",
      "[I 2025-05-16 11:13:29,366] Trial 27 finished with values: [0.6814353940931217, 0.06279423865169317] and parameters: {'max_depth': 4, 'eta': 0.16535197234902207, 'subsample': 0.708583089334617, 'colsample_bytree': 0.9121055375929885}.\n",
      "[I 2025-05-16 11:13:29,529] Trial 28 finished with values: [0.6892808018797117, 0.07985648064946586] and parameters: {'max_depth': 6, 'eta': 0.18630651569818396, 'subsample': 0.9974448651168362, 'colsample_bytree': 0.6610223137793338}.\n",
      "[I 2025-05-16 11:13:29,665] Trial 29 finished with values: [0.7099894924839094, 0.0883412117135382] and parameters: {'max_depth': 7, 'eta': 0.2720984598548654, 'subsample': 0.9287437080683139, 'colsample_bytree': 0.7100152278611682}.\n",
      "[I 2025-05-16 11:13:29,809] Trial 30 finished with values: [0.6850012100492292, 0.04488732913831384] and parameters: {'max_depth': 6, 'eta': 0.11295887423081533, 'subsample': 0.7657645645788081, 'colsample_bytree': 0.961895800886484}.\n",
      "[I 2025-05-16 11:13:29,983] Trial 31 finished with values: [0.6735746692276822, 0.0656960996393972] and parameters: {'max_depth': 6, 'eta': 0.04987941728598826, 'subsample': 0.6256307287195112, 'colsample_bytree': 0.7844034020998735}.\n",
      "[I 2025-05-16 11:13:30,102] Trial 32 finished with values: [0.6707134388986408, 0.04744506992166045] and parameters: {'max_depth': 4, 'eta': 0.09923002793425138, 'subsample': 0.8112923829414528, 'colsample_bytree': 0.97043489882118}.\n",
      "[I 2025-05-16 11:13:30,227] Trial 33 finished with values: [0.7078558234002078, 0.09218952064325885] and parameters: {'max_depth': 7, 'eta': 0.23176782096986473, 'subsample': 0.9197346838465017, 'colsample_bytree': 0.6630012324158785}.\n",
      "[I 2025-05-16 11:13:30,356] Trial 34 finished with values: [0.6757114017271538, 0.07264673778110121] and parameters: {'max_depth': 5, 'eta': 0.08693442266850908, 'subsample': 0.6356386620983261, 'colsample_bytree': 0.7891820883674971}.\n",
      "[I 2025-05-16 11:13:30,521] Trial 35 finished with values: [0.6828506921787931, 0.05841604984050333] and parameters: {'max_depth': 7, 'eta': 0.053285916291668366, 'subsample': 0.6831241319877859, 'colsample_bytree': 0.91872505363883}.\n",
      "[I 2025-05-16 11:13:30,636] Trial 36 finished with values: [0.6892976506664462, 0.08080787629171912] and parameters: {'max_depth': 5, 'eta': 0.25594614978708463, 'subsample': 0.6602508202211563, 'colsample_bytree': 0.753137727721134}.\n",
      "[I 2025-05-16 11:13:30,757] Trial 37 finished with values: [0.7142721477301621, 0.08011988805443805] and parameters: {'max_depth': 7, 'eta': 0.2909880088994966, 'subsample': 0.9279828713541697, 'colsample_bytree': 0.7159871847279979}.\n",
      "[I 2025-05-16 11:13:30,867] Trial 38 finished with values: [0.6671476229425334, 0.030192163009852613] and parameters: {'max_depth': 3, 'eta': 0.08062711718185499, 'subsample': 0.630582959310126, 'colsample_bytree': 0.6041178448059796}.\n",
      "[I 2025-05-16 11:13:31,004] Trial 39 finished with values: [0.7192869593454093, 0.08315807162422457] and parameters: {'max_depth': 6, 'eta': 0.2645038131487926, 'subsample': 0.8603098541882614, 'colsample_bytree': 0.9101949566354809}.\n",
      "[I 2025-05-16 11:13:31,149] Trial 40 finished with values: [0.6899930460462024, 0.08301868366903092] and parameters: {'max_depth': 7, 'eta': 0.10208934680750699, 'subsample': 0.8016587386760088, 'colsample_bytree': 0.8789749478299507}.\n",
      "[I 2025-05-16 11:13:31,305] Trial 41 finished with values: [0.7035716364460701, 0.08354057506334295] and parameters: {'max_depth': 6, 'eta': 0.27429676352033444, 'subsample': 0.9074693643220286, 'colsample_bytree': 0.9756992614263945}.\n",
      "[I 2025-05-16 11:13:31,421] Trial 42 finished with values: [0.6885823430841858, 0.10517304436794488] and parameters: {'max_depth': 5, 'eta': 0.21595101173821757, 'subsample': 0.6664194448823061, 'colsample_bytree': 0.7415379966077291}.\n",
      "[I 2025-05-16 11:13:31,520] Trial 43 finished with values: [0.6664353787760429, 0.03134314624292061] and parameters: {'max_depth': 3, 'eta': 0.12572707027201124, 'subsample': 0.9154545470455212, 'colsample_bytree': 0.8570612628418521}.\n",
      "[I 2025-05-16 11:13:31,655] Trial 44 finished with values: [0.7185655249316092, 0.07673646538136054] and parameters: {'max_depth': 7, 'eta': 0.23425540277082313, 'subsample': 0.8607481480644072, 'colsample_bytree': 0.6832440642738218}.\n",
      "[I 2025-05-16 11:13:31,781] Trial 45 finished with values: [0.7199884815567054, 0.07295249324362715] and parameters: {'max_depth': 7, 'eta': 0.23969472876850603, 'subsample': 0.9972230923469507, 'colsample_bytree': 0.991684407102642}.\n",
      "[I 2025-05-16 11:13:31,895] Trial 46 finished with values: [0.6864333569216349, 0.046171221027961194] and parameters: {'max_depth': 4, 'eta': 0.19808325258758072, 'subsample': 0.7956828648893547, 'colsample_bytree': 0.8076957849270188}.\n",
      "[I 2025-05-16 11:13:32,040] Trial 47 finished with values: [0.7085695992745832, 0.08285702417623142] and parameters: {'max_depth': 7, 'eta': 0.20915539440502195, 'subsample': 0.9337435995059299, 'colsample_bytree': 0.987386529599074}.\n",
      "[I 2025-05-16 11:13:32,182] Trial 48 finished with values: [0.6757052748956142, 0.06202315749818057] and parameters: {'max_depth': 5, 'eta': 0.08641640518935356, 'subsample': 0.67161077189868, 'colsample_bytree': 0.8849916529130661}.\n",
      "[I 2025-05-16 11:13:32,306] Trial 49 finished with values: [0.7085634724430435, 0.07805409695815686] and parameters: {'max_depth': 7, 'eta': 0.2014543743633554, 'subsample': 0.8670092406410239, 'colsample_bytree': 0.7860441599083027}.\n",
      "[I 2025-05-16 11:13:32,319] A new study created in memory with name: no-name-74840e64-e8e6-4b0f-8cab-9467dd15fedc\n",
      "[I 2025-05-16 11:13:32,421] Trial 0 finished with values: [0.6807108962635517, 0.04462073736446589] and parameters: {'max_depth': 4, 'eta': 0.2617570242888084, 'subsample': 0.8652683426601295, 'colsample_bytree': 0.8501994061684006}.\n"
     ]
    },
    {
     "name": "stdout",
     "output_type": "stream",
     "text": [
      "Completed study for alpha=1\n",
      "[{'accuracy': 0.5000061268315397, 'dpd': 0.0, 'alpha': 0, 'params': {'alpha': 0, 'max_depth': 6, 'eta': 0.13110633265877236, 'subsample': 0.8125360197138709, 'colsample_bytree': 0.7772282448273781}}, {'accuracy': 0.7214129698896864, 'dpd': 0.10581076448863501, 'alpha': 1, 'params': {'alpha': 1, 'max_depth': 7, 'eta': 0.27926006398945585, 'subsample': 0.8218636333494963, 'colsample_bytree': 0.8238601358476214}}]\n",
      "0\n"
     ]
    },
    {
     "name": "stderr",
     "output_type": "stream",
     "text": [
      "[I 2025-05-16 11:13:32,507] Trial 1 finished with values: [0.6742945719335974, 0.029715368588148706] and parameters: {'max_depth': 3, 'eta': 0.2624127443857211, 'subsample': 0.6398351480254919, 'colsample_bytree': 0.9273198177738456}.\n",
      "[I 2025-05-16 11:13:32,593] Trial 2 finished with values: [0.6742976353493672, 0.057803156772305846] and parameters: {'max_depth': 3, 'eta': 0.28080783237841106, 'subsample': 0.6181718122808142, 'colsample_bytree': 0.837916413058396}.\n",
      "[I 2025-05-16 11:13:32,701] Trial 3 finished with values: [0.666432315360273, 0.04994182214162388] and parameters: {'max_depth': 4, 'eta': 0.1705686695540982, 'subsample': 0.9161626847024184, 'colsample_bytree': 0.8485905178665168}.\n",
      "[I 2025-05-16 11:13:32,839] Trial 4 finished with values: [0.6828660092576424, 0.045312916176632] and parameters: {'max_depth': 7, 'eta': 0.1203245017352115, 'subsample': 0.794519582525799, 'colsample_bytree': 0.6548483030696385}.\n",
      "[I 2025-05-16 11:13:32,944] Trial 5 finished with values: [0.6750052843922031, 0.04025381713849025] and parameters: {'max_depth': 3, 'eta': 0.2577971784192043, 'subsample': 0.7581536391197677, 'colsample_bytree': 0.8896479715941112}.\n",
      "[I 2025-05-16 11:13:33,138] Trial 6 finished with values: [0.6635894655258506, 0.01826131349930891] and parameters: {'max_depth': 3, 'eta': 0.016070339395122226, 'subsample': 0.7416619736226164, 'colsample_bytree': 0.7415960703658465}.\n",
      "[I 2025-05-16 11:13:33,290] Trial 7 finished with values: [0.6635833386943109, 0.04427843643891307] and parameters: {'max_depth': 4, 'eta': 0.027963872159457066, 'subsample': 0.7896945093955036, 'colsample_bytree': 0.9790917408679256}.\n",
      "[I 2025-05-16 11:13:33,446] Trial 8 finished with values: [0.6614404793632996, 0.032737091106932625] and parameters: {'max_depth': 3, 'eta': 0.06417888427314397, 'subsample': 0.7486742650329323, 'colsample_bytree': 0.737845074896373}.\n",
      "[I 2025-05-16 11:13:33,568] Trial 9 finished with values: [0.6828583507182179, 0.040922998333988714] and parameters: {'max_depth': 4, 'eta': 0.27144807868417126, 'subsample': 0.8298779396678286, 'colsample_bytree': 0.6171589621207623}.\n",
      "[I 2025-05-16 11:13:33,684] Trial 10 finished with values: [0.6757175285586935, 0.05379459840147557] and parameters: {'max_depth': 7, 'eta': 0.15954312463612613, 'subsample': 0.889469427932044, 'colsample_bytree': 0.6083356046172028}.\n",
      "[I 2025-05-16 11:13:33,802] Trial 11 finished with values: [0.6707287559774899, 0.04527122749317893] and parameters: {'max_depth': 5, 'eta': 0.08010725741915506, 'subsample': 0.8058194165438722, 'colsample_bytree': 0.6248395251597677}.\n",
      "[I 2025-05-16 11:13:33,902] Trial 12 finished with values: [0.6814277355536972, 0.04442219256271083] and parameters: {'max_depth': 4, 'eta': 0.28457918115091785, 'subsample': 0.7518088463205593, 'colsample_bytree': 0.6225034040732155}.\n",
      "[I 2025-05-16 11:13:34,017] Trial 13 finished with values: [0.6821430431359575, 0.03926447544410452] and parameters: {'max_depth': 7, 'eta': 0.1508958942671058, 'subsample': 0.8135931314533141, 'colsample_bytree': 0.9955921347188751}.\n",
      "[I 2025-05-16 11:13:34,133] Trial 14 finished with values: [0.6807216182187462, 0.05830270551069513] and parameters: {'max_depth': 5, 'eta': 0.19461856595382737, 'subsample': 0.9139318362330289, 'colsample_bytree': 0.9087938645068987}.\n",
      "[I 2025-05-16 11:13:34,272] Trial 15 finished with values: [0.6907190755836572, 0.056101511372502376] and parameters: {'max_depth': 5, 'eta': 0.29877416424784353, 'subsample': 0.7916993284886165, 'colsample_bytree': 0.6086469586152145}.\n",
      "[I 2025-05-16 11:13:34,472] Trial 16 finished with values: [0.6785818223035048, 0.027001688672775165] and parameters: {'max_depth': 4, 'eta': 0.19722167976447025, 'subsample': 0.6602519639028233, 'colsample_bytree': 0.6271460252604734}.\n",
      "[I 2025-05-16 11:13:34,658] Trial 17 finished with values: [0.6771450803074445, 0.07269482168526428] and parameters: {'max_depth': 5, 'eta': 0.1832489709723434, 'subsample': 0.6919670369755988, 'colsample_bytree': 0.768835250893734}.\n",
      "[I 2025-05-16 11:13:34,805] Trial 18 finished with values: [0.6735807960592219, 0.04421250919865264] and parameters: {'max_depth': 4, 'eta': 0.12268437430341417, 'subsample': 0.6308035506501493, 'colsample_bytree': 0.98758241626148}.\n",
      "[I 2025-05-16 11:13:34,942] Trial 19 finished with values: [0.6857134542157196, 0.03810040618418176] and parameters: {'max_depth': 7, 'eta': 0.15723591356808686, 'subsample': 0.7834189896064891, 'colsample_bytree': 0.6307919489772779}.\n",
      "[I 2025-05-16 11:13:35,183] Trial 20 finished with values: [0.6628710945278204, 0.03467944510324177] and parameters: {'max_depth': 4, 'eta': 0.04244275049480834, 'subsample': 0.8969096777815606, 'colsample_bytree': 0.6348693344348165}.\n",
      "[I 2025-05-16 11:13:35,580] Trial 21 finished with values: [0.676428241017299, 0.06110248265913526] and parameters: {'max_depth': 5, 'eta': 0.16245867925877097, 'subsample': 0.8783434343055901, 'colsample_bytree': 0.8269318362208928}.\n",
      "[I 2025-05-16 11:13:35,788] Trial 22 finished with values: [0.6728532348138822, 0.04586414497308395] and parameters: {'max_depth': 4, 'eta': 0.19319041673645465, 'subsample': 0.9238885420256803, 'colsample_bytree': 0.8376882117054969}.\n",
      "[I 2025-05-16 11:13:35,899] Trial 23 finished with values: [0.6692950773971994, 0.03231596177652426] and parameters: {'max_depth': 3, 'eta': 0.19572036997280673, 'subsample': 0.9835422462439998, 'colsample_bytree': 0.9371734391314264}.\n",
      "[I 2025-05-16 11:13:36,037] Trial 24 finished with values: [0.6907221389994271, 0.09839645025837467] and parameters: {'max_depth': 6, 'eta': 0.25971725723779676, 'subsample': 0.6186815444223049, 'colsample_bytree': 0.8395733719369729}.\n",
      "[I 2025-05-16 11:13:36,255] Trial 25 finished with values: [0.6778603878897048, 0.053505219672443656] and parameters: {'max_depth': 5, 'eta': 0.21497890788898485, 'subsample': 0.7197251036514407, 'colsample_bytree': 0.6886779322347161}.\n",
      "[I 2025-05-16 11:13:36,481] Trial 26 finished with values: [0.6621496601140203, 0.037651931655887406] and parameters: {'max_depth': 5, 'eta': 0.07999511588400669, 'subsample': 0.7655898310475762, 'colsample_bytree': 0.7058282906597951}.\n",
      "[I 2025-05-16 11:13:36,630] Trial 27 finished with values: [0.662860372572626, 0.036459364549578384] and parameters: {'max_depth': 5, 'eta': 0.06150189717580181, 'subsample': 0.9149104318744297, 'colsample_bytree': 0.6438480685014516}.\n",
      "[I 2025-05-16 11:13:36,771] Trial 28 finished with values: [0.675706806603499, 0.07289263014926883] and parameters: {'max_depth': 7, 'eta': 0.10178229618103238, 'subsample': 0.9219900754617043, 'colsample_bytree': 0.8139088500562421}.\n",
      "[I 2025-05-16 11:13:36,997] Trial 29 finished with values: [0.6700011947321501, 0.06051586547384933] and parameters: {'max_depth': 6, 'eta': 0.013860333158256098, 'subsample': 0.7213490256916266, 'colsample_bytree': 0.9355599221576825}.\n",
      "[I 2025-05-16 11:13:37,100] Trial 30 finished with values: [0.668579769814939, 0.04188727928578386] and parameters: {'max_depth': 4, 'eta': 0.11057614510225085, 'subsample': 0.9423424883215696, 'colsample_bytree': 0.7547213140052121}.\n",
      "[I 2025-05-16 11:13:37,229] Trial 31 finished with values: [0.6835751900083631, 0.047958109617938775] and parameters: {'max_depth': 5, 'eta': 0.24209235872689733, 'subsample': 0.8147663328311772, 'colsample_bytree': 0.700705838429321}.\n",
      "[I 2025-05-16 11:13:37,363] Trial 32 finished with values: [0.6821430431359575, 0.06601614540158939] and parameters: {'max_depth': 6, 'eta': 0.19875459096613377, 'subsample': 0.9944759180028855, 'colsample_bytree': 0.8181514251585984}.\n",
      "[I 2025-05-16 11:13:37,499] Trial 33 finished with values: [0.6800078423443708, 0.0484175415405223] and parameters: {'max_depth': 3, 'eta': 0.24118621107965257, 'subsample': 0.6822188170355569, 'colsample_bytree': 0.9704269316496548}.\n",
      "[I 2025-05-16 11:13:37,654] Trial 34 finished with values: [0.6664307836523881, 0.06589728470742155] and parameters: {'max_depth': 6, 'eta': 0.09233240604405898, 'subsample': 0.6780004590689749, 'colsample_bytree': 0.7870483072388389}.\n",
      "[I 2025-05-16 11:13:37,774] Trial 35 finished with values: [0.6792879396384558, 0.035006021370835756] and parameters: {'max_depth': 4, 'eta': 0.2464257852506626, 'subsample': 0.9997337535727684, 'colsample_bytree': 0.6632869260293123}.\n",
      "[I 2025-05-16 11:13:37,906] Trial 36 finished with values: [0.6764358995567238, 0.04384550468472359] and parameters: {'max_depth': 7, 'eta': 0.18572418883231245, 'subsample': 0.6439975528668335, 'colsample_bytree': 0.6234254824013227}.\n",
      "[I 2025-05-16 11:13:38,030] Trial 37 finished with values: [0.6742853816862878, 0.05599324963075949] and parameters: {'max_depth': 6, 'eta': 0.1366700812019599, 'subsample': 0.9268458885319354, 'colsample_bytree': 0.8218504963176975}.\n",
      "[I 2025-05-16 11:13:38,149] Trial 38 finished with values: [0.6800001838049462, 0.05776957956760659] and parameters: {'max_depth': 4, 'eta': 0.29822388204508626, 'subsample': 0.9971421356247618, 'colsample_bytree': 0.8182053758669223}.\n",
      "[I 2025-05-16 11:13:38,295] Trial 39 finished with values: [0.6728608933533068, 0.05135977713412596] and parameters: {'max_depth': 6, 'eta': 0.11258441781247847, 'subsample': 0.9828175206098121, 'colsample_bytree': 0.7245320048402493}.\n",
      "[I 2025-05-16 11:13:38,465] Trial 40 finished with values: [0.6614251622844504, 0.07109982664105662] and parameters: {'max_depth': 5, 'eta': 0.042751708769870396, 'subsample': 0.842175449842344, 'colsample_bytree': 0.83982492807158}.\n",
      "[I 2025-05-16 11:13:38,581] Trial 41 finished with values: [0.6921466273324083, 0.05185441194443824] and parameters: {'max_depth': 6, 'eta': 0.2695522105551316, 'subsample': 0.6911100095698088, 'colsample_bytree': 0.6097974264094832}.\n",
      "[I 2025-05-16 11:13:38,699] Trial 42 finished with values: [0.6828706043812972, 0.04936955002474975] and parameters: {'max_depth': 4, 'eta': 0.21299951537161807, 'subsample': 0.7721187266340279, 'colsample_bytree': 0.7327911972906229}.\n",
      "[I 2025-05-16 11:13:38,824] Trial 43 finished with values: [0.6885654942974515, 0.06238615684602558] and parameters: {'max_depth': 7, 'eta': 0.15152222182820915, 'subsample': 0.8777626183130176, 'colsample_bytree': 0.8966392003507497}.\n",
      "[I 2025-05-16 11:13:38,933] Trial 44 finished with values: [0.6535812862057452, 0.021339202825973264] and parameters: {'max_depth': 3, 'eta': 0.08282180717580392, 'subsample': 0.9863495592547323, 'colsample_bytree': 0.914144238503618}.\n",
      "[I 2025-05-16 11:13:39,058] Trial 45 finished with values: [0.6842859024669687, 0.08708822132794387] and parameters: {'max_depth': 5, 'eta': 0.24640160926156204, 'subsample': 0.6557341028261686, 'colsample_bytree': 0.8015610033097175}.\n",
      "[I 2025-05-16 11:13:39,182] Trial 46 finished with values: [0.6821491699674972, 0.04595864399622165] and parameters: {'max_depth': 4, 'eta': 0.29576432369173156, 'subsample': 0.6650623201127813, 'colsample_bytree': 0.9724365323190864}.\n",
      "[I 2025-05-16 11:13:39,369] Trial 47 finished with values: [0.6628664994041656, 0.044966495597268535] and parameters: {'max_depth': 4, 'eta': 0.09083639314960877, 'subsample': 0.8902051785108263, 'colsample_bytree': 0.888917961054102}.\n",
      "[I 2025-05-16 11:13:39,533] Trial 48 finished with values: [0.6792955981778803, 0.054929752762856526] and parameters: {'max_depth': 7, 'eta': 0.09277832402666733, 'subsample': 0.8101574497503097, 'colsample_bytree': 0.6595838075677877}.\n",
      "[I 2025-05-16 11:13:39,663] Trial 49 finished with values: [0.673579264351337, 0.03660153891625655] and parameters: {'max_depth': 5, 'eta': 0.13296398151991887, 'subsample': 0.6697182176442983, 'colsample_bytree': 0.6933736556603293}.\n",
      "[I 2025-05-16 11:13:39,675] A new study created in memory with name: no-name-33eb1ff1-9825-46f0-9dab-4de01b946154\n"
     ]
    },
    {
     "name": "stdout",
     "output_type": "stream",
     "text": [
      "Completed study for alpha=0.5\n",
      "1\n"
     ]
    },
    {
     "name": "stderr",
     "output_type": "stream",
     "text": [
      "[I 2025-05-16 11:13:39,945] Trial 0 finished with values: [0.6664307836523881, 0.048071030251181264] and parameters: {'max_depth': 3, 'eta': 0.2572176345979193, 'subsample': 0.8184838404658128, 'colsample_bytree': 0.7710160735293519}.\n",
      "[I 2025-05-16 11:13:40,250] Trial 1 finished with values: [0.6771435485995595, 0.06454085060730323] and parameters: {'max_depth': 4, 'eta': 0.23012418591650474, 'subsample': 0.7854085054609474, 'colsample_bytree': 0.9238984968338867}.\n",
      "[I 2025-05-16 11:13:40,534] Trial 2 finished with values: [0.680004778928601, 0.05610800883719152] and parameters: {'max_depth': 5, 'eta': 0.2526045958089027, 'subsample': 0.9809783519617277, 'colsample_bytree': 0.8487107381438541}.\n",
      "[I 2025-05-16 11:13:40,814] Trial 3 finished with values: [0.6657292614410921, 0.02756271983606688] and parameters: {'max_depth': 3, 'eta': 0.12954980388649553, 'subsample': 0.6245480652115841, 'colsample_bytree': 0.9584086379881643}.\n",
      "[I 2025-05-16 11:13:40,956] Trial 4 finished with values: [0.6685782381070542, 0.03892547292061956] and parameters: {'max_depth': 4, 'eta': 0.11285235788817308, 'subsample': 0.9405073418319024, 'colsample_bytree': 0.9517427525074305}.\n",
      "[I 2025-05-16 11:13:41,063] Trial 5 finished with values: [0.6707241608538351, 0.043768227863796756] and parameters: {'max_depth': 3, 'eta': 0.2346659999425015, 'subsample': 0.9843454382143635, 'colsample_bytree': 0.7941679620978912}.\n",
      "[I 2025-05-16 11:13:41,169] Trial 6 finished with values: [0.6742976353493674, 0.01823233990931955] and parameters: {'max_depth': 3, 'eta': 0.22885599586720193, 'subsample': 0.726927920301955, 'colsample_bytree': 0.7047701832166079}.\n",
      "[I 2025-05-16 11:13:41,303] Trial 7 finished with values: [0.6721409906473917, 0.05398608998168536] and parameters: {'max_depth': 7, 'eta': 0.11127516732825413, 'subsample': 0.979290085245775, 'colsample_bytree': 0.8580285903019411}.\n",
      "[I 2025-05-16 11:13:41,412] Trial 8 finished with values: [0.6757236553902333, 0.042501647648035705] and parameters: {'max_depth': 4, 'eta': 0.15590610321822676, 'subsample': 0.6313711563566308, 'colsample_bytree': 0.9047429785960869}.\n",
      "[I 2025-05-16 11:13:41,524] Trial 9 finished with values: [0.6707103754828708, 0.03686070862070621] and parameters: {'max_depth': 6, 'eta': 0.16283096456892568, 'subsample': 0.751209923207021, 'colsample_bytree': 0.6592028902885004}.\n",
      "[I 2025-05-16 11:13:41,645] Trial 10 finished with values: [0.6835751900083631, 0.08378572220001297] and parameters: {'max_depth': 6, 'eta': 0.2920522092116489, 'subsample': 0.6830748825812546, 'colsample_bytree': 0.975618676530518}.\n",
      "[I 2025-05-16 11:13:41,756] Trial 11 finished with values: [0.6650047636115222, 0.04699310864734515] and parameters: {'max_depth': 6, 'eta': 0.1426917879331096, 'subsample': 0.6569162099467841, 'colsample_bytree': 0.7810626542466232}.\n",
      "[I 2025-05-16 11:13:41,880] Trial 12 finished with values: [0.663578743570656, 0.024137601580212182] and parameters: {'max_depth': 7, 'eta': 0.06585592539953047, 'subsample': 0.678749081603585, 'colsample_bytree': 0.7149320127018564}.\n",
      "[I 2025-05-16 11:13:41,976] Trial 13 finished with values: [0.661432820823875, 0.02610142462791573] and parameters: {'max_depth': 4, 'eta': 0.06178076021101582, 'subsample': 0.7173940086398298, 'colsample_bytree': 0.60677301820821}.\n",
      "[I 2025-05-16 11:13:42,069] Trial 14 finished with values: [0.6735884545986467, 0.04754328300346047] and parameters: {'max_depth': 3, 'eta': 0.2598309719255373, 'subsample': 0.6180594155409526, 'colsample_bytree': 0.824562032734954}.\n",
      "[I 2025-05-16 11:13:42,157] Trial 15 finished with values: [0.6792940664699954, 0.03564432349143885] and parameters: {'max_depth': 4, 'eta': 0.2466901502122978, 'subsample': 0.9535645055463683, 'colsample_bytree': 0.9832464058816153}.\n",
      "[I 2025-05-16 11:13:42,284] Trial 16 finished with values: [0.6714287464809011, 0.03620713997438909] and parameters: {'max_depth': 5, 'eta': 0.03313365252234423, 'subsample': 0.9381589574036392, 'colsample_bytree': 0.9789933415822727}.\n",
      "[I 2025-05-16 11:13:42,420] Trial 17 finished with values: [0.6700042581479201, 0.042835621438821136] and parameters: {'max_depth': 6, 'eta': 0.16332280166363985, 'subsample': 0.9162390449777948, 'colsample_bytree': 0.8302003144046703}.\n",
      "[I 2025-05-16 11:13:42,507] Trial 18 finished with values: [0.6728608933533068, 0.023532993982545953] and parameters: {'max_depth': 4, 'eta': 0.20256624168194545, 'subsample': 0.8015681003309421, 'colsample_bytree': 0.6219974404563731}.\n",
      "[I 2025-05-16 11:13:42,630] Trial 19 finished with values: [0.6607190449494996, 0.028393066862466232] and parameters: {'max_depth': 4, 'eta': 0.07894482051431963, 'subsample': 0.940051399022341, 'colsample_bytree': 0.9022129941001409}.\n",
      "[I 2025-05-16 11:13:42,723] Trial 20 finished with values: [0.6685858966464787, 0.04085459131251298] and parameters: {'max_depth': 3, 'eta': 0.2664194611208681, 'subsample': 0.621766403220334, 'colsample_bytree': 0.8253824649716084}.\n",
      "[I 2025-05-16 11:13:42,846] Trial 21 finished with values: [0.6664292519445031, 0.04515771666740117] and parameters: {'max_depth': 4, 'eta': 0.0694033166583923, 'subsample': 0.9258138115421617, 'colsample_bytree': 0.7831023373472121}.\n",
      "[I 2025-05-16 11:13:43,036] Trial 22 finished with values: [0.6657216029016674, 0.054023363155966536] and parameters: {'max_depth': 7, 'eta': 0.03257865177308145, 'subsample': 0.9535185454839791, 'colsample_bytree': 0.7895765790181202}.\n",
      "[I 2025-05-16 11:13:43,145] Trial 23 finished with values: [0.668581301522824, 0.03403126384641878] and parameters: {'max_depth': 5, 'eta': 0.1348317884285957, 'subsample': 0.9476928064693436, 'colsample_bytree': 0.6626206212131174}.\n",
      "[I 2025-05-16 11:13:43,313] Trial 24 finished with values: [0.6678705890642184, 0.047812039148512696] and parameters: {'max_depth': 6, 'eta': 0.01633890880599192, 'subsample': 0.6823377056028218, 'colsample_bytree': 0.8431214718477147}.\n",
      "[I 2025-05-16 11:13:43,480] Trial 25 finished with values: [0.6764404946803785, 0.04265007235318455] and parameters: {'max_depth': 7, 'eta': 0.10759968087961427, 'subsample': 0.9574074547466062, 'colsample_bytree': 0.6471600754965053}.\n",
      "[I 2025-05-16 11:13:43,622] Trial 26 finished with values: [0.6814277355536972, 0.041819107035746594] and parameters: {'max_depth': 5, 'eta': 0.03915004263047274, 'subsample': 0.8800004493830238, 'colsample_bytree': 0.9306094184394156}.\n",
      "[I 2025-05-16 11:13:43,733] Trial 27 finished with values: [0.6664307836523881, 0.048276733060019755] and parameters: {'max_depth': 4, 'eta': 0.1966100804294147, 'subsample': 0.8110881851364173, 'colsample_bytree': 0.8285235754531624}.\n",
      "[I 2025-05-16 11:13:43,877] Trial 28 finished with values: [0.6714379367282106, 0.030332753787598088] and parameters: {'max_depth': 6, 'eta': 0.16592772360362942, 'subsample': 0.6300744865495902, 'colsample_bytree': 0.651114031024291}.\n",
      "[I 2025-05-16 11:13:44,054] Trial 29 finished with values: [0.6721425223552765, 0.05196292489354965] and parameters: {'max_depth': 5, 'eta': 0.20490196350614454, 'subsample': 0.7151625038517218, 'colsample_bytree': 0.992206974032438}.\n",
      "[I 2025-05-16 11:13:44,345] Trial 30 finished with values: [0.6585715904948336, 0.026224434801569718] and parameters: {'max_depth': 4, 'eta': 0.11364238856638649, 'subsample': 0.7177177880243911, 'colsample_bytree': 0.939970017702472}.\n",
      "[I 2025-05-16 11:13:44,514] Trial 31 finished with values: [0.6735746692276822, 0.04725261377203082] and parameters: {'max_depth': 7, 'eta': 0.10974678790408628, 'subsample': 0.9567607290174083, 'colsample_bytree': 0.6134107353472745}.\n",
      "[I 2025-05-16 11:13:44,696] Trial 32 finished with values: [0.6707226291459504, 0.04243147763974176] and parameters: {'max_depth': 6, 'eta': 0.04763567028312024, 'subsample': 0.7091981231231906, 'colsample_bytree': 0.845973616546675}.\n",
      "[I 2025-05-16 11:13:44,838] Trial 33 finished with values: [0.6728716153085013, 0.040799009103775964] and parameters: {'max_depth': 3, 'eta': 0.28923195010189856, 'subsample': 0.9425724274556471, 'colsample_bytree': 0.9957794016040248}.\n",
      "[I 2025-05-16 11:13:44,999] Trial 34 finished with values: [0.680004778928601, 0.02817230759053546] and parameters: {'max_depth': 6, 'eta': 0.21400661914158567, 'subsample': 0.8098767746327925, 'colsample_bytree': 0.6268039268454052}.\n",
      "[I 2025-05-16 11:13:45,142] Trial 35 finished with values: [0.6807170230950915, 0.029762820964773302] and parameters: {'max_depth': 6, 'eta': 0.2630701659722478, 'subsample': 0.860526191981151, 'colsample_bytree': 0.6681336004116245}.\n",
      "[I 2025-05-16 11:13:45,245] Trial 36 finished with values: [0.6621481284061354, 0.0362525877457534] and parameters: {'max_depth': 4, 'eta': 0.28317568678473715, 'subsample': 0.8256102106192219, 'colsample_bytree': 0.8620200315270019}.\n",
      "[I 2025-05-16 11:13:45,340] Trial 37 finished with values: [0.6657216029016674, 0.0285150349012158] and parameters: {'max_depth': 5, 'eta': 0.1505347999328185, 'subsample': 0.6554964578655285, 'colsample_bytree': 0.6830708074014402}.\n",
      "[I 2025-05-16 11:13:45,444] Trial 38 finished with values: [0.6721394589395068, 0.04003228137681464] and parameters: {'max_depth': 6, 'eta': 0.16946847587115024, 'subsample': 0.7528065646981348, 'colsample_bytree': 0.8190166344949854}.\n",
      "[I 2025-05-16 11:13:45,672] Trial 39 finished with values: [0.6557256772446413, 0.03848807284993807] and parameters: {'max_depth': 5, 'eta': 0.010815724311908536, 'subsample': 0.6472088775238788, 'colsample_bytree': 0.6045828240151986}.\n",
      "[I 2025-05-16 11:13:45,788] Trial 40 finished with values: [0.6764343678488388, 0.03631340936398338] and parameters: {'max_depth': 6, 'eta': 0.1520782545978867, 'subsample': 0.8761233192687923, 'colsample_bytree': 0.7479047160337543}.\n",
      "[I 2025-05-16 11:13:45,893] Trial 41 finished with values: [0.6578654731598828, 0.04144513467816344] and parameters: {'max_depth': 4, 'eta': 0.059999031243823435, 'subsample': 0.8353233669468414, 'colsample_bytree': 0.755762417750455}.\n",
      "[I 2025-05-16 11:13:45,976] Trial 42 finished with values: [0.665006295319407, 0.022355008215694694] and parameters: {'max_depth': 3, 'eta': 0.26027722100000317, 'subsample': 0.9370365399903926, 'colsample_bytree': 0.7711274690973398}.\n",
      "[I 2025-05-16 11:13:46,092] Trial 43 finished with values: [0.6728654884769615, 0.04502780121221942] and parameters: {'max_depth': 5, 'eta': 0.18313497133296056, 'subsample': 0.9579773894341733, 'colsample_bytree': 0.8586867202157265}.\n",
      "[I 2025-05-16 11:13:46,214] Trial 44 finished with values: [0.6828614141339878, 0.040573642948588506] and parameters: {'max_depth': 6, 'eta': 0.17359787753619418, 'subsample': 0.6188130003199758, 'colsample_bytree': 0.9234312305277673}.\n",
      "[I 2025-05-16 11:13:46,345] Trial 45 finished with values: [0.6757190602665784, 0.04543824950969427] and parameters: {'max_depth': 5, 'eta': 0.03982099086532637, 'subsample': 0.7958933912460342, 'colsample_bytree': 0.9604370977357464}.\n",
      "[I 2025-05-16 11:13:46,460] Trial 46 finished with values: [0.6735777326434521, 0.05585828587589142] and parameters: {'max_depth': 5, 'eta': 0.14616247791534356, 'subsample': 0.8036484229905856, 'colsample_bytree': 0.8252260069565861}.\n",
      "[I 2025-05-16 11:13:46,602] Trial 47 finished with values: [0.6600098641987789, 0.024805203849102054] and parameters: {'max_depth': 3, 'eta': 0.1307372944072267, 'subsample': 0.8694935407003577, 'colsample_bytree': 0.6621654196007747}.\n",
      "[I 2025-05-16 11:13:46,810] Trial 48 finished with values: [0.6585792490342582, 0.021053154752981567] and parameters: {'max_depth': 4, 'eta': 0.01938242977624505, 'subsample': 0.6819684812114375, 'colsample_bytree': 0.71391601472462}.\n",
      "[I 2025-05-16 11:13:46,947] Trial 49 finished with values: [0.6714302781887861, 0.0517152997581297] and parameters: {'max_depth': 5, 'eta': 0.09687291866225067, 'subsample': 0.7529008238994821, 'colsample_bytree': 0.9485117855168117}.\n",
      "[I 2025-05-16 11:13:46,958] A new study created in memory with name: no-name-9ee03a32-4606-4ae0-b3f9-1d3b472e37e6\n",
      "[I 2025-05-16 11:13:47,114] Trial 0 finished with values: [0.665009358735177, 0.021921328663774765] and parameters: {'max_depth': 6, 'eta': 0.1653212494455189, 'subsample': 0.9199743501610416, 'colsample_bytree': 0.7502243785512304}.\n"
     ]
    },
    {
     "name": "stdout",
     "output_type": "stream",
     "text": [
      "Completed study for alpha=0.25\n",
      "2\n"
     ]
    },
    {
     "name": "stderr",
     "output_type": "stream",
     "text": [
      "[I 2025-05-16 11:13:47,321] Trial 1 finished with values: [0.6735853911828767, 0.026546298189713418] and parameters: {'max_depth': 4, 'eta': 0.23840996199748823, 'subsample': 0.7415108146764784, 'colsample_bytree': 0.9378795974204188}.\n",
      "[I 2025-05-16 11:13:47,413] Trial 2 finished with values: [0.6678659939405636, 0.025748875256769416] and parameters: {'max_depth': 4, 'eta': 0.2109746719744898, 'subsample': 0.6988117679591752, 'colsample_bytree': 0.8691682995864208}.\n",
      "[I 2025-05-16 11:13:47,548] Trial 3 finished with values: [0.667878247603643, 0.022826703927029197] and parameters: {'max_depth': 7, 'eta': 0.2524697758562607, 'subsample': 0.6465345415759733, 'colsample_bytree': 0.6574239731791408}.\n",
      "[I 2025-05-16 11:13:47,742] Trial 4 finished with values: [0.6635879338179658, 0.023171520595541423] and parameters: {'max_depth': 3, 'eta': 0.011890619930138149, 'subsample': 0.6352685040396775, 'colsample_bytree': 0.7371773154205863}.\n",
      "[I 2025-05-16 11:13:47,843] Trial 5 finished with values: [0.6642879243213768, 0.027521383291637697] and parameters: {'max_depth': 6, 'eta': 0.23461355091379993, 'subsample': 0.7455146148872238, 'colsample_bytree': 0.846873660065251}.\n",
      "[I 2025-05-16 11:13:47,946] Trial 6 finished with values: [0.6528659786234847, 0.018286942503808513] and parameters: {'max_depth': 4, 'eta': 0.13395572397154656, 'subsample': 0.9760410780707323, 'colsample_bytree': 0.9977858734821942}.\n",
      "[I 2025-05-16 11:13:48,064] Trial 7 finished with values: [0.6750160063473974, 0.0320777825328561] and parameters: {'max_depth': 5, 'eta': 0.2874676957480849, 'subsample': 0.6580548753954673, 'colsample_bytree': 0.8769885762831462}.\n",
      "[I 2025-05-16 11:13:48,172] Trial 8 finished with values: [0.6593068102795979, 0.03529643161385296] and parameters: {'max_depth': 5, 'eta': 0.15458546682494162, 'subsample': 0.8209114313209318, 'colsample_bytree': 0.7546137588461389}.\n",
      "[I 2025-05-16 11:13:48,449] Trial 9 finished with values: [0.6628741579435903, 0.015601325052791984] and parameters: {'max_depth': 4, 'eta': 0.023322231569484868, 'subsample': 0.6340493625721892, 'colsample_bytree': 0.713456686141458}.\n",
      "[I 2025-05-16 11:13:48,592] Trial 10 finished with values: [0.665730793148977, 0.015159159871311806] and parameters: {'max_depth': 4, 'eta': 0.20128537469749572, 'subsample': 0.6016292283910759, 'colsample_bytree': 0.7618945055390534}.\n",
      "[I 2025-05-16 11:13:48,803] Trial 11 finished with values: [0.6614404793632996, 0.019296525813199683] and parameters: {'max_depth': 7, 'eta': 0.024729463495489816, 'subsample': 0.692145001657988, 'colsample_bytree': 0.798980162936486}.\n",
      "[I 2025-05-16 11:13:48,910] Trial 12 finished with values: [0.6621557869455601, 0.030962901511599455] and parameters: {'max_depth': 5, 'eta': 0.17691216320389544, 'subsample': 0.755321496880723, 'colsample_bytree': 0.8802541903443326}.\n",
      "[I 2025-05-16 11:13:49,014] Trial 13 finished with values: [0.6585807807421431, 0.023541923286047844] and parameters: {'max_depth': 4, 'eta': 0.14147941528456953, 'subsample': 0.9982057145402603, 'colsample_bytree': 0.8918152355081121}.\n",
      "[I 2025-05-16 11:13:49,137] Trial 14 finished with values: [0.6657292614410921, 0.012695241022489256] and parameters: {'max_depth': 4, 'eta': 0.18685287840676704, 'subsample': 0.6726069729380003, 'colsample_bytree': 0.7192504922614937}.\n",
      "[I 2025-05-16 11:13:49,282] Trial 15 finished with values: [0.651433831751079, 0.02058712220002626] and parameters: {'max_depth': 4, 'eta': 0.09322417969583326, 'subsample': 0.9001857480718033, 'colsample_bytree': 0.988755460182553}.\n",
      "[I 2025-05-16 11:13:49,395] Trial 16 finished with values: [0.6621557869455601, 0.017148664528241663] and parameters: {'max_depth': 4, 'eta': 0.12573878341841085, 'subsample': 0.7431953279496756, 'colsample_bytree': 0.9209922928183577}.\n",
      "[I 2025-05-16 11:13:49,521] Trial 17 finished with values: [0.655731804076181, 0.014505276407454156] and parameters: {'max_depth': 5, 'eta': 0.0667221447727633, 'subsample': 0.6914493626037861, 'colsample_bytree': 0.7039455766083946}.\n",
      "[I 2025-05-16 11:13:49,638] Trial 18 finished with values: [0.6564394531190167, 0.011395143106079725] and parameters: {'max_depth': 3, 'eta': 0.032748909982704036, 'subsample': 0.6366397568347398, 'colsample_bytree': 0.721063338041739}.\n",
      "[I 2025-05-16 11:13:49,756] Trial 19 finished with values: [0.6593022151559432, 0.02023098614990147] and parameters: {'max_depth': 4, 'eta': 0.08307436364304785, 'subsample': 0.8154689332638853, 'colsample_bytree': 0.7328659890250233}.\n",
      "[I 2025-05-16 11:13:49,896] Trial 20 finished with values: [0.6578700682835376, 0.016583715144292105] and parameters: {'max_depth': 5, 'eta': 0.03978215884701812, 'subsample': 0.8864438317126306, 'colsample_bytree': 0.8060511633264227}.\n",
      "[I 2025-05-16 11:13:49,993] Trial 21 finished with values: [0.6614374159475299, 0.016974410636079445] and parameters: {'max_depth': 4, 'eta': 0.18950034631072193, 'subsample': 0.7691502685918497, 'colsample_bytree': 0.9596616948022223}.\n",
      "[I 2025-05-16 11:13:50,093] Trial 22 finished with values: [0.6692950773971994, 0.024079503255137413] and parameters: {'max_depth': 4, 'eta': 0.22792909210778178, 'subsample': 0.7600926059047439, 'colsample_bytree': 0.9634746683504275}.\n",
      "[I 2025-05-16 11:13:50,203] Trial 23 finished with values: [0.6685782381070542, 0.028966008225225288] and parameters: {'max_depth': 7, 'eta': 0.2502017667075567, 'subsample': 0.9435054303620929, 'colsample_bytree': 0.6091079061573259}.\n",
      "[I 2025-05-16 11:13:50,296] Trial 24 finished with values: [0.659283834661324, 0.028147057975138206] and parameters: {'max_depth': 6, 'eta': 0.1878824134343745, 'subsample': 0.7133757641896816, 'colsample_bytree': 0.799032678672083}.\n",
      "[I 2025-05-16 11:13:50,382] Trial 25 finished with values: [0.6692904822735445, 0.045882924383234706] and parameters: {'max_depth': 6, 'eta': 0.253739913927205, 'subsample': 0.9862472892390202, 'colsample_bytree': 0.8199358596562931}.\n",
      "[I 2025-05-16 11:13:50,529] Trial 26 finished with values: [0.6628726262357053, 0.015579632064619495] and parameters: {'max_depth': 7, 'eta': 0.016570336738137948, 'subsample': 0.81406263876404, 'colsample_bytree': 0.6105044047413531}.\n",
      "[I 2025-05-16 11:13:50,633] Trial 27 finished with values: [0.6621420015745957, 0.024055382268508934] and parameters: {'max_depth': 7, 'eta': 0.1609600890184727, 'subsample': 0.955914887391786, 'colsample_bytree': 0.8458502592215832}.\n",
      "[I 2025-05-16 11:13:50,748] Trial 28 finished with values: [0.6671552814819579, 0.029618391167019743] and parameters: {'max_depth': 4, 'eta': 0.2776141148656774, 'subsample': 0.9126644532429941, 'colsample_bytree': 0.9920195910649954}.\n",
      "[I 2025-05-16 11:13:50,867] Trial 29 finished with values: [0.668584364938594, 0.02244401122522699] and parameters: {'max_depth': 7, 'eta': 0.2670169639386602, 'subsample': 0.8253608163152761, 'colsample_bytree': 0.6922013137513813}.\n",
      "[I 2025-05-16 11:13:51,045] Trial 30 finished with values: [0.6635848704021959, 0.02403810929338453] and parameters: {'max_depth': 5, 'eta': 0.21043127586854582, 'subsample': 0.8328954267543497, 'colsample_bytree': 0.9727686283600923}.\n",
      "[I 2025-05-16 11:13:51,191] Trial 31 finished with values: [0.6557256772446413, 0.02619106186053428] and parameters: {'max_depth': 5, 'eta': 0.1188553800375097, 'subsample': 0.8076205663073519, 'colsample_bytree': 0.9949222913923902}.\n",
      "[I 2025-05-16 11:13:51,323] Trial 32 finished with values: [0.6614435427790696, 0.023465304600919546] and parameters: {'max_depth': 4, 'eta': 0.03550982742261468, 'subsample': 0.7061334646429132, 'colsample_bytree': 0.6590169487335797}.\n",
      "[I 2025-05-16 11:13:51,439] Trial 33 finished with values: [0.6600144593224337, 0.02772346538505993] and parameters: {'max_depth': 5, 'eta': 0.03563775557886024, 'subsample': 0.9817889181687136, 'colsample_bytree': 0.9999452740927968}.\n",
      "[I 2025-05-16 11:13:51,699] Trial 34 finished with values: [0.6621649771928696, 0.019079218000213043] and parameters: {'max_depth': 4, 'eta': 0.03440643550097137, 'subsample': 0.6468221804007748, 'colsample_bytree': 0.9641165701023333}.\n",
      "[I 2025-05-16 11:13:51,902] Trial 35 finished with values: [0.6571624192407017, 0.02009966872536284] and parameters: {'max_depth': 3, 'eta': 0.018564277582896194, 'subsample': 0.8848829757796712, 'colsample_bytree': 0.6217819532156349}.\n",
      "[I 2025-05-16 11:13:52,101] Trial 36 finished with values: [0.6600144593224337, 0.015637209720294264] and parameters: {'max_depth': 4, 'eta': 0.028379848769336226, 'subsample': 0.6594267943402996, 'colsample_bytree': 0.7012017323789647}.\n",
      "[I 2025-05-16 11:13:52,262] Trial 37 finished with values: [0.6600098641987789, 0.019121243090263102] and parameters: {'max_depth': 6, 'eta': 0.1387395333846565, 'subsample': 0.9031451668243344, 'colsample_bytree': 0.6160902381602107}.\n",
      "[I 2025-05-16 11:13:52,398] Trial 38 finished with values: [0.6778695781370142, 0.016805066191602786] and parameters: {'max_depth': 7, 'eta': 0.2830981789333591, 'subsample': 0.9500252783328357, 'colsample_bytree': 0.6870654346231624}.\n",
      "[I 2025-05-16 11:13:52,521] Trial 39 finished with values: [0.6628664994041656, 0.021774909230378375] and parameters: {'max_depth': 6, 'eta': 0.26330236750835234, 'subsample': 0.7697176978165433, 'colsample_bytree': 0.947684091614986}.\n",
      "[I 2025-05-16 11:13:52,642] Trial 40 finished with values: [0.6792971298857652, 0.02808464104371744] and parameters: {'max_depth': 7, 'eta': 0.17535814046046966, 'subsample': 0.6146817292131994, 'colsample_bytree': 0.9003653941725015}.\n",
      "[I 2025-05-16 11:13:52,877] Trial 41 finished with values: [0.6600175227382036, 0.014338809096776567] and parameters: {'max_depth': 4, 'eta': 0.05997683060105577, 'subsample': 0.73614696738066, 'colsample_bytree': 0.7138215081013752}.\n",
      "[I 2025-05-16 11:13:53,039] Trial 42 finished with values: [0.6650124221509467, 0.01925758984933602] and parameters: {'max_depth': 5, 'eta': 0.15690796831930565, 'subsample': 0.6090721629852598, 'colsample_bytree': 0.8052399471884645}.\n",
      "[I 2025-05-16 11:13:53,316] Trial 43 finished with values: [0.6593006834480583, 0.02927121141556131] and parameters: {'max_depth': 6, 'eta': 0.21345258722978774, 'subsample': 0.7407598340085406, 'colsample_bytree': 0.7682512696033004}.\n",
      "[I 2025-05-16 11:13:53,520] Trial 44 finished with values: [0.6785879491350446, 0.037858462511151825] and parameters: {'max_depth': 7, 'eta': 0.2940824275458479, 'subsample': 0.6897110799550954, 'colsample_bytree': 0.9271669222357053}.\n",
      "[I 2025-05-16 11:13:53,774] Trial 45 finished with values: [0.6707195657301804, 0.01724781171731869] and parameters: {'max_depth': 6, 'eta': 0.2675907129657186, 'subsample': 0.9892384041136555, 'colsample_bytree': 0.7174085941035591}.\n",
      "[I 2025-05-16 11:13:53,922] Trial 46 finished with values: [0.672880805555811, 0.037912250921034195] and parameters: {'max_depth': 5, 'eta': 0.2865578366116421, 'subsample': 0.6815846238432056, 'colsample_bytree': 0.919663204955951}.\n",
      "[I 2025-05-16 11:13:54,048] Trial 47 finished with values: [0.6621481284061354, 0.026466988667995645] and parameters: {'max_depth': 4, 'eta': 0.18416034862221212, 'subsample': 0.6998442157577541, 'colsample_bytree': 0.6488469486943449}.\n",
      "[I 2025-05-16 11:13:54,151] Trial 48 finished with values: [0.6664445690233525, 0.02490807338875381] and parameters: {'max_depth': 4, 'eta': 0.1835912175177285, 'subsample': 0.600261601442031, 'colsample_bytree': 0.8037263333286248}.\n",
      "[I 2025-05-16 11:13:54,268] Trial 49 finished with values: [0.6678598671090238, 0.029280584566762507] and parameters: {'max_depth': 7, 'eta': 0.2749197714360395, 'subsample': 0.7250615591128479, 'colsample_bytree': 0.729175264261483}.\n",
      "[I 2025-05-16 11:13:54,279] A new study created in memory with name: no-name-9056fc6c-8a9c-4a19-b68d-7b2ea98793ae\n",
      "[I 2025-05-16 11:13:54,401] Trial 0 finished with values: [0.6971353999136117, 0.0733549313106022] and parameters: {'max_depth': 6, 'eta': 0.16575860304850545, 'subsample': 0.9230276962435402, 'colsample_bytree': 0.8990512478408781}.\n"
     ]
    },
    {
     "name": "stdout",
     "output_type": "stream",
     "text": [
      "Completed study for alpha=0.125\n",
      "3\n"
     ]
    },
    {
     "name": "stderr",
     "output_type": "stream",
     "text": [
      "[I 2025-05-16 11:13:54,539] Trial 1 finished with values: [0.6592945566165186, 0.021544866733456448] and parameters: {'max_depth': 3, 'eta': 0.11314826037995525, 'subsample': 0.9245710353120444, 'colsample_bytree': 0.671979559620599}.\n",
      "[I 2025-05-16 11:13:54,691] Trial 2 finished with values: [0.6849981466334594, 0.05766853068701072] and parameters: {'max_depth': 7, 'eta': 0.06726077612052764, 'subsample': 0.8720942248884747, 'colsample_bytree': 0.9721969421502582}.\n",
      "[I 2025-05-16 11:13:54,841] Trial 3 finished with values: [0.6621603820692149, 0.038657856329516994] and parameters: {'max_depth': 3, 'eta': 0.03851108821854725, 'subsample': 0.8199139264612976, 'colsample_bytree': 0.8574964067492821}.\n",
      "[I 2025-05-16 11:13:54,965] Trial 4 finished with values: [0.6921450956245233, 0.07877544951934136] and parameters: {'max_depth': 7, 'eta': 0.15318806393974344, 'subsample': 0.7456808876517407, 'colsample_bytree': 0.8472940461475401}.\n",
      "[I 2025-05-16 11:13:55,073] Trial 5 finished with values: [0.6692889505656597, 0.0374791045465399] and parameters: {'max_depth': 4, 'eta': 0.10426485904028873, 'subsample': 0.7315198051248673, 'colsample_bytree': 0.6738862374917743}.\n",
      "[I 2025-05-16 11:13:55,184] Trial 6 finished with values: [0.6571455704539676, 0.02846563566886029] and parameters: {'max_depth': 3, 'eta': 0.11113141520013506, 'subsample': 0.958872551238503, 'colsample_bytree': 0.8340567392278313}.\n",
      "[I 2025-05-16 11:13:55,277] Trial 7 finished with values: [0.6614297574081052, 0.026339189195404733] and parameters: {'max_depth': 3, 'eta': 0.19928877716150567, 'subsample': 0.9910620203684166, 'colsample_bytree': 0.8212484649471413}.\n",
      "[I 2025-05-16 11:13:55,385] Trial 8 finished with values: [0.6657200711937824, 0.045970638912438876] and parameters: {'max_depth': 4, 'eta': 0.04953864219430094, 'subsample': 0.7676471623852799, 'colsample_bytree': 0.7082908058949569}.\n",
      "[I 2025-05-16 11:13:55,515] Trial 9 finished with values: [0.6792879396384558, 0.0709715982077411] and parameters: {'max_depth': 7, 'eta': 0.05521384980977383, 'subsample': 0.8850165123589058, 'colsample_bytree': 0.7476468427241764}.\n",
      "[I 2025-05-16 11:13:55,610] Trial 10 finished with values: [0.6600052690751242, 0.01809929277411776] and parameters: {'max_depth': 3, 'eta': 0.0895234008299617, 'subsample': 0.7103145763644982, 'colsample_bytree': 0.6343431338816473}.\n",
      "[I 2025-05-16 11:13:55,856] Trial 11 finished with values: [0.6892869287112516, 0.09134752667825158] and parameters: {'max_depth': 7, 'eta': 0.01238371977769273, 'subsample': 0.9572840974921255, 'colsample_bytree': 0.7065131814045497}.\n",
      "[I 2025-05-16 11:13:56,001] Trial 12 finished with values: [0.6835859119635576, 0.0616400902721936] and parameters: {'max_depth': 6, 'eta': 0.030951301201048415, 'subsample': 0.6379920191438108, 'colsample_bytree': 0.8720500070739093}.\n",
      "[I 2025-05-16 11:13:56,111] Trial 13 finished with values: [0.712849191105066, 0.07275408229399209] and parameters: {'max_depth': 7, 'eta': 0.27504226088657985, 'subsample': 0.7887141264334052, 'colsample_bytree': 0.6200452124025014}.\n",
      "[I 2025-05-16 11:13:56,210] Trial 14 finished with values: [0.6557226138288715, 0.03899175170342009] and parameters: {'max_depth': 3, 'eta': 0.09885550381884127, 'subsample': 0.9690608519204827, 'colsample_bytree': 0.7316041949451171}.\n",
      "[I 2025-05-16 11:13:56,362] Trial 15 finished with values: [0.6807185548029765, 0.08828925308773931] and parameters: {'max_depth': 6, 'eta': 0.053685737232863164, 'subsample': 0.7117352837033395, 'colsample_bytree': 0.8711020827230318}.\n",
      "[I 2025-05-16 11:13:56,726] Trial 16 finished with values: [0.6735716058119124, 0.07866967064126597] and parameters: {'max_depth': 6, 'eta': 0.012319503294435836, 'subsample': 0.9419271117085564, 'colsample_bytree': 0.6853691405581851}.\n",
      "[I 2025-05-16 11:13:56,887] Trial 17 finished with values: [0.6707180340222955, 0.06952365853782398] and parameters: {'max_depth': 5, 'eta': 0.035591715776454674, 'subsample': 0.6714010625345379, 'colsample_bytree': 0.8361095989086474}.\n",
      "[I 2025-05-16 11:13:57,000] Trial 18 finished with values: [0.6535889447451697, 0.040267298089631816] and parameters: {'max_depth': 3, 'eta': 0.08576445268696022, 'subsample': 0.9890831460313929, 'colsample_bytree': 0.8060924333099837}.\n",
      "[I 2025-05-16 11:13:57,195] Trial 19 finished with values: [0.6978491757879871, 0.07829532805587573] and parameters: {'max_depth': 5, 'eta': 0.29367297881108884, 'subsample': 0.7860465436065752, 'colsample_bytree': 0.6320837139846693}.\n",
      "[I 2025-05-16 11:13:57,531] Trial 20 finished with values: [0.6635710850312315, 0.04308472253478768] and parameters: {'max_depth': 4, 'eta': 0.03264287381899345, 'subsample': 0.9148273510459746, 'colsample_bytree': 0.8620606046566739}.\n",
      "[I 2025-05-16 11:13:57,680] Trial 21 finished with values: [0.6878593769625008, 0.0866444862720502] and parameters: {'max_depth': 5, 'eta': 0.13842702639661947, 'subsample': 0.6460287027154018, 'colsample_bytree': 0.8251000670049204}.\n",
      "[I 2025-05-16 11:13:57,814] Trial 22 finished with values: [0.6993012348628969, 0.09935336752914643] and parameters: {'max_depth': 6, 'eta': 0.20340481065328156, 'subsample': 0.737937671047981, 'colsample_bytree': 0.7994810881444299}.\n",
      "[I 2025-05-16 11:13:57,956] Trial 23 finished with values: [0.6850119320044236, 0.07294441645546636] and parameters: {'max_depth': 6, 'eta': 0.049003590323621615, 'subsample': 0.9300153538492653, 'colsample_bytree': 0.6048789069695112}.\n",
      "[I 2025-05-16 11:13:58,063] Trial 24 finished with values: [0.6950017308299099, 0.06546833593674865] and parameters: {'max_depth': 5, 'eta': 0.21360247423354847, 'subsample': 0.815442221343168, 'colsample_bytree': 0.6356343267999441}.\n",
      "[I 2025-05-16 11:13:58,167] Trial 25 finished with values: [0.6892838652954819, 0.06173788486688808] and parameters: {'max_depth': 5, 'eta': 0.2454770094652492, 'subsample': 0.6517489717264866, 'colsample_bytree': 0.614927472762822}.\n",
      "[I 2025-05-16 11:13:58,284] Trial 26 finished with values: [0.6914236612107233, 0.07046618737077422] and parameters: {'max_depth': 5, 'eta': 0.25246384881896256, 'subsample': 0.710584265014314, 'colsample_bytree': 0.9033848208487228}.\n",
      "[I 2025-05-16 11:13:58,398] Trial 27 finished with values: [0.6807139596793217, 0.08997481782434036] and parameters: {'max_depth': 6, 'eta': 0.11949514730455131, 'subsample': 0.7484569265204213, 'colsample_bytree': 0.8092715950884615}.\n",
      "[I 2025-05-16 11:13:58,505] Trial 28 finished with values: [0.6957185701200553, 0.04048748160146748] and parameters: {'max_depth': 6, 'eta': 0.19264478031626467, 'subsample': 0.6335681899370651, 'colsample_bytree': 0.9369442195524097}.\n",
      "[I 2025-05-16 11:13:58,611] Trial 29 finished with values: [0.6935665205417344, 0.07197209072987855] and parameters: {'max_depth': 7, 'eta': 0.19988731769755852, 'subsample': 0.9860572997810142, 'colsample_bytree': 0.8199733424749844}.\n",
      "[I 2025-05-16 11:13:58,704] Trial 30 finished with values: [0.6828598824261028, 0.05674278839584331] and parameters: {'max_depth': 5, 'eta': 0.12201709060528572, 'subsample': 0.8744736679692016, 'colsample_bytree': 0.6492477234473657}.\n",
      "[I 2025-05-16 11:13:58,819] Trial 31 finished with values: [0.6864256983822102, 0.07867597192224603] and parameters: {'max_depth': 6, 'eta': 0.15106882703476612, 'subsample': 0.6939461627574258, 'colsample_bytree': 0.7720602065357747}.\n",
      "[I 2025-05-16 11:13:58,964] Trial 32 finished with values: [0.6628664994041656, 0.03009085146190829] and parameters: {'max_depth': 3, 'eta': 0.06078006116918214, 'subsample': 0.7980917915210624, 'colsample_bytree': 0.606121867819671}.\n",
      "[I 2025-05-16 11:13:59,076] Trial 33 finished with values: [0.6807093645556669, 0.05295008952142186] and parameters: {'max_depth': 7, 'eta': 0.1141569560888215, 'subsample': 0.6761230232348745, 'colsample_bytree': 0.6327700598234817}.\n",
      "[I 2025-05-16 11:13:59,202] Trial 34 finished with values: [0.683578253424133, 0.05466019919315829] and parameters: {'max_depth': 4, 'eta': 0.23271336208714302, 'subsample': 0.9208574726773356, 'colsample_bytree': 0.9917067118540632}.\n",
      "[I 2025-05-16 11:13:59,371] Trial 35 finished with values: [0.6628726262357053, 0.02740544950845732] and parameters: {'max_depth': 3, 'eta': 0.024780602130106265, 'subsample': 0.780647209345796, 'colsample_bytree': 0.7439018258083563}.\n",
      "[I 2025-05-16 11:13:59,500] Trial 36 finished with values: [0.6814323306773519, 0.07858214878940342] and parameters: {'max_depth': 6, 'eta': 0.046352437463744255, 'subsample': 0.6837878295896335, 'colsample_bytree': 0.8108600176956511}.\n",
      "[I 2025-05-16 11:13:59,633] Trial 37 finished with values: [0.6771496754310992, 0.06182608583879803] and parameters: {'max_depth': 6, 'eta': 0.04939755514373935, 'subsample': 0.879402603931374, 'colsample_bytree': 0.6849661967811597}.\n",
      "[I 2025-05-16 11:13:59,745] Trial 38 finished with values: [0.6864318252137499, 0.07213184917996354] and parameters: {'max_depth': 5, 'eta': 0.17381875537541655, 'subsample': 0.7650548280670587, 'colsample_bytree': 0.7667197132536866}.\n",
      "[I 2025-05-16 11:13:59,854] Trial 39 finished with values: [0.6678659939405636, 0.017347930519467064] and parameters: {'max_depth': 3, 'eta': 0.11489592111973883, 'subsample': 0.7910834210656791, 'colsample_bytree': 0.8418137568663913}.\n",
      "[I 2025-05-16 11:13:59,997] Trial 40 finished with values: [0.6728639567690767, 0.046284762128598105] and parameters: {'max_depth': 4, 'eta': 0.060149813684501015, 'subsample': 0.8573033062456392, 'colsample_bytree': 0.9768112067744346}.\n",
      "[I 2025-05-16 11:14:00,132] Trial 41 finished with values: [0.6792894713463405, 0.06967743652304806] and parameters: {'max_depth': 5, 'eta': 0.1590419471240881, 'subsample': 0.6011556686987163, 'colsample_bytree': 0.8361290844285744}.\n",
      "[I 2025-05-16 11:14:00,222] Trial 42 finished with values: [0.6692935456893144, 0.048280961740155746] and parameters: {'max_depth': 3, 'eta': 0.2936897669663166, 'subsample': 0.6914723502439146, 'colsample_bytree': 0.9297547458147053}.\n",
      "[I 2025-05-16 11:14:00,353] Trial 43 finished with values: [0.7064160179883775, 0.0840786805667501] and parameters: {'max_depth': 6, 'eta': 0.18221623912120863, 'subsample': 0.812906801781691, 'colsample_bytree': 0.9086750443881186}.\n",
      "[I 2025-05-16 11:14:00,456] Trial 44 finished with values: [0.6800078423443708, 0.03611610991275092] and parameters: {'max_depth': 3, 'eta': 0.29832685015568067, 'subsample': 0.6737707837445414, 'colsample_bytree': 0.9112377904314756}.\n",
      "[I 2025-05-16 11:14:00,606] Trial 45 finished with values: [0.688559367465912, 0.06456516612776046] and parameters: {'max_depth': 7, 'eta': 0.07273594403304075, 'subsample': 0.8727543084663578, 'colsample_bytree': 0.9281378690781742}.\n",
      "[I 2025-05-16 11:14:00,735] Trial 46 finished with values: [0.6849966149255743, 0.051379797813649264] and parameters: {'max_depth': 6, 'eta': 0.08225186174893301, 'subsample': 0.7830783936943375, 'colsample_bytree': 0.8127693884939402}.\n",
      "[I 2025-05-16 11:14:00,841] Trial 47 finished with values: [0.6885670260053365, 0.048449545829528574] and parameters: {'max_depth': 4, 'eta': 0.29356824957241445, 'subsample': 0.9226284682188499, 'colsample_bytree': 0.606061630220735}.\n",
      "[I 2025-05-16 11:14:00,938] Trial 48 finished with values: [0.6621527235297903, 0.027562127609125065] and parameters: {'max_depth': 3, 'eta': 0.1339941975133255, 'subsample': 0.9126539044180272, 'colsample_bytree': 0.6105540585764826}.\n",
      "[I 2025-05-16 11:14:01,051] Trial 49 finished with values: [0.688576216252646, 0.061446684492439375] and parameters: {'max_depth': 6, 'eta': 0.1559264052404293, 'subsample': 0.9992536513326076, 'colsample_bytree': 0.6699433012746162}.\n",
      "[I 2025-05-16 11:14:01,063] A new study created in memory with name: no-name-412c58de-0305-46a0-891c-652e447e874c\n"
     ]
    },
    {
     "name": "stdout",
     "output_type": "stream",
     "text": [
      "Completed study for alpha=0.75\n",
      "4\n"
     ]
    },
    {
     "name": "stderr",
     "output_type": "stream",
     "text": [
      "[I 2025-05-16 11:14:01,262] Trial 0 finished with values: [0.6607221083652695, 0.01626638701720584] and parameters: {'max_depth': 5, 'eta': 0.06864267733518287, 'subsample': 0.929248583752071, 'colsample_bytree': 0.6149266479067287}.\n",
      "[I 2025-05-16 11:14:01,417] Trial 1 finished with values: [0.6642971145686865, 0.02291408423134314] and parameters: {'max_depth': 3, 'eta': 0.24912782646517545, 'subsample': 0.8045471095306472, 'colsample_bytree': 0.680454244473342}.\n",
      "[I 2025-05-16 11:14:01,544] Trial 2 finished with values: [0.6650139538588317, 0.0211610689657042] and parameters: {'max_depth': 4, 'eta': 0.25499506464220084, 'subsample': 0.7768555750307267, 'colsample_bytree': 0.6698622693777796}.\n",
      "[I 2025-05-16 11:14:01,755] Trial 3 finished with values: [0.664304773108111, 0.015319964672414485] and parameters: {'max_depth': 6, 'eta': 0.2892059352920822, 'subsample': 0.8578143915133993, 'colsample_bytree': 0.7156371247938105}.\n",
      "[I 2025-05-16 11:14:01,949] Trial 4 finished with values: [0.6664415056075826, 0.028202028008393176] and parameters: {'max_depth': 4, 'eta': 0.22040915704890002, 'subsample': 0.6559265978923552, 'colsample_bytree': 0.8598473954271852}.\n",
      "[I 2025-05-16 11:14:02,182] Trial 5 finished with values: [0.6571547607012772, 0.02304841829048589] and parameters: {'max_depth': 5, 'eta': 0.014420901095309465, 'subsample': 0.9671778797981543, 'colsample_bytree': 0.7942132077628905}.\n",
      "[I 2025-05-16 11:14:02,291] Trial 6 finished with values: [0.6607282351968092, 0.019208140842764815] and parameters: {'max_depth': 3, 'eta': 0.20588983769245353, 'subsample': 0.9663795326703374, 'colsample_bytree': 0.988427837012961}.\n",
      "[I 2025-05-16 11:14:02,409] Trial 7 finished with values: [0.6614404793632996, 0.027660393295651776] and parameters: {'max_depth': 7, 'eta': 0.2485914760009541, 'subsample': 0.6385297909310207, 'colsample_bytree': 0.9297159021837069}.\n",
      "[I 2025-05-16 11:14:02,518] Trial 8 finished with values: [0.6578715999914224, 0.019135212850722588] and parameters: {'max_depth': 6, 'eta': 0.18251304669068996, 'subsample': 0.9536908593861502, 'colsample_bytree': 0.8486591374651052}.\n",
      "[I 2025-05-16 11:14:02,665] Trial 9 finished with values: [0.6564379214111319, 0.020362788956763272] and parameters: {'max_depth': 3, 'eta': 0.1288304696263337, 'subsample': 0.8925543686601427, 'colsample_bytree': 0.6969530288344968}.\n",
      "[I 2025-05-16 11:14:02,794] Trial 10 finished with values: [0.6607282351968092, 0.020472156947465053] and parameters: {'max_depth': 6, 'eta': 0.08749611129740512, 'subsample': 0.7661749998404539, 'colsample_bytree': 0.7680920392863947}.\n",
      "[I 2025-05-16 11:14:02,929] Trial 11 finished with values: [0.6621542552376751, 0.010023463082942894] and parameters: {'max_depth': 7, 'eta': 0.1577811951048122, 'subsample': 0.8302865200327152, 'colsample_bytree': 0.6813275435736288}.\n",
      "[I 2025-05-16 11:14:03,035] Trial 12 finished with values: [0.6635848704021959, 0.016719238604878655] and parameters: {'max_depth': 4, 'eta': 0.10785997942470753, 'subsample': 0.6438917331312407, 'colsample_bytree': 0.7182950310096381}.\n",
      "[I 2025-05-16 11:14:03,132] Trial 13 finished with values: [0.6657292614410921, 0.013808869050115255] and parameters: {'max_depth': 4, 'eta': 0.2152229933503031, 'subsample': 0.7962747411580448, 'colsample_bytree': 0.6471563251234308}.\n",
      "[I 2025-05-16 11:14:03,255] Trial 14 finished with values: [0.6578700682835376, 0.01826131349930891] and parameters: {'max_depth': 4, 'eta': 0.0311972445387984, 'subsample': 0.8502430876566933, 'colsample_bytree': 0.6575812804737857}.\n",
      "[I 2025-05-16 11:14:03,399] Trial 15 finished with values: [0.6671583448977279, 0.026853012228431495] and parameters: {'max_depth': 6, 'eta': 0.28463797709279604, 'subsample': 0.9545657345859698, 'colsample_bytree': 0.6415567200213467}.\n",
      "[I 2025-05-16 11:14:03,498] Trial 16 finished with values: [0.6657246663174373, 0.019443380802383076] and parameters: {'max_depth': 5, 'eta': 0.13730991302852688, 'subsample': 0.7781249662312236, 'colsample_bytree': 0.6151990906615709}.\n",
      "[I 2025-05-16 11:14:03,603] Trial 17 finished with values: [0.6657231346095523, 0.013269399069619492] and parameters: {'max_depth': 5, 'eta': 0.15224211013984498, 'subsample': 0.7035191961952738, 'colsample_bytree': 0.8697879718946475}.\n",
      "[I 2025-05-16 11:14:03,705] Trial 18 finished with values: [0.6557272089525262, 0.017164136845170912] and parameters: {'max_depth': 5, 'eta': 0.07293481245762969, 'subsample': 0.9176393101645257, 'colsample_bytree': 0.8128522073920458}.\n",
      "[I 2025-05-16 11:14:03,819] Trial 19 finished with values: [0.6664461007312373, 0.02174391099309529] and parameters: {'max_depth': 7, 'eta': 0.0745482071320494, 'subsample': 0.6046265865061645, 'colsample_bytree': 0.772262230728959}.\n",
      "[I 2025-05-16 11:14:03,949] Trial 20 finished with values: [0.6678675256484485, 0.02268279131936035] and parameters: {'max_depth': 5, 'eta': 0.024666019221923616, 'subsample': 0.7491504648282271, 'colsample_bytree': 0.9373679483964608}.\n",
      "[I 2025-05-16 11:14:04,036] Trial 21 finished with values: [0.6557272089525262, 0.03083824750117803] and parameters: {'max_depth': 6, 'eta': 0.13674569546121595, 'subsample': 0.9256395626029325, 'colsample_bytree': 0.9951604262448239}.\n",
      "[I 2025-05-16 11:14:04,119] Trial 22 finished with values: [0.67145325380706, 0.03005312173228153] and parameters: {'max_depth': 3, 'eta': 0.2689603299988896, 'subsample': 0.6074186917404555, 'colsample_bytree': 0.7322543348482331}.\n",
      "[I 2025-05-16 11:14:04,225] Trial 23 finished with values: [0.6621542552376751, 0.01555749415186635] and parameters: {'max_depth': 6, 'eta': 0.19540897243581068, 'subsample': 0.7159509479091377, 'colsample_bytree': 0.8365975237265213}.\n",
      "[I 2025-05-16 11:14:04,321] Trial 24 finished with values: [0.6650139538588317, 0.029490765618576043] and parameters: {'max_depth': 4, 'eta': 0.13514335893458002, 'subsample': 0.6149488875906529, 'colsample_bytree': 0.783966796888275}.\n",
      "[I 2025-05-16 11:14:04,414] Trial 25 finished with values: [0.6621542552376751, 0.017286796659293613] and parameters: {'max_depth': 6, 'eta': 0.08924857077856518, 'subsample': 0.7818451414805099, 'colsample_bytree': 0.9053060524528976}.\n",
      "[I 2025-05-16 11:14:04,494] Trial 26 finished with values: [0.66143435253176, 0.019349067824513826] and parameters: {'max_depth': 4, 'eta': 0.2954956390160982, 'subsample': 0.8345606002328008, 'colsample_bytree': 0.9690732209392904}.\n",
      "[I 2025-05-16 11:14:04,599] Trial 27 finished with values: [0.6592976200322884, 0.017352871827234672] and parameters: {'max_depth': 6, 'eta': 0.038512372557178494, 'subsample': 0.8475766141287815, 'colsample_bytree': 0.618547105772686}.\n",
      "[I 2025-05-16 11:14:04,695] Trial 28 finished with values: [0.6557256772446413, 0.013480434893097026] and parameters: {'max_depth': 4, 'eta': 0.08486017533708418, 'subsample': 0.908631708507325, 'colsample_bytree': 0.8808688683611852}.\n",
      "[I 2025-05-16 11:14:04,806] Trial 29 finished with values: [0.6557272089525262, 0.025558401898751786] and parameters: {'max_depth': 3, 'eta': 0.06060453062141549, 'subsample': 0.9145468615341363, 'colsample_bytree': 0.9468211061801486}.\n",
      "[I 2025-05-16 11:14:04,892] Trial 30 finished with values: [0.6592976200322884, 0.013532364728929167] and parameters: {'max_depth': 4, 'eta': 0.18874244189669134, 'subsample': 0.8859553100242044, 'colsample_bytree': 0.8517393623817126}.\n",
      "[I 2025-05-16 11:14:04,999] Trial 31 finished with values: [0.6635772118627713, 0.030954495708008577] and parameters: {'max_depth': 5, 'eta': 0.2663128047372819, 'subsample': 0.8702743065269603, 'colsample_bytree': 0.9379521829945131}.\n",
      "[I 2025-05-16 11:14:05,144] Trial 32 finished with values: [0.6592960883244036, 0.020057907459807123] and parameters: {'max_depth': 4, 'eta': 0.028150796552138993, 'subsample': 0.9413605147793821, 'colsample_bytree': 0.8236212928239526}.\n",
      "[I 2025-05-16 11:14:05,234] Trial 33 finished with values: [0.6635787435706563, 0.018478395966430482] and parameters: {'max_depth': 6, 'eta': 0.1268822328104047, 'subsample': 0.8441976865627525, 'colsample_bytree': 0.632953320150521}.\n",
      "[I 2025-05-16 11:14:05,344] Trial 34 finished with values: [0.6685843649385937, 0.02353107071846952] and parameters: {'max_depth': 4, 'eta': 0.2963267727273045, 'subsample': 0.7180728212990826, 'colsample_bytree': 0.8108033651076114}.\n",
      "[I 2025-05-16 11:14:05,461] Trial 35 finished with values: [0.6600159910303186, 0.029019932509297287] and parameters: {'max_depth': 5, 'eta': 0.2644267404564869, 'subsample': 0.8931134311190865, 'colsample_bytree': 0.7566088313460126}.\n",
      "[I 2025-05-16 11:14:05,572] Trial 36 finished with values: [0.6721517126025861, 0.02004176487243207] and parameters: {'max_depth': 4, 'eta': 0.07831320229979007, 'subsample': 0.6085680208136824, 'colsample_bytree': 0.8477924019674304}.\n",
      "[I 2025-05-16 11:14:05,689] Trial 37 finished with values: [0.6564425165347866, 0.022370189290239068] and parameters: {'max_depth': 5, 'eta': 0.1063618603578049, 'subsample': 0.8927021321242424, 'colsample_bytree': 0.9484574466673992}.\n",
      "[I 2025-05-16 11:14:05,833] Trial 38 finished with values: [0.6578654731598828, 0.017543617392179384] and parameters: {'max_depth': 6, 'eta': 0.19103461877932618, 'subsample': 0.9835265543915378, 'colsample_bytree': 0.7138361286447785}.\n",
      "[I 2025-05-16 11:14:05,948] Trial 39 finished with values: [0.6650185489824865, 0.03754793544889228] and parameters: {'max_depth': 4, 'eta': 0.17330076870221955, 'subsample': 0.6311266195948915, 'colsample_bytree': 0.9488721294485113}.\n",
      "[I 2025-05-16 11:14:06,048] Trial 40 finished with values: [0.6550134330781509, 0.02177849899180905] and parameters: {'max_depth': 3, 'eta': 0.13533366048591597, 'subsample': 0.9730761493829997, 'colsample_bytree': 0.7818163432164729}.\n",
      "[I 2025-05-16 11:14:06,171] Trial 41 finished with values: [0.6614404793632996, 0.023667049239699218] and parameters: {'max_depth': 3, 'eta': 0.18239625538071855, 'subsample': 0.8495968809284754, 'colsample_bytree': 0.9254818940105737}.\n",
      "[I 2025-05-16 11:14:06,333] Trial 42 finished with values: [0.6557272089525262, 0.025558401898751786] and parameters: {'max_depth': 5, 'eta': 0.05289555118153071, 'subsample': 0.8436543615859902, 'colsample_bytree': 0.9951080068052935}.\n",
      "[I 2025-05-16 11:14:06,473] Trial 43 finished with values: [0.662157318653445, 0.020092571963622897] and parameters: {'max_depth': 4, 'eta': 0.06080132951000425, 'subsample': 0.6787403823796394, 'colsample_bytree': 0.808499675546693}.\n",
      "[I 2025-05-16 11:14:06,588] Trial 44 finished with values: [0.6621542552376751, 0.010670070026133691] and parameters: {'max_depth': 7, 'eta': 0.17304472340973953, 'subsample': 0.8578906933997682, 'colsample_bytree': 0.8982000622349307}.\n",
      "[I 2025-05-16 11:14:06,738] Trial 45 finished with values: [0.6643001779844563, 0.01234923584777912] and parameters: {'max_depth': 7, 'eta': 0.05447762925520076, 'subsample': 0.6496316754971888, 'colsample_bytree': 0.8974154885667345}.\n",
      "[I 2025-05-16 11:14:06,951] Trial 46 finished with values: [0.6650154855667166, 0.020821404237607588] and parameters: {'max_depth': 4, 'eta': 0.2925476253988054, 'subsample': 0.6928709415356294, 'colsample_bytree': 0.6405021167458731}.\n",
      "[I 2025-05-16 11:14:07,113] Trial 47 finished with values: [0.655008837954496, 0.021523337434227307] and parameters: {'max_depth': 6, 'eta': 0.049800921056000876, 'subsample': 0.8001092553685012, 'colsample_bytree': 0.9176569211461755}.\n",
      "[I 2025-05-16 11:14:07,286] Trial 48 finished with values: [0.6585823124500281, 0.02213451526656357] and parameters: {'max_depth': 6, 'eta': 0.018713152061127017, 'subsample': 0.9074359919323796, 'colsample_bytree': 0.845876781616294}.\n",
      "[I 2025-05-16 11:14:07,383] Trial 49 finished with values: [0.6578746634071923, 0.025166084436165793] and parameters: {'max_depth': 6, 'eta': 0.2610281956270933, 'subsample': 0.8898972490095871, 'colsample_bytree': 0.7318113659779804}.\n",
      "[I 2025-05-16 11:14:07,394] A new study created in memory with name: no-name-b16c1bd8-29b3-41e0-933b-9c8fbebaa875\n",
      "[I 2025-05-16 11:14:07,501] Trial 0 finished with values: [0.6657261980253222, 0.018305774254407825] and parameters: {'max_depth': 6, 'eta': 0.26146173657480376, 'subsample': 0.7663471230974214, 'colsample_bytree': 0.7412939031194951}.\n"
     ]
    },
    {
     "name": "stdout",
     "output_type": "stream",
     "text": [
      "Completed study for alpha=0.0625\n",
      "5\n"
     ]
    },
    {
     "name": "stderr",
     "output_type": "stream",
     "text": [
      "[I 2025-05-16 11:14:07,605] Trial 1 finished with values: [0.6707226291459504, 0.012983203043084202] and parameters: {'max_depth': 5, 'eta': 0.08347524377979988, 'subsample': 0.8714882670409142, 'colsample_bytree': 0.6997347174055625}.\n",
      "[I 2025-05-16 11:14:07,746] Trial 2 finished with values: [0.6707226291459504, 0.012983203043084202] and parameters: {'max_depth': 5, 'eta': 0.06066634407666788, 'subsample': 0.6164942511988197, 'colsample_bytree': 0.794704612045686}.\n",
      "[I 2025-05-16 11:14:07,844] Trial 3 finished with values: [0.6707226291459504, 0.012983203043084202] and parameters: {'max_depth': 5, 'eta': 0.17463707575646373, 'subsample': 0.9474724416522708, 'colsample_bytree': 0.667993365180039}.\n",
      "[I 2025-05-16 11:14:07,944] Trial 4 finished with values: [0.6707226291459504, 0.012983203043084202] and parameters: {'max_depth': 6, 'eta': 0.06759622438491181, 'subsample': 0.6834007833493334, 'colsample_bytree': 0.7946100369537081}.\n",
      "[I 2025-05-16 11:14:08,040] Trial 5 finished with values: [0.6642986462765713, 0.015622554976171868] and parameters: {'max_depth': 4, 'eta': 0.26566340510794567, 'subsample': 0.8678696713304268, 'colsample_bytree': 0.7443968858994859}.\n",
      "[I 2025-05-16 11:14:08,136] Trial 6 finished with values: [0.6707226291459504, 0.012983203043084202] and parameters: {'max_depth': 4, 'eta': 0.1022715431932978, 'subsample': 0.6575867467629121, 'colsample_bytree': 0.7877669383934433}.\n",
      "[I 2025-05-16 11:14:08,234] Trial 7 finished with values: [0.6728685518927314, 0.008640771281297588] and parameters: {'max_depth': 5, 'eta': 0.23760095866089273, 'subsample': 0.6079501323526242, 'colsample_bytree': 0.6128764443498148}.\n",
      "[I 2025-05-16 11:14:08,326] Trial 8 finished with values: [0.6707226291459504, 0.012983203043084202] and parameters: {'max_depth': 4, 'eta': 0.09011399560841749, 'subsample': 0.9490762262522748, 'colsample_bytree': 0.96734831623569}.\n",
      "[I 2025-05-16 11:14:08,430] Trial 9 finished with values: [0.6707226291459504, 0.012983203043084202] and parameters: {'max_depth': 5, 'eta': 0.19607943326822716, 'subsample': 0.6676701369577291, 'colsample_bytree': 0.7739981561974678}.\n",
      "[I 2025-05-16 11:14:08,519] Trial 10 finished with values: [0.6678751841878733, 0.02630631565993255] and parameters: {'max_depth': 4, 'eta': 0.2954647347670967, 'subsample': 0.7872679722014564, 'colsample_bytree': 0.803586811436422}.\n",
      "[I 2025-05-16 11:14:08,645] Trial 11 finished with values: [0.6707226291459504, 0.012983203043084202] and parameters: {'max_depth': 4, 'eta': 0.035437840221098554, 'subsample': 0.8052311641613247, 'colsample_bytree': 0.8985105483710933}.\n",
      "[I 2025-05-16 11:14:08,739] Trial 12 finished with values: [0.6707226291459504, 0.012983203043084202] and parameters: {'max_depth': 4, 'eta': 0.1599131363036772, 'subsample': 0.6770835607337249, 'colsample_bytree': 0.8113295813656487}.\n",
      "[I 2025-05-16 11:14:08,819] Trial 13 finished with values: [0.6707226291459504, 0.012983203043084202] and parameters: {'max_depth': 5, 'eta': 0.2196189753741957, 'subsample': 0.67054310517296, 'colsample_bytree': 0.9469740742180744}.\n",
      "[I 2025-05-16 11:14:08,902] Trial 14 finished with values: [0.6707226291459504, 0.012983203043084202] and parameters: {'max_depth': 4, 'eta': 0.13683407322124003, 'subsample': 0.6890646730323554, 'colsample_bytree': 0.8545903023163568}.\n",
      "[I 2025-05-16 11:14:09,035] Trial 15 finished with values: [0.6707226291459504, 0.012983203043084202] and parameters: {'max_depth': 4, 'eta': 0.02206773318655357, 'subsample': 0.776845856578821, 'colsample_bytree': 0.6497876566489633}.\n",
      "[I 2025-05-16 11:14:09,150] Trial 16 finished with values: [0.6707226291459504, 0.012983203043084202] and parameters: {'max_depth': 6, 'eta': 0.08999274980193478, 'subsample': 0.8795639136557627, 'colsample_bytree': 0.7553007472232812}.\n",
      "[I 2025-05-16 11:14:09,252] Trial 17 finished with values: [0.6707226291459504, 0.012983203043084202] and parameters: {'max_depth': 6, 'eta': 0.09623297769841899, 'subsample': 0.8093687901851496, 'colsample_bytree': 0.7730653108327954}.\n",
      "[I 2025-05-16 11:14:09,363] Trial 18 finished with values: [0.6707226291459504, 0.012983203043084202] and parameters: {'max_depth': 3, 'eta': 0.16434218125597452, 'subsample': 0.9361189708005265, 'colsample_bytree': 0.6252687841722294}.\n",
      "[I 2025-05-16 11:14:09,466] Trial 19 finished with values: [0.668581301522824, 0.022290391438709145] and parameters: {'max_depth': 6, 'eta': 0.10980152196858495, 'subsample': 0.9981225783066744, 'colsample_bytree': 0.7310081699581553}.\n",
      "[I 2025-05-16 11:14:09,574] Trial 20 finished with values: [0.6707226291459504, 0.012983203043084202] and parameters: {'max_depth': 5, 'eta': 0.06249595365936566, 'subsample': 0.7014575057126581, 'colsample_bytree': 0.6069616324496843}.\n",
      "[I 2025-05-16 11:14:09,670] Trial 21 finished with values: [0.668581301522824, 0.019607172160473196] and parameters: {'max_depth': 6, 'eta': 0.26046423314632833, 'subsample': 0.7570140018937536, 'colsample_bytree': 0.7320487664625216}.\n",
      "[I 2025-05-16 11:14:09,764] Trial 22 finished with values: [0.6642986462765713, 0.015622554976171868] and parameters: {'max_depth': 5, 'eta': 0.27387589151681657, 'subsample': 0.783089431494031, 'colsample_bytree': 0.918335203608625}.\n",
      "[I 2025-05-16 11:14:09,858] Trial 23 finished with values: [0.6707226291459504, 0.012983203043084202] and parameters: {'max_depth': 3, 'eta': 0.1639881684784345, 'subsample': 0.9570587035940159, 'colsample_bytree': 0.7994013665726281}.\n",
      "[I 2025-05-16 11:14:09,953] Trial 24 finished with values: [0.6707226291459504, 0.012983203043084202] and parameters: {'max_depth': 7, 'eta': 0.09417607045559985, 'subsample': 0.7517149798811367, 'colsample_bytree': 0.8322637721576739}.\n",
      "[I 2025-05-16 11:14:10,068] Trial 25 finished with values: [0.6707226291459504, 0.012983203043084202] and parameters: {'max_depth': 4, 'eta': 0.1440605098041636, 'subsample': 0.7055432607585737, 'colsample_bytree': 0.6795320760867606}.\n",
      "[I 2025-05-16 11:14:10,272] Trial 26 finished with values: [0.6707226291459504, 0.012983203043084202] and parameters: {'max_depth': 4, 'eta': 0.019854697413381875, 'subsample': 0.6976205877610883, 'colsample_bytree': 0.9728112190742867}.\n",
      "[I 2025-05-16 11:14:10,386] Trial 27 finished with values: [0.6707226291459504, 0.012983203043084202] and parameters: {'max_depth': 7, 'eta': 0.09173265559786908, 'subsample': 0.8389737598042832, 'colsample_bytree': 0.8778498278689109}.\n",
      "[I 2025-05-16 11:14:10,513] Trial 28 finished with values: [0.6707226291459504, 0.012983203043084202] and parameters: {'max_depth': 3, 'eta': 0.1990753242498653, 'subsample': 0.7184397635442241, 'colsample_bytree': 0.8183895477995318}.\n",
      "[I 2025-05-16 11:14:10,668] Trial 29 finished with values: [0.6707226291459504, 0.012983203043084202] and parameters: {'max_depth': 3, 'eta': 0.1874662352688333, 'subsample': 0.9117002283624993, 'colsample_bytree': 0.7430395354703104}.\n",
      "[I 2025-05-16 11:14:10,784] Trial 30 finished with values: [0.6714379367282106, 0.0346917915073004] and parameters: {'max_depth': 6, 'eta': 0.26457584321837063, 'subsample': 0.851058255073379, 'colsample_bytree': 0.7129064754320819}.\n",
      "[I 2025-05-16 11:14:10,919] Trial 31 finished with values: [0.6642986462765713, 0.02041871804571623] and parameters: {'max_depth': 3, 'eta': 0.2334666335492779, 'subsample': 0.9377052087459019, 'colsample_bytree': 0.8542006768996662}.\n",
      "[I 2025-05-16 11:14:11,031] Trial 32 finished with values: [0.6707226291459504, 0.012983203043084202] and parameters: {'max_depth': 7, 'eta': 0.08247138338530734, 'subsample': 0.85411330192609, 'colsample_bytree': 0.8129251908215556}.\n",
      "[I 2025-05-16 11:14:11,209] Trial 33 finished with values: [0.6707226291459504, 0.012983203043084202] and parameters: {'max_depth': 4, 'eta': 0.15720758620232328, 'subsample': 0.9668510701936179, 'colsample_bytree': 0.9001342132489916}.\n",
      "[I 2025-05-16 11:14:11,402] Trial 34 finished with values: [0.6707226291459504, 0.012983203043084202] and parameters: {'max_depth': 3, 'eta': 0.02829865763683931, 'subsample': 0.8099792991969761, 'colsample_bytree': 0.9357957447219443}.\n",
      "[I 2025-05-16 11:14:11,504] Trial 35 finished with values: [0.6728685518927314, 0.023029260489930665] and parameters: {'max_depth': 4, 'eta': 0.24528746022425343, 'subsample': 0.8170142345527717, 'colsample_bytree': 0.7150615439061139}.\n",
      "[I 2025-05-16 11:14:11,614] Trial 36 finished with values: [0.668581301522824, 0.019607172160473196] and parameters: {'max_depth': 4, 'eta': 0.25629108464337136, 'subsample': 0.7586342023427487, 'colsample_bytree': 0.7339511088348205}.\n",
      "[I 2025-05-16 11:14:11,718] Trial 37 finished with values: [0.6707226291459504, 0.012983203043084202] and parameters: {'max_depth': 6, 'eta': 0.08387835072967967, 'subsample': 0.9184593691630636, 'colsample_bytree': 0.9633543424090415}.\n",
      "[I 2025-05-16 11:14:11,818] Trial 38 finished with values: [0.6707226291459504, 0.012983203043084202] and parameters: {'max_depth': 4, 'eta': 0.27612404925963946, 'subsample': 0.8461544542227051, 'colsample_bytree': 0.6149751912872095}.\n",
      "[I 2025-05-16 11:14:11,927] Trial 39 finished with values: [0.6707226291459504, 0.012983203043084202] and parameters: {'max_depth': 4, 'eta': 0.04641225918366891, 'subsample': 0.8738461026041044, 'colsample_bytree': 0.6550987418171127}.\n",
      "[I 2025-05-16 11:14:12,061] Trial 40 finished with values: [0.6707226291459504, 0.012983203043084202] and parameters: {'max_depth': 6, 'eta': 0.020857827036444607, 'subsample': 0.7404308125573079, 'colsample_bytree': 0.8191525722005004}.\n",
      "[I 2025-05-16 11:14:12,171] Trial 41 finished with values: [0.6707226291459504, 0.012983203043084202] and parameters: {'max_depth': 3, 'eta': 0.1287626870632438, 'subsample': 0.8420528556298166, 'colsample_bytree': 0.9761939053832219}.\n",
      "[I 2025-05-16 11:14:12,274] Trial 42 finished with values: [0.6707226291459504, 0.012983203043084202] and parameters: {'max_depth': 7, 'eta': 0.21932604741991685, 'subsample': 0.8105938536338874, 'colsample_bytree': 0.9939610539198576}.\n",
      "[I 2025-05-16 11:14:12,430] Trial 43 finished with values: [0.6707226291459504, 0.012983203043084202] and parameters: {'max_depth': 3, 'eta': 0.2602862743745953, 'subsample': 0.6519064739870073, 'colsample_bytree': 0.9224396696208755}.\n",
      "[I 2025-05-16 11:14:12,568] Trial 44 finished with values: [0.6707226291459504, 0.012983203043084202] and parameters: {'max_depth': 3, 'eta': 0.08875486408763834, 'subsample': 0.6087344112961371, 'colsample_bytree': 0.8220867625100594}.\n",
      "[I 2025-05-16 11:14:12,672] Trial 45 finished with values: [0.6707226291459504, 0.012983203043084202] and parameters: {'max_depth': 7, 'eta': 0.13863422938013417, 'subsample': 0.9647696346324336, 'colsample_bytree': 0.8619017671554319}.\n",
      "[I 2025-05-16 11:14:12,782] Trial 46 finished with values: [0.6707226291459504, 0.02737169225171728] and parameters: {'max_depth': 4, 'eta': 0.20688367294822185, 'subsample': 0.8964275100179406, 'colsample_bytree': 0.8945342092986603}.\n",
      "[I 2025-05-16 11:14:12,880] Trial 47 finished with values: [0.6707226291459504, 0.012983203043084202] and parameters: {'max_depth': 6, 'eta': 0.23192362183024703, 'subsample': 0.6759145446786381, 'colsample_bytree': 0.8022021543360551}.\n",
      "[I 2025-05-16 11:14:13,002] Trial 48 finished with values: [0.6707226291459504, 0.012983203043084202] and parameters: {'max_depth': 4, 'eta': 0.08141747352025386, 'subsample': 0.9816345661105019, 'colsample_bytree': 0.971137734046255}.\n",
      "[I 2025-05-16 11:14:13,150] Trial 49 finished with values: [0.6707226291459504, 0.012983203043084202] and parameters: {'max_depth': 4, 'eta': 0.12411041383118375, 'subsample': 0.9170552126199716, 'colsample_bytree': 0.818130090706261}.\n",
      "[I 2025-05-16 11:14:13,165] A new study created in memory with name: no-name-8cdd84ba-b45b-42cf-a38b-82e3bb905240\n",
      "[I 2025-05-16 11:14:13,301] Trial 0 finished with values: [0.6707226291459504, 0.012983203043084202] and parameters: {'max_depth': 6, 'eta': 0.11070467937456387, 'subsample': 0.9469941269766866, 'colsample_bytree': 0.8446057246645187}.\n"
     ]
    },
    {
     "name": "stdout",
     "output_type": "stream",
     "text": [
      "Completed study for alpha=0.03125\n",
      "6\n"
     ]
    },
    {
     "name": "stderr",
     "output_type": "stream",
     "text": [
      "[I 2025-05-16 11:14:13,460] Trial 1 finished with values: [0.5000061268315397, 0.0] and parameters: {'max_depth': 5, 'eta': 0.05282487573863137, 'subsample': 0.8688659694886003, 'colsample_bytree': 0.6687411708124102}.\n",
      "[I 2025-05-16 11:14:13,557] Trial 2 finished with values: [0.5000061268315397, 0.0] and parameters: {'max_depth': 7, 'eta': 0.08372690858062241, 'subsample': 0.8563846795134045, 'colsample_bytree': 0.7309155604898364}.\n",
      "[I 2025-05-16 11:14:13,683] Trial 3 finished with values: [0.5000061268315397, 0.0] and parameters: {'max_depth': 3, 'eta': 0.28822284053179853, 'subsample': 0.783220194767384, 'colsample_bytree': 0.6015478535729558}.\n",
      "[I 2025-05-16 11:14:13,801] Trial 4 finished with values: [0.5000061268315397, 0.0] and parameters: {'max_depth': 3, 'eta': 0.09547624326518088, 'subsample': 0.6556799773469568, 'colsample_bytree': 0.6688066062507025}.\n",
      "[I 2025-05-16 11:14:13,911] Trial 5 finished with values: [0.5000061268315397, 0.0] and parameters: {'max_depth': 4, 'eta': 0.10788967612493529, 'subsample': 0.8192776139396813, 'colsample_bytree': 0.6062918389308377}.\n",
      "[I 2025-05-16 11:14:14,040] Trial 6 finished with values: [0.6200322884022142, 0.03279546821303892] and parameters: {'max_depth': 4, 'eta': 0.23298235665603034, 'subsample': 0.8873576240580987, 'colsample_bytree': 0.6665752322748953}.\n",
      "[I 2025-05-16 11:14:14,146] Trial 7 finished with values: [0.6707226291459504, 0.012983203043084202] and parameters: {'max_depth': 4, 'eta': 0.12922019023211662, 'subsample': 0.9707130895954086, 'colsample_bytree': 0.8742806992888643}.\n",
      "[I 2025-05-16 11:14:14,253] Trial 8 finished with values: [0.5000061268315397, 0.0] and parameters: {'max_depth': 5, 'eta': 0.14412841925547973, 'subsample': 0.7441449554671535, 'colsample_bytree': 0.9978570961546182}.\n",
      "[I 2025-05-16 11:14:14,357] Trial 9 finished with values: [0.6014741156684527, 0.031239727699774456] and parameters: {'max_depth': 6, 'eta': 0.18527278073522405, 'subsample': 0.8811210485422891, 'colsample_bytree': 0.6656450403539825}.\n",
      "[I 2025-05-16 11:14:14,546] Trial 10 finished with values: [0.5857496025218039, 0.005923475224541064] and parameters: {'max_depth': 7, 'eta': 0.23532670181147988, 'subsample': 0.8548404244297101, 'colsample_bytree': 0.9550437244219515}.\n",
      "[I 2025-05-16 11:14:14,664] Trial 11 finished with values: [0.5000061268315397, 0.0] and parameters: {'max_depth': 6, 'eta': 0.24116526270219274, 'subsample': 0.6059801784119339, 'colsample_bytree': 0.9474141954748924}.\n",
      "[I 2025-05-16 11:14:14,799] Trial 12 finished with values: [0.5000061268315397, 0.0] and parameters: {'max_depth': 5, 'eta': 0.16773066395065583, 'subsample': 0.7664666706942118, 'colsample_bytree': 0.7799102833888101}.\n",
      "[I 2025-05-16 11:14:14,955] Trial 13 finished with values: [0.668581301522824, 0.013870781047535752] and parameters: {'max_depth': 4, 'eta': 0.2939386161058166, 'subsample': 0.9677852135628724, 'colsample_bytree': 0.8989067325078374}.\n",
      "[I 2025-05-16 11:14:15,095] Trial 14 finished with values: [0.5000061268315397, 0.0] and parameters: {'max_depth': 6, 'eta': 0.17172476786199078, 'subsample': 0.7544024334376713, 'colsample_bytree': 0.8389494062771977}.\n",
      "[I 2025-05-16 11:14:15,238] Trial 15 finished with values: [0.6628710945278204, 0.013679610400423111] and parameters: {'max_depth': 3, 'eta': 0.2593629958933308, 'subsample': 0.9471467873834171, 'colsample_bytree': 0.9706764916027718}.\n",
      "[I 2025-05-16 11:14:15,349] Trial 16 finished with values: [0.5000061268315397, 0.0] and parameters: {'max_depth': 4, 'eta': 0.159188773628048, 'subsample': 0.6584109071301673, 'colsample_bytree': 0.9070237952399165}.\n",
      "[I 2025-05-16 11:14:15,478] Trial 17 finished with values: [0.5000061268315397, 0.0] and parameters: {'max_depth': 3, 'eta': 0.14465094587734828, 'subsample': 0.673314755430849, 'colsample_bytree': 0.9156512803949187}.\n",
      "[I 2025-05-16 11:14:15,574] Trial 18 finished with values: [0.5000061268315397, 0.0] and parameters: {'max_depth': 7, 'eta': 0.07810133178769622, 'subsample': 0.6668885608652129, 'colsample_bytree': 0.9814105925387485}.\n",
      "[I 2025-05-16 11:14:15,691] Trial 19 finished with values: [0.6707226291459504, 0.012983203043084202] and parameters: {'max_depth': 4, 'eta': 0.12676843706095883, 'subsample': 0.9340231103943422, 'colsample_bytree': 0.7181461232368335}.\n",
      "[I 2025-05-16 11:14:15,803] Trial 20 finished with values: [0.6014741156684527, 0.031239727699774456] and parameters: {'max_depth': 3, 'eta': 0.09761228128904126, 'subsample': 0.8854345572048216, 'colsample_bytree': 0.8461391831887889}.\n",
      "[I 2025-05-16 11:14:15,918] Trial 21 finished with values: [0.5000061268315397, 0.0] and parameters: {'max_depth': 6, 'eta': 0.239809321518833, 'subsample': 0.7372409555580071, 'colsample_bytree': 0.7506323253469216}.\n",
      "[I 2025-05-16 11:14:16,026] Trial 22 finished with values: [0.6707226291459504, 0.012983203043084202] and parameters: {'max_depth': 6, 'eta': 0.1481824752054422, 'subsample': 0.9770873188946665, 'colsample_bytree': 0.9320500529951875}.\n",
      "[I 2025-05-16 11:14:16,135] Trial 23 finished with values: [0.5000061268315397, 0.0] and parameters: {'max_depth': 6, 'eta': 0.2533122158376075, 'subsample': 0.6186612120641177, 'colsample_bytree': 0.678586002018507}.\n",
      "[I 2025-05-16 11:14:16,243] Trial 24 finished with values: [0.5000061268315397, 0.0] and parameters: {'max_depth': 3, 'eta': 0.19956517594749332, 'subsample': 0.6445735627167003, 'colsample_bytree': 0.6734099589000748}.\n",
      "[I 2025-05-16 11:14:16,366] Trial 25 finished with values: [0.5000061268315397, 0.0] and parameters: {'max_depth': 6, 'eta': 0.015005242279499079, 'subsample': 0.8478537393400378, 'colsample_bytree': 0.6688937419879207}.\n",
      "[I 2025-05-16 11:14:16,483] Trial 26 finished with values: [0.6707226291459504, 0.012983203043084202] and parameters: {'max_depth': 7, 'eta': 0.0319211440793219, 'subsample': 0.9475947091680386, 'colsample_bytree': 0.6604303773526985}.\n",
      "[I 2025-05-16 11:14:16,573] Trial 27 finished with values: [0.5000061268315397, 0.0] and parameters: {'max_depth': 7, 'eta': 0.2623430398695148, 'subsample': 0.6267906169452108, 'colsample_bytree': 0.8817893416813183}.\n",
      "[I 2025-05-16 11:14:16,655] Trial 28 finished with values: [0.5000061268315397, 0.0] and parameters: {'max_depth': 4, 'eta': 0.10080246813454916, 'subsample': 0.8582652364621817, 'colsample_bytree': 0.9113463085482474}.\n",
      "[I 2025-05-16 11:14:16,744] Trial 29 finished with values: [0.6014741156684527, 0.031239727699774456] and parameters: {'max_depth': 3, 'eta': 0.1288014911528456, 'subsample': 0.8850458802965302, 'colsample_bytree': 0.8238585366860255}.\n",
      "[I 2025-05-16 11:14:16,824] Trial 30 finished with values: [0.5000061268315397, 0.0] and parameters: {'max_depth': 5, 'eta': 0.1985210481431259, 'subsample': 0.6598146778239323, 'colsample_bytree': 0.8559365670271386}.\n",
      "[I 2025-05-16 11:14:16,907] Trial 31 finished with values: [0.5000061268315397, 0.0] and parameters: {'max_depth': 6, 'eta': 0.1867342897156249, 'subsample': 0.7363590765116471, 'colsample_bytree': 0.7736606486245381}.\n",
      "[I 2025-05-16 11:14:16,995] Trial 32 finished with values: [0.5000061268315397, 0.0] and parameters: {'max_depth': 7, 'eta': 0.1344493958942249, 'subsample': 0.7029365269038469, 'colsample_bytree': 0.7078215988512673}.\n",
      "[I 2025-05-16 11:14:17,093] Trial 33 finished with values: [0.5000061268315397, 0.0] and parameters: {'max_depth': 6, 'eta': 0.2153267672334731, 'subsample': 0.6384622802673569, 'colsample_bytree': 0.7946829316528887}.\n",
      "[I 2025-05-16 11:14:17,202] Trial 34 finished with values: [0.5771842920292984, 0.01153118417932845] and parameters: {'max_depth': 4, 'eta': 0.033599849983653444, 'subsample': 0.8802036407299887, 'colsample_bytree': 0.8816877867432069}.\n",
      "[I 2025-05-16 11:14:17,296] Trial 35 finished with values: [0.5000061268315397, 0.0] and parameters: {'max_depth': 6, 'eta': 0.02564431010418422, 'subsample': 0.7739859453202573, 'colsample_bytree': 0.6514663372615046}.\n",
      "[I 2025-05-16 11:14:17,379] Trial 36 finished with values: [0.5000061268315397, 0.0] and parameters: {'max_depth': 7, 'eta': 0.2143242696050911, 'subsample': 0.6226133559502905, 'colsample_bytree': 0.970442451418382}.\n",
      "[I 2025-05-16 11:14:17,464] Trial 37 finished with values: [0.6707226291459504, 0.012983203043084202] and parameters: {'max_depth': 4, 'eta': 0.1553939889328053, 'subsample': 0.9952272352019265, 'colsample_bytree': 0.6632751741093783}.\n",
      "[I 2025-05-16 11:14:17,547] Trial 38 finished with values: [0.5000061268315397, 0.0] and parameters: {'max_depth': 7, 'eta': 0.1921514676321913, 'subsample': 0.7666950768764461, 'colsample_bytree': 0.7646391817968418}.\n",
      "[I 2025-05-16 11:14:17,629] Trial 39 finished with values: [0.6707226291459504, 0.012983203043084202] and parameters: {'max_depth': 7, 'eta': 0.15278148585178775, 'subsample': 0.9917257424130392, 'colsample_bytree': 0.8248147924419234}.\n",
      "[I 2025-05-16 11:14:17,715] Trial 40 finished with values: [0.5000061268315397, 0.0] and parameters: {'max_depth': 3, 'eta': 0.20201505438051665, 'subsample': 0.6375008130110201, 'colsample_bytree': 0.9064031481534256}.\n",
      "[I 2025-05-16 11:14:17,802] Trial 41 finished with values: [0.5000061268315397, 0.0] and parameters: {'max_depth': 4, 'eta': 0.1714604853604534, 'subsample': 0.6102328176005107, 'colsample_bytree': 0.7623950674722261}.\n",
      "[I 2025-05-16 11:14:17,884] Trial 42 finished with values: [0.5000061268315397, 0.0] and parameters: {'max_depth': 7, 'eta': 0.1887695811133497, 'subsample': 0.6067653833783324, 'colsample_bytree': 0.7191107933100409}.\n",
      "[I 2025-05-16 11:14:17,977] Trial 43 finished with values: [0.6200322884022142, 0.03279546821303892] and parameters: {'max_depth': 6, 'eta': 0.2742330437737439, 'subsample': 0.8815242910507928, 'colsample_bytree': 0.6864444277182481}.\n",
      "[I 2025-05-16 11:14:18,078] Trial 44 finished with values: [0.5000061268315397, 0.0] and parameters: {'max_depth': 7, 'eta': 0.1361094730164366, 'subsample': 0.7257804208279028, 'colsample_bytree': 0.7656372773008584}.\n",
      "[I 2025-05-16 11:14:18,165] Trial 45 finished with values: [0.5000061268315397, 0.0] and parameters: {'max_depth': 6, 'eta': 0.29064789941426245, 'subsample': 0.6452273185986401, 'colsample_bytree': 0.7987377675701421}.\n",
      "[I 2025-05-16 11:14:18,244] Trial 46 finished with values: [0.5000061268315397, 0.0] and parameters: {'max_depth': 5, 'eta': 0.014813939451964058, 'subsample': 0.6383648488773548, 'colsample_bytree': 0.7352413292458683}.\n",
      "[I 2025-05-16 11:14:18,336] Trial 47 finished with values: [0.5000061268315397, 0.0] and parameters: {'max_depth': 7, 'eta': 0.20778702389034737, 'subsample': 0.752191985905323, 'colsample_bytree': 0.6153083872609281}.\n",
      "[I 2025-05-16 11:14:18,427] Trial 48 finished with values: [0.5000061268315397, 0.0] and parameters: {'max_depth': 3, 'eta': 0.06110177884395826, 'subsample': 0.7943434046757596, 'colsample_bytree': 0.8955475822328798}.\n",
      "[I 2025-05-16 11:14:18,523] Trial 49 finished with values: [0.5000061268315397, 0.0] and parameters: {'max_depth': 6, 'eta': 0.01736381357188141, 'subsample': 0.7306859218995903, 'colsample_bytree': 0.8304699197664588}.\n",
      "[I 2025-05-16 11:14:18,535] A new study created in memory with name: no-name-cb81dbb6-69ce-42de-bed5-00d206e9f57c\n",
      "[I 2025-05-16 11:14:18,642] Trial 0 finished with values: [0.6707226291459504, 0.012983203043084202] and parameters: {'max_depth': 6, 'eta': 0.09428408982443498, 'subsample': 0.9126128515786456, 'colsample_bytree': 0.9734441246881029}.\n"
     ]
    },
    {
     "name": "stdout",
     "output_type": "stream",
     "text": [
      "Completed study for alpha=0.015625\n",
      "7\n"
     ]
    },
    {
     "name": "stderr",
     "output_type": "stream",
     "text": [
      "[I 2025-05-16 11:14:18,742] Trial 1 finished with values: [0.6707226291459504, 0.012983203043084202] and parameters: {'max_depth': 4, 'eta': 0.19089578479423744, 'subsample': 0.8995277025088886, 'colsample_bytree': 0.8960482734464708}.\n",
      "[I 2025-05-16 11:14:18,853] Trial 2 finished with values: [0.6707226291459504, 0.012983203043084202] and parameters: {'max_depth': 4, 'eta': 0.17487208523010944, 'subsample': 0.9793696210966348, 'colsample_bytree': 0.8843175381156422}.\n",
      "[I 2025-05-16 11:14:18,951] Trial 3 finished with values: [0.6707226291459504, 0.012983203043084202] and parameters: {'max_depth': 5, 'eta': 0.13954437566538086, 'subsample': 0.9034410236362823, 'colsample_bytree': 0.9522784355925448}.\n",
      "[I 2025-05-16 11:14:19,070] Trial 4 finished with values: [0.6707226291459504, 0.012983203043084202] and parameters: {'max_depth': 5, 'eta': 0.05925205040353617, 'subsample': 0.8273706269477274, 'colsample_bytree': 0.8063113375383473}.\n",
      "[I 2025-05-16 11:14:19,204] Trial 5 finished with values: [0.6707226291459504, 0.012983203043084202] and parameters: {'max_depth': 7, 'eta': 0.02919955189909268, 'subsample': 0.7888304118646211, 'colsample_bytree': 0.9460579858316865}.\n",
      "[I 2025-05-16 11:14:19,301] Trial 6 finished with values: [0.6707226291459504, 0.012983203043084202] and parameters: {'max_depth': 5, 'eta': 0.22337377589103682, 'subsample': 0.7000563034707756, 'colsample_bytree': 0.9890113676677746}.\n",
      "[I 2025-05-16 11:14:19,447] Trial 7 finished with values: [0.6678690573563335, 0.011644356256125052] and parameters: {'max_depth': 6, 'eta': 0.17452168487437716, 'subsample': 0.635595343351068, 'colsample_bytree': 0.9112175129765345}.\n",
      "[I 2025-05-16 11:14:19,572] Trial 8 finished with values: [0.6664445690233525, 0.011280123214385254] and parameters: {'max_depth': 6, 'eta': 0.293275448471973, 'subsample': 0.9218917637863363, 'colsample_bytree': 0.7853952555337184}.\n",
      "[I 2025-05-16 11:14:19,709] Trial 9 finished with values: [0.6707226291459504, 0.012983203043084202] and parameters: {'max_depth': 4, 'eta': 0.05836149952049436, 'subsample': 0.6322049945357334, 'colsample_bytree': 0.6736249820517326}.\n",
      "[I 2025-05-16 11:14:19,820] Trial 10 finished with values: [0.6707226291459504, 0.012983203043084202] and parameters: {'max_depth': 7, 'eta': 0.08680328494664963, 'subsample': 0.6811491359053735, 'colsample_bytree': 0.6618781951904539}.\n",
      "[I 2025-05-16 11:14:19,928] Trial 11 finished with values: [0.6707226291459504, 0.012983203043084202] and parameters: {'max_depth': 3, 'eta': 0.15925434768496044, 'subsample': 0.7344588557716386, 'colsample_bytree': 0.7560209831955929}.\n",
      "[I 2025-05-16 11:14:20,065] Trial 12 finished with values: [0.6707226291459504, 0.012983203043084202] and parameters: {'max_depth': 3, 'eta': 0.20508143106192167, 'subsample': 0.6677438665394436, 'colsample_bytree': 0.7176861358557427}.\n",
      "[I 2025-05-16 11:14:20,182] Trial 13 finished with values: [0.6707226291459504, 0.012983203043084202] and parameters: {'max_depth': 7, 'eta': 0.2682552614490254, 'subsample': 0.9864794213163702, 'colsample_bytree': 0.6414970447201983}.\n",
      "[I 2025-05-16 11:14:20,319] Trial 14 finished with values: [0.6707226291459504, 0.012983203043084202] and parameters: {'max_depth': 3, 'eta': 0.05333895548314541, 'subsample': 0.8969799662799339, 'colsample_bytree': 0.9108115768489513}.\n",
      "[I 2025-05-16 11:14:20,420] Trial 15 finished with values: [0.6707226291459504, 0.012983203043084202] and parameters: {'max_depth': 4, 'eta': 0.18214838631039387, 'subsample': 0.7324111439879905, 'colsample_bytree': 0.7166487956264601}.\n",
      "[I 2025-05-16 11:14:20,553] Trial 16 finished with values: [0.6671552814819579, 0.026001366857369552] and parameters: {'max_depth': 4, 'eta': 0.29578312145498836, 'subsample': 0.6268003424169755, 'colsample_bytree': 0.8666801546636189}.\n",
      "[I 2025-05-16 11:14:20,663] Trial 17 finished with values: [0.6578746634071923, 0.024935954194740522] and parameters: {'max_depth': 4, 'eta': 0.2740153172138004, 'subsample': 0.6024978866106785, 'colsample_bytree': 0.7525271683854216}.\n",
      "[I 2025-05-16 11:14:20,768] Trial 18 finished with values: [0.6707226291459504, 0.012983203043084202] and parameters: {'max_depth': 6, 'eta': 0.25742678239935135, 'subsample': 0.9924807047044854, 'colsample_bytree': 0.6766287996768439}.\n",
      "[I 2025-05-16 11:14:20,872] Trial 19 finished with values: [0.6707226291459504, 0.012983203043084202] and parameters: {'max_depth': 3, 'eta': 0.15283570578153585, 'subsample': 0.9734849669478977, 'colsample_bytree': 0.9953212192709142}.\n",
      "[I 2025-05-16 11:14:20,981] Trial 20 finished with values: [0.6642986462765713, 0.015622554976171868] and parameters: {'max_depth': 7, 'eta': 0.2715434449174954, 'subsample': 0.9307983729464645, 'colsample_bytree': 0.724370257435343}.\n",
      "[I 2025-05-16 11:14:21,063] Trial 21 finished with values: [0.6707226291459504, 0.012983203043084202] and parameters: {'max_depth': 7, 'eta': 0.16553088637233793, 'subsample': 0.6430964562211553, 'colsample_bytree': 0.8574516100408864}.\n",
      "[I 2025-05-16 11:14:21,167] Trial 22 finished with values: [0.6642986462765713, 0.015622554976171868] and parameters: {'max_depth': 3, 'eta': 0.2579130145786796, 'subsample': 0.9267369611837122, 'colsample_bytree': 0.7008698729327121}.\n",
      "[I 2025-05-16 11:14:21,283] Trial 23 finished with values: [0.6707226291459504, 0.012983203043084202] and parameters: {'max_depth': 6, 'eta': 0.05939161552189178, 'subsample': 0.7297569204182809, 'colsample_bytree': 0.9141819765255406}.\n",
      "[I 2025-05-16 11:14:21,401] Trial 24 finished with values: [0.6642986462765713, 0.015622554976171868] and parameters: {'max_depth': 7, 'eta': 0.253885456991521, 'subsample': 0.8733847740431439, 'colsample_bytree': 0.6649461452933224}.\n",
      "[I 2025-05-16 11:14:21,507] Trial 25 finished with values: [0.6707226291459504, 0.012983203043084202] and parameters: {'max_depth': 5, 'eta': 0.13358495219086464, 'subsample': 0.7052253943159257, 'colsample_bytree': 0.9061640828436419}.\n",
      "[I 2025-05-16 11:14:21,619] Trial 26 finished with values: [0.667153749774073, 0.011713283744407388] and parameters: {'max_depth': 7, 'eta': 0.06276523908746723, 'subsample': 0.6111918085227149, 'colsample_bytree': 0.8875547323862234}.\n",
      "[I 2025-05-16 11:14:21,720] Trial 27 finished with values: [0.6707226291459504, 0.012983203043084202] and parameters: {'max_depth': 5, 'eta': 0.21701020960512582, 'subsample': 0.75826993392829, 'colsample_bytree': 0.6166033242745684}.\n",
      "[I 2025-05-16 11:14:21,835] Trial 28 finished with values: [0.6707226291459504, 0.012983203043084202] and parameters: {'max_depth': 4, 'eta': 0.14545767302061682, 'subsample': 0.6461146272387613, 'colsample_bytree': 0.6758215019058742}.\n",
      "[I 2025-05-16 11:14:21,941] Trial 29 finished with values: [0.6707226291459504, 0.012983203043084202] and parameters: {'max_depth': 3, 'eta': 0.2518967160767262, 'subsample': 0.6876037686343439, 'colsample_bytree': 0.9671182279501601}.\n",
      "[I 2025-05-16 11:14:22,036] Trial 30 finished with values: [0.6707226291459504, 0.012983203043084202] and parameters: {'max_depth': 4, 'eta': 0.24496649961742017, 'subsample': 0.9321411703007365, 'colsample_bytree': 0.8777307265268183}.\n",
      "[I 2025-05-16 11:14:22,145] Trial 31 finished with values: [0.6614435427790696, 0.0204991415118214] and parameters: {'max_depth': 3, 'eta': 0.20123112329925685, 'subsample': 0.6140903512085462, 'colsample_bytree': 0.8931361395818465}.\n",
      "[I 2025-05-16 11:14:22,239] Trial 32 finished with values: [0.6678675256484485, 0.021274131276107517] and parameters: {'max_depth': 3, 'eta': 0.22256671552144983, 'subsample': 0.621241360628796, 'colsample_bytree': 0.6565167463429648}.\n",
      "[I 2025-05-16 11:14:22,340] Trial 33 finished with values: [0.6707226291459504, 0.012983203043084202] and parameters: {'max_depth': 4, 'eta': 0.21598756459636934, 'subsample': 0.9144848149571293, 'colsample_bytree': 0.6914798987584067}.\n",
      "[I 2025-05-16 11:14:22,481] Trial 34 finished with values: [0.6642986462765713, 0.01773549876748028] and parameters: {'max_depth': 7, 'eta': 0.2521171220237676, 'subsample': 0.7155874458063538, 'colsample_bytree': 0.9162244989070605}.\n",
      "[I 2025-05-16 11:14:22,604] Trial 35 finished with values: [0.6707226291459504, 0.012983203043084202] and parameters: {'max_depth': 5, 'eta': 0.1193770642435841, 'subsample': 0.9643696195303364, 'colsample_bytree': 0.8086163965443964}.\n",
      "[I 2025-05-16 11:14:22,719] Trial 36 finished with values: [0.6707226291459504, 0.012983203043084202] and parameters: {'max_depth': 3, 'eta': 0.18687896350506772, 'subsample': 0.9290000925725113, 'colsample_bytree': 0.6679392198927169}.\n",
      "[I 2025-05-16 11:14:22,828] Trial 37 finished with values: [0.6707226291459504, 0.012983203043084202] and parameters: {'max_depth': 6, 'eta': 0.12752984320227426, 'subsample': 0.9380062174790902, 'colsample_bytree': 0.8711962506193652}.\n",
      "[I 2025-05-16 11:14:23,023] Trial 38 finished with values: [0.6707226291459504, 0.012983203043084202] and parameters: {'max_depth': 7, 'eta': 0.029639951271378813, 'subsample': 0.7842709000061276, 'colsample_bytree': 0.9658499704973066}.\n",
      "[I 2025-05-16 11:14:23,153] Trial 39 finished with values: [0.6728685518927314, 0.008640771281297588] and parameters: {'max_depth': 6, 'eta': 0.281781090593341, 'subsample': 0.7118015058573265, 'colsample_bytree': 0.7085926525760763}.\n",
      "[I 2025-05-16 11:14:23,301] Trial 40 finished with values: [0.6707226291459504, 0.012983203043084202] and parameters: {'max_depth': 6, 'eta': 0.03634795902405302, 'subsample': 0.6179059759561522, 'colsample_bytree': 0.7184254205120348}.\n",
      "[I 2025-05-16 11:14:23,408] Trial 41 finished with values: [0.6707226291459504, 0.012983203043084202] and parameters: {'max_depth': 5, 'eta': 0.21879622425106668, 'subsample': 0.7422754415181592, 'colsample_bytree': 0.9674123008428539}.\n",
      "[I 2025-05-16 11:14:23,516] Trial 42 finished with values: [0.6707226291459504, 0.012983203043084202] and parameters: {'max_depth': 4, 'eta': 0.19641951327082208, 'subsample': 0.8436431101276197, 'colsample_bytree': 0.7037672853214709}.\n",
      "[I 2025-05-16 11:14:23,641] Trial 43 finished with values: [0.6707226291459504, 0.012983203043084202] and parameters: {'max_depth': 7, 'eta': 0.10165793529263956, 'subsample': 0.9357375552524788, 'colsample_bytree': 0.966912745121799}.\n",
      "[I 2025-05-16 11:14:23,746] Trial 44 finished with values: [0.6707226291459504, 0.012983203043084202] and parameters: {'max_depth': 6, 'eta': 0.11816474151461044, 'subsample': 0.8055829597494244, 'colsample_bytree': 0.7706765681978602}.\n",
      "[I 2025-05-16 11:14:23,871] Trial 45 finished with values: [0.6707226291459504, 0.012983203043084202] and parameters: {'max_depth': 5, 'eta': 0.2514672326171712, 'subsample': 0.902886009248652, 'colsample_bytree': 0.8334140000392011}.\n",
      "[I 2025-05-16 11:14:23,968] Trial 46 finished with values: [0.6707226291459504, 0.012983203043084202] and parameters: {'max_depth': 6, 'eta': 0.1616153762679216, 'subsample': 0.9415558549764075, 'colsample_bytree': 0.7850386926948814}.\n",
      "[I 2025-05-16 11:14:24,094] Trial 47 finished with values: [0.6707226291459504, 0.012983203043084202] and parameters: {'max_depth': 7, 'eta': 0.03223181142423789, 'subsample': 0.6636180554356764, 'colsample_bytree': 0.6264952500599397}.\n",
      "[I 2025-05-16 11:14:24,187] Trial 48 finished with values: [0.6707226291459504, 0.012983203043084202] and parameters: {'max_depth': 5, 'eta': 0.2399187023440184, 'subsample': 0.7830010048967477, 'colsample_bytree': 0.8269215374854214}.\n",
      "[I 2025-05-16 11:14:24,282] Trial 49 finished with values: [0.6707226291459504, 0.012983203043084202] and parameters: {'max_depth': 6, 'eta': 0.1860202288493077, 'subsample': 0.869654571770243, 'colsample_bytree': 0.907825543003746}.\n",
      "[I 2025-05-16 11:14:24,293] A new study created in memory with name: no-name-eafd3f1f-3fb1-4213-9912-3c0e16519b1f\n",
      "[I 2025-05-16 11:14:24,392] Trial 0 finished with values: [0.6707226291459504, 0.012983203043084202] and parameters: {'max_depth': 7, 'eta': 0.09661292156046324, 'subsample': 0.7661964568863022, 'colsample_bytree': 0.9600501492490134}.\n"
     ]
    },
    {
     "name": "stdout",
     "output_type": "stream",
     "text": [
      "Completed study for alpha=0.0234375\n",
      "8\n"
     ]
    },
    {
     "name": "stderr",
     "output_type": "stream",
     "text": [
      "[I 2025-05-16 11:14:24,493] Trial 1 finished with values: [0.6657261980253223, 0.025445747897029785] and parameters: {'max_depth': 4, 'eta': 0.2945986535698568, 'subsample': 0.7729987336825482, 'colsample_bytree': 0.8334937179808003}.\n",
      "[I 2025-05-16 11:14:24,587] Trial 2 finished with values: [0.6707226291459504, 0.012983203043084202] and parameters: {'max_depth': 4, 'eta': 0.11988836307020584, 'subsample': 0.924643013895621, 'colsample_bytree': 0.7862917066165132}.\n",
      "[I 2025-05-16 11:14:24,687] Trial 3 finished with values: [0.6707226291459504, 0.012983203043084202] and parameters: {'max_depth': 3, 'eta': 0.2886238222608369, 'subsample': 0.942954321633328, 'colsample_bytree': 0.6027852655133298}.\n",
      "[I 2025-05-16 11:14:24,769] Trial 4 finished with values: [0.506443895071883, 0.0031430934656741113] and parameters: {'max_depth': 7, 'eta': 0.29508162051441367, 'subsample': 0.60844178549833, 'colsample_bytree': 0.7583924293887808}.\n",
      "[I 2025-05-16 11:14:24,854] Trial 5 finished with values: [0.6707226291459504, 0.012983203043084202] and parameters: {'max_depth': 3, 'eta': 0.24745455252176582, 'subsample': 0.9882861279628458, 'colsample_bytree': 0.6917160822316689}.\n",
      "[I 2025-05-16 11:14:24,933] Trial 6 finished with values: [0.5000061268315397, 0.0] and parameters: {'max_depth': 5, 'eta': 0.0504980502577411, 'subsample': 0.6485748884994879, 'colsample_bytree': 0.6209503294456052}.\n",
      "[I 2025-05-16 11:14:25,010] Trial 7 finished with values: [0.6707226291459504, 0.012983203043084202] and parameters: {'max_depth': 6, 'eta': 0.21785346324335944, 'subsample': 0.8270416186976279, 'colsample_bytree': 0.7987254870221566}.\n",
      "[I 2025-05-16 11:14:25,092] Trial 8 finished with values: [0.6707226291459504, 0.012983203043084202] and parameters: {'max_depth': 4, 'eta': 0.11863101092598691, 'subsample': 0.9892826127945609, 'colsample_bytree': 0.8870575750579364}.\n",
      "[I 2025-05-16 11:14:25,171] Trial 9 finished with values: [0.6692950773971994, 0.023306651601310773] and parameters: {'max_depth': 5, 'eta': 0.272419563438541, 'subsample': 0.9286387347188187, 'colsample_bytree': 0.6243128952122807}.\n",
      "[I 2025-05-16 11:14:25,247] Trial 10 finished with values: [0.6707226291459504, 0.012983203043084202] and parameters: {'max_depth': 7, 'eta': 0.15651778888761111, 'subsample': 0.9209604621926777, 'colsample_bytree': 0.832549437568812}.\n",
      "[I 2025-05-16 11:14:25,351] Trial 11 finished with values: [0.6728685518927314, 0.008640771281297588] and parameters: {'max_depth': 7, 'eta': 0.2737592486000729, 'subsample': 0.807639579650747, 'colsample_bytree': 0.9415175117121766}.\n",
      "[I 2025-05-16 11:14:25,452] Trial 12 finished with values: [0.6707226291459504, 0.012983203043084202] and parameters: {'max_depth': 5, 'eta': 0.1287998700861472, 'subsample': 0.9192389513762607, 'colsample_bytree': 0.9190770818271798}.\n",
      "[I 2025-05-16 11:14:25,578] Trial 13 finished with values: [0.6707226291459504, 0.012983203043084202] and parameters: {'max_depth': 3, 'eta': 0.25258522651306803, 'subsample': 0.9857037797522509, 'colsample_bytree': 0.8804692948122665}.\n",
      "[I 2025-05-16 11:14:25,680] Trial 14 finished with values: [0.6707226291459504, 0.012983203043084202] and parameters: {'max_depth': 6, 'eta': 0.24209587325864795, 'subsample': 0.803354346154879, 'colsample_bytree': 0.9277100144138007}.\n",
      "[I 2025-05-16 11:14:25,774] Trial 15 finished with values: [0.6707226291459504, 0.012983203043084202] and parameters: {'max_depth': 4, 'eta': 0.26481879659334084, 'subsample': 0.9399110101686325, 'colsample_bytree': 0.9196692126320269}.\n",
      "[I 2025-05-16 11:14:25,961] Trial 16 finished with values: [0.6707226291459504, 0.012983203043084202] and parameters: {'max_depth': 3, 'eta': 0.011439260847012508, 'subsample': 0.9882799094473127, 'colsample_bytree': 0.6018231229216912}.\n",
      "[I 2025-05-16 11:14:26,067] Trial 17 finished with values: [0.6707226291459504, 0.012983203043084202] and parameters: {'max_depth': 4, 'eta': 0.08199132547785788, 'subsample': 0.9164883202501947, 'colsample_bytree': 0.7674477861639223}.\n",
      "[I 2025-05-16 11:14:26,161] Trial 18 finished with values: [0.6707226291459504, 0.012983203043084202] and parameters: {'max_depth': 7, 'eta': 0.2253996858751448, 'subsample': 0.8216341851550172, 'colsample_bytree': 0.7840197286852301}.\n",
      "[I 2025-05-16 11:14:26,253] Trial 19 finished with values: [0.6707226291459504, 0.012983203043084202] and parameters: {'max_depth': 4, 'eta': 0.2655600517086941, 'subsample': 0.9527781327082963, 'colsample_bytree': 0.7826691938522914}.\n",
      "[I 2025-05-16 11:14:26,332] Trial 20 finished with values: [0.6393042370103513, 0.040359097511747925] and parameters: {'max_depth': 7, 'eta': 0.17016493035992158, 'subsample': 0.7196816410974926, 'colsample_bytree': 0.8315489036004233}.\n",
      "[I 2025-05-16 11:14:26,413] Trial 21 finished with values: [0.6707226291459504, 0.012983203043084202] and parameters: {'max_depth': 5, 'eta': 0.2897133912899329, 'subsample': 0.7732515753417718, 'colsample_bytree': 0.9793530336491402}.\n",
      "[I 2025-05-16 11:14:26,522] Trial 22 finished with values: [0.6707226291459504, 0.012983203043084202] and parameters: {'max_depth': 4, 'eta': 0.033634102986174745, 'subsample': 0.986483691709763, 'colsample_bytree': 0.9548708745953798}.\n",
      "[I 2025-05-16 11:14:26,611] Trial 23 finished with values: [0.6707226291459504, 0.012983203043084202] and parameters: {'max_depth': 4, 'eta': 0.0825436718845426, 'subsample': 0.9043797595979711, 'colsample_bytree': 0.8321473464597887}.\n",
      "[I 2025-05-16 11:14:26,696] Trial 24 finished with values: [0.5000061268315397, 0.0] and parameters: {'max_depth': 5, 'eta': 0.056032283392946636, 'subsample': 0.6692863797115519, 'colsample_bytree': 0.6662425369189185}.\n",
      "[I 2025-05-16 11:14:26,788] Trial 25 finished with values: [0.5000061268315397, 0.0] and parameters: {'max_depth': 7, 'eta': 0.0652905605741016, 'subsample': 0.6135536902550739, 'colsample_bytree': 0.6530644310331641}.\n",
      "[I 2025-05-16 11:14:26,872] Trial 26 finished with values: [0.506443895071883, 0.0031430934656741113] and parameters: {'max_depth': 4, 'eta': 0.2965461707233124, 'subsample': 0.6132511038480319, 'colsample_bytree': 0.8373729831587419}.\n",
      "[I 2025-05-16 11:14:26,988] Trial 27 finished with values: [0.6707226291459504, 0.012983203043084202] and parameters: {'max_depth': 5, 'eta': 0.0204037219232976, 'subsample': 0.7453647395468302, 'colsample_bytree': 0.7818226197487375}.\n",
      "[I 2025-05-16 11:14:27,088] Trial 28 finished with values: [0.6600159910303186, 0.017612263712454567] and parameters: {'max_depth': 3, 'eta': 0.0663937399561844, 'subsample': 0.7308524539795009, 'colsample_bytree': 0.9665017994324956}.\n",
      "[I 2025-05-16 11:14:27,167] Trial 29 finished with values: [0.6293159698927497, 0.016411369585383404] and parameters: {'max_depth': 5, 'eta': 0.261572876803237, 'subsample': 0.6898731748384208, 'colsample_bytree': 0.7275382436548726}.\n",
      "[I 2025-05-16 11:14:27,252] Trial 30 finished with values: [0.6707226291459504, 0.012983203043084202] and parameters: {'max_depth': 5, 'eta': 0.10573764195162606, 'subsample': 0.9010355449045173, 'colsample_bytree': 0.8526661589588671}.\n",
      "[I 2025-05-16 11:14:27,336] Trial 31 finished with values: [0.5843373678519022, 0.018933996420850373] and parameters: {'max_depth': 7, 'eta': 0.23439157594744353, 'subsample': 0.6804662637673782, 'colsample_bytree': 0.8684014983747079}.\n",
      "[I 2025-05-16 11:14:27,434] Trial 32 finished with values: [0.6707226291459504, 0.012983203043084202] and parameters: {'max_depth': 6, 'eta': 0.0843692325787958, 'subsample': 0.8306500033434512, 'colsample_bytree': 0.6975312778202925}.\n",
      "[I 2025-05-16 11:14:27,537] Trial 33 finished with values: [0.5465011196784638, 0.014571271022883933] and parameters: {'max_depth': 4, 'eta': 0.2713434627189316, 'subsample': 0.663992988561379, 'colsample_bytree': 0.8525352395217225}.\n",
      "[I 2025-05-16 11:14:27,630] Trial 34 finished with values: [0.5000061268315397, 0.0] and parameters: {'max_depth': 6, 'eta': 0.10403991152557616, 'subsample': 0.6705008953217879, 'colsample_bytree': 0.9720633045941368}.\n",
      "[I 2025-05-16 11:14:27,791] Trial 35 finished with values: [0.6707226291459504, 0.012983203043084202] and parameters: {'max_depth': 4, 'eta': 0.037109366728601954, 'subsample': 0.8807471246007894, 'colsample_bytree': 0.84013979475412}.\n",
      "[I 2025-05-16 11:14:27,910] Trial 36 finished with values: [0.6707226291459504, 0.012983203043084202] and parameters: {'max_depth': 3, 'eta': 0.25656300249682096, 'subsample': 0.9432624102556402, 'colsample_bytree': 0.9925156651376112}.\n",
      "[I 2025-05-16 11:14:28,018] Trial 37 finished with values: [0.655731804076181, 0.01839157846262422] and parameters: {'max_depth': 6, 'eta': 0.2976429129253446, 'subsample': 0.7237653399243403, 'colsample_bytree': 0.6670542051243361}.\n",
      "[I 2025-05-16 11:14:28,121] Trial 38 finished with values: [0.6707226291459504, 0.012983203043084202] and parameters: {'max_depth': 6, 'eta': 0.29685168040491866, 'subsample': 0.8614877126032889, 'colsample_bytree': 0.99978379548999}.\n",
      "[I 2025-05-16 11:14:28,233] Trial 39 finished with values: [0.6707226291459504, 0.012983203043084202] and parameters: {'max_depth': 3, 'eta': 0.08592682275408667, 'subsample': 0.7892813824231567, 'colsample_bytree': 0.8766386062421414}.\n",
      "[I 2025-05-16 11:14:28,380] Trial 40 finished with values: [0.6707226291459504, 0.012983203043084202] and parameters: {'max_depth': 3, 'eta': 0.023099778016319517, 'subsample': 0.8836743013112571, 'colsample_bytree': 0.826491637518351}.\n",
      "[I 2025-05-16 11:14:28,540] Trial 41 finished with values: [0.6707226291459504, 0.012983203043084202] and parameters: {'max_depth': 7, 'eta': 0.06397351985940415, 'subsample': 0.8901192263059021, 'colsample_bytree': 0.7669020820566788}.\n",
      "[I 2025-05-16 11:14:28,671] Trial 42 finished with values: [0.6707226291459504, 0.012983203043084202] and parameters: {'max_depth': 5, 'eta': 0.06486363962458745, 'subsample': 0.9336322272186744, 'colsample_bytree': 0.8150346203017853}.\n",
      "[I 2025-05-16 11:14:28,762] Trial 43 finished with values: [0.6707226291459504, 0.012983203043084202] and parameters: {'max_depth': 7, 'eta': 0.25200434717576525, 'subsample': 0.806542811153509, 'colsample_bytree': 0.7143012360150807}.\n",
      "[I 2025-05-16 11:14:28,863] Trial 44 finished with values: [0.6707226291459504, 0.012983203043084202] and parameters: {'max_depth': 4, 'eta': 0.14064753568344643, 'subsample': 0.7780891270518129, 'colsample_bytree': 0.6645762487564723}.\n",
      "[I 2025-05-16 11:14:28,958] Trial 45 finished with values: [0.5228959694638716, 0.004052936311000829] and parameters: {'max_depth': 3, 'eta': 0.24515342954059363, 'subsample': 0.6491226533733863, 'colsample_bytree': 0.9888523387052046}.\n",
      "[I 2025-05-16 11:14:29,051] Trial 46 finished with values: [0.6707226291459504, 0.012983203043084202] and parameters: {'max_depth': 5, 'eta': 0.0898697166899629, 'subsample': 0.8372870664185144, 'colsample_bytree': 0.970040320886982}.\n",
      "[I 2025-05-16 11:14:29,139] Trial 47 finished with values: [0.6721532443104711, 0.010777523418049736] and parameters: {'max_depth': 6, 'eta': 0.28091855075954564, 'subsample': 0.8038487202969364, 'colsample_bytree': 0.796964091647697}.\n",
      "[I 2025-05-16 11:14:29,224] Trial 48 finished with values: [0.6707226291459504, 0.012983203043084202] and parameters: {'max_depth': 5, 'eta': 0.14268515914897764, 'subsample': 0.8763639912234937, 'colsample_bytree': 0.9149159726048334}.\n",
      "[I 2025-05-16 11:14:29,317] Trial 49 finished with values: [0.5000061268315397, 0.0] and parameters: {'max_depth': 4, 'eta': 0.24711854433459687, 'subsample': 0.6015367000064538, 'colsample_bytree': 0.8152855122267417}.\n",
      "[I 2025-05-16 11:14:29,329] A new study created in memory with name: no-name-8b355528-e61a-427d-ba37-fdeec77190ea\n",
      "[I 2025-05-16 11:14:29,496] Trial 0 finished with values: [0.6707226291459504, 0.012983203043084202] and parameters: {'max_depth': 4, 'eta': 0.07044454780099176, 'subsample': 0.9025898668610198, 'colsample_bytree': 0.917820800488145}.\n"
     ]
    },
    {
     "name": "stdout",
     "output_type": "stream",
     "text": [
      "Completed study for alpha=0.01953125\n",
      "9\n"
     ]
    },
    {
     "name": "stderr",
     "output_type": "stream",
     "text": [
      "[I 2025-05-16 11:14:29,589] Trial 1 finished with values: [0.6271807691011632, 0.03143399405520433] and parameters: {'max_depth': 6, 'eta': 0.2771153951983825, 'subsample': 0.6229388644117619, 'colsample_bytree': 0.7304056297078669}.\n",
      "[I 2025-05-16 11:14:29,721] Trial 2 finished with values: [0.6707226291459504, 0.012983203043084202] and parameters: {'max_depth': 5, 'eta': 0.03967092924973047, 'subsample': 0.9957549406566285, 'colsample_bytree': 0.7903203207548029}.\n",
      "[I 2025-05-16 11:14:29,816] Trial 3 finished with values: [0.6707226291459504, 0.012983203043084202] and parameters: {'max_depth': 7, 'eta': 0.27571959226150544, 'subsample': 0.8218156081836409, 'colsample_bytree': 0.7341920051982124}.\n",
      "[I 2025-05-16 11:14:29,918] Trial 4 finished with values: [0.6707226291459504, 0.012983203043084202] and parameters: {'max_depth': 6, 'eta': 0.09675310544935294, 'subsample': 0.7624401254673736, 'colsample_bytree': 0.9289080231697819}.\n",
      "[I 2025-05-16 11:14:30,019] Trial 5 finished with values: [0.6707226291459504, 0.012983203043084202] and parameters: {'max_depth': 4, 'eta': 0.19022204054944084, 'subsample': 0.9713218728655642, 'colsample_bytree': 0.7585641093734988}.\n",
      "[I 2025-05-16 11:14:30,127] Trial 6 finished with values: [0.6707226291459504, 0.012983203043084202] and parameters: {'max_depth': 4, 'eta': 0.2058890434625448, 'subsample': 0.737867009542775, 'colsample_bytree': 0.669738404355588}.\n",
      "[I 2025-05-16 11:14:30,221] Trial 7 finished with values: [0.6642986462765713, 0.015622554976171868] and parameters: {'max_depth': 6, 'eta': 0.26967152732151717, 'subsample': 0.8717494231369449, 'colsample_bytree': 0.7101531920117223}.\n",
      "[I 2025-05-16 11:14:30,323] Trial 8 finished with values: [0.6707226291459504, 0.012983203043084202] and parameters: {'max_depth': 4, 'eta': 0.11487825320221749, 'subsample': 0.8320749923167808, 'colsample_bytree': 0.8520764860934936}.\n",
      "[I 2025-05-16 11:14:30,432] Trial 9 finished with values: [0.6707226291459504, 0.012983203043084202] and parameters: {'max_depth': 6, 'eta': 0.06347907178510198, 'subsample': 0.9276065233417963, 'colsample_bytree': 0.9077813462851589}.\n",
      "[I 2025-05-16 11:14:30,537] Trial 10 finished with values: [0.6707226291459504, 0.012983203043084202] and parameters: {'max_depth': 6, 'eta': 0.07344237668611237, 'subsample': 0.9114909807184317, 'colsample_bytree': 0.7728199380328084}.\n",
      "[I 2025-05-16 11:14:30,642] Trial 11 finished with values: [0.6650124221509467, 0.01590769271963564] and parameters: {'max_depth': 7, 'eta': 0.2955304713839571, 'subsample': 0.9003393746881719, 'colsample_bytree': 0.6302063279133405}.\n",
      "[I 2025-05-16 11:14:30,751] Trial 12 finished with values: [0.6707226291459504, 0.012983203043084202] and parameters: {'max_depth': 3, 'eta': 0.27211953241246817, 'subsample': 0.8505717038017024, 'colsample_bytree': 0.7542609228983862}.\n",
      "[I 2025-05-16 11:14:30,861] Trial 13 finished with values: [0.6707226291459504, 0.012983203043084202] and parameters: {'max_depth': 4, 'eta': 0.15279496063362014, 'subsample': 0.7348020825331434, 'colsample_bytree': 0.7238925419732264}.\n",
      "[I 2025-05-16 11:14:30,976] Trial 14 finished with values: [0.6707226291459504, 0.012983203043084202] and parameters: {'max_depth': 5, 'eta': 0.16779380966100574, 'subsample': 0.8730883850205493, 'colsample_bytree': 0.7126205682326062}.\n",
      "[I 2025-05-16 11:14:31,116] Trial 15 finished with values: [0.6050414633324449, 0.016644437794967507] and parameters: {'max_depth': 4, 'eta': 0.24904618527558905, 'subsample': 0.6325300634692917, 'colsample_bytree': 0.8088236538882486}.\n",
      "[I 2025-05-16 11:14:31,325] Trial 16 finished with values: [0.5922057512567663, 0.011420900198076733] and parameters: {'max_depth': 7, 'eta': 0.17471128377975154, 'subsample': 0.6391330136467467, 'colsample_bytree': 0.930811703183205}.\n",
      "[I 2025-05-16 11:14:31,459] Trial 17 finished with values: [0.6707226291459504, 0.012983203043084202] and parameters: {'max_depth': 5, 'eta': 0.13391916992302325, 'subsample': 0.9319074130470824, 'colsample_bytree': 0.9472722225717836}.\n",
      "[I 2025-05-16 11:14:31,768] Trial 18 finished with values: [0.6707226291459504, 0.012983203043084202] and parameters: {'max_depth': 4, 'eta': 0.12221961982584419, 'subsample': 0.8459247135686632, 'colsample_bytree': 0.9469147069723921}.\n",
      "[I 2025-05-16 11:14:32,034] Trial 19 finished with values: [0.6707226291459504, 0.012983203043084202] and parameters: {'max_depth': 3, 'eta': 0.17052447334445037, 'subsample': 0.8975093831592369, 'colsample_bytree': 0.7267208471980249}.\n",
      "[I 2025-05-16 11:14:32,173] Trial 20 finished with values: [0.5000061268315397, 0.0] and parameters: {'max_depth': 3, 'eta': 0.056966858952711155, 'subsample': 0.6032123055973961, 'colsample_bytree': 0.7679043893131532}.\n",
      "[I 2025-05-16 11:14:32,812] Trial 21 finished with values: [0.6707226291459504, 0.012983203043084202] and parameters: {'max_depth': 5, 'eta': 0.19591847375987045, 'subsample': 0.6919107287494681, 'colsample_bytree': 0.8031093517765789}.\n",
      "[I 2025-05-16 11:14:33,005] Trial 22 finished with values: [0.6707226291459504, 0.012983203043084202] and parameters: {'max_depth': 4, 'eta': 0.2549566621337643, 'subsample': 0.9022379010780269, 'colsample_bytree': 0.9886316707126038}.\n",
      "[I 2025-05-16 11:14:33,194] Trial 23 finished with values: [0.6721532443104711, 0.010777523418049736] and parameters: {'max_depth': 7, 'eta': 0.27608557561239283, 'subsample': 0.7493137043243953, 'colsample_bytree': 0.790795806366459}.\n",
      "[I 2025-05-16 11:14:33,458] Trial 24 finished with values: [0.6050537169955242, 0.009147109474557982] and parameters: {'max_depth': 4, 'eta': 0.21806322094946382, 'subsample': 0.6345700544938272, 'colsample_bytree': 0.9119449039380907}.\n",
      "[I 2025-05-16 11:14:33,609] Trial 25 finished with values: [0.6707226291459504, 0.012983203043084202] and parameters: {'max_depth': 3, 'eta': 0.051906090806732884, 'subsample': 0.9818869249730426, 'colsample_bytree': 0.9685129843665272}.\n",
      "[I 2025-05-16 11:14:33,757] Trial 26 finished with values: [0.6457389418349249, 0.03793288436286185] and parameters: {'max_depth': 4, 'eta': 0.22344157704315126, 'subsample': 0.6488855143916425, 'colsample_bytree': 0.7327556522920692}.\n",
      "[I 2025-05-16 11:14:33,858] Trial 27 finished with values: [0.6714379367282106, 0.012914275554801865] and parameters: {'max_depth': 3, 'eta': 0.19077504116847882, 'subsample': 0.6779344194918702, 'colsample_bytree': 0.6451689037901992}.\n",
      "[I 2025-05-16 11:14:33,972] Trial 28 finished with values: [0.6707226291459504, 0.012983203043084202] and parameters: {'max_depth': 6, 'eta': 0.15082016469392326, 'subsample': 0.7519573814125579, 'colsample_bytree': 0.6330277715146199}.\n",
      "[I 2025-05-16 11:14:34,109] Trial 29 finished with values: [0.6707226291459504, 0.012983203043084202] and parameters: {'max_depth': 6, 'eta': 0.031704359948872045, 'subsample': 0.830698598014172, 'colsample_bytree': 0.8501961248552952}.\n",
      "[I 2025-05-16 11:14:34,207] Trial 30 finished with values: [0.6657216029016674, 0.020116149472964417] and parameters: {'max_depth': 3, 'eta': 0.28947903412496573, 'subsample': 0.7020174519055811, 'colsample_bytree': 0.9580905234241219}.\n",
      "[I 2025-05-16 11:14:34,332] Trial 31 finished with values: [0.6707226291459504, 0.012983203043084202] and parameters: {'max_depth': 6, 'eta': 0.1960481856341227, 'subsample': 0.7648780875833803, 'colsample_bytree': 0.8536543292912518}.\n",
      "[I 2025-05-16 11:14:34,445] Trial 32 finished with values: [0.5829144112268061, 0.010801638904333772] and parameters: {'max_depth': 3, 'eta': 0.22448767998807112, 'subsample': 0.6260661971397748, 'colsample_bytree': 0.6870632013435513}.\n",
      "[I 2025-05-16 11:14:34,546] Trial 33 finished with values: [0.5807853372667592, 0.006866007526847864] and parameters: {'max_depth': 7, 'eta': 0.09181091846437141, 'subsample': 0.6394228016263941, 'colsample_bytree': 0.7910074500417386}.\n",
      "[I 2025-05-16 11:14:34,737] Trial 34 finished with values: [0.6707226291459504, 0.012983203043084202] and parameters: {'max_depth': 5, 'eta': 0.24191596748382815, 'subsample': 0.8721084656297063, 'colsample_bytree': 0.7653683995924987}.\n",
      "[I 2025-05-16 11:14:34,839] Trial 35 finished with values: [0.6707226291459504, 0.012983203043084202] and parameters: {'max_depth': 6, 'eta': 0.057134037743281935, 'subsample': 0.7381343641259943, 'colsample_bytree': 0.9469737452767903}.\n",
      "[I 2025-05-16 11:14:34,929] Trial 36 finished with values: [0.5422092741849016, 0.004990350151640473] and parameters: {'max_depth': 6, 'eta': 0.14070569853027198, 'subsample': 0.6150378055052308, 'colsample_bytree': 0.766701482197458}.\n",
      "[I 2025-05-16 11:14:35,021] Trial 37 finished with values: [0.6707226291459504, 0.012983203043084202] and parameters: {'max_depth': 4, 'eta': 0.09018253036157794, 'subsample': 0.898387344968191, 'colsample_bytree': 0.85473354207135}.\n",
      "[I 2025-05-16 11:14:35,124] Trial 38 finished with values: [0.6707226291459504, 0.012983203043084202] and parameters: {'max_depth': 5, 'eta': 0.076539806582635, 'subsample': 0.8263004014667096, 'colsample_bytree': 0.7596505817199127}.\n",
      "[I 2025-05-16 11:14:35,236] Trial 39 finished with values: [0.6707226291459504, 0.012983203043084202] and parameters: {'max_depth': 6, 'eta': 0.0529452409554995, 'subsample': 0.8277906102746067, 'colsample_bytree': 0.6040825384905006}.\n",
      "[I 2025-05-16 11:14:35,331] Trial 40 finished with values: [0.5414939666026413, 0.003942652329749098] and parameters: {'max_depth': 7, 'eta': 0.07133147806276716, 'subsample': 0.6199379172644924, 'colsample_bytree': 0.9180904529555052}.\n",
      "[I 2025-05-16 11:14:35,428] Trial 41 finished with values: [0.6707226291459504, 0.012983203043084202] and parameters: {'max_depth': 3, 'eta': 0.16905906505701776, 'subsample': 0.8966611013892465, 'colsample_bytree': 0.881120511471787}.\n",
      "[I 2025-05-16 11:14:35,551] Trial 42 finished with values: [0.6707226291459504, 0.012983203043084202] and parameters: {'max_depth': 4, 'eta': 0.034558631854401646, 'subsample': 0.6881922845377281, 'colsample_bytree': 0.7849165075194062}.\n",
      "[I 2025-05-16 11:14:35,637] Trial 43 finished with values: [0.6707226291459504, 0.012983203043084202] and parameters: {'max_depth': 5, 'eta': 0.14692796760482693, 'subsample': 0.8873713239523202, 'colsample_bytree': 0.7035536525552428}.\n",
      "[I 2025-05-16 11:14:35,723] Trial 44 finished with values: [0.6485940453324265, 0.022617466045241053] and parameters: {'max_depth': 7, 'eta': 0.2304634789500965, 'subsample': 0.650673916091239, 'colsample_bytree': 0.7967378427110915}.\n",
      "[I 2025-05-16 11:14:35,835] Trial 45 finished with values: [0.6707226291459504, 0.012983203043084202] and parameters: {'max_depth': 5, 'eta': 0.05401981189053671, 'subsample': 0.6827609849919356, 'colsample_bytree': 0.6672070498098631}.\n",
      "[I 2025-05-16 11:14:35,924] Trial 46 finished with values: [0.6707226291459504, 0.012983203043084202] and parameters: {'max_depth': 5, 'eta': 0.1909614326555036, 'subsample': 0.9997388540937839, 'colsample_bytree': 0.9888093342981306}.\n",
      "[I 2025-05-16 11:14:36,011] Trial 47 finished with values: [0.6707226291459504, 0.012983203043084202] and parameters: {'max_depth': 3, 'eta': 0.15548777125494484, 'subsample': 0.833585237153815, 'colsample_bytree': 0.8604740736553025}.\n",
      "[I 2025-05-16 11:14:36,218] Trial 48 finished with values: [0.6707226291459504, 0.012983203043084202] and parameters: {'max_depth': 3, 'eta': 0.01730234954379156, 'subsample': 0.6839547626259218, 'colsample_bytree': 0.7085598553447086}.\n",
      "[I 2025-05-16 11:14:36,416] Trial 49 finished with values: [0.6714379367282106, 0.012914275554801865] and parameters: {'max_depth': 4, 'eta': 0.2115113294924675, 'subsample': 0.6810261686161688, 'colsample_bytree': 0.7809274659966478}.\n",
      "[I 2025-05-16 11:14:36,430] A new study created in memory with name: no-name-978f7d58-0d43-46bd-b6d9-b96b7f6ffd98\n",
      "[I 2025-05-16 11:14:36,545] Trial 0 finished with values: [0.6707226291459504, 0.012983203043084202] and parameters: {'max_depth': 7, 'eta': 0.13022031268894899, 'subsample': 0.8504364429554119, 'colsample_bytree': 0.756177007122353}.\n"
     ]
    },
    {
     "name": "stdout",
     "output_type": "stream",
     "text": [
      "Completed study for alpha=0.021484375\n",
      "10\n"
     ]
    },
    {
     "name": "stderr",
     "output_type": "stream",
     "text": [
      "[I 2025-05-16 11:14:36,815] Trial 1 finished with values: [0.6707226291459504, 0.012983203043084202] and parameters: {'max_depth': 5, 'eta': 0.25868289464769134, 'subsample': 0.8998253390102837, 'colsample_bytree': 0.7994647772102474}.\n",
      "[I 2025-05-16 11:14:37,174] Trial 2 finished with values: [0.6707226291459504, 0.012983203043084202] and parameters: {'max_depth': 5, 'eta': 0.018620106590440576, 'subsample': 0.9903022879324853, 'colsample_bytree': 0.6382476637554029}.\n",
      "[I 2025-05-16 11:14:37,286] Trial 3 finished with values: [0.6707226291459504, 0.012983203043084202] and parameters: {'max_depth': 4, 'eta': 0.12533003687830607, 'subsample': 0.7832412325661223, 'colsample_bytree': 0.6859584725418185}.\n",
      "[I 2025-05-16 11:14:37,434] Trial 4 finished with values: [0.6707226291459504, 0.012983203043084202] and parameters: {'max_depth': 6, 'eta': 0.17221056285644643, 'subsample': 0.7279389267522296, 'colsample_bytree': 0.9448948023637911}.\n",
      "[I 2025-05-16 11:14:37,550] Trial 5 finished with values: [0.6692966091050844, 0.022221463950426807] and parameters: {'max_depth': 7, 'eta': 0.2836149127182215, 'subsample': 0.6526367255807483, 'colsample_bytree': 0.8201161034074906}.\n",
      "[I 2025-05-16 11:14:37,745] Trial 6 finished with values: [0.6707226291459504, 0.012983203043084202] and parameters: {'max_depth': 4, 'eta': 0.23760005332582948, 'subsample': 0.8463680518206929, 'colsample_bytree': 0.7202203416259803}.\n",
      "[I 2025-05-16 11:14:37,892] Trial 7 finished with values: [0.6707226291459504, 0.012983203043084202] and parameters: {'max_depth': 7, 'eta': 0.05984466643679969, 'subsample': 0.8594536293972457, 'colsample_bytree': 0.923999533251297}.\n",
      "[I 2025-05-16 11:14:38,021] Trial 8 finished with values: [0.6707226291459504, 0.012983203043084202] and parameters: {'max_depth': 7, 'eta': 0.08549407877909851, 'subsample': 0.7366341212657632, 'colsample_bytree': 0.9353474106903354}.\n",
      "[I 2025-05-16 11:14:38,270] Trial 9 finished with values: [0.6707226291459504, 0.012983203043084202] and parameters: {'max_depth': 7, 'eta': 0.010157082317004403, 'subsample': 0.67249353942897, 'colsample_bytree': 0.8469463304561651}.\n",
      "[I 2025-05-16 11:14:38,379] Trial 10 finished with values: [0.6707272242696051, 0.01794795967692253] and parameters: {'max_depth': 5, 'eta': 0.2991254372780151, 'subsample': 0.7529850792881492, 'colsample_bytree': 0.9830147687259801}.\n",
      "[I 2025-05-16 11:14:38,528] Trial 11 finished with values: [0.6707226291459504, 0.012983203043084202] and parameters: {'max_depth': 6, 'eta': 0.019666292374891998, 'subsample': 0.7963641243150699, 'colsample_bytree': 0.8969756476510258}.\n",
      "[I 2025-05-16 11:14:38,641] Trial 12 finished with values: [0.6707226291459504, 0.012983203043084202] and parameters: {'max_depth': 6, 'eta': 0.058960073990145995, 'subsample': 0.8860475463261595, 'colsample_bytree': 0.817799657916761}.\n",
      "[I 2025-05-16 11:14:38,742] Trial 13 finished with values: [0.6707272242696051, 0.01794795967692253] and parameters: {'max_depth': 4, 'eta': 0.2952834179072869, 'subsample': 0.7324362600989278, 'colsample_bytree': 0.9425087089651298}.\n",
      "[I 2025-05-16 11:14:38,859] Trial 14 finished with values: [0.6707226291459504, 0.012983203043084202] and parameters: {'max_depth': 3, 'eta': 0.26070198328184796, 'subsample': 0.8354053386360115, 'colsample_bytree': 0.8888502946922403}.\n",
      "[I 2025-05-16 11:14:38,970] Trial 15 finished with values: [0.6707226291459504, 0.012983203043084202] and parameters: {'max_depth': 4, 'eta': 0.1414732618493887, 'subsample': 0.7135201666193427, 'colsample_bytree': 0.7296356834574628}.\n",
      "[I 2025-05-16 11:14:39,076] Trial 16 finished with values: [0.6728685518927314, 0.008640771281297588] and parameters: {'max_depth': 7, 'eta': 0.29599035993065603, 'subsample': 0.8067606537853294, 'colsample_bytree': 0.6615302964291577}.\n",
      "[I 2025-05-16 11:14:39,177] Trial 17 finished with values: [0.6707226291459504, 0.012983203043084202] and parameters: {'max_depth': 7, 'eta': 0.2721230463417128, 'subsample': 0.7777264846719256, 'colsample_bytree': 0.8026479972370517}.\n",
      "[I 2025-05-16 11:14:39,288] Trial 18 finished with values: [0.6707226291459504, 0.012983203043084202] and parameters: {'max_depth': 4, 'eta': 0.09048347044643643, 'subsample': 0.9561567830066259, 'colsample_bytree': 0.7235328635812346}.\n",
      "[I 2025-05-16 11:14:39,401] Trial 19 finished with values: [0.6578731316993074, 0.026806797506900997] and parameters: {'max_depth': 7, 'eta': 0.17001155271746551, 'subsample': 0.6259471258297739, 'colsample_bytree': 0.6775807951912942}.\n",
      "[I 2025-05-16 11:14:39,642] Trial 20 finished with values: [0.6707226291459504, 0.012983203043084202] and parameters: {'max_depth': 5, 'eta': 0.010090504901904428, 'subsample': 0.9263744157375973, 'colsample_bytree': 0.8315894080740576}.\n",
      "[I 2025-05-16 11:14:39,740] Trial 21 finished with values: [0.6707226291459504, 0.012983203043084202] and parameters: {'max_depth': 7, 'eta': 0.20802031670969312, 'subsample': 0.8724219612992381, 'colsample_bytree': 0.9299951441992508}.\n",
      "[I 2025-05-16 11:14:39,867] Trial 22 finished with values: [0.6707226291459504, 0.012983203043084202] and parameters: {'max_depth': 6, 'eta': 0.1972765186624396, 'subsample': 0.812968405227536, 'colsample_bytree': 0.6645397403294118}.\n",
      "[I 2025-05-16 11:14:39,980] Trial 23 finished with values: [0.667153749774073, 0.011713283744407388] and parameters: {'max_depth': 4, 'eta': 0.09824335165988302, 'subsample': 0.6410018123658519, 'colsample_bytree': 0.9881503433934812}.\n",
      "[I 2025-05-16 11:14:40,159] Trial 24 finished with values: [0.6707226291459504, 0.012983203043084202] and parameters: {'max_depth': 4, 'eta': 0.015052022860433435, 'subsample': 0.9197138969406125, 'colsample_bytree': 0.8372219318632594}.\n",
      "[I 2025-05-16 11:14:40,275] Trial 25 finished with values: [0.6707226291459504, 0.012983203043084202] and parameters: {'max_depth': 7, 'eta': 0.09674383820211221, 'subsample': 0.6971107375782063, 'colsample_bytree': 0.6676872445380757}.\n",
      "[I 2025-05-16 11:14:40,379] Trial 26 finished with values: [0.6707226291459504, 0.012983203043084202] and parameters: {'max_depth': 7, 'eta': 0.26366510592944997, 'subsample': 0.7296573864086575, 'colsample_bytree': 0.6808961460347851}.\n",
      "[I 2025-05-16 11:14:40,544] Trial 27 finished with values: [0.6614435427790696, 0.022767854721771823] and parameters: {'max_depth': 7, 'eta': 0.2336864882133588, 'subsample': 0.6369575415698044, 'colsample_bytree': 0.6731930905670669}.\n",
      "[I 2025-05-16 11:14:40,665] Trial 28 finished with values: [0.642883838337423, 0.027772245994171173] and parameters: {'max_depth': 5, 'eta': 0.29606106858628606, 'subsample': 0.6283483225273029, 'colsample_bytree': 0.9235562641027577}.\n",
      "[I 2025-05-16 11:14:40,772] Trial 29 finished with values: [0.6707226291459504, 0.012983203043084202] and parameters: {'max_depth': 5, 'eta': 0.2978484448253036, 'subsample': 0.6770381915718037, 'colsample_bytree': 0.8307246375480931}.\n",
      "[I 2025-05-16 11:14:40,948] Trial 30 finished with values: [0.5986190121709508, 0.006665658522330327] and parameters: {'max_depth': 3, 'eta': 0.09475664739659065, 'subsample': 0.6070433885611801, 'colsample_bytree': 0.8029434118668995}.\n",
      "[I 2025-05-16 11:14:41,057] Trial 31 finished with values: [0.6707226291459504, 0.012983203043084202] and parameters: {'max_depth': 6, 'eta': 0.14024699746100078, 'subsample': 0.7074065392924902, 'colsample_bytree': 0.6735432542445016}.\n",
      "[I 2025-05-16 11:14:41,204] Trial 32 finished with values: [0.6714410001439806, 0.01896421983952416] and parameters: {'max_depth': 4, 'eta': 0.28548691353637634, 'subsample': 0.8053957238685792, 'colsample_bytree': 0.6177886051439446}.\n",
      "[I 2025-05-16 11:14:41,343] Trial 33 finished with values: [0.6707226291459504, 0.012983203043084202] and parameters: {'max_depth': 6, 'eta': 0.12404129217587538, 'subsample': 0.9059988095115878, 'colsample_bytree': 0.8403718451292757}.\n",
      "[I 2025-05-16 11:14:41,468] Trial 34 finished with values: [0.6543073157431999, 0.029322896350878508] and parameters: {'max_depth': 5, 'eta': 0.20168752738762036, 'subsample': 0.6296304172615408, 'colsample_bytree': 0.9985513361375689}.\n",
      "[I 2025-05-16 11:14:41,597] Trial 35 finished with values: [0.6707226291459504, 0.012983203043084202] and parameters: {'max_depth': 5, 'eta': 0.07164280342428576, 'subsample': 0.7291873420725715, 'colsample_bytree': 0.875193137029284}.\n",
      "[I 2025-05-16 11:14:41,723] Trial 36 finished with values: [0.6707226291459504, 0.012983203043084202] and parameters: {'max_depth': 5, 'eta': 0.06723012265000047, 'subsample': 0.8513483600820586, 'colsample_bytree': 0.6557875842821179}.\n",
      "[I 2025-05-16 11:14:41,821] Trial 37 finished with values: [0.6707226291459504, 0.012983203043084202] and parameters: {'max_depth': 4, 'eta': 0.1854868308599228, 'subsample': 0.8505488033681046, 'colsample_bytree': 0.8831272863528521}.\n",
      "[I 2025-05-16 11:14:41,919] Trial 38 finished with values: [0.6707226291459504, 0.012983203043084202] and parameters: {'max_depth': 5, 'eta': 0.21509424594610993, 'subsample': 0.8356053264522659, 'colsample_bytree': 0.8655866731433561}.\n",
      "[I 2025-05-16 11:14:42,036] Trial 39 finished with values: [0.6707226291459504, 0.012983203043084202] and parameters: {'max_depth': 5, 'eta': 0.05783887156525863, 'subsample': 0.9706228190703281, 'colsample_bytree': 0.7204734512093038}.\n",
      "[I 2025-05-16 11:14:42,136] Trial 40 finished with values: [0.6642986462765713, 0.015622554976171868] and parameters: {'max_depth': 4, 'eta': 0.2563011966747979, 'subsample': 0.8693657431272949, 'colsample_bytree': 0.7110074324162081}.\n",
      "[I 2025-05-16 11:14:42,230] Trial 41 finished with values: [0.6707226291459504, 0.012983203043084202] and parameters: {'max_depth': 5, 'eta': 0.14307193424882558, 'subsample': 0.7081892776964769, 'colsample_bytree': 0.73006358254406}.\n",
      "[I 2025-05-16 11:14:42,330] Trial 42 finished with values: [0.6707226291459504, 0.012983203043084202] and parameters: {'max_depth': 3, 'eta': 0.24000265317584407, 'subsample': 0.9732943759576913, 'colsample_bytree': 0.8902749634245366}.\n",
      "[I 2025-05-16 11:14:42,433] Trial 43 finished with values: [0.6707226291459504, 0.012983203043084202] and parameters: {'max_depth': 7, 'eta': 0.2793117972777798, 'subsample': 0.9274040633427678, 'colsample_bytree': 0.9296742255143209}.\n",
      "[I 2025-05-16 11:14:42,540] Trial 44 finished with values: [0.6642986462765713, 0.026435855555220822] and parameters: {'max_depth': 5, 'eta': 0.25090569815770036, 'subsample': 0.6360542955717629, 'colsample_bytree': 0.975205250382253}.\n",
      "[I 2025-05-16 11:14:42,641] Trial 45 finished with values: [0.6707226291459504, 0.012983203043084202] and parameters: {'max_depth': 7, 'eta': 0.21718820487865662, 'subsample': 0.9687544222906616, 'colsample_bytree': 0.6153552908363534}.\n",
      "[I 2025-05-16 11:14:42,755] Trial 46 finished with values: [0.6707226291459504, 0.012983203043084202] and parameters: {'max_depth': 3, 'eta': 0.08441434099691927, 'subsample': 0.9002526532667895, 'colsample_bytree': 0.9890037365645449}.\n",
      "[I 2025-05-16 11:14:42,859] Trial 47 finished with values: [0.6664445690233525, 0.011280123214385254] and parameters: {'max_depth': 4, 'eta': 0.2994101046678777, 'subsample': 0.9947677536048192, 'colsample_bytree': 0.8775514701322427}.\n",
      "[I 2025-05-16 11:14:42,967] Trial 48 finished with values: [0.6707226291459504, 0.012983203043084202] and parameters: {'max_depth': 3, 'eta': 0.22112501027323211, 'subsample': 0.8243161134197597, 'colsample_bytree': 0.7868832015394294}.\n",
      "[I 2025-05-16 11:14:43,061] Trial 49 finished with values: [0.62218586968842, 0.026939044794659434] and parameters: {'max_depth': 6, 'eta': 0.26580082633756424, 'subsample': 0.6017278946693796, 'colsample_bytree': 0.7963431101898746}.\n",
      "[I 2025-05-16 11:14:43,072] A new study created in memory with name: no-name-b8ee9e8c-a9ee-4cd9-bf59-d162540b8893\n",
      "[I 2025-05-16 11:14:43,192] Trial 0 finished with values: [0.6728716153085013, 0.04153436303356081] and parameters: {'max_depth': 4, 'eta': 0.10522912824075567, 'subsample': 0.6311589875645649, 'colsample_bytree': 0.8873017145014134}.\n"
     ]
    },
    {
     "name": "stdout",
     "output_type": "stream",
     "text": [
      "Completed study for alpha=0.0224609375\n",
      "11\n"
     ]
    },
    {
     "name": "stderr",
     "output_type": "stream",
     "text": [
      "[I 2025-05-16 11:14:43,314] Trial 1 finished with values: [0.6750098795158577, 0.05325838353479417] and parameters: {'max_depth': 4, 'eta': 0.08779645215834396, 'subsample': 0.8244827107732091, 'colsample_bytree': 0.922417975647867}.\n",
      "[I 2025-05-16 11:14:43,470] Trial 2 finished with values: [0.6699950679006106, 0.06832485987626354] and parameters: {'max_depth': 5, 'eta': 0.053438939784628964, 'subsample': 0.679920100161001, 'colsample_bytree': 0.9005486829692819}.\n",
      "[I 2025-05-16 11:14:43,600] Trial 3 finished with values: [0.6600175227382036, 0.028423621836196834] and parameters: {'max_depth': 3, 'eta': 0.06056587186523386, 'subsample': 0.8750862091735944, 'colsample_bytree': 0.8929776874941198}.\n",
      "[I 2025-05-16 11:14:43,705] Trial 4 finished with values: [0.6885808113763008, 0.07049733174093557] and parameters: {'max_depth': 5, 'eta': 0.26001136244412965, 'subsample': 0.8164263499321927, 'colsample_bytree': 0.8421238976588047}.\n",
      "[I 2025-05-16 11:14:43,857] Trial 5 finished with values: [0.6749930307291235, 0.05231707037399122] and parameters: {'max_depth': 5, 'eta': 0.09357380338504552, 'subsample': 0.9474061327194292, 'colsample_bytree': 0.7676215262272623}.\n",
      "[I 2025-05-16 11:14:43,977] Trial 6 finished with values: [0.6757251870981181, 0.03755660774904048] and parameters: {'max_depth': 3, 'eta': 0.17315229755849182, 'subsample': 0.6717411925931515, 'colsample_bytree': 0.7379655195673935}.\n",
      "[I 2025-05-16 11:14:44,107] Trial 7 finished with values: [0.676429772725184, 0.04784675507404632] and parameters: {'max_depth': 5, 'eta': 0.05575838528085436, 'subsample': 0.7579180500376441, 'colsample_bytree': 0.9076695248049311}.\n",
      "[I 2025-05-16 11:14:44,238] Trial 8 finished with values: [0.6828644775497575, 0.04550130909107681] and parameters: {'max_depth': 6, 'eta': 0.16045533167660506, 'subsample': 0.776433857760149, 'colsample_bytree': 0.6292994151978099}.\n",
      "[I 2025-05-16 11:14:44,341] Trial 9 finished with values: [0.6735777326434521, 0.040379180946032316] and parameters: {'max_depth': 3, 'eta': 0.2136950746072224, 'subsample': 0.735689340191387, 'colsample_bytree': 0.9683143433485861}.\n",
      "[I 2025-05-16 11:14:44,438] Trial 10 finished with values: [0.6621557869455601, 0.02313347057047399] and parameters: {'max_depth': 3, 'eta': 0.11448485434683343, 'subsample': 0.9677971189557587, 'colsample_bytree': 0.640346274244523}.\n",
      "[I 2025-05-16 11:14:44,615] Trial 11 finished with values: [0.6928573397910137, 0.056643855043303624] and parameters: {'max_depth': 6, 'eta': 0.16210719775969198, 'subsample': 0.846991175787441, 'colsample_bytree': 0.888387225331795}.\n",
      "[I 2025-05-16 11:14:44,753] Trial 12 finished with values: [0.6971415267451513, 0.07522563447315328] and parameters: {'max_depth': 7, 'eta': 0.2528675941609909, 'subsample': 0.9930523058833314, 'colsample_bytree': 0.6671349611923797}.\n",
      "[I 2025-05-16 11:14:44,871] Trial 13 finished with values: [0.6778603878897048, 0.04252350775749724] and parameters: {'max_depth': 5, 'eta': 0.1518747110741306, 'subsample': 0.8887655995627346, 'colsample_bytree': 0.6643172613204478}.\n",
      "[I 2025-05-16 11:14:45,017] Trial 14 finished with values: [0.6964323459944307, 0.07979728068543589] and parameters: {'max_depth': 6, 'eta': 0.21180560303681584, 'subsample': 0.7194354885974183, 'colsample_bytree': 0.7648620343004122}.\n",
      "[I 2025-05-16 11:14:45,143] Trial 15 finished with values: [0.6785711003483104, 0.0635249535089064] and parameters: {'max_depth': 6, 'eta': 0.12202820009028026, 'subsample': 0.6845437429355742, 'colsample_bytree': 0.7919311798638491}.\n",
      "[I 2025-05-16 11:14:45,248] Trial 16 finished with values: [0.6764481532198031, 0.03903046871388769] and parameters: {'max_depth': 3, 'eta': 0.17810389155534986, 'subsample': 0.6255073477035803, 'colsample_bytree': 0.624097899457587}.\n",
      "[I 2025-05-16 11:14:45,378] Trial 17 finished with values: [0.665007827027292, 0.04242502073862527] and parameters: {'max_depth': 4, 'eta': 0.0667959850362868, 'subsample': 0.9159071296961498, 'colsample_bytree': 0.6793282777733365}.\n",
      "[I 2025-05-16 11:14:45,520] Trial 18 finished with values: [0.7071374524021775, 0.06346308641840584] and parameters: {'max_depth': 7, 'eta': 0.2597743415436609, 'subsample': 0.8538105484579193, 'colsample_bytree': 0.6544454101347776}.\n",
      "[I 2025-05-16 11:14:45,635] Trial 19 finished with values: [0.6750006892685482, 0.06066416680049722] and parameters: {'max_depth': 4, 'eta': 0.26048508179762203, 'subsample': 0.9658701993797051, 'colsample_bytree': 0.6623393697103132}.\n",
      "[I 2025-05-16 11:14:45,858] Trial 20 finished with values: [0.6814338623852368, 0.0675828175716036] and parameters: {'max_depth': 7, 'eta': 0.09053877646710722, 'subsample': 0.6247632939404258, 'colsample_bytree': 0.658717593404974}.\n",
      "[I 2025-05-16 11:14:46,013] Trial 21 finished with values: [0.676428241017299, 0.07550728756966013] and parameters: {'max_depth': 4, 'eta': 0.27728488713634475, 'subsample': 0.6165799128549364, 'colsample_bytree': 0.8920661006917938}.\n",
      "[I 2025-05-16 11:14:46,149] Trial 22 finished with values: [0.6671506863583033, 0.03606303532584596] and parameters: {'max_depth': 3, 'eta': 0.20985971706730192, 'subsample': 0.9345477490666843, 'colsample_bytree': 0.7714711452504674}.\n",
      "[I 2025-05-16 11:14:46,288] Trial 23 finished with values: [0.6871501962117801, 0.04045498785433891] and parameters: {'max_depth': 6, 'eta': 0.2004758001820123, 'subsample': 0.7300255620988223, 'colsample_bytree': 0.634894792789089}.\n",
      "[I 2025-05-16 11:14:46,398] Trial 24 finished with values: [0.6707333511011448, 0.03087314860824546] and parameters: {'max_depth': 3, 'eta': 0.16671598671658602, 'subsample': 0.616051540536922, 'colsample_bytree': 0.6517251269587602}.\n",
      "[I 2025-05-16 11:14:46,666] Trial 25 finished with values: [0.6842950927142782, 0.04707128454041335] and parameters: {'max_depth': 6, 'eta': 0.09676847771924427, 'subsample': 0.8240115079417325, 'colsample_bytree': 0.7294358636769338}.\n",
      "[I 2025-05-16 11:14:46,793] Trial 26 finished with values: [0.6814415209246615, 0.0560617576332384] and parameters: {'max_depth': 4, 'eta': 0.21308100515910033, 'subsample': 0.6468032710834114, 'colsample_bytree': 0.8983278943650794}.\n",
      "[I 2025-05-16 11:14:46,973] Trial 27 finished with values: [0.7064343984829965, 0.088289424793169] and parameters: {'max_depth': 7, 'eta': 0.2727264655817366, 'subsample': 0.6150348294159639, 'colsample_bytree': 0.8247682828178714}.\n",
      "[I 2025-05-16 11:14:47,087] Trial 28 finished with values: [0.6692889505656597, 0.041835743922676714] and parameters: {'max_depth': 4, 'eta': 0.16824827715353138, 'subsample': 0.8534746351420266, 'colsample_bytree': 0.9865867357835961}.\n",
      "[I 2025-05-16 11:14:47,206] Trial 29 finished with values: [0.6778588561818198, 0.04270560117342734] and parameters: {'max_depth': 4, 'eta': 0.18121194270404856, 'subsample': 0.9632444884558684, 'colsample_bytree': 0.9406413609543466}.\n",
      "[I 2025-05-16 11:14:47,362] Trial 30 finished with values: [0.6735823277671068, 0.06492611103147204] and parameters: {'max_depth': 4, 'eta': 0.02468217564766622, 'subsample': 0.6943539713132776, 'colsample_bytree': 0.7735836719106708}.\n",
      "[I 2025-05-16 11:14:47,550] Trial 31 finished with values: [0.6742915085178275, 0.0709409237340662] and parameters: {'max_depth': 7, 'eta': 0.020998947392316235, 'subsample': 0.7184806447745706, 'colsample_bytree': 0.844817834410086}.\n",
      "[I 2025-05-16 11:14:47,653] Trial 32 finished with values: [0.6799925252655216, 0.04254183720736479] and parameters: {'max_depth': 5, 'eta': 0.1712085885310898, 'subsample': 0.8074781934936373, 'colsample_bytree': 0.946942457507679}.\n",
      "[I 2025-05-16 11:14:47,751] Trial 33 finished with values: [0.6871501962117801, 0.07109511436106283] and parameters: {'max_depth': 5, 'eta': 0.24337127941892797, 'subsample': 0.7593726165318273, 'colsample_bytree': 0.6551775950714694}.\n",
      "[I 2025-05-16 11:14:47,863] Trial 34 finished with values: [0.7057114323613115, 0.08110528329068614] and parameters: {'max_depth': 6, 'eta': 0.18495307663928787, 'subsample': 0.896286268846662, 'colsample_bytree': 0.9275992073494476}.\n",
      "[I 2025-05-16 11:14:47,980] Trial 35 finished with values: [0.6885731528368763, 0.06812223353828563] and parameters: {'max_depth': 4, 'eta': 0.21856159272883033, 'subsample': 0.9060452709627029, 'colsample_bytree': 0.9552213602298156}.\n",
      "[I 2025-05-16 11:14:48,099] Trial 36 finished with values: [0.6900052997092819, 0.07351303915955885] and parameters: {'max_depth': 6, 'eta': 0.259281238739196, 'subsample': 0.6630776208724921, 'colsample_bytree': 0.6324440153990535}.\n",
      "[I 2025-05-16 11:14:48,205] Trial 37 finished with values: [0.6950078576614497, 0.08121176893277776] and parameters: {'max_depth': 7, 'eta': 0.23502894979682173, 'subsample': 0.7269539371642108, 'colsample_bytree': 0.7027191875812727}.\n",
      "[I 2025-05-16 11:14:48,295] Trial 38 finished with values: [0.6664307836523881, 0.03828447028591245] and parameters: {'max_depth': 3, 'eta': 0.22939420533435403, 'subsample': 0.9155218298830856, 'colsample_bytree': 0.8193986502396029}.\n",
      "[I 2025-05-16 11:14:48,422] Trial 39 finished with values: [0.6735853911828767, 0.05226553158388928] and parameters: {'max_depth': 4, 'eta': 0.03044239361273994, 'subsample': 0.7775205112254677, 'colsample_bytree': 0.8479957209835591}.\n",
      "[I 2025-05-16 11:14:48,518] Trial 40 finished with values: [0.6750114112237426, 0.036364207138700984] and parameters: {'max_depth': 4, 'eta': 0.21113909001788275, 'subsample': 0.6147838141548444, 'colsample_bytree': 0.7086204480371406}.\n",
      "[I 2025-05-16 11:14:48,653] Trial 41 finished with values: [0.6971369316214965, 0.06392479298915797] and parameters: {'max_depth': 7, 'eta': 0.14596294726982845, 'subsample': 0.9004910075620578, 'colsample_bytree': 0.9249026378106218}.\n",
      "[I 2025-05-16 11:14:48,753] Trial 42 finished with values: [0.6792879396384558, 0.03625226115163426] and parameters: {'max_depth': 4, 'eta': 0.166254030133562, 'subsample': 0.677324099986248, 'colsample_bytree': 0.6180570401399972}.\n",
      "[I 2025-05-16 11:14:48,866] Trial 43 finished with values: [0.6921466273324083, 0.05613419478155607] and parameters: {'max_depth': 6, 'eta': 0.20503076909818801, 'subsample': 0.8875928041562052, 'colsample_bytree': 0.656979524059078}.\n",
      "[I 2025-05-16 11:14:49,008] Trial 44 finished with values: [0.6821415114280726, 0.06592458315825075] and parameters: {'max_depth': 7, 'eta': 0.08044899581485312, 'subsample': 0.7794163328805622, 'colsample_bytree': 0.7984115510158385}.\n",
      "[I 2025-05-16 11:14:49,142] Trial 45 finished with values: [0.6792955981778803, 0.053030112853780065] and parameters: {'max_depth': 5, 'eta': 0.15567587532147503, 'subsample': 0.6147096400774473, 'colsample_bytree': 0.6975984761092188}.\n",
      "[I 2025-05-16 11:14:49,259] Trial 46 finished with values: [0.6899961094619723, 0.06719899946543399] and parameters: {'max_depth': 5, 'eta': 0.19307861891978453, 'subsample': 0.8170211667488263, 'colsample_bytree': 0.9889360920594288}.\n",
      "[I 2025-05-16 11:14:49,382] Trial 47 finished with values: [0.7028425434928455, 0.08000549131869981] and parameters: {'max_depth': 6, 'eta': 0.28082175178451846, 'subsample': 0.9608802305428485, 'colsample_bytree': 0.8621919773450436}.\n",
      "[I 2025-05-16 11:14:49,525] Trial 48 finished with values: [0.6778665147212445, 0.033260014150193105] and parameters: {'max_depth': 3, 'eta': 0.19302918955540882, 'subsample': 0.6716670267609297, 'colsample_bytree': 0.6744851767316461}.\n",
      "[I 2025-05-16 11:14:49,710] Trial 49 finished with values: [0.6714318098966711, 0.0635413611161215] and parameters: {'max_depth': 7, 'eta': 0.039117054436502305, 'subsample': 0.6995482833612897, 'colsample_bytree': 0.6128954523521141}.\n",
      "[I 2025-05-16 11:14:49,721] A new study created in memory with name: no-name-1012625a-692c-4c68-b07f-356a7b91c837\n"
     ]
    },
    {
     "name": "stdout",
     "output_type": "stream",
     "text": [
      "Completed study for alpha=0.625\n",
      "12\n"
     ]
    },
    {
     "name": "stderr",
     "output_type": "stream",
     "text": [
      "[I 2025-05-16 11:14:49,922] Trial 0 finished with values: [0.6707226291459504, 0.012983203043084202] and parameters: {'max_depth': 7, 'eta': 0.12358830540616357, 'subsample': 0.9363240646887343, 'colsample_bytree': 0.7434570894404046}.\n",
      "[I 2025-05-16 11:14:50,046] Trial 1 finished with values: [0.6707226291459504, 0.012983203043084202] and parameters: {'max_depth': 6, 'eta': 0.07950231528305803, 'subsample': 0.8431122420800425, 'colsample_bytree': 0.9191016376489881}.\n",
      "[I 2025-05-16 11:14:50,165] Trial 2 finished with values: [0.6707226291459504, 0.012983203043084202] and parameters: {'max_depth': 6, 'eta': 0.14509782708781224, 'subsample': 0.8838669824285017, 'colsample_bytree': 0.7041637697902654}.\n",
      "[I 2025-05-16 11:14:50,306] Trial 3 finished with values: [0.6707226291459504, 0.012983203043084202] and parameters: {'max_depth': 3, 'eta': 0.04777087414721203, 'subsample': 0.8829241442504138, 'colsample_bytree': 0.8433763678757584}.\n",
      "[I 2025-05-16 11:14:50,425] Trial 4 finished with values: [0.6707226291459504, 0.012983203043084202] and parameters: {'max_depth': 7, 'eta': 0.06807963321417149, 'subsample': 0.7662303345277998, 'colsample_bytree': 0.8098280068144053}.\n",
      "[I 2025-05-16 11:14:50,532] Trial 5 finished with values: [0.6707226291459504, 0.012983203043084202] and parameters: {'max_depth': 6, 'eta': 0.11179298692775072, 'subsample': 0.9466527989452127, 'colsample_bytree': 0.9796373842460382}.\n",
      "[I 2025-05-16 11:14:50,627] Trial 6 finished with values: [0.6707226291459504, 0.012983203043084202] and parameters: {'max_depth': 4, 'eta': 0.13370964329758825, 'subsample': 0.9038256036087504, 'colsample_bytree': 0.7159517892848715}.\n",
      "[I 2025-05-16 11:14:50,719] Trial 7 finished with values: [0.6707226291459504, 0.012983203043084202] and parameters: {'max_depth': 7, 'eta': 0.16878960306071078, 'subsample': 0.9539611471206794, 'colsample_bytree': 0.6473292078879418}.\n",
      "[I 2025-05-16 11:14:50,815] Trial 8 finished with values: [0.6707226291459504, 0.012983203043084202] and parameters: {'max_depth': 4, 'eta': 0.21741312030690293, 'subsample': 0.811559604025639, 'colsample_bytree': 0.7976832804843728}.\n",
      "[I 2025-05-16 11:14:50,910] Trial 9 finished with values: [0.6692950773971994, 0.023306651601310773] and parameters: {'max_depth': 7, 'eta': 0.27650285998075574, 'subsample': 0.8360218935055044, 'colsample_bytree': 0.6156775632243859}.\n",
      "[I 2025-05-16 11:14:51,009] Trial 10 finished with values: [0.6707226291459504, 0.012983203043084202] and parameters: {'max_depth': 7, 'eta': 0.1219749561025999, 'subsample': 0.7215926724576744, 'colsample_bytree': 0.9477246498556626}.\n",
      "[I 2025-05-16 11:14:51,135] Trial 11 finished with values: [0.6707226291459504, 0.012983203043084202] and parameters: {'max_depth': 4, 'eta': 0.045429836608377135, 'subsample': 0.7687287805352877, 'colsample_bytree': 0.876548827291016}.\n",
      "[I 2025-05-16 11:14:51,254] Trial 12 finished with values: [0.6707226291459504, 0.012983203043084202] and parameters: {'max_depth': 4, 'eta': 0.08713462201940943, 'subsample': 0.8335372489777947, 'colsample_bytree': 0.6530269035787576}.\n",
      "[I 2025-05-16 11:14:51,347] Trial 13 finished with values: [0.6707226291459504, 0.012983203043084202] and parameters: {'max_depth': 7, 'eta': 0.19548961547295635, 'subsample': 0.7617581829192052, 'colsample_bytree': 0.7064146020823263}.\n",
      "[I 2025-05-16 11:14:51,433] Trial 14 finished with values: [0.6707272242696051, 0.01794795967692253] and parameters: {'max_depth': 3, 'eta': 0.2606078612145732, 'subsample': 0.7309747835076486, 'colsample_bytree': 0.9545190292612389}.\n",
      "[I 2025-05-16 11:14:51,529] Trial 15 finished with values: [0.6707226291459504, 0.012983203043084202] and parameters: {'max_depth': 6, 'eta': 0.12853338585712476, 'subsample': 0.7731871009198407, 'colsample_bytree': 0.9837677033840356}.\n",
      "[I 2025-05-16 11:14:51,685] Trial 16 finished with values: [0.5522235803365468, 0.003722084367245656] and parameters: {'max_depth': 5, 'eta': 0.19607347343993498, 'subsample': 0.6032555369919693, 'colsample_bytree': 0.734748734600021}.\n",
      "[I 2025-05-16 11:14:51,799] Trial 17 finished with values: [0.6593006834480583, 0.01539279858976364] and parameters: {'max_depth': 3, 'eta': 0.11899529473762765, 'subsample': 0.6382027362441683, 'colsample_bytree': 0.6819323035410181}.\n",
      "[I 2025-05-16 11:14:51,902] Trial 18 finished with values: [0.6707226291459504, 0.012983203043084202] and parameters: {'max_depth': 5, 'eta': 0.2669109950720509, 'subsample': 0.7628573821822964, 'colsample_bytree': 0.6038475374657288}.\n",
      "[I 2025-05-16 11:14:52,028] Trial 19 finished with values: [0.5972037140852794, 0.01632016902168777] and parameters: {'max_depth': 3, 'eta': 0.09491644466795301, 'subsample': 0.6372858417215418, 'colsample_bytree': 0.6055729151158055}.\n",
      "[I 2025-05-16 11:14:52,149] Trial 20 finished with values: [0.6728685518927314, 0.008640771281297588] and parameters: {'max_depth': 3, 'eta': 0.2545244244082212, 'subsample': 0.8403078358389299, 'colsample_bytree': 0.6730491104691548}.\n",
      "[I 2025-05-16 11:14:52,330] Trial 21 finished with values: [0.6707226291459504, 0.012983203043084202] and parameters: {'max_depth': 6, 'eta': 0.018757127301067288, 'subsample': 0.8456667265263632, 'colsample_bytree': 0.8623044730517286}.\n",
      "[I 2025-05-16 11:14:52,460] Trial 22 finished with values: [0.6707226291459504, 0.012983203043084202] and parameters: {'max_depth': 6, 'eta': 0.06560128445518354, 'subsample': 0.9480872588433271, 'colsample_bytree': 0.7534025567754059}.\n",
      "[I 2025-05-16 11:14:52,595] Trial 23 finished with values: [0.6707226291459504, 0.012983203043084202] and parameters: {'max_depth': 7, 'eta': 0.2015689048952151, 'subsample': 0.9575081087031128, 'colsample_bytree': 0.609975592563195}.\n",
      "[I 2025-05-16 11:14:52,783] Trial 24 finished with values: [0.6707226291459504, 0.012983203043084202] and parameters: {'max_depth': 5, 'eta': 0.03586229505735912, 'subsample': 0.6499571411547371, 'colsample_bytree': 0.6752240050375753}.\n",
      "[I 2025-05-16 11:14:52,880] Trial 25 finished with values: [0.6707226291459504, 0.012983203043084202] and parameters: {'max_depth': 6, 'eta': 0.1444985327942761, 'subsample': 0.9148997332990298, 'colsample_bytree': 0.6762454048812596}.\n",
      "[I 2025-05-16 11:14:52,966] Trial 26 finished with values: [0.5493623500075053, 0.010270195754066727] and parameters: {'max_depth': 4, 'eta': 0.1785970482976223, 'subsample': 0.603175385757842, 'colsample_bytree': 0.8035923800913302}.\n",
      "[I 2025-05-16 11:14:53,111] Trial 27 finished with values: [0.6707226291459504, 0.02737169225171728] and parameters: {'max_depth': 3, 'eta': 0.290648719730991, 'subsample': 0.9642286770753516, 'colsample_bytree': 0.6444410505319117}.\n",
      "[I 2025-05-16 11:14:53,218] Trial 28 finished with values: [0.6707226291459504, 0.012983203043084202] and parameters: {'max_depth': 7, 'eta': 0.12239253086101619, 'subsample': 0.9363744942650218, 'colsample_bytree': 0.7011125106960889}.\n",
      "[I 2025-05-16 11:14:53,346] Trial 29 finished with values: [0.6707226291459504, 0.012983203043084202] and parameters: {'max_depth': 6, 'eta': 0.09051197238198015, 'subsample': 0.864252926398051, 'colsample_bytree': 0.7881382604258351}.\n",
      "[I 2025-05-16 11:14:53,455] Trial 30 finished with values: [0.6707226291459504, 0.02737169225171728] and parameters: {'max_depth': 6, 'eta': 0.2791235604009164, 'subsample': 0.9922442288876447, 'colsample_bytree': 0.7928056753584751}.\n",
      "[I 2025-05-16 11:14:53,557] Trial 31 finished with values: [0.6707226291459504, 0.012983203043084202] and parameters: {'max_depth': 7, 'eta': 0.2540544647703036, 'subsample': 0.7680615051521775, 'colsample_bytree': 0.6625975355999867}.\n",
      "[I 2025-05-16 11:14:53,659] Trial 32 finished with values: [0.6707226291459504, 0.012983203043084202] and parameters: {'max_depth': 6, 'eta': 0.12578744980481646, 'subsample': 0.9094582040598943, 'colsample_bytree': 0.8797572046946593}.\n",
      "[I 2025-05-16 11:14:53,769] Trial 33 finished with values: [0.6707226291459504, 0.012983203043084202] and parameters: {'max_depth': 3, 'eta': 0.14610256477893352, 'subsample': 0.9738087657428973, 'colsample_bytree': 0.8347536742635527}.\n",
      "[I 2025-05-16 11:14:53,881] Trial 34 finished with values: [0.6707226291459504, 0.012983203043084202] and parameters: {'max_depth': 4, 'eta': 0.16970514077182416, 'subsample': 0.8583732871239802, 'colsample_bytree': 0.689707316226318}.\n",
      "[I 2025-05-16 11:14:53,998] Trial 35 finished with values: [0.6707226291459504, 0.012983203043084202] and parameters: {'max_depth': 3, 'eta': 0.1796276950344923, 'subsample': 0.8944027535341585, 'colsample_bytree': 0.7060543465792414}.\n",
      "[I 2025-05-16 11:14:54,107] Trial 36 finished with values: [0.6707226291459504, 0.012983203043084202] and parameters: {'max_depth': 6, 'eta': 0.17171948219647135, 'subsample': 0.775484614451616, 'colsample_bytree': 0.8199262400132605}.\n",
      "[I 2025-05-16 11:14:54,221] Trial 37 finished with values: [0.6707226291459504, 0.012983203043084202] and parameters: {'max_depth': 5, 'eta': 0.10750749169877928, 'subsample': 0.6911445191001688, 'colsample_bytree': 0.700937660769747}.\n",
      "[I 2025-05-16 11:14:54,339] Trial 38 finished with values: [0.6578761951150772, 0.025834264457195544] and parameters: {'max_depth': 4, 'eta': 0.13751995017713717, 'subsample': 0.643601383347941, 'colsample_bytree': 0.8731631702017083}.\n",
      "[I 2025-05-16 11:14:54,441] Trial 39 finished with values: [0.6707226291459504, 0.012983203043084202] and parameters: {'max_depth': 7, 'eta': 0.1690758619057438, 'subsample': 0.9938381083327361, 'colsample_bytree': 0.9821174297868892}.\n",
      "[I 2025-05-16 11:14:54,604] Trial 40 finished with values: [0.6707226291459504, 0.012983203043084202] and parameters: {'max_depth': 4, 'eta': 0.06565526630947469, 'subsample': 0.6702631666255495, 'colsample_bytree': 0.7168674220679971}.\n",
      "[I 2025-05-16 11:14:54,707] Trial 41 finished with values: [0.6707226291459504, 0.012983203043084202] and parameters: {'max_depth': 6, 'eta': 0.1926901761636914, 'subsample': 0.8606443282835037, 'colsample_bytree': 0.6894523504279766}.\n",
      "[I 2025-05-16 11:14:54,831] Trial 42 finished with values: [0.6707226291459504, 0.012983203043084202] and parameters: {'max_depth': 3, 'eta': 0.05136119839786947, 'subsample': 0.9745881129286859, 'colsample_bytree': 0.8610191942922424}.\n",
      "[I 2025-05-16 11:14:54,938] Trial 43 finished with values: [0.6707226291459504, 0.012983203043084202] and parameters: {'max_depth': 7, 'eta': 0.08253217289919577, 'subsample': 0.8795721543446122, 'colsample_bytree': 0.8067761204179671}.\n",
      "[I 2025-05-16 11:14:55,039] Trial 44 finished with values: [0.6707226291459504, 0.012983203043084202] and parameters: {'max_depth': 7, 'eta': 0.09485969981558788, 'subsample': 0.8305055195821008, 'colsample_bytree': 0.9541601793030802}.\n",
      "[I 2025-05-16 11:14:55,152] Trial 45 finished with values: [0.6707226291459504, 0.012983203043084202] and parameters: {'max_depth': 3, 'eta': 0.06651641885273672, 'subsample': 0.9204198806024644, 'colsample_bytree': 0.9327541140324611}.\n",
      "[I 2025-05-16 11:14:55,250] Trial 46 finished with values: [0.6707226291459504, 0.012983203043084202] and parameters: {'max_depth': 4, 'eta': 0.24952607076781233, 'subsample': 0.92742513362304, 'colsample_bytree': 0.9122040435047425}.\n",
      "[I 2025-05-16 11:14:55,354] Trial 47 finished with values: [0.6314634243474159, 0.026619896008517347] and parameters: {'max_depth': 4, 'eta': 0.2033761448395252, 'subsample': 0.6232211059368462, 'colsample_bytree': 0.784871873835418}.\n",
      "[I 2025-05-16 11:14:55,476] Trial 48 finished with values: [0.6707226291459504, 0.012983203043084202] and parameters: {'max_depth': 4, 'eta': 0.04989102832383022, 'subsample': 0.9832200776490334, 'colsample_bytree': 0.7978680932884953}.\n",
      "[I 2025-05-16 11:14:55,616] Trial 49 finished with values: [0.6707226291459504, 0.012983203043084202] and parameters: {'max_depth': 5, 'eta': 0.16806936490602903, 'subsample': 0.8456223478747068, 'colsample_bytree': 0.9182354189470088}.\n",
      "[I 2025-05-16 11:14:55,627] A new study created in memory with name: no-name-47be4718-851d-477f-bf55-8d08e4cb990e\n",
      "[I 2025-05-16 11:14:55,733] Trial 0 finished with values: [0.6842920292985085, 0.06733066843251274] and parameters: {'max_depth': 5, 'eta': 0.18974340787134342, 'subsample': 0.6136728516348707, 'colsample_bytree': 0.8939514623208114}.\n"
     ]
    },
    {
     "name": "stdout",
     "output_type": "stream",
     "text": [
      "Completed study for alpha=0.02197265625\n",
      "13\n"
     ]
    },
    {
     "name": "stderr",
     "output_type": "stream",
     "text": [
      "[I 2025-05-16 11:14:55,858] Trial 1 finished with values: [0.687131815717161, 0.06654050813493148] and parameters: {'max_depth': 6, 'eta': 0.14740138524703386, 'subsample': 0.9440678135807653, 'colsample_bytree': 0.885287027368245}.\n",
      "[I 2025-05-16 11:14:55,972] Trial 2 finished with values: [0.6578670048677676, 0.02140064431511382] and parameters: {'max_depth': 3, 'eta': 0.10967643496326807, 'subsample': 0.8886786381384932, 'colsample_bytree': 0.6935410963102039}.\n",
      "[I 2025-05-16 11:14:56,083] Trial 3 finished with values: [0.6857134542157196, 0.06509313870900939] and parameters: {'max_depth': 6, 'eta': 0.1359558053353755, 'subsample': 0.7121369728170108, 'colsample_bytree': 0.7041965826362223}.\n",
      "[I 2025-05-16 11:14:56,185] Trial 4 finished with values: [0.6828598824261028, 0.03533554652939127] and parameters: {'max_depth': 4, 'eta': 0.25151830840182565, 'subsample': 0.6687917312064581, 'colsample_bytree': 0.7139884275870959}.\n",
      "[I 2025-05-16 11:14:56,287] Trial 5 finished with values: [0.6821461065517274, 0.07278126427798143] and parameters: {'max_depth': 6, 'eta': 0.24519025162329935, 'subsample': 0.6072519419121607, 'colsample_bytree': 0.8744184141924646}.\n",
      "[I 2025-05-16 11:14:56,463] Trial 6 finished with values: [0.6685736429833994, 0.04752729126777026] and parameters: {'max_depth': 5, 'eta': 0.015348532467061788, 'subsample': 0.8063302474354164, 'colsample_bytree': 0.6783055096150444}.\n",
      "[I 2025-05-16 11:14:56,561] Trial 7 finished with values: [0.6842843707590838, 0.09260639429836676] and parameters: {'max_depth': 5, 'eta': 0.23834568568522815, 'subsample': 0.7055433880248312, 'colsample_bytree': 0.8831995001632317}.\n",
      "[I 2025-05-16 11:14:56,659] Trial 8 finished with values: [0.6892884604191365, 0.07612488968809906] and parameters: {'max_depth': 6, 'eta': 0.17307542737690923, 'subsample': 0.6862655123776152, 'colsample_bytree': 0.9908197457933033}.\n",
      "[I 2025-05-16 11:14:56,765] Trial 9 finished with values: [0.6999966302426531, 0.07758658819509205] and parameters: {'max_depth': 7, 'eta': 0.24392000920195156, 'subsample': 0.9148140188353057, 'colsample_bytree': 0.8526213885252532}.\n",
      "[I 2025-05-16 11:14:56,865] Trial 10 finished with values: [0.677877236676439, 0.07046934612473683] and parameters: {'max_depth': 5, 'eta': 0.1374781191698154, 'subsample': 0.6266408395130655, 'colsample_bytree': 0.8220752663086653}.\n",
      "[I 2025-05-16 11:14:56,964] Trial 11 finished with values: [0.6614312891159901, 0.02987574422593341] and parameters: {'max_depth': 4, 'eta': 0.09024227538954571, 'subsample': 0.7059646048511996, 'colsample_bytree': 0.6365107834704744}.\n",
      "[I 2025-05-16 11:14:57,069] Trial 12 finished with values: [0.6907175438757723, 0.061697709213523744] and parameters: {'max_depth': 7, 'eta': 0.2260095413948222, 'subsample': 0.6846607071717699, 'colsample_bytree': 0.6080554987944309}.\n",
      "[I 2025-05-16 11:14:57,169] Trial 13 finished with values: [0.6821369163044176, 0.08472515505576006] and parameters: {'max_depth': 5, 'eta': 0.26633593765994934, 'subsample': 0.822007195202718, 'colsample_bytree': 0.7545172210241624}.\n",
      "[I 2025-05-16 11:14:57,274] Trial 14 finished with values: [0.6650154855667166, 0.020161871568305068] and parameters: {'max_depth': 3, 'eta': 0.05437074968549138, 'subsample': 0.760762229868258, 'colsample_bytree': 0.8005891001239231}.\n",
      "[I 2025-05-16 11:14:57,412] Trial 15 finished with values: [0.6585853758657979, 0.036042570144468065] and parameters: {'max_depth': 3, 'eta': 0.03597261318043656, 'subsample': 0.7484191776087495, 'colsample_bytree': 0.7163924677039221}.\n",
      "[I 2025-05-16 11:14:57,515] Trial 16 finished with values: [0.6964338777023157, 0.07326255222887644] and parameters: {'max_depth': 6, 'eta': 0.2935892644943252, 'subsample': 0.6083195519413694, 'colsample_bytree': 0.999903899803829}.\n",
      "[I 2025-05-16 11:14:57,618] Trial 17 finished with values: [0.6742792548547482, 0.04830593683730699] and parameters: {'max_depth': 4, 'eta': 0.1487013892074152, 'subsample': 0.9710434022716651, 'colsample_bytree': 0.9573217098743655}.\n",
      "[I 2025-05-16 11:14:57,755] Trial 18 finished with values: [0.6899976411698572, 0.05033576429151427] and parameters: {'max_depth': 7, 'eta': 0.1368975903759907, 'subsample': 0.8748900594078204, 'colsample_bytree': 0.9939045714389783}.\n",
      "[I 2025-05-16 11:14:57,858] Trial 19 finished with values: [0.6700134483952297, 0.019540734976372997] and parameters: {'max_depth': 3, 'eta': 0.18075439389145934, 'subsample': 0.7463569437844003, 'colsample_bytree': 0.7181373770923252}.\n",
      "[I 2025-05-16 11:14:57,982] Trial 20 finished with values: [0.6871425376723556, 0.07411086029651523] and parameters: {'max_depth': 6, 'eta': 0.16839819861671088, 'subsample': 0.9013574399473679, 'colsample_bytree': 0.8989276793421817}.\n",
      "[I 2025-05-16 11:14:58,092] Trial 21 finished with values: [0.6828675409655274, 0.05923681930473753] and parameters: {'max_depth': 4, 'eta': 0.20836893197817344, 'subsample': 0.7648678877732437, 'colsample_bytree': 0.8890380567992213}.\n",
      "[I 2025-05-16 11:14:58,201] Trial 22 finished with values: [0.6871563230433199, 0.05710156267783086] and parameters: {'max_depth': 4, 'eta': 0.29877566992270926, 'subsample': 0.9471635826174603, 'colsample_bytree': 0.6489561314271061}.\n",
      "[I 2025-05-16 11:14:58,309] Trial 23 finished with values: [0.6700134483952297, 0.04469189793864627] and parameters: {'max_depth': 3, 'eta': 0.28860601748965936, 'subsample': 0.94939568712081, 'colsample_bytree': 0.7133833512217271}.\n",
      "[I 2025-05-16 11:14:58,442] Trial 24 finished with values: [0.7007195963643381, 0.058967558824547024] and parameters: {'max_depth': 6, 'eta': 0.23015507399068327, 'subsample': 0.825709821436292, 'colsample_bytree': 0.6694980833341926}.\n",
      "[I 2025-05-16 11:14:58,636] Trial 25 finished with values: [0.6914282563343779, 0.06925502050711387] and parameters: {'max_depth': 6, 'eta': 0.29389951490726607, 'subsample': 0.7654416882567573, 'colsample_bytree': 0.9685176254832641}.\n",
      "[I 2025-05-16 11:14:58,794] Trial 26 finished with values: [0.6564379214111319, 0.02299106598067623] and parameters: {'max_depth': 3, 'eta': 0.04505313874996207, 'subsample': 0.7524517634853956, 'colsample_bytree': 0.8394438140486217}.\n",
      "[I 2025-05-16 11:14:58,965] Trial 27 finished with values: [0.6721578394341258, 0.03422374699121288] and parameters: {'max_depth': 3, 'eta': 0.19335808020774364, 'subsample': 0.710996484844668, 'colsample_bytree': 0.7063519673256213}.\n",
      "[I 2025-05-16 11:14:59,160] Trial 28 finished with values: [0.6721394589395068, 0.06802456027534864] and parameters: {'max_depth': 5, 'eta': 0.02945956193811755, 'subsample': 0.9681575793450405, 'colsample_bytree': 0.764952859469816}.\n",
      "[I 2025-05-16 11:14:59,271] Trial 29 finished with values: [0.6628664994041656, 0.051484514211416914] and parameters: {'max_depth': 3, 'eta': 0.19250327717179946, 'subsample': 0.605741337993122, 'colsample_bytree': 0.92245565114095}.\n",
      "[I 2025-05-16 11:14:59,435] Trial 30 finished with values: [0.6814231404300424, 0.06822132430576407] and parameters: {'max_depth': 7, 'eta': 0.12692291018860888, 'subsample': 0.6494407331239441, 'colsample_bytree': 0.8853561342993077}.\n",
      "[I 2025-05-16 11:14:59,678] Trial 31 finished with values: [0.6714425318518655, 0.08313437320585165] and parameters: {'max_depth': 6, 'eta': 0.03683992580913155, 'subsample': 0.6148021530203593, 'colsample_bytree': 0.7454278326533514}.\n",
      "[I 2025-05-16 11:14:59,819] Trial 32 finished with values: [0.6907129487521176, 0.07153967001989503] and parameters: {'max_depth': 7, 'eta': 0.25458653545686094, 'subsample': 0.816700114951965, 'colsample_bytree': 0.6692562907346212}.\n",
      "[I 2025-05-16 11:14:59,994] Trial 33 finished with values: [0.6721425223552765, 0.06239998447478969] and parameters: {'max_depth': 6, 'eta': 0.022662422240912458, 'subsample': 0.820396034385065, 'colsample_bytree': 0.7109850182940352}.\n",
      "[I 2025-05-16 11:15:00,123] Trial 34 finished with values: [0.697129273082072, 0.057906621783961394] and parameters: {'max_depth': 7, 'eta': 0.17882805594747295, 'subsample': 0.93009483414419, 'colsample_bytree': 0.887008730366048}.\n",
      "[I 2025-05-16 11:15:00,231] Trial 35 finished with values: [0.6907175438757723, 0.04335891136315834] and parameters: {'max_depth': 4, 'eta': 0.23664952565400163, 'subsample': 0.6585376909561049, 'colsample_bytree': 0.9292241271920356}.\n",
      "[I 2025-05-16 11:15:00,390] Trial 36 finished with values: [0.6700103849794597, 0.04415960735288604] and parameters: {'max_depth': 6, 'eta': 0.05802167945526492, 'subsample': 0.8222614211478344, 'colsample_bytree': 0.6064707654070676}.\n",
      "[I 2025-05-16 11:15:00,505] Trial 37 finished with values: [0.6899945777540873, 0.08356574021928247] and parameters: {'max_depth': 6, 'eta': 0.2924773952945511, 'subsample': 0.6888136196838434, 'colsample_bytree': 0.6976933022948821}.\n",
      "[I 2025-05-16 11:15:00,643] Trial 38 finished with values: [0.6785634418088858, 0.04851305149263768] and parameters: {'max_depth': 5, 'eta': 0.21818500145962005, 'subsample': 0.8002593147243723, 'colsample_bytree': 0.7317572853787689}.\n",
      "[I 2025-05-16 11:15:00,774] Trial 39 finished with values: [0.6750068161000878, 0.02990497156603934] and parameters: {'max_depth': 3, 'eta': 0.2915367440264417, 'subsample': 0.7478492407454064, 'colsample_bytree': 0.6143737562399064}.\n",
      "[I 2025-05-16 11:15:00,912] Trial 40 finished with values: [0.6900022362935121, 0.0681754230121586] and parameters: {'max_depth': 7, 'eta': 0.19710547548543672, 'subsample': 0.7852289961759282, 'colsample_bytree': 0.9824087932296275}.\n",
      "[I 2025-05-16 11:15:01,064] Trial 41 finished with values: [0.6778619195975897, 0.04959802327257771] and parameters: {'max_depth': 7, 'eta': 0.055243451865734546, 'subsample': 0.7624708288731532, 'colsample_bytree': 0.7626031159645914}.\n",
      "[I 2025-05-16 11:15:01,218] Trial 42 finished with values: [0.6792910030542255, 0.04784631643580715] and parameters: {'max_depth': 6, 'eta': 0.1592461265628396, 'subsample': 0.6471836771313785, 'colsample_bytree': 0.8874089109817354}.\n",
      "[I 2025-05-16 11:15:01,351] Trial 43 finished with values: [0.6999996936584231, 0.06956122553305984] and parameters: {'max_depth': 6, 'eta': 0.2607483833212311, 'subsample': 0.872557331145204, 'colsample_bytree': 0.7633687046332165}.\n",
      "[I 2025-05-16 11:15:01,503] Trial 44 finished with values: [0.6721517126025861, 0.05189706664459815] and parameters: {'max_depth': 5, 'eta': 0.08093928769810547, 'subsample': 0.8606440449386488, 'colsample_bytree': 0.6880031579107012}.\n",
      "[I 2025-05-16 11:15:01,629] Trial 45 finished with values: [0.6771588656784088, 0.05726501723246097] and parameters: {'max_depth': 3, 'eta': 0.23827430113265255, 'subsample': 0.8852089006722301, 'colsample_bytree': 0.6645756024035331}.\n",
      "[I 2025-05-16 11:15:01,825] Trial 46 finished with values: [0.6778634513054747, 0.06391509468874636] and parameters: {'max_depth': 5, 'eta': 0.07301965657092885, 'subsample': 0.7328503596291124, 'colsample_bytree': 0.9502691581166804}.\n",
      "[I 2025-05-16 11:15:02,086] Trial 47 finished with values: [0.6942848915397647, 0.052843603477116176] and parameters: {'max_depth': 5, 'eta': 0.2146539623164751, 'subsample': 0.8523333759711016, 'colsample_bytree': 0.9472018599541813}.\n",
      "[I 2025-05-16 11:15:02,353] Trial 48 finished with values: [0.6535812862057452, 0.03637824687683037] and parameters: {'max_depth': 3, 'eta': 0.012842659647776433, 'subsample': 0.9790731372571795, 'colsample_bytree': 0.9071329040873183}.\n",
      "[I 2025-05-16 11:15:02,474] Trial 49 finished with values: [0.6678659939405636, 0.080955344771681] and parameters: {'max_depth': 5, 'eta': 0.1285914362242757, 'subsample': 0.6097259810204162, 'colsample_bytree': 0.7581675230341707}.\n",
      "[I 2025-05-16 11:15:02,488] A new study created in memory with name: no-name-c8034631-2bb6-44da-968c-c34be3e2e71d\n",
      "[I 2025-05-16 11:15:02,612] Trial 0 finished with values: [0.6707226291459504, 0.012983203043084202] and parameters: {'max_depth': 5, 'eta': 0.12625446953686573, 'subsample': 0.7014788922862436, 'colsample_bytree': 0.6363628295661289}.\n"
     ]
    },
    {
     "name": "stdout",
     "output_type": "stream",
     "text": [
      "Completed study for alpha=0.5625\n",
      "14\n"
     ]
    },
    {
     "name": "stderr",
     "output_type": "stream",
     "text": [
      "[I 2025-05-16 11:15:02,731] Trial 1 finished with values: [0.6714379367282106, 0.012914275554801865] and parameters: {'max_depth': 7, 'eta': 0.19876283163950773, 'subsample': 0.6416954995726246, 'colsample_bytree': 0.7647631469145624}.\n",
      "[I 2025-05-16 11:15:02,845] Trial 2 finished with values: [0.6642986462765713, 0.015622554976171868] and parameters: {'max_depth': 4, 'eta': 0.28830669162604367, 'subsample': 0.9946810849736871, 'colsample_bytree': 0.8571000098240413}.\n",
      "[I 2025-05-16 11:15:02,963] Trial 3 finished with values: [0.6707226291459504, 0.012983203043084202] and parameters: {'max_depth': 7, 'eta': 0.2234062757034719, 'subsample': 0.6941170074520268, 'colsample_bytree': 0.89811582148573}.\n",
      "[I 2025-05-16 11:15:03,075] Trial 4 finished with values: [0.6707226291459504, 0.012983203043084202] and parameters: {'max_depth': 3, 'eta': 0.14801668167403936, 'subsample': 0.7928730251568241, 'colsample_bytree': 0.8563664270742839}.\n",
      "[I 2025-05-16 11:15:03,188] Trial 5 finished with values: [0.6707226291459504, 0.012983203043084202] and parameters: {'max_depth': 6, 'eta': 0.130861199504232, 'subsample': 0.8841509156144418, 'colsample_bytree': 0.6446724682370175}.\n",
      "[I 2025-05-16 11:15:03,443] Trial 6 finished with values: [0.5771842920292984, 0.01153118417932845] and parameters: {'max_depth': 7, 'eta': 0.012954780314091426, 'subsample': 0.6016565822405252, 'colsample_bytree': 0.8720487653860598}.\n",
      "[I 2025-05-16 11:15:03,619] Trial 7 finished with values: [0.6707226291459504, 0.012983203043084202] and parameters: {'max_depth': 3, 'eta': 0.01597364699906885, 'subsample': 0.7261423584763627, 'colsample_bytree': 0.9207180676022108}.\n",
      "[I 2025-05-16 11:15:03,732] Trial 8 finished with values: [0.6728685518927314, 0.008640771281297588] and parameters: {'max_depth': 7, 'eta': 0.26838342131607035, 'subsample': 0.7429028257945743, 'colsample_bytree': 0.7601679652720598}.\n",
      "[I 2025-05-16 11:15:03,837] Trial 9 finished with values: [0.6707226291459504, 0.012983203043084202] and parameters: {'max_depth': 7, 'eta': 0.17626749121314841, 'subsample': 0.8917397395132676, 'colsample_bytree': 0.9239686656319244}.\n",
      "[I 2025-05-16 11:15:03,937] Trial 10 finished with values: [0.6707226291459504, 0.012983203043084202] and parameters: {'max_depth': 7, 'eta': 0.28498168504202637, 'subsample': 0.899796720810835, 'colsample_bytree': 0.7705017407110091}.\n",
      "[I 2025-05-16 11:15:04,047] Trial 11 finished with values: [0.6707226291459504, 0.012983203043084202] and parameters: {'max_depth': 3, 'eta': 0.20227630868678456, 'subsample': 0.9302997124253455, 'colsample_bytree': 0.8330531710532206}.\n",
      "[I 2025-05-16 11:15:04,147] Trial 12 finished with values: [0.6343185278449176, 0.027998275798879018] and parameters: {'max_depth': 3, 'eta': 0.2422716250840182, 'subsample': 0.6031752688016541, 'colsample_bytree': 0.8116606329684102}.\n",
      "[I 2025-05-16 11:15:04,250] Trial 13 finished with values: [0.6707226291459504, 0.012983203043084202] and parameters: {'max_depth': 6, 'eta': 0.16559824823015007, 'subsample': 0.6625908816001559, 'colsample_bytree': 0.7744562823094285}.\n",
      "[I 2025-05-16 11:15:04,355] Trial 14 finished with values: [0.6707226291459504, 0.012983203043084202] and parameters: {'max_depth': 4, 'eta': 0.17089569157104986, 'subsample': 0.8036043808555693, 'colsample_bytree': 0.981104920018937}.\n",
      "[I 2025-05-16 11:15:04,454] Trial 15 finished with values: [0.6692950773971994, 0.023306651601310773] and parameters: {'max_depth': 3, 'eta': 0.22809881199904053, 'subsample': 0.9744413728776289, 'colsample_bytree': 0.6961258816637637}.\n",
      "[I 2025-05-16 11:15:04,566] Trial 16 finished with values: [0.6707226291459504, 0.012983203043084202] and parameters: {'max_depth': 6, 'eta': 0.12544600639713385, 'subsample': 0.6970479894404441, 'colsample_bytree': 0.9664910421102226}.\n",
      "[I 2025-05-16 11:15:04,677] Trial 17 finished with values: [0.6707226291459504, 0.012983203043084202] and parameters: {'max_depth': 6, 'eta': 0.14446677699355442, 'subsample': 0.8658715228052334, 'colsample_bytree': 0.8592744950535103}.\n",
      "[I 2025-05-16 11:15:04,803] Trial 18 finished with values: [0.6707226291459504, 0.012983203043084202] and parameters: {'max_depth': 6, 'eta': 0.19870813455070074, 'subsample': 0.9230925954765017, 'colsample_bytree': 0.9912015962004448}.\n",
      "[I 2025-05-16 11:15:04,900] Trial 19 finished with values: [0.6707226291459504, 0.012983203043084202] and parameters: {'max_depth': 6, 'eta': 0.14232515211315871, 'subsample': 0.9911601205290294, 'colsample_bytree': 0.9526773418013335}.\n",
      "[I 2025-05-16 11:15:05,063] Trial 20 finished with values: [0.6707226291459504, 0.012983203043084202] and parameters: {'max_depth': 5, 'eta': 0.17582137236433515, 'subsample': 0.6842769569053293, 'colsample_bytree': 0.9592650144852659}.\n",
      "[I 2025-05-16 11:15:05,213] Trial 21 finished with values: [0.6707226291459504, 0.012983203043084202] and parameters: {'max_depth': 3, 'eta': 0.0720607170760333, 'subsample': 0.8608163767934023, 'colsample_bytree': 0.8637098291246484}.\n",
      "[I 2025-05-16 11:15:05,321] Trial 22 finished with values: [0.6707226291459504, 0.012983203043084202] and parameters: {'max_depth': 4, 'eta': 0.12633480812715506, 'subsample': 0.8573155389662591, 'colsample_bytree': 0.8053442388312698}.\n",
      "[I 2025-05-16 11:15:05,438] Trial 23 finished with values: [0.6714379367282106, 0.012914275554801865] and parameters: {'max_depth': 7, 'eta': 0.2059754727769891, 'subsample': 0.6443823023051192, 'colsample_bytree': 0.6984540343292343}.\n",
      "[I 2025-05-16 11:15:05,659] Trial 24 finished with values: [0.6707226291459504, 0.012983203043084202] and parameters: {'max_depth': 4, 'eta': 0.12665577477960457, 'subsample': 0.9148192644916, 'colsample_bytree': 0.9718460598083312}.\n",
      "[I 2025-05-16 11:15:05,783] Trial 25 finished with values: [0.6707226291459504, 0.012983203043084202] and parameters: {'max_depth': 4, 'eta': 0.113817795662449, 'subsample': 0.7649252127687899, 'colsample_bytree': 0.7114143044319082}.\n",
      "[I 2025-05-16 11:15:05,917] Trial 26 finished with values: [0.6642986462765713, 0.015622554976171868] and parameters: {'max_depth': 6, 'eta': 0.27525489762496097, 'subsample': 0.7269118461837882, 'colsample_bytree': 0.7841350815314432}.\n",
      "[I 2025-05-16 11:15:06,020] Trial 27 finished with values: [0.6707226291459504, 0.012983203043084202] and parameters: {'max_depth': 4, 'eta': 0.15625608111570427, 'subsample': 0.6528814875447877, 'colsample_bytree': 0.6950293723745306}.\n",
      "[I 2025-05-16 11:15:06,156] Trial 28 finished with values: [0.6707226291459504, 0.012983203043084202] and parameters: {'max_depth': 6, 'eta': 0.048731385158141856, 'subsample': 0.926173922808045, 'colsample_bytree': 0.6674668786872984}.\n",
      "[I 2025-05-16 11:15:06,309] Trial 29 finished with values: [0.6707226291459504, 0.012983203043084202] and parameters: {'max_depth': 4, 'eta': 0.031782399055271075, 'subsample': 0.835225965058472, 'colsample_bytree': 0.9969234735580697}.\n",
      "[I 2025-05-16 11:15:06,421] Trial 30 finished with values: [0.6707226291459504, 0.012983203043084202] and parameters: {'max_depth': 6, 'eta': 0.2002070179056556, 'subsample': 0.9831777735867816, 'colsample_bytree': 0.9707262900895277}.\n",
      "[I 2025-05-16 11:15:06,541] Trial 31 finished with values: [0.667153749774073, 0.011713283744407388] and parameters: {'max_depth': 4, 'eta': 0.11332736775362631, 'subsample': 0.6260887447877037, 'colsample_bytree': 0.6012858475662566}.\n",
      "[I 2025-05-16 11:15:06,652] Trial 32 finished with values: [0.6707226291459504, 0.012983203043084202] and parameters: {'max_depth': 7, 'eta': 0.10460763420752044, 'subsample': 0.9227071081130792, 'colsample_bytree': 0.765115196587392}.\n",
      "[I 2025-05-16 11:15:06,782] Trial 33 finished with values: [0.6707226291459504, 0.012983203043084202] and parameters: {'max_depth': 4, 'eta': 0.27528511405219874, 'subsample': 0.6660023426678088, 'colsample_bytree': 0.7427145976462161}.\n",
      "[I 2025-05-16 11:15:06,897] Trial 34 finished with values: [0.6707226291459504, 0.012983203043084202] and parameters: {'max_depth': 4, 'eta': 0.14298776463727636, 'subsample': 0.8339338222773438, 'colsample_bytree': 0.6127874529650897}.\n",
      "[I 2025-05-16 11:15:07,011] Trial 35 finished with values: [0.6707226291459504, 0.012983203043084202] and parameters: {'max_depth': 7, 'eta': 0.10855223118626325, 'subsample': 0.7619942150973132, 'colsample_bytree': 0.6526328643346332}.\n",
      "[I 2025-05-16 11:15:07,220] Trial 36 finished with values: [0.6707226291459504, 0.012983203043084202] and parameters: {'max_depth': 5, 'eta': 0.13215551372597303, 'subsample': 0.649371961768543, 'colsample_bytree': 0.6276562383762634}.\n",
      "[I 2025-05-16 11:15:07,427] Trial 37 finished with values: [0.6707226291459504, 0.012983203043084202] and parameters: {'max_depth': 6, 'eta': 0.10257636347218321, 'subsample': 0.7103387479856774, 'colsample_bytree': 0.7861006810954304}.\n",
      "[I 2025-05-16 11:15:08,095] Trial 38 finished with values: [0.6707226291459504, 0.012983203043084202] and parameters: {'max_depth': 6, 'eta': 0.15762043071492485, 'subsample': 0.8642840214078779, 'colsample_bytree': 0.7066637856110811}.\n",
      "[I 2025-05-16 11:15:08,234] Trial 39 finished with values: [0.6707226291459504, 0.012983203043084202] and parameters: {'max_depth': 4, 'eta': 0.2739230987182962, 'subsample': 0.8838123539930651, 'colsample_bytree': 0.8670594043722242}.\n",
      "[I 2025-05-16 11:15:08,367] Trial 40 finished with values: [0.6707226291459504, 0.012983203043084202] and parameters: {'max_depth': 4, 'eta': 0.16154277685024557, 'subsample': 0.6445573995594115, 'colsample_bytree': 0.9057397024407398}.\n",
      "[I 2025-05-16 11:15:08,506] Trial 41 finished with values: [0.6707226291459504, 0.012983203043084202] and parameters: {'max_depth': 6, 'eta': 0.28360312317193026, 'subsample': 0.7838478741992695, 'colsample_bytree': 0.8565915229402112}.\n",
      "[I 2025-05-16 11:15:08,628] Trial 42 finished with values: [0.6707226291459504, 0.012983203043084202] and parameters: {'max_depth': 3, 'eta': 0.23726884638509646, 'subsample': 0.7374533422471586, 'colsample_bytree': 0.9685377673745366}.\n",
      "[I 2025-05-16 11:15:08,798] Trial 43 finished with values: [0.6707226291459504, 0.012983203043084202] and parameters: {'max_depth': 3, 'eta': 0.051012622306323786, 'subsample': 0.6351291089696286, 'colsample_bytree': 0.9087390219111864}.\n",
      "[I 2025-05-16 11:15:08,938] Trial 44 finished with values: [0.668581301522824, 0.022290391438709145] and parameters: {'max_depth': 4, 'eta': 0.2817414630015398, 'subsample': 0.6587751346066951, 'colsample_bytree': 0.9521834996165073}.\n",
      "[I 2025-05-16 11:15:09,100] Trial 45 finished with values: [0.6707226291459504, 0.012983203043084202] and parameters: {'max_depth': 4, 'eta': 0.0328790356538671, 'subsample': 0.7611455248795469, 'colsample_bytree': 0.6000237409482675}.\n",
      "[I 2025-05-16 11:15:09,225] Trial 46 finished with values: [0.6721532443104711, 0.010777523418049736] and parameters: {'max_depth': 3, 'eta': 0.2743292420879261, 'subsample': 0.6712158322660872, 'colsample_bytree': 0.90704585107961}.\n",
      "[I 2025-05-16 11:15:09,376] Trial 47 finished with values: [0.6707226291459504, 0.012983203043084202] and parameters: {'max_depth': 5, 'eta': 0.015517236370217378, 'subsample': 0.7791739213207692, 'colsample_bytree': 0.9020255729653014}.\n",
      "[I 2025-05-16 11:15:09,485] Trial 48 finished with values: [0.6707226291459504, 0.012983203043084202] and parameters: {'max_depth': 7, 'eta': 0.08383040140267231, 'subsample': 0.6757584523613744, 'colsample_bytree': 0.6910459014444688}.\n",
      "[I 2025-05-16 11:15:09,608] Trial 49 finished with values: [0.6707226291459504, 0.012983203043084202] and parameters: {'max_depth': 5, 'eta': 0.07827398128892525, 'subsample': 0.9775540776031413, 'colsample_bytree': 0.7562088657920073}.\n",
      "[I 2025-05-16 11:15:09,624] A new study created in memory with name: no-name-78eb2143-dc9e-4c2f-bba3-3ec5552be77d\n",
      "[I 2025-05-16 11:15:09,790] Trial 0 finished with values: [0.6692950773971994, 0.023306651601310773] and parameters: {'max_depth': 5, 'eta': 0.03387249427371626, 'subsample': 0.7545213854491127, 'colsample_bytree': 0.8141302708609461}.\n"
     ]
    },
    {
     "name": "stdout",
     "output_type": "stream",
     "text": [
      "Completed study for alpha=0.02294921875\n",
      "15\n"
     ]
    },
    {
     "name": "stderr",
     "output_type": "stream",
     "text": [
      "[I 2025-05-16 11:15:09,930] Trial 1 finished with values: [0.6707226291459504, 0.012983203043084202] and parameters: {'max_depth': 4, 'eta': 0.07838658543656261, 'subsample': 0.8482804365408092, 'colsample_bytree': 0.8420905969651042}.\n",
      "[I 2025-05-16 11:15:10,053] Trial 2 finished with values: [0.6707226291459504, 0.012983203043084202] and parameters: {'max_depth': 4, 'eta': 0.2689789834472531, 'subsample': 0.9803824647593569, 'colsample_bytree': 0.8562833083620074}.\n",
      "[I 2025-05-16 11:15:10,279] Trial 3 finished with values: [0.6707226291459504, 0.012983203043084202] and parameters: {'max_depth': 7, 'eta': 0.11134864710167346, 'subsample': 0.935721673209935, 'colsample_bytree': 0.6318611975543293}.\n",
      "[I 2025-05-16 11:15:10,443] Trial 4 finished with values: [0.6707226291459504, 0.012983203043084202] and parameters: {'max_depth': 3, 'eta': 0.052262678429692004, 'subsample': 0.8688651148161866, 'colsample_bytree': 0.98699590890497}.\n",
      "[I 2025-05-16 11:15:10,614] Trial 5 finished with values: [0.6707226291459504, 0.012983203043084202] and parameters: {'max_depth': 3, 'eta': 0.168773520812819, 'subsample': 0.983364627518265, 'colsample_bytree': 0.8380738516334743}.\n",
      "[I 2025-05-16 11:15:10,721] Trial 6 finished with values: [0.6707226291459504, 0.012983203043084202] and parameters: {'max_depth': 3, 'eta': 0.21739694343318577, 'subsample': 0.8826001578198928, 'colsample_bytree': 0.7755534371648702}.\n",
      "[I 2025-05-16 11:15:10,902] Trial 7 finished with values: [0.662157318653445, 0.022667489574199746] and parameters: {'max_depth': 6, 'eta': 0.23967865075550052, 'subsample': 0.619920364039061, 'colsample_bytree': 0.7507452654026289}.\n",
      "[I 2025-05-16 11:15:11,194] Trial 8 finished with values: [0.6707226291459504, 0.012983203043084202] and parameters: {'max_depth': 3, 'eta': 0.09383916083806974, 'subsample': 0.6588328805689303, 'colsample_bytree': 0.6052983630372447}.\n",
      "[I 2025-05-16 11:15:11,471] Trial 9 finished with values: [0.6707226291459504, 0.012983203043084202] and parameters: {'max_depth': 6, 'eta': 0.23493735275506872, 'subsample': 0.9029358861240777, 'colsample_bytree': 0.9098364240795879}.\n",
      "[I 2025-05-16 11:15:11,639] Trial 10 finished with values: [0.6707226291459504, 0.012983203043084202] and parameters: {'max_depth': 4, 'eta': 0.1377867320697198, 'subsample': 0.6718597967322129, 'colsample_bytree': 0.8955105326311346}.\n",
      "[I 2025-05-16 11:15:11,811] Trial 11 finished with values: [0.6707226291459504, 0.012983203043084202] and parameters: {'max_depth': 4, 'eta': 0.055425161103372526, 'subsample': 0.8158424358694526, 'colsample_bytree': 0.9048477325830028}.\n",
      "[I 2025-05-16 11:15:11,930] Trial 12 finished with values: [0.6707226291459504, 0.012983203043084202] and parameters: {'max_depth': 3, 'eta': 0.2694668961797863, 'subsample': 0.9145761119206812, 'colsample_bytree': 0.848024803296879}.\n",
      "[I 2025-05-16 11:15:12,130] Trial 13 finished with values: [0.6707226291459504, 0.012983203043084202] and parameters: {'max_depth': 3, 'eta': 0.013554775307171616, 'subsample': 0.9292545508893656, 'colsample_bytree': 0.9805780091119047}.\n",
      "[I 2025-05-16 11:15:12,244] Trial 14 finished with values: [0.6707226291459504, 0.012983203043084202] and parameters: {'max_depth': 5, 'eta': 0.12131814438738818, 'subsample': 0.7032191180971551, 'colsample_bytree': 0.9810701197574135}.\n",
      "[I 2025-05-16 11:15:12,365] Trial 15 finished with values: [0.667153749774073, 0.011713283744407388] and parameters: {'max_depth': 4, 'eta': 0.08746910841777668, 'subsample': 0.6268051512815103, 'colsample_bytree': 0.9659535959981711}.\n",
      "[I 2025-05-16 11:15:12,480] Trial 16 finished with values: [0.6507353729555528, 0.020657272659021342] and parameters: {'max_depth': 4, 'eta': 0.2885419809564586, 'subsample': 0.6100311484236642, 'colsample_bytree': 0.7902888502313545}.\n",
      "[I 2025-05-16 11:15:12,595] Trial 17 finished with values: [0.642883838337423, 0.030322878197729202] and parameters: {'max_depth': 4, 'eta': 0.24766505272829878, 'subsample': 0.6084413993394063, 'colsample_bytree': 0.6186718921934186}.\n",
      "[I 2025-05-16 11:15:12,759] Trial 18 finished with values: [0.6707226291459504, 0.012983203043084202] and parameters: {'max_depth': 5, 'eta': 0.08141180223696105, 'subsample': 0.6910929431377107, 'colsample_bytree': 0.8217874040856261}.\n",
      "[I 2025-05-16 11:15:12,892] Trial 19 finished with values: [0.6707226291459504, 0.012983203043084202] and parameters: {'max_depth': 4, 'eta': 0.17049664558133368, 'subsample': 0.8141572256039502, 'colsample_bytree': 0.8586688879983836}.\n",
      "[I 2025-05-16 11:15:13,076] Trial 20 finished with values: [0.6707226291459504, 0.012983203043084202] and parameters: {'max_depth': 7, 'eta': 0.2485974361520814, 'subsample': 0.9390963460737004, 'colsample_bytree': 0.761105184276934}.\n",
      "[I 2025-05-16 11:15:13,194] Trial 21 finished with values: [0.6707226291459504, 0.012983203043084202] and parameters: {'max_depth': 5, 'eta': 0.15633120415782925, 'subsample': 0.8035741714197442, 'colsample_bytree': 0.8579697126060227}.\n",
      "[I 2025-05-16 11:15:13,341] Trial 22 finished with values: [0.6600159910303186, 0.020764337573818254] and parameters: {'max_depth': 4, 'eta': 0.29759924323372017, 'subsample': 0.6326091923157806, 'colsample_bytree': 0.8992776072954985}.\n",
      "[I 2025-05-16 11:15:13,447] Trial 23 finished with values: [0.6707226291459504, 0.012983203043084202] and parameters: {'max_depth': 7, 'eta': 0.26305693237425243, 'subsample': 0.8591423171283326, 'colsample_bytree': 0.8509196221363033}.\n",
      "[I 2025-05-16 11:15:13,571] Trial 24 finished with values: [0.6707226291459504, 0.012983203043084202] and parameters: {'max_depth': 4, 'eta': 0.24204421137172472, 'subsample': 0.8094994371312594, 'colsample_bytree': 0.8578304819980277}.\n",
      "[I 2025-05-16 11:15:13,721] Trial 25 finished with values: [0.668581301522824, 0.019844797227157113] and parameters: {'max_depth': 4, 'eta': 0.2894357843879325, 'subsample': 0.6546542846620936, 'colsample_bytree': 0.9158109619084353}.\n",
      "[I 2025-05-16 11:15:13,873] Trial 26 finished with values: [0.6728685518927314, 0.008640771281297588] and parameters: {'max_depth': 4, 'eta': 0.2957252306362285, 'subsample': 0.9436943585700321, 'colsample_bytree': 0.7603200372661836}.\n",
      "[I 2025-05-16 11:15:13,980] Trial 27 finished with values: [0.6707226291459504, 0.012983203043084202] and parameters: {'max_depth': 7, 'eta': 0.10210839158841568, 'subsample': 0.6648181422359261, 'colsample_bytree': 0.908072472100447}.\n",
      "[I 2025-05-16 11:15:14,084] Trial 28 finished with values: [0.6707226291459504, 0.012983203043084202] and parameters: {'max_depth': 5, 'eta': 0.21835784810002132, 'subsample': 0.955660939586378, 'colsample_bytree': 0.6137656751607378}.\n",
      "[I 2025-05-16 11:15:14,192] Trial 29 finished with values: [0.6721532443104711, 0.010777523418049736] and parameters: {'max_depth': 6, 'eta': 0.24295203209148353, 'subsample': 0.6686396376193904, 'colsample_bytree': 0.667333595828424}.\n",
      "[I 2025-05-16 11:15:14,296] Trial 30 finished with values: [0.6707226291459504, 0.012983203043084202] and parameters: {'max_depth': 4, 'eta': 0.22851551777850848, 'subsample': 0.6693158554022524, 'colsample_bytree': 0.8323793253087957}.\n",
      "[I 2025-05-16 11:15:14,434] Trial 31 finished with values: [0.6707226291459504, 0.012983203043084202] and parameters: {'max_depth': 7, 'eta': 0.033604106700415, 'subsample': 0.7257886406924906, 'colsample_bytree': 0.6532278382574963}.\n",
      "[I 2025-05-16 11:15:14,576] Trial 32 finished with values: [0.6707226291459504, 0.012983203043084202] and parameters: {'max_depth': 5, 'eta': 0.02434657133068223, 'subsample': 0.7625382137226042, 'colsample_bytree': 0.6169665156988164}.\n",
      "[I 2025-05-16 11:15:14,680] Trial 33 finished with values: [0.6707226291459504, 0.012983203043084202] and parameters: {'max_depth': 6, 'eta': 0.24849891073861424, 'subsample': 0.7333799368062502, 'colsample_bytree': 0.7138495524330949}.\n",
      "[I 2025-05-16 11:15:14,775] Trial 34 finished with values: [0.6707226291459504, 0.012983203043084202] and parameters: {'max_depth': 5, 'eta': 0.14394955405658685, 'subsample': 0.8579700735585023, 'colsample_bytree': 0.8394553394128857}.\n",
      "[I 2025-05-16 11:15:14,877] Trial 35 finished with values: [0.6707226291459504, 0.012983203043084202] and parameters: {'max_depth': 6, 'eta': 0.2510650325937595, 'subsample': 0.7209343959520298, 'colsample_bytree': 0.6604691264026651}.\n",
      "[I 2025-05-16 11:15:14,999] Trial 36 finished with values: [0.6707226291459504, 0.012983203043084202] and parameters: {'max_depth': 4, 'eta': 0.11115603903135986, 'subsample': 0.8154246466254651, 'colsample_bytree': 0.7942248962733186}.\n",
      "[I 2025-05-16 11:15:15,100] Trial 37 finished with values: [0.6707226291459504, 0.012983203043084202] and parameters: {'max_depth': 3, 'eta': 0.15946148252310857, 'subsample': 0.6790186182560928, 'colsample_bytree': 0.8896448975210618}.\n",
      "[I 2025-05-16 11:15:15,206] Trial 38 finished with values: [0.6642986462765713, 0.015622554976171868] and parameters: {'max_depth': 4, 'eta': 0.24883556595668493, 'subsample': 0.7435185662828562, 'colsample_bytree': 0.9174495538205846}.\n",
      "[I 2025-05-16 11:15:15,328] Trial 39 finished with values: [0.6707226291459504, 0.012983203043084202] and parameters: {'max_depth': 7, 'eta': 0.08730782106669281, 'subsample': 0.7422516299465693, 'colsample_bytree': 0.8234028405558249}.\n",
      "[I 2025-05-16 11:15:15,443] Trial 40 finished with values: [0.6707226291459504, 0.012983203043084202] and parameters: {'max_depth': 6, 'eta': 0.07341319308608021, 'subsample': 0.9579998286870741, 'colsample_bytree': 0.6271855061912746}.\n",
      "[I 2025-05-16 11:15:15,559] Trial 41 finished with values: [0.6707226291459504, 0.012983203043084202] and parameters: {'max_depth': 5, 'eta': 0.11895409036222077, 'subsample': 0.9050777342036744, 'colsample_bytree': 0.6692443774154748}.\n",
      "[I 2025-05-16 11:15:15,740] Trial 42 finished with values: [0.6707226291459504, 0.012983203043084202] and parameters: {'max_depth': 4, 'eta': 0.20601510703739026, 'subsample': 0.7277753425900619, 'colsample_bytree': 0.648197091797219}.\n",
      "[I 2025-05-16 11:15:15,928] Trial 43 finished with values: [0.6664384421918127, 0.009493818621716462] and parameters: {'max_depth': 5, 'eta': 0.06567924581134936, 'subsample': 0.6250248612348015, 'colsample_bytree': 0.6787280078423974}.\n",
      "[I 2025-05-16 11:15:16,074] Trial 44 finished with values: [0.6707226291459504, 0.012983203043084202] and parameters: {'max_depth': 6, 'eta': 0.07935484206912857, 'subsample': 0.8784701259017469, 'colsample_bytree': 0.9611435853362843}.\n",
      "[I 2025-05-16 11:15:16,195] Trial 45 finished with values: [0.6707226291459504, 0.012983203043084202] and parameters: {'max_depth': 7, 'eta': 0.07078771607769005, 'subsample': 0.9649778871208718, 'colsample_bytree': 0.7311285969320861}.\n",
      "[I 2025-05-16 11:15:16,293] Trial 46 finished with values: [0.6707226291459504, 0.012983203043084202] and parameters: {'max_depth': 5, 'eta': 0.08723522732706887, 'subsample': 0.9188293591593704, 'colsample_bytree': 0.6040658778136951}.\n",
      "[I 2025-05-16 11:15:16,383] Trial 47 finished with values: [0.6707226291459504, 0.012983203043084202] and parameters: {'max_depth': 7, 'eta': 0.2029750265069495, 'subsample': 0.6674000166922213, 'colsample_bytree': 0.8982131326698269}.\n",
      "[I 2025-05-16 11:15:16,503] Trial 48 finished with values: [0.6664399738996977, 0.023177969443160695] and parameters: {'max_depth': 4, 'eta': 0.2561425517684743, 'subsample': 0.646940317438701, 'colsample_bytree': 0.9624129981162867}.\n",
      "[I 2025-05-16 11:15:16,609] Trial 49 finished with values: [0.6707226291459504, 0.012983203043084202] and parameters: {'max_depth': 6, 'eta': 0.2702261638650086, 'subsample': 0.7299827305742267, 'colsample_bytree': 0.7423970057768328}.\n",
      "[I 2025-05-16 11:15:16,624] A new study created in memory with name: no-name-db2389e1-b420-4ef4-a5fa-bc668bb69542\n",
      "[I 2025-05-16 11:15:16,768] Trial 0 finished with values: [0.6707226291459504, 0.012983203043084202] and parameters: {'max_depth': 5, 'eta': 0.03538316814356158, 'subsample': 0.707717962975739, 'colsample_bytree': 0.8646765784304965}.\n"
     ]
    },
    {
     "name": "stdout",
     "output_type": "stream",
     "text": [
      "Completed study for alpha=0.022705078125\n",
      "16\n"
     ]
    },
    {
     "name": "stderr",
     "output_type": "stream",
     "text": [
      "[I 2025-05-16 11:15:16,911] Trial 1 finished with values: [0.6464557811250701, 0.02310104456401531] and parameters: {'max_depth': 7, 'eta': 0.21806665821328136, 'subsample': 0.6204547302767405, 'colsample_bytree': 0.8362929309967387}.\n",
      "[I 2025-05-16 11:15:17,023] Trial 2 finished with values: [0.6471664935836756, 0.022258038105468142] and parameters: {'max_depth': 5, 'eta': 0.28869476828105706, 'subsample': 0.6052204171184942, 'colsample_bytree': 0.6631642205484641}.\n",
      "[I 2025-05-16 11:15:17,152] Trial 3 finished with values: [0.6707226291459504, 0.012983203043084202] and parameters: {'max_depth': 7, 'eta': 0.10589536881212151, 'subsample': 0.6485590515705673, 'colsample_bytree': 0.6137088513297118}.\n",
      "[I 2025-05-16 11:15:17,275] Trial 4 finished with values: [0.6664445690233525, 0.011280123214385254] and parameters: {'max_depth': 3, 'eta': 0.26703197464104195, 'subsample': 0.9640286768920947, 'colsample_bytree': 0.9230458331582391}.\n",
      "[I 2025-05-16 11:15:17,407] Trial 5 finished with values: [0.6707226291459504, 0.012983203043084202] and parameters: {'max_depth': 6, 'eta': 0.03782889924577343, 'subsample': 0.8272398781511204, 'colsample_bytree': 0.9450755847313564}.\n",
      "[I 2025-05-16 11:15:17,517] Trial 6 finished with values: [0.6707226291459504, 0.012983203043084202] and parameters: {'max_depth': 4, 'eta': 0.22489336046261704, 'subsample': 0.7117673730919829, 'colsample_bytree': 0.6914027975547641}.\n",
      "[I 2025-05-16 11:15:17,637] Trial 7 finished with values: [0.6707226291459504, 0.012983203043084202] and parameters: {'max_depth': 7, 'eta': 0.04908511251905958, 'subsample': 0.870274435625175, 'colsample_bytree': 0.6593679853259127}.\n",
      "[I 2025-05-16 11:15:17,748] Trial 8 finished with values: [0.6707226291459504, 0.012983203043084202] and parameters: {'max_depth': 6, 'eta': 0.08507267613682046, 'subsample': 0.7560426240912825, 'colsample_bytree': 0.6793767396763657}.\n",
      "[I 2025-05-16 11:15:17,857] Trial 9 finished with values: [0.6707272242696051, 0.01794795967692253] and parameters: {'max_depth': 3, 'eta': 0.25767692792034713, 'subsample': 0.7165959000547459, 'colsample_bytree': 0.9249036142729795}.\n",
      "[I 2025-05-16 11:15:18,024] Trial 10 finished with values: [0.6707226291459504, 0.012983203043084202] and parameters: {'max_depth': 4, 'eta': 0.1782913540089097, 'subsample': 0.9298909522732742, 'colsample_bytree': 0.9170846862239902}.\n",
      "[I 2025-05-16 11:15:18,138] Trial 11 finished with values: [0.6500215970811775, 0.028059001964840135] and parameters: {'max_depth': 4, 'eta': 0.251864859217702, 'subsample': 0.6220867743907682, 'colsample_bytree': 0.8780306275087991}.\n",
      "[I 2025-05-16 11:15:18,255] Trial 12 finished with values: [0.6707226291459504, 0.012983203043084202] and parameters: {'max_depth': 4, 'eta': 0.1253850948701421, 'subsample': 0.9472922077900474, 'colsample_bytree': 0.9219478888553385}.\n",
      "[I 2025-05-16 11:15:18,377] Trial 13 finished with values: [0.6707226291459504, 0.012983203043084202] and parameters: {'max_depth': 4, 'eta': 0.14822652071826567, 'subsample': 0.7672654837448507, 'colsample_bytree': 0.7926963753878562}.\n",
      "[I 2025-05-16 11:15:18,519] Trial 14 finished with values: [0.6707226291459504, 0.012983203043084202] and parameters: {'max_depth': 5, 'eta': 0.259443723727052, 'subsample': 0.7937272967880167, 'colsample_bytree': 0.6084478287527824}.\n",
      "[I 2025-05-16 11:15:18,781] Trial 15 finished with values: [0.6728685518927314, 0.008640771281297588] and parameters: {'max_depth': 7, 'eta': 0.29923436770457956, 'subsample': 0.7406725528507369, 'colsample_bytree': 0.6233885987504183}.\n",
      "[I 2025-05-16 11:15:18,903] Trial 16 finished with values: [0.6578700682835376, 0.01865996153434593] and parameters: {'max_depth': 3, 'eta': 0.045203019785518946, 'subsample': 0.6275639282976788, 'colsample_bytree': 0.6940628241210534}.\n",
      "[I 2025-05-16 11:15:19,053] Trial 17 finished with values: [0.6707226291459504, 0.012983203043084202] and parameters: {'max_depth': 5, 'eta': 0.025912123875800906, 'subsample': 0.7420734111069007, 'colsample_bytree': 0.864904223835564}.\n",
      "[I 2025-05-16 11:15:19,172] Trial 18 finished with values: [0.6707226291459504, 0.012983203043084202] and parameters: {'max_depth': 3, 'eta': 0.24419795059947147, 'subsample': 0.9536480310374555, 'colsample_bytree': 0.9337966820628721}.\n",
      "[I 2025-05-16 11:15:19,313] Trial 19 finished with values: [0.6707226291459504, 0.012983203043084202] and parameters: {'max_depth': 6, 'eta': 0.06053278916143509, 'subsample': 0.8381748300329874, 'colsample_bytree': 0.704392922623146}.\n",
      "[I 2025-05-16 11:15:19,432] Trial 20 finished with values: [0.6707226291459504, 0.012983203043084202] and parameters: {'max_depth': 5, 'eta': 0.182438253244059, 'subsample': 0.8710451154341092, 'colsample_bytree': 0.7991598387456511}.\n",
      "[I 2025-05-16 11:15:19,532] Trial 21 finished with values: [0.6707226291459504, 0.012983203043084202] and parameters: {'max_depth': 4, 'eta': 0.09042805772413072, 'subsample': 0.6647712586088027, 'colsample_bytree': 0.9182696573045714}.\n",
      "[I 2025-05-16 11:15:19,638] Trial 22 finished with values: [0.6707226291459504, 0.012983203043084202] and parameters: {'max_depth': 7, 'eta': 0.05032202404438022, 'subsample': 0.8994963799403287, 'colsample_bytree': 0.6162857017683742}.\n",
      "[I 2025-05-16 11:15:19,726] Trial 23 finished with values: [0.6707226291459504, 0.012983203043084202] and parameters: {'max_depth': 6, 'eta': 0.22529324214169077, 'subsample': 0.9167328465859159, 'colsample_bytree': 0.96678306395852}.\n",
      "[I 2025-05-16 11:15:19,823] Trial 24 finished with values: [0.6707226291459504, 0.012983203043084202] and parameters: {'max_depth': 3, 'eta': 0.07784395959905344, 'subsample': 0.9249874062954918, 'colsample_bytree': 0.8269369650236322}.\n",
      "[I 2025-05-16 11:15:19,915] Trial 25 finished with values: [0.6707226291459504, 0.012983203043084202] and parameters: {'max_depth': 5, 'eta': 0.24454125606102164, 'subsample': 0.7590561572339545, 'colsample_bytree': 0.8835852064215767}.\n",
      "[I 2025-05-16 11:15:20,161] Trial 26 finished with values: [0.6707226291459504, 0.012983203043084202] and parameters: {'max_depth': 3, 'eta': 0.011463207471175376, 'subsample': 0.8010231420748575, 'colsample_bytree': 0.9426987594744785}.\n",
      "[I 2025-05-16 11:15:20,262] Trial 27 finished with values: [0.6707226291459504, 0.012983203043084202] and parameters: {'max_depth': 3, 'eta': 0.11316610729002712, 'subsample': 0.9269288151366208, 'colsample_bytree': 0.637769749589489}.\n",
      "[I 2025-05-16 11:15:20,354] Trial 28 finished with values: [0.6707226291459504, 0.012983203043084202] and parameters: {'max_depth': 6, 'eta': 0.2998614542891707, 'subsample': 0.7307762659969311, 'colsample_bytree': 0.835740527123879}.\n",
      "[I 2025-05-16 11:15:20,443] Trial 29 finished with values: [0.6707226291459504, 0.012983203043084202] and parameters: {'max_depth': 3, 'eta': 0.16313247860069818, 'subsample': 0.9425789963987606, 'colsample_bytree': 0.6248723703506455}.\n",
      "[I 2025-05-16 11:15:20,537] Trial 30 finished with values: [0.6707226291459504, 0.012983203043084202] and parameters: {'max_depth': 6, 'eta': 0.2143695521730991, 'subsample': 0.7222551364959039, 'colsample_bytree': 0.6575439075390284}.\n",
      "[I 2025-05-16 11:15:20,629] Trial 31 finished with values: [0.6578731316993074, 0.024876945540137845] and parameters: {'max_depth': 6, 'eta': 0.292647721942074, 'subsample': 0.6166231991556019, 'colsample_bytree': 0.7962204941693432}.\n",
      "[I 2025-05-16 11:15:20,722] Trial 32 finished with values: [0.6707226291459504, 0.012983203043084202] and parameters: {'max_depth': 6, 'eta': 0.08591681367097267, 'subsample': 0.9230455983673682, 'colsample_bytree': 0.9026077478655633}.\n",
      "[I 2025-05-16 11:15:20,821] Trial 33 finished with values: [0.5700572552407386, 0.018621170363836034] and parameters: {'max_depth': 4, 'eta': 0.0830772247664195, 'subsample': 0.6057039792513121, 'colsample_bytree': 0.822523655261193}.\n",
      "[I 2025-05-16 11:15:20,945] Trial 34 finished with values: [0.6707226291459504, 0.012983203043084202] and parameters: {'max_depth': 4, 'eta': 0.038864023138342675, 'subsample': 0.652379086978342, 'colsample_bytree': 0.7970966659803795}.\n",
      "[I 2025-05-16 11:15:21,038] Trial 35 finished with values: [0.6707226291459504, 0.012983203043084202] and parameters: {'max_depth': 4, 'eta': 0.06708271329611298, 'subsample': 0.7090511231905834, 'colsample_bytree': 0.9534104291227306}.\n",
      "[I 2025-05-16 11:15:21,142] Trial 36 finished with values: [0.6707226291459504, 0.012983203043084202] and parameters: {'max_depth': 6, 'eta': 0.11910787220182784, 'subsample': 0.6904188737873329, 'colsample_bytree': 0.6638420101580417}.\n",
      "[I 2025-05-16 11:15:21,230] Trial 37 finished with values: [0.6728685518927314, 0.008640771281297588] and parameters: {'max_depth': 3, 'eta': 0.2704232876616868, 'subsample': 0.7407798435091115, 'colsample_bytree': 0.988711734282992}.\n",
      "[I 2025-05-16 11:15:21,345] Trial 38 finished with values: [0.6707226291459504, 0.012983203043084202] and parameters: {'max_depth': 4, 'eta': 0.092932749690146, 'subsample': 0.9218938458419327, 'colsample_bytree': 0.7730242480264439}.\n",
      "[I 2025-05-16 11:15:21,518] Trial 39 finished with values: [0.6707226291459504, 0.012983203043084202] and parameters: {'max_depth': 3, 'eta': 0.031627474467863015, 'subsample': 0.9639622481269529, 'colsample_bytree': 0.7845300046394658}.\n",
      "[I 2025-05-16 11:15:21,662] Trial 40 finished with values: [0.6707226291459504, 0.012983203043084202] and parameters: {'max_depth': 4, 'eta': 0.09705173454687793, 'subsample': 0.9566580016273296, 'colsample_bytree': 0.6590435486913893}.\n",
      "[I 2025-05-16 11:15:21,926] Trial 41 finished with values: [0.6642986462765713, 0.015622554976171868] and parameters: {'max_depth': 7, 'eta': 0.2690351400933285, 'subsample': 0.9145528094811988, 'colsample_bytree': 0.764099910956902}.\n",
      "[I 2025-05-16 11:15:22,062] Trial 42 finished with values: [0.6721532443104711, 0.010777523418049736] and parameters: {'max_depth': 5, 'eta': 0.26472562659558185, 'subsample': 0.6767187797229757, 'colsample_bytree': 0.6817193020890995}.\n",
      "[I 2025-05-16 11:15:22,187] Trial 43 finished with values: [0.6707226291459504, 0.012983203043084202] and parameters: {'max_depth': 4, 'eta': 0.17387585964288052, 'subsample': 0.7175698300133265, 'colsample_bytree': 0.777563833951584}.\n",
      "[I 2025-05-16 11:15:22,324] Trial 44 finished with values: [0.6600159910303186, 0.017612263712454567] and parameters: {'max_depth': 3, 'eta': 0.11814393815773043, 'subsample': 0.6298805764236567, 'colsample_bytree': 0.7183555504312789}.\n",
      "[I 2025-05-16 11:15:22,444] Trial 45 finished with values: [0.6464557811250701, 0.02310104456401531] and parameters: {'max_depth': 3, 'eta': 0.20880410620488218, 'subsample': 0.6202918452377507, 'colsample_bytree': 0.7806511595954733}.\n",
      "[I 2025-05-16 11:15:22,590] Trial 46 finished with values: [0.6707226291459504, 0.012983203043084202] and parameters: {'max_depth': 3, 'eta': 0.21340776097798606, 'subsample': 0.867865320928384, 'colsample_bytree': 0.8208089670277678}.\n",
      "[I 2025-05-16 11:15:22,732] Trial 47 finished with values: [0.6707226291459504, 0.012983203043084202] and parameters: {'max_depth': 4, 'eta': 0.14788936496061553, 'subsample': 0.9749936909993338, 'colsample_bytree': 0.6452819389910519}.\n",
      "[I 2025-05-16 11:15:22,884] Trial 48 finished with values: [0.6707226291459504, 0.012983203043084202] and parameters: {'max_depth': 4, 'eta': 0.027654964345935534, 'subsample': 0.9495326839065883, 'colsample_bytree': 0.6877790153717703}.\n",
      "[I 2025-05-16 11:15:22,991] Trial 49 finished with values: [0.6707226291459504, 0.012983203043084202] and parameters: {'max_depth': 3, 'eta': 0.27337382728883947, 'subsample': 0.8032989449836275, 'colsample_bytree': 0.9792300896609042}.\n",
      "[I 2025-05-16 11:15:23,004] A new study created in memory with name: no-name-6ffb9b83-2ac9-48f6-a767-395c46aa3573\n",
      "[I 2025-05-16 11:15:23,122] Trial 0 finished with values: [0.6614450744869544, 0.02291787130776572] and parameters: {'max_depth': 7, 'eta': 0.2947604598818945, 'subsample': 0.6574722475413626, 'colsample_bytree': 0.7695300024034816}.\n"
     ]
    },
    {
     "name": "stdout",
     "output_type": "stream",
     "text": [
      "Completed study for alpha=0.0225830078125\n",
      "17\n"
     ]
    },
    {
     "name": "stderr",
     "output_type": "stream",
     "text": [
      "[I 2025-05-16 11:15:23,241] Trial 1 finished with values: [0.6707226291459504, 0.012983203043084202] and parameters: {'max_depth': 7, 'eta': 0.26493210621786506, 'subsample': 0.8220845479509138, 'colsample_bytree': 0.9059791247031806}.\n",
      "[I 2025-05-16 11:15:23,351] Trial 2 finished with values: [0.6692950773971994, 0.023306651601310773] and parameters: {'max_depth': 3, 'eta': 0.2839036161217448, 'subsample': 0.8557522281165948, 'colsample_bytree': 0.6930116995660955}.\n",
      "[I 2025-05-16 11:15:23,478] Trial 3 finished with values: [0.6728685518927314, 0.008640771281297588] and parameters: {'max_depth': 4, 'eta': 0.2841261038463769, 'subsample': 0.8416726076955714, 'colsample_bytree': 0.949932878197986}.\n",
      "[I 2025-05-16 11:15:23,608] Trial 4 finished with values: [0.6707226291459504, 0.012983203043084202] and parameters: {'max_depth': 7, 'eta': 0.11422532923241686, 'subsample': 0.8253333269928612, 'colsample_bytree': 0.9428262896039241}.\n",
      "[I 2025-05-16 11:15:23,726] Trial 5 finished with values: [0.6707226291459504, 0.012983203043084202] and parameters: {'max_depth': 4, 'eta': 0.13025542399354842, 'subsample': 0.708239357006148, 'colsample_bytree': 0.9336606754262343}.\n",
      "[I 2025-05-16 11:15:23,850] Trial 6 finished with values: [0.6707226291459504, 0.012983203043084202] and parameters: {'max_depth': 3, 'eta': 0.15011367107181317, 'subsample': 0.8396277701853634, 'colsample_bytree': 0.9489221517330926}.\n",
      "[I 2025-05-16 11:15:23,985] Trial 7 finished with values: [0.6707226291459504, 0.012983203043084202] and parameters: {'max_depth': 3, 'eta': 0.05874981288053282, 'subsample': 0.781521767531947, 'colsample_bytree': 0.7175692575521702}.\n",
      "[I 2025-05-16 11:15:24,128] Trial 8 finished with values: [0.6642986462765713, 0.015622554976171868] and parameters: {'max_depth': 5, 'eta': 0.2722330644394484, 'subsample': 0.9255849234956925, 'colsample_bytree': 0.8830204080006256}.\n",
      "[I 2025-05-16 11:15:24,276] Trial 9 finished with values: [0.6700088532715748, 0.02497361071694511] and parameters: {'max_depth': 3, 'eta': 0.2727602866748775, 'subsample': 0.9835473710316394, 'colsample_bytree': 0.746466079942816}.\n",
      "[I 2025-05-16 11:15:24,388] Trial 10 finished with values: [0.5779103215667534, 0.0173850546144214] and parameters: {'max_depth': 3, 'eta': 0.1966705164423708, 'subsample': 0.6010145134855093, 'colsample_bytree': 0.886941846036359}.\n",
      "[I 2025-05-16 11:15:24,519] Trial 11 finished with values: [0.6707226291459504, 0.012983203043084202] and parameters: {'max_depth': 7, 'eta': 0.11484956656794736, 'subsample': 0.9115410056116133, 'colsample_bytree': 0.8678950509577867}.\n",
      "[I 2025-05-16 11:15:24,682] Trial 12 finished with values: [0.6707226291459504, 0.012983203043084202] and parameters: {'max_depth': 5, 'eta': 0.25286273945093946, 'subsample': 0.9645614258294927, 'colsample_bytree': 0.6095487103339677}.\n",
      "[I 2025-05-16 11:15:24,869] Trial 13 finished with values: [0.6700119166873447, 0.020084711813674678] and parameters: {'max_depth': 4, 'eta': 0.2528016373316343, 'subsample': 0.6652678864197726, 'colsample_bytree': 0.9424079762856907}.\n",
      "[I 2025-05-16 11:15:25,007] Trial 14 finished with values: [0.6721532443104711, 0.010777523418049736] and parameters: {'max_depth': 5, 'eta': 0.2593708703998598, 'subsample': 0.6804490980769183, 'colsample_bytree': 0.9821318679224366}.\n",
      "[I 2025-05-16 11:15:25,134] Trial 15 finished with values: [0.6707226291459504, 0.012983203043084202] and parameters: {'max_depth': 4, 'eta': 0.05214311603709558, 'subsample': 0.8268388640728928, 'colsample_bytree': 0.9825278300548248}.\n",
      "[I 2025-05-16 11:15:25,306] Trial 16 finished with values: [0.6707226291459504, 0.012983203043084202] and parameters: {'max_depth': 6, 'eta': 0.19808876902791794, 'subsample': 0.9995896786391258, 'colsample_bytree': 0.60293693205825}.\n",
      "[I 2025-05-16 11:15:25,427] Trial 17 finished with values: [0.6714379367282106, 0.012914275554801865] and parameters: {'max_depth': 5, 'eta': 0.18409070320507792, 'subsample': 0.6485235984644343, 'colsample_bytree': 0.9045713150496278}.\n",
      "[I 2025-05-16 11:15:25,566] Trial 18 finished with values: [0.6707226291459504, 0.012983203043084202] and parameters: {'max_depth': 6, 'eta': 0.11696312876147537, 'subsample': 0.7905555304000906, 'colsample_bytree': 0.6904173958509477}.\n",
      "[I 2025-05-16 11:15:25,670] Trial 19 finished with values: [0.6707226291459504, 0.012983203043084202] and parameters: {'max_depth': 7, 'eta': 0.23265009742566323, 'subsample': 0.7865908864447784, 'colsample_bytree': 0.7299582864658654}.\n",
      "[I 2025-05-16 11:15:25,769] Trial 20 finished with values: [0.6707226291459504, 0.012983203043084202] and parameters: {'max_depth': 6, 'eta': 0.19274190460274349, 'subsample': 0.7358151196179071, 'colsample_bytree': 0.8242898473352085}.\n",
      "[I 2025-05-16 11:15:25,890] Trial 21 finished with values: [0.6707226291459504, 0.012983203043084202] and parameters: {'max_depth': 4, 'eta': 0.09363711746139915, 'subsample': 0.9465222876570508, 'colsample_bytree': 0.8413909930111189}.\n",
      "[I 2025-05-16 11:15:26,114] Trial 22 finished with values: [0.6707226291459504, 0.012983203043084202] and parameters: {'max_depth': 7, 'eta': 0.2058437991136135, 'subsample': 0.9727226663638054, 'colsample_bytree': 0.736097402641714}.\n",
      "[I 2025-05-16 11:15:26,227] Trial 23 finished with values: [0.6707226291459504, 0.012983203043084202] and parameters: {'max_depth': 6, 'eta': 0.150455095575801, 'subsample': 0.8568486304919641, 'colsample_bytree': 0.8017478862237725}.\n",
      "[I 2025-05-16 11:15:26,332] Trial 24 finished with values: [0.6707226291459504, 0.012983203043084202] and parameters: {'max_depth': 7, 'eta': 0.11436295395179957, 'subsample': 0.933278889042002, 'colsample_bytree': 0.9684202444340652}.\n",
      "[I 2025-05-16 11:15:26,445] Trial 25 finished with values: [0.6657261980253222, 0.016923952882237265] and parameters: {'max_depth': 3, 'eta': 0.2985117633428955, 'subsample': 0.8772793616901644, 'colsample_bytree': 0.8975079670449925}.\n",
      "[I 2025-05-16 11:15:26,558] Trial 26 finished with values: [0.6707226291459504, 0.012983203043084202] and parameters: {'max_depth': 3, 'eta': 0.13161085576029305, 'subsample': 0.9947400849534344, 'colsample_bytree': 0.794237535933698}.\n",
      "[I 2025-05-16 11:15:26,741] Trial 27 finished with values: [0.6707226291459504, 0.012983203043084202] and parameters: {'max_depth': 7, 'eta': 0.13600841100835284, 'subsample': 0.9140375164978203, 'colsample_bytree': 0.6674260404699888}.\n",
      "[I 2025-05-16 11:15:26,840] Trial 28 finished with values: [0.6707226291459504, 0.012983203043084202] and parameters: {'max_depth': 5, 'eta': 0.15194172382587276, 'subsample': 0.6571129545635934, 'colsample_bytree': 0.7503349819538383}.\n",
      "[I 2025-05-16 11:15:26,934] Trial 29 finished with values: [0.6707226291459504, 0.012983203043084202] and parameters: {'max_depth': 5, 'eta': 0.14718910170464797, 'subsample': 0.8766305944036692, 'colsample_bytree': 0.9993873476003915}.\n",
      "[I 2025-05-16 11:15:27,034] Trial 30 finished with values: [0.6707226291459504, 0.012983203043084202] and parameters: {'max_depth': 5, 'eta': 0.10000554127004041, 'subsample': 0.7531312710032426, 'colsample_bytree': 0.9665368189576605}.\n",
      "[I 2025-05-16 11:15:27,133] Trial 31 finished with values: [0.6707226291459504, 0.012983203043084202] and parameters: {'max_depth': 6, 'eta': 0.21502897710338365, 'subsample': 0.9366058053487221, 'colsample_bytree': 0.7121666310067152}.\n",
      "[I 2025-05-16 11:15:27,251] Trial 32 finished with values: [0.6707226291459504, 0.012983203043084202] and parameters: {'max_depth': 3, 'eta': 0.21254127785306148, 'subsample': 0.8849142990871364, 'colsample_bytree': 0.9612437960888549}.\n",
      "[I 2025-05-16 11:15:27,403] Trial 33 finished with values: [0.6707226291459504, 0.012983203043084202] and parameters: {'max_depth': 5, 'eta': 0.028534382393622312, 'subsample': 0.7947567722982087, 'colsample_bytree': 0.8640609260558245}.\n",
      "[I 2025-05-16 11:15:27,507] Trial 34 finished with values: [0.6714379367282106, 0.012914275554801865] and parameters: {'max_depth': 6, 'eta': 0.20055280563071579, 'subsample': 0.6503645355421301, 'colsample_bytree': 0.8587717994098314}.\n",
      "[I 2025-05-16 11:15:27,653] Trial 35 finished with values: [0.6707226291459504, 0.012983203043084202] and parameters: {'max_depth': 5, 'eta': 0.021549856436534662, 'subsample': 0.6759103887582234, 'colsample_bytree': 0.6241415417438713}.\n",
      "[I 2025-05-16 11:15:27,794] Trial 36 finished with values: [0.6707226291459504, 0.012983203043084202] and parameters: {'max_depth': 4, 'eta': 0.08973550061161958, 'subsample': 0.6591373303745464, 'colsample_bytree': 0.6889740747420616}.\n",
      "[I 2025-05-16 11:15:27,888] Trial 37 finished with values: [0.6343185278449176, 0.027946170526360697] and parameters: {'max_depth': 3, 'eta': 0.2921428774264834, 'subsample': 0.6055417967575784, 'colsample_bytree': 0.7891318380568366}.\n",
      "[I 2025-05-16 11:15:27,989] Trial 38 finished with values: [0.6707226291459504, 0.012983203043084202] and parameters: {'max_depth': 3, 'eta': 0.0767601825250639, 'subsample': 0.7447061243403862, 'colsample_bytree': 0.9745395366860422}.\n",
      "[I 2025-05-16 11:15:28,113] Trial 39 finished with values: [0.6707226291459504, 0.012983203043084202] and parameters: {'max_depth': 3, 'eta': 0.044866383692425356, 'subsample': 0.9790363364072979, 'colsample_bytree': 0.6633531549677857}.\n",
      "[I 2025-05-16 11:15:28,235] Trial 40 finished with values: [0.6707226291459504, 0.012983203043084202] and parameters: {'max_depth': 7, 'eta': 0.24461557973125672, 'subsample': 0.7183704135799965, 'colsample_bytree': 0.7101086006089458}.\n",
      "[I 2025-05-16 11:15:28,347] Trial 41 finished with values: [0.6707226291459504, 0.012983203043084202] and parameters: {'max_depth': 7, 'eta': 0.17806427412426343, 'subsample': 0.6951167473028363, 'colsample_bytree': 0.9283269953313311}.\n",
      "[I 2025-05-16 11:15:28,442] Trial 42 finished with values: [0.6707226291459504, 0.012983203043084202] and parameters: {'max_depth': 6, 'eta': 0.20585532105801818, 'subsample': 0.8100397840399489, 'colsample_bytree': 0.6489288135611829}.\n",
      "[I 2025-05-16 11:15:28,542] Trial 43 finished with values: [0.668581301522824, 0.022290391438709145] and parameters: {'max_depth': 7, 'eta': 0.20553308399532483, 'subsample': 0.648311956239393, 'colsample_bytree': 0.9675896205125414}.\n",
      "[I 2025-05-16 11:15:28,636] Trial 44 finished with values: [0.6692950773971994, 0.023306651601310773] and parameters: {'max_depth': 6, 'eta': 0.2857362354322726, 'subsample': 0.8905898599781072, 'colsample_bytree': 0.6690751500485427}.\n",
      "[I 2025-05-16 11:15:28,725] Trial 45 finished with values: [0.6707226291459504, 0.012983203043084202] and parameters: {'max_depth': 6, 'eta': 0.1879516903000921, 'subsample': 0.9985602487113279, 'colsample_bytree': 0.893925858277914}.\n",
      "[I 2025-05-16 11:15:28,831] Trial 46 finished with values: [0.6692966091050844, 0.022221463950426807] and parameters: {'max_depth': 4, 'eta': 0.2979916935219372, 'subsample': 0.6520396541513435, 'colsample_bytree': 0.7693609838775831}.\n",
      "[I 2025-05-16 11:15:28,920] Trial 47 finished with values: [0.6707226291459504, 0.012983203043084202] and parameters: {'max_depth': 3, 'eta': 0.19527496793189797, 'subsample': 0.8965005992137807, 'colsample_bytree': 0.746798818796802}.\n",
      "[I 2025-05-16 11:15:29,008] Trial 48 finished with values: [0.6707226291459504, 0.012983203043084202] and parameters: {'max_depth': 4, 'eta': 0.07015844871306258, 'subsample': 0.8206939312897518, 'colsample_bytree': 0.9560164095560886}.\n",
      "[I 2025-05-16 11:15:29,097] Trial 49 finished with values: [0.6707226291459504, 0.012983203043084202] and parameters: {'max_depth': 6, 'eta': 0.14657349184600613, 'subsample': 0.9886910148754842, 'colsample_bytree': 0.658702052472695}.\n",
      "[I 2025-05-16 11:15:29,108] A new study created in memory with name: no-name-4d3dd28e-8e03-42e3-a1aa-398f15c20377\n",
      "[I 2025-05-16 11:15:29,207] Trial 0 finished with values: [0.6707226291459504, 0.012983203043084202] and parameters: {'max_depth': 5, 'eta': 0.19553515955525552, 'subsample': 0.9848442576838499, 'colsample_bytree': 0.830179231129866}.\n"
     ]
    },
    {
     "name": "stdout",
     "output_type": "stream",
     "text": [
      "Completed study for alpha=0.02252197265625\n",
      "18\n"
     ]
    },
    {
     "name": "stderr",
     "output_type": "stream",
     "text": [
      "[I 2025-05-16 11:15:29,313] Trial 1 finished with values: [0.6657261980253222, 0.016923952882237265] and parameters: {'max_depth': 7, 'eta': 0.2962557453904555, 'subsample': 0.8505436791396601, 'colsample_bytree': 0.9185126430559836}.\n",
      "[I 2025-05-16 11:15:29,423] Trial 2 finished with values: [0.6707226291459504, 0.012983203043084202] and parameters: {'max_depth': 4, 'eta': 0.05675002143412593, 'subsample': 0.8794169283264468, 'colsample_bytree': 0.851588780909592}.\n",
      "[I 2025-05-16 11:15:29,543] Trial 3 finished with values: [0.6707226291459504, 0.012983203043084202] and parameters: {'max_depth': 7, 'eta': 0.05391397292806195, 'subsample': 0.9397143497197321, 'colsample_bytree': 0.660788860795329}.\n",
      "[I 2025-05-16 11:15:29,653] Trial 4 finished with values: [0.6692966091050844, 0.022221463950426807] and parameters: {'max_depth': 6, 'eta': 0.28499925848496943, 'subsample': 0.6676799485288464, 'colsample_bytree': 0.6757276737239967}.\n",
      "[I 2025-05-16 11:15:29,754] Trial 5 finished with values: [0.6707226291459504, 0.012983203043084202] and parameters: {'max_depth': 4, 'eta': 0.13083179180802068, 'subsample': 0.9408156650527055, 'colsample_bytree': 0.9706797886791734}.\n",
      "[I 2025-05-16 11:15:29,864] Trial 6 finished with values: [0.6707226291459504, 0.012983203043084202] and parameters: {'max_depth': 5, 'eta': 0.2606230182266406, 'subsample': 0.8182356888637293, 'colsample_bytree': 0.85156839988647}.\n",
      "[I 2025-05-16 11:15:29,977] Trial 7 finished with values: [0.6707226291459504, 0.012983203043084202] and parameters: {'max_depth': 4, 'eta': 0.1551510503179511, 'subsample': 0.9054359586801071, 'colsample_bytree': 0.9580789783750097}.\n",
      "[I 2025-05-16 11:15:30,082] Trial 8 finished with values: [0.6707226291459504, 0.012983203043084202] and parameters: {'max_depth': 6, 'eta': 0.19350168179706348, 'subsample': 0.8375335223679954, 'colsample_bytree': 0.976563806732491}.\n",
      "[I 2025-05-16 11:15:30,191] Trial 9 finished with values: [0.6700088532715748, 0.02497361071694511] and parameters: {'max_depth': 7, 'eta': 0.2869524366668342, 'subsample': 0.9809741354650907, 'colsample_bytree': 0.7385958618943422}.\n",
      "[I 2025-05-16 11:15:30,328] Trial 10 finished with values: [0.6707226291459504, 0.012983203043084202] and parameters: {'max_depth': 4, 'eta': 0.21944618076251557, 'subsample': 0.7246716642462032, 'colsample_bytree': 0.6699476652112796}.\n",
      "[I 2025-05-16 11:15:30,476] Trial 11 finished with values: [0.6707226291459504, 0.012983203043084202] and parameters: {'max_depth': 7, 'eta': 0.024800762305718087, 'subsample': 0.6888426617549918, 'colsample_bytree': 0.6566564072717042}.\n",
      "[I 2025-05-16 11:15:30,592] Trial 12 finished with values: [0.6707226291459504, 0.012983203043084202] and parameters: {'max_depth': 3, 'eta': 0.15789063312892973, 'subsample': 0.9735297696066313, 'colsample_bytree': 0.7241289032658553}.\n",
      "[I 2025-05-16 11:15:30,726] Trial 13 finished with values: [0.6707226291459504, 0.012983203043084202] and parameters: {'max_depth': 6, 'eta': 0.04450137608914269, 'subsample': 0.6808880785800996, 'colsample_bytree': 0.7222450368534589}.\n",
      "[I 2025-05-16 11:15:30,832] Trial 14 finished with values: [0.6707226291459504, 0.012983203043084202] and parameters: {'max_depth': 6, 'eta': 0.21079908150259305, 'subsample': 0.7119796960113207, 'colsample_bytree': 0.6587937839229537}.\n",
      "[I 2025-05-16 11:15:31,003] Trial 15 finished with values: [0.6707226291459504, 0.012983203043084202] and parameters: {'max_depth': 7, 'eta': 0.02756323583044608, 'subsample': 0.8560995911897478, 'colsample_bytree': 0.7459578607706419}.\n",
      "[I 2025-05-16 11:15:31,248] Trial 16 finished with values: [0.6707226291459504, 0.012983203043084202] and parameters: {'max_depth': 5, 'eta': 0.08502381277942979, 'subsample': 0.9651363694296629, 'colsample_bytree': 0.8258913491756401}.\n",
      "[I 2025-05-16 11:15:31,373] Trial 17 finished with values: [0.6642986462765713, 0.015622554976171868] and parameters: {'max_depth': 3, 'eta': 0.2900180028094803, 'subsample': 0.9691553531656596, 'colsample_bytree': 0.6463489079336866}.\n",
      "[I 2025-05-16 11:15:31,478] Trial 18 finished with values: [0.6707226291459504, 0.012983203043084202] and parameters: {'max_depth': 3, 'eta': 0.2839361786676, 'subsample': 0.8647755258482113, 'colsample_bytree': 0.9981754871751889}.\n",
      "[I 2025-05-16 11:15:31,575] Trial 19 finished with values: [0.6707226291459504, 0.012983203043084202] and parameters: {'max_depth': 6, 'eta': 0.2077055067281329, 'subsample': 0.9832774272577269, 'colsample_bytree': 0.6568100580052216}.\n",
      "[I 2025-05-16 11:15:31,696] Trial 20 finished with values: [0.6707226291459504, 0.012983203043084202] and parameters: {'max_depth': 4, 'eta': 0.11604891468677639, 'subsample': 0.8598833725379779, 'colsample_bytree': 0.9955384324866268}.\n",
      "[I 2025-05-16 11:15:31,805] Trial 21 finished with values: [0.6707226291459504, 0.012983203043084202] and parameters: {'max_depth': 4, 'eta': 0.1511770455041557, 'subsample': 0.7223896968227262, 'colsample_bytree': 0.6917010828053634}.\n",
      "[I 2025-05-16 11:15:31,940] Trial 22 finished with values: [0.6707226291459504, 0.012983203043084202] and parameters: {'max_depth': 7, 'eta': 0.21205686544341415, 'subsample': 0.7809697075633094, 'colsample_bytree': 0.8888598054926309}.\n",
      "[I 2025-05-16 11:15:32,139] Trial 23 finished with values: [0.6707226291459504, 0.012983203043084202] and parameters: {'max_depth': 4, 'eta': 0.04159137255654888, 'subsample': 0.9066221825698156, 'colsample_bytree': 0.8643678229523742}.\n",
      "[I 2025-05-16 11:15:32,254] Trial 24 finished with values: [0.6707226291459504, 0.012983203043084202] and parameters: {'max_depth': 7, 'eta': 0.11751135085227182, 'subsample': 0.7579371460280272, 'colsample_bytree': 0.9243438491619677}.\n",
      "[I 2025-05-16 11:15:32,383] Trial 25 finished with values: [0.6707226291459504, 0.012983203043084202] and parameters: {'max_depth': 5, 'eta': 0.17207395303785916, 'subsample': 0.8275916616483847, 'colsample_bytree': 0.9340315483615561}.\n",
      "[I 2025-05-16 11:15:32,541] Trial 26 finished with values: [0.6707226291459504, 0.012983203043084202] and parameters: {'max_depth': 6, 'eta': 0.047505598803750125, 'subsample': 0.7048159786025622, 'colsample_bytree': 0.6447080286899292}.\n",
      "[I 2025-05-16 11:15:32,687] Trial 27 finished with values: [0.6707226291459504, 0.012983203043084202] and parameters: {'max_depth': 5, 'eta': 0.05517124337883358, 'subsample': 0.8722404617598394, 'colsample_bytree': 0.71414507831542}.\n",
      "[I 2025-05-16 11:15:32,787] Trial 28 finished with values: [0.6707226291459504, 0.012983203043084202] and parameters: {'max_depth': 6, 'eta': 0.1947807226268497, 'subsample': 0.7389654603261884, 'colsample_bytree': 0.9120535626743831}.\n",
      "[I 2025-05-16 11:15:32,884] Trial 29 finished with values: [0.6707226291459504, 0.012983203043084202] and parameters: {'max_depth': 7, 'eta': 0.2166377494285768, 'subsample': 0.7154194092939848, 'colsample_bytree': 0.8168191250423118}.\n",
      "[I 2025-05-16 11:15:32,984] Trial 30 finished with values: [0.6707226291459504, 0.012983203043084202] and parameters: {'max_depth': 5, 'eta': 0.19068983355234073, 'subsample': 0.8822467549189321, 'colsample_bytree': 0.7737379230823206}.\n",
      "[I 2025-05-16 11:15:33,082] Trial 31 finished with values: [0.6707226291459504, 0.012983203043084202] and parameters: {'max_depth': 6, 'eta': 0.2514068584137959, 'subsample': 0.7709001028917377, 'colsample_bytree': 0.9761191257764574}.\n",
      "[I 2025-05-16 11:15:33,198] Trial 32 finished with values: [0.6557333357840659, 0.026262619885250804] and parameters: {'max_depth': 3, 'eta': 0.21468749494634431, 'subsample': 0.634942409782221, 'colsample_bytree': 0.6062318531999483}.\n",
      "[I 2025-05-16 11:15:33,321] Trial 33 finished with values: [0.5522235803365468, 0.013385718224427903] and parameters: {'max_depth': 4, 'eta': 0.041944408789732796, 'subsample': 0.611598086435661, 'colsample_bytree': 0.7472988239355381}.\n",
      "[I 2025-05-16 11:15:33,424] Trial 34 finished with values: [0.6714379367282106, 0.012914275554801865] and parameters: {'max_depth': 5, 'eta': 0.20300129549240584, 'subsample': 0.6567344604285907, 'colsample_bytree': 0.6997485573761497}.\n",
      "[I 2025-05-16 11:15:33,526] Trial 35 finished with values: [0.6707226291459504, 0.012983203043084202] and parameters: {'max_depth': 7, 'eta': 0.059680303686439035, 'subsample': 0.9027754470276856, 'colsample_bytree': 0.8470098685173947}.\n",
      "[I 2025-05-16 11:15:33,616] Trial 36 finished with values: [0.6628726262357053, 0.023715187396091113] and parameters: {'max_depth': 5, 'eta': 0.25410113826927794, 'subsample': 0.6306063729390675, 'colsample_bytree': 0.6108320888832975}.\n",
      "[I 2025-05-16 11:15:33,730] Trial 37 finished with values: [0.6707226291459504, 0.012983203043084202] and parameters: {'max_depth': 5, 'eta': 0.05574647921887361, 'subsample': 0.7818516249503349, 'colsample_bytree': 0.6319552292030477}.\n",
      "[I 2025-05-16 11:15:33,834] Trial 38 finished with values: [0.6707226291459504, 0.012983203043084202] and parameters: {'max_depth': 4, 'eta': 0.14309483399395093, 'subsample': 0.8879455012207051, 'colsample_bytree': 0.9190427112575983}.\n",
      "[I 2025-05-16 11:15:33,942] Trial 39 finished with values: [0.6707226291459504, 0.012983203043084202] and parameters: {'max_depth': 5, 'eta': 0.13348225548641715, 'subsample': 0.9351174780802942, 'colsample_bytree': 0.8210030538332852}.\n",
      "[I 2025-05-16 11:15:34,031] Trial 40 finished with values: [0.6707226291459504, 0.012983203043084202] and parameters: {'max_depth': 5, 'eta': 0.24053346757751376, 'subsample': 0.7001885033934855, 'colsample_bytree': 0.6500495346098362}.\n",
      "[I 2025-05-16 11:15:34,121] Trial 41 finished with values: [0.6707226291459504, 0.012983203043084202] and parameters: {'max_depth': 7, 'eta': 0.1594837397666525, 'subsample': 0.738604182475986, 'colsample_bytree': 0.6923552456491869}.\n",
      "[I 2025-05-16 11:15:34,238] Trial 42 finished with values: [0.6707226291459504, 0.012983203043084202] and parameters: {'max_depth': 5, 'eta': 0.04327516570528441, 'subsample': 0.8836736147516941, 'colsample_bytree': 0.7587342191816485}.\n",
      "[I 2025-05-16 11:15:34,412] Trial 43 finished with values: [0.6542935303722356, 0.026021417282898456] and parameters: {'max_depth': 6, 'eta': 0.019575144190455945, 'subsample': 0.6257070165636335, 'colsample_bytree': 0.88094946157494}.\n",
      "[I 2025-05-16 11:15:34,517] Trial 44 finished with values: [0.6721532443104711, 0.010777523418049736] and parameters: {'max_depth': 5, 'eta': 0.24257963338457292, 'subsample': 0.6743270666938336, 'colsample_bytree': 0.7020818619620082}.\n",
      "[I 2025-05-16 11:15:34,612] Trial 45 finished with values: [0.6707226291459504, 0.012983203043084202] and parameters: {'max_depth': 4, 'eta': 0.20342735512362184, 'subsample': 0.7679613322986734, 'colsample_bytree': 0.7750758735178843}.\n",
      "[I 2025-05-16 11:15:34,707] Trial 46 finished with values: [0.6707226291459504, 0.012983203043084202] and parameters: {'max_depth': 6, 'eta': 0.15260509815372683, 'subsample': 0.6614175690095132, 'colsample_bytree': 0.9357044935211741}.\n",
      "[I 2025-05-16 11:15:34,877] Trial 47 finished with values: [0.6707226291459504, 0.012983203043084202] and parameters: {'max_depth': 3, 'eta': 0.015401171158015474, 'subsample': 0.8016808098649059, 'colsample_bytree': 0.8033795454992169}.\n",
      "[I 2025-05-16 11:15:34,974] Trial 48 finished with values: [0.6707226291459504, 0.012983203043084202] and parameters: {'max_depth': 5, 'eta': 0.13325826294780907, 'subsample': 0.7546639606722426, 'colsample_bytree': 0.6598919598770668}.\n",
      "[I 2025-05-16 11:15:35,064] Trial 49 finished with values: [0.6692950773971994, 0.023306651601310773] and parameters: {'max_depth': 5, 'eta': 0.2782667156838753, 'subsample': 0.8962667258685795, 'colsample_bytree': 0.8442729853771471}.\n",
      "[I 2025-05-16 11:15:35,075] A new study created in memory with name: no-name-1ea86044-7c9e-4ff1-b78c-c49009dead51\n",
      "[I 2025-05-16 11:15:35,189] Trial 0 finished with values: [0.6707226291459504, 0.012983203043084202] and parameters: {'max_depth': 7, 'eta': 0.05543715187081163, 'subsample': 0.6809525536380102, 'colsample_bytree': 0.7798620954562018}.\n"
     ]
    },
    {
     "name": "stdout",
     "output_type": "stream",
     "text": [
      "Completed study for alpha=0.022491455078125\n",
      "19\n"
     ]
    },
    {
     "name": "stderr",
     "output_type": "stream",
     "text": [
      "[I 2025-05-16 11:15:35,284] Trial 1 finished with values: [0.6707226291459504, 0.012983203043084202] and parameters: {'max_depth': 4, 'eta': 0.23403115822266618, 'subsample': 0.7981434372239434, 'colsample_bytree': 0.8778856782504978}.\n",
      "[I 2025-05-16 11:15:35,405] Trial 2 finished with values: [0.6707226291459504, 0.012983203043084202] and parameters: {'max_depth': 3, 'eta': 0.15653418706676264, 'subsample': 0.7115916132762418, 'colsample_bytree': 0.8443908848876551}.\n",
      "[I 2025-05-16 11:15:35,544] Trial 3 finished with values: [0.6707226291459504, 0.012983203043084202] and parameters: {'max_depth': 5, 'eta': 0.03432410931468004, 'subsample': 0.9225001339521833, 'colsample_bytree': 0.923817762955518}.\n",
      "[I 2025-05-16 11:15:35,646] Trial 4 finished with values: [0.6707226291459504, 0.012983203043084202] and parameters: {'max_depth': 5, 'eta': 0.16109160570667802, 'subsample': 0.7853296256998328, 'colsample_bytree': 0.7854917304418363}.\n",
      "[I 2025-05-16 11:15:35,754] Trial 5 finished with values: [0.6707226291459504, 0.012983203043084202] and parameters: {'max_depth': 3, 'eta': 0.11316009229812472, 'subsample': 0.8993129823871973, 'colsample_bytree': 0.8281728901625844}.\n",
      "[I 2025-05-16 11:15:35,850] Trial 6 finished with values: [0.6707226291459504, 0.012983203043084202] and parameters: {'max_depth': 6, 'eta': 0.12431414778431611, 'subsample': 0.7863352475098195, 'colsample_bytree': 0.6708274530257613}.\n",
      "[I 2025-05-16 11:15:36,045] Trial 7 finished with values: [0.6707226291459504, 0.012983203043084202] and parameters: {'max_depth': 6, 'eta': 0.017034721398577868, 'subsample': 0.9060575054926847, 'colsample_bytree': 0.649170339873167}.\n",
      "[I 2025-05-16 11:15:36,134] Trial 8 finished with values: [0.6707226291459504, 0.012983203043084202] and parameters: {'max_depth': 4, 'eta': 0.1582200814436778, 'subsample': 0.888238680052851, 'colsample_bytree': 0.881890727691134}.\n",
      "[I 2025-05-16 11:15:36,252] Trial 9 finished with values: [0.6707226291459504, 0.012983203043084202] and parameters: {'max_depth': 4, 'eta': 0.12313571413193532, 'subsample': 0.9250131358930567, 'colsample_bytree': 0.8662052269851284}.\n",
      "[I 2025-05-16 11:15:36,370] Trial 10 finished with values: [0.6707226291459504, 0.012983203043084202] and parameters: {'max_depth': 4, 'eta': 0.1540532165659646, 'subsample': 0.8964360479754355, 'colsample_bytree': 0.8443348020900169}.\n",
      "[I 2025-05-16 11:15:36,516] Trial 11 finished with values: [0.6707226291459504, 0.012983203043084202] and parameters: {'max_depth': 6, 'eta': 0.053425419326047094, 'subsample': 0.6356493933207861, 'colsample_bytree': 0.9060816997591612}.\n",
      "[I 2025-05-16 11:15:36,631] Trial 12 finished with values: [0.6657292614410921, 0.015529819142445814] and parameters: {'max_depth': 5, 'eta': 0.25109044111012624, 'subsample': 0.7226355637550985, 'colsample_bytree': 0.9067297331179114}.\n",
      "[I 2025-05-16 11:15:36,765] Trial 13 finished with values: [0.6707226291459504, 0.012983203043084202] and parameters: {'max_depth': 5, 'eta': 0.08168143179899547, 'subsample': 0.9179498377544293, 'colsample_bytree': 0.9319663913030168}.\n",
      "[I 2025-05-16 11:15:36,908] Trial 14 finished with values: [0.6728685518927314, 0.008640771281297588] and parameters: {'max_depth': 4, 'eta': 0.2682236581164927, 'subsample': 0.7536044594235819, 'colsample_bytree': 0.8824986558307533}.\n",
      "[I 2025-05-16 11:15:37,032] Trial 15 finished with values: [0.6521644564121887, 0.020083827078696565] and parameters: {'max_depth': 6, 'eta': 0.09273603161969271, 'subsample': 0.6312268556691939, 'colsample_bytree': 0.8759084751914745}.\n",
      "[I 2025-05-16 11:15:37,145] Trial 16 finished with values: [0.6707226291459504, 0.012983203043084202] and parameters: {'max_depth': 3, 'eta': 0.12538933831629562, 'subsample': 0.8079058805356285, 'colsample_bytree': 0.6088202351685766}.\n",
      "[I 2025-05-16 11:15:37,289] Trial 17 finished with values: [0.6707226291459504, 0.012983203043084202] and parameters: {'max_depth': 3, 'eta': 0.09217882279056139, 'subsample': 0.8242749978427705, 'colsample_bytree': 0.6935360742693176}.\n",
      "[I 2025-05-16 11:15:37,451] Trial 18 finished with values: [0.6707226291459504, 0.012983203043084202] and parameters: {'max_depth': 6, 'eta': 0.04648216631124974, 'subsample': 0.6453031969014063, 'colsample_bytree': 0.9172895370170319}.\n",
      "[I 2025-05-16 11:15:37,601] Trial 19 finished with values: [0.6707226291459504, 0.012983203043084202] and parameters: {'max_depth': 7, 'eta': 0.04435680448465021, 'subsample': 0.7916700168031743, 'colsample_bytree': 0.9971343901911544}.\n",
      "[I 2025-05-16 11:15:37,717] Trial 20 finished with values: [0.6707226291459504, 0.012983203043084202] and parameters: {'max_depth': 3, 'eta': 0.17602271876077136, 'subsample': 0.7746619503301405, 'colsample_bytree': 0.8264472697440582}.\n",
      "[I 2025-05-16 11:15:37,855] Trial 21 finished with values: [0.6707226291459504, 0.012983203043084202] and parameters: {'max_depth': 5, 'eta': 0.0379578248455559, 'subsample': 0.8820343581359928, 'colsample_bytree': 0.6932104081129287}.\n",
      "[I 2025-05-16 11:15:37,985] Trial 22 finished with values: [0.6692950773971994, 0.023306651601310773] and parameters: {'max_depth': 3, 'eta': 0.2735788404844871, 'subsample': 0.9070148623576118, 'colsample_bytree': 0.6835211377903254}.\n",
      "[I 2025-05-16 11:15:38,118] Trial 23 finished with values: [0.6707226291459504, 0.012983203043084202] and parameters: {'max_depth': 6, 'eta': 0.048331291319841645, 'subsample': 0.8634220396638033, 'colsample_bytree': 0.7977613591108554}.\n",
      "[I 2025-05-16 11:15:38,211] Trial 24 finished with values: [0.668581301522824, 0.022290391438709145] and parameters: {'max_depth': 5, 'eta': 0.1935178409701813, 'subsample': 0.6456789918640868, 'colsample_bytree': 0.8785130605443148}.\n",
      "[I 2025-05-16 11:15:38,328] Trial 25 finished with values: [0.6642986462765713, 0.015622554976171868] and parameters: {'max_depth': 4, 'eta': 0.267845853681838, 'subsample': 0.9379708580841231, 'colsample_bytree': 0.9364342630662787}.\n",
      "[I 2025-05-16 11:15:38,449] Trial 26 finished with values: [0.6307511801809254, 0.03160300387554938] and parameters: {'max_depth': 7, 'eta': 0.19537665253951772, 'subsample': 0.6112489750935856, 'colsample_bytree': 0.9823134846016262}.\n",
      "[I 2025-05-16 11:15:38,562] Trial 27 finished with values: [0.6707226291459504, 0.012983203043084202] and parameters: {'max_depth': 5, 'eta': 0.12622037190195853, 'subsample': 0.8698161183450273, 'colsample_bytree': 0.8549707720165449}.\n",
      "[I 2025-05-16 11:15:38,667] Trial 28 finished with values: [0.6707226291459504, 0.012983203043084202] and parameters: {'max_depth': 5, 'eta': 0.182085667559014, 'subsample': 0.6589319745491841, 'colsample_bytree': 0.6363370896101755}.\n",
      "[I 2025-05-16 11:15:38,766] Trial 29 finished with values: [0.6707226291459504, 0.012983203043084202] and parameters: {'max_depth': 5, 'eta': 0.19933137030718365, 'subsample': 0.9407770857634318, 'colsample_bytree': 0.7071716945047912}.\n",
      "[I 2025-05-16 11:15:38,865] Trial 30 finished with values: [0.6707226291459504, 0.012983203043084202] and parameters: {'max_depth': 6, 'eta': 0.09158197985944523, 'subsample': 0.727161650798994, 'colsample_bytree': 0.7357807435683572}.\n",
      "[I 2025-05-16 11:15:38,953] Trial 31 finished with values: [0.6707226291459504, 0.012983203043084202] and parameters: {'max_depth': 3, 'eta': 0.15504206902894566, 'subsample': 0.9949311228991309, 'colsample_bytree': 0.6203605131544423}.\n",
      "[I 2025-05-16 11:15:39,090] Trial 32 finished with values: [0.6707226291459504, 0.012983203043084202] and parameters: {'max_depth': 3, 'eta': 0.020249305553217287, 'subsample': 0.679300188098012, 'colsample_bytree': 0.9261381590397955}.\n",
      "[I 2025-05-16 11:15:39,180] Trial 33 finished with values: [0.6707226291459504, 0.012983203043084202] and parameters: {'max_depth': 5, 'eta': 0.23117330294860652, 'subsample': 0.8781711709447735, 'colsample_bytree': 0.6835829920909395}.\n",
      "[I 2025-05-16 11:15:39,301] Trial 34 finished with values: [0.6707226291459504, 0.012983203043084202] and parameters: {'max_depth': 6, 'eta': 0.03201493175733962, 'subsample': 0.9959548949903865, 'colsample_bytree': 0.9391969534001213}.\n",
      "[I 2025-05-16 11:15:39,476] Trial 35 finished with values: [0.6707226291459504, 0.012983203043084202] and parameters: {'max_depth': 5, 'eta': 0.012153886702795517, 'subsample': 0.6420748329152032, 'colsample_bytree': 0.8296199155096542}.\n",
      "[I 2025-05-16 11:15:39,562] Trial 36 finished with values: [0.6728685518927314, 0.008640771281297588] and parameters: {'max_depth': 3, 'eta': 0.26569420505765756, 'subsample': 0.7478247312315905, 'colsample_bytree': 0.9806442800738443}.\n",
      "[I 2025-05-16 11:15:39,687] Trial 37 finished with values: [0.6707226291459504, 0.012983203043084202] and parameters: {'max_depth': 3, 'eta': 0.05192323321384226, 'subsample': 0.6829765079546726, 'colsample_bytree': 0.7633241740020479}.\n",
      "[I 2025-05-16 11:15:39,911] Trial 38 finished with values: [0.6707226291459504, 0.012983203043084202] and parameters: {'max_depth': 4, 'eta': 0.011282162177794538, 'subsample': 0.9872150555195267, 'colsample_bytree': 0.9787697148646766}.\n",
      "[I 2025-05-16 11:15:40,028] Trial 39 finished with values: [0.6707226291459504, 0.012983203043084202] and parameters: {'max_depth': 3, 'eta': 0.058596844346883566, 'subsample': 0.6830739802027498, 'colsample_bytree': 0.7337241879373134}.\n",
      "[I 2025-05-16 11:15:40,129] Trial 40 finished with values: [0.6707226291459504, 0.012983203043084202] and parameters: {'max_depth': 6, 'eta': 0.15094662483447566, 'subsample': 0.885271003964083, 'colsample_bytree': 0.6825089461158919}.\n",
      "[I 2025-05-16 11:15:40,308] Trial 41 finished with values: [0.6707226291459504, 0.012983203043084202] and parameters: {'max_depth': 7, 'eta': 0.047428666133668515, 'subsample': 0.7210727322633312, 'colsample_bytree': 0.8427058801989841}.\n",
      "[I 2025-05-16 11:15:40,436] Trial 42 finished with values: [0.6707226291459504, 0.012983203043084202] and parameters: {'max_depth': 5, 'eta': 0.06429912376073109, 'subsample': 0.845233747826973, 'colsample_bytree': 0.966702823031649}.\n",
      "[I 2025-05-16 11:15:40,536] Trial 43 finished with values: [0.6707226291459504, 0.012983203043084202] and parameters: {'max_depth': 7, 'eta': 0.26739440771622464, 'subsample': 0.8378728775603959, 'colsample_bytree': 0.7745966929729861}.\n",
      "[I 2025-05-16 11:15:40,671] Trial 44 finished with values: [0.5000061268315397, 0.0] and parameters: {'max_depth': 3, 'eta': 0.01816942933671025, 'subsample': 0.601280741476672, 'colsample_bytree': 0.8175877855209698}.\n",
      "[I 2025-05-16 11:15:40,771] Trial 45 finished with values: [0.6707226291459504, 0.012983203043084202] and parameters: {'max_depth': 5, 'eta': 0.17927993599487446, 'subsample': 0.7286937198186998, 'colsample_bytree': 0.7296899905113867}.\n",
      "[I 2025-05-16 11:15:40,875] Trial 46 finished with values: [0.6728685518927314, 0.008640771281297588] and parameters: {'max_depth': 5, 'eta': 0.2984498084731558, 'subsample': 0.8236326725119791, 'colsample_bytree': 0.7095068279322941}.\n",
      "[I 2025-05-16 11:15:40,985] Trial 47 finished with values: [0.6707226291459504, 0.012983203043084202] and parameters: {'max_depth': 4, 'eta': 0.18506533480110432, 'subsample': 0.6700881619342169, 'colsample_bytree': 0.9987544488617573}.\n",
      "[I 2025-05-16 11:15:41,078] Trial 48 finished with values: [0.6707226291459504, 0.012983203043084202] and parameters: {'max_depth': 7, 'eta': 0.2856897342601197, 'subsample': 0.7309974716191795, 'colsample_bytree': 0.8573831883727598}.\n",
      "[I 2025-05-16 11:15:41,224] Trial 49 finished with values: [0.6707226291459504, 0.012983203043084202] and parameters: {'max_depth': 7, 'eta': 0.03398053706363991, 'subsample': 0.8785437765346482, 'colsample_bytree': 0.6051010955589226}.\n"
     ]
    },
    {
     "name": "stdout",
     "output_type": "stream",
     "text": [
      "Completed study for alpha=0.0224761962890625\n",
      "Pareto-optimal solutions:\n",
      "Params: {'alpha': 0, 'max_depth': 6, 'eta': 0.13110633265877236, 'subsample': 0.8125360197138709, 'colsample_bytree': 0.7772282448273781}, Accuracy: 0.5000, DPD: 0.0000\n",
      "Params: {'alpha': 0.015625, 'max_depth': 5, 'eta': 0.05282487573863137, 'subsample': 0.8688659694886003, 'colsample_bytree': 0.6687411708124102}, Accuracy: 0.5000, DPD: 0.0000\n",
      "Params: {'alpha': 0.01953125, 'max_depth': 5, 'eta': 0.0504980502577411, 'subsample': 0.6485748884994879, 'colsample_bytree': 0.6209503294456052}, Accuracy: 0.5000, DPD: 0.0000\n",
      "Params: {'alpha': 0.021484375, 'max_depth': 3, 'eta': 0.056966858952711155, 'subsample': 0.6032123055973961, 'colsample_bytree': 0.7679043893131532}, Accuracy: 0.5000, DPD: 0.0000\n",
      "Params: {'alpha': 0.02197265625, 'max_depth': 5, 'eta': 0.19607347343993498, 'subsample': 0.6032555369919693, 'colsample_bytree': 0.734748734600021}, Accuracy: 0.5522, DPD: 0.0037\n",
      "Params: {'alpha': 0.0224609375, 'max_depth': 3, 'eta': 0.09475664739659065, 'subsample': 0.6070433885611801, 'colsample_bytree': 0.8029434118668995}, Accuracy: 0.5986, DPD: 0.0067\n",
      "Params: {'alpha': 0.02252197265625, 'max_depth': 4, 'eta': 0.2841261038463769, 'subsample': 0.8416726076955714, 'colsample_bytree': 0.949932878197986}, Accuracy: 0.6729, DPD: 0.0086\n",
      "Params: {'alpha': 0.0225830078125, 'max_depth': 7, 'eta': 0.29923436770457956, 'subsample': 0.7406725528507369, 'colsample_bytree': 0.6233885987504183}, Accuracy: 0.6729, DPD: 0.0086\n",
      "Params: {'alpha': 0.022705078125, 'max_depth': 4, 'eta': 0.2957252306362285, 'subsample': 0.9436943585700321, 'colsample_bytree': 0.7603200372661836}, Accuracy: 0.6729, DPD: 0.0086\n",
      "Params: {'alpha': 0.02294921875, 'max_depth': 7, 'eta': 0.26838342131607035, 'subsample': 0.7429028257945743, 'colsample_bytree': 0.7601679652720598}, Accuracy: 0.6729, DPD: 0.0086\n",
      "Params: {'alpha': 0.0234375, 'max_depth': 6, 'eta': 0.281781090593341, 'subsample': 0.7118015058573265, 'colsample_bytree': 0.7085926525760763}, Accuracy: 0.6729, DPD: 0.0086\n",
      "Params: {'alpha': 0.03125, 'max_depth': 5, 'eta': 0.23760095866089273, 'subsample': 0.6079501323526242, 'colsample_bytree': 0.6128764443498148}, Accuracy: 0.6729, DPD: 0.0086\n",
      "Params: {'alpha': 0.25, 'max_depth': 3, 'eta': 0.22885599586720193, 'subsample': 0.726927920301955, 'colsample_bytree': 0.7047701832166079}, Accuracy: 0.6743, DPD: 0.0182\n",
      "Params: {'alpha': 0.5, 'max_depth': 4, 'eta': 0.19722167976447025, 'subsample': 0.6602519639028233, 'colsample_bytree': 0.6271460252604734}, Accuracy: 0.6786, DPD: 0.0270\n",
      "Params: {'alpha': 0.5625, 'max_depth': 4, 'eta': 0.23664952565400163, 'subsample': 0.6585376909561049, 'colsample_bytree': 0.9292241271920356}, Accuracy: 0.6907, DPD: 0.0434\n",
      "Params: {'alpha': 0.625, 'max_depth': 7, 'eta': 0.2597743415436609, 'subsample': 0.8538105484579193, 'colsample_bytree': 0.6544454101347776}, Accuracy: 0.7071, DPD: 0.0635\n",
      "Params: {'alpha': 0.75, 'max_depth': 7, 'eta': 0.27504226088657985, 'subsample': 0.7887141264334052, 'colsample_bytree': 0.6200452124025014}, Accuracy: 0.7128, DPD: 0.0728\n",
      "Params: {'alpha': 1, 'max_depth': 7, 'eta': 0.27926006398945585, 'subsample': 0.8218636333494963, 'colsample_bytree': 0.8238601358476214}, Accuracy: 0.7214, DPD: 0.1058\n",
      "Params: {'alpha': 0.0224761962890625, 'max_depth': 3, 'eta': 0.01816942933671025, 'subsample': 0.601280741476672, 'colsample_bytree': 0.8175877855209698}, Accuracy: 0.5000, DPD: 0.0000\n"
     ]
    }
   ],
   "source": [
    "\n",
    "# Create and run Optuna study for multi-objective optimization\n",
    "\n",
    "def test_loss(a,dpd,accuracy):\n",
    "    return (1-a)*(1-dpd) + a*accuracy\n",
    "\n",
    "def is_pareto_efficient(acc, dpd):\n",
    "    n_points = len(acc)\n",
    "    is_efficient = [True] * n_points\n",
    "    for i in range(n_points):\n",
    "        for j in range(n_points):\n",
    "            if (acc[j] >= acc[i] and dpd[j] <= dpd[i]) and (acc[j] > acc[i] or dpd[j] < dpd[i]):\n",
    "                is_efficient[i] = False\n",
    "                break\n",
    "    return is_efficient\n",
    "\n",
    "def normalise(value, min_val, max_val):\n",
    "    return (value - min_val) / (max_val - min_val)\n",
    "#adaptive weights based on distance\n",
    "\n",
    "results = []\n",
    "trials_per_alpha = 50\n",
    "study = optuna.create_study(directions=['maximize', 'minimize'])\n",
    "objective = create_objective_function(alpha=0)  # Example alpha value\n",
    "study.optimize(objective, n_trials=trials_per_alpha)\n",
    "print(f\"Completed study for alpha=0\")\n",
    "max_val = 0\n",
    "for trial in study.best_trials:\n",
    "    val = test_loss(alpha,trial.values[1],trial.values[0])\n",
    "    if val > max_val:\n",
    "        max_val = val\n",
    "        best_trial = trial\n",
    "results.append({\n",
    "    'accuracy': best_trial.values[0],\n",
    "    'dpd': best_trial.values[1],\n",
    "    'alpha': 0,\n",
    "    'params': best_trial.user_attrs['params']\n",
    "    })\n",
    "study = optuna.create_study(directions=['maximize', 'minimize'])\n",
    "objective = create_objective_function(alpha=1)  # Example alpha value\n",
    "study.optimize(objective, n_trials=trials_per_alpha)\n",
    "print(f\"Completed study for alpha=1\")\n",
    "max_val = 0\n",
    "for trial in study.best_trials:\n",
    "    val = test_loss(alpha,trial.values[1],trial.values[0])\n",
    "    if val > max_val:\n",
    "        max_val = val\n",
    "        best_trial = trial\n",
    "results.append({\n",
    "    'accuracy': best_trial.values[0],\n",
    "    'dpd': best_trial.values[1],\n",
    "    'alpha': 1,\n",
    "    'params': best_trial.user_attrs['params']\n",
    "})\n",
    "print(results)\n",
    "\n",
    "max_acc = max([res['accuracy'] for res in results])\n",
    "max_dpd = max([res['dpd'] for res in results])\n",
    "min_acc = min([res['accuracy'] for res in results])\n",
    "min_dpd = min([res['dpd'] for res in results])\n",
    "count_alpha = 20\n",
    "\n",
    "\n",
    "\n",
    "for i in range(count_alpha):\n",
    "    print(i)\n",
    "    \n",
    "    results.sort(key=lambda x: x['alpha'])\n",
    "    max_dist = 0\n",
    "    for i in range(len(results)-1):\n",
    "        acc_dist = (normalise(results[i]['accuracy'],min_acc,max_acc)-normalise(results[i+1]['accuracy'],min_acc,max_acc))**2\n",
    "        dpd_dist = (normalise(results[i]['dpd'],min_dpd,max_dpd)-normalise(results[i+1]['dpd'],min_dpd,max_dpd))**2\n",
    "\n",
    "        dist = np.sqrt(acc_dist + dpd_dist)\n",
    "        if dist > max_dist:\n",
    "            max_dist = dist\n",
    "            alpha = (results[i]['alpha']+results[i+1]['alpha'])/2\n",
    "    study = optuna.create_study(directions=['maximize', 'minimize'])\n",
    "    objective = create_objective_function(alpha=alpha)  # Example alpha value\n",
    "    study.optimize(objective, n_trials=trials_per_alpha)\n",
    "    print(f\"Completed study for alpha={alpha}\")\n",
    "    max_val = 0\n",
    "    for trial in study.best_trials:\n",
    "        val = test_loss(alpha,trial.values[1],trial.values[0])\n",
    "        if val > max_val:\n",
    "            max_val = val\n",
    "            best_trial = trial\n",
    "        \n",
    "    results.append({\n",
    "        'accuracy': best_trial.values[0],\n",
    "        'dpd': best_trial.values[1],\n",
    "        'alpha': alpha,\n",
    "        'params': best_trial.user_attrs['params']\n",
    "    })\n",
    "    max_acc = max(max_acc, best_trial.values[0])\n",
    "    max_dpd = max(max_dpd, best_trial.values[1])\n",
    "    min_acc = min(min_acc, best_trial.values[0])\n",
    "    min_dpd = min(min_dpd, best_trial.values[1])\n",
    "acc = [res['accuracy'] for res in results]\n",
    "dpd = [res['dpd'] for res in results]\n",
    "is_efficient = is_pareto_efficient(acc, dpd)\n",
    "# Filter results to only include Pareto-optimal solutions\n",
    "results = [res for res, efficient in zip(results, is_efficient) if efficient]\n",
    "    \n",
    "\n",
    "# Print summary of Pareto-optimal results\n",
    "print(\"Pareto-optimal solutions:\")\n",
    "for res in results:\n",
    "    print(f\"Params: {res['params']}, Accuracy: {res['accuracy']:.4f}, DPD: {res['dpd']:.4f}\")\n",
    "\n",
    "# Prepare data for plotting\n",
    "plot_df = pd.DataFrame({\n",
    "    'DPD': [res['dpd'] for res in results],\n",
    "    'Accuracy': [res['accuracy'] for res in results],\n",
    "    'alpha': [res['alpha'] for res in results]\n",
    "})\n",
    "\n"
   ]
  },
  {
   "cell_type": "code",
   "execution_count": 8,
   "id": "644a8c00",
   "metadata": {},
   "outputs": [
    {
     "data": {
      "application/vnd.plotly.v1+json": {
       "config": {
        "plotlyServerURL": "https://plot.ly"
       },
       "data": [
        {
         "customdata": {
          "bdata": "AAAAAAAAAAAAAAAAAACQPwAAAAAAAJQ/AAAAAAAAlj8AAAAAAICWPwAAAAAAAJc/AAAAAAAQlz8AAAAAACCXPwAAAAAAQJc/AAAAAACAlz8AAAAAAACYPwAAAAAAAKA/AAAAAAAA0D8AAAAAAADgPwAAAAAAAOI/AAAAAAAA5D8AAAAAAADoPwAAAAAAAPA/AAAAAAAElz8=",
          "dtype": "f8",
          "shape": "19, 1"
         },
         "hovertemplate": "DPD=%{x}<br>Accuracy=%{y}<br>alpha=%{marker.color}<extra></extra>",
         "legendgroup": "",
         "marker": {
          "color": {
           "bdata": "AAAAAAAAAAAAAAAAAACQPwAAAAAAAJQ/AAAAAAAAlj8AAAAAAICWPwAAAAAAAJc/AAAAAAAQlz8AAAAAACCXPwAAAAAAQJc/AAAAAACAlz8AAAAAAACYPwAAAAAAAKA/AAAAAAAA0D8AAAAAAADgPwAAAAAAAOI/AAAAAAAA5D8AAAAAAADoPwAAAAAAAPA/AAAAAAAElz8=",
           "dtype": "f8"
          },
          "coloraxis": "coloraxis",
          "line": {
           "width": 0
          },
          "symbol": "circle"
         },
         "mode": "markers",
         "name": "",
         "orientation": "v",
         "showlegend": false,
         "type": "scatter",
         "x": {
          "bdata": "AAAAAAAAAAAAAAAAAAAAAAAAAAAAAAAAAAAAAAAAAAArMivUxn1uP9VhwRVzTXs/wOqFsECygT/A6oWwQLKBP8DqhbBAsoE/wOqFsECygT/A6oWwQLKBP8DqhbBAsoE/8HGPnn+rkj8YNyWnVKabP8gAl6QjM6Y/Iper6B0/sD+Tahr0AqCyPz8fCw1qFrs/AAAAAAAAAAA=",
          "dtype": "f8"
         },
         "xaxis": "x",
         "y": {
          "bdata": "nlBR2QwA4D+eUFHZDADgP55QUdkMAOA/nlBR2QwA4D8TBDTJ0KvhP8k3AQ/jJ+M/bVscoSOI5T9tWxyhI4jlP21bHKEjiOU/bVscoSOI5T9tWxyhI4jlP21bHKEjiOU/sw9zotiT5T8xhM458bblP1EJt61bGuY/8QL7uN6g5j+N11gbqc/mPxXEEqfQFec/nlBR2QwA4D8=",
          "dtype": "f8"
         },
         "yaxis": "y"
        }
       ],
       "layout": {
        "coloraxis": {
         "colorbar": {
          "title": {
           "text": "alpha"
          }
         },
         "colorscale": [
          [
           0,
           "#440154"
          ],
          [
           0.1111111111111111,
           "#482878"
          ],
          [
           0.2222222222222222,
           "#3e4989"
          ],
          [
           0.3333333333333333,
           "#31688e"
          ],
          [
           0.4444444444444444,
           "#26828e"
          ],
          [
           0.5555555555555556,
           "#1f9e89"
          ],
          [
           0.6666666666666666,
           "#35b779"
          ],
          [
           0.7777777777777778,
           "#6ece58"
          ],
          [
           0.8888888888888888,
           "#b5de2b"
          ],
          [
           1,
           "#fde725"
          ]
         ]
        },
        "legend": {
         "tracegroupgap": 0
        },
        "template": {
         "data": {
          "bar": [
           {
            "error_x": {
             "color": "#2a3f5f"
            },
            "error_y": {
             "color": "#2a3f5f"
            },
            "marker": {
             "line": {
              "color": "#E5ECF6",
              "width": 0.5
             },
             "pattern": {
              "fillmode": "overlay",
              "size": 10,
              "solidity": 0.2
             }
            },
            "type": "bar"
           }
          ],
          "barpolar": [
           {
            "marker": {
             "line": {
              "color": "#E5ECF6",
              "width": 0.5
             },
             "pattern": {
              "fillmode": "overlay",
              "size": 10,
              "solidity": 0.2
             }
            },
            "type": "barpolar"
           }
          ],
          "carpet": [
           {
            "aaxis": {
             "endlinecolor": "#2a3f5f",
             "gridcolor": "white",
             "linecolor": "white",
             "minorgridcolor": "white",
             "startlinecolor": "#2a3f5f"
            },
            "baxis": {
             "endlinecolor": "#2a3f5f",
             "gridcolor": "white",
             "linecolor": "white",
             "minorgridcolor": "white",
             "startlinecolor": "#2a3f5f"
            },
            "type": "carpet"
           }
          ],
          "choropleth": [
           {
            "colorbar": {
             "outlinewidth": 0,
             "ticks": ""
            },
            "type": "choropleth"
           }
          ],
          "contour": [
           {
            "colorbar": {
             "outlinewidth": 0,
             "ticks": ""
            },
            "colorscale": [
             [
              0,
              "#0d0887"
             ],
             [
              0.1111111111111111,
              "#46039f"
             ],
             [
              0.2222222222222222,
              "#7201a8"
             ],
             [
              0.3333333333333333,
              "#9c179e"
             ],
             [
              0.4444444444444444,
              "#bd3786"
             ],
             [
              0.5555555555555556,
              "#d8576b"
             ],
             [
              0.6666666666666666,
              "#ed7953"
             ],
             [
              0.7777777777777778,
              "#fb9f3a"
             ],
             [
              0.8888888888888888,
              "#fdca26"
             ],
             [
              1,
              "#f0f921"
             ]
            ],
            "type": "contour"
           }
          ],
          "contourcarpet": [
           {
            "colorbar": {
             "outlinewidth": 0,
             "ticks": ""
            },
            "type": "contourcarpet"
           }
          ],
          "heatmap": [
           {
            "colorbar": {
             "outlinewidth": 0,
             "ticks": ""
            },
            "colorscale": [
             [
              0,
              "#0d0887"
             ],
             [
              0.1111111111111111,
              "#46039f"
             ],
             [
              0.2222222222222222,
              "#7201a8"
             ],
             [
              0.3333333333333333,
              "#9c179e"
             ],
             [
              0.4444444444444444,
              "#bd3786"
             ],
             [
              0.5555555555555556,
              "#d8576b"
             ],
             [
              0.6666666666666666,
              "#ed7953"
             ],
             [
              0.7777777777777778,
              "#fb9f3a"
             ],
             [
              0.8888888888888888,
              "#fdca26"
             ],
             [
              1,
              "#f0f921"
             ]
            ],
            "type": "heatmap"
           }
          ],
          "histogram": [
           {
            "marker": {
             "pattern": {
              "fillmode": "overlay",
              "size": 10,
              "solidity": 0.2
             }
            },
            "type": "histogram"
           }
          ],
          "histogram2d": [
           {
            "colorbar": {
             "outlinewidth": 0,
             "ticks": ""
            },
            "colorscale": [
             [
              0,
              "#0d0887"
             ],
             [
              0.1111111111111111,
              "#46039f"
             ],
             [
              0.2222222222222222,
              "#7201a8"
             ],
             [
              0.3333333333333333,
              "#9c179e"
             ],
             [
              0.4444444444444444,
              "#bd3786"
             ],
             [
              0.5555555555555556,
              "#d8576b"
             ],
             [
              0.6666666666666666,
              "#ed7953"
             ],
             [
              0.7777777777777778,
              "#fb9f3a"
             ],
             [
              0.8888888888888888,
              "#fdca26"
             ],
             [
              1,
              "#f0f921"
             ]
            ],
            "type": "histogram2d"
           }
          ],
          "histogram2dcontour": [
           {
            "colorbar": {
             "outlinewidth": 0,
             "ticks": ""
            },
            "colorscale": [
             [
              0,
              "#0d0887"
             ],
             [
              0.1111111111111111,
              "#46039f"
             ],
             [
              0.2222222222222222,
              "#7201a8"
             ],
             [
              0.3333333333333333,
              "#9c179e"
             ],
             [
              0.4444444444444444,
              "#bd3786"
             ],
             [
              0.5555555555555556,
              "#d8576b"
             ],
             [
              0.6666666666666666,
              "#ed7953"
             ],
             [
              0.7777777777777778,
              "#fb9f3a"
             ],
             [
              0.8888888888888888,
              "#fdca26"
             ],
             [
              1,
              "#f0f921"
             ]
            ],
            "type": "histogram2dcontour"
           }
          ],
          "mesh3d": [
           {
            "colorbar": {
             "outlinewidth": 0,
             "ticks": ""
            },
            "type": "mesh3d"
           }
          ],
          "parcoords": [
           {
            "line": {
             "colorbar": {
              "outlinewidth": 0,
              "ticks": ""
             }
            },
            "type": "parcoords"
           }
          ],
          "pie": [
           {
            "automargin": true,
            "type": "pie"
           }
          ],
          "scatter": [
           {
            "fillpattern": {
             "fillmode": "overlay",
             "size": 10,
             "solidity": 0.2
            },
            "type": "scatter"
           }
          ],
          "scatter3d": [
           {
            "line": {
             "colorbar": {
              "outlinewidth": 0,
              "ticks": ""
             }
            },
            "marker": {
             "colorbar": {
              "outlinewidth": 0,
              "ticks": ""
             }
            },
            "type": "scatter3d"
           }
          ],
          "scattercarpet": [
           {
            "marker": {
             "colorbar": {
              "outlinewidth": 0,
              "ticks": ""
             }
            },
            "type": "scattercarpet"
           }
          ],
          "scattergeo": [
           {
            "marker": {
             "colorbar": {
              "outlinewidth": 0,
              "ticks": ""
             }
            },
            "type": "scattergeo"
           }
          ],
          "scattergl": [
           {
            "marker": {
             "colorbar": {
              "outlinewidth": 0,
              "ticks": ""
             }
            },
            "type": "scattergl"
           }
          ],
          "scattermap": [
           {
            "marker": {
             "colorbar": {
              "outlinewidth": 0,
              "ticks": ""
             }
            },
            "type": "scattermap"
           }
          ],
          "scattermapbox": [
           {
            "marker": {
             "colorbar": {
              "outlinewidth": 0,
              "ticks": ""
             }
            },
            "type": "scattermapbox"
           }
          ],
          "scatterpolar": [
           {
            "marker": {
             "colorbar": {
              "outlinewidth": 0,
              "ticks": ""
             }
            },
            "type": "scatterpolar"
           }
          ],
          "scatterpolargl": [
           {
            "marker": {
             "colorbar": {
              "outlinewidth": 0,
              "ticks": ""
             }
            },
            "type": "scatterpolargl"
           }
          ],
          "scatterternary": [
           {
            "marker": {
             "colorbar": {
              "outlinewidth": 0,
              "ticks": ""
             }
            },
            "type": "scatterternary"
           }
          ],
          "surface": [
           {
            "colorbar": {
             "outlinewidth": 0,
             "ticks": ""
            },
            "colorscale": [
             [
              0,
              "#0d0887"
             ],
             [
              0.1111111111111111,
              "#46039f"
             ],
             [
              0.2222222222222222,
              "#7201a8"
             ],
             [
              0.3333333333333333,
              "#9c179e"
             ],
             [
              0.4444444444444444,
              "#bd3786"
             ],
             [
              0.5555555555555556,
              "#d8576b"
             ],
             [
              0.6666666666666666,
              "#ed7953"
             ],
             [
              0.7777777777777778,
              "#fb9f3a"
             ],
             [
              0.8888888888888888,
              "#fdca26"
             ],
             [
              1,
              "#f0f921"
             ]
            ],
            "type": "surface"
           }
          ],
          "table": [
           {
            "cells": {
             "fill": {
              "color": "#EBF0F8"
             },
             "line": {
              "color": "white"
             }
            },
            "header": {
             "fill": {
              "color": "#C8D4E3"
             },
             "line": {
              "color": "white"
             }
            },
            "type": "table"
           }
          ]
         },
         "layout": {
          "annotationdefaults": {
           "arrowcolor": "#2a3f5f",
           "arrowhead": 0,
           "arrowwidth": 1
          },
          "autotypenumbers": "strict",
          "coloraxis": {
           "colorbar": {
            "outlinewidth": 0,
            "ticks": ""
           }
          },
          "colorscale": {
           "diverging": [
            [
             0,
             "#8e0152"
            ],
            [
             0.1,
             "#c51b7d"
            ],
            [
             0.2,
             "#de77ae"
            ],
            [
             0.3,
             "#f1b6da"
            ],
            [
             0.4,
             "#fde0ef"
            ],
            [
             0.5,
             "#f7f7f7"
            ],
            [
             0.6,
             "#e6f5d0"
            ],
            [
             0.7,
             "#b8e186"
            ],
            [
             0.8,
             "#7fbc41"
            ],
            [
             0.9,
             "#4d9221"
            ],
            [
             1,
             "#276419"
            ]
           ],
           "sequential": [
            [
             0,
             "#0d0887"
            ],
            [
             0.1111111111111111,
             "#46039f"
            ],
            [
             0.2222222222222222,
             "#7201a8"
            ],
            [
             0.3333333333333333,
             "#9c179e"
            ],
            [
             0.4444444444444444,
             "#bd3786"
            ],
            [
             0.5555555555555556,
             "#d8576b"
            ],
            [
             0.6666666666666666,
             "#ed7953"
            ],
            [
             0.7777777777777778,
             "#fb9f3a"
            ],
            [
             0.8888888888888888,
             "#fdca26"
            ],
            [
             1,
             "#f0f921"
            ]
           ],
           "sequentialminus": [
            [
             0,
             "#0d0887"
            ],
            [
             0.1111111111111111,
             "#46039f"
            ],
            [
             0.2222222222222222,
             "#7201a8"
            ],
            [
             0.3333333333333333,
             "#9c179e"
            ],
            [
             0.4444444444444444,
             "#bd3786"
            ],
            [
             0.5555555555555556,
             "#d8576b"
            ],
            [
             0.6666666666666666,
             "#ed7953"
            ],
            [
             0.7777777777777778,
             "#fb9f3a"
            ],
            [
             0.8888888888888888,
             "#fdca26"
            ],
            [
             1,
             "#f0f921"
            ]
           ]
          },
          "colorway": [
           "#636efa",
           "#EF553B",
           "#00cc96",
           "#ab63fa",
           "#FFA15A",
           "#19d3f3",
           "#FF6692",
           "#B6E880",
           "#FF97FF",
           "#FECB52"
          ],
          "font": {
           "color": "#2a3f5f"
          },
          "geo": {
           "bgcolor": "white",
           "lakecolor": "white",
           "landcolor": "#E5ECF6",
           "showlakes": true,
           "showland": true,
           "subunitcolor": "white"
          },
          "hoverlabel": {
           "align": "left"
          },
          "hovermode": "closest",
          "mapbox": {
           "style": "light"
          },
          "paper_bgcolor": "white",
          "plot_bgcolor": "#E5ECF6",
          "polar": {
           "angularaxis": {
            "gridcolor": "white",
            "linecolor": "white",
            "ticks": ""
           },
           "bgcolor": "#E5ECF6",
           "radialaxis": {
            "gridcolor": "white",
            "linecolor": "white",
            "ticks": ""
           }
          },
          "scene": {
           "xaxis": {
            "backgroundcolor": "#E5ECF6",
            "gridcolor": "white",
            "gridwidth": 2,
            "linecolor": "white",
            "showbackground": true,
            "ticks": "",
            "zerolinecolor": "white"
           },
           "yaxis": {
            "backgroundcolor": "#E5ECF6",
            "gridcolor": "white",
            "gridwidth": 2,
            "linecolor": "white",
            "showbackground": true,
            "ticks": "",
            "zerolinecolor": "white"
           },
           "zaxis": {
            "backgroundcolor": "#E5ECF6",
            "gridcolor": "white",
            "gridwidth": 2,
            "linecolor": "white",
            "showbackground": true,
            "ticks": "",
            "zerolinecolor": "white"
           }
          },
          "shapedefaults": {
           "line": {
            "color": "#2a3f5f"
           }
          },
          "ternary": {
           "aaxis": {
            "gridcolor": "white",
            "linecolor": "white",
            "ticks": ""
           },
           "baxis": {
            "gridcolor": "white",
            "linecolor": "white",
            "ticks": ""
           },
           "bgcolor": "#E5ECF6",
           "caxis": {
            "gridcolor": "white",
            "linecolor": "white",
            "ticks": ""
           }
          },
          "title": {
           "x": 0.05
          },
          "xaxis": {
           "automargin": true,
           "gridcolor": "white",
           "linecolor": "white",
           "ticks": "",
           "title": {
            "standoff": 15
           },
           "zerolinecolor": "white",
           "zerolinewidth": 2
          },
          "yaxis": {
           "automargin": true,
           "gridcolor": "white",
           "linecolor": "white",
           "ticks": "",
           "title": {
            "standoff": 15
           },
           "zerolinecolor": "white",
           "zerolinewidth": 2
          }
         }
        },
        "title": {
         "text": "Pareto Front: DPD vs. Accuracy"
        },
        "xaxis": {
         "anchor": "y",
         "domain": [
          0,
          1
         ],
         "title": {
          "text": "DPD"
         }
        },
        "yaxis": {
         "anchor": "x",
         "domain": [
          0,
          1
         ],
         "title": {
          "text": "Accuracy"
         }
        }
       }
      }
     },
     "metadata": {},
     "output_type": "display_data"
    }
   ],
   "source": [
    "# Create interactive Plotly plot\n",
    "fig = px.scatter(\n",
    "    plot_df,\n",
    "    x='DPD',\n",
    "    y='Accuracy',\n",
    "    color='alpha',\n",
    "    color_continuous_scale='Viridis',\n",
    "    size_max=15,\n",
    "    hover_data={'alpha': True, 'DPD': True, 'Accuracy': True},\n",
    "    title='Pareto Front: DPD vs. Accuracy'\n",
    ")\n",
    "fig.update_traces(marker=dict(line_width=0))\n",
    "fig.show()"
   ]
  }
 ],
 "metadata": {
  "kernelspec": {
   "display_name": "env",
   "language": "python",
   "name": "python3"
  },
  "language_info": {
   "codemirror_mode": {
    "name": "ipython",
    "version": 3
   },
   "file_extension": ".py",
   "mimetype": "text/x-python",
   "name": "python",
   "nbconvert_exporter": "python",
   "pygments_lexer": "ipython3",
   "version": "3.13.2"
  }
 },
 "nbformat": 4,
 "nbformat_minor": 5
}
