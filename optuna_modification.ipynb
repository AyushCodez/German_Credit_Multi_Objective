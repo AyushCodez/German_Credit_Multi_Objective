{
 "cells": [
  {
   "cell_type": "code",
   "execution_count": 1,
   "id": "0fdd19d9",
   "metadata": {},
   "outputs": [
    {
     "name": "stderr",
     "output_type": "stream",
     "text": [
      "c:\\Users\\priya\\OneDrive\\Desktop\\German_Credit_Multi_Objective\\env\\Lib\\site-packages\\tqdm\\auto.py:21: TqdmWarning: IProgress not found. Please update jupyter and ipywidgets. See https://ipywidgets.readthedocs.io/en/stable/user_install.html\n",
      "  from .autonotebook import tqdm as notebook_tqdm\n"
     ]
    }
   ],
   "source": [
    "import numpy as np\n",
    "import pandas as pd\n",
    "import xgboost as xgb\n",
    "from sklearn.model_selection import KFold\n",
    "from sklearn.metrics import accuracy_score\n",
    "import optuna\n",
    "import plotly.express as px\n",
    "\n",
    "# Load and prepare data\n",
    "DATA_PATH = 'german_credit_data_cleaned.csv'\n",
    "df = pd.read_csv(DATA_PATH)\n",
    "y = df['Risk_good'].values\n",
    "X_full = df.drop(columns=['Risk_good'])\n",
    "sensitive = df['Sex_male'].values\n",
    "\n"
   ]
  },
  {
   "cell_type": "code",
   "execution_count": 2,
   "id": "fe121556",
   "metadata": {},
   "outputs": [],
   "source": [
    "# Define the custom objective function factory\n",
    "def make_custom_obj(sens_array, alpha=0.5):\n",
    "    def custom_obj(preds, dmatrix):\n",
    "        labels = dmatrix.get_label()\n",
    "        preds_prob = 1.0 / (1.0 + np.exp(-preds))\n",
    "        grad_log = preds_prob - labels\n",
    "        hess_log = preds_prob * (1.0 - preds_prob)\n",
    "        mask_p = (sens_array == 1)\n",
    "        mask_u = (sens_array == 0)\n",
    "        n_p, n_u = mask_p.sum(), mask_u.sum()\n",
    "        mean_p = preds_prob[mask_p].mean() if n_p > 0 else 0\n",
    "        mean_u = preds_prob[mask_u].mean() if n_u > 0 else 0\n",
    "        diff = mean_p - mean_u\n",
    "        sign = np.sign(diff)\n",
    "        sigmoid_deriv = preds_prob * (1.0 - preds_prob)\n",
    "        grad_fair = np.zeros_like(preds)\n",
    "        grad_fair[mask_p] = sign * (1.0 / n_p) * sigmoid_deriv[mask_p] if n_p > 0 else 0\n",
    "        grad_fair[mask_u] = -sign * (1.0 / n_u) * sigmoid_deriv[mask_u] if n_u > 0 else 0\n",
    "        hess_fair = np.zeros_like(preds)\n",
    "        grad = alpha * grad_log + (1 - alpha) * grad_fair\n",
    "        hess = alpha * hess_log + (1 - alpha) * hess_fair\n",
    "        return grad, hess\n",
    "    return custom_obj\n",
    "\n",
    "# Define the objective function for Optuna\n",
    "def objective(trial):\n",
    "    # Suggest hyperparameters\n",
    "    alpha = trial.suggest_float('alpha', 0.0, 1.0)\n",
    "    max_depth = trial.suggest_int('max_depth', 3, 7)\n",
    "    eta = trial.suggest_float('eta', 0.01, 0.3)\n",
    "    subsample = trial.suggest_float('subsample', 0.6, 1.0)\n",
    "    colsample_bytree = trial.suggest_float('colsample_bytree', 0.6, 1.0)\n",
    "\n",
    "    # Initialize cross-validation\n",
    "    kf = KFold(n_splits=3, shuffle=True, random_state=42)\n",
    "    acc_scores = []\n",
    "    dpd_scores = []\n",
    "\n",
    "    # Perform 3-fold cross-validation\n",
    "    for train_idx, val_idx in kf.split(X_full):\n",
    "        # Split data\n",
    "        X_train = X_full.iloc[train_idx].drop(columns=['Sex_male']).values\n",
    "        y_train = y[train_idx]\n",
    "        sens_train = sensitive[train_idx]\n",
    "        X_val = X_full.iloc[val_idx].drop(columns=['Sex_male']).values\n",
    "        y_val = y[val_idx]\n",
    "        sens_val = sensitive[val_idx]\n",
    "\n",
    "        # Create custom objective\n",
    "        train_obj = make_custom_obj(sens_train, alpha=alpha)\n",
    "\n",
    "        # Set up DMatrix\n",
    "        dtrain = xgb.DMatrix(X_train, label=y_train)\n",
    "        dval = xgb.DMatrix(X_val, label=y_val)\n",
    "\n",
    "        # Train the model\n",
    "        params = {\n",
    "            'max_depth': max_depth,\n",
    "            'eta': eta,\n",
    "            'subsample': subsample,\n",
    "            'colsample_bytree': colsample_bytree,\n",
    "            'verbosity': 0\n",
    "        }\n",
    "        bst = xgb.train(\n",
    "            params,\n",
    "            dtrain,\n",
    "            num_boost_round=100,\n",
    "            obj=train_obj,\n",
    "            evals=[(dtrain, 'train'), (dval, 'val')],\n",
    "            early_stopping_rounds=10,\n",
    "            verbose_eval=False\n",
    "        )\n",
    "\n",
    "        # Predict on validation set\n",
    "        pred_prob = bst.predict(dval)\n",
    "        pred = (pred_prob > 0.5).astype(int)\n",
    "\n",
    "        # Compute accuracy and DPD\n",
    "        acc = accuracy_score(y_val, pred)\n",
    "        dpd_val = abs(pred[sens_val == 1].mean() - pred[sens_val == 0].mean())\n",
    "        acc_scores.append(acc)\n",
    "        dpd_scores.append(dpd_val)\n",
    "\n",
    "    # Compute mean metrics across folds\n",
    "    mean_acc = np.mean(acc_scores)\n",
    "    mean_dpd = np.mean(dpd_scores)\n",
    "\n",
    "    # Store metrics for analysis\n",
    "    trial.set_user_attr('accuracy', mean_acc)\n",
    "    trial.set_user_attr('dpd', mean_dpd)\n",
    "    trial.set_user_attr('params', {\n",
    "        'alpha': alpha,\n",
    "        'max_depth': max_depth,\n",
    "        'eta': eta,\n",
    "        'subsample': subsample,\n",
    "        'colsample_bytree': colsample_bytree\n",
    "    })\n",
    "\n",
    "    return mean_acc, mean_dpd\n"
   ]
  },
  {
   "cell_type": "code",
   "execution_count": 3,
   "id": "b26f54e6",
   "metadata": {},
   "outputs": [
    {
     "name": "stderr",
     "output_type": "stream",
     "text": [
      "[I 2025-05-15 00:13:05,003] A new study created in memory with name: no-name-e7eefbff-a6ad-4701-9d90-5c9ca90f2058\n",
      "[I 2025-05-15 00:13:05,696] Trial 0 finished with values: [0.6842889658827387, 0.05078741226053076] and parameters: {'alpha': 0.7322567767359832, 'max_depth': 4, 'eta': 0.24780138596990386, 'subsample': 0.9604171906491878, 'colsample_bytree': 0.9395369071061972}.\n",
      "[I 2025-05-15 00:13:05,944] Trial 1 finished with values: [0.6678629305247936, 0.03779013877147597] and parameters: {'alpha': 0.18424743440551838, 'max_depth': 5, 'eta': 0.11405322925341065, 'subsample': 0.9857638680246539, 'colsample_bytree': 0.6794095077602501}.\n",
      "[I 2025-05-15 00:13:06,217] Trial 2 finished with values: [0.6950109210772196, 0.057206087778508115] and parameters: {'alpha': 0.9374283216392799, 'max_depth': 4, 'eta': 0.21901686836526663, 'subsample': 0.8376771934629543, 'colsample_bytree': 0.686670225449568}.\n",
      "[I 2025-05-15 00:13:06,564] Trial 3 finished with values: [0.6821399797201876, 0.06594858176507616] and parameters: {'alpha': 0.62042134846399, 'max_depth': 5, 'eta': 0.2739426672268992, 'subsample': 0.6888579301401018, 'colsample_bytree': 0.7076662287280119}.\n",
      "[I 2025-05-15 00:13:06,975] Trial 4 finished with values: [0.6714394684360956, 0.03166771014516832] and parameters: {'alpha': 0.22601217229786574, 'max_depth': 5, 'eta': 0.0220999166056502, 'subsample': 0.7482049238349794, 'colsample_bytree': 0.8683286243209352}.\n",
      "[I 2025-05-15 00:13:07,080] Trial 5 finished with values: [0.5000061268315397, 0.0] and parameters: {'alpha': 0.012915419123790906, 'max_depth': 7, 'eta': 0.22739873665679933, 'subsample': 0.871229825323997, 'colsample_bytree': 0.9273609939577232}.\n",
      "[I 2025-05-15 00:13:07,163] Trial 6 finished with values: [0.6642955828608015, 0.03278642161225733] and parameters: {'alpha': 0.44707282084790356, 'max_depth': 3, 'eta': 0.10183978682504921, 'subsample': 0.7437202299177925, 'colsample_bytree': 0.9681843411452613}.\n",
      "[I 2025-05-15 00:13:07,254] Trial 7 finished with values: [0.7014211185756342, 0.06277892861462023] and parameters: {'alpha': 0.9514033263041299, 'max_depth': 5, 'eta': 0.26353631120137416, 'subsample': 0.807108008558591, 'colsample_bytree': 0.8914441862273623}.\n",
      "[I 2025-05-15 00:13:07,339] Trial 8 finished with values: [0.6821338528886479, 0.05990406878044824] and parameters: {'alpha': 0.8807165033714051, 'max_depth': 4, 'eta': 0.275183156301969, 'subsample': 0.7353752678220493, 'colsample_bytree': 0.9761328326556449}.\n",
      "[I 2025-05-15 00:13:07,556] Trial 9 finished with values: [0.6721440540631615, 0.055824763310325425] and parameters: {'alpha': 0.6778536778127403, 'max_depth': 5, 'eta': 0.028532086923397558, 'subsample': 0.8088131586506528, 'colsample_bytree': 0.8534810286434029}.\n",
      "[I 2025-05-15 00:13:07,665] Trial 10 finished with values: [0.676431304433069, 0.04355907925703614] and parameters: {'alpha': 0.7281505171231004, 'max_depth': 4, 'eta': 0.12373574875605767, 'subsample': 0.8144334976354424, 'colsample_bytree': 0.8894465652653496}.\n",
      "[I 2025-05-15 00:13:07,798] Trial 11 finished with values: [0.6799940569734065, 0.06577299910562824] and parameters: {'alpha': 0.9284000253778819, 'max_depth': 4, 'eta': 0.2266610925910049, 'subsample': 0.8856203990956368, 'colsample_bytree': 0.873909852272289}.\n",
      "[I 2025-05-15 00:13:07,922] Trial 12 finished with values: [0.6742853816862878, 0.0417895330180181] and parameters: {'alpha': 0.2575906727640307, 'max_depth': 4, 'eta': 0.27868412956464655, 'subsample': 0.833700545549427, 'colsample_bytree': 0.9843041383280889}.\n",
      "[I 2025-05-15 00:13:08,078] Trial 13 finished with values: [0.7028624556953494, 0.09693641995539602] and parameters: {'alpha': 0.629223322575555, 'max_depth': 6, 'eta': 0.24431474510203355, 'subsample': 0.90190693111111, 'colsample_bytree': 0.9640214319825164}.\n",
      "[I 2025-05-15 00:13:08,203] Trial 14 finished with values: [0.6707103754828708, 0.03476141846638444] and parameters: {'alpha': 0.22036089029424588, 'max_depth': 5, 'eta': 0.18586758474542522, 'subsample': 0.6777183439958374, 'colsample_bytree': 0.8278109264748293}.\n",
      "[I 2025-05-15 00:13:08,340] Trial 15 finished with values: [0.6935695839575043, 0.06777259534971307] and parameters: {'alpha': 0.7320277075158752, 'max_depth': 7, 'eta': 0.1108788641250333, 'subsample': 0.6570128253447326, 'colsample_bytree': 0.9622654029941706}.\n",
      "[I 2025-05-15 00:13:08,503] Trial 16 finished with values: [0.6785802905956199, 0.04399766687639034] and parameters: {'alpha': 0.6757193493365825, 'max_depth': 6, 'eta': 0.09842796906661785, 'subsample': 0.7955181430483136, 'colsample_bytree': 0.6704872149133451}.\n",
      "[I 2025-05-15 00:13:08,658] Trial 17 finished with values: [0.6600144593224337, 0.010827195256573635] and parameters: {'alpha': 0.10738648828010866, 'max_depth': 6, 'eta': 0.07257095200779526, 'subsample': 0.8758455219682513, 'colsample_bytree': 0.8357944840415586}.\n",
      "[I 2025-05-15 00:13:08,811] Trial 18 finished with values: [0.6828675409655274, 0.06166875764230293] and parameters: {'alpha': 0.18608839247901676, 'max_depth': 7, 'eta': 0.2325772510721204, 'subsample': 0.602824151300921, 'colsample_bytree': 0.8282766798260931}.\n",
      "[I 2025-05-15 00:13:09,017] Trial 19 finished with values: [0.6835690631768235, 0.05918409968736743] and parameters: {'alpha': 0.5827674619527143, 'max_depth': 7, 'eta': 0.042613044171094315, 'subsample': 0.9905747668919493, 'colsample_bytree': 0.6045282308437133}.\n",
      "[I 2025-05-15 00:13:09,162] Trial 20 finished with values: [0.6671506863583033, 0.028132055567032337] and parameters: {'alpha': 0.8686824230062049, 'max_depth': 3, 'eta': 0.09959498795442887, 'subsample': 0.8766689480595029, 'colsample_bytree': 0.625177152647749}.\n",
      "[I 2025-05-15 00:13:09,295] Trial 21 finished with values: [0.6957216335358251, 0.1024846564016697] and parameters: {'alpha': 0.7303782498123486, 'max_depth': 6, 'eta': 0.25016096271527233, 'subsample': 0.6179030057230891, 'colsample_bytree': 0.8194341572749896}.\n",
      "[I 2025-05-15 00:13:09,432] Trial 22 finished with values: [0.6857103907999499, 0.054157375233966513] and parameters: {'alpha': 0.7917426254258504, 'max_depth': 5, 'eta': 0.11002295327466664, 'subsample': 0.9045085692786778, 'colsample_bytree': 0.935189431618056}.\n",
      "[I 2025-05-15 00:13:09,557] Trial 23 finished with values: [0.6814461160483162, 0.08235023683216969] and parameters: {'alpha': 0.5494552396939458, 'max_depth': 5, 'eta': 0.191230339818177, 'subsample': 0.6164567108617903, 'colsample_bytree': 0.7928799673485101}.\n",
      "[I 2025-05-15 00:13:09,656] Trial 24 finished with values: [0.5000061268315397, 0.0] and parameters: {'alpha': 0.006398238570445525, 'max_depth': 4, 'eta': 0.1835864240964316, 'subsample': 0.872143282534935, 'colsample_bytree': 0.6846054564616372}.\n",
      "[I 2025-05-15 00:13:09,780] Trial 25 finished with values: [0.6743037621809069, 0.05729440888682975] and parameters: {'alpha': 0.6511827838792257, 'max_depth': 3, 'eta': 0.16475062139378718, 'subsample': 0.6148087796676664, 'colsample_bytree': 0.9719476367211987}.\n",
      "[I 2025-05-15 00:13:09,919] Trial 26 finished with values: [0.6957078481648608, 0.06150334898807519] and parameters: {'alpha': 0.8694173170637239, 'max_depth': 7, 'eta': 0.10665161819887829, 'subsample': 0.8493505201360313, 'colsample_bytree': 0.8860886219071996}.\n",
      "[I 2025-05-15 00:13:10,036] Trial 27 finished with values: [0.6942833598318797, 0.06900215155181796] and parameters: {'alpha': 0.5942243705502642, 'max_depth': 6, 'eta': 0.1846213894469979, 'subsample': 0.8130088637521733, 'colsample_bytree': 0.7906526607305479}.\n",
      "[I 2025-05-15 00:13:10,153] Trial 28 finished with values: [0.6749960941448935, 0.03775211596765119] and parameters: {'alpha': 0.7114114517003305, 'max_depth': 4, 'eta': 0.16528695608522817, 'subsample': 0.839446763629717, 'colsample_bytree': 0.938607954432039}.\n",
      "[I 2025-05-15 00:13:10,252] Trial 29 finished with values: [0.6885884699157255, 0.037768977936168235] and parameters: {'alpha': 0.5295030032489474, 'max_depth': 3, 'eta': 0.26763799019617446, 'subsample': 0.6950815747717355, 'colsample_bytree': 0.939918536631748}.\n",
      "[I 2025-05-15 00:13:10,374] Trial 30 finished with values: [0.7171287829355487, 0.08108008627466458] and parameters: {'alpha': 0.9776062185303493, 'max_depth': 7, 'eta': 0.23212779617479912, 'subsample': 0.8126899029458226, 'colsample_bytree': 0.7332782840099421}.\n",
      "[I 2025-05-15 00:13:10,485] Trial 31 finished with values: [0.7121323518149207, 0.08166896638386097] and parameters: {'alpha': 0.6361776846639763, 'max_depth': 7, 'eta': 0.21500273048430651, 'subsample': 0.9984601149714915, 'colsample_bytree': 0.8415750848598711}.\n",
      "[I 2025-05-15 00:13:10,577] Trial 32 finished with values: [0.6635879338179658, 0.018957342453906446] and parameters: {'alpha': 0.18501121989606373, 'max_depth': 3, 'eta': 0.14769430630586858, 'subsample': 0.9178828629129187, 'colsample_bytree': 0.988347587019417}.\n",
      "[I 2025-05-15 00:13:10,732] Trial 33 finished with values: [0.6921389687929835, 0.07615365099793824] and parameters: {'alpha': 0.9355217017863632, 'max_depth': 7, 'eta': 0.06999789230016645, 'subsample': 0.8859833992423654, 'colsample_bytree': 0.8349694957844213}.\n",
      "[I 2025-05-15 00:13:10,881] Trial 34 finished with values: [0.6835721265925933, 0.0727974332352014] and parameters: {'alpha': 0.5442008253989724, 'max_depth': 7, 'eta': 0.08821391617324031, 'subsample': 0.8259069902799676, 'colsample_bytree': 0.8340588236598022}.\n",
      "[I 2025-05-15 00:13:10,976] Trial 35 finished with values: [0.6771573339705238, 0.045739342770703795] and parameters: {'alpha': 0.3490858029574224, 'max_depth': 3, 'eta': 0.27499741563348057, 'subsample': 0.837342620804689, 'colsample_bytree': 0.6276974181987566}.\n",
      "[I 2025-05-15 00:13:11,107] Trial 36 finished with values: [0.6671491546504184, 0.03125519866008585] and parameters: {'alpha': 0.5276849024270673, 'max_depth': 3, 'eta': 0.18196698363236724, 'subsample': 0.7353221600284813, 'colsample_bytree': 0.6998065358089394}.\n",
      "[I 2025-05-15 00:13:11,200] Trial 37 finished with values: [0.5000061268315397, 0.0] and parameters: {'alpha': 0.0018713778605690123, 'max_depth': 3, 'eta': 0.07253350513913152, 'subsample': 0.8088010652239656, 'colsample_bytree': 0.8778999079756078}.\n",
      "[I 2025-05-15 00:13:11,327] Trial 38 finished with values: [0.676429772725184, 0.0427897508193161] and parameters: {'alpha': 0.8156904481914313, 'max_depth': 5, 'eta': 0.08222145059601793, 'subsample': 0.6261876562497969, 'colsample_bytree': 0.9965860976559494}.\n",
      "[I 2025-05-15 00:13:11,548] Trial 39 finished with values: [0.6907083536284628, 0.07164537114758032] and parameters: {'alpha': 0.906592605049076, 'max_depth': 7, 'eta': 0.022863575319535322, 'subsample': 0.8330421649085545, 'colsample_bytree': 0.9222899638012406}.\n",
      "[I 2025-05-15 00:13:11,662] Trial 40 finished with values: [0.6850042734649989, 0.06368073253743277] and parameters: {'alpha': 0.5762838850941405, 'max_depth': 5, 'eta': 0.23641384379883096, 'subsample': 0.6585973966024562, 'colsample_bytree': 0.6202940991527771}.\n",
      "[I 2025-05-15 00:13:11,783] Trial 41 finished with values: [0.6828568190103329, 0.04881451764266673] and parameters: {'alpha': 0.5043899377301401, 'max_depth': 6, 'eta': 0.15511827510132917, 'subsample': 0.8191217467408274, 'colsample_bytree': 0.7320616628256356}.\n",
      "[I 2025-05-15 00:13:11,914] Trial 42 finished with values: [0.6600144593224337, 0.011365697437897218] and parameters: {'alpha': 0.12082713516430721, 'max_depth': 4, 'eta': 0.10022879453843885, 'subsample': 0.6631956570556669, 'colsample_bytree': 0.7171393924105901}.\n",
      "[I 2025-05-15 00:13:12,034] Trial 43 finished with values: [0.6800078423443708, 0.04291600277381863] and parameters: {'alpha': 0.24828225691142614, 'max_depth': 6, 'eta': 0.20855117182111804, 'subsample': 0.9461587741634256, 'colsample_bytree': 0.9749593969631677}.\n",
      "[I 2025-05-15 00:13:12,205] Trial 44 finished with values: [0.6785848857192747, 0.026299247963585366] and parameters: {'alpha': 0.20471483943930935, 'max_depth': 5, 'eta': 0.23519319248320233, 'subsample': 0.797094037430133, 'colsample_bytree': 0.9252147101617407}.\n",
      "[I 2025-05-15 00:13:12,410] Trial 45 finished with values: [0.6899823240910079, 0.05714376841640547] and parameters: {'alpha': 0.6505837122947494, 'max_depth': 6, 'eta': 0.12694349465427998, 'subsample': 0.8472770656657291, 'colsample_bytree': 0.9605668473907009}.\n",
      "[I 2025-05-15 00:13:12,551] Trial 46 finished with values: [0.6742915085178275, 0.06179712472799851] and parameters: {'alpha': 0.287597006942267, 'max_depth': 7, 'eta': 0.21395809318121486, 'subsample': 0.8986254808223761, 'colsample_bytree': 0.6669305471497609}.\n",
      "[I 2025-05-15 00:13:12,655] Trial 47 finished with values: [0.6785894808429296, 0.058476585865033494] and parameters: {'alpha': 0.960993041542898, 'max_depth': 3, 'eta': 0.1914607701855274, 'subsample': 0.8812051164262348, 'colsample_bytree': 0.6838887921667838}.\n",
      "[I 2025-05-15 00:13:12,801] Trial 48 finished with values: [0.6857149859236046, 0.0694047337296017] and parameters: {'alpha': 0.988128285001798, 'max_depth': 6, 'eta': 0.06578802627045827, 'subsample': 0.9466001824557018, 'colsample_bytree': 0.7868397522236483}.\n",
      "[I 2025-05-15 00:13:12,932] Trial 49 finished with values: [0.6835813168399029, 0.04770949107378439] and parameters: {'alpha': 0.207555894004804, 'max_depth': 6, 'eta': 0.2783693514633372, 'subsample': 0.7126649411379313, 'colsample_bytree': 0.74932718101053}.\n",
      "[I 2025-05-15 00:13:13,090] Trial 50 finished with values: [0.6821476382596122, 0.042238539140893344] and parameters: {'alpha': 0.287597006942267, 'max_depth': 5, 'eta': 0.21395809318121486, 'subsample': 0.8986254808223761, 'colsample_bytree': 0.6669305471497609}.\n",
      "[I 2025-05-15 00:13:13,226] Trial 51 finished with values: [0.6642925194450315, 0.0329191355447515] and parameters: {'alpha': 0.24828225691142614, 'max_depth': 4, 'eta': 0.130725451775213, 'subsample': 0.9461587741634256, 'colsample_bytree': 0.6152080482034437}.\n",
      "[I 2025-05-15 00:13:13,343] Trial 52 finished with values: [0.7028624556953494, 0.09693641995539602] and parameters: {'alpha': 0.629223322575555, 'max_depth': 6, 'eta': 0.24431474510203355, 'subsample': 0.90190693111111, 'colsample_bytree': 0.9640214319825164}.\n",
      "[I 2025-05-15 00:13:13,443] Trial 53 finished with values: [0.6564409848269017, 0.03278758493161912] and parameters: {'alpha': 0.44707282084790356, 'max_depth': 3, 'eta': 0.10183978682504921, 'subsample': 0.833700545549427, 'colsample_bytree': 0.9681843411452613}.\n",
      "[I 2025-05-15 00:13:13,551] Trial 54 finished with values: [0.6657261980253222, 0.03035909739884259] and parameters: {'alpha': 0.207555894004804, 'max_depth': 6, 'eta': 0.09842796906661785, 'subsample': 0.7126649411379313, 'colsample_bytree': 0.74932718101053}.\n",
      "[I 2025-05-15 00:13:13,685] Trial 55 finished with values: [0.6685828332307088, 0.030335088269050365] and parameters: {'alpha': 0.20471483943930935, 'max_depth': 5, 'eta': 0.16517261972833314, 'subsample': 0.8130088637521733, 'colsample_bytree': 0.7219859642099816}.\n",
      "[I 2025-05-15 00:13:13,823] Trial 56 finished with values: [0.6864302935058649, 0.06272866421694887] and parameters: {'alpha': 0.5442008253989724, 'max_depth': 7, 'eta': 0.08821391617324031, 'subsample': 0.9905747668919493, 'colsample_bytree': 0.8340588236598022}.\n",
      "[I 2025-05-15 00:13:13,922] Trial 57 finished with values: [0.6678675256484485, 0.04568460209683373] and parameters: {'alpha': 0.6511827838792257, 'max_depth': 3, 'eta': 0.16475062139378718, 'subsample': 0.6148087796676664, 'colsample_bytree': 0.873909852272289}.\n",
      "[I 2025-05-15 00:13:14,023] Trial 58 finished with values: [0.6892853970033667, 0.05850737883995489] and parameters: {'alpha': 0.5494552396939458, 'max_depth': 5, 'eta': 0.191230339818177, 'subsample': 0.8850556716967608, 'colsample_bytree': 0.9183903573176179}.\n",
      "[I 2025-05-15 00:13:14,137] Trial 59 finished with values: [0.677152738846869, 0.045377314000221436] and parameters: {'alpha': 0.7281505171231004, 'max_depth': 4, 'eta': 0.06868950316294745, 'subsample': 0.8144334976354424, 'colsample_bytree': 0.8894465652653496}.\n",
      "[I 2025-05-15 00:13:14,237] Trial 60 finished with values: [0.6835859119635576, 0.04320172227060517] and parameters: {'alpha': 0.3490858029574224, 'max_depth': 3, 'eta': 0.27499741563348057, 'subsample': 0.8472770656657291, 'colsample_bytree': 0.6276974181987566}.\n",
      "[I 2025-05-15 00:13:14,337] Trial 61 finished with values: [0.7078466331528982, 0.0875783603803888] and parameters: {'alpha': 0.906592605049076, 'max_depth': 5, 'eta': 0.2974068180177037, 'subsample': 0.8330421649085545, 'colsample_bytree': 0.9222899638012406}.\n",
      "[I 2025-05-15 00:13:14,436] Trial 62 finished with values: [0.660008332490894, 0.031650928013768426] and parameters: {'alpha': 0.9355217017863632, 'max_depth': 3, 'eta': 0.06999789230016645, 'subsample': 0.6950815747717355, 'colsample_bytree': 0.939918536631748}.\n",
      "[I 2025-05-15 00:13:14,533] Trial 63 finished with values: [0.6785802905956199, 0.06277736297980477] and parameters: {'alpha': 0.207555894004804, 'max_depth': 5, 'eta': 0.15511827510132917, 'subsample': 0.6324117620075245, 'colsample_bytree': 0.74932718101053}.\n",
      "[I 2025-05-15 00:13:14,754] Trial 64 finished with values: [0.6778466025187404, 0.06612922245107278] and parameters: {'alpha': 0.56441095660151, 'max_depth': 5, 'eta': 0.11405322925341065, 'subsample': 0.9857638680246539, 'colsample_bytree': 0.6794095077602501}.\n",
      "[I 2025-05-15 00:13:14,884] Trial 65 finished with values: [0.6828583507182179, 0.048405635170263805] and parameters: {'alpha': 0.9374283216392799, 'max_depth': 4, 'eta': 0.21901686836526663, 'subsample': 0.9604171906491878, 'colsample_bytree': 0.9395369071061972}.\n",
      "[I 2025-05-15 00:13:15,048] Trial 66 finished with values: [0.6821430431359575, 0.057699045109505596] and parameters: {'alpha': 0.7917426254258504, 'max_depth': 7, 'eta': 0.11002295327466664, 'subsample': 0.6570128253447326, 'colsample_bytree': 0.935189431618056}.\n",
      "[I 2025-05-15 00:13:15,169] Trial 67 finished with values: [0.6607190449494996, 0.03210814962950514] and parameters: {'alpha': 0.5276849024270673, 'max_depth': 3, 'eta': 0.16636395730870962, 'subsample': 0.7353221600284813, 'colsample_bytree': 0.8842813524320214}.\n",
      "[I 2025-05-15 00:13:15,332] Trial 68 finished with values: [0.6821491699674972, 0.03520108429148743] and parameters: {'alpha': 0.18608839247901676, 'max_depth': 7, 'eta': 0.14769430630586858, 'subsample': 0.9178828629129187, 'colsample_bytree': 0.8282766798260931}.\n",
      "[I 2025-05-15 00:13:15,516] Trial 69 finished with values: [0.6842904975906235, 0.07426041664822758] and parameters: {'alpha': 0.9355217017863632, 'max_depth': 7, 'eta': 0.06999789230016645, 'subsample': 0.8859833992423654, 'colsample_bytree': 0.6841875147690756}.\n",
      "[I 2025-05-15 00:13:15,625] Trial 70 finished with values: [0.6614374159475299, 0.027590677660996748] and parameters: {'alpha': 0.18501121989606373, 'max_depth': 3, 'eta': 0.14769430630586858, 'subsample': 0.9466001824557018, 'colsample_bytree': 0.9207693420732341}.\n",
      "[I 2025-05-15 00:13:15,739] Trial 71 finished with values: [0.6635864021100808, 0.029655786659419352] and parameters: {'alpha': 0.19870684902254054, 'max_depth': 3, 'eta': 0.19810848214733548, 'subsample': 0.8259069902799676, 'colsample_bytree': 0.988347587019417}.\n",
      "[I 2025-05-15 00:13:15,865] Trial 72 finished with values: [0.6785787588877351, 0.032778321403227] and parameters: {'alpha': 0.5043899377301401, 'max_depth': 6, 'eta': 0.15511827510132917, 'subsample': 0.8075386441531452, 'colsample_bytree': 0.7171393924105901}.\n",
      "[I 2025-05-15 00:13:16,024] Trial 73 finished with values: [0.7014149917440946, 0.07219687591551079] and parameters: {'alpha': 0.8694173170637239, 'max_depth': 7, 'eta': 0.10665161819887829, 'subsample': 0.8376771934629543, 'colsample_bytree': 0.8860886219071996}.\n",
      "[I 2025-05-15 00:13:16,165] Trial 74 finished with values: [0.6785802905956199, 0.04399766687639034] and parameters: {'alpha': 0.6757193493365825, 'max_depth': 6, 'eta': 0.09842796906661785, 'subsample': 0.7955181430483136, 'colsample_bytree': 0.6704872149133451}.\n",
      "[I 2025-05-15 00:13:16,310] Trial 75 finished with values: [0.6885884699157255, 0.037768977936168235] and parameters: {'alpha': 0.5295030032489474, 'max_depth': 3, 'eta': 0.26763799019617446, 'subsample': 0.6950815747717355, 'colsample_bytree': 0.939918536631748}.\n",
      "[I 2025-05-15 00:13:16,416] Trial 76 finished with values: [0.5000061268315397, 0.0] and parameters: {'alpha': 0.006398238570445525, 'max_depth': 4, 'eta': 0.1835864240964316, 'subsample': 0.6500142472469429, 'colsample_bytree': 0.7719975241381819}.\n",
      "[I 2025-05-15 00:13:16,558] Trial 77 finished with values: [0.6692782286104652, 0.05300868475048446] and parameters: {'alpha': 0.43409429962861246, 'max_depth': 6, 'eta': 0.10183978682504921, 'subsample': 0.7437202299177925, 'colsample_bytree': 0.8945360918631691}.\n",
      "[I 2025-05-15 00:13:16,725] Trial 78 finished with values: [0.6978537709116419, 0.09049564365589241] and parameters: {'alpha': 0.7320277075158752, 'max_depth': 7, 'eta': 0.191230339818177, 'subsample': 0.7433836534229082, 'colsample_bytree': 0.7928799673485101}.\n",
      "[I 2025-05-15 00:13:16,925] Trial 79 finished with values: [0.6864195715506703, 0.05265207660982957] and parameters: {'alpha': 0.9374283216392799, 'max_depth': 4, 'eta': 0.21901686836526663, 'subsample': 0.839446763629717, 'colsample_bytree': 0.938607954432039}.\n",
      "[I 2025-05-15 00:13:17,107] Trial 80 finished with values: [0.6585853758657979, 0.02739012616725431] and parameters: {'alpha': 0.3490858029574224, 'max_depth': 3, 'eta': 0.021719657450246153, 'subsample': 0.837342620804689, 'colsample_bytree': 0.6276974181987566}.\n",
      "[I 2025-05-15 00:13:17,258] Trial 81 finished with values: [0.6542981254958904, 0.020922128435864624] and parameters: {'alpha': 0.906592605049076, 'max_depth': 3, 'eta': 0.022863575319535322, 'subsample': 0.8812051164262348, 'colsample_bytree': 0.9618383317039272}.\n",
      "[I 2025-05-15 00:13:17,382] Trial 82 finished with values: [0.7042869440283305, 0.049377795343286644] and parameters: {'alpha': 0.9374283216392799, 'max_depth': 5, 'eta': 0.21901686836526663, 'subsample': 0.807108008558591, 'colsample_bytree': 0.9611620505991075}.\n",
      "[I 2025-05-15 00:13:17,504] Trial 83 finished with values: [0.6921450956245233, 0.07975199161963295] and parameters: {'alpha': 0.9776062185303493, 'max_depth': 4, 'eta': 0.23366349398791414, 'subsample': 0.872143282534935, 'colsample_bytree': 0.6846054564616372}.\n",
      "[I 2025-05-15 00:13:17,628] Trial 84 finished with values: [0.6814338623852368, 0.043804160497186384] and parameters: {'alpha': 0.603873756457065, 'max_depth': 5, 'eta': 0.1846213894469979, 'subsample': 0.8130088637521733, 'colsample_bytree': 0.7076662287280119}.\n",
      "[I 2025-05-15 00:13:17,774] Trial 85 finished with values: [0.6692874188577748, 0.07001037100944006] and parameters: {'alpha': 0.6505837122947494, 'max_depth': 5, 'eta': 0.06975824023703642, 'subsample': 0.8191217467408274, 'colsample_bytree': 0.7320616628256356}.\n",
      "[I 2025-05-15 00:13:17,895] Trial 86 finished with values: [0.6785802905956199, 0.04399766687639034] and parameters: {'alpha': 0.6757193493365825, 'max_depth': 6, 'eta': 0.09842796906661785, 'subsample': 0.7955181430483136, 'colsample_bytree': 0.6704872149133451}.\n",
      "[I 2025-05-15 00:13:18,019] Trial 87 finished with values: [0.6871517279196651, 0.06421358172527529] and parameters: {'alpha': 0.5043899377301401, 'max_depth': 6, 'eta': 0.13494875616631394, 'subsample': 0.8928968885016362, 'colsample_bytree': 0.7320616628256356}.\n",
      "[I 2025-05-15 00:13:18,117] Trial 88 finished with values: [0.6678705890642184, 0.014814312980260999] and parameters: {'alpha': 0.22601217229786574, 'max_depth': 4, 'eta': 0.23813647636124352, 'subsample': 0.7482049238349794, 'colsample_bytree': 0.7171393924105901}.\n",
      "[I 2025-05-15 00:13:18,217] Trial 89 finished with values: [0.6757236553902333, 0.029085140239100804] and parameters: {'alpha': 0.18608839247901676, 'max_depth': 5, 'eta': 0.2325772510721204, 'subsample': 0.7482049238349794, 'colsample_bytree': 0.6010096486579354}.\n",
      "[I 2025-05-15 00:13:18,299] Trial 90 finished with values: [0.5000061268315397, 0.0] and parameters: {'alpha': 0.006398238570445525, 'max_depth': 6, 'eta': 0.1835864240964316, 'subsample': 0.7126649411379313, 'colsample_bytree': 0.6846054564616372}.\n",
      "[I 2025-05-15 00:13:18,407] Trial 91 finished with values: [0.6728593616454219, 0.04366747588660779] and parameters: {'alpha': 0.988128285001798, 'max_depth': 4, 'eta': 0.09959498795442887, 'subsample': 0.9466001824557018, 'colsample_bytree': 0.625177152647749}.\n",
      "[I 2025-05-15 00:13:18,502] Trial 92 finished with values: [0.6642940511529166, 0.030244211995735515] and parameters: {'alpha': 0.7320277075158752, 'max_depth': 3, 'eta': 0.1108788641250333, 'subsample': 0.6570128253447326, 'colsample_bytree': 0.9719476367211987}.\n",
      "[I 2025-05-15 00:13:18,652] Trial 93 finished with values: [0.6785818223035048, 0.038978392084035994] and parameters: {'alpha': 0.22601217229786574, 'max_depth': 5, 'eta': 0.0220999166056502, 'subsample': 0.8088010652239656, 'colsample_bytree': 0.8683286243209352}.\n",
      "[I 2025-05-15 00:13:18,753] Trial 94 finished with values: [0.6757236553902333, 0.03846618229483251] and parameters: {'alpha': 0.5276849024270673, 'max_depth': 3, 'eta': 0.27499741563348057, 'subsample': 0.7353221600284813, 'colsample_bytree': 0.9532604182421414}.\n",
      "[I 2025-05-15 00:13:18,891] Trial 95 finished with values: [0.6735716058119124, 0.06633771168373277] and parameters: {'alpha': 0.5043899377301401, 'max_depth': 7, 'eta': 0.08222145059601793, 'subsample': 0.8191217467408274, 'colsample_bytree': 0.7320616628256356}.\n",
      "[I 2025-05-15 00:13:19,163] Trial 96 finished with values: [0.676431304433069, 0.06893446237278499] and parameters: {'alpha': 0.6757193493365825, 'max_depth': 7, 'eta': 0.01297483793520712, 'subsample': 0.7955181430483136, 'colsample_bytree': 0.6704872149133451}.\n",
      "[I 2025-05-15 00:13:19,362] Trial 97 finished with values: [0.6757098700192689, 0.06489776434251868] and parameters: {'alpha': 0.5827674619527143, 'max_depth': 7, 'eta': 0.028532086923397558, 'subsample': 0.9905747668919493, 'colsample_bytree': 0.8534810286434029}.\n",
      "[I 2025-05-15 00:13:19,493] Trial 98 finished with values: [0.6714333416045558, 0.035261555405858756] and parameters: {'alpha': 0.14539677188810485, 'max_depth': 5, 'eta': 0.26353631120137416, 'subsample': 0.807108008558591, 'colsample_bytree': 0.6892633555497836}.\n",
      "[I 2025-05-15 00:13:19,654] Trial 99 finished with values: [0.6985752053254419, 0.08246747561722366] and parameters: {'alpha': 0.5295030032489474, 'max_depth': 6, 'eta': 0.2264215951306317, 'subsample': 0.9660048776306573, 'colsample_bytree': 0.939918536631748}.\n",
      "[I 2025-05-15 00:13:19,788] Trial 100 finished with values: [0.6728685518927314, 0.03362801405791532] and parameters: {'alpha': 0.18501121989606373, 'max_depth': 5, 'eta': 0.16517261972833314, 'subsample': 0.9178828629129187, 'colsample_bytree': 0.988347587019417}.\n",
      "[I 2025-05-15 00:13:19,941] Trial 101 finished with values: [0.6707180340222955, 0.04942098400463966] and parameters: {'alpha': 0.5295030032489474, 'max_depth': 6, 'eta': 0.09842796906661785, 'subsample': 0.7126649411379313, 'colsample_bytree': 0.7312363233023367}.\n",
      "[I 2025-05-15 00:13:20,098] Trial 102 finished with values: [0.6907144804600026, 0.07063808966345493] and parameters: {'alpha': 0.629223322575555, 'max_depth': 6, 'eta': 0.14769430630586858, 'subsample': 0.9178828629129187, 'colsample_bytree': 0.9640214319825164}.\n",
      "[I 2025-05-15 00:13:20,223] Trial 103 finished with values: [0.661435884239645, 0.04282053113891176] and parameters: {'alpha': 0.8698350350532796, 'max_depth': 3, 'eta': 0.23813647636124352, 'subsample': 0.7482049238349794, 'colsample_bytree': 0.7171393924105901}.\n",
      "[I 2025-05-15 00:13:20,351] Trial 104 finished with values: [0.6971323364978419, 0.05753406844910689] and parameters: {'alpha': 0.8694173170637239, 'max_depth': 5, 'eta': 0.21901686836526663, 'subsample': 0.807108008558591, 'colsample_bytree': 0.8860886219071996}.\n",
      "[I 2025-05-15 00:13:20,487] Trial 105 finished with values: [0.6728731470163862, 0.0413372748402959] and parameters: {'alpha': 0.23598374410768985, 'max_depth': 3, 'eta': 0.2325772510721204, 'subsample': 0.7482049238349794, 'colsample_bytree': 0.9611620505991075}.\n",
      "[I 2025-05-15 00:13:20,619] Trial 106 finished with values: [0.6907114170442327, 0.05821295260734108] and parameters: {'alpha': 0.9374283216392799, 'max_depth': 4, 'eta': 0.21209650998634189, 'subsample': 0.839446763629717, 'colsample_bytree': 0.938607954432039}.\n",
      "[I 2025-05-15 00:13:20,747] Trial 107 finished with values: [0.6671491546504184, 0.03620068589144667] and parameters: {'alpha': 0.5942243705502642, 'max_depth': 3, 'eta': 0.1846213894469979, 'subsample': 0.7310267759889499, 'colsample_bytree': 0.9207693420732341}.\n",
      "[I 2025-05-15 00:13:20,916] Trial 108 finished with values: [0.6842874341748537, 0.06933238487530162] and parameters: {'alpha': 0.49113096288989744, 'max_depth': 7, 'eta': 0.15881267785023817, 'subsample': 0.8330421649085545, 'colsample_bytree': 0.74932718101053}.\n",
      "[I 2025-05-15 00:13:21,050] Trial 109 finished with values: [0.667156813189843, 0.038810228331864316] and parameters: {'alpha': 0.5295030032489474, 'max_depth': 3, 'eta': 0.23519319248320233, 'subsample': 0.797094037430133, 'colsample_bytree': 0.9252147101617407}.\n",
      "[I 2025-05-15 00:13:21,228] Trial 110 finished with values: [0.6942848915397647, 0.08650013845313702] and parameters: {'alpha': 0.8694173170637239, 'max_depth': 6, 'eta': 0.1872785763233121, 'subsample': 0.6563941547132829, 'colsample_bytree': 0.8860886219071996}.\n",
      "[I 2025-05-15 00:13:21,364] Trial 111 finished with values: [0.6850088685886537, 0.06347349391945431] and parameters: {'alpha': 0.9374283216392799, 'max_depth': 4, 'eta': 0.21901686836526663, 'subsample': 0.9484267667156939, 'colsample_bytree': 0.6637752832360532}.\n",
      "[I 2025-05-15 00:13:21,535] Trial 112 finished with values: [0.6742915085178275, 0.06287519892183942] and parameters: {'alpha': 0.33410905888453724, 'max_depth': 5, 'eta': 0.26353631120137416, 'subsample': 0.807108008558591, 'colsample_bytree': 0.8914441862273623}.\n",
      "[I 2025-05-15 00:13:21,707] Trial 113 finished with values: [0.6971338682057268, 0.07189756584477361] and parameters: {'alpha': 0.8694173170637239, 'max_depth': 7, 'eta': 0.10665161819887829, 'subsample': 0.8986254808223761, 'colsample_bytree': 0.8860886219071996}.\n",
      "[I 2025-05-15 00:13:22,039] Trial 114 finished with values: [0.6771558022626388, 0.02591326470244402] and parameters: {'alpha': 0.22601217229786574, 'max_depth': 5, 'eta': 0.19810848214733548, 'subsample': 0.8812377161978379, 'colsample_bytree': 0.8683286243209352}.\n",
      "[I 2025-05-15 00:13:22,207] Trial 115 finished with values: [0.6657261980253222, 0.03035909739884259] and parameters: {'alpha': 0.207555894004804, 'max_depth': 6, 'eta': 0.09842796906661785, 'subsample': 0.7126649411379313, 'colsample_bytree': 0.74932718101053}.\n",
      "[I 2025-05-15 00:13:22,371] Trial 116 finished with values: [0.6935726473732742, 0.06427961172900427] and parameters: {'alpha': 0.5942243705502642, 'max_depth': 6, 'eta': 0.16517261972833314, 'subsample': 0.816945362529064, 'colsample_bytree': 0.7906526607305479}.\n",
      "[I 2025-05-15 00:13:22,628] Trial 117 finished with values: [0.7035593827829908, 0.08973223269966712] and parameters: {'alpha': 0.7320277075158752, 'max_depth': 7, 'eta': 0.28760480587079923, 'subsample': 0.6570128253447326, 'colsample_bytree': 0.8328080451519773}.\n",
      "[I 2025-05-15 00:13:22,768] Trial 118 finished with values: [0.7121323518149207, 0.08166896638386097] and parameters: {'alpha': 0.6361776846639763, 'max_depth': 7, 'eta': 0.21500273048430651, 'subsample': 0.9984601149714915, 'colsample_bytree': 0.8415750848598711}.\n",
      "[I 2025-05-15 00:13:22,873] Trial 119 finished with values: [0.6714379367282106, 0.021051291962818037] and parameters: {'alpha': 0.18501121989606373, 'max_depth': 3, 'eta': 0.2783693514633372, 'subsample': 0.9178828629129187, 'colsample_bytree': 0.9484245577810909}.\n",
      "[I 2025-05-15 00:13:22,992] Trial 120 finished with values: [0.5000061268315397, 0.0] and parameters: {'alpha': 0.006398238570445525, 'max_depth': 7, 'eta': 0.1835864240964316, 'subsample': 0.872143282534935, 'colsample_bytree': 0.9532604182421414}.\n",
      "[I 2025-05-15 00:13:23,122] Trial 121 finished with values: [0.6635802752785411, 0.027135580467063325] and parameters: {'alpha': 0.2373245523095734, 'max_depth': 3, 'eta': 0.1108788641250333, 'subsample': 0.6570128253447326, 'colsample_bytree': 0.9719476367211987}.\n",
      "[I 2025-05-15 00:13:23,269] Trial 122 finished with values: [0.6885624308816817, 0.06021983162261258] and parameters: {'alpha': 0.5494552396939458, 'max_depth': 5, 'eta': 0.24780138596990386, 'subsample': 0.9604171906491878, 'colsample_bytree': 0.9183903573176179}.\n",
      "[I 2025-05-15 00:13:23,380] Trial 123 finished with values: [0.6821568285069217, 0.05551332572189003] and parameters: {'alpha': 0.5276849024270673, 'max_depth': 4, 'eta': 0.21901686836526663, 'subsample': 0.8376771934629543, 'colsample_bytree': 0.686670225449568}.\n",
      "[I 2025-05-15 00:13:23,479] Trial 124 finished with values: [0.672154776018356, 0.04252073363910793] and parameters: {'alpha': 0.18608839247901676, 'max_depth': 6, 'eta': 0.14769430630586858, 'subsample': 0.7126649411379313, 'colsample_bytree': 0.74932718101053}.\n",
      "[I 2025-05-15 00:13:23,570] Trial 125 finished with values: [0.6771573339705238, 0.02556401536555798] and parameters: {'alpha': 0.20471483943930935, 'max_depth': 3, 'eta': 0.26763799019617446, 'subsample': 0.6950815747717355, 'colsample_bytree': 0.6936481763284024}.\n",
      "[I 2025-05-15 00:13:23,715] Trial 126 finished with values: [0.6600144593224337, 0.02890824452428209] and parameters: {'alpha': 0.207555894004804, 'max_depth': 3, 'eta': 0.022610953720276005, 'subsample': 0.7126649411379313, 'colsample_bytree': 0.74932718101053}.\n",
      "[I 2025-05-15 00:13:23,820] Trial 127 finished with values: [0.6507215875845885, 0.027736614542580928] and parameters: {'alpha': 0.10738648828010866, 'max_depth': 4, 'eta': 0.07257095200779526, 'subsample': 0.839446763629717, 'colsample_bytree': 0.938607954432039}.\n",
      "[I 2025-05-15 00:13:23,937] Trial 128 finished with values: [0.6657154760701277, 0.01783925283981404] and parameters: {'alpha': 0.10738648828010866, 'max_depth': 6, 'eta': 0.29194471208062406, 'subsample': 0.8758455219682513, 'colsample_bytree': 0.8357944840415586}.\n",
      "[I 2025-05-15 00:13:24,038] Trial 129 finished with values: [0.6657277297332072, 0.021151419256499455] and parameters: {'alpha': 0.287597006942267, 'max_depth': 3, 'eta': 0.21395809318121486, 'subsample': 0.8986254808223761, 'colsample_bytree': 0.6276974181987566}.\n",
      "[I 2025-05-15 00:13:24,154] Trial 130 finished with values: [0.6742915085178275, 0.04235819146074926] and parameters: {'alpha': 0.18501121989606373, 'max_depth': 5, 'eta': 0.21901686836526663, 'subsample': 0.807108008558591, 'colsample_bytree': 0.988347587019417}.\n",
      "[I 2025-05-15 00:13:24,271] Trial 131 finished with values: [0.6664399738996977, 0.05258007546886073] and parameters: {'alpha': 0.7322567767359832, 'max_depth': 3, 'eta': 0.24780138596990386, 'subsample': 0.7482049238349794, 'colsample_bytree': 0.9167254688767685}.\n",
      "[I 2025-05-15 00:13:24,422] Trial 132 finished with values: [0.682855287302448, 0.06389128634330264] and parameters: {'alpha': 0.9001315171601973, 'max_depth': 6, 'eta': 0.09842796906661785, 'subsample': 0.7126649411379313, 'colsample_bytree': 0.74932718101053}.\n",
      "[I 2025-05-15 00:13:24,532] Trial 133 finished with values: [0.6628710945278204, 0.03914956909375938] and parameters: {'alpha': 0.7320277075158752, 'max_depth': 3, 'eta': 0.1108788641250333, 'subsample': 0.6950815747717355, 'colsample_bytree': 0.9719476367211987}.\n",
      "[I 2025-05-15 00:13:24,657] Trial 134 finished with values: [0.701424181991404, 0.07003120663385266] and parameters: {'alpha': 0.9055674891403165, 'max_depth': 6, 'eta': 0.26763799019617446, 'subsample': 0.8472770656657291, 'colsample_bytree': 0.939918536631748}.\n",
      "[I 2025-05-15 00:13:24,805] Trial 135 finished with values: [0.6849981466334594, 0.07283612871725685] and parameters: {'alpha': 0.8156904481914313, 'max_depth': 7, 'eta': 0.08222145059601793, 'subsample': 0.9569722158083185, 'colsample_bytree': 0.6582050854257755}.\n",
      "[I 2025-05-15 00:13:24,919] Trial 136 finished with values: [0.6671414961109936, 0.029648609287942534] and parameters: {'alpha': 0.16290394310939027, 'max_depth': 5, 'eta': 0.27499741563348057, 'subsample': 0.807108008558591, 'colsample_bytree': 0.9611620505991075}.\n",
      "[I 2025-05-15 00:13:25,031] Trial 137 finished with values: [0.6885869382078406, 0.05450259139856924] and parameters: {'alpha': 0.8686824230062049, 'max_depth': 4, 'eta': 0.19333733365237904, 'subsample': 0.8766689480595029, 'colsample_bytree': 0.74932718101053}.\n",
      "[I 2025-05-15 00:13:25,156] Trial 138 finished with values: [0.6864287617979801, 0.05506220421825873] and parameters: {'alpha': 0.6595256514946123, 'max_depth': 6, 'eta': 0.1835864240964316, 'subsample': 0.7126649411379313, 'colsample_bytree': 0.6846054564616372}.\n",
      "[I 2025-05-15 00:13:25,361] Trial 139 finished with values: [0.6728685518927314, 0.02233212350390894] and parameters: {'alpha': 0.603873756457065, 'max_depth': 5, 'eta': 0.07054529545386716, 'subsample': 0.8130088637521733, 'colsample_bytree': 0.7076662287280119}.\n",
      "[I 2025-05-15 00:13:25,497] Trial 140 finished with values: [0.6693012042287391, 0.019116551941818345] and parameters: {'alpha': 0.22601217229786574, 'max_depth': 4, 'eta': 0.05148993795553561, 'subsample': 0.7482049238349794, 'colsample_bytree': 0.9171521282961637}.\n",
      "[I 2025-05-15 00:13:25,633] Trial 141 finished with values: [0.6992889811998175, 0.10198681404954] and parameters: {'alpha': 0.906592605049076, 'max_depth': 7, 'eta': 0.21500273048430651, 'subsample': 0.8812051164262348, 'colsample_bytree': 0.8415750848598711}.\n",
      "[I 2025-05-15 00:13:25,801] Trial 142 finished with values: [0.6992782592446231, 0.06175403368828413] and parameters: {'alpha': 0.6505837122947494, 'max_depth': 7, 'eta': 0.1108788641250333, 'subsample': 0.8472770656657291, 'colsample_bytree': 0.9622654029941706}.\n",
      "[I 2025-05-15 00:13:25,921] Trial 143 finished with values: [0.6642986462765713, 0.04223505166342543] and parameters: {'alpha': 0.6361776846639763, 'max_depth': 3, 'eta': 0.09959498795442887, 'subsample': 0.8766689480595029, 'colsample_bytree': 0.8415750848598711}.\n",
      "[I 2025-05-15 00:13:26,132] Trial 144 finished with values: [0.6942986769107291, 0.047184606091170346] and parameters: {'alpha': 0.8694173170637239, 'max_depth': 7, 'eta': 0.11212601398592194, 'subsample': 0.8493505201360313, 'colsample_bytree': 0.6268842887986352}.\n",
      "[I 2025-05-15 00:13:26,459] Trial 145 finished with values: [0.6857119225078346, 0.04999471168195829] and parameters: {'alpha': 0.7320277075158752, 'max_depth': 4, 'eta': 0.29097288755209116, 'subsample': 0.9604171906491878, 'colsample_bytree': 0.9719476367211987}.\n",
      "[I 2025-05-15 00:13:26,725] Trial 146 finished with values: [0.6664307836523881, 0.021685529068743752] and parameters: {'alpha': 0.257520937338237, 'max_depth': 6, 'eta': 0.09842796906661785, 'subsample': 0.7482049238349794, 'colsample_bytree': 0.6010096486579354}.\n",
      "[I 2025-05-15 00:13:26,866] Trial 147 finished with values: [0.7014211185756342, 0.06277892861462023] and parameters: {'alpha': 0.9514033263041299, 'max_depth': 5, 'eta': 0.26353631120137416, 'subsample': 0.807108008558591, 'colsample_bytree': 0.8914441862273623}.\n",
      "[I 2025-05-15 00:13:26,990] Trial 148 finished with values: [0.6728700836006164, 0.043158974079304475] and parameters: {'alpha': 0.19870684902254054, 'max_depth': 3, 'eta': 0.19810848214733548, 'subsample': 0.7353221600284813, 'colsample_bytree': 0.9532604182421414}.\n",
      "[I 2025-05-15 00:13:27,116] Trial 149 finished with values: [0.6878670355019253, 0.048950375193180344] and parameters: {'alpha': 0.2265762650580958, 'max_depth': 5, 'eta': 0.24431474510203355, 'subsample': 0.7645830844743573, 'colsample_bytree': 0.9470663310028509}.\n",
      "[I 2025-05-15 00:13:27,282] Trial 150 finished with values: [0.6899899826304324, 0.06626249312381127] and parameters: {'alpha': 0.5613950130158137, 'max_depth': 7, 'eta': 0.1108788641250333, 'subsample': 0.8472770656657291, 'colsample_bytree': 0.8713431653582985}.\n",
      "[I 2025-05-15 00:13:27,418] Trial 151 finished with values: [0.6643032414002261, 0.009333177112693963] and parameters: {'alpha': 0.12082713516430721, 'max_depth': 7, 'eta': 0.10022879453843885, 'subsample': 0.6631956570556669, 'colsample_bytree': 0.7171393924105901}.\n",
      "[I 2025-05-15 00:13:27,523] Trial 152 finished with values: [0.6678690573563335, 0.031228017324900853] and parameters: {'alpha': 0.5295030032489474, 'max_depth': 3, 'eta': 0.13031205084525233, 'subsample': 0.6950815747717355, 'colsample_bytree': 0.939918536631748}.\n",
      "[I 2025-05-15 00:13:27,665] Trial 153 finished with values: [0.6735731375197972, 0.0531619737267699] and parameters: {'alpha': 0.21557274389085612, 'max_depth': 5, 'eta': 0.08222145059601793, 'subsample': 0.9911669606719054, 'colsample_bytree': 0.9965860976559494}.\n",
      "[I 2025-05-15 00:13:27,817] Trial 154 finished with values: [0.6714348733124408, 0.03677048000957084] and parameters: {'alpha': 0.16063943092964839, 'max_depth': 7, 'eta': 0.10665161819887829, 'subsample': 0.7482049238349794, 'colsample_bytree': 0.8396377452684893}.\n",
      "[I 2025-05-15 00:13:27,944] Trial 155 finished with values: [0.6914221295028383, 0.07536556875962964] and parameters: {'alpha': 0.5564051049467539, 'max_depth': 5, 'eta': 0.2779614782997039, 'subsample': 0.797094037430133, 'colsample_bytree': 0.7974042815456673}.\n",
      "[I 2025-05-15 00:13:28,037] Trial 156 finished with values: [0.5000061268315397, 0.0] and parameters: {'alpha': 0.006398238570445525, 'max_depth': 5, 'eta': 0.1835864240964316, 'subsample': 0.6766262078975724, 'colsample_bytree': 0.938607954432039}.\n",
      "[I 2025-05-15 00:13:28,159] Trial 157 finished with values: [0.6985721419096721, 0.08578704876774353] and parameters: {'alpha': 0.9776539749992833, 'max_depth': 5, 'eta': 0.26353631120137416, 'subsample': 0.7645830844743573, 'colsample_bytree': 0.8522432339692516}.\n",
      "[I 2025-05-15 00:13:28,297] Trial 158 finished with values: [0.6792955981778803, 0.05022239796642236] and parameters: {'alpha': 0.2265762650580958, 'max_depth': 5, 'eta': 0.19679810188164876, 'subsample': 0.7645830844743573, 'colsample_bytree': 0.9470663310028509}.\n",
      "[I 2025-05-15 00:13:28,446] Trial 159 finished with values: [0.7085741943982379, 0.06724561327266587] and parameters: {'alpha': 0.9776062185303493, 'max_depth': 7, 'eta': 0.23212779617479912, 'subsample': 0.6046094470122073, 'colsample_bytree': 0.7332782840099421}.\n",
      "[I 2025-05-15 00:13:28,575] Trial 160 finished with values: [0.692854276375244, 0.05005865960992203] and parameters: {'alpha': 0.5043899377301401, 'max_depth': 6, 'eta': 0.15511827510132917, 'subsample': 0.8075386441531452, 'colsample_bytree': 0.8860886219071996}.\n",
      "[I 2025-05-15 00:13:28,730] Trial 161 finished with values: [0.689279270171827, 0.05735881053962805] and parameters: {'alpha': 0.6343998300636343, 'max_depth': 7, 'eta': 0.07955104018076958, 'subsample': 0.839446763629717, 'colsample_bytree': 0.938607954432039}.\n",
      "[I 2025-05-15 00:13:28,864] Trial 162 finished with values: [0.6892838652954819, 0.05325575939082897] and parameters: {'alpha': 0.906592605049076, 'max_depth': 5, 'eta': 0.10109672102731218, 'subsample': 0.8330421649085545, 'colsample_bytree': 0.9222899638012406}.\n",
      "[I 2025-05-15 00:13:28,978] Trial 163 finished with values: [0.6693012042287391, 0.02471323581396721] and parameters: {'alpha': 0.10738648828010866, 'max_depth': 5, 'eta': 0.20415392365869678, 'subsample': 0.6197623688375392, 'colsample_bytree': 0.6010096486579354}.\n",
      "[I 2025-05-15 00:13:29,095] Trial 164 finished with values: [0.6985706102017871, 0.08418957875789036] and parameters: {'alpha': 0.9374283216392799, 'max_depth': 5, 'eta': 0.21901686836526663, 'subsample': 0.807108008558591, 'colsample_bytree': 0.7702658091150018}.\n",
      "[I 2025-05-15 00:13:29,211] Trial 165 finished with values: [0.6714425318518655, 0.054823146370181514] and parameters: {'alpha': 0.8694173170637239, 'max_depth': 4, 'eta': 0.10665161819887829, 'subsample': 0.8376771934629543, 'colsample_bytree': 0.7291809248274769}.\n",
      "[I 2025-05-15 00:13:29,318] Trial 166 finished with values: [0.6721425223552765, 0.04073056982832785] and parameters: {'alpha': 0.8694173170637239, 'max_depth': 3, 'eta': 0.21901686836526663, 'subsample': 0.807108008558591, 'colsample_bytree': 0.8860886219071996}.\n",
      "[I 2025-05-15 00:13:29,452] Trial 167 finished with values: [0.6657338565647469, 0.01686372652108074] and parameters: {'alpha': 0.12082713516430721, 'max_depth': 4, 'eta': 0.10022879453843885, 'subsample': 0.6631956570556669, 'colsample_bytree': 0.6268842887986352}.\n",
      "[I 2025-05-15 00:13:29,673] Trial 168 finished with values: [0.6785634418088858, 0.0572687875254382] and parameters: {'alpha': 0.8694173170637239, 'max_depth': 5, 'eta': 0.014111084819923958, 'subsample': 0.8493505201360313, 'colsample_bytree': 0.9470663310028509}.\n",
      "[I 2025-05-15 00:13:29,787] Trial 169 finished with values: [0.6828568190103329, 0.059809969891057545] and parameters: {'alpha': 0.8694173170637239, 'max_depth': 4, 'eta': 0.23813647636124352, 'subsample': 0.7482049238349794, 'colsample_bytree': 0.7232367723775055}.\n",
      "[I 2025-05-15 00:13:29,954] Trial 170 finished with values: [0.6714425318518655, 0.04465195993657923] and parameters: {'alpha': 0.6595256514946123, 'max_depth': 3, 'eta': 0.1835864240964316, 'subsample': 0.7030265470841851, 'colsample_bytree': 0.6276974181987566}.\n",
      "[I 2025-05-15 00:13:30,026] Trial 171 finished with values: [0.6707226291459504, 0.012983203043084202] and parameters: {'alpha': 0.023651658030303224, 'max_depth': 7, 'eta': 0.21500273048430651, 'subsample': 0.9984601149714915, 'colsample_bytree': 0.9222899638012406}.\n",
      "[I 2025-05-15 00:13:30,100] Trial 172 finished with values: [0.679280281099031, 0.041233174834123525] and parameters: {'alpha': 0.18608839247901676, 'max_depth': 6, 'eta': 0.19810848214733548, 'subsample': 0.9178828629129187, 'colsample_bytree': 0.9118320885721635}.\n",
      "[I 2025-05-15 00:13:30,192] Trial 173 finished with values: [0.7042869440283305, 0.049377795343286644] and parameters: {'alpha': 0.9374283216392799, 'max_depth': 5, 'eta': 0.21901686836526663, 'subsample': 0.807108008558591, 'colsample_bytree': 0.9611620505991075}.\n",
      "[I 2025-05-15 00:13:30,292] Trial 174 finished with values: [0.685002741757114, 0.04589843172296267] and parameters: {'alpha': 0.5295030032489474, 'max_depth': 4, 'eta': 0.26763799019617446, 'subsample': 0.6950815747717355, 'colsample_bytree': 0.939918536631748}.\n",
      "[I 2025-05-15 00:13:30,466] Trial 175 finished with values: [0.6857165176314896, 0.06016253743125147] and parameters: {'alpha': 0.9374283216392799, 'max_depth': 5, 'eta': 0.10665161819887829, 'subsample': 0.6680599948474099, 'colsample_bytree': 0.9611620505991075}.\n",
      "[I 2025-05-15 00:13:30,687] Trial 176 finished with values: [0.6793017250094199, 0.0207567729734832] and parameters: {'alpha': 0.22601217229786574, 'max_depth': 6, 'eta': 0.23813647636124352, 'subsample': 0.7126649411379313, 'colsample_bytree': 0.7171393924105901}.\n",
      "[I 2025-05-15 00:13:31,069] Trial 177 finished with values: [0.6892853970033667, 0.07893155757563476] and parameters: {'alpha': 0.8694173170637239, 'max_depth': 6, 'eta': 0.10665161819887829, 'subsample': 0.8376771934629543, 'colsample_bytree': 0.8357944840415586}.\n",
      "[I 2025-05-15 00:13:31,134] Trial 178 finished with values: [0.5000061268315397, 0.0] and parameters: {'alpha': 0.006398238570445525, 'max_depth': 7, 'eta': 0.1835864240964316, 'subsample': 0.871229825323997, 'colsample_bytree': 0.9532604182421414}.\n",
      "[I 2025-05-15 00:13:31,209] Trial 179 finished with values: [0.6685751746912842, 0.03379508511719942] and parameters: {'alpha': 0.6361776846639763, 'max_depth': 3, 'eta': 0.21395809318121486, 'subsample': 0.8986254808223761, 'colsample_bytree': 0.8415750848598711}.\n",
      "[I 2025-05-15 00:13:31,307] Trial 180 finished with values: [0.6735762009355671, 0.06357982012453757] and parameters: {'alpha': 0.29424488247558067, 'max_depth': 5, 'eta': 0.1697073555976186, 'subsample': 0.807108008558591, 'colsample_bytree': 0.8282766798260931}.\n",
      "[I 2025-05-15 00:13:31,401] Trial 181 finished with values: [0.6878563135467308, 0.056108861697075206] and parameters: {'alpha': 0.2265762650580958, 'max_depth': 6, 'eta': 0.24431474510203355, 'subsample': 0.9043054834046271, 'colsample_bytree': 0.9470663310028509}.\n",
      "[I 2025-05-15 00:13:31,493] Trial 182 finished with values: [0.7092879702726135, 0.08971957766556533] and parameters: {'alpha': 0.5295030032489474, 'max_depth': 7, 'eta': 0.26763799019617446, 'subsample': 0.6950815747717355, 'colsample_bytree': 0.939918536631748}.\n",
      "[I 2025-05-15 00:13:31,572] Trial 183 finished with values: [0.6678705890642184, 0.014814312980260999] and parameters: {'alpha': 0.22601217229786574, 'max_depth': 4, 'eta': 0.23813647636124352, 'subsample': 0.7482049238349794, 'colsample_bytree': 0.7171393924105901}.\n",
      "[I 2025-05-15 00:13:31,679] Trial 184 finished with values: [0.6828598824261028, 0.06842672474979435] and parameters: {'alpha': 0.6595256514946123, 'max_depth': 7, 'eta': 0.11212601398592194, 'subsample': 0.7126649411379313, 'colsample_bytree': 0.7566146463132896}.\n",
      "[I 2025-05-15 00:13:31,782] Trial 185 finished with values: [0.6842904975906235, 0.10383064171404366] and parameters: {'alpha': 0.7906207105191291, 'max_depth': 6, 'eta': 0.1835864240964316, 'subsample': 0.7126649411379313, 'colsample_bytree': 0.8357944840415586}.\n",
      "[I 2025-05-15 00:13:31,965] Trial 186 finished with values: [0.6907160121678874, 0.08498748832379661] and parameters: {'alpha': 0.9374283216392799, 'max_depth': 6, 'eta': 0.14769430630586858, 'subsample': 0.9178828629129187, 'colsample_bytree': 0.6836204526422959}.\n",
      "[I 2025-05-15 00:13:32,031] Trial 187 finished with values: [0.5000061268315397, 0.0] and parameters: {'alpha': 0.006398238570445525, 'max_depth': 4, 'eta': 0.1835864240964316, 'subsample': 0.6500142472469429, 'colsample_bytree': 0.6245073635344549}.\n",
      "[I 2025-05-15 00:13:32,105] Trial 188 finished with values: [0.676432836140954, 0.043888458270376386] and parameters: {'alpha': 0.18501121989606373, 'max_depth': 6, 'eta': 0.14769430630586858, 'subsample': 0.9178828629129187, 'colsample_bytree': 0.988347587019417}.\n",
      "[I 2025-05-15 00:13:32,176] Trial 189 finished with values: [0.6807093645556669, 0.038951769535838815] and parameters: {'alpha': 0.8694173170637239, 'max_depth': 4, 'eta': 0.10665161819887829, 'subsample': 0.8032949746138668, 'colsample_bytree': 0.8860886219071996}.\n",
      "[I 2025-05-15 00:13:32,256] Trial 190 finished with values: [0.6671491546504184, 0.01448676226908463] and parameters: {'alpha': 0.20471483943930935, 'max_depth': 4, 'eta': 0.23519319248320233, 'subsample': 0.807108008558591, 'colsample_bytree': 0.6346180096533811}.\n",
      "[I 2025-05-15 00:13:32,400] Trial 191 finished with values: [0.6942986769107291, 0.047184606091170346] and parameters: {'alpha': 0.8694173170637239, 'max_depth': 7, 'eta': 0.11212601398592194, 'subsample': 0.8493505201360313, 'colsample_bytree': 0.6268842887986352}.\n",
      "[I 2025-05-15 00:13:32,544] Trial 192 finished with values: [0.5000061268315397, 0.0] and parameters: {'alpha': 0.006398238570445525, 'max_depth': 7, 'eta': 0.21500273048430651, 'subsample': 0.9984601149714915, 'colsample_bytree': 0.6846054564616372}.\n",
      "[I 2025-05-15 00:13:32,755] Trial 193 finished with values: [0.6828660092576424, 0.0197279508804216] and parameters: {'alpha': 0.20471483943930935, 'max_depth': 6, 'eta': 0.2783693514633372, 'subsample': 0.6941145261093852, 'colsample_bytree': 0.6936481763284024}.\n",
      "[I 2025-05-15 00:13:33,009] Trial 194 finished with values: [0.6928573397910137, 0.05700574714349189] and parameters: {'alpha': 0.8694173170637239, 'max_depth': 5, 'eta': 0.10665161819887829, 'subsample': 0.8376771934629543, 'colsample_bytree': 0.8860886219071996}.\n",
      "[I 2025-05-15 00:13:33,264] Trial 195 finished with values: [0.6735716058119124, 0.029212385975716054] and parameters: {'alpha': 0.2265762650580958, 'max_depth': 4, 'eta': 0.16390381254480987, 'subsample': 0.807108008558591, 'colsample_bytree': 0.9470663310028509}.\n",
      "[I 2025-05-15 00:13:33,574] Trial 196 finished with values: [0.6635802752785411, 0.019667305233082365] and parameters: {'alpha': 0.10738648828010866, 'max_depth': 4, 'eta': 0.29194471208062406, 'subsample': 0.8758455219682513, 'colsample_bytree': 0.8357944840415586}.\n",
      "[I 2025-05-15 00:13:33,945] Trial 197 finished with values: [0.686427230090095, 0.08018549296366216] and parameters: {'alpha': 0.4590568074465802, 'max_depth': 7, 'eta': 0.21500273048430651, 'subsample': 0.6035472660314917, 'colsample_bytree': 0.8914441862273623}.\n",
      "[I 2025-05-15 00:13:34,244] Trial 198 finished with values: [0.6800078423443708, 0.036824716483265796] and parameters: {'alpha': 0.3490858029574224, 'max_depth': 6, 'eta': 0.27499741563348057, 'subsample': 0.7126649411379313, 'colsample_bytree': 0.6276974181987566}.\n",
      "[I 2025-05-15 00:13:34,519] Trial 199 finished with values: [0.6835859119635576, 0.04320172227060517] and parameters: {'alpha': 0.3490858029574224, 'max_depth': 3, 'eta': 0.27499741563348057, 'subsample': 0.8472770656657291, 'colsample_bytree': 0.6276974181987566}.\n",
      "[I 2025-05-15 00:13:34,822] Trial 200 finished with values: [0.6621557869455601, 0.019272824312374592] and parameters: {'alpha': 0.12082713516430721, 'max_depth': 7, 'eta': 0.06547131974353246, 'subsample': 0.6631956570556669, 'colsample_bytree': 0.939918536631748}.\n",
      "[I 2025-05-15 00:13:35,076] Trial 201 finished with values: [0.655008837954496, 0.01675285880442025] and parameters: {'alpha': 0.11886489843648873, 'max_depth': 5, 'eta': 0.13787635685820548, 'subsample': 0.9546646187830328, 'colsample_bytree': 0.9532604182421414}.\n",
      "[I 2025-05-15 00:13:35,287] Trial 202 finished with values: [0.6664415056075825, 0.05843923270633499] and parameters: {'alpha': 0.995825404495576, 'max_depth': 3, 'eta': 0.1835864240964316, 'subsample': 0.6950815747717355, 'colsample_bytree': 0.939918536631748}.\n",
      "[I 2025-05-15 00:13:35,578] Trial 203 finished with values: [0.6971461218688061, 0.0680561335568868] and parameters: {'alpha': 0.6649945393601391, 'max_depth': 7, 'eta': 0.21500273048430651, 'subsample': 0.9984601149714915, 'colsample_bytree': 0.686670225449568}.\n",
      "[I 2025-05-15 00:13:35,757] Trial 204 finished with values: [0.5000061268315397, 0.0] and parameters: {'alpha': 0.006398238570445525, 'max_depth': 7, 'eta': 0.21500273048430651, 'subsample': 0.872143282534935, 'colsample_bytree': 0.9532604182421414}.\n",
      "[I 2025-05-15 00:13:35,976] Trial 205 finished with values: [0.672154776018356, 0.042125600593517165] and parameters: {'alpha': 0.4476068672562553, 'max_depth': 3, 'eta': 0.26763799019617446, 'subsample': 0.8027224278952518, 'colsample_bytree': 0.7332782840099421}.\n",
      "[I 2025-05-15 00:13:36,320] Trial 206 finished with values: [0.6964216240392362, 0.06233281636201981] and parameters: {'alpha': 0.6505837122947494, 'max_depth': 7, 'eta': 0.11212601398592194, 'subsample': 0.8472770656657291, 'colsample_bytree': 0.9622654029941706}.\n",
      "[I 2025-05-15 00:13:36,579] Trial 207 finished with values: [0.6550073062466111, 0.022126840765020694] and parameters: {'alpha': 0.12082713516430721, 'max_depth': 4, 'eta': 0.27499741563348057, 'subsample': 0.7973742610680247, 'colsample_bytree': 0.6276974181987566}.\n",
      "[I 2025-05-15 00:13:36,930] Trial 208 finished with values: [0.6821552967990369, 0.021253519949514355] and parameters: {'alpha': 0.20471483943930935, 'max_depth': 6, 'eta': 0.2680814112465244, 'subsample': 0.6941145261093852, 'colsample_bytree': 0.6936481763284024}.\n",
      "[I 2025-05-15 00:13:37,233] Trial 209 finished with values: [0.6907052902126929, 0.07459996826884883] and parameters: {'alpha': 0.8694173170637239, 'max_depth': 4, 'eta': 0.26763799019617446, 'subsample': 0.807108008558591, 'colsample_bytree': 0.8860886219071996}.\n",
      "[I 2025-05-15 00:13:37,826] Trial 210 finished with values: [0.7028517337401549, 0.06409090269405936] and parameters: {'alpha': 0.7833632675091445, 'max_depth': 7, 'eta': 0.21901686836526663, 'subsample': 0.807108008558591, 'colsample_bytree': 0.6268842887986352}.\n",
      "[I 2025-05-15 00:13:38,023] Trial 211 finished with values: [0.5000061268315397, 0.0] and parameters: {'alpha': 0.006398238570445525, 'max_depth': 7, 'eta': 0.1835864240964316, 'subsample': 0.6766262078975724, 'colsample_bytree': 0.6624630554926771}.\n",
      "[I 2025-05-15 00:13:38,315] Trial 212 finished with values: [0.6900052997092819, 0.049495475584753805] and parameters: {'alpha': 0.9374283216392799, 'max_depth': 4, 'eta': 0.23813647636124352, 'subsample': 0.7482049238349794, 'colsample_bytree': 0.9611620505991075}.\n",
      "[I 2025-05-15 00:13:38,630] Trial 213 finished with values: [0.7107124586055944, 0.0777476677693547] and parameters: {'alpha': 0.9514033263041299, 'max_depth': 6, 'eta': 0.2849042647217977, 'subsample': 0.8758455219682513, 'colsample_bytree': 0.8914441862273623}.\n",
      "[I 2025-05-15 00:13:38,922] Trial 214 finished with values: [0.6750098795158577, 0.04861200762422855] and parameters: {'alpha': 0.5847831650272838, 'max_depth': 4, 'eta': 0.1835864240964316, 'subsample': 0.6500142472469429, 'colsample_bytree': 0.836525211278095}.\n",
      "[I 2025-05-15 00:13:39,135] Trial 215 finished with values: [0.6878639720861556, 0.04774475813086085] and parameters: {'alpha': 0.4924783513518751, 'max_depth': 4, 'eta': 0.2911629127844875, 'subsample': 0.8472770656657291, 'colsample_bytree': 0.9532604182421414}.\n",
      "[I 2025-05-15 00:13:39,707] Trial 216 finished with values: [0.6864333569216349, 0.0934448796513843] and parameters: {'alpha': 0.9776062185303493, 'max_depth': 7, 'eta': 0.012828928835866622, 'subsample': 0.6699766977345829, 'colsample_bytree': 0.7332782840099421}.\n",
      "[I 2025-05-15 00:13:39,957] Trial 217 finished with values: [0.6957170384121704, 0.07285748605911507] and parameters: {'alpha': 0.8694173170637239, 'max_depth': 7, 'eta': 0.10665161819887829, 'subsample': 0.825786445296387, 'colsample_bytree': 0.7705569528103675}.\n",
      "[I 2025-05-15 00:13:40,145] Trial 218 finished with values: [0.6707226291459504, 0.012983203043084202] and parameters: {'alpha': 0.023651658030303224, 'max_depth': 4, 'eta': 0.21500273048430651, 'subsample': 0.6500142472469429, 'colsample_bytree': 0.9222899638012406}.\n",
      "[I 2025-05-15 00:13:40,352] Trial 219 finished with values: [0.6678690573563335, 0.016220253530731726] and parameters: {'alpha': 0.08790201788762309, 'max_depth': 7, 'eta': 0.14769430630586858, 'subsample': 0.7126649411379313, 'colsample_bytree': 0.8282766798260931}.\n",
      "[I 2025-05-15 00:13:40,582] Trial 220 finished with values: [0.6999966302426531, 0.08385540260288449] and parameters: {'alpha': 0.8414171920753525, 'max_depth': 6, 'eta': 0.23212779617479912, 'subsample': 0.8126899029458226, 'colsample_bytree': 0.7332782840099421}.\n",
      "[I 2025-05-15 00:13:40,739] Trial 221 finished with values: [0.5000061268315397, 0.0] and parameters: {'alpha': 0.006398238570445525, 'max_depth': 6, 'eta': 0.15511827510132917, 'subsample': 0.7126649411379313, 'colsample_bytree': 0.6846054564616372}.\n",
      "[I 2025-05-15 00:13:40,917] Trial 222 finished with values: [0.5000061268315397, 0.0] and parameters: {'alpha': 0.006398238570445525, 'max_depth': 6, 'eta': 0.10749039742554378, 'subsample': 0.807108008558591, 'colsample_bytree': 0.6346180096533811}.\n",
      "[I 2025-05-15 00:13:41,135] Trial 223 finished with values: [0.6721517126025861, 0.03615057889637711] and parameters: {'alpha': 0.9165881306974631, 'max_depth': 3, 'eta': 0.2783693514633372, 'subsample': 0.6941145261093852, 'colsample_bytree': 0.6936481763284024}.\n",
      "[I 2025-05-15 00:13:41,313] Trial 224 finished with values: [0.5000061268315397, 0.0] and parameters: {'alpha': 0.0018713778605690123, 'max_depth': 7, 'eta': 0.07253350513913152, 'subsample': 0.8088010652239656, 'colsample_bytree': 0.6268842887986352}.\n",
      "[I 2025-05-15 00:13:41,543] Trial 225 finished with values: [0.7064313350672267, 0.07761439506220962] and parameters: {'alpha': 0.7745806010991928, 'max_depth': 5, 'eta': 0.27251375579277987, 'subsample': 0.807108008558591, 'colsample_bytree': 0.6090881393762712}.\n",
      "[I 2025-05-15 00:13:41,752] Trial 226 finished with values: [0.6621435332824807, 0.015188384380906741] and parameters: {'alpha': 0.22601217229786574, 'max_depth': 4, 'eta': 0.11212601398592194, 'subsample': 0.7775881229180799, 'colsample_bytree': 0.7171393924105901}.\n",
      "[I 2025-05-15 00:13:41,932] Trial 227 finished with values: [0.5000061268315397, 0.0] and parameters: {'alpha': 0.006398238570445525, 'max_depth': 7, 'eta': 0.24431474510203355, 'subsample': 0.7645830844743573, 'colsample_bytree': 0.6846054564616372}.\n",
      "[I 2025-05-15 00:13:42,180] Trial 228 finished with values: [0.6700011947321501, 0.05555755731425193] and parameters: {'alpha': 0.345506067967711, 'max_depth': 5, 'eta': 0.10665161819887829, 'subsample': 0.8376771934629543, 'colsample_bytree': 0.8860886219071996}.\n",
      "[I 2025-05-15 00:13:42,377] Trial 229 finished with values: [0.5000061268315397, 0.0] and parameters: {'alpha': 0.006398238570445525, 'max_depth': 4, 'eta': 0.05148993795553561, 'subsample': 0.6500142472469429, 'colsample_bytree': 0.9171521282961637}.\n",
      "[I 2025-05-15 00:13:42,598] Trial 230 finished with values: [0.6685782381070542, 0.054902936262004744] and parameters: {'alpha': 0.7150892428725474, 'max_depth': 3, 'eta': 0.26763799019617446, 'subsample': 0.6950815747717355, 'colsample_bytree': 0.9222899638012406}.\n",
      "[I 2025-05-15 00:13:42,757] Trial 231 finished with values: [0.5000061268315397, 0.0] and parameters: {'alpha': 0.006398238570445525, 'max_depth': 3, 'eta': 0.24026710755528385, 'subsample': 0.8376771934629543, 'colsample_bytree': 0.7894887198211535}.\n",
      "[I 2025-05-15 00:13:42,933] Trial 232 finished with values: [0.5000061268315397, 0.0] and parameters: {'alpha': 0.006398238570445525, 'max_depth': 5, 'eta': 0.10022879453843885, 'subsample': 0.6766262078975724, 'colsample_bytree': 0.6268842887986352}.\n",
      "[I 2025-05-15 00:13:43,213] Trial 233 finished with values: [0.6957262286594799, 0.06249312122603023] and parameters: {'alpha': 0.7744132562422301, 'max_depth': 6, 'eta': 0.19108532519342064, 'subsample': 0.7126649411379313, 'colsample_bytree': 0.938607954432039}.\n",
      "[I 2025-05-15 00:13:43,542] Trial 234 finished with values: [0.6628695628199356, 0.023879982227334628] and parameters: {'alpha': 0.8694173170637239, 'max_depth': 3, 'eta': 0.023996893255073315, 'subsample': 0.6950815747717355, 'colsample_bytree': 0.8860886219071996}.\n",
      "[I 2025-05-15 00:13:43,747] Trial 235 finished with values: [0.6728685518927314, 0.05089515155040835] and parameters: {'alpha': 0.20471483943930935, 'max_depth': 3, 'eta': 0.26763799019617446, 'subsample': 0.7829743344276071, 'colsample_bytree': 0.9218106951050028}.\n",
      "[I 2025-05-15 00:13:43,961] Trial 236 finished with values: [0.5000061268315397, 0.0] and parameters: {'alpha': 0.006398238570445525, 'max_depth': 5, 'eta': 0.1835864240964316, 'subsample': 0.8376771934629543, 'colsample_bytree': 0.6482350599140047}.\n",
      "[I 2025-05-15 00:13:44,138] Trial 237 finished with values: [0.5000061268315397, 0.0] and parameters: {'alpha': 0.006398238570445525, 'max_depth': 6, 'eta': 0.1835864240964316, 'subsample': 0.7126649411379313, 'colsample_bytree': 0.6846054564616372}.\n",
      "[I 2025-05-15 00:13:44,441] Trial 238 finished with values: [0.7057114323613115, 0.06848843471460547] and parameters: {'alpha': 0.7010464774985017, 'max_depth': 7, 'eta': 0.23212779617479912, 'subsample': 0.8126899029458226, 'colsample_bytree': 0.7332782840099421}.\n",
      "[I 2025-05-15 00:13:44,742] Trial 239 finished with values: [0.5000061268315397, 0.0] and parameters: {'alpha': 0.012915419123790906, 'max_depth': 5, 'eta': 0.21901686836526663, 'subsample': 0.871229825323997, 'colsample_bytree': 0.9273609939577232}.\n",
      "[I 2025-05-15 00:13:45,100] Trial 240 finished with values: [0.6899915143383176, 0.05692717416211807] and parameters: {'alpha': 0.7859773553527348, 'max_depth': 7, 'eta': 0.10665161819887829, 'subsample': 0.8376771934629543, 'colsample_bytree': 0.7171393924105901}.\n",
      "[I 2025-05-15 00:13:45,345] Trial 241 finished with values: [0.6678751841878733, 0.040358607534433544] and parameters: {'alpha': 0.6361776846639763, 'max_depth': 3, 'eta': 0.21500273048430651, 'subsample': 0.9984601149714915, 'colsample_bytree': 0.6276974181987566}.\n",
      "[I 2025-05-15 00:13:45,634] Trial 242 finished with values: [0.6985675467860174, 0.07272791430374478] and parameters: {'alpha': 0.8694173170637239, 'max_depth': 6, 'eta': 0.10665161819887829, 'subsample': 0.8118799940488843, 'colsample_bytree': 0.8860886219071996}.\n",
      "[I 2025-05-15 00:13:45,808] Trial 243 finished with values: [0.5000061268315397, 0.0] and parameters: {'alpha': 0.006398238570445525, 'max_depth': 5, 'eta': 0.1835864240964316, 'subsample': 0.6766262078975724, 'colsample_bytree': 0.938607954432039}.\n",
      "[I 2025-05-15 00:13:46,057] Trial 244 finished with values: [0.6564394531190167, 0.02242675599345134] and parameters: {'alpha': 0.13595324942861375, 'max_depth': 7, 'eta': 0.11212601398592194, 'subsample': 0.8493505201360313, 'colsample_bytree': 0.6268842887986352}.\n",
      "[I 2025-05-15 00:13:46,282] Trial 245 finished with values: [0.697152248700346, 0.058223096786885836] and parameters: {'alpha': 0.8694173170637239, 'max_depth': 6, 'eta': 0.21500273048430651, 'subsample': 0.8493505201360313, 'colsample_bytree': 0.6846054564616372}.\n",
      "[I 2025-05-15 00:13:46,543] Trial 246 finished with values: [0.6842935610063933, 0.04342401353480398] and parameters: {'alpha': 0.8346729701526626, 'max_depth': 6, 'eta': 0.10665161819887829, 'subsample': 0.8496820314634128, 'colsample_bytree': 0.6936481763284024}.\n",
      "[I 2025-05-15 00:13:46,712] Trial 247 finished with values: [0.5000061268315397, 0.0] and parameters: {'alpha': 0.006398238570445525, 'max_depth': 4, 'eta': 0.2743823608550061, 'subsample': 0.6950815747717355, 'colsample_bytree': 0.939918536631748}.\n",
      "[I 2025-05-15 00:13:46,935] Trial 248 finished with values: [0.6828660092576424, 0.07156082379921429] and parameters: {'alpha': 0.5295030032489474, 'max_depth': 6, 'eta': 0.26763799019617446, 'subsample': 0.6950815747717355, 'colsample_bytree': 0.7171393924105901}.\n",
      "[I 2025-05-15 00:13:47,215] Trial 249 finished with values: [0.6771481437232142, 0.04143782926288875] and parameters: {'alpha': 0.5043899377301401, 'max_depth': 7, 'eta': 0.15511827510132917, 'subsample': 0.7482049238349794, 'colsample_bytree': 0.7171393924105901}.\n",
      "[I 2025-05-15 00:13:47,430] Trial 250 finished with values: [0.6885884699157255, 0.037768977936168235] and parameters: {'alpha': 0.5295030032489474, 'max_depth': 3, 'eta': 0.26763799019617446, 'subsample': 0.6950815747717355, 'colsample_bytree': 0.939918536631748}.\n",
      "[I 2025-05-15 00:13:47,698] Trial 251 finished with values: [0.695704784749091, 0.06461351474601541] and parameters: {'alpha': 0.5855829797936447, 'max_depth': 7, 'eta': 0.1108788641250333, 'subsample': 0.9124168016326238, 'colsample_bytree': 0.9222899638012406}.\n",
      "[I 2025-05-15 00:13:47,889] Trial 252 finished with values: [0.5000061268315397, 0.0] and parameters: {'alpha': 0.006398238570445525, 'max_depth': 7, 'eta': 0.21500273048430651, 'subsample': 0.872143282534935, 'colsample_bytree': 0.9397452183449054}.\n",
      "[I 2025-05-15 00:13:48,120] Trial 253 finished with values: [0.6714348733124408, 0.04954464525513097] and parameters: {'alpha': 0.8694173170637239, 'max_depth': 3, 'eta': 0.26763799019617446, 'subsample': 0.6025691044798142, 'colsample_bytree': 0.939918536631748}.\n",
      "[I 2025-05-15 00:13:48,363] Trial 254 finished with values: [0.6835751900083631, 0.04599427629920958] and parameters: {'alpha': 0.20471483943930935, 'max_depth': 7, 'eta': 0.23519319248320233, 'subsample': 0.807108008558591, 'colsample_bytree': 0.8051474304876349}.\n",
      "[I 2025-05-15 00:13:48,611] Trial 255 finished with values: [0.6621511918219052, 0.02063404561533852] and parameters: {'alpha': 0.12082713516430721, 'max_depth': 7, 'eta': 0.22040233909857757, 'subsample': 0.6766262078975724, 'colsample_bytree': 0.7171393924105901}.\n",
      "[I 2025-05-15 00:13:48,791] Trial 256 finished with values: [0.5000061268315397, 0.0] and parameters: {'alpha': 0.006398238570445525, 'max_depth': 3, 'eta': 0.2849042647217977, 'subsample': 0.9984601149714915, 'colsample_bytree': 0.8914441862273623}.\n",
      "[I 2025-05-15 00:13:49,124] Trial 257 finished with values: [0.6707226291459504, 0.012983203043084202] and parameters: {'alpha': 0.023651658030303224, 'max_depth': 7, 'eta': 0.019766500909719528, 'subsample': 0.8699545369534627, 'colsample_bytree': 0.9273609939577232}.\n",
      "[I 2025-05-15 00:13:49,295] Trial 258 finished with values: [0.5000061268315397, 0.0] and parameters: {'alpha': 0.006398238570445525, 'max_depth': 5, 'eta': 0.1835864240964316, 'subsample': 0.6500142472469429, 'colsample_bytree': 0.7900788002678284}.\n",
      "[I 2025-05-15 00:13:49,471] Trial 259 finished with values: [0.5000061268315397, 0.0] and parameters: {'alpha': 0.006398238570445525, 'max_depth': 6, 'eta': 0.1835864240964316, 'subsample': 0.6631956570556669, 'colsample_bytree': 0.6624630554926771}.\n",
      "[I 2025-05-15 00:13:49,765] Trial 260 finished with values: [0.6778634513054747, 0.03981714293491299] and parameters: {'alpha': 0.5043899377301401, 'max_depth': 6, 'eta': 0.11212601398592194, 'subsample': 0.8075386441531452, 'colsample_bytree': 0.6268842887986352}.\n",
      "[I 2025-05-15 00:13:49,970] Trial 261 finished with values: [0.6714425318518655, 0.03521087131979057] and parameters: {'alpha': 0.3490858029574224, 'max_depth': 3, 'eta': 0.27499741563348057, 'subsample': 0.807108008558591, 'colsample_bytree': 0.6276974181987566}.\n",
      "[I 2025-05-15 00:13:50,176] Trial 262 finished with values: [0.5000061268315397, 0.0] and parameters: {'alpha': 0.006398238570445525, 'max_depth': 4, 'eta': 0.24431474510203355, 'subsample': 0.9804068801617242, 'colsample_bytree': 0.6846054564616372}.\n",
      "[I 2025-05-15 00:13:50,339] Trial 263 finished with values: [0.5000061268315397, 0.0] and parameters: {'alpha': 0.006398238570445525, 'max_depth': 6, 'eta': 0.10749039742554378, 'subsample': 0.6786934575537894, 'colsample_bytree': 0.6846054564616372}.\n",
      "[I 2025-05-15 00:13:50,557] Trial 264 finished with values: [0.6757328456375427, 0.020643820112131266] and parameters: {'alpha': 0.20471483943930935, 'max_depth': 5, 'eta': 0.2783693514633372, 'subsample': 0.6941145261093852, 'colsample_bytree': 0.6936481763284024}.\n",
      "[I 2025-05-15 00:13:50,771] Trial 265 finished with values: [0.6700088532715748, 0.06199408959508298] and parameters: {'alpha': 0.9776062185303493, 'max_depth': 3, 'eta': 0.23212779617479912, 'subsample': 0.6046094470122073, 'colsample_bytree': 0.7332782840099421}.\n",
      "[I 2025-05-15 00:13:51,638] Trial 266 finished with values: [0.6921374370850986, 0.06748282313134435] and parameters: {'alpha': 0.6505837122947494, 'max_depth': 7, 'eta': 0.1044848729719204, 'subsample': 0.902848095150917, 'colsample_bytree': 0.9622654029941706}.\n",
      "[I 2025-05-15 00:13:52,025] Trial 267 finished with values: [0.5000061268315397, 0.0] and parameters: {'alpha': 0.006398238570445525, 'max_depth': 5, 'eta': 0.2033085526607888, 'subsample': 0.8376771934629543, 'colsample_bytree': 0.938607954432039}.\n",
      "[I 2025-05-15 00:13:52,291] Trial 268 finished with values: [0.5000061268315397, 0.0] and parameters: {'alpha': 0.006398238570445525, 'max_depth': 4, 'eta': 0.1835864240964316, 'subsample': 0.872143282534935, 'colsample_bytree': 0.7719975241381819}.\n",
      "[I 2025-05-15 00:13:52,665] Trial 269 finished with values: [0.7100094046864135, 0.061518217556398] and parameters: {'alpha': 0.8694173170637239, 'max_depth': 7, 'eta': 0.1835864240964316, 'subsample': 0.8493505201360313, 'colsample_bytree': 0.6268842887986352}.\n",
      "[I 2025-05-15 00:13:52,905] Trial 270 finished with values: [0.6671445595267634, 0.04985987050948675] and parameters: {'alpha': 0.5693339319756338, 'max_depth': 5, 'eta': 0.10022879453843885, 'subsample': 0.6766262078975724, 'colsample_bytree': 0.6268842887986352}.\n",
      "[I 2025-05-15 00:13:53,278] Trial 271 finished with values: [0.6871456010881253, 0.04957616739156636] and parameters: {'alpha': 0.8694173170637239, 'max_depth': 7, 'eta': 0.06387096536633009, 'subsample': 0.8493505201360313, 'colsample_bytree': 0.6268842887986352}.\n",
      "[I 2025-05-15 00:13:53,449] Trial 272 finished with values: [0.5000061268315397, 0.0] and parameters: {'alpha': 0.006398238570445525, 'max_depth': 6, 'eta': 0.1835864240964316, 'subsample': 0.7126649411379313, 'colsample_bytree': 0.6846054564616372}.\n",
      "[I 2025-05-15 00:13:53,680] Trial 273 finished with values: [0.7092879702726135, 0.08971957766556533] and parameters: {'alpha': 0.5295030032489474, 'max_depth': 7, 'eta': 0.26763799019617446, 'subsample': 0.6950815747717355, 'colsample_bytree': 0.939918536631748}.\n",
      "[I 2025-05-15 00:13:53,925] Trial 274 finished with values: [0.6978553026195268, 0.04971004279927227] and parameters: {'alpha': 0.8388910755295927, 'max_depth': 5, 'eta': 0.21901686836526663, 'subsample': 0.871229825323997, 'colsample_bytree': 0.9605160817281834}.\n",
      "[I 2025-05-15 00:13:54,204] Trial 275 finished with values: [0.6707226291459504, 0.012983203043084202] and parameters: {'alpha': 0.023651658030303224, 'max_depth': 3, 'eta': 0.022820153433345383, 'subsample': 0.6500142472469429, 'colsample_bytree': 0.939918536631748}.\n",
      "[I 2025-05-15 00:13:54,428] Trial 276 finished with values: [0.6700241703504242, 0.02684246588073323] and parameters: {'alpha': 0.10722128536225561, 'max_depth': 7, 'eta': 0.23813647636124352, 'subsample': 0.7126649411379313, 'colsample_bytree': 0.6846054564616372}.\n",
      "[I 2025-05-15 00:13:54,704] Trial 277 finished with values: [0.6857241761709142, 0.030975547455306247] and parameters: {'alpha': 0.20471483943930935, 'max_depth': 6, 'eta': 0.2783693514633372, 'subsample': 0.6941145261093852, 'colsample_bytree': 0.6846054564616372}.\n",
      "[I 2025-05-15 00:13:54,903] Trial 278 finished with values: [0.6707226291459504, 0.012983203043084202] and parameters: {'alpha': 0.023651658030303224, 'max_depth': 7, 'eta': 0.21500273048430651, 'subsample': 0.9984601149714915, 'colsample_bytree': 0.9222899638012406}.\n",
      "[I 2025-05-15 00:13:55,077] Trial 279 finished with values: [0.5000061268315397, 0.0] and parameters: {'alpha': 0.006398238570445525, 'max_depth': 5, 'eta': 0.27499741563348057, 'subsample': 0.8472770656657291, 'colsample_bytree': 0.938607954432039}.\n",
      "[I 2025-05-15 00:13:55,253] Trial 280 finished with values: [0.5000061268315397, 0.0] and parameters: {'alpha': 0.006398238570445525, 'max_depth': 7, 'eta': 0.21500273048430651, 'subsample': 0.9984601149714915, 'colsample_bytree': 0.6624630554926771}.\n",
      "[I 2025-05-15 00:13:55,776] Trial 281 finished with values: [0.6835751900083631, 0.04151845128228793] and parameters: {'alpha': 0.755537228967132, 'max_depth': 5, 'eta': 0.1835864240964316, 'subsample': 0.7126649411379313, 'colsample_bytree': 0.6237148048943263}.\n",
      "[I 2025-05-15 00:13:56,215] Trial 282 finished with values: [0.6985583565387078, 0.05468529700231833] and parameters: {'alpha': 0.5043899377301401, 'max_depth': 7, 'eta': 0.21500273048430651, 'subsample': 0.872143282534935, 'colsample_bytree': 0.8860886219071996}.\n",
      "[I 2025-05-15 00:13:56,608] Trial 283 finished with values: [0.7135644986873264, 0.11612236412855946] and parameters: {'alpha': 0.9514033263041299, 'max_depth': 7, 'eta': 0.23212779617479912, 'subsample': 0.6611204776032135, 'colsample_bytree': 0.7919775923826283}.\n",
      "[I 2025-05-15 00:13:57,058] Trial 284 finished with values: [0.5000061268315397, 0.0] and parameters: {'alpha': 0.006398238570445525, 'max_depth': 7, 'eta': 0.21500273048430651, 'subsample': 0.8493505201360313, 'colsample_bytree': 0.6268842887986352}.\n",
      "[I 2025-05-15 00:13:57,888] Trial 285 finished with values: [0.6935665205417344, 0.1178257394774412] and parameters: {'alpha': 0.6361776846639763, 'max_depth': 7, 'eta': 0.2523699452908101, 'subsample': 0.652129830345901, 'colsample_bytree': 0.8415750848598711}.\n",
      "[I 2025-05-15 00:13:58,227] Trial 286 finished with values: [0.6792986615936502, 0.05477637930942542] and parameters: {'alpha': 0.6505837122947494, 'max_depth': 4, 'eta': 0.21500273048430651, 'subsample': 0.6500142472469429, 'colsample_bytree': 0.9222899638012406}.\n",
      "[I 2025-05-15 00:13:58,437] Trial 287 finished with values: [0.5000061268315397, 0.0] and parameters: {'alpha': 0.012915419123790906, 'max_depth': 7, 'eta': 0.22739873665679933, 'subsample': 0.8493505201360313, 'colsample_bytree': 0.9273609939577232}.\n",
      "[I 2025-05-15 00:13:58,751] Trial 288 finished with values: [0.5000061268315397, 0.0] and parameters: {'alpha': 0.006398238570445525, 'max_depth': 5, 'eta': 0.1835864240964316, 'subsample': 0.7190259527785925, 'colsample_bytree': 0.6846054564616372}.\n",
      "[I 2025-05-15 00:13:59,008] Trial 289 finished with values: [0.5000061268315397, 0.0] and parameters: {'alpha': 0.006398238570445525, 'max_depth': 5, 'eta': 0.15780100657948715, 'subsample': 0.6766262078975724, 'colsample_bytree': 0.938607954432039}.\n",
      "[I 2025-05-15 00:13:59,303] Trial 290 finished with values: [0.5000061268315397, 0.0] and parameters: {'alpha': 0.006398238570445525, 'max_depth': 6, 'eta': 0.07257095200779526, 'subsample': 0.807108008558591, 'colsample_bytree': 0.6346180096533811}.\n",
      "[I 2025-05-15 00:13:59,661] Trial 291 finished with values: [0.7042900074441003, 0.09427633430996656] and parameters: {'alpha': 0.7745806010991928, 'max_depth': 6, 'eta': 0.27251375579277987, 'subsample': 0.807108008558591, 'colsample_bytree': 0.9611620505991075}.\n",
      "[I 2025-05-15 00:13:59,887] Trial 292 finished with values: [0.6800170325916803, 0.047887604189408815] and parameters: {'alpha': 0.6505382600674716, 'max_depth': 3, 'eta': 0.26763799019617446, 'subsample': 0.6950815747717355, 'colsample_bytree': 0.938607954432039}.\n",
      "[I 2025-05-15 00:14:00,070] Trial 293 finished with values: [0.5000061268315397, 0.0] and parameters: {'alpha': 0.006398238570445525, 'max_depth': 4, 'eta': 0.21901686836526663, 'subsample': 0.872143282534935, 'colsample_bytree': 0.9611620505991075}.\n",
      "[I 2025-05-15 00:14:00,994] Trial 294 finished with values: [0.6871471327960103, 0.057215325709674976] and parameters: {'alpha': 0.6505837122947494, 'max_depth': 6, 'eta': 0.1108788641250333, 'subsample': 0.8472770656657291, 'colsample_bytree': 0.9622654029941706}.\n",
      "[I 2025-05-15 00:14:01,232] Trial 295 finished with values: [0.5000061268315397, 0.0] and parameters: {'alpha': 0.008318822215806598, 'max_depth': 7, 'eta': 0.07253350513913152, 'subsample': 0.9984601149714915, 'colsample_bytree': 0.7642776900822141}.\n",
      "[I 2025-05-15 00:14:01,484] Trial 296 finished with values: [0.5000061268315397, 0.0] and parameters: {'alpha': 0.006398238570445525, 'max_depth': 3, 'eta': 0.1835864240964316, 'subsample': 0.8621180142479564, 'colsample_bytree': 0.8778999079756078}.\n",
      "[I 2025-05-15 00:14:01,880] Trial 297 finished with values: [0.6885900016236103, 0.025369084250282836] and parameters: {'alpha': 0.22601217229786574, 'max_depth': 5, 'eta': 0.23813647636124352, 'subsample': 0.6766262078975724, 'colsample_bytree': 0.6268842887986352}.\n",
      "[I 2025-05-15 00:14:02,169] Trial 298 finished with values: [0.6685690478597445, 0.04507309026568543] and parameters: {'alpha': 0.1998390556977736, 'max_depth': 4, 'eta': 0.2743823608550061, 'subsample': 0.9610565406360361, 'colsample_bytree': 0.939918536631748}.\n",
      "[I 2025-05-15 00:14:02,854] Trial 299 finished with values: [0.6871456010881253, 0.04558029491384388] and parameters: {'alpha': 0.8374316363077198, 'max_depth': 7, 'eta': 0.10022879453843885, 'subsample': 0.6631956570556669, 'colsample_bytree': 0.6090881393762712}.\n",
      "[I 2025-05-15 00:14:03,864] Trial 300 finished with values: [0.5000061268315397, 0.0] and parameters: {'alpha': 0.006398238570445525, 'max_depth': 7, 'eta': 0.10022879453843885, 'subsample': 0.872143282534935, 'colsample_bytree': 0.9532604182421414}.\n",
      "[I 2025-05-15 00:14:04,269] Trial 301 finished with values: [0.5000061268315397, 0.0] and parameters: {'alpha': 0.006398238570445525, 'max_depth': 7, 'eta': 0.21500273048430651, 'subsample': 0.9984601149714915, 'colsample_bytree': 0.6846054564616372}.\n",
      "[I 2025-05-15 00:14:04,823] Trial 302 finished with values: [0.6964200923313513, 0.06642511654956328] and parameters: {'alpha': 0.8694173170637239, 'max_depth': 5, 'eta': 0.21901686836526663, 'subsample': 0.872143282534935, 'colsample_bytree': 0.9611620505991075}.\n",
      "[I 2025-05-15 00:14:05,554] Trial 303 finished with values: [0.5000061268315397, 0.0] and parameters: {'alpha': 0.006398238570445525, 'max_depth': 7, 'eta': 0.1835864240964316, 'subsample': 0.6631956570556669, 'colsample_bytree': 0.9532604182421414}.\n",
      "[I 2025-05-15 00:14:05,977] Trial 304 finished with values: [0.5000061268315397, 0.0] and parameters: {'alpha': 0.006398238570445525, 'max_depth': 7, 'eta': 0.24431474510203355, 'subsample': 0.9984601149714915, 'colsample_bytree': 0.9757497655282128}.\n",
      "[I 2025-05-15 00:14:06,599] Trial 305 finished with values: [0.5000061268315397, 0.0] and parameters: {'alpha': 0.006398238570445525, 'max_depth': 4, 'eta': 0.05148993795553561, 'subsample': 0.6500142472469429, 'colsample_bytree': 0.9171521282961637}.\n",
      "[I 2025-05-15 00:14:06,962] Trial 306 finished with values: [0.6843042829615879, 0.02427889426002905] and parameters: {'alpha': 0.19905834296228508, 'max_depth': 5, 'eta': 0.24628237667086744, 'subsample': 0.6766262078975724, 'colsample_bytree': 0.6268842887986352}.\n",
      "[I 2025-05-15 00:14:07,236] Trial 307 finished with values: [0.6650139538588317, 0.016758905313101074] and parameters: {'alpha': 0.12765730580236256, 'max_depth': 3, 'eta': 0.21500273048430651, 'subsample': 0.8493505201360313, 'colsample_bytree': 0.9222899638012406}.\n",
      "[I 2025-05-15 00:14:08,192] Trial 308 finished with values: [0.6521491393333395, 0.02967639903405812] and parameters: {'alpha': 0.08807915572860237, 'max_depth': 7, 'eta': 0.09428013539354792, 'subsample': 0.9984523262618855, 'colsample_bytree': 0.9370283555843698}.\n",
      "[I 2025-05-15 00:14:08,989] Trial 309 finished with values: [0.5000061268315397, 0.0] and parameters: {'alpha': 0.0018713778605690123, 'max_depth': 7, 'eta': 0.07253350513913152, 'subsample': 0.8088010652239656, 'colsample_bytree': 0.6268842887986352}.\n",
      "[I 2025-05-15 00:14:10,862] Trial 310 finished with values: [0.6792925347621104, 0.07009709575652527] and parameters: {'alpha': 0.3485474110639102, 'max_depth': 6, 'eta': 0.19264615986685954, 'subsample': 0.6396888930985742, 'colsample_bytree': 0.7642776900822141}.\n",
      "[I 2025-05-15 00:14:11,719] Trial 311 finished with values: [0.5000061268315397, 0.0] and parameters: {'alpha': 0.006398238570445525, 'max_depth': 5, 'eta': 0.15511827510132917, 'subsample': 0.8472770656657291, 'colsample_bytree': 0.6846054564616372}.\n",
      "[I 2025-05-15 00:14:13,664] Trial 312 finished with values: [0.7035731681539551, 0.06320574909727013] and parameters: {'alpha': 0.565754928390511, 'max_depth': 7, 'eta': 0.21500273048430651, 'subsample': 0.9984601149714915, 'colsample_bytree': 0.6846054564616372}.\n",
      "[I 2025-05-15 00:14:14,874] Trial 313 finished with values: [0.6871440693802403, 0.05184604609024832] and parameters: {'alpha': 0.8694173170637239, 'max_depth': 4, 'eta': 0.2743823608550061, 'subsample': 0.8493505201360313, 'colsample_bytree': 0.939918536631748}.\n",
      "[I 2025-05-15 00:14:15,539] Trial 314 finished with values: [0.6828598824261028, 0.03376436647801025] and parameters: {'alpha': 0.8694173170637239, 'max_depth': 5, 'eta': 0.11212601398592194, 'subsample': 0.8376771934629543, 'colsample_bytree': 0.6268842887986352}.\n",
      "[I 2025-05-15 00:14:16,014] Trial 315 finished with values: [0.5000061268315397, 0.0] and parameters: {'alpha': 0.006398238570445525, 'max_depth': 7, 'eta': 0.059302538923580936, 'subsample': 0.8493505201360313, 'colsample_bytree': 0.7894887198211535}.\n",
      "[I 2025-05-15 00:14:16,751] Trial 316 finished with values: [0.5000061268315397, 0.0] and parameters: {'alpha': 0.006398238570445525, 'max_depth': 7, 'eta': 0.2743823608550061, 'subsample': 0.6950815747717355, 'colsample_bytree': 0.7730542574154097}.\n",
      "[I 2025-05-15 00:14:17,356] Trial 317 finished with values: [0.5000061268315397, 0.0] and parameters: {'alpha': 0.006398238570445525, 'max_depth': 6, 'eta': 0.15511827510132917, 'subsample': 0.7126649411379313, 'colsample_bytree': 0.6846054564616372}.\n",
      "[I 2025-05-15 00:14:17,723] Trial 318 finished with values: [0.5000061268315397, 0.0] and parameters: {'alpha': 0.006398238570445525, 'max_depth': 6, 'eta': 0.1835864240964316, 'subsample': 0.7126649411379313, 'colsample_bytree': 0.6268842887986352}.\n",
      "[I 2025-05-15 00:14:18,273] Trial 319 finished with values: [0.5000061268315397, 0.0] and parameters: {'alpha': 0.008318822215806598, 'max_depth': 3, 'eta': 0.1835864240964316, 'subsample': 0.6840602305591771, 'colsample_bytree': 0.6846054564616372}.\n",
      "[I 2025-05-15 00:14:18,760] Trial 320 finished with values: [0.5000061268315397, 0.0] and parameters: {'alpha': 0.006398238570445525, 'max_depth': 7, 'eta': 0.1835864240964316, 'subsample': 0.7126649411379313, 'colsample_bytree': 0.6245073635344549}.\n",
      "[I 2025-05-15 00:14:19,511] Trial 321 finished with values: [0.7014211185756342, 0.07615261525550278] and parameters: {'alpha': 0.9374283216392799, 'max_depth': 5, 'eta': 0.21901686836526663, 'subsample': 0.8261236442850879, 'colsample_bytree': 0.7813453328834102}.\n",
      "[I 2025-05-15 00:14:20,052] Trial 322 finished with values: [0.5000061268315397, 0.0] and parameters: {'alpha': 0.006398238570445525, 'max_depth': 3, 'eta': 0.11212601398592194, 'subsample': 0.8493505201360313, 'colsample_bytree': 0.7894887198211535}.\n",
      "[I 2025-05-15 00:14:20,906] Trial 323 finished with values: [0.5000061268315397, 0.0] and parameters: {'alpha': 0.006398238570445525, 'max_depth': 7, 'eta': 0.1835864240964316, 'subsample': 0.6500142472469429, 'colsample_bytree': 0.8421035292504896}.\n",
      "[I 2025-05-15 00:14:21,411] Trial 324 finished with values: [0.5000061268315397, 0.0] and parameters: {'alpha': 0.006398238570445525, 'max_depth': 7, 'eta': 0.1835864240964316, 'subsample': 0.6500142472469429, 'colsample_bytree': 0.6268842887986352}.\n",
      "[I 2025-05-15 00:14:21,717] Trial 325 finished with values: [0.5000061268315397, 0.0] and parameters: {'alpha': 0.006398238570445525, 'max_depth': 4, 'eta': 0.07769280125627988, 'subsample': 0.872143282534935, 'colsample_bytree': 0.6846054564616372}.\n",
      "[I 2025-05-15 00:14:22,021] Trial 326 finished with values: [0.6721517126025862, 0.018016817642069638] and parameters: {'alpha': 0.21340529966904453, 'max_depth': 5, 'eta': 0.1835864240964316, 'subsample': 0.6766262078975724, 'colsample_bytree': 0.6148705705974687}.\n",
      "[I 2025-05-15 00:14:22,604] Trial 327 finished with values: [0.6643001779844563, 0.017345522498386955] and parameters: {'alpha': 0.07134573433265312, 'max_depth': 5, 'eta': 0.019766500909719528, 'subsample': 0.8376771934629543, 'colsample_bytree': 0.6482350599140047}.\n",
      "[I 2025-05-15 00:14:22,706] Trial 328 finished with values: [0.5000061268315397, 0.0] and parameters: {'alpha': 0.006398238570445525, 'max_depth': 5, 'eta': 0.29324278143830207, 'subsample': 0.8376771934629543, 'colsample_bytree': 0.6482350599140047}.\n",
      "[I 2025-05-15 00:14:22,781] Trial 329 finished with values: [0.6671660034371526, 0.031944780188488064] and parameters: {'alpha': 0.22601217229786574, 'max_depth': 3, 'eta': 0.23813647636124352, 'subsample': 0.9979244593531943, 'colsample_bytree': 0.6268842887986352}.\n",
      "[I 2025-05-15 00:14:22,938] Trial 330 finished with values: [0.6707226291459504, 0.012983203043084202] and parameters: {'alpha': 0.023651658030303224, 'max_depth': 6, 'eta': 0.022820153433345383, 'subsample': 0.807108008558591, 'colsample_bytree': 0.939918536631748}.\n",
      "[I 2025-05-15 00:14:23,033] Trial 331 finished with values: [0.5000061268315397, 0.0] and parameters: {'alpha': 0.012915419123790906, 'max_depth': 7, 'eta': 0.1835864240964316, 'subsample': 0.9067946810463764, 'colsample_bytree': 0.6245073635344549}.\n",
      "[I 2025-05-15 00:14:23,217] Trial 332 finished with values: [0.6785711003483104, 0.06287282493719706] and parameters: {'alpha': 0.8769788342503713, 'max_depth': 4, 'eta': 0.15511827510132917, 'subsample': 0.6500142472469429, 'colsample_bytree': 0.9222899638012406}.\n",
      "[I 2025-05-15 00:14:23,370] Trial 333 finished with values: [0.5000061268315397, 0.0] and parameters: {'alpha': 0.006398238570445525, 'max_depth': 7, 'eta': 0.019766500909719528, 'subsample': 0.8699545369534627, 'colsample_bytree': 0.9397452183449054}.\n",
      "[I 2025-05-15 00:14:23,548] Trial 334 finished with values: [0.5000061268315397, 0.0] and parameters: {'alpha': 0.006398238570445525, 'max_depth': 7, 'eta': 0.1835864240964316, 'subsample': 0.6766262078975724, 'colsample_bytree': 0.6268842887986352}.\n",
      "[I 2025-05-15 00:14:23,890] Trial 335 finished with values: [0.6914221295028383, 0.0692228886411813] and parameters: {'alpha': 0.5502713829452981, 'max_depth': 5, 'eta': 0.21901686836526663, 'subsample': 0.807108008558591, 'colsample_bytree': 0.9611620505991075}.\n",
      "[I 2025-05-15 00:14:24,044] Trial 336 finished with values: [0.6542965937880055, 0.03083824750117803] and parameters: {'alpha': 0.10631729089325104, 'max_depth': 4, 'eta': 0.05148993795553561, 'subsample': 0.9069287261824934, 'colsample_bytree': 0.9171521282961637}.\n",
      "[I 2025-05-15 00:14:24,201] Trial 337 finished with values: [0.6692966091050844, 0.023338404532675643] and parameters: {'alpha': 0.12257166979083933, 'max_depth': 6, 'eta': 0.27499741563348057, 'subsample': 0.807108008558591, 'colsample_bytree': 0.938607954432039}.\n",
      "[I 2025-05-15 00:14:24,397] Trial 338 finished with values: [0.6671568131898429, 0.017070154612876604] and parameters: {'alpha': 0.10768658393062824, 'max_depth': 5, 'eta': 0.13391646452271103, 'subsample': 0.6631956570556669, 'colsample_bytree': 0.6846054564616372}.\n",
      "[I 2025-05-15 00:14:24,617] Trial 339 finished with values: [0.6992767275367381, 0.0813980440974761] and parameters: {'alpha': 0.7335478600230925, 'max_depth': 7, 'eta': 0.23179133535036678, 'subsample': 0.6950815747717355, 'colsample_bytree': 0.7642776900822141}.\n",
      "[I 2025-05-15 00:14:24,749] Trial 340 finished with values: [0.5000061268315397, 0.0] and parameters: {'alpha': 0.006398238570445525, 'max_depth': 7, 'eta': 0.019766500909719528, 'subsample': 0.9452186894410826, 'colsample_bytree': 0.938607954432039}.\n",
      "[I 2025-05-15 00:14:24,987] Trial 341 finished with values: [0.6600159910303186, 0.006579304649032364] and parameters: {'alpha': 0.12082713516430721, 'max_depth': 7, 'eta': 0.10022879453843885, 'subsample': 0.6631956570556669, 'colsample_bytree': 0.7730914500445354}.\n",
      "[I 2025-05-15 00:14:25,110] Trial 342 finished with values: [0.5000061268315397, 0.0] and parameters: {'alpha': 0.006398238570445525, 'max_depth': 5, 'eta': 0.07257095200779526, 'subsample': 0.8621180142479564, 'colsample_bytree': 0.8778999079756078}.\n",
      "[I 2025-05-15 00:14:25,247] Trial 343 finished with values: [0.5000061268315397, 0.0] and parameters: {'alpha': 0.0018713778605690123, 'max_depth': 7, 'eta': 0.27499741563348057, 'subsample': 0.8472770656657291, 'colsample_bytree': 0.938607954432039}.\n",
      "[I 2025-05-15 00:14:25,433] Trial 344 finished with values: [0.6921466273324081, 0.06458114759242502] and parameters: {'alpha': 0.9374283216392799, 'max_depth': 5, 'eta': 0.21901686836526663, 'subsample': 0.6095279855038749, 'colsample_bytree': 0.6891505304120852}.\n",
      "[I 2025-05-15 00:14:25,608] Trial 345 finished with values: [0.6742915085178275, 0.04893874577481574] and parameters: {'alpha': 0.8694173170637239, 'max_depth': 4, 'eta': 0.11212601398592194, 'subsample': 0.8493505201360313, 'colsample_bytree': 0.6268842887986352}.\n",
      "[I 2025-05-15 00:14:25,885] Trial 346 finished with values: [0.6707226291459504, 0.012983203043084202] and parameters: {'alpha': 0.023651658030303224, 'max_depth': 3, 'eta': 0.022820153433345383, 'subsample': 0.6500142472469429, 'colsample_bytree': 0.939918536631748}.\n",
      "[I 2025-05-15 00:14:26,041] Trial 347 finished with values: [0.6907098853363477, 0.05341693102068782] and parameters: {'alpha': 0.7039489534471669, 'max_depth': 7, 'eta': 0.23813647636124352, 'subsample': 0.6766262078975724, 'colsample_bytree': 0.6268842887986352}.\n",
      "[I 2025-05-15 00:14:26,146] Trial 348 finished with values: [0.5000061268315397, 0.0] and parameters: {'alpha': 0.006398238570445525, 'max_depth': 7, 'eta': 0.21500273048430651, 'subsample': 0.9984601149714915, 'colsample_bytree': 0.6624630554926771}.\n",
      "[I 2025-05-15 00:14:26,317] Trial 349 finished with values: [0.6657170077780127, 0.04219151046083446] and parameters: {'alpha': 0.3594983110048975, 'max_depth': 5, 'eta': 0.08567567731193952, 'subsample': 0.6950815747717355, 'colsample_bytree': 0.8646082694336868}.\n",
      "[I 2025-05-15 00:14:26,456] Trial 350 finished with values: [0.6643001779844563, 0.02740471475057878] and parameters: {'alpha': 0.12082713516430721, 'max_depth': 7, 'eta': 0.21500273048430651, 'subsample': 0.9984601149714915, 'colsample_bytree': 0.6624630554926771}.\n",
      "[I 2025-05-15 00:14:26,557] Trial 351 finished with values: [0.5000061268315397, 0.0] and parameters: {'alpha': 0.012915419123790906, 'max_depth': 7, 'eta': 0.1835864240964316, 'subsample': 0.920555626974529, 'colsample_bytree': 0.9532604182421414}.\n",
      "[I 2025-05-15 00:14:26,675] Trial 352 finished with values: [0.6992828543682776, 0.053563982378485774] and parameters: {'alpha': 0.9374283216392799, 'max_depth': 6, 'eta': 0.2783693514633372, 'subsample': 0.807108008558591, 'colsample_bytree': 0.9611620505991075}.\n",
      "[I 2025-05-15 00:14:26,780] Trial 353 finished with values: [0.5000061268315397, 0.0] and parameters: {'alpha': 0.006398238570445525, 'max_depth': 7, 'eta': 0.2849042647217977, 'subsample': 0.6500142472469429, 'colsample_bytree': 0.9171521282961637}.\n",
      "[I 2025-05-15 00:14:26,884] Trial 354 finished with values: [0.5000061268315397, 0.0] and parameters: {'alpha': 0.012915419123790906, 'max_depth': 7, 'eta': 0.1835864240964316, 'subsample': 0.871229825323997, 'colsample_bytree': 0.9532604182421414}.\n",
      "[I 2025-05-15 00:14:26,994] Trial 355 finished with values: [0.6707226291459504, 0.012983203043084202] and parameters: {'alpha': 0.023651658030303224, 'max_depth': 7, 'eta': 0.1683883749027411, 'subsample': 0.6631956570556669, 'colsample_bytree': 0.7730914500445354}.\n",
      "[I 2025-05-15 00:14:27,098] Trial 356 finished with values: [0.6742884451020577, 0.04328774234976546] and parameters: {'alpha': 0.9839741146717937, 'max_depth': 3, 'eta': 0.24026710755528385, 'subsample': 0.8493505201360313, 'colsample_bytree': 0.9273609939577232}.\n",
      "[I 2025-05-15 00:14:27,325] Trial 357 finished with values: [0.6821399797201876, 0.06045600817012528] and parameters: {'alpha': 0.9514033263041299, 'max_depth': 6, 'eta': 0.022820153433345383, 'subsample': 0.6500142472469429, 'colsample_bytree': 0.8914441862273623}.\n",
      "[I 2025-05-15 00:14:27,425] Trial 358 finished with values: [0.5000061268315397, 0.0] and parameters: {'alpha': 0.006398238570445525, 'max_depth': 6, 'eta': 0.21901686836526663, 'subsample': 0.872143282534935, 'colsample_bytree': 0.9611620505991075}.\n",
      "[I 2025-05-15 00:14:27,522] Trial 359 finished with values: [0.5000061268315397, 0.0] and parameters: {'alpha': 0.006398238570445525, 'max_depth': 5, 'eta': 0.1835864240964316, 'subsample': 0.6766262078975724, 'colsample_bytree': 0.938607954432039}.\n",
      "[I 2025-05-15 00:14:27,636] Trial 360 finished with values: [0.5000061268315397, 0.0] and parameters: {'alpha': 0.006398238570445525, 'max_depth': 5, 'eta': 0.26643944390689334, 'subsample': 0.8126899029458226, 'colsample_bytree': 0.6268842887986352}.\n",
      "[I 2025-05-15 00:14:27,812] Trial 361 finished with values: [0.704999188194821, 0.07164183667408719] and parameters: {'alpha': 0.9776062185303493, 'max_depth': 7, 'eta': 0.21901686836526663, 'subsample': 0.8126899029458226, 'colsample_bytree': 0.9611620505991075}.\n",
      "[I 2025-05-15 00:14:27,958] Trial 362 finished with values: [0.5000061268315397, 0.0] and parameters: {'alpha': 0.006398238570445525, 'max_depth': 7, 'eta': 0.1835864240964316, 'subsample': 0.872143282534935, 'colsample_bytree': 0.9532604182421414}.\n",
      "[I 2025-05-15 00:14:28,114] Trial 363 finished with values: [0.679280281099031, 0.0466632970590018] and parameters: {'alpha': 0.9514033263041299, 'max_depth': 5, 'eta': 0.055687518265842874, 'subsample': 0.8758455219682513, 'colsample_bytree': 0.939918536631748}.\n",
      "[I 2025-05-15 00:14:28,229] Trial 364 finished with values: [0.5000061268315397, 0.0] and parameters: {'alpha': 0.006398238570445525, 'max_depth': 5, 'eta': 0.1835864240964316, 'subsample': 0.8126899029458226, 'colsample_bytree': 0.7332782840099421}.\n",
      "[I 2025-05-15 00:14:28,381] Trial 365 finished with values: [0.6585823124500281, 0.02978229002091105] and parameters: {'alpha': 0.12082713516430721, 'max_depth': 6, 'eta': 0.07257095200779526, 'subsample': 0.807108008558591, 'colsample_bytree': 0.7171393924105901}.\n",
      "[I 2025-05-15 00:14:28,517] Trial 366 finished with values: [0.6807231499266312, 0.03529647086510185] and parameters: {'alpha': 0.3914468399196407, 'max_depth': 5, 'eta': 0.24628237667086744, 'subsample': 0.814622109824415, 'colsample_bytree': 0.6268842887986352}.\n",
      "[I 2025-05-15 00:14:28,629] Trial 367 finished with values: [0.5000061268315397, 0.0] and parameters: {'alpha': 0.006398238570445525, 'max_depth': 6, 'eta': 0.1835864240964316, 'subsample': 0.8251011063634879, 'colsample_bytree': 0.6846054564616372}.\n",
      "[I 2025-05-15 00:14:28,772] Trial 368 finished with values: [0.676431304433069, 0.04355569296316484] and parameters: {'alpha': 0.9502396836103375, 'max_depth': 3, 'eta': 0.15780100657948715, 'subsample': 0.6766262078975724, 'colsample_bytree': 0.938607954432039}.\n",
      "[I 2025-05-15 00:14:28,894] Trial 369 finished with values: [0.5000061268315397, 0.0] and parameters: {'alpha': 0.006398238570445525, 'max_depth': 7, 'eta': 0.21500273048430651, 'subsample': 0.9984601149714915, 'colsample_bytree': 0.9532604182421414}.\n",
      "[I 2025-05-15 00:14:29,055] Trial 370 finished with values: [0.5000061268315397, 0.0] and parameters: {'alpha': 0.006398238570445525, 'max_depth': 5, 'eta': 0.21500273048430651, 'subsample': 0.9984601149714915, 'colsample_bytree': 0.6482350599140047}.\n",
      "[I 2025-05-15 00:14:29,198] Trial 371 finished with values: [0.6585823124500281, 0.022152651401433004] and parameters: {'alpha': 0.12082713516430721, 'max_depth': 5, 'eta': 0.10022879453843885, 'subsample': 0.998388531269544, 'colsample_bytree': 0.939918536631748}.\n",
      "[I 2025-05-15 00:14:29,338] Trial 372 finished with values: [0.6828675409655274, 0.06137658945634509] and parameters: {'alpha': 0.2589299029915132, 'max_depth': 4, 'eta': 0.21500273048430651, 'subsample': 0.6500142472469429, 'colsample_bytree': 0.9222899638012406}.\n",
      "[I 2025-05-15 00:14:29,463] Trial 373 finished with values: [0.6778649830133595, 0.04642873517138537] and parameters: {'alpha': 0.17089754281608294, 'max_depth': 4, 'eta': 0.2743823608550061, 'subsample': 0.6822057886704513, 'colsample_bytree': 0.939918536631748}.\n",
      "[I 2025-05-15 00:14:29,566] Trial 374 finished with values: [0.5000061268315397, 0.0] and parameters: {'alpha': 0.006398238570445525, 'max_depth': 7, 'eta': 0.1835864240964316, 'subsample': 0.8493505201360313, 'colsample_bytree': 0.9532604182421414}.\n",
      "[I 2025-05-15 00:14:29,674] Trial 375 finished with values: [0.6721455857710463, 0.031083739483657485] and parameters: {'alpha': 0.38966105226460745, 'max_depth': 4, 'eta': 0.11461641460554835, 'subsample': 0.872143282534935, 'colsample_bytree': 0.9171521282961637}.\n",
      "[I 2025-05-15 00:14:29,815] Trial 376 finished with values: [0.6707226291459504, 0.012983203043084202] and parameters: {'alpha': 0.023651658030303224, 'max_depth': 6, 'eta': 0.022820153433345383, 'subsample': 0.807108008558591, 'colsample_bytree': 0.9064107415625153}.\n",
      "[I 2025-05-15 00:14:29,928] Trial 377 finished with values: [0.5000061268315397, 0.0] and parameters: {'alpha': 0.012915419123790906, 'max_depth': 7, 'eta': 0.22739873665679933, 'subsample': 0.8493505201360313, 'colsample_bytree': 0.9273609939577232}.\n",
      "[I 2025-05-15 00:14:30,026] Trial 378 finished with values: [0.5000061268315397, 0.0] and parameters: {'alpha': 0.006398238570445525, 'max_depth': 3, 'eta': 0.1835864240964316, 'subsample': 0.8493505201360313, 'colsample_bytree': 0.6268842887986352}.\n",
      "[I 2025-05-15 00:14:30,132] Trial 379 finished with values: [0.6749991575606633, 0.0501048449050184] and parameters: {'alpha': 0.9374283216392799, 'max_depth': 4, 'eta': 0.11738916988840654, 'subsample': 0.807108008558591, 'colsample_bytree': 0.6268842887986352}.\n",
      "[I 2025-05-15 00:14:30,237] Trial 380 finished with values: [0.5000061268315397, 0.0] and parameters: {'alpha': 0.006398238570445525, 'max_depth': 7, 'eta': 0.24431474510203355, 'subsample': 0.6766262078975724, 'colsample_bytree': 0.6846054564616372}.\n",
      "[I 2025-05-15 00:14:30,350] Trial 381 finished with values: [0.6792971298857652, 0.03786185083942969] and parameters: {'alpha': 0.8694173170637239, 'max_depth': 4, 'eta': 0.21901686836526663, 'subsample': 0.8493505201360313, 'colsample_bytree': 0.7215938829715902}.\n",
      "[I 2025-05-15 00:14:30,461] Trial 382 finished with values: [0.6857165176314896, 0.07163375180359345] and parameters: {'alpha': 0.2877304395729394, 'max_depth': 6, 'eta': 0.2743823608550061, 'subsample': 0.6950815747717355, 'colsample_bytree': 0.8914441862273623}.\n",
      "[I 2025-05-15 00:14:30,550] Trial 383 finished with values: [0.5000061268315397, 0.0] and parameters: {'alpha': 0.006398238570445525, 'max_depth': 5, 'eta': 0.19092956736866656, 'subsample': 0.9846954804251706, 'colsample_bytree': 0.8017170997105214}.\n",
      "[I 2025-05-15 00:14:30,648] Trial 384 finished with values: [0.5000061268315397, 0.0] and parameters: {'alpha': 0.006398238570445525, 'max_depth': 3, 'eta': 0.17506242442890937, 'subsample': 0.6766262078975724, 'colsample_bytree': 0.939918536631748}.\n",
      "[I 2025-05-15 00:14:30,748] Trial 385 finished with values: [0.668584364938594, 0.03175121495938856] and parameters: {'alpha': 0.6147678135446298, 'max_depth': 3, 'eta': 0.17886175220766531, 'subsample': 0.8376771934629543, 'colsample_bytree': 0.6482350599140047}.\n",
      "[I 2025-05-15 00:14:30,887] Trial 386 finished with values: [0.6671430278188786, 0.02893552783916815] and parameters: {'alpha': 0.2769132822588263, 'max_depth': 4, 'eta': 0.0926306491840337, 'subsample': 0.9984601149714915, 'colsample_bytree': 0.960375441047467}.\n",
      "[I 2025-05-15 00:14:31,038] Trial 387 finished with values: [0.7135644986873263, 0.10091046314803032] and parameters: {'alpha': 0.9514033263041299, 'max_depth': 7, 'eta': 0.2849042647217977, 'subsample': 0.8699545369534627, 'colsample_bytree': 0.8914441862273623}.\n",
      "[I 2025-05-15 00:14:31,163] Trial 388 finished with values: [0.7057160274849662, 0.10571157135157838] and parameters: {'alpha': 0.9514033263041299, 'max_depth': 7, 'eta': 0.21500273048430651, 'subsample': 0.8758455219682513, 'colsample_bytree': 0.8598011843552923}.\n",
      "[I 2025-05-15 00:14:31,277] Trial 389 finished with values: [0.6928604032067837, 0.058621327904730514] and parameters: {'alpha': 0.9374283216392799, 'max_depth': 5, 'eta': 0.21901686836526663, 'subsample': 0.6766262078975724, 'colsample_bytree': 0.9611620505991075}.\n",
      "[I 2025-05-15 00:14:31,374] Trial 390 finished with values: [0.5000061268315397, 0.0] and parameters: {'alpha': 0.006398238570445525, 'max_depth': 6, 'eta': 0.1919795686809288, 'subsample': 0.872143282534935, 'colsample_bytree': 0.8610767213054858}.\n",
      "[I 2025-05-15 00:14:31,466] Trial 391 finished with values: [0.5000061268315397, 0.0] and parameters: {'alpha': 0.006398238570445525, 'max_depth': 6, 'eta': 0.1835864240964316, 'subsample': 0.6766262078975724, 'colsample_bytree': 0.938607954432039}.\n",
      "[I 2025-05-15 00:14:31,572] Trial 392 finished with values: [0.6871624498748594, 0.01770223643561486] and parameters: {'alpha': 0.22601217229786574, 'max_depth': 5, 'eta': 0.24431474510203355, 'subsample': 0.6766262078975724, 'colsample_bytree': 0.6268842887986352}.\n",
      "[I 2025-05-15 00:14:31,681] Trial 393 finished with values: [0.5000061268315397, 0.0] and parameters: {'alpha': 0.006398238570445525, 'max_depth': 7, 'eta': 0.1835864240964316, 'subsample': 0.872143282534935, 'colsample_bytree': 0.9532604182421414}.\n",
      "[I 2025-05-15 00:14:31,802] Trial 394 finished with values: [0.5000061268315397, 0.0] and parameters: {'alpha': 0.006398238570445525, 'max_depth': 5, 'eta': 0.11212601398592194, 'subsample': 0.6766262078975724, 'colsample_bytree': 0.6268842887986352}.\n",
      "[I 2025-05-15 00:14:31,943] Trial 395 finished with values: [0.5000061268315397, 0.0] and parameters: {'alpha': 0.006398238570445525, 'max_depth': 7, 'eta': 0.21500273048430651, 'subsample': 0.872143282534935, 'colsample_bytree': 0.6846054564616372}.\n",
      "[I 2025-05-15 00:14:32,112] Trial 396 finished with values: [0.672857829937537, 0.04263178924518695] and parameters: {'alpha': 0.21340529966904453, 'max_depth': 7, 'eta': 0.1835864240964316, 'subsample': 0.6950815747717355, 'colsample_bytree': 0.7934343882603277}.\n",
      "[I 2025-05-15 00:14:32,236] Trial 397 finished with values: [0.5000061268315397, 0.0] and parameters: {'alpha': 0.006398238570445525, 'max_depth': 7, 'eta': 0.1835864240964316, 'subsample': 0.9984601149714915, 'colsample_bytree': 0.9532604182421414}.\n",
      "[I 2025-05-15 00:14:32,379] Trial 398 finished with values: [0.6742869133941728, 0.05307150746433726] and parameters: {'alpha': 0.8694173170637239, 'max_depth': 5, 'eta': 0.11212601398592194, 'subsample': 0.8638845495021359, 'colsample_bytree': 0.6268842887986352}.\n",
      "[I 2025-05-15 00:14:32,489] Trial 399 finished with values: [0.6714379367282106, 0.012914275554801865] and parameters: {'alpha': 0.023651658030303224, 'max_depth': 7, 'eta': 0.15793403903210032, 'subsample': 0.6103715512957636, 'colsample_bytree': 0.7299936734908551}.\n",
      "[I 2025-05-15 00:14:32,599] Trial 400 finished with values: [0.5000061268315397, 0.0] and parameters: {'alpha': 0.012915419123790906, 'max_depth': 6, 'eta': 0.03467592592210573, 'subsample': 0.920555626974529, 'colsample_bytree': 0.9532604182421414}.\n",
      "[I 2025-05-15 00:14:32,795] Trial 401 finished with values: [0.6692950773971994, 0.047328749308863154] and parameters: {'alpha': 0.4431713599280469, 'max_depth': 7, 'eta': 0.07253350513913152, 'subsample': 0.8376771934629543, 'colsample_bytree': 0.6268842887986352}.\n",
      "[I 2025-05-15 00:14:32,926] Trial 402 finished with values: [0.5000061268315397, 0.0] and parameters: {'alpha': 0.006398238570445525, 'max_depth': 7, 'eta': 0.272173826199644, 'subsample': 0.6500142472469429, 'colsample_bytree': 0.9273609939577232}.\n",
      "[I 2025-05-15 00:14:33,097] Trial 403 finished with values: [0.7021456164052041, 0.08116325521649244] and parameters: {'alpha': 0.9514033263041299, 'max_depth': 7, 'eta': 0.21500273048430651, 'subsample': 0.9984601149714915, 'colsample_bytree': 0.6624630554926771}.\n",
      "[I 2025-05-15 00:14:33,209] Trial 404 finished with values: [0.5000061268315397, 0.0] and parameters: {'alpha': 0.006398238570445525, 'max_depth': 4, 'eta': 0.1835864240964316, 'subsample': 0.9984601149714915, 'colsample_bytree': 0.6846054564616372}.\n",
      "[I 2025-05-15 00:14:33,327] Trial 405 finished with values: [0.5000061268315397, 0.0] and parameters: {'alpha': 0.012915419123790906, 'max_depth': 7, 'eta': 0.1835864240964316, 'subsample': 0.920555626974529, 'colsample_bytree': 0.6846054564616372}.\n",
      "[I 2025-05-15 00:14:33,481] Trial 406 finished with values: [0.7078481648607831, 0.08611774812149396] and parameters: {'alpha': 0.7890755305735752, 'max_depth': 7, 'eta': 0.15793403903210032, 'subsample': 0.920555626974529, 'colsample_bytree': 0.9532604182421414}.\n",
      "[I 2025-05-15 00:14:33,576] Trial 407 finished with values: [0.5000061268315397, 0.0] and parameters: {'alpha': 0.006398238570445525, 'max_depth': 5, 'eta': 0.1835864240964316, 'subsample': 0.8178920914638592, 'colsample_bytree': 0.938607954432039}.\n",
      "[I 2025-05-15 00:14:33,677] Trial 408 finished with values: [0.5000061268315397, 0.0] and parameters: {'alpha': 0.006398238570445525, 'max_depth': 5, 'eta': 0.27499741563348057, 'subsample': 0.8493505201360313, 'colsample_bytree': 0.938607954432039}.\n",
      "[I 2025-05-15 00:14:33,787] Trial 409 finished with values: [0.6592976200322884, 0.020981377774868987] and parameters: {'alpha': 0.08620389478550772, 'max_depth': 3, 'eta': 0.24026710755528385, 'subsample': 0.9971996305437834, 'colsample_bytree': 0.7730914500445354}.\n",
      "[I 2025-05-15 00:14:33,948] Trial 410 finished with values: [0.6928558080831287, 0.061448811732416724] and parameters: {'alpha': 0.5714889549631194, 'max_depth': 7, 'eta': 0.15793403903210032, 'subsample': 0.836245164731417, 'colsample_bytree': 0.7299936734908551}.\n",
      "[I 2025-05-15 00:14:34,048] Trial 411 finished with values: [0.5000061268315397, 0.0] and parameters: {'alpha': 0.006398238570445525, 'max_depth': 6, 'eta': 0.21500273048430651, 'subsample': 0.7126649411379313, 'colsample_bytree': 0.9701655151836737}.\n",
      "[I 2025-05-15 00:14:34,139] Trial 412 finished with values: [0.5000061268315397, 0.0] and parameters: {'alpha': 0.006398238570445525, 'max_depth': 3, 'eta': 0.1835864240964316, 'subsample': 0.6766262078975724, 'colsample_bytree': 0.938607954432039}.\n",
      "[I 2025-05-15 00:14:34,230] Trial 413 finished with values: [0.5000061268315397, 0.0] and parameters: {'alpha': 0.006398238570445525, 'max_depth': 4, 'eta': 0.2842267437206902, 'subsample': 0.6500142472469429, 'colsample_bytree': 0.8731535356532119}.\n",
      "[I 2025-05-15 00:14:34,323] Trial 414 finished with values: [0.5000061268315397, 0.0] and parameters: {'alpha': 0.012915419123790906, 'max_depth': 7, 'eta': 0.21901686836526663, 'subsample': 0.872143282534935, 'colsample_bytree': 0.9273609939577232}.\n",
      "[I 2025-05-15 00:14:34,419] Trial 415 finished with values: [0.5000061268315397, 0.0] and parameters: {'alpha': 0.006398238570445525, 'max_depth': 7, 'eta': 0.1301739291371992, 'subsample': 0.872143282534935, 'colsample_bytree': 0.9532604182421414}.\n",
      "[I 2025-05-15 00:14:34,518] Trial 416 finished with values: [0.5000061268315397, 0.0] and parameters: {'alpha': 0.006398238570445525, 'max_depth': 7, 'eta': 0.10022879453843885, 'subsample': 0.872143282534935, 'colsample_bytree': 0.8610767213054858}.\n",
      "[I 2025-05-15 00:14:34,833] Trial 417 finished with values: [0.6564394531190167, 0.02537554911110601] and parameters: {'alpha': 0.12082713516430721, 'max_depth': 7, 'eta': 0.10022879453843885, 'subsample': 0.8493505201360313, 'colsample_bytree': 0.693506620979073}.\n",
      "[I 2025-05-15 00:14:34,926] Trial 418 finished with values: [0.5000061268315397, 0.0] and parameters: {'alpha': 0.006398238570445525, 'max_depth': 6, 'eta': 0.10022879453843885, 'subsample': 0.6631956570556669, 'colsample_bytree': 0.7171393924105901}.\n",
      "[I 2025-05-15 00:14:35,064] Trial 419 finished with values: [0.6600159910303186, 0.022739586689305046] and parameters: {'alpha': 0.12082713516430721, 'max_depth': 7, 'eta': 0.10022879453843885, 'subsample': 0.9847458552459889, 'colsample_bytree': 0.6624630554926771}.\n",
      "[I 2025-05-15 00:14:35,155] Trial 420 finished with values: [0.5000061268315397, 0.0] and parameters: {'alpha': 0.006398238570445525, 'max_depth': 3, 'eta': 0.17506242442890937, 'subsample': 0.6766262078975724, 'colsample_bytree': 0.939918536631748}.\n",
      "[I 2025-05-15 00:14:35,302] Trial 421 finished with values: [0.6878471232994213, 0.06675218892504069] and parameters: {'alpha': 0.8793156823733568, 'max_depth': 7, 'eta': 0.04968531851284653, 'subsample': 0.8335060616332557, 'colsample_bytree': 0.9532604182421414}.\n",
      "[I 2025-05-15 00:14:35,426] Trial 422 finished with values: [0.7028517337401549, 0.0787005158216727] and parameters: {'alpha': 0.8307766407519308, 'max_depth': 6, 'eta': 0.1919795686809288, 'subsample': 0.871229825323997, 'colsample_bytree': 0.9532604182421414}.\n",
      "[I 2025-05-15 00:14:35,525] Trial 423 finished with values: [0.5000061268315397, 0.0] and parameters: {'alpha': 0.006398238570445525, 'max_depth': 3, 'eta': 0.1919795686809288, 'subsample': 0.872143282534935, 'colsample_bytree': 0.8610767213054858}.\n",
      "[I 2025-05-15 00:14:35,671] Trial 424 finished with values: [0.7042869440283305, 0.049377795343286644] and parameters: {'alpha': 0.9374283216392799, 'max_depth': 5, 'eta': 0.21901686836526663, 'subsample': 0.807108008558591, 'colsample_bytree': 0.9611620505991075}.\n",
      "[I 2025-05-15 00:14:35,822] Trial 425 finished with values: [0.6842920292985085, 0.04762664911298009] and parameters: {'alpha': 0.52761274901131, 'max_depth': 5, 'eta': 0.1835864240964316, 'subsample': 0.6766262078975724, 'colsample_bytree': 0.938607954432039}.\n",
      "[I 2025-05-15 00:14:35,980] Trial 426 finished with values: [0.6878440598836514, 0.06429126452825482] and parameters: {'alpha': 0.42532762199046314, 'max_depth': 7, 'eta': 0.1835864240964316, 'subsample': 0.920555626974529, 'colsample_bytree': 0.9532604182421414}.\n",
      "[I 2025-05-15 00:14:36,132] Trial 427 finished with values: [0.6664384421918127, 0.02751651840632942] and parameters: {'alpha': 0.12082713516430721, 'max_depth': 6, 'eta': 0.24991337520224496, 'subsample': 0.6631956570556669, 'colsample_bytree': 0.7171393924105901}.\n",
      "[I 2025-05-15 00:14:36,297] Trial 428 finished with values: [0.6657216029016675, 0.036814005089857715] and parameters: {'alpha': 0.8858415002539746, 'max_depth': 4, 'eta': 0.05148993795553561, 'subsample': 0.6500142472469429, 'colsample_bytree': 0.8113872904431338}.\n",
      "[I 2025-05-15 00:14:36,576] Trial 429 finished with values: [0.6707241608538353, 0.02536321995766157] and parameters: {'alpha': 0.17563514568529648, 'max_depth': 5, 'eta': 0.1835864240964316, 'subsample': 0.7190259527785925, 'colsample_bytree': 0.9474377445435861}.\n",
      "[I 2025-05-15 00:14:36,702] Trial 430 finished with values: [0.5000061268315397, 0.0] and parameters: {'alpha': 0.006398238570445525, 'max_depth': 7, 'eta': 0.21500273048430651, 'subsample': 0.9984601149714915, 'colsample_bytree': 0.6624630554926771}.\n",
      "[I 2025-05-15 00:14:36,906] Trial 431 finished with values: [0.6942726378766851, 0.0824370295225182] and parameters: {'alpha': 0.8386845819679706, 'max_depth': 7, 'eta': 0.17506242442890937, 'subsample': 0.6766262078975724, 'colsample_bytree': 0.6268842887986352}.\n",
      "[I 2025-05-15 00:14:37,137] Trial 432 finished with values: [0.6878655037940405, 0.062192430579385116] and parameters: {'alpha': 0.7786662237093137, 'max_depth': 5, 'eta': 0.1835864240964316, 'subsample': 0.7736596148204538, 'colsample_bytree': 0.8899548278667326}.\n",
      "[I 2025-05-15 00:14:37,277] Trial 433 finished with values: [0.5000061268315397, 0.0] and parameters: {'alpha': 0.006398238570445525, 'max_depth': 4, 'eta': 0.22573166199874178, 'subsample': 0.7645830844743573, 'colsample_bytree': 0.6846054564616372}.\n",
      "[I 2025-05-15 00:14:37,425] Trial 434 finished with values: [0.5000061268315397, 0.0] and parameters: {'alpha': 0.008318822215806598, 'max_depth': 7, 'eta': 0.1835864240964316, 'subsample': 0.9984601149714915, 'colsample_bytree': 0.9676017286269798}.\n",
      "[I 2025-05-15 00:14:37,560] Trial 435 finished with values: [0.5000061268315397, 0.0] and parameters: {'alpha': 0.006398238570445525, 'max_depth': 5, 'eta': 0.21901686836526663, 'subsample': 0.6819125803212454, 'colsample_bytree': 0.9611620505991075}.\n",
      "[I 2025-05-15 00:14:37,672] Trial 436 finished with values: [0.5000061268315397, 0.0] and parameters: {'alpha': 0.006398238570445525, 'max_depth': 4, 'eta': 0.2743823608550061, 'subsample': 0.872143282534935, 'colsample_bytree': 0.939918536631748}.\n",
      "[I 2025-05-15 00:14:37,780] Trial 437 finished with values: [0.5000061268315397, 0.0] and parameters: {'alpha': 0.012915419123790906, 'max_depth': 7, 'eta': 0.03366266127460038, 'subsample': 0.8493505201360313, 'colsample_bytree': 0.9273609939577232}.\n",
      "[I 2025-05-15 00:14:37,899] Trial 438 finished with values: [0.6650216123982563, 0.024219084577649718] and parameters: {'alpha': 0.12082713516430721, 'max_depth': 7, 'eta': 0.10022879453843885, 'subsample': 0.8088010652239656, 'colsample_bytree': 0.7730914500445354}.\n",
      "[I 2025-05-15 00:14:38,020] Trial 439 finished with values: [0.6614481379027243, 0.021034366915955283] and parameters: {'alpha': 0.12082713516430721, 'max_depth': 7, 'eta': 0.10022879453843885, 'subsample': 0.6766262078975724, 'colsample_bytree': 0.7730914500445354}.\n",
      "[I 2025-05-15 00:14:38,121] Trial 440 finished with values: [0.5000061268315397, 0.0] and parameters: {'alpha': 0.006398238570445525, 'max_depth': 5, 'eta': 0.1835864240964316, 'subsample': 0.9783768119146362, 'colsample_bytree': 0.6268842887986352}.\n",
      "[I 2025-05-15 00:14:38,217] Trial 441 finished with values: [0.5000061268315397, 0.0] and parameters: {'alpha': 0.008318822215806598, 'max_depth': 5, 'eta': 0.24431474510203355, 'subsample': 0.6766262078975724, 'colsample_bytree': 0.6268842887986352}.\n",
      "[I 2025-05-15 00:14:38,343] Trial 442 finished with values: [0.7100094046864135, 0.061518217556398] and parameters: {'alpha': 0.8694173170637239, 'max_depth': 7, 'eta': 0.1835864240964316, 'subsample': 0.8493505201360313, 'colsample_bytree': 0.6479107585243286}.\n",
      "[I 2025-05-15 00:14:38,471] Trial 443 finished with values: [0.6564379214111319, 0.016779754493584913] and parameters: {'alpha': 0.12082713516430721, 'max_depth': 7, 'eta': 0.1835864240964316, 'subsample': 0.871229825323997, 'colsample_bytree': 0.7171393924105901}.\n",
      "[I 2025-05-15 00:14:38,601] Trial 444 finished with values: [0.6700134483952297, 0.023472253373294172] and parameters: {'alpha': 0.28614623072435963, 'max_depth': 4, 'eta': 0.24431474510203355, 'subsample': 0.739861602996507, 'colsample_bytree': 0.6268842887986352}.\n",
      "[I 2025-05-15 00:14:38,709] Trial 445 finished with values: [0.5000061268315397, 0.0] and parameters: {'alpha': 0.006398238570445525, 'max_depth': 6, 'eta': 0.2743823608550061, 'subsample': 0.6950815747717355, 'colsample_bytree': 0.6268842887986352}.\n",
      "[I 2025-05-15 00:14:38,799] Trial 446 finished with values: [0.5000061268315397, 0.0] and parameters: {'alpha': 0.006398238570445525, 'max_depth': 4, 'eta': 0.2743823608550061, 'subsample': 0.6500142472469429, 'colsample_bytree': 0.939918536631748}.\n",
      "[I 2025-05-15 00:14:38,938] Trial 447 finished with values: [0.5000061268315397, 0.0] and parameters: {'alpha': 0.006398238570445525, 'max_depth': 6, 'eta': 0.17506242442890937, 'subsample': 0.9155923277662629, 'colsample_bytree': 0.9912791020006053}.\n",
      "[I 2025-05-15 00:14:39,075] Trial 448 finished with values: [0.6871456010881253, 0.0667446829773587] and parameters: {'alpha': 0.9418408030080074, 'max_depth': 5, 'eta': 0.1835864240964316, 'subsample': 0.7572689551031343, 'colsample_bytree': 0.6268842887986352}.\n",
      "[I 2025-05-15 00:14:39,193] Trial 449 finished with values: [0.5000061268315397, 0.0] and parameters: {'alpha': 0.006398238570445525, 'max_depth': 7, 'eta': 0.1497831041686096, 'subsample': 0.9984601149714915, 'colsample_bytree': 0.6846054564616372}.\n",
      "[I 2025-05-15 00:14:39,356] Trial 450 finished with values: [0.6992843860761626, 0.07639172412843476] and parameters: {'alpha': 0.9776062185303493, 'max_depth': 7, 'eta': 0.23212779617479912, 'subsample': 0.8126899029458226, 'colsample_bytree': 0.6846054564616372}.\n",
      "[I 2025-05-15 00:14:39,481] Trial 451 finished with values: [0.5000061268315397, 0.0] and parameters: {'alpha': 0.006398238570445525, 'max_depth': 4, 'eta': 0.15511827510132917, 'subsample': 0.7126649411379313, 'colsample_bytree': 0.9171521282961637}.\n",
      "[I 2025-05-15 00:14:39,605] Trial 452 finished with values: [0.6707226291459504, 0.012983203043084202] and parameters: {'alpha': 0.04470715119845925, 'max_depth': 5, 'eta': 0.07257095200779526, 'subsample': 0.807108008558591, 'colsample_bytree': 0.9611620505991075}.\n",
      "[I 2025-05-15 00:14:39,701] Trial 453 finished with values: [0.5000061268315397, 0.0] and parameters: {'alpha': 0.006398238570445525, 'max_depth': 7, 'eta': 0.15780100657948715, 'subsample': 0.6766262078975724, 'colsample_bytree': 0.938607954432039}.\n",
      "[I 2025-05-15 00:14:39,798] Trial 454 finished with values: [0.5000061268315397, 0.0] and parameters: {'alpha': 0.006398238570445525, 'max_depth': 7, 'eta': 0.24026710755528385, 'subsample': 0.8376771934629543, 'colsample_bytree': 0.7894887198211535}.\n",
      "[I 2025-05-15 00:14:39,939] Trial 455 finished with values: [0.6600052690751242, 0.02855093592646456] and parameters: {'alpha': 0.10893307932059104, 'max_depth': 6, 'eta': 0.15511827510132917, 'subsample': 0.872143282534935, 'colsample_bytree': 0.9532604182421414}.\n",
      "[I 2025-05-15 00:14:40,047] Trial 456 finished with values: [0.5000061268315397, 0.0] and parameters: {'alpha': 0.012915419123790906, 'max_depth': 7, 'eta': 0.03467592592210573, 'subsample': 0.920555626974529, 'colsample_bytree': 0.9156345503220276}.\n",
      "[I 2025-05-15 00:14:40,172] Trial 457 finished with values: [0.5000061268315397, 0.0] and parameters: {'alpha': 0.012915419123790906, 'max_depth': 7, 'eta': 0.22739873665679933, 'subsample': 0.9929231441442979, 'colsample_bytree': 0.7299936734908551}.\n",
      "[I 2025-05-15 00:14:40,272] Trial 458 finished with values: [0.5000061268315397, 0.0] and parameters: {'alpha': 0.012915419123790906, 'max_depth': 6, 'eta': 0.10022879453843885, 'subsample': 0.6631956570556669, 'colsample_bytree': 0.9455874296140568}.\n",
      "[I 2025-05-15 00:14:40,409] Trial 459 finished with values: [0.7014287771150588, 0.06435739591520108] and parameters: {'alpha': 0.7933407592633754, 'max_depth': 6, 'eta': 0.1919795686809288, 'subsample': 0.872143282534935, 'colsample_bytree': 0.9532604182421414}.\n",
      "[I 2025-05-15 00:14:40,514] Trial 460 finished with values: [0.5000061268315397, 0.0] and parameters: {'alpha': 0.006398238570445525, 'max_depth': 5, 'eta': 0.21901686836526663, 'subsample': 0.807108008558591, 'colsample_bytree': 0.9611620505991075}.\n",
      "[I 2025-05-15 00:14:40,635] Trial 461 finished with values: [0.6600159910303186, 0.02106922977047167] and parameters: {'alpha': 0.12082713516430721, 'max_depth': 5, 'eta': 0.14750567250992436, 'subsample': 0.7519143142125005, 'colsample_bytree': 0.7730914500445354}.\n",
      "[I 2025-05-15 00:14:40,823] Trial 462 finished with values: [0.6807154913872067, 0.054790806024471866] and parameters: {'alpha': 0.9065855811075252, 'max_depth': 5, 'eta': 0.11057674458288888, 'subsample': 0.6766262078975724, 'colsample_bytree': 0.6268842887986352}.\n",
      "[I 2025-05-15 00:14:40,985] Trial 463 finished with values: [0.6835828485477878, 0.08880123472940249] and parameters: {'alpha': 0.8931826153952228, 'max_depth': 4, 'eta': 0.20673632413379556, 'subsample': 0.9984601149714915, 'colsample_bytree': 0.6624630554926771}.\n",
      "[I 2025-05-15 00:14:41,119] Trial 464 finished with values: [0.5000061268315397, 0.0] and parameters: {'alpha': 0.006398238570445525, 'max_depth': 5, 'eta': 0.10022879453843885, 'subsample': 0.872143282534935, 'colsample_bytree': 0.8610767213054858}.\n",
      "[I 2025-05-15 00:14:41,290] Trial 465 finished with values: [0.6828598824261028, 0.05830417541097837] and parameters: {'alpha': 0.745366509155372, 'max_depth': 5, 'eta': 0.12838035501508507, 'subsample': 0.6766262078975724, 'colsample_bytree': 0.938607954432039}.\n",
      "[I 2025-05-15 00:14:41,472] Trial 466 finished with values: [0.668581301522824, 0.02027944740876027] and parameters: {'alpha': 0.09952453493295843, 'max_depth': 5, 'eta': 0.21901686836526663, 'subsample': 0.6766262078975724, 'colsample_bytree': 0.8463548783024408}.\n",
      "[I 2025-05-15 00:14:41,660] Trial 467 finished with values: [0.6550164964939206, 0.013367519101287287] and parameters: {'alpha': 0.12082713516430721, 'max_depth': 7, 'eta': 0.07257095200779526, 'subsample': 0.6631956570556669, 'colsample_bytree': 0.7730914500445354}.\n",
      "[I 2025-05-15 00:14:41,823] Trial 468 finished with values: [0.5000061268315397, 0.0] and parameters: {'alpha': 0.006398238570445525, 'max_depth': 5, 'eta': 0.08338196762054015, 'subsample': 0.8472770656657291, 'colsample_bytree': 0.938607954432039}.\n",
      "[I 2025-05-15 00:14:41,931] Trial 469 finished with values: [0.5000061268315397, 0.0] and parameters: {'alpha': 0.006398238570445525, 'max_depth': 5, 'eta': 0.15780100657948715, 'subsample': 0.6766262078975724, 'colsample_bytree': 0.6624630554926771}.\n",
      "[I 2025-05-15 00:14:42,084] Trial 470 finished with values: [0.6807292767581709, 0.04777893080459117] and parameters: {'alpha': 0.5389631815165317, 'max_depth': 7, 'eta': 0.10022879453843885, 'subsample': 0.8493505201360313, 'colsample_bytree': 0.6268842887986352}.\n",
      "[I 2025-05-15 00:14:42,225] Trial 471 finished with values: [0.6728654884769615, 0.03782468477404527] and parameters: {'alpha': 0.5873082439593665, 'max_depth': 5, 'eta': 0.11212601398592194, 'subsample': 0.6766262078975724, 'colsample_bytree': 0.9532604182421414}.\n",
      "[I 2025-05-15 00:14:42,384] Trial 472 finished with values: [0.6778435391029706, 0.057592722730658456] and parameters: {'alpha': 0.4638103308196386, 'max_depth': 7, 'eta': 0.19819072269491783, 'subsample': 0.8376771934629543, 'colsample_bytree': 0.7894887198211535}.\n",
      "[I 2025-05-15 00:14:42,526] Trial 473 finished with values: [0.7007058109933739, 0.06223409505121517] and parameters: {'alpha': 0.7062339500308584, 'max_depth': 7, 'eta': 0.1835864240964316, 'subsample': 0.871229825323997, 'colsample_bytree': 0.9532604182421414}.\n",
      "[I 2025-05-15 00:14:42,635] Trial 474 finished with values: [0.5000061268315397, 0.0] and parameters: {'alpha': 0.006398238570445525, 'max_depth': 5, 'eta': 0.017925069668609996, 'subsample': 0.8472770656657291, 'colsample_bytree': 0.6268842887986352}.\n",
      "[I 2025-05-15 00:14:42,762] Trial 475 finished with values: [0.6692889505656597, 0.041710149904352005] and parameters: {'alpha': 0.22543719525815686, 'max_depth': 5, 'eta': 0.21901686836526663, 'subsample': 0.9984601149714915, 'colsample_bytree': 0.9611620505991075}.\n",
      "[I 2025-05-15 00:14:42,870] Trial 476 finished with values: [0.5000061268315397, 0.0] and parameters: {'alpha': 0.006398238570445525, 'max_depth': 5, 'eta': 0.11212601398592194, 'subsample': 0.807108008558591, 'colsample_bytree': 0.8156773622103473}.\n",
      "[I 2025-05-15 00:14:42,974] Trial 477 finished with values: [0.5000061268315397, 0.0] and parameters: {'alpha': 0.006398238570445525, 'max_depth': 5, 'eta': 0.21901686836526663, 'subsample': 0.8376771934629543, 'colsample_bytree': 0.9273609939577232}.\n",
      "[I 2025-05-15 00:14:43,107] Trial 478 finished with values: [0.7042869440283305, 0.049377795343286644] and parameters: {'alpha': 0.9374283216392799, 'max_depth': 5, 'eta': 0.21901686836526663, 'subsample': 0.807108008558591, 'colsample_bytree': 0.9611620505991075}.\n",
      "[I 2025-05-15 00:14:43,221] Trial 479 finished with values: [0.5000061268315397, 0.0] and parameters: {'alpha': 0.006398238570445525, 'max_depth': 6, 'eta': 0.1835864240964316, 'subsample': 0.8376771934629543, 'colsample_bytree': 0.61983287742417}.\n",
      "[I 2025-05-15 00:14:43,406] Trial 480 finished with values: [0.7078451014450132, 0.08018615656621299] and parameters: {'alpha': 0.8694173170637239, 'max_depth': 7, 'eta': 0.1835864240964316, 'subsample': 0.8493505201360313, 'colsample_bytree': 0.8801782299660328}.\n",
      "[I 2025-05-15 00:14:43,531] Trial 481 finished with values: [0.6757267188060031, 0.03280348312682074] and parameters: {'alpha': 0.22601217229786574, 'max_depth': 3, 'eta': 0.24026710755528385, 'subsample': 0.6766262078975724, 'colsample_bytree': 0.7894887198211535}.\n",
      "[I 2025-05-15 00:14:43,685] Trial 482 finished with values: [0.6842859024669687, 0.0409484420893243] and parameters: {'alpha': 0.8078133184641868, 'max_depth': 7, 'eta': 0.11212601398592194, 'subsample': 0.6964391723636559, 'colsample_bytree': 0.6268842887986352}.\n",
      "[I 2025-05-15 00:14:43,791] Trial 483 finished with values: [0.5000061268315397, 0.0] and parameters: {'alpha': 0.006398238570445525, 'max_depth': 5, 'eta': 0.2743823608550061, 'subsample': 0.6950815747717355, 'colsample_bytree': 0.8430655149820465}.\n",
      "[I 2025-05-15 00:14:43,946] Trial 484 finished with values: [0.6571608875328169, 0.024505935510231208] and parameters: {'alpha': 0.12082713516430721, 'max_depth': 7, 'eta': 0.2013606554360658, 'subsample': 0.6631956570556669, 'colsample_bytree': 0.7171393924105901}.\n",
      "[I 2025-05-15 00:14:44,059] Trial 485 finished with values: [0.5000061268315397, 0.0] and parameters: {'alpha': 0.006398238570445525, 'max_depth': 5, 'eta': 0.023066275823981394, 'subsample': 0.872143282534935, 'colsample_bytree': 0.9532604182421414}.\n",
      "[I 2025-05-15 00:14:44,215] Trial 486 finished with values: [0.6957216335358251, 0.06234786090123332] and parameters: {'alpha': 0.9374283216392799, 'max_depth': 7, 'eta': 0.11212601398592194, 'subsample': 0.807108008558591, 'colsample_bytree': 0.6268842887986352}.\n",
      "[I 2025-05-15 00:14:44,332] Trial 487 finished with values: [0.5000061268315397, 0.0] and parameters: {'alpha': 0.012915419123790906, 'max_depth': 5, 'eta': 0.03467592592210573, 'subsample': 0.920555626974529, 'colsample_bytree': 0.9532604182421414}.\n",
      "[I 2025-05-15 00:14:44,537] Trial 488 finished with values: [0.7021348944500097, 0.0839175179656015] and parameters: {'alpha': 0.8694173170637239, 'max_depth': 7, 'eta': 0.11212601398592194, 'subsample': 0.9822450878423797, 'colsample_bytree': 0.8778999079756078}.\n",
      "[I 2025-05-15 00:14:44,640] Trial 489 finished with values: [0.5000061268315397, 0.0] and parameters: {'alpha': 0.006398238570445525, 'max_depth': 6, 'eta': 0.2502558802477488, 'subsample': 0.7126649411379313, 'colsample_bytree': 0.6846054564616372}.\n",
      "[I 2025-05-15 00:14:44,793] Trial 490 finished with values: [0.7135660303952113, 0.06669384886751864] and parameters: {'alpha': 0.8694173170637239, 'max_depth': 7, 'eta': 0.1835864240964316, 'subsample': 0.872143282534935, 'colsample_bytree': 0.9611620505991075}.\n",
      "[I 2025-05-15 00:14:44,917] Trial 491 finished with values: [0.5000061268315397, 0.0] and parameters: {'alpha': 0.006398238570445525, 'max_depth': 6, 'eta': 0.1919795686809288, 'subsample': 0.8373516158086989, 'colsample_bytree': 0.8610767213054858}.\n",
      "[I 2025-05-15 00:14:45,116] Trial 492 finished with values: [0.6807200865108612, 0.029715609272550365] and parameters: {'alpha': 0.4122879967049152, 'max_depth': 5, 'eta': 0.1835864240964316, 'subsample': 0.807108008558591, 'colsample_bytree': 0.6482350599140047}.\n",
      "[I 2025-05-15 00:14:45,268] Trial 493 finished with values: [0.5000061268315397, 0.0] and parameters: {'alpha': 0.012915419123790906, 'max_depth': 4, 'eta': 0.21901686836526663, 'subsample': 0.8383173561174665, 'colsample_bytree': 0.7642776900822141}.\n",
      "[I 2025-05-15 00:14:45,393] Trial 494 finished with values: [0.5000061268315397, 0.0] and parameters: {'alpha': 0.006398238570445525, 'max_depth': 6, 'eta': 0.24026710755528385, 'subsample': 0.7587156097639315, 'colsample_bytree': 0.938607954432039}.\n",
      "[I 2025-05-15 00:14:45,536] Trial 495 finished with values: [0.5000061268315397, 0.0] and parameters: {'alpha': 0.006398238570445525, 'max_depth': 3, 'eta': 0.15793403903210032, 'subsample': 0.9223421023282775, 'colsample_bytree': 0.7299936734908551}.\n",
      "[I 2025-05-15 00:14:45,712] Trial 496 finished with values: [0.5000061268315397, 0.0] and parameters: {'alpha': 0.006398238570445525, 'max_depth': 5, 'eta': 0.21500273048430651, 'subsample': 0.872143282534935, 'colsample_bytree': 0.9532604182421414}.\n",
      "[I 2025-05-15 00:14:45,851] Trial 497 finished with values: [0.6628649676962807, 0.037416843437848984] and parameters: {'alpha': 0.29670963249527726, 'max_depth': 3, 'eta': 0.1835864240964316, 'subsample': 0.872143282534935, 'colsample_bytree': 0.9532604182421414}.\n",
      "[I 2025-05-15 00:14:46,009] Trial 498 finished with values: [0.6921405005008685, 0.07902342541353395] and parameters: {'alpha': 0.8694173170637239, 'max_depth': 7, 'eta': 0.1581233209051188, 'subsample': 0.8493505201360313, 'colsample_bytree': 0.7299936734908551}.\n",
      "[I 2025-05-15 00:14:46,146] Trial 499 finished with values: [0.6907313292467366, 0.08606909350646436] and parameters: {'alpha': 0.8694173170637239, 'max_depth': 5, 'eta': 0.22650034675469044, 'subsample': 0.6766262078975724, 'colsample_bytree': 0.938607954432039}.\n",
      "[I 2025-05-15 00:14:46,288] Trial 500 finished with values: [0.6864287617979801, 0.04251336154354593] and parameters: {'alpha': 0.9290504276652559, 'max_depth': 5, 'eta': 0.11212601398592194, 'subsample': 0.8725856186594767, 'colsample_bytree': 0.7299936734908551}.\n",
      "[I 2025-05-15 00:14:46,436] Trial 501 finished with values: [0.7014287771150588, 0.04677814777151584] and parameters: {'alpha': 0.9374283216392799, 'max_depth': 5, 'eta': 0.18707085549744343, 'subsample': 0.807108008558591, 'colsample_bytree': 0.635435531765176}.\n",
      "[I 2025-05-15 00:14:46,550] Trial 502 finished with values: [0.6821491699674972, 0.04784589069249794] and parameters: {'alpha': 0.8694173170637239, 'max_depth': 4, 'eta': 0.1835864240964316, 'subsample': 0.8376771934629543, 'colsample_bytree': 0.6479107585243286}.\n",
      "[I 2025-05-15 00:14:46,648] Trial 503 finished with values: [0.5000061268315397, 0.0] and parameters: {'alpha': 0.006398238570445525, 'max_depth': 6, 'eta': 0.1835864240964316, 'subsample': 0.872143282534935, 'colsample_bytree': 0.8610767213054858}.\n",
      "[I 2025-05-15 00:14:46,756] Trial 504 finished with values: [0.5000061268315397, 0.0] and parameters: {'alpha': 0.006398238570445525, 'max_depth': 3, 'eta': 0.21500273048430651, 'subsample': 0.872143282534935, 'colsample_bytree': 0.6846054564616372}.\n",
      "[I 2025-05-15 00:14:46,908] Trial 505 finished with values: [0.6607282351968092, 0.012401097605384779] and parameters: {'alpha': 0.12082713516430721, 'max_depth': 7, 'eta': 0.04398604282551325, 'subsample': 0.6631956570556669, 'colsample_bytree': 0.7171393924105901}.\n",
      "[I 2025-05-15 00:14:47,011] Trial 506 finished with values: [0.5000061268315397, 0.0] and parameters: {'alpha': 0.006398238570445525, 'max_depth': 5, 'eta': 0.16786994069476005, 'subsample': 0.6766262078975724, 'colsample_bytree': 0.938607954432039}.\n",
      "[I 2025-05-15 00:14:47,155] Trial 507 finished with values: [0.6935588620023099, 0.07272330097569858] and parameters: {'alpha': 0.9374283216392799, 'max_depth': 5, 'eta': 0.21901686836526663, 'subsample': 0.9431578043779736, 'colsample_bytree': 0.9735589634746069}.\n",
      "[I 2025-05-15 00:14:47,272] Trial 508 finished with values: [0.5000061268315397, 0.0] and parameters: {'alpha': 0.006398238570445525, 'max_depth': 5, 'eta': 0.05515883929531954, 'subsample': 0.6766262078975724, 'colsample_bytree': 0.938607954432039}.\n",
      "[I 2025-05-15 00:14:47,461] Trial 509 finished with values: [0.6635879338179658, 0.014658960056085218] and parameters: {'alpha': 0.12082713516430721, 'max_depth': 7, 'eta': 0.024331694643488434, 'subsample': 0.6766262078975724, 'colsample_bytree': 0.7171393924105901}.\n",
      "[I 2025-05-15 00:14:47,581] Trial 510 finished with values: [0.5000061268315397, 0.0] and parameters: {'alpha': 0.006398238570445525, 'max_depth': 5, 'eta': 0.21500273048430651, 'subsample': 0.807108008558591, 'colsample_bytree': 0.6846054564616372}.\n",
      "[I 2025-05-15 00:14:47,703] Trial 511 finished with values: [0.6814384575088915, 0.0546937669229364] and parameters: {'alpha': 0.4997279992205237, 'max_depth': 7, 'eta': 0.10022879453843885, 'subsample': 0.807108008558591, 'colsample_bytree': 0.6923066283065741}.\n",
      "[I 2025-05-15 00:14:47,837] Trial 512 finished with values: [0.6871410059644706, 0.06476665777670627] and parameters: {'alpha': 0.8694173170637239, 'max_depth': 7, 'eta': 0.11212601398592194, 'subsample': 0.6766262078975724, 'colsample_bytree': 0.6268842887986352}.\n",
      "[I 2025-05-15 00:14:47,973] Trial 513 finished with values: [0.5000061268315397, 0.0] and parameters: {'alpha': 0.008318822215806598, 'max_depth': 5, 'eta': 0.07253350513913152, 'subsample': 0.6433737533026959, 'colsample_bytree': 0.8034926312801114}.\n",
      "[I 2025-05-15 00:14:48,119] Trial 514 finished with values: [0.5000061268315397, 0.0] and parameters: {'alpha': 0.006398238570445525, 'max_depth': 7, 'eta': 0.1835864240964316, 'subsample': 0.9396545619137555, 'colsample_bytree': 0.735616064457192}.\n",
      "[I 2025-05-15 00:14:48,246] Trial 515 finished with values: [0.5000061268315397, 0.0] and parameters: {'alpha': 0.006398238570445525, 'max_depth': 7, 'eta': 0.11212601398592194, 'subsample': 0.6766262078975724, 'colsample_bytree': 0.7756140337030943}.\n",
      "[I 2025-05-15 00:14:48,496] Trial 516 finished with values: [0.6678690573563335, 0.018387386852030414] and parameters: {'alpha': 0.283042512159431, 'max_depth': 3, 'eta': 0.21500273048430651, 'subsample': 0.6766262078975724, 'colsample_bytree': 0.6268842887986352}.\n",
      "[I 2025-05-15 00:14:48,628] Trial 517 finished with values: [0.5000061268315397, 0.0] and parameters: {'alpha': 0.006398238570445525, 'max_depth': 7, 'eta': 0.165764609912653, 'subsample': 0.7223152439093601, 'colsample_bytree': 0.8327877134801569}.\n",
      "[I 2025-05-15 00:14:48,814] Trial 518 finished with values: [0.6842889658827387, 0.061593787861452975] and parameters: {'alpha': 0.9599182458391406, 'max_depth': 5, 'eta': 0.1835864240964316, 'subsample': 0.7370525877581406, 'colsample_bytree': 0.6846054564616372}.\n",
      "[I 2025-05-15 00:14:48,992] Trial 519 finished with values: [0.5000061268315397, 0.0] and parameters: {'alpha': 0.006398238570445525, 'max_depth': 5, 'eta': 0.24431474510203355, 'subsample': 0.6766262078975724, 'colsample_bytree': 0.6268842887986352}.\n",
      "[I 2025-05-15 00:14:49,174] Trial 520 finished with values: [0.7042869440283305, 0.049377795343286644] and parameters: {'alpha': 0.9374283216392799, 'max_depth': 5, 'eta': 0.21901686836526663, 'subsample': 0.807108008558591, 'colsample_bytree': 0.9611620505991075}.\n",
      "[I 2025-05-15 00:14:49,350] Trial 521 finished with values: [0.7021548066525137, 0.0589869445495371] and parameters: {'alpha': 0.7596148321397904, 'max_depth': 7, 'eta': 0.24026710755528385, 'subsample': 0.8376771934629543, 'colsample_bytree': 0.6104092932802265}.\n",
      "[I 2025-05-15 00:14:49,534] Trial 522 finished with values: [0.6871348791329308, 0.06337130870931014] and parameters: {'alpha': 0.41725821611291747, 'max_depth': 7, 'eta': 0.23778558758784907, 'subsample': 0.8493505201360313, 'colsample_bytree': 0.9289862001173196}.\n",
      "[I 2025-05-15 00:14:49,784] Trial 523 finished with values: [0.7292874801260902, 0.07395811450440286] and parameters: {'alpha': 0.8694173170637239, 'max_depth': 7, 'eta': 0.24026710755528385, 'subsample': 0.8376771934629543, 'colsample_bytree': 0.9901074621532081}.\n",
      "[I 2025-05-15 00:14:49,871] Trial 524 finished with values: [0.5000061268315397, 0.0] and parameters: {'alpha': 0.006398238570445525, 'max_depth': 6, 'eta': 0.10749039742554378, 'subsample': 0.872143282534935, 'colsample_bytree': 0.9611620505991075}.\n",
      "[I 2025-05-15 00:14:49,960] Trial 525 finished with values: [0.5000061268315397, 0.0] and parameters: {'alpha': 0.006398238570445525, 'max_depth': 7, 'eta': 0.1835864240964316, 'subsample': 0.9984601149714915, 'colsample_bytree': 0.9856315675163443}.\n",
      "[I 2025-05-15 00:14:50,056] Trial 526 finished with values: [0.5000061268315397, 0.0] and parameters: {'alpha': 0.006398238570445525, 'max_depth': 7, 'eta': 0.1835864240964316, 'subsample': 0.6766262078975724, 'colsample_bytree': 0.938607954432039}.\n",
      "[I 2025-05-15 00:14:50,226] Trial 527 finished with values: [0.7135629669794414, 0.09488859906804098] and parameters: {'alpha': 0.8694173170637239, 'max_depth': 7, 'eta': 0.15793403903210032, 'subsample': 0.8493505201360313, 'colsample_bytree': 0.884468364101765}.\n",
      "[I 2025-05-15 00:14:50,403] Trial 528 finished with values: [0.5000061268315397, 0.0] and parameters: {'alpha': 0.006398238570445525, 'max_depth': 4, 'eta': 0.09932863240626702, 'subsample': 0.7645830844743573, 'colsample_bytree': 0.9171521282961637}.\n",
      "[I 2025-05-15 00:14:50,807] Trial 529 finished with values: [0.6814415209246615, 0.042943848941532865] and parameters: {'alpha': 0.8582682767310598, 'max_depth': 5, 'eta': 0.022998827788335237, 'subsample': 0.6766262078975724, 'colsample_bytree': 0.6268842887986352}.\n",
      "[I 2025-05-15 00:14:51,083] Trial 530 finished with values: [0.7050053150263608, 0.04590912639758284] and parameters: {'alpha': 0.6370308795473967, 'max_depth': 7, 'eta': 0.22739873665679933, 'subsample': 0.8493505201360313, 'colsample_bytree': 0.6198060693014039}.\n",
      "[I 2025-05-15 00:14:51,363] Trial 531 finished with values: [0.6707226291459504, 0.012983203043084202] and parameters: {'alpha': 0.037318351643265024, 'max_depth': 7, 'eta': 0.037391350955067376, 'subsample': 0.871229825323997, 'colsample_bytree': 0.9587809278427826}.\n",
      "[I 2025-05-15 00:14:51,892] Trial 532 finished with values: [0.6614481379027243, 0.021034366915955283] and parameters: {'alpha': 0.12082713516430721, 'max_depth': 7, 'eta': 0.10022879453843885, 'subsample': 0.6766262078975724, 'colsample_bytree': 0.7730914500445354}.\n",
      "[I 2025-05-15 00:14:52,368] Trial 533 finished with values: [0.7064282716514568, 0.07750005797247132] and parameters: {'alpha': 0.8703851579596892, 'max_depth': 6, 'eta': 0.1835864240964316, 'subsample': 0.872143282534935, 'colsample_bytree': 0.9532604182421414}.\n",
      "[I 2025-05-15 00:14:52,805] Trial 534 finished with values: [0.6928466178358192, 0.07245398024767334] and parameters: {'alpha': 0.8923988735417886, 'max_depth': 6, 'eta': 0.11853130281086703, 'subsample': 0.6935849812192011, 'colsample_bytree': 0.938607954432039}.\n",
      "[I 2025-05-15 00:14:53,126] Trial 535 finished with values: [0.6657231346095523, 0.026746975096363368] and parameters: {'alpha': 0.3261987137417961, 'max_depth': 3, 'eta': 0.21901686836526663, 'subsample': 0.8376771934629543, 'colsample_bytree': 0.9611620505991075}.\n",
      "[I 2025-05-15 00:14:53,409] Trial 536 finished with values: [0.5000061268315397, 0.0] and parameters: {'alpha': 0.006398238570445525, 'max_depth': 7, 'eta': 0.21901686836526663, 'subsample': 0.8722445553121012, 'colsample_bytree': 0.91733556202821}.\n",
      "[I 2025-05-15 00:14:53,821] Trial 537 finished with values: [0.6850058051728839, 0.0303373034008312] and parameters: {'alpha': 0.557370541054067, 'max_depth': 5, 'eta': 0.1835864240964316, 'subsample': 0.8493505201360313, 'colsample_bytree': 0.6479107585243286}.\n",
      "[I 2025-05-15 00:14:54,166] Trial 538 finished with values: [0.6728762104321561, 0.0430336663199827] and parameters: {'alpha': 0.9374283216392799, 'max_depth': 3, 'eta': 0.1835864240964316, 'subsample': 0.6280228698742589, 'colsample_bytree': 0.9611620505991075}.\n",
      "[I 2025-05-15 00:14:54,428] Trial 539 finished with values: [0.5000061268315397, 0.0] and parameters: {'alpha': 0.006398238570445525, 'max_depth': 6, 'eta': 0.1835864240964316, 'subsample': 0.871229825323997, 'colsample_bytree': 0.9532604182421414}.\n",
      "[I 2025-05-15 00:14:54,712] Trial 540 finished with values: [0.6607328303204639, 0.032516597532481976] and parameters: {'alpha': 0.3866173224849362, 'max_depth': 3, 'eta': 0.15793403903210032, 'subsample': 0.7645830844743573, 'colsample_bytree': 0.7299936734908551}.\n",
      "[I 2025-05-15 00:14:55,259] Trial 541 finished with values: [0.6857165176314896, 0.056178052052326656] and parameters: {'alpha': 0.6238185172486138, 'max_depth': 7, 'eta': 0.10022879453843885, 'subsample': 0.872143282534935, 'colsample_bytree': 0.9532604182421414}.\n",
      "[I 2025-05-15 00:14:55,539] Trial 542 finished with values: [0.5000061268315397, 0.0] and parameters: {'alpha': 0.006398238570445525, 'max_depth': 7, 'eta': 0.04360269329891573, 'subsample': 0.9073076569174898, 'colsample_bytree': 0.7171393924105901}.\n",
      "[I 2025-05-15 00:14:55,872] Trial 543 finished with values: [0.7035746998618398, 0.07860726030490757] and parameters: {'alpha': 0.9374283216392799, 'max_depth': 7, 'eta': 0.24431474510203355, 'subsample': 0.807108008558591, 'colsample_bytree': 0.6846054564616372}.\n",
      "[I 2025-05-15 00:14:56,132] Trial 544 finished with values: [0.6785848857192747, 0.0498426995140634] and parameters: {'alpha': 0.6078134833715113, 'max_depth': 4, 'eta': 0.1835864240964316, 'subsample': 0.6500142472469429, 'colsample_bytree': 0.6624630554926771}.\n",
      "[I 2025-05-15 00:14:56,371] Trial 545 finished with values: [0.5000061268315397, 0.0] and parameters: {'alpha': 0.006398238570445525, 'max_depth': 4, 'eta': 0.21500273048430651, 'subsample': 0.723846016483348, 'colsample_bytree': 0.6245073635344549}.\n",
      "[I 2025-05-15 00:14:56,619] Trial 546 finished with values: [0.6750083478079728, 0.06082980342850763] and parameters: {'alpha': 0.3924761211610823, 'max_depth': 5, 'eta': 0.21215909718323017, 'subsample': 0.602158529491816, 'colsample_bytree': 0.8673994835714596}.\n",
      "[I 2025-05-15 00:14:56,858] Trial 547 finished with values: [0.6671598766056128, 0.03165508875064113] and parameters: {'alpha': 0.045004429738617846, 'max_depth': 7, 'eta': 0.21500273048430651, 'subsample': 0.8493505201360313, 'colsample_bytree': 0.8247700205604638}.\n",
      "[I 2025-05-15 00:14:57,193] Trial 548 finished with values: [0.6850119320044236, 0.030054137074614923] and parameters: {'alpha': 0.7162142455923999, 'max_depth': 4, 'eta': 0.2743823608550061, 'subsample': 0.6950815747717355, 'colsample_bytree': 0.6346180096533811}.\n",
      "[I 2025-05-15 00:14:57,416] Trial 549 finished with values: [0.5000061268315397, 0.0] and parameters: {'alpha': 0.006398238570445525, 'max_depth': 6, 'eta': 0.21901686836526663, 'subsample': 0.807108008558591, 'colsample_bytree': 0.9611620505991075}.\n",
      "[I 2025-05-15 00:14:57,585] Trial 550 finished with values: [0.5000061268315397, 0.0] and parameters: {'alpha': 0.006398238570445525, 'max_depth': 7, 'eta': 0.2622543328319337, 'subsample': 0.872143282534935, 'colsample_bytree': 0.9532604182421414}.\n",
      "[I 2025-05-15 00:14:57,803] Trial 551 finished with values: [0.5000061268315397, 0.0] and parameters: {'alpha': 0.008318822215806598, 'max_depth': 5, 'eta': 0.2309181360312491, 'subsample': 0.7735244427219242, 'colsample_bytree': 0.6846054564616372}.\n",
      "[I 2025-05-15 00:14:58,079] Trial 552 finished with values: [0.6735823277671068, 0.04545859519112785] and parameters: {'alpha': 0.35326607650384845, 'max_depth': 4, 'eta': 0.15511827510132917, 'subsample': 0.8376771934629543, 'colsample_bytree': 0.7588660061097441}.\n",
      "[I 2025-05-15 00:14:58,272] Trial 553 finished with values: [0.5000061268315397, 0.0] and parameters: {'alpha': 0.006398238570445525, 'max_depth': 7, 'eta': 0.10022879453843885, 'subsample': 0.6631956570556669, 'colsample_bytree': 0.7730914500445354}.\n",
      "[I 2025-05-15 00:14:58,474] Trial 554 finished with values: [0.5000061268315397, 0.0] and parameters: {'alpha': 0.006398238570445525, 'max_depth': 6, 'eta': 0.021973805906549567, 'subsample': 0.872143282534935, 'colsample_bytree': 0.9532604182421414}.\n",
      "[I 2025-05-15 00:14:58,659] Trial 555 finished with values: [0.5000061268315397, 0.0] and parameters: {'alpha': 0.006398238570445525, 'max_depth': 4, 'eta': 0.21500273048430651, 'subsample': 0.8376771934629543, 'colsample_bytree': 0.6482350599140047}.\n",
      "[I 2025-05-15 00:14:59,203] Trial 556 finished with values: [0.7157119531419923, 0.07191833839084048] and parameters: {'alpha': 0.8694173170637239, 'max_depth': 7, 'eta': 0.24026710755528385, 'subsample': 0.8376771934629543, 'colsample_bytree': 0.7467898426760461}.\n",
      "[I 2025-05-15 00:14:59,486] Trial 557 finished with values: [0.6928573397910137, 0.035345390775397466] and parameters: {'alpha': 0.6308330624115891, 'max_depth': 6, 'eta': 0.1919795686809288, 'subsample': 0.807108008558591, 'colsample_bytree': 0.6346180096533811}.\n",
      "[I 2025-05-15 00:14:59,739] Trial 558 finished with values: [0.6978507074958721, 0.06388747327041343] and parameters: {'alpha': 0.8694173170637239, 'max_depth': 5, 'eta': 0.24026710755528385, 'subsample': 0.9984601149714915, 'colsample_bytree': 0.9532604182421414}.\n",
      "[I 2025-05-15 00:15:00,457] Trial 559 finished with values: [0.6685858966464787, 0.03838998188366303] and parameters: {'alpha': 0.3222379449097913, 'max_depth': 7, 'eta': 0.07253350513913152, 'subsample': 0.8088010652239656, 'colsample_bytree': 0.6268842887986352}.\n",
      "[I 2025-05-15 00:15:00,710] Trial 560 finished with values: [0.5000061268315397, 0.0] and parameters: {'alpha': 0.0018713778605690123, 'max_depth': 7, 'eta': 0.07253350513913152, 'subsample': 0.8088010652239656, 'colsample_bytree': 0.6268842887986352}.\n",
      "[I 2025-05-15 00:15:01,019] Trial 561 finished with values: [0.6928558080831287, 0.06518912416631271] and parameters: {'alpha': 0.675615131143258, 'max_depth': 5, 'eta': 0.27499741563348057, 'subsample': 0.7520362407273424, 'colsample_bytree': 0.7585557873203068}.\n",
      "[I 2025-05-15 00:15:01,334] Trial 562 finished with values: [0.6885900016236103, 0.025369084250282836] and parameters: {'alpha': 0.22601217229786574, 'max_depth': 5, 'eta': 0.23813647636124352, 'subsample': 0.6766262078975724, 'colsample_bytree': 0.6268842887986352}.\n",
      "[I 2025-05-15 00:15:01,559] Trial 563 finished with values: [0.5000061268315397, 0.0] and parameters: {'alpha': 0.006398238570445525, 'max_depth': 3, 'eta': 0.2535959537440369, 'subsample': 0.6766262078975724, 'colsample_bytree': 0.6052138001756903}.\n",
      "[I 2025-05-15 00:15:01,735] Trial 564 finished with values: [0.5000061268315397, 0.0] and parameters: {'alpha': 0.006398238570445525, 'max_depth': 7, 'eta': 0.10022879453843885, 'subsample': 0.6766262078975724, 'colsample_bytree': 0.6268842887986352}.\n",
      "[I 2025-05-15 00:15:02,033] Trial 565 finished with values: [0.7092818434410737, 0.06841779341188589] and parameters: {'alpha': 0.6370308795473967, 'max_depth': 7, 'eta': 0.24026710755528385, 'subsample': 0.8299394589723357, 'colsample_bytree': 0.7894887198211535}.\n",
      "[I 2025-05-15 00:15:02,355] Trial 566 finished with values: [0.5000061268315397, 0.0] and parameters: {'alpha': 0.006398238570445525, 'max_depth': 7, 'eta': 0.14512559193659197, 'subsample': 0.6026810085400992, 'colsample_bytree': 0.6268842887986352}.\n",
      "[I 2025-05-15 00:15:02,575] Trial 567 finished with values: [0.5000061268315397, 0.0] and parameters: {'alpha': 0.006398238570445525, 'max_depth': 7, 'eta': 0.1835864240964316, 'subsample': 0.871229825323997, 'colsample_bytree': 0.9532604182421414}.\n",
      "[I 2025-05-15 00:15:02,857] Trial 568 finished with values: [0.7135660303952113, 0.06669384886751864] and parameters: {'alpha': 0.8694173170637239, 'max_depth': 7, 'eta': 0.1835864240964316, 'subsample': 0.872143282534935, 'colsample_bytree': 0.9532604182421414}.\n",
      "[I 2025-05-15 00:15:03,106] Trial 569 finished with values: [0.5000061268315397, 0.0] and parameters: {'alpha': 0.006398238570445525, 'max_depth': 5, 'eta': 0.10749039742554378, 'subsample': 0.9073076569174898, 'colsample_bytree': 0.7171393924105901}.\n",
      "[I 2025-05-15 00:15:03,335] Trial 570 finished with values: [0.5000061268315397, 0.0] and parameters: {'alpha': 0.006398238570445525, 'max_depth': 5, 'eta': 0.22282544950223743, 'subsample': 0.6930116165806126, 'colsample_bytree': 0.6408729979386513}.\n",
      "[I 2025-05-15 00:15:03,536] Trial 571 finished with values: [0.5000061268315397, 0.0] and parameters: {'alpha': 0.006398238570445525, 'max_depth': 4, 'eta': 0.21500273048430651, 'subsample': 0.807108008558591, 'colsample_bytree': 0.9611620505991075}.\n",
      "[I 2025-05-15 00:15:03,864] Trial 572 finished with values: [0.5000061268315397, 0.0] and parameters: {'alpha': 0.012915419123790906, 'max_depth': 7, 'eta': 0.21901686836526663, 'subsample': 0.8801073252404295, 'colsample_bytree': 0.9273609939577232}.\n",
      "[I 2025-05-15 00:15:04,170] Trial 573 finished with values: [0.5000061268315397, 0.0] and parameters: {'alpha': 0.006398238570445525, 'max_depth': 4, 'eta': 0.21500273048430651, 'subsample': 0.8621180142479564, 'colsample_bytree': 0.6245073635344549}.\n",
      "[I 2025-05-15 00:15:04,405] Trial 574 finished with values: [0.665730793148977, 0.015791148540465854] and parameters: {'alpha': 0.03823986939903623, 'max_depth': 7, 'eta': 0.21500273048430651, 'subsample': 0.8376771934629543, 'colsample_bytree': 0.6624630554926771}.\n",
      "[I 2025-05-15 00:15:04,684] Trial 575 finished with values: [0.7057160274849662, 0.07181756264823935] and parameters: {'alpha': 0.5026489679532791, 'max_depth': 7, 'eta': 0.24431474510203355, 'subsample': 0.8493505201360313, 'colsample_bytree': 0.6846054564616372}.\n",
      "[I 2025-05-15 00:15:05,132] Trial 576 finished with values: [0.6707226291459504, 0.05798904127817844] and parameters: {'alpha': 0.41302545700983473, 'max_depth': 7, 'eta': 0.07253350513913152, 'subsample': 0.9661609788935821, 'colsample_bytree': 0.6198060693014039}.\n",
      "[I 2025-05-15 00:15:05,318] Trial 577 finished with values: [0.5000061268315397, 0.0] and parameters: {'alpha': 0.006398238570445525, 'max_depth': 5, 'eta': 0.1835864240964316, 'subsample': 0.6766262078975724, 'colsample_bytree': 0.9059817852320838}.\n",
      "[I 2025-05-15 00:15:05,560] Trial 578 finished with values: [0.7028502020322701, 0.06877741634299485] and parameters: {'alpha': 0.7892990828900289, 'max_depth': 7, 'eta': 0.21500273048430651, 'subsample': 0.7126649411379313, 'colsample_bytree': 0.6624630554926771}.\n",
      "[I 2025-05-15 00:15:05,776] Trial 579 finished with values: [0.5000061268315397, 0.0] and parameters: {'alpha': 0.012915419123790906, 'max_depth': 5, 'eta': 0.23813647636124352, 'subsample': 0.852126912563755, 'colsample_bytree': 0.9273609939577232}.\n",
      "[I 2025-05-15 00:15:06,139] Trial 580 finished with values: [0.6792879396384558, 0.054015975310289684] and parameters: {'alpha': 0.4355714545397925, 'max_depth': 4, 'eta': 0.26510914396693624, 'subsample': 0.872143282534935, 'colsample_bytree': 0.9611620505991075}.\n",
      "[I 2025-05-15 00:15:06,562] Trial 581 finished with values: [0.5000061268315397, 0.0] and parameters: {'alpha': 0.006398238570445525, 'max_depth': 6, 'eta': 0.1835864240964316, 'subsample': 0.6766262078975724, 'colsample_bytree': 0.7235624899496603}.\n",
      "[I 2025-05-15 00:15:06,824] Trial 582 finished with values: [0.6685889600622487, 0.03676753598055415] and parameters: {'alpha': 0.4248493163269895, 'max_depth': 3, 'eta': 0.10468324630588782, 'subsample': 0.8376771934629543, 'colsample_bytree': 0.6482350599140047}.\n",
      "[I 2025-05-15 00:15:07,056] Trial 583 finished with values: [0.5000061268315397, 0.0] and parameters: {'alpha': 0.006398238570445525, 'max_depth': 6, 'eta': 0.24431474510203355, 'subsample': 0.9846102305292809, 'colsample_bytree': 0.6268842887986352}.\n",
      "[I 2025-05-15 00:15:07,468] Trial 584 finished with values: [0.5000061268315397, 0.0] and parameters: {'alpha': 0.006398238570445525, 'max_depth': 5, 'eta': 0.15780100657948715, 'subsample': 0.8039567134194093, 'colsample_bytree': 0.9381752654105122}.\n",
      "[I 2025-05-15 00:15:07,685] Trial 585 finished with values: [0.5000061268315397, 0.0] and parameters: {'alpha': 0.006398238570445525, 'max_depth': 4, 'eta': 0.05817848598224139, 'subsample': 0.6500142472469429, 'colsample_bytree': 0.6846054564616372}.\n",
      "[I 2025-05-15 00:15:07,985] Trial 586 finished with values: [0.6878624403782706, 0.06158511537402108] and parameters: {'alpha': 0.4177867830565686, 'max_depth': 7, 'eta': 0.1835864240964316, 'subsample': 0.9984601149714915, 'colsample_bytree': 0.9532604182421414}.\n",
      "[I 2025-05-15 00:15:08,254] Trial 587 finished with values: [0.5000061268315397, 0.0] and parameters: {'alpha': 0.006398238570445525, 'max_depth': 7, 'eta': 0.24026710755528385, 'subsample': 0.7397095565161738, 'colsample_bytree': 0.9532604182421414}.\n",
      "[I 2025-05-15 00:15:08,492] Trial 588 finished with values: [0.5000061268315397, 0.0] and parameters: {'alpha': 0.006398238570445525, 'max_depth': 6, 'eta': 0.1835864240964316, 'subsample': 0.807108008558591, 'colsample_bytree': 0.8778999079756078}.\n",
      "[I 2025-05-15 00:15:08,900] Trial 589 finished with values: [0.7028609239874645, 0.05750315428972815] and parameters: {'alpha': 0.8368721206596713, 'max_depth': 7, 'eta': 0.19936589575078176, 'subsample': 0.8088010652239656, 'colsample_bytree': 0.7692162021159333}.\n",
      "[I 2025-05-15 00:15:09,153] Trial 590 finished with values: [0.5000061268315397, 0.0] and parameters: {'alpha': 0.006398238570445525, 'max_depth': 5, 'eta': 0.04477245332592224, 'subsample': 0.6766262078975724, 'colsample_bytree': 0.938607954432039}.\n",
      "[I 2025-05-15 00:15:09,413] Trial 591 finished with values: [0.680004778928601, 0.05932350218499322] and parameters: {'alpha': 0.745043134274797, 'max_depth': 4, 'eta': 0.16668034094697176, 'subsample': 0.9984601149714915, 'colsample_bytree': 0.9532604182421414}.\n",
      "[I 2025-05-15 00:15:09,626] Trial 592 finished with values: [0.5000061268315397, 0.0] and parameters: {'alpha': 0.006398238570445525, 'max_depth': 6, 'eta': 0.1835864240964316, 'subsample': 0.7013594600915958, 'colsample_bytree': 0.8610767213054858}.\n",
      "[I 2025-05-15 00:15:09,862] Trial 593 finished with values: [0.5000061268315397, 0.0] and parameters: {'alpha': 0.006398238570445525, 'max_depth': 3, 'eta': 0.07253350513913152, 'subsample': 0.6950815747717355, 'colsample_bytree': 0.939918536631748}.\n",
      "[I 2025-05-15 00:15:10,211] Trial 594 finished with values: [0.7057083689455417, 0.06458118789171954] and parameters: {'alpha': 0.5333403867948182, 'max_depth': 7, 'eta': 0.22739873665679933, 'subsample': 0.8088010652239656, 'colsample_bytree': 0.6268842887986352}.\n",
      "[I 2025-05-15 00:15:10,423] Trial 595 finished with values: [0.5000061268315397, 0.0] and parameters: {'alpha': 0.012915419123790906, 'max_depth': 4, 'eta': 0.1835864240964316, 'subsample': 0.8493505201360313, 'colsample_bytree': 0.9273609939577232}.\n",
      "[I 2025-05-15 00:15:10,604] Trial 596 finished with values: [0.5000061268315397, 0.0] and parameters: {'alpha': 0.006398238570445525, 'max_depth': 7, 'eta': 0.1835864240964316, 'subsample': 0.9726376375818298, 'colsample_bytree': 0.6624630554926771}.\n",
      "[I 2025-05-15 00:15:10,794] Trial 597 finished with values: [0.5000061268315397, 0.0] and parameters: {'alpha': 0.006398238570445525, 'max_depth': 7, 'eta': 0.1835864240964316, 'subsample': 0.8493505201360313, 'colsample_bytree': 0.6268842887986352}.\n",
      "[I 2025-05-15 00:15:11,057] Trial 598 finished with values: [0.6978461123722172, 0.07162221269596508] and parameters: {'alpha': 0.39066454132819983, 'max_depth': 7, 'eta': 0.21901686836526663, 'subsample': 0.8912120061463014, 'colsample_bytree': 0.9449345761801973}.\n",
      "[I 2025-05-15 00:15:11,293] Trial 599 finished with values: [0.5000061268315397, 0.0] and parameters: {'alpha': 0.006398238570445525, 'max_depth': 4, 'eta': 0.22739873665679933, 'subsample': 0.9762660135601268, 'colsample_bytree': 0.939918536631748}.\n",
      "[I 2025-05-15 00:15:11,650] Trial 600 finished with values: [0.5000061268315397, 0.0] and parameters: {'alpha': 0.006398238570445525, 'max_depth': 6, 'eta': 0.1835864240964316, 'subsample': 0.6631956570556669, 'colsample_bytree': 0.6846054564616372}.\n",
      "[I 2025-05-15 00:15:12,541] Trial 601 finished with values: [0.5000061268315397, 0.0] and parameters: {'alpha': 0.006398238570445525, 'max_depth': 7, 'eta': 0.21901686836526663, 'subsample': 0.6631956570556669, 'colsample_bytree': 0.9611620505991075}.\n",
      "[I 2025-05-15 00:15:13,078] Trial 602 finished with values: [0.5000061268315397, 0.0] and parameters: {'alpha': 0.006398238570445525, 'max_depth': 4, 'eta': 0.05148993795553561, 'subsample': 0.8162506800871797, 'colsample_bytree': 0.9171521282961637}.\n",
      "[I 2025-05-15 00:15:13,451] Trial 603 finished with values: [0.6600144593224337, 0.010857722586335458] and parameters: {'alpha': 0.1057257863771528, 'max_depth': 7, 'eta': 0.10022879453843885, 'subsample': 0.6631956570556669, 'colsample_bytree': 0.7730914500445354}.\n",
      "[I 2025-05-15 00:15:13,754] Trial 604 finished with values: [0.6778634513054747, 0.04309932138913778] and parameters: {'alpha': 0.3889819245267436, 'max_depth': 6, 'eta': 0.13802190082485608, 'subsample': 0.6766262078975724, 'colsample_bytree': 0.9532604182421414}.\n",
      "[I 2025-05-15 00:15:13,958] Trial 605 finished with values: [0.5000061268315397, 0.0] and parameters: {'alpha': 0.006398238570445525, 'max_depth': 7, 'eta': 0.21500273048430651, 'subsample': 0.7126649411379313, 'colsample_bytree': 0.6268842887986352}.\n",
      "[I 2025-05-15 00:15:14,138] Trial 606 finished with values: [0.5000061268315397, 0.0] and parameters: {'alpha': 0.006398238570445525, 'max_depth': 7, 'eta': 0.21500273048430651, 'subsample': 0.8493505201360313, 'colsample_bytree': 0.6268842887986352}.\n",
      "[I 2025-05-15 00:15:14,353] Trial 607 finished with values: [0.5000061268315397, 0.0] and parameters: {'alpha': 0.006398238570445525, 'max_depth': 7, 'eta': 0.04360269329891573, 'subsample': 0.872143282534935, 'colsample_bytree': 0.7171393924105901}.\n",
      "[I 2025-05-15 00:15:14,661] Trial 608 finished with values: [0.6514368951668489, 0.010038120657576283] and parameters: {'alpha': 0.12082713516430721, 'max_depth': 5, 'eta': 0.055354577234827854, 'subsample': 0.872143282534935, 'colsample_bytree': 0.7171393924105901}.\n",
      "[I 2025-05-15 00:15:14,988] Trial 609 finished with values: [0.6878563135467308, 0.06828277284152888] and parameters: {'alpha': 0.9007378021006472, 'max_depth': 6, 'eta': 0.18642461272234256, 'subsample': 0.9863514140575622, 'colsample_bytree': 0.6268842887986352}.\n",
      "[I 2025-05-15 00:15:15,231] Trial 610 finished with values: [0.5000061268315397, 0.0] and parameters: {'alpha': 0.006398238570445525, 'max_depth': 7, 'eta': 0.038998798188942176, 'subsample': 0.8376771934629543, 'colsample_bytree': 0.9532604182421414}.\n",
      "[I 2025-05-15 00:15:15,668] Trial 611 finished with values: [0.6842874341748537, 0.06202043072571004] and parameters: {'alpha': 0.8694173170637239, 'max_depth': 7, 'eta': 0.07253350513913152, 'subsample': 0.872143282534935, 'colsample_bytree': 0.6268842887986352}.\n",
      "[I 2025-05-15 00:15:15,905] Trial 612 finished with values: [0.5000061268315397, 0.0] and parameters: {'alpha': 0.012915419123790906, 'max_depth': 6, 'eta': 0.058835728620177496, 'subsample': 0.871229825323997, 'colsample_bytree': 0.9273609939577232}.\n",
      "[I 2025-05-15 00:15:16,114] Trial 613 finished with values: [0.5000061268315397, 0.0] and parameters: {'alpha': 0.006398238570445525, 'max_depth': 6, 'eta': 0.15511827510132917, 'subsample': 0.7126649411379313, 'colsample_bytree': 0.6846054564616372}.\n",
      "[I 2025-05-15 00:15:16,355] Trial 614 finished with values: [0.5000061268315397, 0.0] and parameters: {'alpha': 0.006398238570445525, 'max_depth': 7, 'eta': 0.1919795686809288, 'subsample': 0.9200110519154371, 'colsample_bytree': 0.6229115600241286}.\n",
      "[I 2025-05-15 00:15:16,881] Trial 615 finished with values: [0.7192762373902148, 0.0986116185259518] and parameters: {'alpha': 0.9414170992424824, 'max_depth': 7, 'eta': 0.24026710755528385, 'subsample': 0.8621180142479564, 'colsample_bytree': 0.9901074621532081}.\n",
      "[I 2025-05-15 00:15:17,176] Trial 616 finished with values: [0.6785756954719652, 0.05348110895684077] and parameters: {'alpha': 0.28250799627429646, 'max_depth': 5, 'eta': 0.1835864240964316, 'subsample': 0.8997422427614042, 'colsample_bytree': 0.9273609939577232}.\n",
      "[I 2025-05-15 00:15:17,488] Trial 617 finished with values: [0.5000061268315397, 0.0] and parameters: {'alpha': 0.006398238570445525, 'max_depth': 7, 'eta': 0.10022879453843885, 'subsample': 0.872143282534935, 'colsample_bytree': 0.6245073635344549}.\n",
      "[I 2025-05-15 00:15:17,835] Trial 618 finished with values: [0.5000061268315397, 0.0] and parameters: {'alpha': 0.006398238570445525, 'max_depth': 6, 'eta': 0.1692395805900144, 'subsample': 0.723846016483348, 'colsample_bytree': 0.6245073635344549}.\n",
      "[I 2025-05-15 00:15:18,226] Trial 619 finished with values: [0.6750114112237426, 0.029015502396008513] and parameters: {'alpha': 0.6370308795473967, 'max_depth': 5, 'eta': 0.1567023648530757, 'subsample': 0.6766262078975724, 'colsample_bytree': 0.6268842887986352}.\n",
      "[I 2025-05-15 00:15:18,512] Trial 620 finished with values: [0.5000061268315397, 0.0] and parameters: {'alpha': 0.006398238570445525, 'max_depth': 3, 'eta': 0.10022879453843885, 'subsample': 0.6950815747717355, 'colsample_bytree': 0.6965120969417838}.\n",
      "[I 2025-05-15 00:15:18,886] Trial 621 finished with values: [0.6928604032067837, 0.05655771501798812] and parameters: {'alpha': 0.6308330624115891, 'max_depth': 6, 'eta': 0.1919795686809288, 'subsample': 0.7255759401909216, 'colsample_bytree': 0.6346180096533811}.\n",
      "[I 2025-05-15 00:15:19,232] Trial 622 finished with values: [0.6835767217162481, 0.05531116660952463] and parameters: {'alpha': 0.3798624838315918, 'max_depth': 7, 'eta': 0.1835864240964316, 'subsample': 0.7190259527785925, 'colsample_bytree': 0.6268842887986352}.\n",
      "[I 2025-05-15 00:15:19,502] Trial 623 finished with values: [0.5000061268315397, 0.0] and parameters: {'alpha': 0.008318822215806598, 'max_depth': 5, 'eta': 0.1835864240964316, 'subsample': 0.6766262078975724, 'colsample_bytree': 0.938607954432039}.\n",
      "[I 2025-05-15 00:15:19,713] Trial 624 finished with values: [0.5000061268315397, 0.0] and parameters: {'alpha': 0.012915419123790906, 'max_depth': 6, 'eta': 0.1835864240964316, 'subsample': 0.871229825323997, 'colsample_bytree': 0.8797989925001393}.\n",
      "[I 2025-05-15 00:15:20,134] Trial 625 finished with values: [0.5000061268315397, 0.0] and parameters: {'alpha': 0.012915419123790906, 'max_depth': 3, 'eta': 0.21901686836526663, 'subsample': 0.7495466031580817, 'colsample_bytree': 0.7467898426760461}.\n",
      "[I 2025-05-15 00:15:20,341] Trial 626 finished with values: [0.5000061268315397, 0.0] and parameters: {'alpha': 0.006398238570445525, 'max_depth': 4, 'eta': 0.05148993795553561, 'subsample': 0.6500142472469429, 'colsample_bytree': 0.7586944978656267}.\n",
      "[I 2025-05-15 00:15:20,523] Trial 627 finished with values: [0.5000061268315397, 0.0] and parameters: {'alpha': 0.006398238570445525, 'max_depth': 7, 'eta': 0.24026710755528385, 'subsample': 0.9356967128902605, 'colsample_bytree': 0.6268842887986352}.\n",
      "[I 2025-05-15 00:15:20,841] Trial 628 finished with values: [0.6742884451020577, 0.030593056333956998] and parameters: {'alpha': 0.17820334501565882, 'max_depth': 7, 'eta': 0.061042272416678915, 'subsample': 0.9073076569174898, 'colsample_bytree': 0.8501796345746905}.\n",
      "[I 2025-05-15 00:15:21,341] Trial 629 finished with values: [0.5000061268315397, 0.0] and parameters: {'alpha': 0.012915419123790906, 'max_depth': 7, 'eta': 0.14081483360181005, 'subsample': 0.871229825323997, 'colsample_bytree': 0.9273609939577232}.\n",
      "[I 2025-05-15 00:15:21,604] Trial 630 finished with values: [0.5000061268315397, 0.0] and parameters: {'alpha': 0.006398238570445525, 'max_depth': 7, 'eta': 0.1835864240964316, 'subsample': 0.8376771934629543, 'colsample_bytree': 0.7894887198211535}.\n",
      "[I 2025-05-15 00:15:21,953] Trial 631 finished with values: [0.689280801879712, 0.06507413396533049] and parameters: {'alpha': 0.3497855833343143, 'max_depth': 6, 'eta': 0.21500273048430651, 'subsample': 0.8493505201360313, 'colsample_bytree': 0.9532604182421414}.\n",
      "[I 2025-05-15 00:15:22,239] Trial 632 finished with values: [0.5000061268315397, 0.0] and parameters: {'alpha': 0.006398238570445525, 'max_depth': 6, 'eta': 0.04360269329891573, 'subsample': 0.9073076569174898, 'colsample_bytree': 0.7171393924105901}.\n",
      "[I 2025-05-15 00:15:22,457] Trial 633 finished with values: [0.5000061268315397, 0.0] and parameters: {'alpha': 0.006398238570445525, 'max_depth': 4, 'eta': 0.2958736954839365, 'subsample': 0.6500142472469429, 'colsample_bytree': 0.6245073635344549}.\n",
      "[I 2025-05-15 00:15:22,669] Trial 634 finished with values: [0.5000061268315397, 0.0] and parameters: {'alpha': 0.006398238570445525, 'max_depth': 6, 'eta': 0.05060854447439128, 'subsample': 0.723846016483348, 'colsample_bytree': 0.6346180096533811}.\n",
      "[I 2025-05-15 00:15:23,221] Trial 635 finished with values: [0.7021318310342398, 0.05855196217745032] and parameters: {'alpha': 0.6856227174463663, 'max_depth': 7, 'eta': 0.1835864240964316, 'subsample': 0.872143282534935, 'colsample_bytree': 0.9532604182421414}.\n",
      "[I 2025-05-15 00:15:23,691] Trial 636 finished with values: [0.5000061268315397, 0.0] and parameters: {'alpha': 0.006398238570445525, 'max_depth': 4, 'eta': 0.1835864240964316, 'subsample': 0.6500142472469429, 'colsample_bytree': 0.9312070891167116}.\n",
      "[I 2025-05-15 00:15:24,038] Trial 637 finished with values: [0.5000061268315397, 0.0] and parameters: {'alpha': 0.006398238570445525, 'max_depth': 6, 'eta': 0.16071646123327132, 'subsample': 0.871229825323997, 'colsample_bytree': 0.938607954432039}.\n",
      "[I 2025-05-15 00:15:24,281] Trial 638 finished with values: [0.5000061268315397, 0.0] and parameters: {'alpha': 0.006398238570445525, 'max_depth': 4, 'eta': 0.1835864240964316, 'subsample': 0.7126649411379313, 'colsample_bytree': 0.6078419782399469}.\n",
      "[I 2025-05-15 00:15:24,554] Trial 639 finished with values: [0.6885900016236103, 0.025369084250282836] and parameters: {'alpha': 0.22601217229786574, 'max_depth': 5, 'eta': 0.23813647636124352, 'subsample': 0.6766262078975724, 'colsample_bytree': 0.6479107585243286}.\n",
      "[I 2025-05-15 00:15:24,792] Trial 640 finished with values: [0.5000061268315397, 0.0] and parameters: {'alpha': 0.006398238570445525, 'max_depth': 5, 'eta': 0.23813647636124352, 'subsample': 0.8472770656657291, 'colsample_bytree': 0.6268842887986352}.\n",
      "[I 2025-05-15 00:15:25,075] Trial 641 finished with values: [0.676432836140954, 0.036747595297785075] and parameters: {'alpha': 0.22601217229786574, 'max_depth': 5, 'eta': 0.1835864240964316, 'subsample': 0.871229825323997, 'colsample_bytree': 0.6268842887986352}.\n",
      "[I 2025-05-15 00:15:25,298] Trial 642 finished with values: [0.6778573244739349, 0.04719405606407225] and parameters: {'alpha': 0.8694173170637239, 'max_depth': 4, 'eta': 0.1835864240964316, 'subsample': 0.872143282534935, 'colsample_bytree': 0.9611620505991075}.\n",
      "[I 2025-05-15 00:15:25,484] Trial 643 finished with values: [0.5000061268315397, 0.0] and parameters: {'alpha': 0.006398238570445525, 'max_depth': 6, 'eta': 0.2743823608550061, 'subsample': 0.6950815747717355, 'colsample_bytree': 0.9532604182421414}.\n",
      "[I 2025-05-15 00:15:25,745] Trial 644 finished with values: [0.6607175132416147, 0.04469939481064842] and parameters: {'alpha': 0.7757429628577179, 'max_depth': 4, 'eta': 0.06637529460245396, 'subsample': 0.7126649411379313, 'colsample_bytree': 0.9171521282961637}.\n",
      "[I 2025-05-15 00:15:26,112] Trial 645 finished with values: [0.6992935763234721, 0.041992281674114416] and parameters: {'alpha': 0.6370308795473967, 'max_depth': 7, 'eta': 0.24431474510203355, 'subsample': 0.8493505201360313, 'colsample_bytree': 0.6198060693014039}.\n",
      "[I 2025-05-15 00:15:26,308] Trial 646 finished with values: [0.5000061268315397, 0.0] and parameters: {'alpha': 0.006398238570445525, 'max_depth': 4, 'eta': 0.05148993795553561, 'subsample': 0.6500142472469429, 'colsample_bytree': 0.9171521282961637}.\n",
      "[I 2025-05-15 00:15:26,485] Trial 647 finished with values: [0.5000061268315397, 0.0] and parameters: {'alpha': 0.006398238570445525, 'max_depth': 4, 'eta': 0.1835864240964316, 'subsample': 0.7126649411379313, 'colsample_bytree': 0.939918536631748}.\n",
      "[I 2025-05-15 00:15:26,722] Trial 648 finished with values: [0.5000061268315397, 0.0] and parameters: {'alpha': 0.006398238570445525, 'max_depth': 6, 'eta': 0.21901686836526663, 'subsample': 0.872143282534935, 'colsample_bytree': 0.9611620505991075}.\n",
      "[I 2025-05-15 00:15:27,045] Trial 649 finished with values: [0.5000061268315397, 0.0] and parameters: {'alpha': 0.006398238570445525, 'max_depth': 7, 'eta': 0.1835864240964316, 'subsample': 0.871229825323997, 'colsample_bytree': 0.9532604182421414}.\n",
      "[I 2025-05-15 00:15:27,405] Trial 650 finished with values: [0.7135721572267509, 0.07331006530489759] and parameters: {'alpha': 0.8694173170637239, 'max_depth': 7, 'eta': 0.21500273048430651, 'subsample': 0.8493505201360313, 'colsample_bytree': 0.9607484542422599}.\n",
      "[I 2025-05-15 00:15:27,688] Trial 651 finished with values: [0.5000061268315397, 0.0] and parameters: {'alpha': 0.006398238570445525, 'max_depth': 7, 'eta': 0.1835864240964316, 'subsample': 0.871229825323997, 'colsample_bytree': 0.7073375851946879}.\n",
      "[I 2025-05-15 00:15:27,991] Trial 652 finished with values: [0.6785848857192747, 0.009800999873710118] and parameters: {'alpha': 0.22601217229786574, 'max_depth': 4, 'eta': 0.1919795686809288, 'subsample': 0.6766262078975724, 'colsample_bytree': 0.6346180096533811}.\n",
      "[I 2025-05-15 00:15:28,198] Trial 653 finished with values: [0.5000061268315397, 0.0] and parameters: {'alpha': 0.006398238570445525, 'max_depth': 5, 'eta': 0.27499741563348057, 'subsample': 0.6766262078975724, 'colsample_bytree': 0.612931258280246}.\n",
      "[I 2025-05-15 00:15:28,419] Trial 654 finished with values: [0.5000061268315397, 0.0] and parameters: {'alpha': 0.006398238570445525, 'max_depth': 4, 'eta': 0.24431474510203355, 'subsample': 0.872143282534935, 'colsample_bytree': 0.7034987723562066}.\n",
      "[I 2025-05-15 00:15:28,602] Trial 655 finished with values: [0.5000061268315397, 0.0] and parameters: {'alpha': 0.006398238570445525, 'max_depth': 5, 'eta': 0.1835864240964316, 'subsample': 0.6766262078975724, 'colsample_bytree': 0.938607954432039}.\n",
      "[I 2025-05-15 00:15:28,837] Trial 656 finished with values: [0.6664399738996977, 0.034474024710671264] and parameters: {'alpha': 0.8694173170637239, 'max_depth': 3, 'eta': 0.1835864240964316, 'subsample': 0.8376771934629543, 'colsample_bytree': 0.6479107585243286}.\n",
      "[I 2025-05-15 00:15:29,147] Trial 657 finished with values: [0.6700011947321501, 0.03874587745197955] and parameters: {'alpha': 0.8694173170637239, 'max_depth': 3, 'eta': 0.1835864240964316, 'subsample': 0.8493505201360313, 'colsample_bytree': 0.6624630554926771}.\n",
      "[I 2025-05-15 00:15:29,415] Trial 658 finished with values: [0.6792925347621104, 0.0484226541568565] and parameters: {'alpha': 0.7013796221941437, 'max_depth': 5, 'eta': 0.15780100657948715, 'subsample': 0.8593281910215089, 'colsample_bytree': 0.6846054564616372}.\n",
      "[I 2025-05-15 00:15:29,710] Trial 659 finished with values: [0.6742869133941728, 0.02374350361056471] and parameters: {'alpha': 0.22601217229786574, 'max_depth': 5, 'eta': 0.1835864240964316, 'subsample': 0.7190259527785925, 'colsample_bytree': 0.6268842887986352}.\n",
      "[I 2025-05-15 00:15:30,221] Trial 660 finished with values: [0.6799986520970612, 0.05060397211086076] and parameters: {'alpha': 0.6370308795473967, 'max_depth': 4, 'eta': 0.21500273048430651, 'subsample': 0.7440725941758111, 'colsample_bytree': 0.6198060693014039}.\n",
      "[I 2025-05-15 00:15:30,320] Trial 661 finished with values: [0.5000061268315397, 0.0] and parameters: {'alpha': 0.006398238570445525, 'max_depth': 4, 'eta': 0.1753882703340068, 'subsample': 0.6950815747717355, 'colsample_bytree': 0.939918536631748}.\n",
      "[I 2025-05-15 00:15:30,451] Trial 662 finished with values: [0.7035762315697248, 0.07131194383835056] and parameters: {'alpha': 0.6806887919165768, 'max_depth': 7, 'eta': 0.21500273048430651, 'subsample': 0.9984601149714915, 'colsample_bytree': 0.6624630554926771}.\n",
      "[I 2025-05-15 00:15:30,549] Trial 663 finished with values: [0.7185593981000694, 0.09002623541764802] and parameters: {'alpha': 0.8694173170637239, 'max_depth': 7, 'eta': 0.24026710755528385, 'subsample': 0.9292480669708532, 'colsample_bytree': 0.7467898426760461}.\n",
      "[I 2025-05-15 00:15:30,623] Trial 664 finished with values: [0.5000061268315397, 0.0] and parameters: {'alpha': 0.006398238570445525, 'max_depth': 3, 'eta': 0.24026710755528385, 'subsample': 0.8376771934629543, 'colsample_bytree': 0.7894887198211535}.\n",
      "[I 2025-05-15 00:15:30,720] Trial 665 finished with values: [0.6707226291459504, 0.03340998031316702] and parameters: {'alpha': 0.22601217229786574, 'max_depth': 3, 'eta': 0.23813647636124352, 'subsample': 0.6766262078975724, 'colsample_bytree': 0.8173531917437027}.\n",
      "[I 2025-05-15 00:15:30,814] Trial 666 finished with values: [0.5000061268315397, 0.0] and parameters: {'alpha': 0.006398238570445525, 'max_depth': 4, 'eta': 0.1919795686809288, 'subsample': 0.807108008558591, 'colsample_bytree': 0.6346180096533811}.\n",
      "[I 2025-05-15 00:15:30,910] Trial 667 finished with values: [0.5000061268315397, 0.0] and parameters: {'alpha': 0.008318822215806598, 'max_depth': 7, 'eta': 0.07253350513913152, 'subsample': 0.9984601149714915, 'colsample_bytree': 0.7642776900822141}.\n",
      "[I 2025-05-15 00:15:31,002] Trial 668 finished with values: [0.5000061268315397, 0.0] and parameters: {'alpha': 0.006398238570445525, 'max_depth': 4, 'eta': 0.24431474510203355, 'subsample': 0.9439029455050807, 'colsample_bytree': 0.938607954432039}.\n",
      "[I 2025-05-15 00:15:31,096] Trial 669 finished with values: [0.5000061268315397, 0.0] and parameters: {'alpha': 0.008318822215806598, 'max_depth': 5, 'eta': 0.12955623795656748, 'subsample': 0.9984601149714915, 'colsample_bytree': 0.8907943293589311}.\n",
      "[I 2025-05-15 00:15:31,204] Trial 670 finished with values: [0.5000061268315397, 0.0] and parameters: {'alpha': 0.006398238570445525, 'max_depth': 6, 'eta': 0.10749039742554378, 'subsample': 0.7645830844743573, 'colsample_bytree': 0.9549385682070078}.\n",
      "[I 2025-05-15 00:15:31,306] Trial 671 finished with values: [0.5000061268315397, 0.0] and parameters: {'alpha': 0.012915419123790906, 'max_depth': 4, 'eta': 0.22739873665679933, 'subsample': 0.8722887478609976, 'colsample_bytree': 0.9273609939577232}.\n",
      "[I 2025-05-15 00:15:31,428] Trial 672 finished with values: [0.5000061268315397, 0.0] and parameters: {'alpha': 0.006398238570445525, 'max_depth': 3, 'eta': 0.21901686836526663, 'subsample': 0.872143282534935, 'colsample_bytree': 0.8778999079756078}.\n",
      "[I 2025-05-15 00:15:31,553] Trial 673 finished with values: [0.7035701047381852, 0.059249184277085094] and parameters: {'alpha': 0.611033231186268, 'max_depth': 7, 'eta': 0.21500273048430651, 'subsample': 0.9984601149714915, 'colsample_bytree': 0.6624630554926771}.\n",
      "[I 2025-05-15 00:15:31,676] Trial 674 finished with values: [0.6742899768099426, 0.03681672252237026] and parameters: {'alpha': 0.22601217229786574, 'max_depth': 5, 'eta': 0.23813647636124352, 'subsample': 0.9598656069441984, 'colsample_bytree': 0.6268842887986352}.\n",
      "[I 2025-05-15 00:15:31,811] Trial 675 finished with values: [0.7028609239874645, 0.08614455493249418] and parameters: {'alpha': 0.8694173170637239, 'max_depth': 7, 'eta': 0.21500273048430651, 'subsample': 0.9984601149714915, 'colsample_bytree': 0.6624630554926771}.\n",
      "[I 2025-05-15 00:15:31,934] Trial 676 finished with values: [0.6985782687412119, 0.08381806393132485] and parameters: {'alpha': 0.8450444435992591, 'max_depth': 7, 'eta': 0.21500273048430651, 'subsample': 0.872143282534935, 'colsample_bytree': 0.6846054564616372}.\n",
      "[I 2025-05-15 00:15:32,035] Trial 677 finished with values: [0.5000061268315397, 0.0] and parameters: {'alpha': 0.012915419123790906, 'max_depth': 7, 'eta': 0.22739873665679933, 'subsample': 0.872143282534935, 'colsample_bytree': 0.9273609939577232}.\n",
      "[I 2025-05-15 00:15:32,137] Trial 678 finished with values: [0.5000061268315397, 0.0] and parameters: {'alpha': 0.006398238570445525, 'max_depth': 4, 'eta': 0.1835864240964316, 'subsample': 0.6500142472469429, 'colsample_bytree': 0.6198060693014039}.\n",
      "[I 2025-05-15 00:15:32,239] Trial 679 finished with values: [0.5000061268315397, 0.0] and parameters: {'alpha': 0.006398238570445525, 'max_depth': 7, 'eta': 0.1835864240964316, 'subsample': 0.6766262078975724, 'colsample_bytree': 0.9532604182421414}.\n",
      "[I 2025-05-15 00:15:32,380] Trial 680 finished with values: [0.6792910030542255, 0.041402420725893924] and parameters: {'alpha': 0.6370308795473967, 'max_depth': 7, 'eta': 0.07253350513913152, 'subsample': 0.8088010652239656, 'colsample_bytree': 0.6268842887986352}.\n",
      "[I 2025-05-15 00:15:32,487] Trial 681 finished with values: [0.5000061268315397, 0.0] and parameters: {'alpha': 0.006398238570445525, 'max_depth': 4, 'eta': 0.1835864240964316, 'subsample': 0.6500142472469429, 'colsample_bytree': 0.6245073635344549}.\n",
      "[I 2025-05-15 00:15:32,598] Trial 682 finished with values: [0.5000061268315397, 0.0] and parameters: {'alpha': 0.006398238570445525, 'max_depth': 5, 'eta': 0.24686432990586607, 'subsample': 0.8376771934629543, 'colsample_bytree': 0.6482350599140047}.\n",
      "[I 2025-05-15 00:15:32,743] Trial 683 finished with values: [0.7135721572267509, 0.08223172480068315] and parameters: {'alpha': 0.7755558949312963, 'max_depth': 7, 'eta': 0.24431474510203355, 'subsample': 0.7645830844743573, 'colsample_bytree': 0.9611620505991075}.\n",
      "[I 2025-05-15 00:15:32,842] Trial 684 finished with values: [0.5000061268315397, 0.0] and parameters: {'alpha': 0.006398238570445525, 'max_depth': 6, 'eta': 0.1835864240964316, 'subsample': 0.6631956570556669, 'colsample_bytree': 0.6846054564616372}.\n",
      "[I 2025-05-15 00:15:32,935] Trial 685 finished with values: [0.5000061268315397, 0.0] and parameters: {'alpha': 0.006398238570445525, 'max_depth': 7, 'eta': 0.24431474510203355, 'subsample': 0.7645830844743573, 'colsample_bytree': 0.6051882084598305}.\n",
      "[I 2025-05-15 00:15:33,046] Trial 686 finished with values: [0.6600113959066639, 0.014257957852955647] and parameters: {'alpha': 0.12082713516430721, 'max_depth': 3, 'eta': 0.1835864240964316, 'subsample': 0.6631956570556669, 'colsample_bytree': 0.7291515246102358}.\n",
      "[I 2025-05-15 00:15:33,137] Trial 687 finished with values: [0.5000061268315397, 0.0] and parameters: {'alpha': 0.006398238570445525, 'max_depth': 5, 'eta': 0.1835864240964316, 'subsample': 0.7190259527785925, 'colsample_bytree': 0.938607954432039}.\n",
      "[I 2025-05-15 00:15:33,242] Trial 688 finished with values: [0.5000061268315397, 0.0] and parameters: {'alpha': 0.006398238570445525, 'max_depth': 6, 'eta': 0.10022879453843885, 'subsample': 0.6950815747717355, 'colsample_bytree': 0.939918536631748}.\n",
      "[I 2025-05-15 00:15:33,347] Trial 689 finished with values: [0.5000061268315397, 0.0] and parameters: {'alpha': 0.006398238570445525, 'max_depth': 4, 'eta': 0.1835864240964316, 'subsample': 0.8493505201360313, 'colsample_bytree': 0.6245073635344549}.\n",
      "[I 2025-05-15 00:15:33,601] Trial 690 finished with values: [0.6835736583004782, 0.06415243975809502] and parameters: {'alpha': 0.8694173170637239, 'max_depth': 4, 'eta': 0.1835864240964316, 'subsample': 0.7190259527785925, 'colsample_bytree': 0.9611620505991075}.\n",
      "[I 2025-05-15 00:15:33,831] Trial 691 finished with values: [0.6978476440801021, 0.049140745585135974] and parameters: {'alpha': 0.8694173170637239, 'max_depth': 7, 'eta': 0.10022879453843885, 'subsample': 0.872143282534935, 'colsample_bytree': 0.9611620505991075}.\n",
      "[I 2025-05-15 00:15:34,025] Trial 692 finished with values: [0.7071374524021775, 0.07311628420485418] and parameters: {'alpha': 0.8694173170637239, 'max_depth': 7, 'eta': 0.1835864240964316, 'subsample': 0.8493505201360313, 'colsample_bytree': 0.738838225568187}.\n",
      "[I 2025-05-15 00:15:34,163] Trial 693 finished with values: [0.5000061268315397, 0.0] and parameters: {'alpha': 0.012915419123790906, 'max_depth': 5, 'eta': 0.018704021723965847, 'subsample': 0.6766262078975724, 'colsample_bytree': 0.6479107585243286}.\n",
      "[I 2025-05-15 00:15:34,438] Trial 694 finished with values: [0.7007150012406833, 0.059877383301205477] and parameters: {'alpha': 0.6370308795473967, 'max_depth': 7, 'eta': 0.2500246577030564, 'subsample': 0.9589499923687362, 'colsample_bytree': 0.6584141381083993}.\n",
      "[I 2025-05-15 00:15:34,643] Trial 695 finished with values: [0.7100094046864135, 0.061518217556398] and parameters: {'alpha': 0.8694173170637239, 'max_depth': 7, 'eta': 0.1835864240964316, 'subsample': 0.8493505201360313, 'colsample_bytree': 0.6268842887986352}.\n",
      "[I 2025-05-15 00:15:34,850] Trial 696 finished with values: [0.6878624403782706, 0.048978379961814866] and parameters: {'alpha': 0.9488291372803722, 'max_depth': 7, 'eta': 0.11925408264853209, 'subsample': 0.6631956570556669, 'colsample_bytree': 0.6482350599140047}.\n",
      "[I 2025-05-15 00:15:35,008] Trial 697 finished with values: [0.6600098641987789, 0.018965292700849606] and parameters: {'alpha': 0.12082713516430721, 'max_depth': 5, 'eta': 0.10022879453843885, 'subsample': 0.8472770656657291, 'colsample_bytree': 0.7171393924105901}.\n",
      "[I 2025-05-15 00:15:35,128] Trial 698 finished with values: [0.5000061268315397, 0.0] and parameters: {'alpha': 0.006398238570445525, 'max_depth': 4, 'eta': 0.05148993795553561, 'subsample': 0.6500142472469429, 'colsample_bytree': 0.9171521282961637}.\n",
      "[I 2025-05-15 00:15:35,298] Trial 699 finished with values: [0.6821461065517274, 0.052645367896537114] and parameters: {'alpha': 0.3362596115094858, 'max_depth': 6, 'eta': 0.1835864240964316, 'subsample': 0.6631956570556669, 'colsample_bytree': 0.9532604182421414}.\n",
      "[I 2025-05-15 00:15:35,483] Trial 700 finished with values: [0.5000061268315397, 0.0] and parameters: {'alpha': 0.006398238570445525, 'max_depth': 3, 'eta': 0.1835864240964316, 'subsample': 0.9933768339840505, 'colsample_bytree': 0.9532604182421414}.\n",
      "[I 2025-05-15 00:15:35,616] Trial 701 finished with values: [0.5000061268315397, 0.0] and parameters: {'alpha': 0.006398238570445525, 'max_depth': 4, 'eta': 0.1835864240964316, 'subsample': 0.6500142472469429, 'colsample_bytree': 0.6245073635344549}.\n",
      "[I 2025-05-15 00:15:35,788] Trial 702 finished with values: [0.6942787647082249, 0.044788649761968946] and parameters: {'alpha': 0.8694173170637239, 'max_depth': 7, 'eta': 0.1835864240964316, 'subsample': 0.8013125839351167, 'colsample_bytree': 0.6268842887986352}.\n",
      "[I 2025-05-15 00:15:35,901] Trial 703 finished with values: [0.5000061268315397, 0.0] and parameters: {'alpha': 0.012915419123790906, 'max_depth': 7, 'eta': 0.22739873665679933, 'subsample': 0.8493505201360313, 'colsample_bytree': 0.9273609939577232}.\n",
      "[I 2025-05-15 00:15:36,041] Trial 704 finished with values: [0.6700134483952297, 0.029307666752757488] and parameters: {'alpha': 0.2035687069437352, 'max_depth': 5, 'eta': 0.10022879453843885, 'subsample': 0.6766262078975724, 'colsample_bytree': 0.6268842887986352}.\n",
      "[I 2025-05-15 00:15:36,148] Trial 705 finished with values: [0.5000061268315397, 0.0] and parameters: {'alpha': 0.006398238570445525, 'max_depth': 5, 'eta': 0.10022879453843885, 'subsample': 0.6766262078975724, 'colsample_bytree': 0.6346180096533811}.\n",
      "[I 2025-05-15 00:15:36,276] Trial 706 finished with values: [0.6757221236823483, 0.03627855315684991] and parameters: {'alpha': 0.8694173170637239, 'max_depth': 4, 'eta': 0.1835864240964316, 'subsample': 0.8493505201360313, 'colsample_bytree': 0.9532604182421414}.\n",
      "[I 2025-05-15 00:15:36,536] Trial 707 finished with values: [0.7192823642217546, 0.07877966589404516] and parameters: {'alpha': 0.8694173170637239, 'max_depth': 7, 'eta': 0.2743823608550061, 'subsample': 0.872143282534935, 'colsample_bytree': 0.939918536631748}.\n",
      "[I 2025-05-15 00:15:36,667] Trial 708 finished with values: [0.5000061268315397, 0.0] and parameters: {'alpha': 0.006398238570445525, 'max_depth': 4, 'eta': 0.04803188500470775, 'subsample': 0.872143282534935, 'colsample_bytree': 0.9611620505991075}.\n",
      "[I 2025-05-15 00:15:36,785] Trial 709 finished with values: [0.5000061268315397, 0.0] and parameters: {'alpha': 0.012915419123790906, 'max_depth': 7, 'eta': 0.22739873665679933, 'subsample': 0.8493505201360313, 'colsample_bytree': 0.9273609939577232}.\n",
      "[I 2025-05-15 00:15:36,899] Trial 710 finished with values: [0.5000061268315397, 0.0] and parameters: {'alpha': 0.006398238570445525, 'max_depth': 6, 'eta': 0.21901686836526663, 'subsample': 0.807108008558591, 'colsample_bytree': 0.6268842887986352}.\n",
      "[I 2025-05-15 00:15:37,058] Trial 711 finished with values: [0.6800093740522558, 0.05075843791025869] and parameters: {'alpha': 0.8694173170637239, 'max_depth': 5, 'eta': 0.08668637393061895, 'subsample': 0.7621835460654275, 'colsample_bytree': 0.938607954432039}.\n",
      "[I 2025-05-15 00:15:37,212] Trial 712 finished with values: [0.7021394895736645, 0.08155364194565161] and parameters: {'alpha': 0.8694173170637239, 'max_depth': 7, 'eta': 0.16824618932375798, 'subsample': 0.6631956570556669, 'colsample_bytree': 0.7171393924105901}.\n",
      "[I 2025-05-15 00:15:37,315] Trial 713 finished with values: [0.5000061268315397, 0.0] and parameters: {'alpha': 0.012915419123790906, 'max_depth': 7, 'eta': 0.10853742194712446, 'subsample': 0.7882923672300421, 'colsample_bytree': 0.9787238926202889}.\n",
      "[I 2025-05-15 00:15:37,475] Trial 714 finished with values: [0.6643032414002261, 0.013775676493326247] and parameters: {'alpha': 0.12082713516430721, 'max_depth': 7, 'eta': 0.14898475660332955, 'subsample': 0.6631956570556669, 'colsample_bytree': 0.7171393924105901}.\n",
      "[I 2025-05-15 00:15:37,586] Trial 715 finished with values: [0.5000061268315397, 0.0] and parameters: {'alpha': 0.006398238570445525, 'max_depth': 5, 'eta': 0.21500273048430651, 'subsample': 0.6766262078975724, 'colsample_bytree': 0.8739924818312819}.\n",
      "[I 2025-05-15 00:15:37,761] Trial 716 finished with values: [0.6821537650911519, 0.03604037694628618] and parameters: {'alpha': 0.22601217229786574, 'max_depth': 7, 'eta': 0.23813647636124352, 'subsample': 0.8621180142479564, 'colsample_bytree': 0.6268842887986352}.\n",
      "[I 2025-05-15 00:15:37,997] Trial 717 finished with values: [0.5000061268315397, 0.0] and parameters: {'alpha': 0.006398238570445525, 'max_depth': 6, 'eta': 0.15511827510132917, 'subsample': 0.9455728646066989, 'colsample_bytree': 0.9171521282961637}.\n",
      "[I 2025-05-15 00:15:38,176] Trial 718 finished with values: [0.6785756954719652, 0.05570616989648238] and parameters: {'alpha': 0.8694173170637239, 'max_depth': 5, 'eta': 0.08414888230963392, 'subsample': 0.872143282534935, 'colsample_bytree': 0.7467898426760461}.\n",
      "[I 2025-05-15 00:15:38,295] Trial 719 finished with values: [0.5000061268315397, 0.0] and parameters: {'alpha': 0.006398238570445525, 'max_depth': 7, 'eta': 0.1835864240964316, 'subsample': 0.871229825323997, 'colsample_bytree': 0.6624630554926771}.\n",
      "[I 2025-05-15 00:15:38,456] Trial 720 finished with values: [0.6571516972855073, 0.02564185806944465] and parameters: {'alpha': 0.12082713516430721, 'max_depth': 7, 'eta': 0.10022879453843885, 'subsample': 0.807108008558591, 'colsample_bytree': 0.6346180096533811}.\n",
      "[I 2025-05-15 00:15:38,564] Trial 721 finished with values: [0.677152738846869, 0.06034339194144852] and parameters: {'alpha': 0.9974592747952532, 'max_depth': 4, 'eta': 0.22739873665679933, 'subsample': 0.9148130703007581, 'colsample_bytree': 0.6198060693014039}.\n",
      "[I 2025-05-15 00:15:38,663] Trial 722 finished with values: [0.5000061268315397, 0.0] and parameters: {'alpha': 0.0018713778605690123, 'max_depth': 6, 'eta': 0.07253350513913152, 'subsample': 0.872143282534935, 'colsample_bytree': 0.6268842887986352}.\n",
      "[I 2025-05-15 00:15:38,804] Trial 723 finished with values: [0.5000061268315397, 0.0] and parameters: {'alpha': 0.006398238570445525, 'max_depth': 5, 'eta': 0.15511827510132917, 'subsample': 0.7126649411379313, 'colsample_bytree': 0.9171521282961637}.\n",
      "[I 2025-05-15 00:15:38,940] Trial 724 finished with values: [0.5000061268315397, 0.0] and parameters: {'alpha': 0.006398238570445525, 'max_depth': 7, 'eta': 0.1677647029323065, 'subsample': 0.9984601149714915, 'colsample_bytree': 0.9171521282961637}.\n",
      "[I 2025-05-15 00:15:39,077] Trial 725 finished with values: [0.5000061268315397, 0.0] and parameters: {'alpha': 0.006398238570445525, 'max_depth': 3, 'eta': 0.21500273048430651, 'subsample': 0.723846016483348, 'colsample_bytree': 0.7745376626764415}.\n",
      "[I 2025-05-15 00:15:39,219] Trial 726 finished with values: [0.5000061268315397, 0.0] and parameters: {'alpha': 0.006398238570445525, 'max_depth': 7, 'eta': 0.22739873665679933, 'subsample': 0.8493505201360313, 'colsample_bytree': 0.6837805915730714}.\n",
      "[I 2025-05-15 00:15:39,333] Trial 727 finished with values: [0.5000061268315397, 0.0] and parameters: {'alpha': 0.012915419123790906, 'max_depth': 7, 'eta': 0.09446533694949708, 'subsample': 0.6766262078975724, 'colsample_bytree': 0.9273609939577232}.\n",
      "[I 2025-05-15 00:15:39,528] Trial 728 finished with values: [0.6742899768099426, 0.044475535093460083] and parameters: {'alpha': 0.5362824715760208, 'max_depth': 6, 'eta': 0.09792424743837708, 'subsample': 0.7887657697937374, 'colsample_bytree': 0.6346180096533811}.\n",
      "[I 2025-05-15 00:15:39,685] Trial 729 finished with values: [0.5000061268315397, 0.0] and parameters: {'alpha': 0.012915419123790906, 'max_depth': 7, 'eta': 0.24182700629922924, 'subsample': 0.6081706068465388, 'colsample_bytree': 0.9273609939577232}.\n",
      "[I 2025-05-15 00:15:39,789] Trial 730 finished with values: [0.5000061268315397, 0.0] and parameters: {'alpha': 0.006398238570445525, 'max_depth': 4, 'eta': 0.21500273048430651, 'subsample': 0.6550834598543572, 'colsample_bytree': 0.8185895350563355}.\n",
      "[I 2025-05-15 00:15:39,920] Trial 731 finished with values: [0.6807200865108612, 0.037658508705752526] and parameters: {'alpha': 0.6308330624115891, 'max_depth': 4, 'eta': 0.1919795686809288, 'subsample': 0.807108008558591, 'colsample_bytree': 0.9171521282961637}.\n",
      "[I 2025-05-15 00:15:40,022] Trial 732 finished with values: [0.5000061268315397, 0.0] and parameters: {'alpha': 0.006398238570445525, 'max_depth': 4, 'eta': 0.21500273048430651, 'subsample': 0.723846016483348, 'colsample_bytree': 0.6310181040781574}.\n",
      "[I 2025-05-15 00:15:40,124] Trial 733 finished with values: [0.5000061268315397, 0.0] and parameters: {'alpha': 0.006398238570445525, 'max_depth': 7, 'eta': 0.21500273048430651, 'subsample': 0.8905774050758242, 'colsample_bytree': 0.9532604182421414}.\n",
      "[I 2025-05-15 00:15:40,291] Trial 734 finished with values: [0.6721517126025861, 0.04279719085814137] and parameters: {'alpha': 0.5214919357180328, 'max_depth': 7, 'eta': 0.06946850400909407, 'subsample': 0.6766262078975724, 'colsample_bytree': 0.6846054564616372}.\n",
      "[I 2025-05-15 00:15:40,434] Trial 735 finished with values: [0.5000061268315397, 0.0] and parameters: {'alpha': 0.006398238570445525, 'max_depth': 7, 'eta': 0.1835864240964316, 'subsample': 0.871229825323997, 'colsample_bytree': 0.7467898426760461}.\n",
      "[I 2025-05-15 00:15:40,532] Trial 736 finished with values: [0.5000061268315397, 0.0] and parameters: {'alpha': 0.006398238570445525, 'max_depth': 5, 'eta': 0.1835864240964316, 'subsample': 0.872143282534935, 'colsample_bytree': 0.9532604182421414}.\n",
      "[I 2025-05-15 00:15:40,641] Trial 737 finished with values: [0.5000061268315397, 0.0] and parameters: {'alpha': 0.006398238570445525, 'max_depth': 4, 'eta': 0.07257095200779526, 'subsample': 0.807108008558591, 'colsample_bytree': 0.6245073635344549}.\n",
      "[I 2025-05-15 00:15:40,750] Trial 738 finished with values: [0.5000061268315397, 0.0] and parameters: {'alpha': 0.006398238570445525, 'max_depth': 7, 'eta': 0.24431474510203355, 'subsample': 0.7645830844743573, 'colsample_bytree': 0.7240761409779876}.\n",
      "[I 2025-05-15 00:15:40,900] Trial 739 finished with values: [0.7185747151789187, 0.08512589800619903] and parameters: {'alpha': 0.7705404574223311, 'max_depth': 7, 'eta': 0.24026710755528385, 'subsample': 0.8376771934629543, 'colsample_bytree': 0.7467898426760461}.\n",
      "[I 2025-05-15 00:15:41,119] Trial 740 finished with values: [0.5000061268315397, 0.0] and parameters: {'alpha': 0.006398238570445525, 'max_depth': 6, 'eta': 0.1835864240964316, 'subsample': 0.8376771934629543, 'colsample_bytree': 0.8778999079756078}.\n",
      "[I 2025-05-15 00:15:41,363] Trial 741 finished with values: [0.6757313139296578, 0.02414723476787149] and parameters: {'alpha': 0.2982130949964965, 'max_depth': 7, 'eta': 0.10022879453843885, 'subsample': 0.8088010652239656, 'colsample_bytree': 0.6268842887986352}.\n",
      "[I 2025-05-15 00:15:41,519] Trial 742 finished with values: [0.5000061268315397, 0.0] and parameters: {'alpha': 0.006398238570445525, 'max_depth': 5, 'eta': 0.10022879453843885, 'subsample': 0.7774501230831639, 'colsample_bytree': 0.7171393924105901}.\n",
      "[I 2025-05-15 00:15:41,698] Trial 743 finished with values: [0.6957124432885156, 0.057569024195307524] and parameters: {'alpha': 0.6370308795473967, 'max_depth': 7, 'eta': 0.22739873665679933, 'subsample': 0.8493505201360313, 'colsample_bytree': 0.7642776900822141}.\n",
      "[I 2025-05-15 00:15:41,858] Trial 744 finished with values: [0.5000061268315397, 0.0] and parameters: {'alpha': 0.006398238570445525, 'max_depth': 4, 'eta': 0.05148993795553561, 'subsample': 0.7190259527785925, 'colsample_bytree': 0.7512586291458804}.\n",
      "[I 2025-05-15 00:15:42,022] Trial 745 finished with values: [0.6693012042287392, 0.03169254797019074] and parameters: {'alpha': 0.22601217229786574, 'max_depth': 4, 'eta': 0.1919795686809288, 'subsample': 0.872143282534935, 'colsample_bytree': 0.9760530476562235}.\n",
      "[I 2025-05-15 00:15:42,184] Trial 746 finished with values: [0.6700073215636899, 0.042152284038353395] and parameters: {'alpha': 0.3991847632583627, 'max_depth': 5, 'eta': 0.06342798692296729, 'subsample': 0.871229825323997, 'colsample_bytree': 0.9273609939577232}.\n",
      "[I 2025-05-15 00:15:42,317] Trial 747 finished with values: [0.5000061268315397, 0.0] and parameters: {'alpha': 0.006398238570445525, 'max_depth': 4, 'eta': 0.05148993795553561, 'subsample': 0.872143282534935, 'colsample_bytree': 0.9171521282961637}.\n",
      "[I 2025-05-15 00:15:42,437] Trial 748 finished with values: [0.5000061268315397, 0.0] and parameters: {'alpha': 0.006398238570445525, 'max_depth': 7, 'eta': 0.24431474510203355, 'subsample': 0.8493505201360313, 'colsample_bytree': 0.6846054564616372}.\n",
      "[I 2025-05-15 00:15:42,557] Trial 749 finished with values: [0.5000061268315397, 0.0] and parameters: {'alpha': 0.012915419123790906, 'max_depth': 7, 'eta': 0.22739873665679933, 'subsample': 0.8493505201360313, 'colsample_bytree': 0.9273609939577232}.\n",
      "[I 2025-05-15 00:15:42,769] Trial 750 finished with values: [0.6778619195975897, 0.04073294802373247] and parameters: {'alpha': 0.24449089716629402, 'max_depth': 7, 'eta': 0.19083593424031675, 'subsample': 0.7593115051183963, 'colsample_bytree': 0.7354100564107866}.\n",
      "[I 2025-05-15 00:15:42,907] Trial 751 finished with values: [0.6707226291459504, 0.012983203043084202] and parameters: {'alpha': 0.034478119230657245, 'max_depth': 5, 'eta': 0.08668689823237052, 'subsample': 0.6766262078975724, 'colsample_bytree': 0.6268842887986352}.\n",
      "[I 2025-05-15 00:15:43,035] Trial 752 finished with values: [0.5000061268315397, 0.0] and parameters: {'alpha': 0.006398238570445525, 'max_depth': 5, 'eta': 0.1835864240964316, 'subsample': 0.8376771934629543, 'colsample_bytree': 0.6482350599140047}.\n",
      "[I 2025-05-15 00:15:43,362] Trial 753 finished with values: [0.670005789855805, 0.03414087535203326] and parameters: {'alpha': 0.22601217229786574, 'max_depth': 5, 'eta': 0.23813647636124352, 'subsample': 0.9221416223158128, 'colsample_bytree': 0.6268842887986352}.\n",
      "[I 2025-05-15 00:15:43,533] Trial 754 finished with values: [0.5000061268315397, 0.0] and parameters: {'alpha': 0.006398238570445525, 'max_depth': 4, 'eta': 0.2743823608550061, 'subsample': 0.6766262078975724, 'colsample_bytree': 0.939918536631748}.\n",
      "[I 2025-05-15 00:15:43,727] Trial 755 finished with values: [0.5000061268315397, 0.0] and parameters: {'alpha': 0.006398238570445525, 'max_depth': 4, 'eta': 0.10022879453843885, 'subsample': 0.6766262078975724, 'colsample_bytree': 0.6758620611494761}.\n",
      "[I 2025-05-15 00:15:44,167] Trial 756 finished with values: [0.6650062953194071, 0.04358935464500974] and parameters: {'alpha': 0.22601217229786574, 'max_depth': 5, 'eta': 0.013609475751761507, 'subsample': 0.8944415977997164, 'colsample_bytree': 0.6268842887986352}.\n",
      "[I 2025-05-15 00:15:44,335] Trial 757 finished with values: [0.5000061268315397, 0.0] and parameters: {'alpha': 0.006398238570445525, 'max_depth': 5, 'eta': 0.2974931433257242, 'subsample': 0.9029898370366127, 'colsample_bytree': 0.6268842887986352}.\n",
      "[I 2025-05-15 00:15:44,535] Trial 758 finished with values: [0.6628634359883958, 0.024352516710655303] and parameters: {'alpha': 0.22601217229786574, 'max_depth': 4, 'eta': 0.10022879453843885, 'subsample': 0.6631956570556669, 'colsample_bytree': 0.6346180096533811}.\n",
      "[I 2025-05-15 00:15:44,727] Trial 759 finished with values: [0.6707226291459504, 0.012983203043084202] and parameters: {'alpha': 0.04049374657009808, 'max_depth': 4, 'eta': 0.1835864240964316, 'subsample': 0.6500142472469429, 'colsample_bytree': 0.6228347516711049}.\n",
      "[I 2025-05-15 00:15:44,847] Trial 760 finished with values: [0.5000061268315397, 0.0] and parameters: {'alpha': 0.006398238570445525, 'max_depth': 5, 'eta': 0.23813647636124352, 'subsample': 0.6766262078975724, 'colsample_bytree': 0.6268842887986352}.\n",
      "[I 2025-05-15 00:15:45,043] Trial 761 finished with values: [0.5000061268315397, 0.0] and parameters: {'alpha': 0.006398238570445525, 'max_depth': 5, 'eta': 0.23813647636124352, 'subsample': 0.7989283837285998, 'colsample_bytree': 0.9611620505991075}.\n",
      "[I 2025-05-15 00:15:45,171] Trial 762 finished with values: [0.5000061268315397, 0.0] and parameters: {'alpha': 0.006398238570445525, 'max_depth': 5, 'eta': 0.20184478258607816, 'subsample': 0.7190259527785925, 'colsample_bytree': 0.6846054564616372}.\n",
      "[I 2025-05-15 00:15:45,300] Trial 763 finished with values: [0.6814399892167765, 0.05414234095344168] and parameters: {'alpha': 0.4895170546997939, 'max_depth': 4, 'eta': 0.1835864240964316, 'subsample': 0.654043952083675, 'colsample_bytree': 0.9532604182421414}.\n",
      "[I 2025-05-15 00:15:45,415] Trial 764 finished with values: [0.6578746634071923, 0.01651547159162699] and parameters: {'alpha': 0.16322823233697115, 'max_depth': 3, 'eta': 0.1835864240964316, 'subsample': 0.7645830844743573, 'colsample_bytree': 0.6846054564616372}.\n",
      "[I 2025-05-15 00:15:45,522] Trial 765 finished with values: [0.5000061268315397, 0.0] and parameters: {'alpha': 0.006398238570445525, 'max_depth': 4, 'eta': 0.07253350513913152, 'subsample': 0.6890744260860576, 'colsample_bytree': 0.9171521282961637}.\n",
      "[I 2025-05-15 00:15:45,678] Trial 766 finished with values: [0.7121400103543453, 0.0767157881582476] and parameters: {'alpha': 0.8694173170637239, 'max_depth': 7, 'eta': 0.1835864240964316, 'subsample': 0.8376771934629543, 'colsample_bytree': 0.9901074621532081}.\n",
      "[I 2025-05-15 00:15:45,780] Trial 767 finished with values: [0.5000061268315397, 0.0] and parameters: {'alpha': 0.006398238570445525, 'max_depth': 6, 'eta': 0.1835864240964316, 'subsample': 0.807108008558591, 'colsample_bytree': 0.6482350599140047}.\n",
      "[I 2025-05-15 00:15:45,956] Trial 768 finished with values: [0.704274690365251, 0.055059027944052846] and parameters: {'alpha': 0.8694173170637239, 'max_depth': 7, 'eta': 0.1835864240964316, 'subsample': 0.8493505201360313, 'colsample_bytree': 0.9532604182421414}.\n",
      "[I 2025-05-15 00:15:46,095] Trial 769 finished with values: [0.6842859024669687, 0.06493658740150045] and parameters: {'alpha': 0.8694173170637239, 'max_depth': 5, 'eta': 0.1835864240964316, 'subsample': 0.6766262078975724, 'colsample_bytree': 0.7733853186108743}.\n",
      "[I 2025-05-15 00:15:46,302] Trial 770 finished with values: [0.6942879549555346, 0.07044473429438378] and parameters: {'alpha': 0.8694173170637239, 'max_depth': 5, 'eta': 0.1835864240964316, 'subsample': 0.6766262078975724, 'colsample_bytree': 0.938607954432039}.\n",
      "[I 2025-05-15 00:15:46,445] Trial 771 finished with values: [0.5000061268315397, 0.0] and parameters: {'alpha': 0.006398238570445525, 'max_depth': 6, 'eta': 0.1835864240964316, 'subsample': 0.7439931129317644, 'colsample_bytree': 0.938607954432039}.\n",
      "[I 2025-05-15 00:15:46,571] Trial 772 finished with values: [0.5000061268315397, 0.0] and parameters: {'alpha': 0.006398238570445525, 'max_depth': 7, 'eta': 0.1835864240964316, 'subsample': 0.871229825323997, 'colsample_bytree': 0.9901074621532081}.\n",
      "[I 2025-05-15 00:15:46,712] Trial 773 finished with values: [0.5000061268315397, 0.0] and parameters: {'alpha': 0.006398238570445525, 'max_depth': 4, 'eta': 0.2743823608550061, 'subsample': 0.6950815747717355, 'colsample_bytree': 0.6638010257671862}.\n",
      "[I 2025-05-15 00:15:46,866] Trial 774 finished with values: [0.6685690478597445, 0.05138383846940353] and parameters: {'alpha': 0.8405698340833159, 'max_depth': 4, 'eta': 0.10749039742554378, 'subsample': 0.807108008558591, 'colsample_bytree': 0.6346180096533811}.\n",
      "[I 2025-05-15 00:15:46,989] Trial 775 finished with values: [0.5000061268315397, 0.0] and parameters: {'alpha': 0.006398238570445525, 'max_depth': 7, 'eta': 0.21500273048430651, 'subsample': 0.7126649411379313, 'colsample_bytree': 0.708469829483169}.\n",
      "[I 2025-05-15 00:15:47,156] Trial 776 finished with values: [0.688577747960531, 0.048015069437109474] and parameters: {'alpha': 0.8694173170637239, 'max_depth': 4, 'eta': 0.1835864240964316, 'subsample': 0.6766262078975724, 'colsample_bytree': 0.6268842887986352}.\n",
      "[I 2025-05-15 00:15:47,264] Trial 777 finished with values: [0.5000061268315397, 0.0] and parameters: {'alpha': 0.006398238570445525, 'max_depth': 5, 'eta': 0.15780100657948715, 'subsample': 0.6766262078975724, 'colsample_bytree': 0.6245073635344549}.\n",
      "[I 2025-05-15 00:15:47,368] Trial 778 finished with values: [0.5000061268315397, 0.0] and parameters: {'alpha': 0.006398238570445525, 'max_depth': 6, 'eta': 0.1835864240964316, 'subsample': 0.9984601149714915, 'colsample_bytree': 0.9532604182421414}.\n",
      "[I 2025-05-15 00:15:47,519] Trial 779 finished with values: [0.7042823489046758, 0.062370314617887945] and parameters: {'alpha': 0.5530299674092187, 'max_depth': 7, 'eta': 0.21500273048430651, 'subsample': 0.8376771934629543, 'colsample_bytree': 0.8665781481045518}.\n",
      "[I 2025-05-15 00:15:47,618] Trial 780 finished with values: [0.5000061268315397, 0.0] and parameters: {'alpha': 0.006398238570445525, 'max_depth': 6, 'eta': 0.07957592594220307, 'subsample': 0.6766262078975724, 'colsample_bytree': 0.6268842887986352}.\n",
      "[I 2025-05-15 00:15:47,730] Trial 781 finished with values: [0.5000061268315397, 0.0] and parameters: {'alpha': 0.010691770508933551, 'max_depth': 3, 'eta': 0.24026710755528385, 'subsample': 0.723846016483348, 'colsample_bytree': 0.7894887198211535}.\n",
      "[I 2025-05-15 00:15:47,841] Trial 782 finished with values: [0.5000061268315397, 0.0] and parameters: {'alpha': 0.006398238570445525, 'max_depth': 4, 'eta': 0.05148993795553561, 'subsample': 0.6864589889979726, 'colsample_bytree': 0.7093301687646391}.\n",
      "[I 2025-05-15 00:15:47,950] Trial 783 finished with values: [0.5000061268315397, 0.0] and parameters: {'alpha': 0.006398238570445525, 'max_depth': 5, 'eta': 0.27499741563348057, 'subsample': 0.9454318171790606, 'colsample_bytree': 0.6245073635344549}.\n",
      "[I 2025-05-15 00:15:48,078] Trial 784 finished with values: [0.5000061268315397, 0.0] and parameters: {'alpha': 0.006398238570445525, 'max_depth': 7, 'eta': 0.1835864240964316, 'subsample': 0.8376771934629543, 'colsample_bytree': 0.9532604182421414}.\n",
      "[I 2025-05-15 00:15:48,169] Trial 785 finished with values: [0.5000061268315397, 0.0] and parameters: {'alpha': 0.006398238570445525, 'max_depth': 4, 'eta': 0.1835864240964316, 'subsample': 0.6698286323659473, 'colsample_bytree': 0.6479107585243286}.\n",
      "[I 2025-05-15 00:15:48,302] Trial 786 finished with values: [0.6935849010363535, 0.06472567560532821] and parameters: {'alpha': 0.5589806360843554, 'max_depth': 7, 'eta': 0.1835864240964316, 'subsample': 0.8493505201360313, 'colsample_bytree': 0.6268842887986352}.\n",
      "[I 2025-05-15 00:15:48,395] Trial 787 finished with values: [0.5000061268315397, 0.0] and parameters: {'alpha': 0.006398238570445525, 'max_depth': 4, 'eta': 0.15780100657948715, 'subsample': 0.6766262078975724, 'colsample_bytree': 0.9532604182421414}.\n",
      "[I 2025-05-15 00:15:48,509] Trial 788 finished with values: [0.6764450898040333, 0.03769169908083486] and parameters: {'alpha': 0.22601217229786574, 'max_depth': 4, 'eta': 0.1458349960354422, 'subsample': 0.6950815747717355, 'colsample_bytree': 0.939918536631748}.\n",
      "[I 2025-05-15 00:15:48,635] Trial 789 finished with values: [0.6807216182187462, 0.0640653884292276] and parameters: {'alpha': 0.22601217229786574, 'max_depth': 7, 'eta': 0.23813647636124352, 'subsample': 0.9984601149714915, 'colsample_bytree': 0.6479107585243286}.\n",
      "[I 2025-05-15 00:15:48,783] Trial 790 finished with values: [0.6999920351189983, 0.06394354836961845] and parameters: {'alpha': 0.6308330624115891, 'max_depth': 6, 'eta': 0.1919795686809288, 'subsample': 0.872143282534935, 'colsample_bytree': 0.9491234357473295}.\n",
      "[I 2025-05-15 00:15:48,886] Trial 791 finished with values: [0.5000061268315397, 0.0] and parameters: {'alpha': 0.006398238570445525, 'max_depth': 4, 'eta': 0.15511827510132917, 'subsample': 0.6500142472469429, 'colsample_bytree': 0.9171521282961637}.\n",
      "[I 2025-05-15 00:15:49,026] Trial 792 finished with values: [0.6935726473732741, 0.06376477250819192] and parameters: {'alpha': 0.8694173170637239, 'max_depth': 7, 'eta': 0.1835864240964316, 'subsample': 0.9984601149714915, 'colsample_bytree': 0.6479107585243286}.\n",
      "[I 2025-05-15 00:15:49,192] Trial 793 finished with values: [0.6700042581479201, 0.02682840804118647] and parameters: {'alpha': 0.22601217229786574, 'max_depth': 4, 'eta': 0.21901686836526663, 'subsample': 0.872143282534935, 'colsample_bytree': 0.9970055708546823}.\n",
      "[I 2025-05-15 00:15:49,342] Trial 794 finished with values: [0.7064190814041473, 0.06830215916300271] and parameters: {'alpha': 0.8694173170637239, 'max_depth': 7, 'eta': 0.1835864240964316, 'subsample': 0.6631956570556669, 'colsample_bytree': 0.9532604182421414}.\n",
      "[I 2025-05-15 00:15:49,468] Trial 795 finished with values: [0.6978644928668364, 0.05881030541534604] and parameters: {'alpha': 0.8694173170637239, 'max_depth': 5, 'eta': 0.1835864240964316, 'subsample': 0.8493505201360313, 'colsample_bytree': 0.6846054564616372}.\n",
      "[I 2025-05-15 00:15:49,568] Trial 796 finished with values: [0.5000061268315397, 0.0] and parameters: {'alpha': 0.006398238570445525, 'max_depth': 3, 'eta': 0.1835864240964316, 'subsample': 0.6409880611697382, 'colsample_bytree': 0.9611620505991075}.\n",
      "[I 2025-05-15 00:15:49,740] Trial 797 finished with values: [0.705000719902706, 0.1056926935760051] and parameters: {'alpha': 0.6339390635597331, 'max_depth': 7, 'eta': 0.24026710755528385, 'subsample': 0.9302130597795102, 'colsample_bytree': 0.7467898426760461}.\n",
      "[I 2025-05-15 00:15:49,863] Trial 798 finished with values: [0.6750037526843181, 0.02028355192662773] and parameters: {'alpha': 0.22601217229786574, 'max_depth': 4, 'eta': 0.1717685444469246, 'subsample': 0.6766262078975724, 'colsample_bytree': 0.6346180096533811}.\n",
      "[I 2025-05-15 00:15:50,031] Trial 799 finished with values: [0.7107078634819396, 0.06719156627361235] and parameters: {'alpha': 0.8694173170637239, 'max_depth': 7, 'eta': 0.1948689650248874, 'subsample': 0.8376771934629543, 'colsample_bytree': 0.8778999079756078}.\n",
      "[I 2025-05-15 00:15:50,174] Trial 800 finished with values: [0.6492955675437225, 0.020669445525837132] and parameters: {'alpha': 0.12082713516430721, 'max_depth': 7, 'eta': 0.10022879453843885, 'subsample': 0.872143282534935, 'colsample_bytree': 0.7171393924105901}.\n",
      "[I 2025-05-15 00:15:50,346] Trial 801 finished with values: [0.6671445595267634, 0.030764207746455063] and parameters: {'alpha': 0.2840144787734521, 'max_depth': 7, 'eta': 0.10022879453843885, 'subsample': 0.6766262078975724, 'colsample_bytree': 0.9532604182421414}.\n",
      "[I 2025-05-15 00:15:50,529] Trial 802 finished with values: [0.6835813168399029, 0.049991127833490794] and parameters: {'alpha': 0.3282676813529374, 'max_depth': 7, 'eta': 0.24431474510203355, 'subsample': 0.7645830844743573, 'colsample_bytree': 0.7253517518722625}.\n",
      "[I 2025-05-15 00:15:50,693] Trial 803 finished with values: [0.5000061268315397, 0.0] and parameters: {'alpha': 0.012915419123790906, 'max_depth': 5, 'eta': 0.21901686836526663, 'subsample': 0.871229825323997, 'colsample_bytree': 0.6846054564616372}.\n",
      "[I 2025-05-15 00:15:50,819] Trial 804 finished with values: [0.5000061268315397, 0.0] and parameters: {'alpha': 0.006398238570445525, 'max_depth': 3, 'eta': 0.05826135432289592, 'subsample': 0.872143282534935, 'colsample_bytree': 0.8843911291120348}.\n",
      "[I 2025-05-15 00:15:50,951] Trial 805 finished with values: [0.6864410154610594, 0.036219861354194326] and parameters: {'alpha': 0.22601217229786574, 'max_depth': 5, 'eta': 0.2844045338908746, 'subsample': 0.6766262078975724, 'colsample_bytree': 0.6268842887986352}.\n",
      "[I 2025-05-15 00:15:51,118] Trial 806 finished with values: [0.5000061268315397, 0.0] and parameters: {'alpha': 0.006398238570445525, 'max_depth': 5, 'eta': 0.1835864240964316, 'subsample': 0.7190259527785925, 'colsample_bytree': 0.6846054564616372}.\n",
      "[I 2025-05-15 00:15:51,330] Trial 807 finished with values: [0.6700057898558051, 0.03600829063845607] and parameters: {'alpha': 0.22601217229786574, 'max_depth': 7, 'eta': 0.10022879453843885, 'subsample': 0.9860862588411659, 'colsample_bytree': 0.7171393924105901}.\n",
      "[I 2025-05-15 00:15:51,444] Trial 808 finished with values: [0.5000061268315397, 0.0] and parameters: {'alpha': 0.006398238570445525, 'max_depth': 4, 'eta': 0.07253350513913152, 'subsample': 0.872143282534935, 'colsample_bytree': 0.7642776900822141}.\n",
      "[I 2025-05-15 00:15:51,554] Trial 809 finished with values: [0.5000061268315397, 0.0] and parameters: {'alpha': 0.006398238570445525, 'max_depth': 6, 'eta': 0.15511827510132917, 'subsample': 0.7126649411379313, 'colsample_bytree': 0.6846054564616372}.\n",
      "[I 2025-05-15 00:15:51,808] Trial 810 finished with values: [0.7078604185238625, 0.08277800589689856] and parameters: {'alpha': 0.8729035482506278, 'max_depth': 7, 'eta': 0.22739873665679933, 'subsample': 0.9984601149714915, 'colsample_bytree': 0.6624630554926771}.\n",
      "[I 2025-05-15 00:15:51,935] Trial 811 finished with values: [0.5000061268315397, 0.0] and parameters: {'alpha': 0.006398238570445525, 'max_depth': 5, 'eta': 0.27499741563348057, 'subsample': 0.9984601149714915, 'colsample_bytree': 0.7642776900822141}.\n",
      "[I 2025-05-15 00:15:52,141] Trial 812 finished with values: [0.712847659397181, 0.09176104198400274] and parameters: {'alpha': 0.9521770835976653, 'max_depth': 7, 'eta': 0.2511821845692435, 'subsample': 0.6631956570556669, 'colsample_bytree': 0.889550854337888}.\n",
      "[I 2025-05-15 00:15:52,254] Trial 813 finished with values: [0.5000061268315397, 0.0] and parameters: {'alpha': 0.006398238570445525, 'max_depth': 3, 'eta': 0.21901686836526663, 'subsample': 0.807108008558591, 'colsample_bytree': 0.8936989271586264}.\n",
      "[I 2025-05-15 00:15:52,368] Trial 814 finished with values: [0.5000061268315397, 0.0] and parameters: {'alpha': 0.006398238570445525, 'max_depth': 7, 'eta': 0.0765818690756318, 'subsample': 0.7645830844743573, 'colsample_bytree': 0.6846054564616372}.\n",
      "[I 2025-05-15 00:15:52,489] Trial 815 finished with values: [0.5000061268315397, 0.0] and parameters: {'alpha': 0.006398238570445525, 'max_depth': 4, 'eta': 0.10022879453843885, 'subsample': 0.872143282534935, 'colsample_bytree': 0.9532604182421414}.\n",
      "[I 2025-05-15 00:15:52,616] Trial 816 finished with values: [0.5000061268315397, 0.0] and parameters: {'alpha': 0.006398238570445525, 'max_depth': 4, 'eta': 0.23813647636124352, 'subsample': 0.6766262078975724, 'colsample_bytree': 0.6268842887986352}.\n",
      "[I 2025-05-15 00:15:52,747] Trial 817 finished with values: [0.5000061268315397, 0.0] and parameters: {'alpha': 0.0018713778605690123, 'max_depth': 5, 'eta': 0.23813647636124352, 'subsample': 0.6766262078975724, 'colsample_bytree': 0.6268842887986352}.\n",
      "[I 2025-05-15 00:15:52,857] Trial 818 finished with values: [0.5000061268315397, 0.0] and parameters: {'alpha': 0.006398238570445525, 'max_depth': 7, 'eta': 0.10022879453843885, 'subsample': 0.6631956570556669, 'colsample_bytree': 0.9532604182421414}.\n",
      "[I 2025-05-15 00:15:52,982] Trial 819 finished with values: [0.6828598824261028, 0.032703525159619905] and parameters: {'alpha': 0.22601217229786574, 'max_depth': 4, 'eta': 0.24431474510203355, 'subsample': 0.807108008558591, 'colsample_bytree': 0.6268842887986352}.\n",
      "[I 2025-05-15 00:15:53,168] Trial 820 finished with values: [0.7028624556953494, 0.05236439978369309] and parameters: {'alpha': 0.8694173170637239, 'max_depth': 6, 'eta': 0.1835864240964316, 'subsample': 0.807108008558591, 'colsample_bytree': 0.6268842887986352}.\n",
      "[I 2025-05-15 00:15:53,328] Trial 821 finished with values: [0.7014226502835191, 0.08797896667287063] and parameters: {'alpha': 0.8694173170637239, 'max_depth': 7, 'eta': 0.2172299352312903, 'subsample': 0.8493505201360313, 'colsample_bytree': 0.9532604182421414}.\n",
      "[I 2025-05-15 00:15:53,469] Trial 822 finished with values: [0.6700011947321501, 0.021036967626713993] and parameters: {'alpha': 0.22601217229786574, 'max_depth': 4, 'eta': 0.1919795686809288, 'subsample': 0.6543197665820388, 'colsample_bytree': 0.6346180096533811}.\n",
      "[I 2025-05-15 00:15:53,584] Trial 823 finished with values: [0.5000061268315397, 0.0] and parameters: {'alpha': 0.006398238570445525, 'max_depth': 7, 'eta': 0.10022879453843885, 'subsample': 0.6500142472469429, 'colsample_bytree': 0.6245073635344549}.\n",
      "[I 2025-05-15 00:15:53,687] Trial 824 finished with values: [0.5000061268315397, 0.0] and parameters: {'alpha': 0.006398238570445525, 'max_depth': 7, 'eta': 0.07253350513913152, 'subsample': 0.6766262078975724, 'colsample_bytree': 0.6624630554926771}.\n",
      "[I 2025-05-15 00:15:53,857] Trial 825 finished with values: [0.6750006892685482, 0.04798769679249717] and parameters: {'alpha': 0.4231648073334566, 'max_depth': 7, 'eta': 0.1346620258502429, 'subsample': 0.6766262078975724, 'colsample_bytree': 0.938607954432039}.\n",
      "[I 2025-05-15 00:15:53,993] Trial 826 finished with values: [0.7092772483174189, 0.05262509297654089] and parameters: {'alpha': 0.8694173170637239, 'max_depth': 6, 'eta': 0.24431474510203355, 'subsample': 0.8493505201360313, 'colsample_bytree': 0.6479107585243286}.\n",
      "[I 2025-05-15 00:15:54,100] Trial 827 finished with values: [0.5000061268315397, 0.0] and parameters: {'alpha': 0.012915419123790906, 'max_depth': 5, 'eta': 0.21901686836526663, 'subsample': 0.871229825323997, 'colsample_bytree': 0.9781583569104044}.\n",
      "[I 2025-05-15 00:15:54,284] Trial 828 finished with values: [0.6764389629724935, 0.027633681023837953] and parameters: {'alpha': 0.6308330624115891, 'max_depth': 5, 'eta': 0.15780100657948715, 'subsample': 0.6766262078975724, 'colsample_bytree': 0.6346180096533811}.\n",
      "[I 2025-05-15 00:15:54,381] Trial 829 finished with values: [0.6864486740004839, 0.015154691267056894] and parameters: {'alpha': 0.22922811182883618, 'max_depth': 5, 'eta': 0.24431474510203355, 'subsample': 0.6766262078975724, 'colsample_bytree': 0.6268842887986352}.\n",
      "[I 2025-05-15 00:15:54,444] Trial 830 finished with values: [0.5000061268315397, 0.0] and parameters: {'alpha': 0.006398238570445525, 'max_depth': 4, 'eta': 0.0370159509615561, 'subsample': 0.6950815747717355, 'colsample_bytree': 0.939918536631748}.\n",
      "[I 2025-05-15 00:15:54,506] Trial 831 finished with values: [0.5000061268315397, 0.0] and parameters: {'alpha': 0.006398238570445525, 'max_depth': 7, 'eta': 0.21500273048430651, 'subsample': 0.7126649411379313, 'colsample_bytree': 0.6268842887986352}.\n",
      "[I 2025-05-15 00:15:54,591] Trial 832 finished with values: [0.6614450744869544, 0.019452794305199316] and parameters: {'alpha': 0.08137147916134924, 'max_depth': 6, 'eta': 0.1919795686809288, 'subsample': 0.807108008558591, 'colsample_bytree': 0.6346180096533811}.\n",
      "[I 2025-05-15 00:15:54,681] Trial 833 finished with values: [0.5000061268315397, 0.0] and parameters: {'alpha': 0.0018713778605690123, 'max_depth': 7, 'eta': 0.07253350513913152, 'subsample': 0.6766262078975724, 'colsample_bytree': 0.6624630554926771}.\n",
      "[I 2025-05-15 00:15:54,842] Trial 834 finished with values: [0.692149690748178, 0.06550364026001522] and parameters: {'alpha': 0.7937918112861803, 'max_depth': 5, 'eta': 0.1835864240964316, 'subsample': 0.8376771934629543, 'colsample_bytree': 0.6482350599140047}.\n",
      "[I 2025-05-15 00:15:55,037] Trial 835 finished with values: [0.5000061268315397, 0.0] and parameters: {'alpha': 0.006398238570445525, 'max_depth': 5, 'eta': 0.12185759792714435, 'subsample': 0.6766262078975724, 'colsample_bytree': 0.6268842887986352}.\n",
      "[I 2025-05-15 00:15:55,255] Trial 836 finished with values: [0.5000061268315397, 0.0] and parameters: {'alpha': 0.006398238570445525, 'max_depth': 5, 'eta': 0.25802857836214804, 'subsample': 0.871229825323997, 'colsample_bytree': 0.6346180096533811}.\n",
      "[I 2025-05-15 00:15:55,427] Trial 837 finished with values: [0.5000061268315397, 0.0] and parameters: {'alpha': 0.006398238570445525, 'max_depth': 7, 'eta': 0.2994191911588248, 'subsample': 0.872143282534935, 'colsample_bytree': 0.6268842887986352}.\n",
      "[I 2025-05-15 00:15:55,508] Trial 838 finished with values: [0.6785741637640802, 0.04860674380349187] and parameters: {'alpha': 0.26775166773460746, 'max_depth': 7, 'eta': 0.27360317214882285, 'subsample': 0.7190259527785925, 'colsample_bytree': 0.6846054564616372}.\n",
      "[I 2025-05-15 00:15:55,624] Trial 839 finished with values: [0.689280801879712, 0.052697072386504146] and parameters: {'alpha': 0.4438722029512959, 'max_depth': 6, 'eta': 0.1835864240964316, 'subsample': 0.8493505201360313, 'colsample_bytree': 0.8976489385312861}.\n",
      "[I 2025-05-15 00:15:55,704] Trial 840 finished with values: [0.5000061268315397, 0.0] and parameters: {'alpha': 0.006398238570445525, 'max_depth': 4, 'eta': 0.1835864240964316, 'subsample': 0.7536328296423982, 'colsample_bytree': 0.6245073635344549}.\n",
      "[I 2025-05-15 00:15:55,790] Trial 841 finished with values: [0.5000061268315397, 0.0] and parameters: {'alpha': 0.006398238570445525, 'max_depth': 7, 'eta': 0.08435274918348351, 'subsample': 0.807108008558591, 'colsample_bytree': 0.969871473096175}.\n",
      "[I 2025-05-15 00:15:55,907] Trial 842 finished with values: [0.7028456069086153, 0.048965551537770345] and parameters: {'alpha': 0.8573434266411732, 'max_depth': 7, 'eta': 0.21500273048430651, 'subsample': 0.8376771934629543, 'colsample_bytree': 0.6482350599140047}.\n",
      "[I 2025-05-15 00:15:56,072] Trial 843 finished with values: [0.6999996936584231, 0.07673084178547791] and parameters: {'alpha': 0.8694173170637239, 'max_depth': 7, 'eta': 0.1835864240964316, 'subsample': 0.6500142472469429, 'colsample_bytree': 0.9611620505991075}.\n",
      "[I 2025-05-15 00:15:56,368] Trial 844 finished with values: [0.6928573397910137, 0.035345390775397466] and parameters: {'alpha': 0.6308330624115891, 'max_depth': 6, 'eta': 0.1919795686809288, 'subsample': 0.807108008558591, 'colsample_bytree': 0.6346180096533811}.\n",
      "[I 2025-05-15 00:15:56,498] Trial 845 finished with values: [0.5000061268315397, 0.0] and parameters: {'alpha': 0.006398238570445525, 'max_depth': 7, 'eta': 0.24431474510203355, 'subsample': 0.7734051374925871, 'colsample_bytree': 0.9611620505991075}.\n",
      "[I 2025-05-15 00:15:56,570] Trial 846 finished with values: [0.5000061268315397, 0.0] and parameters: {'alpha': 0.006398238570445525, 'max_depth': 4, 'eta': 0.29157076513015207, 'subsample': 0.7126649411379313, 'colsample_bytree': 0.6846054564616372}.\n",
      "[I 2025-05-15 00:15:56,650] Trial 847 finished with values: [0.5000061268315397, 0.0] and parameters: {'alpha': 0.006398238570445525, 'max_depth': 5, 'eta': 0.16956592422129785, 'subsample': 0.723846016483348, 'colsample_bytree': 0.8874897272582385}.\n",
      "[I 2025-05-15 00:15:56,766] Trial 848 finished with values: [0.5000061268315397, 0.0] and parameters: {'alpha': 0.006398238570445525, 'max_depth': 5, 'eta': 0.09169260291249527, 'subsample': 0.8376771934629543, 'colsample_bytree': 0.6268842887986352}.\n",
      "[I 2025-05-15 00:15:56,936] Trial 849 finished with values: [0.5000061268315397, 0.0] and parameters: {'alpha': 0.006398238570445525, 'max_depth': 7, 'eta': 0.10783604244900007, 'subsample': 0.8088010652239656, 'colsample_bytree': 0.9532604182421414}.\n",
      "[I 2025-05-15 00:15:57,240] Trial 850 finished with values: [0.6957124432885156, 0.051792699945220545] and parameters: {'alpha': 0.8306894755455422, 'max_depth': 5, 'eta': 0.21901686836526663, 'subsample': 0.871229825323997, 'colsample_bytree': 0.9273609939577232}.\n",
      "[I 2025-05-15 00:15:57,464] Trial 851 finished with values: [0.5000061268315397, 0.0] and parameters: {'alpha': 0.006398238570445525, 'max_depth': 7, 'eta': 0.1835864240964316, 'subsample': 0.6631956570556669, 'colsample_bytree': 0.7730914500445354}.\n",
      "[I 2025-05-15 00:15:57,662] Trial 852 finished with values: [0.5000061268315397, 0.0] and parameters: {'alpha': 0.006398238570445525, 'max_depth': 7, 'eta': 0.15780100657948715, 'subsample': 0.6766262078975724, 'colsample_bytree': 0.760353423410981}.\n",
      "[I 2025-05-15 00:15:57,924] Trial 853 finished with values: [0.6728639567690765, 0.029727960940767906] and parameters: {'alpha': 0.17264276018299984, 'max_depth': 5, 'eta': 0.2302646130406037, 'subsample': 0.6766262078975724, 'colsample_bytree': 0.6624630554926771}.\n",
      "[I 2025-05-15 00:15:58,198] Trial 854 finished with values: [0.6600159910303186, 0.006579304649032364] and parameters: {'alpha': 0.12082713516430721, 'max_depth': 7, 'eta': 0.10022879453843885, 'subsample': 0.6631956570556669, 'colsample_bytree': 0.7730914500445354}.\n",
      "[I 2025-05-15 00:15:58,516] Trial 855 finished with values: [0.6814353940931217, 0.06455090229440505] and parameters: {'alpha': 0.8350175189653934, 'max_depth': 6, 'eta': 0.07257095200779526, 'subsample': 0.807108008558591, 'colsample_bytree': 0.6846054564616372}.\n",
      "[I 2025-05-15 00:15:58,816] Trial 856 finished with values: [0.6757343773454277, 0.04183936121109814] and parameters: {'alpha': 0.14972841410935311, 'max_depth': 5, 'eta': 0.21901686836526663, 'subsample': 0.747133551566718, 'colsample_bytree': 0.7591993207311591}.\n",
      "[I 2025-05-15 00:15:59,027] Trial 857 finished with values: [0.5000061268315397, 0.0] and parameters: {'alpha': 0.006398238570445525, 'max_depth': 3, 'eta': 0.1835864240964316, 'subsample': 0.9230277985869353, 'colsample_bytree': 0.8778999079756078}.\n",
      "[I 2025-05-15 00:15:59,229] Trial 858 finished with values: [0.5000061268315397, 0.0] and parameters: {'alpha': 0.006398238570445525, 'max_depth': 7, 'eta': 0.10022879453843885, 'subsample': 0.6631956570556669, 'colsample_bytree': 0.938607954432039}.\n",
      "[I 2025-05-15 00:15:59,549] Trial 859 finished with values: [0.6578761951150772, 0.015714328139921418] and parameters: {'alpha': 0.12082713516430721, 'max_depth': 7, 'eta': 0.10022879453843885, 'subsample': 0.6631956570556669, 'colsample_bytree': 0.938607954432039}.\n",
      "[I 2025-05-15 00:15:59,738] Trial 860 finished with values: [0.5000061268315397, 0.0] and parameters: {'alpha': 0.006398238570445525, 'max_depth': 5, 'eta': 0.10022879453843885, 'subsample': 0.6766262078975724, 'colsample_bytree': 0.6482350599140047}.\n",
      "[I 2025-05-15 00:16:00,003] Trial 861 finished with values: [0.6735777326434521, 0.054199169763340355] and parameters: {'alpha': 0.12082713516430721, 'max_depth': 7, 'eta': 0.24026710755528385, 'subsample': 0.8376771934629543, 'colsample_bytree': 0.7994501576075095}.\n",
      "[I 2025-05-15 00:16:00,576] Trial 862 finished with values: [0.6835859119635576, 0.06523845750214839] and parameters: {'alpha': 0.22601217229786574, 'max_depth': 7, 'eta': 0.23813647636124352, 'subsample': 0.6766262078975724, 'colsample_bytree': 0.9791309281736011}.\n",
      "[I 2025-05-15 00:16:00,975] Trial 863 finished with values: [0.6800078423443708, 0.04366067000621127] and parameters: {'alpha': 0.6370308795473967, 'max_depth': 6, 'eta': 0.13354264251721715, 'subsample': 0.8493505201360313, 'colsample_bytree': 0.6482350599140047}.\n",
      "[I 2025-05-15 00:16:01,220] Trial 864 finished with values: [0.5000061268315397, 0.0] and parameters: {'alpha': 0.006398238570445525, 'max_depth': 5, 'eta': 0.10385901212000682, 'subsample': 0.872143282534935, 'colsample_bytree': 0.9532604182421414}.\n",
      "[I 2025-05-15 00:16:01,494] Trial 865 finished with values: [0.6778665147212445, 0.03134960900765251] and parameters: {'alpha': 0.30303137735155294, 'max_depth': 5, 'eta': 0.21500273048430651, 'subsample': 0.8493505201360313, 'colsample_bytree': 0.6268842887986352}.\n",
      "[I 2025-05-15 00:16:01,697] Trial 866 finished with values: [0.5000061268315397, 0.0] and parameters: {'alpha': 0.006398238570445525, 'max_depth': 7, 'eta': 0.1835864240964316, 'subsample': 0.872143282534935, 'colsample_bytree': 0.9532604182421414}.\n",
      "[I 2025-05-15 00:16:02,276] Trial 867 finished with values: [0.6835751900083631, 0.04702598113477169] and parameters: {'alpha': 0.47861225191703194, 'max_depth': 7, 'eta': 0.1835864240964316, 'subsample': 0.8233956950628694, 'colsample_bytree': 0.6198060693014039}.\n",
      "[I 2025-05-15 00:16:02,854] Trial 868 finished with values: [0.7078542916923228, 0.07912398404688906] and parameters: {'alpha': 0.8694173170637239, 'max_depth': 7, 'eta': 0.24026710755528385, 'subsample': 0.9386481341365667, 'colsample_bytree': 0.9901074621532081}.\n",
      "[I 2025-05-15 00:16:03,578] Trial 869 finished with values: [0.6778588561818198, 0.03676442863597246] and parameters: {'alpha': 0.1939828380719485, 'max_depth': 5, 'eta': 0.1835864240964316, 'subsample': 0.871229825323997, 'colsample_bytree': 0.8284363697906366}.\n",
      "[I 2025-05-15 00:16:04,012] Trial 870 finished with values: [0.6657231346095523, 0.020427780005992362] and parameters: {'alpha': 0.5351773563028828, 'max_depth': 3, 'eta': 0.1835864240964316, 'subsample': 0.8493505201360313, 'colsample_bytree': 0.6198060693014039}.\n",
      "[I 2025-05-15 00:16:04,398] Trial 871 finished with values: [0.6871486645038951, 0.06724891733278293] and parameters: {'alpha': 0.6370308795473967, 'max_depth': 7, 'eta': 0.24431474510203355, 'subsample': 0.6766262078975724, 'colsample_bytree': 0.6346180096533811}.\n",
      "[I 2025-05-15 00:16:04,735] Trial 872 finished with values: [0.7000027570741928, 0.07241405554973633] and parameters: {'alpha': 0.8694173170637239, 'max_depth': 7, 'eta': 0.1835864240964316, 'subsample': 0.872143282534935, 'colsample_bytree': 0.8054581719540674}.\n",
      "[I 2025-05-15 00:16:05,517] Trial 873 finished with values: [0.6985798004490968, 0.049649134284963904] and parameters: {'alpha': 0.8694173170637239, 'max_depth': 7, 'eta': 0.15511827510132917, 'subsample': 0.8493505201360313, 'colsample_bytree': 0.6268842887986352}.\n",
      "[I 2025-05-15 00:16:06,537] Trial 874 finished with values: [0.704277753781021, 0.05655886662542875] and parameters: {'alpha': 0.8694173170637239, 'max_depth': 7, 'eta': 0.17952140058796634, 'subsample': 0.8493505201360313, 'colsample_bytree': 0.9611620505991075}.\n",
      "[I 2025-05-15 00:16:07,488] Trial 875 finished with values: [0.663581806986426, 0.01933203066887355] and parameters: {'alpha': 0.22601217229786574, 'max_depth': 5, 'eta': 0.10022879453843885, 'subsample': 0.9594204685838629, 'colsample_bytree': 0.7286493710265545}.\n",
      "[I 2025-05-15 00:16:08,132] Trial 876 finished with values: [0.6900068314171669, 0.04576050255796587] and parameters: {'alpha': 0.8694173170637239, 'max_depth': 6, 'eta': 0.1835864240964316, 'subsample': 0.9281312065369837, 'colsample_bytree': 0.6479107585243286}.\n",
      "[I 2025-05-15 00:16:08,536] Trial 877 finished with values: [0.6764374312646085, 0.031957127775555504] and parameters: {'alpha': 0.22601217229786574, 'max_depth': 5, 'eta': 0.15780100657948715, 'subsample': 0.6766262078975724, 'colsample_bytree': 0.938607954432039}.\n",
      "[I 2025-05-15 00:16:08,876] Trial 878 finished with values: [0.6650200806903714, 0.031874904253089996] and parameters: {'alpha': 0.10936509646932302, 'max_depth': 4, 'eta': 0.24431474510203355, 'subsample': 0.6766262078975724, 'colsample_bytree': 0.6268842887986352}.\n",
      "[I 2025-05-15 00:16:09,643] Trial 879 finished with values: [0.6621542552376751, 0.02661957192831052] and parameters: {'alpha': 0.12082713516430721, 'max_depth': 7, 'eta': 0.15511827510132917, 'subsample': 0.9928598908100192, 'colsample_bytree': 0.7072103020537117}.\n",
      "[I 2025-05-15 00:16:10,513] Trial 880 finished with values: [0.6785833540113897, 0.03301462409806696] and parameters: {'alpha': 0.22601217229786574, 'max_depth': 5, 'eta': 0.24431474510203355, 'subsample': 0.6766262078975724, 'colsample_bytree': 0.938607954432039}.\n",
      "[I 2025-05-15 00:16:10,878] Trial 881 finished with values: [0.6993012348628969, 0.06748673653940522] and parameters: {'alpha': 0.6308330624115891, 'max_depth': 7, 'eta': 0.20169799188812612, 'subsample': 0.8493505201360313, 'colsample_bytree': 0.6479107585243286}.\n",
      "[I 2025-05-15 00:16:11,252] Trial 882 finished with values: [0.6864318252137499, 0.05412928356925359] and parameters: {'alpha': 0.6370308795473967, 'max_depth': 7, 'eta': 0.10022879453843885, 'subsample': 0.8493505201360313, 'colsample_bytree': 0.6198060693014039}.\n",
      "[I 2025-05-15 00:16:11,512] Trial 883 finished with values: [0.5000061268315397, 0.0] and parameters: {'alpha': 0.006398238570445525, 'max_depth': 4, 'eta': 0.21901686836526663, 'subsample': 0.969674518276973, 'colsample_bytree': 0.8640187424332118}.\n",
      "[I 2025-05-15 00:16:11,757] Trial 884 finished with values: [0.5000061268315397, 0.0] and parameters: {'alpha': 0.006398238570445525, 'max_depth': 7, 'eta': 0.07253350513913152, 'subsample': 0.9984601149714915, 'colsample_bytree': 0.6624630554926771}.\n",
      "[I 2025-05-15 00:16:11,959] Trial 885 finished with values: [0.5000061268315397, 0.0] and parameters: {'alpha': 0.006398238570445525, 'max_depth': 5, 'eta': 0.1835864240964316, 'subsample': 0.9312585794082797, 'colsample_bytree': 0.938607954432039}.\n",
      "[I 2025-05-15 00:16:12,215] Trial 886 finished with values: [0.5000061268315397, 0.0] and parameters: {'alpha': 0.006398238570445525, 'max_depth': 5, 'eta': 0.10749039742554378, 'subsample': 0.807108008558591, 'colsample_bytree': 0.9257192063156945}.\n",
      "[I 2025-05-15 00:16:12,512] Trial 887 finished with values: [0.5000061268315397, 0.0] and parameters: {'alpha': 0.006398238570445525, 'max_depth': 5, 'eta': 0.27499741563348057, 'subsample': 0.8493505201360313, 'colsample_bytree': 0.9273609939577232}.\n",
      "[I 2025-05-15 00:16:12,964] Trial 888 finished with values: [0.667878247603643, 0.019699972108253666] and parameters: {'alpha': 0.22601217229786574, 'max_depth': 5, 'eta': 0.07756937691858526, 'subsample': 0.6766262078975724, 'colsample_bytree': 0.9532604182421414}.\n",
      "[I 2025-05-15 00:16:13,464] Trial 889 finished with values: [0.6678690573563335, 0.021210948580502115] and parameters: {'alpha': 0.09166010379385592, 'max_depth': 5, 'eta': 0.1835864240964316, 'subsample': 0.6766262078975724, 'colsample_bytree': 0.938607954432039}.\n",
      "[I 2025-05-15 00:16:13,800] Trial 890 finished with values: [0.702147148113089, 0.08584502655716524] and parameters: {'alpha': 0.6085994191289598, 'max_depth': 6, 'eta': 0.2663560821715975, 'subsample': 0.807108008558591, 'colsample_bytree': 0.938607954432039}.\n",
      "[I 2025-05-15 00:16:14,283] Trial 891 finished with values: [0.680004778928601, 0.054448662501520854] and parameters: {'alpha': 0.22922811182883618, 'max_depth': 7, 'eta': 0.1835864240964316, 'subsample': 0.9450538006968029, 'colsample_bytree': 0.6624630554926771}.\n",
      "[I 2025-05-15 00:16:14,620] Trial 892 finished with values: [0.5000061268315397, 0.0] and parameters: {'alpha': 0.006398238570445525, 'max_depth': 6, 'eta': 0.15511827510132917, 'subsample': 0.7126649411379313, 'colsample_bytree': 0.6846054564616372}.\n",
      "[I 2025-05-15 00:16:14,983] Trial 893 finished with values: [0.6635894655258506, 0.011130103662917177] and parameters: {'alpha': 0.12082713516430721, 'max_depth': 4, 'eta': 0.1919795686809288, 'subsample': 0.6766262078975724, 'colsample_bytree': 0.6346180096533811}.\n",
      "[I 2025-05-15 00:16:15,374] Trial 894 finished with values: [0.6985721419096721, 0.09722931781938444] and parameters: {'alpha': 0.8694173170637239, 'max_depth': 5, 'eta': 0.21901686836526663, 'subsample': 0.871229825323997, 'colsample_bytree': 0.6846054564616372}.\n",
      "[I 2025-05-15 00:16:15,637] Trial 895 finished with values: [0.5000061268315397, 0.0] and parameters: {'alpha': 0.006398238570445525, 'max_depth': 3, 'eta': 0.1835864240964316, 'subsample': 0.6631956570556669, 'colsample_bytree': 0.8706944236219883}.\n",
      "[I 2025-05-15 00:16:16,005] Trial 896 finished with values: [0.6857318347103387, 0.059026960753556144] and parameters: {'alpha': 0.7274256868324034, 'max_depth': 6, 'eta': 0.27781980816374385, 'subsample': 0.6766262078975724, 'colsample_bytree': 0.6346180096533811}.\n",
      "[I 2025-05-15 00:16:16,411] Trial 897 finished with values: [0.5000061268315397, 0.0] and parameters: {'alpha': 0.006398238570445525, 'max_depth': 5, 'eta': 0.23813647636124352, 'subsample': 0.8376771934629543, 'colsample_bytree': 0.6482350599140047}.\n",
      "[I 2025-05-15 00:16:17,439] Trial 898 finished with values: [0.6842920292985085, 0.05190028519186088] and parameters: {'alpha': 0.22922811182883618, 'max_depth': 7, 'eta': 0.24431474510203355, 'subsample': 0.6766262078975724, 'colsample_bytree': 0.7642776900822141}.\n",
      "[I 2025-05-15 00:16:17,912] Trial 899 finished with values: [0.6871578547512046, 0.0507273068318904] and parameters: {'alpha': 0.6379488025499368, 'max_depth': 5, 'eta': 0.1835864240964316, 'subsample': 0.6766262078975724, 'colsample_bytree': 0.6268842887986352}.\n",
      "[I 2025-05-15 00:16:18,141] Trial 900 finished with values: [0.5000061268315397, 0.0] and parameters: {'alpha': 0.006398238570445525, 'max_depth': 7, 'eta': 0.10022879453843885, 'subsample': 0.6631956570556669, 'colsample_bytree': 0.6846054564616372}.\n",
      "[I 2025-05-15 00:16:18,464] Trial 901 finished with values: [0.5000061268315397, 0.0] and parameters: {'alpha': 0.006398238570445525, 'max_depth': 7, 'eta': 0.1835864240964316, 'subsample': 0.8621180142479564, 'colsample_bytree': 0.8778999079756078}.\n",
      "[I 2025-05-15 00:16:18,675] Trial 902 finished with values: [0.5000061268315397, 0.0] and parameters: {'alpha': 0.0018713778605690123, 'max_depth': 7, 'eta': 0.1629457824643117, 'subsample': 0.9984601149714915, 'colsample_bytree': 0.6268842887986352}.\n",
      "[I 2025-05-15 00:16:18,962] Trial 903 finished with values: [0.7014364356544833, 0.06991331269081134] and parameters: {'alpha': 0.6308330624115891, 'max_depth': 7, 'eta': 0.1835864240964316, 'subsample': 0.606842328491666, 'colsample_bytree': 0.6479107585243286}.\n",
      "[I 2025-05-15 00:16:19,253] Trial 904 finished with values: [0.7085757261061228, 0.06404774088057068] and parameters: {'alpha': 0.8694173170637239, 'max_depth': 7, 'eta': 0.24026710755528385, 'subsample': 0.8493505201360313, 'colsample_bytree': 0.6268842887986352}.\n",
      "[I 2025-05-15 00:16:19,599] Trial 905 finished with values: [0.6900129582487065, 0.037853616790616294] and parameters: {'alpha': 0.22601217229786574, 'max_depth': 7, 'eta': 0.24431474510203355, 'subsample': 0.6766262078975724, 'colsample_bytree': 0.6268842887986352}.\n",
      "[I 2025-05-15 00:16:19,795] Trial 906 finished with values: [0.5000061268315397, 0.0] and parameters: {'alpha': 0.006398238570445525, 'max_depth': 7, 'eta': 0.05148993795553561, 'subsample': 0.8493505201360313, 'colsample_bytree': 0.6198060693014039}.\n",
      "[I 2025-05-15 00:16:20,035] Trial 907 finished with values: [0.5000061268315397, 0.0] and parameters: {'alpha': 0.006398238570445525, 'max_depth': 3, 'eta': 0.1835864240964316, 'subsample': 0.6631956570556669, 'colsample_bytree': 0.7730914500445354}.\n",
      "[I 2025-05-15 00:16:20,308] Trial 908 finished with values: [0.6585792490342582, 0.02472557622479818] and parameters: {'alpha': 0.06959317787264752, 'max_depth': 5, 'eta': 0.10022879453843885, 'subsample': 0.9699157818930528, 'colsample_bytree': 0.6479107585243286}.\n",
      "[I 2025-05-15 00:16:20,531] Trial 909 finished with values: [0.5000061268315397, 0.0] and parameters: {'alpha': 0.006398238570445525, 'max_depth': 4, 'eta': 0.23813647636124352, 'subsample': 0.6500142472469429, 'colsample_bytree': 0.6268842887986352}.\n",
      "[I 2025-05-15 00:16:20,880] Trial 910 finished with values: [0.7107093951898246, 0.07760509123452293] and parameters: {'alpha': 0.9658746701953753, 'max_depth': 7, 'eta': 0.20788413575018258, 'subsample': 0.8376771934629543, 'colsample_bytree': 0.6846054564616372}.\n",
      "[I 2025-05-15 00:16:21,611] Trial 911 finished with values: [0.6878425281757665, 0.0688422161321444] and parameters: {'alpha': 0.8694173170637239, 'max_depth': 7, 'eta': 0.04487083403663729, 'subsample': 0.8493505201360313, 'colsample_bytree': 0.9273609939577232}.\n",
      "[I 2025-05-15 00:16:21,825] Trial 912 finished with values: [0.5000061268315397, 0.0] and parameters: {'alpha': 0.012915419123790906, 'max_depth': 6, 'eta': 0.21901686836526663, 'subsample': 0.8706349077688937, 'colsample_bytree': 0.9247803563719028}.\n",
      "[I 2025-05-15 00:16:22,276] Trial 913 finished with values: [0.5000061268315397, 0.0] and parameters: {'alpha': 0.006398238570445525, 'max_depth': 3, 'eta': 0.15780100657948715, 'subsample': 0.6766262078975724, 'colsample_bytree': 0.8778999079756078}.\n",
      "[I 2025-05-15 00:16:22,561] Trial 914 finished with values: [0.5000061268315397, 0.0] and parameters: {'alpha': 0.006398238570445525, 'max_depth': 4, 'eta': 0.2743823608550061, 'subsample': 0.6950815747717355, 'colsample_bytree': 0.938607954432039}.\n",
      "[I 2025-05-15 00:16:22,880] Trial 915 finished with values: [0.6871517279196651, 0.03730617440944567] and parameters: {'alpha': 0.436317977356269, 'max_depth': 7, 'eta': 0.1919795686809288, 'subsample': 0.7102973649329655, 'colsample_bytree': 0.6346180096533811}.\n",
      "[I 2025-05-15 00:16:23,181] Trial 916 finished with values: [0.5000061268315397, 0.0] and parameters: {'alpha': 0.006398238570445525, 'max_depth': 4, 'eta': 0.18310428309515714, 'subsample': 0.9984601149714915, 'colsample_bytree': 0.6624630554926771}.\n",
      "[I 2025-05-15 00:16:23,649] Trial 917 finished with values: [0.5000061268315397, 0.0] and parameters: {'alpha': 0.006398238570445525, 'max_depth': 6, 'eta': 0.1835864240964316, 'subsample': 0.9778576863261421, 'colsample_bytree': 0.6268842887986352}.\n",
      "[I 2025-05-15 00:16:24,093] Trial 918 finished with values: [0.7021502115288589, 0.061852328801245006] and parameters: {'alpha': 0.47532593097255604, 'max_depth': 7, 'eta': 0.24431474510203355, 'subsample': 0.8493505201360313, 'colsample_bytree': 0.6846054564616372}.\n",
      "[I 2025-05-15 00:16:24,525] Trial 919 finished with values: [0.6985644833702475, 0.05275705726715452] and parameters: {'alpha': 0.8797632030819951, 'max_depth': 7, 'eta': 0.10022879453843885, 'subsample': 0.872143282534935, 'colsample_bytree': 0.9522333246814126}.\n",
      "[I 2025-05-15 00:16:24,752] Trial 920 finished with values: [0.5000061268315397, 0.0] and parameters: {'alpha': 0.006398238570445525, 'max_depth': 4, 'eta': 0.1835864240964316, 'subsample': 0.872143282534935, 'colsample_bytree': 0.9248887994210199}.\n",
      "[I 2025-05-15 00:16:24,952] Trial 921 finished with values: [0.5000061268315397, 0.0] and parameters: {'alpha': 0.012915419123790906, 'max_depth': 5, 'eta': 0.23813647636124352, 'subsample': 0.6766262078975724, 'colsample_bytree': 0.6268842887986352}.\n",
      "[I 2025-05-15 00:16:25,170] Trial 922 finished with values: [0.5000061268315397, 0.0] and parameters: {'alpha': 0.006398238570445525, 'max_depth': 6, 'eta': 0.21500273048430651, 'subsample': 0.872143282534935, 'colsample_bytree': 0.6346180096533811}.\n",
      "[I 2025-05-15 00:16:25,468] Trial 923 finished with values: [0.6635802752785411, 0.02580747956151185] and parameters: {'alpha': 0.12082713516430721, 'max_depth': 5, 'eta': 0.1835864240964316, 'subsample': 0.8493505201360313, 'colsample_bytree': 0.894442319055439}.\n",
      "[I 2025-05-15 00:16:25,720] Trial 924 finished with values: [0.5000061268315397, 0.0] and parameters: {'alpha': 0.006398238570445525, 'max_depth': 4, 'eta': 0.1835864240964316, 'subsample': 0.6546577853604182, 'colsample_bytree': 0.6245073635344549}.\n",
      "[I 2025-05-15 00:16:25,958] Trial 925 finished with values: [0.6750114112237426, 0.0502549713011051] and parameters: {'alpha': 0.6370308795473967, 'max_depth': 4, 'eta': 0.24431474510203355, 'subsample': 0.7190259527785925, 'colsample_bytree': 0.6198060693014039}.\n",
      "[I 2025-05-15 00:16:26,225] Trial 926 finished with values: [0.6885900016236103, 0.025369084250282836] and parameters: {'alpha': 0.22601217229786574, 'max_depth': 5, 'eta': 0.23813647636124352, 'subsample': 0.6766262078975724, 'colsample_bytree': 0.6268842887986352}.\n",
      "[I 2025-05-15 00:16:26,418] Trial 927 finished with values: [0.5000061268315397, 0.0] and parameters: {'alpha': 0.006398238570445525, 'max_depth': 7, 'eta': 0.16982137509113532, 'subsample': 0.872143282534935, 'colsample_bytree': 0.6318616446521117}.\n",
      "[I 2025-05-15 00:16:26,639] Trial 928 finished with values: [0.5000061268315397, 0.0] and parameters: {'alpha': 0.006398238570445525, 'max_depth': 6, 'eta': 0.1835864240964316, 'subsample': 0.7190259527785925, 'colsample_bytree': 0.6346180096533811}.\n",
      "[I 2025-05-15 00:16:26,972] Trial 929 finished with values: [0.6614297574081052, 0.018324093855975887] and parameters: {'alpha': 0.259101419233533, 'max_depth': 6, 'eta': 0.15511827510132917, 'subsample': 0.7126649411379313, 'colsample_bytree': 0.6846054564616372}.\n",
      "[I 2025-05-15 00:16:27,212] Trial 930 finished with values: [0.5000061268315397, 0.0] and parameters: {'alpha': 0.006398238570445525, 'max_depth': 3, 'eta': 0.018480880007563028, 'subsample': 0.8376771934629543, 'colsample_bytree': 0.938607954432039}.\n",
      "[I 2025-05-15 00:16:27,426] Trial 931 finished with values: [0.5000061268315397, 0.0] and parameters: {'alpha': 0.006398238570445525, 'max_depth': 7, 'eta': 0.1835864240964316, 'subsample': 0.945497101573975, 'colsample_bytree': 0.9532604182421414}.\n",
      "[I 2025-05-15 00:16:27,738] Trial 932 finished with values: [0.7100094046864135, 0.061518217556398] and parameters: {'alpha': 0.8694173170637239, 'max_depth': 7, 'eta': 0.1835864240964316, 'subsample': 0.8493505201360313, 'colsample_bytree': 0.6479107585243286}.\n",
      "[I 2025-05-15 00:16:27,921] Trial 933 finished with values: [0.5000061268315397, 0.0] and parameters: {'alpha': 0.006398238570445525, 'max_depth': 3, 'eta': 0.10749039742554378, 'subsample': 0.872143282534935, 'colsample_bytree': 0.9532604182421414}.\n",
      "[I 2025-05-15 00:16:28,111] Trial 934 finished with values: [0.5000061268315397, 0.0] and parameters: {'alpha': 0.006398238570445525, 'max_depth': 3, 'eta': 0.1835864240964316, 'subsample': 0.872143282534935, 'colsample_bytree': 0.9532604182421414}.\n",
      "[I 2025-05-15 00:16:28,412] Trial 935 finished with values: [0.5000061268315397, 0.0] and parameters: {'alpha': 0.006398238570445525, 'max_depth': 7, 'eta': 0.1835864240964316, 'subsample': 0.7190259527785925, 'colsample_bytree': 0.6846054564616372}.\n",
      "[I 2025-05-15 00:16:28,883] Trial 936 finished with values: [0.7050053150263608, 0.0668145292220445] and parameters: {'alpha': 0.6370308795473967, 'max_depth': 6, 'eta': 0.24431474510203355, 'subsample': 0.8493505201360313, 'colsample_bytree': 0.6002910418438487}.\n",
      "[I 2025-05-15 00:16:29,144] Trial 937 finished with values: [0.5000061268315397, 0.0] and parameters: {'alpha': 0.006398238570445525, 'max_depth': 7, 'eta': 0.2878723499881195, 'subsample': 0.8376771934629543, 'colsample_bytree': 0.7171393924105901}.\n",
      "[I 2025-05-15 00:16:29,534] Trial 938 finished with values: [0.6821522333832669, 0.060160395839098456] and parameters: {'alpha': 0.29551899535962445, 'max_depth': 7, 'eta': 0.24431474510203355, 'subsample': 0.872143282534935, 'colsample_bytree': 0.6198060693014039}.\n",
      "[I 2025-05-15 00:16:29,941] Trial 939 finished with values: [0.6628726262357053, 0.022410084309800748] and parameters: {'alpha': 0.15736556499272258, 'max_depth': 7, 'eta': 0.07253350513913152, 'subsample': 0.942945657608517, 'colsample_bytree': 0.6268842887986352}.\n",
      "[I 2025-05-15 00:16:30,165] Trial 940 finished with values: [0.5000061268315397, 0.0] and parameters: {'alpha': 0.006398238570445525, 'max_depth': 7, 'eta': 0.21500273048430651, 'subsample': 0.7297576144104663, 'colsample_bytree': 0.9532604182421414}.\n",
      "[I 2025-05-15 00:16:30,397] Trial 941 finished with values: [0.5000061268315397, 0.0] and parameters: {'alpha': 0.006398238570445525, 'max_depth': 4, 'eta': 0.21500273048430651, 'subsample': 0.872143282534935, 'colsample_bytree': 0.9532604182421414}.\n",
      "[I 2025-05-15 00:16:30,704] Trial 942 finished with values: [0.5000061268315397, 0.0] and parameters: {'alpha': 0.006398238570445525, 'max_depth': 5, 'eta': 0.1835864240964316, 'subsample': 0.6766262078975724, 'colsample_bytree': 0.938607954432039}.\n",
      "[I 2025-05-15 00:16:30,938] Trial 943 finished with values: [0.5000061268315397, 0.0] and parameters: {'alpha': 0.006398238570445525, 'max_depth': 7, 'eta': 0.22739873665679933, 'subsample': 0.8493505201360313, 'colsample_bytree': 0.6198060693014039}.\n",
      "[I 2025-05-15 00:16:31,260] Trial 944 finished with values: [0.6942833598318797, 0.06862663016122923] and parameters: {'alpha': 0.6308330624115891, 'max_depth': 6, 'eta': 0.2917622699900583, 'subsample': 0.6766262078975724, 'colsample_bytree': 0.6268842887986352}.\n",
      "[I 2025-05-15 00:16:31,538] Trial 945 finished with values: [0.6885746845447612, 0.05270497016368381] and parameters: {'alpha': 0.5196463923314928, 'max_depth': 6, 'eta': 0.29682219530807935, 'subsample': 0.7608856004542679, 'colsample_bytree': 0.6846054564616372}.\n",
      "[I 2025-05-15 00:16:31,756] Trial 946 finished with values: [0.5000061268315397, 0.0] and parameters: {'alpha': 0.012915419123790906, 'max_depth': 7, 'eta': 0.1835864240964316, 'subsample': 0.9882868261990171, 'colsample_bytree': 0.9273609939577232}.\n",
      "[I 2025-05-15 00:16:32,035] Trial 947 finished with values: [0.5000061268315397, 0.0] and parameters: {'alpha': 0.006398238570445525, 'max_depth': 4, 'eta': 0.24026710755528385, 'subsample': 0.9984601149714915, 'colsample_bytree': 0.6624630554926771}.\n",
      "[I 2025-05-15 00:16:32,335] Trial 948 finished with values: [0.6700057898558051, 0.04008744555000793] and parameters: {'alpha': 0.38577513407864183, 'max_depth': 7, 'eta': 0.15780100657948715, 'subsample': 0.6766262078975724, 'colsample_bytree': 0.6624630554926771}.\n",
      "[I 2025-05-15 00:16:32,540] Trial 949 finished with values: [0.5000061268315397, 0.0] and parameters: {'alpha': 0.006398238570445525, 'max_depth': 7, 'eta': 0.2786901175406453, 'subsample': 0.8493505201360313, 'colsample_bytree': 0.9532604182421414}.\n",
      "[I 2025-05-15 00:16:32,782] Trial 950 finished with values: [0.5000061268315397, 0.0] and parameters: {'alpha': 0.006398238570445525, 'max_depth': 6, 'eta': 0.1835864240964316, 'subsample': 0.8376771934629543, 'colsample_bytree': 0.6846054564616372}.\n",
      "[I 2025-05-15 00:16:32,970] Trial 951 finished with values: [0.5000061268315397, 0.0] and parameters: {'alpha': 0.006398238570445525, 'max_depth': 4, 'eta': 0.05148993795553561, 'subsample': 0.6766262078975724, 'colsample_bytree': 0.9504235704119666}.\n",
      "[I 2025-05-15 00:16:33,270] Trial 952 finished with values: [0.6714486586834053, 0.018838093882076024] and parameters: {'alpha': 0.12082713516430721, 'max_depth': 6, 'eta': 0.2897079795640702, 'subsample': 0.7104474304576422, 'colsample_bytree': 0.6430715870101118}.\n",
      "[I 2025-05-15 00:16:33,607] Trial 953 finished with values: [0.6778573244739349, 0.05780122387486025] and parameters: {'alpha': 0.5763643660887681, 'max_depth': 6, 'eta': 0.10022879453843885, 'subsample': 0.9869129027022183, 'colsample_bytree': 0.6346180096533811}.\n",
      "[I 2025-05-15 00:16:33,847] Trial 954 finished with values: [0.6557272089525262, 0.022457794940418108] and parameters: {'alpha': 0.1405551840727035, 'max_depth': 3, 'eta': 0.10022879453843885, 'subsample': 0.7697727583807217, 'colsample_bytree': 0.6346180096533811}.\n",
      "[I 2025-05-15 00:16:34,077] Trial 955 finished with values: [0.5000061268315397, 0.0] and parameters: {'alpha': 0.012915419123790906, 'max_depth': 7, 'eta': 0.21901686836526663, 'subsample': 0.8493505201360313, 'colsample_bytree': 0.9273609939577232}.\n",
      "[I 2025-05-15 00:16:34,274] Trial 956 finished with values: [0.5000061268315397, 0.0] and parameters: {'alpha': 0.006398238570445525, 'max_depth': 6, 'eta': 0.07257095200779526, 'subsample': 0.807108008558591, 'colsample_bytree': 0.6346180096533811}.\n",
      "[I 2025-05-15 00:16:34,509] Trial 957 finished with values: [0.5000061268315397, 0.0] and parameters: {'alpha': 0.006398238570445525, 'max_depth': 5, 'eta': 0.1835864240964316, 'subsample': 0.8376771934629543, 'colsample_bytree': 0.9532604182421414}.\n",
      "[I 2025-05-15 00:16:34,727] Trial 958 finished with values: [0.5000061268315397, 0.0] and parameters: {'alpha': 0.008318822215806598, 'max_depth': 7, 'eta': 0.08559381791555226, 'subsample': 0.9984601149714915, 'colsample_bytree': 0.7642776900822141}.\n",
      "[I 2025-05-15 00:16:35,036] Trial 959 finished with values: [0.6935665205417344, 0.049628376813155496] and parameters: {'alpha': 0.8252110747241973, 'max_depth': 5, 'eta': 0.21901686836526663, 'subsample': 0.871229825323997, 'colsample_bytree': 0.9273609939577232}.\n",
      "[I 2025-05-15 00:16:35,214] Trial 960 finished with values: [0.5000061268315397, 0.0] and parameters: {'alpha': 0.006398238570445525, 'max_depth': 5, 'eta': 0.1835864240964316, 'subsample': 0.6766262078975724, 'colsample_bytree': 0.6624630554926771}.\n",
      "[I 2025-05-15 00:16:35,395] Trial 961 finished with values: [0.6664292519445031, 0.03469114246486965] and parameters: {'alpha': 0.6638494129813683, 'max_depth': 3, 'eta': 0.1835864240964316, 'subsample': 0.8621180142479564, 'colsample_bytree': 0.8778999079756078}.\n",
      "[I 2025-05-15 00:16:35,708] Trial 962 finished with values: [0.6971399950372664, 0.05554313680974173] and parameters: {'alpha': 0.6370308795473967, 'max_depth': 6, 'eta': 0.24431474510203355, 'subsample': 0.8493505201360313, 'colsample_bytree': 0.6268842887986352}.\n",
      "[I 2025-05-15 00:16:36,010] Trial 963 finished with values: [0.6721486491868163, 0.025015103084104134] and parameters: {'alpha': 0.35356475429340695, 'max_depth': 5, 'eta': 0.24431474510203355, 'subsample': 0.6766262078975724, 'colsample_bytree': 0.6268842887986352}.\n",
      "[I 2025-05-15 00:16:36,242] Trial 964 finished with values: [0.6514384268747339, 0.02001705975353163] and parameters: {'alpha': 0.1282544549854897, 'max_depth': 5, 'eta': 0.06339699639282201, 'subsample': 0.7937866760235848, 'colsample_bytree': 0.6268842887986352}.\n",
      "[I 2025-05-15 00:16:36,417] Trial 965 finished with values: [0.5000061268315397, 0.0] and parameters: {'alpha': 0.006398238570445525, 'max_depth': 4, 'eta': 0.1835864240964316, 'subsample': 0.8472770656657291, 'colsample_bytree': 0.6846054564616372}.\n",
      "[I 2025-05-15 00:16:36,612] Trial 966 finished with values: [0.5000061268315397, 0.0] and parameters: {'alpha': 0.0018713778605690123, 'max_depth': 7, 'eta': 0.1919795686809288, 'subsample': 0.8213508007987707, 'colsample_bytree': 0.6346180096533811}.\n",
      "[I 2025-05-15 00:16:36,808] Trial 967 finished with values: [0.5000061268315397, 0.0] and parameters: {'alpha': 0.008318822215806598, 'max_depth': 7, 'eta': 0.1835864240964316, 'subsample': 0.6766262078975724, 'colsample_bytree': 0.7642776900822141}.\n",
      "[I 2025-05-15 00:16:37,238] Trial 968 finished with values: [0.6757129334350388, 0.039852143243490956] and parameters: {'alpha': 0.399180140388777, 'max_depth': 6, 'eta': 0.23138073063432027, 'subsample': 0.6766262078975724, 'colsample_bytree': 0.6268842887986352}.\n",
      "[I 2025-05-15 00:16:37,764] Trial 969 finished with values: [0.6593037468638281, 0.032208145117810005] and parameters: {'alpha': 0.12082713516430721, 'max_depth': 7, 'eta': 0.10022879453843885, 'subsample': 0.807108008558591, 'colsample_bytree': 0.7730914500445354}.\n",
      "[I 2025-05-15 00:16:38,079] Trial 970 finished with values: [0.5000061268315397, 0.0] and parameters: {'alpha': 0.006398238570445525, 'max_depth': 5, 'eta': 0.1456532476708431, 'subsample': 0.6766262078975724, 'colsample_bytree': 0.938607954432039}.\n",
      "[I 2025-05-15 00:16:38,333] Trial 971 finished with values: [0.6871624498748594, 0.01770223643561486] and parameters: {'alpha': 0.22601217229786574, 'max_depth': 5, 'eta': 0.24431474510203355, 'subsample': 0.6766262078975724, 'colsample_bytree': 0.6198060693014039}.\n",
      "[I 2025-05-15 00:16:38,574] Trial 972 finished with values: [0.7035716364460701, 0.09098247040030476] and parameters: {'alpha': 0.8694173170637239, 'max_depth': 6, 'eta': 0.1835864240964316, 'subsample': 0.7126649411379313, 'colsample_bytree': 0.9963102882747746}.\n",
      "[I 2025-05-15 00:16:38,812] Trial 973 finished with values: [0.680003247220716, 0.042627352739429164] and parameters: {'alpha': 0.8694173170637239, 'max_depth': 4, 'eta': 0.1835864240964316, 'subsample': 0.872143282534935, 'colsample_bytree': 0.6479107585243286}.\n",
      "[I 2025-05-15 00:16:39,011] Trial 974 finished with values: [0.5000061268315397, 0.0] and parameters: {'alpha': 0.006398238570445525, 'max_depth': 6, 'eta': 0.19196163533068675, 'subsample': 0.8882637920121375, 'colsample_bytree': 0.6846054564616372}.\n",
      "[I 2025-05-15 00:16:39,259] Trial 975 finished with values: [0.6735777326434521, 0.06246885732393875] and parameters: {'alpha': 0.22601217229786574, 'max_depth': 5, 'eta': 0.23813647636124352, 'subsample': 0.9641142529642752, 'colsample_bytree': 0.784407260735384}.\n",
      "[I 2025-05-15 00:16:39,496] Trial 976 finished with values: [0.6585853758657979, 0.019134436360977752] and parameters: {'alpha': 0.12082713516430721, 'max_depth': 5, 'eta': 0.10022879453843885, 'subsample': 0.7207602804729478, 'colsample_bytree': 0.7730914500445354}.\n",
      "[I 2025-05-15 00:16:39,743] Trial 977 finished with values: [0.5000061268315397, 0.0] and parameters: {'alpha': 0.006398238570445525, 'max_depth': 7, 'eta': 0.14460415289599793, 'subsample': 0.8621180142479564, 'colsample_bytree': 0.6268842887986352}.\n",
      "[I 2025-05-15 00:16:40,031] Trial 978 finished with values: [0.6757129334350388, 0.03363339071887648] and parameters: {'alpha': 0.17285234643421166, 'max_depth': 5, 'eta': 0.1835864240964316, 'subsample': 0.6850242808304751, 'colsample_bytree': 0.938607954432039}.\n",
      "[I 2025-05-15 00:16:40,225] Trial 979 finished with values: [0.5000061268315397, 0.0] and parameters: {'alpha': 0.006398238570445525, 'max_depth': 5, 'eta': 0.0970562706013991, 'subsample': 0.6766262078975724, 'colsample_bytree': 0.9532604182421414}.\n",
      "[I 2025-05-15 00:16:40,488] Trial 980 finished with values: [0.6664399738996977, 0.035606104168726636] and parameters: {'alpha': 0.3617541653116416, 'max_depth': 4, 'eta': 0.05148993795553561, 'subsample': 0.7645830844743573, 'colsample_bytree': 0.6846054564616372}.\n",
      "[I 2025-05-15 00:16:40,670] Trial 981 finished with values: [0.5000061268315397, 0.0] and parameters: {'alpha': 0.0018713778605690123, 'max_depth': 4, 'eta': 0.05148993795553561, 'subsample': 0.6500142472469429, 'colsample_bytree': 0.9171521282961637}.\n",
      "[I 2025-05-15 00:16:40,958] Trial 982 finished with values: [0.6928558080831287, 0.04518098434258414] and parameters: {'alpha': 0.8694173170637239, 'max_depth': 5, 'eta': 0.1835864240964316, 'subsample': 0.8493505201360313, 'colsample_bytree': 0.6479107585243286}.\n",
      "[I 2025-05-15 00:16:41,033] Trial 983 finished with values: [0.6721517126025861, 0.013819155361355398] and parameters: {'alpha': 0.22601217229786574, 'max_depth': 4, 'eta': 0.1835864240964316, 'subsample': 0.6766262078975724, 'colsample_bytree': 0.6346180096533811}.\n",
      "[I 2025-05-15 00:16:41,094] Trial 984 finished with values: [0.5000061268315397, 0.0] and parameters: {'alpha': 0.006398238570445525, 'max_depth': 4, 'eta': 0.2563772046650876, 'subsample': 0.9984601149714915, 'colsample_bytree': 0.6624630554926771}.\n",
      "[I 2025-05-15 00:16:41,199] Trial 985 finished with values: [0.6850073368807688, 0.04948302741057351] and parameters: {'alpha': 0.4125513397996383, 'max_depth': 7, 'eta': 0.09787258158270014, 'subsample': 0.807108008558591, 'colsample_bytree': 0.6198060693014039}.\n",
      "[I 2025-05-15 00:16:41,268] Trial 986 finished with values: [0.5000061268315397, 0.0] and parameters: {'alpha': 0.0018713778605690123, 'max_depth': 4, 'eta': 0.22739873665679933, 'subsample': 0.8088010652239656, 'colsample_bytree': 0.6198060693014039}.\n",
      "[I 2025-05-15 00:16:41,330] Trial 987 finished with values: [0.5000061268315397, 0.0] and parameters: {'alpha': 0.006398238570445525, 'max_depth': 6, 'eta': 0.1835864240964316, 'subsample': 0.7126649411379313, 'colsample_bytree': 0.6846054564616372}.\n",
      "[I 2025-05-15 00:16:41,518] Trial 988 finished with values: [0.5000061268315397, 0.0] and parameters: {'alpha': 0.006398238570445525, 'max_depth': 5, 'eta': 0.23813647636124352, 'subsample': 0.6766262078975724, 'colsample_bytree': 0.938607954432039}.\n",
      "[I 2025-05-15 00:16:41,635] Trial 989 finished with values: [0.7014272454071739, 0.06866402684897459] and parameters: {'alpha': 0.8694173170637239, 'max_depth': 6, 'eta': 0.24431474510203355, 'subsample': 0.8376771934629543, 'colsample_bytree': 0.6479107585243286}.\n",
      "[I 2025-05-15 00:16:41,811] Trial 990 finished with values: [0.6578670048677676, 0.022281545466354913] and parameters: {'alpha': 0.12082713516430721, 'max_depth': 6, 'eta': 0.10022879453843885, 'subsample': 0.8493505201360313, 'colsample_bytree': 0.7171393924105901}.\n",
      "[I 2025-05-15 00:16:41,919] Trial 991 finished with values: [0.6778603878897048, 0.04189322882163038] and parameters: {'alpha': 0.20412740120757755, 'max_depth': 7, 'eta': 0.17806646442006985, 'subsample': 0.872143282534935, 'colsample_bytree': 0.9532604182421414}.\n",
      "[I 2025-05-15 00:16:42,047] Trial 992 finished with values: [0.6778665147212445, 0.03365025269973049] and parameters: {'alpha': 0.22601217229786574, 'max_depth': 6, 'eta': 0.24431474510203355, 'subsample': 0.6766262078975724, 'colsample_bytree': 0.9859154924174516}.\n",
      "[I 2025-05-15 00:16:42,138] Trial 993 finished with values: [0.6885792796684159, 0.05221382505951567] and parameters: {'alpha': 0.22601217229786574, 'max_depth': 5, 'eta': 0.24431474510203355, 'subsample': 0.6766262078975724, 'colsample_bytree': 0.7467898426760461}.\n",
      "[I 2025-05-15 00:16:42,255] Trial 994 finished with values: [0.6607297669046941, 0.009719965280168599] and parameters: {'alpha': 0.12082713516430721, 'max_depth': 5, 'eta': 0.10022879453843885, 'subsample': 0.6631956570556669, 'colsample_bytree': 0.7849247937415649}.\n",
      "[I 2025-05-15 00:16:42,413] Trial 995 finished with values: [0.6878685672098103, 0.032613557181426424] and parameters: {'alpha': 0.22601217229786574, 'max_depth': 7, 'eta': 0.23813647636124352, 'subsample': 0.6766262078975724, 'colsample_bytree': 0.6479107585243286}.\n",
      "[I 2025-05-15 00:16:42,619] Trial 996 finished with values: [0.6828644775497575, 0.048183396308198255] and parameters: {'alpha': 0.22601217229786574, 'max_depth': 5, 'eta': 0.1919795686809288, 'subsample': 0.6766262078975724, 'colsample_bytree': 0.9273609939577232}.\n",
      "[I 2025-05-15 00:16:42,935] Trial 997 finished with values: [0.7042854123204455, 0.09168402941029634] and parameters: {'alpha': 0.8694173170637239, 'max_depth': 7, 'eta': 0.2743823608550061, 'subsample': 0.6950815747717355, 'colsample_bytree': 0.6479107585243286}.\n",
      "[I 2025-05-15 00:16:43,001] Trial 998 finished with values: [0.5000061268315397, 0.0] and parameters: {'alpha': 0.006398238570445525, 'max_depth': 3, 'eta': 0.22739873665679933, 'subsample': 0.8376771934629543, 'colsample_bytree': 0.6198060693014039}.\n",
      "[I 2025-05-15 00:16:43,079] Trial 999 finished with values: [0.5000061268315397, 0.0] and parameters: {'alpha': 0.006398238570445525, 'max_depth': 7, 'eta': 0.07253350513913152, 'subsample': 0.6631956570556669, 'colsample_bytree': 0.6268842887986352}.\n",
      "[I 2025-05-15 00:16:43,212] Trial 1000 finished with values: [0.6885731528368763, 0.06724214897349047] and parameters: {'alpha': 0.8694173170637239, 'max_depth': 5, 'eta': 0.1835864240964316, 'subsample': 0.7190259527785925, 'colsample_bytree': 0.96794789812389}.\n",
      "[I 2025-05-15 00:16:43,338] Trial 1001 finished with values: [0.5000061268315397, 0.0] and parameters: {'alpha': 0.006398238570445525, 'max_depth': 3, 'eta': 0.07257095200779526, 'subsample': 0.8621180142479564, 'colsample_bytree': 0.6524522279068893}.\n",
      "[I 2025-05-15 00:16:43,449] Trial 1002 finished with values: [0.6628557774489711, 0.0246805334520984] and parameters: {'alpha': 0.22601217229786574, 'max_depth': 4, 'eta': 0.1919795686809288, 'subsample': 0.7956954054081317, 'colsample_bytree': 0.6346180096533811}.\n",
      "[I 2025-05-15 00:16:43,587] Trial 1003 finished with values: [0.7028685825268891, 0.05569660360404072] and parameters: {'alpha': 0.6370308795473967, 'max_depth': 7, 'eta': 0.22739873665679933, 'subsample': 0.7417749438626756, 'colsample_bytree': 0.6198060693014039}.\n",
      "[I 2025-05-15 00:16:43,761] Trial 1004 finished with values: [0.6614450744869544, 0.013037100731233051] and parameters: {'alpha': 0.12082713516430721, 'max_depth': 6, 'eta': 0.11591159327206671, 'subsample': 0.6631956570556669, 'colsample_bytree': 0.7730914500445354}.\n",
      "[I 2025-05-15 00:16:43,858] Trial 1005 finished with values: [0.5000061268315397, 0.0] and parameters: {'alpha': 0.006398238570445525, 'max_depth': 4, 'eta': 0.29734976874047897, 'subsample': 0.6500142472469429, 'colsample_bytree': 0.9171521282961637}.\n",
      "[I 2025-05-15 00:16:43,980] Trial 1006 finished with values: [0.6899945777540873, 0.05098892951903881] and parameters: {'alpha': 0.6231099221747025, 'max_depth': 5, 'eta': 0.27499741563348057, 'subsample': 0.8493505201360313, 'colsample_bytree': 0.6268842887986352}.\n",
      "[I 2025-05-15 00:16:44,101] Trial 1007 finished with values: [0.5000061268315397, 0.0] and parameters: {'alpha': 0.006398238570445525, 'max_depth': 6, 'eta': 0.11754631965463419, 'subsample': 0.7126649411379313, 'colsample_bytree': 0.6846054564616372}.\n",
      "[I 2025-05-15 00:16:44,200] Trial 1008 finished with values: [0.5000061268315397, 0.0] and parameters: {'alpha': 0.006398238570445525, 'max_depth': 4, 'eta': 0.1919795686809288, 'subsample': 0.6766262078975724, 'colsample_bytree': 0.6346180096533811}.\n",
      "[I 2025-05-15 00:16:44,318] Trial 1009 finished with values: [0.6685705795676294, 0.024790455191112764] and parameters: {'alpha': 0.22922811182883618, 'max_depth': 5, 'eta': 0.1835864240964316, 'subsample': 0.7126649411379313, 'colsample_bytree': 0.6846054564616372}.\n",
      "[I 2025-05-15 00:16:44,429] Trial 1010 finished with values: [0.5000061268315397, 0.0] and parameters: {'alpha': 0.006398238570445525, 'max_depth': 5, 'eta': 0.2636741937707874, 'subsample': 0.6766262078975724, 'colsample_bytree': 0.938607954432039}.\n",
      "[I 2025-05-15 00:16:44,552] Trial 1011 finished with values: [0.6735716058119124, 0.022583173834555548] and parameters: {'alpha': 0.3334986091650316, 'max_depth': 5, 'eta': 0.21500273048430651, 'subsample': 0.8493505201360313, 'colsample_bytree': 0.6268842887986352}.\n",
      "[I 2025-05-15 00:16:44,684] Trial 1012 finished with values: [0.7028639874032342, 0.06511721756453026] and parameters: {'alpha': 0.818428387755009, 'max_depth': 7, 'eta': 0.1835864240964316, 'subsample': 0.872143282534935, 'colsample_bytree': 0.6346180096533811}.\n",
      "[I 2025-05-15 00:16:44,815] Trial 1013 finished with values: [0.6792955981778803, 0.05003978566058482] and parameters: {'alpha': 0.3322367533541454, 'max_depth': 7, 'eta': 0.21500273048430651, 'subsample': 0.6631956570556669, 'colsample_bytree': 0.6268842887986352}.\n",
      "[I 2025-05-15 00:16:44,937] Trial 1014 finished with values: [0.6614435427790696, 0.026764910073505965] and parameters: {'alpha': 0.08916977850539642, 'max_depth': 6, 'eta': 0.1919795686809288, 'subsample': 0.8493505201360313, 'colsample_bytree': 0.6268842887986352}.\n",
      "[I 2025-05-15 00:16:45,048] Trial 1015 finished with values: [0.5000061268315397, 0.0] and parameters: {'alpha': 0.006398238570445525, 'max_depth': 6, 'eta': 0.1835864240964316, 'subsample': 0.7126649411379313, 'colsample_bytree': 0.938607954432039}.\n",
      "[I 2025-05-15 00:16:45,139] Trial 1016 finished with values: [0.5000061268315397, 0.0] and parameters: {'alpha': 0.006398238570445525, 'max_depth': 7, 'eta': 0.10022879453843885, 'subsample': 0.6631956570556669, 'colsample_bytree': 0.7730914500445354}.\n",
      "[I 2025-05-15 00:16:45,272] Trial 1017 finished with values: [0.6835797851320179, 0.04604451693146878] and parameters: {'alpha': 0.1642497873217551, 'max_depth': 7, 'eta': 0.23813647636124352, 'subsample': 0.872143282534935, 'colsample_bytree': 0.9611620505991075}.\n",
      "[I 2025-05-15 00:16:45,409] Trial 1018 finished with values: [0.7035701047381852, 0.07463001522850514] and parameters: {'alpha': 0.8694173170637239, 'max_depth': 7, 'eta': 0.1835864240964316, 'subsample': 0.871229825323997, 'colsample_bytree': 0.6268842887986352}.\n",
      "[I 2025-05-15 00:16:45,503] Trial 1019 finished with values: [0.5000061268315397, 0.0] and parameters: {'alpha': 0.006398238570445525, 'max_depth': 4, 'eta': 0.11298663912872957, 'subsample': 0.872143282534935, 'colsample_bytree': 0.9611620505991075}.\n",
      "[I 2025-05-15 00:16:45,635] Trial 1020 finished with values: [0.6871486645038951, 0.04387014593853803] and parameters: {'alpha': 0.38280815793636647, 'max_depth': 7, 'eta': 0.24431474510203355, 'subsample': 0.8493505201360313, 'colsample_bytree': 0.6268842887986352}.\n",
      "[I 2025-05-15 00:16:45,732] Trial 1021 finished with values: [0.5000061268315397, 0.0] and parameters: {'alpha': 0.006398238570445525, 'max_depth': 5, 'eta': 0.1835864240964316, 'subsample': 0.6766262078975724, 'colsample_bytree': 0.887394213925125}.\n",
      "[I 2025-05-15 00:16:45,864] Trial 1022 finished with values: [0.6950063259535648, 0.06686799874557324] and parameters: {'alpha': 0.6935173745794533, 'max_depth': 7, 'eta': 0.1835864240964316, 'subsample': 0.872143282534935, 'colsample_bytree': 0.6268842887986352}.\n",
      "[I 2025-05-15 00:16:45,986] Trial 1023 finished with values: [0.5000061268315397, 0.0] and parameters: {'alpha': 0.006398238570445525, 'max_depth': 7, 'eta': 0.1835864240964316, 'subsample': 0.872143282534935, 'colsample_bytree': 0.6479107585243286}.\n",
      "[I 2025-05-15 00:16:46,145] Trial 1024 finished with values: [0.7014226502835191, 0.07227781419037328] and parameters: {'alpha': 0.8694173170637239, 'max_depth': 7, 'eta': 0.1835864240964316, 'subsample': 0.9907292422182123, 'colsample_bytree': 0.6479107585243286}.\n",
      "[I 2025-05-15 00:16:46,301] Trial 1025 finished with values: [0.6850058051728839, 0.05267523183169248] and parameters: {'alpha': 0.40350905322239805, 'max_depth': 5, 'eta': 0.23813647636124352, 'subsample': 0.8715192402583907, 'colsample_bytree': 0.6268842887986352}.\n",
      "[I 2025-05-15 00:16:46,510] Trial 1026 finished with values: [0.704997656486936, 0.07405401028743731] and parameters: {'alpha': 0.8694173170637239, 'max_depth': 7, 'eta': 0.24026710755528385, 'subsample': 0.8088010652239656, 'colsample_bytree': 0.6268842887986352}.\n",
      "[I 2025-05-15 00:16:46,650] Trial 1027 finished with values: [0.6864333569216349, 0.04829256252819064] and parameters: {'alpha': 0.22601217229786574, 'max_depth': 5, 'eta': 0.23813647636124352, 'subsample': 0.6766262078975724, 'colsample_bytree': 0.8682231718135145}.\n",
      "[I 2025-05-15 00:16:46,758] Trial 1028 finished with values: [0.5000061268315397, 0.0] and parameters: {'alpha': 0.008318822215806598, 'max_depth': 3, 'eta': 0.24026710755528385, 'subsample': 0.906061807106595, 'colsample_bytree': 0.7642776900822141}.\n",
      "[I 2025-05-15 00:16:46,888] Trial 1029 finished with values: [0.6885900016236103, 0.025369084250282836] and parameters: {'alpha': 0.22601217229786574, 'max_depth': 5, 'eta': 0.23813647636124352, 'subsample': 0.6766262078975724, 'colsample_bytree': 0.6268842887986352}.\n",
      "[I 2025-05-15 00:16:47,072] Trial 1030 finished with values: [0.7014318405308287, 0.07088557892468526] and parameters: {'alpha': 0.7525026263025336, 'max_depth': 7, 'eta': 0.24524704594102092, 'subsample': 0.8493505201360313, 'colsample_bytree': 0.938607954432039}.\n",
      "[I 2025-05-15 00:16:47,204] Trial 1031 finished with values: [0.6721486491868163, 0.026037470055541818] and parameters: {'alpha': 0.22601217229786574, 'max_depth': 5, 'eta': 0.24431474510203355, 'subsample': 0.7645830844743573, 'colsample_bytree': 0.6268842887986352}.\n",
      "[I 2025-05-15 00:16:47,345] Trial 1032 finished with values: [0.7014211185756342, 0.0608053234035311] and parameters: {'alpha': 0.8694173170637239, 'max_depth': 7, 'eta': 0.1774065756172445, 'subsample': 0.8493505201360313, 'colsample_bytree': 0.938607954432039}.\n",
      "[I 2025-05-15 00:16:47,463] Trial 1033 finished with values: [0.6707287559774899, 0.02141811504445505] and parameters: {'alpha': 0.22601217229786574, 'max_depth': 5, 'eta': 0.1203188644306269, 'subsample': 0.6631956570556669, 'colsample_bytree': 0.7171393924105901}.\n",
      "[I 2025-05-15 00:16:47,590] Trial 1034 finished with values: [0.7050053150263608, 0.04590912639758284] and parameters: {'alpha': 0.6370308795473967, 'max_depth': 7, 'eta': 0.22739873665679933, 'subsample': 0.8493505201360313, 'colsample_bytree': 0.6268842887986352}.\n",
      "[I 2025-05-15 00:16:47,690] Trial 1035 finished with values: [0.5000061268315397, 0.0] and parameters: {'alpha': 0.006398238570445525, 'max_depth': 5, 'eta': 0.1835864240964316, 'subsample': 0.6112440244638102, 'colsample_bytree': 0.938607954432039}.\n",
      "[I 2025-05-15 00:16:47,819] Trial 1036 finished with values: [0.6957277603673648, 0.07574297142929821] and parameters: {'alpha': 0.7505084787330142, 'max_depth': 7, 'eta': 0.1835864240964316, 'subsample': 0.6224980379668996, 'colsample_bytree': 0.6846054564616372}.\n",
      "[I 2025-05-15 00:16:47,983] Trial 1037 finished with values: [0.7071451109416022, 0.0484954603626066] and parameters: {'alpha': 0.8694173170637239, 'max_depth': 6, 'eta': 0.24431474510203355, 'subsample': 0.8493505201360313, 'colsample_bytree': 0.8849923349349937}.\n",
      "[I 2025-05-15 00:16:48,111] Trial 1038 finished with values: [0.7028532654480398, 0.05646934393285735] and parameters: {'alpha': 0.6370308795473967, 'max_depth': 7, 'eta': 0.22739873665679933, 'subsample': 0.7645830844743573, 'colsample_bytree': 0.6846054564616372}.\n",
      "[I 2025-05-15 00:16:48,248] Trial 1039 finished with values: [0.6635802752785411, 0.032904735041102036] and parameters: {'alpha': 0.8694173170637239, 'max_depth': 4, 'eta': 0.05148993795553561, 'subsample': 0.6500142472469429, 'colsample_bytree': 0.9171521282961637}.\n",
      "[I 2025-05-15 00:16:48,344] Trial 1040 finished with values: [0.5000061268315397, 0.0] and parameters: {'alpha': 0.0018830290563439656, 'max_depth': 7, 'eta': 0.21500273048430651, 'subsample': 0.8493505201360313, 'colsample_bytree': 0.6268842887986352}.\n",
      "[I 2025-05-15 00:16:48,436] Trial 1041 finished with values: [0.5000061268315397, 0.0] and parameters: {'alpha': 0.006398238570445525, 'max_depth': 5, 'eta': 0.10022879453843885, 'subsample': 0.6766262078975724, 'colsample_bytree': 0.6268842887986352}.\n",
      "[I 2025-05-15 00:16:48,591] Trial 1042 finished with values: [0.6928604032067837, 0.06565463386816128] and parameters: {'alpha': 0.5521054358540021, 'max_depth': 5, 'eta': 0.27499741563348057, 'subsample': 0.8376771934629543, 'colsample_bytree': 0.938607954432039}.\n",
      "[I 2025-05-15 00:16:48,744] Trial 1043 finished with values: [0.693574179081159, 0.05901830097377048] and parameters: {'alpha': 0.8694173170637239, 'max_depth': 7, 'eta': 0.1835864240964316, 'subsample': 0.8538537995817941, 'colsample_bytree': 0.6479107585243286}.\n",
      "[I 2025-05-15 00:16:48,847] Trial 1044 finished with values: [0.5000061268315397, 0.0] and parameters: {'alpha': 0.006398238570445525, 'max_depth': 4, 'eta': 0.21901686836526663, 'subsample': 0.872143282534935, 'colsample_bytree': 0.9611620505991075}.\n",
      "[I 2025-05-15 00:16:49,014] Trial 1045 finished with values: [0.6835659997610536, 0.052528559070905596] and parameters: {'alpha': 0.5914872071629191, 'max_depth': 7, 'eta': 0.07253350513913152, 'subsample': 0.8088010652239656, 'colsample_bytree': 0.9393680996987381}.\n",
      "[I 2025-05-15 00:16:49,116] Trial 1046 finished with values: [0.5000061268315397, 0.0] and parameters: {'alpha': 0.006398238570445525, 'max_depth': 3, 'eta': 0.24026710755528385, 'subsample': 0.7593419666716745, 'colsample_bytree': 0.7894887198211535}.\n",
      "[I 2025-05-15 00:16:49,222] Trial 1047 finished with values: [0.5000061268315397, 0.0] and parameters: {'alpha': 0.006398238570445525, 'max_depth': 3, 'eta': 0.1835864240964316, 'subsample': 0.872143282534935, 'colsample_bytree': 0.6624630554926771}.\n",
      "[I 2025-05-15 00:16:49,322] Trial 1048 finished with values: [0.5000061268315397, 0.0] and parameters: {'alpha': 0.006398238570445525, 'max_depth': 4, 'eta': 0.2743823608550061, 'subsample': 0.9840618581052769, 'colsample_bytree': 0.939918536631748}.\n",
      "[I 2025-05-15 00:16:49,448] Trial 1049 finished with values: [0.6807216182187462, 0.03147522377062184] and parameters: {'alpha': 0.24555226460484258, 'max_depth': 5, 'eta': 0.1835864240964316, 'subsample': 0.6766262078975724, 'colsample_bytree': 0.938607954432039}.\n",
      "[I 2025-05-15 00:16:49,592] Trial 1050 finished with values: [0.7142798062695866, 0.09309350302517316] and parameters: {'alpha': 0.8694173170637239, 'max_depth': 7, 'eta': 0.24431474510203355, 'subsample': 0.8493505201360313, 'colsample_bytree': 0.8849923349349937}.\n",
      "[I 2025-05-15 00:16:49,723] Trial 1051 finished with values: [0.6600159910303186, 0.026711027124437126] and parameters: {'alpha': 0.09958560324643972, 'max_depth': 5, 'eta': 0.23813647636124352, 'subsample': 0.6766262078975724, 'colsample_bytree': 0.6479107585243286}.\n",
      "[I 2025-05-15 00:16:49,847] Trial 1052 finished with values: [0.6835721265925933, 0.0415464091072178] and parameters: {'alpha': 0.8694173170637239, 'max_depth': 4, 'eta': 0.21500273048430651, 'subsample': 0.872143282534935, 'colsample_bytree': 0.9532604182421414}.\n",
      "[I 2025-05-15 00:16:49,952] Trial 1053 finished with values: [0.5000061268315397, 0.0] and parameters: {'alpha': 0.006398238570445525, 'max_depth': 7, 'eta': 0.21500273048430651, 'subsample': 0.872143282534935, 'colsample_bytree': 0.9532604182421414}.\n",
      "[I 2025-05-15 00:16:50,188] Trial 1054 finished with values: [0.7171364414749735, 0.07250849289246745] and parameters: {'alpha': 0.8694173170637239, 'max_depth': 7, 'eta': 0.2059704199259883, 'subsample': 0.872143282534935, 'colsample_bytree': 0.9532604182421414}.\n",
      "[I 2025-05-15 00:16:50,338] Trial 1055 finished with values: [0.5000061268315397, 0.0] and parameters: {'alpha': 0.006398238570445525, 'max_depth': 6, 'eta': 0.1835864240964316, 'subsample': 0.8634700713937434, 'colsample_bytree': 0.6624630554926771}.\n",
      "[I 2025-05-15 00:16:50,494] Trial 1056 finished with values: [0.6835659997610536, 0.03741248652663141] and parameters: {'alpha': 0.6308330624115891, 'max_depth': 5, 'eta': 0.15780100657948715, 'subsample': 0.807108008558591, 'colsample_bytree': 0.938607954432039}.\n",
      "[I 2025-05-15 00:16:50,669] Trial 1057 finished with values: [0.661435884239645, 0.0227423857796001] and parameters: {'alpha': 0.15363028079029184, 'max_depth': 5, 'eta': 0.15511827510132917, 'subsample': 0.8436857549300113, 'colsample_bytree': 0.9130364764617087}.\n",
      "[I 2025-05-15 00:16:50,945] Trial 1058 finished with values: [0.6678629305247937, 0.036358384396013306] and parameters: {'alpha': 0.6308330624115891, 'max_depth': 4, 'eta': 0.07257095200779526, 'subsample': 0.8302120167674423, 'colsample_bytree': 0.6346180096533811}.\n",
      "[I 2025-05-15 00:16:51,151] Trial 1059 finished with values: [0.6700103849794597, 0.03266324792044489] and parameters: {'alpha': 0.22601217229786574, 'max_depth': 7, 'eta': 0.07253350513913152, 'subsample': 0.8088010652239656, 'colsample_bytree': 0.6268842887986352}.\n",
      "[I 2025-05-15 00:16:51,313] Trial 1060 finished with values: [0.6992859177840476, 0.07666344588323637] and parameters: {'alpha': 0.8925026203570835, 'max_depth': 5, 'eta': 0.24431474510203355, 'subsample': 0.872143282534935, 'colsample_bytree': 0.9611620505991075}.\n",
      "[I 2025-05-15 00:16:51,559] Trial 1061 finished with values: [0.7100094046864135, 0.061518217556398] and parameters: {'alpha': 0.8694173170637239, 'max_depth': 7, 'eta': 0.1835864240964316, 'subsample': 0.8493505201360313, 'colsample_bytree': 0.6346180096533811}.\n",
      "[I 2025-05-15 00:16:51,709] Trial 1062 finished with values: [0.5000061268315397, 0.0] and parameters: {'alpha': 0.006398238570445525, 'max_depth': 3, 'eta': 0.2304609264307195, 'subsample': 0.7645830844743573, 'colsample_bytree': 0.6797246156362822}.\n",
      "[I 2025-05-15 00:16:51,947] Trial 1063 finished with values: [0.6750083478079728, 0.04523669682914622] and parameters: {'alpha': 0.8694173170637239, 'max_depth': 4, 'eta': 0.022235469245934412, 'subsample': 0.8493505201360313, 'colsample_bytree': 0.6846054564616372}.\n",
      "[I 2025-05-15 00:16:52,074] Trial 1064 finished with values: [0.5000061268315397, 0.0] and parameters: {'alpha': 0.006398238570445525, 'max_depth': 7, 'eta': 0.24026710755528385, 'subsample': 0.872143282534935, 'colsample_bytree': 0.8318203720560304}.\n",
      "[I 2025-05-15 00:16:52,236] Trial 1065 finished with values: [0.7021425529894342, 0.08024334456175979] and parameters: {'alpha': 0.5422139002618792, 'max_depth': 7, 'eta': 0.27499741563348057, 'subsample': 0.7645830844743573, 'colsample_bytree': 0.7845660755788717}.\n",
      "[I 2025-05-15 00:16:52,386] Trial 1066 finished with values: [0.693574179081159, 0.0730837179114447] and parameters: {'alpha': 0.3348773525771769, 'max_depth': 7, 'eta': 0.24431474510203355, 'subsample': 0.6631956570556669, 'colsample_bytree': 0.9814143821944337}.\n",
      "[I 2025-05-15 00:16:52,532] Trial 1067 finished with values: [0.6885654942974515, 0.054410464922151146] and parameters: {'alpha': 0.42202676635080905, 'max_depth': 7, 'eta': 0.1835864240964316, 'subsample': 0.872143282534935, 'colsample_bytree': 0.9532604182421414}.\n",
      "[I 2025-05-15 00:16:52,627] Trial 1068 finished with values: [0.5000061268315397, 0.0] and parameters: {'alpha': 0.006398238570445525, 'max_depth': 7, 'eta': 0.10022879453843885, 'subsample': 0.6631956570556669, 'colsample_bytree': 0.6846054564616372}.\n",
      "[I 2025-05-15 00:16:52,785] Trial 1069 finished with values: [0.6571455704539676, 0.021736883222664278] and parameters: {'alpha': 0.11966325633166941, 'max_depth': 5, 'eta': 0.15511827510132917, 'subsample': 0.7126649411379313, 'colsample_bytree': 0.6846054564616372}.\n",
      "[I 2025-05-15 00:16:52,883] Trial 1070 finished with values: [0.5000061268315397, 0.0] and parameters: {'alpha': 0.012915419123790906, 'max_depth': 7, 'eta': 0.21901686836526663, 'subsample': 0.871229825323997, 'colsample_bytree': 0.6268842887986352}.\n",
      "[I 2025-05-15 00:16:52,986] Trial 1071 finished with values: [0.5000061268315397, 0.0] and parameters: {'alpha': 0.006398238570445525, 'max_depth': 7, 'eta': 0.21500273048430651, 'subsample': 0.872143282534935, 'colsample_bytree': 0.6268842887986352}.\n",
      "[I 2025-05-15 00:16:53,110] Trial 1072 finished with values: [0.6821430431359575, 0.052413659714864176] and parameters: {'alpha': 0.6370308795473967, 'max_depth': 6, 'eta': 0.24431474510203355, 'subsample': 0.7953090908657465, 'colsample_bytree': 0.8091656083864492}.\n",
      "[I 2025-05-15 00:16:53,210] Trial 1073 finished with values: [0.5000061268315397, 0.0] and parameters: {'alpha': 0.006398238570445525, 'max_depth': 6, 'eta': 0.1919795686809288, 'subsample': 0.7381009747847169, 'colsample_bytree': 0.6346180096533811}.\n",
      "[I 2025-05-15 00:16:53,336] Trial 1074 finished with values: [0.6685828332307088, 0.023881416056773564] and parameters: {'alpha': 0.07391673733946025, 'max_depth': 4, 'eta': 0.21901686836526663, 'subsample': 0.8621180142479564, 'colsample_bytree': 0.9611620505991075}.\n",
      "[I 2025-05-15 00:16:53,462] Trial 1075 finished with values: [0.6657292614410921, 0.025485067859999416] and parameters: {'alpha': 0.12082713516430721, 'max_depth': 7, 'eta': 0.26336770016132527, 'subsample': 0.6631956570556669, 'colsample_bytree': 0.9901074621532081}.\n",
      "[I 2025-05-15 00:16:53,577] Trial 1076 finished with values: [0.6842966244221632, 0.046014348787355115] and parameters: {'alpha': 0.22601217229786574, 'max_depth': 5, 'eta': 0.23813647636124352, 'subsample': 0.6766262078975724, 'colsample_bytree': 0.9611620505991075}.\n",
      "[I 2025-05-15 00:16:53,692] Trial 1077 finished with values: [0.6878731623334651, 0.022191737275063367] and parameters: {'alpha': 0.22922811182883618, 'max_depth': 5, 'eta': 0.21500273048430651, 'subsample': 0.6766262078975724, 'colsample_bytree': 0.6268842887986352}.\n",
      "[I 2025-05-15 00:16:53,828] Trial 1078 finished with values: [0.7099956193154492, 0.08588488470977818] and parameters: {'alpha': 0.963490247356173, 'max_depth': 7, 'eta': 0.2259679781420247, 'subsample': 0.872143282534935, 'colsample_bytree': 0.6912031833826566}.\n",
      "[I 2025-05-15 00:16:53,958] Trial 1079 finished with values: [0.6707195657301804, 0.039188143391357455] and parameters: {'alpha': 0.22601217229786574, 'max_depth': 5, 'eta': 0.23813647636124352, 'subsample': 0.9833169416830616, 'colsample_bytree': 0.6268842887986352}.\n",
      "[I 2025-05-15 00:16:54,182] Trial 1080 finished with values: [0.6742915085178275, 0.027825708409390925] and parameters: {'alpha': 0.22601217229786574, 'max_depth': 4, 'eta': 0.1919795686809288, 'subsample': 0.8493505201360313, 'colsample_bytree': 0.6198060693014039}.\n",
      "[I 2025-05-15 00:16:54,397] Trial 1081 finished with values: [0.6800155008837954, 0.03329472219420354] and parameters: {'alpha': 0.22601217229786574, 'max_depth': 5, 'eta': 0.24431474510203355, 'subsample': 0.673324112288931, 'colsample_bytree': 0.6268842887986352}.\n",
      "[I 2025-05-15 00:16:54,822] Trial 1082 finished with values: [0.5000061268315397, 0.0] and parameters: {'alpha': 0.006398238570445525, 'max_depth': 7, 'eta': 0.24431474510203355, 'subsample': 0.8493505201360313, 'colsample_bytree': 0.9171483791349198}.\n",
      "[I 2025-05-15 00:16:55,145] Trial 1083 finished with values: [0.668582833230709, 0.024891098515354804] and parameters: {'alpha': 0.22601217229786574, 'max_depth': 6, 'eta': 0.07257095200779526, 'subsample': 0.807108008558591, 'colsample_bytree': 0.6346180096533811}.\n",
      "[I 2025-05-15 00:16:55,433] Trial 1084 finished with values: [0.6892823335875967, 0.03846106703408192] and parameters: {'alpha': 0.6308330624115891, 'max_depth': 6, 'eta': 0.1635969423907401, 'subsample': 0.807108008558591, 'colsample_bytree': 0.9751930776562027}.\n",
      "[I 2025-05-15 00:16:55,739] Trial 1085 finished with values: [0.693574179081159, 0.056071757701974444] and parameters: {'alpha': 0.6370308795473967, 'max_depth': 5, 'eta': 0.22739873665679933, 'subsample': 0.8493505201360313, 'colsample_bytree': 0.6198060693014039}.\n",
      "[I 2025-05-15 00:16:55,896] Trial 1086 finished with values: [0.5000061268315397, 0.0] and parameters: {'alpha': 0.006398238570445525, 'max_depth': 6, 'eta': 0.1835864240964316, 'subsample': 0.7126649411379313, 'colsample_bytree': 0.644567612220156}.\n",
      "[I 2025-05-15 00:16:56,120] Trial 1087 finished with values: [0.5000061268315397, 0.0] and parameters: {'alpha': 0.006398238570445525, 'max_depth': 4, 'eta': 0.05148993795553561, 'subsample': 0.6500142472469429, 'colsample_bytree': 0.9171521282961637}.\n",
      "[I 2025-05-15 00:16:56,281] Trial 1088 finished with values: [0.5000061268315397, 0.0] and parameters: {'alpha': 0.006398238570445525, 'max_depth': 7, 'eta': 0.21500273048430651, 'subsample': 0.872143282534935, 'colsample_bytree': 0.6268842887986352}.\n",
      "[I 2025-05-15 00:16:56,473] Trial 1089 finished with values: [0.6992782592446231, 0.07491764327615107] and parameters: {'alpha': 0.6308330624115891, 'max_depth': 6, 'eta': 0.1835864240964316, 'subsample': 0.8493505201360313, 'colsample_bytree': 0.897242350324523}.\n",
      "[I 2025-05-15 00:16:56,621] Trial 1090 finished with values: [0.680724681634516, 0.043701770077001045] and parameters: {'alpha': 0.22491182213098515, 'max_depth': 6, 'eta': 0.15511827510132917, 'subsample': 0.7126649411379313, 'colsample_bytree': 0.8752082873345036}.\n",
      "[I 2025-05-15 00:16:56,816] Trial 1091 finished with values: [0.7071451109416022, 0.0484954603626066] and parameters: {'alpha': 0.8694173170637239, 'max_depth': 6, 'eta': 0.24431474510203355, 'subsample': 0.8493505201360313, 'colsample_bytree': 0.8849923349349937}.\n",
      "[I 2025-05-15 00:16:56,967] Trial 1092 finished with values: [0.5000061268315397, 0.0] and parameters: {'alpha': 0.006398238570445525, 'max_depth': 4, 'eta': 0.23813647636124352, 'subsample': 0.6766262078975724, 'colsample_bytree': 0.9611620505991075}.\n",
      "[I 2025-05-15 00:16:57,124] Trial 1093 finished with values: [0.6792925347621104, 0.04119107152978462] and parameters: {'alpha': 0.4132461663809437, 'max_depth': 5, 'eta': 0.07325121144319059, 'subsample': 0.6766262078975724, 'colsample_bytree': 0.6268842887986352}.\n",
      "[I 2025-05-15 00:16:57,258] Trial 1094 finished with values: [0.6885900016236103, 0.025369084250282836] and parameters: {'alpha': 0.22601217229786574, 'max_depth': 5, 'eta': 0.23813647636124352, 'subsample': 0.6766262078975724, 'colsample_bytree': 0.6346180096533811}.\n",
      "[I 2025-05-15 00:16:57,370] Trial 1095 finished with values: [0.5000061268315397, 0.0] and parameters: {'alpha': 0.006398238570445525, 'max_depth': 6, 'eta': 0.19456435976693995, 'subsample': 0.807108008558591, 'colsample_bytree': 0.9149452366780289}.\n",
      "[I 2025-05-15 00:16:57,477] Trial 1096 finished with values: [0.5000061268315397, 0.0] and parameters: {'alpha': 0.006398238570445525, 'max_depth': 5, 'eta': 0.10022879453843885, 'subsample': 0.6766262078975724, 'colsample_bytree': 0.6268842887986352}.\n",
      "[I 2025-05-15 00:16:57,578] Trial 1097 finished with values: [0.5000061268315397, 0.0] and parameters: {'alpha': 0.006398238570445525, 'max_depth': 7, 'eta': 0.07253350513913152, 'subsample': 0.8088010652239656, 'colsample_bytree': 0.9532604182421414}.\n",
      "[I 2025-05-15 00:16:57,676] Trial 1098 finished with values: [0.5000061268315397, 0.0] and parameters: {'alpha': 0.006398238570445525, 'max_depth': 7, 'eta': 0.21901686836526663, 'subsample': 0.9984601149714915, 'colsample_bytree': 0.9003983115388187}.\n",
      "[I 2025-05-15 00:16:57,805] Trial 1099 finished with values: [0.5000061268315397, 0.0] and parameters: {'alpha': 0.006398238570445525, 'max_depth': 7, 'eta': 0.21500273048430651, 'subsample': 0.8493505201360313, 'colsample_bytree': 0.6268842887986352}.\n",
      "[I 2025-05-15 00:16:57,925] Trial 1100 finished with values: [0.6728593616454219, 0.025503637994268673] and parameters: {'alpha': 0.22601217229786574, 'max_depth': 5, 'eta': 0.23813647636124352, 'subsample': 0.88443118758496, 'colsample_bytree': 0.6198060693014039}.\n",
      "[I 2025-05-15 00:16:58,028] Trial 1101 finished with values: [0.5000061268315397, 0.0] and parameters: {'alpha': 0.006398238570445525, 'max_depth': 5, 'eta': 0.07253350513913152, 'subsample': 0.8547854469270306, 'colsample_bytree': 0.6482350599140047}.\n",
      "[I 2025-05-15 00:16:58,170] Trial 1102 finished with values: [0.6850104002965387, 0.02565550664486586] and parameters: {'alpha': 0.22601217229786574, 'max_depth': 7, 'eta': 0.2059704199259883, 'subsample': 0.6766262078975724, 'colsample_bytree': 0.9532604182421414}.\n",
      "[I 2025-05-15 00:16:58,313] Trial 1103 finished with values: [0.6978476440801021, 0.049140745585135974] and parameters: {'alpha': 0.8694173170637239, 'max_depth': 7, 'eta': 0.10022879453843885, 'subsample': 0.872143282534935, 'colsample_bytree': 0.9532604182421414}.\n",
      "[I 2025-05-15 00:16:58,553] Trial 1104 finished with values: [0.6899976411698572, 0.06317910377002174] and parameters: {'alpha': 0.49327691687741604, 'max_depth': 5, 'eta': 0.24431474510203355, 'subsample': 0.8242435835459527, 'colsample_bytree': 0.7642776900822141}.\n",
      "[I 2025-05-15 00:16:58,685] Trial 1105 finished with values: [0.6664430373154676, 0.02074784754853794] and parameters: {'alpha': 0.12082713516430721, 'max_depth': 4, 'eta': 0.1919795686809288, 'subsample': 0.6631956570556669, 'colsample_bytree': 0.7730914500445354}.\n",
      "[I 2025-05-15 00:16:58,811] Trial 1106 finished with values: [0.673579264351337, 0.032467902184283914] and parameters: {'alpha': 0.6013943115563696, 'max_depth': 4, 'eta': 0.1919795686809288, 'subsample': 0.807108008558591, 'colsample_bytree': 0.6346180096533811}.\n",
      "[I 2025-05-15 00:16:58,960] Trial 1107 finished with values: [0.7100094046864135, 0.061518217556398] and parameters: {'alpha': 0.8694173170637239, 'max_depth': 7, 'eta': 0.1835864240964316, 'subsample': 0.8493505201360313, 'colsample_bytree': 0.6346180096533811}.\n",
      "[I 2025-05-15 00:16:59,113] Trial 1108 finished with values: [0.7000134790293874, 0.050826495368307585] and parameters: {'alpha': 0.6634597374709331, 'max_depth': 7, 'eta': 0.1835864240964316, 'subsample': 0.8493505201360313, 'colsample_bytree': 0.6479107585243286}.\n",
      "[I 2025-05-15 00:16:59,276] Trial 1109 finished with values: [0.6800078423443708, 0.025100723626001204] and parameters: {'alpha': 0.22922811182883618, 'max_depth': 5, 'eta': 0.2939964665744464, 'subsample': 0.6766262078975724, 'colsample_bytree': 0.6268842887986352}.\n",
      "[I 2025-05-15 00:16:59,441] Trial 1110 finished with values: [0.5000061268315397, 0.0] and parameters: {'alpha': 0.006398238570445525, 'max_depth': 6, 'eta': 0.07257095200779526, 'subsample': 0.6766262078975724, 'colsample_bytree': 0.6346180096533811}.\n",
      "[I 2025-05-15 00:16:59,639] Trial 1111 finished with values: [0.6971415267451513, 0.05029184408969811] and parameters: {'alpha': 0.6308330624115891, 'max_depth': 6, 'eta': 0.24431474510203355, 'subsample': 0.8493505201360313, 'colsample_bytree': 0.6346180096533811}.\n",
      "[I 2025-05-15 00:16:59,989] Trial 1112 finished with values: [0.6764358995567238, 0.04268161685709291] and parameters: {'alpha': 0.3543089891755917, 'max_depth': 5, 'eta': 0.22739873665679933, 'subsample': 0.6766262078975724, 'colsample_bytree': 0.6198060693014039}.\n",
      "[I 2025-05-15 00:17:00,705] Trial 1113 finished with values: [0.6849996783413442, 0.05290205617524201] and parameters: {'alpha': 0.3828084925319203, 'max_depth': 7, 'eta': 0.1835864240964316, 'subsample': 0.8376771934629543, 'colsample_bytree': 0.7085375214639021}.\n",
      "[I 2025-05-15 00:17:00,947] Trial 1114 finished with values: [0.7049945930711662, 0.07994325581957111] and parameters: {'alpha': 0.8694173170637239, 'max_depth': 7, 'eta': 0.1835864240964316, 'subsample': 0.8493505201360313, 'colsample_bytree': 0.972743573419895}.\n",
      "[I 2025-05-15 00:17:01,104] Trial 1115 finished with values: [0.6814353940931217, 0.036014636881054746] and parameters: {'alpha': 0.22601217229786574, 'max_depth': 7, 'eta': 0.23813647636124352, 'subsample': 0.8493505201360313, 'colsample_bytree': 0.6268842887986352}.\n",
      "[I 2025-05-15 00:17:01,220] Trial 1116 finished with values: [0.5000061268315397, 0.0] and parameters: {'alpha': 0.006398238570445525, 'max_depth': 5, 'eta': 0.23813647636124352, 'subsample': 0.6766262078975724, 'colsample_bytree': 0.6268842887986352}.\n",
      "[I 2025-05-15 00:17:01,435] Trial 1117 finished with values: [0.6607144498258448, 0.019339132469288756] and parameters: {'alpha': 0.09710576534601223, 'max_depth': 7, 'eta': 0.1835864240964316, 'subsample': 0.872143282534935, 'colsample_bytree': 0.9532604182421414}.\n",
      "[I 2025-05-15 00:17:01,733] Trial 1118 finished with values: [0.692852744667359, 0.05246791415501332] and parameters: {'alpha': 0.6308330624115891, 'max_depth': 6, 'eta': 0.24431474510203355, 'subsample': 0.807108008558591, 'colsample_bytree': 0.6268842887986352}.\n",
      "[I 2025-05-15 00:17:02,311] Trial 1119 finished with values: [0.6857180493393744, 0.05998783825346717] and parameters: {'alpha': 0.2550869292302135, 'max_depth': 7, 'eta': 0.1835864240964316, 'subsample': 0.872143282534935, 'colsample_bytree': 0.8778999079756078}.\n",
      "[I 2025-05-15 00:17:02,607] Trial 1120 finished with values: [0.7007104061170285, 0.0562699013219369] and parameters: {'alpha': 0.6370308795473967, 'max_depth': 7, 'eta': 0.22739873665679933, 'subsample': 0.8376771934629543, 'colsample_bytree': 0.7299194938174263}.\n",
      "[I 2025-05-15 00:17:02,947] Trial 1121 finished with values: [0.7157119531419923, 0.07191833839084048] and parameters: {'alpha': 0.8694173170637239, 'max_depth': 7, 'eta': 0.24026710755528385, 'subsample': 0.8376771934629543, 'colsample_bytree': 0.7467898426760461}.\n",
      "[I 2025-05-15 00:17:03,115] Trial 1122 finished with values: [0.6964354094102005, 0.06727254246346921] and parameters: {'alpha': 0.9334838613035882, 'max_depth': 7, 'eta': 0.1835864240964316, 'subsample': 0.8493505201360313, 'colsample_bytree': 0.6268842887986352}.\n",
      "[I 2025-05-15 00:17:03,245] Trial 1123 finished with values: [0.6678690573563335, 0.027373249073941897] and parameters: {'alpha': 0.22601217229786574, 'max_depth': 3, 'eta': 0.24431474510203355, 'subsample': 0.6766262078975724, 'colsample_bytree': 0.6198060693014039}.\n",
      "[I 2025-05-15 00:17:03,361] Trial 1124 finished with values: [0.5000061268315397, 0.0] and parameters: {'alpha': 0.006398238570445525, 'max_depth': 7, 'eta': 0.15780100657948715, 'subsample': 0.7645830844743573, 'colsample_bytree': 0.6846054564616372}.\n",
      "[I 2025-05-15 00:17:03,479] Trial 1125 finished with values: [0.5000061268315397, 0.0] and parameters: {'alpha': 0.006398238570445525, 'max_depth': 7, 'eta': 0.1835864240964316, 'subsample': 0.6500142472469429, 'colsample_bytree': 0.9171521282961637}.\n",
      "[I 2025-05-15 00:17:03,676] Trial 1126 finished with values: [0.6778665147212445, 0.029977397057729133] and parameters: {'alpha': 0.22601217229786574, 'max_depth': 4, 'eta': 0.21500273048430651, 'subsample': 0.872143282534935, 'colsample_bytree': 0.6346180096533811}.\n",
      "[I 2025-05-15 00:17:03,836] Trial 1127 finished with values: [0.5000061268315397, 0.0] and parameters: {'alpha': 0.006398238570445525, 'max_depth': 5, 'eta': 0.10749039742554378, 'subsample': 0.6766262078975724, 'colsample_bytree': 0.6346180096533811}.\n",
      "[I 2025-05-15 00:17:04,204] Trial 1128 finished with values: [0.6735853911828767, 0.027552201892620087] and parameters: {'alpha': 0.22601217229786574, 'max_depth': 5, 'eta': 0.15511827510132917, 'subsample': 0.6766262078975724, 'colsample_bytree': 0.6268842887986352}.\n",
      "[I 2025-05-15 00:17:04,388] Trial 1129 finished with values: [0.6742991670572521, 0.032883906592925914] and parameters: {'alpha': 0.22601217229786574, 'max_depth': 3, 'eta': 0.23813647636124352, 'subsample': 0.6766262078975724, 'colsample_bytree': 0.7894887198211535}.\n",
      "[I 2025-05-15 00:17:04,566] Trial 1130 finished with values: [0.6778619195975897, 0.019288823893766238] and parameters: {'alpha': 0.33039597107471375, 'max_depth': 6, 'eta': 0.1835864240964316, 'subsample': 0.8493505201360313, 'colsample_bytree': 0.6346180096533811}.\n",
      "[I 2025-05-15 00:17:04,803] Trial 1131 finished with values: [0.5000061268315397, 0.0] and parameters: {'alpha': 0.008318822215806598, 'max_depth': 7, 'eta': 0.23813647636124352, 'subsample': 0.6766262078975724, 'colsample_bytree': 0.7642776900822141}.\n",
      "[I 2025-05-15 00:17:05,007] Trial 1132 finished with values: [0.6700149801031147, 0.015901629292546238] and parameters: {'alpha': 0.10737717032678396, 'max_depth': 4, 'eta': 0.1919795686809288, 'subsample': 0.6766262078975724, 'colsample_bytree': 0.6479107585243286}.\n",
      "[I 2025-05-15 00:17:05,239] Trial 1133 finished with values: [0.6792894713463405, 0.023134756804437957] and parameters: {'alpha': 0.22601217229786574, 'max_depth': 5, 'eta': 0.2559390354419222, 'subsample': 0.6766262078975724, 'colsample_bytree': 0.7021855618980901}.\n",
      "[I 2025-05-15 00:17:05,379] Trial 1134 finished with values: [0.6621527235297903, 0.024485752721636528] and parameters: {'alpha': 0.05955775696607879, 'max_depth': 4, 'eta': 0.21500273048430651, 'subsample': 0.7645830844743573, 'colsample_bytree': 0.9532604182421414}.\n",
      "[I 2025-05-15 00:17:05,539] Trial 1135 finished with values: [0.680006310636486, 0.04665867588822691] and parameters: {'alpha': 0.8694173170637239, 'max_depth': 4, 'eta': 0.1835864240964316, 'subsample': 0.8493505201360313, 'colsample_bytree': 0.6346180096533811}.\n",
      "[I 2025-05-15 00:17:05,723] Trial 1136 finished with values: [0.6928634666225535, 0.04163501520740448] and parameters: {'alpha': 0.22601217229786574, 'max_depth': 5, 'eta': 0.24431474510203355, 'subsample': 0.6766262078975724, 'colsample_bytree': 0.7916916192189479}.\n",
      "[I 2025-05-15 00:17:05,954] Trial 1137 finished with values: [0.704274690365251, 0.055059027944052846] and parameters: {'alpha': 0.8694173170637239, 'max_depth': 7, 'eta': 0.1835864240964316, 'subsample': 0.8493505201360313, 'colsample_bytree': 0.9532604182421414}.\n",
      "[I 2025-05-15 00:17:06,078] Trial 1138 finished with values: [0.5000061268315397, 0.0] and parameters: {'alpha': 0.006398238570445525, 'max_depth': 7, 'eta': 0.07253350513913152, 'subsample': 0.7645830844743573, 'colsample_bytree': 0.6846054564616372}.\n",
      "[I 2025-05-15 00:17:06,243] Trial 1139 finished with values: [0.7135660303952113, 0.06669384886751864] and parameters: {'alpha': 0.8694173170637239, 'max_depth': 7, 'eta': 0.1835864240964316, 'subsample': 0.872143282534935, 'colsample_bytree': 0.9532604182421414}.\n",
      "[I 2025-05-15 00:17:06,414] Trial 1140 finished with values: [0.7078527599844379, 0.05972633710066964] and parameters: {'alpha': 0.8694173170637239, 'max_depth': 7, 'eta': 0.2059704199259883, 'subsample': 0.872143282534935, 'colsample_bytree': 0.7171393924105901}.\n",
      "[I 2025-05-15 00:17:06,535] Trial 1141 finished with values: [0.5000061268315397, 0.0] and parameters: {'alpha': 0.006398238570445525, 'max_depth': 7, 'eta': 0.15511827510132917, 'subsample': 0.8493505201360313, 'colsample_bytree': 0.6846054564616372}.\n",
      "[I 2025-05-15 00:17:06,657] Trial 1142 finished with values: [0.5000061268315397, 0.0] and parameters: {'alpha': 0.006398238570445525, 'max_depth': 7, 'eta': 0.22739873665679933, 'subsample': 0.8493505201360313, 'colsample_bytree': 0.9532604182421414}.\n",
      "[I 2025-05-15 00:17:06,888] Trial 1143 finished with values: [0.6742976353493672, 0.034814393120331875] and parameters: {'alpha': 0.22601217229786574, 'max_depth': 7, 'eta': 0.10022879453843885, 'subsample': 0.9420675053589684, 'colsample_bytree': 0.6755621088801016}.\n",
      "[I 2025-05-15 00:17:07,104] Trial 1144 finished with values: [0.6828583507182179, 0.06711007565655153] and parameters: {'alpha': 0.2914913694524284, 'max_depth': 5, 'eta': 0.23813647636124352, 'subsample': 0.9729948151739269, 'colsample_bytree': 0.9567006871384414}.\n",
      "[I 2025-05-15 00:17:07,239] Trial 1145 finished with values: [0.7071497060652568, 0.07613524590937885] and parameters: {'alpha': 0.8694173170637239, 'max_depth': 7, 'eta': 0.2059704199259883, 'subsample': 0.872143282534935, 'colsample_bytree': 0.6846054564616372}.\n",
      "[I 2025-05-15 00:17:07,306] Trial 1146 finished with values: [0.5000061268315397, 0.0] and parameters: {'alpha': 0.006398238570445525, 'max_depth': 3, 'eta': 0.22739873665679933, 'subsample': 0.6249735643255049, 'colsample_bytree': 0.8778999079756078}.\n",
      "[I 2025-05-15 00:17:07,406] Trial 1147 finished with values: [0.6742884451020577, 0.042844996824049575] and parameters: {'alpha': 0.8694173170637239, 'max_depth': 4, 'eta': 0.19765219724160685, 'subsample': 0.8493505201360313, 'colsample_bytree': 0.9611620505991075}.\n",
      "[I 2025-05-15 00:17:07,537] Trial 1148 finished with values: [0.673579264351337, 0.030732240926232307] and parameters: {'alpha': 0.21019292474256923, 'max_depth': 5, 'eta': 0.20582772581469938, 'subsample': 0.9109003312101174, 'colsample_bytree': 0.6268842887986352}.\n",
      "[I 2025-05-15 00:17:07,827] Trial 1149 finished with values: [0.6764450898040333, 0.020199502278354004] and parameters: {'alpha': 0.22922811182883618, 'max_depth': 4, 'eta': 0.24431474510203355, 'subsample': 0.6868510129794348, 'colsample_bytree': 0.6198060693014039}.\n",
      "[I 2025-05-15 00:17:08,207] Trial 1150 finished with values: [0.6978644928668364, 0.05881030541534604] and parameters: {'alpha': 0.8694173170637239, 'max_depth': 5, 'eta': 0.1835864240964316, 'subsample': 0.8493505201360313, 'colsample_bytree': 0.6832524816625775}.\n",
      "[I 2025-05-15 00:17:08,515] Trial 1151 finished with values: [0.679281812806916, 0.041815872750705974] and parameters: {'alpha': 0.6370308795473967, 'max_depth': 6, 'eta': 0.24431474510203355, 'subsample': 0.6766262078975724, 'colsample_bytree': 0.6268842887986352}.\n",
      "[I 2025-05-15 00:17:08,899] Trial 1152 finished with values: [0.7028670508190041, 0.08083941132070627] and parameters: {'alpha': 0.8694173170637239, 'max_depth': 7, 'eta': 0.24431474510203355, 'subsample': 0.7645830844743573, 'colsample_bytree': 0.6265184250751515}.\n",
      "[I 2025-05-15 00:17:09,210] Trial 1153 finished with values: [0.6892869287112516, 0.046821933272787] and parameters: {'alpha': 0.5062203669933504, 'max_depth': 6, 'eta': 0.2541034963308007, 'subsample': 0.8613255687189196, 'colsample_bytree': 0.6198060693014039}.\n",
      "[I 2025-05-15 00:17:09,632] Trial 1154 finished with values: [0.676431304433069, 0.03341000592272925] and parameters: {'alpha': 0.1969377196701172, 'max_depth': 7, 'eta': 0.24026710755528385, 'subsample': 0.8376771934629543, 'colsample_bytree': 0.6346180096533811}.\n",
      "[I 2025-05-15 00:17:09,862] Trial 1155 finished with values: [0.5000061268315397, 0.0] and parameters: {'alpha': 0.006398238570445525, 'max_depth': 7, 'eta': 0.2551600239103733, 'subsample': 0.6189853033676825, 'colsample_bytree': 0.9532604182421414}.\n",
      "[I 2025-05-15 00:17:10,184] Trial 1156 finished with values: [0.6714379367282106, 0.048123473709789165] and parameters: {'alpha': 0.22601217229786574, 'max_depth': 5, 'eta': 0.24026710755528385, 'subsample': 0.9485163716706397, 'colsample_bytree': 0.9901074621532081}.\n",
      "[I 2025-05-15 00:17:10,761] Trial 1157 finished with values: [0.5000061268315397, 0.0] and parameters: {'alpha': 0.006398238570445525, 'max_depth': 3, 'eta': 0.07253350513913152, 'subsample': 0.8547854469270306, 'colsample_bytree': 0.9119646997173432}.\n",
      "[I 2025-05-15 00:17:11,255] Trial 1158 finished with values: [0.6807231499266312, 0.03358086339729464] and parameters: {'alpha': 0.22601217229786574, 'max_depth': 7, 'eta': 0.18406969299748438, 'subsample': 0.6766262078975724, 'colsample_bytree': 0.6198060693014039}.\n",
      "[I 2025-05-15 00:17:11,571] Trial 1159 finished with values: [0.5000061268315397, 0.0] and parameters: {'alpha': 0.006398238570445525, 'max_depth': 7, 'eta': 0.15511827510132917, 'subsample': 0.8493505201360313, 'colsample_bytree': 0.6846054564616372}.\n",
      "[I 2025-05-15 00:17:11,965] Trial 1160 finished with values: [0.6807216182187462, 0.023067111538977985] and parameters: {'alpha': 0.22601217229786574, 'max_depth': 7, 'eta': 0.19718241629312894, 'subsample': 0.6766262078975724, 'colsample_bytree': 0.6268842887986352}.\n",
      "[I 2025-05-15 00:17:12,225] Trial 1161 finished with values: [0.5000061268315397, 0.0] and parameters: {'alpha': 0.0018713778605690123, 'max_depth': 7, 'eta': 0.07253350513913152, 'subsample': 0.8088010652239656, 'colsample_bytree': 0.6268842887986352}.\n",
      "[I 2025-05-15 00:17:12,776] Trial 1162 finished with values: [0.6821568285069217, 0.056742973442413885] and parameters: {'alpha': 0.8737851841843908, 'max_depth': 3, 'eta': 0.24431474510203355, 'subsample': 0.6075666451278546, 'colsample_bytree': 0.6846054564616372}.\n",
      "[I 2025-05-15 00:17:13,176] Trial 1163 finished with values: [0.7035670413224153, 0.08133766954436085] and parameters: {'alpha': 0.8694173170637239, 'max_depth': 7, 'eta': 0.1598747010329465, 'subsample': 0.6631956570556669, 'colsample_bytree': 0.7749702969225042}.\n",
      "[I 2025-05-15 00:17:13,405] Trial 1164 finished with values: [0.5000061268315397, 0.0] and parameters: {'alpha': 0.006398238570445525, 'max_depth': 5, 'eta': 0.14830099138563985, 'subsample': 0.9366052391433085, 'colsample_bytree': 0.9532604182421414}.\n",
      "[I 2025-05-15 00:17:13,767] Trial 1165 finished with values: [0.6671614083134978, 0.016442252492163068] and parameters: {'alpha': 0.12082713516430721, 'max_depth': 7, 'eta': 0.1919795686809288, 'subsample': 0.7878496935681973, 'colsample_bytree': 0.6346180096533811}.\n",
      "[I 2025-05-15 00:17:14,216] Trial 1166 finished with values: [0.6835721265925933, 0.0525765791129554] and parameters: {'alpha': 0.4917150750778906, 'max_depth': 5, 'eta': 0.20496881340621426, 'subsample': 0.807108008558591, 'colsample_bytree': 0.6479107585243286}.\n",
      "[I 2025-05-15 00:17:14,516] Trial 1167 finished with values: [0.5000061268315397, 0.0] and parameters: {'alpha': 0.006398238570445525, 'max_depth': 5, 'eta': 0.24431474510203355, 'subsample': 0.6766262078975724, 'colsample_bytree': 0.6624630554926771}.\n",
      "[I 2025-05-15 00:17:15,271] Trial 1168 finished with values: [0.6635726167391165, 0.026327395063535968] and parameters: {'alpha': 0.22601217229786574, 'max_depth': 5, 'eta': 0.20272671699810668, 'subsample': 0.9392444426475146, 'colsample_bytree': 0.6198060693014039}.\n",
      "[I 2025-05-15 00:17:15,707] Trial 1169 finished with values: [0.7000134790293874, 0.04490235715598193] and parameters: {'alpha': 0.8694173170637239, 'max_depth': 6, 'eta': 0.1919795686809288, 'subsample': 0.8493505201360313, 'colsample_bytree': 0.6346180096533811}.\n",
      "[I 2025-05-15 00:17:16,009] Trial 1170 finished with values: [0.6771466120153292, 0.03303388606002986] and parameters: {'alpha': 0.22601217229786574, 'max_depth': 5, 'eta': 0.24431474510203355, 'subsample': 0.9521169334389209, 'colsample_bytree': 0.6163250419587067}.\n",
      "[I 2025-05-15 00:17:16,245] Trial 1171 finished with values: [0.5000061268315397, 0.0] and parameters: {'alpha': 0.006398238570445525, 'max_depth': 6, 'eta': 0.05148993795553561, 'subsample': 0.8493505201360313, 'colsample_bytree': 0.6479107585243286}.\n",
      "[I 2025-05-15 00:17:17,845] Trial 1172 finished with values: [0.6821461065517274, 0.045501992040333124] and parameters: {'alpha': 0.6370308795473967, 'max_depth': 7, 'eta': 0.08132953995038536, 'subsample': 0.8088010652239656, 'colsample_bytree': 0.6268842887986352}.\n",
      "[I 2025-05-15 00:17:19,058] Trial 1173 finished with values: [0.6678705890642185, 0.027292958038532805] and parameters: {'alpha': 0.22601217229786574, 'max_depth': 5, 'eta': 0.05410609764840453, 'subsample': 0.6766262078975724, 'colsample_bytree': 0.6268842887986352}.\n",
      "[I 2025-05-15 00:17:21,491] Trial 1174 finished with values: [0.6742899768099426, 0.0424597581802341] and parameters: {'alpha': 0.8107237248476563, 'max_depth': 4, 'eta': 0.20219899466847313, 'subsample': 0.6766262078975724, 'colsample_bytree': 0.6346180096533811}.\n",
      "[I 2025-05-15 00:17:22,424] Trial 1175 finished with values: [0.6721501808947012, 0.044233248704006856] and parameters: {'alpha': 0.22601217229786574, 'max_depth': 6, 'eta': 0.23813647636124352, 'subsample': 0.9928766911538679, 'colsample_bytree': 0.6268842887986352}.\n",
      "[I 2025-05-15 00:17:23,760] Trial 1176 finished with values: [0.6850058051728839, 0.06375919024731246] and parameters: {'alpha': 0.8694173170637239, 'max_depth': 6, 'eta': 0.07253350513913152, 'subsample': 0.8088010652239656, 'colsample_bytree': 0.6268842887986352}.\n",
      "[I 2025-05-15 00:17:24,097] Trial 1177 finished with values: [0.5000061268315397, 0.0] and parameters: {'alpha': 0.006398238570445525, 'max_depth': 4, 'eta': 0.08874373348950182, 'subsample': 0.6500142472469429, 'colsample_bytree': 0.7642776900822141}.\n",
      "[I 2025-05-15 00:17:25,090] Trial 1178 finished with values: [0.7100094046864135, 0.061518217556398] and parameters: {'alpha': 0.8694173170637239, 'max_depth': 7, 'eta': 0.1835864240964316, 'subsample': 0.8493505201360313, 'colsample_bytree': 0.6479107585243286}.\n",
      "[I 2025-05-15 00:17:27,100] Trial 1179 finished with values: [0.6600098641987789, 0.020433544747209532] and parameters: {'alpha': 0.12082713516430721, 'max_depth': 6, 'eta': 0.15511827510132917, 'subsample': 0.7126649411379313, 'colsample_bytree': 0.7171393924105901}.\n",
      "[I 2025-05-15 00:17:27,844] Trial 1180 finished with values: [0.5000061268315397, 0.0] and parameters: {'alpha': 0.006398238570445525, 'max_depth': 4, 'eta': 0.21500273048430651, 'subsample': 0.6180470134285189, 'colsample_bytree': 0.9171521282961637}.\n",
      "[I 2025-05-15 00:17:28,633] Trial 1181 finished with values: [0.7135644986873263, 0.08659483300181521] and parameters: {'alpha': 0.8694173170637239, 'max_depth': 7, 'eta': 0.21500273048430651, 'subsample': 0.872143282534935, 'colsample_bytree': 0.9532604182421414}.\n",
      "[I 2025-05-15 00:17:29,416] Trial 1182 finished with values: [0.6607159815337297, 0.03466342512174805] and parameters: {'alpha': 0.22601217229786574, 'max_depth': 7, 'eta': 0.07253350513913152, 'subsample': 0.6766262078975724, 'colsample_bytree': 0.7916916192189479}.\n",
      "[I 2025-05-15 00:17:29,759] Trial 1183 finished with values: [0.6749976258527783, 0.06472864931272022] and parameters: {'alpha': 0.6370308795473967, 'max_depth': 5, 'eta': 0.12539121254491695, 'subsample': 0.6766262078975724, 'colsample_bytree': 0.7916916192189479}.\n",
      "[I 2025-05-15 00:17:30,012] Trial 1184 finished with values: [0.5000061268315397, 0.0] and parameters: {'alpha': 0.006398238570445525, 'max_depth': 4, 'eta': 0.18872889505265109, 'subsample': 0.872143282534935, 'colsample_bytree': 0.9611620505991075}.\n",
      "[I 2025-05-15 00:17:30,475] Trial 1185 finished with values: [0.5000061268315397, 0.0] and parameters: {'alpha': 0.006398238570445525, 'max_depth': 3, 'eta': 0.15511827510132917, 'subsample': 0.8621180142479564, 'colsample_bytree': 0.6846054564616372}.\n",
      "[I 2025-05-15 00:17:30,845] Trial 1186 finished with values: [0.6707119071907558, 0.03247342802356475] and parameters: {'alpha': 0.22601217229786574, 'max_depth': 6, 'eta': 0.10749039742554378, 'subsample': 0.807108008558591, 'colsample_bytree': 0.9779593063575983}.\n",
      "[I 2025-05-15 00:17:31,187] Trial 1187 finished with values: [0.7142798062695866, 0.06159230683339544] and parameters: {'alpha': 0.8694173170637239, 'max_depth': 6, 'eta': 0.2276608685041732, 'subsample': 0.807108008558591, 'colsample_bytree': 0.7467898426760461}.\n",
      "[I 2025-05-15 00:17:31,577] Trial 1188 finished with values: [0.6949925405826004, 0.05740400605260548] and parameters: {'alpha': 0.8650974621744729, 'max_depth': 5, 'eta': 0.24431474510203355, 'subsample': 0.6766262078975724, 'colsample_bytree': 0.6198060693014039}.\n",
      "[I 2025-05-15 00:17:31,897] Trial 1189 finished with values: [0.664304773108111, 0.0190576007568599] and parameters: {'alpha': 0.12082713516430721, 'max_depth': 3, 'eta': 0.24026710755528385, 'subsample': 0.6711465489743247, 'colsample_bytree': 0.7171393924105901}.\n",
      "[I 2025-05-15 00:17:32,277] Trial 1190 finished with values: [0.7014349039465987, 0.07545643172881447] and parameters: {'alpha': 0.7651312492458315, 'max_depth': 6, 'eta': 0.1919795686809288, 'subsample': 0.807108008558591, 'colsample_bytree': 0.6541253495986791}.\n",
      "[I 2025-05-15 00:17:32,530] Trial 1191 finished with values: [0.6757190602665784, 0.030757781255160915] and parameters: {'alpha': 0.508403520747503, 'max_depth': 5, 'eta': 0.15780100657948715, 'subsample': 0.807108008558591, 'colsample_bytree': 0.6346180096533811}.\n",
      "[I 2025-05-15 00:17:32,810] Trial 1192 finished with values: [0.6999935668268833, 0.06819075399349689] and parameters: {'alpha': 0.8694173170637239, 'max_depth': 5, 'eta': 0.24026710755528385, 'subsample': 0.872143282534935, 'colsample_bytree': 0.9532604182421414}.\n",
      "[I 2025-05-15 00:17:33,075] Trial 1193 finished with values: [0.6721501808947012, 0.06189962460838306] and parameters: {'alpha': 0.6370308795473967, 'max_depth': 3, 'eta': 0.24431474510203355, 'subsample': 0.6692739523624326, 'colsample_bytree': 0.6198060693014039}.\n",
      "[I 2025-05-15 00:17:33,290] Trial 1194 finished with values: [0.6721517126025861, 0.061984077220914736] and parameters: {'alpha': 0.8694173170637239, 'max_depth': 3, 'eta': 0.24431474510203355, 'subsample': 0.8493505201360313, 'colsample_bytree': 0.8849923349349937}.\n",
      "[I 2025-05-15 00:17:33,770] Trial 1195 finished with values: [0.704274690365251, 0.055059027944052846] and parameters: {'alpha': 0.8694173170637239, 'max_depth': 7, 'eta': 0.1835864240964316, 'subsample': 0.8493505201360313, 'colsample_bytree': 0.9532604182421414}.\n",
      "[I 2025-05-15 00:17:34,385] Trial 1196 finished with values: [0.6735792643513371, 0.04491688227643451] and parameters: {'alpha': 0.9024574385211798, 'max_depth': 5, 'eta': 0.01616452263706085, 'subsample': 0.6766262078975724, 'colsample_bytree': 0.6595141437609919}.\n",
      "[I 2025-05-15 00:17:34,908] Trial 1197 finished with values: [0.7071451109416022, 0.0484954603626066] and parameters: {'alpha': 0.8694173170637239, 'max_depth': 6, 'eta': 0.24431474510203355, 'subsample': 0.8493505201360313, 'colsample_bytree': 0.8849923349349937}.\n",
      "[I 2025-05-15 00:17:35,296] Trial 1198 finished with values: [0.6657185394858977, 0.04921372683070919] and parameters: {'alpha': 0.6370308795473967, 'max_depth': 3, 'eta': 0.22739873665679933, 'subsample': 0.8493505201360313, 'colsample_bytree': 0.7916916192189479}.\n",
      "[I 2025-05-15 00:17:35,822] Trial 1199 finished with values: [0.669304267644509, 0.03687804247715993] and parameters: {'alpha': 0.12082713516430721, 'max_depth': 7, 'eta': 0.23813647636124352, 'subsample': 0.6631956570556669, 'colsample_bytree': 0.6346180096533811}.\n",
      "[I 2025-05-15 00:17:36,301] Trial 1200 finished with values: [0.6885838747920707, 0.05923354829469729] and parameters: {'alpha': 0.8433605171990599, 'max_depth': 5, 'eta': 0.21901686836526663, 'subsample': 0.6064963665578647, 'colsample_bytree': 0.9611620505991075}.\n",
      "[I 2025-05-15 00:17:36,580] Trial 1201 finished with values: [0.6742915085178275, 0.04780393914207575] and parameters: {'alpha': 0.8694173170637239, 'max_depth': 5, 'eta': 0.1835864240964316, 'subsample': 0.6517400434682014, 'colsample_bytree': 0.7111509552489264}.\n",
      "[I 2025-05-15 00:17:36,783] Trial 1202 finished with values: [0.5000061268315397, 0.0] and parameters: {'alpha': 0.006398238570445525, 'max_depth': 5, 'eta': 0.2551600239103733, 'subsample': 0.6401863887846503, 'colsample_bytree': 0.9532604182421414}.\n",
      "[I 2025-05-15 00:17:37,108] Trial 1203 finished with values: [0.6985552931229378, 0.08124862941593859] and parameters: {'alpha': 0.7176720893723075, 'max_depth': 7, 'eta': 0.21500273048430651, 'subsample': 0.6766262078975724, 'colsample_bytree': 0.9532604182421414}.\n",
      "[I 2025-05-15 00:17:37,414] Trial 1204 finished with values: [0.5000061268315397, 0.0] and parameters: {'alpha': 0.006398238570445525, 'max_depth': 6, 'eta': 0.15511827510132917, 'subsample': 0.7126649411379313, 'colsample_bytree': 0.6846054564616372}.\n",
      "[I 2025-05-15 00:17:37,635] Trial 1205 finished with values: [0.5000061268315397, 0.0] and parameters: {'alpha': 0.006398238570445525, 'max_depth': 6, 'eta': 0.24431474510203355, 'subsample': 0.8001272980105426, 'colsample_bytree': 0.9171521282961637}.\n",
      "[I 2025-05-15 00:17:38,080] Trial 1206 finished with values: [0.6871486645038951, 0.04198403070689243] and parameters: {'alpha': 0.5850329245659536, 'max_depth': 6, 'eta': 0.24431474510203355, 'subsample': 0.8493505201360313, 'colsample_bytree': 0.6268842887986352}.\n",
      "[I 2025-05-15 00:17:38,322] Trial 1207 finished with values: [0.5000061268315397, 0.0] and parameters: {'alpha': 0.006398238570445525, 'max_depth': 3, 'eta': 0.11724451180747314, 'subsample': 0.6766262078975724, 'colsample_bytree': 0.7730914500445354}.\n",
      "[I 2025-05-15 00:17:38,617] Trial 1208 finished with values: [0.6750129429316276, 0.026614312517956762] and parameters: {'alpha': 0.22601217229786574, 'max_depth': 5, 'eta': 0.1835864240964316, 'subsample': 0.6766262078975724, 'colsample_bytree': 0.814301779206637}.\n",
      "[I 2025-05-15 00:17:38,870] Trial 1209 finished with values: [0.5000061268315397, 0.0] and parameters: {'alpha': 0.006398238570445525, 'max_depth': 7, 'eta': 0.2551600239103733, 'subsample': 0.6189853033676825, 'colsample_bytree': 0.6971094853709596}.\n",
      "[I 2025-05-15 00:17:39,376] Trial 1210 finished with values: [0.6928558080831287, 0.04518098434258414] and parameters: {'alpha': 0.8694173170637239, 'max_depth': 5, 'eta': 0.1835864240964316, 'subsample': 0.8493505201360313, 'colsample_bytree': 0.6346180096533811}.\n",
      "[I 2025-05-15 00:17:39,696] Trial 1211 finished with values: [0.6800001838049462, 0.03217041455506799] and parameters: {'alpha': 0.22601217229786574, 'max_depth': 6, 'eta': 0.24431474510203355, 'subsample': 0.8766344355602371, 'colsample_bytree': 0.6479107585243286}.\n",
      "[I 2025-05-15 00:17:40,151] Trial 1212 finished with values: [0.5000061268315397, 0.0] and parameters: {'alpha': 0.006398238570445525, 'max_depth': 3, 'eta': 0.1835864240964316, 'subsample': 0.8072227720277739, 'colsample_bytree': 0.9149937547959489}.\n",
      "[I 2025-05-15 00:17:40,514] Trial 1213 finished with values: [0.6950017308299099, 0.0399356957975203] and parameters: {'alpha': 0.6308330624115891, 'max_depth': 6, 'eta': 0.23813647636124352, 'subsample': 0.807108008558591, 'colsample_bytree': 0.6268842887986352}.\n",
      "[I 2025-05-15 00:17:40,884] Trial 1214 finished with values: [0.6635848704021959, 0.02110680827503525] and parameters: {'alpha': 0.12082713516430721, 'max_depth': 7, 'eta': 0.23813647636124352, 'subsample': 0.6766262078975724, 'colsample_bytree': 0.7171393924105901}.\n",
      "[I 2025-05-15 00:17:41,126] Trial 1215 finished with values: [0.5000061268315397, 0.0] and parameters: {'alpha': 0.0018713778605690123, 'max_depth': 7, 'eta': 0.23813647636124352, 'subsample': 0.6766262078975724, 'colsample_bytree': 0.6268842887986352}.\n",
      "[I 2025-05-15 00:17:41,540] Trial 1216 finished with values: [0.6642955828608015, 0.056601160295790424] and parameters: {'alpha': 0.7308581107621998, 'max_depth': 4, 'eta': 0.11573074888603836, 'subsample': 0.6500142472469429, 'colsample_bytree': 0.8267219153214019}.\n",
      "[I 2025-05-15 00:17:42,064] Trial 1217 finished with values: [0.6871410059644706, 0.06413695336560515] and parameters: {'alpha': 0.6334151327587273, 'max_depth': 7, 'eta': 0.08490298244312688, 'subsample': 0.8376771934629543, 'colsample_bytree': 0.9901074621532081}.\n",
      "[I 2025-05-15 00:17:42,444] Trial 1218 finished with values: [0.5000061268315397, 0.0] and parameters: {'alpha': 0.008318822215806598, 'max_depth': 3, 'eta': 0.07253350513913152, 'subsample': 0.6114695834697251, 'colsample_bytree': 0.9901074621532081}.\n",
      "[I 2025-05-15 00:17:42,669] Trial 1219 finished with values: [0.5000061268315397, 0.0] and parameters: {'alpha': 0.006398238570445525, 'max_depth': 3, 'eta': 0.23813647636124352, 'subsample': 0.6766262078975724, 'colsample_bytree': 0.8778999079756078}.\n",
      "[I 2025-05-15 00:17:42,917] Trial 1220 finished with values: [0.6700027264400351, 0.043392252111906095] and parameters: {'alpha': 0.8694173170637239, 'max_depth': 4, 'eta': 0.1835864240964316, 'subsample': 0.965899753409814, 'colsample_bytree': 0.6268842887986352}.\n",
      "[I 2025-05-15 00:17:43,206] Trial 1221 finished with values: [0.7078558234002078, 0.07290122074748909] and parameters: {'alpha': 0.8694173170637239, 'max_depth': 7, 'eta': 0.1835864240964316, 'subsample': 0.8621180142479564, 'colsample_bytree': 0.6268842887986352}.\n",
      "[I 2025-05-15 00:17:43,850] Trial 1222 finished with values: [0.6785695686404255, 0.07302783233920164] and parameters: {'alpha': 0.6885940588037207, 'max_depth': 7, 'eta': 0.01915124831528362, 'subsample': 0.8088010652239656, 'colsample_bytree': 0.7467898426760461}.\n",
      "[I 2025-05-15 00:17:44,090] Trial 1223 finished with values: [0.6957216335358251, 0.04910032601761766] and parameters: {'alpha': 0.8694173170637239, 'max_depth': 5, 'eta': 0.24431474510203355, 'subsample': 0.6596856892372508, 'colsample_bytree': 0.6346180096533811}.\n",
      "[I 2025-05-15 00:17:44,390] Trial 1224 finished with values: [0.6850088685886537, 0.03617788702472091] and parameters: {'alpha': 0.22601217229786574, 'max_depth': 7, 'eta': 0.2059704199259883, 'subsample': 0.6766262078975724, 'colsample_bytree': 0.6346180096533811}.\n",
      "[I 2025-05-15 00:17:44,684] Trial 1225 finished with values: [0.6821476382596122, 0.03493044362526613] and parameters: {'alpha': 0.3638907264785335, 'max_depth': 6, 'eta': 0.1919795686809288, 'subsample': 0.8493505201360313, 'colsample_bytree': 0.6346180096533811}.\n",
      "[I 2025-05-15 00:17:44,913] Trial 1226 finished with values: [0.6785772271798501, 0.05915845414898546] and parameters: {'alpha': 0.8694173170637239, 'max_depth': 4, 'eta': 0.1835864240964316, 'subsample': 0.7126649411379313, 'colsample_bytree': 0.8543359413021929}.\n",
      "[I 2025-05-15 00:17:45,120] Trial 1227 finished with values: [0.5000061268315397, 0.0] and parameters: {'alpha': 0.0018713778605690123, 'max_depth': 5, 'eta': 0.23813647636124352, 'subsample': 0.6766262078975724, 'colsample_bytree': 0.6268842887986352}.\n",
      "[I 2025-05-15 00:17:45,514] Trial 1228 finished with values: [0.6821384480123026, 0.05195608860333086] and parameters: {'alpha': 0.8694173170637239, 'max_depth': 5, 'eta': 0.05949697880060833, 'subsample': 0.8376771934629543, 'colsample_bytree': 0.9901074621532081}.\n",
      "[I 2025-05-15 00:17:45,979] Trial 1229 finished with values: [0.7128384691498715, 0.07588601197232707] and parameters: {'alpha': 0.8550660612053472, 'max_depth': 7, 'eta': 0.2993464079866915, 'subsample': 0.6500142472469429, 'colsample_bytree': 0.9171521282961637}.\n",
      "[I 2025-05-15 00:17:46,232] Trial 1230 finished with values: [0.5000061268315397, 0.0] and parameters: {'alpha': 0.006398238570445525, 'max_depth': 7, 'eta': 0.014703513519443275, 'subsample': 0.8493505201360313, 'colsample_bytree': 0.6846054564616372}.\n",
      "[I 2025-05-15 00:17:46,729] Trial 1231 finished with values: [0.6764374312646085, 0.02735625422316697] and parameters: {'alpha': 0.22601217229786574, 'max_depth': 4, 'eta': 0.24431474510203355, 'subsample': 0.6766262078975724, 'colsample_bytree': 0.6346180096533811}.\n",
      "[I 2025-05-15 00:17:47,175] Trial 1232 finished with values: [0.6721486491868163, 0.026037470055541818] and parameters: {'alpha': 0.22601217229786574, 'max_depth': 5, 'eta': 0.24431474510203355, 'subsample': 0.7645830844743573, 'colsample_bytree': 0.6479107585243286}.\n",
      "[I 2025-05-15 00:17:47,617] Trial 1233 finished with values: [0.7142798062695866, 0.06159230683339544] and parameters: {'alpha': 0.8694173170637239, 'max_depth': 6, 'eta': 0.2276608685041732, 'subsample': 0.807108008558591, 'colsample_bytree': 0.7467898426760461}.\n",
      "[I 2025-05-15 00:17:47,707] Trial 1234 finished with values: [0.6964354094102005, 0.0687226763179291] and parameters: {'alpha': 0.8694173170637239, 'max_depth': 6, 'eta': 0.15511827510132917, 'subsample': 0.8493505201360313, 'colsample_bytree': 0.6846054564616372}.\n",
      "[I 2025-05-15 00:17:47,883] Trial 1235 finished with values: [0.7135614352715565, 0.082529860294672] and parameters: {'alpha': 0.8694173170637239, 'max_depth': 7, 'eta': 0.1835864240964316, 'subsample': 0.8493505201360313, 'colsample_bytree': 0.8849923349349937}.\n",
      "[I 2025-05-15 00:17:48,004] Trial 1236 finished with values: [0.6985690784939022, 0.03246466178368664] and parameters: {'alpha': 0.8694173170637239, 'max_depth': 7, 'eta': 0.1835864240964316, 'subsample': 0.8396092253214011, 'colsample_bytree': 0.6479107585243286}.\n",
      "[I 2025-05-15 00:17:48,196] Trial 1237 finished with values: [0.7121354152306906, 0.07287620695157593] and parameters: {'alpha': 0.8694173170637239, 'max_depth': 7, 'eta': 0.21500273048430651, 'subsample': 0.8493505201360313, 'colsample_bytree': 0.9846064958012767}.\n",
      "[I 2025-05-15 00:17:48,346] Trial 1238 finished with values: [0.6992935763234721, 0.041992281674114416] and parameters: {'alpha': 0.6370308795473967, 'max_depth': 7, 'eta': 0.24431474510203355, 'subsample': 0.8493505201360313, 'colsample_bytree': 0.6198060693014039}.\n",
      "[I 2025-05-15 00:17:48,482] Trial 1239 finished with values: [0.710700204942515, 0.08205120148227196] and parameters: {'alpha': 0.8694173170637239, 'max_depth': 6, 'eta': 0.24026710755528385, 'subsample': 0.807108008558591, 'colsample_bytree': 0.7467898426760461}.\n",
      "[I 2025-05-15 00:17:48,627] Trial 1240 finished with values: [0.6685858966464787, 0.035804207489394564] and parameters: {'alpha': 0.12082713516430721, 'max_depth': 5, 'eta': 0.15511827510132917, 'subsample': 0.7126649411379313, 'colsample_bytree': 0.9660134829204143}.\n",
      "[I 2025-05-15 00:17:48,767] Trial 1241 finished with values: [0.5000061268315397, 0.0] and parameters: {'alpha': 0.006398238570445525, 'max_depth': 7, 'eta': 0.1754377263933441, 'subsample': 0.9984601149714915, 'colsample_bytree': 0.7484713406312753}.\n",
      "[I 2025-05-15 00:17:48,873] Trial 1242 finished with values: [0.5000061268315397, 0.0] and parameters: {'alpha': 0.006398238570445525, 'max_depth': 7, 'eta': 0.23813647636124352, 'subsample': 0.9902258090707713, 'colsample_bytree': 0.6268842887986352}.\n",
      "[I 2025-05-15 00:17:49,000] Trial 1243 finished with values: [0.6928558080831287, 0.04518098434258414] and parameters: {'alpha': 0.8694173170637239, 'max_depth': 5, 'eta': 0.1835864240964316, 'subsample': 0.8493505201360313, 'colsample_bytree': 0.6346180096533811}.\n",
      "[I 2025-05-15 00:17:49,145] Trial 1244 finished with values: [0.7100063412706437, 0.05202165152874746] and parameters: {'alpha': 0.8913664166538733, 'max_depth': 7, 'eta': 0.22739873665679933, 'subsample': 0.8493505201360313, 'colsample_bytree': 0.6268842887986352}.\n",
      "[I 2025-05-15 00:17:49,279] Trial 1245 finished with values: [0.6771512071389841, 0.029793861320827047] and parameters: {'alpha': 0.22601217229786574, 'max_depth': 5, 'eta': 0.1835864240964316, 'subsample': 0.6766262078975724, 'colsample_bytree': 0.6268842887986352}.\n",
      "[I 2025-05-15 00:17:49,474] Trial 1246 finished with values: [0.6764358995567238, 0.0432151991529336] and parameters: {'alpha': 0.22601217229786574, 'max_depth': 5, 'eta': 0.24431474510203355, 'subsample': 0.8453742160292991, 'colsample_bytree': 0.8774661254003948}.\n",
      "[I 2025-05-15 00:17:49,598] Trial 1247 finished with values: [0.6864456105847142, 0.03813357740682832] and parameters: {'alpha': 0.22601217229786574, 'max_depth': 6, 'eta': 0.29874784178230857, 'subsample': 0.807108008558591, 'colsample_bytree': 0.6346180096533811}.\n",
      "[I 2025-05-15 00:17:49,741] Trial 1248 finished with values: [0.7178594075966584, 0.09619340886520296] and parameters: {'alpha': 0.8694173170637239, 'max_depth': 6, 'eta': 0.23989279483099366, 'subsample': 0.8376771934629543, 'colsample_bytree': 0.9901074621532081}.\n",
      "[I 2025-05-15 00:17:49,840] Trial 1249 finished with values: [0.5000061268315397, 0.0] and parameters: {'alpha': 0.006398238570445525, 'max_depth': 7, 'eta': 0.1835864240964316, 'subsample': 0.8493505201360313, 'colsample_bytree': 0.9171521282961637}.\n",
      "[I 2025-05-15 00:17:50,090] Trial 1250 finished with values: [0.6785772271798501, 0.026679658788661964] and parameters: {'alpha': 0.22601217229786574, 'max_depth': 4, 'eta': 0.25228978670102237, 'subsample': 0.6766262078975724, 'colsample_bytree': 0.6346180096533811}.\n",
      "[I 2025-05-15 00:17:50,584] Trial 1251 finished with values: [0.7192930861769491, 0.08048673475418706] and parameters: {'alpha': 0.7579200821617234, 'max_depth': 7, 'eta': 0.23813647636124352, 'subsample': 0.8493505201360313, 'colsample_bytree': 0.6346180096533811}.\n",
      "[I 2025-05-15 00:17:50,713] Trial 1252 finished with values: [0.721423691844881, 0.0716589919317326] and parameters: {'alpha': 0.8694173170637239, 'max_depth': 7, 'eta': 0.22739873665679933, 'subsample': 0.8493505201360313, 'colsample_bytree': 0.9901074621532081}.\n",
      "[I 2025-05-15 00:17:50,829] Trial 1253 finished with values: [0.6885900016236103, 0.025369084250282836] and parameters: {'alpha': 0.22601217229786574, 'max_depth': 5, 'eta': 0.23813647636124352, 'subsample': 0.6766262078975724, 'colsample_bytree': 0.6198060693014039}.\n",
      "[I 2025-05-15 00:17:50,943] Trial 1254 finished with values: [0.6871593864590896, 0.021637735156326516] and parameters: {'alpha': 0.22601217229786574, 'max_depth': 6, 'eta': 0.24431474510203355, 'subsample': 0.6766262078975724, 'colsample_bytree': 0.6268842887986352}.\n",
      "[I 2025-05-15 00:17:51,058] Trial 1255 finished with values: [0.6900022362935121, 0.060214560807572155] and parameters: {'alpha': 0.8694173170637239, 'max_depth': 6, 'eta': 0.10749039742554378, 'subsample': 0.807108008558591, 'colsample_bytree': 0.7467898426760461}.\n",
      "[I 2025-05-15 00:17:51,195] Trial 1256 finished with values: [0.662157318653445, 0.015541758236521014] and parameters: {'alpha': 0.07473330427390179, 'max_depth': 5, 'eta': 0.07253350513913152, 'subsample': 0.8493505201360313, 'colsample_bytree': 0.6198060693014039}.\n",
      "[I 2025-05-15 00:17:51,648] Trial 1257 finished with values: [0.6692996725208542, 0.034746418092685145] and parameters: {'alpha': 0.22922811182883618, 'max_depth': 4, 'eta': 0.01789611432460063, 'subsample': 0.8493505201360313, 'colsample_bytree': 0.6268842887986352}.\n",
      "[I 2025-05-15 00:17:51,777] Trial 1258 finished with values: [0.5000061268315397, 0.0] and parameters: {'alpha': 0.006398238570445525, 'max_depth': 7, 'eta': 0.15511827510132917, 'subsample': 0.7516688545620335, 'colsample_bytree': 0.6268842887986352}.\n",
      "[I 2025-05-15 00:17:52,048] Trial 1259 finished with values: [0.6878685672098103, 0.032613557181426424] and parameters: {'alpha': 0.22601217229786574, 'max_depth': 7, 'eta': 0.23936998776932283, 'subsample': 0.6766262078975724, 'colsample_bytree': 0.6346180096533811}.\n",
      "[I 2025-05-15 00:17:52,279] Trial 1260 finished with values: [0.708571130982468, 0.07509576496595112] and parameters: {'alpha': 0.8694173170637239, 'max_depth': 7, 'eta': 0.24026710755528385, 'subsample': 0.8376771934629543, 'colsample_bytree': 0.9359136992071515}.\n",
      "[I 2025-05-15 00:17:52,446] Trial 1261 finished with values: [0.6685828332307088, 0.03605185540386576] and parameters: {'alpha': 0.22601217229786574, 'max_depth': 4, 'eta': 0.14353786839229965, 'subsample': 0.7342181608064989, 'colsample_bytree': 0.8849923349349937}.\n",
      "[I 2025-05-15 00:17:52,585] Trial 1262 finished with values: [0.7021440846973191, 0.07192137780449585] and parameters: {'alpha': 0.8694173170637239, 'max_depth': 5, 'eta': 0.24431474510203355, 'subsample': 0.8493505201360313, 'colsample_bytree': 0.8849923349349937}.\n",
      "[I 2025-05-15 00:17:52,741] Trial 1263 finished with values: [0.7049945930711662, 0.07994325581957111] and parameters: {'alpha': 0.8694173170637239, 'max_depth': 7, 'eta': 0.1835864240964316, 'subsample': 0.8493505201360313, 'colsample_bytree': 0.9901074621532081}.\n",
      "[I 2025-05-15 00:17:52,854] Trial 1264 finished with values: [0.5000061268315397, 0.0] and parameters: {'alpha': 0.006398238570445525, 'max_depth': 5, 'eta': 0.23813647636124352, 'subsample': 0.6766262078975724, 'colsample_bytree': 0.6479107585243286}.\n",
      "[I 2025-05-15 00:17:53,018] Trial 1265 finished with values: [0.6714210879414765, 0.04492251292592738] and parameters: {'alpha': 0.3245337388566094, 'max_depth': 7, 'eta': 0.1435829170042186, 'subsample': 0.6766262078975724, 'colsample_bytree': 0.7730914500445354}.\n",
      "[I 2025-05-15 00:17:53,200] Trial 1266 finished with values: [0.6721471174789313, 0.018232107890208554] and parameters: {'alpha': 0.22601217229786574, 'max_depth': 4, 'eta': 0.1835864240964316, 'subsample': 0.8493505201360313, 'colsample_bytree': 0.6556452569041664}.\n",
      "[I 2025-05-15 00:17:53,365] Trial 1267 finished with values: [0.6685858966464787, 0.046244231303105475] and parameters: {'alpha': 0.43518327111142785, 'max_depth': 5, 'eta': 0.055511522895161744, 'subsample': 0.807108008558591, 'colsample_bytree': 0.7467898426760461}.\n",
      "[I 2025-05-15 00:17:53,533] Trial 1268 finished with values: [0.6642940511529165, 0.04143255075241977] and parameters: {'alpha': 0.22601217229786574, 'max_depth': 4, 'eta': 0.05148993795553561, 'subsample': 0.7577914486536175, 'colsample_bytree': 0.6346180096533811}.\n",
      "[I 2025-05-15 00:17:53,757] Trial 1269 finished with values: [0.7164333875557926, 0.0972009156951934] and parameters: {'alpha': 0.8694173170637239, 'max_depth': 7, 'eta': 0.24431474510203355, 'subsample': 0.8493505201360313, 'colsample_bytree': 0.7792999204566293}.\n",
      "[I 2025-05-15 00:17:53,965] Trial 1270 finished with values: [0.7000134790293874, 0.04490235715598193] and parameters: {'alpha': 0.8694173170637239, 'max_depth': 6, 'eta': 0.1919795686809288, 'subsample': 0.8493505201360313, 'colsample_bytree': 0.6346180096533811}.\n",
      "[I 2025-05-15 00:17:54,181] Trial 1271 finished with values: [0.6671491546504184, 0.03599955625865999] and parameters: {'alpha': 0.22601217229786574, 'max_depth': 5, 'eta': 0.23813647636124352, 'subsample': 0.9266582396643157, 'colsample_bytree': 0.6346180096533811}.\n",
      "[I 2025-05-15 00:17:54,355] Trial 1272 finished with values: [0.6864318252137499, 0.06222019308671876] and parameters: {'alpha': 0.8694173170637239, 'max_depth': 6, 'eta': 0.08748760219683285, 'subsample': 0.8376771934629543, 'colsample_bytree': 0.7467898426760461}.\n",
      "[I 2025-05-15 00:17:54,601] Trial 1273 finished with values: [0.7007119378249135, 0.08046527261445371] and parameters: {'alpha': 0.8694173170637239, 'max_depth': 7, 'eta': 0.10022879453843885, 'subsample': 0.807108008558591, 'colsample_bytree': 0.7467898426760461}.\n",
      "[I 2025-05-15 00:17:54,797] Trial 1274 finished with values: [0.6800155008837954, 0.03407358004389046] and parameters: {'alpha': 0.22922811182883618, 'max_depth': 5, 'eta': 0.24431474510203355, 'subsample': 0.6766262078975724, 'colsample_bytree': 0.9481482076832429}.\n",
      "[I 2025-05-15 00:17:54,964] Trial 1275 finished with values: [0.6735746692276822, 0.04898390098849867] and parameters: {'alpha': 0.8694173170637239, 'max_depth': 3, 'eta': 0.24026710755528385, 'subsample': 0.6766262078975724, 'colsample_bytree': 0.7467898426760461}.\n",
      "[I 2025-05-15 00:17:55,094] Trial 1276 finished with values: [0.5000061268315397, 0.0] and parameters: {'alpha': 0.006398238570445525, 'max_depth': 7, 'eta': 0.2059704199259883, 'subsample': 0.872143282534935, 'colsample_bytree': 0.9532604182421414}.\n",
      "[I 2025-05-15 00:17:55,280] Trial 1277 finished with values: [0.6664369104839278, 0.039113488280747954] and parameters: {'alpha': 0.12082713516430721, 'max_depth': 7, 'eta': 0.2059704199259883, 'subsample': 0.6631956570556669, 'colsample_bytree': 0.9532604182421414}.\n",
      "[I 2025-05-15 00:17:55,463] Trial 1278 finished with values: [0.7085634724430433, 0.0667943456731671] and parameters: {'alpha': 0.8694173170637239, 'max_depth': 6, 'eta': 0.24026710755528385, 'subsample': 0.8376771934629543, 'colsample_bytree': 0.7467898426760461}.\n",
      "[I 2025-05-15 00:17:55,606] Trial 1279 finished with values: [0.5000061268315397, 0.0] and parameters: {'alpha': 0.006398238570445525, 'max_depth': 4, 'eta': 0.15511827510132917, 'subsample': 0.872143282534935, 'colsample_bytree': 0.9532604182421414}.\n",
      "[I 2025-05-15 00:17:55,795] Trial 1280 finished with values: [0.7035777632776098, 0.052513916834808806] and parameters: {'alpha': 0.8913664166538733, 'max_depth': 5, 'eta': 0.24431474510203355, 'subsample': 0.6766262078975724, 'colsample_bytree': 0.6268842887986352}.\n",
      "[I 2025-05-15 00:17:55,997] Trial 1281 finished with values: [0.5000061268315397, 0.0] and parameters: {'alpha': 0.006398238570445525, 'max_depth': 4, 'eta': 0.2627886178893016, 'subsample': 0.807108008558591, 'colsample_bytree': 0.6198060693014039}.\n",
      "[I 2025-05-15 00:17:56,211] Trial 1282 finished with values: [0.7121308201070358, 0.1048874395461687] and parameters: {'alpha': 0.8694173170637239, 'max_depth': 6, 'eta': 0.2276608685041732, 'subsample': 0.807108008558591, 'colsample_bytree': 0.8879321432153249}.\n",
      "[I 2025-05-15 00:17:56,378] Trial 1283 finished with values: [0.7157119531419923, 0.07191833839084048] and parameters: {'alpha': 0.8694173170637239, 'max_depth': 7, 'eta': 0.24026710755528385, 'subsample': 0.8376771934629543, 'colsample_bytree': 0.7467898426760461}.\n",
      "[I 2025-05-15 00:17:56,558] Trial 1284 finished with values: [0.7071451109416022, 0.0484954603626066] and parameters: {'alpha': 0.8694173170637239, 'max_depth': 6, 'eta': 0.24431474510203355, 'subsample': 0.8493505201360313, 'colsample_bytree': 0.8849923349349937}.\n",
      "[I 2025-05-15 00:17:56,813] Trial 1285 finished with values: [0.6985660150781324, 0.07748909715118736] and parameters: {'alpha': 0.5473475527675589, 'max_depth': 7, 'eta': 0.24431474510203355, 'subsample': 0.7673050153767099, 'colsample_bytree': 0.6198060693014039}.\n",
      "[I 2025-05-15 00:17:57,001] Trial 1286 finished with values: [0.7092910336883832, 0.047931500508834844] and parameters: {'alpha': 0.8694173170637239, 'max_depth': 7, 'eta': 0.24431474510203355, 'subsample': 0.8396092253214011, 'colsample_bytree': 0.6268842887986352}.\n",
      "[I 2025-05-15 00:17:57,310] Trial 1287 finished with values: [0.6857073273841799, 0.05443750497703844] and parameters: {'alpha': 0.8694173170637239, 'max_depth': 6, 'eta': 0.023035752056728857, 'subsample': 0.807108008558591, 'colsample_bytree': 0.9928220114755739}.\n",
      "[I 2025-05-15 00:17:57,433] Trial 1288 finished with values: [0.5000061268315397, 0.0] and parameters: {'alpha': 0.006398238570445525, 'max_depth': 5, 'eta': 0.2547527115786096, 'subsample': 0.807108008558591, 'colsample_bytree': 0.7467898426760461}.\n",
      "[I 2025-05-15 00:17:57,672] Trial 1289 finished with values: [0.7114216393563151, 0.06856363470623807] and parameters: {'alpha': 0.9117252085051357, 'max_depth': 6, 'eta': 0.2276608685041732, 'subsample': 0.9861108023012858, 'colsample_bytree': 0.9137815796566202}.\n",
      "[I 2025-05-15 00:17:57,827] Trial 1290 finished with values: [0.6621511918219053, 0.02817432238952966] and parameters: {'alpha': 0.8694173170637239, 'max_depth': 3, 'eta': 0.13038803103350777, 'subsample': 0.8493505201360313, 'colsample_bytree': 0.6479107585243286}.\n",
      "[I 2025-05-15 00:17:58,064] Trial 1291 finished with values: [0.6928558080831287, 0.04518098434258414] and parameters: {'alpha': 0.8694173170637239, 'max_depth': 5, 'eta': 0.1835864240964316, 'subsample': 0.8493505201360313, 'colsample_bytree': 0.6479107585243286}.\n",
      "[I 2025-05-15 00:17:58,336] Trial 1292 finished with values: [0.6685828332307088, 0.031213389440979743] and parameters: {'alpha': 0.22601217229786574, 'max_depth': 5, 'eta': 0.05652317754342257, 'subsample': 0.8484719018840341, 'colsample_bytree': 0.6479107585243286}.\n",
      "[I 2025-05-15 00:17:58,553] Trial 1293 finished with values: [0.6664445690233525, 0.009522622062663263] and parameters: {'alpha': 0.18593799923326582, 'max_depth': 7, 'eta': 0.09812635778095367, 'subsample': 0.8493505201360313, 'colsample_bytree': 0.7291490992605878}.\n",
      "[I 2025-05-15 00:17:58,746] Trial 1294 finished with values: [0.7064252082356869, 0.0884539130434911] and parameters: {'alpha': 0.8694173170637239, 'max_depth': 7, 'eta': 0.1835864240964316, 'subsample': 0.8297941357067298, 'colsample_bytree': 0.740025902149713}.\n",
      "[I 2025-05-15 00:17:58,938] Trial 1295 finished with values: [0.680006310636486, 0.050920069177915306] and parameters: {'alpha': 0.22601217229786574, 'max_depth': 6, 'eta': 0.2276608685041732, 'subsample': 0.807108008558591, 'colsample_bytree': 0.7467898426760461}.\n",
      "[I 2025-05-15 00:17:59,165] Trial 1296 finished with values: [0.700725723195878, 0.04774779972622292] and parameters: {'alpha': 0.6370308795473967, 'max_depth': 7, 'eta': 0.20746117848673729, 'subsample': 0.8493505201360313, 'colsample_bytree': 0.6268842887986352}.\n",
      "[I 2025-05-15 00:17:59,308] Trial 1297 finished with values: [0.5000061268315397, 0.0] and parameters: {'alpha': 0.006398238570445525, 'max_depth': 5, 'eta': 0.24431474510203355, 'subsample': 0.872143282534935, 'colsample_bytree': 0.9611620505991075}.\n",
      "[I 2025-05-15 00:17:59,466] Trial 1298 finished with values: [0.6778649830133595, 0.03541478046473768] and parameters: {'alpha': 0.22601217229786574, 'max_depth': 5, 'eta': 0.1562065402266718, 'subsample': 0.6766262078975724, 'colsample_bytree': 0.9943994994060404}.\n",
      "[I 2025-05-15 00:17:59,625] Trial 1299 finished with values: [0.6757129334350388, 0.044161824064538835] and parameters: {'alpha': 0.36977581608930044, 'max_depth': 6, 'eta': 0.2276608685041732, 'subsample': 0.6766262078975724, 'colsample_bytree': 0.8208136707017182}.\n",
      "[I 2025-05-15 00:17:59,948] Trial 1300 finished with values: [0.7092711214858792, 0.07283923014887535] and parameters: {'alpha': 0.8694173170637239, 'max_depth': 7, 'eta': 0.22739873665679933, 'subsample': 0.9984601149714915, 'colsample_bytree': 0.9901074621532081}.\n",
      "[I 2025-05-15 00:18:00,295] Trial 1301 finished with values: [0.6778680464291295, 0.02089917473276996] and parameters: {'alpha': 0.22601217229786574, 'max_depth': 5, 'eta': 0.23813647636124352, 'subsample': 0.8493505201360313, 'colsample_bytree': 0.6268842887986352}.\n",
      "[I 2025-05-15 00:18:00,461] Trial 1302 finished with values: [0.6885900016236103, 0.025369084250282836] and parameters: {'alpha': 0.22601217229786574, 'max_depth': 5, 'eta': 0.23813647636124352, 'subsample': 0.6766262078975724, 'colsample_bytree': 0.6346180096533811}.\n",
      "[I 2025-05-15 00:18:00,788] Trial 1303 finished with values: [0.6671460912346484, 0.02338385790040452] and parameters: {'alpha': 0.22922811182883618, 'max_depth': 5, 'eta': 0.15511827510132917, 'subsample': 0.7516688545620335, 'colsample_bytree': 0.6268842887986352}.\n",
      "[I 2025-05-15 00:18:01,069] Trial 1304 finished with values: [0.676431304433069, 0.054010037031829716] and parameters: {'alpha': 0.8437817001239732, 'max_depth': 4, 'eta': 0.21901686836526663, 'subsample': 0.872143282534935, 'colsample_bytree': 0.6268842887986352}.\n",
      "[I 2025-05-15 00:18:01,582] Trial 1305 finished with values: [0.7178578758887735, 0.08194755906715386] and parameters: {'alpha': 0.8694173170637239, 'max_depth': 7, 'eta': 0.24431474510203355, 'subsample': 0.7564752144603771, 'colsample_bytree': 0.6198060693014039}.\n",
      "[I 2025-05-15 00:18:01,836] Trial 1306 finished with values: [0.6621603820692149, 0.017685336202209856] and parameters: {'alpha': 0.12082713516430721, 'max_depth': 7, 'eta': 0.10022879453843885, 'subsample': 0.6766262078975724, 'colsample_bytree': 0.6624630554926771}.\n",
      "[I 2025-05-15 00:18:02,081] Trial 1307 finished with values: [0.6800124374680255, 0.03929579618201976] and parameters: {'alpha': 0.22601217229786574, 'max_depth': 7, 'eta': 0.23813647636124352, 'subsample': 0.6766262078975724, 'colsample_bytree': 0.9532604182421414}.\n",
      "[I 2025-05-15 00:18:02,300] Trial 1308 finished with values: [0.6600159910303186, 0.006579304649032364] and parameters: {'alpha': 0.12082713516430721, 'max_depth': 7, 'eta': 0.10022879453843885, 'subsample': 0.6631956570556669, 'colsample_bytree': 0.7730914500445354}.\n",
      "[I 2025-05-15 00:18:02,496] Trial 1309 finished with values: [0.6871624498748594, 0.01770223643561486] and parameters: {'alpha': 0.22601217229786574, 'max_depth': 5, 'eta': 0.24431474510203355, 'subsample': 0.6766262078975724, 'colsample_bytree': 0.6268842887986352}.\n",
      "[I 2025-05-15 00:18:02,695] Trial 1310 finished with values: [0.5000061268315397, 0.0] and parameters: {'alpha': 0.006398238570445525, 'max_depth': 5, 'eta': 0.23813647636124352, 'subsample': 0.9796444875866084, 'colsample_bytree': 0.9532604182421414}.\n",
      "[I 2025-05-15 00:18:02,895] Trial 1311 finished with values: [0.6664307836523881, 0.0429300606133654] and parameters: {'alpha': 0.22601217229786574, 'max_depth': 5, 'eta': 0.07257095200779526, 'subsample': 0.6766262078975724, 'colsample_bytree': 0.6832426273215114}.\n",
      "[I 2025-05-15 00:18:03,081] Trial 1312 finished with values: [0.660731298612579, 0.015718568702763475] and parameters: {'alpha': 0.12082713516430721, 'max_depth': 7, 'eta': 0.10022879453843885, 'subsample': 0.6676574649000324, 'colsample_bytree': 0.7171393924105901}.\n",
      "[I 2025-05-15 00:18:03,276] Trial 1313 finished with values: [0.6785756954719652, 0.03294436719369461] and parameters: {'alpha': 0.26803487653009395, 'max_depth': 7, 'eta': 0.1835864240964316, 'subsample': 0.6148434100362158, 'colsample_bytree': 0.6268842887986352}.\n",
      "[I 2025-05-15 00:18:03,422] Trial 1314 finished with values: [0.5000061268315397, 0.0] and parameters: {'alpha': 0.006398238570445525, 'max_depth': 6, 'eta': 0.15511827510132917, 'subsample': 0.7126649411379313, 'colsample_bytree': 0.6846054564616372}.\n",
      "[I 2025-05-15 00:18:03,731] Trial 1315 finished with values: [0.7164303241400226, 0.06536448892041015] and parameters: {'alpha': 0.8694173170637239, 'max_depth': 7, 'eta': 0.23008594059692253, 'subsample': 0.8493505201360313, 'colsample_bytree': 0.6346180096533811}.\n",
      "[I 2025-05-15 00:18:03,948] Trial 1316 finished with values: [0.6642971145686863, 0.022573068955607466] and parameters: {'alpha': 0.12082713516430721, 'max_depth': 7, 'eta': 0.10022879453843885, 'subsample': 0.6631956570556669, 'colsample_bytree': 0.8434736429803261}.\n",
      "[I 2025-05-15 00:18:04,139] Trial 1317 finished with values: [0.6657246663174372, 0.026848541815848243] and parameters: {'alpha': 0.22601217229786574, 'max_depth': 7, 'eta': 0.1835864240964316, 'subsample': 0.6766262078975724, 'colsample_bytree': 0.6681553467721969}.\n",
      "[I 2025-05-15 00:18:04,256] Trial 1318 finished with values: [0.5000061268315397, 0.0] and parameters: {'alpha': 0.006398238570445525, 'max_depth': 3, 'eta': 0.1835864240964316, 'subsample': 0.8376771934629543, 'colsample_bytree': 0.6479107585243286}.\n",
      "[I 2025-05-15 00:18:04,394] Trial 1319 finished with values: [0.7092772483174189, 0.05262509297654089] and parameters: {'alpha': 0.8694173170637239, 'max_depth': 6, 'eta': 0.24431474510203355, 'subsample': 0.8493505201360313, 'colsample_bytree': 0.6268842887986352}.\n",
      "[I 2025-05-15 00:18:04,524] Trial 1320 finished with values: [0.6707256925617201, 0.029393202233362087] and parameters: {'alpha': 0.10180904363016108, 'max_depth': 5, 'eta': 0.24431474510203355, 'subsample': 0.6766262078975724, 'colsample_bytree': 0.6795751443998388}.\n",
      "[I 2025-05-15 00:18:04,697] Trial 1321 finished with values: [0.6707226291459504, 0.03331961424797008] and parameters: {'alpha': 0.22601217229786574, 'max_depth': 7, 'eta': 0.0694093957292326, 'subsample': 0.6766262078975724, 'colsample_bytree': 0.6479107585243286}.\n",
      "[I 2025-05-15 00:18:04,837] Trial 1322 finished with values: [0.6785787588877351, 0.04744187671968183] and parameters: {'alpha': 0.3145019102104184, 'max_depth': 5, 'eta': 0.23813647636124352, 'subsample': 0.7516688545620335, 'colsample_bytree': 0.6268842887986352}.\n",
      "[I 2025-05-15 00:18:04,998] Trial 1323 finished with values: [0.6721471174789313, 0.03635090122738254] and parameters: {'alpha': 0.8694173170637239, 'max_depth': 4, 'eta': 0.07253350513913152, 'subsample': 0.8088010652239656, 'colsample_bytree': 0.604361426365747}.\n",
      "[I 2025-05-15 00:18:05,319] Trial 1324 finished with values: [0.7050053150263608, 0.05638354077268661] and parameters: {'alpha': 0.8694173170637239, 'max_depth': 7, 'eta': 0.1919795686809288, 'subsample': 0.8493505201360313, 'colsample_bytree': 0.6346180096533811}.\n",
      "[I 2025-05-15 00:18:05,487] Trial 1325 finished with values: [0.6750022209764331, 0.048911628301743976] and parameters: {'alpha': 0.27379117286186117, 'max_depth': 7, 'eta': 0.22739873665679933, 'subsample': 0.7761880905716759, 'colsample_bytree': 0.6974691939440585}.\n",
      "[I 2025-05-15 00:18:05,640] Trial 1326 finished with values: [0.6935849010363535, 0.06673906984275818] and parameters: {'alpha': 0.9640618849330091, 'max_depth': 5, 'eta': 0.1835864240964316, 'subsample': 0.8493505201360313, 'colsample_bytree': 0.6346180096533811}.\n",
      "[I 2025-05-15 00:18:05,756] Trial 1327 finished with values: [0.5000061268315397, 0.0] and parameters: {'alpha': 0.006398238570445525, 'max_depth': 6, 'eta': 0.04979940570925883, 'subsample': 0.7259178902882475, 'colsample_bytree': 0.7642776900822141}.\n",
      "[I 2025-05-15 00:18:05,912] Trial 1328 finished with values: [0.5000061268315397, 0.0] and parameters: {'alpha': 0.006398238570445525, 'max_depth': 7, 'eta': 0.09812635778095367, 'subsample': 0.97777289502011, 'colsample_bytree': 0.6624630554926771}.\n",
      "[I 2025-05-15 00:18:06,088] Trial 1329 finished with values: [0.6942894866634194, 0.06641556459696034] and parameters: {'alpha': 0.8996828890698491, 'max_depth': 5, 'eta': 0.23813647636124352, 'subsample': 0.7588296843572406, 'colsample_bytree': 0.9103595135522575}.\n",
      "[I 2025-05-15 00:18:06,383] Trial 1330 finished with values: [0.7135660303952113, 0.06669384886751864] and parameters: {'alpha': 0.8694173170637239, 'max_depth': 7, 'eta': 0.1835864240964316, 'subsample': 0.872143282534935, 'colsample_bytree': 0.9611620505991075}.\n",
      "[I 2025-05-15 00:18:06,524] Trial 1331 finished with values: [0.5000061268315397, 0.0] and parameters: {'alpha': 0.006398238570445525, 'max_depth': 3, 'eta': 0.2577480356594321, 'subsample': 0.8621180142479564, 'colsample_bytree': 0.6359287442325062}.\n",
      "[I 2025-05-15 00:18:06,786] Trial 1332 finished with values: [0.6692966091050844, 0.0420517233705917] and parameters: {'alpha': 0.8694173170637239, 'max_depth': 3, 'eta': 0.24026710755528385, 'subsample': 0.8376771934629543, 'colsample_bytree': 0.6268842887986352}.\n",
      "[I 2025-05-15 00:18:07,094] Trial 1333 finished with values: [0.5000061268315397, 0.0] and parameters: {'alpha': 0.006398238570445525, 'max_depth': 4, 'eta': 0.1902462206657881, 'subsample': 0.9049355029299513, 'colsample_bytree': 0.6346180096533811}.\n",
      "[I 2025-05-15 00:18:07,499] Trial 1334 finished with values: [0.7107032683582849, 0.06577024047307568] and parameters: {'alpha': 0.8694173170637239, 'max_depth': 7, 'eta': 0.1942421813362881, 'subsample': 0.8493505201360313, 'colsample_bytree': 0.7375858423614077}.\n",
      "[I 2025-05-15 00:18:07,730] Trial 1335 finished with values: [0.7135690938109812, 0.06230652613926949] and parameters: {'alpha': 0.8694173170637239, 'max_depth': 7, 'eta': 0.2916268718005614, 'subsample': 0.8396092253214011, 'colsample_bytree': 0.6268842887986352}.\n",
      "[I 2025-05-15 00:18:07,853] Trial 1336 finished with values: [0.5000061268315397, 0.0] and parameters: {'alpha': 0.006398238570445525, 'max_depth': 7, 'eta': 0.2276608685041732, 'subsample': 0.872143282534935, 'colsample_bytree': 0.9532604182421414}.\n",
      "[I 2025-05-15 00:18:08,034] Trial 1337 finished with values: [0.7199930766803601, 0.07905884783880561] and parameters: {'alpha': 0.8694173170637239, 'max_depth': 7, 'eta': 0.24431474510203355, 'subsample': 0.8493505201360313, 'colsample_bytree': 0.7649645190665052}.\n",
      "[I 2025-05-15 00:18:08,214] Trial 1338 finished with values: [0.5000061268315397, 0.0] and parameters: {'alpha': 0.006398238570445525, 'max_depth': 6, 'eta': 0.1835864240964316, 'subsample': 0.7126649411379313, 'colsample_bytree': 0.6846054564616372}.\n",
      "[I 2025-05-15 00:18:08,376] Trial 1339 finished with values: [0.7028701142347741, 0.06404816984129524] and parameters: {'alpha': 0.6370308795473967, 'max_depth': 7, 'eta': 0.1919795686809288, 'subsample': 0.8493505201360313, 'colsample_bytree': 0.6198060693014039}.\n",
      "[I 2025-05-15 00:18:08,538] Trial 1340 finished with values: [0.6721578394341258, 0.026229130560018115] and parameters: {'alpha': 0.22601217229786574, 'max_depth': 5, 'eta': 0.06927354349673155, 'subsample': 0.8493505201360313, 'colsample_bytree': 0.6198060693014039}.\n",
      "[I 2025-05-15 00:18:08,705] Trial 1341 finished with values: [0.6992935763234721, 0.041992281674114416] and parameters: {'alpha': 0.6370308795473967, 'max_depth': 7, 'eta': 0.24431474510203355, 'subsample': 0.8493505201360313, 'colsample_bytree': 0.6479107585243286}.\n",
      "[I 2025-05-15 00:18:08,862] Trial 1342 finished with values: [0.6807323401739408, 0.04024713422501647] and parameters: {'alpha': 0.22601217229786574, 'max_depth': 5, 'eta': 0.23813647636124352, 'subsample': 0.8376771934629543, 'colsample_bytree': 0.9901074621532081}.\n",
      "[I 2025-05-15 00:18:09,002] Trial 1343 finished with values: [0.6607144498258449, 0.01778684466828297] and parameters: {'alpha': 0.22601217229786574, 'max_depth': 5, 'eta': 0.1835864240964316, 'subsample': 0.9361478581900813, 'colsample_bytree': 0.6479107585243286}.\n",
      "[I 2025-05-15 00:18:09,186] Trial 1344 finished with values: [0.6700042581479201, 0.07157459803948421] and parameters: {'alpha': 0.6370308795473967, 'max_depth': 5, 'eta': 0.12723954714778202, 'subsample': 0.6631956570556669, 'colsample_bytree': 0.7730914500445354}.\n",
      "[I 2025-05-15 00:18:09,307] Trial 1345 finished with values: [0.6643001779844563, 0.02162007377171324] and parameters: {'alpha': 0.06585713287998518, 'max_depth': 7, 'eta': 0.21500273048430651, 'subsample': 0.8493505201360313, 'colsample_bytree': 0.6268842887986352}.\n",
      "[I 2025-05-15 00:18:09,430] Trial 1346 finished with values: [0.6864333569216349, 0.04829256252819064] and parameters: {'alpha': 0.22601217229786574, 'max_depth': 5, 'eta': 0.23813647636124352, 'subsample': 0.6766262078975724, 'colsample_bytree': 0.8778999079756078}.\n",
      "[I 2025-05-15 00:18:09,560] Trial 1347 finished with values: [0.7014303088229438, 0.05956832918467057] and parameters: {'alpha': 0.8694173170637239, 'max_depth': 5, 'eta': 0.24431474510203355, 'subsample': 0.6766262078975724, 'colsample_bytree': 0.6268842887986352}.\n",
      "[I 2025-05-15 00:18:09,814] Trial 1348 finished with values: [0.6600159910303186, 0.006579304649032364] and parameters: {'alpha': 0.12082713516430721, 'max_depth': 7, 'eta': 0.10022879453843885, 'subsample': 0.6631956570556669, 'colsample_bytree': 0.7730914500445354}.\n",
      "[I 2025-05-15 00:18:09,979] Trial 1349 finished with values: [0.6735807960592219, 0.025037155680650847] and parameters: {'alpha': 0.22601217229786574, 'max_depth': 6, 'eta': 0.10022879453843885, 'subsample': 0.6631956570556669, 'colsample_bytree': 0.994492533437081}.\n",
      "[I 2025-05-15 00:18:10,163] Trial 1350 finished with values: [0.6864486740004839, 0.015154691267056894] and parameters: {'alpha': 0.22922811182883618, 'max_depth': 5, 'eta': 0.24431474510203355, 'subsample': 0.6766262078975724, 'colsample_bytree': 0.6268842887986352}.\n",
      "[I 2025-05-15 00:18:10,292] Trial 1351 finished with values: [0.6757282505138881, 0.03601050174140737] and parameters: {'alpha': 0.8694173170637239, 'max_depth': 3, 'eta': 0.1919795686809288, 'subsample': 0.6631956570556669, 'colsample_bytree': 0.6346180096533811}.\n",
      "[I 2025-05-15 00:18:10,392] Trial 1352 finished with values: [0.5000061268315397, 0.0] and parameters: {'alpha': 0.006398238570445525, 'max_depth': 5, 'eta': 0.24431474510203355, 'subsample': 0.9849880170605231, 'colsample_bytree': 0.9532604182421414}.\n",
      "[I 2025-05-15 00:18:10,687] Trial 1353 finished with values: [0.6771450803074445, 0.049689040813853315] and parameters: {'alpha': 0.2691773140827477, 'max_depth': 7, 'eta': 0.0352492322509681, 'subsample': 0.7030352027100129, 'colsample_bytree': 0.8828285311042265}.\n",
      "[I 2025-05-15 00:18:10,813] Trial 1354 finished with values: [0.6885900016236103, 0.025369084250282836] and parameters: {'alpha': 0.22601217229786574, 'max_depth': 5, 'eta': 0.23813647636124352, 'subsample': 0.6766262078975724, 'colsample_bytree': 0.6268842887986352}.\n",
      "[I 2025-05-15 00:18:10,960] Trial 1355 finished with values: [0.5000061268315397, 0.0] and parameters: {'alpha': 0.006398238570445525, 'max_depth': 5, 'eta': 0.023613543063591726, 'subsample': 0.8621180142479564, 'colsample_bytree': 0.6479107585243286}.\n",
      "[I 2025-05-15 00:18:11,107] Trial 1356 finished with values: [0.6628695628199356, 0.026927599395777723] and parameters: {'alpha': 0.22601217229786574, 'max_depth': 3, 'eta': 0.19875838561440345, 'subsample': 0.6766262078975724, 'colsample_bytree': 0.8778999079756078}.\n",
      "[I 2025-05-15 00:18:11,453] Trial 1357 finished with values: [0.6921450956245233, 0.05148267499640905] and parameters: {'alpha': 0.22601217229786574, 'max_depth': 6, 'eta': 0.23813647636124352, 'subsample': 0.6766262078975724, 'colsample_bytree': 0.8347864819677926}.\n",
      "[I 2025-05-15 00:18:11,873] Trial 1358 finished with values: [0.6814353940931217, 0.057894336012263674] and parameters: {'alpha': 0.5432367438590248, 'max_depth': 7, 'eta': 0.22739873665679933, 'subsample': 0.6211064265192192, 'colsample_bytree': 0.6268842887986352}.\n",
      "[I 2025-05-15 00:18:11,976] Trial 1359 finished with values: [0.6992751958288531, 0.07960756460006992] and parameters: {'alpha': 0.8694173170637239, 'max_depth': 5, 'eta': 0.1835864240964316, 'subsample': 0.8396092253214011, 'colsample_bytree': 0.805118927401402}.\n",
      "[I 2025-05-15 00:18:12,125] Trial 1360 finished with values: [0.667153749774073, 0.04230756300017524] and parameters: {'alpha': 0.6370308795473967, 'max_depth': 3, 'eta': 0.1835864240964316, 'subsample': 0.8493505201360313, 'colsample_bytree': 0.938619235152565}.\n",
      "[I 2025-05-15 00:18:12,238] Trial 1361 finished with values: [0.6828629458418726, 0.055237730456108025] and parameters: {'alpha': 0.44973812140063074, 'max_depth': 5, 'eta': 0.24999571941975432, 'subsample': 0.6631956570556669, 'colsample_bytree': 0.6268842887986352}.\n",
      "[I 2025-05-15 00:18:12,334] Trial 1362 finished with values: [0.6785818223035048, 0.05215724179893627] and parameters: {'alpha': 0.22601217229786574, 'max_depth': 5, 'eta': 0.2276608685041732, 'subsample': 0.7259904754668205, 'colsample_bytree': 0.9889717729388713}.\n",
      "[I 2025-05-15 00:18:12,453] Trial 1363 finished with values: [0.6878685672098103, 0.032613557181426424] and parameters: {'alpha': 0.22601217229786574, 'max_depth': 7, 'eta': 0.23813647636124352, 'subsample': 0.6766262078975724, 'colsample_bytree': 0.6346180096533811}.\n",
      "[I 2025-05-15 00:18:12,663] Trial 1364 finished with values: [0.6950155162008743, 0.061293590240239136] and parameters: {'alpha': 0.48739952043354895, 'max_depth': 7, 'eta': 0.1835864240964316, 'subsample': 0.8493505201360313, 'colsample_bytree': 0.6479107585243286}.\n",
      "[I 2025-05-15 00:18:12,936] Trial 1365 finished with values: [0.668579769814939, 0.04399570954704041] and parameters: {'alpha': 0.37667628326589764, 'max_depth': 7, 'eta': 0.09229597554781058, 'subsample': 0.8493505201360313, 'colsample_bytree': 0.7250684375872736}.\n",
      "[I 2025-05-15 00:18:13,102] Trial 1366 finished with values: [0.7085757261061228, 0.05696768622207932] and parameters: {'alpha': 0.8694173170637239, 'max_depth': 7, 'eta': 0.1835864240964316, 'subsample': 0.8485864184912504, 'colsample_bytree': 0.6479107585243286}.\n",
      "[I 2025-05-15 00:18:13,287] Trial 1367 finished with values: [0.680006310636486, 0.06131397339045618] and parameters: {'alpha': 0.8694173170637239, 'max_depth': 6, 'eta': 0.051244304755401815, 'subsample': 0.8493505201360313, 'colsample_bytree': 0.6346180096533811}.\n",
      "[I 2025-05-15 00:18:13,404] Trial 1368 finished with values: [0.6593006834480583, 0.019950716483298353] and parameters: {'alpha': 0.12082713516430721, 'max_depth': 3, 'eta': 0.11669272083426253, 'subsample': 0.6631956570556669, 'colsample_bytree': 0.7171393924105901}.\n",
      "[I 2025-05-15 00:18:13,545] Trial 1369 finished with values: [0.6935680522496194, 0.055118575437103114] and parameters: {'alpha': 0.4507883652421125, 'max_depth': 7, 'eta': 0.21901686836526663, 'subsample': 0.872143282534935, 'colsample_bytree': 0.9532604182421414}.\n",
      "[I 2025-05-15 00:18:13,680] Trial 1370 finished with values: [0.6885900016236103, 0.025369084250282836] and parameters: {'alpha': 0.22601217229786574, 'max_depth': 5, 'eta': 0.2373707812625575, 'subsample': 0.6766262078975724, 'colsample_bytree': 0.6268842887986352}.\n",
      "[I 2025-05-15 00:18:13,821] Trial 1371 finished with values: [0.6828706043812972, 0.04507065743114757] and parameters: {'alpha': 0.6370308795473967, 'max_depth': 6, 'eta': 0.14373449132405122, 'subsample': 0.8493505201360313, 'colsample_bytree': 0.6268842887986352}.\n",
      "[I 2025-05-15 00:18:13,979] Trial 1372 finished with values: [0.7157058263104527, 0.09311605351206864] and parameters: {'alpha': 0.8694173170637239, 'max_depth': 7, 'eta': 0.23008594059692253, 'subsample': 0.8493505201360313, 'colsample_bytree': 0.8701441686466027}.\n",
      "[I 2025-05-15 00:18:14,134] Trial 1373 finished with values: [0.6842859024669687, 0.05021756251691243] and parameters: {'alpha': 0.5876206912817497, 'max_depth': 5, 'eta': 0.1919795686809288, 'subsample': 0.8493505201360313, 'colsample_bytree': 0.7743242804328604}.\n",
      "[I 2025-05-15 00:18:14,347] Trial 1374 finished with values: [0.717144100014398, 0.09511814004799864] and parameters: {'alpha': 0.8694173170637239, 'max_depth': 6, 'eta': 0.24026710755528385, 'subsample': 0.8376771934629543, 'colsample_bytree': 0.9901074621532081}.\n",
      "[I 2025-05-15 00:18:14,744] Trial 1375 finished with values: [0.6750037526843181, 0.05816340156874836] and parameters: {'alpha': 0.22922811182883618, 'max_depth': 5, 'eta': 0.22739873665679933, 'subsample': 0.948403339496255, 'colsample_bytree': 0.9413679527734613}.\n",
      "[I 2025-05-15 00:18:14,875] Trial 1376 finished with values: [0.6892899921270215, 0.058076438703494326] and parameters: {'alpha': 0.22601217229786574, 'max_depth': 7, 'eta': 0.23813647636124352, 'subsample': 0.6631956570556669, 'colsample_bytree': 0.7730914500445354}.\n",
      "[I 2025-05-15 00:18:15,023] Trial 1377 finished with values: [0.6657200711937824, 0.035496359822026945] and parameters: {'alpha': 0.12082713516430721, 'max_depth': 7, 'eta': 0.21500273048430651, 'subsample': 0.987540671825508, 'colsample_bytree': 0.9462097498481262}.\n",
      "[I 2025-05-15 00:18:15,181] Trial 1378 finished with values: [0.6992951080313571, 0.04797799804587466] and parameters: {'alpha': 0.6346552115567805, 'max_depth': 7, 'eta': 0.22739873665679933, 'subsample': 0.8493505201360313, 'colsample_bytree': 0.6268842887986352}.\n",
      "[I 2025-05-15 00:18:15,424] Trial 1379 finished with values: [0.6750144746395126, 0.01996578620934797] and parameters: {'alpha': 0.22601217229786574, 'max_depth': 4, 'eta': 0.1919795686809288, 'subsample': 0.6766262078975724, 'colsample_bytree': 0.6741041115826375}.\n",
      "[I 2025-05-15 00:18:15,653] Trial 1380 finished with values: [0.5000061268315397, 0.0] and parameters: {'alpha': 0.006398238570445525, 'max_depth': 7, 'eta': 0.22739873665679933, 'subsample': 0.6277205667643908, 'colsample_bytree': 0.6198060693014039}.\n",
      "[I 2025-05-15 00:18:15,880] Trial 1381 finished with values: [0.5000061268315397, 0.0] and parameters: {'alpha': 0.006398238570445525, 'max_depth': 7, 'eta': 0.24431474510203355, 'subsample': 0.6766262078975724, 'colsample_bytree': 0.6624630554926771}.\n",
      "[I 2025-05-15 00:18:16,263] Trial 1382 finished with values: [0.6807231499266312, 0.03358086339729464] and parameters: {'alpha': 0.22601217229786574, 'max_depth': 7, 'eta': 0.1835864240964316, 'subsample': 0.6766262078975724, 'colsample_bytree': 0.6479107585243286}.\n",
      "[I 2025-05-15 00:18:16,629] Trial 1383 finished with values: [0.665730793148977, 0.012493203094581204] and parameters: {'alpha': 0.12082713516430721, 'max_depth': 7, 'eta': 0.10022879453843885, 'subsample': 0.6631956570556669, 'colsample_bytree': 0.6198060693014039}.\n",
      "[I 2025-05-15 00:18:16,994] Trial 1384 finished with values: [0.6892961189585612, 0.04448431338682918] and parameters: {'alpha': 0.6940431158317103, 'max_depth': 7, 'eta': 0.13887745740317894, 'subsample': 0.8493505201360313, 'colsample_bytree': 0.6268842887986352}.\n",
      "[I 2025-05-15 00:18:17,279] Trial 1385 finished with values: [0.6771573339705238, 0.036112136404155525] and parameters: {'alpha': 0.12082713516430721, 'max_depth': 7, 'eta': 0.24431474510203355, 'subsample': 0.658548787194586, 'colsample_bytree': 0.7730914500445354}.\n",
      "[I 2025-05-15 00:18:17,514] Trial 1386 finished with values: [0.5000061268315397, 0.0] and parameters: {'alpha': 0.006398238570445525, 'max_depth': 7, 'eta': 0.0875693771785334, 'subsample': 0.8493505201360313, 'colsample_bytree': 0.8272857419448085}.\n",
      "[I 2025-05-15 00:18:17,780] Trial 1387 finished with values: [0.6835843802556726, 0.023172119840271715] and parameters: {'alpha': 0.22601217229786574, 'max_depth': 5, 'eta': 0.2777281043743549, 'subsample': 0.6766262078975724, 'colsample_bytree': 0.6268842887986352}.\n",
      "[I 2025-05-15 00:18:18,123] Trial 1388 finished with values: [0.6792864079305708, 0.04152330444333808] and parameters: {'alpha': 0.22922811182883618, 'max_depth': 5, 'eta': 0.21500273048430651, 'subsample': 0.8396092253214011, 'colsample_bytree': 0.6268842887986352}.\n",
      "[I 2025-05-15 00:18:18,806] Trial 1389 finished with values: [0.6685874283543637, 0.028234416945309666] and parameters: {'alpha': 0.22601217229786574, 'max_depth': 3, 'eta': 0.23813647636124352, 'subsample': 0.6766262078975724, 'colsample_bytree': 0.6198060693014039}.\n",
      "[I 2025-05-15 00:18:19,360] Trial 1390 finished with values: [0.689277738463942, 0.04690561966659947] and parameters: {'alpha': 0.6370308795473967, 'max_depth': 7, 'eta': 0.1835864240964316, 'subsample': 0.9250859103985043, 'colsample_bytree': 0.6479107585243286}.\n",
      "[I 2025-05-15 00:18:19,677] Trial 1391 finished with values: [0.5000061268315397, 0.0] and parameters: {'alpha': 0.006398238570445525, 'max_depth': 5, 'eta': 0.08615040396049642, 'subsample': 0.6766262078975724, 'colsample_bytree': 0.7342316327067927}.\n",
      "[I 2025-05-15 00:18:20,182] Trial 1392 finished with values: [0.7142798062695866, 0.06159230683339544] and parameters: {'alpha': 0.8694173170637239, 'max_depth': 6, 'eta': 0.2276608685041732, 'subsample': 0.807108008558591, 'colsample_bytree': 0.7386413997124662}.\n",
      "[I 2025-05-15 00:18:20,844] Trial 1393 finished with values: [0.6650108904430617, 0.014362202968634571] and parameters: {'alpha': 0.22922811182883618, 'max_depth': 3, 'eta': 0.23813647636124352, 'subsample': 0.6766262078975724, 'colsample_bytree': 0.6268842887986352}.\n",
      "[I 2025-05-15 00:18:21,164] Trial 1394 finished with values: [0.6850165271280783, 0.05497314860399973] and parameters: {'alpha': 0.6370308795473967, 'max_depth': 4, 'eta': 0.22739873665679933, 'subsample': 0.8493505201360313, 'colsample_bytree': 0.6346180096533811}.\n",
      "[I 2025-05-15 00:18:21,711] Trial 1395 finished with values: [0.7100094046864135, 0.061518217556398] and parameters: {'alpha': 0.8694173170637239, 'max_depth': 7, 'eta': 0.1835864240964316, 'subsample': 0.8493505201360313, 'colsample_bytree': 0.6346180096533811}.\n",
      "[I 2025-05-15 00:18:21,996] Trial 1396 finished with values: [0.6707226291459504, 0.012983203043084202] and parameters: {'alpha': 0.030102065723571325, 'max_depth': 5, 'eta': 0.23813647636124352, 'subsample': 0.6766262078975724, 'colsample_bytree': 0.6268842887986352}.\n",
      "[I 2025-05-15 00:18:22,480] Trial 1397 finished with values: [0.7085772578140078, 0.08095382865914004] and parameters: {'alpha': 0.8694173170637239, 'max_depth': 7, 'eta': 0.23008594059692253, 'subsample': 0.7760493019761627, 'colsample_bytree': 0.6346180096533811}.\n",
      "[I 2025-05-15 00:18:22,985] Trial 1398 finished with values: [0.6678721207721035, 0.02848669972159019] and parameters: {'alpha': 0.12082713516430721, 'max_depth': 7, 'eta': 0.23813647636124352, 'subsample': 0.6766262078975724, 'colsample_bytree': 0.6268842887986352}.\n",
      "[I 2025-05-15 00:18:23,987] Trial 1399 finished with values: [0.6821507016753822, 0.05524180837805238] and parameters: {'alpha': 0.8694173170637239, 'max_depth': 6, 'eta': 0.08958273710038178, 'subsample': 0.8493505201360313, 'colsample_bytree': 0.6346180096533811}.\n",
      "[I 2025-05-15 00:18:24,426] Trial 1400 finished with values: [0.6693027359366241, 0.03325492794784929] and parameters: {'alpha': 0.22601217229786574, 'max_depth': 5, 'eta': 0.23813647636124352, 'subsample': 0.9078507035994717, 'colsample_bytree': 0.6268842887986352}.\n",
      "[I 2025-05-15 00:18:25,919] Trial 1401 finished with values: [0.6635772118627713, 0.04604581409061365] and parameters: {'alpha': 0.22601217229786574, 'max_depth': 7, 'eta': 0.10022879453843885, 'subsample': 0.6312962403035282, 'colsample_bytree': 0.7730914500445354}.\n",
      "[I 2025-05-15 00:18:28,096] Trial 1402 finished with values: [0.6878685672098103, 0.032613557181426424] and parameters: {'alpha': 0.22601217229786574, 'max_depth': 7, 'eta': 0.23813647636124352, 'subsample': 0.6766262078975724, 'colsample_bytree': 0.6479107585243286}.\n",
      "[I 2025-05-15 00:18:29,069] Trial 1403 finished with values: [0.6750129429316276, 0.023104934606499872] and parameters: {'alpha': 0.14942822921085153, 'max_depth': 7, 'eta': 0.24431474510203355, 'subsample': 0.8493505201360313, 'colsample_bytree': 0.6198060693014039}.\n",
      "[I 2025-05-15 00:18:30,805] Trial 1404 finished with values: [0.7007272549037628, 0.050318983091182046] and parameters: {'alpha': 0.7158538895177318, 'max_depth': 7, 'eta': 0.23008594059692253, 'subsample': 0.8493505201360313, 'colsample_bytree': 0.6268842887986352}.\n",
      "[I 2025-05-15 00:18:31,588] Trial 1405 finished with values: [0.6635848704021959, 0.02568026948535172] and parameters: {'alpha': 0.12082713516430721, 'max_depth': 7, 'eta': 0.23813647636124352, 'subsample': 0.6631956570556669, 'colsample_bytree': 0.7171393924105901}.\n",
      "[I 2025-05-15 00:18:32,220] Trial 1406 finished with values: [0.7107078634819396, 0.06413410059072926] and parameters: {'alpha': 0.8694173170637239, 'max_depth': 7, 'eta': 0.24026710755528385, 'subsample': 0.8396092253214011, 'colsample_bytree': 0.942379025453602}.\n",
      "[I 2025-05-15 00:18:32,883] Trial 1407 finished with values: [0.6957109115806306, 0.061978987733525316] and parameters: {'alpha': 0.6370308795473967, 'max_depth': 7, 'eta': 0.21500273048430651, 'subsample': 0.872143282534935, 'colsample_bytree': 0.9532604182421414}.\n",
      "[I 2025-05-15 00:18:35,188] Trial 1408 finished with values: [0.7164303241400226, 0.06536448892041015] and parameters: {'alpha': 0.8694173170637239, 'max_depth': 7, 'eta': 0.23008594059692253, 'subsample': 0.8493505201360313, 'colsample_bytree': 0.6268842887986352}.\n",
      "[I 2025-05-15 00:18:36,090] Trial 1409 finished with values: [0.6985782687412119, 0.051372803060446115] and parameters: {'alpha': 0.8694173170637239, 'max_depth': 5, 'eta': 0.25852210898722405, 'subsample': 0.6766262078975724, 'colsample_bytree': 0.6479107585243286}.\n",
      "[I 2025-05-15 00:18:38,838] Trial 1410 finished with values: [0.6992935763234721, 0.041992281674114416] and parameters: {'alpha': 0.6370308795473967, 'max_depth': 7, 'eta': 0.24431474510203355, 'subsample': 0.8493505201360313, 'colsample_bytree': 0.6268842887986352}.\n",
      "[I 2025-05-15 00:18:39,424] Trial 1411 finished with values: [0.6778649830133595, 0.03081012148342867] and parameters: {'alpha': 0.22922811182883618, 'max_depth': 5, 'eta': 0.1835864240964316, 'subsample': 0.6766262078975724, 'colsample_bytree': 0.6479107585243286}.\n",
      "[I 2025-05-15 00:18:39,763] Trial 1412 finished with values: [0.6807216182187462, 0.023067111538977985] and parameters: {'alpha': 0.22601217229786574, 'max_depth': 7, 'eta': 0.19720013217587704, 'subsample': 0.6766262078975724, 'colsample_bytree': 0.6346180096533811}.\n",
      "[I 2025-05-15 00:18:40,118] Trial 1413 finished with values: [0.6885900016236103, 0.025369084250282836] and parameters: {'alpha': 0.22601217229786574, 'max_depth': 5, 'eta': 0.23813647636124352, 'subsample': 0.6766262078975724, 'colsample_bytree': 0.6346180096533811}.\n",
      "[I 2025-05-15 00:18:41,567] Trial 1414 finished with values: [0.6821491699674972, 0.030774433161056197] and parameters: {'alpha': 0.255675048206941, 'max_depth': 7, 'eta': 0.1835864240964316, 'subsample': 0.8493505201360313, 'colsample_bytree': 0.6346180096533811}.\n",
      "[I 2025-05-15 00:18:42,079] Trial 1415 finished with values: [0.6707210974380654, 0.024278679185189583] and parameters: {'alpha': 0.16218400542697864, 'max_depth': 5, 'eta': 0.23813647636124352, 'subsample': 0.9276764228649054, 'colsample_bytree': 0.6268842887986352}.\n",
      "[I 2025-05-15 00:18:42,692] Trial 1416 finished with values: [0.6807231499266312, 0.03358086339729464] and parameters: {'alpha': 0.22601217229786574, 'max_depth': 7, 'eta': 0.1835864240964316, 'subsample': 0.6766262078975724, 'colsample_bytree': 0.6268842887986352}.\n",
      "[I 2025-05-15 00:18:43,091] Trial 1417 finished with values: [0.7142798062695866, 0.06159230683339544] and parameters: {'alpha': 0.8694173170637239, 'max_depth': 6, 'eta': 0.2276608685041732, 'subsample': 0.807108008558591, 'colsample_bytree': 0.7386413997124662}.\n",
      "[I 2025-05-15 00:18:43,595] Trial 1418 finished with values: [0.6885700894211063, 0.055524286690474156] and parameters: {'alpha': 0.8694173170637239, 'max_depth': 5, 'eta': 0.24431474510203355, 'subsample': 0.8493505201360313, 'colsample_bytree': 0.6198060693014039}.\n",
      "[I 2025-05-15 00:18:44,036] Trial 1419 finished with values: [0.6700073215636899, 0.03331929331487294] and parameters: {'alpha': 0.09863751687603828, 'max_depth': 5, 'eta': 0.24431474510203355, 'subsample': 0.6766262078975724, 'colsample_bytree': 0.8104554624640742}.\n",
      "[I 2025-05-15 00:18:45,580] Trial 1420 finished with values: [0.6657246663174372, 0.027219119716962642] and parameters: {'alpha': 0.22922811182883618, 'max_depth': 5, 'eta': 0.07018788561523488, 'subsample': 0.6766262078975724, 'colsample_bytree': 0.625964456133064}.\n",
      "[I 2025-05-15 00:18:45,971] Trial 1421 finished with values: [0.6728700836006164, 0.022549312815649092] and parameters: {'alpha': 0.18593799923326582, 'max_depth': 5, 'eta': 0.20699232781667898, 'subsample': 0.8413876198830823, 'colsample_bytree': 0.6268842887986352}.\n",
      "[I 2025-05-15 00:18:46,332] Trial 1422 finished with values: [0.712870635015455, 0.07966264168053688] and parameters: {'alpha': 0.8694173170637239, 'max_depth': 7, 'eta': 0.23813647636124352, 'subsample': 0.604441880247705, 'colsample_bytree': 0.6268842887986352}.\n",
      "[I 2025-05-15 00:18:46,835] Trial 1423 finished with values: [0.6721471174789313, 0.020250819938704128] and parameters: {'alpha': 0.22601217229786574, 'max_depth': 5, 'eta': 0.23813647636124352, 'subsample': 0.9172780214196266, 'colsample_bytree': 0.6268842887986352}.\n",
      "[I 2025-05-15 00:18:47,151] Trial 1424 finished with values: [0.7128614447681455, 0.067882715004365] and parameters: {'alpha': 0.8241906698573078, 'max_depth': 7, 'eta': 0.24431474510203355, 'subsample': 0.8493505201360313, 'colsample_bytree': 0.6346180096533811}.\n",
      "[I 2025-05-15 00:18:47,399] Trial 1425 finished with values: [0.673579264351337, 0.03969833866234373] and parameters: {'alpha': 0.8694173170637239, 'max_depth': 3, 'eta': 0.24431474510203355, 'subsample': 0.8396092253214011, 'colsample_bytree': 0.6268842887986352}.\n",
      "[I 2025-05-15 00:18:47,723] Trial 1426 finished with values: [0.6942879549555346, 0.060836672387249824] and parameters: {'alpha': 0.5793430959506064, 'max_depth': 7, 'eta': 0.17844804174966883, 'subsample': 0.8376771934629543, 'colsample_bytree': 0.6479107585243286}.\n",
      "[I 2025-05-15 00:18:48,083] Trial 1427 finished with values: [0.6842981561300481, 0.008765096741376821] and parameters: {'alpha': 0.22601217229786574, 'max_depth': 5, 'eta': 0.23813647636124352, 'subsample': 0.6638445452158227, 'colsample_bytree': 0.6268842887986352}.\n",
      "[I 2025-05-15 00:18:48,441] Trial 1428 finished with values: [0.711424702772085, 0.07788600029785077] and parameters: {'alpha': 0.8694173170637239, 'max_depth': 7, 'eta': 0.1835864240964316, 'subsample': 0.807108008558591, 'colsample_bytree': 0.7386413997124662}.\n",
      "[I 2025-05-15 00:18:48,876] Trial 1429 finished with values: [0.6785741637640802, 0.03732932864494764] and parameters: {'alpha': 0.3454929206649592, 'max_depth': 5, 'eta': 0.1835864240964316, 'subsample': 0.807108008558591, 'colsample_bytree': 0.7386413997124662}.\n",
      "[I 2025-05-15 00:18:49,165] Trial 1430 finished with values: [0.6892976506664462, 0.04463044131356255] and parameters: {'alpha': 0.6370308795473967, 'max_depth': 4, 'eta': 0.24431474510203355, 'subsample': 0.8493505201360313, 'colsample_bytree': 0.6268842887986352}.\n",
      "[I 2025-05-15 00:18:49,420] Trial 1431 finished with values: [0.5000061268315397, 0.0] and parameters: {'alpha': 0.006398238570445525, 'max_depth': 7, 'eta': 0.1835864240964316, 'subsample': 0.6766262078975724, 'colsample_bytree': 0.6624630554926771}.\n",
      "[I 2025-05-15 00:18:49,949] Trial 1432 finished with values: [0.6957109115806306, 0.08249611842581635] and parameters: {'alpha': 0.8913664166538733, 'max_depth': 7, 'eta': 0.10531965499251023, 'subsample': 0.8493505201360313, 'colsample_bytree': 0.7353364721126703}.\n",
      "[I 2025-05-15 00:18:50,286] Trial 1433 finished with values: [0.6871593864590896, 0.021637735156326516] and parameters: {'alpha': 0.22601217229786574, 'max_depth': 6, 'eta': 0.24431474510203355, 'subsample': 0.6766262078975724, 'colsample_bytree': 0.6268842887986352}.\n",
      "[I 2025-05-15 00:18:50,982] Trial 1434 finished with values: [0.6992935763234721, 0.041992281674114416] and parameters: {'alpha': 0.6370308795473967, 'max_depth': 7, 'eta': 0.24431474510203355, 'subsample': 0.8493505201360313, 'colsample_bytree': 0.6198060693014039}.\n",
      "[I 2025-05-15 00:18:51,608] Trial 1435 finished with values: [0.6964292825786608, 0.04697312866397949] and parameters: {'alpha': 0.8694173170637239, 'max_depth': 7, 'eta': 0.1919795686809288, 'subsample': 0.6766262078975724, 'colsample_bytree': 0.6346180096533811}.\n",
      "[I 2025-05-15 00:18:52,203] Trial 1436 finished with values: [0.6814353940931217, 0.054536335111574984] and parameters: {'alpha': 0.5586715909784042, 'max_depth': 7, 'eta': 0.09812635778095367, 'subsample': 0.8493505201360313, 'colsample_bytree': 0.6268842887986352}.\n",
      "[I 2025-05-15 00:18:53,044] Trial 1437 finished with values: [0.7064313350672267, 0.0942358881465251] and parameters: {'alpha': 0.8694173170637239, 'max_depth': 7, 'eta': 0.2276608685041732, 'subsample': 0.6366273343562867, 'colsample_bytree': 0.7467898426760461}.\n",
      "[I 2025-05-15 00:18:53,530] Trial 1438 finished with values: [0.6992813226603928, 0.07455971138042813] and parameters: {'alpha': 0.8913664166538733, 'max_depth': 7, 'eta': 0.10022879453843885, 'subsample': 0.8493505201360313, 'colsample_bytree': 0.7730914500445354}.\n",
      "[I 2025-05-15 00:18:54,048] Trial 1439 finished with values: [0.6721501808947012, 0.046260008166549606] and parameters: {'alpha': 0.6438206871584664, 'max_depth': 5, 'eta': 0.10022879453843885, 'subsample': 0.8493505201360313, 'colsample_bytree': 0.6479107585243286}.\n",
      "[I 2025-05-15 00:18:54,443] Trial 1440 finished with values: [0.6700103849794597, 0.05746514379133557] and parameters: {'alpha': 0.42727153515804805, 'max_depth': 5, 'eta': 0.23813647636124352, 'subsample': 0.6766262078975724, 'colsample_bytree': 0.8893412333393085}.\n",
      "[I 2025-05-15 00:18:55,022] Trial 1441 finished with values: [0.6600129276145488, 0.02214326837309652] and parameters: {'alpha': 0.1002094271331867, 'max_depth': 7, 'eta': 0.03784142527739924, 'subsample': 0.8493505201360313, 'colsample_bytree': 0.7730914500445354}.\n",
      "[I 2025-05-15 00:18:55,377] Trial 1442 finished with values: [0.7021440846973191, 0.0755260526276352] and parameters: {'alpha': 0.8694173170637239, 'max_depth': 6, 'eta': 0.2276608685041732, 'subsample': 0.807108008558591, 'colsample_bytree': 0.6622723242777381}.\n",
      "[I 2025-05-15 00:18:55,754] Trial 1443 finished with values: [0.7042884757362153, 0.0802755587107944] and parameters: {'alpha': 0.8694173170637239, 'max_depth': 7, 'eta': 0.1835864240964316, 'subsample': 0.8396092253214011, 'colsample_bytree': 0.9593755059617173}.\n",
      "[I 2025-05-15 00:18:56,195] Trial 1444 finished with values: [0.7142828696853566, 0.08115211624261105] and parameters: {'alpha': 0.8694173170637239, 'max_depth': 7, 'eta': 0.1835864240964316, 'subsample': 0.8493505201360313, 'colsample_bytree': 0.834450287369852}.\n",
      "[I 2025-05-15 00:18:56,549] Trial 1445 finished with values: [0.6857211127551442, 0.060976435902336916] and parameters: {'alpha': 0.8694173170637239, 'max_depth': 4, 'eta': 0.1919795686809288, 'subsample': 0.8493505201360313, 'colsample_bytree': 0.6346180096533811}.\n",
      "[I 2025-05-15 00:18:57,279] Trial 1446 finished with values: [0.7050053150263608, 0.04590912639758284] and parameters: {'alpha': 0.6370308795473967, 'max_depth': 7, 'eta': 0.22739873665679933, 'subsample': 0.8493505201360313, 'colsample_bytree': 0.6268842887986352}.\n",
      "[I 2025-05-15 00:18:57,912] Trial 1447 finished with values: [0.6992935763234721, 0.041992281674114416] and parameters: {'alpha': 0.6370308795473967, 'max_depth': 7, 'eta': 0.24431474510203355, 'subsample': 0.8493505201360313, 'colsample_bytree': 0.6479107585243286}.\n",
      "[I 2025-05-15 00:18:58,313] Trial 1448 finished with values: [0.6728654884769615, 0.03850534943934095] and parameters: {'alpha': 0.18593799923326582, 'max_depth': 7, 'eta': 0.22892979191084697, 'subsample': 0.6501198499955313, 'colsample_bytree': 0.6479107585243286}.\n",
      "[I 2025-05-15 00:18:59,144] Trial 1449 finished with values: [0.6678598671090238, 0.06033953476472981] and parameters: {'alpha': 0.6370308795473967, 'max_depth': 7, 'eta': 0.031021935250833743, 'subsample': 0.8493505201360313, 'colsample_bytree': 0.6479107585243286}.\n",
      "[I 2025-05-15 00:18:59,837] Trial 1450 finished with values: [0.6621465966982506, 0.034048658006000515] and parameters: {'alpha': 0.22601217229786574, 'max_depth': 7, 'eta': 0.0654353210631816, 'subsample': 0.685860345052888, 'colsample_bytree': 0.6268842887986352}.\n",
      "[I 2025-05-15 00:19:00,668] Trial 1451 finished with values: [0.6878731623334651, 0.022191737275063367] and parameters: {'alpha': 0.22922811182883618, 'max_depth': 5, 'eta': 0.21500273048430651, 'subsample': 0.6766262078975724, 'colsample_bytree': 0.6268842887986352}.\n",
      "[I 2025-05-15 00:19:01,389] Trial 1452 finished with values: [0.6800155008837954, 0.015398237667929268] and parameters: {'alpha': 0.22601217229786574, 'max_depth': 6, 'eta': 0.21500273048430651, 'subsample': 0.6766262078975724, 'colsample_bytree': 0.6268842887986352}.\n",
      "[I 2025-05-15 00:19:01,782] Trial 1453 finished with values: [0.6992935763234721, 0.041992281674114416] and parameters: {'alpha': 0.6370308795473967, 'max_depth': 7, 'eta': 0.24431474510203355, 'subsample': 0.8493505201360313, 'colsample_bytree': 0.6198060693014039}.\n",
      "[I 2025-05-15 00:19:02,244] Trial 1454 finished with values: [0.6685782381070542, 0.04174165346016153] and parameters: {'alpha': 0.22922811182883618, 'max_depth': 7, 'eta': 0.1835864240964316, 'subsample': 0.7959475084887324, 'colsample_bytree': 0.6268842887986352}.\n",
      "[I 2025-05-15 00:19:02,865] Trial 1455 finished with values: [0.6750037526843181, 0.059615394983619396] and parameters: {'alpha': 0.6370308795473967, 'max_depth': 7, 'eta': 0.10022879453843885, 'subsample': 0.6631956570556669, 'colsample_bytree': 0.6268842887986352}.\n",
      "[I 2025-05-15 00:19:03,339] Trial 1456 finished with values: [0.6750068161000878, 0.026163084818511168] and parameters: {'alpha': 0.22601217229786574, 'max_depth': 7, 'eta': 0.15021598937576297, 'subsample': 0.8493505201360313, 'colsample_bytree': 0.6268842887986352}.\n",
      "[I 2025-05-15 00:19:03,891] Trial 1457 finished with values: [0.7157211433893019, 0.05271990245915664] and parameters: {'alpha': 0.8694173170637239, 'max_depth': 7, 'eta': 0.24431474510203355, 'subsample': 0.8493505201360313, 'colsample_bytree': 0.6198060693014039}.\n",
      "[I 2025-05-15 00:19:04,533] Trial 1458 finished with values: [0.650009343418098, 0.023686949838104116] and parameters: {'alpha': 0.12082713516430721, 'max_depth': 7, 'eta': 0.04339778773414886, 'subsample': 0.8493505201360313, 'colsample_bytree': 0.91988693660571}.\n",
      "[I 2025-05-15 00:19:04,681] Trial 1459 finished with values: [0.6807292767581709, 0.041808469830770634] and parameters: {'alpha': 0.22601217229786574, 'max_depth': 5, 'eta': 0.24431474510203355, 'subsample': 0.8493505201360313, 'colsample_bytree': 0.8694534418334896}.\n",
      "[I 2025-05-15 00:19:04,864] Trial 1460 finished with values: [0.6821507016753822, 0.06304418214626131] and parameters: {'alpha': 0.8694173170637239, 'max_depth': 4, 'eta': 0.2276608685041732, 'subsample': 0.6766262078975724, 'colsample_bytree': 0.6624630554926771}.\n",
      "[I 2025-05-15 00:19:05,152] Trial 1461 finished with values: [0.6907252024151971, 0.05037090771220307] and parameters: {'alpha': 0.22601217229786574, 'max_depth': 5, 'eta': 0.23813647636124352, 'subsample': 0.6766262078975724, 'colsample_bytree': 0.7386413997124662}.\n",
      "[I 2025-05-15 00:19:05,283] Trial 1462 finished with values: [0.6735807960592219, 0.028935371220333878] and parameters: {'alpha': 0.22601217229786574, 'max_depth': 5, 'eta': 0.09699617056449192, 'subsample': 0.8493505201360313, 'colsample_bytree': 0.7114880920356537}.\n",
      "[I 2025-05-15 00:19:05,565] Trial 1463 finished with values: [0.6814216087221574, 0.07203543694364237] and parameters: {'alpha': 0.8694173170637239, 'max_depth': 5, 'eta': 0.24431474510203355, 'subsample': 0.6766262078975724, 'colsample_bytree': 0.7656903770319082}.\n",
      "[I 2025-05-15 00:19:06,001] Trial 1464 finished with values: [0.6871456010881253, 0.06903944303010992] and parameters: {'alpha': 0.6370308795473967, 'max_depth': 7, 'eta': 0.13594625449014386, 'subsample': 0.9887746666329729, 'colsample_bytree': 0.6198060693014039}.\n",
      "[I 2025-05-15 00:19:06,505] Trial 1465 finished with values: [0.6771512071389841, 0.05258741571667761] and parameters: {'alpha': 0.22601217229786574, 'max_depth': 5, 'eta': 0.1919795686809288, 'subsample': 0.8493505201360313, 'colsample_bytree': 0.8631749304156298}.\n",
      "[I 2025-05-15 00:19:06,629] Trial 1466 finished with values: [0.5000061268315397, 0.0] and parameters: {'alpha': 0.006398238570445525, 'max_depth': 7, 'eta': 0.2427505730536965, 'subsample': 0.8493505201360313, 'colsample_bytree': 0.6198060693014039}.\n",
      "[I 2025-05-15 00:19:06,749] Trial 1467 finished with values: [0.6771573339705238, 0.025332112086421592] and parameters: {'alpha': 0.26061843390740935, 'max_depth': 5, 'eta': 0.23008594059692253, 'subsample': 0.8493505201360313, 'colsample_bytree': 0.6268842887986352}.\n",
      "[I 2025-05-15 00:19:06,896] Trial 1468 finished with values: [0.7042961342756401, 0.0601256121852319] and parameters: {'alpha': 0.8694173170637239, 'max_depth': 7, 'eta': 0.14969520624193777, 'subsample': 0.8493505201360313, 'colsample_bytree': 0.6346180096533811}.\n",
      "[I 2025-05-15 00:19:07,016] Trial 1469 finished with values: [0.6950093893693347, 0.06035871324824494] and parameters: {'alpha': 0.5175181628308164, 'max_depth': 7, 'eta': 0.1835864240964316, 'subsample': 0.8493505201360313, 'colsample_bytree': 0.6346180096533811}.\n",
      "[I 2025-05-15 00:19:07,144] Trial 1470 finished with values: [0.7049945930711662, 0.07994325581957111] and parameters: {'alpha': 0.8694173170637239, 'max_depth': 7, 'eta': 0.1835864240964316, 'subsample': 0.8493505201360313, 'colsample_bytree': 0.9756278107268801}.\n",
      "[I 2025-05-15 00:19:07,290] Trial 1471 finished with values: [0.665730793148977, 0.012493203094581204] and parameters: {'alpha': 0.12082713516430721, 'max_depth': 7, 'eta': 0.10022879453843885, 'subsample': 0.6631956570556669, 'colsample_bytree': 0.6268842887986352}.\n",
      "[I 2025-05-15 00:19:07,475] Trial 1472 finished with values: [0.6900022362935121, 0.06144359148769644] and parameters: {'alpha': 0.47940970507282676, 'max_depth': 6, 'eta': 0.2276608685041732, 'subsample': 0.8822720509993831, 'colsample_bytree': 0.7386413997124662}.\n",
      "[I 2025-05-15 00:19:07,697] Trial 1473 finished with values: [0.6757251870981181, 0.05530106034497432] and parameters: {'alpha': 0.6370308795473967, 'max_depth': 7, 'eta': 0.055670394347665644, 'subsample': 0.8493505201360313, 'colsample_bytree': 0.6479107585243286}.\n",
      "[I 2025-05-15 00:19:07,886] Trial 1474 finished with values: [0.6600052690751242, 0.022500944448474575] and parameters: {'alpha': 0.22601217229786574, 'max_depth': 5, 'eta': 0.038830065838408805, 'subsample': 0.6638445452158227, 'colsample_bytree': 0.6346180096533811}.\n",
      "[I 2025-05-15 00:19:08,034] Trial 1475 finished with values: [0.7050053150263608, 0.04590912639758284] and parameters: {'alpha': 0.6370308795473967, 'max_depth': 7, 'eta': 0.22739873665679933, 'subsample': 0.8493505201360313, 'colsample_bytree': 0.6268842887986352}.\n",
      "[I 2025-05-15 00:19:08,200] Trial 1476 finished with values: [0.7014303088229438, 0.09093723493792634] and parameters: {'alpha': 0.8694173170637239, 'max_depth': 6, 'eta': 0.23813647636124352, 'subsample': 0.6128413711456364, 'colsample_bytree': 0.8908520240240845}.\n",
      "[I 2025-05-15 00:19:08,338] Trial 1477 finished with values: [0.6907083536284627, 0.05080969810096455] and parameters: {'alpha': 0.6370308795473967, 'max_depth': 5, 'eta': 0.23813647636124352, 'subsample': 0.8493505201360313, 'colsample_bytree': 0.6198060693014039}.\n",
      "[I 2025-05-15 00:19:08,526] Trial 1478 finished with values: [0.6771496754310992, 0.04146899944520574] and parameters: {'alpha': 0.8694173170637239, 'max_depth': 5, 'eta': 0.09817731214202353, 'subsample': 0.8493505201360313, 'colsample_bytree': 0.6346180096533811}.\n",
      "[I 2025-05-15 00:19:08,734] Trial 1479 finished with values: [0.6885900016236103, 0.025369084250282836] and parameters: {'alpha': 0.22601217229786574, 'max_depth': 5, 'eta': 0.23813647636124352, 'subsample': 0.6766262078975724, 'colsample_bytree': 0.6268842887986352}.\n",
      "[I 2025-05-15 00:19:08,985] Trial 1480 finished with values: [0.7150027723912716, 0.06513860051595072] and parameters: {'alpha': 0.8694173170637239, 'max_depth': 7, 'eta': 0.22739873665679933, 'subsample': 0.8493505201360313, 'colsample_bytree': 0.6268842887986352}.\n",
      "[I 2025-05-15 00:19:09,137] Trial 1481 finished with values: [0.7150027723912716, 0.06513860051595072] and parameters: {'alpha': 0.8694173170637239, 'max_depth': 7, 'eta': 0.22739873665679933, 'subsample': 0.8493505201360313, 'colsample_bytree': 0.6346180096533811}.\n",
      "[I 2025-05-15 00:19:09,276] Trial 1482 finished with values: [0.6807323401739408, 0.04024713422501647] and parameters: {'alpha': 0.22601217229786574, 'max_depth': 5, 'eta': 0.23813647636124352, 'subsample': 0.8376771934629543, 'colsample_bytree': 0.9901074621532081}.\n",
      "[I 2025-05-15 00:19:09,446] Trial 1483 finished with values: [0.7150027723912716, 0.06513860051595072] and parameters: {'alpha': 0.8694173170637239, 'max_depth': 7, 'eta': 0.22739873665679933, 'subsample': 0.8493505201360313, 'colsample_bytree': 0.6268842887986352}.\n",
      "[I 2025-05-15 00:19:09,700] Trial 1484 finished with values: [0.7150027723912716, 0.06513860051595072] and parameters: {'alpha': 0.8694173170637239, 'max_depth': 7, 'eta': 0.2276608685041732, 'subsample': 0.8493505201360313, 'colsample_bytree': 0.6268842887986352}.\n",
      "[I 2025-05-15 00:19:09,861] Trial 1485 finished with values: [0.7099986827312189, 0.06866495048263253] and parameters: {'alpha': 0.6370308795473967, 'max_depth': 7, 'eta': 0.23008594059692253, 'subsample': 0.8493505201360313, 'colsample_bytree': 0.8006647947119854}.\n",
      "[I 2025-05-15 00:19:10,010] Trial 1486 finished with values: [0.6821522333832669, 0.06620989785896617] and parameters: {'alpha': 0.5025738214864, 'max_depth': 7, 'eta': 0.1835864240964316, 'subsample': 0.8493505201360313, 'colsample_bytree': 0.6867468398236297}.\n",
      "[I 2025-05-15 00:19:10,147] Trial 1487 finished with values: [0.6600129276145488, 0.029680347729195793] and parameters: {'alpha': 0.12082713516430721, 'max_depth': 7, 'eta': 0.10022879453843885, 'subsample': 0.8493505201360313, 'colsample_bytree': 0.7730914500445354}.\n",
      "[I 2025-05-15 00:19:10,281] Trial 1488 finished with values: [0.7157211433893019, 0.05271990245915664] and parameters: {'alpha': 0.8694173170637239, 'max_depth': 7, 'eta': 0.24431474510203355, 'subsample': 0.8493505201360313, 'colsample_bytree': 0.6268842887986352}.\n",
      "[I 2025-05-15 00:19:10,407] Trial 1489 finished with values: [0.6950139844929893, 0.058139144111446404] and parameters: {'alpha': 0.6370308795473967, 'max_depth': 7, 'eta': 0.1835864240964316, 'subsample': 0.8493505201360313, 'colsample_bytree': 0.6346180096533811}.\n",
      "[I 2025-05-15 00:19:10,606] Trial 1490 finished with values: [0.7021425529894342, 0.0838538598944204] and parameters: {'alpha': 0.6370308795473967, 'max_depth': 6, 'eta': 0.2276608685041732, 'subsample': 0.807108008558591, 'colsample_bytree': 0.9017349302373487}.\n",
      "[I 2025-05-15 00:19:10,775] Trial 1491 finished with values: [0.7135706255188662, 0.06903757820553985] and parameters: {'alpha': 0.6370308795473967, 'max_depth': 7, 'eta': 0.24431474510203355, 'subsample': 0.9996480282353214, 'colsample_bytree': 0.7180890320294491}.\n",
      "[I 2025-05-15 00:19:10,919] Trial 1492 finished with values: [0.6871624498748594, 0.01770223643561486] and parameters: {'alpha': 0.22601217229786574, 'max_depth': 5, 'eta': 0.24431474510203355, 'subsample': 0.6766262078975724, 'colsample_bytree': 0.6346180096533811}.\n",
      "[I 2025-05-15 00:19:11,049] Trial 1493 finished with values: [0.6935665205417344, 0.07034082559763874] and parameters: {'alpha': 0.8913664166538733, 'max_depth': 5, 'eta': 0.23813647636124352, 'subsample': 0.8493505201360313, 'colsample_bytree': 0.6268842887986352}.\n",
      "[I 2025-05-15 00:19:11,241] Trial 1494 finished with values: [0.6771420168916746, 0.04274342602341463] and parameters: {'alpha': 0.22601217229786574, 'max_depth': 7, 'eta': 0.22739873665679933, 'subsample': 0.8493505201360313, 'colsample_bytree': 0.930161376355533}.\n",
      "[I 2025-05-15 00:19:11,462] Trial 1495 finished with values: [0.6978507074958721, 0.0748223645335162] and parameters: {'alpha': 0.8694173170637239, 'max_depth': 7, 'eta': 0.1826802827918546, 'subsample': 0.8493505201360313, 'colsample_bytree': 0.7266640162474123}.\n",
      "[I 2025-05-15 00:19:11,612] Trial 1496 finished with values: [0.6807231499266312, 0.03358086339729464] and parameters: {'alpha': 0.22601217229786574, 'max_depth': 7, 'eta': 0.1835864240964316, 'subsample': 0.6766262078975724, 'colsample_bytree': 0.6346180096533811}.\n",
      "[I 2025-05-15 00:19:11,742] Trial 1497 finished with values: [0.6871624498748594, 0.01770223643561486] and parameters: {'alpha': 0.22601217229786574, 'max_depth': 5, 'eta': 0.24431474510203355, 'subsample': 0.6766262078975724, 'colsample_bytree': 0.6268842887986352}.\n",
      "[I 2025-05-15 00:19:11,862] Trial 1498 finished with values: [0.6650047636115222, 0.019818684874740904] and parameters: {'alpha': 0.22922811182883618, 'max_depth': 4, 'eta': 0.1263429575017935, 'subsample': 0.6766262078975724, 'colsample_bytree': 0.6310670622353312}.\n",
      "[I 2025-05-15 00:19:12,023] Trial 1499 finished with values: [0.6942802964161099, 0.06664182752560452] and parameters: {'alpha': 0.8694173170637239, 'max_depth': 5, 'eta': 0.23008594059692253, 'subsample': 0.8493505201360313, 'colsample_bytree': 0.6346180096533811}.\n",
      "[I 2025-05-15 00:19:12,164] Trial 1500 finished with values: [0.6750098795158577, 0.019794571730841076] and parameters: {'alpha': 0.22601217229786574, 'max_depth': 7, 'eta': 0.1434749572109698, 'subsample': 0.8493505201360313, 'colsample_bytree': 0.6268842887986352}.\n",
      "[I 2025-05-15 00:19:12,330] Trial 1501 finished with values: [0.7050053150263608, 0.05638354077268661] and parameters: {'alpha': 0.8694173170637239, 'max_depth': 7, 'eta': 0.1919795686809288, 'subsample': 0.8493505201360313, 'colsample_bytree': 0.6268842887986352}.\n",
      "[I 2025-05-15 00:19:12,430] Trial 1502 finished with values: [0.5000061268315397, 0.0] and parameters: {'alpha': 0.006398238570445525, 'max_depth': 7, 'eta': 0.2427505730536965, 'subsample': 0.8493505201360313, 'colsample_bytree': 0.6198060693014039}.\n",
      "[I 2025-05-15 00:19:12,561] Trial 1503 finished with values: [0.6907083536284628, 0.05712292101838697] and parameters: {'alpha': 0.6370308795473967, 'max_depth': 7, 'eta': 0.23813647636124352, 'subsample': 0.6566444389764806, 'colsample_bytree': 0.6346180096533811}.\n",
      "[I 2025-05-15 00:19:12,675] Trial 1504 finished with values: [0.6821552967990369, 0.02026719772024375] and parameters: {'alpha': 0.22601217229786574, 'max_depth': 4, 'eta': 0.23008594059692253, 'subsample': 0.6766262078975724, 'colsample_bytree': 0.6346180096533811}.\n",
      "[I 2025-05-15 00:19:12,824] Trial 1505 finished with values: [0.693577242496929, 0.04118494273800174] and parameters: {'alpha': 0.5094664582525775, 'max_depth': 7, 'eta': 0.22739873665679933, 'subsample': 0.8493505201360313, 'colsample_bytree': 0.6479107585243286}.\n",
      "[I 2025-05-15 00:19:12,937] Trial 1506 finished with values: [0.5000061268315397, 0.0] and parameters: {'alpha': 0.006398238570445525, 'max_depth': 7, 'eta': 0.1835864240964316, 'subsample': 0.6766262078975724, 'colsample_bytree': 0.7020752495004481}.\n",
      "[I 2025-05-15 00:19:13,104] Trial 1507 finished with values: [0.6821491699674972, 0.05324265684242879] and parameters: {'alpha': 0.41146901116645707, 'max_depth': 5, 'eta': 0.23813647636124352, 'subsample': 0.8493505201360313, 'colsample_bytree': 0.9642367866803077}.\n",
      "[I 2025-05-15 00:19:13,380] Trial 1508 finished with values: [0.688576216252646, 0.07166017381938332] and parameters: {'alpha': 0.8694173170637239, 'max_depth': 7, 'eta': 0.09494481092872113, 'subsample': 0.9894204609734042, 'colsample_bytree': 0.6198060693014039}.\n",
      "[I 2025-05-15 00:19:13,595] Trial 1509 finished with values: [0.6907114170442327, 0.06415066222884468] and parameters: {'alpha': 0.8694173170637239, 'max_depth': 5, 'eta': 0.2276608685041732, 'subsample': 0.6766262078975724, 'colsample_bytree': 0.6268842887986352}.\n",
      "[I 2025-05-15 00:19:13,784] Trial 1510 finished with values: [0.6928680617462083, 0.06699883578766944] and parameters: {'alpha': 0.8694173170637239, 'max_depth': 5, 'eta': 0.23008594059692253, 'subsample': 0.8592394834706831, 'colsample_bytree': 0.6346180096533811}.\n",
      "[I 2025-05-15 00:19:14,007] Trial 1511 finished with values: [0.6885900016236103, 0.025369084250282836] and parameters: {'alpha': 0.22601217229786574, 'max_depth': 5, 'eta': 0.23813647636124352, 'subsample': 0.6766262078975724, 'colsample_bytree': 0.6268842887986352}.\n",
      "[I 2025-05-15 00:19:14,327] Trial 1512 finished with values: [0.6835813168399029, 0.03408038026326495] and parameters: {'alpha': 0.22922811182883618, 'max_depth': 6, 'eta': 0.21500273048430651, 'subsample': 0.8493505201360313, 'colsample_bytree': 0.6479107585243286}.\n",
      "[I 2025-05-15 00:19:14,510] Trial 1513 finished with values: [0.6978629611589514, 0.04959982754505134] and parameters: {'alpha': 0.6370308795473967, 'max_depth': 7, 'eta': 0.2373707812625575, 'subsample': 0.8493505201360313, 'colsample_bytree': 0.6268842887986352}.\n",
      "[I 2025-05-15 00:19:14,724] Trial 1514 finished with values: [0.7150027723912716, 0.06513860051595072] and parameters: {'alpha': 0.8694173170637239, 'max_depth': 7, 'eta': 0.2276608685041732, 'subsample': 0.8493505201360313, 'colsample_bytree': 0.6268842887986352}.\n",
      "[I 2025-05-15 00:19:14,879] Trial 1515 finished with values: [0.6771450803074445, 0.047593539972954145] and parameters: {'alpha': 0.3500522607804346, 'max_depth': 7, 'eta': 0.1835864240964316, 'subsample': 0.8396092253214011, 'colsample_bytree': 0.6479107585243286}.\n",
      "[I 2025-05-15 00:19:15,040] Trial 1516 finished with values: [0.6957124432885156, 0.0783996401161201] and parameters: {'alpha': 0.8694173170637239, 'max_depth': 7, 'eta': 0.10022879453843885, 'subsample': 0.8106810908637087, 'colsample_bytree': 0.7730914500445354}.\n",
      "[I 2025-05-15 00:19:15,184] Trial 1517 finished with values: [0.5000061268315397, 0.0] and parameters: {'alpha': 0.006398238570445525, 'max_depth': 7, 'eta': 0.1835864240964316, 'subsample': 0.6766262078975724, 'colsample_bytree': 0.6268842887986352}.\n",
      "[I 2025-05-15 00:19:15,310] Trial 1518 finished with values: [0.6750068161000878, 0.04166481324604008] and parameters: {'alpha': 0.4647276603588334, 'max_depth': 4, 'eta': 0.22739873665679933, 'subsample': 0.7178224231804466, 'colsample_bytree': 0.9901074621532081}.\n",
      "[I 2025-05-15 00:19:15,440] Trial 1519 finished with values: [0.6835843802556726, 0.04587351048117714] and parameters: {'alpha': 0.22922811182883618, 'max_depth': 5, 'eta': 0.24431474510203355, 'subsample': 0.8493505201360313, 'colsample_bytree': 0.8692371501849478}.\n",
      "[I 2025-05-15 00:19:15,583] Trial 1520 finished with values: [0.6814353940931217, 0.04375204356804019] and parameters: {'alpha': 0.22601217229786574, 'max_depth': 5, 'eta': 0.23813647636124352, 'subsample': 0.8493505201360313, 'colsample_bytree': 0.667251463087396}.\n",
      "[I 2025-05-15 00:19:15,717] Trial 1521 finished with values: [0.6807231499266312, 0.04696963552548953] and parameters: {'alpha': 0.404810328613304, 'max_depth': 4, 'eta': 0.24431474510203355, 'subsample': 0.6295845804530446, 'colsample_bytree': 0.6268842887986352}.\n",
      "[I 2025-05-15 00:19:15,920] Trial 1522 finished with values: [0.6942894866634194, 0.042219150130857634] and parameters: {'alpha': 0.6941383164837248, 'max_depth': 7, 'eta': 0.22739873665679933, 'subsample': 0.8493505201360313, 'colsample_bytree': 0.6268842887986352}.\n",
      "[I 2025-05-15 00:19:16,050] Trial 1523 finished with values: [0.6828721360891822, 0.05687682325289448] and parameters: {'alpha': 0.22601217229786574, 'max_depth': 7, 'eta': 0.2398636457518272, 'subsample': 0.6766262078975724, 'colsample_bytree': 0.966752017498391}.\n",
      "[I 2025-05-15 00:19:16,187] Trial 1524 finished with values: [0.6992935763234721, 0.041992281674114416] and parameters: {'alpha': 0.6370308795473967, 'max_depth': 7, 'eta': 0.24431474510203355, 'subsample': 0.8493505201360313, 'colsample_bytree': 0.6197048042940488}.\n",
      "[I 2025-05-15 00:19:16,419] Trial 1525 finished with values: [0.6771481437232142, 0.06857700881276098] and parameters: {'alpha': 0.6370308795473967, 'max_depth': 7, 'eta': 0.02240287279655611, 'subsample': 0.8396092253214011, 'colsample_bytree': 0.6268842887986352}.\n",
      "[I 2025-05-15 00:19:16,553] Trial 1526 finished with values: [0.6771588656784088, 0.048002916119592585] and parameters: {'alpha': 0.22601217229786574, 'max_depth': 6, 'eta': 0.23813647636124352, 'subsample': 0.6766262078975724, 'colsample_bytree': 0.9476014953014651}.\n",
      "[I 2025-05-15 00:19:16,754] Trial 1527 finished with values: [0.6707241608538353, 0.039374280887063885] and parameters: {'alpha': 0.22601217229786574, 'max_depth': 5, 'eta': 0.0910517072762004, 'subsample': 0.9575216307793226, 'colsample_bytree': 0.6268842887986352}.\n",
      "[I 2025-05-15 00:19:16,929] Trial 1528 finished with values: [0.6871593864590896, 0.01623542664556941] and parameters: {'alpha': 0.22601217229786574, 'max_depth': 6, 'eta': 0.23813647636124352, 'subsample': 0.6766262078975724, 'colsample_bytree': 0.6479107585243286}.\n",
      "[I 2025-05-15 00:19:17,079] Trial 1529 finished with values: [0.6585915026973376, 0.02415678394228396] and parameters: {'alpha': 0.15097679267965947, 'max_depth': 7, 'eta': 0.10022879453843885, 'subsample': 0.6766262078975724, 'colsample_bytree': 0.6268842887986352}.\n",
      "[I 2025-05-15 00:19:17,226] Trial 1530 finished with values: [0.6971399950372664, 0.05554313680974173] and parameters: {'alpha': 0.6370308795473967, 'max_depth': 6, 'eta': 0.24431474510203355, 'subsample': 0.8493505201360313, 'colsample_bytree': 0.6198060693014039}.\n",
      "[I 2025-05-15 00:19:17,378] Trial 1531 finished with values: [0.6785772271798501, 0.021915660241236663] and parameters: {'alpha': 0.22601217229786574, 'max_depth': 7, 'eta': 0.23813647636124352, 'subsample': 0.6638445452158227, 'colsample_bytree': 0.6268842887986352}.\n",
      "[I 2025-05-15 00:19:17,568] Trial 1532 finished with values: [0.6792910030542255, 0.05026061267615822] and parameters: {'alpha': 0.22601217229786574, 'max_depth': 5, 'eta': 0.23813647636124352, 'subsample': 0.6037142283714982, 'colsample_bytree': 0.6268842887986352}.\n",
      "[I 2025-05-15 00:19:17,745] Trial 1533 finished with values: [0.5000061268315397, 0.0] and parameters: {'alpha': 0.006398238570445525, 'max_depth': 3, 'eta': 0.10762930122515309, 'subsample': 0.8493505201360313, 'colsample_bytree': 0.6198060693014039}.\n",
      "[I 2025-05-15 00:19:18,027] Trial 1534 finished with values: [0.6607251717810393, 0.02549553500704786] and parameters: {'alpha': 0.12082713516430721, 'max_depth': 7, 'eta': 0.11800854862478968, 'subsample': 0.8493505201360313, 'colsample_bytree': 0.8412007994555131}.\n",
      "[I 2025-05-15 00:19:18,353] Trial 1535 finished with values: [0.7050053150263608, 0.05638354077268661] and parameters: {'alpha': 0.8694173170637239, 'max_depth': 7, 'eta': 0.1919795686809288, 'subsample': 0.8493505201360313, 'colsample_bytree': 0.6346180096533811}.\n",
      "[I 2025-05-15 00:19:18,664] Trial 1536 finished with values: [0.6971399950372664, 0.05554313680974173] and parameters: {'alpha': 0.6370308795473967, 'max_depth': 6, 'eta': 0.24431474510203355, 'subsample': 0.8493505201360313, 'colsample_bytree': 0.6198060693014039}.\n",
      "[I 2025-05-15 00:19:18,881] Trial 1537 finished with values: [0.6871624498748594, 0.01770223643561486] and parameters: {'alpha': 0.22601217229786574, 'max_depth': 5, 'eta': 0.24431474510203355, 'subsample': 0.6766262078975724, 'colsample_bytree': 0.6268842887986352}.\n",
      "[I 2025-05-15 00:19:19,121] Trial 1538 finished with values: [0.6928634666225535, 0.05470869935337239] and parameters: {'alpha': 0.8694173170637239, 'max_depth': 7, 'eta': 0.2276608685041732, 'subsample': 0.6766262078975724, 'colsample_bytree': 0.6346180096533811}.\n",
      "[I 2025-05-15 00:19:19,597] Trial 1539 finished with values: [0.7050053150263608, 0.04590912639758284] and parameters: {'alpha': 0.6370308795473967, 'max_depth': 7, 'eta': 0.2276608685041732, 'subsample': 0.8493505201360313, 'colsample_bytree': 0.6268842887986352}.\n",
      "[I 2025-05-15 00:19:19,792] Trial 1540 finished with values: [0.6885746845447612, 0.04813575079033322] and parameters: {'alpha': 0.8219101979832351, 'max_depth': 5, 'eta': 0.23813647636124352, 'subsample': 0.6766262078975724, 'colsample_bytree': 0.6198060693014039}.\n",
      "[I 2025-05-15 00:19:19,963] Trial 1541 finished with values: [0.6700042581479201, 0.026292770062910253] and parameters: {'alpha': 0.22601217229786574, 'max_depth': 5, 'eta': 0.1012075126276007, 'subsample': 0.7844988823958363, 'colsample_bytree': 0.6346180096533811}.\n",
      "[I 2025-05-15 00:19:20,099] Trial 1542 finished with values: [0.6814353940931217, 0.036014636881054746] and parameters: {'alpha': 0.22601217229786574, 'max_depth': 7, 'eta': 0.23813647636124352, 'subsample': 0.8493505201360313, 'colsample_bytree': 0.6198060693014039}.\n",
      "[I 2025-05-15 00:19:20,235] Trial 1543 finished with values: [0.6778573244739349, 0.04065695685262278] and parameters: {'alpha': 0.22601217229786574, 'max_depth': 4, 'eta': 0.26300553537341725, 'subsample': 0.6766262078975724, 'colsample_bytree': 0.7462313685231639}.\n",
      "[I 2025-05-15 00:19:20,403] Trial 1544 finished with values: [0.6714348733124408, 0.045184739349345304] and parameters: {'alpha': 0.6370308795473967, 'max_depth': 5, 'eta': 0.10022879453843885, 'subsample': 0.8493505201360313, 'colsample_bytree': 0.6268842887986352}.\n",
      "[I 2025-05-15 00:19:20,538] Trial 1545 finished with values: [0.7178594075966584, 0.0564799428852823] and parameters: {'alpha': 0.9751144043073579, 'max_depth': 7, 'eta': 0.2283330883102839, 'subsample': 0.8493505201360313, 'colsample_bytree': 0.6346180096533811}.\n",
      "[I 2025-05-15 00:19:20,723] Trial 1546 finished with values: [0.6892838652954817, 0.06164964604166847] and parameters: {'alpha': 0.8913664166538733, 'max_depth': 5, 'eta': 0.24431474510203355, 'subsample': 0.8493505201360313, 'colsample_bytree': 0.6479107585243286}.\n",
      "[I 2025-05-15 00:19:20,869] Trial 1547 finished with values: [0.6878593769625008, 0.05564818059773293] and parameters: {'alpha': 0.8370829613917022, 'max_depth': 4, 'eta': 0.24431474510203355, 'subsample': 0.8876395307361378, 'colsample_bytree': 0.6268842887986352}.\n",
      "[I 2025-05-15 00:19:21,051] Trial 1548 finished with values: [0.7178594075966584, 0.08620580794271843] and parameters: {'alpha': 0.8694173170637239, 'max_depth': 7, 'eta': 0.22739873665679933, 'subsample': 0.7823269884014272, 'colsample_bytree': 0.6479107585243286}.\n",
      "[I 2025-05-15 00:19:21,283] Trial 1549 finished with values: [0.6728639567690767, 0.018227810244626663] and parameters: {'alpha': 0.22601217229786574, 'max_depth': 5, 'eta': 0.24431474510203355, 'subsample': 0.6766262078975724, 'colsample_bytree': 0.7118234611757939}.\n",
      "[I 2025-05-15 00:19:21,507] Trial 1550 finished with values: [0.6743052938887919, 0.035134139729780356] and parameters: {'alpha': 0.12082713516430721, 'max_depth': 7, 'eta': 0.24431474510203355, 'subsample': 0.6631956570556669, 'colsample_bytree': 0.6711019973494597}.\n",
      "[I 2025-05-15 00:19:21,976] Trial 1551 finished with values: [0.6900129582487065, 0.037853616790616294] and parameters: {'alpha': 0.22601217229786574, 'max_depth': 7, 'eta': 0.24431474510203355, 'subsample': 0.6766262078975724, 'colsample_bytree': 0.6268842887986352}.\n",
      "[I 2025-05-15 00:19:22,173] Trial 1552 finished with values: [0.6771512071389841, 0.032402445839207816] and parameters: {'alpha': 0.47119036064677444, 'max_depth': 5, 'eta': 0.24431474510203355, 'subsample': 0.6766262078975724, 'colsample_bytree': 0.6346180096533811}.\n",
      "[I 2025-05-15 00:19:22,365] Trial 1553 finished with values: [0.7107231805607889, 0.07620642401613946] and parameters: {'alpha': 0.8694173170637239, 'max_depth': 7, 'eta': 0.2373707812625575, 'subsample': 0.7741490018773143, 'colsample_bytree': 0.6268842887986352}.\n",
      "[I 2025-05-15 00:19:22,580] Trial 1554 finished with values: [0.7050053150263608, 0.04590912639758284] and parameters: {'alpha': 0.6370308795473967, 'max_depth': 7, 'eta': 0.22739873665679933, 'subsample': 0.8493505201360313, 'colsample_bytree': 0.6198060693014039}.\n",
      "[I 2025-05-15 00:19:22,965] Trial 1555 finished with values: [0.6835767217162481, 0.051802264203255684] and parameters: {'alpha': 0.22601217229786574, 'max_depth': 5, 'eta': 0.24431474510203355, 'subsample': 0.6766262078975724, 'colsample_bytree': 0.9141577479785798}.\n",
      "[I 2025-05-15 00:19:23,121] Trial 1556 finished with values: [0.6849996783413442, 0.0488536112117256] and parameters: {'alpha': 0.8694173170637239, 'max_depth': 5, 'eta': 0.1919795686809288, 'subsample': 0.6766262078975724, 'colsample_bytree': 0.6346180096533811}.\n",
      "[I 2025-05-15 00:19:23,382] Trial 1557 finished with values: [0.693574179081159, 0.056071757701974444] and parameters: {'alpha': 0.6370308795473967, 'max_depth': 5, 'eta': 0.2276608685041732, 'subsample': 0.8493505201360313, 'colsample_bytree': 0.6268842887986352}.\n",
      "[I 2025-05-15 00:19:23,807] Trial 1558 finished with values: [0.6935649888338494, 0.04979413800564845] and parameters: {'alpha': 0.8694173170637239, 'max_depth': 6, 'eta': 0.1919795686809288, 'subsample': 0.6766262078975724, 'colsample_bytree': 0.6346180096533811}.\n",
      "[I 2025-05-15 00:19:24,075] Trial 1559 finished with values: [0.6914405099974573, 0.046937203471104465] and parameters: {'alpha': 0.4761491355379269, 'max_depth': 6, 'eta': 0.23813647636124352, 'subsample': 0.6766262078975724, 'colsample_bytree': 0.6268842887986352}.\n",
      "[I 2025-05-15 00:19:24,514] Trial 1560 finished with values: [0.6864333569216349, 0.04829256252819064] and parameters: {'alpha': 0.22601217229786574, 'max_depth': 5, 'eta': 0.23813647636124352, 'subsample': 0.6766262078975724, 'colsample_bytree': 0.8539891488623557}.\n",
      "[I 2025-05-15 00:19:24,666] Trial 1561 finished with values: [0.6835767217162481, 0.04152168055511091] and parameters: {'alpha': 0.22601217229786574, 'max_depth': 7, 'eta': 0.23813647636124352, 'subsample': 0.8493505201360313, 'colsample_bytree': 0.8734007948022116}.\n",
      "[I 2025-05-15 00:19:24,817] Trial 1562 finished with values: [0.6807185548029765, 0.022738822253051166] and parameters: {'alpha': 0.22601217229786574, 'max_depth': 7, 'eta': 0.22739873665679933, 'subsample': 0.8493505201360313, 'colsample_bytree': 0.6268842887986352}.\n",
      "[I 2025-05-15 00:19:24,948] Trial 1563 finished with values: [0.7007088744091438, 0.07392629791054542] and parameters: {'alpha': 0.9647158522841994, 'max_depth': 6, 'eta': 0.24431474510203355, 'subsample': 0.7401635328416709, 'colsample_bytree': 0.6346180096533811}.\n",
      "[I 2025-05-15 00:19:25,116] Trial 1564 finished with values: [0.6793017250094199, 0.022909948055987023] and parameters: {'alpha': 0.22601217229786574, 'max_depth': 5, 'eta': 0.2427505730536965, 'subsample': 0.8493505201360313, 'colsample_bytree': 0.6268842887986352}.\n",
      "[I 2025-05-15 00:19:25,243] Trial 1565 finished with values: [0.6828629458418726, 0.040096528242591765] and parameters: {'alpha': 0.6370308795473967, 'max_depth': 4, 'eta': 0.24431474510203355, 'subsample': 0.8493505201360313, 'colsample_bytree': 0.9901074621532081}.\n",
      "[I 2025-05-15 00:19:25,423] Trial 1566 finished with values: [0.6742945719335974, 0.03526735280326237] and parameters: {'alpha': 0.6764132596112695, 'max_depth': 5, 'eta': 0.04137884429022481, 'subsample': 0.6766262078975724, 'colsample_bytree': 0.6268842887986352}.\n",
      "[I 2025-05-15 00:19:25,715] Trial 1567 finished with values: [0.660008332490894, 0.026190963442791215] and parameters: {'alpha': 0.6370308795473967, 'max_depth': 3, 'eta': 0.0678668896227361, 'subsample': 0.8493505201360313, 'colsample_bytree': 0.6198060693014039}.\n",
      "[I 2025-05-15 00:19:25,932] Trial 1568 finished with values: [0.6942864232476494, 0.05190348925733568] and parameters: {'alpha': 0.6370308795473967, 'max_depth': 7, 'eta': 0.24431474510203355, 'subsample': 0.8174859329273052, 'colsample_bytree': 0.6268842887986352}.\n",
      "[I 2025-05-15 00:19:26,123] Trial 1569 finished with values: [0.6714287464809011, 0.023451940171911195] and parameters: {'alpha': 0.22601217229786574, 'max_depth': 5, 'eta': 0.23344257352631476, 'subsample': 0.8607937469041, 'colsample_bytree': 0.6268842887986352}.\n",
      "[I 2025-05-15 00:19:26,234] Trial 1570 finished with values: [0.5000061268315397, 0.0] and parameters: {'alpha': 0.006398238570445525, 'max_depth': 7, 'eta': 0.21500273048430651, 'subsample': 0.6766262078975724, 'colsample_bytree': 0.6268842887986352}.\n",
      "[I 2025-05-15 00:19:26,410] Trial 1571 finished with values: [0.6935726473732742, 0.08354647929302822] and parameters: {'alpha': 0.6370308795473967, 'max_depth': 5, 'eta': 0.22739873665679933, 'subsample': 0.8385490048655142, 'colsample_bytree': 0.7709957150618018}.\n",
      "[I 2025-05-15 00:19:26,508] Trial 1572 finished with values: [0.6921405005008685, 0.06087963262028556] and parameters: {'alpha': 0.8913664166538733, 'max_depth': 5, 'eta': 0.22739873665679933, 'subsample': 0.6766262078975724, 'colsample_bytree': 0.6268842887986352}.\n",
      "[I 2025-05-15 00:19:26,596] Trial 1573 finished with values: [0.6835751900083631, 0.03330370046229062] and parameters: {'alpha': 0.22601217229786574, 'max_depth': 7, 'eta': 0.24431474510203355, 'subsample': 0.8493505201360313, 'colsample_bytree': 0.6268842887986352}.\n",
      "[I 2025-05-15 00:19:26,698] Trial 1574 finished with values: [0.5000061268315397, 0.0] and parameters: {'alpha': 0.006398238570445525, 'max_depth': 7, 'eta': 0.24431474510203355, 'subsample': 0.6766262078975724, 'colsample_bytree': 0.7626902169355892}.\n",
      "[I 2025-05-15 00:19:26,807] Trial 1575 finished with values: [0.6642955828608015, 0.02599873065991339] and parameters: {'alpha': 0.22601217229786574, 'max_depth': 3, 'eta': 0.23813647636124352, 'subsample': 0.752937850243348, 'colsample_bytree': 0.6268842887986352}.\n",
      "[I 2025-05-15 00:19:26,979] Trial 1576 finished with values: [0.6992935763234721, 0.041992281674114416] and parameters: {'alpha': 0.6370308795473967, 'max_depth': 7, 'eta': 0.24431474510203355, 'subsample': 0.8493505201360313, 'colsample_bytree': 0.6479107585243286}.\n",
      "[I 2025-05-15 00:19:27,319] Trial 1577 finished with values: [0.6914313197501478, 0.06545724753318738] and parameters: {'alpha': 0.22601217229786574, 'max_depth': 7, 'eta': 0.2957567661603977, 'subsample': 0.6631956570556669, 'colsample_bytree': 0.8812412863102767}.\n",
      "[I 2025-05-15 00:19:27,645] Trial 1578 finished with values: [0.6678659939405636, 0.022543746028269456] and parameters: {'alpha': 0.12082713516430721, 'max_depth': 7, 'eta': 0.24431474510203355, 'subsample': 0.6631956570556669, 'colsample_bytree': 0.7730914500445354}.\n",
      "[I 2025-05-15 00:19:27,918] Trial 1579 finished with values: [0.6685843649385937, 0.02228234790321863] and parameters: {'alpha': 0.22601217229786574, 'max_depth': 5, 'eta': 0.12649187802080655, 'subsample': 0.6766262078975724, 'colsample_bytree': 0.6479107585243286}.\n",
      "[I 2025-05-15 00:19:28,224] Trial 1580 finished with values: [0.6928665300383233, 0.04902988629535099] and parameters: {'alpha': 0.6370308795473967, 'max_depth': 7, 'eta': 0.22739873665679933, 'subsample': 0.8396092253214011, 'colsample_bytree': 0.6198060693014039}.\n",
      "[I 2025-05-15 00:19:28,494] Trial 1581 finished with values: [0.6864502057083689, 0.043706378146239344] and parameters: {'alpha': 0.47830271471404917, 'max_depth': 5, 'eta': 0.24431474510203355, 'subsample': 0.670075543212619, 'colsample_bytree': 0.6268842887986352}.\n",
      "[I 2025-05-15 00:19:28,847] Trial 1582 finished with values: [0.6992935763234721, 0.041992281674114416] and parameters: {'alpha': 0.6370308795473967, 'max_depth': 7, 'eta': 0.24431474510203355, 'subsample': 0.8493505201360313, 'colsample_bytree': 0.6479107585243286}.\n",
      "[I 2025-05-15 00:19:29,432] Trial 1583 finished with values: [0.6885900016236103, 0.025369084250282836] and parameters: {'alpha': 0.22601217229786574, 'max_depth': 5, 'eta': 0.23813647636124352, 'subsample': 0.6766262078975724, 'colsample_bytree': 0.6268842887986352}.\n",
      "[I 2025-05-15 00:19:29,993] Trial 1584 finished with values: [0.6778649830133595, 0.04625528581217813] and parameters: {'alpha': 0.6370308795473967, 'max_depth': 5, 'eta': 0.02155368774086395, 'subsample': 0.6766262078975724, 'colsample_bytree': 0.6268842887986352}.\n",
      "[I 2025-05-15 00:19:30,322] Trial 1585 finished with values: [0.7000058204899627, 0.05718037852531307] and parameters: {'alpha': 0.6370308795473967, 'max_depth': 7, 'eta': 0.24431474510203355, 'subsample': 0.8493505201360313, 'colsample_bytree': 0.6093093713818238}.\n",
      "[I 2025-05-15 00:19:30,669] Trial 1586 finished with values: [0.6757221236823483, 0.02973931438765398] and parameters: {'alpha': 0.22601217229786574, 'max_depth': 5, 'eta': 0.24431474510203355, 'subsample': 0.8164421011169632, 'colsample_bytree': 0.6268842887986352}.\n",
      "[I 2025-05-15 00:19:30,938] Trial 1587 finished with values: [0.6692920139814297, 0.028515204028075686] and parameters: {'alpha': 0.6370308795473967, 'max_depth': 3, 'eta': 0.22739873665679933, 'subsample': 0.8493505201360313, 'colsample_bytree': 0.6268842887986352}.\n",
      "[I 2025-05-15 00:19:31,223] Trial 1588 finished with values: [0.6778680464291295, 0.02089917473276996] and parameters: {'alpha': 0.22601217229786574, 'max_depth': 5, 'eta': 0.23813647636124352, 'subsample': 0.8493505201360313, 'colsample_bytree': 0.6268842887986352}.\n",
      "[I 2025-05-15 00:19:31,548] Trial 1589 finished with values: [0.6771466120153292, 0.05059177021447394] and parameters: {'alpha': 0.6370308795473967, 'max_depth': 7, 'eta': 0.0768891873789978, 'subsample': 0.8493505201360313, 'colsample_bytree': 0.6268842887986352}.\n",
      "[I 2025-05-15 00:19:31,848] Trial 1590 finished with values: [0.6664338470681579, 0.03000521538185393] and parameters: {'alpha': 0.22601217229786574, 'max_depth': 3, 'eta': 0.24431474510203355, 'subsample': 0.7538929325280799, 'colsample_bytree': 0.6268842887986352}.\n",
      "[I 2025-05-15 00:19:32,268] Trial 1591 finished with values: [0.672154776018356, 0.02273361655076304] and parameters: {'alpha': 0.22601217229786574, 'max_depth': 7, 'eta': 0.09216624450903542, 'subsample': 0.6766262078975724, 'colsample_bytree': 0.6010558514053953}.\n",
      "[I 2025-05-15 00:19:32,560] Trial 1592 finished with values: [0.6764374312646085, 0.049593939689611365] and parameters: {'alpha': 0.22601217229786574, 'max_depth': 5, 'eta': 0.23813647636124352, 'subsample': 0.8493505201360313, 'colsample_bytree': 0.9901074621532081}.\n",
      "[I 2025-05-15 00:19:32,948] Trial 1593 finished with values: [0.6871425376723556, 0.05714878346342153] and parameters: {'alpha': 0.9751144043073579, 'max_depth': 5, 'eta': 0.2283330883102839, 'subsample': 0.8493505201360313, 'colsample_bytree': 0.6268842887986352}.\n",
      "[I 2025-05-15 00:19:33,356] Trial 1594 finished with values: [0.6850088685886537, 0.015443302171634607] and parameters: {'alpha': 0.22601217229786574, 'max_depth': 7, 'eta': 0.22739873665679933, 'subsample': 0.6766262078975724, 'colsample_bytree': 0.6268842887986352}.\n",
      "[I 2025-05-15 00:19:33,763] Trial 1595 finished with values: [0.6964231557471212, 0.058482671422369785] and parameters: {'alpha': 0.6370308795473967, 'max_depth': 7, 'eta': 0.24431474510203355, 'subsample': 0.8352026926935533, 'colsample_bytree': 0.6268842887986352}.\n",
      "[I 2025-05-15 00:19:34,071] Trial 1596 finished with values: [0.6885900016236103, 0.025369084250282836] and parameters: {'alpha': 0.22601217229786574, 'max_depth': 5, 'eta': 0.23813647636124352, 'subsample': 0.6766262078975724, 'colsample_bytree': 0.6346180096533811}.\n",
      "[I 2025-05-15 00:19:34,322] Trial 1597 finished with values: [0.6871609181669746, 0.011779650553974563] and parameters: {'alpha': 0.22601217229786574, 'max_depth': 5, 'eta': 0.2276608685041732, 'subsample': 0.6766262078975724, 'colsample_bytree': 0.6268842887986352}.\n",
      "[I 2025-05-15 00:19:34,565] Trial 1598 finished with values: [0.6685874283543637, 0.028234416945309666] and parameters: {'alpha': 0.22601217229786574, 'max_depth': 3, 'eta': 0.23813647636124352, 'subsample': 0.6766262078975724, 'colsample_bytree': 0.6268842887986352}.\n",
      "[I 2025-05-15 00:19:34,851] Trial 1599 finished with values: [0.6785818223035048, 0.04829648666181167] and parameters: {'alpha': 0.22601217229786574, 'max_depth': 5, 'eta': 0.1788751242452061, 'subsample': 0.8493505201360313, 'colsample_bytree': 0.8827892802351822}.\n",
      "[I 2025-05-15 00:19:35,468] Trial 1600 finished with values: [0.6964292825786608, 0.04697312866397949] and parameters: {'alpha': 0.8694173170637239, 'max_depth': 7, 'eta': 0.1919795686809288, 'subsample': 0.6766262078975724, 'colsample_bytree': 0.6346180096533811}.\n",
      "[I 2025-05-15 00:19:35,752] Trial 1601 finished with values: [0.6892823335875967, 0.06496135401887464] and parameters: {'alpha': 0.7032135367166329, 'max_depth': 7, 'eta': 0.23813647636124352, 'subsample': 0.6766262078975724, 'colsample_bytree': 0.6346180096533811}.\n",
      "[I 2025-05-15 00:19:35,998] Trial 1602 finished with values: [0.6835813168399029, 0.04296872501910631] and parameters: {'alpha': 0.22601217229786574, 'max_depth': 4, 'eta': 0.24431474510203355, 'subsample': 0.6766262078975724, 'colsample_bytree': 0.7953810550024238}.\n",
      "[I 2025-05-15 00:19:36,452] Trial 1603 finished with values: [0.6814277355536972, 0.05355887905514003] and parameters: {'alpha': 0.6370308795473967, 'max_depth': 7, 'eta': 0.1321206638803137, 'subsample': 0.9200899965049627, 'colsample_bytree': 0.6198060693014039}.\n",
      "[I 2025-05-15 00:19:36,957] Trial 1604 finished with values: [0.7050053150263608, 0.04590912639758284] and parameters: {'alpha': 0.6370308795473967, 'max_depth': 7, 'eta': 0.22739873665679933, 'subsample': 0.8493505201360313, 'colsample_bytree': 0.6198060693014039}.\n",
      "[I 2025-05-15 00:19:37,267] Trial 1605 finished with values: [0.6907313292467366, 0.0480653429281486] and parameters: {'alpha': 0.6370308795473967, 'max_depth': 7, 'eta': 0.13922889829784726, 'subsample': 0.8493505201360313, 'colsample_bytree': 0.6479107585243286}.\n",
      "[I 2025-05-15 00:19:37,533] Trial 1606 finished with values: [0.6807231499266312, 0.0052183571796884] and parameters: {'alpha': 0.22601217229786574, 'max_depth': 5, 'eta': 0.24431474510203355, 'subsample': 0.6638445452158227, 'colsample_bytree': 0.6479107585243286}.\n",
      "[I 2025-05-15 00:19:37,981] Trial 1607 finished with values: [0.6785772271798501, 0.05101893459952867] and parameters: {'alpha': 0.7798735849060827, 'max_depth': 7, 'eta': 0.06558786522124589, 'subsample': 0.6046176508988094, 'colsample_bytree': 0.6479107585243286}.\n",
      "[I 2025-05-15 00:19:38,444] Trial 1608 finished with values: [0.689299182374331, 0.047678526344085516] and parameters: {'alpha': 0.6370308795473967, 'max_depth': 5, 'eta': 0.189394292030969, 'subsample': 0.6766262078975724, 'colsample_bytree': 0.6479107585243286}.\n",
      "[I 2025-05-15 00:19:39,505] Trial 1609 finished with values: [0.6935680522496194, 0.07033734576327885] and parameters: {'alpha': 0.8694173170637239, 'max_depth': 5, 'eta': 0.23813647636124352, 'subsample': 0.8493505201360313, 'colsample_bytree': 0.6479107585243286}.\n",
      "[I 2025-05-15 00:19:39,964] Trial 1610 finished with values: [0.7000073521978476, 0.07933380328513685] and parameters: {'alpha': 0.8694173170637239, 'max_depth': 7, 'eta': 0.24431474510203355, 'subsample': 0.6513744421993349, 'colsample_bytree': 0.6198060693014039}.\n",
      "[I 2025-05-15 00:19:40,314] Trial 1611 finished with values: [0.6964400045338554, 0.05617264351894652] and parameters: {'alpha': 0.6370308795473967, 'max_depth': 5, 'eta': 0.24431474510203355, 'subsample': 0.8470493060760269, 'colsample_bytree': 0.6268842887986352}.\n",
      "[I 2025-05-15 00:19:40,697] Trial 1612 finished with values: [0.6828522238866782, 0.047927410533399474] and parameters: {'alpha': 0.7916870603351919, 'max_depth': 5, 'eta': 0.23813647636124352, 'subsample': 0.6766262078975724, 'colsample_bytree': 0.6268842887986352}.\n",
      "[I 2025-05-15 00:19:41,044] Trial 1613 finished with values: [0.6971415267451513, 0.05658494091555044] and parameters: {'alpha': 0.8694173170637239, 'max_depth': 5, 'eta': 0.23813647636124352, 'subsample': 0.8493505201360313, 'colsample_bytree': 0.9551152598402078}.\n",
      "[I 2025-05-15 00:19:41,698] Trial 1614 finished with values: [0.6714348733124408, 0.03278610147526462] and parameters: {'alpha': 0.22601217229786574, 'max_depth': 5, 'eta': 0.23813647636124352, 'subsample': 0.9917724116047291, 'colsample_bytree': 0.6268842887986352}.\n",
      "[I 2025-05-15 00:19:42,487] Trial 1615 finished with values: [0.665009358735177, 0.014643594583774547] and parameters: {'alpha': 0.22601217229786574, 'max_depth': 3, 'eta': 0.17909258927891775, 'subsample': 0.6766262078975724, 'colsample_bytree': 0.6268842887986352}.\n",
      "[I 2025-05-15 00:19:42,946] Trial 1616 finished with values: [0.6942925500791892, 0.05739340710018054] and parameters: {'alpha': 0.6370308795473967, 'max_depth': 5, 'eta': 0.2276608685041732, 'subsample': 0.8469810845265626, 'colsample_bytree': 0.6403138502322255}.\n",
      "[I 2025-05-15 00:19:43,523] Trial 1617 finished with values: [0.6921359053772136, 0.06262596616779646] and parameters: {'alpha': 0.7965456246545917, 'max_depth': 7, 'eta': 0.22739873665679933, 'subsample': 0.6766262078975724, 'colsample_bytree': 0.6479107585243286}.\n",
      "[I 2025-05-15 00:19:44,162] Trial 1618 finished with values: [0.7092772483174189, 0.07591602106633677] and parameters: {'alpha': 0.6370308795473967, 'max_depth': 7, 'eta': 0.24431474510203355, 'subsample': 0.872143282534935, 'colsample_bytree': 0.7943114387307318}.\n",
      "[I 2025-05-15 00:19:44,594] Trial 1619 finished with values: [0.6928711251619782, 0.04486385298335382] and parameters: {'alpha': 0.6370308795473967, 'max_depth': 7, 'eta': 0.12271538173243778, 'subsample': 0.8493505201360313, 'colsample_bytree': 0.6479107585243286}.\n",
      "[I 2025-05-15 00:19:45,048] Trial 1620 finished with values: [0.6728608933533068, 0.02670986723207014] and parameters: {'alpha': 0.22601217229786574, 'max_depth': 5, 'eta': 0.24431474510203355, 'subsample': 0.8934367432163206, 'colsample_bytree': 0.6346180096533811}.\n",
      "[I 2025-05-15 00:19:45,351] Trial 1621 finished with values: [0.6885900016236103, 0.025369084250282836] and parameters: {'alpha': 0.22601217229786574, 'max_depth': 5, 'eta': 0.23813647636124352, 'subsample': 0.6766262078975724, 'colsample_bytree': 0.6479107585243286}.\n",
      "[I 2025-05-15 00:19:45,797] Trial 1622 finished with values: [0.6992935763234721, 0.041992281674114416] and parameters: {'alpha': 0.6370308795473967, 'max_depth': 7, 'eta': 0.24431474510203355, 'subsample': 0.8493505201360313, 'colsample_bytree': 0.6198060693014039}.\n",
      "[I 2025-05-15 00:19:46,161] Trial 1623 finished with values: [0.6700180435188844, 0.011831087364375511] and parameters: {'alpha': 0.22601217229786574, 'max_depth': 5, 'eta': 0.23813647636124352, 'subsample': 0.9093440571045384, 'colsample_bytree': 0.6268842887986352}.\n",
      "[I 2025-05-15 00:19:46,458] Trial 1624 finished with values: [0.6692996725208542, 0.020856213703629795] and parameters: {'alpha': 0.22601217229786574, 'max_depth': 5, 'eta': 0.11615115220244682, 'subsample': 0.6766262078975724, 'colsample_bytree': 0.6346180096533811}.\n",
      "[I 2025-05-15 00:19:46,750] Trial 1625 finished with values: [0.6814461160483162, 0.03813742958366626] and parameters: {'alpha': 0.22601217229786574, 'max_depth': 5, 'eta': 0.24026710755528385, 'subsample': 0.8376771934629543, 'colsample_bytree': 0.9901074621532081}.\n",
      "[I 2025-05-15 00:19:47,026] Trial 1626 finished with values: [0.7157257385129568, 0.0801474084794309] and parameters: {'alpha': 0.8694173170637239, 'max_depth': 7, 'eta': 0.21500273048430651, 'subsample': 0.8493505201360313, 'colsample_bytree': 0.7485097829189195}.\n",
      "[I 2025-05-15 00:19:47,348] Trial 1627 finished with values: [0.6964308142865457, 0.05948369152556829] and parameters: {'alpha': 0.8694173170637239, 'max_depth': 5, 'eta': 0.2276608685041732, 'subsample': 0.6072906090630769, 'colsample_bytree': 0.6479107585243286}.\n",
      "[I 2025-05-15 00:19:47,650] Trial 1628 finished with values: [0.6850088685886537, 0.015443302171634607] and parameters: {'alpha': 0.22601217229786574, 'max_depth': 7, 'eta': 0.22739873665679933, 'subsample': 0.6766262078975724, 'colsample_bytree': 0.6198060693014039}.\n",
      "[I 2025-05-15 00:19:47,939] Trial 1629 finished with values: [0.7178594075966584, 0.0564799428852823] and parameters: {'alpha': 0.9751144043073579, 'max_depth': 7, 'eta': 0.2283330883102839, 'subsample': 0.8493505201360313, 'colsample_bytree': 0.6346180096533811}.\n",
      "[I 2025-05-15 00:19:48,204] Trial 1630 finished with values: [0.689280801879712, 0.05376643899609279] and parameters: {'alpha': 0.6370308795473967, 'max_depth': 5, 'eta': 0.24431474510203355, 'subsample': 0.8493505201360313, 'colsample_bytree': 0.6198060693014039}.\n",
      "[I 2025-05-15 00:19:48,482] Trial 1631 finished with values: [0.6971445901609212, 0.048879065428343284] and parameters: {'alpha': 0.9862505915797796, 'max_depth': 7, 'eta': 0.1835864240964316, 'subsample': 0.8396092253214011, 'colsample_bytree': 0.6268842887986352}.\n",
      "[I 2025-05-15 00:19:48,690] Trial 1632 finished with values: [0.6771603973862935, 0.019383359213231866] and parameters: {'alpha': 0.22601217229786574, 'max_depth': 3, 'eta': 0.23813647636124352, 'subsample': 0.8493505201360313, 'colsample_bytree': 0.6268842887986352}.\n",
      "[I 2025-05-15 00:19:48,889] Trial 1633 finished with values: [0.6885900016236103, 0.025369084250282836] and parameters: {'alpha': 0.22601217229786574, 'max_depth': 5, 'eta': 0.23813647636124352, 'subsample': 0.6766262078975724, 'colsample_bytree': 0.6346180096533811}.\n",
      "[I 2025-05-15 00:19:49,149] Trial 1634 finished with values: [0.6799971203891765, 0.047092130890386184] and parameters: {'alpha': 0.6184578247043568, 'max_depth': 4, 'eta': 0.21500273048430651, 'subsample': 0.6631956570556669, 'colsample_bytree': 0.9532604182421414}.\n",
      "[I 2025-05-15 00:19:49,439] Trial 1635 finished with values: [0.716421133892713, 0.06133603824308731] and parameters: {'alpha': 0.6370308795473967, 'max_depth': 7, 'eta': 0.24431474510203355, 'subsample': 0.8493505201360313, 'colsample_bytree': 0.9532604182421414}.\n",
      "[I 2025-05-15 00:19:49,674] Trial 1636 finished with values: [0.6785756954719652, 0.03746917419119555] and parameters: {'alpha': 0.22601217229786574, 'max_depth': 7, 'eta': 0.24431474510203355, 'subsample': 0.872143282534935, 'colsample_bytree': 0.6268842887986352}.\n",
      "[I 2025-05-15 00:19:50,191] Trial 1637 finished with values: [0.6878685672098103, 0.032613557181426424] and parameters: {'alpha': 0.22601217229786574, 'max_depth': 7, 'eta': 0.23813647636124352, 'subsample': 0.6766262078975724, 'colsample_bytree': 0.6198060693014039}.\n",
      "[I 2025-05-15 00:19:50,464] Trial 1638 finished with values: [0.6842889658827387, 0.02114067897145629] and parameters: {'alpha': 0.22922811182883618, 'max_depth': 5, 'eta': 0.19081765510398893, 'subsample': 0.6911266190417417, 'colsample_bytree': 0.6268842887986352}.\n",
      "[I 2025-05-15 00:19:50,747] Trial 1639 finished with values: [0.7114277661878549, 0.06772264574490834] and parameters: {'alpha': 0.8694173170637239, 'max_depth': 7, 'eta': 0.2682372796432427, 'subsample': 0.8493505201360313, 'colsample_bytree': 0.6268842887986352}.\n",
      "[I 2025-05-15 00:19:51,131] Trial 1640 finished with values: [0.6778557927660499, 0.06090855541387657] and parameters: {'alpha': 0.6370308795473967, 'max_depth': 5, 'eta': 0.13466386675029274, 'subsample': 0.9946440787567958, 'colsample_bytree': 0.6198060693014039}.\n",
      "[I 2025-05-15 00:19:51,373] Trial 1641 finished with values: [0.6842874341748537, 0.05213840070837896] and parameters: {'alpha': 0.8481573151747677, 'max_depth': 4, 'eta': 0.22739873665679933, 'subsample': 0.8493505201360313, 'colsample_bytree': 0.6268842887986352}.\n",
      "[I 2025-05-15 00:19:51,606] Trial 1642 finished with values: [0.686447142292599, 0.021166188623311672] and parameters: {'alpha': 0.22601217229786574, 'max_depth': 5, 'eta': 0.2276608685041732, 'subsample': 0.6784735380673665, 'colsample_bytree': 0.6268842887986352}.\n",
      "[I 2025-05-15 00:19:51,902] Trial 1643 finished with values: [0.6728593616454219, 0.05828881316842007] and parameters: {'alpha': 0.7030822278292983, 'max_depth': 5, 'eta': 0.039950143413099784, 'subsample': 0.8751587517052857, 'colsample_bytree': 0.6268842887986352}.\n",
      "[I 2025-05-15 00:19:52,176] Trial 1644 finished with values: [0.6678629305247937, 0.04474122963931676] and parameters: {'alpha': 0.22601217229786574, 'max_depth': 5, 'eta': 0.07898628768510696, 'subsample': 0.9714306374714027, 'colsample_bytree': 0.6268842887986352}.\n",
      "[I 2025-05-15 00:19:52,499] Trial 1645 finished with values: [0.6692996725208542, 0.039335215948334695] and parameters: {'alpha': 0.8694173170637239, 'max_depth': 3, 'eta': 0.22739873665679933, 'subsample': 0.8493505201360313, 'colsample_bytree': 0.6479107585243286}.\n",
      "[I 2025-05-15 00:19:52,852] Trial 1646 finished with values: [0.7050053150263608, 0.04590912639758284] and parameters: {'alpha': 0.6370308795473967, 'max_depth': 7, 'eta': 0.2276608685041732, 'subsample': 0.8493505201360313, 'colsample_bytree': 0.6268842887986352}.\n",
      "[I 2025-05-15 00:19:53,104] Trial 1647 finished with values: [0.5000061268315397, 0.0] and parameters: {'alpha': 0.006398238570445525, 'max_depth': 7, 'eta': 0.24431474510203355, 'subsample': 0.8493505201360313, 'colsample_bytree': 0.6268842887986352}.\n",
      "[I 2025-05-15 00:19:53,469] Trial 1648 finished with values: [0.6828614141339878, 0.03713277725572378] and parameters: {'alpha': 0.6370308795473967, 'max_depth': 5, 'eta': 0.24431474510203355, 'subsample': 0.6766262078975724, 'colsample_bytree': 0.6198060693014039}.\n",
      "[I 2025-05-15 00:19:54,115] Trial 1649 finished with values: [0.6992935763234721, 0.041992281674114416] and parameters: {'alpha': 0.6370308795473967, 'max_depth': 7, 'eta': 0.24431474510203355, 'subsample': 0.8493505201360313, 'colsample_bytree': 0.6198060693014039}.\n",
      "[I 2025-05-15 00:19:54,468] Trial 1650 finished with values: [0.6885900016236103, 0.025369084250282836] and parameters: {'alpha': 0.22601217229786574, 'max_depth': 5, 'eta': 0.23813647636124352, 'subsample': 0.6766262078975724, 'colsample_bytree': 0.6159774179651102}.\n",
      "[I 2025-05-15 00:19:55,073] Trial 1651 finished with values: [0.7050053150263608, 0.04590912639758284] and parameters: {'alpha': 0.6370308795473967, 'max_depth': 7, 'eta': 0.22739873665679933, 'subsample': 0.8493505201360313, 'colsample_bytree': 0.6268842887986352}.\n",
      "[I 2025-05-15 00:19:55,890] Trial 1652 finished with values: [0.6750083478079728, 0.03017258334454484] and parameters: {'alpha': 0.22601217229786574, 'max_depth': 5, 'eta': 0.14088820700501473, 'subsample': 0.8493505201360313, 'colsample_bytree': 0.6198060693014039}.\n",
      "[I 2025-05-15 00:19:56,431] Trial 1653 finished with values: [0.6814353940931217, 0.046724660143596976] and parameters: {'alpha': 0.6370308795473967, 'max_depth': 7, 'eta': 0.07962958887386322, 'subsample': 0.8493505201360313, 'colsample_bytree': 0.6198060693014039}.\n",
      "[I 2025-05-15 00:19:57,967] Trial 1654 finished with values: [0.6735762009355671, 0.06725509108618445] and parameters: {'alpha': 0.6370308795473967, 'max_depth': 7, 'eta': 0.021440715520747673, 'subsample': 0.8493505201360313, 'colsample_bytree': 0.6198060693014039}.\n",
      "[I 2025-05-15 00:19:58,848] Trial 1655 finished with values: [0.7050022516105908, 0.053845360701832684] and parameters: {'alpha': 0.9253213344229534, 'max_depth': 7, 'eta': 0.2276608685041732, 'subsample': 0.8493505201360313, 'colsample_bytree': 0.6268842887986352}.\n",
      "[I 2025-05-15 00:19:59,712] Trial 1656 finished with values: [0.6828644775497575, 0.05967217521464815] and parameters: {'alpha': 0.8493898674767694, 'max_depth': 7, 'eta': 0.011667523260948394, 'subsample': 0.6124026359394548, 'colsample_bytree': 0.6479107585243286}.\n",
      "[I 2025-05-15 00:20:00,279] Trial 1657 finished with values: [0.6828675409655274, 0.023669869664136756] and parameters: {'alpha': 0.2628847439969555, 'max_depth': 5, 'eta': 0.24431474510203355, 'subsample': 0.6766262078975724, 'colsample_bytree': 0.6346180096533811}.\n",
      "[I 2025-05-15 00:20:00,676] Trial 1658 finished with values: [0.6907252024151971, 0.03385451260345018] and parameters: {'alpha': 0.22601217229786574, 'max_depth': 7, 'eta': 0.2964670003018725, 'subsample': 0.6766262078975724, 'colsample_bytree': 0.6479107585243286}.\n",
      "[I 2025-05-15 00:20:01,010] Trial 1659 finished with values: [0.6742930402257125, 0.05079774556779613] and parameters: {'alpha': 0.8694173170637239, 'max_depth': 3, 'eta': 0.22739873665679933, 'subsample': 0.6766262078975724, 'colsample_bytree': 0.9901074621532081}.\n",
      "[I 2025-05-15 00:20:01,263] Trial 1660 finished with values: [0.6678721207721035, 0.03841932093330514] and parameters: {'alpha': 0.9751144043073579, 'max_depth': 3, 'eta': 0.22739873665679933, 'subsample': 0.8493505201360313, 'colsample_bytree': 0.6346180096533811}.\n",
      "[I 2025-05-15 00:20:01,575] Trial 1661 finished with values: [0.709274184901649, 0.08383718397117178] and parameters: {'alpha': 0.8752789535164942, 'max_depth': 7, 'eta': 0.2283330883102839, 'subsample': 0.8493505201360313, 'colsample_bytree': 0.9532604182421414}.\n",
      "[I 2025-05-15 00:20:01,852] Trial 1662 finished with values: [0.6821461065517274, 0.06386474377952278] and parameters: {'alpha': 0.7247039202678008, 'max_depth': 5, 'eta': 0.23813647636124352, 'subsample': 0.6638445452158227, 'colsample_bytree': 0.937045700080134}.\n",
      "[I 2025-05-15 00:20:02,133] Trial 1663 finished with values: [0.677152738846869, 0.05352660748878168] and parameters: {'alpha': 0.22601217229786574, 'max_depth': 5, 'eta': 0.23813647636124352, 'subsample': 0.8068986229014321, 'colsample_bytree': 0.6713016556519463}.\n",
      "[I 2025-05-15 00:20:02,623] Trial 1664 finished with values: [0.7157211433893019, 0.05271990245915664] and parameters: {'alpha': 0.8694173170637239, 'max_depth': 7, 'eta': 0.24431474510203355, 'subsample': 0.8493505201360313, 'colsample_bytree': 0.6268842887986352}.\n",
      "[I 2025-05-15 00:20:02,903] Trial 1665 finished with values: [0.6942940817870742, 0.07129070176798646] and parameters: {'alpha': 0.9751144043073579, 'max_depth': 7, 'eta': 0.24431474510203355, 'subsample': 0.6203221652349294, 'colsample_bytree': 0.6346180096533811}.\n",
      "[I 2025-05-15 00:20:03,129] Trial 1666 finished with values: [0.6878731623334651, 0.022191737275063367] and parameters: {'alpha': 0.22922811182883618, 'max_depth': 5, 'eta': 0.21500273048430651, 'subsample': 0.6766262078975724, 'colsample_bytree': 0.6268842887986352}.\n",
      "[I 2025-05-15 00:20:03,390] Trial 1667 finished with values: [0.6885700894211063, 0.055524286690474156] and parameters: {'alpha': 0.8694173170637239, 'max_depth': 5, 'eta': 0.24431474510203355, 'subsample': 0.8493505201360313, 'colsample_bytree': 0.6268842887986352}.\n",
      "[I 2025-05-15 00:20:03,668] Trial 1668 finished with values: [0.6907144804600026, 0.06004154943542158] and parameters: {'alpha': 0.8694173170637239, 'max_depth': 5, 'eta': 0.2471746198465187, 'subsample': 0.6607717587952143, 'colsample_bytree': 0.6268842887986352}.\n",
      "[I 2025-05-15 00:20:03,989] Trial 1669 finished with values: [0.7050053150263608, 0.04590912639758284] and parameters: {'alpha': 0.6370308795473967, 'max_depth': 7, 'eta': 0.22739873665679933, 'subsample': 0.8493505201360313, 'colsample_bytree': 0.6479107585243286}.\n",
      "[I 2025-05-15 00:20:04,606] Trial 1670 finished with values: [0.7007150012406833, 0.05023906982085783] and parameters: {'alpha': 0.6370308795473967, 'max_depth': 7, 'eta': 0.24431474510203355, 'subsample': 0.8396092253214011, 'colsample_bytree': 0.6198060693014039}.\n",
      "[I 2025-05-15 00:20:05,232] Trial 1671 finished with values: [0.7100017461469887, 0.08516390850459161] and parameters: {'alpha': 0.9751144043073579, 'max_depth': 7, 'eta': 0.27075100925388396, 'subsample': 0.8493505201360313, 'colsample_bytree': 0.6197048042940488}.\n",
      "[I 2025-05-15 00:20:05,705] Trial 1672 finished with values: [0.6721409906473917, 0.033118682372373] and parameters: {'alpha': 0.6370308795473967, 'max_depth': 3, 'eta': 0.23813647636124352, 'subsample': 0.8493505201360313, 'colsample_bytree': 0.6198060693014039}.\n",
      "[I 2025-05-15 00:20:06,009] Trial 1673 finished with values: [0.6678690573563335, 0.027373249073941897] and parameters: {'alpha': 0.22601217229786574, 'max_depth': 3, 'eta': 0.24431474510203355, 'subsample': 0.6766262078975724, 'colsample_bytree': 0.6268842887986352}.\n",
      "[I 2025-05-15 00:20:06,443] Trial 1674 finished with values: [0.6878563135467309, 0.04994032136761952] and parameters: {'alpha': 0.4088811916944384, 'max_depth': 6, 'eta': 0.24431474510203355, 'subsample': 0.6766262078975724, 'colsample_bytree': 0.9130637228451455}.\n",
      "[I 2025-05-15 00:20:06,831] Trial 1675 finished with values: [0.6735777326434521, 0.0156850594001548] and parameters: {'alpha': 0.22601217229786574, 'max_depth': 5, 'eta': 0.23813647636124352, 'subsample': 0.6956482847617045, 'colsample_bytree': 0.6198060693014039}.\n",
      "[I 2025-05-15 00:20:07,297] Trial 1676 finished with values: [0.6964216240392362, 0.060181168597122935] and parameters: {'alpha': 0.8694173170637239, 'max_depth': 6, 'eta': 0.24431474510203355, 'subsample': 0.6766262078975724, 'colsample_bytree': 0.6268842887986352}.\n",
      "[I 2025-05-15 00:20:07,696] Trial 1677 finished with values: [0.680727745050286, 0.04854772830188562] and parameters: {'alpha': 0.22601217229786574, 'max_depth': 6, 'eta': 0.23813647636124352, 'subsample': 0.9052125377249515, 'colsample_bytree': 0.6268842887986352}.\n",
      "[I 2025-05-15 00:20:08,004] Trial 1678 finished with values: [0.6700027264400351, 0.03358648199329658] and parameters: {'alpha': 0.6370308795473967, 'max_depth': 3, 'eta': 0.24431474510203355, 'subsample': 0.8493505201360313, 'colsample_bytree': 0.9597474682082465}.\n",
      "[I 2025-05-15 00:20:08,118] Trial 1679 finished with values: [0.6814231404300424, 0.05949888102698825] and parameters: {'alpha': 0.6370308795473967, 'max_depth': 7, 'eta': 0.1835864240964316, 'subsample': 0.6577823092448556, 'colsample_bytree': 0.6479107585243286}.\n",
      "[I 2025-05-15 00:20:08,185] Trial 1680 finished with values: [0.6685874283543637, 0.028234416945309666] and parameters: {'alpha': 0.22601217229786574, 'max_depth': 3, 'eta': 0.23813647636124352, 'subsample': 0.6766262078975724, 'colsample_bytree': 0.6268842887986352}.\n",
      "[I 2025-05-15 00:20:08,273] Trial 1681 finished with values: [0.6928619349146686, 0.06381305884420559] and parameters: {'alpha': 0.8860181801260478, 'max_depth': 5, 'eta': 0.2198668408709819, 'subsample': 0.6766262078975724, 'colsample_bytree': 0.6268842887986352}.\n",
      "[I 2025-05-15 00:20:08,367] Trial 1682 finished with values: [0.7050053150263608, 0.04590912639758284] and parameters: {'alpha': 0.6370308795473967, 'max_depth': 7, 'eta': 0.22739873665679933, 'subsample': 0.8493505201360313, 'colsample_bytree': 0.6198060693014039}.\n",
      "[I 2025-05-15 00:20:08,447] Trial 1683 finished with values: [0.6885900016236103, 0.025369084250282836] and parameters: {'alpha': 0.22601217229786574, 'max_depth': 5, 'eta': 0.23813647636124352, 'subsample': 0.6766262078975724, 'colsample_bytree': 0.6346180096533811}.\n",
      "[I 2025-05-15 00:20:08,555] Trial 1684 finished with values: [0.6928435544200494, 0.04873136700187692] and parameters: {'alpha': 0.5168941628603021, 'max_depth': 7, 'eta': 0.21500273048430651, 'subsample': 0.872143282534935, 'colsample_bytree': 0.6479107585243286}.\n",
      "[I 2025-05-15 00:20:08,676] Trial 1685 finished with values: [0.7007272549037628, 0.0796425931544514] and parameters: {'alpha': 0.6370308795473967, 'max_depth': 7, 'eta': 0.2089423252081443, 'subsample': 0.7530009575870922, 'colsample_bytree': 0.6268842887986352}.\n",
      "[I 2025-05-15 00:20:08,860] Trial 1686 finished with values: [0.5000061268315397, 0.0] and parameters: {'alpha': 0.006398238570445525, 'max_depth': 7, 'eta': 0.24431474510203355, 'subsample': 0.6766262078975724, 'colsample_bytree': 0.6268842887986352}.\n",
      "[I 2025-05-15 00:20:08,985] Trial 1687 finished with values: [0.7057175591928512, 0.06987400016835635] and parameters: {'alpha': 0.6370308795473967, 'max_depth': 7, 'eta': 0.29795008176625837, 'subsample': 0.8493505201360313, 'colsample_bytree': 0.6198060693014039}.\n",
      "[I 2025-05-15 00:20:09,113] Trial 1688 finished with values: [0.6728593616454219, 0.037242784282108844] and parameters: {'alpha': 0.3571716724321021, 'max_depth': 5, 'eta': 0.22739873665679933, 'subsample': 0.6766262078975724, 'colsample_bytree': 0.6268842887986352}.\n",
      "[I 2025-05-15 00:20:09,434] Trial 1689 finished with values: [0.7157211433893019, 0.05271990245915664] and parameters: {'alpha': 0.8694173170637239, 'max_depth': 7, 'eta': 0.24431474510203355, 'subsample': 0.8493505201360313, 'colsample_bytree': 0.6268842887986352}.\n",
      "[I 2025-05-15 00:20:10,014] Trial 1690 finished with values: [0.7128614447681455, 0.10535585135491121] and parameters: {'alpha': 0.6370308795473967, 'max_depth': 7, 'eta': 0.24431474510203355, 'subsample': 0.9759180691723855, 'colsample_bytree': 0.9207546248445546}.\n",
      "[I 2025-05-15 00:20:10,131] Trial 1691 finished with values: [0.7157211433893019, 0.05271990245915664] and parameters: {'alpha': 0.8694173170637239, 'max_depth': 7, 'eta': 0.24431474510203355, 'subsample': 0.8493505201360313, 'colsample_bytree': 0.6198060693014039}.\n",
      "[I 2025-05-15 00:20:10,214] Trial 1692 finished with values: [0.5000061268315397, 0.0] and parameters: {'alpha': 0.006398238570445525, 'max_depth': 5, 'eta': 0.24431474510203355, 'subsample': 0.8493505201360313, 'colsample_bytree': 0.8988734674104701}.\n",
      "[I 2025-05-15 00:20:10,308] Trial 1693 finished with values: [0.7049945930711662, 0.06427908073625811] and parameters: {'alpha': 0.6370308795473967, 'max_depth': 7, 'eta': 0.24431474510203355, 'subsample': 0.8493505201360313, 'colsample_bytree': 0.7205873721071487}.\n",
      "[I 2025-05-15 00:20:10,419] Trial 1694 finished with values: [0.6907083536284627, 0.05080969810096455] and parameters: {'alpha': 0.6370308795473967, 'max_depth': 5, 'eta': 0.23813647636124352, 'subsample': 0.8493505201360313, 'colsample_bytree': 0.6268842887986352}.\n",
      "[I 2025-05-15 00:20:10,544] Trial 1695 finished with values: [0.7007272549037628, 0.0602701258459594] and parameters: {'alpha': 0.6370308795473967, 'max_depth': 7, 'eta': 0.260822142945273, 'subsample': 0.8493505201360313, 'colsample_bytree': 0.6198060693014039}.\n",
      "[I 2025-05-15 00:20:10,687] Trial 1696 finished with values: [0.7200037986355546, 0.06368125400293721] and parameters: {'alpha': 0.8694173170637239, 'max_depth': 7, 'eta': 0.24431474510203355, 'subsample': 0.8493505201360313, 'colsample_bytree': 0.9678524429242819}.\n",
      "[I 2025-05-15 00:20:10,802] Trial 1697 finished with values: [0.7050053150263608, 0.04590912639758284] and parameters: {'alpha': 0.6370308795473967, 'max_depth': 7, 'eta': 0.2276608685041732, 'subsample': 0.8493505201360313, 'colsample_bytree': 0.6198060693014039}.\n",
      "[I 2025-05-15 00:20:10,975] Trial 1698 finished with values: [0.6828767312128369, 0.025449507716388025] and parameters: {'alpha': 0.22601217229786574, 'max_depth': 6, 'eta': 0.1919795686809288, 'subsample': 0.6766262078975724, 'colsample_bytree': 0.6346180096533811}.\n",
      "[I 2025-05-15 00:20:11,076] Trial 1699 finished with values: [0.6864348886295196, 0.05536515053959665] and parameters: {'alpha': 0.22601217229786574, 'max_depth': 5, 'eta': 0.24431474510203355, 'subsample': 0.6766262078975724, 'colsample_bytree': 0.8101967046546814}.\n",
      "[I 2025-05-15 00:20:11,196] Trial 1700 finished with values: [0.6742838499784028, 0.04014376133361461] and parameters: {'alpha': 0.22601217229786574, 'max_depth': 5, 'eta': 0.23813647636124352, 'subsample': 0.8493505201360313, 'colsample_bytree': 0.8063375686696388}.\n",
      "[I 2025-05-15 00:20:11,338] Trial 1701 finished with values: [0.6778680464291295, 0.02089917473276996] and parameters: {'alpha': 0.22601217229786574, 'max_depth': 5, 'eta': 0.23813647636124352, 'subsample': 0.8493505201360313, 'colsample_bytree': 0.6159774179651102}.\n",
      "[I 2025-05-15 00:20:11,512] Trial 1702 finished with values: [0.7142951233484359, 0.06558938878105271] and parameters: {'alpha': 0.7852824199645552, 'max_depth': 7, 'eta': 0.22739873665679933, 'subsample': 0.8493505201360313, 'colsample_bytree': 0.6197048042940488}.\n",
      "[I 2025-05-15 00:20:11,627] Trial 1703 finished with values: [0.6657170077780126, 0.030746324577934737] and parameters: {'alpha': 0.22601217229786574, 'max_depth': 3, 'eta': 0.23813647636124352, 'subsample': 0.8776931520896952, 'colsample_bytree': 0.6268842887986352}.\n",
      "[I 2025-05-15 00:20:11,753] Trial 1704 finished with values: [0.6835751900083631, 0.051823896920108636] and parameters: {'alpha': 0.6370308795473967, 'max_depth': 5, 'eta': 0.22739873665679933, 'subsample': 0.6766262078975724, 'colsample_bytree': 0.6268842887986352}.\n",
      "[I 2025-05-15 00:20:11,864] Trial 1705 finished with values: [0.6835767217162481, 0.049670904066001303] and parameters: {'alpha': 0.22601217229786574, 'max_depth': 5, 'eta': 0.24431474510203355, 'subsample': 0.6766262078975724, 'colsample_bytree': 0.8772249736498632}.\n",
      "[I 2025-05-15 00:20:12,047] Trial 1706 finished with values: [0.7049961247790512, 0.0708891197906474] and parameters: {'alpha': 0.6370308795473967, 'max_depth': 7, 'eta': 0.2367077130969034, 'subsample': 0.8493505201360313, 'colsample_bytree': 0.9019579401465336}.\n",
      "[I 2025-05-15 00:20:12,158] Trial 1707 finished with values: [0.689280801879712, 0.05376643899609279] and parameters: {'alpha': 0.6370308795473967, 'max_depth': 5, 'eta': 0.24431474510203355, 'subsample': 0.8493505201360313, 'colsample_bytree': 0.6479107585243286}.\n",
      "[I 2025-05-15 00:20:12,335] Trial 1708 finished with values: [0.7071420475258323, 0.0909141907767953] and parameters: {'alpha': 0.8694173170637239, 'max_depth': 7, 'eta': 0.25112467812786704, 'subsample': 0.6766262078975724, 'colsample_bytree': 0.6268842887986352}.\n",
      "[I 2025-05-15 00:20:12,469] Trial 1709 finished with values: [0.7078696087711721, 0.06019270084541075] and parameters: {'alpha': 0.6370308795473967, 'max_depth': 7, 'eta': 0.24431474510203355, 'subsample': 0.8493505201360313, 'colsample_bytree': 0.6859610840955521}.\n",
      "[I 2025-05-15 00:20:12,600] Trial 1710 finished with values: [0.6857257078787989, 0.039108415179940785] and parameters: {'alpha': 0.2015780474343286, 'max_depth': 7, 'eta': 0.22739873665679933, 'subsample': 0.8493505201360313, 'colsample_bytree': 0.6268842887986352}.\n",
      "[I 2025-05-15 00:20:12,721] Trial 1711 finished with values: [0.7149951138518471, 0.06363691556595674] and parameters: {'alpha': 0.6370308795473967, 'max_depth': 7, 'eta': 0.22739873665679933, 'subsample': 0.8493505201360313, 'colsample_bytree': 0.8226208022445569}.\n",
      "[I 2025-05-15 00:20:12,876] Trial 1712 finished with values: [0.6992736641209681, 0.08957225316679988] and parameters: {'alpha': 0.6370308795473967, 'max_depth': 7, 'eta': 0.2283330883102839, 'subsample': 0.6712195029899553, 'colsample_bytree': 0.6756983926500402}.\n",
      "[I 2025-05-15 00:20:12,991] Trial 1713 finished with values: [0.6935573302944249, 0.06319334482432594] and parameters: {'alpha': 0.8694173170637239, 'max_depth': 5, 'eta': 0.23813647636124352, 'subsample': 0.7987234147368611, 'colsample_bytree': 0.6346180096533811}.\n",
      "[I 2025-05-15 00:20:13,128] Trial 1714 finished with values: [0.6964384728259704, 0.05271840694931116] and parameters: {'alpha': 0.6370308795473967, 'max_depth': 6, 'eta': 0.22739873665679933, 'subsample': 0.8493505201360313, 'colsample_bytree': 0.6346180096533811}.\n",
      "[I 2025-05-15 00:20:13,263] Trial 1715 finished with values: [0.6992935763234721, 0.041992281674114416] and parameters: {'alpha': 0.6370308795473967, 'max_depth': 7, 'eta': 0.24431474510203355, 'subsample': 0.8493505201360313, 'colsample_bytree': 0.6197048042940488}.\n",
      "[I 2025-05-15 00:20:13,408] Trial 1716 finished with values: [0.7021425529894342, 0.05347179078931538] and parameters: {'alpha': 0.6370308795473967, 'max_depth': 7, 'eta': 0.2779637448632536, 'subsample': 0.9278217568779252, 'colsample_bytree': 0.6198060693014039}.\n",
      "[I 2025-05-15 00:20:13,590] Trial 1717 finished with values: [0.7035593827829908, 0.07662883497050817] and parameters: {'alpha': 0.8694173170637239, 'max_depth': 7, 'eta': 0.24431474510203355, 'subsample': 0.8493505201360313, 'colsample_bytree': 0.7109278040432123}.\n",
      "[I 2025-05-15 00:20:13,699] Trial 1718 finished with values: [0.6771603973862935, 0.019383359213231866] and parameters: {'alpha': 0.22601217229786574, 'max_depth': 3, 'eta': 0.23813647636124352, 'subsample': 0.8493505201360313, 'colsample_bytree': 0.6268842887986352}.\n",
      "[I 2025-05-15 00:20:13,848] Trial 1719 finished with values: [0.7142859331011264, 0.07157847392644102] and parameters: {'alpha': 0.8694173170637239, 'max_depth': 7, 'eta': 0.1919795686809288, 'subsample': 0.7895135079237577, 'colsample_bytree': 0.9678524429242819}.\n",
      "[I 2025-05-15 00:20:14,149] Trial 1720 finished with values: [0.7150027723912716, 0.06513860051595072] and parameters: {'alpha': 0.8694173170637239, 'max_depth': 7, 'eta': 0.22739873665679933, 'subsample': 0.8493505201360313, 'colsample_bytree': 0.6197048042940488}.\n",
      "[I 2025-05-15 00:20:14,325] Trial 1721 finished with values: [0.69427723300034, 0.07310535201389994] and parameters: {'alpha': 0.6794055435525932, 'max_depth': 7, 'eta': 0.24431474510203355, 'subsample': 0.7170639798711393, 'colsample_bytree': 0.6268842887986352}.\n",
      "[I 2025-05-15 00:20:14,440] Trial 1722 finished with values: [0.5000061268315397, 0.0] and parameters: {'alpha': 0.013343583813217541, 'max_depth': 7, 'eta': 0.21500273048430651, 'subsample': 0.8493505201360313, 'colsample_bytree': 0.6198060693014039}.\n",
      "[I 2025-05-15 00:20:14,582] Trial 1723 finished with values: [0.6828598824261028, 0.06814945497017173] and parameters: {'alpha': 0.8694173170637239, 'max_depth': 7, 'eta': 0.07874704516124176, 'subsample': 0.9239123309676571, 'colsample_bytree': 0.6479107585243286}.\n",
      "[I 2025-05-15 00:20:14,689] Trial 1724 finished with values: [0.688573152836876, 0.06377848927881759] and parameters: {'alpha': 0.6370308795473967, 'max_depth': 5, 'eta': 0.2283330883102839, 'subsample': 0.8859312329289637, 'colsample_bytree': 0.6346180096533811}.\n",
      "[I 2025-05-15 00:20:14,839] Trial 1725 finished with values: [0.7157211433893019, 0.05271990245915664] and parameters: {'alpha': 0.8694173170637239, 'max_depth': 7, 'eta': 0.24431474510203355, 'subsample': 0.8493505201360313, 'colsample_bytree': 0.6268842887986352}.\n",
      "[I 2025-05-15 00:20:14,969] Trial 1726 finished with values: [0.7157211433893019, 0.05271990245915664] and parameters: {'alpha': 0.8694173170637239, 'max_depth': 7, 'eta': 0.24431474510203355, 'subsample': 0.8493505201360313, 'colsample_bytree': 0.6268842887986352}.\n",
      "[I 2025-05-15 00:20:15,076] Trial 1727 finished with values: [0.5000061268315397, 0.0] and parameters: {'alpha': 0.006398238570445525, 'max_depth': 5, 'eta': 0.24431474510203355, 'subsample': 0.7097898708849372, 'colsample_bytree': 0.6159774179651102}.\n",
      "[I 2025-05-15 00:20:15,186] Trial 1728 finished with values: [0.6771496754310992, 0.058392733122551645] and parameters: {'alpha': 0.9033817350368863, 'max_depth': 3, 'eta': 0.24431474510203355, 'subsample': 0.6766262078975724, 'colsample_bytree': 0.6346180096533811}.\n",
      "[I 2025-05-15 00:20:15,393] Trial 1729 finished with values: [0.6849966149255744, 0.060900120580714666] and parameters: {'alpha': 0.22601217229786574, 'max_depth': 7, 'eta': 0.27127267762949825, 'subsample': 0.6638445452158227, 'colsample_bytree': 0.9532604182421414}.\n",
      "[I 2025-05-15 00:20:15,535] Trial 1730 finished with values: [0.6614404793632996, 0.018990442119011203] and parameters: {'alpha': 0.11299301314054655, 'max_depth': 7, 'eta': 0.24431474510203355, 'subsample': 0.9019092394264603, 'colsample_bytree': 0.6479107585243286}.\n",
      "[I 2025-05-15 00:20:15,704] Trial 1731 finished with values: [0.7050053150263608, 0.04590912639758284] and parameters: {'alpha': 0.6370308795473967, 'max_depth': 7, 'eta': 0.22739873665679933, 'subsample': 0.8493505201360313, 'colsample_bytree': 0.6198060693014039}.\n",
      "[I 2025-05-15 00:20:15,853] Trial 1732 finished with values: [0.6992935763234721, 0.041992281674114416] and parameters: {'alpha': 0.6370308795473967, 'max_depth': 7, 'eta': 0.24431474510203355, 'subsample': 0.8493505201360313, 'colsample_bytree': 0.6268842887986352}.\n",
      "[I 2025-05-15 00:20:16,105] Trial 1733 finished with values: [0.7050053150263608, 0.04590912639758284] and parameters: {'alpha': 0.6370308795473967, 'max_depth': 7, 'eta': 0.22739873665679933, 'subsample': 0.8493505201360313, 'colsample_bytree': 0.6268842887986352}.\n",
      "[I 2025-05-15 00:20:16,249] Trial 1734 finished with values: [0.6864364203374046, 0.04262193572685299] and parameters: {'alpha': 0.6370308795473967, 'max_depth': 5, 'eta': 0.26945640971515566, 'subsample': 0.6766262078975724, 'colsample_bytree': 0.6268842887986352}.\n",
      "[I 2025-05-15 00:20:16,431] Trial 1735 finished with values: [0.6949986674141401, 0.07118332554231369] and parameters: {'alpha': 0.6370308795473967, 'max_depth': 7, 'eta': 0.24431474510203355, 'subsample': 0.7597991584374313, 'colsample_bytree': 0.6197048042940488}.\n",
      "[I 2025-05-15 00:20:16,616] Trial 1736 finished with values: [0.6650216123982563, 0.025262031775881294] and parameters: {'alpha': 0.11738731595847296, 'max_depth': 7, 'eta': 0.24431474510203355, 'subsample': 0.8493505201360313, 'colsample_bytree': 0.6479107585243286}.\n",
      "[I 2025-05-15 00:20:16,793] Trial 1737 finished with values: [0.7200037986355546, 0.06368125400293721] and parameters: {'alpha': 0.8694173170637239, 'max_depth': 7, 'eta': 0.24431474510203355, 'subsample': 0.8493505201360313, 'colsample_bytree': 0.9678524429242819}.\n",
      "[I 2025-05-15 00:20:16,964] Trial 1738 finished with values: [0.7157211433893019, 0.05271990245915664] and parameters: {'alpha': 0.8694173170637239, 'max_depth': 7, 'eta': 0.24431474510203355, 'subsample': 0.8493505201360313, 'colsample_bytree': 0.6198060693014039}.\n",
      "[I 2025-05-15 00:20:17,144] Trial 1739 finished with values: [0.6950017308299099, 0.04953573045110488] and parameters: {'alpha': 0.6370308795473967, 'max_depth': 7, 'eta': 0.22739873665679933, 'subsample': 0.8493505201360313, 'colsample_bytree': 0.6860038618714674}.\n",
      "[I 2025-05-15 00:20:17,335] Trial 1740 finished with values: [0.6757175285586935, 0.04125494948007849] and parameters: {'alpha': 0.3039065113483086, 'max_depth': 7, 'eta': 0.11973315010183314, 'subsample': 0.8493505201360313, 'colsample_bytree': 0.6346180096533811}.\n",
      "[I 2025-05-15 00:20:17,519] Trial 1741 finished with values: [0.7114323613115096, 0.05793809769580215] and parameters: {'alpha': 0.9751144043073579, 'max_depth': 7, 'eta': 0.24431474510203355, 'subsample': 0.8493505201360313, 'colsample_bytree': 0.6346180096533811}.\n",
      "[I 2025-05-15 00:20:17,733] Trial 1742 finished with values: [0.6821537650911519, 0.040856598016837276] and parameters: {'alpha': 0.37134277416906336, 'max_depth': 5, 'eta': 0.212216104783766, 'subsample': 0.6638445452158227, 'colsample_bytree': 0.6346180096533811}.\n",
      "[I 2025-05-15 00:20:17,900] Trial 1743 finished with values: [0.6971445901609212, 0.046717795014063625] and parameters: {'alpha': 0.8694173170637239, 'max_depth': 5, 'eta': 0.21500273048430651, 'subsample': 0.8376771934629543, 'colsample_bytree': 0.7073807852260646}.\n",
      "[I 2025-05-15 00:20:18,118] Trial 1744 finished with values: [0.6950093893693347, 0.06461567324424004] and parameters: {'alpha': 0.8694173170637239, 'max_depth': 5, 'eta': 0.1835864240964316, 'subsample': 0.8396092253214011, 'colsample_bytree': 0.6479107585243286}.\n",
      "[I 2025-05-15 00:20:18,424] Trial 1745 finished with values: [0.6657292614410921, 0.031631669281557834] and parameters: {'alpha': 0.2210301277158263, 'max_depth': 5, 'eta': 0.028249463046996638, 'subsample': 0.8493505201360313, 'colsample_bytree': 0.6346180096533811}.\n",
      "[I 2025-05-15 00:20:18,651] Trial 1746 finished with values: [0.7021456164052041, 0.07029025778176255] and parameters: {'alpha': 0.6370308795473967, 'max_depth': 7, 'eta': 0.24431474510203355, 'subsample': 0.7567446373517783, 'colsample_bytree': 0.9532613050300587}.\n",
      "[I 2025-05-15 00:20:18,772] Trial 1747 finished with values: [0.6628726262357053, 0.023055270489267532] and parameters: {'alpha': 0.1502379409124811, 'max_depth': 7, 'eta': 0.2276608685041732, 'subsample': 0.8493505201360313, 'colsample_bytree': 0.6268842887986352}.\n",
      "[I 2025-05-15 00:20:18,919] Trial 1748 finished with values: [0.6650216123982563, 0.025262031775881294] and parameters: {'alpha': 0.11736668616094148, 'max_depth': 7, 'eta': 0.24431474510203355, 'subsample': 0.8493505201360313, 'colsample_bytree': 0.6198060693014039}.\n",
      "[I 2025-05-15 00:20:19,059] Trial 1749 finished with values: [0.7035746998618398, 0.07194901674307205] and parameters: {'alpha': 0.6370308795473967, 'max_depth': 6, 'eta': 0.21500273048430651, 'subsample': 0.8493505201360313, 'colsample_bytree': 0.7779277707876592}.\n",
      "[I 2025-05-15 00:20:19,275] Trial 1750 finished with values: [0.6864394837531744, 0.042500463596366174] and parameters: {'alpha': 0.6370308795473967, 'max_depth': 7, 'eta': 0.13287929516090696, 'subsample': 0.8493505201360313, 'colsample_bytree': 0.6268842887986352}.\n",
      "[I 2025-05-15 00:20:19,395] Trial 1751 finished with values: [0.6742930402257125, 0.03683678052337699] and parameters: {'alpha': 0.22601217229786574, 'max_depth': 5, 'eta': 0.24431474510203355, 'subsample': 0.8493505201360313, 'colsample_bytree': 0.6268842887986352}.\n",
      "[I 2025-05-15 00:20:19,523] Trial 1752 finished with values: [0.7050053150263608, 0.04590912639758284] and parameters: {'alpha': 0.6370308795473967, 'max_depth': 7, 'eta': 0.22739873665679933, 'subsample': 0.8493505201360313, 'colsample_bytree': 0.6268842887986352}.\n",
      "[I 2025-05-15 00:20:19,651] Trial 1753 finished with values: [0.7200037986355546, 0.06368125400293721] and parameters: {'alpha': 0.8694173170637239, 'max_depth': 7, 'eta': 0.24431474510203355, 'subsample': 0.8493505201360313, 'colsample_bytree': 0.9678524429242819}.\n",
      "[I 2025-05-15 00:20:19,792] Trial 1754 finished with values: [0.7021348944500097, 0.0710382607377064] and parameters: {'alpha': 0.6370308795473967, 'max_depth': 7, 'eta': 0.22739873665679933, 'subsample': 0.9798122824099819, 'colsample_bytree': 0.6268842887986352}.\n",
      "[I 2025-05-15 00:20:19,906] Trial 1755 finished with values: [0.7157211433893019, 0.05271990245915664] and parameters: {'alpha': 0.8694173170637239, 'max_depth': 7, 'eta': 0.24431474510203355, 'subsample': 0.8493505201360313, 'colsample_bytree': 0.6198060693014039}.\n",
      "[I 2025-05-15 00:20:20,031] Trial 1756 finished with values: [0.685002741757114, 0.07002377606994857] and parameters: {'alpha': 0.6370308795473967, 'max_depth': 5, 'eta': 0.24431474510203355, 'subsample': 0.6638445452158227, 'colsample_bytree': 0.944342025778161}.\n",
      "[I 2025-05-15 00:20:20,173] Trial 1757 finished with values: [0.6992706007051983, 0.06388617189515532] and parameters: {'alpha': 0.6370308795473967, 'max_depth': 7, 'eta': 0.22739873665679933, 'subsample': 0.8493505201360313, 'colsample_bytree': 0.9418871655389721}.\n",
      "[I 2025-05-15 00:20:20,376] Trial 1758 finished with values: [0.6707226291459504, 0.012983203043084202] and parameters: {'alpha': 0.03429904876799128, 'max_depth': 7, 'eta': 0.06156082472258191, 'subsample': 0.6429072965417125, 'colsample_bytree': 0.6268842887986352}.\n",
      "[I 2025-05-15 00:20:20,502] Trial 1759 finished with values: [0.7171379731828583, 0.09019764200168667] and parameters: {'alpha': 0.8694173170637239, 'max_depth': 7, 'eta': 0.24026710755528385, 'subsample': 0.8493505201360313, 'colsample_bytree': 0.7959400523514997}.\n",
      "[I 2025-05-15 00:20:20,614] Trial 1760 finished with values: [0.6850119320044236, 0.03458328342310659] and parameters: {'alpha': 0.22601217229786574, 'max_depth': 6, 'eta': 0.24431474510203355, 'subsample': 0.6638445452158227, 'colsample_bytree': 0.6014018369403451}.\n",
      "[I 2025-05-15 00:20:20,735] Trial 1761 finished with values: [0.7000119473215024, 0.06704997444402441] and parameters: {'alpha': 0.6370308795473967, 'max_depth': 7, 'eta': 0.22739873665679933, 'subsample': 0.8493505201360313, 'colsample_bytree': 0.6054698561640002}.\n",
      "[I 2025-05-15 00:20:20,923] Trial 1762 finished with values: [0.6914175343791834, 0.06208425588399347] and parameters: {'alpha': 0.5192173714605793, 'max_depth': 7, 'eta': 0.22739873665679933, 'subsample': 0.8493505201360313, 'colsample_bytree': 0.9890378143434209}.\n",
      "[I 2025-05-15 00:20:21,076] Trial 1763 finished with values: [0.7028701142347741, 0.06404816984129524] and parameters: {'alpha': 0.6370308795473967, 'max_depth': 7, 'eta': 0.1919795686809288, 'subsample': 0.8493505201360313, 'colsample_bytree': 0.6197048042940488}.\n",
      "[I 2025-05-15 00:20:21,334] Trial 1764 finished with values: [0.6950017308299099, 0.04953573045110488] and parameters: {'alpha': 0.6370308795473967, 'max_depth': 7, 'eta': 0.22739873665679933, 'subsample': 0.8493505201360313, 'colsample_bytree': 0.6876991377327106}.\n",
      "[I 2025-05-15 00:20:21,511] Trial 1765 finished with values: [0.714275211145932, 0.09648676533128049] and parameters: {'alpha': 0.8694173170637239, 'max_depth': 7, 'eta': 0.24431474510203355, 'subsample': 0.6853719650899616, 'colsample_bytree': 0.9077524000430155}.\n",
      "[I 2025-05-15 00:20:21,664] Trial 1766 finished with values: [0.6921450956245233, 0.05785158499342472] and parameters: {'alpha': 0.6370308795473967, 'max_depth': 7, 'eta': 0.24431474510203355, 'subsample': 0.7123289147363951, 'colsample_bytree': 0.6479107585243286}.\n",
      "[I 2025-05-15 00:20:21,824] Trial 1767 finished with values: [0.709295628812038, 0.06050195739379637] and parameters: {'alpha': 0.8694173170637239, 'max_depth': 7, 'eta': 0.18320839089543775, 'subsample': 0.8493505201360313, 'colsample_bytree': 0.6268842887986352}.\n",
      "[I 2025-05-15 00:20:21,967] Trial 1768 finished with values: [0.5000061268315397, 0.0] and parameters: {'alpha': 0.013343583813217541, 'max_depth': 3, 'eta': 0.22739873665679933, 'subsample': 0.9948350871016799, 'colsample_bytree': 0.6198060693014039}.\n",
      "[I 2025-05-15 00:20:22,786] Trial 1769 finished with values: [0.7149951138518471, 0.06363691556595674] and parameters: {'alpha': 0.6370308795473967, 'max_depth': 7, 'eta': 0.22739873665679933, 'subsample': 0.8493505201360313, 'colsample_bytree': 0.8351174850661703}.\n",
      "[I 2025-05-15 00:20:23,154] Trial 1770 finished with values: [0.6964246874550061, 0.0635664550990454] and parameters: {'alpha': 0.9751144043073579, 'max_depth': 6, 'eta': 0.2283330883102839, 'subsample': 0.7668178881600386, 'colsample_bytree': 0.6346180096533811}.\n",
      "[I 2025-05-15 00:20:23,576] Trial 1771 finished with values: [0.6728639567690767, 0.018227810244626663] and parameters: {'alpha': 0.22601217229786574, 'max_depth': 5, 'eta': 0.24431474510203355, 'subsample': 0.6766262078975724, 'colsample_bytree': 0.7177524836644222}.\n",
      "[I 2025-05-15 00:20:23,755] Trial 1772 finished with values: [0.6992935763234721, 0.041992281674114416] and parameters: {'alpha': 0.6370308795473967, 'max_depth': 7, 'eta': 0.24431474510203355, 'subsample': 0.8493505201360313, 'colsample_bytree': 0.6268842887986352}.\n",
      "[I 2025-05-15 00:20:23,903] Trial 1773 finished with values: [0.6871517279196651, 0.03730149478266561] and parameters: {'alpha': 0.22668980142279327, 'max_depth': 7, 'eta': 0.24431474510203355, 'subsample': 0.8493505201360313, 'colsample_bytree': 0.6268842887986352}.\n",
      "[I 2025-05-15 00:20:24,027] Trial 1774 finished with values: [0.7042869440283305, 0.05323270831803686] and parameters: {'alpha': 0.8694173170637239, 'max_depth': 7, 'eta': 0.20200549369358467, 'subsample': 0.8396092253214011, 'colsample_bytree': 0.6268842887986352}.\n",
      "[I 2025-05-15 00:20:24,177] Trial 1775 finished with values: [0.6992935763234721, 0.041992281674114416] and parameters: {'alpha': 0.6370308795473967, 'max_depth': 7, 'eta': 0.24431474510203355, 'subsample': 0.8493505201360313, 'colsample_bytree': 0.6198060693014039}.\n",
      "[I 2025-05-15 00:20:24,291] Trial 1776 finished with values: [0.6778511976423953, 0.037291594118033546] and parameters: {'alpha': 0.6320040266869992, 'max_depth': 4, 'eta': 0.21500273048430651, 'subsample': 0.8493505201360313, 'colsample_bytree': 0.9678524429242819}.\n",
      "[I 2025-05-15 00:20:24,423] Trial 1777 finished with values: [0.6992935763234721, 0.041992281674114416] and parameters: {'alpha': 0.6370308795473967, 'max_depth': 7, 'eta': 0.24431474510203355, 'subsample': 0.8493505201360313, 'colsample_bytree': 0.6479107585243286}.\n",
      "[I 2025-05-15 00:20:24,551] Trial 1778 finished with values: [0.6907236707073121, 0.05033162165605896] and parameters: {'alpha': 0.8694173170637239, 'max_depth': 6, 'eta': 0.12172165304775939, 'subsample': 0.8493505201360313, 'colsample_bytree': 0.6346180096533811}.\n",
      "[I 2025-05-15 00:20:24,710] Trial 1779 finished with values: [0.7050053150263608, 0.04590912639758284] and parameters: {'alpha': 0.6370308795473967, 'max_depth': 7, 'eta': 0.22739873665679933, 'subsample': 0.8493505201360313, 'colsample_bytree': 0.6479107585243286}.\n",
      "[I 2025-05-15 00:20:24,828] Trial 1780 finished with values: [0.7050053150263608, 0.04590912639758284] and parameters: {'alpha': 0.6370308795473967, 'max_depth': 7, 'eta': 0.2276608685041732, 'subsample': 0.8493505201360313, 'colsample_bytree': 0.6268842887986352}.\n",
      "[I 2025-05-15 00:20:24,959] Trial 1781 finished with values: [0.7049899979475115, 0.06250198075445568] and parameters: {'alpha': 0.7926194308729645, 'max_depth': 7, 'eta': 0.24431474510203355, 'subsample': 0.833023400694898, 'colsample_bytree': 0.727841144671707}.\n",
      "[I 2025-05-15 00:20:25,088] Trial 1782 finished with values: [0.7000134790293874, 0.04490235715598193] and parameters: {'alpha': 0.8694173170637239, 'max_depth': 6, 'eta': 0.1919795686809288, 'subsample': 0.8493505201360313, 'colsample_bytree': 0.6346180096533811}.\n",
      "[I 2025-05-15 00:20:25,252] Trial 1783 finished with values: [0.7157211433893019, 0.05271990245915664] and parameters: {'alpha': 0.8694173170637239, 'max_depth': 7, 'eta': 0.24431474510203355, 'subsample': 0.8493505201360313, 'colsample_bytree': 0.6198060693014039}.\n",
      "[I 2025-05-15 00:20:25,391] Trial 1784 finished with values: [0.6842874341748537, 0.03879023419297084] and parameters: {'alpha': 0.22601217229786574, 'max_depth': 7, 'eta': 0.22739873665679933, 'subsample': 0.8493505201360313, 'colsample_bytree': 0.6571243425136463}.\n",
      "[I 2025-05-15 00:20:25,512] Trial 1785 finished with values: [0.6857241761709142, 0.0587774748623792] and parameters: {'alpha': 0.6370308795473967, 'max_depth': 5, 'eta': 0.21500273048430651, 'subsample': 0.6933587357465558, 'colsample_bytree': 0.6197048042940488}.\n",
      "[I 2025-05-15 00:20:25,637] Trial 1786 finished with values: [0.7028639874032344, 0.06078104579806829] and parameters: {'alpha': 0.8694173170637239, 'max_depth': 7, 'eta': 0.19338320142212626, 'subsample': 0.8493505201360313, 'colsample_bytree': 0.6268842887986352}.\n",
      "[I 2025-05-15 00:20:25,749] Trial 1787 finished with values: [0.6878716306255801, 0.06389234380440674] and parameters: {'alpha': 0.7093496059372959, 'max_depth': 4, 'eta': 0.24431474510203355, 'subsample': 0.8493505201360313, 'colsample_bytree': 0.6268842887986352}.\n",
      "[I 2025-05-15 00:20:25,860] Trial 1788 finished with values: [0.6628634359883958, 0.014512659772739614] and parameters: {'alpha': 0.10112981557650147, 'max_depth': 4, 'eta': 0.24431474510203355, 'subsample': 0.872143282534935, 'colsample_bytree': 0.9532604182421414}.\n",
      "[I 2025-05-15 00:20:25,996] Trial 1789 finished with values: [0.6807216182187462, 0.05002819817667997] and parameters: {'alpha': 0.2568135465110155, 'max_depth': 7, 'eta': 0.24431474510203355, 'subsample': 0.8493505201360313, 'colsample_bytree': 0.6197048042940488}.\n",
      "[I 2025-05-15 00:20:26,255] Trial 1790 finished with values: [0.7050053150263608, 0.04590912639758284] and parameters: {'alpha': 0.6370308795473967, 'max_depth': 7, 'eta': 0.2276608685041732, 'subsample': 0.8493505201360313, 'colsample_bytree': 0.6479107585243286}.\n",
      "[I 2025-05-15 00:20:26,475] Trial 1791 finished with values: [0.695724696951595, 0.07197187664140002] and parameters: {'alpha': 0.6370308795473967, 'max_depth': 7, 'eta': 0.2276608685041732, 'subsample': 0.6319259861465724, 'colsample_bytree': 0.6268842887986352}.\n",
      "[I 2025-05-15 00:20:26,648] Trial 1792 finished with values: [0.6885900016236103, 0.025369084250282836] and parameters: {'alpha': 0.22601217229786574, 'max_depth': 5, 'eta': 0.23813647636124352, 'subsample': 0.6766262078975724, 'colsample_bytree': 0.6198060693014039}.\n",
      "[I 2025-05-15 00:20:26,821] Trial 1793 finished with values: [0.7042792854889058, 0.07590484397486755] and parameters: {'alpha': 0.8694173170637239, 'max_depth': 7, 'eta': 0.20397696818600142, 'subsample': 0.8493505201360313, 'colsample_bytree': 0.9371594983896598}.\n",
      "[I 2025-05-15 00:20:27,288] Trial 1794 finished with values: [0.7050053150263608, 0.04590912639758284] and parameters: {'alpha': 0.6370308795473967, 'max_depth': 7, 'eta': 0.22739873665679933, 'subsample': 0.8493505201360313, 'colsample_bytree': 0.6268842887986352}.\n",
      "[I 2025-05-15 00:20:27,551] Trial 1795 finished with values: [0.6957124432885156, 0.057569024195307524] and parameters: {'alpha': 0.6370308795473967, 'max_depth': 7, 'eta': 0.22739873665679933, 'subsample': 0.8493505201360313, 'colsample_bytree': 0.7570465458611773}.\n",
      "[I 2025-05-15 00:20:27,716] Trial 1796 finished with values: [0.7078435697371285, 0.07610033888934822] and parameters: {'alpha': 0.8085410450866, 'max_depth': 7, 'eta': 0.22739873665679933, 'subsample': 0.9861352220782865, 'colsample_bytree': 0.9329439880061214}.\n",
      "[I 2025-05-15 00:20:27,843] Trial 1797 finished with values: [0.7064313350672267, 0.06115344851266711] and parameters: {'alpha': 0.8694173170637239, 'max_depth': 7, 'eta': 0.24431474510203355, 'subsample': 0.754151283517108, 'colsample_bytree': 0.6198060693014039}.\n",
      "[I 2025-05-15 00:20:27,973] Trial 1798 finished with values: [0.6792894713463405, 0.05129076939714814] and parameters: {'alpha': 0.8158922193581909, 'max_depth': 4, 'eta': 0.20950394911455567, 'subsample': 0.8396092253214011, 'colsample_bytree': 0.6268842887986352}.\n",
      "[I 2025-05-15 00:20:28,098] Trial 1799 finished with values: [0.6871471327960103, 0.0542430445543542] and parameters: {'alpha': 0.8694173170637239, 'max_depth': 5, 'eta': 0.1259296143512979, 'subsample': 0.8493505201360313, 'colsample_bytree': 0.6479107585243286}.\n",
      "[I 2025-05-15 00:20:28,242] Trial 1800 finished with values: [0.6900129582487065, 0.037853616790616294] and parameters: {'alpha': 0.22601217229786574, 'max_depth': 7, 'eta': 0.24431474510203355, 'subsample': 0.6766262078975724, 'colsample_bytree': 0.6198060693014039}.\n",
      "[I 2025-05-15 00:20:28,385] Trial 1801 finished with values: [0.7200037986355546, 0.06368125400293721] and parameters: {'alpha': 0.8694173170637239, 'max_depth': 7, 'eta': 0.24431474510203355, 'subsample': 0.8493505201360313, 'colsample_bytree': 0.9678524429242819}.\n",
      "[I 2025-05-15 00:20:28,569] Trial 1802 finished with values: [0.7028670508190041, 0.06123332049733591] and parameters: {'alpha': 0.8694173170637239, 'max_depth': 6, 'eta': 0.22739873665679933, 'subsample': 0.8493505201360313, 'colsample_bytree': 0.6593025309122507}.\n",
      "[I 2025-05-15 00:20:28,711] Trial 1803 finished with values: [0.7028456069086153, 0.08432799470314956] and parameters: {'alpha': 0.7019899476595249, 'max_depth': 7, 'eta': 0.22739873665679933, 'subsample': 0.9948350871016799, 'colsample_bytree': 0.6198060693014039}.\n",
      "[I 2025-05-15 00:20:28,855] Trial 1804 finished with values: [0.7099940876075642, 0.06455781575086711] and parameters: {'alpha': 0.8694173170637239, 'max_depth': 7, 'eta': 0.24431474510203355, 'subsample': 0.825148451255286, 'colsample_bytree': 0.6198060693014039}.\n",
      "[I 2025-05-15 00:20:28,975] Trial 1805 finished with values: [0.6914328514580328, 0.07200510513407016] and parameters: {'alpha': 0.6370308795473967, 'max_depth': 7, 'eta': 0.22739873665679933, 'subsample': 0.6766262078975724, 'colsample_bytree': 0.6268842887986352}.\n",
      "[I 2025-05-15 00:20:29,120] Trial 1806 finished with values: [0.6871624498748594, 0.01770223643561486] and parameters: {'alpha': 0.22601217229786574, 'max_depth': 5, 'eta': 0.24431474510203355, 'subsample': 0.6766262078975724, 'colsample_bytree': 0.6198060693014039}.\n",
      "[I 2025-05-15 00:20:29,238] Trial 1807 finished with values: [0.6885700894211063, 0.055524286690474156] and parameters: {'alpha': 0.8694173170637239, 'max_depth': 5, 'eta': 0.24431474510203355, 'subsample': 0.8493505201360313, 'colsample_bytree': 0.6198060693014039}.\n",
      "[I 2025-05-15 00:20:29,357] Trial 1808 finished with values: [0.7050053150263608, 0.04590912639758284] and parameters: {'alpha': 0.6370308795473967, 'max_depth': 7, 'eta': 0.22739873665679933, 'subsample': 0.8493505201360313, 'colsample_bytree': 0.6268842887986352}.\n",
      "[I 2025-05-15 00:20:29,482] Trial 1809 finished with values: [0.6771481437232142, 0.02006334881079443] and parameters: {'alpha': 0.21537654450818844, 'max_depth': 5, 'eta': 0.21030166614012558, 'subsample': 0.6766262078975724, 'colsample_bytree': 0.6268842887986352}.\n",
      "[I 2025-05-15 00:20:29,610] Trial 1810 finished with values: [0.6785756954719652, 0.018771428269658535] and parameters: {'alpha': 0.22601217229786574, 'max_depth': 5, 'eta': 0.22739873665679933, 'subsample': 0.6659885284020567, 'colsample_bytree': 0.6198060693014039}.\n",
      "[I 2025-05-15 00:20:29,749] Trial 1811 finished with values: [0.7128553179366057, 0.07215140338300921] and parameters: {'alpha': 0.8913664166538733, 'max_depth': 7, 'eta': 0.22739873665679933, 'subsample': 0.7357768772867799, 'colsample_bytree': 0.6198060693014039}.\n",
      "[I 2025-05-15 00:20:29,882] Trial 1812 finished with values: [0.695000199122025, 0.06701972183510202] and parameters: {'alpha': 0.690264564204481, 'max_depth': 7, 'eta': 0.24431474510203355, 'subsample': 0.6638445452158227, 'colsample_bytree': 0.6198060693014039}.\n",
      "[I 2025-05-15 00:20:29,988] Trial 1813 finished with values: [0.6707226291459504, 0.012983203043084202] and parameters: {'alpha': 0.020949704748436493, 'max_depth': 7, 'eta': 0.1896897617243538, 'subsample': 0.8493505201360313, 'colsample_bytree': 0.6198060693014039}.\n",
      "[I 2025-05-15 00:20:30,121] Trial 1814 finished with values: [0.7049945930711662, 0.05151651323626427] and parameters: {'alpha': 0.8694173170637239, 'max_depth': 7, 'eta': 0.24431474510203355, 'subsample': 0.7576110602243882, 'colsample_bytree': 0.6268842887986352}.\n",
      "[I 2025-05-15 00:20:30,256] Trial 1815 finished with values: [0.7200037986355546, 0.06368125400293721] and parameters: {'alpha': 0.8694173170637239, 'max_depth': 7, 'eta': 0.24431474510203355, 'subsample': 0.8493505201360313, 'colsample_bytree': 0.9678524429242819}.\n",
      "[I 2025-05-15 00:20:30,382] Trial 1816 finished with values: [0.6693012042287392, 0.039964623456028914] and parameters: {'alpha': 0.8165021327011384, 'max_depth': 3, 'eta': 0.24431474510203355, 'subsample': 0.8493505201360313, 'colsample_bytree': 0.6268842887986352}.\n",
      "[I 2025-05-15 00:20:30,625] Trial 1817 finished with values: [0.5000061268315397, 0.0] and parameters: {'alpha': 0.006398238570445525, 'max_depth': 7, 'eta': 0.1919795686809288, 'subsample': 0.872143282534935, 'colsample_bytree': 0.9532604182421414}.\n",
      "[I 2025-05-15 00:20:30,807] Trial 1818 finished with values: [0.7021364261578946, 0.07471492339768458] and parameters: {'alpha': 0.6370308795473967, 'max_depth': 7, 'eta': 0.22739873665679933, 'subsample': 0.9948350871016799, 'colsample_bytree': 0.6198060693014039}.\n",
      "[I 2025-05-15 00:20:30,963] Trial 1819 finished with values: [0.6657277297332072, 0.04152761540657609] and parameters: {'alpha': 0.22601217229786574, 'max_depth': 3, 'eta': 0.2276608685041732, 'subsample': 0.6766262078975724, 'colsample_bytree': 0.9172628145081508}.\n",
      "[I 2025-05-15 00:20:31,098] Trial 1820 finished with values: [0.6964292825786608, 0.04087488270470685] and parameters: {'alpha': 0.5217056697117032, 'max_depth': 7, 'eta': 0.24431474510203355, 'subsample': 0.8493505201360313, 'colsample_bytree': 0.6268842887986352}.\n",
      "[I 2025-05-15 00:20:31,222] Trial 1821 finished with values: [0.7014149917440946, 0.0572706631681699] and parameters: {'alpha': 0.9751144043073579, 'max_depth': 7, 'eta': 0.2283330883102839, 'subsample': 0.6638445452158227, 'colsample_bytree': 0.6346180096533811}.\n",
      "[I 2025-05-15 00:20:31,308] Trial 1822 finished with values: [0.6692950773971994, 0.018769275046740624] and parameters: {'alpha': 0.22922811182883618, 'max_depth': 3, 'eta': 0.21500273048430651, 'subsample': 0.8493505201360313, 'colsample_bytree': 0.6268842887986352}.\n",
      "[I 2025-05-15 00:20:31,413] Trial 1823 finished with values: [0.6607236400731544, 0.026031884338831874] and parameters: {'alpha': 0.054664977411495674, 'max_depth': 5, 'eta': 0.23813647636124352, 'subsample': 0.8396092253214011, 'colsample_bytree': 0.7420546887491858}.\n",
      "[I 2025-05-15 00:20:31,527] Trial 1824 finished with values: [0.5000061268315397, 0.0] and parameters: {'alpha': 0.013343583813217541, 'max_depth': 3, 'eta': 0.1677154540844078, 'subsample': 0.9948350871016799, 'colsample_bytree': 0.6198060693014039}.\n",
      "[I 2025-05-15 00:20:31,824] Trial 1825 finished with values: [0.6878731623334651, 0.022191737275063367] and parameters: {'alpha': 0.22922811182883618, 'max_depth': 5, 'eta': 0.21500273048430651, 'subsample': 0.6766262078975724, 'colsample_bytree': 0.6268842887986352}.\n",
      "[I 2025-05-15 00:20:32,077] Trial 1826 finished with values: [0.6992889811998174, 0.06338938700412976] and parameters: {'alpha': 0.7065560681412404, 'max_depth': 7, 'eta': 0.22739873665679933, 'subsample': 0.6869611949041955, 'colsample_bytree': 0.6198060693014039}.\n",
      "[I 2025-05-15 00:20:32,324] Trial 1827 finished with values: [0.7128507228129509, 0.0757027022354453] and parameters: {'alpha': 0.8694173170637239, 'max_depth': 7, 'eta': 0.1984490797200724, 'subsample': 0.8493505201360313, 'colsample_bytree': 0.8717050147830759}.\n",
      "[I 2025-05-15 00:20:32,524] Trial 1828 finished with values: [0.5000061268315397, 0.0] and parameters: {'alpha': 0.013343583813217541, 'max_depth': 5, 'eta': 0.22739873665679933, 'subsample': 0.9948350871016799, 'colsample_bytree': 0.6268842887986352}.\n",
      "[I 2025-05-15 00:20:32,969] Trial 1829 finished with values: [0.6714348733124408, 0.031214296939996677] and parameters: {'alpha': 0.6370308795473967, 'max_depth': 5, 'eta': 0.04509426345373523, 'subsample': 0.6638445452158227, 'colsample_bytree': 0.6268842887986352}.\n",
      "[I 2025-05-15 00:20:33,263] Trial 1830 finished with values: [0.7071343889864076, 0.08085790628018248] and parameters: {'alpha': 0.6370308795473967, 'max_depth': 7, 'eta': 0.24431474510203355, 'subsample': 0.8493505201360313, 'colsample_bytree': 0.8248618932109072}.\n",
      "[I 2025-05-15 00:20:33,593] Trial 1831 finished with values: [0.6850180588359632, 0.01276281105147146] and parameters: {'alpha': 0.22601217229786574, 'max_depth': 5, 'eta': 0.21500273048430651, 'subsample': 0.6766262078975724, 'colsample_bytree': 0.6346180096533811}.\n",
      "[I 2025-05-15 00:20:33,900] Trial 1832 finished with values: [0.6700073215636899, 0.04098610004647892] and parameters: {'alpha': 0.47967441828204616, 'max_depth': 4, 'eta': 0.07140499769599196, 'subsample': 0.6655149589299036, 'colsample_bytree': 0.6959943699555665}.\n",
      "[I 2025-05-15 00:20:34,194] Trial 1833 finished with values: [0.6992935763234721, 0.041992281674114416] and parameters: {'alpha': 0.6370308795473967, 'max_depth': 7, 'eta': 0.24431474510203355, 'subsample': 0.8493505201360313, 'colsample_bytree': 0.6268842887986352}.\n",
      "[I 2025-05-15 00:20:34,470] Trial 1834 finished with values: [0.6914328514580328, 0.07200510513407016] and parameters: {'alpha': 0.6370308795473967, 'max_depth': 7, 'eta': 0.22739873665679933, 'subsample': 0.6766262078975724, 'colsample_bytree': 0.6198060693014039}.\n",
      "[I 2025-05-15 00:20:34,777] Trial 1835 finished with values: [0.6992905129077024, 0.04364824171591377] and parameters: {'alpha': 0.44532013746370525, 'max_depth': 7, 'eta': 0.24431474510203355, 'subsample': 0.8493505201360313, 'colsample_bytree': 0.6268842887986352}.\n",
      "[I 2025-05-15 00:20:35,047] Trial 1836 finished with values: [0.6742930402257125, 0.03683678052337699] and parameters: {'alpha': 0.22601217229786574, 'max_depth': 5, 'eta': 0.24431474510203355, 'subsample': 0.8493505201360313, 'colsample_bytree': 0.6268842887986352}.\n",
      "[I 2025-05-15 00:20:35,369] Trial 1837 finished with values: [0.7178594075966584, 0.0564799428852823] and parameters: {'alpha': 0.9751144043073579, 'max_depth': 7, 'eta': 0.2283330883102839, 'subsample': 0.8493505201360313, 'colsample_bytree': 0.6346180096533811}.\n",
      "[I 2025-05-15 00:20:35,641] Trial 1838 finished with values: [0.6750068161000878, 0.06689254045095631] and parameters: {'alpha': 0.6370308795473967, 'max_depth': 3, 'eta': 0.24431474510203355, 'subsample': 0.6638445452158227, 'colsample_bytree': 0.6479107585243286}.\n",
      "[I 2025-05-15 00:20:35,948] Trial 1839 finished with values: [0.6742930402257125, 0.03683678052337699] and parameters: {'alpha': 0.22601217229786574, 'max_depth': 5, 'eta': 0.24431474510203355, 'subsample': 0.8493505201360313, 'colsample_bytree': 0.6479107585243286}.\n",
      "[I 2025-05-15 00:20:36,323] Trial 1840 finished with values: [0.6871563230433199, 0.02184894307213814] and parameters: {'alpha': 0.22601217229786574, 'max_depth': 5, 'eta': 0.22739873665679933, 'subsample': 0.8493505201360313, 'colsample_bytree': 0.6268842887986352}.\n",
      "[I 2025-05-15 00:20:36,702] Trial 1841 finished with values: [0.705000719902706, 0.08370150323060967] and parameters: {'alpha': 0.8694173170637239, 'max_depth': 6, 'eta': 0.22739873665679933, 'subsample': 0.9593254381941458, 'colsample_bytree': 0.9901074621532081}.\n",
      "[I 2025-05-15 00:20:37,089] Trial 1842 finished with values: [0.7042854123204455, 0.0705162592813604] and parameters: {'alpha': 0.6370308795473967, 'max_depth': 7, 'eta': 0.22739873665679933, 'subsample': 0.9729356616512835, 'colsample_bytree': 0.6198060693014039}.\n",
      "[I 2025-05-15 00:20:37,454] Trial 1843 finished with values: [0.7157211433893019, 0.05271990245915664] and parameters: {'alpha': 0.8694173170637239, 'max_depth': 7, 'eta': 0.24431474510203355, 'subsample': 0.8493505201360313, 'colsample_bytree': 0.6198060693014039}.\n",
      "[I 2025-05-15 00:20:37,818] Trial 1844 finished with values: [0.6885838747920707, 0.04171563479553401] and parameters: {'alpha': 0.6370308795473967, 'max_depth': 6, 'eta': 0.19384714262989294, 'subsample': 0.8493505201360313, 'colsample_bytree': 0.6198060693014039}.\n",
      "[I 2025-05-15 00:20:38,496] Trial 1845 finished with values: [0.71999614009613, 0.0839528591558168] and parameters: {'alpha': 0.9751144043073579, 'max_depth': 7, 'eta': 0.2283330883102839, 'subsample': 0.9212427926198531, 'colsample_bytree': 0.7659661616232745}.\n",
      "[I 2025-05-15 00:20:38,864] Trial 1846 finished with values: [0.6778695781370142, 0.020242813270162325] and parameters: {'alpha': 0.22922811182883618, 'max_depth': 5, 'eta': 0.21500273048430651, 'subsample': 0.8493505201360313, 'colsample_bytree': 0.6479107585243286}.\n",
      "[I 2025-05-15 00:20:39,196] Trial 1847 finished with values: [0.6935665205417344, 0.05216591806028378] and parameters: {'alpha': 0.6370308795473967, 'max_depth': 7, 'eta': 0.24431474510203355, 'subsample': 0.8882299327079682, 'colsample_bytree': 0.6198060693014039}.\n",
      "[I 2025-05-15 00:20:39,519] Trial 1848 finished with values: [0.6757251870981181, 0.044445946668262605] and parameters: {'alpha': 0.22601217229786574, 'max_depth': 5, 'eta': 0.24431474510203355, 'subsample': 0.6638445452158227, 'colsample_bytree': 0.9129299450101539}.\n",
      "[I 2025-05-15 00:20:39,918] Trial 1849 finished with values: [0.7100109363942982, 0.05923997195548045] and parameters: {'alpha': 0.6370308795473967, 'max_depth': 7, 'eta': 0.28942761615750295, 'subsample': 0.8493505201360313, 'colsample_bytree': 0.6268842887986352}.\n",
      "[I 2025-05-15 00:20:40,241] Trial 1850 finished with values: [0.7050053150263608, 0.04590912639758284] and parameters: {'alpha': 0.6370308795473967, 'max_depth': 7, 'eta': 0.22739873665679933, 'subsample': 0.8493505201360313, 'colsample_bytree': 0.6198060693014039}.\n",
      "[I 2025-05-15 00:20:40,618] Trial 1851 finished with values: [0.6885900016236103, 0.025369084250282836] and parameters: {'alpha': 0.22601217229786574, 'max_depth': 5, 'eta': 0.23813647636124352, 'subsample': 0.6766262078975724, 'colsample_bytree': 0.6198060693014039}.\n",
      "[I 2025-05-15 00:20:40,850] Trial 1852 finished with values: [0.6692858871498899, 0.02092690721183475] and parameters: {'alpha': 0.8694173170637239, 'max_depth': 3, 'eta': 0.24431474510203355, 'subsample': 0.8493505201360313, 'colsample_bytree': 0.9678524429242819}.\n",
      "[I 2025-05-15 00:20:41,257] Trial 1853 finished with values: [0.6757144651429238, 0.0329155802742932] and parameters: {'alpha': 0.24768640973255263, 'max_depth': 7, 'eta': 0.03644698352455115, 'subsample': 0.8493505201360313, 'colsample_bytree': 0.9678524429242819}.\n",
      "[I 2025-05-15 00:20:41,597] Trial 1854 finished with values: [0.7149966455597321, 0.08062264913787755] and parameters: {'alpha': 0.9751144043073579, 'max_depth': 7, 'eta': 0.2283330883102839, 'subsample': 0.8493505201360313, 'colsample_bytree': 0.7993802511848664}.\n",
      "[I 2025-05-15 00:20:41,943] Trial 1855 finished with values: [0.6842874341748537, 0.07453168765897848] and parameters: {'alpha': 0.6370308795473967, 'max_depth': 7, 'eta': 0.05996245659233846, 'subsample': 0.9211513512808307, 'colsample_bytree': 0.8415468586687742}.\n",
      "[I 2025-05-15 00:20:42,209] Trial 1856 finished with values: [0.6764374312646085, 0.028046478739087572] and parameters: {'alpha': 0.22601217229786574, 'max_depth': 5, 'eta': 0.1768505571711999, 'subsample': 0.6766262078975724, 'colsample_bytree': 0.6198060693014039}.\n",
      "[I 2025-05-15 00:20:42,608] Trial 1857 finished with values: [0.6971399950372664, 0.07452727188552845] and parameters: {'alpha': 0.8344132144853192, 'max_depth': 7, 'eta': 0.10782455139380773, 'subsample': 0.8493505201360313, 'colsample_bytree': 0.9678524429242819}.\n",
      "[I 2025-05-15 00:20:42,897] Trial 1858 finished with values: [0.6885700894211063, 0.055524286690474156] and parameters: {'alpha': 0.8694173170637239, 'max_depth': 5, 'eta': 0.24431474510203355, 'subsample': 0.8493505201360313, 'colsample_bytree': 0.6268842887986352}.\n",
      "[I 2025-05-15 00:20:43,466] Trial 1859 finished with values: [0.6871624498748594, 0.01770223643561486] and parameters: {'alpha': 0.22601217229786574, 'max_depth': 5, 'eta': 0.24478938834174438, 'subsample': 0.6766262078975724, 'colsample_bytree': 0.6346180096533811}.\n",
      "[I 2025-05-15 00:20:43,853] Trial 1860 finished with values: [0.6707226291459504, 0.012983203043084202] and parameters: {'alpha': 0.02240973970093396, 'max_depth': 7, 'eta': 0.2283330883102839, 'subsample': 0.9146277364556626, 'colsample_bytree': 0.6346180096533811}.\n",
      "[I 2025-05-15 00:20:44,253] Trial 1861 finished with values: [0.7157211433893019, 0.05271990245915664] and parameters: {'alpha': 0.8694173170637239, 'max_depth': 7, 'eta': 0.24431474510203355, 'subsample': 0.8493505201360313, 'colsample_bytree': 0.6198060693014039}.\n",
      "[I 2025-05-15 00:20:44,762] Trial 1862 finished with values: [0.6871486645038951, 0.06724891733278293] and parameters: {'alpha': 0.6370308795473967, 'max_depth': 7, 'eta': 0.24431474510203355, 'subsample': 0.6766262078975724, 'colsample_bytree': 0.6198060693014039}.\n",
      "[I 2025-05-15 00:20:45,122] Trial 1863 finished with values: [0.6735685423961426, 0.032730367257696964] and parameters: {'alpha': 0.8694173170637239, 'max_depth': 4, 'eta': 0.1919795686809288, 'subsample': 0.8493505201360313, 'colsample_bytree': 0.8801933372197208}.\n",
      "[I 2025-05-15 00:20:45,574] Trial 1864 finished with values: [0.6957109115806306, 0.07289890844860426] and parameters: {'alpha': 0.6370308795473967, 'max_depth': 6, 'eta': 0.1835864240964316, 'subsample': 0.8493505201360313, 'colsample_bytree': 0.8505227779651234}.\n",
      "[I 2025-05-15 00:20:45,890] Trial 1865 finished with values: [0.7064282716514568, 0.05973065932129418] and parameters: {'alpha': 0.8913664166538733, 'max_depth': 7, 'eta': 0.23813647636124352, 'subsample': 0.8493505201360313, 'colsample_bytree': 0.6363991809786086}.\n",
      "[I 2025-05-15 00:20:46,230] Trial 1866 finished with values: [0.716421133892713, 0.08471038925090583] and parameters: {'alpha': 0.8694173170637239, 'max_depth': 7, 'eta': 0.24431474510203355, 'subsample': 0.9699045732854485, 'colsample_bytree': 0.6346180096533811}.\n",
      "[I 2025-05-15 00:20:46,557] Trial 1867 finished with values: [0.6985782687412118, 0.08110299877771925] and parameters: {'alpha': 0.8913664166538733, 'max_depth': 7, 'eta': 0.22739873665679933, 'subsample': 0.6064598249993359, 'colsample_bytree': 0.9901074621532081}.\n",
      "[I 2025-05-15 00:20:46,914] Trial 1868 finished with values: [0.7135690938109812, 0.0712189487642708] and parameters: {'alpha': 0.6370308795473967, 'max_depth': 7, 'eta': 0.22739873665679933, 'subsample': 0.8493505201360313, 'colsample_bytree': 0.986709556438693}.\n",
      "[I 2025-05-15 00:20:47,197] Trial 1869 finished with values: [0.6814353940931217, 0.05489837132257197] and parameters: {'alpha': 0.22922811182883618, 'max_depth': 5, 'eta': 0.21500273048430651, 'subsample': 0.6766262078975724, 'colsample_bytree': 0.9091907074502966}.\n",
      "[I 2025-05-15 00:20:47,486] Trial 1870 finished with values: [0.7050053150263608, 0.04590912639758284] and parameters: {'alpha': 0.6370308795473967, 'max_depth': 7, 'eta': 0.22739873665679933, 'subsample': 0.8493505201360313, 'colsample_bytree': 0.6268842887986352}.\n",
      "[I 2025-05-15 00:20:47,735] Trial 1871 finished with values: [0.7000012253663078, 0.08955030438176735] and parameters: {'alpha': 0.8694173170637239, 'max_depth': 7, 'eta': 0.24431474510203355, 'subsample': 0.6279449913661449, 'colsample_bytree': 0.6268842887986352}.\n",
      "[I 2025-05-15 00:20:47,986] Trial 1872 finished with values: [0.685705795676295, 0.05091898768712095] and parameters: {'alpha': 0.2514606092969749, 'max_depth': 7, 'eta': 0.23813647636124352, 'subsample': 0.9417170207920038, 'colsample_bytree': 0.6346180096533811}.\n",
      "[I 2025-05-15 00:20:48,172] Trial 1873 finished with values: [0.5000061268315397, 0.0] and parameters: {'alpha': 0.006398238570445525, 'max_depth': 7, 'eta': 0.22739873665679933, 'subsample': 0.872143282534935, 'colsample_bytree': 0.9532604182421414}.\n",
      "[I 2025-05-15 00:20:48,421] Trial 1874 finished with values: [0.6842950927142782, 0.040478057625032184] and parameters: {'alpha': 0.34352822394943494, 'max_depth': 7, 'eta': 0.22739873665679933, 'subsample': 0.8493505201360313, 'colsample_bytree': 0.6198060693014039}.\n",
      "[I 2025-05-15 00:20:48,642] Trial 1875 finished with values: [0.7214190967212261, 0.11276047273382435] and parameters: {'alpha': 0.9751144043073579, 'max_depth': 7, 'eta': 0.2283330883102839, 'subsample': 0.7128019276993977, 'colsample_bytree': 0.9004892660979504}.\n",
      "[I 2025-05-15 00:20:48,915] Trial 1876 finished with values: [0.6871425376723556, 0.05714878346342153] and parameters: {'alpha': 0.9751144043073579, 'max_depth': 5, 'eta': 0.2283330883102839, 'subsample': 0.8493505201360313, 'colsample_bytree': 0.6198060693014039}.\n",
      "[I 2025-05-15 00:20:49,472] Trial 1877 finished with values: [0.6700088532715748, 0.02578515660218812] and parameters: {'alpha': 0.048643517960011096, 'max_depth': 7, 'eta': 0.23813647636124352, 'subsample': 0.6766262078975724, 'colsample_bytree': 0.6346180096533811}.\n",
      "[I 2025-05-15 00:20:49,941] Trial 1878 finished with values: [0.6785695686404255, 0.04779669462344013] and parameters: {'alpha': 0.6370308795473967, 'max_depth': 5, 'eta': 0.23813647636124352, 'subsample': 0.6638445452158227, 'colsample_bytree': 0.6479107585243286}.\n",
      "[I 2025-05-15 00:20:50,357] Trial 1879 finished with values: [0.6992935763234721, 0.041992281674114416] and parameters: {'alpha': 0.6370308795473967, 'max_depth': 7, 'eta': 0.24431474510203355, 'subsample': 0.8493505201360313, 'colsample_bytree': 0.6198060693014039}.\n",
      "[I 2025-05-15 00:20:50,854] Trial 1880 finished with values: [0.7135690938109812, 0.08062264913787755] and parameters: {'alpha': 0.9751144043073579, 'max_depth': 7, 'eta': 0.2276608685041732, 'subsample': 0.8493505201360313, 'colsample_bytree': 0.792144181932924}.\n",
      "[I 2025-05-15 00:20:51,383] Trial 1881 finished with values: [0.6750083478079728, 0.044124564446328875] and parameters: {'alpha': 0.22922811182883618, 'max_depth': 5, 'eta': 0.24431474510203355, 'subsample': 0.9130320159847686, 'colsample_bytree': 0.6268842887986352}.\n",
      "[I 2025-05-15 00:20:52,062] Trial 1882 finished with values: [0.6892869287112516, 0.0676746956805284] and parameters: {'alpha': 0.8694173170637239, 'max_depth': 5, 'eta': 0.21500273048430651, 'subsample': 0.8493505201360313, 'colsample_bytree': 0.6268842887986352}.\n",
      "[I 2025-05-15 00:20:52,498] Trial 1883 finished with values: [0.7050053150263608, 0.04590912639758284] and parameters: {'alpha': 0.6370308795473967, 'max_depth': 7, 'eta': 0.2276608685041732, 'subsample': 0.8493505201360313, 'colsample_bytree': 0.6268842887986352}.\n",
      "[I 2025-05-15 00:20:52,881] Trial 1884 finished with values: [0.7014318405308287, 0.08575007296374082] and parameters: {'alpha': 0.8913664166538733, 'max_depth': 7, 'eta': 0.22739873665679933, 'subsample': 0.6280655601590455, 'colsample_bytree': 0.64058040317934}.\n",
      "[I 2025-05-15 00:20:53,190] Trial 1885 finished with values: [0.6964323459944306, 0.0435571783492848] and parameters: {'alpha': 0.610915633828649, 'max_depth': 7, 'eta': 0.24431474510203355, 'subsample': 0.8493505201360313, 'colsample_bytree': 0.6346180096533811}.\n",
      "[I 2025-05-15 00:20:53,673] Trial 1886 finished with values: [0.6885792796684159, 0.04359089427102164] and parameters: {'alpha': 0.22601217229786574, 'max_depth': 7, 'eta': 0.23402724487980414, 'subsample': 0.7372333364173226, 'colsample_bytree': 0.6268842887986352}.\n",
      "[I 2025-05-15 00:20:53,951] Trial 1887 finished with values: [0.6885900016236103, 0.025369084250282836] and parameters: {'alpha': 0.22601217229786574, 'max_depth': 5, 'eta': 0.23813647636124352, 'subsample': 0.6766262078975724, 'colsample_bytree': 0.6198060693014039}.\n",
      "[I 2025-05-15 00:20:54,245] Trial 1888 finished with values: [0.6807185548029765, 0.05402111431995359] and parameters: {'alpha': 0.22601217229786574, 'max_depth': 5, 'eta': 0.2276608685041732, 'subsample': 0.7994078133118598, 'colsample_bytree': 0.8595577592276495}.\n",
      "[I 2025-05-15 00:20:54,814] Trial 1889 finished with values: [0.6942802964161099, 0.08525221527307451] and parameters: {'alpha': 0.8913664166538733, 'max_depth': 7, 'eta': 0.24431474510203355, 'subsample': 0.8934803614852641, 'colsample_bytree': 0.6268842887986352}.\n",
      "[I 2025-05-15 00:20:55,177] Trial 1890 finished with values: [0.6921466273324081, 0.0556381279242702] and parameters: {'alpha': 0.8694173170637239, 'max_depth': 7, 'eta': 0.07440663556676418, 'subsample': 0.8493505201360313, 'colsample_bytree': 0.6268842887986352}.\n",
      "[I 2025-05-15 00:20:55,543] Trial 1891 finished with values: [0.6835813168399029, 0.06631796933932738] and parameters: {'alpha': 0.22601217229786574, 'max_depth': 6, 'eta': 0.24026710755528385, 'subsample': 0.8376771934629543, 'colsample_bytree': 0.9901074621532081}.\n",
      "[I 2025-05-15 00:20:56,075] Trial 1892 finished with values: [0.7157211433893019, 0.05271990245915664] and parameters: {'alpha': 0.8694173170637239, 'max_depth': 7, 'eta': 0.24431474510203355, 'subsample': 0.8493505201360313, 'colsample_bytree': 0.6268842887986352}.\n",
      "[I 2025-05-15 00:20:56,632] Trial 1893 finished with values: [0.6864241666743252, 0.04488532461034528] and parameters: {'alpha': 0.22601217229786574, 'max_depth': 7, 'eta': 0.22739873665679933, 'subsample': 0.6766262078975724, 'colsample_bytree': 0.8959963186557833}.\n",
      "[I 2025-05-15 00:20:56,988] Trial 1894 finished with values: [0.6707180340222955, 0.05009788037138104] and parameters: {'alpha': 0.22601217229786574, 'max_depth': 7, 'eta': 0.2276608685041732, 'subsample': 0.960534313054034, 'colsample_bytree': 0.6268842887986352}.\n",
      "[I 2025-05-15 00:20:57,398] Trial 1895 finished with values: [0.6771481437232142, 0.024733399227020652] and parameters: {'alpha': 0.45226131824320726, 'max_depth': 5, 'eta': 0.12105519953224735, 'subsample': 0.8493505201360313, 'colsample_bytree': 0.6268842887986352}.\n",
      "[I 2025-05-15 00:20:57,680] Trial 1896 finished with values: [0.7050053150263608, 0.04590912639758284] and parameters: {'alpha': 0.6370308795473967, 'max_depth': 7, 'eta': 0.22739873665679933, 'subsample': 0.8493505201360313, 'colsample_bytree': 0.6198060693014039}.\n",
      "[I 2025-05-15 00:20:57,885] Trial 1897 finished with values: [0.665730793148977, 0.024338157087474405] and parameters: {'alpha': 0.05180418840220835, 'max_depth': 5, 'eta': 0.21500273048430651, 'subsample': 0.6766262078975724, 'colsample_bytree': 0.6268842887986352}.\n",
      "[I 2025-05-15 00:20:58,190] Trial 1898 finished with values: [0.6950017308299099, 0.05798409049548964] and parameters: {'alpha': 0.8694173170637239, 'max_depth': 7, 'eta': 0.2283330883102839, 'subsample': 0.9269862547819365, 'colsample_bytree': 0.6198060693014039}.\n",
      "[I 2025-05-15 00:20:58,528] Trial 1899 finished with values: [0.7157211433893019, 0.05271990245915664] and parameters: {'alpha': 0.8694173170637239, 'max_depth': 7, 'eta': 0.24431474510203355, 'subsample': 0.8493505201360313, 'colsample_bytree': 0.6198060693014039}.\n",
      "[I 2025-05-15 00:20:58,846] Trial 1900 finished with values: [0.7057083689455417, 0.07692573920187194] and parameters: {'alpha': 0.8694173170637239, 'max_depth': 7, 'eta': 0.24478938834174438, 'subsample': 0.8793792412782493, 'colsample_bytree': 0.6346180096533811}.\n",
      "[I 2025-05-15 00:20:59,145] Trial 1901 finished with values: [0.7050053150263608, 0.04590912639758284] and parameters: {'alpha': 0.6370308795473967, 'max_depth': 7, 'eta': 0.22739873665679933, 'subsample': 0.8493505201360313, 'colsample_bytree': 0.639067793893405}.\n",
      "[I 2025-05-15 00:20:59,395] Trial 1902 finished with values: [0.6771389534759047, 0.023723202491508444] and parameters: {'alpha': 0.22601217229786574, 'max_depth': 6, 'eta': 0.24431474510203355, 'subsample': 0.6638445452158227, 'colsample_bytree': 0.6479107585243286}.\n",
      "[I 2025-05-15 00:20:59,773] Trial 1903 finished with values: [0.7078558234002078, 0.08354399117055282] and parameters: {'alpha': 0.8694173170637239, 'max_depth': 7, 'eta': 0.24431474510203355, 'subsample': 0.9072786762664599, 'colsample_bytree': 0.6268842887986352}.\n",
      "[I 2025-05-15 00:21:00,074] Trial 1904 finished with values: [0.7128522545208359, 0.06140765840274498] and parameters: {'alpha': 0.6370308795473967, 'max_depth': 7, 'eta': 0.24431474510203355, 'subsample': 0.8493505201360313, 'colsample_bytree': 0.9885937889194331}.\n",
      "[I 2025-05-15 00:21:00,341] Trial 1905 finished with values: [0.6992935763234721, 0.041992281674114416] and parameters: {'alpha': 0.6370308795473967, 'max_depth': 7, 'eta': 0.24431474510203355, 'subsample': 0.8493505201360313, 'colsample_bytree': 0.6439719820128768}.\n",
      "[I 2025-05-15 00:21:00,619] Trial 1906 finished with values: [0.7178609393045434, 0.08024377029273207] and parameters: {'alpha': 0.8694173170637239, 'max_depth': 7, 'eta': 0.24431474510203355, 'subsample': 0.8493505201360313, 'colsample_bytree': 0.604751838411944}.\n",
      "[I 2025-05-15 00:21:00,885] Trial 1907 finished with values: [0.7042915391519852, 0.04483037774601867] and parameters: {'alpha': 0.6370308795473967, 'max_depth': 7, 'eta': 0.2283330883102839, 'subsample': 0.8493505201360313, 'colsample_bytree': 0.6346180096533811}.\n",
      "[I 2025-05-15 00:21:01,100] Trial 1908 finished with values: [0.6892869287112516, 0.0676746956805284] and parameters: {'alpha': 0.8694173170637239, 'max_depth': 5, 'eta': 0.21500273048430651, 'subsample': 0.8493505201360313, 'colsample_bytree': 0.6268842887986352}.\n",
      "[I 2025-05-15 00:21:01,303] Trial 1909 finished with values: [0.688576216252646, 0.06445669128389993] and parameters: {'alpha': 0.9751144043073579, 'max_depth': 5, 'eta': 0.2283330883102839, 'subsample': 0.6638445452158227, 'colsample_bytree': 0.6346180096533811}.\n",
      "[I 2025-05-15 00:21:01,569] Trial 1910 finished with values: [0.6942802964161099, 0.07825982959267085] and parameters: {'alpha': 0.6381564309878415, 'max_depth': 7, 'eta': 0.24431474510203355, 'subsample': 0.6638445452158227, 'colsample_bytree': 0.6198060693014039}.\n",
      "[I 2025-05-15 00:21:01,965] Trial 1911 finished with values: [0.6985721419096721, 0.07720817360072067] and parameters: {'alpha': 0.8694173170637239, 'max_depth': 7, 'eta': 0.24431474510203355, 'subsample': 0.6766262078975724, 'colsample_bytree': 0.6198060693014039}.\n",
      "[I 2025-05-15 00:21:02,443] Trial 1912 finished with values: [0.716421133892713, 0.06133603824308731] and parameters: {'alpha': 0.6370308795473967, 'max_depth': 7, 'eta': 0.24431474510203355, 'subsample': 0.8493505201360313, 'colsample_bytree': 0.9532604182421414}.\n",
      "[I 2025-05-15 00:21:02,969] Trial 1913 finished with values: [0.6835813168399029, 0.04734312841371271] and parameters: {'alpha': 0.20018929957980092, 'max_depth': 7, 'eta': 0.22739873665679933, 'subsample': 0.8493505201360313, 'colsample_bytree': 0.9901074621532081}.\n",
      "[I 2025-05-15 00:21:03,502] Trial 1914 finished with values: [0.6835797851320179, 0.04924644729696811] and parameters: {'alpha': 0.6934593427827239, 'max_depth': 4, 'eta': 0.21821842998625057, 'subsample': 0.8493505201360313, 'colsample_bytree': 0.6198060693014039}.\n",
      "[I 2025-05-15 00:21:03,922] Trial 1915 finished with values: [0.7014287771150588, 0.09136132646639901] and parameters: {'alpha': 0.8694173170637239, 'max_depth': 7, 'eta': 0.24431474510203355, 'subsample': 0.6282229450471761, 'colsample_bytree': 0.6268842887986352}.\n",
      "[I 2025-05-15 00:21:04,113] Trial 1916 finished with values: [0.5000061268315397, 0.0] and parameters: {'alpha': 0.006398238570445525, 'max_depth': 3, 'eta': 0.24431474510203355, 'subsample': 0.872143282534935, 'colsample_bytree': 0.6268842887986352}.\n",
      "[I 2025-05-15 00:21:04,374] Trial 1917 finished with values: [0.7042946025677551, 0.06613244198469642] and parameters: {'alpha': 0.6370308795473967, 'max_depth': 7, 'eta': 0.2848255445997072, 'subsample': 0.8493505201360313, 'colsample_bytree': 0.6198060693014039}.\n",
      "[I 2025-05-15 00:21:04,719] Trial 1918 finished with values: [0.716421133892713, 0.06133603824308731] and parameters: {'alpha': 0.6370308795473967, 'max_depth': 7, 'eta': 0.24431474510203355, 'subsample': 0.8493505201360313, 'colsample_bytree': 0.9499943166547236}.\n",
      "[I 2025-05-15 00:21:04,953] Trial 1919 finished with values: [0.6957109115806306, 0.061978987733525316] and parameters: {'alpha': 0.6370308795473967, 'max_depth': 7, 'eta': 0.21500273048430651, 'subsample': 0.872143282534935, 'colsample_bytree': 0.9532604182421414}.\n",
      "[I 2025-05-15 00:21:05,229] Trial 1920 finished with values: [0.7157211433893019, 0.05271990245915664] and parameters: {'alpha': 0.8694173170637239, 'max_depth': 7, 'eta': 0.24431474510203355, 'subsample': 0.8493505201360313, 'colsample_bytree': 0.6268842887986352}.\n",
      "[I 2025-05-15 00:21:05,485] Trial 1921 finished with values: [0.7000134790293874, 0.04490235715598193] and parameters: {'alpha': 0.8694173170637239, 'max_depth': 6, 'eta': 0.1919795686809288, 'subsample': 0.8493505201360313, 'colsample_bytree': 0.6346180096533811}.\n",
      "[I 2025-05-15 00:21:05,785] Trial 1922 finished with values: [0.7157211433893019, 0.05271990245915664] and parameters: {'alpha': 0.8694173170637239, 'max_depth': 7, 'eta': 0.24431474510203355, 'subsample': 0.8493505201360313, 'colsample_bytree': 0.6268842887986352}.\n",
      "[I 2025-05-15 00:21:06,031] Trial 1923 finished with values: [0.691425192918608, 0.08418980410375544] and parameters: {'alpha': 0.8694173170637239, 'max_depth': 5, 'eta': 0.2571323563150219, 'subsample': 0.8493505201360313, 'colsample_bytree': 0.8838197942406356}.\n",
      "[I 2025-05-15 00:21:06,405] Trial 1924 finished with values: [0.7092772483174189, 0.05262509297654089] and parameters: {'alpha': 0.8694173170637239, 'max_depth': 6, 'eta': 0.24431474510203355, 'subsample': 0.8493505201360313, 'colsample_bytree': 0.6268842887986352}.\n",
      "[I 2025-05-15 00:21:06,673] Trial 1925 finished with values: [0.7128537862287208, 0.07073261851226807] and parameters: {'alpha': 0.8913664166538733, 'max_depth': 7, 'eta': 0.22739873665679933, 'subsample': 0.7563312586580657, 'colsample_bytree': 0.6268842887986352}.\n",
      "[I 2025-05-15 00:21:06,923] Trial 1926 finished with values: [0.7171395048907433, 0.06462893538928564] and parameters: {'alpha': 0.8694173170637239, 'max_depth': 7, 'eta': 0.27412913440877706, 'subsample': 0.8493505201360313, 'colsample_bytree': 0.6198060693014039}.\n",
      "[I 2025-05-15 00:21:07,167] Trial 1927 finished with values: [0.6692874188577748, 0.028925078065062892] and parameters: {'alpha': 0.6370308795473967, 'max_depth': 3, 'eta': 0.24431474510203355, 'subsample': 0.8493505201360313, 'colsample_bytree': 0.6198060693014039}.\n",
      "[I 2025-05-15 00:21:07,485] Trial 1928 finished with values: [0.6842904975906235, 0.050748628102904335] and parameters: {'alpha': 0.6370308795473967, 'max_depth': 5, 'eta': 0.2276608685041732, 'subsample': 0.6766262078975724, 'colsample_bytree': 0.6346180096533811}.\n",
      "[I 2025-05-15 00:21:07,908] Trial 1929 finished with values: [0.6835751900083631, 0.03330370046229062] and parameters: {'alpha': 0.22601217229786574, 'max_depth': 7, 'eta': 0.24431474510203355, 'subsample': 0.8493505201360313, 'colsample_bytree': 0.6268842887986352}.\n",
      "[I 2025-05-15 00:21:08,420] Trial 1930 finished with values: [0.7035670413224153, 0.07039242001323483] and parameters: {'alpha': 0.8694173170637239, 'max_depth': 6, 'eta': 0.24431474510203355, 'subsample': 0.894590189892337, 'colsample_bytree': 0.6346180096533811}.\n",
      "[I 2025-05-15 00:21:08,661] Trial 1931 finished with values: [0.7128614447681455, 0.06509080785417255] and parameters: {'alpha': 0.8694173170637239, 'max_depth': 7, 'eta': 0.2283330883102839, 'subsample': 0.8493505201360313, 'colsample_bytree': 0.6346180096533811}.\n",
      "[I 2025-05-15 00:21:08,796] Trial 1932 finished with values: [0.7292874801260902, 0.07395811450440286] and parameters: {'alpha': 0.8694173170637239, 'max_depth': 7, 'eta': 0.24026710755528385, 'subsample': 0.8376771934629543, 'colsample_bytree': 0.9901074621532081}.\n",
      "[I 2025-05-15 00:21:08,972] Trial 1933 finished with values: [0.6614389476554148, 0.02663286375173146] and parameters: {'alpha': 0.22601217229786574, 'max_depth': 5, 'eta': 0.013322311275818838, 'subsample': 0.7078794286064195, 'colsample_bytree': 0.647994669941718}.\n",
      "[I 2025-05-15 00:21:09,100] Trial 1934 finished with values: [0.7150027723912716, 0.06513860051595072] and parameters: {'alpha': 0.8694173170637239, 'max_depth': 7, 'eta': 0.22739873665679933, 'subsample': 0.8493505201360313, 'colsample_bytree': 0.6268842887986352}.\n",
      "[I 2025-05-15 00:21:09,209] Trial 1935 finished with values: [0.6885838747920707, 0.045084628177968024] and parameters: {'alpha': 0.8694173170637239, 'max_depth': 4, 'eta': 0.24431474510203355, 'subsample': 0.8493505201360313, 'colsample_bytree': 0.6268842887986352}.\n",
      "[I 2025-05-15 00:21:09,422] Trial 1936 finished with values: [0.7157211433893019, 0.05271990245915664] and parameters: {'alpha': 0.8694173170637239, 'max_depth': 7, 'eta': 0.24431474510203355, 'subsample': 0.8493505201360313, 'colsample_bytree': 0.6198060693014039}.\n",
      "[I 2025-05-15 00:21:09,512] Trial 1937 finished with values: [0.7171410365986283, 0.10303022855216219] and parameters: {'alpha': 0.8694173170637239, 'max_depth': 7, 'eta': 0.24026710755528385, 'subsample': 0.872143282534935, 'colsample_bytree': 0.9532604182421414}.\n",
      "[I 2025-05-15 00:21:09,589] Trial 1938 finished with values: [0.6871624498748594, 0.01770223643561486] and parameters: {'alpha': 0.22601217229786574, 'max_depth': 5, 'eta': 0.24478938834174438, 'subsample': 0.6766262078975724, 'colsample_bytree': 0.6346180096533811}.\n",
      "[I 2025-05-15 00:21:09,686] Trial 1939 finished with values: [0.6921282468377891, 0.048992073498854684] and parameters: {'alpha': 0.7198019944437745, 'max_depth': 7, 'eta': 0.23813647636124352, 'subsample': 0.6766262078975724, 'colsample_bytree': 0.6198060693014039}.\n",
      "[I 2025-05-15 00:21:09,822] Trial 1940 finished with values: [0.6978583660352967, 0.04135529383068537] and parameters: {'alpha': 0.6370308795473967, 'max_depth': 7, 'eta': 0.24888604327425298, 'subsample': 0.8493505201360313, 'colsample_bytree': 0.6268842887986352}.\n",
      "[I 2025-05-15 00:21:10,123] Trial 1941 finished with values: [0.7021502115288589, 0.05627085378257247] and parameters: {'alpha': 0.6370308795473967, 'max_depth': 7, 'eta': 0.21500273048430651, 'subsample': 0.8493505201360313, 'colsample_bytree': 0.6268842887986352}.\n",
      "[I 2025-05-15 00:21:10,476] Trial 1942 finished with values: [0.7128614447681455, 0.06509080785417255] and parameters: {'alpha': 0.8694173170637239, 'max_depth': 7, 'eta': 0.2283330883102839, 'subsample': 0.8493505201360313, 'colsample_bytree': 0.6268842887986352}.\n",
      "[I 2025-05-15 00:21:10,584] Trial 1943 finished with values: [0.6942833598318797, 0.0554826943257001] and parameters: {'alpha': 0.5391878353546351, 'max_depth': 7, 'eta': 0.24346481554102, 'subsample': 0.8493505201360313, 'colsample_bytree': 0.6268842887986352}.\n",
      "[I 2025-05-15 00:21:10,660] Trial 1944 finished with values: [0.690000704585627, 0.05670642476732259] and parameters: {'alpha': 0.8694173170637239, 'max_depth': 5, 'eta': 0.24431474510203355, 'subsample': 0.6051185683369371, 'colsample_bytree': 0.6479107585243286}.\n",
      "[I 2025-05-15 00:21:10,782] Trial 1945 finished with values: [0.7200037986355546, 0.06368125400293721] and parameters: {'alpha': 0.8694173170637239, 'max_depth': 7, 'eta': 0.24431474510203355, 'subsample': 0.8493505201360313, 'colsample_bytree': 0.9678524429242819}.\n",
      "[I 2025-05-15 00:21:10,863] Trial 1946 finished with values: [0.7157211433893019, 0.05271990245915664] and parameters: {'alpha': 0.8694173170637239, 'max_depth': 7, 'eta': 0.24431474510203355, 'subsample': 0.8493505201360313, 'colsample_bytree': 0.6198060693014039}.\n",
      "[I 2025-05-15 00:21:10,947] Trial 1947 finished with values: [0.7207129793862753, 0.08250125540107368] and parameters: {'alpha': 0.8694173170637239, 'max_depth': 7, 'eta': 0.2788431447985282, 'subsample': 0.9674758930559113, 'colsample_bytree': 0.9901074621532081}.\n",
      "[I 2025-05-15 00:21:11,045] Trial 1948 finished with values: [0.7121476688937699, 0.06180160258406916] and parameters: {'alpha': 0.8694173170637239, 'max_depth': 7, 'eta': 0.24900378616769883, 'subsample': 0.8493505201360313, 'colsample_bytree': 0.6268842887986352}.\n",
      "[I 2025-05-15 00:21:11,190] Trial 1949 finished with values: [0.6878731623334651, 0.022191737275063367] and parameters: {'alpha': 0.22922811182883618, 'max_depth': 5, 'eta': 0.21500273048430651, 'subsample': 0.6766262078975724, 'colsample_bytree': 0.6268842887986352}.\n",
      "[I 2025-05-15 00:21:11,307] Trial 1950 finished with values: [0.6778619195975897, 0.02426495958405291] and parameters: {'alpha': 0.22601217229786574, 'max_depth': 5, 'eta': 0.1902875811710756, 'subsample': 0.8493505201360313, 'colsample_bytree': 0.6268842887986352}.\n",
      "[I 2025-05-15 00:21:11,443] Trial 1951 finished with values: [0.7092910336883832, 0.047931500508834844] and parameters: {'alpha': 0.8694173170637239, 'max_depth': 7, 'eta': 0.24431474510203355, 'subsample': 0.8396092253214011, 'colsample_bytree': 0.6268842887986352}.\n",
      "[I 2025-05-15 00:21:11,569] Trial 1952 finished with values: [0.6785833540113897, 0.021259073432763953] and parameters: {'alpha': 0.22601217229786574, 'max_depth': 5, 'eta': 0.21417147887769136, 'subsample': 0.8493505201360313, 'colsample_bytree': 0.6479107585243286}.\n",
      "[I 2025-05-15 00:21:11,697] Trial 1953 finished with values: [0.7178609393045434, 0.08024377029273207] and parameters: {'alpha': 0.8694173170637239, 'max_depth': 7, 'eta': 0.24431474510203355, 'subsample': 0.8493505201360313, 'colsample_bytree': 0.612188586685402}.\n",
      "[I 2025-05-15 00:21:11,824] Trial 1954 finished with values: [0.7200037986355546, 0.06368125400293721] and parameters: {'alpha': 0.8694173170637239, 'max_depth': 7, 'eta': 0.24431474510203355, 'subsample': 0.8493505201360313, 'colsample_bytree': 0.9678524429242819}.\n",
      "[I 2025-05-15 00:21:11,944] Trial 1955 finished with values: [0.6821568285069217, 0.04787028421825921] and parameters: {'alpha': 0.22601217229786574, 'max_depth': 5, 'eta': 0.24431474510203355, 'subsample': 0.6766262078975724, 'colsample_bytree': 0.9678524429242819}.\n",
      "[I 2025-05-15 00:21:12,069] Trial 1956 finished with values: [0.6707180340222955, 0.037402284280958646] and parameters: {'alpha': 0.8694173170637239, 'max_depth': 4, 'eta': 0.08119982762193326, 'subsample': 0.9945453481364339, 'colsample_bytree': 0.6198060693014039}.\n",
      "[I 2025-05-15 00:21:12,213] Trial 1957 finished with values: [0.7128522545208359, 0.06140765840274498] and parameters: {'alpha': 0.6370308795473967, 'max_depth': 7, 'eta': 0.24431474510203355, 'subsample': 0.8493505201360313, 'colsample_bytree': 0.9678524429242819}.\n",
      "[I 2025-05-15 00:21:12,429] Trial 1958 finished with values: [0.6971369316214965, 0.08173725122218152] and parameters: {'alpha': 0.6370308795473967, 'max_depth': 7, 'eta': 0.24026710755528385, 'subsample': 0.601707333034581, 'colsample_bytree': 0.9901074621532081}.\n",
      "[I 2025-05-15 00:21:12,526] Trial 1959 finished with values: [0.7185639932237242, 0.08675839236665735] and parameters: {'alpha': 0.9429486613278107, 'max_depth': 7, 'eta': 0.20554144689644718, 'subsample': 0.8493505201360313, 'colsample_bytree': 0.9678524429242819}.\n",
      "[I 2025-05-15 00:21:12,604] Trial 1960 finished with values: [0.6942894866634194, 0.06318160533159041] and parameters: {'alpha': 0.5650492058316715, 'max_depth': 5, 'eta': 0.23813647636124352, 'subsample': 0.8069475168551369, 'colsample_bytree': 0.8813013212665792}.\n",
      "[I 2025-05-15 00:21:12,751] Trial 1961 finished with values: [0.6828690726734123, 0.013499771551833609] and parameters: {'alpha': 0.22601217229786574, 'max_depth': 5, 'eta': 0.22739873665679933, 'subsample': 0.6638445452158227, 'colsample_bytree': 0.6198060693014039}.\n",
      "[I 2025-05-15 00:21:12,875] Trial 1962 finished with values: [0.6743006987651371, 0.039393878483004095] and parameters: {'alpha': 0.4566603458714442, 'max_depth': 3, 'eta': 0.23406413273377857, 'subsample': 0.872143282534935, 'colsample_bytree': 0.639067793893405}.\n",
      "[I 2025-05-15 00:21:13,088] Trial 1963 finished with values: [0.7178594075966584, 0.0564799428852823] and parameters: {'alpha': 0.9751144043073579, 'max_depth': 7, 'eta': 0.2283330883102839, 'subsample': 0.8493505201360313, 'colsample_bytree': 0.6346180096533811}.\n",
      "[I 2025-05-15 00:21:13,350] Trial 1964 finished with values: [0.7064236765278021, 0.0434758445536517] and parameters: {'alpha': 0.8694173170637239, 'max_depth': 7, 'eta': 0.24431474510203355, 'subsample': 0.821550852958667, 'colsample_bytree': 0.6255133602177569}.\n",
      "[I 2025-05-15 00:21:13,621] Trial 1965 finished with values: [0.7014303088229438, 0.05956832918467057] and parameters: {'alpha': 0.8694173170637239, 'max_depth': 5, 'eta': 0.24431474510203355, 'subsample': 0.6766262078975724, 'colsample_bytree': 0.6198060693014039}.\n",
      "[I 2025-05-15 00:21:13,904] Trial 1966 finished with values: [0.6964415362417403, 0.04613547443984003] and parameters: {'alpha': 0.8694173170637239, 'max_depth': 7, 'eta': 0.12429281429984083, 'subsample': 0.8493505201360313, 'colsample_bytree': 0.6198060693014039}.\n",
      "[I 2025-05-15 00:21:14,287] Trial 1967 finished with values: [0.6942940817870742, 0.057439891345427284] and parameters: {'alpha': 0.8694173170637239, 'max_depth': 7, 'eta': 0.08477701476282104, 'subsample': 0.8493505201360313, 'colsample_bytree': 0.6346180096533811}.\n",
      "[I 2025-05-15 00:21:14,571] Trial 1968 finished with values: [0.6764374312646085, 0.02735625422316697] and parameters: {'alpha': 0.22601217229786574, 'max_depth': 4, 'eta': 0.24431474510203355, 'subsample': 0.6766262078975724, 'colsample_bytree': 0.6346180096533811}.\n",
      "[I 2025-05-15 00:21:14,663] Trial 1969 finished with values: [0.6714440635597504, 0.019093897440815244] and parameters: {'alpha': 0.11516028526105782, 'max_depth': 5, 'eta': 0.24478938834174438, 'subsample': 0.8493505201360313, 'colsample_bytree': 0.6198060693014039}.\n",
      "[I 2025-05-15 00:21:14,729] Trial 1970 finished with values: [0.6842981561300481, 0.008765096741376821] and parameters: {'alpha': 0.22601217229786574, 'max_depth': 5, 'eta': 0.23813647636124352, 'subsample': 0.6638445452158227, 'colsample_bytree': 0.6268842887986352}.\n",
      "[I 2025-05-15 00:21:14,880] Trial 1971 finished with values: [0.6657292614410921, 0.021452630369951136] and parameters: {'alpha': 0.03515033896750153, 'max_depth': 7, 'eta': 0.24431474510203355, 'subsample': 0.9699576258573361, 'colsample_bytree': 0.6198060693014039}.\n",
      "[I 2025-05-15 00:21:14,965] Trial 1972 finished with values: [0.7107185854371342, 0.09870451584342971] and parameters: {'alpha': 0.8694173170637239, 'max_depth': 7, 'eta': 0.24431474510203355, 'subsample': 0.8493505201360313, 'colsample_bytree': 0.8425974014453211}.\n",
      "[I 2025-05-15 00:21:15,069] Trial 1973 finished with values: [0.6857303030024537, 0.03828636606446804] and parameters: {'alpha': 0.2706763250663463, 'max_depth': 7, 'eta': 0.24431474510203355, 'subsample': 0.8493505201360313, 'colsample_bytree': 0.6198060693014039}.\n",
      "[I 2025-05-15 00:21:15,179] Trial 1974 finished with values: [0.7292874801260902, 0.07395811450440286] and parameters: {'alpha': 0.8694173170637239, 'max_depth': 7, 'eta': 0.24026710755528385, 'subsample': 0.8376771934629543, 'colsample_bytree': 0.9678524429242819}.\n",
      "[I 2025-05-15 00:21:15,314] Trial 1975 finished with values: [0.7157211433893019, 0.05271990245915664] and parameters: {'alpha': 0.8694173170637239, 'max_depth': 7, 'eta': 0.24431474510203355, 'subsample': 0.8493505201360313, 'colsample_bytree': 0.6198060693014039}.\n",
      "[I 2025-05-15 00:21:15,458] Trial 1976 finished with values: [0.7178594075966584, 0.0564799428852823] and parameters: {'alpha': 0.9751144043073579, 'max_depth': 7, 'eta': 0.2283330883102839, 'subsample': 0.8493505201360313, 'colsample_bytree': 0.6268842887986352}.\n",
      "[I 2025-05-15 00:21:15,625] Trial 1977 finished with values: [0.6928649983304385, 0.08442419285099216] and parameters: {'alpha': 0.6370308795473967, 'max_depth': 5, 'eta': 0.2283330883102839, 'subsample': 0.6766262078975724, 'colsample_bytree': 0.9662500725159211}.\n",
      "[I 2025-05-15 00:21:15,758] Trial 1978 finished with values: [0.7092833751489587, 0.07393981730850767] and parameters: {'alpha': 0.8694173170637239, 'max_depth': 7, 'eta': 0.24431474510203355, 'subsample': 0.8493505201360313, 'colsample_bytree': 0.6680712822424791}.\n",
      "[I 2025-05-15 00:21:15,914] Trial 1979 finished with values: [0.6949864137510607, 0.07295549474228812] and parameters: {'alpha': 0.46828708375340866, 'max_depth': 7, 'eta': 0.21500273048430651, 'subsample': 0.9583086624692859, 'colsample_bytree': 0.9532604182421414}.\n",
      "[I 2025-05-15 00:21:16,053] Trial 1980 finished with values: [0.7157211433893019, 0.05271990245915664] and parameters: {'alpha': 0.8694173170637239, 'max_depth': 7, 'eta': 0.24431474510203355, 'subsample': 0.8493505201360313, 'colsample_bytree': 0.6268842887986352}.\n",
      "[I 2025-05-15 00:21:16,227] Trial 1981 finished with values: [0.7171349097670885, 0.10781348880960923] and parameters: {'alpha': 0.8694173170637239, 'max_depth': 7, 'eta': 0.24431474510203355, 'subsample': 0.8493505201360313, 'colsample_bytree': 0.8747006669966682}.\n",
      "[I 2025-05-15 00:21:16,472] Trial 1982 finished with values: [0.7000042887820778, 0.056138302129934564] and parameters: {'alpha': 0.8694173170637239, 'max_depth': 7, 'eta': 0.0947704453181538, 'subsample': 0.8493505201360313, 'colsample_bytree': 0.6198060693014039}.\n",
      "[I 2025-05-15 00:21:16,609] Trial 1983 finished with values: [0.700019605860927, 0.049472882776494205] and parameters: {'alpha': 0.42973229437234406, 'max_depth': 7, 'eta': 0.2283330883102839, 'subsample': 0.8493505201360313, 'colsample_bytree': 0.6346180096533811}.\n",
      "[I 2025-05-15 00:21:16,748] Trial 1984 finished with values: [0.7157211433893019, 0.05271990245915664] and parameters: {'alpha': 0.8694173170637239, 'max_depth': 7, 'eta': 0.24431474510203355, 'subsample': 0.8493505201360313, 'colsample_bytree': 0.6198060693014039}.\n",
      "[I 2025-05-15 00:21:16,860] Trial 1985 finished with values: [0.6742945719335974, 0.0322934380821998] and parameters: {'alpha': 0.5492982808057126, 'max_depth': 3, 'eta': 0.22953871851537658, 'subsample': 0.8963264120267695, 'colsample_bytree': 0.7923884786739054}.\n",
      "[I 2025-05-15 00:21:16,997] Trial 1986 finished with values: [0.7100094046864135, 0.061518217556398] and parameters: {'alpha': 0.8694173170637239, 'max_depth': 7, 'eta': 0.1835864240964316, 'subsample': 0.8493505201360313, 'colsample_bytree': 0.6479107585243286}.\n",
      "[I 2025-05-15 00:21:17,137] Trial 1987 finished with values: [0.7157211433893019, 0.05271990245915664] and parameters: {'alpha': 0.8694173170637239, 'max_depth': 7, 'eta': 0.24431474510203355, 'subsample': 0.8493505201360313, 'colsample_bytree': 0.6268842887986352}.\n",
      "[I 2025-05-15 00:21:17,265] Trial 1988 finished with values: [0.7157165482656472, 0.08163446349876026] and parameters: {'alpha': 0.8694173170637239, 'max_depth': 7, 'eta': 0.24431474510203355, 'subsample': 0.7580447591650267, 'colsample_bytree': 0.6198060693014039}.\n",
      "[I 2025-05-15 00:21:17,391] Trial 1989 finished with values: [0.6885900016236103, 0.025369084250282836] and parameters: {'alpha': 0.22601217229786574, 'max_depth': 5, 'eta': 0.23813647636124352, 'subsample': 0.6766262078975724, 'colsample_bytree': 0.6198060693014039}.\n",
      "[I 2025-05-15 00:21:17,521] Trial 1990 finished with values: [0.6907144804600026, 0.06395791260280291] and parameters: {'alpha': 0.5227848935638293, 'max_depth': 7, 'eta': 0.24431474510203355, 'subsample': 0.8493505201360313, 'colsample_bytree': 0.9678524429242819}.\n",
      "[I 2025-05-15 00:21:17,671] Trial 1991 finished with values: [0.7092772483174189, 0.05262509297654089] and parameters: {'alpha': 0.8694173170637239, 'max_depth': 6, 'eta': 0.24431474510203355, 'subsample': 0.8493505201360313, 'colsample_bytree': 0.6198060693014039}.\n",
      "[I 2025-05-15 00:21:17,829] Trial 1992 finished with values: [0.722143594550796, 0.06983089582451193] and parameters: {'alpha': 0.9573201967755818, 'max_depth': 7, 'eta': 0.24431474510203355, 'subsample': 0.8493505201360313, 'colsample_bytree': 0.9678524429242819}.\n",
      "[I 2025-05-15 00:21:17,957] Trial 1993 finished with values: [0.7085650041509285, 0.07659742009026965] and parameters: {'alpha': 0.8694173170637239, 'max_depth': 7, 'eta': 0.22739873665679933, 'subsample': 0.8253001326267858, 'colsample_bytree': 0.6268842887986352}.\n",
      "[I 2025-05-15 00:21:18,112] Trial 1994 finished with values: [0.7078558234002078, 0.061517441066653106] and parameters: {'alpha': 0.8694173170637239, 'max_depth': 6, 'eta': 0.22739873665679933, 'subsample': 0.8493505201360313, 'colsample_bytree': 0.6375143155235036}.\n",
      "[I 2025-05-15 00:21:18,303] Trial 1995 finished with values: [0.7092879702726135, 0.08021040512976783] and parameters: {'alpha': 0.8694173170637239, 'max_depth': 7, 'eta': 0.28614185508305184, 'subsample': 0.8010190554149159, 'colsample_bytree': 0.6268842887986352}.\n",
      "[I 2025-05-15 00:21:18,447] Trial 1996 finished with values: [0.6892945872506763, 0.04884101885910642] and parameters: {'alpha': 0.671432356883428, 'max_depth': 7, 'eta': 0.12433441837183859, 'subsample': 0.8493505201360313, 'colsample_bytree': 0.6198060693014039}.\n",
      "[I 2025-05-15 00:21:18,573] Trial 1997 finished with values: [0.6771374217680197, 0.05223548358852428] and parameters: {'alpha': 0.8694173170637239, 'max_depth': 4, 'eta': 0.22739873665679933, 'subsample': 0.8493505201360313, 'colsample_bytree': 0.9901074621532081}.\n",
      "[I 2025-05-15 00:21:18,732] Trial 1998 finished with values: [0.6942956134949592, 0.07418727173719582] and parameters: {'alpha': 0.8694173170637239, 'max_depth': 5, 'eta': 0.23813647636124352, 'subsample': 0.8396092253214011, 'colsample_bytree': 0.6268842887986352}.\n",
      "[I 2025-05-15 00:21:18,865] Trial 1999 finished with values: [0.7200037986355546, 0.06368125400293721] and parameters: {'alpha': 0.8694173170637239, 'max_depth': 7, 'eta': 0.24431474510203355, 'subsample': 0.8493505201360313, 'colsample_bytree': 0.9678524429242819}.\n"
     ]
    },
    {
     "name": "stdout",
     "output_type": "stream",
     "text": [
      "Pareto-optimal solutions:\n",
      "Params: {'alpha': 0.012915419123790906, 'max_depth': 7, 'eta': 0.22739873665679933, 'subsample': 0.871229825323997, 'colsample_bytree': 0.9273609939577232}, Accuracy: 0.5000, DPD: 0.0000\n",
      "Params: {'alpha': 0.006398238570445525, 'max_depth': 4, 'eta': 0.1835864240964316, 'subsample': 0.872143282534935, 'colsample_bytree': 0.6846054564616372}, Accuracy: 0.5000, DPD: 0.0000\n",
      "Params: {'alpha': 0.0018713778605690123, 'max_depth': 3, 'eta': 0.07253350513913152, 'subsample': 0.8088010652239656, 'colsample_bytree': 0.8778999079756078}, Accuracy: 0.5000, DPD: 0.0000\n",
      "Params: {'alpha': 0.006398238570445525, 'max_depth': 4, 'eta': 0.1835864240964316, 'subsample': 0.6500142472469429, 'colsample_bytree': 0.7719975241381819}, Accuracy: 0.5000, DPD: 0.0000\n",
      "Params: {'alpha': 0.006398238570445525, 'max_depth': 6, 'eta': 0.1835864240964316, 'subsample': 0.7126649411379313, 'colsample_bytree': 0.6846054564616372}, Accuracy: 0.5000, DPD: 0.0000\n",
      "Params: {'alpha': 0.006398238570445525, 'max_depth': 7, 'eta': 0.1835864240964316, 'subsample': 0.872143282534935, 'colsample_bytree': 0.9532604182421414}, Accuracy: 0.5000, DPD: 0.0000\n",
      "Params: {'alpha': 0.006398238570445525, 'max_depth': 5, 'eta': 0.1835864240964316, 'subsample': 0.6766262078975724, 'colsample_bytree': 0.938607954432039}, Accuracy: 0.5000, DPD: 0.0000\n",
      "Params: {'alpha': 0.006398238570445525, 'max_depth': 7, 'eta': 0.1835864240964316, 'subsample': 0.871229825323997, 'colsample_bytree': 0.9532604182421414}, Accuracy: 0.5000, DPD: 0.0000\n",
      "Params: {'alpha': 0.006398238570445525, 'max_depth': 4, 'eta': 0.1835864240964316, 'subsample': 0.6500142472469429, 'colsample_bytree': 0.6245073635344549}, Accuracy: 0.5000, DPD: 0.0000\n",
      "Params: {'alpha': 0.006398238570445525, 'max_depth': 7, 'eta': 0.21500273048430651, 'subsample': 0.9984601149714915, 'colsample_bytree': 0.6846054564616372}, Accuracy: 0.5000, DPD: 0.0000\n",
      "Params: {'alpha': 0.006398238570445525, 'max_depth': 7, 'eta': 0.21500273048430651, 'subsample': 0.872143282534935, 'colsample_bytree': 0.9532604182421414}, Accuracy: 0.5000, DPD: 0.0000\n",
      "Params: {'alpha': 0.006398238570445525, 'max_depth': 7, 'eta': 0.1835864240964316, 'subsample': 0.6766262078975724, 'colsample_bytree': 0.6624630554926771}, Accuracy: 0.5000, DPD: 0.0000\n",
      "Params: {'alpha': 0.006398238570445525, 'max_depth': 6, 'eta': 0.15511827510132917, 'subsample': 0.7126649411379313, 'colsample_bytree': 0.6846054564616372}, Accuracy: 0.5000, DPD: 0.0000\n",
      "Params: {'alpha': 0.006398238570445525, 'max_depth': 6, 'eta': 0.10749039742554378, 'subsample': 0.807108008558591, 'colsample_bytree': 0.6346180096533811}, Accuracy: 0.5000, DPD: 0.0000\n",
      "Params: {'alpha': 0.0018713778605690123, 'max_depth': 7, 'eta': 0.07253350513913152, 'subsample': 0.8088010652239656, 'colsample_bytree': 0.6268842887986352}, Accuracy: 0.5000, DPD: 0.0000\n",
      "Params: {'alpha': 0.006398238570445525, 'max_depth': 7, 'eta': 0.24431474510203355, 'subsample': 0.7645830844743573, 'colsample_bytree': 0.6846054564616372}, Accuracy: 0.5000, DPD: 0.0000\n",
      "Params: {'alpha': 0.006398238570445525, 'max_depth': 4, 'eta': 0.05148993795553561, 'subsample': 0.6500142472469429, 'colsample_bytree': 0.9171521282961637}, Accuracy: 0.5000, DPD: 0.0000\n",
      "Params: {'alpha': 0.006398238570445525, 'max_depth': 3, 'eta': 0.24026710755528385, 'subsample': 0.8376771934629543, 'colsample_bytree': 0.7894887198211535}, Accuracy: 0.5000, DPD: 0.0000\n",
      "Params: {'alpha': 0.006398238570445525, 'max_depth': 5, 'eta': 0.10022879453843885, 'subsample': 0.6766262078975724, 'colsample_bytree': 0.6268842887986352}, Accuracy: 0.5000, DPD: 0.0000\n",
      "Params: {'alpha': 0.006398238570445525, 'max_depth': 5, 'eta': 0.1835864240964316, 'subsample': 0.8376771934629543, 'colsample_bytree': 0.6482350599140047}, Accuracy: 0.5000, DPD: 0.0000\n",
      "Params: {'alpha': 0.006398238570445525, 'max_depth': 6, 'eta': 0.1835864240964316, 'subsample': 0.7126649411379313, 'colsample_bytree': 0.6846054564616372}, Accuracy: 0.5000, DPD: 0.0000\n",
      "Params: {'alpha': 0.012915419123790906, 'max_depth': 5, 'eta': 0.21901686836526663, 'subsample': 0.871229825323997, 'colsample_bytree': 0.9273609939577232}, Accuracy: 0.5000, DPD: 0.0000\n",
      "Params: {'alpha': 0.006398238570445525, 'max_depth': 5, 'eta': 0.1835864240964316, 'subsample': 0.6766262078975724, 'colsample_bytree': 0.938607954432039}, Accuracy: 0.5000, DPD: 0.0000\n",
      "Params: {'alpha': 0.006398238570445525, 'max_depth': 4, 'eta': 0.2743823608550061, 'subsample': 0.6950815747717355, 'colsample_bytree': 0.939918536631748}, Accuracy: 0.5000, DPD: 0.0000\n",
      "Params: {'alpha': 0.006398238570445525, 'max_depth': 7, 'eta': 0.21500273048430651, 'subsample': 0.872143282534935, 'colsample_bytree': 0.9397452183449054}, Accuracy: 0.5000, DPD: 0.0000\n",
      "Params: {'alpha': 0.006398238570445525, 'max_depth': 3, 'eta': 0.2849042647217977, 'subsample': 0.9984601149714915, 'colsample_bytree': 0.8914441862273623}, Accuracy: 0.5000, DPD: 0.0000\n",
      "Params: {'alpha': 0.006398238570445525, 'max_depth': 5, 'eta': 0.1835864240964316, 'subsample': 0.6500142472469429, 'colsample_bytree': 0.7900788002678284}, Accuracy: 0.5000, DPD: 0.0000\n",
      "Params: {'alpha': 0.006398238570445525, 'max_depth': 6, 'eta': 0.1835864240964316, 'subsample': 0.6631956570556669, 'colsample_bytree': 0.6624630554926771}, Accuracy: 0.5000, DPD: 0.0000\n",
      "Params: {'alpha': 0.006398238570445525, 'max_depth': 4, 'eta': 0.24431474510203355, 'subsample': 0.9804068801617242, 'colsample_bytree': 0.6846054564616372}, Accuracy: 0.5000, DPD: 0.0000\n",
      "Params: {'alpha': 0.006398238570445525, 'max_depth': 6, 'eta': 0.10749039742554378, 'subsample': 0.6786934575537894, 'colsample_bytree': 0.6846054564616372}, Accuracy: 0.5000, DPD: 0.0000\n",
      "Params: {'alpha': 0.006398238570445525, 'max_depth': 5, 'eta': 0.2033085526607888, 'subsample': 0.8376771934629543, 'colsample_bytree': 0.938607954432039}, Accuracy: 0.5000, DPD: 0.0000\n",
      "Params: {'alpha': 0.006398238570445525, 'max_depth': 4, 'eta': 0.1835864240964316, 'subsample': 0.872143282534935, 'colsample_bytree': 0.7719975241381819}, Accuracy: 0.5000, DPD: 0.0000\n",
      "Params: {'alpha': 0.006398238570445525, 'max_depth': 6, 'eta': 0.1835864240964316, 'subsample': 0.7126649411379313, 'colsample_bytree': 0.6846054564616372}, Accuracy: 0.5000, DPD: 0.0000\n",
      "Params: {'alpha': 0.006398238570445525, 'max_depth': 5, 'eta': 0.27499741563348057, 'subsample': 0.8472770656657291, 'colsample_bytree': 0.938607954432039}, Accuracy: 0.5000, DPD: 0.0000\n",
      "Params: {'alpha': 0.006398238570445525, 'max_depth': 7, 'eta': 0.21500273048430651, 'subsample': 0.9984601149714915, 'colsample_bytree': 0.6624630554926771}, Accuracy: 0.5000, DPD: 0.0000\n",
      "Params: {'alpha': 0.006398238570445525, 'max_depth': 7, 'eta': 0.21500273048430651, 'subsample': 0.8493505201360313, 'colsample_bytree': 0.6268842887986352}, Accuracy: 0.5000, DPD: 0.0000\n",
      "Params: {'alpha': 0.012915419123790906, 'max_depth': 7, 'eta': 0.22739873665679933, 'subsample': 0.8493505201360313, 'colsample_bytree': 0.9273609939577232}, Accuracy: 0.5000, DPD: 0.0000\n",
      "Params: {'alpha': 0.006398238570445525, 'max_depth': 5, 'eta': 0.1835864240964316, 'subsample': 0.7190259527785925, 'colsample_bytree': 0.6846054564616372}, Accuracy: 0.5000, DPD: 0.0000\n",
      "Params: {'alpha': 0.006398238570445525, 'max_depth': 5, 'eta': 0.15780100657948715, 'subsample': 0.6766262078975724, 'colsample_bytree': 0.938607954432039}, Accuracy: 0.5000, DPD: 0.0000\n",
      "Params: {'alpha': 0.006398238570445525, 'max_depth': 6, 'eta': 0.07257095200779526, 'subsample': 0.807108008558591, 'colsample_bytree': 0.6346180096533811}, Accuracy: 0.5000, DPD: 0.0000\n",
      "Params: {'alpha': 0.006398238570445525, 'max_depth': 4, 'eta': 0.21901686836526663, 'subsample': 0.872143282534935, 'colsample_bytree': 0.9611620505991075}, Accuracy: 0.5000, DPD: 0.0000\n",
      "Params: {'alpha': 0.008318822215806598, 'max_depth': 7, 'eta': 0.07253350513913152, 'subsample': 0.9984601149714915, 'colsample_bytree': 0.7642776900822141}, Accuracy: 0.5000, DPD: 0.0000\n",
      "Params: {'alpha': 0.006398238570445525, 'max_depth': 3, 'eta': 0.1835864240964316, 'subsample': 0.8621180142479564, 'colsample_bytree': 0.8778999079756078}, Accuracy: 0.5000, DPD: 0.0000\n",
      "Params: {'alpha': 0.22601217229786574, 'max_depth': 5, 'eta': 0.23813647636124352, 'subsample': 0.6766262078975724, 'colsample_bytree': 0.6268842887986352}, Accuracy: 0.6886, DPD: 0.0254\n",
      "Params: {'alpha': 0.006398238570445525, 'max_depth': 7, 'eta': 0.10022879453843885, 'subsample': 0.872143282534935, 'colsample_bytree': 0.9532604182421414}, Accuracy: 0.5000, DPD: 0.0000\n",
      "Params: {'alpha': 0.006398238570445525, 'max_depth': 7, 'eta': 0.21500273048430651, 'subsample': 0.9984601149714915, 'colsample_bytree': 0.6846054564616372}, Accuracy: 0.5000, DPD: 0.0000\n",
      "Params: {'alpha': 0.006398238570445525, 'max_depth': 7, 'eta': 0.1835864240964316, 'subsample': 0.6631956570556669, 'colsample_bytree': 0.9532604182421414}, Accuracy: 0.5000, DPD: 0.0000\n",
      "Params: {'alpha': 0.006398238570445525, 'max_depth': 7, 'eta': 0.24431474510203355, 'subsample': 0.9984601149714915, 'colsample_bytree': 0.9757497655282128}, Accuracy: 0.5000, DPD: 0.0000\n",
      "Params: {'alpha': 0.006398238570445525, 'max_depth': 4, 'eta': 0.05148993795553561, 'subsample': 0.6500142472469429, 'colsample_bytree': 0.9171521282961637}, Accuracy: 0.5000, DPD: 0.0000\n",
      "Params: {'alpha': 0.0018713778605690123, 'max_depth': 7, 'eta': 0.07253350513913152, 'subsample': 0.8088010652239656, 'colsample_bytree': 0.6268842887986352}, Accuracy: 0.5000, DPD: 0.0000\n",
      "Params: {'alpha': 0.006398238570445525, 'max_depth': 5, 'eta': 0.15511827510132917, 'subsample': 0.8472770656657291, 'colsample_bytree': 0.6846054564616372}, Accuracy: 0.5000, DPD: 0.0000\n",
      "Params: {'alpha': 0.006398238570445525, 'max_depth': 7, 'eta': 0.059302538923580936, 'subsample': 0.8493505201360313, 'colsample_bytree': 0.7894887198211535}, Accuracy: 0.5000, DPD: 0.0000\n",
      "Params: {'alpha': 0.006398238570445525, 'max_depth': 7, 'eta': 0.2743823608550061, 'subsample': 0.6950815747717355, 'colsample_bytree': 0.7730542574154097}, Accuracy: 0.5000, DPD: 0.0000\n",
      "Params: {'alpha': 0.006398238570445525, 'max_depth': 6, 'eta': 0.15511827510132917, 'subsample': 0.7126649411379313, 'colsample_bytree': 0.6846054564616372}, Accuracy: 0.5000, DPD: 0.0000\n",
      "Params: {'alpha': 0.006398238570445525, 'max_depth': 6, 'eta': 0.1835864240964316, 'subsample': 0.7126649411379313, 'colsample_bytree': 0.6268842887986352}, Accuracy: 0.5000, DPD: 0.0000\n",
      "Params: {'alpha': 0.008318822215806598, 'max_depth': 3, 'eta': 0.1835864240964316, 'subsample': 0.6840602305591771, 'colsample_bytree': 0.6846054564616372}, Accuracy: 0.5000, DPD: 0.0000\n",
      "Params: {'alpha': 0.006398238570445525, 'max_depth': 7, 'eta': 0.1835864240964316, 'subsample': 0.7126649411379313, 'colsample_bytree': 0.6245073635344549}, Accuracy: 0.5000, DPD: 0.0000\n",
      "Params: {'alpha': 0.006398238570445525, 'max_depth': 3, 'eta': 0.11212601398592194, 'subsample': 0.8493505201360313, 'colsample_bytree': 0.7894887198211535}, Accuracy: 0.5000, DPD: 0.0000\n",
      "Params: {'alpha': 0.006398238570445525, 'max_depth': 7, 'eta': 0.1835864240964316, 'subsample': 0.6500142472469429, 'colsample_bytree': 0.8421035292504896}, Accuracy: 0.5000, DPD: 0.0000\n",
      "Params: {'alpha': 0.006398238570445525, 'max_depth': 7, 'eta': 0.1835864240964316, 'subsample': 0.6500142472469429, 'colsample_bytree': 0.6268842887986352}, Accuracy: 0.5000, DPD: 0.0000\n",
      "Params: {'alpha': 0.006398238570445525, 'max_depth': 4, 'eta': 0.07769280125627988, 'subsample': 0.872143282534935, 'colsample_bytree': 0.6846054564616372}, Accuracy: 0.5000, DPD: 0.0000\n",
      "Params: {'alpha': 0.006398238570445525, 'max_depth': 5, 'eta': 0.29324278143830207, 'subsample': 0.8376771934629543, 'colsample_bytree': 0.6482350599140047}, Accuracy: 0.5000, DPD: 0.0000\n",
      "Params: {'alpha': 0.012915419123790906, 'max_depth': 7, 'eta': 0.1835864240964316, 'subsample': 0.9067946810463764, 'colsample_bytree': 0.6245073635344549}, Accuracy: 0.5000, DPD: 0.0000\n",
      "Params: {'alpha': 0.006398238570445525, 'max_depth': 7, 'eta': 0.019766500909719528, 'subsample': 0.8699545369534627, 'colsample_bytree': 0.9397452183449054}, Accuracy: 0.5000, DPD: 0.0000\n",
      "Params: {'alpha': 0.006398238570445525, 'max_depth': 7, 'eta': 0.1835864240964316, 'subsample': 0.6766262078975724, 'colsample_bytree': 0.6268842887986352}, Accuracy: 0.5000, DPD: 0.0000\n",
      "Params: {'alpha': 0.006398238570445525, 'max_depth': 7, 'eta': 0.019766500909719528, 'subsample': 0.9452186894410826, 'colsample_bytree': 0.938607954432039}, Accuracy: 0.5000, DPD: 0.0000\n",
      "Params: {'alpha': 0.006398238570445525, 'max_depth': 5, 'eta': 0.07257095200779526, 'subsample': 0.8621180142479564, 'colsample_bytree': 0.8778999079756078}, Accuracy: 0.5000, DPD: 0.0000\n",
      "Params: {'alpha': 0.0018713778605690123, 'max_depth': 7, 'eta': 0.27499741563348057, 'subsample': 0.8472770656657291, 'colsample_bytree': 0.938607954432039}, Accuracy: 0.5000, DPD: 0.0000\n",
      "Params: {'alpha': 0.006398238570445525, 'max_depth': 7, 'eta': 0.21500273048430651, 'subsample': 0.9984601149714915, 'colsample_bytree': 0.6624630554926771}, Accuracy: 0.5000, DPD: 0.0000\n",
      "Params: {'alpha': 0.012915419123790906, 'max_depth': 7, 'eta': 0.1835864240964316, 'subsample': 0.920555626974529, 'colsample_bytree': 0.9532604182421414}, Accuracy: 0.5000, DPD: 0.0000\n",
      "Params: {'alpha': 0.006398238570445525, 'max_depth': 7, 'eta': 0.2849042647217977, 'subsample': 0.6500142472469429, 'colsample_bytree': 0.9171521282961637}, Accuracy: 0.5000, DPD: 0.0000\n",
      "Params: {'alpha': 0.012915419123790906, 'max_depth': 7, 'eta': 0.1835864240964316, 'subsample': 0.871229825323997, 'colsample_bytree': 0.9532604182421414}, Accuracy: 0.5000, DPD: 0.0000\n",
      "Params: {'alpha': 0.006398238570445525, 'max_depth': 6, 'eta': 0.21901686836526663, 'subsample': 0.872143282534935, 'colsample_bytree': 0.9611620505991075}, Accuracy: 0.5000, DPD: 0.0000\n",
      "Params: {'alpha': 0.006398238570445525, 'max_depth': 5, 'eta': 0.1835864240964316, 'subsample': 0.6766262078975724, 'colsample_bytree': 0.938607954432039}, Accuracy: 0.5000, DPD: 0.0000\n",
      "Params: {'alpha': 0.006398238570445525, 'max_depth': 5, 'eta': 0.26643944390689334, 'subsample': 0.8126899029458226, 'colsample_bytree': 0.6268842887986352}, Accuracy: 0.5000, DPD: 0.0000\n",
      "Params: {'alpha': 0.006398238570445525, 'max_depth': 7, 'eta': 0.1835864240964316, 'subsample': 0.872143282534935, 'colsample_bytree': 0.9532604182421414}, Accuracy: 0.5000, DPD: 0.0000\n",
      "Params: {'alpha': 0.006398238570445525, 'max_depth': 5, 'eta': 0.1835864240964316, 'subsample': 0.8126899029458226, 'colsample_bytree': 0.7332782840099421}, Accuracy: 0.5000, DPD: 0.0000\n",
      "Params: {'alpha': 0.006398238570445525, 'max_depth': 6, 'eta': 0.1835864240964316, 'subsample': 0.8251011063634879, 'colsample_bytree': 0.6846054564616372}, Accuracy: 0.5000, DPD: 0.0000\n",
      "Params: {'alpha': 0.006398238570445525, 'max_depth': 7, 'eta': 0.21500273048430651, 'subsample': 0.9984601149714915, 'colsample_bytree': 0.9532604182421414}, Accuracy: 0.5000, DPD: 0.0000\n",
      "Params: {'alpha': 0.006398238570445525, 'max_depth': 5, 'eta': 0.21500273048430651, 'subsample': 0.9984601149714915, 'colsample_bytree': 0.6482350599140047}, Accuracy: 0.5000, DPD: 0.0000\n",
      "Params: {'alpha': 0.006398238570445525, 'max_depth': 7, 'eta': 0.1835864240964316, 'subsample': 0.8493505201360313, 'colsample_bytree': 0.9532604182421414}, Accuracy: 0.5000, DPD: 0.0000\n",
      "Params: {'alpha': 0.012915419123790906, 'max_depth': 7, 'eta': 0.22739873665679933, 'subsample': 0.8493505201360313, 'colsample_bytree': 0.9273609939577232}, Accuracy: 0.5000, DPD: 0.0000\n",
      "Params: {'alpha': 0.006398238570445525, 'max_depth': 3, 'eta': 0.1835864240964316, 'subsample': 0.8493505201360313, 'colsample_bytree': 0.6268842887986352}, Accuracy: 0.5000, DPD: 0.0000\n",
      "Params: {'alpha': 0.006398238570445525, 'max_depth': 7, 'eta': 0.24431474510203355, 'subsample': 0.6766262078975724, 'colsample_bytree': 0.6846054564616372}, Accuracy: 0.5000, DPD: 0.0000\n",
      "Params: {'alpha': 0.006398238570445525, 'max_depth': 5, 'eta': 0.19092956736866656, 'subsample': 0.9846954804251706, 'colsample_bytree': 0.8017170997105214}, Accuracy: 0.5000, DPD: 0.0000\n",
      "Params: {'alpha': 0.006398238570445525, 'max_depth': 3, 'eta': 0.17506242442890937, 'subsample': 0.6766262078975724, 'colsample_bytree': 0.939918536631748}, Accuracy: 0.5000, DPD: 0.0000\n",
      "Params: {'alpha': 0.006398238570445525, 'max_depth': 6, 'eta': 0.1919795686809288, 'subsample': 0.872143282534935, 'colsample_bytree': 0.8610767213054858}, Accuracy: 0.5000, DPD: 0.0000\n",
      "Params: {'alpha': 0.006398238570445525, 'max_depth': 6, 'eta': 0.1835864240964316, 'subsample': 0.6766262078975724, 'colsample_bytree': 0.938607954432039}, Accuracy: 0.5000, DPD: 0.0000\n",
      "Params: {'alpha': 0.22601217229786574, 'max_depth': 5, 'eta': 0.24431474510203355, 'subsample': 0.6766262078975724, 'colsample_bytree': 0.6268842887986352}, Accuracy: 0.6872, DPD: 0.0177\n",
      "Params: {'alpha': 0.006398238570445525, 'max_depth': 7, 'eta': 0.1835864240964316, 'subsample': 0.872143282534935, 'colsample_bytree': 0.9532604182421414}, Accuracy: 0.5000, DPD: 0.0000\n",
      "Params: {'alpha': 0.006398238570445525, 'max_depth': 5, 'eta': 0.11212601398592194, 'subsample': 0.6766262078975724, 'colsample_bytree': 0.6268842887986352}, Accuracy: 0.5000, DPD: 0.0000\n",
      "Params: {'alpha': 0.006398238570445525, 'max_depth': 7, 'eta': 0.21500273048430651, 'subsample': 0.872143282534935, 'colsample_bytree': 0.6846054564616372}, Accuracy: 0.5000, DPD: 0.0000\n",
      "Params: {'alpha': 0.006398238570445525, 'max_depth': 7, 'eta': 0.1835864240964316, 'subsample': 0.9984601149714915, 'colsample_bytree': 0.9532604182421414}, Accuracy: 0.5000, DPD: 0.0000\n",
      "Params: {'alpha': 0.012915419123790906, 'max_depth': 6, 'eta': 0.03467592592210573, 'subsample': 0.920555626974529, 'colsample_bytree': 0.9532604182421414}, Accuracy: 0.5000, DPD: 0.0000\n",
      "Params: {'alpha': 0.006398238570445525, 'max_depth': 7, 'eta': 0.272173826199644, 'subsample': 0.6500142472469429, 'colsample_bytree': 0.9273609939577232}, Accuracy: 0.5000, DPD: 0.0000\n",
      "Params: {'alpha': 0.006398238570445525, 'max_depth': 4, 'eta': 0.1835864240964316, 'subsample': 0.9984601149714915, 'colsample_bytree': 0.6846054564616372}, Accuracy: 0.5000, DPD: 0.0000\n",
      "Params: {'alpha': 0.012915419123790906, 'max_depth': 7, 'eta': 0.1835864240964316, 'subsample': 0.920555626974529, 'colsample_bytree': 0.6846054564616372}, Accuracy: 0.5000, DPD: 0.0000\n",
      "Params: {'alpha': 0.006398238570445525, 'max_depth': 5, 'eta': 0.1835864240964316, 'subsample': 0.8178920914638592, 'colsample_bytree': 0.938607954432039}, Accuracy: 0.5000, DPD: 0.0000\n",
      "Params: {'alpha': 0.006398238570445525, 'max_depth': 5, 'eta': 0.27499741563348057, 'subsample': 0.8493505201360313, 'colsample_bytree': 0.938607954432039}, Accuracy: 0.5000, DPD: 0.0000\n",
      "Params: {'alpha': 0.006398238570445525, 'max_depth': 6, 'eta': 0.21500273048430651, 'subsample': 0.7126649411379313, 'colsample_bytree': 0.9701655151836737}, Accuracy: 0.5000, DPD: 0.0000\n",
      "Params: {'alpha': 0.006398238570445525, 'max_depth': 3, 'eta': 0.1835864240964316, 'subsample': 0.6766262078975724, 'colsample_bytree': 0.938607954432039}, Accuracy: 0.5000, DPD: 0.0000\n",
      "Params: {'alpha': 0.006398238570445525, 'max_depth': 4, 'eta': 0.2842267437206902, 'subsample': 0.6500142472469429, 'colsample_bytree': 0.8731535356532119}, Accuracy: 0.5000, DPD: 0.0000\n",
      "Params: {'alpha': 0.012915419123790906, 'max_depth': 7, 'eta': 0.21901686836526663, 'subsample': 0.872143282534935, 'colsample_bytree': 0.9273609939577232}, Accuracy: 0.5000, DPD: 0.0000\n",
      "Params: {'alpha': 0.006398238570445525, 'max_depth': 7, 'eta': 0.1301739291371992, 'subsample': 0.872143282534935, 'colsample_bytree': 0.9532604182421414}, Accuracy: 0.5000, DPD: 0.0000\n",
      "Params: {'alpha': 0.006398238570445525, 'max_depth': 7, 'eta': 0.10022879453843885, 'subsample': 0.872143282534935, 'colsample_bytree': 0.8610767213054858}, Accuracy: 0.5000, DPD: 0.0000\n",
      "Params: {'alpha': 0.006398238570445525, 'max_depth': 6, 'eta': 0.10022879453843885, 'subsample': 0.6631956570556669, 'colsample_bytree': 0.7171393924105901}, Accuracy: 0.5000, DPD: 0.0000\n",
      "Params: {'alpha': 0.006398238570445525, 'max_depth': 3, 'eta': 0.17506242442890937, 'subsample': 0.6766262078975724, 'colsample_bytree': 0.939918536631748}, Accuracy: 0.5000, DPD: 0.0000\n",
      "Params: {'alpha': 0.006398238570445525, 'max_depth': 3, 'eta': 0.1919795686809288, 'subsample': 0.872143282534935, 'colsample_bytree': 0.8610767213054858}, Accuracy: 0.5000, DPD: 0.0000\n",
      "Params: {'alpha': 0.006398238570445525, 'max_depth': 7, 'eta': 0.21500273048430651, 'subsample': 0.9984601149714915, 'colsample_bytree': 0.6624630554926771}, Accuracy: 0.5000, DPD: 0.0000\n",
      "Params: {'alpha': 0.006398238570445525, 'max_depth': 4, 'eta': 0.22573166199874178, 'subsample': 0.7645830844743573, 'colsample_bytree': 0.6846054564616372}, Accuracy: 0.5000, DPD: 0.0000\n",
      "Params: {'alpha': 0.008318822215806598, 'max_depth': 7, 'eta': 0.1835864240964316, 'subsample': 0.9984601149714915, 'colsample_bytree': 0.9676017286269798}, Accuracy: 0.5000, DPD: 0.0000\n",
      "Params: {'alpha': 0.006398238570445525, 'max_depth': 5, 'eta': 0.21901686836526663, 'subsample': 0.6819125803212454, 'colsample_bytree': 0.9611620505991075}, Accuracy: 0.5000, DPD: 0.0000\n",
      "Params: {'alpha': 0.006398238570445525, 'max_depth': 4, 'eta': 0.2743823608550061, 'subsample': 0.872143282534935, 'colsample_bytree': 0.939918536631748}, Accuracy: 0.5000, DPD: 0.0000\n",
      "Params: {'alpha': 0.012915419123790906, 'max_depth': 7, 'eta': 0.03366266127460038, 'subsample': 0.8493505201360313, 'colsample_bytree': 0.9273609939577232}, Accuracy: 0.5000, DPD: 0.0000\n",
      "Params: {'alpha': 0.006398238570445525, 'max_depth': 5, 'eta': 0.1835864240964316, 'subsample': 0.9783768119146362, 'colsample_bytree': 0.6268842887986352}, Accuracy: 0.5000, DPD: 0.0000\n",
      "Params: {'alpha': 0.008318822215806598, 'max_depth': 5, 'eta': 0.24431474510203355, 'subsample': 0.6766262078975724, 'colsample_bytree': 0.6268842887986352}, Accuracy: 0.5000, DPD: 0.0000\n",
      "Params: {'alpha': 0.006398238570445525, 'max_depth': 6, 'eta': 0.2743823608550061, 'subsample': 0.6950815747717355, 'colsample_bytree': 0.6268842887986352}, Accuracy: 0.5000, DPD: 0.0000\n",
      "Params: {'alpha': 0.006398238570445525, 'max_depth': 4, 'eta': 0.2743823608550061, 'subsample': 0.6500142472469429, 'colsample_bytree': 0.939918536631748}, Accuracy: 0.5000, DPD: 0.0000\n",
      "Params: {'alpha': 0.006398238570445525, 'max_depth': 6, 'eta': 0.17506242442890937, 'subsample': 0.9155923277662629, 'colsample_bytree': 0.9912791020006053}, Accuracy: 0.5000, DPD: 0.0000\n",
      "Params: {'alpha': 0.006398238570445525, 'max_depth': 7, 'eta': 0.1497831041686096, 'subsample': 0.9984601149714915, 'colsample_bytree': 0.6846054564616372}, Accuracy: 0.5000, DPD: 0.0000\n",
      "Params: {'alpha': 0.006398238570445525, 'max_depth': 4, 'eta': 0.15511827510132917, 'subsample': 0.7126649411379313, 'colsample_bytree': 0.9171521282961637}, Accuracy: 0.5000, DPD: 0.0000\n",
      "Params: {'alpha': 0.006398238570445525, 'max_depth': 7, 'eta': 0.15780100657948715, 'subsample': 0.6766262078975724, 'colsample_bytree': 0.938607954432039}, Accuracy: 0.5000, DPD: 0.0000\n",
      "Params: {'alpha': 0.006398238570445525, 'max_depth': 7, 'eta': 0.24026710755528385, 'subsample': 0.8376771934629543, 'colsample_bytree': 0.7894887198211535}, Accuracy: 0.5000, DPD: 0.0000\n",
      "Params: {'alpha': 0.012915419123790906, 'max_depth': 7, 'eta': 0.03467592592210573, 'subsample': 0.920555626974529, 'colsample_bytree': 0.9156345503220276}, Accuracy: 0.5000, DPD: 0.0000\n",
      "Params: {'alpha': 0.012915419123790906, 'max_depth': 7, 'eta': 0.22739873665679933, 'subsample': 0.9929231441442979, 'colsample_bytree': 0.7299936734908551}, Accuracy: 0.5000, DPD: 0.0000\n",
      "Params: {'alpha': 0.012915419123790906, 'max_depth': 6, 'eta': 0.10022879453843885, 'subsample': 0.6631956570556669, 'colsample_bytree': 0.9455874296140568}, Accuracy: 0.5000, DPD: 0.0000\n",
      "Params: {'alpha': 0.006398238570445525, 'max_depth': 5, 'eta': 0.21901686836526663, 'subsample': 0.807108008558591, 'colsample_bytree': 0.9611620505991075}, Accuracy: 0.5000, DPD: 0.0000\n",
      "Params: {'alpha': 0.006398238570445525, 'max_depth': 5, 'eta': 0.10022879453843885, 'subsample': 0.872143282534935, 'colsample_bytree': 0.8610767213054858}, Accuracy: 0.5000, DPD: 0.0000\n",
      "Params: {'alpha': 0.006398238570445525, 'max_depth': 5, 'eta': 0.08338196762054015, 'subsample': 0.8472770656657291, 'colsample_bytree': 0.938607954432039}, Accuracy: 0.5000, DPD: 0.0000\n",
      "Params: {'alpha': 0.006398238570445525, 'max_depth': 5, 'eta': 0.15780100657948715, 'subsample': 0.6766262078975724, 'colsample_bytree': 0.6624630554926771}, Accuracy: 0.5000, DPD: 0.0000\n",
      "Params: {'alpha': 0.006398238570445525, 'max_depth': 5, 'eta': 0.017925069668609996, 'subsample': 0.8472770656657291, 'colsample_bytree': 0.6268842887986352}, Accuracy: 0.5000, DPD: 0.0000\n",
      "Params: {'alpha': 0.006398238570445525, 'max_depth': 5, 'eta': 0.11212601398592194, 'subsample': 0.807108008558591, 'colsample_bytree': 0.8156773622103473}, Accuracy: 0.5000, DPD: 0.0000\n",
      "Params: {'alpha': 0.006398238570445525, 'max_depth': 5, 'eta': 0.21901686836526663, 'subsample': 0.8376771934629543, 'colsample_bytree': 0.9273609939577232}, Accuracy: 0.5000, DPD: 0.0000\n",
      "Params: {'alpha': 0.006398238570445525, 'max_depth': 6, 'eta': 0.1835864240964316, 'subsample': 0.8376771934629543, 'colsample_bytree': 0.61983287742417}, Accuracy: 0.5000, DPD: 0.0000\n",
      "Params: {'alpha': 0.006398238570445525, 'max_depth': 5, 'eta': 0.2743823608550061, 'subsample': 0.6950815747717355, 'colsample_bytree': 0.8430655149820465}, Accuracy: 0.5000, DPD: 0.0000\n",
      "Params: {'alpha': 0.006398238570445525, 'max_depth': 5, 'eta': 0.023066275823981394, 'subsample': 0.872143282534935, 'colsample_bytree': 0.9532604182421414}, Accuracy: 0.5000, DPD: 0.0000\n",
      "Params: {'alpha': 0.012915419123790906, 'max_depth': 5, 'eta': 0.03467592592210573, 'subsample': 0.920555626974529, 'colsample_bytree': 0.9532604182421414}, Accuracy: 0.5000, DPD: 0.0000\n",
      "Params: {'alpha': 0.006398238570445525, 'max_depth': 6, 'eta': 0.2502558802477488, 'subsample': 0.7126649411379313, 'colsample_bytree': 0.6846054564616372}, Accuracy: 0.5000, DPD: 0.0000\n",
      "Params: {'alpha': 0.006398238570445525, 'max_depth': 6, 'eta': 0.1919795686809288, 'subsample': 0.8373516158086989, 'colsample_bytree': 0.8610767213054858}, Accuracy: 0.5000, DPD: 0.0000\n",
      "Params: {'alpha': 0.012915419123790906, 'max_depth': 4, 'eta': 0.21901686836526663, 'subsample': 0.8383173561174665, 'colsample_bytree': 0.7642776900822141}, Accuracy: 0.5000, DPD: 0.0000\n",
      "Params: {'alpha': 0.006398238570445525, 'max_depth': 6, 'eta': 0.24026710755528385, 'subsample': 0.7587156097639315, 'colsample_bytree': 0.938607954432039}, Accuracy: 0.5000, DPD: 0.0000\n",
      "Params: {'alpha': 0.006398238570445525, 'max_depth': 3, 'eta': 0.15793403903210032, 'subsample': 0.9223421023282775, 'colsample_bytree': 0.7299936734908551}, Accuracy: 0.5000, DPD: 0.0000\n",
      "Params: {'alpha': 0.006398238570445525, 'max_depth': 5, 'eta': 0.21500273048430651, 'subsample': 0.872143282534935, 'colsample_bytree': 0.9532604182421414}, Accuracy: 0.5000, DPD: 0.0000\n",
      "Params: {'alpha': 0.006398238570445525, 'max_depth': 6, 'eta': 0.1835864240964316, 'subsample': 0.872143282534935, 'colsample_bytree': 0.8610767213054858}, Accuracy: 0.5000, DPD: 0.0000\n",
      "Params: {'alpha': 0.006398238570445525, 'max_depth': 3, 'eta': 0.21500273048430651, 'subsample': 0.872143282534935, 'colsample_bytree': 0.6846054564616372}, Accuracy: 0.5000, DPD: 0.0000\n",
      "Params: {'alpha': 0.006398238570445525, 'max_depth': 5, 'eta': 0.16786994069476005, 'subsample': 0.6766262078975724, 'colsample_bytree': 0.938607954432039}, Accuracy: 0.5000, DPD: 0.0000\n",
      "Params: {'alpha': 0.006398238570445525, 'max_depth': 5, 'eta': 0.05515883929531954, 'subsample': 0.6766262078975724, 'colsample_bytree': 0.938607954432039}, Accuracy: 0.5000, DPD: 0.0000\n",
      "Params: {'alpha': 0.006398238570445525, 'max_depth': 5, 'eta': 0.21500273048430651, 'subsample': 0.807108008558591, 'colsample_bytree': 0.6846054564616372}, Accuracy: 0.5000, DPD: 0.0000\n",
      "Params: {'alpha': 0.008318822215806598, 'max_depth': 5, 'eta': 0.07253350513913152, 'subsample': 0.6433737533026959, 'colsample_bytree': 0.8034926312801114}, Accuracy: 0.5000, DPD: 0.0000\n",
      "Params: {'alpha': 0.006398238570445525, 'max_depth': 7, 'eta': 0.1835864240964316, 'subsample': 0.9396545619137555, 'colsample_bytree': 0.735616064457192}, Accuracy: 0.5000, DPD: 0.0000\n",
      "Params: {'alpha': 0.006398238570445525, 'max_depth': 7, 'eta': 0.11212601398592194, 'subsample': 0.6766262078975724, 'colsample_bytree': 0.7756140337030943}, Accuracy: 0.5000, DPD: 0.0000\n",
      "Params: {'alpha': 0.006398238570445525, 'max_depth': 7, 'eta': 0.165764609912653, 'subsample': 0.7223152439093601, 'colsample_bytree': 0.8327877134801569}, Accuracy: 0.5000, DPD: 0.0000\n",
      "Params: {'alpha': 0.006398238570445525, 'max_depth': 5, 'eta': 0.24431474510203355, 'subsample': 0.6766262078975724, 'colsample_bytree': 0.6268842887986352}, Accuracy: 0.5000, DPD: 0.0000\n",
      "Params: {'alpha': 0.8694173170637239, 'max_depth': 7, 'eta': 0.24026710755528385, 'subsample': 0.8376771934629543, 'colsample_bytree': 0.9901074621532081}, Accuracy: 0.7293, DPD: 0.0740\n",
      "Params: {'alpha': 0.006398238570445525, 'max_depth': 6, 'eta': 0.10749039742554378, 'subsample': 0.872143282534935, 'colsample_bytree': 0.9611620505991075}, Accuracy: 0.5000, DPD: 0.0000\n",
      "Params: {'alpha': 0.006398238570445525, 'max_depth': 7, 'eta': 0.1835864240964316, 'subsample': 0.9984601149714915, 'colsample_bytree': 0.9856315675163443}, Accuracy: 0.5000, DPD: 0.0000\n",
      "Params: {'alpha': 0.006398238570445525, 'max_depth': 7, 'eta': 0.1835864240964316, 'subsample': 0.6766262078975724, 'colsample_bytree': 0.938607954432039}, Accuracy: 0.5000, DPD: 0.0000\n",
      "Params: {'alpha': 0.006398238570445525, 'max_depth': 4, 'eta': 0.09932863240626702, 'subsample': 0.7645830844743573, 'colsample_bytree': 0.9171521282961637}, Accuracy: 0.5000, DPD: 0.0000\n",
      "Params: {'alpha': 0.006398238570445525, 'max_depth': 7, 'eta': 0.21901686836526663, 'subsample': 0.8722445553121012, 'colsample_bytree': 0.91733556202821}, Accuracy: 0.5000, DPD: 0.0000\n",
      "Params: {'alpha': 0.006398238570445525, 'max_depth': 6, 'eta': 0.1835864240964316, 'subsample': 0.871229825323997, 'colsample_bytree': 0.9532604182421414}, Accuracy: 0.5000, DPD: 0.0000\n",
      "Params: {'alpha': 0.006398238570445525, 'max_depth': 7, 'eta': 0.04360269329891573, 'subsample': 0.9073076569174898, 'colsample_bytree': 0.7171393924105901}, Accuracy: 0.5000, DPD: 0.0000\n",
      "Params: {'alpha': 0.006398238570445525, 'max_depth': 4, 'eta': 0.21500273048430651, 'subsample': 0.723846016483348, 'colsample_bytree': 0.6245073635344549}, Accuracy: 0.5000, DPD: 0.0000\n",
      "Params: {'alpha': 0.006398238570445525, 'max_depth': 6, 'eta': 0.21901686836526663, 'subsample': 0.807108008558591, 'colsample_bytree': 0.9611620505991075}, Accuracy: 0.5000, DPD: 0.0000\n",
      "Params: {'alpha': 0.006398238570445525, 'max_depth': 7, 'eta': 0.2622543328319337, 'subsample': 0.872143282534935, 'colsample_bytree': 0.9532604182421414}, Accuracy: 0.5000, DPD: 0.0000\n",
      "Params: {'alpha': 0.008318822215806598, 'max_depth': 5, 'eta': 0.2309181360312491, 'subsample': 0.7735244427219242, 'colsample_bytree': 0.6846054564616372}, Accuracy: 0.5000, DPD: 0.0000\n",
      "Params: {'alpha': 0.006398238570445525, 'max_depth': 7, 'eta': 0.10022879453843885, 'subsample': 0.6631956570556669, 'colsample_bytree': 0.7730914500445354}, Accuracy: 0.5000, DPD: 0.0000\n",
      "Params: {'alpha': 0.006398238570445525, 'max_depth': 6, 'eta': 0.021973805906549567, 'subsample': 0.872143282534935, 'colsample_bytree': 0.9532604182421414}, Accuracy: 0.5000, DPD: 0.0000\n",
      "Params: {'alpha': 0.006398238570445525, 'max_depth': 4, 'eta': 0.21500273048430651, 'subsample': 0.8376771934629543, 'colsample_bytree': 0.6482350599140047}, Accuracy: 0.5000, DPD: 0.0000\n",
      "Params: {'alpha': 0.0018713778605690123, 'max_depth': 7, 'eta': 0.07253350513913152, 'subsample': 0.8088010652239656, 'colsample_bytree': 0.6268842887986352}, Accuracy: 0.5000, DPD: 0.0000\n",
      "Params: {'alpha': 0.22601217229786574, 'max_depth': 5, 'eta': 0.23813647636124352, 'subsample': 0.6766262078975724, 'colsample_bytree': 0.6268842887986352}, Accuracy: 0.6886, DPD: 0.0254\n",
      "Params: {'alpha': 0.006398238570445525, 'max_depth': 3, 'eta': 0.2535959537440369, 'subsample': 0.6766262078975724, 'colsample_bytree': 0.6052138001756903}, Accuracy: 0.5000, DPD: 0.0000\n",
      "Params: {'alpha': 0.006398238570445525, 'max_depth': 7, 'eta': 0.10022879453843885, 'subsample': 0.6766262078975724, 'colsample_bytree': 0.6268842887986352}, Accuracy: 0.5000, DPD: 0.0000\n",
      "Params: {'alpha': 0.006398238570445525, 'max_depth': 7, 'eta': 0.14512559193659197, 'subsample': 0.6026810085400992, 'colsample_bytree': 0.6268842887986352}, Accuracy: 0.5000, DPD: 0.0000\n",
      "Params: {'alpha': 0.006398238570445525, 'max_depth': 7, 'eta': 0.1835864240964316, 'subsample': 0.871229825323997, 'colsample_bytree': 0.9532604182421414}, Accuracy: 0.5000, DPD: 0.0000\n",
      "Params: {'alpha': 0.006398238570445525, 'max_depth': 5, 'eta': 0.10749039742554378, 'subsample': 0.9073076569174898, 'colsample_bytree': 0.7171393924105901}, Accuracy: 0.5000, DPD: 0.0000\n",
      "Params: {'alpha': 0.006398238570445525, 'max_depth': 5, 'eta': 0.22282544950223743, 'subsample': 0.6930116165806126, 'colsample_bytree': 0.6408729979386513}, Accuracy: 0.5000, DPD: 0.0000\n",
      "Params: {'alpha': 0.006398238570445525, 'max_depth': 4, 'eta': 0.21500273048430651, 'subsample': 0.807108008558591, 'colsample_bytree': 0.9611620505991075}, Accuracy: 0.5000, DPD: 0.0000\n",
      "Params: {'alpha': 0.012915419123790906, 'max_depth': 7, 'eta': 0.21901686836526663, 'subsample': 0.8801073252404295, 'colsample_bytree': 0.9273609939577232}, Accuracy: 0.5000, DPD: 0.0000\n",
      "Params: {'alpha': 0.006398238570445525, 'max_depth': 4, 'eta': 0.21500273048430651, 'subsample': 0.8621180142479564, 'colsample_bytree': 0.6245073635344549}, Accuracy: 0.5000, DPD: 0.0000\n",
      "Params: {'alpha': 0.006398238570445525, 'max_depth': 5, 'eta': 0.1835864240964316, 'subsample': 0.6766262078975724, 'colsample_bytree': 0.9059817852320838}, Accuracy: 0.5000, DPD: 0.0000\n",
      "Params: {'alpha': 0.012915419123790906, 'max_depth': 5, 'eta': 0.23813647636124352, 'subsample': 0.852126912563755, 'colsample_bytree': 0.9273609939577232}, Accuracy: 0.5000, DPD: 0.0000\n",
      "Params: {'alpha': 0.006398238570445525, 'max_depth': 6, 'eta': 0.1835864240964316, 'subsample': 0.6766262078975724, 'colsample_bytree': 0.7235624899496603}, Accuracy: 0.5000, DPD: 0.0000\n",
      "Params: {'alpha': 0.006398238570445525, 'max_depth': 6, 'eta': 0.24431474510203355, 'subsample': 0.9846102305292809, 'colsample_bytree': 0.6268842887986352}, Accuracy: 0.5000, DPD: 0.0000\n",
      "Params: {'alpha': 0.006398238570445525, 'max_depth': 5, 'eta': 0.15780100657948715, 'subsample': 0.8039567134194093, 'colsample_bytree': 0.9381752654105122}, Accuracy: 0.5000, DPD: 0.0000\n",
      "Params: {'alpha': 0.006398238570445525, 'max_depth': 4, 'eta': 0.05817848598224139, 'subsample': 0.6500142472469429, 'colsample_bytree': 0.6846054564616372}, Accuracy: 0.5000, DPD: 0.0000\n",
      "Params: {'alpha': 0.006398238570445525, 'max_depth': 7, 'eta': 0.24026710755528385, 'subsample': 0.7397095565161738, 'colsample_bytree': 0.9532604182421414}, Accuracy: 0.5000, DPD: 0.0000\n",
      "Params: {'alpha': 0.006398238570445525, 'max_depth': 6, 'eta': 0.1835864240964316, 'subsample': 0.807108008558591, 'colsample_bytree': 0.8778999079756078}, Accuracy: 0.5000, DPD: 0.0000\n",
      "Params: {'alpha': 0.006398238570445525, 'max_depth': 5, 'eta': 0.04477245332592224, 'subsample': 0.6766262078975724, 'colsample_bytree': 0.938607954432039}, Accuracy: 0.5000, DPD: 0.0000\n",
      "Params: {'alpha': 0.006398238570445525, 'max_depth': 6, 'eta': 0.1835864240964316, 'subsample': 0.7013594600915958, 'colsample_bytree': 0.8610767213054858}, Accuracy: 0.5000, DPD: 0.0000\n",
      "Params: {'alpha': 0.006398238570445525, 'max_depth': 3, 'eta': 0.07253350513913152, 'subsample': 0.6950815747717355, 'colsample_bytree': 0.939918536631748}, Accuracy: 0.5000, DPD: 0.0000\n",
      "Params: {'alpha': 0.012915419123790906, 'max_depth': 4, 'eta': 0.1835864240964316, 'subsample': 0.8493505201360313, 'colsample_bytree': 0.9273609939577232}, Accuracy: 0.5000, DPD: 0.0000\n",
      "Params: {'alpha': 0.006398238570445525, 'max_depth': 7, 'eta': 0.1835864240964316, 'subsample': 0.9726376375818298, 'colsample_bytree': 0.6624630554926771}, Accuracy: 0.5000, DPD: 0.0000\n",
      "Params: {'alpha': 0.006398238570445525, 'max_depth': 7, 'eta': 0.1835864240964316, 'subsample': 0.8493505201360313, 'colsample_bytree': 0.6268842887986352}, Accuracy: 0.5000, DPD: 0.0000\n",
      "Params: {'alpha': 0.006398238570445525, 'max_depth': 4, 'eta': 0.22739873665679933, 'subsample': 0.9762660135601268, 'colsample_bytree': 0.939918536631748}, Accuracy: 0.5000, DPD: 0.0000\n",
      "Params: {'alpha': 0.006398238570445525, 'max_depth': 6, 'eta': 0.1835864240964316, 'subsample': 0.6631956570556669, 'colsample_bytree': 0.6846054564616372}, Accuracy: 0.5000, DPD: 0.0000\n",
      "Params: {'alpha': 0.006398238570445525, 'max_depth': 7, 'eta': 0.21901686836526663, 'subsample': 0.6631956570556669, 'colsample_bytree': 0.9611620505991075}, Accuracy: 0.5000, DPD: 0.0000\n",
      "Params: {'alpha': 0.006398238570445525, 'max_depth': 4, 'eta': 0.05148993795553561, 'subsample': 0.8162506800871797, 'colsample_bytree': 0.9171521282961637}, Accuracy: 0.5000, DPD: 0.0000\n",
      "Params: {'alpha': 0.006398238570445525, 'max_depth': 7, 'eta': 0.21500273048430651, 'subsample': 0.7126649411379313, 'colsample_bytree': 0.6268842887986352}, Accuracy: 0.5000, DPD: 0.0000\n",
      "Params: {'alpha': 0.006398238570445525, 'max_depth': 7, 'eta': 0.21500273048430651, 'subsample': 0.8493505201360313, 'colsample_bytree': 0.6268842887986352}, Accuracy: 0.5000, DPD: 0.0000\n",
      "Params: {'alpha': 0.006398238570445525, 'max_depth': 7, 'eta': 0.04360269329891573, 'subsample': 0.872143282534935, 'colsample_bytree': 0.7171393924105901}, Accuracy: 0.5000, DPD: 0.0000\n",
      "Params: {'alpha': 0.006398238570445525, 'max_depth': 7, 'eta': 0.038998798188942176, 'subsample': 0.8376771934629543, 'colsample_bytree': 0.9532604182421414}, Accuracy: 0.5000, DPD: 0.0000\n",
      "Params: {'alpha': 0.012915419123790906, 'max_depth': 6, 'eta': 0.058835728620177496, 'subsample': 0.871229825323997, 'colsample_bytree': 0.9273609939577232}, Accuracy: 0.5000, DPD: 0.0000\n",
      "Params: {'alpha': 0.006398238570445525, 'max_depth': 6, 'eta': 0.15511827510132917, 'subsample': 0.7126649411379313, 'colsample_bytree': 0.6846054564616372}, Accuracy: 0.5000, DPD: 0.0000\n",
      "Params: {'alpha': 0.006398238570445525, 'max_depth': 7, 'eta': 0.1919795686809288, 'subsample': 0.9200110519154371, 'colsample_bytree': 0.6229115600241286}, Accuracy: 0.5000, DPD: 0.0000\n",
      "Params: {'alpha': 0.006398238570445525, 'max_depth': 7, 'eta': 0.10022879453843885, 'subsample': 0.872143282534935, 'colsample_bytree': 0.6245073635344549}, Accuracy: 0.5000, DPD: 0.0000\n",
      "Params: {'alpha': 0.006398238570445525, 'max_depth': 6, 'eta': 0.1692395805900144, 'subsample': 0.723846016483348, 'colsample_bytree': 0.6245073635344549}, Accuracy: 0.5000, DPD: 0.0000\n",
      "Params: {'alpha': 0.006398238570445525, 'max_depth': 3, 'eta': 0.10022879453843885, 'subsample': 0.6950815747717355, 'colsample_bytree': 0.6965120969417838}, Accuracy: 0.5000, DPD: 0.0000\n",
      "Params: {'alpha': 0.008318822215806598, 'max_depth': 5, 'eta': 0.1835864240964316, 'subsample': 0.6766262078975724, 'colsample_bytree': 0.938607954432039}, Accuracy: 0.5000, DPD: 0.0000\n",
      "Params: {'alpha': 0.012915419123790906, 'max_depth': 6, 'eta': 0.1835864240964316, 'subsample': 0.871229825323997, 'colsample_bytree': 0.8797989925001393}, Accuracy: 0.5000, DPD: 0.0000\n",
      "Params: {'alpha': 0.012915419123790906, 'max_depth': 3, 'eta': 0.21901686836526663, 'subsample': 0.7495466031580817, 'colsample_bytree': 0.7467898426760461}, Accuracy: 0.5000, DPD: 0.0000\n",
      "Params: {'alpha': 0.006398238570445525, 'max_depth': 4, 'eta': 0.05148993795553561, 'subsample': 0.6500142472469429, 'colsample_bytree': 0.7586944978656267}, Accuracy: 0.5000, DPD: 0.0000\n",
      "Params: {'alpha': 0.006398238570445525, 'max_depth': 7, 'eta': 0.24026710755528385, 'subsample': 0.9356967128902605, 'colsample_bytree': 0.6268842887986352}, Accuracy: 0.5000, DPD: 0.0000\n",
      "Params: {'alpha': 0.012915419123790906, 'max_depth': 7, 'eta': 0.14081483360181005, 'subsample': 0.871229825323997, 'colsample_bytree': 0.9273609939577232}, Accuracy: 0.5000, DPD: 0.0000\n",
      "Params: {'alpha': 0.006398238570445525, 'max_depth': 7, 'eta': 0.1835864240964316, 'subsample': 0.8376771934629543, 'colsample_bytree': 0.7894887198211535}, Accuracy: 0.5000, DPD: 0.0000\n",
      "Params: {'alpha': 0.006398238570445525, 'max_depth': 6, 'eta': 0.04360269329891573, 'subsample': 0.9073076569174898, 'colsample_bytree': 0.7171393924105901}, Accuracy: 0.5000, DPD: 0.0000\n",
      "Params: {'alpha': 0.006398238570445525, 'max_depth': 4, 'eta': 0.2958736954839365, 'subsample': 0.6500142472469429, 'colsample_bytree': 0.6245073635344549}, Accuracy: 0.5000, DPD: 0.0000\n",
      "Params: {'alpha': 0.006398238570445525, 'max_depth': 6, 'eta': 0.05060854447439128, 'subsample': 0.723846016483348, 'colsample_bytree': 0.6346180096533811}, Accuracy: 0.5000, DPD: 0.0000\n",
      "Params: {'alpha': 0.006398238570445525, 'max_depth': 4, 'eta': 0.1835864240964316, 'subsample': 0.6500142472469429, 'colsample_bytree': 0.9312070891167116}, Accuracy: 0.5000, DPD: 0.0000\n",
      "Params: {'alpha': 0.006398238570445525, 'max_depth': 6, 'eta': 0.16071646123327132, 'subsample': 0.871229825323997, 'colsample_bytree': 0.938607954432039}, Accuracy: 0.5000, DPD: 0.0000\n",
      "Params: {'alpha': 0.006398238570445525, 'max_depth': 4, 'eta': 0.1835864240964316, 'subsample': 0.7126649411379313, 'colsample_bytree': 0.6078419782399469}, Accuracy: 0.5000, DPD: 0.0000\n",
      "Params: {'alpha': 0.22601217229786574, 'max_depth': 5, 'eta': 0.23813647636124352, 'subsample': 0.6766262078975724, 'colsample_bytree': 0.6479107585243286}, Accuracy: 0.6886, DPD: 0.0254\n",
      "Params: {'alpha': 0.006398238570445525, 'max_depth': 5, 'eta': 0.23813647636124352, 'subsample': 0.8472770656657291, 'colsample_bytree': 0.6268842887986352}, Accuracy: 0.5000, DPD: 0.0000\n",
      "Params: {'alpha': 0.006398238570445525, 'max_depth': 6, 'eta': 0.2743823608550061, 'subsample': 0.6950815747717355, 'colsample_bytree': 0.9532604182421414}, Accuracy: 0.5000, DPD: 0.0000\n",
      "Params: {'alpha': 0.6370308795473967, 'max_depth': 7, 'eta': 0.24431474510203355, 'subsample': 0.8493505201360313, 'colsample_bytree': 0.6198060693014039}, Accuracy: 0.6993, DPD: 0.0420\n",
      "Params: {'alpha': 0.006398238570445525, 'max_depth': 4, 'eta': 0.05148993795553561, 'subsample': 0.6500142472469429, 'colsample_bytree': 0.9171521282961637}, Accuracy: 0.5000, DPD: 0.0000\n",
      "Params: {'alpha': 0.006398238570445525, 'max_depth': 4, 'eta': 0.1835864240964316, 'subsample': 0.7126649411379313, 'colsample_bytree': 0.939918536631748}, Accuracy: 0.5000, DPD: 0.0000\n",
      "Params: {'alpha': 0.006398238570445525, 'max_depth': 6, 'eta': 0.21901686836526663, 'subsample': 0.872143282534935, 'colsample_bytree': 0.9611620505991075}, Accuracy: 0.5000, DPD: 0.0000\n",
      "Params: {'alpha': 0.006398238570445525, 'max_depth': 7, 'eta': 0.1835864240964316, 'subsample': 0.871229825323997, 'colsample_bytree': 0.9532604182421414}, Accuracy: 0.5000, DPD: 0.0000\n",
      "Params: {'alpha': 0.006398238570445525, 'max_depth': 7, 'eta': 0.1835864240964316, 'subsample': 0.871229825323997, 'colsample_bytree': 0.7073375851946879}, Accuracy: 0.5000, DPD: 0.0000\n",
      "Params: {'alpha': 0.006398238570445525, 'max_depth': 5, 'eta': 0.27499741563348057, 'subsample': 0.6766262078975724, 'colsample_bytree': 0.612931258280246}, Accuracy: 0.5000, DPD: 0.0000\n",
      "Params: {'alpha': 0.006398238570445525, 'max_depth': 4, 'eta': 0.24431474510203355, 'subsample': 0.872143282534935, 'colsample_bytree': 0.7034987723562066}, Accuracy: 0.5000, DPD: 0.0000\n",
      "Params: {'alpha': 0.006398238570445525, 'max_depth': 5, 'eta': 0.1835864240964316, 'subsample': 0.6766262078975724, 'colsample_bytree': 0.938607954432039}, Accuracy: 0.5000, DPD: 0.0000\n",
      "Params: {'alpha': 0.006398238570445525, 'max_depth': 4, 'eta': 0.1753882703340068, 'subsample': 0.6950815747717355, 'colsample_bytree': 0.939918536631748}, Accuracy: 0.5000, DPD: 0.0000\n",
      "Params: {'alpha': 0.006398238570445525, 'max_depth': 3, 'eta': 0.24026710755528385, 'subsample': 0.8376771934629543, 'colsample_bytree': 0.7894887198211535}, Accuracy: 0.5000, DPD: 0.0000\n",
      "Params: {'alpha': 0.006398238570445525, 'max_depth': 4, 'eta': 0.1919795686809288, 'subsample': 0.807108008558591, 'colsample_bytree': 0.6346180096533811}, Accuracy: 0.5000, DPD: 0.0000\n",
      "Params: {'alpha': 0.008318822215806598, 'max_depth': 7, 'eta': 0.07253350513913152, 'subsample': 0.9984601149714915, 'colsample_bytree': 0.7642776900822141}, Accuracy: 0.5000, DPD: 0.0000\n",
      "Params: {'alpha': 0.006398238570445525, 'max_depth': 4, 'eta': 0.24431474510203355, 'subsample': 0.9439029455050807, 'colsample_bytree': 0.938607954432039}, Accuracy: 0.5000, DPD: 0.0000\n",
      "Params: {'alpha': 0.008318822215806598, 'max_depth': 5, 'eta': 0.12955623795656748, 'subsample': 0.9984601149714915, 'colsample_bytree': 0.8907943293589311}, Accuracy: 0.5000, DPD: 0.0000\n",
      "Params: {'alpha': 0.006398238570445525, 'max_depth': 6, 'eta': 0.10749039742554378, 'subsample': 0.7645830844743573, 'colsample_bytree': 0.9549385682070078}, Accuracy: 0.5000, DPD: 0.0000\n",
      "Params: {'alpha': 0.012915419123790906, 'max_depth': 4, 'eta': 0.22739873665679933, 'subsample': 0.8722887478609976, 'colsample_bytree': 0.9273609939577232}, Accuracy: 0.5000, DPD: 0.0000\n",
      "Params: {'alpha': 0.006398238570445525, 'max_depth': 3, 'eta': 0.21901686836526663, 'subsample': 0.872143282534935, 'colsample_bytree': 0.8778999079756078}, Accuracy: 0.5000, DPD: 0.0000\n",
      "Params: {'alpha': 0.012915419123790906, 'max_depth': 7, 'eta': 0.22739873665679933, 'subsample': 0.872143282534935, 'colsample_bytree': 0.9273609939577232}, Accuracy: 0.5000, DPD: 0.0000\n",
      "Params: {'alpha': 0.006398238570445525, 'max_depth': 4, 'eta': 0.1835864240964316, 'subsample': 0.6500142472469429, 'colsample_bytree': 0.6198060693014039}, Accuracy: 0.5000, DPD: 0.0000\n",
      "Params: {'alpha': 0.006398238570445525, 'max_depth': 7, 'eta': 0.1835864240964316, 'subsample': 0.6766262078975724, 'colsample_bytree': 0.9532604182421414}, Accuracy: 0.5000, DPD: 0.0000\n",
      "Params: {'alpha': 0.006398238570445525, 'max_depth': 4, 'eta': 0.1835864240964316, 'subsample': 0.6500142472469429, 'colsample_bytree': 0.6245073635344549}, Accuracy: 0.5000, DPD: 0.0000\n",
      "Params: {'alpha': 0.006398238570445525, 'max_depth': 5, 'eta': 0.24686432990586607, 'subsample': 0.8376771934629543, 'colsample_bytree': 0.6482350599140047}, Accuracy: 0.5000, DPD: 0.0000\n",
      "Params: {'alpha': 0.006398238570445525, 'max_depth': 6, 'eta': 0.1835864240964316, 'subsample': 0.6631956570556669, 'colsample_bytree': 0.6846054564616372}, Accuracy: 0.5000, DPD: 0.0000\n",
      "Params: {'alpha': 0.006398238570445525, 'max_depth': 7, 'eta': 0.24431474510203355, 'subsample': 0.7645830844743573, 'colsample_bytree': 0.6051882084598305}, Accuracy: 0.5000, DPD: 0.0000\n",
      "Params: {'alpha': 0.006398238570445525, 'max_depth': 5, 'eta': 0.1835864240964316, 'subsample': 0.7190259527785925, 'colsample_bytree': 0.938607954432039}, Accuracy: 0.5000, DPD: 0.0000\n",
      "Params: {'alpha': 0.006398238570445525, 'max_depth': 6, 'eta': 0.10022879453843885, 'subsample': 0.6950815747717355, 'colsample_bytree': 0.939918536631748}, Accuracy: 0.5000, DPD: 0.0000\n",
      "Params: {'alpha': 0.006398238570445525, 'max_depth': 4, 'eta': 0.1835864240964316, 'subsample': 0.8493505201360313, 'colsample_bytree': 0.6245073635344549}, Accuracy: 0.5000, DPD: 0.0000\n",
      "Params: {'alpha': 0.012915419123790906, 'max_depth': 5, 'eta': 0.018704021723965847, 'subsample': 0.6766262078975724, 'colsample_bytree': 0.6479107585243286}, Accuracy: 0.5000, DPD: 0.0000\n",
      "Params: {'alpha': 0.006398238570445525, 'max_depth': 4, 'eta': 0.05148993795553561, 'subsample': 0.6500142472469429, 'colsample_bytree': 0.9171521282961637}, Accuracy: 0.5000, DPD: 0.0000\n",
      "Params: {'alpha': 0.006398238570445525, 'max_depth': 3, 'eta': 0.1835864240964316, 'subsample': 0.9933768339840505, 'colsample_bytree': 0.9532604182421414}, Accuracy: 0.5000, DPD: 0.0000\n",
      "Params: {'alpha': 0.006398238570445525, 'max_depth': 4, 'eta': 0.1835864240964316, 'subsample': 0.6500142472469429, 'colsample_bytree': 0.6245073635344549}, Accuracy: 0.5000, DPD: 0.0000\n",
      "Params: {'alpha': 0.012915419123790906, 'max_depth': 7, 'eta': 0.22739873665679933, 'subsample': 0.8493505201360313, 'colsample_bytree': 0.9273609939577232}, Accuracy: 0.5000, DPD: 0.0000\n",
      "Params: {'alpha': 0.006398238570445525, 'max_depth': 5, 'eta': 0.10022879453843885, 'subsample': 0.6766262078975724, 'colsample_bytree': 0.6346180096533811}, Accuracy: 0.5000, DPD: 0.0000\n",
      "Params: {'alpha': 0.006398238570445525, 'max_depth': 4, 'eta': 0.04803188500470775, 'subsample': 0.872143282534935, 'colsample_bytree': 0.9611620505991075}, Accuracy: 0.5000, DPD: 0.0000\n",
      "Params: {'alpha': 0.012915419123790906, 'max_depth': 7, 'eta': 0.22739873665679933, 'subsample': 0.8493505201360313, 'colsample_bytree': 0.9273609939577232}, Accuracy: 0.5000, DPD: 0.0000\n",
      "Params: {'alpha': 0.006398238570445525, 'max_depth': 6, 'eta': 0.21901686836526663, 'subsample': 0.807108008558591, 'colsample_bytree': 0.6268842887986352}, Accuracy: 0.5000, DPD: 0.0000\n",
      "Params: {'alpha': 0.012915419123790906, 'max_depth': 7, 'eta': 0.10853742194712446, 'subsample': 0.7882923672300421, 'colsample_bytree': 0.9787238926202889}, Accuracy: 0.5000, DPD: 0.0000\n",
      "Params: {'alpha': 0.006398238570445525, 'max_depth': 5, 'eta': 0.21500273048430651, 'subsample': 0.6766262078975724, 'colsample_bytree': 0.8739924818312819}, Accuracy: 0.5000, DPD: 0.0000\n",
      "Params: {'alpha': 0.006398238570445525, 'max_depth': 6, 'eta': 0.15511827510132917, 'subsample': 0.9455728646066989, 'colsample_bytree': 0.9171521282961637}, Accuracy: 0.5000, DPD: 0.0000\n",
      "Params: {'alpha': 0.006398238570445525, 'max_depth': 7, 'eta': 0.1835864240964316, 'subsample': 0.871229825323997, 'colsample_bytree': 0.6624630554926771}, Accuracy: 0.5000, DPD: 0.0000\n",
      "Params: {'alpha': 0.0018713778605690123, 'max_depth': 6, 'eta': 0.07253350513913152, 'subsample': 0.872143282534935, 'colsample_bytree': 0.6268842887986352}, Accuracy: 0.5000, DPD: 0.0000\n",
      "Params: {'alpha': 0.006398238570445525, 'max_depth': 5, 'eta': 0.15511827510132917, 'subsample': 0.7126649411379313, 'colsample_bytree': 0.9171521282961637}, Accuracy: 0.5000, DPD: 0.0000\n",
      "Params: {'alpha': 0.006398238570445525, 'max_depth': 7, 'eta': 0.1677647029323065, 'subsample': 0.9984601149714915, 'colsample_bytree': 0.9171521282961637}, Accuracy: 0.5000, DPD: 0.0000\n",
      "Params: {'alpha': 0.006398238570445525, 'max_depth': 3, 'eta': 0.21500273048430651, 'subsample': 0.723846016483348, 'colsample_bytree': 0.7745376626764415}, Accuracy: 0.5000, DPD: 0.0000\n",
      "Params: {'alpha': 0.006398238570445525, 'max_depth': 7, 'eta': 0.22739873665679933, 'subsample': 0.8493505201360313, 'colsample_bytree': 0.6837805915730714}, Accuracy: 0.5000, DPD: 0.0000\n",
      "Params: {'alpha': 0.012915419123790906, 'max_depth': 7, 'eta': 0.09446533694949708, 'subsample': 0.6766262078975724, 'colsample_bytree': 0.9273609939577232}, Accuracy: 0.5000, DPD: 0.0000\n",
      "Params: {'alpha': 0.012915419123790906, 'max_depth': 7, 'eta': 0.24182700629922924, 'subsample': 0.6081706068465388, 'colsample_bytree': 0.9273609939577232}, Accuracy: 0.5000, DPD: 0.0000\n",
      "Params: {'alpha': 0.006398238570445525, 'max_depth': 4, 'eta': 0.21500273048430651, 'subsample': 0.6550834598543572, 'colsample_bytree': 0.8185895350563355}, Accuracy: 0.5000, DPD: 0.0000\n",
      "Params: {'alpha': 0.006398238570445525, 'max_depth': 4, 'eta': 0.21500273048430651, 'subsample': 0.723846016483348, 'colsample_bytree': 0.6310181040781574}, Accuracy: 0.5000, DPD: 0.0000\n",
      "Params: {'alpha': 0.006398238570445525, 'max_depth': 7, 'eta': 0.21500273048430651, 'subsample': 0.8905774050758242, 'colsample_bytree': 0.9532604182421414}, Accuracy: 0.5000, DPD: 0.0000\n",
      "Params: {'alpha': 0.006398238570445525, 'max_depth': 7, 'eta': 0.1835864240964316, 'subsample': 0.871229825323997, 'colsample_bytree': 0.7467898426760461}, Accuracy: 0.5000, DPD: 0.0000\n",
      "Params: {'alpha': 0.006398238570445525, 'max_depth': 5, 'eta': 0.1835864240964316, 'subsample': 0.872143282534935, 'colsample_bytree': 0.9532604182421414}, Accuracy: 0.5000, DPD: 0.0000\n",
      "Params: {'alpha': 0.006398238570445525, 'max_depth': 4, 'eta': 0.07257095200779526, 'subsample': 0.807108008558591, 'colsample_bytree': 0.6245073635344549}, Accuracy: 0.5000, DPD: 0.0000\n",
      "Params: {'alpha': 0.006398238570445525, 'max_depth': 7, 'eta': 0.24431474510203355, 'subsample': 0.7645830844743573, 'colsample_bytree': 0.7240761409779876}, Accuracy: 0.5000, DPD: 0.0000\n",
      "Params: {'alpha': 0.006398238570445525, 'max_depth': 6, 'eta': 0.1835864240964316, 'subsample': 0.8376771934629543, 'colsample_bytree': 0.8778999079756078}, Accuracy: 0.5000, DPD: 0.0000\n",
      "Params: {'alpha': 0.006398238570445525, 'max_depth': 5, 'eta': 0.10022879453843885, 'subsample': 0.7774501230831639, 'colsample_bytree': 0.7171393924105901}, Accuracy: 0.5000, DPD: 0.0000\n",
      "Params: {'alpha': 0.006398238570445525, 'max_depth': 4, 'eta': 0.05148993795553561, 'subsample': 0.7190259527785925, 'colsample_bytree': 0.7512586291458804}, Accuracy: 0.5000, DPD: 0.0000\n",
      "Params: {'alpha': 0.006398238570445525, 'max_depth': 4, 'eta': 0.05148993795553561, 'subsample': 0.872143282534935, 'colsample_bytree': 0.9171521282961637}, Accuracy: 0.5000, DPD: 0.0000\n",
      "Params: {'alpha': 0.006398238570445525, 'max_depth': 7, 'eta': 0.24431474510203355, 'subsample': 0.8493505201360313, 'colsample_bytree': 0.6846054564616372}, Accuracy: 0.5000, DPD: 0.0000\n",
      "Params: {'alpha': 0.012915419123790906, 'max_depth': 7, 'eta': 0.22739873665679933, 'subsample': 0.8493505201360313, 'colsample_bytree': 0.9273609939577232}, Accuracy: 0.5000, DPD: 0.0000\n",
      "Params: {'alpha': 0.006398238570445525, 'max_depth': 5, 'eta': 0.1835864240964316, 'subsample': 0.8376771934629543, 'colsample_bytree': 0.6482350599140047}, Accuracy: 0.5000, DPD: 0.0000\n",
      "Params: {'alpha': 0.006398238570445525, 'max_depth': 4, 'eta': 0.2743823608550061, 'subsample': 0.6766262078975724, 'colsample_bytree': 0.939918536631748}, Accuracy: 0.5000, DPD: 0.0000\n",
      "Params: {'alpha': 0.006398238570445525, 'max_depth': 4, 'eta': 0.10022879453843885, 'subsample': 0.6766262078975724, 'colsample_bytree': 0.6758620611494761}, Accuracy: 0.5000, DPD: 0.0000\n",
      "Params: {'alpha': 0.006398238570445525, 'max_depth': 5, 'eta': 0.2974931433257242, 'subsample': 0.9029898370366127, 'colsample_bytree': 0.6268842887986352}, Accuracy: 0.5000, DPD: 0.0000\n",
      "Params: {'alpha': 0.006398238570445525, 'max_depth': 5, 'eta': 0.23813647636124352, 'subsample': 0.6766262078975724, 'colsample_bytree': 0.6268842887986352}, Accuracy: 0.5000, DPD: 0.0000\n",
      "Params: {'alpha': 0.006398238570445525, 'max_depth': 5, 'eta': 0.23813647636124352, 'subsample': 0.7989283837285998, 'colsample_bytree': 0.9611620505991075}, Accuracy: 0.5000, DPD: 0.0000\n",
      "Params: {'alpha': 0.006398238570445525, 'max_depth': 5, 'eta': 0.20184478258607816, 'subsample': 0.7190259527785925, 'colsample_bytree': 0.6846054564616372}, Accuracy: 0.5000, DPD: 0.0000\n",
      "Params: {'alpha': 0.006398238570445525, 'max_depth': 4, 'eta': 0.07253350513913152, 'subsample': 0.6890744260860576, 'colsample_bytree': 0.9171521282961637}, Accuracy: 0.5000, DPD: 0.0000\n",
      "Params: {'alpha': 0.006398238570445525, 'max_depth': 6, 'eta': 0.1835864240964316, 'subsample': 0.807108008558591, 'colsample_bytree': 0.6482350599140047}, Accuracy: 0.5000, DPD: 0.0000\n",
      "Params: {'alpha': 0.006398238570445525, 'max_depth': 6, 'eta': 0.1835864240964316, 'subsample': 0.7439931129317644, 'colsample_bytree': 0.938607954432039}, Accuracy: 0.5000, DPD: 0.0000\n",
      "Params: {'alpha': 0.006398238570445525, 'max_depth': 7, 'eta': 0.1835864240964316, 'subsample': 0.871229825323997, 'colsample_bytree': 0.9901074621532081}, Accuracy: 0.5000, DPD: 0.0000\n",
      "Params: {'alpha': 0.006398238570445525, 'max_depth': 4, 'eta': 0.2743823608550061, 'subsample': 0.6950815747717355, 'colsample_bytree': 0.6638010257671862}, Accuracy: 0.5000, DPD: 0.0000\n",
      "Params: {'alpha': 0.006398238570445525, 'max_depth': 7, 'eta': 0.21500273048430651, 'subsample': 0.7126649411379313, 'colsample_bytree': 0.708469829483169}, Accuracy: 0.5000, DPD: 0.0000\n",
      "Params: {'alpha': 0.006398238570445525, 'max_depth': 5, 'eta': 0.15780100657948715, 'subsample': 0.6766262078975724, 'colsample_bytree': 0.6245073635344549}, Accuracy: 0.5000, DPD: 0.0000\n",
      "Params: {'alpha': 0.006398238570445525, 'max_depth': 6, 'eta': 0.1835864240964316, 'subsample': 0.9984601149714915, 'colsample_bytree': 0.9532604182421414}, Accuracy: 0.5000, DPD: 0.0000\n",
      "Params: {'alpha': 0.006398238570445525, 'max_depth': 6, 'eta': 0.07957592594220307, 'subsample': 0.6766262078975724, 'colsample_bytree': 0.6268842887986352}, Accuracy: 0.5000, DPD: 0.0000\n",
      "Params: {'alpha': 0.010691770508933551, 'max_depth': 3, 'eta': 0.24026710755528385, 'subsample': 0.723846016483348, 'colsample_bytree': 0.7894887198211535}, Accuracy: 0.5000, DPD: 0.0000\n",
      "Params: {'alpha': 0.006398238570445525, 'max_depth': 4, 'eta': 0.05148993795553561, 'subsample': 0.6864589889979726, 'colsample_bytree': 0.7093301687646391}, Accuracy: 0.5000, DPD: 0.0000\n",
      "Params: {'alpha': 0.006398238570445525, 'max_depth': 5, 'eta': 0.27499741563348057, 'subsample': 0.9454318171790606, 'colsample_bytree': 0.6245073635344549}, Accuracy: 0.5000, DPD: 0.0000\n",
      "Params: {'alpha': 0.006398238570445525, 'max_depth': 7, 'eta': 0.1835864240964316, 'subsample': 0.8376771934629543, 'colsample_bytree': 0.9532604182421414}, Accuracy: 0.5000, DPD: 0.0000\n",
      "Params: {'alpha': 0.006398238570445525, 'max_depth': 4, 'eta': 0.1835864240964316, 'subsample': 0.6698286323659473, 'colsample_bytree': 0.6479107585243286}, Accuracy: 0.5000, DPD: 0.0000\n",
      "Params: {'alpha': 0.006398238570445525, 'max_depth': 4, 'eta': 0.15780100657948715, 'subsample': 0.6766262078975724, 'colsample_bytree': 0.9532604182421414}, Accuracy: 0.5000, DPD: 0.0000\n",
      "Params: {'alpha': 0.006398238570445525, 'max_depth': 4, 'eta': 0.15511827510132917, 'subsample': 0.6500142472469429, 'colsample_bytree': 0.9171521282961637}, Accuracy: 0.5000, DPD: 0.0000\n",
      "Params: {'alpha': 0.006398238570445525, 'max_depth': 3, 'eta': 0.1835864240964316, 'subsample': 0.6409880611697382, 'colsample_bytree': 0.9611620505991075}, Accuracy: 0.5000, DPD: 0.0000\n",
      "Params: {'alpha': 0.012915419123790906, 'max_depth': 5, 'eta': 0.21901686836526663, 'subsample': 0.871229825323997, 'colsample_bytree': 0.6846054564616372}, Accuracy: 0.5000, DPD: 0.0000\n",
      "Params: {'alpha': 0.006398238570445525, 'max_depth': 3, 'eta': 0.05826135432289592, 'subsample': 0.872143282534935, 'colsample_bytree': 0.8843911291120348}, Accuracy: 0.5000, DPD: 0.0000\n",
      "Params: {'alpha': 0.006398238570445525, 'max_depth': 5, 'eta': 0.1835864240964316, 'subsample': 0.7190259527785925, 'colsample_bytree': 0.6846054564616372}, Accuracy: 0.5000, DPD: 0.0000\n",
      "Params: {'alpha': 0.006398238570445525, 'max_depth': 4, 'eta': 0.07253350513913152, 'subsample': 0.872143282534935, 'colsample_bytree': 0.7642776900822141}, Accuracy: 0.5000, DPD: 0.0000\n",
      "Params: {'alpha': 0.006398238570445525, 'max_depth': 6, 'eta': 0.15511827510132917, 'subsample': 0.7126649411379313, 'colsample_bytree': 0.6846054564616372}, Accuracy: 0.5000, DPD: 0.0000\n",
      "Params: {'alpha': 0.006398238570445525, 'max_depth': 5, 'eta': 0.27499741563348057, 'subsample': 0.9984601149714915, 'colsample_bytree': 0.7642776900822141}, Accuracy: 0.5000, DPD: 0.0000\n",
      "Params: {'alpha': 0.006398238570445525, 'max_depth': 3, 'eta': 0.21901686836526663, 'subsample': 0.807108008558591, 'colsample_bytree': 0.8936989271586264}, Accuracy: 0.5000, DPD: 0.0000\n",
      "Params: {'alpha': 0.006398238570445525, 'max_depth': 7, 'eta': 0.0765818690756318, 'subsample': 0.7645830844743573, 'colsample_bytree': 0.6846054564616372}, Accuracy: 0.5000, DPD: 0.0000\n",
      "Params: {'alpha': 0.006398238570445525, 'max_depth': 4, 'eta': 0.10022879453843885, 'subsample': 0.872143282534935, 'colsample_bytree': 0.9532604182421414}, Accuracy: 0.5000, DPD: 0.0000\n",
      "Params: {'alpha': 0.006398238570445525, 'max_depth': 4, 'eta': 0.23813647636124352, 'subsample': 0.6766262078975724, 'colsample_bytree': 0.6268842887986352}, Accuracy: 0.5000, DPD: 0.0000\n",
      "Params: {'alpha': 0.0018713778605690123, 'max_depth': 5, 'eta': 0.23813647636124352, 'subsample': 0.6766262078975724, 'colsample_bytree': 0.6268842887986352}, Accuracy: 0.5000, DPD: 0.0000\n",
      "Params: {'alpha': 0.006398238570445525, 'max_depth': 7, 'eta': 0.10022879453843885, 'subsample': 0.6631956570556669, 'colsample_bytree': 0.9532604182421414}, Accuracy: 0.5000, DPD: 0.0000\n",
      "Params: {'alpha': 0.006398238570445525, 'max_depth': 7, 'eta': 0.10022879453843885, 'subsample': 0.6500142472469429, 'colsample_bytree': 0.6245073635344549}, Accuracy: 0.5000, DPD: 0.0000\n",
      "Params: {'alpha': 0.006398238570445525, 'max_depth': 7, 'eta': 0.07253350513913152, 'subsample': 0.6766262078975724, 'colsample_bytree': 0.6624630554926771}, Accuracy: 0.5000, DPD: 0.0000\n",
      "Params: {'alpha': 0.012915419123790906, 'max_depth': 5, 'eta': 0.21901686836526663, 'subsample': 0.871229825323997, 'colsample_bytree': 0.9781583569104044}, Accuracy: 0.5000, DPD: 0.0000\n",
      "Params: {'alpha': 0.006398238570445525, 'max_depth': 4, 'eta': 0.0370159509615561, 'subsample': 0.6950815747717355, 'colsample_bytree': 0.939918536631748}, Accuracy: 0.5000, DPD: 0.0000\n",
      "Params: {'alpha': 0.006398238570445525, 'max_depth': 7, 'eta': 0.21500273048430651, 'subsample': 0.7126649411379313, 'colsample_bytree': 0.6268842887986352}, Accuracy: 0.5000, DPD: 0.0000\n",
      "Params: {'alpha': 0.0018713778605690123, 'max_depth': 7, 'eta': 0.07253350513913152, 'subsample': 0.6766262078975724, 'colsample_bytree': 0.6624630554926771}, Accuracy: 0.5000, DPD: 0.0000\n",
      "Params: {'alpha': 0.006398238570445525, 'max_depth': 5, 'eta': 0.12185759792714435, 'subsample': 0.6766262078975724, 'colsample_bytree': 0.6268842887986352}, Accuracy: 0.5000, DPD: 0.0000\n",
      "Params: {'alpha': 0.006398238570445525, 'max_depth': 5, 'eta': 0.25802857836214804, 'subsample': 0.871229825323997, 'colsample_bytree': 0.6346180096533811}, Accuracy: 0.5000, DPD: 0.0000\n",
      "Params: {'alpha': 0.006398238570445525, 'max_depth': 7, 'eta': 0.2994191911588248, 'subsample': 0.872143282534935, 'colsample_bytree': 0.6268842887986352}, Accuracy: 0.5000, DPD: 0.0000\n",
      "Params: {'alpha': 0.006398238570445525, 'max_depth': 4, 'eta': 0.1835864240964316, 'subsample': 0.7536328296423982, 'colsample_bytree': 0.6245073635344549}, Accuracy: 0.5000, DPD: 0.0000\n",
      "Params: {'alpha': 0.006398238570445525, 'max_depth': 7, 'eta': 0.08435274918348351, 'subsample': 0.807108008558591, 'colsample_bytree': 0.969871473096175}, Accuracy: 0.5000, DPD: 0.0000\n",
      "Params: {'alpha': 0.006398238570445525, 'max_depth': 7, 'eta': 0.24431474510203355, 'subsample': 0.7734051374925871, 'colsample_bytree': 0.9611620505991075}, Accuracy: 0.5000, DPD: 0.0000\n",
      "Params: {'alpha': 0.006398238570445525, 'max_depth': 4, 'eta': 0.29157076513015207, 'subsample': 0.7126649411379313, 'colsample_bytree': 0.6846054564616372}, Accuracy: 0.5000, DPD: 0.0000\n",
      "Params: {'alpha': 0.006398238570445525, 'max_depth': 5, 'eta': 0.16956592422129785, 'subsample': 0.723846016483348, 'colsample_bytree': 0.8874897272582385}, Accuracy: 0.5000, DPD: 0.0000\n",
      "Params: {'alpha': 0.006398238570445525, 'max_depth': 5, 'eta': 0.09169260291249527, 'subsample': 0.8376771934629543, 'colsample_bytree': 0.6268842887986352}, Accuracy: 0.5000, DPD: 0.0000\n",
      "Params: {'alpha': 0.006398238570445525, 'max_depth': 7, 'eta': 0.10783604244900007, 'subsample': 0.8088010652239656, 'colsample_bytree': 0.9532604182421414}, Accuracy: 0.5000, DPD: 0.0000\n",
      "Params: {'alpha': 0.006398238570445525, 'max_depth': 7, 'eta': 0.1835864240964316, 'subsample': 0.6631956570556669, 'colsample_bytree': 0.7730914500445354}, Accuracy: 0.5000, DPD: 0.0000\n",
      "Params: {'alpha': 0.006398238570445525, 'max_depth': 7, 'eta': 0.15780100657948715, 'subsample': 0.6766262078975724, 'colsample_bytree': 0.760353423410981}, Accuracy: 0.5000, DPD: 0.0000\n",
      "Params: {'alpha': 0.006398238570445525, 'max_depth': 3, 'eta': 0.1835864240964316, 'subsample': 0.9230277985869353, 'colsample_bytree': 0.8778999079756078}, Accuracy: 0.5000, DPD: 0.0000\n",
      "Params: {'alpha': 0.006398238570445525, 'max_depth': 7, 'eta': 0.10022879453843885, 'subsample': 0.6631956570556669, 'colsample_bytree': 0.938607954432039}, Accuracy: 0.5000, DPD: 0.0000\n",
      "Params: {'alpha': 0.006398238570445525, 'max_depth': 5, 'eta': 0.10022879453843885, 'subsample': 0.6766262078975724, 'colsample_bytree': 0.6482350599140047}, Accuracy: 0.5000, DPD: 0.0000\n",
      "Params: {'alpha': 0.006398238570445525, 'max_depth': 5, 'eta': 0.10385901212000682, 'subsample': 0.872143282534935, 'colsample_bytree': 0.9532604182421414}, Accuracy: 0.5000, DPD: 0.0000\n",
      "Params: {'alpha': 0.006398238570445525, 'max_depth': 7, 'eta': 0.1835864240964316, 'subsample': 0.872143282534935, 'colsample_bytree': 0.9532604182421414}, Accuracy: 0.5000, DPD: 0.0000\n",
      "Params: {'alpha': 0.006398238570445525, 'max_depth': 4, 'eta': 0.21901686836526663, 'subsample': 0.969674518276973, 'colsample_bytree': 0.8640187424332118}, Accuracy: 0.5000, DPD: 0.0000\n",
      "Params: {'alpha': 0.006398238570445525, 'max_depth': 7, 'eta': 0.07253350513913152, 'subsample': 0.9984601149714915, 'colsample_bytree': 0.6624630554926771}, Accuracy: 0.5000, DPD: 0.0000\n",
      "Params: {'alpha': 0.006398238570445525, 'max_depth': 5, 'eta': 0.1835864240964316, 'subsample': 0.9312585794082797, 'colsample_bytree': 0.938607954432039}, Accuracy: 0.5000, DPD: 0.0000\n",
      "Params: {'alpha': 0.006398238570445525, 'max_depth': 5, 'eta': 0.10749039742554378, 'subsample': 0.807108008558591, 'colsample_bytree': 0.9257192063156945}, Accuracy: 0.5000, DPD: 0.0000\n",
      "Params: {'alpha': 0.006398238570445525, 'max_depth': 5, 'eta': 0.27499741563348057, 'subsample': 0.8493505201360313, 'colsample_bytree': 0.9273609939577232}, Accuracy: 0.5000, DPD: 0.0000\n",
      "Params: {'alpha': 0.006398238570445525, 'max_depth': 6, 'eta': 0.15511827510132917, 'subsample': 0.7126649411379313, 'colsample_bytree': 0.6846054564616372}, Accuracy: 0.5000, DPD: 0.0000\n",
      "Params: {'alpha': 0.006398238570445525, 'max_depth': 3, 'eta': 0.1835864240964316, 'subsample': 0.6631956570556669, 'colsample_bytree': 0.8706944236219883}, Accuracy: 0.5000, DPD: 0.0000\n",
      "Params: {'alpha': 0.006398238570445525, 'max_depth': 5, 'eta': 0.23813647636124352, 'subsample': 0.8376771934629543, 'colsample_bytree': 0.6482350599140047}, Accuracy: 0.5000, DPD: 0.0000\n",
      "Params: {'alpha': 0.006398238570445525, 'max_depth': 7, 'eta': 0.10022879453843885, 'subsample': 0.6631956570556669, 'colsample_bytree': 0.6846054564616372}, Accuracy: 0.5000, DPD: 0.0000\n",
      "Params: {'alpha': 0.006398238570445525, 'max_depth': 7, 'eta': 0.1835864240964316, 'subsample': 0.8621180142479564, 'colsample_bytree': 0.8778999079756078}, Accuracy: 0.5000, DPD: 0.0000\n",
      "Params: {'alpha': 0.0018713778605690123, 'max_depth': 7, 'eta': 0.1629457824643117, 'subsample': 0.9984601149714915, 'colsample_bytree': 0.6268842887986352}, Accuracy: 0.5000, DPD: 0.0000\n",
      "Params: {'alpha': 0.006398238570445525, 'max_depth': 7, 'eta': 0.05148993795553561, 'subsample': 0.8493505201360313, 'colsample_bytree': 0.6198060693014039}, Accuracy: 0.5000, DPD: 0.0000\n",
      "Params: {'alpha': 0.006398238570445525, 'max_depth': 3, 'eta': 0.1835864240964316, 'subsample': 0.6631956570556669, 'colsample_bytree': 0.7730914500445354}, Accuracy: 0.5000, DPD: 0.0000\n",
      "Params: {'alpha': 0.006398238570445525, 'max_depth': 4, 'eta': 0.23813647636124352, 'subsample': 0.6500142472469429, 'colsample_bytree': 0.6268842887986352}, Accuracy: 0.5000, DPD: 0.0000\n",
      "Params: {'alpha': 0.012915419123790906, 'max_depth': 6, 'eta': 0.21901686836526663, 'subsample': 0.8706349077688937, 'colsample_bytree': 0.9247803563719028}, Accuracy: 0.5000, DPD: 0.0000\n",
      "Params: {'alpha': 0.006398238570445525, 'max_depth': 3, 'eta': 0.15780100657948715, 'subsample': 0.6766262078975724, 'colsample_bytree': 0.8778999079756078}, Accuracy: 0.5000, DPD: 0.0000\n",
      "Params: {'alpha': 0.006398238570445525, 'max_depth': 4, 'eta': 0.2743823608550061, 'subsample': 0.6950815747717355, 'colsample_bytree': 0.938607954432039}, Accuracy: 0.5000, DPD: 0.0000\n",
      "Params: {'alpha': 0.006398238570445525, 'max_depth': 4, 'eta': 0.18310428309515714, 'subsample': 0.9984601149714915, 'colsample_bytree': 0.6624630554926771}, Accuracy: 0.5000, DPD: 0.0000\n",
      "Params: {'alpha': 0.006398238570445525, 'max_depth': 6, 'eta': 0.1835864240964316, 'subsample': 0.9778576863261421, 'colsample_bytree': 0.6268842887986352}, Accuracy: 0.5000, DPD: 0.0000\n",
      "Params: {'alpha': 0.006398238570445525, 'max_depth': 4, 'eta': 0.1835864240964316, 'subsample': 0.872143282534935, 'colsample_bytree': 0.9248887994210199}, Accuracy: 0.5000, DPD: 0.0000\n",
      "Params: {'alpha': 0.012915419123790906, 'max_depth': 5, 'eta': 0.23813647636124352, 'subsample': 0.6766262078975724, 'colsample_bytree': 0.6268842887986352}, Accuracy: 0.5000, DPD: 0.0000\n",
      "Params: {'alpha': 0.006398238570445525, 'max_depth': 6, 'eta': 0.21500273048430651, 'subsample': 0.872143282534935, 'colsample_bytree': 0.6346180096533811}, Accuracy: 0.5000, DPD: 0.0000\n",
      "Params: {'alpha': 0.006398238570445525, 'max_depth': 4, 'eta': 0.1835864240964316, 'subsample': 0.6546577853604182, 'colsample_bytree': 0.6245073635344549}, Accuracy: 0.5000, DPD: 0.0000\n",
      "Params: {'alpha': 0.22601217229786574, 'max_depth': 5, 'eta': 0.23813647636124352, 'subsample': 0.6766262078975724, 'colsample_bytree': 0.6268842887986352}, Accuracy: 0.6886, DPD: 0.0254\n",
      "Params: {'alpha': 0.006398238570445525, 'max_depth': 7, 'eta': 0.16982137509113532, 'subsample': 0.872143282534935, 'colsample_bytree': 0.6318616446521117}, Accuracy: 0.5000, DPD: 0.0000\n",
      "Params: {'alpha': 0.006398238570445525, 'max_depth': 6, 'eta': 0.1835864240964316, 'subsample': 0.7190259527785925, 'colsample_bytree': 0.6346180096533811}, Accuracy: 0.5000, DPD: 0.0000\n",
      "Params: {'alpha': 0.006398238570445525, 'max_depth': 3, 'eta': 0.018480880007563028, 'subsample': 0.8376771934629543, 'colsample_bytree': 0.938607954432039}, Accuracy: 0.5000, DPD: 0.0000\n",
      "Params: {'alpha': 0.006398238570445525, 'max_depth': 7, 'eta': 0.1835864240964316, 'subsample': 0.945497101573975, 'colsample_bytree': 0.9532604182421414}, Accuracy: 0.5000, DPD: 0.0000\n",
      "Params: {'alpha': 0.006398238570445525, 'max_depth': 3, 'eta': 0.10749039742554378, 'subsample': 0.872143282534935, 'colsample_bytree': 0.9532604182421414}, Accuracy: 0.5000, DPD: 0.0000\n",
      "Params: {'alpha': 0.006398238570445525, 'max_depth': 3, 'eta': 0.1835864240964316, 'subsample': 0.872143282534935, 'colsample_bytree': 0.9532604182421414}, Accuracy: 0.5000, DPD: 0.0000\n",
      "Params: {'alpha': 0.006398238570445525, 'max_depth': 7, 'eta': 0.1835864240964316, 'subsample': 0.7190259527785925, 'colsample_bytree': 0.6846054564616372}, Accuracy: 0.5000, DPD: 0.0000\n",
      "Params: {'alpha': 0.006398238570445525, 'max_depth': 7, 'eta': 0.2878723499881195, 'subsample': 0.8376771934629543, 'colsample_bytree': 0.7171393924105901}, Accuracy: 0.5000, DPD: 0.0000\n",
      "Params: {'alpha': 0.006398238570445525, 'max_depth': 7, 'eta': 0.21500273048430651, 'subsample': 0.7297576144104663, 'colsample_bytree': 0.9532604182421414}, Accuracy: 0.5000, DPD: 0.0000\n",
      "Params: {'alpha': 0.006398238570445525, 'max_depth': 4, 'eta': 0.21500273048430651, 'subsample': 0.872143282534935, 'colsample_bytree': 0.9532604182421414}, Accuracy: 0.5000, DPD: 0.0000\n",
      "Params: {'alpha': 0.006398238570445525, 'max_depth': 5, 'eta': 0.1835864240964316, 'subsample': 0.6766262078975724, 'colsample_bytree': 0.938607954432039}, Accuracy: 0.5000, DPD: 0.0000\n",
      "Params: {'alpha': 0.006398238570445525, 'max_depth': 7, 'eta': 0.22739873665679933, 'subsample': 0.8493505201360313, 'colsample_bytree': 0.6198060693014039}, Accuracy: 0.5000, DPD: 0.0000\n",
      "Params: {'alpha': 0.012915419123790906, 'max_depth': 7, 'eta': 0.1835864240964316, 'subsample': 0.9882868261990171, 'colsample_bytree': 0.9273609939577232}, Accuracy: 0.5000, DPD: 0.0000\n",
      "Params: {'alpha': 0.006398238570445525, 'max_depth': 4, 'eta': 0.24026710755528385, 'subsample': 0.9984601149714915, 'colsample_bytree': 0.6624630554926771}, Accuracy: 0.5000, DPD: 0.0000\n",
      "Params: {'alpha': 0.006398238570445525, 'max_depth': 7, 'eta': 0.2786901175406453, 'subsample': 0.8493505201360313, 'colsample_bytree': 0.9532604182421414}, Accuracy: 0.5000, DPD: 0.0000\n",
      "Params: {'alpha': 0.006398238570445525, 'max_depth': 6, 'eta': 0.1835864240964316, 'subsample': 0.8376771934629543, 'colsample_bytree': 0.6846054564616372}, Accuracy: 0.5000, DPD: 0.0000\n",
      "Params: {'alpha': 0.006398238570445525, 'max_depth': 4, 'eta': 0.05148993795553561, 'subsample': 0.6766262078975724, 'colsample_bytree': 0.9504235704119666}, Accuracy: 0.5000, DPD: 0.0000\n",
      "Params: {'alpha': 0.012915419123790906, 'max_depth': 7, 'eta': 0.21901686836526663, 'subsample': 0.8493505201360313, 'colsample_bytree': 0.9273609939577232}, Accuracy: 0.5000, DPD: 0.0000\n",
      "Params: {'alpha': 0.006398238570445525, 'max_depth': 6, 'eta': 0.07257095200779526, 'subsample': 0.807108008558591, 'colsample_bytree': 0.6346180096533811}, Accuracy: 0.5000, DPD: 0.0000\n",
      "Params: {'alpha': 0.006398238570445525, 'max_depth': 5, 'eta': 0.1835864240964316, 'subsample': 0.8376771934629543, 'colsample_bytree': 0.9532604182421414}, Accuracy: 0.5000, DPD: 0.0000\n",
      "Params: {'alpha': 0.008318822215806598, 'max_depth': 7, 'eta': 0.08559381791555226, 'subsample': 0.9984601149714915, 'colsample_bytree': 0.7642776900822141}, Accuracy: 0.5000, DPD: 0.0000\n",
      "Params: {'alpha': 0.006398238570445525, 'max_depth': 5, 'eta': 0.1835864240964316, 'subsample': 0.6766262078975724, 'colsample_bytree': 0.6624630554926771}, Accuracy: 0.5000, DPD: 0.0000\n",
      "Params: {'alpha': 0.006398238570445525, 'max_depth': 4, 'eta': 0.1835864240964316, 'subsample': 0.8472770656657291, 'colsample_bytree': 0.6846054564616372}, Accuracy: 0.5000, DPD: 0.0000\n",
      "Params: {'alpha': 0.0018713778605690123, 'max_depth': 7, 'eta': 0.1919795686809288, 'subsample': 0.8213508007987707, 'colsample_bytree': 0.6346180096533811}, Accuracy: 0.5000, DPD: 0.0000\n",
      "Params: {'alpha': 0.008318822215806598, 'max_depth': 7, 'eta': 0.1835864240964316, 'subsample': 0.6766262078975724, 'colsample_bytree': 0.7642776900822141}, Accuracy: 0.5000, DPD: 0.0000\n",
      "Params: {'alpha': 0.006398238570445525, 'max_depth': 5, 'eta': 0.1456532476708431, 'subsample': 0.6766262078975724, 'colsample_bytree': 0.938607954432039}, Accuracy: 0.5000, DPD: 0.0000\n",
      "Params: {'alpha': 0.22601217229786574, 'max_depth': 5, 'eta': 0.24431474510203355, 'subsample': 0.6766262078975724, 'colsample_bytree': 0.6198060693014039}, Accuracy: 0.6872, DPD: 0.0177\n",
      "Params: {'alpha': 0.006398238570445525, 'max_depth': 6, 'eta': 0.19196163533068675, 'subsample': 0.8882637920121375, 'colsample_bytree': 0.6846054564616372}, Accuracy: 0.5000, DPD: 0.0000\n",
      "Params: {'alpha': 0.006398238570445525, 'max_depth': 7, 'eta': 0.14460415289599793, 'subsample': 0.8621180142479564, 'colsample_bytree': 0.6268842887986352}, Accuracy: 0.5000, DPD: 0.0000\n",
      "Params: {'alpha': 0.006398238570445525, 'max_depth': 5, 'eta': 0.0970562706013991, 'subsample': 0.6766262078975724, 'colsample_bytree': 0.9532604182421414}, Accuracy: 0.5000, DPD: 0.0000\n",
      "Params: {'alpha': 0.0018713778605690123, 'max_depth': 4, 'eta': 0.05148993795553561, 'subsample': 0.6500142472469429, 'colsample_bytree': 0.9171521282961637}, Accuracy: 0.5000, DPD: 0.0000\n",
      "Params: {'alpha': 0.006398238570445525, 'max_depth': 4, 'eta': 0.2563772046650876, 'subsample': 0.9984601149714915, 'colsample_bytree': 0.6624630554926771}, Accuracy: 0.5000, DPD: 0.0000\n",
      "Params: {'alpha': 0.0018713778605690123, 'max_depth': 4, 'eta': 0.22739873665679933, 'subsample': 0.8088010652239656, 'colsample_bytree': 0.6198060693014039}, Accuracy: 0.5000, DPD: 0.0000\n",
      "Params: {'alpha': 0.006398238570445525, 'max_depth': 6, 'eta': 0.1835864240964316, 'subsample': 0.7126649411379313, 'colsample_bytree': 0.6846054564616372}, Accuracy: 0.5000, DPD: 0.0000\n",
      "Params: {'alpha': 0.006398238570445525, 'max_depth': 5, 'eta': 0.23813647636124352, 'subsample': 0.6766262078975724, 'colsample_bytree': 0.938607954432039}, Accuracy: 0.5000, DPD: 0.0000\n",
      "Params: {'alpha': 0.006398238570445525, 'max_depth': 3, 'eta': 0.22739873665679933, 'subsample': 0.8376771934629543, 'colsample_bytree': 0.6198060693014039}, Accuracy: 0.5000, DPD: 0.0000\n",
      "Params: {'alpha': 0.006398238570445525, 'max_depth': 7, 'eta': 0.07253350513913152, 'subsample': 0.6631956570556669, 'colsample_bytree': 0.6268842887986352}, Accuracy: 0.5000, DPD: 0.0000\n",
      "Params: {'alpha': 0.006398238570445525, 'max_depth': 3, 'eta': 0.07257095200779526, 'subsample': 0.8621180142479564, 'colsample_bytree': 0.6524522279068893}, Accuracy: 0.5000, DPD: 0.0000\n",
      "Params: {'alpha': 0.006398238570445525, 'max_depth': 4, 'eta': 0.29734976874047897, 'subsample': 0.6500142472469429, 'colsample_bytree': 0.9171521282961637}, Accuracy: 0.5000, DPD: 0.0000\n",
      "Params: {'alpha': 0.006398238570445525, 'max_depth': 6, 'eta': 0.11754631965463419, 'subsample': 0.7126649411379313, 'colsample_bytree': 0.6846054564616372}, Accuracy: 0.5000, DPD: 0.0000\n",
      "Params: {'alpha': 0.006398238570445525, 'max_depth': 4, 'eta': 0.1919795686809288, 'subsample': 0.6766262078975724, 'colsample_bytree': 0.6346180096533811}, Accuracy: 0.5000, DPD: 0.0000\n",
      "Params: {'alpha': 0.006398238570445525, 'max_depth': 5, 'eta': 0.2636741937707874, 'subsample': 0.6766262078975724, 'colsample_bytree': 0.938607954432039}, Accuracy: 0.5000, DPD: 0.0000\n",
      "Params: {'alpha': 0.006398238570445525, 'max_depth': 6, 'eta': 0.1835864240964316, 'subsample': 0.7126649411379313, 'colsample_bytree': 0.938607954432039}, Accuracy: 0.5000, DPD: 0.0000\n",
      "Params: {'alpha': 0.006398238570445525, 'max_depth': 7, 'eta': 0.10022879453843885, 'subsample': 0.6631956570556669, 'colsample_bytree': 0.7730914500445354}, Accuracy: 0.5000, DPD: 0.0000\n",
      "Params: {'alpha': 0.006398238570445525, 'max_depth': 4, 'eta': 0.11298663912872957, 'subsample': 0.872143282534935, 'colsample_bytree': 0.9611620505991075}, Accuracy: 0.5000, DPD: 0.0000\n",
      "Params: {'alpha': 0.006398238570445525, 'max_depth': 5, 'eta': 0.1835864240964316, 'subsample': 0.6766262078975724, 'colsample_bytree': 0.887394213925125}, Accuracy: 0.5000, DPD: 0.0000\n",
      "Params: {'alpha': 0.006398238570445525, 'max_depth': 7, 'eta': 0.1835864240964316, 'subsample': 0.872143282534935, 'colsample_bytree': 0.6479107585243286}, Accuracy: 0.5000, DPD: 0.0000\n",
      "Params: {'alpha': 0.008318822215806598, 'max_depth': 3, 'eta': 0.24026710755528385, 'subsample': 0.906061807106595, 'colsample_bytree': 0.7642776900822141}, Accuracy: 0.5000, DPD: 0.0000\n",
      "Params: {'alpha': 0.22601217229786574, 'max_depth': 5, 'eta': 0.23813647636124352, 'subsample': 0.6766262078975724, 'colsample_bytree': 0.6268842887986352}, Accuracy: 0.6886, DPD: 0.0254\n",
      "Params: {'alpha': 0.006398238570445525, 'max_depth': 5, 'eta': 0.1835864240964316, 'subsample': 0.6112440244638102, 'colsample_bytree': 0.938607954432039}, Accuracy: 0.5000, DPD: 0.0000\n",
      "Params: {'alpha': 0.0018830290563439656, 'max_depth': 7, 'eta': 0.21500273048430651, 'subsample': 0.8493505201360313, 'colsample_bytree': 0.6268842887986352}, Accuracy: 0.5000, DPD: 0.0000\n",
      "Params: {'alpha': 0.006398238570445525, 'max_depth': 5, 'eta': 0.10022879453843885, 'subsample': 0.6766262078975724, 'colsample_bytree': 0.6268842887986352}, Accuracy: 0.5000, DPD: 0.0000\n",
      "Params: {'alpha': 0.006398238570445525, 'max_depth': 4, 'eta': 0.21901686836526663, 'subsample': 0.872143282534935, 'colsample_bytree': 0.9611620505991075}, Accuracy: 0.5000, DPD: 0.0000\n",
      "Params: {'alpha': 0.006398238570445525, 'max_depth': 3, 'eta': 0.24026710755528385, 'subsample': 0.7593419666716745, 'colsample_bytree': 0.7894887198211535}, Accuracy: 0.5000, DPD: 0.0000\n",
      "Params: {'alpha': 0.006398238570445525, 'max_depth': 3, 'eta': 0.1835864240964316, 'subsample': 0.872143282534935, 'colsample_bytree': 0.6624630554926771}, Accuracy: 0.5000, DPD: 0.0000\n",
      "Params: {'alpha': 0.006398238570445525, 'max_depth': 4, 'eta': 0.2743823608550061, 'subsample': 0.9840618581052769, 'colsample_bytree': 0.939918536631748}, Accuracy: 0.5000, DPD: 0.0000\n",
      "Params: {'alpha': 0.006398238570445525, 'max_depth': 7, 'eta': 0.21500273048430651, 'subsample': 0.872143282534935, 'colsample_bytree': 0.9532604182421414}, Accuracy: 0.5000, DPD: 0.0000\n",
      "Params: {'alpha': 0.006398238570445525, 'max_depth': 6, 'eta': 0.1835864240964316, 'subsample': 0.8634700713937434, 'colsample_bytree': 0.6624630554926771}, Accuracy: 0.5000, DPD: 0.0000\n",
      "Params: {'alpha': 0.006398238570445525, 'max_depth': 3, 'eta': 0.2304609264307195, 'subsample': 0.7645830844743573, 'colsample_bytree': 0.6797246156362822}, Accuracy: 0.5000, DPD: 0.0000\n",
      "Params: {'alpha': 0.006398238570445525, 'max_depth': 7, 'eta': 0.24026710755528385, 'subsample': 0.872143282534935, 'colsample_bytree': 0.8318203720560304}, Accuracy: 0.5000, DPD: 0.0000\n",
      "Params: {'alpha': 0.006398238570445525, 'max_depth': 7, 'eta': 0.10022879453843885, 'subsample': 0.6631956570556669, 'colsample_bytree': 0.6846054564616372}, Accuracy: 0.5000, DPD: 0.0000\n",
      "Params: {'alpha': 0.012915419123790906, 'max_depth': 7, 'eta': 0.21901686836526663, 'subsample': 0.871229825323997, 'colsample_bytree': 0.6268842887986352}, Accuracy: 0.5000, DPD: 0.0000\n",
      "Params: {'alpha': 0.006398238570445525, 'max_depth': 7, 'eta': 0.21500273048430651, 'subsample': 0.872143282534935, 'colsample_bytree': 0.6268842887986352}, Accuracy: 0.5000, DPD: 0.0000\n",
      "Params: {'alpha': 0.006398238570445525, 'max_depth': 6, 'eta': 0.1919795686809288, 'subsample': 0.7381009747847169, 'colsample_bytree': 0.6346180096533811}, Accuracy: 0.5000, DPD: 0.0000\n",
      "Params: {'alpha': 0.22922811182883618, 'max_depth': 5, 'eta': 0.21500273048430651, 'subsample': 0.6766262078975724, 'colsample_bytree': 0.6268842887986352}, Accuracy: 0.6879, DPD: 0.0222\n",
      "Params: {'alpha': 0.006398238570445525, 'max_depth': 7, 'eta': 0.24431474510203355, 'subsample': 0.8493505201360313, 'colsample_bytree': 0.9171483791349198}, Accuracy: 0.5000, DPD: 0.0000\n",
      "Params: {'alpha': 0.006398238570445525, 'max_depth': 6, 'eta': 0.1835864240964316, 'subsample': 0.7126649411379313, 'colsample_bytree': 0.644567612220156}, Accuracy: 0.5000, DPD: 0.0000\n",
      "Params: {'alpha': 0.006398238570445525, 'max_depth': 4, 'eta': 0.05148993795553561, 'subsample': 0.6500142472469429, 'colsample_bytree': 0.9171521282961637}, Accuracy: 0.5000, DPD: 0.0000\n",
      "Params: {'alpha': 0.006398238570445525, 'max_depth': 7, 'eta': 0.21500273048430651, 'subsample': 0.872143282534935, 'colsample_bytree': 0.6268842887986352}, Accuracy: 0.5000, DPD: 0.0000\n",
      "Params: {'alpha': 0.006398238570445525, 'max_depth': 4, 'eta': 0.23813647636124352, 'subsample': 0.6766262078975724, 'colsample_bytree': 0.9611620505991075}, Accuracy: 0.5000, DPD: 0.0000\n",
      "Params: {'alpha': 0.22601217229786574, 'max_depth': 5, 'eta': 0.23813647636124352, 'subsample': 0.6766262078975724, 'colsample_bytree': 0.6346180096533811}, Accuracy: 0.6886, DPD: 0.0254\n",
      "Params: {'alpha': 0.006398238570445525, 'max_depth': 6, 'eta': 0.19456435976693995, 'subsample': 0.807108008558591, 'colsample_bytree': 0.9149452366780289}, Accuracy: 0.5000, DPD: 0.0000\n",
      "Params: {'alpha': 0.006398238570445525, 'max_depth': 5, 'eta': 0.10022879453843885, 'subsample': 0.6766262078975724, 'colsample_bytree': 0.6268842887986352}, Accuracy: 0.5000, DPD: 0.0000\n",
      "Params: {'alpha': 0.006398238570445525, 'max_depth': 7, 'eta': 0.07253350513913152, 'subsample': 0.8088010652239656, 'colsample_bytree': 0.9532604182421414}, Accuracy: 0.5000, DPD: 0.0000\n",
      "Params: {'alpha': 0.006398238570445525, 'max_depth': 7, 'eta': 0.21901686836526663, 'subsample': 0.9984601149714915, 'colsample_bytree': 0.9003983115388187}, Accuracy: 0.5000, DPD: 0.0000\n",
      "Params: {'alpha': 0.006398238570445525, 'max_depth': 7, 'eta': 0.21500273048430651, 'subsample': 0.8493505201360313, 'colsample_bytree': 0.6268842887986352}, Accuracy: 0.5000, DPD: 0.0000\n",
      "Params: {'alpha': 0.006398238570445525, 'max_depth': 5, 'eta': 0.07253350513913152, 'subsample': 0.8547854469270306, 'colsample_bytree': 0.6482350599140047}, Accuracy: 0.5000, DPD: 0.0000\n",
      "Params: {'alpha': 0.006398238570445525, 'max_depth': 6, 'eta': 0.07257095200779526, 'subsample': 0.6766262078975724, 'colsample_bytree': 0.6346180096533811}, Accuracy: 0.5000, DPD: 0.0000\n",
      "Params: {'alpha': 0.006398238570445525, 'max_depth': 5, 'eta': 0.23813647636124352, 'subsample': 0.6766262078975724, 'colsample_bytree': 0.6268842887986352}, Accuracy: 0.5000, DPD: 0.0000\n",
      "Params: {'alpha': 0.006398238570445525, 'max_depth': 7, 'eta': 0.15780100657948715, 'subsample': 0.7645830844743573, 'colsample_bytree': 0.6846054564616372}, Accuracy: 0.5000, DPD: 0.0000\n",
      "Params: {'alpha': 0.006398238570445525, 'max_depth': 7, 'eta': 0.1835864240964316, 'subsample': 0.6500142472469429, 'colsample_bytree': 0.9171521282961637}, Accuracy: 0.5000, DPD: 0.0000\n",
      "Params: {'alpha': 0.006398238570445525, 'max_depth': 5, 'eta': 0.10749039742554378, 'subsample': 0.6766262078975724, 'colsample_bytree': 0.6346180096533811}, Accuracy: 0.5000, DPD: 0.0000\n",
      "Params: {'alpha': 0.008318822215806598, 'max_depth': 7, 'eta': 0.23813647636124352, 'subsample': 0.6766262078975724, 'colsample_bytree': 0.7642776900822141}, Accuracy: 0.5000, DPD: 0.0000\n",
      "Params: {'alpha': 0.006398238570445525, 'max_depth': 7, 'eta': 0.07253350513913152, 'subsample': 0.7645830844743573, 'colsample_bytree': 0.6846054564616372}, Accuracy: 0.5000, DPD: 0.0000\n",
      "Params: {'alpha': 0.006398238570445525, 'max_depth': 7, 'eta': 0.15511827510132917, 'subsample': 0.8493505201360313, 'colsample_bytree': 0.6846054564616372}, Accuracy: 0.5000, DPD: 0.0000\n",
      "Params: {'alpha': 0.006398238570445525, 'max_depth': 7, 'eta': 0.22739873665679933, 'subsample': 0.8493505201360313, 'colsample_bytree': 0.9532604182421414}, Accuracy: 0.5000, DPD: 0.0000\n",
      "Params: {'alpha': 0.006398238570445525, 'max_depth': 3, 'eta': 0.22739873665679933, 'subsample': 0.6249735643255049, 'colsample_bytree': 0.8778999079756078}, Accuracy: 0.5000, DPD: 0.0000\n",
      "Params: {'alpha': 0.006398238570445525, 'max_depth': 7, 'eta': 0.2551600239103733, 'subsample': 0.6189853033676825, 'colsample_bytree': 0.9532604182421414}, Accuracy: 0.5000, DPD: 0.0000\n",
      "Params: {'alpha': 0.006398238570445525, 'max_depth': 3, 'eta': 0.07253350513913152, 'subsample': 0.8547854469270306, 'colsample_bytree': 0.9119646997173432}, Accuracy: 0.5000, DPD: 0.0000\n",
      "Params: {'alpha': 0.006398238570445525, 'max_depth': 7, 'eta': 0.15511827510132917, 'subsample': 0.8493505201360313, 'colsample_bytree': 0.6846054564616372}, Accuracy: 0.5000, DPD: 0.0000\n",
      "Params: {'alpha': 0.0018713778605690123, 'max_depth': 7, 'eta': 0.07253350513913152, 'subsample': 0.8088010652239656, 'colsample_bytree': 0.6268842887986352}, Accuracy: 0.5000, DPD: 0.0000\n",
      "Params: {'alpha': 0.006398238570445525, 'max_depth': 5, 'eta': 0.14830099138563985, 'subsample': 0.9366052391433085, 'colsample_bytree': 0.9532604182421414}, Accuracy: 0.5000, DPD: 0.0000\n",
      "Params: {'alpha': 0.006398238570445525, 'max_depth': 5, 'eta': 0.24431474510203355, 'subsample': 0.6766262078975724, 'colsample_bytree': 0.6624630554926771}, Accuracy: 0.5000, DPD: 0.0000\n",
      "Params: {'alpha': 0.006398238570445525, 'max_depth': 6, 'eta': 0.05148993795553561, 'subsample': 0.8493505201360313, 'colsample_bytree': 0.6479107585243286}, Accuracy: 0.5000, DPD: 0.0000\n",
      "Params: {'alpha': 0.006398238570445525, 'max_depth': 4, 'eta': 0.08874373348950182, 'subsample': 0.6500142472469429, 'colsample_bytree': 0.7642776900822141}, Accuracy: 0.5000, DPD: 0.0000\n",
      "Params: {'alpha': 0.006398238570445525, 'max_depth': 4, 'eta': 0.21500273048430651, 'subsample': 0.6180470134285189, 'colsample_bytree': 0.9171521282961637}, Accuracy: 0.5000, DPD: 0.0000\n",
      "Params: {'alpha': 0.006398238570445525, 'max_depth': 4, 'eta': 0.18872889505265109, 'subsample': 0.872143282534935, 'colsample_bytree': 0.9611620505991075}, Accuracy: 0.5000, DPD: 0.0000\n",
      "Params: {'alpha': 0.006398238570445525, 'max_depth': 3, 'eta': 0.15511827510132917, 'subsample': 0.8621180142479564, 'colsample_bytree': 0.6846054564616372}, Accuracy: 0.5000, DPD: 0.0000\n",
      "Params: {'alpha': 0.006398238570445525, 'max_depth': 5, 'eta': 0.2551600239103733, 'subsample': 0.6401863887846503, 'colsample_bytree': 0.9532604182421414}, Accuracy: 0.5000, DPD: 0.0000\n",
      "Params: {'alpha': 0.006398238570445525, 'max_depth': 6, 'eta': 0.15511827510132917, 'subsample': 0.7126649411379313, 'colsample_bytree': 0.6846054564616372}, Accuracy: 0.5000, DPD: 0.0000\n",
      "Params: {'alpha': 0.006398238570445525, 'max_depth': 6, 'eta': 0.24431474510203355, 'subsample': 0.8001272980105426, 'colsample_bytree': 0.9171521282961637}, Accuracy: 0.5000, DPD: 0.0000\n",
      "Params: {'alpha': 0.006398238570445525, 'max_depth': 3, 'eta': 0.11724451180747314, 'subsample': 0.6766262078975724, 'colsample_bytree': 0.7730914500445354}, Accuracy: 0.5000, DPD: 0.0000\n",
      "Params: {'alpha': 0.006398238570445525, 'max_depth': 7, 'eta': 0.2551600239103733, 'subsample': 0.6189853033676825, 'colsample_bytree': 0.6971094853709596}, Accuracy: 0.5000, DPD: 0.0000\n",
      "Params: {'alpha': 0.006398238570445525, 'max_depth': 3, 'eta': 0.1835864240964316, 'subsample': 0.8072227720277739, 'colsample_bytree': 0.9149937547959489}, Accuracy: 0.5000, DPD: 0.0000\n",
      "Params: {'alpha': 0.0018713778605690123, 'max_depth': 7, 'eta': 0.23813647636124352, 'subsample': 0.6766262078975724, 'colsample_bytree': 0.6268842887986352}, Accuracy: 0.5000, DPD: 0.0000\n",
      "Params: {'alpha': 0.008318822215806598, 'max_depth': 3, 'eta': 0.07253350513913152, 'subsample': 0.6114695834697251, 'colsample_bytree': 0.9901074621532081}, Accuracy: 0.5000, DPD: 0.0000\n",
      "Params: {'alpha': 0.006398238570445525, 'max_depth': 3, 'eta': 0.23813647636124352, 'subsample': 0.6766262078975724, 'colsample_bytree': 0.8778999079756078}, Accuracy: 0.5000, DPD: 0.0000\n",
      "Params: {'alpha': 0.0018713778605690123, 'max_depth': 5, 'eta': 0.23813647636124352, 'subsample': 0.6766262078975724, 'colsample_bytree': 0.6268842887986352}, Accuracy: 0.5000, DPD: 0.0000\n",
      "Params: {'alpha': 0.006398238570445525, 'max_depth': 7, 'eta': 0.014703513519443275, 'subsample': 0.8493505201360313, 'colsample_bytree': 0.6846054564616372}, Accuracy: 0.5000, DPD: 0.0000\n",
      "Params: {'alpha': 0.8694173170637239, 'max_depth': 7, 'eta': 0.1835864240964316, 'subsample': 0.8396092253214011, 'colsample_bytree': 0.6479107585243286}, Accuracy: 0.6986, DPD: 0.0325\n",
      "Params: {'alpha': 0.6370308795473967, 'max_depth': 7, 'eta': 0.24431474510203355, 'subsample': 0.8493505201360313, 'colsample_bytree': 0.6198060693014039}, Accuracy: 0.6993, DPD: 0.0420\n",
      "Params: {'alpha': 0.006398238570445525, 'max_depth': 7, 'eta': 0.1754377263933441, 'subsample': 0.9984601149714915, 'colsample_bytree': 0.7484713406312753}, Accuracy: 0.5000, DPD: 0.0000\n",
      "Params: {'alpha': 0.006398238570445525, 'max_depth': 7, 'eta': 0.23813647636124352, 'subsample': 0.9902258090707713, 'colsample_bytree': 0.6268842887986352}, Accuracy: 0.5000, DPD: 0.0000\n",
      "Params: {'alpha': 0.8913664166538733, 'max_depth': 7, 'eta': 0.22739873665679933, 'subsample': 0.8493505201360313, 'colsample_bytree': 0.6268842887986352}, Accuracy: 0.7100, DPD: 0.0520\n",
      "Params: {'alpha': 0.006398238570445525, 'max_depth': 7, 'eta': 0.1835864240964316, 'subsample': 0.8493505201360313, 'colsample_bytree': 0.9171521282961637}, Accuracy: 0.5000, DPD: 0.0000\n",
      "Params: {'alpha': 0.22601217229786574, 'max_depth': 5, 'eta': 0.23813647636124352, 'subsample': 0.6766262078975724, 'colsample_bytree': 0.6198060693014039}, Accuracy: 0.6886, DPD: 0.0254\n",
      "Params: {'alpha': 0.006398238570445525, 'max_depth': 7, 'eta': 0.15511827510132917, 'subsample': 0.7516688545620335, 'colsample_bytree': 0.6268842887986352}, Accuracy: 0.5000, DPD: 0.0000\n",
      "Params: {'alpha': 0.006398238570445525, 'max_depth': 5, 'eta': 0.23813647636124352, 'subsample': 0.6766262078975724, 'colsample_bytree': 0.6479107585243286}, Accuracy: 0.5000, DPD: 0.0000\n",
      "Params: {'alpha': 0.006398238570445525, 'max_depth': 7, 'eta': 0.2059704199259883, 'subsample': 0.872143282534935, 'colsample_bytree': 0.9532604182421414}, Accuracy: 0.5000, DPD: 0.0000\n",
      "Params: {'alpha': 0.006398238570445525, 'max_depth': 4, 'eta': 0.15511827510132917, 'subsample': 0.872143282534935, 'colsample_bytree': 0.9532604182421414}, Accuracy: 0.5000, DPD: 0.0000\n",
      "Params: {'alpha': 0.006398238570445525, 'max_depth': 4, 'eta': 0.2627886178893016, 'subsample': 0.807108008558591, 'colsample_bytree': 0.6198060693014039}, Accuracy: 0.5000, DPD: 0.0000\n",
      "Params: {'alpha': 0.8694173170637239, 'max_depth': 7, 'eta': 0.24431474510203355, 'subsample': 0.8396092253214011, 'colsample_bytree': 0.6268842887986352}, Accuracy: 0.7093, DPD: 0.0479\n",
      "Params: {'alpha': 0.006398238570445525, 'max_depth': 5, 'eta': 0.2547527115786096, 'subsample': 0.807108008558591, 'colsample_bytree': 0.7467898426760461}, Accuracy: 0.5000, DPD: 0.0000\n",
      "Params: {'alpha': 0.006398238570445525, 'max_depth': 5, 'eta': 0.24431474510203355, 'subsample': 0.872143282534935, 'colsample_bytree': 0.9611620505991075}, Accuracy: 0.5000, DPD: 0.0000\n",
      "Params: {'alpha': 0.22601217229786574, 'max_depth': 5, 'eta': 0.23813647636124352, 'subsample': 0.6766262078975724, 'colsample_bytree': 0.6346180096533811}, Accuracy: 0.6886, DPD: 0.0254\n",
      "Params: {'alpha': 0.22601217229786574, 'max_depth': 5, 'eta': 0.24431474510203355, 'subsample': 0.6766262078975724, 'colsample_bytree': 0.6268842887986352}, Accuracy: 0.6872, DPD: 0.0177\n",
      "Params: {'alpha': 0.006398238570445525, 'max_depth': 5, 'eta': 0.23813647636124352, 'subsample': 0.9796444875866084, 'colsample_bytree': 0.9532604182421414}, Accuracy: 0.5000, DPD: 0.0000\n",
      "Params: {'alpha': 0.006398238570445525, 'max_depth': 6, 'eta': 0.15511827510132917, 'subsample': 0.7126649411379313, 'colsample_bytree': 0.6846054564616372}, Accuracy: 0.5000, DPD: 0.0000\n",
      "Params: {'alpha': 0.006398238570445525, 'max_depth': 3, 'eta': 0.1835864240964316, 'subsample': 0.8376771934629543, 'colsample_bytree': 0.6479107585243286}, Accuracy: 0.5000, DPD: 0.0000\n",
      "Params: {'alpha': 0.006398238570445525, 'max_depth': 6, 'eta': 0.04979940570925883, 'subsample': 0.7259178902882475, 'colsample_bytree': 0.7642776900822141}, Accuracy: 0.5000, DPD: 0.0000\n",
      "Params: {'alpha': 0.006398238570445525, 'max_depth': 7, 'eta': 0.09812635778095367, 'subsample': 0.97777289502011, 'colsample_bytree': 0.6624630554926771}, Accuracy: 0.5000, DPD: 0.0000\n",
      "Params: {'alpha': 0.006398238570445525, 'max_depth': 3, 'eta': 0.2577480356594321, 'subsample': 0.8621180142479564, 'colsample_bytree': 0.6359287442325062}, Accuracy: 0.5000, DPD: 0.0000\n",
      "Params: {'alpha': 0.006398238570445525, 'max_depth': 4, 'eta': 0.1902462206657881, 'subsample': 0.9049355029299513, 'colsample_bytree': 0.6346180096533811}, Accuracy: 0.5000, DPD: 0.0000\n",
      "Params: {'alpha': 0.006398238570445525, 'max_depth': 7, 'eta': 0.2276608685041732, 'subsample': 0.872143282534935, 'colsample_bytree': 0.9532604182421414}, Accuracy: 0.5000, DPD: 0.0000\n",
      "Params: {'alpha': 0.006398238570445525, 'max_depth': 6, 'eta': 0.1835864240964316, 'subsample': 0.7126649411379313, 'colsample_bytree': 0.6846054564616372}, Accuracy: 0.5000, DPD: 0.0000\n",
      "Params: {'alpha': 0.6370308795473967, 'max_depth': 7, 'eta': 0.24431474510203355, 'subsample': 0.8493505201360313, 'colsample_bytree': 0.6479107585243286}, Accuracy: 0.6993, DPD: 0.0420\n",
      "Params: {'alpha': 0.006398238570445525, 'max_depth': 5, 'eta': 0.24431474510203355, 'subsample': 0.9849880170605231, 'colsample_bytree': 0.9532604182421414}, Accuracy: 0.5000, DPD: 0.0000\n",
      "Params: {'alpha': 0.22601217229786574, 'max_depth': 5, 'eta': 0.23813647636124352, 'subsample': 0.6766262078975724, 'colsample_bytree': 0.6268842887986352}, Accuracy: 0.6886, DPD: 0.0254\n",
      "Params: {'alpha': 0.006398238570445525, 'max_depth': 5, 'eta': 0.023613543063591726, 'subsample': 0.8621180142479564, 'colsample_bytree': 0.6479107585243286}, Accuracy: 0.5000, DPD: 0.0000\n",
      "Params: {'alpha': 0.22601217229786574, 'max_depth': 5, 'eta': 0.2373707812625575, 'subsample': 0.6766262078975724, 'colsample_bytree': 0.6268842887986352}, Accuracy: 0.6886, DPD: 0.0254\n",
      "Params: {'alpha': 0.006398238570445525, 'max_depth': 7, 'eta': 0.22739873665679933, 'subsample': 0.6277205667643908, 'colsample_bytree': 0.6198060693014039}, Accuracy: 0.5000, DPD: 0.0000\n",
      "Params: {'alpha': 0.006398238570445525, 'max_depth': 7, 'eta': 0.24431474510203355, 'subsample': 0.6766262078975724, 'colsample_bytree': 0.6624630554926771}, Accuracy: 0.5000, DPD: 0.0000\n",
      "Params: {'alpha': 0.006398238570445525, 'max_depth': 7, 'eta': 0.0875693771785334, 'subsample': 0.8493505201360313, 'colsample_bytree': 0.8272857419448085}, Accuracy: 0.5000, DPD: 0.0000\n",
      "Params: {'alpha': 0.006398238570445525, 'max_depth': 5, 'eta': 0.08615040396049642, 'subsample': 0.6766262078975724, 'colsample_bytree': 0.7342316327067927}, Accuracy: 0.5000, DPD: 0.0000\n",
      "Params: {'alpha': 0.6370308795473967, 'max_depth': 7, 'eta': 0.24431474510203355, 'subsample': 0.8493505201360313, 'colsample_bytree': 0.6268842887986352}, Accuracy: 0.6993, DPD: 0.0420\n",
      "Params: {'alpha': 0.22601217229786574, 'max_depth': 5, 'eta': 0.23813647636124352, 'subsample': 0.6766262078975724, 'colsample_bytree': 0.6346180096533811}, Accuracy: 0.6886, DPD: 0.0254\n",
      "Params: {'alpha': 0.22601217229786574, 'max_depth': 5, 'eta': 0.23813647636124352, 'subsample': 0.6638445452158227, 'colsample_bytree': 0.6268842887986352}, Accuracy: 0.6843, DPD: 0.0088\n",
      "Params: {'alpha': 0.006398238570445525, 'max_depth': 7, 'eta': 0.1835864240964316, 'subsample': 0.6766262078975724, 'colsample_bytree': 0.6624630554926771}, Accuracy: 0.5000, DPD: 0.0000\n",
      "Params: {'alpha': 0.6370308795473967, 'max_depth': 7, 'eta': 0.24431474510203355, 'subsample': 0.8493505201360313, 'colsample_bytree': 0.6198060693014039}, Accuracy: 0.6993, DPD: 0.0420\n",
      "Params: {'alpha': 0.6370308795473967, 'max_depth': 7, 'eta': 0.24431474510203355, 'subsample': 0.8493505201360313, 'colsample_bytree': 0.6479107585243286}, Accuracy: 0.6993, DPD: 0.0420\n",
      "Params: {'alpha': 0.22922811182883618, 'max_depth': 5, 'eta': 0.21500273048430651, 'subsample': 0.6766262078975724, 'colsample_bytree': 0.6268842887986352}, Accuracy: 0.6879, DPD: 0.0222\n",
      "Params: {'alpha': 0.6370308795473967, 'max_depth': 7, 'eta': 0.24431474510203355, 'subsample': 0.8493505201360313, 'colsample_bytree': 0.6198060693014039}, Accuracy: 0.6993, DPD: 0.0420\n",
      "Params: {'alpha': 0.8694173170637239, 'max_depth': 7, 'eta': 0.24431474510203355, 'subsample': 0.8493505201360313, 'colsample_bytree': 0.6198060693014039}, Accuracy: 0.7157, DPD: 0.0527\n",
      "Params: {'alpha': 0.006398238570445525, 'max_depth': 7, 'eta': 0.2427505730536965, 'subsample': 0.8493505201360313, 'colsample_bytree': 0.6198060693014039}, Accuracy: 0.5000, DPD: 0.0000\n",
      "Params: {'alpha': 0.22601217229786574, 'max_depth': 5, 'eta': 0.23813647636124352, 'subsample': 0.6766262078975724, 'colsample_bytree': 0.6268842887986352}, Accuracy: 0.6886, DPD: 0.0254\n",
      "Params: {'alpha': 0.8694173170637239, 'max_depth': 7, 'eta': 0.24431474510203355, 'subsample': 0.8493505201360313, 'colsample_bytree': 0.6268842887986352}, Accuracy: 0.7157, DPD: 0.0527\n",
      "Params: {'alpha': 0.22601217229786574, 'max_depth': 5, 'eta': 0.24431474510203355, 'subsample': 0.6766262078975724, 'colsample_bytree': 0.6346180096533811}, Accuracy: 0.6872, DPD: 0.0177\n",
      "Params: {'alpha': 0.22601217229786574, 'max_depth': 5, 'eta': 0.24431474510203355, 'subsample': 0.6766262078975724, 'colsample_bytree': 0.6268842887986352}, Accuracy: 0.6872, DPD: 0.0177\n",
      "Params: {'alpha': 0.006398238570445525, 'max_depth': 7, 'eta': 0.2427505730536965, 'subsample': 0.8493505201360313, 'colsample_bytree': 0.6198060693014039}, Accuracy: 0.5000, DPD: 0.0000\n",
      "Params: {'alpha': 0.006398238570445525, 'max_depth': 7, 'eta': 0.1835864240964316, 'subsample': 0.6766262078975724, 'colsample_bytree': 0.7020752495004481}, Accuracy: 0.5000, DPD: 0.0000\n",
      "Params: {'alpha': 0.22601217229786574, 'max_depth': 5, 'eta': 0.23813647636124352, 'subsample': 0.6766262078975724, 'colsample_bytree': 0.6268842887986352}, Accuracy: 0.6886, DPD: 0.0254\n",
      "Params: {'alpha': 0.006398238570445525, 'max_depth': 7, 'eta': 0.1835864240964316, 'subsample': 0.6766262078975724, 'colsample_bytree': 0.6268842887986352}, Accuracy: 0.5000, DPD: 0.0000\n",
      "Params: {'alpha': 0.6370308795473967, 'max_depth': 7, 'eta': 0.24431474510203355, 'subsample': 0.8493505201360313, 'colsample_bytree': 0.6197048042940488}, Accuracy: 0.6993, DPD: 0.0420\n",
      "Params: {'alpha': 0.006398238570445525, 'max_depth': 3, 'eta': 0.10762930122515309, 'subsample': 0.8493505201360313, 'colsample_bytree': 0.6198060693014039}, Accuracy: 0.5000, DPD: 0.0000\n",
      "Params: {'alpha': 0.22601217229786574, 'max_depth': 5, 'eta': 0.24431474510203355, 'subsample': 0.6766262078975724, 'colsample_bytree': 0.6268842887986352}, Accuracy: 0.6872, DPD: 0.0177\n",
      "Params: {'alpha': 0.9751144043073579, 'max_depth': 7, 'eta': 0.2283330883102839, 'subsample': 0.8493505201360313, 'colsample_bytree': 0.6346180096533811}, Accuracy: 0.7179, DPD: 0.0565\n",
      "Params: {'alpha': 0.006398238570445525, 'max_depth': 7, 'eta': 0.21500273048430651, 'subsample': 0.6766262078975724, 'colsample_bytree': 0.6268842887986352}, Accuracy: 0.5000, DPD: 0.0000\n",
      "Params: {'alpha': 0.006398238570445525, 'max_depth': 7, 'eta': 0.24431474510203355, 'subsample': 0.6766262078975724, 'colsample_bytree': 0.7626902169355892}, Accuracy: 0.5000, DPD: 0.0000\n",
      "Params: {'alpha': 0.6370308795473967, 'max_depth': 7, 'eta': 0.24431474510203355, 'subsample': 0.8493505201360313, 'colsample_bytree': 0.6479107585243286}, Accuracy: 0.6993, DPD: 0.0420\n",
      "Params: {'alpha': 0.6370308795473967, 'max_depth': 7, 'eta': 0.24431474510203355, 'subsample': 0.8493505201360313, 'colsample_bytree': 0.6479107585243286}, Accuracy: 0.6993, DPD: 0.0420\n",
      "Params: {'alpha': 0.22601217229786574, 'max_depth': 5, 'eta': 0.23813647636124352, 'subsample': 0.6766262078975724, 'colsample_bytree': 0.6268842887986352}, Accuracy: 0.6886, DPD: 0.0254\n",
      "Params: {'alpha': 0.22601217229786574, 'max_depth': 5, 'eta': 0.23813647636124352, 'subsample': 0.6766262078975724, 'colsample_bytree': 0.6346180096533811}, Accuracy: 0.6886, DPD: 0.0254\n",
      "Params: {'alpha': 0.22601217229786574, 'max_depth': 5, 'eta': 0.2276608685041732, 'subsample': 0.6766262078975724, 'colsample_bytree': 0.6268842887986352}, Accuracy: 0.6872, DPD: 0.0118\n",
      "Params: {'alpha': 0.22601217229786574, 'max_depth': 5, 'eta': 0.24431474510203355, 'subsample': 0.6638445452158227, 'colsample_bytree': 0.6479107585243286}, Accuracy: 0.6807, DPD: 0.0052\n",
      "Params: {'alpha': 0.22601217229786574, 'max_depth': 5, 'eta': 0.23813647636124352, 'subsample': 0.6766262078975724, 'colsample_bytree': 0.6479107585243286}, Accuracy: 0.6886, DPD: 0.0254\n",
      "Params: {'alpha': 0.6370308795473967, 'max_depth': 7, 'eta': 0.24431474510203355, 'subsample': 0.8493505201360313, 'colsample_bytree': 0.6198060693014039}, Accuracy: 0.6993, DPD: 0.0420\n",
      "Params: {'alpha': 0.9751144043073579, 'max_depth': 7, 'eta': 0.2283330883102839, 'subsample': 0.8493505201360313, 'colsample_bytree': 0.6346180096533811}, Accuracy: 0.7179, DPD: 0.0565\n",
      "Params: {'alpha': 0.22601217229786574, 'max_depth': 5, 'eta': 0.23813647636124352, 'subsample': 0.6766262078975724, 'colsample_bytree': 0.6346180096533811}, Accuracy: 0.6886, DPD: 0.0254\n",
      "Params: {'alpha': 0.006398238570445525, 'max_depth': 7, 'eta': 0.24431474510203355, 'subsample': 0.8493505201360313, 'colsample_bytree': 0.6268842887986352}, Accuracy: 0.5000, DPD: 0.0000\n",
      "Params: {'alpha': 0.6370308795473967, 'max_depth': 7, 'eta': 0.24431474510203355, 'subsample': 0.8493505201360313, 'colsample_bytree': 0.6198060693014039}, Accuracy: 0.6993, DPD: 0.0420\n",
      "Params: {'alpha': 0.22601217229786574, 'max_depth': 5, 'eta': 0.23813647636124352, 'subsample': 0.6766262078975724, 'colsample_bytree': 0.6159774179651102}, Accuracy: 0.6886, DPD: 0.0254\n",
      "Params: {'alpha': 0.8694173170637239, 'max_depth': 7, 'eta': 0.24431474510203355, 'subsample': 0.8493505201360313, 'colsample_bytree': 0.6268842887986352}, Accuracy: 0.7157, DPD: 0.0527\n",
      "Params: {'alpha': 0.22922811182883618, 'max_depth': 5, 'eta': 0.21500273048430651, 'subsample': 0.6766262078975724, 'colsample_bytree': 0.6268842887986352}, Accuracy: 0.6879, DPD: 0.0222\n",
      "Params: {'alpha': 0.22601217229786574, 'max_depth': 5, 'eta': 0.23813647636124352, 'subsample': 0.6766262078975724, 'colsample_bytree': 0.6346180096533811}, Accuracy: 0.6886, DPD: 0.0254\n",
      "Params: {'alpha': 0.006398238570445525, 'max_depth': 7, 'eta': 0.24431474510203355, 'subsample': 0.6766262078975724, 'colsample_bytree': 0.6268842887986352}, Accuracy: 0.5000, DPD: 0.0000\n",
      "Params: {'alpha': 0.8694173170637239, 'max_depth': 7, 'eta': 0.24431474510203355, 'subsample': 0.8493505201360313, 'colsample_bytree': 0.6268842887986352}, Accuracy: 0.7157, DPD: 0.0527\n",
      "Params: {'alpha': 0.8694173170637239, 'max_depth': 7, 'eta': 0.24431474510203355, 'subsample': 0.8493505201360313, 'colsample_bytree': 0.6198060693014039}, Accuracy: 0.7157, DPD: 0.0527\n",
      "Params: {'alpha': 0.006398238570445525, 'max_depth': 5, 'eta': 0.24431474510203355, 'subsample': 0.8493505201360313, 'colsample_bytree': 0.8988734674104701}, Accuracy: 0.5000, DPD: 0.0000\n",
      "Params: {'alpha': 0.8694173170637239, 'max_depth': 7, 'eta': 0.24431474510203355, 'subsample': 0.8493505201360313, 'colsample_bytree': 0.9678524429242819}, Accuracy: 0.7200, DPD: 0.0637\n",
      "Params: {'alpha': 0.6370308795473967, 'max_depth': 7, 'eta': 0.24431474510203355, 'subsample': 0.8493505201360313, 'colsample_bytree': 0.6197048042940488}, Accuracy: 0.6993, DPD: 0.0420\n",
      "Params: {'alpha': 0.013343583813217541, 'max_depth': 7, 'eta': 0.21500273048430651, 'subsample': 0.8493505201360313, 'colsample_bytree': 0.6198060693014039}, Accuracy: 0.5000, DPD: 0.0000\n",
      "Params: {'alpha': 0.8694173170637239, 'max_depth': 7, 'eta': 0.24431474510203355, 'subsample': 0.8493505201360313, 'colsample_bytree': 0.6268842887986352}, Accuracy: 0.7157, DPD: 0.0527\n",
      "Params: {'alpha': 0.8694173170637239, 'max_depth': 7, 'eta': 0.24431474510203355, 'subsample': 0.8493505201360313, 'colsample_bytree': 0.6268842887986352}, Accuracy: 0.7157, DPD: 0.0527\n",
      "Params: {'alpha': 0.006398238570445525, 'max_depth': 5, 'eta': 0.24431474510203355, 'subsample': 0.7097898708849372, 'colsample_bytree': 0.6159774179651102}, Accuracy: 0.5000, DPD: 0.0000\n",
      "Params: {'alpha': 0.6370308795473967, 'max_depth': 7, 'eta': 0.24431474510203355, 'subsample': 0.8493505201360313, 'colsample_bytree': 0.6268842887986352}, Accuracy: 0.6993, DPD: 0.0420\n",
      "Params: {'alpha': 0.8694173170637239, 'max_depth': 7, 'eta': 0.24431474510203355, 'subsample': 0.8493505201360313, 'colsample_bytree': 0.9678524429242819}, Accuracy: 0.7200, DPD: 0.0637\n",
      "Params: {'alpha': 0.8694173170637239, 'max_depth': 7, 'eta': 0.24431474510203355, 'subsample': 0.8493505201360313, 'colsample_bytree': 0.6198060693014039}, Accuracy: 0.7157, DPD: 0.0527\n",
      "Params: {'alpha': 0.8694173170637239, 'max_depth': 7, 'eta': 0.24431474510203355, 'subsample': 0.8493505201360313, 'colsample_bytree': 0.9678524429242819}, Accuracy: 0.7200, DPD: 0.0637\n",
      "Params: {'alpha': 0.8694173170637239, 'max_depth': 7, 'eta': 0.24431474510203355, 'subsample': 0.8493505201360313, 'colsample_bytree': 0.6198060693014039}, Accuracy: 0.7157, DPD: 0.0527\n",
      "Params: {'alpha': 0.013343583813217541, 'max_depth': 3, 'eta': 0.22739873665679933, 'subsample': 0.9948350871016799, 'colsample_bytree': 0.6198060693014039}, Accuracy: 0.5000, DPD: 0.0000\n",
      "Params: {'alpha': 0.6370308795473967, 'max_depth': 7, 'eta': 0.24431474510203355, 'subsample': 0.8493505201360313, 'colsample_bytree': 0.6268842887986352}, Accuracy: 0.6993, DPD: 0.0420\n",
      "Params: {'alpha': 0.6370308795473967, 'max_depth': 7, 'eta': 0.24431474510203355, 'subsample': 0.8493505201360313, 'colsample_bytree': 0.6198060693014039}, Accuracy: 0.6993, DPD: 0.0420\n",
      "Params: {'alpha': 0.6370308795473967, 'max_depth': 7, 'eta': 0.24431474510203355, 'subsample': 0.8493505201360313, 'colsample_bytree': 0.6479107585243286}, Accuracy: 0.6993, DPD: 0.0420\n",
      "Params: {'alpha': 0.8694173170637239, 'max_depth': 7, 'eta': 0.24431474510203355, 'subsample': 0.8493505201360313, 'colsample_bytree': 0.6198060693014039}, Accuracy: 0.7157, DPD: 0.0527\n",
      "Params: {'alpha': 0.22601217229786574, 'max_depth': 5, 'eta': 0.23813647636124352, 'subsample': 0.6766262078975724, 'colsample_bytree': 0.6198060693014039}, Accuracy: 0.6886, DPD: 0.0254\n",
      "Params: {'alpha': 0.8694173170637239, 'max_depth': 7, 'eta': 0.24431474510203355, 'subsample': 0.8493505201360313, 'colsample_bytree': 0.9678524429242819}, Accuracy: 0.7200, DPD: 0.0637\n",
      "Params: {'alpha': 0.22601217229786574, 'max_depth': 5, 'eta': 0.24431474510203355, 'subsample': 0.6766262078975724, 'colsample_bytree': 0.6198060693014039}, Accuracy: 0.6872, DPD: 0.0177\n",
      "Params: {'alpha': 0.8694173170637239, 'max_depth': 7, 'eta': 0.24431474510203355, 'subsample': 0.8493505201360313, 'colsample_bytree': 0.9678524429242819}, Accuracy: 0.7200, DPD: 0.0637\n",
      "Params: {'alpha': 0.006398238570445525, 'max_depth': 7, 'eta': 0.1919795686809288, 'subsample': 0.872143282534935, 'colsample_bytree': 0.9532604182421414}, Accuracy: 0.5000, DPD: 0.0000\n",
      "Params: {'alpha': 0.013343583813217541, 'max_depth': 3, 'eta': 0.1677154540844078, 'subsample': 0.9948350871016799, 'colsample_bytree': 0.6198060693014039}, Accuracy: 0.5000, DPD: 0.0000\n",
      "Params: {'alpha': 0.22922811182883618, 'max_depth': 5, 'eta': 0.21500273048430651, 'subsample': 0.6766262078975724, 'colsample_bytree': 0.6268842887986352}, Accuracy: 0.6879, DPD: 0.0222\n",
      "Params: {'alpha': 0.013343583813217541, 'max_depth': 5, 'eta': 0.22739873665679933, 'subsample': 0.9948350871016799, 'colsample_bytree': 0.6268842887986352}, Accuracy: 0.5000, DPD: 0.0000\n",
      "Params: {'alpha': 0.6370308795473967, 'max_depth': 7, 'eta': 0.24431474510203355, 'subsample': 0.8493505201360313, 'colsample_bytree': 0.6268842887986352}, Accuracy: 0.6993, DPD: 0.0420\n",
      "Params: {'alpha': 0.9751144043073579, 'max_depth': 7, 'eta': 0.2283330883102839, 'subsample': 0.8493505201360313, 'colsample_bytree': 0.6346180096533811}, Accuracy: 0.7179, DPD: 0.0565\n",
      "Params: {'alpha': 0.8694173170637239, 'max_depth': 7, 'eta': 0.24431474510203355, 'subsample': 0.8493505201360313, 'colsample_bytree': 0.6198060693014039}, Accuracy: 0.7157, DPD: 0.0527\n",
      "Params: {'alpha': 0.22601217229786574, 'max_depth': 5, 'eta': 0.23813647636124352, 'subsample': 0.6766262078975724, 'colsample_bytree': 0.6198060693014039}, Accuracy: 0.6886, DPD: 0.0254\n",
      "Params: {'alpha': 0.22601217229786574, 'max_depth': 5, 'eta': 0.24478938834174438, 'subsample': 0.6766262078975724, 'colsample_bytree': 0.6346180096533811}, Accuracy: 0.6872, DPD: 0.0177\n",
      "Params: {'alpha': 0.8694173170637239, 'max_depth': 7, 'eta': 0.24431474510203355, 'subsample': 0.8493505201360313, 'colsample_bytree': 0.6198060693014039}, Accuracy: 0.7157, DPD: 0.0527\n",
      "Params: {'alpha': 0.006398238570445525, 'max_depth': 7, 'eta': 0.22739873665679933, 'subsample': 0.872143282534935, 'colsample_bytree': 0.9532604182421414}, Accuracy: 0.5000, DPD: 0.0000\n",
      "Params: {'alpha': 0.6370308795473967, 'max_depth': 7, 'eta': 0.24431474510203355, 'subsample': 0.8493505201360313, 'colsample_bytree': 0.6198060693014039}, Accuracy: 0.6993, DPD: 0.0420\n",
      "Params: {'alpha': 0.22601217229786574, 'max_depth': 5, 'eta': 0.23813647636124352, 'subsample': 0.6766262078975724, 'colsample_bytree': 0.6198060693014039}, Accuracy: 0.6886, DPD: 0.0254\n",
      "Params: {'alpha': 0.8694173170637239, 'max_depth': 7, 'eta': 0.24431474510203355, 'subsample': 0.8493505201360313, 'colsample_bytree': 0.6268842887986352}, Accuracy: 0.7157, DPD: 0.0527\n",
      "Params: {'alpha': 0.8694173170637239, 'max_depth': 7, 'eta': 0.24431474510203355, 'subsample': 0.8493505201360313, 'colsample_bytree': 0.6198060693014039}, Accuracy: 0.7157, DPD: 0.0527\n",
      "Params: {'alpha': 0.6370308795473967, 'max_depth': 7, 'eta': 0.24431474510203355, 'subsample': 0.8493505201360313, 'colsample_bytree': 0.6439719820128768}, Accuracy: 0.6993, DPD: 0.0420\n",
      "Params: {'alpha': 0.006398238570445525, 'max_depth': 3, 'eta': 0.24431474510203355, 'subsample': 0.872143282534935, 'colsample_bytree': 0.6268842887986352}, Accuracy: 0.5000, DPD: 0.0000\n",
      "Params: {'alpha': 0.8694173170637239, 'max_depth': 7, 'eta': 0.24431474510203355, 'subsample': 0.8493505201360313, 'colsample_bytree': 0.6268842887986352}, Accuracy: 0.7157, DPD: 0.0527\n",
      "Params: {'alpha': 0.8694173170637239, 'max_depth': 7, 'eta': 0.24431474510203355, 'subsample': 0.8493505201360313, 'colsample_bytree': 0.6268842887986352}, Accuracy: 0.7157, DPD: 0.0527\n",
      "Params: {'alpha': 0.8694173170637239, 'max_depth': 7, 'eta': 0.24026710755528385, 'subsample': 0.8376771934629543, 'colsample_bytree': 0.9901074621532081}, Accuracy: 0.7293, DPD: 0.0740\n",
      "Params: {'alpha': 0.8694173170637239, 'max_depth': 7, 'eta': 0.24431474510203355, 'subsample': 0.8493505201360313, 'colsample_bytree': 0.6198060693014039}, Accuracy: 0.7157, DPD: 0.0527\n",
      "Params: {'alpha': 0.22601217229786574, 'max_depth': 5, 'eta': 0.24478938834174438, 'subsample': 0.6766262078975724, 'colsample_bytree': 0.6346180096533811}, Accuracy: 0.6872, DPD: 0.0177\n",
      "Params: {'alpha': 0.8694173170637239, 'max_depth': 7, 'eta': 0.24431474510203355, 'subsample': 0.8493505201360313, 'colsample_bytree': 0.9678524429242819}, Accuracy: 0.7200, DPD: 0.0637\n",
      "Params: {'alpha': 0.8694173170637239, 'max_depth': 7, 'eta': 0.24431474510203355, 'subsample': 0.8493505201360313, 'colsample_bytree': 0.6198060693014039}, Accuracy: 0.7157, DPD: 0.0527\n",
      "Params: {'alpha': 0.22922811182883618, 'max_depth': 5, 'eta': 0.21500273048430651, 'subsample': 0.6766262078975724, 'colsample_bytree': 0.6268842887986352}, Accuracy: 0.6879, DPD: 0.0222\n",
      "Params: {'alpha': 0.8694173170637239, 'max_depth': 7, 'eta': 0.24431474510203355, 'subsample': 0.8396092253214011, 'colsample_bytree': 0.6268842887986352}, Accuracy: 0.7093, DPD: 0.0479\n",
      "Params: {'alpha': 0.8694173170637239, 'max_depth': 7, 'eta': 0.24431474510203355, 'subsample': 0.8493505201360313, 'colsample_bytree': 0.9678524429242819}, Accuracy: 0.7200, DPD: 0.0637\n",
      "Params: {'alpha': 0.9751144043073579, 'max_depth': 7, 'eta': 0.2283330883102839, 'subsample': 0.8493505201360313, 'colsample_bytree': 0.6346180096533811}, Accuracy: 0.7179, DPD: 0.0565\n",
      "Params: {'alpha': 0.8694173170637239, 'max_depth': 7, 'eta': 0.24431474510203355, 'subsample': 0.821550852958667, 'colsample_bytree': 0.6255133602177569}, Accuracy: 0.7064, DPD: 0.0435\n",
      "Params: {'alpha': 0.22601217229786574, 'max_depth': 5, 'eta': 0.23813647636124352, 'subsample': 0.6638445452158227, 'colsample_bytree': 0.6268842887986352}, Accuracy: 0.6843, DPD: 0.0088\n",
      "Params: {'alpha': 0.8694173170637239, 'max_depth': 7, 'eta': 0.24026710755528385, 'subsample': 0.8376771934629543, 'colsample_bytree': 0.9678524429242819}, Accuracy: 0.7293, DPD: 0.0740\n",
      "Params: {'alpha': 0.8694173170637239, 'max_depth': 7, 'eta': 0.24431474510203355, 'subsample': 0.8493505201360313, 'colsample_bytree': 0.6198060693014039}, Accuracy: 0.7157, DPD: 0.0527\n",
      "Params: {'alpha': 0.9751144043073579, 'max_depth': 7, 'eta': 0.2283330883102839, 'subsample': 0.8493505201360313, 'colsample_bytree': 0.6268842887986352}, Accuracy: 0.7179, DPD: 0.0565\n",
      "Params: {'alpha': 0.8694173170637239, 'max_depth': 7, 'eta': 0.24431474510203355, 'subsample': 0.8493505201360313, 'colsample_bytree': 0.6268842887986352}, Accuracy: 0.7157, DPD: 0.0527\n",
      "Params: {'alpha': 0.8694173170637239, 'max_depth': 7, 'eta': 0.24431474510203355, 'subsample': 0.8493505201360313, 'colsample_bytree': 0.6198060693014039}, Accuracy: 0.7157, DPD: 0.0527\n",
      "Params: {'alpha': 0.8694173170637239, 'max_depth': 7, 'eta': 0.24431474510203355, 'subsample': 0.8493505201360313, 'colsample_bytree': 0.6268842887986352}, Accuracy: 0.7157, DPD: 0.0527\n",
      "Params: {'alpha': 0.22601217229786574, 'max_depth': 5, 'eta': 0.23813647636124352, 'subsample': 0.6766262078975724, 'colsample_bytree': 0.6198060693014039}, Accuracy: 0.6886, DPD: 0.0254\n",
      "Params: {'alpha': 0.9573201967755818, 'max_depth': 7, 'eta': 0.24431474510203355, 'subsample': 0.8493505201360313, 'colsample_bytree': 0.9678524429242819}, Accuracy: 0.7221, DPD: 0.0698\n",
      "Params: {'alpha': 0.8694173170637239, 'max_depth': 7, 'eta': 0.24431474510203355, 'subsample': 0.8493505201360313, 'colsample_bytree': 0.9678524429242819}, Accuracy: 0.7200, DPD: 0.0637\n"
     ]
    }
   ],
   "source": [
    "\n",
    "# Create and run Optuna study for multi-objective optimization\n",
    "study = optuna.create_study(directions=['maximize', 'minimize'])\n",
    "study.optimize(objective, n_trials=2000)\n",
    "\n",
    "# Collect Pareto front results\n",
    "results = []\n",
    "for trial in study.best_trials:  # Best trials are the Pareto-optimal ones\n",
    "    results.append({\n",
    "        'accuracy': trial.values[0],\n",
    "        'dpd': trial.values[1],\n",
    "        'alpha': trial.user_attrs['params']['alpha'],\n",
    "        'params': trial.user_attrs['params']\n",
    "    })\n",
    "\n",
    "# Print summary of Pareto-optimal results\n",
    "print(\"Pareto-optimal solutions:\")\n",
    "for res in results:\n",
    "    print(f\"Params: {res['params']}, Accuracy: {res['accuracy']:.4f}, DPD: {res['dpd']:.4f}\")\n",
    "\n",
    "# Prepare data for plotting\n",
    "plot_df = pd.DataFrame({\n",
    "    'DPD': [res['dpd'] for res in results],\n",
    "    'Accuracy': [res['accuracy'] for res in results],\n",
    "    'alpha': [res['alpha'] for res in results]\n",
    "})\n",
    "\n"
   ]
  },
  {
   "cell_type": "code",
   "execution_count": 4,
   "id": "61fd02a8",
   "metadata": {},
   "outputs": [
    {
     "data": {
      "application/vnd.plotly.v1+json": {
       "config": {
        "plotlyServerURL": "https://plot.ly"
       },
       "data": [
        {
         "customdata": {
          "bdata": "QKsBNmZzij8A1pcWCjV6PwAgaq0gqV4/ANaXFgo1ej8A1pcWCjV6PwDWlxYKNXo/ANaXFgo1ej8A1pcWCjV6PwDWlxYKNXo/ANaXFgo1ej8A1pcWCjV6PwDWlxYKNXo/ANaXFgo1ej8A1pcWCjV6PwAgaq0gqV4/ANaXFgo1ej8A1pcWCjV6PwDWlxYKNXo/ANaXFgo1ej8A1pcWCjV6PwDWlxYKNXo/QKsBNmZzij8A1pcWCjV6PwDWlxYKNXo/ANaXFgo1ej8A1pcWCjV6PwDWlxYKNXo/ANaXFgo1ej8A1pcWCjV6PwDWlxYKNXo/ANaXFgo1ej8A1pcWCjV6PwDWlxYKNXo/ANaXFgo1ej8A1pcWCjV6PwDWlxYKNXo/QKsBNmZzij8A1pcWCjV6PwDWlxYKNXo/ANaXFgo1ej8A1pcWCjV6PwBy3Wp1CYE/ANaXFgo1ej9ENUKE9+3MPwDWlxYKNXo/ANaXFgo1ej8A1pcWCjV6PwDWlxYKNXo/ANaXFgo1ej8AIGqtIKlePwDWlxYKNXo/ANaXFgo1ej8A1pcWCjV6PwDWlxYKNXo/ANaXFgo1ej8Act1qdQmBPwDWlxYKNXo/ANaXFgo1ej8A1pcWCjV6PwDWlxYKNXo/ANaXFgo1ej8A1pcWCjV6P0CrATZmc4o/ANaXFgo1ej8A1pcWCjV6PwDWlxYKNXo/ANaXFgo1ej8AIGqtIKlePwDWlxYKNXo/QKsBNmZzij8A1pcWCjV6P0CrATZmc4o/ANaXFgo1ej8A1pcWCjV6PwDWlxYKNXo/ANaXFgo1ej8A1pcWCjV6PwDWlxYKNXo/ANaXFgo1ej8A1pcWCjV6PwDWlxYKNXo/QKsBNmZzij8A1pcWCjV6PwDWlxYKNXo/ANaXFgo1ej8A1pcWCjV6PwDWlxYKNXo/ANaXFgo1ej9ENUKE9+3MPwDWlxYKNXo/ANaXFgo1ej8A1pcWCjV6PwDWlxYKNXo/QKsBNmZzij8A1pcWCjV6PwDWlxYKNXo/QKsBNmZzij8A1pcWCjV6PwDWlxYKNXo/ANaXFgo1ej8A1pcWCjV6PwDWlxYKNXo/QKsBNmZzij8A1pcWCjV6PwDWlxYKNXo/ANaXFgo1ej8A1pcWCjV6PwDWlxYKNXo/ANaXFgo1ej8A1pcWCjV6PwBy3Wp1CYE/ANaXFgo1ej8A1pcWCjV6P0CrATZmc4o/ANaXFgo1ej8Act1qdQmBPwDWlxYKNXo/ANaXFgo1ej8A1pcWCjV6PwDWlxYKNXo/ANaXFgo1ej8A1pcWCjV6PwDWlxYKNXo/QKsBNmZzij9AqwE2ZnOKP0CrATZmc4o/ANaXFgo1ej8A1pcWCjV6PwDWlxYKNXo/ANaXFgo1ej8A1pcWCjV6PwDWlxYKNXo/ANaXFgo1ej8A1pcWCjV6PwDWlxYKNXo/ANaXFgo1ej9AqwE2ZnOKPwDWlxYKNXo/ANaXFgo1ej9AqwE2ZnOKPwDWlxYKNXo/ANaXFgo1ej8A1pcWCjV6PwDWlxYKNXo/ANaXFgo1ej8A1pcWCjV6PwDWlxYKNXo/ANaXFgo1ej8Act1qdQmBPwDWlxYKNXo/ANaXFgo1ej8A1pcWCjV6PwDWlxYKNXo/F6zrQ0TS6z8A1pcWCjV6PwDWlxYKNXo/ANaXFgo1ej8A1pcWCjV6PwDWlxYKNXo/ANaXFgo1ej8A1pcWCjV6PwDWlxYKNXo/ANaXFgo1ej8A1pcWCjV6PwBy3Wp1CYE/ANaXFgo1ej8A1pcWCjV6PwDWlxYKNXo/ACBqrSCpXj9ENUKE9+3MPwDWlxYKNXo/ANaXFgo1ej8A1pcWCjV6PwDWlxYKNXo/ANaXFgo1ej8A1pcWCjV6PwDWlxYKNXo/QKsBNmZzij8A1pcWCjV6PwDWlxYKNXo/QKsBNmZzij8A1pcWCjV6PwDWlxYKNXo/ANaXFgo1ej8A1pcWCjV6PwDWlxYKNXo/ANaXFgo1ej8A1pcWCjV6PwDWlxYKNXo/ANaXFgo1ej9AqwE2ZnOKPwDWlxYKNXo/ANaXFgo1ej8A1pcWCjV6PwDWlxYKNXo/ANaXFgo1ej8A1pcWCjV6PwDWlxYKNXo/ANaXFgo1ej8A1pcWCjV6PwDWlxYKNXo/QKsBNmZzij8A1pcWCjV6PwDWlxYKNXo/ANaXFgo1ej8A1pcWCjV6PwDWlxYKNXo/AHLdanUJgT9AqwE2ZnOKP0CrATZmc4o/ANaXFgo1ej8A1pcWCjV6P0CrATZmc4o/ANaXFgo1ej8A1pcWCjV6PwDWlxYKNXo/ANaXFgo1ej8A1pcWCjV6PwDWlxYKNXo/ANaXFgo1ej9ENUKE9+3MPwDWlxYKNXo/ANaXFgo1ej+GV0aVjmLkPwDWlxYKNXo/ANaXFgo1ej8A1pcWCjV6PwDWlxYKNXo/ANaXFgo1ej8A1pcWCjV6PwDWlxYKNXo/ANaXFgo1ej8A1pcWCjV6PwDWlxYKNXo/ANaXFgo1ej8Act1qdQmBPwDWlxYKNXo/AHLdanUJgT8A1pcWCjV6P0CrATZmc4o/ANaXFgo1ej9AqwE2ZnOKPwDWlxYKNXo/ANaXFgo1ej8A1pcWCjV6PwDWlxYKNXo/ANaXFgo1ej8A1pcWCjV6PwDWlxYKNXo/ANaXFgo1ej8A1pcWCjV6P0CrATZmc4o/ANaXFgo1ej8A1pcWCjV6PwDWlxYKNXo/QKsBNmZzij8A1pcWCjV6PwDWlxYKNXo/QKsBNmZzij8A1pcWCjV6P0CrATZmc4o/ANaXFgo1ej8A1pcWCjV6PwDWlxYKNXo/ACBqrSCpXj8A1pcWCjV6PwDWlxYKNXo/ANaXFgo1ej8A1pcWCjV6P0CrATZmc4o/QKsBNmZzij8A1pcWCjV6PwDWlxYKNXo/ANaXFgo1ej8A1pcWCjV6PwDWlxYKNXo/ANaXFgo1ej8A1pcWCjV6PwDWlxYKNXo/ANaXFgo1ej8A1pcWCjV6PwDWlxYKNXo/ANaXFgo1ej9AqwE2ZnOKPwDWlxYKNXo/ANaXFgo1ej8A1pcWCjV6PwDWlxYKNXo/ANaXFgo1ej8A1pcWCjV6PwDWlxYKNXo/ANaXFgo1ej8A1pcWCjV6PwDWlxYKNXo/ANaXFgo1ej8A1pcWCjV6PwDWlxYKNXo/ANaXFgo1ej8A1pcWCjV6PwDWlxYKNXo/AK5gJZHlhT8A1pcWCjV6PwDWlxYKNXo/ANaXFgo1ej8A1pcWCjV6PwDWlxYKNXo/ANaXFgo1ej8A1pcWCjV6P0CrATZmc4o/ANaXFgo1ej8A1pcWCjV6PwDWlxYKNXo/ANaXFgo1ej8A1pcWCjV6PwDWlxYKNXo/ANaXFgo1ej8A1pcWCjV6PwDWlxYKNXo/ACBqrSCpXj8A1pcWCjV6PwDWlxYKNXo/ANaXFgo1ej9AqwE2ZnOKPwDWlxYKNXo/ANaXFgo1ej8AIGqtIKlePwDWlxYKNXo/ANaXFgo1ej8A1pcWCjV6PwDWlxYKNXo/ANaXFgo1ej8A1pcWCjV6PwDWlxYKNXo/ANaXFgo1ej8A1pcWCjV6PwDWlxYKNXo/ANaXFgo1ej8A1pcWCjV6PwDWlxYKNXo/ANaXFgo1ej8A1pcWCjV6PwDWlxYKNXo/ANaXFgo1ej8A1pcWCjV6PwDWlxYKNXo/ANaXFgo1ej8A1pcWCjV6PwDWlxYKNXo/ANaXFgo1ej8A1pcWCjV6PwDWlxYKNXo/ANaXFgo1ej8A1pcWCjV6PwAgaq0gqV4/ANaXFgo1ej8A1pcWCjV6PwDWlxYKNXo/QKsBNmZzij8A1pcWCjV6PwDWlxYKNXo/ANaXFgo1ej8A1pcWCjV6PwDWlxYKNXo/QKsBNmZzij8A1pcWCjV6PwDWlxYKNXo/RDVChPftzD8A1pcWCjV6PwDWlxYKNXo/ANaXFgo1ej8A1pcWCjV6PwDWlxYKNXo/ANaXFgo1ej8A1pcWCjV6PwDWlxYKNXo/ANaXFgo1ej8A1pcWCjV6PwDWlxYKNXo/ANaXFgo1ej9AqwE2ZnOKPwDWlxYKNXo/ANaXFgo1ej8A1pcWCjV6PwDWlxYKNXo/QKsBNmZzij8A1pcWCjV6PwDWlxYKNXo/AHLdanUJgT8A1pcWCjV6PwDWlxYKNXo/ACBqrSCpXj8Act1qdQmBPwDWlxYKNXo/RDVChPftzD8A1pcWCjV6PwDWlxYKNXo/ANaXFgo1ej8AIGqtIKlePwDWlxYKNXo/ACBqrSCpXj8A1pcWCjV6PwDWlxYKNXo/ANaXFgo1ej8A1pcWCjV6PwDWlxYKNXo/ANaXFgo1ej8A1pcWCjV6PwDWlxYKNXo/ANaXFgo1ej8A1pcWCjV6PwDWlxYKNXo/ANaXFgo1ej8A1pcWCjV6PwDWlxYKNXo/AHLdanUJgT9ENUKE9+3MPwDWlxYKNXo/APq4Df/ZXj8A1pcWCjV6PwDWlxYKNXo/ANaXFgo1ej8A1pcWCjV6PwDWlxYKNXo/ANaXFgo1ej8A1pcWCjV6PwDWlxYKNXo/ANaXFgo1ej8A1pcWCjV6P0CrATZmc4o/ANaXFgo1ej8A1pcWCjV6P6h40MVYV80/ANaXFgo1ej8A1pcWCjV6PwDWlxYKNXo/ANaXFgo1ej8A1pcWCjV6P0Q1QoT37cw/ANaXFgo1ej8A1pcWCjV6PwDWlxYKNXo/ANaXFgo1ej8A1pcWCjV6PwDWlxYKNXo/ANaXFgo1ej8A1pcWCjV6PwDWlxYKNXo/ANaXFgo1ej8A1pcWCjV6PwBy3Wp1CYE/ANaXFgo1ej8A1pcWCjV6PwDWlxYKNXo/ANaXFgo1ej8A1pcWCjV6PwDWlxYKNXo/ANaXFgo1ej8AIGqtIKlePwDWlxYKNXo/ANaXFgo1ej8A1pcWCjV6PwDWlxYKNXo/ANaXFgo1ej8A1pcWCjV6PwDWlxYKNXo/ANaXFgo1ej8A1pcWCjV6PwDWlxYKNXo/ANaXFgo1ej8A1pcWCjV6PwDWlxYKNXo/ACBqrSCpXj8Act1qdQmBPwDWlxYKNXo/ACBqrSCpXj8A1pcWCjV6Pxes60NE0us/hldGlY5i5D8A1pcWCjV6PwDWlxYKNXo/vP4I3RKG7D8A1pcWCjV6P0Q1QoT37cw/ANaXFgo1ej8A1pcWCjV6PwDWlxYKNXo/ANaXFgo1ej8A1pcWCjV6Pxes60NE0us/ANaXFgo1ej8A1pcWCjV6P0Q1QoT37cw/RDVChPftzD8A1pcWCjV6PwDWlxYKNXo/ANaXFgo1ej8A1pcWCjV6PwDWlxYKNXo/ANaXFgo1ej8A1pcWCjV6PwDWlxYKNXo/ANaXFgo1ej+GV0aVjmLkPwDWlxYKNXo/RDVChPftzD8A1pcWCjV6P0Q1QoT37cw/ANaXFgo1ej8A1pcWCjV6PwDWlxYKNXo/ANaXFgo1ej+GV0aVjmLkP0Q1QoT37cw/RDVChPftzD8A1pcWCjV6P4ZXRpWOYuQ/hldGlY5i5D+oeNDFWFfNP4ZXRpWOYuQ/F6zrQ0TS6z8A1pcWCjV6P0Q1QoT37cw/F6zrQ0TS6z9ENUKE9+3MP0Q1QoT37cw/ANaXFgo1ej8A1pcWCjV6P0Q1QoT37cw/ANaXFgo1ej+GV0aVjmLkPwDWlxYKNXo/RDVChPftzD/YeYsfIzTvPwDWlxYKNXo/ANaXFgo1ej+GV0aVjmLkP4ZXRpWOYuQ/RDVChPftzD9ENUKE9+3MP0Q1QoT37cw/RDVChPftzD9ENUKE9+3MP4ZXRpWOYuQ/2HmLHyM07z9ENUKE9+3MPwDWlxYKNXo/hldGlY5i5D9ENUKE9+3MPxes60NE0us/qHjQxVhXzT9ENUKE9+3MPwDWlxYKNXo/F6zrQ0TS6z8XrOtDRNLrPwDWlxYKNXo/F6zrQ0TS6z+GV0aVjmLkP8CwtoDhU4s/F6zrQ0TS6z8XrOtDRNLrPwDWlxYKNXo/hldGlY5i5D8XrOtDRNLrPxes60NE0us/F6zrQ0TS6z8XrOtDRNLrP8CwtoDhU4s/hldGlY5i5D+GV0aVjmLkP4ZXRpWOYuQ/F6zrQ0TS6z9ENUKE9+3MPxes60NE0us/RDVChPftzD8XrOtDRNLrPwDWlxYKNXo/wLC2gOFTiz+oeNDFWFfNP8CwtoDhU4s/hldGlY5i5D/YeYsfIzTvPxes60NE0us/RDVChPftzD9ENUKE9+3MPxes60NE0us/ANaXFgo1ej+GV0aVjmLkP0Q1QoT37cw/F6zrQ0TS6z8XrOtDRNLrP4ZXRpWOYuQ/ANaXFgo1ej8XrOtDRNLrPxes60NE0us/F6zrQ0TS6z8XrOtDRNLrP0Q1QoT37cw/F6zrQ0TS6z8XrOtDRNLrP6h40MVYV80/F6zrQ0TS6z8XrOtDRNLrP9h5ix8jNO8/F6zrQ0TS6z9ENUKE9+3MPxes60NE0us/F6zrQ0TS6z/YeYsfIzTvPxes60NE0us/F6zrQ0TS6z8XrOtDRNLrP0Q1QoT37cw/8HEe912i7j8XrOtDRNLrPw==",
          "dtype": "f8",
          "shape": "614, 1"
         },
         "hovertemplate": "DPD=%{x}<br>Accuracy=%{y}<br>alpha=%{marker.color}<extra></extra>",
         "legendgroup": "",
         "marker": {
          "color": {
           "bdata": "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",
           "dtype": "f8"
          },
          "coloraxis": "coloraxis",
          "line": {
           "width": 0
          },
          "symbol": "circle"
         },
         "mode": "markers",
         "name": "",
         "orientation": "v",
         "showlegend": false,
         "type": "scatter",
         "x": {
          "bdata": "AAAAAAAAAAAAAAAAAAAAAAAAAAAAAAAAAAAAAAAAAAAAAAAAAAAAAAAAAAAAAAAAAAAAAAAAAAAAAAAAAAAAAAAAAAAAAAAAAAAAAAAAAAAAAAAAAAAAAAAAAAAAAAAAAAAAAAAAAAAAAAAAAAAAAAAAAAAAAAAAAAAAAAAAAAAAAAAAAAAAAAAAAAAAAAAAAAAAAAAAAAAAAAAAAAAAAAAAAAAAAAAAAAAAAAAAAAAAAAAAAAAAAAAAAAAAAAAAAAAAAAAAAAAAAAAAAAAAAAAAAAAAAAAAAAAAAAAAAAAAAAAAAAAAAAAAAAAAAAAAAAAAAAAAAAAAAAAAAAAAAAAAAAAAAAAAAAAAAAAAAAAAAAAAAAAAAAAAAAAAAAAAAAAAAAAAAAAAAAAAAAAAAAAAAAAAAAAAAAAAAAAAAAAAAAAAAAAAAAAAAAAAAAAAAAAAAAAAAAAg3LxsWvqZPwAAAAAAAAAAAAAAAAAAAAAAAAAAAAAAAAAAAAAAAAAAAAAAAAAAAAAAAAAAAAAAAAAAAAAAAAAAAAAAAAAAAAAAAAAAAAAAAAAAAAAAAAAAAAAAAAAAAAAAAAAAAAAAAAAAAAAAAAAAAAAAAAAAAAAAAAAAAAAAAAAAAAAAAAAAAAAAAAAAAAAAAAAAAAAAAAAAAAAAAAAAAAAAAAAAAAAAAAAAAAAAAAAAAAAAAAAAAAAAAAAAAAAAAAAAAAAAAAAAAAAAAAAAAAAAAAAAAAAAAAAAAAAAAAAAAAAAAAAAAAAAAAAAAAAAAAAAAAAAAAAAAAAAAAAAAAAAAAAAAAAAAAAAAAAAAAAAAAAAAAAAAAAAAAAAAAAAAAAAAAAAAAAAAAAAAAAAAAAAAAAAAAAAAAAAAAAAAAAAAAAAAAAAAAAAAAAAAAAAAAAAAAAAAAAAAAAAAAAAAAAAAAAAAADgZDr6iCCSPwAAAAAAAAAAAAAAAAAAAAAAAAAAAAAAAAAAAAAAAAAAAAAAAAAAAAAAAAAAAAAAAAAAAAAAAAAAAAAAAAAAAAAAAAAAAAAAAAAAAAAAAAAAAAAAAAAAAAAAAAAAAAAAAAAAAAAAAAAAAAAAAAAAAAAAAAAAAAAAAAAAAAAAAAAAAAAAAAAAAAAAAAAAAAAAAAAAAAAAAAAAAAAAAAAAAAAAAAAAAAAAAAAAAAAAAAAAAAAAAAAAAAAAAAAAAAAAAAAAAAAAAAAAAAAAAAAAAAAAAAAAAAAAAAAAAAAAAAAAAAAAAAAAAAAAAAAAAAAAAAAAAAAAAAAAAAAAAAAAAAAAAAAAAAAAAAAAAAAAAAAAAAAAAAAAAAAAAAAAAAAAAAAAAAAAAAAAAAAAAAAAAAAAAAAAAAAAAAAAAAAAAAAAAAAAAAAAAAAAAAAAAAAAAAAAAAAAAAAAAAAAAAAAAAAAAAAAAAAAAAAAAAAAAAAAAAAAAAAAAAAAAAAAAAAAAAAAAAAAAAAAAAAAAAAAAAAAAAAAAAAAAAAAAAAAAAAAAAAAAAAAAAAAAAAAAAAAAAAAAAAAAAAAAAAAAAAAAAAAAAAAAAAAAAAAAAAAAAAAAAAAAAAAAAAAAAAAAAAAAAAAAAAAAAAAAAAAAAAAAAAAAAAAAAAAAAAAAAAAAAAA0/oRQ+vusj8AAAAAAAAAAAAAAAAAAAAAAAAAAAAAAAAAAAAAAAAAAAAAAAAAAAAAAAAAAAAAAAAAAAAAAAAAAAAAAAAAAAAAAAAAAAAAAAAAAAAAAAAAAAAAAAAAAAAAAAAAAAAAAAAAAAAAAAAAAAAAAAAAAAAAAAAAAAAAAAAg3LxsWvqZPwAAAAAAAAAAAAAAAAAAAAAAAAAAAAAAAAAAAAAAAAAAAAAAAAAAAAAAAAAAAAAAAAAAAAAAAAAAAAAAAAAAAAAAAAAAAAAAAAAAAAAAAAAAAAAAAAAAAAAAAAAAAAAAAAAAAAAAAAAAAAAAAAAAAAAAAAAAAAAAAAAAAAAAAAAAAAAAAAAAAAAAAAAAAAAAAAAAAAAAAAAAAAAAAAAAAAAAAAAAAAAAAAAAAAAAAAAAAAAAAAAAAAAAAAAAAAAAAAAAAAAAAAAAAAAAAAAAAAAAAAAAAAAAAAAAAAAAAAAAAAAAAAAAAAAAAAAAAAAAAAAAAAAAAAAAAAAAAAAAAAAAAAAAAAAAAAAAAAAAAAAAAAAAAAAAAAAAAAAAAAAAAAAAAAAAAAAAAAAAAAAAAAAAAAAAAAAAAAAAAAAAAAAAAAAAAAAAAAAAAAAAAAAAAAAAAAAAAAAAAAAAAAAAAAAAAAAAAAAAAAAAAAAAAAAAAAAAAAAAAAAAAAAAAAAAAAAAAAAAAAAAAAAAAAAAAAAg3LxsWvqZPwAAAAAAAAAAAAAAAAAAAABTEfMoA4ClPwAAAAAAAAAAAAAAAAAAAAAAAAAAAAAAAAAAAAAAAAAAAAAAAAAAAAAAAAAAAAAAAAAAAAAAAAAAAAAAAAAAAAAAAAAAAAAAAAAAAAAAAAAAAAAAAAAAAAAAAAAAAAAAAAAAAAAAAAAAAAAAAAAAAAAAAAAAAAAAAAAAAAAAAAAAAAAAAAAAAAAAAAAAAAAAAAAAAAAAAAAAAAAAAAAAAAAAAAAAAAAAAAAAAAAAAAAAAAAAAAAAAAAAAAAAAAAAAAAAAAAAAAAAAAAAAAAAAAAAAAAAAAAAAAAAAAAAAAAAAAAAAAAAAAAAAAAAAAAAAAAAAAAAAAAAAAAAAAAAAAAAAAAAAAAAAAAAAAAAAAAAAAAAAAAAAAAAAAAAAAAAAAAAAAAAAAAAAAAAAAAAAAAAAAAAAAAAAAAAAAAAAAAAAAAAAAAAAAAAAAAAAAAAAAAAAAAAAAAAAAAAAAAAAAAAAAAAAAAAAAAAAAAAAAAAAAAAAAAAAAAAAAAAAAAAAAAAAAAAAAAAAAAAAAAAAAAAAAAAAAAAAAAAAAAAAAAAAAAAAAAAAAAAAAAAAAAAAAAAAAAAAAAAAAAAAAAAAAAAAAAAAAAAAAAAAAAAAAAAAAAAAAAAAAAAAAAAAAAAAAAAAAAAAAAAAAAAAAAAAAAAAAAAAAAAAAAAAAAAAAAAAAAAAAAAAAAAAAAAAAAAAAAAAAAAAAAAAAAAAAAAAAAAAAAAAAAAAAAAAAAAAAAAAAAAAAAAAAAAAAAAAAAAAAAAAAAAAAAAAAAAAAAAAAAAAAAAAAAAAAAAAAAAAAAAAAAAAAAAAAAAAAAAAAAAAAAAAAAAAAAAAAAAAAAAAAAAAAAAAAAAAAAAAAAAAAAAAAAAAAAAAAAAAAAAAAAAAAAAAAAAAAAAAAAAAAAAAAAAAAAAAAAAAAAAAAAAAAAAAAAAAAAAAAAAAAAAAAAAAAAAAAAAAAAAAAAAAAAAAAAAAAAAAAAAAAAAAAAAAAAAAAAAAAAAAAAAAAAAAAAAAAAAAAAAAAAAAAAAAAAAAAAAAAAAAAAAAAAAAAAAAAAAAAAAAAAAAAAAAAAAAAAAAAAAAAAAAAAAAAAAAAAAAAAAAAAAAAAAAAAAAAAAAAAAAAAAAAAAAAAAAAAAAAAAAAAAAAAAAAAAAAAAAAAAAAAAAAAAAAAAAAAAAAAAAAAAAAAAAAAAAAAAAAAAAAAAAAAAAAAAAAAAAAAAAAAAAAAAAAAAAAAAAAAAAAAAAAAAAAAAAAAAAAAAAAAAAAAAAAAAAAAAAAAAAAAAAAAAAAAAAAAAAAAAAAAAAAAAAAAAAAAAAAAAAAAAAAAAAAAAAAAAAAAAAAAAAAAAAAAAAAAAAAAAAAAAAAAAAAAAAAAAAAAAAAAAAAAAAAAAAAAAAAAAAAAAAAAAAAAAAAAAAAAAAAAAAAAAAAAAAAAAAAAAAAAAAAAAAAAAAAAAAAAAAAAAAAAAAAAAAAAAAAAAAAAAAAAAAAAAAAAAAAAAAAAAINy8bFr6mT8AAAAAAAAAAAAAAAAAAAAAAAAAAAAAAAAAAAAAAAAAAAAAAAAAAAAAAAAAAAAAAAAAAAAAAAAAAAAAAAAAAAAAAAAAAAAAAAAAAAAAAAAAAAAAAAAAAAAAAAAAAAAAAAAAAAAAAAAAAAAAAAAAAAAAAAAAAAAAAAAAAAAAAAAAAAAAAAAAAAAAAAAAAAAAAAAAAAAAAAAAAAAAAAAAAAAAAAAAAAAAAAAAAAAAAAAAAAAAAAAAAAAAAAAAAAAAAAAAAAAAAAAAAAAAAAAAAAAA4GQ6+oggkj8AAAAAAAAAAAAAAAAAAAAAAAAAAAAAAAAAAAAAAAAAAAAAAAAAAAAAAAAAAAAAAAAAAAAAAAAAAAAAAAAAAAAAAAAAAAAAAAAAAAAAAAAAAAAAAAAAAAAAAAAAAAAAAAAAAAAAAAAAAAAAAAAAAAAAAAAAAAAAAAAAAAAAAAAAAAAAAAAAAAAAAAAAAAAAAAAAAAAAAAAAAAAAAAAAAAAAAAAAAAAAAAAg3LxsWvqZPwAAAAAAAAAAAAAAAAAAAAAAAAAAAAAAAAAAAAAAAAAAAAAAAAAAAAAAAAAAAAAAAAAAAAAAAAAAAAAAAAAAAAAAAAAAAAAAAAAAAAAAAAAAAAAAAAAAAAAAAAAAAAAAAAAAAAAAAAAAAAAAAAAAAAAAAAAAAAAAANXtWUduuZY/AAAAAAAAAAAAAAAAAAAAAAAAAAAAAAAAAAAAAAAAAAAAAAAAAAAAACDcvGxa+pk/AAAAAAAAAAAAAAAAAAAAAAAAAAAAAAAAAAAAAAAAAAAAAAAAAAAAAAAAAAAAAAAAAAAAAAAAAAAAAAAAAAAAAAAAAAAAAAAAAAAAAAAAAAAAAAAAAAAAAAAAAAAAAAAAAAAAAAAAAAAAAAAAAAAAAAAAAAAAAAAAAAAAAAAAAAAAAAAAAAAAAAAAAAAAAAAAAAAAAAAAAAAAAAAAAAAAAAAAAAAAAAAAAAAAAAAAAAAAAAAAAAAAAAAAAAAAAAAAAAAAAAAAAAAAAAAAAAAAAAAAAAAAAAAAAAAAAAAAAAAAAAAAAAAAAAAAAAAAAAAAAAAAAAAAAAAAAAAAAAAAAAAAAAAAAAAAAAAAAAAAAAAAAAAAAAAAAAAAAAAAAAAAAAAAAAAAAAAAAAAAAAAAAAv1RUk1n6A/UxHzKAOApT8AAAAAAAAAAAAAAAAAAAAAG/D/95Siqj8AAAAAAAAAACDcvGxa+pk/AAAAAAAAAAAAAAAAAAAAAAAAAAAAAAAAAAAAAAAAAAAAAAAAAAAAACtuREZ6iqg/AAAAAAAAAAAAAAAAAAAAACDcvGxa+pk/4GQ6+oggkj8AAAAAAAAAAAAAAAAAAAAAAAAAAAAAAAAAAAAAAAAAAAAAAAAAAAAAAAAAAAAAAAAAAAAAAAAAAAAAAAAAAAAAAAAAAAAAAABTEfMoA4ClPwAAAAAAAAAAINy8bFr6mT8AAAAAAAAAACDcvGxa+pk/AAAAAAAAAAAAAAAAAAAAAAAAAAAAAAAAAAAAAAAAAABTEfMoA4ClPyDcvGxa+pk/gM3NXm/zgT8AAAAAAAAAAFMR8ygDgKU/UxHzKAOApT/V7VlHbrmWP1MR8ygDgKU/WB7SYRr+qj8AAAAAAAAAACDcvGxa+pk/WB7SYRr+qj/gZDr6iCCSP+BkOvqIIJI/AAAAAAAAAAAAAAAAAAAAACDcvGxa+pk/AAAAAAAAAABTEfMoA4ClPwAAAAAAAAAA4GQ6+oggkj8I/CRn8OqsPwAAAAAAAAAAAAAAAAAAAABTEfMoA4ClP1MR8ygDgKU/INy8bFr6mT8g3LxsWvqZP0DdGe/tH4g/1UrPFthfdT8g3LxsWvqZP1MR8ygDgKU/CPwkZ/DqrD8g3LxsWvqZPwAAAAAAAAAAUxHzKAOApT8g3LxsWvqZP1ge0mEa/qo/1e1ZR265lj8g3LxsWvqZPwAAAAAAAAAAWB7SYRr+qj9YHtJhGv6qPwAAAAAAAAAAH5ZPJ2pNsD9TEfMoA4ClPwAAAAAAAAAAWB7SYRr+qj9YHtJhGv6qPwAAAAAAAAAAUxHzKAOApT8flk8nak2wP1ge0mEa/qo/H5ZPJ2pNsD9YHtJhGv6qPwAAAAAAAAAAUxHzKAOApT9TEfMoA4ClP1MR8ygDgKU/WB7SYRr+qj8g3LxsWvqZPx+WTydqTbA/4GQ6+oggkj8flk8nak2wPwAAAAAAAAAAAAAAAAAAAADV7VlHbrmWPwAAAAAAAAAAUxHzKAOApT8I/CRn8OqsP1ge0mEa/qo/INy8bFr6mT/gZDr6iCCSP1ge0mEa/qo/AAAAAAAAAABTEfMoA4ClPyDcvGxa+pk/WB7SYRr+qj9YHtJhGv6qP1MR8ygDgKU/AAAAAAAAAABYHtJhGv6qP1ge0mEa/qo/0/oRQ+vusj9YHtJhGv6qP+BkOvqIIJI/H5ZPJ2pNsD9YHtJhGv6qP9XtWUduuZY/K25ERnqKqD8flk8nak2wPwj8JGfw6qw/bT4MRXdCpj+Azc1eb/OBP9P6EUPr7rI/WB7SYRr+qj8I/CRn8OqsP1ge0mEa/qo/WB7SYRr+qj9YHtJhGv6qPyDcvGxa+pk/vhDRBXDgsT8flk8nak2wPw==",
          "dtype": "f8"
         },
         "xaxis": "x",
         "y": {
          "bdata": "nlBR2QwA4D+eUFHZDADgP55QUdkMAOA/nlBR2QwA4D+eUFHZDADgP55QUdkMAOA/nlBR2QwA4D+eUFHZDADgP55QUdkMAOA/nlBR2QwA4D+eUFHZDADgP55QUdkMAOA/nlBR2QwA4D+eUFHZDADgP55QUdkMAOA/nlBR2QwA4D+eUFHZDADgP55QUdkMAOA/nlBR2QwA4D+eUFHZDADgP55QUdkMAOA/nlBR2QwA4D+eUFHZDADgP55QUdkMAOA/nlBR2QwA4D+eUFHZDADgP55QUdkMAOA/nlBR2QwA4D+eUFHZDADgP55QUdkMAOA/nlBR2QwA4D+eUFHZDADgP55QUdkMAOA/nlBR2QwA4D+eUFHZDADgP55QUdkMAOA/nlBR2QwA4D+eUFHZDADgP55QUdkMAOA/nlBR2QwA4D+eUFHZDADgP55QUdkMAOA/nlBR2QwA4D+Jbirm7QjmP55QUdkMAOA/nlBR2QwA4D+eUFHZDADgP55QUdkMAOA/nlBR2QwA4D+eUFHZDADgP55QUdkMAOA/nlBR2QwA4D+eUFHZDADgP55QUdkMAOA/nlBR2QwA4D+eUFHZDADgP55QUdkMAOA/nlBR2QwA4D+eUFHZDADgP55QUdkMAOA/nlBR2QwA4D+eUFHZDADgP55QUdkMAOA/nlBR2QwA4D+eUFHZDADgP55QUdkMAOA/nlBR2QwA4D+eUFHZDADgP55QUdkMAOA/nlBR2QwA4D+eUFHZDADgP55QUdkMAOA/nlBR2QwA4D+eUFHZDADgP55QUdkMAOA/nlBR2QwA4D+eUFHZDADgP55QUdkMAOA/nlBR2QwA4D+eUFHZDADgP55QUdkMAOA/nlBR2QwA4D+eUFHZDADgP55QUdkMAOA/nlBR2QwA4D+eUFHZDADgP55QUdkMAOA/nlBR2QwA4D9sDigbPP3lP55QUdkMAOA/nlBR2QwA4D+eUFHZDADgP55QUdkMAOA/nlBR2QwA4D+eUFHZDADgP55QUdkMAOA/nlBR2QwA4D+eUFHZDADgP55QUdkMAOA/nlBR2QwA4D+eUFHZDADgP55QUdkMAOA/nlBR2QwA4D+eUFHZDADgP55QUdkMAOA/nlBR2QwA4D+eUFHZDADgP55QUdkMAOA/nlBR2QwA4D+eUFHZDADgP55QUdkMAOA/nlBR2QwA4D+eUFHZDADgP55QUdkMAOA/nlBR2QwA4D+eUFHZDADgP55QUdkMAOA/nlBR2QwA4D+eUFHZDADgP55QUdkMAOA/nlBR2QwA4D+eUFHZDADgP55QUdkMAOA/nlBR2QwA4D+eUFHZDADgP55QUdkMAOA/nlBR2QwA4D+eUFHZDADgP55QUdkMAOA/nlBR2QwA4D+eUFHZDADgP55QUdkMAOA/nlBR2QwA4D+eUFHZDADgP55QUdkMAOA/nlBR2QwA4D+eUFHZDADgP55QUdkMAOA/nlBR2QwA4D+eUFHZDADgP55QUdkMAOA/nlBR2QwA4D+eUFHZDADgP55QUdkMAOA/nlBR2QwA4D+eUFHZDADgP55QUdkMAOA/nlBR2QwA4D+eUFHZDADgP55QUdkMAOA/nlBR2QwA4D+eUFHZDADgP55QUdkMAOA/CMOQslJW5z+eUFHZDADgP55QUdkMAOA/nlBR2QwA4D+eUFHZDADgP55QUdkMAOA/nlBR2QwA4D+eUFHZDADgP55QUdkMAOA/nlBR2QwA4D+eUFHZDADgP55QUdkMAOA/nlBR2QwA4D+eUFHZDADgP55QUdkMAOA/nlBR2QwA4D+Jbirm7QjmP55QUdkMAOA/nlBR2QwA4D+eUFHZDADgP55QUdkMAOA/nlBR2QwA4D+eUFHZDADgP55QUdkMAOA/nlBR2QwA4D+eUFHZDADgP55QUdkMAOA/nlBR2QwA4D+eUFHZDADgP55QUdkMAOA/nlBR2QwA4D+eUFHZDADgP55QUdkMAOA/nlBR2QwA4D+eUFHZDADgP55QUdkMAOA/nlBR2QwA4D+eUFHZDADgP55QUdkMAOA/nlBR2QwA4D+eUFHZDADgP55QUdkMAOA/nlBR2QwA4D+eUFHZDADgP55QUdkMAOA/nlBR2QwA4D+eUFHZDADgP55QUdkMAOA/nlBR2QwA4D+eUFHZDADgP55QUdkMAOA/nlBR2QwA4D+eUFHZDADgP55QUdkMAOA/nlBR2QwA4D+eUFHZDADgP55QUdkMAOA/nlBR2QwA4D+eUFHZDADgP55QUdkMAOA/nlBR2QwA4D+eUFHZDADgP55QUdkMAOA/nlBR2QwA4D+eUFHZDADgP55QUdkMAOA/nlBR2QwA4D+Jbirm7QjmP55QUdkMAOA/nlBR2QwA4D8VlxPsnGDmP55QUdkMAOA/nlBR2QwA4D+eUFHZDADgP55QUdkMAOA/nlBR2QwA4D+eUFHZDADgP55QUdkMAOA/nlBR2QwA4D+eUFHZDADgP55QUdkMAOA/nlBR2QwA4D+eUFHZDADgP55QUdkMAOA/nlBR2QwA4D+eUFHZDADgP55QUdkMAOA/nlBR2QwA4D+eUFHZDADgP55QUdkMAOA/nlBR2QwA4D+eUFHZDADgP55QUdkMAOA/nlBR2QwA4D+eUFHZDADgP55QUdkMAOA/nlBR2QwA4D+eUFHZDADgP55QUdkMAOA/nlBR2QwA4D+eUFHZDADgP55QUdkMAOA/nlBR2QwA4D+eUFHZDADgP55QUdkMAOA/nlBR2QwA4D+eUFHZDADgP55QUdkMAOA/nlBR2QwA4D+eUFHZDADgP55QUdkMAOA/nlBR2QwA4D+eUFHZDADgP55QUdkMAOA/nlBR2QwA4D+eUFHZDADgP55QUdkMAOA/nlBR2QwA4D+eUFHZDADgP55QUdkMAOA/nlBR2QwA4D+eUFHZDADgP55QUdkMAOA/nlBR2QwA4D+eUFHZDADgP55QUdkMAOA/nlBR2QwA4D+eUFHZDADgP55QUdkMAOA/nlBR2QwA4D+eUFHZDADgP55QUdkMAOA/nlBR2QwA4D+eUFHZDADgP55QUdkMAOA/nlBR2QwA4D+eUFHZDADgP55QUdkMAOA/nlBR2QwA4D+eUFHZDADgP55QUdkMAOA/nlBR2QwA4D+eUFHZDADgP55QUdkMAOA/nlBR2QwA4D+eUFHZDADgP55QUdkMAOA/nlBR2QwA4D+eUFHZDADgP55QUdkMAOA/nlBR2QwA4D+eUFHZDADgP55QUdkMAOA/nlBR2QwA4D+eUFHZDADgP55QUdkMAOA/nlBR2QwA4D+eUFHZDADgP55QUdkMAOA/nlBR2QwA4D+eUFHZDADgP55QUdkMAOA/nlBR2QwA4D+eUFHZDADgP55QUdkMAOA/nlBR2QwA4D+eUFHZDADgP55QUdkMAOA/nlBR2QwA4D+eUFHZDADgP55QUdkMAOA/nlBR2QwA4D+eUFHZDADgP55QUdkMAOA/nlBR2QwA4D+eUFHZDADgP55QUdkMAOA/nlBR2QwA4D+eUFHZDADgP55QUdkMAOA/nlBR2QwA4D+eUFHZDADgP55QUdkMAOA/nlBR2QwA4D+eUFHZDADgP55QUdkMAOA/nlBR2QwA4D+eUFHZDADgP55QUdkMAOA/nlBR2QwA4D+eUFHZDADgP55QUdkMAOA/nlBR2QwA4D+eUFHZDADgP55QUdkMAOA/nlBR2QwA4D+eUFHZDADgP55QUdkMAOA/nlBR2QwA4D+eUFHZDADgP55QUdkMAOA/nlBR2QwA4D+eUFHZDADgP55QUdkMAOA/nlBR2QwA4D+eUFHZDADgP55QUdkMAOA/nlBR2QwA4D+eUFHZDADgP55QUdkMAOA/nlBR2QwA4D+eUFHZDADgP55QUdkMAOA/iW4q5u0I5j+eUFHZDADgP55QUdkMAOA/nlBR2QwA4D+eUFHZDADgP55QUdkMAOA/nlBR2QwA4D+eUFHZDADgP55QUdkMAOA/nlBR2QwA4D+eUFHZDADgP55QUdkMAOA/nlBR2QwA4D+eUFHZDADgP55QUdkMAOA/nlBR2QwA4D+eUFHZDADgP55QUdkMAOA/nlBR2QwA4D+eUFHZDADgP55QUdkMAOA/nlBR2QwA4D+eUFHZDADgP55QUdkMAOA/nlBR2QwA4D+eUFHZDADgP55QUdkMAOA/bA4oGzz95T+eUFHZDADgP55QUdkMAOA/nlBR2QwA4D+eUFHZDADgP55QUdkMAOA/nlBR2QwA4D+eUFHZDADgP55QUdkMAOA/nlBR2QwA4D+eUFHZDADgP55QUdkMAOA/nlBR2QwA4D+eUFHZDADgP55QUdkMAOA/nlBR2QwA4D+eUFHZDADgP55QUdkMAOA/nlBR2QwA4D+eUFHZDADgP55QUdkMAOA/nlBR2QwA4D+Jbirm7QjmP55QUdkMAOA/nlBR2QwA4D+eUFHZDADgP55QUdkMAOA/nlBR2QwA4D+eUFHZDADgP55QUdkMAOA/nlBR2QwA4D+eUFHZDADgP55QUdkMAOA/nlBR2QwA4D+eUFHZDADgP55QUdkMAOA/nlBR2QwA4D+eUFHZDADgPyyWAJQOA+Y/nlBR2QwA4D+eUFHZDADgP55QUdkMAOA/nlBR2QwA4D+eUFHZDADgP4luKubtCOY/nlBR2QwA4D+eUFHZDADgP55QUdkMAOA/nlBR2QwA4D+eUFHZDADgP55QUdkMAOA/nlBR2QwA4D+eUFHZDADgP55QUdkMAOA/nlBR2QwA4D+eUFHZDADgP55QUdkMAOA/nlBR2QwA4D+eUFHZDADgP55QUdkMAOA/nlBR2QwA4D+eUFHZDADgP55QUdkMAOA/nlBR2QwA4D+eUFHZDADgP55QUdkMAOA/nlBR2QwA4D+eUFHZDADgP55QUdkMAOA/nlBR2QwA4D+eUFHZDADgP55QUdkMAOA/nlBR2QwA4D+eUFHZDADgP55QUdkMAOA/nlBR2QwA4D+eUFHZDADgP55QUdkMAOA/nlBR2QwA4D+eUFHZDADgP55QUdkMAOA/nlBR2QwA4D+eUFHZDADgP/EZRIqtWuY/FZcT7Jxg5j+eUFHZDADgP55QUdkMAOA/kLj2N1+45j+eUFHZDADgP4luKubtCOY/nlBR2QwA4D+eUFHZDADgP55QUdkMAOA/nlBR2QwA4D+eUFHZDADgP1k0IRyDsuY/nlBR2QwA4D+eUFHZDADgP4luKubtCOY/bA4oGzz95T+eUFHZDADgP55QUdkMAOA/nlBR2QwA4D+eUFHZDADgP55QUdkMAOA/nlBR2QwA4D+eUFHZDADgP55QUdkMAOA/nlBR2QwA4D8VlxPsnGDmP55QUdkMAOA/iW4q5u0I5j+eUFHZDADgP4luKubtCOY/nlBR2QwA4D+eUFHZDADgP55QUdkMAOA/nlBR2QwA4D8VlxPsnGDmP4luKubtCOY/RFUpP8Xl5T+eUFHZDADgPxWXE+ycYOY/FZcT7Jxg5j8slgCUDgPmPxWXE+ycYOY/ezX9BjDn5j+eUFHZDADgP4luKubtCOY/ezX9BjDn5j9sDigbPP3lP2wOKBs8/eU/nlBR2QwA4D+eUFHZDADgP4luKubtCOY/nlBR2QwA4D8VlxPsnGDmP55QUdkMAOA/bA4oGzz95T9YHdhKtPjmP55QUdkMAOA/nlBR2QwA4D8VlxPsnGDmPxWXE+ycYOY/iW4q5u0I5j+Jbirm7QjmP0W60+Q4/eU/XRRS6nvI5T+Jbirm7QjmPxWXE+ycYOY/WB3YSrT45j+Jbirm7QjmP55QUdkMAOA/FZcT7Jxg5j+Jbirm7QjmP3s1/QYw5+Y/LJYAlA4D5j+Jbirm7QjmP55QUdkMAOA/ezX9BjDn5j97Nf0GMOfmP55QUdkMAOA/01UEaEUK5z8VlxPsnGDmP55QUdkMAOA/ezX9BjDn5j97Nf0GMOfmP55QUdkMAOA/FZcT7Jxg5j/TVQRoRQrnP3s1/QYw5+Y/01UEaEUK5z97Nf0GMOfmP55QUdkMAOA/FZcT7Jxg5j8VlxPsnGDmPxWXE+ycYOY/ezX9BjDn5j+Jbirm7QjmP9NVBGhFCuc/bA4oGzz95T/TVQRoRQrnP55QUdkMAOA/nlBR2QwA4D8slgCUDgPmP55QUdkMAOA/FZcT7Jxg5j9YHdhKtPjmP3s1/QYw5+Y/iW4q5u0I5j9sDigbPP3lP3s1/QYw5+Y/nlBR2QwA4D8VlxPsnGDmP4luKubtCOY/ezX9BjDn5j97Nf0GMOfmPxWXE+ycYOY/nlBR2QwA4D97Nf0GMOfmP3s1/QYw5+Y/CMOQslJW5z97Nf0GMOfmP2wOKBs8/eU/01UEaEUK5z97Nf0GMOfmPyyWAJQOA+Y/WTQhHIOy5j/TVQRoRQrnP1gd2Eq0+OY/49J50wWb5j9EVSk/xeXlPwjDkLJSVuc/ezX9BjDn5j9YHdhKtPjmP3s1/QYw5+Y/ezX9BjDn5j97Nf0GMOfmP4luKubtCOY/15Ez4swb5z/TVQRoRQrnPw==",
          "dtype": "f8"
         },
         "yaxis": "y"
        }
       ],
       "layout": {
        "coloraxis": {
         "colorbar": {
          "title": {
           "text": "alpha"
          }
         },
         "colorscale": [
          [
           0,
           "#440154"
          ],
          [
           0.1111111111111111,
           "#482878"
          ],
          [
           0.2222222222222222,
           "#3e4989"
          ],
          [
           0.3333333333333333,
           "#31688e"
          ],
          [
           0.4444444444444444,
           "#26828e"
          ],
          [
           0.5555555555555556,
           "#1f9e89"
          ],
          [
           0.6666666666666666,
           "#35b779"
          ],
          [
           0.7777777777777778,
           "#6ece58"
          ],
          [
           0.8888888888888888,
           "#b5de2b"
          ],
          [
           1,
           "#fde725"
          ]
         ]
        },
        "legend": {
         "tracegroupgap": 0
        },
        "template": {
         "data": {
          "bar": [
           {
            "error_x": {
             "color": "#2a3f5f"
            },
            "error_y": {
             "color": "#2a3f5f"
            },
            "marker": {
             "line": {
              "color": "#E5ECF6",
              "width": 0.5
             },
             "pattern": {
              "fillmode": "overlay",
              "size": 10,
              "solidity": 0.2
             }
            },
            "type": "bar"
           }
          ],
          "barpolar": [
           {
            "marker": {
             "line": {
              "color": "#E5ECF6",
              "width": 0.5
             },
             "pattern": {
              "fillmode": "overlay",
              "size": 10,
              "solidity": 0.2
             }
            },
            "type": "barpolar"
           }
          ],
          "carpet": [
           {
            "aaxis": {
             "endlinecolor": "#2a3f5f",
             "gridcolor": "white",
             "linecolor": "white",
             "minorgridcolor": "white",
             "startlinecolor": "#2a3f5f"
            },
            "baxis": {
             "endlinecolor": "#2a3f5f",
             "gridcolor": "white",
             "linecolor": "white",
             "minorgridcolor": "white",
             "startlinecolor": "#2a3f5f"
            },
            "type": "carpet"
           }
          ],
          "choropleth": [
           {
            "colorbar": {
             "outlinewidth": 0,
             "ticks": ""
            },
            "type": "choropleth"
           }
          ],
          "contour": [
           {
            "colorbar": {
             "outlinewidth": 0,
             "ticks": ""
            },
            "colorscale": [
             [
              0,
              "#0d0887"
             ],
             [
              0.1111111111111111,
              "#46039f"
             ],
             [
              0.2222222222222222,
              "#7201a8"
             ],
             [
              0.3333333333333333,
              "#9c179e"
             ],
             [
              0.4444444444444444,
              "#bd3786"
             ],
             [
              0.5555555555555556,
              "#d8576b"
             ],
             [
              0.6666666666666666,
              "#ed7953"
             ],
             [
              0.7777777777777778,
              "#fb9f3a"
             ],
             [
              0.8888888888888888,
              "#fdca26"
             ],
             [
              1,
              "#f0f921"
             ]
            ],
            "type": "contour"
           }
          ],
          "contourcarpet": [
           {
            "colorbar": {
             "outlinewidth": 0,
             "ticks": ""
            },
            "type": "contourcarpet"
           }
          ],
          "heatmap": [
           {
            "colorbar": {
             "outlinewidth": 0,
             "ticks": ""
            },
            "colorscale": [
             [
              0,
              "#0d0887"
             ],
             [
              0.1111111111111111,
              "#46039f"
             ],
             [
              0.2222222222222222,
              "#7201a8"
             ],
             [
              0.3333333333333333,
              "#9c179e"
             ],
             [
              0.4444444444444444,
              "#bd3786"
             ],
             [
              0.5555555555555556,
              "#d8576b"
             ],
             [
              0.6666666666666666,
              "#ed7953"
             ],
             [
              0.7777777777777778,
              "#fb9f3a"
             ],
             [
              0.8888888888888888,
              "#fdca26"
             ],
             [
              1,
              "#f0f921"
             ]
            ],
            "type": "heatmap"
           }
          ],
          "histogram": [
           {
            "marker": {
             "pattern": {
              "fillmode": "overlay",
              "size": 10,
              "solidity": 0.2
             }
            },
            "type": "histogram"
           }
          ],
          "histogram2d": [
           {
            "colorbar": {
             "outlinewidth": 0,
             "ticks": ""
            },
            "colorscale": [
             [
              0,
              "#0d0887"
             ],
             [
              0.1111111111111111,
              "#46039f"
             ],
             [
              0.2222222222222222,
              "#7201a8"
             ],
             [
              0.3333333333333333,
              "#9c179e"
             ],
             [
              0.4444444444444444,
              "#bd3786"
             ],
             [
              0.5555555555555556,
              "#d8576b"
             ],
             [
              0.6666666666666666,
              "#ed7953"
             ],
             [
              0.7777777777777778,
              "#fb9f3a"
             ],
             [
              0.8888888888888888,
              "#fdca26"
             ],
             [
              1,
              "#f0f921"
             ]
            ],
            "type": "histogram2d"
           }
          ],
          "histogram2dcontour": [
           {
            "colorbar": {
             "outlinewidth": 0,
             "ticks": ""
            },
            "colorscale": [
             [
              0,
              "#0d0887"
             ],
             [
              0.1111111111111111,
              "#46039f"
             ],
             [
              0.2222222222222222,
              "#7201a8"
             ],
             [
              0.3333333333333333,
              "#9c179e"
             ],
             [
              0.4444444444444444,
              "#bd3786"
             ],
             [
              0.5555555555555556,
              "#d8576b"
             ],
             [
              0.6666666666666666,
              "#ed7953"
             ],
             [
              0.7777777777777778,
              "#fb9f3a"
             ],
             [
              0.8888888888888888,
              "#fdca26"
             ],
             [
              1,
              "#f0f921"
             ]
            ],
            "type": "histogram2dcontour"
           }
          ],
          "mesh3d": [
           {
            "colorbar": {
             "outlinewidth": 0,
             "ticks": ""
            },
            "type": "mesh3d"
           }
          ],
          "parcoords": [
           {
            "line": {
             "colorbar": {
              "outlinewidth": 0,
              "ticks": ""
             }
            },
            "type": "parcoords"
           }
          ],
          "pie": [
           {
            "automargin": true,
            "type": "pie"
           }
          ],
          "scatter": [
           {
            "fillpattern": {
             "fillmode": "overlay",
             "size": 10,
             "solidity": 0.2
            },
            "type": "scatter"
           }
          ],
          "scatter3d": [
           {
            "line": {
             "colorbar": {
              "outlinewidth": 0,
              "ticks": ""
             }
            },
            "marker": {
             "colorbar": {
              "outlinewidth": 0,
              "ticks": ""
             }
            },
            "type": "scatter3d"
           }
          ],
          "scattercarpet": [
           {
            "marker": {
             "colorbar": {
              "outlinewidth": 0,
              "ticks": ""
             }
            },
            "type": "scattercarpet"
           }
          ],
          "scattergeo": [
           {
            "marker": {
             "colorbar": {
              "outlinewidth": 0,
              "ticks": ""
             }
            },
            "type": "scattergeo"
           }
          ],
          "scattergl": [
           {
            "marker": {
             "colorbar": {
              "outlinewidth": 0,
              "ticks": ""
             }
            },
            "type": "scattergl"
           }
          ],
          "scattermap": [
           {
            "marker": {
             "colorbar": {
              "outlinewidth": 0,
              "ticks": ""
             }
            },
            "type": "scattermap"
           }
          ],
          "scattermapbox": [
           {
            "marker": {
             "colorbar": {
              "outlinewidth": 0,
              "ticks": ""
             }
            },
            "type": "scattermapbox"
           }
          ],
          "scatterpolar": [
           {
            "marker": {
             "colorbar": {
              "outlinewidth": 0,
              "ticks": ""
             }
            },
            "type": "scatterpolar"
           }
          ],
          "scatterpolargl": [
           {
            "marker": {
             "colorbar": {
              "outlinewidth": 0,
              "ticks": ""
             }
            },
            "type": "scatterpolargl"
           }
          ],
          "scatterternary": [
           {
            "marker": {
             "colorbar": {
              "outlinewidth": 0,
              "ticks": ""
             }
            },
            "type": "scatterternary"
           }
          ],
          "surface": [
           {
            "colorbar": {
             "outlinewidth": 0,
             "ticks": ""
            },
            "colorscale": [
             [
              0,
              "#0d0887"
             ],
             [
              0.1111111111111111,
              "#46039f"
             ],
             [
              0.2222222222222222,
              "#7201a8"
             ],
             [
              0.3333333333333333,
              "#9c179e"
             ],
             [
              0.4444444444444444,
              "#bd3786"
             ],
             [
              0.5555555555555556,
              "#d8576b"
             ],
             [
              0.6666666666666666,
              "#ed7953"
             ],
             [
              0.7777777777777778,
              "#fb9f3a"
             ],
             [
              0.8888888888888888,
              "#fdca26"
             ],
             [
              1,
              "#f0f921"
             ]
            ],
            "type": "surface"
           }
          ],
          "table": [
           {
            "cells": {
             "fill": {
              "color": "#EBF0F8"
             },
             "line": {
              "color": "white"
             }
            },
            "header": {
             "fill": {
              "color": "#C8D4E3"
             },
             "line": {
              "color": "white"
             }
            },
            "type": "table"
           }
          ]
         },
         "layout": {
          "annotationdefaults": {
           "arrowcolor": "#2a3f5f",
           "arrowhead": 0,
           "arrowwidth": 1
          },
          "autotypenumbers": "strict",
          "coloraxis": {
           "colorbar": {
            "outlinewidth": 0,
            "ticks": ""
           }
          },
          "colorscale": {
           "diverging": [
            [
             0,
             "#8e0152"
            ],
            [
             0.1,
             "#c51b7d"
            ],
            [
             0.2,
             "#de77ae"
            ],
            [
             0.3,
             "#f1b6da"
            ],
            [
             0.4,
             "#fde0ef"
            ],
            [
             0.5,
             "#f7f7f7"
            ],
            [
             0.6,
             "#e6f5d0"
            ],
            [
             0.7,
             "#b8e186"
            ],
            [
             0.8,
             "#7fbc41"
            ],
            [
             0.9,
             "#4d9221"
            ],
            [
             1,
             "#276419"
            ]
           ],
           "sequential": [
            [
             0,
             "#0d0887"
            ],
            [
             0.1111111111111111,
             "#46039f"
            ],
            [
             0.2222222222222222,
             "#7201a8"
            ],
            [
             0.3333333333333333,
             "#9c179e"
            ],
            [
             0.4444444444444444,
             "#bd3786"
            ],
            [
             0.5555555555555556,
             "#d8576b"
            ],
            [
             0.6666666666666666,
             "#ed7953"
            ],
            [
             0.7777777777777778,
             "#fb9f3a"
            ],
            [
             0.8888888888888888,
             "#fdca26"
            ],
            [
             1,
             "#f0f921"
            ]
           ],
           "sequentialminus": [
            [
             0,
             "#0d0887"
            ],
            [
             0.1111111111111111,
             "#46039f"
            ],
            [
             0.2222222222222222,
             "#7201a8"
            ],
            [
             0.3333333333333333,
             "#9c179e"
            ],
            [
             0.4444444444444444,
             "#bd3786"
            ],
            [
             0.5555555555555556,
             "#d8576b"
            ],
            [
             0.6666666666666666,
             "#ed7953"
            ],
            [
             0.7777777777777778,
             "#fb9f3a"
            ],
            [
             0.8888888888888888,
             "#fdca26"
            ],
            [
             1,
             "#f0f921"
            ]
           ]
          },
          "colorway": [
           "#636efa",
           "#EF553B",
           "#00cc96",
           "#ab63fa",
           "#FFA15A",
           "#19d3f3",
           "#FF6692",
           "#B6E880",
           "#FF97FF",
           "#FECB52"
          ],
          "font": {
           "color": "#2a3f5f"
          },
          "geo": {
           "bgcolor": "white",
           "lakecolor": "white",
           "landcolor": "#E5ECF6",
           "showlakes": true,
           "showland": true,
           "subunitcolor": "white"
          },
          "hoverlabel": {
           "align": "left"
          },
          "hovermode": "closest",
          "mapbox": {
           "style": "light"
          },
          "paper_bgcolor": "white",
          "plot_bgcolor": "#E5ECF6",
          "polar": {
           "angularaxis": {
            "gridcolor": "white",
            "linecolor": "white",
            "ticks": ""
           },
           "bgcolor": "#E5ECF6",
           "radialaxis": {
            "gridcolor": "white",
            "linecolor": "white",
            "ticks": ""
           }
          },
          "scene": {
           "xaxis": {
            "backgroundcolor": "#E5ECF6",
            "gridcolor": "white",
            "gridwidth": 2,
            "linecolor": "white",
            "showbackground": true,
            "ticks": "",
            "zerolinecolor": "white"
           },
           "yaxis": {
            "backgroundcolor": "#E5ECF6",
            "gridcolor": "white",
            "gridwidth": 2,
            "linecolor": "white",
            "showbackground": true,
            "ticks": "",
            "zerolinecolor": "white"
           },
           "zaxis": {
            "backgroundcolor": "#E5ECF6",
            "gridcolor": "white",
            "gridwidth": 2,
            "linecolor": "white",
            "showbackground": true,
            "ticks": "",
            "zerolinecolor": "white"
           }
          },
          "shapedefaults": {
           "line": {
            "color": "#2a3f5f"
           }
          },
          "ternary": {
           "aaxis": {
            "gridcolor": "white",
            "linecolor": "white",
            "ticks": ""
           },
           "baxis": {
            "gridcolor": "white",
            "linecolor": "white",
            "ticks": ""
           },
           "bgcolor": "#E5ECF6",
           "caxis": {
            "gridcolor": "white",
            "linecolor": "white",
            "ticks": ""
           }
          },
          "title": {
           "x": 0.05
          },
          "xaxis": {
           "automargin": true,
           "gridcolor": "white",
           "linecolor": "white",
           "ticks": "",
           "title": {
            "standoff": 15
           },
           "zerolinecolor": "white",
           "zerolinewidth": 2
          },
          "yaxis": {
           "automargin": true,
           "gridcolor": "white",
           "linecolor": "white",
           "ticks": "",
           "title": {
            "standoff": 15
           },
           "zerolinecolor": "white",
           "zerolinewidth": 2
          }
         }
        },
        "title": {
         "text": "Pareto Front: DPD vs. Accuracy"
        },
        "xaxis": {
         "anchor": "y",
         "domain": [
          0,
          1
         ],
         "title": {
          "text": "DPD"
         }
        },
        "yaxis": {
         "anchor": "x",
         "domain": [
          0,
          1
         ],
         "title": {
          "text": "Accuracy"
         }
        }
       }
      }
     },
     "metadata": {},
     "output_type": "display_data"
    }
   ],
   "source": [
    "# Create interactive Plotly plot\n",
    "fig = px.scatter(\n",
    "    plot_df,\n",
    "    x='DPD',\n",
    "    y='Accuracy',\n",
    "    color='alpha',\n",
    "    color_continuous_scale='Viridis',\n",
    "    size_max=15,\n",
    "    hover_data={'alpha': True, 'DPD': True, 'Accuracy': True},\n",
    "    title='Pareto Front: DPD vs. Accuracy'\n",
    ")\n",
    "fig.update_traces(marker=dict(line_width=0))\n",
    "fig.show()"
   ]
  },
  {
   "cell_type": "code",
   "execution_count": 7,
   "id": "80c815c5",
   "metadata": {},
   "outputs": [
    {
     "name": "stderr",
     "output_type": "stream",
     "text": [
      "[I 2025-05-15 00:24:54,034] A new study created in memory with name: no-name-4340bd0a-84cc-4cc8-9175-a0e8ebca6ecf\n",
      "[I 2025-05-15 00:24:54,209] Trial 0 finished with values: [0.668579769814939, 0.04705854807698547] and parameters: {'alpha': 0.7173529644595884, 'max_depth': 4, 'eta': 0.040674076986809145, 'subsample': 0.9932367703957148, 'colsample_bytree': 0.7909352143832696}.\n",
      "[I 2025-05-15 00:24:54,528] Trial 1 finished with values: [0.704999188194821, 0.09235785660236438] and parameters: {'alpha': 0.8617201466817577, 'max_depth': 6, 'eta': 0.24832927606538044, 'subsample': 0.6199735034178627, 'colsample_bytree': 0.9865146806199016}.\n",
      "[I 2025-05-15 00:24:54,824] Trial 2 finished with values: [0.6700134483952297, 0.03622823029083646] and parameters: {'alpha': 0.7725592387321162, 'max_depth': 3, 'eta': 0.09994010638179107, 'subsample': 0.7983146992934836, 'colsample_bytree': 0.7896876756478979}.\n",
      "[I 2025-05-15 00:24:55,291] Trial 3 finished with values: [0.7200007352197848, 0.06911685486847768] and parameters: {'alpha': 0.949771839688359, 'max_depth': 7, 'eta': 0.28976540337251927, 'subsample': 0.6237175940845682, 'colsample_bytree': 0.9117198391851572}.\n",
      "[I 2025-05-15 00:24:55,735] Trial 4 finished with values: [0.6871471327960103, 0.050887294856290656] and parameters: {'alpha': 0.6205813998381142, 'max_depth': 5, 'eta': 0.22305705682721003, 'subsample': 0.8208929507370241, 'colsample_bytree': 0.7151684145313815}.\n",
      "[I 2025-05-15 00:24:55,822] Trial 5 finished with values: [0.6685874283543637, 0.05482784311499078] and parameters: {'alpha': 0.5148228452312832, 'max_depth': 3, 'eta': 0.2771916268759861, 'subsample': 0.8199798599433339, 'colsample_bytree': 0.8252784160077375}.\n",
      "[I 2025-05-15 00:24:55,953] Trial 6 finished with values: [0.6621557869455601, 0.03191103767082807] and parameters: {'alpha': 0.18818979136729153, 'max_depth': 3, 'eta': 0.031498979120510445, 'subsample': 0.7661663267822734, 'colsample_bytree': 0.8460176200900461}.\n",
      "[I 2025-05-15 00:24:56,046] Trial 7 finished with values: [0.6864302935058649, 0.07183198999975314] and parameters: {'alpha': 0.9341606421906941, 'max_depth': 4, 'eta': 0.2272618215423939, 'subsample': 0.6847917081050445, 'colsample_bytree': 0.7581081208309179}.\n",
      "[I 2025-05-15 00:24:56,143] Trial 8 finished with values: [0.6621542552376751, 0.0441366795112948] and parameters: {'alpha': 0.9439792200674176, 'max_depth': 3, 'eta': 0.14003609762215957, 'subsample': 0.8296884475593053, 'colsample_bytree': 0.829806612613505}.\n",
      "[I 2025-05-15 00:24:56,254] Trial 9 finished with values: [0.6814323306773519, 0.04380792512914163] and parameters: {'alpha': 0.32246385915926223, 'max_depth': 7, 'eta': 0.25373919752102353, 'subsample': 0.6142096021547871, 'colsample_bytree': 0.6128323138461458}.\n",
      "[I 2025-05-15 00:24:56,385] Trial 10 finished with values: [0.6850058051728839, 0.055859733009460406] and parameters: {'alpha': 0.5276280749839246, 'max_depth': 5, 'eta': 0.21573974070658614, 'subsample': 0.6660240701032281, 'colsample_bytree': 0.9020367604357453}.\n",
      "[I 2025-05-15 00:24:56,515] Trial 11 finished with values: [0.6528659786234847, 0.030026703797641708] and parameters: {'alpha': 0.7458717145225128, 'max_depth': 3, 'eta': 0.16509420935466218, 'subsample': 0.9102755456017517, 'colsample_bytree': 0.9937063510065745}.\n",
      "[I 2025-05-15 00:24:56,671] Trial 12 finished with values: [0.6585853758657979, 0.019224495845253226] and parameters: {'alpha': 0.0955130283554918, 'max_depth': 7, 'eta': 0.09563868293887341, 'subsample': 0.7295205667561184, 'colsample_bytree': 0.7847169372694645}.\n",
      "[I 2025-05-15 00:24:56,791] Trial 13 finished with values: [0.6735807960592219, 0.045139031593843415] and parameters: {'alpha': 0.15976610721427875, 'max_depth': 6, 'eta': 0.2211314247795184, 'subsample': 0.7467526993332287, 'colsample_bytree': 0.980047387736372}.\n",
      "[I 2025-05-15 00:24:56,918] Trial 14 finished with values: [0.6621588503613299, 0.03289890057415625] and parameters: {'alpha': 0.17368020298506548, 'max_depth': 4, 'eta': 0.048015482322071965, 'subsample': 0.6044802338373528, 'colsample_bytree': 0.6763238319599587}.\n",
      "[I 2025-05-15 00:24:57,025] Trial 15 finished with values: [0.6521476076254545, 0.021976369271183366] and parameters: {'alpha': 0.3991210158440538, 'max_depth': 3, 'eta': 0.116995031321644, 'subsample': 0.9063706415490008, 'colsample_bytree': 0.9752553181536894}.\n",
      "[I 2025-05-15 00:24:57,313] Trial 16 finished with values: [0.6742899768099426, 0.020714417475414842] and parameters: {'alpha': 0.2426842393630283, 'max_depth': 5, 'eta': 0.21414868663343353, 'subsample': 0.8192709594672856, 'colsample_bytree': 0.7144173849203982}.\n",
      "[I 2025-05-15 00:24:57,739] Trial 17 finished with values: [0.677152738846869, 0.054865194239282745] and parameters: {'alpha': 0.15291946922411415, 'max_depth': 7, 'eta': 0.28392212351248575, 'subsample': 0.6410759879845584, 'colsample_bytree': 0.7933448331145423}.\n",
      "[I 2025-05-15 00:24:57,923] Trial 18 finished with values: [0.6699920044848406, 0.06263015501550949] and parameters: {'alpha': 0.4190630400415616, 'max_depth': 7, 'eta': 0.09851616411967337, 'subsample': 0.927965485537386, 'colsample_bytree': 0.9264342172165775}.\n",
      "[I 2025-05-15 00:24:58,089] Trial 19 finished with values: [0.6721455857710463, 0.04534761958180309] and parameters: {'alpha': 0.5033630850144756, 'max_depth': 7, 'eta': 0.14878015038659756, 'subsample': 0.612915854299825, 'colsample_bytree': 0.7029592037201551}.\n",
      "[I 2025-05-15 00:24:58,366] Trial 20 finished with values: [0.6942848915397647, 0.058694941676540026] and parameters: {'alpha': 0.6835271721751287, 'max_depth': 5, 'eta': 0.2993996946257543, 'subsample': 0.7096850473007567, 'colsample_bytree': 0.6906607976060476}.\n",
      "[I 2025-05-15 00:24:58,603] Trial 21 finished with values: [0.6750068161000878, 0.0393331324223097] and parameters: {'alpha': 0.2019129454571954, 'max_depth': 7, 'eta': 0.2115092102708598, 'subsample': 0.7857462575987388, 'colsample_bytree': 0.6235223150830099}.\n",
      "[I 2025-05-15 00:24:58,700] Trial 22 finished with values: [0.7064252082356869, 0.08769472595480472] and parameters: {'alpha': 0.8656720350093294, 'max_depth': 6, 'eta': 0.2245733220748633, 'subsample': 0.9836117158731903, 'colsample_bytree': 0.7693077090101382}.\n",
      "[I 2025-05-15 00:24:58,787] Trial 23 finished with values: [0.6814246721379273, 0.06820949410305098] and parameters: {'alpha': 0.36553342815371426, 'max_depth': 7, 'eta': 0.23967917097361108, 'subsample': 0.7703024107742075, 'colsample_bytree': 0.9662735670269508}.\n",
      "[I 2025-05-15 00:24:58,862] Trial 24 finished with values: [0.6878716306255801, 0.058330140822074904] and parameters: {'alpha': 0.6092561518199108, 'max_depth': 4, 'eta': 0.2724171631899044, 'subsample': 0.6891909515872665, 'colsample_bytree': 0.9492074973157507}.\n",
      "[I 2025-05-15 00:24:58,947] Trial 25 finished with values: [0.6714364050203256, 0.05363318062878644] and parameters: {'alpha': 0.5564658611011942, 'max_depth': 3, 'eta': 0.2277138848944545, 'subsample': 0.6629169593677936, 'colsample_bytree': 0.8237540546310967}.\n",
      "[I 2025-05-15 00:24:59,075] Trial 26 finished with values: [0.6707226291459504, 0.012983203043084202] and parameters: {'alpha': 0.03417285297720973, 'max_depth': 7, 'eta': 0.22559053945727284, 'subsample': 0.6925253673518488, 'colsample_bytree': 0.6482599930718969}.\n",
      "[I 2025-05-15 00:24:59,406] Trial 27 finished with values: [0.6785603783931159, 0.043679860807495564] and parameters: {'alpha': 0.5497757329149516, 'max_depth': 5, 'eta': 0.15256174561154628, 'subsample': 0.8438088653110281, 'colsample_bytree': 0.9504428755066308}.\n",
      "[I 2025-05-15 00:24:59,688] Trial 28 finished with values: [0.6750022209764331, 0.024040514686547037] and parameters: {'alpha': 0.24748086673576375, 'max_depth': 4, 'eta': 0.2909397249492908, 'subsample': 0.7967059772526129, 'colsample_bytree': 0.6227786075680645}.\n",
      "[I 2025-05-15 00:25:00,301] Trial 29 finished with values: [0.6907098853363477, 0.062338733895835115] and parameters: {'alpha': 0.5366139705605895, 'max_depth': 7, 'eta': 0.12873446060701071, 'subsample': 0.8088077500322763, 'colsample_bytree': 0.7540597375103688}.\n",
      "[I 2025-05-15 00:25:00,695] Trial 30 finished with values: [0.6921450956245233, 0.07007569325045496] and parameters: {'alpha': 0.8752545071122433, 'max_depth': 5, 'eta': 0.16997645369329453, 'subsample': 0.8049480928907173, 'colsample_bytree': 0.9179636413075372}.\n",
      "[I 2025-05-15 00:25:01,570] Trial 31 finished with values: [0.6742915085178275, 0.04619428052762886] and parameters: {'alpha': 0.35297920477296796, 'max_depth': 6, 'eta': 0.07008579038973799, 'subsample': 0.7450141552786008, 'colsample_bytree': 0.9970305162743647}.\n",
      "[I 2025-05-15 00:25:02,330] Trial 32 finished with values: [0.6700103849794597, 0.045194000843330896] and parameters: {'alpha': 0.9646708794923932, 'max_depth': 3, 'eta': 0.19039189345893598, 'subsample': 0.9313600829313567, 'colsample_bytree': 0.611858816055013}.\n",
      "[I 2025-05-15 00:25:02,652] Trial 33 finished with values: [0.6643001779844563, 0.015533685806422615] and parameters: {'alpha': 0.0640959340481203, 'max_depth': 6, 'eta': 0.25879187299914386, 'subsample': 0.6771117498305153, 'colsample_bytree': 0.7143379076221813}.\n",
      "[I 2025-05-15 00:25:03,034] Trial 34 finished with values: [0.6871425376723553, 0.07244087407265772] and parameters: {'alpha': 0.62136010042999, 'max_depth': 7, 'eta': 0.13893768079295174, 'subsample': 0.9934917432439166, 'colsample_bytree': 0.7260986269598726}.\n",
      "[I 2025-05-15 00:25:03,325] Trial 35 finished with values: [0.6628680311120506, 0.0218860215099972] and parameters: {'alpha': 0.47248465017543995, 'max_depth': 3, 'eta': 0.11734122577685552, 'subsample': 0.9748510840313105, 'colsample_bytree': 0.6554823052432418}.\n",
      "[I 2025-05-15 00:25:03,704] Trial 36 finished with values: [0.6935695839575043, 0.08515372199134581] and parameters: {'alpha': 0.9463798141570244, 'max_depth': 5, 'eta': 0.2647546587639298, 'subsample': 0.7890820463968631, 'colsample_bytree': 0.83061124291386}.\n",
      "[I 2025-05-15 00:25:04,086] Trial 37 finished with values: [0.6692904822735445, 0.03603054119181301] and parameters: {'alpha': 0.24463375190408188, 'max_depth': 4, 'eta': 0.27891894856231053, 'subsample': 0.8245361237286478, 'colsample_bytree': 0.792709981313327}.\n",
      "[I 2025-05-15 00:25:04,812] Trial 38 finished with values: [0.6678613988169088, 0.050991753264343666] and parameters: {'alpha': 0.7921839231323833, 'max_depth': 4, 'eta': 0.08846045009392704, 'subsample': 0.9252467474218882, 'colsample_bytree': 0.9434301175378568}.\n",
      "[I 2025-05-15 00:25:05,524] Trial 39 finished with values: [0.669302735936624, 0.030772198280355833] and parameters: {'alpha': 0.41852355671769415, 'max_depth': 3, 'eta': 0.057389973580488335, 'subsample': 0.6134865224759409, 'colsample_bytree': 0.904115490538621}.\n",
      "[I 2025-05-15 00:25:07,156] Trial 40 finished with values: [0.6585869075736829, 0.02933626439713813] and parameters: {'alpha': 0.16458197743561598, 'max_depth': 7, 'eta': 0.1048388320564781, 'subsample': 0.7202396549424573, 'colsample_bytree': 0.6417143029476801}.\n",
      "[I 2025-05-15 00:25:07,641] Trial 41 finished with values: [0.6671568131898429, 0.021257376765191672] and parameters: {'alpha': 0.05066882286817287, 'max_depth': 3, 'eta': 0.22892695359471005, 'subsample': 0.8796748061859834, 'colsample_bytree': 0.8012946456294685}.\n",
      "[I 2025-05-15 00:25:08,104] Trial 42 finished with values: [0.661435884239645, 0.042469005586322155] and parameters: {'alpha': 0.34798570843747545, 'max_depth': 4, 'eta': 0.09189524413548175, 'subsample': 0.701779419662343, 'colsample_bytree': 0.7956083204674916}.\n",
      "[I 2025-05-15 00:25:10,152] Trial 43 finished with values: [0.6914313197501478, 0.05587372693457341] and parameters: {'alpha': 0.8197901740562951, 'max_depth': 7, 'eta': 0.09768654185175936, 'subsample': 0.9663799100432333, 'colsample_bytree': 0.7185330476722938}.\n",
      "[I 2025-05-15 00:25:10,633] Trial 44 finished with values: [0.7178517490572339, 0.08545209613532974] and parameters: {'alpha': 0.8892470144264961, 'max_depth': 7, 'eta': 0.22882267818517205, 'subsample': 0.8931371482692403, 'colsample_bytree': 0.7712219746639629}.\n",
      "[I 2025-05-15 00:25:10,955] Trial 45 finished with values: [0.6785649735167706, 0.0378048479027904] and parameters: {'alpha': 0.5154259067467545, 'max_depth': 6, 'eta': 0.12868465031032436, 'subsample': 0.8048971177457325, 'colsample_bytree': 0.9371017489122369}.\n",
      "[I 2025-05-15 00:25:11,221] Trial 46 finished with values: [0.6714348733124408, 0.043074731705530445] and parameters: {'alpha': 0.4349596102915321, 'max_depth': 5, 'eta': 0.26946102291375146, 'subsample': 0.7809640548555912, 'colsample_bytree': 0.6239646364151962}.\n",
      "[I 2025-05-15 00:25:11,504] Trial 47 finished with values: [0.6807200865108612, 0.05932982807683764] and parameters: {'alpha': 0.6050965487476934, 'max_depth': 4, 'eta': 0.13052704036626692, 'subsample': 0.68197219151022, 'colsample_bytree': 0.9116789125615802}.\n",
      "[I 2025-05-15 00:25:11,807] Trial 48 finished with values: [0.6778603878897048, 0.039615037859846075] and parameters: {'alpha': 0.4221272531862392, 'max_depth': 6, 'eta': 0.13462881878198624, 'subsample': 0.8002160727509313, 'colsample_bytree': 0.8391144022313917}.\n",
      "[I 2025-05-15 00:25:12,101] Trial 49 finished with values: [0.6800017155128311, 0.03634386210607173] and parameters: {'alpha': 0.23051292299086779, 'max_depth': 6, 'eta': 0.21518218798714864, 'subsample': 0.8206191895689326, 'colsample_bytree': 0.8424566916484415}.\n",
      "[I 2025-05-15 00:25:12,429] Trial 50 finished with values: [0.6750221331789373, 0.04155113046289143] and parameters: {'alpha': 0.47248465017543995, 'max_depth': 3, 'eta': 0.11734122577685552, 'subsample': 0.6203243395652994, 'colsample_bytree': 0.6240487508182722}.\n",
      "[I 2025-05-15 00:25:12,855] Trial 51 finished with values: [0.6785726320561953, 0.04248307489818579] and parameters: {'alpha': 0.23051292299086779, 'max_depth': 6, 'eta': 0.2211314247795184, 'subsample': 0.7467526993332287, 'colsample_bytree': 0.980047387736372}.\n",
      "[I 2025-05-15 00:25:13,154] Trial 52 finished with values: [0.6657231346095523, 0.037578809523906874] and parameters: {'alpha': 0.24463375190408188, 'max_depth': 4, 'eta': 0.13462881878198624, 'subsample': 0.8245361237286478, 'colsample_bytree': 0.8391144022313917}.\n",
      "[I 2025-05-15 00:25:13,489] Trial 53 finished with values: [0.6764404946803785, 0.06599827736901222] and parameters: {'alpha': 0.41735112868800006, 'max_depth': 6, 'eta': 0.11734122577685552, 'subsample': 0.9748510840313105, 'colsample_bytree': 0.7540597375103688}.\n",
      "[I 2025-05-15 00:25:13,873] Trial 54 finished with values: [0.6907098853363477, 0.062338733895835115] and parameters: {'alpha': 0.5366139705605895, 'max_depth': 7, 'eta': 0.12873446060701071, 'subsample': 0.8088077500322763, 'colsample_bytree': 0.7540597375103688}.\n",
      "[I 2025-05-15 00:25:14,174] Trial 55 finished with values: [0.7135599035636716, 0.09124858161676351] and parameters: {'alpha': 0.6092561518199108, 'max_depth': 7, 'eta': 0.28704802333549073, 'subsample': 0.6891909515872665, 'colsample_bytree': 0.9492074973157507}.\n",
      "[I 2025-05-15 00:25:14,442] Trial 56 finished with values: [0.7007195963643381, 0.0586207003907119] and parameters: {'alpha': 0.9646708794923932, 'max_depth': 5, 'eta': 0.19039189345893598, 'subsample': 0.8438088653110281, 'colsample_bytree': 0.611858816055013}.\n",
      "[I 2025-05-15 00:25:15,029] Trial 57 finished with values: [0.6671491546504184, 0.02955950101366354] and parameters: {'alpha': 0.24748086673576375, 'max_depth': 4, 'eta': 0.13052704036626692, 'subsample': 0.68197219151022, 'colsample_bytree': 0.9116789125615802}.\n",
      "[I 2025-05-15 00:25:15,369] Trial 58 finished with values: [0.6771466120153292, 0.029393086510306088] and parameters: {'alpha': 0.20675949218162015, 'max_depth': 6, 'eta': 0.21518218798714864, 'subsample': 0.8199798599433339, 'colsample_bytree': 0.8252784160077375}.\n",
      "[I 2025-05-15 00:25:15,723] Trial 59 finished with values: [0.6628680311120506, 0.033267818251921044] and parameters: {'alpha': 0.9439792200674176, 'max_depth': 3, 'eta': 0.14003609762215957, 'subsample': 0.8296884475593053, 'colsample_bytree': 0.904115490538621}.\n",
      "[I 2025-05-15 00:25:16,157] Trial 60 finished with values: [0.6757098700192689, 0.04837495866218235] and parameters: {'alpha': 0.4221272531862392, 'max_depth': 6, 'eta': 0.09851616411967337, 'subsample': 0.8002160727509313, 'colsample_bytree': 0.9264342172165775}.\n",
      "[I 2025-05-15 00:25:16,489] Trial 61 finished with values: [0.6628695628199356, 0.03389617875979326] and parameters: {'alpha': 0.16458197743561598, 'max_depth': 3, 'eta': 0.16023426144167868, 'subsample': 0.7202396549424573, 'colsample_bytree': 0.8237540546310967}.\n",
      "[I 2025-05-15 00:25:17,209] Trial 62 finished with values: [0.6714318098966711, 0.055079324453105455] and parameters: {'alpha': 0.5366139705605895, 'max_depth': 5, 'eta': 0.12873446060701071, 'subsample': 0.8088077500322763, 'colsample_bytree': 0.7540597375103688}.\n",
      "[I 2025-05-15 00:25:17,586] Trial 63 finished with values: [0.6607251717810393, 0.038586064012867786] and parameters: {'alpha': 0.8197901740562951, 'max_depth': 3, 'eta': 0.09768654185175936, 'subsample': 0.844451288683024, 'colsample_bytree': 0.7185330476722938}.\n",
      "[I 2025-05-15 00:25:17,964] Trial 64 finished with values: [0.671433341604556, 0.04866039633918465] and parameters: {'alpha': 0.2019129454571954, 'max_depth': 7, 'eta': 0.2115092102708598, 'subsample': 0.8931371482692403, 'colsample_bytree': 0.7712219746639629}.\n",
      "[I 2025-05-15 00:25:18,243] Trial 65 finished with values: [0.6707149706065256, 0.04802662183653092] and parameters: {'alpha': 0.6835271721751287, 'max_depth': 3, 'eta': 0.2993996946257543, 'subsample': 0.7096850473007567, 'colsample_bytree': 0.7712219746639629}.\n",
      "[I 2025-05-15 00:25:18,742] Trial 66 finished with values: [0.6885670260053365, 0.07847256810816232] and parameters: {'alpha': 0.7921839231323833, 'max_depth': 6, 'eta': 0.08846045009392704, 'subsample': 0.9252467474218882, 'colsample_bytree': 0.9117198391851572}.\n",
      "[I 2025-05-15 00:25:19,005] Trial 67 finished with values: [0.6721517126025861, 0.048878250686047425] and parameters: {'alpha': 0.7458717145225128, 'max_depth': 3, 'eta': 0.2771916268759861, 'subsample': 0.8199798599433339, 'colsample_bytree': 0.8199521119293027}.\n",
      "[I 2025-05-15 00:25:19,351] Trial 68 finished with values: [0.6814461160483162, 0.06972496170785351] and parameters: {'alpha': 0.3991210158440538, 'max_depth': 3, 'eta': 0.28976540337251927, 'subsample': 0.6237175940845682, 'colsample_bytree': 0.9752553181536894}.\n",
      "[I 2025-05-15 00:25:20,062] Trial 69 finished with values: [0.6921405005008685, 0.07361910132001515] and parameters: {'alpha': 0.35297920477296796, 'max_depth': 6, 'eta': 0.2909397249492908, 'subsample': 0.7450141552786008, 'colsample_bytree': 0.9970305162743647}.\n",
      "[I 2025-05-15 00:25:20,358] Trial 70 finished with values: [0.6735762009355671, 0.04955600457499668] and parameters: {'alpha': 0.6050965487476934, 'max_depth': 4, 'eta': 0.13052704036626692, 'subsample': 0.6697809134858513, 'colsample_bytree': 0.9116789125615802}.\n",
      "[I 2025-05-15 00:25:20,917] Trial 71 finished with values: [0.6585777173263733, 0.04515706354382034] and parameters: {'alpha': 0.298728246915956, 'max_depth': 4, 'eta': 0.048015482322071965, 'subsample': 0.9663799100432333, 'colsample_bytree': 0.6763238319599587}.\n",
      "[I 2025-05-15 00:25:21,484] Trial 72 finished with values: [0.6750144746395126, 0.019581050333135803] and parameters: {'alpha': 0.24748086673576375, 'max_depth': 5, 'eta': 0.21573974070658614, 'subsample': 0.7967059772526129, 'colsample_bytree': 0.6238214747473796}.\n",
      "[I 2025-05-15 00:25:21,905] Trial 73 finished with values: [0.680724681634516, 0.06000045823771819] and parameters: {'alpha': 0.5154259067467545, 'max_depth': 6, 'eta': 0.12868465031032436, 'subsample': 0.6588702610731798, 'colsample_bytree': 0.9371017489122369}.\n",
      "[I 2025-05-15 00:25:22,379] Trial 74 finished with values: [0.6600113959066639, 0.02126295661828621] and parameters: {'alpha': 0.0640959340481203, 'max_depth': 7, 'eta': 0.25879187299914386, 'subsample': 0.7295205667561184, 'colsample_bytree': 0.7143379076221813}.\n",
      "[I 2025-05-15 00:25:22,843] Trial 75 finished with values: [0.6742915085178275, 0.05700533470431276] and parameters: {'alpha': 0.5540980831218205, 'max_depth': 7, 'eta': 0.12873446060701071, 'subsample': 0.6631816657250049, 'colsample_bytree': 0.6235223150830099}.\n",
      "[I 2025-05-15 00:25:23,629] Trial 76 finished with values: [0.7007165329485683, 0.06074798926276905] and parameters: {'alpha': 0.6092561518199108, 'max_depth': 6, 'eta': 0.2724171631899044, 'subsample': 0.8206191895689326, 'colsample_bytree': 0.8424566916484415}.\n",
      "[I 2025-05-15 00:25:24,030] Trial 77 finished with values: [0.7014333722387135, 0.07104955796558732] and parameters: {'alpha': 0.6835271721751287, 'max_depth': 5, 'eta': 0.2993996946257543, 'subsample': 0.7467526993332287, 'colsample_bytree': 0.6906607976060476}.\n",
      "[I 2025-05-15 00:25:24,586] Trial 78 finished with values: [0.6914313197501478, 0.05148364279558121] and parameters: {'alpha': 0.5211225303477509, 'max_depth': 7, 'eta': 0.14878015038659756, 'subsample': 0.9313600829313567, 'colsample_bytree': 0.611858816055013}.\n",
      "[I 2025-05-15 00:25:24,904] Trial 79 finished with values: [0.6821445748438424, 0.05615763907643411] and parameters: {'alpha': 0.23051292299086779, 'max_depth': 6, 'eta': 0.25879187299914386, 'subsample': 0.6771117498305153, 'colsample_bytree': 0.7910085303874099}.\n",
      "[I 2025-05-15 00:25:25,297] Trial 80 finished with values: [0.6985644833702475, 0.08064913283407395] and parameters: {'alpha': 0.7725592387321162, 'max_depth': 5, 'eta': 0.2993996946257543, 'subsample': 0.7983146992934836, 'colsample_bytree': 0.8916925654447283}.\n",
      "[I 2025-05-15 00:25:25,617] Trial 81 finished with values: [0.6907175438757723, 0.05448120437833568] and parameters: {'alpha': 0.6205813998381142, 'max_depth': 5, 'eta': 0.2993996946257543, 'subsample': 0.7096850473007567, 'colsample_bytree': 0.7151684145313815}.\n",
      "[I 2025-05-15 00:25:25,958] Trial 82 finished with values: [0.6721394589395068, 0.061701499507361736] and parameters: {'alpha': 0.5033630850144756, 'max_depth': 6, 'eta': 0.14878015038659756, 'subsample': 0.612915854299825, 'colsample_bytree': 0.7029592037201551}.\n",
      "[I 2025-05-15 00:25:26,254] Trial 83 finished with values: [0.6721425223552765, 0.028836013771987152] and parameters: {'alpha': 0.41852355671769415, 'max_depth': 5, 'eta': 0.15256174561154628, 'subsample': 0.8438088653110281, 'colsample_bytree': 0.9504428755066308}.\n",
      "[I 2025-05-15 00:25:26,552] Trial 84 finished with values: [0.680003247220716, 0.029482622494670558] and parameters: {'alpha': 0.23051292299086779, 'max_depth': 6, 'eta': 0.21518218798714864, 'subsample': 0.8206191895689326, 'colsample_bytree': 0.8610247377876235}.\n",
      "[I 2025-05-15 00:25:26,835] Trial 85 finished with values: [0.6743006987651371, 0.03874893095353247] and parameters: {'alpha': 0.2170094758469805, 'max_depth': 5, 'eta': 0.27891894856231053, 'subsample': 0.7890820463968631, 'colsample_bytree': 0.792709981313327}.\n",
      "[I 2025-05-15 00:25:27,881] Trial 86 finished with values: [0.6707226291459504, 0.012983203043084202] and parameters: {'alpha': 0.03417285297720973, 'max_depth': 7, 'eta': 0.22559053945727284, 'subsample': 0.6925253673518488, 'colsample_bytree': 0.6482599930718969}.\n",
      "[I 2025-05-15 00:25:28,081] Trial 87 finished with values: [0.6707195657301804, 0.029392165707159117] and parameters: {'alpha': 0.24748086673576375, 'max_depth': 4, 'eta': 0.12868465031032436, 'subsample': 0.7967059772526129, 'colsample_bytree': 0.6227786075680645}.\n",
      "[I 2025-05-15 00:25:28,190] Trial 88 finished with values: [0.6621588503613299, 0.02850776582106354] and parameters: {'alpha': 0.5625002350069815, 'max_depth': 3, 'eta': 0.09020227657096823, 'subsample': 0.9836117158731903, 'colsample_bytree': 0.7693077090101382}.\n",
      "[I 2025-05-15 00:25:28,341] Trial 89 finished with values: [0.6714318098966711, 0.05264366441376972] and parameters: {'alpha': 0.6350252029291995, 'max_depth': 4, 'eta': 0.09189524413548175, 'subsample': 0.9836117158731903, 'colsample_bytree': 0.7693077090101382}.\n",
      "[I 2025-05-15 00:25:28,632] Trial 90 finished with values: [0.6742869133941728, 0.04487957545960592] and parameters: {'alpha': 0.5276280749839246, 'max_depth': 5, 'eta': 0.12544558315975463, 'subsample': 0.8438088653110281, 'colsample_bytree': 0.9020367604357453}.\n",
      "[I 2025-05-15 00:25:28,912] Trial 91 finished with values: [0.6750083478079728, 0.019817544334430337] and parameters: {'alpha': 0.2019129454571954, 'max_depth': 7, 'eta': 0.11734122577685552, 'subsample': 0.7857462575987388, 'colsample_bytree': 0.6235223150830099}.\n",
      "[I 2025-05-15 00:25:29,019] Trial 92 finished with values: [0.6957093798727456, 0.09802954975855323] and parameters: {'alpha': 0.3991210158440538, 'max_depth': 7, 'eta': 0.2724171631899044, 'subsample': 0.6891909515872665, 'colsample_bytree': 0.9492074973157507}.\n",
      "[I 2025-05-15 00:25:29,126] Trial 93 finished with values: [0.6571547607012772, 0.02143457793960769] and parameters: {'alpha': 0.0640959340481203, 'max_depth': 4, 'eta': 0.09768654185175936, 'subsample': 0.9663799100432333, 'colsample_bytree': 0.7185330476722938}.\n",
      "[I 2025-05-15 00:25:29,269] Trial 94 finished with values: [0.6771558022626388, 0.019968638529689237] and parameters: {'alpha': 0.24748086673576375, 'max_depth': 3, 'eta': 0.2909397249492908, 'subsample': 0.6134865224759409, 'colsample_bytree': 0.7044589717773139}.\n",
      "[I 2025-05-15 00:25:29,425] Trial 95 finished with values: [0.669305799352394, 0.03246486743295268] and parameters: {'alpha': 0.47248465017543995, 'max_depth': 3, 'eta': 0.14878015038659756, 'subsample': 0.612915854299825, 'colsample_bytree': 0.6575959762750979}.\n",
      "[I 2025-05-15 00:25:29,708] Trial 96 finished with values: [0.6757190602665784, 0.048391404374648304] and parameters: {'alpha': 0.24748086673576375, 'max_depth': 4, 'eta': 0.08328890500864726, 'subsample': 0.8194268545167616, 'colsample_bytree': 0.9588464986105596}.\n",
      "[I 2025-05-15 00:25:30,006] Trial 97 finished with values: [0.7149874553124226, 0.07621842414181686] and parameters: {'alpha': 0.8656720350093294, 'max_depth': 7, 'eta': 0.2245733220748633, 'subsample': 0.9836117158731903, 'colsample_bytree': 0.7847169372694645}.\n",
      "[I 2025-05-15 00:25:30,105] Trial 98 finished with values: [0.6935588620023099, 0.0529145422797264] and parameters: {'alpha': 0.5564658611011942, 'max_depth': 7, 'eta': 0.23967917097361108, 'subsample': 0.7703024107742075, 'colsample_bytree': 0.9662735670269508}.\n",
      "[I 2025-05-15 00:25:30,186] Trial 99 finished with values: [0.6857119225078346, 0.06822985828811601] and parameters: {'alpha': 0.62136010042999, 'max_depth': 7, 'eta': 0.13725307993500838, 'subsample': 0.9934917432439166, 'colsample_bytree': 0.7260986269598726}.\n"
     ]
    },
    {
     "name": "stdout",
     "output_type": "stream",
     "text": [
      "Pareto-optimal solutions:\n",
      "Params: {'alpha': 0.949771839688359, 'max_depth': 7, 'eta': 0.28976540337251927, 'subsample': 0.6237175940845682, 'colsample_bytree': 0.9117198391851572}, Accuracy: 0.7200, DPD: 0.0691\n",
      "Params: {'alpha': 0.6205813998381142, 'max_depth': 5, 'eta': 0.22305705682721003, 'subsample': 0.8208929507370241, 'colsample_bytree': 0.7151684145313815}, Accuracy: 0.6871, DPD: 0.0509\n",
      "Params: {'alpha': 0.32246385915926223, 'max_depth': 7, 'eta': 0.25373919752102353, 'subsample': 0.6142096021547871, 'colsample_bytree': 0.6128323138461458}, Accuracy: 0.6814, DPD: 0.0438\n",
      "Params: {'alpha': 0.03417285297720973, 'max_depth': 7, 'eta': 0.22559053945727284, 'subsample': 0.6925253673518488, 'colsample_bytree': 0.6482599930718969}, Accuracy: 0.6707, DPD: 0.0130\n",
      "Params: {'alpha': 0.9646708794923932, 'max_depth': 5, 'eta': 0.19039189345893598, 'subsample': 0.8438088653110281, 'colsample_bytree': 0.611858816055013}, Accuracy: 0.7007, DPD: 0.0586\n",
      "Params: {'alpha': 0.24748086673576375, 'max_depth': 5, 'eta': 0.21573974070658614, 'subsample': 0.7967059772526129, 'colsample_bytree': 0.6238214747473796}, Accuracy: 0.6750, DPD: 0.0196\n",
      "Params: {'alpha': 0.5211225303477509, 'max_depth': 7, 'eta': 0.14878015038659756, 'subsample': 0.9313600829313567, 'colsample_bytree': 0.611858816055013}, Accuracy: 0.6914, DPD: 0.0515\n",
      "Params: {'alpha': 0.23051292299086779, 'max_depth': 6, 'eta': 0.21518218798714864, 'subsample': 0.8206191895689326, 'colsample_bytree': 0.8610247377876235}, Accuracy: 0.6800, DPD: 0.0295\n",
      "Params: {'alpha': 0.03417285297720973, 'max_depth': 7, 'eta': 0.22559053945727284, 'subsample': 0.6925253673518488, 'colsample_bytree': 0.6482599930718969}, Accuracy: 0.6707, DPD: 0.0130\n",
      "Params: {'alpha': 0.24748086673576375, 'max_depth': 3, 'eta': 0.2909397249492908, 'subsample': 0.6134865224759409, 'colsample_bytree': 0.7044589717773139}, Accuracy: 0.6772, DPD: 0.0200\n",
      "Params: {'alpha': 0.5564658611011942, 'max_depth': 7, 'eta': 0.23967917097361108, 'subsample': 0.7703024107742075, 'colsample_bytree': 0.9662735670269508}, Accuracy: 0.6936, DPD: 0.0529\n"
     ]
    }
   ],
   "source": [
    "\n",
    "# Create and run Optuna study for multi-objective optimization\n",
    "study = optuna.create_study(directions=['maximize', 'minimize'])\n",
    "study.optimize(objective, n_trials=100)\n",
    "\n",
    "# Collect Pareto front results\n",
    "results = []\n",
    "for trial in study.best_trials:  # Best trials are the Pareto-optimal ones\n",
    "    results.append({\n",
    "        'accuracy': trial.values[0],\n",
    "        'dpd': trial.values[1],\n",
    "        'alpha': trial.user_attrs['params']['alpha'],\n",
    "        'params': trial.user_attrs['params']\n",
    "    })\n",
    "\n",
    "# Print summary of Pareto-optimal results\n",
    "print(\"Pareto-optimal solutions:\")\n",
    "for res in results:\n",
    "    print(f\"Params: {res['params']}, Accuracy: {res['accuracy']:.4f}, DPD: {res['dpd']:.4f}\")\n",
    "\n",
    "# Prepare data for plotting\n",
    "plot_df = pd.DataFrame({\n",
    "    'DPD': [res['dpd'] for res in results],\n",
    "    'Accuracy': [res['accuracy'] for res in results],\n",
    "    'alpha': [res['alpha'] for res in results]\n",
    "})\n",
    "\n"
   ]
  },
  {
   "cell_type": "code",
   "execution_count": 8,
   "id": "151609dd",
   "metadata": {},
   "outputs": [
    {
     "data": {
      "application/vnd.plotly.v1+json": {
       "config": {
        "plotlyServerURL": "https://plot.ly"
       },
       "data": [
        {
         "customdata": {
          "bdata": "uPHD6Ydk7j9w8BmGzdvjP2bITnQ/o9Q/kHHlqxp/oT8tWdp2ld7uPwgHgvpzrc8/6qwhKAmt4D/gi8aMcoHNP5Bx5asaf6E/CAeC+nOtzz+5pFh+kc7hPw==",
          "dtype": "f8",
          "shape": "11, 1"
         },
         "hovertemplate": "DPD=%{x}<br>Accuracy=%{y}<br>alpha=%{marker.color}<extra></extra>",
         "legendgroup": "",
         "marker": {
          "color": {
           "bdata": "uPHD6Ydk7j9w8BmGzdvjP2bITnQ/o9Q/kHHlqxp/oT8tWdp2ld7uPwgHgvpzrc8/6qwhKAmt4D/gi8aMcoHNP5Bx5asaf6E/CAeC+nOtzz+5pFh+kc7hPw==",
           "dtype": "f8"
          },
          "coloraxis": "coloraxis",
          "line": {
           "width": 0
          },
          "symbol": "circle"
         },
         "mode": "markers",
         "name": "",
         "orientation": "v",
         "showlegend": false,
         "type": "scatter",
         "x": {
          "bdata": "jDJDZ6SxsT9lHWFG5g2qP5t2eAv+baY/wC69A/CWij/z6xdOiAOuP1VmNQsODZQ/6AMsZBBcqj/V4ahNsTCeP8AuvQPwloo/Jf+4pahylD8FAiZpnRerPw==",
          "dtype": "f8"
         },
         "xaxis": "x",
         "y": {
          "bdata": "hK1b+z4K5z/hxNz7G/3lP/VH1ixLzuU/y86bTY925T8Lo8GAS2zmPxDonPS3meU/YDk4kzQg5j+wk38rlsLlP8vOm02PduU/O3ggpUKr5T8o1MRaojHmPw==",
          "dtype": "f8"
         },
         "yaxis": "y"
        }
       ],
       "layout": {
        "coloraxis": {
         "colorbar": {
          "title": {
           "text": "alpha"
          }
         },
         "colorscale": [
          [
           0,
           "#440154"
          ],
          [
           0.1111111111111111,
           "#482878"
          ],
          [
           0.2222222222222222,
           "#3e4989"
          ],
          [
           0.3333333333333333,
           "#31688e"
          ],
          [
           0.4444444444444444,
           "#26828e"
          ],
          [
           0.5555555555555556,
           "#1f9e89"
          ],
          [
           0.6666666666666666,
           "#35b779"
          ],
          [
           0.7777777777777778,
           "#6ece58"
          ],
          [
           0.8888888888888888,
           "#b5de2b"
          ],
          [
           1,
           "#fde725"
          ]
         ]
        },
        "legend": {
         "tracegroupgap": 0
        },
        "template": {
         "data": {
          "bar": [
           {
            "error_x": {
             "color": "#2a3f5f"
            },
            "error_y": {
             "color": "#2a3f5f"
            },
            "marker": {
             "line": {
              "color": "#E5ECF6",
              "width": 0.5
             },
             "pattern": {
              "fillmode": "overlay",
              "size": 10,
              "solidity": 0.2
             }
            },
            "type": "bar"
           }
          ],
          "barpolar": [
           {
            "marker": {
             "line": {
              "color": "#E5ECF6",
              "width": 0.5
             },
             "pattern": {
              "fillmode": "overlay",
              "size": 10,
              "solidity": 0.2
             }
            },
            "type": "barpolar"
           }
          ],
          "carpet": [
           {
            "aaxis": {
             "endlinecolor": "#2a3f5f",
             "gridcolor": "white",
             "linecolor": "white",
             "minorgridcolor": "white",
             "startlinecolor": "#2a3f5f"
            },
            "baxis": {
             "endlinecolor": "#2a3f5f",
             "gridcolor": "white",
             "linecolor": "white",
             "minorgridcolor": "white",
             "startlinecolor": "#2a3f5f"
            },
            "type": "carpet"
           }
          ],
          "choropleth": [
           {
            "colorbar": {
             "outlinewidth": 0,
             "ticks": ""
            },
            "type": "choropleth"
           }
          ],
          "contour": [
           {
            "colorbar": {
             "outlinewidth": 0,
             "ticks": ""
            },
            "colorscale": [
             [
              0,
              "#0d0887"
             ],
             [
              0.1111111111111111,
              "#46039f"
             ],
             [
              0.2222222222222222,
              "#7201a8"
             ],
             [
              0.3333333333333333,
              "#9c179e"
             ],
             [
              0.4444444444444444,
              "#bd3786"
             ],
             [
              0.5555555555555556,
              "#d8576b"
             ],
             [
              0.6666666666666666,
              "#ed7953"
             ],
             [
              0.7777777777777778,
              "#fb9f3a"
             ],
             [
              0.8888888888888888,
              "#fdca26"
             ],
             [
              1,
              "#f0f921"
             ]
            ],
            "type": "contour"
           }
          ],
          "contourcarpet": [
           {
            "colorbar": {
             "outlinewidth": 0,
             "ticks": ""
            },
            "type": "contourcarpet"
           }
          ],
          "heatmap": [
           {
            "colorbar": {
             "outlinewidth": 0,
             "ticks": ""
            },
            "colorscale": [
             [
              0,
              "#0d0887"
             ],
             [
              0.1111111111111111,
              "#46039f"
             ],
             [
              0.2222222222222222,
              "#7201a8"
             ],
             [
              0.3333333333333333,
              "#9c179e"
             ],
             [
              0.4444444444444444,
              "#bd3786"
             ],
             [
              0.5555555555555556,
              "#d8576b"
             ],
             [
              0.6666666666666666,
              "#ed7953"
             ],
             [
              0.7777777777777778,
              "#fb9f3a"
             ],
             [
              0.8888888888888888,
              "#fdca26"
             ],
             [
              1,
              "#f0f921"
             ]
            ],
            "type": "heatmap"
           }
          ],
          "histogram": [
           {
            "marker": {
             "pattern": {
              "fillmode": "overlay",
              "size": 10,
              "solidity": 0.2
             }
            },
            "type": "histogram"
           }
          ],
          "histogram2d": [
           {
            "colorbar": {
             "outlinewidth": 0,
             "ticks": ""
            },
            "colorscale": [
             [
              0,
              "#0d0887"
             ],
             [
              0.1111111111111111,
              "#46039f"
             ],
             [
              0.2222222222222222,
              "#7201a8"
             ],
             [
              0.3333333333333333,
              "#9c179e"
             ],
             [
              0.4444444444444444,
              "#bd3786"
             ],
             [
              0.5555555555555556,
              "#d8576b"
             ],
             [
              0.6666666666666666,
              "#ed7953"
             ],
             [
              0.7777777777777778,
              "#fb9f3a"
             ],
             [
              0.8888888888888888,
              "#fdca26"
             ],
             [
              1,
              "#f0f921"
             ]
            ],
            "type": "histogram2d"
           }
          ],
          "histogram2dcontour": [
           {
            "colorbar": {
             "outlinewidth": 0,
             "ticks": ""
            },
            "colorscale": [
             [
              0,
              "#0d0887"
             ],
             [
              0.1111111111111111,
              "#46039f"
             ],
             [
              0.2222222222222222,
              "#7201a8"
             ],
             [
              0.3333333333333333,
              "#9c179e"
             ],
             [
              0.4444444444444444,
              "#bd3786"
             ],
             [
              0.5555555555555556,
              "#d8576b"
             ],
             [
              0.6666666666666666,
              "#ed7953"
             ],
             [
              0.7777777777777778,
              "#fb9f3a"
             ],
             [
              0.8888888888888888,
              "#fdca26"
             ],
             [
              1,
              "#f0f921"
             ]
            ],
            "type": "histogram2dcontour"
           }
          ],
          "mesh3d": [
           {
            "colorbar": {
             "outlinewidth": 0,
             "ticks": ""
            },
            "type": "mesh3d"
           }
          ],
          "parcoords": [
           {
            "line": {
             "colorbar": {
              "outlinewidth": 0,
              "ticks": ""
             }
            },
            "type": "parcoords"
           }
          ],
          "pie": [
           {
            "automargin": true,
            "type": "pie"
           }
          ],
          "scatter": [
           {
            "fillpattern": {
             "fillmode": "overlay",
             "size": 10,
             "solidity": 0.2
            },
            "type": "scatter"
           }
          ],
          "scatter3d": [
           {
            "line": {
             "colorbar": {
              "outlinewidth": 0,
              "ticks": ""
             }
            },
            "marker": {
             "colorbar": {
              "outlinewidth": 0,
              "ticks": ""
             }
            },
            "type": "scatter3d"
           }
          ],
          "scattercarpet": [
           {
            "marker": {
             "colorbar": {
              "outlinewidth": 0,
              "ticks": ""
             }
            },
            "type": "scattercarpet"
           }
          ],
          "scattergeo": [
           {
            "marker": {
             "colorbar": {
              "outlinewidth": 0,
              "ticks": ""
             }
            },
            "type": "scattergeo"
           }
          ],
          "scattergl": [
           {
            "marker": {
             "colorbar": {
              "outlinewidth": 0,
              "ticks": ""
             }
            },
            "type": "scattergl"
           }
          ],
          "scattermap": [
           {
            "marker": {
             "colorbar": {
              "outlinewidth": 0,
              "ticks": ""
             }
            },
            "type": "scattermap"
           }
          ],
          "scattermapbox": [
           {
            "marker": {
             "colorbar": {
              "outlinewidth": 0,
              "ticks": ""
             }
            },
            "type": "scattermapbox"
           }
          ],
          "scatterpolar": [
           {
            "marker": {
             "colorbar": {
              "outlinewidth": 0,
              "ticks": ""
             }
            },
            "type": "scatterpolar"
           }
          ],
          "scatterpolargl": [
           {
            "marker": {
             "colorbar": {
              "outlinewidth": 0,
              "ticks": ""
             }
            },
            "type": "scatterpolargl"
           }
          ],
          "scatterternary": [
           {
            "marker": {
             "colorbar": {
              "outlinewidth": 0,
              "ticks": ""
             }
            },
            "type": "scatterternary"
           }
          ],
          "surface": [
           {
            "colorbar": {
             "outlinewidth": 0,
             "ticks": ""
            },
            "colorscale": [
             [
              0,
              "#0d0887"
             ],
             [
              0.1111111111111111,
              "#46039f"
             ],
             [
              0.2222222222222222,
              "#7201a8"
             ],
             [
              0.3333333333333333,
              "#9c179e"
             ],
             [
              0.4444444444444444,
              "#bd3786"
             ],
             [
              0.5555555555555556,
              "#d8576b"
             ],
             [
              0.6666666666666666,
              "#ed7953"
             ],
             [
              0.7777777777777778,
              "#fb9f3a"
             ],
             [
              0.8888888888888888,
              "#fdca26"
             ],
             [
              1,
              "#f0f921"
             ]
            ],
            "type": "surface"
           }
          ],
          "table": [
           {
            "cells": {
             "fill": {
              "color": "#EBF0F8"
             },
             "line": {
              "color": "white"
             }
            },
            "header": {
             "fill": {
              "color": "#C8D4E3"
             },
             "line": {
              "color": "white"
             }
            },
            "type": "table"
           }
          ]
         },
         "layout": {
          "annotationdefaults": {
           "arrowcolor": "#2a3f5f",
           "arrowhead": 0,
           "arrowwidth": 1
          },
          "autotypenumbers": "strict",
          "coloraxis": {
           "colorbar": {
            "outlinewidth": 0,
            "ticks": ""
           }
          },
          "colorscale": {
           "diverging": [
            [
             0,
             "#8e0152"
            ],
            [
             0.1,
             "#c51b7d"
            ],
            [
             0.2,
             "#de77ae"
            ],
            [
             0.3,
             "#f1b6da"
            ],
            [
             0.4,
             "#fde0ef"
            ],
            [
             0.5,
             "#f7f7f7"
            ],
            [
             0.6,
             "#e6f5d0"
            ],
            [
             0.7,
             "#b8e186"
            ],
            [
             0.8,
             "#7fbc41"
            ],
            [
             0.9,
             "#4d9221"
            ],
            [
             1,
             "#276419"
            ]
           ],
           "sequential": [
            [
             0,
             "#0d0887"
            ],
            [
             0.1111111111111111,
             "#46039f"
            ],
            [
             0.2222222222222222,
             "#7201a8"
            ],
            [
             0.3333333333333333,
             "#9c179e"
            ],
            [
             0.4444444444444444,
             "#bd3786"
            ],
            [
             0.5555555555555556,
             "#d8576b"
            ],
            [
             0.6666666666666666,
             "#ed7953"
            ],
            [
             0.7777777777777778,
             "#fb9f3a"
            ],
            [
             0.8888888888888888,
             "#fdca26"
            ],
            [
             1,
             "#f0f921"
            ]
           ],
           "sequentialminus": [
            [
             0,
             "#0d0887"
            ],
            [
             0.1111111111111111,
             "#46039f"
            ],
            [
             0.2222222222222222,
             "#7201a8"
            ],
            [
             0.3333333333333333,
             "#9c179e"
            ],
            [
             0.4444444444444444,
             "#bd3786"
            ],
            [
             0.5555555555555556,
             "#d8576b"
            ],
            [
             0.6666666666666666,
             "#ed7953"
            ],
            [
             0.7777777777777778,
             "#fb9f3a"
            ],
            [
             0.8888888888888888,
             "#fdca26"
            ],
            [
             1,
             "#f0f921"
            ]
           ]
          },
          "colorway": [
           "#636efa",
           "#EF553B",
           "#00cc96",
           "#ab63fa",
           "#FFA15A",
           "#19d3f3",
           "#FF6692",
           "#B6E880",
           "#FF97FF",
           "#FECB52"
          ],
          "font": {
           "color": "#2a3f5f"
          },
          "geo": {
           "bgcolor": "white",
           "lakecolor": "white",
           "landcolor": "#E5ECF6",
           "showlakes": true,
           "showland": true,
           "subunitcolor": "white"
          },
          "hoverlabel": {
           "align": "left"
          },
          "hovermode": "closest",
          "mapbox": {
           "style": "light"
          },
          "paper_bgcolor": "white",
          "plot_bgcolor": "#E5ECF6",
          "polar": {
           "angularaxis": {
            "gridcolor": "white",
            "linecolor": "white",
            "ticks": ""
           },
           "bgcolor": "#E5ECF6",
           "radialaxis": {
            "gridcolor": "white",
            "linecolor": "white",
            "ticks": ""
           }
          },
          "scene": {
           "xaxis": {
            "backgroundcolor": "#E5ECF6",
            "gridcolor": "white",
            "gridwidth": 2,
            "linecolor": "white",
            "showbackground": true,
            "ticks": "",
            "zerolinecolor": "white"
           },
           "yaxis": {
            "backgroundcolor": "#E5ECF6",
            "gridcolor": "white",
            "gridwidth": 2,
            "linecolor": "white",
            "showbackground": true,
            "ticks": "",
            "zerolinecolor": "white"
           },
           "zaxis": {
            "backgroundcolor": "#E5ECF6",
            "gridcolor": "white",
            "gridwidth": 2,
            "linecolor": "white",
            "showbackground": true,
            "ticks": "",
            "zerolinecolor": "white"
           }
          },
          "shapedefaults": {
           "line": {
            "color": "#2a3f5f"
           }
          },
          "ternary": {
           "aaxis": {
            "gridcolor": "white",
            "linecolor": "white",
            "ticks": ""
           },
           "baxis": {
            "gridcolor": "white",
            "linecolor": "white",
            "ticks": ""
           },
           "bgcolor": "#E5ECF6",
           "caxis": {
            "gridcolor": "white",
            "linecolor": "white",
            "ticks": ""
           }
          },
          "title": {
           "x": 0.05
          },
          "xaxis": {
           "automargin": true,
           "gridcolor": "white",
           "linecolor": "white",
           "ticks": "",
           "title": {
            "standoff": 15
           },
           "zerolinecolor": "white",
           "zerolinewidth": 2
          },
          "yaxis": {
           "automargin": true,
           "gridcolor": "white",
           "linecolor": "white",
           "ticks": "",
           "title": {
            "standoff": 15
           },
           "zerolinecolor": "white",
           "zerolinewidth": 2
          }
         }
        },
        "title": {
         "text": "Pareto Front: DPD vs. Accuracy"
        },
        "xaxis": {
         "anchor": "y",
         "domain": [
          0,
          1
         ],
         "title": {
          "text": "DPD"
         }
        },
        "yaxis": {
         "anchor": "x",
         "domain": [
          0,
          1
         ],
         "title": {
          "text": "Accuracy"
         }
        }
       }
      }
     },
     "metadata": {},
     "output_type": "display_data"
    }
   ],
   "source": [
    "# Create interactive Plotly plot\n",
    "fig = px.scatter(\n",
    "    plot_df,\n",
    "    x='DPD',\n",
    "    y='Accuracy',\n",
    "    color='alpha',\n",
    "    color_continuous_scale='Viridis',\n",
    "    size_max=15,\n",
    "    hover_data={'alpha': True, 'DPD': True, 'Accuracy': True},\n",
    "    title='Pareto Front: DPD vs. Accuracy'\n",
    ")\n",
    "fig.update_traces(marker=dict(line_width=0))\n",
    "fig.show()"
   ]
  },
  {
   "cell_type": "code",
   "execution_count": null,
   "id": "e568ef11",
   "metadata": {},
   "outputs": [],
   "source": []
  }
 ],
 "metadata": {
  "kernelspec": {
   "display_name": "env",
   "language": "python",
   "name": "python3"
  },
  "language_info": {
   "codemirror_mode": {
    "name": "ipython",
    "version": 3
   },
   "file_extension": ".py",
   "mimetype": "text/x-python",
   "name": "python",
   "nbconvert_exporter": "python",
   "pygments_lexer": "ipython3",
   "version": "3.13.2"
  }
 },
 "nbformat": 4,
 "nbformat_minor": 5
}
