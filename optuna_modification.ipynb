{
 "cells": [
  {
   "cell_type": "code",
   "execution_count": 1,
   "id": "0fdd19d9",
   "metadata": {},
   "outputs": [
    {
     "name": "stderr",
     "output_type": "stream",
     "text": [
      "c:\\Users\\ayush\\OneDrive - iiit-b\\CollegeAcads\\Sem6\\MOML\\Project\\env\\Lib\\site-packages\\tqdm\\auto.py:21: TqdmWarning: IProgress not found. Please update jupyter and ipywidgets. See https://ipywidgets.readthedocs.io/en/stable/user_install.html\n",
      "  from .autonotebook import tqdm as notebook_tqdm\n"
     ]
    }
   ],
   "source": [
    "import numpy as np\n",
    "import pandas as pd\n",
    "import xgboost as xgb\n",
    "from sklearn.model_selection import KFold\n",
    "from sklearn.metrics import accuracy_score\n",
    "import optuna\n",
    "import plotly.express as px\n",
    "\n",
    "# Load and prepare data\n",
    "DATA_PATH = 'german_credit_data_cleaned.csv'\n",
    "df = pd.read_csv(DATA_PATH)\n",
    "y = df['Risk_good'].values\n",
    "X_full = df.drop(columns=['Risk_good'])\n",
    "sensitive = df['Sex_male'].values\n",
    "\n"
   ]
  },
  {
   "cell_type": "code",
   "execution_count": 13,
   "id": "fe121556",
   "metadata": {},
   "outputs": [],
   "source": [
    "# Define the custom objective function factory\n",
    "def make_custom_obj(sens_array, alpha=0.5):\n",
    "    def custom_obj(preds, dmatrix):\n",
    "        labels = dmatrix.get_label()\n",
    "        preds_prob = 1.0 / (1.0 + np.exp(-preds))\n",
    "        grad_log = preds_prob - labels\n",
    "        hess_log = preds_prob * (1.0 - preds_prob)\n",
    "        mask_p = (sens_array == 1)\n",
    "        mask_u = (sens_array == 0)\n",
    "        n_p, n_u = mask_p.sum(), mask_u.sum()\n",
    "        mean_p = preds_prob[mask_p].mean() if n_p > 0 else 0\n",
    "        mean_u = preds_prob[mask_u].mean() if n_u > 0 else 0\n",
    "        diff = mean_p - mean_u\n",
    "        sign = np.sign(diff)\n",
    "        sigmoid_deriv = preds_prob * (1.0 - preds_prob)\n",
    "        grad_fair = np.zeros_like(preds)\n",
    "        grad_fair[mask_p] = sign * (1.0 / n_p) * sigmoid_deriv[mask_p] if n_p > 0 else 0\n",
    "        grad_fair[mask_u] = -sign * (1.0 / n_u) * sigmoid_deriv[mask_u] if n_u > 0 else 0\n",
    "        hess_fair = np.zeros_like(preds)\n",
    "        grad = alpha * grad_log + (1 - alpha) * grad_fair\n",
    "        hess = alpha * hess_log + (1 - alpha) * hess_fair\n",
    "        return grad, hess\n",
    "    return custom_obj\n",
    "\n",
    "# Define the objective function for Optuna\n",
    "\n",
    "def create_objective_function(alpha):\n",
    "    def objective(trial):\n",
    "        # Suggest hyperparameters\n",
    "        # alpha = trial.suggest_float('alpha', 0.0, 1.0)\n",
    "        max_depth = trial.suggest_int('max_depth', 3, 7)\n",
    "        eta = trial.suggest_float('eta', 0.01, 0.3)\n",
    "        subsample = trial.suggest_float('subsample', 0.6, 1.0)\n",
    "        colsample_bytree = trial.suggest_float('colsample_bytree', 0.6, 1.0)\n",
    "\n",
    "        # Initialize cross-validation\n",
    "        kf = KFold(n_splits=3, shuffle=True, random_state=42)\n",
    "        acc_scores = []\n",
    "        dpd_scores = []\n",
    "\n",
    "        # Perform 3-fold cross-validation\n",
    "        for train_idx, val_idx in kf.split(X_full):\n",
    "            # Split data\n",
    "            X_train = X_full.iloc[train_idx].drop(columns=['Sex_male']).values\n",
    "            y_train = y[train_idx]\n",
    "            sens_train = sensitive[train_idx]\n",
    "            X_val = X_full.iloc[val_idx].drop(columns=['Sex_male']).values\n",
    "            y_val = y[val_idx]\n",
    "            sens_val = sensitive[val_idx]\n",
    "\n",
    "            # Create custom objective\n",
    "            train_obj = make_custom_obj(sens_train, alpha=alpha)\n",
    "\n",
    "            # Set up DMatrix\n",
    "            dtrain = xgb.DMatrix(X_train, label=y_train)\n",
    "            dval = xgb.DMatrix(X_val, label=y_val)\n",
    "\n",
    "            # Train the model\n",
    "            params = {\n",
    "                'max_depth': max_depth,\n",
    "                'eta': eta,\n",
    "                'subsample': subsample,\n",
    "                'colsample_bytree': colsample_bytree,\n",
    "                'verbosity': 0\n",
    "            }\n",
    "            bst = xgb.train(\n",
    "                params,\n",
    "                dtrain,\n",
    "                num_boost_round=100,\n",
    "                obj=train_obj,\n",
    "                evals=[(dtrain, 'train'), (dval, 'val')],\n",
    "                early_stopping_rounds=10,\n",
    "                verbose_eval=False\n",
    "            )\n",
    "\n",
    "            # Predict on validation set\n",
    "            pred_prob = bst.predict(dval)\n",
    "            pred = (pred_prob > 0.5).astype(int)\n",
    "\n",
    "            # Compute accuracy and DPD\n",
    "            acc = accuracy_score(y_val, pred)\n",
    "            dpd_val = abs(pred[sens_val == 1].mean() - pred[sens_val == 0].mean())\n",
    "            acc_scores.append(acc)\n",
    "            dpd_scores.append(dpd_val)\n",
    "\n",
    "        # Compute mean metrics across folds\n",
    "        mean_acc = np.mean(acc_scores)\n",
    "        mean_dpd = np.mean(dpd_scores)\n",
    "\n",
    "        # Store metrics for analysis\n",
    "        trial.set_user_attr('accuracy', mean_acc)\n",
    "        trial.set_user_attr('dpd', mean_dpd)\n",
    "        trial.set_user_attr('params', {\n",
    "            'alpha': alpha,\n",
    "            'max_depth': max_depth,\n",
    "            'eta': eta,\n",
    "            'subsample': subsample,\n",
    "            'colsample_bytree': colsample_bytree\n",
    "        })\n",
    "\n",
    "        return mean_acc, mean_dpd\n",
    "    return objective\n"
   ]
  },
  {
   "cell_type": "code",
   "execution_count": 28,
   "id": "b26f54e6",
   "metadata": {},
   "outputs": [
    {
     "name": "stderr",
     "output_type": "stream",
     "text": [
      "[I 2025-05-15 04:44:06,657] A new study created in memory with name: no-name-db0960c3-b8ac-4f70-b5e8-f76b1da2b646\n",
      "[I 2025-05-15 04:44:06,831] Trial 0 finished with values: [0.6978507074958721, 0.07921754396821991] and parameters: {'max_depth': 7, 'eta': 0.0140276496136848, 'subsample': 0.9730734246835414, 'colsample_bytree': 0.7493996073000908}.\n",
      "[I 2025-05-15 04:44:06,885] Trial 1 finished with values: [0.5000061268315397, 0.0] and parameters: {'max_depth': 3, 'eta': 0.18417884835987844, 'subsample': 0.9090853732103509, 'colsample_bytree': 0.7901593604495847}.\n",
      "[I 2025-05-15 04:44:06,964] Trial 2 finished with values: [0.6778711098448992, 0.046038774173198425] and parameters: {'max_depth': 7, 'eta': 0.14682206582840512, 'subsample': 0.6057373313664154, 'colsample_bytree': 0.633825626213555}.\n",
      "[I 2025-05-15 04:44:07,025] Trial 3 finished with values: [0.6735853911828767, 0.04017633670270396] and parameters: {'max_depth': 3, 'eta': 0.23858962210197768, 'subsample': 0.9174944015497418, 'colsample_bytree': 0.9549265082593844}.\n",
      "[I 2025-05-15 04:44:07,094] Trial 4 finished with values: [0.6821568285069217, 0.07378288324019495] and parameters: {'max_depth': 4, 'eta': 0.29780230685747733, 'subsample': 0.7362012784235783, 'colsample_bytree': 0.8267239943048019}.\n",
      "[I 2025-05-15 04:44:07,181] Trial 5 finished with values: [0.6750083478079728, 0.05025459677692034] and parameters: {'max_depth': 7, 'eta': 0.107650780131536, 'subsample': 0.697909904120338, 'colsample_bytree': 0.6445004778008802}.\n",
      "[I 2025-05-15 04:44:07,252] Trial 6 finished with values: [0.692854276375244, 0.06136366591194006] and parameters: {'max_depth': 4, 'eta': 0.28764117605408523, 'subsample': 0.9448369784642336, 'colsample_bytree': 0.9126395520111392}.\n",
      "[I 2025-05-15 04:44:07,338] Trial 7 finished with values: [0.6793001933015351, 0.05891147186612072] and parameters: {'max_depth': 6, 'eta': 0.12387382765672683, 'subsample': 0.633403203237494, 'colsample_bytree': 0.8391742988445758}.\n",
      "[I 2025-05-15 04:44:07,419] Trial 8 finished with values: [0.6750037526843181, 0.04430158679585839] and parameters: {'max_depth': 5, 'eta': 0.19520055834525474, 'subsample': 0.9951909717866385, 'colsample_bytree': 0.633632043245617}.\n",
      "[I 2025-05-15 04:44:07,510] Trial 9 finished with values: [0.6628649676962807, 0.04734460562489834] and parameters: {'max_depth': 4, 'eta': 0.058534141302743106, 'subsample': 0.6922279318152806, 'colsample_bytree': 0.7314113117384266}.\n",
      "[I 2025-05-15 04:44:07,623] Trial 10 finished with values: [0.6750068161000878, 0.06710541077182429] and parameters: {'max_depth': 7, 'eta': 0.04212452343326991, 'subsample': 0.8196105882565208, 'colsample_bytree': 0.8167996550476777}.\n",
      "[I 2025-05-15 04:44:07,697] Trial 11 finished with values: [0.6678736524799883, 0.030249178264261017] and parameters: {'max_depth': 3, 'eta': 0.1488718135760848, 'subsample': 0.7758678538240358, 'colsample_bytree': 0.7225920183916442}.\n",
      "[I 2025-05-15 04:44:07,803] Trial 12 finished with values: [0.6807185548029765, 0.07873597115507208] and parameters: {'max_depth': 6, 'eta': 0.08971635026419615, 'subsample': 0.9167627367686685, 'colsample_bytree': 0.8548739208720288}.\n",
      "[I 2025-05-15 04:44:07,945] Trial 13 finished with values: [0.6707287559774899, 0.05063932422625697] and parameters: {'max_depth': 6, 'eta': 0.02327881349904304, 'subsample': 0.740357241943461, 'colsample_bytree': 0.727810103788255}.\n",
      "[I 2025-05-15 04:44:08,068] Trial 14 finished with values: [0.6642940511529165, 0.047580865589174105] and parameters: {'max_depth': 5, 'eta': 0.05669492495130666, 'subsample': 0.6642691510232251, 'colsample_bytree': 0.8441932111932682}.\n",
      "[I 2025-05-15 04:44:08,177] Trial 15 finished with values: [0.6564409848269017, 0.02047820628665688] and parameters: {'max_depth': 3, 'eta': 0.04096435071308146, 'subsample': 0.7568939134695711, 'colsample_bytree': 0.8307380428052865}.\n",
      "[I 2025-05-15 04:44:08,283] Trial 16 finished with values: [0.6535966032845943, 0.03819572026621398] and parameters: {'max_depth': 3, 'eta': 0.02993618780710399, 'subsample': 0.911555323045722, 'colsample_bytree': 0.7371313564250227}.\n",
      "[I 2025-05-15 04:44:08,364] Trial 17 finished with values: [0.6592960883244036, 0.02152924062820391] and parameters: {'max_depth': 3, 'eta': 0.10396925471067996, 'subsample': 0.9775169715262054, 'colsample_bytree': 0.6937556495019752}.\n",
      "[I 2025-05-15 04:44:08,474] Trial 18 finished with values: [0.6642955828608015, 0.03265114180154663] and parameters: {'max_depth': 4, 'eta': 0.0652972768365685, 'subsample': 0.7337224504216363, 'colsample_bytree': 0.998883777087196}.\n",
      "[I 2025-05-15 04:44:08,582] Trial 19 finished with values: [0.6785726320561953, 0.06375413043829839] and parameters: {'max_depth': 6, 'eta': 0.17151060123500972, 'subsample': 0.9005048652332784, 'colsample_bytree': 0.711120517187142}.\n",
      "[I 2025-05-15 04:44:08,676] Trial 20 finished with values: [0.6757159968508085, 0.039925121658553143] and parameters: {'max_depth': 4, 'eta': 0.20597081030650466, 'subsample': 0.6554950837267247, 'colsample_bytree': 0.835554713524889}.\n",
      "[I 2025-05-15 04:44:08,790] Trial 21 finished with values: [0.6700103849794597, 0.04280625400142632] and parameters: {'max_depth': 5, 'eta': 0.035948900889756226, 'subsample': 0.7442504841311635, 'colsample_bytree': 0.6750582355210364}.\n",
      "[I 2025-05-15 04:44:08,895] Trial 22 finished with values: [0.688573152836876, 0.07765564049444713] and parameters: {'max_depth': 7, 'eta': 0.21573392339184963, 'subsample': 0.8375327622104956, 'colsample_bytree': 0.9535044617710127}.\n",
      "[I 2025-05-15 04:44:09,029] Trial 23 finished with values: [0.6721532443104711, 0.0447545368012743] and parameters: {'max_depth': 6, 'eta': 0.05726043196017906, 'subsample': 0.6289945251998013, 'colsample_bytree': 0.7189954168544037}.\n",
      "[I 2025-05-15 04:44:09,140] Trial 24 finished with values: [0.6907068219205779, 0.07902403014850133] and parameters: {'max_depth': 7, 'eta': 0.14555328999114867, 'subsample': 0.977117631633641, 'colsample_bytree': 0.7457412289596103}.\n",
      "[I 2025-05-15 04:44:09,248] Trial 25 finished with values: [0.6778573244739349, 0.05369638610344305] and parameters: {'max_depth': 4, 'eta': 0.2664527226676502, 'subsample': 0.7025190754765533, 'colsample_bytree': 0.9260498922321676}.\n",
      "[I 2025-05-15 04:44:09,362] Trial 26 finished with values: [0.6700119166873447, 0.07307360664002764] and parameters: {'max_depth': 5, 'eta': 0.08593729802248143, 'subsample': 0.9136014408703858, 'colsample_bytree': 0.8130360743010132}.\n",
      "[I 2025-05-15 04:44:09,479] Trial 27 finished with values: [0.6742869133941728, 0.03982085377615994] and parameters: {'max_depth': 6, 'eta': 0.10448317049234515, 'subsample': 0.6757539900821352, 'colsample_bytree': 0.9264027276489771}.\n",
      "[I 2025-05-15 04:44:09,611] Trial 28 finished with values: [0.6664277202366181, 0.05721836024607579] and parameters: {'max_depth': 7, 'eta': 0.06573246467881211, 'subsample': 0.712379619254545, 'colsample_bytree': 0.8822780071065309}.\n",
      "[I 2025-05-15 04:44:09,720] Trial 29 finished with values: [0.6878639720861556, 0.06576191978309782] and parameters: {'max_depth': 5, 'eta': 0.26284072432439615, 'subsample': 0.8435595489443102, 'colsample_bytree': 0.6873368761214974}.\n",
      "[I 2025-05-15 04:44:09,840] Trial 30 finished with values: [0.6714287464809011, 0.04211623086931073] and parameters: {'max_depth': 6, 'eta': 0.09062141155114703, 'subsample': 0.850280659114794, 'colsample_bytree': 0.6971198542058952}.\n",
      "[I 2025-05-15 04:44:09,993] Trial 31 finished with values: [0.6642971145686865, 0.04292972921898616] and parameters: {'max_depth': 7, 'eta': 0.035865344793593726, 'subsample': 0.8546587114816615, 'colsample_bytree': 0.6388989726150607}.\n",
      "[I 2025-05-15 04:44:10,114] Trial 32 finished with values: [0.6778557927660499, 0.05857102117335807] and parameters: {'max_depth': 7, 'eta': 0.15389817189701732, 'subsample': 0.6189620760205697, 'colsample_bytree': 0.8494801927032756}.\n",
      "[I 2025-05-15 04:44:10,243] Trial 33 finished with values: [0.6771404851837897, 0.06131506673214813] and parameters: {'max_depth': 7, 'eta': 0.12202076900819851, 'subsample': 0.7812977025688245, 'colsample_bytree': 0.9138241325905517}.\n",
      "[I 2025-05-15 04:44:10,372] Trial 34 finished with values: [0.6628710945278204, 0.049920608114469876] and parameters: {'max_depth': 4, 'eta': 0.032737341220543836, 'subsample': 0.7655610056900326, 'colsample_bytree': 0.8314452489790993}.\n",
      "[I 2025-05-15 04:44:10,494] Trial 35 finished with values: [0.6800078423443708, 0.04057303077310651] and parameters: {'max_depth': 6, 'eta': 0.16228053449961663, 'subsample': 0.756807431936022, 'colsample_bytree': 0.6037557523698265}.\n",
      "[I 2025-05-15 04:44:10,628] Trial 36 finished with values: [0.6721379272316218, 0.03408718713938653] and parameters: {'max_depth': 7, 'eta': 0.06752030524783807, 'subsample': 0.7228326827309361, 'colsample_bytree': 0.8899310150865387}.\n",
      "[I 2025-05-15 04:44:10,748] Trial 37 finished with values: [0.6657231346095523, 0.03126747699126899] and parameters: {'max_depth': 5, 'eta': 0.1276642021131856, 'subsample': 0.7163779658613261, 'colsample_bytree': 0.6701558985135873}.\n",
      "[I 2025-05-15 04:44:10,868] Trial 38 finished with values: [0.665007827027292, 0.04828346738287446] and parameters: {'max_depth': 3, 'eta': 0.2126927976346935, 'subsample': 0.8084393977084372, 'colsample_bytree': 0.9384719948883816}.\n",
      "[I 2025-05-15 04:44:11,006] Trial 39 finished with values: [0.6893022457901008, 0.05559089483324738] and parameters: {'max_depth': 6, 'eta': 0.09251777714733435, 'subsample': 0.6029080603388755, 'colsample_bytree': 0.9005279355380043}.\n",
      "[I 2025-05-15 04:44:11,165] Trial 40 finished with values: [0.6728654884769615, 0.04406264843538857] and parameters: {'max_depth': 4, 'eta': 0.24811336201768078, 'subsample': 0.9709570655727853, 'colsample_bytree': 0.6201380273684607}.\n",
      "[I 2025-05-15 04:44:11,301] Trial 41 finished with values: [0.6685751746912842, 0.042430703196740416] and parameters: {'max_depth': 4, 'eta': 0.09251155622634065, 'subsample': 0.9510118069363183, 'colsample_bytree': 0.6078484846515891}.\n",
      "[I 2025-05-15 04:44:11,448] Trial 42 finished with values: [0.6871517279196651, 0.07157384611125593] and parameters: {'max_depth': 7, 'eta': 0.26033606588196057, 'subsample': 0.7488341613212788, 'colsample_bytree': 0.8018644437557516}.\n",
      "[I 2025-05-15 04:44:11,611] Trial 43 finished with values: [0.6771512071389841, 0.043185244301194026] and parameters: {'max_depth': 6, 'eta': 0.1346924497628744, 'subsample': 0.8888663587479391, 'colsample_bytree': 0.6902689077173073}.\n",
      "[I 2025-05-15 04:44:11,797] Trial 44 finished with values: [0.6814323306773519, 0.043412221437341775] and parameters: {'max_depth': 4, 'eta': 0.28018057676198416, 'subsample': 0.6501045846280274, 'colsample_bytree': 0.7317905189796626}.\n",
      "[I 2025-05-15 04:44:11,937] Trial 45 finished with values: [0.6814415209246615, 0.07216065565401479] and parameters: {'max_depth': 5, 'eta': 0.15300128977805752, 'subsample': 0.8250038193438736, 'colsample_bytree': 0.7504940409424615}.\n",
      "[I 2025-05-15 04:44:12,075] Trial 46 finished with values: [0.6864394837531744, 0.06740547067469843] and parameters: {'max_depth': 5, 'eta': 0.2684838837449304, 'subsample': 0.7354636885838484, 'colsample_bytree': 0.7486152692627474}.\n",
      "[I 2025-05-15 04:44:12,212] Trial 47 finished with values: [0.665009358735177, 0.020684423120485202] and parameters: {'max_depth': 3, 'eta': 0.12047142085880358, 'subsample': 0.7180929844775004, 'colsample_bytree': 0.6746901053072828}.\n",
      "[I 2025-05-15 04:44:12,364] Trial 48 finished with values: [0.6657200711937824, 0.06612883765586243] and parameters: {'max_depth': 4, 'eta': 0.06609301841172394, 'subsample': 0.9282989894716817, 'colsample_bytree': 0.763503686905165}.\n",
      "[I 2025-05-15 04:44:12,514] Trial 49 finished with values: [0.6978568343274117, 0.08134211514348637] and parameters: {'max_depth': 7, 'eta': 0.2304400249507259, 'subsample': 0.8486194975103121, 'colsample_bytree': 0.8345402117370833}.\n",
      "[I 2025-05-15 04:44:12,664] Trial 50 finished with values: [0.6671598766056128, 0.018881030349699596] and parameters: {'max_depth': 3, 'eta': 0.12387382765672683, 'subsample': 0.633403203237494, 'colsample_bytree': 0.9384719948883816}.\n",
      "[I 2025-05-15 04:44:12,830] Trial 51 finished with values: [0.663583338694311, 0.05803752095802598] and parameters: {'max_depth': 4, 'eta': 0.035948900889756226, 'subsample': 0.6501045846280274, 'colsample_bytree': 0.7317905189796626}.\n",
      "[I 2025-05-15 04:44:12,982] Trial 52 finished with values: [0.6850088685886537, 0.06511885718518444] and parameters: {'max_depth': 6, 'eta': 0.28018057676198416, 'subsample': 0.6501045846280274, 'colsample_bytree': 0.7317905189796626}.\n",
      "[I 2025-05-15 04:44:13,156] Trial 53 finished with values: [0.6707241608538353, 0.029612259943967212] and parameters: {'max_depth': 5, 'eta': 0.06573246467881211, 'subsample': 0.7354636885838484, 'colsample_bytree': 0.8822780071065309}.\n",
      "[I 2025-05-15 04:44:13,312] Trial 54 finished with values: [0.6721455857710463, 0.04293637341601014] and parameters: {'max_depth': 5, 'eta': 0.2664527226676502, 'subsample': 0.9951909717866385, 'colsample_bytree': 0.633632043245617}.\n",
      "[I 2025-05-15 04:44:13,479] Trial 55 finished with values: [0.6657261980253223, 0.02683561786922911] and parameters: {'max_depth': 7, 'eta': 0.14682206582840512, 'subsample': 0.6057373313664154, 'colsample_bytree': 0.633825626213555}.\n",
      "[I 2025-05-15 04:44:13,647] Trial 56 finished with values: [0.674300698765137, 0.03642163403618411] and parameters: {'max_depth': 5, 'eta': 0.08593729802248143, 'subsample': 0.6840334224294841, 'colsample_bytree': 0.8523512591997684}.\n",
      "[I 2025-05-15 04:44:13,805] Trial 57 finished with values: [0.6757175285586935, 0.052742002254322] and parameters: {'max_depth': 6, 'eta': 0.16228053449961663, 'subsample': 0.740357241943461, 'colsample_bytree': 0.8985403268675995}.\n",
      "[I 2025-05-15 04:44:13,961] Trial 58 finished with values: [0.6614328208238751, 0.021462463158950118] and parameters: {'max_depth': 3, 'eta': 0.107650780131536, 'subsample': 0.818980649857644, 'colsample_bytree': 0.6746901053072828}.\n",
      "[I 2025-05-15 04:44:14,119] Trial 59 finished with values: [0.6642848609056069, 0.021783936886965855] and parameters: {'max_depth': 5, 'eta': 0.19520055834525474, 'subsample': 0.9951909717866385, 'colsample_bytree': 0.633632043245617}.\n",
      "[I 2025-05-15 04:44:14,284] Trial 60 finished with values: [0.6685782381070542, 0.022582338092701066] and parameters: {'max_depth': 6, 'eta': 0.19520055834525474, 'subsample': 0.9951909717866385, 'colsample_bytree': 0.633632043245617}.\n",
      "[I 2025-05-15 04:44:14,449] Trial 61 finished with values: [0.6793017250094199, 0.05900350941205385] and parameters: {'max_depth': 4, 'eta': 0.28463153472753805, 'subsample': 0.6554950837267247, 'colsample_bytree': 0.7317905189796626}.\n",
      "[I 2025-05-15 04:44:14,618] Trial 62 finished with values: [0.6742869133941728, 0.01945514768714614] and parameters: {'max_depth': 7, 'eta': 0.1639491301152995, 'subsample': 0.829093998547866, 'colsample_bytree': 0.6750582355210364}.\n",
      "[I 2025-05-15 04:44:14,836] Trial 63 finished with values: [0.6650124221509468, 0.047396477788492784] and parameters: {'max_depth': 5, 'eta': 0.05669492495130666, 'subsample': 0.7914507551924853, 'colsample_bytree': 0.8441932111932682}.\n",
      "[I 2025-05-15 04:44:14,998] Trial 64 finished with values: [0.6657216029016675, 0.02640987987309869] and parameters: {'max_depth': 3, 'eta': 0.10014439643762259, 'subsample': 0.8209581121266448, 'colsample_bytree': 0.6101473402593375}.\n",
      "[I 2025-05-15 04:44:15,174] Trial 65 finished with values: [0.6771466120153292, 0.03767925387212876] and parameters: {'max_depth': 7, 'eta': 0.09251777714733435, 'subsample': 0.7812977025688245, 'colsample_bytree': 0.9138241325905517}.\n",
      "[I 2025-05-15 04:44:15,351] Trial 66 finished with values: [0.6642909877371467, 0.04035901391870033] and parameters: {'max_depth': 4, 'eta': 0.06609301841172394, 'subsample': 0.9282989894716817, 'colsample_bytree': 0.763503686905165}.\n",
      "[I 2025-05-15 04:44:15,516] Trial 67 finished with values: [0.6657231346095523, 0.0404880282673341] and parameters: {'max_depth': 4, 'eta': 0.20597081030650466, 'subsample': 0.9282989894716817, 'colsample_bytree': 0.835554713524889}.\n",
      "[I 2025-05-15 04:44:15,675] Trial 68 finished with values: [0.668579769814939, 0.037569763527486866] and parameters: {'max_depth': 4, 'eta': 0.23665654131525726, 'subsample': 0.7442504841311635, 'colsample_bytree': 0.6201380273684607}.\n",
      "[I 2025-05-15 04:44:15,840] Trial 69 finished with values: [0.680724681634516, 0.057226455590188595] and parameters: {'max_depth': 5, 'eta': 0.19520055834525474, 'subsample': 0.7354636885838484, 'colsample_bytree': 0.7486152692627474}.\n",
      "[I 2025-05-15 04:44:16,025] Trial 70 finished with values: [0.6657261980253223, 0.02735014603407961] and parameters: {'max_depth': 6, 'eta': 0.06573246467881211, 'subsample': 0.7110002295680385, 'colsample_bytree': 0.711120517187142}.\n",
      "[I 2025-05-15 04:44:16,263] Trial 71 finished with values: [0.6621496601140203, 0.05178820398475978] and parameters: {'max_depth': 7, 'eta': 0.0140276496136848, 'subsample': 0.9730734246835414, 'colsample_bytree': 0.7493996073000908}.\n",
      "[I 2025-05-15 04:44:16,452] Trial 72 finished with values: [0.6564409848269017, 0.05972184317461543] and parameters: {'max_depth': 4, 'eta': 0.032737341220543836, 'subsample': 0.9510118069363183, 'colsample_bytree': 0.7785277205183925}.\n",
      "[I 2025-05-15 04:44:16,632] Trial 73 finished with values: [0.6764267093094142, 0.04210364490916052] and parameters: {'max_depth': 7, 'eta': 0.15389817189701732, 'subsample': 0.6189620760205697, 'colsample_bytree': 0.8494801927032756}.\n",
      "[I 2025-05-15 04:44:16,804] Trial 74 finished with values: [0.6635664899075767, 0.02065154880124555] and parameters: {'max_depth': 4, 'eta': 0.14492678418333352, 'subsample': 0.7362012784235783, 'colsample_bytree': 0.7200887630112376}.\n",
      "[I 2025-05-15 04:44:16,986] Trial 75 finished with values: [0.672154776018356, 0.05271848296955642] and parameters: {'max_depth': 5, 'eta': 0.18619992025573961, 'subsample': 0.7025190754765533, 'colsample_bytree': 0.9260498922321676}.\n",
      "[I 2025-05-15 04:44:17,236] Trial 76 finished with values: [0.6778634513054747, 0.046139447948435476] and parameters: {'max_depth': 5, 'eta': 0.2664527226676502, 'subsample': 0.8105928038792746, 'colsample_bytree': 0.9260498922321676}.\n",
      "[I 2025-05-15 04:44:17,428] Trial 77 finished with values: [0.6671614083134978, 0.052351747183239185] and parameters: {'max_depth': 3, 'eta': 0.2748168202707023, 'subsample': 0.7228326827309361, 'colsample_bytree': 0.8899310150865387}.\n",
      "[I 2025-05-15 04:44:17,615] Trial 78 finished with values: [0.6678690573563335, 0.029439629008964584] and parameters: {'max_depth': 3, 'eta': 0.10396925471067996, 'subsample': 0.7354636885838484, 'colsample_bytree': 0.7486152692627474}.\n",
      "[I 2025-05-15 04:44:17,833] Trial 79 finished with values: [0.6692966091050844, 0.034293016144900074] and parameters: {'max_depth': 5, 'eta': 0.05726043196017906, 'subsample': 0.6289945251998013, 'colsample_bytree': 0.8478839926025179}.\n",
      "[I 2025-05-15 04:44:18,033] Trial 80 finished with values: [0.6642894560292617, 0.023777622258144337] and parameters: {'max_depth': 5, 'eta': 0.1276642021131856, 'subsample': 0.7163779658613261, 'colsample_bytree': 0.6701558985135873}.\n",
      "[I 2025-05-15 04:44:18,261] Trial 81 finished with values: [0.6478695475028565, 0.033237509875555314] and parameters: {'max_depth': 3, 'eta': 0.02993618780710399, 'subsample': 0.911555323045722, 'colsample_bytree': 0.7371313564250227}.\n",
      "[I 2025-05-15 04:44:18,487] Trial 82 finished with values: [0.6692874188577748, 0.026916002034737613] and parameters: {'max_depth': 6, 'eta': 0.20110147696686928, 'subsample': 0.756807431936022, 'colsample_bytree': 0.6902689077173073}.\n",
      "[I 2025-05-15 04:44:18,726] Trial 83 finished with values: [0.6742976353493672, 0.03897092708445282] and parameters: {'max_depth': 5, 'eta': 0.2198558068742816, 'subsample': 0.9370209117109939, 'colsample_bytree': 0.7486152692627474}.\n",
      "[I 2025-05-15 04:44:18,947] Trial 84 finished with values: [0.6793047884251898, 0.018127609784695797] and parameters: {'max_depth': 7, 'eta': 0.06573246467881211, 'subsample': 0.6922279318152806, 'colsample_bytree': 0.8822780071065309}.\n",
      "[I 2025-05-15 04:44:19,119] Trial 85 finished with values: [0.6714318098966711, 0.04081195299893531] and parameters: {'max_depth': 4, 'eta': 0.2738541866153562, 'subsample': 0.8337340763469578, 'colsample_bytree': 0.8267239943048019}.\n",
      "[I 2025-05-15 04:44:19,286] Trial 86 finished with values: [0.663581806986426, 0.02384704201157518] and parameters: {'max_depth': 3, 'eta': 0.1346924497628744, 'subsample': 0.8888663587479391, 'colsample_bytree': 0.6902689077173073}.\n",
      "[I 2025-05-15 04:44:19,460] Trial 87 finished with values: [0.6871486645038951, 0.05116279454717756] and parameters: {'max_depth': 6, 'eta': 0.22483278349102748, 'subsample': 0.850280659114794, 'colsample_bytree': 0.9825458199794562}.\n",
      "[I 2025-05-15 04:44:19,646] Trial 88 finished with values: [0.6714379367282106, 0.05110793740646757] and parameters: {'max_depth': 4, 'eta': 0.28018057676198416, 'subsample': 0.7337224504216363, 'colsample_bytree': 0.8886319492987498}.\n",
      "[I 2025-05-15 04:44:19,831] Trial 89 finished with values: [0.6750083478079728, 0.049035856433892994] and parameters: {'max_depth': 6, 'eta': 0.18012108137221977, 'subsample': 0.911555323045722, 'colsample_bytree': 0.7371313564250227}.\n",
      "[I 2025-05-15 04:44:20,011] Trial 90 finished with values: [0.6692950773971994, 0.05740469003757046] and parameters: {'max_depth': 5, 'eta': 0.15300128977805752, 'subsample': 0.8250038193438736, 'colsample_bytree': 0.7504940409424615}.\n",
      "[I 2025-05-15 04:44:20,201] Trial 91 finished with values: [0.6764343678488388, 0.045210454198904904] and parameters: {'max_depth': 6, 'eta': 0.14555328999114867, 'subsample': 0.977117631633641, 'colsample_bytree': 0.9662397304247863}.\n",
      "[I 2025-05-15 04:44:20,385] Trial 92 finished with values: [0.677152738846869, 0.0538551295610882] and parameters: {'max_depth': 5, 'eta': 0.21573392339184963, 'subsample': 0.9006877391838406, 'colsample_bytree': 0.8267239943048019}.\n",
      "[I 2025-05-15 04:44:20,570] Trial 93 finished with values: [0.6607221083652695, 0.03487240941424582] and parameters: {'max_depth': 3, 'eta': 0.08561312107055981, 'subsample': 0.7581288071952098, 'colsample_bytree': 0.7901593604495847}.\n",
      "[I 2025-05-15 04:44:20,777] Trial 94 finished with values: [0.668584364938594, 0.04255477267564859] and parameters: {'max_depth': 6, 'eta': 0.05726043196017906, 'subsample': 0.8317618981506907, 'colsample_bytree': 0.6078484846515891}.\n",
      "[I 2025-05-15 04:44:20,963] Trial 95 finished with values: [0.6700088532715749, 0.03387399450517017] and parameters: {'max_depth': 5, 'eta': 0.26284072432439615, 'subsample': 0.7180929844775004, 'colsample_bytree': 0.6746901053072828}.\n",
      "[I 2025-05-15 04:44:21,157] Trial 96 finished with values: [0.6864425471689444, 0.03270530065446368] and parameters: {'max_depth': 4, 'eta': 0.2304400249507259, 'subsample': 0.8546587114816615, 'colsample_bytree': 0.6388989726150607}.\n",
      "[I 2025-05-15 04:44:21,351] Trial 97 finished with values: [0.6742976353493674, 0.03126475344319978] and parameters: {'max_depth': 5, 'eta': 0.15300128977805752, 'subsample': 0.7362012784235783, 'colsample_bytree': 0.8267239943048019}.\n",
      "[I 2025-05-15 04:44:21,553] Trial 98 finished with values: [0.6678690573563335, 0.028966636138485213] and parameters: {'max_depth': 6, 'eta': 0.05670434698612666, 'subsample': 0.6757539900821352, 'colsample_bytree': 0.633825626213555}.\n",
      "[I 2025-05-15 04:44:21,730] Trial 99 finished with values: [0.6614420110711846, 0.025822829897879335] and parameters: {'max_depth': 3, 'eta': 0.12047142085880358, 'subsample': 0.7180929844775004, 'colsample_bytree': 0.7457412289596103}.\n",
      "[I 2025-05-15 04:44:21,922] Trial 100 finished with values: [0.6771420168916746, 0.042902057826816886] and parameters: {'max_depth': 5, 'eta': 0.2684838837449304, 'subsample': 0.8553704073921528, 'colsample_bytree': 0.7486152692627474}.\n",
      "[I 2025-05-15 04:44:22,121] Trial 101 finished with values: [0.6635848704021959, 0.022587749444255244] and parameters: {'max_depth': 3, 'eta': 0.06573246467881211, 'subsample': 0.7354636885838484, 'colsample_bytree': 0.8822780071065309}.\n",
      "[I 2025-05-15 04:44:22,312] Trial 102 finished with values: [0.6714287464809011, 0.0244115920578822] and parameters: {'max_depth': 6, 'eta': 0.1639491301152995, 'subsample': 0.829093998547866, 'colsample_bytree': 0.6750582355210364}.\n",
      "[I 2025-05-15 04:44:22,506] Trial 103 finished with values: [0.6714348733124408, 0.03549607134549563] and parameters: {'max_depth': 7, 'eta': 0.15300128977805752, 'subsample': 0.9233171699711618, 'colsample_bytree': 0.8267239943048019}.\n",
      "[I 2025-05-15 04:44:22,695] Trial 104 finished with values: [0.6721501808947012, 0.04842403517897534] and parameters: {'max_depth': 5, 'eta': 0.149912004250564, 'subsample': 0.6848019122667849, 'colsample_bytree': 0.7361577039835245}.\n",
      "[I 2025-05-15 04:44:22,881] Trial 105 finished with values: [0.6850058051728839, 0.023135836460446424] and parameters: {'max_depth': 5, 'eta': 0.19520055834525474, 'subsample': 0.681762961438852, 'colsample_bytree': 0.633632043245617}.\n",
      "[I 2025-05-15 04:44:23,081] Trial 106 finished with values: [0.6600052690751241, 0.021526198806763652] and parameters: {'max_depth': 4, 'eta': 0.14682206582840512, 'subsample': 0.7078047124635384, 'colsample_bytree': 0.633825626213555}.\n",
      "[I 2025-05-15 04:44:23,333] Trial 107 finished with values: [0.6635894655258506, 0.018628025722807463] and parameters: {'max_depth': 3, 'eta': 0.10014439643762259, 'subsample': 0.8209581121266448, 'colsample_bytree': 0.7816263449928187}.\n",
      "[I 2025-05-15 04:44:23,553] Trial 108 finished with values: [0.6707149706065256, 0.04640900474788601] and parameters: {'max_depth': 6, 'eta': 0.12207986438814614, 'subsample': 0.9403070761228991, 'colsample_bytree': 0.7317905189796626}.\n",
      "[I 2025-05-15 04:44:23,777] Trial 109 finished with values: [0.6664399738996977, 0.03681106948771654] and parameters: {'max_depth': 4, 'eta': 0.06573246467881211, 'subsample': 0.6573593374557364, 'colsample_bytree': 0.8822780071065309}.\n",
      "[I 2025-05-15 04:44:23,991] Trial 110 finished with values: [0.6650032319036372, 0.0135626583920778] and parameters: {'max_depth': 4, 'eta': 0.14492678418333352, 'subsample': 0.829093998547866, 'colsample_bytree': 0.6750582355210364}.\n",
      "[I 2025-05-15 04:44:24,258] Trial 111 finished with values: [0.6664415056075825, 0.033474422314607614] and parameters: {'max_depth': 6, 'eta': 0.030762967422852387, 'subsample': 0.8209581121266448, 'colsample_bytree': 0.623217694104277}.\n",
      "[I 2025-05-15 04:44:24,490] Trial 112 finished with values: [0.6735777326434521, 0.05419873172693591] and parameters: {'max_depth': 6, 'eta': 0.10101184732667863, 'subsample': 0.9448369784642336, 'colsample_bytree': 0.9005279355380043}.\n",
      "[I 2025-05-15 04:44:24,712] Trial 113 finished with values: [0.684278243927544, 0.07101769778738974] and parameters: {'max_depth': 7, 'eta': 0.2304400249507259, 'subsample': 0.7023020088764151, 'colsample_bytree': 0.8345402117370833}.\n",
      "[I 2025-05-15 04:44:24,964] Trial 114 finished with values: [0.6742945719335974, 0.06616620951246205] and parameters: {'max_depth': 5, 'eta': 0.2211977056339177, 'subsample': 0.7180929844775004, 'colsample_bytree': 0.7493996073000908}.\n",
      "[I 2025-05-15 04:44:25,193] Trial 115 finished with values: [0.6757267188060031, 0.03284981596269335] and parameters: {'max_depth': 5, 'eta': 0.2684838837449304, 'subsample': 0.6202885976386675, 'colsample_bytree': 0.9764254263996069}.\n",
      "[I 2025-05-15 04:44:25,426] Trial 116 finished with values: [0.6685751746912842, 0.0240311096752638] and parameters: {'max_depth': 5, 'eta': 0.16228053449961663, 'subsample': 0.756807431936022, 'colsample_bytree': 0.6037557523698265}.\n",
      "[I 2025-05-15 04:44:25,673] Trial 117 finished with values: [0.6714394684360956, 0.032563773153860553] and parameters: {'max_depth': 3, 'eta': 0.2719380848170174, 'subsample': 0.997236818812363, 'colsample_bytree': 0.7901593604495847}.\n",
      "[I 2025-05-15 04:44:25,923] Trial 118 finished with values: [0.6707241608538353, 0.029612259943967212] and parameters: {'max_depth': 5, 'eta': 0.06573246467881211, 'subsample': 0.7354636885838484, 'colsample_bytree': 0.8822780071065309}.\n",
      "[I 2025-05-15 04:44:26,170] Trial 119 finished with values: [0.6700073215636899, 0.04925410222037636] and parameters: {'max_depth': 4, 'eta': 0.28463153472753805, 'subsample': 0.9370209117109939, 'colsample_bytree': 0.7317905189796626}.\n",
      "[I 2025-05-15 04:44:26,407] Trial 120 finished with values: [0.6835797851320179, 0.039212774568415966] and parameters: {'max_depth': 5, 'eta': 0.19520055834525474, 'subsample': 0.6513954714819057, 'colsample_bytree': 0.8899310150865387}.\n",
      "[I 2025-05-15 04:44:26,651] Trial 121 finished with values: [0.6685751746912842, 0.0240311096752638] and parameters: {'max_depth': 5, 'eta': 0.16228053449961663, 'subsample': 0.756807431936022, 'colsample_bytree': 0.6037557523698265}.\n",
      "[I 2025-05-15 04:44:26,891] Trial 122 finished with values: [0.662857309156856, 0.01930560785697924] and parameters: {'max_depth': 5, 'eta': 0.1488718135760848, 'subsample': 0.7758678538240358, 'colsample_bytree': 0.6746901053072828}.\n",
      "[I 2025-05-15 04:44:27,138] Trial 123 finished with values: [0.6685782381070542, 0.022582338092701066] and parameters: {'max_depth': 6, 'eta': 0.19520055834525474, 'subsample': 0.9951909717866385, 'colsample_bytree': 0.633632043245617}.\n",
      "[I 2025-05-15 04:44:27,395] Trial 124 finished with values: [0.6849981466334594, 0.06629175575099407] and parameters: {'max_depth': 6, 'eta': 0.281995318161778, 'subsample': 0.9730734246835414, 'colsample_bytree': 0.7493996073000908}.\n",
      "[I 2025-05-15 04:44:27,630] Trial 125 finished with values: [0.6742823182705179, 0.02645026856689588] and parameters: {'max_depth': 5, 'eta': 0.21573392339184963, 'subsample': 0.8375327622104956, 'colsample_bytree': 0.6479597726846632}.\n",
      "[I 2025-05-15 04:44:27,889] Trial 126 finished with values: [0.680726213342401, 0.019711902458854662] and parameters: {'max_depth': 6, 'eta': 0.2684838837449304, 'subsample': 0.633403203237494, 'colsample_bytree': 0.7037675173027492}.\n",
      "[I 2025-05-15 04:44:28,158] Trial 127 finished with values: [0.6642909877371467, 0.031304654578318096] and parameters: {'max_depth': 4, 'eta': 0.12387382765672683, 'subsample': 0.9730734246835414, 'colsample_bytree': 0.7493996073000908}.\n",
      "[I 2025-05-15 04:44:28,434] Trial 128 finished with values: [0.6742884451020577, 0.03124568279066416] and parameters: {'max_depth': 5, 'eta': 0.10448317049234515, 'subsample': 0.6757539900821352, 'colsample_bytree': 0.9264027276489771}.\n",
      "[I 2025-05-15 04:44:28,685] Trial 129 finished with values: [0.6564348579953619, 0.03845257925165074] and parameters: {'max_depth': 3, 'eta': 0.20597081030650466, 'subsample': 0.9090853732103509, 'colsample_bytree': 0.835554713524889}.\n",
      "[I 2025-05-15 04:44:28,953] Trial 130 finished with values: [0.6657246663174373, 0.03576473959874434] and parameters: {'max_depth': 3, 'eta': 0.07836977670362102, 'subsample': 0.7375710362758527, 'colsample_bytree': 0.7225920183916442}.\n",
      "[I 2025-05-15 04:44:29,228] Trial 131 finished with values: [0.6735777326434521, 0.0309917621732221] and parameters: {'max_depth': 7, 'eta': 0.1639491301152995, 'subsample': 0.6057373313664154, 'colsample_bytree': 0.6750582355210364}.\n",
      "[I 2025-05-15 04:44:29,498] Trial 132 finished with values: [0.6750052843922031, 0.04857688974547178] and parameters: {'max_depth': 5, 'eta': 0.22483278349102748, 'subsample': 0.8435595489443102, 'colsample_bytree': 0.8084614664138472}.\n",
      "[I 2025-05-15 04:44:29,779] Trial 133 finished with values: [0.6857180493393744, 0.05659098926838135] and parameters: {'max_depth': 5, 'eta': 0.26284072432439615, 'subsample': 0.8435595489443102, 'colsample_bytree': 0.8267239943048019}.\n",
      "[I 2025-05-15 04:44:30,046] Trial 134 finished with values: [0.6692904822735447, 0.037313132295700095] and parameters: {'max_depth': 4, 'eta': 0.12387382765672683, 'subsample': 0.9448369784642336, 'colsample_bytree': 0.9384719948883816}.\n",
      "[I 2025-05-15 04:44:30,312] Trial 135 finished with values: [0.6685828332307088, 0.015459109112695426] and parameters: {'max_depth': 3, 'eta': 0.1488718135760848, 'subsample': 0.7758678538240358, 'colsample_bytree': 0.8391742988445758}.\n",
      "[I 2025-05-15 04:44:30,616] Trial 136 finished with values: [0.6707241608538353, 0.05497011103449447] and parameters: {'max_depth': 7, 'eta': 0.1639491301152995, 'subsample': 0.829093998547866, 'colsample_bytree': 0.7317905189796626}.\n",
      "[I 2025-05-15 04:44:30,913] Trial 137 finished with values: [0.6664399738996977, 0.037724008168297234] and parameters: {'max_depth': 4, 'eta': 0.12387382765672683, 'subsample': 0.7362012784235783, 'colsample_bytree': 0.8501477049747741}.\n",
      "[I 2025-05-15 04:44:31,203] Trial 138 finished with values: [0.6814292672615819, 0.05021969943440435] and parameters: {'max_depth': 6, 'eta': 0.22483278349102748, 'subsample': 0.9002449253503066, 'colsample_bytree': 0.6746901053072828}.\n",
      "[I 2025-05-15 04:44:31,507] Trial 139 finished with values: [0.6849966149255743, 0.05809764147326177] and parameters: {'max_depth': 7, 'eta': 0.21573392339184963, 'subsample': 0.850280659114794, 'colsample_bytree': 0.9825458199794562}.\n",
      "[I 2025-05-15 04:44:31,780] Trial 140 finished with values: [0.6664277202366181, 0.05303352475721359] and parameters: {'max_depth': 5, 'eta': 0.2819137800264386, 'subsample': 0.9448369784642336, 'colsample_bytree': 0.6873368761214974}.\n",
      "[I 2025-05-15 04:44:32,080] Trial 141 finished with values: [0.6650062953194071, 0.04199189023152111] and parameters: {'max_depth': 5, 'eta': 0.19520055834525474, 'subsample': 0.9578027079935166, 'colsample_bytree': 0.633632043245617}.\n",
      "[I 2025-05-15 04:44:32,390] Trial 142 finished with values: [0.6771420168916746, 0.051321221152875594] and parameters: {'max_depth': 5, 'eta': 0.20597081030650466, 'subsample': 0.9730734246835414, 'colsample_bytree': 0.7493996073000908}.\n",
      "[I 2025-05-15 04:44:32,712] Trial 143 finished with values: [0.6771512071389841, 0.03024122518680687] and parameters: {'max_depth': 4, 'eta': 0.06752030524783807, 'subsample': 0.7228326827309361, 'colsample_bytree': 0.9533628565106882}.\n",
      "[I 2025-05-15 04:44:33,028] Trial 144 finished with values: [0.6735762009355671, 0.033220468841358396] and parameters: {'max_depth': 5, 'eta': 0.15300128977805752, 'subsample': 0.8250038193438736, 'colsample_bytree': 0.6388989726150607}.\n",
      "[I 2025-05-15 04:44:33,357] Trial 145 finished with values: [0.680726213342401, 0.04407439155473952] and parameters: {'max_depth': 7, 'eta': 0.19520055834525474, 'subsample': 0.8792609599268641, 'colsample_bytree': 0.8441540889475325}.\n",
      "[I 2025-05-15 04:44:33,691] Trial 146 finished with values: [0.6814323306773519, 0.04590276020644394] and parameters: {'max_depth': 7, 'eta': 0.2440762360273547, 'subsample': 0.7354636885838484, 'colsample_bytree': 0.6750582355210364}.\n",
      "[I 2025-05-15 04:44:34,132] Trial 147 finished with values: [0.6742991670572521, 0.03357216048770348] and parameters: {'max_depth': 5, 'eta': 0.11651965234782093, 'subsample': 0.7354636885838484, 'colsample_bytree': 0.8837492931481272}.\n",
      "[I 2025-05-15 04:44:34,458] Trial 148 finished with values: [0.6735777326434521, 0.04839632830947275] and parameters: {'max_depth': 7, 'eta': 0.12144779855806868, 'subsample': 0.6189620760205697, 'colsample_bytree': 0.7317905189796626}.\n",
      "[I 2025-05-15 04:44:34,813] Trial 149 finished with values: [0.6821522333832669, 0.05791202226265522] and parameters: {'max_depth': 6, 'eta': 0.244109104053234, 'subsample': 0.8275103404921808, 'colsample_bytree': 0.9535044617710127}.\n",
      "[I 2025-05-15 04:44:35,226] Trial 150 finished with values: [0.6742853816862878, 0.03658752320781747] and parameters: {'max_depth': 7, 'eta': 0.05316509660949997, 'subsample': 0.7362012784235783, 'colsample_bytree': 0.8267239943048019}.\n",
      "[I 2025-05-15 04:44:35,534] Trial 151 finished with values: [0.6657200711937824, 0.05257288841986934] and parameters: {'max_depth': 4, 'eta': 0.202737882476837, 'subsample': 0.8546587114816615, 'colsample_bytree': 0.7901593604495847}.\n",
      "[I 2025-05-15 04:44:35,858] Trial 152 finished with values: [0.6657216029016675, 0.040013470558143714] and parameters: {'max_depth': 4, 'eta': 0.18417884835987844, 'subsample': 0.9090853732103509, 'colsample_bytree': 0.7983173659034842}.\n",
      "[I 2025-05-15 04:44:36,197] Trial 153 finished with values: [0.6821568285069217, 0.05438034337482136] and parameters: {'max_depth': 4, 'eta': 0.28018057676198416, 'subsample': 0.6501045846280274, 'colsample_bytree': 0.835554713524889}.\n",
      "[I 2025-05-15 04:44:36,510] Trial 154 finished with values: [0.6614328208238751, 0.021462463158950118] and parameters: {'max_depth': 3, 'eta': 0.107650780131536, 'subsample': 0.818980649857644, 'colsample_bytree': 0.6746901053072828}.\n",
      "[I 2025-05-15 04:44:36,822] Trial 155 finished with values: [0.6778695781370142, 0.053387517033478694] and parameters: {'max_depth': 4, 'eta': 0.28018057676198416, 'subsample': 0.6501045846280274, 'colsample_bytree': 0.90801706806089}.\n",
      "[I 2025-05-15 04:44:37,144] Trial 156 finished with values: [0.6621450649903656, 0.020674069462465583] and parameters: {'max_depth': 4, 'eta': 0.20110147696686928, 'subsample': 0.756807431936022, 'colsample_bytree': 0.6902689077173073}.\n",
      "[I 2025-05-15 04:44:37,468] Trial 157 finished with values: [0.6778573244739349, 0.03810176542594725] and parameters: {'max_depth': 5, 'eta': 0.16228053449961663, 'subsample': 0.756807431936022, 'colsample_bytree': 0.9799142291771561}.\n",
      "[I 2025-05-15 04:44:37,812] Trial 158 finished with values: [0.6635741484470014, 0.026704330919170283] and parameters: {'max_depth': 4, 'eta': 0.06752030524783807, 'subsample': 0.7039341739859967, 'colsample_bytree': 0.633632043245617}.\n",
      "[I 2025-05-15 04:44:38,161] Trial 159 finished with values: [0.6678644622326787, 0.014636996931213933] and parameters: {'max_depth': 7, 'eta': 0.14555328999114867, 'subsample': 0.699237546413497, 'colsample_bytree': 0.6746901053072828}.\n",
      "[I 2025-05-15 04:44:38,522] Trial 160 finished with values: [0.6628634359883958, 0.01955865343197018] and parameters: {'max_depth': 4, 'eta': 0.050330658554729256, 'subsample': 0.8271818475995467, 'colsample_bytree': 0.9825458199794562}.\n",
      "[I 2025-05-15 04:44:38,971] Trial 161 finished with values: [0.6714410001439806, 0.02336338607461641] and parameters: {'max_depth': 6, 'eta': 0.12047142085880358, 'subsample': 0.7180929844775004, 'colsample_bytree': 0.6746901053072828}.\n",
      "[I 2025-05-15 04:44:39,363] Trial 162 finished with values: [0.6771512071389841, 0.029903692575942054] and parameters: {'max_depth': 7, 'eta': 0.09251777714733435, 'subsample': 0.7812977025688245, 'colsample_bytree': 0.6294202013307747}.\n",
      "[I 2025-05-15 04:44:39,733] Trial 163 finished with values: [0.6828614141339878, 0.03972164425252111] and parameters: {'max_depth': 7, 'eta': 0.21573392339184963, 'subsample': 0.9685268276420145, 'colsample_bytree': 0.9533628565106882}.\n",
      "[I 2025-05-15 04:44:40,092] Trial 164 finished with values: [0.6735762009355671, 0.04188328359462101] and parameters: {'max_depth': 7, 'eta': 0.14555328999114867, 'subsample': 0.9730734246835414, 'colsample_bytree': 0.7493996073000908}.\n",
      "[I 2025-05-15 04:44:40,431] Trial 165 finished with values: [0.6614404793632996, 0.025993097976013967] and parameters: {'max_depth': 3, 'eta': 0.05759927772294057, 'subsample': 0.633403203237494, 'colsample_bytree': 0.633632043245617}.\n",
      "[I 2025-05-15 04:44:40,752] Trial 166 finished with values: [0.6707165023144106, 0.03545735591489996] and parameters: {'max_depth': 5, 'eta': 0.23437090427031473, 'subsample': 0.9951909717866385, 'colsample_bytree': 0.6511710599049079}.\n",
      "[I 2025-05-15 04:44:41,126] Trial 167 finished with values: [0.665730793148977, 0.0256187564386694] and parameters: {'max_depth': 3, 'eta': 0.07927034680511814, 'subsample': 0.7180929844775004, 'colsample_bytree': 0.7901593604495847}.\n",
      "[I 2025-05-15 04:44:41,426] Trial 168 finished with values: [0.6778680464291295, 0.03628206906205412] and parameters: {'max_depth': 3, 'eta': 0.281995318161778, 'subsample': 0.7477751565947856, 'colsample_bytree': 0.9533628565106882}.\n",
      "[I 2025-05-15 04:44:41,756] Trial 169 finished with values: [0.6714318098966711, 0.043036771219768656] and parameters: {'max_depth': 6, 'eta': 0.14123286651946776, 'subsample': 0.9730734246835414, 'colsample_bytree': 0.7493996073000908}.\n",
      "[I 2025-05-15 04:44:42,082] Trial 170 finished with values: [0.676432836140954, 0.03906335350674642] and parameters: {'max_depth': 3, 'eta': 0.28764117605408523, 'subsample': 0.9110913183557556, 'colsample_bytree': 0.9126395520111392}.\n",
      "[I 2025-05-15 04:44:42,389] Trial 171 finished with values: [0.6700134483952297, 0.03148558407305171] and parameters: {'max_depth': 3, 'eta': 0.1639491301152995, 'subsample': 0.7195264456284656, 'colsample_bytree': 0.9264027276489771}.\n",
      "[I 2025-05-15 04:44:42,691] Trial 172 finished with values: [0.6842859024669687, 0.03381528460109717] and parameters: {'max_depth': 6, 'eta': 0.29159981138995467, 'subsample': 0.756807431936022, 'colsample_bytree': 0.6037557523698265}.\n",
      "[I 2025-05-15 04:44:43,020] Trial 173 finished with values: [0.6742869133941728, 0.01945514768714614] and parameters: {'max_depth': 7, 'eta': 0.1639491301152995, 'subsample': 0.829093998547866, 'colsample_bytree': 0.6750582355210364}.\n",
      "[I 2025-05-15 04:44:43,349] Trial 174 finished with values: [0.6735838594749918, 0.05197313398325326] and parameters: {'max_depth': 4, 'eta': 0.22430394175097712, 'subsample': 0.6501045846280274, 'colsample_bytree': 0.7317905189796626}.\n",
      "[I 2025-05-15 04:44:43,670] Trial 175 finished with values: [0.6721455857710463, 0.052511262468305044] and parameters: {'max_depth': 7, 'eta': 0.19767974431505606, 'subsample': 0.977117631633641, 'colsample_bytree': 0.7457412289596103}.\n",
      "[I 2025-05-15 04:44:44,013] Trial 176 finished with values: [0.6742915085178275, 0.035567458061645546] and parameters: {'max_depth': 6, 'eta': 0.1269502167481453, 'subsample': 0.6972419815932451, 'colsample_bytree': 0.835554713524889}.\n",
      "[I 2025-05-15 04:44:44,362] Trial 177 finished with values: [0.6692935456893144, 0.034228921287953594] and parameters: {'max_depth': 6, 'eta': 0.21573392339184963, 'subsample': 0.9951909717866385, 'colsample_bytree': 0.6479597726846632}.\n",
      "[I 2025-05-15 04:44:44,705] Trial 178 finished with values: [0.676429772725184, 0.07219069635081435] and parameters: {'max_depth': 7, 'eta': 0.211054419003487, 'subsample': 0.6922279318152806, 'colsample_bytree': 0.8822780071065309}.\n",
      "[I 2025-05-15 04:44:45,091] Trial 179 finished with values: [0.6628664994041656, 0.026732038584777285] and parameters: {'max_depth': 3, 'eta': 0.12047142085880358, 'subsample': 0.7180929844775004, 'colsample_bytree': 0.6746901053072828}.\n",
      "[I 2025-05-15 04:44:45,503] Trial 180 finished with values: [0.6692904822735445, 0.0262629123782747] and parameters: {'max_depth': 5, 'eta': 0.08593729802248143, 'subsample': 0.6717709953441974, 'colsample_bytree': 0.6750582355210364}.\n",
      "[I 2025-05-15 04:44:45,894] Trial 181 finished with values: [0.6785802905956199, 0.05594099603131921] and parameters: {'max_depth': 5, 'eta': 0.1724875233571684, 'subsample': 0.7354636885838484, 'colsample_bytree': 0.7486152692627474}.\n",
      "[I 2025-05-15 04:44:46,289] Trial 182 finished with values: [0.6721593711420107, 0.03158654066379805] and parameters: {'max_depth': 5, 'eta': 0.19520055834525474, 'subsample': 0.9373390330185062, 'colsample_bytree': 0.8267239943048019}.\n",
      "[I 2025-05-15 04:44:46,670] Trial 183 finished with values: [0.6750052843922031, 0.03982779066582848] and parameters: {'max_depth': 5, 'eta': 0.26284072432439615, 'subsample': 0.9951909717866385, 'colsample_bytree': 0.6873368761214974}.\n",
      "[I 2025-05-15 04:44:47,047] Trial 184 finished with values: [0.6757267188060031, 0.03284981596269335] and parameters: {'max_depth': 5, 'eta': 0.2684838837449304, 'subsample': 0.6202885976386675, 'colsample_bytree': 0.9764254263996069}.\n",
      "[I 2025-05-15 04:44:47,412] Trial 185 finished with values: [0.6642955828608015, 0.024128662428410757] and parameters: {'max_depth': 3, 'eta': 0.1639491301152995, 'subsample': 0.6057373313664154, 'colsample_bytree': 0.6750582355210364}.\n",
      "[I 2025-05-15 04:44:47,789] Trial 186 finished with values: [0.668579769814939, 0.03536491681379587] and parameters: {'max_depth': 3, 'eta': 0.09251777714733435, 'subsample': 0.6029080603388755, 'colsample_bytree': 0.9005279355380043}.\n",
      "[I 2025-05-15 04:44:48,182] Trial 187 finished with values: [0.680727745050286, 0.045661980449259544] and parameters: {'max_depth': 5, 'eta': 0.2644335797534432, 'subsample': 0.6202885976386675, 'colsample_bytree': 0.9764254263996069}.\n",
      "[I 2025-05-15 04:44:48,558] Trial 188 finished with values: [0.663578743570656, 0.03579344626945028] and parameters: {'max_depth': 3, 'eta': 0.26284072432439615, 'subsample': 0.983707526786469, 'colsample_bytree': 0.8267239943048019}.\n",
      "[I 2025-05-15 04:44:48,994] Trial 189 finished with values: [0.6664246568208484, 0.046384044989271345] and parameters: {'max_depth': 4, 'eta': 0.21573392339184963, 'subsample': 0.829093998547866, 'colsample_bytree': 0.9535044617710127}.\n",
      "[I 2025-05-15 04:44:49,464] Trial 190 finished with values: [0.6850058051728839, 0.023135836460446424] and parameters: {'max_depth': 5, 'eta': 0.19520055834525474, 'subsample': 0.681762961438852, 'colsample_bytree': 0.633632043245617}.\n",
      "[I 2025-05-15 04:44:49,910] Trial 191 finished with values: [0.6742807865626331, 0.04477532568160286] and parameters: {'max_depth': 6, 'eta': 0.14823962911559216, 'subsample': 0.7568939134695711, 'colsample_bytree': 0.9825458199794562}.\n",
      "[I 2025-05-15 04:44:50,430] Trial 192 finished with values: [0.6628634359883958, 0.015276033809695602] and parameters: {'max_depth': 4, 'eta': 0.1525893468007529, 'subsample': 0.9448369784642336, 'colsample_bytree': 0.6510598358338814}.\n",
      "[I 2025-05-15 04:44:51,018] Trial 193 finished with values: [0.6664307836523881, 0.02962782600397847] and parameters: {'max_depth': 5, 'eta': 0.1276642021131856, 'subsample': 0.7488341613212788, 'colsample_bytree': 0.6701558985135873}.\n",
      "[I 2025-05-15 04:44:51,560] Trial 194 finished with values: [0.6721440540631615, 0.02501670300729854] and parameters: {'max_depth': 5, 'eta': 0.15300128977805752, 'subsample': 0.7568939134695711, 'colsample_bytree': 0.6193697601094875}.\n",
      "[I 2025-05-15 04:44:52,086] Trial 195 finished with values: [0.6814307989694669, 0.04538266605031823] and parameters: {'max_depth': 7, 'eta': 0.0140276496136848, 'subsample': 0.8275103404921808, 'colsample_bytree': 0.9535044617710127}.\n",
      "[I 2025-05-15 04:44:52,503] Trial 196 finished with values: [0.6550027111229563, 0.02066298171305961] and parameters: {'max_depth': 3, 'eta': 0.107650780131536, 'subsample': 0.987320481816356, 'colsample_bytree': 0.8166314843892166}.\n",
      "[I 2025-05-15 04:44:52,931] Trial 197 finished with values: [0.668581301522824, 0.03814061935865013] and parameters: {'max_depth': 3, 'eta': 0.21690617259352712, 'subsample': 0.9837680501055365, 'colsample_bytree': 0.6701558985135873}.\n",
      "[I 2025-05-15 04:44:53,394] Trial 198 finished with values: [0.6735823277671069, 0.03634969274380866] and parameters: {'max_depth': 7, 'eta': 0.09443739376669853, 'subsample': 0.9244663977514821, 'colsample_bytree': 0.7037675173027492}.\n",
      "[I 2025-05-15 04:44:53,821] Trial 199 finished with values: [0.6643001779844563, 0.023016518162887356] and parameters: {'max_depth': 3, 'eta': 0.12429168382157138, 'subsample': 0.7225743860757949, 'colsample_bytree': 0.8307380428052865}.\n",
      "[I 2025-05-15 04:44:54,292] Trial 200 finished with values: [0.6707210974380654, 0.051331267563481574] and parameters: {'max_depth': 6, 'eta': 0.18361371505258683, 'subsample': 0.6513954714819057, 'colsample_bytree': 0.7493996073000908}.\n",
      "[I 2025-05-15 04:44:54,767] Trial 201 finished with values: [0.6721532443104711, 0.05337948798512703] and parameters: {'max_depth': 5, 'eta': 0.04096435071308146, 'subsample': 0.7842090440952019, 'colsample_bytree': 0.8307380428052865}.\n",
      "[I 2025-05-15 04:44:55,202] Trial 202 finished with values: [0.6799986520970612, 0.05409208781315688] and parameters: {'max_depth': 7, 'eta': 0.18417884835987844, 'subsample': 0.850280659114794, 'colsample_bytree': 0.9825458199794562}.\n",
      "[I 2025-05-15 04:44:55,702] Trial 203 finished with values: [0.6814307989694669, 0.04968529068434666] and parameters: {'max_depth': 7, 'eta': 0.2304400249507259, 'subsample': 0.8486194975103121, 'colsample_bytree': 0.8345402117370833}.\n",
      "[I 2025-05-15 04:44:56,152] Trial 204 finished with values: [0.6785833540113897, 0.04147070075161744] and parameters: {'max_depth': 7, 'eta': 0.1639491301152995, 'subsample': 0.949003838500674, 'colsample_bytree': 0.6750582355210364}.\n",
      "[I 2025-05-15 04:44:56,587] Trial 205 finished with values: [0.6828690726734123, 0.028997867352404467] and parameters: {'max_depth': 7, 'eta': 0.2304400249507259, 'subsample': 0.8546587114816615, 'colsample_bytree': 0.6750582355210364}.\n",
      "[I 2025-05-15 04:44:57,021] Trial 206 finished with values: [0.665006295319407, 0.022558236458128978] and parameters: {'max_depth': 3, 'eta': 0.1591724173028812, 'subsample': 0.7812977025688245, 'colsample_bytree': 0.6669970358932427}.\n",
      "[I 2025-05-15 04:44:57,476] Trial 207 finished with values: [0.6764389629724935, 0.024514318482450365] and parameters: {'max_depth': 7, 'eta': 0.1639491301152995, 'subsample': 0.6401613257402511, 'colsample_bytree': 0.7200887630112376}.\n",
      "[I 2025-05-15 04:44:57,924] Trial 208 finished with values: [0.6735716058119124, 0.05290728511111597] and parameters: {'max_depth': 7, 'eta': 0.1639491301152995, 'subsample': 0.9448369784642336, 'colsample_bytree': 0.9126395520111392}.\n",
      "[I 2025-05-15 04:44:58,399] Trial 209 finished with values: [0.6793047884251898, 0.018127609784695797] and parameters: {'max_depth': 7, 'eta': 0.06573246467881211, 'subsample': 0.6922279318152806, 'colsample_bytree': 0.8822780071065309}.\n",
      "[I 2025-05-15 04:44:58,964] Trial 210 finished with values: [0.6721471174789313, 0.0402457425266852] and parameters: {'max_depth': 5, 'eta': 0.11321323580598784, 'subsample': 0.8803863922893254, 'colsample_bytree': 0.7878359816262152}.\n",
      "[I 2025-05-15 04:44:59,456] Trial 211 finished with values: [0.6671353692794538, 0.03264903549647041] and parameters: {'max_depth': 7, 'eta': 0.1767544889075104, 'subsample': 0.7354636885838484, 'colsample_bytree': 0.6750582355210364}.\n",
      "[I 2025-05-15 04:44:59,936] Trial 212 finished with values: [0.6849981466334594, 0.06629175575099407] and parameters: {'max_depth': 6, 'eta': 0.281995318161778, 'subsample': 0.9730734246835414, 'colsample_bytree': 0.7493996073000908}.\n",
      "[I 2025-05-15 04:45:00,401] Trial 213 finished with values: [0.6764267093094142, 0.03060910152577162] and parameters: {'max_depth': 7, 'eta': 0.12387382765672683, 'subsample': 0.8380390129286737, 'colsample_bytree': 0.9384719948883816}.\n",
      "[I 2025-05-15 04:45:00,897] Trial 214 finished with values: [0.6857180493393744, 0.0833102172943459] and parameters: {'max_depth': 5, 'eta': 0.28018057676198416, 'subsample': 0.8522415941827721, 'colsample_bytree': 0.8241339221810364}.\n",
      "[I 2025-05-15 04:45:01,374] Trial 215 finished with values: [0.6664369104839278, 0.028332503046667123] and parameters: {'max_depth': 3, 'eta': 0.22932171601184317, 'subsample': 0.7225743860757949, 'colsample_bytree': 0.8307380428052865}.\n",
      "[I 2025-05-15 04:45:01,857] Trial 216 finished with values: [0.6742899768099426, 0.03638726663836863] and parameters: {'max_depth': 4, 'eta': 0.15892273904627263, 'subsample': 0.850280659114794, 'colsample_bytree': 0.6095650425602075}.\n",
      "[I 2025-05-15 04:45:02,343] Trial 217 finished with values: [0.6735777326434521, 0.0309917621732221] and parameters: {'max_depth': 7, 'eta': 0.16228053449961663, 'subsample': 0.6057373313664154, 'colsample_bytree': 0.6750582355210364}.\n",
      "[I 2025-05-15 04:45:02,805] Trial 218 finished with values: [0.6778634513054747, 0.020065923976648376] and parameters: {'max_depth': 7, 'eta': 0.19007610966774424, 'subsample': 0.8486194975103121, 'colsample_bytree': 0.6193697601094875}.\n",
      "[I 2025-05-15 04:45:03,295] Trial 219 finished with values: [0.6585884392815677, 0.02679543153965235] and parameters: {'max_depth': 3, 'eta': 0.04096435071308146, 'subsample': 0.7568939134695711, 'colsample_bytree': 0.8449106147978394}.\n",
      "[I 2025-05-15 04:45:03,769] Trial 220 finished with values: [0.665007827027292, 0.03580668548814452] and parameters: {'max_depth': 5, 'eta': 0.14555328999114867, 'subsample': 0.977117631633641, 'colsample_bytree': 0.609959594380023}.\n",
      "[I 2025-05-15 04:45:04,267] Trial 221 finished with values: [0.6792971298857652, 0.03508147653400883] and parameters: {'max_depth': 7, 'eta': 0.14555328999114867, 'subsample': 0.633403203237494, 'colsample_bytree': 0.9384719948883816}.\n",
      "[I 2025-05-15 04:45:04,754] Trial 222 finished with values: [0.682133852888648, 0.06407081690178375] and parameters: {'max_depth': 7, 'eta': 0.21573392339184963, 'subsample': 0.764421236387072, 'colsample_bytree': 0.9825458199794562}.\n",
      "[I 2025-05-15 04:45:05,240] Trial 223 finished with values: [0.6814430526325462, 0.040497689895066635] and parameters: {'max_depth': 4, 'eta': 0.28764117605408523, 'subsample': 0.9448369784642336, 'colsample_bytree': 0.9126395520111392}.\n",
      "[I 2025-05-15 04:45:05,773] Trial 224 finished with values: [0.6678644622326787, 0.014636996931213933] and parameters: {'max_depth': 7, 'eta': 0.14555328999114867, 'subsample': 0.699237546413497, 'colsample_bytree': 0.6746901053072828}.\n",
      "[I 2025-05-15 04:45:06,295] Trial 225 finished with values: [0.6585838441579129, 0.03358698251156291] and parameters: {'max_depth': 6, 'eta': 0.06360622539717425, 'subsample': 0.6029080603388755, 'colsample_bytree': 0.7037675173027492}.\n",
      "[I 2025-05-15 04:45:06,785] Trial 226 finished with values: [0.6628695628199356, 0.016289793194496038] and parameters: {'max_depth': 3, 'eta': 0.12047142085880358, 'subsample': 0.7180929844775004, 'colsample_bytree': 0.9586785845747919}.\n",
      "[I 2025-05-15 04:45:07,375] Trial 227 finished with values: [0.682855287302448, 0.05448162852943598] and parameters: {'max_depth': 6, 'eta': 0.2684838837449304, 'subsample': 0.7568939134695711, 'colsample_bytree': 0.6193697601094875}.\n",
      "[I 2025-05-15 04:45:07,885] Trial 228 finished with values: [0.6814384575088915, 0.05179225669400503] and parameters: {'max_depth': 5, 'eta': 0.17931942602656245, 'subsample': 0.850280659114794, 'colsample_bytree': 0.9825458199794562}.\n",
      "[I 2025-05-15 04:45:08,424] Trial 229 finished with values: [0.6735807960592219, 0.03380920280533952] and parameters: {'max_depth': 6, 'eta': 0.13806812480634129, 'subsample': 0.850280659114794, 'colsample_bytree': 0.9735263431275204}.\n",
      "[I 2025-05-15 04:45:08,981] Trial 230 finished with values: [0.6757221236823483, 0.0506951277673392] and parameters: {'max_depth': 6, 'eta': 0.14555328999114867, 'subsample': 0.6922279318152806, 'colsample_bytree': 0.8822780071065309}.\n",
      "[I 2025-05-15 04:45:09,503] Trial 231 finished with values: [0.6742899768099426, 0.012507328425829375] and parameters: {'max_depth': 6, 'eta': 0.19520055834525474, 'subsample': 0.8209581121266448, 'colsample_bytree': 0.633632043245617}.\n",
      "[I 2025-05-15 04:45:09,984] Trial 232 finished with values: [0.6714410001439806, 0.027380916878754085] and parameters: {'max_depth': 6, 'eta': 0.10680635650199431, 'subsample': 0.633403203237494, 'colsample_bytree': 0.6873368761214974}.\n",
      "[I 2025-05-15 04:45:10,463] Trial 233 finished with values: [0.6849920198019195, 0.04708682756645943] and parameters: {'max_depth': 6, 'eta': 0.281995318161778, 'subsample': 0.829093998547866, 'colsample_bytree': 0.6750582355210364}.\n",
      "[I 2025-05-15 04:45:10,929] Trial 234 finished with values: [0.6700119166873447, 0.023633512918441308] and parameters: {'max_depth': 7, 'eta': 0.1837448932497075, 'subsample': 0.6057373313664154, 'colsample_bytree': 0.6750582355210364}.\n",
      "[I 2025-05-15 04:45:11,383] Trial 235 finished with values: [0.6628634359883958, 0.044426942960292426] and parameters: {'max_depth': 4, 'eta': 0.12047142085880358, 'subsample': 0.8271818475995467, 'colsample_bytree': 0.7490951959917949}.\n",
      "[I 2025-05-15 04:45:12,011] Trial 236 finished with values: [0.6628664994041656, 0.026732038584777285] and parameters: {'max_depth': 3, 'eta': 0.12047142085880358, 'subsample': 0.7180929844775004, 'colsample_bytree': 0.6746901053072828}.\n",
      "[I 2025-05-15 04:45:12,476] Trial 237 finished with values: [0.6835828485477878, 0.07236662897293046] and parameters: {'max_depth': 6, 'eta': 0.26033606588196057, 'subsample': 0.8286734827546772, 'colsample_bytree': 0.7317905189796626}.\n",
      "[I 2025-05-15 04:45:12,989] Trial 238 finished with values: [0.6514368951668489, 0.034417893189867654] and parameters: {'max_depth': 3, 'eta': 0.0140276496136848, 'subsample': 0.8931004035462538, 'colsample_bytree': 0.8391742988445758}.\n",
      "[I 2025-05-15 04:45:13,469] Trial 239 finished with values: [0.6714348733124408, 0.047827149197341594] and parameters: {'max_depth': 7, 'eta': 0.12387382765672683, 'subsample': 0.6513954714819057, 'colsample_bytree': 0.9384719948883816}.\n",
      "[I 2025-05-15 04:45:13,920] Trial 240 finished with values: [0.677152738846869, 0.031593205008982904] and parameters: {'max_depth': 6, 'eta': 0.2000945942884933, 'subsample': 0.850280659114794, 'colsample_bytree': 0.6037557523698265}.\n",
      "[I 2025-05-15 04:45:14,343] Trial 241 finished with values: [0.6621481284061355, 0.019826554872988622] and parameters: {'max_depth': 3, 'eta': 0.15324501022625392, 'subsample': 0.7840442633096117, 'colsample_bytree': 0.633632043245617}.\n",
      "[I 2025-05-15 04:45:14,803] Trial 242 finished with values: [0.674302230473022, 0.01922707660747171] and parameters: {'max_depth': 7, 'eta': 0.10014439643762259, 'subsample': 0.8209581121266448, 'colsample_bytree': 0.6746901053072828}.\n",
      "[I 2025-05-15 04:45:15,311] Trial 243 finished with values: [0.6785772271798501, 0.0420916544609977] and parameters: {'max_depth': 7, 'eta': 0.06752030524783807, 'subsample': 0.7228326827309361, 'colsample_bytree': 0.9533628565106882}.\n",
      "[I 2025-05-15 04:45:15,829] Trial 244 finished with values: [0.6835767217162481, 0.023959099655857557] and parameters: {'max_depth': 5, 'eta': 0.19406599396120283, 'subsample': 0.681762961438852, 'colsample_bytree': 0.633632043245617}.\n",
      "[I 2025-05-15 04:45:16,391] Trial 245 finished with values: [0.6764358995567238, 0.04697321634085256] and parameters: {'max_depth': 5, 'eta': 0.08746410916056138, 'subsample': 0.681762961438852, 'colsample_bytree': 0.9825458199794562}.\n",
      "[I 2025-05-15 04:45:16,908] Trial 246 finished with values: [0.6592976200322884, 0.01974669986841311] and parameters: {'max_depth': 3, 'eta': 0.12047142085880358, 'subsample': 0.8824091274986434, 'colsample_bytree': 0.6510598358338814}.\n",
      "[I 2025-05-15 04:45:17,374] Trial 247 finished with values: [0.6607282351968092, 0.032246874636303206] and parameters: {'max_depth': 3, 'eta': 0.10014439643762259, 'subsample': 0.8881348632634549, 'colsample_bytree': 0.9005279355380043}.\n",
      "[I 2025-05-15 04:45:17,857] Trial 248 finished with values: [0.6692889505656597, 0.04267250716934461] and parameters: {'max_depth': 4, 'eta': 0.1525893468007529, 'subsample': 0.9448369784642336, 'colsample_bytree': 0.9126395520111392}.\n",
      "[I 2025-05-15 04:45:18,424] Trial 249 finished with values: [0.6678705890642184, 0.05351597707551605] and parameters: {'max_depth': 7, 'eta': 0.0184116949249563, 'subsample': 0.9606409421611782, 'colsample_bytree': 0.633632043245617}.\n",
      "[I 2025-05-15 04:45:18,901] Trial 250 finished with values: [0.6742823182705179, 0.02645026856689588] and parameters: {'max_depth': 5, 'eta': 0.21573392339184963, 'subsample': 0.8375327622104956, 'colsample_bytree': 0.6479597726846632}.\n",
      "[I 2025-05-15 04:45:19,417] Trial 251 finished with values: [0.6635802752785411, 0.030120462801120195] and parameters: {'max_depth': 7, 'eta': 0.19007610966774424, 'subsample': 0.673585956071831, 'colsample_bytree': 0.6750582355210364}.\n"
     ]
    },
    {
     "name": "stdout",
     "output_type": "stream",
     "text": [
      "Pareto-optimal solutions:\n",
      "Params: {'alpha': 1, 'max_depth': 7, 'eta': 0.0140276496136848, 'subsample': 0.9730734246835414, 'colsample_bytree': 0.7493996073000908}, Accuracy: 0.6979, DPD: 0.0792\n",
      "Params: {'alpha': 0, 'max_depth': 3, 'eta': 0.18417884835987844, 'subsample': 0.9090853732103509, 'colsample_bytree': 0.7901593604495847}, Accuracy: 0.5000, DPD: 0.0000\n",
      "Params: {'alpha': 0.5, 'max_depth': 4, 'eta': 0.28764117605408523, 'subsample': 0.9448369784642336, 'colsample_bytree': 0.9126395520111392}, Accuracy: 0.6929, DPD: 0.0614\n",
      "Params: {'alpha': 0.5, 'max_depth': 6, 'eta': 0.09251777714733435, 'subsample': 0.6029080603388755, 'colsample_bytree': 0.9005279355380043}, Accuracy: 0.6893, DPD: 0.0556\n",
      "Params: {'alpha': 0.5, 'max_depth': 7, 'eta': 0.2304400249507259, 'subsample': 0.8486194975103121, 'colsample_bytree': 0.8345402117370833}, Accuracy: 0.6979, DPD: 0.0813\n",
      "Params: {'alpha': 0.25, 'max_depth': 7, 'eta': 0.06573246467881211, 'subsample': 0.6922279318152806, 'colsample_bytree': 0.8822780071065309}, Accuracy: 0.6793, DPD: 0.0181\n",
      "Params: {'alpha': 0.25, 'max_depth': 6, 'eta': 0.22483278349102748, 'subsample': 0.850280659114794, 'colsample_bytree': 0.9825458199794562}, Accuracy: 0.6871, DPD: 0.0512\n",
      "Params: {'alpha': 0.25, 'max_depth': 4, 'eta': 0.2304400249507259, 'subsample': 0.8546587114816615, 'colsample_bytree': 0.6388989726150607}, Accuracy: 0.6864, DPD: 0.0327\n",
      "Params: {'alpha': 0.25, 'max_depth': 5, 'eta': 0.19520055834525474, 'subsample': 0.681762961438852, 'colsample_bytree': 0.633632043245617}, Accuracy: 0.6850, DPD: 0.0231\n",
      "Params: {'alpha': 0.25, 'max_depth': 6, 'eta': 0.2684838837449304, 'subsample': 0.633403203237494, 'colsample_bytree': 0.7037675173027492}, Accuracy: 0.6807, DPD: 0.0197\n",
      "Params: {'alpha': 0.25, 'max_depth': 5, 'eta': 0.19520055834525474, 'subsample': 0.681762961438852, 'colsample_bytree': 0.633632043245617}, Accuracy: 0.6850, DPD: 0.0231\n",
      "Params: {'alpha': 0.25, 'max_depth': 7, 'eta': 0.06573246467881211, 'subsample': 0.6922279318152806, 'colsample_bytree': 0.8822780071065309}, Accuracy: 0.6793, DPD: 0.0181\n",
      "Params: {'alpha': 0.25, 'max_depth': 6, 'eta': 0.19520055834525474, 'subsample': 0.8209581121266448, 'colsample_bytree': 0.633632043245617}, Accuracy: 0.6743, DPD: 0.0125\n"
     ]
    }
   ],
   "source": [
    "\n",
    "# Create and run Optuna study for multi-objective optimization\n",
    "study = optuna.create_study(directions=['maximize', 'minimize'])\n",
    "\n",
    "objective = create_objective_function(alpha=1)  # Example alpha value\n",
    "study.optimize(objective, n_trials=1)\n",
    "objective = create_objective_function(alpha=0)  # Example alpha value\n",
    "study.optimize(objective, n_trials=1)\n",
    "\n",
    "\n",
    "#adaptive weights based on distance\n",
    "\n",
    "for i in range(250):\n",
    "    max_dist = 0\n",
    "    max_dist_alpha = None\n",
    "    for trial_i in study.best_trials:\n",
    "        for trial_j in study.best_trials:\n",
    "            if trial_i != trial_j:\n",
    "                # Calculate distance between trials\n",
    "                dist = np.sqrt((trial_i.values[0] - trial_j.values[0])**2 + (trial_i.values[1] - trial_j.values[1])**2)\n",
    "                if dist > max_dist:\n",
    "                    max_dist = dist\n",
    "                    max_dist_alpha = (trial_i.user_attrs['params']['alpha'] + trial_j.user_attrs['params']['alpha']) / 2\n",
    "    \n",
    "    # print(max_dist_alpha)\n",
    "    # max_dist_alpha = np.random.uniform(0, 1)\n",
    "    objective = create_objective_function(alpha=max_dist_alpha)  # Example alpha value\n",
    "    study.optimize(objective, n_trials=1)\n",
    "\n",
    "# Collect Pareto front results\n",
    "results = []\n",
    "for trial in study.best_trials:  # Best trials are the Pareto-optimal ones\n",
    "    results.append({\n",
    "        'accuracy': trial.values[0],\n",
    "        'dpd': trial.values[1],\n",
    "        'alpha': trial.user_attrs['params']['alpha'],\n",
    "        'params': trial.user_attrs['params']\n",
    "    })\n",
    "\n",
    "# Print summary of Pareto-optimal results\n",
    "print(\"Pareto-optimal solutions:\")\n",
    "for res in results:\n",
    "    print(f\"Params: {res['params']}, Accuracy: {res['accuracy']:.4f}, DPD: {res['dpd']:.4f}\")\n",
    "\n",
    "# Prepare data for plotting\n",
    "plot_df = pd.DataFrame({\n",
    "    'DPD': [res['dpd'] for res in results],\n",
    "    'Accuracy': [res['accuracy'] for res in results],\n",
    "    'alpha': [res['alpha'] for res in results]\n",
    "})\n",
    "\n"
   ]
  },
  {
   "cell_type": "code",
   "execution_count": 29,
   "id": "61fd02a8",
   "metadata": {},
   "outputs": [
    {
     "data": {
      "application/vnd.plotly.v1+json": {
       "config": {
        "plotlyServerURL": "https://plot.ly"
       },
       "data": [
        {
         "customdata": {
          "bdata": "AAAAAAAA8D8AAAAAAAAAAAAAAAAAAOA/AAAAAAAA4D8AAAAAAADgPwAAAAAAANA/AAAAAAAA0D8AAAAAAADQPwAAAAAAANA/AAAAAAAA0D8AAAAAAADQPwAAAAAAANA/AAAAAAAA0D8=",
          "dtype": "f8",
          "shape": "13, 1"
         },
         "hovertemplate": "DPD=%{x}<br>Accuracy=%{y}<br>alpha=%{marker.color}<extra></extra>",
         "legendgroup": "",
         "marker": {
          "color": {
           "bdata": "AAAAAAAA8D8AAAAAAAAAAAAAAAAAAOA/AAAAAAAA4D8AAAAAAADgPwAAAAAAANA/AAAAAAAA0D8AAAAAAADQPwAAAAAAANA/AAAAAAAA0D8AAAAAAADQPwAAAAAAANA/AAAAAAAA0D8=",
           "dtype": "f8"
          },
          "coloraxis": "coloraxis",
          "line": {
           "width": 0
          },
          "symbol": "circle"
         },
         "mode": "markers",
         "name": "",
         "orientation": "v",
         "showlegend": false,
         "type": "scatter",
         "x": {
          "bdata": "Eeqc2JlHtD8AAAAAAAAAAJxHgvQOa68/q0GH5mh2rD9TKFQ81tK0P3A8uEwLkJI/w0W0ggIyqj9V/G7Jv76gP9BW2rPrsJc/W2OcYVsvlD/QVtqz67CXP3A8uEwLkJI/y+ZkNHGdiT8=",
          "dtype": "f8"
         },
         "xaxis": "x",
         "y": {
          "bdata": "be3FActU5j+eUFHZDADgPwedPbvcK+Y/cEpXlcMO5j8LPhfb11TmPy2tSWXdvOU/CBkxMh/95T/AjVVcVvflP7U0WUuR6+U/rLz6VoLI5T+1NFlLkevlPy2tSWXdvOU/7GrNksiT5T8=",
          "dtype": "f8"
         },
         "yaxis": "y"
        }
       ],
       "layout": {
        "coloraxis": {
         "colorbar": {
          "title": {
           "text": "alpha"
          }
         },
         "colorscale": [
          [
           0,
           "#440154"
          ],
          [
           0.1111111111111111,
           "#482878"
          ],
          [
           0.2222222222222222,
           "#3e4989"
          ],
          [
           0.3333333333333333,
           "#31688e"
          ],
          [
           0.4444444444444444,
           "#26828e"
          ],
          [
           0.5555555555555556,
           "#1f9e89"
          ],
          [
           0.6666666666666666,
           "#35b779"
          ],
          [
           0.7777777777777778,
           "#6ece58"
          ],
          [
           0.8888888888888888,
           "#b5de2b"
          ],
          [
           1,
           "#fde725"
          ]
         ]
        },
        "legend": {
         "tracegroupgap": 0
        },
        "template": {
         "data": {
          "bar": [
           {
            "error_x": {
             "color": "#2a3f5f"
            },
            "error_y": {
             "color": "#2a3f5f"
            },
            "marker": {
             "line": {
              "color": "#E5ECF6",
              "width": 0.5
             },
             "pattern": {
              "fillmode": "overlay",
              "size": 10,
              "solidity": 0.2
             }
            },
            "type": "bar"
           }
          ],
          "barpolar": [
           {
            "marker": {
             "line": {
              "color": "#E5ECF6",
              "width": 0.5
             },
             "pattern": {
              "fillmode": "overlay",
              "size": 10,
              "solidity": 0.2
             }
            },
            "type": "barpolar"
           }
          ],
          "carpet": [
           {
            "aaxis": {
             "endlinecolor": "#2a3f5f",
             "gridcolor": "white",
             "linecolor": "white",
             "minorgridcolor": "white",
             "startlinecolor": "#2a3f5f"
            },
            "baxis": {
             "endlinecolor": "#2a3f5f",
             "gridcolor": "white",
             "linecolor": "white",
             "minorgridcolor": "white",
             "startlinecolor": "#2a3f5f"
            },
            "type": "carpet"
           }
          ],
          "choropleth": [
           {
            "colorbar": {
             "outlinewidth": 0,
             "ticks": ""
            },
            "type": "choropleth"
           }
          ],
          "contour": [
           {
            "colorbar": {
             "outlinewidth": 0,
             "ticks": ""
            },
            "colorscale": [
             [
              0,
              "#0d0887"
             ],
             [
              0.1111111111111111,
              "#46039f"
             ],
             [
              0.2222222222222222,
              "#7201a8"
             ],
             [
              0.3333333333333333,
              "#9c179e"
             ],
             [
              0.4444444444444444,
              "#bd3786"
             ],
             [
              0.5555555555555556,
              "#d8576b"
             ],
             [
              0.6666666666666666,
              "#ed7953"
             ],
             [
              0.7777777777777778,
              "#fb9f3a"
             ],
             [
              0.8888888888888888,
              "#fdca26"
             ],
             [
              1,
              "#f0f921"
             ]
            ],
            "type": "contour"
           }
          ],
          "contourcarpet": [
           {
            "colorbar": {
             "outlinewidth": 0,
             "ticks": ""
            },
            "type": "contourcarpet"
           }
          ],
          "heatmap": [
           {
            "colorbar": {
             "outlinewidth": 0,
             "ticks": ""
            },
            "colorscale": [
             [
              0,
              "#0d0887"
             ],
             [
              0.1111111111111111,
              "#46039f"
             ],
             [
              0.2222222222222222,
              "#7201a8"
             ],
             [
              0.3333333333333333,
              "#9c179e"
             ],
             [
              0.4444444444444444,
              "#bd3786"
             ],
             [
              0.5555555555555556,
              "#d8576b"
             ],
             [
              0.6666666666666666,
              "#ed7953"
             ],
             [
              0.7777777777777778,
              "#fb9f3a"
             ],
             [
              0.8888888888888888,
              "#fdca26"
             ],
             [
              1,
              "#f0f921"
             ]
            ],
            "type": "heatmap"
           }
          ],
          "histogram": [
           {
            "marker": {
             "pattern": {
              "fillmode": "overlay",
              "size": 10,
              "solidity": 0.2
             }
            },
            "type": "histogram"
           }
          ],
          "histogram2d": [
           {
            "colorbar": {
             "outlinewidth": 0,
             "ticks": ""
            },
            "colorscale": [
             [
              0,
              "#0d0887"
             ],
             [
              0.1111111111111111,
              "#46039f"
             ],
             [
              0.2222222222222222,
              "#7201a8"
             ],
             [
              0.3333333333333333,
              "#9c179e"
             ],
             [
              0.4444444444444444,
              "#bd3786"
             ],
             [
              0.5555555555555556,
              "#d8576b"
             ],
             [
              0.6666666666666666,
              "#ed7953"
             ],
             [
              0.7777777777777778,
              "#fb9f3a"
             ],
             [
              0.8888888888888888,
              "#fdca26"
             ],
             [
              1,
              "#f0f921"
             ]
            ],
            "type": "histogram2d"
           }
          ],
          "histogram2dcontour": [
           {
            "colorbar": {
             "outlinewidth": 0,
             "ticks": ""
            },
            "colorscale": [
             [
              0,
              "#0d0887"
             ],
             [
              0.1111111111111111,
              "#46039f"
             ],
             [
              0.2222222222222222,
              "#7201a8"
             ],
             [
              0.3333333333333333,
              "#9c179e"
             ],
             [
              0.4444444444444444,
              "#bd3786"
             ],
             [
              0.5555555555555556,
              "#d8576b"
             ],
             [
              0.6666666666666666,
              "#ed7953"
             ],
             [
              0.7777777777777778,
              "#fb9f3a"
             ],
             [
              0.8888888888888888,
              "#fdca26"
             ],
             [
              1,
              "#f0f921"
             ]
            ],
            "type": "histogram2dcontour"
           }
          ],
          "mesh3d": [
           {
            "colorbar": {
             "outlinewidth": 0,
             "ticks": ""
            },
            "type": "mesh3d"
           }
          ],
          "parcoords": [
           {
            "line": {
             "colorbar": {
              "outlinewidth": 0,
              "ticks": ""
             }
            },
            "type": "parcoords"
           }
          ],
          "pie": [
           {
            "automargin": true,
            "type": "pie"
           }
          ],
          "scatter": [
           {
            "fillpattern": {
             "fillmode": "overlay",
             "size": 10,
             "solidity": 0.2
            },
            "type": "scatter"
           }
          ],
          "scatter3d": [
           {
            "line": {
             "colorbar": {
              "outlinewidth": 0,
              "ticks": ""
             }
            },
            "marker": {
             "colorbar": {
              "outlinewidth": 0,
              "ticks": ""
             }
            },
            "type": "scatter3d"
           }
          ],
          "scattercarpet": [
           {
            "marker": {
             "colorbar": {
              "outlinewidth": 0,
              "ticks": ""
             }
            },
            "type": "scattercarpet"
           }
          ],
          "scattergeo": [
           {
            "marker": {
             "colorbar": {
              "outlinewidth": 0,
              "ticks": ""
             }
            },
            "type": "scattergeo"
           }
          ],
          "scattergl": [
           {
            "marker": {
             "colorbar": {
              "outlinewidth": 0,
              "ticks": ""
             }
            },
            "type": "scattergl"
           }
          ],
          "scattermap": [
           {
            "marker": {
             "colorbar": {
              "outlinewidth": 0,
              "ticks": ""
             }
            },
            "type": "scattermap"
           }
          ],
          "scattermapbox": [
           {
            "marker": {
             "colorbar": {
              "outlinewidth": 0,
              "ticks": ""
             }
            },
            "type": "scattermapbox"
           }
          ],
          "scatterpolar": [
           {
            "marker": {
             "colorbar": {
              "outlinewidth": 0,
              "ticks": ""
             }
            },
            "type": "scatterpolar"
           }
          ],
          "scatterpolargl": [
           {
            "marker": {
             "colorbar": {
              "outlinewidth": 0,
              "ticks": ""
             }
            },
            "type": "scatterpolargl"
           }
          ],
          "scatterternary": [
           {
            "marker": {
             "colorbar": {
              "outlinewidth": 0,
              "ticks": ""
             }
            },
            "type": "scatterternary"
           }
          ],
          "surface": [
           {
            "colorbar": {
             "outlinewidth": 0,
             "ticks": ""
            },
            "colorscale": [
             [
              0,
              "#0d0887"
             ],
             [
              0.1111111111111111,
              "#46039f"
             ],
             [
              0.2222222222222222,
              "#7201a8"
             ],
             [
              0.3333333333333333,
              "#9c179e"
             ],
             [
              0.4444444444444444,
              "#bd3786"
             ],
             [
              0.5555555555555556,
              "#d8576b"
             ],
             [
              0.6666666666666666,
              "#ed7953"
             ],
             [
              0.7777777777777778,
              "#fb9f3a"
             ],
             [
              0.8888888888888888,
              "#fdca26"
             ],
             [
              1,
              "#f0f921"
             ]
            ],
            "type": "surface"
           }
          ],
          "table": [
           {
            "cells": {
             "fill": {
              "color": "#EBF0F8"
             },
             "line": {
              "color": "white"
             }
            },
            "header": {
             "fill": {
              "color": "#C8D4E3"
             },
             "line": {
              "color": "white"
             }
            },
            "type": "table"
           }
          ]
         },
         "layout": {
          "annotationdefaults": {
           "arrowcolor": "#2a3f5f",
           "arrowhead": 0,
           "arrowwidth": 1
          },
          "autotypenumbers": "strict",
          "coloraxis": {
           "colorbar": {
            "outlinewidth": 0,
            "ticks": ""
           }
          },
          "colorscale": {
           "diverging": [
            [
             0,
             "#8e0152"
            ],
            [
             0.1,
             "#c51b7d"
            ],
            [
             0.2,
             "#de77ae"
            ],
            [
             0.3,
             "#f1b6da"
            ],
            [
             0.4,
             "#fde0ef"
            ],
            [
             0.5,
             "#f7f7f7"
            ],
            [
             0.6,
             "#e6f5d0"
            ],
            [
             0.7,
             "#b8e186"
            ],
            [
             0.8,
             "#7fbc41"
            ],
            [
             0.9,
             "#4d9221"
            ],
            [
             1,
             "#276419"
            ]
           ],
           "sequential": [
            [
             0,
             "#0d0887"
            ],
            [
             0.1111111111111111,
             "#46039f"
            ],
            [
             0.2222222222222222,
             "#7201a8"
            ],
            [
             0.3333333333333333,
             "#9c179e"
            ],
            [
             0.4444444444444444,
             "#bd3786"
            ],
            [
             0.5555555555555556,
             "#d8576b"
            ],
            [
             0.6666666666666666,
             "#ed7953"
            ],
            [
             0.7777777777777778,
             "#fb9f3a"
            ],
            [
             0.8888888888888888,
             "#fdca26"
            ],
            [
             1,
             "#f0f921"
            ]
           ],
           "sequentialminus": [
            [
             0,
             "#0d0887"
            ],
            [
             0.1111111111111111,
             "#46039f"
            ],
            [
             0.2222222222222222,
             "#7201a8"
            ],
            [
             0.3333333333333333,
             "#9c179e"
            ],
            [
             0.4444444444444444,
             "#bd3786"
            ],
            [
             0.5555555555555556,
             "#d8576b"
            ],
            [
             0.6666666666666666,
             "#ed7953"
            ],
            [
             0.7777777777777778,
             "#fb9f3a"
            ],
            [
             0.8888888888888888,
             "#fdca26"
            ],
            [
             1,
             "#f0f921"
            ]
           ]
          },
          "colorway": [
           "#636efa",
           "#EF553B",
           "#00cc96",
           "#ab63fa",
           "#FFA15A",
           "#19d3f3",
           "#FF6692",
           "#B6E880",
           "#FF97FF",
           "#FECB52"
          ],
          "font": {
           "color": "#2a3f5f"
          },
          "geo": {
           "bgcolor": "white",
           "lakecolor": "white",
           "landcolor": "#E5ECF6",
           "showlakes": true,
           "showland": true,
           "subunitcolor": "white"
          },
          "hoverlabel": {
           "align": "left"
          },
          "hovermode": "closest",
          "mapbox": {
           "style": "light"
          },
          "paper_bgcolor": "white",
          "plot_bgcolor": "#E5ECF6",
          "polar": {
           "angularaxis": {
            "gridcolor": "white",
            "linecolor": "white",
            "ticks": ""
           },
           "bgcolor": "#E5ECF6",
           "radialaxis": {
            "gridcolor": "white",
            "linecolor": "white",
            "ticks": ""
           }
          },
          "scene": {
           "xaxis": {
            "backgroundcolor": "#E5ECF6",
            "gridcolor": "white",
            "gridwidth": 2,
            "linecolor": "white",
            "showbackground": true,
            "ticks": "",
            "zerolinecolor": "white"
           },
           "yaxis": {
            "backgroundcolor": "#E5ECF6",
            "gridcolor": "white",
            "gridwidth": 2,
            "linecolor": "white",
            "showbackground": true,
            "ticks": "",
            "zerolinecolor": "white"
           },
           "zaxis": {
            "backgroundcolor": "#E5ECF6",
            "gridcolor": "white",
            "gridwidth": 2,
            "linecolor": "white",
            "showbackground": true,
            "ticks": "",
            "zerolinecolor": "white"
           }
          },
          "shapedefaults": {
           "line": {
            "color": "#2a3f5f"
           }
          },
          "ternary": {
           "aaxis": {
            "gridcolor": "white",
            "linecolor": "white",
            "ticks": ""
           },
           "baxis": {
            "gridcolor": "white",
            "linecolor": "white",
            "ticks": ""
           },
           "bgcolor": "#E5ECF6",
           "caxis": {
            "gridcolor": "white",
            "linecolor": "white",
            "ticks": ""
           }
          },
          "title": {
           "x": 0.05
          },
          "xaxis": {
           "automargin": true,
           "gridcolor": "white",
           "linecolor": "white",
           "ticks": "",
           "title": {
            "standoff": 15
           },
           "zerolinecolor": "white",
           "zerolinewidth": 2
          },
          "yaxis": {
           "automargin": true,
           "gridcolor": "white",
           "linecolor": "white",
           "ticks": "",
           "title": {
            "standoff": 15
           },
           "zerolinecolor": "white",
           "zerolinewidth": 2
          }
         }
        },
        "title": {
         "text": "Pareto Front: DPD vs. Accuracy"
        },
        "xaxis": {
         "anchor": "y",
         "domain": [
          0,
          1
         ],
         "title": {
          "text": "DPD"
         }
        },
        "yaxis": {
         "anchor": "x",
         "domain": [
          0,
          1
         ],
         "title": {
          "text": "Accuracy"
         }
        }
       }
      }
     },
     "metadata": {},
     "output_type": "display_data"
    }
   ],
   "source": [
    "# Create interactive Plotly plot\n",
    "fig = px.scatter(\n",
    "    plot_df,\n",
    "    x='DPD',\n",
    "    y='Accuracy',\n",
    "    color='alpha',\n",
    "    color_continuous_scale='Viridis',\n",
    "    size_max=15,\n",
    "    hover_data={'alpha': True, 'DPD': True, 'Accuracy': True},\n",
    "    title='Pareto Front: DPD vs. Accuracy'\n",
    ")\n",
    "fig.update_traces(marker=dict(line_width=0))\n",
    "fig.show()"
   ]
  },
  {
   "cell_type": "code",
   "execution_count": 30,
   "id": "80c815c5",
   "metadata": {},
   "outputs": [
    {
     "name": "stderr",
     "output_type": "stream",
     "text": [
      "[I 2025-05-15 04:47:08,768] A new study created in memory with name: no-name-81c9934b-2059-41fa-9a1d-ffa5aeeee5de\n",
      "[I 2025-05-15 04:47:08,897] Trial 0 finished with values: [0.6792971298857652, 0.08215217241285708] and parameters: {'max_depth': 5, 'eta': 0.14045260605383383, 'subsample': 0.6059859634768344, 'colsample_bytree': 0.9142953795430282}.\n",
      "[I 2025-05-15 04:47:08,995] Trial 1 finished with values: [0.6600175227382036, 0.015081357718660824] and parameters: {'max_depth': 3, 'eta': 0.05033127668007191, 'subsample': 0.7887078508400488, 'colsample_bytree': 0.8895195187557907}.\n",
      "[I 2025-05-15 04:47:09,066] Trial 2 finished with values: [0.6764435580961484, 0.04444123543631445] and parameters: {'max_depth': 3, 'eta': 0.2939283612519244, 'subsample': 0.8063484386283546, 'colsample_bytree': 0.951394948420871}.\n",
      "[I 2025-05-15 04:47:09,139] Trial 3 finished with values: [0.667858335401139, 0.05062834891783413] and parameters: {'max_depth': 4, 'eta': 0.11946224856843993, 'subsample': 0.8938040597589907, 'colsample_bytree': 0.84199181195118}.\n",
      "[I 2025-05-15 04:47:09,221] Trial 4 finished with values: [0.676429772725184, 0.07440415650242109] and parameters: {'max_depth': 6, 'eta': 0.13736230736609845, 'subsample': 0.9291745891569055, 'colsample_bytree': 0.7570304477869704}.\n",
      "[I 2025-05-15 04:47:09,298] Trial 5 finished with values: [0.6792910030542255, 0.08055369365573291] and parameters: {'max_depth': 5, 'eta': 0.23847044918359891, 'subsample': 0.7928627009208727, 'colsample_bytree': 0.8755925894979026}.\n",
      "[I 2025-05-15 04:47:09,377] Trial 6 finished with values: [0.6607267034889243, 0.019809572356481592] and parameters: {'max_depth': 3, 'eta': 0.04134842079936573, 'subsample': 0.6828208177420324, 'colsample_bytree': 0.9463891490229178}.\n",
      "[I 2025-05-15 04:47:09,446] Trial 7 finished with values: [0.6785848857192747, 0.041386456167300946] and parameters: {'max_depth': 4, 'eta': 0.1604362029471749, 'subsample': 0.8441938099050315, 'colsample_bytree': 0.6441993310896048}.\n",
      "[I 2025-05-15 04:47:09,563] Trial 8 finished with values: [0.6564409848269017, 0.02531715967860958] and parameters: {'max_depth': 3, 'eta': 0.013463787079253976, 'subsample': 0.7171019072545166, 'colsample_bytree': 0.7602164946322192}.\n",
      "[I 2025-05-15 04:47:09,659] Trial 9 finished with values: [0.6535874130372848, 0.023451625947881694] and parameters: {'max_depth': 3, 'eta': 0.023616051714016602, 'subsample': 0.9352133975888623, 'colsample_bytree': 0.7031781052885846}.\n",
      "[I 2025-05-15 04:47:09,739] Trial 10 finished with values: [0.6742853816862878, 0.0811093493534092] and parameters: {'max_depth': 6, 'eta': 0.110445341086033, 'subsample': 0.944133011032847, 'colsample_bytree': 0.8143058510228095}.\n",
      "[I 2025-05-15 04:47:09,807] Trial 11 finished with values: [0.663581806986426, 0.030440367080421287] and parameters: {'max_depth': 4, 'eta': 0.20849443049298186, 'subsample': 0.774436328324725, 'colsample_bytree': 0.7149367762471657}.\n",
      "[I 2025-05-15 04:47:09,925] Trial 12 finished with values: [0.6642925194450316, 0.05473041053645545] and parameters: {'max_depth': 6, 'eta': 0.0310989429045032, 'subsample': 0.881945806045443, 'colsample_bytree': 0.7880337693950031}.\n",
      "[I 2025-05-15 04:47:10,035] Trial 13 finished with values: [0.6807124279714367, 0.0640273990653568] and parameters: {'max_depth': 7, 'eta': 0.12184022529148268, 'subsample': 0.6132601302263808, 'colsample_bytree': 0.8166419389657287}.\n",
      "[I 2025-05-15 04:47:10,124] Trial 14 finished with values: [0.6671445595267634, 0.029393736206892118] and parameters: {'max_depth': 4, 'eta': 0.12361546140158018, 'subsample': 0.874635402780434, 'colsample_bytree': 0.9694436154006851}.\n",
      "[I 2025-05-15 04:47:10,217] Trial 15 finished with values: [0.6614435427790696, 0.03256077368960617] and parameters: {'max_depth': 3, 'eta': 0.07201006078350679, 'subsample': 0.6896184209315641, 'colsample_bytree': 0.7485869813824706}.\n",
      "[I 2025-05-15 04:47:10,320] Trial 16 finished with values: [0.6835813168399029, 0.07500545214194822] and parameters: {'max_depth': 5, 'eta': 0.2696553753652396, 'subsample': 0.8027756901814438, 'colsample_bytree': 0.8392617389177845}.\n",
      "[I 2025-05-15 04:47:10,430] Trial 17 finished with values: [0.7021394895736645, 0.06889120293765769] and parameters: {'max_depth': 7, 'eta': 0.2804130195047165, 'subsample': 0.8838936125401613, 'colsample_bytree': 0.7188154735379857}.\n",
      "[I 2025-05-15 04:47:10,513] Trial 18 finished with values: [0.6607267034889243, 0.013802175675359388] and parameters: {'max_depth': 3, 'eta': 0.1389252788142855, 'subsample': 0.7548312843089791, 'colsample_bytree': 0.8991412456822363}.\n",
      "[I 2025-05-15 04:47:10,614] Trial 19 finished with values: [0.6914236612107233, 0.053557117648193764] and parameters: {'max_depth': 5, 'eta': 0.2789019660094398, 'subsample': 0.8824040017757933, 'colsample_bytree': 0.6075094742604826}.\n",
      "[I 2025-05-15 04:47:10,704] Trial 20 finished with values: [0.6657185394858977, 0.025349919058560783] and parameters: {'max_depth': 3, 'eta': 0.2440573343812866, 'subsample': 0.8928369039040596, 'colsample_bytree': 0.8506835316959874}.\n",
      "[I 2025-05-15 04:47:10,816] Trial 21 finished with values: [0.6550149647860357, 0.034148291625446366] and parameters: {'max_depth': 3, 'eta': 0.028497190874173454, 'subsample': 0.905296188462051, 'colsample_bytree': 0.6509989945060869}.\n",
      "[I 2025-05-15 04:47:10,893] Trial 22 finished with values: [0.6642894560292617, 0.034996787520818966] and parameters: {'max_depth': 3, 'eta': 0.2707207711571431, 'subsample': 0.8746504000295612, 'colsample_bytree': 0.8913537905214264}.\n",
      "[I 2025-05-15 04:47:10,970] Trial 23 finished with values: [0.6714333416045558, 0.036549118439293315] and parameters: {'max_depth': 4, 'eta': 0.2100466164528633, 'subsample': 0.7720291228609981, 'colsample_bytree': 0.9964001749193679}.\n",
      "[I 2025-05-15 04:47:11,059] Trial 24 finished with values: [0.6578654731598828, 0.02911760900198661] and parameters: {'max_depth': 3, 'eta': 0.14976076073435085, 'subsample': 0.8557970471819547, 'colsample_bytree': 0.9986700672067291}.\n",
      "[I 2025-05-15 04:47:11,132] Trial 25 finished with values: [0.6650170172746016, 0.021271254394249667] and parameters: {'max_depth': 3, 'eta': 0.1032883706592161, 'subsample': 0.6376133826739548, 'colsample_bytree': 0.7997449474550162}.\n",
      "[I 2025-05-15 04:47:11,266] Trial 26 finished with values: [0.6714364050203258, 0.05933996382950685] and parameters: {'max_depth': 7, 'eta': 0.023600767670399196, 'subsample': 0.7253439608479386, 'colsample_bytree': 0.8626835093184344}.\n",
      "[I 2025-05-15 04:47:11,368] Trial 27 finished with values: [0.6771450803074445, 0.06083956485958549] and parameters: {'max_depth': 7, 'eta': 0.09562199767264444, 'subsample': 0.882757161017445, 'colsample_bytree': 0.7807568164517901}.\n",
      "[I 2025-05-15 04:47:11,447] Trial 28 finished with values: [0.6885639625895665, 0.04390875149438341] and parameters: {'max_depth': 4, 'eta': 0.2714574989051898, 'subsample': 0.9284415700920252, 'colsample_bytree': 0.8076193158434031}.\n",
      "[I 2025-05-15 04:47:11,549] Trial 29 finished with values: [0.670730287685375, 0.05199410652990114] and parameters: {'max_depth': 5, 'eta': 0.056021711971267346, 'subsample': 0.6109406440262554, 'colsample_bytree': 0.817535274795804}.\n",
      "[I 2025-05-15 04:47:11,638] Trial 30 finished with values: [0.6771496754310992, 0.030154663705938833] and parameters: {'max_depth': 5, 'eta': 0.13876136456637336, 'subsample': 0.8528202057299943, 'colsample_bytree': 0.9360151670723735}.\n",
      "[I 2025-05-15 04:47:11,734] Trial 31 finished with values: [0.6735823277671069, 0.0747810223803855] and parameters: {'max_depth': 5, 'eta': 0.1053994088946726, 'subsample': 0.8828178077946793, 'colsample_bytree': 0.9180770038919779}.\n",
      "[I 2025-05-15 04:47:11,819] Trial 32 finished with values: [0.665006295319407, 0.032320232587767866] and parameters: {'max_depth': 3, 'eta': 0.24688808587959246, 'subsample': 0.7057782567993811, 'colsample_bytree': 0.9869764436030006}.\n",
      "[I 2025-05-15 04:47:11,934] Trial 33 finished with values: [0.6714287464809011, 0.048204004020512926] and parameters: {'max_depth': 4, 'eta': 0.10659619965999723, 'subsample': 0.7869988336101803, 'colsample_bytree': 0.9552756560540941}.\n",
      "[I 2025-05-15 04:47:12,016] Trial 34 finished with values: [0.6714364050203258, 0.03976349099273125] and parameters: {'max_depth': 4, 'eta': 0.16468306714208492, 'subsample': 0.9036454408956829, 'colsample_bytree': 0.8689327462500707}.\n",
      "[I 2025-05-15 04:47:12,104] Trial 35 finished with values: [0.6814307989694669, 0.07330426895553964] and parameters: {'max_depth': 6, 'eta': 0.2436075380795166, 'subsample': 0.6840991076070875, 'colsample_bytree': 0.8828690432389185}.\n",
      "[I 2025-05-15 04:47:12,286] Trial 36 finished with values: [0.6699889410690708, 0.05242276097573695] and parameters: {'max_depth': 6, 'eta': 0.01350968490711867, 'subsample': 0.926999039909613, 'colsample_bytree': 0.9560560033314096}.\n",
      "[I 2025-05-15 04:47:12,395] Trial 37 finished with values: [0.6628481189095465, 0.04156654670811563] and parameters: {'max_depth': 6, 'eta': 0.04023058365902091, 'subsample': 0.9535184583149112, 'colsample_bytree': 0.9616275144636544}.\n",
      "[I 2025-05-15 04:47:12,484] Trial 38 finished with values: [0.6814292672615819, 0.08396612318796885] and parameters: {'max_depth': 7, 'eta': 0.1968051046028985, 'subsample': 0.6656836636409358, 'colsample_bytree': 0.7351583042296467}.\n",
      "[I 2025-05-15 04:47:12,573] Trial 39 finished with values: [0.6778496659345103, 0.059821484037927974] and parameters: {'max_depth': 7, 'eta': 0.11238599607624826, 'subsample': 0.8905685100826091, 'colsample_bytree': 0.8109107359676053}.\n",
      "[I 2025-05-15 04:47:12,651] Trial 40 finished with values: [0.6771496754310992, 0.04595550161650431] and parameters: {'max_depth': 4, 'eta': 0.2214734506393815, 'subsample': 0.9618582142698655, 'colsample_bytree': 0.7875245511639857}.\n",
      "[I 2025-05-15 04:47:12,733] Trial 41 finished with values: [0.6800017155128311, 0.04925368556508395] and parameters: {'max_depth': 5, 'eta': 0.18350251208444984, 'subsample': 0.8751610940744383, 'colsample_bytree': 0.8960318323088898}.\n",
      "[I 2025-05-15 04:47:12,811] Trial 42 finished with values: [0.6592930249086336, 0.03032585158852258] and parameters: {'max_depth': 4, 'eta': 0.14483951252697258, 'subsample': 0.7615057084025819, 'colsample_bytree': 0.7300101136168589}.\n",
      "[I 2025-05-15 04:47:12,910] Trial 43 finished with values: [0.6657231346095523, 0.03872707710692767] and parameters: {'max_depth': 5, 'eta': 0.043270450105139135, 'subsample': 0.8117960570290779, 'colsample_bytree': 0.94376663283755}.\n",
      "[I 2025-05-15 04:47:12,992] Trial 44 finished with values: [0.6842874341748537, 0.0384406915792934] and parameters: {'max_depth': 6, 'eta': 0.20020253145881808, 'subsample': 0.8267274788350784, 'colsample_bytree': 0.6612102025456387}.\n",
      "[I 2025-05-15 04:47:13,116] Trial 45 finished with values: [0.6742869133941728, 0.05675501590179236] and parameters: {'max_depth': 5, 'eta': 0.02267166981215426, 'subsample': 0.7757946157249633, 'colsample_bytree': 0.9383644075935141}.\n",
      "[I 2025-05-15 04:47:13,197] Trial 46 finished with values: [0.6721486491868163, 0.030365600260275582] and parameters: {'max_depth': 5, 'eta': 0.1589784128539931, 'subsample': 0.668293752819404, 'colsample_bytree': 0.724784641856099}.\n",
      "[I 2025-05-15 04:47:13,272] Trial 47 finished with values: [0.6685705795676294, 0.03957372087006677] and parameters: {'max_depth': 5, 'eta': 0.20050164998038844, 'subsample': 0.6818951506364179, 'colsample_bytree': 0.6106220485364899}.\n",
      "[I 2025-05-15 04:47:13,346] Trial 48 finished with values: [0.6807338718818258, 0.0580356333544047] and parameters: {'max_depth': 4, 'eta': 0.24939447314243995, 'subsample': 0.6365321637868088, 'colsample_bytree': 0.9283991190523991}.\n",
      "[I 2025-05-15 04:47:13,423] Trial 49 finished with values: [0.6814216087221574, 0.051955351014941344] and parameters: {'max_depth': 5, 'eta': 0.2707305488168811, 'subsample': 0.8547684372609258, 'colsample_bytree': 0.8445617692965017}.\n",
      "[I 2025-05-15 04:47:13,505] Trial 50 finished with values: [0.6921588809954876, 0.0571313135178478] and parameters: {'max_depth': 5, 'eta': 0.2939283612519244, 'subsample': 0.6818951506364179, 'colsample_bytree': 0.6589253591052271}.\n",
      "[I 2025-05-15 04:47:13,582] Trial 51 finished with values: [0.6700180435188844, 0.028461177561709194] and parameters: {'max_depth': 3, 'eta': 0.14976076073435085, 'subsample': 0.8557970471819547, 'colsample_bytree': 0.7031781052885846}.\n",
      "[I 2025-05-15 04:47:13,677] Trial 52 finished with values: [0.6764251776015292, 0.05995324168057773] and parameters: {'max_depth': 5, 'eta': 0.23640347393102348, 'subsample': 0.9679456160848078, 'colsample_bytree': 0.9120372564050997}.\n",
      "[I 2025-05-15 04:47:13,786] Trial 53 finished with values: [0.6857241761709142, 0.049283264650323434] and parameters: {'max_depth': 7, 'eta': 0.20020253145881808, 'subsample': 0.7128522758611269, 'colsample_bytree': 0.6612102025456387}.\n",
      "[I 2025-05-15 04:47:13,882] Trial 54 finished with values: [0.676429772725184, 0.04823216724276765] and parameters: {'max_depth': 4, 'eta': 0.20864185228941037, 'subsample': 0.6828208177420324, 'colsample_bytree': 0.9463891490229178}.\n",
      "[I 2025-05-15 04:47:13,992] Trial 55 finished with values: [0.6692782286104652, 0.05153930545560709] and parameters: {'max_depth': 7, 'eta': 0.11238599607624826, 'subsample': 0.7196140401106501, 'colsample_bytree': 0.8828690432389185}.\n",
      "[I 2025-05-15 04:47:14,077] Trial 56 finished with values: [0.6728654884769615, 0.02313666475881354] and parameters: {'max_depth': 3, 'eta': 0.10773079749960958, 'subsample': 0.7548312843089791, 'colsample_bytree': 0.6441993310896048}.\n",
      "[I 2025-05-15 04:47:14,164] Trial 57 finished with values: [0.6764374312646085, 0.06256237168181622] and parameters: {'max_depth': 4, 'eta': 0.20849443049298186, 'subsample': 0.774436328324725, 'colsample_bytree': 0.9137853897489617}.\n",
      "[I 2025-05-15 04:47:14,257] Trial 58 finished with values: [0.6642971145686865, 0.01650372926838047] and parameters: {'max_depth': 4, 'eta': 0.15203506191543273, 'subsample': 0.7615057084025819, 'colsample_bytree': 0.6202691769265432}.\n",
      "[I 2025-05-15 04:47:14,380] Trial 59 finished with values: [0.6707210974380654, 0.038007919526390405] and parameters: {'max_depth': 7, 'eta': 0.04134842079936573, 'subsample': 0.7057782567993811, 'colsample_bytree': 0.9869764436030006}.\n",
      "[I 2025-05-15 04:47:14,472] Trial 60 finished with values: [0.6742884451020577, 0.07542056077583138] and parameters: {'max_depth': 5, 'eta': 0.16468306714208492, 'subsample': 0.8938040597589907, 'colsample_bytree': 0.8689327462500707}.\n",
      "[I 2025-05-15 04:47:14,572] Trial 61 finished with values: [0.6564440482426716, 0.025714506076488564] and parameters: {'max_depth': 3, 'eta': 0.078889785857294, 'subsample': 0.8557970471819547, 'colsample_bytree': 0.8909627209565265}.\n",
      "[I 2025-05-15 04:47:14,672] Trial 62 finished with values: [0.6814277355536972, 0.04826801864110089] and parameters: {'max_depth': 6, 'eta': 0.1897422926593951, 'subsample': 0.6840991076070875, 'colsample_bytree': 0.9730373957409217}.\n",
      "[I 2025-05-15 04:47:14,762] Trial 63 finished with values: [0.6814323306773519, 0.04890057379267131] and parameters: {'max_depth': 6, 'eta': 0.1604362029471749, 'subsample': 0.8441938099050315, 'colsample_bytree': 0.6441993310896048}.\n",
      "[I 2025-05-15 04:47:14,869] Trial 64 finished with values: [0.6564394531190167, 0.04695483390173216] and parameters: {'max_depth': 4, 'eta': 0.023616051714016602, 'subsample': 0.9352133975888623, 'colsample_bytree': 0.7031781052885846}.\n",
      "[I 2025-05-15 04:47:14,978] Trial 65 finished with values: [0.6650139538588317, 0.05046373209188789] and parameters: {'max_depth': 4, 'eta': 0.02070971473904671, 'subsample': 0.8117960570290779, 'colsample_bytree': 0.6015691637129632}.\n",
      "[I 2025-05-15 04:47:15,051] Trial 66 finished with values: [0.6692920139814295, 0.02983575644965066] and parameters: {'max_depth': 3, 'eta': 0.2714574989051898, 'subsample': 0.9284415700920252, 'colsample_bytree': 0.8076193158434031}.\n",
      "[I 2025-05-15 04:47:15,131] Trial 67 finished with values: [0.6914236612107233, 0.053557117648193764] and parameters: {'max_depth': 5, 'eta': 0.2789019660094398, 'subsample': 0.8824040017757933, 'colsample_bytree': 0.6075094742604826}.\n",
      "[I 2025-05-15 04:47:15,214] Trial 68 finished with values: [0.6728654884769615, 0.03315236761703661] and parameters: {'max_depth': 6, 'eta': 0.11128728390837406, 'subsample': 0.8267274788350784, 'colsample_bytree': 0.6612102025456387}.\n",
      "[I 2025-05-15 04:47:15,293] Trial 69 finished with values: [0.6800078423443708, 0.06826040154992545] and parameters: {'max_depth': 5, 'eta': 0.2707207711571431, 'subsample': 0.8746504000295612, 'colsample_bytree': 0.8913537905214264}.\n",
      "[I 2025-05-15 04:47:15,370] Trial 70 finished with values: [0.6807200865108612, 0.0751198322141919] and parameters: {'max_depth': 5, 'eta': 0.20050164998038844, 'subsample': 0.9284415700920252, 'colsample_bytree': 0.8076193158434031}.\n",
      "[I 2025-05-15 04:47:15,542] Trial 71 finished with values: [0.6757190602665784, 0.050470247461346464] and parameters: {'max_depth': 6, 'eta': 0.01350968490711867, 'subsample': 0.6816624365138131, 'colsample_bytree': 0.9560560033314096}.\n",
      "[I 2025-05-15 04:47:15,621] Trial 72 finished with values: [0.6878563135467309, 0.06083136906332307] and parameters: {'max_depth': 5, 'eta': 0.2834888991218034, 'subsample': 0.8824040017757933, 'colsample_bytree': 0.6075094742604826}.\n",
      "[I 2025-05-15 04:47:15,697] Trial 73 finished with values: [0.6692858871498899, 0.05367865474115996] and parameters: {'max_depth': 5, 'eta': 0.1389252788142855, 'subsample': 0.7757946157249633, 'colsample_bytree': 0.8463869328875916}.\n",
      "[I 2025-05-15 04:47:15,836] Trial 74 finished with values: [0.6671338375715691, 0.05073710269864732] and parameters: {'max_depth': 5, 'eta': 0.01350968490711867, 'subsample': 0.926999039909613, 'colsample_bytree': 0.9560560033314096}.\n",
      "[I 2025-05-15 04:47:15,944] Trial 75 finished with values: [0.6700103849794597, 0.05498230530011022] and parameters: {'max_depth': 6, 'eta': 0.04134842079936573, 'subsample': 0.6840991076070875, 'colsample_bytree': 0.9463891490229178}.\n",
      "[I 2025-05-15 04:47:16,031] Trial 76 finished with values: [0.6750129429316276, 0.059231409784996476] and parameters: {'max_depth': 4, 'eta': 0.1604362029471749, 'subsample': 0.8441938099050315, 'colsample_bytree': 0.757405553667182}.\n",
      "[I 2025-05-15 04:47:16,121] Trial 77 finished with values: [0.6764267093094142, 0.061748111329534845] and parameters: {'max_depth': 7, 'eta': 0.10659619965999723, 'subsample': 0.7869988336101803, 'colsample_bytree': 0.8626835093184344}.\n",
      "[I 2025-05-15 04:47:16,195] Trial 78 finished with values: [0.6571547607012772, 0.015015389395338391] and parameters: {'max_depth': 3, 'eta': 0.11946224856843993, 'subsample': 0.9618050341808126, 'colsample_bytree': 0.8913537905214264}.\n",
      "[I 2025-05-15 04:47:16,278] Trial 79 finished with values: [0.6885624308816817, 0.07920113432659825] and parameters: {'max_depth': 7, 'eta': 0.22127558124606775, 'subsample': 0.8905685100826091, 'colsample_bytree': 0.8109107359676053}.\n",
      "[I 2025-05-15 04:47:16,355] Trial 80 finished with values: [0.6657246663174373, 0.013444256287662049] and parameters: {'max_depth': 3, 'eta': 0.07460206152306817, 'subsample': 0.6828208177420324, 'colsample_bytree': 0.6043606659912624}.\n",
      "[I 2025-05-15 04:47:16,431] Trial 81 finished with values: [0.6728624250611918, 0.04783024140598011] and parameters: {'max_depth': 4, 'eta': 0.12361546140158018, 'subsample': 0.6295505954213035, 'colsample_bytree': 0.9694436154006851}.\n",
      "[I 2025-05-15 04:47:16,533] Trial 82 finished with values: [0.6692797603183501, 0.057773796990356036] and parameters: {'max_depth': 6, 'eta': 0.04023058365902091, 'subsample': 0.9289476105717013, 'colsample_bytree': 0.9142953795430282}.\n",
      "[I 2025-05-15 04:47:16,607] Trial 83 finished with values: [0.6714394684360956, 0.06084631991474787] and parameters: {'max_depth': 3, 'eta': 0.24688808587959246, 'subsample': 0.7057782567993811, 'colsample_bytree': 0.8991412456822363}.\n",
      "[I 2025-05-15 04:47:16,704] Trial 84 finished with values: [0.6671506863583033, 0.039226487128279384] and parameters: {'max_depth': 4, 'eta': 0.0310989429045032, 'subsample': 0.881945806045443, 'colsample_bytree': 0.9283991190523991}.\n",
      "[I 2025-05-15 04:47:16,783] Trial 85 finished with values: [0.6593006834480583, 0.022291907551250118] and parameters: {'max_depth': 3, 'eta': 0.14976076073435085, 'subsample': 0.8928369039040596, 'colsample_bytree': 0.9986700672067291}.\n",
      "[I 2025-05-15 04:47:16,862] Trial 86 finished with values: [0.6642971145686865, 0.020441468133951413] and parameters: {'max_depth': 3, 'eta': 0.1032883706592161, 'subsample': 0.6376133826739548, 'colsample_bytree': 0.9986700672067291}.\n",
      "[I 2025-05-15 04:47:16,946] Trial 87 finished with values: [0.6664369104839278, 0.03966199016976619] and parameters: {'max_depth': 4, 'eta': 0.07370918121699094, 'subsample': 0.8938040597589907, 'colsample_bytree': 0.84199181195118}.\n",
      "[I 2025-05-15 04:47:17,050] Trial 88 finished with values: [0.6771496754310992, 0.04877591570109984] and parameters: {'max_depth': 7, 'eta': 0.05678651792094724, 'subsample': 0.6365321637868088, 'colsample_bytree': 0.9283991190523991}.\n",
      "[I 2025-05-15 04:47:17,126] Trial 89 finished with values: [0.6692996725208543, 0.026930005235151155] and parameters: {'max_depth': 3, 'eta': 0.20050164998038844, 'subsample': 0.6818951506364179, 'colsample_bytree': 0.6106220485364899}.\n",
      "[I 2025-05-15 04:47:17,211] Trial 90 finished with values: [0.6785848857192747, 0.026528837933991207] and parameters: {'max_depth': 5, 'eta': 0.1604362029471749, 'subsample': 0.6365321637868088, 'colsample_bytree': 0.6697792710585816}.\n",
      "[I 2025-05-15 04:47:17,293] Trial 91 finished with values: [0.6721486491868163, 0.030365600260275582] and parameters: {'max_depth': 5, 'eta': 0.1589784128539931, 'subsample': 0.668293752819404, 'colsample_bytree': 0.724784641856099}.\n",
      "[I 2025-05-15 04:47:17,449] Trial 92 finished with values: [0.661432820823875, 0.04848082508751866] and parameters: {'max_depth': 5, 'eta': 0.013463787079253976, 'subsample': 0.6109406440262554, 'colsample_bytree': 0.7602164946322192}.\n",
      "[I 2025-05-15 04:47:17,530] Trial 93 finished with values: [0.6678690573563335, 0.028876767564395705] and parameters: {'max_depth': 5, 'eta': 0.1032883706592161, 'subsample': 0.6376133826739548, 'colsample_bytree': 0.6591095863689854}.\n",
      "[I 2025-05-15 04:47:17,614] Trial 94 finished with values: [0.6692920139814297, 0.03724443581430482] and parameters: {'max_depth': 5, 'eta': 0.1589784128539931, 'subsample': 0.8824040017757933, 'colsample_bytree': 0.724784641856099}.\n",
      "[I 2025-05-15 04:47:17,694] Trial 95 finished with values: [0.6864348886295196, 0.07493002258833735] and parameters: {'max_depth': 5, 'eta': 0.18350251208444984, 'subsample': 0.8928369039040596, 'colsample_bytree': 0.8506835316959874}.\n",
      "[I 2025-05-15 04:47:17,768] Trial 96 finished with values: [0.6657292614410921, 0.04859489126793848] and parameters: {'max_depth': 3, 'eta': 0.2804130195047165, 'subsample': 0.7696983562227155, 'colsample_bytree': 0.7188154735379857}.\n",
      "[I 2025-05-15 04:47:17,852] Trial 97 finished with values: [0.689280801879712, 0.05958045550702301] and parameters: {'max_depth': 6, 'eta': 0.20020253145881808, 'subsample': 0.8840265705440891, 'colsample_bytree': 0.9895654425865072}.\n",
      "[I 2025-05-15 04:47:17,958] Trial 98 finished with values: [0.6621527235297903, 0.02200160315415368] and parameters: {'max_depth': 3, 'eta': 0.05033127668007191, 'subsample': 0.7887078508400488, 'colsample_bytree': 0.9463891490229178}.\n",
      "[I 2025-05-15 04:47:18,050] Trial 99 finished with values: [0.6707256925617201, 0.048225824614447466] and parameters: {'max_depth': 4, 'eta': 0.14483951252697258, 'subsample': 0.7615057084025819, 'colsample_bytree': 0.9787928890456238}.\n"
     ]
    },
    {
     "name": "stdout",
     "output_type": "stream",
     "text": [
      "Pareto-optimal solutions:\n",
      "Params: {'alpha': 0.41383153948093454, 'max_depth': 7, 'eta': 0.2804130195047165, 'subsample': 0.8838936125401613, 'colsample_bytree': 0.7188154735379857}, Accuracy: 0.7021, DPD: 0.0689\n",
      "Params: {'alpha': 0.41383153948093454, 'max_depth': 5, 'eta': 0.2789019660094398, 'subsample': 0.8824040017757933, 'colsample_bytree': 0.6075094742604826}, Accuracy: 0.6914, DPD: 0.0536\n",
      "Params: {'alpha': 0.41383153948093454, 'max_depth': 4, 'eta': 0.2714574989051898, 'subsample': 0.9284415700920252, 'colsample_bytree': 0.8076193158434031}, Accuracy: 0.6886, DPD: 0.0439\n",
      "Params: {'alpha': 0.41383153948093454, 'max_depth': 6, 'eta': 0.20020253145881808, 'subsample': 0.8267274788350784, 'colsample_bytree': 0.6612102025456387}, Accuracy: 0.6843, DPD: 0.0384\n",
      "Params: {'alpha': 0.41383153948093454, 'max_depth': 5, 'eta': 0.2939283612519244, 'subsample': 0.6818951506364179, 'colsample_bytree': 0.6589253591052271}, Accuracy: 0.6922, DPD: 0.0571\n",
      "Params: {'alpha': 0.41383153948093454, 'max_depth': 3, 'eta': 0.10773079749960958, 'subsample': 0.7548312843089791, 'colsample_bytree': 0.6441993310896048}, Accuracy: 0.6729, DPD: 0.0231\n",
      "Params: {'alpha': 0.41383153948093454, 'max_depth': 5, 'eta': 0.2789019660094398, 'subsample': 0.8824040017757933, 'colsample_bytree': 0.6075094742604826}, Accuracy: 0.6914, DPD: 0.0536\n",
      "Params: {'alpha': 0.41383153948093454, 'max_depth': 3, 'eta': 0.07460206152306817, 'subsample': 0.6828208177420324, 'colsample_bytree': 0.6043606659912624}, Accuracy: 0.6657, DPD: 0.0134\n",
      "Params: {'alpha': 0.41383153948093454, 'max_depth': 5, 'eta': 0.1604362029471749, 'subsample': 0.6365321637868088, 'colsample_bytree': 0.6697792710585816}, Accuracy: 0.6786, DPD: 0.0265\n"
     ]
    }
   ],
   "source": [
    "\n",
    "# Create and run Optuna study for multi-objective optimization\n",
    "study = optuna.create_study(directions=['maximize', 'minimize'])\n",
    "objective = create_objective_function(alpha=np.random.uniform(0,1))  # Example alpha value\n",
    "study.optimize(objective, n_trials=100)\n",
    "\n",
    "# Collect Pareto front results\n",
    "results = []\n",
    "for trial in study.best_trials:  # Best trials are the Pareto-optimal ones\n",
    "    results.append({\n",
    "        'accuracy': trial.values[0],\n",
    "        'dpd': trial.values[1],\n",
    "        'alpha': trial.user_attrs['params']['alpha'],\n",
    "        'params': trial.user_attrs['params']\n",
    "    })\n",
    "\n",
    "# Print summary of Pareto-optimal results\n",
    "print(\"Pareto-optimal solutions:\")\n",
    "for res in results:\n",
    "    print(f\"Params: {res['params']}, Accuracy: {res['accuracy']:.4f}, DPD: {res['dpd']:.4f}\")\n",
    "\n",
    "# Prepare data for plotting\n",
    "plot_df = pd.DataFrame({\n",
    "    'DPD': [res['dpd'] for res in results],\n",
    "    'Accuracy': [res['accuracy'] for res in results],\n",
    "    'alpha': [res['alpha'] for res in results]\n",
    "})\n",
    "\n"
   ]
  },
  {
   "cell_type": "code",
   "execution_count": 31,
   "id": "151609dd",
   "metadata": {},
   "outputs": [
    {
     "data": {
      "application/vnd.plotly.v1+json": {
       "config": {
        "plotlyServerURL": "https://plot.ly"
       },
       "data": [
        {
         "customdata": {
          "bdata": "vu4HSDd82j++7gdIN3zaP77uB0g3fNo/vu4HSDd82j++7gdIN3zaP77uB0g3fNo/vu4HSDd82j++7gdIN3zaP77uB0g3fNo/",
          "dtype": "f8",
          "shape": "9, 1"
         },
         "hovertemplate": "DPD=%{x}<br>Accuracy=%{y}<br>alpha=%{marker.color}<extra></extra>",
         "legendgroup": "",
         "marker": {
          "color": {
           "bdata": "vu4HSDd82j++7gdIN3zaP77uB0g3fNo/vu4HSDd82j++7gdIN3zaP77uB0g3fNo/vu4HSDd82j++7gdIN3zaP77uB0g3fNo/",
           "dtype": "f8"
          },
          "coloraxis": "coloraxis",
          "line": {
           "width": 0
          },
          "symbol": "circle"
         },
         "mode": "markers",
         "name": "",
         "orientation": "v",
         "showlegend": false,
         "type": "scatter",
         "x": {
          "bdata": "Rm6Zl9qisT9otoip1murPxtnWjc1e6Y/PV5Wkn+uoz/L+kXGUECtPzAV6UkjsZc/aLaIqdZrqz8grpiIqYiLP8U7Ty1gKps/",
          "dtype": "f8"
         },
         "xaxis": "x",
         "y": {
          "bdata": "Y14ePO135j+blJKDJCDmP+jXkEq3COY/MAjbwq7l5T/TXrBhKibmPx2zczQdiOU/m5SSgyQg5j89Kr/QnU3lP4Asd6b3tuU/",
          "dtype": "f8"
         },
         "yaxis": "y"
        }
       ],
       "layout": {
        "coloraxis": {
         "colorbar": {
          "title": {
           "text": "alpha"
          }
         },
         "colorscale": [
          [
           0,
           "#440154"
          ],
          [
           0.1111111111111111,
           "#482878"
          ],
          [
           0.2222222222222222,
           "#3e4989"
          ],
          [
           0.3333333333333333,
           "#31688e"
          ],
          [
           0.4444444444444444,
           "#26828e"
          ],
          [
           0.5555555555555556,
           "#1f9e89"
          ],
          [
           0.6666666666666666,
           "#35b779"
          ],
          [
           0.7777777777777778,
           "#6ece58"
          ],
          [
           0.8888888888888888,
           "#b5de2b"
          ],
          [
           1,
           "#fde725"
          ]
         ]
        },
        "legend": {
         "tracegroupgap": 0
        },
        "template": {
         "data": {
          "bar": [
           {
            "error_x": {
             "color": "#2a3f5f"
            },
            "error_y": {
             "color": "#2a3f5f"
            },
            "marker": {
             "line": {
              "color": "#E5ECF6",
              "width": 0.5
             },
             "pattern": {
              "fillmode": "overlay",
              "size": 10,
              "solidity": 0.2
             }
            },
            "type": "bar"
           }
          ],
          "barpolar": [
           {
            "marker": {
             "line": {
              "color": "#E5ECF6",
              "width": 0.5
             },
             "pattern": {
              "fillmode": "overlay",
              "size": 10,
              "solidity": 0.2
             }
            },
            "type": "barpolar"
           }
          ],
          "carpet": [
           {
            "aaxis": {
             "endlinecolor": "#2a3f5f",
             "gridcolor": "white",
             "linecolor": "white",
             "minorgridcolor": "white",
             "startlinecolor": "#2a3f5f"
            },
            "baxis": {
             "endlinecolor": "#2a3f5f",
             "gridcolor": "white",
             "linecolor": "white",
             "minorgridcolor": "white",
             "startlinecolor": "#2a3f5f"
            },
            "type": "carpet"
           }
          ],
          "choropleth": [
           {
            "colorbar": {
             "outlinewidth": 0,
             "ticks": ""
            },
            "type": "choropleth"
           }
          ],
          "contour": [
           {
            "colorbar": {
             "outlinewidth": 0,
             "ticks": ""
            },
            "colorscale": [
             [
              0,
              "#0d0887"
             ],
             [
              0.1111111111111111,
              "#46039f"
             ],
             [
              0.2222222222222222,
              "#7201a8"
             ],
             [
              0.3333333333333333,
              "#9c179e"
             ],
             [
              0.4444444444444444,
              "#bd3786"
             ],
             [
              0.5555555555555556,
              "#d8576b"
             ],
             [
              0.6666666666666666,
              "#ed7953"
             ],
             [
              0.7777777777777778,
              "#fb9f3a"
             ],
             [
              0.8888888888888888,
              "#fdca26"
             ],
             [
              1,
              "#f0f921"
             ]
            ],
            "type": "contour"
           }
          ],
          "contourcarpet": [
           {
            "colorbar": {
             "outlinewidth": 0,
             "ticks": ""
            },
            "type": "contourcarpet"
           }
          ],
          "heatmap": [
           {
            "colorbar": {
             "outlinewidth": 0,
             "ticks": ""
            },
            "colorscale": [
             [
              0,
              "#0d0887"
             ],
             [
              0.1111111111111111,
              "#46039f"
             ],
             [
              0.2222222222222222,
              "#7201a8"
             ],
             [
              0.3333333333333333,
              "#9c179e"
             ],
             [
              0.4444444444444444,
              "#bd3786"
             ],
             [
              0.5555555555555556,
              "#d8576b"
             ],
             [
              0.6666666666666666,
              "#ed7953"
             ],
             [
              0.7777777777777778,
              "#fb9f3a"
             ],
             [
              0.8888888888888888,
              "#fdca26"
             ],
             [
              1,
              "#f0f921"
             ]
            ],
            "type": "heatmap"
           }
          ],
          "histogram": [
           {
            "marker": {
             "pattern": {
              "fillmode": "overlay",
              "size": 10,
              "solidity": 0.2
             }
            },
            "type": "histogram"
           }
          ],
          "histogram2d": [
           {
            "colorbar": {
             "outlinewidth": 0,
             "ticks": ""
            },
            "colorscale": [
             [
              0,
              "#0d0887"
             ],
             [
              0.1111111111111111,
              "#46039f"
             ],
             [
              0.2222222222222222,
              "#7201a8"
             ],
             [
              0.3333333333333333,
              "#9c179e"
             ],
             [
              0.4444444444444444,
              "#bd3786"
             ],
             [
              0.5555555555555556,
              "#d8576b"
             ],
             [
              0.6666666666666666,
              "#ed7953"
             ],
             [
              0.7777777777777778,
              "#fb9f3a"
             ],
             [
              0.8888888888888888,
              "#fdca26"
             ],
             [
              1,
              "#f0f921"
             ]
            ],
            "type": "histogram2d"
           }
          ],
          "histogram2dcontour": [
           {
            "colorbar": {
             "outlinewidth": 0,
             "ticks": ""
            },
            "colorscale": [
             [
              0,
              "#0d0887"
             ],
             [
              0.1111111111111111,
              "#46039f"
             ],
             [
              0.2222222222222222,
              "#7201a8"
             ],
             [
              0.3333333333333333,
              "#9c179e"
             ],
             [
              0.4444444444444444,
              "#bd3786"
             ],
             [
              0.5555555555555556,
              "#d8576b"
             ],
             [
              0.6666666666666666,
              "#ed7953"
             ],
             [
              0.7777777777777778,
              "#fb9f3a"
             ],
             [
              0.8888888888888888,
              "#fdca26"
             ],
             [
              1,
              "#f0f921"
             ]
            ],
            "type": "histogram2dcontour"
           }
          ],
          "mesh3d": [
           {
            "colorbar": {
             "outlinewidth": 0,
             "ticks": ""
            },
            "type": "mesh3d"
           }
          ],
          "parcoords": [
           {
            "line": {
             "colorbar": {
              "outlinewidth": 0,
              "ticks": ""
             }
            },
            "type": "parcoords"
           }
          ],
          "pie": [
           {
            "automargin": true,
            "type": "pie"
           }
          ],
          "scatter": [
           {
            "fillpattern": {
             "fillmode": "overlay",
             "size": 10,
             "solidity": 0.2
            },
            "type": "scatter"
           }
          ],
          "scatter3d": [
           {
            "line": {
             "colorbar": {
              "outlinewidth": 0,
              "ticks": ""
             }
            },
            "marker": {
             "colorbar": {
              "outlinewidth": 0,
              "ticks": ""
             }
            },
            "type": "scatter3d"
           }
          ],
          "scattercarpet": [
           {
            "marker": {
             "colorbar": {
              "outlinewidth": 0,
              "ticks": ""
             }
            },
            "type": "scattercarpet"
           }
          ],
          "scattergeo": [
           {
            "marker": {
             "colorbar": {
              "outlinewidth": 0,
              "ticks": ""
             }
            },
            "type": "scattergeo"
           }
          ],
          "scattergl": [
           {
            "marker": {
             "colorbar": {
              "outlinewidth": 0,
              "ticks": ""
             }
            },
            "type": "scattergl"
           }
          ],
          "scattermap": [
           {
            "marker": {
             "colorbar": {
              "outlinewidth": 0,
              "ticks": ""
             }
            },
            "type": "scattermap"
           }
          ],
          "scattermapbox": [
           {
            "marker": {
             "colorbar": {
              "outlinewidth": 0,
              "ticks": ""
             }
            },
            "type": "scattermapbox"
           }
          ],
          "scatterpolar": [
           {
            "marker": {
             "colorbar": {
              "outlinewidth": 0,
              "ticks": ""
             }
            },
            "type": "scatterpolar"
           }
          ],
          "scatterpolargl": [
           {
            "marker": {
             "colorbar": {
              "outlinewidth": 0,
              "ticks": ""
             }
            },
            "type": "scatterpolargl"
           }
          ],
          "scatterternary": [
           {
            "marker": {
             "colorbar": {
              "outlinewidth": 0,
              "ticks": ""
             }
            },
            "type": "scatterternary"
           }
          ],
          "surface": [
           {
            "colorbar": {
             "outlinewidth": 0,
             "ticks": ""
            },
            "colorscale": [
             [
              0,
              "#0d0887"
             ],
             [
              0.1111111111111111,
              "#46039f"
             ],
             [
              0.2222222222222222,
              "#7201a8"
             ],
             [
              0.3333333333333333,
              "#9c179e"
             ],
             [
              0.4444444444444444,
              "#bd3786"
             ],
             [
              0.5555555555555556,
              "#d8576b"
             ],
             [
              0.6666666666666666,
              "#ed7953"
             ],
             [
              0.7777777777777778,
              "#fb9f3a"
             ],
             [
              0.8888888888888888,
              "#fdca26"
             ],
             [
              1,
              "#f0f921"
             ]
            ],
            "type": "surface"
           }
          ],
          "table": [
           {
            "cells": {
             "fill": {
              "color": "#EBF0F8"
             },
             "line": {
              "color": "white"
             }
            },
            "header": {
             "fill": {
              "color": "#C8D4E3"
             },
             "line": {
              "color": "white"
             }
            },
            "type": "table"
           }
          ]
         },
         "layout": {
          "annotationdefaults": {
           "arrowcolor": "#2a3f5f",
           "arrowhead": 0,
           "arrowwidth": 1
          },
          "autotypenumbers": "strict",
          "coloraxis": {
           "colorbar": {
            "outlinewidth": 0,
            "ticks": ""
           }
          },
          "colorscale": {
           "diverging": [
            [
             0,
             "#8e0152"
            ],
            [
             0.1,
             "#c51b7d"
            ],
            [
             0.2,
             "#de77ae"
            ],
            [
             0.3,
             "#f1b6da"
            ],
            [
             0.4,
             "#fde0ef"
            ],
            [
             0.5,
             "#f7f7f7"
            ],
            [
             0.6,
             "#e6f5d0"
            ],
            [
             0.7,
             "#b8e186"
            ],
            [
             0.8,
             "#7fbc41"
            ],
            [
             0.9,
             "#4d9221"
            ],
            [
             1,
             "#276419"
            ]
           ],
           "sequential": [
            [
             0,
             "#0d0887"
            ],
            [
             0.1111111111111111,
             "#46039f"
            ],
            [
             0.2222222222222222,
             "#7201a8"
            ],
            [
             0.3333333333333333,
             "#9c179e"
            ],
            [
             0.4444444444444444,
             "#bd3786"
            ],
            [
             0.5555555555555556,
             "#d8576b"
            ],
            [
             0.6666666666666666,
             "#ed7953"
            ],
            [
             0.7777777777777778,
             "#fb9f3a"
            ],
            [
             0.8888888888888888,
             "#fdca26"
            ],
            [
             1,
             "#f0f921"
            ]
           ],
           "sequentialminus": [
            [
             0,
             "#0d0887"
            ],
            [
             0.1111111111111111,
             "#46039f"
            ],
            [
             0.2222222222222222,
             "#7201a8"
            ],
            [
             0.3333333333333333,
             "#9c179e"
            ],
            [
             0.4444444444444444,
             "#bd3786"
            ],
            [
             0.5555555555555556,
             "#d8576b"
            ],
            [
             0.6666666666666666,
             "#ed7953"
            ],
            [
             0.7777777777777778,
             "#fb9f3a"
            ],
            [
             0.8888888888888888,
             "#fdca26"
            ],
            [
             1,
             "#f0f921"
            ]
           ]
          },
          "colorway": [
           "#636efa",
           "#EF553B",
           "#00cc96",
           "#ab63fa",
           "#FFA15A",
           "#19d3f3",
           "#FF6692",
           "#B6E880",
           "#FF97FF",
           "#FECB52"
          ],
          "font": {
           "color": "#2a3f5f"
          },
          "geo": {
           "bgcolor": "white",
           "lakecolor": "white",
           "landcolor": "#E5ECF6",
           "showlakes": true,
           "showland": true,
           "subunitcolor": "white"
          },
          "hoverlabel": {
           "align": "left"
          },
          "hovermode": "closest",
          "mapbox": {
           "style": "light"
          },
          "paper_bgcolor": "white",
          "plot_bgcolor": "#E5ECF6",
          "polar": {
           "angularaxis": {
            "gridcolor": "white",
            "linecolor": "white",
            "ticks": ""
           },
           "bgcolor": "#E5ECF6",
           "radialaxis": {
            "gridcolor": "white",
            "linecolor": "white",
            "ticks": ""
           }
          },
          "scene": {
           "xaxis": {
            "backgroundcolor": "#E5ECF6",
            "gridcolor": "white",
            "gridwidth": 2,
            "linecolor": "white",
            "showbackground": true,
            "ticks": "",
            "zerolinecolor": "white"
           },
           "yaxis": {
            "backgroundcolor": "#E5ECF6",
            "gridcolor": "white",
            "gridwidth": 2,
            "linecolor": "white",
            "showbackground": true,
            "ticks": "",
            "zerolinecolor": "white"
           },
           "zaxis": {
            "backgroundcolor": "#E5ECF6",
            "gridcolor": "white",
            "gridwidth": 2,
            "linecolor": "white",
            "showbackground": true,
            "ticks": "",
            "zerolinecolor": "white"
           }
          },
          "shapedefaults": {
           "line": {
            "color": "#2a3f5f"
           }
          },
          "ternary": {
           "aaxis": {
            "gridcolor": "white",
            "linecolor": "white",
            "ticks": ""
           },
           "baxis": {
            "gridcolor": "white",
            "linecolor": "white",
            "ticks": ""
           },
           "bgcolor": "#E5ECF6",
           "caxis": {
            "gridcolor": "white",
            "linecolor": "white",
            "ticks": ""
           }
          },
          "title": {
           "x": 0.05
          },
          "xaxis": {
           "automargin": true,
           "gridcolor": "white",
           "linecolor": "white",
           "ticks": "",
           "title": {
            "standoff": 15
           },
           "zerolinecolor": "white",
           "zerolinewidth": 2
          },
          "yaxis": {
           "automargin": true,
           "gridcolor": "white",
           "linecolor": "white",
           "ticks": "",
           "title": {
            "standoff": 15
           },
           "zerolinecolor": "white",
           "zerolinewidth": 2
          }
         }
        },
        "title": {
         "text": "Pareto Front: DPD vs. Accuracy"
        },
        "xaxis": {
         "anchor": "y",
         "domain": [
          0,
          1
         ],
         "title": {
          "text": "DPD"
         }
        },
        "yaxis": {
         "anchor": "x",
         "domain": [
          0,
          1
         ],
         "title": {
          "text": "Accuracy"
         }
        }
       }
      }
     },
     "metadata": {},
     "output_type": "display_data"
    }
   ],
   "source": [
    "# Create interactive Plotly plot\n",
    "fig = px.scatter(\n",
    "    plot_df,\n",
    "    x='DPD',\n",
    "    y='Accuracy',\n",
    "    color='alpha',\n",
    "    color_continuous_scale='Viridis',\n",
    "    size_max=15,\n",
    "    hover_data={'alpha': True, 'DPD': True, 'Accuracy': True},\n",
    "    title='Pareto Front: DPD vs. Accuracy'\n",
    ")\n",
    "fig.update_traces(marker=dict(line_width=0))\n",
    "fig.show()"
   ]
  },
  {
   "cell_type": "code",
   "execution_count": null,
   "id": "e568ef11",
   "metadata": {},
   "outputs": [],
   "source": []
  }
 ],
 "metadata": {
  "kernelspec": {
   "display_name": "env",
   "language": "python",
   "name": "python3"
  },
  "language_info": {
   "codemirror_mode": {
    "name": "ipython",
    "version": 3
   },
   "file_extension": ".py",
   "mimetype": "text/x-python",
   "name": "python",
   "nbconvert_exporter": "python",
   "pygments_lexer": "ipython3",
   "version": "3.13.2"
  }
 },
 "nbformat": 4,
 "nbformat_minor": 5
}
