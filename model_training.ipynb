{
 "cells": [
  {
   "cell_type": "code",
   "execution_count": 1,
   "id": "992e846d",
   "metadata": {},
   "outputs": [],
   "source": [
    "import numpy as np\n",
    "import pandas as pd\n",
    "import xgboost as xgb\n",
    "from sklearn.model_selection import train_test_split, GridSearchCV\n",
    "from sklearn.metrics import accuracy_score"
   ]
  },
  {
   "cell_type": "code",
   "execution_count": 2,
   "id": "235eec1f",
   "metadata": {},
   "outputs": [],
   "source": [
    "# 1. Load and prepare your data\n",
    "DATA_PATH = 'german_credit_data_cleaned.csv'\n",
    "df = pd.read_csv(DATA_PATH)\n",
    "\n",
    "y = df['Risk_good'].values\n",
    "X_full = df.drop(columns=['Risk_good']) \n",
    "\n",
    "# extract sensitive attribute array\n",
    "sensitive = df['Sex_male'].values\n"
   ]
  },
  {
   "cell_type": "code",
   "execution_count": 3,
   "id": "fdc7ff83",
   "metadata": {},
   "outputs": [],
   "source": [
    "\n",
    "# split data\n",
    "def split_data(X_full, y, sensitive, test_size=0.2, random_state=200):\n",
    "    X_train, X_test, y_train, y_test, sens_train, sens_test = \\\n",
    "        train_test_split(\n",
    "            X_full.drop(columns=['Sex_male']).values,\n",
    "            y,\n",
    "            sensitive,\n",
    "            test_size=test_size,\n",
    "            random_state=random_state\n",
    "        )\n",
    "    return X_train, X_test, y_train, y_test, sens_train, sens_test\n",
    "\n",
    "X_train, X_test, y_train, y_test, sens_train, sens_test = split_data(X_full, y, sensitive)\n",
    "\n",
    "# prepare DMatrix\n",
    "\n",
    "dtrain = xgb.DMatrix(X_train, label=y_train)\n",
    "dtest = xgb.DMatrix(X_test, label=y_test)\n",
    "\n"
   ]
  },
  {
   "cell_type": "code",
   "execution_count": 23,
   "id": "6c204ce8",
   "metadata": {},
   "outputs": [],
   "source": [
    "# 2. Define factory for custom objective using closure to capture sensitive array\n",
    "\n",
    "def make_custom_obj(sens_array, alpha=0.5):\n",
    "    def custom_obj(preds, dmatrix):\n",
    "        # raw margins -> probabilities\n",
    "        labels = dmatrix.get_label()\n",
    "        preds_prob = 1.0 / (1.0 + np.exp(-preds))\n",
    "\n",
    "        # 1. log-loss gradients\n",
    "        grad_log = preds_prob - labels\n",
    "        hess_log = preds_prob * (1.0 - preds_prob)\n",
    "\n",
    "        # 2. fairness gradients (DPD)\n",
    "        sens = sens_array  # closure-captured train/test sens aligned to DMatrix\n",
    "        mask_p = (sens == 1)\n",
    "        mask_u = (sens == 0)\n",
    "        n_p, n_u = mask_p.sum(), mask_u.sum()\n",
    "        mean_p = preds_prob[mask_p].mean()\n",
    "        mean_u = preds_prob[mask_u].mean()\n",
    "        diff = mean_p - mean_u\n",
    "        sign = np.sign(diff)\n",
    "\n",
    "        sigmoid_deriv = preds_prob * (1.0 - preds_prob)\n",
    "        grad_fair = np.zeros_like(preds)\n",
    "        grad_fair[mask_p] =  sign * (1.0/n_p) * sigmoid_deriv[mask_p]\n",
    "        grad_fair[mask_u] = -sign * (1.0/n_u) * sigmoid_deriv[mask_u]\n",
    "        hess_fair = np.zeros_like(preds)\n",
    "\n",
    "        grad = alpha*grad_log + (1-alpha)*grad_fair\n",
    "        hess = alpha*hess_log + (1-alpha)*hess_fair\n",
    "        return grad, hess\n",
    "    return custom_obj\n"
   ]
  },
  {
   "cell_type": "code",
   "execution_count": 5,
   "id": "8799115a",
   "metadata": {},
   "outputs": [
    {
     "name": "stdout",
     "output_type": "stream",
     "text": [
      "Training with alpha = 0.1\n",
      "Training with alpha = 0.2\n",
      "Training with alpha = 0.3\n",
      "Training with alpha = 0.4\n",
      "Training with alpha = 0.5\n",
      "Training with alpha = 0.6\n",
      "Training with alpha = 0.7\n",
      "Training with alpha = 0.8\n",
      "Training with alpha = 0.9\n",
      "Training with alpha = 1.0\n"
     ]
    }
   ],
   "source": [
    "\n",
    "# Loop over alpha values and train separate models\n",
    "alpha_list = [i/10 for i in range(1, 11)]  # 0.1 to 1.0\n",
    "results = []\n",
    "for alpha in alpha_list:\n",
    "    print(f\"Training with alpha = {alpha}\")\n",
    "    # create custom objective for this alpha\n",
    "    train_obj = make_custom_obj(sens_train, alpha=alpha)\n",
    "    # train model\n",
    "    params = {'max_depth': 4, 'eta': 0.1, 'verbosity': 0}\n",
    "    bst = xgb.train(\n",
    "        params,\n",
    "        dtrain,\n",
    "        num_boost_round=100,\n",
    "        obj=train_obj,\n",
    "        evals=[(dtrain, 'train'), (dtest, 'test')],\n",
    "        early_stopping_rounds=10,\n",
    "        verbose_eval=False\n",
    "    )\n",
    "    # evaluate on test set\n",
    "    pred_prob = bst.predict(dtest)\n",
    "    pred = (pred_prob > 0.5).astype(int)\n",
    "    acc = accuracy_score(y_test, pred)\n",
    "    dpd_val = abs(pred[sens_test==1].mean() - pred[sens_test==0].mean())\n",
    "    # print(f\" -> Acc: {acc:.4f}, DPD: {dpd_val:.4f}\")\n",
    "    results.append({'alpha': alpha, 'accuracy': acc, 'dpd': dpd_val})\n",
    "\n"
   ]
  },
  {
   "cell_type": "code",
   "execution_count": 6,
   "id": "c6e72c66",
   "metadata": {},
   "outputs": [
    {
     "name": "stdout",
     "output_type": "stream",
     "text": [
      "Summary of results for different alpha values:\n",
      "alpha=0.1: acc=0.6893, dpd=0.0094\n",
      "alpha=0.2: acc=0.6714, dpd=0.0366\n",
      "alpha=0.3: acc=0.6821, dpd=0.0151\n",
      "alpha=0.4: acc=0.6929, dpd=0.0228\n",
      "alpha=0.5: acc=0.6964, dpd=0.0118\n",
      "alpha=0.6: acc=0.6929, dpd=0.0065\n",
      "alpha=0.7: acc=0.6964, dpd=0.0118\n",
      "alpha=0.8: acc=0.6893, dpd=0.0012\n",
      "alpha=0.9: acc=0.6929, dpd=0.0122\n",
      "alpha=1.0: acc=0.6893, dpd=0.0012\n"
     ]
    }
   ],
   "source": [
    "# Summarize results\n",
    "print(\"Summary of results for different alpha values:\")\n",
    "alpha_vals = []\n",
    "acc_vals = []\n",
    "dpd_vals = []\n",
    "for res in results:\n",
    "    alpha_vals.append(res['alpha'])\n",
    "    acc_vals.append(res['accuracy'])\n",
    "    dpd_vals.append(res['dpd'])\n",
    "    print(f\"alpha={res['alpha']}: acc={res['accuracy']:.4f}, dpd={res['dpd']:.4f}\")\n",
    "\n"
   ]
  },
  {
   "cell_type": "code",
   "execution_count": 7,
   "id": "26c23179",
   "metadata": {},
   "outputs": [
    {
     "data": {
      "application/vnd.plotly.v1+json": {
       "config": {
        "plotlyServerURL": "https://plot.ly"
       },
       "data": [
        {
         "customdata": [
          [
           0.1,
           "Yes"
          ],
          [
           0.2,
           "Yes"
          ],
          [
           0.3,
           "Yes"
          ],
          [
           0.4,
           "Yes"
          ],
          [
           0.5,
           "No"
          ],
          [
           0.6,
           "No"
          ],
          [
           0.7,
           "No"
          ],
          [
           0.8,
           "No"
          ],
          [
           0.9,
           "Yes"
          ],
          [
           1,
           "No"
          ]
         ],
         "hovertemplate": "DPD=%{x}<br>Accuracy=%{y}<br>alpha=%{marker.color}<br>Dominated=%{customdata[1]}<extra></extra>",
         "legendgroup": "",
         "marker": {
          "color": {
           "bdata": "mpmZmZmZuT+amZmZmZnJPzMzMzMzM9M/mpmZmZmZ2T8AAAAAAADgPzMzMzMzM+M/ZmZmZmZm5j+amZmZmZnpP83MzMzMzOw/AAAAAAAA8D8=",
           "dtype": "f8"
          },
          "coloraxis": "coloraxis",
          "line": {
           "width": 0
          },
          "symbol": "circle"
         },
         "mode": "markers",
         "name": "",
         "orientation": "v",
         "showlegend": false,
         "type": "scatter",
         "x": {
          "bdata": "wDKBaN0rgz8YLMESLMGiP4DtgclC144/aHUBwspWlz/AgoFtLSyIP8CqAXBVrHo/wIKBbS0siD8AQAEUQAFUPxCQARmQAYk/AEABFEABVD8=",
          "dtype": "f8"
         },
         "xaxis": "x",
         "y": {
          "bdata": "6qAO6qAO5j/FV3zFV3zlP0Id1EEd1OU/vuIrvuIr5j+SJEmSJEnmP77iK77iK+Y/kiRJkiRJ5j/qoA7qoA7mP77iK77iK+Y/6qAO6qAO5j8=",
          "dtype": "f8"
         },
         "yaxis": "y"
        },
        {
         "hoverinfo": "skip",
         "marker": {
          "color": "lightgray",
          "size": 10
         },
         "mode": "markers",
         "name": "Dominated",
         "type": "scatter",
         "x": {
          "bdata": "wDKBaN0rgz8YLMESLMGiP4DtgclC144/aHUBwspWlz8QkAEZkAGJPw==",
          "dtype": "f8"
         },
         "y": {
          "bdata": "6qAO6qAO5j/FV3zFV3zlP0Id1EEd1OU/vuIrvuIr5j++4iu+4ivmPw==",
          "dtype": "f8"
         }
        }
       ],
       "layout": {
        "coloraxis": {
         "colorbar": {
          "title": {
           "text": "alpha"
          }
         },
         "colorscale": [
          [
           0,
           "#440154"
          ],
          [
           0.1111111111111111,
           "#482878"
          ],
          [
           0.2222222222222222,
           "#3e4989"
          ],
          [
           0.3333333333333333,
           "#31688e"
          ],
          [
           0.4444444444444444,
           "#26828e"
          ],
          [
           0.5555555555555556,
           "#1f9e89"
          ],
          [
           0.6666666666666666,
           "#35b779"
          ],
          [
           0.7777777777777778,
           "#6ece58"
          ],
          [
           0.8888888888888888,
           "#b5de2b"
          ],
          [
           1,
           "#fde725"
          ]
         ]
        },
        "legend": {
         "tracegroupgap": 0
        },
        "template": {
         "data": {
          "bar": [
           {
            "error_x": {
             "color": "#2a3f5f"
            },
            "error_y": {
             "color": "#2a3f5f"
            },
            "marker": {
             "line": {
              "color": "#E5ECF6",
              "width": 0.5
             },
             "pattern": {
              "fillmode": "overlay",
              "size": 10,
              "solidity": 0.2
             }
            },
            "type": "bar"
           }
          ],
          "barpolar": [
           {
            "marker": {
             "line": {
              "color": "#E5ECF6",
              "width": 0.5
             },
             "pattern": {
              "fillmode": "overlay",
              "size": 10,
              "solidity": 0.2
             }
            },
            "type": "barpolar"
           }
          ],
          "carpet": [
           {
            "aaxis": {
             "endlinecolor": "#2a3f5f",
             "gridcolor": "white",
             "linecolor": "white",
             "minorgridcolor": "white",
             "startlinecolor": "#2a3f5f"
            },
            "baxis": {
             "endlinecolor": "#2a3f5f",
             "gridcolor": "white",
             "linecolor": "white",
             "minorgridcolor": "white",
             "startlinecolor": "#2a3f5f"
            },
            "type": "carpet"
           }
          ],
          "choropleth": [
           {
            "colorbar": {
             "outlinewidth": 0,
             "ticks": ""
            },
            "type": "choropleth"
           }
          ],
          "contour": [
           {
            "colorbar": {
             "outlinewidth": 0,
             "ticks": ""
            },
            "colorscale": [
             [
              0,
              "#0d0887"
             ],
             [
              0.1111111111111111,
              "#46039f"
             ],
             [
              0.2222222222222222,
              "#7201a8"
             ],
             [
              0.3333333333333333,
              "#9c179e"
             ],
             [
              0.4444444444444444,
              "#bd3786"
             ],
             [
              0.5555555555555556,
              "#d8576b"
             ],
             [
              0.6666666666666666,
              "#ed7953"
             ],
             [
              0.7777777777777778,
              "#fb9f3a"
             ],
             [
              0.8888888888888888,
              "#fdca26"
             ],
             [
              1,
              "#f0f921"
             ]
            ],
            "type": "contour"
           }
          ],
          "contourcarpet": [
           {
            "colorbar": {
             "outlinewidth": 0,
             "ticks": ""
            },
            "type": "contourcarpet"
           }
          ],
          "heatmap": [
           {
            "colorbar": {
             "outlinewidth": 0,
             "ticks": ""
            },
            "colorscale": [
             [
              0,
              "#0d0887"
             ],
             [
              0.1111111111111111,
              "#46039f"
             ],
             [
              0.2222222222222222,
              "#7201a8"
             ],
             [
              0.3333333333333333,
              "#9c179e"
             ],
             [
              0.4444444444444444,
              "#bd3786"
             ],
             [
              0.5555555555555556,
              "#d8576b"
             ],
             [
              0.6666666666666666,
              "#ed7953"
             ],
             [
              0.7777777777777778,
              "#fb9f3a"
             ],
             [
              0.8888888888888888,
              "#fdca26"
             ],
             [
              1,
              "#f0f921"
             ]
            ],
            "type": "heatmap"
           }
          ],
          "histogram": [
           {
            "marker": {
             "pattern": {
              "fillmode": "overlay",
              "size": 10,
              "solidity": 0.2
             }
            },
            "type": "histogram"
           }
          ],
          "histogram2d": [
           {
            "colorbar": {
             "outlinewidth": 0,
             "ticks": ""
            },
            "colorscale": [
             [
              0,
              "#0d0887"
             ],
             [
              0.1111111111111111,
              "#46039f"
             ],
             [
              0.2222222222222222,
              "#7201a8"
             ],
             [
              0.3333333333333333,
              "#9c179e"
             ],
             [
              0.4444444444444444,
              "#bd3786"
             ],
             [
              0.5555555555555556,
              "#d8576b"
             ],
             [
              0.6666666666666666,
              "#ed7953"
             ],
             [
              0.7777777777777778,
              "#fb9f3a"
             ],
             [
              0.8888888888888888,
              "#fdca26"
             ],
             [
              1,
              "#f0f921"
             ]
            ],
            "type": "histogram2d"
           }
          ],
          "histogram2dcontour": [
           {
            "colorbar": {
             "outlinewidth": 0,
             "ticks": ""
            },
            "colorscale": [
             [
              0,
              "#0d0887"
             ],
             [
              0.1111111111111111,
              "#46039f"
             ],
             [
              0.2222222222222222,
              "#7201a8"
             ],
             [
              0.3333333333333333,
              "#9c179e"
             ],
             [
              0.4444444444444444,
              "#bd3786"
             ],
             [
              0.5555555555555556,
              "#d8576b"
             ],
             [
              0.6666666666666666,
              "#ed7953"
             ],
             [
              0.7777777777777778,
              "#fb9f3a"
             ],
             [
              0.8888888888888888,
              "#fdca26"
             ],
             [
              1,
              "#f0f921"
             ]
            ],
            "type": "histogram2dcontour"
           }
          ],
          "mesh3d": [
           {
            "colorbar": {
             "outlinewidth": 0,
             "ticks": ""
            },
            "type": "mesh3d"
           }
          ],
          "parcoords": [
           {
            "line": {
             "colorbar": {
              "outlinewidth": 0,
              "ticks": ""
             }
            },
            "type": "parcoords"
           }
          ],
          "pie": [
           {
            "automargin": true,
            "type": "pie"
           }
          ],
          "scatter": [
           {
            "fillpattern": {
             "fillmode": "overlay",
             "size": 10,
             "solidity": 0.2
            },
            "type": "scatter"
           }
          ],
          "scatter3d": [
           {
            "line": {
             "colorbar": {
              "outlinewidth": 0,
              "ticks": ""
             }
            },
            "marker": {
             "colorbar": {
              "outlinewidth": 0,
              "ticks": ""
             }
            },
            "type": "scatter3d"
           }
          ],
          "scattercarpet": [
           {
            "marker": {
             "colorbar": {
              "outlinewidth": 0,
              "ticks": ""
             }
            },
            "type": "scattercarpet"
           }
          ],
          "scattergeo": [
           {
            "marker": {
             "colorbar": {
              "outlinewidth": 0,
              "ticks": ""
             }
            },
            "type": "scattergeo"
           }
          ],
          "scattergl": [
           {
            "marker": {
             "colorbar": {
              "outlinewidth": 0,
              "ticks": ""
             }
            },
            "type": "scattergl"
           }
          ],
          "scattermap": [
           {
            "marker": {
             "colorbar": {
              "outlinewidth": 0,
              "ticks": ""
             }
            },
            "type": "scattermap"
           }
          ],
          "scattermapbox": [
           {
            "marker": {
             "colorbar": {
              "outlinewidth": 0,
              "ticks": ""
             }
            },
            "type": "scattermapbox"
           }
          ],
          "scatterpolar": [
           {
            "marker": {
             "colorbar": {
              "outlinewidth": 0,
              "ticks": ""
             }
            },
            "type": "scatterpolar"
           }
          ],
          "scatterpolargl": [
           {
            "marker": {
             "colorbar": {
              "outlinewidth": 0,
              "ticks": ""
             }
            },
            "type": "scatterpolargl"
           }
          ],
          "scatterternary": [
           {
            "marker": {
             "colorbar": {
              "outlinewidth": 0,
              "ticks": ""
             }
            },
            "type": "scatterternary"
           }
          ],
          "surface": [
           {
            "colorbar": {
             "outlinewidth": 0,
             "ticks": ""
            },
            "colorscale": [
             [
              0,
              "#0d0887"
             ],
             [
              0.1111111111111111,
              "#46039f"
             ],
             [
              0.2222222222222222,
              "#7201a8"
             ],
             [
              0.3333333333333333,
              "#9c179e"
             ],
             [
              0.4444444444444444,
              "#bd3786"
             ],
             [
              0.5555555555555556,
              "#d8576b"
             ],
             [
              0.6666666666666666,
              "#ed7953"
             ],
             [
              0.7777777777777778,
              "#fb9f3a"
             ],
             [
              0.8888888888888888,
              "#fdca26"
             ],
             [
              1,
              "#f0f921"
             ]
            ],
            "type": "surface"
           }
          ],
          "table": [
           {
            "cells": {
             "fill": {
              "color": "#EBF0F8"
             },
             "line": {
              "color": "white"
             }
            },
            "header": {
             "fill": {
              "color": "#C8D4E3"
             },
             "line": {
              "color": "white"
             }
            },
            "type": "table"
           }
          ]
         },
         "layout": {
          "annotationdefaults": {
           "arrowcolor": "#2a3f5f",
           "arrowhead": 0,
           "arrowwidth": 1
          },
          "autotypenumbers": "strict",
          "coloraxis": {
           "colorbar": {
            "outlinewidth": 0,
            "ticks": ""
           }
          },
          "colorscale": {
           "diverging": [
            [
             0,
             "#8e0152"
            ],
            [
             0.1,
             "#c51b7d"
            ],
            [
             0.2,
             "#de77ae"
            ],
            [
             0.3,
             "#f1b6da"
            ],
            [
             0.4,
             "#fde0ef"
            ],
            [
             0.5,
             "#f7f7f7"
            ],
            [
             0.6,
             "#e6f5d0"
            ],
            [
             0.7,
             "#b8e186"
            ],
            [
             0.8,
             "#7fbc41"
            ],
            [
             0.9,
             "#4d9221"
            ],
            [
             1,
             "#276419"
            ]
           ],
           "sequential": [
            [
             0,
             "#0d0887"
            ],
            [
             0.1111111111111111,
             "#46039f"
            ],
            [
             0.2222222222222222,
             "#7201a8"
            ],
            [
             0.3333333333333333,
             "#9c179e"
            ],
            [
             0.4444444444444444,
             "#bd3786"
            ],
            [
             0.5555555555555556,
             "#d8576b"
            ],
            [
             0.6666666666666666,
             "#ed7953"
            ],
            [
             0.7777777777777778,
             "#fb9f3a"
            ],
            [
             0.8888888888888888,
             "#fdca26"
            ],
            [
             1,
             "#f0f921"
            ]
           ],
           "sequentialminus": [
            [
             0,
             "#0d0887"
            ],
            [
             0.1111111111111111,
             "#46039f"
            ],
            [
             0.2222222222222222,
             "#7201a8"
            ],
            [
             0.3333333333333333,
             "#9c179e"
            ],
            [
             0.4444444444444444,
             "#bd3786"
            ],
            [
             0.5555555555555556,
             "#d8576b"
            ],
            [
             0.6666666666666666,
             "#ed7953"
            ],
            [
             0.7777777777777778,
             "#fb9f3a"
            ],
            [
             0.8888888888888888,
             "#fdca26"
            ],
            [
             1,
             "#f0f921"
            ]
           ]
          },
          "colorway": [
           "#636efa",
           "#EF553B",
           "#00cc96",
           "#ab63fa",
           "#FFA15A",
           "#19d3f3",
           "#FF6692",
           "#B6E880",
           "#FF97FF",
           "#FECB52"
          ],
          "font": {
           "color": "#2a3f5f"
          },
          "geo": {
           "bgcolor": "white",
           "lakecolor": "white",
           "landcolor": "#E5ECF6",
           "showlakes": true,
           "showland": true,
           "subunitcolor": "white"
          },
          "hoverlabel": {
           "align": "left"
          },
          "hovermode": "closest",
          "mapbox": {
           "style": "light"
          },
          "paper_bgcolor": "white",
          "plot_bgcolor": "#E5ECF6",
          "polar": {
           "angularaxis": {
            "gridcolor": "white",
            "linecolor": "white",
            "ticks": ""
           },
           "bgcolor": "#E5ECF6",
           "radialaxis": {
            "gridcolor": "white",
            "linecolor": "white",
            "ticks": ""
           }
          },
          "scene": {
           "xaxis": {
            "backgroundcolor": "#E5ECF6",
            "gridcolor": "white",
            "gridwidth": 2,
            "linecolor": "white",
            "showbackground": true,
            "ticks": "",
            "zerolinecolor": "white"
           },
           "yaxis": {
            "backgroundcolor": "#E5ECF6",
            "gridcolor": "white",
            "gridwidth": 2,
            "linecolor": "white",
            "showbackground": true,
            "ticks": "",
            "zerolinecolor": "white"
           },
           "zaxis": {
            "backgroundcolor": "#E5ECF6",
            "gridcolor": "white",
            "gridwidth": 2,
            "linecolor": "white",
            "showbackground": true,
            "ticks": "",
            "zerolinecolor": "white"
           }
          },
          "shapedefaults": {
           "line": {
            "color": "#2a3f5f"
           }
          },
          "ternary": {
           "aaxis": {
            "gridcolor": "white",
            "linecolor": "white",
            "ticks": ""
           },
           "baxis": {
            "gridcolor": "white",
            "linecolor": "white",
            "ticks": ""
           },
           "bgcolor": "#E5ECF6",
           "caxis": {
            "gridcolor": "white",
            "linecolor": "white",
            "ticks": ""
           }
          },
          "title": {
           "x": 0.05
          },
          "xaxis": {
           "automargin": true,
           "gridcolor": "white",
           "linecolor": "white",
           "ticks": "",
           "title": {
            "standoff": 15
           },
           "zerolinecolor": "white",
           "zerolinewidth": 2
          },
          "yaxis": {
           "automargin": true,
           "gridcolor": "white",
           "linecolor": "white",
           "ticks": "",
           "title": {
            "standoff": 15
           },
           "zerolinecolor": "white",
           "zerolinewidth": 2
          }
         }
        },
        "title": {
         "text": "Interactive Pareto and Dominated Points: DPD vs. Accuracy"
        },
        "xaxis": {
         "anchor": "y",
         "domain": [
          0,
          1
         ],
         "title": {
          "text": "DPD"
         }
        },
        "yaxis": {
         "anchor": "x",
         "domain": [
          0,
          1
         ],
         "title": {
          "text": "Accuracy"
         }
        }
       }
      }
     },
     "metadata": {},
     "output_type": "display_data"
    }
   ],
   "source": [
    "# 6. Identify Pareto-optimal points and create interactive plot with Plotly\n",
    "import pandas as pd\n",
    "import plotly.express as px\n",
    "\n",
    "def is_pareto_efficient(acc, dpd):\n",
    "    n_points = len(acc)\n",
    "    is_efficient = [True] * n_points\n",
    "    for i in range(n_points):\n",
    "        for j in range(n_points):\n",
    "            if (acc[j] >= acc[i] and dpd[j] <= dpd[i]) and (acc[j] > acc[i] or dpd[j] < dpd[i]):\n",
    "                is_efficient[i] = False\n",
    "                break\n",
    "    return is_efficient\n",
    "\n",
    "# compute Pareto front mask\n",
    "efficient_mask = is_pareto_efficient(acc_vals, dpd_vals)\n",
    "\n",
    "# prepare DataFrame for plotting\n",
    "plot_df = pd.DataFrame({\n",
    "    'DPD': dpd_vals,\n",
    "    'Accuracy': acc_vals,\n",
    "    'alpha': alpha_vals,\n",
    "    'Pareto': ['Yes' if m else 'No' for m in efficient_mask]\n",
    "})\n",
    "\n",
    "plot_df['Dominated'] = ['No' if m else 'Yes' for m in efficient_mask]\n",
    "\n",
    "# Plotly: color Pareto points by alpha, dominated in gray\n",
    "fig = px.scatter(\n",
    "    plot_df,\n",
    "    x='DPD',\n",
    "    y='Accuracy',\n",
    "    color='alpha',\n",
    "    color_continuous_scale='Viridis',\n",
    "    size_max=15,\n",
    "    hover_data={'alpha': True, 'DPD': True, 'Accuracy': True, 'Dominated': True},\n",
    "    title='Interactive Pareto and Dominated Points: DPD vs. Accuracy'\n",
    ")\n",
    "# update marker styling: dominated points gray\n",
    "fig.update_traces(\n",
    "    selector=dict(),\n",
    "    marker=dict(line_width=0)\n",
    ")\n",
    "# add dominated points as separate layer\n",
    "dominated_df = plot_df[plot_df['Dominated']=='Yes']\n",
    "fig.add_scatter(\n",
    "    x=dominated_df['DPD'],\n",
    "    y=dominated_df['Accuracy'],\n",
    "    mode='markers',\n",
    "    marker=dict(color='lightgray', size=10),\n",
    "    hoverinfo='skip',\n",
    "    name='Dominated'\n",
    ")\n",
    "fig.show()"
   ]
  },
  {
   "cell_type": "code",
   "execution_count": 14,
   "id": "872bd624",
   "metadata": {},
   "outputs": [
    {
     "name": "stdout",
     "output_type": "stream",
     "text": [
      "Training with params: {'colsample_bytree': 1.0, 'gamma': 0.1, 'learning_rate': 0.05, 'max_depth': 3, 'min_child_weight': 5, 'n_estimators': 100, 'reg_alpha': 0.1, 'reg_lambda': 1, 'scale_pos_weight': 3, 'subsample': 1.0}, alpha=0.1\n",
      "Training with params: {'colsample_bytree': 1.0, 'gamma': 0.2, 'learning_rate': 0.1, 'max_depth': 7, 'min_child_weight': 3, 'n_estimators': 100, 'reg_alpha': 0, 'reg_lambda': 1, 'scale_pos_weight': 5, 'subsample': 0.8}, alpha=0.57\n",
      "Training with params: {'colsample_bytree': 1.0, 'gamma': 0.2, 'learning_rate': 0.1, 'max_depth': 3, 'min_child_weight': 3, 'n_estimators': 50, 'reg_alpha': 0, 'reg_lambda': 2, 'scale_pos_weight': 1, 'subsample': 0.8}, alpha=0.91\n",
      "Training with params: {'colsample_bytree': 0.8, 'gamma': 0, 'learning_rate': 0.1, 'max_depth': 3, 'min_child_weight': 1, 'n_estimators': 200, 'reg_alpha': 0.01, 'reg_lambda': 1, 'scale_pos_weight': 1, 'subsample': 0.6}, alpha=0.61\n",
      "Training with params: {'colsample_bytree': 0.6, 'gamma': 0.1, 'learning_rate': 0.05, 'max_depth': 5, 'min_child_weight': 5, 'n_estimators': 50, 'reg_alpha': 0.01, 'reg_lambda': 2, 'scale_pos_weight': 1, 'subsample': 1.0}, alpha=0.93\n",
      "Training with params: {'colsample_bytree': 0.8, 'gamma': 0.1, 'learning_rate': 0.1, 'max_depth': 5, 'min_child_weight': 5, 'n_estimators': 50, 'reg_alpha': 0, 'reg_lambda': 2, 'scale_pos_weight': 3, 'subsample': 0.8}, alpha=0.86\n",
      "Training with params: {'colsample_bytree': 0.8, 'gamma': 0.2, 'learning_rate': 0.01, 'max_depth': 3, 'min_child_weight': 5, 'n_estimators': 100, 'reg_alpha': 0, 'reg_lambda': 2, 'scale_pos_weight': 1, 'subsample': 0.8}, alpha=0.26\n",
      "Training with params: {'colsample_bytree': 1.0, 'gamma': 0, 'learning_rate': 0.1, 'max_depth': 3, 'min_child_weight': 3, 'n_estimators': 100, 'reg_alpha': 0.1, 'reg_lambda': 1.5, 'scale_pos_weight': 5, 'subsample': 0.8}, alpha=0.42\n",
      "Training with params: {'colsample_bytree': 0.8, 'gamma': 0.2, 'learning_rate': 0.05, 'max_depth': 3, 'min_child_weight': 3, 'n_estimators': 200, 'reg_alpha': 0.1, 'reg_lambda': 1, 'scale_pos_weight': 3, 'subsample': 0.8}, alpha=0.44\n",
      "Training with params: {'colsample_bytree': 0.8, 'gamma': 0, 'learning_rate': 0.01, 'max_depth': 3, 'min_child_weight': 5, 'n_estimators': 200, 'reg_alpha': 0, 'reg_lambda': 2, 'scale_pos_weight': 3, 'subsample': 0.6}, alpha=0.09\n",
      "Training with params: {'colsample_bytree': 0.8, 'gamma': 0.2, 'learning_rate': 0.1, 'max_depth': 7, 'min_child_weight': 5, 'n_estimators': 100, 'reg_alpha': 0.01, 'reg_lambda': 1.5, 'scale_pos_weight': 1, 'subsample': 1.0}, alpha=0.29\n",
      "Training with params: {'colsample_bytree': 0.8, 'gamma': 0.1, 'learning_rate': 0.05, 'max_depth': 5, 'min_child_weight': 5, 'n_estimators': 50, 'reg_alpha': 0.01, 'reg_lambda': 1, 'scale_pos_weight': 5, 'subsample': 1.0}, alpha=0.23\n",
      "Training with params: {'colsample_bytree': 1.0, 'gamma': 0, 'learning_rate': 0.05, 'max_depth': 7, 'min_child_weight': 3, 'n_estimators': 100, 'reg_alpha': 0, 'reg_lambda': 2, 'scale_pos_weight': 3, 'subsample': 0.8}, alpha=0.58\n",
      "Training with params: {'colsample_bytree': 0.8, 'gamma': 0.2, 'learning_rate': 0.05, 'max_depth': 3, 'min_child_weight': 5, 'n_estimators': 200, 'reg_alpha': 0, 'reg_lambda': 1, 'scale_pos_weight': 5, 'subsample': 1.0}, alpha=0.55\n",
      "Training with params: {'colsample_bytree': 0.6, 'gamma': 0, 'learning_rate': 0.01, 'max_depth': 7, 'min_child_weight': 3, 'n_estimators': 50, 'reg_alpha': 0.01, 'reg_lambda': 2, 'scale_pos_weight': 3, 'subsample': 0.8}, alpha=0.81\n",
      "Training with params: {'colsample_bytree': 0.6, 'gamma': 0, 'learning_rate': 0.1, 'max_depth': 7, 'min_child_weight': 1, 'n_estimators': 100, 'reg_alpha': 0.1, 'reg_lambda': 2, 'scale_pos_weight': 5, 'subsample': 0.8}, alpha=0.16\n",
      "Training with params: {'colsample_bytree': 1.0, 'gamma': 0, 'learning_rate': 0.01, 'max_depth': 3, 'min_child_weight': 5, 'n_estimators': 200, 'reg_alpha': 0, 'reg_lambda': 1.5, 'scale_pos_weight': 3, 'subsample': 0.6}, alpha=0.14\n",
      "Training with params: {'colsample_bytree': 1.0, 'gamma': 0.1, 'learning_rate': 0.1, 'max_depth': 7, 'min_child_weight': 5, 'n_estimators': 200, 'reg_alpha': 0, 'reg_lambda': 2, 'scale_pos_weight': 5, 'subsample': 0.6}, alpha=0.72\n",
      "Training with params: {'colsample_bytree': 0.8, 'gamma': 0.2, 'learning_rate': 0.05, 'max_depth': 7, 'min_child_weight': 3, 'n_estimators': 200, 'reg_alpha': 0.1, 'reg_lambda': 2, 'scale_pos_weight': 5, 'subsample': 0.6}, alpha=0.47\n",
      "Training with params: {'colsample_bytree': 0.8, 'gamma': 0, 'learning_rate': 0.01, 'max_depth': 5, 'min_child_weight': 3, 'n_estimators': 200, 'reg_alpha': 0.01, 'reg_lambda': 2, 'scale_pos_weight': 1, 'subsample': 0.6}, alpha=0.7\n",
      "Training with params: {'colsample_bytree': 1.0, 'gamma': 0, 'learning_rate': 0.01, 'max_depth': 5, 'min_child_weight': 5, 'n_estimators': 200, 'reg_alpha': 0.1, 'reg_lambda': 2, 'scale_pos_weight': 3, 'subsample': 0.6}, alpha=0.62\n",
      "Training with params: {'colsample_bytree': 0.8, 'gamma': 0.2, 'learning_rate': 0.1, 'max_depth': 3, 'min_child_weight': 1, 'n_estimators': 200, 'reg_alpha': 0, 'reg_lambda': 2, 'scale_pos_weight': 5, 'subsample': 0.8}, alpha=0.19\n",
      "Training with params: {'colsample_bytree': 0.6, 'gamma': 0, 'learning_rate': 0.01, 'max_depth': 5, 'min_child_weight': 1, 'n_estimators': 50, 'reg_alpha': 0, 'reg_lambda': 1, 'scale_pos_weight': 3, 'subsample': 1.0}, alpha=0.3\n",
      "Training with params: {'colsample_bytree': 1.0, 'gamma': 0, 'learning_rate': 0.05, 'max_depth': 3, 'min_child_weight': 3, 'n_estimators': 50, 'reg_alpha': 0, 'reg_lambda': 1, 'scale_pos_weight': 5, 'subsample': 0.8}, alpha=0.81\n",
      "Training with params: {'colsample_bytree': 0.8, 'gamma': 0, 'learning_rate': 0.05, 'max_depth': 3, 'min_child_weight': 1, 'n_estimators': 200, 'reg_alpha': 0.1, 'reg_lambda': 1.5, 'scale_pos_weight': 3, 'subsample': 0.8}, alpha=0.03\n",
      "Training with params: {'colsample_bytree': 0.6, 'gamma': 0.2, 'learning_rate': 0.1, 'max_depth': 3, 'min_child_weight': 3, 'n_estimators': 100, 'reg_alpha': 0.1, 'reg_lambda': 1.5, 'scale_pos_weight': 1, 'subsample': 0.6}, alpha=0.32\n",
      "Training with params: {'colsample_bytree': 1.0, 'gamma': 0, 'learning_rate': 0.1, 'max_depth': 5, 'min_child_weight': 5, 'n_estimators': 50, 'reg_alpha': 0, 'reg_lambda': 2, 'scale_pos_weight': 3, 'subsample': 0.6}, alpha=0.9\n",
      "Training with params: {'colsample_bytree': 1.0, 'gamma': 0.2, 'learning_rate': 0.05, 'max_depth': 7, 'min_child_weight': 1, 'n_estimators': 200, 'reg_alpha': 0.01, 'reg_lambda': 1.5, 'scale_pos_weight': 1, 'subsample': 0.8}, alpha=0.83\n",
      "Training with params: {'colsample_bytree': 0.6, 'gamma': 0.2, 'learning_rate': 0.05, 'max_depth': 7, 'min_child_weight': 5, 'n_estimators': 200, 'reg_alpha': 0, 'reg_lambda': 2, 'scale_pos_weight': 5, 'subsample': 1.0}, alpha=0.71\n",
      "Training with params: {'colsample_bytree': 0.6, 'gamma': 0.2, 'learning_rate': 0.05, 'max_depth': 7, 'min_child_weight': 3, 'n_estimators': 50, 'reg_alpha': 0.01, 'reg_lambda': 2, 'scale_pos_weight': 3, 'subsample': 0.6}, alpha=0.48\n",
      "Training with params: {'colsample_bytree': 0.8, 'gamma': 0.1, 'learning_rate': 0.1, 'max_depth': 5, 'min_child_weight': 3, 'n_estimators': 200, 'reg_alpha': 0.1, 'reg_lambda': 1.5, 'scale_pos_weight': 1, 'subsample': 0.6}, alpha=0.14\n",
      "Training with params: {'colsample_bytree': 1.0, 'gamma': 0, 'learning_rate': 0.01, 'max_depth': 7, 'min_child_weight': 5, 'n_estimators': 100, 'reg_alpha': 0.1, 'reg_lambda': 1.5, 'scale_pos_weight': 5, 'subsample': 0.8}, alpha=0.06\n",
      "Training with params: {'colsample_bytree': 0.8, 'gamma': 0.2, 'learning_rate': 0.1, 'max_depth': 5, 'min_child_weight': 3, 'n_estimators': 200, 'reg_alpha': 0.01, 'reg_lambda': 1.5, 'scale_pos_weight': 3, 'subsample': 0.6}, alpha=0.82\n",
      "Training with params: {'colsample_bytree': 0.6, 'gamma': 0.1, 'learning_rate': 0.05, 'max_depth': 7, 'min_child_weight': 3, 'n_estimators': 50, 'reg_alpha': 0.01, 'reg_lambda': 1.5, 'scale_pos_weight': 5, 'subsample': 0.6}, alpha=0.57\n",
      "Training with params: {'colsample_bytree': 0.6, 'gamma': 0, 'learning_rate': 0.01, 'max_depth': 3, 'min_child_weight': 5, 'n_estimators': 50, 'reg_alpha': 0.1, 'reg_lambda': 1.5, 'scale_pos_weight': 3, 'subsample': 1.0}, alpha=0.88\n",
      "Training with params: {'colsample_bytree': 0.8, 'gamma': 0.2, 'learning_rate': 0.05, 'max_depth': 5, 'min_child_weight': 1, 'n_estimators': 50, 'reg_alpha': 0.01, 'reg_lambda': 1.5, 'scale_pos_weight': 3, 'subsample': 1.0}, alpha=0.33\n",
      "Training with params: {'colsample_bytree': 1.0, 'gamma': 0.2, 'learning_rate': 0.1, 'max_depth': 3, 'min_child_weight': 1, 'n_estimators': 100, 'reg_alpha': 0.01, 'reg_lambda': 1.5, 'scale_pos_weight': 3, 'subsample': 1.0}, alpha=0.51\n",
      "Training with params: {'colsample_bytree': 0.6, 'gamma': 0.2, 'learning_rate': 0.1, 'max_depth': 3, 'min_child_weight': 3, 'n_estimators': 100, 'reg_alpha': 0.01, 'reg_lambda': 1, 'scale_pos_weight': 1, 'subsample': 0.8}, alpha=0.47\n",
      "Training with params: {'colsample_bytree': 1.0, 'gamma': 0, 'learning_rate': 0.01, 'max_depth': 3, 'min_child_weight': 1, 'n_estimators': 100, 'reg_alpha': 0.1, 'reg_lambda': 1.5, 'scale_pos_weight': 1, 'subsample': 1.0}, alpha=0.77\n",
      "Training with params: {'colsample_bytree': 0.8, 'gamma': 0, 'learning_rate': 0.1, 'max_depth': 5, 'min_child_weight': 3, 'n_estimators': 50, 'reg_alpha': 0.1, 'reg_lambda': 1.5, 'scale_pos_weight': 3, 'subsample': 0.6}, alpha=0.36\n",
      "Training with params: {'colsample_bytree': 0.6, 'gamma': 0, 'learning_rate': 0.1, 'max_depth': 3, 'min_child_weight': 5, 'n_estimators': 100, 'reg_alpha': 0.1, 'reg_lambda': 1.5, 'scale_pos_weight': 1, 'subsample': 1.0}, alpha=0.32\n",
      "Training with params: {'colsample_bytree': 1.0, 'gamma': 0, 'learning_rate': 0.05, 'max_depth': 3, 'min_child_weight': 5, 'n_estimators': 50, 'reg_alpha': 0.01, 'reg_lambda': 1, 'scale_pos_weight': 5, 'subsample': 0.8}, alpha=0.58\n",
      "Training with params: {'colsample_bytree': 0.6, 'gamma': 0.1, 'learning_rate': 0.05, 'max_depth': 3, 'min_child_weight': 1, 'n_estimators': 100, 'reg_alpha': 0.01, 'reg_lambda': 1.5, 'scale_pos_weight': 1, 'subsample': 0.8}, alpha=0.84\n",
      "Training with params: {'colsample_bytree': 1.0, 'gamma': 0.1, 'learning_rate': 0.1, 'max_depth': 3, 'min_child_weight': 1, 'n_estimators': 100, 'reg_alpha': 0.01, 'reg_lambda': 2, 'scale_pos_weight': 1, 'subsample': 0.8}, alpha=0.25\n",
      "Training with params: {'colsample_bytree': 0.8, 'gamma': 0, 'learning_rate': 0.1, 'max_depth': 5, 'min_child_weight': 3, 'n_estimators': 200, 'reg_alpha': 0.01, 'reg_lambda': 1, 'scale_pos_weight': 5, 'subsample': 0.6}, alpha=0.27\n",
      "Training with params: {'colsample_bytree': 1.0, 'gamma': 0, 'learning_rate': 0.1, 'max_depth': 5, 'min_child_weight': 3, 'n_estimators': 200, 'reg_alpha': 0.01, 'reg_lambda': 1, 'scale_pos_weight': 1, 'subsample': 0.8}, alpha=0.22\n",
      "Training with params: {'colsample_bytree': 0.6, 'gamma': 0, 'learning_rate': 0.01, 'max_depth': 7, 'min_child_weight': 1, 'n_estimators': 100, 'reg_alpha': 0, 'reg_lambda': 1.5, 'scale_pos_weight': 3, 'subsample': 0.6}, alpha=0.1\n",
      "Training with params: {'colsample_bytree': 0.6, 'gamma': 0, 'learning_rate': 0.05, 'max_depth': 3, 'min_child_weight': 1, 'n_estimators': 100, 'reg_alpha': 0, 'reg_lambda': 1.5, 'scale_pos_weight': 1, 'subsample': 0.6}, alpha=0.24\n",
      "Training with params: {'colsample_bytree': 1.0, 'gamma': 0.2, 'learning_rate': 0.01, 'max_depth': 5, 'min_child_weight': 1, 'n_estimators': 50, 'reg_alpha': 0.01, 'reg_lambda': 1.5, 'scale_pos_weight': 3, 'subsample': 0.8}, alpha=0.32\n",
      "Training with params: {'colsample_bytree': 0.6, 'gamma': 0.2, 'learning_rate': 0.01, 'max_depth': 3, 'min_child_weight': 1, 'n_estimators': 100, 'reg_alpha': 0.01, 'reg_lambda': 2, 'scale_pos_weight': 5, 'subsample': 1.0}, alpha=0.94\n",
      "Training with params: {'colsample_bytree': 0.8, 'gamma': 0.1, 'learning_rate': 0.01, 'max_depth': 7, 'min_child_weight': 3, 'n_estimators': 200, 'reg_alpha': 0, 'reg_lambda': 1, 'scale_pos_weight': 1, 'subsample': 0.6}, alpha=0.95\n",
      "Training with params: {'colsample_bytree': 0.8, 'gamma': 0.2, 'learning_rate': 0.05, 'max_depth': 5, 'min_child_weight': 3, 'n_estimators': 50, 'reg_alpha': 0.1, 'reg_lambda': 2, 'scale_pos_weight': 5, 'subsample': 1.0}, alpha=0.3\n",
      "Training with params: {'colsample_bytree': 1.0, 'gamma': 0.2, 'learning_rate': 0.05, 'max_depth': 5, 'min_child_weight': 5, 'n_estimators': 100, 'reg_alpha': 0.1, 'reg_lambda': 1, 'scale_pos_weight': 3, 'subsample': 0.8}, alpha=0.99\n",
      "Training with params: {'colsample_bytree': 1.0, 'gamma': 0, 'learning_rate': 0.01, 'max_depth': 5, 'min_child_weight': 5, 'n_estimators': 50, 'reg_alpha': 0.01, 'reg_lambda': 2, 'scale_pos_weight': 5, 'subsample': 0.8}, alpha=0.74\n",
      "Training with params: {'colsample_bytree': 0.8, 'gamma': 0, 'learning_rate': 0.05, 'max_depth': 5, 'min_child_weight': 1, 'n_estimators': 100, 'reg_alpha': 0.1, 'reg_lambda': 1.5, 'scale_pos_weight': 3, 'subsample': 1.0}, alpha=0.8\n",
      "Training with params: {'colsample_bytree': 0.8, 'gamma': 0.1, 'learning_rate': 0.01, 'max_depth': 7, 'min_child_weight': 1, 'n_estimators': 200, 'reg_alpha': 0.1, 'reg_lambda': 1, 'scale_pos_weight': 3, 'subsample': 1.0}, alpha=0.68\n",
      "Training with params: {'colsample_bytree': 1.0, 'gamma': 0.2, 'learning_rate': 0.1, 'max_depth': 7, 'min_child_weight': 1, 'n_estimators': 50, 'reg_alpha': 0.01, 'reg_lambda': 1.5, 'scale_pos_weight': 3, 'subsample': 0.8}, alpha=0.95\n",
      "Training with params: {'colsample_bytree': 1.0, 'gamma': 0.2, 'learning_rate': 0.05, 'max_depth': 3, 'min_child_weight': 3, 'n_estimators': 50, 'reg_alpha': 0.01, 'reg_lambda': 1, 'scale_pos_weight': 3, 'subsample': 0.6}, alpha=0.84\n",
      "Training with params: {'colsample_bytree': 0.8, 'gamma': 0, 'learning_rate': 0.01, 'max_depth': 3, 'min_child_weight': 5, 'n_estimators': 50, 'reg_alpha': 0.01, 'reg_lambda': 1.5, 'scale_pos_weight': 3, 'subsample': 0.8}, alpha=0.28\n",
      "Training with params: {'colsample_bytree': 0.8, 'gamma': 0.2, 'learning_rate': 0.01, 'max_depth': 7, 'min_child_weight': 5, 'n_estimators': 200, 'reg_alpha': 0.01, 'reg_lambda': 2, 'scale_pos_weight': 3, 'subsample': 0.8}, alpha=0.69\n",
      "Training with params: {'colsample_bytree': 0.6, 'gamma': 0.2, 'learning_rate': 0.01, 'max_depth': 7, 'min_child_weight': 1, 'n_estimators': 200, 'reg_alpha': 0.1, 'reg_lambda': 1.5, 'scale_pos_weight': 5, 'subsample': 1.0}, alpha=0.26\n",
      "Training with params: {'colsample_bytree': 0.6, 'gamma': 0, 'learning_rate': 0.01, 'max_depth': 7, 'min_child_weight': 1, 'n_estimators': 100, 'reg_alpha': 0.01, 'reg_lambda': 1, 'scale_pos_weight': 5, 'subsample': 1.0}, alpha=0.62\n",
      "Training with params: {'colsample_bytree': 0.6, 'gamma': 0, 'learning_rate': 0.05, 'max_depth': 5, 'min_child_weight': 5, 'n_estimators': 50, 'reg_alpha': 0.1, 'reg_lambda': 1.5, 'scale_pos_weight': 3, 'subsample': 0.8}, alpha=0.19\n",
      "Training with params: {'colsample_bytree': 0.8, 'gamma': 0.1, 'learning_rate': 0.1, 'max_depth': 5, 'min_child_weight': 1, 'n_estimators': 100, 'reg_alpha': 0.1, 'reg_lambda': 1.5, 'scale_pos_weight': 5, 'subsample': 0.6}, alpha=0.83\n",
      "Training with params: {'colsample_bytree': 0.6, 'gamma': 0, 'learning_rate': 0.05, 'max_depth': 5, 'min_child_weight': 5, 'n_estimators': 50, 'reg_alpha': 0.01, 'reg_lambda': 1, 'scale_pos_weight': 5, 'subsample': 1.0}, alpha=0.38\n",
      "Training with params: {'colsample_bytree': 1.0, 'gamma': 0.1, 'learning_rate': 0.05, 'max_depth': 5, 'min_child_weight': 3, 'n_estimators': 100, 'reg_alpha': 0.1, 'reg_lambda': 2, 'scale_pos_weight': 1, 'subsample': 1.0}, alpha=0.58\n",
      "Training with params: {'colsample_bytree': 1.0, 'gamma': 0.2, 'learning_rate': 0.01, 'max_depth': 3, 'min_child_weight': 1, 'n_estimators': 100, 'reg_alpha': 0.01, 'reg_lambda': 1, 'scale_pos_weight': 3, 'subsample': 1.0}, alpha=0.4\n",
      "Training with params: {'colsample_bytree': 0.6, 'gamma': 0.2, 'learning_rate': 0.01, 'max_depth': 7, 'min_child_weight': 1, 'n_estimators': 100, 'reg_alpha': 0.1, 'reg_lambda': 1, 'scale_pos_weight': 1, 'subsample': 1.0}, alpha=0.64\n",
      "Training with params: {'colsample_bytree': 0.6, 'gamma': 0.1, 'learning_rate': 0.01, 'max_depth': 7, 'min_child_weight': 1, 'n_estimators': 100, 'reg_alpha': 0.01, 'reg_lambda': 1.5, 'scale_pos_weight': 3, 'subsample': 0.8}, alpha=0.76\n",
      "Training with params: {'colsample_bytree': 1.0, 'gamma': 0.2, 'learning_rate': 0.01, 'max_depth': 5, 'min_child_weight': 5, 'n_estimators': 50, 'reg_alpha': 0, 'reg_lambda': 1.5, 'scale_pos_weight': 1, 'subsample': 1.0}, alpha=0.92\n",
      "Training with params: {'colsample_bytree': 0.6, 'gamma': 0, 'learning_rate': 0.1, 'max_depth': 7, 'min_child_weight': 5, 'n_estimators': 200, 'reg_alpha': 0.01, 'reg_lambda': 1.5, 'scale_pos_weight': 3, 'subsample': 1.0}, alpha=0.62\n",
      "Training with params: {'colsample_bytree': 1.0, 'gamma': 0, 'learning_rate': 0.01, 'max_depth': 3, 'min_child_weight': 3, 'n_estimators': 50, 'reg_alpha': 0.01, 'reg_lambda': 1, 'scale_pos_weight': 1, 'subsample': 0.8}, alpha=0.92\n",
      "Training with params: {'colsample_bytree': 0.6, 'gamma': 0.2, 'learning_rate': 0.05, 'max_depth': 5, 'min_child_weight': 5, 'n_estimators': 100, 'reg_alpha': 0.1, 'reg_lambda': 1, 'scale_pos_weight': 1, 'subsample': 0.6}, alpha=0.64\n",
      "Training with params: {'colsample_bytree': 0.8, 'gamma': 0.2, 'learning_rate': 0.01, 'max_depth': 3, 'min_child_weight': 3, 'n_estimators': 200, 'reg_alpha': 0.01, 'reg_lambda': 1.5, 'scale_pos_weight': 5, 'subsample': 1.0}, alpha=0.75\n",
      "Training with params: {'colsample_bytree': 0.6, 'gamma': 0.1, 'learning_rate': 0.01, 'max_depth': 5, 'min_child_weight': 5, 'n_estimators': 100, 'reg_alpha': 0, 'reg_lambda': 2, 'scale_pos_weight': 3, 'subsample': 1.0}, alpha=0.96\n",
      "Training with params: {'colsample_bytree': 1.0, 'gamma': 0.2, 'learning_rate': 0.05, 'max_depth': 7, 'min_child_weight': 1, 'n_estimators': 200, 'reg_alpha': 0, 'reg_lambda': 2, 'scale_pos_weight': 1, 'subsample': 0.6}, alpha=0.86\n",
      "Training with params: {'colsample_bytree': 0.6, 'gamma': 0, 'learning_rate': 0.01, 'max_depth': 7, 'min_child_weight': 5, 'n_estimators': 50, 'reg_alpha': 0.1, 'reg_lambda': 1, 'scale_pos_weight': 1, 'subsample': 0.8}, alpha=0.06\n",
      "Training with params: {'colsample_bytree': 1.0, 'gamma': 0.2, 'learning_rate': 0.05, 'max_depth': 3, 'min_child_weight': 3, 'n_estimators': 50, 'reg_alpha': 0.01, 'reg_lambda': 2, 'scale_pos_weight': 5, 'subsample': 0.8}, alpha=1.0\n",
      "Training with params: {'colsample_bytree': 1.0, 'gamma': 0, 'learning_rate': 0.01, 'max_depth': 3, 'min_child_weight': 3, 'n_estimators': 100, 'reg_alpha': 0.01, 'reg_lambda': 1.5, 'scale_pos_weight': 5, 'subsample': 0.8}, alpha=0.78\n",
      "Training with params: {'colsample_bytree': 0.8, 'gamma': 0.1, 'learning_rate': 0.05, 'max_depth': 3, 'min_child_weight': 1, 'n_estimators': 50, 'reg_alpha': 0.01, 'reg_lambda': 1.5, 'scale_pos_weight': 1, 'subsample': 0.6}, alpha=0.93\n",
      "Training with params: {'colsample_bytree': 0.8, 'gamma': 0.1, 'learning_rate': 0.05, 'max_depth': 5, 'min_child_weight': 3, 'n_estimators': 50, 'reg_alpha': 0, 'reg_lambda': 1, 'scale_pos_weight': 5, 'subsample': 1.0}, alpha=0.11\n",
      "Training with params: {'colsample_bytree': 0.6, 'gamma': 0.1, 'learning_rate': 0.05, 'max_depth': 3, 'min_child_weight': 3, 'n_estimators': 100, 'reg_alpha': 0.01, 'reg_lambda': 2, 'scale_pos_weight': 3, 'subsample': 0.6}, alpha=0.28\n",
      "Training with params: {'colsample_bytree': 1.0, 'gamma': 0.2, 'learning_rate': 0.1, 'max_depth': 7, 'min_child_weight': 1, 'n_estimators': 200, 'reg_alpha': 0.01, 'reg_lambda': 1, 'scale_pos_weight': 1, 'subsample': 1.0}, alpha=0.99\n",
      "Training with params: {'colsample_bytree': 1.0, 'gamma': 0, 'learning_rate': 0.01, 'max_depth': 7, 'min_child_weight': 5, 'n_estimators': 100, 'reg_alpha': 0, 'reg_lambda': 2, 'scale_pos_weight': 3, 'subsample': 0.6}, alpha=0.25\n",
      "Training with params: {'colsample_bytree': 1.0, 'gamma': 0.1, 'learning_rate': 0.01, 'max_depth': 5, 'min_child_weight': 5, 'n_estimators': 100, 'reg_alpha': 0, 'reg_lambda': 1, 'scale_pos_weight': 1, 'subsample': 0.6}, alpha=0.64\n",
      "Training with params: {'colsample_bytree': 0.6, 'gamma': 0, 'learning_rate': 0.1, 'max_depth': 7, 'min_child_weight': 3, 'n_estimators': 100, 'reg_alpha': 0, 'reg_lambda': 1.5, 'scale_pos_weight': 1, 'subsample': 0.6}, alpha=0.21\n",
      "Training with params: {'colsample_bytree': 1.0, 'gamma': 0.2, 'learning_rate': 0.01, 'max_depth': 5, 'min_child_weight': 1, 'n_estimators': 100, 'reg_alpha': 0, 'reg_lambda': 1.5, 'scale_pos_weight': 1, 'subsample': 0.8}, alpha=0.88\n",
      "Training with params: {'colsample_bytree': 0.6, 'gamma': 0.1, 'learning_rate': 0.05, 'max_depth': 3, 'min_child_weight': 3, 'n_estimators': 200, 'reg_alpha': 0.1, 'reg_lambda': 2, 'scale_pos_weight': 5, 'subsample': 0.8}, alpha=0.67\n",
      "Training with params: {'colsample_bytree': 1.0, 'gamma': 0.1, 'learning_rate': 0.05, 'max_depth': 7, 'min_child_weight': 1, 'n_estimators': 100, 'reg_alpha': 0.01, 'reg_lambda': 2, 'scale_pos_weight': 5, 'subsample': 1.0}, alpha=0.66\n",
      "Training with params: {'colsample_bytree': 0.8, 'gamma': 0, 'learning_rate': 0.01, 'max_depth': 5, 'min_child_weight': 3, 'n_estimators': 50, 'reg_alpha': 0.1, 'reg_lambda': 1, 'scale_pos_weight': 3, 'subsample': 0.8}, alpha=0.92\n",
      "Training with params: {'colsample_bytree': 0.6, 'gamma': 0.1, 'learning_rate': 0.1, 'max_depth': 3, 'min_child_weight': 5, 'n_estimators': 200, 'reg_alpha': 0, 'reg_lambda': 1.5, 'scale_pos_weight': 3, 'subsample': 0.8}, alpha=0.41\n",
      "Training with params: {'colsample_bytree': 0.8, 'gamma': 0, 'learning_rate': 0.1, 'max_depth': 5, 'min_child_weight': 5, 'n_estimators': 200, 'reg_alpha': 0.1, 'reg_lambda': 1, 'scale_pos_weight': 1, 'subsample': 0.6}, alpha=0.4\n",
      "Training with params: {'colsample_bytree': 1.0, 'gamma': 0, 'learning_rate': 0.01, 'max_depth': 5, 'min_child_weight': 3, 'n_estimators': 200, 'reg_alpha': 0.01, 'reg_lambda': 1, 'scale_pos_weight': 5, 'subsample': 0.8}, alpha=0.69\n",
      "Training with params: {'colsample_bytree': 0.6, 'gamma': 0.2, 'learning_rate': 0.05, 'max_depth': 5, 'min_child_weight': 1, 'n_estimators': 100, 'reg_alpha': 0.1, 'reg_lambda': 1.5, 'scale_pos_weight': 1, 'subsample': 0.8}, alpha=0.68\n",
      "Training with params: {'colsample_bytree': 0.6, 'gamma': 0.2, 'learning_rate': 0.1, 'max_depth': 7, 'min_child_weight': 1, 'n_estimators': 100, 'reg_alpha': 0.1, 'reg_lambda': 1, 'scale_pos_weight': 5, 'subsample': 1.0}, alpha=0.8\n",
      "Training with params: {'colsample_bytree': 0.8, 'gamma': 0, 'learning_rate': 0.1, 'max_depth': 5, 'min_child_weight': 3, 'n_estimators': 100, 'reg_alpha': 0, 'reg_lambda': 2, 'scale_pos_weight': 5, 'subsample': 1.0}, alpha=0.51\n",
      "Training with params: {'colsample_bytree': 1.0, 'gamma': 0.1, 'learning_rate': 0.05, 'max_depth': 5, 'min_child_weight': 3, 'n_estimators': 50, 'reg_alpha': 0, 'reg_lambda': 1.5, 'scale_pos_weight': 1, 'subsample': 1.0}, alpha=0.72\n",
      "Training with params: {'colsample_bytree': 1.0, 'gamma': 0.1, 'learning_rate': 0.1, 'max_depth': 5, 'min_child_weight': 3, 'n_estimators': 200, 'reg_alpha': 0.1, 'reg_lambda': 2, 'scale_pos_weight': 3, 'subsample': 0.6}, alpha=0.68\n",
      "Training with params: {'colsample_bytree': 0.8, 'gamma': 0.2, 'learning_rate': 0.01, 'max_depth': 7, 'min_child_weight': 5, 'n_estimators': 100, 'reg_alpha': 0.1, 'reg_lambda': 1.5, 'scale_pos_weight': 1, 'subsample': 0.6}, alpha=0.72\n",
      "Training with params: {'colsample_bytree': 0.6, 'gamma': 0, 'learning_rate': 0.05, 'max_depth': 3, 'min_child_weight': 5, 'n_estimators': 200, 'reg_alpha': 0.1, 'reg_lambda': 1.5, 'scale_pos_weight': 1, 'subsample': 0.8}, alpha=0.43\n"
     ]
    }
   ],
   "source": [
    "import random\n",
    "\n",
    "alpha_list = []\n",
    "for i in range(1, 101):\n",
    "    alpha_list.append(i/100)\n",
    "\n",
    "from itertools import product\n",
    "from sklearn.model_selection import ParameterGrid\n",
    "\n",
    "# your expanded param_grid\n",
    "param_grid = {\n",
    "    'n_estimators':     [50, 100, 200],\n",
    "    'learning_rate':    [0.01, 0.05, 0.1],\n",
    "    'max_depth':        [3, 5, 7],\n",
    "    'min_child_weight': [1, 3, 5],\n",
    "    'gamma':            [0, 0.1, 0.2],\n",
    "    'subsample':        [0.6, 0.8, 1.0],\n",
    "    'colsample_bytree': [0.6, 0.8, 1.0],\n",
    "    'reg_alpha':        [0, 0.01, 0.1],\n",
    "    'reg_lambda':       [1, 1.5, 2],\n",
    "    'scale_pos_weight': [1, 3, 5],\n",
    "    'alpha':            alpha_list  \n",
    "}\n",
    "\n",
    "all_params = list(ParameterGrid(param_grid))\n",
    "\n",
    "# sample 100 (or fewer if grid <100)\n",
    "sampled_params = random.sample(all_params, min(100, len(all_params)))\n",
    "\n",
    "results = []\n",
    "for params in sampled_params:\n",
    "    alpha = params.pop('alpha')\n",
    "    print(f\"Training with params: {params}, alpha={alpha}\")\n",
    "    train_obj = make_custom_obj(sens_train, alpha)\n",
    "    bst = xgb.train(\n",
    "        params,\n",
    "        dtrain,\n",
    "        num_boost_round=100,\n",
    "        obj=train_obj,\n",
    "        evals=[(dtrain, 'train'), (dtest, 'test')],\n",
    "        early_stopping_rounds=10,\n",
    "        verbose_eval=False\n",
    "    )\n",
    "    pred_prob = bst.predict(dtest)\n",
    "    pred = (pred_prob > 0.5).astype(int)\n",
    "    acc     = accuracy_score(y_test, pred)\n",
    "    dpd_val = abs(pred[sens_test==1].mean() - pred[sens_test==0].mean())\n",
    "    results.append({ **params, 'alpha': alpha, 'accuracy': acc, 'dpd': dpd_val })"
   ]
  },
  {
   "cell_type": "code",
   "execution_count": 17,
   "id": "18d5dcf7",
   "metadata": {},
   "outputs": [
    {
     "name": "stdout",
     "output_type": "stream",
     "text": [
      "Summary of results for different alpha values:\n",
      "max_depth=3, acc=0.6893, dpd=0.0501\n",
      "max_depth=7, acc=0.6893, dpd=0.0379\n",
      "max_depth=3, acc=0.6750, dpd=0.0427\n",
      "max_depth=3, acc=0.6786, dpd=0.0098\n",
      "max_depth=5, acc=0.6821, dpd=0.0037\n",
      "max_depth=5, acc=0.6929, dpd=0.0122\n",
      "max_depth=3, acc=0.6893, dpd=0.0256\n",
      "max_depth=3, acc=0.6893, dpd=0.0102\n",
      "max_depth=3, acc=0.6786, dpd=0.0147\n",
      "max_depth=3, acc=0.5357, dpd=0.0000\n",
      "max_depth=7, acc=0.6893, dpd=0.0419\n",
      "max_depth=5, acc=0.6857, dpd=0.0252\n",
      "max_depth=7, acc=0.7000, dpd=0.0163\n",
      "max_depth=3, acc=0.6714, dpd=0.0252\n",
      "max_depth=7, acc=0.6893, dpd=0.0126\n",
      "max_depth=7, acc=0.6964, dpd=0.0167\n",
      "max_depth=3, acc=0.6893, dpd=0.0501\n",
      "max_depth=7, acc=0.7071, dpd=0.0049\n",
      "max_depth=7, acc=0.6929, dpd=0.0114\n",
      "max_depth=5, acc=0.6786, dpd=0.0016\n",
      "max_depth=5, acc=0.6857, dpd=0.0147\n",
      "max_depth=3, acc=0.6750, dpd=0.0151\n",
      "max_depth=5, acc=0.6821, dpd=0.0094\n",
      "max_depth=3, acc=0.6750, dpd=0.0370\n",
      "max_depth=3, acc=0.6893, dpd=0.0501\n",
      "max_depth=3, acc=0.6929, dpd=0.0269\n",
      "max_depth=5, acc=0.7000, dpd=0.0431\n",
      "max_depth=7, acc=0.7321, dpd=0.0159\n",
      "max_depth=7, acc=0.7000, dpd=0.0065\n",
      "max_depth=7, acc=0.6964, dpd=0.0053\n",
      "max_depth=5, acc=0.6893, dpd=0.0501\n",
      "max_depth=7, acc=0.5357, dpd=0.0000\n",
      "max_depth=5, acc=0.6821, dpd=0.0069\n",
      "max_depth=7, acc=0.6929, dpd=0.0114\n",
      "max_depth=3, acc=0.6714, dpd=0.0309\n",
      "max_depth=5, acc=0.6929, dpd=0.0391\n",
      "max_depth=3, acc=0.6821, dpd=0.0151\n",
      "max_depth=3, acc=0.6964, dpd=0.0159\n",
      "max_depth=3, acc=0.6786, dpd=0.0399\n",
      "max_depth=5, acc=0.7071, dpd=0.0106\n",
      "max_depth=3, acc=0.6929, dpd=0.0317\n",
      "max_depth=3, acc=0.6786, dpd=0.0366\n",
      "max_depth=3, acc=0.6821, dpd=0.0102\n",
      "max_depth=3, acc=0.6714, dpd=0.0480\n",
      "max_depth=5, acc=0.6964, dpd=0.0159\n",
      "max_depth=5, acc=0.6964, dpd=0.0208\n",
      "max_depth=7, acc=0.6929, dpd=0.0317\n",
      "max_depth=3, acc=0.6893, dpd=0.0159\n",
      "max_depth=5, acc=0.6786, dpd=0.0155\n",
      "max_depth=3, acc=0.6821, dpd=0.0037\n",
      "max_depth=7, acc=0.6786, dpd=0.0228\n",
      "max_depth=5, acc=0.7000, dpd=0.0008\n",
      "max_depth=5, acc=0.6893, dpd=0.0102\n",
      "max_depth=5, acc=0.6893, dpd=0.0313\n",
      "max_depth=5, acc=0.7071, dpd=0.0342\n",
      "max_depth=7, acc=0.7250, dpd=0.0167\n",
      "max_depth=7, acc=0.7250, dpd=0.0110\n",
      "max_depth=3, acc=0.6821, dpd=0.0370\n",
      "max_depth=3, acc=0.6893, dpd=0.0256\n",
      "max_depth=7, acc=0.6893, dpd=0.0012\n",
      "max_depth=7, acc=0.6750, dpd=0.0094\n",
      "max_depth=7, acc=0.7107, dpd=0.0289\n",
      "max_depth=5, acc=0.6929, dpd=0.0391\n",
      "max_depth=5, acc=0.7000, dpd=0.0228\n",
      "max_depth=5, acc=0.6964, dpd=0.0004\n",
      "max_depth=5, acc=0.6929, dpd=0.0374\n",
      "max_depth=3, acc=0.7000, dpd=0.0049\n",
      "max_depth=7, acc=0.7107, dpd=0.0338\n",
      "max_depth=7, acc=0.7071, dpd=0.0285\n",
      "max_depth=5, acc=0.6964, dpd=0.0273\n",
      "max_depth=7, acc=0.6893, dpd=0.0004\n",
      "max_depth=3, acc=0.6821, dpd=0.0313\n",
      "max_depth=5, acc=0.7000, dpd=0.0057\n",
      "max_depth=3, acc=0.6714, dpd=0.0041\n",
      "max_depth=5, acc=0.6821, dpd=0.0037\n",
      "max_depth=7, acc=0.7107, dpd=0.0598\n",
      "max_depth=7, acc=0.5357, dpd=0.0000\n",
      "max_depth=3, acc=0.6714, dpd=0.0480\n",
      "max_depth=3, acc=0.6786, dpd=0.0423\n",
      "max_depth=3, acc=0.6786, dpd=0.0041\n",
      "max_depth=5, acc=0.6929, dpd=0.0204\n",
      "max_depth=3, acc=0.6929, dpd=0.0269\n",
      "max_depth=7, acc=0.7714, dpd=0.0163\n",
      "max_depth=7, acc=0.6893, dpd=0.0501\n",
      "max_depth=5, acc=0.6857, dpd=0.0147\n",
      "max_depth=7, acc=0.6857, dpd=0.0594\n",
      "max_depth=5, acc=0.7071, dpd=0.0171\n",
      "max_depth=3, acc=0.6821, dpd=0.0102\n",
      "max_depth=7, acc=0.7143, dpd=0.0171\n",
      "max_depth=5, acc=0.6893, dpd=0.0069\n",
      "max_depth=3, acc=0.7000, dpd=0.0049\n",
      "max_depth=5, acc=0.7000, dpd=0.0057\n",
      "max_depth=5, acc=0.6893, dpd=0.0208\n",
      "max_depth=5, acc=0.6893, dpd=0.0118\n",
      "max_depth=7, acc=0.7250, dpd=0.0118\n",
      "max_depth=5, acc=0.6893, dpd=0.0151\n",
      "max_depth=5, acc=0.6786, dpd=0.0147\n",
      "max_depth=5, acc=0.7036, dpd=0.0159\n",
      "max_depth=7, acc=0.6750, dpd=0.0094\n",
      "max_depth=3, acc=0.6964, dpd=0.0061\n"
     ]
    }
   ],
   "source": [
    "# Summarize results\n",
    "print(\"Summary of results for different alpha values:\")\n",
    "alpha_vals = []\n",
    "acc_vals = []\n",
    "dpd_vals = []\n",
    "max_depth_vals = []\n",
    "for res in results:\n",
    "    # print(\"res:\",res)\n",
    "    alpha_vals.append(res['alpha'])\n",
    "    acc_vals.append(res['accuracy'])\n",
    "    dpd_vals.append(res['dpd'])\n",
    "    max_depth_vals.append(res['max_depth'])\n",
    "    # eta_vals.append(res['eta:'])\n",
    "    print(f\"max_depth={res['max_depth']}, acc={res['accuracy']:.4f}, dpd={res['dpd']:.4f}\")"
   ]
  },
  {
   "cell_type": "code",
   "execution_count": 19,
   "id": "1ceb7a4a",
   "metadata": {},
   "outputs": [
    {
     "data": {
      "application/vnd.plotly.v1+json": {
       "config": {
        "plotlyServerURL": "https://plot.ly"
       },
       "data": [
        {
         "customdata": [
          [
           0.1,
           "Yes",
           3
          ],
          [
           0.57,
           "Yes",
           7
          ],
          [
           0.91,
           "Yes",
           3
          ],
          [
           0.61,
           "Yes",
           3
          ],
          [
           0.93,
           "Yes",
           5
          ],
          [
           0.86,
           "Yes",
           5
          ],
          [
           0.26,
           "Yes",
           3
          ],
          [
           0.42,
           "Yes",
           3
          ],
          [
           0.44,
           "Yes",
           3
          ],
          [
           0.09,
           "No",
           3
          ],
          [
           0.29,
           "Yes",
           7
          ],
          [
           0.23,
           "Yes",
           5
          ],
          [
           0.58,
           "Yes",
           7
          ],
          [
           0.55,
           "Yes",
           3
          ],
          [
           0.81,
           "Yes",
           7
          ],
          [
           0.16,
           "Yes",
           7
          ],
          [
           0.14,
           "Yes",
           3
          ],
          [
           0.72,
           "No",
           7
          ],
          [
           0.47,
           "Yes",
           7
          ],
          [
           0.7,
           "Yes",
           5
          ],
          [
           0.62,
           "Yes",
           5
          ],
          [
           0.19,
           "Yes",
           3
          ],
          [
           0.3,
           "Yes",
           5
          ],
          [
           0.81,
           "Yes",
           3
          ],
          [
           0.03,
           "Yes",
           3
          ],
          [
           0.32,
           "Yes",
           3
          ],
          [
           0.9,
           "Yes",
           5
          ],
          [
           0.83,
           "No",
           7
          ],
          [
           0.71,
           "Yes",
           7
          ],
          [
           0.48,
           "Yes",
           7
          ],
          [
           0.14,
           "Yes",
           5
          ],
          [
           0.06,
           "No",
           7
          ],
          [
           0.82,
           "Yes",
           5
          ],
          [
           0.57,
           "Yes",
           7
          ],
          [
           0.88,
           "Yes",
           3
          ],
          [
           0.33,
           "Yes",
           5
          ],
          [
           0.51,
           "Yes",
           3
          ],
          [
           0.47,
           "Yes",
           3
          ],
          [
           0.77,
           "Yes",
           3
          ],
          [
           0.36,
           "Yes",
           5
          ],
          [
           0.32,
           "Yes",
           3
          ],
          [
           0.58,
           "Yes",
           3
          ],
          [
           0.84,
           "Yes",
           3
          ],
          [
           0.25,
           "Yes",
           3
          ],
          [
           0.27,
           "Yes",
           5
          ],
          [
           0.22,
           "Yes",
           5
          ],
          [
           0.1,
           "Yes",
           7
          ],
          [
           0.24,
           "Yes",
           3
          ],
          [
           0.32,
           "Yes",
           5
          ],
          [
           0.94,
           "Yes",
           3
          ],
          [
           0.95,
           "Yes",
           7
          ],
          [
           0.3,
           "No",
           5
          ],
          [
           0.99,
           "Yes",
           5
          ],
          [
           0.74,
           "Yes",
           5
          ],
          [
           0.8,
           "Yes",
           5
          ],
          [
           0.68,
           "Yes",
           7
          ],
          [
           0.95,
           "No",
           7
          ],
          [
           0.84,
           "Yes",
           3
          ],
          [
           0.28,
           "Yes",
           3
          ],
          [
           0.69,
           "Yes",
           7
          ],
          [
           0.26,
           "Yes",
           7
          ],
          [
           0.62,
           "Yes",
           7
          ],
          [
           0.19,
           "Yes",
           5
          ],
          [
           0.83,
           "Yes",
           5
          ],
          [
           0.38,
           "No",
           5
          ],
          [
           0.58,
           "Yes",
           5
          ],
          [
           0.4,
           "Yes",
           3
          ],
          [
           0.64,
           "Yes",
           7
          ],
          [
           0.76,
           "Yes",
           7
          ],
          [
           0.92,
           "Yes",
           5
          ],
          [
           0.62,
           "Yes",
           7
          ],
          [
           0.92,
           "Yes",
           3
          ],
          [
           0.64,
           "Yes",
           5
          ],
          [
           0.75,
           "Yes",
           3
          ],
          [
           0.96,
           "Yes",
           5
          ],
          [
           0.86,
           "Yes",
           7
          ],
          [
           0.06,
           "No",
           7
          ],
          [
           1,
           "Yes",
           3
          ],
          [
           0.78,
           "Yes",
           3
          ],
          [
           0.93,
           "Yes",
           3
          ],
          [
           0.11,
           "Yes",
           5
          ],
          [
           0.28,
           "Yes",
           3
          ],
          [
           0.99,
           "No",
           7
          ],
          [
           0.25,
           "Yes",
           7
          ],
          [
           0.64,
           "Yes",
           5
          ],
          [
           0.21,
           "Yes",
           7
          ],
          [
           0.88,
           "Yes",
           5
          ],
          [
           0.67,
           "Yes",
           3
          ],
          [
           0.66,
           "Yes",
           7
          ],
          [
           0.92,
           "Yes",
           5
          ],
          [
           0.41,
           "Yes",
           3
          ],
          [
           0.4,
           "Yes",
           5
          ],
          [
           0.69,
           "Yes",
           5
          ],
          [
           0.68,
           "Yes",
           5
          ],
          [
           0.8,
           "Yes",
           7
          ],
          [
           0.51,
           "Yes",
           5
          ],
          [
           0.72,
           "Yes",
           5
          ],
          [
           0.68,
           "Yes",
           5
          ],
          [
           0.72,
           "Yes",
           7
          ],
          [
           0.43,
           "Yes",
           3
          ]
         ],
         "hovertemplate": "DPD=%{x}<br>Accuracy=%{y}<br>alpha=%{marker.color}<br>Dominated=%{customdata[1]}<br>max_depth=%{customdata[2]}<extra></extra>",
         "legendgroup": "",
         "marker": {
          "color": {
           "bdata": "mpmZmZmZuT89CtejcD3iPx+F61G4Hu0/hetRuB6F4z/D9Shcj8LtP4XrUbgehes/pHA9Ctej0D/hehSuR+HaPylcj8L1KNw/CtejcD0Ktz+PwvUoXI/SP3E9CtejcM0/j8L1KFyP4j+amZmZmZnhP+xRuB6F6+k/exSuR+F6xD/sUbgehevBPwrXo3A9Cuc/FK5H4XoU3j9mZmZmZmbmP9ejcD0K1+M/UrgehetRyD8zMzMzMzPTP+xRuB6F6+k/uB6F61G4nj97FK5H4XrUP83MzMzMzOw/j8L1KFyP6j+4HoXrUbjmP7gehetRuN4/7FG4HoXrwT+4HoXrUbiuPz0K16NwPeo/PQrXo3A94j8pXI/C9SjsPx+F61G4HtU/UrgehetR4D8UrkfhehTeP6RwPQrXo+g/CtejcD0K1z97FK5H4XrUP4/C9Shcj+I/4XoUrkfh6j8AAAAAAADQP0jhehSuR9E/KVyPwvUozD+amZmZmZm5P7gehetRuM4/exSuR+F61D8UrkfhehTuP2ZmZmZmZu4/MzMzMzMz0z+uR+F6FK7vP65H4XoUruc/mpmZmZmZ6T/D9Shcj8LlP2ZmZmZmZu4/4XoUrkfh6j/sUbgehevRPxSuR+F6FOY/pHA9Ctej0D/Xo3A9CtfjP1K4HoXrUcg/j8L1KFyP6j9SuB6F61HYP4/C9Shcj+I/mpmZmZmZ2T97FK5H4XrkP1K4HoXrUeg/cT0K16Nw7T/Xo3A9CtfjP3E9CtejcO0/exSuR+F65D8AAAAAAADoP7gehetRuO4/hetRuB6F6z+4HoXrUbiuPwAAAAAAAPA/9ihcj8L16D/D9Shcj8LtPylcj8L1KLw/7FG4HoXr0T+uR+F6FK7vPwAAAAAAANA/exSuR+F65D/hehSuR+HKPylcj8L1KOw/cT0K16Nw5T8fhetRuB7lP3E9CtejcO0/PQrXo3A92j+amZmZmZnZPxSuR+F6FOY/w/UoXI/C5T+amZmZmZnpP1K4HoXrUeA/CtejcD0K5z/D9Shcj8LlPwrXo3A9Cuc/hetRuB6F2z8=",
           "dtype": "f8"
          },
          "coloraxis": "coloraxis",
          "line": {
           "width": 0
          },
          "symbol": "circle"
         },
         "mode": "markers",
         "name": "",
         "orientation": "v",
         "showlegend": false,
         "type": "scatter",
         "x": {
          "bdata": "IJqhGZqhqT8YNmETNmGjPxhe4RVe4aU/IEABFEABhD9A4AEe4AFuPxCQARmQAYk/IKRBGqRBmj+ATYG/otaEPyDgAR7gAY4/AAAAAAAAAABwVyHArHalP3CdgcTy1pk/wAoBZrWrkD9wnYHE8taZP2CdgcTy1ok/YBHBu2YWkT8gmqEZmqGpP0BAARRAAXQ/YHUBwspWhz+AqgFwVaxaPyDgAR7gAY4/gO2ByULXjj/AMoFo3SuDP2gvob2E9qI/IJqhGZqhqT8guIEbuIGbP3BhwcC2FqY/EARBEARBkD/AqgFwVax6P8BaAWsFrHU/IJqhGZqhqT8AAAAAAAAAAGDFAccaV3w/YHUBwspWhz/Q+gF1payfPxBAARRAAaQ/gO2ByULXjj8QBEEQBEGQP7xGwWnxa6Q/wFoBawWshT8QBEEQBEGgPxgswRIswaI/gE2Bv6LWhD9wiUHD3paoPxAEQRAEQZA/IFRBFVRBlT8QBEEQBEGgPxAEQRAEQZA/4PoBdaWsjz9A4AEe4AFuP2h1AcLKVpc/AKoBcFWsSj+ATYG/otaEP8AAYWWrC6A/EBiBERiBoT9gEcG7ZhaRPyBogRZogYY/aC+hvYT2oj8gpEEapEGaPwBAARRAAVQ/wDKBaN0rgz9w2UHILpedPxhAARRAAaQ/aHUBwspWlz8AqAFwVaw6P8AygWjdK6M/QEABFEABdD+4FKFmv0uhP8DSgXJ9LJ0/0L5BcWnsmz8AqAFwVaw6P8AAYWWrC6A/QHUBwspWdz/ACgFmtatwP0DgAR7gAW4/HOqhHuqhrj8AAAAAAAAAAHCJQcPelqg/wFoBawWspT/ACgFmtatwP3BNgb+i1pQ/ILiBG7iBmz/ACgFmtauQPyCaoRmaoak/IOABHuABjj/I5sFzkWyuPxAYgREYgZE/gE2Bv6LWhD8QGIERGIGRP2DFAccaV3w/QEABFEABdD9AdQHCylZ3PyBUQRVUQZU/wIKBbS0siD/AgoFtLSyIP4DtgclC144/IOABHuABjj8QBEEQBEGQP8AygWjdK4M/AJABGZABeT8=",
          "dtype": "f8"
         },
         "xaxis": "x",
         "y": {
          "bdata": "6qAO6qAO5j/qoA7qoA7mP5qZmZmZmeU/btu2bdu25T9CHdRBHdTlP77iK77iK+Y/6qAO6qAO5j/qoA7qoA7mP27btm3btuU/SZIkSZIk4T/qoA7qoA7mPxZf8RVf8eU/ZmZmZmZm5j/FV3zFV3zlP+qgDuqgDuY/kiRJkiRJ5j/qoA7qoA7mPw/qoA7qoOY/vuIrvuIr5j9u27Zt27blPxZf8RVf8eU/mpmZmZmZ5T9CHdRBHdTlP5qZmZmZmeU/6qAO6qAO5j++4iu+4ivmP2ZmZmZmZuY/27Zt27Zt5z9mZmZmZmbmP5IkSZIkSeY/6qAO6qAO5j9JkiRJkiThP0Id1EEd1OU/vuIrvuIr5j/FV3zFV3zlP77iK77iK+Y/Qh3UQR3U5T+SJEmSJEnmP27btm3btuU/D+qgDuqg5j++4iu+4ivmP27btm3btuU/Qh3UQR3U5T/FV3zFV3zlP5IkSZIkSeY/kiRJkiRJ5j++4iu+4ivmP+qgDuqgDuY/btu2bdu25T9CHdRBHdTlP27btm3btuU/ZmZmZmZm5j/qoA7qoA7mP+qgDuqgDuY/D+qgDuqg5j8zMzMzMzPnPzMzMzMzM+c/Qh3UQR3U5T/qoA7qoA7mP+qgDuqgDuY/mpmZmZmZ5T/jK77iK77mP77iK77iK+Y/ZmZmZmZm5j+SJEmSJEnmP77iK77iK+Y/ZmZmZmZm5j/jK77iK77mPw/qoA7qoOY/kiRJkiRJ5j/qoA7qoA7mP0Id1EEd1OU/ZmZmZmZm5j/FV3zFV3zlP0Id1EEd1OU/4yu+4iu+5j9JkiRJkiThP8VXfMVXfOU/btu2bdu25T9u27Zt27blP77iK77iK+Y/vuIrvuIr5j/5iq/4iq/oP+qgDuqgDuY/Fl/xFV/x5T8WX/EVX/HlPw/qoA7qoOY/Qh3UQR3U5T+3bdu2bdvmP+qgDuqgDuY/ZmZmZmZm5j9mZmZmZmbmP+qgDuqgDuY/6qAO6qAO5j8zMzMzMzPnP+qgDuqgDuY/btu2bdu25T87qIM6qIPmP5qZmZmZmeU/kiRJkiRJ5j8=",
          "dtype": "f8"
         },
         "yaxis": "y"
        },
        {
         "hoverinfo": "skip",
         "marker": {
          "color": "lightgray",
          "size": 10
         },
         "mode": "markers",
         "name": "Dominated",
         "type": "scatter",
         "x": {
          "bdata": "IJqhGZqhqT8YNmETNmGjPxhe4RVe4aU/IEABFEABhD9A4AEe4AFuPxCQARmQAYk/IKRBGqRBmj+ATYG/otaEPyDgAR7gAY4/cFchwKx2pT9wnYHE8taZP8AKAWa1q5A/cJ2BxPLWmT9gnYHE8taJP2ARwbtmFpE/IJqhGZqhqT9gdQHCylaHP4CqAXBVrFo/IOABHuABjj+A7YHJQteOP8AygWjdK4M/aC+hvYT2oj8gmqEZmqGpPyC4gRu4gZs/cGHBwLYWpj/AqgFwVax6P8BaAWsFrHU/IJqhGZqhqT9gxQHHGld8P2B1AcLKVoc/0PoBdaWsnz8QQAEUQAGkP4DtgclC144/EARBEARBkD+8RsFp8WukP8BaAWsFrIU/EARBEARBoD8YLMESLMGiP4BNgb+i1oQ/cIlBw96WqD8QBEEQBEGQPyBUQRVUQZU/EARBEARBoD8QBEEQBEGQP+D6AXWlrI8/QOABHuABbj9odQHCylaXP4BNgb+i1oQ/wABhZasLoD8QGIERGIGhP2ARwbtmFpE/aC+hvYT2oj8gpEEapEGaPwBAARRAAVQ/wDKBaN0rgz9w2UHILpedPxhAARRAAaQ/aHUBwspWlz/AMoFo3SujP0BAARRAAXQ/uBShZr9LoT/A0oFyfSydP9C+QXFp7Js/AKgBcFWsOj/AAGFlqwugP0B1AcLKVnc/wAoBZrWrcD9A4AEe4AFuPxzqoR7qoa4/cIlBw96WqD/AWgFrBaylP8AKAWa1q3A/cE2Bv6LWlD8guIEbuIGbPyCaoRmaoak/IOABHuABjj/I5sFzkWyuPxAYgREYgZE/gE2Bv6LWhD8QGIERGIGRP2DFAccaV3w/QEABFEABdD9AdQHCylZ3PyBUQRVUQZU/wIKBbS0siD/AgoFtLSyIP4DtgclC144/IOABHuABjj8QBEEQBEGQP8AygWjdK4M/AJABGZABeT8=",
          "dtype": "f8"
         },
         "y": {
          "bdata": "6qAO6qAO5j/qoA7qoA7mP5qZmZmZmeU/btu2bdu25T9CHdRBHdTlP77iK77iK+Y/6qAO6qAO5j/qoA7qoA7mP27btm3btuU/6qAO6qAO5j8WX/EVX/HlP2ZmZmZmZuY/xVd8xVd85T/qoA7qoA7mP5IkSZIkSeY/6qAO6qAO5j++4iu+4ivmP27btm3btuU/Fl/xFV/x5T+amZmZmZnlP0Id1EEd1OU/mpmZmZmZ5T/qoA7qoA7mP77iK77iK+Y/ZmZmZmZm5j9mZmZmZmbmP5IkSZIkSeY/6qAO6qAO5j9CHdRBHdTlP77iK77iK+Y/xVd8xVd85T++4iu+4ivmP0Id1EEd1OU/kiRJkiRJ5j9u27Zt27blPw/qoA7qoOY/vuIrvuIr5j9u27Zt27blP0Id1EEd1OU/xVd8xVd85T+SJEmSJEnmP5IkSZIkSeY/vuIrvuIr5j/qoA7qoA7mP27btm3btuU/Qh3UQR3U5T9u27Zt27blP+qgDuqgDuY/6qAO6qAO5j8P6qAO6qDmPzMzMzMzM+c/Qh3UQR3U5T/qoA7qoA7mP+qgDuqgDuY/mpmZmZmZ5T/jK77iK77mP77iK77iK+Y/ZmZmZmZm5j++4iu+4ivmP2ZmZmZmZuY/4yu+4iu+5j8P6qAO6qDmP5IkSZIkSeY/6qAO6qAO5j9CHdRBHdTlP2ZmZmZmZuY/xVd8xVd85T9CHdRBHdTlP+MrvuIrvuY/xVd8xVd85T9u27Zt27blP27btm3btuU/vuIrvuIr5j++4iu+4ivmP+qgDuqgDuY/Fl/xFV/x5T8WX/EVX/HlPw/qoA7qoOY/Qh3UQR3U5T+3bdu2bdvmP+qgDuqgDuY/ZmZmZmZm5j9mZmZmZmbmP+qgDuqgDuY/6qAO6qAO5j8zMzMzMzPnP+qgDuqgDuY/btu2bdu25T87qIM6qIPmP5qZmZmZmeU/kiRJkiRJ5j8=",
          "dtype": "f8"
         }
        }
       ],
       "layout": {
        "coloraxis": {
         "colorbar": {
          "title": {
           "text": "alpha"
          }
         },
         "colorscale": [
          [
           0,
           "#440154"
          ],
          [
           0.1111111111111111,
           "#482878"
          ],
          [
           0.2222222222222222,
           "#3e4989"
          ],
          [
           0.3333333333333333,
           "#31688e"
          ],
          [
           0.4444444444444444,
           "#26828e"
          ],
          [
           0.5555555555555556,
           "#1f9e89"
          ],
          [
           0.6666666666666666,
           "#35b779"
          ],
          [
           0.7777777777777778,
           "#6ece58"
          ],
          [
           0.8888888888888888,
           "#b5de2b"
          ],
          [
           1,
           "#fde725"
          ]
         ]
        },
        "legend": {
         "tracegroupgap": 0
        },
        "template": {
         "data": {
          "bar": [
           {
            "error_x": {
             "color": "#2a3f5f"
            },
            "error_y": {
             "color": "#2a3f5f"
            },
            "marker": {
             "line": {
              "color": "#E5ECF6",
              "width": 0.5
             },
             "pattern": {
              "fillmode": "overlay",
              "size": 10,
              "solidity": 0.2
             }
            },
            "type": "bar"
           }
          ],
          "barpolar": [
           {
            "marker": {
             "line": {
              "color": "#E5ECF6",
              "width": 0.5
             },
             "pattern": {
              "fillmode": "overlay",
              "size": 10,
              "solidity": 0.2
             }
            },
            "type": "barpolar"
           }
          ],
          "carpet": [
           {
            "aaxis": {
             "endlinecolor": "#2a3f5f",
             "gridcolor": "white",
             "linecolor": "white",
             "minorgridcolor": "white",
             "startlinecolor": "#2a3f5f"
            },
            "baxis": {
             "endlinecolor": "#2a3f5f",
             "gridcolor": "white",
             "linecolor": "white",
             "minorgridcolor": "white",
             "startlinecolor": "#2a3f5f"
            },
            "type": "carpet"
           }
          ],
          "choropleth": [
           {
            "colorbar": {
             "outlinewidth": 0,
             "ticks": ""
            },
            "type": "choropleth"
           }
          ],
          "contour": [
           {
            "colorbar": {
             "outlinewidth": 0,
             "ticks": ""
            },
            "colorscale": [
             [
              0,
              "#0d0887"
             ],
             [
              0.1111111111111111,
              "#46039f"
             ],
             [
              0.2222222222222222,
              "#7201a8"
             ],
             [
              0.3333333333333333,
              "#9c179e"
             ],
             [
              0.4444444444444444,
              "#bd3786"
             ],
             [
              0.5555555555555556,
              "#d8576b"
             ],
             [
              0.6666666666666666,
              "#ed7953"
             ],
             [
              0.7777777777777778,
              "#fb9f3a"
             ],
             [
              0.8888888888888888,
              "#fdca26"
             ],
             [
              1,
              "#f0f921"
             ]
            ],
            "type": "contour"
           }
          ],
          "contourcarpet": [
           {
            "colorbar": {
             "outlinewidth": 0,
             "ticks": ""
            },
            "type": "contourcarpet"
           }
          ],
          "heatmap": [
           {
            "colorbar": {
             "outlinewidth": 0,
             "ticks": ""
            },
            "colorscale": [
             [
              0,
              "#0d0887"
             ],
             [
              0.1111111111111111,
              "#46039f"
             ],
             [
              0.2222222222222222,
              "#7201a8"
             ],
             [
              0.3333333333333333,
              "#9c179e"
             ],
             [
              0.4444444444444444,
              "#bd3786"
             ],
             [
              0.5555555555555556,
              "#d8576b"
             ],
             [
              0.6666666666666666,
              "#ed7953"
             ],
             [
              0.7777777777777778,
              "#fb9f3a"
             ],
             [
              0.8888888888888888,
              "#fdca26"
             ],
             [
              1,
              "#f0f921"
             ]
            ],
            "type": "heatmap"
           }
          ],
          "histogram": [
           {
            "marker": {
             "pattern": {
              "fillmode": "overlay",
              "size": 10,
              "solidity": 0.2
             }
            },
            "type": "histogram"
           }
          ],
          "histogram2d": [
           {
            "colorbar": {
             "outlinewidth": 0,
             "ticks": ""
            },
            "colorscale": [
             [
              0,
              "#0d0887"
             ],
             [
              0.1111111111111111,
              "#46039f"
             ],
             [
              0.2222222222222222,
              "#7201a8"
             ],
             [
              0.3333333333333333,
              "#9c179e"
             ],
             [
              0.4444444444444444,
              "#bd3786"
             ],
             [
              0.5555555555555556,
              "#d8576b"
             ],
             [
              0.6666666666666666,
              "#ed7953"
             ],
             [
              0.7777777777777778,
              "#fb9f3a"
             ],
             [
              0.8888888888888888,
              "#fdca26"
             ],
             [
              1,
              "#f0f921"
             ]
            ],
            "type": "histogram2d"
           }
          ],
          "histogram2dcontour": [
           {
            "colorbar": {
             "outlinewidth": 0,
             "ticks": ""
            },
            "colorscale": [
             [
              0,
              "#0d0887"
             ],
             [
              0.1111111111111111,
              "#46039f"
             ],
             [
              0.2222222222222222,
              "#7201a8"
             ],
             [
              0.3333333333333333,
              "#9c179e"
             ],
             [
              0.4444444444444444,
              "#bd3786"
             ],
             [
              0.5555555555555556,
              "#d8576b"
             ],
             [
              0.6666666666666666,
              "#ed7953"
             ],
             [
              0.7777777777777778,
              "#fb9f3a"
             ],
             [
              0.8888888888888888,
              "#fdca26"
             ],
             [
              1,
              "#f0f921"
             ]
            ],
            "type": "histogram2dcontour"
           }
          ],
          "mesh3d": [
           {
            "colorbar": {
             "outlinewidth": 0,
             "ticks": ""
            },
            "type": "mesh3d"
           }
          ],
          "parcoords": [
           {
            "line": {
             "colorbar": {
              "outlinewidth": 0,
              "ticks": ""
             }
            },
            "type": "parcoords"
           }
          ],
          "pie": [
           {
            "automargin": true,
            "type": "pie"
           }
          ],
          "scatter": [
           {
            "fillpattern": {
             "fillmode": "overlay",
             "size": 10,
             "solidity": 0.2
            },
            "type": "scatter"
           }
          ],
          "scatter3d": [
           {
            "line": {
             "colorbar": {
              "outlinewidth": 0,
              "ticks": ""
             }
            },
            "marker": {
             "colorbar": {
              "outlinewidth": 0,
              "ticks": ""
             }
            },
            "type": "scatter3d"
           }
          ],
          "scattercarpet": [
           {
            "marker": {
             "colorbar": {
              "outlinewidth": 0,
              "ticks": ""
             }
            },
            "type": "scattercarpet"
           }
          ],
          "scattergeo": [
           {
            "marker": {
             "colorbar": {
              "outlinewidth": 0,
              "ticks": ""
             }
            },
            "type": "scattergeo"
           }
          ],
          "scattergl": [
           {
            "marker": {
             "colorbar": {
              "outlinewidth": 0,
              "ticks": ""
             }
            },
            "type": "scattergl"
           }
          ],
          "scattermap": [
           {
            "marker": {
             "colorbar": {
              "outlinewidth": 0,
              "ticks": ""
             }
            },
            "type": "scattermap"
           }
          ],
          "scattermapbox": [
           {
            "marker": {
             "colorbar": {
              "outlinewidth": 0,
              "ticks": ""
             }
            },
            "type": "scattermapbox"
           }
          ],
          "scatterpolar": [
           {
            "marker": {
             "colorbar": {
              "outlinewidth": 0,
              "ticks": ""
             }
            },
            "type": "scatterpolar"
           }
          ],
          "scatterpolargl": [
           {
            "marker": {
             "colorbar": {
              "outlinewidth": 0,
              "ticks": ""
             }
            },
            "type": "scatterpolargl"
           }
          ],
          "scatterternary": [
           {
            "marker": {
             "colorbar": {
              "outlinewidth": 0,
              "ticks": ""
             }
            },
            "type": "scatterternary"
           }
          ],
          "surface": [
           {
            "colorbar": {
             "outlinewidth": 0,
             "ticks": ""
            },
            "colorscale": [
             [
              0,
              "#0d0887"
             ],
             [
              0.1111111111111111,
              "#46039f"
             ],
             [
              0.2222222222222222,
              "#7201a8"
             ],
             [
              0.3333333333333333,
              "#9c179e"
             ],
             [
              0.4444444444444444,
              "#bd3786"
             ],
             [
              0.5555555555555556,
              "#d8576b"
             ],
             [
              0.6666666666666666,
              "#ed7953"
             ],
             [
              0.7777777777777778,
              "#fb9f3a"
             ],
             [
              0.8888888888888888,
              "#fdca26"
             ],
             [
              1,
              "#f0f921"
             ]
            ],
            "type": "surface"
           }
          ],
          "table": [
           {
            "cells": {
             "fill": {
              "color": "#EBF0F8"
             },
             "line": {
              "color": "white"
             }
            },
            "header": {
             "fill": {
              "color": "#C8D4E3"
             },
             "line": {
              "color": "white"
             }
            },
            "type": "table"
           }
          ]
         },
         "layout": {
          "annotationdefaults": {
           "arrowcolor": "#2a3f5f",
           "arrowhead": 0,
           "arrowwidth": 1
          },
          "autotypenumbers": "strict",
          "coloraxis": {
           "colorbar": {
            "outlinewidth": 0,
            "ticks": ""
           }
          },
          "colorscale": {
           "diverging": [
            [
             0,
             "#8e0152"
            ],
            [
             0.1,
             "#c51b7d"
            ],
            [
             0.2,
             "#de77ae"
            ],
            [
             0.3,
             "#f1b6da"
            ],
            [
             0.4,
             "#fde0ef"
            ],
            [
             0.5,
             "#f7f7f7"
            ],
            [
             0.6,
             "#e6f5d0"
            ],
            [
             0.7,
             "#b8e186"
            ],
            [
             0.8,
             "#7fbc41"
            ],
            [
             0.9,
             "#4d9221"
            ],
            [
             1,
             "#276419"
            ]
           ],
           "sequential": [
            [
             0,
             "#0d0887"
            ],
            [
             0.1111111111111111,
             "#46039f"
            ],
            [
             0.2222222222222222,
             "#7201a8"
            ],
            [
             0.3333333333333333,
             "#9c179e"
            ],
            [
             0.4444444444444444,
             "#bd3786"
            ],
            [
             0.5555555555555556,
             "#d8576b"
            ],
            [
             0.6666666666666666,
             "#ed7953"
            ],
            [
             0.7777777777777778,
             "#fb9f3a"
            ],
            [
             0.8888888888888888,
             "#fdca26"
            ],
            [
             1,
             "#f0f921"
            ]
           ],
           "sequentialminus": [
            [
             0,
             "#0d0887"
            ],
            [
             0.1111111111111111,
             "#46039f"
            ],
            [
             0.2222222222222222,
             "#7201a8"
            ],
            [
             0.3333333333333333,
             "#9c179e"
            ],
            [
             0.4444444444444444,
             "#bd3786"
            ],
            [
             0.5555555555555556,
             "#d8576b"
            ],
            [
             0.6666666666666666,
             "#ed7953"
            ],
            [
             0.7777777777777778,
             "#fb9f3a"
            ],
            [
             0.8888888888888888,
             "#fdca26"
            ],
            [
             1,
             "#f0f921"
            ]
           ]
          },
          "colorway": [
           "#636efa",
           "#EF553B",
           "#00cc96",
           "#ab63fa",
           "#FFA15A",
           "#19d3f3",
           "#FF6692",
           "#B6E880",
           "#FF97FF",
           "#FECB52"
          ],
          "font": {
           "color": "#2a3f5f"
          },
          "geo": {
           "bgcolor": "white",
           "lakecolor": "white",
           "landcolor": "#E5ECF6",
           "showlakes": true,
           "showland": true,
           "subunitcolor": "white"
          },
          "hoverlabel": {
           "align": "left"
          },
          "hovermode": "closest",
          "mapbox": {
           "style": "light"
          },
          "paper_bgcolor": "white",
          "plot_bgcolor": "#E5ECF6",
          "polar": {
           "angularaxis": {
            "gridcolor": "white",
            "linecolor": "white",
            "ticks": ""
           },
           "bgcolor": "#E5ECF6",
           "radialaxis": {
            "gridcolor": "white",
            "linecolor": "white",
            "ticks": ""
           }
          },
          "scene": {
           "xaxis": {
            "backgroundcolor": "#E5ECF6",
            "gridcolor": "white",
            "gridwidth": 2,
            "linecolor": "white",
            "showbackground": true,
            "ticks": "",
            "zerolinecolor": "white"
           },
           "yaxis": {
            "backgroundcolor": "#E5ECF6",
            "gridcolor": "white",
            "gridwidth": 2,
            "linecolor": "white",
            "showbackground": true,
            "ticks": "",
            "zerolinecolor": "white"
           },
           "zaxis": {
            "backgroundcolor": "#E5ECF6",
            "gridcolor": "white",
            "gridwidth": 2,
            "linecolor": "white",
            "showbackground": true,
            "ticks": "",
            "zerolinecolor": "white"
           }
          },
          "shapedefaults": {
           "line": {
            "color": "#2a3f5f"
           }
          },
          "ternary": {
           "aaxis": {
            "gridcolor": "white",
            "linecolor": "white",
            "ticks": ""
           },
           "baxis": {
            "gridcolor": "white",
            "linecolor": "white",
            "ticks": ""
           },
           "bgcolor": "#E5ECF6",
           "caxis": {
            "gridcolor": "white",
            "linecolor": "white",
            "ticks": ""
           }
          },
          "title": {
           "x": 0.05
          },
          "xaxis": {
           "automargin": true,
           "gridcolor": "white",
           "linecolor": "white",
           "ticks": "",
           "title": {
            "standoff": 15
           },
           "zerolinecolor": "white",
           "zerolinewidth": 2
          },
          "yaxis": {
           "automargin": true,
           "gridcolor": "white",
           "linecolor": "white",
           "ticks": "",
           "title": {
            "standoff": 15
           },
           "zerolinecolor": "white",
           "zerolinewidth": 2
          }
         }
        },
        "title": {
         "text": "Interactive Pareto and Dominated Points: DPD vs. Accuracy"
        },
        "xaxis": {
         "anchor": "y",
         "domain": [
          0,
          1
         ],
         "title": {
          "text": "DPD"
         }
        },
        "yaxis": {
         "anchor": "x",
         "domain": [
          0,
          1
         ],
         "title": {
          "text": "Accuracy"
         }
        }
       }
      }
     },
     "metadata": {},
     "output_type": "display_data"
    }
   ],
   "source": [
    "# 6. Identify Pareto-optimal points and create interactive plot with Plotly\n",
    "import pandas as pd\n",
    "import plotly.express as px\n",
    "\n",
    "def is_pareto_efficient(acc, dpd):\n",
    "    n_points = len(acc)\n",
    "    is_efficient = [True] * n_points\n",
    "    for i in range(n_points):\n",
    "        for j in range(n_points):\n",
    "            if (acc[j] >= acc[i] and dpd[j] <= dpd[i]) and (acc[j] > acc[i] or dpd[j] < dpd[i]):\n",
    "                is_efficient[i] = False\n",
    "                break\n",
    "    return is_efficient\n",
    "\n",
    "# compute Pareto front mask\n",
    "efficient_mask = is_pareto_efficient(acc_vals, dpd_vals)\n",
    "\n",
    "# prepare DataFrame for plotting\n",
    "plot_df = pd.DataFrame({\n",
    "    'DPD': dpd_vals,\n",
    "    'Accuracy': acc_vals,\n",
    "    'alpha': alpha_vals,\n",
    "    'max_depth': max_depth_vals,\n",
    "    # 'eta': eta_vals,    \n",
    "    'Pareto': ['Yes' if m else 'No' for m in efficient_mask]\n",
    "})\n",
    "\n",
    "plot_df['Dominated'] = ['No' if m else 'Yes' for m in efficient_mask]\n",
    "\n",
    "# Plotly: color Pareto points by alpha, dominated in gray\n",
    "fig = px.scatter(\n",
    "    plot_df,\n",
    "    x='DPD',\n",
    "    y='Accuracy',\n",
    "    color='alpha',\n",
    "    color_continuous_scale='Viridis',\n",
    "    size_max=15,\n",
    "    hover_data={'alpha': True, 'DPD': True, 'Accuracy': True, 'Dominated': True, 'max_depth': True},\n",
    "    title='Interactive Pareto and Dominated Points: DPD vs. Accuracy'\n",
    ")\n",
    "# update marker styling: dominated points gray\n",
    "fig.update_traces(\n",
    "    selector=dict(),\n",
    "    marker=dict(line_width=0)\n",
    ")\n",
    "# add dominated points as separate layer\n",
    "dominated_df = plot_df[plot_df['Dominated']=='Yes']\n",
    "fig.add_scatter(\n",
    "    x=dominated_df['DPD'],\n",
    "    y=dominated_df['Accuracy'],\n",
    "    mode='markers',\n",
    "    marker=dict(color='lightgray', size=10),\n",
    "    hoverinfo='skip',\n",
    "    name='Dominated'\n",
    ")\n",
    "fig.show()"
   ]
  },
  {
   "cell_type": "code",
   "execution_count": 33,
   "id": "464377ce",
   "metadata": {},
   "outputs": [
    {
     "name": "stdout",
     "output_type": "stream",
     "text": [
      "Collecting optuna\n",
      "  Downloading optuna-4.3.0-py3-none-any.whl.metadata (17 kB)\n",
      "Collecting alembic>=1.5.0 (from optuna)\n",
      "  Using cached alembic-1.15.2-py3-none-any.whl.metadata (7.3 kB)\n",
      "Collecting colorlog (from optuna)\n",
      "  Using cached colorlog-6.9.0-py3-none-any.whl.metadata (10 kB)\n",
      "Requirement already satisfied: numpy in c:\\users\\priya\\onedrive\\desktop\\german_credit_multi_objective\\env\\lib\\site-packages (from optuna) (2.2.5)\n",
      "Requirement already satisfied: packaging>=20.0 in c:\\users\\priya\\onedrive\\desktop\\german_credit_multi_objective\\env\\lib\\site-packages (from optuna) (25.0)\n",
      "Collecting sqlalchemy>=1.4.2 (from optuna)\n",
      "  Downloading sqlalchemy-2.0.41-py3-none-any.whl.metadata (9.6 kB)\n",
      "Collecting tqdm (from optuna)\n",
      "  Using cached tqdm-4.67.1-py3-none-any.whl.metadata (57 kB)\n",
      "Collecting PyYAML (from optuna)\n",
      "  Downloading PyYAML-6.0.2-cp313-cp313-win_amd64.whl.metadata (2.1 kB)\n",
      "Collecting Mako (from alembic>=1.5.0->optuna)\n",
      "  Downloading mako-1.3.10-py3-none-any.whl.metadata (2.9 kB)\n",
      "Collecting typing-extensions>=4.12 (from alembic>=1.5.0->optuna)\n",
      "  Using cached typing_extensions-4.13.2-py3-none-any.whl.metadata (3.0 kB)\n",
      "Collecting greenlet>=1 (from sqlalchemy>=1.4.2->optuna)\n",
      "  Downloading greenlet-3.2.2-cp313-cp313-win_amd64.whl.metadata (4.2 kB)\n",
      "Requirement already satisfied: colorama in c:\\users\\priya\\onedrive\\desktop\\german_credit_multi_objective\\env\\lib\\site-packages (from colorlog->optuna) (0.4.6)\n",
      "Collecting MarkupSafe>=0.9.2 (from Mako->alembic>=1.5.0->optuna)\n",
      "  Using cached MarkupSafe-3.0.2-cp313-cp313-win_amd64.whl.metadata (4.1 kB)\n",
      "Downloading optuna-4.3.0-py3-none-any.whl (386 kB)\n",
      "Using cached alembic-1.15.2-py3-none-any.whl (231 kB)\n",
      "Downloading sqlalchemy-2.0.41-py3-none-any.whl (1.9 MB)\n",
      "   ---------------------------------------- 0.0/1.9 MB ? eta -:--:--\n",
      "   ----- ---------------------------------- 0.3/1.9 MB ? eta -:--:--\n",
      "   ---------- ----------------------------- 0.5/1.9 MB 1.5 MB/s eta 0:00:01\n",
      "   ---------------- ----------------------- 0.8/1.9 MB 1.0 MB/s eta 0:00:02\n",
      "   --------------------- ------------------ 1.0/1.9 MB 1.1 MB/s eta 0:00:01\n",
      "   --------------------------- ------------ 1.3/1.9 MB 1.2 MB/s eta 0:00:01\n",
      "   -------------------------------- ------- 1.6/1.9 MB 1.3 MB/s eta 0:00:01\n",
      "   ---------------------------------------- 1.9/1.9 MB 1.3 MB/s eta 0:00:00\n",
      "Using cached colorlog-6.9.0-py3-none-any.whl (11 kB)\n",
      "Downloading PyYAML-6.0.2-cp313-cp313-win_amd64.whl (156 kB)\n",
      "Using cached tqdm-4.67.1-py3-none-any.whl (78 kB)\n",
      "Downloading greenlet-3.2.2-cp313-cp313-win_amd64.whl (296 kB)\n",
      "Using cached typing_extensions-4.13.2-py3-none-any.whl (45 kB)\n",
      "Downloading mako-1.3.10-py3-none-any.whl (78 kB)\n",
      "Using cached MarkupSafe-3.0.2-cp313-cp313-win_amd64.whl (15 kB)\n",
      "Installing collected packages: typing-extensions, tqdm, PyYAML, MarkupSafe, greenlet, colorlog, sqlalchemy, Mako, alembic, optuna\n",
      "Successfully installed Mako-1.3.10 MarkupSafe-3.0.2 PyYAML-6.0.2 alembic-1.15.2 colorlog-6.9.0 greenlet-3.2.2 optuna-4.3.0 sqlalchemy-2.0.41 tqdm-4.67.1 typing-extensions-4.13.2\n"
     ]
    },
    {
     "name": "stderr",
     "output_type": "stream",
     "text": [
      "\n",
      "[notice] A new release of pip is available: 24.3.1 -> 25.1.1\n",
      "[notice] To update, run: python.exe -m pip install --upgrade pip\n"
     ]
    }
   ],
   "source": [
    "! pip install optuna "
   ]
  }
 ],
 "metadata": {
  "kernelspec": {
   "display_name": "env",
   "language": "python",
   "name": "python3"
  },
  "language_info": {
   "codemirror_mode": {
    "name": "ipython",
    "version": 3
   },
   "file_extension": ".py",
   "mimetype": "text/x-python",
   "name": "python",
   "nbconvert_exporter": "python",
   "pygments_lexer": "ipython3",
   "version": "3.13.2"
  }
 },
 "nbformat": 4,
 "nbformat_minor": 5
}
