{
 "cells": [
  {
   "cell_type": "code",
   "execution_count": 5,
   "metadata": {
    "execution": {
     "iopub.execute_input": "2025-05-16T10:54:05.478719Z",
     "iopub.status.busy": "2025-05-16T10:54:05.478405Z",
     "iopub.status.idle": "2025-05-16T10:54:11.560949Z",
     "shell.execute_reply": "2025-05-16T10:54:11.559885Z",
     "shell.execute_reply.started": "2025-05-16T10:54:05.478690Z"
    },
    "trusted": true
   },
   "outputs": [],
   "source": [
    "import numpy as np\n",
    "import pandas as pd\n",
    "import xgboost as xgb\n",
    "from sklearn.model_selection import KFold\n",
    "from sklearn.metrics import accuracy_score\n",
    "import optuna\n",
    "import plotly.express as px\n",
    "import random\n",
    "\n",
    "# Load and prepare data\n",
    "DATA_PATH = 'german_credit_data_cleaned.csv'\n",
    "df = pd.read_csv(DATA_PATH)\n",
    "y = df['Risk_good'].values\n",
    "X_full = df.drop(columns=['Risk_good'])\n",
    "sensitive = df['Sex_male'].values\n",
    "\n"
   ]
  },
  {
   "cell_type": "code",
   "execution_count": 6,
   "metadata": {},
   "outputs": [],
   "source": [
    "GLOBAL_SEED = 873\n",
    "random.seed(GLOBAL_SEED)\n",
    "np.random.seed(GLOBAL_SEED)"
   ]
  },
  {
   "cell_type": "code",
   "execution_count": 7,
   "metadata": {
    "execution": {
     "iopub.execute_input": "2025-05-16T10:58:09.415940Z",
     "iopub.status.busy": "2025-05-16T10:58:09.415526Z",
     "iopub.status.idle": "2025-05-16T10:58:09.432867Z",
     "shell.execute_reply": "2025-05-16T10:58:09.431944Z",
     "shell.execute_reply.started": "2025-05-16T10:58:09.415902Z"
    },
    "trusted": true
   },
   "outputs": [],
   "source": [
    "# Define the custom objective function factory\n",
    "def make_custom_obj(sens_array, alpha=0.5):\n",
    "    def custom_obj(preds, dmatrix):\n",
    "        labels = dmatrix.get_label()\n",
    "        preds_prob = 1.0 / (1.0 + np.exp(-preds))\n",
    "        grad_log = preds_prob - labels\n",
    "        hess_log = preds_prob * (1.0 - preds_prob)\n",
    "        mask_p = (sens_array == 1)\n",
    "        mask_u = (sens_array == 0)\n",
    "        n_p, n_u = mask_p.sum(), mask_u.sum()\n",
    "        mean_p = preds_prob[mask_p].mean() if n_p > 0 else 0\n",
    "        mean_u = preds_prob[mask_u].mean() if n_u > 0 else 0\n",
    "        diff = mean_p - mean_u\n",
    "        sign = np.sign(diff)\n",
    "        sigmoid_deriv = preds_prob * (1.0 - preds_prob)\n",
    "        grad_fair = np.zeros_like(preds)\n",
    "        grad_fair[mask_p] = sign * (1.0 / n_p) * sigmoid_deriv[mask_p] if n_p > 0 else 0\n",
    "        grad_fair[mask_u] = -sign * (1.0 / n_u) * sigmoid_deriv[mask_u] if n_u > 0 else 0\n",
    "        hess_fair = np.zeros_like(preds)\n",
    "        grad = alpha * grad_log + (1 - alpha) * grad_fair\n",
    "        hess = alpha * hess_log + (1 - alpha) * hess_fair\n",
    "        return grad, hess\n",
    "    return custom_obj\n",
    "\n",
    "# Define the objective function for Optuna\n",
    "\n",
    "def create_objective_function(alpha,seed=GLOBAL_SEED):\n",
    "    def objective(trial):\n",
    "        # Suggest hyperparameters\n",
    "        # alpha = trial.suggest_float('alpha', 0.0, 1.0)\n",
    "        max_depth = trial.suggest_int('max_depth', 3, 7)\n",
    "        eta = trial.suggest_float('eta', 0.01, 0.3)\n",
    "        subsample = trial.suggest_float('subsample', 0.6, 1.0)\n",
    "        colsample_bytree = trial.suggest_float('colsample_bytree', 0.6, 1.0)\n",
    "\n",
    "        # Initialize cross-validation\n",
    "        kf = KFold(n_splits=3, shuffle=True, random_state=seed)\n",
    "        acc_scores = []\n",
    "        dpd_scores = []\n",
    "\n",
    "        # Perform 3-fold cross-validation\n",
    "        for train_idx, val_idx in kf.split(X_full):\n",
    "            # Split data\n",
    "            X_train = X_full.iloc[train_idx].drop(columns=['Sex_male']).values\n",
    "            y_train = y[train_idx]\n",
    "            sens_train = sensitive[train_idx]\n",
    "            X_val = X_full.iloc[val_idx].drop(columns=['Sex_male']).values\n",
    "            y_val = y[val_idx]\n",
    "            sens_val = sensitive[val_idx]\n",
    "\n",
    "            # Create custom objective\n",
    "            train_obj = make_custom_obj(sens_train, alpha=alpha)\n",
    "\n",
    "            # Set up DMatrix\n",
    "            dtrain = xgb.DMatrix(X_train, label=y_train)\n",
    "            dval = xgb.DMatrix(X_val, label=y_val)\n",
    "\n",
    "            # Train the model\n",
    "            params = {\n",
    "                'max_depth': max_depth,\n",
    "                'eta': eta,\n",
    "                'subsample': subsample,\n",
    "                'colsample_bytree': colsample_bytree,\n",
    "                'verbosity': 0,\n",
    "                'seed': seed + trial.number\n",
    "            }\n",
    "            bst = xgb.train(\n",
    "                params,\n",
    "                dtrain,\n",
    "                num_boost_round=100,\n",
    "                obj=train_obj,\n",
    "                evals=[(dtrain, 'train'), (dval, 'val')],\n",
    "                early_stopping_rounds=10,\n",
    "                verbose_eval=False\n",
    "            )\n",
    "\n",
    "            # Predict on validation set\n",
    "            pred_prob = bst.predict(dval)\n",
    "            pred = (pred_prob > 0.5).astype(int)\n",
    "\n",
    "            # Compute accuracy and DPD\n",
    "            acc = accuracy_score(y_val, pred)\n",
    "            dpd_val = abs(pred[sens_val == 1].mean() - pred[sens_val == 0].mean())\n",
    "            acc_scores.append(acc)\n",
    "            dpd_scores.append(dpd_val)\n",
    "\n",
    "        # Compute mean metrics across folds\n",
    "        mean_acc = np.mean(acc_scores)\n",
    "        mean_dpd = np.mean(dpd_scores)\n",
    "\n",
    "        # Store metrics for analysis\n",
    "        trial.set_user_attr('accuracy', mean_acc)\n",
    "        trial.set_user_attr('dpd', mean_dpd)\n",
    "        trial.set_user_attr('params', {\n",
    "            'alpha': alpha,\n",
    "            'max_depth': max_depth,\n",
    "            'eta': eta,\n",
    "            'subsample': subsample,\n",
    "            'colsample_bytree': colsample_bytree\n",
    "        })\n",
    "\n",
    "        return mean_acc, mean_dpd\n",
    "    return objective\n"
   ]
  },
  {
   "cell_type": "code",
   "execution_count": null,
   "metadata": {
    "execution": {
     "iopub.execute_input": "2025-05-16T11:16:52.247691Z",
     "iopub.status.busy": "2025-05-16T11:16:52.247320Z",
     "iopub.status.idle": "2025-05-16T11:24:00.911879Z",
     "shell.execute_reply": "2025-05-16T11:24:00.911009Z",
     "shell.execute_reply.started": "2025-05-16T11:16:52.247661Z"
    },
    "trusted": true
   },
   "outputs": [
    {
     "name": "stderr",
     "output_type": "stream",
     "text": [
      "[I 2025-05-16 19:27:43,335] A new study created in memory with name: no-name-3fac77d4-27b7-4814-b1c5-83363e66b715\n",
      "[I 2025-05-16 19:27:43,514] Trial 0 finished with values: [0.5000091902473095, 0.0] and parameters: {'max_depth': 4, 'eta': 0.23427942936231477, 'subsample': 0.6945965931961444, 'colsample_bytree': 0.6527247741457783}.\n",
      "[I 2025-05-16 19:27:43,519] A new study created in memory with name: no-name-7c1152c8-a5c9-4200-9106-447505ca8b25\n",
      "[I 2025-05-16 19:27:43,649] Trial 0 finished with values: [0.661435884239645, 0.07780119383333745] and parameters: {'max_depth': 3, 'eta': 0.14502880540829954, 'subsample': 0.6831438346551075, 'colsample_bytree': 0.6650056059966459}.\n",
      "[I 2025-05-16 19:27:43,653] A new study created in memory with name: no-name-e98662f0-8f6b-4a70-8d68-7bb27eff506b\n"
     ]
    },
    {
     "name": "stdout",
     "output_type": "stream",
     "text": [
      "Completed study for alpha=0\n",
      "Completed study for alpha=1\n",
      "[{'accuracy': 0.5000091902473095, 'dpd': 0.0, 'alpha': 0, 'params': {'alpha': 0, 'max_depth': 4, 'eta': 0.23427942936231477, 'subsample': 0.6945965931961444, 'colsample_bytree': 0.6527247741457783}}, {'accuracy': 0.661435884239645, 'dpd': 0.07780119383333745, 'alpha': 1, 'params': {'alpha': 1, 'max_depth': 3, 'eta': 0.14502880540829954, 'subsample': 0.6831438346551075, 'colsample_bytree': 0.6650056059966459}}]\n",
      "0\n",
      "max_acc: 0.661435884239645, max_dpd: 0.07780119383333745, min_acc: 0.5000091902473095, min_dpd: 0.0\n",
      "max dist: 1.4142135623730951, acc_dist: 1.0, dpd_dist: 1.0\n"
     ]
    },
    {
     "name": "stderr",
     "output_type": "stream",
     "text": [
      "[I 2025-05-16 19:27:43,773] Trial 0 finished with values: [0.6642986462765713, 0.037019707718247245] and parameters: {'max_depth': 7, 'eta': 0.2189983990110477, 'subsample': 0.7281971459251811, 'colsample_bytree': 0.958988210314949}.\n",
      "[I 2025-05-16 19:27:43,776] A new study created in memory with name: no-name-c10ea187-3897-4672-a61c-b4caad054a48\n",
      "[I 2025-05-16 19:27:43,913] Trial 0 finished with values: [0.6628664994041656, 0.028188257559743534] and parameters: {'max_depth': 3, 'eta': 0.0380102539744466, 'subsample': 0.7932399343106844, 'colsample_bytree': 0.7689704204658687}.\n",
      "[I 2025-05-16 19:27:43,916] A new study created in memory with name: no-name-9aadab0a-a4c1-4d8e-9b2d-d65c40afb937\n"
     ]
    },
    {
     "name": "stdout",
     "output_type": "stream",
     "text": [
      "1\n",
      "max_acc: 0.6642986462765713, max_dpd: 0.07780119383333745, min_acc: 0.5000091902473095, min_dpd: 0.0\n",
      "max dist: 1.1074334634935452, acc_dist: 1.0, dpd_dist: 0.2264088760653095\n",
      "2\n",
      "max_acc: 0.6642986462765713, max_dpd: 0.07780119383333745, min_acc: 0.5000091902473095, min_dpd: 0.0\n",
      "max dist: 1.1074334634935452, acc_dist: 1.0, dpd_dist: 0.2264088760653095\n"
     ]
    },
    {
     "name": "stderr",
     "output_type": "stream",
     "text": [
      "[I 2025-05-16 19:27:44,047] Trial 0 finished with values: [0.6635802752785411, 0.027068539729331025] and parameters: {'max_depth': 3, 'eta': 0.05323929968683921, 'subsample': 0.7140418773899931, 'colsample_bytree': 0.7577135900044464}.\n",
      "[I 2025-05-16 19:27:44,050] A new study created in memory with name: no-name-fa93c761-8ff1-4461-bec5-4dad95283f4e\n",
      "[I 2025-05-16 19:27:44,213] Trial 0 finished with values: [0.6678659939405636, 0.04443812101285003] and parameters: {'max_depth': 7, 'eta': 0.27371053232305487, 'subsample': 0.7114829952902549, 'colsample_bytree': 0.7009075119363926}.\n",
      "[I 2025-05-16 19:27:44,215] A new study created in memory with name: no-name-51be83b9-3c39-45b2-9c64-1789183ed905\n"
     ]
    },
    {
     "name": "stdout",
     "output_type": "stream",
     "text": [
      "3\n",
      "max_acc: 0.6642986462765713, max_dpd: 0.07780119383333745, min_acc: 0.5000091902473095, min_dpd: 0.0\n",
      "max dist: 1.1074334634935452, acc_dist: 1.0, dpd_dist: 0.2264088760653095\n",
      "4\n",
      "max_acc: 0.6678659939405636, max_dpd: 0.07780119383333745, min_acc: 0.5000091902473095, min_dpd: 0.0\n",
      "max dist: 1.088281160210743, acc_dist: 0.957947007604331, dpd_dist: 0.2264088760653095\n"
     ]
    },
    {
     "name": "stderr",
     "output_type": "stream",
     "text": [
      "[I 2025-05-16 19:27:44,444] Trial 0 finished with values: [0.6535766910820904, 0.02943348233415552] and parameters: {'max_depth': 5, 'eta': 0.02523700495658401, 'subsample': 0.8976696811915728, 'colsample_bytree': 0.959103927561523}.\n",
      "[I 2025-05-16 19:27:44,448] A new study created in memory with name: no-name-e3d5bfc5-7b7f-4b66-8502-2d8245c26d99\n",
      "[I 2025-05-16 19:27:44,613] Trial 0 finished with values: [0.6592976200322884, 0.03542881330671174] and parameters: {'max_depth': 4, 'eta': 0.2847107402410704, 'subsample': 0.7599957926386327, 'colsample_bytree': 0.7623775555649545}.\n",
      "[I 2025-05-16 19:27:44,616] A new study created in memory with name: no-name-49fb5244-aed8-4494-938e-9f63cea66937\n"
     ]
    },
    {
     "name": "stdout",
     "output_type": "stream",
     "text": [
      "5\n",
      "max_acc: 0.6678659939405636, max_dpd: 0.07780119383333745, min_acc: 0.5000091902473095, min_dpd: 0.0\n",
      "max dist: 1.088281160210743, acc_dist: 0.957947007604331, dpd_dist: 0.2264088760653095\n",
      "6\n",
      "max_acc: 0.6678659939405636, max_dpd: 0.07780119383333745, min_acc: 0.5000091902473095, min_dpd: 0.0\n",
      "max dist: 1.088281160210743, acc_dist: 0.957947007604331, dpd_dist: 0.2264088760653095\n"
     ]
    },
    {
     "name": "stderr",
     "output_type": "stream",
     "text": [
      "[I 2025-05-16 19:27:44,800] Trial 0 finished with values: [0.6642971145686865, 0.03007348674809775] and parameters: {'max_depth': 5, 'eta': 0.04085559383824801, 'subsample': 0.8577500036593071, 'colsample_bytree': 0.8275196430292582}.\n",
      "[I 2025-05-16 19:27:44,806] A new study created in memory with name: no-name-46bbfedf-8e9e-4166-95be-48645624ecf3\n"
     ]
    },
    {
     "name": "stdout",
     "output_type": "stream",
     "text": [
      "7\n",
      "max_acc: 0.6678659939405636, max_dpd: 0.07780119383333745, min_acc: 0.5000091902473095, min_dpd: 0.0\n",
      "max dist: 1.088281160210743, acc_dist: 0.957947007604331, dpd_dist: 0.2264088760653095\n"
     ]
    },
    {
     "name": "stderr",
     "output_type": "stream",
     "text": [
      "[I 2025-05-16 19:27:45,041] Trial 0 finished with values: [0.6607297669046941, 0.016341564352922094] and parameters: {'max_depth': 6, 'eta': 0.2462887362148314, 'subsample': 0.7148511211224349, 'colsample_bytree': 0.8641681121879333}.\n",
      "[I 2025-05-16 19:27:45,044] A new study created in memory with name: no-name-82978c02-dc6a-4b6f-b973-3ba69d19919a\n",
      "[I 2025-05-16 19:27:45,199] Trial 0 finished with values: [0.6585853758657979, 0.02215695148464326] and parameters: {'max_depth': 4, 'eta': 0.16578421526952092, 'subsample': 0.7387484514384728, 'colsample_bytree': 0.9076742941257762}.\n",
      "[I 2025-05-16 19:27:45,202] A new study created in memory with name: no-name-103c38a5-df7a-4ca0-8016-4d36874164d1\n"
     ]
    },
    {
     "name": "stdout",
     "output_type": "stream",
     "text": [
      "8\n",
      "max_acc: 0.6678659939405636, max_dpd: 0.07780119383333745, min_acc: 0.5000091902473095, min_dpd: 0.0\n",
      "max dist: 1.088281160210743, acc_dist: 0.957947007604331, dpd_dist: 0.2264088760653095\n",
      "9\n",
      "max_acc: 0.6678659939405636, max_dpd: 0.07780119383333745, min_acc: 0.5000091902473095, min_dpd: 0.0\n",
      "max dist: 1.088281160210743, acc_dist: 0.957947007604331, dpd_dist: 0.2264088760653095\n"
     ]
    },
    {
     "name": "stderr",
     "output_type": "stream",
     "text": [
      "[I 2025-05-16 19:27:45,340] Trial 0 finished with values: [0.6643001779844563, 0.02908718006493401] and parameters: {'max_depth': 4, 'eta': 0.2645215813019146, 'subsample': 0.6862647812989497, 'colsample_bytree': 0.8729250773226533}.\n",
      "[I 2025-05-16 19:27:45,343] A new study created in memory with name: no-name-5a41fec0-0728-42d2-b391-aac087bcbc32\n",
      "[I 2025-05-16 19:27:45,481] Trial 0 finished with values: [0.6664369104839278, 0.04444782079283205] and parameters: {'max_depth': 6, 'eta': 0.19707114698228642, 'subsample': 0.7949258465949731, 'colsample_bytree': 0.8009982893058629}.\n",
      "[I 2025-05-16 19:27:45,483] A new study created in memory with name: no-name-12a40780-4f45-4f00-9456-6f74bfa0b7c8\n"
     ]
    },
    {
     "name": "stdout",
     "output_type": "stream",
     "text": [
      "10\n",
      "max_acc: 0.6678659939405636, max_dpd: 0.07780119383333745, min_acc: 0.5000091902473095, min_dpd: 0.0\n",
      "max dist: 1.088281160210743, acc_dist: 0.957947007604331, dpd_dist: 0.2264088760653095\n",
      "11\n",
      "max_acc: 0.6678659939405636, max_dpd: 0.07780119383333745, min_acc: 0.5000091902473095, min_dpd: 0.0\n",
      "max dist: 1.088281160210743, acc_dist: 0.957947007604331, dpd_dist: 0.2264088760653095\n"
     ]
    },
    {
     "name": "stderr",
     "output_type": "stream",
     "text": [
      "[I 2025-05-16 19:27:45,622] Trial 0 finished with values: [0.6578700682835376, 0.027838559801465813] and parameters: {'max_depth': 4, 'eta': 0.2218929819615993, 'subsample': 0.7999963092161675, 'colsample_bytree': 0.9159359389709097}.\n",
      "[I 2025-05-16 19:27:45,626] A new study created in memory with name: no-name-8acd0ba7-9c81-4034-984f-829261a4802c\n",
      "[I 2025-05-16 19:27:45,763] Trial 0 finished with values: [0.6600129276145488, 0.021561708126966506] and parameters: {'max_depth': 3, 'eta': 0.2538568149930173, 'subsample': 0.7715248990876868, 'colsample_bytree': 0.8826752838133778}.\n",
      "[I 2025-05-16 19:27:45,766] A new study created in memory with name: no-name-8d72f966-3219-46d0-acf6-b43fe95bc3d4\n"
     ]
    },
    {
     "name": "stdout",
     "output_type": "stream",
     "text": [
      "12\n",
      "max_acc: 0.6678659939405636, max_dpd: 0.07780119383333745, min_acc: 0.5000091902473095, min_dpd: 0.0\n",
      "max dist: 1.088281160210743, acc_dist: 0.957947007604331, dpd_dist: 0.2264088760653095\n",
      "13\n",
      "max_acc: 0.6678659939405636, max_dpd: 0.07780119383333745, min_acc: 0.5000091902473095, min_dpd: 0.0\n",
      "max dist: 1.088281160210743, acc_dist: 0.957947007604331, dpd_dist: 0.2264088760653095\n"
     ]
    },
    {
     "name": "stderr",
     "output_type": "stream",
     "text": [
      "[I 2025-05-16 19:27:45,919] Trial 0 finished with values: [0.6650108904430617, 0.029484868711297407] and parameters: {'max_depth': 5, 'eta': 0.23373831777578724, 'subsample': 0.9147314209903017, 'colsample_bytree': 0.9122012484834874}.\n",
      "[I 2025-05-16 19:27:45,924] A new study created in memory with name: no-name-87c7b19f-eea1-48e1-9e2c-741c91e6ca25\n",
      "[I 2025-05-16 19:27:46,079] Trial 0 finished with values: [0.6650108904430619, 0.042448763562879986] and parameters: {'max_depth': 6, 'eta': 0.17124669311452417, 'subsample': 0.7143568403596239, 'colsample_bytree': 0.7739658513969715}.\n",
      "[I 2025-05-16 19:27:46,082] A new study created in memory with name: no-name-885440fc-9627-429b-be8e-2fe46e7e06d3\n"
     ]
    },
    {
     "name": "stdout",
     "output_type": "stream",
     "text": [
      "14\n",
      "max_acc: 0.6678659939405636, max_dpd: 0.07780119383333745, min_acc: 0.5000091902473095, min_dpd: 0.0\n",
      "max dist: 1.088281160210743, acc_dist: 0.957947007604331, dpd_dist: 0.2264088760653095\n",
      "15\n",
      "max_acc: 0.6678659939405636, max_dpd: 0.07780119383333745, min_acc: 0.5000091902473095, min_dpd: 0.0\n",
      "max dist: 1.088281160210743, acc_dist: 0.957947007604331, dpd_dist: 0.2264088760653095\n"
     ]
    },
    {
     "name": "stderr",
     "output_type": "stream",
     "text": [
      "[I 2025-05-16 19:27:46,341] Trial 0 finished with values: [0.6635802752785411, 0.044835444064057574] and parameters: {'max_depth': 5, 'eta': 0.19040860727803, 'subsample': 0.8912022345950317, 'colsample_bytree': 0.6638236054122023}.\n",
      "[I 2025-05-16 19:27:46,346] A new study created in memory with name: no-name-c61753e9-d265-4fc8-a389-503023b57284\n",
      "[I 2025-05-16 19:27:46,480] Trial 0 finished with values: [0.6593037468638281, 0.01739776632116206] and parameters: {'max_depth': 3, 'eta': 0.2981895003703438, 'subsample': 0.6787679647945501, 'colsample_bytree': 0.9313930921626683}.\n",
      "[I 2025-05-16 19:27:46,482] A new study created in memory with name: no-name-38b77b5b-b200-460f-a0e7-a1b8f92547c1\n"
     ]
    },
    {
     "name": "stdout",
     "output_type": "stream",
     "text": [
      "16\n",
      "max_acc: 0.6678659939405636, max_dpd: 0.07780119383333745, min_acc: 0.5000091902473095, min_dpd: 0.0\n",
      "max dist: 1.088281160210743, acc_dist: 0.957947007604331, dpd_dist: 0.2264088760653095\n",
      "17\n",
      "max_acc: 0.6678659939405636, max_dpd: 0.07780119383333745, min_acc: 0.5000091902473095, min_dpd: 0.0\n",
      "max dist: 1.088281160210743, acc_dist: 0.957947007604331, dpd_dist: 0.2264088760653095\n"
     ]
    },
    {
     "name": "stderr",
     "output_type": "stream",
     "text": [
      "[I 2025-05-16 19:27:46,629] Trial 0 finished with values: [0.663578743570656, 0.02725464595759945] and parameters: {'max_depth': 4, 'eta': 0.23206842699170252, 'subsample': 0.9509366875789272, 'colsample_bytree': 0.8845976295181766}.\n",
      "[I 2025-05-16 19:27:46,633] A new study created in memory with name: no-name-859b6c10-b960-4f28-8bb0-f6663e74e32e\n",
      "[I 2025-05-16 19:27:46,784] Trial 0 finished with values: [0.6643017096923413, 0.0314070669710593] and parameters: {'max_depth': 5, 'eta': 0.2663756018402227, 'subsample': 0.7567329714039766, 'colsample_bytree': 0.8983572516647589}.\n",
      "[I 2025-05-16 19:27:46,788] A new study created in memory with name: no-name-94b05d4d-678b-4e3d-a00b-8290028f441f\n"
     ]
    },
    {
     "name": "stdout",
     "output_type": "stream",
     "text": [
      "18\n",
      "max_acc: 0.6678659939405636, max_dpd: 0.07780119383333745, min_acc: 0.5000091902473095, min_dpd: 0.0\n",
      "max dist: 1.088281160210743, acc_dist: 0.957947007604331, dpd_dist: 0.2264088760653095\n",
      "19\n",
      "max_acc: 0.6678659939405636, max_dpd: 0.07780119383333745, min_acc: 0.5000091902473095, min_dpd: 0.0\n",
      "max dist: 1.088281160210743, acc_dist: 0.957947007604331, dpd_dist: 0.2264088760653095\n"
     ]
    },
    {
     "name": "stderr",
     "output_type": "stream",
     "text": [
      "[I 2025-05-16 19:27:46,927] Trial 0 finished with values: [0.6657200711937824, 0.036489044962539276] and parameters: {'max_depth': 3, 'eta': 0.2990467305880465, 'subsample': 0.9020001349715709, 'colsample_bytree': 0.7114547558565907}.\n",
      "[I 2025-05-16 19:27:46,931] A new study created in memory with name: no-name-aeeca2da-f98f-4067-aaa3-c41add1cdc89\n",
      "[I 2025-05-16 19:27:47,106] Trial 0 finished with values: [0.6535782227899752, 0.03526717245514558] and parameters: {'max_depth': 4, 'eta': 0.08278795178260681, 'subsample': 0.9915900986030961, 'colsample_bytree': 0.9365373256785796}.\n",
      "[I 2025-05-16 19:27:47,109] A new study created in memory with name: no-name-660f8077-8442-4647-8bec-12d89b7775c1\n"
     ]
    },
    {
     "name": "stdout",
     "output_type": "stream",
     "text": [
      "20\n",
      "max_acc: 0.6678659939405636, max_dpd: 0.07780119383333745, min_acc: 0.5000091902473095, min_dpd: 0.0\n",
      "max dist: 1.088281160210743, acc_dist: 0.957947007604331, dpd_dist: 0.2264088760653095\n",
      "21\n",
      "max_acc: 0.6678659939405636, max_dpd: 0.07780119383333745, min_acc: 0.5000091902473095, min_dpd: 0.0\n",
      "max dist: 1.088281160210743, acc_dist: 0.957947007604331, dpd_dist: 0.2264088760653095\n"
     ]
    },
    {
     "name": "stderr",
     "output_type": "stream",
     "text": [
      "[I 2025-05-16 19:27:47,280] Trial 0 finished with values: [0.6700103849794597, 0.0326775878268356] and parameters: {'max_depth': 7, 'eta': 0.2764965592064863, 'subsample': 0.9946704909104211, 'colsample_bytree': 0.9705197008467532}.\n",
      "[I 2025-05-16 19:27:47,283] A new study created in memory with name: no-name-c6e11a11-1616-495e-807a-f7e582c055be\n",
      "[I 2025-05-16 19:27:47,436] Trial 0 finished with values: [0.663583338694311, 0.03709981486073629] and parameters: {'max_depth': 3, 'eta': 0.2149895604985502, 'subsample': 0.6581820913384668, 'colsample_bytree': 0.756717339902977}.\n",
      "[I 2025-05-16 19:27:47,439] A new study created in memory with name: no-name-09fc1cf2-d0e2-40f8-b8e3-7c626fea5bbf\n"
     ]
    },
    {
     "name": "stdout",
     "output_type": "stream",
     "text": [
      "22\n",
      "max_acc: 0.6700103849794597, max_dpd: 0.07780119383333745, min_acc: 0.5000091902473095, min_dpd: 0.0\n",
      "max dist: 1.077191377258991, acc_dist: 0.9339323871758121, dpd_dist: 0.2264088760653095\n",
      "23\n",
      "max_acc: 0.6700103849794597, max_dpd: 0.07780119383333745, min_acc: 0.5000091902473095, min_dpd: 0.0\n",
      "max dist: 1.077191377258991, acc_dist: 0.9339323871758121, dpd_dist: 0.2264088760653095\n"
     ]
    },
    {
     "name": "stderr",
     "output_type": "stream",
     "text": [
      "[I 2025-05-16 19:27:47,591] Trial 0 finished with values: [0.6642986462765713, 0.03712437687584364] and parameters: {'max_depth': 7, 'eta': 0.2359847269239766, 'subsample': 0.8213286008443611, 'colsample_bytree': 0.9663162973575506}.\n",
      "[I 2025-05-16 19:27:47,595] A new study created in memory with name: no-name-9a5cf55e-14bf-499e-b6b1-83054c1fd003\n",
      "[I 2025-05-16 19:27:47,726] Trial 0 finished with values: [0.6592991517401733, 0.01768299265636103] and parameters: {'max_depth': 5, 'eta': 0.10666557823391457, 'subsample': 0.6750054650871631, 'colsample_bytree': 0.9746099111614938}.\n",
      "[I 2025-05-16 19:27:47,729] A new study created in memory with name: no-name-bd2b0f51-8260-4f54-a453-e7e1e6e1661f\n"
     ]
    },
    {
     "name": "stdout",
     "output_type": "stream",
     "text": [
      "24\n",
      "max_acc: 0.6700103849794597, max_dpd: 0.07780119383333745, min_acc: 0.5000091902473095, min_dpd: 0.0\n",
      "max dist: 1.077191377258991, acc_dist: 0.9339323871758121, dpd_dist: 0.2264088760653095\n",
      "25\n",
      "max_acc: 0.6700103849794597, max_dpd: 0.07780119383333745, min_acc: 0.5000091902473095, min_dpd: 0.0\n",
      "max dist: 1.077191377258991, acc_dist: 0.9339323871758121, dpd_dist: 0.2264088760653095\n"
     ]
    },
    {
     "name": "stderr",
     "output_type": "stream",
     "text": [
      "[I 2025-05-16 19:27:47,925] Trial 0 finished with values: [0.6607236400731544, 0.025199673687251335] and parameters: {'max_depth': 6, 'eta': 0.07724403105878055, 'subsample': 0.9613271308551916, 'colsample_bytree': 0.9661134035517447}.\n",
      "[I 2025-05-16 19:27:47,929] A new study created in memory with name: no-name-a7ce2e15-29a2-427f-8fa5-678616e37a53\n"
     ]
    },
    {
     "name": "stdout",
     "output_type": "stream",
     "text": [
      "26\n",
      "max_acc: 0.6700103849794597, max_dpd: 0.07780119383333745, min_acc: 0.5000091902473095, min_dpd: 0.0\n",
      "max dist: 1.077191377258991, acc_dist: 0.9339323871758121, dpd_dist: 0.2264088760653095\n"
     ]
    },
    {
     "name": "stderr",
     "output_type": "stream",
     "text": [
      "[I 2025-05-16 19:27:48,143] Trial 0 finished with values: [0.6557210821209866, 0.04104835900250533] and parameters: {'max_depth': 7, 'eta': 0.22049613065981774, 'subsample': 0.8065785106186443, 'colsample_bytree': 0.9727845420190513}.\n",
      "[I 2025-05-16 19:27:48,147] A new study created in memory with name: no-name-ffe9a8cd-036a-42b4-8ca8-3a9b055aba86\n",
      "[I 2025-05-16 19:27:48,314] Trial 0 finished with values: [0.6614404793632996, 0.024216791711220282] and parameters: {'max_depth': 5, 'eta': 0.18150718091262247, 'subsample': 0.6266374991154592, 'colsample_bytree': 0.9078768268911677}.\n",
      "[I 2025-05-16 19:27:48,319] A new study created in memory with name: no-name-bc8f56df-b2f5-4e91-acc2-583e088f0ac7\n"
     ]
    },
    {
     "name": "stdout",
     "output_type": "stream",
     "text": [
      "27\n",
      "max_acc: 0.6700103849794597, max_dpd: 0.07780119383333745, min_acc: 0.5000091902473095, min_dpd: 0.0\n",
      "max dist: 1.077191377258991, acc_dist: 0.9339323871758121, dpd_dist: 0.2264088760653095\n",
      "28\n",
      "max_acc: 0.6700103849794597, max_dpd: 0.07780119383333745, min_acc: 0.5000091902473095, min_dpd: 0.0\n",
      "max dist: 1.077191377258991, acc_dist: 0.9339323871758121, dpd_dist: 0.2264088760653095\n"
     ]
    },
    {
     "name": "stderr",
     "output_type": "stream",
     "text": [
      "[I 2025-05-16 19:27:48,465] Trial 0 finished with values: [0.6635894655258506, 0.032008171561061914] and parameters: {'max_depth': 4, 'eta': 0.2106451955101106, 'subsample': 0.7950031720395678, 'colsample_bytree': 0.963343015123202}.\n",
      "[I 2025-05-16 19:27:48,470] A new study created in memory with name: no-name-8b92d973-cfc3-4157-a9ef-8c711e94b6e2\n",
      "[I 2025-05-16 19:27:48,600] Trial 0 finished with values: [0.6635802752785411, 0.035642006847152276] and parameters: {'max_depth': 7, 'eta': 0.1508624285320457, 'subsample': 0.832144515269275, 'colsample_bytree': 0.694686624913398}.\n",
      "[I 2025-05-16 19:27:48,602] A new study created in memory with name: no-name-997be0a5-9242-4135-bca9-873f88e561f2\n"
     ]
    },
    {
     "name": "stdout",
     "output_type": "stream",
     "text": [
      "29\n",
      "max_acc: 0.6700103849794597, max_dpd: 0.07780119383333745, min_acc: 0.5000091902473095, min_dpd: 0.0\n",
      "max dist: 1.077191377258991, acc_dist: 0.9339323871758121, dpd_dist: 0.2264088760653095\n",
      "30\n",
      "max_acc: 0.6700103849794597, max_dpd: 0.07780119383333745, min_acc: 0.5000091902473095, min_dpd: 0.0\n",
      "max dist: 1.077191377258991, acc_dist: 0.9339323871758121, dpd_dist: 0.2264088760653095\n"
     ]
    },
    {
     "name": "stderr",
     "output_type": "stream",
     "text": [
      "[I 2025-05-16 19:27:48,818] Trial 0 finished with values: [0.663583338694311, 0.021967388157063967] and parameters: {'max_depth': 5, 'eta': 0.01256922669341863, 'subsample': 0.7381813953454834, 'colsample_bytree': 0.8874217495546031}.\n",
      "[I 2025-05-16 19:27:48,822] A new study created in memory with name: no-name-ae5bd12a-e6ef-4726-a1de-96b1c28ab0ee\n",
      "[I 2025-05-16 19:27:48,948] Trial 0 finished with values: [0.6628680311120506, 0.05184751700563749] and parameters: {'max_depth': 7, 'eta': 0.19851787339067528, 'subsample': 0.624996123744395, 'colsample_bytree': 0.6080673339084576}.\n",
      "[I 2025-05-16 19:27:48,951] A new study created in memory with name: no-name-cc0a6228-adee-44ed-a7ea-7aafb75649f2\n"
     ]
    },
    {
     "name": "stdout",
     "output_type": "stream",
     "text": [
      "31\n",
      "max_acc: 0.6700103849794597, max_dpd: 0.07780119383333745, min_acc: 0.5000091902473095, min_dpd: 0.0\n",
      "max dist: 1.077191377258991, acc_dist: 0.9339323871758121, dpd_dist: 0.2264088760653095\n",
      "32\n",
      "max_acc: 0.6700103849794597, max_dpd: 0.07780119383333745, min_acc: 0.5000091902473095, min_dpd: 0.0\n",
      "max dist: 1.077191377258991, acc_dist: 0.9339323871758121, dpd_dist: 0.2264088760653095\n"
     ]
    },
    {
     "name": "stderr",
     "output_type": "stream",
     "text": [
      "[I 2025-05-16 19:27:49,078] Trial 0 finished with values: [0.6628695628199356, 0.04137349474567568] and parameters: {'max_depth': 3, 'eta': 0.2337658271824202, 'subsample': 0.6633689973672859, 'colsample_bytree': 0.7436356838976079}.\n",
      "[I 2025-05-16 19:27:49,081] A new study created in memory with name: no-name-86658652-4dc6-46a4-a676-06b53087c314\n",
      "[I 2025-05-16 19:27:49,203] Trial 0 finished with values: [0.6657216029016674, 0.03652778497138567] and parameters: {'max_depth': 5, 'eta': 0.25323246051872655, 'subsample': 0.7829985515595548, 'colsample_bytree': 0.7259094102834233}.\n",
      "[I 2025-05-16 19:27:49,207] A new study created in memory with name: no-name-d4addb5b-6e97-4cce-a964-1c7a399efacf\n"
     ]
    },
    {
     "name": "stdout",
     "output_type": "stream",
     "text": [
      "33\n",
      "max_acc: 0.6700103849794597, max_dpd: 0.07780119383333745, min_acc: 0.5000091902473095, min_dpd: 0.0\n",
      "max dist: 1.077191377258991, acc_dist: 0.9339323871758121, dpd_dist: 0.2264088760653095\n",
      "34\n",
      "max_acc: 0.6700103849794597, max_dpd: 0.07780119383333745, min_acc: 0.5000091902473095, min_dpd: 0.0\n",
      "max dist: 1.077191377258991, acc_dist: 0.9339323871758121, dpd_dist: 0.2264088760653095\n"
     ]
    },
    {
     "name": "stderr",
     "output_type": "stream",
     "text": [
      "[I 2025-05-16 19:27:49,350] Trial 0 finished with values: [0.6614420110711846, 0.02817239830822361] and parameters: {'max_depth': 3, 'eta': 0.07300069382458185, 'subsample': 0.6885851761370695, 'colsample_bytree': 0.6629351658680899}.\n",
      "[I 2025-05-16 19:27:49,354] A new study created in memory with name: no-name-aaf2ea0b-0613-4f07-841f-946e89d336a3\n",
      "[I 2025-05-16 19:27:49,537] Trial 0 finished with values: [0.6614420110711846, 0.03389787933774647] and parameters: {'max_depth': 7, 'eta': 0.28510900803318984, 'subsample': 0.7640179460807766, 'colsample_bytree': 0.8977391352698358}.\n",
      "[I 2025-05-16 19:27:49,540] A new study created in memory with name: no-name-f1044c8f-11d4-4a49-8041-14c938250e21\n"
     ]
    },
    {
     "name": "stdout",
     "output_type": "stream",
     "text": [
      "35\n",
      "max_acc: 0.6700103849794597, max_dpd: 0.07780119383333745, min_acc: 0.5000091902473095, min_dpd: 0.0\n",
      "max dist: 1.077191377258991, acc_dist: 0.9339323871758121, dpd_dist: 0.2264088760653095\n",
      "36\n",
      "max_acc: 0.6700103849794597, max_dpd: 0.07780119383333745, min_acc: 0.5000091902473095, min_dpd: 0.0\n",
      "max dist: 1.077191377258991, acc_dist: 0.9339323871758121, dpd_dist: 0.2264088760653095\n"
     ]
    },
    {
     "name": "stderr",
     "output_type": "stream",
     "text": [
      "[I 2025-05-16 19:27:49,726] Trial 0 finished with values: [0.6592991517401733, 0.024999470857890515] and parameters: {'max_depth': 5, 'eta': 0.06724139495080199, 'subsample': 0.8650373972000243, 'colsample_bytree': 0.9082016968817119}.\n",
      "[I 2025-05-16 19:27:49,730] A new study created in memory with name: no-name-e3fa9bb9-816a-48df-8fdc-21263fd4cd1a\n"
     ]
    },
    {
     "name": "stdout",
     "output_type": "stream",
     "text": [
      "37\n",
      "max_acc: 0.6700103849794597, max_dpd: 0.07780119383333745, min_acc: 0.5000091902473095, min_dpd: 0.0\n",
      "max dist: 1.077191377258991, acc_dist: 0.9339323871758121, dpd_dist: 0.2264088760653095\n"
     ]
    },
    {
     "name": "stderr",
     "output_type": "stream",
     "text": [
      "[I 2025-05-16 19:27:49,991] Trial 0 finished with values: [0.6614404793632996, 0.046970971414632474] and parameters: {'max_depth': 4, 'eta': 0.21262452484697156, 'subsample': 0.9141228255435987, 'colsample_bytree': 0.7007618573505737}.\n",
      "[I 2025-05-16 19:27:49,996] A new study created in memory with name: no-name-47d82577-231d-42c6-97a7-02fa0f9dabd5\n",
      "[I 2025-05-16 19:27:50,155] Trial 0 finished with values: [0.6650124221509468, 0.03242090458847333] and parameters: {'max_depth': 5, 'eta': 0.09937426004108425, 'subsample': 0.9188106207794732, 'colsample_bytree': 0.7428838559590316}.\n",
      "[I 2025-05-16 19:27:50,158] A new study created in memory with name: no-name-1c524c1b-1abf-45f1-a879-7013464bbb81\n"
     ]
    },
    {
     "name": "stdout",
     "output_type": "stream",
     "text": [
      "38\n",
      "max_acc: 0.6700103849794597, max_dpd: 0.07780119383333745, min_acc: 0.5000091902473095, min_dpd: 0.0\n",
      "max dist: 1.077191377258991, acc_dist: 0.9339323871758121, dpd_dist: 0.2264088760653095\n",
      "39\n",
      "max_acc: 0.6700103849794597, max_dpd: 0.07780119383333745, min_acc: 0.5000091902473095, min_dpd: 0.0\n",
      "max dist: 1.077191377258991, acc_dist: 0.9339323871758121, dpd_dist: 0.2264088760653095\n"
     ]
    },
    {
     "name": "stderr",
     "output_type": "stream",
     "text": [
      "[I 2025-05-16 19:27:50,504] Trial 0 finished with values: [0.6664399738996977, 0.03880020520781428] and parameters: {'max_depth': 4, 'eta': 0.143069958488412, 'subsample': 0.8946905024092848, 'colsample_bytree': 0.7954381126485777}.\n",
      "[I 2025-05-16 19:27:50,512] A new study created in memory with name: no-name-15a40561-b43d-43a0-bda1-08b40ca85933\n"
     ]
    },
    {
     "name": "stdout",
     "output_type": "stream",
     "text": [
      "40\n",
      "max_acc: 0.6700103849794597, max_dpd: 0.07780119383333745, min_acc: 0.5000091902473095, min_dpd: 0.0\n",
      "max dist: 1.077191377258991, acc_dist: 0.9339323871758121, dpd_dist: 0.2264088760653095\n"
     ]
    },
    {
     "name": "stderr",
     "output_type": "stream",
     "text": [
      "[I 2025-05-16 19:27:50,739] Trial 0 finished with values: [0.6600129276145488, 0.027433757550488908] and parameters: {'max_depth': 5, 'eta': 0.03888201395123005, 'subsample': 0.6581248555693373, 'colsample_bytree': 0.9439849473696673}.\n",
      "[I 2025-05-16 19:27:50,742] A new study created in memory with name: no-name-169c525d-1007-4a9b-88f2-3c03711031a8\n",
      "[I 2025-05-16 19:27:50,919] Trial 0 finished with values: [0.6678675256484485, 0.04676755028878235] and parameters: {'max_depth': 3, 'eta': 0.2942526856149128, 'subsample': 0.8203621317927985, 'colsample_bytree': 0.7055328223471654}.\n",
      "[I 2025-05-16 19:27:50,923] A new study created in memory with name: no-name-451e70b1-3e95-4dbe-b700-92317a6edbe4\n"
     ]
    },
    {
     "name": "stdout",
     "output_type": "stream",
     "text": [
      "41\n",
      "max_acc: 0.6700103849794597, max_dpd: 0.07780119383333745, min_acc: 0.5000091902473095, min_dpd: 0.0\n",
      "max dist: 1.077191377258991, acc_dist: 0.9339323871758121, dpd_dist: 0.2264088760653095\n",
      "42\n",
      "max_acc: 0.6700103849794597, max_dpd: 0.07780119383333745, min_acc: 0.5000091902473095, min_dpd: 0.0\n",
      "max dist: 1.077191377258991, acc_dist: 0.9339323871758121, dpd_dist: 0.2264088760653095\n"
     ]
    },
    {
     "name": "stderr",
     "output_type": "stream",
     "text": [
      "[I 2025-05-16 19:27:51,123] Trial 0 finished with values: [0.663578743570656, 0.04162832301306376] and parameters: {'max_depth': 3, 'eta': 0.07285188566742412, 'subsample': 0.7709879600108795, 'colsample_bytree': 0.6089149455624315}.\n",
      "[I 2025-05-16 19:27:51,128] A new study created in memory with name: no-name-2bab878b-c8ad-4b8c-a35e-cfa3b039e6c2\n",
      "[I 2025-05-16 19:27:51,299] Trial 0 finished with values: [0.663580275278541, 0.023273828151252045] and parameters: {'max_depth': 3, 'eta': 0.2056712144130511, 'subsample': 0.8037442398598624, 'colsample_bytree': 0.8736035009326304}.\n",
      "[I 2025-05-16 19:27:51,309] A new study created in memory with name: no-name-f2fb32b5-ccfe-40d4-a407-e9973c8d8bcc\n"
     ]
    },
    {
     "name": "stdout",
     "output_type": "stream",
     "text": [
      "43\n",
      "max_acc: 0.6700103849794597, max_dpd: 0.07780119383333745, min_acc: 0.5000091902473095, min_dpd: 0.0\n",
      "max dist: 1.077191377258991, acc_dist: 0.9339323871758121, dpd_dist: 0.2264088760653095\n",
      "44\n",
      "max_acc: 0.6700103849794597, max_dpd: 0.07780119383333745, min_acc: 0.5000091902473095, min_dpd: 0.0\n",
      "max dist: 1.077191377258991, acc_dist: 0.9339323871758121, dpd_dist: 0.2264088760653095\n"
     ]
    },
    {
     "name": "stderr",
     "output_type": "stream",
     "text": [
      "[I 2025-05-16 19:27:51,553] Trial 0 finished with values: [0.6628649676962808, 0.031098195450443632] and parameters: {'max_depth': 4, 'eta': 0.14024562790333522, 'subsample': 0.7252468461834968, 'colsample_bytree': 0.6525454113980976}.\n",
      "[I 2025-05-16 19:27:51,559] A new study created in memory with name: no-name-1a954ec6-89fb-457f-b639-a9ac4e660fa4\n"
     ]
    },
    {
     "name": "stdout",
     "output_type": "stream",
     "text": [
      "45\n",
      "max_acc: 0.6700103849794597, max_dpd: 0.07780119383333745, min_acc: 0.5000091902473095, min_dpd: 0.0\n",
      "max dist: 1.077191377258991, acc_dist: 0.9339323871758121, dpd_dist: 0.2264088760653095\n"
     ]
    },
    {
     "name": "stderr",
     "output_type": "stream",
     "text": [
      "[I 2025-05-16 19:27:51,969] Trial 0 finished with values: [0.6550042428308412, 0.042760566676103784] and parameters: {'max_depth': 6, 'eta': 0.012619742363348868, 'subsample': 0.9765556576504136, 'colsample_bytree': 0.6468386873549988}.\n",
      "[I 2025-05-16 19:27:51,973] A new study created in memory with name: no-name-2be2c156-603b-4f77-913d-77fe7825c0fb\n"
     ]
    },
    {
     "name": "stdout",
     "output_type": "stream",
     "text": [
      "46\n",
      "max_acc: 0.6700103849794597, max_dpd: 0.07780119383333745, min_acc: 0.5000091902473095, min_dpd: 0.0\n",
      "max dist: 1.077191377258991, acc_dist: 0.9339323871758121, dpd_dist: 0.2264088760653095\n"
     ]
    },
    {
     "name": "stderr",
     "output_type": "stream",
     "text": [
      "[I 2025-05-16 19:27:52,187] Trial 0 finished with values: [0.6607251717810393, 0.048072090282879516] and parameters: {'max_depth': 7, 'eta': 0.209534412262782, 'subsample': 0.9179681953077682, 'colsample_bytree': 0.6948688312984826}.\n",
      "[I 2025-05-16 19:27:52,191] A new study created in memory with name: no-name-509aa5ed-2fbf-49b4-907f-cfac75e8572d\n"
     ]
    },
    {
     "name": "stdout",
     "output_type": "stream",
     "text": [
      "47\n",
      "max_acc: 0.6700103849794597, max_dpd: 0.07780119383333745, min_acc: 0.5000091902473095, min_dpd: 0.0\n",
      "max dist: 1.077191377258991, acc_dist: 0.9339323871758121, dpd_dist: 0.2264088760653095\n"
     ]
    },
    {
     "name": "stderr",
     "output_type": "stream",
     "text": [
      "[I 2025-05-16 19:27:52,413] Trial 0 finished with values: [0.665009358735177, 0.029702717332753054] and parameters: {'max_depth': 7, 'eta': 0.17855073621010234, 'subsample': 0.6074105152063948, 'colsample_bytree': 0.9973282439077569}.\n",
      "[I 2025-05-16 19:27:52,416] A new study created in memory with name: no-name-2ac98228-6f6c-45f4-ac72-d2f51f364ea2\n"
     ]
    },
    {
     "name": "stdout",
     "output_type": "stream",
     "text": [
      "48\n",
      "max_acc: 0.6700103849794597, max_dpd: 0.07780119383333745, min_acc: 0.5000091902473095, min_dpd: 0.0\n",
      "max dist: 1.077191377258991, acc_dist: 0.9339323871758121, dpd_dist: 0.2264088760653095\n"
     ]
    },
    {
     "name": "stderr",
     "output_type": "stream",
     "text": [
      "[I 2025-05-16 19:27:52,699] Trial 0 finished with values: [0.6600129276145488, 0.02305933674238254] and parameters: {'max_depth': 5, 'eta': 0.07218433964389773, 'subsample': 0.6412907579691103, 'colsample_bytree': 0.9928848675116061}.\n",
      "[I 2025-05-16 19:27:52,705] A new study created in memory with name: no-name-5d82fd36-1636-447b-868a-e69108f68811\n"
     ]
    },
    {
     "name": "stdout",
     "output_type": "stream",
     "text": [
      "49\n",
      "max_acc: 0.6700103849794597, max_dpd: 0.07780119383333745, min_acc: 0.5000091902473095, min_dpd: 0.0\n",
      "max dist: 1.077191377258991, acc_dist: 0.9339323871758121, dpd_dist: 0.2264088760653095\n"
     ]
    },
    {
     "name": "stderr",
     "output_type": "stream",
     "text": [
      "[I 2025-05-16 19:27:52,908] Trial 0 finished with values: [0.660008332490894, 0.03512792658565617] and parameters: {'max_depth': 5, 'eta': 0.1940739848809984, 'subsample': 0.8565373536795133, 'colsample_bytree': 0.7192492069174665}.\n",
      "[I 2025-05-16 19:27:52,913] A new study created in memory with name: no-name-a30b5c41-e479-4b22-a3bb-ab157e4f6a19\n",
      "[I 2025-05-16 19:27:53,116] Trial 0 finished with values: [0.6614420110711846, 0.033576408878867904] and parameters: {'max_depth': 7, 'eta': 0.25829157789212975, 'subsample': 0.7631668722690942, 'colsample_bytree': 0.7336119356754758}.\n"
     ]
    },
    {
     "name": "stdout",
     "output_type": "stream",
     "text": [
      "50\n",
      "max_acc: 0.6700103849794597, max_dpd: 0.07780119383333745, min_acc: 0.5000091902473095, min_dpd: 0.0\n",
      "max dist: 1.077191377258991, acc_dist: 0.9339323871758121, dpd_dist: 0.2264088760653095\n"
     ]
    },
    {
     "name": "stderr",
     "output_type": "stream",
     "text": [
      "[I 2025-05-16 19:27:53,120] A new study created in memory with name: no-name-f48a59ad-2f8a-4173-b936-b0e34d4a1ce0\n"
     ]
    },
    {
     "name": "stdout",
     "output_type": "stream",
     "text": [
      "51\n",
      "max_acc: 0.6700103849794597, max_dpd: 0.07780119383333745, min_acc: 0.5000091902473095, min_dpd: 0.0\n",
      "max dist: 1.077191377258991, acc_dist: 0.9339323871758121, dpd_dist: 0.2264088760653095\n"
     ]
    },
    {
     "name": "stderr",
     "output_type": "stream",
     "text": [
      "[I 2025-05-16 19:27:53,341] Trial 0 finished with values: [0.6642955828608015, 0.03727687913677744] and parameters: {'max_depth': 3, 'eta': 0.06255848223350864, 'subsample': 0.6722985722835109, 'colsample_bytree': 0.8516827072905953}.\n",
      "[I 2025-05-16 19:27:53,345] A new study created in memory with name: no-name-73f74dd0-94bf-413d-80e7-e521fbd9540f\n",
      "[I 2025-05-16 19:27:53,515] Trial 0 finished with values: [0.6664384421918127, 0.04024799852461264] and parameters: {'max_depth': 6, 'eta': 0.2199188570048251, 'subsample': 0.7951079926848146, 'colsample_bytree': 0.7989450073409898}.\n",
      "[I 2025-05-16 19:27:53,518] A new study created in memory with name: no-name-916f6933-3d2f-4d68-919f-8a60120eba37\n"
     ]
    },
    {
     "name": "stdout",
     "output_type": "stream",
     "text": [
      "52\n",
      "max_acc: 0.6700103849794597, max_dpd: 0.07780119383333745, min_acc: 0.5000091902473095, min_dpd: 0.0\n",
      "max dist: 1.077191377258991, acc_dist: 0.9339323871758121, dpd_dist: 0.2264088760653095\n",
      "53\n",
      "max_acc: 0.6700103849794597, max_dpd: 0.07780119383333745, min_acc: 0.5000091902473095, min_dpd: 0.0\n",
      "max dist: 1.077191377258991, acc_dist: 0.9339323871758121, dpd_dist: 0.2264088760653095\n"
     ]
    },
    {
     "name": "stderr",
     "output_type": "stream",
     "text": [
      "[I 2025-05-16 19:27:53,688] Trial 0 finished with values: [0.6628695628199356, 0.028617432252329756] and parameters: {'max_depth': 7, 'eta': 0.10443159398770241, 'subsample': 0.9505599279528559, 'colsample_bytree': 0.870236135991455}.\n",
      "[I 2025-05-16 19:27:53,692] A new study created in memory with name: no-name-32538e8b-cd6f-4625-934b-139f5e650a07\n",
      "[I 2025-05-16 19:27:53,872] Trial 0 finished with values: [0.6564409848269017, 0.03940843841001948] and parameters: {'max_depth': 3, 'eta': 0.047029892652021066, 'subsample': 0.7262899433517838, 'colsample_bytree': 0.7267395683963005}.\n",
      "[I 2025-05-16 19:27:53,875] A new study created in memory with name: no-name-83bcd1b4-2306-4bb1-a8a6-1a1171eb4a3a\n"
     ]
    },
    {
     "name": "stdout",
     "output_type": "stream",
     "text": [
      "54\n",
      "max_acc: 0.6700103849794597, max_dpd: 0.07780119383333745, min_acc: 0.5000091902473095, min_dpd: 0.0\n",
      "max dist: 1.077191377258991, acc_dist: 0.9339323871758121, dpd_dist: 0.2264088760653095\n",
      "55\n",
      "max_acc: 0.6700103849794597, max_dpd: 0.07780119383333745, min_acc: 0.5000091902473095, min_dpd: 0.0\n",
      "max dist: 1.077191377258991, acc_dist: 0.9339323871758121, dpd_dist: 0.2264088760653095\n"
     ]
    },
    {
     "name": "stderr",
     "output_type": "stream",
     "text": [
      "[I 2025-05-16 19:27:54,045] Trial 0 finished with values: [0.6600052690751242, 0.02777563752082114] and parameters: {'max_depth': 4, 'eta': 0.19660837064793435, 'subsample': 0.9273218292550258, 'colsample_bytree': 0.9799075825309604}.\n",
      "[I 2025-05-16 19:27:54,051] A new study created in memory with name: no-name-036862e0-4abc-4ebf-8203-f2e38fa6fe72\n",
      "[I 2025-05-16 19:27:54,196] Trial 0 finished with values: [0.6664399738996977, 0.027142795471987818] and parameters: {'max_depth': 4, 'eta': 0.27647597209999925, 'subsample': 0.6175311493170178, 'colsample_bytree': 0.8110762810322996}.\n",
      "[I 2025-05-16 19:27:54,199] A new study created in memory with name: no-name-c78decb1-1098-4472-80f8-368a091396f5\n"
     ]
    },
    {
     "name": "stdout",
     "output_type": "stream",
     "text": [
      "56\n",
      "max_acc: 0.6700103849794597, max_dpd: 0.07780119383333745, min_acc: 0.5000091902473095, min_dpd: 0.0\n",
      "max dist: 1.077191377258991, acc_dist: 0.9339323871758121, dpd_dist: 0.2264088760653095\n",
      "57\n",
      "max_acc: 0.6700103849794597, max_dpd: 0.07780119383333745, min_acc: 0.5000091902473095, min_dpd: 0.0\n",
      "max dist: 1.077191377258991, acc_dist: 0.9339323871758121, dpd_dist: 0.2264088760653095\n"
     ]
    },
    {
     "name": "stderr",
     "output_type": "stream",
     "text": [
      "[I 2025-05-16 19:27:54,379] Trial 0 finished with values: [0.6621603820692149, 0.021463853863744563] and parameters: {'max_depth': 3, 'eta': 0.11938999839352496, 'subsample': 0.8912465676386201, 'colsample_bytree': 0.9487591226040594}.\n",
      "[I 2025-05-16 19:27:54,382] A new study created in memory with name: no-name-906f7d96-91ad-447a-92cb-f105f4e66598\n"
     ]
    },
    {
     "name": "stdout",
     "output_type": "stream",
     "text": [
      "58\n",
      "max_acc: 0.6700103849794597, max_dpd: 0.07780119383333745, min_acc: 0.5000091902473095, min_dpd: 0.0\n",
      "max dist: 1.077191377258991, acc_dist: 0.9339323871758121, dpd_dist: 0.2264088760653095\n"
     ]
    },
    {
     "name": "stderr",
     "output_type": "stream",
     "text": [
      "[I 2025-05-16 19:27:54,593] Trial 0 finished with values: [0.6621511918219053, 0.03149062436776129] and parameters: {'max_depth': 3, 'eta': 0.18251611544139365, 'subsample': 0.8303719201811848, 'colsample_bytree': 0.6821083843339792}.\n",
      "[I 2025-05-16 19:27:54,596] A new study created in memory with name: no-name-687cbe38-89b8-4646-826d-739946a85b17\n",
      "[I 2025-05-16 19:27:54,759] Trial 0 finished with values: [0.6585853758657979, 0.02326679701374058] and parameters: {'max_depth': 3, 'eta': 0.11368261679649354, 'subsample': 0.7543900047945302, 'colsample_bytree': 0.9553253644678915}.\n",
      "[I 2025-05-16 19:27:54,763] A new study created in memory with name: no-name-e96c252a-07dc-47f1-b9ea-63279ce6be7f\n"
     ]
    },
    {
     "name": "stdout",
     "output_type": "stream",
     "text": [
      "59\n",
      "max_acc: 0.6700103849794597, max_dpd: 0.07780119383333745, min_acc: 0.5000091902473095, min_dpd: 0.0\n",
      "max dist: 1.077191377258991, acc_dist: 0.9339323871758121, dpd_dist: 0.2264088760653095\n",
      "60\n",
      "max_acc: 0.6700103849794597, max_dpd: 0.07780119383333745, min_acc: 0.5000091902473095, min_dpd: 0.0\n",
      "max dist: 1.077191377258991, acc_dist: 0.9339323871758121, dpd_dist: 0.2264088760653095\n"
     ]
    },
    {
     "name": "stderr",
     "output_type": "stream",
     "text": [
      "[I 2025-05-16 19:27:54,933] Trial 0 finished with values: [0.6614420110711846, 0.03996748828733526] and parameters: {'max_depth': 5, 'eta': 0.26804446437070234, 'subsample': 0.7768440223325587, 'colsample_bytree': 0.9826416456778452}.\n",
      "[I 2025-05-16 19:27:54,936] A new study created in memory with name: no-name-407d60b7-2576-430f-bcd2-b2569e697e25\n",
      "[I 2025-05-16 19:27:55,095] Trial 0 finished with values: [0.6621527235297903, 0.029206848107437094] and parameters: {'max_depth': 6, 'eta': 0.24795257897021458, 'subsample': 0.8804583954508851, 'colsample_bytree': 0.8762311758971264}.\n",
      "[I 2025-05-16 19:27:55,098] A new study created in memory with name: no-name-990c05d6-812a-44a3-b9f9-74a5a4d233c8\n"
     ]
    },
    {
     "name": "stdout",
     "output_type": "stream",
     "text": [
      "61\n",
      "max_acc: 0.6700103849794597, max_dpd: 0.07780119383333745, min_acc: 0.5000091902473095, min_dpd: 0.0\n",
      "max dist: 1.077191377258991, acc_dist: 0.9339323871758121, dpd_dist: 0.2264088760653095\n",
      "62\n",
      "max_acc: 0.6700103849794597, max_dpd: 0.07780119383333745, min_acc: 0.5000091902473095, min_dpd: 0.0\n",
      "max dist: 1.077191377258991, acc_dist: 0.9339323871758121, dpd_dist: 0.2264088760653095\n"
     ]
    },
    {
     "name": "stderr",
     "output_type": "stream",
     "text": [
      "[I 2025-05-16 19:27:55,303] Trial 0 finished with values: [0.662157318653445, 0.035976728418810666] and parameters: {'max_depth': 5, 'eta': 0.27301840257577104, 'subsample': 0.9272235602328082, 'colsample_bytree': 0.7767344519858717}.\n",
      "[I 2025-05-16 19:27:55,306] A new study created in memory with name: no-name-ff66d8d4-7dc6-43d1-89ed-5a832cfdcb5f\n",
      "[I 2025-05-16 19:27:55,443] Trial 0 finished with values: [0.6628695628199356, 0.024200111943106024] and parameters: {'max_depth': 7, 'eta': 0.20836801881162217, 'subsample': 0.6775262468224649, 'colsample_bytree': 0.8672560411849988}.\n",
      "[I 2025-05-16 19:27:55,446] A new study created in memory with name: no-name-7cd435ce-c16e-4ada-b0ae-1be11e929e0d\n"
     ]
    },
    {
     "name": "stdout",
     "output_type": "stream",
     "text": [
      "63\n",
      "max_acc: 0.6700103849794597, max_dpd: 0.07780119383333745, min_acc: 0.5000091902473095, min_dpd: 0.0\n",
      "max dist: 1.077191377258991, acc_dist: 0.9339323871758121, dpd_dist: 0.2264088760653095\n",
      "64\n",
      "max_acc: 0.6700103849794597, max_dpd: 0.07780119383333745, min_acc: 0.5000091902473095, min_dpd: 0.0\n",
      "max dist: 1.077191377258991, acc_dist: 0.9339323871758121, dpd_dist: 0.2264088760653095\n"
     ]
    },
    {
     "name": "stderr",
     "output_type": "stream",
     "text": [
      "[I 2025-05-16 19:27:55,590] Trial 0 finished with values: [0.6700073215636899, 0.04385989959220754] and parameters: {'max_depth': 4, 'eta': 0.24669844868989255, 'subsample': 0.6064898099191225, 'colsample_bytree': 0.6405691764810505}.\n",
      "[I 2025-05-16 19:27:55,594] A new study created in memory with name: no-name-3904854e-efcd-4a0f-a890-01fdff312910\n",
      "[I 2025-05-16 19:27:55,724] Trial 0 finished with values: [0.6650124221509467, 0.036876471073137594] and parameters: {'max_depth': 3, 'eta': 0.17096219823829245, 'subsample': 0.6886917139123694, 'colsample_bytree': 0.7117813365085628}.\n",
      "[I 2025-05-16 19:27:55,727] A new study created in memory with name: no-name-9951a304-9f6d-41c0-af0d-996f185ef132\n"
     ]
    },
    {
     "name": "stdout",
     "output_type": "stream",
     "text": [
      "65\n",
      "max_acc: 0.6700103849794597, max_dpd: 0.07780119383333745, min_acc: 0.5000091902473095, min_dpd: 0.0\n",
      "max dist: 1.077191377258991, acc_dist: 0.9339323871758121, dpd_dist: 0.2264088760653095\n",
      "66\n",
      "max_acc: 0.6700103849794597, max_dpd: 0.07780119383333745, min_acc: 0.5000091902473095, min_dpd: 0.0\n",
      "max dist: 1.077191377258991, acc_dist: 0.9339323871758121, dpd_dist: 0.2264088760653095\n"
     ]
    },
    {
     "name": "stderr",
     "output_type": "stream",
     "text": [
      "[I 2025-05-16 19:27:55,970] Trial 0 finished with values: [0.6657231346095523, 0.0364786374184814] and parameters: {'max_depth': 5, 'eta': 0.2129403768831248, 'subsample': 0.8137621777629206, 'colsample_bytree': 0.7986912396937432}.\n",
      "[I 2025-05-16 19:27:55,973] A new study created in memory with name: no-name-1aef967d-cc31-4464-aba3-2631fbc0aac0\n",
      "[I 2025-05-16 19:27:56,104] Trial 0 finished with values: [0.6642940511529165, 0.02659763868913273] and parameters: {'max_depth': 4, 'eta': 0.06482906316459289, 'subsample': 0.7929937809873067, 'colsample_bytree': 0.7676666201037046}.\n",
      "[I 2025-05-16 19:27:56,107] A new study created in memory with name: no-name-10cb528f-64fc-41c4-8842-363676a66888\n"
     ]
    },
    {
     "name": "stdout",
     "output_type": "stream",
     "text": [
      "67\n",
      "max_acc: 0.6700103849794597, max_dpd: 0.07780119383333745, min_acc: 0.5000091902473095, min_dpd: 0.0\n",
      "max dist: 1.077191377258991, acc_dist: 0.9339323871758121, dpd_dist: 0.2264088760653095\n",
      "68\n",
      "max_acc: 0.6700103849794597, max_dpd: 0.07780119383333745, min_acc: 0.5000091902473095, min_dpd: 0.0\n",
      "max dist: 1.077191377258991, acc_dist: 0.9339323871758121, dpd_dist: 0.2264088760653095\n"
     ]
    },
    {
     "name": "stderr",
     "output_type": "stream",
     "text": [
      "[I 2025-05-16 19:27:56,234] Trial 0 finished with values: [0.6628695628199356, 0.043253294557397313] and parameters: {'max_depth': 5, 'eta': 0.19473322544772226, 'subsample': 0.6040839100195575, 'colsample_bytree': 0.7482764546934293}.\n",
      "[I 2025-05-16 19:27:56,238] A new study created in memory with name: no-name-78db8b29-f7d7-4c5b-a654-ddccae9b786c\n",
      "[I 2025-05-16 19:27:56,367] Trial 0 finished with values: [0.6628680311120506, 0.02328754304087637] and parameters: {'max_depth': 7, 'eta': 0.15757172001973224, 'subsample': 0.7910317238008687, 'colsample_bytree': 0.9963228652716941}.\n",
      "[I 2025-05-16 19:27:56,370] A new study created in memory with name: no-name-3a2af310-4996-48ae-a46e-5fa52b94ae9c\n"
     ]
    },
    {
     "name": "stdout",
     "output_type": "stream",
     "text": [
      "69\n",
      "max_acc: 0.6700103849794597, max_dpd: 0.07780119383333745, min_acc: 0.5000091902473095, min_dpd: 0.0\n",
      "max dist: 1.077191377258991, acc_dist: 0.9339323871758121, dpd_dist: 0.2264088760653095\n",
      "70\n",
      "max_acc: 0.6700103849794597, max_dpd: 0.07780119383333745, min_acc: 0.5000091902473095, min_dpd: 0.0\n",
      "max dist: 1.077191377258991, acc_dist: 0.9339323871758121, dpd_dist: 0.2264088760653095\n"
     ]
    },
    {
     "name": "stderr",
     "output_type": "stream",
     "text": [
      "[I 2025-05-16 19:27:56,498] Trial 0 finished with values: [0.6607267034889243, 0.02308274135064013] and parameters: {'max_depth': 3, 'eta': 0.21014485490291288, 'subsample': 0.9740358748978913, 'colsample_bytree': 0.8571941878304024}.\n",
      "[I 2025-05-16 19:27:56,501] A new study created in memory with name: no-name-fa6df372-e7ef-4b0b-99c8-7389892cf9d1\n",
      "[I 2025-05-16 19:27:56,638] Trial 0 finished with values: [0.6657231346095523, 0.0350976161903081] and parameters: {'max_depth': 4, 'eta': 0.09541644751316486, 'subsample': 0.6918093159690746, 'colsample_bytree': 0.8297547348800005}.\n",
      "[I 2025-05-16 19:27:56,641] A new study created in memory with name: no-name-787ea534-8b33-416e-b265-055b0c304cdd\n"
     ]
    },
    {
     "name": "stdout",
     "output_type": "stream",
     "text": [
      "71\n",
      "max_acc: 0.6700103849794597, max_dpd: 0.07780119383333745, min_acc: 0.5000091902473095, min_dpd: 0.0\n",
      "max dist: 1.077191377258991, acc_dist: 0.9339323871758121, dpd_dist: 0.2264088760653095\n",
      "72\n",
      "max_acc: 0.6700103849794597, max_dpd: 0.07780119383333745, min_acc: 0.5000091902473095, min_dpd: 0.0\n",
      "max dist: 1.077191377258991, acc_dist: 0.9339323871758121, dpd_dist: 0.2264088760653095\n"
     ]
    },
    {
     "name": "stderr",
     "output_type": "stream",
     "text": [
      "[I 2025-05-16 19:27:56,798] Trial 0 finished with values: [0.6542919986643507, 0.037805575642974924] and parameters: {'max_depth': 4, 'eta': 0.08482828373568603, 'subsample': 0.9462854196380963, 'colsample_bytree': 0.680469178663745}.\n",
      "[I 2025-05-16 19:27:56,802] A new study created in memory with name: no-name-897e607c-7f5a-408e-a0e5-4160fe549354\n",
      "[I 2025-05-16 19:27:56,922] Trial 0 finished with values: [0.6642955828608015, 0.029713557099962096] and parameters: {'max_depth': 3, 'eta': 0.16098693840760903, 'subsample': 0.6564903413302513, 'colsample_bytree': 0.832105151516419}.\n",
      "[I 2025-05-16 19:27:56,926] A new study created in memory with name: no-name-0e9bcd74-d533-420e-9d3f-1700f4a95b52\n"
     ]
    },
    {
     "name": "stdout",
     "output_type": "stream",
     "text": [
      "73\n",
      "max_acc: 0.6700103849794597, max_dpd: 0.07780119383333745, min_acc: 0.5000091902473095, min_dpd: 0.0\n",
      "max dist: 1.077191377258991, acc_dist: 0.9339323871758121, dpd_dist: 0.2264088760653095\n",
      "74\n",
      "max_acc: 0.6700103849794597, max_dpd: 0.07780119383333745, min_acc: 0.5000091902473095, min_dpd: 0.0\n",
      "max dist: 1.077191377258991, acc_dist: 0.9339323871758121, dpd_dist: 0.2264088760653095\n"
     ]
    },
    {
     "name": "stderr",
     "output_type": "stream",
     "text": [
      "[I 2025-05-16 19:27:57,052] Trial 0 finished with values: [0.6685843649385937, 0.03705824676178401] and parameters: {'max_depth': 6, 'eta': 0.17933995139777273, 'subsample': 0.8623676891581862, 'colsample_bytree': 0.7383431470491038}.\n",
      "[I 2025-05-16 19:27:57,056] A new study created in memory with name: no-name-e265ee59-72fc-4a1b-94b4-0ef82c957f86\n",
      "[I 2025-05-16 19:27:57,186] Trial 0 finished with values: [0.6664369104839278, 0.02917395227875169] and parameters: {'max_depth': 5, 'eta': 0.25206444058101163, 'subsample': 0.8377591966580333, 'colsample_bytree': 0.8107537766565914}.\n",
      "[I 2025-05-16 19:27:57,189] A new study created in memory with name: no-name-224e4d8d-144d-4bfa-b834-cf75c66e66e1\n"
     ]
    },
    {
     "name": "stdout",
     "output_type": "stream",
     "text": [
      "75\n",
      "max_acc: 0.6700103849794597, max_dpd: 0.07780119383333745, min_acc: 0.5000091902473095, min_dpd: 0.0\n",
      "max dist: 1.077191377258991, acc_dist: 0.9339323871758121, dpd_dist: 0.2264088760653095\n",
      "76\n",
      "max_acc: 0.6700103849794597, max_dpd: 0.07780119383333745, min_acc: 0.5000091902473095, min_dpd: 0.0\n",
      "max dist: 1.077191377258991, acc_dist: 0.9339323871758121, dpd_dist: 0.2264088760653095\n"
     ]
    },
    {
     "name": "stderr",
     "output_type": "stream",
     "text": [
      "[I 2025-05-16 19:27:57,369] Trial 0 finished with values: [0.663581806986426, 0.02748083331392004] and parameters: {'max_depth': 6, 'eta': 0.02914507972131017, 'subsample': 0.6618508312343572, 'colsample_bytree': 0.8360187347191177}.\n",
      "[I 2025-05-16 19:27:57,372] A new study created in memory with name: no-name-01b8a95e-3f49-453e-a182-6a5a138cafcc\n",
      "[I 2025-05-16 19:27:57,527] Trial 0 finished with values: [0.6557180187052167, 0.04008746440154401] and parameters: {'max_depth': 4, 'eta': 0.13105383469631246, 'subsample': 0.9905065776999671, 'colsample_bytree': 0.6230597554310824}.\n",
      "[I 2025-05-16 19:27:57,531] A new study created in memory with name: no-name-e915845e-2afb-413a-9283-63ae1de93b31\n"
     ]
    },
    {
     "name": "stdout",
     "output_type": "stream",
     "text": [
      "77\n",
      "max_acc: 0.6700103849794597, max_dpd: 0.07780119383333745, min_acc: 0.5000091902473095, min_dpd: 0.0\n",
      "max dist: 1.077191377258991, acc_dist: 0.9339323871758121, dpd_dist: 0.2264088760653095\n",
      "78\n",
      "max_acc: 0.6700103849794597, max_dpd: 0.07780119383333745, min_acc: 0.5000091902473095, min_dpd: 0.0\n",
      "max dist: 1.077191377258991, acc_dist: 0.9339323871758121, dpd_dist: 0.2264088760653095\n"
     ]
    },
    {
     "name": "stderr",
     "output_type": "stream",
     "text": [
      "[I 2025-05-16 19:27:57,686] Trial 0 finished with values: [0.6628710945278204, 0.018498886894445215] and parameters: {'max_depth': 4, 'eta': 0.2047769975940788, 'subsample': 0.6620114429622679, 'colsample_bytree': 0.9637821329925713}.\n",
      "[I 2025-05-16 19:27:57,689] A new study created in memory with name: no-name-1c73890d-660a-439e-963a-3266d1cecb77\n",
      "[I 2025-05-16 19:27:57,809] Trial 0 finished with values: [0.6628710945278204, 0.02423032245172931] and parameters: {'max_depth': 3, 'eta': 0.2761284359884578, 'subsample': 0.9292277585800827, 'colsample_bytree': 0.8557589446384432}.\n",
      "[I 2025-05-16 19:27:57,813] A new study created in memory with name: no-name-864bbe4e-26b2-4806-99da-d62c160fb4c2\n"
     ]
    },
    {
     "name": "stdout",
     "output_type": "stream",
     "text": [
      "79\n",
      "max_acc: 0.6700103849794597, max_dpd: 0.07780119383333745, min_acc: 0.5000091902473095, min_dpd: 0.0\n",
      "max dist: 1.077191377258991, acc_dist: 0.9339323871758121, dpd_dist: 0.2264088760653095\n",
      "80\n",
      "max_acc: 0.6700103849794597, max_dpd: 0.07780119383333745, min_acc: 0.5000091902473095, min_dpd: 0.0\n",
      "max dist: 1.077191377258991, acc_dist: 0.9339323871758121, dpd_dist: 0.2264088760653095\n"
     ]
    },
    {
     "name": "stderr",
     "output_type": "stream",
     "text": [
      "[I 2025-05-16 19:27:58,043] Trial 0 finished with values: [0.6564348579953619, 0.03978438628628342] and parameters: {'max_depth': 3, 'eta': 0.015489041263448102, 'subsample': 0.9533024915241709, 'colsample_bytree': 0.8624796847667169}.\n",
      "[I 2025-05-16 19:27:58,048] A new study created in memory with name: no-name-32ac0158-66bd-4ea5-ab82-48feca210fa7\n",
      "[I 2025-05-16 19:27:58,185] Trial 0 finished with values: [0.6564379214111319, 0.03191131227677419] and parameters: {'max_depth': 3, 'eta': 0.052886092212303434, 'subsample': 0.8551073581126292, 'colsample_bytree': 0.9448579068145682}.\n",
      "[I 2025-05-16 19:27:58,190] A new study created in memory with name: no-name-d7c323c1-60e6-49a3-aa0f-c68deca3c9f8\n"
     ]
    },
    {
     "name": "stdout",
     "output_type": "stream",
     "text": [
      "81\n",
      "max_acc: 0.6700103849794597, max_dpd: 0.07780119383333745, min_acc: 0.5000091902473095, min_dpd: 0.0\n",
      "max dist: 1.077191377258991, acc_dist: 0.9339323871758121, dpd_dist: 0.2264088760653095\n",
      "82\n",
      "max_acc: 0.6700103849794597, max_dpd: 0.07780119383333745, min_acc: 0.5000091902473095, min_dpd: 0.0\n",
      "max dist: 1.077191377258991, acc_dist: 0.9339323871758121, dpd_dist: 0.2264088760653095\n"
     ]
    },
    {
     "name": "stderr",
     "output_type": "stream",
     "text": [
      "[I 2025-05-16 19:27:58,454] Trial 0 finished with values: [0.6621496601140203, 0.03124882726178722] and parameters: {'max_depth': 7, 'eta': 0.04506795808458829, 'subsample': 0.7878543709719301, 'colsample_bytree': 0.7917951085644167}.\n",
      "[I 2025-05-16 19:27:58,457] A new study created in memory with name: no-name-48e61a61-a729-48d8-94c5-95f910ebc736\n",
      "[I 2025-05-16 19:27:58,594] Trial 0 finished with values: [0.6642955828608015, 0.03700654665969857] and parameters: {'max_depth': 5, 'eta': 0.1271323531425343, 'subsample': 0.7909189124921493, 'colsample_bytree': 0.7878649493064154}.\n",
      "[I 2025-05-16 19:27:58,599] A new study created in memory with name: no-name-6e87e9bb-e308-4520-80f6-2e1aee1b2a79\n"
     ]
    },
    {
     "name": "stdout",
     "output_type": "stream",
     "text": [
      "83\n",
      "max_acc: 0.6700103849794597, max_dpd: 0.07780119383333745, min_acc: 0.5000091902473095, min_dpd: 0.0\n",
      "max dist: 1.077191377258991, acc_dist: 0.9339323871758121, dpd_dist: 0.2264088760653095\n",
      "84\n",
      "max_acc: 0.6700103849794597, max_dpd: 0.07780119383333745, min_acc: 0.5000091902473095, min_dpd: 0.0\n",
      "max dist: 1.077191377258991, acc_dist: 0.9339323871758121, dpd_dist: 0.2264088760653095\n"
     ]
    },
    {
     "name": "stderr",
     "output_type": "stream",
     "text": [
      "[I 2025-05-16 19:27:58,731] Trial 0 finished with values: [0.6671522180661883, 0.036826214850729115] and parameters: {'max_depth': 5, 'eta': 0.24152465711376142, 'subsample': 0.6681506197176516, 'colsample_bytree': 0.627965868932213}.\n",
      "[I 2025-05-16 19:27:58,734] A new study created in memory with name: no-name-3f23ef72-270f-4bea-9a43-e9066234c6c0\n",
      "[I 2025-05-16 19:27:58,849] Trial 0 finished with values: [0.6628741579435903, 0.028208655903324203] and parameters: {'max_depth': 7, 'eta': 0.2755663655479971, 'subsample': 0.6433110495986755, 'colsample_bytree': 0.8358615150959805}.\n",
      "[I 2025-05-16 19:27:58,852] A new study created in memory with name: no-name-0a0ac1f7-19db-44e1-8e62-91d899a486be\n"
     ]
    },
    {
     "name": "stdout",
     "output_type": "stream",
     "text": [
      "85\n",
      "max_acc: 0.6700103849794597, max_dpd: 0.07780119383333745, min_acc: 0.5000091902473095, min_dpd: 0.0\n",
      "max dist: 1.077191377258991, acc_dist: 0.9339323871758121, dpd_dist: 0.2264088760653095\n",
      "86\n",
      "max_acc: 0.6700103849794597, max_dpd: 0.07780119383333745, min_acc: 0.5000091902473095, min_dpd: 0.0\n",
      "max dist: 1.077191377258991, acc_dist: 0.9339323871758121, dpd_dist: 0.2264088760653095\n"
     ]
    },
    {
     "name": "stderr",
     "output_type": "stream",
     "text": [
      "[I 2025-05-16 19:27:58,959] Trial 0 finished with values: [0.6678644622326787, 0.03266043793767583] and parameters: {'max_depth': 3, 'eta': 0.28701091234341725, 'subsample': 0.6214211887380707, 'colsample_bytree': 0.6556728513185686}.\n",
      "[I 2025-05-16 19:27:58,964] A new study created in memory with name: no-name-680aa313-7c3e-4a63-b9e4-093d3333d1ce\n",
      "[I 2025-05-16 19:27:59,105] Trial 0 finished with values: [0.6664369104839278, 0.03502167956444372] and parameters: {'max_depth': 4, 'eta': 0.07781325887109405, 'subsample': 0.6763042520876831, 'colsample_bytree': 0.8327179767066477}.\n",
      "[I 2025-05-16 19:27:59,108] A new study created in memory with name: no-name-ee676472-429b-4a64-af98-e83294e474ec\n"
     ]
    },
    {
     "name": "stdout",
     "output_type": "stream",
     "text": [
      "87\n",
      "max_acc: 0.6700103849794597, max_dpd: 0.07780119383333745, min_acc: 0.5000091902473095, min_dpd: 0.0\n",
      "max dist: 1.077191377258991, acc_dist: 0.9339323871758121, dpd_dist: 0.2264088760653095\n",
      "88\n",
      "max_acc: 0.6700103849794597, max_dpd: 0.07780119383333745, min_acc: 0.5000091902473095, min_dpd: 0.0\n",
      "max dist: 1.077191377258991, acc_dist: 0.9339323871758121, dpd_dist: 0.2264088760653095\n"
     ]
    },
    {
     "name": "stderr",
     "output_type": "stream",
     "text": [
      "[I 2025-05-16 19:27:59,224] Trial 0 finished with values: [0.665009358735177, 0.03397068136823269] and parameters: {'max_depth': 3, 'eta': 0.1279976019741386, 'subsample': 0.718504554849869, 'colsample_bytree': 0.8765366282399019}.\n",
      "[I 2025-05-16 19:27:59,228] A new study created in memory with name: no-name-13add9d8-ece5-4375-a9c2-7e5a187e57a1\n",
      "[I 2025-05-16 19:27:59,366] Trial 0 finished with values: [0.663581806986426, 0.024128445720591068] and parameters: {'max_depth': 5, 'eta': 0.05524822150912787, 'subsample': 0.8110520139264266, 'colsample_bytree': 0.7564941382464176}.\n",
      "[I 2025-05-16 19:27:59,369] A new study created in memory with name: no-name-84ec49e0-7389-459f-9c3d-ecb4f4bb29a1\n"
     ]
    },
    {
     "name": "stdout",
     "output_type": "stream",
     "text": [
      "89\n",
      "max_acc: 0.6700103849794597, max_dpd: 0.07780119383333745, min_acc: 0.5000091902473095, min_dpd: 0.0\n",
      "max dist: 1.077191377258991, acc_dist: 0.9339323871758121, dpd_dist: 0.2264088760653095\n",
      "90\n",
      "max_acc: 0.6700103849794597, max_dpd: 0.07780119383333745, min_acc: 0.5000091902473095, min_dpd: 0.0\n",
      "max dist: 1.077191377258991, acc_dist: 0.9339323871758121, dpd_dist: 0.2264088760653095\n"
     ]
    },
    {
     "name": "stderr",
     "output_type": "stream",
     "text": [
      "[I 2025-05-16 19:27:59,515] Trial 0 finished with values: [0.6578624097441129, 0.04546607900409925] and parameters: {'max_depth': 3, 'eta': 0.16432369065363941, 'subsample': 0.9849484924561617, 'colsample_bytree': 0.6400926547744202}.\n",
      "[I 2025-05-16 19:27:59,520] A new study created in memory with name: no-name-2fc8a04e-598d-48be-b47a-e88bcce60c19\n"
     ]
    },
    {
     "name": "stdout",
     "output_type": "stream",
     "text": [
      "91\n",
      "max_acc: 0.6700103849794597, max_dpd: 0.07780119383333745, min_acc: 0.5000091902473095, min_dpd: 0.0\n",
      "max dist: 1.077191377258991, acc_dist: 0.9339323871758121, dpd_dist: 0.2264088760653095\n"
     ]
    },
    {
     "name": "stderr",
     "output_type": "stream",
     "text": [
      "[I 2025-05-16 19:27:59,810] Trial 0 finished with values: [0.6585792490342582, 0.02218936478639859] and parameters: {'max_depth': 7, 'eta': 0.013210356104636518, 'subsample': 0.7931113839017628, 'colsample_bytree': 0.8064904061692124}.\n",
      "[I 2025-05-16 19:27:59,816] A new study created in memory with name: no-name-af536815-db40-45ee-8b36-a4bfb5f2913e\n",
      "[I 2025-05-16 19:27:59,986] Trial 0 finished with values: [0.6671506863583033, 0.02429312646302148] and parameters: {'max_depth': 7, 'eta': 0.1443349574091297, 'subsample': 0.8152471457078835, 'colsample_bytree': 0.8304856048147656}.\n",
      "[I 2025-05-16 19:27:59,990] A new study created in memory with name: no-name-bac1f751-1f16-4910-aa7d-1c68022bcaa0\n"
     ]
    },
    {
     "name": "stdout",
     "output_type": "stream",
     "text": [
      "92\n",
      "max_acc: 0.6700103849794597, max_dpd: 0.07780119383333745, min_acc: 0.5000091902473095, min_dpd: 0.0\n",
      "max dist: 1.077191377258991, acc_dist: 0.9339323871758121, dpd_dist: 0.2264088760653095\n",
      "93\n",
      "max_acc: 0.6700103849794597, max_dpd: 0.07780119383333745, min_acc: 0.5000091902473095, min_dpd: 0.0\n",
      "max dist: 1.077191377258991, acc_dist: 0.9339323871758121, dpd_dist: 0.2264088760653095\n"
     ]
    },
    {
     "name": "stderr",
     "output_type": "stream",
     "text": [
      "[I 2025-05-16 19:28:00,214] Trial 0 finished with values: [0.6607251717810393, 0.023048472710452784] and parameters: {'max_depth': 4, 'eta': 0.027436928035197962, 'subsample': 0.801807957449202, 'colsample_bytree': 0.8581405853427366}.\n",
      "[I 2025-05-16 19:28:00,218] A new study created in memory with name: no-name-56c28adb-5acb-40e8-9ac6-125ffe024f2f\n",
      "[I 2025-05-16 19:28:00,393] Trial 0 finished with values: [0.6585761856184883, 0.027404130562044743] and parameters: {'max_depth': 4, 'eta': 0.05773161246011094, 'subsample': 0.9380993623532461, 'colsample_bytree': 0.9318820230735165}.\n",
      "[I 2025-05-16 19:28:00,399] A new study created in memory with name: no-name-4a9168bf-2f2c-4995-b3e8-c38ff1b6ca0e\n"
     ]
    },
    {
     "name": "stdout",
     "output_type": "stream",
     "text": [
      "94\n",
      "max_acc: 0.6700103849794597, max_dpd: 0.07780119383333745, min_acc: 0.5000091902473095, min_dpd: 0.0\n",
      "max dist: 1.077191377258991, acc_dist: 0.9339323871758121, dpd_dist: 0.2264088760653095\n",
      "95\n",
      "max_acc: 0.6700103849794597, max_dpd: 0.07780119383333745, min_acc: 0.5000091902473095, min_dpd: 0.0\n",
      "max dist: 1.077191377258991, acc_dist: 0.9339323871758121, dpd_dist: 0.2264088760653095\n"
     ]
    },
    {
     "name": "stderr",
     "output_type": "stream",
     "text": [
      "[I 2025-05-16 19:28:00,622] Trial 0 finished with values: [0.6600098641987789, 0.028782421066465825] and parameters: {'max_depth': 6, 'eta': 0.028886794317645757, 'subsample': 0.7946465583013542, 'colsample_bytree': 0.9024409780982802}.\n",
      "[I 2025-05-16 19:28:00,625] A new study created in memory with name: no-name-dd38ea30-9ff6-4b5d-b6c0-afc3fa2d202c\n",
      "[I 2025-05-16 19:28:00,801] Trial 0 finished with values: [0.6642971145686865, 0.05502386969231376] and parameters: {'max_depth': 4, 'eta': 0.18678084552723023, 'subsample': 0.6087490349324902, 'colsample_bytree': 0.613540427068882}.\n",
      "[I 2025-05-16 19:28:00,804] A new study created in memory with name: no-name-ed32b220-e806-4a19-b3c0-1e377842e3d5\n"
     ]
    },
    {
     "name": "stdout",
     "output_type": "stream",
     "text": [
      "96\n",
      "max_acc: 0.6700103849794597, max_dpd: 0.07780119383333745, min_acc: 0.5000091902473095, min_dpd: 0.0\n",
      "max dist: 1.077191377258991, acc_dist: 0.9339323871758121, dpd_dist: 0.2264088760653095\n",
      "97\n",
      "max_acc: 0.6700103849794597, max_dpd: 0.07780119383333745, min_acc: 0.5000091902473095, min_dpd: 0.0\n",
      "max dist: 1.077191377258991, acc_dist: 0.9339323871758121, dpd_dist: 0.2264088760653095\n"
     ]
    },
    {
     "name": "stderr",
     "output_type": "stream",
     "text": [
      "[I 2025-05-16 19:28:00,976] Trial 0 finished with values: [0.6607205766573846, 0.03019262529354726] and parameters: {'max_depth': 3, 'eta': 0.08939798599338751, 'subsample': 0.7683328939092584, 'colsample_bytree': 0.6396307437724131}.\n",
      "[I 2025-05-16 19:28:00,983] A new study created in memory with name: no-name-b2f8d97f-776e-4271-9b78-6bc285352d63\n",
      "[I 2025-05-16 19:28:01,138] Trial 0 finished with values: [0.6578685365756526, 0.025199673687251335] and parameters: {'max_depth': 3, 'eta': 0.13657146518368313, 'subsample': 0.9281624510166466, 'colsample_bytree': 0.9773886988682803}.\n",
      "[I 2025-05-16 19:28:01,141] A new study created in memory with name: no-name-d5a63f63-f39b-4d03-abd6-ff73bfa1f257\n"
     ]
    },
    {
     "name": "stdout",
     "output_type": "stream",
     "text": [
      "98\n",
      "max_acc: 0.6700103849794597, max_dpd: 0.07780119383333745, min_acc: 0.5000091902473095, min_dpd: 0.0\n",
      "max dist: 1.077191377258991, acc_dist: 0.9339323871758121, dpd_dist: 0.2264088760653095\n",
      "99\n",
      "max_acc: 0.6700103849794597, max_dpd: 0.07780119383333745, min_acc: 0.5000091902473095, min_dpd: 0.0\n",
      "max dist: 1.077191377258991, acc_dist: 0.9339323871758121, dpd_dist: 0.2264088760653095\n"
     ]
    },
    {
     "name": "stderr",
     "output_type": "stream",
     "text": [
      "[I 2025-05-16 19:28:01,327] Trial 0 finished with values: [0.6607251717810393, 0.02800593151719623] and parameters: {'max_depth': 4, 'eta': 0.08342879557451903, 'subsample': 0.7421028001142341, 'colsample_bytree': 0.6416666069928944}.\n",
      "[I 2025-05-16 19:28:01,334] A new study created in memory with name: no-name-abf0b7e7-80d6-4236-97dc-517d7795cde8\n",
      "[I 2025-05-16 19:28:01,504] Trial 0 finished with values: [0.6657231346095523, 0.03285717739994156] and parameters: {'max_depth': 4, 'eta': 0.07803097531527461, 'subsample': 0.6137024758399677, 'colsample_bytree': 0.8453501039380072}.\n",
      "[I 2025-05-16 19:28:01,507] A new study created in memory with name: no-name-4a1f6244-09a8-4b4a-9cc7-d44f22a77fe7\n"
     ]
    },
    {
     "name": "stdout",
     "output_type": "stream",
     "text": [
      "100\n",
      "max_acc: 0.6700103849794597, max_dpd: 0.07780119383333745, min_acc: 0.5000091902473095, min_dpd: 0.0\n",
      "max dist: 1.077191377258991, acc_dist: 0.9339323871758121, dpd_dist: 0.2264088760653095\n",
      "101\n",
      "max_acc: 0.6700103849794597, max_dpd: 0.07780119383333745, min_acc: 0.5000091902473095, min_dpd: 0.0\n",
      "max dist: 1.077191377258991, acc_dist: 0.9339323871758121, dpd_dist: 0.2264088760653095\n"
     ]
    },
    {
     "name": "stderr",
     "output_type": "stream",
     "text": [
      "[I 2025-05-16 19:28:01,666] Trial 0 finished with values: [0.6628664994041656, 0.046299179466935736] and parameters: {'max_depth': 7, 'eta': 0.2363994806129742, 'subsample': 0.9995396220825158, 'colsample_bytree': 0.702928137403317}.\n",
      "[I 2025-05-16 19:28:01,672] A new study created in memory with name: no-name-0f51bf63-60ef-4240-93c7-f19cbd61c088\n",
      "[I 2025-05-16 19:28:01,824] Trial 0 finished with values: [0.6621511918219053, 0.040996193418539245] and parameters: {'max_depth': 4, 'eta': 0.23956426819165635, 'subsample': 0.9835476210974243, 'colsample_bytree': 0.7954210208633107}.\n",
      "[I 2025-05-16 19:28:01,827] A new study created in memory with name: no-name-bde0e826-750f-40bf-b0d5-9a18bce0113d\n"
     ]
    },
    {
     "name": "stdout",
     "output_type": "stream",
     "text": [
      "102\n",
      "max_acc: 0.6700103849794597, max_dpd: 0.07780119383333745, min_acc: 0.5000091902473095, min_dpd: 0.0\n",
      "max dist: 1.077191377258991, acc_dist: 0.9339323871758121, dpd_dist: 0.2264088760653095\n",
      "103\n",
      "max_acc: 0.6700103849794597, max_dpd: 0.07780119383333745, min_acc: 0.5000091902473095, min_dpd: 0.0\n",
      "max dist: 1.077191377258991, acc_dist: 0.9339323871758121, dpd_dist: 0.2264088760653095\n"
     ]
    },
    {
     "name": "stderr",
     "output_type": "stream",
     "text": [
      "[I 2025-05-16 19:28:02,056] Trial 0 finished with values: [0.6628680311120506, 0.02385903939252042] and parameters: {'max_depth': 7, 'eta': 0.026212565735497385, 'subsample': 0.8108606888724671, 'colsample_bytree': 0.822519028670695}.\n",
      "[I 2025-05-16 19:28:02,060] A new study created in memory with name: no-name-c1920c39-21e3-4d66-a18b-45ba268a253e\n",
      "[I 2025-05-16 19:28:02,233] Trial 0 finished with values: [0.6614374159475299, 0.038300589055506706] and parameters: {'max_depth': 5, 'eta': 0.17003906926935722, 'subsample': 0.9390624814515536, 'colsample_bytree': 0.7286657890026431}.\n",
      "[I 2025-05-16 19:28:02,240] A new study created in memory with name: no-name-15607df5-30d6-4507-8a0c-9b65d488f51d\n"
     ]
    },
    {
     "name": "stdout",
     "output_type": "stream",
     "text": [
      "104\n",
      "max_acc: 0.6700103849794597, max_dpd: 0.07780119383333745, min_acc: 0.5000091902473095, min_dpd: 0.0\n",
      "max dist: 1.077191377258991, acc_dist: 0.9339323871758121, dpd_dist: 0.2264088760653095\n",
      "105\n",
      "max_acc: 0.6700103849794597, max_dpd: 0.07780119383333745, min_acc: 0.5000091902473095, min_dpd: 0.0\n",
      "max dist: 1.077191377258991, acc_dist: 0.9339323871758121, dpd_dist: 0.2264088760653095\n"
     ]
    },
    {
     "name": "stderr",
     "output_type": "stream",
     "text": [
      "[I 2025-05-16 19:28:02,524] Trial 0 finished with values: [0.6621511918219053, 0.03099363339924327] and parameters: {'max_depth': 7, 'eta': 0.1246171765758702, 'subsample': 0.8778585287671703, 'colsample_bytree': 0.7287312053313575}.\n",
      "[I 2025-05-16 19:28:02,530] A new study created in memory with name: no-name-1bffc6a4-aefe-4c8e-8c0c-ca99973a367b\n",
      "[I 2025-05-16 19:28:02,676] Trial 0 finished with values: [0.6578715999914224, 0.034140973841122496] and parameters: {'max_depth': 5, 'eta': 0.12445885154819768, 'subsample': 0.6858288943166864, 'colsample_bytree': 0.9374474773194068}.\n",
      "[I 2025-05-16 19:28:02,684] A new study created in memory with name: no-name-5e4c64b8-1983-4252-bd3f-beeb8cd4176c\n"
     ]
    },
    {
     "name": "stdout",
     "output_type": "stream",
     "text": [
      "106\n",
      "max_acc: 0.6700103849794597, max_dpd: 0.07780119383333745, min_acc: 0.5000091902473095, min_dpd: 0.0\n",
      "max dist: 1.077191377258991, acc_dist: 0.9339323871758121, dpd_dist: 0.2264088760653095\n",
      "107\n",
      "max_acc: 0.6700103849794597, max_dpd: 0.07780119383333745, min_acc: 0.5000091902473095, min_dpd: 0.0\n",
      "max dist: 1.077191377258991, acc_dist: 0.9339323871758121, dpd_dist: 0.2264088760653095\n"
     ]
    },
    {
     "name": "stderr",
     "output_type": "stream",
     "text": [
      "[I 2025-05-16 19:28:02,886] Trial 0 finished with values: [0.6592930249086336, 0.04046509122000886] and parameters: {'max_depth': 6, 'eta': 0.245352850721136, 'subsample': 0.9844096134365252, 'colsample_bytree': 0.7183526872539054}.\n",
      "[I 2025-05-16 19:28:02,891] A new study created in memory with name: no-name-ff421ff9-a258-47fa-8f38-506622ac78ef\n",
      "[I 2025-05-16 19:28:03,078] Trial 0 finished with values: [0.6614389476554148, 0.04722884123577193] and parameters: {'max_depth': 5, 'eta': 0.2146511390761761, 'subsample': 0.6217993846333246, 'colsample_bytree': 0.7718178333257234}.\n",
      "[I 2025-05-16 19:28:03,083] A new study created in memory with name: no-name-35d7dd05-3ffa-4695-99d1-646c715be32c\n"
     ]
    },
    {
     "name": "stdout",
     "output_type": "stream",
     "text": [
      "108\n",
      "max_acc: 0.6700103849794597, max_dpd: 0.07780119383333745, min_acc: 0.5000091902473095, min_dpd: 0.0\n",
      "max dist: 1.077191377258991, acc_dist: 0.9339323871758121, dpd_dist: 0.2264088760653095\n",
      "109\n",
      "max_acc: 0.6700103849794597, max_dpd: 0.07780119383333745, min_acc: 0.5000091902473095, min_dpd: 0.0\n",
      "max dist: 1.077191377258991, acc_dist: 0.9339323871758121, dpd_dist: 0.2264088760653095\n"
     ]
    },
    {
     "name": "stderr",
     "output_type": "stream",
     "text": [
      "[I 2025-05-16 19:28:03,251] Trial 0 finished with values: [0.6571578241170469, 0.03416836922500032] and parameters: {'max_depth': 3, 'eta': 0.13255623362764365, 'subsample': 0.7081749333400685, 'colsample_bytree': 0.9610483908144731}.\n",
      "[I 2025-05-16 19:28:03,257] A new study created in memory with name: no-name-f6a6a561-c354-41c4-badc-c3c380988022\n",
      "[I 2025-05-16 19:28:03,411] Trial 0 finished with values: [0.6642971145686863, 0.029275062509305717] and parameters: {'max_depth': 4, 'eta': 0.16328135676454425, 'subsample': 0.6937390418395366, 'colsample_bytree': 0.7097443817752377}.\n",
      "[I 2025-05-16 19:28:03,415] A new study created in memory with name: no-name-abb26301-b2c8-4484-911f-62cc0c4b7f72\n"
     ]
    },
    {
     "name": "stdout",
     "output_type": "stream",
     "text": [
      "110\n",
      "max_acc: 0.6700103849794597, max_dpd: 0.07780119383333745, min_acc: 0.5000091902473095, min_dpd: 0.0\n",
      "max dist: 1.077191377258991, acc_dist: 0.9339323871758121, dpd_dist: 0.2264088760653095\n",
      "111\n",
      "max_acc: 0.6700103849794597, max_dpd: 0.07780119383333745, min_acc: 0.5000091902473095, min_dpd: 0.0\n",
      "max dist: 1.077191377258991, acc_dist: 0.9339323871758121, dpd_dist: 0.2264088760653095\n"
     ]
    },
    {
     "name": "stderr",
     "output_type": "stream",
     "text": [
      "[I 2025-05-16 19:28:03,565] Trial 0 finished with values: [0.6600144593224337, 0.034504123585038425] and parameters: {'max_depth': 4, 'eta': 0.06955509149213435, 'subsample': 0.6137632220754045, 'colsample_bytree': 0.6325423739821994}.\n",
      "[I 2025-05-16 19:28:03,571] A new study created in memory with name: no-name-b82b1dd6-1c8a-4a02-9a91-4a9934f9f73d\n"
     ]
    },
    {
     "name": "stdout",
     "output_type": "stream",
     "text": [
      "112\n",
      "max_acc: 0.6700103849794597, max_dpd: 0.07780119383333745, min_acc: 0.5000091902473095, min_dpd: 0.0\n",
      "max dist: 1.077191377258991, acc_dist: 0.9339323871758121, dpd_dist: 0.2264088760653095\n"
     ]
    },
    {
     "name": "stderr",
     "output_type": "stream",
     "text": [
      "[I 2025-05-16 19:28:03,868] Trial 0 finished with values: [0.6628649676962807, 0.029750857315936036] and parameters: {'max_depth': 4, 'eta': 0.1899147153080467, 'subsample': 0.8599186624927332, 'colsample_bytree': 0.6460265391996689}.\n",
      "[I 2025-05-16 19:28:03,872] A new study created in memory with name: no-name-2b0f3efe-1a14-4793-a885-3bd2bc20f11f\n"
     ]
    },
    {
     "name": "stdout",
     "output_type": "stream",
     "text": [
      "113\n",
      "max_acc: 0.6700103849794597, max_dpd: 0.07780119383333745, min_acc: 0.5000091902473095, min_dpd: 0.0\n",
      "max dist: 1.077191377258991, acc_dist: 0.9339323871758121, dpd_dist: 0.2264088760653095\n"
     ]
    },
    {
     "name": "stderr",
     "output_type": "stream",
     "text": [
      "[I 2025-05-16 19:28:04,089] Trial 0 finished with values: [0.663578743570656, 0.033641162002169885] and parameters: {'max_depth': 3, 'eta': 0.2092668798802024, 'subsample': 0.8250285685440201, 'colsample_bytree': 0.6492452696015617}.\n",
      "[I 2025-05-16 19:28:04,095] A new study created in memory with name: no-name-51f9f4ec-8dc0-4664-8339-7091d262b9c4\n",
      "[I 2025-05-16 19:28:04,295] Trial 0 finished with values: [0.663583338694311, 0.04180811392605265] and parameters: {'max_depth': 4, 'eta': 0.29537838082162216, 'subsample': 0.6891044008681037, 'colsample_bytree': 0.793243070594702}.\n"
     ]
    },
    {
     "name": "stdout",
     "output_type": "stream",
     "text": [
      "114\n",
      "max_acc: 0.6700103849794597, max_dpd: 0.07780119383333745, min_acc: 0.5000091902473095, min_dpd: 0.0\n",
      "max dist: 1.077191377258991, acc_dist: 0.9339323871758121, dpd_dist: 0.2264088760653095\n"
     ]
    },
    {
     "name": "stderr",
     "output_type": "stream",
     "text": [
      "[I 2025-05-16 19:28:04,300] A new study created in memory with name: no-name-397d0a00-dc33-42fb-8709-ac839a73e383\n",
      "[I 2025-05-16 19:28:04,469] Trial 0 finished with values: [0.6607282351968092, 0.036774286270293687] and parameters: {'max_depth': 7, 'eta': 0.2361734281703926, 'subsample': 0.6384290800738975, 'colsample_bytree': 0.767285109560519}.\n",
      "[I 2025-05-16 19:28:04,472] A new study created in memory with name: no-name-219b9dd5-8822-4a4a-ae63-dd4a286fa191\n"
     ]
    },
    {
     "name": "stdout",
     "output_type": "stream",
     "text": [
      "115\n",
      "max_acc: 0.6700103849794597, max_dpd: 0.07780119383333745, min_acc: 0.5000091902473095, min_dpd: 0.0\n",
      "max dist: 1.077191377258991, acc_dist: 0.9339323871758121, dpd_dist: 0.2264088760653095\n",
      "116\n",
      "max_acc: 0.6700103849794597, max_dpd: 0.07780119383333745, min_acc: 0.5000091902473095, min_dpd: 0.0\n",
      "max dist: 1.077191377258991, acc_dist: 0.9339323871758121, dpd_dist: 0.2264088760653095\n"
     ]
    },
    {
     "name": "stderr",
     "output_type": "stream",
     "text": [
      "[I 2025-05-16 19:28:04,639] Trial 0 finished with values: [0.6585777173263733, 0.037185539754380464] and parameters: {'max_depth': 6, 'eta': 0.12396317169815237, 'subsample': 0.9616965633482648, 'colsample_bytree': 0.69765683184237}.\n",
      "[I 2025-05-16 19:28:04,645] A new study created in memory with name: no-name-23fede8c-9bbb-4510-8c8a-7142b0223720\n"
     ]
    },
    {
     "name": "stdout",
     "output_type": "stream",
     "text": [
      "117\n",
      "max_acc: 0.6700103849794597, max_dpd: 0.07780119383333745, min_acc: 0.5000091902473095, min_dpd: 0.0\n",
      "max dist: 1.077191377258991, acc_dist: 0.9339323871758121, dpd_dist: 0.2264088760653095\n"
     ]
    },
    {
     "name": "stderr",
     "output_type": "stream",
     "text": [
      "[I 2025-05-16 19:28:04,884] Trial 0 finished with values: [0.6621450649903656, 0.029376456713513882] and parameters: {'max_depth': 5, 'eta': 0.02118197886920222, 'subsample': 0.8594167474533476, 'colsample_bytree': 0.6220984606699523}.\n",
      "[I 2025-05-16 19:28:04,888] A new study created in memory with name: no-name-e970762e-dad3-4d27-8145-bcab1b839e3d\n"
     ]
    },
    {
     "name": "stdout",
     "output_type": "stream",
     "text": [
      "118\n",
      "max_acc: 0.6700103849794597, max_dpd: 0.07780119383333745, min_acc: 0.5000091902473095, min_dpd: 0.0\n",
      "max dist: 1.077191377258991, acc_dist: 0.9339323871758121, dpd_dist: 0.2264088760653095\n"
     ]
    },
    {
     "name": "stderr",
     "output_type": "stream",
     "text": [
      "[I 2025-05-16 19:28:05,114] Trial 0 finished with values: [0.665009358735177, 0.029109371676782885] and parameters: {'max_depth': 6, 'eta': 0.019742733399336798, 'subsample': 0.741694784475043, 'colsample_bytree': 0.7955668387701434}.\n",
      "[I 2025-05-16 19:28:05,117] A new study created in memory with name: no-name-e9f12cdf-fe55-49f5-8c4e-bd8b66dc4258\n",
      "[I 2025-05-16 19:28:05,271] Trial 0 finished with values: [0.6557302723682961, 0.018703470705809706] and parameters: {'max_depth': 5, 'eta': 0.03245610784978972, 'subsample': 0.6292736737549101, 'colsample_bytree': 0.9407911707719974}.\n",
      "[I 2025-05-16 19:28:05,274] A new study created in memory with name: no-name-3186c11e-1730-4cdd-8ffc-926d23dee90b\n"
     ]
    },
    {
     "name": "stdout",
     "output_type": "stream",
     "text": [
      "119\n",
      "max_acc: 0.6700103849794597, max_dpd: 0.07780119383333745, min_acc: 0.5000091902473095, min_dpd: 0.0\n",
      "max dist: 1.077191377258991, acc_dist: 0.9339323871758121, dpd_dist: 0.2264088760653095\n",
      "120\n",
      "max_acc: 0.6700103849794597, max_dpd: 0.07780119383333745, min_acc: 0.5000091902473095, min_dpd: 0.0\n",
      "max dist: 1.077191377258991, acc_dist: 0.9339323871758121, dpd_dist: 0.2264088760653095\n"
     ]
    },
    {
     "name": "stderr",
     "output_type": "stream",
     "text": [
      "[I 2025-05-16 19:28:05,465] Trial 0 finished with values: [0.6643001779844563, 0.02338473961494626] and parameters: {'max_depth': 7, 'eta': 0.025518231099524495, 'subsample': 0.842065167125728, 'colsample_bytree': 0.812914423808608}.\n",
      "[I 2025-05-16 19:28:05,470] A new study created in memory with name: no-name-90750cc4-ffcc-43c8-8f73-15c3924b4cd3\n",
      "[I 2025-05-16 19:28:05,593] Trial 0 finished with values: [0.6592991517401733, 0.026738298887798356] and parameters: {'max_depth': 3, 'eta': 0.11172530803759333, 'subsample': 0.7915053190193035, 'colsample_bytree': 0.9433814272917244}.\n",
      "[I 2025-05-16 19:28:05,596] A new study created in memory with name: no-name-5fd1cb5e-5323-4ec2-99f5-05c932f86103\n"
     ]
    },
    {
     "name": "stdout",
     "output_type": "stream",
     "text": [
      "121\n",
      "max_acc: 0.6700103849794597, max_dpd: 0.07780119383333745, min_acc: 0.5000091902473095, min_dpd: 0.0\n",
      "max dist: 1.077191377258991, acc_dist: 0.9339323871758121, dpd_dist: 0.2264088760653095\n",
      "122\n",
      "max_acc: 0.6700103849794597, max_dpd: 0.07780119383333745, min_acc: 0.5000091902473095, min_dpd: 0.0\n",
      "max dist: 1.077191377258991, acc_dist: 0.9339323871758121, dpd_dist: 0.2264088760653095\n"
     ]
    },
    {
     "name": "stderr",
     "output_type": "stream",
     "text": [
      "[I 2025-05-16 19:28:05,734] Trial 0 finished with values: [0.665009358735177, 0.023845514305249282] and parameters: {'max_depth': 7, 'eta': 0.11464824138475382, 'subsample': 0.8606452167085472, 'colsample_bytree': 0.8445671266325914}.\n",
      "[I 2025-05-16 19:28:05,738] A new study created in memory with name: no-name-e8070d6f-535d-4d8d-a942-903b0953ae93\n",
      "[I 2025-05-16 19:28:05,875] Trial 0 finished with values: [0.6621557869455601, 0.025696001313379412] and parameters: {'max_depth': 7, 'eta': 0.05823779705083348, 'subsample': 0.806640793313021, 'colsample_bytree': 0.9069854415038501}.\n",
      "[I 2025-05-16 19:28:05,879] A new study created in memory with name: no-name-d632b7e7-8d52-4f5e-b38c-d4f4ffe6c7bf\n"
     ]
    },
    {
     "name": "stdout",
     "output_type": "stream",
     "text": [
      "123\n",
      "max_acc: 0.6700103849794597, max_dpd: 0.07780119383333745, min_acc: 0.5000091902473095, min_dpd: 0.0\n",
      "max dist: 1.077191377258991, acc_dist: 0.9339323871758121, dpd_dist: 0.2264088760653095\n",
      "124\n",
      "max_acc: 0.6700103849794597, max_dpd: 0.07780119383333745, min_acc: 0.5000091902473095, min_dpd: 0.0\n",
      "max dist: 1.077191377258991, acc_dist: 0.9339323871758121, dpd_dist: 0.2264088760653095\n"
     ]
    },
    {
     "name": "stderr",
     "output_type": "stream",
     "text": [
      "[I 2025-05-16 19:28:06,004] Trial 0 finished with values: [0.6592930249086336, 0.03594577604889714] and parameters: {'max_depth': 7, 'eta': 0.22328273192668185, 'subsample': 0.8401629117351264, 'colsample_bytree': 0.9232188068083463}.\n",
      "[I 2025-05-16 19:28:06,008] A new study created in memory with name: no-name-6ccf9329-81b8-4ea8-99a6-c40d03180ca2\n",
      "[I 2025-05-16 19:28:06,134] Trial 0 finished with values: [0.6657246663174372, 0.038620947971134696] and parameters: {'max_depth': 4, 'eta': 0.22246326099522135, 'subsample': 0.9342023828358259, 'colsample_bytree': 0.7820992421008983}.\n",
      "[I 2025-05-16 19:28:06,137] A new study created in memory with name: no-name-a92913ef-2bec-49ca-b63b-06e915cfd2ae\n"
     ]
    },
    {
     "name": "stdout",
     "output_type": "stream",
     "text": [
      "125\n",
      "max_acc: 0.6700103849794597, max_dpd: 0.07780119383333745, min_acc: 0.5000091902473095, min_dpd: 0.0\n",
      "max dist: 1.077191377258991, acc_dist: 0.9339323871758121, dpd_dist: 0.2264088760653095\n",
      "126\n",
      "max_acc: 0.6700103849794597, max_dpd: 0.07780119383333745, min_acc: 0.5000091902473095, min_dpd: 0.0\n",
      "max dist: 1.077191377258991, acc_dist: 0.9339323871758121, dpd_dist: 0.2264088760653095\n"
     ]
    },
    {
     "name": "stderr",
     "output_type": "stream",
     "text": [
      "[I 2025-05-16 19:28:06,252] Trial 0 finished with values: [0.6578700682835376, 0.04080462371642394] and parameters: {'max_depth': 7, 'eta': 0.23153696220560985, 'subsample': 0.6231628311865738, 'colsample_bytree': 0.7825370126577628}.\n",
      "[I 2025-05-16 19:28:06,258] A new study created in memory with name: no-name-c4c85f82-85aa-4ef2-9421-d885d96899ae\n",
      "[I 2025-05-16 19:28:06,388] Trial 0 finished with values: [0.6657231346095523, 0.04141903537622319] and parameters: {'max_depth': 5, 'eta': 0.04699645895730354, 'subsample': 0.6668902149662501, 'colsample_bytree': 0.8289010333012083}.\n",
      "[I 2025-05-16 19:28:06,392] A new study created in memory with name: no-name-06737dae-d28e-4d63-b70c-43b2277c5cb5\n"
     ]
    },
    {
     "name": "stdout",
     "output_type": "stream",
     "text": [
      "127\n",
      "max_acc: 0.6700103849794597, max_dpd: 0.07780119383333745, min_acc: 0.5000091902473095, min_dpd: 0.0\n",
      "max dist: 1.077191377258991, acc_dist: 0.9339323871758121, dpd_dist: 0.2264088760653095\n",
      "128\n",
      "max_acc: 0.6700103849794597, max_dpd: 0.07780119383333745, min_acc: 0.5000091902473095, min_dpd: 0.0\n",
      "max dist: 1.077191377258991, acc_dist: 0.9339323871758121, dpd_dist: 0.2264088760653095\n"
     ]
    },
    {
     "name": "stderr",
     "output_type": "stream",
     "text": [
      "[I 2025-05-16 19:28:06,614] Trial 0 finished with values: [0.660008332490894, 0.03046627969413786] and parameters: {'max_depth': 4, 'eta': 0.01411723184110084, 'subsample': 0.8999007456417007, 'colsample_bytree': 0.6964203765665832}.\n",
      "[I 2025-05-16 19:28:06,617] A new study created in memory with name: no-name-666533e5-a8e2-439a-bafb-eb70e24646c5\n",
      "[I 2025-05-16 19:28:06,731] Trial 0 finished with values: [0.6635787435706563, 0.023481852016877997] and parameters: {'max_depth': 5, 'eta': 0.21233854583221706, 'subsample': 0.925197655402041, 'colsample_bytree': 0.993260776293789}.\n",
      "[I 2025-05-16 19:28:06,736] A new study created in memory with name: no-name-d1423975-f832-424b-a7da-7322087fdbdd\n"
     ]
    },
    {
     "name": "stdout",
     "output_type": "stream",
     "text": [
      "129\n",
      "max_acc: 0.6700103849794597, max_dpd: 0.07780119383333745, min_acc: 0.5000091902473095, min_dpd: 0.0\n",
      "max dist: 1.077191377258991, acc_dist: 0.9339323871758121, dpd_dist: 0.2264088760653095\n",
      "130\n",
      "max_acc: 0.6700103849794597, max_dpd: 0.07780119383333745, min_acc: 0.5000091902473095, min_dpd: 0.0\n",
      "max dist: 1.077191377258991, acc_dist: 0.9339323871758121, dpd_dist: 0.2264088760653095\n"
     ]
    },
    {
     "name": "stderr",
     "output_type": "stream",
     "text": [
      "[I 2025-05-16 19:28:06,876] Trial 0 finished with values: [0.663583338694311, 0.04967263379604478] and parameters: {'max_depth': 5, 'eta': 0.1262313128603343, 'subsample': 0.944440313738667, 'colsample_bytree': 0.6050632229191443}.\n",
      "[I 2025-05-16 19:28:06,879] A new study created in memory with name: no-name-622b551e-b0e3-4fbe-b6ca-351ed53af97b\n",
      "[I 2025-05-16 19:28:07,011] Trial 0 finished with values: [0.6635802752785411, 0.030228781435489727] and parameters: {'max_depth': 6, 'eta': 0.11085915846235779, 'subsample': 0.7676429290608917, 'colsample_bytree': 0.7041969502346622}.\n",
      "[I 2025-05-16 19:28:07,014] A new study created in memory with name: no-name-2a754aee-fb22-4ae1-89bb-bb36cfe99051\n"
     ]
    },
    {
     "name": "stdout",
     "output_type": "stream",
     "text": [
      "131\n",
      "max_acc: 0.6700103849794597, max_dpd: 0.07780119383333745, min_acc: 0.5000091902473095, min_dpd: 0.0\n",
      "max dist: 1.077191377258991, acc_dist: 0.9339323871758121, dpd_dist: 0.2264088760653095\n",
      "132\n",
      "max_acc: 0.6700103849794597, max_dpd: 0.07780119383333745, min_acc: 0.5000091902473095, min_dpd: 0.0\n",
      "max dist: 1.077191377258991, acc_dist: 0.9339323871758121, dpd_dist: 0.2264088760653095\n"
     ]
    },
    {
     "name": "stderr",
     "output_type": "stream",
     "text": [
      "[I 2025-05-16 19:28:07,220] Trial 0 finished with values: [0.6607267034889243, 0.02549014651112903] and parameters: {'max_depth': 3, 'eta': 0.019439558241724438, 'subsample': 0.7484493256566007, 'colsample_bytree': 0.9356759469434508}.\n",
      "[I 2025-05-16 19:28:07,223] A new study created in memory with name: no-name-9ca12361-a624-473c-b68e-063d0423b5a2\n",
      "[I 2025-05-16 19:28:07,344] Trial 0 finished with values: [0.6664369104839278, 0.03483675066893632] and parameters: {'max_depth': 3, 'eta': 0.2648158107752946, 'subsample': 0.8093013470117549, 'colsample_bytree': 0.6223445570920956}.\n",
      "[I 2025-05-16 19:28:07,347] A new study created in memory with name: no-name-d70905a7-0246-45a1-b669-dd6fad896b33\n"
     ]
    },
    {
     "name": "stdout",
     "output_type": "stream",
     "text": [
      "133\n",
      "max_acc: 0.6700103849794597, max_dpd: 0.07780119383333745, min_acc: 0.5000091902473095, min_dpd: 0.0\n",
      "max dist: 1.077191377258991, acc_dist: 0.9339323871758121, dpd_dist: 0.2264088760653095\n",
      "134\n",
      "max_acc: 0.6700103849794597, max_dpd: 0.07780119383333745, min_acc: 0.5000091902473095, min_dpd: 0.0\n",
      "max dist: 1.077191377258991, acc_dist: 0.9339323871758121, dpd_dist: 0.2264088760653095\n"
     ]
    },
    {
     "name": "stderr",
     "output_type": "stream",
     "text": [
      "[I 2025-05-16 19:28:07,578] Trial 0 finished with values: [0.6628710945278204, 0.024031423372890475] and parameters: {'max_depth': 3, 'eta': 0.03979668709024867, 'subsample': 0.7067891485491087, 'colsample_bytree': 0.7147206680362195}.\n",
      "[I 2025-05-16 19:28:07,582] A new study created in memory with name: no-name-94540297-9c6e-41b6-a4e0-94c89d17b91b\n",
      "[I 2025-05-16 19:28:07,732] Trial 0 finished with values: [0.6657246663174372, 0.029445728635507495] and parameters: {'max_depth': 4, 'eta': 0.17533036139754632, 'subsample': 0.8084874015472946, 'colsample_bytree': 0.8293934065193451}.\n",
      "[I 2025-05-16 19:28:07,735] A new study created in memory with name: no-name-d2184341-0136-49b4-aa09-7a2b90ef32c9\n"
     ]
    },
    {
     "name": "stdout",
     "output_type": "stream",
     "text": [
      "135\n",
      "max_acc: 0.6700103849794597, max_dpd: 0.07780119383333745, min_acc: 0.5000091902473095, min_dpd: 0.0\n",
      "max dist: 1.077191377258991, acc_dist: 0.9339323871758121, dpd_dist: 0.2264088760653095\n",
      "136\n",
      "max_acc: 0.6700103849794597, max_dpd: 0.07780119383333745, min_acc: 0.5000091902473095, min_dpd: 0.0\n",
      "max dist: 1.077191377258991, acc_dist: 0.9339323871758121, dpd_dist: 0.2264088760653095\n"
     ]
    },
    {
     "name": "stderr",
     "output_type": "stream",
     "text": [
      "[I 2025-05-16 19:28:07,878] Trial 0 finished with values: [0.6621588503613299, 0.017497839722683362] and parameters: {'max_depth': 3, 'eta': 0.22811636933151896, 'subsample': 0.6573898483717654, 'colsample_bytree': 0.9298562002671199}.\n",
      "[I 2025-05-16 19:28:07,881] A new study created in memory with name: no-name-eb6733ba-8744-47b4-8d35-a15ae798dbb8\n"
     ]
    },
    {
     "name": "stdout",
     "output_type": "stream",
     "text": [
      "137\n",
      "max_acc: 0.6700103849794597, max_dpd: 0.07780119383333745, min_acc: 0.5000091902473095, min_dpd: 0.0\n",
      "max dist: 1.077191377258991, acc_dist: 0.9339323871758121, dpd_dist: 0.2264088760653095\n"
     ]
    },
    {
     "name": "stderr",
     "output_type": "stream",
     "text": [
      "[I 2025-05-16 19:28:08,228] Trial 0 finished with values: [0.665009358735177, 0.03235931319901658] and parameters: {'max_depth': 7, 'eta': 0.24311856673201318, 'subsample': 0.7566700611575929, 'colsample_bytree': 0.6257216380421452}.\n",
      "[I 2025-05-16 19:28:08,233] A new study created in memory with name: no-name-1e0b913f-003d-4f7b-844a-f3cf4b706bc1\n",
      "[I 2025-05-16 19:28:08,396] Trial 0 finished with values: [0.6607221083652695, 0.02685036561654695] and parameters: {'max_depth': 6, 'eta': 0.227074385019682, 'subsample': 0.7444121398796473, 'colsample_bytree': 0.8763347144648375}.\n",
      "[I 2025-05-16 19:28:08,399] A new study created in memory with name: no-name-7df13eb7-0eb5-4cb6-becf-caadd7ec8efa\n"
     ]
    },
    {
     "name": "stdout",
     "output_type": "stream",
     "text": [
      "138\n",
      "max_acc: 0.6700103849794597, max_dpd: 0.07780119383333745, min_acc: 0.5000091902473095, min_dpd: 0.0\n",
      "max dist: 1.077191377258991, acc_dist: 0.9339323871758121, dpd_dist: 0.2264088760653095\n",
      "139\n",
      "max_acc: 0.6700103849794597, max_dpd: 0.07780119383333745, min_acc: 0.5000091902473095, min_dpd: 0.0\n",
      "max dist: 1.077191377258991, acc_dist: 0.9339323871758121, dpd_dist: 0.2264088760653095\n"
     ]
    },
    {
     "name": "stderr",
     "output_type": "stream",
     "text": [
      "[I 2025-05-16 19:28:08,536] Trial 0 finished with values: [0.665009358735177, 0.033991832879579326] and parameters: {'max_depth': 5, 'eta': 0.2141242404051755, 'subsample': 0.8502242694563471, 'colsample_bytree': 0.8043737598803279}.\n",
      "[I 2025-05-16 19:28:08,540] A new study created in memory with name: no-name-9db85d07-82af-41cd-8d2e-196b7c2d8581\n",
      "[I 2025-05-16 19:28:08,671] Trial 0 finished with values: [0.665009358735177, 0.03398723698490149] and parameters: {'max_depth': 6, 'eta': 0.15765215782693026, 'subsample': 0.6248042132539401, 'colsample_bytree': 0.8768697135388397}.\n",
      "[I 2025-05-16 19:28:08,675] A new study created in memory with name: no-name-87674d30-9ed7-4f47-b773-86744cc1f29c\n"
     ]
    },
    {
     "name": "stdout",
     "output_type": "stream",
     "text": [
      "140\n",
      "max_acc: 0.6700103849794597, max_dpd: 0.07780119383333745, min_acc: 0.5000091902473095, min_dpd: 0.0\n",
      "max dist: 1.077191377258991, acc_dist: 0.9339323871758121, dpd_dist: 0.2264088760653095\n",
      "141\n",
      "max_acc: 0.6700103849794597, max_dpd: 0.07780119383333745, min_acc: 0.5000091902473095, min_dpd: 0.0\n",
      "max dist: 1.077191377258991, acc_dist: 0.9339323871758121, dpd_dist: 0.2264088760653095\n"
     ]
    },
    {
     "name": "stderr",
     "output_type": "stream",
     "text": [
      "[I 2025-05-16 19:28:08,845] Trial 0 finished with values: [0.6585853758657979, 0.019806134906891825] and parameters: {'max_depth': 6, 'eta': 0.054706952062569744, 'subsample': 0.6476769760125161, 'colsample_bytree': 0.9625625895918474}.\n",
      "[I 2025-05-16 19:28:08,851] A new study created in memory with name: no-name-126c0b2e-ac16-4c32-879e-fdae0f62639f\n",
      "[I 2025-05-16 19:28:09,043] Trial 0 finished with values: [0.6621542552376751, 0.02208427346699977] and parameters: {'max_depth': 5, 'eta': 0.09573125329043045, 'subsample': 0.8204189899145233, 'colsample_bytree': 0.9449781466907228}.\n",
      "[I 2025-05-16 19:28:09,048] A new study created in memory with name: no-name-4cbaad0f-88de-4ffb-aac7-1ee3c74bdecf\n"
     ]
    },
    {
     "name": "stdout",
     "output_type": "stream",
     "text": [
      "142\n",
      "max_acc: 0.6700103849794597, max_dpd: 0.07780119383333745, min_acc: 0.5000091902473095, min_dpd: 0.0\n",
      "max dist: 1.077191377258991, acc_dist: 0.9339323871758121, dpd_dist: 0.2264088760653095\n",
      "143\n",
      "max_acc: 0.6700103849794597, max_dpd: 0.07780119383333745, min_acc: 0.5000091902473095, min_dpd: 0.0\n",
      "max dist: 1.077191377258991, acc_dist: 0.9339323871758121, dpd_dist: 0.2264088760653095\n"
     ]
    },
    {
     "name": "stderr",
     "output_type": "stream",
     "text": [
      "[I 2025-05-16 19:28:09,220] Trial 0 finished with values: [0.6628741579435903, 0.025862267139097162] and parameters: {'max_depth': 5, 'eta': 0.20915473709962676, 'subsample': 0.9502742538588321, 'colsample_bytree': 0.9639193953073459}.\n",
      "[I 2025-05-16 19:28:09,223] A new study created in memory with name: no-name-ddb70935-4b4f-4a60-a8aa-4c2f5f44d22e\n"
     ]
    },
    {
     "name": "stdout",
     "output_type": "stream",
     "text": [
      "144\n",
      "max_acc: 0.6700103849794597, max_dpd: 0.07780119383333745, min_acc: 0.5000091902473095, min_dpd: 0.0\n",
      "max dist: 1.077191377258991, acc_dist: 0.9339323871758121, dpd_dist: 0.2264088760653095\n"
     ]
    },
    {
     "name": "stderr",
     "output_type": "stream",
     "text": [
      "[I 2025-05-16 19:28:09,447] Trial 0 finished with values: [0.6600129276145488, 0.027415202778955372] and parameters: {'max_depth': 6, 'eta': 0.05427134447393981, 'subsample': 0.6078391908024763, 'colsample_bytree': 0.7458938562107172}.\n",
      "[I 2025-05-16 19:28:09,452] A new study created in memory with name: no-name-99649b70-1048-41f6-b853-573d7f37d5d4\n",
      "[I 2025-05-16 19:28:09,632] Trial 0 finished with values: [0.6650124221509468, 0.025377903552818493] and parameters: {'max_depth': 5, 'eta': 0.14010383141361077, 'subsample': 0.8504523684526908, 'colsample_bytree': 0.8312163742763862}.\n",
      "[I 2025-05-16 19:28:09,635] A new study created in memory with name: no-name-03afb7d3-3c2d-4318-9137-cd39fdb82f0e\n"
     ]
    },
    {
     "name": "stdout",
     "output_type": "stream",
     "text": [
      "145\n",
      "max_acc: 0.6700103849794597, max_dpd: 0.07780119383333745, min_acc: 0.5000091902473095, min_dpd: 0.0\n",
      "max dist: 1.077191377258991, acc_dist: 0.9339323871758121, dpd_dist: 0.2264088760653095\n",
      "146\n",
      "max_acc: 0.6700103849794597, max_dpd: 0.07780119383333745, min_acc: 0.5000091902473095, min_dpd: 0.0\n",
      "max dist: 1.077191377258991, acc_dist: 0.9339323871758121, dpd_dist: 0.2264088760653095\n"
     ]
    },
    {
     "name": "stderr",
     "output_type": "stream",
     "text": [
      "[I 2025-05-16 19:28:09,813] Trial 0 finished with values: [0.6592991517401733, 0.01768299265636103] and parameters: {'max_depth': 3, 'eta': 0.07957396506391304, 'subsample': 0.6930786343805526, 'colsample_bytree': 0.980071348561999}.\n",
      "[I 2025-05-16 19:28:09,817] A new study created in memory with name: no-name-893db978-7971-4ceb-9fb4-4285aa9aed35\n",
      "[I 2025-05-16 19:28:10,014] Trial 0 finished with values: [0.6578715999914224, 0.029853329426089554] and parameters: {'max_depth': 6, 'eta': 0.13865490193517552, 'subsample': 0.6621641659823044, 'colsample_bytree': 0.990394626311332}.\n",
      "[I 2025-05-16 19:28:10,017] A new study created in memory with name: no-name-e9a8bf07-91c6-428a-8fd8-eea8df10db1d\n"
     ]
    },
    {
     "name": "stdout",
     "output_type": "stream",
     "text": [
      "147\n",
      "max_acc: 0.6700103849794597, max_dpd: 0.07780119383333745, min_acc: 0.5000091902473095, min_dpd: 0.0\n",
      "max dist: 1.077191377258991, acc_dist: 0.9339323871758121, dpd_dist: 0.2264088760653095\n",
      "148\n",
      "max_acc: 0.6700103849794597, max_dpd: 0.07780119383333745, min_acc: 0.5000091902473095, min_dpd: 0.0\n",
      "max dist: 1.077191377258991, acc_dist: 0.9339323871758121, dpd_dist: 0.2264088760653095\n"
     ]
    },
    {
     "name": "stderr",
     "output_type": "stream",
     "text": [
      "[I 2025-05-16 19:28:10,193] Trial 0 finished with values: [0.6671506863583033, 0.04804938323874628] and parameters: {'max_depth': 3, 'eta': 0.16179900145513698, 'subsample': 0.604452285089701, 'colsample_bytree': 0.7640532102116568}.\n",
      "[I 2025-05-16 19:28:10,198] A new study created in memory with name: no-name-2e7978a0-fe6d-4829-b99f-95abf3c1a6db\n",
      "[I 2025-05-16 19:28:10,378] Trial 0 finished with values: [0.665009358735177, 0.029702717332753054] and parameters: {'max_depth': 7, 'eta': 0.1752912219047012, 'subsample': 0.6086728050424413, 'colsample_bytree': 0.9653859311297984}.\n",
      "[I 2025-05-16 19:28:10,382] A new study created in memory with name: no-name-d36cb735-c7b1-44b1-88d9-5dc5e903df05\n"
     ]
    },
    {
     "name": "stdout",
     "output_type": "stream",
     "text": [
      "149\n",
      "max_acc: 0.6700103849794597, max_dpd: 0.07780119383333745, min_acc: 0.5000091902473095, min_dpd: 0.0\n",
      "max dist: 1.077191377258991, acc_dist: 0.9339323871758121, dpd_dist: 0.2264088760653095\n",
      "150\n",
      "max_acc: 0.6700103849794597, max_dpd: 0.07780119383333745, min_acc: 0.5000091902473095, min_dpd: 0.0\n",
      "max dist: 1.077191377258991, acc_dist: 0.9339323871758121, dpd_dist: 0.2264088760653095\n"
     ]
    },
    {
     "name": "stderr",
     "output_type": "stream",
     "text": [
      "[I 2025-05-16 19:28:10,543] Trial 0 finished with values: [0.6592976200322884, 0.027985319335396802] and parameters: {'max_depth': 7, 'eta': 0.26145447610362166, 'subsample': 0.8381973949023763, 'colsample_bytree': 0.9106302643077928}.\n",
      "[I 2025-05-16 19:28:10,546] A new study created in memory with name: no-name-cdb7dbad-c1ab-4337-8fae-875c96e652e2\n",
      "[I 2025-05-16 19:28:10,690] Trial 0 finished with values: [0.6578700682835376, 0.021595542977569316] and parameters: {'max_depth': 3, 'eta': 0.09981923961631683, 'subsample': 0.9504466227478148, 'colsample_bytree': 0.9093306462167472}.\n",
      "[I 2025-05-16 19:28:10,695] A new study created in memory with name: no-name-45488f3c-86ef-403f-88f3-e87d2f189c7e\n"
     ]
    },
    {
     "name": "stdout",
     "output_type": "stream",
     "text": [
      "151\n",
      "max_acc: 0.6700103849794597, max_dpd: 0.07780119383333745, min_acc: 0.5000091902473095, min_dpd: 0.0\n",
      "max dist: 1.077191377258991, acc_dist: 0.9339323871758121, dpd_dist: 0.2264088760653095\n",
      "152\n",
      "max_acc: 0.6700103849794597, max_dpd: 0.07780119383333745, min_acc: 0.5000091902473095, min_dpd: 0.0\n",
      "max dist: 1.077191377258991, acc_dist: 0.9339323871758121, dpd_dist: 0.2264088760653095\n"
     ]
    },
    {
     "name": "stderr",
     "output_type": "stream",
     "text": [
      "[I 2025-05-16 19:28:10,913] Trial 0 finished with values: [0.6621527235297903, 0.03226578242241455] and parameters: {'max_depth': 7, 'eta': 0.11078093473987409, 'subsample': 0.8334066365384039, 'colsample_bytree': 0.7013110938098323}.\n",
      "[I 2025-05-16 19:28:10,916] A new study created in memory with name: no-name-92b3af5a-495f-4a76-b046-688e9011b152\n"
     ]
    },
    {
     "name": "stdout",
     "output_type": "stream",
     "text": [
      "153\n",
      "max_acc: 0.6700103849794597, max_dpd: 0.07780119383333745, min_acc: 0.5000091902473095, min_dpd: 0.0\n",
      "max dist: 1.077191377258991, acc_dist: 0.9339323871758121, dpd_dist: 0.2264088760653095\n"
     ]
    },
    {
     "name": "stderr",
     "output_type": "stream",
     "text": [
      "[I 2025-05-16 19:28:11,129] Trial 0 finished with values: [0.6592991517401733, 0.03351990313069036] and parameters: {'max_depth': 5, 'eta': 0.09663144916920115, 'subsample': 0.6151571093616284, 'colsample_bytree': 0.7292724831358003}.\n",
      "[I 2025-05-16 19:28:11,133] A new study created in memory with name: no-name-ccf67dda-2b86-449a-a73d-6dcf908570b1\n",
      "[I 2025-05-16 19:28:11,308] Trial 0 finished with values: [0.6607267034889243, 0.026468070268795867] and parameters: {'max_depth': 3, 'eta': 0.19558202127437563, 'subsample': 0.6652792445147123, 'colsample_bytree': 0.9100589868239594}.\n",
      "[I 2025-05-16 19:28:11,313] A new study created in memory with name: no-name-40862b87-dbe1-4d08-9799-324c85de0e66\n"
     ]
    },
    {
     "name": "stdout",
     "output_type": "stream",
     "text": [
      "154\n",
      "max_acc: 0.6700103849794597, max_dpd: 0.07780119383333745, min_acc: 0.5000091902473095, min_dpd: 0.0\n",
      "max dist: 1.077191377258991, acc_dist: 0.9339323871758121, dpd_dist: 0.2264088760653095\n",
      "155\n",
      "max_acc: 0.6700103849794597, max_dpd: 0.07780119383333745, min_acc: 0.5000091902473095, min_dpd: 0.0\n",
      "max dist: 1.077191377258991, acc_dist: 0.9339323871758121, dpd_dist: 0.2264088760653095\n"
     ]
    },
    {
     "name": "stderr",
     "output_type": "stream",
     "text": [
      "[I 2025-05-16 19:28:11,568] Trial 0 finished with values: [0.663581806986426, 0.029294230811428207] and parameters: {'max_depth': 6, 'eta': 0.11098751049425294, 'subsample': 0.6246508806959792, 'colsample_bytree': 0.6606738948034792}.\n",
      "[I 2025-05-16 19:28:11,575] A new study created in memory with name: no-name-b3952f4a-f83b-4d8c-9917-7b4b27711c48\n",
      "[I 2025-05-16 19:28:11,752] Trial 0 finished with values: [0.6585838441579129, 0.028857802156218443] and parameters: {'max_depth': 5, 'eta': 0.2416547429759539, 'subsample': 0.7781741745876638, 'colsample_bytree': 0.9217625410471759}.\n",
      "[I 2025-05-16 19:28:11,756] A new study created in memory with name: no-name-48304a92-8aca-4d3d-ae12-120fd402833b\n"
     ]
    },
    {
     "name": "stdout",
     "output_type": "stream",
     "text": [
      "156\n",
      "max_acc: 0.6700103849794597, max_dpd: 0.07780119383333745, min_acc: 0.5000091902473095, min_dpd: 0.0\n",
      "max dist: 1.077191377258991, acc_dist: 0.9339323871758121, dpd_dist: 0.2264088760653095\n",
      "157\n",
      "max_acc: 0.6700103849794597, max_dpd: 0.07780119383333745, min_acc: 0.5000091902473095, min_dpd: 0.0\n",
      "max dist: 1.077191377258991, acc_dist: 0.9339323871758121, dpd_dist: 0.2264088760653095\n"
     ]
    },
    {
     "name": "stderr",
     "output_type": "stream",
     "text": [
      "[I 2025-05-16 19:28:12,046] Trial 0 finished with values: [0.6642955828608015, 0.04732030514418773] and parameters: {'max_depth': 7, 'eta': 0.02256831929435943, 'subsample': 0.9600337914788175, 'colsample_bytree': 0.6123227145468798}.\n",
      "[I 2025-05-16 19:28:12,050] A new study created in memory with name: no-name-f728c511-3c3c-42c4-acb3-eb6a70ab9267\n",
      "[I 2025-05-16 19:28:12,227] Trial 0 finished with values: [0.6664384421918127, 0.0345514363520002] and parameters: {'max_depth': 4, 'eta': 0.20636557306598846, 'subsample': 0.7743581663216537, 'colsample_bytree': 0.808066439998448}.\n",
      "[I 2025-05-16 19:28:12,230] A new study created in memory with name: no-name-68c6036d-96b8-49b9-8995-8e70f9b30f84\n"
     ]
    },
    {
     "name": "stdout",
     "output_type": "stream",
     "text": [
      "158\n",
      "max_acc: 0.6700103849794597, max_dpd: 0.07780119383333745, min_acc: 0.5000091902473095, min_dpd: 0.0\n",
      "max dist: 1.077191377258991, acc_dist: 0.9339323871758121, dpd_dist: 0.2264088760653095\n",
      "159\n",
      "max_acc: 0.6700103849794597, max_dpd: 0.07780119383333745, min_acc: 0.5000091902473095, min_dpd: 0.0\n",
      "max dist: 1.077191377258991, acc_dist: 0.9339323871758121, dpd_dist: 0.2264088760653095\n"
     ]
    },
    {
     "name": "stderr",
     "output_type": "stream",
     "text": [
      "[I 2025-05-16 19:28:12,400] Trial 0 finished with values: [0.6650108904430619, 0.03230800834912161] and parameters: {'max_depth': 5, 'eta': 0.20373953174869125, 'subsample': 0.770048414110929, 'colsample_bytree': 0.8662238336010168}.\n",
      "[I 2025-05-16 19:28:12,405] A new study created in memory with name: no-name-db3c8878-1657-4cfc-9bbe-4dbb8e6771eb\n"
     ]
    },
    {
     "name": "stdout",
     "output_type": "stream",
     "text": [
      "160\n",
      "max_acc: 0.6700103849794597, max_dpd: 0.07780119383333745, min_acc: 0.5000091902473095, min_dpd: 0.0\n",
      "max dist: 1.077191377258991, acc_dist: 0.9339323871758121, dpd_dist: 0.2264088760653095\n"
     ]
    },
    {
     "name": "stderr",
     "output_type": "stream",
     "text": [
      "[I 2025-05-16 19:28:12,673] Trial 0 finished with values: [0.6564440482426716, 0.01977873952301401] and parameters: {'max_depth': 5, 'eta': 0.032853475996188354, 'subsample': 0.6364188517089876, 'colsample_bytree': 0.9313527014818422}.\n",
      "[I 2025-05-16 19:28:12,678] A new study created in memory with name: no-name-9bc54b54-eeac-483c-8421-d61fc9ca8f0c\n",
      "[I 2025-05-16 19:28:12,845] Trial 0 finished with values: [0.6614435427790696, 0.01646903313832122] and parameters: {'max_depth': 3, 'eta': 0.2235453583133459, 'subsample': 0.658487905755447, 'colsample_bytree': 0.9372928122625637}.\n",
      "[I 2025-05-16 19:28:12,849] A new study created in memory with name: no-name-3646c30f-b032-443e-bc44-cb2b28e7a62a\n"
     ]
    },
    {
     "name": "stdout",
     "output_type": "stream",
     "text": [
      "161\n",
      "max_acc: 0.6700103849794597, max_dpd: 0.07780119383333745, min_acc: 0.5000091902473095, min_dpd: 0.0\n",
      "max dist: 1.077191377258991, acc_dist: 0.9339323871758121, dpd_dist: 0.2264088760653095\n",
      "162\n",
      "max_acc: 0.6700103849794597, max_dpd: 0.07780119383333745, min_acc: 0.5000091902473095, min_dpd: 0.0\n",
      "max dist: 1.077191377258991, acc_dist: 0.9339323871758121, dpd_dist: 0.2264088760653095\n"
     ]
    },
    {
     "name": "stderr",
     "output_type": "stream",
     "text": [
      "[I 2025-05-16 19:28:13,030] Trial 0 finished with values: [0.6657292614410921, 0.04023302233799327] and parameters: {'max_depth': 6, 'eta': 0.20820862602057838, 'subsample': 0.9925694290656341, 'colsample_bytree': 0.803618102573392}.\n",
      "[I 2025-05-16 19:28:13,034] A new study created in memory with name: no-name-315995a4-d785-4219-9342-2989bf3d73f3\n",
      "[I 2025-05-16 19:28:13,214] Trial 0 finished with values: [0.6642971145686865, 0.02879118904420172] and parameters: {'max_depth': 5, 'eta': 0.22895922052831072, 'subsample': 0.9892516134209463, 'colsample_bytree': 0.8922390477998912}.\n",
      "[I 2025-05-16 19:28:13,218] A new study created in memory with name: no-name-648cd87f-fd72-45fc-a73b-1fca44cabe54\n"
     ]
    },
    {
     "name": "stdout",
     "output_type": "stream",
     "text": [
      "163\n",
      "max_acc: 0.6700103849794597, max_dpd: 0.07780119383333745, min_acc: 0.5000091902473095, min_dpd: 0.0\n",
      "max dist: 1.077191377258991, acc_dist: 0.9339323871758121, dpd_dist: 0.2264088760653095\n",
      "164\n",
      "max_acc: 0.6700103849794597, max_dpd: 0.07780119383333745, min_acc: 0.5000091902473095, min_dpd: 0.0\n",
      "max dist: 1.077191377258991, acc_dist: 0.9339323871758121, dpd_dist: 0.2264088760653095\n"
     ]
    },
    {
     "name": "stderr",
     "output_type": "stream",
     "text": [
      "[I 2025-05-16 19:28:13,398] Trial 0 finished with values: [0.6593006834480583, 0.03140146507309352] and parameters: {'max_depth': 4, 'eta': 0.1710944395282162, 'subsample': 0.6107738182774863, 'colsample_bytree': 0.7212043566283688}.\n",
      "[I 2025-05-16 19:28:13,402] A new study created in memory with name: no-name-5d61ea51-06e3-4747-b32e-0cb97986180f\n",
      "[I 2025-05-16 19:28:13,582] Trial 0 finished with values: [0.6535782227899752, 0.03526717245514558] and parameters: {'max_depth': 4, 'eta': 0.0768745055889445, 'subsample': 0.9581895825921511, 'colsample_bytree': 0.939795017770541}.\n",
      "[I 2025-05-16 19:28:13,586] A new study created in memory with name: no-name-3ef88430-7338-4e37-96ae-40c0cec0f3a1\n"
     ]
    },
    {
     "name": "stdout",
     "output_type": "stream",
     "text": [
      "165\n",
      "max_acc: 0.6700103849794597, max_dpd: 0.07780119383333745, min_acc: 0.5000091902473095, min_dpd: 0.0\n",
      "max dist: 1.077191377258991, acc_dist: 0.9339323871758121, dpd_dist: 0.2264088760653095\n",
      "166\n",
      "max_acc: 0.6700103849794597, max_dpd: 0.07780119383333745, min_acc: 0.5000091902473095, min_dpd: 0.0\n",
      "max dist: 1.077191377258991, acc_dist: 0.9339323871758121, dpd_dist: 0.2264088760653095\n"
     ]
    },
    {
     "name": "stderr",
     "output_type": "stream",
     "text": [
      "[I 2025-05-16 19:28:13,762] Trial 0 finished with values: [0.6614389476554148, 0.0300940989298972] and parameters: {'max_depth': 7, 'eta': 0.27988547410864273, 'subsample': 0.8198031744623322, 'colsample_bytree': 0.7374745563806496}.\n",
      "[I 2025-05-16 19:28:13,771] A new study created in memory with name: no-name-c92cd75d-c119-4be4-a708-43c8dadcccb9\n"
     ]
    },
    {
     "name": "stdout",
     "output_type": "stream",
     "text": [
      "167\n",
      "max_acc: 0.6700103849794597, max_dpd: 0.07780119383333745, min_acc: 0.5000091902473095, min_dpd: 0.0\n",
      "max dist: 1.077191377258991, acc_dist: 0.9339323871758121, dpd_dist: 0.2264088760653095\n"
     ]
    },
    {
     "name": "stderr",
     "output_type": "stream",
     "text": [
      "[I 2025-05-16 19:28:14,016] Trial 0 finished with values: [0.663583338694311, 0.04434631568866327] and parameters: {'max_depth': 4, 'eta': 0.24995176706147923, 'subsample': 0.6300658143177079, 'colsample_bytree': 0.6514047368780254}.\n",
      "[I 2025-05-16 19:28:14,019] A new study created in memory with name: no-name-74ba018b-4e6e-425b-9ac9-3f88ac87d5a1\n",
      "[I 2025-05-16 19:28:14,174] Trial 0 finished with values: [0.6642955828608015, 0.03285009595865112] and parameters: {'max_depth': 4, 'eta': 0.1090206940876906, 'subsample': 0.8782086236008723, 'colsample_bytree': 0.7756317401093415}.\n",
      "[I 2025-05-16 19:28:14,180] A new study created in memory with name: no-name-812d8520-5461-4e7d-a91e-fdceb11b33c8\n"
     ]
    },
    {
     "name": "stdout",
     "output_type": "stream",
     "text": [
      "168\n",
      "max_acc: 0.6700103849794597, max_dpd: 0.07780119383333745, min_acc: 0.5000091902473095, min_dpd: 0.0\n",
      "max dist: 1.077191377258991, acc_dist: 0.9339323871758121, dpd_dist: 0.2264088760653095\n",
      "169\n",
      "max_acc: 0.6700103849794597, max_dpd: 0.07780119383333745, min_acc: 0.5000091902473095, min_dpd: 0.0\n",
      "max dist: 1.077191377258991, acc_dist: 0.9339323871758121, dpd_dist: 0.2264088760653095\n"
     ]
    },
    {
     "name": "stderr",
     "output_type": "stream",
     "text": [
      "[I 2025-05-16 19:28:14,349] Trial 0 finished with values: [0.6614420110711846, 0.029230679285607974] and parameters: {'max_depth': 3, 'eta': 0.08343190810961078, 'subsample': 0.6555203378485847, 'colsample_bytree': 0.6680000591756283}.\n",
      "[I 2025-05-16 19:28:14,353] A new study created in memory with name: no-name-090f6639-3d3c-4694-869e-73a4c3e63713\n",
      "[I 2025-05-16 19:28:14,513] Trial 0 finished with values: [0.6635848704021959, 0.028225779293516617] and parameters: {'max_depth': 6, 'eta': 0.15230191326632123, 'subsample': 0.8332937169425049, 'colsample_bytree': 0.8776771544433359}.\n",
      "[I 2025-05-16 19:28:14,517] A new study created in memory with name: no-name-a8ea3098-263b-4bad-93e5-a68c91f3f9ff\n"
     ]
    },
    {
     "name": "stdout",
     "output_type": "stream",
     "text": [
      "170\n",
      "max_acc: 0.6700103849794597, max_dpd: 0.07780119383333745, min_acc: 0.5000091902473095, min_dpd: 0.0\n",
      "max dist: 1.077191377258991, acc_dist: 0.9339323871758121, dpd_dist: 0.2264088760653095\n",
      "171\n",
      "max_acc: 0.6700103849794597, max_dpd: 0.07780119383333745, min_acc: 0.5000091902473095, min_dpd: 0.0\n",
      "max dist: 1.077191377258991, acc_dist: 0.9339323871758121, dpd_dist: 0.2264088760653095\n"
     ]
    },
    {
     "name": "stderr",
     "output_type": "stream",
     "text": [
      "[I 2025-05-16 19:28:14,685] Trial 0 finished with values: [0.6607236400731544, 0.03208152959868691] and parameters: {'max_depth': 3, 'eta': 0.24951801249330582, 'subsample': 0.7567357246830144, 'colsample_bytree': 0.8030500139491441}.\n",
      "[I 2025-05-16 19:28:14,691] A new study created in memory with name: no-name-b496beef-b2f0-4c60-b74a-2df28e68fb91\n",
      "[I 2025-05-16 19:28:14,876] Trial 0 finished with values: [0.6592991517401733, 0.01768299265636103] and parameters: {'max_depth': 4, 'eta': 0.05621029448904681, 'subsample': 0.6826011711778845, 'colsample_bytree': 0.9808980228717228}.\n",
      "[I 2025-05-16 19:28:14,879] A new study created in memory with name: no-name-d0ab9d44-bbe6-4a19-8d80-7824c014c78c\n"
     ]
    },
    {
     "name": "stdout",
     "output_type": "stream",
     "text": [
      "172\n",
      "max_acc: 0.6700103849794597, max_dpd: 0.07780119383333745, min_acc: 0.5000091902473095, min_dpd: 0.0\n",
      "max dist: 1.077191377258991, acc_dist: 0.9339323871758121, dpd_dist: 0.2264088760653095\n",
      "173\n",
      "max_acc: 0.6700103849794597, max_dpd: 0.07780119383333745, min_acc: 0.5000091902473095, min_dpd: 0.0\n",
      "max dist: 1.077191377258991, acc_dist: 0.9339323871758121, dpd_dist: 0.2264088760653095\n"
     ]
    },
    {
     "name": "stderr",
     "output_type": "stream",
     "text": [
      "[I 2025-05-16 19:28:15,135] Trial 0 finished with values: [0.665009358735177, 0.029702717332753054] and parameters: {'max_depth': 3, 'eta': 0.17109437379801667, 'subsample': 0.6135898208765236, 'colsample_bytree': 0.9845225146455291}.\n",
      "[I 2025-05-16 19:28:15,141] A new study created in memory with name: no-name-0c0cbc12-8998-42f9-81a3-22bd255c8c1e\n"
     ]
    },
    {
     "name": "stdout",
     "output_type": "stream",
     "text": [
      "174\n",
      "max_acc: 0.6700103849794597, max_dpd: 0.07780119383333745, min_acc: 0.5000091902473095, min_dpd: 0.0\n",
      "max dist: 1.077191377258991, acc_dist: 0.9339323871758121, dpd_dist: 0.2264088760653095\n"
     ]
    },
    {
     "name": "stderr",
     "output_type": "stream",
     "text": [
      "[I 2025-05-16 19:28:15,386] Trial 0 finished with values: [0.6600129276145488, 0.02318421273617032] and parameters: {'max_depth': 5, 'eta': 0.024459905530701133, 'subsample': 0.6711938039867232, 'colsample_bytree': 0.8885756479438596}.\n",
      "[I 2025-05-16 19:28:15,393] A new study created in memory with name: no-name-0ec187e3-b968-42a1-b43e-4abd584a48cf\n"
     ]
    },
    {
     "name": "stdout",
     "output_type": "stream",
     "text": [
      "175\n",
      "max_acc: 0.6700103849794597, max_dpd: 0.07780119383333745, min_acc: 0.5000091902473095, min_dpd: 0.0\n",
      "max dist: 1.077191377258991, acc_dist: 0.9339323871758121, dpd_dist: 0.2264088760653095\n"
     ]
    },
    {
     "name": "stderr",
     "output_type": "stream",
     "text": [
      "[I 2025-05-16 19:28:15,648] Trial 0 finished with values: [0.6635726167391165, 0.03150638216612303] and parameters: {'max_depth': 6, 'eta': 0.023092224216662557, 'subsample': 0.8518852326915256, 'colsample_bytree': 0.6220557117339401}.\n",
      "[I 2025-05-16 19:28:15,652] A new study created in memory with name: no-name-95874c36-4863-4321-bdc0-f8d8028f955b\n",
      "[I 2025-05-16 19:28:15,829] Trial 0 finished with values: [0.6642955828608015, 0.02396064178170948] and parameters: {'max_depth': 5, 'eta': 0.2931426792044803, 'subsample': 0.714812202007838, 'colsample_bytree': 0.9657746924361986}.\n",
      "[I 2025-05-16 19:28:15,833] A new study created in memory with name: no-name-636da21a-d044-409b-ab5d-701f4631e51e\n"
     ]
    },
    {
     "name": "stdout",
     "output_type": "stream",
     "text": [
      "176\n",
      "max_acc: 0.6700103849794597, max_dpd: 0.07780119383333745, min_acc: 0.5000091902473095, min_dpd: 0.0\n",
      "max dist: 1.077191377258991, acc_dist: 0.9339323871758121, dpd_dist: 0.2264088760653095\n",
      "177\n",
      "max_acc: 0.6700103849794597, max_dpd: 0.07780119383333745, min_acc: 0.5000091902473095, min_dpd: 0.0\n",
      "max dist: 1.077191377258991, acc_dist: 0.9339323871758121, dpd_dist: 0.2264088760653095\n"
     ]
    },
    {
     "name": "stderr",
     "output_type": "stream",
     "text": [
      "[I 2025-05-16 19:28:16,011] Trial 0 finished with values: [0.6600144593224337, 0.019736855626624184] and parameters: {'max_depth': 4, 'eta': 0.13388585317920504, 'subsample': 0.8425585114093306, 'colsample_bytree': 0.9802321112985735}.\n",
      "[I 2025-05-16 19:28:16,015] A new study created in memory with name: no-name-1ba8ecb7-f450-44a4-a20e-c9822589b794\n",
      "[I 2025-05-16 19:28:16,167] Trial 0 finished with values: [0.6678644622326787, 0.03828831225371868] and parameters: {'max_depth': 7, 'eta': 0.10769788581089638, 'subsample': 0.6126746970565401, 'colsample_bytree': 0.862667732439288}.\n",
      "[I 2025-05-16 19:28:16,171] A new study created in memory with name: no-name-b3f9f4ae-ed15-4cee-a867-0740439b0d93\n"
     ]
    },
    {
     "name": "stdout",
     "output_type": "stream",
     "text": [
      "178\n",
      "max_acc: 0.6700103849794597, max_dpd: 0.07780119383333745, min_acc: 0.5000091902473095, min_dpd: 0.0\n",
      "max dist: 1.077191377258991, acc_dist: 0.9339323871758121, dpd_dist: 0.2264088760653095\n",
      "179\n",
      "max_acc: 0.6700103849794597, max_dpd: 0.07780119383333745, min_acc: 0.5000091902473095, min_dpd: 0.0\n",
      "max dist: 1.077191377258991, acc_dist: 0.9339323871758121, dpd_dist: 0.2264088760653095\n"
     ]
    },
    {
     "name": "stderr",
     "output_type": "stream",
     "text": [
      "[I 2025-05-16 19:28:16,349] Trial 0 finished with values: [0.6592991517401733, 0.026738298887798356] and parameters: {'max_depth': 3, 'eta': 0.04400960934458673, 'subsample': 0.7661413062120109, 'colsample_bytree': 0.9428618685134966}.\n",
      "[I 2025-05-16 19:28:16,355] A new study created in memory with name: no-name-2a05b03b-cda4-4fea-b89f-1ba588d44e44\n",
      "[I 2025-05-16 19:28:16,544] Trial 0 finished with values: [0.663583338694311, 0.043409140340721346] and parameters: {'max_depth': 6, 'eta': 0.2852245813425175, 'subsample': 0.9408090753183282, 'colsample_bytree': 0.7332657070145284}.\n",
      "[I 2025-05-16 19:28:16,548] A new study created in memory with name: no-name-fe2039bf-0e1d-40c4-878c-ebf822658402\n"
     ]
    },
    {
     "name": "stdout",
     "output_type": "stream",
     "text": [
      "180\n",
      "max_acc: 0.6700103849794597, max_dpd: 0.07780119383333745, min_acc: 0.5000091902473095, min_dpd: 0.0\n",
      "max dist: 1.077191377258991, acc_dist: 0.9339323871758121, dpd_dist: 0.2264088760653095\n",
      "181\n",
      "max_acc: 0.6700103849794597, max_dpd: 0.07780119383333745, min_acc: 0.5000091902473095, min_dpd: 0.0\n",
      "max dist: 1.077191377258991, acc_dist: 0.9339323871758121, dpd_dist: 0.2264088760653095\n"
     ]
    },
    {
     "name": "stderr",
     "output_type": "stream",
     "text": [
      "[I 2025-05-16 19:28:16,753] Trial 0 finished with values: [0.6592991517401733, 0.021984067925178236] and parameters: {'max_depth': 7, 'eta': 0.09412177488502647, 'subsample': 0.6898443175851404, 'colsample_bytree': 0.9722461114810116}.\n",
      "[I 2025-05-16 19:28:16,762] A new study created in memory with name: no-name-0b357cf2-fba3-492f-b08f-b95853310720\n",
      "[I 2025-05-16 19:28:16,924] Trial 0 finished with values: [0.6700134483952297, 0.02045022303154721] and parameters: {'max_depth': 3, 'eta': 0.1555700702666115, 'subsample': 0.9851385794665797, 'colsample_bytree': 0.8430517456427415}.\n",
      "[I 2025-05-16 19:28:16,929] A new study created in memory with name: no-name-668b9bf3-e984-4951-b635-9c4a056cdf6b\n"
     ]
    },
    {
     "name": "stdout",
     "output_type": "stream",
     "text": [
      "182\n",
      "max_acc: 0.6700103849794597, max_dpd: 0.07780119383333745, min_acc: 0.5000091902473095, min_dpd: 0.0\n",
      "max dist: 1.077191377258991, acc_dist: 0.9339323871758121, dpd_dist: 0.2264088760653095\n",
      "183\n",
      "max_acc: 0.6700134483952297, max_dpd: 0.07780119383333745, min_acc: 0.5000091902473095, min_dpd: 0.0\n",
      "max dist: 1.0771757541325098, acc_dist: 0.9338987292256314, dpd_dist: 0.2264088760653095\n"
     ]
    },
    {
     "name": "stderr",
     "output_type": "stream",
     "text": [
      "[I 2025-05-16 19:28:17,133] Trial 0 finished with values: [0.6621527235297903, 0.02819720982519745] and parameters: {'max_depth': 5, 'eta': 0.10445364483531078, 'subsample': 0.9914756725600331, 'colsample_bytree': 0.7987785872702442}.\n",
      "[I 2025-05-16 19:28:17,139] A new study created in memory with name: no-name-760b4206-afe8-402b-9f62-8ced36947aeb\n",
      "[I 2025-05-16 19:28:17,318] Trial 0 finished with values: [0.6542965937880055, 0.03475513710557956] and parameters: {'max_depth': 3, 'eta': 0.047965184244582064, 'subsample': 0.9815180868251709, 'colsample_bytree': 0.9889048883373645}.\n",
      "[I 2025-05-16 19:28:17,325] A new study created in memory with name: no-name-2383a7f1-f709-4617-bda5-dc26e792cd16\n"
     ]
    },
    {
     "name": "stdout",
     "output_type": "stream",
     "text": [
      "184\n",
      "max_acc: 0.6700134483952297, max_dpd: 0.07780119383333745, min_acc: 0.5000091902473095, min_dpd: 0.0\n",
      "max dist: 1.0771757541325098, acc_dist: 0.9338987292256314, dpd_dist: 0.2264088760653095\n",
      "185\n",
      "max_acc: 0.6700134483952297, max_dpd: 0.07780119383333745, min_acc: 0.5000091902473095, min_dpd: 0.0\n",
      "max dist: 1.0771757541325098, acc_dist: 0.9338987292256314, dpd_dist: 0.2264088760653095\n"
     ]
    },
    {
     "name": "stderr",
     "output_type": "stream",
     "text": [
      "[I 2025-05-16 19:28:17,556] Trial 0 finished with values: [0.6600129276145488, 0.025209874376791137] and parameters: {'max_depth': 3, 'eta': 0.040199489733183276, 'subsample': 0.6051850728699393, 'colsample_bytree': 0.9241754095503961}.\n",
      "[I 2025-05-16 19:28:17,562] A new study created in memory with name: no-name-b7007a0b-ab59-4836-8d36-75dbafa4e78f\n",
      "[I 2025-05-16 19:28:17,747] Trial 0 finished with values: [0.6600052690751241, 0.036299744210524294] and parameters: {'max_depth': 5, 'eta': 0.11574601306423779, 'subsample': 0.786422464708761, 'colsample_bytree': 0.6892177677728888}.\n",
      "[I 2025-05-16 19:28:17,751] A new study created in memory with name: no-name-8010b185-b94b-45e0-b8af-f729973fdabf\n"
     ]
    },
    {
     "name": "stdout",
     "output_type": "stream",
     "text": [
      "186\n",
      "max_acc: 0.6700134483952297, max_dpd: 0.07780119383333745, min_acc: 0.5000091902473095, min_dpd: 0.0\n",
      "max dist: 1.0771757541325098, acc_dist: 0.9338987292256314, dpd_dist: 0.2264088760653095\n",
      "187\n",
      "max_acc: 0.6700134483952297, max_dpd: 0.07780119383333745, min_acc: 0.5000091902473095, min_dpd: 0.0\n",
      "max dist: 1.0771757541325098, acc_dist: 0.9338987292256314, dpd_dist: 0.2264088760653095\n"
     ]
    },
    {
     "name": "stderr",
     "output_type": "stream",
     "text": [
      "[I 2025-05-16 19:28:17,951] Trial 0 finished with values: [0.6621527235297903, 0.02912800630259608] and parameters: {'max_depth': 6, 'eta': 0.20595693482012256, 'subsample': 0.7739120103554484, 'colsample_bytree': 0.758744731263732}.\n",
      "[I 2025-05-16 19:28:17,959] A new study created in memory with name: no-name-dde01d3a-b5e1-419e-8e37-7e7ee3333c48\n",
      "[I 2025-05-16 19:28:18,157] Trial 0 finished with values: [0.6585792490342582, 0.03756158714279586] and parameters: {'max_depth': 3, 'eta': 0.13032846333617543, 'subsample': 0.8736242559719034, 'colsample_bytree': 0.6223203599338488}.\n"
     ]
    },
    {
     "name": "stdout",
     "output_type": "stream",
     "text": [
      "188\n",
      "max_acc: 0.6700134483952297, max_dpd: 0.07780119383333745, min_acc: 0.5000091902473095, min_dpd: 0.0\n",
      "max dist: 1.0771757541325098, acc_dist: 0.9338987292256314, dpd_dist: 0.2264088760653095\n"
     ]
    },
    {
     "name": "stderr",
     "output_type": "stream",
     "text": [
      "[I 2025-05-16 19:28:18,162] A new study created in memory with name: no-name-54735e9e-bc89-4e48-ab7c-bc547fa391c0\n"
     ]
    },
    {
     "name": "stdout",
     "output_type": "stream",
     "text": [
      "189\n",
      "max_acc: 0.6700134483952297, max_dpd: 0.07780119383333745, min_acc: 0.5000091902473095, min_dpd: 0.0\n",
      "max dist: 1.0771757541325098, acc_dist: 0.9338987292256314, dpd_dist: 0.2264088760653095\n"
     ]
    },
    {
     "name": "stderr",
     "output_type": "stream",
     "text": [
      "[I 2025-05-16 19:28:18,453] Trial 0 finished with values: [0.6614374159475299, 0.033304895097676424] and parameters: {'max_depth': 7, 'eta': 0.17695856169118127, 'subsample': 0.8313754773671024, 'colsample_bytree': 0.6907454705252409}.\n",
      "[I 2025-05-16 19:28:18,458] A new study created in memory with name: no-name-29afa1a4-75ba-4102-b7b9-867f93e638f3\n"
     ]
    },
    {
     "name": "stdout",
     "output_type": "stream",
     "text": [
      "190\n",
      "max_acc: 0.6700134483952297, max_dpd: 0.07780119383333745, min_acc: 0.5000091902473095, min_dpd: 0.0\n",
      "max dist: 1.0771757541325098, acc_dist: 0.9338987292256314, dpd_dist: 0.2264088760653095\n"
     ]
    },
    {
     "name": "stderr",
     "output_type": "stream",
     "text": [
      "[I 2025-05-16 19:28:18,748] Trial 0 finished with values: [0.6700134483952297, 0.03988789322227703] and parameters: {'max_depth': 5, 'eta': 0.2800178990636433, 'subsample': 0.9714371908030591, 'colsample_bytree': 0.7824356665069626}.\n",
      "[I 2025-05-16 19:28:18,753] A new study created in memory with name: no-name-02c52eca-4a5a-4fc5-80a8-f51e01ab9173\n"
     ]
    },
    {
     "name": "stdout",
     "output_type": "stream",
     "text": [
      "191\n",
      "max_acc: 0.6700134483952297, max_dpd: 0.07780119383333745, min_acc: 0.5000091902473095, min_dpd: 0.0\n",
      "max dist: 1.0771757541325098, acc_dist: 0.9338987292256314, dpd_dist: 0.2264088760653095\n"
     ]
    },
    {
     "name": "stderr",
     "output_type": "stream",
     "text": [
      "[I 2025-05-16 19:28:19,127] Trial 0 finished with values: [0.6600052690751242, 0.04464064286723501] and parameters: {'max_depth': 4, 'eta': 0.22850901856939665, 'subsample': 0.9519898948367673, 'colsample_bytree': 0.6386085734608479}.\n",
      "[I 2025-05-16 19:28:19,132] A new study created in memory with name: no-name-aa7e9da0-7a78-40ab-8dcb-758594646c62\n"
     ]
    },
    {
     "name": "stdout",
     "output_type": "stream",
     "text": [
      "192\n",
      "max_acc: 0.6700134483952297, max_dpd: 0.07780119383333745, min_acc: 0.5000091902473095, min_dpd: 0.0\n",
      "max dist: 1.0771757541325098, acc_dist: 0.9338987292256314, dpd_dist: 0.2264088760653095\n"
     ]
    },
    {
     "name": "stderr",
     "output_type": "stream",
     "text": [
      "[I 2025-05-16 19:28:19,347] Trial 0 finished with values: [0.6614389476554148, 0.03586786186704651] and parameters: {'max_depth': 7, 'eta': 0.2849658585798676, 'subsample': 0.9484050995584254, 'colsample_bytree': 0.8066029971920052}.\n",
      "[I 2025-05-16 19:28:19,353] A new study created in memory with name: no-name-3da8df7c-f5c4-411d-84f5-b2500733b807\n"
     ]
    },
    {
     "name": "stdout",
     "output_type": "stream",
     "text": [
      "193\n",
      "max_acc: 0.6700134483952297, max_dpd: 0.07780119383333745, min_acc: 0.5000091902473095, min_dpd: 0.0\n",
      "max dist: 1.0771757541325098, acc_dist: 0.9338987292256314, dpd_dist: 0.2264088760653095\n"
     ]
    },
    {
     "name": "stderr",
     "output_type": "stream",
     "text": [
      "[I 2025-05-16 19:28:19,947] Trial 0 finished with values: [0.6607297669046941, 0.025912162206529515] and parameters: {'max_depth': 5, 'eta': 0.012342994668316357, 'subsample': 0.6668577736780504, 'colsample_bytree': 0.6260853002894967}.\n",
      "[I 2025-05-16 19:28:19,954] A new study created in memory with name: no-name-e7754b43-30c6-4e37-bd7c-fc1bbe50f7d6\n",
      "[I 2025-05-16 19:28:20,153] Trial 0 finished with values: [0.6643032414002261, 0.027080581094021765] and parameters: {'max_depth': 6, 'eta': 0.2620145605536299, 'subsample': 0.9722980743456895, 'colsample_bytree': 0.8709644425993496}.\n"
     ]
    },
    {
     "name": "stdout",
     "output_type": "stream",
     "text": [
      "194\n",
      "max_acc: 0.6700134483952297, max_dpd: 0.07780119383333745, min_acc: 0.5000091902473095, min_dpd: 0.0\n",
      "max dist: 1.0771757541325098, acc_dist: 0.9338987292256314, dpd_dist: 0.2264088760653095\n"
     ]
    },
    {
     "name": "stderr",
     "output_type": "stream",
     "text": [
      "[I 2025-05-16 19:28:20,158] A new study created in memory with name: no-name-cbdfbde0-b247-4017-8e4e-b87d3c5e548d\n",
      "[I 2025-05-16 19:28:20,348] Trial 0 finished with values: [0.6650154855667166, 0.021664056693105383] and parameters: {'max_depth': 4, 'eta': 0.1040639112282287, 'subsample': 0.9008089250270522, 'colsample_bytree': 0.9395826041690705}.\n",
      "[I 2025-05-16 19:28:20,353] A new study created in memory with name: no-name-662cc8ee-ebea-4546-8040-d3334fc63d26\n"
     ]
    },
    {
     "name": "stdout",
     "output_type": "stream",
     "text": [
      "195\n",
      "max_acc: 0.6700134483952297, max_dpd: 0.07780119383333745, min_acc: 0.5000091902473095, min_dpd: 0.0\n",
      "max dist: 1.0771757541325098, acc_dist: 0.9338987292256314, dpd_dist: 0.2264088760653095\n",
      "196\n",
      "max_acc: 0.6700134483952297, max_dpd: 0.07780119383333745, min_acc: 0.5000091902473095, min_dpd: 0.0\n",
      "max dist: 1.0771757541325098, acc_dist: 0.9338987292256314, dpd_dist: 0.2264088760653095\n"
     ]
    },
    {
     "name": "stderr",
     "output_type": "stream",
     "text": [
      "[I 2025-05-16 19:28:20,513] Trial 0 finished with values: [0.6642971145686863, 0.0338327840455245] and parameters: {'max_depth': 4, 'eta': 0.20949291808236112, 'subsample': 0.7072279252251288, 'colsample_bytree': 0.9886172119376299}.\n",
      "[I 2025-05-16 19:28:20,518] A new study created in memory with name: no-name-3d62e37e-1f4b-4291-8b70-e0bfa27532b2\n",
      "[I 2025-05-16 19:28:20,700] Trial 0 finished with values: [0.6564440482426716, 0.023419068391406162] and parameters: {'max_depth': 4, 'eta': 0.07739762798248649, 'subsample': 0.7368849440076947, 'colsample_bytree': 0.8892133668380693}.\n",
      "[I 2025-05-16 19:28:20,707] A new study created in memory with name: no-name-8c590114-422a-4bd4-886a-cf5c29a0bb14\n"
     ]
    },
    {
     "name": "stdout",
     "output_type": "stream",
     "text": [
      "197\n",
      "max_acc: 0.6700134483952297, max_dpd: 0.07780119383333745, min_acc: 0.5000091902473095, min_dpd: 0.0\n",
      "max dist: 1.0771757541325098, acc_dist: 0.9338987292256314, dpd_dist: 0.2264088760653095\n",
      "198\n",
      "max_acc: 0.6700134483952297, max_dpd: 0.07780119383333745, min_acc: 0.5000091902473095, min_dpd: 0.0\n",
      "max dist: 1.0771757541325098, acc_dist: 0.9338987292256314, dpd_dist: 0.2264088760653095\n"
     ]
    },
    {
     "name": "stderr",
     "output_type": "stream",
     "text": [
      "[I 2025-05-16 19:28:20,942] Trial 0 finished with values: [0.6650170172746016, 0.02931206761893439] and parameters: {'max_depth': 6, 'eta': 0.26971246047709047, 'subsample': 0.9905027314712945, 'colsample_bytree': 0.9043277890797692}.\n",
      "[I 2025-05-16 19:28:20,947] A new study created in memory with name: no-name-f7c46fe8-6faa-44db-8835-c04020b372f6\n"
     ]
    },
    {
     "name": "stdout",
     "output_type": "stream",
     "text": [
      "199\n",
      "max_acc: 0.6700134483952297, max_dpd: 0.07780119383333745, min_acc: 0.5000091902473095, min_dpd: 0.0\n",
      "max dist: 1.0771757541325098, acc_dist: 0.9338987292256314, dpd_dist: 0.2264088760653095\n"
     ]
    },
    {
     "name": "stderr",
     "output_type": "stream",
     "text": [
      "[I 2025-05-16 19:28:21,350] Trial 0 finished with values: [0.6614404793632996, 0.024228029604366142] and parameters: {'max_depth': 6, 'eta': 0.010308063288414146, 'subsample': 0.6975847575336876, 'colsample_bytree': 0.8625354490366721}.\n",
      "[I 2025-05-16 19:28:21,358] A new study created in memory with name: no-name-34fab874-f83c-48b4-8724-d2f1b0477724\n",
      "[I 2025-05-16 19:28:21,550] Trial 0 finished with values: [0.6607267034889243, 0.03481800365806253] and parameters: {'max_depth': 3, 'eta': 0.23249322732842853, 'subsample': 0.766553506084284, 'colsample_bytree': 0.943757094205107}.\n"
     ]
    },
    {
     "name": "stdout",
     "output_type": "stream",
     "text": [
      "200\n",
      "max_acc: 0.6700134483952297, max_dpd: 0.07780119383333745, min_acc: 0.5000091902473095, min_dpd: 0.0\n",
      "max dist: 1.0771757541325098, acc_dist: 0.9338987292256314, dpd_dist: 0.2264088760653095\n",
      "201\n",
      "max_acc: 0.6700134483952297, max_dpd: 0.07780119383333745, min_acc: 0.5000091902473095, min_dpd: 0.0\n",
      "max dist: 1.0771757541325098, acc_dist: 0.9338987292256314, dpd_dist: 0.2264088760653095\n"
     ]
    },
    {
     "name": "stderr",
     "output_type": "stream",
     "text": [
      "[I 2025-05-16 19:28:21,555] A new study created in memory with name: no-name-902ed3bc-0fbe-47e7-a9ca-29495b434cf0\n",
      "[I 2025-05-16 19:28:21,751] Trial 0 finished with values: [0.6607251717810393, 0.03551046578203587] and parameters: {'max_depth': 5, 'eta': 0.21916116417988218, 'subsample': 0.6939217890873985, 'colsample_bytree': 0.75579585548688}.\n",
      "[I 2025-05-16 19:28:21,758] A new study created in memory with name: no-name-2ed27ae9-fce6-43ee-8546-a292363965a5\n",
      "[I 2025-05-16 19:28:21,913] Trial 0 finished with values: [0.6650124221509468, 0.031112599423359626] and parameters: {'max_depth': 4, 'eta': 0.1807810777867446, 'subsample': 0.9185127359175893, 'colsample_bytree': 0.811910674144755}.\n",
      "[I 2025-05-16 19:28:21,918] A new study created in memory with name: no-name-9860b33d-1c67-4091-a283-826564b2e4d3\n"
     ]
    },
    {
     "name": "stdout",
     "output_type": "stream",
     "text": [
      "202\n",
      "max_acc: 0.6700134483952297, max_dpd: 0.07780119383333745, min_acc: 0.5000091902473095, min_dpd: 0.0\n",
      "max dist: 1.0771757541325098, acc_dist: 0.9338987292256314, dpd_dist: 0.2264088760653095\n",
      "203\n",
      "max_acc: 0.6700134483952297, max_dpd: 0.07780119383333745, min_acc: 0.5000091902473095, min_dpd: 0.0\n",
      "max dist: 1.0771757541325098, acc_dist: 0.9338987292256314, dpd_dist: 0.2264088760653095\n"
     ]
    },
    {
     "name": "stderr",
     "output_type": "stream",
     "text": [
      "[I 2025-05-16 19:28:22,329] Trial 0 finished with values: [0.6621542552376751, 0.027540612449052454] and parameters: {'max_depth': 4, 'eta': 0.01088334142242716, 'subsample': 0.7531634692968974, 'colsample_bytree': 0.8371855526998461}.\n",
      "[I 2025-05-16 19:28:22,334] A new study created in memory with name: no-name-ec9d6ded-7fc9-4425-87bf-7e107e7f592d\n"
     ]
    },
    {
     "name": "stdout",
     "output_type": "stream",
     "text": [
      "204\n",
      "max_acc: 0.6700134483952297, max_dpd: 0.07780119383333745, min_acc: 0.5000091902473095, min_dpd: 0.0\n",
      "max dist: 1.0771757541325098, acc_dist: 0.9338987292256314, dpd_dist: 0.2264088760653095\n"
     ]
    },
    {
     "name": "stderr",
     "output_type": "stream",
     "text": [
      "[I 2025-05-16 19:28:22,786] Trial 0 finished with values: [0.6571455704539676, 0.023273608199886286] and parameters: {'max_depth': 3, 'eta': 0.016812939158256227, 'subsample': 0.8097142950336117, 'colsample_bytree': 0.6241726124309757}.\n",
      "[I 2025-05-16 19:28:22,791] A new study created in memory with name: no-name-0323d6be-ba85-4059-b43d-e44811fe6849\n",
      "[I 2025-05-16 19:28:22,956] Trial 0 finished with values: [0.6628680311120506, 0.02603018920872847] and parameters: {'max_depth': 7, 'eta': 0.14861195886931036, 'subsample': 0.675851483687741, 'colsample_bytree': 0.7113783112122383}.\n",
      "[I 2025-05-16 19:28:22,961] A new study created in memory with name: no-name-4ef6614b-0a1a-4da4-9d8c-3068e1d071d5\n"
     ]
    },
    {
     "name": "stdout",
     "output_type": "stream",
     "text": [
      "205\n",
      "max_acc: 0.6700134483952297, max_dpd: 0.07780119383333745, min_acc: 0.5000091902473095, min_dpd: 0.0\n",
      "max dist: 1.0771757541325098, acc_dist: 0.9338987292256314, dpd_dist: 0.2264088760653095\n",
      "206\n",
      "max_acc: 0.6700134483952297, max_dpd: 0.07780119383333745, min_acc: 0.5000091902473095, min_dpd: 0.0\n",
      "max dist: 1.0771757541325098, acc_dist: 0.9338987292256314, dpd_dist: 0.2264088760653095\n"
     ]
    },
    {
     "name": "stderr",
     "output_type": "stream",
     "text": [
      "[I 2025-05-16 19:28:23,309] Trial 0 finished with values: [0.6557226138288715, 0.032519902087241946] and parameters: {'max_depth': 5, 'eta': 0.016480234674836544, 'subsample': 0.8995816553563845, 'colsample_bytree': 0.9358981035848316}.\n",
      "[I 2025-05-16 19:28:23,313] A new study created in memory with name: no-name-debc3a34-ca52-4abb-85f8-b894fce507df\n"
     ]
    },
    {
     "name": "stdout",
     "output_type": "stream",
     "text": [
      "207\n",
      "max_acc: 0.6700134483952297, max_dpd: 0.07780119383333745, min_acc: 0.5000091902473095, min_dpd: 0.0\n",
      "max dist: 1.0771757541325098, acc_dist: 0.9338987292256314, dpd_dist: 0.2264088760653095\n"
     ]
    },
    {
     "name": "stderr",
     "output_type": "stream",
     "text": [
      "[I 2025-05-16 19:28:23,561] Trial 0 finished with values: [0.6542935303722356, 0.028217579724801666] and parameters: {'max_depth': 7, 'eta': 0.04610897601518467, 'subsample': 0.9505082907448792, 'colsample_bytree': 0.8647950911135056}.\n",
      "[I 2025-05-16 19:28:23,570] A new study created in memory with name: no-name-67e4345b-31d7-4e9e-8a13-0c96ef506873\n",
      "[I 2025-05-16 19:28:23,750] Trial 0 finished with values: [0.6685858966464787, 0.0214980964648737] and parameters: {'max_depth': 4, 'eta': 0.13798586429801324, 'subsample': 0.9811076915630641, 'colsample_bytree': 0.8259072381479978}.\n",
      "[I 2025-05-16 19:28:23,760] A new study created in memory with name: no-name-2079022f-4134-4569-8eb0-2ff30d1833b9\n"
     ]
    },
    {
     "name": "stdout",
     "output_type": "stream",
     "text": [
      "208\n",
      "max_acc: 0.6700134483952297, max_dpd: 0.07780119383333745, min_acc: 0.5000091902473095, min_dpd: 0.0\n",
      "max dist: 1.0771757541325098, acc_dist: 0.9338987292256314, dpd_dist: 0.2264088760653095\n",
      "209\n",
      "max_acc: 0.6700134483952297, max_dpd: 0.07780119383333745, min_acc: 0.5000091902473095, min_dpd: 0.0\n",
      "max dist: 1.0771757541325098, acc_dist: 0.9338987292256314, dpd_dist: 0.2264088760653095\n"
     ]
    },
    {
     "name": "stderr",
     "output_type": "stream",
     "text": [
      "[I 2025-05-16 19:28:23,934] Trial 0 finished with values: [0.6578685365756526, 0.020892697206800915] and parameters: {'max_depth': 3, 'eta': 0.1840476958811141, 'subsample': 0.8734019970401963, 'colsample_bytree': 0.92183067454144}.\n",
      "[I 2025-05-16 19:28:23,939] A new study created in memory with name: no-name-dc43e2b3-f3db-4864-ad95-7d5fa9cf7ef1\n",
      "[I 2025-05-16 19:28:24,099] Trial 0 finished with values: [0.6621603820692149, 0.026318082113903973] and parameters: {'max_depth': 3, 'eta': 0.11033742805880652, 'subsample': 0.9358866185088422, 'colsample_bytree': 0.931481283110154}.\n",
      "[I 2025-05-16 19:28:24,103] A new study created in memory with name: no-name-589e2335-e41f-42f0-bf6e-f02ce63cfa12\n"
     ]
    },
    {
     "name": "stdout",
     "output_type": "stream",
     "text": [
      "210\n",
      "max_acc: 0.6700134483952297, max_dpd: 0.07780119383333745, min_acc: 0.5000091902473095, min_dpd: 0.0\n",
      "max dist: 1.0771757541325098, acc_dist: 0.9338987292256314, dpd_dist: 0.2264088760653095\n",
      "211\n",
      "max_acc: 0.6700134483952297, max_dpd: 0.07780119383333745, min_acc: 0.5000091902473095, min_dpd: 0.0\n",
      "max dist: 1.0771757541325098, acc_dist: 0.9338987292256314, dpd_dist: 0.2264088760653095\n"
     ]
    },
    {
     "name": "stderr",
     "output_type": "stream",
     "text": [
      "[I 2025-05-16 19:28:24,271] Trial 0 finished with values: [0.6642986462765713, 0.02116296954760723] and parameters: {'max_depth': 6, 'eta': 0.22584242382815048, 'subsample': 0.7919306293711434, 'colsample_bytree': 0.8472347811820844}.\n",
      "[I 2025-05-16 19:28:24,276] A new study created in memory with name: no-name-b3f9ade1-15ef-49ba-881e-18322b8b82f7\n",
      "[I 2025-05-16 19:28:24,417] Trial 0 finished with values: [0.665007827027292, 0.041123902781097454] and parameters: {'max_depth': 5, 'eta': 0.1603207498483646, 'subsample': 0.7517143429051859, 'colsample_bytree': 0.7646295392740838}.\n",
      "[I 2025-05-16 19:28:24,421] A new study created in memory with name: no-name-e68fca99-7851-4a8c-bf91-0d1ce15fde68\n"
     ]
    },
    {
     "name": "stdout",
     "output_type": "stream",
     "text": [
      "212\n",
      "max_acc: 0.6700134483952297, max_dpd: 0.07780119383333745, min_acc: 0.5000091902473095, min_dpd: 0.0\n",
      "max dist: 1.0771757541325098, acc_dist: 0.9338987292256314, dpd_dist: 0.2264088760653095\n",
      "213\n",
      "max_acc: 0.6700134483952297, max_dpd: 0.07780119383333745, min_acc: 0.5000091902473095, min_dpd: 0.0\n",
      "max dist: 1.0771757541325098, acc_dist: 0.9338987292256314, dpd_dist: 0.2264088760653095\n"
     ]
    },
    {
     "name": "stderr",
     "output_type": "stream",
     "text": [
      "[I 2025-05-16 19:28:24,550] Trial 0 finished with values: [0.6642955828608015, 0.01989914905934943] and parameters: {'max_depth': 3, 'eta': 0.253494083723896, 'subsample': 0.8130867915827953, 'colsample_bytree': 0.8660879643939279}.\n",
      "[I 2025-05-16 19:28:24,555] A new study created in memory with name: no-name-0e3d896e-7c9d-40c8-939e-3e1fa8a3c208\n"
     ]
    },
    {
     "name": "stdout",
     "output_type": "stream",
     "text": [
      "214\n",
      "max_acc: 0.6700134483952297, max_dpd: 0.07780119383333745, min_acc: 0.5000091902473095, min_dpd: 0.0\n",
      "max dist: 1.0771757541325098, acc_dist: 0.9338987292256314, dpd_dist: 0.2264088760653095\n"
     ]
    },
    {
     "name": "stderr",
     "output_type": "stream",
     "text": [
      "[I 2025-05-16 19:28:24,792] Trial 0 finished with values: [0.6614420110711846, 0.028346324747682422] and parameters: {'max_depth': 3, 'eta': 0.03257447563750085, 'subsample': 0.7219073487212578, 'colsample_bytree': 0.8802283965329684}.\n",
      "[I 2025-05-16 19:28:24,797] A new study created in memory with name: no-name-2d22f578-d640-491b-98a9-e9d1f57c41ac\n",
      "[I 2025-05-16 19:28:24,955] Trial 0 finished with values: [0.665009358735177, 0.04629367902212814] and parameters: {'max_depth': 6, 'eta': 0.29137522337286337, 'subsample': 0.9672713184424935, 'colsample_bytree': 0.700829816175695}.\n",
      "[I 2025-05-16 19:28:24,959] A new study created in memory with name: no-name-975b1a76-82a1-4c82-b6b4-87c134b3c0ae\n"
     ]
    },
    {
     "name": "stdout",
     "output_type": "stream",
     "text": [
      "215\n",
      "max_acc: 0.6700134483952297, max_dpd: 0.07780119383333745, min_acc: 0.5000091902473095, min_dpd: 0.0\n",
      "max dist: 1.0771757541325098, acc_dist: 0.9338987292256314, dpd_dist: 0.2264088760653095\n",
      "216\n",
      "max_acc: 0.6700134483952297, max_dpd: 0.07780119383333745, min_acc: 0.5000091902473095, min_dpd: 0.0\n",
      "max dist: 1.0771757541325098, acc_dist: 0.9338987292256314, dpd_dist: 0.2264088760653095\n"
     ]
    },
    {
     "name": "stderr",
     "output_type": "stream",
     "text": [
      "[I 2025-05-16 19:28:25,120] Trial 0 finished with values: [0.6621450649903656, 0.04810556110475983] and parameters: {'max_depth': 4, 'eta': 0.2794826031917406, 'subsample': 0.9099629220090466, 'colsample_bytree': 0.983103824950727}.\n",
      "[I 2025-05-16 19:28:25,125] A new study created in memory with name: no-name-8e551477-6ac4-4382-81e3-9984693351d2\n",
      "[I 2025-05-16 19:28:25,270] Trial 0 finished with values: [0.6628756896514753, 0.0193166388527298] and parameters: {'max_depth': 3, 'eta': 0.15712058976821308, 'subsample': 0.9917735024781391, 'colsample_bytree': 0.887604904411694}.\n",
      "[I 2025-05-16 19:28:25,275] A new study created in memory with name: no-name-25f6637f-78e5-4ca2-af01-298ab5765afd\n"
     ]
    },
    {
     "name": "stdout",
     "output_type": "stream",
     "text": [
      "217\n",
      "max_acc: 0.6700134483952297, max_dpd: 0.07780119383333745, min_acc: 0.5000091902473095, min_dpd: 0.0\n",
      "max dist: 1.0771757541325098, acc_dist: 0.9338987292256314, dpd_dist: 0.2264088760653095\n",
      "218\n",
      "max_acc: 0.6700134483952297, max_dpd: 0.07780119383333745, min_acc: 0.5000091902473095, min_dpd: 0.0\n",
      "max dist: 1.0771757541325098, acc_dist: 0.9338987292256314, dpd_dist: 0.2264088760653095\n"
     ]
    },
    {
     "name": "stderr",
     "output_type": "stream",
     "text": [
      "[I 2025-05-16 19:28:25,436] Trial 0 finished with values: [0.6635802752785411, 0.024023136154862606] and parameters: {'max_depth': 5, 'eta': 0.23947092210825052, 'subsample': 0.9698933826440272, 'colsample_bytree': 0.7591657763525634}.\n",
      "[I 2025-05-16 19:28:25,440] A new study created in memory with name: no-name-46b7b81c-1ea8-4f9a-8d92-9e3c01a02e6f\n",
      "[I 2025-05-16 19:28:25,618] Trial 0 finished with values: [0.6592991517401733, 0.026738298887798356] and parameters: {'max_depth': 7, 'eta': 0.02790859255441617, 'subsample': 0.7845895408381998, 'colsample_bytree': 0.9653629924130999}.\n",
      "[I 2025-05-16 19:28:25,622] A new study created in memory with name: no-name-b4cf1043-9570-470d-9ebb-377307dff6c5\n"
     ]
    },
    {
     "name": "stdout",
     "output_type": "stream",
     "text": [
      "219\n",
      "max_acc: 0.6700134483952297, max_dpd: 0.07780119383333745, min_acc: 0.5000091902473095, min_dpd: 0.0\n",
      "max dist: 1.0771757541325098, acc_dist: 0.9338987292256314, dpd_dist: 0.2264088760653095\n",
      "220\n",
      "max_acc: 0.6700134483952297, max_dpd: 0.07780119383333745, min_acc: 0.5000091902473095, min_dpd: 0.0\n",
      "max dist: 1.0771757541325098, acc_dist: 0.9338987292256314, dpd_dist: 0.2264088760653095\n"
     ]
    },
    {
     "name": "stderr",
     "output_type": "stream",
     "text": [
      "[I 2025-05-16 19:28:25,895] Trial 0 finished with values: [0.6642894560292617, 0.04087669371811358] and parameters: {'max_depth': 4, 'eta': 0.24922775134098413, 'subsample': 0.7926295468859454, 'colsample_bytree': 0.6599167321992634}.\n",
      "[I 2025-05-16 19:28:25,901] A new study created in memory with name: no-name-ae73c379-c150-41a9-b082-fd33068c5381\n",
      "[I 2025-05-16 19:28:26,058] Trial 0 finished with values: [0.6578670048677676, 0.026739020363268223] and parameters: {'max_depth': 4, 'eta': 0.2826648841026656, 'subsample': 0.8419430362436058, 'colsample_bytree': 0.922586565687276}.\n",
      "[I 2025-05-16 19:28:26,062] A new study created in memory with name: no-name-798c6782-195e-41ca-8494-5696eaa28d03\n"
     ]
    },
    {
     "name": "stdout",
     "output_type": "stream",
     "text": [
      "221\n",
      "max_acc: 0.6700134483952297, max_dpd: 0.07780119383333745, min_acc: 0.5000091902473095, min_dpd: 0.0\n",
      "max dist: 1.0771757541325098, acc_dist: 0.9338987292256314, dpd_dist: 0.2264088760653095\n",
      "222\n",
      "max_acc: 0.6700134483952297, max_dpd: 0.07780119383333745, min_acc: 0.5000091902473095, min_dpd: 0.0\n",
      "max dist: 1.0771757541325098, acc_dist: 0.9338987292256314, dpd_dist: 0.2264088760653095\n"
     ]
    },
    {
     "name": "stderr",
     "output_type": "stream",
     "text": [
      "[I 2025-05-16 19:28:26,268] Trial 0 finished with values: [0.6592930249086336, 0.033084435357200424] and parameters: {'max_depth': 3, 'eta': 0.0350097312141204, 'subsample': 0.9562113710324678, 'colsample_bytree': 0.7901309733011697}.\n",
      "[I 2025-05-16 19:28:26,272] A new study created in memory with name: no-name-7a8f19d8-9bd4-4563-82a2-17f84051227c\n",
      "[I 2025-05-16 19:28:26,438] Trial 0 finished with values: [0.6650108904430617, 0.05032193745911397] and parameters: {'max_depth': 7, 'eta': 0.2023847250363949, 'subsample': 0.9749751864162797, 'colsample_bytree': 0.6075456962729421}.\n",
      "[I 2025-05-16 19:28:26,442] A new study created in memory with name: no-name-3b14605f-3921-4906-b590-375520e9ea49\n"
     ]
    },
    {
     "name": "stdout",
     "output_type": "stream",
     "text": [
      "223\n",
      "max_acc: 0.6700134483952297, max_dpd: 0.07780119383333745, min_acc: 0.5000091902473095, min_dpd: 0.0\n",
      "max dist: 1.0771757541325098, acc_dist: 0.9338987292256314, dpd_dist: 0.2264088760653095\n",
      "224\n",
      "max_acc: 0.6700134483952297, max_dpd: 0.07780119383333745, min_acc: 0.5000091902473095, min_dpd: 0.0\n",
      "max dist: 1.0771757541325098, acc_dist: 0.9338987292256314, dpd_dist: 0.2264088760653095\n"
     ]
    },
    {
     "name": "stderr",
     "output_type": "stream",
     "text": [
      "[I 2025-05-16 19:28:26,640] Trial 0 finished with values: [0.6600129276145488, 0.02305933674238254] and parameters: {'max_depth': 7, 'eta': 0.09913551607423837, 'subsample': 0.6150345489808536, 'colsample_bytree': 0.9158220864705817}.\n",
      "[I 2025-05-16 19:28:26,644] A new study created in memory with name: no-name-9150fe28-787c-4a47-a81e-74e774df4998\n",
      "[I 2025-05-16 19:28:26,809] Trial 0 finished with values: [0.6585853758657979, 0.022305564423115015] and parameters: {'max_depth': 6, 'eta': 0.060133096263806356, 'subsample': 0.7548763660254111, 'colsample_bytree': 0.9446758905575557}.\n",
      "[I 2025-05-16 19:28:26,812] A new study created in memory with name: no-name-30cf6c31-533c-4fd5-8e6a-301ae9f1bc18\n"
     ]
    },
    {
     "name": "stdout",
     "output_type": "stream",
     "text": [
      "225\n",
      "max_acc: 0.6700134483952297, max_dpd: 0.07780119383333745, min_acc: 0.5000091902473095, min_dpd: 0.0\n",
      "max dist: 1.0771757541325098, acc_dist: 0.9338987292256314, dpd_dist: 0.2264088760653095\n",
      "226\n",
      "max_acc: 0.6700134483952297, max_dpd: 0.07780119383333745, min_acc: 0.5000091902473095, min_dpd: 0.0\n",
      "max dist: 1.0771757541325098, acc_dist: 0.9338987292256314, dpd_dist: 0.2264088760653095\n"
     ]
    },
    {
     "name": "stderr",
     "output_type": "stream",
     "text": [
      "[I 2025-05-16 19:28:26,998] Trial 0 finished with values: [0.6657231346095523, 0.039437062160584645] and parameters: {'max_depth': 6, 'eta': 0.1322282138111168, 'subsample': 0.6231451717461627, 'colsample_bytree': 0.9429949072823427}.\n",
      "[I 2025-05-16 19:28:27,003] A new study created in memory with name: no-name-0c35bf77-97df-4483-b071-1a1ee9b0aaef\n",
      "[I 2025-05-16 19:28:27,149] Trial 0 finished with values: [0.6628710945278204, 0.046189595329719994] and parameters: {'max_depth': 4, 'eta': 0.24157743870124912, 'subsample': 0.6096738230783956, 'colsample_bytree': 0.7235681285810739}.\n",
      "[I 2025-05-16 19:28:27,154] A new study created in memory with name: no-name-9c77b9a5-1dbb-4637-b3ad-4a0b86424692\n"
     ]
    },
    {
     "name": "stdout",
     "output_type": "stream",
     "text": [
      "227\n",
      "max_acc: 0.6700134483952297, max_dpd: 0.07780119383333745, min_acc: 0.5000091902473095, min_dpd: 0.0\n",
      "max dist: 1.0771757541325098, acc_dist: 0.9338987292256314, dpd_dist: 0.2264088760653095\n",
      "228\n",
      "max_acc: 0.6700134483952297, max_dpd: 0.07780119383333745, min_acc: 0.5000091902473095, min_dpd: 0.0\n",
      "max dist: 1.0771757541325098, acc_dist: 0.9338987292256314, dpd_dist: 0.2264088760653095\n"
     ]
    },
    {
     "name": "stderr",
     "output_type": "stream",
     "text": [
      "[I 2025-05-16 19:28:27,316] Trial 0 finished with values: [0.6614435427790696, 0.027461674844291156] and parameters: {'max_depth': 6, 'eta': 0.23416938689321717, 'subsample': 0.8640348667240383, 'colsample_bytree': 0.9190129570094694}.\n",
      "[I 2025-05-16 19:28:27,321] A new study created in memory with name: no-name-13ef5cda-dbaa-49bd-b43b-9a830dae7899\n",
      "[I 2025-05-16 19:28:27,464] Trial 0 finished with values: [0.663583338694311, 0.026963902264030736] and parameters: {'max_depth': 6, 'eta': 0.14944429910447152, 'subsample': 0.6226266088353872, 'colsample_bytree': 0.708064903633981}.\n",
      "[I 2025-05-16 19:28:27,471] A new study created in memory with name: no-name-9b783219-6142-4795-9013-dccfc009125c\n"
     ]
    },
    {
     "name": "stdout",
     "output_type": "stream",
     "text": [
      "229\n",
      "max_acc: 0.6700134483952297, max_dpd: 0.07780119383333745, min_acc: 0.5000091902473095, min_dpd: 0.0\n",
      "max dist: 1.0771757541325098, acc_dist: 0.9338987292256314, dpd_dist: 0.2264088760653095\n",
      "230\n",
      "max_acc: 0.6700134483952297, max_dpd: 0.07780119383333745, min_acc: 0.5000091902473095, min_dpd: 0.0\n",
      "max dist: 1.0771757541325098, acc_dist: 0.9338987292256314, dpd_dist: 0.2264088760653095\n"
     ]
    },
    {
     "name": "stderr",
     "output_type": "stream",
     "text": [
      "[I 2025-05-16 19:28:27,673] Trial 0 finished with values: [0.6664369104839278, 0.02977337598554673] and parameters: {'max_depth': 5, 'eta': 0.2572857570976169, 'subsample': 0.9660792637075757, 'colsample_bytree': 0.9310244107904803}.\n",
      "[I 2025-05-16 19:28:27,677] A new study created in memory with name: no-name-37298188-e715-44d7-9b78-680e0b7ac152\n",
      "[I 2025-05-16 19:28:27,858] Trial 0 finished with values: [0.662157318653445, 0.0272824735646284] and parameters: {'max_depth': 5, 'eta': 0.14861797319490336, 'subsample': 0.9346595336517868, 'colsample_bytree': 0.8582013085252309}.\n",
      "[I 2025-05-16 19:28:27,862] A new study created in memory with name: no-name-72cc424b-30e4-44f8-89de-ac43fe2cb3eb\n"
     ]
    },
    {
     "name": "stdout",
     "output_type": "stream",
     "text": [
      "231\n",
      "max_acc: 0.6700134483952297, max_dpd: 0.07780119383333745, min_acc: 0.5000091902473095, min_dpd: 0.0\n",
      "max dist: 1.0771757541325098, acc_dist: 0.9338987292256314, dpd_dist: 0.2264088760653095\n",
      "232\n",
      "max_acc: 0.6700134483952297, max_dpd: 0.07780119383333745, min_acc: 0.5000091902473095, min_dpd: 0.0\n",
      "max dist: 1.0771757541325098, acc_dist: 0.9338987292256314, dpd_dist: 0.2264088760653095\n"
     ]
    },
    {
     "name": "stderr",
     "output_type": "stream",
     "text": [
      "[I 2025-05-16 19:28:28,082] Trial 0 finished with values: [0.6585807807421431, 0.025291952091565706] and parameters: {'max_depth': 6, 'eta': 0.1785690917457376, 'subsample': 0.9454527244444728, 'colsample_bytree': 0.9872871677604251}.\n",
      "[I 2025-05-16 19:28:28,091] A new study created in memory with name: no-name-4a152a18-d4a9-49fa-b216-ab925a4c0521\n",
      "[I 2025-05-16 19:28:28,282] Trial 0 finished with values: [0.6642986462765713, 0.033132511117306356] and parameters: {'max_depth': 4, 'eta': 0.06662607656851736, 'subsample': 0.8712375809714605, 'colsample_bytree': 0.824957674746409}.\n",
      "[I 2025-05-16 19:28:28,288] A new study created in memory with name: no-name-813ec2b1-75d1-4d32-bbdb-ec7e163261c8\n"
     ]
    },
    {
     "name": "stdout",
     "output_type": "stream",
     "text": [
      "233\n",
      "max_acc: 0.6700134483952297, max_dpd: 0.07780119383333745, min_acc: 0.5000091902473095, min_dpd: 0.0\n",
      "max dist: 1.0771757541325098, acc_dist: 0.9338987292256314, dpd_dist: 0.2264088760653095\n",
      "234\n",
      "max_acc: 0.6700134483952297, max_dpd: 0.07780119383333745, min_acc: 0.5000091902473095, min_dpd: 0.0\n",
      "max dist: 1.0771757541325098, acc_dist: 0.9338987292256314, dpd_dist: 0.2264088760653095\n"
     ]
    },
    {
     "name": "stderr",
     "output_type": "stream",
     "text": [
      "[I 2025-05-16 19:28:28,432] Trial 0 finished with values: [0.6593037468638281, 0.022853969752842252] and parameters: {'max_depth': 4, 'eta': 0.2044825861235318, 'subsample': 0.6520296393247763, 'colsample_bytree': 0.9559420665882268}.\n",
      "[I 2025-05-16 19:28:28,437] A new study created in memory with name: no-name-0b1c556d-8a05-4ea2-8f66-4ce51f5f7902\n",
      "[I 2025-05-16 19:28:28,638] Trial 0 finished with values: [0.6564348579953619, 0.03508498724163536] and parameters: {'max_depth': 5, 'eta': 0.04198066902932741, 'subsample': 0.9321568729393593, 'colsample_bytree': 0.7190228334526964}.\n"
     ]
    },
    {
     "name": "stdout",
     "output_type": "stream",
     "text": [
      "235\n",
      "max_acc: 0.6700134483952297, max_dpd: 0.07780119383333745, min_acc: 0.5000091902473095, min_dpd: 0.0\n",
      "max dist: 1.0771757541325098, acc_dist: 0.9338987292256314, dpd_dist: 0.2264088760653095\n"
     ]
    },
    {
     "name": "stderr",
     "output_type": "stream",
     "text": [
      "[I 2025-05-16 19:28:28,642] A new study created in memory with name: no-name-ba430405-f464-4950-ae3c-81c4c4816694\n"
     ]
    },
    {
     "name": "stdout",
     "output_type": "stream",
     "text": [
      "236\n",
      "max_acc: 0.6700134483952297, max_dpd: 0.07780119383333745, min_acc: 0.5000091902473095, min_dpd: 0.0\n",
      "max dist: 1.0771757541325098, acc_dist: 0.9338987292256314, dpd_dist: 0.2264088760653095\n"
     ]
    },
    {
     "name": "stderr",
     "output_type": "stream",
     "text": [
      "[I 2025-05-16 19:28:28,853] Trial 0 finished with values: [0.6700103849794597, 0.025925420538980587] and parameters: {'max_depth': 6, 'eta': 0.20286742592718324, 'subsample': 0.9444855867077767, 'colsample_bytree': 0.8157785519164084}.\n",
      "[I 2025-05-16 19:28:28,857] A new study created in memory with name: no-name-0ca83aeb-3e75-4618-9f5f-aee0b588cb88\n"
     ]
    },
    {
     "name": "stdout",
     "output_type": "stream",
     "text": [
      "237\n",
      "max_acc: 0.6700134483952297, max_dpd: 0.07780119383333745, min_acc: 0.5000091902473095, min_dpd: 0.0\n",
      "max dist: 1.0771757541325098, acc_dist: 0.9338987292256314, dpd_dist: 0.2264088760653095\n"
     ]
    },
    {
     "name": "stderr",
     "output_type": "stream",
     "text": [
      "[I 2025-05-16 19:28:29,136] Trial 0 finished with values: [0.667153749774073, 0.04386142824745106] and parameters: {'max_depth': 5, 'eta': 0.2916945487715208, 'subsample': 0.7965956886129208, 'colsample_bytree': 0.7030646295727415}.\n",
      "[I 2025-05-16 19:28:29,141] A new study created in memory with name: no-name-d27650ce-44d4-4695-9ab9-c58c84f530f4\n"
     ]
    },
    {
     "name": "stdout",
     "output_type": "stream",
     "text": [
      "238\n",
      "max_acc: 0.6700134483952297, max_dpd: 0.07780119383333745, min_acc: 0.5000091902473095, min_dpd: 0.0\n",
      "max dist: 1.0771757541325098, acc_dist: 0.9338987292256314, dpd_dist: 0.2264088760653095\n"
     ]
    },
    {
     "name": "stderr",
     "output_type": "stream",
     "text": [
      "[I 2025-05-16 19:28:29,508] Trial 0 finished with values: [0.6571501655776224, 0.037115013519092514] and parameters: {'max_depth': 5, 'eta': 0.06235498676066763, 'subsample': 0.889858359867201, 'colsample_bytree': 0.689694930947476}.\n",
      "[I 2025-05-16 19:28:29,513] A new study created in memory with name: no-name-9efbe5a5-a48b-469e-93f8-f52ef1c3981a\n",
      "[I 2025-05-16 19:28:29,674] Trial 0 finished with values: [0.6614420110711846, 0.034659223052809884] and parameters: {'max_depth': 3, 'eta': 0.08792034347035878, 'subsample': 0.6553229005967915, 'colsample_bytree': 0.6452465564380684}.\n",
      "[I 2025-05-16 19:28:29,678] A new study created in memory with name: no-name-7e8b8b6b-7434-49c3-9935-9fe91f29b450\n"
     ]
    },
    {
     "name": "stdout",
     "output_type": "stream",
     "text": [
      "239\n",
      "max_acc: 0.6700134483952297, max_dpd: 0.07780119383333745, min_acc: 0.5000091902473095, min_dpd: 0.0\n",
      "max dist: 1.0771757541325098, acc_dist: 0.9338987292256314, dpd_dist: 0.2264088760653095\n",
      "240\n",
      "max_acc: 0.6700134483952297, max_dpd: 0.07780119383333745, min_acc: 0.5000091902473095, min_dpd: 0.0\n",
      "max dist: 1.0771757541325098, acc_dist: 0.9338987292256314, dpd_dist: 0.2264088760653095\n"
     ]
    },
    {
     "name": "stderr",
     "output_type": "stream",
     "text": [
      "[I 2025-05-16 19:28:29,835] Trial 0 finished with values: [0.6642955828608015, 0.036229005703450966] and parameters: {'max_depth': 7, 'eta': 0.1140739173397565, 'subsample': 0.667685256511692, 'colsample_bytree': 0.858041841217011}.\n",
      "[I 2025-05-16 19:28:29,839] A new study created in memory with name: no-name-caeabbbb-77a5-47e0-97b5-ed41e02331d7\n",
      "[I 2025-05-16 19:28:29,972] Trial 0 finished with values: [0.668579769814939, 0.02927100594417505] and parameters: {'max_depth': 3, 'eta': 0.19484608134897957, 'subsample': 0.7110590211537201, 'colsample_bytree': 0.6568033722999881}.\n",
      "[I 2025-05-16 19:28:29,976] A new study created in memory with name: no-name-41a7b99c-1432-468d-8c64-77b0481098a3\n"
     ]
    },
    {
     "name": "stdout",
     "output_type": "stream",
     "text": [
      "241\n",
      "max_acc: 0.6700134483952297, max_dpd: 0.07780119383333745, min_acc: 0.5000091902473095, min_dpd: 0.0\n",
      "max dist: 1.0771757541325098, acc_dist: 0.9338987292256314, dpd_dist: 0.2264088760653095\n",
      "242\n",
      "max_acc: 0.6700134483952297, max_dpd: 0.07780119383333745, min_acc: 0.5000091902473095, min_dpd: 0.0\n",
      "max dist: 1.0771757541325098, acc_dist: 0.9338987292256314, dpd_dist: 0.2264088760653095\n"
     ]
    },
    {
     "name": "stderr",
     "output_type": "stream",
     "text": [
      "[I 2025-05-16 19:28:30,129] Trial 0 finished with values: [0.663580275278541, 0.03682282751228024] and parameters: {'max_depth': 4, 'eta': 0.17901042154214275, 'subsample': 0.7717133752417618, 'colsample_bytree': 0.7860029005035746}.\n",
      "[I 2025-05-16 19:28:30,135] A new study created in memory with name: no-name-6e9f1e63-0fea-41d2-985d-40e387627e59\n",
      "[I 2025-05-16 19:28:30,297] Trial 0 finished with values: [0.6607297669046941, 0.02615868954449573] and parameters: {'max_depth': 7, 'eta': 0.05973976645460544, 'subsample': 0.8864235297488843, 'colsample_bytree': 0.9998504463756387}.\n",
      "[I 2025-05-16 19:28:30,301] A new study created in memory with name: no-name-62f452bd-0fa9-429a-aae7-b2d231840b58\n"
     ]
    },
    {
     "name": "stdout",
     "output_type": "stream",
     "text": [
      "243\n",
      "max_acc: 0.6700134483952297, max_dpd: 0.07780119383333745, min_acc: 0.5000091902473095, min_dpd: 0.0\n",
      "max dist: 1.0771757541325098, acc_dist: 0.9338987292256314, dpd_dist: 0.2264088760653095\n",
      "244\n",
      "max_acc: 0.6700134483952297, max_dpd: 0.07780119383333745, min_acc: 0.5000091902473095, min_dpd: 0.0\n",
      "max dist: 1.0771757541325098, acc_dist: 0.9338987292256314, dpd_dist: 0.2264088760653095\n"
     ]
    },
    {
     "name": "stderr",
     "output_type": "stream",
     "text": [
      "[I 2025-05-16 19:28:30,450] Trial 0 finished with values: [0.6607251717810393, 0.044623553574256895] and parameters: {'max_depth': 4, 'eta': 0.20430224100854372, 'subsample': 0.9161754590309987, 'colsample_bytree': 0.7297154054850629}.\n",
      "[I 2025-05-16 19:28:30,455] A new study created in memory with name: no-name-93d7350f-f307-43ac-9bf2-32b40f98ca2c\n",
      "[I 2025-05-16 19:28:30,583] Trial 0 finished with values: [0.6650108904430619, 0.035510595126810124] and parameters: {'max_depth': 3, 'eta': 0.2458336442003753, 'subsample': 0.6777835207322933, 'colsample_bytree': 0.6782753725858482}.\n",
      "[I 2025-05-16 19:28:30,586] A new study created in memory with name: no-name-0ad92d8a-3ba0-4534-800c-249e4a9296c3\n"
     ]
    },
    {
     "name": "stdout",
     "output_type": "stream",
     "text": [
      "245\n",
      "max_acc: 0.6700134483952297, max_dpd: 0.07780119383333745, min_acc: 0.5000091902473095, min_dpd: 0.0\n",
      "max dist: 1.0771757541325098, acc_dist: 0.9338987292256314, dpd_dist: 0.2264088760653095\n",
      "246\n",
      "max_acc: 0.6700134483952297, max_dpd: 0.07780119383333745, min_acc: 0.5000091902473095, min_dpd: 0.0\n",
      "max dist: 1.0771757541325098, acc_dist: 0.9338987292256314, dpd_dist: 0.2264088760653095\n"
     ]
    },
    {
     "name": "stderr",
     "output_type": "stream",
     "text": [
      "[I 2025-05-16 19:28:30,744] Trial 0 finished with values: [0.6628680311120506, 0.030796944700665584] and parameters: {'max_depth': 5, 'eta': 0.06498682062660886, 'subsample': 0.9493569038518274, 'colsample_bytree': 0.7635390472788779}.\n",
      "[I 2025-05-16 19:28:30,749] A new study created in memory with name: no-name-9b5fd28a-b2ee-4712-8ee7-8bbebf8eb333\n",
      "[I 2025-05-16 19:28:30,900] Trial 0 finished with values: [0.6614374159475299, 0.028947657816035033] and parameters: {'max_depth': 4, 'eta': 0.09203818475775351, 'subsample': 0.7231907820153971, 'colsample_bytree': 0.7160175169823253}.\n",
      "[I 2025-05-16 19:28:30,904] A new study created in memory with name: no-name-c64a4855-83f3-4a72-bc00-853160e8e0ed\n"
     ]
    },
    {
     "name": "stdout",
     "output_type": "stream",
     "text": [
      "247\n",
      "max_acc: 0.6700134483952297, max_dpd: 0.07780119383333745, min_acc: 0.5000091902473095, min_dpd: 0.0\n",
      "max dist: 1.0771757541325098, acc_dist: 0.9338987292256314, dpd_dist: 0.2264088760653095\n",
      "248\n",
      "max_acc: 0.6700134483952297, max_dpd: 0.07780119383333745, min_acc: 0.5000091902473095, min_dpd: 0.0\n",
      "max dist: 1.0771757541325098, acc_dist: 0.9338987292256314, dpd_dist: 0.2264088760653095\n"
     ]
    },
    {
     "name": "stderr",
     "output_type": "stream",
     "text": [
      "[I 2025-05-16 19:28:31,108] Trial 0 finished with values: [0.6642955828608015, 0.033436751079596434] and parameters: {'max_depth': 4, 'eta': 0.21909922525805622, 'subsample': 0.7392046718763696, 'colsample_bytree': 0.7017555701837151}.\n",
      "[I 2025-05-16 19:28:31,113] A new study created in memory with name: no-name-a55607d9-bb07-467e-a35c-21770df3bb52\n",
      "[I 2025-05-16 19:28:31,289] Trial 0 finished with values: [0.665009358735177, 0.04256970714298256] and parameters: {'max_depth': 4, 'eta': 0.1321760739965565, 'subsample': 0.659430620721757, 'colsample_bytree': 0.8138542988129571}.\n",
      "[I 2025-05-16 19:28:31,293] A new study created in memory with name: no-name-89099e0d-e6a0-48c8-98ee-cc2a21e4d31a\n"
     ]
    },
    {
     "name": "stdout",
     "output_type": "stream",
     "text": [
      "249\n",
      "max_acc: 0.6700134483952297, max_dpd: 0.07780119383333745, min_acc: 0.5000091902473095, min_dpd: 0.0\n",
      "max dist: 1.0771757541325098, acc_dist: 0.9338987292256314, dpd_dist: 0.2264088760653095\n",
      "250\n",
      "max_acc: 0.6700134483952297, max_dpd: 0.07780119383333745, min_acc: 0.5000091902473095, min_dpd: 0.0\n",
      "max dist: 1.0771757541325098, acc_dist: 0.9338987292256314, dpd_dist: 0.2264088760653095\n"
     ]
    },
    {
     "name": "stderr",
     "output_type": "stream",
     "text": [
      "[I 2025-05-16 19:28:31,451] Trial 0 finished with values: [0.6628634359883958, 0.04728112569251891] and parameters: {'max_depth': 6, 'eta': 0.29349523876364847, 'subsample': 0.9425934072993867, 'colsample_bytree': 0.7088088423132657}.\n",
      "[I 2025-05-16 19:28:31,455] A new study created in memory with name: no-name-f550e94e-afef-4af1-8b80-63793c907ece\n",
      "[I 2025-05-16 19:28:31,611] Trial 0 finished with values: [0.6671506863583033, 0.026090533137104317] and parameters: {'max_depth': 6, 'eta': 0.29601256424781025, 'subsample': 0.805266612811347, 'colsample_bytree': 0.6570199856002444}.\n",
      "[I 2025-05-16 19:28:31,620] A new study created in memory with name: no-name-e5d535ca-3ec1-435a-8f44-f5e5736aed49\n"
     ]
    },
    {
     "name": "stdout",
     "output_type": "stream",
     "text": [
      "251\n",
      "max_acc: 0.6700134483952297, max_dpd: 0.07780119383333745, min_acc: 0.5000091902473095, min_dpd: 0.0\n",
      "max dist: 1.0771757541325098, acc_dist: 0.9338987292256314, dpd_dist: 0.2264088760653095\n",
      "252\n",
      "max_acc: 0.6700134483952297, max_dpd: 0.07780119383333745, min_acc: 0.5000091902473095, min_dpd: 0.0\n",
      "max dist: 1.0771757541325098, acc_dist: 0.9338987292256314, dpd_dist: 0.2264088760653095\n"
     ]
    },
    {
     "name": "stderr",
     "output_type": "stream",
     "text": [
      "[I 2025-05-16 19:28:31,775] Trial 0 finished with values: [0.6628680311120506, 0.020095383203946493] and parameters: {'max_depth': 7, 'eta': 0.20679301974504624, 'subsample': 0.6404226092488476, 'colsample_bytree': 0.9050045626822749}.\n",
      "[I 2025-05-16 19:28:31,781] A new study created in memory with name: no-name-3266c01f-2651-4760-8401-e3e3f86c7c04\n"
     ]
    },
    {
     "name": "stdout",
     "output_type": "stream",
     "text": [
      "253\n",
      "max_acc: 0.6700134483952297, max_dpd: 0.07780119383333745, min_acc: 0.5000091902473095, min_dpd: 0.0\n",
      "max dist: 1.0771757541325098, acc_dist: 0.9338987292256314, dpd_dist: 0.2264088760653095\n"
     ]
    },
    {
     "name": "stderr",
     "output_type": "stream",
     "text": [
      "[I 2025-05-16 19:28:32,001] Trial 0 finished with values: [0.6664384421918127, 0.03570254034191073] and parameters: {'max_depth': 6, 'eta': 0.2218469365664464, 'subsample': 0.6213986339157808, 'colsample_bytree': 0.8684569200469288}.\n",
      "[I 2025-05-16 19:28:32,006] A new study created in memory with name: no-name-59fcbbc9-49db-462f-978f-d86a89ec5dfd\n",
      "[I 2025-05-16 19:28:32,183] Trial 0 finished with values: [0.6657246663174372, 0.03656114340820538] and parameters: {'max_depth': 3, 'eta': 0.2679860678120806, 'subsample': 0.6089004913533969, 'colsample_bytree': 0.9683207828767231}.\n",
      "[I 2025-05-16 19:28:32,186] A new study created in memory with name: no-name-976867f2-7631-45e0-a48b-e1bdb5208dd8\n"
     ]
    },
    {
     "name": "stdout",
     "output_type": "stream",
     "text": [
      "254\n",
      "max_acc: 0.6700134483952297, max_dpd: 0.07780119383333745, min_acc: 0.5000091902473095, min_dpd: 0.0\n",
      "max dist: 1.0771757541325098, acc_dist: 0.9338987292256314, dpd_dist: 0.2264088760653095\n",
      "255\n",
      "max_acc: 0.6700134483952297, max_dpd: 0.07780119383333745, min_acc: 0.5000091902473095, min_dpd: 0.0\n",
      "max dist: 1.0771757541325098, acc_dist: 0.9338987292256314, dpd_dist: 0.2264088760653095\n"
     ]
    },
    {
     "name": "stderr",
     "output_type": "stream",
     "text": [
      "[I 2025-05-16 19:28:32,403] Trial 0 finished with values: [0.6635848704021959, 0.029180491257628127] and parameters: {'max_depth': 5, 'eta': 0.03689370417845178, 'subsample': 0.6709961635390231, 'colsample_bytree': 0.6576623083358771}.\n",
      "[I 2025-05-16 19:28:32,409] A new study created in memory with name: no-name-5cad4aae-5edc-48cc-ad0f-fc86b62d1aca\n",
      "[I 2025-05-16 19:28:32,557] Trial 0 finished with values: [0.6642986462765713, 0.02585247730488398] and parameters: {'max_depth': 7, 'eta': 0.135308678455878, 'subsample': 0.6251218128102298, 'colsample_bytree': 0.6552553310891216}.\n",
      "[I 2025-05-16 19:28:32,561] A new study created in memory with name: no-name-71a1f99e-9e44-4647-9222-a4faadc92f86\n"
     ]
    },
    {
     "name": "stdout",
     "output_type": "stream",
     "text": [
      "256\n",
      "max_acc: 0.6700134483952297, max_dpd: 0.07780119383333745, min_acc: 0.5000091902473095, min_dpd: 0.0\n",
      "max dist: 1.0771757541325098, acc_dist: 0.9338987292256314, dpd_dist: 0.2264088760653095\n",
      "257\n",
      "max_acc: 0.6700134483952297, max_dpd: 0.07780119383333745, min_acc: 0.5000091902473095, min_dpd: 0.0\n",
      "max dist: 1.0771757541325098, acc_dist: 0.9338987292256314, dpd_dist: 0.2264088760653095\n"
     ]
    },
    {
     "name": "stderr",
     "output_type": "stream",
     "text": [
      "[I 2025-05-16 19:28:32,720] Trial 0 finished with values: [0.6642986462765713, 0.024898899582310386] and parameters: {'max_depth': 6, 'eta': 0.058310504989640084, 'subsample': 0.8319449787297845, 'colsample_bytree': 0.8512039748081413}.\n",
      "[I 2025-05-16 19:28:32,725] A new study created in memory with name: no-name-e34ab26c-0e4d-4878-8174-ccafe8c89d88\n",
      "[I 2025-05-16 19:28:32,863] Trial 0 finished with values: [0.665009358735177, 0.029899489240463928] and parameters: {'max_depth': 5, 'eta': 0.2505184476460482, 'subsample': 0.9621262296744002, 'colsample_bytree': 0.9225275215892459}.\n",
      "[I 2025-05-16 19:28:32,866] A new study created in memory with name: no-name-66e7b028-11d1-480a-87aa-b10adb239dfa\n"
     ]
    },
    {
     "name": "stdout",
     "output_type": "stream",
     "text": [
      "258\n",
      "max_acc: 0.6700134483952297, max_dpd: 0.07780119383333745, min_acc: 0.5000091902473095, min_dpd: 0.0\n",
      "max dist: 1.0771757541325098, acc_dist: 0.9338987292256314, dpd_dist: 0.2264088760653095\n",
      "259\n",
      "max_acc: 0.6700134483952297, max_dpd: 0.07780119383333745, min_acc: 0.5000091902473095, min_dpd: 0.0\n",
      "max dist: 1.0771757541325098, acc_dist: 0.9338987292256314, dpd_dist: 0.2264088760653095\n"
     ]
    },
    {
     "name": "stderr",
     "output_type": "stream",
     "text": [
      "[I 2025-05-16 19:28:33,028] Trial 0 finished with values: [0.662157318653445, 0.025987633350513257] and parameters: {'max_depth': 7, 'eta': 0.28562279232368953, 'subsample': 0.8640827571851855, 'colsample_bytree': 0.7474642045275615}.\n",
      "[I 2025-05-16 19:28:33,033] A new study created in memory with name: no-name-8c6375d2-8b72-42ab-9ba1-8629b11ba5f1\n",
      "[I 2025-05-16 19:28:33,179] Trial 0 finished with values: [0.6664415056075826, 0.02968105783078011] and parameters: {'max_depth': 3, 'eta': 0.06919899236796702, 'subsample': 0.7740109200101892, 'colsample_bytree': 0.8122650884088537}.\n",
      "[I 2025-05-16 19:28:33,182] A new study created in memory with name: no-name-807985ad-b6b6-41ec-a4de-8413f837f9e3\n"
     ]
    },
    {
     "name": "stdout",
     "output_type": "stream",
     "text": [
      "260\n",
      "max_acc: 0.6700134483952297, max_dpd: 0.07780119383333745, min_acc: 0.5000091902473095, min_dpd: 0.0\n",
      "max dist: 1.0771757541325098, acc_dist: 0.9338987292256314, dpd_dist: 0.2264088760653095\n",
      "261\n",
      "max_acc: 0.6700134483952297, max_dpd: 0.07780119383333745, min_acc: 0.5000091902473095, min_dpd: 0.0\n",
      "max dist: 1.0771757541325098, acc_dist: 0.9338987292256314, dpd_dist: 0.2264088760653095\n"
     ]
    },
    {
     "name": "stderr",
     "output_type": "stream",
     "text": [
      "[I 2025-05-16 19:28:33,326] Trial 0 finished with values: [0.6642971145686863, 0.03779932768363926] and parameters: {'max_depth': 3, 'eta': 0.12499118411331353, 'subsample': 0.9492022919168416, 'colsample_bytree': 0.7646029323704779}.\n",
      "[I 2025-05-16 19:28:33,336] A new study created in memory with name: no-name-bb15dccf-97d8-4ac6-a547-6cdd41ad05ce\n",
      "[I 2025-05-16 19:28:33,481] Trial 0 finished with values: [0.6671522180661881, 0.04568634880361929] and parameters: {'max_depth': 3, 'eta': 0.2092362476050605, 'subsample': 0.7917705090776412, 'colsample_bytree': 0.8053567261348357}.\n",
      "[I 2025-05-16 19:28:33,485] A new study created in memory with name: no-name-281ad856-8264-4b0c-a4ac-58868a5b0fba\n"
     ]
    },
    {
     "name": "stdout",
     "output_type": "stream",
     "text": [
      "262\n",
      "max_acc: 0.6700134483952297, max_dpd: 0.07780119383333745, min_acc: 0.5000091902473095, min_dpd: 0.0\n",
      "max dist: 1.0771757541325098, acc_dist: 0.9338987292256314, dpd_dist: 0.2264088760653095\n",
      "263\n",
      "max_acc: 0.6700134483952297, max_dpd: 0.07780119383333745, min_acc: 0.5000091902473095, min_dpd: 0.0\n",
      "max dist: 1.0771757541325098, acc_dist: 0.9338987292256314, dpd_dist: 0.2264088760653095\n"
     ]
    },
    {
     "name": "stderr",
     "output_type": "stream",
     "text": [
      "[I 2025-05-16 19:28:33,666] Trial 0 finished with values: [0.669304267644509, 0.023001078675364495] and parameters: {'max_depth': 6, 'eta': 0.23869101370328094, 'subsample': 0.9998977557149374, 'colsample_bytree': 0.9022204061980613}.\n",
      "[I 2025-05-16 19:28:33,673] A new study created in memory with name: no-name-8c7dcfbd-37ae-4073-b8fa-7e672d58e25f\n"
     ]
    },
    {
     "name": "stdout",
     "output_type": "stream",
     "text": [
      "264\n",
      "max_acc: 0.6700134483952297, max_dpd: 0.07780119383333745, min_acc: 0.5000091902473095, min_dpd: 0.0\n",
      "max dist: 1.0771757541325098, acc_dist: 0.9338987292256314, dpd_dist: 0.2264088760653095\n"
     ]
    },
    {
     "name": "stderr",
     "output_type": "stream",
     "text": [
      "[I 2025-05-16 19:28:33,895] Trial 0 finished with values: [0.6578700682835376, 0.03532936821451335] and parameters: {'max_depth': 7, 'eta': 0.053744368007596, 'subsample': 0.7359086016430064, 'colsample_bytree': 0.6971343731306068}.\n",
      "[I 2025-05-16 19:28:33,902] A new study created in memory with name: no-name-ce30ce9e-b941-4103-bc74-354625dfd802\n",
      "[I 2025-05-16 19:28:34,077] Trial 0 finished with values: [0.6657246663174373, 0.02941710321017151] and parameters: {'max_depth': 4, 'eta': 0.2733487105873587, 'subsample': 0.8380765139639201, 'colsample_bytree': 0.7589426702863729}.\n",
      "[I 2025-05-16 19:28:34,081] A new study created in memory with name: no-name-3b44e11b-81c9-4d50-9e2a-e35b890875b4\n"
     ]
    },
    {
     "name": "stdout",
     "output_type": "stream",
     "text": [
      "265\n",
      "max_acc: 0.6700134483952297, max_dpd: 0.07780119383333745, min_acc: 0.5000091902473095, min_dpd: 0.0\n",
      "max dist: 1.0771757541325098, acc_dist: 0.9338987292256314, dpd_dist: 0.2264088760653095\n",
      "266\n",
      "max_acc: 0.6700134483952297, max_dpd: 0.07780119383333745, min_acc: 0.5000091902473095, min_dpd: 0.0\n",
      "max dist: 1.0771757541325098, acc_dist: 0.9338987292256314, dpd_dist: 0.2264088760653095\n"
     ]
    },
    {
     "name": "stderr",
     "output_type": "stream",
     "text": [
      "[I 2025-05-16 19:28:34,270] Trial 0 finished with values: [0.6578670048677676, 0.035543788555207866] and parameters: {'max_depth': 5, 'eta': 0.2533776753249119, 'subsample': 0.8588794019914928, 'colsample_bytree': 0.9833237183159653}.\n",
      "[I 2025-05-16 19:28:34,275] A new study created in memory with name: no-name-f7a9d241-42da-4691-965a-f3cc83c3a1b9\n",
      "[I 2025-05-16 19:28:34,434] Trial 0 finished with values: [0.6628680311120506, 0.03257825178604239] and parameters: {'max_depth': 3, 'eta': 0.21234199561680336, 'subsample': 0.6334897924643373, 'colsample_bytree': 0.7295228187657573}.\n",
      "[I 2025-05-16 19:28:34,439] A new study created in memory with name: no-name-b20dadeb-c386-433b-a509-cc56f4acf635\n"
     ]
    },
    {
     "name": "stdout",
     "output_type": "stream",
     "text": [
      "267\n",
      "max_acc: 0.6700134483952297, max_dpd: 0.07780119383333745, min_acc: 0.5000091902473095, min_dpd: 0.0\n",
      "max dist: 1.0771757541325098, acc_dist: 0.9338987292256314, dpd_dist: 0.2264088760653095\n",
      "268\n",
      "max_acc: 0.6700134483952297, max_dpd: 0.07780119383333745, min_acc: 0.5000091902473095, min_dpd: 0.0\n",
      "max dist: 1.0771757541325098, acc_dist: 0.9338987292256314, dpd_dist: 0.2264088760653095\n"
     ]
    },
    {
     "name": "stderr",
     "output_type": "stream",
     "text": [
      "[I 2025-05-16 19:28:34,623] Trial 0 finished with values: [0.663583338694311, 0.040298225928471376] and parameters: {'max_depth': 7, 'eta': 0.16455153068691047, 'subsample': 0.7027431054818751, 'colsample_bytree': 0.7869143770199106}.\n",
      "[I 2025-05-16 19:28:34,630] A new study created in memory with name: no-name-e91074d6-a20a-4d3e-b9d6-382d0bbf5ada\n"
     ]
    },
    {
     "name": "stdout",
     "output_type": "stream",
     "text": [
      "269\n",
      "max_acc: 0.6700134483952297, max_dpd: 0.07780119383333745, min_acc: 0.5000091902473095, min_dpd: 0.0\n",
      "max dist: 1.0771757541325098, acc_dist: 0.9338987292256314, dpd_dist: 0.2264088760653095\n"
     ]
    },
    {
     "name": "stderr",
     "output_type": "stream",
     "text": [
      "[I 2025-05-16 19:28:34,965] Trial 0 finished with values: [0.6614404793632996, 0.027025666174820672] and parameters: {'max_depth': 7, 'eta': 0.06298343938464039, 'subsample': 0.8892415032226183, 'colsample_bytree': 0.8566279859345809}.\n",
      "[I 2025-05-16 19:28:34,974] A new study created in memory with name: no-name-94a5aed8-79d4-49d7-bf7c-53603e91cc8c\n",
      "[I 2025-05-16 19:28:35,162] Trial 0 finished with values: [0.6664491641470072, 0.03218390590892014] and parameters: {'max_depth': 6, 'eta': 0.2667605109654962, 'subsample': 0.950623598508401, 'colsample_bytree': 0.8829918960304672}.\n",
      "[I 2025-05-16 19:28:35,169] A new study created in memory with name: no-name-34fe5f93-35ca-4649-ab12-32b024aa1f26\n"
     ]
    },
    {
     "name": "stdout",
     "output_type": "stream",
     "text": [
      "270\n",
      "max_acc: 0.6700134483952297, max_dpd: 0.07780119383333745, min_acc: 0.5000091902473095, min_dpd: 0.0\n",
      "max dist: 1.0771757541325098, acc_dist: 0.9338987292256314, dpd_dist: 0.2264088760653095\n",
      "271\n",
      "max_acc: 0.6700134483952297, max_dpd: 0.07780119383333745, min_acc: 0.5000091902473095, min_dpd: 0.0\n",
      "max dist: 1.0771757541325098, acc_dist: 0.9338987292256314, dpd_dist: 0.2264088760653095\n"
     ]
    },
    {
     "name": "stderr",
     "output_type": "stream",
     "text": [
      "[I 2025-05-16 19:28:35,356] Trial 0 finished with values: [0.6607267034889243, 0.029417711840671656] and parameters: {'max_depth': 4, 'eta': 0.22609130515979076, 'subsample': 0.7673590967449673, 'colsample_bytree': 0.7762908756192433}.\n",
      "[I 2025-05-16 19:28:35,362] A new study created in memory with name: no-name-52d7a580-fe04-40eb-9ff9-bb6395812692\n"
     ]
    },
    {
     "name": "stdout",
     "output_type": "stream",
     "text": [
      "272\n",
      "max_acc: 0.6700134483952297, max_dpd: 0.07780119383333745, min_acc: 0.5000091902473095, min_dpd: 0.0\n",
      "max dist: 1.0771757541325098, acc_dist: 0.9338987292256314, dpd_dist: 0.2264088760653095\n"
     ]
    },
    {
     "name": "stderr",
     "output_type": "stream",
     "text": [
      "[I 2025-05-16 19:28:35,681] Trial 0 finished with values: [0.6657216029016674, 0.031418554366071605] and parameters: {'max_depth': 7, 'eta': 0.06223117889980146, 'subsample': 0.7381224011918797, 'colsample_bytree': 0.7466316556801016}.\n",
      "[I 2025-05-16 19:28:35,685] A new study created in memory with name: no-name-014a592d-ee99-4a92-b48f-f88f7401b4b4\n",
      "[I 2025-05-16 19:28:35,856] Trial 0 finished with values: [0.6621511918219053, 0.027831468527681775] and parameters: {'max_depth': 3, 'eta': 0.2846423586591465, 'subsample': 0.869329069461524, 'colsample_bytree': 0.8835394658152815}.\n",
      "[I 2025-05-16 19:28:35,862] A new study created in memory with name: no-name-a421c3d1-8814-478b-aff5-3c01ede56d0c\n"
     ]
    },
    {
     "name": "stdout",
     "output_type": "stream",
     "text": [
      "273\n",
      "max_acc: 0.6700134483952297, max_dpd: 0.07780119383333745, min_acc: 0.5000091902473095, min_dpd: 0.0\n",
      "max dist: 1.0771757541325098, acc_dist: 0.9338987292256314, dpd_dist: 0.2264088760653095\n",
      "274\n",
      "max_acc: 0.6700134483952297, max_dpd: 0.07780119383333745, min_acc: 0.5000091902473095, min_dpd: 0.0\n",
      "max dist: 1.0771757541325098, acc_dist: 0.9338987292256314, dpd_dist: 0.2264088760653095\n"
     ]
    },
    {
     "name": "stderr",
     "output_type": "stream",
     "text": [
      "[I 2025-05-16 19:28:36,040] Trial 0 finished with values: [0.6635848704021959, 0.02096310688889036] and parameters: {'max_depth': 4, 'eta': 0.2877038667449849, 'subsample': 0.6476619337931658, 'colsample_bytree': 0.9304444575033555}.\n",
      "[I 2025-05-16 19:28:36,047] A new study created in memory with name: no-name-0a77be24-83bb-4c09-a407-781aaecfcaa0\n",
      "[I 2025-05-16 19:28:36,226] Trial 0 finished with values: [0.663580275278541, 0.04730614910670486] and parameters: {'max_depth': 5, 'eta': 0.1551529366478499, 'subsample': 0.8593113813635358, 'colsample_bytree': 0.6035612379120103}.\n",
      "[I 2025-05-16 19:28:36,232] A new study created in memory with name: no-name-33a50dc5-41c1-4ee7-a15a-23867add82fa\n"
     ]
    },
    {
     "name": "stdout",
     "output_type": "stream",
     "text": [
      "275\n",
      "max_acc: 0.6700134483952297, max_dpd: 0.07780119383333745, min_acc: 0.5000091902473095, min_dpd: 0.0\n",
      "max dist: 1.0771757541325098, acc_dist: 0.9338987292256314, dpd_dist: 0.2264088760653095\n",
      "276\n",
      "max_acc: 0.6700134483952297, max_dpd: 0.07780119383333745, min_acc: 0.5000091902473095, min_dpd: 0.0\n",
      "max dist: 1.0771757541325098, acc_dist: 0.9338987292256314, dpd_dist: 0.2264088760653095\n"
     ]
    },
    {
     "name": "stderr",
     "output_type": "stream",
     "text": [
      "[I 2025-05-16 19:28:36,445] Trial 0 finished with values: [0.6642955828608015, 0.04483441655434239] and parameters: {'max_depth': 6, 'eta': 0.08649941829705694, 'subsample': 0.6791128024798214, 'colsample_bytree': 0.7495992820758433}.\n",
      "[I 2025-05-16 19:28:36,451] A new study created in memory with name: no-name-967e564a-721c-4da6-8a11-fc3ed180fd9d\n",
      "[I 2025-05-16 19:28:36,618] Trial 0 finished with values: [0.668579769814939, 0.04347954770322835] and parameters: {'max_depth': 3, 'eta': 0.10534709508635381, 'subsample': 0.7542676881218632, 'colsample_bytree': 0.7890989328096211}.\n",
      "[I 2025-05-16 19:28:36,622] A new study created in memory with name: no-name-57ace01f-e218-4090-92a8-298dba860f50\n"
     ]
    },
    {
     "name": "stdout",
     "output_type": "stream",
     "text": [
      "277\n",
      "max_acc: 0.6700134483952297, max_dpd: 0.07780119383333745, min_acc: 0.5000091902473095, min_dpd: 0.0\n",
      "max dist: 1.0771757541325098, acc_dist: 0.9338987292256314, dpd_dist: 0.2264088760653095\n",
      "278\n",
      "max_acc: 0.6700134483952297, max_dpd: 0.07780119383333745, min_acc: 0.5000091902473095, min_dpd: 0.0\n",
      "max dist: 1.0771757541325098, acc_dist: 0.9338987292256314, dpd_dist: 0.2264088760653095\n"
     ]
    },
    {
     "name": "stderr",
     "output_type": "stream",
     "text": [
      "[I 2025-05-16 19:28:36,802] Trial 0 finished with values: [0.6650108904430619, 0.044599301197288575] and parameters: {'max_depth': 4, 'eta': 0.16292288641627417, 'subsample': 0.6741276069772751, 'colsample_bytree': 0.8014173360891621}.\n",
      "[I 2025-05-16 19:28:36,808] A new study created in memory with name: no-name-cc507d5f-52fb-4a03-8361-76d5e4dc9c55\n",
      "[I 2025-05-16 19:28:36,988] Trial 0 finished with values: [0.6614404793632996, 0.024198930638993404] and parameters: {'max_depth': 6, 'eta': 0.27522029733426256, 'subsample': 0.7489110579551549, 'colsample_bytree': 0.9376895798414382}.\n",
      "[I 2025-05-16 19:28:36,993] A new study created in memory with name: no-name-365ae3c1-98dd-43d9-bd14-25515c3c1a4b\n"
     ]
    },
    {
     "name": "stdout",
     "output_type": "stream",
     "text": [
      "279\n",
      "max_acc: 0.6700134483952297, max_dpd: 0.07780119383333745, min_acc: 0.5000091902473095, min_dpd: 0.0\n",
      "max dist: 1.0771757541325098, acc_dist: 0.9338987292256314, dpd_dist: 0.2264088760653095\n",
      "280\n",
      "max_acc: 0.6700134483952297, max_dpd: 0.07780119383333745, min_acc: 0.5000091902473095, min_dpd: 0.0\n",
      "max dist: 1.0771757541325098, acc_dist: 0.9338987292256314, dpd_dist: 0.2264088760653095\n"
     ]
    },
    {
     "name": "stderr",
     "output_type": "stream",
     "text": [
      "[I 2025-05-16 19:28:37,202] Trial 0 finished with values: [0.6593006834480583, 0.03646579619802328] and parameters: {'max_depth': 6, 'eta': 0.2903974030704972, 'subsample': 0.8908597611051741, 'colsample_bytree': 0.9303663463963836}.\n",
      "[I 2025-05-16 19:28:37,208] A new study created in memory with name: no-name-89ca51b1-0853-40af-95b9-f9cedbe54e7f\n"
     ]
    },
    {
     "name": "stdout",
     "output_type": "stream",
     "text": [
      "281\n",
      "max_acc: 0.6700134483952297, max_dpd: 0.07780119383333745, min_acc: 0.5000091902473095, min_dpd: 0.0\n",
      "max dist: 1.0771757541325098, acc_dist: 0.9338987292256314, dpd_dist: 0.2264088760653095\n"
     ]
    },
    {
     "name": "stderr",
     "output_type": "stream",
     "text": [
      "[I 2025-05-16 19:28:37,416] Trial 0 finished with values: [0.6621542552376751, 0.030677141107790008] and parameters: {'max_depth': 5, 'eta': 0.08505279818741907, 'subsample': 0.8272279562553003, 'colsample_bytree': 0.7945730854180282}.\n",
      "[I 2025-05-16 19:28:37,422] A new study created in memory with name: no-name-53cb3c06-7775-4056-8986-bd49b532fd4a\n",
      "[I 2025-05-16 19:28:37,604] Trial 0 finished with values: [0.6614404793632996, 0.033409381912563894] and parameters: {'max_depth': 6, 'eta': 0.20444436567604898, 'subsample': 0.7166375427217146, 'colsample_bytree': 0.7987383131717266}.\n",
      "[I 2025-05-16 19:28:37,609] A new study created in memory with name: no-name-caf89f88-eedf-4024-b40d-daedffabc917\n"
     ]
    },
    {
     "name": "stdout",
     "output_type": "stream",
     "text": [
      "282\n",
      "max_acc: 0.6700134483952297, max_dpd: 0.07780119383333745, min_acc: 0.5000091902473095, min_dpd: 0.0\n",
      "max dist: 1.0771757541325098, acc_dist: 0.9338987292256314, dpd_dist: 0.2264088760653095\n",
      "283\n",
      "max_acc: 0.6700134483952297, max_dpd: 0.07780119383333745, min_acc: 0.5000091902473095, min_dpd: 0.0\n",
      "max dist: 1.0771757541325098, acc_dist: 0.9338987292256314, dpd_dist: 0.2264088760653095\n"
     ]
    },
    {
     "name": "stderr",
     "output_type": "stream",
     "text": [
      "[I 2025-05-16 19:28:37,855] Trial 0 finished with values: [0.6600129276145488, 0.026312538577873256] and parameters: {'max_depth': 4, 'eta': 0.0905671207540928, 'subsample': 0.6125457653438758, 'colsample_bytree': 0.8636869786358963}.\n",
      "[I 2025-05-16 19:28:37,861] A new study created in memory with name: no-name-2bbb7c2e-61a5-4c34-913e-b5730e276899\n"
     ]
    },
    {
     "name": "stdout",
     "output_type": "stream",
     "text": [
      "284\n",
      "max_acc: 0.6700134483952297, max_dpd: 0.07780119383333745, min_acc: 0.5000091902473095, min_dpd: 0.0\n",
      "max dist: 1.0771757541325098, acc_dist: 0.9338987292256314, dpd_dist: 0.2264088760653095\n"
     ]
    },
    {
     "name": "stderr",
     "output_type": "stream",
     "text": [
      "[I 2025-05-16 19:28:38,209] Trial 0 finished with values: [0.6571578241170469, 0.036174350486067826] and parameters: {'max_depth': 6, 'eta': 0.17782521809496538, 'subsample': 0.716095078375939, 'colsample_bytree': 0.9254047410650987}.\n",
      "[I 2025-05-16 19:28:38,217] A new study created in memory with name: no-name-15d29cbb-5d16-415a-a357-22038951f23c\n"
     ]
    },
    {
     "name": "stdout",
     "output_type": "stream",
     "text": [
      "285\n",
      "max_acc: 0.6700134483952297, max_dpd: 0.07780119383333745, min_acc: 0.5000091902473095, min_dpd: 0.0\n",
      "max dist: 1.0771757541325098, acc_dist: 0.9338987292256314, dpd_dist: 0.2264088760653095\n"
     ]
    },
    {
     "name": "stderr",
     "output_type": "stream",
     "text": [
      "[I 2025-05-16 19:28:38,464] Trial 0 finished with values: [0.6607190449494996, 0.041459321092478] and parameters: {'max_depth': 7, 'eta': 0.1835808721949401, 'subsample': 0.9590631783981192, 'colsample_bytree': 0.6295906474275309}.\n",
      "[I 2025-05-16 19:28:38,469] A new study created in memory with name: no-name-b1ef132a-e6b3-4a42-89ef-09c6a505ffe6\n",
      "[I 2025-05-16 19:28:38,666] Trial 0 finished with values: [0.6671476229425334, 0.0397094735543567] and parameters: {'max_depth': 7, 'eta': 0.2989504871561801, 'subsample': 0.9149859989783867, 'colsample_bytree': 0.9289962074082889}.\n"
     ]
    },
    {
     "name": "stdout",
     "output_type": "stream",
     "text": [
      "286\n",
      "max_acc: 0.6700134483952297, max_dpd: 0.07780119383333745, min_acc: 0.5000091902473095, min_dpd: 0.0\n",
      "max dist: 1.0771757541325098, acc_dist: 0.9338987292256314, dpd_dist: 0.2264088760653095\n"
     ]
    },
    {
     "name": "stderr",
     "output_type": "stream",
     "text": [
      "[I 2025-05-16 19:28:38,672] A new study created in memory with name: no-name-bcd6a302-d39d-4f9d-9eba-05be256ad9eb\n"
     ]
    },
    {
     "name": "stdout",
     "output_type": "stream",
     "text": [
      "287\n",
      "max_acc: 0.6700134483952297, max_dpd: 0.07780119383333745, min_acc: 0.5000091902473095, min_dpd: 0.0\n",
      "max dist: 1.0771757541325098, acc_dist: 0.9338987292256314, dpd_dist: 0.2264088760653095\n"
     ]
    },
    {
     "name": "stderr",
     "output_type": "stream",
     "text": [
      "[I 2025-05-16 19:28:38,930] Trial 0 finished with values: [0.6592991517401733, 0.02208427346699977] and parameters: {'max_depth': 7, 'eta': 0.11873421808443196, 'subsample': 0.8594908116582696, 'colsample_bytree': 0.9526699457467084}.\n",
      "[I 2025-05-16 19:28:38,935] A new study created in memory with name: no-name-bba70f48-2061-47d5-9bfb-94e54e3502b7\n"
     ]
    },
    {
     "name": "stdout",
     "output_type": "stream",
     "text": [
      "288\n",
      "max_acc: 0.6700134483952297, max_dpd: 0.07780119383333745, min_acc: 0.5000091902473095, min_dpd: 0.0\n",
      "max dist: 1.0771757541325098, acc_dist: 0.9338987292256314, dpd_dist: 0.2264088760653095\n"
     ]
    },
    {
     "name": "stderr",
     "output_type": "stream",
     "text": [
      "[I 2025-05-16 19:28:39,299] Trial 0 finished with values: [0.6635848704021959, 0.028026296602047408] and parameters: {'max_depth': 3, 'eta': 0.024427098623533962, 'subsample': 0.6664828747311596, 'colsample_bytree': 0.6440698750645019}.\n",
      "[I 2025-05-16 19:28:39,305] A new study created in memory with name: no-name-1f36a55f-1f8b-4bbf-be1b-98b8d27a621b\n"
     ]
    },
    {
     "name": "stdout",
     "output_type": "stream",
     "text": [
      "289\n",
      "max_acc: 0.6700134483952297, max_dpd: 0.07780119383333745, min_acc: 0.5000091902473095, min_dpd: 0.0\n",
      "max dist: 1.0771757541325098, acc_dist: 0.9338987292256314, dpd_dist: 0.2264088760653095\n"
     ]
    },
    {
     "name": "stderr",
     "output_type": "stream",
     "text": [
      "[I 2025-05-16 19:28:39,658] Trial 0 finished with values: [0.6585807807421431, 0.043857054824510106] and parameters: {'max_depth': 6, 'eta': 0.026675784531755585, 'subsample': 0.9095419794034347, 'colsample_bytree': 0.6580028409715805}.\n",
      "[I 2025-05-16 19:28:39,664] A new study created in memory with name: no-name-e500aeea-bf4c-4cff-b1fb-269d05efc057\n",
      "[I 2025-05-16 19:28:39,847] Trial 0 finished with values: [0.6600113959066639, 0.03335634726432874] and parameters: {'max_depth': 5, 'eta': 0.2693249790025837, 'subsample': 0.7966294379087357, 'colsample_bytree': 0.9435415309078388}.\n",
      "[I 2025-05-16 19:28:39,853] A new study created in memory with name: no-name-d4adc891-babd-4a7b-8c96-d39c2bf99888\n"
     ]
    },
    {
     "name": "stdout",
     "output_type": "stream",
     "text": [
      "290\n",
      "max_acc: 0.6700134483952297, max_dpd: 0.07780119383333745, min_acc: 0.5000091902473095, min_dpd: 0.0\n",
      "max dist: 1.0771757541325098, acc_dist: 0.9338987292256314, dpd_dist: 0.2264088760653095\n",
      "291\n",
      "max_acc: 0.6700134483952297, max_dpd: 0.07780119383333745, min_acc: 0.5000091902473095, min_dpd: 0.0\n",
      "max dist: 1.0771757541325098, acc_dist: 0.9338987292256314, dpd_dist: 0.2264088760653095\n"
     ]
    },
    {
     "name": "stderr",
     "output_type": "stream",
     "text": [
      "[I 2025-05-16 19:28:40,087] Trial 0 finished with values: [0.663580275278541, 0.03558813768169128] and parameters: {'max_depth': 6, 'eta': 0.054932682752384, 'subsample': 0.7743611208251528, 'colsample_bytree': 0.7825999127432819}.\n",
      "[I 2025-05-16 19:28:40,094] A new study created in memory with name: no-name-db95a311-883f-4e9d-aa7e-cc1e048cc3d2\n"
     ]
    },
    {
     "name": "stdout",
     "output_type": "stream",
     "text": [
      "292\n",
      "max_acc: 0.6700134483952297, max_dpd: 0.07780119383333745, min_acc: 0.5000091902473095, min_dpd: 0.0\n",
      "max dist: 1.0771757541325098, acc_dist: 0.9338987292256314, dpd_dist: 0.2264088760653095\n"
     ]
    },
    {
     "name": "stderr",
     "output_type": "stream",
     "text": [
      "[I 2025-05-16 19:28:40,521] Trial 0 finished with values: [0.6557226138288715, 0.032519902087241946] and parameters: {'max_depth': 4, 'eta': 0.013568979741917536, 'subsample': 0.9505092891929103, 'colsample_bytree': 0.9440813214940249}.\n",
      "[I 2025-05-16 19:28:40,527] A new study created in memory with name: no-name-27e3b7bc-40e5-4880-88e9-1739cacbeb8e\n",
      "[I 2025-05-16 19:28:40,699] Trial 0 finished with values: [0.6657261980253222, 0.025053831807413218] and parameters: {'max_depth': 5, 'eta': 0.190709933718418, 'subsample': 0.6600042575510277, 'colsample_bytree': 0.8156254552345966}.\n",
      "[I 2025-05-16 19:28:40,703] A new study created in memory with name: no-name-198a30e6-f22e-4414-bb21-3318d96ec820\n"
     ]
    },
    {
     "name": "stdout",
     "output_type": "stream",
     "text": [
      "293\n",
      "max_acc: 0.6700134483952297, max_dpd: 0.07780119383333745, min_acc: 0.5000091902473095, min_dpd: 0.0\n",
      "max dist: 1.0771757541325098, acc_dist: 0.9338987292256314, dpd_dist: 0.2264088760653095\n",
      "294\n",
      "max_acc: 0.6700134483952297, max_dpd: 0.07780119383333745, min_acc: 0.5000091902473095, min_dpd: 0.0\n",
      "max dist: 1.0771757541325098, acc_dist: 0.9338987292256314, dpd_dist: 0.2264088760653095\n"
     ]
    },
    {
     "name": "stderr",
     "output_type": "stream",
     "text": [
      "[I 2025-05-16 19:28:40,960] Trial 0 finished with values: [0.6628680311120506, 0.02739864716228659] and parameters: {'max_depth': 5, 'eta': 0.025533794137410054, 'subsample': 0.6485470983363446, 'colsample_bytree': 0.853939506229404}.\n",
      "[I 2025-05-16 19:28:40,965] A new study created in memory with name: no-name-6786ca61-8644-4b14-ab8e-783ba34f4abb\n",
      "[I 2025-05-16 19:28:41,124] Trial 0 finished with values: [0.6614420110711846, 0.03051747456389045] and parameters: {'max_depth': 6, 'eta': 0.1819535010877569, 'subsample': 0.7265621590229706, 'colsample_bytree': 0.8587392847335025}.\n",
      "[I 2025-05-16 19:28:41,130] A new study created in memory with name: no-name-2c5e0780-3673-4696-be3b-11c28ee9738d\n"
     ]
    },
    {
     "name": "stdout",
     "output_type": "stream",
     "text": [
      "295\n",
      "max_acc: 0.6700134483952297, max_dpd: 0.07780119383333745, min_acc: 0.5000091902473095, min_dpd: 0.0\n",
      "max dist: 1.0771757541325098, acc_dist: 0.9338987292256314, dpd_dist: 0.2264088760653095\n",
      "296\n",
      "max_acc: 0.6700134483952297, max_dpd: 0.07780119383333745, min_acc: 0.5000091902473095, min_dpd: 0.0\n",
      "max dist: 1.0771757541325098, acc_dist: 0.9338987292256314, dpd_dist: 0.2264088760653095\n"
     ]
    },
    {
     "name": "stderr",
     "output_type": "stream",
     "text": [
      "[I 2025-05-16 19:28:41,403] Trial 0 finished with values: [0.6628726262357053, 0.023554438275254202] and parameters: {'max_depth': 6, 'eta': 0.1332924871958378, 'subsample': 0.9891205426171038, 'colsample_bytree': 0.8594387874717164}.\n",
      "[I 2025-05-16 19:28:41,409] A new study created in memory with name: no-name-c84df788-d8bc-45bb-9064-564248102ee8\n",
      "[I 2025-05-16 19:28:41,601] Trial 0 finished with values: [0.6657231346095523, 0.03669726979347482] and parameters: {'max_depth': 3, 'eta': 0.17770152300420416, 'subsample': 0.73155666553388, 'colsample_bytree': 0.7122778582881761}.\n",
      "[I 2025-05-16 19:28:41,606] A new study created in memory with name: no-name-0b6fb942-92d2-4ba6-84f4-b8db97a62176\n"
     ]
    },
    {
     "name": "stdout",
     "output_type": "stream",
     "text": [
      "297\n",
      "max_acc: 0.6700134483952297, max_dpd: 0.07780119383333745, min_acc: 0.5000091902473095, min_dpd: 0.0\n",
      "max dist: 1.0771757541325098, acc_dist: 0.9338987292256314, dpd_dist: 0.2264088760653095\n",
      "298\n",
      "max_acc: 0.6700134483952297, max_dpd: 0.07780119383333745, min_acc: 0.5000091902473095, min_dpd: 0.0\n",
      "max dist: 1.0771757541325098, acc_dist: 0.9338987292256314, dpd_dist: 0.2264088760653095\n"
     ]
    },
    {
     "name": "stderr",
     "output_type": "stream",
     "text": [
      "[I 2025-05-16 19:28:41,820] Trial 0 finished with values: [0.660008332490894, 0.03455100256241569] and parameters: {'max_depth': 3, 'eta': 0.08274754262971427, 'subsample': 0.8528687507667607, 'colsample_bytree': 0.6480550893578066}.\n",
      "[I 2025-05-16 19:28:41,826] A new study created in memory with name: no-name-1b38a3be-af07-434e-a228-fc4c78c3b7e8\n",
      "[I 2025-05-16 19:28:42,011] Trial 0 finished with values: [0.6600144593224337, 0.028164520615059557] and parameters: {'max_depth': 6, 'eta': 0.2510716373327243, 'subsample': 0.8594984268554997, 'colsample_bytree': 0.9218376242515622}.\n",
      "[I 2025-05-16 19:28:42,017] A new study created in memory with name: no-name-13468a01-8cc5-4e75-ba43-2415f4d0e12d\n"
     ]
    },
    {
     "name": "stdout",
     "output_type": "stream",
     "text": [
      "299\n",
      "max_acc: 0.6700134483952297, max_dpd: 0.07780119383333745, min_acc: 0.5000091902473095, min_dpd: 0.0\n",
      "max dist: 1.0771757541325098, acc_dist: 0.9338987292256314, dpd_dist: 0.2264088760653095\n",
      "300\n",
      "max_acc: 0.6700134483952297, max_dpd: 0.07780119383333745, min_acc: 0.5000091902473095, min_dpd: 0.0\n",
      "max dist: 1.0771757541325098, acc_dist: 0.9338987292256314, dpd_dist: 0.2264088760653095\n"
     ]
    },
    {
     "name": "stderr",
     "output_type": "stream",
     "text": [
      "[I 2025-05-16 19:28:42,183] Trial 0 finished with values: [0.6614404793632996, 0.041423227491726354] and parameters: {'max_depth': 4, 'eta': 0.13442725292778948, 'subsample': 0.6343322835548155, 'colsample_bytree': 0.9801601843416929}.\n",
      "[I 2025-05-16 19:28:42,189] A new study created in memory with name: no-name-9e2c1ddd-22d7-4dc7-9591-76c4cee67473\n",
      "[I 2025-05-16 19:28:42,337] Trial 0 finished with values: [0.6650108904430619, 0.04834282810556648] and parameters: {'max_depth': 6, 'eta': 0.2024970434953236, 'subsample': 0.9097913318027926, 'colsample_bytree': 0.6839502638477011}.\n",
      "[I 2025-05-16 19:28:42,341] A new study created in memory with name: no-name-2edd909c-8a7d-4017-9fef-3c12a958a2dd\n"
     ]
    },
    {
     "name": "stdout",
     "output_type": "stream",
     "text": [
      "301\n",
      "max_acc: 0.6700134483952297, max_dpd: 0.07780119383333745, min_acc: 0.5000091902473095, min_dpd: 0.0\n",
      "max dist: 1.0771757541325098, acc_dist: 0.9338987292256314, dpd_dist: 0.2264088760653095\n",
      "302\n",
      "max_acc: 0.6700134483952297, max_dpd: 0.07780119383333745, min_acc: 0.5000091902473095, min_dpd: 0.0\n",
      "max dist: 1.0771757541325098, acc_dist: 0.9338987292256314, dpd_dist: 0.2264088760653095\n"
     ]
    },
    {
     "name": "stderr",
     "output_type": "stream",
     "text": [
      "[I 2025-05-16 19:28:42,512] Trial 0 finished with values: [0.6600144593224337, 0.027187496128857874] and parameters: {'max_depth': 3, 'eta': 0.03614116227252927, 'subsample': 0.837183810582151, 'colsample_bytree': 0.9762939111291643}.\n",
      "[I 2025-05-16 19:28:42,517] A new study created in memory with name: no-name-5682efb5-ef8d-4538-8f99-ccbd442a3282\n",
      "[I 2025-05-16 19:28:42,676] Trial 0 finished with values: [0.663583338694311, 0.0268682924782843] and parameters: {'max_depth': 6, 'eta': 0.049175514697428854, 'subsample': 0.8616136488433719, 'colsample_bytree': 0.809115614297697}.\n",
      "[I 2025-05-16 19:28:42,681] A new study created in memory with name: no-name-d834cacd-3c49-4dd5-b65a-b1a31d225e69\n"
     ]
    },
    {
     "name": "stdout",
     "output_type": "stream",
     "text": [
      "303\n",
      "max_acc: 0.6700134483952297, max_dpd: 0.07780119383333745, min_acc: 0.5000091902473095, min_dpd: 0.0\n",
      "max dist: 1.0771757541325098, acc_dist: 0.9338987292256314, dpd_dist: 0.2264088760653095\n",
      "304\n",
      "max_acc: 0.6700134483952297, max_dpd: 0.07780119383333745, min_acc: 0.5000091902473095, min_dpd: 0.0\n",
      "max dist: 1.0771757541325098, acc_dist: 0.9338987292256314, dpd_dist: 0.2264088760653095\n"
     ]
    },
    {
     "name": "stderr",
     "output_type": "stream",
     "text": [
      "[I 2025-05-16 19:28:42,814] Trial 0 finished with values: [0.663578743570656, 0.03260675351984197] and parameters: {'max_depth': 3, 'eta': 0.22352594636853765, 'subsample': 0.8270122089934177, 'colsample_bytree': 0.7443715546233173}.\n",
      "[I 2025-05-16 19:28:42,818] A new study created in memory with name: no-name-a4ac2551-cabd-44ad-a418-bda312e2a32d\n",
      "[I 2025-05-16 19:28:42,946] Trial 0 finished with values: [0.6642971145686863, 0.027373854263910997] and parameters: {'max_depth': 4, 'eta': 0.20971275716416776, 'subsample': 0.696441752576621, 'colsample_bytree': 0.9214036260970342}.\n",
      "[I 2025-05-16 19:28:42,950] A new study created in memory with name: no-name-b9f9c54f-aa6d-4597-a713-a8a4de7008cd\n"
     ]
    },
    {
     "name": "stdout",
     "output_type": "stream",
     "text": [
      "305\n",
      "max_acc: 0.6700134483952297, max_dpd: 0.07780119383333745, min_acc: 0.5000091902473095, min_dpd: 0.0\n",
      "max dist: 1.0771757541325098, acc_dist: 0.9338987292256314, dpd_dist: 0.2264088760653095\n",
      "306\n",
      "max_acc: 0.6700134483952297, max_dpd: 0.07780119383333745, min_acc: 0.5000091902473095, min_dpd: 0.0\n",
      "max dist: 1.0771757541325098, acc_dist: 0.9338987292256314, dpd_dist: 0.2264088760653095\n"
     ]
    },
    {
     "name": "stderr",
     "output_type": "stream",
     "text": [
      "[I 2025-05-16 19:28:43,194] Trial 0 finished with values: [0.6657246663174373, 0.0269319340583357] and parameters: {'max_depth': 5, 'eta': 0.11105853101587129, 'subsample': 0.8822269594081606, 'colsample_bytree': 0.8169270615677663}.\n",
      "[I 2025-05-16 19:28:43,200] A new study created in memory with name: no-name-fad7d49d-0133-4fd5-ac1e-dc79327c2a6f\n",
      "[I 2025-05-16 19:28:43,361] Trial 0 finished with values: [0.6592960883244036, 0.024405532955771858] and parameters: {'max_depth': 4, 'eta': 0.07834245181105864, 'subsample': 0.9642174567568896, 'colsample_bytree': 0.7853739175136429}.\n",
      "[I 2025-05-16 19:28:43,366] A new study created in memory with name: no-name-5e0abafe-5881-48c3-b371-f2b1bd4785cd\n"
     ]
    },
    {
     "name": "stdout",
     "output_type": "stream",
     "text": [
      "307\n",
      "max_acc: 0.6700134483952297, max_dpd: 0.07780119383333745, min_acc: 0.5000091902473095, min_dpd: 0.0\n",
      "max dist: 1.0771757541325098, acc_dist: 0.9338987292256314, dpd_dist: 0.2264088760653095\n",
      "308\n",
      "max_acc: 0.6700134483952297, max_dpd: 0.07780119383333745, min_acc: 0.5000091902473095, min_dpd: 0.0\n",
      "max dist: 1.0771757541325098, acc_dist: 0.9338987292256314, dpd_dist: 0.2264088760653095\n"
     ]
    },
    {
     "name": "stderr",
     "output_type": "stream",
     "text": [
      "[I 2025-05-16 19:28:43,510] Trial 0 finished with values: [0.6657277297332072, 0.02805218713149087] and parameters: {'max_depth': 7, 'eta': 0.25688226458844116, 'subsample': 0.9815441149610442, 'colsample_bytree': 0.8149089942786691}.\n",
      "[I 2025-05-16 19:28:43,516] A new study created in memory with name: no-name-269bad8d-5f35-46df-b84c-64151e2a1755\n"
     ]
    },
    {
     "name": "stdout",
     "output_type": "stream",
     "text": [
      "309\n",
      "max_acc: 0.6700134483952297, max_dpd: 0.07780119383333745, min_acc: 0.5000091902473095, min_dpd: 0.0\n",
      "max dist: 1.0771757541325098, acc_dist: 0.9338987292256314, dpd_dist: 0.2264088760653095\n"
     ]
    },
    {
     "name": "stderr",
     "output_type": "stream",
     "text": [
      "[I 2025-05-16 19:28:43,762] Trial 0 finished with values: [0.6585853758657979, 0.019806134906891825] and parameters: {'max_depth': 3, 'eta': 0.013589019307156388, 'subsample': 0.6575686565893083, 'colsample_bytree': 0.9888534642983117}.\n",
      "[I 2025-05-16 19:28:43,768] A new study created in memory with name: no-name-8743476a-c09f-4046-b00c-e0ae595ae97c\n",
      "[I 2025-05-16 19:28:43,910] Trial 0 finished with values: [0.6600113959066639, 0.031209924189527987] and parameters: {'max_depth': 7, 'eta': 0.22331992120756103, 'subsample': 0.7655197303092837, 'colsample_bytree': 0.7555408410127797}.\n",
      "[I 2025-05-16 19:28:43,914] A new study created in memory with name: no-name-aeb74481-75b6-450d-97de-69421dad6482\n"
     ]
    },
    {
     "name": "stdout",
     "output_type": "stream",
     "text": [
      "310\n",
      "max_acc: 0.6700134483952297, max_dpd: 0.07780119383333745, min_acc: 0.5000091902473095, min_dpd: 0.0\n",
      "max dist: 1.0771757541325098, acc_dist: 0.9338987292256314, dpd_dist: 0.2264088760653095\n",
      "311\n",
      "max_acc: 0.6700134483952297, max_dpd: 0.07780119383333745, min_acc: 0.5000091902473095, min_dpd: 0.0\n",
      "max dist: 1.0771757541325098, acc_dist: 0.9338987292256314, dpd_dist: 0.2264088760653095\n"
     ]
    },
    {
     "name": "stderr",
     "output_type": "stream",
     "text": [
      "[I 2025-05-16 19:28:44,068] Trial 0 finished with values: [0.6657216029016674, 0.05587059816956174] and parameters: {'max_depth': 5, 'eta': 0.22611503723905382, 'subsample': 0.8794059738573755, 'colsample_bytree': 0.6024884927965857}.\n",
      "[I 2025-05-16 19:28:44,074] A new study created in memory with name: no-name-cde66622-a1c3-4f22-88f1-ea2400e344a7\n"
     ]
    },
    {
     "name": "stdout",
     "output_type": "stream",
     "text": [
      "312\n",
      "max_acc: 0.6700134483952297, max_dpd: 0.07780119383333745, min_acc: 0.5000091902473095, min_dpd: 0.0\n",
      "max dist: 1.0771757541325098, acc_dist: 0.9338987292256314, dpd_dist: 0.2264088760653095\n"
     ]
    },
    {
     "name": "stderr",
     "output_type": "stream",
     "text": [
      "[I 2025-05-16 19:28:44,279] Trial 0 finished with values: [0.6657246663174372, 0.03244186050562616] and parameters: {'max_depth': 4, 'eta': 0.2507203610346246, 'subsample': 0.7006165223791941, 'colsample_bytree': 0.9565815028038208}.\n",
      "[I 2025-05-16 19:28:44,284] A new study created in memory with name: no-name-9219eb58-e847-46b8-99e6-7feb816fdede\n",
      "[I 2025-05-16 19:28:44,491] Trial 0 finished with values: [0.663581806986426, 0.024314272321130242] and parameters: {'max_depth': 5, 'eta': 0.026981426788255443, 'subsample': 0.7284679770007968, 'colsample_bytree': 0.8132016225917762}.\n"
     ]
    },
    {
     "name": "stdout",
     "output_type": "stream",
     "text": [
      "313\n",
      "max_acc: 0.6700134483952297, max_dpd: 0.07780119383333745, min_acc: 0.5000091902473095, min_dpd: 0.0\n",
      "max dist: 1.0771757541325098, acc_dist: 0.9338987292256314, dpd_dist: 0.2264088760653095\n"
     ]
    },
    {
     "name": "stderr",
     "output_type": "stream",
     "text": [
      "[I 2025-05-16 19:28:44,497] A new study created in memory with name: no-name-051f4fac-45c3-43ee-b767-04908d81c313\n",
      "[I 2025-05-16 19:28:44,644] Trial 0 finished with values: [0.6614420110711846, 0.02691088243371384] and parameters: {'max_depth': 7, 'eta': 0.16980915058303372, 'subsample': 0.7826819393743176, 'colsample_bytree': 0.9171155230566551}.\n",
      "[I 2025-05-16 19:28:44,648] A new study created in memory with name: no-name-1e48a5df-e6d3-472a-bfc1-683f807deac8\n"
     ]
    },
    {
     "name": "stdout",
     "output_type": "stream",
     "text": [
      "314\n",
      "max_acc: 0.6700134483952297, max_dpd: 0.07780119383333745, min_acc: 0.5000091902473095, min_dpd: 0.0\n",
      "max dist: 1.0771757541325098, acc_dist: 0.9338987292256314, dpd_dist: 0.2264088760653095\n",
      "315\n",
      "max_acc: 0.6700134483952297, max_dpd: 0.07780119383333745, min_acc: 0.5000091902473095, min_dpd: 0.0\n",
      "max dist: 1.0771757541325098, acc_dist: 0.9338987292256314, dpd_dist: 0.2264088760653095\n"
     ]
    },
    {
     "name": "stderr",
     "output_type": "stream",
     "text": [
      "[I 2025-05-16 19:28:44,792] Trial 0 finished with values: [0.661435884239645, 0.03418871308554631] and parameters: {'max_depth': 6, 'eta': 0.14063002095815533, 'subsample': 0.9809472549314306, 'colsample_bytree': 0.7415274976566023}.\n",
      "[I 2025-05-16 19:28:44,798] A new study created in memory with name: no-name-93f55528-98c1-4c88-ad7a-ae5fee618239\n",
      "[I 2025-05-16 19:28:44,941] Trial 0 finished with values: [0.6664445690233525, 0.045322163038890195] and parameters: {'max_depth': 4, 'eta': 0.2919792188798017, 'subsample': 0.9672031470775777, 'colsample_bytree': 0.7858032989144127}.\n",
      "[I 2025-05-16 19:28:44,945] A new study created in memory with name: no-name-4fbee66c-cb9e-41a6-bace-c246d7dd1856\n"
     ]
    },
    {
     "name": "stdout",
     "output_type": "stream",
     "text": [
      "316\n",
      "max_acc: 0.6700134483952297, max_dpd: 0.07780119383333745, min_acc: 0.5000091902473095, min_dpd: 0.0\n",
      "max dist: 1.0771757541325098, acc_dist: 0.9338987292256314, dpd_dist: 0.2264088760653095\n",
      "317\n",
      "max_acc: 0.6700134483952297, max_dpd: 0.07780119383333745, min_acc: 0.5000091902473095, min_dpd: 0.0\n",
      "max dist: 1.0771757541325098, acc_dist: 0.9338987292256314, dpd_dist: 0.2264088760653095\n"
     ]
    },
    {
     "name": "stderr",
     "output_type": "stream",
     "text": [
      "[I 2025-05-16 19:28:45,115] Trial 0 finished with values: [0.6578715999914224, 0.027406362166611093] and parameters: {'max_depth': 5, 'eta': 0.04959217253146427, 'subsample': 0.6370376191319643, 'colsample_bytree': 0.9410518588563908}.\n",
      "[I 2025-05-16 19:28:45,120] A new study created in memory with name: no-name-c7d84441-179e-4bab-8e68-4d196f9d345c\n",
      "[I 2025-05-16 19:28:45,253] Trial 0 finished with values: [0.6621619137770998, 0.02049916239947061] and parameters: {'max_depth': 3, 'eta': 0.17377941414056464, 'subsample': 0.9997792311187815, 'colsample_bytree': 0.9822649735381312}.\n",
      "[I 2025-05-16 19:28:45,257] A new study created in memory with name: no-name-381dd88e-7826-435f-80a5-2e0db39d42e4\n"
     ]
    },
    {
     "name": "stdout",
     "output_type": "stream",
     "text": [
      "318\n",
      "max_acc: 0.6700134483952297, max_dpd: 0.07780119383333745, min_acc: 0.5000091902473095, min_dpd: 0.0\n",
      "max dist: 1.0771757541325098, acc_dist: 0.9338987292256314, dpd_dist: 0.2264088760653095\n",
      "319\n",
      "max_acc: 0.6700134483952297, max_dpd: 0.07780119383333745, min_acc: 0.5000091902473095, min_dpd: 0.0\n",
      "max dist: 1.0771757541325098, acc_dist: 0.9338987292256314, dpd_dist: 0.2264088760653095\n"
     ]
    },
    {
     "name": "stderr",
     "output_type": "stream",
     "text": [
      "[I 2025-05-16 19:28:45,397] Trial 0 finished with values: [0.667153749774073, 0.03161174203563046] and parameters: {'max_depth': 5, 'eta': 0.23940427063652336, 'subsample': 0.7422792622380265, 'colsample_bytree': 0.6391739283392996}.\n",
      "[I 2025-05-16 19:28:45,401] A new study created in memory with name: no-name-6f33c429-b750-4f4b-ac4b-03cc6890cbf4\n",
      "[I 2025-05-16 19:28:45,553] Trial 0 finished with values: [0.6657246663174372, 0.03566168000703434] and parameters: {'max_depth': 7, 'eta': 0.23804903487298076, 'subsample': 0.7516152320017144, 'colsample_bytree': 0.6859396462017696}.\n",
      "[I 2025-05-16 19:28:45,559] A new study created in memory with name: no-name-8d016aed-c99b-4e82-8979-ff4f722a8941\n"
     ]
    },
    {
     "name": "stdout",
     "output_type": "stream",
     "text": [
      "320\n",
      "max_acc: 0.6700134483952297, max_dpd: 0.07780119383333745, min_acc: 0.5000091902473095, min_dpd: 0.0\n",
      "max dist: 1.0771757541325098, acc_dist: 0.9338987292256314, dpd_dist: 0.2264088760653095\n",
      "321\n",
      "max_acc: 0.6700134483952297, max_dpd: 0.07780119383333745, min_acc: 0.5000091902473095, min_dpd: 0.0\n",
      "max dist: 1.0771757541325098, acc_dist: 0.9338987292256314, dpd_dist: 0.2264088760653095\n"
     ]
    },
    {
     "name": "stderr",
     "output_type": "stream",
     "text": [
      "[I 2025-05-16 19:28:45,709] Trial 0 finished with values: [0.665009358735177, 0.02820732440870787] and parameters: {'max_depth': 5, 'eta': 0.24748802103356923, 'subsample': 0.8608586640456307, 'colsample_bytree': 0.680999863758923}.\n",
      "[I 2025-05-16 19:28:45,715] A new study created in memory with name: no-name-adac367a-a435-4cff-94e4-0358a8bb1225\n",
      "[I 2025-05-16 19:28:45,878] Trial 0 finished with values: [0.6621542552376751, 0.021050764394739796] and parameters: {'max_depth': 7, 'eta': 0.04619358060917799, 'subsample': 0.682536975925733, 'colsample_bytree': 0.9398892929959292}.\n",
      "[I 2025-05-16 19:28:45,883] A new study created in memory with name: no-name-9e297039-3b55-4ea2-abe0-ff6da61ab094\n"
     ]
    },
    {
     "name": "stdout",
     "output_type": "stream",
     "text": [
      "322\n",
      "max_acc: 0.6700134483952297, max_dpd: 0.07780119383333745, min_acc: 0.5000091902473095, min_dpd: 0.0\n",
      "max dist: 1.0771757541325098, acc_dist: 0.9338987292256314, dpd_dist: 0.2264088760653095\n",
      "323\n",
      "max_acc: 0.6700134483952297, max_dpd: 0.07780119383333745, min_acc: 0.5000091902473095, min_dpd: 0.0\n",
      "max dist: 1.0771757541325098, acc_dist: 0.9338987292256314, dpd_dist: 0.2264088760653095\n"
     ]
    },
    {
     "name": "stderr",
     "output_type": "stream",
     "text": [
      "[I 2025-05-16 19:28:46,054] Trial 0 finished with values: [0.6664430373154676, 0.0426111669436787] and parameters: {'max_depth': 6, 'eta': 0.27183958275230946, 'subsample': 0.8136479834015934, 'colsample_bytree': 0.8871962757855008}.\n",
      "[I 2025-05-16 19:28:46,060] A new study created in memory with name: no-name-225d1b26-4eb6-4634-8baa-f084eba2bda4\n",
      "[I 2025-05-16 19:28:46,255] Trial 0 finished with values: [0.6607251717810393, 0.03569054808913886] and parameters: {'max_depth': 3, 'eta': 0.28691919323611914, 'subsample': 0.937550681193637, 'colsample_bytree': 0.906153929405606}.\n"
     ]
    },
    {
     "name": "stdout",
     "output_type": "stream",
     "text": [
      "324\n",
      "max_acc: 0.6700134483952297, max_dpd: 0.07780119383333745, min_acc: 0.5000091902473095, min_dpd: 0.0\n",
      "max dist: 1.0771757541325098, acc_dist: 0.9338987292256314, dpd_dist: 0.2264088760653095\n"
     ]
    },
    {
     "name": "stderr",
     "output_type": "stream",
     "text": [
      "[I 2025-05-16 19:28:46,264] A new study created in memory with name: no-name-5e4111ae-0b36-4d78-8b55-b23c27b6ea24\n",
      "[I 2025-05-16 19:28:46,431] Trial 0 finished with values: [0.6621542552376751, 0.039419837317234065] and parameters: {'max_depth': 6, 'eta': 0.10827030218850482, 'subsample': 0.7242621546911148, 'colsample_bytree': 0.7330324384373009}.\n",
      "[I 2025-05-16 19:28:46,435] A new study created in memory with name: no-name-19253695-b0a1-429d-91af-33e5efe07759\n"
     ]
    },
    {
     "name": "stdout",
     "output_type": "stream",
     "text": [
      "325\n",
      "max_acc: 0.6700134483952297, max_dpd: 0.07780119383333745, min_acc: 0.5000091902473095, min_dpd: 0.0\n",
      "max dist: 1.0771757541325098, acc_dist: 0.9338987292256314, dpd_dist: 0.2264088760653095\n",
      "326\n",
      "max_acc: 0.6700134483952297, max_dpd: 0.07780119383333745, min_acc: 0.5000091902473095, min_dpd: 0.0\n",
      "max dist: 1.0771757541325098, acc_dist: 0.9338987292256314, dpd_dist: 0.2264088760653095\n"
     ]
    },
    {
     "name": "stderr",
     "output_type": "stream",
     "text": [
      "[I 2025-05-16 19:28:46,615] Trial 0 finished with values: [0.6692935456893144, 0.04441424851779358] and parameters: {'max_depth': 5, 'eta': 0.27476784748081123, 'subsample': 0.687316294322606, 'colsample_bytree': 0.6571650005452}.\n",
      "[I 2025-05-16 19:28:46,622] A new study created in memory with name: no-name-c2b5aa8d-0f1b-43c4-9415-b9874f870b3c\n"
     ]
    },
    {
     "name": "stdout",
     "output_type": "stream",
     "text": [
      "327\n",
      "max_acc: 0.6700134483952297, max_dpd: 0.07780119383333745, min_acc: 0.5000091902473095, min_dpd: 0.0\n",
      "max dist: 1.0771757541325098, acc_dist: 0.9338987292256314, dpd_dist: 0.2264088760653095\n"
     ]
    },
    {
     "name": "stderr",
     "output_type": "stream",
     "text": [
      "[I 2025-05-16 19:28:46,919] Trial 0 finished with values: [0.6607282351968092, 0.03352188068667661] and parameters: {'max_depth': 4, 'eta': 0.18391130512842013, 'subsample': 0.6356821589438696, 'colsample_bytree': 0.6850896036650116}.\n",
      "[I 2025-05-16 19:28:46,926] A new study created in memory with name: no-name-81339b7e-dde7-48f6-bd83-b5643294666f\n",
      "[I 2025-05-16 19:28:47,123] Trial 0 finished with values: [0.6621588503613299, 0.03307981603628673] and parameters: {'max_depth': 5, 'eta': 0.2890797533497841, 'subsample': 0.7299416083840833, 'colsample_bytree': 0.8958590478603183}.\n"
     ]
    },
    {
     "name": "stdout",
     "output_type": "stream",
     "text": [
      "328\n",
      "max_acc: 0.6700134483952297, max_dpd: 0.07780119383333745, min_acc: 0.5000091902473095, min_dpd: 0.0\n",
      "max dist: 1.0771757541325098, acc_dist: 0.9338987292256314, dpd_dist: 0.2264088760653095\n"
     ]
    },
    {
     "name": "stderr",
     "output_type": "stream",
     "text": [
      "[I 2025-05-16 19:28:47,129] A new study created in memory with name: no-name-9482f8b6-fafc-4bda-b5d0-87baae09f7cd\n",
      "[I 2025-05-16 19:28:47,336] Trial 0 finished with values: [0.6642955828608015, 0.03709003104721886] and parameters: {'max_depth': 3, 'eta': 0.03738253938726603, 'subsample': 0.6766748787014598, 'colsample_bytree': 0.807979444263853}.\n"
     ]
    },
    {
     "name": "stdout",
     "output_type": "stream",
     "text": [
      "329\n",
      "max_acc: 0.6700134483952297, max_dpd: 0.07780119383333745, min_acc: 0.5000091902473095, min_dpd: 0.0\n",
      "max dist: 1.0771757541325098, acc_dist: 0.9338987292256314, dpd_dist: 0.2264088760653095\n"
     ]
    },
    {
     "name": "stderr",
     "output_type": "stream",
     "text": [
      "[I 2025-05-16 19:28:47,342] A new study created in memory with name: no-name-957d0620-0195-4ebc-a749-b5f003312292\n"
     ]
    },
    {
     "name": "stdout",
     "output_type": "stream",
     "text": [
      "330\n",
      "max_acc: 0.6700134483952297, max_dpd: 0.07780119383333745, min_acc: 0.5000091902473095, min_dpd: 0.0\n",
      "max dist: 1.0771757541325098, acc_dist: 0.9338987292256314, dpd_dist: 0.2264088760653095\n"
     ]
    },
    {
     "name": "stderr",
     "output_type": "stream",
     "text": [
      "[I 2025-05-16 19:28:47,646] Trial 0 finished with values: [0.663581806986426, 0.0303601325596502] and parameters: {'max_depth': 7, 'eta': 0.025578062831665277, 'subsample': 0.9233938162738216, 'colsample_bytree': 0.73226136414115}.\n",
      "[I 2025-05-16 19:28:47,657] A new study created in memory with name: no-name-4a5a5a58-fdbb-4bc0-8adf-f1882668e774\n",
      "[I 2025-05-16 19:28:47,818] Trial 0 finished with values: [0.6650154855667166, 0.02731665215058458] and parameters: {'max_depth': 3, 'eta': 0.29489977998743544, 'subsample': 0.9620542012822442, 'colsample_bytree': 0.8475876136738366}.\n",
      "[I 2025-05-16 19:28:47,824] A new study created in memory with name: no-name-0513f281-fff9-4090-b8d8-5b0bb67a3454\n"
     ]
    },
    {
     "name": "stdout",
     "output_type": "stream",
     "text": [
      "331\n",
      "max_acc: 0.6700134483952297, max_dpd: 0.07780119383333745, min_acc: 0.5000091902473095, min_dpd: 0.0\n",
      "max dist: 1.0771757541325098, acc_dist: 0.9338987292256314, dpd_dist: 0.2264088760653095\n",
      "332\n",
      "max_acc: 0.6700134483952297, max_dpd: 0.07780119383333745, min_acc: 0.5000091902473095, min_dpd: 0.0\n",
      "max dist: 1.0771757541325098, acc_dist: 0.9338987292256314, dpd_dist: 0.2264088760653095\n"
     ]
    },
    {
     "name": "stderr",
     "output_type": "stream",
     "text": [
      "[I 2025-05-16 19:28:48,039] Trial 0 finished with values: [0.6650124221509468, 0.027975619555414766] and parameters: {'max_depth': 5, 'eta': 0.11863288813750901, 'subsample': 0.6246114595871568, 'colsample_bytree': 0.6882241181969297}.\n",
      "[I 2025-05-16 19:28:48,048] A new study created in memory with name: no-name-05edecd7-aa1c-4829-9b60-97cd01b08e37\n"
     ]
    },
    {
     "name": "stdout",
     "output_type": "stream",
     "text": [
      "333\n",
      "max_acc: 0.6700134483952297, max_dpd: 0.07780119383333745, min_acc: 0.5000091902473095, min_dpd: 0.0\n",
      "max dist: 1.0771757541325098, acc_dist: 0.9338987292256314, dpd_dist: 0.2264088760653095\n"
     ]
    },
    {
     "name": "stderr",
     "output_type": "stream",
     "text": [
      "[I 2025-05-16 19:28:48,263] Trial 0 finished with values: [0.6642955828608015, 0.03393297989345515] and parameters: {'max_depth': 4, 'eta': 0.04653977976126366, 'subsample': 0.6782368700229457, 'colsample_bytree': 0.7471692025212188}.\n",
      "[I 2025-05-16 19:28:48,268] A new study created in memory with name: no-name-9ed0dabc-89e5-467a-8f02-a51b29c939d2\n"
     ]
    },
    {
     "name": "stdout",
     "output_type": "stream",
     "text": [
      "334\n",
      "max_acc: 0.6700134483952297, max_dpd: 0.07780119383333745, min_acc: 0.5000091902473095, min_dpd: 0.0\n",
      "max dist: 1.0771757541325098, acc_dist: 0.9338987292256314, dpd_dist: 0.2264088760653095\n"
     ]
    },
    {
     "name": "stderr",
     "output_type": "stream",
     "text": [
      "[I 2025-05-16 19:28:48,555] Trial 0 finished with values: [0.6678675256484485, 0.039061187293502386] and parameters: {'max_depth': 7, 'eta': 0.14710019918718625, 'subsample': 0.6479643625678643, 'colsample_bytree': 0.6104355354980286}.\n",
      "[I 2025-05-16 19:28:48,581] A new study created in memory with name: no-name-6a1f6740-290a-4b9d-a54a-2d66ee527828\n"
     ]
    },
    {
     "name": "stdout",
     "output_type": "stream",
     "text": [
      "335\n",
      "max_acc: 0.6700134483952297, max_dpd: 0.07780119383333745, min_acc: 0.5000091902473095, min_dpd: 0.0\n",
      "max dist: 1.0771757541325098, acc_dist: 0.9338987292256314, dpd_dist: 0.2264088760653095\n"
     ]
    },
    {
     "name": "stderr",
     "output_type": "stream",
     "text": [
      "[I 2025-05-16 19:28:48,871] Trial 0 finished with values: [0.6607236400731544, 0.03916712624300919] and parameters: {'max_depth': 5, 'eta': 0.17020706714259443, 'subsample': 0.9113584103985951, 'colsample_bytree': 0.6264229033138051}.\n",
      "[I 2025-05-16 19:28:48,877] A new study created in memory with name: no-name-4d66c78b-100e-4a15-be70-a49b40cdc9c9\n"
     ]
    },
    {
     "name": "stdout",
     "output_type": "stream",
     "text": [
      "336\n",
      "max_acc: 0.6700134483952297, max_dpd: 0.07780119383333745, min_acc: 0.5000091902473095, min_dpd: 0.0\n",
      "max dist: 1.0771757541325098, acc_dist: 0.9338987292256314, dpd_dist: 0.2264088760653095\n"
     ]
    },
    {
     "name": "stderr",
     "output_type": "stream",
     "text": [
      "[I 2025-05-16 19:28:49,091] Trial 0 finished with values: [0.663583338694311, 0.02398768777699602] and parameters: {'max_depth': 7, 'eta': 0.17933859516414113, 'subsample': 0.7105526883843691, 'colsample_bytree': 0.6622013658865044}.\n",
      "[I 2025-05-16 19:28:49,097] A new study created in memory with name: no-name-59df12fb-9ad4-43ec-bf26-20953c0c6713\n",
      "[I 2025-05-16 19:28:49,255] Trial 0 finished with values: [0.6592991517401733, 0.02858130455436374] and parameters: {'max_depth': 4, 'eta': 0.1634061041735254, 'subsample': 0.7488356748784891, 'colsample_bytree': 0.974123481342441}.\n",
      "[I 2025-05-16 19:28:49,260] A new study created in memory with name: no-name-dc273d67-180d-4631-8d38-9c251d675653\n"
     ]
    },
    {
     "name": "stdout",
     "output_type": "stream",
     "text": [
      "337\n",
      "max_acc: 0.6700134483952297, max_dpd: 0.07780119383333745, min_acc: 0.5000091902473095, min_dpd: 0.0\n",
      "max dist: 1.0771757541325098, acc_dist: 0.9338987292256314, dpd_dist: 0.2264088760653095\n",
      "338\n",
      "max_acc: 0.6700134483952297, max_dpd: 0.07780119383333745, min_acc: 0.5000091902473095, min_dpd: 0.0\n",
      "max dist: 1.0771757541325098, acc_dist: 0.9338987292256314, dpd_dist: 0.2264088760653095\n"
     ]
    },
    {
     "name": "stderr",
     "output_type": "stream",
     "text": [
      "[I 2025-05-16 19:28:49,677] Trial 0 finished with values: [0.6600098641987789, 0.03173842871730917] and parameters: {'max_depth': 3, 'eta': 0.019950367976140644, 'subsample': 0.9606783636407953, 'colsample_bytree': 0.7539613499089001}.\n",
      "[I 2025-05-16 19:28:49,683] A new study created in memory with name: no-name-6db8565f-74f0-4d74-a15b-2cc4bff6e6a8\n"
     ]
    },
    {
     "name": "stdout",
     "output_type": "stream",
     "text": [
      "339\n",
      "max_acc: 0.6700134483952297, max_dpd: 0.07780119383333745, min_acc: 0.5000091902473095, min_dpd: 0.0\n",
      "max dist: 1.0771757541325098, acc_dist: 0.9338987292256314, dpd_dist: 0.2264088760653095\n"
     ]
    },
    {
     "name": "stderr",
     "output_type": "stream",
     "text": [
      "[I 2025-05-16 19:28:49,970] Trial 0 finished with values: [0.667153749774073, 0.0346593711015182] and parameters: {'max_depth': 3, 'eta': 0.17399249704135644, 'subsample': 0.6743162527137458, 'colsample_bytree': 0.6134695186874163}.\n",
      "[I 2025-05-16 19:28:49,978] A new study created in memory with name: no-name-453906b4-be5a-4607-9ed4-525af4e2c1ff\n"
     ]
    },
    {
     "name": "stdout",
     "output_type": "stream",
     "text": [
      "340\n",
      "max_acc: 0.6700134483952297, max_dpd: 0.07780119383333745, min_acc: 0.5000091902473095, min_dpd: 0.0\n",
      "max dist: 1.0771757541325098, acc_dist: 0.9338987292256314, dpd_dist: 0.2264088760653095\n"
     ]
    },
    {
     "name": "stderr",
     "output_type": "stream",
     "text": [
      "[I 2025-05-16 19:28:50,323] Trial 0 finished with values: [0.6600022056593543, 0.03653959785772643] and parameters: {'max_depth': 4, 'eta': 0.24556399568170534, 'subsample': 0.8424860870886245, 'colsample_bytree': 0.9367176668683889}.\n",
      "[I 2025-05-16 19:28:50,333] A new study created in memory with name: no-name-80a792dc-5733-4ccb-976a-8d6b0dc137de\n"
     ]
    },
    {
     "name": "stdout",
     "output_type": "stream",
     "text": [
      "341\n",
      "max_acc: 0.6700134483952297, max_dpd: 0.07780119383333745, min_acc: 0.5000091902473095, min_dpd: 0.0\n",
      "max dist: 1.0771757541325098, acc_dist: 0.9338987292256314, dpd_dist: 0.2264088760653095\n"
     ]
    },
    {
     "name": "stderr",
     "output_type": "stream",
     "text": [
      "[I 2025-05-16 19:28:50,547] Trial 0 finished with values: [0.6614404793632996, 0.02926824233626669] and parameters: {'max_depth': 4, 'eta': 0.19659116380230235, 'subsample': 0.7568819857274982, 'colsample_bytree': 0.8452578989467096}.\n",
      "[I 2025-05-16 19:28:50,552] A new study created in memory with name: no-name-79f724bc-9c50-4c3d-865e-82c874cc544a\n"
     ]
    },
    {
     "name": "stdout",
     "output_type": "stream",
     "text": [
      "342\n",
      "max_acc: 0.6700134483952297, max_dpd: 0.07780119383333745, min_acc: 0.5000091902473095, min_dpd: 0.0\n",
      "max dist: 1.0771757541325098, acc_dist: 0.9338987292256314, dpd_dist: 0.2264088760653095\n"
     ]
    },
    {
     "name": "stderr",
     "output_type": "stream",
     "text": [
      "[I 2025-05-16 19:28:50,780] Trial 0 finished with values: [0.6642955828608015, 0.026182434547335837] and parameters: {'max_depth': 5, 'eta': 0.19747370965890598, 'subsample': 0.8432695296229133, 'colsample_bytree': 0.8224729113587133}.\n",
      "[I 2025-05-16 19:28:50,787] A new study created in memory with name: no-name-34bcddb1-c218-435d-9114-f5ad5639daef\n"
     ]
    },
    {
     "name": "stdout",
     "output_type": "stream",
     "text": [
      "343\n",
      "max_acc: 0.6700134483952297, max_dpd: 0.07780119383333745, min_acc: 0.5000091902473095, min_dpd: 0.0\n",
      "max dist: 1.0771757541325098, acc_dist: 0.9338987292256314, dpd_dist: 0.2264088760653095\n"
     ]
    },
    {
     "name": "stderr",
     "output_type": "stream",
     "text": [
      "[I 2025-05-16 19:28:50,996] Trial 0 finished with values: [0.6607236400731544, 0.03222962628047212] and parameters: {'max_depth': 6, 'eta': 0.1654912607482264, 'subsample': 0.8219212568821757, 'colsample_bytree': 0.6849129489317716}.\n",
      "[I 2025-05-16 19:28:51,002] A new study created in memory with name: no-name-f1b8d72c-7131-4882-a9f9-22ca37f7d79e\n"
     ]
    },
    {
     "name": "stdout",
     "output_type": "stream",
     "text": [
      "344\n",
      "max_acc: 0.6700134483952297, max_dpd: 0.07780119383333745, min_acc: 0.5000091902473095, min_dpd: 0.0\n",
      "max dist: 1.0771757541325098, acc_dist: 0.9338987292256314, dpd_dist: 0.2264088760653095\n"
     ]
    },
    {
     "name": "stderr",
     "output_type": "stream",
     "text": [
      "[I 2025-05-16 19:28:51,216] Trial 0 finished with values: [0.6585823124500281, 0.02438426331367548] and parameters: {'max_depth': 6, 'eta': 0.18067084973458952, 'subsample': 0.8975073669335847, 'colsample_bytree': 0.921651199135664}.\n",
      "[I 2025-05-16 19:28:51,221] A new study created in memory with name: no-name-e7fa202d-59fe-4fcb-8f0e-a3d5d12ba3a4\n",
      "[I 2025-05-16 19:28:51,415] Trial 0 finished with values: [0.6557226138288715, 0.03236050951783371] and parameters: {'max_depth': 6, 'eta': 0.07573599342179217, 'subsample': 0.9519249325282569, 'colsample_bytree': 0.9868334962473204}.\n",
      "[I 2025-05-16 19:28:51,420] A new study created in memory with name: no-name-f91f4c56-eac7-4d89-92c3-27dcbab2d1e4\n"
     ]
    },
    {
     "name": "stdout",
     "output_type": "stream",
     "text": [
      "345\n",
      "max_acc: 0.6700134483952297, max_dpd: 0.07780119383333745, min_acc: 0.5000091902473095, min_dpd: 0.0\n",
      "max dist: 1.0771757541325098, acc_dist: 0.9338987292256314, dpd_dist: 0.2264088760653095\n",
      "346\n",
      "max_acc: 0.6700134483952297, max_dpd: 0.07780119383333745, min_acc: 0.5000091902473095, min_dpd: 0.0\n",
      "max dist: 1.0771757541325098, acc_dist: 0.9338987292256314, dpd_dist: 0.2264088760653095\n"
     ]
    },
    {
     "name": "stderr",
     "output_type": "stream",
     "text": [
      "[I 2025-05-16 19:28:51,633] Trial 0 finished with values: [0.6607205766573846, 0.02732644027976162] and parameters: {'max_depth': 3, 'eta': 0.2070632248706623, 'subsample': 0.9264502784604229, 'colsample_bytree': 0.9894732228671856}.\n",
      "[I 2025-05-16 19:28:51,641] A new study created in memory with name: no-name-b0daabf0-d8bd-48ef-b483-727073cf4e4b\n",
      "[I 2025-05-16 19:28:51,817] Trial 0 finished with values: [0.6650124221509468, 0.03377222016578291] and parameters: {'max_depth': 3, 'eta': 0.27937567610021335, 'subsample': 0.8644264591655011, 'colsample_bytree': 0.6739521184944209}.\n",
      "[I 2025-05-16 19:28:51,826] A new study created in memory with name: no-name-286cc654-ba8a-4920-b0d7-cb3bf4504d74\n"
     ]
    },
    {
     "name": "stdout",
     "output_type": "stream",
     "text": [
      "347\n",
      "max_acc: 0.6700134483952297, max_dpd: 0.07780119383333745, min_acc: 0.5000091902473095, min_dpd: 0.0\n",
      "max dist: 1.0771757541325098, acc_dist: 0.9338987292256314, dpd_dist: 0.2264088760653095\n",
      "348\n",
      "max_acc: 0.6700134483952297, max_dpd: 0.07780119383333745, min_acc: 0.5000091902473095, min_dpd: 0.0\n",
      "max dist: 1.0771757541325098, acc_dist: 0.9338987292256314, dpd_dist: 0.2264088760653095\n"
     ]
    },
    {
     "name": "stderr",
     "output_type": "stream",
     "text": [
      "[I 2025-05-16 19:28:52,038] Trial 0 finished with values: [0.6564394531190167, 0.022175152320871926] and parameters: {'max_depth': 7, 'eta': 0.11741761566640818, 'subsample': 0.8275337847883241, 'colsample_bytree': 0.9115173945102184}.\n",
      "[I 2025-05-16 19:28:52,044] A new study created in memory with name: no-name-f9d82796-d094-4a7a-995b-e19e0e20e05a\n"
     ]
    },
    {
     "name": "stdout",
     "output_type": "stream",
     "text": [
      "349\n",
      "max_acc: 0.6700134483952297, max_dpd: 0.07780119383333745, min_acc: 0.5000091902473095, min_dpd: 0.0\n",
      "max dist: 1.0771757541325098, acc_dist: 0.9338987292256314, dpd_dist: 0.2264088760653095\n"
     ]
    },
    {
     "name": "stderr",
     "output_type": "stream",
     "text": [
      "[I 2025-05-16 19:28:52,261] Trial 0 finished with values: [0.6621511918219053, 0.03222962628047212] and parameters: {'max_depth': 5, 'eta': 0.1668782019999416, 'subsample': 0.8301556989174995, 'colsample_bytree': 0.6670192561376073}.\n",
      "[I 2025-05-16 19:28:52,268] A new study created in memory with name: no-name-6661d1f0-ca5a-448c-a376-f4b4f50734c6\n"
     ]
    },
    {
     "name": "stdout",
     "output_type": "stream",
     "text": [
      "350\n",
      "max_acc: 0.6700134483952297, max_dpd: 0.07780119383333745, min_acc: 0.5000091902473095, min_dpd: 0.0\n",
      "max dist: 1.0771757541325098, acc_dist: 0.9338987292256314, dpd_dist: 0.2264088760653095\n"
     ]
    },
    {
     "name": "stderr",
     "output_type": "stream",
     "text": [
      "[I 2025-05-16 19:28:52,613] Trial 0 finished with values: [0.6600098641987789, 0.026817732363425866] and parameters: {'max_depth': 4, 'eta': 0.08559457442646198, 'subsample': 0.7367452191831869, 'colsample_bytree': 0.7043144242841166}.\n",
      "[I 2025-05-16 19:28:52,617] A new study created in memory with name: no-name-1cbbf473-6fa7-4b29-acfd-22530e4c9adc\n"
     ]
    },
    {
     "name": "stdout",
     "output_type": "stream",
     "text": [
      "351\n",
      "max_acc: 0.6700134483952297, max_dpd: 0.07780119383333745, min_acc: 0.5000091902473095, min_dpd: 0.0\n",
      "max dist: 1.0771757541325098, acc_dist: 0.9338987292256314, dpd_dist: 0.2264088760653095\n"
     ]
    },
    {
     "name": "stderr",
     "output_type": "stream",
     "text": [
      "[I 2025-05-16 19:28:52,844] Trial 0 finished with values: [0.6621527235297903, 0.04067573304975311] and parameters: {'max_depth': 7, 'eta': 0.07539347772960522, 'subsample': 0.9353694888734154, 'colsample_bytree': 0.6239052570338991}.\n",
      "[I 2025-05-16 19:28:52,849] A new study created in memory with name: no-name-fce1db05-5e2e-4282-9690-d3287d75d46a\n",
      "[I 2025-05-16 19:28:53,035] Trial 0 finished with values: [0.6664369104839278, 0.032901128400488144] and parameters: {'max_depth': 5, 'eta': 0.13495956581364585, 'subsample': 0.6045832380822701, 'colsample_bytree': 0.8713912963913302}.\n",
      "[I 2025-05-16 19:28:53,043] A new study created in memory with name: no-name-cd6a7f92-ca6d-4adf-8bc1-ab0a42b284da\n"
     ]
    },
    {
     "name": "stdout",
     "output_type": "stream",
     "text": [
      "352\n",
      "max_acc: 0.6700134483952297, max_dpd: 0.07780119383333745, min_acc: 0.5000091902473095, min_dpd: 0.0\n",
      "max dist: 1.0771757541325098, acc_dist: 0.9338987292256314, dpd_dist: 0.2264088760653095\n",
      "353\n",
      "max_acc: 0.6700134483952297, max_dpd: 0.07780119383333745, min_acc: 0.5000091902473095, min_dpd: 0.0\n",
      "max dist: 1.0771757541325098, acc_dist: 0.9338987292256314, dpd_dist: 0.2264088760653095\n"
     ]
    },
    {
     "name": "stderr",
     "output_type": "stream",
     "text": [
      "[I 2025-05-16 19:28:53,259] Trial 0 finished with values: [0.6650139538588317, 0.02284815966989563] and parameters: {'max_depth': 6, 'eta': 0.09544724409498581, 'subsample': 0.8881196682357009, 'colsample_bytree': 0.8386201834033666}.\n",
      "[I 2025-05-16 19:28:53,264] A new study created in memory with name: no-name-4490c9d5-026d-4bdf-8de0-e124b5a0f9da\n",
      "[I 2025-05-16 19:28:53,423] Trial 0 finished with values: [0.6621557869455601, 0.026243794678951066] and parameters: {'max_depth': 7, 'eta': 0.19126392323691208, 'subsample': 0.7322006485880436, 'colsample_bytree': 0.846670088569348}.\n",
      "[I 2025-05-16 19:28:53,428] A new study created in memory with name: no-name-69e1fd1d-f083-4e21-87bb-868e4cdaa3b7\n"
     ]
    },
    {
     "name": "stdout",
     "output_type": "stream",
     "text": [
      "354\n",
      "max_acc: 0.6700134483952297, max_dpd: 0.07780119383333745, min_acc: 0.5000091902473095, min_dpd: 0.0\n",
      "max dist: 1.0771757541325098, acc_dist: 0.9338987292256314, dpd_dist: 0.2264088760653095\n",
      "355\n",
      "max_acc: 0.6700134483952297, max_dpd: 0.07780119383333745, min_acc: 0.5000091902473095, min_dpd: 0.0\n",
      "max dist: 1.0771757541325098, acc_dist: 0.9338987292256314, dpd_dist: 0.2264088760653095\n"
     ]
    },
    {
     "name": "stderr",
     "output_type": "stream",
     "text": [
      "[I 2025-05-16 19:28:53,756] Trial 0 finished with values: [0.6678751841878733, 0.031954516601277565] and parameters: {'max_depth': 6, 'eta': 0.27932113006445297, 'subsample': 0.9355628514193335, 'colsample_bytree': 0.8781412867145444}.\n",
      "[I 2025-05-16 19:28:53,762] A new study created in memory with name: no-name-366101a4-46b5-4d4f-9126-19f52c9f8505\n",
      "[I 2025-05-16 19:28:53,926] Trial 0 finished with values: [0.6621542552376751, 0.0200782939109684] and parameters: {'max_depth': 3, 'eta': 0.19479204492966912, 'subsample': 0.6865326783152212, 'colsample_bytree': 0.9810195046041221}.\n",
      "[I 2025-05-16 19:28:53,931] A new study created in memory with name: no-name-80ede1f8-401a-4617-b980-5c1d12a37a9f\n"
     ]
    },
    {
     "name": "stdout",
     "output_type": "stream",
     "text": [
      "356\n",
      "max_acc: 0.6700134483952297, max_dpd: 0.07780119383333745, min_acc: 0.5000091902473095, min_dpd: 0.0\n",
      "max dist: 1.0771757541325098, acc_dist: 0.9338987292256314, dpd_dist: 0.2264088760653095\n",
      "357\n",
      "max_acc: 0.6700134483952297, max_dpd: 0.07780119383333745, min_acc: 0.5000091902473095, min_dpd: 0.0\n",
      "max dist: 1.0771757541325098, acc_dist: 0.9338987292256314, dpd_dist: 0.2264088760653095\n"
     ]
    },
    {
     "name": "stderr",
     "output_type": "stream",
     "text": [
      "[I 2025-05-16 19:28:54,078] Trial 0 finished with values: [0.6557226138288715, 0.026228480271613463] and parameters: {'max_depth': 3, 'eta': 0.18298251704345792, 'subsample': 0.9058443629600276, 'colsample_bytree': 0.9268737104310164}.\n",
      "[I 2025-05-16 19:28:54,083] A new study created in memory with name: no-name-cf5e329e-cfcd-426c-9481-a8be5782c551\n",
      "[I 2025-05-16 19:28:54,261] Trial 0 finished with values: [0.6607190449494996, 0.038580975979823434] and parameters: {'max_depth': 7, 'eta': 0.11546556145637259, 'subsample': 0.7953315964780716, 'colsample_bytree': 0.609755679164927}.\n",
      "[I 2025-05-16 19:28:54,266] A new study created in memory with name: no-name-a7c6df50-3b7b-4267-84bb-15cf890a8446\n"
     ]
    },
    {
     "name": "stdout",
     "output_type": "stream",
     "text": [
      "358\n",
      "max_acc: 0.6700134483952297, max_dpd: 0.07780119383333745, min_acc: 0.5000091902473095, min_dpd: 0.0\n",
      "max dist: 1.0771757541325098, acc_dist: 0.9338987292256314, dpd_dist: 0.2264088760653095\n",
      "359\n",
      "max_acc: 0.6700134483952297, max_dpd: 0.07780119383333745, min_acc: 0.5000091902473095, min_dpd: 0.0\n",
      "max dist: 1.0771757541325098, acc_dist: 0.9338987292256314, dpd_dist: 0.2264088760653095\n"
     ]
    },
    {
     "name": "stderr",
     "output_type": "stream",
     "text": [
      "[I 2025-05-16 19:28:54,492] Trial 0 finished with values: [0.6607267034889243, 0.017641754821341133] and parameters: {'max_depth': 3, 'eta': 0.22086986219250104, 'subsample': 0.8481017116269651, 'colsample_bytree': 0.85545564461182}.\n",
      "[I 2025-05-16 19:28:54,497] A new study created in memory with name: no-name-6190f12e-cf71-4558-8a64-8b8c45a2d097\n",
      "[I 2025-05-16 19:28:54,700] Trial 0 finished with values: [0.6585777173263733, 0.02961147061740957] and parameters: {'max_depth': 7, 'eta': 0.09142583472034743, 'subsample': 0.8607336098533276, 'colsample_bytree': 0.7049640413339051}.\n"
     ]
    },
    {
     "name": "stdout",
     "output_type": "stream",
     "text": [
      "360\n",
      "max_acc: 0.6700134483952297, max_dpd: 0.07780119383333745, min_acc: 0.5000091902473095, min_dpd: 0.0\n",
      "max dist: 1.0771757541325098, acc_dist: 0.9338987292256314, dpd_dist: 0.2264088760653095\n"
     ]
    },
    {
     "name": "stderr",
     "output_type": "stream",
     "text": [
      "[I 2025-05-16 19:28:54,708] A new study created in memory with name: no-name-15053055-b2f8-4d6c-8d2c-dc92d050d78f\n",
      "[I 2025-05-16 19:28:54,898] Trial 0 finished with values: [0.6671522180661881, 0.03238610227197669] and parameters: {'max_depth': 4, 'eta': 0.26427469711084495, 'subsample': 0.827833099243127, 'colsample_bytree': 0.6596566840196875}.\n",
      "[I 2025-05-16 19:28:54,904] A new study created in memory with name: no-name-8477bfd9-184b-4d5a-9135-fbd5d832b363\n"
     ]
    },
    {
     "name": "stdout",
     "output_type": "stream",
     "text": [
      "361\n",
      "max_acc: 0.6700134483952297, max_dpd: 0.07780119383333745, min_acc: 0.5000091902473095, min_dpd: 0.0\n",
      "max dist: 1.0771757541325098, acc_dist: 0.9338987292256314, dpd_dist: 0.2264088760653095\n",
      "362\n",
      "max_acc: 0.6700134483952297, max_dpd: 0.07780119383333745, min_acc: 0.5000091902473095, min_dpd: 0.0\n",
      "max dist: 1.0771757541325098, acc_dist: 0.9338987292256314, dpd_dist: 0.2264088760653095\n"
     ]
    },
    {
     "name": "stderr",
     "output_type": "stream",
     "text": [
      "[I 2025-05-16 19:28:55,058] Trial 0 finished with values: [0.663581806986426, 0.045871450220459874] and parameters: {'max_depth': 3, 'eta': 0.16935374635098688, 'subsample': 0.665016870487985, 'colsample_bytree': 0.7761072417491005}.\n",
      "[I 2025-05-16 19:28:55,063] A new study created in memory with name: no-name-e60616b1-5994-4803-a1dc-cf8f5abf8632\n",
      "[I 2025-05-16 19:28:55,254] Trial 0 finished with values: [0.6607267034889243, 0.02897954920786593] and parameters: {'max_depth': 5, 'eta': 0.17661242757932824, 'subsample': 0.8912327304254115, 'colsample_bytree': 0.8782403767121068}.\n",
      "[I 2025-05-16 19:28:55,260] A new study created in memory with name: no-name-54d7b53c-7a1f-4bc2-b5c2-f68828ac4650\n"
     ]
    },
    {
     "name": "stdout",
     "output_type": "stream",
     "text": [
      "363\n",
      "max_acc: 0.6700134483952297, max_dpd: 0.07780119383333745, min_acc: 0.5000091902473095, min_dpd: 0.0\n",
      "max dist: 1.0771757541325098, acc_dist: 0.9338987292256314, dpd_dist: 0.2264088760653095\n",
      "364\n",
      "max_acc: 0.6700134483952297, max_dpd: 0.07780119383333745, min_acc: 0.5000091902473095, min_dpd: 0.0\n",
      "max dist: 1.0771757541325098, acc_dist: 0.9338987292256314, dpd_dist: 0.2264088760653095\n"
     ]
    },
    {
     "name": "stderr",
     "output_type": "stream",
     "text": [
      "[I 2025-05-16 19:28:55,479] Trial 0 finished with values: [0.6657246663174373, 0.029131012934730877] and parameters: {'max_depth': 7, 'eta': 0.11682505446848414, 'subsample': 0.8813337334537305, 'colsample_bytree': 0.8355920108703085}.\n",
      "[I 2025-05-16 19:28:55,488] A new study created in memory with name: no-name-a18eda98-2358-4d10-ac92-3d237f31903a\n"
     ]
    },
    {
     "name": "stdout",
     "output_type": "stream",
     "text": [
      "365\n",
      "max_acc: 0.6700134483952297, max_dpd: 0.07780119383333745, min_acc: 0.5000091902473095, min_dpd: 0.0\n",
      "max dist: 1.0771757541325098, acc_dist: 0.9338987292256314, dpd_dist: 0.2264088760653095\n"
     ]
    },
    {
     "name": "stderr",
     "output_type": "stream",
     "text": [
      "[I 2025-05-16 19:28:55,691] Trial 0 finished with values: [0.6600144593224337, 0.031512512087160216] and parameters: {'max_depth': 7, 'eta': 0.2045459374755368, 'subsample': 0.7790892067697477, 'colsample_bytree': 0.948374982145436}.\n",
      "[I 2025-05-16 19:28:55,696] A new study created in memory with name: no-name-8d647877-96b4-49bf-a8a4-577f1887bcff\n"
     ]
    },
    {
     "name": "stdout",
     "output_type": "stream",
     "text": [
      "366\n",
      "max_acc: 0.6700134483952297, max_dpd: 0.07780119383333745, min_acc: 0.5000091902473095, min_dpd: 0.0\n",
      "max dist: 1.0771757541325098, acc_dist: 0.9338987292256314, dpd_dist: 0.2264088760653095\n"
     ]
    },
    {
     "name": "stderr",
     "output_type": "stream",
     "text": [
      "[I 2025-05-16 19:28:56,046] Trial 0 finished with values: [0.6528644469155999, 0.0303805024592544] and parameters: {'max_depth': 7, 'eta': 0.04030785000143196, 'subsample': 0.9430826341730598, 'colsample_bytree': 0.8860356389810982}.\n",
      "[I 2025-05-16 19:28:56,054] A new study created in memory with name: no-name-8fc3bccb-979e-4d6b-85c0-8534bff62194\n"
     ]
    },
    {
     "name": "stdout",
     "output_type": "stream",
     "text": [
      "367\n",
      "max_acc: 0.6700134483952297, max_dpd: 0.07780119383333745, min_acc: 0.5000091902473095, min_dpd: 0.0\n",
      "max dist: 1.0771757541325098, acc_dist: 0.9338987292256314, dpd_dist: 0.2264088760653095\n"
     ]
    },
    {
     "name": "stderr",
     "output_type": "stream",
     "text": [
      "[I 2025-05-16 19:28:56,272] Trial 0 finished with values: [0.6614374159475299, 0.029379044466433673] and parameters: {'max_depth': 5, 'eta': 0.2461098519289772, 'subsample': 0.7277525170622697, 'colsample_bytree': 0.7847628775826745}.\n",
      "[I 2025-05-16 19:28:56,276] A new study created in memory with name: no-name-af35028f-bf72-423a-862e-6590d73bd253\n"
     ]
    },
    {
     "name": "stdout",
     "output_type": "stream",
     "text": [
      "368\n",
      "max_acc: 0.6700134483952297, max_dpd: 0.07780119383333745, min_acc: 0.5000091902473095, min_dpd: 0.0\n",
      "max dist: 1.0771757541325098, acc_dist: 0.9338987292256314, dpd_dist: 0.2264088760653095\n"
     ]
    },
    {
     "name": "stderr",
     "output_type": "stream",
     "text": [
      "[I 2025-05-16 19:28:56,486] Trial 0 finished with values: [0.6628695628199356, 0.04457190581341077] and parameters: {'max_depth': 6, 'eta': 0.17950902949685804, 'subsample': 0.6724490361230077, 'colsample_bytree': 0.782633212569527}.\n",
      "[I 2025-05-16 19:28:56,493] A new study created in memory with name: no-name-46040b0a-39d5-495c-8f19-0ae7dcaf47b4\n",
      "[I 2025-05-16 19:28:56,663] Trial 0 finished with values: [0.665009358735177, 0.03622142624949898] and parameters: {'max_depth': 3, 'eta': 0.16583320333959287, 'subsample': 0.6530033825583043, 'colsample_bytree': 0.7472842540306682}.\n",
      "[I 2025-05-16 19:28:56,671] A new study created in memory with name: no-name-f970b125-4351-4c87-a1b4-509c6d0afeb0\n"
     ]
    },
    {
     "name": "stdout",
     "output_type": "stream",
     "text": [
      "369\n",
      "max_acc: 0.6700134483952297, max_dpd: 0.07780119383333745, min_acc: 0.5000091902473095, min_dpd: 0.0\n",
      "max dist: 1.0771757541325098, acc_dist: 0.9338987292256314, dpd_dist: 0.2264088760653095\n",
      "370\n",
      "max_acc: 0.6700134483952297, max_dpd: 0.07780119383333745, min_acc: 0.5000091902473095, min_dpd: 0.0\n",
      "max dist: 1.0771757541325098, acc_dist: 0.9338987292256314, dpd_dist: 0.2264088760653095\n"
     ]
    },
    {
     "name": "stderr",
     "output_type": "stream",
     "text": [
      "[I 2025-05-16 19:28:56,847] Trial 0 finished with values: [0.6614389476554148, 0.0345770441208477] and parameters: {'max_depth': 7, 'eta': 0.2045797235558494, 'subsample': 0.8496583629839362, 'colsample_bytree': 0.6715917270205287}.\n",
      "[I 2025-05-16 19:28:56,854] A new study created in memory with name: no-name-68bcce9a-45e4-4745-8597-818244389cd0\n",
      "[I 2025-05-16 19:28:57,025] Trial 0 finished with values: [0.6628695628199356, 0.019736855626624184] and parameters: {'max_depth': 4, 'eta': 0.14149236774147453, 'subsample': 0.8245210373529228, 'colsample_bytree': 0.9893394834317285}.\n",
      "[I 2025-05-16 19:28:57,029] A new study created in memory with name: no-name-72e69fe9-bf7c-4a40-879b-ebfd0d7454d8\n"
     ]
    },
    {
     "name": "stdout",
     "output_type": "stream",
     "text": [
      "371\n",
      "max_acc: 0.6700134483952297, max_dpd: 0.07780119383333745, min_acc: 0.5000091902473095, min_dpd: 0.0\n",
      "max dist: 1.0771757541325098, acc_dist: 0.9338987292256314, dpd_dist: 0.2264088760653095\n",
      "372\n",
      "max_acc: 0.6700134483952297, max_dpd: 0.07780119383333745, min_acc: 0.5000091902473095, min_dpd: 0.0\n",
      "max dist: 1.0771757541325098, acc_dist: 0.9338987292256314, dpd_dist: 0.2264088760653095\n"
     ]
    },
    {
     "name": "stderr",
     "output_type": "stream",
     "text": [
      "[I 2025-05-16 19:28:57,484] Trial 0 finished with values: [0.6657277297332072, 0.024652124308911033] and parameters: {'max_depth': 6, 'eta': 0.11534979992840047, 'subsample': 0.919946835546666, 'colsample_bytree': 0.8438567435898595}.\n",
      "[I 2025-05-16 19:28:57,494] A new study created in memory with name: no-name-923a3306-2999-4b0b-ac50-cf2aca57ab9a\n",
      "[I 2025-05-16 19:28:57,682] Trial 0 finished with values: [0.6592991517401733, 0.03947243512435127] and parameters: {'max_depth': 3, 'eta': 0.18040006700720132, 'subsample': 0.7081804018144725, 'colsample_bytree': 0.9866943210276138}.\n",
      "[I 2025-05-16 19:28:57,689] A new study created in memory with name: no-name-018871cf-5fff-4d12-80a6-c3cc6fb6a94f\n"
     ]
    },
    {
     "name": "stdout",
     "output_type": "stream",
     "text": [
      "373\n",
      "max_acc: 0.6700134483952297, max_dpd: 0.07780119383333745, min_acc: 0.5000091902473095, min_dpd: 0.0\n",
      "max dist: 1.0771757541325098, acc_dist: 0.9338987292256314, dpd_dist: 0.2264088760653095\n",
      "374\n",
      "max_acc: 0.6700134483952297, max_dpd: 0.07780119383333745, min_acc: 0.5000091902473095, min_dpd: 0.0\n",
      "max dist: 1.0771757541325098, acc_dist: 0.9338987292256314, dpd_dist: 0.2264088760653095\n"
     ]
    },
    {
     "name": "stderr",
     "output_type": "stream",
     "text": [
      "[I 2025-05-16 19:28:58,017] Trial 0 finished with values: [0.6635772118627713, 0.028694084240516986] and parameters: {'max_depth': 7, 'eta': 0.2197948930756431, 'subsample': 0.7837992967667272, 'colsample_bytree': 0.8015152961785454}.\n",
      "[I 2025-05-16 19:28:58,024] A new study created in memory with name: no-name-4a6931ec-4d36-4d6f-96ab-a19d81f33c2b\n",
      "[I 2025-05-16 19:28:58,208] Trial 0 finished with values: [0.6628695628199356, 0.04005488348966222] and parameters: {'max_depth': 6, 'eta': 0.19347586243843426, 'subsample': 0.6875101799062702, 'colsample_bytree': 0.7919694864962906}.\n",
      "[I 2025-05-16 19:28:58,213] A new study created in memory with name: no-name-56184bed-067f-446c-8c97-6dab8390bdaf\n"
     ]
    },
    {
     "name": "stdout",
     "output_type": "stream",
     "text": [
      "375\n",
      "max_acc: 0.6700134483952297, max_dpd: 0.07780119383333745, min_acc: 0.5000091902473095, min_dpd: 0.0\n",
      "max dist: 1.0771757541325098, acc_dist: 0.9338987292256314, dpd_dist: 0.2264088760653095\n",
      "376\n",
      "max_acc: 0.6700134483952297, max_dpd: 0.07780119383333745, min_acc: 0.5000091902473095, min_dpd: 0.0\n",
      "max dist: 1.0771757541325098, acc_dist: 0.9338987292256314, dpd_dist: 0.2264088760653095\n"
     ]
    },
    {
     "name": "stderr",
     "output_type": "stream",
     "text": [
      "[I 2025-05-16 19:28:58,408] Trial 0 finished with values: [0.6635802752785411, 0.040975254178977995] and parameters: {'max_depth': 4, 'eta': 0.28984192417258264, 'subsample': 0.8277091516258243, 'colsample_bytree': 0.7303776225535195}.\n",
      "[I 2025-05-16 19:28:58,414] A new study created in memory with name: no-name-d8b41ba0-8da0-4c00-bdb3-da8bfc278906\n"
     ]
    },
    {
     "name": "stdout",
     "output_type": "stream",
     "text": [
      "377\n",
      "max_acc: 0.6700134483952297, max_dpd: 0.07780119383333745, min_acc: 0.5000091902473095, min_dpd: 0.0\n",
      "max dist: 1.0771757541325098, acc_dist: 0.9338987292256314, dpd_dist: 0.2264088760653095\n"
     ]
    },
    {
     "name": "stderr",
     "output_type": "stream",
     "text": [
      "[I 2025-05-16 19:28:58,853] Trial 0 finished with values: [0.6578685365756526, 0.030592701020760737] and parameters: {'max_depth': 7, 'eta': 0.0117149609918697, 'subsample': 0.9139969306056086, 'colsample_bytree': 0.7694789127620378}.\n",
      "[I 2025-05-16 19:28:58,860] A new study created in memory with name: no-name-a77c8e90-7fe4-44c2-8790-b8273f82cb38\n"
     ]
    },
    {
     "name": "stdout",
     "output_type": "stream",
     "text": [
      "378\n",
      "max_acc: 0.6700134483952297, max_dpd: 0.07780119383333745, min_acc: 0.5000091902473095, min_dpd: 0.0\n",
      "max dist: 1.0771757541325098, acc_dist: 0.9338987292256314, dpd_dist: 0.2264088760653095\n"
     ]
    },
    {
     "name": "stderr",
     "output_type": "stream",
     "text": [
      "[I 2025-05-16 19:28:59,085] Trial 0 finished with values: [0.6607267034889243, 0.020954703399786084] and parameters: {'max_depth': 5, 'eta': 0.014731499074405949, 'subsample': 0.7718313048629946, 'colsample_bytree': 0.9362682950775632}.\n",
      "[I 2025-05-16 19:28:59,092] A new study created in memory with name: no-name-f6aa3d74-637b-4c1d-92e7-936d9d130d90\n",
      "[I 2025-05-16 19:28:59,223] Trial 0 finished with values: [0.6621557869455601, 0.02284815966989563] and parameters: {'max_depth': 4, 'eta': 0.1645773690371694, 'subsample': 0.904023628623241, 'colsample_bytree': 0.8799397170891536}.\n",
      "[I 2025-05-16 19:28:59,228] A new study created in memory with name: no-name-5940f0a8-0000-4850-a7c5-622631833bba\n"
     ]
    },
    {
     "name": "stdout",
     "output_type": "stream",
     "text": [
      "379\n",
      "max_acc: 0.6700134483952297, max_dpd: 0.07780119383333745, min_acc: 0.5000091902473095, min_dpd: 0.0\n",
      "max dist: 1.0771757541325098, acc_dist: 0.9338987292256314, dpd_dist: 0.2264088760653095\n",
      "380\n",
      "max_acc: 0.6700134483952297, max_dpd: 0.07780119383333745, min_acc: 0.5000091902473095, min_dpd: 0.0\n",
      "max dist: 1.0771757541325098, acc_dist: 0.9338987292256314, dpd_dist: 0.2264088760653095\n"
     ]
    },
    {
     "name": "stderr",
     "output_type": "stream",
     "text": [
      "[I 2025-05-16 19:28:59,399] Trial 0 finished with values: [0.6607205766573846, 0.035389903650278505] and parameters: {'max_depth': 4, 'eta': 0.17514877532797288, 'subsample': 0.7702655509012906, 'colsample_bytree': 0.6518169817097968}.\n",
      "[I 2025-05-16 19:28:59,405] A new study created in memory with name: no-name-be48e903-68bb-4536-a14f-355e20ff56cb\n",
      "[I 2025-05-16 19:28:59,560] Trial 0 finished with values: [0.6642971145686865, 0.027295191001098895] and parameters: {'max_depth': 6, 'eta': 0.18735781458930933, 'subsample': 0.8324171910219655, 'colsample_bytree': 0.834629114214652}.\n",
      "[I 2025-05-16 19:28:59,565] A new study created in memory with name: no-name-87a03d6e-f394-4ceb-a383-c648bec0d256\n"
     ]
    },
    {
     "name": "stdout",
     "output_type": "stream",
     "text": [
      "381\n",
      "max_acc: 0.6700134483952297, max_dpd: 0.07780119383333745, min_acc: 0.5000091902473095, min_dpd: 0.0\n",
      "max dist: 1.0771757541325098, acc_dist: 0.9338987292256314, dpd_dist: 0.2264088760653095\n",
      "382\n",
      "max_acc: 0.6700134483952297, max_dpd: 0.07780119383333745, min_acc: 0.5000091902473095, min_dpd: 0.0\n",
      "max dist: 1.0771757541325098, acc_dist: 0.9338987292256314, dpd_dist: 0.2264088760653095\n"
     ]
    },
    {
     "name": "stderr",
     "output_type": "stream",
     "text": [
      "[I 2025-05-16 19:28:59,716] Trial 0 finished with values: [0.6614389476554148, 0.017750588980927073] and parameters: {'max_depth': 7, 'eta': 0.18349124665614952, 'subsample': 0.8671534294285208, 'colsample_bytree': 0.8653503861761191}.\n",
      "[I 2025-05-16 19:28:59,721] A new study created in memory with name: no-name-c05e0401-b51b-47f4-9234-ae50759601ad\n",
      "[I 2025-05-16 19:28:59,894] Trial 0 finished with values: [0.6607251717810393, 0.03204438366002116] and parameters: {'max_depth': 7, 'eta': 0.08148926416619638, 'subsample': 0.7472685892290123, 'colsample_bytree': 0.6838060170969081}.\n",
      "[I 2025-05-16 19:28:59,900] A new study created in memory with name: no-name-156aac75-74ce-47ef-9276-977193595fcd\n"
     ]
    },
    {
     "name": "stdout",
     "output_type": "stream",
     "text": [
      "383\n",
      "max_acc: 0.6700134483952297, max_dpd: 0.07780119383333745, min_acc: 0.5000091902473095, min_dpd: 0.0\n",
      "max dist: 1.0771757541325098, acc_dist: 0.9338987292256314, dpd_dist: 0.2264088760653095\n",
      "384\n",
      "max_acc: 0.6700134483952297, max_dpd: 0.07780119383333745, min_acc: 0.5000091902473095, min_dpd: 0.0\n",
      "max dist: 1.0771757541325098, acc_dist: 0.9338987292256314, dpd_dist: 0.2264088760653095\n"
     ]
    },
    {
     "name": "stderr",
     "output_type": "stream",
     "text": [
      "[I 2025-05-16 19:29:00,051] Trial 0 finished with values: [0.6621511918219052, 0.017581904296727346] and parameters: {'max_depth': 3, 'eta': 0.2460930132681708, 'subsample': 0.8505827599863587, 'colsample_bytree': 0.8405714007705234}.\n",
      "[I 2025-05-16 19:29:00,057] A new study created in memory with name: no-name-eaefaee0-1c7e-425d-b9bc-29ee70a1e9c2\n",
      "[I 2025-05-16 19:29:00,215] Trial 0 finished with values: [0.6692935456893144, 0.04886540006184257] and parameters: {'max_depth': 4, 'eta': 0.2445832848404989, 'subsample': 0.8330126000021798, 'colsample_bytree': 0.6075825288509815}.\n",
      "[I 2025-05-16 19:29:00,221] A new study created in memory with name: no-name-efbc2442-18e9-4f8f-a312-d1eae17a5397\n"
     ]
    },
    {
     "name": "stdout",
     "output_type": "stream",
     "text": [
      "385\n",
      "max_acc: 0.6700134483952297, max_dpd: 0.07780119383333745, min_acc: 0.5000091902473095, min_dpd: 0.0\n",
      "max dist: 1.0771757541325098, acc_dist: 0.9338987292256314, dpd_dist: 0.2264088760653095\n",
      "386\n",
      "max_acc: 0.6700134483952297, max_dpd: 0.07780119383333745, min_acc: 0.5000091902473095, min_dpd: 0.0\n",
      "max dist: 1.0771757541325098, acc_dist: 0.9338987292256314, dpd_dist: 0.2264088760653095\n"
     ]
    },
    {
     "name": "stderr",
     "output_type": "stream",
     "text": [
      "[I 2025-05-16 19:29:00,364] Trial 0 finished with values: [0.6664415056075825, 0.032552670516162195] and parameters: {'max_depth': 3, 'eta': 0.22952691055562624, 'subsample': 0.7387265325186265, 'colsample_bytree': 0.9518330101492503}.\n",
      "[I 2025-05-16 19:29:00,370] A new study created in memory with name: no-name-63ecf538-6d51-4e81-89c2-933e6a4506f2\n",
      "[I 2025-05-16 19:29:00,542] Trial 0 finished with values: [0.6671522180661881, 0.03685726867380077] and parameters: {'max_depth': 3, 'eta': 0.20625382408398643, 'subsample': 0.6947357311988658, 'colsample_bytree': 0.6301461699599226}.\n",
      "[I 2025-05-16 19:29:00,552] A new study created in memory with name: no-name-f200ee22-c148-4219-978e-927d51159fd9\n"
     ]
    },
    {
     "name": "stdout",
     "output_type": "stream",
     "text": [
      "387\n",
      "max_acc: 0.6700134483952297, max_dpd: 0.07780119383333745, min_acc: 0.5000091902473095, min_dpd: 0.0\n",
      "max dist: 1.0771757541325098, acc_dist: 0.9338987292256314, dpd_dist: 0.2264088760653095\n",
      "388\n",
      "max_acc: 0.6700134483952297, max_dpd: 0.07780119383333745, min_acc: 0.5000091902473095, min_dpd: 0.0\n",
      "max dist: 1.0771757541325098, acc_dist: 0.9338987292256314, dpd_dist: 0.2264088760653095\n"
     ]
    },
    {
     "name": "stderr",
     "output_type": "stream",
     "text": [
      "[I 2025-05-16 19:29:00,804] Trial 0 finished with values: [0.6621511918219053, 0.03222962628047212] and parameters: {'max_depth': 6, 'eta': 0.15864230548780384, 'subsample': 0.8327775621041158, 'colsample_bytree': 0.6372529617638693}.\n",
      "[I 2025-05-16 19:29:00,811] A new study created in memory with name: no-name-100454cd-0a63-4156-9a91-92521be26077\n",
      "[I 2025-05-16 19:29:00,952] Trial 0 finished with values: [0.6635787435706563, 0.03020619169770401] and parameters: {'max_depth': 6, 'eta': 0.29540138093221713, 'subsample': 0.7167739033375844, 'colsample_bytree': 0.8478955401773822}.\n",
      "[I 2025-05-16 19:29:00,957] A new study created in memory with name: no-name-82be1651-fa53-418a-a64d-30eb7a05ead3\n"
     ]
    },
    {
     "name": "stdout",
     "output_type": "stream",
     "text": [
      "389\n",
      "max_acc: 0.6700134483952297, max_dpd: 0.07780119383333745, min_acc: 0.5000091902473095, min_dpd: 0.0\n",
      "max dist: 1.0771757541325098, acc_dist: 0.9338987292256314, dpd_dist: 0.2264088760653095\n",
      "390\n",
      "max_acc: 0.6700134483952297, max_dpd: 0.07780119383333745, min_acc: 0.5000091902473095, min_dpd: 0.0\n",
      "max dist: 1.0771757541325098, acc_dist: 0.9338987292256314, dpd_dist: 0.2264088760653095\n"
     ]
    },
    {
     "name": "stderr",
     "output_type": "stream",
     "text": [
      "[I 2025-05-16 19:29:01,120] Trial 0 finished with values: [0.6650154855667166, 0.021664056693105383] and parameters: {'max_depth': 5, 'eta': 0.097035861345905, 'subsample': 0.9895445294676497, 'colsample_bytree': 0.9705285729515665}.\n",
      "[I 2025-05-16 19:29:01,127] A new study created in memory with name: no-name-36738a2e-1b61-4d6a-944f-053a78f0b786\n",
      "[I 2025-05-16 19:29:01,300] Trial 0 finished with values: [0.6614404793632996, 0.01796369246713647] and parameters: {'max_depth': 7, 'eta': 0.059942701141365934, 'subsample': 0.9471987587781115, 'colsample_bytree': 0.8845734262003383}.\n",
      "[I 2025-05-16 19:29:01,305] A new study created in memory with name: no-name-4ec89f6f-77e2-4fff-9e80-e3cb231a36cf\n"
     ]
    },
    {
     "name": "stdout",
     "output_type": "stream",
     "text": [
      "391\n",
      "max_acc: 0.6700134483952297, max_dpd: 0.07780119383333745, min_acc: 0.5000091902473095, min_dpd: 0.0\n",
      "max dist: 1.0771757541325098, acc_dist: 0.9338987292256314, dpd_dist: 0.2264088760653095\n",
      "392\n",
      "max_acc: 0.6700134483952297, max_dpd: 0.07780119383333745, min_acc: 0.5000091902473095, min_dpd: 0.0\n",
      "max dist: 1.0771757541325098, acc_dist: 0.9338987292256314, dpd_dist: 0.2264088760653095\n"
     ]
    },
    {
     "name": "stderr",
     "output_type": "stream",
     "text": [
      "[I 2025-05-16 19:29:01,464] Trial 0 finished with values: [0.668579769814939, 0.05209134206382796] and parameters: {'max_depth': 4, 'eta': 0.2729225202725289, 'subsample': 0.8390463005548814, 'colsample_bytree': 0.6153613698702977}.\n",
      "[I 2025-05-16 19:29:01,469] A new study created in memory with name: no-name-2b3b2780-0fbf-48e6-9881-7d1cdfe134c0\n",
      "[I 2025-05-16 19:29:01,607] Trial 0 finished with values: [0.6671506863583033, 0.04093623741614874] and parameters: {'max_depth': 6, 'eta': 0.261510339170926, 'subsample': 0.6754445637575273, 'colsample_bytree': 0.6471277583542833}.\n",
      "[I 2025-05-16 19:29:01,613] A new study created in memory with name: no-name-22b11378-4138-4361-951b-8a91cc11fcff\n"
     ]
    },
    {
     "name": "stdout",
     "output_type": "stream",
     "text": [
      "393\n",
      "max_acc: 0.6700134483952297, max_dpd: 0.07780119383333745, min_acc: 0.5000091902473095, min_dpd: 0.0\n",
      "max dist: 1.0771757541325098, acc_dist: 0.9338987292256314, dpd_dist: 0.2264088760653095\n",
      "394\n",
      "max_acc: 0.6700134483952297, max_dpd: 0.07780119383333745, min_acc: 0.5000091902473095, min_dpd: 0.0\n",
      "max dist: 1.0771757541325098, acc_dist: 0.9338987292256314, dpd_dist: 0.2264088760653095\n"
     ]
    },
    {
     "name": "stderr",
     "output_type": "stream",
     "text": [
      "[I 2025-05-16 19:29:01,761] Trial 0 finished with values: [0.665009358735177, 0.05122039892260355] and parameters: {'max_depth': 7, 'eta': 0.1698427781256254, 'subsample': 0.6103434856352089, 'colsample_bytree': 0.7349607530213119}.\n",
      "[I 2025-05-16 19:29:01,768] A new study created in memory with name: no-name-2d0bb1bd-be56-4bf5-b671-8b77278e96c1\n",
      "[I 2025-05-16 19:29:01,908] Trial 0 finished with values: [0.665009358735177, 0.04032926835261602] and parameters: {'max_depth': 6, 'eta': 0.15798494420991768, 'subsample': 0.6314911034974483, 'colsample_bytree': 0.8370048189732827}.\n",
      "[I 2025-05-16 19:29:01,914] A new study created in memory with name: no-name-f8ada855-e4f5-4672-961f-0716ef978389\n"
     ]
    },
    {
     "name": "stdout",
     "output_type": "stream",
     "text": [
      "395\n",
      "max_acc: 0.6700134483952297, max_dpd: 0.07780119383333745, min_acc: 0.5000091902473095, min_dpd: 0.0\n",
      "max dist: 1.0771757541325098, acc_dist: 0.9338987292256314, dpd_dist: 0.2264088760653095\n",
      "396\n",
      "max_acc: 0.6700134483952297, max_dpd: 0.07780119383333745, min_acc: 0.5000091902473095, min_dpd: 0.0\n",
      "max dist: 1.0771757541325098, acc_dist: 0.9338987292256314, dpd_dist: 0.2264088760653095\n"
     ]
    },
    {
     "name": "stderr",
     "output_type": "stream",
     "text": [
      "[I 2025-05-16 19:29:02,051] Trial 0 finished with values: [0.6664399738996977, 0.033177808723627494] and parameters: {'max_depth': 3, 'eta': 0.2563840966918448, 'subsample': 0.6672344760374228, 'colsample_bytree': 0.6794915579145746}.\n",
      "[I 2025-05-16 19:29:02,056] A new study created in memory with name: no-name-c72c9a38-c855-495f-a717-692a86dde403\n",
      "[I 2025-05-16 19:29:02,205] Trial 0 finished with values: [0.6628756896514753, 0.023970664273528387] and parameters: {'max_depth': 6, 'eta': 0.14428977818608812, 'subsample': 0.9176829142105078, 'colsample_bytree': 0.9870541245094058}.\n",
      "[I 2025-05-16 19:29:02,211] A new study created in memory with name: no-name-d5ece717-333b-4cfa-b331-b66e66a088ef\n"
     ]
    },
    {
     "name": "stdout",
     "output_type": "stream",
     "text": [
      "397\n",
      "max_acc: 0.6700134483952297, max_dpd: 0.07780119383333745, min_acc: 0.5000091902473095, min_dpd: 0.0\n",
      "max dist: 1.0771757541325098, acc_dist: 0.9338987292256314, dpd_dist: 0.2264088760653095\n",
      "398\n",
      "max_acc: 0.6700134483952297, max_dpd: 0.07780119383333745, min_acc: 0.5000091902473095, min_dpd: 0.0\n",
      "max dist: 1.0771757541325098, acc_dist: 0.9338987292256314, dpd_dist: 0.2264088760653095\n"
     ]
    },
    {
     "name": "stderr",
     "output_type": "stream",
     "text": [
      "[I 2025-05-16 19:29:02,407] Trial 0 finished with values: [0.6600068007830091, 0.03093205942940928] and parameters: {'max_depth': 5, 'eta': 0.05829895613853301, 'subsample': 0.8097226987849842, 'colsample_bytree': 0.6989381074688116}.\n",
      "[I 2025-05-16 19:29:02,412] A new study created in memory with name: no-name-0ada2115-bf3f-43bb-9474-d031b266eada\n",
      "[I 2025-05-16 19:29:02,566] Trial 0 finished with values: [0.6642955828608015, 0.01987853687754998] and parameters: {'max_depth': 3, 'eta': 0.24507938000146665, 'subsample': 0.8516583687214275, 'colsample_bytree': 0.8353246922838345}.\n",
      "[I 2025-05-16 19:29:02,571] A new study created in memory with name: no-name-ac6e42f6-4c18-4c13-9153-819d4c6d1e35\n"
     ]
    },
    {
     "name": "stdout",
     "output_type": "stream",
     "text": [
      "399\n",
      "max_acc: 0.6700134483952297, max_dpd: 0.07780119383333745, min_acc: 0.5000091902473095, min_dpd: 0.0\n",
      "max dist: 1.0771757541325098, acc_dist: 0.9338987292256314, dpd_dist: 0.2264088760653095\n",
      "400\n",
      "max_acc: 0.6700134483952297, max_dpd: 0.07780119383333745, min_acc: 0.5000091902473095, min_dpd: 0.0\n",
      "max dist: 1.0771757541325098, acc_dist: 0.9338987292256314, dpd_dist: 0.2264088760653095\n"
     ]
    },
    {
     "name": "stderr",
     "output_type": "stream",
     "text": [
      "[I 2025-05-16 19:29:02,726] Trial 0 finished with values: [0.6657292614410921, 0.03256143127422683] and parameters: {'max_depth': 6, 'eta': 0.2920758469204381, 'subsample': 0.6009131270247473, 'colsample_bytree': 0.8849259819835051}.\n",
      "[I 2025-05-16 19:29:02,732] A new study created in memory with name: no-name-776c40ae-5df0-4a76-bdf7-ff0f66095e89\n",
      "[I 2025-05-16 19:29:02,896] Trial 0 finished with values: [0.6664415056075826, 0.023809358163306833] and parameters: {'max_depth': 4, 'eta': 0.15504025837097024, 'subsample': 0.9664531223662205, 'colsample_bytree': 0.82815517810948}.\n",
      "[I 2025-05-16 19:29:02,902] A new study created in memory with name: no-name-c9785f84-ddb5-4561-8653-32d4bc6fd845\n"
     ]
    },
    {
     "name": "stdout",
     "output_type": "stream",
     "text": [
      "401\n",
      "max_acc: 0.6700134483952297, max_dpd: 0.07780119383333745, min_acc: 0.5000091902473095, min_dpd: 0.0\n",
      "max dist: 1.0771757541325098, acc_dist: 0.9338987292256314, dpd_dist: 0.2264088760653095\n",
      "402\n",
      "max_acc: 0.6700134483952297, max_dpd: 0.07780119383333745, min_acc: 0.5000091902473095, min_dpd: 0.0\n",
      "max dist: 1.0771757541325098, acc_dist: 0.9338987292256314, dpd_dist: 0.2264088760653095\n"
     ]
    },
    {
     "name": "stderr",
     "output_type": "stream",
     "text": [
      "[I 2025-05-16 19:29:03,198] Trial 0 finished with values: [0.6600098641987789, 0.02556558921113634] and parameters: {'max_depth': 4, 'eta': 0.015777577466835783, 'subsample': 0.8245609071604647, 'colsample_bytree': 0.911121109988236}.\n",
      "[I 2025-05-16 19:29:03,205] A new study created in memory with name: no-name-632f3d00-9215-4029-9508-2c11925c4576\n",
      "[I 2025-05-16 19:29:03,400] Trial 0 finished with values: [0.6607251717810393, 0.029086781938997202] and parameters: {'max_depth': 7, 'eta': 0.23698234159429452, 'subsample': 0.7587049246633677, 'colsample_bytree': 0.7603781879329449}.\n"
     ]
    },
    {
     "name": "stdout",
     "output_type": "stream",
     "text": [
      "403\n",
      "max_acc: 0.6700134483952297, max_dpd: 0.07780119383333745, min_acc: 0.5000091902473095, min_dpd: 0.0\n",
      "max dist: 1.0771757541325098, acc_dist: 0.9338987292256314, dpd_dist: 0.2264088760653095\n",
      "404\n",
      "max_acc: 0.6700134483952297, max_dpd: 0.07780119383333745, min_acc: 0.5000091902473095, min_dpd: 0.0\n",
      "max dist: 1.0771757541325098, acc_dist: 0.9338987292256314, dpd_dist: 0.2264088760653095\n"
     ]
    },
    {
     "name": "stderr",
     "output_type": "stream",
     "text": [
      "[I 2025-05-16 19:29:03,407] A new study created in memory with name: no-name-d45a3278-a7f2-4998-b35f-e08609857c86\n",
      "[I 2025-05-16 19:29:03,587] Trial 0 finished with values: [0.6642986462765713, 0.042053940719614304] and parameters: {'max_depth': 4, 'eta': 0.16527121517645108, 'subsample': 0.9277741041512197, 'colsample_bytree': 0.7662274214009682}.\n",
      "[I 2025-05-16 19:29:03,594] A new study created in memory with name: no-name-c0fbff5c-fd7a-4eef-88de-8ef1d509a9fc\n",
      "[I 2025-05-16 19:29:03,753] Trial 0 finished with values: [0.6685828332307088, 0.05812677242746059] and parameters: {'max_depth': 7, 'eta': 0.24931274349512578, 'subsample': 0.9489024455565214, 'colsample_bytree': 0.6060262334672487}.\n",
      "[I 2025-05-16 19:29:03,758] A new study created in memory with name: no-name-d955fb8e-d870-429c-bce0-18e41dfcbd85\n"
     ]
    },
    {
     "name": "stdout",
     "output_type": "stream",
     "text": [
      "405\n",
      "max_acc: 0.6700134483952297, max_dpd: 0.07780119383333745, min_acc: 0.5000091902473095, min_dpd: 0.0\n",
      "max dist: 1.0771757541325098, acc_dist: 0.9338987292256314, dpd_dist: 0.2264088760653095\n",
      "406\n",
      "max_acc: 0.6700134483952297, max_dpd: 0.07780119383333745, min_acc: 0.5000091902473095, min_dpd: 0.0\n",
      "max dist: 1.0771757541325098, acc_dist: 0.9338987292256314, dpd_dist: 0.2264088760653095\n"
     ]
    },
    {
     "name": "stderr",
     "output_type": "stream",
     "text": [
      "[I 2025-05-16 19:29:03,893] Trial 0 finished with values: [0.6585838441579129, 0.027928793293850136] and parameters: {'max_depth': 3, 'eta': 0.2974018480143923, 'subsample': 0.754983306147221, 'colsample_bytree': 0.7659339905504428}.\n",
      "[I 2025-05-16 19:29:03,902] A new study created in memory with name: no-name-efd3c5a2-2876-4b83-baea-ba12fcd44b7b\n",
      "[I 2025-05-16 19:29:04,043] Trial 0 finished with values: [0.668579769814939, 0.046377605726217214] and parameters: {'max_depth': 3, 'eta': 0.22067707351013935, 'subsample': 0.7866419434368493, 'colsample_bytree': 0.690991242778087}.\n",
      "[I 2025-05-16 19:29:04,048] A new study created in memory with name: no-name-86c4b3bc-9445-4c7d-8eb9-ddf975500378\n"
     ]
    },
    {
     "name": "stdout",
     "output_type": "stream",
     "text": [
      "407\n",
      "max_acc: 0.6700134483952297, max_dpd: 0.07780119383333745, min_acc: 0.5000091902473095, min_dpd: 0.0\n",
      "max dist: 1.0771757541325098, acc_dist: 0.9338987292256314, dpd_dist: 0.2264088760653095\n",
      "408\n",
      "max_acc: 0.6700134483952297, max_dpd: 0.07780119383333745, min_acc: 0.5000091902473095, min_dpd: 0.0\n",
      "max dist: 1.0771757541325098, acc_dist: 0.9338987292256314, dpd_dist: 0.2264088760653095\n"
     ]
    },
    {
     "name": "stderr",
     "output_type": "stream",
     "text": [
      "[I 2025-05-16 19:29:04,218] Trial 0 finished with values: [0.6621527235297903, 0.02805763161928168] and parameters: {'max_depth': 4, 'eta': 0.06266092803975518, 'subsample': 0.8288445394030213, 'colsample_bytree': 0.8760443267718134}.\n",
      "[I 2025-05-16 19:29:04,223] A new study created in memory with name: no-name-01b95d36-e279-4647-b9bb-46025f1cef4a\n"
     ]
    },
    {
     "name": "stdout",
     "output_type": "stream",
     "text": [
      "409\n",
      "max_acc: 0.6700134483952297, max_dpd: 0.07780119383333745, min_acc: 0.5000091902473095, min_dpd: 0.0\n",
      "max dist: 1.0771757541325098, acc_dist: 0.9338987292256314, dpd_dist: 0.2264088760653095\n"
     ]
    },
    {
     "name": "stderr",
     "output_type": "stream",
     "text": [
      "[I 2025-05-16 19:29:04,464] Trial 0 finished with values: [0.6621557869455601, 0.02849261639481453] and parameters: {'max_depth': 5, 'eta': 0.021882774606541373, 'subsample': 0.8207834245047281, 'colsample_bytree': 0.8667536177271851}.\n",
      "[I 2025-05-16 19:29:04,470] A new study created in memory with name: no-name-9bc162c9-79cc-4db5-9a5a-c5c0e8d95810\n",
      "[I 2025-05-16 19:29:04,637] Trial 0 finished with values: [0.6607282351968092, 0.02689107372345929] and parameters: {'max_depth': 4, 'eta': 0.27133722563931617, 'subsample': 0.896108447534594, 'colsample_bytree': 0.9777615655172319}.\n",
      "[I 2025-05-16 19:29:04,644] A new study created in memory with name: no-name-b64d387e-7b79-4ba1-9ec1-fcacd454bf3a\n"
     ]
    },
    {
     "name": "stdout",
     "output_type": "stream",
     "text": [
      "410\n",
      "max_acc: 0.6700134483952297, max_dpd: 0.07780119383333745, min_acc: 0.5000091902473095, min_dpd: 0.0\n",
      "max dist: 1.0771757541325098, acc_dist: 0.9338987292256314, dpd_dist: 0.2264088760653095\n",
      "411\n",
      "max_acc: 0.6700134483952297, max_dpd: 0.07780119383333745, min_acc: 0.5000091902473095, min_dpd: 0.0\n",
      "max dist: 1.0771757541325098, acc_dist: 0.9338987292256314, dpd_dist: 0.2264088760653095\n"
     ]
    },
    {
     "name": "stderr",
     "output_type": "stream",
     "text": [
      "[I 2025-05-16 19:29:04,837] Trial 0 finished with values: [0.6600144593224337, 0.035766383261845065] and parameters: {'max_depth': 4, 'eta': 0.10461886604722383, 'subsample': 0.8256924700749284, 'colsample_bytree': 0.6393198174620011}.\n",
      "[I 2025-05-16 19:29:04,842] A new study created in memory with name: no-name-94e6b97b-1eca-41d4-a168-310bd18ff51c\n",
      "[I 2025-05-16 19:29:04,999] Trial 0 finished with values: [0.6628680311120506, 0.03035433915429513] and parameters: {'max_depth': 6, 'eta': 0.20480037246432817, 'subsample': 0.7672398558047675, 'colsample_bytree': 0.7919662532722871}.\n",
      "[I 2025-05-16 19:29:05,004] A new study created in memory with name: no-name-c666b531-baf1-4b79-b038-b6e01c50847f\n"
     ]
    },
    {
     "name": "stdout",
     "output_type": "stream",
     "text": [
      "412\n",
      "max_acc: 0.6700134483952297, max_dpd: 0.07780119383333745, min_acc: 0.5000091902473095, min_dpd: 0.0\n",
      "max dist: 1.0771757541325098, acc_dist: 0.9338987292256314, dpd_dist: 0.2264088760653095\n",
      "413\n",
      "max_acc: 0.6700134483952297, max_dpd: 0.07780119383333745, min_acc: 0.5000091902473095, min_dpd: 0.0\n",
      "max dist: 1.0771757541325098, acc_dist: 0.9338987292256314, dpd_dist: 0.2264088760653095\n"
     ]
    },
    {
     "name": "stderr",
     "output_type": "stream",
     "text": [
      "[I 2025-05-16 19:29:05,174] Trial 0 finished with values: [0.6614420110711846, 0.04099853500324799] and parameters: {'max_depth': 7, 'eta': 0.08406086419001169, 'subsample': 0.9123562351697337, 'colsample_bytree': 0.6159286836418519}.\n",
      "[I 2025-05-16 19:29:05,180] A new study created in memory with name: no-name-a1cd47f4-6c42-4882-bd79-3a59e3a578ee\n",
      "[I 2025-05-16 19:29:05,322] Trial 0 finished with values: [0.6600129276145488, 0.02305933674238254] and parameters: {'max_depth': 3, 'eta': 0.08536321437502303, 'subsample': 0.6162866062194994, 'colsample_bytree': 0.9750589772633799}.\n",
      "[I 2025-05-16 19:29:05,328] A new study created in memory with name: no-name-9b684a7e-e39b-4c8e-b9c6-c567b8aa6080\n"
     ]
    },
    {
     "name": "stdout",
     "output_type": "stream",
     "text": [
      "414\n",
      "max_acc: 0.6700134483952297, max_dpd: 0.07780119383333745, min_acc: 0.5000091902473095, min_dpd: 0.0\n",
      "max dist: 1.0771757541325098, acc_dist: 0.9338987292256314, dpd_dist: 0.2264088760653095\n",
      "415\n",
      "max_acc: 0.6700134483952297, max_dpd: 0.07780119383333745, min_acc: 0.5000091902473095, min_dpd: 0.0\n",
      "max dist: 1.0771757541325098, acc_dist: 0.9338987292256314, dpd_dist: 0.2264088760653095\n"
     ]
    },
    {
     "name": "stderr",
     "output_type": "stream",
     "text": [
      "[I 2025-05-16 19:29:05,482] Trial 0 finished with values: [0.6664369104839278, 0.04143921376843809] and parameters: {'max_depth': 4, 'eta': 0.208229192758555, 'subsample': 0.8001358527602014, 'colsample_bytree': 0.7048537484829132}.\n",
      "[I 2025-05-16 19:29:05,488] A new study created in memory with name: no-name-360c6863-8f55-4019-b949-4825f853253c\n",
      "[I 2025-05-16 19:29:05,633] Trial 0 finished with values: [0.6700088532715749, 0.03563637085197219] and parameters: {'max_depth': 7, 'eta': 0.1792615959409228, 'subsample': 0.9422630891181231, 'colsample_bytree': 0.7736385548501963}.\n",
      "[I 2025-05-16 19:29:05,638] A new study created in memory with name: no-name-e9d149d0-444a-4acd-be13-195f03df2072\n"
     ]
    },
    {
     "name": "stdout",
     "output_type": "stream",
     "text": [
      "416\n",
      "max_acc: 0.6700134483952297, max_dpd: 0.07780119383333745, min_acc: 0.5000091902473095, min_dpd: 0.0\n",
      "max dist: 1.0771757541325098, acc_dist: 0.9338987292256314, dpd_dist: 0.2264088760653095\n",
      "417\n",
      "max_acc: 0.6700134483952297, max_dpd: 0.07780119383333745, min_acc: 0.5000091902473095, min_dpd: 0.0\n",
      "max dist: 1.0771757541325098, acc_dist: 0.9338987292256314, dpd_dist: 0.2264088760653095\n"
     ]
    },
    {
     "name": "stderr",
     "output_type": "stream",
     "text": [
      "[I 2025-05-16 19:29:05,806] Trial 0 finished with values: [0.66143435253176, 0.028760045166898923] and parameters: {'max_depth': 7, 'eta': 0.2577301829516918, 'subsample': 0.9688436283758, 'colsample_bytree': 0.8950918082790685}.\n",
      "[I 2025-05-16 19:29:05,815] A new study created in memory with name: no-name-47caf79d-fa47-4fcd-b4e0-e39e76b84382\n",
      "[I 2025-05-16 19:29:05,997] Trial 0 finished with values: [0.6628649676962807, 0.03650330616541151] and parameters: {'max_depth': 5, 'eta': 0.1915777077659086, 'subsample': 0.8401824585895916, 'colsample_bytree': 0.6382860238473692}.\n",
      "[I 2025-05-16 19:29:06,002] A new study created in memory with name: no-name-6e436fce-47f0-4642-b929-660273613fd7\n"
     ]
    },
    {
     "name": "stdout",
     "output_type": "stream",
     "text": [
      "418\n",
      "max_acc: 0.6700134483952297, max_dpd: 0.07780119383333745, min_acc: 0.5000091902473095, min_dpd: 0.0\n",
      "max dist: 1.0771757541325098, acc_dist: 0.9338987292256314, dpd_dist: 0.2264088760653095\n",
      "419\n",
      "max_acc: 0.6700134483952297, max_dpd: 0.07780119383333745, min_acc: 0.5000091902473095, min_dpd: 0.0\n",
      "max dist: 1.0771757541325098, acc_dist: 0.9338987292256314, dpd_dist: 0.2264088760653095\n"
     ]
    },
    {
     "name": "stderr",
     "output_type": "stream",
     "text": [
      "[I 2025-05-16 19:29:06,149] Trial 0 finished with values: [0.6692996725208543, 0.022563059191178292] and parameters: {'max_depth': 6, 'eta': 0.16693305742346265, 'subsample': 0.983393618889696, 'colsample_bytree': 0.8246879372283007}.\n",
      "[I 2025-05-16 19:29:06,154] A new study created in memory with name: no-name-b303ecbb-9c3c-40e6-ad89-f3dfe7b9fcb0\n",
      "[I 2025-05-16 19:29:06,332] Trial 0 finished with values: [0.6635802752785411, 0.0308780177426151] and parameters: {'max_depth': 4, 'eta': 0.028006605438396774, 'subsample': 0.9155786027045333, 'colsample_bytree': 0.7577203846853919}.\n",
      "[I 2025-05-16 19:29:06,337] A new study created in memory with name: no-name-75b61161-361a-4409-b214-e3aa08a3ee6e\n"
     ]
    },
    {
     "name": "stdout",
     "output_type": "stream",
     "text": [
      "420\n",
      "max_acc: 0.6700134483952297, max_dpd: 0.07780119383333745, min_acc: 0.5000091902473095, min_dpd: 0.0\n",
      "max dist: 1.0771757541325098, acc_dist: 0.9338987292256314, dpd_dist: 0.2264088760653095\n",
      "421\n",
      "max_acc: 0.6700134483952297, max_dpd: 0.07780119383333745, min_acc: 0.5000091902473095, min_dpd: 0.0\n",
      "max dist: 1.0771757541325098, acc_dist: 0.9338987292256314, dpd_dist: 0.2264088760653095\n"
     ]
    },
    {
     "name": "stderr",
     "output_type": "stream",
     "text": [
      "[I 2025-05-16 19:29:06,469] Trial 0 finished with values: [0.663581806986426, 0.030714354769857437] and parameters: {'max_depth': 4, 'eta': 0.10017926422452166, 'subsample': 0.6923986389274487, 'colsample_bytree': 0.8663143034869952}.\n",
      "[I 2025-05-16 19:29:06,475] A new study created in memory with name: no-name-e93b21c6-da6d-4ecf-b32b-ca328c755cd5\n",
      "[I 2025-05-16 19:29:06,658] Trial 0 finished with values: [0.6557210821209866, 0.032546584053806] and parameters: {'max_depth': 6, 'eta': 0.08322837094882567, 'subsample': 0.9713299458318432, 'colsample_bytree': 0.9177384223763801}.\n",
      "[I 2025-05-16 19:29:06,663] A new study created in memory with name: no-name-f8ac8971-4f6a-4ff2-a84c-e0b51765e380\n"
     ]
    },
    {
     "name": "stdout",
     "output_type": "stream",
     "text": [
      "422\n",
      "max_acc: 0.6700134483952297, max_dpd: 0.07780119383333745, min_acc: 0.5000091902473095, min_dpd: 0.0\n",
      "max dist: 1.0771757541325098, acc_dist: 0.9338987292256314, dpd_dist: 0.2264088760653095\n",
      "423\n",
      "max_acc: 0.6700134483952297, max_dpd: 0.07780119383333745, min_acc: 0.5000091902473095, min_dpd: 0.0\n",
      "max dist: 1.0771757541325098, acc_dist: 0.9338987292256314, dpd_dist: 0.2264088760653095\n"
     ]
    },
    {
     "name": "stderr",
     "output_type": "stream",
     "text": [
      "[I 2025-05-16 19:29:06,789] Trial 0 finished with values: [0.6642955828608015, 0.041131996632062705] and parameters: {'max_depth': 5, 'eta': 0.2514698183812597, 'subsample': 0.6482658795938401, 'colsample_bytree': 0.6093462850709394}.\n",
      "[I 2025-05-16 19:29:06,794] A new study created in memory with name: no-name-0fa54327-1393-44a9-9f0e-e321a5484a88\n",
      "[I 2025-05-16 19:29:06,947] Trial 0 finished with values: [0.6557210821209866, 0.04420269073899257] and parameters: {'max_depth': 4, 'eta': 0.1257433066452089, 'subsample': 0.9688520685531381, 'colsample_bytree': 0.617064025900817}.\n",
      "[I 2025-05-16 19:29:06,953] A new study created in memory with name: no-name-1458a1f5-6d16-414b-9599-deefe2783c93\n"
     ]
    },
    {
     "name": "stdout",
     "output_type": "stream",
     "text": [
      "424\n",
      "max_acc: 0.6700134483952297, max_dpd: 0.07780119383333745, min_acc: 0.5000091902473095, min_dpd: 0.0\n",
      "max dist: 1.0771757541325098, acc_dist: 0.9338987292256314, dpd_dist: 0.2264088760653095\n",
      "425\n",
      "max_acc: 0.6700134483952297, max_dpd: 0.07780119383333745, min_acc: 0.5000091902473095, min_dpd: 0.0\n",
      "max dist: 1.0771757541325098, acc_dist: 0.9338987292256314, dpd_dist: 0.2264088760653095\n"
     ]
    },
    {
     "name": "stderr",
     "output_type": "stream",
     "text": [
      "[I 2025-05-16 19:29:07,181] Trial 0 finished with values: [0.6592976200322884, 0.023558062617233717] and parameters: {'max_depth': 6, 'eta': 0.05086320665332997, 'subsample': 0.9443509483297008, 'colsample_bytree': 0.8718227990833041}.\n",
      "[I 2025-05-16 19:29:07,187] A new study created in memory with name: no-name-808c334a-5f13-4572-a9c3-2dcc8c366018\n",
      "[I 2025-05-16 19:29:07,321] Trial 0 finished with values: [0.6628680311120506, 0.031844414354817364] and parameters: {'max_depth': 5, 'eta': 0.1801451581735663, 'subsample': 0.7068955049280169, 'colsample_bytree': 0.9027583955101005}.\n",
      "[I 2025-05-16 19:29:07,328] A new study created in memory with name: no-name-c20277b4-5269-40c9-86cc-89c9bd168f19\n"
     ]
    },
    {
     "name": "stdout",
     "output_type": "stream",
     "text": [
      "426\n",
      "max_acc: 0.6700134483952297, max_dpd: 0.07780119383333745, min_acc: 0.5000091902473095, min_dpd: 0.0\n",
      "max dist: 1.0771757541325098, acc_dist: 0.9338987292256314, dpd_dist: 0.2264088760653095\n",
      "427\n",
      "max_acc: 0.6700134483952297, max_dpd: 0.07780119383333745, min_acc: 0.5000091902473095, min_dpd: 0.0\n",
      "max dist: 1.0771757541325098, acc_dist: 0.9338987292256314, dpd_dist: 0.2264088760653095\n"
     ]
    },
    {
     "name": "stderr",
     "output_type": "stream",
     "text": [
      "[I 2025-05-16 19:29:07,458] Trial 0 finished with values: [0.6664415056075826, 0.02821067477619606] and parameters: {'max_depth': 6, 'eta': 0.22550563530935813, 'subsample': 0.8517006377379033, 'colsample_bytree': 0.8161272414923032}.\n",
      "[I 2025-05-16 19:29:07,464] A new study created in memory with name: no-name-b58bcff5-e9f4-4d2e-9037-ac9c2fb074a8\n",
      "[I 2025-05-16 19:29:07,597] Trial 0 finished with values: [0.6600098641987789, 0.0318115919138894] and parameters: {'max_depth': 4, 'eta': 0.2463403515837721, 'subsample': 0.7662324279854678, 'colsample_bytree': 0.7998606313104022}.\n",
      "[I 2025-05-16 19:29:07,603] A new study created in memory with name: no-name-1b0c138e-007f-4470-869c-7ac3a084600c\n"
     ]
    },
    {
     "name": "stdout",
     "output_type": "stream",
     "text": [
      "428\n",
      "max_acc: 0.6700134483952297, max_dpd: 0.07780119383333745, min_acc: 0.5000091902473095, min_dpd: 0.0\n",
      "max dist: 1.0771757541325098, acc_dist: 0.9338987292256314, dpd_dist: 0.2264088760653095\n",
      "429\n",
      "max_acc: 0.6700134483952297, max_dpd: 0.07780119383333745, min_acc: 0.5000091902473095, min_dpd: 0.0\n",
      "max dist: 1.0771757541325098, acc_dist: 0.9338987292256314, dpd_dist: 0.2264088760653095\n"
     ]
    },
    {
     "name": "stderr",
     "output_type": "stream",
     "text": [
      "[I 2025-05-16 19:29:07,739] Trial 0 finished with values: [0.6607221083652695, 0.03816788410590043] and parameters: {'max_depth': 7, 'eta': 0.17136808243841717, 'subsample': 0.8973534539015293, 'colsample_bytree': 0.7246824194491328}.\n",
      "[I 2025-05-16 19:29:07,744] A new study created in memory with name: no-name-e5edda37-55dd-410b-8b85-7e1e13de64c0\n",
      "[I 2025-05-16 19:29:07,948] Trial 0 finished with values: [0.6564379214111319, 0.0314910955028798] and parameters: {'max_depth': 7, 'eta': 0.01616180855362416, 'subsample': 0.9178081665088642, 'colsample_bytree': 0.9449913320824483}.\n"
     ]
    },
    {
     "name": "stdout",
     "output_type": "stream",
     "text": [
      "430\n",
      "max_acc: 0.6700134483952297, max_dpd: 0.07780119383333745, min_acc: 0.5000091902473095, min_dpd: 0.0\n",
      "max dist: 1.0771757541325098, acc_dist: 0.9338987292256314, dpd_dist: 0.2264088760653095\n"
     ]
    },
    {
     "name": "stderr",
     "output_type": "stream",
     "text": [
      "[I 2025-05-16 19:29:07,952] A new study created in memory with name: no-name-5d57f2f8-dd59-4a15-a556-3b9163ed11ce\n",
      "[I 2025-05-16 19:29:08,113] Trial 0 finished with values: [0.6592991517401733, 0.040289772043136905] and parameters: {'max_depth': 7, 'eta': 0.04063908445333562, 'subsample': 0.6174586965446592, 'colsample_bytree': 0.6271535341005112}.\n",
      "[I 2025-05-16 19:29:08,119] A new study created in memory with name: no-name-16d90bdb-42ed-40be-b2e5-17829afd99ba\n"
     ]
    },
    {
     "name": "stdout",
     "output_type": "stream",
     "text": [
      "431\n",
      "max_acc: 0.6700134483952297, max_dpd: 0.07780119383333745, min_acc: 0.5000091902473095, min_dpd: 0.0\n",
      "max dist: 1.0771757541325098, acc_dist: 0.9338987292256314, dpd_dist: 0.2264088760653095\n",
      "432\n",
      "max_acc: 0.6700134483952297, max_dpd: 0.07780119383333745, min_acc: 0.5000091902473095, min_dpd: 0.0\n",
      "max dist: 1.0771757541325098, acc_dist: 0.9338987292256314, dpd_dist: 0.2264088760653095\n"
     ]
    },
    {
     "name": "stderr",
     "output_type": "stream",
     "text": [
      "[I 2025-05-16 19:29:08,311] Trial 0 finished with values: [0.6585853758657979, 0.02410721017570903] and parameters: {'max_depth': 3, 'eta': 0.020714484325030157, 'subsample': 0.6165850453594004, 'colsample_bytree': 0.9081055396321764}.\n",
      "[I 2025-05-16 19:29:08,318] A new study created in memory with name: no-name-ea799bf4-e451-4c7d-8b03-3af5d6e271ce\n",
      "[I 2025-05-16 19:29:08,467] Trial 0 finished with values: [0.6585823124500281, 0.027389328463191958] and parameters: {'max_depth': 7, 'eta': 0.06540138942784415, 'subsample': 0.888223489348342, 'colsample_bytree': 0.7901634021867907}.\n",
      "[I 2025-05-16 19:29:08,472] A new study created in memory with name: no-name-6df339c2-62e5-4cf1-b84f-7b6bebe89f1d\n"
     ]
    },
    {
     "name": "stdout",
     "output_type": "stream",
     "text": [
      "433\n",
      "max_acc: 0.6700134483952297, max_dpd: 0.07780119383333745, min_acc: 0.5000091902473095, min_dpd: 0.0\n",
      "max dist: 1.0771757541325098, acc_dist: 0.9338987292256314, dpd_dist: 0.2264088760653095\n",
      "434\n",
      "max_acc: 0.6700134483952297, max_dpd: 0.07780119383333745, min_acc: 0.5000091902473095, min_dpd: 0.0\n",
      "max dist: 1.0771757541325098, acc_dist: 0.9338987292256314, dpd_dist: 0.2264088760653095\n"
     ]
    },
    {
     "name": "stderr",
     "output_type": "stream",
     "text": [
      "[I 2025-05-16 19:29:08,591] Trial 0 finished with values: [0.66143435253176, 0.034283716560375044] and parameters: {'max_depth': 3, 'eta': 0.22700245600659685, 'subsample': 0.9915542625693875, 'colsample_bytree': 0.756539083051582}.\n",
      "[I 2025-05-16 19:29:08,598] A new study created in memory with name: no-name-c0215b49-1f9c-479a-9777-12d62690f813\n",
      "[I 2025-05-16 19:29:08,720] Trial 0 finished with values: [0.6614466061948394, 0.022846580239846193] and parameters: {'max_depth': 4, 'eta': 0.14945944590221022, 'subsample': 0.9920529494674957, 'colsample_bytree': 0.9254905438982144}.\n",
      "[I 2025-05-16 19:29:08,726] A new study created in memory with name: no-name-e69d9869-10b0-4709-b5af-b5bbbb714e58\n"
     ]
    },
    {
     "name": "stdout",
     "output_type": "stream",
     "text": [
      "435\n",
      "max_acc: 0.6700134483952297, max_dpd: 0.07780119383333745, min_acc: 0.5000091902473095, min_dpd: 0.0\n",
      "max dist: 1.0771757541325098, acc_dist: 0.9338987292256314, dpd_dist: 0.2264088760653095\n",
      "436\n",
      "max_acc: 0.6700134483952297, max_dpd: 0.07780119383333745, min_acc: 0.5000091902473095, min_dpd: 0.0\n",
      "max dist: 1.0771757541325098, acc_dist: 0.9338987292256314, dpd_dist: 0.2264088760653095\n"
     ]
    },
    {
     "name": "stderr",
     "output_type": "stream",
     "text": [
      "[I 2025-05-16 19:29:08,936] Trial 0 finished with values: [0.6600068007830091, 0.037197823401266435] and parameters: {'max_depth': 5, 'eta': 0.024552318035433035, 'subsample': 0.9313255143602021, 'colsample_bytree': 0.7073291964986189}.\n",
      "[I 2025-05-16 19:29:08,942] A new study created in memory with name: no-name-d2ed560f-bc4e-4711-88e6-2f048cb47781\n",
      "[I 2025-05-16 19:29:09,081] Trial 0 finished with values: [0.6578624097441129, 0.0405912385721404] and parameters: {'max_depth': 4, 'eta': 0.2864337819399601, 'subsample': 0.8619124307444692, 'colsample_bytree': 0.8950762821713965}.\n",
      "[I 2025-05-16 19:29:09,086] A new study created in memory with name: no-name-51a4289f-c5d8-4b6c-b022-6f7f0530bdce\n"
     ]
    },
    {
     "name": "stdout",
     "output_type": "stream",
     "text": [
      "437\n",
      "max_acc: 0.6700134483952297, max_dpd: 0.07780119383333745, min_acc: 0.5000091902473095, min_dpd: 0.0\n",
      "max dist: 1.0771757541325098, acc_dist: 0.9338987292256314, dpd_dist: 0.2264088760653095\n",
      "438\n",
      "max_acc: 0.6700134483952297, max_dpd: 0.07780119383333745, min_acc: 0.5000091902473095, min_dpd: 0.0\n",
      "max dist: 1.0771757541325098, acc_dist: 0.9338987292256314, dpd_dist: 0.2264088760653095\n"
     ]
    },
    {
     "name": "stderr",
     "output_type": "stream",
     "text": [
      "[I 2025-05-16 19:29:09,233] Trial 0 finished with values: [0.6621527235297903, 0.053575729306506566] and parameters: {'max_depth': 7, 'eta': 0.07683676210659128, 'subsample': 0.9042066844545453, 'colsample_bytree': 0.6076641144719312}.\n",
      "[I 2025-05-16 19:29:09,239] A new study created in memory with name: no-name-70170b5b-75a2-4025-b3d7-c0945a0b9af8\n",
      "[I 2025-05-16 19:29:09,390] Trial 0 finished with values: [0.6657246663174373, 0.020599701982754626] and parameters: {'max_depth': 7, 'eta': 0.09846115378619846, 'subsample': 0.8176032213384978, 'colsample_bytree': 0.8378989637123635}.\n",
      "[I 2025-05-16 19:29:09,396] A new study created in memory with name: no-name-4ef040e1-0fa9-4e30-b0a3-9d5778a7aa44\n"
     ]
    },
    {
     "name": "stdout",
     "output_type": "stream",
     "text": [
      "439\n",
      "max_acc: 0.6700134483952297, max_dpd: 0.07780119383333745, min_acc: 0.5000091902473095, min_dpd: 0.0\n",
      "max dist: 1.0771757541325098, acc_dist: 0.9338987292256314, dpd_dist: 0.2264088760653095\n",
      "440\n",
      "max_acc: 0.6700134483952297, max_dpd: 0.07780119383333745, min_acc: 0.5000091902473095, min_dpd: 0.0\n",
      "max dist: 1.0771757541325098, acc_dist: 0.9338987292256314, dpd_dist: 0.2264088760653095\n"
     ]
    },
    {
     "name": "stderr",
     "output_type": "stream",
     "text": [
      "[I 2025-05-16 19:29:09,557] Trial 0 finished with values: [0.6650154855667166, 0.03889732178900174] and parameters: {'max_depth': 6, 'eta': 0.22932211532549612, 'subsample': 0.9644510318844257, 'colsample_bytree': 0.7658888641021533}.\n",
      "[I 2025-05-16 19:29:09,562] A new study created in memory with name: no-name-e9cc6066-28ad-4951-90bb-93117eccd6ea\n",
      "[I 2025-05-16 19:29:09,697] Trial 0 finished with values: [0.6621527235297903, 0.03226578242241455] and parameters: {'max_depth': 4, 'eta': 0.21013295670161697, 'subsample': 0.8346069215059522, 'colsample_bytree': 0.6950624357566285}.\n",
      "[I 2025-05-16 19:29:09,702] A new study created in memory with name: no-name-7b56ac98-c641-4917-91f7-c79209cf9953\n"
     ]
    },
    {
     "name": "stdout",
     "output_type": "stream",
     "text": [
      "441\n",
      "max_acc: 0.6700134483952297, max_dpd: 0.07780119383333745, min_acc: 0.5000091902473095, min_dpd: 0.0\n",
      "max dist: 1.0771757541325098, acc_dist: 0.9338987292256314, dpd_dist: 0.2264088760653095\n",
      "442\n",
      "max_acc: 0.6700134483952297, max_dpd: 0.07780119383333745, min_acc: 0.5000091902473095, min_dpd: 0.0\n",
      "max dist: 1.0771757541325098, acc_dist: 0.9338987292256314, dpd_dist: 0.2264088760653095\n"
     ]
    },
    {
     "name": "stderr",
     "output_type": "stream",
     "text": [
      "[I 2025-05-16 19:29:09,837] Trial 0 finished with values: [0.663583338694311, 0.03236901297899861] and parameters: {'max_depth': 5, 'eta': 0.2523235364392101, 'subsample': 0.8129765275434969, 'colsample_bytree': 0.6653077161559791}.\n",
      "[I 2025-05-16 19:29:09,843] A new study created in memory with name: no-name-c29bd1f2-9fd5-4a19-88e3-fe1622ace96d\n",
      "[I 2025-05-16 19:29:09,968] Trial 0 finished with values: [0.6628726262357053, 0.021750907425823317] and parameters: {'max_depth': 3, 'eta': 0.24456474076079743, 'subsample': 0.6641244470855417, 'colsample_bytree': 0.9788994993033955}.\n",
      "[I 2025-05-16 19:29:09,973] A new study created in memory with name: no-name-498a069f-c297-41c9-81d2-69e7bbad3cf8\n"
     ]
    },
    {
     "name": "stdout",
     "output_type": "stream",
     "text": [
      "443\n",
      "max_acc: 0.6700134483952297, max_dpd: 0.07780119383333745, min_acc: 0.5000091902473095, min_dpd: 0.0\n",
      "max dist: 1.0771757541325098, acc_dist: 0.9338987292256314, dpd_dist: 0.2264088760653095\n",
      "444\n",
      "max_acc: 0.6700134483952297, max_dpd: 0.07780119383333745, min_acc: 0.5000091902473095, min_dpd: 0.0\n",
      "max dist: 1.0771757541325098, acc_dist: 0.9338987292256314, dpd_dist: 0.2264088760653095\n"
     ]
    },
    {
     "name": "stderr",
     "output_type": "stream",
     "text": [
      "[I 2025-05-16 19:29:10,123] Trial 0 finished with values: [0.663581806986426, 0.021790687909745265] and parameters: {'max_depth': 7, 'eta': 0.03826716105760032, 'subsample': 0.6814781301203446, 'colsample_bytree': 0.6691109157395692}.\n",
      "[I 2025-05-16 19:29:10,129] A new study created in memory with name: no-name-2a21be1c-403d-4e28-a1cf-18d88479c839\n",
      "[I 2025-05-16 19:29:10,252] Trial 0 finished with values: [0.6542919986643507, 0.024170867102889192] and parameters: {'max_depth': 3, 'eta': 0.1880432892120265, 'subsample': 0.8876448834005727, 'colsample_bytree': 0.9876135124288711}.\n",
      "[I 2025-05-16 19:29:10,257] A new study created in memory with name: no-name-98437ccc-2066-4651-b11f-25d5c3816546\n"
     ]
    },
    {
     "name": "stdout",
     "output_type": "stream",
     "text": [
      "445\n",
      "max_acc: 0.6700134483952297, max_dpd: 0.07780119383333745, min_acc: 0.5000091902473095, min_dpd: 0.0\n",
      "max dist: 1.0771757541325098, acc_dist: 0.9338987292256314, dpd_dist: 0.2264088760653095\n",
      "446\n",
      "max_acc: 0.6700134483952297, max_dpd: 0.07780119383333745, min_acc: 0.5000091902473095, min_dpd: 0.0\n",
      "max dist: 1.0771757541325098, acc_dist: 0.9338987292256314, dpd_dist: 0.2264088760653095\n"
     ]
    },
    {
     "name": "stderr",
     "output_type": "stream",
     "text": [
      "[I 2025-05-16 19:29:10,395] Trial 0 finished with values: [0.6678690573563335, 0.045570085519187814] and parameters: {'max_depth': 6, 'eta': 0.24757260897568292, 'subsample': 0.9176712427094931, 'colsample_bytree': 0.8802762169742353}.\n",
      "[I 2025-05-16 19:29:10,400] A new study created in memory with name: no-name-02b8712a-ce2d-42f9-aa30-fa86a44e04aa\n",
      "[I 2025-05-16 19:29:10,529] Trial 0 finished with values: [0.6628664994041656, 0.03213109991682204] and parameters: {'max_depth': 4, 'eta': 0.11474689334417895, 'subsample': 0.9769661898550934, 'colsample_bytree': 0.754407164859613}.\n",
      "[I 2025-05-16 19:29:10,533] A new study created in memory with name: no-name-a3707eca-7ef9-4404-80f1-d4f034251853\n"
     ]
    },
    {
     "name": "stdout",
     "output_type": "stream",
     "text": [
      "447\n",
      "max_acc: 0.6700134483952297, max_dpd: 0.07780119383333745, min_acc: 0.5000091902473095, min_dpd: 0.0\n",
      "max dist: 1.0771757541325098, acc_dist: 0.9338987292256314, dpd_dist: 0.2264088760653095\n",
      "448\n",
      "max_acc: 0.6700134483952297, max_dpd: 0.07780119383333745, min_acc: 0.5000091902473095, min_dpd: 0.0\n",
      "max dist: 1.0771757541325098, acc_dist: 0.9338987292256314, dpd_dist: 0.2264088760653095\n"
     ]
    },
    {
     "name": "stderr",
     "output_type": "stream",
     "text": [
      "[I 2025-05-16 19:29:10,659] Trial 0 finished with values: [0.6592991517401733, 0.017737783424116665] and parameters: {'max_depth': 3, 'eta': 0.15047940635873483, 'subsample': 0.6528300730662343, 'colsample_bytree': 0.9707877214865394}.\n",
      "[I 2025-05-16 19:29:10,665] A new study created in memory with name: no-name-8eb0862b-120f-4bbf-b009-1a33f7595cd5\n",
      "[I 2025-05-16 19:29:10,802] Trial 0 finished with values: [0.6657246663174373, 0.03149488911787282] and parameters: {'max_depth': 5, 'eta': 0.1811523587427861, 'subsample': 0.6634003665199882, 'colsample_bytree': 0.7125999919243308}.\n",
      "[I 2025-05-16 19:29:10,807] A new study created in memory with name: no-name-5aa0bda2-bef7-455c-ab93-7148fb658f66\n"
     ]
    },
    {
     "name": "stdout",
     "output_type": "stream",
     "text": [
      "449\n",
      "max_acc: 0.6700134483952297, max_dpd: 0.07780119383333745, min_acc: 0.5000091902473095, min_dpd: 0.0\n",
      "max dist: 1.0771757541325098, acc_dist: 0.9338987292256314, dpd_dist: 0.2264088760653095\n",
      "450\n",
      "max_acc: 0.6700134483952297, max_dpd: 0.07780119383333745, min_acc: 0.5000091902473095, min_dpd: 0.0\n",
      "max dist: 1.0771757541325098, acc_dist: 0.9338987292256314, dpd_dist: 0.2264088760653095\n"
     ]
    },
    {
     "name": "stderr",
     "output_type": "stream",
     "text": [
      "[I 2025-05-16 19:29:10,951] Trial 0 finished with values: [0.667153749774073, 0.028346065045864417] and parameters: {'max_depth': 3, 'eta': 0.24519136496840657, 'subsample': 0.7033228355801455, 'colsample_bytree': 0.8712109909656398}.\n",
      "[I 2025-05-16 19:29:10,958] A new study created in memory with name: no-name-2342197e-1af1-447b-95a1-c7e4684d09f1\n",
      "[I 2025-05-16 19:29:11,115] Trial 0 finished with values: [0.6642955828608015, 0.025502279967511293] and parameters: {'max_depth': 7, 'eta': 0.07672778467164655, 'subsample': 0.8190609113180457, 'colsample_bytree': 0.8378557543612782}.\n",
      "[I 2025-05-16 19:29:11,120] A new study created in memory with name: no-name-8ba71509-b8aa-4191-9c4d-ef17bf73026b\n"
     ]
    },
    {
     "name": "stdout",
     "output_type": "stream",
     "text": [
      "451\n",
      "max_acc: 0.6700134483952297, max_dpd: 0.07780119383333745, min_acc: 0.5000091902473095, min_dpd: 0.0\n",
      "max dist: 1.0771757541325098, acc_dist: 0.9338987292256314, dpd_dist: 0.2264088760653095\n",
      "452\n",
      "max_acc: 0.6700134483952297, max_dpd: 0.07780119383333745, min_acc: 0.5000091902473095, min_dpd: 0.0\n",
      "max dist: 1.0771757541325098, acc_dist: 0.9338987292256314, dpd_dist: 0.2264088760653095\n"
     ]
    },
    {
     "name": "stderr",
     "output_type": "stream",
     "text": [
      "[I 2025-05-16 19:29:11,261] Trial 0 finished with values: [0.6642955828608015, 0.0350976161903081] and parameters: {'max_depth': 7, 'eta': 0.18564813830890187, 'subsample': 0.6695704082214223, 'colsample_bytree': 0.8478505540353517}.\n",
      "[I 2025-05-16 19:29:11,268] A new study created in memory with name: no-name-89cf9027-dc70-49b0-a5a8-a30af3a1660f\n"
     ]
    },
    {
     "name": "stdout",
     "output_type": "stream",
     "text": [
      "453\n",
      "max_acc: 0.6700134483952297, max_dpd: 0.07780119383333745, min_acc: 0.5000091902473095, min_dpd: 0.0\n",
      "max dist: 1.0771757541325098, acc_dist: 0.9338987292256314, dpd_dist: 0.2264088760653095\n"
     ]
    },
    {
     "name": "stderr",
     "output_type": "stream",
     "text": [
      "[I 2025-05-16 19:29:11,472] Trial 0 finished with values: [0.6678675256484485, 0.042170966997189925] and parameters: {'max_depth': 5, 'eta': 0.03173751606626501, 'subsample': 0.8449658879535994, 'colsample_bytree': 0.6055671182183997}.\n",
      "[I 2025-05-16 19:29:11,479] A new study created in memory with name: no-name-ea45c674-e3ee-4113-bdf7-3da7bf82f105\n",
      "[I 2025-05-16 19:29:11,615] Trial 0 finished with values: [0.6642955828608015, 0.04469284939351335] and parameters: {'max_depth': 7, 'eta': 0.1225158484101824, 'subsample': 0.6438468834976637, 'colsample_bytree': 0.8178893053377329}.\n",
      "[I 2025-05-16 19:29:11,620] A new study created in memory with name: no-name-e7467621-3854-4ea7-a1d5-2087187dff3c\n"
     ]
    },
    {
     "name": "stdout",
     "output_type": "stream",
     "text": [
      "454\n",
      "max_acc: 0.6700134483952297, max_dpd: 0.07780119383333745, min_acc: 0.5000091902473095, min_dpd: 0.0\n",
      "max dist: 1.0771757541325098, acc_dist: 0.9338987292256314, dpd_dist: 0.2264088760653095\n",
      "455\n",
      "max_acc: 0.6700134483952297, max_dpd: 0.07780119383333745, min_acc: 0.5000091902473095, min_dpd: 0.0\n",
      "max dist: 1.0771757541325098, acc_dist: 0.9338987292256314, dpd_dist: 0.2264088760653095\n"
     ]
    },
    {
     "name": "stderr",
     "output_type": "stream",
     "text": [
      "[I 2025-05-16 19:29:11,744] Trial 0 finished with values: [0.6628680311120506, 0.033436751079596434] and parameters: {'max_depth': 3, 'eta': 0.2603493269953002, 'subsample': 0.6690605304310572, 'colsample_bytree': 0.6261395366544987}.\n",
      "[I 2025-05-16 19:29:11,751] A new study created in memory with name: no-name-a82947bb-0db7-4815-bd51-6c47a041d347\n",
      "[I 2025-05-16 19:29:11,874] Trial 0 finished with values: [0.6671537497740733, 0.029407504883347646] and parameters: {'max_depth': 6, 'eta': 0.2815216325942186, 'subsample': 0.6293513233738841, 'colsample_bytree': 0.925103485638867}.\n",
      "[I 2025-05-16 19:29:11,881] A new study created in memory with name: no-name-cccd8f57-279e-43a0-8528-736f636d60a9\n"
     ]
    },
    {
     "name": "stdout",
     "output_type": "stream",
     "text": [
      "456\n",
      "max_acc: 0.6700134483952297, max_dpd: 0.07780119383333745, min_acc: 0.5000091902473095, min_dpd: 0.0\n",
      "max dist: 1.0771757541325098, acc_dist: 0.9338987292256314, dpd_dist: 0.2264088760653095\n",
      "457\n",
      "max_acc: 0.6700134483952297, max_dpd: 0.07780119383333745, min_acc: 0.5000091902473095, min_dpd: 0.0\n",
      "max dist: 1.0771757541325098, acc_dist: 0.9338987292256314, dpd_dist: 0.2264088760653095\n"
     ]
    },
    {
     "name": "stderr",
     "output_type": "stream",
     "text": [
      "[I 2025-05-16 19:29:12,045] Trial 0 finished with values: [0.6642955828608015, 0.03671698270380911] and parameters: {'max_depth': 5, 'eta': 0.2988689987046192, 'subsample': 0.8214054876578526, 'colsample_bytree': 0.6360209993290327}.\n",
      "[I 2025-05-16 19:29:12,052] A new study created in memory with name: no-name-ee8a79a9-f70c-4cdb-a211-701fa85164ad\n",
      "[I 2025-05-16 19:29:12,212] Trial 0 finished with values: [0.6635864021100808, 0.030015138994306457] and parameters: {'max_depth': 7, 'eta': 0.2088139928860212, 'subsample': 0.9807805907300815, 'colsample_bytree': 0.8597613595855094}.\n",
      "[I 2025-05-16 19:29:12,217] A new study created in memory with name: no-name-a31de044-038c-45e5-bb12-179fa37adf15\n"
     ]
    },
    {
     "name": "stdout",
     "output_type": "stream",
     "text": [
      "458\n",
      "max_acc: 0.6700134483952297, max_dpd: 0.07780119383333745, min_acc: 0.5000091902473095, min_dpd: 0.0\n",
      "max dist: 1.0771757541325098, acc_dist: 0.9338987292256314, dpd_dist: 0.2264088760653095\n",
      "459\n",
      "max_acc: 0.6700134483952297, max_dpd: 0.07780119383333745, min_acc: 0.5000091902473095, min_dpd: 0.0\n",
      "max dist: 1.0771757541325098, acc_dist: 0.9338987292256314, dpd_dist: 0.2264088760653095\n"
     ]
    },
    {
     "name": "stderr",
     "output_type": "stream",
     "text": [
      "[I 2025-05-16 19:29:12,359] Trial 0 finished with values: [0.6592899614928638, 0.03510885973669183] and parameters: {'max_depth': 5, 'eta': 0.19277527129665972, 'subsample': 0.87468819568018, 'colsample_bytree': 0.714115249189727}.\n",
      "[I 2025-05-16 19:29:12,367] A new study created in memory with name: no-name-107a7bc5-266e-42e6-bc38-59a5ba933004\n",
      "[I 2025-05-16 19:29:12,517] Trial 0 finished with values: [0.6607190449494996, 0.041459321092478] and parameters: {'max_depth': 5, 'eta': 0.2233071476068656, 'subsample': 0.9431005345301108, 'colsample_bytree': 0.6702940019344135}.\n",
      "[I 2025-05-16 19:29:12,522] A new study created in memory with name: no-name-473bc713-cb43-4124-bcd9-4202240c283e\n"
     ]
    },
    {
     "name": "stdout",
     "output_type": "stream",
     "text": [
      "460\n",
      "max_acc: 0.6700134483952297, max_dpd: 0.07780119383333745, min_acc: 0.5000091902473095, min_dpd: 0.0\n",
      "max dist: 1.0771757541325098, acc_dist: 0.9338987292256314, dpd_dist: 0.2264088760653095\n",
      "461\n",
      "max_acc: 0.6700134483952297, max_dpd: 0.07780119383333745, min_acc: 0.5000091902473095, min_dpd: 0.0\n",
      "max dist: 1.0771757541325098, acc_dist: 0.9338987292256314, dpd_dist: 0.2264088760653095\n"
     ]
    },
    {
     "name": "stderr",
     "output_type": "stream",
     "text": [
      "[I 2025-05-16 19:29:12,664] Trial 0 finished with values: [0.6592991517401733, 0.01768299265636103] and parameters: {'max_depth': 7, 'eta': 0.07888532522459375, 'subsample': 0.7023119388213932, 'colsample_bytree': 0.9954910899124425}.\n",
      "[I 2025-05-16 19:29:12,670] A new study created in memory with name: no-name-c9c52949-6ae5-4d1b-87de-54a62623983b\n",
      "[I 2025-05-16 19:29:12,814] Trial 0 finished with values: [0.6650062953194071, 0.04502666641504199] and parameters: {'max_depth': 7, 'eta': 0.2992263133653948, 'subsample': 0.9311838144995584, 'colsample_bytree': 0.9458470985151732}.\n",
      "[I 2025-05-16 19:29:12,820] A new study created in memory with name: no-name-3e860251-ba14-4198-b7b8-f665154642ea\n"
     ]
    },
    {
     "name": "stdout",
     "output_type": "stream",
     "text": [
      "462\n",
      "max_acc: 0.6700134483952297, max_dpd: 0.07780119383333745, min_acc: 0.5000091902473095, min_dpd: 0.0\n",
      "max dist: 1.0771757541325098, acc_dist: 0.9338987292256314, dpd_dist: 0.2264088760653095\n",
      "463\n",
      "max_acc: 0.6700134483952297, max_dpd: 0.07780119383333745, min_acc: 0.5000091902473095, min_dpd: 0.0\n",
      "max dist: 1.0771757541325098, acc_dist: 0.9338987292256314, dpd_dist: 0.2264088760653095\n"
     ]
    },
    {
     "name": "stderr",
     "output_type": "stream",
     "text": [
      "[I 2025-05-16 19:29:12,941] Trial 0 finished with values: [0.6585853758657979, 0.02215695148464326] and parameters: {'max_depth': 6, 'eta': 0.1681004176174296, 'subsample': 0.735877994989155, 'colsample_bytree': 0.9192021084698174}.\n",
      "[I 2025-05-16 19:29:12,947] A new study created in memory with name: no-name-447061db-4b00-420f-b037-0418fc111d0a\n",
      "[I 2025-05-16 19:29:13,080] Trial 0 finished with values: [0.6664369104839278, 0.0354683640067743] and parameters: {'max_depth': 4, 'eta': 0.11067601381644951, 'subsample': 0.8270022640444262, 'colsample_bytree': 0.7687559899525387}.\n",
      "[I 2025-05-16 19:29:13,086] A new study created in memory with name: no-name-4ee65181-a19e-4ef8-92dc-9c2d7b87ab0c\n"
     ]
    },
    {
     "name": "stdout",
     "output_type": "stream",
     "text": [
      "464\n",
      "max_acc: 0.6700134483952297, max_dpd: 0.07780119383333745, min_acc: 0.5000091902473095, min_dpd: 0.0\n",
      "max dist: 1.0771757541325098, acc_dist: 0.9338987292256314, dpd_dist: 0.2264088760653095\n",
      "465\n",
      "max_acc: 0.6700134483952297, max_dpd: 0.07780119383333745, min_acc: 0.5000091902473095, min_dpd: 0.0\n",
      "max dist: 1.0771757541325098, acc_dist: 0.9338987292256314, dpd_dist: 0.2264088760653095\n"
     ]
    },
    {
     "name": "stderr",
     "output_type": "stream",
     "text": [
      "[I 2025-05-16 19:29:13,282] Trial 0 finished with values: [0.662157318653445, 0.03237185654772052] and parameters: {'max_depth': 4, 'eta': 0.0277746084680537, 'subsample': 0.6498724021319626, 'colsample_bytree': 0.6799867714630301}.\n",
      "[I 2025-05-16 19:29:13,288] A new study created in memory with name: no-name-2277988b-51b2-486f-a46b-18dbce8359bc\n"
     ]
    },
    {
     "name": "stdout",
     "output_type": "stream",
     "text": [
      "466\n",
      "max_acc: 0.6700134483952297, max_dpd: 0.07780119383333745, min_acc: 0.5000091902473095, min_dpd: 0.0\n",
      "max dist: 1.0771757541325098, acc_dist: 0.9338987292256314, dpd_dist: 0.2264088760653095\n"
     ]
    },
    {
     "name": "stderr",
     "output_type": "stream",
     "text": [
      "[I 2025-05-16 19:29:13,524] Trial 0 finished with values: [0.6585792490342582, 0.02801959362882202] and parameters: {'max_depth': 5, 'eta': 0.061099273323521844, 'subsample': 0.9890662865885428, 'colsample_bytree': 0.9916887233837962}.\n",
      "[I 2025-05-16 19:29:13,532] A new study created in memory with name: no-name-ee79ced1-a53a-427b-82b2-dd6b2b827481\n",
      "[I 2025-05-16 19:29:13,664] Trial 0 finished with values: [0.6635848704021959, 0.021097440465800737] and parameters: {'max_depth': 7, 'eta': 0.14188610379238756, 'subsample': 0.8481552156651624, 'colsample_bytree': 0.871853007908366}.\n",
      "[I 2025-05-16 19:29:13,670] A new study created in memory with name: no-name-f009ddd7-fb48-4725-b156-9545d58988b5\n"
     ]
    },
    {
     "name": "stdout",
     "output_type": "stream",
     "text": [
      "467\n",
      "max_acc: 0.6700134483952297, max_dpd: 0.07780119383333745, min_acc: 0.5000091902473095, min_dpd: 0.0\n",
      "max dist: 1.0771757541325098, acc_dist: 0.9338987292256314, dpd_dist: 0.2264088760653095\n",
      "468\n",
      "max_acc: 0.6700134483952297, max_dpd: 0.07780119383333745, min_acc: 0.5000091902473095, min_dpd: 0.0\n",
      "max dist: 1.0771757541325098, acc_dist: 0.9338987292256314, dpd_dist: 0.2264088760653095\n"
     ]
    },
    {
     "name": "stderr",
     "output_type": "stream",
     "text": [
      "[I 2025-05-16 19:29:13,794] Trial 0 finished with values: [0.6671537497740733, 0.0252710145570406] and parameters: {'max_depth': 5, 'eta': 0.22543002583829647, 'subsample': 0.9365652682333003, 'colsample_bytree': 0.809981275344588}.\n",
      "[I 2025-05-16 19:29:13,800] A new study created in memory with name: no-name-b0adeb76-5ac1-466c-a9e5-531d83ddc5e7\n",
      "[I 2025-05-16 19:29:13,925] Trial 0 finished with values: [0.6664384421918127, 0.036042431588383717] and parameters: {'max_depth': 6, 'eta': 0.11847941548510976, 'subsample': 0.8100498766382015, 'colsample_bytree': 0.7442729180346107}.\n",
      "[I 2025-05-16 19:29:13,930] A new study created in memory with name: no-name-e907c2d2-f085-4d4a-bd9a-95fb26189394\n"
     ]
    },
    {
     "name": "stdout",
     "output_type": "stream",
     "text": [
      "469\n",
      "max_acc: 0.6700134483952297, max_dpd: 0.07780119383333745, min_acc: 0.5000091902473095, min_dpd: 0.0\n",
      "max dist: 1.0771757541325098, acc_dist: 0.9338987292256314, dpd_dist: 0.2264088760653095\n",
      "470\n",
      "max_acc: 0.6700134483952297, max_dpd: 0.07780119383333745, min_acc: 0.5000091902473095, min_dpd: 0.0\n",
      "max dist: 1.0771757541325098, acc_dist: 0.9338987292256314, dpd_dist: 0.2264088760653095\n"
     ]
    },
    {
     "name": "stderr",
     "output_type": "stream",
     "text": [
      "[I 2025-05-16 19:29:14,049] Trial 0 finished with values: [0.6600144593224337, 0.019736855626624184] and parameters: {'max_depth': 3, 'eta': 0.11655387590247147, 'subsample': 0.7995155326073617, 'colsample_bytree': 0.9424408240873258}.\n",
      "[I 2025-05-16 19:29:14,055] A new study created in memory with name: no-name-b4883e03-6ca1-4100-b82e-460d1257ec0c\n",
      "[I 2025-05-16 19:29:14,197] Trial 0 finished with values: [0.663583338694311, 0.02514231697531034] and parameters: {'max_depth': 6, 'eta': 0.08747025148771623, 'subsample': 0.8105868212373031, 'colsample_bytree': 0.7593501224473141}.\n",
      "[I 2025-05-16 19:29:14,202] A new study created in memory with name: no-name-8ca24f95-8331-4164-8ae5-55c00118ddf3\n"
     ]
    },
    {
     "name": "stdout",
     "output_type": "stream",
     "text": [
      "471\n",
      "max_acc: 0.6700134483952297, max_dpd: 0.07780119383333745, min_acc: 0.5000091902473095, min_dpd: 0.0\n",
      "max dist: 1.0771757541325098, acc_dist: 0.9338987292256314, dpd_dist: 0.2264088760653095\n",
      "472\n",
      "max_acc: 0.6700134483952297, max_dpd: 0.07780119383333745, min_acc: 0.5000091902473095, min_dpd: 0.0\n",
      "max dist: 1.0771757541325098, acc_dist: 0.9338987292256314, dpd_dist: 0.2264088760653095\n"
     ]
    },
    {
     "name": "stderr",
     "output_type": "stream",
     "text": [
      "[I 2025-05-16 19:29:14,404] Trial 0 finished with values: [0.6614374159475299, 0.04163005828685481] and parameters: {'max_depth': 4, 'eta': 0.03855927268518363, 'subsample': 0.8840471573763035, 'colsample_bytree': 0.6442539093769685}.\n",
      "[I 2025-05-16 19:29:14,409] A new study created in memory with name: no-name-a03433d9-c9b0-466d-a09e-594a2d92fc86\n"
     ]
    },
    {
     "name": "stdout",
     "output_type": "stream",
     "text": [
      "473\n",
      "max_acc: 0.6700134483952297, max_dpd: 0.07780119383333745, min_acc: 0.5000091902473095, min_dpd: 0.0\n",
      "max dist: 1.0771757541325098, acc_dist: 0.9338987292256314, dpd_dist: 0.2264088760653095\n"
     ]
    },
    {
     "name": "stderr",
     "output_type": "stream",
     "text": [
      "[I 2025-05-16 19:29:14,661] Trial 0 finished with values: [0.6642955828608015, 0.03901643383548395] and parameters: {'max_depth': 5, 'eta': 0.24521966157109626, 'subsample': 0.6262695963565746, 'colsample_bytree': 0.6451545623749108}.\n",
      "[I 2025-05-16 19:29:14,667] A new study created in memory with name: no-name-6232f359-7f83-427c-af31-87a5ecbbe3d7\n",
      "[I 2025-05-16 19:29:14,795] Trial 0 finished with values: [0.6585838441579129, 0.030120690842230114] and parameters: {'max_depth': 4, 'eta': 0.2982653463803778, 'subsample': 0.6267546099425412, 'colsample_bytree': 0.7324060852189804}.\n",
      "[I 2025-05-16 19:29:14,800] A new study created in memory with name: no-name-a996b41d-2793-4e3a-8620-1723bef71598\n"
     ]
    },
    {
     "name": "stdout",
     "output_type": "stream",
     "text": [
      "474\n",
      "max_acc: 0.6700134483952297, max_dpd: 0.07780119383333745, min_acc: 0.5000091902473095, min_dpd: 0.0\n",
      "max dist: 1.0771757541325098, acc_dist: 0.9338987292256314, dpd_dist: 0.2264088760653095\n",
      "475\n",
      "max_acc: 0.6700134483952297, max_dpd: 0.07780119383333745, min_acc: 0.5000091902473095, min_dpd: 0.0\n",
      "max dist: 1.0771757541325098, acc_dist: 0.9338987292256314, dpd_dist: 0.2264088760653095\n"
     ]
    },
    {
     "name": "stderr",
     "output_type": "stream",
     "text": [
      "[I 2025-05-16 19:29:14,937] Trial 0 finished with values: [0.6592976200322884, 0.03870887684977096] and parameters: {'max_depth': 5, 'eta': 0.24415904338238692, 'subsample': 0.6585317027612153, 'colsample_bytree': 0.7891363598293313}.\n",
      "[I 2025-05-16 19:29:14,944] A new study created in memory with name: no-name-45ab300b-0c0d-49f6-8862-262e4be5458e\n",
      "[I 2025-05-16 19:29:15,109] Trial 0 finished with values: [0.6642971145686865, 0.03360327058643642] and parameters: {'max_depth': 6, 'eta': 0.22939985382087472, 'subsample': 0.7013774024337237, 'colsample_bytree': 0.7607983372238719}.\n",
      "[I 2025-05-16 19:29:15,115] A new study created in memory with name: no-name-11c16c09-fc0c-4c9e-b30b-eeff0be2ccc8\n"
     ]
    },
    {
     "name": "stdout",
     "output_type": "stream",
     "text": [
      "476\n",
      "max_acc: 0.6700134483952297, max_dpd: 0.07780119383333745, min_acc: 0.5000091902473095, min_dpd: 0.0\n",
      "max dist: 1.0771757541325098, acc_dist: 0.9338987292256314, dpd_dist: 0.2264088760653095\n",
      "477\n",
      "max_acc: 0.6700134483952297, max_dpd: 0.07780119383333745, min_acc: 0.5000091902473095, min_dpd: 0.0\n",
      "max dist: 1.0771757541325098, acc_dist: 0.9338987292256314, dpd_dist: 0.2264088760653095\n"
     ]
    },
    {
     "name": "stderr",
     "output_type": "stream",
     "text": [
      "[I 2025-05-16 19:29:15,294] Trial 0 finished with values: [0.6614374159475299, 0.030446409373628646] and parameters: {'max_depth': 3, 'eta': 0.2414207545958055, 'subsample': 0.9373841694983956, 'colsample_bytree': 0.949038020262937}.\n",
      "[I 2025-05-16 19:29:15,300] A new study created in memory with name: no-name-a1e39f20-1dbd-49c4-adff-805b044231b4\n",
      "[I 2025-05-16 19:29:15,446] Trial 0 finished with values: [0.6600098641987789, 0.025849791984821863] and parameters: {'max_depth': 6, 'eta': 0.28376798794609526, 'subsample': 0.7208213197344411, 'colsample_bytree': 0.8295549805721935}.\n",
      "[I 2025-05-16 19:29:15,452] A new study created in memory with name: no-name-93f1f395-0abd-41c5-9110-596b773e9dd1\n"
     ]
    },
    {
     "name": "stdout",
     "output_type": "stream",
     "text": [
      "478\n",
      "max_acc: 0.6700134483952297, max_dpd: 0.07780119383333745, min_acc: 0.5000091902473095, min_dpd: 0.0\n",
      "max dist: 1.0771757541325098, acc_dist: 0.9338987292256314, dpd_dist: 0.2264088760653095\n",
      "479\n",
      "max_acc: 0.6700134483952297, max_dpd: 0.07780119383333745, min_acc: 0.5000091902473095, min_dpd: 0.0\n",
      "max dist: 1.0771757541325098, acc_dist: 0.9338987292256314, dpd_dist: 0.2264088760653095\n"
     ]
    },
    {
     "name": "stderr",
     "output_type": "stream",
     "text": [
      "[I 2025-05-16 19:29:15,610] Trial 0 finished with values: [0.6564348579953619, 0.029045983214375477] and parameters: {'max_depth': 4, 'eta': 0.07769230756189534, 'subsample': 0.9670140890765855, 'colsample_bytree': 0.8731922845505671}.\n",
      "[I 2025-05-16 19:29:15,615] A new study created in memory with name: no-name-bf29785b-4d5c-4301-be05-7dd2c9400bda\n",
      "[I 2025-05-16 19:29:15,746] Trial 0 finished with values: [0.6600068007830091, 0.029890536975010012] and parameters: {'max_depth': 7, 'eta': 0.21482924986506446, 'subsample': 0.8748696675427731, 'colsample_bytree': 0.6553849847178741}.\n",
      "[I 2025-05-16 19:29:15,751] A new study created in memory with name: no-name-b4ea08ff-afc7-4ef8-b151-e09190ef8a17\n"
     ]
    },
    {
     "name": "stdout",
     "output_type": "stream",
     "text": [
      "480\n",
      "max_acc: 0.6700134483952297, max_dpd: 0.07780119383333745, min_acc: 0.5000091902473095, min_dpd: 0.0\n",
      "max dist: 1.0771757541325098, acc_dist: 0.9338987292256314, dpd_dist: 0.2264088760653095\n",
      "481\n",
      "max_acc: 0.6700134483952297, max_dpd: 0.07780119383333745, min_acc: 0.5000091902473095, min_dpd: 0.0\n",
      "max dist: 1.0771757541325098, acc_dist: 0.9338987292256314, dpd_dist: 0.2264088760653095\n"
     ]
    },
    {
     "name": "stderr",
     "output_type": "stream",
     "text": [
      "[I 2025-05-16 19:29:15,887] Trial 0 finished with values: [0.6642955828608015, 0.026084979976484107] and parameters: {'max_depth': 4, 'eta': 0.18613419748399826, 'subsample': 0.7058321449464581, 'colsample_bytree': 0.6457163076806726}.\n",
      "[I 2025-05-16 19:29:15,896] A new study created in memory with name: no-name-ea1074eb-10d6-4425-96fb-27c37d9a40e3\n",
      "[I 2025-05-16 19:29:16,044] Trial 0 finished with values: [0.6635772118627713, 0.03535690636843494] and parameters: {'max_depth': 6, 'eta': 0.23765911124311886, 'subsample': 0.8670290784140775, 'colsample_bytree': 0.7367881270013704}.\n",
      "[I 2025-05-16 19:29:16,048] A new study created in memory with name: no-name-e4343d57-a13c-439e-a95f-9f7e5dc15365\n"
     ]
    },
    {
     "name": "stdout",
     "output_type": "stream",
     "text": [
      "482\n",
      "max_acc: 0.6700134483952297, max_dpd: 0.07780119383333745, min_acc: 0.5000091902473095, min_dpd: 0.0\n",
      "max dist: 1.0771757541325098, acc_dist: 0.9338987292256314, dpd_dist: 0.2264088760653095\n",
      "483\n",
      "max_acc: 0.6700134483952297, max_dpd: 0.07780119383333745, min_acc: 0.5000091902473095, min_dpd: 0.0\n",
      "max dist: 1.0771757541325098, acc_dist: 0.9338987292256314, dpd_dist: 0.2264088760653095\n"
     ]
    },
    {
     "name": "stderr",
     "output_type": "stream",
     "text": [
      "[I 2025-05-16 19:29:16,218] Trial 0 finished with values: [0.660008332490894, 0.03367509830593085] and parameters: {'max_depth': 5, 'eta': 0.0506476743377508, 'subsample': 0.985156180443165, 'colsample_bytree': 0.7891879810756217}.\n",
      "[I 2025-05-16 19:29:16,224] A new study created in memory with name: no-name-dbd57018-cbc1-4509-b53f-9f0b3ae4e689\n",
      "[I 2025-05-16 19:29:16,363] Trial 0 finished with values: [0.6628710945278204, 0.02371757368484953] and parameters: {'max_depth': 6, 'eta': 0.1775869111551358, 'subsample': 0.9155099183081655, 'colsample_bytree': 0.9523003677431776}.\n",
      "[I 2025-05-16 19:29:16,370] A new study created in memory with name: no-name-1566a0a5-4f00-49a3-8d1f-2f23e376dc63\n"
     ]
    },
    {
     "name": "stdout",
     "output_type": "stream",
     "text": [
      "484\n",
      "max_acc: 0.6700134483952297, max_dpd: 0.07780119383333745, min_acc: 0.5000091902473095, min_dpd: 0.0\n",
      "max dist: 1.0771757541325098, acc_dist: 0.9338987292256314, dpd_dist: 0.2264088760653095\n",
      "485\n",
      "max_acc: 0.6700134483952297, max_dpd: 0.07780119383333745, min_acc: 0.5000091902473095, min_dpd: 0.0\n",
      "max dist: 1.0771757541325098, acc_dist: 0.9338987292256314, dpd_dist: 0.2264088760653095\n"
     ]
    },
    {
     "name": "stderr",
     "output_type": "stream",
     "text": [
      "[I 2025-05-16 19:29:16,498] Trial 0 finished with values: [0.6650124221509467, 0.040412053970069216] and parameters: {'max_depth': 7, 'eta': 0.12119849839823472, 'subsample': 0.7807777841305767, 'colsample_bytree': 0.7900124141729444}.\n",
      "[I 2025-05-16 19:29:16,505] A new study created in memory with name: no-name-120f4be9-403e-48b6-87d9-cf0451d3db87\n",
      "[I 2025-05-16 19:29:16,626] Trial 0 finished with values: [0.6614374159475299, 0.034352768531002914] and parameters: {'max_depth': 4, 'eta': 0.18687482197091335, 'subsample': 0.830454725837054, 'colsample_bytree': 0.6393088577627245}.\n",
      "[I 2025-05-16 19:29:16,631] A new study created in memory with name: no-name-cc1ce5d8-f7de-4000-b978-3d158182ced4\n"
     ]
    },
    {
     "name": "stdout",
     "output_type": "stream",
     "text": [
      "486\n",
      "max_acc: 0.6700134483952297, max_dpd: 0.07780119383333745, min_acc: 0.5000091902473095, min_dpd: 0.0\n",
      "max dist: 1.0771757541325098, acc_dist: 0.9338987292256314, dpd_dist: 0.2264088760653095\n",
      "487\n",
      "max_acc: 0.6700134483952297, max_dpd: 0.07780119383333745, min_acc: 0.5000091902473095, min_dpd: 0.0\n",
      "max dist: 1.0771757541325098, acc_dist: 0.9338987292256314, dpd_dist: 0.2264088760653095\n"
     ]
    },
    {
     "name": "stderr",
     "output_type": "stream",
     "text": [
      "[I 2025-05-16 19:29:16,769] Trial 0 finished with values: [0.665007827027292, 0.030891009153576926] and parameters: {'max_depth': 5, 'eta': 0.13188018982154964, 'subsample': 0.7125671305139195, 'colsample_bytree': 0.6824846527592277}.\n",
      "[I 2025-05-16 19:29:16,776] A new study created in memory with name: no-name-09a76a29-9ef6-48a5-94be-99864626b50d\n",
      "[I 2025-05-16 19:29:16,899] Trial 0 finished with values: [0.665006295319407, 0.03755806425397451] and parameters: {'max_depth': 5, 'eta': 0.27110353548125, 'subsample': 0.938338087580284, 'colsample_bytree': 0.6352434157991702}.\n",
      "[I 2025-05-16 19:29:16,903] A new study created in memory with name: no-name-b664e929-66ed-4752-9552-27c1b6ef8f6f\n"
     ]
    },
    {
     "name": "stdout",
     "output_type": "stream",
     "text": [
      "488\n",
      "max_acc: 0.6700134483952297, max_dpd: 0.07780119383333745, min_acc: 0.5000091902473095, min_dpd: 0.0\n",
      "max dist: 1.0771757541325098, acc_dist: 0.9338987292256314, dpd_dist: 0.2264088760653095\n",
      "489\n",
      "max_acc: 0.6700134483952297, max_dpd: 0.07780119383333745, min_acc: 0.5000091902473095, min_dpd: 0.0\n",
      "max dist: 1.0771757541325098, acc_dist: 0.9338987292256314, dpd_dist: 0.2264088760653095\n"
     ]
    },
    {
     "name": "stderr",
     "output_type": "stream",
     "text": [
      "[I 2025-05-16 19:29:17,075] Trial 0 finished with values: [0.6635848704021959, 0.029183751570885163] and parameters: {'max_depth': 3, 'eta': 0.024913644644770812, 'subsample': 0.6751185987049639, 'colsample_bytree': 0.6506691848075328}.\n",
      "[I 2025-05-16 19:29:17,081] A new study created in memory with name: no-name-30d755de-a7ac-4d51-87da-f0ee1491bf7c\n",
      "[I 2025-05-16 19:29:17,277] Trial 0 finished with values: [0.6635848704021959, 0.022782904562580437] and parameters: {'max_depth': 5, 'eta': 0.08846897980179393, 'subsample': 0.909024140481914, 'colsample_bytree': 0.8709947795321309}.\n"
     ]
    },
    {
     "name": "stdout",
     "output_type": "stream",
     "text": [
      "490\n",
      "max_acc: 0.6700134483952297, max_dpd: 0.07780119383333745, min_acc: 0.5000091902473095, min_dpd: 0.0\n",
      "max dist: 1.0771757541325098, acc_dist: 0.9338987292256314, dpd_dist: 0.2264088760653095\n",
      "491\n",
      "max_acc: 0.6700134483952297, max_dpd: 0.07780119383333745, min_acc: 0.5000091902473095, min_dpd: 0.0\n",
      "max dist: 1.0771757541325098, acc_dist: 0.9338987292256314, dpd_dist: 0.2264088760653095\n"
     ]
    },
    {
     "name": "stderr",
     "output_type": "stream",
     "text": [
      "[I 2025-05-16 19:29:17,282] A new study created in memory with name: no-name-fad5d1a8-f846-4830-abc2-9a0c956f4d29\n",
      "[I 2025-05-16 19:29:17,416] Trial 0 finished with values: [0.6614374159475299, 0.032751327312805834] and parameters: {'max_depth': 6, 'eta': 0.059528546955407845, 'subsample': 0.9772213791447977, 'colsample_bytree': 0.8147179970723318}.\n",
      "[I 2025-05-16 19:29:17,422] A new study created in memory with name: no-name-50bcc926-6685-4027-8340-8e5770b6af39\n",
      "[I 2025-05-16 19:29:17,547] Trial 0 finished with values: [0.663583338694311, 0.03362575359239937] and parameters: {'max_depth': 3, 'eta': 0.2547564138921123, 'subsample': 0.8103568027594015, 'colsample_bytree': 0.8882178496650495}.\n",
      "[I 2025-05-16 19:29:17,551] A new study created in memory with name: no-name-e060a8d0-68c3-4b72-a3bc-adcb98c773bf\n"
     ]
    },
    {
     "name": "stdout",
     "output_type": "stream",
     "text": [
      "492\n",
      "max_acc: 0.6700134483952297, max_dpd: 0.07780119383333745, min_acc: 0.5000091902473095, min_dpd: 0.0\n",
      "max dist: 1.0771757541325098, acc_dist: 0.9338987292256314, dpd_dist: 0.2264088760653095\n",
      "493\n",
      "max_acc: 0.6700134483952297, max_dpd: 0.07780119383333745, min_acc: 0.5000091902473095, min_dpd: 0.0\n",
      "max dist: 1.0771757541325098, acc_dist: 0.9338987292256314, dpd_dist: 0.2264088760653095\n"
     ]
    },
    {
     "name": "stderr",
     "output_type": "stream",
     "text": [
      "[I 2025-05-16 19:29:17,666] Trial 0 finished with values: [0.6600129276145488, 0.02754333908600017] and parameters: {'max_depth': 6, 'eta': 0.19343496262493756, 'subsample': 0.6655564453996391, 'colsample_bytree': 0.8790544136520364}.\n",
      "[I 2025-05-16 19:29:17,671] A new study created in memory with name: no-name-0a24fe42-5fc2-437f-ac6e-3618c7cdb529\n",
      "[I 2025-05-16 19:29:17,858] Trial 0 finished with values: [0.6592960883244036, 0.028018316617240368] and parameters: {'max_depth': 5, 'eta': 0.017832127206056425, 'subsample': 0.7860730845062545, 'colsample_bytree': 0.9197310735042807}.\n",
      "[I 2025-05-16 19:29:17,863] A new study created in memory with name: no-name-1fa27f1f-778b-47ca-aa21-7fcdf5dd46cf\n"
     ]
    },
    {
     "name": "stdout",
     "output_type": "stream",
     "text": [
      "494\n",
      "max_acc: 0.6700134483952297, max_dpd: 0.07780119383333745, min_acc: 0.5000091902473095, min_dpd: 0.0\n",
      "max dist: 1.0771757541325098, acc_dist: 0.9338987292256314, dpd_dist: 0.2264088760653095\n",
      "495\n",
      "max_acc: 0.6700134483952297, max_dpd: 0.07780119383333745, min_acc: 0.5000091902473095, min_dpd: 0.0\n",
      "max dist: 1.0771757541325098, acc_dist: 0.9338987292256314, dpd_dist: 0.2264088760653095\n"
     ]
    },
    {
     "name": "stderr",
     "output_type": "stream",
     "text": [
      "[I 2025-05-16 19:29:17,994] Trial 0 finished with values: [0.6585869075736829, 0.03560366302323601] and parameters: {'max_depth': 4, 'eta': 0.07235870985522848, 'subsample': 0.6289281645331576, 'colsample_bytree': 0.6597611112689216}.\n",
      "[I 2025-05-16 19:29:17,999] A new study created in memory with name: no-name-6da450a4-c209-483c-a8bc-c05f5e3d2ec7\n",
      "[I 2025-05-16 19:29:18,119] Trial 0 finished with values: [0.6628680311120506, 0.02328754304087637] and parameters: {'max_depth': 7, 'eta': 0.16777385724784702, 'subsample': 0.810093531332889, 'colsample_bytree': 0.9981191042144978}.\n",
      "[I 2025-05-16 19:29:18,124] A new study created in memory with name: no-name-d3496523-ee01-45a2-bd71-ec88fb6c420a\n"
     ]
    },
    {
     "name": "stdout",
     "output_type": "stream",
     "text": [
      "496\n",
      "max_acc: 0.6700134483952297, max_dpd: 0.07780119383333745, min_acc: 0.5000091902473095, min_dpd: 0.0\n",
      "max dist: 1.0771757541325098, acc_dist: 0.9338987292256314, dpd_dist: 0.2264088760653095\n",
      "497\n",
      "max_acc: 0.6700134483952297, max_dpd: 0.07780119383333745, min_acc: 0.5000091902473095, min_dpd: 0.0\n",
      "max dist: 1.0771757541325098, acc_dist: 0.9338987292256314, dpd_dist: 0.2264088760653095\n"
     ]
    },
    {
     "name": "stderr",
     "output_type": "stream",
     "text": [
      "[I 2025-05-16 19:29:18,275] Trial 0 finished with values: [0.6657216029016674, 0.04186240511471331] and parameters: {'max_depth': 7, 'eta': 0.09228703495434147, 'subsample': 0.6089034909087588, 'colsample_bytree': 0.6005007599358635}.\n",
      "[I 2025-05-16 19:29:18,282] A new study created in memory with name: no-name-b7d9c2fa-258b-44ab-96a3-1c5576c9347a\n",
      "[I 2025-05-16 19:29:18,417] Trial 0 finished with values: [0.6642955828608015, 0.047172657266691585] and parameters: {'max_depth': 5, 'eta': 0.28557761492382033, 'subsample': 0.9428898533991945, 'colsample_bytree': 0.7190489276592553}.\n",
      "[I 2025-05-16 19:29:18,423] A new study created in memory with name: no-name-14f10800-8055-4178-acfb-73409d678a00\n"
     ]
    },
    {
     "name": "stdout",
     "output_type": "stream",
     "text": [
      "498\n",
      "max_acc: 0.6700134483952297, max_dpd: 0.07780119383333745, min_acc: 0.5000091902473095, min_dpd: 0.0\n",
      "max dist: 1.0771757541325098, acc_dist: 0.9338987292256314, dpd_dist: 0.2264088760653095\n",
      "499\n",
      "max_acc: 0.6700134483952297, max_dpd: 0.07780119383333745, min_acc: 0.5000091902473095, min_dpd: 0.0\n",
      "max dist: 1.0771757541325098, acc_dist: 0.9338987292256314, dpd_dist: 0.2264088760653095\n"
     ]
    },
    {
     "name": "stderr",
     "output_type": "stream",
     "text": [
      "[I 2025-05-16 19:29:18,541] Trial 0 finished with values: [0.663581806986426, 0.036893291584953164] and parameters: {'max_depth': 7, 'eta': 0.2931054837989315, 'subsample': 0.6464602520115516, 'colsample_bytree': 0.6531490027396228}.\n"
     ]
    },
    {
     "name": "stdout",
     "output_type": "stream",
     "text": [
      "Pareto-optimal solutions:\n",
      "Params: {'alpha': 0, 'max_depth': 4, 'eta': 0.23427942936231477, 'subsample': 0.6945965931961444, 'colsample_bytree': 0.6527247741457783}, Accuracy: 0.5000, DPD: 0.0000\n",
      "Params: {'alpha': 0.06, 'max_depth': 6, 'eta': 0.2462887362148314, 'subsample': 0.7148511211224349, 'colsample_bytree': 0.8641681121879333}, Accuracy: 0.6607, DPD: 0.0163\n",
      "Params: {'alpha': 0.06, 'max_depth': 4, 'eta': 0.2047769975940788, 'subsample': 0.6620114429622679, 'colsample_bytree': 0.9637821329925713}, Accuracy: 0.6629, DPD: 0.0185\n",
      "Params: {'alpha': 0.06, 'max_depth': 3, 'eta': 0.22811636933151896, 'subsample': 0.6573898483717654, 'colsample_bytree': 0.9298562002671199}, Accuracy: 0.6622, DPD: 0.0175\n",
      "Params: {'alpha': 0.06, 'max_depth': 3, 'eta': 0.2235453583133459, 'subsample': 0.658487905755447, 'colsample_bytree': 0.9372928122625637}, Accuracy: 0.6614, DPD: 0.0165\n",
      "Params: {'alpha': 0.06, 'max_depth': 3, 'eta': 0.1555700702666115, 'subsample': 0.9851385794665797, 'colsample_bytree': 0.8430517456427415}, Accuracy: 0.6700, DPD: 0.0205\n",
      "Params: {'alpha': 0.06, 'max_depth': 3, 'eta': 0.15712058976821308, 'subsample': 0.9917735024781391, 'colsample_bytree': 0.887604904411694}, Accuracy: 0.6629, DPD: 0.0193\n",
      "Params: {'alpha': 0.06, 'max_depth': 3, 'eta': 0.24507938000146665, 'subsample': 0.8516583687214275, 'colsample_bytree': 0.8353246922838345}, Accuracy: 0.6643, DPD: 0.0199\n"
     ]
    }
   ],
   "source": [
    "# Create and run Optuna study for multi-objective optimization\n",
    "\n",
    "def test_loss(a,dpd,accuracy):\n",
    "    return (1-a)*(1-dpd) + a*accuracy\n",
    "\n",
    "def is_pareto_efficient(acc, dpd):\n",
    "    n_points = len(acc)\n",
    "    is_efficient = [True] * n_points\n",
    "    for i in range(n_points):\n",
    "        for j in range(n_points):\n",
    "            if (acc[j] >= acc[i] and dpd[j] <= dpd[i]) and (acc[j] > acc[i] or dpd[j] < dpd[i]):\n",
    "                is_efficient[i] = False\n",
    "                break\n",
    "    return is_efficient\n",
    "\n",
    "def normalise(value, min_val, max_val):\n",
    "    return (value - min_val) / (max_val - min_val)\n",
    "#adaptive weights based on distance\n",
    "\n",
    "results = []\n",
    "count_alpha = 5\n",
    "trials_per_alpha = 20\n",
    "sampler = optuna.samplers.NSGAIISampler(seed=GLOBAL_SEED)\n",
    "study = optuna.create_study(directions=['maximize', 'minimize'], sampler=sampler)\n",
    "objective = create_objective_function(alpha=0, seed=GLOBAL_SEED)  \n",
    "study.optimize(objective, n_trials=trials_per_alpha)\n",
    "print(f\"Completed study for alpha=0\")\n",
    "max_val = 0\n",
    "for trial in study.best_trials:\n",
    "    val = test_loss(0,trial.values[1],trial.values[0])\n",
    "    if val > max_val:\n",
    "        max_val = val\n",
    "        best_trial = trial\n",
    "results.append({\n",
    "    'accuracy': best_trial.values[0],\n",
    "    'dpd': best_trial.values[1],\n",
    "    'alpha': 0,\n",
    "    'params': best_trial.user_attrs['params']\n",
    "    })\n",
    "study = optuna.create_study(directions=['maximize', 'minimize'], sampler=sampler)\n",
    "objective = create_objective_function(alpha=1, seed=GLOBAL_SEED)  \n",
    "study.optimize(objective, n_trials=trials_per_alpha)\n",
    "print(f\"Completed study for alpha=1\")\n",
    "max_val = 0\n",
    "for trial in study.best_trials:\n",
    "    val = test_loss(1,trial.values[1],trial.values[0])\n",
    "    if val > max_val:\n",
    "        max_val = val\n",
    "        best_trial = trial\n",
    "results.append({\n",
    "    'accuracy': best_trial.values[0],\n",
    "    'dpd': best_trial.values[1],\n",
    "    'alpha': 1,\n",
    "    'params': best_trial.user_attrs['params']\n",
    "})\n",
    "print(results)\n",
    "\n",
    "max_acc = max([res['accuracy'] for res in results])\n",
    "max_dpd = max([res['dpd'] for res in results])\n",
    "min_acc = min([res['accuracy'] for res in results])\n",
    "min_dpd = min([res['dpd'] for res in results])\n",
    "\n",
    "\n",
    "\n",
    "\n",
    "for j in range(count_alpha):\n",
    "    print(j)\n",
    "    \n",
    "    results.sort(key=lambda x: x['alpha'])\n",
    "    max_dist = 0\n",
    "    print(f\"max_acc: {max_acc}, max_dpd: {max_dpd}, min_acc: {min_acc}, min_dpd: {min_dpd}\")\n",
    "    for i in range(len(results)-1):\n",
    "        acc_dist = (normalise(results[i]['accuracy'],min_acc,max_acc)-normalise(results[i+1]['accuracy'],min_acc,max_acc))**2\n",
    "        dpd_dist = (normalise(results[i]['dpd'],min_dpd,max_dpd)-normalise(results[i+1]['dpd'],min_dpd,max_dpd))**2\n",
    "\n",
    "        dist = np.sqrt(acc_dist + dpd_dist)\n",
    "        if dist > max_dist:\n",
    "            max_dist = dist\n",
    "            print(f\"max dist: {max_dist}, acc_dist: {acc_dist}, dpd_dist: {dpd_dist}\")\n",
    "            alpha = (results[i]['alpha']+results[i+1]['alpha'])/2\n",
    "    study = optuna.create_study(directions=['maximize', 'minimize'], sampler=sampler)\n",
    "    objective = create_objective_function(alpha=alpha, seed=GLOBAL_SEED)  \n",
    "    study.optimize(objective, n_trials=trials_per_alpha, )\n",
    "    # print(f\"Completed study for alpha={alpha}\")\n",
    "    max_val = 0\n",
    "    for trial in study.best_trials:\n",
    "        val = test_loss(alpha,trial.values[1],trial.values[0])\n",
    "        if val > max_val:\n",
    "            max_val = val\n",
    "            best_trial = trial\n",
    "        \n",
    "    results.append({\n",
    "        'accuracy': best_trial.values[0],\n",
    "        'dpd': best_trial.values[1],\n",
    "        'alpha': alpha,\n",
    "        'params': best_trial.user_attrs['params']\n",
    "    })\n",
    "    max_acc = max(max_acc, best_trial.values[0])\n",
    "    max_dpd = max(max_dpd, best_trial.values[1])\n",
    "    min_acc = min(min_acc, best_trial.values[0])\n",
    "    min_dpd = min(min_dpd, best_trial.values[1])\n",
    "acc = [res['accuracy'] for res in results]\n",
    "dpd = [res['dpd'] for res in results]\n",
    "is_efficient = is_pareto_efficient(acc, dpd)\n",
    "# Filter results to only include Pareto-optimal solutions\n",
    "results = [res for res, efficient in zip(results, is_efficient) if efficient]\n",
    "    \n",
    "\n",
    "# Print summary of Pareto-optimal results\n",
    "print(\"Pareto-optimal solutions:\")\n",
    "for res in results:\n",
    "    print(f\"Params: {res['params']}, Accuracy: {res['accuracy']:.4f}, DPD: {res['dpd']:.4f}\")\n",
    "\n",
    "# Prepare data for plotting\n",
    "plot_df = pd.DataFrame({\n",
    "    'DPD': [res['dpd'] for res in results],\n",
    "    'Accuracy': [res['accuracy'] for res in results],\n",
    "    'alpha': [res['alpha'] for res in results]\n",
    "})\n",
    "\n"
   ]
  },
  {
   "cell_type": "code",
   "execution_count": 13,
   "metadata": {
    "execution": {
     "iopub.execute_input": "2025-05-16T11:29:41.041675Z",
     "iopub.status.busy": "2025-05-16T11:29:41.041323Z",
     "iopub.status.idle": "2025-05-16T11:29:41.098412Z",
     "shell.execute_reply": "2025-05-16T11:29:41.097572Z",
     "shell.execute_reply.started": "2025-05-16T11:29:41.041646Z"
    },
    "trusted": true
   },
   "outputs": [
    {
     "data": {
      "application/vnd.plotly.v1+json": {
       "config": {
        "plotlyServerURL": "https://plot.ly"
       },
       "data": [
        {
         "customdata": {
          "bdata": "AAAAAAAAAAC4HoXrUbiuP7gehetRuK4/uB6F61G4rj+4HoXrUbiuP7gehetRuK4/uB6F61G4rj+4HoXrUbiuPw==",
          "dtype": "f8",
          "shape": "8, 1"
         },
         "hovertemplate": "DPD=%{x}<br>Accuracy=%{y}<br>alpha=%{marker.color}<extra></extra>",
         "legendgroup": "",
         "marker": {
          "color": {
           "bdata": "AAAAAAAAAAC4HoXrUbiuP7gehetRuK4/uB6F61G4rj+4HoXrUbiuP7gehetRuK4/uB6F61G4rj+4HoXrUbiuPw==",
           "dtype": "f8"
          },
          "coloraxis": "coloraxis",
          "line": {
           "width": 0
          },
          "symbol": "circle"
         },
         "mode": "markers",
         "name": "",
         "orientation": "v",
         "showlegend": false,
         "type": "scatter",
         "x": {
          "bdata": "AAAAAAAAAAC7WdjR17uQPxts5Uhf8ZI/XTRwJfTqkT/zP+caQt2QP+Mxdzzn8JQ/GIGQsL3Hkz8wKSAHCluUPw==",
          "dtype": "f8"
         },
         "xaxis": "x",
         "y": {
          "bdata": "7fj5RRMA4D/+LYvAsiTlPyq+DnE9NuU/Q+LhwWcw5T8NXgymiyrlPzObFwvAcOU/oboLFEc25T/4dWjP6EHlPw==",
          "dtype": "f8"
         },
         "yaxis": "y"
        }
       ],
       "layout": {
        "coloraxis": {
         "colorbar": {
          "title": {
           "text": "alpha"
          }
         },
         "colorscale": [
          [
           0,
           "#440154"
          ],
          [
           0.1111111111111111,
           "#482878"
          ],
          [
           0.2222222222222222,
           "#3e4989"
          ],
          [
           0.3333333333333333,
           "#31688e"
          ],
          [
           0.4444444444444444,
           "#26828e"
          ],
          [
           0.5555555555555556,
           "#1f9e89"
          ],
          [
           0.6666666666666666,
           "#35b779"
          ],
          [
           0.7777777777777778,
           "#6ece58"
          ],
          [
           0.8888888888888888,
           "#b5de2b"
          ],
          [
           1,
           "#fde725"
          ]
         ]
        },
        "legend": {
         "tracegroupgap": 0
        },
        "template": {
         "data": {
          "bar": [
           {
            "error_x": {
             "color": "#2a3f5f"
            },
            "error_y": {
             "color": "#2a3f5f"
            },
            "marker": {
             "line": {
              "color": "#E5ECF6",
              "width": 0.5
             },
             "pattern": {
              "fillmode": "overlay",
              "size": 10,
              "solidity": 0.2
             }
            },
            "type": "bar"
           }
          ],
          "barpolar": [
           {
            "marker": {
             "line": {
              "color": "#E5ECF6",
              "width": 0.5
             },
             "pattern": {
              "fillmode": "overlay",
              "size": 10,
              "solidity": 0.2
             }
            },
            "type": "barpolar"
           }
          ],
          "carpet": [
           {
            "aaxis": {
             "endlinecolor": "#2a3f5f",
             "gridcolor": "white",
             "linecolor": "white",
             "minorgridcolor": "white",
             "startlinecolor": "#2a3f5f"
            },
            "baxis": {
             "endlinecolor": "#2a3f5f",
             "gridcolor": "white",
             "linecolor": "white",
             "minorgridcolor": "white",
             "startlinecolor": "#2a3f5f"
            },
            "type": "carpet"
           }
          ],
          "choropleth": [
           {
            "colorbar": {
             "outlinewidth": 0,
             "ticks": ""
            },
            "type": "choropleth"
           }
          ],
          "contour": [
           {
            "colorbar": {
             "outlinewidth": 0,
             "ticks": ""
            },
            "colorscale": [
             [
              0,
              "#0d0887"
             ],
             [
              0.1111111111111111,
              "#46039f"
             ],
             [
              0.2222222222222222,
              "#7201a8"
             ],
             [
              0.3333333333333333,
              "#9c179e"
             ],
             [
              0.4444444444444444,
              "#bd3786"
             ],
             [
              0.5555555555555556,
              "#d8576b"
             ],
             [
              0.6666666666666666,
              "#ed7953"
             ],
             [
              0.7777777777777778,
              "#fb9f3a"
             ],
             [
              0.8888888888888888,
              "#fdca26"
             ],
             [
              1,
              "#f0f921"
             ]
            ],
            "type": "contour"
           }
          ],
          "contourcarpet": [
           {
            "colorbar": {
             "outlinewidth": 0,
             "ticks": ""
            },
            "type": "contourcarpet"
           }
          ],
          "heatmap": [
           {
            "colorbar": {
             "outlinewidth": 0,
             "ticks": ""
            },
            "colorscale": [
             [
              0,
              "#0d0887"
             ],
             [
              0.1111111111111111,
              "#46039f"
             ],
             [
              0.2222222222222222,
              "#7201a8"
             ],
             [
              0.3333333333333333,
              "#9c179e"
             ],
             [
              0.4444444444444444,
              "#bd3786"
             ],
             [
              0.5555555555555556,
              "#d8576b"
             ],
             [
              0.6666666666666666,
              "#ed7953"
             ],
             [
              0.7777777777777778,
              "#fb9f3a"
             ],
             [
              0.8888888888888888,
              "#fdca26"
             ],
             [
              1,
              "#f0f921"
             ]
            ],
            "type": "heatmap"
           }
          ],
          "histogram": [
           {
            "marker": {
             "pattern": {
              "fillmode": "overlay",
              "size": 10,
              "solidity": 0.2
             }
            },
            "type": "histogram"
           }
          ],
          "histogram2d": [
           {
            "colorbar": {
             "outlinewidth": 0,
             "ticks": ""
            },
            "colorscale": [
             [
              0,
              "#0d0887"
             ],
             [
              0.1111111111111111,
              "#46039f"
             ],
             [
              0.2222222222222222,
              "#7201a8"
             ],
             [
              0.3333333333333333,
              "#9c179e"
             ],
             [
              0.4444444444444444,
              "#bd3786"
             ],
             [
              0.5555555555555556,
              "#d8576b"
             ],
             [
              0.6666666666666666,
              "#ed7953"
             ],
             [
              0.7777777777777778,
              "#fb9f3a"
             ],
             [
              0.8888888888888888,
              "#fdca26"
             ],
             [
              1,
              "#f0f921"
             ]
            ],
            "type": "histogram2d"
           }
          ],
          "histogram2dcontour": [
           {
            "colorbar": {
             "outlinewidth": 0,
             "ticks": ""
            },
            "colorscale": [
             [
              0,
              "#0d0887"
             ],
             [
              0.1111111111111111,
              "#46039f"
             ],
             [
              0.2222222222222222,
              "#7201a8"
             ],
             [
              0.3333333333333333,
              "#9c179e"
             ],
             [
              0.4444444444444444,
              "#bd3786"
             ],
             [
              0.5555555555555556,
              "#d8576b"
             ],
             [
              0.6666666666666666,
              "#ed7953"
             ],
             [
              0.7777777777777778,
              "#fb9f3a"
             ],
             [
              0.8888888888888888,
              "#fdca26"
             ],
             [
              1,
              "#f0f921"
             ]
            ],
            "type": "histogram2dcontour"
           }
          ],
          "mesh3d": [
           {
            "colorbar": {
             "outlinewidth": 0,
             "ticks": ""
            },
            "type": "mesh3d"
           }
          ],
          "parcoords": [
           {
            "line": {
             "colorbar": {
              "outlinewidth": 0,
              "ticks": ""
             }
            },
            "type": "parcoords"
           }
          ],
          "pie": [
           {
            "automargin": true,
            "type": "pie"
           }
          ],
          "scatter": [
           {
            "fillpattern": {
             "fillmode": "overlay",
             "size": 10,
             "solidity": 0.2
            },
            "type": "scatter"
           }
          ],
          "scatter3d": [
           {
            "line": {
             "colorbar": {
              "outlinewidth": 0,
              "ticks": ""
             }
            },
            "marker": {
             "colorbar": {
              "outlinewidth": 0,
              "ticks": ""
             }
            },
            "type": "scatter3d"
           }
          ],
          "scattercarpet": [
           {
            "marker": {
             "colorbar": {
              "outlinewidth": 0,
              "ticks": ""
             }
            },
            "type": "scattercarpet"
           }
          ],
          "scattergeo": [
           {
            "marker": {
             "colorbar": {
              "outlinewidth": 0,
              "ticks": ""
             }
            },
            "type": "scattergeo"
           }
          ],
          "scattergl": [
           {
            "marker": {
             "colorbar": {
              "outlinewidth": 0,
              "ticks": ""
             }
            },
            "type": "scattergl"
           }
          ],
          "scattermap": [
           {
            "marker": {
             "colorbar": {
              "outlinewidth": 0,
              "ticks": ""
             }
            },
            "type": "scattermap"
           }
          ],
          "scattermapbox": [
           {
            "marker": {
             "colorbar": {
              "outlinewidth": 0,
              "ticks": ""
             }
            },
            "type": "scattermapbox"
           }
          ],
          "scatterpolar": [
           {
            "marker": {
             "colorbar": {
              "outlinewidth": 0,
              "ticks": ""
             }
            },
            "type": "scatterpolar"
           }
          ],
          "scatterpolargl": [
           {
            "marker": {
             "colorbar": {
              "outlinewidth": 0,
              "ticks": ""
             }
            },
            "type": "scatterpolargl"
           }
          ],
          "scatterternary": [
           {
            "marker": {
             "colorbar": {
              "outlinewidth": 0,
              "ticks": ""
             }
            },
            "type": "scatterternary"
           }
          ],
          "surface": [
           {
            "colorbar": {
             "outlinewidth": 0,
             "ticks": ""
            },
            "colorscale": [
             [
              0,
              "#0d0887"
             ],
             [
              0.1111111111111111,
              "#46039f"
             ],
             [
              0.2222222222222222,
              "#7201a8"
             ],
             [
              0.3333333333333333,
              "#9c179e"
             ],
             [
              0.4444444444444444,
              "#bd3786"
             ],
             [
              0.5555555555555556,
              "#d8576b"
             ],
             [
              0.6666666666666666,
              "#ed7953"
             ],
             [
              0.7777777777777778,
              "#fb9f3a"
             ],
             [
              0.8888888888888888,
              "#fdca26"
             ],
             [
              1,
              "#f0f921"
             ]
            ],
            "type": "surface"
           }
          ],
          "table": [
           {
            "cells": {
             "fill": {
              "color": "#EBF0F8"
             },
             "line": {
              "color": "white"
             }
            },
            "header": {
             "fill": {
              "color": "#C8D4E3"
             },
             "line": {
              "color": "white"
             }
            },
            "type": "table"
           }
          ]
         },
         "layout": {
          "annotationdefaults": {
           "arrowcolor": "#2a3f5f",
           "arrowhead": 0,
           "arrowwidth": 1
          },
          "autotypenumbers": "strict",
          "coloraxis": {
           "colorbar": {
            "outlinewidth": 0,
            "ticks": ""
           }
          },
          "colorscale": {
           "diverging": [
            [
             0,
             "#8e0152"
            ],
            [
             0.1,
             "#c51b7d"
            ],
            [
             0.2,
             "#de77ae"
            ],
            [
             0.3,
             "#f1b6da"
            ],
            [
             0.4,
             "#fde0ef"
            ],
            [
             0.5,
             "#f7f7f7"
            ],
            [
             0.6,
             "#e6f5d0"
            ],
            [
             0.7,
             "#b8e186"
            ],
            [
             0.8,
             "#7fbc41"
            ],
            [
             0.9,
             "#4d9221"
            ],
            [
             1,
             "#276419"
            ]
           ],
           "sequential": [
            [
             0,
             "#0d0887"
            ],
            [
             0.1111111111111111,
             "#46039f"
            ],
            [
             0.2222222222222222,
             "#7201a8"
            ],
            [
             0.3333333333333333,
             "#9c179e"
            ],
            [
             0.4444444444444444,
             "#bd3786"
            ],
            [
             0.5555555555555556,
             "#d8576b"
            ],
            [
             0.6666666666666666,
             "#ed7953"
            ],
            [
             0.7777777777777778,
             "#fb9f3a"
            ],
            [
             0.8888888888888888,
             "#fdca26"
            ],
            [
             1,
             "#f0f921"
            ]
           ],
           "sequentialminus": [
            [
             0,
             "#0d0887"
            ],
            [
             0.1111111111111111,
             "#46039f"
            ],
            [
             0.2222222222222222,
             "#7201a8"
            ],
            [
             0.3333333333333333,
             "#9c179e"
            ],
            [
             0.4444444444444444,
             "#bd3786"
            ],
            [
             0.5555555555555556,
             "#d8576b"
            ],
            [
             0.6666666666666666,
             "#ed7953"
            ],
            [
             0.7777777777777778,
             "#fb9f3a"
            ],
            [
             0.8888888888888888,
             "#fdca26"
            ],
            [
             1,
             "#f0f921"
            ]
           ]
          },
          "colorway": [
           "#636efa",
           "#EF553B",
           "#00cc96",
           "#ab63fa",
           "#FFA15A",
           "#19d3f3",
           "#FF6692",
           "#B6E880",
           "#FF97FF",
           "#FECB52"
          ],
          "font": {
           "color": "#2a3f5f"
          },
          "geo": {
           "bgcolor": "white",
           "lakecolor": "white",
           "landcolor": "#E5ECF6",
           "showlakes": true,
           "showland": true,
           "subunitcolor": "white"
          },
          "hoverlabel": {
           "align": "left"
          },
          "hovermode": "closest",
          "mapbox": {
           "style": "light"
          },
          "paper_bgcolor": "white",
          "plot_bgcolor": "#E5ECF6",
          "polar": {
           "angularaxis": {
            "gridcolor": "white",
            "linecolor": "white",
            "ticks": ""
           },
           "bgcolor": "#E5ECF6",
           "radialaxis": {
            "gridcolor": "white",
            "linecolor": "white",
            "ticks": ""
           }
          },
          "scene": {
           "xaxis": {
            "backgroundcolor": "#E5ECF6",
            "gridcolor": "white",
            "gridwidth": 2,
            "linecolor": "white",
            "showbackground": true,
            "ticks": "",
            "zerolinecolor": "white"
           },
           "yaxis": {
            "backgroundcolor": "#E5ECF6",
            "gridcolor": "white",
            "gridwidth": 2,
            "linecolor": "white",
            "showbackground": true,
            "ticks": "",
            "zerolinecolor": "white"
           },
           "zaxis": {
            "backgroundcolor": "#E5ECF6",
            "gridcolor": "white",
            "gridwidth": 2,
            "linecolor": "white",
            "showbackground": true,
            "ticks": "",
            "zerolinecolor": "white"
           }
          },
          "shapedefaults": {
           "line": {
            "color": "#2a3f5f"
           }
          },
          "ternary": {
           "aaxis": {
            "gridcolor": "white",
            "linecolor": "white",
            "ticks": ""
           },
           "baxis": {
            "gridcolor": "white",
            "linecolor": "white",
            "ticks": ""
           },
           "bgcolor": "#E5ECF6",
           "caxis": {
            "gridcolor": "white",
            "linecolor": "white",
            "ticks": ""
           }
          },
          "title": {
           "x": 0.05
          },
          "xaxis": {
           "automargin": true,
           "gridcolor": "white",
           "linecolor": "white",
           "ticks": "",
           "title": {
            "standoff": 15
           },
           "zerolinecolor": "white",
           "zerolinewidth": 2
          },
          "yaxis": {
           "automargin": true,
           "gridcolor": "white",
           "linecolor": "white",
           "ticks": "",
           "title": {
            "standoff": 15
           },
           "zerolinecolor": "white",
           "zerolinewidth": 2
          }
         }
        },
        "title": {
         "text": "Pareto Front: DPD vs. Accuracy"
        },
        "xaxis": {
         "anchor": "y",
         "domain": [
          0,
          1
         ],
         "title": {
          "text": "DPD"
         }
        },
        "yaxis": {
         "anchor": "x",
         "domain": [
          0,
          1
         ],
         "title": {
          "text": "Accuracy"
         }
        }
       }
      }
     },
     "metadata": {},
     "output_type": "display_data"
    }
   ],
   "source": [
    "fig = px.scatter(\n",
    "    plot_df,\n",
    "    x='DPD',\n",
    "    y='Accuracy',\n",
    "    color='alpha',\n",
    "    color_continuous_scale='Viridis',\n",
    "    size_max=15,\n",
    "    hover_data={'alpha': True, 'DPD': True, 'Accuracy': True},\n",
    "    title='Pareto Front: DPD vs. Accuracy'\n",
    ")\n",
    "fig.update_traces(marker=dict(line_width=0))\n",
    "fig.show()"
   ]
  },
  {
   "cell_type": "code",
   "execution_count": null,
   "metadata": {
    "trusted": true
   },
   "outputs": [],
   "source": []
  }
 ],
 "metadata": {
  "kaggle": {
   "accelerator": "none",
   "dataSources": [
    {
     "datasetId": 7433253,
     "sourceId": 11832082,
     "sourceType": "datasetVersion"
    }
   ],
   "dockerImageVersionId": 31041,
   "isGpuEnabled": false,
   "isInternetEnabled": true,
   "language": "python",
   "sourceType": "notebook"
  },
  "kernelspec": {
   "display_name": "env",
   "language": "python",
   "name": "python3"
  },
  "language_info": {
   "codemirror_mode": {
    "name": "ipython",
    "version": 3
   },
   "file_extension": ".py",
   "mimetype": "text/x-python",
   "name": "python",
   "nbconvert_exporter": "python",
   "pygments_lexer": "ipython3",
   "version": "3.13.2"
  }
 },
 "nbformat": 4,
 "nbformat_minor": 4
}
